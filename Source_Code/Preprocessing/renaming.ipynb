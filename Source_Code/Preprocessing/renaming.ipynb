{
 "cells": [
  {
   "cell_type": "code",
   "execution_count": 8,
   "metadata": {},
   "outputs": [
    {
     "name": "stdout",
     "output_type": "stream",
     "text": [
      "Copied and renamed: C:\\Users\\k54739\\Today_data\\single_dose_categarized\\RBT 01.14 Day10\\untreated\\B02-T01.tiff -> C:\\Users\\k54739\\Today_data\\Day10_drugscreened&singledose_untreated\\sd_114_B02-T01.tiff\n",
      "Copied and renamed: C:\\Users\\k54739\\Today_data\\single_dose_categarized\\RBT 01.14 Day10\\untreated\\B03-T01.tiff -> C:\\Users\\k54739\\Today_data\\Day10_drugscreened&singledose_untreated\\sd_114_B03-T01.tiff\n",
      "Copied and renamed: C:\\Users\\k54739\\Today_data\\single_dose_categarized\\RBT 01.14 Day10\\untreated\\B04-T01.tiff -> C:\\Users\\k54739\\Today_data\\Day10_drugscreened&singledose_untreated\\sd_114_B04-T01.tiff\n",
      "Copied and renamed: C:\\Users\\k54739\\Today_data\\single_dose_categarized\\RBT 01.14 Day10\\untreated\\B05-T01.tiff -> C:\\Users\\k54739\\Today_data\\Day10_drugscreened&singledose_untreated\\sd_114_B05-T01.tiff\n",
      "Copied and renamed: C:\\Users\\k54739\\Today_data\\single_dose_categarized\\RBT 01.14 Day10\\untreated\\B06-T01.tiff -> C:\\Users\\k54739\\Today_data\\Day10_drugscreened&singledose_untreated\\sd_114_B06-T01.tiff\n",
      "Copied and renamed: C:\\Users\\k54739\\Today_data\\single_dose_categarized\\RBT 01.14 Day10\\untreated\\C02-T01.tiff -> C:\\Users\\k54739\\Today_data\\Day10_drugscreened&singledose_untreated\\sd_114_C02-T01.tiff\n",
      "Copied and renamed: C:\\Users\\k54739\\Today_data\\single_dose_categarized\\RBT 01.14 Day10\\untreated\\C03-T01.tiff -> C:\\Users\\k54739\\Today_data\\Day10_drugscreened&singledose_untreated\\sd_114_C03-T01.tiff\n",
      "Copied and renamed: C:\\Users\\k54739\\Today_data\\single_dose_categarized\\RBT 01.14 Day10\\untreated\\C04-T01.tiff -> C:\\Users\\k54739\\Today_data\\Day10_drugscreened&singledose_untreated\\sd_114_C04-T01.tiff\n",
      "Copied and renamed: C:\\Users\\k54739\\Today_data\\single_dose_categarized\\RBT 01.14 Day10\\untreated\\C05-T01.tiff -> C:\\Users\\k54739\\Today_data\\Day10_drugscreened&singledose_untreated\\sd_114_C05-T01.tiff\n",
      "Copied and renamed: C:\\Users\\k54739\\Today_data\\single_dose_categarized\\RBT 01.14 Day10\\untreated\\C06-T01.tiff -> C:\\Users\\k54739\\Today_data\\Day10_drugscreened&singledose_untreated\\sd_114_C06-T01.tiff\n",
      "Copied and renamed: C:\\Users\\k54739\\Today_data\\single_dose_categarized\\RBT 01.14 Day10\\untreated\\D02-T01.tiff -> C:\\Users\\k54739\\Today_data\\Day10_drugscreened&singledose_untreated\\sd_114_D02-T01.tiff\n",
      "Copied and renamed: C:\\Users\\k54739\\Today_data\\single_dose_categarized\\RBT 01.14 Day10\\untreated\\D03-T01.tiff -> C:\\Users\\k54739\\Today_data\\Day10_drugscreened&singledose_untreated\\sd_114_D03-T01.tiff\n",
      "Copied and renamed: C:\\Users\\k54739\\Today_data\\single_dose_categarized\\RBT 01.14 Day10\\untreated\\D04-T01.tiff -> C:\\Users\\k54739\\Today_data\\Day10_drugscreened&singledose_untreated\\sd_114_D04-T01.tiff\n",
      "Copied and renamed: C:\\Users\\k54739\\Today_data\\single_dose_categarized\\RBT 01.14 Day10\\untreated\\D05-T01.tiff -> C:\\Users\\k54739\\Today_data\\Day10_drugscreened&singledose_untreated\\sd_114_D05-T01.tiff\n",
      "Copied and renamed: C:\\Users\\k54739\\Today_data\\single_dose_categarized\\RBT 01.14 Day10\\untreated\\D06-T01.tiff -> C:\\Users\\k54739\\Today_data\\Day10_drugscreened&singledose_untreated\\sd_114_D06-T01.tiff\n"
     ]
    }
   ],
   "source": [
    "import os\n",
    "import shutil\n",
    "\n",
    "def rename_and_copy_images(input_path, output_path, prefix='sd_114_'):\n",
    "    # Ensure the output directory exists\n",
    "    os.makedirs(output_path, exist_ok=True)\n",
    "    \n",
    "    # Loop through all files in the input directory\n",
    "    for file in os.listdir(input_path):\n",
    "        # Check if the file is a TIFF image\n",
    "        if file.endswith('.tiff'):\n",
    "            # Define the old and new file paths\n",
    "            old_path = os.path.join(input_path, file)\n",
    "            new_filename = prefix + file\n",
    "            new_path = os.path.join(output_path, new_filename)\n",
    "            \n",
    "            # Copy and rename the file to the output directory\n",
    "            shutil.copy(old_path, new_path)\n",
    "            print(f\"Copied and renamed: {old_path} -> {new_path}\")\n",
    "\n",
    "# Example usage\n",
    "input_path = r'C:\\Users\\k54739\\Today_data\\single_dose_categarized\\RBT 01.14 Day10\\untreated'\n",
    "output_path = r'C:\\Users\\k54739\\Today_data\\Day10_drugscreened&singledose_untreated'\n",
    "rename_and_copy_images(input_path, output_path)\n"
   ]
  },
  {
   "cell_type": "code",
   "execution_count": 11,
   "metadata": {},
   "outputs": [],
   "source": [
    "import tifffile as tiff\n",
    "\n",
    "def check_image_layers(image_dir):\n",
    "    # Get all TIFF images in the directory\n",
    "    image_files = [os.path.join(image_dir, file) for file in os.listdir(image_dir) if file.endswith('.tiff')]\n",
    "    \n",
    "    # Loop through each image and check its layers\n",
    "    for img_path in image_files:\n",
    "        image = tiff.imread(img_path)\n",
    "        \n",
    "        # Check if the image has exactly 3 layers (channels)\n",
    "        if image.shape[0] < 3:\n",
    "            print(f\"Warning: Image {img_path} has less than 3 layers. (Found {image.shape[0]} layers)\")\n",
    "\n",
    "# Example usage\n",
    "image_dir = r\"../../Day10_drugscreened&singledose_untreated\"\n",
    "check_image_layers(image_dir)"
   ]
  },
  {
   "cell_type": "code",
   "execution_count": 19,
   "metadata": {},
   "outputs": [],
   "source": [
    "import os\n",
    "import numpy as np\n",
    "import tifffile as tiff\n",
    "\n",
    "def replace_with_3_sharpest_layers(image_dir):\n",
    "    # Get all TIFF images in the directory\n",
    "    image_files = [os.path.join(image_dir, file) for file in os.listdir(image_dir) if file.endswith('.tiff')]\n",
    "    \n",
    "    # Process each image\n",
    "    for img_path in image_files:\n",
    "        # Read the image\n",
    "        image = tiff.imread(img_path)\n",
    "        \n",
    "        # Check the number of layers and dimensions of the image\n",
    "        if image.ndim == 2:  # Image is 2D, likely a single-channel image\n",
    "            print(f\"Warning: Image {img_path} is single-channel (dimensions: {image.shape}).\")\n",
    "            continue  # Skip processing for this image\n",
    "        elif image.shape[0] < 3:  # Fewer than 3 layers\n",
    "            print(f\"Warning: Image {img_path} has less than 3 layers. (Found {image.shape[0]} layers)\")\n",
    "            continue  # Skip processing for this image\n",
    "\n",
    "        # If the image has more than 3 layers, proceed\n",
    "        if image.shape[0] > 3:\n",
    "            print(f\"Processing {img_path} with {image.shape[0]} layers.\")\n",
    "            \n",
    "            # Normalize the 16-bit image to [0, 1] for consistent sharpness calculation\n",
    "            image_normalized = image.astype(np.float32) / 65535.0\n",
    "            \n",
    "            # Calculate sharpness for each layer\n",
    "            sharpness_scores = []\n",
    "            for i in range(image.shape[0]):\n",
    "                layer = image_normalized[i]\n",
    "                gy, gx = np.gradient(layer)  # Compute gradients\n",
    "                gnorm = np.sqrt(gx**2 + gy**2)  # Gradient magnitude\n",
    "                sharpness = np.average(gnorm)  # Average sharpness\n",
    "                sharpness_scores.append((sharpness, i))  # Store with index\n",
    "            \n",
    "            # Sort layers by sharpness score and select the top 3 sharpest layers\n",
    "            sharpest_layers = sorted(sharpness_scores, reverse=True, key=lambda x: x[0])[:3]\n",
    "            top_3_indices = [index for _, index in sharpest_layers]\n",
    "            \n",
    "            # Create a new image with only the 3 sharpest layers\n",
    "            new_image = image[top_3_indices, :, :]\n",
    "            \n",
    "            # Save the new image to replace the original\n",
    "            tiff.imwrite(img_path, new_image.astype(np.uint16))\n",
    "            print(f\"Replaced {img_path} with the 3 sharpest layers.\")\n",
    "\n",
    "# Example usage\n",
    "image_dir = r\"../../Day10_drugscreened&singledose_untreated\"\n",
    "replace_with_3_sharpest_layers(image_dir)\n"
   ]
  },
  {
   "cell_type": "code",
   "execution_count": 16,
   "metadata": {},
   "outputs": [],
   "source": [
    "path = r'C:\\Users\\k54739\\Bibi_new_thesis\\thesis\\Day10_drugscreened&singledose_untreated\\ds_41_E11-T01.tiff'\n",
    "imageds = tiff.imread(path)"
   ]
  },
  {
   "cell_type": "code",
   "execution_count": 17,
   "metadata": {},
   "outputs": [
    {
     "data": {
      "text/plain": [
       "(2054, 2456)"
      ]
     },
     "execution_count": 17,
     "metadata": {},
     "output_type": "execute_result"
    }
   ],
   "source": [
    "imageds.shape"
   ]
  },
  {
   "cell_type": "code",
   "execution_count": null,
   "metadata": {},
   "outputs": [],
   "source": []
  }
 ],
 "metadata": {
  "kernelspec": {
   "display_name": "master",
   "language": "python",
   "name": "python3"
  },
  "language_info": {
   "codemirror_mode": {
    "name": "ipython",
    "version": 3
   },
   "file_extension": ".py",
   "mimetype": "text/x-python",
   "name": "python",
   "nbconvert_exporter": "python",
   "pygments_lexer": "ipython3",
   "version": "3.12.4"
  }
 },
 "nbformat": 4,
 "nbformat_minor": 2
}
