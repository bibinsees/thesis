{
 "cells": [
  {
   "cell_type": "code",
   "execution_count": 8,
   "metadata": {},
   "outputs": [
    {
     "name": "stdout",
     "output_type": "stream",
     "text": [
      "Copied and renamed: C:\\Users\\k54739\\Today_data\\single_dose_categarized\\RBT 01.14 Day10\\untreated\\B02-T01.tiff -> C:\\Users\\k54739\\Today_data\\Day10_drugscreened&singledose_untreated\\sd_114_B02-T01.tiff\n",
      "Copied and renamed: C:\\Users\\k54739\\Today_data\\single_dose_categarized\\RBT 01.14 Day10\\untreated\\B03-T01.tiff -> C:\\Users\\k54739\\Today_data\\Day10_drugscreened&singledose_untreated\\sd_114_B03-T01.tiff\n",
      "Copied and renamed: C:\\Users\\k54739\\Today_data\\single_dose_categarized\\RBT 01.14 Day10\\untreated\\B04-T01.tiff -> C:\\Users\\k54739\\Today_data\\Day10_drugscreened&singledose_untreated\\sd_114_B04-T01.tiff\n",
      "Copied and renamed: C:\\Users\\k54739\\Today_data\\single_dose_categarized\\RBT 01.14 Day10\\untreated\\B05-T01.tiff -> C:\\Users\\k54739\\Today_data\\Day10_drugscreened&singledose_untreated\\sd_114_B05-T01.tiff\n",
      "Copied and renamed: C:\\Users\\k54739\\Today_data\\single_dose_categarized\\RBT 01.14 Day10\\untreated\\B06-T01.tiff -> C:\\Users\\k54739\\Today_data\\Day10_drugscreened&singledose_untreated\\sd_114_B06-T01.tiff\n",
      "Copied and renamed: C:\\Users\\k54739\\Today_data\\single_dose_categarized\\RBT 01.14 Day10\\untreated\\C02-T01.tiff -> C:\\Users\\k54739\\Today_data\\Day10_drugscreened&singledose_untreated\\sd_114_C02-T01.tiff\n",
      "Copied and renamed: C:\\Users\\k54739\\Today_data\\single_dose_categarized\\RBT 01.14 Day10\\untreated\\C03-T01.tiff -> C:\\Users\\k54739\\Today_data\\Day10_drugscreened&singledose_untreated\\sd_114_C03-T01.tiff\n",
      "Copied and renamed: C:\\Users\\k54739\\Today_data\\single_dose_categarized\\RBT 01.14 Day10\\untreated\\C04-T01.tiff -> C:\\Users\\k54739\\Today_data\\Day10_drugscreened&singledose_untreated\\sd_114_C04-T01.tiff\n",
      "Copied and renamed: C:\\Users\\k54739\\Today_data\\single_dose_categarized\\RBT 01.14 Day10\\untreated\\C05-T01.tiff -> C:\\Users\\k54739\\Today_data\\Day10_drugscreened&singledose_untreated\\sd_114_C05-T01.tiff\n",
      "Copied and renamed: C:\\Users\\k54739\\Today_data\\single_dose_categarized\\RBT 01.14 Day10\\untreated\\C06-T01.tiff -> C:\\Users\\k54739\\Today_data\\Day10_drugscreened&singledose_untreated\\sd_114_C06-T01.tiff\n",
      "Copied and renamed: C:\\Users\\k54739\\Today_data\\single_dose_categarized\\RBT 01.14 Day10\\untreated\\D02-T01.tiff -> C:\\Users\\k54739\\Today_data\\Day10_drugscreened&singledose_untreated\\sd_114_D02-T01.tiff\n",
      "Copied and renamed: C:\\Users\\k54739\\Today_data\\single_dose_categarized\\RBT 01.14 Day10\\untreated\\D03-T01.tiff -> C:\\Users\\k54739\\Today_data\\Day10_drugscreened&singledose_untreated\\sd_114_D03-T01.tiff\n",
      "Copied and renamed: C:\\Users\\k54739\\Today_data\\single_dose_categarized\\RBT 01.14 Day10\\untreated\\D04-T01.tiff -> C:\\Users\\k54739\\Today_data\\Day10_drugscreened&singledose_untreated\\sd_114_D04-T01.tiff\n",
      "Copied and renamed: C:\\Users\\k54739\\Today_data\\single_dose_categarized\\RBT 01.14 Day10\\untreated\\D05-T01.tiff -> C:\\Users\\k54739\\Today_data\\Day10_drugscreened&singledose_untreated\\sd_114_D05-T01.tiff\n",
      "Copied and renamed: C:\\Users\\k54739\\Today_data\\single_dose_categarized\\RBT 01.14 Day10\\untreated\\D06-T01.tiff -> C:\\Users\\k54739\\Today_data\\Day10_drugscreened&singledose_untreated\\sd_114_D06-T01.tiff\n"
     ]
    }
   ],
   "source": [
    "import os\n",
    "import shutil\n",
    "\n",
    "def rename_and_copy_images(input_path, output_path, prefix='sd_114_'):\n",
    "    # Ensure the output directory exists\n",
    "    os.makedirs(output_path, exist_ok=True)\n",
    "    \n",
    "    # Loop through all files in the input directory\n",
    "    for file in os.listdir(input_path):\n",
    "        # Check if the file is a TIFF image\n",
    "        if file.endswith('.tiff'):\n",
    "            # Define the old and new file paths\n",
    "            old_path = os.path.join(input_path, file)\n",
    "            new_filename = prefix + file\n",
    "            new_path = os.path.join(output_path, new_filename)\n",
    "            \n",
    "            # Copy and rename the file to the output directory\n",
    "            shutil.copy(old_path, new_path)\n",
    "            print(f\"Copied and renamed: {old_path} -> {new_path}\")\n",
    "\n",
    "# Example usage\n",
    "input_path = r'C:\\Users\\k54739\\Today_data\\single_dose_categarized\\RBT 01.14 Day10\\untreated'\n",
    "output_path = r'C:\\Users\\k54739\\Today_data\\Day10_drugscreened&singledose_untreated'\n",
    "rename_and_copy_images(input_path, output_path)\n"
   ]
  },
  {
   "cell_type": "code",
   "execution_count": null,
   "metadata": {},
   "outputs": [],
   "source": []
  }
 ],
 "metadata": {
  "kernelspec": {
   "display_name": "master",
   "language": "python",
   "name": "python3"
  },
  "language_info": {
   "codemirror_mode": {
    "name": "ipython",
    "version": 3
   },
   "file_extension": ".py",
   "mimetype": "text/x-python",
   "name": "python",
   "nbconvert_exporter": "python",
   "pygments_lexer": "ipython3",
   "version": "3.12.4"
  }
 },
 "nbformat": 4,
 "nbformat_minor": 2
}
