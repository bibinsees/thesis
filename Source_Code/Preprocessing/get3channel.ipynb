{
 "cells": [
  {
   "cell_type": "code",
   "execution_count": 1,
   "metadata": {},
   "outputs": [],
   "source": [
    "import os\n",
    "import numpy as np\n",
    "import tifffile as tiff"
   ]
  },
  {
   "cell_type": "code",
   "execution_count": 3,
   "metadata": {},
   "outputs": [],
   "source": [
    "\n",
    "\n",
    "def replace_with_3_sharpest_layers(image_dir):\n",
    "    # Traverse all directories and subdirectories\n",
    "    for root, _, files in os.walk(image_dir):\n",
    "        for file in files:\n",
    "            if file.lower().endswith(('.tiff', '.tif')):  # Check for TIFF and TIF files\n",
    "                img_path = os.path.join(root, file)\n",
    "                \n",
    "                # Read the image\n",
    "                image = tiff.imread(img_path)\n",
    "                \n",
    "                # Handle 2D grayscale images\n",
    "                if len(image.shape) == 2:\n",
    "                    print(f\"Image {img_path} is a 2D grayscale image (shape: {image.shape}).\")\n",
    "                    \n",
    "                    # Convert to 3-channel by duplicating the grayscale image\n",
    "                    three_channel_image = np.stack([image] * 3, axis=0)  # Creates (3, H, W)\n",
    "                    \n",
    "                    # Save the 3-channel image to replace the original\n",
    "                    tiff.imwrite(img_path, three_channel_image.astype(image.dtype))\n",
    "                    print(f\"Replaced {img_path} with a 3-channel image.\")\n",
    "                    continue\n",
    "                \n",
    "                # Handle images with fewer than 3 layers\n",
    "                if image.ndim > 2 and image.shape[0] < 3:\n",
    "                    print(f\"Warning: Image {img_path} has less than 3 layers. (Found {image.shape[0]} layers)\")\n",
    "                    break  # Skip processing for this image\n",
    "\n",
    "                # If the image has more than 3 layers, proceed\n",
    "                if image.ndim > 2 and image.shape[0] > 3:\n",
    "                    print(f\"Processing {img_path} with {image.shape[0]} layers.\")\n",
    "                    \n",
    "                    # Normalize the 16-bit image to [0, 1] for consistent sharpness calculation\n",
    "                    image_normalized = image.astype(np.float32) / 65535.0\n",
    "                    \n",
    "                    # Calculate sharpness for each layer\n",
    "                    sharpness_scores = []\n",
    "                    for i in range(image.shape[0]):\n",
    "                        layer = image_normalized[i]\n",
    "                        gy, gx = np.gradient(layer)  # Compute gradients\n",
    "                        gnorm = np.sqrt(gx**2 + gy**2)  # Gradient magnitude\n",
    "                        sharpness = np.average(gnorm)  # Average sharpness\n",
    "                        sharpness_scores.append((sharpness, i))  # Store with index\n",
    "                    \n",
    "                    # Sort layers by sharpness score and select the top 3 sharpest layers\n",
    "                    sharpest_layers = sorted(sharpness_scores, reverse=True, key=lambda x: x[0])[:3]\n",
    "                    top_3_indices = [index for _, index in sharpest_layers]\n",
    "                    \n",
    "                    # Create a new image with only the 3 sharpest layers\n",
    "                    new_image = image[top_3_indices, :, :]\n",
    "                    \n",
    "                    # Save the new image to replace the original\n",
    "                    tiff.imwrite(img_path, new_image.astype(np.uint16))\n",
    "                    print(f\"Replaced {img_path} with the 3 sharpest layers.\")\n",
    "\n",
    "# Example usage\n",
    "image_dir = r\"C:\\Users\\k54739\\Today_data\\segmentation\\test_img\"\n",
    "replace_with_3_sharpest_layers(image_dir)\n"
   ]
  },
  {
   "cell_type": "code",
   "execution_count": 3,
   "metadata": {},
   "outputs": [
    {
     "name": "stdout",
     "output_type": "stream",
     "text": [
      "The sharpest layer is at index: 3\n"
     ]
    }
   ],
   "source": [
    "import numpy as np\n",
    "import tifffile as tiff\n",
    "\n",
    "# Read the image\n",
    "image = tiff.imread(r\"C:\\Users\\k54739\\Today_data\\time_prediction\\Day10today10Normal\\Day10_drugscreened&singledose_untreated\\ds_41_D07-T01.tiff\")\n",
    "\n",
    "# Normalize the 16-bit image to [0, 1] for consistent sharpness calculation\n",
    "image_normalized = image.astype(np.float32) / 65535.0\n",
    "\n",
    "# Calculate sharpness for each layer\n",
    "sharpness_scores = []\n",
    "for i in range(image.shape[0]):\n",
    "    layer = image_normalized[i]\n",
    "    gy, gx = np.gradient(layer)  # Compute gradients\n",
    "    gnorm = np.sqrt(gx**2 + gy**2)  # Gradient magnitude\n",
    "    sharpness = np.average(gnorm)  # Average sharpness\n",
    "    sharpness_scores.append((sharpness, i))  # Store with index\n",
    "\n",
    "# Find the layer with the highest sharpness score\n",
    "sharpest_layer = max(sharpness_scores, key=lambda x: x[0])\n",
    "sharpest_index = sharpest_layer[1]  # Index of the sharpest layer\n",
    "\n",
    "# Extract the sharpest layer\n",
    "sharpest_image = image[sharpest_index]\n",
    "\n",
    "print(f\"The sharpest layer is at index: {sharpest_index}\")\n"
   ]
  },
  {
   "cell_type": "code",
   "execution_count": 19,
   "metadata": {},
   "outputs": [
    {
     "name": "stdout",
     "output_type": "stream",
     "text": [
      "Top 3 sharpest layers:\n",
      "Rank 1: Layer index 0 with sharpness score 0.010400\n",
      "Rank 2: Layer index 1 with sharpness score 0.010206\n",
      "Rank 3: Layer index 2 with sharpness score 0.010028\n"
     ]
    }
   ],
   "source": [
    "import numpy as np\n",
    "import tifffile as tiff\n",
    "\n",
    "# Read the image\n",
    "image = tiff.imread(r\"C:\\Users\\k54739\\Today_data\\time_prediction\\Day10today10Normal\\Day10_drugscreened&singledose_untreated\\ds_41_D10-T01.tiff\")\n",
    "\n",
    "# Normalize the 16-bit image to [0, 1] for consistent sharpness calculation\n",
    "image_normalized = image.astype(np.float32) / 65535.0\n",
    "\n",
    "# Calculate sharpness for each layer\n",
    "sharpness_scores = []\n",
    "for i in range(image.shape[0]):\n",
    "    layer = image_normalized[i]\n",
    "    gy, gx = np.gradient(layer)  # Compute gradients\n",
    "    gnorm = np.sqrt(gx**2 + gy**2)  # Gradient magnitude\n",
    "    sharpness = np.average(gnorm)  # Average sharpness\n",
    "    sharpness_scores.append((sharpness, i))  # Store with index\n",
    "\n",
    "# Sort the sharpness scores in descending order\n",
    "sharpness_scores_sorted = sorted(sharpness_scores, key=lambda x: x[0], reverse=True)\n",
    "\n",
    "# Get the top 3 sharpest layers\n",
    "top_3_sharpest = sharpness_scores_sorted[:3]\n",
    "\n",
    "# Extract and print the indices of the top 3 sharpest layers\n",
    "print(\"Top 3 sharpest layers:\")\n",
    "for rank, (sharpness, index) in enumerate(top_3_sharpest, start=1):\n",
    "    print(f\"Rank {rank}: Layer index {index} with sharpness score {sharpness:.6f}\")\n",
    "\n",
    "# Extract the top 3 sharpest layers\n",
    "#top_3_layers = [image[index] for _, index in top_3_sharpest]\n",
    "\n",
    "# Optionally, you can save the top 3 sharpest layers as a new TIFF file\n",
    "#top_3_image = np.stack(top_3_layers, axis=0)\n",
    "#tiff.imwrite(r'C:\\path\\to\\save\\top_3_sharpest_layers.tiff', top_3_image)\n",
    "\n",
    "#print(\"Saved the top 3 sharpest layers as 'top_3_sharpest_layers.tiff'.\")\n"
   ]
  },
  {
   "cell_type": "code",
   "execution_count": 14,
   "metadata": {},
   "outputs": [
    {
     "name": "stdout",
     "output_type": "stream",
     "text": [
      "Aligned image has been saved as 'aligned_image.tiff'.\n"
     ]
    }
   ],
   "source": [
    "import cv2\n",
    "import numpy as np\n",
    "import tifffile\n",
    "\n",
    "# Function to align a target channel to the reference channel\n",
    "def align_image(ref_image, target_image):\n",
    "    # Convert images to 8-bit for better feature detection\n",
    "    ref_image_8bit = cv2.normalize(ref_image, None, 0, 255, cv2.NORM_MINMAX, cv2.CV_8U)\n",
    "    target_image_8bit = cv2.normalize(target_image, None, 0, 255, cv2.NORM_MINMAX, cv2.CV_8U)\n",
    "\n",
    "    # Find keypoints and descriptors using ORB\n",
    "    orb = cv2.ORB_create()\n",
    "    kp1, des1 = orb.detectAndCompute(ref_image_8bit, None)\n",
    "    kp2, des2 = orb.detectAndCompute(target_image_8bit, None)\n",
    "\n",
    "    # Match descriptors using brute-force matcher\n",
    "    bf = cv2.BFMatcher(cv2.NORM_HAMMING, crossCheck=True)\n",
    "    matches = bf.match(des1, des2)\n",
    "    matches = sorted(matches, key=lambda x: x.distance)\n",
    "\n",
    "    # Extract matching keypoints\n",
    "    src_pts = np.float32([kp1[m.queryIdx].pt for m in matches]).reshape(-1, 1, 2)\n",
    "    dst_pts = np.float32([kp2[m.trainIdx].pt for m in matches]).reshape(-1, 1, 2)\n",
    "\n",
    "    # Compute the affine transformation matrix\n",
    "    matrix, _ = cv2.estimateAffinePartial2D(dst_pts, src_pts)\n",
    "\n",
    "    # Warp the target image to align with the reference image\n",
    "    aligned_image = cv2.warpAffine(target_image, matrix, (ref_image.shape[1], ref_image.shape[0]))\n",
    "    return aligned_image\n",
    "\n",
    "# Load the multi-channel TIFF image using tifffile (this supports 5 channels)\n",
    "image = tifffile.imread(r\"C:\\Users\\k54739\\Today_data\\time_prediction\\Day10today10Normal\\ds_41_D08-T01.tiff\")\n",
    "\n",
    "# Ensure the image has 5 channels (e.g., 5 layers)\n",
    "if image.shape[0] == 5:\n",
    "    # Split the image into its 5 channels (each channel will be a 2D array)\n",
    "    channels = [image[i] for i in range(5)]\n",
    "else:\n",
    "    print(\"Error: The image does not have 5 channels.\")\n",
    "    exit()\n",
    "\n",
    "# Reference channel (e.g., the first channel)\n",
    "ref_channel = channels[0]\n",
    "\n",
    "# Align all other channels to the reference channel\n",
    "aligned_channels = [ref_channel]  # Start with the reference channel\n",
    "for i in range(1, len(channels)):\n",
    "    aligned_channel = align_image(ref_channel, channels[i])\n",
    "    aligned_channels.append(aligned_channel)\n",
    "\n",
    "# Stack the aligned channels into a single 5-channel image\n",
    "aligned_image = np.stack(aligned_channels, axis=0)\n",
    "\n",
    "# Save the aligned image as a TIFF file\n",
    "tifffile.imwrite(r'C:\\Users\\k54739\\Today_data\\time_prediction\\Day10today10Normal\\aligned_imaged.tiff', aligned_image)\n",
    "\n",
    "print(\"Aligned image has been saved as 'aligned_image.tiff'.\")\n"
   ]
  },
  {
   "cell_type": "code",
   "execution_count": 8,
   "metadata": {},
   "outputs": [],
   "source": [
    "image = cv2.imread(r\"C:\\Users\\k54739\\Today_data\\time_prediction\\Day10today10Normal\\Day10_drugscreened&singledose_untreated\\ds_41_D07-T01.tiff\", cv2.IMREAD_UNCHANGED)"
   ]
  },
  {
   "cell_type": "code",
   "execution_count": 9,
   "metadata": {},
   "outputs": [
    {
     "data": {
      "text/plain": [
       "(2054, 2456)"
      ]
     },
     "execution_count": 9,
     "metadata": {},
     "output_type": "execute_result"
    }
   ],
   "source": [
    "image.shape"
   ]
  },
  {
   "cell_type": "code",
   "execution_count": 10,
   "metadata": {},
   "outputs": [],
   "source": [
    "import tifffile as tiff"
   ]
  },
  {
   "cell_type": "code",
   "execution_count": 11,
   "metadata": {},
   "outputs": [],
   "source": [
    "image = tiff.imread(r\"C:\\Users\\k54739\\Today_data\\time_prediction\\Day10today10Normal\\Day10_drugscreened&singledose_untreated\\ds_41_D07-T01.tiff\")"
   ]
  },
  {
   "cell_type": "code",
   "execution_count": 12,
   "metadata": {},
   "outputs": [
    {
     "data": {
      "text/plain": [
       "(5, 2054, 2456)"
      ]
     },
     "execution_count": 12,
     "metadata": {},
     "output_type": "execute_result"
    }
   ],
   "source": [
    "image.shape"
   ]
  },
  {
   "cell_type": "markdown",
   "metadata": {},
   "source": [
    "# this didn't worl properly\n",
    "\n",
    "\n",
    "\n",
    "import numpy as np\n",
    "import tifffile\n",
    "from skimage.metrics import structural_similarity as ssim\n",
    "\n",
    "# Function to calculate alignment score (similarity) between two channels\n",
    "def calculate_similarity(ref_channel, target_channel):\n",
    "    # Normalize channels to 8-bit for consistency in metrics\n",
    "    ref_channel_8bit = cv2.normalize(ref_channel, None, 0, 255, cv2.NORM_MINMAX, cv2.CV_8U)\n",
    "    target_channel_8bit = cv2.normalize(target_channel, None, 0, 255, cv2.NORM_MINMAX, cv2.CV_8U)\n",
    "    \n",
    "    # Compute SSIM (Structural Similarity Index)\n",
    "    score, _ = ssim(ref_channel_8bit, target_channel_8bit, full=True)\n",
    "    return score\n",
    "\n",
    "# Load the multi-channel TIFF image using tifffile\n",
    "image = tifffile.imread(r\"C:\\Users\\k54739\\Today_data\\time_prediction\\Day10today10Normal\\ds_41_D08-T01.tiff\")\n",
    "\n",
    "# Ensure the image has 5 channels\n",
    "if image.shape[0] != 5:\n",
    "    print(\"Error: The image does not have 5 channels.\")\n",
    "    exit()\n",
    "\n",
    "# Split the image into its 5 channels (each channel is a 2D array)\n",
    "channels = [image[i] for i in range(5)]\n",
    "\n",
    "# Reference channel (e.g., the first channel)\n",
    "ref_channel = channels[0]\n",
    "\n",
    "# Compute similarity scores between the reference channel and other channels\n",
    "similarity_scores = []\n",
    "for i, channel in enumerate(channels):\n",
    "    score = calculate_similarity(ref_channel, channel)\n",
    "    similarity_scores.append((i, score))\n",
    "\n",
    "# Sort channels by similarity score in descending order\n",
    "sorted_scores = sorted(similarity_scores, key=lambda x: x[1], reverse=True)\n",
    "\n",
    "# Select the indices of the top 3 channels based on similarity scores\n",
    "top_indices = [index for index, _ in sorted_scores[:3]]\n",
    "top_channels = [channels[i] for i in top_indices]\n",
    "\n",
    "# Stack the selected channels into a single 3-channel image\n",
    "selected_image = np.stack(top_channels, axis=0)\n",
    "\n",
    "# Save the selected channels as a new TIFF file\n",
    "tifffile.imwrite(\n",
    "    r'C:\\Users\\k54739\\Today_data\\time_prediction\\Day10today10Normal\\selected_image.tiff', \n",
    "    selected_image, \n",
    "    photometric='minisblack'  # Ensures the multi-channel image is saved correctly\n",
    ")\n",
    "\n",
    "print(f\"Saved the selected 3 channels as 'selected_image.tiff'. Selected channel indices: {top_indices}\")\n"
   ]
  },
  {
   "cell_type": "code",
   "execution_count": null,
   "metadata": {},
   "outputs": [],
   "source": []
  }
 ],
 "metadata": {
  "kernelspec": {
   "display_name": "master",
   "language": "python",
   "name": "python3"
  },
  "language_info": {
   "codemirror_mode": {
    "name": "ipython",
    "version": 3
   },
   "file_extension": ".py",
   "mimetype": "text/x-python",
   "name": "python",
   "nbconvert_exporter": "python",
   "pygments_lexer": "ipython3",
   "version": "3.12.4"
  }
 },
 "nbformat": 4,
 "nbformat_minor": 2
}
