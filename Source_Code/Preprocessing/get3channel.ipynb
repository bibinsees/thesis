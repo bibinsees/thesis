{
 "cells": [
  {
   "cell_type": "code",
   "execution_count": 1,
   "metadata": {},
   "outputs": [],
   "source": [
    "import os\n",
    "import numpy as np\n",
    "import tifffile as tiff"
   ]
  },
  {
   "cell_type": "code",
   "execution_count": 3,
   "metadata": {},
   "outputs": [],
   "source": [
    "\n",
    "\n",
    "def replace_with_3_sharpest_layers(image_dir):\n",
    "    # Traverse all directories and subdirectories\n",
    "    for root, _, files in os.walk(image_dir):\n",
    "        for file in files:\n",
    "            if file.lower().endswith(('.tiff', '.tif')):  # Check for TIFF and TIF files\n",
    "                img_path = os.path.join(root, file)\n",
    "                \n",
    "                # Read the image\n",
    "                image = tiff.imread(img_path)\n",
    "                \n",
    "                # Handle 2D grayscale images\n",
    "                if len(image.shape) == 2:\n",
    "                    print(f\"Image {img_path} is a 2D grayscale image (shape: {image.shape}).\")\n",
    "                    \n",
    "                    # Convert to 3-channel by duplicating the grayscale image\n",
    "                    three_channel_image = np.stack([image] * 3, axis=0)  # Creates (3, H, W)\n",
    "                    \n",
    "                    # Save the 3-channel image to replace the original\n",
    "                    tiff.imwrite(img_path, three_channel_image.astype(image.dtype))\n",
    "                    print(f\"Replaced {img_path} with a 3-channel image.\")\n",
    "                    continue\n",
    "                \n",
    "                # Handle images with fewer than 3 layers\n",
    "                if image.ndim > 2 and image.shape[0] < 3:\n",
    "                    print(f\"Warning: Image {img_path} has less than 3 layers. (Found {image.shape[0]} layers)\")\n",
    "                    break  # Skip processing for this image\n",
    "\n",
    "                # If the image has more than 3 layers, proceed\n",
    "                if image.ndim > 2 and image.shape[0] > 3:\n",
    "                    print(f\"Processing {img_path} with {image.shape[0]} layers.\")\n",
    "                    \n",
    "                    # Normalize the 16-bit image to [0, 1] for consistent sharpness calculation\n",
    "                    image_normalized = image.astype(np.float32) / 65535.0\n",
    "                    \n",
    "                    # Calculate sharpness for each layer\n",
    "                    sharpness_scores = []\n",
    "                    for i in range(image.shape[0]):\n",
    "                        layer = image_normalized[i]\n",
    "                        gy, gx = np.gradient(layer)  # Compute gradients\n",
    "                        gnorm = np.sqrt(gx**2 + gy**2)  # Gradient magnitude\n",
    "                        sharpness = np.average(gnorm)  # Average sharpness\n",
    "                        sharpness_scores.append((sharpness, i))  # Store with index\n",
    "                    \n",
    "                    # Sort layers by sharpness score and select the top 3 sharpest layers\n",
    "                    sharpest_layers = sorted(sharpness_scores, reverse=True, key=lambda x: x[0])[:3]\n",
    "                    top_3_indices = [index for _, index in sharpest_layers]\n",
    "                    \n",
    "                    # Create a new image with only the 3 sharpest layers\n",
    "                    new_image = image[top_3_indices, :, :]\n",
    "                    \n",
    "                    # Save the new image to replace the original\n",
    "                    tiff.imwrite(img_path, new_image.astype(np.uint16))\n",
    "                    print(f\"Replaced {img_path} with the 3 sharpest layers.\")\n",
    "\n",
    "# Example usage\n",
    "image_dir = r\"C:\\Users\\k54739\\Today_data\\segmentation\\test_img\"\n",
    "replace_with_3_sharpest_layers(image_dir)\n"
   ]
  },
  {
   "cell_type": "code",
   "execution_count": null,
   "metadata": {},
   "outputs": [],
   "source": []
  }
 ],
 "metadata": {
  "kernelspec": {
   "display_name": "master",
   "language": "python",
   "name": "python3"
  },
  "language_info": {
   "codemirror_mode": {
    "name": "ipython",
    "version": 3
   },
   "file_extension": ".py",
   "mimetype": "text/x-python",
   "name": "python",
   "nbconvert_exporter": "python",
   "pygments_lexer": "ipython3",
   "version": "3.12.4"
  }
 },
 "nbformat": 4,
 "nbformat_minor": 2
}
