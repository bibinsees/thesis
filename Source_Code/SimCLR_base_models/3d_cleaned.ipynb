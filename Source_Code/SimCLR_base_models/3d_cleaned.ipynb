{
 "cells": [
  {
   "cell_type": "markdown",
   "metadata": {},
   "source": [
    "# Pretrained model weights are not frozen it changes during training\n",
    " unless  explicitly set them to requires_grad=False\n",
    " \n",
    " #Freeze the pretrained layers\n",
    "        for param in self.convnet.parameters():\n",
    "            param.requires_grad = False"
   ]
  },
  {
   "cell_type": "code",
   "execution_count": 1,
   "metadata": {},
   "outputs": [],
   "source": [
    "import os\n",
    "import numpy as np\n",
    "import torch\n",
    "from torch import nn, optim\n",
    "from torch.utils.data import Dataset, DataLoader, random_split\n",
    "import torchvision\n",
    "from torchvision import transforms\n",
    "\n",
    "import tifffile as tiff\n",
    "import matplotlib.pyplot as plt\n",
    "import time\n",
    "from tqdm import tqdm\n",
    "import random\n",
    "from helper import set_seed"
   ]
  },
  {
   "cell_type": "code",
   "execution_count": 2,
   "metadata": {},
   "outputs": [],
   "source": [
    "# Set seed for reproducibility\n",
    "def set_seed(seed):\n",
    "    random.seed(seed)\n",
    "    np.random.seed(seed)\n",
    "    torch.manual_seed(seed)\n",
    "    if torch.cuda.is_available():\n",
    "        torch.cuda.manual_seed(seed)\n",
    "        torch.cuda.manual_seed_all(seed)\n",
    "    torch.backends.cudnn.deterministic = True\n",
    "    torch.backends.cudnn.benchmark = False\n",
    "\n",
    "# Set seed\n",
    "set_seed(42)"
   ]
  },
  {
   "cell_type": "code",
   "execution_count": 3,
   "metadata": {},
   "outputs": [],
   "source": [
    "# Custom Dataset class\n",
    "class ImageDataset(Dataset):\n",
    "    def __init__(self, image_dir, transform=None):\n",
    "        self.image_dir = image_dir\n",
    "        self.transform = transform\n",
    "        self.image_files = [os.path.join(image_dir, file) for file in os.listdir(image_dir) if file.endswith('.tiff')]\n",
    "        #we don't need to resize into 96*96 because we are doing that in below contrastive transform (self.resize_transform = transforms.resize((96,96)))\n",
    "    def __len__(self):\n",
    "        return len(self.image_files)\n",
    "\n",
    "    def __getitem__(self, idx):\n",
    "        img_path = self.image_files[idx]\n",
    "        image = tiff.imread(img_path)\n",
    "\n",
    "        # Ensure the image has 3 layers (channels)\n",
    "        if image.shape[0] != 3:\n",
    "            raise ValueError(f\"Image {img_path} does not have exactly 3 layers.\")\n",
    "        \n",
    "        # Normalize the 16-bit image to [0, 1]\n",
    "        image = image.astype(np.float32) / 65535.0\n",
    "        \n",
    "        # Convert to a torch tensor\n",
    "        image = torch.tensor(image, dtype=torch.float32)\n",
    "        \n",
    "        if self.transform:\n",
    "            image1 = self.transform(image)\n",
    "            image2 = self.transform(image)\n",
    "        return image1, image2\n",
    "\n",
    "# Data augmentation similar to the tutorial\n",
    "contrast_transforms = transforms.Compose([\n",
    "    transforms.RandomHorizontalFlip(),\n",
    "    transforms.RandomResizedCrop(size=96),\n",
    "    transforms.RandomApply([transforms.ColorJitter(brightness=0.5, contrast=0.5, saturation=0.5, hue=0.1)], p=0.8),\n",
    "    transforms.RandomGrayscale(p=0.2),\n",
    "    transforms.GaussianBlur(kernel_size=9),\n",
    "    #transforms.Normalize(mean=mean, std=std) #Dataset specific normalisation\n",
    "    transforms.Normalize(mean=[0.5, 0.5, 0.5], std=[0.5, 0.5, 0.5]) #When you are using pre-trained models that expect inputs normalized with specific values.\n",
    "])\n",
    "\n",
    "# Create the dataset\n",
    "image_dir = r\"../../tiff_experiment_unsupervised_data/combined\"\n",
    "\n",
    "dataset = ImageDataset(image_dir=image_dir, transform=contrast_transforms)\n",
    "batch_size = 16\n",
    "\n",
    "# Function to split dataset with explicit percentage\n",
    "def split_dataset(dataset, val_percentage):\n",
    "    val_size = int(len(dataset) * val_percentage)\n",
    "    train_size = len(dataset) - val_size\n",
    "    return random_split(dataset, [train_size, val_size])\n",
    "\n",
    "# Split the dataset with 20% for validation\n",
    "val_percentage = 0.2\n",
    "train_dataset, val_dataset = split_dataset(dataset, val_percentage)\n",
    "\n",
    "# Define DataLoaders\n",
    "train_loader = DataLoader(train_dataset, batch_size=batch_size, shuffle=True, drop_last=False, pin_memory=True, num_workers=0) #num_workers=os.cpu count() using cluster gpu\n",
    "val_loader = DataLoader(val_dataset, batch_size=batch_size, shuffle=False, drop_last=False, pin_memory=True, num_workers=0)"
   ]
  },
  {
   "cell_type": "markdown",
   "metadata": {},
   "source": [
    "Dataset specific normalisation: Normalise using computed mean and std of our special dataset instead of just mean = 0.5,std =0.5"
   ]
  },
  {
   "cell_type": "markdown",
   "metadata": {},
   "source": [
    "def compute_mean_std(dataloader):\n",
    "    mean = 0.\n",
    "    std = 0.\n",
    "    nb_samples = 0.\n",
    "    for images, _ in dataloader:\n",
    "        batch_samples = images.size(0)  # batch size (the last batch can have smaller size)\n",
    "        images = images.view(batch_samples, images.size(1), -1)  # reshape to (N, C, H*W)\n",
    "        mean += images.mean(2).mean(0)  # calculate mean per channel\n",
    "        std += images.std(2).std(0)  # calculate std per channel\n",
    "        nb_samples += batch_samples\n",
    "    \n",
    "    mean /= nb_samples\n",
    "    std /= nb_samples\n",
    "    return mean, std\n"
   ]
  },
  {
   "cell_type": "markdown",
   "metadata": {},
   "source": [
    "mean,std = compute_mean_std(train_loader)\n",
    "print(mean)\n",
    "print(std)"
   ]
  },
  {
   "cell_type": "code",
   "execution_count": 4,
   "metadata": {},
   "outputs": [
    {
     "name": "stdout",
     "output_type": "stream",
     "text": [
      "Batch 0:\n",
      "  Image1: torch.Size([16, 3, 96, 96])\n",
      "  Image2: torch.Size([16, 3, 96, 96])\n"
     ]
    },
    {
     "data": {
      "image/png": "[encoded data removed]",
      "text/plain": [
       "<Figure size 640x480 with 1 Axes>"
      ]
     },
     "metadata": {},
     "output_type": "display_data"
    }
   ],
   "source": [
    "for i, (image1, image2) in enumerate(train_loader):\n",
    "    print(f\"Batch {i}:\")\n",
    "    print(f\"  Image1: {image1.shape}\")\n",
    "    print(f\"  Image2: {image2.shape}\")\n",
    "    plt.imshow(image1[0,0])\n",
    "    break"
   ]
  },
  {
   "cell_type": "code",
   "execution_count": 5,
   "metadata": {},
   "outputs": [],
   "source": [
    "def accuracy(output, target, topk=(1,)):\n",
    "    \"\"\"Computes the accuracy over the k top predictions for the specified values of k\"\"\"\n",
    "    maxk = max(topk)\n",
    "    batch_size = target.size(0)\n",
    "\n",
    "    _, pred = output.topk(maxk, 1, True, True)\n",
    "    pred = pred.t()\n",
    "    correct = pred.eq(target.view(1, -1).expand_as(pred))\n",
    "\n",
    "    res = []\n",
    "    for k in topk:\n",
    "        correct_k = correct[:k].reshape(-1).float().sum(0, keepdim=True)\n",
    "        res.append(correct_k.mul_(100.0 / batch_size))\n",
    "    return res\n"
   ]
  },
  {
   "cell_type": "code",
   "execution_count": 6,
   "metadata": {},
   "outputs": [],
   "source": [
    "# Define the SimCLR model class (plain PyTorch version)\n",
    "class SimCLR(nn.Module):\n",
    "    def __init__(self, hidden_dim, lr, temperature, weight_decay):\n",
    "        super().__init__()\n",
    "        self.temperature = temperature\n",
    "        \n",
    "        # Load the pretrained ResNet-18 model\n",
    "        self.convnet = torchvision.models.resnet18(weights='ResNet18_Weights.DEFAULT')\n",
    "        \n",
    "        # Modify the fully connected layer\n",
    "        self.convnet.fc = nn.Sequential(\n",
    "            nn.Linear(self.convnet.fc.in_features, 4 * hidden_dim),  # Linear layer with 4*hidden_dim output\n",
    "            nn.ReLU(inplace=True),\n",
    "            nn.Linear(4 * hidden_dim, hidden_dim)  # Output layer with hidden_dim output\n",
    "        )\n",
    "\n",
    "        self.optimizer = optim.AdamW(self.parameters(), lr=lr, weight_decay=weight_decay)\n",
    "        self.lr_scheduler = optim.lr_scheduler.CosineAnnealingLR(self.optimizer, T_max=50, eta_min=lr / 50)\n",
    "\n",
    "    def forward(self, x):\n",
    "        return self.convnet(x)\n",
    "\n",
    "    def info_nce_loss(self, imgs1, imgs2, device):\n",
    "        imgs = torch.cat((imgs1, imgs2), dim=0)  # Concatenate along the batch dimension\n",
    "        imgs = imgs.to(device)  # Move images to the device\n",
    "\n",
    "        # Encode all images\n",
    "        feats = self.forward(imgs)\n",
    "        # Calculate cosine similarity\n",
    "        cos_sim = nn.functional.cosine_similarity(feats[:, None, :], feats[None, :, :], dim=-1)\n",
    "        # Mask out cosine similarity to itself\n",
    "        self_mask = torch.eye(cos_sim.shape[0], dtype=torch.bool, device=cos_sim.device)\n",
    "        cos_sim.masked_fill_(self_mask, -9e15)\n",
    "        # Find positive example -> batch_size//2 away from the original example\n",
    "        pos_mask = self_mask.roll(shifts=cos_sim.shape[0]//2, dims=0)\n",
    "\n",
    "        '''if concanated image have dfifferent format use below one'''\n",
    "        # Create target tensor\n",
    "        #target = torch.arange(cos_sim.shape[0], device=cos_sim.device)\n",
    "        #target[0::2] += 1\n",
    "        #target[1::2] -= 1\n",
    "       #index = target.reshape(cos_sim.shape[0], 1).long()\n",
    "\n",
    "        # Prepare ground_truth_labels\n",
    "        #ground_truth_labels = torch.zeros(cos_sim.shape[0], cos_sim.shape[0], device=cos_sim.device).long()\n",
    "        #src = torch.ones(cos_sim.shape[0], cos_sim.shape[0], device=cos_sim.device).long()\n",
    "        #ground_truth_labels = torch.scatter(ground_truth_labels, 1, index, src)\n",
    "        #pos_mask = ground_truth_labels.bool()\n",
    "        # InfoNCE loss\n",
    "        cos_sim = cos_sim / self.temperature\n",
    "        nll = -cos_sim[pos_mask] + torch.logsumexp(cos_sim, dim=-1)\n",
    "        nll = nll.mean()\n",
    "\n",
    "        return nll\n",
    "\n",
    "    def train_epoch(self, train_loader, device):\n",
    "        self.train()\n",
    "        total_loss = 0.0\n",
    "        total_top1_acc = 0.0\n",
    "        total_top5_acc = 0.0\n",
    "        # Wrap the train_loader with tqdm\n",
    "        for batch in tqdm(train_loader, desc=\"Training\", leave=False):\n",
    "            imgs1, imgs2 = batch\n",
    "            imgs1, imgs2 = imgs1.to(device), imgs2.to(device)  # Move data to device\n",
    "            self.optimizer.zero_grad()\n",
    "            loss = self.info_nce_loss(imgs1, imgs2, device)\n",
    "            loss.backward()\n",
    "            self.optimizer.step()\n",
    "            self.lr_scheduler.step()\n",
    "            total_loss += loss.item()\n",
    "\n",
    "            # Compute accuracies\n",
    "            feats = self.forward(torch.cat((imgs1, imgs2), dim=0))\n",
    "            target = torch.cat((torch.arange(imgs1.size(0)), torch.arange(imgs2.size(0)))).to(device)\n",
    "            top1_acc, top5_acc = accuracy(feats, target, topk=(1, 5))\n",
    "            total_top1_acc += top1_acc.item()\n",
    "            total_top5_acc += top5_acc.item()\n",
    "\n",
    "        avg_loss = total_loss / len(train_loader)\n",
    "        avg_top1_acc = total_top1_acc / len(train_loader)\n",
    "        avg_top5_acc = total_top5_acc / len(train_loader)\n",
    "        return avg_loss, avg_top1_acc, avg_top5_acc\n",
    "\n",
    "    def validate_epoch(self, val_loader, device):\n",
    "        self.eval()\n",
    "        total_loss = 0.0\n",
    "        total_top1_acc = 0.0\n",
    "        total_top5_acc = 0.0\n",
    "        # Wrap the val_loader with tqdm\n",
    "        with torch.no_grad():\n",
    "            for batch in tqdm(val_loader, desc=\"Validating\", leave=False):\n",
    "                imgs1, imgs2 = batch\n",
    "                imgs1, imgs2 = imgs1.to(device), imgs2.to(device)  # Move data to device\n",
    "                loss = self.info_nce_loss(imgs1, imgs2, device)\n",
    "                total_loss += loss.item()\n",
    "\n",
    "                # Compute accuracies\n",
    "                feats = self.forward(torch.cat((imgs1, imgs2), dim=0))\n",
    "                target = torch.cat((torch.arange(imgs1.size(0)), torch.arange(imgs2.size(0)))).to(device)\n",
    "                top1_acc, top5_acc = accuracy(feats, target, topk=(1, 5))\n",
    "                total_top1_acc += top1_acc.item()\n",
    "                total_top5_acc += top5_acc.item()\n",
    "\n",
    "        avg_loss = total_loss / len(val_loader)\n",
    "        avg_top1_acc = total_top1_acc / len(val_loader)\n",
    "        avg_top5_acc = total_top5_acc / len(val_loader)\n",
    "        return avg_loss, avg_top1_acc, avg_top5_acc"
   ]
  },
  {
   "cell_type": "code",
   "execution_count": 7,
   "metadata": {},
   "outputs": [],
   "source": [
    "def plot_curves(train_losses, val_losses, train_top1_accs, val_top1_accs, train_top5_accs, val_top5_accs):\n",
    "    epochs = range(1, len(train_losses) + 1)\n",
    "    \n",
    "    # Plot loss\n",
    "    plt.figure(figsize=(12, 4))\n",
    "    plt.subplot(1, 2, 1)\n",
    "    plt.plot(epochs, train_losses, 'bo-', label='Training Loss')\n",
    "    plt.plot(epochs, val_losses, 'ro-', label='Validation Loss')\n",
    "    plt.title('Training and Validation Loss')\n",
    "    plt.xlabel('Epochs')\n",
    "    plt.ylabel('Loss')\n",
    "    plt.legend()\n",
    "    \n",
    "    # Plot Top-1 accuracy\n",
    "    plt.subplot(1, 2, 2)\n",
    "    plt.plot(epochs, train_top1_accs, 'bo-', label='Training Top-1 Accuracy')\n",
    "    plt.plot(epochs, val_top1_accs, 'ro-', label='Validation Top-1 Accuracy')\n",
    "    plt.title('Training and Validation Top-1 Accuracy')\n",
    "    plt.xlabel('Epochs')\n",
    "    plt.ylabel('Top-1 Accuracy (%)')\n",
    "    plt.legend()\n",
    "\n",
    "    # Show the plots\n",
    "    plt.tight_layout()\n",
    "    plt.show()\n",
    "    \n",
    "    # Plot Top-5 accuracy\n",
    "    plt.figure(figsize=(6, 4))\n",
    "    plt.plot(epochs, train_top5_accs, 'bo-', label='Training Top-5 Accuracy')\n",
    "    plt.plot(epochs, val_top5_accs, 'ro-', label='Validation Top-5 Accuracy')\n",
    "    plt.title('Training and Validation Top-5 Accuracy')\n",
    "    plt.xlabel('Epochs')\n",
    "    plt.ylabel('Top-5 Accuracy (%)')\n",
    "    plt.legend()\n",
    "\n",
    "    # Show the plots\n",
    "    plt.tight_layout()\n",
    "    plt.show()\n"
   ]
  },
  {
   "cell_type": "code",
   "execution_count": 8,
   "metadata": {},
   "outputs": [],
   "source": [
    "def train_simclr(batch_size, max_epochs=50, hidden_dim=128, lr=5e-4, temperature=0.07, weight_decay=1e-4):\n",
    "    # Determine the device to use\n",
    "    device = torch.device(\"cuda\" if torch.cuda.is_available() else \"cpu\")\n",
    "    print(f\"Using device: {device}\")\n",
    "\n",
    "    # Initialize the model and move it to the device\n",
    "    model = SimCLR(hidden_dim=hidden_dim, lr=lr, temperature=temperature, weight_decay=weight_decay).to(device)\n",
    "    \n",
    "    # Lists to store the loss and accuracy values\n",
    "    train_losses, val_losses = [], []\n",
    "    train_top1_accs, val_top1_accs = [], []\n",
    "    train_top5_accs, val_top5_accs = [], []\n",
    "\n",
    "    # Start time for the entire training\n",
    "    start_time = time.time()\n",
    "\n",
    "    for epoch in range(max_epochs):\n",
    "        # Start time for the epoch\n",
    "        epoch_start_time = time.time()\n",
    "\n",
    "        # Train the model for one epoch and get the metrics\n",
    "        train_loss, train_top1_acc, train_top5_acc = model.train_epoch(train_loader, device)\n",
    "        val_loss, val_top1_acc, val_top5_acc = model.validate_epoch(val_loader, device)\n",
    "        \n",
    "        # Store the metrics\n",
    "        train_losses.append(train_loss)\n",
    "        val_losses.append(val_loss)\n",
    "        train_top1_accs.append(train_top1_acc)\n",
    "        val_top1_accs.append(val_top1_acc)\n",
    "        train_top5_accs.append(train_top5_acc)\n",
    "        val_top5_accs.append(val_top5_acc)\n",
    "        \n",
    "        # Calculate the elapsed time for the epoch\n",
    "        epoch_end_time = time.time()\n",
    "        epoch_duration = epoch_end_time - epoch_start_time\n",
    "\n",
    "        # Print the metrics and the time taken for the epoch \n",
    "        print(f\"Epoch {epoch+1}/{max_epochs} | \"\n",
    "              f\"Train Loss: {train_loss:.4f} | \"\n",
    "              f\"Top-1 Acc: {train_top1_acc:.2f}% | \"\n",
    "              f\"Top-5 Acc: {train_top5_acc:.2f}% | \"\n",
    "              f\"Validation Loss: {val_loss:.4f} | \"\n",
    "              f\"Top-1 Acc: {val_top1_acc:.2f}% | \"\n",
    "              f\"Top-5 Acc: {val_top5_acc:.2f}% | \"\n",
    "              f\"Time Taken: {epoch_duration:.2f} seconds\")\n",
    "\n",
    "    # Total time for training\n",
    "    end_time = time.time()\n",
    "    total_duration = end_time - start_time\n",
    "    print(f\"Total Training Time: {total_duration:.2f} seconds\")\n",
    "\n",
    "    # After training, plot the curves\n",
    "    plot_curves(train_losses, val_losses, train_top1_accs, val_top1_accs, train_top5_accs, val_top5_accs)"
   ]
  },
  {
   "cell_type": "code",
   "execution_count": 9,
   "metadata": {},
   "outputs": [
    {
     "name": "stdout",
     "output_type": "stream",
     "text": [
      "Using device: cuda\n"
     ]
    },
    {
     "name": "stderr",
     "output_type": "stream",
     "text": [
      "                                                         \r"
     ]
    },
    {
     "name": "stdout",
     "output_type": "stream",
     "text": [
      "Epoch 1/100 | Train Loss: 3.0458 | Top-1 Acc: 0.00% | Top-5 Acc: 0.99% | Validation Loss: 3.0272 | Top-1 Acc: 0.00% | Top-5 Acc: 0.62% | Time Taken: 23.20 seconds\n"
     ]
    },
    {
     "name": "stderr",
     "output_type": "stream",
     "text": [
      "                                                         \r"
     ]
    },
    {
     "name": "stdout",
     "output_type": "stream",
     "text": [
      "Epoch 2/100 | Train Loss: 2.8325 | Top-1 Acc: 0.00% | Top-5 Acc: 1.64% | Validation Loss: 2.6545 | Top-1 Acc: 0.00% | Top-5 Acc: 0.62% | Time Taken: 23.29 seconds\n"
     ]
    },
    {
     "name": "stderr",
     "output_type": "stream",
     "text": [
      "                                                         \r"
     ]
    },
    {
     "name": "stdout",
     "output_type": "stream",
     "text": [
      "Epoch 3/100 | Train Loss: 2.7268 | Top-1 Acc: 0.00% | Top-5 Acc: 0.82% | Validation Loss: 2.6562 | Top-1 Acc: 0.00% | Top-5 Acc: 0.00% | Time Taken: 23.34 seconds\n"
     ]
    },
    {
     "name": "stderr",
     "output_type": "stream",
     "text": [
      "                                                         \r"
     ]
    },
    {
     "name": "stdout",
     "output_type": "stream",
     "text": [
      "Epoch 4/100 | Train Loss: 2.5731 | Top-1 Acc: 0.00% | Top-5 Acc: 0.66% | Validation Loss: 2.5835 | Top-1 Acc: 0.00% | Top-5 Acc: 0.00% | Time Taken: 23.42 seconds\n"
     ]
    },
    {
     "name": "stderr",
     "output_type": "stream",
     "text": [
      "                                                         \r"
     ]
    },
    {
     "name": "stdout",
     "output_type": "stream",
     "text": [
      "Epoch 5/100 | Train Loss: 2.7910 | Top-1 Acc: 0.00% | Top-5 Acc: 0.99% | Validation Loss: 2.8829 | Top-1 Acc: 0.00% | Top-5 Acc: 1.25% | Time Taken: 23.69 seconds\n"
     ]
    },
    {
     "name": "stderr",
     "output_type": "stream",
     "text": [
      "                                                         \r"
     ]
    },
    {
     "name": "stdout",
     "output_type": "stream",
     "text": [
      "Epoch 6/100 | Train Loss: 2.7828 | Top-1 Acc: 0.00% | Top-5 Acc: 0.82% | Validation Loss: 2.6733 | Top-1 Acc: 0.00% | Top-5 Acc: 0.62% | Time Taken: 23.51 seconds\n"
     ]
    },
    {
     "name": "stderr",
     "output_type": "stream",
     "text": [
      "                                                         \r"
     ]
    },
    {
     "name": "stdout",
     "output_type": "stream",
     "text": [
      "Epoch 7/100 | Train Loss: 2.6989 | Top-1 Acc: 0.00% | Top-5 Acc: 1.32% | Validation Loss: 2.5164 | Top-1 Acc: 0.00% | Top-5 Acc: 0.62% | Time Taken: 23.60 seconds\n"
     ]
    },
    {
     "name": "stderr",
     "output_type": "stream",
     "text": [
      "                                                         \r"
     ]
    },
    {
     "name": "stdout",
     "output_type": "stream",
     "text": [
      "Epoch 8/100 | Train Loss: 2.6672 | Top-1 Acc: 0.00% | Top-5 Acc: 1.32% | Validation Loss: 2.6637 | Top-1 Acc: 0.00% | Top-5 Acc: 1.25% | Time Taken: 23.14 seconds\n"
     ]
    },
    {
     "name": "stderr",
     "output_type": "stream",
     "text": [
      "                                                         \r"
     ]
    },
    {
     "name": "stdout",
     "output_type": "stream",
     "text": [
      "Epoch 9/100 | Train Loss: 2.5718 | Top-1 Acc: 0.00% | Top-5 Acc: 0.99% | Validation Loss: 2.4714 | Top-1 Acc: 0.00% | Top-5 Acc: 1.25% | Time Taken: 23.67 seconds\n"
     ]
    },
    {
     "name": "stderr",
     "output_type": "stream",
     "text": [
      "                                                         \r"
     ]
    },
    {
     "name": "stdout",
     "output_type": "stream",
     "text": [
      "Epoch 10/100 | Train Loss: 2.5460 | Top-1 Acc: 0.00% | Top-5 Acc: 1.15% | Validation Loss: 2.7349 | Top-1 Acc: 0.00% | Top-5 Acc: 1.88% | Time Taken: 23.47 seconds\n"
     ]
    },
    {
     "name": "stderr",
     "output_type": "stream",
     "text": [
      "                                                         \r"
     ]
    },
    {
     "name": "stdout",
     "output_type": "stream",
     "text": [
      "Epoch 11/100 | Train Loss: 2.7202 | Top-1 Acc: 0.00% | Top-5 Acc: 1.97% | Validation Loss: 2.6425 | Top-1 Acc: 0.62% | Top-5 Acc: 1.25% | Time Taken: 23.79 seconds\n"
     ]
    },
    {
     "name": "stderr",
     "output_type": "stream",
     "text": [
      "                                                         \r"
     ]
    },
    {
     "name": "stdout",
     "output_type": "stream",
     "text": [
      "Epoch 12/100 | Train Loss: 2.5392 | Top-1 Acc: 0.00% | Top-5 Acc: 1.48% | Validation Loss: 2.4987 | Top-1 Acc: 0.00% | Top-5 Acc: 1.25% | Time Taken: 23.65 seconds\n"
     ]
    },
    {
     "name": "stderr",
     "output_type": "stream",
     "text": [
      "                                                         \r"
     ]
    },
    {
     "name": "stdout",
     "output_type": "stream",
     "text": [
      "Epoch 13/100 | Train Loss: 2.5127 | Top-1 Acc: 0.00% | Top-5 Acc: 1.32% | Validation Loss: 2.3695 | Top-1 Acc: 0.00% | Top-5 Acc: 0.62% | Time Taken: 23.44 seconds\n"
     ]
    },
    {
     "name": "stderr",
     "output_type": "stream",
     "text": [
      "                                                         \r"
     ]
    },
    {
     "name": "stdout",
     "output_type": "stream",
     "text": [
      "Epoch 14/100 | Train Loss: 2.2862 | Top-1 Acc: 0.16% | Top-5 Acc: 0.99% | Validation Loss: 2.3619 | Top-1 Acc: 0.00% | Top-5 Acc: 1.74% | Time Taken: 23.24 seconds\n"
     ]
    },
    {
     "name": "stderr",
     "output_type": "stream",
     "text": [
      "                                                         \r"
     ]
    },
    {
     "name": "stdout",
     "output_type": "stream",
     "text": [
      "Epoch 15/100 | Train Loss: 2.3021 | Top-1 Acc: 0.00% | Top-5 Acc: 0.66% | Validation Loss: 2.4504 | Top-1 Acc: 0.00% | Top-5 Acc: 1.74% | Time Taken: 24.17 seconds\n"
     ]
    },
    {
     "name": "stderr",
     "output_type": "stream",
     "text": [
      "                                                         \r"
     ]
    },
    {
     "name": "stdout",
     "output_type": "stream",
     "text": [
      "Epoch 16/100 | Train Loss: 2.5399 | Top-1 Acc: 0.00% | Top-5 Acc: 0.16% | Validation Loss: 2.5566 | Top-1 Acc: 0.00% | Top-5 Acc: 0.00% | Time Taken: 23.87 seconds\n"
     ]
    },
    {
     "name": "stderr",
     "output_type": "stream",
     "text": [
      "                                                         \r"
     ]
    },
    {
     "name": "stdout",
     "output_type": "stream",
     "text": [
      "Epoch 17/100 | Train Loss: 2.5996 | Top-1 Acc: 0.00% | Top-5 Acc: 0.16% | Validation Loss: 2.6244 | Top-1 Acc: 0.00% | Top-5 Acc: 0.00% | Time Taken: 23.74 seconds\n"
     ]
    },
    {
     "name": "stderr",
     "output_type": "stream",
     "text": [
      "                                                         \r"
     ]
    },
    {
     "name": "stdout",
     "output_type": "stream",
     "text": [
      "Epoch 18/100 | Train Loss: 2.5692 | Top-1 Acc: 0.00% | Top-5 Acc: 0.00% | Validation Loss: 2.7322 | Top-1 Acc: 0.00% | Top-5 Acc: 0.62% | Time Taken: 23.76 seconds\n"
     ]
    },
    {
     "name": "stderr",
     "output_type": "stream",
     "text": [
      "                                                         \r"
     ]
    },
    {
     "name": "stdout",
     "output_type": "stream",
     "text": [
      "Epoch 19/100 | Train Loss: 2.4632 | Top-1 Acc: 0.00% | Top-5 Acc: 0.00% | Validation Loss: 2.3107 | Top-1 Acc: 0.00% | Top-5 Acc: 1.25% | Time Taken: 23.57 seconds\n"
     ]
    },
    {
     "name": "stderr",
     "output_type": "stream",
     "text": [
      "                                                         \r"
     ]
    },
    {
     "name": "stdout",
     "output_type": "stream",
     "text": [
      "Epoch 20/100 | Train Loss: 2.3171 | Top-1 Acc: 0.00% | Top-5 Acc: 0.16% | Validation Loss: 2.5209 | Top-1 Acc: 0.00% | Top-5 Acc: 0.00% | Time Taken: 23.69 seconds\n"
     ]
    },
    {
     "name": "stderr",
     "output_type": "stream",
     "text": [
      "                                                         \r"
     ]
    },
    {
     "name": "stdout",
     "output_type": "stream",
     "text": [
      "Epoch 21/100 | Train Loss: 2.3580 | Top-1 Acc: 0.00% | Top-5 Acc: 0.66% | Validation Loss: 2.3918 | Top-1 Acc: 0.00% | Top-5 Acc: 0.00% | Time Taken: 23.59 seconds\n"
     ]
    },
    {
     "name": "stderr",
     "output_type": "stream",
     "text": [
      "                                                         \r"
     ]
    },
    {
     "name": "stdout",
     "output_type": "stream",
     "text": [
      "Epoch 22/100 | Train Loss: 2.5100 | Top-1 Acc: 0.00% | Top-5 Acc: 1.32% | Validation Loss: 2.4253 | Top-1 Acc: 0.00% | Top-5 Acc: 1.88% | Time Taken: 24.04 seconds\n"
     ]
    },
    {
     "name": "stderr",
     "output_type": "stream",
     "text": [
      "                                                         \r"
     ]
    },
    {
     "name": "stdout",
     "output_type": "stream",
     "text": [
      "Epoch 23/100 | Train Loss: 2.3980 | Top-1 Acc: 0.00% | Top-5 Acc: 0.82% | Validation Loss: 2.3589 | Top-1 Acc: 0.00% | Top-5 Acc: 1.25% | Time Taken: 23.73 seconds\n"
     ]
    },
    {
     "name": "stderr",
     "output_type": "stream",
     "text": [
      "                                                         \r"
     ]
    },
    {
     "name": "stdout",
     "output_type": "stream",
     "text": [
      "Epoch 24/100 | Train Loss: 2.2852 | Top-1 Acc: 0.00% | Top-5 Acc: 0.82% | Validation Loss: 2.2146 | Top-1 Acc: 0.00% | Top-5 Acc: 1.88% | Time Taken: 23.30 seconds\n"
     ]
    },
    {
     "name": "stderr",
     "output_type": "stream",
     "text": [
      "                                                         \r"
     ]
    },
    {
     "name": "stdout",
     "output_type": "stream",
     "text": [
      "Epoch 25/100 | Train Loss: 2.2077 | Top-1 Acc: 0.00% | Top-5 Acc: 0.49% | Validation Loss: 2.0725 | Top-1 Acc: 0.00% | Top-5 Acc: 0.00% | Time Taken: 23.48 seconds\n"
     ]
    },
    {
     "name": "stderr",
     "output_type": "stream",
     "text": [
      "                                                         \r"
     ]
    },
    {
     "name": "stdout",
     "output_type": "stream",
     "text": [
      "Epoch 26/100 | Train Loss: 2.2925 | Top-1 Acc: 0.00% | Top-5 Acc: 1.48% | Validation Loss: 2.2554 | Top-1 Acc: 0.00% | Top-5 Acc: 1.25% | Time Taken: 23.72 seconds\n"
     ]
    },
    {
     "name": "stderr",
     "output_type": "stream",
     "text": [
      "                                                         \r"
     ]
    },
    {
     "name": "stdout",
     "output_type": "stream",
     "text": [
      "Epoch 27/100 | Train Loss: 2.4406 | Top-1 Acc: 0.00% | Top-5 Acc: 1.15% | Validation Loss: 2.5604 | Top-1 Acc: 0.00% | Top-5 Acc: 1.25% | Time Taken: 23.32 seconds\n"
     ]
    },
    {
     "name": "stderr",
     "output_type": "stream",
     "text": [
      "                                                         \r"
     ]
    },
    {
     "name": "stdout",
     "output_type": "stream",
     "text": [
      "Epoch 28/100 | Train Loss: 2.3762 | Top-1 Acc: 0.00% | Top-5 Acc: 0.49% | Validation Loss: 2.2908 | Top-1 Acc: 0.00% | Top-5 Acc: 1.25% | Time Taken: 23.49 seconds\n"
     ]
    },
    {
     "name": "stderr",
     "output_type": "stream",
     "text": [
      "                                                         \r"
     ]
    },
    {
     "name": "stdout",
     "output_type": "stream",
     "text": [
      "Epoch 29/100 | Train Loss: 2.2396 | Top-1 Acc: 0.00% | Top-5 Acc: 0.16% | Validation Loss: 2.1900 | Top-1 Acc: 0.00% | Top-5 Acc: 0.00% | Time Taken: 23.07 seconds\n"
     ]
    },
    {
     "name": "stderr",
     "output_type": "stream",
     "text": [
      "                                                         \r"
     ]
    },
    {
     "name": "stdout",
     "output_type": "stream",
     "text": [
      "Epoch 30/100 | Train Loss: 2.1353 | Top-1 Acc: 0.00% | Top-5 Acc: 0.49% | Validation Loss: 2.1009 | Top-1 Acc: 0.00% | Top-5 Acc: 0.00% | Time Taken: 23.29 seconds\n"
     ]
    },
    {
     "name": "stderr",
     "output_type": "stream",
     "text": [
      "                                                         \r"
     ]
    },
    {
     "name": "stdout",
     "output_type": "stream",
     "text": [
      "Epoch 31/100 | Train Loss: 2.1270 | Top-1 Acc: 0.00% | Top-5 Acc: 0.00% | Validation Loss: 2.3772 | Top-1 Acc: 0.00% | Top-5 Acc: 0.62% | Time Taken: 23.50 seconds\n"
     ]
    },
    {
     "name": "stderr",
     "output_type": "stream",
     "text": [
      "                                                         \r"
     ]
    },
    {
     "name": "stdout",
     "output_type": "stream",
     "text": [
      "Epoch 32/100 | Train Loss: 2.2467 | Top-1 Acc: 0.00% | Top-5 Acc: 0.33% | Validation Loss: 2.4088 | Top-1 Acc: 0.00% | Top-5 Acc: 0.62% | Time Taken: 23.62 seconds\n"
     ]
    },
    {
     "name": "stderr",
     "output_type": "stream",
     "text": [
      "                                                         \r"
     ]
    },
    {
     "name": "stdout",
     "output_type": "stream",
     "text": [
      "Epoch 33/100 | Train Loss: 2.4287 | Top-1 Acc: 0.00% | Top-5 Acc: 0.82% | Validation Loss: 2.3900 | Top-1 Acc: 0.00% | Top-5 Acc: 0.62% | Time Taken: 23.70 seconds\n"
     ]
    },
    {
     "name": "stderr",
     "output_type": "stream",
     "text": [
      "                                                         \r"
     ]
    },
    {
     "name": "stdout",
     "output_type": "stream",
     "text": [
      "Epoch 34/100 | Train Loss: 2.3185 | Top-1 Acc: 0.00% | Top-5 Acc: 0.82% | Validation Loss: 2.4153 | Top-1 Acc: 0.00% | Top-5 Acc: 1.25% | Time Taken: 24.07 seconds\n"
     ]
    },
    {
     "name": "stderr",
     "output_type": "stream",
     "text": [
      "                                                         \r"
     ]
    },
    {
     "name": "stdout",
     "output_type": "stream",
     "text": [
      "Epoch 35/100 | Train Loss: 2.1575 | Top-1 Acc: 0.00% | Top-5 Acc: 0.82% | Validation Loss: 2.2463 | Top-1 Acc: 0.00% | Top-5 Acc: 1.88% | Time Taken: 23.57 seconds\n"
     ]
    },
    {
     "name": "stderr",
     "output_type": "stream",
     "text": [
      "                                                         \r"
     ]
    },
    {
     "name": "stdout",
     "output_type": "stream",
     "text": [
      "Epoch 36/100 | Train Loss: 2.0860 | Top-1 Acc: 0.00% | Top-5 Acc: 0.66% | Validation Loss: 1.9239 | Top-1 Acc: 0.00% | Top-5 Acc: 0.00% | Time Taken: 24.23 seconds\n"
     ]
    },
    {
     "name": "stderr",
     "output_type": "stream",
     "text": [
      "                                                         \r"
     ]
    },
    {
     "name": "stdout",
     "output_type": "stream",
     "text": [
      "Epoch 37/100 | Train Loss: 2.1710 | Top-1 Acc: 0.00% | Top-5 Acc: 0.66% | Validation Loss: 2.1236 | Top-1 Acc: 0.00% | Top-5 Acc: 0.62% | Time Taken: 23.86 seconds\n"
     ]
    },
    {
     "name": "stderr",
     "output_type": "stream",
     "text": [
      "                                                         \r"
     ]
    },
    {
     "name": "stdout",
     "output_type": "stream",
     "text": [
      "Epoch 38/100 | Train Loss: 2.1313 | Top-1 Acc: 0.16% | Top-5 Acc: 1.15% | Validation Loss: 2.3093 | Top-1 Acc: 0.00% | Top-5 Acc: 0.62% | Time Taken: 23.91 seconds\n"
     ]
    },
    {
     "name": "stderr",
     "output_type": "stream",
     "text": [
      "                                                         \r"
     ]
    },
    {
     "name": "stdout",
     "output_type": "stream",
     "text": [
      "Epoch 39/100 | Train Loss: 2.3225 | Top-1 Acc: 0.00% | Top-5 Acc: 0.33% | Validation Loss: 2.0714 | Top-1 Acc: 0.00% | Top-5 Acc: 0.00% | Time Taken: 23.52 seconds\n"
     ]
    },
    {
     "name": "stderr",
     "output_type": "stream",
     "text": [
      "                                                         \r"
     ]
    },
    {
     "name": "stdout",
     "output_type": "stream",
     "text": [
      "Epoch 40/100 | Train Loss: 2.1512 | Top-1 Acc: 0.00% | Top-5 Acc: 1.48% | Validation Loss: 2.0292 | Top-1 Acc: 0.00% | Top-5 Acc: 0.00% | Time Taken: 23.87 seconds\n"
     ]
    },
    {
     "name": "stderr",
     "output_type": "stream",
     "text": [
      "                                                         \r"
     ]
    },
    {
     "name": "stdout",
     "output_type": "stream",
     "text": [
      "Epoch 41/100 | Train Loss: 2.0235 | Top-1 Acc: 0.00% | Top-5 Acc: 0.49% | Validation Loss: 1.9133 | Top-1 Acc: 0.00% | Top-5 Acc: 2.50% | Time Taken: 23.41 seconds\n"
     ]
    },
    {
     "name": "stderr",
     "output_type": "stream",
     "text": [
      "                                                         \r"
     ]
    },
    {
     "name": "stdout",
     "output_type": "stream",
     "text": [
      "Epoch 42/100 | Train Loss: 2.0363 | Top-1 Acc: 0.00% | Top-5 Acc: 0.33% | Validation Loss: 2.1119 | Top-1 Acc: 0.00% | Top-5 Acc: 1.88% | Time Taken: 23.17 seconds\n"
     ]
    },
    {
     "name": "stderr",
     "output_type": "stream",
     "text": [
      "                                                         \r"
     ]
    },
    {
     "name": "stdout",
     "output_type": "stream",
     "text": [
      "Epoch 43/100 | Train Loss: 2.1624 | Top-1 Acc: 0.00% | Top-5 Acc: 1.84% | Validation Loss: 2.0783 | Top-1 Acc: 0.00% | Top-5 Acc: 1.88% | Time Taken: 25.18 seconds\n"
     ]
    },
    {
     "name": "stderr",
     "output_type": "stream",
     "text": [
      "                                                         \r"
     ]
    },
    {
     "name": "stdout",
     "output_type": "stream",
     "text": [
      "Epoch 44/100 | Train Loss: 2.0758 | Top-1 Acc: 0.00% | Top-5 Acc: 0.33% | Validation Loss: 1.7882 | Top-1 Acc: 0.00% | Top-5 Acc: 0.00% | Time Taken: 24.00 seconds\n"
     ]
    },
    {
     "name": "stderr",
     "output_type": "stream",
     "text": [
      "                                                         \r"
     ]
    },
    {
     "name": "stdout",
     "output_type": "stream",
     "text": [
      "Epoch 45/100 | Train Loss: 2.1098 | Top-1 Acc: 0.00% | Top-5 Acc: 0.33% | Validation Loss: 1.9709 | Top-1 Acc: 0.00% | Top-5 Acc: 0.00% | Time Taken: 23.79 seconds\n"
     ]
    },
    {
     "name": "stderr",
     "output_type": "stream",
     "text": [
      "                                                         \r"
     ]
    },
    {
     "name": "stdout",
     "output_type": "stream",
     "text": [
      "Epoch 46/100 | Train Loss: 1.8045 | Top-1 Acc: 0.00% | Top-5 Acc: 1.15% | Validation Loss: 1.7510 | Top-1 Acc: 0.00% | Top-5 Acc: 0.62% | Time Taken: 23.59 seconds\n"
     ]
    },
    {
     "name": "stderr",
     "output_type": "stream",
     "text": [
      "                                                         \r"
     ]
    },
    {
     "name": "stdout",
     "output_type": "stream",
     "text": [
      "Epoch 47/100 | Train Loss: 1.8698 | Top-1 Acc: 0.00% | Top-5 Acc: 0.33% | Validation Loss: 2.1660 | Top-1 Acc: 0.00% | Top-5 Acc: 0.00% | Time Taken: 23.63 seconds\n"
     ]
    },
    {
     "name": "stderr",
     "output_type": "stream",
     "text": [
      "                                                         \r"
     ]
    },
    {
     "name": "stdout",
     "output_type": "stream",
     "text": [
      "Epoch 48/100 | Train Loss: 2.0792 | Top-1 Acc: 0.00% | Top-5 Acc: 1.32% | Validation Loss: 2.0630 | Top-1 Acc: 0.00% | Top-5 Acc: 1.25% | Time Taken: 23.74 seconds\n"
     ]
    },
    {
     "name": "stderr",
     "output_type": "stream",
     "text": [
      "                                                         \r"
     ]
    },
    {
     "name": "stdout",
     "output_type": "stream",
     "text": [
      "Epoch 49/100 | Train Loss: 2.0656 | Top-1 Acc: 0.00% | Top-5 Acc: 0.82% | Validation Loss: 2.0019 | Top-1 Acc: 0.00% | Top-5 Acc: 1.25% | Time Taken: 23.76 seconds\n"
     ]
    },
    {
     "name": "stderr",
     "output_type": "stream",
     "text": [
      "                                                         \r"
     ]
    },
    {
     "name": "stdout",
     "output_type": "stream",
     "text": [
      "Epoch 50/100 | Train Loss: 1.9738 | Top-1 Acc: 0.00% | Top-5 Acc: 0.16% | Validation Loss: 2.0035 | Top-1 Acc: 0.00% | Top-5 Acc: 0.00% | Time Taken: 23.62 seconds\n"
     ]
    },
    {
     "name": "stderr",
     "output_type": "stream",
     "text": [
      "                                                         \r"
     ]
    },
    {
     "name": "stdout",
     "output_type": "stream",
     "text": [
      "Epoch 51/100 | Train Loss: 1.9492 | Top-1 Acc: 0.00% | Top-5 Acc: 0.33% | Validation Loss: 2.0117 | Top-1 Acc: 0.00% | Top-5 Acc: 0.00% | Time Taken: 23.45 seconds\n"
     ]
    },
    {
     "name": "stderr",
     "output_type": "stream",
     "text": [
      "                                                         \r"
     ]
    },
    {
     "name": "stdout",
     "output_type": "stream",
     "text": [
      "Epoch 52/100 | Train Loss: 1.9340 | Top-1 Acc: 0.00% | Top-5 Acc: 0.33% | Validation Loss: 1.9734 | Top-1 Acc: 0.00% | Top-5 Acc: 0.00% | Time Taken: 23.57 seconds\n"
     ]
    },
    {
     "name": "stderr",
     "output_type": "stream",
     "text": [
      "                                                         \r"
     ]
    },
    {
     "name": "stdout",
     "output_type": "stream",
     "text": [
      "Epoch 53/100 | Train Loss: 2.2002 | Top-1 Acc: 0.00% | Top-5 Acc: 0.16% | Validation Loss: 2.3741 | Top-1 Acc: 0.00% | Top-5 Acc: 1.88% | Time Taken: 23.09 seconds\n"
     ]
    },
    {
     "name": "stderr",
     "output_type": "stream",
     "text": [
      "                                                         \r"
     ]
    },
    {
     "name": "stdout",
     "output_type": "stream",
     "text": [
      "Epoch 54/100 | Train Loss: 2.4261 | Top-1 Acc: 0.00% | Top-5 Acc: 0.49% | Validation Loss: 2.2140 | Top-1 Acc: 0.00% | Top-5 Acc: 0.62% | Time Taken: 23.38 seconds\n"
     ]
    },
    {
     "name": "stderr",
     "output_type": "stream",
     "text": [
      "                                                         \r"
     ]
    },
    {
     "name": "stdout",
     "output_type": "stream",
     "text": [
      "Epoch 55/100 | Train Loss: 2.1001 | Top-1 Acc: 0.00% | Top-5 Acc: 1.15% | Validation Loss: 2.0178 | Top-1 Acc: 0.00% | Top-5 Acc: 0.62% | Time Taken: 23.70 seconds\n"
     ]
    },
    {
     "name": "stderr",
     "output_type": "stream",
     "text": [
      "                                                         \r"
     ]
    },
    {
     "name": "stdout",
     "output_type": "stream",
     "text": [
      "Epoch 56/100 | Train Loss: 2.0744 | Top-1 Acc: 0.00% | Top-5 Acc: 0.82% | Validation Loss: 1.8585 | Top-1 Acc: 0.00% | Top-5 Acc: 0.62% | Time Taken: 23.37 seconds\n"
     ]
    },
    {
     "name": "stderr",
     "output_type": "stream",
     "text": [
      "                                                         \r"
     ]
    },
    {
     "name": "stdout",
     "output_type": "stream",
     "text": [
      "Epoch 57/100 | Train Loss: 2.1381 | Top-1 Acc: 0.00% | Top-5 Acc: 1.15% | Validation Loss: 1.9857 | Top-1 Acc: 0.00% | Top-5 Acc: 1.25% | Time Taken: 23.18 seconds\n"
     ]
    },
    {
     "name": "stderr",
     "output_type": "stream",
     "text": [
      "                                                         \r"
     ]
    },
    {
     "name": "stdout",
     "output_type": "stream",
     "text": [
      "Epoch 58/100 | Train Loss: 2.1833 | Top-1 Acc: 0.00% | Top-5 Acc: 0.99% | Validation Loss: 1.7907 | Top-1 Acc: 0.00% | Top-5 Acc: 0.00% | Time Taken: 23.64 seconds\n"
     ]
    },
    {
     "name": "stderr",
     "output_type": "stream",
     "text": [
      "                                                         \r"
     ]
    },
    {
     "name": "stdout",
     "output_type": "stream",
     "text": [
      "Epoch 59/100 | Train Loss: 2.0046 | Top-1 Acc: 0.00% | Top-5 Acc: 0.82% | Validation Loss: 2.3101 | Top-1 Acc: 0.00% | Top-5 Acc: 0.62% | Time Taken: 23.98 seconds\n"
     ]
    },
    {
     "name": "stderr",
     "output_type": "stream",
     "text": [
      "                                                         \r"
     ]
    },
    {
     "name": "stdout",
     "output_type": "stream",
     "text": [
      "Epoch 60/100 | Train Loss: 2.0033 | Top-1 Acc: 0.00% | Top-5 Acc: 0.82% | Validation Loss: 1.8802 | Top-1 Acc: 0.00% | Top-5 Acc: 1.25% | Time Taken: 24.13 seconds\n"
     ]
    },
    {
     "name": "stderr",
     "output_type": "stream",
     "text": [
      "                                                         \r"
     ]
    },
    {
     "name": "stdout",
     "output_type": "stream",
     "text": [
      "Epoch 61/100 | Train Loss: 1.8644 | Top-1 Acc: 0.00% | Top-5 Acc: 1.15% | Validation Loss: 1.9125 | Top-1 Acc: 0.00% | Top-5 Acc: 1.25% | Time Taken: 23.34 seconds\n"
     ]
    },
    {
     "name": "stderr",
     "output_type": "stream",
     "text": [
      "                                                         \r"
     ]
    },
    {
     "name": "stdout",
     "output_type": "stream",
     "text": [
      "Epoch 62/100 | Train Loss: 1.8222 | Top-1 Acc: 0.16% | Top-5 Acc: 0.49% | Validation Loss: 1.8283 | Top-1 Acc: 0.00% | Top-5 Acc: 1.25% | Time Taken: 22.66 seconds\n"
     ]
    },
    {
     "name": "stderr",
     "output_type": "stream",
     "text": [
      "                                                         \r"
     ]
    },
    {
     "name": "stdout",
     "output_type": "stream",
     "text": [
      "Epoch 63/100 | Train Loss: 1.8020 | Top-1 Acc: 0.16% | Top-5 Acc: 0.33% | Validation Loss: 2.2450 | Top-1 Acc: 0.00% | Top-5 Acc: 0.00% | Time Taken: 22.91 seconds\n"
     ]
    },
    {
     "name": "stderr",
     "output_type": "stream",
     "text": [
      "                                                         \r"
     ]
    },
    {
     "name": "stdout",
     "output_type": "stream",
     "text": [
      "Epoch 64/100 | Train Loss: 2.0804 | Top-1 Acc: 0.00% | Top-5 Acc: 0.33% | Validation Loss: 2.2084 | Top-1 Acc: 0.00% | Top-5 Acc: 0.00% | Time Taken: 22.92 seconds\n"
     ]
    },
    {
     "name": "stderr",
     "output_type": "stream",
     "text": [
      "                                                         \r"
     ]
    },
    {
     "name": "stdout",
     "output_type": "stream",
     "text": [
      "Epoch 65/100 | Train Loss: 2.1214 | Top-1 Acc: 0.00% | Top-5 Acc: 0.16% | Validation Loss: 1.8170 | Top-1 Acc: 0.00% | Top-5 Acc: 0.00% | Time Taken: 22.80 seconds\n"
     ]
    },
    {
     "name": "stderr",
     "output_type": "stream",
     "text": [
      "                                                         \r"
     ]
    },
    {
     "name": "stdout",
     "output_type": "stream",
     "text": [
      "Epoch 66/100 | Train Loss: 1.8864 | Top-1 Acc: 0.00% | Top-5 Acc: 0.49% | Validation Loss: 1.9965 | Top-1 Acc: 0.00% | Top-5 Acc: 0.00% | Time Taken: 23.53 seconds\n"
     ]
    },
    {
     "name": "stderr",
     "output_type": "stream",
     "text": [
      "                                                         \r"
     ]
    },
    {
     "name": "stdout",
     "output_type": "stream",
     "text": [
      "Epoch 67/100 | Train Loss: 1.9382 | Top-1 Acc: 0.00% | Top-5 Acc: 0.00% | Validation Loss: 1.8258 | Top-1 Acc: 0.00% | Top-5 Acc: 0.62% | Time Taken: 23.65 seconds\n"
     ]
    },
    {
     "name": "stderr",
     "output_type": "stream",
     "text": [
      "                                                         \r"
     ]
    },
    {
     "name": "stdout",
     "output_type": "stream",
     "text": [
      "Epoch 68/100 | Train Loss: 1.9887 | Top-1 Acc: 0.00% | Top-5 Acc: 0.16% | Validation Loss: 2.2270 | Top-1 Acc: 0.00% | Top-5 Acc: 1.25% | Time Taken: 23.34 seconds\n"
     ]
    },
    {
     "name": "stderr",
     "output_type": "stream",
     "text": [
      "                                                         \r"
     ]
    },
    {
     "name": "stdout",
     "output_type": "stream",
     "text": [
      "Epoch 69/100 | Train Loss: 2.1550 | Top-1 Acc: 0.00% | Top-5 Acc: 0.99% | Validation Loss: 2.1406 | Top-1 Acc: 0.00% | Top-5 Acc: 0.00% | Time Taken: 23.80 seconds\n"
     ]
    },
    {
     "name": "stderr",
     "output_type": "stream",
     "text": [
      "                                                         \r"
     ]
    },
    {
     "name": "stdout",
     "output_type": "stream",
     "text": [
      "Epoch 70/100 | Train Loss: 2.1170 | Top-1 Acc: 0.00% | Top-5 Acc: 0.66% | Validation Loss: 2.0736 | Top-1 Acc: 0.00% | Top-5 Acc: 0.00% | Time Taken: 23.53 seconds\n"
     ]
    },
    {
     "name": "stderr",
     "output_type": "stream",
     "text": [
      "                                                         \r"
     ]
    },
    {
     "name": "stdout",
     "output_type": "stream",
     "text": [
      "Epoch 71/100 | Train Loss: 2.0247 | Top-1 Acc: 0.00% | Top-5 Acc: 0.16% | Validation Loss: 1.8693 | Top-1 Acc: 0.00% | Top-5 Acc: 0.00% | Time Taken: 23.50 seconds\n"
     ]
    },
    {
     "name": "stderr",
     "output_type": "stream",
     "text": [
      "                                                         \r"
     ]
    },
    {
     "name": "stdout",
     "output_type": "stream",
     "text": [
      "Epoch 72/100 | Train Loss: 1.8486 | Top-1 Acc: 0.00% | Top-5 Acc: 0.16% | Validation Loss: 1.7186 | Top-1 Acc: 0.00% | Top-5 Acc: 0.00% | Time Taken: 23.61 seconds\n"
     ]
    },
    {
     "name": "stderr",
     "output_type": "stream",
     "text": [
      "                                                         \r"
     ]
    },
    {
     "name": "stdout",
     "output_type": "stream",
     "text": [
      "Epoch 73/100 | Train Loss: 1.8615 | Top-1 Acc: 0.00% | Top-5 Acc: 0.33% | Validation Loss: 2.2111 | Top-1 Acc: 0.00% | Top-5 Acc: 0.00% | Time Taken: 23.28 seconds\n"
     ]
    },
    {
     "name": "stderr",
     "output_type": "stream",
     "text": [
      "                                                         \r"
     ]
    },
    {
     "name": "stdout",
     "output_type": "stream",
     "text": [
      "Epoch 74/100 | Train Loss: 1.8966 | Top-1 Acc: 0.00% | Top-5 Acc: 0.00% | Validation Loss: 2.1385 | Top-1 Acc: 0.00% | Top-5 Acc: 0.00% | Time Taken: 23.17 seconds\n"
     ]
    },
    {
     "name": "stderr",
     "output_type": "stream",
     "text": [
      "                                                         \r"
     ]
    },
    {
     "name": "stdout",
     "output_type": "stream",
     "text": [
      "Epoch 75/100 | Train Loss: 2.0461 | Top-1 Acc: 0.00% | Top-5 Acc: 1.32% | Validation Loss: 1.9052 | Top-1 Acc: 0.00% | Top-5 Acc: 0.62% | Time Taken: 23.54 seconds\n"
     ]
    },
    {
     "name": "stderr",
     "output_type": "stream",
     "text": [
      "                                                         \r"
     ]
    },
    {
     "name": "stdout",
     "output_type": "stream",
     "text": [
      "Epoch 76/100 | Train Loss: 1.7619 | Top-1 Acc: 0.00% | Top-5 Acc: 0.99% | Validation Loss: 1.8499 | Top-1 Acc: 0.00% | Top-5 Acc: 0.00% | Time Taken: 23.21 seconds\n"
     ]
    },
    {
     "name": "stderr",
     "output_type": "stream",
     "text": [
      "                                                         \r"
     ]
    },
    {
     "name": "stdout",
     "output_type": "stream",
     "text": [
      "Epoch 77/100 | Train Loss: 1.8061 | Top-1 Acc: 0.00% | Top-5 Acc: 0.99% | Validation Loss: 1.8512 | Top-1 Acc: 0.00% | Top-5 Acc: 0.00% | Time Taken: 23.62 seconds\n"
     ]
    },
    {
     "name": "stderr",
     "output_type": "stream",
     "text": [
      "                                                         \r"
     ]
    },
    {
     "name": "stdout",
     "output_type": "stream",
     "text": [
      "Epoch 78/100 | Train Loss: 1.7611 | Top-1 Acc: 0.00% | Top-5 Acc: 0.66% | Validation Loss: 2.1175 | Top-1 Acc: 0.00% | Top-5 Acc: 0.00% | Time Taken: 23.24 seconds\n"
     ]
    },
    {
     "name": "stderr",
     "output_type": "stream",
     "text": [
      "                                                         \r"
     ]
    },
    {
     "name": "stdout",
     "output_type": "stream",
     "text": [
      "Epoch 79/100 | Train Loss: 2.0783 | Top-1 Acc: 0.00% | Top-5 Acc: 0.33% | Validation Loss: 2.3234 | Top-1 Acc: 0.00% | Top-5 Acc: 0.00% | Time Taken: 23.52 seconds\n"
     ]
    },
    {
     "name": "stderr",
     "output_type": "stream",
     "text": [
      "                                                         \r"
     ]
    },
    {
     "name": "stdout",
     "output_type": "stream",
     "text": [
      "Epoch 80/100 | Train Loss: 2.2164 | Top-1 Acc: 0.00% | Top-5 Acc: 0.49% | Validation Loss: 2.2836 | Top-1 Acc: 0.00% | Top-5 Acc: 1.25% | Time Taken: 22.80 seconds\n"
     ]
    },
    {
     "name": "stderr",
     "output_type": "stream",
     "text": [
      "Validating:  60%|██████    | 3/5 [00:03<00:02,  1.02s/it]"
     ]
    }
   ],
   "source": [
    "# Run the training script\n",
    "train_simclr(batch_size=16, hidden_dim=128, lr=5e-4, temperature=0.07, weight_decay=1e-4, max_epochs=100)"
   ]
  }
 ],
 "metadata": {
  "kernelspec": {
   "display_name": "thesis",
   "language": "python",
   "name": "python3"
  },
  "language_info": {
   "codemirror_mode": {
    "name": "ipython",
    "version": 3
   },
   "file_extension": ".py",
   "mimetype": "text/x-python",
   "name": "python",
   "nbconvert_exporter": "python",
   "pygments_lexer": "ipython3",
   "version": "3.12.4"
  }
 },
 "nbformat": 4,
 "nbformat_minor": 2
}
