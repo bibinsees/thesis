{
 "cells": [
  {
   "cell_type": "code",
   "execution_count": null,
   "id": "4e5db5c2-450e-48f4-9a7c-8ca2775cce17",
   "metadata": {},
   "outputs": [],
   "source": [
    "def SimCLR_loss(feats,temperature):\n",
    "    cos_sim = nn.functional.cosine_similarity(feats[:, None, :], feats[None, :, :], dim=-1)\n",
    "    # Mask out cosine similarity to itself\n",
    "    self_mask = torch.eye(cos_sim.shape[0], dtype=torch.bool, device=cos_sim.device)\n",
    "    cos_sim.masked_fill_(self_mask, -9e15)\n",
    "    # Find positive example -> batch_size//2 away from the original example\n",
    "    pos_mask = self_mask.roll(shifts=cos_sim.shape[0]//2, dims=0)\n",
    "    cos_sim = cos_sim / temperature\n",
    "    nll = -cos_sim[pos_mask] + torch.logsumexp(cos_sim, dim=-1)\n",
    "    nll = nll.mean()\n",
    "\n",
    "    return nll"
   ]
  },
  {
   "cell_type": "code",
   "execution_count": null,
   "id": "9fc7b1ba-f81c-478e-b2d3-7330340d2a69",
   "metadata": {},
   "outputs": [],
   "source": [
    "import torch\n",
    "import torch.nn as nn"
   ]
  },
  {
   "cell_type": "code",
   "execution_count": null,
   "metadata": {},
   "outputs": [
    {
     "ename": "TypeError",
     "evalue": "rand(): argument 'size' (position 1) must be tuple of ints, but found element of type float at pos 0",
     "output_type": "error",
     "traceback": [
      "\u001b[1;31m---------------------------------------------------------------------------\u001b[0m",
      "\u001b[1;31mTypeError\u001b[0m                                 Traceback (most recent call last)",
      "Cell \u001b[1;32mIn[3], line 1\u001b[0m\n\u001b[1;32m----> 1\u001b[0m feat \u001b[39m=\u001b[39m torch\u001b[39m.\u001b[39;49mrand((\u001b[39m32.96\u001b[39;49m))\n",
      "\u001b[1;31mTypeError\u001b[0m: rand(): argument 'size' (position 1) must be tuple of ints, but found element of type float at pos 0"
     ]
    }
   ],
   "source": [
    "feat = torch.rand((32.96))"
   ]
  },
  {
   "cell_type": "code",
   "execution_count": null,
   "metadata": {},
   "outputs": [],
   "source": [
    "feat = torch.rand((32,96))"
   ]
  },
  {
   "cell_type": "code",
   "execution_count": null,
   "id": "6583a6aa-b501-4849-9fe7-baa3eb45150b",
   "metadata": {},
   "outputs": [],
   "source": [
    "def SimCLR_loss(feats,temperature):\n",
    "    cos_sim = nn.functional.cosine_similarity(feats[:, None, :], feats[None, :, :], dim=-1)\n",
    "    print(cos_sim)\n",
    "    # Mask out cosine similarity to itself\n",
    "    self_mask = torch.eye(cos_sim.shape[0], dtype=torch.bool, device=cos_sim.device)\n",
    "    print('\\n')\n",
    "\n",
    "    print(self_mask)\n",
    "    cos_sim.masked_fill_(self_mask, -9e15)\n",
    "    print('\\n')\n",
    "\n",
    "    print(cos_sim)\n",
    "    # Find positive example -> batch_size//2 away from the original example\n",
    "    pos_mask = self_mask.roll(shifts=cos_sim.shape[0]//2, dims=0)\n",
    "    print('\\n')\n",
    "    print(pos_mask)\n",
    "    cos_sim = cos_sim / temperature\n",
    "    nll = -cos_sim[pos_mask] + torch.logsumexp(cos_sim, dim=-1)\n",
    "    nll = nll.mean()\n",
    "\n",
    "    return nll"
   ]
  },
  {
   "cell_type": "code",
   "execution_count": null,
   "metadata": {},
   "outputs": [
    {
     "name": "stdout",
     "output_type": "stream",
     "text": [
      "tensor([[1.0000, 0.7207, 0.7598,  ..., 0.7758, 0.7156, 0.6967],\n",
      "        [0.7207, 1.0000, 0.7486,  ..., 0.7414, 0.7738, 0.7125],\n",
      "        [0.7598, 0.7486, 1.0000,  ..., 0.8220, 0.8346, 0.7687],\n",
      "        ...,\n",
      "        [0.7758, 0.7414, 0.8220,  ..., 1.0000, 0.7670, 0.7855],\n",
      "        [0.7156, 0.7738, 0.8346,  ..., 0.7670, 1.0000, 0.7192],\n",
      "        [0.6967, 0.7125, 0.7687,  ..., 0.7855, 0.7192, 1.0000]])\n",
      "\n",
      "\n",
      "tensor([[ True, False, False,  ..., False, False, False],\n",
      "        [False,  True, False,  ..., False, False, False],\n",
      "        [False, False,  True,  ..., False, False, False],\n",
      "        ...,\n",
      "        [False, False, False,  ...,  True, False, False],\n",
      "        [False, False, False,  ..., False,  True, False],\n",
      "        [False, False, False,  ..., False, False,  True]])\n",
      "\n",
      "\n",
      "tensor([[-9.0000e+15,  7.2065e-01,  7.5981e-01,  ...,  7.7585e-01,\n",
      "          7.1564e-01,  6.9666e-01],\n",
      "        [ 7.2065e-01, -9.0000e+15,  7.4861e-01,  ...,  7.4144e-01,\n",
      "          7.7376e-01,  7.1249e-01],\n",
      "        [ 7.5981e-01,  7.4861e-01, -9.0000e+15,  ...,  8.2199e-01,\n",
      "          8.3456e-01,  7.6874e-01],\n",
      "        ...,\n",
      "        [ 7.7585e-01,  7.4144e-01,  8.2199e-01,  ..., -9.0000e+15,\n",
      "          7.6703e-01,  7.8545e-01],\n",
      "        [ 7.1564e-01,  7.7376e-01,  8.3456e-01,  ...,  7.6703e-01,\n",
      "         -9.0000e+15,  7.1919e-01],\n",
      "        [ 6.9666e-01,  7.1249e-01,  7.6874e-01,  ...,  7.8545e-01,\n",
      "          7.1919e-01, -9.0000e+15]])\n",
      "\n",
      "\n",
      "tensor([[False, False, False,  ..., False, False, False],\n",
      "        [False, False, False,  ..., False, False, False],\n",
      "        [False, False, False,  ..., False, False, False],\n",
      "        ...,\n",
      "        [False, False, False,  ..., False, False, False],\n",
      "        [False, False, False,  ..., False, False, False],\n",
      "        [False, False, False,  ..., False, False, False]])\n"
     ]
    },
    {
     "data": {
      "text/plain": [
       "tensor(3.4488)"
      ]
     },
     "execution_count": 6,
     "metadata": {},
     "output_type": "execute_result"
    }
   ],
   "source": [
    "SimCLR_loss(feat,0.7)"
   ]
  },
  {
   "cell_type": "code",
   "execution_count": null,
   "metadata": {},
   "outputs": [],
   "source": [
    "feat = torch.rand((2,5))"
   ]
  },
  {
   "cell_type": "code",
   "execution_count": null,
   "metadata": {},
   "outputs": [
    {
     "name": "stdout",
     "output_type": "stream",
     "text": [
      "tensor([[1.0000, 0.5328],\n",
      "        [0.5328, 1.0000]])\n",
      "\n",
      "\n",
      "tensor([[ True, False],\n",
      "        [False,  True]])\n",
      "\n",
      "\n",
      "tensor([[-9.0000e+15,  5.3276e-01],\n",
      "        [ 5.3276e-01, -9.0000e+15]])\n",
      "\n",
      "\n",
      "tensor([[False,  True],\n",
      "        [ True, False]])\n"
     ]
    },
    {
     "data": {
      "text/plain": [
       "tensor(0.)"
      ]
     },
     "execution_count": 8,
     "metadata": {},
     "output_type": "execute_result"
    }
   ],
   "source": [
    "SimCLR_loss(feat,0.07)"
   ]
  },
  {
   "cell_type": "code",
   "execution_count": null,
   "metadata": {},
   "outputs": [],
   "source": [
    "feat = torch.rand((4,4))"
   ]
  },
  {
   "cell_type": "code",
   "execution_count": null,
   "metadata": {},
   "outputs": [
    {
     "name": "stdout",
     "output_type": "stream",
     "text": [
      "tensor([[1.0000, 0.9654, 0.6516, 0.9185],\n",
      "        [0.9654, 1.0000, 0.7582, 0.8918],\n",
      "        [0.6516, 0.7582, 1.0000, 0.5831],\n",
      "        [0.9185, 0.8918, 0.5831, 1.0000]])\n",
      "\n",
      "\n",
      "tensor([[ True, False, False, False],\n",
      "        [False,  True, False, False],\n",
      "        [False, False,  True, False],\n",
      "        [False, False, False,  True]])\n",
      "\n",
      "\n",
      "tensor([[-9.0000e+15,  9.6542e-01,  6.5160e-01,  9.1846e-01],\n",
      "        [ 9.6542e-01, -9.0000e+15,  7.5822e-01,  8.9181e-01],\n",
      "        [ 6.5160e-01,  7.5822e-01, -9.0000e+15,  5.8305e-01],\n",
      "        [ 9.1846e-01,  8.9181e-01,  5.8305e-01, -9.0000e+15]])\n",
      "\n",
      "\n",
      "tensor([[False, False,  True, False],\n",
      "        [False, False, False,  True],\n",
      "        [ True, False, False, False],\n",
      "        [False,  True, False, False]])\n"
     ]
    },
    {
     "data": {
      "text/plain": [
       "tensor(2.2461)"
      ]
     },
     "execution_count": 10,
     "metadata": {},
     "output_type": "execute_result"
    }
   ],
   "source": [
    "SimCLR_loss(feat,0.07)"
   ]
  },
  {
   "cell_type": "code",
   "execution_count": null,
   "id": "4f77428f-987a-4a79-ba06-27199d41668e",
   "metadata": {},
   "outputs": [],
   "source": [
    "def SimCLR_loss(feats,temperature):\n",
    "    cos_sim = nn.functional.cosine_similarity(feats[:, None, :], feats[None, :, :], dim=-1)\n",
    "    print(cos_sim)\n",
    "    # Mask out cosine similarity to itself\n",
    "    self_mask = torch.eye(cos_sim.shape[0], dtype=torch.bool, device=cos_sim.device)\n",
    "    print('\\n')\n",
    "\n",
    "    print(self_mask)\n",
    "    cos_sim.masked_fill_(self_mask, -9e15)\n",
    "    print('\\n')\n",
    "\n",
    "    print(cos_sim)\n",
    "    # Find positive example -> batch_size//2 away from the original example\n",
    "    pos_mask = self_mask.roll(shifts=cos_sim.shape[0]//2, dims=0)\n",
    "    print('\\n')\n",
    "    print(pos_mask)\n",
    "    print('\\n')\n",
    "    print(torch.logsumexp(cos_sim, dim=-1))\n",
    "    cos_sim = cos_sim / temperature\n",
    "    nll = -cos_sim[pos_mask] + torch.logsumexp(cos_sim, dim=-1)\n",
    "    nll = nll.mean()\n",
    "\n",
    "    return nll"
   ]
  },
  {
   "cell_type": "code",
   "execution_count": null,
   "metadata": {},
   "outputs": [
    {
     "name": "stdout",
     "output_type": "stream",
     "text": [
      "tensor([[1.0000, 0.9654, 0.6516, 0.9185],\n",
      "        [0.9654, 1.0000, 0.7582, 0.8918],\n",
      "        [0.6516, 0.7582, 1.0000, 0.5831],\n",
      "        [0.9185, 0.8918, 0.5831, 1.0000]])\n",
      "\n",
      "\n",
      "tensor([[ True, False, False, False],\n",
      "        [False,  True, False, False],\n",
      "        [False, False,  True, False],\n",
      "        [False, False, False,  True]])\n",
      "\n",
      "\n",
      "tensor([[-9.0000e+15,  9.6542e-01,  6.5160e-01,  9.1846e-01],\n",
      "        [ 9.6542e-01, -9.0000e+15,  7.5822e-01,  8.9181e-01],\n",
      "        [ 6.5160e-01,  7.5822e-01, -9.0000e+15,  5.8305e-01],\n",
      "        [ 9.1846e-01,  8.9181e-01,  5.8305e-01, -9.0000e+15]])\n",
      "\n",
      "\n",
      "tensor([[False, False,  True, False],\n",
      "        [False, False, False,  True],\n",
      "        [ True, False, False, False],\n",
      "        [False,  True, False, False]])\n",
      "\n",
      "\n",
      "tensor([1.9530, 1.9741, 1.7655, 1.9075])\n"
     ]
    },
    {
     "data": {
      "text/plain": [
       "tensor(2.2461)"
      ]
     },
     "execution_count": 12,
     "metadata": {},
     "output_type": "execute_result"
    }
   ],
   "source": [
    "SimCLR_loss(feat,0.07)"
   ]
  },
  {
   "cell_type": "code",
   "execution_count": null,
   "metadata": {},
   "outputs": [
    {
     "ename": "TypeError",
     "evalue": "exp(): argument 'input' (position 1) must be Tensor, not float",
     "output_type": "error",
     "traceback": [
      "\u001b[1;31m---------------------------------------------------------------------------\u001b[0m",
      "\u001b[1;31mTypeError\u001b[0m                                 Traceback (most recent call last)",
      "Cell \u001b[1;32mIn[13], line 1\u001b[0m\n\u001b[1;32m----> 1\u001b[0m torch\u001b[39m.\u001b[39;49mexp(\u001b[39m-\u001b[39;49m\u001b[39m9e15\u001b[39;49m)\n",
      "\u001b[1;31mTypeError\u001b[0m: exp(): argument 'input' (position 1) must be Tensor, not float"
     ]
    }
   ],
   "source": [
    "torch.exp(-9e15)"
   ]
  },
  {
   "cell_type": "code",
   "execution_count": null,
   "metadata": {},
   "outputs": [
    {
     "data": {
      "text/plain": [
       "tensor(0.)"
      ]
     },
     "execution_count": 14,
     "metadata": {},
     "output_type": "execute_result"
    }
   ],
   "source": [
    "torch.exp(torch.tensor(-9e15))"
   ]
  },
  {
   "cell_type": "code",
   "execution_count": null,
   "metadata": {},
   "outputs": [
    {
     "data": {
      "text/plain": [
       "tensor(1.)"
      ]
     },
     "execution_count": 15,
     "metadata": {},
     "output_type": "execute_result"
    }
   ],
   "source": [
    "torch.exp(torch.tensor(0))"
   ]
  }
 ],
 "metadata": {
  "language_info": {
   "codemirror_mode": {
    "name": "ipython",
    "version": 3
   },
   "file_extension": ".py",
   "mimetype": "text/x-python",
   "name": "python",
   "nbconvert_exporter": "python",
   "pygments_lexer": "ipython3",
   "version": 3
  }
 },
 "nbformat": 4,
 "nbformat_minor": 2
}
