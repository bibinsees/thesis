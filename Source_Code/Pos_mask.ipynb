{
 "cells": [
  {
   "cell_type": "code",
   "execution_count": 1,
   "metadata": {},
   "outputs": [
    {
     "name": "stdout",
     "output_type": "stream",
     "text": [
      "Feats:\n",
      "tensor([[1.0000, 0.0000],\n",
      "        [0.0000, 1.0000],\n",
      "        [1.0000, 0.5000],\n",
      "        [0.5000, 1.0000]])\n",
      "\n",
      "Cosine Similarity Matrix (cos_sim_in):\n",
      "tensor([[1.0000, 0.0000, 0.8944, 0.4472],\n",
      "        [0.0000, 1.0000, 0.4472, 0.8944],\n",
      "        [0.8944, 0.4472, 1.0000, 0.8000],\n",
      "        [0.4472, 0.8944, 0.8000, 1.0000]])\n",
      "\n",
      "Cosine Similarity Matrix with Self-similarity Masked (cos_sim_out):\n",
      "tensor([[-9.0000e+15,  0.0000e+00,  8.9443e-01,  4.4721e-01],\n",
      "        [ 0.0000e+00, -9.0000e+15,  4.4721e-01,  8.9443e-01],\n",
      "        [ 8.9443e-01,  4.4721e-01, -9.0000e+15,  8.0000e-01],\n",
      "        [ 4.4721e-01,  8.9443e-01,  8.0000e-01, -9.0000e+15]])\n",
      "\n",
      "Self Mask:\n",
      "tensor([[ True, False, False, False],\n",
      "        [False,  True, False, False],\n",
      "        [False, False,  True, False],\n",
      "        [False, False, False,  True]])\n",
      "\n",
      "Positive Mask:\n",
      "tensor([[False, False,  True, False],\n",
      "        [False, False, False,  True],\n",
      "        [ True, False, False, False],\n",
      "        [False,  True, False, False]])\n"
     ]
    }
   ],
   "source": [
    "import torch\n",
    "import torch.nn.functional as F\n",
    "\n",
    "# Define example tensors\n",
    "c1 = torch.tensor([1.0, 0.0])\n",
    "c2 = torch.tensor([0.0, 1.0])\n",
    "d1 = torch.tensor([1.0, 0.5])\n",
    "d2 = torch.tensor([0.5, 1.0])\n",
    "\n",
    "# Combine into one tensor\n",
    "feats = torch.stack([c1, c2, d1, d2])\n",
    "\n",
    "def info_nce_loss(feats, temperature):\n",
    "    # Calculate cosine similarity\n",
    "    cos_sim_in = F.cosine_similarity(feats[:, None, :], feats[None, :, :], dim=-1)\n",
    "\n",
    "    # Create masks\n",
    "    batch_size = cos_sim_in.size(0)\n",
    "    self_mask = torch.eye(batch_size, dtype=torch.bool, device=cos_sim_in.device)\n",
    "\n",
    "    pos_mask = self_mask.roll(shifts=batch_size // 2, dims=0)  # Positive pairs mask\n",
    "    \n",
    "    # Mask out self-similarity\n",
    "    cos_sim_out = cos_sim_in.masked_fill(self_mask, -9e15)  # Mask diagonal elements\n",
    "\n",
    "    return cos_sim_in, cos_sim_out, self_mask, pos_mask, feats\n",
    "\n",
    "# Compute and print the matrices\n",
    "temperature = 0.07  # Temperature is not used in the computation of masks but is needed for the full loss function\n",
    "\n",
    "cos_sim_in, cos_sim_out, self_mask, pos_mask, feats = info_nce_loss(feats, temperature)\n",
    "\n",
    "print('Feats:')\n",
    "print(feats)\n",
    "print('\\nCosine Similarity Matrix (cos_sim_in):')\n",
    "print(cos_sim_in)\n",
    "print('\\nCosine Similarity Matrix with Self-similarity Masked (cos_sim_out):')\n",
    "print(cos_sim_out)\n",
    "print('\\nSelf Mask:')\n",
    "print(self_mask)\n",
    "print('\\nPositive Mask:')\n",
    "print(pos_mask)\n"
   ]
  },
  {
   "cell_type": "code",
   "execution_count": 2,
   "metadata": {},
   "outputs": [
    {
     "name": "stdout",
     "output_type": "stream",
     "text": [
      "torch.Size([4, 2])\n",
      "torch.Size([4, 4])\n",
      "4\n",
      "Feats:\n",
      "tensor([[1.0000, 0.0000],\n",
      "        [0.0000, 1.0000],\n",
      "        [1.0000, 0.5000],\n",
      "        [0.5000, 1.0000]])\n",
      "\n",
      "Cosine Similarity Matrix (cos_sim_in):\n",
      "tensor([[1.0000, 0.0000, 0.8944, 0.4472],\n",
      "        [0.0000, 1.0000, 0.4472, 0.8944],\n",
      "        [0.8944, 0.4472, 1.0000, 0.8000],\n",
      "        [0.4472, 0.8944, 0.8000, 1.0000]])\n",
      "\n",
      "Cosine Similarity Matrix with Self-similarity Masked (cos_sim_out):\n",
      "tensor([[-9.0000e+15,  0.0000e+00,  8.9443e-01,  4.4721e-01],\n",
      "        [ 0.0000e+00, -9.0000e+15,  4.4721e-01,  8.9443e-01],\n",
      "        [ 8.9443e-01,  4.4721e-01, -9.0000e+15,  8.0000e-01],\n",
      "        [ 4.4721e-01,  8.9443e-01,  8.0000e-01, -9.0000e+15]])\n",
      "\n",
      "Self Mask:\n",
      "tensor([[ True, False, False, False],\n",
      "        [False,  True, False, False],\n",
      "        [False, False,  True, False],\n",
      "        [False, False, False,  True]])\n",
      "\n",
      "Positive Mask:\n",
      "tensor([[False,  True, False, False],\n",
      "        [ True, False, False, False],\n",
      "        [False, False, False,  True],\n",
      "        [False, False,  True, False]])\n"
     ]
    }
   ],
   "source": [
    "import torch\n",
    "import torch.nn.functional as F\n",
    "\n",
    "# Define example tensors\n",
    "c1 = torch.tensor([1.0, 0.0])\n",
    "c2 = torch.tensor([0.0, 1.0])\n",
    "d1 = torch.tensor([1.0, 0.5])\n",
    "d2 = torch.tensor([0.5, 1.0])\n",
    "\n",
    "# Combine into pairs\n",
    "# In the original code, this represents concatenating augmented images\n",
    "pair1 = torch.stack([c1, c2])  # First pair (e.g., c1 and c2 as a batch)\n",
    "pair2 = torch.stack([d1, d2])  # Second pair (e.g., d1 and d2 as a batch)\n",
    "\n",
    "# Concatenate pairs along the batch dimension\n",
    "imgs = torch.cat([pair1, pair2], dim=0)  # Resulting tensor will have shape (4, 2)\n",
    "print(imgs.shape)\n",
    "\n",
    "def info_nce_loss(imgs, temperature):\n",
    "    # Encode all images\n",
    "    # For this example, feats is directly the imgs tensor\n",
    "    feats = imgs\n",
    "\n",
    "    # Calculate cosine similarity\n",
    "    cos_sim_in = F.cosine_similarity(feats[:, None, :], feats[None, :, :], dim=-1)\n",
    "    print(cos_sim_in.shape)\n",
    "    print(cos_sim_in.shape[0])\n",
    "    # Create masks\n",
    "    batch_size = cos_sim_in.size(0)\n",
    "    self_mask = torch.eye(batch_size, dtype=torch.bool, device=cos_sim_in.device)\n",
    "    target = torch.arange(4)\n",
    "    target[0::2] += 1\n",
    "    target[1::2] -= 1\n",
    "    index = target.reshape(4, 1).long()\n",
    "    ground_truth_labels = torch.zeros(4, 4).long()\n",
    "    src = torch.ones(4, 4).long()\n",
    "    ground_truth_labels = torch.scatter(ground_truth_labels, 1, index, src)\n",
    "    pos_mask = ground_truth_labels.bool()\n",
    "\n",
    "    #pos_mask = self_mask.roll(shifts=batch_size//2, dims=0)  # Positive pairs mask\n",
    "    \n",
    "    # Mask out self-similarity\n",
    "    cos_sim_out = cos_sim_in.masked_fill(self_mask, -9e15)  # Mask diagonal elements\n",
    "\n",
    "    return cos_sim_in, cos_sim_out, self_mask, pos_mask, feats\n",
    "\n",
    "# Compute and print the matrices\n",
    "temperature = 0.07  # Temperature is not used in the computation of masks but is needed for the full loss function\n",
    "\n",
    "cos_sim_in, cos_sim_out, self_mask, pos_mask, feats = info_nce_loss(imgs, temperature)\n",
    "\n",
    "print('Feats:')\n",
    "print(feats)\n",
    "print('\\nCosine Similarity Matrix (cos_sim_in):')\n",
    "print(cos_sim_in)\n",
    "print('\\nCosine Similarity Matrix with Self-similarity Masked (cos_sim_out):')\n",
    "print(cos_sim_out)\n",
    "print('\\nSelf Mask:')\n",
    "print(self_mask)\n",
    "print('\\nPositive Mask:')\n",
    "print(pos_mask)\n"
   ]
  },
  {
   "cell_type": "code",
   "execution_count": 3,
   "metadata": {},
   "outputs": [],
   "source": [
    "import torch\n",
    "\n",
    "# Define 2D tensors\n",
    "c1 = torch.tensor([[1.0], [2.0]])\n",
    "c2 = torch.tensor([[3.0], [4.0]])\n",
    "d1 = torch.tensor([[5.0], [6.0]])\n",
    "d2 = torch.tensor([[7.0], [8.0]])\n",
    "\n",
    "# Simulate batch with these tensors\n",
    "imgs = [c1, c2, d1, d2]\n",
    "\n"
   ]
  },
  {
   "cell_type": "code",
   "execution_count": 4,
   "metadata": {},
   "outputs": [
    {
     "name": "stdout",
     "output_type": "stream",
     "text": [
      "tensor([[1.],\n",
      "        [2.],\n",
      "        [3.],\n",
      "        [4.],\n",
      "        [5.],\n",
      "        [6.],\n",
      "        [7.],\n",
      "        [8.]])\n"
     ]
    },
    {
     "data": {
      "text/plain": [
       "torch.Size([8, 1])"
      ]
     },
     "execution_count": 4,
     "metadata": {},
     "output_type": "execute_result"
    }
   ],
   "source": [
    "# Concatenate along dim=0\n",
    "concatenated_dim0 = torch.cat(imgs, dim=0)\n",
    "print(concatenated_dim0)\n",
    "concatenated_dim0.shape\n"
   ]
  },
  {
   "cell_type": "code",
   "execution_count": 16,
   "metadata": {},
   "outputs": [
    {
     "name": "stdout",
     "output_type": "stream",
     "text": [
      "tensor([[1., 3., 5., 7.],\n",
      "        [2., 4., 6., 8.]])\n"
     ]
    },
    {
     "data": {
      "text/plain": [
       "torch.Size([2, 4])"
      ]
     },
     "execution_count": 16,
     "metadata": {},
     "output_type": "execute_result"
    }
   ],
   "source": [
    "# Concatenate along dim=1\n",
    "concatenated_dim1 = torch.cat(imgs, dim=1)\n",
    "print(concatenated_dim1)\n",
    "concatenated_dim1.shape\n"
   ]
  },
  {
   "cell_type": "code",
   "execution_count": 2,
   "metadata": {},
   "outputs": [],
   "source": [
    "import torch\n",
    "from torch import nn\n",
    "from torch.nn import functional as F\n",
    "_ = torch.manual_seed(21)"
   ]
  },
  {
   "cell_type": "code",
   "execution_count": 22,
   "metadata": {},
   "outputs": [
    {
     "data": {
      "text/plain": [
       "(tensor([[1., 0., 0., 0., 0., 0.],\n",
       "         [0., 1., 0., 0., 0., 0.],\n",
       "         [0., 0., 1., 0., 0., 0.],\n",
       "         [0., 0., 0., 1., 0., 0.],\n",
       "         [0., 0., 0., 0., 1., 0.],\n",
       "         [0., 0., 0., 0., 0., 1.]]),\n",
       " tensor([[False,  True,  True,  True,  True,  True],\n",
       "         [ True, False,  True,  True,  True,  True],\n",
       "         [ True,  True, False,  True,  True,  True],\n",
       "         [ True,  True,  True, False,  True,  True],\n",
       "         [ True,  True,  True,  True, False,  True],\n",
       "         [ True,  True,  True,  True,  True, False]]))"
      ]
     },
     "execution_count": 22,
     "metadata": {},
     "output_type": "execute_result"
    }
   ],
   "source": [
    "eye = torch.eye(6)\n",
    "eye, ~eye.bool()"
   ]
  },
  {
   "cell_type": "code",
   "execution_count": 23,
   "metadata": {},
   "outputs": [
    {
     "data": {
      "text/plain": [
       "tensor([[-1.0173, -1.6891],\n",
       "        [-0.5188,  1.1591],\n",
       "        [ 2.2763,  0.7654],\n",
       "        [ 2.4068,  0.8689],\n",
       "        [-0.3305,  0.5863],\n",
       "        [ 0.1290,  0.2027]])"
      ]
     },
     "execution_count": 23,
     "metadata": {},
     "output_type": "execute_result"
    }
   ],
   "source": [
    "x = torch.randn(6, 2)\n",
    "x"
   ]
  },
  {
   "cell_type": "code",
   "execution_count": 24,
   "metadata": {},
   "outputs": [
    {
     "data": {
      "text/plain": [
       "tensor([[ 1.0000, -0.5711, -0.7620, -0.7762, -0.4929, -0.9997],\n",
       "        [-0.5711,  1.0000, -0.0964, -0.0743,  0.9957,  0.5507],\n",
       "        [-0.7620, -0.0964,  1.0000,  0.9998, -0.1878,  0.7777],\n",
       "        [-0.7762, -0.0743,  0.9998,  1.0000, -0.1660,  0.7914],\n",
       "        [-0.4929,  0.9957, -0.1878, -0.1660,  1.0000,  0.4713],\n",
       "        [-0.9997,  0.5507,  0.7777,  0.7914,  0.4713,  1.0000]])"
      ]
     },
     "execution_count": 24,
     "metadata": {},
     "output_type": "execute_result"
    }
   ],
   "source": [
    "xcs = F.cosine_similarity(x[None,:,:], x[:,None,:], dim=-1)\n",
    "xcs"
   ]
  },
  {
   "cell_type": "code",
   "execution_count": 25,
   "metadata": {},
   "outputs": [
    {
     "data": {
      "text/plain": [
       "tensor([[   -inf, -0.5711, -0.7620, -0.7762, -0.4929, -0.9997],\n",
       "        [-0.5711,    -inf, -0.0964, -0.0743,  0.9957,  0.5507],\n",
       "        [-0.7620, -0.0964,    -inf,  0.9998, -0.1878,  0.7777],\n",
       "        [-0.7762, -0.0743,  0.9998,    -inf, -0.1660,  0.7914],\n",
       "        [-0.4929,  0.9957, -0.1878, -0.1660,    -inf,  0.4713],\n",
       "        [-0.9997,  0.5507,  0.7777,  0.7914,  0.4713,    -inf]])"
      ]
     },
     "execution_count": 25,
     "metadata": {},
     "output_type": "execute_result"
    }
   ],
   "source": [
    "y = xcs.clone()\n",
    "y[eye.bool()] = float(\"-inf\")\n",
    "y"
   ]
  },
  {
   "cell_type": "code",
   "execution_count": 26,
   "metadata": {},
   "outputs": [
    {
     "data": {
      "text/plain": [
       "tensor([1, 0, 3, 2, 5, 4])"
      ]
     },
     "execution_count": 26,
     "metadata": {},
     "output_type": "execute_result"
    }
   ],
   "source": [
    "target = torch.arange(6)\n",
    "target[0::2] += 1\n",
    "target[1::2] -= 1\n",
    "target"
   ]
  },
  {
   "cell_type": "code",
   "execution_count": 11,
   "metadata": {},
   "outputs": [
    {
     "data": {
      "text/plain": [
       "tensor([[1],\n",
       "        [0],\n",
       "        [3],\n",
       "        [2]])"
      ]
     },
     "execution_count": 11,
     "metadata": {},
     "output_type": "execute_result"
    }
   ],
   "source": [
    "index = target.reshape(4, 1).long()\n",
    "index"
   ]
  },
  {
   "cell_type": "code",
   "execution_count": 12,
   "metadata": {},
   "outputs": [
    {
     "data": {
      "text/plain": [
       "tensor([[0, 1, 0, 0],\n",
       "        [1, 0, 0, 0],\n",
       "        [0, 0, 0, 1],\n",
       "        [0, 0, 1, 0]])"
      ]
     },
     "execution_count": 12,
     "metadata": {},
     "output_type": "execute_result"
    }
   ],
   "source": [
    "ground_truth_labels = torch.zeros(4, 4).long()\n",
    "src = torch.ones(4, 4).long()\n",
    "ground_truth_labels = torch.scatter(ground_truth_labels, 1, index, src)\n",
    "ground_truth_labels"
   ]
  },
  {
   "cell_type": "code",
   "execution_count": 15,
   "metadata": {},
   "outputs": [],
   "source": [
    "A = [[ True, False, False, False],\n",
    "     [False,  True, False, False],\n",
    "     [False, False,  True, False],\n",
    "     [False, False, False,  True]]\n",
    "A = torch.tensor(A)\n"
   ]
  },
  {
   "cell_type": "code",
   "execution_count": 19,
   "metadata": {},
   "outputs": [
    {
     "data": {
      "text/plain": [
       "tensor([[False, False,  True, False],\n",
       "        [False, False, False,  True],\n",
       "        [ True, False, False, False],\n",
       "        [False,  True, False, False]])"
      ]
     },
     "execution_count": 19,
     "metadata": {},
     "output_type": "execute_result"
    }
   ],
   "source": [
    "A.roll(shifts=2, dims=0)"
   ]
  },
  {
   "cell_type": "code",
   "execution_count": 27,
   "metadata": {},
   "outputs": [
    {
     "name": "stdout",
     "output_type": "stream",
     "text": [
      "Self Mask:\n",
      "tensor([[1., 0., 0., 0., 0., 0., 0., 0.],\n",
      "        [0., 1., 0., 0., 0., 0., 0., 0.],\n",
      "        [0., 0., 1., 0., 0., 0., 0., 0.],\n",
      "        [0., 0., 0., 1., 0., 0., 0., 0.],\n",
      "        [0., 0., 0., 0., 1., 0., 0., 0.],\n",
      "        [0., 0., 0., 0., 0., 1., 0., 0.],\n",
      "        [0., 0., 0., 0., 0., 0., 1., 0.],\n",
      "        [0., 0., 0., 0., 0., 0., 0., 1.]])\n",
      "Positive Mask:\n",
      "tensor([[0., 0., 0., 0., 1., 0., 0., 0.],\n",
      "        [0., 0., 0., 0., 0., 1., 0., 0.],\n",
      "        [0., 0., 0., 0., 0., 0., 1., 0.],\n",
      "        [0., 0., 0., 0., 0., 0., 0., 1.],\n",
      "        [1., 0., 0., 0., 0., 0., 0., 0.],\n",
      "        [0., 1., 0., 0., 0., 0., 0., 0.],\n",
      "        [0., 0., 1., 0., 0., 0., 0., 0.],\n",
      "        [0., 0., 0., 1., 0., 0., 0., 0.]])\n",
      "Ground Truth Labels:\n",
      "tensor([[0, 0, 0, 0, 1, 0, 0, 0],\n",
      "        [0, 0, 0, 0, 0, 1, 0, 0],\n",
      "        [0, 0, 0, 0, 0, 0, 1, 0],\n",
      "        [0, 0, 0, 0, 0, 0, 0, 1],\n",
      "        [1, 0, 0, 0, 0, 0, 0, 0],\n",
      "        [0, 1, 0, 0, 0, 0, 0, 0],\n",
      "        [0, 0, 1, 0, 0, 0, 0, 0],\n",
      "        [0, 0, 0, 1, 0, 0, 0, 0]])\n"
     ]
    }
   ],
   "source": [
    "import torch\n",
    "\n",
    "# Number of images in batch\n",
    "n = 4\n",
    "\n",
    "# Create self_mask as an identity matrix of shape (2n, 2n)\n",
    "self_mask = torch.eye(2 * n)\n",
    "\n",
    "# Define shift to be n (number of images per pair)\n",
    "shift = n\n",
    "\n",
    "# Roll self_mask to create pos_mask\n",
    "pos_mask = self_mask.roll(shifts=shift, dims=0)\n",
    "\n",
    "# pos_mask should be the desired ground_truth_labels\n",
    "ground_truth_labels = pos_mask.long()\n",
    "\n",
    "print(\"Self Mask:\")\n",
    "print(self_mask)\n",
    "print(\"Positive Mask:\")\n",
    "print(pos_mask)\n",
    "print(\"Ground Truth Labels:\")\n",
    "print(ground_truth_labels)\n"
   ]
  },
  {
   "cell_type": "code",
   "execution_count": 2,
   "metadata": {},
   "outputs": [],
   "source": [
    "import torch"
   ]
  },
  {
   "cell_type": "code",
   "execution_count": 3,
   "metadata": {},
   "outputs": [
    {
     "data": {
      "text/plain": [
       "tensor([[0., 0., 0., 0., 0., 0., 0., 0.],\n",
       "        [0., 0., 0., 0., 0., 0., 0., 0.],\n",
       "        [0., 0., 0., 0., 0., 0., 0., 0.],\n",
       "        [0., 0., 0., 0., 0., 0., 0., 0.],\n",
       "        [0., 0., 0., 0., 0., 0., 0., 0.],\n",
       "        [0., 0., 0., 0., 0., 0., 0., 0.],\n",
       "        [0., 0., 0., 0., 0., 0., 0., 0.],\n",
       "        [0., 0., 0., 0., 0., 0., 0., 0.]])"
      ]
     },
     "execution_count": 3,
     "metadata": {},
     "output_type": "execute_result"
    }
   ],
   "source": [
    "target =torch.zeros(8,8)\n",
    "target"
   ]
  },
  {
   "cell_type": "code",
   "execution_count": 4,
   "metadata": {},
   "outputs": [],
   "source": [
    "pos_indices = torch.tensor([\n",
    "    (0, 0), (0, 2), (0, 4),\n",
    "    (1, 4), (1, 6), (1, 1),\n",
    "    (2, 3),\n",
    "    (3, 7),\n",
    "    (4, 3),\n",
    "    (7, 6),\n",
    "])"
   ]
  },
  {
   "cell_type": "code",
   "execution_count": 5,
   "metadata": {},
   "outputs": [
    {
     "data": {
      "text/plain": [
       "tensor([[0, 0],\n",
       "        [0, 2],\n",
       "        [0, 4],\n",
       "        [1, 4],\n",
       "        [1, 6],\n",
       "        [1, 1],\n",
       "        [2, 3],\n",
       "        [3, 7],\n",
       "        [4, 3],\n",
       "        [7, 6]])"
      ]
     },
     "execution_count": 5,
     "metadata": {},
     "output_type": "execute_result"
    }
   ],
   "source": [
    "pos_indices"
   ]
  },
  {
   "cell_type": "code",
   "execution_count": 6,
   "metadata": {},
   "outputs": [
    {
     "name": "stdout",
     "output_type": "stream",
     "text": [
      "\n",
      "Positive indexes list\n",
      "tensor([[0, 0],\n",
      "        [0, 2],\n",
      "        [0, 4],\n",
      "        [1, 4],\n",
      "        [1, 6],\n",
      "        [1, 1],\n",
      "        [2, 3],\n",
      "        [3, 7],\n",
      "        [4, 3],\n",
      "        [7, 6],\n",
      "        [0, 0],\n",
      "        [1, 1],\n",
      "        [2, 2],\n",
      "        [3, 3],\n",
      "        [4, 4],\n",
      "        [5, 5],\n",
      "        [6, 6],\n",
      "        [7, 7]])\n"
     ]
    }
   ],
   "source": [
    "pos_indices = torch.cat([pos_indices, torch.arange(8).reshape(8, 1).expand(-1, 2)], dim=0)\n",
    "print(\"\\nPositive indexes list\")\n",
    "print(pos_indices)\n"
   ]
  },
  {
   "cell_type": "code",
   "execution_count": 7,
   "metadata": {},
   "outputs": [
    {
     "name": "stdout",
     "output_type": "stream",
     "text": [
      "\n",
      "Ground Truth labels for positive and negative pairs for BCE Loss\n",
      "tensor([[1., 0., 1., 0., 1., 0., 0., 0.],\n",
      "        [0., 1., 0., 0., 1., 0., 1., 0.],\n",
      "        [0., 0., 1., 1., 0., 0., 0., 0.],\n",
      "        [0., 0., 0., 1., 0., 0., 0., 1.],\n",
      "        [0., 0., 0., 1., 1., 0., 0., 0.],\n",
      "        [0., 0., 0., 0., 0., 1., 0., 0.],\n",
      "        [0., 0., 0., 0., 0., 0., 1., 0.],\n",
      "        [0., 0., 0., 0., 0., 0., 1., 1.]])\n"
     ]
    }
   ],
   "source": [
    "target[pos_indices[:,0], pos_indices[:,1]] = 1\n",
    "print(f\"\\nGround Truth labels for positive and negative pairs for BCE Loss\")\n",
    "print(target)"
   ]
  },
  {
   "cell_type": "markdown",
   "metadata": {},
   "source": [
    "Multilabel setting"
   ]
  },
  {
   "cell_type": "code",
   "execution_count": 16,
   "metadata": {},
   "outputs": [],
   "source": [
    "import torch\n",
    "import torch.nn.functional as F"
   ]
  },
  {
   "cell_type": "code",
   "execution_count": 6,
   "metadata": {},
   "outputs": [
    {
     "data": {
      "text/plain": [
       "tensor([[ 1.4042,  1.1766],\n",
       "        [ 0.3409, -1.6624],\n",
       "        [-1.4203, -0.8864],\n",
       "        [-2.1777,  1.9969],\n",
       "        [-0.7660,  1.7046],\n",
       "        [ 0.8047,  1.4360],\n",
       "        [ 1.4015, -0.7339],\n",
       "        [ 1.8676, -0.2438]])"
      ]
     },
     "execution_count": 6,
     "metadata": {},
     "output_type": "execute_result"
    }
   ],
   "source": [
    "x = torch.randn(8, 2)\n",
    "x"
   ]
  },
  {
   "cell_type": "code",
   "execution_count": 7,
   "metadata": {},
   "outputs": [],
   "source": [
    "assert len(x.size()) == 2"
   ]
  },
  {
   "cell_type": "code",
   "execution_count": 8,
   "metadata": {},
   "outputs": [],
   "source": [
    "pos_indices = torch.tensor([\n",
    "    (0, 0), (0, 2), (0, 4),\n",
    "    (1, 4), (1, 6), (1, 1),\n",
    "    (2, 3),\n",
    "    (3, 7),\n",
    "    (4, 3),\n",
    "    (7, 6),\n",
    "])"
   ]
  },
  {
   "cell_type": "code",
   "execution_count": 9,
   "metadata": {},
   "outputs": [],
   "source": [
    " pos_indices = torch.cat([\n",
    "        pos_indices,\n",
    "        torch.arange(x.size(0)).reshape(x.size(0), 1).expand(-1, 2),\n",
    "    ], dim=0)"
   ]
  },
  {
   "cell_type": "code",
   "execution_count": 10,
   "metadata": {},
   "outputs": [
    {
     "data": {
      "text/plain": [
       "tensor([[0, 0],\n",
       "        [0, 2],\n",
       "        [0, 4],\n",
       "        [1, 4],\n",
       "        [1, 6],\n",
       "        [1, 1],\n",
       "        [2, 3],\n",
       "        [3, 7],\n",
       "        [4, 3],\n",
       "        [7, 6],\n",
       "        [0, 0],\n",
       "        [1, 1],\n",
       "        [2, 2],\n",
       "        [3, 3],\n",
       "        [4, 4],\n",
       "        [5, 5],\n",
       "        [6, 6],\n",
       "        [7, 7]])"
      ]
     },
     "execution_count": 10,
     "metadata": {},
     "output_type": "execute_result"
    }
   ],
   "source": [
    "pos_indices"
   ]
  },
  {
   "cell_type": "code",
   "execution_count": 12,
   "metadata": {},
   "outputs": [],
   "source": [
    "target = torch.zeros(x.size(0), x.size(0))\n",
    "target[pos_indices[:,0], pos_indices[:,1]] = 1.0"
   ]
  },
  {
   "cell_type": "code",
   "execution_count": 13,
   "metadata": {},
   "outputs": [
    {
     "data": {
      "text/plain": [
       "tensor([[1., 0., 1., 0., 1., 0., 0., 0.],\n",
       "        [0., 1., 0., 0., 1., 0., 1., 0.],\n",
       "        [0., 0., 1., 1., 0., 0., 0., 0.],\n",
       "        [0., 0., 0., 1., 0., 0., 0., 1.],\n",
       "        [0., 0., 0., 1., 1., 0., 0., 0.],\n",
       "        [0., 0., 0., 0., 0., 1., 0., 0.],\n",
       "        [0., 0., 0., 0., 0., 0., 1., 0.],\n",
       "        [0., 0., 0., 0., 0., 0., 1., 1.]])"
      ]
     },
     "execution_count": 13,
     "metadata": {},
     "output_type": "execute_result"
    }
   ],
   "source": [
    "target"
   ]
  },
  {
   "cell_type": "code",
   "execution_count": 17,
   "metadata": {},
   "outputs": [],
   "source": [
    "# Cosine similarity\n",
    "xcs = F.cosine_similarity(x[None,:,:], x[:,None,:], dim=-1)\n",
    "    # Set logit of diagonal element to \"inf\" signifying complete\n",
    "    # correlation. sigmoid(inf) = 1.0 so this will work out nicely\n",
    "    # when computing the Binary Cross Entropy Loss.\n",
    "xcs[torch.eye(x.size(0)).bool()] = float(\"inf\")"
   ]
  },
  {
   "cell_type": "code",
   "execution_count": 18,
   "metadata": {},
   "outputs": [
    {
     "data": {
      "text/plain": [
       "tensor([[    inf, -0.4752, -0.9903, -0.1309,  0.2717,  0.9350,  0.3811,  0.6769],\n",
       "        [-0.4752,     inf,  0.3482, -0.8101, -0.9759, -0.7564,  0.6324,  0.3260],\n",
       "        [-0.9903,  0.3482,     inf,  0.2675, -0.1352, -0.8766, -0.5060, -0.7727],\n",
       "        [-0.1309, -0.8101,  0.2675,     inf,  0.9186,  0.2293, -0.9665, -0.8183],\n",
       "        [ 0.2717, -0.9759, -0.1352,  0.9186,     inf,  0.5954, -0.7862, -0.5245],\n",
       "        [ 0.9350, -0.7564, -0.8766,  0.2293,  0.5954,     inf,  0.0284,  0.3718],\n",
       "        [ 0.3811,  0.6324, -0.5060, -0.9665, -0.7862,  0.0284,     inf,  0.9385],\n",
       "        [ 0.6769,  0.3260, -0.7727, -0.8183, -0.5245,  0.3718,  0.9385,     inf]])"
      ]
     },
     "execution_count": 18,
     "metadata": {},
     "output_type": "execute_result"
    }
   ],
   "source": [
    "xcs"
   ]
  },
  {
   "cell_type": "code",
   "execution_count": 20,
   "metadata": {},
   "outputs": [],
   "source": [
    "temperature = 0.1"
   ]
  },
  {
   "cell_type": "code",
   "execution_count": 21,
   "metadata": {},
   "outputs": [],
   "source": [
    "loss = F.binary_cross_entropy((xcs / temperature).sigmoid(), target, reduction=\"none\")\n",
    "    "
   ]
  },
  {
   "cell_type": "code",
   "execution_count": 22,
   "metadata": {},
   "outputs": [
    {
     "data": {
      "text/plain": [
       "tensor([[-0.0000e+00, 8.5972e-03, 9.9029e+00, 2.3916e-01, 6.4005e-02, 9.3493e+00,\n",
       "         3.8328e+00, 6.7703e+00],\n",
       "        [8.5972e-03, -0.0000e+00, 3.5126e+00, 3.0312e-04, 9.7589e+00, 5.1866e-04,\n",
       "         1.7914e-03, 3.2975e+00],\n",
       "        [5.0031e-05, 3.5126e+00, -0.0000e+00, 6.6665e-02, 2.3011e-01, 1.5598e-04,\n",
       "         6.3285e-03, 4.4072e-04],\n",
       "        [2.3916e-01, 3.0312e-04, 2.7412e+00, -0.0000e+00, 9.1855e+00, 2.3892e+00,\n",
       "         6.3491e-05, 8.1835e+00],\n",
       "        [2.7806e+00, 5.7782e-05, 2.3011e-01, 1.0253e-04, -0.0000e+00, 5.9562e+00,\n",
       "         3.8487e-04, 5.2602e-03],\n",
       "        [9.3493e+00, 5.1866e-04, 1.5598e-04, 2.3892e+00, 5.9562e+00, -0.0000e+00,\n",
       "         8.4504e-01, 3.7421e+00],\n",
       "        [3.8328e+00, 6.3256e+00, 6.3285e-03, 6.3491e-05, 3.8487e-04, 8.4504e-01,\n",
       "         -0.0000e+00, 9.3842e+00],\n",
       "        [6.7703e+00, 3.2975e+00, 4.4072e-04, 2.7927e-04, 5.2602e-03, 3.7421e+00,\n",
       "         8.4046e-05, -0.0000e+00]])"
      ]
     },
     "execution_count": 22,
     "metadata": {},
     "output_type": "execute_result"
    }
   ],
   "source": [
    "loss"
   ]
  },
  {
   "cell_type": "code",
   "execution_count": 23,
   "metadata": {},
   "outputs": [],
   "source": [
    "target_pos = target.bool()"
   ]
  },
  {
   "cell_type": "code",
   "execution_count": 24,
   "metadata": {},
   "outputs": [
    {
     "data": {
      "text/plain": [
       "tensor([[ True, False,  True, False,  True, False, False, False],\n",
       "        [False,  True, False, False,  True, False,  True, False],\n",
       "        [False, False,  True,  True, False, False, False, False],\n",
       "        [False, False, False,  True, False, False, False,  True],\n",
       "        [False, False, False,  True,  True, False, False, False],\n",
       "        [False, False, False, False, False,  True, False, False],\n",
       "        [False, False, False, False, False, False,  True, False],\n",
       "        [False, False, False, False, False, False,  True,  True]])"
      ]
     },
     "execution_count": 24,
     "metadata": {},
     "output_type": "execute_result"
    }
   ],
   "source": [
    "target_pos"
   ]
  },
  {
   "cell_type": "code",
   "execution_count": 26,
   "metadata": {},
   "outputs": [],
   "source": [
    "target_neg = ~target_pos"
   ]
  },
  {
   "cell_type": "code",
   "execution_count": 27,
   "metadata": {},
   "outputs": [
    {
     "data": {
      "text/plain": [
       "tensor([[False,  True, False,  True, False,  True,  True,  True],\n",
       "        [ True, False,  True,  True, False,  True, False,  True],\n",
       "        [ True,  True, False, False,  True,  True,  True,  True],\n",
       "        [ True,  True,  True, False,  True,  True,  True, False],\n",
       "        [ True,  True,  True, False, False,  True,  True,  True],\n",
       "        [ True,  True,  True,  True,  True, False,  True,  True],\n",
       "        [ True,  True,  True,  True,  True,  True, False,  True],\n",
       "        [ True,  True,  True,  True,  True,  True, False, False]])"
      ]
     },
     "execution_count": 27,
     "metadata": {},
     "output_type": "execute_result"
    }
   ],
   "source": [
    "target_neg"
   ]
  },
  {
   "cell_type": "code",
   "execution_count": 29,
   "metadata": {},
   "outputs": [],
   "source": [
    "loss_pos = torch.zeros(x.size(0), x.size(0)).masked_scatter(target_pos, loss[target_pos])\n",
    "loss_neg = torch.zeros(x.size(0), x.size(0)).masked_scatter(target_neg, loss[target_neg])\n",
    "loss_pos = loss_pos.sum(dim=1)\n",
    "loss_neg = loss_neg.sum(dim=1)"
   ]
  },
  {
   "cell_type": "code",
   "execution_count": 32,
   "metadata": {},
   "outputs": [
    {
     "data": {
      "text/plain": [
       "tensor([9.9669e+00, 9.7607e+00, 6.6665e-02, 8.1835e+00, 1.0253e-04, 0.0000e+00,\n",
       "        0.0000e+00, 8.4046e-05])"
      ]
     },
     "execution_count": 32,
     "metadata": {},
     "output_type": "execute_result"
    }
   ],
   "source": [
    "loss_pos"
   ]
  },
  {
   "cell_type": "code",
   "execution_count": 33,
   "metadata": {},
   "outputs": [
    {
     "data": {
      "text/plain": [
       "tensor([20.2002,  6.8195,  3.7497, 14.5554,  8.9727, 22.2825, 20.3944, 13.8158])"
      ]
     },
     "execution_count": 33,
     "metadata": {},
     "output_type": "execute_result"
    }
   ],
   "source": [
    "loss_neg"
   ]
  },
  {
   "cell_type": "code",
   "execution_count": 34,
   "metadata": {},
   "outputs": [],
   "source": [
    "num_pos = target.sum(dim=1)\n",
    "num_neg = x.size(0) - num_pos"
   ]
  },
  {
   "cell_type": "code",
   "execution_count": 35,
   "metadata": {},
   "outputs": [
    {
     "data": {
      "text/plain": [
       "tensor([3., 3., 2., 2., 2., 1., 1., 2.])"
      ]
     },
     "execution_count": 35,
     "metadata": {},
     "output_type": "execute_result"
    }
   ],
   "source": [
    "num_pos"
   ]
  },
  {
   "cell_type": "code",
   "execution_count": 36,
   "metadata": {},
   "outputs": [
    {
     "data": {
      "text/plain": [
       "tensor([5., 5., 6., 6., 6., 7., 7., 6.])"
      ]
     },
     "execution_count": 36,
     "metadata": {},
     "output_type": "execute_result"
    }
   ],
   "source": [
    "num_neg"
   ]
  },
  {
   "cell_type": "code",
   "execution_count": 38,
   "metadata": {},
   "outputs": [
    {
     "data": {
      "text/plain": [
       "tensor(3.6313)"
      ]
     },
     "execution_count": 38,
     "metadata": {},
     "output_type": "execute_result"
    }
   ],
   "source": [
    "((loss_pos / num_pos) + (loss_neg / num_neg)).mean()\n"
   ]
  },
  {
   "cell_type": "markdown",
   "metadata": {},
   "source": [
    "we have to find a way for  creating positive indices then apply this thats it thats our next step"
   ]
  },
  {
   "cell_type": "code",
   "execution_count": 3,
   "metadata": {},
   "outputs": [
    {
     "data": {
      "text/plain": [
       "tensor([[0., 0., 0., 0., 0., 0., 0., 0.],\n",
       "        [0., 0., 0., 0., 0., 0., 0., 0.],\n",
       "        [0., 0., 0., 0., 0., 0., 0., 0.],\n",
       "        [0., 0., 0., 0., 0., 0., 0., 0.],\n",
       "        [0., 0., 0., 0., 0., 0., 0., 0.],\n",
       "        [0., 0., 0., 0., 0., 0., 0., 0.],\n",
       "        [0., 0., 0., 0., 0., 0., 0., 0.],\n",
       "        [0., 0., 0., 0., 0., 0., 0., 0.]])"
      ]
     },
     "execution_count": 3,
     "metadata": {},
     "output_type": "execute_result"
    }
   ],
   "source": [
    "torch.zeros(8,8)"
   ]
  },
  {
   "cell_type": "code",
   "execution_count": 4,
   "metadata": {},
   "outputs": [
    {
     "name": "stdout",
     "output_type": "stream",
     "text": [
      "tensor([[1., 1., 1., 1., 0., 0., 0., 0., 0., 0., 0., 0.],\n",
      "        [1., 1., 1., 1., 0., 0., 0., 0., 0., 0., 0., 0.],\n",
      "        [1., 1., 1., 1., 0., 0., 0., 0., 0., 0., 0., 0.],\n",
      "        [1., 1., 1., 1., 0., 0., 0., 0., 0., 0., 0., 0.],\n",
      "        [0., 0., 0., 0., 1., 1., 1., 1., 0., 0., 0., 0.],\n",
      "        [0., 0., 0., 0., 1., 1., 1., 1., 0., 0., 0., 0.],\n",
      "        [0., 0., 0., 0., 1., 1., 1., 1., 0., 0., 0., 0.],\n",
      "        [0., 0., 0., 0., 1., 1., 1., 1., 0., 0., 0., 0.],\n",
      "        [0., 0., 0., 0., 0., 0., 0., 0., 1., 1., 1., 1.],\n",
      "        [0., 0., 0., 0., 0., 0., 0., 0., 1., 1., 1., 1.],\n",
      "        [0., 0., 0., 0., 0., 0., 0., 0., 1., 1., 1., 1.],\n",
      "        [0., 0., 0., 0., 0., 0., 0., 0., 1., 1., 1., 1.]])\n"
     ]
    }
   ],
   "source": [
    "import torch\n",
    "\n",
    "def get_positive_indices_matrix(n, m):\n",
    "    # Initialize a zero matrix of size (n*m) x (n*m)\n",
    "    positive_matrix = torch.zeros(n*m, n*m)\n",
    "\n",
    "    # Loop through each image\n",
    "    for i in range(m):\n",
    "        # Calculate the row and column ranges for this image\n",
    "        start_idx = i * n\n",
    "        end_idx = (i + 1) * n\n",
    "        \n",
    "        # Set the corresponding block to 1 (for positive indices)\n",
    "        positive_matrix[start_idx:end_idx, start_idx:end_idx] = 1\n",
    "\n",
    "    return positive_matrix\n",
    "\n",
    "# Example usage:\n",
    "n = 4  # Number of augmentations per image\n",
    "m = 3  # Number of images\n",
    "\n",
    "positive_indices_matrix = get_positive_indices_matrix(n, m)\n",
    "print(positive_indices_matrix)\n"
   ]
  },
  {
   "cell_type": "markdown",
   "metadata": {},
   "source": [
    "link to new info method multi n:\n",
    "    https://chatgpt.com/share/b08ad2c2-2c12-4519-aa18-9024809f3793"
   ]
  },
  {
   "cell_type": "code",
   "execution_count": 5,
   "metadata": {},
   "outputs": [
    {
     "name": "stdout",
     "output_type": "stream",
     "text": [
      "tensor([[1., 1., 1., 1., 0., 0., 0., 0., 0., 0., 0., 0.],\n",
      "        [1., 1., 1., 1., 0., 0., 0., 0., 0., 0., 0., 0.],\n",
      "        [1., 1., 1., 1., 0., 0., 0., 0., 0., 0., 0., 0.],\n",
      "        [1., 1., 1., 1., 0., 0., 0., 0., 0., 0., 0., 0.],\n",
      "        [0., 0., 0., 0., 1., 1., 1., 1., 0., 0., 0., 0.],\n",
      "        [0., 0., 0., 0., 1., 1., 1., 1., 0., 0., 0., 0.],\n",
      "        [0., 0., 0., 0., 1., 1., 1., 1., 0., 0., 0., 0.],\n",
      "        [0., 0., 0., 0., 1., 1., 1., 1., 0., 0., 0., 0.],\n",
      "        [0., 0., 0., 0., 0., 0., 0., 0., 1., 1., 1., 1.],\n",
      "        [0., 0., 0., 0., 0., 0., 0., 0., 1., 1., 1., 1.],\n",
      "        [0., 0., 0., 0., 0., 0., 0., 0., 1., 1., 1., 1.],\n",
      "        [0., 0., 0., 0., 0., 0., 0., 0., 1., 1., 1., 1.]])\n"
     ]
    }
   ],
   "source": [
    "import torch\n",
    "\n",
    "def get_positive_indices_matrix(n, m):\n",
    "    # Initialize a zero matrix of size (n*m) x (n*m)\n",
    "    positive_matrix = torch.zeros(n*m, n*m)\n",
    "\n",
    "    # Loop through each image\n",
    "    for i in range(m):\n",
    "        # Calculate the row and column ranges for this image\n",
    "        start_idx = i * n\n",
    "        end_idx = (i + 1) * n\n",
    "        \n",
    "        # Set the corresponding block to 1 (for positive indices)\n",
    "        positive_matrix[start_idx:end_idx, start_idx:end_idx] = 1\n",
    "\n",
    "    return positive_matrix\n",
    "\n",
    "# Example usage:\n",
    "n = 4  # Number of augmentations per image\n",
    "m = 3  # Number of images\n",
    "\n",
    "positive_indices_matrix = get_positive_indices_matrix(n, m)\n",
    "print(positive_indices_matrix)\n"
   ]
  },
  {
   "cell_type": "code",
   "execution_count": null,
   "metadata": {},
   "outputs": [],
   "source": []
  }
 ],
 "metadata": {
  "kernelspec": {
   "display_name": "thesis",
   "language": "python",
   "name": "python3"
  },
  "language_info": {
   "codemirror_mode": {
    "name": "ipython",
    "version": 3
   },
   "file_extension": ".py",
   "mimetype": "text/x-python",
   "name": "python",
   "nbconvert_exporter": "python",
   "pygments_lexer": "ipython3",
   "version": "3.12.2"
  }
 },
 "nbformat": 4,
 "nbformat_minor": 2
}
