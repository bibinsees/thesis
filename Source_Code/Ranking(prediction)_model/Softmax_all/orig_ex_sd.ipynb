{
 "cells": [
  {
   "cell_type": "code",
   "execution_count": 5,
   "metadata": {},
   "outputs": [],
   "source": [
    "import os\n",
    "import numpy as np\n",
    "import torch\n",
    "from torch import nn, optim\n",
    "from torch.utils.data import Dataset, DataLoader, random_split\n",
    "from torchvision import transforms\n",
    "import torchvision\n",
    "import tifffile as tiff\n",
    "import matplotlib.pyplot as plt\n",
    "import time\n",
    "from tqdm import tqdm\n",
    "from copy import deepcopy\n",
    "from sklearn.model_selection import train_test_split\n",
    "from sklearn.metrics import accuracy_score\n",
    "import random"
   ]
  },
  {
   "cell_type": "code",
   "execution_count": 6,
   "metadata": {},
   "outputs": [],
   "source": [
    "# Set seed for reproducibility\n",
    "def set_seed(seed):\n",
    "    random.seed(seed)\n",
    "    np.random.seed(seed)\n",
    "    torch.manual_seed(seed)\n",
    "    if torch.cuda.is_available():\n",
    "        torch.cuda.manual_seed(seed)\n",
    "        torch.cuda.manual_seed_all(seed)\n",
    "    torch.backends.cudnn.deterministic = True\n",
    "    torch.backends.cudnn.benchmark = False\n",
    "\n",
    "# Set seed\n",
    "set_seed(42)"
   ]
  },
  {
   "cell_type": "code",
   "execution_count": 7,
   "metadata": {},
   "outputs": [],
   "source": [
    "# Set the device\n",
    "device = torch.device(\"cuda\" if torch.cuda.is_available() else \"cpu\")"
   ]
  },
  {
   "cell_type": "markdown",
   "metadata": {},
   "source": [
    "# Logistic"
   ]
  },
  {
   "cell_type": "code",
   "execution_count": 8,
   "metadata": {},
   "outputs": [],
   "source": [
    "class LabeledImageDataset(Dataset):\n",
    "    def __init__(self, image_files, labels, transform=None):\n",
    "        self.image_files = image_files\n",
    "        self.labels = labels\n",
    "        self.transform = transform\n",
    "        self.resize_transform = transforms.Resize((96, 96))\n",
    "\n",
    "    def __len__(self):\n",
    "        return len(self.image_files)\n",
    "\n",
    "    def __getitem__(self, idx):\n",
    "        img_path = self.image_files[idx]\n",
    "        image = tiff.imread(img_path)\n",
    "\n",
    "        # Ensure the image has 3 layers (channels)\n",
    "        if image.shape[0] != 3:\n",
    "            raise ValueError(f\"Image {img_path} does not have exactly 3 layers.\")\n",
    "\n",
    "        # Normalize the 16-bit image to [0, 1]\n",
    "        image = image.astype(np.float32) / 65535.0\n",
    "\n",
    "        # Convert to a torch tensor and add channel dimension\n",
    "        image = torch.tensor(image, dtype=torch.float32)\n",
    "        \n",
    "        # Apply resize transform\n",
    "        image = self.resize_transform(image)\n",
    "\n",
    "        label = self.labels[idx]\n",
    "\n",
    "        return image, label\n",
    "\n",
    "def load_and_split_data(root_dir, test_size=0.2):\n",
    "    \n",
    "    #classes = ['cond7_all', 'sd_only']\n",
    "    classes = ['sd', 'ex_40']\n",
    "\n",
    "    image_files = []\n",
    "    labels = []\n",
    "\n",
    "    for idx, class_name in enumerate(classes):\n",
    "        class_dir = os.path.join(root_dir, class_name)\n",
    "        files = [os.path.join(class_dir, file) for file in os.listdir(class_dir) if file.endswith(('.tiff', '.tif'))]\n",
    "        image_files.extend(files)\n",
    "        labels.extend([idx] * len(files))\n",
    "    \n",
    "    # Check if the labels correctly reflect the classes\n",
    "    #print(\"Label distribution:\", {classes[i]: labels.count(i) for i in range(len(classes))})\n",
    "    \n",
    "    # Split data into training and test sets\n",
    "    train_files, test_files, train_labels, test_labels = train_test_split(\n",
    "        image_files, labels, test_size=test_size, stratify=labels, random_state=42)\n",
    "\n",
    "    return train_files, test_files, train_labels, test_labels\n",
    "\n",
    "\n",
    "# Directories for labeled data\n",
    "image_dir = r\"C:\\Users\\k54739\\Bibi_new_thesis\\thesis\\softmax_dataset\\2_class\\train_ex_vs_sd\"\n",
    "\n",
    "# Load and split the data\n",
    "train_files, test_files, train_labels, test_labels = load_and_split_data(image_dir, test_size=0.2)\n",
    "\n",
    "# Create the labeled datasets\n",
    "train_labeled_dataset = LabeledImageDataset(train_files, train_labels)\n",
    "test_labeled_dataset = LabeledImageDataset(test_files, test_labels)\n",
    "\n",
    "# Define DataLoaders\n",
    "batch_size = 16\n",
    "train_loader_labeled = DataLoader(train_labeled_dataset, batch_size=batch_size, shuffle=True, drop_last=False, pin_memory=True, num_workers=0)\n",
    "test_loader_labeled = DataLoader(test_labeled_dataset, batch_size=batch_size, shuffle=False, drop_last=False, pin_memory=True, num_workers=0)"
   ]
  },
  {
   "cell_type": "code",
   "execution_count": 9,
   "metadata": {},
   "outputs": [
    {
     "name": "stdout",
     "output_type": "stream",
     "text": [
      "torch.Size([16, 3, 96, 96]) torch.Size([16]) torch.float32\n",
      "tensor([0, 0, 0, 0, 0, 0, 0, 0, 1, 0, 0, 0, 0, 1, 0, 0])\n"
     ]
    }
   ],
   "source": [
    "for anchor,label in train_loader_labeled:\n",
    "    print(anchor.shape, label.shape, anchor.dtype)\n",
    "    print(label)\n",
    "    break"
   ]
  },
  {
   "cell_type": "code",
   "execution_count": 10,
   "metadata": {},
   "outputs": [],
   "source": [
    "def prepare_data_features(dataloader):\n",
    "    feats, labels = [], []\n",
    "    \n",
    "    for batch_imgs, batch_labels in tqdm(dataloader):\n",
    "        batch_imgs = batch_imgs.to(device)\n",
    "        \n",
    "        # Flatten the images from (N, C, H, W) to (N, C*H*W)\n",
    "        batch_feats = batch_imgs.view(batch_imgs.size(0), -1)  # Flatten the images\n",
    "        print(f\"Batch features shape: {batch_feats.shape}\")  # Check the feature shape\n",
    "        print(f\"Batch labels shape: {batch_labels.shape}\")\n",
    "        \n",
    "        feats.append(batch_feats.detach().cpu())\n",
    "        labels.append(batch_labels)\n",
    "\n",
    "    feats = torch.cat(feats, dim=0)\n",
    "    labels = torch.cat(labels, dim=0)\n",
    "    \n",
    "    print(f\"Features shape after concatenation: {feats.shape}\")\n",
    "    print(f\"Labels shape after concatenation: {labels.shape}\")\n",
    "\n",
    "    return torch.utils.data.TensorDataset(feats, labels)\n"
   ]
  },
  {
   "cell_type": "code",
   "execution_count": 11,
   "metadata": {},
   "outputs": [
    {
     "name": "stderr",
     "output_type": "stream",
     "text": [
      " 12%|█▎        | 1/8 [00:00<00:05,  1.19it/s]"
     ]
    },
    {
     "name": "stdout",
     "output_type": "stream",
     "text": [
      "Batch features shape: torch.Size([16, 27648])\n",
      "Batch labels shape: torch.Size([16])\n"
     ]
    },
    {
     "name": "stderr",
     "output_type": "stream",
     "text": [
      " 25%|██▌       | 2/8 [00:01<00:04,  1.21it/s]"
     ]
    },
    {
     "name": "stdout",
     "output_type": "stream",
     "text": [
      "Batch features shape: torch.Size([16, 27648])\n",
      "Batch labels shape: torch.Size([16])\n"
     ]
    },
    {
     "name": "stderr",
     "output_type": "stream",
     "text": [
      " 38%|███▊      | 3/8 [00:02<00:04,  1.22it/s]"
     ]
    },
    {
     "name": "stdout",
     "output_type": "stream",
     "text": [
      "Batch features shape: torch.Size([16, 27648])\n",
      "Batch labels shape: torch.Size([16])\n"
     ]
    },
    {
     "name": "stderr",
     "output_type": "stream",
     "text": [
      " 50%|█████     | 4/8 [00:03<00:03,  1.22it/s]"
     ]
    },
    {
     "name": "stdout",
     "output_type": "stream",
     "text": [
      "Batch features shape: torch.Size([16, 27648])\n",
      "Batch labels shape: torch.Size([16])\n"
     ]
    },
    {
     "name": "stderr",
     "output_type": "stream",
     "text": [
      " 62%|██████▎   | 5/8 [00:04<00:02,  1.23it/s]"
     ]
    },
    {
     "name": "stdout",
     "output_type": "stream",
     "text": [
      "Batch features shape: torch.Size([16, 27648])\n",
      "Batch labels shape: torch.Size([16])\n"
     ]
    },
    {
     "name": "stderr",
     "output_type": "stream",
     "text": [
      " 75%|███████▌  | 6/8 [00:04<00:01,  1.22it/s]"
     ]
    },
    {
     "name": "stdout",
     "output_type": "stream",
     "text": [
      "Batch features shape: torch.Size([16, 27648])\n",
      "Batch labels shape: torch.Size([16])\n"
     ]
    },
    {
     "name": "stderr",
     "output_type": "stream",
     "text": [
      "100%|██████████| 8/8 [00:05<00:00,  1.36it/s]\n"
     ]
    },
    {
     "name": "stdout",
     "output_type": "stream",
     "text": [
      "Batch features shape: torch.Size([16, 27648])\n",
      "Batch labels shape: torch.Size([16])\n",
      "Batch features shape: torch.Size([2, 27648])\n",
      "Batch labels shape: torch.Size([2])\n",
      "Features shape after concatenation: torch.Size([114, 27648])\n",
      "Labels shape after concatenation: torch.Size([114])\n"
     ]
    },
    {
     "name": "stderr",
     "output_type": "stream",
     "text": [
      " 50%|█████     | 1/2 [00:00<00:00,  1.20it/s]"
     ]
    },
    {
     "name": "stdout",
     "output_type": "stream",
     "text": [
      "Batch features shape: torch.Size([16, 27648])\n",
      "Batch labels shape: torch.Size([16])\n"
     ]
    },
    {
     "name": "stderr",
     "output_type": "stream",
     "text": [
      "100%|██████████| 2/2 [00:01<00:00,  1.30it/s]"
     ]
    },
    {
     "name": "stdout",
     "output_type": "stream",
     "text": [
      "Batch features shape: torch.Size([13, 27648])\n",
      "Batch labels shape: torch.Size([13])\n",
      "Features shape after concatenation: torch.Size([29, 27648])\n",
      "Labels shape after concatenation: torch.Size([29])\n"
     ]
    },
    {
     "name": "stderr",
     "output_type": "stream",
     "text": [
      "\n"
     ]
    }
   ],
   "source": [
    "# Extract features for train and test datasets\n",
    "train_feats = prepare_data_features(train_loader_labeled)\n",
    "test_feats = prepare_data_features(test_loader_labeled)"
   ]
  },
  {
   "cell_type": "code",
   "execution_count": 12,
   "metadata": {},
   "outputs": [],
   "source": [
    "# Logistic Regression model definition\n",
    "class LogisticRegression(nn.Module):\n",
    "    def __init__(self, feature_dim, num_classes):\n",
    "        super(LogisticRegression, self).__init__()\n",
    "        self.linear = nn.Linear(feature_dim, num_classes)\n",
    "\n",
    "    def forward(self, x):\n",
    "        return self.linear(x)"
   ]
  },
  {
   "cell_type": "code",
   "execution_count": 13,
   "metadata": {},
   "outputs": [],
   "source": [
    "# Training function\n",
    "def train_logistic_regression(model, train_loader, optimizer, scheduler, device):\n",
    "    model.train()\n",
    "    total_loss = 0.0\n",
    "    all_preds = []\n",
    "    all_labels = []\n",
    "\n",
    "    for batch_feats, batch_labels in tqdm(train_loader, desc=\"Training\"):\n",
    "        batch_feats, batch_labels = batch_feats.to(device), batch_labels.to(device)\n",
    "        \n",
    "        optimizer.zero_grad()\n",
    "        outputs = model(batch_feats)\n",
    "        loss = nn.functional.cross_entropy(outputs, batch_labels)\n",
    "        loss.backward()\n",
    "        optimizer.step()\n",
    "        \n",
    "        # Update learning rate scheduler\n",
    "        scheduler.step()\n",
    "\n",
    "        total_loss += loss.item()\n",
    "\n",
    "        preds = outputs.argmax(dim=1)\n",
    "        all_preds.extend(preds.cpu().numpy())\n",
    "        all_labels.extend(batch_labels.cpu().numpy())\n",
    "\n",
    "    avg_loss = total_loss / len(train_loader)\n",
    "    accuracy = accuracy_score(all_labels, all_preds)\n",
    "    return avg_loss, accuracy"
   ]
  },
  {
   "cell_type": "code",
   "execution_count": 14,
   "metadata": {},
   "outputs": [],
   "source": [
    "# Evaluation function\n",
    "def evaluate_logistic_regression(model, test_loader, criterion, device):\n",
    "    model.eval()\n",
    "    total_loss = 0.0\n",
    "    all_preds = []\n",
    "    all_labels = []\n",
    "\n",
    "    with torch.no_grad():\n",
    "        for batch_feats, batch_labels in tqdm(test_loader, desc=\"Evaluating\"):\n",
    "            batch_feats, batch_labels = batch_feats.to(device), batch_labels.to(device)\n",
    "            \n",
    "            outputs = model(batch_feats)\n",
    "            loss = nn.functional.cross_entropy(outputs, batch_labels)\n",
    "            total_loss += loss.item()\n",
    "\n",
    "            preds = outputs.argmax(dim=1)\n",
    "            all_preds.extend(preds.cpu().numpy())\n",
    "            all_labels.extend(batch_labels.cpu().numpy())\n",
    "\n",
    "    avg_loss = total_loss / len(test_loader)\n",
    "    accuracy = accuracy_score(all_labels, all_preds)\n",
    "    return avg_loss, accuracy"
   ]
  },
  {
   "cell_type": "code",
   "execution_count": 15,
   "metadata": {},
   "outputs": [],
   "source": [
    "def train_logreg_simplified(batch_size, train_feats_data, test_feats_data, feature_dim, num_classes, lr=5e-4, weight_decay=1e-4, max_epochs=50):\n",
    "    device = torch.device(\"cuda\" if torch.cuda.is_available() else \"cpu\")\n",
    "\n",
    "    # Data loaders\n",
    "    train_loader = DataLoader(train_feats_data, batch_size=batch_size, shuffle=True,\n",
    "                              drop_last=False, pin_memory=True, num_workers=0)\n",
    "    test_loader = DataLoader(test_feats_data, batch_size=batch_size, shuffle=False,\n",
    "                             drop_last=False, pin_memory=True, num_workers=0)\n",
    "\n",
    "    # Model, loss, and optimizer\n",
    "    model = LogisticRegression(feature_dim, num_classes).to(device)\n",
    "    criterion = nn.CrossEntropyLoss()\n",
    "    optimizer = optim.AdamW(model.parameters(), lr=lr, weight_decay=weight_decay)\n",
    "    scheduler = optim.lr_scheduler.MultiStepLR(optimizer,\n",
    "                                               milestones=[int(max_epochs * 0.6), int(max_epochs * 0.8)],\n",
    "                                               gamma=0.1)\n",
    "\n",
    "    # Store metrics for plotting\n",
    "    train_losses = []\n",
    "    test_losses = []\n",
    "    train_accuracies = []\n",
    "    test_accuracies = []\n",
    "\n",
    "    # Track best by accuracy\n",
    "    best_test_acc = -1.0\n",
    "    best_model_state_acc = None\n",
    "\n",
    "    # Track best by loss (with accuracy as a tiebreaker)\n",
    "    best_test_loss = float('inf')\n",
    "    best_test_loss_acc = -1.0\n",
    "    best_model_state_loss = None\n",
    "\n",
    "    for epoch in range(max_epochs):\n",
    "        print(f\"Epoch {epoch+1}/{max_epochs}\")\n",
    "\n",
    "        train_loss, train_acc = train_logistic_regression(model, train_loader, optimizer, scheduler, device)\n",
    "        test_loss, test_acc = evaluate_logistic_regression(model, test_loader, criterion, device)\n",
    "\n",
    "        print(f\"Training loss: {train_loss:.4f}, Training accuracy: {train_acc:.4f}\")\n",
    "        print(f\"Test loss: {test_loss:.4f}, Test accuracy: {test_acc:.4f}\")\n",
    "\n",
    "        train_losses.append(train_loss)\n",
    "        test_losses.append(test_loss)\n",
    "        train_accuracies.append(train_acc)\n",
    "        test_accuracies.append(test_acc)\n",
    "\n",
    "        # Check for best accuracy model\n",
    "        if test_acc > best_test_acc:\n",
    "            best_test_acc = test_acc\n",
    "            best_model_state_acc = model.state_dict()\n",
    "\n",
    "        # Check for best loss model\n",
    "        # Condition: strictly lower loss OR equal loss but higher accuracy\n",
    "        if (test_loss < best_test_loss) or (test_loss == best_test_loss and test_acc > best_test_loss_acc):\n",
    "            best_test_loss = test_loss\n",
    "            best_test_loss_acc = test_acc\n",
    "            best_model_state_loss = model.state_dict()\n",
    "\n",
    "    # Now we have two best states: best_model_state_acc and best_model_state_loss\n",
    "    # Create two separate model instances for them\n",
    "    best_acc_model = LogisticRegression(feature_dim, num_classes).to(device)\n",
    "    best_acc_model.load_state_dict(best_model_state_acc)\n",
    "    best_acc_model.eval()\n",
    "\n",
    "    best_loss_model = LogisticRegression(feature_dim, num_classes).to(device)\n",
    "    best_loss_model.load_state_dict(best_model_state_loss)\n",
    "    best_loss_model.eval()\n",
    "\n",
    "    # Plot results\n",
    "    plt.figure(figsize=(15, 5))\n",
    "\n",
    "    # Loss curve\n",
    "    plt.subplot(1, 2, 1)\n",
    "    plt.plot(range(max_epochs), train_losses, label='Train Loss')\n",
    "    plt.plot(range(max_epochs), test_losses, label='Test Loss')\n",
    "    plt.xlabel('Epoch')\n",
    "    plt.ylabel('Loss')\n",
    "    plt.title('Loss Curve')\n",
    "    plt.legend()\n",
    "\n",
    "    # Accuracy curve\n",
    "    plt.subplot(1, 2, 2)\n",
    "    plt.plot(range(max_epochs), train_accuracies, label='Train Accuracy')\n",
    "    plt.plot(range(max_epochs), test_accuracies, label='Test Accuracy')\n",
    "    plt.xlabel('Epoch')\n",
    "    plt.ylabel('Accuracy')\n",
    "    plt.title('Accuracy Curve')\n",
    "    plt.legend()\n",
    "\n",
    "    plt.tight_layout()\n",
    "    plt.show()\n",
    "\n",
    "    # Return both models and the final results (e.g., last train_acc and test_acc recorded)\n",
    "    return best_acc_model, best_loss_model, {\"train_acc\": train_acc, \"test_acc\": test_acc}\n"
   ]
  },
  {
   "cell_type": "code",
   "execution_count": 16,
   "metadata": {},
   "outputs": [
    {
     "name": "stdout",
     "output_type": "stream",
     "text": [
      "Epoch 1/250\n"
     ]
    },
    {
     "name": "stderr",
     "output_type": "stream",
     "text": [
      "Training: 100%|██████████| 2/2 [00:00<00:00, 12.43it/s]\n",
      "Evaluating: 100%|██████████| 1/1 [00:00<?, ?it/s]\n"
     ]
    },
    {
     "name": "stdout",
     "output_type": "stream",
     "text": [
      "Training loss: 2.8166, Training accuracy: 0.4123\n",
      "Test loss: 3.4628, Test accuracy: 0.7241\n",
      "Epoch 2/250\n"
     ]
    },
    {
     "name": "stderr",
     "output_type": "stream",
     "text": [
      "Training: 100%|██████████| 2/2 [00:00<00:00, 119.71it/s]\n",
      "Evaluating: 100%|██████████| 1/1 [00:00<00:00, 64.00it/s]\n"
     ]
    },
    {
     "name": "stdout",
     "output_type": "stream",
     "text": [
      "Training loss: 2.6664, Training accuracy: 0.7193\n",
      "Test loss: 0.6024, Test accuracy: 0.6552\n",
      "Epoch 3/250\n"
     ]
    },
    {
     "name": "stderr",
     "output_type": "stream",
     "text": [
      "Training: 100%|██████████| 2/2 [00:00<?, ?it/s]\n",
      "Evaluating: 100%|██████████| 1/1 [00:00<00:00, 59.44it/s]\n"
     ]
    },
    {
     "name": "stdout",
     "output_type": "stream",
     "text": [
      "Training loss: 1.0568, Training accuracy: 0.5175\n",
      "Test loss: 0.4523, Test accuracy: 0.8621\n",
      "Epoch 4/250\n"
     ]
    },
    {
     "name": "stderr",
     "output_type": "stream",
     "text": [
      "Training: 100%|██████████| 2/2 [00:00<?, ?it/s]\n",
      "Evaluating: 100%|██████████| 1/1 [00:00<?, ?it/s]\n"
     ]
    },
    {
     "name": "stdout",
     "output_type": "stream",
     "text": [
      "Training loss: 0.5753, Training accuracy: 0.8421\n",
      "Test loss: 1.0718, Test accuracy: 0.7241\n",
      "Epoch 5/250\n"
     ]
    },
    {
     "name": "stderr",
     "output_type": "stream",
     "text": [
      "Training: 100%|██████████| 2/2 [00:00<00:00, 114.25it/s]\n",
      "Evaluating: 100%|██████████| 1/1 [00:00<?, ?it/s]\n"
     ]
    },
    {
     "name": "stdout",
     "output_type": "stream",
     "text": [
      "Training loss: 0.9273, Training accuracy: 0.7193\n",
      "Test loss: 0.3809, Test accuracy: 0.8621\n",
      "Epoch 6/250\n"
     ]
    },
    {
     "name": "stderr",
     "output_type": "stream",
     "text": [
      "Training: 100%|██████████| 2/2 [00:00<00:00, 60.80it/s]\n",
      "Evaluating: 100%|██████████| 1/1 [00:00<?, ?it/s]\n"
     ]
    },
    {
     "name": "stdout",
     "output_type": "stream",
     "text": [
      "Training loss: 0.5511, Training accuracy: 0.6579\n",
      "Test loss: 0.5738, Test accuracy: 0.7241\n",
      "Epoch 7/250\n"
     ]
    },
    {
     "name": "stderr",
     "output_type": "stream",
     "text": [
      "Training: 100%|██████████| 2/2 [00:00<00:00, 669.11it/s]\n",
      "Evaluating: 100%|██████████| 1/1 [00:00<00:00, 53.90it/s]\n"
     ]
    },
    {
     "name": "stdout",
     "output_type": "stream",
     "text": [
      "Training loss: 0.5010, Training accuracy: 0.6491\n",
      "Test loss: 0.5083, Test accuracy: 0.8621\n",
      "Epoch 8/250\n"
     ]
    },
    {
     "name": "stderr",
     "output_type": "stream",
     "text": [
      "Training: 100%|██████████| 2/2 [00:00<00:00, 154.47it/s]\n",
      "Evaluating: 100%|██████████| 1/1 [00:00<?, ?it/s]\n"
     ]
    },
    {
     "name": "stdout",
     "output_type": "stream",
     "text": [
      "Training loss: 0.4658, Training accuracy: 0.8070\n",
      "Test loss: 0.4287, Test accuracy: 0.8621\n",
      "Epoch 9/250\n"
     ]
    },
    {
     "name": "stderr",
     "output_type": "stream",
     "text": [
      "Training: 100%|██████████| 2/2 [00:00<00:00, 78.96it/s]\n",
      "Evaluating: 100%|██████████| 1/1 [00:00<00:00, 127.49it/s]\n"
     ]
    },
    {
     "name": "stdout",
     "output_type": "stream",
     "text": [
      "Training loss: 0.3120, Training accuracy: 0.8947\n",
      "Test loss: 0.3795, Test accuracy: 0.8621\n",
      "Epoch 10/250\n"
     ]
    },
    {
     "name": "stderr",
     "output_type": "stream",
     "text": [
      "Training: 100%|██████████| 2/2 [00:00<00:00, 119.28it/s]\n",
      "Evaluating: 100%|██████████| 1/1 [00:00<?, ?it/s]\n"
     ]
    },
    {
     "name": "stdout",
     "output_type": "stream",
     "text": [
      "Training loss: 0.3803, Training accuracy: 0.8421\n",
      "Test loss: 0.3219, Test accuracy: 0.8621\n",
      "Epoch 11/250\n"
     ]
    },
    {
     "name": "stderr",
     "output_type": "stream",
     "text": [
      "Training: 100%|██████████| 2/2 [00:00<00:00, 119.45it/s]\n",
      "Evaluating: 100%|██████████| 1/1 [00:00<00:00, 63.76it/s]\n"
     ]
    },
    {
     "name": "stdout",
     "output_type": "stream",
     "text": [
      "Training loss: 0.2780, Training accuracy: 0.9035\n",
      "Test loss: 0.4564, Test accuracy: 0.8621\n",
      "Epoch 12/250\n"
     ]
    },
    {
     "name": "stderr",
     "output_type": "stream",
     "text": [
      "Training: 100%|██████████| 2/2 [00:00<?, ?it/s]\n",
      "Evaluating: 100%|██████████| 1/1 [00:00<00:00, 57.97it/s]\n"
     ]
    },
    {
     "name": "stdout",
     "output_type": "stream",
     "text": [
      "Training loss: 0.3294, Training accuracy: 0.8684\n",
      "Test loss: 0.3623, Test accuracy: 0.8966\n",
      "Epoch 13/250\n"
     ]
    },
    {
     "name": "stderr",
     "output_type": "stream",
     "text": [
      "Training: 100%|██████████| 2/2 [00:00<00:00, 124.47it/s]\n",
      "Evaluating: 100%|██████████| 1/1 [00:00<?, ?it/s]\n"
     ]
    },
    {
     "name": "stdout",
     "output_type": "stream",
     "text": [
      "Training loss: 0.2459, Training accuracy: 0.9211\n",
      "Test loss: 0.3340, Test accuracy: 0.8276\n",
      "Epoch 14/250\n"
     ]
    },
    {
     "name": "stderr",
     "output_type": "stream",
     "text": [
      "Training: 100%|██████████| 2/2 [00:00<00:00, 60.23it/s]\n",
      "Evaluating: 100%|██████████| 1/1 [00:00<?, ?it/s]\n"
     ]
    },
    {
     "name": "stdout",
     "output_type": "stream",
     "text": [
      "Training loss: 0.2832, Training accuracy: 0.8772\n",
      "Test loss: 0.3220, Test accuracy: 0.8621\n",
      "Epoch 15/250\n"
     ]
    },
    {
     "name": "stderr",
     "output_type": "stream",
     "text": [
      "Training: 100%|██████████| 2/2 [00:00<00:00, 112.57it/s]\n",
      "Evaluating: 100%|██████████| 1/1 [00:00<00:00, 61.82it/s]\n"
     ]
    },
    {
     "name": "stdout",
     "output_type": "stream",
     "text": [
      "Training loss: 0.2256, Training accuracy: 0.9298\n",
      "Test loss: 0.3906, Test accuracy: 0.8966\n",
      "Epoch 16/250\n"
     ]
    },
    {
     "name": "stderr",
     "output_type": "stream",
     "text": [
      "Training: 100%|██████████| 2/2 [00:00<?, ?it/s]\n",
      "Evaluating: 100%|██████████| 1/1 [00:00<00:00, 59.57it/s]\n"
     ]
    },
    {
     "name": "stdout",
     "output_type": "stream",
     "text": [
      "Training loss: 0.2677, Training accuracy: 0.9123\n",
      "Test loss: 0.3687, Test accuracy: 0.8966\n",
      "Epoch 17/250\n"
     ]
    },
    {
     "name": "stderr",
     "output_type": "stream",
     "text": [
      "Training: 100%|██████████| 2/2 [00:00<00:00, 124.04it/s]\n",
      "Evaluating: 100%|██████████| 1/1 [00:00<?, ?it/s]\n"
     ]
    },
    {
     "name": "stdout",
     "output_type": "stream",
     "text": [
      "Training loss: 0.2325, Training accuracy: 0.9211\n",
      "Test loss: 0.3184, Test accuracy: 0.8621\n",
      "Epoch 18/250\n"
     ]
    },
    {
     "name": "stderr",
     "output_type": "stream",
     "text": [
      "Training: 100%|██████████| 2/2 [00:00<00:00, 121.26it/s]\n",
      "Evaluating: 100%|██████████| 1/1 [00:00<00:00, 60.26it/s]\n"
     ]
    },
    {
     "name": "stdout",
     "output_type": "stream",
     "text": [
      "Training loss: 0.2853, Training accuracy: 0.8596\n",
      "Test loss: 0.3170, Test accuracy: 0.8621\n",
      "Epoch 19/250\n"
     ]
    },
    {
     "name": "stderr",
     "output_type": "stream",
     "text": [
      "Training: 100%|██████████| 2/2 [00:00<00:00, 125.71it/s]\n",
      "Evaluating: 100%|██████████| 1/1 [00:00<?, ?it/s]\n"
     ]
    },
    {
     "name": "stdout",
     "output_type": "stream",
     "text": [
      "Training loss: 0.2093, Training accuracy: 0.9123\n",
      "Test loss: 0.4021, Test accuracy: 0.8966\n",
      "Epoch 20/250\n"
     ]
    },
    {
     "name": "stderr",
     "output_type": "stream",
     "text": [
      "Training: 100%|██████████| 2/2 [00:00<00:00, 112.85it/s]\n",
      "Evaluating: 100%|██████████| 1/1 [00:00<?, ?it/s]\n"
     ]
    },
    {
     "name": "stdout",
     "output_type": "stream",
     "text": [
      "Training loss: 0.2510, Training accuracy: 0.9123\n",
      "Test loss: 0.3870, Test accuracy: 0.8966\n",
      "Epoch 21/250\n"
     ]
    },
    {
     "name": "stderr",
     "output_type": "stream",
     "text": [
      "Training: 100%|██████████| 2/2 [00:00<00:00, 119.81it/s]\n",
      "Evaluating: 100%|██████████| 1/1 [00:00<?, ?it/s]\n"
     ]
    },
    {
     "name": "stdout",
     "output_type": "stream",
     "text": [
      "Training loss: 0.2172, Training accuracy: 0.9211\n",
      "Test loss: 0.3120, Test accuracy: 0.8621\n",
      "Epoch 22/250\n"
     ]
    },
    {
     "name": "stderr",
     "output_type": "stream",
     "text": [
      "Training: 100%|██████████| 2/2 [00:00<00:00, 119.92it/s]\n",
      "Evaluating: 100%|██████████| 1/1 [00:00<00:00, 59.75it/s]\n"
     ]
    },
    {
     "name": "stdout",
     "output_type": "stream",
     "text": [
      "Training loss: 0.2240, Training accuracy: 0.9386\n",
      "Test loss: 0.3094, Test accuracy: 0.8621\n",
      "Epoch 23/250\n"
     ]
    },
    {
     "name": "stderr",
     "output_type": "stream",
     "text": [
      "Training: 100%|██████████| 2/2 [00:00<00:00, 119.32it/s]\n",
      "Evaluating: 100%|██████████| 1/1 [00:00<?, ?it/s]\n"
     ]
    },
    {
     "name": "stdout",
     "output_type": "stream",
     "text": [
      "Training loss: 0.2245, Training accuracy: 0.9211\n",
      "Test loss: 0.3522, Test accuracy: 0.8966\n",
      "Epoch 24/250\n"
     ]
    },
    {
     "name": "stderr",
     "output_type": "stream",
     "text": [
      "Training: 100%|██████████| 2/2 [00:00<00:00, 119.39it/s]\n",
      "Evaluating: 100%|██████████| 1/1 [00:00<00:00, 66.31it/s]\n"
     ]
    },
    {
     "name": "stdout",
     "output_type": "stream",
     "text": [
      "Training loss: 0.2165, Training accuracy: 0.9386\n",
      "Test loss: 0.3513, Test accuracy: 0.8966\n",
      "Epoch 25/250\n"
     ]
    },
    {
     "name": "stderr",
     "output_type": "stream",
     "text": [
      "Training: 100%|██████████| 2/2 [00:00<?, ?it/s]\n",
      "Evaluating: 100%|██████████| 1/1 [00:00<00:00, 57.84it/s]\n"
     ]
    },
    {
     "name": "stdout",
     "output_type": "stream",
     "text": [
      "Training loss: 0.1990, Training accuracy: 0.9211\n",
      "Test loss: 0.3042, Test accuracy: 0.8621\n",
      "Epoch 26/250\n"
     ]
    },
    {
     "name": "stderr",
     "output_type": "stream",
     "text": [
      "Training: 100%|██████████| 2/2 [00:00<00:00, 126.18it/s]\n",
      "Evaluating: 100%|██████████| 1/1 [00:00<?, ?it/s]\n"
     ]
    },
    {
     "name": "stdout",
     "output_type": "stream",
     "text": [
      "Training loss: 0.2140, Training accuracy: 0.9298\n",
      "Test loss: 0.3011, Test accuracy: 0.8621\n",
      "Epoch 27/250\n"
     ]
    },
    {
     "name": "stderr",
     "output_type": "stream",
     "text": [
      "Training: 100%|██████████| 2/2 [00:00<00:00, 118.45it/s]\n",
      "Evaluating: 100%|██████████| 1/1 [00:00<?, ?it/s]\n"
     ]
    },
    {
     "name": "stdout",
     "output_type": "stream",
     "text": [
      "Training loss: 0.1970, Training accuracy: 0.9386\n",
      "Test loss: 0.3420, Test accuracy: 0.8966\n",
      "Epoch 28/250\n"
     ]
    },
    {
     "name": "stderr",
     "output_type": "stream",
     "text": [
      "Training: 100%|██████████| 2/2 [00:00<00:00, 1766.39it/s]\n",
      "Evaluating: 100%|██████████| 1/1 [00:00<00:00, 63.78it/s]\n"
     ]
    },
    {
     "name": "stdout",
     "output_type": "stream",
     "text": [
      "Training loss: 0.2408, Training accuracy: 0.9386\n",
      "Test loss: 0.3432, Test accuracy: 0.8966\n",
      "Epoch 29/250\n"
     ]
    },
    {
     "name": "stderr",
     "output_type": "stream",
     "text": [
      "Training: 100%|██████████| 2/2 [00:00<?, ?it/s]\n",
      "Evaluating: 100%|██████████| 1/1 [00:00<00:00, 59.82it/s]\n"
     ]
    },
    {
     "name": "stdout",
     "output_type": "stream",
     "text": [
      "Training loss: 0.1994, Training accuracy: 0.9211\n",
      "Test loss: 0.2914, Test accuracy: 0.8621\n",
      "Epoch 30/250\n"
     ]
    },
    {
     "name": "stderr",
     "output_type": "stream",
     "text": [
      "Training: 100%|██████████| 2/2 [00:00<?, ?it/s]\n",
      "Evaluating: 100%|██████████| 1/1 [00:00<00:00, 54.18it/s]\n"
     ]
    },
    {
     "name": "stdout",
     "output_type": "stream",
     "text": [
      "Training loss: 0.2052, Training accuracy: 0.9386\n",
      "Test loss: 0.3021, Test accuracy: 0.8621\n",
      "Epoch 31/250\n"
     ]
    },
    {
     "name": "stderr",
     "output_type": "stream",
     "text": [
      "Training: 100%|██████████| 2/2 [00:00<00:00, 135.86it/s]\n",
      "Evaluating: 100%|██████████| 1/1 [00:00<?, ?it/s]\n"
     ]
    },
    {
     "name": "stdout",
     "output_type": "stream",
     "text": [
      "Training loss: 0.2054, Training accuracy: 0.9211\n",
      "Test loss: 0.3766, Test accuracy: 0.8966\n",
      "Epoch 32/250\n"
     ]
    },
    {
     "name": "stderr",
     "output_type": "stream",
     "text": [
      "Training: 100%|██████████| 2/2 [00:00<00:00, 118.95it/s]\n",
      "Evaluating: 100%|██████████| 1/1 [00:00<?, ?it/s]\n"
     ]
    },
    {
     "name": "stdout",
     "output_type": "stream",
     "text": [
      "Training loss: 0.2142, Training accuracy: 0.9298\n",
      "Test loss: 0.3018, Test accuracy: 0.8621\n",
      "Epoch 33/250\n"
     ]
    },
    {
     "name": "stderr",
     "output_type": "stream",
     "text": [
      "Training: 100%|██████████| 2/2 [00:00<00:00, 114.53it/s]\n",
      "Evaluating: 100%|██████████| 1/1 [00:00<?, ?it/s]\n"
     ]
    },
    {
     "name": "stdout",
     "output_type": "stream",
     "text": [
      "Training loss: 0.1783, Training accuracy: 0.9211\n",
      "Test loss: 0.2826, Test accuracy: 0.8621\n",
      "Epoch 34/250\n"
     ]
    },
    {
     "name": "stderr",
     "output_type": "stream",
     "text": [
      "Training: 100%|██████████| 2/2 [00:00<?, ?it/s]\n",
      "Evaluating: 100%|██████████| 1/1 [00:00<00:00, 59.27it/s]\n"
     ]
    },
    {
     "name": "stdout",
     "output_type": "stream",
     "text": [
      "Training loss: 0.2047, Training accuracy: 0.9386\n",
      "Test loss: 0.2949, Test accuracy: 0.8621\n",
      "Epoch 35/250\n"
     ]
    },
    {
     "name": "stderr",
     "output_type": "stream",
     "text": [
      "Training: 100%|██████████| 2/2 [00:00<00:00, 123.55it/s]\n",
      "Evaluating: 100%|██████████| 1/1 [00:00<?, ?it/s]\n"
     ]
    },
    {
     "name": "stdout",
     "output_type": "stream",
     "text": [
      "Training loss: 0.1723, Training accuracy: 0.9211\n",
      "Test loss: 0.3675, Test accuracy: 0.8966\n",
      "Epoch 36/250\n"
     ]
    },
    {
     "name": "stderr",
     "output_type": "stream",
     "text": [
      "Training: 100%|██████████| 2/2 [00:00<00:00, 119.96it/s]\n",
      "Evaluating: 100%|██████████| 1/1 [00:00<00:00, 64.00it/s]\n"
     ]
    },
    {
     "name": "stdout",
     "output_type": "stream",
     "text": [
      "Training loss: 0.2045, Training accuracy: 0.9298\n",
      "Test loss: 0.2989, Test accuracy: 0.8966\n",
      "Epoch 37/250\n"
     ]
    },
    {
     "name": "stderr",
     "output_type": "stream",
     "text": [
      "Training: 100%|██████████| 2/2 [00:00<00:00, 1072.03it/s]\n",
      "Evaluating: 100%|██████████| 1/1 [00:00<00:00, 70.96it/s]\n"
     ]
    },
    {
     "name": "stdout",
     "output_type": "stream",
     "text": [
      "Training loss: 0.1761, Training accuracy: 0.9386\n",
      "Test loss: 0.2730, Test accuracy: 0.8621\n",
      "Epoch 38/250\n"
     ]
    },
    {
     "name": "stderr",
     "output_type": "stream",
     "text": [
      "Training: 100%|██████████| 2/2 [00:00<00:00, 120.29it/s]\n",
      "Evaluating: 100%|██████████| 1/1 [00:00<?, ?it/s]\n"
     ]
    },
    {
     "name": "stdout",
     "output_type": "stream",
     "text": [
      "Training loss: 0.1914, Training accuracy: 0.9386\n",
      "Test loss: 0.2924, Test accuracy: 0.8966\n",
      "Epoch 39/250\n"
     ]
    },
    {
     "name": "stderr",
     "output_type": "stream",
     "text": [
      "Training: 100%|██████████| 2/2 [00:00<00:00, 109.85it/s]\n",
      "Evaluating: 100%|██████████| 1/1 [00:00<?, ?it/s]\n"
     ]
    },
    {
     "name": "stdout",
     "output_type": "stream",
     "text": [
      "Training loss: 0.1668, Training accuracy: 0.9386\n",
      "Test loss: 0.3125, Test accuracy: 0.8966\n",
      "Epoch 40/250\n"
     ]
    },
    {
     "name": "stderr",
     "output_type": "stream",
     "text": [
      "Training: 100%|██████████| 2/2 [00:00<00:00, 134.49it/s]\n",
      "Evaluating: 100%|██████████| 1/1 [00:00<00:00, 57.81it/s]\n"
     ]
    },
    {
     "name": "stdout",
     "output_type": "stream",
     "text": [
      "Training loss: 0.1736, Training accuracy: 0.9386\n",
      "Test loss: 0.2881, Test accuracy: 0.8966\n",
      "Epoch 41/250\n"
     ]
    },
    {
     "name": "stderr",
     "output_type": "stream",
     "text": [
      "Training: 100%|██████████| 2/2 [00:00<00:00, 125.47it/s]\n",
      "Evaluating: 100%|██████████| 1/1 [00:00<?, ?it/s]\n"
     ]
    },
    {
     "name": "stdout",
     "output_type": "stream",
     "text": [
      "Training loss: 0.1676, Training accuracy: 0.9298\n",
      "Test loss: 0.2635, Test accuracy: 0.8621\n",
      "Epoch 42/250\n"
     ]
    },
    {
     "name": "stderr",
     "output_type": "stream",
     "text": [
      "Training: 100%|██████████| 2/2 [00:00<00:00, 117.31it/s]\n",
      "Evaluating: 100%|██████████| 1/1 [00:00<?, ?it/s]\n"
     ]
    },
    {
     "name": "stdout",
     "output_type": "stream",
     "text": [
      "Training loss: 0.1686, Training accuracy: 0.9298\n",
      "Test loss: 0.2850, Test accuracy: 0.8966\n",
      "Epoch 43/250\n"
     ]
    },
    {
     "name": "stderr",
     "output_type": "stream",
     "text": [
      "Training: 100%|██████████| 2/2 [00:00<00:00, 118.02it/s]\n",
      "Evaluating: 100%|██████████| 1/1 [00:00<00:00, 60.22it/s]\n"
     ]
    },
    {
     "name": "stdout",
     "output_type": "stream",
     "text": [
      "Training loss: 0.1568, Training accuracy: 0.9298\n",
      "Test loss: 0.3024, Test accuracy: 0.8966\n",
      "Epoch 44/250\n"
     ]
    },
    {
     "name": "stderr",
     "output_type": "stream",
     "text": [
      "Training: 100%|██████████| 2/2 [00:00<?, ?it/s]\n",
      "Evaluating: 100%|██████████| 1/1 [00:00<00:00, 60.57it/s]\n"
     ]
    },
    {
     "name": "stdout",
     "output_type": "stream",
     "text": [
      "Training loss: 0.1604, Training accuracy: 0.9474\n",
      "Test loss: 0.2672, Test accuracy: 0.8621\n",
      "Epoch 45/250\n"
     ]
    },
    {
     "name": "stderr",
     "output_type": "stream",
     "text": [
      "Training: 100%|██████████| 2/2 [00:00<00:00, 116.56it/s]\n",
      "Evaluating: 100%|██████████| 1/1 [00:00<?, ?it/s]\n"
     ]
    },
    {
     "name": "stdout",
     "output_type": "stream",
     "text": [
      "Training loss: 0.1566, Training accuracy: 0.9386\n",
      "Test loss: 0.2589, Test accuracy: 0.8621\n",
      "Epoch 46/250\n"
     ]
    },
    {
     "name": "stderr",
     "output_type": "stream",
     "text": [
      "Training: 100%|██████████| 2/2 [00:00<00:00, 123.41it/s]\n",
      "Evaluating: 100%|██████████| 1/1 [00:00<?, ?it/s]\n"
     ]
    },
    {
     "name": "stdout",
     "output_type": "stream",
     "text": [
      "Training loss: 0.1584, Training accuracy: 0.9298\n",
      "Test loss: 0.2711, Test accuracy: 0.8966\n",
      "Epoch 47/250\n"
     ]
    },
    {
     "name": "stderr",
     "output_type": "stream",
     "text": [
      "Training: 100%|██████████| 2/2 [00:00<?, ?it/s]\n",
      "Evaluating: 100%|██████████| 1/1 [00:00<00:00, 55.91it/s]\n"
     ]
    },
    {
     "name": "stdout",
     "output_type": "stream",
     "text": [
      "Training loss: 0.1505, Training accuracy: 0.9386\n",
      "Test loss: 0.2736, Test accuracy: 0.8966\n",
      "Epoch 48/250\n"
     ]
    },
    {
     "name": "stderr",
     "output_type": "stream",
     "text": [
      "Training: 100%|██████████| 2/2 [00:00<?, ?it/s]\n",
      "Evaluating: 100%|██████████| 1/1 [00:00<00:00, 246.90it/s]\n"
     ]
    },
    {
     "name": "stdout",
     "output_type": "stream",
     "text": [
      "Training loss: 0.1558, Training accuracy: 0.9386\n",
      "Test loss: 0.2620, Test accuracy: 0.8966\n",
      "Epoch 49/250\n"
     ]
    },
    {
     "name": "stderr",
     "output_type": "stream",
     "text": [
      "Training: 100%|██████████| 2/2 [00:00<00:00, 124.03it/s]\n",
      "Evaluating: 100%|██████████| 1/1 [00:00<?, ?it/s]\n"
     ]
    },
    {
     "name": "stdout",
     "output_type": "stream",
     "text": [
      "Training loss: 0.1442, Training accuracy: 0.9386\n",
      "Test loss: 0.2774, Test accuracy: 0.8966\n",
      "Epoch 50/250\n"
     ]
    },
    {
     "name": "stderr",
     "output_type": "stream",
     "text": [
      "Training: 100%|██████████| 2/2 [00:00<00:00, 77.88it/s]\n",
      "Evaluating: 100%|██████████| 1/1 [00:00<00:00, 55.88it/s]\n"
     ]
    },
    {
     "name": "stdout",
     "output_type": "stream",
     "text": [
      "Training loss: 0.1621, Training accuracy: 0.9298\n",
      "Test loss: 0.2799, Test accuracy: 0.8966\n",
      "Epoch 51/250\n"
     ]
    },
    {
     "name": "stderr",
     "output_type": "stream",
     "text": [
      "Training: 100%|██████████| 2/2 [00:00<00:00, 126.83it/s]\n",
      "Evaluating: 100%|██████████| 1/1 [00:00<00:00, 57.12it/s]\n"
     ]
    },
    {
     "name": "stdout",
     "output_type": "stream",
     "text": [
      "Training loss: 0.1565, Training accuracy: 0.9386\n",
      "Test loss: 0.2457, Test accuracy: 0.8621\n",
      "Epoch 52/250\n"
     ]
    },
    {
     "name": "stderr",
     "output_type": "stream",
     "text": [
      "Training: 100%|██████████| 2/2 [00:00<00:00, 87.66it/s]\n",
      "Evaluating: 100%|██████████| 1/1 [00:00<00:00, 109.38it/s]\n"
     ]
    },
    {
     "name": "stdout",
     "output_type": "stream",
     "text": [
      "Training loss: 0.1526, Training accuracy: 0.9474\n",
      "Test loss: 0.2721, Test accuracy: 0.8966\n",
      "Epoch 53/250\n"
     ]
    },
    {
     "name": "stderr",
     "output_type": "stream",
     "text": [
      "Training: 100%|██████████| 2/2 [00:00<00:00, 131.23it/s]\n",
      "Evaluating: 100%|██████████| 1/1 [00:00<00:00, 105.20it/s]\n"
     ]
    },
    {
     "name": "stdout",
     "output_type": "stream",
     "text": [
      "Training loss: 0.1686, Training accuracy: 0.9474\n",
      "Test loss: 0.2855, Test accuracy: 0.8966\n",
      "Epoch 54/250\n"
     ]
    },
    {
     "name": "stderr",
     "output_type": "stream",
     "text": [
      "Training: 100%|██████████| 2/2 [00:00<00:00, 380.85it/s]\n",
      "Evaluating: 100%|██████████| 1/1 [00:00<00:00, 63.78it/s]\n"
     ]
    },
    {
     "name": "stdout",
     "output_type": "stream",
     "text": [
      "Training loss: 0.1498, Training accuracy: 0.9386\n",
      "Test loss: 0.2420, Test accuracy: 0.8621\n",
      "Epoch 55/250\n"
     ]
    },
    {
     "name": "stderr",
     "output_type": "stream",
     "text": [
      "Training: 100%|██████████| 2/2 [00:00<00:00, 142.17it/s]\n",
      "Evaluating: 100%|██████████| 1/1 [00:00<00:00, 52.33it/s]\n"
     ]
    },
    {
     "name": "stdout",
     "output_type": "stream",
     "text": [
      "Training loss: 0.1513, Training accuracy: 0.9561\n",
      "Test loss: 0.2591, Test accuracy: 0.8966\n",
      "Epoch 56/250\n"
     ]
    },
    {
     "name": "stderr",
     "output_type": "stream",
     "text": [
      "Training: 100%|██████████| 2/2 [00:00<00:00, 154.85it/s]\n",
      "Evaluating: 100%|██████████| 1/1 [00:00<00:00, 166.70it/s]\n"
     ]
    },
    {
     "name": "stdout",
     "output_type": "stream",
     "text": [
      "Training loss: 0.1418, Training accuracy: 0.9474\n",
      "Test loss: 0.2943, Test accuracy: 0.8966\n",
      "Epoch 57/250\n"
     ]
    },
    {
     "name": "stderr",
     "output_type": "stream",
     "text": [
      "Training: 100%|██████████| 2/2 [00:00<00:00, 167.21it/s]\n",
      "Evaluating: 100%|██████████| 1/1 [00:00<00:00, 200.04it/s]\n"
     ]
    },
    {
     "name": "stdout",
     "output_type": "stream",
     "text": [
      "Training loss: 0.1513, Training accuracy: 0.9386\n",
      "Test loss: 0.2454, Test accuracy: 0.8966\n",
      "Epoch 58/250\n"
     ]
    },
    {
     "name": "stderr",
     "output_type": "stream",
     "text": [
      "Training: 100%|██████████| 2/2 [00:00<00:00, 273.13it/s]\n",
      "Evaluating: 100%|██████████| 1/1 [00:00<?, ?it/s]\n"
     ]
    },
    {
     "name": "stdout",
     "output_type": "stream",
     "text": [
      "Training loss: 0.1414, Training accuracy: 0.9474\n",
      "Test loss: 0.2485, Test accuracy: 0.8966\n",
      "Epoch 59/250\n"
     ]
    },
    {
     "name": "stderr",
     "output_type": "stream",
     "text": [
      "Training: 100%|██████████| 2/2 [00:00<00:00, 200.03it/s]\n",
      "Evaluating: 100%|██████████| 1/1 [00:00<00:00, 90.92it/s]\n"
     ]
    },
    {
     "name": "stdout",
     "output_type": "stream",
     "text": [
      "Training loss: 0.1401, Training accuracy: 0.9474\n",
      "Test loss: 0.2555, Test accuracy: 0.8966\n",
      "Epoch 60/250\n"
     ]
    },
    {
     "name": "stderr",
     "output_type": "stream",
     "text": [
      "Training: 100%|██████████| 2/2 [00:00<00:00, 263.92it/s]\n",
      "Evaluating: 100%|██████████| 1/1 [00:00<?, ?it/s]\n"
     ]
    },
    {
     "name": "stdout",
     "output_type": "stream",
     "text": [
      "Training loss: 0.1358, Training accuracy: 0.9474\n",
      "Test loss: 0.2795, Test accuracy: 0.8966\n",
      "Epoch 61/250\n"
     ]
    },
    {
     "name": "stderr",
     "output_type": "stream",
     "text": [
      "Training: 100%|██████████| 2/2 [00:00<00:00, 97.37it/s]\n",
      "Evaluating: 100%|██████████| 1/1 [00:00<00:00, 75.17it/s]\n"
     ]
    },
    {
     "name": "stdout",
     "output_type": "stream",
     "text": [
      "Training loss: 0.1407, Training accuracy: 0.9474\n",
      "Test loss: 0.2435, Test accuracy: 0.8966\n",
      "Epoch 62/250\n"
     ]
    },
    {
     "name": "stderr",
     "output_type": "stream",
     "text": [
      "Training: 100%|██████████| 2/2 [00:00<00:00, 120.42it/s]\n",
      "Evaluating: 100%|██████████| 1/1 [00:00<?, ?it/s]\n"
     ]
    },
    {
     "name": "stdout",
     "output_type": "stream",
     "text": [
      "Training loss: 0.1383, Training accuracy: 0.9474\n",
      "Test loss: 0.2389, Test accuracy: 0.8966\n",
      "Epoch 63/250\n"
     ]
    },
    {
     "name": "stderr",
     "output_type": "stream",
     "text": [
      "Training: 100%|██████████| 2/2 [00:00<00:00, 801.97it/s]\n",
      "Evaluating: 100%|██████████| 1/1 [00:00<?, ?it/s]\n"
     ]
    },
    {
     "name": "stdout",
     "output_type": "stream",
     "text": [
      "Training loss: 0.1380, Training accuracy: 0.9386\n",
      "Test loss: 0.2647, Test accuracy: 0.8966\n",
      "Epoch 64/250\n"
     ]
    },
    {
     "name": "stderr",
     "output_type": "stream",
     "text": [
      "Training: 100%|██████████| 2/2 [00:00<?, ?it/s]\n",
      "Evaluating: 100%|██████████| 1/1 [00:00<00:00, 60.53it/s]\n"
     ]
    },
    {
     "name": "stdout",
     "output_type": "stream",
     "text": [
      "Training loss: 0.1302, Training accuracy: 0.9474\n",
      "Test loss: 0.2393, Test accuracy: 0.8966\n",
      "Epoch 65/250\n"
     ]
    },
    {
     "name": "stderr",
     "output_type": "stream",
     "text": [
      "Training: 100%|██████████| 2/2 [00:00<?, ?it/s]\n",
      "Evaluating: 100%|██████████| 1/1 [00:00<00:00, 60.00it/s]\n"
     ]
    },
    {
     "name": "stdout",
     "output_type": "stream",
     "text": [
      "Training loss: 0.1313, Training accuracy: 0.9474\n",
      "Test loss: 0.2458, Test accuracy: 0.8966\n",
      "Epoch 66/250\n"
     ]
    },
    {
     "name": "stderr",
     "output_type": "stream",
     "text": [
      "Training: 100%|██████████| 2/2 [00:00<00:00, 116.00it/s]\n",
      "Evaluating: 100%|██████████| 1/1 [00:00<?, ?it/s]\n"
     ]
    },
    {
     "name": "stdout",
     "output_type": "stream",
     "text": [
      "Training loss: 0.1277, Training accuracy: 0.9561\n",
      "Test loss: 0.2534, Test accuracy: 0.8966\n",
      "Epoch 67/250\n"
     ]
    },
    {
     "name": "stderr",
     "output_type": "stream",
     "text": [
      "Training: 100%|██████████| 2/2 [00:00<00:00, 125.93it/s]\n",
      "Evaluating: 100%|██████████| 1/1 [00:00<?, ?it/s]\n"
     ]
    },
    {
     "name": "stdout",
     "output_type": "stream",
     "text": [
      "Training loss: 0.1322, Training accuracy: 0.9474\n",
      "Test loss: 0.2427, Test accuracy: 0.8966\n",
      "Epoch 68/250\n"
     ]
    },
    {
     "name": "stderr",
     "output_type": "stream",
     "text": [
      "Training: 100%|██████████| 2/2 [00:00<00:00, 995.33it/s]\n",
      "Evaluating: 100%|██████████| 1/1 [00:00<00:00, 62.19it/s]\n"
     ]
    },
    {
     "name": "stdout",
     "output_type": "stream",
     "text": [
      "Training loss: 0.1325, Training accuracy: 0.9474\n",
      "Test loss: 0.2433, Test accuracy: 0.8966\n",
      "Epoch 69/250\n"
     ]
    },
    {
     "name": "stderr",
     "output_type": "stream",
     "text": [
      "Training: 100%|██████████| 2/2 [00:00<00:00, 97.88it/s]\n",
      "Evaluating: 100%|██████████| 1/1 [00:00<00:00, 235.53it/s]\n"
     ]
    },
    {
     "name": "stdout",
     "output_type": "stream",
     "text": [
      "Training loss: 0.1209, Training accuracy: 0.9561\n",
      "Test loss: 0.2331, Test accuracy: 0.8966\n",
      "Epoch 70/250\n"
     ]
    },
    {
     "name": "stderr",
     "output_type": "stream",
     "text": [
      "Training: 100%|██████████| 2/2 [00:00<00:00, 120.55it/s]\n",
      "Evaluating: 100%|██████████| 1/1 [00:00<00:00, 154.70it/s]\n"
     ]
    },
    {
     "name": "stdout",
     "output_type": "stream",
     "text": [
      "Training loss: 0.1272, Training accuracy: 0.9561\n",
      "Test loss: 0.2495, Test accuracy: 0.8966\n",
      "Epoch 71/250\n"
     ]
    },
    {
     "name": "stderr",
     "output_type": "stream",
     "text": [
      "Training: 100%|██████████| 2/2 [00:00<00:00, 142.35it/s]\n",
      "Evaluating: 100%|██████████| 1/1 [00:00<00:00, 712.95it/s]\n"
     ]
    },
    {
     "name": "stdout",
     "output_type": "stream",
     "text": [
      "Training loss: 0.1195, Training accuracy: 0.9561\n",
      "Test loss: 0.2500, Test accuracy: 0.8966\n",
      "Epoch 72/250\n"
     ]
    },
    {
     "name": "stderr",
     "output_type": "stream",
     "text": [
      "Training: 100%|██████████| 2/2 [00:00<00:00, 81.75it/s]\n",
      "Evaluating: 100%|██████████| 1/1 [00:00<00:00, 185.91it/s]\n"
     ]
    },
    {
     "name": "stdout",
     "output_type": "stream",
     "text": [
      "Training loss: 0.1316, Training accuracy: 0.9561\n",
      "Test loss: 0.2425, Test accuracy: 0.8966\n",
      "Epoch 73/250\n"
     ]
    },
    {
     "name": "stderr",
     "output_type": "stream",
     "text": [
      "Training: 100%|██████████| 2/2 [00:00<00:00, 73.07it/s]\n",
      "Evaluating: 100%|██████████| 1/1 [00:00<00:00, 130.43it/s]\n"
     ]
    },
    {
     "name": "stdout",
     "output_type": "stream",
     "text": [
      "Training loss: 0.1359, Training accuracy: 0.9474\n",
      "Test loss: 0.2325, Test accuracy: 0.8966\n",
      "Epoch 74/250\n"
     ]
    },
    {
     "name": "stderr",
     "output_type": "stream",
     "text": [
      "Training: 100%|██████████| 2/2 [00:00<00:00, 91.19it/s]\n",
      "Evaluating: 100%|██████████| 1/1 [00:00<?, ?it/s]\n"
     ]
    },
    {
     "name": "stdout",
     "output_type": "stream",
     "text": [
      "Training loss: 0.1173, Training accuracy: 0.9561\n",
      "Test loss: 0.2687, Test accuracy: 0.8966\n",
      "Epoch 75/250\n"
     ]
    },
    {
     "name": "stderr",
     "output_type": "stream",
     "text": [
      "Training: 100%|██████████| 2/2 [00:00<00:00, 60.38it/s]\n",
      "Evaluating: 100%|██████████| 1/1 [00:00<00:00, 59.94it/s]\n"
     ]
    },
    {
     "name": "stdout",
     "output_type": "stream",
     "text": [
      "Training loss: 0.1552, Training accuracy: 0.9386\n",
      "Test loss: 0.2478, Test accuracy: 0.8966\n",
      "Epoch 76/250\n"
     ]
    },
    {
     "name": "stderr",
     "output_type": "stream",
     "text": [
      "Training: 100%|██████████| 2/2 [00:00<?, ?it/s]\n",
      "Evaluating: 100%|██████████| 1/1 [00:00<00:00, 45.72it/s]\n"
     ]
    },
    {
     "name": "stdout",
     "output_type": "stream",
     "text": [
      "Training loss: 0.1165, Training accuracy: 0.9561\n",
      "Test loss: 0.2400, Test accuracy: 0.8966\n",
      "Epoch 77/250\n"
     ]
    },
    {
     "name": "stderr",
     "output_type": "stream",
     "text": [
      "Training: 100%|██████████| 2/2 [00:00<00:00, 83.90it/s]\n",
      "Evaluating: 100%|██████████| 1/1 [00:00<00:00, 375.36it/s]\n"
     ]
    },
    {
     "name": "stdout",
     "output_type": "stream",
     "text": [
      "Training loss: 0.1153, Training accuracy: 0.9561\n",
      "Test loss: 0.2338, Test accuracy: 0.8966\n",
      "Epoch 78/250\n"
     ]
    },
    {
     "name": "stderr",
     "output_type": "stream",
     "text": [
      "Training: 100%|██████████| 2/2 [00:00<00:00, 122.54it/s]\n",
      "Evaluating: 100%|██████████| 1/1 [00:00<00:00, 58.49it/s]\n"
     ]
    },
    {
     "name": "stdout",
     "output_type": "stream",
     "text": [
      "Training loss: 0.1232, Training accuracy: 0.9474\n",
      "Test loss: 0.2321, Test accuracy: 0.8966\n",
      "Epoch 79/250\n"
     ]
    },
    {
     "name": "stderr",
     "output_type": "stream",
     "text": [
      "Training: 100%|██████████| 2/2 [00:00<00:00, 87.86it/s]\n",
      "Evaluating: 100%|██████████| 1/1 [00:00<00:00, 200.06it/s]\n"
     ]
    },
    {
     "name": "stdout",
     "output_type": "stream",
     "text": [
      "Training loss: 0.1124, Training accuracy: 0.9474\n",
      "Test loss: 0.2313, Test accuracy: 0.8966\n",
      "Epoch 80/250\n"
     ]
    },
    {
     "name": "stderr",
     "output_type": "stream",
     "text": [
      "Training: 100%|██████████| 2/2 [00:00<00:00, 436.77it/s]\n",
      "Evaluating: 100%|██████████| 1/1 [00:00<00:00, 70.83it/s]\n"
     ]
    },
    {
     "name": "stdout",
     "output_type": "stream",
     "text": [
      "Training loss: 0.1173, Training accuracy: 0.9561\n",
      "Test loss: 0.2331, Test accuracy: 0.8966\n",
      "Epoch 81/250\n"
     ]
    },
    {
     "name": "stderr",
     "output_type": "stream",
     "text": [
      "Training: 100%|██████████| 2/2 [00:00<00:00, 136.29it/s]\n",
      "Evaluating: 100%|██████████| 1/1 [00:00<?, ?it/s]\n"
     ]
    },
    {
     "name": "stdout",
     "output_type": "stream",
     "text": [
      "Training loss: 0.1136, Training accuracy: 0.9474\n",
      "Test loss: 0.2370, Test accuracy: 0.8966\n",
      "Epoch 82/250\n"
     ]
    },
    {
     "name": "stderr",
     "output_type": "stream",
     "text": [
      "Training: 100%|██████████| 2/2 [00:00<00:00, 108.62it/s]\n",
      "Evaluating: 100%|██████████| 1/1 [00:00<00:00, 58.21it/s]\n"
     ]
    },
    {
     "name": "stdout",
     "output_type": "stream",
     "text": [
      "Training loss: 0.1227, Training accuracy: 0.9561\n",
      "Test loss: 0.2419, Test accuracy: 0.8966\n",
      "Epoch 83/250\n"
     ]
    },
    {
     "name": "stderr",
     "output_type": "stream",
     "text": [
      "Training: 100%|██████████| 2/2 [00:00<00:00, 127.98it/s]\n",
      "Evaluating: 100%|██████████| 1/1 [00:00<?, ?it/s]\n"
     ]
    },
    {
     "name": "stdout",
     "output_type": "stream",
     "text": [
      "Training loss: 0.1192, Training accuracy: 0.9561\n",
      "Test loss: 0.2450, Test accuracy: 0.8966\n",
      "Epoch 84/250\n"
     ]
    },
    {
     "name": "stderr",
     "output_type": "stream",
     "text": [
      "Training: 100%|██████████| 2/2 [00:00<00:00, 115.67it/s]\n",
      "Evaluating: 100%|██████████| 1/1 [00:00<?, ?it/s]\n"
     ]
    },
    {
     "name": "stdout",
     "output_type": "stream",
     "text": [
      "Training loss: 0.1208, Training accuracy: 0.9561\n",
      "Test loss: 0.2447, Test accuracy: 0.8966\n",
      "Epoch 85/250\n"
     ]
    },
    {
     "name": "stderr",
     "output_type": "stream",
     "text": [
      "Training: 100%|██████████| 2/2 [00:00<00:00, 118.60it/s]\n",
      "Evaluating: 100%|██████████| 1/1 [00:00<00:00, 60.13it/s]\n"
     ]
    },
    {
     "name": "stdout",
     "output_type": "stream",
     "text": [
      "Training loss: 0.1176, Training accuracy: 0.9561\n",
      "Test loss: 0.2429, Test accuracy: 0.8966\n",
      "Epoch 86/250\n"
     ]
    },
    {
     "name": "stderr",
     "output_type": "stream",
     "text": [
      "Training: 100%|██████████| 2/2 [00:00<00:00, 127.99it/s]\n",
      "Evaluating: 100%|██████████| 1/1 [00:00<?, ?it/s]\n"
     ]
    },
    {
     "name": "stdout",
     "output_type": "stream",
     "text": [
      "Training loss: 0.1200, Training accuracy: 0.9561\n",
      "Test loss: 0.2408, Test accuracy: 0.8966\n",
      "Epoch 87/250\n"
     ]
    },
    {
     "name": "stderr",
     "output_type": "stream",
     "text": [
      "Training: 100%|██████████| 2/2 [00:00<00:00, 113.58it/s]\n",
      "Evaluating: 100%|██████████| 1/1 [00:00<00:00, 68.08it/s]\n"
     ]
    },
    {
     "name": "stdout",
     "output_type": "stream",
     "text": [
      "Training loss: 0.1269, Training accuracy: 0.9561\n",
      "Test loss: 0.2397, Test accuracy: 0.8966\n",
      "Epoch 88/250\n"
     ]
    },
    {
     "name": "stderr",
     "output_type": "stream",
     "text": [
      "Training: 100%|██████████| 2/2 [00:00<00:00, 1419.87it/s]\n",
      "Evaluating: 100%|██████████| 1/1 [00:00<00:00, 65.76it/s]\n"
     ]
    },
    {
     "name": "stdout",
     "output_type": "stream",
     "text": [
      "Training loss: 0.1205, Training accuracy: 0.9561\n",
      "Test loss: 0.2353, Test accuracy: 0.8966\n",
      "Epoch 89/250\n"
     ]
    },
    {
     "name": "stderr",
     "output_type": "stream",
     "text": [
      "Training: 100%|██████████| 2/2 [00:00<?, ?it/s]\n",
      "Evaluating: 100%|██████████| 1/1 [00:00<00:00, 53.29it/s]\n"
     ]
    },
    {
     "name": "stdout",
     "output_type": "stream",
     "text": [
      "Training loss: 0.1191, Training accuracy: 0.9561\n",
      "Test loss: 0.2334, Test accuracy: 0.8966\n",
      "Epoch 90/250\n"
     ]
    },
    {
     "name": "stderr",
     "output_type": "stream",
     "text": [
      "Training: 100%|██████████| 2/2 [00:00<?, ?it/s]\n",
      "Evaluating: 100%|██████████| 1/1 [00:00<00:00, 64.00it/s]\n"
     ]
    },
    {
     "name": "stdout",
     "output_type": "stream",
     "text": [
      "Training loss: 0.1162, Training accuracy: 0.9474\n",
      "Test loss: 0.2327, Test accuracy: 0.8966\n",
      "Epoch 91/250\n"
     ]
    },
    {
     "name": "stderr",
     "output_type": "stream",
     "text": [
      "Training: 100%|██████████| 2/2 [00:00<00:00, 139.94it/s]\n",
      "Evaluating: 100%|██████████| 1/1 [00:00<?, ?it/s]\n"
     ]
    },
    {
     "name": "stdout",
     "output_type": "stream",
     "text": [
      "Training loss: 0.1190, Training accuracy: 0.9474\n",
      "Test loss: 0.2338, Test accuracy: 0.8966\n",
      "Epoch 92/250\n"
     ]
    },
    {
     "name": "stderr",
     "output_type": "stream",
     "text": [
      "Training: 100%|██████████| 2/2 [00:00<00:00, 118.06it/s]\n",
      "Evaluating: 100%|██████████| 1/1 [00:00<?, ?it/s]\n"
     ]
    },
    {
     "name": "stdout",
     "output_type": "stream",
     "text": [
      "Training loss: 0.1166, Training accuracy: 0.9561\n",
      "Test loss: 0.2369, Test accuracy: 0.8966\n",
      "Epoch 93/250\n"
     ]
    },
    {
     "name": "stderr",
     "output_type": "stream",
     "text": [
      "Training: 100%|██████████| 2/2 [00:00<00:00, 120.08it/s]\n",
      "Evaluating: 100%|██████████| 1/1 [00:00<?, ?it/s]\n"
     ]
    },
    {
     "name": "stdout",
     "output_type": "stream",
     "text": [
      "Training loss: 0.1145, Training accuracy: 0.9561\n",
      "Test loss: 0.2407, Test accuracy: 0.8966\n",
      "Epoch 94/250\n"
     ]
    },
    {
     "name": "stderr",
     "output_type": "stream",
     "text": [
      "Training: 100%|██████████| 2/2 [00:00<00:00, 1028.77it/s]\n",
      "Evaluating: 100%|██████████| 1/1 [00:00<00:00, 59.76it/s]\n"
     ]
    },
    {
     "name": "stdout",
     "output_type": "stream",
     "text": [
      "Training loss: 0.1162, Training accuracy: 0.9561\n",
      "Test loss: 0.2454, Test accuracy: 0.8966\n",
      "Epoch 95/250\n"
     ]
    },
    {
     "name": "stderr",
     "output_type": "stream",
     "text": [
      "Training: 100%|██████████| 2/2 [00:00<00:00, 127.99it/s]\n",
      "Evaluating: 100%|██████████| 1/1 [00:00<?, ?it/s]\n"
     ]
    },
    {
     "name": "stdout",
     "output_type": "stream",
     "text": [
      "Training loss: 0.1227, Training accuracy: 0.9561\n",
      "Test loss: 0.2480, Test accuracy: 0.8966\n",
      "Epoch 96/250\n"
     ]
    },
    {
     "name": "stderr",
     "output_type": "stream",
     "text": [
      "Training: 100%|██████████| 2/2 [00:00<00:00, 113.21it/s]\n",
      "Evaluating: 100%|██████████| 1/1 [00:00<00:00, 59.09it/s]\n"
     ]
    },
    {
     "name": "stdout",
     "output_type": "stream",
     "text": [
      "Training loss: 0.1141, Training accuracy: 0.9561\n",
      "Test loss: 0.2431, Test accuracy: 0.8966\n",
      "Epoch 97/250\n"
     ]
    },
    {
     "name": "stderr",
     "output_type": "stream",
     "text": [
      "Training: 100%|██████████| 2/2 [00:00<00:00, 140.18it/s]\n",
      "Evaluating: 100%|██████████| 1/1 [00:00<?, ?it/s]\n"
     ]
    },
    {
     "name": "stdout",
     "output_type": "stream",
     "text": [
      "Training loss: 0.1169, Training accuracy: 0.9561\n",
      "Test loss: 0.2402, Test accuracy: 0.8966\n",
      "Epoch 98/250\n"
     ]
    },
    {
     "name": "stderr",
     "output_type": "stream",
     "text": [
      "Training: 100%|██████████| 2/2 [00:00<00:00, 101.62it/s]\n",
      "Evaluating: 100%|██████████| 1/1 [00:00<?, ?it/s]\n"
     ]
    },
    {
     "name": "stdout",
     "output_type": "stream",
     "text": [
      "Training loss: 0.1157, Training accuracy: 0.9561\n",
      "Test loss: 0.2366, Test accuracy: 0.8966\n",
      "Epoch 99/250\n"
     ]
    },
    {
     "name": "stderr",
     "output_type": "stream",
     "text": [
      "Training: 100%|██████████| 2/2 [00:00<00:00, 127.99it/s]\n",
      "Evaluating: 100%|██████████| 1/1 [00:00<?, ?it/s]\n"
     ]
    },
    {
     "name": "stdout",
     "output_type": "stream",
     "text": [
      "Training loss: 0.1216, Training accuracy: 0.9561\n",
      "Test loss: 0.2357, Test accuracy: 0.8966\n",
      "Epoch 100/250\n"
     ]
    },
    {
     "name": "stderr",
     "output_type": "stream",
     "text": [
      "Training: 100%|██████████| 2/2 [00:00<00:00, 90.32it/s]\n",
      "Evaluating: 100%|██████████| 1/1 [00:00<?, ?it/s]\n"
     ]
    },
    {
     "name": "stdout",
     "output_type": "stream",
     "text": [
      "Training loss: 0.1184, Training accuracy: 0.9561\n",
      "Test loss: 0.2342, Test accuracy: 0.8966\n",
      "Epoch 101/250\n"
     ]
    },
    {
     "name": "stderr",
     "output_type": "stream",
     "text": [
      "Training: 100%|██████████| 2/2 [00:00<00:00, 465.59it/s]\n",
      "Evaluating: 100%|██████████| 1/1 [00:00<00:00, 74.62it/s]\n"
     ]
    },
    {
     "name": "stdout",
     "output_type": "stream",
     "text": [
      "Training loss: 0.1133, Training accuracy: 0.9561\n",
      "Test loss: 0.2340, Test accuracy: 0.8966\n",
      "Epoch 102/250\n"
     ]
    },
    {
     "name": "stderr",
     "output_type": "stream",
     "text": [
      "Training: 100%|██████████| 2/2 [00:00<00:00, 200.02it/s]\n",
      "Evaluating: 100%|██████████| 1/1 [00:00<00:00, 123.04it/s]\n"
     ]
    },
    {
     "name": "stdout",
     "output_type": "stream",
     "text": [
      "Training loss: 0.1185, Training accuracy: 0.9561\n",
      "Test loss: 0.2342, Test accuracy: 0.8966\n",
      "Epoch 103/250\n"
     ]
    },
    {
     "name": "stderr",
     "output_type": "stream",
     "text": [
      "Training: 100%|██████████| 2/2 [00:00<00:00, 131.43it/s]\n",
      "Evaluating: 100%|██████████| 1/1 [00:00<00:00, 58.94it/s]\n"
     ]
    },
    {
     "name": "stdout",
     "output_type": "stream",
     "text": [
      "Training loss: 0.1154, Training accuracy: 0.9561\n",
      "Test loss: 0.2344, Test accuracy: 0.8966\n",
      "Epoch 104/250\n"
     ]
    },
    {
     "name": "stderr",
     "output_type": "stream",
     "text": [
      "Training: 100%|██████████| 2/2 [00:00<00:00, 123.15it/s]\n",
      "Evaluating: 100%|██████████| 1/1 [00:00<?, ?it/s]\n"
     ]
    },
    {
     "name": "stdout",
     "output_type": "stream",
     "text": [
      "Training loss: 0.1133, Training accuracy: 0.9561\n",
      "Test loss: 0.2346, Test accuracy: 0.8966\n",
      "Epoch 105/250\n"
     ]
    },
    {
     "name": "stderr",
     "output_type": "stream",
     "text": [
      "Training: 100%|██████████| 2/2 [00:00<00:00, 95.08it/s]\n",
      "Evaluating: 100%|██████████| 1/1 [00:00<00:00, 68.20it/s]\n"
     ]
    },
    {
     "name": "stdout",
     "output_type": "stream",
     "text": [
      "Training loss: 0.1142, Training accuracy: 0.9561\n",
      "Test loss: 0.2349, Test accuracy: 0.8966\n",
      "Epoch 106/250\n"
     ]
    },
    {
     "name": "stderr",
     "output_type": "stream",
     "text": [
      "Training: 100%|██████████| 2/2 [00:00<00:00, 118.25it/s]\n",
      "Evaluating: 100%|██████████| 1/1 [00:00<?, ?it/s]\n"
     ]
    },
    {
     "name": "stdout",
     "output_type": "stream",
     "text": [
      "Training loss: 0.1133, Training accuracy: 0.9561\n",
      "Test loss: 0.2354, Test accuracy: 0.8966\n",
      "Epoch 107/250\n"
     ]
    },
    {
     "name": "stderr",
     "output_type": "stream",
     "text": [
      "Training: 100%|██████████| 2/2 [00:00<00:00, 419.45it/s]\n",
      "Evaluating: 100%|██████████| 1/1 [00:00<00:00, 59.80it/s]\n"
     ]
    },
    {
     "name": "stdout",
     "output_type": "stream",
     "text": [
      "Training loss: 0.1137, Training accuracy: 0.9561\n",
      "Test loss: 0.2358, Test accuracy: 0.8966\n",
      "Epoch 108/250\n"
     ]
    },
    {
     "name": "stderr",
     "output_type": "stream",
     "text": [
      "Training: 100%|██████████| 2/2 [00:00<00:00, 148.51it/s]\n",
      "Evaluating: 100%|██████████| 1/1 [00:00<00:00, 53.75it/s]\n"
     ]
    },
    {
     "name": "stdout",
     "output_type": "stream",
     "text": [
      "Training loss: 0.1138, Training accuracy: 0.9561\n",
      "Test loss: 0.2364, Test accuracy: 0.8966\n",
      "Epoch 109/250\n"
     ]
    },
    {
     "name": "stderr",
     "output_type": "stream",
     "text": [
      "Training: 100%|██████████| 2/2 [00:00<00:00, 106.83it/s]\n",
      "Evaluating: 100%|██████████| 1/1 [00:00<00:00, 200.05it/s]\n"
     ]
    },
    {
     "name": "stdout",
     "output_type": "stream",
     "text": [
      "Training loss: 0.1184, Training accuracy: 0.9561\n",
      "Test loss: 0.2370, Test accuracy: 0.8966\n",
      "Epoch 110/250\n"
     ]
    },
    {
     "name": "stderr",
     "output_type": "stream",
     "text": [
      "Training: 100%|██████████| 2/2 [00:00<00:00, 662.97it/s]\n",
      "Evaluating: 100%|██████████| 1/1 [00:00<00:00, 61.55it/s]\n"
     ]
    },
    {
     "name": "stdout",
     "output_type": "stream",
     "text": [
      "Training loss: 0.1147, Training accuracy: 0.9561\n",
      "Test loss: 0.2375, Test accuracy: 0.8966\n",
      "Epoch 111/250\n"
     ]
    },
    {
     "name": "stderr",
     "output_type": "stream",
     "text": [
      "Training: 100%|██████████| 2/2 [00:00<?, ?it/s]\n",
      "Evaluating: 100%|██████████| 1/1 [00:00<?, ?it/s]\n"
     ]
    },
    {
     "name": "stdout",
     "output_type": "stream",
     "text": [
      "Training loss: 0.1171, Training accuracy: 0.9561\n",
      "Test loss: 0.2379, Test accuracy: 0.8966\n",
      "Epoch 112/250\n"
     ]
    },
    {
     "name": "stderr",
     "output_type": "stream",
     "text": [
      "Training: 100%|██████████| 2/2 [00:00<00:00, 105.95it/s]\n",
      "Evaluating: 100%|██████████| 1/1 [00:00<00:00, 64.00it/s]\n"
     ]
    },
    {
     "name": "stdout",
     "output_type": "stream",
     "text": [
      "Training loss: 0.1186, Training accuracy: 0.9561\n",
      "Test loss: 0.2383, Test accuracy: 0.8966\n",
      "Epoch 113/250\n"
     ]
    },
    {
     "name": "stderr",
     "output_type": "stream",
     "text": [
      "Training: 100%|██████████| 2/2 [00:00<?, ?it/s]\n",
      "Evaluating: 100%|██████████| 1/1 [00:00<00:00, 58.00it/s]\n"
     ]
    },
    {
     "name": "stdout",
     "output_type": "stream",
     "text": [
      "Training loss: 0.1135, Training accuracy: 0.9561\n",
      "Test loss: 0.2384, Test accuracy: 0.8966\n",
      "Epoch 114/250\n"
     ]
    },
    {
     "name": "stderr",
     "output_type": "stream",
     "text": [
      "Training: 100%|██████████| 2/2 [00:00<00:00, 127.99it/s]\n",
      "Evaluating: 100%|██████████| 1/1 [00:00<?, ?it/s]\n"
     ]
    },
    {
     "name": "stdout",
     "output_type": "stream",
     "text": [
      "Training loss: 0.1201, Training accuracy: 0.9561\n",
      "Test loss: 0.2386, Test accuracy: 0.8966\n",
      "Epoch 115/250\n"
     ]
    },
    {
     "name": "stderr",
     "output_type": "stream",
     "text": [
      "Training: 100%|██████████| 2/2 [00:00<00:00, 119.07it/s]\n",
      "Evaluating: 100%|██████████| 1/1 [00:00<?, ?it/s]\n"
     ]
    },
    {
     "name": "stdout",
     "output_type": "stream",
     "text": [
      "Training loss: 0.1166, Training accuracy: 0.9561\n",
      "Test loss: 0.2387, Test accuracy: 0.8966\n",
      "Epoch 116/250\n"
     ]
    },
    {
     "name": "stderr",
     "output_type": "stream",
     "text": [
      "Training: 100%|██████████| 2/2 [00:00<00:00, 115.70it/s]\n",
      "Evaluating: 100%|██████████| 1/1 [00:00<00:00, 61.51it/s]\n"
     ]
    },
    {
     "name": "stdout",
     "output_type": "stream",
     "text": [
      "Training loss: 0.1180, Training accuracy: 0.9561\n",
      "Test loss: 0.2388, Test accuracy: 0.8966\n",
      "Epoch 117/250\n"
     ]
    },
    {
     "name": "stderr",
     "output_type": "stream",
     "text": [
      "Training: 100%|██████████| 2/2 [00:00<?, ?it/s]\n",
      "Evaluating: 100%|██████████| 1/1 [00:00<00:00, 59.65it/s]\n"
     ]
    },
    {
     "name": "stdout",
     "output_type": "stream",
     "text": [
      "Training loss: 0.1151, Training accuracy: 0.9561\n",
      "Test loss: 0.2387, Test accuracy: 0.8966\n",
      "Epoch 118/250\n"
     ]
    },
    {
     "name": "stderr",
     "output_type": "stream",
     "text": [
      "Training: 100%|██████████| 2/2 [00:00<00:00, 127.98it/s]\n",
      "Evaluating: 100%|██████████| 1/1 [00:00<?, ?it/s]\n"
     ]
    },
    {
     "name": "stdout",
     "output_type": "stream",
     "text": [
      "Training loss: 0.1141, Training accuracy: 0.9561\n",
      "Test loss: 0.2387, Test accuracy: 0.8966\n",
      "Epoch 119/250\n"
     ]
    },
    {
     "name": "stderr",
     "output_type": "stream",
     "text": [
      "Training: 100%|██████████| 2/2 [00:00<00:00, 105.86it/s]\n",
      "Evaluating: 100%|██████████| 1/1 [00:00<?, ?it/s]\n"
     ]
    },
    {
     "name": "stdout",
     "output_type": "stream",
     "text": [
      "Training loss: 0.1146, Training accuracy: 0.9561\n",
      "Test loss: 0.2386, Test accuracy: 0.8966\n",
      "Epoch 120/250\n"
     ]
    },
    {
     "name": "stderr",
     "output_type": "stream",
     "text": [
      "Training: 100%|██████████| 2/2 [00:00<00:00, 127.98it/s]\n",
      "Evaluating: 100%|██████████| 1/1 [00:00<?, ?it/s]\n"
     ]
    },
    {
     "name": "stdout",
     "output_type": "stream",
     "text": [
      "Training loss: 0.1137, Training accuracy: 0.9561\n",
      "Test loss: 0.2385, Test accuracy: 0.8966\n",
      "Epoch 121/250\n"
     ]
    },
    {
     "name": "stderr",
     "output_type": "stream",
     "text": [
      "Training: 100%|██████████| 2/2 [00:00<00:00, 109.12it/s]\n",
      "Evaluating: 100%|██████████| 1/1 [00:00<00:00, 70.35it/s]\n"
     ]
    },
    {
     "name": "stdout",
     "output_type": "stream",
     "text": [
      "Training loss: 0.1122, Training accuracy: 0.9561\n",
      "Test loss: 0.2383, Test accuracy: 0.8966\n",
      "Epoch 122/250\n"
     ]
    },
    {
     "name": "stderr",
     "output_type": "stream",
     "text": [
      "Training: 100%|██████████| 2/2 [00:00<?, ?it/s]\n",
      "Evaluating: 100%|██████████| 1/1 [00:00<00:00, 769.03it/s]\n"
     ]
    },
    {
     "name": "stdout",
     "output_type": "stream",
     "text": [
      "Training loss: 0.1097, Training accuracy: 0.9561\n",
      "Test loss: 0.2381, Test accuracy: 0.8966\n",
      "Epoch 123/250\n"
     ]
    },
    {
     "name": "stderr",
     "output_type": "stream",
     "text": [
      "Training: 100%|██████████| 2/2 [00:00<?, ?it/s]\n",
      "Evaluating: 100%|██████████| 1/1 [00:00<?, ?it/s]\n"
     ]
    },
    {
     "name": "stdout",
     "output_type": "stream",
     "text": [
      "Training loss: 0.1193, Training accuracy: 0.9561\n",
      "Test loss: 0.2382, Test accuracy: 0.8966\n",
      "Epoch 124/250\n"
     ]
    },
    {
     "name": "stderr",
     "output_type": "stream",
     "text": [
      "Training: 100%|██████████| 2/2 [00:00<00:00, 118.92it/s]\n",
      "Evaluating: 100%|██████████| 1/1 [00:00<?, ?it/s]\n"
     ]
    },
    {
     "name": "stdout",
     "output_type": "stream",
     "text": [
      "Training loss: 0.1174, Training accuracy: 0.9561\n",
      "Test loss: 0.2382, Test accuracy: 0.8966\n",
      "Epoch 125/250\n"
     ]
    },
    {
     "name": "stderr",
     "output_type": "stream",
     "text": [
      "Training: 100%|██████████| 2/2 [00:00<00:00, 95.89it/s]\n",
      "Evaluating: 100%|██████████| 1/1 [00:00<00:00, 251.50it/s]\n"
     ]
    },
    {
     "name": "stdout",
     "output_type": "stream",
     "text": [
      "Training loss: 0.1191, Training accuracy: 0.9561\n",
      "Test loss: 0.2381, Test accuracy: 0.8966\n",
      "Epoch 126/250\n"
     ]
    },
    {
     "name": "stderr",
     "output_type": "stream",
     "text": [
      "Training: 100%|██████████| 2/2 [00:00<00:00, 116.81it/s]\n",
      "Evaluating: 100%|██████████| 1/1 [00:00<00:00, 125.01it/s]\n"
     ]
    },
    {
     "name": "stdout",
     "output_type": "stream",
     "text": [
      "Training loss: 0.1160, Training accuracy: 0.9561\n",
      "Test loss: 0.2378, Test accuracy: 0.8966\n",
      "Epoch 127/250\n"
     ]
    },
    {
     "name": "stderr",
     "output_type": "stream",
     "text": [
      "Training: 100%|██████████| 2/2 [00:00<00:00, 126.08it/s]\n",
      "Evaluating: 100%|██████████| 1/1 [00:00<00:00, 76.93it/s]\n"
     ]
    },
    {
     "name": "stdout",
     "output_type": "stream",
     "text": [
      "Training loss: 0.1155, Training accuracy: 0.9561\n",
      "Test loss: 0.2376, Test accuracy: 0.8966\n",
      "Epoch 128/250\n"
     ]
    },
    {
     "name": "stderr",
     "output_type": "stream",
     "text": [
      "Training: 100%|██████████| 2/2 [00:00<00:00, 121.88it/s]\n",
      "Evaluating: 100%|██████████| 1/1 [00:00<00:00, 166.68it/s]\n"
     ]
    },
    {
     "name": "stdout",
     "output_type": "stream",
     "text": [
      "Training loss: 0.1122, Training accuracy: 0.9561\n",
      "Test loss: 0.2373, Test accuracy: 0.8966\n",
      "Epoch 129/250\n"
     ]
    },
    {
     "name": "stderr",
     "output_type": "stream",
     "text": [
      "Training: 100%|██████████| 2/2 [00:00<00:00, 181.80it/s]\n",
      "Evaluating: 100%|██████████| 1/1 [00:00<00:00, 250.02it/s]\n"
     ]
    },
    {
     "name": "stdout",
     "output_type": "stream",
     "text": [
      "Training loss: 0.1161, Training accuracy: 0.9561\n",
      "Test loss: 0.2372, Test accuracy: 0.8966\n",
      "Epoch 130/250\n"
     ]
    },
    {
     "name": "stderr",
     "output_type": "stream",
     "text": [
      "Training: 100%|██████████| 2/2 [00:00<00:00, 141.89it/s]\n",
      "Evaluating: 100%|██████████| 1/1 [00:00<00:00, 250.08it/s]\n"
     ]
    },
    {
     "name": "stdout",
     "output_type": "stream",
     "text": [
      "Training loss: 0.1152, Training accuracy: 0.9561\n",
      "Test loss: 0.2373, Test accuracy: 0.8966\n",
      "Epoch 131/250\n"
     ]
    },
    {
     "name": "stderr",
     "output_type": "stream",
     "text": [
      "Training: 100%|██████████| 2/2 [00:00<00:00, 128.23it/s]\n",
      "Evaluating: 100%|██████████| 1/1 [00:00<00:00, 141.35it/s]\n"
     ]
    },
    {
     "name": "stdout",
     "output_type": "stream",
     "text": [
      "Training loss: 0.1140, Training accuracy: 0.9561\n",
      "Test loss: 0.2376, Test accuracy: 0.8966\n",
      "Epoch 132/250\n"
     ]
    },
    {
     "name": "stderr",
     "output_type": "stream",
     "text": [
      "Training: 100%|██████████| 2/2 [00:00<00:00, 146.03it/s]\n",
      "Evaluating: 100%|██████████| 1/1 [00:00<00:00, 60.32it/s]\n"
     ]
    },
    {
     "name": "stdout",
     "output_type": "stream",
     "text": [
      "Training loss: 0.1154, Training accuracy: 0.9561\n",
      "Test loss: 0.2377, Test accuracy: 0.8966\n",
      "Epoch 133/250\n"
     ]
    },
    {
     "name": "stderr",
     "output_type": "stream",
     "text": [
      "Training: 100%|██████████| 2/2 [00:00<00:00, 58.05it/s]\n",
      "Evaluating: 100%|██████████| 1/1 [00:00<00:00, 476.79it/s]\n"
     ]
    },
    {
     "name": "stdout",
     "output_type": "stream",
     "text": [
      "Training loss: 0.1153, Training accuracy: 0.9561\n",
      "Test loss: 0.2378, Test accuracy: 0.8966\n",
      "Epoch 134/250\n"
     ]
    },
    {
     "name": "stderr",
     "output_type": "stream",
     "text": [
      "Training: 100%|██████████| 2/2 [00:00<00:00, 113.24it/s]\n",
      "Evaluating: 100%|██████████| 1/1 [00:00<00:00, 55.70it/s]\n"
     ]
    },
    {
     "name": "stdout",
     "output_type": "stream",
     "text": [
      "Training loss: 0.1170, Training accuracy: 0.9561\n",
      "Test loss: 0.2378, Test accuracy: 0.8966\n",
      "Epoch 135/250\n"
     ]
    },
    {
     "name": "stderr",
     "output_type": "stream",
     "text": [
      "Training: 100%|██████████| 2/2 [00:00<00:00, 140.04it/s]\n",
      "Evaluating: 100%|██████████| 1/1 [00:00<00:00, 66.05it/s]\n"
     ]
    },
    {
     "name": "stdout",
     "output_type": "stream",
     "text": [
      "Training loss: 0.1187, Training accuracy: 0.9561\n",
      "Test loss: 0.2377, Test accuracy: 0.8966\n",
      "Epoch 136/250\n"
     ]
    },
    {
     "name": "stderr",
     "output_type": "stream",
     "text": [
      "Training: 100%|██████████| 2/2 [00:00<00:00, 132.29it/s]\n",
      "Evaluating: 100%|██████████| 1/1 [00:00<?, ?it/s]\n"
     ]
    },
    {
     "name": "stdout",
     "output_type": "stream",
     "text": [
      "Training loss: 0.1126, Training accuracy: 0.9561\n",
      "Test loss: 0.2376, Test accuracy: 0.8966\n",
      "Epoch 137/250\n"
     ]
    },
    {
     "name": "stderr",
     "output_type": "stream",
     "text": [
      "Training: 100%|██████████| 2/2 [00:00<00:00, 98.12it/s]\n",
      "Evaluating: 100%|██████████| 1/1 [00:00<00:00, 383.85it/s]\n"
     ]
    },
    {
     "name": "stdout",
     "output_type": "stream",
     "text": [
      "Training loss: 0.1160, Training accuracy: 0.9561\n",
      "Test loss: 0.2376, Test accuracy: 0.8966\n",
      "Epoch 138/250\n"
     ]
    },
    {
     "name": "stderr",
     "output_type": "stream",
     "text": [
      "Training: 100%|██████████| 2/2 [00:00<00:00, 153.17it/s]\n",
      "Evaluating: 100%|██████████| 1/1 [00:00<00:00, 58.07it/s]\n"
     ]
    },
    {
     "name": "stdout",
     "output_type": "stream",
     "text": [
      "Training loss: 0.1166, Training accuracy: 0.9561\n",
      "Test loss: 0.2375, Test accuracy: 0.8966\n",
      "Epoch 139/250\n"
     ]
    },
    {
     "name": "stderr",
     "output_type": "stream",
     "text": [
      "Training: 100%|██████████| 2/2 [00:00<00:00, 152.32it/s]\n",
      "Evaluating: 100%|██████████| 1/1 [00:00<00:00, 58.09it/s]\n"
     ]
    },
    {
     "name": "stdout",
     "output_type": "stream",
     "text": [
      "Training loss: 0.1197, Training accuracy: 0.9561\n",
      "Test loss: 0.2375, Test accuracy: 0.8966\n",
      "Epoch 140/250\n"
     ]
    },
    {
     "name": "stderr",
     "output_type": "stream",
     "text": [
      "Training: 100%|██████████| 2/2 [00:00<00:00, 118.52it/s]\n",
      "Evaluating: 100%|██████████| 1/1 [00:00<?, ?it/s]\n"
     ]
    },
    {
     "name": "stdout",
     "output_type": "stream",
     "text": [
      "Training loss: 0.1133, Training accuracy: 0.9561\n",
      "Test loss: 0.2374, Test accuracy: 0.8966\n",
      "Epoch 141/250\n"
     ]
    },
    {
     "name": "stderr",
     "output_type": "stream",
     "text": [
      "Training: 100%|██████████| 2/2 [00:00<00:00, 118.24it/s]\n",
      "Evaluating: 100%|██████████| 1/1 [00:00<00:00, 66.80it/s]\n"
     ]
    },
    {
     "name": "stdout",
     "output_type": "stream",
     "text": [
      "Training loss: 0.1154, Training accuracy: 0.9561\n",
      "Test loss: 0.2373, Test accuracy: 0.8966\n",
      "Epoch 142/250\n"
     ]
    },
    {
     "name": "stderr",
     "output_type": "stream",
     "text": [
      "Training: 100%|██████████| 2/2 [00:00<?, ?it/s]\n",
      "Evaluating: 100%|██████████| 1/1 [00:00<00:00, 210.15it/s]\n"
     ]
    },
    {
     "name": "stdout",
     "output_type": "stream",
     "text": [
      "Training loss: 0.1181, Training accuracy: 0.9561\n",
      "Test loss: 0.2374, Test accuracy: 0.8966\n",
      "Epoch 143/250\n"
     ]
    },
    {
     "name": "stderr",
     "output_type": "stream",
     "text": [
      "Training: 100%|██████████| 2/2 [00:00<00:00, 142.12it/s]\n",
      "Evaluating: 100%|██████████| 1/1 [00:00<00:00, 224.08it/s]\n"
     ]
    },
    {
     "name": "stdout",
     "output_type": "stream",
     "text": [
      "Training loss: 0.1155, Training accuracy: 0.9561\n",
      "Test loss: 0.2374, Test accuracy: 0.8966\n",
      "Epoch 144/250\n"
     ]
    },
    {
     "name": "stderr",
     "output_type": "stream",
     "text": [
      "Training: 100%|██████████| 2/2 [00:00<00:00, 140.69it/s]\n",
      "Evaluating: 100%|██████████| 1/1 [00:00<?, ?it/s]\n"
     ]
    },
    {
     "name": "stdout",
     "output_type": "stream",
     "text": [
      "Training loss: 0.1157, Training accuracy: 0.9561\n",
      "Test loss: 0.2375, Test accuracy: 0.8966\n",
      "Epoch 145/250\n"
     ]
    },
    {
     "name": "stderr",
     "output_type": "stream",
     "text": [
      "Training: 100%|██████████| 2/2 [00:00<00:00, 128.93it/s]\n",
      "Evaluating: 100%|██████████| 1/1 [00:00<00:00, 86.98it/s]\n"
     ]
    },
    {
     "name": "stdout",
     "output_type": "stream",
     "text": [
      "Training loss: 0.1151, Training accuracy: 0.9561\n",
      "Test loss: 0.2375, Test accuracy: 0.8966\n",
      "Epoch 146/250\n"
     ]
    },
    {
     "name": "stderr",
     "output_type": "stream",
     "text": [
      "Training: 100%|██████████| 2/2 [00:00<00:00, 489.30it/s]\n",
      "Evaluating: 100%|██████████| 1/1 [00:00<00:00, 62.08it/s]\n"
     ]
    },
    {
     "name": "stdout",
     "output_type": "stream",
     "text": [
      "Training loss: 0.1189, Training accuracy: 0.9561\n",
      "Test loss: 0.2377, Test accuracy: 0.8966\n",
      "Epoch 147/250\n"
     ]
    },
    {
     "name": "stderr",
     "output_type": "stream",
     "text": [
      "Training: 100%|██████████| 2/2 [00:00<00:00, 167.08it/s]\n",
      "Evaluating: 100%|██████████| 1/1 [00:00<00:00, 246.72it/s]\n"
     ]
    },
    {
     "name": "stdout",
     "output_type": "stream",
     "text": [
      "Training loss: 0.1148, Training accuracy: 0.9561\n",
      "Test loss: 0.2375, Test accuracy: 0.8966\n",
      "Epoch 148/250\n"
     ]
    },
    {
     "name": "stderr",
     "output_type": "stream",
     "text": [
      "Training: 100%|██████████| 2/2 [00:00<00:00, 119.51it/s]\n",
      "Evaluating: 100%|██████████| 1/1 [00:00<00:00, 77.94it/s]\n"
     ]
    },
    {
     "name": "stdout",
     "output_type": "stream",
     "text": [
      "Training loss: 0.1205, Training accuracy: 0.9561\n",
      "Test loss: 0.2375, Test accuracy: 0.8966\n",
      "Epoch 149/250\n"
     ]
    },
    {
     "name": "stderr",
     "output_type": "stream",
     "text": [
      "Training: 100%|██████████| 2/2 [00:00<00:00, 183.13it/s]\n",
      "Evaluating: 100%|██████████| 1/1 [00:00<00:00, 297.62it/s]\n"
     ]
    },
    {
     "name": "stdout",
     "output_type": "stream",
     "text": [
      "Training loss: 0.1124, Training accuracy: 0.9561\n",
      "Test loss: 0.2375, Test accuracy: 0.8966\n",
      "Epoch 150/250\n"
     ]
    },
    {
     "name": "stderr",
     "output_type": "stream",
     "text": [
      "Training: 100%|██████████| 2/2 [00:00<00:00, 125.77it/s]\n",
      "Evaluating: 100%|██████████| 1/1 [00:00<?, ?it/s]\n"
     ]
    },
    {
     "name": "stdout",
     "output_type": "stream",
     "text": [
      "Training loss: 0.1171, Training accuracy: 0.9561\n",
      "Test loss: 0.2376, Test accuracy: 0.8966\n",
      "Epoch 151/250\n"
     ]
    },
    {
     "name": "stderr",
     "output_type": "stream",
     "text": [
      "Training: 100%|██████████| 2/2 [00:00<00:00, 118.86it/s]\n",
      "Evaluating: 100%|██████████| 1/1 [00:00<00:00, 87.48it/s]\n"
     ]
    },
    {
     "name": "stdout",
     "output_type": "stream",
     "text": [
      "Training loss: 0.1161, Training accuracy: 0.9561\n",
      "Test loss: 0.2373, Test accuracy: 0.8966\n",
      "Epoch 152/250\n"
     ]
    },
    {
     "name": "stderr",
     "output_type": "stream",
     "text": [
      "Training: 100%|██████████| 2/2 [00:00<00:00, 362.53it/s]\n",
      "Evaluating: 100%|██████████| 1/1 [00:00<00:00, 77.62it/s]\n"
     ]
    },
    {
     "name": "stdout",
     "output_type": "stream",
     "text": [
      "Training loss: 0.1185, Training accuracy: 0.9561\n",
      "Test loss: 0.2374, Test accuracy: 0.8966\n",
      "Epoch 153/250\n"
     ]
    },
    {
     "name": "stderr",
     "output_type": "stream",
     "text": [
      "Training: 100%|██████████| 2/2 [00:00<00:00, 6061.13it/s]\n",
      "Evaluating: 100%|██████████| 1/1 [00:00<00:00, 222.34it/s]\n"
     ]
    },
    {
     "name": "stdout",
     "output_type": "stream",
     "text": [
      "Training loss: 0.1140, Training accuracy: 0.9561\n",
      "Test loss: 0.2372, Test accuracy: 0.8966\n",
      "Epoch 154/250\n"
     ]
    },
    {
     "name": "stderr",
     "output_type": "stream",
     "text": [
      "Training: 100%|██████████| 2/2 [00:00<00:00, 137.01it/s]\n",
      "Evaluating: 100%|██████████| 1/1 [00:00<?, ?it/s]\n"
     ]
    },
    {
     "name": "stdout",
     "output_type": "stream",
     "text": [
      "Training loss: 0.1133, Training accuracy: 0.9561\n",
      "Test loss: 0.2372, Test accuracy: 0.8966\n",
      "Epoch 155/250\n"
     ]
    },
    {
     "name": "stderr",
     "output_type": "stream",
     "text": [
      "Training: 100%|██████████| 2/2 [00:00<00:00, 111.24it/s]\n",
      "Evaluating: 100%|██████████| 1/1 [00:00<00:00, 69.98it/s]\n"
     ]
    },
    {
     "name": "stdout",
     "output_type": "stream",
     "text": [
      "Training loss: 0.1181, Training accuracy: 0.9561\n",
      "Test loss: 0.2373, Test accuracy: 0.8966\n",
      "Epoch 156/250\n"
     ]
    },
    {
     "name": "stderr",
     "output_type": "stream",
     "text": [
      "Training: 100%|██████████| 2/2 [00:00<00:00, 169.72it/s]\n",
      "Evaluating: 100%|██████████| 1/1 [00:00<00:00, 169.33it/s]\n"
     ]
    },
    {
     "name": "stdout",
     "output_type": "stream",
     "text": [
      "Training loss: 0.1242, Training accuracy: 0.9561\n",
      "Test loss: 0.2373, Test accuracy: 0.8966\n",
      "Epoch 157/250\n"
     ]
    },
    {
     "name": "stderr",
     "output_type": "stream",
     "text": [
      "Training: 100%|██████████| 2/2 [00:00<00:00, 131.57it/s]\n",
      "Evaluating: 100%|██████████| 1/1 [00:00<00:00, 2242.94it/s]\n"
     ]
    },
    {
     "name": "stdout",
     "output_type": "stream",
     "text": [
      "Training loss: 0.1125, Training accuracy: 0.9561\n",
      "Test loss: 0.2369, Test accuracy: 0.8966\n",
      "Epoch 158/250\n"
     ]
    },
    {
     "name": "stderr",
     "output_type": "stream",
     "text": [
      "Training: 100%|██████████| 2/2 [00:00<00:00, 134.94it/s]\n",
      "Evaluating: 100%|██████████| 1/1 [00:00<00:00, 96.79it/s]\n"
     ]
    },
    {
     "name": "stdout",
     "output_type": "stream",
     "text": [
      "Training loss: 0.1121, Training accuracy: 0.9561\n",
      "Test loss: 0.2368, Test accuracy: 0.8966\n",
      "Epoch 159/250\n"
     ]
    },
    {
     "name": "stderr",
     "output_type": "stream",
     "text": [
      "Training: 100%|██████████| 2/2 [00:00<00:00, 117.62it/s]\n",
      "Evaluating: 100%|██████████| 1/1 [00:00<00:00, 330.62it/s]\n"
     ]
    },
    {
     "name": "stdout",
     "output_type": "stream",
     "text": [
      "Training loss: 0.1136, Training accuracy: 0.9561\n",
      "Test loss: 0.2370, Test accuracy: 0.8966\n",
      "Epoch 160/250\n"
     ]
    },
    {
     "name": "stderr",
     "output_type": "stream",
     "text": [
      "Training: 100%|██████████| 2/2 [00:00<00:00, 162.97it/s]\n",
      "Evaluating: 100%|██████████| 1/1 [00:00<00:00, 57.50it/s]\n"
     ]
    },
    {
     "name": "stdout",
     "output_type": "stream",
     "text": [
      "Training loss: 0.1213, Training accuracy: 0.9561\n",
      "Test loss: 0.2371, Test accuracy: 0.8966\n",
      "Epoch 161/250\n"
     ]
    },
    {
     "name": "stderr",
     "output_type": "stream",
     "text": [
      "Training: 100%|██████████| 2/2 [00:00<00:00, 125.83it/s]\n",
      "Evaluating: 100%|██████████| 1/1 [00:00<00:00, 996.98it/s]\n"
     ]
    },
    {
     "name": "stdout",
     "output_type": "stream",
     "text": [
      "Training loss: 0.1184, Training accuracy: 0.9561\n",
      "Test loss: 0.2371, Test accuracy: 0.8966\n",
      "Epoch 162/250\n"
     ]
    },
    {
     "name": "stderr",
     "output_type": "stream",
     "text": [
      "Training: 100%|██████████| 2/2 [00:00<00:00, 131.53it/s]\n",
      "Evaluating: 100%|██████████| 1/1 [00:00<00:00, 70.04it/s]\n"
     ]
    },
    {
     "name": "stdout",
     "output_type": "stream",
     "text": [
      "Training loss: 0.1161, Training accuracy: 0.9561\n",
      "Test loss: 0.2370, Test accuracy: 0.8966\n",
      "Epoch 163/250\n"
     ]
    },
    {
     "name": "stderr",
     "output_type": "stream",
     "text": [
      "Training: 100%|██████████| 2/2 [00:00<00:00, 172.05it/s]\n",
      "Evaluating: 100%|██████████| 1/1 [00:00<00:00, 214.48it/s]\n"
     ]
    },
    {
     "name": "stdout",
     "output_type": "stream",
     "text": [
      "Training loss: 0.1185, Training accuracy: 0.9561\n",
      "Test loss: 0.2368, Test accuracy: 0.8966\n",
      "Epoch 164/250\n"
     ]
    },
    {
     "name": "stderr",
     "output_type": "stream",
     "text": [
      "Training: 100%|██████████| 2/2 [00:00<00:00, 155.55it/s]\n",
      "Evaluating: 100%|██████████| 1/1 [00:00<?, ?it/s]\n"
     ]
    },
    {
     "name": "stdout",
     "output_type": "stream",
     "text": [
      "Training loss: 0.1151, Training accuracy: 0.9561\n",
      "Test loss: 0.2366, Test accuracy: 0.8966\n",
      "Epoch 165/250\n"
     ]
    },
    {
     "name": "stderr",
     "output_type": "stream",
     "text": [
      "Training: 100%|██████████| 2/2 [00:00<00:00, 115.70it/s]\n",
      "Evaluating: 100%|██████████| 1/1 [00:00<?, ?it/s]\n"
     ]
    },
    {
     "name": "stdout",
     "output_type": "stream",
     "text": [
      "Training loss: 0.1106, Training accuracy: 0.9561\n",
      "Test loss: 0.2366, Test accuracy: 0.8966\n",
      "Epoch 166/250\n"
     ]
    },
    {
     "name": "stderr",
     "output_type": "stream",
     "text": [
      "Training: 100%|██████████| 2/2 [00:00<00:00, 128.64it/s]\n",
      "Evaluating: 100%|██████████| 1/1 [00:00<00:00, 87.44it/s]\n"
     ]
    },
    {
     "name": "stdout",
     "output_type": "stream",
     "text": [
      "Training loss: 0.1126, Training accuracy: 0.9561\n",
      "Test loss: 0.2366, Test accuracy: 0.8966\n",
      "Epoch 167/250\n"
     ]
    },
    {
     "name": "stderr",
     "output_type": "stream",
     "text": [
      "Training: 100%|██████████| 2/2 [00:00<00:00, 386.50it/s]\n",
      "Evaluating: 100%|██████████| 1/1 [00:00<00:00, 74.02it/s]\n"
     ]
    },
    {
     "name": "stdout",
     "output_type": "stream",
     "text": [
      "Training loss: 0.1145, Training accuracy: 0.9561\n",
      "Test loss: 0.2366, Test accuracy: 0.8966\n",
      "Epoch 168/250\n"
     ]
    },
    {
     "name": "stderr",
     "output_type": "stream",
     "text": [
      "Training: 100%|██████████| 2/2 [00:00<?, ?it/s]\n",
      "Evaluating: 100%|██████████| 1/1 [00:00<00:00, 195.44it/s]\n"
     ]
    },
    {
     "name": "stdout",
     "output_type": "stream",
     "text": [
      "Training loss: 0.1221, Training accuracy: 0.9561\n",
      "Test loss: 0.2369, Test accuracy: 0.8966\n",
      "Epoch 169/250\n"
     ]
    },
    {
     "name": "stderr",
     "output_type": "stream",
     "text": [
      "Training: 100%|██████████| 2/2 [00:00<00:00, 159.50it/s]\n",
      "Evaluating: 100%|██████████| 1/1 [00:00<00:00, 197.41it/s]\n"
     ]
    },
    {
     "name": "stdout",
     "output_type": "stream",
     "text": [
      "Training loss: 0.1125, Training accuracy: 0.9561\n",
      "Test loss: 0.2368, Test accuracy: 0.8966\n",
      "Epoch 170/250\n"
     ]
    },
    {
     "name": "stderr",
     "output_type": "stream",
     "text": [
      "Training: 100%|██████████| 2/2 [00:00<00:00, 162.68it/s]\n",
      "Evaluating: 100%|██████████| 1/1 [00:00<?, ?it/s]\n"
     ]
    },
    {
     "name": "stdout",
     "output_type": "stream",
     "text": [
      "Training loss: 0.1150, Training accuracy: 0.9561\n",
      "Test loss: 0.2367, Test accuracy: 0.8966\n",
      "Epoch 171/250\n"
     ]
    },
    {
     "name": "stderr",
     "output_type": "stream",
     "text": [
      "Training: 100%|██████████| 2/2 [00:00<00:00, 124.55it/s]\n",
      "Evaluating: 100%|██████████| 1/1 [00:00<00:00, 86.30it/s]\n"
     ]
    },
    {
     "name": "stdout",
     "output_type": "stream",
     "text": [
      "Training loss: 0.1206, Training accuracy: 0.9561\n",
      "Test loss: 0.2369, Test accuracy: 0.8966\n",
      "Epoch 172/250\n"
     ]
    },
    {
     "name": "stderr",
     "output_type": "stream",
     "text": [
      "Training: 100%|██████████| 2/2 [00:00<00:00, 146.47it/s]\n",
      "Evaluating: 100%|██████████| 1/1 [00:00<00:00, 300.67it/s]\n"
     ]
    },
    {
     "name": "stdout",
     "output_type": "stream",
     "text": [
      "Training loss: 0.1195, Training accuracy: 0.9561\n",
      "Test loss: 0.2368, Test accuracy: 0.8966\n",
      "Epoch 173/250\n"
     ]
    },
    {
     "name": "stderr",
     "output_type": "stream",
     "text": [
      "Training: 100%|██████████| 2/2 [00:00<00:00, 136.44it/s]\n",
      "Evaluating: 100%|██████████| 1/1 [00:00<00:00, 200.06it/s]\n"
     ]
    },
    {
     "name": "stdout",
     "output_type": "stream",
     "text": [
      "Training loss: 0.1219, Training accuracy: 0.9561\n",
      "Test loss: 0.2370, Test accuracy: 0.8966\n",
      "Epoch 174/250\n"
     ]
    },
    {
     "name": "stderr",
     "output_type": "stream",
     "text": [
      "Training: 100%|██████████| 2/2 [00:00<00:00, 162.77it/s]\n",
      "Evaluating: 100%|██████████| 1/1 [00:00<?, ?it/s]\n"
     ]
    },
    {
     "name": "stdout",
     "output_type": "stream",
     "text": [
      "Training loss: 0.1219, Training accuracy: 0.9561\n",
      "Test loss: 0.2370, Test accuracy: 0.8966\n",
      "Epoch 175/250\n"
     ]
    },
    {
     "name": "stderr",
     "output_type": "stream",
     "text": [
      "Training: 100%|██████████| 2/2 [00:00<00:00, 102.17it/s]\n",
      "Evaluating: 100%|██████████| 1/1 [00:00<00:00, 145.86it/s]\n"
     ]
    },
    {
     "name": "stdout",
     "output_type": "stream",
     "text": [
      "Training loss: 0.1146, Training accuracy: 0.9561\n",
      "Test loss: 0.2366, Test accuracy: 0.8966\n",
      "Epoch 176/250\n"
     ]
    },
    {
     "name": "stderr",
     "output_type": "stream",
     "text": [
      "Training: 100%|██████████| 2/2 [00:00<00:00, 342.91it/s]\n",
      "Evaluating: 100%|██████████| 1/1 [00:00<00:00, 78.27it/s]\n"
     ]
    },
    {
     "name": "stdout",
     "output_type": "stream",
     "text": [
      "Training loss: 0.1161, Training accuracy: 0.9561\n",
      "Test loss: 0.2361, Test accuracy: 0.8966\n",
      "Epoch 177/250\n"
     ]
    },
    {
     "name": "stderr",
     "output_type": "stream",
     "text": [
      "Training: 100%|██████████| 2/2 [00:00<00:00, 3809.54it/s]\n",
      "Evaluating: 100%|██████████| 1/1 [00:00<00:00, 219.25it/s]\n"
     ]
    },
    {
     "name": "stdout",
     "output_type": "stream",
     "text": [
      "Training loss: 0.1201, Training accuracy: 0.9561\n",
      "Test loss: 0.2361, Test accuracy: 0.8966\n",
      "Epoch 178/250\n"
     ]
    },
    {
     "name": "stderr",
     "output_type": "stream",
     "text": [
      "Training: 100%|██████████| 2/2 [00:00<00:00, 192.27it/s]\n",
      "Evaluating: 100%|██████████| 1/1 [00:00<00:00, 306.00it/s]\n"
     ]
    },
    {
     "name": "stdout",
     "output_type": "stream",
     "text": [
      "Training loss: 0.1158, Training accuracy: 0.9561\n",
      "Test loss: 0.2361, Test accuracy: 0.8966\n",
      "Epoch 179/250\n"
     ]
    },
    {
     "name": "stderr",
     "output_type": "stream",
     "text": [
      "Training: 100%|██████████| 2/2 [00:00<00:00, 167.35it/s]\n",
      "Evaluating: 100%|██████████| 1/1 [00:00<00:00, 383.43it/s]\n"
     ]
    },
    {
     "name": "stdout",
     "output_type": "stream",
     "text": [
      "Training loss: 0.1177, Training accuracy: 0.9561\n",
      "Test loss: 0.2361, Test accuracy: 0.8966\n",
      "Epoch 180/250\n"
     ]
    },
    {
     "name": "stderr",
     "output_type": "stream",
     "text": [
      "Training: 100%|██████████| 2/2 [00:00<00:00, 129.98it/s]\n",
      "Evaluating: 100%|██████████| 1/1 [00:00<?, ?it/s]\n"
     ]
    },
    {
     "name": "stdout",
     "output_type": "stream",
     "text": [
      "Training loss: 0.1194, Training accuracy: 0.9561\n",
      "Test loss: 0.2362, Test accuracy: 0.8966\n",
      "Epoch 181/250\n"
     ]
    },
    {
     "name": "stderr",
     "output_type": "stream",
     "text": [
      "Training: 100%|██████████| 2/2 [00:00<00:00, 117.50it/s]\n",
      "Evaluating: 100%|██████████| 1/1 [00:00<?, ?it/s]\n"
     ]
    },
    {
     "name": "stdout",
     "output_type": "stream",
     "text": [
      "Training loss: 0.1144, Training accuracy: 0.9561\n",
      "Test loss: 0.2362, Test accuracy: 0.8966\n",
      "Epoch 182/250\n"
     ]
    },
    {
     "name": "stderr",
     "output_type": "stream",
     "text": [
      "Training: 100%|██████████| 2/2 [00:00<00:00, 411.91it/s]\n",
      "Evaluating: 100%|██████████| 1/1 [00:00<00:00, 76.98it/s]\n"
     ]
    },
    {
     "name": "stdout",
     "output_type": "stream",
     "text": [
      "Training loss: 0.1153, Training accuracy: 0.9561\n",
      "Test loss: 0.2363, Test accuracy: 0.8966\n",
      "Epoch 183/250\n"
     ]
    },
    {
     "name": "stderr",
     "output_type": "stream",
     "text": [
      "Training: 100%|██████████| 2/2 [00:00<00:00, 720.98it/s]\n",
      "Evaluating: 100%|██████████| 1/1 [00:00<00:00, 213.96it/s]\n"
     ]
    },
    {
     "name": "stdout",
     "output_type": "stream",
     "text": [
      "Training loss: 0.1128, Training accuracy: 0.9561\n",
      "Test loss: 0.2366, Test accuracy: 0.8966\n",
      "Epoch 184/250\n"
     ]
    },
    {
     "name": "stderr",
     "output_type": "stream",
     "text": [
      "Training: 100%|██████████| 2/2 [00:00<00:00, 142.91it/s]\n",
      "Evaluating: 100%|██████████| 1/1 [00:00<?, ?it/s]\n"
     ]
    },
    {
     "name": "stdout",
     "output_type": "stream",
     "text": [
      "Training loss: 0.1104, Training accuracy: 0.9561\n",
      "Test loss: 0.2369, Test accuracy: 0.8966\n",
      "Epoch 185/250\n"
     ]
    },
    {
     "name": "stderr",
     "output_type": "stream",
     "text": [
      "Training: 100%|██████████| 2/2 [00:00<00:00, 110.30it/s]\n",
      "Evaluating: 100%|██████████| 1/1 [00:00<?, ?it/s]\n"
     ]
    },
    {
     "name": "stdout",
     "output_type": "stream",
     "text": [
      "Training loss: 0.1182, Training accuracy: 0.9561\n",
      "Test loss: 0.2374, Test accuracy: 0.8966\n",
      "Epoch 186/250\n"
     ]
    },
    {
     "name": "stderr",
     "output_type": "stream",
     "text": [
      "Training: 100%|██████████| 2/2 [00:00<00:00, 331.51it/s]\n",
      "Evaluating: 100%|██████████| 1/1 [00:00<00:00, 78.97it/s]\n"
     ]
    },
    {
     "name": "stdout",
     "output_type": "stream",
     "text": [
      "Training loss: 0.1127, Training accuracy: 0.9561\n",
      "Test loss: 0.2377, Test accuracy: 0.8966\n",
      "Epoch 187/250\n"
     ]
    },
    {
     "name": "stderr",
     "output_type": "stream",
     "text": [
      "Training: 100%|██████████| 2/2 [00:00<00:00, 112.27it/s]\n",
      "Evaluating: 100%|██████████| 1/1 [00:00<?, ?it/s]\n"
     ]
    },
    {
     "name": "stdout",
     "output_type": "stream",
     "text": [
      "Training loss: 0.1116, Training accuracy: 0.9561\n",
      "Test loss: 0.2379, Test accuracy: 0.8966\n",
      "Epoch 188/250\n"
     ]
    },
    {
     "name": "stderr",
     "output_type": "stream",
     "text": [
      "Training: 100%|██████████| 2/2 [00:00<00:00, 118.43it/s]\n",
      "Evaluating: 100%|██████████| 1/1 [00:00<?, ?it/s]\n"
     ]
    },
    {
     "name": "stdout",
     "output_type": "stream",
     "text": [
      "Training loss: 0.1153, Training accuracy: 0.9561\n",
      "Test loss: 0.2382, Test accuracy: 0.8966\n",
      "Epoch 189/250\n"
     ]
    },
    {
     "name": "stderr",
     "output_type": "stream",
     "text": [
      "Training: 100%|██████████| 2/2 [00:00<00:00, 111.46it/s]\n",
      "Evaluating: 100%|██████████| 1/1 [00:00<00:00, 69.83it/s]\n"
     ]
    },
    {
     "name": "stdout",
     "output_type": "stream",
     "text": [
      "Training loss: 0.1182, Training accuracy: 0.9561\n",
      "Test loss: 0.2386, Test accuracy: 0.8966\n",
      "Epoch 190/250\n"
     ]
    },
    {
     "name": "stderr",
     "output_type": "stream",
     "text": [
      "Training: 100%|██████████| 2/2 [00:00<00:00, 119.25it/s]\n",
      "Evaluating: 100%|██████████| 1/1 [00:00<00:00, 88.88it/s]\n"
     ]
    },
    {
     "name": "stdout",
     "output_type": "stream",
     "text": [
      "Training loss: 0.1116, Training accuracy: 0.9561\n",
      "Test loss: 0.2386, Test accuracy: 0.8966\n",
      "Epoch 191/250\n"
     ]
    },
    {
     "name": "stderr",
     "output_type": "stream",
     "text": [
      "Training: 100%|██████████| 2/2 [00:00<00:00, 109.51it/s]\n",
      "Evaluating: 100%|██████████| 1/1 [00:00<00:00, 688.15it/s]\n"
     ]
    },
    {
     "name": "stdout",
     "output_type": "stream",
     "text": [
      "Training loss: 0.1131, Training accuracy: 0.9561\n",
      "Test loss: 0.2388, Test accuracy: 0.8966\n",
      "Epoch 192/250\n"
     ]
    },
    {
     "name": "stderr",
     "output_type": "stream",
     "text": [
      "Training: 100%|██████████| 2/2 [00:00<00:00, 153.61it/s]\n",
      "Evaluating: 100%|██████████| 1/1 [00:00<?, ?it/s]\n"
     ]
    },
    {
     "name": "stdout",
     "output_type": "stream",
     "text": [
      "Training loss: 0.1136, Training accuracy: 0.9561\n",
      "Test loss: 0.2387, Test accuracy: 0.8966\n",
      "Epoch 193/250\n"
     ]
    },
    {
     "name": "stderr",
     "output_type": "stream",
     "text": [
      "Training: 100%|██████████| 2/2 [00:00<00:00, 321.16it/s]\n",
      "Evaluating: 100%|██████████| 1/1 [00:00<00:00, 68.09it/s]\n"
     ]
    },
    {
     "name": "stdout",
     "output_type": "stream",
     "text": [
      "Training loss: 0.1104, Training accuracy: 0.9561\n",
      "Test loss: 0.2387, Test accuracy: 0.8966\n",
      "Epoch 194/250\n"
     ]
    },
    {
     "name": "stderr",
     "output_type": "stream",
     "text": [
      "Training: 100%|██████████| 2/2 [00:00<00:00, 184.43it/s]\n",
      "Evaluating: 100%|██████████| 1/1 [00:00<00:00, 226.18it/s]\n"
     ]
    },
    {
     "name": "stdout",
     "output_type": "stream",
     "text": [
      "Training loss: 0.1168, Training accuracy: 0.9561\n",
      "Test loss: 0.2389, Test accuracy: 0.8966\n",
      "Epoch 195/250\n"
     ]
    },
    {
     "name": "stderr",
     "output_type": "stream",
     "text": [
      "Training: 100%|██████████| 2/2 [00:00<00:00, 186.27it/s]\n",
      "Evaluating: 100%|██████████| 1/1 [00:00<00:00, 322.12it/s]\n"
     ]
    },
    {
     "name": "stdout",
     "output_type": "stream",
     "text": [
      "Training loss: 0.1179, Training accuracy: 0.9561\n",
      "Test loss: 0.2390, Test accuracy: 0.8966\n",
      "Epoch 196/250\n"
     ]
    },
    {
     "name": "stderr",
     "output_type": "stream",
     "text": [
      "Training: 100%|██████████| 2/2 [00:00<00:00, 141.34it/s]\n",
      "Evaluating: 100%|██████████| 1/1 [00:00<00:00, 105.83it/s]\n"
     ]
    },
    {
     "name": "stdout",
     "output_type": "stream",
     "text": [
      "Training loss: 0.1194, Training accuracy: 0.9561\n",
      "Test loss: 0.2387, Test accuracy: 0.8966\n",
      "Epoch 197/250\n"
     ]
    },
    {
     "name": "stderr",
     "output_type": "stream",
     "text": [
      "Training: 100%|██████████| 2/2 [00:00<00:00, 357.39it/s]\n",
      "Evaluating: 100%|██████████| 1/1 [00:00<00:00, 74.79it/s]\n"
     ]
    },
    {
     "name": "stdout",
     "output_type": "stream",
     "text": [
      "Training loss: 0.1141, Training accuracy: 0.9561\n",
      "Test loss: 0.2383, Test accuracy: 0.8966\n",
      "Epoch 198/250\n"
     ]
    },
    {
     "name": "stderr",
     "output_type": "stream",
     "text": [
      "Training: 100%|██████████| 2/2 [00:00<00:00, 179.31it/s]\n",
      "Evaluating: 100%|██████████| 1/1 [00:00<00:00, 243.02it/s]\n"
     ]
    },
    {
     "name": "stdout",
     "output_type": "stream",
     "text": [
      "Training loss: 0.1154, Training accuracy: 0.9561\n",
      "Test loss: 0.2378, Test accuracy: 0.8966\n",
      "Epoch 199/250\n"
     ]
    },
    {
     "name": "stderr",
     "output_type": "stream",
     "text": [
      "Training: 100%|██████████| 2/2 [00:00<00:00, 168.98it/s]\n",
      "Evaluating: 100%|██████████| 1/1 [00:00<00:00, 264.14it/s]\n"
     ]
    },
    {
     "name": "stdout",
     "output_type": "stream",
     "text": [
      "Training loss: 0.1207, Training accuracy: 0.9561\n",
      "Test loss: 0.2377, Test accuracy: 0.8966\n",
      "Epoch 200/250\n"
     ]
    },
    {
     "name": "stderr",
     "output_type": "stream",
     "text": [
      "Training: 100%|██████████| 2/2 [00:00<00:00, 129.07it/s]\n",
      "Evaluating: 100%|██████████| 1/1 [00:00<00:00, 75.49it/s]\n"
     ]
    },
    {
     "name": "stdout",
     "output_type": "stream",
     "text": [
      "Training loss: 0.1164, Training accuracy: 0.9561\n",
      "Test loss: 0.2373, Test accuracy: 0.8966\n",
      "Epoch 201/250\n"
     ]
    },
    {
     "name": "stderr",
     "output_type": "stream",
     "text": [
      "Training: 100%|██████████| 2/2 [00:00<00:00, 173.97it/s]\n",
      "Evaluating: 100%|██████████| 1/1 [00:00<00:00, 134.84it/s]\n"
     ]
    },
    {
     "name": "stdout",
     "output_type": "stream",
     "text": [
      "Training loss: 0.1103, Training accuracy: 0.9561\n",
      "Test loss: 0.2368, Test accuracy: 0.8966\n",
      "Epoch 202/250\n"
     ]
    },
    {
     "name": "stderr",
     "output_type": "stream",
     "text": [
      "Training: 100%|██████████| 2/2 [00:00<00:00, 150.67it/s]\n",
      "Evaluating: 100%|██████████| 1/1 [00:00<00:00, 597.82it/s]\n"
     ]
    },
    {
     "name": "stdout",
     "output_type": "stream",
     "text": [
      "Training loss: 0.1140, Training accuracy: 0.9561\n",
      "Test loss: 0.2363, Test accuracy: 0.8966\n",
      "Epoch 203/250\n"
     ]
    },
    {
     "name": "stderr",
     "output_type": "stream",
     "text": [
      "Training: 100%|██████████| 2/2 [00:00<00:00, 148.74it/s]\n",
      "Evaluating: 100%|██████████| 1/1 [00:00<00:00, 60.38it/s]\n"
     ]
    },
    {
     "name": "stdout",
     "output_type": "stream",
     "text": [
      "Training loss: 0.1146, Training accuracy: 0.9561\n",
      "Test loss: 0.2360, Test accuracy: 0.8966\n",
      "Epoch 204/250\n"
     ]
    },
    {
     "name": "stderr",
     "output_type": "stream",
     "text": [
      "Training: 100%|██████████| 2/2 [00:00<00:00, 147.79it/s]\n",
      "Evaluating: 100%|██████████| 1/1 [00:00<?, ?it/s]\n"
     ]
    },
    {
     "name": "stdout",
     "output_type": "stream",
     "text": [
      "Training loss: 0.1120, Training accuracy: 0.9561\n",
      "Test loss: 0.2359, Test accuracy: 0.8966\n",
      "Epoch 205/250\n"
     ]
    },
    {
     "name": "stderr",
     "output_type": "stream",
     "text": [
      "Training: 100%|██████████| 2/2 [00:00<00:00, 92.67it/s]\n",
      "Evaluating: 100%|██████████| 1/1 [00:00<00:00, 75.02it/s]\n"
     ]
    },
    {
     "name": "stdout",
     "output_type": "stream",
     "text": [
      "Training loss: 0.1108, Training accuracy: 0.9561\n",
      "Test loss: 0.2358, Test accuracy: 0.8966\n",
      "Epoch 206/250\n"
     ]
    },
    {
     "name": "stderr",
     "output_type": "stream",
     "text": [
      "Training: 100%|██████████| 2/2 [00:00<00:00, 133.97it/s]\n",
      "Evaluating: 100%|██████████| 1/1 [00:00<00:00, 75.11it/s]\n"
     ]
    },
    {
     "name": "stdout",
     "output_type": "stream",
     "text": [
      "Training loss: 0.1141, Training accuracy: 0.9561\n",
      "Test loss: 0.2358, Test accuracy: 0.8966\n",
      "Epoch 207/250\n"
     ]
    },
    {
     "name": "stderr",
     "output_type": "stream",
     "text": [
      "Training: 100%|██████████| 2/2 [00:00<00:00, 568.03it/s]\n",
      "Evaluating: 100%|██████████| 1/1 [00:00<00:00, 56.83it/s]\n"
     ]
    },
    {
     "name": "stdout",
     "output_type": "stream",
     "text": [
      "Training loss: 0.1164, Training accuracy: 0.9561\n",
      "Test loss: 0.2361, Test accuracy: 0.8966\n",
      "Epoch 208/250\n"
     ]
    },
    {
     "name": "stderr",
     "output_type": "stream",
     "text": [
      "Training: 100%|██████████| 2/2 [00:00<00:00, 133.07it/s]\n",
      "Evaluating: 100%|██████████| 1/1 [00:00<00:00, 166.73it/s]\n"
     ]
    },
    {
     "name": "stdout",
     "output_type": "stream",
     "text": [
      "Training loss: 0.1130, Training accuracy: 0.9561\n",
      "Test loss: 0.2363, Test accuracy: 0.8966\n",
      "Epoch 209/250\n"
     ]
    },
    {
     "name": "stderr",
     "output_type": "stream",
     "text": [
      "Training: 100%|██████████| 2/2 [00:00<00:00, 101.88it/s]\n",
      "Evaluating: 100%|██████████| 1/1 [00:00<00:00, 296.96it/s]\n"
     ]
    },
    {
     "name": "stdout",
     "output_type": "stream",
     "text": [
      "Training loss: 0.1115, Training accuracy: 0.9561\n",
      "Test loss: 0.2363, Test accuracy: 0.8966\n",
      "Epoch 210/250\n"
     ]
    },
    {
     "name": "stderr",
     "output_type": "stream",
     "text": [
      "Training: 100%|██████████| 2/2 [00:00<00:00, 114.39it/s]\n",
      "Evaluating: 100%|██████████| 1/1 [00:00<00:00, 166.69it/s]\n"
     ]
    },
    {
     "name": "stdout",
     "output_type": "stream",
     "text": [
      "Training loss: 0.1183, Training accuracy: 0.9561\n",
      "Test loss: 0.2369, Test accuracy: 0.8966\n",
      "Epoch 211/250\n"
     ]
    },
    {
     "name": "stderr",
     "output_type": "stream",
     "text": [
      "Training: 100%|██████████| 2/2 [00:00<00:00, 261.61it/s]\n",
      "Evaluating: 100%|██████████| 1/1 [00:00<00:00, 58.89it/s]\n"
     ]
    },
    {
     "name": "stdout",
     "output_type": "stream",
     "text": [
      "Training loss: 0.1121, Training accuracy: 0.9561\n",
      "Test loss: 0.2373, Test accuracy: 0.8966\n",
      "Epoch 212/250\n"
     ]
    },
    {
     "name": "stderr",
     "output_type": "stream",
     "text": [
      "Training: 100%|██████████| 2/2 [00:00<00:00, 141.95it/s]\n",
      "Evaluating: 100%|██████████| 1/1 [00:00<00:00, 76.98it/s]\n"
     ]
    },
    {
     "name": "stdout",
     "output_type": "stream",
     "text": [
      "Training loss: 0.1121, Training accuracy: 0.9561\n",
      "Test loss: 0.2377, Test accuracy: 0.8966\n",
      "Epoch 213/250\n"
     ]
    },
    {
     "name": "stderr",
     "output_type": "stream",
     "text": [
      "Training: 100%|██████████| 2/2 [00:00<00:00, 269.42it/s]\n",
      "Evaluating: 100%|██████████| 1/1 [00:00<00:00, 80.43it/s]\n"
     ]
    },
    {
     "name": "stdout",
     "output_type": "stream",
     "text": [
      "Training loss: 0.1192, Training accuracy: 0.9561\n",
      "Test loss: 0.2380, Test accuracy: 0.8966\n",
      "Epoch 214/250\n"
     ]
    },
    {
     "name": "stderr",
     "output_type": "stream",
     "text": [
      "Training: 100%|██████████| 2/2 [00:00<00:00, 132.06it/s]\n",
      "Evaluating: 100%|██████████| 1/1 [00:00<?, ?it/s]\n"
     ]
    },
    {
     "name": "stdout",
     "output_type": "stream",
     "text": [
      "Training loss: 0.1202, Training accuracy: 0.9561\n",
      "Test loss: 0.2380, Test accuracy: 0.8966\n",
      "Epoch 215/250\n"
     ]
    },
    {
     "name": "stderr",
     "output_type": "stream",
     "text": [
      "Training: 100%|██████████| 2/2 [00:00<00:00, 225.48it/s]\n",
      "Evaluating: 100%|██████████| 1/1 [00:00<00:00, 75.63it/s]\n"
     ]
    },
    {
     "name": "stdout",
     "output_type": "stream",
     "text": [
      "Training loss: 0.1137, Training accuracy: 0.9561\n",
      "Test loss: 0.2377, Test accuracy: 0.8966\n",
      "Epoch 216/250\n"
     ]
    },
    {
     "name": "stderr",
     "output_type": "stream",
     "text": [
      "Training: 100%|██████████| 2/2 [00:00<00:00, 110.36it/s]\n",
      "Evaluating: 100%|██████████| 1/1 [00:00<00:00, 77.08it/s]\n"
     ]
    },
    {
     "name": "stdout",
     "output_type": "stream",
     "text": [
      "Training loss: 0.1119, Training accuracy: 0.9561\n",
      "Test loss: 0.2375, Test accuracy: 0.8966\n",
      "Epoch 217/250\n"
     ]
    },
    {
     "name": "stderr",
     "output_type": "stream",
     "text": [
      "Training: 100%|██████████| 2/2 [00:00<00:00, 123.06it/s]\n",
      "Evaluating: 100%|██████████| 1/1 [00:00<?, ?it/s]\n"
     ]
    },
    {
     "name": "stdout",
     "output_type": "stream",
     "text": [
      "Training loss: 0.1159, Training accuracy: 0.9561\n",
      "Test loss: 0.2374, Test accuracy: 0.8966\n",
      "Epoch 218/250\n"
     ]
    },
    {
     "name": "stderr",
     "output_type": "stream",
     "text": [
      "Training: 100%|██████████| 2/2 [00:00<00:00, 92.27it/s]\n",
      "Evaluating: 100%|██████████| 1/1 [00:00<00:00, 80.01it/s]\n"
     ]
    },
    {
     "name": "stdout",
     "output_type": "stream",
     "text": [
      "Training loss: 0.1159, Training accuracy: 0.9561\n",
      "Test loss: 0.2375, Test accuracy: 0.8966\n",
      "Epoch 219/250\n"
     ]
    },
    {
     "name": "stderr",
     "output_type": "stream",
     "text": [
      "Training: 100%|██████████| 2/2 [00:00<00:00, 133.54it/s]\n",
      "Evaluating: 100%|██████████| 1/1 [00:00<?, ?it/s]\n"
     ]
    },
    {
     "name": "stdout",
     "output_type": "stream",
     "text": [
      "Training loss: 0.1136, Training accuracy: 0.9561\n",
      "Test loss: 0.2375, Test accuracy: 0.8966\n",
      "Epoch 220/250\n"
     ]
    },
    {
     "name": "stderr",
     "output_type": "stream",
     "text": [
      "Training: 100%|██████████| 2/2 [00:00<00:00, 64.90it/s]\n",
      "Evaluating: 100%|██████████| 1/1 [00:00<00:00, 288.45it/s]\n"
     ]
    },
    {
     "name": "stdout",
     "output_type": "stream",
     "text": [
      "Training loss: 0.1163, Training accuracy: 0.9561\n",
      "Test loss: 0.2373, Test accuracy: 0.8966\n",
      "Epoch 221/250\n"
     ]
    },
    {
     "name": "stderr",
     "output_type": "stream",
     "text": [
      "Training: 100%|██████████| 2/2 [00:00<00:00, 150.12it/s]\n",
      "Evaluating: 100%|██████████| 1/1 [00:00<00:00, 198.19it/s]\n"
     ]
    },
    {
     "name": "stdout",
     "output_type": "stream",
     "text": [
      "Training loss: 0.1145, Training accuracy: 0.9561\n",
      "Test loss: 0.2373, Test accuracy: 0.8966\n",
      "Epoch 222/250\n"
     ]
    },
    {
     "name": "stderr",
     "output_type": "stream",
     "text": [
      "Training: 100%|██████████| 2/2 [00:00<00:00, 126.07it/s]\n",
      "Evaluating: 100%|██████████| 1/1 [00:00<00:00, 62.01it/s]\n"
     ]
    },
    {
     "name": "stdout",
     "output_type": "stream",
     "text": [
      "Training loss: 0.1127, Training accuracy: 0.9561\n",
      "Test loss: 0.2371, Test accuracy: 0.8966\n",
      "Epoch 223/250\n"
     ]
    },
    {
     "name": "stderr",
     "output_type": "stream",
     "text": [
      "Training: 100%|██████████| 2/2 [00:00<00:00, 119.71it/s]\n",
      "Evaluating: 100%|██████████| 1/1 [00:00<00:00, 57.46it/s]\n"
     ]
    },
    {
     "name": "stdout",
     "output_type": "stream",
     "text": [
      "Training loss: 0.1117, Training accuracy: 0.9561\n",
      "Test loss: 0.2369, Test accuracy: 0.8966\n",
      "Epoch 224/250\n"
     ]
    },
    {
     "name": "stderr",
     "output_type": "stream",
     "text": [
      "Training: 100%|██████████| 2/2 [00:00<00:00, 108.78it/s]\n",
      "Evaluating: 100%|██████████| 1/1 [00:00<?, ?it/s]\n"
     ]
    },
    {
     "name": "stdout",
     "output_type": "stream",
     "text": [
      "Training loss: 0.1086, Training accuracy: 0.9561\n",
      "Test loss: 0.2368, Test accuracy: 0.8966\n",
      "Epoch 225/250\n"
     ]
    },
    {
     "name": "stderr",
     "output_type": "stream",
     "text": [
      "Training: 100%|██████████| 2/2 [00:00<00:00, 401.25it/s]\n",
      "Evaluating: 100%|██████████| 1/1 [00:00<00:00, 58.72it/s]\n"
     ]
    },
    {
     "name": "stdout",
     "output_type": "stream",
     "text": [
      "Training loss: 0.1124, Training accuracy: 0.9561\n",
      "Test loss: 0.2370, Test accuracy: 0.8966\n",
      "Epoch 226/250\n"
     ]
    },
    {
     "name": "stderr",
     "output_type": "stream",
     "text": [
      "Training: 100%|██████████| 2/2 [00:00<00:00, 136.33it/s]\n",
      "Evaluating: 100%|██████████| 1/1 [00:00<?, ?it/s]\n"
     ]
    },
    {
     "name": "stdout",
     "output_type": "stream",
     "text": [
      "Training loss: 0.1151, Training accuracy: 0.9561\n",
      "Test loss: 0.2372, Test accuracy: 0.8966\n",
      "Epoch 227/250\n"
     ]
    },
    {
     "name": "stderr",
     "output_type": "stream",
     "text": [
      "Training: 100%|██████████| 2/2 [00:00<00:00, 79.07it/s]\n",
      "Evaluating: 100%|██████████| 1/1 [00:00<00:00, 98.98it/s]\n"
     ]
    },
    {
     "name": "stdout",
     "output_type": "stream",
     "text": [
      "Training loss: 0.1189, Training accuracy: 0.9561\n",
      "Test loss: 0.2374, Test accuracy: 0.8966\n",
      "Epoch 228/250\n"
     ]
    },
    {
     "name": "stderr",
     "output_type": "stream",
     "text": [
      "Training: 100%|██████████| 2/2 [00:00<00:00, 138.87it/s]\n",
      "Evaluating: 100%|██████████| 1/1 [00:00<?, ?it/s]\n"
     ]
    },
    {
     "name": "stdout",
     "output_type": "stream",
     "text": [
      "Training loss: 0.1154, Training accuracy: 0.9561\n",
      "Test loss: 0.2374, Test accuracy: 0.8966\n",
      "Epoch 229/250\n"
     ]
    },
    {
     "name": "stderr",
     "output_type": "stream",
     "text": [
      "Training: 100%|██████████| 2/2 [00:00<00:00, 94.72it/s]\n",
      "Evaluating: 100%|██████████| 1/1 [00:00<00:00, 107.98it/s]\n"
     ]
    },
    {
     "name": "stdout",
     "output_type": "stream",
     "text": [
      "Training loss: 0.1166, Training accuracy: 0.9561\n",
      "Test loss: 0.2377, Test accuracy: 0.8966\n",
      "Epoch 230/250\n"
     ]
    },
    {
     "name": "stderr",
     "output_type": "stream",
     "text": [
      "Training: 100%|██████████| 2/2 [00:00<00:00, 96.12it/s]\n",
      "Evaluating: 100%|██████████| 1/1 [00:00<00:00, 566.49it/s]\n"
     ]
    },
    {
     "name": "stdout",
     "output_type": "stream",
     "text": [
      "Training loss: 0.1146, Training accuracy: 0.9561\n",
      "Test loss: 0.2376, Test accuracy: 0.8966\n",
      "Epoch 231/250\n"
     ]
    },
    {
     "name": "stderr",
     "output_type": "stream",
     "text": [
      "Training: 100%|██████████| 2/2 [00:00<00:00, 215.68it/s]\n",
      "Evaluating: 100%|██████████| 1/1 [00:00<00:00, 67.22it/s]\n"
     ]
    },
    {
     "name": "stdout",
     "output_type": "stream",
     "text": [
      "Training loss: 0.1200, Training accuracy: 0.9561\n",
      "Test loss: 0.2374, Test accuracy: 0.8966\n",
      "Epoch 232/250\n"
     ]
    },
    {
     "name": "stderr",
     "output_type": "stream",
     "text": [
      "Training: 100%|██████████| 2/2 [00:00<00:00, 133.84it/s]\n",
      "Evaluating: 100%|██████████| 1/1 [00:00<?, ?it/s]\n"
     ]
    },
    {
     "name": "stdout",
     "output_type": "stream",
     "text": [
      "Training loss: 0.1157, Training accuracy: 0.9561\n",
      "Test loss: 0.2372, Test accuracy: 0.8966\n",
      "Epoch 233/250\n"
     ]
    },
    {
     "name": "stderr",
     "output_type": "stream",
     "text": [
      "Training: 100%|██████████| 2/2 [00:00<00:00, 276.39it/s]\n",
      "Evaluating: 100%|██████████| 1/1 [00:00<00:00, 140.01it/s]\n"
     ]
    },
    {
     "name": "stdout",
     "output_type": "stream",
     "text": [
      "Training loss: 0.1146, Training accuracy: 0.9561\n",
      "Test loss: 0.2368, Test accuracy: 0.8966\n",
      "Epoch 234/250\n"
     ]
    },
    {
     "name": "stderr",
     "output_type": "stream",
     "text": [
      "Training: 100%|██████████| 2/2 [00:00<00:00, 131.14it/s]\n",
      "Evaluating: 100%|██████████| 1/1 [00:00<00:00, 153.65it/s]\n"
     ]
    },
    {
     "name": "stdout",
     "output_type": "stream",
     "text": [
      "Training loss: 0.1159, Training accuracy: 0.9561\n",
      "Test loss: 0.2370, Test accuracy: 0.8966\n",
      "Epoch 235/250\n"
     ]
    },
    {
     "name": "stderr",
     "output_type": "stream",
     "text": [
      "Training: 100%|██████████| 2/2 [00:00<00:00, 297.26it/s]\n",
      "Evaluating: 100%|██████████| 1/1 [00:00<00:00, 59.25it/s]\n"
     ]
    },
    {
     "name": "stdout",
     "output_type": "stream",
     "text": [
      "Training loss: 0.1120, Training accuracy: 0.9561\n",
      "Test loss: 0.2369, Test accuracy: 0.8966\n",
      "Epoch 236/250\n"
     ]
    },
    {
     "name": "stderr",
     "output_type": "stream",
     "text": [
      "Training: 100%|██████████| 2/2 [00:00<00:00, 135.04it/s]\n",
      "Evaluating: 100%|██████████| 1/1 [00:00<?, ?it/s]\n"
     ]
    },
    {
     "name": "stdout",
     "output_type": "stream",
     "text": [
      "Training loss: 0.1090, Training accuracy: 0.9561\n",
      "Test loss: 0.2366, Test accuracy: 0.8966\n",
      "Epoch 237/250\n"
     ]
    },
    {
     "name": "stderr",
     "output_type": "stream",
     "text": [
      "Training: 100%|██████████| 2/2 [00:00<00:00, 115.66it/s]\n",
      "Evaluating: 100%|██████████| 1/1 [00:00<?, ?it/s]\n"
     ]
    },
    {
     "name": "stdout",
     "output_type": "stream",
     "text": [
      "Training loss: 0.1191, Training accuracy: 0.9561\n",
      "Test loss: 0.2368, Test accuracy: 0.8966\n",
      "Epoch 238/250\n"
     ]
    },
    {
     "name": "stderr",
     "output_type": "stream",
     "text": [
      "Training: 100%|██████████| 2/2 [00:00<00:00, 291.95it/s]\n",
      "Evaluating: 100%|██████████| 1/1 [00:00<00:00, 153.85it/s]\n"
     ]
    },
    {
     "name": "stdout",
     "output_type": "stream",
     "text": [
      "Training loss: 0.1164, Training accuracy: 0.9561\n",
      "Test loss: 0.2370, Test accuracy: 0.8966\n",
      "Epoch 239/250\n"
     ]
    },
    {
     "name": "stderr",
     "output_type": "stream",
     "text": [
      "Training: 100%|██████████| 2/2 [00:00<00:00, 147.07it/s]\n",
      "Evaluating: 100%|██████████| 1/1 [00:00<00:00, 410.32it/s]\n"
     ]
    },
    {
     "name": "stdout",
     "output_type": "stream",
     "text": [
      "Training loss: 0.1134, Training accuracy: 0.9561\n",
      "Test loss: 0.2368, Test accuracy: 0.8966\n",
      "Epoch 240/250\n"
     ]
    },
    {
     "name": "stderr",
     "output_type": "stream",
     "text": [
      "Training: 100%|██████████| 2/2 [00:00<00:00, 114.83it/s]\n",
      "Evaluating: 100%|██████████| 1/1 [00:00<00:00, 74.90it/s]\n"
     ]
    },
    {
     "name": "stdout",
     "output_type": "stream",
     "text": [
      "Training loss: 0.1134, Training accuracy: 0.9561\n",
      "Test loss: 0.2368, Test accuracy: 0.8966\n",
      "Epoch 241/250\n"
     ]
    },
    {
     "name": "stderr",
     "output_type": "stream",
     "text": [
      "Training: 100%|██████████| 2/2 [00:00<00:00, 128.51it/s]\n",
      "Evaluating: 100%|██████████| 1/1 [00:00<00:00, 73.56it/s]\n"
     ]
    },
    {
     "name": "stdout",
     "output_type": "stream",
     "text": [
      "Training loss: 0.1159, Training accuracy: 0.9561\n",
      "Test loss: 0.2369, Test accuracy: 0.8966\n",
      "Epoch 242/250\n"
     ]
    },
    {
     "name": "stderr",
     "output_type": "stream",
     "text": [
      "Training: 100%|██████████| 2/2 [00:00<00:00, 120.97it/s]\n",
      "Evaluating: 100%|██████████| 1/1 [00:00<?, ?it/s]\n"
     ]
    },
    {
     "name": "stdout",
     "output_type": "stream",
     "text": [
      "Training loss: 0.1190, Training accuracy: 0.9561\n",
      "Test loss: 0.2369, Test accuracy: 0.8966\n",
      "Epoch 243/250\n"
     ]
    },
    {
     "name": "stderr",
     "output_type": "stream",
     "text": [
      "Training: 100%|██████████| 2/2 [00:00<00:00, 140.25it/s]\n",
      "Evaluating: 100%|██████████| 1/1 [00:00<00:00, 52.68it/s]\n"
     ]
    },
    {
     "name": "stdout",
     "output_type": "stream",
     "text": [
      "Training loss: 0.1118, Training accuracy: 0.9561\n",
      "Test loss: 0.2367, Test accuracy: 0.8966\n",
      "Epoch 244/250\n"
     ]
    },
    {
     "name": "stderr",
     "output_type": "stream",
     "text": [
      "Training: 100%|██████████| 2/2 [00:00<00:00, 127.44it/s]\n",
      "Evaluating: 100%|██████████| 1/1 [00:00<?, ?it/s]\n"
     ]
    },
    {
     "name": "stdout",
     "output_type": "stream",
     "text": [
      "Training loss: 0.1124, Training accuracy: 0.9561\n",
      "Test loss: 0.2368, Test accuracy: 0.8966\n",
      "Epoch 245/250\n"
     ]
    },
    {
     "name": "stderr",
     "output_type": "stream",
     "text": [
      "Training: 100%|██████████| 2/2 [00:00<00:00, 73.98it/s]\n",
      "Evaluating: 100%|██████████| 1/1 [00:00<00:00, 173.91it/s]\n"
     ]
    },
    {
     "name": "stdout",
     "output_type": "stream",
     "text": [
      "Training loss: 0.1212, Training accuracy: 0.9561\n",
      "Test loss: 0.2370, Test accuracy: 0.8966\n",
      "Epoch 246/250\n"
     ]
    },
    {
     "name": "stderr",
     "output_type": "stream",
     "text": [
      "Training: 100%|██████████| 2/2 [00:00<00:00, 126.67it/s]\n",
      "Evaluating: 100%|██████████| 1/1 [00:00<?, ?it/s]\n"
     ]
    },
    {
     "name": "stdout",
     "output_type": "stream",
     "text": [
      "Training loss: 0.1104, Training accuracy: 0.9561\n",
      "Test loss: 0.2368, Test accuracy: 0.8966\n",
      "Epoch 247/250\n"
     ]
    },
    {
     "name": "stderr",
     "output_type": "stream",
     "text": [
      "Training: 100%|██████████| 2/2 [00:00<00:00, 112.91it/s]\n",
      "Evaluating: 100%|██████████| 1/1 [00:00<00:00, 63.70it/s]\n"
     ]
    },
    {
     "name": "stdout",
     "output_type": "stream",
     "text": [
      "Training loss: 0.1159, Training accuracy: 0.9561\n",
      "Test loss: 0.2368, Test accuracy: 0.8966\n",
      "Epoch 248/250\n"
     ]
    },
    {
     "name": "stderr",
     "output_type": "stream",
     "text": [
      "Training: 100%|██████████| 2/2 [00:00<00:00, 124.05it/s]\n",
      "Evaluating: 100%|██████████| 1/1 [00:00<?, ?it/s]"
     ]
    },
    {
     "name": "stdout",
     "output_type": "stream",
     "text": [
      "Training loss: 0.1119, Training accuracy: 0.9561\n",
      "Test loss: 0.2367, Test accuracy: 0.8966\n",
      "Epoch 249/250\n"
     ]
    },
    {
     "name": "stderr",
     "output_type": "stream",
     "text": [
      "\n",
      "Training: 100%|██████████| 2/2 [00:00<00:00, 104.27it/s]\n",
      "Evaluating: 100%|██████████| 1/1 [00:00<00:00, 158.01it/s]\n"
     ]
    },
    {
     "name": "stdout",
     "output_type": "stream",
     "text": [
      "Training loss: 0.1173, Training accuracy: 0.9561\n",
      "Test loss: 0.2365, Test accuracy: 0.8966\n",
      "Epoch 250/250\n"
     ]
    },
    {
     "name": "stderr",
     "output_type": "stream",
     "text": [
      "Training: 100%|██████████| 2/2 [00:00<00:00, 326.11it/s]\n",
      "Evaluating: 100%|██████████| 1/1 [00:00<00:00, 107.57it/s]\n"
     ]
    },
    {
     "name": "stdout",
     "output_type": "stream",
     "text": [
      "Training loss: 0.1136, Training accuracy: 0.9561\n",
      "Test loss: 0.2364, Test accuracy: 0.8966\n"
     ]
    },
    {
     "data": {
      "image/png": "[encoded data removed]",
      "text/plain": [
       "<Figure size 1500x500 with 2 Axes>"
      ]
     },
     "metadata": {},
     "output_type": "display_data"
    }
   ],
   "source": [
    "best_acc_model, best_loss_model, results = train_logreg_simplified(\n",
    "    batch_size=64,\n",
    "    train_feats_data=train_feats,\n",
    "    test_feats_data=test_feats,\n",
    "    feature_dim=train_feats.tensors[0].shape[1],\n",
    "    num_classes=2,\n",
    "    lr=5e-4,\n",
    "    weight_decay=1e-4,\n",
    "    max_epochs=250\n",
    ")"
   ]
  },
  {
   "cell_type": "code",
   "execution_count": 17,
   "metadata": {},
   "outputs": [
    {
     "data": {
      "text/plain": [
       "LogisticRegression(\n",
       "  (linear): Linear(in_features=27648, out_features=2, bias=True)\n",
       ")"
      ]
     },
     "execution_count": 17,
     "metadata": {},
     "output_type": "execute_result"
    }
   ],
   "source": [
    "logreg_model= best_loss_model\n",
    "logreg_model\n",
    "logreg_model.eval()  # This disables dropout and batchnorm for inference"
   ]
  },
  {
   "cell_type": "code",
   "execution_count": 18,
   "metadata": {},
   "outputs": [],
   "source": [
    "import os\n",
    "import torch\n",
    "import torch.nn as nn\n",
    "import torch.nn.functional as F\n",
    "from torch.utils.data import DataLoader\n",
    "import matplotlib.pyplot as plt\n",
    "import numpy as np\n",
    "from copy import deepcopy\n",
    "from tqdm import tqdm\n",
    "import tifffile as tiff\n",
    "from torchvision import transforms\n",
    "\n",
    "def get_all_groups(root_dir):\n",
    "    # All directories in root_dir are considered different groups\n",
    "    groups = []\n",
    "    for d in os.listdir(root_dir):\n",
    "        dir_path = os.path.join(root_dir, d)\n",
    "        if os.path.isdir(dir_path):\n",
    "            groups.append(d)\n",
    "    return groups\n",
    "\n",
    "def load_inference_data(root_dir):\n",
    "    groups = get_all_groups(root_dir)\n",
    "    \n",
    "    image_files = []\n",
    "    group_names = []\n",
    "    \n",
    "    # We won't use numeric labels for correctness here since our model is only binary.\n",
    "    # However, we still need a label tensor. We'll just assign a dummy label (e.g. 0) \n",
    "    # because we only need to run inference. The label doesn't affect inference.\n",
    "    dummy_labels = []\n",
    "\n",
    "    for group in groups:\n",
    "        class_dir = os.path.join(root_dir, group)\n",
    "        files = [os.path.join(class_dir, file) for file in os.listdir(class_dir)\n",
    "                 if file.lower().endswith(('.tiff', '.tif'))]\n",
    "        image_files.extend(files)\n",
    "        group_names.extend([group] * len(files))\n",
    "        dummy_labels.extend([0]*len(files))  # dummy label\n",
    "\n",
    "    return image_files, dummy_labels, group_names, groups\n",
    "\n",
    "# Dataset that returns image, a dummy label, path, and keeps track of group name externally\n",
    "class LabeledImageDatasetWithPath:\n",
    "    def __init__(self, image_files, labels, transform=None):\n",
    "        self.image_files = image_files\n",
    "        self.labels = labels\n",
    "        self.transform = transform\n",
    "        self.resize_transform = transforms.Resize((96, 96))\n",
    "\n",
    "    def __len__(self):\n",
    "        return len(self.image_files)\n",
    "\n",
    "    def __getitem__(self, idx):\n",
    "        img_path = self.image_files[idx]\n",
    "        image = tiff.imread(img_path)\n",
    "\n",
    "        # Handle shape: ensure CxHxW\n",
    "        if image.ndim == 3 and image.shape[2] == 3:\n",
    "            image = np.transpose(image, (2, 0, 1))\n",
    "        if image.shape[0] != 3:\n",
    "            raise ValueError(f\"Image {img_path} doesn't have 3 channels.\")\n",
    "\n",
    "        image = image.astype(np.float32) / 65535.0\n",
    "        image = torch.tensor(image, dtype=torch.float32)\n",
    "        image = self.resize_transform(image)\n",
    "\n",
    "        label = self.labels[idx]\n",
    "        return image, label, img_path\n",
    "    \n",
    "def extract_features(dataloader):\n",
    "    feats, labels, paths = [], [],[]\n",
    "\n",
    "    for batch_imgs, batch_labels, batch_paths in tqdm(dataloader, desc=\"Extracting Features\"):\n",
    "    #for batch_imgs, batch_labels in tqdm(dataloader):\n",
    "        batch_imgs = batch_imgs.to(device)\n",
    "        \n",
    "        # Flatten the images from (N, C, H, W) to (N, C*H*W)\n",
    "        batch_feats = batch_imgs.view(batch_imgs.size(0), -1)  # Flatten the images\n",
    "\n",
    "        print(f\"Batch features shape: {batch_feats.shape}\")  # Check the feature shape\n",
    "        print(f\"Batch labels shape: {batch_labels.shape}\")\n",
    "        \n",
    "        feats.append(batch_feats.detach().cpu())\n",
    "        labels.append(batch_labels)\n",
    "        paths.extend(batch_paths)\n",
    "\n",
    "    feats = torch.cat(feats, dim=0)\n",
    "    labels = torch.cat(labels, dim=0)\n",
    "    \n",
    "    print(f\"Features shape after concatenation: {feats.shape}\")\n",
    "    print(f\"Labels shape after concatenation: {labels.shape}\")\n",
    "\n",
    "    return feats, labels, paths\n"
   ]
  },
  {
   "cell_type": "code",
   "execution_count": null,
   "metadata": {},
   "outputs": [],
   "source": []
  },
  {
   "cell_type": "code",
   "execution_count": 19,
   "metadata": {},
   "outputs": [],
   "source": [
    "root_dir = r\"G:\\softmax\\inference\""
   ]
  },
  {
   "cell_type": "code",
   "execution_count": 20,
   "metadata": {},
   "outputs": [],
   "source": [
    "# 1. Load data from all groups\n",
    "image_files, dummy_labels, group_names, groups = load_inference_data(root_dir)"
   ]
  },
  {
   "cell_type": "code",
   "execution_count": 21,
   "metadata": {},
   "outputs": [],
   "source": [
    "# 2. Create dataset and dataloader for inference\n",
    "inference_dataset = LabeledImageDatasetWithPath(image_files, dummy_labels)"
   ]
  },
  {
   "cell_type": "code",
   "execution_count": 22,
   "metadata": {},
   "outputs": [],
   "source": [
    "inference_loader = DataLoader(inference_dataset, batch_size=16, shuffle=False, pin_memory=True, num_workers=0)"
   ]
  },
  {
   "cell_type": "code",
   "execution_count": 23,
   "metadata": {},
   "outputs": [
    {
     "name": "stderr",
     "output_type": "stream",
     "text": [
      "Extracting Features:   3%|▎         | 1/39 [00:07<04:39,  7.34s/it]"
     ]
    },
    {
     "name": "stdout",
     "output_type": "stream",
     "text": [
      "Batch features shape: torch.Size([16, 27648])\n",
      "Batch labels shape: torch.Size([16])\n"
     ]
    },
    {
     "name": "stderr",
     "output_type": "stream",
     "text": [
      "Extracting Features:   5%|▌         | 2/39 [00:14<04:25,  7.19s/it]"
     ]
    },
    {
     "name": "stdout",
     "output_type": "stream",
     "text": [
      "Batch features shape: torch.Size([16, 27648])\n",
      "Batch labels shape: torch.Size([16])\n"
     ]
    },
    {
     "name": "stderr",
     "output_type": "stream",
     "text": [
      "Extracting Features:   8%|▊         | 3/39 [00:21<04:18,  7.17s/it]"
     ]
    },
    {
     "name": "stdout",
     "output_type": "stream",
     "text": [
      "Batch features shape: torch.Size([16, 27648])\n",
      "Batch labels shape: torch.Size([16])\n"
     ]
    },
    {
     "name": "stderr",
     "output_type": "stream",
     "text": [
      "Extracting Features:  10%|█         | 4/39 [00:28<04:10,  7.15s/it]"
     ]
    },
    {
     "name": "stdout",
     "output_type": "stream",
     "text": [
      "Batch features shape: torch.Size([16, 27648])\n",
      "Batch labels shape: torch.Size([16])\n"
     ]
    },
    {
     "name": "stderr",
     "output_type": "stream",
     "text": [
      "Extracting Features:  13%|█▎        | 5/39 [00:35<04:02,  7.13s/it]"
     ]
    },
    {
     "name": "stdout",
     "output_type": "stream",
     "text": [
      "Batch features shape: torch.Size([16, 27648])\n",
      "Batch labels shape: torch.Size([16])\n"
     ]
    },
    {
     "name": "stderr",
     "output_type": "stream",
     "text": [
      "Extracting Features:  15%|█▌        | 6/39 [00:42<03:54,  7.10s/it]"
     ]
    },
    {
     "name": "stdout",
     "output_type": "stream",
     "text": [
      "Batch features shape: torch.Size([16, 27648])\n",
      "Batch labels shape: torch.Size([16])\n"
     ]
    },
    {
     "name": "stderr",
     "output_type": "stream",
     "text": [
      "Extracting Features:  18%|█▊        | 7/39 [00:50<03:48,  7.13s/it]"
     ]
    },
    {
     "name": "stdout",
     "output_type": "stream",
     "text": [
      "Batch features shape: torch.Size([16, 27648])\n",
      "Batch labels shape: torch.Size([16])\n"
     ]
    },
    {
     "name": "stderr",
     "output_type": "stream",
     "text": [
      "Extracting Features:  21%|██        | 8/39 [00:57<03:41,  7.15s/it]"
     ]
    },
    {
     "name": "stdout",
     "output_type": "stream",
     "text": [
      "Batch features shape: torch.Size([16, 27648])\n",
      "Batch labels shape: torch.Size([16])\n"
     ]
    },
    {
     "name": "stderr",
     "output_type": "stream",
     "text": [
      "Extracting Features:  23%|██▎       | 9/39 [01:04<03:34,  7.15s/it]"
     ]
    },
    {
     "name": "stdout",
     "output_type": "stream",
     "text": [
      "Batch features shape: torch.Size([16, 27648])\n",
      "Batch labels shape: torch.Size([16])\n"
     ]
    },
    {
     "name": "stderr",
     "output_type": "stream",
     "text": [
      "Extracting Features:  26%|██▌       | 10/39 [01:11<03:26,  7.11s/it]"
     ]
    },
    {
     "name": "stdout",
     "output_type": "stream",
     "text": [
      "Batch features shape: torch.Size([16, 27648])\n",
      "Batch labels shape: torch.Size([16])\n"
     ]
    },
    {
     "name": "stderr",
     "output_type": "stream",
     "text": [
      "Extracting Features:  28%|██▊       | 11/39 [01:18<03:19,  7.12s/it]"
     ]
    },
    {
     "name": "stdout",
     "output_type": "stream",
     "text": [
      "Batch features shape: torch.Size([16, 27648])\n",
      "Batch labels shape: torch.Size([16])\n"
     ]
    },
    {
     "name": "stderr",
     "output_type": "stream",
     "text": [
      "Extracting Features:  31%|███       | 12/39 [01:25<03:12,  7.12s/it]"
     ]
    },
    {
     "name": "stdout",
     "output_type": "stream",
     "text": [
      "Batch features shape: torch.Size([16, 27648])\n",
      "Batch labels shape: torch.Size([16])\n"
     ]
    },
    {
     "name": "stderr",
     "output_type": "stream",
     "text": [
      "Extracting Features:  33%|███▎      | 13/39 [01:32<03:05,  7.13s/it]"
     ]
    },
    {
     "name": "stdout",
     "output_type": "stream",
     "text": [
      "Batch features shape: torch.Size([16, 27648])\n",
      "Batch labels shape: torch.Size([16])\n"
     ]
    },
    {
     "name": "stderr",
     "output_type": "stream",
     "text": [
      "Extracting Features:  36%|███▌      | 14/39 [01:39<02:58,  7.13s/it]"
     ]
    },
    {
     "name": "stdout",
     "output_type": "stream",
     "text": [
      "Batch features shape: torch.Size([16, 27648])\n",
      "Batch labels shape: torch.Size([16])\n"
     ]
    },
    {
     "name": "stderr",
     "output_type": "stream",
     "text": [
      "Extracting Features:  38%|███▊      | 15/39 [01:47<02:51,  7.14s/it]"
     ]
    },
    {
     "name": "stdout",
     "output_type": "stream",
     "text": [
      "Batch features shape: torch.Size([16, 27648])\n",
      "Batch labels shape: torch.Size([16])\n"
     ]
    },
    {
     "name": "stderr",
     "output_type": "stream",
     "text": [
      "Extracting Features:  41%|████      | 16/39 [01:53<02:39,  6.93s/it]"
     ]
    },
    {
     "name": "stdout",
     "output_type": "stream",
     "text": [
      "Batch features shape: torch.Size([16, 27648])\n",
      "Batch labels shape: torch.Size([16])\n"
     ]
    },
    {
     "name": "stderr",
     "output_type": "stream",
     "text": [
      "Extracting Features:  44%|████▎     | 17/39 [01:59<02:29,  6.78s/it]"
     ]
    },
    {
     "name": "stdout",
     "output_type": "stream",
     "text": [
      "Batch features shape: torch.Size([16, 27648])\n",
      "Batch labels shape: torch.Size([16])\n"
     ]
    },
    {
     "name": "stderr",
     "output_type": "stream",
     "text": [
      "Extracting Features:  46%|████▌     | 18/39 [02:06<02:20,  6.67s/it]"
     ]
    },
    {
     "name": "stdout",
     "output_type": "stream",
     "text": [
      "Batch features shape: torch.Size([16, 27648])\n",
      "Batch labels shape: torch.Size([16])\n"
     ]
    },
    {
     "name": "stderr",
     "output_type": "stream",
     "text": [
      "Extracting Features:  49%|████▊     | 19/39 [02:12<02:11,  6.59s/it]"
     ]
    },
    {
     "name": "stdout",
     "output_type": "stream",
     "text": [
      "Batch features shape: torch.Size([16, 27648])\n",
      "Batch labels shape: torch.Size([16])\n"
     ]
    },
    {
     "name": "stderr",
     "output_type": "stream",
     "text": [
      "Extracting Features:  51%|█████▏    | 20/39 [02:19<02:04,  6.53s/it]"
     ]
    },
    {
     "name": "stdout",
     "output_type": "stream",
     "text": [
      "Batch features shape: torch.Size([16, 27648])\n",
      "Batch labels shape: torch.Size([16])\n"
     ]
    },
    {
     "name": "stderr",
     "output_type": "stream",
     "text": [
      "Extracting Features:  54%|█████▍    | 21/39 [02:25<01:57,  6.50s/it]"
     ]
    },
    {
     "name": "stdout",
     "output_type": "stream",
     "text": [
      "Batch features shape: torch.Size([16, 27648])\n",
      "Batch labels shape: torch.Size([16])\n"
     ]
    },
    {
     "name": "stderr",
     "output_type": "stream",
     "text": [
      "Extracting Features:  56%|█████▋    | 22/39 [02:32<01:50,  6.48s/it]"
     ]
    },
    {
     "name": "stdout",
     "output_type": "stream",
     "text": [
      "Batch features shape: torch.Size([16, 27648])\n",
      "Batch labels shape: torch.Size([16])\n"
     ]
    },
    {
     "name": "stderr",
     "output_type": "stream",
     "text": [
      "Extracting Features:  59%|█████▉    | 23/39 [02:38<01:43,  6.45s/it]"
     ]
    },
    {
     "name": "stdout",
     "output_type": "stream",
     "text": [
      "Batch features shape: torch.Size([16, 27648])\n",
      "Batch labels shape: torch.Size([16])\n"
     ]
    },
    {
     "name": "stderr",
     "output_type": "stream",
     "text": [
      "Extracting Features:  62%|██████▏   | 24/39 [02:44<01:36,  6.43s/it]"
     ]
    },
    {
     "name": "stdout",
     "output_type": "stream",
     "text": [
      "Batch features shape: torch.Size([16, 27648])\n",
      "Batch labels shape: torch.Size([16])\n"
     ]
    },
    {
     "name": "stderr",
     "output_type": "stream",
     "text": [
      "Extracting Features:  64%|██████▍   | 25/39 [02:51<01:30,  6.44s/it]"
     ]
    },
    {
     "name": "stdout",
     "output_type": "stream",
     "text": [
      "Batch features shape: torch.Size([16, 27648])\n",
      "Batch labels shape: torch.Size([16])\n"
     ]
    },
    {
     "name": "stderr",
     "output_type": "stream",
     "text": [
      "Extracting Features:  67%|██████▋   | 26/39 [02:57<01:23,  6.42s/it]"
     ]
    },
    {
     "name": "stdout",
     "output_type": "stream",
     "text": [
      "Batch features shape: torch.Size([16, 27648])\n",
      "Batch labels shape: torch.Size([16])\n"
     ]
    },
    {
     "name": "stderr",
     "output_type": "stream",
     "text": [
      "Extracting Features:  69%|██████▉   | 27/39 [03:04<01:17,  6.42s/it]"
     ]
    },
    {
     "name": "stdout",
     "output_type": "stream",
     "text": [
      "Batch features shape: torch.Size([16, 27648])\n",
      "Batch labels shape: torch.Size([16])\n"
     ]
    },
    {
     "name": "stderr",
     "output_type": "stream",
     "text": [
      "Extracting Features:  72%|███████▏  | 28/39 [03:10<01:10,  6.40s/it]"
     ]
    },
    {
     "name": "stdout",
     "output_type": "stream",
     "text": [
      "Batch features shape: torch.Size([16, 27648])\n",
      "Batch labels shape: torch.Size([16])\n"
     ]
    },
    {
     "name": "stderr",
     "output_type": "stream",
     "text": [
      "Extracting Features:  74%|███████▍  | 29/39 [03:16<01:03,  6.40s/it]"
     ]
    },
    {
     "name": "stdout",
     "output_type": "stream",
     "text": [
      "Batch features shape: torch.Size([16, 27648])\n",
      "Batch labels shape: torch.Size([16])\n"
     ]
    },
    {
     "name": "stderr",
     "output_type": "stream",
     "text": [
      "Extracting Features:  77%|███████▋  | 30/39 [03:23<00:58,  6.51s/it]"
     ]
    },
    {
     "name": "stdout",
     "output_type": "stream",
     "text": [
      "Batch features shape: torch.Size([16, 27648])\n",
      "Batch labels shape: torch.Size([16])\n"
     ]
    },
    {
     "name": "stderr",
     "output_type": "stream",
     "text": [
      "Extracting Features:  79%|███████▉  | 31/39 [03:30<00:53,  6.69s/it]"
     ]
    },
    {
     "name": "stdout",
     "output_type": "stream",
     "text": [
      "Batch features shape: torch.Size([16, 27648])\n",
      "Batch labels shape: torch.Size([16])\n"
     ]
    },
    {
     "name": "stderr",
     "output_type": "stream",
     "text": [
      "Extracting Features:  82%|████████▏ | 32/39 [03:37<00:47,  6.82s/it]"
     ]
    },
    {
     "name": "stdout",
     "output_type": "stream",
     "text": [
      "Batch features shape: torch.Size([16, 27648])\n",
      "Batch labels shape: torch.Size([16])\n"
     ]
    },
    {
     "name": "stderr",
     "output_type": "stream",
     "text": [
      "Extracting Features:  85%|████████▍ | 33/39 [03:44<00:41,  6.92s/it]"
     ]
    },
    {
     "name": "stdout",
     "output_type": "stream",
     "text": [
      "Batch features shape: torch.Size([16, 27648])\n",
      "Batch labels shape: torch.Size([16])\n"
     ]
    },
    {
     "name": "stderr",
     "output_type": "stream",
     "text": [
      "Extracting Features:  87%|████████▋ | 34/39 [03:52<00:35,  7.03s/it]"
     ]
    },
    {
     "name": "stdout",
     "output_type": "stream",
     "text": [
      "Batch features shape: torch.Size([16, 27648])\n",
      "Batch labels shape: torch.Size([16])\n"
     ]
    },
    {
     "name": "stderr",
     "output_type": "stream",
     "text": [
      "Extracting Features:  90%|████████▉ | 35/39 [03:59<00:28,  7.07s/it]"
     ]
    },
    {
     "name": "stdout",
     "output_type": "stream",
     "text": [
      "Batch features shape: torch.Size([16, 27648])\n",
      "Batch labels shape: torch.Size([16])\n"
     ]
    },
    {
     "name": "stderr",
     "output_type": "stream",
     "text": [
      "Extracting Features:  92%|█████████▏| 36/39 [04:06<00:21,  7.09s/it]"
     ]
    },
    {
     "name": "stdout",
     "output_type": "stream",
     "text": [
      "Batch features shape: torch.Size([16, 27648])\n",
      "Batch labels shape: torch.Size([16])\n"
     ]
    },
    {
     "name": "stderr",
     "output_type": "stream",
     "text": [
      "Extracting Features:  95%|█████████▍| 37/39 [04:13<00:14,  7.10s/it]"
     ]
    },
    {
     "name": "stdout",
     "output_type": "stream",
     "text": [
      "Batch features shape: torch.Size([16, 27648])\n",
      "Batch labels shape: torch.Size([16])\n"
     ]
    },
    {
     "name": "stderr",
     "output_type": "stream",
     "text": [
      "Extracting Features:  97%|█████████▋| 38/39 [04:20<00:07,  7.14s/it]"
     ]
    },
    {
     "name": "stdout",
     "output_type": "stream",
     "text": [
      "Batch features shape: torch.Size([16, 27648])\n",
      "Batch labels shape: torch.Size([16])\n"
     ]
    },
    {
     "name": "stderr",
     "output_type": "stream",
     "text": [
      "Extracting Features: 100%|██████████| 39/39 [04:23<00:00,  6.77s/it]"
     ]
    },
    {
     "name": "stdout",
     "output_type": "stream",
     "text": [
      "Batch features shape: torch.Size([7, 27648])\n",
      "Batch labels shape: torch.Size([7])\n",
      "Features shape after concatenation: torch.Size([615, 27648])\n",
      "Labels shape after concatenation: torch.Size([615])\n"
     ]
    },
    {
     "name": "stderr",
     "output_type": "stream",
     "text": [
      "\n"
     ]
    }
   ],
   "source": [
    "# 3. Extract features\n",
    "inference_feats, inference_true_labels, inference_paths = extract_features(inference_loader)"
   ]
  },
  {
   "cell_type": "code",
   "execution_count": 24,
   "metadata": {},
   "outputs": [],
   "source": [
    "@torch.no_grad()\n",
    "def predict_with_probs(model, features, device):\n",
    "    model.eval()\n",
    "    features = features.to(device)\n",
    "    logits = model(features)  # shape: [N, 2]\n",
    "    probs = F.softmax(logits, dim=1)  # Convert logits to probabilities\n",
    "    return probs.cpu().numpy()\n"
   ]
  },
  {
   "cell_type": "code",
   "execution_count": 25,
   "metadata": {},
   "outputs": [],
   "source": [
    "probs = predict_with_probs(logreg_model, inference_feats, device)  # shape [N, 2]"
   ]
  },
  {
   "cell_type": "code",
   "execution_count": 26,
   "metadata": {},
   "outputs": [
    {
     "data": {
      "image/png": "[encoded data removed]",
      "text/plain": [
       "<Figure size 1000x1200 with 6 Axes>"
      ]
     },
     "metadata": {},
     "output_type": "display_data"
    },
    {
     "data": {
      "image/png": "[encoded data removed]",
      "text/plain": [
       "<Figure size 1000x500 with 1 Axes>"
      ]
     },
     "metadata": {},
     "output_type": "display_data"
    },
    {
     "data": {
      "image/png": "[encoded data removed]",
      "text/plain": [
       "<Figure size 1000x500 with 1 Axes>"
      ]
     },
     "metadata": {},
     "output_type": "display_data"
    }
   ],
   "source": [
    "groups_data = {g: [] for g in groups}\n",
    "\n",
    "# Since group_names aligns with inference_paths and probs, we can pair them up\n",
    "for p_control, p_treated, grp, path in zip(probs[:,0], probs[:,1], group_names, inference_paths):\n",
    "    groups_data[grp].append([p_control, p_treated, path])\n",
    "\n",
    "# Now we have groups_data with each group having a list of probabilities and paths.\n",
    "\n",
    "# 5. Plot distributions\n",
    "\n",
    "# Individual distributions per group:\n",
    "# We'll create subplots dynamically based on how many groups we have.\n",
    "num_groups = len(groups)\n",
    "fig, axs = plt.subplots(num_groups, 2, figsize=(10, 4*num_groups))\n",
    "# axs[i,0] -> p(control) distribution for group i\n",
    "# axs[i,1] -> p(treated) distribution for group i\n",
    "\n",
    "if num_groups == 1:\n",
    "    # If there's only one group, axs is not a 2D array\n",
    "    axs = np.array([axs])  # make it 2D for consistency\n",
    "\n",
    "for i, grp in enumerate(groups):\n",
    "    p_control_list = [item[0] for item in groups_data[grp]]\n",
    "    p_treated_list = [item[1] for item in groups_data[grp]]\n",
    "\n",
    "    axs[i, 0].hist(p_control_list, bins=20, alpha=0.7, edgecolor='black')\n",
    "    axs[i, 0].set_title(f\"{grp} Group p(control)\")\n",
    "    axs[i, 0].set_xlabel(\"Probability\")\n",
    "    axs[i, 0].set_ylabel(\"Count\")\n",
    "\n",
    "    axs[i, 1].hist(p_treated_list, bins=20, alpha=0.7, edgecolor='black', color='orange')\n",
    "    axs[i, 1].set_title(f\"{grp} Group p(treated)\")\n",
    "    axs[i, 1].set_xlabel(\"Probability\")\n",
    "    axs[i, 1].set_ylabel(\"Count\")\n",
    "\n",
    "plt.tight_layout()\n",
    "plt.show()\n",
    "\n",
    "# 6. Plot combined distributions\n",
    "# 6.1: Compare all groups p(control) together\n",
    "plt.figure(figsize=(10, 5))\n",
    "for grp in groups:\n",
    "    p_control_list = [item[0] for item in groups_data[grp]]\n",
    "    plt.hist(p_control_list, bins=20, alpha=0.5, edgecolor='black', label=grp)\n",
    "plt.title(\"p(control) Distribution Across All Groups\")\n",
    "plt.xlabel(\"Probability\")\n",
    "plt.ylabel(\"Count\")\n",
    "plt.legend()\n",
    "plt.show()\n",
    "\n",
    "# 6.2: Compare all groups p(treated) together\n",
    "plt.figure(figsize=(10, 5))\n",
    "for grp in groups:\n",
    "    p_treated_list = [item[1] for item in groups_data[grp]]\n",
    "    plt.hist(p_treated_list, bins=20, alpha=0.5, edgecolor='black', label=grp)\n",
    "plt.title(\"p(treated) Distribution Across All Groups\")\n",
    "plt.xlabel(\"Probability\")\n",
    "plt.ylabel(\"Count\")\n",
    "plt.legend()\n",
    "plt.show()"
   ]
  },
  {
   "cell_type": "code",
   "execution_count": 27,
   "metadata": {},
   "outputs": [
    {
     "name": "stdout",
     "output_type": "stream",
     "text": [
      "Images sorted by p(treated) in ascending order:\n",
      "G:\\softmax\\inference\\sd\\RBT10_C09-T01.tiff: 0.0020\n",
      "G:\\softmax\\inference\\sd\\RBT10_B11-T01.tiff: 0.0024\n",
      "G:\\softmax\\inference\\sd\\RBT10_E09-T01.tiff: 0.0032\n",
      "G:\\softmax\\inference\\sd\\RBT09_C07-T01.tiff: 0.0046\n",
      "G:\\softmax\\inference\\sd\\RBT10_B07-T01.tiff: 0.0063\n",
      "G:\\softmax\\inference\\sd\\RBT14_B08-T01.tiff: 0.0075\n",
      "G:\\softmax\\inference\\sd\\RBT10_F10-T01.tiff: 0.0079\n",
      "G:\\softmax\\inference\\sd\\RBT10_B08-T01.tiff: 0.0084\n",
      "G:\\softmax\\inference\\sd\\RBT09_D08-T01.tiff: 0.0084\n",
      "G:\\softmax\\inference\\sd\\RBT04_E09-T01.tiff: 0.0085\n",
      "G:\\softmax\\inference\\sd\\RBT09_G10-T01.tiff: 0.0087\n",
      "G:\\softmax\\inference\\sd\\RBT09_B10-T01.tiff: 0.0088\n",
      "G:\\softmax\\inference\\sd\\RBT04_F08-T01.tiff: 0.0089\n",
      "G:\\softmax\\inference\\sd\\RBT04_C09-T01.tiff: 0.0089\n",
      "G:\\softmax\\inference\\sd\\RBT10_C11-T01.tiff: 0.0091\n",
      "G:\\softmax\\inference\\sd\\RBT10_E10-T01.tiff: 0.0093\n",
      "G:\\softmax\\inference\\sd\\RBT10_D08-T01.tiff: 0.0100\n",
      "G:\\softmax\\inference\\sd\\RBT09_B07-T01.tiff: 0.0103\n",
      "G:\\softmax\\inference\\sd\\RBT09_E09-T01.tiff: 0.0104\n",
      "G:\\softmax\\inference\\sd\\RBT10_B09-T01.tiff: 0.0106\n",
      "G:\\softmax\\inference\\sd\\RBT04_D08-T01.tiff: 0.0116\n",
      "G:\\softmax\\inference\\sd\\RBT04_E07-T01.tiff: 0.0120\n",
      "G:\\softmax\\inference\\sd\\RBT04_F07-T01.tiff: 0.0131\n",
      "G:\\softmax\\inference\\sd\\RBT10_C07-T01.tiff: 0.0157\n",
      "G:\\softmax\\inference\\sd\\RBT10_G10-T01.tiff: 0.0161\n",
      "G:\\softmax\\inference\\sd\\RBT04_B07-T01.tiff: 0.0162\n",
      "G:\\softmax\\inference\\sd\\RBT10_D11-T01.tiff: 0.0167\n",
      "G:\\softmax\\inference\\sd\\RBT14_B07-T01.tiff: 0.0171\n",
      "G:\\softmax\\inference\\sd\\RBT10_E07-T01.tiff: 0.0184\n",
      "G:\\softmax\\inference\\sd\\RBT10_F07-T01.tiff: 0.0187\n",
      "G:\\softmax\\inference\\sd\\RBT09_D11-T01.tiff: 0.0199\n",
      "G:\\softmax\\inference\\sd\\RBT04_C08-T01.tiff: 0.0199\n",
      "G:\\softmax\\inference\\sd\\RBT14_C07-T01.tiff: 0.0200\n",
      "G:\\softmax\\inference\\sd\\RBT10_D07-T01.tiff: 0.0205\n",
      "G:\\softmax\\inference\\sd\\RBT04_E10-T01.tiff: 0.0208\n",
      "G:\\softmax\\inference\\sd\\RBT10_C08-T01.tiff: 0.0212\n",
      "G:\\softmax\\inference\\sd\\RBT04_G07-T01.tiff: 0.0232\n",
      "G:\\softmax\\inference\\sd\\RBT04_G10-T01.tiff: 0.0237\n",
      "G:\\softmax\\inference\\sd\\RBT10_G07-T01.tiff: 0.0250\n",
      "G:\\softmax\\inference\\sd\\RBT04_C07-T01.tiff: 0.0251\n",
      "G:\\softmax\\inference\\sd\\RBT04_G08-T01.tiff: 0.0255\n",
      "G:\\softmax\\inference\\sd\\RBT10_C10-T01.tiff: 0.0268\n",
      "G:\\softmax\\inference\\sd\\RBT09_B08-T01.tiff: 0.0278\n",
      "G:\\softmax\\inference\\sd\\RBT04_F10-T01.tiff: 0.0284\n",
      "G:\\softmax\\inference\\sd\\RBT04_B09-T01.tiff: 0.0290\n",
      "G:\\softmax\\inference\\sd\\RBT09_G07-T01.tiff: 0.0294\n",
      "G:\\softmax\\inference\\sd\\RBT14_C08-T01.tiff: 0.0295\n",
      "G:\\softmax\\inference\\sd\\RBT14_D09-T01.tiff: 0.0315\n",
      "G:\\softmax\\inference\\sd\\RBT10_D10-T01.tiff: 0.0358\n",
      "G:\\softmax\\inference\\sd\\RBT09_C10-T01.tiff: 0.0363\n",
      "G:\\softmax\\inference\\sd\\RBT14_B09-T01.tiff: 0.0368\n",
      "G:\\softmax\\inference\\sd\\RBT10_F09-T01.tiff: 0.0375\n",
      "G:\\softmax\\inference\\sd\\RBT04_B10-T01.tiff: 0.0391\n",
      "G:\\softmax\\inference\\sd\\RBT14_D08-T01.tiff: 0.0394\n",
      "G:\\softmax\\inference\\sd\\RBT04_F09-T01.tiff: 0.0395\n",
      "G:\\softmax\\inference\\sd\\RBT09_D09-T01.tiff: 0.0399\n",
      "G:\\softmax\\inference\\sd\\RBT09_C08-T01.tiff: 0.0416\n",
      "G:\\softmax\\inference\\sd\\RBT04_E08-T01.tiff: 0.0418\n",
      "G:\\softmax\\inference\\sd\\RBT10_B10-T01.tiff: 0.0445\n",
      "G:\\softmax\\inference\\sd\\RBT14_D07-T01.tiff: 0.0446\n",
      "G:\\softmax\\inference\\sd\\RBT09_C09-T01.tiff: 0.0450\n",
      "G:\\softmax\\inference\\sd\\RBT10_G09-T01.tiff: 0.0459\n",
      "G:\\softmax\\inference\\sd\\RBT09_D10-T01.tiff: 0.0467\n",
      "G:\\softmax\\inference\\sd\\RBT14_D10-T01.tiff: 0.0470\n",
      "G:\\softmax\\inference\\sd\\RBT04_F11-T01.tiff: 0.0498\n",
      "G:\\softmax\\inference\\sd\\RBT04_B08-T01.tiff: 0.0511\n",
      "G:\\softmax\\inference\\sd\\RBT04_D09-T01.tiff: 0.0517\n",
      "G:\\softmax\\inference\\sd\\RBT14_B11-T01.tiff: 0.0560\n",
      "G:\\softmax\\inference\\sd\\RBT10_G11-T01.tiff: 0.0570\n",
      "G:\\softmax\\inference\\sd\\RBT14_B10-T01.tiff: 0.0579\n",
      "G:\\softmax\\inference\\sd\\RBT04_D07-T01.tiff: 0.0582\n",
      "G:\\softmax\\inference\\sd\\RBT10_F11-T01.tiff: 0.0597\n",
      "G:\\softmax\\inference\\sd\\RBT09_B11-T01.tiff: 0.0633\n",
      "G:\\softmax\\inference\\sd\\RBT09_B09-T01.tiff: 0.0673\n",
      "G:\\softmax\\inference\\sd\\RBT09_C11-T01.tiff: 0.0784\n",
      "G:\\softmax\\inference\\sd\\RBT04_G09-T01.tiff: 0.0794\n",
      "G:\\softmax\\inference\\sd\\RBT14_C10-T01.tiff: 0.0875\n",
      "G:\\softmax\\inference\\sd\\RBT10_E11-T01.tiff: 0.0898\n",
      "G:\\softmax\\inference\\sd\\RBT04_D10-T01.tiff: 0.0917\n",
      "G:\\softmax\\inference\\sd\\RBT10_G08-T01.tiff: 0.0919\n",
      "G:\\softmax\\inference\\sd\\RBT04_D11-T01.tiff: 0.0927\n",
      "G:\\softmax\\inference\\sd\\RBT09_E08-T01.tiff: 0.0989\n",
      "G:\\softmax\\inference\\sd\\RBT14_D11-T01.tiff: 0.1041\n",
      "G:\\softmax\\inference\\sd\\RBT14_C11-T01.tiff: 0.1058\n",
      "G:\\softmax\\inference\\sd\\RBT04_G11-T01.tiff: 0.1124\n",
      "G:\\softmax\\inference\\sd\\RBT09_G11-T01.tiff: 0.1139\n",
      "G:\\softmax\\inference\\sd\\RBT10_F08-T01.tiff: 0.1151\n",
      "G:\\softmax\\inference\\sd\\RBT04_E11-T01.tiff: 0.1155\n",
      "G:\\softmax\\inference\\sd\\RBT09_F08-T01.tiff: 0.1157\n",
      "G:\\softmax\\inference\\sd\\RBT09_E11-T01.tiff: 0.1234\n",
      "G:\\softmax\\inference\\sd\\RBT09_D07-T01.tiff: 0.1271\n",
      "G:\\softmax\\inference\\sd\\RBT09_F09-T01.tiff: 0.1337\n",
      "G:\\softmax\\inference\\sd\\RBT04_C10-T01.tiff: 0.1345\n",
      "G:\\softmax\\inference\\ex\\ds41_g3_C04-T01.tiff: 0.1353\n",
      "G:\\softmax\\inference\\sd\\RBT09_E07-T01.tiff: 0.1487\n",
      "G:\\softmax\\inference\\sd\\RBT14_C09-T01.tiff: 0.1602\n",
      "G:\\softmax\\inference\\ex\\ds41_g9_C10-T01.tiff: 0.1614\n",
      "G:\\softmax\\inference\\sd\\RBT09_G09-T01.tiff: 0.1621\n",
      "G:\\softmax\\inference\\sd\\RBT09_E10-T01.tiff: 0.1799\n",
      "G:\\softmax\\inference\\ex\\ds62_g9_C09-T01.tiff: 0.1850\n",
      "G:\\softmax\\inference\\ex\\ds41_g3_C03-T01.tiff: 0.2252\n",
      "G:\\softmax\\inference\\sd\\RBT04_B11-T01.tiff: 0.2345\n",
      "G:\\softmax\\inference\\sd\\RBT10_D09-T01.tiff: 0.3001\n",
      "G:\\softmax\\inference\\sd\\RBT09_F07-T01.tiff: 0.3087\n",
      "G:\\softmax\\inference\\ex\\ds41_g3_C05-T01.tiff: 0.3164\n",
      "G:\\softmax\\inference\\sd\\RBT09_F11-T01.tiff: 0.3497\n",
      "G:\\softmax\\inference\\ex\\ds41_g3_C02-T01.tiff: 0.3820\n",
      "G:\\softmax\\inference\\ex\\ds62_g9_C10-T01.tiff: 0.3865\n",
      "G:\\softmax\\inference\\sd\\RBT09_F10-T01.tiff: 0.4177\n",
      "G:\\softmax\\inference\\ex\\ds62_g9_C07-T01.tiff: 0.4573\n",
      "G:\\softmax\\inference\\sd\\RBT09_G08-T01.tiff: 0.4719\n",
      "G:\\softmax\\inference\\cond7_all\\ds_41_C09-T01.tiff: 0.5246\n",
      "G:\\softmax\\inference\\cond7_all\\ds_41_C10-T01.tiff: 0.5425\n",
      "G:\\softmax\\inference\\cond7_all\\ds_61_E09-T01.tiff: 0.5455\n",
      "G:\\softmax\\inference\\cond7_all\\ds_41_B09-T01.tiff: 0.5579\n",
      "G:\\softmax\\inference\\cond7_all\\ds_41_E09-T01.tiff: 0.5711\n",
      "G:\\softmax\\inference\\cond7_all\\ds_41_C11-T01.tiff: 0.5722\n",
      "G:\\softmax\\inference\\cond7_all\\ds_61_G10-T01.tiff: 0.5776\n",
      "G:\\softmax\\inference\\cond7_all\\ds_1B_F09-T01.tiff: 0.5843\n",
      "G:\\softmax\\inference\\cond7_all\\ds_61_C10-T01.tiff: 0.5907\n",
      "G:\\softmax\\inference\\cond7_all\\ds_41_D10-T01.tiff: 0.6026\n",
      "G:\\softmax\\inference\\ex\\ds41_g3_C06-T01.tiff: 0.6072\n",
      "G:\\softmax\\inference\\cond7_all\\ds_1B_D11-T01.tiff: 0.6100\n",
      "G:\\softmax\\inference\\cond7_all\\ds_41_E08-T01.tiff: 0.6224\n",
      "G:\\softmax\\inference\\cond7_all\\ds_61_G07-T01.tiff: 0.6288\n",
      "G:\\softmax\\inference\\cond7_all\\ds_41_G10-T01.tiff: 0.6400\n",
      "G:\\softmax\\inference\\cond7_all\\ds_42_G11-T01.tiff: 0.6404\n",
      "G:\\softmax\\inference\\cond7_all\\ds_41_E10-T01.tiff: 0.6520\n",
      "G:\\softmax\\inference\\cond7_all\\ds_1B_D10-T01.tiff: 0.6595\n",
      "G:\\softmax\\inference\\cond7_all\\ds_61_D11-T01.tiff: 0.6617\n",
      "G:\\softmax\\inference\\cond7_all\\ds_41_B08-T01.tiff: 0.6714\n",
      "G:\\softmax\\inference\\cond7_all\\ds_41_E07-T01.tiff: 0.6732\n",
      "G:\\softmax\\inference\\ex\\ds62_g9_C11-T01.tiff: 0.6887\n",
      "G:\\softmax\\inference\\cond7_all\\ds_61_C11-T01.tiff: 0.6924\n",
      "G:\\softmax\\inference\\cond7_all\\ds_1B_B06-T01.tiff: 0.7015\n",
      "G:\\softmax\\inference\\cond7_all\\ds_1B_G09-T01.tiff: 0.7031\n",
      "G:\\softmax\\inference\\cond7_all\\ds_41_F09-T01.tiff: 0.7033\n",
      "G:\\softmax\\inference\\cond7_all\\ds_1B_B10-T01.tiff: 0.7056\n",
      "G:\\softmax\\inference\\cond7_all\\ds_61_E07-T01.tiff: 0.7112\n",
      "G:\\softmax\\inference\\cond7_all\\ds_1B_F08-T01.tiff: 0.7117\n",
      "G:\\softmax\\inference\\ex\\ds62_g8_B07-T01.tiff: 0.7344\n",
      "G:\\softmax\\inference\\cond7_all\\ds_41_B11-T01.tiff: 0.7377\n",
      "G:\\softmax\\inference\\cond7_all\\ds_42_F10-T01.tiff: 0.7420\n",
      "G:\\softmax\\inference\\cond7_all\\ds_61_B09-T01.tiff: 0.7426\n",
      "G:\\softmax\\inference\\cond7_all\\ds_1B_G08-T01.tiff: 0.7453\n",
      "G:\\softmax\\inference\\cond7_all\\ds_1B_C10-T01.tiff: 0.7463\n",
      "G:\\softmax\\inference\\cond7_all\\ds_1B_F10-T01.tiff: 0.7533\n",
      "G:\\softmax\\inference\\cond7_all\\ds_42_E11-T01.tiff: 0.7540\n",
      "G:\\softmax\\inference\\cond7_all\\sd_04_D08-T01.tiff: 0.7648\n",
      "G:\\softmax\\inference\\cond7_all\\ds_1B_G06-T01.tiff: 0.7736\n",
      "G:\\softmax\\inference\\cond7_all\\ds_41_B10-T01.tiff: 0.7875\n",
      "G:\\softmax\\inference\\cond7_all\\ds_41_G07-T01.tiff: 0.7887\n",
      "G:\\softmax\\inference\\cond7_all\\ds_42_E07-T01.tiff: 0.7894\n",
      "G:\\softmax\\inference\\cond7_all\\ds_41_F08-T01.tiff: 0.7956\n",
      "G:\\softmax\\inference\\cond7_all\\ds_42_G07-T01.tiff: 0.7975\n",
      "G:\\softmax\\inference\\cond7_all\\ds_1B_F02-T01.tiff: 0.7981\n",
      "G:\\softmax\\inference\\cond7_all\\ds_42_G09-T01.tiff: 0.7987\n",
      "G:\\softmax\\inference\\cond7_all\\ds_61_E11-T01.tiff: 0.8208\n",
      "G:\\softmax\\inference\\cond7_all\\ds_1B_C08-T01.tiff: 0.8273\n",
      "G:\\softmax\\inference\\cond7_all\\ds_41_D09-T01.tiff: 0.8279\n",
      "G:\\softmax\\inference\\cond7_all\\sd_04_E09-T01.tiff: 0.8291\n",
      "G:\\softmax\\inference\\cond7_all\\ds_1B_E10-T01.tiff: 0.8302\n",
      "G:\\softmax\\inference\\cond7_all\\ds_61_E08-T01.tiff: 0.8326\n",
      "G:\\softmax\\inference\\cond7_all\\ds_42_G10-T01.tiff: 0.8347\n",
      "G:\\softmax\\inference\\cond7_all\\ds_1B_B08-T01.tiff: 0.8366\n",
      "G:\\softmax\\inference\\cond7_all\\ds_1B_D09-T01.tiff: 0.8373\n",
      "G:\\softmax\\inference\\cond7_all\\ds_62_B11-T01.tiff: 0.8384\n",
      "G:\\softmax\\inference\\cond7_all\\sd_04_E08-T01.tiff: 0.8477\n",
      "G:\\softmax\\inference\\cond7_all\\ds_42_D10-T01.tiff: 0.8485\n",
      "G:\\softmax\\inference\\cond7_all\\ds_1B_G05-T01.tiff: 0.8501\n",
      "G:\\softmax\\inference\\cond7_all\\ds_1B_E11-T01.tiff: 0.8544\n",
      "G:\\softmax\\inference\\cond7_all\\ds_41_C07-T01.tiff: 0.8548\n",
      "G:\\softmax\\inference\\cond7_all\\ds_41_F10-T01.tiff: 0.8599\n",
      "G:\\softmax\\inference\\cond7_all\\ds_41_E11-T01.tiff: 0.8634\n",
      "G:\\softmax\\inference\\cond7_all\\ds_42_G06-T01.tiff: 0.8636\n",
      "G:\\softmax\\inference\\cond7_all\\ds_62_E09-T01.tiff: 0.8650\n",
      "G:\\softmax\\inference\\cond7_all\\ds_61_B10-T01.tiff: 0.8667\n",
      "G:\\softmax\\inference\\cond7_all\\ds_1B_F11-T01.tiff: 0.8696\n",
      "G:\\softmax\\inference\\cond7_all\\ds_41_D08-T01.tiff: 0.8707\n",
      "G:\\softmax\\inference\\cond7_all\\ds_1B_C06-T01.tiff: 0.8720\n",
      "G:\\softmax\\inference\\cond7_all\\ds_1B_B07-T01.tiff: 0.8722\n",
      "G:\\softmax\\inference\\cond7_all\\ds_1B_C02-T01.tiff: 0.8748\n",
      "G:\\softmax\\inference\\cond7_all\\ds_1B_E09-T01.tiff: 0.8805\n",
      "G:\\softmax\\inference\\cond7_all\\ds_42_F08-T01.tiff: 0.8822\n",
      "G:\\softmax\\inference\\cond7_all\\ds_1B_C09-T01.tiff: 0.8840\n",
      "G:\\softmax\\inference\\cond7_all\\ds_42_B03-T01.tiff: 0.8850\n",
      "G:\\softmax\\inference\\cond7_all\\ds_61_B05-T01.tiff: 0.8936\n",
      "G:\\softmax\\inference\\cond7_all\\ds_1B_C07-T01.tiff: 0.8940\n",
      "G:\\softmax\\inference\\cond7_all\\ds_42_E08-T01.tiff: 0.8947\n",
      "G:\\softmax\\inference\\cond7_all\\ds_61_B02-T01.tiff: 0.8950\n",
      "G:\\softmax\\inference\\ex\\ds61_g6_F05-T01.tiff: 0.8987\n",
      "G:\\softmax\\inference\\cond7_all\\ds_1B_B04-T01.tiff: 0.9018\n",
      "G:\\softmax\\inference\\cond7_all\\ds_61_D09-T01.tiff: 0.9026\n",
      "G:\\softmax\\inference\\cond7_all\\ds_42_F09-T01.tiff: 0.9050\n",
      "G:\\softmax\\inference\\cond7_all\\ds_1B_D05-T01.tiff: 0.9060\n",
      "G:\\softmax\\inference\\cond7_all\\ds_1B_G11-T01.tiff: 0.9079\n",
      "G:\\softmax\\inference\\cond7_all\\ds_1B_G10-T01.tiff: 0.9096\n",
      "G:\\softmax\\inference\\cond7_all\\ds_62_B10-T01.tiff: 0.9114\n",
      "G:\\softmax\\inference\\cond7_all\\sd_04_G08-T01.tiff: 0.9117\n",
      "G:\\softmax\\inference\\cond7_all\\ds_1B_B11-T01.tiff: 0.9119\n",
      "G:\\softmax\\inference\\cond7_all\\ds_42_E10-T01.tiff: 0.9128\n",
      "G:\\softmax\\inference\\cond7_all\\ds_1B_G04-T01.tiff: 0.9161\n",
      "G:\\softmax\\inference\\cond7_all\\ds_41_D11-T01.tiff: 0.9164\n",
      "G:\\softmax\\inference\\cond7_all\\ds_41_G09-T01.tiff: 0.9175\n",
      "G:\\softmax\\inference\\cond7_all\\ds_61_E10-T01.tiff: 0.9206\n",
      "G:\\softmax\\inference\\cond7_all\\ds_61_C09-T01.tiff: 0.9214\n",
      "G:\\softmax\\inference\\cond7_all\\ds_52_E07-T01.tiff: 0.9218\n",
      "G:\\softmax\\inference\\cond7_all\\sd_04_G04-T01.tiff: 0.9226\n",
      "G:\\softmax\\inference\\cond7_all\\ds_41_D07-T01.tiff: 0.9237\n",
      "G:\\softmax\\inference\\cond7_all\\ds_42_F11-T01.tiff: 0.9242\n",
      "G:\\softmax\\inference\\cond7_all\\ds_41_G08-T01.tiff: 0.9261\n",
      "G:\\softmax\\inference\\cond7_all\\ds_1B_E03-T01.tiff: 0.9271\n",
      "G:\\softmax\\inference\\cond7_all\\ds_42_G08-T01.tiff: 0.9274\n",
      "G:\\softmax\\inference\\cond7_all\\ds_1B_F06-T01.tiff: 0.9289\n",
      "G:\\softmax\\inference\\cond7_all\\ds_1B_B09-T01.tiff: 0.9297\n",
      "G:\\softmax\\inference\\cond7_all\\ds_1B_D07-T01.tiff: 0.9301\n",
      "G:\\softmax\\inference\\cond7_all\\ds_62_G07-T01.tiff: 0.9302\n",
      "G:\\softmax\\inference\\cond7_all\\ds_1B_F07-T01.tiff: 0.9304\n",
      "G:\\softmax\\inference\\cond7_all\\ds_1B_C05-T01.tiff: 0.9320\n",
      "G:\\softmax\\inference\\cond7_all\\ds_1B_D03-T01.tiff: 0.9336\n",
      "G:\\softmax\\inference\\cond7_all\\ds_1B_G02-T01.tiff: 0.9349\n",
      "G:\\softmax\\inference\\cond7_all\\ds_1B_F03-T01.tiff: 0.9350\n",
      "G:\\softmax\\inference\\cond7_all\\ds_42_D09-T01.tiff: 0.9372\n",
      "G:\\softmax\\inference\\cond7_all\\ds_61_C07-T01.tiff: 0.9388\n",
      "G:\\softmax\\inference\\cond7_all\\sd_04_G09-T01.tiff: 0.9391\n",
      "G:\\softmax\\inference\\cond7_all\\sd_04_E07-T01.tiff: 0.9402\n",
      "G:\\softmax\\inference\\cond7_all\\ds_61_B11-T01.tiff: 0.9408\n",
      "G:\\softmax\\inference\\cond7_all\\ds_42_E09-T01.tiff: 0.9413\n",
      "G:\\softmax\\inference\\cond7_all\\ds_61_F10-T01.tiff: 0.9421\n",
      "G:\\softmax\\inference\\cond7_all\\ds_42_E04-T01.tiff: 0.9452\n",
      "G:\\softmax\\inference\\cond7_all\\ds_41_F07-T01.tiff: 0.9456\n",
      "G:\\softmax\\inference\\cond7_all\\ds_1B_E04-T01.tiff: 0.9475\n",
      "G:\\softmax\\inference\\cond7_all\\ds_61_C08-T01.tiff: 0.9477\n",
      "G:\\softmax\\inference\\ex\\ds1B_g9_C8.tif: 0.9478\n",
      "G:\\softmax\\inference\\ex\\ds61_g8_B08-T01.tiff: 0.9490\n",
      "G:\\softmax\\inference\\cond7_all\\ds_62_E07-T01.tiff: 0.9518\n",
      "G:\\softmax\\inference\\cond7_all\\ds_61_F07-T01.tiff: 0.9530\n",
      "G:\\softmax\\inference\\cond7_all\\ds_41_B07-T01.tiff: 0.9531\n",
      "G:\\softmax\\inference\\cond7_all\\ds_61_B07-T01.tiff: 0.9539\n",
      "G:\\softmax\\inference\\cond7_all\\ds_61_C06-T01.tiff: 0.9550\n",
      "G:\\softmax\\inference\\cond7_all\\ds_1B_D06-T01.tiff: 0.9551\n",
      "G:\\softmax\\inference\\cond7_all\\ds_62_D10-T01.tiff: 0.9551\n",
      "G:\\softmax\\inference\\cond7_all\\ds_62_F10-T01.tiff: 0.9566\n",
      "G:\\softmax\\inference\\cond7_all\\ds_61_F06-T01.tiff: 0.9568\n",
      "G:\\softmax\\inference\\cond7_all\\ds_41_F06-T01.tiff: 0.9571\n",
      "G:\\softmax\\inference\\cond7_all\\ds_41_E06-T01.tiff: 0.9575\n",
      "G:\\softmax\\inference\\cond7_all\\ds_1B_D08-T01.tiff: 0.9575\n",
      "G:\\softmax\\inference\\cond7_all\\ds_1B_E08-T01.tiff: 0.9578\n",
      "G:\\softmax\\inference\\cond7_all\\sd_04_F08-T01.tiff: 0.9587\n",
      "G:\\softmax\\inference\\cond7_all\\sd_04_C08-T01.tiff: 0.9597\n",
      "G:\\softmax\\inference\\cond7_all\\ds_62_B09-T01.tiff: 0.9601\n",
      "G:\\softmax\\inference\\cond7_all\\ds_1B_B02-T01.tiff: 0.9608\n",
      "G:\\softmax\\inference\\cond7_all\\ds_42_C09-T01.tiff: 0.9618\n",
      "G:\\softmax\\inference\\cond7_all\\ds_51_G07-T01.tiff: 0.9621\n",
      "G:\\softmax\\inference\\cond7_all\\ds_62_C10-T01.tiff: 0.9626\n",
      "G:\\softmax\\inference\\cond7_all\\sd_04_D11-T01.tiff: 0.9627\n",
      "G:\\softmax\\inference\\cond7_all\\ds_61_F08-T01.tiff: 0.9631\n",
      "G:\\softmax\\inference\\cond7_all\\ds_1B_C11-T01.tiff: 0.9636\n",
      "G:\\softmax\\inference\\cond7_all\\ds_1B_G07-T01.tiff: 0.9640\n",
      "G:\\softmax\\inference\\cond7_all\\sd_04_G02-T01.tiff: 0.9640\n",
      "G:\\softmax\\inference\\cond7_all\\ds_61_F09-T01.tiff: 0.9648\n",
      "G:\\softmax\\inference\\ex\\ds61_g6_F06-T01.tiff: 0.9649\n",
      "G:\\softmax\\inference\\cond7_all\\ds_61_D10-T01.tiff: 0.9653\n",
      "G:\\softmax\\inference\\cond7_all\\ds_42_F07-T01.tiff: 0.9655\n",
      "G:\\softmax\\inference\\cond7_all\\ds_1B_G03-T01.tiff: 0.9659\n",
      "G:\\softmax\\inference\\cond7_all\\sd_04_B07-T01.tiff: 0.9660\n",
      "G:\\softmax\\inference\\cond7_all\\sd_04_F09-T01.tiff: 0.9662\n",
      "G:\\softmax\\inference\\cond7_all\\ds_1B_C04-T01.tiff: 0.9666\n",
      "G:\\softmax\\inference\\cond7_all\\ds_42_F04-T01.tiff: 0.9677\n",
      "G:\\softmax\\inference\\cond7_all\\sd_04_G05-T01.tiff: 0.9678\n",
      "G:\\softmax\\inference\\cond7_all\\ds_62_E08-T01.tiff: 0.9678\n",
      "G:\\softmax\\inference\\ex\\ds62_g8_B10-T01.tiff: 0.9683\n",
      "G:\\softmax\\inference\\cond7_all\\sd_04_E10-T01.tiff: 0.9688\n",
      "G:\\softmax\\inference\\cond7_all\\sd_04_G07-T01.tiff: 0.9689\n",
      "G:\\softmax\\inference\\cond7_all\\ds_62_C09-T01.tiff: 0.9693\n",
      "G:\\softmax\\inference\\cond7_all\\ds_1B_B05-T01.tiff: 0.9694\n",
      "G:\\softmax\\inference\\cond7_all\\sd_04_B10-T01.tiff: 0.9707\n",
      "G:\\softmax\\inference\\cond7_all\\ds_61_D08-T01.tiff: 0.9712\n",
      "G:\\softmax\\inference\\cond7_all\\ds_1B_B03-T01.tiff: 0.9714\n",
      "G:\\softmax\\inference\\cond7_all\\ds_42_G05-T01.tiff: 0.9719\n",
      "G:\\softmax\\inference\\cond7_all\\ds_42_C08-T01.tiff: 0.9721\n",
      "G:\\softmax\\inference\\cond7_all\\ds_62_C11-T01.tiff: 0.9731\n",
      "G:\\softmax\\inference\\cond7_all\\ds_1B_D04-T01.tiff: 0.9736\n",
      "G:\\softmax\\inference\\cond7_all\\ds_1B_E06-T01.tiff: 0.9738\n",
      "G:\\softmax\\inference\\cond7_all\\ds_62_E11-T01.tiff: 0.9746\n",
      "G:\\softmax\\inference\\cond7_all\\ds_42_B11-T01.tiff: 0.9748\n",
      "G:\\softmax\\inference\\cond7_all\\ds_61_C05-T01.tiff: 0.9750\n",
      "G:\\softmax\\inference\\cond7_all\\ds_52_G07-T01.tiff: 0.9753\n",
      "G:\\softmax\\inference\\cond7_all\\sd_04_C09-T01.tiff: 0.9755\n",
      "G:\\softmax\\inference\\cond7_all\\sd_04_F10-T01.tiff: 0.9759\n",
      "G:\\softmax\\inference\\ex\\ds61_g9_C07-T01.tiff: 0.9770\n",
      "G:\\softmax\\inference\\cond7_all\\ds_41_B05-T01.tiff: 0.9775\n",
      "G:\\softmax\\inference\\cond7_all\\ds_41_F11-T01.tiff: 0.9781\n",
      "G:\\softmax\\inference\\cond7_all\\sd_04_G06-T01.tiff: 0.9782\n",
      "G:\\softmax\\inference\\cond7_all\\ds_1B_F05-T01.tiff: 0.9783\n",
      "G:\\softmax\\inference\\cond7_all\\ds_61_E06-T01.tiff: 0.9784\n",
      "G:\\softmax\\inference\\cond7_all\\ds_41_B04-T01.tiff: 0.9786\n",
      "G:\\softmax\\inference\\cond7_all\\ds_42_D11-T01.tiff: 0.9791\n",
      "G:\\softmax\\inference\\cond7_all\\ds_62_F09-T01.tiff: 0.9797\n",
      "G:\\softmax\\inference\\cond7_all\\ds_41_D05-T01.tiff: 0.9799\n",
      "G:\\softmax\\inference\\cond7_all\\sd_04_F07-T01.tiff: 0.9802\n",
      "G:\\softmax\\inference\\cond7_all\\ds_41_C06-T01.tiff: 0.9809\n",
      "G:\\softmax\\inference\\cond7_all\\ds_1B_E07-T01.tiff: 0.9810\n",
      "G:\\softmax\\inference\\cond7_all\\ds_42_E06-T01.tiff: 0.9813\n",
      "G:\\softmax\\inference\\ex\\ds61_g9_C10-T01.tiff: 0.9813\n",
      "G:\\softmax\\inference\\cond7_all\\ds_62_D09-T01.tiff: 0.9815\n",
      "G:\\softmax\\inference\\ex\\ds62_g9_C08-T01.tiff: 0.9819\n",
      "G:\\softmax\\inference\\cond7_all\\ds_1B_C03-T01.tiff: 0.9823\n",
      "G:\\softmax\\inference\\cond7_all\\ds_41_C08-T01.tiff: 0.9825\n",
      "G:\\softmax\\inference\\cond7_all\\ds_61_C02-T01.tiff: 0.9826\n",
      "G:\\softmax\\inference\\cond7_all\\sd_04_G11-T01.tiff: 0.9827\n",
      "G:\\softmax\\inference\\cond7_all\\sd_04_D07-T01.tiff: 0.9829\n",
      "G:\\softmax\\inference\\cond7_all\\ds_62_G10-T01.tiff: 0.9830\n",
      "G:\\softmax\\inference\\cond7_all\\ds_61_E03-T01.tiff: 0.9831\n",
      "G:\\softmax\\inference\\cond7_all\\ds_61_C04-T01.tiff: 0.9833\n",
      "G:\\softmax\\inference\\cond7_all\\ds_62_D11-T01.tiff: 0.9833\n",
      "G:\\softmax\\inference\\cond7_all\\ds_42_C05-T01.tiff: 0.9833\n",
      "G:\\softmax\\inference\\cond7_all\\ds_61_B06-T01.tiff: 0.9837\n",
      "G:\\softmax\\inference\\cond7_all\\ds_62_G11-T01.tiff: 0.9842\n",
      "G:\\softmax\\inference\\cond7_all\\ds_42_C11-T01.tiff: 0.9842\n",
      "G:\\softmax\\inference\\cond7_all\\ds_1B_D02-T01.tiff: 0.9846\n",
      "G:\\softmax\\inference\\cond7_all\\ds_42_C10-T01.tiff: 0.9848\n",
      "G:\\softmax\\inference\\cond7_all\\ds_61_D05-T01.tiff: 0.9853\n",
      "G:\\softmax\\inference\\cond7_all\\ds_62_F11-T01.tiff: 0.9854\n",
      "G:\\softmax\\inference\\cond7_all\\ds_62_B08-T01.tiff: 0.9857\n",
      "G:\\softmax\\inference\\cond7_all\\ds_61_D07-T01.tiff: 0.9863\n",
      "G:\\softmax\\inference\\cond7_all\\ds_41_B06-T01.tiff: 0.9868\n",
      "G:\\softmax\\inference\\cond7_all\\ds_61_G06-T01.tiff: 0.9871\n",
      "G:\\softmax\\inference\\cond7_all\\ds_41_C04-T01.tiff: 0.9871\n",
      "G:\\softmax\\inference\\cond7_all\\ds_51_E07-T01.tiff: 0.9872\n",
      "G:\\softmax\\inference\\cond7_all\\ds_41_C05-T01.tiff: 0.9874\n",
      "G:\\softmax\\inference\\cond7_all\\ds_42_D07-T01.tiff: 0.9879\n",
      "G:\\softmax\\inference\\ex\\ds61_g8_B09-T01.tiff: 0.9880\n",
      "G:\\softmax\\inference\\cond7_all\\ds_41_B03-T01.tiff: 0.9880\n",
      "G:\\softmax\\inference\\cond7_all\\ds_41_G06-T01.tiff: 0.9889\n",
      "G:\\softmax\\inference\\ex\\ds61_g9_C09-T01.tiff: 0.9892\n",
      "G:\\softmax\\inference\\cond7_all\\sd_04_C07-T01.tiff: 0.9894\n",
      "G:\\softmax\\inference\\cond7_all\\ds_42_B08-T01.tiff: 0.9894\n",
      "G:\\softmax\\inference\\cond7_all\\ds_1B_E02-T01.tiff: 0.9894\n",
      "G:\\softmax\\inference\\cond7_all\\ds_42_B09-T01.tiff: 0.9894\n",
      "G:\\softmax\\inference\\cond7_all\\ds_41_G05-T01.tiff: 0.9895\n",
      "G:\\softmax\\inference\\cond7_all\\ds_62_E10-T01.tiff: 0.9900\n",
      "G:\\softmax\\inference\\cond7_all\\ds_61_F05-T01.tiff: 0.9901\n",
      "G:\\softmax\\inference\\cond7_all\\ds_42_B05-T01.tiff: 0.9902\n",
      "G:\\softmax\\inference\\cond7_all\\ds_62_B05-T01.tiff: 0.9902\n",
      "G:\\softmax\\inference\\ex\\ds61_g6_F02-T01.tiff: 0.9903\n",
      "G:\\softmax\\inference\\cond7_all\\sd_04_C04-T01.tiff: 0.9904\n",
      "G:\\softmax\\inference\\cond7_all\\ds_62_C08-T01.tiff: 0.9905\n",
      "G:\\softmax\\inference\\cond7_all\\ds_42_F06-T01.tiff: 0.9905\n",
      "G:\\softmax\\inference\\cond7_all\\sd_04_D09-T01.tiff: 0.9906\n",
      "G:\\softmax\\inference\\cond7_all\\ds_41_C03-T01.tiff: 0.9907\n",
      "G:\\softmax\\inference\\cond7_all\\ds_41_F05-T01.tiff: 0.9910\n",
      "G:\\softmax\\inference\\cond7_all\\ds_41_E03-T01.tiff: 0.9910\n",
      "G:\\softmax\\inference\\cond7_all\\ds_61_B03-T01.tiff: 0.9910\n",
      "G:\\softmax\\inference\\cond7_all\\ds_52_C03-T01.tiff: 0.9913\n",
      "G:\\softmax\\inference\\cond7_all\\ds_42_G04-T01.tiff: 0.9914\n",
      "G:\\softmax\\inference\\cond7_all\\ds_42_F05-T01.tiff: 0.9916\n",
      "G:\\softmax\\inference\\cond7_all\\ds_51_G10-T01.tiff: 0.9917\n",
      "G:\\softmax\\inference\\cond7_all\\ds_62_D07-T01.tiff: 0.9917\n",
      "G:\\softmax\\inference\\cond7_all\\ds_61_G09-T01.tiff: 0.9918\n",
      "G:\\softmax\\inference\\cond7_all\\ds_42_C04-T01.tiff: 0.9919\n",
      "G:\\softmax\\inference\\cond7_all\\ds_52_D09-T01.tiff: 0.9919\n",
      "G:\\softmax\\inference\\cond7_all\\ds_42_C07-T01.tiff: 0.9920\n",
      "G:\\softmax\\inference\\cond7_all\\ds_52_E08-T01.tiff: 0.9921\n",
      "G:\\softmax\\inference\\cond7_all\\ds_62_F08-T01.tiff: 0.9921\n",
      "G:\\softmax\\inference\\cond7_all\\ds_42_B10-T01.tiff: 0.9924\n",
      "G:\\softmax\\inference\\cond7_all\\sd_04_F05-T01.tiff: 0.9925\n",
      "G:\\softmax\\inference\\cond7_all\\ds_61_F11-T01.tiff: 0.9925\n",
      "G:\\softmax\\inference\\cond7_all\\ds_62_C07-T01.tiff: 0.9925\n",
      "G:\\softmax\\inference\\ex\\ds61_g8_B10-T01.tiff: 0.9928\n",
      "G:\\softmax\\inference\\cond7_all\\ds_61_G04-T01.tiff: 0.9928\n",
      "G:\\softmax\\inference\\ex\\ds1B_g9_C7.tif: 0.9932\n",
      "G:\\softmax\\inference\\cond7_all\\ds_51_B03-T01.tiff: 0.9933\n",
      "G:\\softmax\\inference\\cond7_all\\ds_41_D03-T01.tiff: 0.9934\n",
      "G:\\softmax\\inference\\cond7_all\\ds_51_G11-T01.tiff: 0.9935\n",
      "G:\\softmax\\inference\\cond7_all\\sd_04_E03-T01.tiff: 0.9941\n",
      "G:\\softmax\\inference\\cond7_all\\ds_1B_E05-T01.tiff: 0.9941\n",
      "G:\\softmax\\inference\\cond7_all\\ds_61_D02-T01.tiff: 0.9942\n",
      "G:\\softmax\\inference\\cond7_all\\ds_51_C10-T01.tiff: 0.9946\n",
      "G:\\softmax\\inference\\cond7_all\\ds_61_D03-T01.tiff: 0.9946\n",
      "G:\\softmax\\inference\\cond7_all\\sd_04_B08-T01.tiff: 0.9946\n",
      "G:\\softmax\\inference\\cond7_all\\ds_42_D08-T01.tiff: 0.9947\n",
      "G:\\softmax\\inference\\cond7_all\\sd_04_F11-T01.tiff: 0.9947\n",
      "G:\\softmax\\inference\\cond7_all\\ds_62_F07-T01.tiff: 0.9950\n",
      "G:\\softmax\\inference\\cond7_all\\ds_52_G05-T01.tiff: 0.9950\n",
      "G:\\softmax\\inference\\cond7_all\\ds_62_B04-T01.tiff: 0.9951\n",
      "G:\\softmax\\inference\\cond7_all\\sd_04_B09-T01.tiff: 0.9955\n",
      "G:\\softmax\\inference\\cond7_all\\ds_52_F05-T01.tiff: 0.9955\n",
      "G:\\softmax\\inference\\ex\\ds61_g6_F03-T01.tiff: 0.9956\n",
      "G:\\softmax\\inference\\cond7_all\\ds_1B_F04-T01.tiff: 0.9957\n",
      "G:\\softmax\\inference\\cond7_all\\ds_51_D11-T01.tiff: 0.9957\n",
      "G:\\softmax\\inference\\cond7_all\\ds_52_F07-T01.tiff: 0.9957\n",
      "G:\\softmax\\inference\\cond7_all\\ds_42_B07-T01.tiff: 0.9958\n",
      "G:\\softmax\\inference\\cond7_all\\ds_61_G05-T01.tiff: 0.9958\n",
      "G:\\softmax\\inference\\cond7_all\\ds_51_B11-T01.tiff: 0.9958\n",
      "G:\\softmax\\inference\\cond7_all\\ds_42_C03-T01.tiff: 0.9959\n",
      "G:\\softmax\\inference\\cond7_all\\ds_51_C09-T01.tiff: 0.9959\n",
      "G:\\softmax\\inference\\cond7_all\\ds_51_E10-T01.tiff: 0.9959\n",
      "G:\\softmax\\inference\\cond7_all\\ds_62_C03-T01.tiff: 0.9960\n",
      "G:\\softmax\\inference\\cond7_all\\ds_42_D06-T01.tiff: 0.9960\n",
      "G:\\softmax\\inference\\cond7_all\\ds_41_E04-T01.tiff: 0.9961\n",
      "G:\\softmax\\inference\\cond7_all\\sd_04_B11-T01.tiff: 0.9961\n",
      "G:\\softmax\\inference\\cond7_all\\ds_41_E05-T01.tiff: 0.9961\n",
      "G:\\softmax\\inference\\cond7_all\\ds_51_E09-T01.tiff: 0.9961\n",
      "G:\\softmax\\inference\\cond7_all\\sd_04_C06-T01.tiff: 0.9961\n",
      "G:\\softmax\\inference\\cond7_all\\ds_41_C02-T01.tiff: 0.9963\n",
      "G:\\softmax\\inference\\cond7_all\\sd_04_F02-T01.tiff: 0.9963\n",
      "G:\\softmax\\inference\\cond7_all\\ds_41_G11-T01.tiff: 0.9964\n",
      "G:\\softmax\\inference\\cond7_all\\ds_41_F04-T01.tiff: 0.9965\n",
      "G:\\softmax\\inference\\cond7_all\\ds_51_B10-T01.tiff: 0.9965\n",
      "G:\\softmax\\inference\\cond7_all\\ds_62_G08-T01.tiff: 0.9965\n",
      "G:\\softmax\\inference\\cond7_all\\ds_51_E08-T01.tiff: 0.9966\n",
      "G:\\softmax\\inference\\cond7_all\\ds_42_F03-T01.tiff: 0.9966\n",
      "G:\\softmax\\inference\\cond7_all\\ds_51_C11-T01.tiff: 0.9967\n",
      "G:\\softmax\\inference\\cond7_all\\ds_61_E05-T01.tiff: 0.9967\n",
      "G:\\softmax\\inference\\cond7_all\\sd_04_E11-T01.tiff: 0.9967\n",
      "G:\\softmax\\inference\\cond7_all\\ds_41_D02-T01.tiff: 0.9967\n",
      "G:\\softmax\\inference\\cond7_all\\ds_42_C06-T01.tiff: 0.9968\n",
      "G:\\softmax\\inference\\cond7_all\\ds_62_D08-T01.tiff: 0.9971\n",
      "G:\\softmax\\inference\\cond7_all\\ds_61_C03-T01.tiff: 0.9971\n",
      "G:\\softmax\\inference\\cond7_all\\ds_52_G02-T01.tiff: 0.9971\n",
      "G:\\softmax\\inference\\cond7_all\\ds_52_C09-T01.tiff: 0.9972\n",
      "G:\\softmax\\inference\\cond7_all\\ds_61_E04-T01.tiff: 0.9972\n",
      "G:\\softmax\\inference\\cond7_all\\ds_62_C06-T01.tiff: 0.9972\n",
      "G:\\softmax\\inference\\cond7_all\\ds_42_D03-T01.tiff: 0.9972\n",
      "G:\\softmax\\inference\\cond7_all\\ds_42_E03-T01.tiff: 0.9973\n",
      "G:\\softmax\\inference\\cond7_all\\sd_04_D03-T01.tiff: 0.9973\n",
      "G:\\softmax\\inference\\cond7_all\\ds_61_G11-T01.tiff: 0.9973\n",
      "G:\\softmax\\inference\\cond7_all\\ds_41_F03-T01.tiff: 0.9973\n",
      "G:\\softmax\\inference\\cond7_all\\ds_52_D03-T01.tiff: 0.9973\n",
      "G:\\softmax\\inference\\cond7_all\\ds_61_G08-T01.tiff: 0.9973\n",
      "G:\\softmax\\inference\\cond7_all\\ds_52_F06-T01.tiff: 0.9974\n",
      "G:\\softmax\\inference\\cond7_all\\ds_42_E02-T01.tiff: 0.9974\n",
      "G:\\softmax\\inference\\cond7_all\\ds_42_D05-T01.tiff: 0.9975\n",
      "G:\\softmax\\inference\\cond7_all\\ds_61_G02-T01.tiff: 0.9976\n",
      "G:\\softmax\\inference\\cond7_all\\ds_51_G05-T01.tiff: 0.9976\n",
      "G:\\softmax\\inference\\cond7_all\\ds_42_G02-T01.tiff: 0.9977\n",
      "G:\\softmax\\inference\\cond7_all\\ds_62_C02-T01.tiff: 0.9977\n",
      "G:\\softmax\\inference\\cond7_all\\ds_52_E02-T01.tiff: 0.9977\n",
      "G:\\softmax\\inference\\cond7_all\\sd_04_F04-T01.tiff: 0.9978\n",
      "G:\\softmax\\inference\\cond7_all\\ds_41_G04-T01.tiff: 0.9978\n",
      "G:\\softmax\\inference\\cond7_all\\ds_52_F04-T01.tiff: 0.9979\n",
      "G:\\softmax\\inference\\cond7_all\\sd_04_C10-T01.tiff: 0.9979\n",
      "G:\\softmax\\inference\\cond7_all\\ds_52_E09-T01.tiff: 0.9980\n",
      "G:\\softmax\\inference\\cond7_all\\ds_52_G04-T01.tiff: 0.9980\n",
      "G:\\softmax\\inference\\cond7_all\\ds_52_B05-T01.tiff: 0.9980\n",
      "G:\\softmax\\inference\\cond7_all\\ds_51_F09-T01.tiff: 0.9980\n",
      "G:\\softmax\\inference\\ex\\ds61_g3_C06-T01.tiff: 0.9981\n",
      "G:\\softmax\\inference\\cond7_all\\ds_51_F10-T01.tiff: 0.9981\n",
      "G:\\softmax\\inference\\cond7_all\\ds_42_B04-T01.tiff: 0.9981\n",
      "G:\\softmax\\inference\\cond7_all\\ds_51_B09-T01.tiff: 0.9982\n",
      "G:\\softmax\\inference\\cond7_all\\sd_04_G03-T01.tiff: 0.9982\n",
      "G:\\softmax\\inference\\cond7_all\\ds_51_G06-T01.tiff: 0.9983\n",
      "G:\\softmax\\inference\\cond7_all\\ds_41_D06-T01.tiff: 0.9983\n",
      "G:\\softmax\\inference\\cond7_all\\ds_61_E02-T01.tiff: 0.9983\n",
      "G:\\softmax\\inference\\cond7_all\\ds_62_D05-T01.tiff: 0.9983\n",
      "G:\\softmax\\inference\\cond7_all\\ds_52_G06-T01.tiff: 0.9983\n",
      "G:\\softmax\\inference\\cond7_all\\sd_04_D06-T01.tiff: 0.9983\n",
      "G:\\softmax\\inference\\cond7_all\\sd_04_C05-T01.tiff: 0.9983\n",
      "G:\\softmax\\inference\\cond7_all\\ds_62_B07-T01.tiff: 0.9984\n",
      "G:\\softmax\\inference\\ex\\ds61_g3_C05-T01.tiff: 0.9984\n",
      "G:\\softmax\\inference\\cond7_all\\ds_52_C04-T01.tiff: 0.9984\n",
      "G:\\softmax\\inference\\cond7_all\\ds_51_B02-T01.tiff: 0.9984\n",
      "G:\\softmax\\inference\\cond7_all\\ds_52_D02-T01.tiff: 0.9984\n",
      "G:\\softmax\\inference\\cond7_all\\ds_51_C08-T01.tiff: 0.9985\n",
      "G:\\softmax\\inference\\cond7_all\\sd_04_B04-T01.tiff: 0.9985\n",
      "G:\\softmax\\inference\\cond7_all\\ds_61_F02-T01.tiff: 0.9985\n",
      "G:\\softmax\\inference\\cond7_all\\sd_04_D02-T01.tiff: 0.9985\n",
      "G:\\softmax\\inference\\cond7_all\\ds_42_D04-T01.tiff: 0.9985\n",
      "G:\\softmax\\inference\\cond7_all\\ds_52_G09-T01.tiff: 0.9985\n",
      "G:\\softmax\\inference\\cond7_all\\ds_62_C05-T01.tiff: 0.9986\n",
      "G:\\softmax\\inference\\cond7_all\\ds_51_B07-T01.tiff: 0.9986\n",
      "G:\\softmax\\inference\\cond7_all\\ds_42_F02-T01.tiff: 0.9986\n",
      "G:\\softmax\\inference\\cond7_all\\sd_04_F03-T01.tiff: 0.9986\n",
      "G:\\softmax\\inference\\cond7_all\\ds_42_B06-T01.tiff: 0.9987\n",
      "G:\\softmax\\inference\\cond7_all\\ds_41_F02-T01.tiff: 0.9988\n",
      "G:\\softmax\\inference\\cond7_all\\ds_52_E04-T01.tiff: 0.9988\n",
      "G:\\softmax\\inference\\cond7_all\\ds_62_B02-T01.tiff: 0.9988\n",
      "G:\\softmax\\inference\\cond7_all\\ds_62_B06-T01.tiff: 0.9989\n",
      "G:\\softmax\\inference\\cond7_all\\sd_04_E04-T01.tiff: 0.9989\n",
      "G:\\softmax\\inference\\cond7_all\\ds_51_C06-T01.tiff: 0.9989\n",
      "G:\\softmax\\inference\\cond7_all\\ds_52_C06-T01.tiff: 0.9989\n",
      "G:\\softmax\\inference\\cond7_all\\ds_52_D08-T01.tiff: 0.9989\n",
      "G:\\softmax\\inference\\cond7_all\\ds_52_F03-T01.tiff: 0.9989\n",
      "G:\\softmax\\inference\\cond7_all\\ds_42_E05-T01.tiff: 0.9989\n",
      "G:\\softmax\\inference\\cond7_all\\ds_51_D09-T01.tiff: 0.9989\n",
      "G:\\softmax\\inference\\cond7_all\\ds_52_G10-T01.tiff: 0.9989\n",
      "G:\\softmax\\inference\\cond7_all\\sd_04_B05-T01.tiff: 0.9989\n",
      "G:\\softmax\\inference\\cond7_all\\ds_41_E02-T01.tiff: 0.9990\n",
      "G:\\softmax\\inference\\cond7_all\\ds_52_B02-T01.tiff: 0.9990\n",
      "G:\\softmax\\inference\\cond7_all\\ds_52_B10-T01.tiff: 0.9990\n",
      "G:\\softmax\\inference\\cond7_all\\ds_51_B08-T01.tiff: 0.9991\n",
      "G:\\softmax\\inference\\cond7_all\\ds_51_C03-T01.tiff: 0.9991\n",
      "G:\\softmax\\inference\\cond7_all\\sd_04_D10-T01.tiff: 0.9991\n",
      "G:\\softmax\\inference\\cond7_all\\ds_62_G05-T01.tiff: 0.9991\n",
      "G:\\softmax\\inference\\cond7_all\\sd_04_E06-T01.tiff: 0.9991\n",
      "G:\\softmax\\inference\\cond7_all\\ds_52_C10-T01.tiff: 0.9991\n",
      "G:\\softmax\\inference\\cond7_all\\sd_04_C11-T01.tiff: 0.9991\n",
      "G:\\softmax\\inference\\cond7_all\\ds_51_C05-T01.tiff: 0.9991\n",
      "G:\\softmax\\inference\\cond7_all\\ds_42_C02-T01.tiff: 0.9991\n",
      "G:\\softmax\\inference\\cond7_all\\ds_51_G09-T01.tiff: 0.9992\n",
      "G:\\softmax\\inference\\cond7_all\\ds_42_D02-T01.tiff: 0.9992\n",
      "G:\\softmax\\inference\\cond7_all\\ds_52_G08-T01.tiff: 0.9992\n",
      "G:\\softmax\\inference\\cond7_all\\ds_52_B11-T01.tiff: 0.9992\n",
      "G:\\softmax\\inference\\cond7_all\\ds_51_G08-T01.tiff: 0.9992\n",
      "G:\\softmax\\inference\\cond7_all\\ds_52_D05-T01.tiff: 0.9992\n",
      "G:\\softmax\\inference\\ex\\ds61_g9_C11-T01.tiff: 0.9992\n",
      "G:\\softmax\\inference\\cond7_all\\ds_51_F06-T01.tiff: 0.9992\n",
      "G:\\softmax\\inference\\cond7_all\\ds_51_F05-T01.tiff: 0.9992\n",
      "G:\\softmax\\inference\\cond7_all\\ds_51_F07-T01.tiff: 0.9992\n",
      "G:\\softmax\\inference\\cond7_all\\ds_52_B08-T01.tiff: 0.9992\n",
      "G:\\softmax\\inference\\cond7_all\\ds_52_E03-T01.tiff: 0.9992\n",
      "G:\\softmax\\inference\\cond7_all\\ds_51_E06-T01.tiff: 0.9993\n",
      "G:\\softmax\\inference\\cond7_all\\ds_52_E06-T01.tiff: 0.9993\n",
      "G:\\softmax\\inference\\cond7_all\\ds_51_F11-T01.tiff: 0.9993\n",
      "G:\\softmax\\inference\\ex\\ds61_g8_B11-T01.tiff: 0.9993\n",
      "G:\\softmax\\inference\\cond7_all\\ds_62_G06-T01.tiff: 0.9993\n",
      "G:\\softmax\\inference\\cond7_all\\ds_52_F02-T01.tiff: 0.9993\n",
      "G:\\softmax\\inference\\cond7_all\\ds_51_E11-T01.tiff: 0.9993\n",
      "G:\\softmax\\inference\\cond7_all\\ds_51_E04-T01.tiff: 0.9994\n",
      "G:\\softmax\\inference\\cond7_all\\ds_61_D06-T01.tiff: 0.9994\n",
      "G:\\softmax\\inference\\cond7_all\\ds_61_F04-T01.tiff: 0.9994\n",
      "G:\\softmax\\inference\\cond7_all\\ds_51_D08-T01.tiff: 0.9994\n",
      "G:\\softmax\\inference\\cond7_all\\ds_51_D07-T01.tiff: 0.9994\n",
      "G:\\softmax\\inference\\ex\\ds61_g3_C04-T01.tiff: 0.9994\n",
      "G:\\softmax\\inference\\cond7_all\\ds_52_B04-T01.tiff: 0.9994\n",
      "G:\\softmax\\inference\\cond7_all\\ds_61_F03-T01.tiff: 0.9994\n",
      "G:\\softmax\\inference\\cond7_all\\ds_51_G04-T01.tiff: 0.9994\n",
      "G:\\softmax\\inference\\cond7_all\\ds_51_B05-T01.tiff: 0.9994\n",
      "G:\\softmax\\inference\\cond7_all\\ds_51_C04-T01.tiff: 0.9994\n",
      "G:\\softmax\\inference\\cond7_all\\ds_52_C07-T01.tiff: 0.9994\n",
      "G:\\softmax\\inference\\cond7_all\\ds_52_C08-T01.tiff: 0.9994\n",
      "G:\\softmax\\inference\\cond7_all\\ds_51_D03-T01.tiff: 0.9994\n",
      "G:\\softmax\\inference\\cond7_all\\ds_62_D02-T01.tiff: 0.9995\n",
      "G:\\softmax\\inference\\cond7_all\\ds_51_E03-T01.tiff: 0.9995\n",
      "G:\\softmax\\inference\\cond7_all\\ds_52_B09-T01.tiff: 0.9995\n",
      "G:\\softmax\\inference\\cond7_all\\ds_51_D10-T01.tiff: 0.9995\n",
      "G:\\softmax\\inference\\cond7_all\\ds_51_C07-T01.tiff: 0.9995\n",
      "G:\\softmax\\inference\\cond7_all\\ds_51_C02-T01.tiff: 0.9995\n",
      "G:\\softmax\\inference\\cond7_all\\ds_61_G03-T01.tiff: 0.9996\n",
      "G:\\softmax\\inference\\cond7_all\\ds_62_D03-T01.tiff: 0.9996\n",
      "G:\\softmax\\inference\\cond7_all\\ds_51_G03-T01.tiff: 0.9996\n",
      "G:\\softmax\\inference\\cond7_all\\ds_62_B03-T01.tiff: 0.9996\n",
      "G:\\softmax\\inference\\cond7_all\\ds_52_G03-T01.tiff: 0.9996\n",
      "G:\\softmax\\inference\\cond7_all\\ds_52_C02-T01.tiff: 0.9996\n",
      "G:\\softmax\\inference\\cond7_all\\ds_52_B07-T01.tiff: 0.9996\n",
      "G:\\softmax\\inference\\cond7_all\\ds_41_D04-T01.tiff: 0.9996\n",
      "G:\\softmax\\inference\\cond7_all\\ds_42_B02-T01.tiff: 0.9996\n",
      "G:\\softmax\\inference\\cond7_all\\ds_52_F08-T01.tiff: 0.9996\n",
      "G:\\softmax\\inference\\cond7_all\\sd_04_D04-T01.tiff: 0.9996\n",
      "G:\\softmax\\inference\\cond7_all\\ds_52_C05-T01.tiff: 0.9996\n",
      "G:\\softmax\\inference\\cond7_all\\ds_51_F04-T01.tiff: 0.9996\n",
      "G:\\softmax\\inference\\cond7_all\\ds_62_E05-T01.tiff: 0.9996\n",
      "G:\\softmax\\inference\\ex\\ds1B_g9_C11.tif: 0.9997\n",
      "G:\\softmax\\inference\\cond7_all\\ds_51_F08-T01.tiff: 0.9997\n",
      "G:\\softmax\\inference\\cond7_all\\ds_51_E02-T01.tiff: 0.9997\n",
      "G:\\softmax\\inference\\cond7_all\\sd_04_B06-T01.tiff: 0.9997\n",
      "G:\\softmax\\inference\\ex\\ds61_g3_C02-T01.tiff: 0.9997\n",
      "G:\\softmax\\inference\\ex\\ds61_g9_C08-T01.tiff: 0.9997\n",
      "G:\\softmax\\inference\\cond7_all\\ds_62_E02-T01.tiff: 0.9997\n",
      "G:\\softmax\\inference\\cond7_all\\ds_52_D07-T01.tiff: 0.9997\n",
      "G:\\softmax\\inference\\cond7_all\\ds_51_F03-T01.tiff: 0.9997\n",
      "G:\\softmax\\inference\\cond7_all\\ds_62_F06-T01.tiff: 0.9997\n",
      "G:\\softmax\\inference\\ex\\ds61_g8_B07-T01.tiff: 0.9997\n",
      "G:\\softmax\\inference\\cond7_all\\sd_04_F06-T01.tiff: 0.9998\n",
      "G:\\softmax\\inference\\cond7_all\\ds_52_F09-T01.tiff: 0.9998\n",
      "G:\\softmax\\inference\\cond7_all\\ds_52_E05-T01.tiff: 0.9998\n",
      "G:\\softmax\\inference\\cond7_all\\ds_52_E11-T01.tiff: 0.9998\n",
      "G:\\softmax\\inference\\cond7_all\\ds_62_D04-T01.tiff: 0.9998\n",
      "G:\\softmax\\inference\\cond7_all\\ds_62_E03-T01.tiff: 0.9998\n",
      "G:\\softmax\\inference\\cond7_all\\ds_52_E10-T01.tiff: 0.9998\n",
      "G:\\softmax\\inference\\cond7_all\\ds_62_G09-T01.tiff: 0.9998\n",
      "G:\\softmax\\inference\\cond7_all\\ds_52_F10-T01.tiff: 0.9998\n",
      "G:\\softmax\\inference\\cond7_all\\ds_41_G02-T01.tiff: 0.9998\n",
      "G:\\softmax\\inference\\cond7_all\\ds_52_G11-T01.tiff: 0.9998\n",
      "G:\\softmax\\inference\\cond7_all\\ds_62_C04-T01.tiff: 0.9998\n",
      "G:\\softmax\\inference\\cond7_all\\ds_51_D02-T01.tiff: 0.9998\n",
      "G:\\softmax\\inference\\cond7_all\\ds_61_D04-T01.tiff: 0.9999\n",
      "G:\\softmax\\inference\\cond7_all\\ds_62_E06-T01.tiff: 0.9999\n",
      "G:\\softmax\\inference\\ex\\ds61_g3_C03-T01.tiff: 0.9999\n",
      "G:\\softmax\\inference\\cond7_all\\ds_62_G02-T01.tiff: 0.9999\n",
      "G:\\softmax\\inference\\cond7_all\\ds_62_F05-T01.tiff: 0.9999\n",
      "G:\\softmax\\inference\\cond7_all\\ds_52_F11-T01.tiff: 0.9999\n",
      "G:\\softmax\\inference\\cond7_all\\ds_62_G04-T01.tiff: 0.9999\n",
      "G:\\softmax\\inference\\cond7_all\\ds_52_D11-T01.tiff: 0.9999\n",
      "G:\\softmax\\inference\\cond7_all\\ds_51_F02-T01.tiff: 0.9999\n",
      "G:\\softmax\\inference\\cond7_all\\ds_62_F04-T01.tiff: 0.9999\n",
      "G:\\softmax\\inference\\ex\\ds62_g8_B09-T01.tiff: 0.9999\n",
      "G:\\softmax\\inference\\cond7_all\\sd_04_C03-T01.tiff: 0.9999\n",
      "G:\\softmax\\inference\\cond7_all\\ds_52_D10-T01.tiff: 0.9999\n",
      "G:\\softmax\\inference\\cond7_all\\ds_51_G02-T01.tiff: 0.9999\n",
      "G:\\softmax\\inference\\cond7_all\\sd_04_D05-T01.tiff: 0.9999\n",
      "G:\\softmax\\inference\\cond7_all\\ds_51_D05-T01.tiff: 0.9999\n",
      "G:\\softmax\\inference\\cond7_all\\ds_62_F02-T01.tiff: 0.9999\n",
      "G:\\softmax\\inference\\cond7_all\\ds_62_G03-T01.tiff: 0.9999\n",
      "G:\\softmax\\inference\\cond7_all\\sd_04_C02-T01.tiff: 0.9999\n",
      "G:\\softmax\\inference\\cond7_all\\ds_51_E05-T01.tiff: 0.9999\n",
      "G:\\softmax\\inference\\cond7_all\\ds_62_E04-T01.tiff: 0.9999\n",
      "G:\\softmax\\inference\\ex\\ds1B_g9_C9.tif: 0.9999\n",
      "G:\\softmax\\inference\\cond7_all\\ds_52_B06-T01.tiff: 0.9999\n",
      "G:\\softmax\\inference\\cond7_all\\ds_62_D06-T01.tiff: 0.9999\n",
      "G:\\softmax\\inference\\cond7_all\\ds_51_D04-T01.tiff: 0.9999\n",
      "G:\\softmax\\inference\\cond7_all\\sd_04_E02-T01.tiff: 1.0000\n",
      "G:\\softmax\\inference\\cond7_all\\ds_51_D06-T01.tiff: 1.0000\n",
      "G:\\softmax\\inference\\cond7_all\\sd_04_B03-T01.tiff: 1.0000\n",
      "G:\\softmax\\inference\\cond7_all\\ds_52_D06-T01.tiff: 1.0000\n",
      "G:\\softmax\\inference\\ex\\ds1B_g9_c10.tif: 1.0000\n",
      "G:\\softmax\\inference\\cond7_all\\ds_52_C11-T01.tiff: 1.0000\n",
      "G:\\softmax\\inference\\ex\\ds61_g6_F04-T01.tiff: 1.0000\n",
      "G:\\softmax\\inference\\cond7_all\\sd_04_B02-T01.tiff: 1.0000\n",
      "G:\\softmax\\inference\\cond7_all\\ds_51_B06-T01.tiff: 1.0000\n",
      "G:\\softmax\\inference\\cond7_all\\ds_52_B03-T01.tiff: 1.0000\n",
      "G:\\softmax\\inference\\cond7_all\\sd_04_E05-T01.tiff: 1.0000\n",
      "G:\\softmax\\inference\\cond7_all\\ds_52_D04-T01.tiff: 1.0000\n",
      "G:\\softmax\\inference\\ex\\ds62_g8_B11-T01.tiff: 1.0000\n"
     ]
    }
   ],
   "source": [
    "all_images_data = []\n",
    "for grp in groups:\n",
    "    # each entry is [p_control, p_treated, img_path]\n",
    "    all_images_data.extend(groups_data[grp])\n",
    "\n",
    "# Sort by p(treated) in ascending order\n",
    "all_images_data.sort(key=lambda x: x[1])  # No reverse=True\n",
    "\n",
    "# Now all_images_data is sorted by p(treated) in ascending ordergroups_data[group_name]\n",
    "sorted_by_treated = [(entry[2], entry[1]) for entry in all_images_data]\n",
    "\n",
    "print(\"Images sorted by p(treated) in ascending order:\")\n",
    "for img_path, p_tr in sorted_by_treated:\n",
    "    print(f\"{img_path}: {p_tr:.4f}\")"
   ]
  },
  {
   "cell_type": "code",
   "execution_count": 28,
   "metadata": {},
   "outputs": [],
   "source": [
    "def calculate_custom_accuracy(groups_data):\n",
    "    \"\"\"\n",
    "    Calculate custom accuracy with group name tracking.\n",
    "    \n",
    "    Parameters:\n",
    "    groups_data : dict\n",
    "        Dictionary with group names as keys and lists of [p_control, p_treated, path] as values\n",
    "    \n",
    "    Returns:\n",
    "    float: Calculated accuracy\n",
    "    dict: Detailed accuracy metrics\n",
    "    \"\"\"\n",
    "    # Extract probabilities and group names\n",
    "    group_names = list(groups_data.keys())\n",
    "    class_probabilities = [\n",
    "        [item[1] for item in groups_data[group]]  # p_treated probabilities\n",
    "        for group in group_names\n",
    "    ]\n",
    "    \n",
    "    # Calculate means for each group\n",
    "    class_means = [np.mean(probs) for probs in class_probabilities]\n",
    "    \n",
    "    # Sort means with corresponding group names\n",
    "    sorted_means = sorted(zip(group_names, class_means), key=lambda x: x[1])\n",
    "    \n",
    "    # Identify middle, first, and third classes\n",
    "    first_class_name = sorted_means[0][0]\n",
    "    middle_class_name = sorted_means[1][0]\n",
    "    third_class_name = sorted_means[2][0]\n",
    "    \n",
    "    # Rest of the calculation remains the same as previous implementation\n",
    "    middle_class_index = group_names.index(middle_class_name)\n",
    "    \n",
    "    # Find min and max of middle class\n",
    "    middle_class_probs = class_probabilities[middle_class_index]\n",
    "    middle_class_min = min(middle_class_probs)\n",
    "    middle_class_max = max(middle_class_probs)\n",
    "    \n",
    "    # Error Calculation\n",
    "    first_class_index = group_names.index(first_class_name)\n",
    "    third_class_index = group_names.index(third_class_name)\n",
    "    \n",
    "    first_class_errors = sum(1 for prob in class_probabilities[first_class_index] \n",
    "                              if prob > middle_class_min)\n",
    "    \n",
    "    third_class_errors = sum(1 for prob in class_probabilities[third_class_index] \n",
    "                              if prob < middle_class_max)\n",
    "    \n",
    "    # Total points and total errors\n",
    "    total_points = sum(len(probs) for probs in class_probabilities)\n",
    "    total_errors = first_class_errors + third_class_errors\n",
    "    \n",
    "    # Accuracy calculation\n",
    "    accuracy = (total_points - total_errors) / total_points\n",
    "    \n",
    "    # Print class information\n",
    "    print(f\"First class according to mean: {first_class_name}\")\n",
    "    print(f\"Middle class according to mean: {middle_class_name}\")\n",
    "    print(f\"Third class according to mean: {third_class_name}\")\n",
    "    \n",
    "    return accuracy, {\n",
    "        'group_names': group_names,\n",
    "        'class_means': dict(zip(group_names, class_means)),\n",
    "        'middle_class_name': middle_class_name,\n",
    "        'middle_class_min': middle_class_min,\n",
    "        'middle_class_max': middle_class_max,\n",
    "        'first_class_errors': first_class_errors,\n",
    "        'third_class_errors': third_class_errors,\n",
    "        'total_points': total_points,\n",
    "        'total_errors': total_errors\n",
    "    }\n",
    "\n",
    "# Simplified usage\n",
    "def apply_accuracy_calculation(groups_data):\n",
    "    \"\"\"\n",
    "    Apply accuracy calculation to the groups data.\n",
    "    \n",
    "    Parameters:\n",
    "    groups_data : dict\n",
    "        Dictionary with group names as keys and lists of [p_control, p_treated, path] as values\n",
    "    \n",
    "    Returns:\n",
    "    float: Calculated accuracy\n",
    "    \"\"\"\n",
    "    accuracy, metrics = calculate_custom_accuracy(groups_data)\n",
    "    \n",
    "    print(f\"\\nCalculated Accuracy: {accuracy:.4f}\")\n",
    "    print(\"\\nDetailed Metrics:\")\n",
    "    for key, value in metrics.items():\n",
    "        print(f\"{key}: {value}\")\n",
    "    \n",
    "    return accuracy"
   ]
  },
  {
   "cell_type": "code",
   "execution_count": 29,
   "metadata": {},
   "outputs": [
    {
     "name": "stdout",
     "output_type": "stream",
     "text": [
      "First class according to mean: sd\n",
      "Middle class according to mean: ex\n",
      "Third class according to mean: cond7_all\n",
      "\n",
      "Calculated Accuracy: 0.2163\n",
      "\n",
      "Detailed Metrics:\n",
      "group_names: ['cond7_all', 'ex', 'sd']\n",
      "class_means: {'cond7_all': 0.9478729, 'ex': 0.8222515, 'sd': 0.06539266}\n",
      "middle_class_name: ex\n",
      "middle_class_min: 0.1352544128894806\n",
      "middle_class_max: 0.999998927116394\n",
      "first_class_errors: 10\n",
      "third_class_errors: 472\n",
      "total_points: 615\n",
      "total_errors: 482\n",
      "0.216260162601626\n"
     ]
    }
   ],
   "source": [
    "print(apply_accuracy_calculation(groups_data))"
   ]
  },
  {
   "cell_type": "code",
   "execution_count": null,
   "metadata": {},
   "outputs": [],
   "source": []
  }
 ],
 "metadata": {
  "kernelspec": {
   "display_name": "master",
   "language": "python",
   "name": "python3"
  },
  "language_info": {
   "codemirror_mode": {
    "name": "ipython",
    "version": 3
   },
   "file_extension": ".py",
   "mimetype": "text/x-python",
   "name": "python",
   "nbconvert_exporter": "python",
   "pygments_lexer": "ipython3",
   "version": "3.12.3"
  }
 },
 "nbformat": 4,
 "nbformat_minor": 2
}
