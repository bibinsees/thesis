{
 "cells": [
  {
   "cell_type": "code",
   "execution_count": 1,
   "metadata": {},
   "outputs": [],
   "source": [
    "import os\n",
    "import numpy as np\n",
    "import torch\n",
    "from torch import nn, optim\n",
    "from torch.utils.data import Dataset, DataLoader, random_split\n",
    "from torchvision import transforms\n",
    "import torchvision\n",
    "import tifffile as tiff\n",
    "import matplotlib.pyplot as plt\n",
    "import time\n",
    "from tqdm import tqdm\n",
    "from copy import deepcopy\n",
    "from sklearn.model_selection import train_test_split\n",
    "from sklearn.metrics import accuracy_score\n",
    "import random"
   ]
  },
  {
   "cell_type": "code",
   "execution_count": 2,
   "metadata": {},
   "outputs": [],
   "source": [
    "# Set seed for reproducibility\n",
    "def set_seed(seed):\n",
    "    random.seed(seed)\n",
    "    np.random.seed(seed)\n",
    "    torch.manual_seed(seed)\n",
    "    if torch.cuda.is_available():\n",
    "        torch.cuda.manual_seed(seed)\n",
    "        torch.cuda.manual_seed_all(seed)\n",
    "    torch.backends.cudnn.deterministic = True\n",
    "    torch.backends.cudnn.benchmark = False\n",
    "\n",
    "# Set seed\n",
    "set_seed(42)"
   ]
  },
  {
   "cell_type": "code",
   "execution_count": 3,
   "metadata": {},
   "outputs": [],
   "source": [
    "# Set the device\n",
    "device = torch.device(\"cuda\" if torch.cuda.is_available() else \"cpu\")"
   ]
  },
  {
   "cell_type": "markdown",
   "metadata": {},
   "source": [
    "# Logistic"
   ]
  },
  {
   "cell_type": "code",
   "execution_count": 4,
   "metadata": {},
   "outputs": [],
   "source": [
    "class LabeledImageDataset(Dataset):\n",
    "    def __init__(self, image_files, labels, transform=None):\n",
    "        self.image_files = image_files\n",
    "        self.labels = labels\n",
    "        self.transform = transform\n",
    "        self.resize_transform = transforms.Resize((96, 96))\n",
    "\n",
    "    def __len__(self):\n",
    "        return len(self.image_files)\n",
    "\n",
    "    def __getitem__(self, idx):\n",
    "        img_path = self.image_files[idx]\n",
    "        image = tiff.imread(img_path)\n",
    "\n",
    "        # Ensure the image has 3 layers (channels)\n",
    "        if image.shape[0] != 3:\n",
    "            raise ValueError(f\"Image {img_path} does not have exactly 3 layers.\")\n",
    "\n",
    "        # Normalize the 16-bit image to [0, 1]\n",
    "        image = image.astype(np.float32) / 65535.0\n",
    "\n",
    "        # Convert to a torch tensor and add channel dimension\n",
    "        image = torch.tensor(image, dtype=torch.float32)\n",
    "        \n",
    "        # Apply resize transform\n",
    "        image = self.resize_transform(image)\n",
    "\n",
    "        label = self.labels[idx]\n",
    "\n",
    "        return image, label\n",
    "\n",
    "def load_and_split_data(root_dir, test_size=0.2):\n",
    "    \n",
    "    #classes = ['cond7_all', 'sd_only']\n",
    "    classes = ['cond7_all', 'ex_40']\n",
    "\n",
    "    image_files = []\n",
    "    labels = []\n",
    "\n",
    "    for idx, class_name in enumerate(classes):\n",
    "        class_dir = os.path.join(root_dir, class_name)\n",
    "        files = [os.path.join(class_dir, file) for file in os.listdir(class_dir) if file.endswith(('.tiff', '.tif'))]\n",
    "        image_files.extend(files)\n",
    "        labels.extend([idx] * len(files))\n",
    "    \n",
    "    # Check if the labels correctly reflect the classes\n",
    "    #print(\"Label distribution:\", {classes[i]: labels.count(i) for i in range(len(classes))})\n",
    "    \n",
    "    # Split data into training and test sets\n",
    "    train_files, test_files, train_labels, test_labels = train_test_split(\n",
    "        image_files, labels, test_size=test_size, stratify=labels, random_state=42)\n",
    "\n",
    "    return train_files, test_files, train_labels, test_labels\n",
    "\n",
    "\n",
    "# Directories for labeled data\n",
    "image_dir = r\"G:\\softmax\\class\"\n",
    "\n",
    "# Load and split the data\n",
    "train_files, test_files, train_labels, test_labels = load_and_split_data(image_dir, test_size=0.2)\n",
    "\n",
    "# Create the labeled datasets\n",
    "train_labeled_dataset = LabeledImageDataset(train_files, train_labels)\n",
    "test_labeled_dataset = LabeledImageDataset(test_files, test_labels)\n",
    "\n",
    "# Define DataLoaders\n",
    "batch_size = 16\n",
    "train_loader_labeled = DataLoader(train_labeled_dataset, batch_size=batch_size, shuffle=True, drop_last=False, pin_memory=True, num_workers=0)\n",
    "test_loader_labeled = DataLoader(test_labeled_dataset, batch_size=batch_size, shuffle=False, drop_last=False, pin_memory=True, num_workers=0)"
   ]
  },
  {
   "cell_type": "code",
   "execution_count": 5,
   "metadata": {},
   "outputs": [
    {
     "name": "stdout",
     "output_type": "stream",
     "text": [
      "torch.Size([16, 3, 96, 96]) torch.Size([16]) torch.float32\n",
      "tensor([0, 0, 0, 0, 0, 0, 0, 0, 0, 0, 0, 0, 0, 0, 0, 0])\n"
     ]
    }
   ],
   "source": [
    "for anchor,label in train_loader_labeled:\n",
    "    print(anchor.shape, label.shape, anchor.dtype)\n",
    "    print(label)\n",
    "    break"
   ]
  },
  {
   "cell_type": "code",
   "execution_count": 6,
   "metadata": {},
   "outputs": [],
   "source": [
    "def prepare_data_features(dataloader):\n",
    "    feats, labels = [], []\n",
    "    \n",
    "    for batch_imgs, batch_labels in tqdm(dataloader):\n",
    "        batch_imgs = batch_imgs.to(device)\n",
    "        \n",
    "        # Flatten the images from (N, C, H, W) to (N, C*H*W)\n",
    "        batch_feats = batch_imgs.view(batch_imgs.size(0), -1)  # Flatten the images\n",
    "        print(f\"Batch features shape: {batch_feats.shape}\")  # Check the feature shape\n",
    "        print(f\"Batch labels shape: {batch_labels.shape}\")\n",
    "        \n",
    "        feats.append(batch_feats.detach().cpu())\n",
    "        labels.append(batch_labels)\n",
    "\n",
    "    feats = torch.cat(feats, dim=0)\n",
    "    labels = torch.cat(labels, dim=0)\n",
    "    \n",
    "    print(f\"Features shape after concatenation: {feats.shape}\")\n",
    "    print(f\"Labels shape after concatenation: {labels.shape}\")\n",
    "\n",
    "    return torch.utils.data.TensorDataset(feats, labels)\n"
   ]
  },
  {
   "cell_type": "code",
   "execution_count": 7,
   "metadata": {},
   "outputs": [
    {
     "name": "stderr",
     "output_type": "stream",
     "text": [
      "  4%|▍         | 1/26 [00:05<02:08,  5.15s/it]"
     ]
    },
    {
     "name": "stdout",
     "output_type": "stream",
     "text": [
      "Batch features shape: torch.Size([16, 27648])\n",
      "Batch labels shape: torch.Size([16])\n"
     ]
    },
    {
     "name": "stderr",
     "output_type": "stream",
     "text": [
      "  8%|▊         | 2/26 [00:12<02:31,  6.32s/it]"
     ]
    },
    {
     "name": "stdout",
     "output_type": "stream",
     "text": [
      "Batch features shape: torch.Size([16, 27648])\n",
      "Batch labels shape: torch.Size([16])\n"
     ]
    },
    {
     "name": "stderr",
     "output_type": "stream",
     "text": [
      " 12%|█▏        | 3/26 [00:19<02:32,  6.62s/it]"
     ]
    },
    {
     "name": "stdout",
     "output_type": "stream",
     "text": [
      "Batch features shape: torch.Size([16, 27648])\n",
      "Batch labels shape: torch.Size([16])\n"
     ]
    },
    {
     "name": "stderr",
     "output_type": "stream",
     "text": [
      " 15%|█▌        | 4/26 [00:25<02:21,  6.42s/it]"
     ]
    },
    {
     "name": "stdout",
     "output_type": "stream",
     "text": [
      "Batch features shape: torch.Size([16, 27648])\n",
      "Batch labels shape: torch.Size([16])\n"
     ]
    },
    {
     "name": "stderr",
     "output_type": "stream",
     "text": [
      " 19%|█▉        | 5/26 [00:31<02:15,  6.46s/it]"
     ]
    },
    {
     "name": "stdout",
     "output_type": "stream",
     "text": [
      "Batch features shape: torch.Size([16, 27648])\n",
      "Batch labels shape: torch.Size([16])\n"
     ]
    },
    {
     "name": "stderr",
     "output_type": "stream",
     "text": [
      " 23%|██▎       | 6/26 [00:38<02:12,  6.61s/it]"
     ]
    },
    {
     "name": "stdout",
     "output_type": "stream",
     "text": [
      "Batch features shape: torch.Size([16, 27648])\n",
      "Batch labels shape: torch.Size([16])\n"
     ]
    },
    {
     "name": "stderr",
     "output_type": "stream",
     "text": [
      " 27%|██▋       | 7/26 [00:45<02:04,  6.58s/it]"
     ]
    },
    {
     "name": "stdout",
     "output_type": "stream",
     "text": [
      "Batch features shape: torch.Size([16, 27648])\n",
      "Batch labels shape: torch.Size([16])\n"
     ]
    },
    {
     "name": "stderr",
     "output_type": "stream",
     "text": [
      " 31%|███       | 8/26 [00:51<01:58,  6.60s/it]"
     ]
    },
    {
     "name": "stdout",
     "output_type": "stream",
     "text": [
      "Batch features shape: torch.Size([16, 27648])\n",
      "Batch labels shape: torch.Size([16])\n"
     ]
    },
    {
     "name": "stderr",
     "output_type": "stream",
     "text": [
      " 35%|███▍      | 9/26 [00:58<01:49,  6.44s/it]"
     ]
    },
    {
     "name": "stdout",
     "output_type": "stream",
     "text": [
      "Batch features shape: torch.Size([16, 27648])\n",
      "Batch labels shape: torch.Size([16])\n"
     ]
    },
    {
     "name": "stderr",
     "output_type": "stream",
     "text": [
      " 38%|███▊      | 10/26 [01:05<01:46,  6.66s/it]"
     ]
    },
    {
     "name": "stdout",
     "output_type": "stream",
     "text": [
      "Batch features shape: torch.Size([16, 27648])\n",
      "Batch labels shape: torch.Size([16])\n"
     ]
    },
    {
     "name": "stderr",
     "output_type": "stream",
     "text": [
      " 42%|████▏     | 11/26 [01:11<01:40,  6.67s/it]"
     ]
    },
    {
     "name": "stdout",
     "output_type": "stream",
     "text": [
      "Batch features shape: torch.Size([16, 27648])\n",
      "Batch labels shape: torch.Size([16])\n"
     ]
    },
    {
     "name": "stderr",
     "output_type": "stream",
     "text": [
      " 46%|████▌     | 12/26 [01:19<01:35,  6.84s/it]"
     ]
    },
    {
     "name": "stdout",
     "output_type": "stream",
     "text": [
      "Batch features shape: torch.Size([16, 27648])\n",
      "Batch labels shape: torch.Size([16])\n"
     ]
    },
    {
     "name": "stderr",
     "output_type": "stream",
     "text": [
      " 50%|█████     | 13/26 [01:25<01:28,  6.81s/it]"
     ]
    },
    {
     "name": "stdout",
     "output_type": "stream",
     "text": [
      "Batch features shape: torch.Size([16, 27648])\n",
      "Batch labels shape: torch.Size([16])\n"
     ]
    },
    {
     "name": "stderr",
     "output_type": "stream",
     "text": [
      " 54%|█████▍    | 14/26 [01:33<01:23,  6.92s/it]"
     ]
    },
    {
     "name": "stdout",
     "output_type": "stream",
     "text": [
      "Batch features shape: torch.Size([16, 27648])\n",
      "Batch labels shape: torch.Size([16])\n"
     ]
    },
    {
     "name": "stderr",
     "output_type": "stream",
     "text": [
      " 58%|█████▊    | 15/26 [01:39<01:15,  6.85s/it]"
     ]
    },
    {
     "name": "stdout",
     "output_type": "stream",
     "text": [
      "Batch features shape: torch.Size([16, 27648])\n",
      "Batch labels shape: torch.Size([16])\n"
     ]
    },
    {
     "name": "stderr",
     "output_type": "stream",
     "text": [
      " 62%|██████▏   | 16/26 [01:46<01:07,  6.71s/it]"
     ]
    },
    {
     "name": "stdout",
     "output_type": "stream",
     "text": [
      "Batch features shape: torch.Size([16, 27648])\n",
      "Batch labels shape: torch.Size([16])\n"
     ]
    },
    {
     "name": "stderr",
     "output_type": "stream",
     "text": [
      " 65%|██████▌   | 17/26 [01:53<01:02,  6.90s/it]"
     ]
    },
    {
     "name": "stdout",
     "output_type": "stream",
     "text": [
      "Batch features shape: torch.Size([16, 27648])\n",
      "Batch labels shape: torch.Size([16])\n"
     ]
    },
    {
     "name": "stderr",
     "output_type": "stream",
     "text": [
      " 69%|██████▉   | 18/26 [02:00<00:55,  6.98s/it]"
     ]
    },
    {
     "name": "stdout",
     "output_type": "stream",
     "text": [
      "Batch features shape: torch.Size([16, 27648])\n",
      "Batch labels shape: torch.Size([16])\n"
     ]
    },
    {
     "name": "stderr",
     "output_type": "stream",
     "text": [
      " 73%|███████▎  | 19/26 [02:07<00:49,  7.03s/it]"
     ]
    },
    {
     "name": "stdout",
     "output_type": "stream",
     "text": [
      "Batch features shape: torch.Size([16, 27648])\n",
      "Batch labels shape: torch.Size([16])\n"
     ]
    },
    {
     "name": "stderr",
     "output_type": "stream",
     "text": [
      " 77%|███████▋  | 20/26 [02:14<00:41,  6.97s/it]"
     ]
    },
    {
     "name": "stdout",
     "output_type": "stream",
     "text": [
      "Batch features shape: torch.Size([16, 27648])\n",
      "Batch labels shape: torch.Size([16])\n"
     ]
    },
    {
     "name": "stderr",
     "output_type": "stream",
     "text": [
      " 81%|████████  | 21/26 [02:21<00:34,  6.89s/it]"
     ]
    },
    {
     "name": "stdout",
     "output_type": "stream",
     "text": [
      "Batch features shape: torch.Size([16, 27648])\n",
      "Batch labels shape: torch.Size([16])\n"
     ]
    },
    {
     "name": "stderr",
     "output_type": "stream",
     "text": [
      " 85%|████████▍ | 22/26 [02:28<00:27,  6.88s/it]"
     ]
    },
    {
     "name": "stdout",
     "output_type": "stream",
     "text": [
      "Batch features shape: torch.Size([16, 27648])\n",
      "Batch labels shape: torch.Size([16])\n"
     ]
    },
    {
     "name": "stderr",
     "output_type": "stream",
     "text": [
      " 88%|████████▊ | 23/26 [02:34<00:20,  6.84s/it]"
     ]
    },
    {
     "name": "stdout",
     "output_type": "stream",
     "text": [
      "Batch features shape: torch.Size([16, 27648])\n",
      "Batch labels shape: torch.Size([16])\n"
     ]
    },
    {
     "name": "stderr",
     "output_type": "stream",
     "text": [
      " 92%|█████████▏| 24/26 [02:41<00:13,  6.69s/it]"
     ]
    },
    {
     "name": "stdout",
     "output_type": "stream",
     "text": [
      "Batch features shape: torch.Size([16, 27648])\n",
      "Batch labels shape: torch.Size([16])\n"
     ]
    },
    {
     "name": "stderr",
     "output_type": "stream",
     "text": [
      " 96%|█████████▌| 25/26 [02:48<00:06,  6.84s/it]"
     ]
    },
    {
     "name": "stdout",
     "output_type": "stream",
     "text": [
      "Batch features shape: torch.Size([16, 27648])\n",
      "Batch labels shape: torch.Size([16])\n"
     ]
    },
    {
     "name": "stderr",
     "output_type": "stream",
     "text": [
      "100%|██████████| 26/26 [02:52<00:00,  6.64s/it]\n"
     ]
    },
    {
     "name": "stdout",
     "output_type": "stream",
     "text": [
      "Batch features shape: torch.Size([9, 27648])\n",
      "Batch labels shape: torch.Size([9])\n",
      "Features shape after concatenation: torch.Size([409, 27648])\n",
      "Labels shape after concatenation: torch.Size([409])\n"
     ]
    },
    {
     "name": "stderr",
     "output_type": "stream",
     "text": [
      " 14%|█▍        | 1/7 [00:07<00:42,  7.15s/it]"
     ]
    },
    {
     "name": "stdout",
     "output_type": "stream",
     "text": [
      "Batch features shape: torch.Size([16, 27648])\n",
      "Batch labels shape: torch.Size([16])\n"
     ]
    },
    {
     "name": "stderr",
     "output_type": "stream",
     "text": [
      " 29%|██▊       | 2/7 [00:14<00:35,  7.16s/it]"
     ]
    },
    {
     "name": "stdout",
     "output_type": "stream",
     "text": [
      "Batch features shape: torch.Size([16, 27648])\n",
      "Batch labels shape: torch.Size([16])\n"
     ]
    },
    {
     "name": "stderr",
     "output_type": "stream",
     "text": [
      " 43%|████▎     | 3/7 [00:21<00:28,  7.15s/it]"
     ]
    },
    {
     "name": "stdout",
     "output_type": "stream",
     "text": [
      "Batch features shape: torch.Size([16, 27648])\n",
      "Batch labels shape: torch.Size([16])\n"
     ]
    },
    {
     "name": "stderr",
     "output_type": "stream",
     "text": [
      " 57%|█████▋    | 4/7 [00:28<00:21,  7.13s/it]"
     ]
    },
    {
     "name": "stdout",
     "output_type": "stream",
     "text": [
      "Batch features shape: torch.Size([16, 27648])\n",
      "Batch labels shape: torch.Size([16])\n"
     ]
    },
    {
     "name": "stderr",
     "output_type": "stream",
     "text": [
      " 71%|███████▏  | 5/7 [00:35<00:14,  7.15s/it]"
     ]
    },
    {
     "name": "stdout",
     "output_type": "stream",
     "text": [
      "Batch features shape: torch.Size([16, 27648])\n",
      "Batch labels shape: torch.Size([16])\n"
     ]
    },
    {
     "name": "stderr",
     "output_type": "stream",
     "text": [
      " 86%|████████▌ | 6/7 [00:42<00:07,  7.14s/it]"
     ]
    },
    {
     "name": "stdout",
     "output_type": "stream",
     "text": [
      "Batch features shape: torch.Size([16, 27648])\n",
      "Batch labels shape: torch.Size([16])\n"
     ]
    },
    {
     "name": "stderr",
     "output_type": "stream",
     "text": [
      "100%|██████████| 7/7 [00:46<00:00,  6.59s/it]"
     ]
    },
    {
     "name": "stdout",
     "output_type": "stream",
     "text": [
      "Batch features shape: torch.Size([7, 27648])\n",
      "Batch labels shape: torch.Size([7])\n",
      "Features shape after concatenation: torch.Size([103, 27648])\n",
      "Labels shape after concatenation: torch.Size([103])\n"
     ]
    },
    {
     "name": "stderr",
     "output_type": "stream",
     "text": [
      "\n"
     ]
    }
   ],
   "source": [
    "# Extract features for train and test datasets\n",
    "train_feats = prepare_data_features(train_loader_labeled)\n",
    "test_feats = prepare_data_features(test_loader_labeled)"
   ]
  },
  {
   "cell_type": "code",
   "execution_count": 8,
   "metadata": {},
   "outputs": [],
   "source": [
    "# Logistic Regression model definition\n",
    "class LogisticRegression(nn.Module):\n",
    "    def __init__(self, feature_dim, num_classes):\n",
    "        super(LogisticRegression, self).__init__()\n",
    "        self.linear = nn.Linear(feature_dim, num_classes)\n",
    "\n",
    "    def forward(self, x):\n",
    "        return self.linear(x)"
   ]
  },
  {
   "cell_type": "code",
   "execution_count": 9,
   "metadata": {},
   "outputs": [],
   "source": [
    "# Training function\n",
    "def train_logistic_regression(model, train_loader, optimizer, scheduler, device):\n",
    "    model.train()\n",
    "    total_loss = 0.0\n",
    "    all_preds = []\n",
    "    all_labels = []\n",
    "\n",
    "    for batch_feats, batch_labels in tqdm(train_loader, desc=\"Training\"):\n",
    "        batch_feats, batch_labels = batch_feats.to(device), batch_labels.to(device)\n",
    "        \n",
    "        optimizer.zero_grad()\n",
    "        outputs = model(batch_feats)\n",
    "        loss = nn.functional.cross_entropy(outputs, batch_labels)\n",
    "        loss.backward()\n",
    "        optimizer.step()\n",
    "        \n",
    "        # Update learning rate scheduler\n",
    "        scheduler.step()\n",
    "\n",
    "        total_loss += loss.item()\n",
    "\n",
    "        preds = outputs.argmax(dim=1)\n",
    "        all_preds.extend(preds.cpu().numpy())\n",
    "        all_labels.extend(batch_labels.cpu().numpy())\n",
    "\n",
    "    avg_loss = total_loss / len(train_loader)\n",
    "    accuracy = accuracy_score(all_labels, all_preds)\n",
    "    return avg_loss, accuracy"
   ]
  },
  {
   "cell_type": "code",
   "execution_count": 10,
   "metadata": {},
   "outputs": [],
   "source": [
    "# Evaluation function\n",
    "def evaluate_logistic_regression(model, test_loader, criterion, device):\n",
    "    model.eval()\n",
    "    total_loss = 0.0\n",
    "    all_preds = []\n",
    "    all_labels = []\n",
    "\n",
    "    with torch.no_grad():\n",
    "        for batch_feats, batch_labels in tqdm(test_loader, desc=\"Evaluating\"):\n",
    "            batch_feats, batch_labels = batch_feats.to(device), batch_labels.to(device)\n",
    "            \n",
    "            outputs = model(batch_feats)\n",
    "            loss = nn.functional.cross_entropy(outputs, batch_labels)\n",
    "            total_loss += loss.item()\n",
    "\n",
    "            preds = outputs.argmax(dim=1)\n",
    "            all_preds.extend(preds.cpu().numpy())\n",
    "            all_labels.extend(batch_labels.cpu().numpy())\n",
    "\n",
    "    avg_loss = total_loss / len(test_loader)\n",
    "    accuracy = accuracy_score(all_labels, all_preds)\n",
    "    return avg_loss, accuracy"
   ]
  },
  {
   "cell_type": "code",
   "execution_count": 11,
   "metadata": {},
   "outputs": [],
   "source": [
    "def train_logreg_simplified(batch_size, train_feats_data, test_feats_data, feature_dim, num_classes, lr=5e-4, weight_decay=1e-4, max_epochs=50):\n",
    "    device = torch.device(\"cuda\" if torch.cuda.is_available() else \"cpu\")\n",
    "\n",
    "    # Data loaders\n",
    "    train_loader = DataLoader(train_feats_data, batch_size=batch_size, shuffle=True,\n",
    "                              drop_last=False, pin_memory=True, num_workers=0)\n",
    "    test_loader = DataLoader(test_feats_data, batch_size=batch_size, shuffle=False,\n",
    "                             drop_last=False, pin_memory=True, num_workers=0)\n",
    "\n",
    "    # Model, loss, and optimizer\n",
    "    model = LogisticRegression(feature_dim, num_classes).to(device)\n",
    "    criterion = nn.CrossEntropyLoss()\n",
    "    optimizer = optim.AdamW(model.parameters(), lr=lr, weight_decay=weight_decay)\n",
    "    scheduler = optim.lr_scheduler.MultiStepLR(optimizer,\n",
    "                                               milestones=[int(max_epochs * 0.6), int(max_epochs * 0.8)],\n",
    "                                               gamma=0.1)\n",
    "\n",
    "    # Store metrics for plotting\n",
    "    train_losses = []\n",
    "    test_losses = []\n",
    "    train_accuracies = []\n",
    "    test_accuracies = []\n",
    "\n",
    "    # Track best by accuracy\n",
    "    best_test_acc = -1.0\n",
    "    best_model_state_acc = None\n",
    "\n",
    "    # Track best by loss (with accuracy as a tiebreaker)\n",
    "    best_test_loss = float('inf')\n",
    "    best_test_loss_acc = -1.0\n",
    "    best_model_state_loss = None\n",
    "\n",
    "    for epoch in range(max_epochs):\n",
    "        print(f\"Epoch {epoch+1}/{max_epochs}\")\n",
    "\n",
    "        train_loss, train_acc = train_logistic_regression(model, train_loader, optimizer, scheduler, device)\n",
    "        test_loss, test_acc = evaluate_logistic_regression(model, test_loader, criterion, device)\n",
    "\n",
    "        print(f\"Training loss: {train_loss:.4f}, Training accuracy: {train_acc:.4f}\")\n",
    "        print(f\"Test loss: {test_loss:.4f}, Test accuracy: {test_acc:.4f}\")\n",
    "\n",
    "        train_losses.append(train_loss)\n",
    "        test_losses.append(test_loss)\n",
    "        train_accuracies.append(train_acc)\n",
    "        test_accuracies.append(test_acc)\n",
    "\n",
    "        # Check for best accuracy model\n",
    "        if test_acc > best_test_acc:\n",
    "            best_test_acc = test_acc\n",
    "            best_model_state_acc = model.state_dict()\n",
    "\n",
    "        # Check for best loss model\n",
    "        # Condition: strictly lower loss OR equal loss but higher accuracy\n",
    "        if (test_loss < best_test_loss) or (test_loss == best_test_loss and test_acc > best_test_loss_acc):\n",
    "            best_test_loss = test_loss\n",
    "            best_test_loss_acc = test_acc\n",
    "            best_model_state_loss = model.state_dict()\n",
    "\n",
    "    # Now we have two best states: best_model_state_acc and best_model_state_loss\n",
    "    # Create two separate model instances for them\n",
    "    best_acc_model = LogisticRegression(feature_dim, num_classes).to(device)\n",
    "    best_acc_model.load_state_dict(best_model_state_acc)\n",
    "    best_acc_model.eval()\n",
    "\n",
    "    best_loss_model = LogisticRegression(feature_dim, num_classes).to(device)\n",
    "    best_loss_model.load_state_dict(best_model_state_loss)\n",
    "    best_loss_model.eval()\n",
    "\n",
    "    # Plot results\n",
    "    plt.figure(figsize=(15, 5))\n",
    "\n",
    "    # Loss curve\n",
    "    plt.subplot(1, 2, 1)\n",
    "    plt.plot(range(max_epochs), train_losses, label='Train Loss')\n",
    "    plt.plot(range(max_epochs), test_losses, label='Test Loss')\n",
    "    plt.xlabel('Epoch')\n",
    "    plt.ylabel('Loss')\n",
    "    plt.title('Loss Curve')\n",
    "    plt.legend()\n",
    "\n",
    "    # Accuracy curve\n",
    "    plt.subplot(1, 2, 2)\n",
    "    plt.plot(range(max_epochs), train_accuracies, label='Train Accuracy')\n",
    "    plt.plot(range(max_epochs), test_accuracies, label='Test Accuracy')\n",
    "    plt.xlabel('Epoch')\n",
    "    plt.ylabel('Accuracy')\n",
    "    plt.title('Accuracy Curve')\n",
    "    plt.legend()\n",
    "\n",
    "    plt.tight_layout()\n",
    "    plt.show()\n",
    "\n",
    "    # Return both models and the final results (e.g., last train_acc and test_acc recorded)\n",
    "    return best_acc_model, best_loss_model, {\"train_acc\": train_acc, \"test_acc\": test_acc}\n"
   ]
  },
  {
   "cell_type": "code",
   "execution_count": 12,
   "metadata": {},
   "outputs": [
    {
     "name": "stdout",
     "output_type": "stream",
     "text": [
      "Epoch 1/250\n"
     ]
    },
    {
     "name": "stderr",
     "output_type": "stream",
     "text": [
      "Training: 100%|██████████| 7/7 [00:00<00:00, 25.61it/s]\n",
      "Evaluating: 100%|██████████| 2/2 [00:00<00:00, 60.00it/s]\n"
     ]
    },
    {
     "name": "stdout",
     "output_type": "stream",
     "text": [
      "Training loss: 1.7443, Training accuracy: 0.7897\n",
      "Test loss: 2.0271, Test accuracy: 0.9223\n",
      "Epoch 2/250\n"
     ]
    },
    {
     "name": "stderr",
     "output_type": "stream",
     "text": [
      "Training: 100%|██████████| 7/7 [00:00<00:00, 83.72it/s]\n",
      "Evaluating: 100%|██████████| 2/2 [00:00<?, ?it/s]\n"
     ]
    },
    {
     "name": "stdout",
     "output_type": "stream",
     "text": [
      "Training loss: 1.5371, Training accuracy: 0.9218\n",
      "Test loss: 0.1973, Test accuracy: 0.9223\n",
      "Epoch 3/250\n"
     ]
    },
    {
     "name": "stderr",
     "output_type": "stream",
     "text": [
      "Training: 100%|██████████| 7/7 [00:00<00:00, 102.60it/s]\n",
      "Evaluating: 100%|██████████| 2/2 [00:00<00:00, 120.14it/s]\n"
     ]
    },
    {
     "name": "stdout",
     "output_type": "stream",
     "text": [
      "Training loss: 0.5822, Training accuracy: 0.7897\n",
      "Test loss: 0.6609, Test accuracy: 0.9223\n",
      "Epoch 4/250\n"
     ]
    },
    {
     "name": "stderr",
     "output_type": "stream",
     "text": [
      "Training: 100%|██████████| 7/7 [00:00<00:00, 104.72it/s]\n",
      "Evaluating: 100%|██████████| 2/2 [00:00<00:00, 124.77it/s]\n"
     ]
    },
    {
     "name": "stdout",
     "output_type": "stream",
     "text": [
      "Training loss: 0.5734, Training accuracy: 0.9218\n",
      "Test loss: 0.1326, Test accuracy: 0.9320\n",
      "Epoch 5/250\n"
     ]
    },
    {
     "name": "stderr",
     "output_type": "stream",
     "text": [
      "Training: 100%|██████████| 7/7 [00:00<00:00, 140.60it/s]\n",
      "Evaluating: 100%|██████████| 2/2 [00:00<00:00, 127.91it/s]\n"
     ]
    },
    {
     "name": "stdout",
     "output_type": "stream",
     "text": [
      "Training loss: 0.2353, Training accuracy: 0.8998\n",
      "Test loss: 0.2333, Test accuracy: 0.9223\n",
      "Epoch 6/250\n"
     ]
    },
    {
     "name": "stderr",
     "output_type": "stream",
     "text": [
      "Training: 100%|██████████| 7/7 [00:00<00:00, 212.10it/s]\n",
      "Evaluating: 100%|██████████| 2/2 [00:00<00:00, 119.24it/s]\n"
     ]
    },
    {
     "name": "stdout",
     "output_type": "stream",
     "text": [
      "Training loss: 0.1875, Training accuracy: 0.9340\n",
      "Test loss: 0.4472, Test accuracy: 0.8544\n",
      "Epoch 7/250\n"
     ]
    },
    {
     "name": "stderr",
     "output_type": "stream",
     "text": [
      "Training: 100%|██████████| 7/7 [00:00<00:00, 205.58it/s]\n",
      "Evaluating: 100%|██████████| 2/2 [00:00<00:00, 123.97it/s]\n"
     ]
    },
    {
     "name": "stdout",
     "output_type": "stream",
     "text": [
      "Training loss: 0.2066, Training accuracy: 0.9267\n",
      "Test loss: 0.1586, Test accuracy: 0.9223\n",
      "Epoch 8/250\n"
     ]
    },
    {
     "name": "stderr",
     "output_type": "stream",
     "text": [
      "Training: 100%|██████████| 7/7 [00:00<00:00, 179.98it/s]\n",
      "Evaluating: 100%|██████████| 2/2 [00:00<?, ?it/s]\n"
     ]
    },
    {
     "name": "stdout",
     "output_type": "stream",
     "text": [
      "Training loss: 0.1275, Training accuracy: 0.9389\n",
      "Test loss: 0.0980, Test accuracy: 0.9515\n",
      "Epoch 9/250\n"
     ]
    },
    {
     "name": "stderr",
     "output_type": "stream",
     "text": [
      "Training: 100%|██████████| 7/7 [00:00<00:00, 210.14it/s]\n",
      "Evaluating: 100%|██████████| 2/2 [00:00<00:00, 1966.39it/s]\n"
     ]
    },
    {
     "name": "stdout",
     "output_type": "stream",
     "text": [
      "Training loss: 0.1726, Training accuracy: 0.9315\n",
      "Test loss: 0.2799, Test accuracy: 0.8835\n",
      "Epoch 10/250\n"
     ]
    },
    {
     "name": "stderr",
     "output_type": "stream",
     "text": [
      "Training: 100%|██████████| 7/7 [00:00<00:00, 211.76it/s]\n",
      "Evaluating: 100%|██████████| 2/2 [00:00<?, ?it/s]\n"
     ]
    },
    {
     "name": "stdout",
     "output_type": "stream",
     "text": [
      "Training loss: 0.1387, Training accuracy: 0.9413\n",
      "Test loss: 0.1264, Test accuracy: 0.9417\n",
      "Epoch 11/250\n"
     ]
    },
    {
     "name": "stderr",
     "output_type": "stream",
     "text": [
      "Training: 100%|██████████| 7/7 [00:00<00:00, 205.40it/s]\n",
      "Evaluating: 100%|██████████| 2/2 [00:00<00:00, 128.75it/s]\n"
     ]
    },
    {
     "name": "stdout",
     "output_type": "stream",
     "text": [
      "Training loss: 0.1070, Training accuracy: 0.9487\n",
      "Test loss: 0.0829, Test accuracy: 0.9806\n",
      "Epoch 12/250\n"
     ]
    },
    {
     "name": "stderr",
     "output_type": "stream",
     "text": [
      "Training: 100%|██████████| 7/7 [00:00<00:00, 211.36it/s]\n",
      "Evaluating: 100%|██████████| 2/2 [00:00<00:00, 884.69it/s]\n"
     ]
    },
    {
     "name": "stdout",
     "output_type": "stream",
     "text": [
      "Training loss: 0.0651, Training accuracy: 0.9707\n",
      "Test loss: 0.0828, Test accuracy: 0.9806\n",
      "Epoch 13/250\n"
     ]
    },
    {
     "name": "stderr",
     "output_type": "stream",
     "text": [
      "Training: 100%|██████████| 7/7 [00:00<00:00, 217.95it/s]\n",
      "Evaluating: 100%|██████████| 2/2 [00:00<00:00, 110.78it/s]\n"
     ]
    },
    {
     "name": "stdout",
     "output_type": "stream",
     "text": [
      "Training loss: 0.0556, Training accuracy: 0.9756\n",
      "Test loss: 0.0695, Test accuracy: 0.9806\n",
      "Epoch 14/250\n"
     ]
    },
    {
     "name": "stderr",
     "output_type": "stream",
     "text": [
      "Training: 100%|██████████| 7/7 [00:00<00:00, 213.11it/s]\n",
      "Evaluating: 100%|██████████| 2/2 [00:00<00:00, 125.28it/s]\n"
     ]
    },
    {
     "name": "stdout",
     "output_type": "stream",
     "text": [
      "Training loss: 0.0554, Training accuracy: 0.9731\n",
      "Test loss: 0.0905, Test accuracy: 0.9709\n",
      "Epoch 15/250\n"
     ]
    },
    {
     "name": "stderr",
     "output_type": "stream",
     "text": [
      "Training: 100%|██████████| 7/7 [00:00<00:00, 210.28it/s]\n",
      "Evaluating: 100%|██████████| 2/2 [00:00<00:00, 119.30it/s]\n"
     ]
    },
    {
     "name": "stdout",
     "output_type": "stream",
     "text": [
      "Training loss: 0.0522, Training accuracy: 0.9853\n",
      "Test loss: 0.0548, Test accuracy: 0.9903\n",
      "Epoch 16/250\n"
     ]
    },
    {
     "name": "stderr",
     "output_type": "stream",
     "text": [
      "Training: 100%|██████████| 7/7 [00:00<00:00, 211.26it/s]\n",
      "Evaluating: 100%|██████████| 2/2 [00:00<?, ?it/s]\n"
     ]
    },
    {
     "name": "stdout",
     "output_type": "stream",
     "text": [
      "Training loss: 0.0446, Training accuracy: 0.9829\n",
      "Test loss: 0.0613, Test accuracy: 0.9806\n",
      "Epoch 17/250\n"
     ]
    },
    {
     "name": "stderr",
     "output_type": "stream",
     "text": [
      "Training: 100%|██████████| 7/7 [00:00<00:00, 136.82it/s]\n",
      "Evaluating: 100%|██████████| 2/2 [00:00<?, ?it/s]\n"
     ]
    },
    {
     "name": "stdout",
     "output_type": "stream",
     "text": [
      "Training loss: 0.0485, Training accuracy: 0.9780\n",
      "Test loss: 0.0880, Test accuracy: 0.9806\n",
      "Epoch 18/250\n"
     ]
    },
    {
     "name": "stderr",
     "output_type": "stream",
     "text": [
      "Training: 100%|██████████| 7/7 [00:00<00:00, 139.17it/s]\n",
      "Evaluating: 100%|██████████| 2/2 [00:00<?, ?it/s]\n"
     ]
    },
    {
     "name": "stdout",
     "output_type": "stream",
     "text": [
      "Training loss: 0.0427, Training accuracy: 0.9853\n",
      "Test loss: 0.0472, Test accuracy: 0.9903\n",
      "Epoch 19/250\n"
     ]
    },
    {
     "name": "stderr",
     "output_type": "stream",
     "text": [
      "Training: 100%|██████████| 7/7 [00:00<00:00, 140.06it/s]\n",
      "Evaluating: 100%|██████████| 2/2 [00:00<?, ?it/s]\n"
     ]
    },
    {
     "name": "stdout",
     "output_type": "stream",
     "text": [
      "Training loss: 0.0547, Training accuracy: 0.9829\n",
      "Test loss: 0.0453, Test accuracy: 0.9903\n",
      "Epoch 20/250\n"
     ]
    },
    {
     "name": "stderr",
     "output_type": "stream",
     "text": [
      "Training: 100%|██████████| 7/7 [00:00<00:00, 218.07it/s]\n",
      "Evaluating: 100%|██████████| 2/2 [00:00<00:00, 118.89it/s]\n"
     ]
    },
    {
     "name": "stdout",
     "output_type": "stream",
     "text": [
      "Training loss: 0.0403, Training accuracy: 0.9902\n",
      "Test loss: 0.0697, Test accuracy: 0.9806\n",
      "Epoch 21/250\n"
     ]
    },
    {
     "name": "stderr",
     "output_type": "stream",
     "text": [
      "Training: 100%|██████████| 7/7 [00:00<00:00, 209.92it/s]\n",
      "Evaluating: 100%|██████████| 2/2 [00:00<00:00, 112.65it/s]\n"
     ]
    },
    {
     "name": "stdout",
     "output_type": "stream",
     "text": [
      "Training loss: 0.0415, Training accuracy: 0.9878\n",
      "Test loss: 0.0421, Test accuracy: 0.9903\n",
      "Epoch 22/250\n"
     ]
    },
    {
     "name": "stderr",
     "output_type": "stream",
     "text": [
      "Training: 100%|██████████| 7/7 [00:00<00:00, 208.87it/s]\n",
      "Evaluating: 100%|██████████| 2/2 [00:00<?, ?it/s]\n"
     ]
    },
    {
     "name": "stdout",
     "output_type": "stream",
     "text": [
      "Training loss: 0.0348, Training accuracy: 0.9951\n",
      "Test loss: 0.0482, Test accuracy: 1.0000\n",
      "Epoch 23/250\n"
     ]
    },
    {
     "name": "stderr",
     "output_type": "stream",
     "text": [
      "Training: 100%|██████████| 7/7 [00:00<00:00, 144.71it/s]\n",
      "Evaluating: 100%|██████████| 2/2 [00:00<?, ?it/s]\n"
     ]
    },
    {
     "name": "stdout",
     "output_type": "stream",
     "text": [
      "Training loss: 0.0321, Training accuracy: 0.9951\n",
      "Test loss: 0.0433, Test accuracy: 0.9903\n",
      "Epoch 24/250\n"
     ]
    },
    {
     "name": "stderr",
     "output_type": "stream",
     "text": [
      "Training: 100%|██████████| 7/7 [00:00<00:00, 210.25it/s]\n",
      "Evaluating: 100%|██████████| 2/2 [00:00<00:00, 118.67it/s]\n"
     ]
    },
    {
     "name": "stdout",
     "output_type": "stream",
     "text": [
      "Training loss: 0.0319, Training accuracy: 0.9902\n",
      "Test loss: 0.0425, Test accuracy: 0.9903\n",
      "Epoch 25/250\n"
     ]
    },
    {
     "name": "stderr",
     "output_type": "stream",
     "text": [
      "Training: 100%|██████████| 7/7 [00:00<00:00, 210.42it/s]\n",
      "Evaluating: 100%|██████████| 2/2 [00:00<00:00, 114.07it/s]\n"
     ]
    },
    {
     "name": "stdout",
     "output_type": "stream",
     "text": [
      "Training loss: 0.0381, Training accuracy: 0.9902\n",
      "Test loss: 0.0435, Test accuracy: 0.9903\n",
      "Epoch 26/250\n"
     ]
    },
    {
     "name": "stderr",
     "output_type": "stream",
     "text": [
      "Training: 100%|██████████| 7/7 [00:00<00:00, 208.35it/s]\n",
      "Evaluating: 100%|██████████| 2/2 [00:00<?, ?it/s]\n"
     ]
    },
    {
     "name": "stdout",
     "output_type": "stream",
     "text": [
      "Training loss: 0.0317, Training accuracy: 0.9951\n",
      "Test loss: 0.0474, Test accuracy: 1.0000\n",
      "Epoch 27/250\n"
     ]
    },
    {
     "name": "stderr",
     "output_type": "stream",
     "text": [
      "Training: 100%|██████████| 7/7 [00:00<00:00, 209.46it/s]\n",
      "Evaluating: 100%|██████████| 2/2 [00:00<?, ?it/s]\n"
     ]
    },
    {
     "name": "stdout",
     "output_type": "stream",
     "text": [
      "Training loss: 0.0370, Training accuracy: 0.9951\n",
      "Test loss: 0.0457, Test accuracy: 1.0000\n",
      "Epoch 28/250\n"
     ]
    },
    {
     "name": "stderr",
     "output_type": "stream",
     "text": [
      "Training: 100%|██████████| 7/7 [00:00<00:00, 138.18it/s]\n",
      "Evaluating: 100%|██████████| 2/2 [00:00<?, ?it/s]\n"
     ]
    },
    {
     "name": "stdout",
     "output_type": "stream",
     "text": [
      "Training loss: 0.0321, Training accuracy: 0.9951\n",
      "Test loss: 0.0431, Test accuracy: 0.9903\n",
      "Epoch 29/250\n"
     ]
    },
    {
     "name": "stderr",
     "output_type": "stream",
     "text": [
      "Training: 100%|██████████| 7/7 [00:00<00:00, 172.67it/s]\n",
      "Evaluating: 100%|██████████| 2/2 [00:00<00:00, 234.09it/s]\n"
     ]
    },
    {
     "name": "stdout",
     "output_type": "stream",
     "text": [
      "Training loss: 0.0313, Training accuracy: 0.9927\n",
      "Test loss: 0.0436, Test accuracy: 0.9903\n",
      "Epoch 30/250\n"
     ]
    },
    {
     "name": "stderr",
     "output_type": "stream",
     "text": [
      "Training: 100%|██████████| 7/7 [00:00<00:00, 209.27it/s]\n",
      "Evaluating: 100%|██████████| 2/2 [00:00<00:00, 115.55it/s]\n"
     ]
    },
    {
     "name": "stdout",
     "output_type": "stream",
     "text": [
      "Training loss: 0.0346, Training accuracy: 0.9951\n",
      "Test loss: 0.0435, Test accuracy: 0.9903\n",
      "Epoch 31/250\n"
     ]
    },
    {
     "name": "stderr",
     "output_type": "stream",
     "text": [
      "Training: 100%|██████████| 7/7 [00:00<00:00, 215.56it/s]\n",
      "Evaluating: 100%|██████████| 2/2 [00:00<?, ?it/s]\n"
     ]
    },
    {
     "name": "stdout",
     "output_type": "stream",
     "text": [
      "Training loss: 0.0309, Training accuracy: 0.9951\n",
      "Test loss: 0.0439, Test accuracy: 1.0000\n",
      "Epoch 32/250\n"
     ]
    },
    {
     "name": "stderr",
     "output_type": "stream",
     "text": [
      "Training: 100%|██████████| 7/7 [00:00<00:00, 199.46it/s]\n",
      "Evaluating: 100%|██████████| 2/2 [00:00<?, ?it/s]\n"
     ]
    },
    {
     "name": "stdout",
     "output_type": "stream",
     "text": [
      "Training loss: 0.0310, Training accuracy: 0.9951\n",
      "Test loss: 0.0440, Test accuracy: 1.0000\n",
      "Epoch 33/250\n"
     ]
    },
    {
     "name": "stderr",
     "output_type": "stream",
     "text": [
      "Training: 100%|██████████| 7/7 [00:00<00:00, 210.26it/s]\n",
      "Evaluating: 100%|██████████| 2/2 [00:00<00:00, 122.81it/s]\n"
     ]
    },
    {
     "name": "stdout",
     "output_type": "stream",
     "text": [
      "Training loss: 0.0325, Training accuracy: 0.9951\n",
      "Test loss: 0.0440, Test accuracy: 1.0000\n",
      "Epoch 34/250\n"
     ]
    },
    {
     "name": "stderr",
     "output_type": "stream",
     "text": [
      "Training: 100%|██████████| 7/7 [00:00<00:00, 214.08it/s]\n",
      "Evaluating: 100%|██████████| 2/2 [00:00<00:00, 111.34it/s]\n"
     ]
    },
    {
     "name": "stdout",
     "output_type": "stream",
     "text": [
      "Training loss: 0.0312, Training accuracy: 0.9951\n",
      "Test loss: 0.0441, Test accuracy: 1.0000\n",
      "Epoch 35/250\n"
     ]
    },
    {
     "name": "stderr",
     "output_type": "stream",
     "text": [
      "Training: 100%|██████████| 7/7 [00:00<00:00, 211.49it/s]\n",
      "Evaluating: 100%|██████████| 2/2 [00:00<00:00, 127.12it/s]\n"
     ]
    },
    {
     "name": "stdout",
     "output_type": "stream",
     "text": [
      "Training loss: 0.0328, Training accuracy: 0.9951\n",
      "Test loss: 0.0442, Test accuracy: 1.0000\n",
      "Epoch 36/250\n"
     ]
    },
    {
     "name": "stderr",
     "output_type": "stream",
     "text": [
      "Training: 100%|██████████| 7/7 [00:00<00:00, 205.12it/s]\n",
      "Evaluating: 100%|██████████| 2/2 [00:00<?, ?it/s]\n"
     ]
    },
    {
     "name": "stdout",
     "output_type": "stream",
     "text": [
      "Training loss: 0.0327, Training accuracy: 0.9951\n",
      "Test loss: 0.0442, Test accuracy: 1.0000\n",
      "Epoch 37/250\n"
     ]
    },
    {
     "name": "stderr",
     "output_type": "stream",
     "text": [
      "Training: 100%|██████████| 7/7 [00:00<00:00, 209.49it/s]\n",
      "Evaluating: 100%|██████████| 2/2 [00:00<?, ?it/s]\n"
     ]
    },
    {
     "name": "stdout",
     "output_type": "stream",
     "text": [
      "Training loss: 0.0335, Training accuracy: 0.9951\n",
      "Test loss: 0.0446, Test accuracy: 1.0000\n",
      "Epoch 38/250\n"
     ]
    },
    {
     "name": "stderr",
     "output_type": "stream",
     "text": [
      "Training: 100%|██████████| 7/7 [00:00<00:00, 209.58it/s]\n",
      "Evaluating: 100%|██████████| 2/2 [00:00<00:00, 118.07it/s]\n"
     ]
    },
    {
     "name": "stdout",
     "output_type": "stream",
     "text": [
      "Training loss: 0.0320, Training accuracy: 0.9951\n",
      "Test loss: 0.0445, Test accuracy: 1.0000\n",
      "Epoch 39/250\n"
     ]
    },
    {
     "name": "stderr",
     "output_type": "stream",
     "text": [
      "Training: 100%|██████████| 7/7 [00:00<00:00, 211.43it/s]\n",
      "Evaluating: 100%|██████████| 2/2 [00:00<00:00, 120.97it/s]\n"
     ]
    },
    {
     "name": "stdout",
     "output_type": "stream",
     "text": [
      "Training loss: 0.0342, Training accuracy: 0.9951\n",
      "Test loss: 0.0442, Test accuracy: 1.0000\n",
      "Epoch 40/250\n"
     ]
    },
    {
     "name": "stderr",
     "output_type": "stream",
     "text": [
      "Training: 100%|██████████| 7/7 [00:00<00:00, 210.08it/s]\n",
      "Evaluating: 100%|██████████| 2/2 [00:00<?, ?it/s]\n"
     ]
    },
    {
     "name": "stdout",
     "output_type": "stream",
     "text": [
      "Training loss: 0.0323, Training accuracy: 0.9951\n",
      "Test loss: 0.0439, Test accuracy: 1.0000\n",
      "Epoch 41/250\n"
     ]
    },
    {
     "name": "stderr",
     "output_type": "stream",
     "text": [
      "Training: 100%|██████████| 7/7 [00:00<00:00, 140.24it/s]\n",
      "Evaluating: 100%|██████████| 2/2 [00:00<?, ?it/s]\n"
     ]
    },
    {
     "name": "stdout",
     "output_type": "stream",
     "text": [
      "Training loss: 0.0318, Training accuracy: 0.9951\n",
      "Test loss: 0.0439, Test accuracy: 1.0000\n",
      "Epoch 42/250\n"
     ]
    },
    {
     "name": "stderr",
     "output_type": "stream",
     "text": [
      "Training: 100%|██████████| 7/7 [00:00<00:00, 205.93it/s]\n",
      "Evaluating: 100%|██████████| 2/2 [00:00<00:00, 126.32it/s]\n"
     ]
    },
    {
     "name": "stdout",
     "output_type": "stream",
     "text": [
      "Training loss: 0.0334, Training accuracy: 0.9951\n",
      "Test loss: 0.0439, Test accuracy: 1.0000\n",
      "Epoch 43/250\n"
     ]
    },
    {
     "name": "stderr",
     "output_type": "stream",
     "text": [
      "Training: 100%|██████████| 7/7 [00:00<00:00, 209.42it/s]\n",
      "Evaluating: 100%|██████████| 2/2 [00:00<00:00, 116.09it/s]\n"
     ]
    },
    {
     "name": "stdout",
     "output_type": "stream",
     "text": [
      "Training loss: 0.0337, Training accuracy: 0.9951\n",
      "Test loss: 0.0438, Test accuracy: 1.0000\n",
      "Epoch 44/250\n"
     ]
    },
    {
     "name": "stderr",
     "output_type": "stream",
     "text": [
      "Training: 100%|██████████| 7/7 [00:00<00:00, 207.21it/s]\n",
      "Evaluating: 100%|██████████| 2/2 [00:00<?, ?it/s]\n"
     ]
    },
    {
     "name": "stdout",
     "output_type": "stream",
     "text": [
      "Training loss: 0.0330, Training accuracy: 0.9951\n",
      "Test loss: 0.0439, Test accuracy: 1.0000\n",
      "Epoch 45/250\n"
     ]
    },
    {
     "name": "stderr",
     "output_type": "stream",
     "text": [
      "Training: 100%|██████████| 7/7 [00:00<00:00, 142.51it/s]\n",
      "Evaluating: 100%|██████████| 2/2 [00:00<?, ?it/s]\n"
     ]
    },
    {
     "name": "stdout",
     "output_type": "stream",
     "text": [
      "Training loss: 0.0313, Training accuracy: 0.9951\n",
      "Test loss: 0.0436, Test accuracy: 1.0000\n",
      "Epoch 46/250\n"
     ]
    },
    {
     "name": "stderr",
     "output_type": "stream",
     "text": [
      "Training: 100%|██████████| 7/7 [00:00<00:00, 206.81it/s]\n",
      "Evaluating: 100%|██████████| 2/2 [00:00<00:00, 123.93it/s]\n"
     ]
    },
    {
     "name": "stdout",
     "output_type": "stream",
     "text": [
      "Training loss: 0.0368, Training accuracy: 0.9951\n",
      "Test loss: 0.0434, Test accuracy: 0.9903\n",
      "Epoch 47/250\n"
     ]
    },
    {
     "name": "stderr",
     "output_type": "stream",
     "text": [
      "Training: 100%|██████████| 7/7 [00:00<00:00, 201.75it/s]\n",
      "Evaluating: 100%|██████████| 2/2 [00:00<00:00, 129.90it/s]\n"
     ]
    },
    {
     "name": "stdout",
     "output_type": "stream",
     "text": [
      "Training loss: 0.0328, Training accuracy: 0.9951\n",
      "Test loss: 0.0435, Test accuracy: 1.0000\n",
      "Epoch 48/250\n"
     ]
    },
    {
     "name": "stderr",
     "output_type": "stream",
     "text": [
      "Training: 100%|██████████| 7/7 [00:00<00:00, 170.55it/s]\n",
      "Evaluating: 100%|██████████| 2/2 [00:00<00:00, 259.50it/s]\n"
     ]
    },
    {
     "name": "stdout",
     "output_type": "stream",
     "text": [
      "Training loss: 0.0324, Training accuracy: 0.9951\n",
      "Test loss: 0.0436, Test accuracy: 1.0000\n",
      "Epoch 49/250\n"
     ]
    },
    {
     "name": "stderr",
     "output_type": "stream",
     "text": [
      "Training: 100%|██████████| 7/7 [00:00<00:00, 209.60it/s]\n",
      "Evaluating: 100%|██████████| 2/2 [00:00<?, ?it/s]\n"
     ]
    },
    {
     "name": "stdout",
     "output_type": "stream",
     "text": [
      "Training loss: 0.0324, Training accuracy: 0.9951\n",
      "Test loss: 0.0435, Test accuracy: 1.0000\n",
      "Epoch 50/250\n"
     ]
    },
    {
     "name": "stderr",
     "output_type": "stream",
     "text": [
      "Training: 100%|██████████| 7/7 [00:00<00:00, 203.15it/s]\n",
      "Evaluating: 100%|██████████| 2/2 [00:00<?, ?it/s]\n"
     ]
    },
    {
     "name": "stdout",
     "output_type": "stream",
     "text": [
      "Training loss: 0.0321, Training accuracy: 0.9951\n",
      "Test loss: 0.0433, Test accuracy: 0.9903\n",
      "Epoch 51/250\n"
     ]
    },
    {
     "name": "stderr",
     "output_type": "stream",
     "text": [
      "Training: 100%|██████████| 7/7 [00:00<00:00, 211.31it/s]\n",
      "Evaluating: 100%|██████████| 2/2 [00:00<00:00, 111.79it/s]\n"
     ]
    },
    {
     "name": "stdout",
     "output_type": "stream",
     "text": [
      "Training loss: 0.0321, Training accuracy: 0.9951\n",
      "Test loss: 0.0431, Test accuracy: 0.9903\n",
      "Epoch 52/250\n"
     ]
    },
    {
     "name": "stderr",
     "output_type": "stream",
     "text": [
      "Training: 100%|██████████| 7/7 [00:00<00:00, 216.92it/s]\n",
      "Evaluating: 100%|██████████| 2/2 [00:00<00:00, 113.43it/s]\n"
     ]
    },
    {
     "name": "stdout",
     "output_type": "stream",
     "text": [
      "Training loss: 0.0323, Training accuracy: 0.9951\n",
      "Test loss: 0.0431, Test accuracy: 0.9903\n",
      "Epoch 53/250\n"
     ]
    },
    {
     "name": "stderr",
     "output_type": "stream",
     "text": [
      "Training: 100%|██████████| 7/7 [00:00<00:00, 210.63it/s]\n",
      "Evaluating: 100%|██████████| 2/2 [00:00<?, ?it/s]\n"
     ]
    },
    {
     "name": "stdout",
     "output_type": "stream",
     "text": [
      "Training loss: 0.0319, Training accuracy: 0.9951\n",
      "Test loss: 0.0434, Test accuracy: 1.0000\n",
      "Epoch 54/250\n"
     ]
    },
    {
     "name": "stderr",
     "output_type": "stream",
     "text": [
      "Training: 100%|██████████| 7/7 [00:00<00:00, 142.96it/s]\n",
      "Evaluating: 100%|██████████| 2/2 [00:00<?, ?it/s]\n"
     ]
    },
    {
     "name": "stdout",
     "output_type": "stream",
     "text": [
      "Training loss: 0.0317, Training accuracy: 0.9951\n",
      "Test loss: 0.0432, Test accuracy: 0.9903\n",
      "Epoch 55/250\n"
     ]
    },
    {
     "name": "stderr",
     "output_type": "stream",
     "text": [
      "Training: 100%|██████████| 7/7 [00:00<00:00, 212.59it/s]\n",
      "Evaluating: 100%|██████████| 2/2 [00:00<00:00, 124.37it/s]\n"
     ]
    },
    {
     "name": "stdout",
     "output_type": "stream",
     "text": [
      "Training loss: 0.0341, Training accuracy: 0.9951\n",
      "Test loss: 0.0432, Test accuracy: 0.9903\n",
      "Epoch 56/250\n"
     ]
    },
    {
     "name": "stderr",
     "output_type": "stream",
     "text": [
      "Training: 100%|██████████| 7/7 [00:00<00:00, 204.04it/s]\n",
      "Evaluating: 100%|██████████| 2/2 [00:00<00:00, 133.10it/s]\n"
     ]
    },
    {
     "name": "stdout",
     "output_type": "stream",
     "text": [
      "Training loss: 0.0325, Training accuracy: 0.9951\n",
      "Test loss: 0.0433, Test accuracy: 1.0000\n",
      "Epoch 57/250\n"
     ]
    },
    {
     "name": "stderr",
     "output_type": "stream",
     "text": [
      "Training: 100%|██████████| 7/7 [00:00<00:00, 209.08it/s]\n",
      "Evaluating: 100%|██████████| 2/2 [00:00<?, ?it/s]\n"
     ]
    },
    {
     "name": "stdout",
     "output_type": "stream",
     "text": [
      "Training loss: 0.0338, Training accuracy: 0.9951\n",
      "Test loss: 0.0437, Test accuracy: 1.0000\n",
      "Epoch 58/250\n"
     ]
    },
    {
     "name": "stderr",
     "output_type": "stream",
     "text": [
      "Training: 100%|██████████| 7/7 [00:00<00:00, 139.46it/s]\n",
      "Evaluating: 100%|██████████| 2/2 [00:00<?, ?it/s]\n"
     ]
    },
    {
     "name": "stdout",
     "output_type": "stream",
     "text": [
      "Training loss: 0.0322, Training accuracy: 0.9951\n",
      "Test loss: 0.0441, Test accuracy: 1.0000\n",
      "Epoch 59/250\n"
     ]
    },
    {
     "name": "stderr",
     "output_type": "stream",
     "text": [
      "Training: 100%|██████████| 7/7 [00:00<00:00, 210.86it/s]\n",
      "Evaluating: 100%|██████████| 2/2 [00:00<00:00, 118.38it/s]\n"
     ]
    },
    {
     "name": "stdout",
     "output_type": "stream",
     "text": [
      "Training loss: 0.0316, Training accuracy: 0.9951\n",
      "Test loss: 0.0438, Test accuracy: 1.0000\n",
      "Epoch 60/250\n"
     ]
    },
    {
     "name": "stderr",
     "output_type": "stream",
     "text": [
      "Training: 100%|██████████| 7/7 [00:00<00:00, 212.04it/s]\n",
      "Evaluating: 100%|██████████| 2/2 [00:00<00:00, 114.23it/s]\n"
     ]
    },
    {
     "name": "stdout",
     "output_type": "stream",
     "text": [
      "Training loss: 0.0314, Training accuracy: 0.9951\n",
      "Test loss: 0.0435, Test accuracy: 1.0000\n",
      "Epoch 61/250\n"
     ]
    },
    {
     "name": "stderr",
     "output_type": "stream",
     "text": [
      "Training: 100%|██████████| 7/7 [00:00<00:00, 215.60it/s]\n",
      "Evaluating: 100%|██████████| 2/2 [00:00<?, ?it/s]\n"
     ]
    },
    {
     "name": "stdout",
     "output_type": "stream",
     "text": [
      "Training loss: 0.0308, Training accuracy: 0.9951\n",
      "Test loss: 0.0438, Test accuracy: 1.0000\n",
      "Epoch 62/250\n"
     ]
    },
    {
     "name": "stderr",
     "output_type": "stream",
     "text": [
      "Training: 100%|██████████| 7/7 [00:00<00:00, 139.44it/s]\n",
      "Evaluating: 100%|██████████| 2/2 [00:00<?, ?it/s]\n"
     ]
    },
    {
     "name": "stdout",
     "output_type": "stream",
     "text": [
      "Training loss: 0.0305, Training accuracy: 0.9951\n",
      "Test loss: 0.0435, Test accuracy: 1.0000\n",
      "Epoch 63/250\n"
     ]
    },
    {
     "name": "stderr",
     "output_type": "stream",
     "text": [
      "Training: 100%|██████████| 7/7 [00:00<00:00, 210.34it/s]\n",
      "Evaluating: 100%|██████████| 2/2 [00:00<00:00, 120.91it/s]\n"
     ]
    },
    {
     "name": "stdout",
     "output_type": "stream",
     "text": [
      "Training loss: 0.0324, Training accuracy: 0.9951\n",
      "Test loss: 0.0435, Test accuracy: 1.0000\n",
      "Epoch 64/250\n"
     ]
    },
    {
     "name": "stderr",
     "output_type": "stream",
     "text": [
      "Training: 100%|██████████| 7/7 [00:00<00:00, 209.35it/s]\n",
      "Evaluating: 100%|██████████| 2/2 [00:00<00:00, 116.62it/s]\n"
     ]
    },
    {
     "name": "stdout",
     "output_type": "stream",
     "text": [
      "Training loss: 0.0325, Training accuracy: 0.9951\n",
      "Test loss: 0.0435, Test accuracy: 1.0000\n",
      "Epoch 65/250\n"
     ]
    },
    {
     "name": "stderr",
     "output_type": "stream",
     "text": [
      "Training: 100%|██████████| 7/7 [00:00<00:00, 209.54it/s]\n",
      "Evaluating: 100%|██████████| 2/2 [00:00<?, ?it/s]\n"
     ]
    },
    {
     "name": "stdout",
     "output_type": "stream",
     "text": [
      "Training loss: 0.0320, Training accuracy: 0.9951\n",
      "Test loss: 0.0437, Test accuracy: 1.0000\n",
      "Epoch 66/250\n"
     ]
    },
    {
     "name": "stderr",
     "output_type": "stream",
     "text": [
      "Training: 100%|██████████| 7/7 [00:00<00:00, 142.40it/s]\n",
      "Evaluating: 100%|██████████| 2/2 [00:00<?, ?it/s]\n"
     ]
    },
    {
     "name": "stdout",
     "output_type": "stream",
     "text": [
      "Training loss: 0.0322, Training accuracy: 0.9951\n",
      "Test loss: 0.0436, Test accuracy: 1.0000\n",
      "Epoch 67/250\n"
     ]
    },
    {
     "name": "stderr",
     "output_type": "stream",
     "text": [
      "Training: 100%|██████████| 7/7 [00:00<00:00, 206.61it/s]\n",
      "Evaluating: 100%|██████████| 2/2 [00:00<00:00, 125.04it/s]\n"
     ]
    },
    {
     "name": "stdout",
     "output_type": "stream",
     "text": [
      "Training loss: 0.0355, Training accuracy: 0.9951\n",
      "Test loss: 0.0434, Test accuracy: 1.0000\n",
      "Epoch 68/250\n"
     ]
    },
    {
     "name": "stderr",
     "output_type": "stream",
     "text": [
      "Training: 100%|██████████| 7/7 [00:00<00:00, 209.79it/s]\n",
      "Evaluating: 100%|██████████| 2/2 [00:00<00:00, 120.83it/s]\n"
     ]
    },
    {
     "name": "stdout",
     "output_type": "stream",
     "text": [
      "Training loss: 0.0307, Training accuracy: 0.9951\n",
      "Test loss: 0.0438, Test accuracy: 1.0000\n",
      "Epoch 69/250\n"
     ]
    },
    {
     "name": "stderr",
     "output_type": "stream",
     "text": [
      "Training: 100%|██████████| 7/7 [00:00<00:00, 204.00it/s]\n",
      "Evaluating: 100%|██████████| 2/2 [00:00<?, ?it/s]\n"
     ]
    },
    {
     "name": "stdout",
     "output_type": "stream",
     "text": [
      "Training loss: 0.0322, Training accuracy: 0.9951\n",
      "Test loss: 0.0440, Test accuracy: 1.0000\n",
      "Epoch 70/250\n"
     ]
    },
    {
     "name": "stderr",
     "output_type": "stream",
     "text": [
      "Training: 100%|██████████| 7/7 [00:00<00:00, 140.97it/s]\n",
      "Evaluating: 100%|██████████| 2/2 [00:00<?, ?it/s]\n"
     ]
    },
    {
     "name": "stdout",
     "output_type": "stream",
     "text": [
      "Training loss: 0.0309, Training accuracy: 0.9951\n",
      "Test loss: 0.0435, Test accuracy: 1.0000\n",
      "Epoch 71/250\n"
     ]
    },
    {
     "name": "stderr",
     "output_type": "stream",
     "text": [
      "Training: 100%|██████████| 7/7 [00:00<00:00, 208.63it/s]\n",
      "Evaluating: 100%|██████████| 2/2 [00:00<00:00, 122.79it/s]\n"
     ]
    },
    {
     "name": "stdout",
     "output_type": "stream",
     "text": [
      "Training loss: 0.0351, Training accuracy: 0.9951\n",
      "Test loss: 0.0430, Test accuracy: 1.0000\n",
      "Epoch 72/250\n"
     ]
    },
    {
     "name": "stderr",
     "output_type": "stream",
     "text": [
      "Training: 100%|██████████| 7/7 [00:00<00:00, 211.43it/s]\n",
      "Evaluating: 100%|██████████| 2/2 [00:00<00:00, 124.17it/s]\n"
     ]
    },
    {
     "name": "stdout",
     "output_type": "stream",
     "text": [
      "Training loss: 0.0316, Training accuracy: 0.9951\n",
      "Test loss: 0.0433, Test accuracy: 1.0000\n",
      "Epoch 73/250\n"
     ]
    },
    {
     "name": "stderr",
     "output_type": "stream",
     "text": [
      "Training: 100%|██████████| 7/7 [00:00<00:00, 209.56it/s]\n",
      "Evaluating: 100%|██████████| 2/2 [00:00<?, ?it/s]\n"
     ]
    },
    {
     "name": "stdout",
     "output_type": "stream",
     "text": [
      "Training loss: 0.0313, Training accuracy: 0.9951\n",
      "Test loss: 0.0433, Test accuracy: 1.0000\n",
      "Epoch 74/250\n"
     ]
    },
    {
     "name": "stderr",
     "output_type": "stream",
     "text": [
      "Training: 100%|██████████| 7/7 [00:00<00:00, 209.39it/s]\n",
      "Evaluating: 100%|██████████| 2/2 [00:00<?, ?it/s]\n"
     ]
    },
    {
     "name": "stdout",
     "output_type": "stream",
     "text": [
      "Training loss: 0.0307, Training accuracy: 0.9951\n",
      "Test loss: 0.0435, Test accuracy: 1.0000\n",
      "Epoch 75/250\n"
     ]
    },
    {
     "name": "stderr",
     "output_type": "stream",
     "text": [
      "Training: 100%|██████████| 7/7 [00:00<00:00, 204.55it/s]\n",
      "Evaluating: 100%|██████████| 2/2 [00:00<00:00, 126.34it/s]\n"
     ]
    },
    {
     "name": "stdout",
     "output_type": "stream",
     "text": [
      "Training loss: 0.0316, Training accuracy: 0.9951\n",
      "Test loss: 0.0435, Test accuracy: 1.0000\n",
      "Epoch 76/250\n"
     ]
    },
    {
     "name": "stderr",
     "output_type": "stream",
     "text": [
      "Training: 100%|██████████| 7/7 [00:00<00:00, 203.64it/s]\n",
      "Evaluating: 100%|██████████| 2/2 [00:00<?, ?it/s]\n"
     ]
    },
    {
     "name": "stdout",
     "output_type": "stream",
     "text": [
      "Training loss: 0.0312, Training accuracy: 0.9951\n",
      "Test loss: 0.0430, Test accuracy: 1.0000\n",
      "Epoch 77/250\n"
     ]
    },
    {
     "name": "stderr",
     "output_type": "stream",
     "text": [
      "Training: 100%|██████████| 7/7 [00:00<00:00, 141.63it/s]\n",
      "Evaluating: 100%|██████████| 2/2 [00:00<?, ?it/s]\n"
     ]
    },
    {
     "name": "stdout",
     "output_type": "stream",
     "text": [
      "Training loss: 0.0307, Training accuracy: 0.9951\n",
      "Test loss: 0.0427, Test accuracy: 1.0000\n",
      "Epoch 78/250\n"
     ]
    },
    {
     "name": "stderr",
     "output_type": "stream",
     "text": [
      "Training: 100%|██████████| 7/7 [00:00<00:00, 211.28it/s]\n",
      "Evaluating: 100%|██████████| 2/2 [00:00<00:00, 124.57it/s]\n"
     ]
    },
    {
     "name": "stdout",
     "output_type": "stream",
     "text": [
      "Training loss: 0.0319, Training accuracy: 0.9951\n",
      "Test loss: 0.0429, Test accuracy: 1.0000\n",
      "Epoch 79/250\n"
     ]
    },
    {
     "name": "stderr",
     "output_type": "stream",
     "text": [
      "Training: 100%|██████████| 7/7 [00:00<00:00, 209.48it/s]\n",
      "Evaluating: 100%|██████████| 2/2 [00:00<00:00, 124.33it/s]\n"
     ]
    },
    {
     "name": "stdout",
     "output_type": "stream",
     "text": [
      "Training loss: 0.0329, Training accuracy: 0.9951\n",
      "Test loss: 0.0433, Test accuracy: 1.0000\n",
      "Epoch 80/250\n"
     ]
    },
    {
     "name": "stderr",
     "output_type": "stream",
     "text": [
      "Training: 100%|██████████| 7/7 [00:00<00:00, 207.85it/s]\n",
      "Evaluating: 100%|██████████| 2/2 [00:00<?, ?it/s]\n"
     ]
    },
    {
     "name": "stdout",
     "output_type": "stream",
     "text": [
      "Training loss: 0.0303, Training accuracy: 0.9951\n",
      "Test loss: 0.0435, Test accuracy: 1.0000\n",
      "Epoch 81/250\n"
     ]
    },
    {
     "name": "stderr",
     "output_type": "stream",
     "text": [
      "Training: 100%|██████████| 7/7 [00:00<00:00, 139.53it/s]\n",
      "Evaluating: 100%|██████████| 2/2 [00:00<?, ?it/s]\n"
     ]
    },
    {
     "name": "stdout",
     "output_type": "stream",
     "text": [
      "Training loss: 0.0319, Training accuracy: 0.9951\n",
      "Test loss: 0.0433, Test accuracy: 1.0000\n",
      "Epoch 82/250\n"
     ]
    },
    {
     "name": "stderr",
     "output_type": "stream",
     "text": [
      "Training: 100%|██████████| 7/7 [00:00<00:00, 211.79it/s]\n",
      "Evaluating: 100%|██████████| 2/2 [00:00<00:00, 120.04it/s]\n"
     ]
    },
    {
     "name": "stdout",
     "output_type": "stream",
     "text": [
      "Training loss: 0.0308, Training accuracy: 0.9951\n",
      "Test loss: 0.0436, Test accuracy: 1.0000\n",
      "Epoch 83/250\n"
     ]
    },
    {
     "name": "stderr",
     "output_type": "stream",
     "text": [
      "Training: 100%|██████████| 7/7 [00:00<00:00, 209.91it/s]\n",
      "Evaluating: 100%|██████████| 2/2 [00:00<00:00, 122.97it/s]\n"
     ]
    },
    {
     "name": "stdout",
     "output_type": "stream",
     "text": [
      "Training loss: 0.0319, Training accuracy: 0.9951\n",
      "Test loss: 0.0433, Test accuracy: 1.0000\n",
      "Epoch 84/250\n"
     ]
    },
    {
     "name": "stderr",
     "output_type": "stream",
     "text": [
      "Training: 100%|██████████| 7/7 [00:00<00:00, 208.78it/s]\n",
      "Evaluating: 100%|██████████| 2/2 [00:00<?, ?it/s]\n"
     ]
    },
    {
     "name": "stdout",
     "output_type": "stream",
     "text": [
      "Training loss: 0.0310, Training accuracy: 0.9951\n",
      "Test loss: 0.0436, Test accuracy: 1.0000\n",
      "Epoch 85/250\n"
     ]
    },
    {
     "name": "stderr",
     "output_type": "stream",
     "text": [
      "Training: 100%|██████████| 7/7 [00:00<00:00, 140.14it/s]\n",
      "Evaluating: 100%|██████████| 2/2 [00:00<?, ?it/s]\n"
     ]
    },
    {
     "name": "stdout",
     "output_type": "stream",
     "text": [
      "Training loss: 0.0314, Training accuracy: 0.9951\n",
      "Test loss: 0.0434, Test accuracy: 1.0000\n",
      "Epoch 86/250\n"
     ]
    },
    {
     "name": "stderr",
     "output_type": "stream",
     "text": [
      "Training: 100%|██████████| 7/7 [00:00<00:00, 210.69it/s]\n",
      "Evaluating: 100%|██████████| 2/2 [00:00<00:00, 119.03it/s]\n"
     ]
    },
    {
     "name": "stdout",
     "output_type": "stream",
     "text": [
      "Training loss: 0.0332, Training accuracy: 0.9951\n",
      "Test loss: 0.0430, Test accuracy: 1.0000\n",
      "Epoch 87/250\n"
     ]
    },
    {
     "name": "stderr",
     "output_type": "stream",
     "text": [
      "Training: 100%|██████████| 7/7 [00:00<00:00, 208.84it/s]\n",
      "Evaluating: 100%|██████████| 2/2 [00:00<00:00, 125.23it/s]\n"
     ]
    },
    {
     "name": "stdout",
     "output_type": "stream",
     "text": [
      "Training loss: 0.0308, Training accuracy: 0.9951\n",
      "Test loss: 0.0432, Test accuracy: 1.0000\n",
      "Epoch 88/250\n"
     ]
    },
    {
     "name": "stderr",
     "output_type": "stream",
     "text": [
      "Training: 100%|██████████| 7/7 [00:00<00:00, 200.88it/s]\n",
      "Evaluating: 100%|██████████| 2/2 [00:00<?, ?it/s]\n"
     ]
    },
    {
     "name": "stdout",
     "output_type": "stream",
     "text": [
      "Training loss: 0.0305, Training accuracy: 0.9951\n",
      "Test loss: 0.0432, Test accuracy: 1.0000\n",
      "Epoch 89/250\n"
     ]
    },
    {
     "name": "stderr",
     "output_type": "stream",
     "text": [
      "Training: 100%|██████████| 7/7 [00:00<00:00, 213.43it/s]\n",
      "Evaluating: 100%|██████████| 2/2 [00:00<00:00, 124.29it/s]\n"
     ]
    },
    {
     "name": "stdout",
     "output_type": "stream",
     "text": [
      "Training loss: 0.0332, Training accuracy: 0.9951\n",
      "Test loss: 0.0426, Test accuracy: 1.0000\n",
      "Epoch 90/250\n"
     ]
    },
    {
     "name": "stderr",
     "output_type": "stream",
     "text": [
      "Training: 100%|██████████| 7/7 [00:00<00:00, 198.97it/s]\n",
      "Evaluating: 100%|██████████| 2/2 [00:00<00:00, 134.25it/s]\n"
     ]
    },
    {
     "name": "stdout",
     "output_type": "stream",
     "text": [
      "Training loss: 0.0305, Training accuracy: 0.9951\n",
      "Test loss: 0.0428, Test accuracy: 1.0000\n",
      "Epoch 91/250\n"
     ]
    },
    {
     "name": "stderr",
     "output_type": "stream",
     "text": [
      "Training: 100%|██████████| 7/7 [00:00<00:00, 212.47it/s]\n",
      "Evaluating: 100%|██████████| 2/2 [00:00<00:00, 120.24it/s]\n"
     ]
    },
    {
     "name": "stdout",
     "output_type": "stream",
     "text": [
      "Training loss: 0.0314, Training accuracy: 0.9951\n",
      "Test loss: 0.0430, Test accuracy: 1.0000\n",
      "Epoch 92/250\n"
     ]
    },
    {
     "name": "stderr",
     "output_type": "stream",
     "text": [
      "Training: 100%|██████████| 7/7 [00:00<00:00, 208.61it/s]\n",
      "Evaluating: 100%|██████████| 2/2 [00:00<?, ?it/s]\n"
     ]
    },
    {
     "name": "stdout",
     "output_type": "stream",
     "text": [
      "Training loss: 0.0320, Training accuracy: 0.9951\n",
      "Test loss: 0.0428, Test accuracy: 1.0000\n",
      "Epoch 93/250\n"
     ]
    },
    {
     "name": "stderr",
     "output_type": "stream",
     "text": [
      "Training: 100%|██████████| 7/7 [00:00<00:00, 140.58it/s]\n",
      "Evaluating: 100%|██████████| 2/2 [00:00<?, ?it/s]\n"
     ]
    },
    {
     "name": "stdout",
     "output_type": "stream",
     "text": [
      "Training loss: 0.0312, Training accuracy: 0.9951\n",
      "Test loss: 0.0426, Test accuracy: 1.0000\n",
      "Epoch 94/250\n"
     ]
    },
    {
     "name": "stderr",
     "output_type": "stream",
     "text": [
      "Training: 100%|██████████| 7/7 [00:00<00:00, 210.21it/s]\n",
      "Evaluating: 100%|██████████| 2/2 [00:00<00:00, 118.53it/s]\n"
     ]
    },
    {
     "name": "stdout",
     "output_type": "stream",
     "text": [
      "Training loss: 0.0309, Training accuracy: 0.9951\n",
      "Test loss: 0.0428, Test accuracy: 1.0000\n",
      "Epoch 95/250\n"
     ]
    },
    {
     "name": "stderr",
     "output_type": "stream",
     "text": [
      "Training: 100%|██████████| 7/7 [00:00<00:00, 210.99it/s]\n",
      "Evaluating: 100%|██████████| 2/2 [00:00<00:00, 109.44it/s]\n"
     ]
    },
    {
     "name": "stdout",
     "output_type": "stream",
     "text": [
      "Training loss: 0.0315, Training accuracy: 0.9951\n",
      "Test loss: 0.0427, Test accuracy: 1.0000\n",
      "Epoch 96/250\n"
     ]
    },
    {
     "name": "stderr",
     "output_type": "stream",
     "text": [
      "Training: 100%|██████████| 7/7 [00:00<00:00, 233.11it/s]\n",
      "Evaluating: 100%|██████████| 2/2 [00:00<?, ?it/s]\n"
     ]
    },
    {
     "name": "stdout",
     "output_type": "stream",
     "text": [
      "Training loss: 0.0313, Training accuracy: 0.9951\n",
      "Test loss: 0.0431, Test accuracy: 1.0000\n",
      "Epoch 97/250\n"
     ]
    },
    {
     "name": "stderr",
     "output_type": "stream",
     "text": [
      "Training: 100%|██████████| 7/7 [00:00<00:00, 207.82it/s]\n",
      "Evaluating: 100%|██████████| 2/2 [00:00<?, ?it/s]\n"
     ]
    },
    {
     "name": "stdout",
     "output_type": "stream",
     "text": [
      "Training loss: 0.0311, Training accuracy: 0.9951\n",
      "Test loss: 0.0430, Test accuracy: 1.0000\n",
      "Epoch 98/250\n"
     ]
    },
    {
     "name": "stderr",
     "output_type": "stream",
     "text": [
      "Training: 100%|██████████| 7/7 [00:00<00:00, 208.46it/s]\n",
      "Evaluating: 100%|██████████| 2/2 [00:00<00:00, 124.29it/s]\n"
     ]
    },
    {
     "name": "stdout",
     "output_type": "stream",
     "text": [
      "Training loss: 0.0305, Training accuracy: 0.9951\n",
      "Test loss: 0.0429, Test accuracy: 1.0000\n",
      "Epoch 99/250\n"
     ]
    },
    {
     "name": "stderr",
     "output_type": "stream",
     "text": [
      "Training: 100%|██████████| 7/7 [00:00<00:00, 210.97it/s]\n",
      "Evaluating: 100%|██████████| 2/2 [00:00<00:00, 123.39it/s]\n"
     ]
    },
    {
     "name": "stdout",
     "output_type": "stream",
     "text": [
      "Training loss: 0.0316, Training accuracy: 0.9951\n",
      "Test loss: 0.0425, Test accuracy: 1.0000\n",
      "Epoch 100/250\n"
     ]
    },
    {
     "name": "stderr",
     "output_type": "stream",
     "text": [
      "Training: 100%|██████████| 7/7 [00:00<00:00, 209.72it/s]\n",
      "Evaluating: 100%|██████████| 2/2 [00:00<?, ?it/s]\n"
     ]
    },
    {
     "name": "stdout",
     "output_type": "stream",
     "text": [
      "Training loss: 0.0361, Training accuracy: 0.9951\n",
      "Test loss: 0.0422, Test accuracy: 1.0000\n",
      "Epoch 101/250\n"
     ]
    },
    {
     "name": "stderr",
     "output_type": "stream",
     "text": [
      "Training: 100%|██████████| 7/7 [00:00<00:00, 205.29it/s]\n",
      "Evaluating: 100%|██████████| 2/2 [00:00<00:00, 124.84it/s]\n"
     ]
    },
    {
     "name": "stdout",
     "output_type": "stream",
     "text": [
      "Training loss: 0.0311, Training accuracy: 0.9951\n",
      "Test loss: 0.0436, Test accuracy: 1.0000\n",
      "Epoch 102/250\n"
     ]
    },
    {
     "name": "stderr",
     "output_type": "stream",
     "text": [
      "Training: 100%|██████████| 7/7 [00:00<00:00, 212.56it/s]\n",
      "Evaluating: 100%|██████████| 2/2 [00:00<00:00, 118.06it/s]\n"
     ]
    },
    {
     "name": "stdout",
     "output_type": "stream",
     "text": [
      "Training loss: 0.0315, Training accuracy: 0.9951\n",
      "Test loss: 0.0441, Test accuracy: 1.0000\n",
      "Epoch 103/250\n"
     ]
    },
    {
     "name": "stderr",
     "output_type": "stream",
     "text": [
      "Training: 100%|██████████| 7/7 [00:00<00:00, 209.10it/s]\n",
      "Evaluating: 100%|██████████| 2/2 [00:00<?, ?it/s]\n"
     ]
    },
    {
     "name": "stdout",
     "output_type": "stream",
     "text": [
      "Training loss: 0.0301, Training accuracy: 0.9951\n",
      "Test loss: 0.0435, Test accuracy: 1.0000\n",
      "Epoch 104/250\n"
     ]
    },
    {
     "name": "stderr",
     "output_type": "stream",
     "text": [
      "Training: 100%|██████████| 7/7 [00:00<00:00, 141.06it/s]\n",
      "Evaluating: 100%|██████████| 2/2 [00:00<?, ?it/s]\n"
     ]
    },
    {
     "name": "stdout",
     "output_type": "stream",
     "text": [
      "Training loss: 0.0308, Training accuracy: 0.9951\n",
      "Test loss: 0.0425, Test accuracy: 1.0000\n",
      "Epoch 105/250\n"
     ]
    },
    {
     "name": "stderr",
     "output_type": "stream",
     "text": [
      "Training: 100%|██████████| 7/7 [00:00<00:00, 202.61it/s]\n",
      "Evaluating: 100%|██████████| 2/2 [00:00<00:00, 127.24it/s]\n"
     ]
    },
    {
     "name": "stdout",
     "output_type": "stream",
     "text": [
      "Training loss: 0.0342, Training accuracy: 0.9951\n",
      "Test loss: 0.0418, Test accuracy: 1.0000\n",
      "Epoch 106/250\n"
     ]
    },
    {
     "name": "stderr",
     "output_type": "stream",
     "text": [
      "Training: 100%|██████████| 7/7 [00:00<00:00, 209.24it/s]\n",
      "Evaluating: 100%|██████████| 2/2 [00:00<?, ?it/s]\n"
     ]
    },
    {
     "name": "stdout",
     "output_type": "stream",
     "text": [
      "Training loss: 0.0311, Training accuracy: 0.9951\n",
      "Test loss: 0.0423, Test accuracy: 1.0000\n",
      "Epoch 107/250\n"
     ]
    },
    {
     "name": "stderr",
     "output_type": "stream",
     "text": [
      "Training: 100%|██████████| 7/7 [00:00<00:00, 211.07it/s]\n",
      "Evaluating: 100%|██████████| 2/2 [00:00<?, ?it/s]\n"
     ]
    },
    {
     "name": "stdout",
     "output_type": "stream",
     "text": [
      "Training loss: 0.0321, Training accuracy: 0.9951\n",
      "Test loss: 0.0430, Test accuracy: 1.0000\n",
      "Epoch 108/250\n"
     ]
    },
    {
     "name": "stderr",
     "output_type": "stream",
     "text": [
      "Training: 100%|██████████| 7/7 [00:00<00:00, 208.90it/s]\n",
      "Evaluating: 100%|██████████| 2/2 [00:00<00:00, 117.79it/s]\n"
     ]
    },
    {
     "name": "stdout",
     "output_type": "stream",
     "text": [
      "Training loss: 0.0307, Training accuracy: 0.9951\n",
      "Test loss: 0.0431, Test accuracy: 1.0000\n",
      "Epoch 109/250\n"
     ]
    },
    {
     "name": "stderr",
     "output_type": "stream",
     "text": [
      "Training: 100%|██████████| 7/7 [00:00<00:00, 211.79it/s]\n",
      "Evaluating: 100%|██████████| 2/2 [00:00<00:00, 115.09it/s]\n"
     ]
    },
    {
     "name": "stdout",
     "output_type": "stream",
     "text": [
      "Training loss: 0.0294, Training accuracy: 0.9951\n",
      "Test loss: 0.0433, Test accuracy: 1.0000\n",
      "Epoch 110/250\n"
     ]
    },
    {
     "name": "stderr",
     "output_type": "stream",
     "text": [
      "Training: 100%|██████████| 7/7 [00:00<00:00, 205.93it/s]\n",
      "Evaluating: 100%|██████████| 2/2 [00:00<?, ?it/s]\n"
     ]
    },
    {
     "name": "stdout",
     "output_type": "stream",
     "text": [
      "Training loss: 0.0342, Training accuracy: 0.9951\n",
      "Test loss: 0.0431, Test accuracy: 1.0000\n",
      "Epoch 111/250\n"
     ]
    },
    {
     "name": "stderr",
     "output_type": "stream",
     "text": [
      "Training: 100%|██████████| 7/7 [00:00<00:00, 143.05it/s]\n",
      "Evaluating: 100%|██████████| 2/2 [00:00<?, ?it/s]\n"
     ]
    },
    {
     "name": "stdout",
     "output_type": "stream",
     "text": [
      "Training loss: 0.0340, Training accuracy: 0.9951\n",
      "Test loss: 0.0429, Test accuracy: 1.0000\n",
      "Epoch 112/250\n"
     ]
    },
    {
     "name": "stderr",
     "output_type": "stream",
     "text": [
      "Training: 100%|██████████| 7/7 [00:00<00:00, 207.86it/s]\n",
      "Evaluating: 100%|██████████| 2/2 [00:00<00:00, 123.29it/s]\n"
     ]
    },
    {
     "name": "stdout",
     "output_type": "stream",
     "text": [
      "Training loss: 0.0308, Training accuracy: 0.9951\n",
      "Test loss: 0.0424, Test accuracy: 1.0000\n",
      "Epoch 113/250\n"
     ]
    },
    {
     "name": "stderr",
     "output_type": "stream",
     "text": [
      "Training: 100%|██████████| 7/7 [00:00<00:00, 210.40it/s]\n",
      "Evaluating: 100%|██████████| 2/2 [00:00<00:00, 113.08it/s]\n"
     ]
    },
    {
     "name": "stdout",
     "output_type": "stream",
     "text": [
      "Training loss: 0.0310, Training accuracy: 0.9951\n",
      "Test loss: 0.0426, Test accuracy: 1.0000\n",
      "Epoch 114/250\n"
     ]
    },
    {
     "name": "stderr",
     "output_type": "stream",
     "text": [
      "Training: 100%|██████████| 7/7 [00:00<00:00, 137.55it/s]\n",
      "Evaluating: 100%|██████████| 2/2 [00:00<00:00, 138.20it/s]\n"
     ]
    },
    {
     "name": "stdout",
     "output_type": "stream",
     "text": [
      "Training loss: 0.0326, Training accuracy: 0.9951\n",
      "Test loss: 0.0425, Test accuracy: 1.0000\n",
      "Epoch 115/250\n"
     ]
    },
    {
     "name": "stderr",
     "output_type": "stream",
     "text": [
      "Training: 100%|██████████| 7/7 [00:00<00:00, 209.72it/s]\n",
      "Evaluating: 100%|██████████| 2/2 [00:00<?, ?it/s]\n"
     ]
    },
    {
     "name": "stdout",
     "output_type": "stream",
     "text": [
      "Training loss: 0.0377, Training accuracy: 0.9951\n",
      "Test loss: 0.0431, Test accuracy: 1.0000\n",
      "Epoch 116/250\n"
     ]
    },
    {
     "name": "stderr",
     "output_type": "stream",
     "text": [
      "Training: 100%|██████████| 7/7 [00:00<00:00, 139.32it/s]\n",
      "Evaluating: 100%|██████████| 2/2 [00:00<?, ?it/s]\n"
     ]
    },
    {
     "name": "stdout",
     "output_type": "stream",
     "text": [
      "Training loss: 0.0321, Training accuracy: 0.9951\n",
      "Test loss: 0.0442, Test accuracy: 1.0000\n",
      "Epoch 117/250\n"
     ]
    },
    {
     "name": "stderr",
     "output_type": "stream",
     "text": [
      "Training: 100%|██████████| 7/7 [00:00<00:00, 205.59it/s]\n",
      "Evaluating: 100%|██████████| 2/2 [00:00<00:00, 124.06it/s]\n"
     ]
    },
    {
     "name": "stdout",
     "output_type": "stream",
     "text": [
      "Training loss: 0.0304, Training accuracy: 0.9951\n",
      "Test loss: 0.0437, Test accuracy: 1.0000\n",
      "Epoch 118/250\n"
     ]
    },
    {
     "name": "stderr",
     "output_type": "stream",
     "text": [
      "Training: 100%|██████████| 7/7 [00:00<00:00, 201.86it/s]\n",
      "Evaluating: 100%|██████████| 2/2 [00:00<00:00, 135.67it/s]\n"
     ]
    },
    {
     "name": "stdout",
     "output_type": "stream",
     "text": [
      "Training loss: 0.0326, Training accuracy: 0.9951\n",
      "Test loss: 0.0428, Test accuracy: 1.0000\n",
      "Epoch 119/250\n"
     ]
    },
    {
     "name": "stderr",
     "output_type": "stream",
     "text": [
      "Training: 100%|██████████| 7/7 [00:00<00:00, 207.48it/s]\n",
      "Evaluating: 100%|██████████| 2/2 [00:00<?, ?it/s]\n"
     ]
    },
    {
     "name": "stdout",
     "output_type": "stream",
     "text": [
      "Training loss: 0.0299, Training accuracy: 0.9951\n",
      "Test loss: 0.0426, Test accuracy: 1.0000\n",
      "Epoch 120/250\n"
     ]
    },
    {
     "name": "stderr",
     "output_type": "stream",
     "text": [
      "Training: 100%|██████████| 7/7 [00:00<00:00, 210.32it/s]\n",
      "Evaluating: 100%|██████████| 2/2 [00:00<?, ?it/s]\n"
     ]
    },
    {
     "name": "stdout",
     "output_type": "stream",
     "text": [
      "Training loss: 0.0293, Training accuracy: 0.9951\n",
      "Test loss: 0.0421, Test accuracy: 1.0000\n",
      "Epoch 121/250\n"
     ]
    },
    {
     "name": "stderr",
     "output_type": "stream",
     "text": [
      "Training: 100%|██████████| 7/7 [00:00<00:00, 203.00it/s]\n",
      "Evaluating: 100%|██████████| 2/2 [00:00<?, ?it/s]\n"
     ]
    },
    {
     "name": "stdout",
     "output_type": "stream",
     "text": [
      "Training loss: 0.0297, Training accuracy: 0.9951\n",
      "Test loss: 0.0419, Test accuracy: 1.0000\n",
      "Epoch 122/250\n"
     ]
    },
    {
     "name": "stderr",
     "output_type": "stream",
     "text": [
      "Training: 100%|██████████| 7/7 [00:00<00:00, 209.74it/s]\n",
      "Evaluating: 100%|██████████| 2/2 [00:00<00:00, 120.73it/s]\n"
     ]
    },
    {
     "name": "stdout",
     "output_type": "stream",
     "text": [
      "Training loss: 0.0292, Training accuracy: 0.9951\n",
      "Test loss: 0.0415, Test accuracy: 1.0000\n",
      "Epoch 123/250\n"
     ]
    },
    {
     "name": "stderr",
     "output_type": "stream",
     "text": [
      "Training: 100%|██████████| 7/7 [00:00<00:00, 209.31it/s]\n",
      "Evaluating: 100%|██████████| 2/2 [00:00<00:00, 113.73it/s]\n"
     ]
    },
    {
     "name": "stdout",
     "output_type": "stream",
     "text": [
      "Training loss: 0.0306, Training accuracy: 0.9951\n",
      "Test loss: 0.0415, Test accuracy: 1.0000\n",
      "Epoch 124/250\n"
     ]
    },
    {
     "name": "stderr",
     "output_type": "stream",
     "text": [
      "Training: 100%|██████████| 7/7 [00:00<00:00, 211.46it/s]\n",
      "Evaluating: 100%|██████████| 2/2 [00:00<?, ?it/s]\n"
     ]
    },
    {
     "name": "stdout",
     "output_type": "stream",
     "text": [
      "Training loss: 0.0316, Training accuracy: 0.9951\n",
      "Test loss: 0.0423, Test accuracy: 1.0000\n",
      "Epoch 125/250\n"
     ]
    },
    {
     "name": "stderr",
     "output_type": "stream",
     "text": [
      "Training: 100%|██████████| 7/7 [00:00<00:00, 208.92it/s]\n",
      "Evaluating: 100%|██████████| 2/2 [00:00<?, ?it/s]\n"
     ]
    },
    {
     "name": "stdout",
     "output_type": "stream",
     "text": [
      "Training loss: 0.0292, Training accuracy: 0.9951\n",
      "Test loss: 0.0416, Test accuracy: 1.0000\n",
      "Epoch 126/250\n"
     ]
    },
    {
     "name": "stderr",
     "output_type": "stream",
     "text": [
      "Training: 100%|██████████| 7/7 [00:00<00:00, 209.15it/s]\n",
      "Evaluating: 100%|██████████| 2/2 [00:00<00:00, 118.82it/s]\n"
     ]
    },
    {
     "name": "stdout",
     "output_type": "stream",
     "text": [
      "Training loss: 0.0358, Training accuracy: 0.9951\n",
      "Test loss: 0.0415, Test accuracy: 1.0000\n",
      "Epoch 127/250\n"
     ]
    },
    {
     "name": "stderr",
     "output_type": "stream",
     "text": [
      "Training: 100%|██████████| 7/7 [00:00<00:00, 211.48it/s]\n",
      "Evaluating: 100%|██████████| 2/2 [00:00<00:00, 114.65it/s]\n"
     ]
    },
    {
     "name": "stdout",
     "output_type": "stream",
     "text": [
      "Training loss: 0.0297, Training accuracy: 0.9951\n",
      "Test loss: 0.0413, Test accuracy: 1.0000\n",
      "Epoch 128/250\n"
     ]
    },
    {
     "name": "stderr",
     "output_type": "stream",
     "text": [
      "Training: 100%|██████████| 7/7 [00:00<00:00, 215.00it/s]\n",
      "Evaluating: 100%|██████████| 2/2 [00:00<?, ?it/s]\n"
     ]
    },
    {
     "name": "stdout",
     "output_type": "stream",
     "text": [
      "Training loss: 0.0303, Training accuracy: 0.9951\n",
      "Test loss: 0.0415, Test accuracy: 1.0000\n",
      "Epoch 129/250\n"
     ]
    },
    {
     "name": "stderr",
     "output_type": "stream",
     "text": [
      "Training: 100%|██████████| 7/7 [00:00<00:00, 139.69it/s]\n",
      "Evaluating: 100%|██████████| 2/2 [00:00<?, ?it/s]\n"
     ]
    },
    {
     "name": "stdout",
     "output_type": "stream",
     "text": [
      "Training loss: 0.0305, Training accuracy: 0.9951\n",
      "Test loss: 0.0422, Test accuracy: 1.0000\n",
      "Epoch 130/250\n"
     ]
    },
    {
     "name": "stderr",
     "output_type": "stream",
     "text": [
      "Training: 100%|██████████| 7/7 [00:00<00:00, 209.14it/s]\n",
      "Evaluating: 100%|██████████| 2/2 [00:00<00:00, 118.54it/s]\n"
     ]
    },
    {
     "name": "stdout",
     "output_type": "stream",
     "text": [
      "Training loss: 0.0291, Training accuracy: 0.9951\n",
      "Test loss: 0.0421, Test accuracy: 1.0000\n",
      "Epoch 131/250\n"
     ]
    },
    {
     "name": "stderr",
     "output_type": "stream",
     "text": [
      "Training: 100%|██████████| 7/7 [00:00<00:00, 198.05it/s]\n",
      "Evaluating: 100%|██████████| 2/2 [00:00<00:00, 135.14it/s]\n"
     ]
    },
    {
     "name": "stdout",
     "output_type": "stream",
     "text": [
      "Training loss: 0.0300, Training accuracy: 0.9951\n",
      "Test loss: 0.0412, Test accuracy: 1.0000\n",
      "Epoch 132/250\n"
     ]
    },
    {
     "name": "stderr",
     "output_type": "stream",
     "text": [
      "Training: 100%|██████████| 7/7 [00:00<00:00, 205.20it/s]\n",
      "Evaluating: 100%|██████████| 2/2 [00:00<00:00, 132.06it/s]\n"
     ]
    },
    {
     "name": "stdout",
     "output_type": "stream",
     "text": [
      "Training loss: 0.0323, Training accuracy: 0.9951\n",
      "Test loss: 0.0413, Test accuracy: 1.0000\n",
      "Epoch 133/250\n"
     ]
    },
    {
     "name": "stderr",
     "output_type": "stream",
     "text": [
      "Training: 100%|██████████| 7/7 [00:00<00:00, 203.52it/s]\n",
      "Evaluating: 100%|██████████| 2/2 [00:00<?, ?it/s]\n"
     ]
    },
    {
     "name": "stdout",
     "output_type": "stream",
     "text": [
      "Training loss: 0.0294, Training accuracy: 0.9951\n",
      "Test loss: 0.0416, Test accuracy: 1.0000\n",
      "Epoch 134/250\n"
     ]
    },
    {
     "name": "stderr",
     "output_type": "stream",
     "text": [
      "Training: 100%|██████████| 7/7 [00:00<00:00, 142.53it/s]\n",
      "Evaluating: 100%|██████████| 2/2 [00:00<?, ?it/s]\n"
     ]
    },
    {
     "name": "stdout",
     "output_type": "stream",
     "text": [
      "Training loss: 0.0307, Training accuracy: 0.9951\n",
      "Test loss: 0.0420, Test accuracy: 1.0000\n",
      "Epoch 135/250\n"
     ]
    },
    {
     "name": "stderr",
     "output_type": "stream",
     "text": [
      "Training: 100%|██████████| 7/7 [00:00<00:00, 211.95it/s]\n",
      "Evaluating: 100%|██████████| 2/2 [00:00<00:00, 119.32it/s]\n"
     ]
    },
    {
     "name": "stdout",
     "output_type": "stream",
     "text": [
      "Training loss: 0.0314, Training accuracy: 0.9951\n",
      "Test loss: 0.0423, Test accuracy: 1.0000\n",
      "Epoch 136/250\n"
     ]
    },
    {
     "name": "stderr",
     "output_type": "stream",
     "text": [
      "Training: 100%|██████████| 7/7 [00:00<00:00, 199.29it/s]\n",
      "Evaluating: 100%|██████████| 2/2 [00:00<?, ?it/s]\n"
     ]
    },
    {
     "name": "stdout",
     "output_type": "stream",
     "text": [
      "Training loss: 0.0333, Training accuracy: 0.9951\n",
      "Test loss: 0.0428, Test accuracy: 1.0000\n",
      "Epoch 137/250\n"
     ]
    },
    {
     "name": "stderr",
     "output_type": "stream",
     "text": [
      "Training: 100%|██████████| 7/7 [00:00<00:00, 207.74it/s]\n",
      "Evaluating: 100%|██████████| 2/2 [00:00<?, ?it/s]\n"
     ]
    },
    {
     "name": "stdout",
     "output_type": "stream",
     "text": [
      "Training loss: 0.0304, Training accuracy: 0.9951\n",
      "Test loss: 0.0434, Test accuracy: 1.0000\n",
      "Epoch 138/250\n"
     ]
    },
    {
     "name": "stderr",
     "output_type": "stream",
     "text": [
      "Training: 100%|██████████| 7/7 [00:00<00:00, 212.07it/s]\n",
      "Evaluating: 100%|██████████| 2/2 [00:00<00:00, 120.44it/s]\n"
     ]
    },
    {
     "name": "stdout",
     "output_type": "stream",
     "text": [
      "Training loss: 0.0313, Training accuracy: 0.9951\n",
      "Test loss: 0.0428, Test accuracy: 1.0000\n",
      "Epoch 139/250\n"
     ]
    },
    {
     "name": "stderr",
     "output_type": "stream",
     "text": [
      "Training: 100%|██████████| 7/7 [00:00<00:00, 198.59it/s]\n",
      "Evaluating: 100%|██████████| 2/2 [00:00<00:00, 135.60it/s]\n"
     ]
    },
    {
     "name": "stdout",
     "output_type": "stream",
     "text": [
      "Training loss: 0.0303, Training accuracy: 0.9951\n",
      "Test loss: 0.0424, Test accuracy: 1.0000\n",
      "Epoch 140/250\n"
     ]
    },
    {
     "name": "stderr",
     "output_type": "stream",
     "text": [
      "Training: 100%|██████████| 7/7 [00:00<00:00, 207.84it/s]\n",
      "Evaluating: 100%|██████████| 2/2 [00:00<?, ?it/s]\n"
     ]
    },
    {
     "name": "stdout",
     "output_type": "stream",
     "text": [
      "Training loss: 0.0311, Training accuracy: 0.9951\n",
      "Test loss: 0.0415, Test accuracy: 1.0000\n",
      "Epoch 141/250\n"
     ]
    },
    {
     "name": "stderr",
     "output_type": "stream",
     "text": [
      "Training: 100%|██████████| 7/7 [00:00<00:00, 213.51it/s]\n",
      "Evaluating: 100%|██████████| 2/2 [00:00<?, ?it/s]\n"
     ]
    },
    {
     "name": "stdout",
     "output_type": "stream",
     "text": [
      "Training loss: 0.0290, Training accuracy: 0.9951\n",
      "Test loss: 0.0416, Test accuracy: 1.0000\n",
      "Epoch 142/250\n"
     ]
    },
    {
     "name": "stderr",
     "output_type": "stream",
     "text": [
      "Training: 100%|██████████| 7/7 [00:00<00:00, 213.35it/s]\n",
      "Evaluating: 100%|██████████| 2/2 [00:00<00:00, 120.49it/s]\n"
     ]
    },
    {
     "name": "stdout",
     "output_type": "stream",
     "text": [
      "Training loss: 0.0320, Training accuracy: 0.9951\n",
      "Test loss: 0.0416, Test accuracy: 1.0000\n",
      "Epoch 143/250\n"
     ]
    },
    {
     "name": "stderr",
     "output_type": "stream",
     "text": [
      "Training: 100%|██████████| 7/7 [00:00<00:00, 209.90it/s]\n",
      "Evaluating: 100%|██████████| 2/2 [00:00<00:00, 124.30it/s]\n"
     ]
    },
    {
     "name": "stdout",
     "output_type": "stream",
     "text": [
      "Training loss: 0.0298, Training accuracy: 0.9951\n",
      "Test loss: 0.0416, Test accuracy: 1.0000\n",
      "Epoch 144/250\n"
     ]
    },
    {
     "name": "stderr",
     "output_type": "stream",
     "text": [
      "Training: 100%|██████████| 7/7 [00:00<00:00, 210.22it/s]\n",
      "Evaluating: 100%|██████████| 2/2 [00:00<?, ?it/s]\n"
     ]
    },
    {
     "name": "stdout",
     "output_type": "stream",
     "text": [
      "Training loss: 0.0290, Training accuracy: 0.9951\n",
      "Test loss: 0.0412, Test accuracy: 1.0000\n",
      "Epoch 145/250\n"
     ]
    },
    {
     "name": "stderr",
     "output_type": "stream",
     "text": [
      "Training: 100%|██████████| 7/7 [00:00<00:00, 204.80it/s]\n",
      "Evaluating: 100%|██████████| 2/2 [00:00<?, ?it/s]\n"
     ]
    },
    {
     "name": "stdout",
     "output_type": "stream",
     "text": [
      "Training loss: 0.0297, Training accuracy: 0.9951\n",
      "Test loss: 0.0413, Test accuracy: 1.0000\n",
      "Epoch 146/250\n"
     ]
    },
    {
     "name": "stderr",
     "output_type": "stream",
     "text": [
      "Training: 100%|██████████| 7/7 [00:00<00:00, 204.46it/s]\n",
      "Evaluating: 100%|██████████| 2/2 [00:00<00:00, 125.61it/s]\n"
     ]
    },
    {
     "name": "stdout",
     "output_type": "stream",
     "text": [
      "Training loss: 0.0332, Training accuracy: 0.9951\n",
      "Test loss: 0.0409, Test accuracy: 1.0000\n",
      "Epoch 147/250\n"
     ]
    },
    {
     "name": "stderr",
     "output_type": "stream",
     "text": [
      "Training: 100%|██████████| 7/7 [00:00<00:00, 211.41it/s]\n",
      "Evaluating: 100%|██████████| 2/2 [00:00<00:00, 119.55it/s]\n"
     ]
    },
    {
     "name": "stdout",
     "output_type": "stream",
     "text": [
      "Training loss: 0.0298, Training accuracy: 0.9951\n",
      "Test loss: 0.0412, Test accuracy: 1.0000\n",
      "Epoch 148/250\n"
     ]
    },
    {
     "name": "stderr",
     "output_type": "stream",
     "text": [
      "Training: 100%|██████████| 7/7 [00:00<00:00, 202.50it/s]\n",
      "Evaluating: 100%|██████████| 2/2 [00:00<?, ?it/s]\n"
     ]
    },
    {
     "name": "stdout",
     "output_type": "stream",
     "text": [
      "Training loss: 0.0292, Training accuracy: 0.9951\n",
      "Test loss: 0.0418, Test accuracy: 1.0000\n",
      "Epoch 149/250\n"
     ]
    },
    {
     "name": "stderr",
     "output_type": "stream",
     "text": [
      "Training: 100%|██████████| 7/7 [00:00<00:00, 211.99it/s]\n",
      "Evaluating: 100%|██████████| 2/2 [00:00<00:00, 125.00it/s]\n"
     ]
    },
    {
     "name": "stdout",
     "output_type": "stream",
     "text": [
      "Training loss: 0.0324, Training accuracy: 0.9951\n",
      "Test loss: 0.0417, Test accuracy: 1.0000\n",
      "Epoch 150/250\n"
     ]
    },
    {
     "name": "stderr",
     "output_type": "stream",
     "text": [
      "Training: 100%|██████████| 7/7 [00:00<00:00, 211.82it/s]\n",
      "Evaluating: 100%|██████████| 2/2 [00:00<00:00, 113.09it/s]\n"
     ]
    },
    {
     "name": "stdout",
     "output_type": "stream",
     "text": [
      "Training loss: 0.0321, Training accuracy: 0.9951\n",
      "Test loss: 0.0420, Test accuracy: 1.0000\n",
      "Epoch 151/250\n"
     ]
    },
    {
     "name": "stderr",
     "output_type": "stream",
     "text": [
      "Training: 100%|██████████| 7/7 [00:00<00:00, 210.94it/s]\n",
      "Evaluating: 100%|██████████| 2/2 [00:00<?, ?it/s]\n"
     ]
    },
    {
     "name": "stdout",
     "output_type": "stream",
     "text": [
      "Training loss: 0.0316, Training accuracy: 0.9951\n",
      "Test loss: 0.0423, Test accuracy: 1.0000\n",
      "Epoch 152/250\n"
     ]
    },
    {
     "name": "stderr",
     "output_type": "stream",
     "text": [
      "Training: 100%|██████████| 7/7 [00:00<00:00, 143.60it/s]\n",
      "Evaluating: 100%|██████████| 2/2 [00:00<?, ?it/s]\n"
     ]
    },
    {
     "name": "stdout",
     "output_type": "stream",
     "text": [
      "Training loss: 0.0283, Training accuracy: 0.9951\n",
      "Test loss: 0.0422, Test accuracy: 1.0000\n",
      "Epoch 153/250\n"
     ]
    },
    {
     "name": "stderr",
     "output_type": "stream",
     "text": [
      "Training: 100%|██████████| 7/7 [00:00<00:00, 214.09it/s]\n",
      "Evaluating: 100%|██████████| 2/2 [00:00<00:00, 124.93it/s]\n"
     ]
    },
    {
     "name": "stdout",
     "output_type": "stream",
     "text": [
      "Training loss: 0.0301, Training accuracy: 0.9951\n",
      "Test loss: 0.0412, Test accuracy: 1.0000\n",
      "Epoch 154/250\n"
     ]
    },
    {
     "name": "stderr",
     "output_type": "stream",
     "text": [
      "Training: 100%|██████████| 7/7 [00:00<00:00, 210.45it/s]\n",
      "Evaluating: 100%|██████████| 2/2 [00:00<?, ?it/s]"
     ]
    },
    {
     "name": "stdout",
     "output_type": "stream",
     "text": [
      "Training loss: 0.0298, Training accuracy: 0.9951\n",
      "Test loss: 0.0411, Test accuracy: 1.0000\n",
      "Epoch 155/250\n"
     ]
    },
    {
     "name": "stderr",
     "output_type": "stream",
     "text": [
      "\n",
      "Training: 100%|██████████| 7/7 [00:00<00:00, 206.52it/s]\n",
      "Evaluating: 100%|██████████| 2/2 [00:00<?, ?it/s]\n"
     ]
    },
    {
     "name": "stdout",
     "output_type": "stream",
     "text": [
      "Training loss: 0.0310, Training accuracy: 0.9951\n",
      "Test loss: 0.0412, Test accuracy: 1.0000\n",
      "Epoch 156/250\n"
     ]
    },
    {
     "name": "stderr",
     "output_type": "stream",
     "text": [
      "Training: 100%|██████████| 7/7 [00:00<00:00, 212.81it/s]\n",
      "Evaluating: 100%|██████████| 2/2 [00:00<00:00, 125.59it/s]\n"
     ]
    },
    {
     "name": "stdout",
     "output_type": "stream",
     "text": [
      "Training loss: 0.0291, Training accuracy: 0.9951\n",
      "Test loss: 0.0415, Test accuracy: 1.0000\n",
      "Epoch 157/250\n"
     ]
    },
    {
     "name": "stderr",
     "output_type": "stream",
     "text": [
      "Training: 100%|██████████| 7/7 [00:00<00:00, 196.28it/s]\n",
      "Evaluating: 100%|██████████| 2/2 [00:00<00:00, 141.27it/s]\n"
     ]
    },
    {
     "name": "stdout",
     "output_type": "stream",
     "text": [
      "Training loss: 0.0289, Training accuracy: 0.9951\n",
      "Test loss: 0.0411, Test accuracy: 1.0000\n",
      "Epoch 158/250\n"
     ]
    },
    {
     "name": "stderr",
     "output_type": "stream",
     "text": [
      "Training: 100%|██████████| 7/7 [00:00<00:00, 208.02it/s]\n",
      "Evaluating: 100%|██████████| 2/2 [00:00<?, ?it/s]\n"
     ]
    },
    {
     "name": "stdout",
     "output_type": "stream",
     "text": [
      "Training loss: 0.0295, Training accuracy: 0.9951\n",
      "Test loss: 0.0413, Test accuracy: 1.0000\n",
      "Epoch 159/250\n"
     ]
    },
    {
     "name": "stderr",
     "output_type": "stream",
     "text": [
      "Training: 100%|██████████| 7/7 [00:00<00:00, 140.60it/s]\n",
      "Evaluating: 100%|██████████| 2/2 [00:00<?, ?it/s]\n"
     ]
    },
    {
     "name": "stdout",
     "output_type": "stream",
     "text": [
      "Training loss: 0.0302, Training accuracy: 0.9951\n",
      "Test loss: 0.0413, Test accuracy: 1.0000\n",
      "Epoch 160/250\n"
     ]
    },
    {
     "name": "stderr",
     "output_type": "stream",
     "text": [
      "Training: 100%|██████████| 7/7 [00:00<00:00, 209.46it/s]\n",
      "Evaluating: 100%|██████████| 2/2 [00:00<00:00, 125.10it/s]\n"
     ]
    },
    {
     "name": "stdout",
     "output_type": "stream",
     "text": [
      "Training loss: 0.0294, Training accuracy: 0.9951\n",
      "Test loss: 0.0412, Test accuracy: 1.0000\n",
      "Epoch 161/250\n"
     ]
    },
    {
     "name": "stderr",
     "output_type": "stream",
     "text": [
      "Training: 100%|██████████| 7/7 [00:00<00:00, 205.92it/s]\n",
      "Evaluating: 100%|██████████| 2/2 [00:00<00:00, 126.25it/s]\n"
     ]
    },
    {
     "name": "stdout",
     "output_type": "stream",
     "text": [
      "Training loss: 0.0299, Training accuracy: 0.9951\n",
      "Test loss: 0.0405, Test accuracy: 1.0000\n",
      "Epoch 162/250\n"
     ]
    },
    {
     "name": "stderr",
     "output_type": "stream",
     "text": [
      "Training: 100%|██████████| 7/7 [00:00<00:00, 209.01it/s]\n",
      "Evaluating: 100%|██████████| 2/2 [00:00<?, ?it/s]\n"
     ]
    },
    {
     "name": "stdout",
     "output_type": "stream",
     "text": [
      "Training loss: 0.0282, Training accuracy: 0.9951\n",
      "Test loss: 0.0404, Test accuracy: 1.0000\n",
      "Epoch 163/250\n"
     ]
    },
    {
     "name": "stderr",
     "output_type": "stream",
     "text": [
      "Training: 100%|██████████| 7/7 [00:00<00:00, 138.51it/s]\n",
      "Evaluating: 100%|██████████| 2/2 [00:00<?, ?it/s]\n"
     ]
    },
    {
     "name": "stdout",
     "output_type": "stream",
     "text": [
      "Training loss: 0.0290, Training accuracy: 0.9951\n",
      "Test loss: 0.0404, Test accuracy: 1.0000\n",
      "Epoch 164/250\n"
     ]
    },
    {
     "name": "stderr",
     "output_type": "stream",
     "text": [
      "Training: 100%|██████████| 7/7 [00:00<00:00, 212.56it/s]\n",
      "Evaluating: 100%|██████████| 2/2 [00:00<00:00, 123.08it/s]\n"
     ]
    },
    {
     "name": "stdout",
     "output_type": "stream",
     "text": [
      "Training loss: 0.0345, Training accuracy: 0.9951\n",
      "Test loss: 0.0402, Test accuracy: 1.0000\n",
      "Epoch 165/250\n"
     ]
    },
    {
     "name": "stderr",
     "output_type": "stream",
     "text": [
      "Training: 100%|██████████| 7/7 [00:00<00:00, 203.60it/s]\n",
      "Evaluating: 100%|██████████| 2/2 [00:00<?, ?it/s]\n"
     ]
    },
    {
     "name": "stdout",
     "output_type": "stream",
     "text": [
      "Training loss: 0.0335, Training accuracy: 0.9951\n",
      "Test loss: 0.0414, Test accuracy: 1.0000\n",
      "Epoch 166/250\n"
     ]
    },
    {
     "name": "stderr",
     "output_type": "stream",
     "text": [
      "Training: 100%|██████████| 7/7 [00:00<00:00, 209.41it/s]\n",
      "Evaluating: 100%|██████████| 2/2 [00:00<?, ?it/s]\n"
     ]
    },
    {
     "name": "stdout",
     "output_type": "stream",
     "text": [
      "Training loss: 0.0350, Training accuracy: 0.9951\n",
      "Test loss: 0.0427, Test accuracy: 1.0000\n",
      "Epoch 167/250\n"
     ]
    },
    {
     "name": "stderr",
     "output_type": "stream",
     "text": [
      "Training: 100%|██████████| 7/7 [00:00<00:00, 172.25it/s]\n",
      "Evaluating: 100%|██████████| 2/2 [00:00<00:00, 210.14it/s]\n"
     ]
    },
    {
     "name": "stdout",
     "output_type": "stream",
     "text": [
      "Training loss: 0.0306, Training accuracy: 0.9951\n",
      "Test loss: 0.0448, Test accuracy: 1.0000\n",
      "Epoch 168/250\n"
     ]
    },
    {
     "name": "stderr",
     "output_type": "stream",
     "text": [
      "Training: 100%|██████████| 7/7 [00:00<00:00, 196.90it/s]\n",
      "Evaluating: 100%|██████████| 2/2 [00:00<00:00, 136.91it/s]\n"
     ]
    },
    {
     "name": "stdout",
     "output_type": "stream",
     "text": [
      "Training loss: 0.0323, Training accuracy: 0.9951\n",
      "Test loss: 0.0432, Test accuracy: 1.0000\n",
      "Epoch 169/250\n"
     ]
    },
    {
     "name": "stderr",
     "output_type": "stream",
     "text": [
      "Training: 100%|██████████| 7/7 [00:00<00:00, 206.50it/s]\n",
      "Evaluating: 100%|██████████| 2/2 [00:00<00:00, 125.83it/s]\n"
     ]
    },
    {
     "name": "stdout",
     "output_type": "stream",
     "text": [
      "Training loss: 0.0334, Training accuracy: 0.9951\n",
      "Test loss: 0.0411, Test accuracy: 1.0000\n",
      "Epoch 170/250\n"
     ]
    },
    {
     "name": "stderr",
     "output_type": "stream",
     "text": [
      "Training: 100%|██████████| 7/7 [00:00<00:00, 203.15it/s]\n",
      "Evaluating: 100%|██████████| 2/2 [00:00<?, ?it/s]\n"
     ]
    },
    {
     "name": "stdout",
     "output_type": "stream",
     "text": [
      "Training loss: 0.0292, Training accuracy: 0.9951\n",
      "Test loss: 0.0409, Test accuracy: 1.0000\n",
      "Epoch 171/250\n"
     ]
    },
    {
     "name": "stderr",
     "output_type": "stream",
     "text": [
      "Training: 100%|██████████| 7/7 [00:00<00:00, 142.69it/s]\n",
      "Evaluating: 100%|██████████| 2/2 [00:00<?, ?it/s]\n"
     ]
    },
    {
     "name": "stdout",
     "output_type": "stream",
     "text": [
      "Training loss: 0.0288, Training accuracy: 0.9951\n",
      "Test loss: 0.0415, Test accuracy: 1.0000\n",
      "Epoch 172/250\n"
     ]
    },
    {
     "name": "stderr",
     "output_type": "stream",
     "text": [
      "Training: 100%|██████████| 7/7 [00:00<00:00, 211.57it/s]\n",
      "Evaluating: 100%|██████████| 2/2 [00:00<00:00, 119.48it/s]\n"
     ]
    },
    {
     "name": "stdout",
     "output_type": "stream",
     "text": [
      "Training loss: 0.0283, Training accuracy: 0.9951\n",
      "Test loss: 0.0409, Test accuracy: 1.0000\n",
      "Epoch 173/250\n"
     ]
    },
    {
     "name": "stderr",
     "output_type": "stream",
     "text": [
      "Training: 100%|██████████| 7/7 [00:00<00:00, 210.02it/s]\n",
      "Evaluating: 100%|██████████| 2/2 [00:00<00:00, 120.10it/s]\n"
     ]
    },
    {
     "name": "stdout",
     "output_type": "stream",
     "text": [
      "Training loss: 0.0286, Training accuracy: 0.9951\n",
      "Test loss: 0.0406, Test accuracy: 1.0000\n",
      "Epoch 174/250\n"
     ]
    },
    {
     "name": "stderr",
     "output_type": "stream",
     "text": [
      "Training: 100%|██████████| 7/7 [00:00<00:00, 210.64it/s]\n",
      "Evaluating: 100%|██████████| 2/2 [00:00<?, ?it/s]\n"
     ]
    },
    {
     "name": "stdout",
     "output_type": "stream",
     "text": [
      "Training loss: 0.0312, Training accuracy: 0.9951\n",
      "Test loss: 0.0403, Test accuracy: 1.0000\n",
      "Epoch 175/250\n"
     ]
    },
    {
     "name": "stderr",
     "output_type": "stream",
     "text": [
      "Training: 100%|██████████| 7/7 [00:00<00:00, 208.00it/s]\n",
      "Evaluating: 100%|██████████| 2/2 [00:00<00:00, 118.51it/s]\n"
     ]
    },
    {
     "name": "stdout",
     "output_type": "stream",
     "text": [
      "Training loss: 0.0354, Training accuracy: 0.9951\n",
      "Test loss: 0.0400, Test accuracy: 1.0000\n",
      "Epoch 176/250\n"
     ]
    },
    {
     "name": "stderr",
     "output_type": "stream",
     "text": [
      "Training: 100%|██████████| 7/7 [00:00<00:00, 197.78it/s]\n",
      "Evaluating: 100%|██████████| 2/2 [00:00<00:00, 140.51it/s]\n"
     ]
    },
    {
     "name": "stdout",
     "output_type": "stream",
     "text": [
      "Training loss: 0.0288, Training accuracy: 0.9951\n",
      "Test loss: 0.0412, Test accuracy: 1.0000\n",
      "Epoch 177/250\n"
     ]
    },
    {
     "name": "stderr",
     "output_type": "stream",
     "text": [
      "Training: 100%|██████████| 7/7 [00:00<00:00, 207.38it/s]\n",
      "Evaluating: 100%|██████████| 2/2 [00:00<?, ?it/s]\n"
     ]
    },
    {
     "name": "stdout",
     "output_type": "stream",
     "text": [
      "Training loss: 0.0331, Training accuracy: 0.9951\n",
      "Test loss: 0.0409, Test accuracy: 1.0000\n",
      "Epoch 178/250\n"
     ]
    },
    {
     "name": "stderr",
     "output_type": "stream",
     "text": [
      "Training: 100%|██████████| 7/7 [00:00<00:00, 203.88it/s]\n",
      "Evaluating: 100%|██████████| 2/2 [00:00<00:00, 128.61it/s]\n"
     ]
    },
    {
     "name": "stdout",
     "output_type": "stream",
     "text": [
      "Training loss: 0.0288, Training accuracy: 0.9951\n",
      "Test loss: 0.0411, Test accuracy: 1.0000\n",
      "Epoch 179/250\n"
     ]
    },
    {
     "name": "stderr",
     "output_type": "stream",
     "text": [
      "Training: 100%|██████████| 7/7 [00:00<00:00, 211.00it/s]\n",
      "Evaluating: 100%|██████████| 2/2 [00:00<00:00, 121.04it/s]\n"
     ]
    },
    {
     "name": "stdout",
     "output_type": "stream",
     "text": [
      "Training loss: 0.0288, Training accuracy: 0.9951\n",
      "Test loss: 0.0415, Test accuracy: 1.0000\n",
      "Epoch 180/250\n"
     ]
    },
    {
     "name": "stderr",
     "output_type": "stream",
     "text": [
      "Training: 100%|██████████| 7/7 [00:00<00:00, 216.42it/s]\n",
      "Evaluating: 100%|██████████| 2/2 [00:00<?, ?it/s]\n"
     ]
    },
    {
     "name": "stdout",
     "output_type": "stream",
     "text": [
      "Training loss: 0.0374, Training accuracy: 0.9951\n",
      "Test loss: 0.0410, Test accuracy: 1.0000\n",
      "Epoch 181/250\n"
     ]
    },
    {
     "name": "stderr",
     "output_type": "stream",
     "text": [
      "Training: 100%|██████████| 7/7 [00:00<00:00, 204.83it/s]\n",
      "Evaluating: 100%|██████████| 2/2 [00:00<00:00, 126.42it/s]\n"
     ]
    },
    {
     "name": "stdout",
     "output_type": "stream",
     "text": [
      "Training loss: 0.0330, Training accuracy: 0.9951\n",
      "Test loss: 0.0414, Test accuracy: 1.0000\n",
      "Epoch 182/250\n"
     ]
    },
    {
     "name": "stderr",
     "output_type": "stream",
     "text": [
      "Training: 100%|██████████| 7/7 [00:00<00:00, 205.49it/s]\n",
      "Evaluating: 100%|██████████| 2/2 [00:00<?, ?it/s]\n"
     ]
    },
    {
     "name": "stdout",
     "output_type": "stream",
     "text": [
      "Training loss: 0.0331, Training accuracy: 0.9951\n",
      "Test loss: 0.0419, Test accuracy: 1.0000\n",
      "Epoch 183/250\n"
     ]
    },
    {
     "name": "stderr",
     "output_type": "stream",
     "text": [
      "Training: 100%|██████████| 7/7 [00:00<00:00, 143.45it/s]\n",
      "Evaluating: 100%|██████████| 2/2 [00:00<00:00, 563.15it/s]\n"
     ]
    },
    {
     "name": "stdout",
     "output_type": "stream",
     "text": [
      "Training loss: 0.0280, Training accuracy: 0.9951\n",
      "Test loss: 0.0432, Test accuracy: 1.0000\n",
      "Epoch 184/250\n"
     ]
    },
    {
     "name": "stderr",
     "output_type": "stream",
     "text": [
      "Training: 100%|██████████| 7/7 [00:00<00:00, 243.17it/s]\n",
      "Evaluating: 100%|██████████| 2/2 [00:00<00:00, 123.75it/s]\n"
     ]
    },
    {
     "name": "stdout",
     "output_type": "stream",
     "text": [
      "Training loss: 0.0318, Training accuracy: 0.9951\n",
      "Test loss: 0.0424, Test accuracy: 1.0000\n",
      "Epoch 185/250\n"
     ]
    },
    {
     "name": "stderr",
     "output_type": "stream",
     "text": [
      "Training: 100%|██████████| 7/7 [00:00<00:00, 208.89it/s]\n",
      "Evaluating: 100%|██████████| 2/2 [00:00<?, ?it/s]\n"
     ]
    },
    {
     "name": "stdout",
     "output_type": "stream",
     "text": [
      "Training loss: 0.0297, Training accuracy: 0.9951\n",
      "Test loss: 0.0421, Test accuracy: 1.0000\n",
      "Epoch 186/250\n"
     ]
    },
    {
     "name": "stderr",
     "output_type": "stream",
     "text": [
      "Training: 100%|██████████| 7/7 [00:00<00:00, 140.21it/s]\n",
      "Evaluating: 100%|██████████| 2/2 [00:00<?, ?it/s]\n"
     ]
    },
    {
     "name": "stdout",
     "output_type": "stream",
     "text": [
      "Training loss: 0.0290, Training accuracy: 0.9951\n",
      "Test loss: 0.0408, Test accuracy: 1.0000\n",
      "Epoch 187/250\n"
     ]
    },
    {
     "name": "stderr",
     "output_type": "stream",
     "text": [
      "Training: 100%|██████████| 7/7 [00:00<00:00, 209.46it/s]\n",
      "Evaluating: 100%|██████████| 2/2 [00:00<00:00, 121.21it/s]\n"
     ]
    },
    {
     "name": "stdout",
     "output_type": "stream",
     "text": [
      "Training loss: 0.0287, Training accuracy: 0.9951\n",
      "Test loss: 0.0397, Test accuracy: 1.0000\n",
      "Epoch 188/250\n"
     ]
    },
    {
     "name": "stderr",
     "output_type": "stream",
     "text": [
      "Training: 100%|██████████| 7/7 [00:00<00:00, 209.55it/s]\n",
      "Evaluating: 100%|██████████| 2/2 [00:00<?, ?it/s]\n"
     ]
    },
    {
     "name": "stdout",
     "output_type": "stream",
     "text": [
      "Training loss: 0.0304, Training accuracy: 0.9951\n",
      "Test loss: 0.0398, Test accuracy: 1.0000\n",
      "Epoch 189/250\n"
     ]
    },
    {
     "name": "stderr",
     "output_type": "stream",
     "text": [
      "Training: 100%|██████████| 7/7 [00:00<00:00, 141.03it/s]\n",
      "Evaluating: 100%|██████████| 2/2 [00:00<?, ?it/s]\n"
     ]
    },
    {
     "name": "stdout",
     "output_type": "stream",
     "text": [
      "Training loss: 0.0298, Training accuracy: 0.9951\n",
      "Test loss: 0.0400, Test accuracy: 1.0000\n",
      "Epoch 190/250\n"
     ]
    },
    {
     "name": "stderr",
     "output_type": "stream",
     "text": [
      "Training: 100%|██████████| 7/7 [00:00<00:00, 209.60it/s]\n",
      "Evaluating: 100%|██████████| 2/2 [00:00<00:00, 119.68it/s]\n"
     ]
    },
    {
     "name": "stdout",
     "output_type": "stream",
     "text": [
      "Training loss: 0.0275, Training accuracy: 0.9951\n",
      "Test loss: 0.0402, Test accuracy: 1.0000\n",
      "Epoch 191/250\n"
     ]
    },
    {
     "name": "stderr",
     "output_type": "stream",
     "text": [
      "Training: 100%|██████████| 7/7 [00:00<00:00, 209.90it/s]\n",
      "Evaluating: 100%|██████████| 2/2 [00:00<00:00, 122.99it/s]\n"
     ]
    },
    {
     "name": "stdout",
     "output_type": "stream",
     "text": [
      "Training loss: 0.0300, Training accuracy: 0.9951\n",
      "Test loss: 0.0404, Test accuracy: 1.0000\n",
      "Epoch 192/250\n"
     ]
    },
    {
     "name": "stderr",
     "output_type": "stream",
     "text": [
      "Training: 100%|██████████| 7/7 [00:00<00:00, 211.54it/s]\n",
      "Evaluating: 100%|██████████| 2/2 [00:00<?, ?it/s]\n"
     ]
    },
    {
     "name": "stdout",
     "output_type": "stream",
     "text": [
      "Training loss: 0.0289, Training accuracy: 0.9951\n",
      "Test loss: 0.0403, Test accuracy: 1.0000\n",
      "Epoch 193/250\n"
     ]
    },
    {
     "name": "stderr",
     "output_type": "stream",
     "text": [
      "Training: 100%|██████████| 7/7 [00:00<00:00, 141.32it/s]\n",
      "Evaluating: 100%|██████████| 2/2 [00:00<?, ?it/s]\n"
     ]
    },
    {
     "name": "stdout",
     "output_type": "stream",
     "text": [
      "Training loss: 0.0287, Training accuracy: 0.9951\n",
      "Test loss: 0.0402, Test accuracy: 1.0000\n",
      "Epoch 194/250\n"
     ]
    },
    {
     "name": "stderr",
     "output_type": "stream",
     "text": [
      "Training: 100%|██████████| 7/7 [00:00<00:00, 208.92it/s]\n",
      "Evaluating: 100%|██████████| 2/2 [00:00<00:00, 119.64it/s]\n"
     ]
    },
    {
     "name": "stdout",
     "output_type": "stream",
     "text": [
      "Training loss: 0.0296, Training accuracy: 0.9951\n",
      "Test loss: 0.0401, Test accuracy: 1.0000\n",
      "Epoch 195/250\n"
     ]
    },
    {
     "name": "stderr",
     "output_type": "stream",
     "text": [
      "Training: 100%|██████████| 7/7 [00:00<00:00, 208.73it/s]\n",
      "Evaluating: 100%|██████████| 2/2 [00:00<?, ?it/s]\n"
     ]
    },
    {
     "name": "stdout",
     "output_type": "stream",
     "text": [
      "Training loss: 0.0294, Training accuracy: 0.9951\n",
      "Test loss: 0.0396, Test accuracy: 1.0000\n",
      "Epoch 196/250\n"
     ]
    },
    {
     "name": "stderr",
     "output_type": "stream",
     "text": [
      "Training: 100%|██████████| 7/7 [00:00<00:00, 209.80it/s]\n",
      "Evaluating: 100%|██████████| 2/2 [00:00<00:00, 266.49it/s]\n"
     ]
    },
    {
     "name": "stdout",
     "output_type": "stream",
     "text": [
      "Training loss: 0.0290, Training accuracy: 0.9951\n",
      "Test loss: 0.0390, Test accuracy: 1.0000\n",
      "Epoch 197/250\n"
     ]
    },
    {
     "name": "stderr",
     "output_type": "stream",
     "text": [
      "Training: 100%|██████████| 7/7 [00:00<00:00, 288.51it/s]\n",
      "Evaluating: 100%|██████████| 2/2 [00:00<00:00, 113.47it/s]\n"
     ]
    },
    {
     "name": "stdout",
     "output_type": "stream",
     "text": [
      "Training loss: 0.0271, Training accuracy: 0.9927\n",
      "Test loss: 0.0387, Test accuracy: 1.0000\n",
      "Epoch 198/250\n"
     ]
    },
    {
     "name": "stderr",
     "output_type": "stream",
     "text": [
      "Training: 100%|██████████| 7/7 [00:00<00:00, 216.52it/s]\n",
      "Evaluating: 100%|██████████| 2/2 [00:00<00:00, 112.81it/s]\n"
     ]
    },
    {
     "name": "stdout",
     "output_type": "stream",
     "text": [
      "Training loss: 0.0309, Training accuracy: 0.9951\n",
      "Test loss: 0.0396, Test accuracy: 1.0000\n",
      "Epoch 199/250\n"
     ]
    },
    {
     "name": "stderr",
     "output_type": "stream",
     "text": [
      "Training: 100%|██████████| 7/7 [00:00<00:00, 210.91it/s]\n",
      "Evaluating: 100%|██████████| 2/2 [00:00<00:00, 130.68it/s]\n"
     ]
    },
    {
     "name": "stdout",
     "output_type": "stream",
     "text": [
      "Training loss: 0.0271, Training accuracy: 0.9951\n",
      "Test loss: 0.0401, Test accuracy: 1.0000\n",
      "Epoch 200/250\n"
     ]
    },
    {
     "name": "stderr",
     "output_type": "stream",
     "text": [
      "Training: 100%|██████████| 7/7 [00:00<00:00, 211.83it/s]\n",
      "Evaluating: 100%|██████████| 2/2 [00:00<?, ?it/s]\n"
     ]
    },
    {
     "name": "stdout",
     "output_type": "stream",
     "text": [
      "Training loss: 0.0288, Training accuracy: 0.9951\n",
      "Test loss: 0.0403, Test accuracy: 1.0000\n",
      "Epoch 201/250\n"
     ]
    },
    {
     "name": "stderr",
     "output_type": "stream",
     "text": [
      "Training: 100%|██████████| 7/7 [00:00<00:00, 140.22it/s]\n",
      "Evaluating: 100%|██████████| 2/2 [00:00<?, ?it/s]\n"
     ]
    },
    {
     "name": "stdout",
     "output_type": "stream",
     "text": [
      "Training loss: 0.0276, Training accuracy: 0.9951\n",
      "Test loss: 0.0401, Test accuracy: 1.0000\n",
      "Epoch 202/250\n"
     ]
    },
    {
     "name": "stderr",
     "output_type": "stream",
     "text": [
      "Training: 100%|██████████| 7/7 [00:00<00:00, 212.48it/s]\n",
      "Evaluating: 100%|██████████| 2/2 [00:00<00:00, 115.46it/s]\n"
     ]
    },
    {
     "name": "stdout",
     "output_type": "stream",
     "text": [
      "Training loss: 0.0275, Training accuracy: 0.9951\n",
      "Test loss: 0.0397, Test accuracy: 1.0000\n",
      "Epoch 203/250\n"
     ]
    },
    {
     "name": "stderr",
     "output_type": "stream",
     "text": [
      "Training: 100%|██████████| 7/7 [00:00<00:00, 206.53it/s]\n",
      "Evaluating: 100%|██████████| 2/2 [00:00<?, ?it/s]\n"
     ]
    },
    {
     "name": "stdout",
     "output_type": "stream",
     "text": [
      "Training loss: 0.0285, Training accuracy: 0.9951\n",
      "Test loss: 0.0395, Test accuracy: 1.0000\n",
      "Epoch 204/250\n"
     ]
    },
    {
     "name": "stderr",
     "output_type": "stream",
     "text": [
      "Training: 100%|██████████| 7/7 [00:00<00:00, 210.55it/s]\n",
      "Evaluating: 100%|██████████| 2/2 [00:00<?, ?it/s]\n"
     ]
    },
    {
     "name": "stdout",
     "output_type": "stream",
     "text": [
      "Training loss: 0.0272, Training accuracy: 0.9951\n",
      "Test loss: 0.0384, Test accuracy: 1.0000\n",
      "Epoch 205/250\n"
     ]
    },
    {
     "name": "stderr",
     "output_type": "stream",
     "text": [
      "Training: 100%|██████████| 7/7 [00:00<00:00, 320.35it/s]\n",
      "Evaluating: 100%|██████████| 2/2 [00:00<00:00, 118.73it/s]\n"
     ]
    },
    {
     "name": "stdout",
     "output_type": "stream",
     "text": [
      "Training loss: 0.0292, Training accuracy: 0.9951\n",
      "Test loss: 0.0391, Test accuracy: 1.0000\n",
      "Epoch 206/250\n"
     ]
    },
    {
     "name": "stderr",
     "output_type": "stream",
     "text": [
      "Training: 100%|██████████| 7/7 [00:00<00:00, 209.76it/s]\n",
      "Evaluating: 100%|██████████| 2/2 [00:00<00:00, 121.69it/s]\n"
     ]
    },
    {
     "name": "stdout",
     "output_type": "stream",
     "text": [
      "Training loss: 0.0296, Training accuracy: 0.9951\n",
      "Test loss: 0.0400, Test accuracy: 1.0000\n",
      "Epoch 207/250\n"
     ]
    },
    {
     "name": "stderr",
     "output_type": "stream",
     "text": [
      "Training: 100%|██████████| 7/7 [00:00<00:00, 210.28it/s]\n",
      "Evaluating: 100%|██████████| 2/2 [00:00<?, ?it/s]\n"
     ]
    },
    {
     "name": "stdout",
     "output_type": "stream",
     "text": [
      "Training loss: 0.0300, Training accuracy: 0.9951\n",
      "Test loss: 0.0409, Test accuracy: 1.0000\n",
      "Epoch 208/250\n"
     ]
    },
    {
     "name": "stderr",
     "output_type": "stream",
     "text": [
      "Training: 100%|██████████| 7/7 [00:00<00:00, 139.58it/s]\n",
      "Evaluating: 100%|██████████| 2/2 [00:00<?, ?it/s]\n"
     ]
    },
    {
     "name": "stdout",
     "output_type": "stream",
     "text": [
      "Training loss: 0.0300, Training accuracy: 0.9951\n",
      "Test loss: 0.0410, Test accuracy: 1.0000\n",
      "Epoch 209/250\n"
     ]
    },
    {
     "name": "stderr",
     "output_type": "stream",
     "text": [
      "Training: 100%|██████████| 7/7 [00:00<00:00, 212.69it/s]\n",
      "Evaluating: 100%|██████████| 2/2 [00:00<00:00, 108.67it/s]\n"
     ]
    },
    {
     "name": "stdout",
     "output_type": "stream",
     "text": [
      "Training loss: 0.0312, Training accuracy: 0.9951\n",
      "Test loss: 0.0403, Test accuracy: 1.0000\n",
      "Epoch 210/250\n"
     ]
    },
    {
     "name": "stderr",
     "output_type": "stream",
     "text": [
      "Training: 100%|██████████| 7/7 [00:00<00:00, 211.44it/s]\n",
      "Evaluating: 100%|██████████| 2/2 [00:00<00:00, 125.95it/s]\n"
     ]
    },
    {
     "name": "stdout",
     "output_type": "stream",
     "text": [
      "Training loss: 0.0279, Training accuracy: 0.9951\n",
      "Test loss: 0.0398, Test accuracy: 1.0000\n",
      "Epoch 211/250\n"
     ]
    },
    {
     "name": "stderr",
     "output_type": "stream",
     "text": [
      "Training: 100%|██████████| 7/7 [00:00<00:00, 194.97it/s]\n",
      "Evaluating: 100%|██████████| 2/2 [00:00<00:00, 285.45it/s]\n"
     ]
    },
    {
     "name": "stdout",
     "output_type": "stream",
     "text": [
      "Training loss: 0.0283, Training accuracy: 0.9951\n",
      "Test loss: 0.0398, Test accuracy: 1.0000\n",
      "Epoch 212/250\n"
     ]
    },
    {
     "name": "stderr",
     "output_type": "stream",
     "text": [
      "Training: 100%|██████████| 7/7 [00:00<00:00, 342.12it/s]\n",
      "Evaluating: 100%|██████████| 2/2 [00:00<00:00, 86.53it/s]\n"
     ]
    },
    {
     "name": "stdout",
     "output_type": "stream",
     "text": [
      "Training loss: 0.0265, Training accuracy: 0.9951\n",
      "Test loss: 0.0392, Test accuracy: 1.0000\n",
      "Epoch 213/250\n"
     ]
    },
    {
     "name": "stderr",
     "output_type": "stream",
     "text": [
      "Training: 100%|██████████| 7/7 [00:00<00:00, 248.12it/s]\n",
      "Evaluating: 100%|██████████| 2/2 [00:00<00:00, 114.88it/s]\n"
     ]
    },
    {
     "name": "stdout",
     "output_type": "stream",
     "text": [
      "Training loss: 0.0289, Training accuracy: 0.9951\n",
      "Test loss: 0.0389, Test accuracy: 1.0000\n",
      "Epoch 214/250\n"
     ]
    },
    {
     "name": "stderr",
     "output_type": "stream",
     "text": [
      "Training: 100%|██████████| 7/7 [00:00<00:00, 242.14it/s]\n",
      "Evaluating: 100%|██████████| 2/2 [00:00<?, ?it/s]\n"
     ]
    },
    {
     "name": "stdout",
     "output_type": "stream",
     "text": [
      "Training loss: 0.0270, Training accuracy: 0.9951\n",
      "Test loss: 0.0388, Test accuracy: 1.0000\n",
      "Epoch 215/250\n"
     ]
    },
    {
     "name": "stderr",
     "output_type": "stream",
     "text": [
      "Training: 100%|██████████| 7/7 [00:00<00:00, 145.00it/s]\n",
      "Evaluating: 100%|██████████| 2/2 [00:00<?, ?it/s]\n"
     ]
    },
    {
     "name": "stdout",
     "output_type": "stream",
     "text": [
      "Training loss: 0.0271, Training accuracy: 0.9951\n",
      "Test loss: 0.0384, Test accuracy: 1.0000\n",
      "Epoch 216/250\n"
     ]
    },
    {
     "name": "stderr",
     "output_type": "stream",
     "text": [
      "Training: 100%|██████████| 7/7 [00:00<00:00, 210.54it/s]\n",
      "Evaluating: 100%|██████████| 2/2 [00:00<00:00, 125.70it/s]\n"
     ]
    },
    {
     "name": "stdout",
     "output_type": "stream",
     "text": [
      "Training loss: 0.0268, Training accuracy: 0.9951\n",
      "Test loss: 0.0389, Test accuracy: 1.0000\n",
      "Epoch 217/250\n"
     ]
    },
    {
     "name": "stderr",
     "output_type": "stream",
     "text": [
      "Training: 100%|██████████| 7/7 [00:00<00:00, 209.27it/s]\n",
      "Evaluating: 100%|██████████| 2/2 [00:00<00:00, 124.23it/s]\n"
     ]
    },
    {
     "name": "stdout",
     "output_type": "stream",
     "text": [
      "Training loss: 0.0272, Training accuracy: 0.9951\n",
      "Test loss: 0.0393, Test accuracy: 1.0000\n",
      "Epoch 218/250\n"
     ]
    },
    {
     "name": "stderr",
     "output_type": "stream",
     "text": [
      "Training: 100%|██████████| 7/7 [00:00<00:00, 214.27it/s]\n",
      "Evaluating: 100%|██████████| 2/2 [00:00<?, ?it/s]\n"
     ]
    },
    {
     "name": "stdout",
     "output_type": "stream",
     "text": [
      "Training loss: 0.0270, Training accuracy: 0.9951\n",
      "Test loss: 0.0392, Test accuracy: 1.0000\n",
      "Epoch 219/250\n"
     ]
    },
    {
     "name": "stderr",
     "output_type": "stream",
     "text": [
      "Training: 100%|██████████| 7/7 [00:00<00:00, 211.33it/s]\n",
      "Evaluating: 100%|██████████| 2/2 [00:00<00:00, 127.38it/s]\n"
     ]
    },
    {
     "name": "stdout",
     "output_type": "stream",
     "text": [
      "Training loss: 0.0291, Training accuracy: 0.9951\n",
      "Test loss: 0.0387, Test accuracy: 1.0000\n",
      "Epoch 220/250\n"
     ]
    },
    {
     "name": "stderr",
     "output_type": "stream",
     "text": [
      "Training: 100%|██████████| 7/7 [00:00<00:00, 174.63it/s]\n",
      "Evaluating: 100%|██████████| 2/2 [00:00<00:00, 285.72it/s]\n"
     ]
    },
    {
     "name": "stdout",
     "output_type": "stream",
     "text": [
      "Training loss: 0.0275, Training accuracy: 0.9951\n",
      "Test loss: 0.0396, Test accuracy: 1.0000\n",
      "Epoch 221/250\n"
     ]
    },
    {
     "name": "stderr",
     "output_type": "stream",
     "text": [
      "Training: 100%|██████████| 7/7 [00:00<00:00, 208.12it/s]\n",
      "Evaluating: 100%|██████████| 2/2 [00:00<?, ?it/s]\n"
     ]
    },
    {
     "name": "stdout",
     "output_type": "stream",
     "text": [
      "Training loss: 0.0276, Training accuracy: 0.9951\n",
      "Test loss: 0.0395, Test accuracy: 1.0000\n",
      "Epoch 222/250\n"
     ]
    },
    {
     "name": "stderr",
     "output_type": "stream",
     "text": [
      "Training: 100%|██████████| 7/7 [00:00<00:00, 210.27it/s]\n",
      "Evaluating: 100%|██████████| 2/2 [00:00<00:00, 117.21it/s]\n"
     ]
    },
    {
     "name": "stdout",
     "output_type": "stream",
     "text": [
      "Training loss: 0.0288, Training accuracy: 0.9951\n",
      "Test loss: 0.0387, Test accuracy: 1.0000\n",
      "Epoch 223/250\n"
     ]
    },
    {
     "name": "stderr",
     "output_type": "stream",
     "text": [
      "Training: 100%|██████████| 7/7 [00:00<00:00, 124.16it/s]\n",
      "Evaluating: 100%|██████████| 2/2 [00:00<00:00, 198.24it/s]\n"
     ]
    },
    {
     "name": "stdout",
     "output_type": "stream",
     "text": [
      "Training loss: 0.0292, Training accuracy: 0.9951\n",
      "Test loss: 0.0380, Test accuracy: 1.0000\n",
      "Epoch 224/250\n"
     ]
    },
    {
     "name": "stderr",
     "output_type": "stream",
     "text": [
      "Training: 100%|██████████| 7/7 [00:00<00:00, 179.66it/s]\n",
      "Evaluating: 100%|██████████| 2/2 [00:00<00:00, 289.22it/s]\n"
     ]
    },
    {
     "name": "stdout",
     "output_type": "stream",
     "text": [
      "Training loss: 0.0283, Training accuracy: 0.9951\n",
      "Test loss: 0.0385, Test accuracy: 1.0000\n",
      "Epoch 225/250\n"
     ]
    },
    {
     "name": "stderr",
     "output_type": "stream",
     "text": [
      "Training: 100%|██████████| 7/7 [00:00<00:00, 200.88it/s]\n",
      "Evaluating: 100%|██████████| 2/2 [00:00<?, ?it/s]\n"
     ]
    },
    {
     "name": "stdout",
     "output_type": "stream",
     "text": [
      "Training loss: 0.0270, Training accuracy: 0.9951\n",
      "Test loss: 0.0395, Test accuracy: 1.0000\n",
      "Epoch 226/250\n"
     ]
    },
    {
     "name": "stderr",
     "output_type": "stream",
     "text": [
      "Training: 100%|██████████| 7/7 [00:00<00:00, 145.43it/s]\n",
      "Evaluating: 100%|██████████| 2/2 [00:00<?, ?it/s]\n"
     ]
    },
    {
     "name": "stdout",
     "output_type": "stream",
     "text": [
      "Training loss: 0.0298, Training accuracy: 0.9951\n",
      "Test loss: 0.0395, Test accuracy: 1.0000\n",
      "Epoch 227/250\n"
     ]
    },
    {
     "name": "stderr",
     "output_type": "stream",
     "text": [
      "Training: 100%|██████████| 7/7 [00:00<00:00, 216.54it/s]\n",
      "Evaluating: 100%|██████████| 2/2 [00:00<00:00, 117.51it/s]\n"
     ]
    },
    {
     "name": "stdout",
     "output_type": "stream",
     "text": [
      "Training loss: 0.0283, Training accuracy: 0.9951\n",
      "Test loss: 0.0394, Test accuracy: 1.0000\n",
      "Epoch 228/250\n"
     ]
    },
    {
     "name": "stderr",
     "output_type": "stream",
     "text": [
      "Training: 100%|██████████| 7/7 [00:00<00:00, 213.48it/s]\n",
      "Evaluating: 100%|██████████| 2/2 [00:00<00:00, 109.16it/s]\n"
     ]
    },
    {
     "name": "stdout",
     "output_type": "stream",
     "text": [
      "Training loss: 0.0280, Training accuracy: 0.9951\n",
      "Test loss: 0.0392, Test accuracy: 1.0000\n",
      "Epoch 229/250\n"
     ]
    },
    {
     "name": "stderr",
     "output_type": "stream",
     "text": [
      "Training: 100%|██████████| 7/7 [00:00<00:00, 213.12it/s]\n",
      "Evaluating: 100%|██████████| 2/2 [00:00<00:00, 127.42it/s]\n"
     ]
    },
    {
     "name": "stdout",
     "output_type": "stream",
     "text": [
      "Training loss: 0.0270, Training accuracy: 0.9951\n",
      "Test loss: 0.0384, Test accuracy: 1.0000\n",
      "Epoch 230/250\n"
     ]
    },
    {
     "name": "stderr",
     "output_type": "stream",
     "text": [
      "Training: 100%|██████████| 7/7 [00:00<00:00, 208.33it/s]\n",
      "Evaluating: 100%|██████████| 2/2 [00:00<?, ?it/s]\n"
     ]
    },
    {
     "name": "stdout",
     "output_type": "stream",
     "text": [
      "Training loss: 0.0274, Training accuracy: 0.9951\n",
      "Test loss: 0.0383, Test accuracy: 1.0000\n",
      "Epoch 231/250\n"
     ]
    },
    {
     "name": "stderr",
     "output_type": "stream",
     "text": [
      "Training: 100%|██████████| 7/7 [00:00<00:00, 140.41it/s]\n",
      "Evaluating: 100%|██████████| 2/2 [00:00<?, ?it/s]\n"
     ]
    },
    {
     "name": "stdout",
     "output_type": "stream",
     "text": [
      "Training loss: 0.0276, Training accuracy: 0.9951\n",
      "Test loss: 0.0387, Test accuracy: 1.0000\n",
      "Epoch 232/250\n"
     ]
    },
    {
     "name": "stderr",
     "output_type": "stream",
     "text": [
      "Training: 100%|██████████| 7/7 [00:00<00:00, 209.27it/s]\n",
      "Evaluating: 100%|██████████| 2/2 [00:00<00:00, 120.08it/s]\n"
     ]
    },
    {
     "name": "stdout",
     "output_type": "stream",
     "text": [
      "Training loss: 0.0260, Training accuracy: 0.9951\n",
      "Test loss: 0.0383, Test accuracy: 1.0000\n",
      "Epoch 233/250\n"
     ]
    },
    {
     "name": "stderr",
     "output_type": "stream",
     "text": [
      "Training: 100%|██████████| 7/7 [00:00<00:00, 209.80it/s]\n",
      "Evaluating: 100%|██████████| 2/2 [00:00<00:00, 113.47it/s]\n"
     ]
    },
    {
     "name": "stdout",
     "output_type": "stream",
     "text": [
      "Training loss: 0.0279, Training accuracy: 0.9951\n",
      "Test loss: 0.0381, Test accuracy: 1.0000\n",
      "Epoch 234/250\n"
     ]
    },
    {
     "name": "stderr",
     "output_type": "stream",
     "text": [
      "Training: 100%|██████████| 7/7 [00:00<00:00, 209.84it/s]\n",
      "Evaluating: 100%|██████████| 2/2 [00:00<?, ?it/s]\n"
     ]
    },
    {
     "name": "stdout",
     "output_type": "stream",
     "text": [
      "Training loss: 0.0259, Training accuracy: 0.9951\n",
      "Test loss: 0.0388, Test accuracy: 1.0000\n",
      "Epoch 235/250\n"
     ]
    },
    {
     "name": "stderr",
     "output_type": "stream",
     "text": [
      "Training: 100%|██████████| 7/7 [00:00<00:00, 140.83it/s]\n",
      "Evaluating: 100%|██████████| 2/2 [00:00<?, ?it/s]\n"
     ]
    },
    {
     "name": "stdout",
     "output_type": "stream",
     "text": [
      "Training loss: 0.0278, Training accuracy: 0.9951\n",
      "Test loss: 0.0397, Test accuracy: 1.0000\n",
      "Epoch 236/250\n"
     ]
    },
    {
     "name": "stderr",
     "output_type": "stream",
     "text": [
      "Training: 100%|██████████| 7/7 [00:00<00:00, 213.82it/s]\n",
      "Evaluating: 100%|██████████| 2/2 [00:00<00:00, 123.76it/s]\n"
     ]
    },
    {
     "name": "stdout",
     "output_type": "stream",
     "text": [
      "Training loss: 0.0288, Training accuracy: 0.9951\n",
      "Test loss: 0.0391, Test accuracy: 1.0000\n",
      "Epoch 237/250\n"
     ]
    },
    {
     "name": "stderr",
     "output_type": "stream",
     "text": [
      "Training: 100%|██████████| 7/7 [00:00<00:00, 190.20it/s]\n",
      "Evaluating: 100%|██████████| 2/2 [00:00<00:00, 150.96it/s]\n"
     ]
    },
    {
     "name": "stdout",
     "output_type": "stream",
     "text": [
      "Training loss: 0.0270, Training accuracy: 0.9951\n",
      "Test loss: 0.0379, Test accuracy: 1.0000\n",
      "Epoch 238/250\n"
     ]
    },
    {
     "name": "stderr",
     "output_type": "stream",
     "text": [
      "Training: 100%|██████████| 7/7 [00:00<00:00, 209.65it/s]\n",
      "Evaluating: 100%|██████████| 2/2 [00:00<00:00, 122.62it/s]\n"
     ]
    },
    {
     "name": "stdout",
     "output_type": "stream",
     "text": [
      "Training loss: 0.0310, Training accuracy: 0.9951\n",
      "Test loss: 0.0382, Test accuracy: 1.0000\n",
      "Epoch 239/250\n"
     ]
    },
    {
     "name": "stderr",
     "output_type": "stream",
     "text": [
      "Training: 100%|██████████| 7/7 [00:00<00:00, 209.44it/s]\n",
      "Evaluating: 100%|██████████| 2/2 [00:00<?, ?it/s]\n"
     ]
    },
    {
     "name": "stdout",
     "output_type": "stream",
     "text": [
      "Training loss: 0.0284, Training accuracy: 0.9951\n",
      "Test loss: 0.0392, Test accuracy: 1.0000\n",
      "Epoch 240/250\n"
     ]
    },
    {
     "name": "stderr",
     "output_type": "stream",
     "text": [
      "Training: 100%|██████████| 7/7 [00:00<00:00, 138.26it/s]\n",
      "Evaluating: 100%|██████████| 2/2 [00:00<?, ?it/s]\n"
     ]
    },
    {
     "name": "stdout",
     "output_type": "stream",
     "text": [
      "Training loss: 0.0302, Training accuracy: 0.9951\n",
      "Test loss: 0.0394, Test accuracy: 1.0000\n",
      "Epoch 241/250\n"
     ]
    },
    {
     "name": "stderr",
     "output_type": "stream",
     "text": [
      "Training: 100%|██████████| 7/7 [00:00<00:00, 217.14it/s]\n",
      "Evaluating: 100%|██████████| 2/2 [00:00<00:00, 113.10it/s]\n"
     ]
    },
    {
     "name": "stdout",
     "output_type": "stream",
     "text": [
      "Training loss: 0.0298, Training accuracy: 0.9951\n",
      "Test loss: 0.0391, Test accuracy: 1.0000\n",
      "Epoch 242/250\n"
     ]
    },
    {
     "name": "stderr",
     "output_type": "stream",
     "text": [
      "Training: 100%|██████████| 7/7 [00:00<00:00, 215.35it/s]\n",
      "Evaluating: 100%|██████████| 2/2 [00:00<00:00, 119.45it/s]\n"
     ]
    },
    {
     "name": "stdout",
     "output_type": "stream",
     "text": [
      "Training loss: 0.0279, Training accuracy: 0.9951\n",
      "Test loss: 0.0401, Test accuracy: 1.0000\n",
      "Epoch 243/250\n"
     ]
    },
    {
     "name": "stderr",
     "output_type": "stream",
     "text": [
      "Training: 100%|██████████| 7/7 [00:00<00:00, 204.01it/s]\n",
      "Evaluating: 100%|██████████| 2/2 [00:00<00:00, 128.23it/s]\n"
     ]
    },
    {
     "name": "stdout",
     "output_type": "stream",
     "text": [
      "Training loss: 0.0372, Training accuracy: 0.9951\n",
      "Test loss: 0.0395, Test accuracy: 1.0000\n",
      "Epoch 244/250\n"
     ]
    },
    {
     "name": "stderr",
     "output_type": "stream",
     "text": [
      "Training: 100%|██████████| 7/7 [00:00<00:00, 205.44it/s]\n",
      "Evaluating: 100%|██████████| 2/2 [00:00<?, ?it/s]\n"
     ]
    },
    {
     "name": "stdout",
     "output_type": "stream",
     "text": [
      "Training loss: 0.0286, Training accuracy: 0.9951\n",
      "Test loss: 0.0411, Test accuracy: 1.0000\n",
      "Epoch 245/250\n"
     ]
    },
    {
     "name": "stderr",
     "output_type": "stream",
     "text": [
      "Training: 100%|██████████| 7/7 [00:00<00:00, 210.47it/s]\n",
      "Evaluating: 100%|██████████| 2/2 [00:00<?, ?it/s]\n"
     ]
    },
    {
     "name": "stdout",
     "output_type": "stream",
     "text": [
      "Training loss: 0.0274, Training accuracy: 0.9951\n",
      "Test loss: 0.0398, Test accuracy: 1.0000\n",
      "Epoch 246/250\n"
     ]
    },
    {
     "name": "stderr",
     "output_type": "stream",
     "text": [
      "Training: 100%|██████████| 7/7 [00:00<00:00, 202.61it/s]\n",
      "Evaluating: 100%|██████████| 2/2 [00:00<00:00, 125.98it/s]\n"
     ]
    },
    {
     "name": "stdout",
     "output_type": "stream",
     "text": [
      "Training loss: 0.0288, Training accuracy: 0.9951\n",
      "Test loss: 0.0380, Test accuracy: 1.0000\n",
      "Epoch 247/250\n"
     ]
    },
    {
     "name": "stderr",
     "output_type": "stream",
     "text": [
      "Training: 100%|██████████| 7/7 [00:00<00:00, 211.46it/s]\n",
      "Evaluating: 100%|██████████| 2/2 [00:00<00:00, 116.97it/s]\n"
     ]
    },
    {
     "name": "stdout",
     "output_type": "stream",
     "text": [
      "Training loss: 0.0269, Training accuracy: 0.9951\n",
      "Test loss: 0.0379, Test accuracy: 1.0000\n",
      "Epoch 248/250\n"
     ]
    },
    {
     "name": "stderr",
     "output_type": "stream",
     "text": [
      "Training: 100%|██████████| 7/7 [00:00<00:00, 210.44it/s]\n",
      "Evaluating: 100%|██████████| 2/2 [00:00<00:00, 125.06it/s]\n"
     ]
    },
    {
     "name": "stdout",
     "output_type": "stream",
     "text": [
      "Training loss: 0.0265, Training accuracy: 0.9951\n",
      "Test loss: 0.0386, Test accuracy: 1.0000\n",
      "Epoch 249/250\n"
     ]
    },
    {
     "name": "stderr",
     "output_type": "stream",
     "text": [
      "Training: 100%|██████████| 7/7 [00:00<00:00, 209.00it/s]\n",
      "Evaluating: 100%|██████████| 2/2 [00:00<?, ?it/s]\n"
     ]
    },
    {
     "name": "stdout",
     "output_type": "stream",
     "text": [
      "Training loss: 0.0278, Training accuracy: 0.9951\n",
      "Test loss: 0.0379, Test accuracy: 1.0000\n",
      "Epoch 250/250\n"
     ]
    },
    {
     "name": "stderr",
     "output_type": "stream",
     "text": [
      "Training: 100%|██████████| 7/7 [00:00<00:00, 210.73it/s]\n",
      "Evaluating: 100%|██████████| 2/2 [00:00<?, ?it/s]\n"
     ]
    },
    {
     "name": "stdout",
     "output_type": "stream",
     "text": [
      "Training loss: 0.0262, Training accuracy: 0.9951\n",
      "Test loss: 0.0378, Test accuracy: 1.0000\n"
     ]
    },
    {
     "data": {
      "image/png": "[encoded data removed]",
      "text/plain": [
       "<Figure size 1500x500 with 2 Axes>"
      ]
     },
     "metadata": {},
     "output_type": "display_data"
    }
   ],
   "source": [
    "best_acc_model, best_loss_model, results = train_logreg_simplified(\n",
    "    batch_size=64,\n",
    "    train_feats_data=train_feats,\n",
    "    test_feats_data=test_feats,\n",
    "    feature_dim=train_feats.tensors[0].shape[1],\n",
    "    num_classes=2,\n",
    "    lr=5e-4,\n",
    "    weight_decay=1e-4,\n",
    "    max_epochs=250\n",
    ")"
   ]
  },
  {
   "cell_type": "code",
   "execution_count": 13,
   "metadata": {},
   "outputs": [
    {
     "data": {
      "text/plain": [
       "LogisticRegression(\n",
       "  (linear): Linear(in_features=27648, out_features=2, bias=True)\n",
       ")"
      ]
     },
     "execution_count": 13,
     "metadata": {},
     "output_type": "execute_result"
    }
   ],
   "source": [
    "logreg_model= best_loss_model\n",
    "logreg_model\n",
    "logreg_model.eval()  # This disables dropout and batchnorm for inference"
   ]
  },
  {
   "cell_type": "code",
   "execution_count": 14,
   "metadata": {},
   "outputs": [],
   "source": [
    "import os\n",
    "import torch\n",
    "import torch.nn as nn\n",
    "import torch.nn.functional as F\n",
    "from torch.utils.data import DataLoader\n",
    "import matplotlib.pyplot as plt\n",
    "import numpy as np\n",
    "from copy import deepcopy\n",
    "from tqdm import tqdm\n",
    "import tifffile as tiff\n",
    "from torchvision import transforms\n",
    "\n",
    "def get_all_groups(root_dir):\n",
    "    # All directories in root_dir are considered different groups\n",
    "    groups = []\n",
    "    for d in os.listdir(root_dir):\n",
    "        dir_path = os.path.join(root_dir, d)\n",
    "        if os.path.isdir(dir_path):\n",
    "            groups.append(d)\n",
    "    return groups\n",
    "\n",
    "def load_inference_data(root_dir):\n",
    "    groups = get_all_groups(root_dir)\n",
    "    \n",
    "    image_files = []\n",
    "    group_names = []\n",
    "    \n",
    "    # We won't use numeric labels for correctness here since our model is only binary.\n",
    "    # However, we still need a label tensor. We'll just assign a dummy label (e.g. 0) \n",
    "    # because we only need to run inference. The label doesn't affect inference.\n",
    "    dummy_labels = []\n",
    "\n",
    "    for group in groups:\n",
    "        class_dir = os.path.join(root_dir, group)\n",
    "        files = [os.path.join(class_dir, file) for file in os.listdir(class_dir)\n",
    "                 if file.lower().endswith(('.tiff', '.tif'))]\n",
    "        image_files.extend(files)\n",
    "        group_names.extend([group] * len(files))\n",
    "        dummy_labels.extend([0]*len(files))  # dummy label\n",
    "\n",
    "    return image_files, dummy_labels, group_names, groups\n",
    "\n",
    "# Dataset that returns image, a dummy label, path, and keeps track of group name externally\n",
    "class LabeledImageDatasetWithPath:\n",
    "    def __init__(self, image_files, labels, transform=None):\n",
    "        self.image_files = image_files\n",
    "        self.labels = labels\n",
    "        self.transform = transform\n",
    "        self.resize_transform = transforms.Resize((96, 96))\n",
    "\n",
    "    def __len__(self):\n",
    "        return len(self.image_files)\n",
    "\n",
    "    def __getitem__(self, idx):\n",
    "        img_path = self.image_files[idx]\n",
    "        image = tiff.imread(img_path)\n",
    "\n",
    "        # Handle shape: ensure CxHxW\n",
    "        if image.ndim == 3 and image.shape[2] == 3:\n",
    "            image = np.transpose(image, (2, 0, 1))\n",
    "        if image.shape[0] != 3:\n",
    "            raise ValueError(f\"Image {img_path} doesn't have 3 channels.\")\n",
    "\n",
    "        image = image.astype(np.float32) / 65535.0\n",
    "        image = torch.tensor(image, dtype=torch.float32)\n",
    "        image = self.resize_transform(image)\n",
    "\n",
    "        label = self.labels[idx]\n",
    "        return image, label, img_path\n",
    "    \n",
    "def extract_features(dataloader):\n",
    "    feats, labels, paths = [], [],[]\n",
    "\n",
    "    for batch_imgs, batch_labels, batch_paths in tqdm(dataloader, desc=\"Extracting Features\"):\n",
    "    #for batch_imgs, batch_labels in tqdm(dataloader):\n",
    "        batch_imgs = batch_imgs.to(device)\n",
    "        \n",
    "        # Flatten the images from (N, C, H, W) to (N, C*H*W)\n",
    "        batch_feats = batch_imgs.view(batch_imgs.size(0), -1)  # Flatten the images\n",
    "\n",
    "        print(f\"Batch features shape: {batch_feats.shape}\")  # Check the feature shape\n",
    "        print(f\"Batch labels shape: {batch_labels.shape}\")\n",
    "        \n",
    "        feats.append(batch_feats.detach().cpu())\n",
    "        labels.append(batch_labels)\n",
    "        paths.extend(batch_paths)\n",
    "\n",
    "    feats = torch.cat(feats, dim=0)\n",
    "    labels = torch.cat(labels, dim=0)\n",
    "    \n",
    "    print(f\"Features shape after concatenation: {feats.shape}\")\n",
    "    print(f\"Labels shape after concatenation: {labels.shape}\")\n",
    "\n",
    "    return feats, labels, paths\n"
   ]
  },
  {
   "cell_type": "code",
   "execution_count": null,
   "metadata": {},
   "outputs": [],
   "source": []
  },
  {
   "cell_type": "code",
   "execution_count": 15,
   "metadata": {},
   "outputs": [],
   "source": [
    "root_dir = r\"G:\\softmax\\inference\""
   ]
  },
  {
   "cell_type": "code",
   "execution_count": 16,
   "metadata": {},
   "outputs": [],
   "source": [
    "# 1. Load data from all groups\n",
    "image_files, dummy_labels, group_names, groups = load_inference_data(root_dir)"
   ]
  },
  {
   "cell_type": "code",
   "execution_count": 17,
   "metadata": {},
   "outputs": [],
   "source": [
    "# 2. Create dataset and dataloader for inference\n",
    "inference_dataset = LabeledImageDatasetWithPath(image_files, dummy_labels)"
   ]
  },
  {
   "cell_type": "code",
   "execution_count": 18,
   "metadata": {},
   "outputs": [],
   "source": [
    "inference_loader = DataLoader(inference_dataset, batch_size=16, shuffle=False, pin_memory=True, num_workers=0)"
   ]
  },
  {
   "cell_type": "code",
   "execution_count": 19,
   "metadata": {},
   "outputs": [
    {
     "name": "stderr",
     "output_type": "stream",
     "text": [
      "Extracting Features:   3%|▎         | 1/39 [00:07<04:33,  7.21s/it]"
     ]
    },
    {
     "name": "stdout",
     "output_type": "stream",
     "text": [
      "Batch features shape: torch.Size([16, 27648])\n",
      "Batch labels shape: torch.Size([16])\n"
     ]
    },
    {
     "name": "stderr",
     "output_type": "stream",
     "text": [
      "Extracting Features:   5%|▌         | 2/39 [00:14<04:25,  7.17s/it]"
     ]
    },
    {
     "name": "stdout",
     "output_type": "stream",
     "text": [
      "Batch features shape: torch.Size([16, 27648])\n",
      "Batch labels shape: torch.Size([16])\n"
     ]
    },
    {
     "name": "stderr",
     "output_type": "stream",
     "text": [
      "Extracting Features:   8%|▊         | 3/39 [00:21<04:17,  7.14s/it]"
     ]
    },
    {
     "name": "stdout",
     "output_type": "stream",
     "text": [
      "Batch features shape: torch.Size([16, 27648])\n",
      "Batch labels shape: torch.Size([16])\n"
     ]
    },
    {
     "name": "stderr",
     "output_type": "stream",
     "text": [
      "Extracting Features:  10%|█         | 4/39 [00:29<04:18,  7.39s/it]"
     ]
    },
    {
     "name": "stdout",
     "output_type": "stream",
     "text": [
      "Batch features shape: torch.Size([16, 27648])\n",
      "Batch labels shape: torch.Size([16])\n"
     ]
    },
    {
     "name": "stderr",
     "output_type": "stream",
     "text": [
      "Extracting Features:  13%|█▎        | 5/39 [00:36<04:08,  7.30s/it]"
     ]
    },
    {
     "name": "stdout",
     "output_type": "stream",
     "text": [
      "Batch features shape: torch.Size([16, 27648])\n",
      "Batch labels shape: torch.Size([16])\n"
     ]
    },
    {
     "name": "stderr",
     "output_type": "stream",
     "text": [
      "Extracting Features:  15%|█▌        | 6/39 [00:43<04:00,  7.28s/it]"
     ]
    },
    {
     "name": "stdout",
     "output_type": "stream",
     "text": [
      "Batch features shape: torch.Size([16, 27648])\n",
      "Batch labels shape: torch.Size([16])\n"
     ]
    },
    {
     "name": "stderr",
     "output_type": "stream",
     "text": [
      "Extracting Features:  18%|█▊        | 7/39 [00:50<03:51,  7.25s/it]"
     ]
    },
    {
     "name": "stdout",
     "output_type": "stream",
     "text": [
      "Batch features shape: torch.Size([16, 27648])\n",
      "Batch labels shape: torch.Size([16])\n"
     ]
    },
    {
     "name": "stderr",
     "output_type": "stream",
     "text": [
      "Extracting Features:  21%|██        | 8/39 [00:57<03:43,  7.21s/it]"
     ]
    },
    {
     "name": "stdout",
     "output_type": "stream",
     "text": [
      "Batch features shape: torch.Size([16, 27648])\n",
      "Batch labels shape: torch.Size([16])\n"
     ]
    },
    {
     "name": "stderr",
     "output_type": "stream",
     "text": [
      "Extracting Features:  23%|██▎       | 9/39 [01:05<03:36,  7.22s/it]"
     ]
    },
    {
     "name": "stdout",
     "output_type": "stream",
     "text": [
      "Batch features shape: torch.Size([16, 27648])\n",
      "Batch labels shape: torch.Size([16])\n"
     ]
    },
    {
     "name": "stderr",
     "output_type": "stream",
     "text": [
      "Extracting Features:  26%|██▌       | 10/39 [01:12<03:28,  7.19s/it]"
     ]
    },
    {
     "name": "stdout",
     "output_type": "stream",
     "text": [
      "Batch features shape: torch.Size([16, 27648])\n",
      "Batch labels shape: torch.Size([16])\n"
     ]
    },
    {
     "name": "stderr",
     "output_type": "stream",
     "text": [
      "Extracting Features:  28%|██▊       | 11/39 [01:19<03:20,  7.18s/it]"
     ]
    },
    {
     "name": "stdout",
     "output_type": "stream",
     "text": [
      "Batch features shape: torch.Size([16, 27648])\n",
      "Batch labels shape: torch.Size([16])\n"
     ]
    },
    {
     "name": "stderr",
     "output_type": "stream",
     "text": [
      "Extracting Features:  31%|███       | 12/39 [01:26<03:13,  7.15s/it]"
     ]
    },
    {
     "name": "stdout",
     "output_type": "stream",
     "text": [
      "Batch features shape: torch.Size([16, 27648])\n",
      "Batch labels shape: torch.Size([16])\n"
     ]
    },
    {
     "name": "stderr",
     "output_type": "stream",
     "text": [
      "Extracting Features:  33%|███▎      | 13/39 [01:33<03:05,  7.15s/it]"
     ]
    },
    {
     "name": "stdout",
     "output_type": "stream",
     "text": [
      "Batch features shape: torch.Size([16, 27648])\n",
      "Batch labels shape: torch.Size([16])\n"
     ]
    },
    {
     "name": "stderr",
     "output_type": "stream",
     "text": [
      "Extracting Features:  36%|███▌      | 14/39 [01:40<02:58,  7.16s/it]"
     ]
    },
    {
     "name": "stdout",
     "output_type": "stream",
     "text": [
      "Batch features shape: torch.Size([16, 27648])\n",
      "Batch labels shape: torch.Size([16])\n"
     ]
    },
    {
     "name": "stderr",
     "output_type": "stream",
     "text": [
      "Extracting Features:  38%|███▊      | 15/39 [01:48<02:51,  7.16s/it]"
     ]
    },
    {
     "name": "stdout",
     "output_type": "stream",
     "text": [
      "Batch features shape: torch.Size([16, 27648])\n",
      "Batch labels shape: torch.Size([16])\n"
     ]
    },
    {
     "name": "stderr",
     "output_type": "stream",
     "text": [
      "Extracting Features:  41%|████      | 16/39 [01:54<02:38,  6.91s/it]"
     ]
    },
    {
     "name": "stdout",
     "output_type": "stream",
     "text": [
      "Batch features shape: torch.Size([16, 27648])\n",
      "Batch labels shape: torch.Size([16])\n"
     ]
    },
    {
     "name": "stderr",
     "output_type": "stream",
     "text": [
      "Extracting Features:  44%|████▎     | 17/39 [02:00<02:29,  6.78s/it]"
     ]
    },
    {
     "name": "stdout",
     "output_type": "stream",
     "text": [
      "Batch features shape: torch.Size([16, 27648])\n",
      "Batch labels shape: torch.Size([16])\n"
     ]
    },
    {
     "name": "stderr",
     "output_type": "stream",
     "text": [
      "Extracting Features:  46%|████▌     | 18/39 [02:07<02:20,  6.68s/it]"
     ]
    },
    {
     "name": "stdout",
     "output_type": "stream",
     "text": [
      "Batch features shape: torch.Size([16, 27648])\n",
      "Batch labels shape: torch.Size([16])\n"
     ]
    },
    {
     "name": "stderr",
     "output_type": "stream",
     "text": [
      "Extracting Features:  49%|████▊     | 19/39 [02:13<02:12,  6.61s/it]"
     ]
    },
    {
     "name": "stdout",
     "output_type": "stream",
     "text": [
      "Batch features shape: torch.Size([16, 27648])\n",
      "Batch labels shape: torch.Size([16])\n"
     ]
    },
    {
     "name": "stderr",
     "output_type": "stream",
     "text": [
      "Extracting Features:  51%|█████▏    | 20/39 [02:20<02:04,  6.57s/it]"
     ]
    },
    {
     "name": "stdout",
     "output_type": "stream",
     "text": [
      "Batch features shape: torch.Size([16, 27648])\n",
      "Batch labels shape: torch.Size([16])\n"
     ]
    },
    {
     "name": "stderr",
     "output_type": "stream",
     "text": [
      "Extracting Features:  54%|█████▍    | 21/39 [02:26<01:57,  6.52s/it]"
     ]
    },
    {
     "name": "stdout",
     "output_type": "stream",
     "text": [
      "Batch features shape: torch.Size([16, 27648])\n",
      "Batch labels shape: torch.Size([16])\n"
     ]
    },
    {
     "name": "stderr",
     "output_type": "stream",
     "text": [
      "Extracting Features:  56%|█████▋    | 22/39 [02:33<01:50,  6.50s/it]"
     ]
    },
    {
     "name": "stdout",
     "output_type": "stream",
     "text": [
      "Batch features shape: torch.Size([16, 27648])\n",
      "Batch labels shape: torch.Size([16])\n"
     ]
    },
    {
     "name": "stderr",
     "output_type": "stream",
     "text": [
      "Extracting Features:  59%|█████▉    | 23/39 [02:39<01:43,  6.47s/it]"
     ]
    },
    {
     "name": "stdout",
     "output_type": "stream",
     "text": [
      "Batch features shape: torch.Size([16, 27648])\n",
      "Batch labels shape: torch.Size([16])\n"
     ]
    },
    {
     "name": "stderr",
     "output_type": "stream",
     "text": [
      "Extracting Features:  62%|██████▏   | 24/39 [02:45<01:37,  6.47s/it]"
     ]
    },
    {
     "name": "stdout",
     "output_type": "stream",
     "text": [
      "Batch features shape: torch.Size([16, 27648])\n",
      "Batch labels shape: torch.Size([16])\n"
     ]
    },
    {
     "name": "stderr",
     "output_type": "stream",
     "text": [
      "Extracting Features:  64%|██████▍   | 25/39 [02:52<01:30,  6.45s/it]"
     ]
    },
    {
     "name": "stdout",
     "output_type": "stream",
     "text": [
      "Batch features shape: torch.Size([16, 27648])\n",
      "Batch labels shape: torch.Size([16])\n"
     ]
    },
    {
     "name": "stderr",
     "output_type": "stream",
     "text": [
      "Extracting Features:  67%|██████▋   | 26/39 [02:58<01:23,  6.42s/it]"
     ]
    },
    {
     "name": "stdout",
     "output_type": "stream",
     "text": [
      "Batch features shape: torch.Size([16, 27648])\n",
      "Batch labels shape: torch.Size([16])\n"
     ]
    },
    {
     "name": "stderr",
     "output_type": "stream",
     "text": [
      "Extracting Features:  69%|██████▉   | 27/39 [03:05<01:16,  6.40s/it]"
     ]
    },
    {
     "name": "stdout",
     "output_type": "stream",
     "text": [
      "Batch features shape: torch.Size([16, 27648])\n",
      "Batch labels shape: torch.Size([16])\n"
     ]
    },
    {
     "name": "stderr",
     "output_type": "stream",
     "text": [
      "Extracting Features:  72%|███████▏  | 28/39 [03:11<01:10,  6.39s/it]"
     ]
    },
    {
     "name": "stdout",
     "output_type": "stream",
     "text": [
      "Batch features shape: torch.Size([16, 27648])\n",
      "Batch labels shape: torch.Size([16])\n"
     ]
    },
    {
     "name": "stderr",
     "output_type": "stream",
     "text": [
      "Extracting Features:  74%|███████▍  | 29/39 [03:17<01:03,  6.39s/it]"
     ]
    },
    {
     "name": "stdout",
     "output_type": "stream",
     "text": [
      "Batch features shape: torch.Size([16, 27648])\n",
      "Batch labels shape: torch.Size([16])\n"
     ]
    },
    {
     "name": "stderr",
     "output_type": "stream",
     "text": [
      "Extracting Features:  77%|███████▋  | 30/39 [03:24<00:58,  6.50s/it]"
     ]
    },
    {
     "name": "stdout",
     "output_type": "stream",
     "text": [
      "Batch features shape: torch.Size([16, 27648])\n",
      "Batch labels shape: torch.Size([16])\n"
     ]
    },
    {
     "name": "stderr",
     "output_type": "stream",
     "text": [
      "Extracting Features:  79%|███████▉  | 31/39 [03:31<00:53,  6.71s/it]"
     ]
    },
    {
     "name": "stdout",
     "output_type": "stream",
     "text": [
      "Batch features shape: torch.Size([16, 27648])\n",
      "Batch labels shape: torch.Size([16])\n"
     ]
    },
    {
     "name": "stderr",
     "output_type": "stream",
     "text": [
      "Extracting Features:  82%|████████▏ | 32/39 [03:38<00:47,  6.84s/it]"
     ]
    },
    {
     "name": "stdout",
     "output_type": "stream",
     "text": [
      "Batch features shape: torch.Size([16, 27648])\n",
      "Batch labels shape: torch.Size([16])\n"
     ]
    },
    {
     "name": "stderr",
     "output_type": "stream",
     "text": [
      "Extracting Features:  85%|████████▍ | 33/39 [03:46<00:41,  6.94s/it]"
     ]
    },
    {
     "name": "stdout",
     "output_type": "stream",
     "text": [
      "Batch features shape: torch.Size([16, 27648])\n",
      "Batch labels shape: torch.Size([16])\n"
     ]
    },
    {
     "name": "stderr",
     "output_type": "stream",
     "text": [
      "Extracting Features:  87%|████████▋ | 34/39 [03:53<00:34,  6.99s/it]"
     ]
    },
    {
     "name": "stdout",
     "output_type": "stream",
     "text": [
      "Batch features shape: torch.Size([16, 27648])\n",
      "Batch labels shape: torch.Size([16])\n"
     ]
    },
    {
     "name": "stderr",
     "output_type": "stream",
     "text": [
      "Extracting Features:  90%|████████▉ | 35/39 [04:00<00:28,  7.04s/it]"
     ]
    },
    {
     "name": "stdout",
     "output_type": "stream",
     "text": [
      "Batch features shape: torch.Size([16, 27648])\n",
      "Batch labels shape: torch.Size([16])\n"
     ]
    },
    {
     "name": "stderr",
     "output_type": "stream",
     "text": [
      "Extracting Features:  92%|█████████▏| 36/39 [04:07<00:21,  7.06s/it]"
     ]
    },
    {
     "name": "stdout",
     "output_type": "stream",
     "text": [
      "Batch features shape: torch.Size([16, 27648])\n",
      "Batch labels shape: torch.Size([16])\n"
     ]
    },
    {
     "name": "stderr",
     "output_type": "stream",
     "text": [
      "Extracting Features:  95%|█████████▍| 37/39 [04:14<00:14,  7.08s/it]"
     ]
    },
    {
     "name": "stdout",
     "output_type": "stream",
     "text": [
      "Batch features shape: torch.Size([16, 27648])\n",
      "Batch labels shape: torch.Size([16])\n"
     ]
    },
    {
     "name": "stderr",
     "output_type": "stream",
     "text": [
      "Extracting Features:  97%|█████████▋| 38/39 [04:21<00:07,  7.10s/it]"
     ]
    },
    {
     "name": "stdout",
     "output_type": "stream",
     "text": [
      "Batch features shape: torch.Size([16, 27648])\n",
      "Batch labels shape: torch.Size([16])\n"
     ]
    },
    {
     "name": "stderr",
     "output_type": "stream",
     "text": [
      "Extracting Features: 100%|██████████| 39/39 [04:24<00:00,  6.79s/it]"
     ]
    },
    {
     "name": "stdout",
     "output_type": "stream",
     "text": [
      "Batch features shape: torch.Size([7, 27648])\n",
      "Batch labels shape: torch.Size([7])\n",
      "Features shape after concatenation: torch.Size([615, 27648])\n",
      "Labels shape after concatenation: torch.Size([615])\n"
     ]
    },
    {
     "name": "stderr",
     "output_type": "stream",
     "text": [
      "\n"
     ]
    }
   ],
   "source": [
    "# 3. Extract features\n",
    "inference_feats, inference_true_labels, inference_paths = extract_features(inference_loader)"
   ]
  },
  {
   "cell_type": "code",
   "execution_count": 20,
   "metadata": {},
   "outputs": [],
   "source": [
    "@torch.no_grad()\n",
    "def predict_with_probs(model, features, device):\n",
    "    model.eval()\n",
    "    features = features.to(device)\n",
    "    logits = model(features)  # shape: [N, 2]\n",
    "    probs = F.softmax(logits, dim=1)  # Convert logits to probabilities\n",
    "    return probs.cpu().numpy()\n"
   ]
  },
  {
   "cell_type": "code",
   "execution_count": 21,
   "metadata": {},
   "outputs": [],
   "source": [
    "probs = predict_with_probs(logreg_model, inference_feats, device)  # shape [N, 2]"
   ]
  },
  {
   "cell_type": "code",
   "execution_count": 22,
   "metadata": {},
   "outputs": [
    {
     "data": {
      "image/png": "[encoded data removed]",
      "text/plain": [
       "<Figure size 1000x1200 with 6 Axes>"
      ]
     },
     "metadata": {},
     "output_type": "display_data"
    },
    {
     "data": {
      "image/png": "[encoded data removed]",
      "text/plain": [
       "<Figure size 1000x500 with 1 Axes>"
      ]
     },
     "metadata": {},
     "output_type": "display_data"
    },
    {
     "data": {
      "image/png": "[encoded data removed]",
      "text/plain": [
       "<Figure size 1000x500 with 1 Axes>"
      ]
     },
     "metadata": {},
     "output_type": "display_data"
    }
   ],
   "source": [
    "groups_data = {g: [] for g in groups}\n",
    "\n",
    "# Since group_names aligns with inference_paths and probs, we can pair them up\n",
    "for p_control, p_treated, grp, path in zip(probs[:,0], probs[:,1], group_names, inference_paths):\n",
    "    groups_data[grp].append([p_control, p_treated, path])\n",
    "\n",
    "# Now we have groups_data with each group having a list of probabilities and paths.\n",
    "\n",
    "# 5. Plot distributions\n",
    "\n",
    "# Individual distributions per group:\n",
    "# We'll create subplots dynamically based on how many groups we have.\n",
    "num_groups = len(groups)\n",
    "fig, axs = plt.subplots(num_groups, 2, figsize=(10, 4*num_groups))\n",
    "# axs[i,0] -> p(control) distribution for group i\n",
    "# axs[i,1] -> p(treated) distribution for group i\n",
    "\n",
    "if num_groups == 1:\n",
    "    # If there's only one group, axs is not a 2D array\n",
    "    axs = np.array([axs])  # make it 2D for consistency\n",
    "\n",
    "for i, grp in enumerate(groups):\n",
    "    p_control_list = [item[0] for item in groups_data[grp]]\n",
    "    p_treated_list = [item[1] for item in groups_data[grp]]\n",
    "\n",
    "    axs[i, 0].hist(p_control_list, bins=20, alpha=0.7, edgecolor='black')\n",
    "    axs[i, 0].set_title(f\"{grp} Group p(control)\")\n",
    "    axs[i, 0].set_xlabel(\"Probability\")\n",
    "    axs[i, 0].set_ylabel(\"Count\")\n",
    "\n",
    "    axs[i, 1].hist(p_treated_list, bins=20, alpha=0.7, edgecolor='black', color='orange')\n",
    "    axs[i, 1].set_title(f\"{grp} Group p(treated)\")\n",
    "    axs[i, 1].set_xlabel(\"Probability\")\n",
    "    axs[i, 1].set_ylabel(\"Count\")\n",
    "\n",
    "plt.tight_layout()\n",
    "plt.show()\n",
    "\n",
    "# 6. Plot combined distributions\n",
    "# 6.1: Compare all groups p(control) together\n",
    "plt.figure(figsize=(10, 5))\n",
    "for grp in groups:\n",
    "    p_control_list = [item[0] for item in groups_data[grp]]\n",
    "    plt.hist(p_control_list, bins=20, alpha=0.5, edgecolor='black', label=grp)\n",
    "plt.title(\"p(control) Distribution Across All Groups\")\n",
    "plt.xlabel(\"Probability\")\n",
    "plt.ylabel(\"Count\")\n",
    "plt.legend()\n",
    "plt.show()\n",
    "\n",
    "# 6.2: Compare all groups p(treated) together\n",
    "plt.figure(figsize=(10, 5))\n",
    "for grp in groups:\n",
    "    p_treated_list = [item[1] for item in groups_data[grp]]\n",
    "    plt.hist(p_treated_list, bins=20, alpha=0.5, edgecolor='black', label=grp)\n",
    "plt.title(\"p(treated) Distribution Across All Groups\")\n",
    "plt.xlabel(\"Probability\")\n",
    "plt.ylabel(\"Count\")\n",
    "plt.legend()\n",
    "plt.show()"
   ]
  },
  {
   "cell_type": "code",
   "execution_count": 23,
   "metadata": {},
   "outputs": [
    {
     "name": "stdout",
     "output_type": "stream",
     "text": [
      "Images sorted by p(treated) in ascending order:\n",
      "G:\\softmax\\inference\\cond7_all\\ds_51_D08-T01.tiff: 0.0000\n",
      "G:\\softmax\\inference\\cond7_all\\ds_51_C02-T01.tiff: 0.0000\n",
      "G:\\softmax\\inference\\cond7_all\\ds_51_D02-T01.tiff: 0.0000\n",
      "G:\\softmax\\inference\\cond7_all\\ds_51_F03-T01.tiff: 0.0000\n",
      "G:\\softmax\\inference\\cond7_all\\ds_51_C04-T01.tiff: 0.0000\n",
      "G:\\softmax\\inference\\cond7_all\\ds_51_D07-T01.tiff: 0.0000\n",
      "G:\\softmax\\inference\\cond7_all\\ds_51_B02-T01.tiff: 0.0000\n",
      "G:\\softmax\\inference\\cond7_all\\ds_51_D09-T01.tiff: 0.0000\n",
      "G:\\softmax\\inference\\cond7_all\\ds_51_C07-T01.tiff: 0.0000\n",
      "G:\\softmax\\inference\\cond7_all\\ds_51_D06-T01.tiff: 0.0000\n",
      "G:\\softmax\\inference\\cond7_all\\ds_51_C10-T01.tiff: 0.0000\n",
      "G:\\softmax\\inference\\cond7_all\\ds_51_D11-T01.tiff: 0.0000\n",
      "G:\\softmax\\inference\\cond7_all\\ds_51_E03-T01.tiff: 0.0000\n",
      "G:\\softmax\\inference\\cond7_all\\ds_51_F02-T01.tiff: 0.0000\n",
      "G:\\softmax\\inference\\cond7_all\\ds_51_D03-T01.tiff: 0.0000\n",
      "G:\\softmax\\inference\\cond7_all\\ds_51_C06-T01.tiff: 0.0000\n",
      "G:\\softmax\\inference\\cond7_all\\ds_51_C03-T01.tiff: 0.0000\n",
      "G:\\softmax\\inference\\cond7_all\\ds_51_C08-T01.tiff: 0.0000\n",
      "G:\\softmax\\inference\\cond7_all\\ds_51_C09-T01.tiff: 0.0000\n",
      "G:\\softmax\\inference\\cond7_all\\ds_51_B06-T01.tiff: 0.0000\n",
      "G:\\softmax\\inference\\cond7_all\\ds_51_G02-T01.tiff: 0.0000\n",
      "G:\\softmax\\inference\\cond7_all\\ds_51_D10-T01.tiff: 0.0000\n",
      "G:\\softmax\\inference\\cond7_all\\ds_51_G04-T01.tiff: 0.0000\n",
      "G:\\softmax\\inference\\cond7_all\\ds_51_F09-T01.tiff: 0.0000\n",
      "G:\\softmax\\inference\\cond7_all\\ds_51_D04-T01.tiff: 0.0000\n",
      "G:\\softmax\\inference\\cond7_all\\ds_51_E08-T01.tiff: 0.0000\n",
      "G:\\softmax\\inference\\cond7_all\\ds_51_F05-T01.tiff: 0.0000\n",
      "G:\\softmax\\inference\\cond7_all\\ds_51_F04-T01.tiff: 0.0000\n",
      "G:\\softmax\\inference\\cond7_all\\ds_51_B10-T01.tiff: 0.0000\n",
      "G:\\softmax\\inference\\cond7_all\\ds_51_E09-T01.tiff: 0.0000\n",
      "G:\\softmax\\inference\\cond7_all\\ds_51_B07-T01.tiff: 0.0000\n",
      "G:\\softmax\\inference\\cond7_all\\ds_51_F10-T01.tiff: 0.0000\n",
      "G:\\softmax\\inference\\cond7_all\\ds_51_G09-T01.tiff: 0.0000\n",
      "G:\\softmax\\inference\\cond7_all\\ds_51_G10-T01.tiff: 0.0000\n",
      "G:\\softmax\\inference\\cond7_all\\ds_42_B02-T01.tiff: 0.0000\n",
      "G:\\softmax\\inference\\cond7_all\\ds_51_B03-T01.tiff: 0.0000\n",
      "G:\\softmax\\inference\\cond7_all\\ds_62_E06-T01.tiff: 0.0000\n",
      "G:\\softmax\\inference\\cond7_all\\ds_51_C05-T01.tiff: 0.0000\n",
      "G:\\softmax\\inference\\cond7_all\\ds_51_D05-T01.tiff: 0.0000\n",
      "G:\\softmax\\inference\\cond7_all\\ds_42_B06-T01.tiff: 0.0000\n",
      "G:\\softmax\\inference\\cond7_all\\ds_51_B05-T01.tiff: 0.0000\n",
      "G:\\softmax\\inference\\cond7_all\\ds_51_E10-T01.tiff: 0.0000\n",
      "G:\\softmax\\inference\\cond7_all\\ds_51_G05-T01.tiff: 0.0000\n",
      "G:\\softmax\\inference\\cond7_all\\ds_51_E04-T01.tiff: 0.0000\n",
      "G:\\softmax\\inference\\cond7_all\\ds_52_D11-T01.tiff: 0.0000\n",
      "G:\\softmax\\inference\\cond7_all\\ds_51_F11-T01.tiff: 0.0000\n",
      "G:\\softmax\\inference\\cond7_all\\ds_62_C04-T01.tiff: 0.0000\n",
      "G:\\softmax\\inference\\cond7_all\\ds_51_F07-T01.tiff: 0.0000\n",
      "G:\\softmax\\inference\\cond7_all\\ds_51_F08-T01.tiff: 0.0000\n",
      "G:\\softmax\\inference\\cond7_all\\ds_62_B02-T01.tiff: 0.0000\n",
      "G:\\softmax\\inference\\cond7_all\\ds_51_G11-T01.tiff: 0.0000\n",
      "G:\\softmax\\inference\\cond7_all\\ds_51_E11-T01.tiff: 0.0000\n",
      "G:\\softmax\\inference\\cond7_all\\ds_51_G06-T01.tiff: 0.0000\n",
      "G:\\softmax\\inference\\cond7_all\\ds_51_E07-T01.tiff: 0.0000\n",
      "G:\\softmax\\inference\\cond7_all\\ds_51_B08-T01.tiff: 0.0000\n",
      "G:\\softmax\\inference\\cond7_all\\ds_51_G08-T01.tiff: 0.0000\n",
      "G:\\softmax\\inference\\cond7_all\\ds_51_F06-T01.tiff: 0.0000\n",
      "G:\\softmax\\inference\\cond7_all\\ds_62_C02-T01.tiff: 0.0000\n",
      "G:\\softmax\\inference\\cond7_all\\ds_51_B09-T01.tiff: 0.0000\n",
      "G:\\softmax\\inference\\cond7_all\\ds_52_B11-T01.tiff: 0.0000\n",
      "G:\\softmax\\inference\\cond7_all\\ds_62_B06-T01.tiff: 0.0000\n",
      "G:\\softmax\\inference\\cond7_all\\ds_51_E06-T01.tiff: 0.0000\n",
      "G:\\softmax\\inference\\cond7_all\\ds_51_C11-T01.tiff: 0.0000\n",
      "G:\\softmax\\inference\\cond7_all\\ds_62_D02-T01.tiff: 0.0000\n",
      "G:\\softmax\\inference\\cond7_all\\ds_62_B05-T01.tiff: 0.0000\n",
      "G:\\softmax\\inference\\cond7_all\\ds_42_D08-T01.tiff: 0.0000\n",
      "G:\\softmax\\inference\\cond7_all\\ds_52_D08-T01.tiff: 0.0000\n",
      "G:\\softmax\\inference\\cond7_all\\ds_62_B04-T01.tiff: 0.0000\n",
      "G:\\softmax\\inference\\cond7_all\\ds_51_E02-T01.tiff: 0.0000\n",
      "G:\\softmax\\inference\\cond7_all\\ds_62_D06-T01.tiff: 0.0000\n",
      "G:\\softmax\\inference\\cond7_all\\ds_52_F09-T01.tiff: 0.0000\n",
      "G:\\softmax\\inference\\cond7_all\\ds_52_C09-T01.tiff: 0.0000\n",
      "G:\\softmax\\inference\\cond7_all\\ds_51_E05-T01.tiff: 0.0000\n",
      "G:\\softmax\\inference\\cond7_all\\ds_52_G11-T01.tiff: 0.0000\n",
      "G:\\softmax\\inference\\cond7_all\\ds_51_G03-T01.tiff: 0.0000\n",
      "G:\\softmax\\inference\\cond7_all\\ds_42_B07-T01.tiff: 0.0000\n",
      "G:\\softmax\\inference\\cond7_all\\ds_62_B07-T01.tiff: 0.0000\n",
      "G:\\softmax\\inference\\cond7_all\\ds_41_D03-T01.tiff: 0.0000\n",
      "G:\\softmax\\inference\\cond7_all\\ds_52_E08-T01.tiff: 0.0000\n",
      "G:\\softmax\\inference\\cond7_all\\ds_51_B11-T01.tiff: 0.0000\n",
      "G:\\softmax\\inference\\cond7_all\\ds_42_D02-T01.tiff: 0.0000\n",
      "G:\\softmax\\inference\\cond7_all\\ds_62_D03-T01.tiff: 0.0000\n",
      "G:\\softmax\\inference\\cond7_all\\ds_52_F10-T01.tiff: 0.0000\n",
      "G:\\softmax\\inference\\cond7_all\\ds_52_E09-T01.tiff: 0.0000\n",
      "G:\\softmax\\inference\\cond7_all\\ds_41_C02-T01.tiff: 0.0000\n",
      "G:\\softmax\\inference\\cond7_all\\ds_51_G07-T01.tiff: 0.0000\n",
      "G:\\softmax\\inference\\cond7_all\\ds_52_E10-T01.tiff: 0.0000\n",
      "G:\\softmax\\inference\\cond7_all\\ds_42_C02-T01.tiff: 0.0000\n",
      "G:\\softmax\\inference\\cond7_all\\ds_41_B06-T01.tiff: 0.0000\n",
      "G:\\softmax\\inference\\cond7_all\\ds_52_G10-T01.tiff: 0.0000\n",
      "G:\\softmax\\inference\\cond7_all\\ds_62_C03-T01.tiff: 0.0000\n",
      "G:\\softmax\\inference\\cond7_all\\ds_62_D07-T01.tiff: 0.0000\n",
      "G:\\softmax\\inference\\cond7_all\\ds_62_D08-T01.tiff: 0.0000\n",
      "G:\\softmax\\inference\\cond7_all\\ds_62_C06-T01.tiff: 0.0000\n",
      "G:\\softmax\\inference\\cond7_all\\ds_62_B10-T01.tiff: 0.0000\n",
      "G:\\softmax\\inference\\cond7_all\\ds_52_D10-T01.tiff: 0.0000\n",
      "G:\\softmax\\inference\\cond7_all\\ds_62_E03-T01.tiff: 0.0000\n",
      "G:\\softmax\\inference\\cond7_all\\ds_41_C03-T01.tiff: 0.0000\n",
      "G:\\softmax\\inference\\cond7_all\\ds_52_C11-T01.tiff: 0.0000\n",
      "G:\\softmax\\inference\\cond7_all\\ds_52_F11-T01.tiff: 0.0000\n",
      "G:\\softmax\\inference\\cond7_all\\ds_41_B05-T01.tiff: 0.0000\n",
      "G:\\softmax\\inference\\cond7_all\\ds_42_D07-T01.tiff: 0.0000\n",
      "G:\\softmax\\inference\\cond7_all\\ds_41_D08-T01.tiff: 0.0000\n",
      "G:\\softmax\\inference\\cond7_all\\ds_42_C03-T01.tiff: 0.0000\n",
      "G:\\softmax\\inference\\cond7_all\\ds_62_F04-T01.tiff: 0.0000\n",
      "G:\\softmax\\inference\\cond7_all\\ds_62_C05-T01.tiff: 0.0000\n",
      "G:\\softmax\\inference\\cond7_all\\ds_42_D03-T01.tiff: 0.0000\n",
      "G:\\softmax\\inference\\cond7_all\\ds_62_E04-T01.tiff: 0.0000\n",
      "G:\\softmax\\inference\\cond7_all\\ds_42_C07-T01.tiff: 0.0000\n",
      "G:\\softmax\\inference\\cond7_all\\ds_52_C08-T01.tiff: 0.0000\n",
      "G:\\softmax\\inference\\cond7_all\\ds_41_D02-T01.tiff: 0.0000\n",
      "G:\\softmax\\inference\\cond7_all\\ds_42_C04-T01.tiff: 0.0000\n",
      "G:\\softmax\\inference\\cond7_all\\ds_52_B10-T01.tiff: 0.0000\n",
      "G:\\softmax\\inference\\cond7_all\\ds_42_C05-T01.tiff: 0.0000\n",
      "G:\\softmax\\inference\\cond7_all\\ds_52_F08-T01.tiff: 0.0000\n",
      "G:\\softmax\\inference\\cond7_all\\ds_42_B04-T01.tiff: 0.0000\n",
      "G:\\softmax\\inference\\cond7_all\\ds_42_B05-T01.tiff: 0.0000\n",
      "G:\\softmax\\inference\\cond7_all\\ds_52_G09-T01.tiff: 0.0000\n",
      "G:\\softmax\\inference\\cond7_all\\ds_52_D07-T01.tiff: 0.0000\n",
      "G:\\softmax\\inference\\cond7_all\\ds_52_D09-T01.tiff: 0.0000\n",
      "G:\\softmax\\inference\\cond7_all\\ds_41_B03-T01.tiff: 0.0000\n",
      "G:\\softmax\\inference\\cond7_all\\ds_42_C08-T01.tiff: 0.0000\n",
      "G:\\softmax\\inference\\cond7_all\\ds_42_D05-T01.tiff: 0.0000\n",
      "G:\\softmax\\inference\\cond7_all\\ds_41_C04-T01.tiff: 0.0000\n",
      "G:\\softmax\\inference\\cond7_all\\ds_62_F02-T01.tiff: 0.0000\n",
      "G:\\softmax\\inference\\cond7_all\\ds_62_B03-T01.tiff: 0.0000\n",
      "G:\\softmax\\inference\\cond7_all\\ds_42_C06-T01.tiff: 0.0000\n",
      "G:\\softmax\\inference\\cond7_all\\ds_41_B04-T01.tiff: 0.0000\n",
      "G:\\softmax\\inference\\cond7_all\\ds_61_D08-T01.tiff: 0.0000\n",
      "G:\\softmax\\inference\\cond7_all\\ds_42_B10-T01.tiff: 0.0000\n",
      "G:\\softmax\\inference\\cond7_all\\ds_62_D05-T01.tiff: 0.0000\n",
      "G:\\softmax\\inference\\cond7_all\\ds_62_B09-T01.tiff: 0.0000\n",
      "G:\\softmax\\inference\\cond7_all\\ds_61_D02-T01.tiff: 0.0000\n",
      "G:\\softmax\\inference\\cond7_all\\ds_41_C05-T01.tiff: 0.0000\n",
      "G:\\softmax\\inference\\cond7_all\\ds_62_C07-T01.tiff: 0.0000\n",
      "G:\\softmax\\inference\\cond7_all\\ds_41_B07-T01.tiff: 0.0000\n",
      "G:\\softmax\\inference\\cond7_all\\ds_41_E03-T01.tiff: 0.0000\n",
      "G:\\softmax\\inference\\cond7_all\\ds_42_B08-T01.tiff: 0.0000\n",
      "G:\\softmax\\inference\\cond7_all\\ds_42_F02-T01.tiff: 0.0000\n",
      "G:\\softmax\\inference\\cond7_all\\ds_42_D04-T01.tiff: 0.0000\n",
      "G:\\softmax\\inference\\cond7_all\\ds_62_F05-T01.tiff: 0.0000\n",
      "G:\\softmax\\inference\\cond7_all\\ds_42_D10-T01.tiff: 0.0000\n",
      "G:\\softmax\\inference\\cond7_all\\ds_41_C06-T01.tiff: 0.0000\n",
      "G:\\softmax\\inference\\cond7_all\\ds_62_B08-T01.tiff: 0.0000\n",
      "G:\\softmax\\inference\\cond7_all\\ds_52_G06-T01.tiff: 0.0000\n",
      "G:\\softmax\\inference\\cond7_all\\ds_41_F02-T01.tiff: 0.0000\n",
      "G:\\softmax\\inference\\cond7_all\\ds_41_D06-T01.tiff: 0.0000\n",
      "G:\\softmax\\inference\\cond7_all\\ds_62_D11-T01.tiff: 0.0000\n",
      "G:\\softmax\\inference\\cond7_all\\ds_62_C08-T01.tiff: 0.0000\n",
      "G:\\softmax\\inference\\cond7_all\\ds_42_E08-T01.tiff: 0.0000\n",
      "G:\\softmax\\inference\\cond7_all\\ds_62_D04-T01.tiff: 0.0000\n",
      "G:\\softmax\\inference\\cond7_all\\ds_42_B09-T01.tiff: 0.0000\n",
      "G:\\softmax\\inference\\cond7_all\\ds_42_C10-T01.tiff: 0.0001\n",
      "G:\\softmax\\inference\\cond7_all\\ds_42_E03-T01.tiff: 0.0001\n",
      "G:\\softmax\\inference\\cond7_all\\ds_42_C09-T01.tiff: 0.0001\n",
      "G:\\softmax\\inference\\cond7_all\\ds_62_G04-T01.tiff: 0.0001\n",
      "G:\\softmax\\inference\\cond7_all\\ds_52_D06-T01.tiff: 0.0001\n",
      "G:\\softmax\\inference\\cond7_all\\ds_42_G02-T01.tiff: 0.0001\n",
      "G:\\softmax\\inference\\cond7_all\\ds_52_B09-T01.tiff: 0.0001\n",
      "G:\\softmax\\inference\\cond7_all\\ds_62_D09-T01.tiff: 0.0001\n",
      "G:\\softmax\\inference\\cond7_all\\ds_52_C07-T01.tiff: 0.0001\n",
      "G:\\softmax\\inference\\cond7_all\\ds_41_G02-T01.tiff: 0.0001\n",
      "G:\\softmax\\inference\\cond7_all\\ds_42_E09-T01.tiff: 0.0001\n",
      "G:\\softmax\\inference\\cond7_all\\ds_41_B10-T01.tiff: 0.0001\n",
      "G:\\softmax\\inference\\cond7_all\\ds_62_G03-T01.tiff: 0.0001\n",
      "G:\\softmax\\inference\\cond7_all\\ds_41_C07-T01.tiff: 0.0001\n",
      "G:\\softmax\\inference\\cond7_all\\ds_41_F03-T01.tiff: 0.0001\n",
      "G:\\softmax\\inference\\cond7_all\\ds_41_D04-T01.tiff: 0.0001\n",
      "G:\\softmax\\inference\\cond7_all\\ds_52_E11-T01.tiff: 0.0001\n",
      "G:\\softmax\\inference\\cond7_all\\ds_52_B07-T01.tiff: 0.0001\n",
      "G:\\softmax\\inference\\cond7_all\\ds_52_C10-T01.tiff: 0.0001\n",
      "G:\\softmax\\inference\\cond7_all\\ds_42_D11-T01.tiff: 0.0001\n",
      "G:\\softmax\\inference\\cond7_all\\ds_52_G05-T01.tiff: 0.0001\n",
      "G:\\softmax\\inference\\cond7_all\\ds_62_C09-T01.tiff: 0.0001\n",
      "G:\\softmax\\inference\\cond7_all\\ds_41_D09-T01.tiff: 0.0001\n",
      "G:\\softmax\\inference\\cond7_all\\ds_62_E07-T01.tiff: 0.0001\n",
      "G:\\softmax\\inference\\cond7_all\\ds_41_D07-T01.tiff: 0.0001\n",
      "G:\\softmax\\inference\\cond7_all\\ds_42_F03-T01.tiff: 0.0001\n",
      "G:\\softmax\\inference\\cond7_all\\ds_42_C11-T01.tiff: 0.0001\n",
      "G:\\softmax\\inference\\cond7_all\\ds_42_D09-T01.tiff: 0.0001\n",
      "G:\\softmax\\inference\\cond7_all\\ds_62_C10-T01.tiff: 0.0001\n",
      "G:\\softmax\\inference\\cond7_all\\ds_62_G05-T01.tiff: 0.0001\n",
      "G:\\softmax\\inference\\cond7_all\\ds_52_F05-T01.tiff: 0.0001\n",
      "G:\\softmax\\inference\\cond7_all\\ds_41_D11-T01.tiff: 0.0002\n",
      "G:\\softmax\\inference\\cond7_all\\ds_61_B10-T01.tiff: 0.0002\n",
      "G:\\softmax\\inference\\cond7_all\\ds_52_E03-T01.tiff: 0.0002\n",
      "G:\\softmax\\inference\\cond7_all\\ds_52_C02-T01.tiff: 0.0002\n",
      "G:\\softmax\\inference\\cond7_all\\ds_61_B02-T01.tiff: 0.0002\n",
      "G:\\softmax\\inference\\cond7_all\\ds_52_D04-T01.tiff: 0.0002\n",
      "G:\\softmax\\inference\\cond7_all\\ds_62_D10-T01.tiff: 0.0002\n",
      "G:\\softmax\\inference\\cond7_all\\ds_52_G07-T01.tiff: 0.0002\n",
      "G:\\softmax\\inference\\cond7_all\\ds_42_D06-T01.tiff: 0.0002\n",
      "G:\\softmax\\inference\\cond7_all\\ds_62_F08-T01.tiff: 0.0002\n",
      "G:\\softmax\\inference\\cond7_all\\ds_1B_D08-T01.tiff: 0.0002\n",
      "G:\\softmax\\inference\\cond7_all\\ds_52_B03-T01.tiff: 0.0002\n",
      "G:\\softmax\\inference\\cond7_all\\ds_41_E07-T01.tiff: 0.0002\n",
      "G:\\softmax\\inference\\cond7_all\\ds_61_B06-T01.tiff: 0.0002\n",
      "G:\\softmax\\inference\\cond7_all\\ds_62_C11-T01.tiff: 0.0002\n",
      "G:\\softmax\\inference\\cond7_all\\ds_42_E07-T01.tiff: 0.0002\n",
      "G:\\softmax\\inference\\cond7_all\\ds_61_D03-T01.tiff: 0.0002\n",
      "G:\\softmax\\inference\\cond7_all\\ds_41_D05-T01.tiff: 0.0002\n",
      "G:\\softmax\\inference\\cond7_all\\ds_62_E02-T01.tiff: 0.0002\n",
      "G:\\softmax\\inference\\cond7_all\\ds_62_E05-T01.tiff: 0.0002\n",
      "G:\\softmax\\inference\\cond7_all\\ds_42_B11-T01.tiff: 0.0002\n",
      "G:\\softmax\\inference\\cond7_all\\ds_52_F06-T01.tiff: 0.0002\n",
      "G:\\softmax\\inference\\cond7_all\\ds_52_E04-T01.tiff: 0.0003\n",
      "G:\\softmax\\inference\\cond7_all\\ds_52_B06-T01.tiff: 0.0003\n",
      "G:\\softmax\\inference\\cond7_all\\ds_62_G02-T01.tiff: 0.0003\n",
      "G:\\softmax\\inference\\cond7_all\\ds_1B_E07-T01.tiff: 0.0003\n",
      "G:\\softmax\\inference\\cond7_all\\ds_61_C08-T01.tiff: 0.0003\n",
      "G:\\softmax\\inference\\cond7_all\\ds_61_C06-T01.tiff: 0.0003\n",
      "G:\\softmax\\inference\\cond7_all\\ds_61_D06-T01.tiff: 0.0003\n",
      "G:\\softmax\\inference\\cond7_all\\ds_1B_E09-T01.tiff: 0.0004\n",
      "G:\\softmax\\inference\\cond7_all\\ds_52_F02-T01.tiff: 0.0004\n",
      "G:\\softmax\\inference\\cond7_all\\ds_41_F04-T01.tiff: 0.0004\n",
      "G:\\softmax\\inference\\cond7_all\\ds_52_C05-T01.tiff: 0.0004\n",
      "G:\\softmax\\inference\\cond7_all\\ds_62_F06-T01.tiff: 0.0004\n",
      "G:\\softmax\\inference\\cond7_all\\ds_61_C07-T01.tiff: 0.0004\n",
      "G:\\softmax\\inference\\cond7_all\\ds_52_B04-T01.tiff: 0.0004\n",
      "G:\\softmax\\inference\\cond7_all\\ds_41_E02-T01.tiff: 0.0004\n",
      "G:\\softmax\\inference\\cond7_all\\ds_61_D07-T01.tiff: 0.0004\n",
      "G:\\softmax\\inference\\cond7_all\\ds_61_C03-T01.tiff: 0.0004\n",
      "G:\\softmax\\inference\\cond7_all\\ds_42_F07-T01.tiff: 0.0004\n",
      "G:\\softmax\\inference\\cond7_all\\ds_62_F07-T01.tiff: 0.0004\n",
      "G:\\softmax\\inference\\cond7_all\\ds_52_G04-T01.tiff: 0.0005\n",
      "G:\\softmax\\inference\\cond7_all\\ds_42_F06-T01.tiff: 0.0005\n",
      "G:\\softmax\\inference\\cond7_all\\ds_41_C08-T01.tiff: 0.0005\n",
      "G:\\softmax\\inference\\cond7_all\\ds_1B_D11-T01.tiff: 0.0005\n",
      "G:\\softmax\\inference\\cond7_all\\ds_42_E02-T01.tiff: 0.0005\n",
      "G:\\softmax\\inference\\cond7_all\\ds_62_E08-T01.tiff: 0.0005\n",
      "G:\\softmax\\inference\\cond7_all\\ds_61_F04-T01.tiff: 0.0005\n",
      "G:\\softmax\\inference\\cond7_all\\ds_52_D03-T01.tiff: 0.0005\n",
      "G:\\softmax\\inference\\cond7_all\\ds_61_D09-T01.tiff: 0.0005\n",
      "G:\\softmax\\inference\\cond7_all\\ds_61_C02-T01.tiff: 0.0005\n",
      "G:\\softmax\\inference\\cond7_all\\ds_42_B03-T01.tiff: 0.0006\n",
      "G:\\softmax\\inference\\cond7_all\\ds_61_E09-T01.tiff: 0.0006\n",
      "G:\\softmax\\inference\\cond7_all\\ds_41_C09-T01.tiff: 0.0006\n",
      "G:\\softmax\\inference\\cond7_all\\ds_52_G03-T01.tiff: 0.0006\n",
      "G:\\softmax\\inference\\cond7_all\\ds_52_E07-T01.tiff: 0.0006\n",
      "G:\\softmax\\inference\\cond7_all\\ds_52_F07-T01.tiff: 0.0006\n",
      "G:\\softmax\\inference\\cond7_all\\ds_41_E04-T01.tiff: 0.0006\n",
      "G:\\softmax\\inference\\cond7_all\\ds_61_C05-T01.tiff: 0.0006\n",
      "G:\\softmax\\inference\\cond7_all\\ds_61_C04-T01.tiff: 0.0006\n",
      "G:\\softmax\\inference\\cond7_all\\ds_42_E10-T01.tiff: 0.0007\n",
      "G:\\softmax\\inference\\cond7_all\\ds_52_B08-T01.tiff: 0.0007\n",
      "G:\\softmax\\inference\\cond7_all\\ds_52_E06-T01.tiff: 0.0007\n",
      "G:\\softmax\\inference\\cond7_all\\ds_61_B09-T01.tiff: 0.0007\n",
      "G:\\softmax\\inference\\cond7_all\\ds_52_F03-T01.tiff: 0.0008\n",
      "G:\\softmax\\inference\\cond7_all\\ds_62_E10-T01.tiff: 0.0008\n",
      "G:\\softmax\\inference\\cond7_all\\ds_61_C09-T01.tiff: 0.0008\n",
      "G:\\softmax\\inference\\cond7_all\\ds_61_D05-T01.tiff: 0.0008\n",
      "G:\\softmax\\inference\\cond7_all\\ds_52_G02-T01.tiff: 0.0009\n",
      "G:\\softmax\\inference\\cond7_all\\ds_41_F05-T01.tiff: 0.0009\n",
      "G:\\softmax\\inference\\cond7_all\\ds_62_B11-T01.tiff: 0.0009\n",
      "G:\\softmax\\inference\\cond7_all\\ds_42_F04-T01.tiff: 0.0010\n",
      "G:\\softmax\\inference\\cond7_all\\ds_61_D11-T01.tiff: 0.0010\n",
      "G:\\softmax\\inference\\cond7_all\\ds_42_F05-T01.tiff: 0.0010\n",
      "G:\\softmax\\inference\\cond7_all\\ds_41_B08-T01.tiff: 0.0010\n",
      "G:\\softmax\\inference\\cond7_all\\ds_1B_D07-T01.tiff: 0.0011\n",
      "G:\\softmax\\inference\\cond7_all\\ds_61_B07-T01.tiff: 0.0011\n",
      "G:\\softmax\\inference\\cond7_all\\ds_41_G04-T01.tiff: 0.0011\n",
      "G:\\softmax\\inference\\cond7_all\\ds_52_D02-T01.tiff: 0.0011\n",
      "G:\\softmax\\inference\\cond7_all\\ds_61_B05-T01.tiff: 0.0011\n",
      "G:\\softmax\\inference\\cond7_all\\ds_61_F02-T01.tiff: 0.0012\n",
      "G:\\softmax\\inference\\cond7_all\\ds_52_D05-T01.tiff: 0.0012\n",
      "G:\\softmax\\inference\\cond7_all\\ds_52_E05-T01.tiff: 0.0012\n",
      "G:\\softmax\\inference\\cond7_all\\ds_62_E09-T01.tiff: 0.0012\n",
      "G:\\softmax\\inference\\cond7_all\\ds_52_B05-T01.tiff: 0.0013\n",
      "G:\\softmax\\inference\\cond7_all\\ds_41_C11-T01.tiff: 0.0014\n",
      "G:\\softmax\\inference\\cond7_all\\ds_62_E11-T01.tiff: 0.0014\n",
      "G:\\softmax\\inference\\cond7_all\\ds_41_F07-T01.tiff: 0.0014\n",
      "G:\\softmax\\inference\\cond7_all\\ds_52_F04-T01.tiff: 0.0014\n",
      "G:\\softmax\\inference\\cond7_all\\ds_62_F09-T01.tiff: 0.0014\n",
      "G:\\softmax\\inference\\cond7_all\\ds_61_B03-T01.tiff: 0.0015\n",
      "G:\\softmax\\inference\\cond7_all\\ds_41_F06-T01.tiff: 0.0016\n",
      "G:\\softmax\\inference\\cond7_all\\ds_42_F08-T01.tiff: 0.0016\n",
      "G:\\softmax\\inference\\cond7_all\\ds_42_E05-T01.tiff: 0.0016\n",
      "G:\\softmax\\inference\\cond7_all\\ds_52_C04-T01.tiff: 0.0016\n",
      "G:\\softmax\\inference\\cond7_all\\ds_1B_E06-T01.tiff: 0.0017\n",
      "G:\\softmax\\inference\\cond7_all\\ds_41_C10-T01.tiff: 0.0017\n",
      "G:\\softmax\\inference\\cond7_all\\ds_61_E07-T01.tiff: 0.0017\n",
      "G:\\softmax\\inference\\cond7_all\\ds_62_G06-T01.tiff: 0.0017\n",
      "G:\\softmax\\inference\\cond7_all\\ds_52_B02-T01.tiff: 0.0017\n",
      "G:\\softmax\\inference\\cond7_all\\ds_1B_E10-T01.tiff: 0.0018\n",
      "G:\\softmax\\inference\\cond7_all\\ds_42_E06-T01.tiff: 0.0018\n",
      "G:\\softmax\\inference\\cond7_all\\ds_52_G08-T01.tiff: 0.0018\n",
      "G:\\softmax\\inference\\cond7_all\\ds_61_D10-T01.tiff: 0.0018\n",
      "G:\\softmax\\inference\\cond7_all\\ds_1B_C06-T01.tiff: 0.0019\n",
      "G:\\softmax\\inference\\cond7_all\\ds_1B_D09-T01.tiff: 0.0020\n",
      "G:\\softmax\\inference\\cond7_all\\ds_42_G04-T01.tiff: 0.0020\n",
      "G:\\softmax\\inference\\cond7_all\\ds_1B_E08-T01.tiff: 0.0020\n",
      "G:\\softmax\\inference\\cond7_all\\ds_42_F09-T01.tiff: 0.0020\n",
      "G:\\softmax\\inference\\cond7_all\\ds_42_E11-T01.tiff: 0.0020\n",
      "G:\\softmax\\inference\\cond7_all\\ds_1B_C08-T01.tiff: 0.0021\n",
      "G:\\softmax\\inference\\cond7_all\\ds_41_E06-T01.tiff: 0.0022\n",
      "G:\\softmax\\inference\\cond7_all\\ds_61_D04-T01.tiff: 0.0023\n",
      "G:\\softmax\\inference\\cond7_all\\ds_1B_B05-T01.tiff: 0.0023\n",
      "G:\\softmax\\inference\\cond7_all\\ds_1B_F05-T01.tiff: 0.0023\n",
      "G:\\softmax\\inference\\cond7_all\\ds_42_G05-T01.tiff: 0.0024\n",
      "G:\\softmax\\inference\\cond7_all\\ds_62_F10-T01.tiff: 0.0025\n",
      "G:\\softmax\\inference\\cond7_all\\ds_61_F03-T01.tiff: 0.0025\n",
      "G:\\softmax\\inference\\cond7_all\\ds_52_C03-T01.tiff: 0.0025\n",
      "G:\\softmax\\inference\\cond7_all\\ds_1B_B10-T01.tiff: 0.0027\n",
      "G:\\softmax\\inference\\cond7_all\\ds_61_E03-T01.tiff: 0.0028\n",
      "G:\\softmax\\inference\\cond7_all\\ds_52_C06-T01.tiff: 0.0028\n",
      "G:\\softmax\\inference\\cond7_all\\ds_61_G02-T01.tiff: 0.0029\n",
      "G:\\softmax\\inference\\cond7_all\\ds_61_B11-T01.tiff: 0.0029\n",
      "G:\\softmax\\inference\\cond7_all\\ds_1B_D10-T01.tiff: 0.0029\n",
      "G:\\softmax\\inference\\cond7_all\\ds_1B_F03-T01.tiff: 0.0030\n",
      "G:\\softmax\\inference\\cond7_all\\ds_42_E04-T01.tiff: 0.0030\n",
      "G:\\softmax\\inference\\cond7_all\\ds_1B_F10-T01.tiff: 0.0032\n",
      "G:\\softmax\\inference\\cond7_all\\ds_1B_C03-T01.tiff: 0.0032\n",
      "G:\\softmax\\inference\\cond7_all\\ds_1B_D06-T01.tiff: 0.0032\n",
      "G:\\softmax\\inference\\cond7_all\\ds_1B_D03-T01.tiff: 0.0032\n",
      "G:\\softmax\\inference\\cond7_all\\ds_1B_G10-T01.tiff: 0.0033\n",
      "G:\\softmax\\inference\\cond7_all\\ds_62_G09-T01.tiff: 0.0034\n",
      "G:\\softmax\\inference\\cond7_all\\ds_1B_F11-T01.tiff: 0.0035\n",
      "G:\\softmax\\inference\\cond7_all\\ds_1B_C02-T01.tiff: 0.0036\n",
      "G:\\softmax\\inference\\cond7_all\\ds_1B_D05-T01.tiff: 0.0038\n",
      "G:\\softmax\\inference\\cond7_all\\ds_41_E09-T01.tiff: 0.0038\n",
      "G:\\softmax\\inference\\cond7_all\\ds_1B_F09-T01.tiff: 0.0039\n",
      "G:\\softmax\\inference\\cond7_all\\ds_41_G05-T01.tiff: 0.0039\n",
      "G:\\softmax\\inference\\cond7_all\\ds_1B_E04-T01.tiff: 0.0039\n",
      "G:\\softmax\\inference\\cond7_all\\ds_1B_D02-T01.tiff: 0.0039\n",
      "G:\\softmax\\inference\\cond7_all\\ds_41_B09-T01.tiff: 0.0041\n",
      "G:\\softmax\\inference\\cond7_all\\ds_1B_E11-T01.tiff: 0.0041\n",
      "G:\\softmax\\inference\\cond7_all\\ds_42_F10-T01.tiff: 0.0042\n",
      "G:\\softmax\\inference\\cond7_all\\ds_1B_E03-T01.tiff: 0.0042\n",
      "G:\\softmax\\inference\\cond7_all\\ds_41_B11-T01.tiff: 0.0043\n",
      "G:\\softmax\\inference\\cond7_all\\ds_41_E05-T01.tiff: 0.0043\n",
      "G:\\softmax\\inference\\cond7_all\\ds_52_E02-T01.tiff: 0.0044\n",
      "G:\\softmax\\inference\\cond7_all\\ds_41_E08-T01.tiff: 0.0044\n",
      "G:\\softmax\\inference\\cond7_all\\ds_61_F05-T01.tiff: 0.0044\n",
      "G:\\softmax\\inference\\cond7_all\\ds_41_D10-T01.tiff: 0.0044\n",
      "G:\\softmax\\inference\\cond7_all\\ds_42_G08-T01.tiff: 0.0047\n",
      "G:\\softmax\\inference\\cond7_all\\ds_61_C10-T01.tiff: 0.0049\n",
      "G:\\softmax\\inference\\cond7_all\\ds_1B_F04-T01.tiff: 0.0050\n",
      "G:\\softmax\\inference\\cond7_all\\ds_61_E06-T01.tiff: 0.0051\n",
      "G:\\softmax\\inference\\cond7_all\\ds_41_E11-T01.tiff: 0.0055\n",
      "G:\\softmax\\inference\\cond7_all\\ds_62_G10-T01.tiff: 0.0056\n",
      "G:\\softmax\\inference\\cond7_all\\ds_1B_G06-T01.tiff: 0.0056\n",
      "G:\\softmax\\inference\\cond7_all\\ds_1B_C09-T01.tiff: 0.0057\n",
      "G:\\softmax\\inference\\cond7_all\\ds_61_E08-T01.tiff: 0.0058\n",
      "G:\\softmax\\inference\\cond7_all\\ds_1B_C10-T01.tiff: 0.0059\n",
      "G:\\softmax\\inference\\cond7_all\\ds_1B_B02-T01.tiff: 0.0059\n",
      "G:\\softmax\\inference\\cond7_all\\ds_1B_C05-T01.tiff: 0.0059\n",
      "G:\\softmax\\inference\\cond7_all\\sd_04_D08-T01.tiff: 0.0060\n",
      "G:\\softmax\\inference\\cond7_all\\ds_42_G10-T01.tiff: 0.0060\n",
      "G:\\softmax\\inference\\cond7_all\\ds_1B_G07-T01.tiff: 0.0060\n",
      "G:\\softmax\\inference\\cond7_all\\ds_61_E11-T01.tiff: 0.0060\n",
      "G:\\softmax\\inference\\cond7_all\\ds_1B_E02-T01.tiff: 0.0061\n",
      "G:\\softmax\\inference\\cond7_all\\ds_41_G06-T01.tiff: 0.0061\n",
      "G:\\softmax\\inference\\cond7_all\\ds_1B_C04-T01.tiff: 0.0061\n",
      "G:\\softmax\\inference\\cond7_all\\ds_1B_G04-T01.tiff: 0.0062\n",
      "G:\\softmax\\inference\\cond7_all\\sd_04_B06-T01.tiff: 0.0063\n",
      "G:\\softmax\\inference\\cond7_all\\ds_41_F08-T01.tiff: 0.0063\n",
      "G:\\softmax\\inference\\cond7_all\\ds_41_F09-T01.tiff: 0.0064\n",
      "G:\\softmax\\inference\\cond7_all\\sd_04_D04-T01.tiff: 0.0065\n",
      "G:\\softmax\\inference\\cond7_all\\ds_1B_C11-T01.tiff: 0.0066\n",
      "G:\\softmax\\inference\\cond7_all\\ds_42_G09-T01.tiff: 0.0066\n",
      "G:\\softmax\\inference\\cond7_all\\ds_1B_C07-T01.tiff: 0.0067\n",
      "G:\\softmax\\inference\\cond7_all\\sd_04_B10-T01.tiff: 0.0068\n",
      "G:\\softmax\\inference\\cond7_all\\ds_1B_F02-T01.tiff: 0.0070\n",
      "G:\\softmax\\inference\\cond7_all\\ds_41_E10-T01.tiff: 0.0071\n",
      "G:\\softmax\\inference\\cond7_all\\ds_61_F09-T01.tiff: 0.0072\n",
      "G:\\softmax\\inference\\cond7_all\\ds_1B_F08-T01.tiff: 0.0072\n",
      "G:\\softmax\\inference\\cond7_all\\ds_1B_E05-T01.tiff: 0.0073\n",
      "G:\\softmax\\inference\\cond7_all\\ds_62_G08-T01.tiff: 0.0073\n",
      "G:\\softmax\\inference\\cond7_all\\ds_1B_F07-T01.tiff: 0.0075\n",
      "G:\\softmax\\inference\\cond7_all\\ds_1B_F06-T01.tiff: 0.0077\n",
      "G:\\softmax\\inference\\cond7_all\\ds_1B_B03-T01.tiff: 0.0078\n",
      "G:\\softmax\\inference\\cond7_all\\ds_1B_G02-T01.tiff: 0.0078\n",
      "G:\\softmax\\inference\\cond7_all\\ds_1B_B07-T01.tiff: 0.0082\n",
      "G:\\softmax\\inference\\cond7_all\\ds_42_F11-T01.tiff: 0.0082\n",
      "G:\\softmax\\inference\\cond7_all\\ds_41_F10-T01.tiff: 0.0083\n",
      "G:\\softmax\\inference\\cond7_all\\ds_61_F07-T01.tiff: 0.0085\n",
      "G:\\softmax\\inference\\cond7_all\\ds_61_E10-T01.tiff: 0.0092\n",
      "G:\\softmax\\inference\\cond7_all\\ds_61_C11-T01.tiff: 0.0093\n",
      "G:\\softmax\\inference\\cond7_all\\ds_42_G07-T01.tiff: 0.0095\n",
      "G:\\softmax\\inference\\cond7_all\\ds_1B_G05-T01.tiff: 0.0095\n",
      "G:\\softmax\\inference\\cond7_all\\ds_61_E02-T01.tiff: 0.0096\n",
      "G:\\softmax\\inference\\cond7_all\\ds_1B_B06-T01.tiff: 0.0103\n",
      "G:\\softmax\\inference\\cond7_all\\ds_41_G07-T01.tiff: 0.0105\n",
      "G:\\softmax\\inference\\cond7_all\\ds_61_F08-T01.tiff: 0.0106\n",
      "G:\\softmax\\inference\\cond7_all\\ds_1B_G09-T01.tiff: 0.0107\n",
      "G:\\softmax\\inference\\cond7_all\\ds_1B_G11-T01.tiff: 0.0110\n",
      "G:\\softmax\\inference\\cond7_all\\sd_04_C08-T01.tiff: 0.0113\n",
      "G:\\softmax\\inference\\cond7_all\\ds_41_G10-T01.tiff: 0.0113\n",
      "G:\\softmax\\inference\\cond7_all\\ds_61_G03-T01.tiff: 0.0115\n",
      "G:\\softmax\\inference\\cond7_all\\ds_62_F11-T01.tiff: 0.0115\n",
      "G:\\softmax\\inference\\cond7_all\\ds_1B_B04-T01.tiff: 0.0117\n",
      "G:\\softmax\\inference\\cond7_all\\ds_1B_D04-T01.tiff: 0.0119\n",
      "G:\\softmax\\inference\\cond7_all\\ds_61_E04-T01.tiff: 0.0120\n",
      "G:\\softmax\\inference\\cond7_all\\ds_62_G07-T01.tiff: 0.0125\n",
      "G:\\softmax\\inference\\cond7_all\\sd_04_D11-T01.tiff: 0.0139\n",
      "G:\\softmax\\inference\\cond7_all\\sd_04_D06-T01.tiff: 0.0140\n",
      "G:\\softmax\\inference\\cond7_all\\ds_1B_B08-T01.tiff: 0.0146\n",
      "G:\\softmax\\inference\\cond7_all\\ds_61_F06-T01.tiff: 0.0151\n",
      "G:\\softmax\\inference\\cond7_all\\ds_42_G06-T01.tiff: 0.0151\n",
      "G:\\softmax\\inference\\cond7_all\\ds_61_G04-T01.tiff: 0.0156\n",
      "G:\\softmax\\inference\\cond7_all\\ds_1B_G08-T01.tiff: 0.0176\n",
      "G:\\softmax\\inference\\cond7_all\\ds_41_G11-T01.tiff: 0.0176\n",
      "G:\\softmax\\inference\\cond7_all\\ds_42_G11-T01.tiff: 0.0182\n",
      "G:\\softmax\\inference\\cond7_all\\sd_04_C03-T01.tiff: 0.0194\n",
      "G:\\softmax\\inference\\cond7_all\\ds_61_G09-T01.tiff: 0.0201\n",
      "G:\\softmax\\inference\\cond7_all\\sd_04_E09-T01.tiff: 0.0205\n",
      "G:\\softmax\\inference\\cond7_all\\sd_04_C06-T01.tiff: 0.0213\n",
      "G:\\softmax\\inference\\sd\\RBT10_B10-T01.tiff: 0.0216\n",
      "G:\\softmax\\inference\\cond7_all\\ds_1B_G03-T01.tiff: 0.0222\n",
      "G:\\softmax\\inference\\cond7_all\\ds_61_G05-T01.tiff: 0.0229\n",
      "G:\\softmax\\inference\\cond7_all\\ds_1B_B09-T01.tiff: 0.0239\n",
      "G:\\softmax\\inference\\cond7_all\\sd_04_D05-T01.tiff: 0.0241\n",
      "G:\\softmax\\inference\\cond7_all\\ds_41_G09-T01.tiff: 0.0242\n",
      "G:\\softmax\\inference\\cond7_all\\ds_61_E05-T01.tiff: 0.0242\n",
      "G:\\softmax\\inference\\cond7_all\\ds_41_G08-T01.tiff: 0.0265\n",
      "G:\\softmax\\inference\\cond7_all\\ds_61_F10-T01.tiff: 0.0266\n",
      "G:\\softmax\\inference\\cond7_all\\sd_04_B09-T01.tiff: 0.0270\n",
      "G:\\softmax\\inference\\cond7_all\\sd_04_E08-T01.tiff: 0.0271\n",
      "G:\\softmax\\inference\\cond7_all\\ds_61_G07-T01.tiff: 0.0272\n",
      "G:\\softmax\\inference\\cond7_all\\sd_04_E07-T01.tiff: 0.0276\n",
      "G:\\softmax\\inference\\cond7_all\\sd_04_D10-T01.tiff: 0.0287\n",
      "G:\\softmax\\inference\\cond7_all\\sd_04_F03-T01.tiff: 0.0288\n",
      "G:\\softmax\\inference\\cond7_all\\sd_04_C09-T01.tiff: 0.0323\n",
      "G:\\softmax\\inference\\cond7_all\\ds_1B_B11-T01.tiff: 0.0341\n",
      "G:\\softmax\\inference\\cond7_all\\sd_04_C04-T01.tiff: 0.0361\n",
      "G:\\softmax\\inference\\cond7_all\\sd_04_C11-T01.tiff: 0.0393\n",
      "G:\\softmax\\inference\\cond7_all\\sd_04_D09-T01.tiff: 0.0413\n",
      "G:\\softmax\\inference\\cond7_all\\sd_04_D02-T01.tiff: 0.0417\n",
      "G:\\softmax\\inference\\cond7_all\\ds_61_G10-T01.tiff: 0.0425\n",
      "G:\\softmax\\inference\\cond7_all\\sd_04_D07-T01.tiff: 0.0443\n",
      "G:\\softmax\\inference\\cond7_all\\ds_41_F11-T01.tiff: 0.0456\n",
      "G:\\softmax\\inference\\cond7_all\\sd_04_C05-T01.tiff: 0.0468\n",
      "G:\\softmax\\inference\\cond7_all\\ds_61_G11-T01.tiff: 0.0471\n",
      "G:\\softmax\\inference\\cond7_all\\sd_04_B08-T01.tiff: 0.0473\n",
      "G:\\softmax\\inference\\cond7_all\\sd_04_B05-T01.tiff: 0.0480\n",
      "G:\\softmax\\inference\\cond7_all\\sd_04_C07-T01.tiff: 0.0490\n",
      "G:\\softmax\\inference\\cond7_all\\sd_04_C10-T01.tiff: 0.0503\n",
      "G:\\softmax\\inference\\cond7_all\\sd_04_B03-T01.tiff: 0.0533\n",
      "G:\\softmax\\inference\\cond7_all\\sd_04_E03-T01.tiff: 0.0538\n",
      "G:\\softmax\\inference\\cond7_all\\sd_04_B11-T01.tiff: 0.0539\n",
      "G:\\softmax\\inference\\cond7_all\\ds_62_G11-T01.tiff: 0.0540\n",
      "G:\\softmax\\inference\\cond7_all\\sd_04_E05-T01.tiff: 0.0547\n",
      "G:\\softmax\\inference\\cond7_all\\sd_04_C02-T01.tiff: 0.0549\n",
      "G:\\softmax\\inference\\cond7_all\\sd_04_F11-T01.tiff: 0.0569\n",
      "G:\\softmax\\inference\\cond7_all\\sd_04_B07-T01.tiff: 0.0587\n",
      "G:\\softmax\\inference\\cond7_all\\sd_04_D03-T01.tiff: 0.0651\n",
      "G:\\softmax\\inference\\cond7_all\\ds_61_F11-T01.tiff: 0.0657\n",
      "G:\\softmax\\inference\\cond7_all\\sd_04_E10-T01.tiff: 0.0682\n",
      "G:\\softmax\\inference\\cond7_all\\ds_61_G06-T01.tiff: 0.0685\n",
      "G:\\softmax\\inference\\cond7_all\\sd_04_F10-T01.tiff: 0.0728\n",
      "G:\\softmax\\inference\\cond7_all\\ds_61_G08-T01.tiff: 0.0760\n",
      "G:\\softmax\\inference\\cond7_all\\sd_04_E04-T01.tiff: 0.0763\n",
      "G:\\softmax\\inference\\cond7_all\\sd_04_F08-T01.tiff: 0.0793\n",
      "G:\\softmax\\inference\\cond7_all\\sd_04_G11-T01.tiff: 0.0816\n",
      "G:\\softmax\\inference\\cond7_all\\sd_04_E06-T01.tiff: 0.0900\n",
      "G:\\softmax\\inference\\cond7_all\\sd_04_B04-T01.tiff: 0.0954\n",
      "G:\\softmax\\inference\\cond7_all\\sd_04_F05-T01.tiff: 0.1138\n",
      "G:\\softmax\\inference\\cond7_all\\sd_04_E11-T01.tiff: 0.1188\n",
      "G:\\softmax\\inference\\cond7_all\\sd_04_E02-T01.tiff: 0.1372\n",
      "G:\\softmax\\inference\\cond7_all\\sd_04_G04-T01.tiff: 0.1407\n",
      "G:\\softmax\\inference\\sd\\RBT10_D11-T01.tiff: 0.1410\n",
      "G:\\softmax\\inference\\cond7_all\\sd_04_F09-T01.tiff: 0.1414\n",
      "G:\\softmax\\inference\\cond7_all\\sd_04_F07-T01.tiff: 0.1427\n",
      "G:\\softmax\\inference\\sd\\RBT14_D08-T01.tiff: 0.1428\n",
      "G:\\softmax\\inference\\cond7_all\\sd_04_G08-T01.tiff: 0.1478\n",
      "G:\\softmax\\inference\\cond7_all\\sd_04_F04-T01.tiff: 0.1513\n",
      "G:\\softmax\\inference\\cond7_all\\sd_04_G03-T01.tiff: 0.1523\n",
      "G:\\softmax\\inference\\cond7_all\\sd_04_G02-T01.tiff: 0.1579\n",
      "G:\\softmax\\inference\\cond7_all\\sd_04_G05-T01.tiff: 0.1773\n",
      "G:\\softmax\\inference\\sd\\RBT10_C08-T01.tiff: 0.1787\n",
      "G:\\softmax\\inference\\sd\\RBT14_B09-T01.tiff: 0.1865\n",
      "G:\\softmax\\inference\\cond7_all\\sd_04_F02-T01.tiff: 0.1868\n",
      "G:\\softmax\\inference\\sd\\RBT04_D11-T01.tiff: 0.1873\n",
      "G:\\softmax\\inference\\sd\\RBT14_D11-T01.tiff: 0.1907\n",
      "G:\\softmax\\inference\\cond7_all\\sd_04_G06-T01.tiff: 0.1977\n",
      "G:\\softmax\\inference\\sd\\RBT10_D09-T01.tiff: 0.2096\n",
      "G:\\softmax\\inference\\sd\\RBT10_D07-T01.tiff: 0.2217\n",
      "G:\\softmax\\inference\\cond7_all\\sd_04_F06-T01.tiff: 0.2480\n",
      "G:\\softmax\\inference\\sd\\RBT10_G10-T01.tiff: 0.2516\n",
      "G:\\softmax\\inference\\cond7_all\\sd_04_G09-T01.tiff: 0.2802\n",
      "G:\\softmax\\inference\\cond7_all\\sd_04_B02-T01.tiff: 0.2911\n",
      "G:\\softmax\\inference\\sd\\RBT10_C11-T01.tiff: 0.3081\n",
      "G:\\softmax\\inference\\cond7_all\\sd_04_G07-T01.tiff: 0.3217\n",
      "G:\\softmax\\inference\\sd\\RBT10_D08-T01.tiff: 0.3245\n",
      "G:\\softmax\\inference\\ex\\ds61_g6_F06-T01.tiff: 0.3247\n",
      "G:\\softmax\\inference\\sd\\RBT14_B11-T01.tiff: 0.3356\n",
      "G:\\softmax\\inference\\sd\\RBT10_B09-T01.tiff: 0.3573\n",
      "G:\\softmax\\inference\\sd\\RBT10_F10-T01.tiff: 0.3841\n",
      "G:\\softmax\\inference\\sd\\RBT10_B08-T01.tiff: 0.4364\n",
      "G:\\softmax\\inference\\sd\\RBT10_C07-T01.tiff: 0.4457\n",
      "G:\\softmax\\inference\\ex\\ds41_g9_C10-T01.tiff: 0.4469\n",
      "G:\\softmax\\inference\\sd\\RBT10_C10-T01.tiff: 0.4569\n",
      "G:\\softmax\\inference\\sd\\RBT10_E10-T01.tiff: 0.4613\n",
      "G:\\softmax\\inference\\sd\\RBT14_C08-T01.tiff: 0.4819\n",
      "G:\\softmax\\inference\\sd\\RBT14_B10-T01.tiff: 0.4849\n",
      "G:\\softmax\\inference\\sd\\RBT09_B07-T01.tiff: 0.4984\n",
      "G:\\softmax\\inference\\sd\\RBT10_F11-T01.tiff: 0.5095\n",
      "G:\\softmax\\inference\\sd\\RBT10_G11-T01.tiff: 0.5225\n",
      "G:\\softmax\\inference\\sd\\RBT04_D09-T01.tiff: 0.5245\n",
      "G:\\softmax\\inference\\sd\\RBT10_E07-T01.tiff: 0.5316\n",
      "G:\\softmax\\inference\\ex\\ds61_g9_C11-T01.tiff: 0.5321\n",
      "G:\\softmax\\inference\\sd\\RBT10_E11-T01.tiff: 0.5330\n",
      "G:\\softmax\\inference\\sd\\RBT04_E09-T01.tiff: 0.5417\n",
      "G:\\softmax\\inference\\sd\\RBT10_E09-T01.tiff: 0.5450\n",
      "G:\\softmax\\inference\\sd\\RBT10_G07-T01.tiff: 0.5585\n",
      "G:\\softmax\\inference\\sd\\RBT10_F09-T01.tiff: 0.5632\n",
      "G:\\softmax\\inference\\ex\\ds62_g9_C07-T01.tiff: 0.5641\n",
      "G:\\softmax\\inference\\sd\\RBT10_F08-T01.tiff: 0.5706\n",
      "G:\\softmax\\inference\\sd\\RBT09_D08-T01.tiff: 0.5722\n",
      "G:\\softmax\\inference\\sd\\RBT04_D08-T01.tiff: 0.5744\n",
      "G:\\softmax\\inference\\ex\\ds1B_g9_C8.tif: 0.5789\n",
      "G:\\softmax\\inference\\sd\\RBT04_F08-T01.tiff: 0.5966\n",
      "G:\\softmax\\inference\\sd\\RBT10_C09-T01.tiff: 0.5968\n",
      "G:\\softmax\\inference\\sd\\RBT14_D09-T01.tiff: 0.6108\n",
      "G:\\softmax\\inference\\sd\\RBT09_C10-T01.tiff: 0.6189\n",
      "G:\\softmax\\inference\\sd\\RBT10_B07-T01.tiff: 0.6403\n",
      "G:\\softmax\\inference\\ex\\ds61_g6_F02-T01.tiff: 0.6517\n",
      "G:\\softmax\\inference\\sd\\RBT09_C08-T01.tiff: 0.6824\n",
      "G:\\softmax\\inference\\sd\\RBT10_D10-T01.tiff: 0.6975\n",
      "G:\\softmax\\inference\\ex\\ds61_g8_B10-T01.tiff: 0.7003\n",
      "G:\\softmax\\inference\\sd\\RBT09_C07-T01.tiff: 0.7031\n",
      "G:\\softmax\\inference\\ex\\ds1B_g9_C9.tif: 0.7107\n",
      "G:\\softmax\\inference\\sd\\RBT14_C10-T01.tiff: 0.7262\n",
      "G:\\softmax\\inference\\ex\\ds62_g9_C09-T01.tiff: 0.7319\n",
      "G:\\softmax\\inference\\ex\\ds1B_g9_c10.tif: 0.7412\n",
      "G:\\softmax\\inference\\sd\\RBT04_B10-T01.tiff: 0.7548\n",
      "G:\\softmax\\inference\\sd\\RBT09_D10-T01.tiff: 0.7680\n",
      "G:\\softmax\\inference\\sd\\RBT09_F08-T01.tiff: 0.7778\n",
      "G:\\softmax\\inference\\ex\\ds61_g9_C10-T01.tiff: 0.7795\n",
      "G:\\softmax\\inference\\sd\\RBT10_B11-T01.tiff: 0.7876\n",
      "G:\\softmax\\inference\\sd\\RBT09_E11-T01.tiff: 0.7877\n",
      "G:\\softmax\\inference\\sd\\RBT09_B10-T01.tiff: 0.7927\n",
      "G:\\softmax\\inference\\ex\\ds62_g9_C08-T01.tiff: 0.7942\n",
      "G:\\softmax\\inference\\sd\\RBT04_G08-T01.tiff: 0.7953\n",
      "G:\\softmax\\inference\\sd\\RBT14_C09-T01.tiff: 0.7968\n",
      "G:\\softmax\\inference\\sd\\RBT14_B08-T01.tiff: 0.7987\n",
      "G:\\softmax\\inference\\sd\\RBT09_F09-T01.tiff: 0.8086\n",
      "G:\\softmax\\inference\\sd\\RBT14_C07-T01.tiff: 0.8125\n",
      "G:\\softmax\\inference\\ex\\ds61_g9_C07-T01.tiff: 0.8156\n",
      "G:\\softmax\\inference\\sd\\RBT10_G09-T01.tiff: 0.8191\n",
      "G:\\softmax\\inference\\ex\\ds41_g3_C02-T01.tiff: 0.8199\n",
      "G:\\softmax\\inference\\ex\\ds1B_g9_C7.tif: 0.8211\n",
      "G:\\softmax\\inference\\sd\\RBT04_F09-T01.tiff: 0.8244\n",
      "G:\\softmax\\inference\\ex\\ds61_g9_C09-T01.tiff: 0.8256\n",
      "G:\\softmax\\inference\\sd\\RBT09_G10-T01.tiff: 0.8317\n",
      "G:\\softmax\\inference\\sd\\RBT04_B09-T01.tiff: 0.8418\n",
      "G:\\softmax\\inference\\ex\\ds41_g3_C03-T01.tiff: 0.8446\n",
      "G:\\softmax\\inference\\sd\\RBT09_B08-T01.tiff: 0.8477\n",
      "G:\\softmax\\inference\\sd\\RBT09_E09-T01.tiff: 0.8502\n",
      "G:\\softmax\\inference\\ex\\ds41_g3_C04-T01.tiff: 0.8522\n",
      "G:\\softmax\\inference\\ex\\ds61_g9_C08-T01.tiff: 0.8566\n",
      "G:\\softmax\\inference\\sd\\RBT09_B11-T01.tiff: 0.8607\n",
      "G:\\softmax\\inference\\sd\\RBT09_C09-T01.tiff: 0.8628\n",
      "G:\\softmax\\inference\\sd\\RBT04_F11-T01.tiff: 0.8645\n",
      "G:\\softmax\\inference\\sd\\RBT09_D09-T01.tiff: 0.8654\n",
      "G:\\softmax\\inference\\ex\\ds61_g8_B11-T01.tiff: 0.8656\n",
      "G:\\softmax\\inference\\sd\\RBT04_C09-T01.tiff: 0.8668\n",
      "G:\\softmax\\inference\\ex\\ds61_g6_F05-T01.tiff: 0.8673\n",
      "G:\\softmax\\inference\\sd\\RBT09_E07-T01.tiff: 0.8704\n",
      "G:\\softmax\\inference\\sd\\RBT09_G08-T01.tiff: 0.8744\n",
      "G:\\softmax\\inference\\sd\\RBT14_B07-T01.tiff: 0.8777\n",
      "G:\\softmax\\inference\\sd\\RBT04_D10-T01.tiff: 0.8815\n",
      "G:\\softmax\\inference\\sd\\RBT09_G11-T01.tiff: 0.8818\n",
      "G:\\softmax\\inference\\sd\\RBT04_E10-T01.tiff: 0.8836\n",
      "G:\\softmax\\inference\\sd\\RBT09_E08-T01.tiff: 0.8860\n",
      "G:\\softmax\\inference\\ex\\ds61_g6_F03-T01.tiff: 0.8886\n",
      "G:\\softmax\\inference\\sd\\RBT10_G08-T01.tiff: 0.8908\n",
      "G:\\softmax\\inference\\sd\\RBT09_F11-T01.tiff: 0.8911\n",
      "G:\\softmax\\inference\\sd\\RBT14_D07-T01.tiff: 0.8917\n",
      "G:\\softmax\\inference\\sd\\RBT04_B07-T01.tiff: 0.8940\n",
      "G:\\softmax\\inference\\sd\\RBT09_F07-T01.tiff: 0.8946\n",
      "G:\\softmax\\inference\\sd\\RBT09_D07-T01.tiff: 0.9008\n",
      "G:\\softmax\\inference\\sd\\RBT09_G07-T01.tiff: 0.9062\n",
      "G:\\softmax\\inference\\sd\\RBT04_G11-T01.tiff: 0.9084\n",
      "G:\\softmax\\inference\\sd\\RBT09_E10-T01.tiff: 0.9093\n",
      "G:\\softmax\\inference\\sd\\RBT10_F07-T01.tiff: 0.9105\n",
      "G:\\softmax\\inference\\ex\\ds61_g8_B08-T01.tiff: 0.9150\n",
      "G:\\softmax\\inference\\sd\\RBT04_E07-T01.tiff: 0.9153\n",
      "G:\\softmax\\inference\\sd\\RBT14_C11-T01.tiff: 0.9168\n",
      "G:\\softmax\\inference\\sd\\RBT14_D10-T01.tiff: 0.9178\n",
      "G:\\softmax\\inference\\sd\\RBT09_B09-T01.tiff: 0.9216\n",
      "G:\\softmax\\inference\\sd\\RBT09_C11-T01.tiff: 0.9229\n",
      "G:\\softmax\\inference\\sd\\RBT09_G09-T01.tiff: 0.9295\n",
      "G:\\softmax\\inference\\ex\\ds1B_g9_C11.tif: 0.9306\n",
      "G:\\softmax\\inference\\sd\\RBT09_D11-T01.tiff: 0.9324\n",
      "G:\\softmax\\inference\\ex\\ds62_g9_C10-T01.tiff: 0.9347\n",
      "G:\\softmax\\inference\\sd\\RBT04_G10-T01.tiff: 0.9352\n",
      "G:\\softmax\\inference\\ex\\ds61_g3_C03-T01.tiff: 0.9362\n",
      "G:\\softmax\\inference\\sd\\RBT09_F10-T01.tiff: 0.9411\n",
      "G:\\softmax\\inference\\ex\\ds61_g8_B07-T01.tiff: 0.9445\n",
      "G:\\softmax\\inference\\sd\\RBT04_F10-T01.tiff: 0.9451\n",
      "G:\\softmax\\inference\\sd\\RBT04_E11-T01.tiff: 0.9460\n",
      "G:\\softmax\\inference\\ex\\ds61_g3_C02-T01.tiff: 0.9479\n",
      "G:\\softmax\\inference\\ex\\ds62_g9_C11-T01.tiff: 0.9482\n",
      "G:\\softmax\\inference\\sd\\RBT04_C07-T01.tiff: 0.9487\n",
      "G:\\softmax\\inference\\ex\\ds62_g8_B07-T01.tiff: 0.9489\n",
      "G:\\softmax\\inference\\ex\\ds61_g6_F04-T01.tiff: 0.9490\n",
      "G:\\softmax\\inference\\sd\\RBT04_C08-T01.tiff: 0.9530\n",
      "G:\\softmax\\inference\\sd\\RBT04_E08-T01.tiff: 0.9590\n",
      "G:\\softmax\\inference\\sd\\RBT04_F07-T01.tiff: 0.9600\n",
      "G:\\softmax\\inference\\sd\\RBT04_G07-T01.tiff: 0.9625\n",
      "G:\\softmax\\inference\\ex\\ds62_g8_B09-T01.tiff: 0.9626\n",
      "G:\\softmax\\inference\\sd\\RBT04_G09-T01.tiff: 0.9637\n",
      "G:\\softmax\\inference\\ex\\ds62_g8_B11-T01.tiff: 0.9642\n",
      "G:\\softmax\\inference\\ex\\ds41_g3_C06-T01.tiff: 0.9656\n",
      "G:\\softmax\\inference\\ex\\ds61_g3_C04-T01.tiff: 0.9658\n",
      "G:\\softmax\\inference\\sd\\RBT04_C10-T01.tiff: 0.9660\n",
      "G:\\softmax\\inference\\sd\\RBT04_B08-T01.tiff: 0.9663\n",
      "G:\\softmax\\inference\\ex\\ds61_g8_B09-T01.tiff: 0.9687\n",
      "G:\\softmax\\inference\\sd\\RBT04_D07-T01.tiff: 0.9765\n",
      "G:\\softmax\\inference\\ex\\ds62_g8_B10-T01.tiff: 0.9769\n",
      "G:\\softmax\\inference\\sd\\RBT04_B11-T01.tiff: 0.9791\n",
      "G:\\softmax\\inference\\ex\\ds61_g3_C06-T01.tiff: 0.9823\n",
      "G:\\softmax\\inference\\ex\\ds41_g3_C05-T01.tiff: 0.9895\n",
      "G:\\softmax\\inference\\ex\\ds61_g3_C05-T01.tiff: 0.9928\n"
     ]
    }
   ],
   "source": [
    "all_images_data = []\n",
    "for grp in groups:\n",
    "    # each entry is [p_control, p_treated, img_path]\n",
    "    all_images_data.extend(groups_data[grp])\n",
    "\n",
    "# Sort by p(treated) in ascending order\n",
    "all_images_data.sort(key=lambda x: x[1])  # No reverse=True\n",
    "\n",
    "# Now all_images_data is sorted by p(treated) in ascending ordergroups_data[group_name]\n",
    "sorted_by_treated = [(entry[2], entry[1]) for entry in all_images_data]\n",
    "\n",
    "print(\"Images sorted by p(treated) in ascending order:\")\n",
    "for img_path, p_tr in sorted_by_treated:\n",
    "    print(f\"{img_path}: {p_tr:.4f}\")"
   ]
  },
  {
   "cell_type": "code",
   "execution_count": 24,
   "metadata": {},
   "outputs": [],
   "source": [
    "def calculate_custom_accuracy(groups_data):\n",
    "    \"\"\"\n",
    "    Calculate custom accuracy with group name tracking.\n",
    "    \n",
    "    Parameters:\n",
    "    groups_data : dict\n",
    "        Dictionary with group names as keys and lists of [p_control, p_treated, path] as values\n",
    "    \n",
    "    Returns:\n",
    "    float: Calculated accuracy\n",
    "    dict: Detailed accuracy metrics\n",
    "    \"\"\"\n",
    "    # Extract probabilities and group names\n",
    "    group_names = list(groups_data.keys())\n",
    "    class_probabilities = [\n",
    "        [item[1] for item in groups_data[group]]  # p_treated probabilities\n",
    "        for group in group_names\n",
    "    ]\n",
    "    \n",
    "    # Calculate means for each group\n",
    "    class_means = [np.mean(probs) for probs in class_probabilities]\n",
    "    \n",
    "    # Sort means with corresponding group names\n",
    "    sorted_means = sorted(zip(group_names, class_means), key=lambda x: x[1])\n",
    "    \n",
    "    # Identify middle, first, and third classes\n",
    "    first_class_name = sorted_means[0][0]\n",
    "    middle_class_name = sorted_means[1][0]\n",
    "    third_class_name = sorted_means[2][0]\n",
    "    \n",
    "    # Rest of the calculation remains the same as previous implementation\n",
    "    middle_class_index = group_names.index(middle_class_name)\n",
    "    \n",
    "    # Find min and max of middle class\n",
    "    middle_class_probs = class_probabilities[middle_class_index]\n",
    "    middle_class_min = min(middle_class_probs)\n",
    "    middle_class_max = max(middle_class_probs)\n",
    "    \n",
    "    # Error Calculation\n",
    "    first_class_index = group_names.index(first_class_name)\n",
    "    third_class_index = group_names.index(third_class_name)\n",
    "    \n",
    "    first_class_errors = sum(1 for prob in class_probabilities[first_class_index] \n",
    "                              if prob > middle_class_min)\n",
    "    \n",
    "    third_class_errors = sum(1 for prob in class_probabilities[third_class_index] \n",
    "                              if prob < middle_class_max)\n",
    "    \n",
    "    # Total points and total errors\n",
    "    total_points = sum(len(probs) for probs in class_probabilities)\n",
    "    total_errors = first_class_errors + third_class_errors\n",
    "    \n",
    "    # Accuracy calculation\n",
    "    accuracy = (total_points - total_errors) / total_points\n",
    "    \n",
    "    # Print class information\n",
    "    print(f\"First class according to mean: {first_class_name}\")\n",
    "    print(f\"Middle class according to mean: {middle_class_name}\")\n",
    "    print(f\"Third class according to mean: {third_class_name}\")\n",
    "    \n",
    "    return accuracy, {\n",
    "        'group_names': group_names,\n",
    "        'class_means': dict(zip(group_names, class_means)),\n",
    "        'middle_class_name': middle_class_name,\n",
    "        'middle_class_min': middle_class_min,\n",
    "        'middle_class_max': middle_class_max,\n",
    "        'first_class_errors': first_class_errors,\n",
    "        'third_class_errors': third_class_errors,\n",
    "        'total_points': total_points,\n",
    "        'total_errors': total_errors\n",
    "    }\n",
    "\n",
    "# Simplified usage\n",
    "def apply_accuracy_calculation(groups_data):\n",
    "    \"\"\"\n",
    "    Apply accuracy calculation to the groups data.\n",
    "    \n",
    "    Parameters:\n",
    "    groups_data : dict\n",
    "        Dictionary with group names as keys and lists of [p_control, p_treated, path] as values\n",
    "    \n",
    "    Returns:\n",
    "    float: Calculated accuracy\n",
    "    \"\"\"\n",
    "    accuracy, metrics = calculate_custom_accuracy(groups_data)\n",
    "    \n",
    "    print(f\"\\nCalculated Accuracy: {accuracy:.4f}\")\n",
    "    print(\"\\nDetailed Metrics:\")\n",
    "    for key, value in metrics.items():\n",
    "        print(f\"{key}: {value}\")\n",
    "    \n",
    "    return accuracy"
   ]
  },
  {
   "cell_type": "code",
   "execution_count": 25,
   "metadata": {},
   "outputs": [
    {
     "name": "stdout",
     "output_type": "stream",
     "text": [
      "First class according to mean: cond7_all\n",
      "Middle class according to mean: sd\n",
      "Third class according to mean: ex\n",
      "\n",
      "Calculated Accuracy: 0.8341\n",
      "\n",
      "Detailed Metrics:\n",
      "group_names: ['cond7_all', 'ex', 'sd']\n",
      "class_means: {'cond7_all': 0.013372634, 'ex': 0.8309287, 'sd': 0.70051175}\n",
      "middle_class_name: sd\n",
      "middle_class_min: 0.02159193716943264\n",
      "middle_class_max: 0.9790701270103455\n",
      "first_class_errors: 65\n",
      "third_class_errors: 37\n",
      "total_points: 615\n",
      "total_errors: 102\n",
      "0.8341463414634146\n"
     ]
    }
   ],
   "source": [
    "print(apply_accuracy_calculation(groups_data))"
   ]
  },
  {
   "cell_type": "code",
   "execution_count": null,
   "metadata": {},
   "outputs": [],
   "source": []
  }
 ],
 "metadata": {
  "kernelspec": {
   "display_name": "master",
   "language": "python",
   "name": "python3"
  },
  "language_info": {
   "codemirror_mode": {
    "name": "ipython",
    "version": 3
   },
   "file_extension": ".py",
   "mimetype": "text/x-python",
   "name": "python",
   "nbconvert_exporter": "python",
   "pygments_lexer": "ipython3",
   "version": "3.12.3"
  }
 },
 "nbformat": 4,
 "nbformat_minor": 2
}
