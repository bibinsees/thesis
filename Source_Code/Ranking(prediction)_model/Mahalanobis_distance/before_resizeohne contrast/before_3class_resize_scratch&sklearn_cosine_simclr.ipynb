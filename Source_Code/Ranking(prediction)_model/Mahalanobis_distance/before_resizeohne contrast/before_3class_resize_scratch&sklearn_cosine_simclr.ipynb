{
 "cells": [
  {
   "cell_type": "code",
   "execution_count": 2,
   "metadata": {},
   "outputs": [],
   "source": [
    "import os\n",
    "import numpy as np\n",
    "import torch\n",
    "from torch import nn, optim\n",
    "from torch.utils.data import Dataset, DataLoader, random_split\n",
    "from torchvision import transforms\n",
    "import torchvision\n",
    "import tifffile as tiff\n",
    "import matplotlib.pyplot as plt\n",
    "import time\n",
    "from tqdm import tqdm\n",
    "from copy import deepcopy\n",
    "import random\n",
    "from sklearn.preprocessing import normalize\n",
    "\n",
    "from collections import Counter"
   ]
  },
  {
   "cell_type": "code",
   "execution_count": 2,
   "metadata": {},
   "outputs": [],
   "source": [
    "# Set seed for reproducibility\n",
    "def set_seed(seed):\n",
    "    random.seed(seed)\n",
    "    np.random.seed(seed)\n",
    "    torch.manual_seed(seed)\n",
    "    if torch.cuda.is_available():\n",
    "        torch.cuda.manual_seed(seed)\n",
    "        torch.cuda.manual_seed_all(seed)\n",
    "    torch.backends.cudnn.deterministic = True\n",
    "    torch.backends.cudnn.benchmark = False\n",
    "\n",
    "# Set seed\n",
    "set_seed(42)"
   ]
  },
  {
   "cell_type": "code",
   "execution_count": 3,
   "metadata": {},
   "outputs": [],
   "source": [
    "# Set the device\n",
    "device = torch.device(\"cuda\" if torch.cuda.is_available() else \"cpu\")"
   ]
  },
  {
   "cell_type": "code",
   "execution_count": 4,
   "metadata": {},
   "outputs": [],
   "source": [
    "class SimCLR(nn.Module):\n",
    "    def __init__(self, hidden_dim, lr, temperature, weight_decay,max_epochs):\n",
    "        super().__init__()\n",
    "        self.temperature = temperature\n",
    "        \n",
    "        # Load the pretrained ResNet-18 model\n",
    "        self.convnet = torchvision.models.resnet18(weights='ResNet18_Weights.DEFAULT')\n",
    "        \n",
    "        # Modify the fully connected layer\n",
    "        self.convnet.fc = nn.Sequential(\n",
    "            nn.Linear(self.convnet.fc.in_features, 4 * hidden_dim),  # Linear layer with 4*hidden_dim output\n",
    "            nn.ReLU(inplace=True),\n",
    "            nn.Linear(4 * hidden_dim, 20)  # Output layer with hidden_dim output\n",
    "        )\n",
    "\n",
    "        self.optimizer = optim.AdamW(self.parameters(), lr=lr, weight_decay=weight_decay)\n",
    "        self.lr_scheduler = optim.lr_scheduler.CosineAnnealingLR(self.optimizer, T_max=max_epochs, eta_min=lr / 50)\n",
    "\n",
    "    def forward(self, x):\n",
    "        return self.convnet(x)\n",
    "\n",
    "    def info_nce_loss(self, imgs1, imgs2, device):\n",
    "\n",
    "        imgs = torch.cat((imgs1, imgs2), dim=0)  # Concatenate along the batch dimension\n",
    "        imgs = imgs.to(device)  # Move images to the device\n",
    "\n",
    "        # Encode all images\n",
    "        feats = self.forward(imgs)\n",
    "    \n",
    "        # Calculate cosine similarity\n",
    "        cos_sim = nn.functional.cosine_similarity(feats[:, None, :], feats[None, :, :], dim=-1)\n",
    "    \n",
    "        # Mask out cosine similarity to itself\n",
    "        self_mask = torch.eye(cos_sim.shape[0], dtype=torch.bool, device=cos_sim.device)\n",
    "        cos_sim.masked_fill_(self_mask, -9e15)\n",
    "    \n",
    "        # Find positive example -> batch_size//2 away from the original example\n",
    "        pos_mask = self_mask.roll(shifts=cos_sim.shape[0] // 2, dims=0)\n",
    "    \n",
    "        # Normalize similarity scores by temperature\n",
    "        cos_sim = cos_sim / self.temperature\n",
    "\n",
    "        # InfoNCE loss\n",
    "        nll = -cos_sim[pos_mask] + torch.logsumexp(cos_sim, dim=-1)\n",
    "        nll = nll.mean()\n",
    "\n",
    "        # Accuracy calculations\n",
    "        # Create a combination of positive and negative similarities for ranking\n",
    "        comb_sim = torch.cat([cos_sim[pos_mask][:, None],  # Positive example in first position\n",
    "                          cos_sim.masked_fill(pos_mask, -9e15)], dim=-1)\n",
    "    \n",
    "        # Sort and get the ranking position of the positive example\n",
    "        sim_argsort = comb_sim.argsort(dim=-1, descending=True).argmin(dim=-1)\n",
    "    \n",
    "        # Compute accuracy metrics\n",
    "        top1_acc = (sim_argsort == 0).float().mean()  # Top-1 accuracy\n",
    "        top5_acc = (sim_argsort < 5).float().mean()   # Top-5 accuracy\n",
    "        mean_pos = 1 + sim_argsort.float().mean()     # Mean position of the positive example\n",
    "\n",
    "        return nll, top1_acc, top5_acc, mean_pos\n",
    "\n",
    "    def train_epoch(self, train_loader, device):\n",
    "        self.train()\n",
    "        total_loss = 0.0\n",
    "        total_top1_acc = 0.0\n",
    "        total_top5_acc = 0.0\n",
    "        total_mean_pos = 0.0\n",
    "\n",
    "        for batch in tqdm(train_loader, desc=\"Training\", leave=False):\n",
    "            imgs1, imgs2, _ = batch\n",
    "            imgs1, imgs2 = imgs1.to(device), imgs2.to(device)  # Move data to device\n",
    "        \n",
    "            self.optimizer.zero_grad()\n",
    "\n",
    "            # Calculate loss and accuracy metrics\n",
    "            loss, top1_acc, top5_acc, mean_pos = self.info_nce_loss(imgs1, imgs2, device)\n",
    "\n",
    "            loss.backward()\n",
    "            self.optimizer.step()\n",
    "            #self.lr_scheduler.step()\n",
    "\n",
    "            # Accumulate metrics\n",
    "            total_loss += loss.item()\n",
    "            total_top1_acc += top1_acc.item()\n",
    "            total_top5_acc += top5_acc.item()\n",
    "            total_mean_pos += mean_pos.item()\n",
    "\n",
    "        avg_loss = total_loss / len(train_loader)\n",
    "        avg_top1_acc = total_top1_acc / len(train_loader)\n",
    "        avg_top5_acc = total_top5_acc / len(train_loader)\n",
    "        avg_mean_pos = total_mean_pos / len(train_loader)\n",
    "\n",
    "        return avg_loss, avg_top1_acc, avg_top5_acc, avg_mean_pos\n",
    "\n",
    "    def validate_epoch(self, val_loader, device):\n",
    "        self.eval()\n",
    "        total_loss = 0.0\n",
    "        total_top1_acc = 0.0\n",
    "        total_top5_acc = 0.0\n",
    "        total_mean_pos = 0.0\n",
    "\n",
    "        with torch.no_grad():\n",
    "            for batch in tqdm(val_loader, desc=\"Validating\", leave=False):\n",
    "                imgs1, imgs2, _ = batch\n",
    "                imgs1, imgs2 = imgs1.to(device), imgs2.to(device)  # Move data to device\n",
    "\n",
    "                # Calculate loss and accuracy metrics\n",
    "                loss, top1_acc, top5_acc, mean_pos = self.info_nce_loss(imgs1, imgs2, device)\n",
    "\n",
    "                # Accumulate metrics\n",
    "                total_loss += loss.item()\n",
    "                total_top1_acc += top1_acc.item()\n",
    "                total_top5_acc += top5_acc.item()\n",
    "                total_mean_pos += mean_pos.item()\n",
    "\n",
    "        avg_loss = total_loss / len(val_loader)\n",
    "        avg_top1_acc = total_top1_acc / len(val_loader)\n",
    "        avg_top5_acc = total_top5_acc / len(val_loader)\n",
    "        avg_mean_pos = total_mean_pos / len(val_loader)\n",
    "\n",
    "        return avg_loss, avg_top1_acc, avg_top5_acc, avg_mean_pos\n",
    "    \n",
    "\n",
    "    def inference_epoch(self, inference_loader, device):\n",
    "        self.eval()\n",
    "        total_loss = 0.0\n",
    "        total_top1_acc = 0.0\n",
    "        total_top5_acc = 0.0\n",
    "        total_mean_pos = 0.0\n",
    "\n",
    "        with torch.no_grad():\n",
    "            for batch in tqdm(inference_loader, desc=\"Inferencing\", leave=False):\n",
    "                imgs1, imgs2, _ = batch\n",
    "                imgs1, imgs2 = imgs1.to(device), imgs2.to(device)  # Move data to device\n",
    "\n",
    "                # Calculate loss and accuracy metrics\n",
    "                loss, top1_acc, top5_acc, mean_pos = self.info_nce_loss(imgs1, imgs2, device)\n",
    "\n",
    "                # Accumulate metrics\n",
    "                total_loss += loss.item()\n",
    "                total_top1_acc += top1_acc.item()\n",
    "                total_top5_acc += top5_acc.item()\n",
    "                total_mean_pos += mean_pos.item()\n",
    "\n",
    "        avg_loss = total_loss / len(inference_loader)\n",
    "        avg_top1_acc = total_top1_acc / len(inference_loader)\n",
    "        avg_top5_acc = total_top5_acc / len(inference_loader)\n",
    "        avg_mean_pos = total_mean_pos / len(inference_loader)\n",
    "\n",
    "        return avg_loss, avg_top1_acc, avg_top5_acc, avg_mean_pos"
   ]
  },
  {
   "cell_type": "code",
   "execution_count": 5,
   "metadata": {},
   "outputs": [
    {
     "name": "stderr",
     "output_type": "stream",
     "text": [
      "C:\\Users\\k54739\\AppData\\Local\\Temp\\ipykernel_10640\\88875223.py:5: FutureWarning: You are using `torch.load` with `weights_only=False` (the current default value), which uses the default pickle module implicitly. It is possible to construct malicious pickle data which will execute arbitrary code during unpickling (See https://github.com/pytorch/pytorch/blob/main/SECURITY.md#untrusted-models for more details). In a future release, the default value for `weights_only` will be flipped to `True`. This limits the functions that could be executed during unpickling. Arbitrary objects will no longer be allowed to be loaded via this mode unless they are explicitly allowlisted by the user via `torch.serialization.add_safe_globals`. We recommend you start setting `weights_only=True` for any use case where you don't have full control of the loaded file. Please open an issue on GitHub for any issues related to this experimental feature.\n",
      "  simclr_model.load_state_dict(torch.load(model_path))\n"
     ]
    },
    {
     "data": {
      "text/plain": [
       "SimCLR(\n",
       "  (convnet): ResNet(\n",
       "    (conv1): Conv2d(3, 64, kernel_size=(7, 7), stride=(2, 2), padding=(3, 3), bias=False)\n",
       "    (bn1): BatchNorm2d(64, eps=1e-05, momentum=0.1, affine=True, track_running_stats=True)\n",
       "    (relu): ReLU(inplace=True)\n",
       "    (maxpool): MaxPool2d(kernel_size=3, stride=2, padding=1, dilation=1, ceil_mode=False)\n",
       "    (layer1): Sequential(\n",
       "      (0): BasicBlock(\n",
       "        (conv1): Conv2d(64, 64, kernel_size=(3, 3), stride=(1, 1), padding=(1, 1), bias=False)\n",
       "        (bn1): BatchNorm2d(64, eps=1e-05, momentum=0.1, affine=True, track_running_stats=True)\n",
       "        (relu): ReLU(inplace=True)\n",
       "        (conv2): Conv2d(64, 64, kernel_size=(3, 3), stride=(1, 1), padding=(1, 1), bias=False)\n",
       "        (bn2): BatchNorm2d(64, eps=1e-05, momentum=0.1, affine=True, track_running_stats=True)\n",
       "      )\n",
       "      (1): BasicBlock(\n",
       "        (conv1): Conv2d(64, 64, kernel_size=(3, 3), stride=(1, 1), padding=(1, 1), bias=False)\n",
       "        (bn1): BatchNorm2d(64, eps=1e-05, momentum=0.1, affine=True, track_running_stats=True)\n",
       "        (relu): ReLU(inplace=True)\n",
       "        (conv2): Conv2d(64, 64, kernel_size=(3, 3), stride=(1, 1), padding=(1, 1), bias=False)\n",
       "        (bn2): BatchNorm2d(64, eps=1e-05, momentum=0.1, affine=True, track_running_stats=True)\n",
       "      )\n",
       "    )\n",
       "    (layer2): Sequential(\n",
       "      (0): BasicBlock(\n",
       "        (conv1): Conv2d(64, 128, kernel_size=(3, 3), stride=(2, 2), padding=(1, 1), bias=False)\n",
       "        (bn1): BatchNorm2d(128, eps=1e-05, momentum=0.1, affine=True, track_running_stats=True)\n",
       "        (relu): ReLU(inplace=True)\n",
       "        (conv2): Conv2d(128, 128, kernel_size=(3, 3), stride=(1, 1), padding=(1, 1), bias=False)\n",
       "        (bn2): BatchNorm2d(128, eps=1e-05, momentum=0.1, affine=True, track_running_stats=True)\n",
       "        (downsample): Sequential(\n",
       "          (0): Conv2d(64, 128, kernel_size=(1, 1), stride=(2, 2), bias=False)\n",
       "          (1): BatchNorm2d(128, eps=1e-05, momentum=0.1, affine=True, track_running_stats=True)\n",
       "        )\n",
       "      )\n",
       "      (1): BasicBlock(\n",
       "        (conv1): Conv2d(128, 128, kernel_size=(3, 3), stride=(1, 1), padding=(1, 1), bias=False)\n",
       "        (bn1): BatchNorm2d(128, eps=1e-05, momentum=0.1, affine=True, track_running_stats=True)\n",
       "        (relu): ReLU(inplace=True)\n",
       "        (conv2): Conv2d(128, 128, kernel_size=(3, 3), stride=(1, 1), padding=(1, 1), bias=False)\n",
       "        (bn2): BatchNorm2d(128, eps=1e-05, momentum=0.1, affine=True, track_running_stats=True)\n",
       "      )\n",
       "    )\n",
       "    (layer3): Sequential(\n",
       "      (0): BasicBlock(\n",
       "        (conv1): Conv2d(128, 256, kernel_size=(3, 3), stride=(2, 2), padding=(1, 1), bias=False)\n",
       "        (bn1): BatchNorm2d(256, eps=1e-05, momentum=0.1, affine=True, track_running_stats=True)\n",
       "        (relu): ReLU(inplace=True)\n",
       "        (conv2): Conv2d(256, 256, kernel_size=(3, 3), stride=(1, 1), padding=(1, 1), bias=False)\n",
       "        (bn2): BatchNorm2d(256, eps=1e-05, momentum=0.1, affine=True, track_running_stats=True)\n",
       "        (downsample): Sequential(\n",
       "          (0): Conv2d(128, 256, kernel_size=(1, 1), stride=(2, 2), bias=False)\n",
       "          (1): BatchNorm2d(256, eps=1e-05, momentum=0.1, affine=True, track_running_stats=True)\n",
       "        )\n",
       "      )\n",
       "      (1): BasicBlock(\n",
       "        (conv1): Conv2d(256, 256, kernel_size=(3, 3), stride=(1, 1), padding=(1, 1), bias=False)\n",
       "        (bn1): BatchNorm2d(256, eps=1e-05, momentum=0.1, affine=True, track_running_stats=True)\n",
       "        (relu): ReLU(inplace=True)\n",
       "        (conv2): Conv2d(256, 256, kernel_size=(3, 3), stride=(1, 1), padding=(1, 1), bias=False)\n",
       "        (bn2): BatchNorm2d(256, eps=1e-05, momentum=0.1, affine=True, track_running_stats=True)\n",
       "      )\n",
       "    )\n",
       "    (layer4): Sequential(\n",
       "      (0): BasicBlock(\n",
       "        (conv1): Conv2d(256, 512, kernel_size=(3, 3), stride=(2, 2), padding=(1, 1), bias=False)\n",
       "        (bn1): BatchNorm2d(512, eps=1e-05, momentum=0.1, affine=True, track_running_stats=True)\n",
       "        (relu): ReLU(inplace=True)\n",
       "        (conv2): Conv2d(512, 512, kernel_size=(3, 3), stride=(1, 1), padding=(1, 1), bias=False)\n",
       "        (bn2): BatchNorm2d(512, eps=1e-05, momentum=0.1, affine=True, track_running_stats=True)\n",
       "        (downsample): Sequential(\n",
       "          (0): Conv2d(256, 512, kernel_size=(1, 1), stride=(2, 2), bias=False)\n",
       "          (1): BatchNorm2d(512, eps=1e-05, momentum=0.1, affine=True, track_running_stats=True)\n",
       "        )\n",
       "      )\n",
       "      (1): BasicBlock(\n",
       "        (conv1): Conv2d(512, 512, kernel_size=(3, 3), stride=(1, 1), padding=(1, 1), bias=False)\n",
       "        (bn1): BatchNorm2d(512, eps=1e-05, momentum=0.1, affine=True, track_running_stats=True)\n",
       "        (relu): ReLU(inplace=True)\n",
       "        (conv2): Conv2d(512, 512, kernel_size=(3, 3), stride=(1, 1), padding=(1, 1), bias=False)\n",
       "        (bn2): BatchNorm2d(512, eps=1e-05, momentum=0.1, affine=True, track_running_stats=True)\n",
       "      )\n",
       "    )\n",
       "    (avgpool): AdaptiveAvgPool2d(output_size=(1, 1))\n",
       "    (fc): Sequential(\n",
       "      (0): Linear(in_features=512, out_features=512, bias=True)\n",
       "      (1): ReLU(inplace=True)\n",
       "      (2): Linear(in_features=512, out_features=20, bias=True)\n",
       "    )\n",
       "  )\n",
       ")"
      ]
     },
     "execution_count": 5,
     "metadata": {},
     "output_type": "execute_result"
    }
   ],
   "source": [
    "# Define file paths\n",
    "model_path = r'C:\\Users\\k54739\\Bibi_new_thesis\\thesis\\Source_Code\\SimCLR_base_models\\ohnecontrast_balancedResize_simclr_modelepoch245.pth'\n",
    "# Reinitialize the model\n",
    "simclr_model = SimCLR(hidden_dim=128, lr=5e-4, temperature=0.07, weight_decay=1e-4,max_epochs=245)\n",
    "simclr_model.load_state_dict(torch.load(model_path))\n",
    "simclr_model.to(device)\n",
    "simclr_model.eval()"
   ]
  },
  {
   "cell_type": "markdown",
   "metadata": {},
   "source": [
    "# Clustering"
   ]
  },
  {
   "cell_type": "code",
   "execution_count": 18,
   "metadata": {},
   "outputs": [
    {
     "name": "stdout",
     "output_type": "stream",
     "text": [
      "Label distribution: {'control': 120}\n"
     ]
    }
   ],
   "source": [
    "class LabeledImageDataset(Dataset):\n",
    "    def __init__(self, image_files, labels, transform=None):\n",
    "        self.image_files = image_files\n",
    "        self.labels = labels\n",
    "        #self.transform = transform\n",
    "        self.resize_transform = transforms.Resize((96, 96))\n",
    "\n",
    "    def __len__(self):\n",
    "        return len(self.image_files)\n",
    "\n",
    "    def __getitem__(self, idx):\n",
    "        img_path = self.image_files[idx]\n",
    "        image = tiff.imread(img_path)\n",
    "\n",
    "        # Ensure the image has 3 layers (channels)\n",
    "        if image.shape[0] != 3:\n",
    "            raise ValueError(f\"Image {img_path} does not have exactly 3 layers.\")\n",
    "\n",
    "        # Normalize the 16-bit image to [0, 1]\n",
    "        image = image.astype(np.float32) / 65535.0\n",
    "\n",
    "        # Convert to a torch tensor and add channel dimension\n",
    "        image = torch.tensor(image, dtype=torch.float32)\n",
    "        \n",
    "        # Apply resize transform\n",
    "        image = self.resize_transform(image)\n",
    "\n",
    "        label = self.labels[idx]\n",
    "\n",
    "        return image, label\n",
    "\n",
    "def load_data(root_dir):\n",
    "    #classes = ['explod']\n",
    "    classes = ['control']  \n",
    "    #classes = ['single_dose']\n",
    "    #classes = ['control', 'single_dose','explod']  \n",
    "\n",
    "    image_files = []\n",
    "    labels = []\n",
    "\n",
    "    for idx, class_name in enumerate(classes):\n",
    "        class_dir = os.path.join(root_dir, class_name)\n",
    "        files = [os.path.join(class_dir, file) for file in os.listdir(class_dir) if file.endswith(('.tiff', '.tif'))]\n",
    "        image_files.extend(files)\n",
    "        labels.extend([idx] * len(files))\n",
    "    \n",
    "    # Check if the labels correctly reflect the classes\n",
    "    print(\"Label distribution:\", {classes[i]: labels.count(i) for i in range(len(classes))})\n",
    "\n",
    "    return image_files, labels\n",
    "\n",
    "\n",
    "# Directories for labeled data\n",
    "image_dir = r\"C:\\Users\\k54739\\Bibi_new_thesis\\thesis\\kmeans_rank_class\\singledose_controls\"\n",
    "\n",
    "# Load data\n",
    "image_files, labels = load_data(image_dir)\n",
    "\n",
    "# Create the labeled datasets\n",
    "labeled_dataset = LabeledImageDataset(image_files, labels)\n",
    "\n",
    "# Define DataLoaders\n",
    "batch_size = 16\n",
    "loader_labeled = DataLoader(labeled_dataset, batch_size=batch_size, shuffle=True, drop_last=False, pin_memory=True, num_workers=0)"
   ]
  },
  {
   "cell_type": "code",
   "execution_count": 19,
   "metadata": {},
   "outputs": [
    {
     "name": "stdout",
     "output_type": "stream",
     "text": [
      "torch.Size([16, 3, 96, 96]) torch.Size([16]) torch.float32\n",
      "tensor([0, 0, 0, 0, 0, 0, 0, 0, 0, 0, 0, 0, 0, 0, 0, 0])\n"
     ]
    }
   ],
   "source": [
    "for anchor,label in loader_labeled:\n",
    "    print(anchor.shape, label.shape, anchor.dtype)\n",
    "    print(label)\n",
    "    break"
   ]
  },
  {
   "cell_type": "code",
   "execution_count": 20,
   "metadata": {},
   "outputs": [],
   "source": [
    "@torch.no_grad()\n",
    "def prepare_data_features(model, dataloader):\n",
    "    # Prepare model\n",
    "    network = deepcopy(model.convnet)\n",
    "    network.fc = nn.Identity()  # Removing projection head g(.)\n",
    "    network.eval()\n",
    "    network.to(device)\n",
    "\n",
    "    # Encode all images\n",
    "    feats, labels = [], []\n",
    "    for batch_imgs, batch_labels in tqdm(dataloader):\n",
    "        batch_imgs = batch_imgs.to(device)\n",
    "        batch_feats = network(batch_imgs)\n",
    "        print(f\"Batch features shape: {batch_feats.shape}\")\n",
    "        print(f\"Batch labels shape: {batch_labels.shape}\")\n",
    "        \n",
    "        feats.append(batch_feats.detach().cpu())\n",
    "        labels.append(batch_labels)\n",
    "\n",
    "    feats = torch.cat(feats, dim=0)\n",
    "    labels = torch.cat(labels, dim=0)\n",
    "    \n",
    "    print(f\"Features shape after concatenation: {feats.shape}\")\n",
    "    print(f\"Labels shape after concatenation: {labels.shape}\")\n",
    "\n",
    "    return torch.utils.data.TensorDataset(feats, labels)"
   ]
  },
  {
   "cell_type": "code",
   "execution_count": 21,
   "metadata": {},
   "outputs": [
    {
     "name": "stderr",
     "output_type": "stream",
     "text": [
      "  0%|          | 0/8 [00:00<?, ?it/s]"
     ]
    },
    {
     "name": "stderr",
     "output_type": "stream",
     "text": [
      " 12%|█▎        | 1/8 [00:00<00:04,  1.40it/s]"
     ]
    },
    {
     "name": "stdout",
     "output_type": "stream",
     "text": [
      "Batch features shape: torch.Size([16, 512])\n",
      "Batch labels shape: torch.Size([16])\n"
     ]
    },
    {
     "name": "stderr",
     "output_type": "stream",
     "text": [
      " 25%|██▌       | 2/8 [00:01<00:04,  1.42it/s]"
     ]
    },
    {
     "name": "stdout",
     "output_type": "stream",
     "text": [
      "Batch features shape: torch.Size([16, 512])\n",
      "Batch labels shape: torch.Size([16])\n"
     ]
    },
    {
     "name": "stderr",
     "output_type": "stream",
     "text": [
      " 38%|███▊      | 3/8 [00:02<00:03,  1.35it/s]"
     ]
    },
    {
     "name": "stdout",
     "output_type": "stream",
     "text": [
      "Batch features shape: torch.Size([16, 512])\n",
      "Batch labels shape: torch.Size([16])\n"
     ]
    },
    {
     "name": "stderr",
     "output_type": "stream",
     "text": [
      " 50%|█████     | 4/8 [00:02<00:02,  1.35it/s]"
     ]
    },
    {
     "name": "stdout",
     "output_type": "stream",
     "text": [
      "Batch features shape: torch.Size([16, 512])\n",
      "Batch labels shape: torch.Size([16])\n"
     ]
    },
    {
     "name": "stderr",
     "output_type": "stream",
     "text": [
      " 62%|██████▎   | 5/8 [00:03<00:02,  1.38it/s]"
     ]
    },
    {
     "name": "stdout",
     "output_type": "stream",
     "text": [
      "Batch features shape: torch.Size([16, 512])\n",
      "Batch labels shape: torch.Size([16])\n"
     ]
    },
    {
     "name": "stderr",
     "output_type": "stream",
     "text": [
      " 75%|███████▌  | 6/8 [00:04<00:01,  1.40it/s]"
     ]
    },
    {
     "name": "stdout",
     "output_type": "stream",
     "text": [
      "Batch features shape: torch.Size([16, 512])\n",
      "Batch labels shape: torch.Size([16])\n"
     ]
    },
    {
     "name": "stderr",
     "output_type": "stream",
     "text": [
      " 88%|████████▊ | 7/8 [00:05<00:00,  1.40it/s]"
     ]
    },
    {
     "name": "stdout",
     "output_type": "stream",
     "text": [
      "Batch features shape: torch.Size([16, 512])\n",
      "Batch labels shape: torch.Size([16])\n"
     ]
    },
    {
     "name": "stderr",
     "output_type": "stream",
     "text": [
      "100%|██████████| 8/8 [00:05<00:00,  1.47it/s]"
     ]
    },
    {
     "name": "stdout",
     "output_type": "stream",
     "text": [
      "Batch features shape: torch.Size([8, 512])\n",
      "Batch labels shape: torch.Size([8])\n",
      "Features shape after concatenation: torch.Size([120, 512])\n",
      "Labels shape after concatenation: torch.Size([120])\n"
     ]
    },
    {
     "name": "stderr",
     "output_type": "stream",
     "text": [
      "\n"
     ]
    }
   ],
   "source": [
    "# Extract features for train and test datasets\n",
    "feats_simclr = prepare_data_features(simclr_model, loader_labeled)"
   ]
  },
  {
   "cell_type": "markdown",
   "metadata": {},
   "source": [
    "beforeResize_ex_29 = feats_simclr.tensors[0]\n",
    "beforeResize_ex_29.shape"
   ]
  },
  {
   "cell_type": "markdown",
   "metadata": {},
   "source": [
    "beforeResize_sd = feats_simclr.tensors[0]\n",
    "beforeResize_sd.shape"
   ]
  },
  {
   "cell_type": "code",
   "execution_count": 22,
   "metadata": {},
   "outputs": [
    {
     "data": {
      "text/plain": [
       "torch.Size([120, 512])"
      ]
     },
     "execution_count": 22,
     "metadata": {},
     "output_type": "execute_result"
    }
   ],
   "source": [
    "beforeResize_con = feats_simclr.tensors[0]\n",
    "beforeResize_con.shape"
   ]
  },
  {
   "cell_type": "markdown",
   "metadata": {},
   "source": [
    "# Save in the current folder\n",
    "save_path = \"beforeResize_con.pt\"  # File name only\n",
    "\n",
    "# Save the tensor\n",
    "torch.save(beforeResize_con, save_path)"
   ]
  },
  {
   "cell_type": "code",
   "execution_count": 8,
   "metadata": {},
   "outputs": [
    {
     "name": "stderr",
     "output_type": "stream",
     "text": [
      "C:\\Users\\k54739\\AppData\\Local\\Temp\\ipykernel_8352\\1227405193.py:1: FutureWarning: You are using `torch.load` with `weights_only=False` (the current default value), which uses the default pickle module implicitly. It is possible to construct malicious pickle data which will execute arbitrary code during unpickling (See https://github.com/pytorch/pytorch/blob/main/SECURITY.md#untrusted-models for more details). In a future release, the default value for `weights_only` will be flipped to `True`. This limits the functions that could be executed during unpickling. Arbitrary objects will no longer be allowed to be loaded via this mode unless they are explicitly allowlisted by the user via `torch.serialization.add_safe_globals`. We recommend you start setting `weights_only=True` for any use case where you don't have full control of the loaded file. Please open an issue on GitHub for any issues related to this experimental feature.\n",
      "  control = torch.load(\"beforeResize_con.pt\")\n",
      "C:\\Users\\k54739\\AppData\\Local\\Temp\\ipykernel_8352\\1227405193.py:2: FutureWarning: You are using `torch.load` with `weights_only=False` (the current default value), which uses the default pickle module implicitly. It is possible to construct malicious pickle data which will execute arbitrary code during unpickling (See https://github.com/pytorch/pytorch/blob/main/SECURITY.md#untrusted-models for more details). In a future release, the default value for `weights_only` will be flipped to `True`. This limits the functions that could be executed during unpickling. Arbitrary objects will no longer be allowed to be loaded via this mode unless they are explicitly allowlisted by the user via `torch.serialization.add_safe_globals`. We recommend you start setting `weights_only=True` for any use case where you don't have full control of the loaded file. Please open an issue on GitHub for any issues related to this experimental feature.\n",
      "  sd = torch.load(\"beforeResize_sd.pt\")\n",
      "C:\\Users\\k54739\\AppData\\Local\\Temp\\ipykernel_8352\\1227405193.py:3: FutureWarning: You are using `torch.load` with `weights_only=False` (the current default value), which uses the default pickle module implicitly. It is possible to construct malicious pickle data which will execute arbitrary code during unpickling (See https://github.com/pytorch/pytorch/blob/main/SECURITY.md#untrusted-models for more details). In a future release, the default value for `weights_only` will be flipped to `True`. This limits the functions that could be executed during unpickling. Arbitrary objects will no longer be allowed to be loaded via this mode unless they are explicitly allowlisted by the user via `torch.serialization.add_safe_globals`. We recommend you start setting `weights_only=True` for any use case where you don't have full control of the loaded file. Please open an issue on GitHub for any issues related to this experimental feature.\n",
      "  ex = torch.load(\"beforeResize_ex_29.pt\")\n"
     ]
    }
   ],
   "source": [
    "control = torch.load(\"beforeResize_con.pt\")\n",
    "sd = torch.load(\"beforeResize_sd.pt\")\n",
    "ex = torch.load(\"beforeResize_ex_29.pt\")\n"
   ]
  },
  {
   "cell_type": "code",
   "execution_count": 9,
   "metadata": {},
   "outputs": [
    {
     "name": "stdout",
     "output_type": "stream",
     "text": [
      "torch.Size([120, 512])\n",
      "torch.Size([103, 512])\n",
      "torch.Size([29, 512])\n"
     ]
    }
   ],
   "source": [
    "print(control.shape)\n",
    "print(sd.shape)\n",
    "print(ex.shape)\n"
   ]
  },
  {
   "cell_type": "code",
   "execution_count": 22,
   "metadata": {},
   "outputs": [
    {
     "name": "stdout",
     "output_type": "stream",
     "text": [
      "Control distances: tensor([ 5693.4268,  7197.2632,  5690.1396,  4432.7788,  6081.2715,  7113.1777,\n",
      "         8004.1353,  9189.9277,  7095.2656,  9916.8320,  9082.3193,  5248.9585,\n",
      "         5669.0811,  6782.2671,  6191.3755,  7989.4390,  6867.5923,  5824.6230,\n",
      "         6826.4038,  6578.9839,  8282.9053,  6993.2148,  5750.5308,  6661.1196,\n",
      "         4978.7285,  7768.5942,  7689.0044,  6569.9116,  7605.3018,  7146.1841,\n",
      "         7455.0166,  8259.3145,  7431.3672, 10933.7891,  6818.3516,  8759.3457,\n",
      "         6153.5464,  5495.2173,  4584.2358,  7164.4209,  5403.9395,  8568.3701,\n",
      "         7735.0156,  9264.4238,  6167.1279,  6412.6431,  7485.8408,  5894.3652,\n",
      "         6771.1675,  6751.1733,  7067.4868,  5224.7495,  5375.5303,  8558.5615,\n",
      "         5840.9028,  6560.4390,  7173.2695,  5963.8887,  6600.6445,  6551.6050,\n",
      "         6557.9785,  7104.8105,  4055.8123,  6066.5522,  6891.8540,  6996.2764,\n",
      "         8457.7471,  7375.8608,  6553.7827,  7432.4771,  7527.9795,  4556.9341,\n",
      "         7622.8315,  5251.4385,  5058.4717,  8554.6377,  7511.5635,  7864.8340,\n",
      "         5848.1719,  7530.1260,  6090.5762,  6037.3198,  7536.9131,  6732.9248,\n",
      "         8211.3438,  7407.5371,  5762.8701,  7013.7798,  6178.3066,  7849.6626,\n",
      "         7315.4893,  8661.0410,  4948.1279,  4860.2988,  5998.5112,  7412.7832,\n",
      "         4628.7734,  7346.1265,  6465.9126,  8001.1694,  7243.4146,  7483.1958,\n",
      "         5357.9116,  6204.0156,  6109.1465,  5161.4634,  8888.0410,  7690.2075,\n",
      "         6752.9624,  7366.3618,  6068.6660,  6032.8198,  6557.7651,  9010.1934,\n",
      "         7352.3252,  6970.3511, 10187.9121,  7121.4336,  5939.2295,  5416.1743])\n",
      "Ex distances: tensor([ 6654.6914,  8751.0918,  7364.4141,  7455.5518,  8540.4668,  8868.7334,\n",
      "         8014.4141,  8173.3184,  8198.6182,  8723.3867,  8339.2148,  7161.6685,\n",
      "         8734.8438,  8074.2617,  9368.8115,  7916.6577,  6672.3369,  8389.7148,\n",
      "         7834.1592,  8605.3271,  8942.8711,  6561.1494,  7713.0229,  5032.1196,\n",
      "        10577.4824,  8105.0229,  9510.0986,  9830.2588,  8139.6387])\n",
      "sd distances: tensor([10.0050, 10.0067, 10.0690, 10.0543, 10.0419, 10.0621,  9.9983, 10.0180,\n",
      "        10.0835, 10.1018, 10.0469, 10.1631, 10.1032,  9.9676, 10.0477, 10.0658,\n",
      "        10.1384, 10.0680, 10.0007,  9.9113, 10.1274, 10.0858, 10.1261, 10.1001,\n",
      "        10.0638, 10.1034, 10.0149, 10.1292, 10.1777,  9.9942, 10.0749, 10.0153,\n",
      "        10.0835,  9.8796, 10.0976,  9.9746, 10.1028, 10.0176, 10.1307, 10.1435,\n",
      "         9.9993, 10.1088, 10.0320, 10.1135,  9.9863, 10.0268, 10.2233, 10.0917,\n",
      "        10.1118, 10.0778, 10.0452, 10.0887,  9.9433,  9.9642, 10.2066, 10.0472,\n",
      "        10.0608, 10.0659, 10.0558, 10.0418,  9.9317, 10.0634, 10.0537, 10.0042,\n",
      "        10.1045,  9.9041, 10.0275,  9.9685,  9.9518, 10.0649, 10.0793, 10.1197,\n",
      "        10.0526, 10.0078, 10.0327, 10.0759, 10.0359, 10.0057, 10.1555,  9.9838,\n",
      "        10.1103,  9.9803, 10.0340, 10.1624, 10.0997,  9.9994, 10.0695, 10.0228,\n",
      "        10.0836, 10.0383, 10.0817, 10.0115,  9.9657, 10.0581, 10.0494,  9.9037,\n",
      "        10.1185, 10.0435, 10.1430, 10.0063, 10.0559, 10.0655, 10.0911])\n"
     ]
    }
   ],
   "source": [
    "import torch\n",
    "\n",
    "# Calculate mean and covariance matrix of the sd distribution\n",
    "sd_mean = torch.mean(sd, dim=0)  # Mean vector of sd\n",
    "sd_cov = torch.cov(sd.T)         # Covariance matrix of sd\n",
    "\n",
    "# Regularize the covariance matrix\n",
    "epsilon = 1e-5\n",
    "sd_cov += torch.eye(sd_cov.size(0)) * epsilon\n",
    "\n",
    "# Calculate the inverse of the covariance matrix\n",
    "sd_cov_inv = torch.linalg.inv(sd_cov)\n",
    "\n",
    "# Function to calculate Mahalanobis distance\n",
    "def mahalanobis_distance(vec, mean, cov_inv):\n",
    "    diff = vec - mean\n",
    "    result = torch.mm(torch.mm(diff.unsqueeze(0), cov_inv), diff.unsqueeze(1))\n",
    "    if result.item() < 0:  # Debugging for negative values\n",
    "        print(f\"Negative value detected: {result.item()}\")\n",
    "    distance = torch.sqrt(result)\n",
    "    return distance.item()  # Convert to scalar value\n",
    "\n",
    "# Calculate distances for control and ex\n",
    "control_distances = [mahalanobis_distance(vec, sd_mean, sd_cov_inv) for vec in control]\n",
    "ex_distances = [mahalanobis_distance(vec, sd_mean, sd_cov_inv) for vec in ex]\n",
    "sd_distances = [mahalanobis_distance(vec, sd_mean, sd_cov_inv) for vec in sd]\n",
    "\n",
    "# Convert distances to tensors for further analysis if needed\n",
    "control_distances = torch.tensor(control_distances)\n",
    "ex_distances = torch.tensor(ex_distances)\n",
    "sd_distance = torch.tensor(sd_distances)\n",
    "\n",
    "# Print results\n",
    "print(\"Control distances:\", control_distances)\n",
    "print(\"Ex distances:\", ex_distances)\n",
    "print(\"sd distances:\", sd_distance)\n",
    "\n"
   ]
  },
  {
   "cell_type": "code",
   "execution_count": 23,
   "metadata": {},
   "outputs": [
    {
     "data": {
      "image/png": "[encoded data removed]",
      "text/plain": [
       "<Figure size 1200x700 with 1 Axes>"
      ]
     },
     "metadata": {},
     "output_type": "display_data"
    },
    {
     "name": "stderr",
     "output_type": "stream",
     "text": [
      "C:\\Users\\k54739\\AppData\\Local\\Temp\\ipykernel_8352\\3030954929.py:27: MatplotlibDeprecationWarning: The 'labels' parameter of boxplot() has been renamed 'tick_labels' since Matplotlib 3.9; support for the old name will be dropped in 3.11.\n",
      "  plt.boxplot([control_distances, ex_distances, sd_distances], labels=['Control', 'Ex', 'SD'], patch_artist=True,\n"
     ]
    },
    {
     "data": {
      "image/png": "[encoded data removed]",
      "text/plain": [
       "<Figure size 1000x600 with 1 Axes>"
      ]
     },
     "metadata": {},
     "output_type": "display_data"
    }
   ],
   "source": [
    "import matplotlib.pyplot as plt\n",
    "\n",
    "# Convert to NumPy arrays for plotting\n",
    "control_distances = control_distances.numpy()\n",
    "ex_distances = ex_distances.numpy()\n",
    "sd_distances = sd_distance.numpy()\n",
    "\n",
    "# Create a histogram\n",
    "plt.figure(figsize=(12, 7))\n",
    "plt.hist(control_distances, bins=20, alpha=0.7, label='Control', color='blue', edgecolor='black')\n",
    "plt.hist(ex_distances, bins=20, alpha=0.7, label='Ex', color='orange', edgecolor='black')\n",
    "plt.hist(sd_distances, bins=20, alpha=0.7, label='SD', color='green', edgecolor='black')\n",
    "\n",
    "plt.axvline(x=control_distances.mean(), color='blue', linestyle='dashed', linewidth=1, label='Control Mean')\n",
    "plt.axvline(x=ex_distances.mean(), color='orange', linestyle='dashed', linewidth=1, label='Ex Mean')\n",
    "plt.axvline(x=sd_distances.mean(), color='green', linestyle='dashed', linewidth=1, label='SD Mean')\n",
    "\n",
    "plt.title('Histogram of Mahalanobis Distances')\n",
    "plt.xlabel('Mahalanobis Distance')\n",
    "plt.ylabel('Frequency')\n",
    "plt.legend()\n",
    "plt.grid()\n",
    "plt.show()\n",
    "\n",
    "# Create a boxplot\n",
    "plt.figure(figsize=(10, 6))\n",
    "plt.boxplot([control_distances, ex_distances, sd_distances], labels=['Control', 'Ex', 'SD'], patch_artist=True,\n",
    "            boxprops=dict(facecolor='lightblue'), medianprops=dict(color='red'))\n",
    "plt.title('Boxplot of Mahalanobis Distances')\n",
    "plt.ylabel('Mahalanobis Distance')\n",
    "plt.grid()\n",
    "plt.show()\n"
   ]
  },
  {
   "cell_type": "markdown",
   "metadata": {},
   "source": [
    "import torch\n",
    "\n",
    "# Calculate mean and covariance matrix of the sd distribution\n",
    "sd_mean = torch.mean(sd, dim=0)  # Mean vector of sd\n",
    "sd_cov = torch.cov(sd.T)         # Covariance matrix of sd\n",
    "\n",
    "# Regularize the covariance matrix\n",
    "epsilon = 1e-5  # Same regularization constant as your second code\n",
    "sd_cov += torch.eye(sd_cov.size(0)) * epsilon\n",
    "\n",
    "# Inverse covariance matrix\n",
    "sd_cov_inv = torch.linalg.inv(sd_cov)\n",
    "\n",
    "# Function to calculate Mahalanobis distance (vectorized)\n",
    "def mahalanobis_distance(vec, mean, cov_inv):\n",
    "    diff = vec - mean\n",
    "    # Using vectorized form\n",
    "    distance = torch.sqrt(torch.dot(diff.flatten(), torch.matmul(cov_inv, diff.flatten())))\n",
    "    return distance.item()  # Convert to scalar value\n",
    "\n",
    "# Calculate distances for control and ex\n",
    "control_distances = [mahalanobis_distance(vec, sd_mean, sd_cov_inv) for vec in control]\n",
    "ex_distances = [mahalanobis_distance(vec, sd_mean, sd_cov_inv) for vec in ex]\n",
    "sd_distances = [mahalanobis_distance(vec, sd_mean, sd_cov_inv) for vec in sd]\n",
    "\n",
    "# Convert distances to tensors for further analysis if needed\n",
    "control_distances = torch.tensor(control_distances)\n",
    "ex_distances = torch.tensor(ex_distances)\n",
    "sd_distance = torch.tensor(sd_distances)\n",
    "\n",
    "# Print results\n",
    "print(\"Control distances:\", control_distances)\n",
    "print(\"Ex distances:\", ex_distances)\n",
    "print(\"sd distances:\", sd_distance)\n"
   ]
  },
  {
   "cell_type": "markdown",
   "metadata": {},
   "source": [
    "import matplotlib.pyplot as plt\n",
    "\n",
    "# Convert to NumPy arrays for plotting\n",
    "control_distances = control_distances.numpy()\n",
    "ex_distances = ex_distances.numpy()\n",
    "sd_distances = sd_distance.numpy()\n",
    "\n",
    "# Create a histogram\n",
    "plt.figure(figsize=(12, 7))\n",
    "plt.hist(control_distances, bins=20, alpha=0.7, label='Control', color='blue', edgecolor='black')\n",
    "plt.hist(ex_distances, bins=20, alpha=0.7, label='Ex', color='orange', edgecolor='black')\n",
    "plt.hist(sd_distances, bins=20, alpha=0.7, label='SD', color='green', edgecolor='black')\n",
    "\n",
    "plt.axvline(x=control_distances.mean(), color='blue', linestyle='dashed', linewidth=1, label='Control Mean')\n",
    "plt.axvline(x=ex_distances.mean(), color='orange', linestyle='dashed', linewidth=1, label='Ex Mean')\n",
    "plt.axvline(x=sd_distances.mean(), color='green', linestyle='dashed', linewidth=1, label='SD Mean')\n",
    "\n",
    "plt.title('Histogram of Mahalanobis Distances')\n",
    "plt.xlabel('Mahalanobis Distance')\n",
    "plt.ylabel('Frequency')\n",
    "plt.legend()\n",
    "plt.grid()\n",
    "plt.show()\n",
    "\n",
    "# Create a boxplot\n",
    "plt.figure(figsize=(10, 6))\n",
    "plt.boxplot([control_distances, ex_distances, sd_distances], labels=['Control', 'Ex', 'SD'], patch_artist=True,\n",
    "            boxprops=dict(facecolor='lightblue'), medianprops=dict(color='red'))\n",
    "plt.title('Boxplot of Mahalanobis Distances')\n",
    "plt.ylabel('Mahalanobis Distance')\n",
    "plt.grid()\n",
    "plt.show()\n"
   ]
  },
  {
   "cell_type": "code",
   "execution_count": 28,
   "metadata": {},
   "outputs": [
    {
     "name": "stdout",
     "output_type": "stream",
     "text": [
      "Control distances: tensor([ 7980.2651,  7870.0913,  8291.7412,  6508.4590,  7799.8271,  8398.1172,\n",
      "         7999.8345, 12065.9248,  8569.5762, 12822.5303, 12378.3145,  9116.6709,\n",
      "         6652.4756,  8099.2153, 12187.5762,  9018.9121, 10027.0703,  7622.5205,\n",
      "         8725.4961,  7415.9023,  9769.3223,  9840.2500, 10147.5381, 10107.5098,\n",
      "         7841.6377,  7593.3867, 10247.1025,  9748.0498,  9001.4805,  9322.5010,\n",
      "         9396.5088, 10600.5254,  8246.8984, 11765.3887,  8021.3950,  9482.3564,\n",
      "         7091.8892,  9648.6895,  9059.0137,  9958.8730,  7213.3735, 11297.7627,\n",
      "         9869.5908, 13038.0303,  8564.6611,  8884.4404,  8770.1592,  7918.4312,\n",
      "         7700.1216,  7846.8970,  8287.9229,  9419.5645, 11970.1162, 10363.1201,\n",
      "        10154.8770, 10455.3447,  7909.1484, 11052.2588,  8657.5469,  8513.6514,\n",
      "         7279.4414,  9196.9990, 10311.0078,  8610.4131,  9052.4219,  8665.8926,\n",
      "        11310.7188,  7348.1045,  9541.2832,  8554.7607,  8002.8237,  6761.9180,\n",
      "         9018.9102,  7424.6538, 11088.9570,  8824.5254,  8849.1973, 10591.3867,\n",
      "         7646.6055,  9621.1836, 10617.8018,  9744.6025, 10181.8750, 11140.5498,\n",
      "         8465.1885,  7203.1172,  7591.7178, 10626.9287,  7798.1836,  8906.3291,\n",
      "        10231.4453, 10181.5723,  7372.0103,  7097.5732,  7949.7441,  8526.0635,\n",
      "         7133.2700,  9069.2383,  7376.3066,  9684.0283,  7914.0703,  9730.4893,\n",
      "         9835.4062,  8176.3657,  6908.2173,  6844.0361, 10237.5811,  9679.9199,\n",
      "         8171.2451,  8718.6338,  9998.1094,  7134.5952, 10121.2041, 11892.7812,\n",
      "         9245.8271,  7760.8462, 12269.4131,  7286.0967,  9513.4189,  7966.8481])\n",
      "Ex distances: tensor([5.3297, 5.4641, 5.1367, 5.1131, 5.2027, 5.2212, 5.1791, 5.1514, 5.1467,\n",
      "        5.2107, 5.3307, 5.0809, 5.3242, 5.2650, 5.2831, 5.1928, 4.8959, 5.0036,\n",
      "        5.0748, 5.1227, 5.1296, 5.1273, 5.1826, 5.0870, 5.1821, 5.2119, 5.1738,\n",
      "        5.0513, 5.0856])\n",
      "sd distances: tensor([ 6480.5063,  8552.3057,  9058.7441,  8083.6514,  8605.5957,  8924.9336,\n",
      "        11739.2412,  7153.2095,  8703.1201,  9322.4531,  8449.6816,  9029.0166,\n",
      "         9608.8945,  9047.4531,  7825.5537,  8327.0156,  9415.7510,  8931.1650,\n",
      "         9584.4453,  9767.1250,  9969.2314, 10292.9834,  9209.4316, 11705.2686,\n",
      "         9993.5322,  7927.7788,  7469.1841,  8783.6377,  8871.6260,  7983.4351,\n",
      "         7824.5361, 11001.1377,  6819.2783, 12689.6982, 10546.4385,  9574.5713,\n",
      "         8133.2241,  8374.3477,  8420.5762,  8527.8711, 10731.6377,  9405.0752,\n",
      "         9534.4268,  9247.1699,  9698.7314,  9317.6240,  8892.0098, 11197.6328,\n",
      "         8045.6748,  8514.6885,  8238.4170, 12276.3887, 10251.3018, 10351.9678,\n",
      "         7525.5190,  9662.5156,  8592.8301,  9854.7480,  7825.9023,  9267.8555,\n",
      "        10607.6992,  8685.2480,  9366.0635, 10792.6660,  9799.9883,  9419.3857,\n",
      "         8235.4277,  9977.5908,  8248.4863,  7872.4170,  8917.6465,  8611.5859,\n",
      "         8062.6826,  7698.3276,  7434.3208,  8818.5557, 10048.3193,  9425.7676,\n",
      "        10758.5498,  9329.8193, 10179.7100, 10709.1641,  8883.1777, 12516.5479,\n",
      "        10245.8994,  8318.0811,  7917.8081,  8550.7314, 10923.6348,  8553.1367,\n",
      "         8283.7422,  7704.9316,  8514.9160,  8722.8135,  9176.5078,  9846.7891,\n",
      "        10395.4619,  9239.2236,  7121.6387,  8470.6826,  8771.1133,  8073.1548,\n",
      "         8545.2334])\n"
     ]
    }
   ],
   "source": [
    "import torch\n",
    "\n",
    "# Calculate mean and covariance matrix of the sd distribution\n",
    "ex_mean = torch.mean(ex, dim=0)  # Mean vector of sd\n",
    "ex_cov = torch.cov(ex.T)         # Covariance matrix of sd\n",
    "\n",
    "# Regularize the covariance matrix\n",
    "epsilon = 1e-5\n",
    "ex_cov += torch.eye(ex_cov.size(0)) * epsilon\n",
    "\n",
    "# Calculate the inverse of the covariance matrix\n",
    "ex_cov_inv = torch.linalg.inv(ex_cov)\n",
    "\n",
    "# Function to calculate Mahalanobis distance\n",
    "def mahalanobis_distance(vec, mean, cov_inv):\n",
    "    diff = vec - mean\n",
    "    result = torch.mm(torch.mm(diff.unsqueeze(0), cov_inv), diff.unsqueeze(1))\n",
    "    if result.item() < 0:  # Debugging for negative values\n",
    "        print(f\"Negative value detected: {result.item()}\")\n",
    "    distance = torch.sqrt(result)\n",
    "    return distance.item()  # Convert to scalar value\n",
    "\n",
    "# Calculate distances for control and ex\n",
    "control_distances = [mahalanobis_distance(vec, ex_mean, ex_cov_inv) for vec in control]\n",
    "ex_distances = [mahalanobis_distance(vec, ex_mean, ex_cov_inv) for vec in ex]\n",
    "sd_distances = [mahalanobis_distance(vec, ex_mean, ex_cov_inv) for vec in sd]\n",
    "\n",
    "# Convert distances to tensors for further analysis if needed\n",
    "control_distances = torch.tensor(control_distances)\n",
    "ex_distances = torch.tensor(ex_distances)\n",
    "sd_distance = torch.tensor(sd_distances)\n",
    "\n",
    "# Print results\n",
    "print(\"Control distances:\", control_distances)\n",
    "print(\"Ex distances:\", ex_distances)\n",
    "print(\"sd distances:\", sd_distance)\n",
    "\n"
   ]
  },
  {
   "cell_type": "code",
   "execution_count": 29,
   "metadata": {},
   "outputs": [
    {
     "data": {
      "image/png": "[encoded data removed]",
      "text/plain": [
       "<Figure size 1200x700 with 1 Axes>"
      ]
     },
     "metadata": {},
     "output_type": "display_data"
    },
    {
     "name": "stderr",
     "output_type": "stream",
     "text": [
      "C:\\Users\\k54739\\AppData\\Local\\Temp\\ipykernel_8352\\3030954929.py:27: MatplotlibDeprecationWarning: The 'labels' parameter of boxplot() has been renamed 'tick_labels' since Matplotlib 3.9; support for the old name will be dropped in 3.11.\n",
      "  plt.boxplot([control_distances, ex_distances, sd_distances], labels=['Control', 'Ex', 'SD'], patch_artist=True,\n"
     ]
    },
    {
     "data": {
      "image/png": "[encoded data removed]",
      "text/plain": [
       "<Figure size 1000x600 with 1 Axes>"
      ]
     },
     "metadata": {},
     "output_type": "display_data"
    }
   ],
   "source": [
    "import matplotlib.pyplot as plt\n",
    "\n",
    "# Convert to NumPy arrays for plotting\n",
    "control_distances = control_distances.numpy()\n",
    "ex_distances = ex_distances.numpy()\n",
    "sd_distances = sd_distance.numpy()\n",
    "\n",
    "# Create a histogram\n",
    "plt.figure(figsize=(12, 7))\n",
    "plt.hist(control_distances, bins=20, alpha=0.7, label='Control', color='blue', edgecolor='black')\n",
    "plt.hist(ex_distances, bins=20, alpha=0.7, label='Ex', color='orange', edgecolor='black')\n",
    "plt.hist(sd_distances, bins=20, alpha=0.7, label='SD', color='green', edgecolor='black')\n",
    "\n",
    "plt.axvline(x=control_distances.mean(), color='blue', linestyle='dashed', linewidth=1, label='Control Mean')\n",
    "plt.axvline(x=ex_distances.mean(), color='orange', linestyle='dashed', linewidth=1, label='Ex Mean')\n",
    "plt.axvline(x=sd_distances.mean(), color='green', linestyle='dashed', linewidth=1, label='SD Mean')\n",
    "\n",
    "plt.title('Histogram of Mahalanobis Distances')\n",
    "plt.xlabel('Mahalanobis Distance')\n",
    "plt.ylabel('Frequency')\n",
    "plt.legend()\n",
    "plt.grid()\n",
    "plt.show()\n",
    "\n",
    "# Create a boxplot\n",
    "plt.figure(figsize=(10, 6))\n",
    "plt.boxplot([control_distances, ex_distances, sd_distances], labels=['Control', 'Ex', 'SD'], patch_artist=True,\n",
    "            boxprops=dict(facecolor='lightblue'), medianprops=dict(color='red'))\n",
    "plt.title('Boxplot of Mahalanobis Distances')\n",
    "plt.ylabel('Mahalanobis Distance')\n",
    "plt.grid()\n",
    "plt.show()\n"
   ]
  },
  {
   "cell_type": "code",
   "execution_count": 30,
   "metadata": {},
   "outputs": [
    {
     "name": "stdout",
     "output_type": "stream",
     "text": [
      "Control distances: tensor([10.8136, 10.8351, 10.7690, 10.9650, 10.8515, 10.8347, 10.9906, 10.8293,\n",
      "        10.9041, 10.7972, 10.8694, 10.8249, 10.9081, 10.7730, 10.7938, 10.9037,\n",
      "        10.7827, 10.8398, 10.9077, 10.8848, 10.8921, 10.7409, 10.8335, 10.9023,\n",
      "        10.8087, 10.9215, 10.7970, 10.8198, 10.8648, 10.9595, 10.8588, 10.9329,\n",
      "        10.8537, 10.7897, 10.8681, 10.9004, 10.8641, 10.8500, 10.9190, 10.8377,\n",
      "        10.8513, 10.9475, 10.9288, 10.8778, 10.8915, 10.8677, 10.8660, 10.8593,\n",
      "        10.8572, 10.8109, 10.7821, 10.8588, 10.8743, 10.8519, 10.7913, 10.9446,\n",
      "        10.8729, 10.9344, 10.9560, 10.8690, 10.9554, 10.9482, 10.8718, 10.8950,\n",
      "        10.8581, 10.8577, 10.8812, 10.9417, 10.8143, 10.8914, 10.9048, 10.8603,\n",
      "        10.8164, 10.8512, 10.7938, 10.8964, 10.8916, 10.8324, 10.7611, 10.8643,\n",
      "        10.9405, 10.7992, 10.9489, 10.8710, 10.8035, 10.8751, 10.9555, 10.8251,\n",
      "        10.8026, 10.8860, 10.8501, 10.7946, 10.8911, 10.8622, 10.9024, 10.8542,\n",
      "        10.8264, 10.8605, 10.9060, 10.8768, 10.8764, 10.8413, 10.7973, 10.8726,\n",
      "        10.8167, 10.8652, 10.8151, 10.8376, 10.8852, 10.8639, 10.8245, 10.8779,\n",
      "        10.8727, 10.8341, 10.9050, 10.8676, 10.7856, 10.8347, 10.8086, 10.7778])\n",
      "Ex distances: tensor([9763.6885, 9289.9863, 8742.4697, 6644.0317, 7334.0972, 7288.5889,\n",
      "        7981.0415, 6637.5244, 8199.7197, 6685.8105, 8874.2432, 7309.3140,\n",
      "        6705.5190, 5757.0640, 8078.1372, 5381.9707, 6748.0698, 8139.9478,\n",
      "        8597.5879, 7757.1450, 7763.2729, 9068.1963, 6092.3867, 6643.3057,\n",
      "        8432.0010, 8346.8564, 8997.5205, 8648.0918, 8034.1372])\n",
      "sd distances: tensor([5774.3218, 6854.1562, 4683.3506, 4709.2632, 7242.6284, 5089.7290,\n",
      "        8955.6807, 4937.5044, 5599.0811, 5507.6187, 8366.3301, 6422.8276,\n",
      "        6603.4067, 6524.5664, 4298.2021, 5002.9702, 5200.6196, 5690.4453,\n",
      "        5959.0347, 7697.1504, 5650.1924, 8511.2490, 6819.8555, 6433.1855,\n",
      "        7787.6865, 6245.8389, 5689.1953, 5457.3198, 6378.9907, 4552.5981,\n",
      "        5618.3262, 9334.3125, 4834.8843, 8487.1953, 8298.6484, 9333.5527,\n",
      "        7709.0254, 5732.2490, 6425.7671, 6015.7485, 6410.6548, 7542.0425,\n",
      "        5859.7593, 7185.0376, 6703.4351, 7303.8638, 6870.1758, 7276.1641,\n",
      "        5921.5605, 6761.9307, 5049.9263, 6412.4907, 6144.8989, 9363.6074,\n",
      "        6395.0981, 5281.1943, 6829.7920, 5718.4668, 6682.3057, 6884.7114,\n",
      "        7707.0991, 5323.3198, 6127.5610, 7247.0952, 6174.5454, 7053.0610,\n",
      "        6181.3486, 5913.5073, 6140.2559, 6292.5112, 5327.6064, 6902.8945,\n",
      "        5032.3740, 6143.2056, 5247.8115, 6598.2754, 6382.9351, 6561.9912,\n",
      "        7128.4536, 5845.7012, 8701.5967, 7488.9331, 6370.8447, 6701.9536,\n",
      "        6168.8506, 4914.2017, 5748.1255, 6156.8936, 7964.0229, 5041.2617,\n",
      "        5824.0967, 6349.3398, 5141.3696, 4485.9111, 7047.1797, 7688.3682,\n",
      "        4897.3130, 5424.9839, 4024.6021, 4872.1172, 7277.8672, 6369.5405,\n",
      "        4838.3237])\n"
     ]
    }
   ],
   "source": [
    "import torch\n",
    "\n",
    "# Calculate mean and covariance matrix of the sd distribution\n",
    "con_mean = torch.mean(control, dim=0)  # Mean vector of sd\n",
    "con_cov = torch.cov(control.T)         # Covariance matrix of sd\n",
    "\n",
    "# Regularize the covariance matrix\n",
    "epsilon = 1e-5\n",
    "con_cov += torch.eye(con_cov.size(0)) * epsilon\n",
    "\n",
    "# Calculate the inverse of the covariance matrix\n",
    "con_cov_inv = torch.linalg.inv(con_cov)\n",
    "\n",
    "# Function to calculate Mahalanobis distance\n",
    "def mahalanobis_distance(vec, mean, cov_inv):\n",
    "    diff = vec - mean\n",
    "    result = torch.mm(torch.mm(diff.unsqueeze(0), cov_inv), diff.unsqueeze(1))\n",
    "    if result.item() < 0:  # Debugging for negative values\n",
    "        print(f\"Negative value detected: {result.item()}\")\n",
    "    distance = torch.sqrt(result)\n",
    "    return distance.item()  # Convert to scalar value\n",
    "\n",
    "# Calculate distances for control and ex\n",
    "control_distances = [mahalanobis_distance(vec, con_mean, con_cov_inv) for vec in control]\n",
    "ex_distances = [mahalanobis_distance(vec, con_mean, con_cov_inv) for vec in ex]\n",
    "sd_distances = [mahalanobis_distance(vec, con_mean, con_cov_inv) for vec in sd]\n",
    "\n",
    "# Convert distances to tensors for further analysis if needed\n",
    "control_distances = torch.tensor(control_distances)\n",
    "ex_distances = torch.tensor(ex_distances)\n",
    "sd_distance = torch.tensor(sd_distances)\n",
    "\n",
    "# Print results\n",
    "print(\"Control distances:\", control_distances)\n",
    "print(\"Ex distances:\", ex_distances)\n",
    "print(\"sd distances:\", sd_distance)\n",
    "\n"
   ]
  },
  {
   "cell_type": "code",
   "execution_count": 31,
   "metadata": {},
   "outputs": [
    {
     "data": {
      "image/png": "[encoded data removed]",
      "text/plain": [
       "<Figure size 1200x700 with 1 Axes>"
      ]
     },
     "metadata": {},
     "output_type": "display_data"
    },
    {
     "name": "stderr",
     "output_type": "stream",
     "text": [
      "C:\\Users\\k54739\\AppData\\Local\\Temp\\ipykernel_8352\\3030954929.py:27: MatplotlibDeprecationWarning: The 'labels' parameter of boxplot() has been renamed 'tick_labels' since Matplotlib 3.9; support for the old name will be dropped in 3.11.\n",
      "  plt.boxplot([control_distances, ex_distances, sd_distances], labels=['Control', 'Ex', 'SD'], patch_artist=True,\n"
     ]
    },
    {
     "data": {
      "image/png": "[encoded data removed]",
      "text/plain": [
       "<Figure size 1000x600 with 1 Axes>"
      ]
     },
     "metadata": {},
     "output_type": "display_data"
    }
   ],
   "source": [
    "import matplotlib.pyplot as plt\n",
    "\n",
    "# Convert to NumPy arrays for plotting\n",
    "control_distances = control_distances.numpy()\n",
    "ex_distances = ex_distances.numpy()\n",
    "sd_distances = sd_distance.numpy()\n",
    "\n",
    "# Create a histogram\n",
    "plt.figure(figsize=(12, 7))\n",
    "plt.hist(control_distances, bins=20, alpha=0.7, label='Control', color='blue', edgecolor='black')\n",
    "plt.hist(ex_distances, bins=20, alpha=0.7, label='Ex', color='orange', edgecolor='black')\n",
    "plt.hist(sd_distances, bins=20, alpha=0.7, label='SD', color='green', edgecolor='black')\n",
    "\n",
    "plt.axvline(x=control_distances.mean(), color='blue', linestyle='dashed', linewidth=1, label='Control Mean')\n",
    "plt.axvline(x=ex_distances.mean(), color='orange', linestyle='dashed', linewidth=1, label='Ex Mean')\n",
    "plt.axvline(x=sd_distances.mean(), color='green', linestyle='dashed', linewidth=1, label='SD Mean')\n",
    "\n",
    "plt.title('Histogram of Mahalanobis Distances')\n",
    "plt.xlabel('Mahalanobis Distance')\n",
    "plt.ylabel('Frequency')\n",
    "plt.legend()\n",
    "plt.grid()\n",
    "plt.show()\n",
    "\n",
    "# Create a boxplot\n",
    "plt.figure(figsize=(10, 6))\n",
    "plt.boxplot([control_distances, ex_distances, sd_distances], labels=['Control', 'Ex', 'SD'], patch_artist=True,\n",
    "            boxprops=dict(facecolor='lightblue'), medianprops=dict(color='red'))\n",
    "plt.title('Boxplot of Mahalanobis Distances')\n",
    "plt.ylabel('Mahalanobis Distance')\n",
    "plt.grid()\n",
    "plt.show()\n"
   ]
  },
  {
   "cell_type": "code",
   "execution_count": null,
   "metadata": {},
   "outputs": [],
   "source": []
  },
  {
   "cell_type": "code",
   "execution_count": null,
   "metadata": {},
   "outputs": [],
   "source": []
  },
  {
   "cell_type": "code",
   "execution_count": null,
   "metadata": {},
   "outputs": [],
   "source": []
  },
  {
   "cell_type": "code",
   "execution_count": null,
   "metadata": {},
   "outputs": [],
   "source": []
  },
  {
   "cell_type": "code",
   "execution_count": null,
   "metadata": {},
   "outputs": [],
   "source": []
  },
  {
   "cell_type": "code",
   "execution_count": 10,
   "metadata": {},
   "outputs": [
    {
     "name": "stdout",
     "output_type": "stream",
     "text": [
      "Shape of features (for K-Means): (252, 512)\n",
      "Shape of labels: (252,)\n"
     ]
    }
   ],
   "source": [
    "# Convert features and labels to NumPy arrays\n",
    "feats_np = feats_simclr.tensors[0].numpy()  # Features in shape (60, 512)\n",
    "feats_np_norm = normalize(feats_np, axis=1)\n",
    "labels_np = feats_simclr.tensors[1].numpy()  # Corresponding labels\n",
    "\n",
    "# Check the shapes\n",
    "print(\"Shape of features (for K-Means):\", feats_np.shape)\n",
    "print(\"Shape of labels:\", labels_np.shape)"
   ]
  },
  {
   "cell_type": "markdown",
   "metadata": {},
   "source": [
    "SKLEARN"
   ]
  },
  {
   "cell_type": "code",
   "execution_count": 11,
   "metadata": {},
   "outputs": [],
   "source": [
    "from sklearn.metrics.pairwise import cosine_similarity"
   ]
  },
  {
   "cell_type": "code",
   "execution_count": 12,
   "metadata": {},
   "outputs": [],
   "source": [
    "# Define KMeansCosine class\n",
    "class KMeansCosine:\n",
    "    def __init__(self, n_clusters=2, max_iter=300, random_state=None):\n",
    "        self.n_clusters = n_clusters\n",
    "        self.max_iter = max_iter\n",
    "        self.random_state = random_state\n",
    "\n",
    "    def fit(self, X):\n",
    "        # Normalize the data to unit vectors\n",
    "        X_normalized = X / np.linalg.norm(X, axis=1)[:, np.newaxis]\n",
    "\n",
    "        # Initialize centroids randomly from the data points\n",
    "        np.random.seed(self.random_state)\n",
    "        initial_indices = np.random.choice(X_normalized.shape[0], self.n_clusters, replace=False)\n",
    "        centroids = X_normalized[initial_indices]\n",
    "\n",
    "        # Track the minimum cost and corresponding labels/centroids\n",
    "        best_cost = float('inf')\n",
    "        best_labels = None\n",
    "        best_centroids = None\n",
    "\n",
    "\n",
    "        for _ in range(self.max_iter):\n",
    "            # Compute the cosine similarity and distance\n",
    "            similarities = cosine_similarity(X_normalized, centroids)\n",
    "            cosine_dist = 1 - similarities\n",
    "            cost = np.sum(cosine_dist)\n",
    "            print(f\"Iteration cost: {cost}\")\n",
    "\n",
    "            # Update best cost and corresponding labels/centroids if the current cost is lower\n",
    "            if cost < best_cost:\n",
    "                best_cost = cost\n",
    "                best_labels = np.argmax(similarities, axis=1)\n",
    "                best_centroids = centroids.copy()\n",
    "\n",
    "            # Assign clusters based on the highest similarity (lowest distance)\n",
    "            labels = np.argmax(similarities, axis=1)\n",
    "\n",
    "            # Update centroids by taking the mean of the points in each cluster\n",
    "            new_centroids = np.array([X_normalized[labels == i].mean(axis=0) for i in range(self.n_clusters)])\n",
    "            new_centroids /= np.linalg.norm(new_centroids, axis=1)[:, np.newaxis]\n",
    "\n",
    "            # Check for convergence (if centroids do not change)\n",
    "            if np.allclose(centroids, new_centroids, atol=1e-6):  # Use np.allclose for numerical stability\n",
    "                break\n",
    "\n",
    "            centroids = new_centroids\n",
    "\n",
    "        # Store final centroids and labels\n",
    "        self.labels_ = labels\n",
    "        self.centroids_ = centroids\n",
    "        self.best_labels_ = best_labels\n",
    "        self.best_centroids_ = best_centroids\n",
    "        self.best_cost_ = best_cost"
   ]
  },
  {
   "cell_type": "markdown",
   "metadata": {},
   "source": [
    "# Define KMeansCosine class\n",
    "class KMeansCosine:\n",
    "    def __init__(self, n_clusters=2, max_iter=300, random_state=None):\n",
    "        self.n_clusters = n_clusters\n",
    "        self.max_iter = max_iter\n",
    "        self.random_state = random_state\n",
    "\n",
    "    def fit(self, X):\n",
    "        X_normalized = X / np.linalg.norm(X, axis=1)[:, np.newaxis]\n",
    "        np.random.seed(self.random_state)\n",
    "        initial_indices = np.random.choice(X_normalized.shape[0], self.n_clusters, replace=False)\n",
    "        centroids = X_normalized[initial_indices]\n",
    "\n",
    "        for _ in range(self.max_iter):\n",
    "            similarities = cosine_similarity(X_normalized, centroids)\n",
    "            labels = np.argmax(similarities, axis=1)\n",
    "            new_centroids = np.array([X_normalized[labels == i].mean(axis=0) for i in range(self.n_clusters)])\n",
    "            new_centroids /= np.linalg.norm(new_centroids, axis=1)[:, np.newaxis]\n",
    "\n",
    "            if np.all(centroids == new_centroids):\n",
    "                break\n",
    "\n",
    "            centroids = new_centroids\n",
    "\n",
    "        self.labels_ = labels\n",
    "        self.centroids_ = centroids"
   ]
  },
  {
   "cell_type": "code",
   "execution_count": 23,
   "metadata": {},
   "outputs": [
    {
     "name": "stdout",
     "output_type": "stream",
     "text": [
      "Iteration cost: 425.5417175292969\n",
      "Iteration cost: 329.65911865234375\n",
      "Iteration cost: 334.5455322265625\n",
      "Iteration cost: 335.4742736816406\n",
      "Iteration cost: 337.9687194824219\n",
      "Iteration cost: 338.5545654296875\n",
      "Iteration cost: 339.34954833984375\n",
      "Iteration cost: 340.44842529296875\n",
      "Iteration cost: 341.6830749511719\n",
      "Iteration cost: 342.884765625\n",
      "Iteration cost: 345.99468994140625\n",
      "Iteration cost: 352.4001770019531\n",
      "Iteration cost: 358.55615234375\n",
      "Iteration cost: 363.345947265625\n",
      "Final Cluster Labels: [1 1 0 2 2 0 0 0 2 2 1 2 2 1 2 0 2 0 1 2 2 0 2 0 2 2 2 2 0 0 0 2 2 1 2 2 0\n",
      " 0 0 2 0 0 0 2 2 0 2 1 0 2 2 2 1 0 1 2 0 0 0 0 0 0 1 2 2 1 2 2 2 2 0 2 2 1\n",
      " 0 0 0 0 0 2 2 0 0 0 0 2 2 2 2 2 1 0 2 0 0 0 2 0 0 0 2 2 2 0 2 2 2 2 2 0 0\n",
      " 1 0 2 0 1 2 0 0 0 2 0 0 2 2 0 2 0 0 2 2 1 1 0 0 0 2 2 0 2 0 2 2 2 2 0 0 2\n",
      " 0 2 2 2 0 0 2 0 0 2 0 2 0 0 2 2 0 0 0 2 0 0 2 0 2 2 2 2 2 0 2 0 0 0 2 0 2\n",
      " 0 2 0 1 2 2 2 1 2 2 0 0 1 2 2 2 2 2 2 2 0 2 1 1 1 0 2 0 0 2 2 0 1 1 0 2 2\n",
      " 2 2 1 0 2 0 0 2 0 0 2 2 2 2 1 0 1 2 0 2 2 2 0 2 2 0 1 0 0 0]\n",
      "Final Centroids: [[0.02773194 0.03218997 0.03916575 ... 0.01438918 0.03552941 0.05779034]\n",
      " [0.11021744 0.06170331 0.00020586 ... 0.09186586 0.0422131  0.02608187]\n",
      " [0.00125832 0.00122353 0.03590972 ... 0.03852842 0.01303586 0.08366116]]\n",
      "Best Centroids with Lowest Cost: [[0.05032828 0.04256796 0.04394635 ... 0.01269829 0.02808514 0.02481005]\n",
      " [0.02595692 0.03366575 0.01987088 ... 0.02749793 0.05300426 0.08765823]\n",
      " [0.01273549 0.00571047 0.03438219 ... 0.0529594  0.01517585 0.08488501]]\n",
      "Lowest Cost: 329.65912\n"
     ]
    }
   ],
   "source": [
    "kmeans_cosine = KMeansCosine(n_clusters=3, max_iter=100, random_state=30)\n",
    "kmeans_cosine.fit(feats_np)\n",
    "\n",
    "print(\"Final Cluster Labels:\", kmeans_cosine.labels_)\n",
    "print(\"Final Centroids:\", kmeans_cosine.centroids_)\n",
    "#print(\"Best Cluster Labels with Lowest Cost:\", kmeans_cosine.best_labels_)\n",
    "print(\"Best Centroids with Lowest Cost:\", kmeans_cosine.best_centroids_)\n",
    "print(\"Lowest Cost:\", kmeans_cosine.best_cost_)"
   ]
  },
  {
   "cell_type": "code",
   "execution_count": 24,
   "metadata": {},
   "outputs": [
    {
     "data": {
      "text/plain": [
       "array([1, 1, 0, 2, 2, 0, 0, 0, 2, 2, 1, 2, 2, 1, 2, 0, 2, 0, 1, 2, 2, 0,\n",
       "       2, 0, 2, 2, 2, 2, 0, 0, 0, 2, 2, 1, 2, 2, 0, 0, 0, 2, 0, 0, 0, 2,\n",
       "       2, 0, 2, 1, 0, 2, 2, 2, 1, 0, 1, 2, 0, 0, 0, 0, 0, 0, 1, 2, 2, 1,\n",
       "       2, 2, 2, 2, 0, 2, 2, 1, 0, 0, 0, 0, 0, 2, 2, 0, 0, 0, 0, 2, 2, 2,\n",
       "       2, 2, 1, 0, 2, 0, 0, 0, 2, 0, 0, 0, 2, 2, 2, 0, 2, 2, 2, 2, 2, 0,\n",
       "       0, 1, 0, 2, 0, 1, 2, 0, 0, 0, 2, 0, 0, 2, 2, 0, 2, 0, 0, 2, 2, 1,\n",
       "       1, 0, 0, 0, 2, 2, 0, 2, 0, 2, 2, 2, 2, 0, 0, 2, 0, 2, 2, 2, 0, 0,\n",
       "       2, 0, 0, 2, 0, 2, 0, 0, 2, 2, 0, 0, 0, 2, 0, 0, 2, 0, 2, 2, 2, 2,\n",
       "       2, 0, 2, 0, 0, 0, 2, 0, 2, 0, 2, 0, 1, 2, 2, 2, 1, 2, 2, 0, 0, 1,\n",
       "       2, 2, 2, 2, 2, 2, 2, 0, 2, 1, 1, 1, 0, 2, 0, 0, 2, 2, 0, 1, 1, 0,\n",
       "       2, 2, 2, 2, 1, 0, 2, 0, 0, 2, 0, 0, 2, 2, 2, 2, 1, 0, 1, 2, 0, 2,\n",
       "       2, 2, 0, 2, 2, 0, 1, 0, 0, 0], dtype=int64)"
      ]
     },
     "execution_count": 24,
     "metadata": {},
     "output_type": "execute_result"
    }
   ],
   "source": [
    "idx = kmeans_cosine.labels_\n",
    "idx"
   ]
  },
  {
   "cell_type": "code",
   "execution_count": 25,
   "metadata": {},
   "outputs": [
    {
     "name": "stdout",
     "output_type": "stream",
     "text": [
      "Cluster assignments: [1 1 0 2 2 0 0 0 2 2 1 2 2 1 2 0 2 0 1 2 2 0 2 0 2 2 2 2 0 0 0 2 2 1 2 2 0\n",
      " 0 0 2 0 0 0 2 2 0 2 1 0 2 2 2 1 0 1 2 0 0 0 0 0 0 1 2 2 1 2 2 2 2 0 2 2 1\n",
      " 0 0 0 0 0 2 2 0 0 0 0 2 2 2 2 2 1 0 2 0 0 0 2 0 0 0 2 2 2 0 2 2 2 2 2 0 0\n",
      " 1 0 2 0 1 2 0 0 0 2 0 0 2 2 0 2 0 0 2 2 1 1 0 0 0 2 2 0 2 0 2 2 2 2 0 0 2\n",
      " 0 2 2 2 0 0 2 0 0 2 0 2 0 0 2 2 0 0 0 2 0 0 2 0 2 2 2 2 2 0 2 0 0 0 2 0 2\n",
      " 0 2 0 1 2 2 2 1 2 2 0 0 1 2 2 2 2 2 2 2 0 2 1 1 1 0 2 0 0 2 2 0 1 1 0 2 2\n",
      " 2 2 1 0 2 0 0 2 0 0 2 2 2 2 1 0 1 2 0 2 2 2 0 2 2 0 1 0 0 0]\n",
      "True labels: [2 2 1 0 0 1 1 1 0 0 2 0 0 2 0 1 0 1 2 0 0 1 0 1 0 0 0 0 1 1 1 0 0 2 0 0 1\n",
      " 1 1 0 1 1 1 0 0 1 0 2 1 0 0 0 2 1 2 0 1 1 1 1 1 1 2 0 0 2 0 0 0 0 1 0 0 2\n",
      " 1 1 1 1 1 0 0 1 1 1 1 0 0 0 0 0 2 1 0 1 1 1 0 1 1 1 0 0 0 1 0 0 0 0 0 1 1\n",
      " 2 1 0 1 2 0 1 1 1 0 1 1 0 0 1 0 1 1 0 0 2 2 1 1 1 0 0 1 0 1 0 0 0 0 1 1 0\n",
      " 1 0 0 0 1 1 0 1 1 0 1 0 1 1 0 0 1 1 1 0 1 0 0 1 0 0 0 0 0 1 0 1 1 1 0 1 0\n",
      " 1 0 1 2 0 0 0 2 0 0 1 1 2 0 0 0 0 0 0 0 1 0 2 2 2 1 0 1 1 0 0 1 2 2 1 0 0\n",
      " 0 0 2 1 0 1 1 0 1 1 0 0 0 0 2 1 2 0 1 0 0 0 1 0 0 1 2 1 1 1]\n"
     ]
    }
   ],
   "source": [
    "print(\"Cluster assignments:\", idx)\n",
    "print(\"True labels:\", labels_np)"
   ]
  },
  {
   "cell_type": "code",
   "execution_count": 26,
   "metadata": {},
   "outputs": [
    {
     "data": {
      "text/plain": [
       "array([2, 2, 0, 2, 2, 1, 1, 1, 2, 2, 2, 2, 2, 1, 2, 0, 2, 1, 1, 2, 2, 0,\n",
       "       2, 0, 2, 2, 2, 2, 0, 0, 0, 2, 2, 2, 2, 2, 1, 0, 0, 2, 0, 1, 0, 2,\n",
       "       2, 1, 2, 0, 0, 2, 2, 2, 2, 1, 0, 2, 1, 1, 1, 1, 0, 0, 2, 2, 2, 1,\n",
       "       2, 2, 2, 2, 0, 2, 2, 1, 0, 1, 1, 0, 0, 2, 2, 1, 0, 1, 0, 2, 2, 2,\n",
       "       2, 2, 1, 1, 2, 0, 1, 0, 2, 1, 0, 1, 2, 2, 2, 1, 2, 2, 2, 1, 2, 0,\n",
       "       0, 1, 1, 2, 1, 2, 2, 0, 0, 0, 2, 0, 1, 2, 2, 0, 2, 0, 1, 2, 2, 0,\n",
       "       2, 0, 0, 0, 2, 2, 1, 2, 1, 2, 2, 2, 2, 1, 0, 2, 0, 2, 2, 2, 0, 0,\n",
       "       2, 0, 0, 2, 0, 2, 0, 0, 2, 2, 0, 1, 0, 2, 1, 0, 2, 0, 2, 2, 2, 2,\n",
       "       1, 1, 2, 0, 0, 0, 2, 0, 1, 0, 2, 1, 0, 2, 2, 2, 2, 2, 2, 1, 0, 2,\n",
       "       2, 2, 2, 2, 2, 2, 2, 1, 2, 2, 1, 0, 1, 2, 0, 0, 2, 2, 0, 2, 0, 0,\n",
       "       2, 2, 2, 2, 2, 1, 2, 0, 0, 2, 0, 1, 2, 2, 2, 2, 0, 0, 1, 2, 1, 2,\n",
       "       2, 2, 1, 2, 2, 0, 1, 1, 0, 0], dtype=int64)"
      ]
     },
     "execution_count": 26,
     "metadata": {},
     "output_type": "execute_result"
    }
   ],
   "source": [
    "best_idx = kmeans_cosine.best_labels_\n",
    "best_idx"
   ]
  },
  {
   "cell_type": "code",
   "execution_count": 27,
   "metadata": {},
   "outputs": [
    {
     "name": "stdout",
     "output_type": "stream",
     "text": [
      "Cluster assignments: [2 2 0 2 2 1 1 1 2 2 2 2 2 1 2 0 2 1 1 2 2 0 2 0 2 2 2 2 0 0 0 2 2 2 2 2 1\n",
      " 0 0 2 0 1 0 2 2 1 2 0 0 2 2 2 2 1 0 2 1 1 1 1 0 0 2 2 2 1 2 2 2 2 0 2 2 1\n",
      " 0 1 1 0 0 2 2 1 0 1 0 2 2 2 2 2 1 1 2 0 1 0 2 1 0 1 2 2 2 1 2 2 2 1 2 0 0\n",
      " 1 1 2 1 2 2 0 0 0 2 0 1 2 2 0 2 0 1 2 2 0 2 0 0 0 2 2 1 2 1 2 2 2 2 1 0 2\n",
      " 0 2 2 2 0 0 2 0 0 2 0 2 0 0 2 2 0 1 0 2 1 0 2 0 2 2 2 2 1 1 2 0 0 0 2 0 1\n",
      " 0 2 1 0 2 2 2 2 2 2 1 0 2 2 2 2 2 2 2 2 1 2 2 1 0 1 2 0 0 2 2 0 2 0 0 2 2\n",
      " 2 2 2 1 2 0 0 2 0 1 2 2 2 2 0 0 1 2 1 2 2 2 1 2 2 0 1 1 0 0]\n",
      "True labels: [0, 0, 0, 0, 0, 0, 0, 0, 0, 0, 0, 0, 0, 0, 0, 0, 0, 0, 0, 0, 0, 0, 0, 0, 0, 0, 0, 0, 0, 0, 0, 0, 0, 0, 0, 0, 0, 0, 0, 0, 0, 0, 0, 0, 0, 0, 0, 0, 0, 0, 0, 0, 0, 0, 0, 0, 0, 0, 0, 0, 0, 0, 0, 0, 0, 0, 0, 0, 0, 0, 0, 0, 0, 0, 0, 0, 0, 0, 0, 0, 0, 0, 0, 0, 0, 0, 0, 0, 0, 0, 0, 0, 0, 0, 0, 0, 0, 0, 0, 0, 0, 0, 0, 0, 0, 0, 0, 0, 0, 0, 0, 0, 0, 0, 0, 0, 0, 0, 0, 0, 1, 1, 1, 1, 1, 1, 1, 1, 1, 1, 1, 1, 1, 1, 1, 1, 1, 1, 1, 1, 1, 1, 1, 1, 1, 1, 1, 1, 1, 1, 1, 1, 1, 1, 1, 1, 1, 1, 1, 1, 1, 1, 1, 1, 1, 1, 1, 1, 1, 1, 1, 1, 1, 1, 1, 1, 1, 1, 1, 1, 1, 1, 1, 1, 1, 1, 1, 1, 1, 1, 1, 1, 1, 1, 1, 1, 1, 1, 1, 1, 1, 1, 1, 1, 1, 1, 1, 1, 1, 1, 1, 1, 1, 1, 1, 1, 1, 1, 1, 1, 1, 1, 1, 2, 2, 2, 2, 2, 2, 2, 2, 2, 2, 2, 2, 2, 2, 2, 2, 2, 2, 2, 2, 2, 2, 2, 2, 2, 2, 2, 2, 2]\n"
     ]
    }
   ],
   "source": [
    "print(\"Cluster assignments:\", best_idx)\n",
    "print(\"True labels:\", labels)"
   ]
  },
  {
   "cell_type": "code",
   "execution_count": 28,
   "metadata": {},
   "outputs": [
    {
     "name": "stdout",
     "output_type": "stream",
     "text": [
      "Cluster 0 has true labels: Counter({1: 103, 0: 1})\n",
      "Cluster 1 has true labels: Counter({2: 29})\n",
      "Cluster 2 has true labels: Counter({0: 119})\n"
     ]
    }
   ],
   "source": [
    "# `idx` contains the cluster assignments from KMeans\n",
    "#  `labels` contains the true labels\n",
    "\n",
    "K = len(np.unique(idx))  # Number of clusters\n",
    "\n",
    "# Iterate over each cluster and count the true labels in that cluster\n",
    "for cluster in range(K):\n",
    "    # Find the indices of images assigned to the current cluster\n",
    "    cluster_indices = np.where(idx == cluster)[0]\n",
    "    \n",
    "    # Get the true labels for the images in this cluster\n",
    "    cluster_labels = labels_np[cluster_indices]\n",
    "    \n",
    "    # Use Counter to count occurrences of each label in the cluster\n",
    "    label_counts = Counter(cluster_labels)\n",
    "    \n",
    "    # Print the result\n",
    "    print(f\"Cluster {cluster} has true labels: {label_counts}\")\n"
   ]
  },
  {
   "cell_type": "code",
   "execution_count": 29,
   "metadata": {},
   "outputs": [
    {
     "name": "stdout",
     "output_type": "stream",
     "text": [
      "Cluster 0 has true labels: Counter({1: 63, 2: 7, 0: 1})\n",
      "Cluster 1 has true labels: Counter({1: 40, 2: 9, 0: 3})\n",
      "Cluster 2 has true labels: Counter({0: 116, 2: 13})\n"
     ]
    }
   ],
   "source": [
    "K = len(np.unique(best_idx))  # Number of clusters\n",
    "\n",
    "# Iterate over each cluster and count the true labels in that cluster\n",
    "for cluster in range(K):\n",
    "    # Find the indices of images assigned to the current cluster\n",
    "    cluster_indices = np.where(best_idx == cluster)[0]\n",
    "    \n",
    "    # Get the true labels for the images in this cluster\n",
    "    cluster_labels = labels_np[cluster_indices]\n",
    "    \n",
    "    # Use Counter to count occurrences of each label in the cluster\n",
    "    label_counts = Counter(cluster_labels)\n",
    "    \n",
    "    # Print the result\n",
    "    print(f\"Cluster {cluster} has true labels: {label_counts}\")"
   ]
  },
  {
   "cell_type": "code",
   "execution_count": 30,
   "metadata": {},
   "outputs": [],
   "source": [
    "# Function to reorder K-Means labels to match true labels\n",
    "def reorder_labels(true_labels, predicted_labels):\n",
    "    reordered_labels = np.zeros_like(predicted_labels)\n",
    "\n",
    "    for cluster in np.unique(predicted_labels):\n",
    "        mask = (predicted_labels == cluster)\n",
    "        # Use mode and handle cases where mode() returns a scalar\n",
    "        most_common_label = mode(true_labels[mask], axis=None).mode  # Get the mode for the current cluster\n",
    "        if isinstance(most_common_label, np.ndarray):\n",
    "            most_common_label = most_common_label[0]  # Safely extract the mode value if it's an array\n",
    "        \n",
    "        reordered_labels[mask] = most_common_label\n",
    "\n",
    "    return reordered_labels"
   ]
  },
  {
   "cell_type": "code",
   "execution_count": 31,
   "metadata": {},
   "outputs": [
    {
     "name": "stdout",
     "output_type": "stream",
     "text": [
      "Accuracy: 99.60%\n"
     ]
    }
   ],
   "source": [
    "# Apply this after running K-Means\n",
    "reordered_idx = reorder_labels(labels_np, idx)\n",
    "\n",
    "# Now you can compare `reordered_idx` with `labels` to evaluate accuracy\n",
    "accuracy = np.sum(reordered_idx == labels_np) / len(labels_np) * 100\n",
    "print(f\"Accuracy: {accuracy:.2f}%\")"
   ]
  },
  {
   "cell_type": "code",
   "execution_count": 32,
   "metadata": {},
   "outputs": [
    {
     "name": "stdout",
     "output_type": "stream",
     "text": [
      "Accuracy: 86.90%\n"
     ]
    }
   ],
   "source": [
    "# Apply this after running K-Means\n",
    "reordered_idx = reorder_labels(labels_np, best_idx)\n",
    "\n",
    "# Now you can compare `reordered_idx` with `labels` to evaluate accuracy\n",
    "accuracy = np.sum(reordered_idx == labels_np) / len(labels) * 100\n",
    "print(f\"Accuracy: {accuracy:.2f}%\")"
   ]
  },
  {
   "cell_type": "markdown",
   "metadata": {},
   "source": [
    "From scratch"
   ]
  },
  {
   "cell_type": "code",
   "execution_count": 11,
   "metadata": {},
   "outputs": [],
   "source": [
    "# K-Means initialization function\n",
    "def kMeans_init_centroids(X, K):\n",
    "    randidx = np.random.permutation(X.shape[0])\n",
    "    centroids = X[randidx[:K]]\n",
    "    return centroids\n",
    "\n",
    "# Function to find the closest centroids using Cosine Similarity\n",
    "def find_closest_centroids(X, centroids):\n",
    "    # Normalize both the data points and centroids to ensure we compute cosine similarity\n",
    "    #X_norm = normalize(X, axis=1)\n",
    "    #centroids_norm = normalize(centroids, axis=1)\n",
    "    \n",
    "    # Assign data points to closest centroids based on cosine similarity\n",
    "    idx = np.zeros(X.shape[0], dtype=int)\n",
    "    for i in range(X.shape[0]):\n",
    "        # Compute cosine similarity\n",
    "        similarities = np.dot(centroids, X[i])  # Dot product gives cosine similarity\n",
    "        idx[i] = np.argmax(similarities)  # We want the most similar (highest value)\n",
    "    return idx\n",
    "\n",
    "# Function to compute new centroids\n",
    "def compute_centroids(X, idx, K):\n",
    "    centroids = np.zeros((K, X.shape[1]))  # Use shape[1] for features\n",
    "    for k in range(K):\n",
    "        points = X[idx == k]\n",
    "        if len(points) > 0:\n",
    "            centroids[k] = np.mean(points, axis=0)   # noralised vectors mean maynot be normalised. hence we normalise before calculating mean.https://chatgpt.com/share/671b97a7-ec2c-8010-af33-af106df0a25c\n",
    "            centroids_norm = normalize(centroids, axis=1)\n",
    "    return centroids_norm\n",
    "\n",
    "# Function to run K-Means algorithm with cost tracking (using Cosine Similarity)\n",
    "def run_kMeans(X, initial_centroids, max_iters=10):\n",
    "    K = initial_centroids.shape[0]\n",
    "    centroids = initial_centroids\n",
    "    idx = np.zeros(X.shape[0])\n",
    "    \n",
    "    best_centroids = centroids\n",
    "    lowest_cost = float('inf')\n",
    "    final_iteration = 0  # To keep track of the iteration where the best centroids were found\n",
    "    best_idx = idx  # Track the best index assignment\n",
    "\n",
    "    for i in range(max_iters):\n",
    "        print(f\"K-Means iteration {i}/{max_iters - 1}\")\n",
    "        \n",
    "        # Assign each data point to the closest centroid using cosine similarity\n",
    "        idx = find_closest_centroids(X, centroids)\n",
    "        \n",
    "        # Compute new centroids\n",
    "        centroids = compute_centroids(X, idx, K)\n",
    "\n",
    "        # Calculate cost function for the current centroids using cosine distance\n",
    "\n",
    "        # 1. Compute cosine similarity\n",
    "        sim = np.dot(X, centroids.T)\n",
    "        #print(sim.shape)\n",
    "        #print(sim)\n",
    "        # 2. Calculate cosine distance\n",
    "        cosine_dist = 1 - sim\n",
    "        #print(cosine_dist.shape)\n",
    "        #print(cosine_dist)\n",
    "        # 3. Find maximum cosine distance for each data point\n",
    "        #max_cosine_dist = cosine_dist.max(axis=1)\n",
    "        #print(max_cosine_dist.shape)\n",
    "        #print(max_cosine_dist)\n",
    "        cost = np.sum(cosine_dist)\n",
    "\n",
    "        # 4. Sum of all maximum distances\n",
    "        #cost = np.sum(max_cosine_dist)\n",
    "\n",
    "        #cost = np.sum(1 - np.dot(X_norm, centroids_norm.T).max(axis=1))  # Cosine distance = 1 - cosine similarity  \n",
    "        print(f\"Cost function value: {cost}\")  # Print the cost function value\n",
    "\n",
    "        # Check if this is the best cost so far\n",
    "        if cost < lowest_cost:\n",
    "            lowest_cost = cost\n",
    "            best_centroids = centroids\n",
    "            best_idx = idx.copy()\n",
    "            final_iteration = i  # Update the iteration where best centroids were found\n",
    "\n",
    "    print(f\"Final centroids selected from iteration: {final_iteration}\")  # Indicate which iteration was chosen\n",
    "    return best_centroids, best_idx, centroids,idx  # Return the best centroids\n"
   ]
  },
  {
   "cell_type": "code",
   "execution_count": 13,
   "metadata": {},
   "outputs": [
    {
     "name": "stdout",
     "output_type": "stream",
     "text": [
      "K-Means iteration 0/49\n",
      "Cost function value: 352.61872556850676\n",
      "K-Means iteration 1/49\n",
      "Cost function value: 363.3459800807231\n",
      "K-Means iteration 2/49\n",
      "Cost function value: 363.3459800807231\n",
      "K-Means iteration 3/49\n",
      "Cost function value: 363.3459800807231\n",
      "K-Means iteration 4/49\n",
      "Cost function value: 363.3459800807231\n",
      "K-Means iteration 5/49\n",
      "Cost function value: 363.3459800807231\n",
      "K-Means iteration 6/49\n",
      "Cost function value: 363.3459800807231\n",
      "K-Means iteration 7/49\n",
      "Cost function value: 363.3459800807231\n",
      "K-Means iteration 8/49\n",
      "Cost function value: 363.3459800807231\n",
      "K-Means iteration 9/49\n",
      "Cost function value: 363.3459800807231\n",
      "K-Means iteration 10/49\n",
      "Cost function value: 363.3459800807231\n",
      "K-Means iteration 11/49\n",
      "Cost function value: 363.3459800807231\n",
      "K-Means iteration 12/49\n",
      "Cost function value: 363.3459800807231\n",
      "K-Means iteration 13/49\n",
      "Cost function value: 363.3459800807231\n",
      "K-Means iteration 14/49\n",
      "Cost function value: 363.3459800807231\n",
      "K-Means iteration 15/49\n",
      "Cost function value: 363.3459800807231\n",
      "K-Means iteration 16/49\n",
      "Cost function value: 363.3459800807231\n",
      "K-Means iteration 17/49\n",
      "Cost function value: 363.3459800807231\n",
      "K-Means iteration 18/49\n",
      "Cost function value: 363.3459800807231\n",
      "K-Means iteration 19/49\n",
      "Cost function value: 363.3459800807231\n",
      "K-Means iteration 20/49\n",
      "Cost function value: 363.3459800807231\n",
      "K-Means iteration 21/49\n",
      "Cost function value: 363.3459800807231\n",
      "K-Means iteration 22/49\n",
      "Cost function value: 363.3459800807231\n",
      "K-Means iteration 23/49\n",
      "Cost function value: 363.3459800807231\n",
      "K-Means iteration 24/49\n",
      "Cost function value: 363.3459800807231\n",
      "K-Means iteration 25/49\n",
      "Cost function value: 363.3459800807231\n",
      "K-Means iteration 26/49\n",
      "Cost function value: 363.3459800807231\n",
      "K-Means iteration 27/49\n",
      "Cost function value: 363.3459800807231\n",
      "K-Means iteration 28/49\n",
      "Cost function value: 363.3459800807231\n",
      "K-Means iteration 29/49\n",
      "Cost function value: 363.3459800807231\n",
      "K-Means iteration 30/49\n",
      "Cost function value: 363.3459800807231\n",
      "K-Means iteration 31/49\n",
      "Cost function value: 363.3459800807231\n",
      "K-Means iteration 32/49\n",
      "Cost function value: 363.3459800807231\n",
      "K-Means iteration 33/49\n",
      "Cost function value: 363.3459800807231\n",
      "K-Means iteration 34/49\n",
      "Cost function value: 363.3459800807231\n",
      "K-Means iteration 35/49\n",
      "Cost function value: 363.3459800807231\n",
      "K-Means iteration 36/49\n",
      "Cost function value: 363.3459800807231\n",
      "K-Means iteration 37/49\n",
      "Cost function value: 363.3459800807231\n",
      "K-Means iteration 38/49\n",
      "Cost function value: 363.3459800807231\n",
      "K-Means iteration 39/49\n",
      "Cost function value: 363.3459800807231\n",
      "K-Means iteration 40/49\n",
      "Cost function value: 363.3459800807231\n",
      "K-Means iteration 41/49\n",
      "Cost function value: 363.3459800807231\n",
      "K-Means iteration 42/49\n",
      "Cost function value: 363.3459800807231\n",
      "K-Means iteration 43/49\n",
      "Cost function value: 363.3459800807231\n",
      "K-Means iteration 44/49\n",
      "Cost function value: 363.3459800807231\n",
      "K-Means iteration 45/49\n",
      "Cost function value: 363.3459800807231\n",
      "K-Means iteration 46/49\n",
      "Cost function value: 363.3459800807231\n",
      "K-Means iteration 47/49\n",
      "Cost function value: 363.3459800807231\n",
      "K-Means iteration 48/49\n",
      "Cost function value: 363.3459800807231\n",
      "K-Means iteration 49/49\n",
      "Cost function value: 363.3459800807231\n",
      "Final centroids selected from iteration: 0\n",
      "Final centroids: [[0.02773194 0.03218997 0.03916575 ... 0.01438918 0.03552941 0.05779035]\n",
      " [0.11021745 0.06170331 0.00020586 ... 0.09186586 0.0422131  0.02608187]\n",
      " [0.00125832 0.00122353 0.03590972 ... 0.03852842 0.01303586 0.08366116]]\n"
     ]
    }
   ],
   "source": [
    "# Main function to run the K-Means algorithm\n",
    "\n",
    "K = 3                     # Set number of clusters\n",
    "initial_centroids = kMeans_init_centroids(feats_np_norm, K)  # Step 3: Initialize centroids\n",
    "max_iters = 50                # Step 4: Number of iterations\n",
    "best_centroids, best_idx, centroids, idx = run_kMeans(feats_np_norm, initial_centroids, max_iters)  # Step 5: Run K-Means\n",
    "print(\"Final centroids:\", centroids)  # Output the final centroids"
   ]
  },
  {
   "cell_type": "markdown",
   "metadata": {},
   "source": [
    "control_centroids"
   ]
  },
  {
   "cell_type": "code",
   "execution_count": 31,
   "metadata": {},
   "outputs": [
    {
     "name": "stdout",
     "output_type": "stream",
     "text": [
      "K-Means iteration 0/49\n",
      "Cost function value: 346.1270837241914\n",
      "K-Means iteration 1/49\n",
      "Cost function value: 344.9187855698698\n",
      "K-Means iteration 2/49\n",
      "Cost function value: 344.9187855698698\n",
      "K-Means iteration 3/49\n",
      "Cost function value: 344.9187855698698\n",
      "K-Means iteration 4/49\n",
      "Cost function value: 344.9187855698698\n",
      "K-Means iteration 5/49\n",
      "Cost function value: 344.9187855698698\n",
      "K-Means iteration 6/49\n",
      "Cost function value: 344.9187855698698\n",
      "K-Means iteration 7/49\n",
      "Cost function value: 344.9187855698698\n",
      "K-Means iteration 8/49\n",
      "Cost function value: 344.9187855698698\n",
      "K-Means iteration 9/49\n",
      "Cost function value: 344.9187855698698\n",
      "K-Means iteration 10/49\n",
      "Cost function value: 344.9187855698698\n",
      "K-Means iteration 11/49\n",
      "Cost function value: 344.9187855698698\n",
      "K-Means iteration 12/49\n",
      "Cost function value: 344.9187855698698\n",
      "K-Means iteration 13/49\n",
      "Cost function value: 344.9187855698698\n",
      "K-Means iteration 14/49\n",
      "Cost function value: 344.9187855698698\n",
      "K-Means iteration 15/49\n",
      "Cost function value: 344.9187855698698\n",
      "K-Means iteration 16/49\n",
      "Cost function value: 344.9187855698698\n",
      "K-Means iteration 17/49\n",
      "Cost function value: 344.9187855698698\n",
      "K-Means iteration 18/49\n",
      "Cost function value: 344.9187855698698\n",
      "K-Means iteration 19/49\n",
      "Cost function value: 344.9187855698698\n",
      "K-Means iteration 20/49\n",
      "Cost function value: 344.9187855698698\n",
      "K-Means iteration 21/49\n",
      "Cost function value: 344.9187855698698\n",
      "K-Means iteration 22/49\n",
      "Cost function value: 344.9187855698698\n",
      "K-Means iteration 23/49\n",
      "Cost function value: 344.9187855698698\n",
      "K-Means iteration 24/49\n",
      "Cost function value: 344.9187855698698\n",
      "K-Means iteration 25/49\n",
      "Cost function value: 344.9187855698698\n",
      "K-Means iteration 26/49\n",
      "Cost function value: 344.9187855698698\n",
      "K-Means iteration 27/49\n",
      "Cost function value: 344.9187855698698\n",
      "K-Means iteration 28/49\n",
      "Cost function value: 344.9187855698698\n",
      "K-Means iteration 29/49\n",
      "Cost function value: 344.9187855698698\n",
      "K-Means iteration 30/49\n",
      "Cost function value: 344.9187855698698\n",
      "K-Means iteration 31/49\n",
      "Cost function value: 344.9187855698698\n",
      "K-Means iteration 32/49\n",
      "Cost function value: 344.9187855698698\n",
      "K-Means iteration 33/49\n",
      "Cost function value: 344.9187855698698\n",
      "K-Means iteration 34/49\n",
      "Cost function value: 344.9187855698698\n",
      "K-Means iteration 35/49\n",
      "Cost function value: 344.9187855698698\n",
      "K-Means iteration 36/49\n",
      "Cost function value: 344.9187855698698\n",
      "K-Means iteration 37/49\n",
      "Cost function value: 344.9187855698698\n",
      "K-Means iteration 38/49\n",
      "Cost function value: 344.9187855698698\n",
      "K-Means iteration 39/49\n",
      "Cost function value: 344.9187855698698\n",
      "K-Means iteration 40/49\n",
      "Cost function value: 344.9187855698698\n",
      "K-Means iteration 41/49\n",
      "Cost function value: 344.9187855698698\n",
      "K-Means iteration 42/49\n",
      "Cost function value: 344.9187855698698\n",
      "K-Means iteration 43/49\n",
      "Cost function value: 344.9187855698698\n",
      "K-Means iteration 44/49\n",
      "Cost function value: 344.9187855698698\n",
      "K-Means iteration 45/49\n",
      "Cost function value: 344.9187855698698\n",
      "K-Means iteration 46/49\n",
      "Cost function value: 344.9187855698698\n",
      "K-Means iteration 47/49\n",
      "Cost function value: 344.9187855698698\n",
      "K-Means iteration 48/49\n",
      "Cost function value: 344.9187855698698\n",
      "K-Means iteration 49/49\n",
      "Cost function value: 344.9187855698698\n",
      "Final centroids selected from iteration: 1\n",
      "Final centroids: [[0.06353062 0.01096427 0.02523446 ... 0.04830529 0.01113893 0.00973984]\n",
      " [0.01530024 0.0334915  0.00194385 ... 0.06465529 0.0433224  0.0243221 ]\n",
      " [0.04137508 0.07999697 0.03531468 ... 0.05744682 0.05869783 0.0036462 ]]\n"
     ]
    }
   ],
   "source": [
    "# Main function to run the K-Means algorithm\n",
    "\n",
    "K = 3                     # Set number of clusters\n",
    "initial_centroids = kMeans_init_centroids(feats_np_norm, K)  # Step 3: Initialize centroids\n",
    "max_iters = 50                # Step 4: Number of iterations\n",
    "best_centroids, best_idx, centroids, idx = run_kMeans(feats_np_norm, initial_centroids, max_iters)  # Step 5: Run K-Means\n",
    "print(\"Final centroids:\", centroids)  # Output the final centroids"
   ]
  },
  {
   "cell_type": "markdown",
   "metadata": {},
   "source": [
    "centroids[0]"
   ]
  },
  {
   "cell_type": "markdown",
   "metadata": {},
   "source": [
    "centroids[1]"
   ]
  },
  {
   "cell_type": "markdown",
   "metadata": {},
   "source": [
    "three_class_cosine_centroid = centroids[2]"
   ]
  },
  {
   "cell_type": "markdown",
   "metadata": {},
   "source": [
    "control_centroids"
   ]
  },
  {
   "cell_type": "markdown",
   "metadata": {},
   "source": [
    "# Main function to run the K-Means algorithm\n",
    "\n",
    "K = 2                     # Set number of clusters\n",
    "initial_centroids = kMeans_init_centroids(feats_np_norm, K)  # Step 3: Initialize centroids\n",
    "max_iters = 50                # Step 4: Number of iterations\n",
    "best_centroids, best_idx, centroids, idx = run_kMeans(feats_np_norm, initial_centroids, max_iters)  # Step 5: Run K-Means\n",
    "print(\"Final centroids:\", centroids)  # Output the final centroids"
   ]
  },
  {
   "cell_type": "markdown",
   "metadata": {},
   "source": [
    "centroids[0]"
   ]
  },
  {
   "cell_type": "markdown",
   "metadata": {},
   "source": [
    "centroids[1]"
   ]
  },
  {
   "cell_type": "markdown",
   "metadata": {},
   "source": [
    "centroids[1]"
   ]
  },
  {
   "cell_type": "markdown",
   "metadata": {},
   "source": [
    "centroids[1].shape"
   ]
  },
  {
   "cell_type": "markdown",
   "metadata": {},
   "source": [
    "centroids[1].dtype"
   ]
  },
  {
   "cell_type": "markdown",
   "metadata": {},
   "source": [
    "# Calculate the L2 norm of the centroid\n",
    "norm = np.linalg.norm(centroids[1])\n",
    "\n",
    "# Check if the norm is close to 1\n",
    "if np.isclose(norm, 1.0, atol=1e-6):\n",
    "    print(\"The centroid is already normalized.\")\n",
    "else:\n",
    "    print(f\"The centroid is not normalized. Norm: {norm}\")"
   ]
  },
  {
   "cell_type": "code",
   "execution_count": null,
   "metadata": {},
   "outputs": [],
   "source": [
    "import torch\n",
    "\n",
    "# Convert the centroid to a PyTorch tensor\n",
    "three_class_cosine_centroid = torch.tensor(three_class_cosine_centroid)\n",
    "\n",
    "# Define the specific path\n",
    "save_path_torch = r\"C:\\Users\\k54739\\Bibi_new_thesis\\thesis\\Source_Code\\Ranking(prediction)_model\\kmeans_ranking\\cosine\\three_class_cosine_centroid.pt\"\n",
    "\n",
    "# Save the centroid tensor\n",
    "torch.save(three_class_cosine_centroid, save_path_torch)\n",
    "print(f\"Centroid saved to {save_path_torch}\")\n"
   ]
  },
  {
   "cell_type": "code",
   "execution_count": 14,
   "metadata": {},
   "outputs": [
    {
     "name": "stdout",
     "output_type": "stream",
     "text": [
      "Cluster assignments: [1 1 0 2 2 0 0 0 2 2 1 2 2 1 2 0 2 0 1 2 2 0 2 0 2 2 2 2 0 0 0 2 2 1 2 2 0\n",
      " 0 0 2 0 0 0 2 2 0 2 1 0 2 2 2 1 0 1 2 0 0 0 0 0 0 1 2 2 1 2 2 2 2 0 2 2 1\n",
      " 0 0 0 0 0 2 2 0 0 0 0 2 2 2 2 2 1 0 2 0 0 0 2 0 0 0 2 2 2 0 2 2 2 2 2 0 0\n",
      " 1 0 2 0 1 2 0 0 0 2 0 0 2 2 0 2 0 0 2 2 1 1 0 0 0 2 2 0 2 0 2 2 2 2 0 0 2\n",
      " 0 2 2 2 0 0 2 0 0 2 0 2 0 0 2 2 0 0 0 2 0 0 2 0 2 2 2 2 2 0 2 0 0 0 2 0 2\n",
      " 0 2 0 1 2 2 2 1 2 2 0 0 1 2 2 2 2 2 2 2 0 2 1 1 1 0 2 0 0 2 2 0 1 1 0 2 2\n",
      " 2 2 1 0 2 0 0 2 0 0 2 2 2 2 1 0 1 2 0 2 2 2 0 2 2 0 1 0 0 0]\n",
      "True labels: [2 2 1 0 0 1 1 1 0 0 2 0 0 2 0 1 0 1 2 0 0 1 0 1 0 0 0 0 1 1 1 0 0 2 0 0 1\n",
      " 1 1 0 1 1 1 0 0 1 0 2 1 0 0 0 2 1 2 0 1 1 1 1 1 1 2 0 0 2 0 0 0 0 1 0 0 2\n",
      " 1 1 1 1 1 0 0 1 1 1 1 0 0 0 0 0 2 1 0 1 1 1 0 1 1 1 0 0 0 1 0 0 0 0 0 1 1\n",
      " 2 1 0 1 2 0 1 1 1 0 1 1 0 0 1 0 1 1 0 0 2 2 1 1 1 0 0 1 0 1 0 0 0 0 1 1 0\n",
      " 1 0 0 0 1 1 0 1 1 0 1 0 1 1 0 0 1 1 1 0 1 0 0 1 0 0 0 0 0 1 0 1 1 1 0 1 0\n",
      " 1 0 1 2 0 0 0 2 0 0 1 1 2 0 0 0 0 0 0 0 1 0 2 2 2 1 0 1 1 0 0 1 2 2 1 0 0\n",
      " 0 0 2 1 0 1 1 0 1 1 0 0 0 0 2 1 2 0 1 0 0 0 1 0 0 1 2 1 1 1]\n"
     ]
    }
   ],
   "source": [
    "print(\"Cluster assignments:\", idx)\n",
    "print(\"True labels:\", labels_np)"
   ]
  },
  {
   "cell_type": "code",
   "execution_count": 15,
   "metadata": {},
   "outputs": [
    {
     "name": "stdout",
     "output_type": "stream",
     "text": [
      "Cluster assignments: [2 1 0 2 2 0 0 0 2 2 1 2 2 1 2 0 2 0 1 2 2 0 2 0 2 2 2 2 0 0 0 2 2 1 2 2 0\n",
      " 0 0 2 0 0 0 2 2 0 2 0 0 2 2 2 1 0 1 2 0 0 0 0 0 0 1 2 1 1 2 2 2 2 0 2 2 1\n",
      " 0 0 0 0 0 2 2 0 0 0 0 2 2 2 2 2 1 0 2 0 0 0 2 0 0 0 2 2 2 0 2 2 2 1 2 0 0\n",
      " 1 0 2 0 1 2 0 0 0 2 0 0 2 2 0 0 0 0 2 2 1 1 0 0 0 2 2 0 2 0 2 2 2 2 0 0 2\n",
      " 0 2 2 2 0 0 2 0 0 2 0 1 0 0 0 2 0 0 0 2 0 0 2 0 2 2 2 2 1 0 2 0 0 0 2 0 0\n",
      " 0 2 0 1 2 2 2 1 2 2 0 0 1 2 2 2 2 2 2 2 0 2 1 1 1 0 2 0 0 2 2 0 1 1 2 2 2\n",
      " 2 2 1 0 2 0 0 2 0 0 2 2 2 2 0 0 1 2 0 2 2 2 0 2 1 0 1 0 0 0]\n",
      "True labels: [2 2 1 0 0 1 1 1 0 0 2 0 0 2 0 1 0 1 2 0 0 1 0 1 0 0 0 0 1 1 1 0 0 2 0 0 1\n",
      " 1 1 0 1 1 1 0 0 1 0 2 1 0 0 0 2 1 2 0 1 1 1 1 1 1 2 0 0 2 0 0 0 0 1 0 0 2\n",
      " 1 1 1 1 1 0 0 1 1 1 1 0 0 0 0 0 2 1 0 1 1 1 0 1 1 1 0 0 0 1 0 0 0 0 0 1 1\n",
      " 2 1 0 1 2 0 1 1 1 0 1 1 0 0 1 0 1 1 0 0 2 2 1 1 1 0 0 1 0 1 0 0 0 0 1 1 0\n",
      " 1 0 0 0 1 1 0 1 1 0 1 0 1 1 0 0 1 1 1 0 1 0 0 1 0 0 0 0 0 1 0 1 1 1 0 1 0\n",
      " 1 0 1 2 0 0 0 2 0 0 1 1 2 0 0 0 0 0 0 0 1 0 2 2 2 1 0 1 1 0 0 1 2 2 1 0 0\n",
      " 0 0 2 1 0 1 1 0 1 1 0 0 0 0 2 1 2 0 1 0 0 0 1 0 0 1 2 1 1 1]\n"
     ]
    }
   ],
   "source": [
    "print(\"Cluster assignments:\", best_idx)\n",
    "print(\"True labels:\", labels_np)"
   ]
  },
  {
   "cell_type": "markdown",
   "metadata": {},
   "source": [
    "after_resize_cosine_centroid = centroids[1]\n",
    "after_resize_cosine_centroid"
   ]
  },
  {
   "cell_type": "markdown",
   "metadata": {},
   "source": [
    "# Convert the centroid to a PyTorch tensor\n",
    "threeclass_after_resize_cosine_centroid = torch.tensor(after_resize_cosine_centroid)\n",
    "\n",
    "# Define the specific path\n",
    "save_path_torch = r\"C:\\Users\\k54739\\Bibi_new_thesis\\thesis\\Source_Code\\Ranking(prediction)_model\\kmeans_ranking\\cosine\\threeclass_after_resize_cosine_centroid.pt\"\n",
    "\n",
    "# Save the centroid tensor\n",
    "torch.save(threeclass_after_resize_cosine_centroid, save_path_torch)\n",
    "print(f\"Centroid saved to {save_path_torch}\")"
   ]
  },
  {
   "cell_type": "markdown",
   "metadata": {},
   "source": [
    "centroids[2]"
   ]
  },
  {
   "cell_type": "markdown",
   "metadata": {},
   "source": [
    "control_centroids"
   ]
  },
  {
   "cell_type": "code",
   "execution_count": 17,
   "metadata": {},
   "outputs": [
    {
     "name": "stdout",
     "output_type": "stream",
     "text": [
      "Cluster 0 has true labels: Counter({1: 103, 0: 1})\n",
      "Cluster 1 has true labels: Counter({2: 29})\n",
      "Cluster 2 has true labels: Counter({0: 119})\n"
     ]
    }
   ],
   "source": [
    "from collections import Counter\n",
    "import numpy as np\n",
    "\n",
    "# Assuming `idx` contains the cluster assignments from KMeans\n",
    "# and `labels` contains the true labels\n",
    "\n",
    "K = len(np.unique(idx))  # Number of clusters\n",
    "\n",
    "# Iterate over each cluster and count the true labels in that cluster\n",
    "for cluster in range(K):\n",
    "    # Find the indices of images assigned to the current cluster\n",
    "    cluster_indices = np.where(idx == cluster)[0]\n",
    "    \n",
    "    # Get the true labels for the images in this cluster\n",
    "    cluster_labels = labels_np[cluster_indices]\n",
    "    \n",
    "    # Use Counter to count occurrences of each label in the cluster\n",
    "    label_counts = Counter(cluster_labels)\n",
    "    \n",
    "    # Print the result\n",
    "    print(f\"Cluster {cluster} has true labels: {label_counts}\")\n"
   ]
  },
  {
   "cell_type": "markdown",
   "metadata": {},
   "source": [
    "centroids[0]"
   ]
  },
  {
   "cell_type": "markdown",
   "metadata": {},
   "source": [
    "before_3class_resize_cosine_centroid = centroids[1]\n",
    "type(before_3class_resize_cosine_centroid)\n",
    "before_3class_resize_cosine_centroid_tensor = torch.from_numpy(before_3class_resize_cosine_centroid)"
   ]
  },
  {
   "cell_type": "markdown",
   "metadata": {},
   "source": [
    "save_path = r\"C:\\Users\\k54739\\Bibi_new_thesis\\thesis\\Source_Code\\Ranking(prediction)_model\\kmeans_ranking\\cosine\\before_3class_resize_cosine_centroid_tensor.pt\"  # Specify your save path\n",
    "\n",
    "# Save the tensor\n",
    "torch.save(before_3class_resize_cosine_centroid_tensor, save_path)\n",
    "print(f\"Tensor saved to {save_path}\")"
   ]
  },
  {
   "cell_type": "markdown",
   "metadata": {},
   "source": [
    "centroids[2]"
   ]
  },
  {
   "cell_type": "markdown",
   "metadata": {},
   "source": [
    "control_centroids"
   ]
  },
  {
   "cell_type": "code",
   "execution_count": 18,
   "metadata": {},
   "outputs": [
    {
     "name": "stdout",
     "output_type": "stream",
     "text": [
      "Cluster 0 has true labels: Counter({1: 102, 0: 4, 2: 2})\n",
      "Cluster 1 has true labels: Counter({2: 26, 0: 5})\n",
      "Cluster 2 has true labels: Counter({0: 111, 2: 1, 1: 1})\n"
     ]
    }
   ],
   "source": [
    "K = len(np.unique(best_idx))  # Number of clusters\n",
    "\n",
    "# Iterate over each cluster and count the true labels in that cluster\n",
    "for cluster in range(K):\n",
    "    # Find the indices of images assigned to the current cluster\n",
    "    cluster_indices = np.where(best_idx == cluster)[0]\n",
    "    \n",
    "    # Get the true labels for the images in this cluster\n",
    "    cluster_labels = labels_np[cluster_indices]\n",
    "    \n",
    "    # Use Counter to count occurrences of each label in the cluster\n",
    "    label_counts = Counter(cluster_labels)\n",
    "    \n",
    "    # Print the result\n",
    "    print(f\"Cluster {cluster} has true labels: {label_counts}\")"
   ]
  },
  {
   "cell_type": "code",
   "execution_count": 19,
   "metadata": {},
   "outputs": [],
   "source": [
    "from scipy.stats import mode\n",
    "import numpy as np\n",
    "\n",
    "# Function to reorder K-Means labels to match true labels\n",
    "def reorder_labels(true_labels, predicted_labels):\n",
    "    reordered_labels = np.zeros_like(predicted_labels)\n",
    "\n",
    "    for cluster in np.unique(predicted_labels):\n",
    "        mask = (predicted_labels == cluster)\n",
    "        # Use mode and handle cases where mode() returns a scalar\n",
    "        most_common_label = mode(true_labels[mask], axis=None).mode  # Get the mode for the current cluster\n",
    "        if isinstance(most_common_label, np.ndarray):\n",
    "            most_common_label = most_common_label[0]  # Safely extract the mode value if it's an array\n",
    "        \n",
    "        reordered_labels[mask] = most_common_label\n",
    "\n",
    "    return reordered_labels\n",
    "\n",
    "\n"
   ]
  },
  {
   "cell_type": "code",
   "execution_count": 20,
   "metadata": {},
   "outputs": [
    {
     "name": "stdout",
     "output_type": "stream",
     "text": [
      "Accuracy: 99.60%\n"
     ]
    }
   ],
   "source": [
    "# Apply this after running K-Means\n",
    "reordered_idx = reorder_labels(labels_np, idx)\n",
    "\n",
    "# Now you can compare `reordered_idx` with `labels` to evaluate accuracy\n",
    "accuracy = np.sum(reordered_idx == labels_np) / len(labels_np) * 100\n",
    "print(f\"Accuracy: {accuracy:.2f}%\")"
   ]
  },
  {
   "cell_type": "code",
   "execution_count": 21,
   "metadata": {},
   "outputs": [
    {
     "name": "stdout",
     "output_type": "stream",
     "text": [
      "Accuracy: 94.84%\n"
     ]
    }
   ],
   "source": [
    "# Apply this after running K-Means\n",
    "reordered_idx = reorder_labels(labels_np, best_idx)\n",
    "\n",
    "# Now you can compare `reordered_idx` with `labels` to evaluate accuracy\n",
    "accuracy = np.sum(reordered_idx == labels_np) / len(labels_np) * 100\n",
    "print(f\"Accuracy: {accuracy:.2f}%\")"
   ]
  },
  {
   "cell_type": "markdown",
   "metadata": {},
   "source": [
    "iteration 1: 90%\n",
    "\n",
    "iteration 2: 96.67%\n",
    "\n",
    "iteration 3: 95%"
   ]
  },
  {
   "cell_type": "code",
   "execution_count": 21,
   "metadata": {},
   "outputs": [],
   "source": [
    "import matplotlib.pyplot as plt\n",
    "from sklearn.decomposition import PCA"
   ]
  },
  {
   "cell_type": "code",
   "execution_count": 22,
   "metadata": {},
   "outputs": [],
   "source": [
    "# Function to reduce the dimensionality of data points and centroids to 2D using PCA\n",
    "def reduce_to_2D_pca(X, centroids):\n",
    "    # Initialize PCA with 2 components\n",
    "    pca = PCA(n_components=2)\n",
    "    \n",
    "    # Apply PCA to the data points (X) and centroids\n",
    "    X_2D = pca.fit_transform(X)  # Reducing original data points\n",
    "    centroids_2D = pca.transform(centroids)  # Reducing centroids\n",
    "\n",
    "    return X_2D, centroids_2D\n",
    "\n",
    "# Function to plot 2D visualization of clustered data points and centroids with true labels\n",
    "def plot_2D_clusters_with_labels(X_2D, centroids_2D, idx, labels, K):\n",
    "    plt.figure(figsize=(10, 7))\n",
    "    \n",
    "    # Define color map for clusters\n",
    "    colors = plt.cm.rainbow(np.linspace(0, 1, K))\n",
    "    \n",
    "    # Plot data points colored by their cluster assignment\n",
    "    for k in range(K):\n",
    "        cluster_points = X_2D[idx == k]\n",
    "        cluster_labels = labels[idx == k]  # Get true labels for the current cluster\n",
    "        \n",
    "        # Scatter plot for each cluster\n",
    "        plt.scatter(cluster_points[:, 0], cluster_points[:, 1], \n",
    "                    c=[colors[k]], label=f\"Cluster {k+1}\", alpha=0.6)\n",
    "        \n",
    "        # Annotate each point with its true label\n",
    "        for i in range(cluster_points.shape[0]):\n",
    "            plt.annotate(str(cluster_labels[i]), \n",
    "                         (cluster_points[i, 0], cluster_points[i, 1]), \n",
    "                         fontsize=8, alpha=0.75)\n",
    "\n",
    "    # Plot centroids as larger markers\n",
    "    plt.scatter(centroids_2D[:, 0], centroids_2D[:, 1], \n",
    "                c='k', marker='x', s=200, label='Centroids')\n",
    "\n",
    "    plt.title(\"2D Visualization of Clusters using PCA with True Labels\")\n",
    "    plt.xlabel(\"Component 1\")\n",
    "    plt.ylabel(\"Component 2\")\n",
    "    plt.legend()\n",
    "    plt.grid()\n",
    "    plt.show()\n"
   ]
  },
  {
   "cell_type": "code",
   "execution_count": 23,
   "metadata": {},
   "outputs": [
    {
     "data": {
      "image/png": "[encoded data removed]",
      "text/plain": [
       "<Figure size 1000x700 with 1 Axes>"
      ]
     },
     "metadata": {},
     "output_type": "display_data"
    }
   ],
   "source": [
    "# Apply PCA after K-Means clustering for 2D visualization\n",
    "X_2D_pca, centroids_2D_pca = reduce_to_2D_pca(feats_np_norm, centroids)\n",
    "\n",
    "# Plot the 2D clusters with centroids and true labels\n",
    "plot_2D_clusters_with_labels(X_2D_pca, centroids_2D_pca, idx, labels_np, K)\n"
   ]
  },
  {
   "cell_type": "code",
   "execution_count": 24,
   "metadata": {},
   "outputs": [
    {
     "data": {
      "image/png": "[encoded data removed]",
      "text/plain": [
       "<Figure size 1000x700 with 1 Axes>"
      ]
     },
     "metadata": {},
     "output_type": "display_data"
    }
   ],
   "source": [
    "# Apply PCA after K-Means clustering for 2D visualization\n",
    "X_2D_pca, centroids_2D_pca = reduce_to_2D_pca(feats_np_norm, best_centroids)\n",
    "\n",
    "# Plot the 2D clusters with centroids and true labels\n",
    "plot_2D_clusters_with_labels(X_2D_pca, centroids_2D_pca, best_idx, labels_np, K)\n"
   ]
  },
  {
   "cell_type": "code",
   "execution_count": 26,
   "metadata": {},
   "outputs": [
    {
     "name": "stdout",
     "output_type": "stream",
     "text": [
      "95.83333333333334\n"
     ]
    }
   ],
   "source": [
    "total_data_points = 30+30+12\n",
    "wrong = 3 \n",
    "predicted_corrected = total_data_points - wrong\n",
    "accuracy = (predicted_corrected/total_data_points)*100\n",
    "print(accuracy)"
   ]
  }
 ],
 "metadata": {
  "kernelspec": {
   "display_name": "master",
   "language": "python",
   "name": "python3"
  },
  "language_info": {
   "codemirror_mode": {
    "name": "ipython",
    "version": 3
   },
   "file_extension": ".py",
   "mimetype": "text/x-python",
   "name": "python",
   "nbconvert_exporter": "python",
   "pygments_lexer": "ipython3",
   "version": "3.12.4"
  }
 },
 "nbformat": 4,
 "nbformat_minor": 2
}
