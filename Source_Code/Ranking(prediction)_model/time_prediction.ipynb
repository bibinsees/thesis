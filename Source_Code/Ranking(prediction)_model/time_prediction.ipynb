{
 "cells": [
  {
   "cell_type": "code",
   "execution_count": 4,
   "metadata": {},
   "outputs": [],
   "source": [
    "import torch\n",
    "import torch.nn as nn\n",
    "import torch.optim as optim\n",
    "from torch.utils.data import DataLoader\n",
    "from torchvision import datasets, transforms\n",
    "import matplotlib.pyplot as plt\n",
    "import numpy as np\n",
    "import random\n",
    "from torch.utils.data import Dataset, DataLoader, random_split\n",
    "\n",
    "\n",
    "\n",
    "import torch.nn.functional as F\n",
    "from torchvision.transforms import functional as Func\n",
    "\n",
    "import tifffile as tiff\n",
    "import os\n",
    "import time\n",
    "\n",
    "from torchvision.transforms import RandomResizedCrop\n"
   ]
  },
  {
   "cell_type": "markdown",
   "metadata": {},
   "source": [
    "Huge change from previous implementations since we are using target day10 images,we need to give same transform to day10 image as same as day7. hence we removed transform.compose instead we used from torchvision.transforms import functional as Func"
   ]
  },
  {
   "cell_type": "code",
   "execution_count": 5,
   "metadata": {},
   "outputs": [],
   "source": [
    "class ImageDataset(Dataset):\n",
    "    def __init__(self, day7_dir, day10_dir): \n",
    "        self.day7_files = {os.path.basename(file): os.path.join(day7_dir, file) for file in os.listdir(day7_dir) if file.endswith('.tiff')}\n",
    "        self.day10_files = {os.path.basename(file): os.path.join(day10_dir, file) for file in os.listdir(day10_dir) if file.endswith('.tiff')}\n",
    "      \n",
    "\n",
    "        # Ensure all day7 files have a corresponding day10 file\n",
    "        self.common_files = list(self.day7_files.keys())\n",
    "        assert set(self.common_files) <= set(self.day10_files.keys()), \"Mismatch between day7 and day10 filenames.\"\n",
    "\n",
    "    def __len__(self):\n",
    "        return len(self.common_files)\n",
    "\n",
    "    def __getitem__(self, idx):\n",
    "        filename = self.common_files[idx]\n",
    "        day7_img_path = self.day7_files[filename]\n",
    "        day10_img_path = self.day10_files[filename]\n",
    "\n",
    "        # Load the images\n",
    "        day7_img = tiff.imread(day7_img_path)\n",
    "        day10_img = tiff.imread(day10_img_path)\n",
    "\n",
    "         # Ensure the images have 3 layers (channels)\n",
    "        if day7_img.shape[0] != 3:\n",
    "            raise ValueError(f\"Day7 image at {day7_img_path} does not have exactly 3 layers. Found shape: {day7_img.shape}.\")\n",
    "        if day10_img.shape[0] != 3:\n",
    "            raise ValueError(f\"Day10 image at {day10_img_path} does not have exactly 3 layers. Found shape: {day10_img.shape}.\")\n",
    "        \n",
    "        # Normalize and convert both images\n",
    "        day7_img = day7_img.astype(np.float32) / 65535.0\n",
    "        day10_img = day10_img.astype(np.float32) / 65535.0\n",
    "\n",
    "        # Convert to tensors\n",
    "        day7_img = torch.tensor(day7_img, dtype=torch.float32)\n",
    "        day10_img = torch.tensor(day10_img, dtype=torch.float32)\n",
    "\n",
    "        # Apply transforms \n",
    "\n",
    "        # RandomHorizontalFlip\n",
    "        if torch.rand(1) < 0.5:\n",
    "            day7_img = Func.hflip(day7_img)\n",
    "            day10_img = Func.hflip(day10_img)\n",
    "        # RandomVerticalFlip\n",
    "        if torch.rand(1) < 0.5:\n",
    "            day7_img = Func.vflip(day7_img)\n",
    "            day10_img = Func.vflip(day10_img)\n",
    "\n",
    "        # RandomRotation\n",
    "        angle = torch.randint(-10, 10, (1,)).item()  # Generate a random angle\n",
    "        day7_img = Func.rotate(day7_img, angle)\n",
    "        day10_img = Func.rotate(day10_img, angle)\n",
    "\n",
    "        # RandomResizedCrop\n",
    "        crop_transform = RandomResizedCrop(size=256)\n",
    "        i, j, h, w = crop_transform.get_params(day7_img, scale=(0.08, 1.0), ratio=(3 / 4, 4 / 3))\n",
    "        day7_img = Func.resized_crop(day7_img, i, j, h, w, size=(256, 256))\n",
    "        day10_img = Func.resized_crop(day10_img, i, j, h, w, size=(256, 256))\n",
    "\n",
    "        return day7_img, day10_img\n",
    "    \n",
    "# Specify paths for both day7 and day10 folders\n",
    "day7_dir = r'C:\\Users\\k54739\\Bibi_new_thesis\\thesis\\control_day7_day10\\day7'\n",
    "day10_dir = r'C:\\Users\\k54739\\Bibi_new_thesis\\thesis\\control_day7_day10\\day10'\n",
    "\n",
    "# Create the dataset\n",
    "dataset = ImageDataset(day7_dir=day7_dir, day10_dir=day10_dir)"
   ]
  },
  {
   "cell_type": "code",
   "execution_count": 6,
   "metadata": {},
   "outputs": [
    {
     "name": "stdout",
     "output_type": "stream",
     "text": [
      "Day 7 Image Shape: torch.Size([3, 256, 256]), Day 10 Image Shape: torch.Size([3, 256, 256])\n",
      "Day 7 Image Shape: torch.Size([3, 256, 256]), Day 10 Image Shape: torch.Size([3, 256, 256])\n"
     ]
    }
   ],
   "source": [
    "for i, (day7_img, day10_img) in enumerate(dataset):\n",
    "    print(f\"Day 7 Image Shape: {day7_img.shape}, Day 10 Image Shape: {day10_img.shape}\")\n",
    "    if i == 1:  # Check just a couple of samples\n",
    "        break\n"
   ]
  },
  {
   "cell_type": "code",
   "execution_count": 7,
   "metadata": {},
   "outputs": [],
   "source": [
    "# Function to split dataset with explicit percentage\n",
    "def split_dataset(dataset, val_percentage):\n",
    "    val_size = int(len(dataset) * val_percentage)\n",
    "    train_size = len(dataset) - val_size\n",
    "    return random_split(dataset, [train_size, val_size])\n",
    "\n",
    "# Split the dataset with 20% for validation\n",
    "val_percentage = 0.2\n",
    "train_dataset, val_dataset = split_dataset(dataset, val_percentage)\n",
    "\n",
    "batch_size = 16\n",
    "# Define DataLoaders\n",
    "train_loader = DataLoader(train_dataset, batch_size=batch_size, shuffle=True, drop_last=False, pin_memory=True, num_workers=0) #num_workers=os.cpu count() using cluster gpu\n",
    "val_loader = DataLoader(val_dataset, batch_size=batch_size, shuffle=False, drop_last=False, pin_memory=True, num_workers=0)"
   ]
  },
  {
   "cell_type": "code",
   "execution_count": 8,
   "metadata": {},
   "outputs": [
    {
     "name": "stdout",
     "output_type": "stream",
     "text": [
      "Total number of images: 104\n"
     ]
    }
   ],
   "source": [
    "# Calculate the total number of images in the training dataset\n",
    "total_images_in_train = len(train_loader.dataset)\n",
    "print(f\"Total number of images: {total_images_in_train}\")"
   ]
  },
  {
   "cell_type": "code",
   "execution_count": 9,
   "metadata": {},
   "outputs": [
    {
     "name": "stdout",
     "output_type": "stream",
     "text": [
      "Total number of images: 26\n"
     ]
    }
   ],
   "source": [
    "# Calculate the total number of images in the training dataset\n",
    "total_images_in_val = len(val_loader.dataset)\n",
    "print(f\"Total number of images: {total_images_in_val}\")"
   ]
  },
  {
   "cell_type": "code",
   "execution_count": 10,
   "metadata": {},
   "outputs": [
    {
     "name": "stdout",
     "output_type": "stream",
     "text": [
      "Batch 0:\n",
      "  Input image (day7): torch.Size([16, 3, 256, 256])\n",
      "  Target image (day10): torch.Size([16, 3, 256, 256])\n"
     ]
    }
   ],
   "source": [
    "# Print the shape of both pairs and total number of images in one epoch\n",
    "for i, (input_image, target_image) in enumerate(train_loader):\n",
    "    print(f\"Batch {i}:\")\n",
    "    print(f\"  Input image (day7): {input_image.shape}\")\n",
    "    print(f\"  Target image (day10): {target_image.shape}\")\n",
    "    break"
   ]
  },
  {
   "cell_type": "code",
   "execution_count": 11,
   "metadata": {},
   "outputs": [],
   "source": [
    "class Autoencod_fituning(nn.Module):\n",
    "    def __init__(self):\n",
    "        super(Autoencod_fituning, self).__init__()\n",
    "        \n",
    "        # Encoder\n",
    "        self.encoder = nn.Sequential(\n",
    "            nn.Conv2d(3, 16, kernel_size=3, padding='same'),  # Input: (3, 96, 96) Output: (64, 96, 96)\n",
    "            nn.ReLU(),\n",
    "            nn.MaxPool2d(2, stride=2, padding=1),        # Output: (64, 48, 48)\n",
    "            \n",
    "            nn.Conv2d(16, 32, kernel_size=3, padding='same'), # Output: (32, 48, 48)\n",
    "            nn.ReLU(),\n",
    "            nn.MaxPool2d(2, stride=2, padding=1),        # Output: (32, 24, 24)\n",
    "            \n",
    "            nn.Conv2d(32, 64, kernel_size=3, padding='same'), # Output: (16, 24, 24)\n",
    "            nn.ReLU(),\n",
    "            nn.MaxPool2d(2, stride=2, padding=0)         # Output: (16, 12, 12)\n",
    "        )\n",
    "\n",
    "        # Decoder\n",
    "        self.decoder = nn.Sequential(\n",
    "            nn.Conv2d(64, 32, kernel_size=3, padding='same'), # Output: (32, 12, 12)\n",
    "            nn.ReLU(),\n",
    "            nn.Upsample(scale_factor=2, mode='nearest'),      # Output: (32, 24, 24)\n",
    "    \n",
    "            nn.Conv2d(32, 16, kernel_size=3, padding='same'), # Output: (16, 24, 24)\n",
    "            nn.ReLU(),\n",
    "            nn.Upsample(scale_factor=2, mode='nearest'),      # Output: (16, 48, 48)\n",
    "    \n",
    "            nn.Conv2d(16, 3, kernel_size=3, padding='same'),  # Output: (3, 48, 48)\n",
    "            nn.Upsample(scale_factor=2, mode='nearest'),      # Output: (3, 96, 96)\n",
    "            nn.Sigmoid()                                      # Ensures output values are in [0, 1] range\n",
    "        )\n",
    "        \n",
    "    def forward(self, x):\n",
    "        #print(\"Input:\", x.shape)\n",
    "        \n",
    "        # Encoder\n",
    "        for layer in self.encoder:\n",
    "            x = layer(x)\n",
    "            #print(f\"After {layer}: {x.shape}\")\n",
    "        \n",
    "        # Decoder\n",
    "        for layer in self.decoder:\n",
    "            x = layer(x)\n",
    "            #print(f\"After {layer}: {x.shape}\")\n",
    "        \n",
    "        return x\n"
   ]
  },
  {
   "cell_type": "code",
   "execution_count": 12,
   "metadata": {},
   "outputs": [],
   "source": [
    "modi = Autoencod_fituning()\n",
    "criterion = nn.MSELoss()\n",
    "optimizer = optim.Adam(modi.parameters(), lr=0.001)"
   ]
  },
  {
   "cell_type": "code",
   "execution_count": 13,
   "metadata": {},
   "outputs": [],
   "source": [
    "def train_and_validate(modi, train_loader, val_loader, optimizer, criterion, num_epochs=1):\n",
    "    train_losses = []\n",
    "    val_losses = []\n",
    "\n",
    "    for epoch in range(num_epochs):\n",
    "        start_time = time.time()  # Start time for the epoch\n",
    "        \n",
    "        # Training phase\n",
    "        modi.train()\n",
    "        train_loss = 0\n",
    "        for input_images, target_images in train_loader:\n",
    "            optimizer.zero_grad()\n",
    "            outputs = modi(input_images)\n",
    "            loss = criterion(outputs, target_images)\n",
    "            loss.backward()\n",
    "            optimizer.step()\n",
    "            train_loss += loss.item()\n",
    "\n",
    "        train_loss /= len(train_loader)\n",
    "        train_losses.append(train_loss)\n",
    "\n",
    "        # Validation phase\n",
    "        modi.eval()\n",
    "        val_loss = 0\n",
    "        with torch.no_grad():\n",
    "            for input_images, target_images in val_loader:\n",
    "                outputs = modi(input_images)\n",
    "                loss = criterion(outputs, target_images)\n",
    "                val_loss += loss.item()\n",
    "        val_loss /= len(val_loader)\n",
    "        val_losses.append(val_loss)\n",
    "\n",
    "        end_time = time.time()  # End time for the epoch\n",
    "        epoch_time = end_time - start_time  # Calculate epoch duration\n",
    "\n",
    "        print(f'Epoch [{epoch+1}/{num_epochs}], Train Loss: {train_loss:.4f}, Validation Loss: {val_loss:.4f}, Time: {epoch_time:.2f} seconds')\n",
    "\n",
    "    return train_losses, val_losses\n",
    "\n",
    "\n",
    "\n"
   ]
  },
  {
   "cell_type": "code",
   "execution_count": 14,
   "metadata": {},
   "outputs": [
    {
     "name": "stdout",
     "output_type": "stream",
     "text": [
      "Epoch [1/1], Train Loss: 0.0424, Validation Loss: 0.0419, Time: 21.49 seconds\n"
     ]
    }
   ],
   "source": [
    "train_losses, val_losses = train_and_validate(modi, train_loader, val_loader, optimizer, criterion, num_epochs=1)"
   ]
  },
  {
   "cell_type": "code",
   "execution_count": 15,
   "metadata": {},
   "outputs": [
    {
     "name": "stdout",
     "output_type": "stream",
     "text": [
      "Epoch [1/10], Train Loss: 0.0389, Validation Loss: 0.0273, Time: 21.56 seconds\n",
      "Epoch [2/10], Train Loss: 0.0290, Validation Loss: 0.0251, Time: 22.33 seconds\n",
      "Epoch [3/10], Train Loss: 0.0256, Validation Loss: 0.0231, Time: 22.50 seconds\n",
      "Epoch [4/10], Train Loss: 0.0238, Validation Loss: 0.0233, Time: 22.85 seconds\n",
      "Epoch [5/10], Train Loss: 0.0266, Validation Loss: 0.0216, Time: 22.47 seconds\n",
      "Epoch [6/10], Train Loss: 0.0240, Validation Loss: 0.0204, Time: 23.15 seconds\n",
      "Epoch [7/10], Train Loss: 0.0233, Validation Loss: 0.0200, Time: 23.13 seconds\n",
      "Epoch [8/10], Train Loss: 0.0239, Validation Loss: 0.0192, Time: 22.91 seconds\n",
      "Epoch [9/10], Train Loss: 0.0243, Validation Loss: 0.0217, Time: 21.73 seconds\n",
      "Epoch [10/10], Train Loss: 0.0246, Validation Loss: 0.0214, Time: 21.83 seconds\n"
     ]
    }
   ],
   "source": [
    "train_losses, val_losses = train_and_validate(modi, train_loader, val_loader, optimizer, criterion, num_epochs=10)"
   ]
  },
  {
   "cell_type": "code",
   "execution_count": null,
   "metadata": {},
   "outputs": [
    {
     "name": "stdout",
     "output_type": "stream",
     "text": [
      "Epoch [1/100], Train Loss: 0.0222, Validation Loss: 0.0182, Time: 22.77 seconds\n",
      "Epoch [2/100], Train Loss: 0.0233, Validation Loss: 0.0247, Time: 22.28 seconds\n",
      "Epoch [3/100], Train Loss: 0.0237, Validation Loss: 0.0205, Time: 21.37 seconds\n",
      "Epoch [4/100], Train Loss: 0.0232, Validation Loss: 0.0218, Time: 21.61 seconds\n",
      "Epoch [5/100], Train Loss: 0.0226, Validation Loss: 0.0193, Time: 21.93 seconds\n",
      "Epoch [6/100], Train Loss: 0.0229, Validation Loss: 0.0205, Time: 22.19 seconds\n",
      "Epoch [7/100], Train Loss: 0.0239, Validation Loss: 0.0222, Time: 31.80 seconds\n",
      "Epoch [8/100], Train Loss: 0.0230, Validation Loss: 0.0186, Time: 40.98 seconds\n",
      "Epoch [9/100], Train Loss: 0.0223, Validation Loss: 0.0192, Time: 28.48 seconds\n",
      "Epoch [10/100], Train Loss: 0.0223, Validation Loss: 0.0219, Time: 22.52 seconds\n",
      "Epoch [11/100], Train Loss: 0.0220, Validation Loss: 0.0178, Time: 21.92 seconds\n",
      "Epoch [12/100], Train Loss: 0.0221, Validation Loss: 0.0185, Time: 21.85 seconds\n",
      "Epoch [13/100], Train Loss: 0.0229, Validation Loss: 0.0200, Time: 22.05 seconds\n",
      "Epoch [14/100], Train Loss: 0.0223, Validation Loss: 0.0196, Time: 22.21 seconds\n",
      "Epoch [15/100], Train Loss: 0.0222, Validation Loss: 0.0200, Time: 22.69 seconds\n",
      "Epoch [16/100], Train Loss: 0.0230, Validation Loss: 0.0197, Time: 27.97 seconds\n",
      "Epoch [17/100], Train Loss: 0.0219, Validation Loss: 0.0199, Time: 40.18 seconds\n",
      "Epoch [18/100], Train Loss: 0.0213, Validation Loss: 0.0209, Time: 34.47 seconds\n",
      "Epoch [19/100], Train Loss: 0.0225, Validation Loss: 0.0206, Time: 22.46 seconds\n",
      "Epoch [20/100], Train Loss: 0.0244, Validation Loss: 0.0196, Time: 22.07 seconds\n",
      "Epoch [21/100], Train Loss: 0.0231, Validation Loss: 0.0211, Time: 21.88 seconds\n",
      "Epoch [22/100], Train Loss: 0.0218, Validation Loss: 0.0196, Time: 24.95 seconds\n",
      "Epoch [23/100], Train Loss: 0.0227, Validation Loss: 0.0184, Time: 30.44 seconds\n",
      "Epoch [24/100], Train Loss: 0.0221, Validation Loss: 0.0204, Time: 22.44 seconds\n",
      "Epoch [25/100], Train Loss: 0.0216, Validation Loss: 0.0201, Time: 22.47 seconds\n",
      "Epoch [26/100], Train Loss: 0.0222, Validation Loss: 0.0192, Time: 22.40 seconds\n",
      "Epoch [27/100], Train Loss: 0.0226, Validation Loss: 0.0197, Time: 22.35 seconds\n",
      "Epoch [28/100], Train Loss: 0.0216, Validation Loss: 0.0224, Time: 22.49 seconds\n",
      "Epoch [29/100], Train Loss: 0.0223, Validation Loss: 0.0195, Time: 22.91 seconds\n",
      "Epoch [30/100], Train Loss: 0.0226, Validation Loss: 0.0206, Time: 22.26 seconds\n",
      "Epoch [31/100], Train Loss: 0.0222, Validation Loss: 0.0182, Time: 22.47 seconds\n",
      "Epoch [32/100], Train Loss: 0.0222, Validation Loss: 0.0199, Time: 22.65 seconds\n",
      "Epoch [33/100], Train Loss: 0.0211, Validation Loss: 0.0187, Time: 22.61 seconds\n",
      "Epoch [34/100], Train Loss: 0.0211, Validation Loss: 0.0177, Time: 22.85 seconds\n",
      "Epoch [35/100], Train Loss: 0.0208, Validation Loss: 0.0181, Time: 30.34 seconds\n",
      "Epoch [36/100], Train Loss: 0.0218, Validation Loss: 0.0217, Time: 20.15 seconds\n",
      "Epoch [37/100], Train Loss: 0.0208, Validation Loss: 0.0193, Time: 20.21 seconds\n",
      "Epoch [38/100], Train Loss: 0.0206, Validation Loss: 0.0170, Time: 20.42 seconds\n",
      "Epoch [39/100], Train Loss: 0.0213, Validation Loss: 0.0171, Time: 20.42 seconds\n",
      "Epoch [40/100], Train Loss: 0.0222, Validation Loss: 0.0184, Time: 19.83 seconds\n",
      "Epoch [41/100], Train Loss: 0.0213, Validation Loss: 0.0199, Time: 20.41 seconds\n",
      "Epoch [42/100], Train Loss: 0.0213, Validation Loss: 0.0200, Time: 20.40 seconds\n"
     ]
    }
   ],
   "source": [
    "train_losses, val_losses = train_and_validate(modi, train_loader, val_loader, optimizer, criterion, num_epochs=100)"
   ]
  },
  {
   "cell_type": "code",
   "execution_count": null,
   "metadata": {},
   "outputs": [],
   "source": [
    "train_losses, val_losses = train_and_validate(modi, train_loader, val_loader, optimizer, criterion, num_epochs=500)"
   ]
  },
  {
   "cell_type": "code",
   "execution_count": null,
   "metadata": {},
   "outputs": [],
   "source": [
    "# Save the model parameters after training\n",
    "torch.save(modi.state_dict(), 'modi_time_pred.pth')\n"
   ]
  },
  {
   "cell_type": "markdown",
   "metadata": {},
   "source": [
    "#check for whether pairing day7 with day 10 is working properly "
   ]
  },
  {
   "cell_type": "code",
   "execution_count": 15,
   "metadata": {},
   "outputs": [
    {
     "name": "stdout",
     "output_type": "stream",
     "text": [
      "Day7: C:\\Users\\k54739\\Bibi_new_thesis\\thesis\\control_day7_day10\\day7\\RBTDS1B_D07-T01.tiff | Day10: C:\\Users\\k54739\\Bibi_new_thesis\\thesis\\control_day7_day10\\day10\\RBTDS1B_D07-T01.tiff\n",
      "Day7: C:\\Users\\k54739\\Bibi_new_thesis\\thesis\\control_day7_day10\\day7\\RBTDS1B_D08-T01.tiff | Day10: C:\\Users\\k54739\\Bibi_new_thesis\\thesis\\control_day7_day10\\day10\\RBTDS1B_D08-T01.tiff\n",
      "Day7: C:\\Users\\k54739\\Bibi_new_thesis\\thesis\\control_day7_day10\\day7\\RBTDS1B_D09-T01.tiff | Day10: C:\\Users\\k54739\\Bibi_new_thesis\\thesis\\control_day7_day10\\day10\\RBTDS1B_D09-T01.tiff\n",
      "Day7: C:\\Users\\k54739\\Bibi_new_thesis\\thesis\\control_day7_day10\\day7\\RBTDS1B_D10-T01.tiff | Day10: C:\\Users\\k54739\\Bibi_new_thesis\\thesis\\control_day7_day10\\day10\\RBTDS1B_D10-T01.tiff\n",
      "Day7: C:\\Users\\k54739\\Bibi_new_thesis\\thesis\\control_day7_day10\\day7\\RBTDS1B_D11-T01.tiff | Day10: C:\\Users\\k54739\\Bibi_new_thesis\\thesis\\control_day7_day10\\day10\\RBTDS1B_D11-T01.tiff\n",
      "Day7: C:\\Users\\k54739\\Bibi_new_thesis\\thesis\\control_day7_day10\\day7\\RBTDS1B_E07-T01.tiff | Day10: C:\\Users\\k54739\\Bibi_new_thesis\\thesis\\control_day7_day10\\day10\\RBTDS1B_E07-T01.tiff\n",
      "Day7: C:\\Users\\k54739\\Bibi_new_thesis\\thesis\\control_day7_day10\\day7\\RBTDS1B_E08-T01.tiff | Day10: C:\\Users\\k54739\\Bibi_new_thesis\\thesis\\control_day7_day10\\day10\\RBTDS1B_E08-T01.tiff\n",
      "Day7: C:\\Users\\k54739\\Bibi_new_thesis\\thesis\\control_day7_day10\\day7\\RBTDS1B_E09-T01.tiff | Day10: C:\\Users\\k54739\\Bibi_new_thesis\\thesis\\control_day7_day10\\day10\\RBTDS1B_E09-T01.tiff\n",
      "Day7: C:\\Users\\k54739\\Bibi_new_thesis\\thesis\\control_day7_day10\\day7\\RBTDS1B_E10-T01.tiff | Day10: C:\\Users\\k54739\\Bibi_new_thesis\\thesis\\control_day7_day10\\day10\\RBTDS1B_E10-T01.tiff\n",
      "Day7: C:\\Users\\k54739\\Bibi_new_thesis\\thesis\\control_day7_day10\\day7\\RBTDS1B_E11-T01.tiff | Day10: C:\\Users\\k54739\\Bibi_new_thesis\\thesis\\control_day7_day10\\day10\\RBTDS1B_E11-T01.tiff\n",
      "Day7: C:\\Users\\k54739\\Bibi_new_thesis\\thesis\\control_day7_day10\\day7\\RBTDS1B_F07-T01.tiff | Day10: C:\\Users\\k54739\\Bibi_new_thesis\\thesis\\control_day7_day10\\day10\\RBTDS1B_F07-T01.tiff\n",
      "Day7: C:\\Users\\k54739\\Bibi_new_thesis\\thesis\\control_day7_day10\\day7\\RBTDS1B_F08-T01.tiff | Day10: C:\\Users\\k54739\\Bibi_new_thesis\\thesis\\control_day7_day10\\day10\\RBTDS1B_F08-T01.tiff\n",
      "Day7: C:\\Users\\k54739\\Bibi_new_thesis\\thesis\\control_day7_day10\\day7\\RBTDS1B_F09-T01.tiff | Day10: C:\\Users\\k54739\\Bibi_new_thesis\\thesis\\control_day7_day10\\day10\\RBTDS1B_F09-T01.tiff\n",
      "Day7: C:\\Users\\k54739\\Bibi_new_thesis\\thesis\\control_day7_day10\\day7\\RBTDS1B_F10-T01.tiff | Day10: C:\\Users\\k54739\\Bibi_new_thesis\\thesis\\control_day7_day10\\day10\\RBTDS1B_F10-T01.tiff\n",
      "Day7: C:\\Users\\k54739\\Bibi_new_thesis\\thesis\\control_day7_day10\\day7\\RBTDS1B_F11-T01.tiff | Day10: C:\\Users\\k54739\\Bibi_new_thesis\\thesis\\control_day7_day10\\day10\\RBTDS1B_F11-T01.tiff\n",
      "Day7: C:\\Users\\k54739\\Bibi_new_thesis\\thesis\\control_day7_day10\\day7\\RBTDS1B_G07-T01.tiff | Day10: C:\\Users\\k54739\\Bibi_new_thesis\\thesis\\control_day7_day10\\day10\\RBTDS1B_G07-T01.tiff\n",
      "Day7: C:\\Users\\k54739\\Bibi_new_thesis\\thesis\\control_day7_day10\\day7\\RBTDS1B_G08-T01.tiff | Day10: C:\\Users\\k54739\\Bibi_new_thesis\\thesis\\control_day7_day10\\day10\\RBTDS1B_G08-T01.tiff\n",
      "Day7: C:\\Users\\k54739\\Bibi_new_thesis\\thesis\\control_day7_day10\\day7\\RBTDS1B_G09-T01.tiff | Day10: C:\\Users\\k54739\\Bibi_new_thesis\\thesis\\control_day7_day10\\day10\\RBTDS1B_G09-T01.tiff\n",
      "Day7: C:\\Users\\k54739\\Bibi_new_thesis\\thesis\\control_day7_day10\\day7\\RBTDS1B_G10-T01.tiff | Day10: C:\\Users\\k54739\\Bibi_new_thesis\\thesis\\control_day7_day10\\day10\\RBTDS1B_G10-T01.tiff\n",
      "Day7: C:\\Users\\k54739\\Bibi_new_thesis\\thesis\\control_day7_day10\\day7\\RBTDS1B_G11-T01.tiff | Day10: C:\\Users\\k54739\\Bibi_new_thesis\\thesis\\control_day7_day10\\day10\\RBTDS1B_G11-T01.tiff\n",
      "Day7: C:\\Users\\k54739\\Bibi_new_thesis\\thesis\\control_day7_day10\\day7\\RBTDS_4.2_D07-T01.tiff | Day10: C:\\Users\\k54739\\Bibi_new_thesis\\thesis\\control_day7_day10\\day10\\RBTDS_4.2_D07-T01.tiff\n",
      "Day7: C:\\Users\\k54739\\Bibi_new_thesis\\thesis\\control_day7_day10\\day7\\RBTDS_4.2_D08-T01.tiff | Day10: C:\\Users\\k54739\\Bibi_new_thesis\\thesis\\control_day7_day10\\day10\\RBTDS_4.2_D08-T01.tiff\n",
      "Day7: C:\\Users\\k54739\\Bibi_new_thesis\\thesis\\control_day7_day10\\day7\\RBTDS_4.2_D09-T01.tiff | Day10: C:\\Users\\k54739\\Bibi_new_thesis\\thesis\\control_day7_day10\\day10\\RBTDS_4.2_D09-T01.tiff\n",
      "Day7: C:\\Users\\k54739\\Bibi_new_thesis\\thesis\\control_day7_day10\\day7\\RBTDS_4.2_D10-T01.tiff | Day10: C:\\Users\\k54739\\Bibi_new_thesis\\thesis\\control_day7_day10\\day10\\RBTDS_4.2_D10-T01.tiff\n",
      "Day7: C:\\Users\\k54739\\Bibi_new_thesis\\thesis\\control_day7_day10\\day7\\RBTDS_4.2_D11-T01.tiff | Day10: C:\\Users\\k54739\\Bibi_new_thesis\\thesis\\control_day7_day10\\day10\\RBTDS_4.2_D11-T01.tiff\n",
      "Day7: C:\\Users\\k54739\\Bibi_new_thesis\\thesis\\control_day7_day10\\day7\\RBTDS_4.2_E07-T01.tiff | Day10: C:\\Users\\k54739\\Bibi_new_thesis\\thesis\\control_day7_day10\\day10\\RBTDS_4.2_E07-T01.tiff\n",
      "Day7: C:\\Users\\k54739\\Bibi_new_thesis\\thesis\\control_day7_day10\\day7\\RBTDS_4.2_E08-T01.tiff | Day10: C:\\Users\\k54739\\Bibi_new_thesis\\thesis\\control_day7_day10\\day10\\RBTDS_4.2_E08-T01.tiff\n",
      "Day7: C:\\Users\\k54739\\Bibi_new_thesis\\thesis\\control_day7_day10\\day7\\RBTDS_4.2_E09-T01.tiff | Day10: C:\\Users\\k54739\\Bibi_new_thesis\\thesis\\control_day7_day10\\day10\\RBTDS_4.2_E09-T01.tiff\n",
      "Day7: C:\\Users\\k54739\\Bibi_new_thesis\\thesis\\control_day7_day10\\day7\\RBTDS_4.2_E10-T01.tiff | Day10: C:\\Users\\k54739\\Bibi_new_thesis\\thesis\\control_day7_day10\\day10\\RBTDS_4.2_E10-T01.tiff\n",
      "Day7: C:\\Users\\k54739\\Bibi_new_thesis\\thesis\\control_day7_day10\\day7\\RBTDS_4.2_E11-T01.tiff | Day10: C:\\Users\\k54739\\Bibi_new_thesis\\thesis\\control_day7_day10\\day10\\RBTDS_4.2_E11-T01.tiff\n",
      "Day7: C:\\Users\\k54739\\Bibi_new_thesis\\thesis\\control_day7_day10\\day7\\RBTDS_4.2_F07-T01.tiff | Day10: C:\\Users\\k54739\\Bibi_new_thesis\\thesis\\control_day7_day10\\day10\\RBTDS_4.2_F07-T01.tiff\n",
      "Day7: C:\\Users\\k54739\\Bibi_new_thesis\\thesis\\control_day7_day10\\day7\\RBTDS_4.2_F08-T01.tiff | Day10: C:\\Users\\k54739\\Bibi_new_thesis\\thesis\\control_day7_day10\\day10\\RBTDS_4.2_F08-T01.tiff\n",
      "Day7: C:\\Users\\k54739\\Bibi_new_thesis\\thesis\\control_day7_day10\\day7\\RBTDS_4.2_F09-T01.tiff | Day10: C:\\Users\\k54739\\Bibi_new_thesis\\thesis\\control_day7_day10\\day10\\RBTDS_4.2_F09-T01.tiff\n",
      "Day7: C:\\Users\\k54739\\Bibi_new_thesis\\thesis\\control_day7_day10\\day7\\RBTDS_4.2_F10-T01.tiff | Day10: C:\\Users\\k54739\\Bibi_new_thesis\\thesis\\control_day7_day10\\day10\\RBTDS_4.2_F10-T01.tiff\n",
      "Day7: C:\\Users\\k54739\\Bibi_new_thesis\\thesis\\control_day7_day10\\day7\\RBTDS_4.2_F11-T01.tiff | Day10: C:\\Users\\k54739\\Bibi_new_thesis\\thesis\\control_day7_day10\\day10\\RBTDS_4.2_F11-T01.tiff\n",
      "Day7: C:\\Users\\k54739\\Bibi_new_thesis\\thesis\\control_day7_day10\\day7\\RBTDS_4.2_G07-T01.tiff | Day10: C:\\Users\\k54739\\Bibi_new_thesis\\thesis\\control_day7_day10\\day10\\RBTDS_4.2_G07-T01.tiff\n",
      "Day7: C:\\Users\\k54739\\Bibi_new_thesis\\thesis\\control_day7_day10\\day7\\RBTDS_4.2_G08-T01.tiff | Day10: C:\\Users\\k54739\\Bibi_new_thesis\\thesis\\control_day7_day10\\day10\\RBTDS_4.2_G08-T01.tiff\n",
      "Day7: C:\\Users\\k54739\\Bibi_new_thesis\\thesis\\control_day7_day10\\day7\\RBTDS_4.2_G09-T01.tiff | Day10: C:\\Users\\k54739\\Bibi_new_thesis\\thesis\\control_day7_day10\\day10\\RBTDS_4.2_G09-T01.tiff\n",
      "Day7: C:\\Users\\k54739\\Bibi_new_thesis\\thesis\\control_day7_day10\\day7\\RBTDS_4.2_G10-T01.tiff | Day10: C:\\Users\\k54739\\Bibi_new_thesis\\thesis\\control_day7_day10\\day10\\RBTDS_4.2_G10-T01.tiff\n",
      "Day7: C:\\Users\\k54739\\Bibi_new_thesis\\thesis\\control_day7_day10\\day7\\RBTDS_4.2_G11-T01.tiff | Day10: C:\\Users\\k54739\\Bibi_new_thesis\\thesis\\control_day7_day10\\day10\\RBTDS_4.2_G11-T01.tiff\n",
      "Day7: C:\\Users\\k54739\\Bibi_new_thesis\\thesis\\control_day7_day10\\day7\\RBTDS_6.1_D07-T01.tiff | Day10: C:\\Users\\k54739\\Bibi_new_thesis\\thesis\\control_day7_day10\\day10\\RBTDS_6.1_D07-T01.tiff\n",
      "Day7: C:\\Users\\k54739\\Bibi_new_thesis\\thesis\\control_day7_day10\\day7\\RBTDS_6.1_D08-T01.tiff | Day10: C:\\Users\\k54739\\Bibi_new_thesis\\thesis\\control_day7_day10\\day10\\RBTDS_6.1_D08-T01.tiff\n",
      "Day7: C:\\Users\\k54739\\Bibi_new_thesis\\thesis\\control_day7_day10\\day7\\RBTDS_6.1_D09-T01.tiff | Day10: C:\\Users\\k54739\\Bibi_new_thesis\\thesis\\control_day7_day10\\day10\\RBTDS_6.1_D09-T01.tiff\n",
      "Day7: C:\\Users\\k54739\\Bibi_new_thesis\\thesis\\control_day7_day10\\day7\\RBTDS_6.1_D10-T01.tiff | Day10: C:\\Users\\k54739\\Bibi_new_thesis\\thesis\\control_day7_day10\\day10\\RBTDS_6.1_D10-T01.tiff\n",
      "Day7: C:\\Users\\k54739\\Bibi_new_thesis\\thesis\\control_day7_day10\\day7\\RBTDS_6.1_D11-T01.tiff | Day10: C:\\Users\\k54739\\Bibi_new_thesis\\thesis\\control_day7_day10\\day10\\RBTDS_6.1_D11-T01.tiff\n",
      "Day7: C:\\Users\\k54739\\Bibi_new_thesis\\thesis\\control_day7_day10\\day7\\RBTDS_6.1_E07-T01.tiff | Day10: C:\\Users\\k54739\\Bibi_new_thesis\\thesis\\control_day7_day10\\day10\\RBTDS_6.1_E07-T01.tiff\n",
      "Day7: C:\\Users\\k54739\\Bibi_new_thesis\\thesis\\control_day7_day10\\day7\\RBTDS_6.1_E08-T01.tiff | Day10: C:\\Users\\k54739\\Bibi_new_thesis\\thesis\\control_day7_day10\\day10\\RBTDS_6.1_E08-T01.tiff\n",
      "Day7: C:\\Users\\k54739\\Bibi_new_thesis\\thesis\\control_day7_day10\\day7\\RBTDS_6.1_E09-T01.tiff | Day10: C:\\Users\\k54739\\Bibi_new_thesis\\thesis\\control_day7_day10\\day10\\RBTDS_6.1_E09-T01.tiff\n",
      "Day7: C:\\Users\\k54739\\Bibi_new_thesis\\thesis\\control_day7_day10\\day7\\RBTDS_6.1_E10-T01.tiff | Day10: C:\\Users\\k54739\\Bibi_new_thesis\\thesis\\control_day7_day10\\day10\\RBTDS_6.1_E10-T01.tiff\n",
      "Day7: C:\\Users\\k54739\\Bibi_new_thesis\\thesis\\control_day7_day10\\day7\\RBTDS_6.1_E11-T01.tiff | Day10: C:\\Users\\k54739\\Bibi_new_thesis\\thesis\\control_day7_day10\\day10\\RBTDS_6.1_E11-T01.tiff\n",
      "Day7: C:\\Users\\k54739\\Bibi_new_thesis\\thesis\\control_day7_day10\\day7\\RBTDS_6.1_F07-T01.tiff | Day10: C:\\Users\\k54739\\Bibi_new_thesis\\thesis\\control_day7_day10\\day10\\RBTDS_6.1_F07-T01.tiff\n",
      "Day7: C:\\Users\\k54739\\Bibi_new_thesis\\thesis\\control_day7_day10\\day7\\RBTDS_6.1_F08-T01.tiff | Day10: C:\\Users\\k54739\\Bibi_new_thesis\\thesis\\control_day7_day10\\day10\\RBTDS_6.1_F08-T01.tiff\n",
      "Day7: C:\\Users\\k54739\\Bibi_new_thesis\\thesis\\control_day7_day10\\day7\\RBTDS_6.1_F09-T01.tiff | Day10: C:\\Users\\k54739\\Bibi_new_thesis\\thesis\\control_day7_day10\\day10\\RBTDS_6.1_F09-T01.tiff\n",
      "Day7: C:\\Users\\k54739\\Bibi_new_thesis\\thesis\\control_day7_day10\\day7\\RBTDS_6.1_F10-T01.tiff | Day10: C:\\Users\\k54739\\Bibi_new_thesis\\thesis\\control_day7_day10\\day10\\RBTDS_6.1_F10-T01.tiff\n",
      "Day7: C:\\Users\\k54739\\Bibi_new_thesis\\thesis\\control_day7_day10\\day7\\RBTDS_6.1_F11-T01.tiff | Day10: C:\\Users\\k54739\\Bibi_new_thesis\\thesis\\control_day7_day10\\day10\\RBTDS_6.1_F11-T01.tiff\n",
      "Day7: C:\\Users\\k54739\\Bibi_new_thesis\\thesis\\control_day7_day10\\day7\\RBTDS_6.1_G07-T01.tiff | Day10: C:\\Users\\k54739\\Bibi_new_thesis\\thesis\\control_day7_day10\\day10\\RBTDS_6.1_G07-T01.tiff\n",
      "Day7: C:\\Users\\k54739\\Bibi_new_thesis\\thesis\\control_day7_day10\\day7\\RBTDS_6.1_G08-T01.tiff | Day10: C:\\Users\\k54739\\Bibi_new_thesis\\thesis\\control_day7_day10\\day10\\RBTDS_6.1_G08-T01.tiff\n",
      "Day7: C:\\Users\\k54739\\Bibi_new_thesis\\thesis\\control_day7_day10\\day7\\RBTDS_6.1_G09-T01.tiff | Day10: C:\\Users\\k54739\\Bibi_new_thesis\\thesis\\control_day7_day10\\day10\\RBTDS_6.1_G09-T01.tiff\n",
      "Day7: C:\\Users\\k54739\\Bibi_new_thesis\\thesis\\control_day7_day10\\day7\\RBTDS_6.1_G10-T01.tiff | Day10: C:\\Users\\k54739\\Bibi_new_thesis\\thesis\\control_day7_day10\\day10\\RBTDS_6.1_G10-T01.tiff\n",
      "Day7: C:\\Users\\k54739\\Bibi_new_thesis\\thesis\\control_day7_day10\\day7\\RBTDS_6.1_G11-T01.tiff | Day10: C:\\Users\\k54739\\Bibi_new_thesis\\thesis\\control_day7_day10\\day10\\RBTDS_6.1_G11-T01.tiff\n",
      "Day7: C:\\Users\\k54739\\Bibi_new_thesis\\thesis\\control_day7_day10\\day7\\RBTDS_6.2_D07-T01.tiff | Day10: C:\\Users\\k54739\\Bibi_new_thesis\\thesis\\control_day7_day10\\day10\\RBTDS_6.2_D07-T01.tiff\n",
      "Day7: C:\\Users\\k54739\\Bibi_new_thesis\\thesis\\control_day7_day10\\day7\\RBTDS_6.2_D08-T01.tiff | Day10: C:\\Users\\k54739\\Bibi_new_thesis\\thesis\\control_day7_day10\\day10\\RBTDS_6.2_D08-T01.tiff\n",
      "Day7: C:\\Users\\k54739\\Bibi_new_thesis\\thesis\\control_day7_day10\\day7\\RBTDS_6.2_D09-T01.tiff | Day10: C:\\Users\\k54739\\Bibi_new_thesis\\thesis\\control_day7_day10\\day10\\RBTDS_6.2_D09-T01.tiff\n",
      "Day7: C:\\Users\\k54739\\Bibi_new_thesis\\thesis\\control_day7_day10\\day7\\RBTDS_6.2_D10-T01.tiff | Day10: C:\\Users\\k54739\\Bibi_new_thesis\\thesis\\control_day7_day10\\day10\\RBTDS_6.2_D10-T01.tiff\n",
      "Day7: C:\\Users\\k54739\\Bibi_new_thesis\\thesis\\control_day7_day10\\day7\\RBTDS_6.2_D11-T01.tiff | Day10: C:\\Users\\k54739\\Bibi_new_thesis\\thesis\\control_day7_day10\\day10\\RBTDS_6.2_D11-T01.tiff\n",
      "Day7: C:\\Users\\k54739\\Bibi_new_thesis\\thesis\\control_day7_day10\\day7\\RBTDS_6.2_E07-T01.tiff | Day10: C:\\Users\\k54739\\Bibi_new_thesis\\thesis\\control_day7_day10\\day10\\RBTDS_6.2_E07-T01.tiff\n",
      "Day7: C:\\Users\\k54739\\Bibi_new_thesis\\thesis\\control_day7_day10\\day7\\RBTDS_6.2_E08-T01.tiff | Day10: C:\\Users\\k54739\\Bibi_new_thesis\\thesis\\control_day7_day10\\day10\\RBTDS_6.2_E08-T01.tiff\n",
      "Day7: C:\\Users\\k54739\\Bibi_new_thesis\\thesis\\control_day7_day10\\day7\\RBTDS_6.2_E09-T01.tiff | Day10: C:\\Users\\k54739\\Bibi_new_thesis\\thesis\\control_day7_day10\\day10\\RBTDS_6.2_E09-T01.tiff\n",
      "Day7: C:\\Users\\k54739\\Bibi_new_thesis\\thesis\\control_day7_day10\\day7\\RBTDS_6.2_E10-T01.tiff | Day10: C:\\Users\\k54739\\Bibi_new_thesis\\thesis\\control_day7_day10\\day10\\RBTDS_6.2_E10-T01.tiff\n",
      "Day7: C:\\Users\\k54739\\Bibi_new_thesis\\thesis\\control_day7_day10\\day7\\RBTDS_6.2_E11-T01.tiff | Day10: C:\\Users\\k54739\\Bibi_new_thesis\\thesis\\control_day7_day10\\day10\\RBTDS_6.2_E11-T01.tiff\n",
      "Day7: C:\\Users\\k54739\\Bibi_new_thesis\\thesis\\control_day7_day10\\day7\\RBTDS_6.2_F07-T01.tiff | Day10: C:\\Users\\k54739\\Bibi_new_thesis\\thesis\\control_day7_day10\\day10\\RBTDS_6.2_F07-T01.tiff\n",
      "Day7: C:\\Users\\k54739\\Bibi_new_thesis\\thesis\\control_day7_day10\\day7\\RBTDS_6.2_F08-T01.tiff | Day10: C:\\Users\\k54739\\Bibi_new_thesis\\thesis\\control_day7_day10\\day10\\RBTDS_6.2_F08-T01.tiff\n",
      "Day7: C:\\Users\\k54739\\Bibi_new_thesis\\thesis\\control_day7_day10\\day7\\RBTDS_6.2_F09-T01.tiff | Day10: C:\\Users\\k54739\\Bibi_new_thesis\\thesis\\control_day7_day10\\day10\\RBTDS_6.2_F09-T01.tiff\n",
      "Day7: C:\\Users\\k54739\\Bibi_new_thesis\\thesis\\control_day7_day10\\day7\\RBTDS_6.2_F10-T01.tiff | Day10: C:\\Users\\k54739\\Bibi_new_thesis\\thesis\\control_day7_day10\\day10\\RBTDS_6.2_F10-T01.tiff\n",
      "Day7: C:\\Users\\k54739\\Bibi_new_thesis\\thesis\\control_day7_day10\\day7\\RBTDS_6.2_F11-T01.tiff | Day10: C:\\Users\\k54739\\Bibi_new_thesis\\thesis\\control_day7_day10\\day10\\RBTDS_6.2_F11-T01.tiff\n",
      "Day7: C:\\Users\\k54739\\Bibi_new_thesis\\thesis\\control_day7_day10\\day7\\RBTDS_6.2_G07-T01.tiff | Day10: C:\\Users\\k54739\\Bibi_new_thesis\\thesis\\control_day7_day10\\day10\\RBTDS_6.2_G07-T01.tiff\n",
      "Day7: C:\\Users\\k54739\\Bibi_new_thesis\\thesis\\control_day7_day10\\day7\\RBTDS_6.2_G08-T01.tiff | Day10: C:\\Users\\k54739\\Bibi_new_thesis\\thesis\\control_day7_day10\\day10\\RBTDS_6.2_G08-T01.tiff\n",
      "Day7: C:\\Users\\k54739\\Bibi_new_thesis\\thesis\\control_day7_day10\\day7\\RBTDS_6.2_G09-T01.tiff | Day10: C:\\Users\\k54739\\Bibi_new_thesis\\thesis\\control_day7_day10\\day10\\RBTDS_6.2_G09-T01.tiff\n",
      "Day7: C:\\Users\\k54739\\Bibi_new_thesis\\thesis\\control_day7_day10\\day7\\RBTDS_6.2_G10-T01.tiff | Day10: C:\\Users\\k54739\\Bibi_new_thesis\\thesis\\control_day7_day10\\day10\\RBTDS_6.2_G10-T01.tiff\n",
      "Day7: C:\\Users\\k54739\\Bibi_new_thesis\\thesis\\control_day7_day10\\day7\\RBTDS_6.2_G11-T01.tiff | Day10: C:\\Users\\k54739\\Bibi_new_thesis\\thesis\\control_day7_day10\\day10\\RBTDS_6.2_G11-T01.tiff\n",
      "Day7: C:\\Users\\k54739\\Bibi_new_thesis\\thesis\\control_day7_day10\\day7\\RBT_01.04_B02-T01.tiff | Day10: C:\\Users\\k54739\\Bibi_new_thesis\\thesis\\control_day7_day10\\day10\\RBT_01.04_B02-T01.tiff\n",
      "Day7: C:\\Users\\k54739\\Bibi_new_thesis\\thesis\\control_day7_day10\\day7\\RBT_01.04_B03-T01.tiff | Day10: C:\\Users\\k54739\\Bibi_new_thesis\\thesis\\control_day7_day10\\day10\\RBT_01.04_B03-T01.tiff\n",
      "Day7: C:\\Users\\k54739\\Bibi_new_thesis\\thesis\\control_day7_day10\\day7\\RBT_01.04_B04-T01.tiff | Day10: C:\\Users\\k54739\\Bibi_new_thesis\\thesis\\control_day7_day10\\day10\\RBT_01.04_B04-T01.tiff\n",
      "Day7: C:\\Users\\k54739\\Bibi_new_thesis\\thesis\\control_day7_day10\\day7\\RBT_01.04_B05-T01.tiff | Day10: C:\\Users\\k54739\\Bibi_new_thesis\\thesis\\control_day7_day10\\day10\\RBT_01.04_B05-T01.tiff\n",
      "Day7: C:\\Users\\k54739\\Bibi_new_thesis\\thesis\\control_day7_day10\\day7\\RBT_01.04_B06-T01.tiff | Day10: C:\\Users\\k54739\\Bibi_new_thesis\\thesis\\control_day7_day10\\day10\\RBT_01.04_B06-T01.tiff\n",
      "Day7: C:\\Users\\k54739\\Bibi_new_thesis\\thesis\\control_day7_day10\\day7\\RBT_01.04_C02-T01.tiff | Day10: C:\\Users\\k54739\\Bibi_new_thesis\\thesis\\control_day7_day10\\day10\\RBT_01.04_C02-T01.tiff\n",
      "Day7: C:\\Users\\k54739\\Bibi_new_thesis\\thesis\\control_day7_day10\\day7\\RBT_01.04_C03-T01.tiff | Day10: C:\\Users\\k54739\\Bibi_new_thesis\\thesis\\control_day7_day10\\day10\\RBT_01.04_C03-T01.tiff\n",
      "Day7: C:\\Users\\k54739\\Bibi_new_thesis\\thesis\\control_day7_day10\\day7\\RBT_01.04_C04-T01.tiff | Day10: C:\\Users\\k54739\\Bibi_new_thesis\\thesis\\control_day7_day10\\day10\\RBT_01.04_C04-T01.tiff\n",
      "Day7: C:\\Users\\k54739\\Bibi_new_thesis\\thesis\\control_day7_day10\\day7\\RBT_01.04_C05-T01.tiff | Day10: C:\\Users\\k54739\\Bibi_new_thesis\\thesis\\control_day7_day10\\day10\\RBT_01.04_C05-T01.tiff\n",
      "Day7: C:\\Users\\k54739\\Bibi_new_thesis\\thesis\\control_day7_day10\\day7\\RBT_01.04_C06-T01.tiff | Day10: C:\\Users\\k54739\\Bibi_new_thesis\\thesis\\control_day7_day10\\day10\\RBT_01.04_C06-T01.tiff\n",
      "Day7: C:\\Users\\k54739\\Bibi_new_thesis\\thesis\\control_day7_day10\\day7\\RBT_01.04_D02-T01.tiff | Day10: C:\\Users\\k54739\\Bibi_new_thesis\\thesis\\control_day7_day10\\day10\\RBT_01.04_D02-T01.tiff\n",
      "Day7: C:\\Users\\k54739\\Bibi_new_thesis\\thesis\\control_day7_day10\\day7\\RBT_01.04_D03-T01.tiff | Day10: C:\\Users\\k54739\\Bibi_new_thesis\\thesis\\control_day7_day10\\day10\\RBT_01.04_D03-T01.tiff\n",
      "Day7: C:\\Users\\k54739\\Bibi_new_thesis\\thesis\\control_day7_day10\\day7\\RBT_01.04_D04-T01.tiff | Day10: C:\\Users\\k54739\\Bibi_new_thesis\\thesis\\control_day7_day10\\day10\\RBT_01.04_D04-T01.tiff\n",
      "Day7: C:\\Users\\k54739\\Bibi_new_thesis\\thesis\\control_day7_day10\\day7\\RBT_01.04_D05-T01.tiff | Day10: C:\\Users\\k54739\\Bibi_new_thesis\\thesis\\control_day7_day10\\day10\\RBT_01.04_D05-T01.tiff\n",
      "Day7: C:\\Users\\k54739\\Bibi_new_thesis\\thesis\\control_day7_day10\\day7\\RBT_01.04_D06-T01.tiff | Day10: C:\\Users\\k54739\\Bibi_new_thesis\\thesis\\control_day7_day10\\day10\\RBT_01.04_D06-T01.tiff\n",
      "Day7: C:\\Users\\k54739\\Bibi_new_thesis\\thesis\\control_day7_day10\\day7\\RBT_01.04_E02-T01.tiff | Day10: C:\\Users\\k54739\\Bibi_new_thesis\\thesis\\control_day7_day10\\day10\\RBT_01.04_E02-T01.tiff\n",
      "Day7: C:\\Users\\k54739\\Bibi_new_thesis\\thesis\\control_day7_day10\\day7\\RBT_01.04_E03-T01.tiff | Day10: C:\\Users\\k54739\\Bibi_new_thesis\\thesis\\control_day7_day10\\day10\\RBT_01.04_E03-T01.tiff\n",
      "Day7: C:\\Users\\k54739\\Bibi_new_thesis\\thesis\\control_day7_day10\\day7\\RBT_01.04_E04-T01.tiff | Day10: C:\\Users\\k54739\\Bibi_new_thesis\\thesis\\control_day7_day10\\day10\\RBT_01.04_E04-T01.tiff\n",
      "Day7: C:\\Users\\k54739\\Bibi_new_thesis\\thesis\\control_day7_day10\\day7\\RBT_01.04_E05-T01.tiff | Day10: C:\\Users\\k54739\\Bibi_new_thesis\\thesis\\control_day7_day10\\day10\\RBT_01.04_E05-T01.tiff\n",
      "Day7: C:\\Users\\k54739\\Bibi_new_thesis\\thesis\\control_day7_day10\\day7\\RBT_01.04_E06-T01.tiff | Day10: C:\\Users\\k54739\\Bibi_new_thesis\\thesis\\control_day7_day10\\day10\\RBT_01.04_E06-T01.tiff\n",
      "Day7: C:\\Users\\k54739\\Bibi_new_thesis\\thesis\\control_day7_day10\\day7\\RBT_01.04_F02-T01.tiff | Day10: C:\\Users\\k54739\\Bibi_new_thesis\\thesis\\control_day7_day10\\day10\\RBT_01.04_F02-T01.tiff\n",
      "Day7: C:\\Users\\k54739\\Bibi_new_thesis\\thesis\\control_day7_day10\\day7\\RBT_01.04_F03-T01.tiff | Day10: C:\\Users\\k54739\\Bibi_new_thesis\\thesis\\control_day7_day10\\day10\\RBT_01.04_F03-T01.tiff\n",
      "Day7: C:\\Users\\k54739\\Bibi_new_thesis\\thesis\\control_day7_day10\\day7\\RBT_01.04_F04-T01.tiff | Day10: C:\\Users\\k54739\\Bibi_new_thesis\\thesis\\control_day7_day10\\day10\\RBT_01.04_F04-T01.tiff\n",
      "Day7: C:\\Users\\k54739\\Bibi_new_thesis\\thesis\\control_day7_day10\\day7\\RBT_01.04_F05-T01.tiff | Day10: C:\\Users\\k54739\\Bibi_new_thesis\\thesis\\control_day7_day10\\day10\\RBT_01.04_F05-T01.tiff\n",
      "Day7: C:\\Users\\k54739\\Bibi_new_thesis\\thesis\\control_day7_day10\\day7\\RBT_01.04_F06-T01.tiff | Day10: C:\\Users\\k54739\\Bibi_new_thesis\\thesis\\control_day7_day10\\day10\\RBT_01.04_F06-T01.tiff\n",
      "Day7: C:\\Users\\k54739\\Bibi_new_thesis\\thesis\\control_day7_day10\\day7\\RBT_01.04_G02-T01.tiff | Day10: C:\\Users\\k54739\\Bibi_new_thesis\\thesis\\control_day7_day10\\day10\\RBT_01.04_G02-T01.tiff\n",
      "Day7: C:\\Users\\k54739\\Bibi_new_thesis\\thesis\\control_day7_day10\\day7\\RBT_01.04_G03-T01.tiff | Day10: C:\\Users\\k54739\\Bibi_new_thesis\\thesis\\control_day7_day10\\day10\\RBT_01.04_G03-T01.tiff\n",
      "Day7: C:\\Users\\k54739\\Bibi_new_thesis\\thesis\\control_day7_day10\\day7\\RBT_01.04_G04-T01.tiff | Day10: C:\\Users\\k54739\\Bibi_new_thesis\\thesis\\control_day7_day10\\day10\\RBT_01.04_G04-T01.tiff\n",
      "Day7: C:\\Users\\k54739\\Bibi_new_thesis\\thesis\\control_day7_day10\\day7\\RBT_01.04_G05-T01.tiff | Day10: C:\\Users\\k54739\\Bibi_new_thesis\\thesis\\control_day7_day10\\day10\\RBT_01.04_G05-T01.tiff\n",
      "Day7: C:\\Users\\k54739\\Bibi_new_thesis\\thesis\\control_day7_day10\\day7\\RBT_01.04_G06-T01.tiff | Day10: C:\\Users\\k54739\\Bibi_new_thesis\\thesis\\control_day7_day10\\day10\\RBT_01.04_G06-T01.tiff\n",
      "Day7: C:\\Users\\k54739\\Bibi_new_thesis\\thesis\\control_day7_day10\\day7\\RBT_DS_4.1_D07-T01.tiff | Day10: C:\\Users\\k54739\\Bibi_new_thesis\\thesis\\control_day7_day10\\day10\\RBT_DS_4.1_D07-T01.tiff\n",
      "Day7: C:\\Users\\k54739\\Bibi_new_thesis\\thesis\\control_day7_day10\\day7\\RBT_DS_4.1_D08-T01.tiff | Day10: C:\\Users\\k54739\\Bibi_new_thesis\\thesis\\control_day7_day10\\day10\\RBT_DS_4.1_D08-T01.tiff\n",
      "Day7: C:\\Users\\k54739\\Bibi_new_thesis\\thesis\\control_day7_day10\\day7\\RBT_DS_4.1_D09-T01.tiff | Day10: C:\\Users\\k54739\\Bibi_new_thesis\\thesis\\control_day7_day10\\day10\\RBT_DS_4.1_D09-T01.tiff\n",
      "Day7: C:\\Users\\k54739\\Bibi_new_thesis\\thesis\\control_day7_day10\\day7\\RBT_DS_4.1_D10-T01.tiff | Day10: C:\\Users\\k54739\\Bibi_new_thesis\\thesis\\control_day7_day10\\day10\\RBT_DS_4.1_D10-T01.tiff\n",
      "Day7: C:\\Users\\k54739\\Bibi_new_thesis\\thesis\\control_day7_day10\\day7\\RBT_DS_4.1_D11-T01.tiff | Day10: C:\\Users\\k54739\\Bibi_new_thesis\\thesis\\control_day7_day10\\day10\\RBT_DS_4.1_D11-T01.tiff\n",
      "Day7: C:\\Users\\k54739\\Bibi_new_thesis\\thesis\\control_day7_day10\\day7\\RBT_DS_4.1_E07-T01.tiff | Day10: C:\\Users\\k54739\\Bibi_new_thesis\\thesis\\control_day7_day10\\day10\\RBT_DS_4.1_E07-T01.tiff\n",
      "Day7: C:\\Users\\k54739\\Bibi_new_thesis\\thesis\\control_day7_day10\\day7\\RBT_DS_4.1_E08-T01.tiff | Day10: C:\\Users\\k54739\\Bibi_new_thesis\\thesis\\control_day7_day10\\day10\\RBT_DS_4.1_E08-T01.tiff\n",
      "Day7: C:\\Users\\k54739\\Bibi_new_thesis\\thesis\\control_day7_day10\\day7\\RBT_DS_4.1_E09-T01.tiff | Day10: C:\\Users\\k54739\\Bibi_new_thesis\\thesis\\control_day7_day10\\day10\\RBT_DS_4.1_E09-T01.tiff\n",
      "Day7: C:\\Users\\k54739\\Bibi_new_thesis\\thesis\\control_day7_day10\\day7\\RBT_DS_4.1_E10-T01.tiff | Day10: C:\\Users\\k54739\\Bibi_new_thesis\\thesis\\control_day7_day10\\day10\\RBT_DS_4.1_E10-T01.tiff\n",
      "Day7: C:\\Users\\k54739\\Bibi_new_thesis\\thesis\\control_day7_day10\\day7\\RBT_DS_4.1_E11-T01.tiff | Day10: C:\\Users\\k54739\\Bibi_new_thesis\\thesis\\control_day7_day10\\day10\\RBT_DS_4.1_E11-T01.tiff\n",
      "Day7: C:\\Users\\k54739\\Bibi_new_thesis\\thesis\\control_day7_day10\\day7\\RBT_DS_4.1_F07-T01.tiff | Day10: C:\\Users\\k54739\\Bibi_new_thesis\\thesis\\control_day7_day10\\day10\\RBT_DS_4.1_F07-T01.tiff\n",
      "Day7: C:\\Users\\k54739\\Bibi_new_thesis\\thesis\\control_day7_day10\\day7\\RBT_DS_4.1_F08-T01.tiff | Day10: C:\\Users\\k54739\\Bibi_new_thesis\\thesis\\control_day7_day10\\day10\\RBT_DS_4.1_F08-T01.tiff\n",
      "Day7: C:\\Users\\k54739\\Bibi_new_thesis\\thesis\\control_day7_day10\\day7\\RBT_DS_4.1_F09-T01.tiff | Day10: C:\\Users\\k54739\\Bibi_new_thesis\\thesis\\control_day7_day10\\day10\\RBT_DS_4.1_F09-T01.tiff\n",
      "Day7: C:\\Users\\k54739\\Bibi_new_thesis\\thesis\\control_day7_day10\\day7\\RBT_DS_4.1_F10-T01.tiff | Day10: C:\\Users\\k54739\\Bibi_new_thesis\\thesis\\control_day7_day10\\day10\\RBT_DS_4.1_F10-T01.tiff\n",
      "Day7: C:\\Users\\k54739\\Bibi_new_thesis\\thesis\\control_day7_day10\\day7\\RBT_DS_4.1_F11-T01.tiff | Day10: C:\\Users\\k54739\\Bibi_new_thesis\\thesis\\control_day7_day10\\day10\\RBT_DS_4.1_F11-T01.tiff\n",
      "Day7: C:\\Users\\k54739\\Bibi_new_thesis\\thesis\\control_day7_day10\\day7\\RBT_DS_4.1_G07-T01.tiff | Day10: C:\\Users\\k54739\\Bibi_new_thesis\\thesis\\control_day7_day10\\day10\\RBT_DS_4.1_G07-T01.tiff\n",
      "Day7: C:\\Users\\k54739\\Bibi_new_thesis\\thesis\\control_day7_day10\\day7\\RBT_DS_4.1_G08-T01.tiff | Day10: C:\\Users\\k54739\\Bibi_new_thesis\\thesis\\control_day7_day10\\day10\\RBT_DS_4.1_G08-T01.tiff\n",
      "Day7: C:\\Users\\k54739\\Bibi_new_thesis\\thesis\\control_day7_day10\\day7\\RBT_DS_4.1_G09-T01.tiff | Day10: C:\\Users\\k54739\\Bibi_new_thesis\\thesis\\control_day7_day10\\day10\\RBT_DS_4.1_G09-T01.tiff\n",
      "Day7: C:\\Users\\k54739\\Bibi_new_thesis\\thesis\\control_day7_day10\\day7\\RBT_DS_4.1_G10-T01.tiff | Day10: C:\\Users\\k54739\\Bibi_new_thesis\\thesis\\control_day7_day10\\day10\\RBT_DS_4.1_G10-T01.tiff\n",
      "Day7: C:\\Users\\k54739\\Bibi_new_thesis\\thesis\\control_day7_day10\\day7\\RBT_DS_4.1_G11-T01.tiff | Day10: C:\\Users\\k54739\\Bibi_new_thesis\\thesis\\control_day7_day10\\day10\\RBT_DS_4.1_G11-T01.tiff\n",
      "\n",
      "Total number of paired images: 130\n"
     ]
    }
   ],
   "source": [
    "import os\n",
    "\n",
    "class ImagePairingChecker:\n",
    "    def __init__(self, day7_dir, day10_dir):\n",
    "        self.day7_files = {os.path.basename(file): os.path.join(day7_dir, file) for file in os.listdir(day7_dir) if file.endswith('.tiff')}\n",
    "        self.day10_files = {os.path.basename(file): os.path.join(day10_dir, file) for file in os.listdir(day10_dir) if file.endswith('.tiff')}\n",
    "\n",
    "        # Ensure all day7 files have a corresponding day10 file\n",
    "        self.common_files = list(self.day7_files.keys())\n",
    "        assert set(self.common_files) <= set(self.day10_files.keys()), \"Mismatch between day7 and day10 filenames.\"\n",
    "\n",
    "    def print_paired_paths(self):\n",
    "        for filename in self.common_files:\n",
    "            day7_img_path = self.day7_files[filename]\n",
    "            day10_img_path = self.day10_files[filename]\n",
    "            print(f\"Day7: {day7_img_path} | Day10: {day10_img_path}\")\n",
    "        \n",
    "        # Print the total number of pairs\n",
    "        print(f\"\\nTotal number of paired images: {len(self.common_files)}\")\n",
    "\n",
    "\n",
    "# Example usage\n",
    "day7_dir = os.path.abspath(r'C:\\Users\\k54739\\Bibi_new_thesis\\thesis\\control_day7_day10\\day7')\n",
    "day10_dir = os.path.abspath(r'C:\\Users\\k54739\\Bibi_new_thesis\\thesis\\control_day7_day10\\day10')\n",
    "\n",
    "\n",
    "pairing_checker = ImagePairingChecker(day7_dir, day10_dir)\n",
    "pairing_checker.print_paired_paths()"
   ]
  },
  {
   "cell_type": "code",
   "execution_count": null,
   "metadata": {},
   "outputs": [],
   "source": []
  }
 ],
 "metadata": {
  "kernelspec": {
   "display_name": "master",
   "language": "python",
   "name": "python3"
  },
  "language_info": {
   "codemirror_mode": {
    "name": "ipython",
    "version": 3
   },
   "file_extension": ".py",
   "mimetype": "text/x-python",
   "name": "python",
   "nbconvert_exporter": "python",
   "pygments_lexer": "ipython3",
   "version": "3.12.4"
  }
 },
 "nbformat": 4,
 "nbformat_minor": 2
}
