{
 "cells": [
  {
   "cell_type": "code",
   "execution_count": 1,
   "metadata": {},
   "outputs": [],
   "source": [
    "import os\n",
    "import numpy as np\n",
    "import torch\n",
    "from torch import nn, optim\n",
    "from torch.utils.data import Dataset, DataLoader, random_split\n",
    "from torchvision import transforms\n",
    "import torchvision\n",
    "import tifffile as tiff\n",
    "import matplotlib.pyplot as plt\n",
    "import time\n",
    "from tqdm import tqdm\n",
    "from copy import deepcopy\n",
    "import random\n"
   ]
  },
  {
   "cell_type": "code",
   "execution_count": 2,
   "metadata": {},
   "outputs": [
    {
     "name": "stdout",
     "output_type": "stream",
     "text": [
      "Loaded Day 7 Features Shape: torch.Size([646, 20])\n",
      "Loaded Day 10 Features Shape: torch.Size([646, 20])\n"
     ]
    },
    {
     "name": "stderr",
     "output_type": "stream",
     "text": [
      "C:\\Users\\k54739\\AppData\\Local\\Temp\\ipykernel_7544\\1356550951.py:2: FutureWarning: You are using `torch.load` with `weights_only=False` (the current default value), which uses the default pickle module implicitly. It is possible to construct malicious pickle data which will execute arbitrary code during unpickling (See https://github.com/pytorch/pytorch/blob/main/SECURITY.md#untrusted-models for more details). In a future release, the default value for `weights_only` will be flipped to `True`. This limits the functions that could be executed during unpickling. Arbitrary objects will no longer be allowed to be loaded via this mode unless they are explicitly allowlisted by the user via `torch.serialization.add_safe_globals`. We recommend you start setting `weights_only=True` for any use case where you don't have full control of the loaded file. Please open an issue on GitHub for any issues related to this experimental feature.\n",
      "  combined_ex7 = torch.load('combined_ex7.pt')\n",
      "C:\\Users\\k54739\\AppData\\Local\\Temp\\ipykernel_7544\\1356550951.py:5: FutureWarning: You are using `torch.load` with `weights_only=False` (the current default value), which uses the default pickle module implicitly. It is possible to construct malicious pickle data which will execute arbitrary code during unpickling (See https://github.com/pytorch/pytorch/blob/main/SECURITY.md#untrusted-models for more details). In a future release, the default value for `weights_only` will be flipped to `True`. This limits the functions that could be executed during unpickling. Arbitrary objects will no longer be allowed to be loaded via this mode unless they are explicitly allowlisted by the user via `torch.serialization.add_safe_globals`. We recommend you start setting `weights_only=True` for any use case where you don't have full control of the loaded file. Please open an issue on GitHub for any issues related to this experimental feature.\n",
      "  combined_ex10 = torch.load('combined_ex10.pt')\n"
     ]
    }
   ],
   "source": [
    "# Load the saved day 7 features\n",
    "combined_ex7 = torch.load('combined_ex7.pt')\n",
    "\n",
    "# Load the saved day 10 features\n",
    "combined_ex10 = torch.load('combined_ex10.pt')\n",
    "# Verify the shapes\n",
    "print(f\"Loaded Day 7 Features Shape: {combined_ex7.shape}\")\n",
    "print(f\"Loaded Day 10 Features Shape: {combined_ex10.shape}\")\n"
   ]
  },
  {
   "cell_type": "code",
   "execution_count": 3,
   "metadata": {},
   "outputs": [
    {
     "name": "stdout",
     "output_type": "stream",
     "text": [
      "Loaded Day 7 Features Shape: torch.Size([650, 20])\n",
      "Loaded Day 10 Features Shape: torch.Size([650, 20])\n"
     ]
    },
    {
     "name": "stderr",
     "output_type": "stream",
     "text": [
      "C:\\Users\\k54739\\AppData\\Local\\Temp\\ipykernel_7544\\3329391658.py:2: FutureWarning: You are using `torch.load` with `weights_only=False` (the current default value), which uses the default pickle module implicitly. It is possible to construct malicious pickle data which will execute arbitrary code during unpickling (See https://github.com/pytorch/pytorch/blob/main/SECURITY.md#untrusted-models for more details). In a future release, the default value for `weights_only` will be flipped to `True`. This limits the functions that could be executed during unpickling. Arbitrary objects will no longer be allowed to be loaded via this mode unless they are explicitly allowlisted by the user via `torch.serialization.add_safe_globals`. We recommend you start setting `weights_only=True` for any use case where you don't have full control of the loaded file. Please open an issue on GitHub for any issues related to this experimental feature.\n",
      "  combined_cond7 = torch.load('combined_cond7.pt')\n",
      "C:\\Users\\k54739\\AppData\\Local\\Temp\\ipykernel_7544\\3329391658.py:5: FutureWarning: You are using `torch.load` with `weights_only=False` (the current default value), which uses the default pickle module implicitly. It is possible to construct malicious pickle data which will execute arbitrary code during unpickling (See https://github.com/pytorch/pytorch/blob/main/SECURITY.md#untrusted-models for more details). In a future release, the default value for `weights_only` will be flipped to `True`. This limits the functions that could be executed during unpickling. Arbitrary objects will no longer be allowed to be loaded via this mode unless they are explicitly allowlisted by the user via `torch.serialization.add_safe_globals`. We recommend you start setting `weights_only=True` for any use case where you don't have full control of the loaded file. Please open an issue on GitHub for any issues related to this experimental feature.\n",
      "  combined_cond10 = torch.load('combined_cond10.pt')\n"
     ]
    }
   ],
   "source": [
    "# Load the saved day 7 features\n",
    "combined_cond7 = torch.load('combined_cond7.pt')\n",
    "\n",
    "# Load the saved day 10 features\n",
    "combined_cond10 = torch.load('combined_cond10.pt')\n",
    "# Verify the shapes\n",
    "print(f\"Loaded Day 7 Features Shape: {combined_cond7.shape}\")\n",
    "print(f\"Loaded Day 10 Features Shape: {combined_cond10.shape}\")\n"
   ]
  },
  {
   "cell_type": "code",
   "execution_count": 4,
   "metadata": {},
   "outputs": [
    {
     "name": "stdout",
     "output_type": "stream",
     "text": [
      "Loaded Day 7 Features Shape: torch.Size([638, 20])\n",
      "Loaded Day 10 Features Shape: torch.Size([638, 20])\n"
     ]
    },
    {
     "name": "stderr",
     "output_type": "stream",
     "text": [
      "C:\\Users\\k54739\\AppData\\Local\\Temp\\ipykernel_7544\\1607657786.py:2: FutureWarning: You are using `torch.load` with `weights_only=False` (the current default value), which uses the default pickle module implicitly. It is possible to construct malicious pickle data which will execute arbitrary code during unpickling (See https://github.com/pytorch/pytorch/blob/main/SECURITY.md#untrusted-models for more details). In a future release, the default value for `weights_only` will be flipped to `True`. This limits the functions that could be executed during unpickling. Arbitrary objects will no longer be allowed to be loaded via this mode unless they are explicitly allowlisted by the user via `torch.serialization.add_safe_globals`. We recommend you start setting `weights_only=True` for any use case where you don't have full control of the loaded file. Please open an issue on GitHub for any issues related to this experimental feature.\n",
      "  combined_sd7 = torch.load('combined_sd7.pt')\n",
      "C:\\Users\\k54739\\AppData\\Local\\Temp\\ipykernel_7544\\1607657786.py:5: FutureWarning: You are using `torch.load` with `weights_only=False` (the current default value), which uses the default pickle module implicitly. It is possible to construct malicious pickle data which will execute arbitrary code during unpickling (See https://github.com/pytorch/pytorch/blob/main/SECURITY.md#untrusted-models for more details). In a future release, the default value for `weights_only` will be flipped to `True`. This limits the functions that could be executed during unpickling. Arbitrary objects will no longer be allowed to be loaded via this mode unless they are explicitly allowlisted by the user via `torch.serialization.add_safe_globals`. We recommend you start setting `weights_only=True` for any use case where you don't have full control of the loaded file. Please open an issue on GitHub for any issues related to this experimental feature.\n",
      "  combined_sd10 = torch.load('combined_sd10.pt')\n"
     ]
    }
   ],
   "source": [
    "# Load the saved day 7 features\n",
    "combined_sd7 = torch.load('combined_sd7.pt')\n",
    "\n",
    "# Load the saved day 10 features\n",
    "combined_sd10 = torch.load('combined_sd10.pt')\n",
    "\n",
    "# Verify the shapes\n",
    "print(f\"Loaded Day 7 Features Shape: {combined_sd7.shape}\")\n",
    "print(f\"Loaded Day 10 Features Shape: {combined_sd10.shape}\")\n"
   ]
  },
  {
   "cell_type": "code",
   "execution_count": 5,
   "metadata": {},
   "outputs": [],
   "source": [
    "train_day7_feats = combined_ex7 \n",
    "train_day10_feats = combined_ex10 "
   ]
  },
  {
   "cell_type": "code",
   "execution_count": 5,
   "metadata": {},
   "outputs": [],
   "source": [
    "train_day7_feats = combined_sd7 \n",
    "train_day10_feats = combined_sd10 "
   ]
  },
  {
   "cell_type": "code",
   "execution_count": 5,
   "metadata": {},
   "outputs": [],
   "source": [
    "train_day7_feats = combined_cond7 \n",
    "train_day10_feats = combined_cond10 "
   ]
  },
  {
   "cell_type": "code",
   "execution_count": null,
   "metadata": {},
   "outputs": [],
   "source": [
    "train_day7_feats.shape"
   ]
  },
  {
   "cell_type": "code",
   "execution_count": null,
   "metadata": {},
   "outputs": [],
   "source": [
    "type(train_day7_feats)"
   ]
  },
  {
   "cell_type": "code",
   "execution_count": null,
   "metadata": {},
   "outputs": [],
   "source": [
    "train_day7_feats[0].shape"
   ]
  },
  {
   "cell_type": "code",
   "execution_count": 6,
   "metadata": {},
   "outputs": [
    {
     "data": {
      "image/png": "[encoded data removed]",
      "text/plain": [
       "<Figure size 1200x600 with 2 Axes>"
      ]
     },
     "metadata": {},
     "output_type": "display_data"
    },
    {
     "name": "stdout",
     "output_type": "stream",
     "text": [
      "Input (X): Mean=0.4102, Std=3.3335\n",
      "Target (Y): Mean=-0.2299, Std=3.4928\n"
     ]
    }
   ],
   "source": [
    "import matplotlib.pyplot as plt\n",
    "\n",
    "# Plot histograms for input (X) and target (Y)\n",
    "plt.figure(figsize=(12, 6))\n",
    "\n",
    "# Flatten tensors to 1D for easier visualization\n",
    "train_day7_feats_flat = train_day7_feats.flatten().cpu().numpy()\n",
    "train_day10_feats_flat = train_day10_feats.flatten().cpu().numpy()\n",
    "\n",
    "# Input (X) histogram\n",
    "plt.subplot(1, 2, 1)\n",
    "plt.hist(train_day7_feats_flat, bins=50, color='blue', alpha=0.7, label='Input (X)')\n",
    "plt.title('Distribution of Input (X)')\n",
    "plt.xlabel('Value')\n",
    "plt.ylabel('Frequency')\n",
    "plt.legend()\n",
    "\n",
    "# Target (Y) histogram\n",
    "plt.subplot(1, 2, 2)\n",
    "plt.hist(train_day10_feats_flat, bins=50, color='green', alpha=0.7, label='Target (Y)')\n",
    "plt.title('Distribution of Target (Y)')\n",
    "plt.xlabel('Value')\n",
    "plt.ylabel('Frequency')\n",
    "plt.legend()\n",
    "\n",
    "plt.tight_layout()\n",
    "plt.show()\n",
    "\n",
    "# Print summary statistics\n",
    "print(f\"Input (X): Mean={train_day7_feats.mean():.4f}, Std={train_day7_feats.std():.4f}\")\n",
    "print(f\"Target (Y): Mean={train_day10_feats.mean():.4f}, Std={train_day10_feats.std():.4f}\")\n"
   ]
  },
  {
   "cell_type": "code",
   "execution_count": 10,
   "metadata": {},
   "outputs": [],
   "source": [
    "# Convert PyTorch tensor to NumPy array\n",
    "train_day7_feats_numpy = train_day7_feats.numpy()\n",
    "train_day10_feats_numpy = train_day10_feats.numpy()"
   ]
  },
  {
   "cell_type": "code",
   "execution_count": null,
   "metadata": {},
   "outputs": [],
   "source": [
    "from sklearn.preprocessing import MinMaxScaler\n",
    "\n",
    "# Initialize separate MinMaxScaler for day7 and day10\n",
    "scaler_day7 = MinMaxScaler()\n",
    "scaler_day10 = MinMaxScaler()\n",
    "\n",
    "# Fit and transform the train_day7_feats\n",
    "train_day7_feats_minmaxed = scaler_day7.fit_transform(train_day7_feats_numpy)\n",
    "print(train_day7_feats_minmaxed.shape)\n",
    "# Get min and max values for day7\n",
    "min_values_day7 = scaler_day7.data_min_\n",
    "max_values_day7 = scaler_day7.data_max_\n",
    "\n",
    "print(min_values_day7.shape)\n",
    "print(max_values_day7.shape)\n",
    "#print(\"Min values for day7:\", min_values_day7)\n",
    "#print(\"Max values for day7:\", max_values_day7)\n",
    "\n",
    "# Fit and transform the train_day10_feats (target)\n",
    "train_day10_feats_minmaxed = scaler_day10.fit_transform(train_day10_feats_numpy)\n",
    "print(train_day10_feats_minmaxed.shape)\n",
    "# Get min and max values for day10\n",
    "min_values_day10 = scaler_day10.data_min_\n",
    "max_values_day10 = scaler_day10.data_max_\n",
    "\n",
    "print(min_values_day10.shape)\n",
    "print(max_values_day10.shape)\n",
    "#print(\"Min values for day10:\", min_values_day10)\n",
    "#print(\"Max values for day10:\", max_values_day10)\n",
    "\n",
    "# Convert the scaled data back to PyTorch tensors (optional)\n",
    "train_day7_feats_minmaxed = torch.tensor(train_day7_feats_minmaxed)\n",
    "train_day10_feats_minmaxed = torch.tensor(train_day10_feats_minmaxed)\n"
   ]
  },
  {
   "cell_type": "code",
   "execution_count": null,
   "metadata": {},
   "outputs": [],
   "source": [
    "import joblib\n",
    "\n",
    "# Save the scalers to disk\n",
    "joblib.dump(scaler_day7, 'ex7.pkl')\n",
    "joblib.dump(scaler_day10, 'ex10.pkl')\n",
    "\n",
    "print(\"Scalers saved!\")\n"
   ]
  },
  {
   "cell_type": "code",
   "execution_count": null,
   "metadata": {},
   "outputs": [],
   "source": [
    "import joblib\n",
    "\n",
    "# Save the scalers to disk\n",
    "joblib.dump(scaler_day7, 'sd7.pkl')\n",
    "joblib.dump(scaler_day10, 'sd10.pkl')\n",
    "\n",
    "print(\"Scalers saved!\")\n"
   ]
  },
  {
   "cell_type": "code",
   "execution_count": null,
   "metadata": {},
   "outputs": [],
   "source": [
    "import joblib\n",
    "\n",
    "# Save the scalers to disk\n",
    "joblib.dump(scaler_day7, 'cond7.pkl')\n",
    "joblib.dump(scaler_day10, 'cond10.pkl')\n",
    "\n",
    "print(\"Scalers saved!\")\n"
   ]
  },
  {
   "cell_type": "code",
   "execution_count": null,
   "metadata": {},
   "outputs": [],
   "source": [
    "type(train_day7_feats_minmaxed)"
   ]
  },
  {
   "cell_type": "code",
   "execution_count": null,
   "metadata": {},
   "outputs": [],
   "source": [
    "import matplotlib.pyplot as plt\n",
    "\n",
    "# Flatten the tensors for easier visualization\n",
    "train_day7_feats_minmaxed_flat = train_day7_feats_minmaxed.flatten().cpu().numpy()\n",
    "train_day10_feats_minmaxed_flat = train_day10_feats_minmaxed.flatten().cpu().numpy()\n",
    "\n",
    "# Plot histograms\n",
    "plt.figure(figsize=(12, 6))\n",
    "\n",
    "# Input (X) histogram after Min-Max scaling\n",
    "plt.subplot(1, 2, 1)\n",
    "plt.hist(train_day7_feats_minmaxed_flat, bins=50, color='blue', alpha=0.7, label='Min-Max Scaled Input (X)')\n",
    "plt.title('Min-Max Scaled Distribution of Input (X)')\n",
    "plt.xlabel('Value')\n",
    "plt.ylabel('Frequency')\n",
    "plt.legend()\n",
    "\n",
    "# Target (Y) histogram after Min-Max scaling\n",
    "plt.subplot(1, 2, 2)\n",
    "plt.hist(train_day10_feats_minmaxed_flat, bins=50, color='green', alpha=0.7, label='Min-Max Scaled Target (Y)')\n",
    "plt.title('Min-Max Scaled Distribution of Target (Y)')\n",
    "plt.xlabel('Value')\n",
    "plt.ylabel('Frequency')\n",
    "plt.legend()\n",
    "\n",
    "plt.tight_layout()\n",
    "plt.show()\n"
   ]
  },
  {
   "cell_type": "code",
   "execution_count": null,
   "metadata": {},
   "outputs": [],
   "source": [
    "import torch\n",
    "import torch.nn as nn\n",
    "\n",
    "class FeaturePredictor(nn.Module):\n",
    "    def __init__(self, input_size=20, output_size=20):\n",
    "        super().__init__()\n",
    "        self.encoder = nn.Sequential(\n",
    "            nn.Linear(input_size, 16),\n",
    "            nn.BatchNorm1d(16),\n",
    "            nn.ReLU(),\n",
    "            nn.Dropout(0.3),\n",
    "            nn.Linear(16, 8),\n",
    "            nn.BatchNorm1d(8),\n",
    "            nn.ReLU(),\n",
    "            nn.Dropout(0.3),\n",
    "            nn.Linear(8, 4),\n",
    "            nn.BatchNorm1d(4),\n",
    "        )\n",
    "        self.decoder = nn.Sequential(\n",
    "            nn.Linear(4, 8),\n",
    "            nn.BatchNorm1d(8),\n",
    "            nn.ReLU(),\n",
    "            nn.Linear(8, 16),\n",
    "            nn.BatchNorm1d(16),\n",
    "            nn.ReLU(),\n",
    "            nn.Linear(16, output_size)\n",
    "        )\n",
    "    \n",
    "    def forward(self, x):\n",
    "        x = self.encoder(x)\n",
    "        z = self.decoder(x)\n",
    "        return z\n",
    "\n",
    "# Example usage\n",
    "model = FeaturePredictor()\n",
    "print(model)\n"
   ]
  },
  {
   "cell_type": "markdown",
   "metadata": {},
   "source": [
    "class FeaturePredictor(nn.Module):\n",
    "    def __init__(self, input_size=512, output_size=512):\n",
    "        super().__init__()\n",
    "        self.encoder = nn.Sequential(\n",
    "            nn.Linear(input_size, 256),\n",
    "            nn.BatchNorm1d(256),  # Added batch norm\n",
    "            nn.ReLU(),\n",
    "            nn.Dropout(0.3),\n",
    "            nn.Linear(256, 64),\n",
    "            nn.BatchNorm1d(64),   # Added batch norm\n",
    "            nn.ReLU(),\n",
    "            nn.Dropout(0.3),\n",
    "            nn.Linear(64, 16),     # Bottleneck\n",
    "            nn.BatchNorm1d(16),    # Added batch norm for bottleneck\n",
    "        )\n",
    "        self.decoder = nn.Sequential(\n",
    "            nn.Linear(16, 64),\n",
    "            nn.BatchNorm1d(64),   # Added batch norm\n",
    "            nn.ReLU(),\n",
    "            nn.Linear(64, 256),\n",
    "            nn.BatchNorm1d(256),  # Added batch norm\n",
    "            nn.ReLU(),\n",
    "            nn.Linear(256, output_size)\n",
    "        )\n",
    "    \n",
    "    def forward(self, x):\n",
    "        z = self.encoder(x)\n",
    "        return self.decoder(z) + x  # Skip connection\n",
    "    \n",
    "    '''def forward(self, x):\n",
    "        x = self.encoder(x)\n",
    "        z = self.decoder(x)\n",
    "        return z'''"
   ]
  },
  {
   "cell_type": "markdown",
   "metadata": {},
   "source": [
    "import torch.nn as nn\n",
    "from torch.utils.data import TensorDataset, DataLoader\n",
    "\n",
    "class FeaturePredictor(nn.Module):\n",
    "    def __init__(self, input_size=512, output_size=512):\n",
    "        super(FeaturePredictor, self).__init__()\n",
    "        self.model = nn.Sequential(\n",
    "            nn.Linear(input_size, 256),\n",
    "            nn.ReLU(),\n",
    "            nn.Linear(256, 128),\n",
    "            nn.ReLU(),\n",
    "            nn.Linear(128, 64),\n",
    "            nn.ReLU(),\n",
    "            nn.Linear(64, 32),\n",
    "            nn.ReLU(),\n",
    "            nn.Linear(32, 16),\n",
    "            nn.ReLU(),\n",
    "            nn.Linear(16,8),\n",
    "            nn.ReLU(),\n",
    "            nn.Linear(8, 16),\n",
    "            nn.ReLU(),\n",
    "            nn.Linear(16,32),\n",
    "            nn.ReLU(),\n",
    "            nn.Linear(32, 64),\n",
    "            nn.ReLU(),\n",
    "            nn.Linear(64, 128),\n",
    "            nn.ReLU(),\n",
    "            nn.Linear(128,256),\n",
    "            nn.ReLU(),\n",
    "            nn.Linear(256, output_size)\n",
    "        )\n",
    "    \n",
    "    def forward(self, x):\n",
    "        return self.model(x)"
   ]
  },
  {
   "cell_type": "code",
   "execution_count": 15,
   "metadata": {},
   "outputs": [],
   "source": [
    "model = FeaturePredictor()\n",
    "criterion = nn.MSELoss()\n",
    "optimizer = torch.optim.Adam(model.parameters(), lr=1e-4)\n"
   ]
  },
  {
   "cell_type": "code",
   "execution_count": 16,
   "metadata": {},
   "outputs": [],
   "source": [
    "from sklearn.model_selection import KFold\n",
    "from torch.utils.data import DataLoader, Subset"
   ]
  },
  {
   "cell_type": "code",
   "execution_count": 17,
   "metadata": {},
   "outputs": [],
   "source": [
    "from torch.utils.data import TensorDataset\n",
    "\n",
    "optimizer_class = torch.optim.Adam\n",
    "\n"
   ]
  },
  {
   "cell_type": "code",
   "execution_count": 18,
   "metadata": {},
   "outputs": [],
   "source": [
    "from sklearn.model_selection import KFold\n",
    "from torch.utils.data import DataLoader, Subset\n",
    "import numpy as np\n",
    "import torch\n"
   ]
  },
  {
   "cell_type": "code",
   "execution_count": 19,
   "metadata": {},
   "outputs": [],
   "source": [
    "\n",
    "class EarlyStopping:\n",
    "    def __init__(self, patience=10, delta=0.0):\n",
    "        \"\"\"\n",
    "        Args:\n",
    "            patience (int): How many epochs to wait after the last validation loss improvement.\n",
    "            delta (float): Minimum change in the validation loss to qualify as an improvement.\n",
    "        \"\"\"\n",
    "        self.patience = patience\n",
    "        self.delta = delta\n",
    "        self.best_loss = None\n",
    "        self.no_improvement_epochs = 0\n",
    "        self.early_stop = False\n",
    "\n",
    "    def __call__(self, val_loss):\n",
    "        if self.best_loss is None or val_loss < self.best_loss - self.delta:\n",
    "            self.best_loss = val_loss\n",
    "            self.no_improvement_epochs = 0\n",
    "        else:\n",
    "            self.no_improvement_epochs += 1\n",
    "            if self.no_improvement_epochs >= self.patience:\n",
    "                self.early_stop = True\n",
    "\n",
    "\n",
    "def cross_validate_with_early_stopping(\n",
    "    model_class, dataset, criterion, optimizer_class, num_epochs=50, n_splits=10, patience=10, device='cuda'\n",
    "):\n",
    "    kfold = KFold(n_splits=n_splits, shuffle=True, random_state=42)\n",
    "    histories = []\n",
    "    best_models = []\n",
    "\n",
    "    for fold, (train_idx, val_idx) in enumerate(kfold.split(dataset)):\n",
    "        print(f\"Fold {fold + 1}/{n_splits}\")\n",
    "\n",
    "        # Create subsets for this fold\n",
    "        train_subset = Subset(dataset, train_idx)\n",
    "        val_subset = Subset(dataset, val_idx)\n",
    "\n",
    "        # Create DataLoaders\n",
    "        train_loader = DataLoader(train_subset, batch_size=32, shuffle=True)\n",
    "        val_loader = DataLoader(val_subset, batch_size=32, shuffle=False)\n",
    "\n",
    "        # Initialize the model, optimizer, and early stopping for this fold\n",
    "        model = model_class().to(device)\n",
    "        optimizer = optimizer_class(model.parameters(), lr=1e-4)\n",
    "        early_stopping = EarlyStopping(patience=patience)\n",
    "\n",
    "        # Training and validation loop\n",
    "        history = {'train_loss': [], 'val_loss': []}\n",
    "        for epoch in range(num_epochs):\n",
    "            # Training phase\n",
    "            model.train()\n",
    "            train_loss = 0.0\n",
    "            for batch_inputs, batch_targets in train_loader:\n",
    "                batch_inputs, batch_targets = batch_inputs.to(device), batch_targets.to(device)\n",
    "\n",
    "                # Forward pass\n",
    "                outputs = model(batch_inputs)\n",
    "                loss = criterion(outputs, batch_targets)\n",
    "                train_loss += loss.item()\n",
    "\n",
    "                # Backward pass and optimize\n",
    "                optimizer.zero_grad()\n",
    "                loss.backward()\n",
    "                optimizer.step()\n",
    "\n",
    "            train_loss /= len(train_loader)\n",
    "            history['train_loss'].append(train_loss)\n",
    "\n",
    "            # Validation phase\n",
    "            model.eval()\n",
    "            val_loss = 0.0\n",
    "            with torch.no_grad():\n",
    "                for batch_inputs, batch_targets in val_loader:\n",
    "                    batch_inputs, batch_targets = batch_inputs.to(device), batch_targets.to(device)\n",
    "                    outputs = model(batch_inputs)\n",
    "                    loss = criterion(outputs, batch_targets)\n",
    "                    val_loss += loss.item()\n",
    "\n",
    "            val_loss /= len(val_loader)\n",
    "            history['val_loss'].append(val_loss)\n",
    "\n",
    "            print(f\"Epoch [{epoch + 1}/{num_epochs}] Fold {fold + 1}, Train Loss: {train_loss:.4f}, Val Loss: {val_loss:.4f}\")\n",
    "\n",
    "            # Check early stopping\n",
    "            early_stopping(val_loss)\n",
    "            if early_stopping.early_stop:\n",
    "                print(f\"Early stopping at epoch {epoch + 1} for fold {fold + 1}\")\n",
    "                break\n",
    "\n",
    "        # Save the best model for this fold\n",
    "        best_models.append(model.state_dict())\n",
    "        histories.append(history)\n",
    "\n",
    "    return histories, best_models\n",
    "\n"
   ]
  },
  {
   "cell_type": "code",
   "execution_count": null,
   "metadata": {},
   "outputs": [],
   "source": [
    "# MIN MAX\n",
    "dataset = TensorDataset(train_day7_feats_minmaxed, train_day10_feats_minmaxed)\n",
    "\n",
    "cv_histories, best_models = cross_validate_with_early_stopping(\n",
    "    model_class=FeaturePredictor,\n",
    "    dataset=dataset,\n",
    "    criterion=nn.MSELoss(),\n",
    "    optimizer_class=torch.optim.Adam,\n",
    "    num_epochs=1500,\n",
    "    patience=500\n",
    ")\n"
   ]
  },
  {
   "cell_type": "code",
   "execution_count": null,
   "metadata": {},
   "outputs": [],
   "source": [
    "# Example: Average validation loss across folds\n",
    "avg_val_loss = np.mean([history['val_loss'][-1] for history in cv_histories])\n",
    "print(f\"Average Validation Loss: {avg_val_loss:.4f}\")\n"
   ]
  },
  {
   "cell_type": "code",
   "execution_count": null,
   "metadata": {},
   "outputs": [],
   "source": [
    "# Analyze the best results for each fold outside the training function\n",
    "for fold_idx, history in enumerate(cv_histories):\n",
    "    # Find the epoch with the lowest validation loss\n",
    "    best_epoch = int(np.argmin(history['val_loss'])) + 1  # Adding 1 because epochs are 1-indexed\n",
    "    best_val_loss = history['val_loss'][best_epoch - 1]  # Accessing the loss using 0-based index\n",
    "    best_train_loss = history['train_loss'][best_epoch - 1]\n",
    "\n",
    "    print(f\"Fold {fold_idx + 1}:\")\n",
    "    print(f\"  Best Validation Loss = {best_val_loss:.4f}\")\n",
    "    print(f\"  Corresponding Training Loss = {best_train_loss:.4f}\")\n",
    "    print(f\"  Best Epoch = {best_epoch}\")\n"
   ]
  },
  {
   "cell_type": "code",
   "execution_count": 23,
   "metadata": {},
   "outputs": [],
   "source": [
    "def plot_loss_curves_separately(cv_histories):\n",
    "    \"\"\"\n",
    "    Plot training and validation loss curves for each fold in separate figures.\n",
    "    \n",
    "    Args:\n",
    "        cv_histories (list): List of loss histories for each fold.\n",
    "    \"\"\"\n",
    "    # Plot Training Loss\n",
    "    plt.figure(figsize=(10, 6))\n",
    "    for fold, history in enumerate(cv_histories):\n",
    "        epochs = range(1, len(history['train_loss']) + 1)  # Dynamically set range\n",
    "        plt.plot(epochs, history['train_loss'], label=f'Fold {fold + 1} Train Loss')\n",
    "    plt.title('Training Loss per Fold')\n",
    "    plt.xlabel('Epochs')\n",
    "    plt.ylabel('Loss')\n",
    "    plt.legend()\n",
    "    plt.grid(True)\n",
    "    plt.show()\n",
    "\n",
    "    # Plot Validation Loss\n",
    "    plt.figure(figsize=(10, 6))\n",
    "    for fold, history in enumerate(cv_histories):\n",
    "        epochs = range(1, len(history['val_loss']) + 1)  # Dynamically set range\n",
    "        plt.plot(epochs, history['val_loss'], label=f'Fold {fold + 1} Val Loss', linestyle='--')\n",
    "    plt.title('Validation Loss per Fold')\n",
    "    plt.xlabel('Epochs')\n",
    "    plt.ylabel('Loss')\n",
    "    plt.legend()\n",
    "    plt.grid(True)\n",
    "    plt.show()\n"
   ]
  },
  {
   "cell_type": "code",
   "execution_count": null,
   "metadata": {},
   "outputs": [],
   "source": [
    "import matplotlib.pyplot as plt\n",
    "plot_loss_curves_separately(cv_histories)\n"
   ]
  },
  {
   "cell_type": "code",
   "execution_count": null,
   "metadata": {},
   "outputs": [],
   "source": [
    "import torch\n",
    "import numpy as np\n",
    "\n",
    "# Track the best validation loss across all folds\n",
    "lowest_val_loss = float('inf')\n",
    "best_model_idx = -1  # Index of the best model\n",
    "best_model_state = None\n",
    "\n",
    "# Find the fold with the lowest validation loss\n",
    "for fold_idx, history in enumerate(cv_histories):\n",
    "    # Get the best validation loss for this fold\n",
    "    best_val_loss = min(history['val_loss'])\n",
    "    \n",
    "    # Check if this is the lowest validation loss across all folds\n",
    "    if best_val_loss < lowest_val_loss:\n",
    "        lowest_val_loss = best_val_loss\n",
    "        best_model_idx = fold_idx\n",
    "        best_model_state = best_models[fold_idx]\n",
    "\n",
    "# Save the model with the lowest validation loss\n",
    "if best_model_state is not None:\n",
    "    save_path = f'bestmodel_sd_{best_model_idx + 1}.pth'\n",
    "    torch.save(best_model_state, save_path)\n",
    "    print(f\"Model from fold {best_model_idx + 1} with the lowest validation loss ({lowest_val_loss:.4f}) saved to {save_path}.\")\n",
    "else:\n",
    "    print(\"No model to save.\")\n"
   ]
  },
  {
   "cell_type": "code",
   "execution_count": null,
   "metadata": {},
   "outputs": [],
   "source": [
    "s"
   ]
  }
 ],
 "metadata": {
  "kernelspec": {
   "display_name": "master",
   "language": "python",
   "name": "python3"
  },
  "language_info": {
   "codemirror_mode": {
    "name": "ipython",
    "version": 3
   },
   "file_extension": ".py",
   "mimetype": "text/x-python",
   "name": "python",
   "nbconvert_exporter": "python",
   "pygments_lexer": "ipython3",
   "version": "3.12.3"
  }
 },
 "nbformat": 4,
 "nbformat_minor": 2
}
