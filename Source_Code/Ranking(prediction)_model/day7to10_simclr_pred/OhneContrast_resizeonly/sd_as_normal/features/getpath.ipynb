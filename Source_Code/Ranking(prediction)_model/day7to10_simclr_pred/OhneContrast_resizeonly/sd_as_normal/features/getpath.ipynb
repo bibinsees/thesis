{
 "cells": [
  {
   "cell_type": "code",
   "execution_count": 1,
   "metadata": {},
   "outputs": [],
   "source": [
    "import os\n",
    "import numpy as np\n",
    "import torch\n",
    "from torch import nn, optim\n",
    "from torch.utils.data import Dataset, DataLoader, random_split\n",
    "from torchvision import transforms\n",
    "import torchvision\n",
    "import tifffile as tiff\n",
    "import matplotlib.pyplot as plt\n",
    "import time\n",
    "from tqdm import tqdm\n",
    "from copy import deepcopy\n",
    "import random\n",
    "\n",
    "\n",
    "\n",
    "from collections import Counter\n",
    "from scipy.stats import mode\n",
    "\n",
    "import sys\n",
    "import os\n",
    "\n",
    "# Add the directory containing 'aug.py' to the Python path\n",
    "#sys.path.append(os.path.abspath(r\"C:\\Users\\k54739\\Bibi_new_thesis\\thesis\\Source_Code\\Ranking(prediction)_model\\day7to10_simclr_pred\"))\n",
    "#from aug import one_Original,two_Ori_Hori_blur,three_Orig_Veri_sharp,four_Orig_verihori_sharp_blur,five_only_D10_Hori,six_only_D10_veri,seven_D10_verihori,ate_only_D7_Hori,nine_only_D7_veri,ten_D7_verihori,eleven_Orig_R90_sharp_blur,twelve_Orig_R270_sharp_blur,thirteen_Orig_HoriR90_sharp_blur,fourteen_Orig_HoriR270_sharp_blur,fifteen_D7_R90,sixteen_D7_R270,seventeen_D7_HoriR90,ateen_D7_HoriR270,ninteen_D10_R90,twenty_D10_R270,twentyone_D10_HoriR90,twentytwo_D10_HoriR270"
   ]
  },
  {
   "cell_type": "code",
   "execution_count": 2,
   "metadata": {},
   "outputs": [],
   "source": [
    "# Set seed for reproducibility\n",
    "def set_seed(seed):\n",
    "    random.seed(seed)\n",
    "    np.random.seed(seed)\n",
    "    torch.manual_seed(seed)\n",
    "    if torch.cuda.is_available():\n",
    "        torch.cuda.manual_seed(seed)\n",
    "        torch.cuda.manual_seed_all(seed)\n",
    "    torch.backends.cudnn.deterministic = True\n",
    "    torch.backends.cudnn.benchmark = False\n",
    "\n",
    "# Set seed\n",
    "set_seed(42)"
   ]
  },
  {
   "cell_type": "code",
   "execution_count": 3,
   "metadata": {},
   "outputs": [],
   "source": [
    "# Set the device\n",
    "device = torch.device(\"cuda\" if torch.cuda.is_available() else \"cpu\")"
   ]
  },
  {
   "cell_type": "code",
   "execution_count": 4,
   "metadata": {},
   "outputs": [],
   "source": [
    "full_model_path =  r'C:\\Users\\k54739\\Bibi_new_thesis\\thesis\\Source_Code\\SimCLR_base_models\\ohnecontrast_balancedResize_simclr_modelepoch245.pth' "
   ]
  },
  {
   "cell_type": "code",
   "execution_count": 5,
   "metadata": {},
   "outputs": [],
   "source": [
    "class SimCLR(nn.Module):\n",
    "    def __init__(self, hidden_dim, lr, temperature, weight_decay,max_epochs):\n",
    "        super().__init__()\n",
    "        self.temperature = temperature\n",
    "        \n",
    "        # Load the pretrained ResNet-18 model\n",
    "        self.convnet = torchvision.models.resnet18(weights='ResNet18_Weights.DEFAULT')\n",
    "        \n",
    "        # Modify the fully connected layer\n",
    "        self.convnet.fc = nn.Sequential(\n",
    "            nn.Linear(self.convnet.fc.in_features, 4 * hidden_dim),  # Linear layer with 4*hidden_dim output\n",
    "            nn.ReLU(inplace=True),\n",
    "            nn.Linear(4 * hidden_dim, 20)  # Output layer with hidden_dim output\n",
    "        )\n",
    "\n",
    "        self.optimizer = optim.AdamW(self.parameters(), lr=lr, weight_decay=weight_decay)\n",
    "        self.lr_scheduler = optim.lr_scheduler.CosineAnnealingLR(self.optimizer, T_max=max_epochs, eta_min=lr / 50)\n",
    "\n",
    "    def forward(self, x):\n",
    "        return self.convnet(x)\n",
    "\n",
    "    def info_nce_loss(self, imgs1, imgs2, device):\n",
    "\n",
    "        imgs = torch.cat((imgs1, imgs2), dim=0)  # Concatenate along the batch dimension\n",
    "        imgs = imgs.to(device)  # Move images to the device\n",
    "\n",
    "        # Encode all images\n",
    "        feats = self.forward(imgs)\n",
    "    \n",
    "        # Calculate cosine similarity\n",
    "        cos_sim = nn.functional.cosine_similarity(feats[:, None, :], feats[None, :, :], dim=-1)\n",
    "    \n",
    "        # Mask out cosine similarity to itself\n",
    "        self_mask = torch.eye(cos_sim.shape[0], dtype=torch.bool, device=cos_sim.device)\n",
    "        cos_sim.masked_fill_(self_mask, -9e15)\n",
    "    \n",
    "        # Find positive example -> batch_size//2 away from the original example\n",
    "        pos_mask = self_mask.roll(shifts=cos_sim.shape[0] // 2, dims=0)\n",
    "    \n",
    "        # Normalize similarity scores by temperature\n",
    "        cos_sim = cos_sim / self.temperature\n",
    "\n",
    "        # InfoNCE loss\n",
    "        nll = -cos_sim[pos_mask] + torch.logsumexp(cos_sim, dim=-1)\n",
    "        nll = nll.mean()\n",
    "\n",
    "        # Accuracy calculations\n",
    "        # Create a combination of positive and negative similarities for ranking\n",
    "        comb_sim = torch.cat([cos_sim[pos_mask][:, None],  # Positive example in first position\n",
    "                          cos_sim.masked_fill(pos_mask, -9e15)], dim=-1)\n",
    "    \n",
    "        # Sort and get the ranking position of the positive example\n",
    "        sim_argsort = comb_sim.argsort(dim=-1, descending=True).argmin(dim=-1)\n",
    "    \n",
    "        # Compute accuracy metrics\n",
    "        top1_acc = (sim_argsort == 0).float().mean()  # Top-1 accuracy\n",
    "        top5_acc = (sim_argsort < 5).float().mean()   # Top-5 accuracy\n",
    "        mean_pos = 1 + sim_argsort.float().mean()     # Mean position of the positive example\n",
    "\n",
    "        return nll, top1_acc, top5_acc, mean_pos\n",
    "\n",
    "    def train_epoch(self, train_loader, device):\n",
    "        self.train()\n",
    "        total_loss = 0.0\n",
    "        total_top1_acc = 0.0\n",
    "        total_top5_acc = 0.0\n",
    "        total_mean_pos = 0.0\n",
    "\n",
    "        for batch in tqdm(train_loader, desc=\"Training\", leave=False):\n",
    "            imgs1, imgs2, _ = batch\n",
    "            imgs1, imgs2 = imgs1.to(device), imgs2.to(device)  # Move data to device\n",
    "        \n",
    "            self.optimizer.zero_grad()\n",
    "\n",
    "            # Calculate loss and accuracy metrics\n",
    "            loss, top1_acc, top5_acc, mean_pos = self.info_nce_loss(imgs1, imgs2, device)\n",
    "\n",
    "            loss.backward()\n",
    "            self.optimizer.step()\n",
    "            #self.lr_scheduler.step()\n",
    "\n",
    "            # Accumulate metrics\n",
    "            total_loss += loss.item()\n",
    "            total_top1_acc += top1_acc.item()\n",
    "            total_top5_acc += top5_acc.item()\n",
    "            total_mean_pos += mean_pos.item()\n",
    "\n",
    "        avg_loss = total_loss / len(train_loader)\n",
    "        avg_top1_acc = total_top1_acc / len(train_loader)\n",
    "        avg_top5_acc = total_top5_acc / len(train_loader)\n",
    "        avg_mean_pos = total_mean_pos / len(train_loader)\n",
    "\n",
    "        return avg_loss, avg_top1_acc, avg_top5_acc, avg_mean_pos\n",
    "\n",
    "    def validate_epoch(self, val_loader, device):\n",
    "        self.eval()\n",
    "        total_loss = 0.0\n",
    "        total_top1_acc = 0.0\n",
    "        total_top5_acc = 0.0\n",
    "        total_mean_pos = 0.0\n",
    "\n",
    "        with torch.no_grad():\n",
    "            for batch in tqdm(val_loader, desc=\"Validating\", leave=False):\n",
    "                imgs1, imgs2, _ = batch\n",
    "                imgs1, imgs2 = imgs1.to(device), imgs2.to(device)  # Move data to device\n",
    "\n",
    "                # Calculate loss and accuracy metrics\n",
    "                loss, top1_acc, top5_acc, mean_pos = self.info_nce_loss(imgs1, imgs2, device)\n",
    "\n",
    "                # Accumulate metrics\n",
    "                total_loss += loss.item()\n",
    "                total_top1_acc += top1_acc.item()\n",
    "                total_top5_acc += top5_acc.item()\n",
    "                total_mean_pos += mean_pos.item()\n",
    "\n",
    "        avg_loss = total_loss / len(val_loader)\n",
    "        avg_top1_acc = total_top1_acc / len(val_loader)\n",
    "        avg_top5_acc = total_top5_acc / len(val_loader)\n",
    "        avg_mean_pos = total_mean_pos / len(val_loader)\n",
    "\n",
    "        return avg_loss, avg_top1_acc, avg_top5_acc, avg_mean_pos\n",
    "    \n",
    "\n",
    "    def inference_epoch(self, inference_loader, device):\n",
    "        self.eval()\n",
    "        total_loss = 0.0\n",
    "        total_top1_acc = 0.0\n",
    "        total_top5_acc = 0.0\n",
    "        total_mean_pos = 0.0\n",
    "\n",
    "        with torch.no_grad():\n",
    "            for batch in tqdm(inference_loader, desc=\"Inferencing\", leave=False):\n",
    "                imgs1, imgs2, _ = batch\n",
    "                imgs1, imgs2 = imgs1.to(device), imgs2.to(device)  # Move data to device\n",
    "\n",
    "                # Calculate loss and accuracy metrics\n",
    "                loss, top1_acc, top5_acc, mean_pos = self.info_nce_loss(imgs1, imgs2, device)\n",
    "\n",
    "                # Accumulate metrics\n",
    "                total_loss += loss.item()\n",
    "                total_top1_acc += top1_acc.item()\n",
    "                total_top5_acc += top5_acc.item()\n",
    "                total_mean_pos += mean_pos.item()\n",
    "\n",
    "        avg_loss = total_loss / len(inference_loader)\n",
    "        avg_top1_acc = total_top1_acc / len(inference_loader)\n",
    "        avg_top5_acc = total_top5_acc / len(inference_loader)\n",
    "        avg_mean_pos = total_mean_pos / len(inference_loader)\n",
    "\n",
    "        return avg_loss, avg_top1_acc, avg_top5_acc, avg_mean_pos"
   ]
  },
  {
   "cell_type": "code",
   "execution_count": 6,
   "metadata": {},
   "outputs": [
    {
     "name": "stderr",
     "output_type": "stream",
     "text": [
      "C:\\Users\\k54739\\AppData\\Local\\Temp\\ipykernel_13076\\1467178467.py:2: FutureWarning: You are using `torch.load` with `weights_only=False` (the current default value), which uses the default pickle module implicitly. It is possible to construct malicious pickle data which will execute arbitrary code during unpickling (See https://github.com/pytorch/pytorch/blob/main/SECURITY.md#untrusted-models for more details). In a future release, the default value for `weights_only` will be flipped to `True`. This limits the functions that could be executed during unpickling. Arbitrary objects will no longer be allowed to be loaded via this mode unless they are explicitly allowlisted by the user via `torch.serialization.add_safe_globals`. We recommend you start setting `weights_only=True` for any use case where you don't have full control of the loaded file. Please open an issue on GitHub for any issues related to this experimental feature.\n",
      "  simclr_model.load_state_dict(torch.load(full_model_path))\n"
     ]
    },
    {
     "data": {
      "text/plain": [
       "SimCLR(\n",
       "  (convnet): ResNet(\n",
       "    (conv1): Conv2d(3, 64, kernel_size=(7, 7), stride=(2, 2), padding=(3, 3), bias=False)\n",
       "    (bn1): BatchNorm2d(64, eps=1e-05, momentum=0.1, affine=True, track_running_stats=True)\n",
       "    (relu): ReLU(inplace=True)\n",
       "    (maxpool): MaxPool2d(kernel_size=3, stride=2, padding=1, dilation=1, ceil_mode=False)\n",
       "    (layer1): Sequential(\n",
       "      (0): BasicBlock(\n",
       "        (conv1): Conv2d(64, 64, kernel_size=(3, 3), stride=(1, 1), padding=(1, 1), bias=False)\n",
       "        (bn1): BatchNorm2d(64, eps=1e-05, momentum=0.1, affine=True, track_running_stats=True)\n",
       "        (relu): ReLU(inplace=True)\n",
       "        (conv2): Conv2d(64, 64, kernel_size=(3, 3), stride=(1, 1), padding=(1, 1), bias=False)\n",
       "        (bn2): BatchNorm2d(64, eps=1e-05, momentum=0.1, affine=True, track_running_stats=True)\n",
       "      )\n",
       "      (1): BasicBlock(\n",
       "        (conv1): Conv2d(64, 64, kernel_size=(3, 3), stride=(1, 1), padding=(1, 1), bias=False)\n",
       "        (bn1): BatchNorm2d(64, eps=1e-05, momentum=0.1, affine=True, track_running_stats=True)\n",
       "        (relu): ReLU(inplace=True)\n",
       "        (conv2): Conv2d(64, 64, kernel_size=(3, 3), stride=(1, 1), padding=(1, 1), bias=False)\n",
       "        (bn2): BatchNorm2d(64, eps=1e-05, momentum=0.1, affine=True, track_running_stats=True)\n",
       "      )\n",
       "    )\n",
       "    (layer2): Sequential(\n",
       "      (0): BasicBlock(\n",
       "        (conv1): Conv2d(64, 128, kernel_size=(3, 3), stride=(2, 2), padding=(1, 1), bias=False)\n",
       "        (bn1): BatchNorm2d(128, eps=1e-05, momentum=0.1, affine=True, track_running_stats=True)\n",
       "        (relu): ReLU(inplace=True)\n",
       "        (conv2): Conv2d(128, 128, kernel_size=(3, 3), stride=(1, 1), padding=(1, 1), bias=False)\n",
       "        (bn2): BatchNorm2d(128, eps=1e-05, momentum=0.1, affine=True, track_running_stats=True)\n",
       "        (downsample): Sequential(\n",
       "          (0): Conv2d(64, 128, kernel_size=(1, 1), stride=(2, 2), bias=False)\n",
       "          (1): BatchNorm2d(128, eps=1e-05, momentum=0.1, affine=True, track_running_stats=True)\n",
       "        )\n",
       "      )\n",
       "      (1): BasicBlock(\n",
       "        (conv1): Conv2d(128, 128, kernel_size=(3, 3), stride=(1, 1), padding=(1, 1), bias=False)\n",
       "        (bn1): BatchNorm2d(128, eps=1e-05, momentum=0.1, affine=True, track_running_stats=True)\n",
       "        (relu): ReLU(inplace=True)\n",
       "        (conv2): Conv2d(128, 128, kernel_size=(3, 3), stride=(1, 1), padding=(1, 1), bias=False)\n",
       "        (bn2): BatchNorm2d(128, eps=1e-05, momentum=0.1, affine=True, track_running_stats=True)\n",
       "      )\n",
       "    )\n",
       "    (layer3): Sequential(\n",
       "      (0): BasicBlock(\n",
       "        (conv1): Conv2d(128, 256, kernel_size=(3, 3), stride=(2, 2), padding=(1, 1), bias=False)\n",
       "        (bn1): BatchNorm2d(256, eps=1e-05, momentum=0.1, affine=True, track_running_stats=True)\n",
       "        (relu): ReLU(inplace=True)\n",
       "        (conv2): Conv2d(256, 256, kernel_size=(3, 3), stride=(1, 1), padding=(1, 1), bias=False)\n",
       "        (bn2): BatchNorm2d(256, eps=1e-05, momentum=0.1, affine=True, track_running_stats=True)\n",
       "        (downsample): Sequential(\n",
       "          (0): Conv2d(128, 256, kernel_size=(1, 1), stride=(2, 2), bias=False)\n",
       "          (1): BatchNorm2d(256, eps=1e-05, momentum=0.1, affine=True, track_running_stats=True)\n",
       "        )\n",
       "      )\n",
       "      (1): BasicBlock(\n",
       "        (conv1): Conv2d(256, 256, kernel_size=(3, 3), stride=(1, 1), padding=(1, 1), bias=False)\n",
       "        (bn1): BatchNorm2d(256, eps=1e-05, momentum=0.1, affine=True, track_running_stats=True)\n",
       "        (relu): ReLU(inplace=True)\n",
       "        (conv2): Conv2d(256, 256, kernel_size=(3, 3), stride=(1, 1), padding=(1, 1), bias=False)\n",
       "        (bn2): BatchNorm2d(256, eps=1e-05, momentum=0.1, affine=True, track_running_stats=True)\n",
       "      )\n",
       "    )\n",
       "    (layer4): Sequential(\n",
       "      (0): BasicBlock(\n",
       "        (conv1): Conv2d(256, 512, kernel_size=(3, 3), stride=(2, 2), padding=(1, 1), bias=False)\n",
       "        (bn1): BatchNorm2d(512, eps=1e-05, momentum=0.1, affine=True, track_running_stats=True)\n",
       "        (relu): ReLU(inplace=True)\n",
       "        (conv2): Conv2d(512, 512, kernel_size=(3, 3), stride=(1, 1), padding=(1, 1), bias=False)\n",
       "        (bn2): BatchNorm2d(512, eps=1e-05, momentum=0.1, affine=True, track_running_stats=True)\n",
       "        (downsample): Sequential(\n",
       "          (0): Conv2d(256, 512, kernel_size=(1, 1), stride=(2, 2), bias=False)\n",
       "          (1): BatchNorm2d(512, eps=1e-05, momentum=0.1, affine=True, track_running_stats=True)\n",
       "        )\n",
       "      )\n",
       "      (1): BasicBlock(\n",
       "        (conv1): Conv2d(512, 512, kernel_size=(3, 3), stride=(1, 1), padding=(1, 1), bias=False)\n",
       "        (bn1): BatchNorm2d(512, eps=1e-05, momentum=0.1, affine=True, track_running_stats=True)\n",
       "        (relu): ReLU(inplace=True)\n",
       "        (conv2): Conv2d(512, 512, kernel_size=(3, 3), stride=(1, 1), padding=(1, 1), bias=False)\n",
       "        (bn2): BatchNorm2d(512, eps=1e-05, momentum=0.1, affine=True, track_running_stats=True)\n",
       "      )\n",
       "    )\n",
       "    (avgpool): AdaptiveAvgPool2d(output_size=(1, 1))\n",
       "    (fc): Sequential(\n",
       "      (0): Linear(in_features=512, out_features=512, bias=True)\n",
       "      (1): ReLU(inplace=True)\n",
       "      (2): Linear(in_features=512, out_features=20, bias=True)\n",
       "    )\n",
       "  )\n",
       ")"
      ]
     },
     "execution_count": 6,
     "metadata": {},
     "output_type": "execute_result"
    }
   ],
   "source": [
    "simclr_model = SimCLR(hidden_dim=128, lr=5e-4, temperature=0.07, weight_decay=1e-4,max_epochs=245)\n",
    "simclr_model.load_state_dict(torch.load(full_model_path))\n",
    "simclr_model.to(device)\n",
    "simclr_model.eval()"
   ]
  },
  {
   "cell_type": "code",
   "execution_count": 7,
   "metadata": {},
   "outputs": [],
   "source": [
    "import random\n",
    "import torchvision.transforms.functional as TF"
   ]
  },
  {
   "cell_type": "code",
   "execution_count": 8,
   "metadata": {},
   "outputs": [],
   "source": [
    "# Specify paths for both day7 and day10 folders\n",
    "\n",
    "con_day7_dir = r'C:\\Users\\k54739\\Bibi_new_thesis\\thesis\\day7_day10\\control130_all\\combined\\day7'\n",
    "con_day10_dir = r'C:\\Users\\k54739\\Bibi_new_thesis\\thesis\\day7_day10\\control130_all\\combined\\day10'"
   ]
  },
  {
   "cell_type": "code",
   "execution_count": 9,
   "metadata": {},
   "outputs": [],
   "source": [
    "ex_day7_dir = r'C:\\Users\\k54739\\Bibi_new_thesis\\thesis\\day7_day10\\exploded38\\day7'\n",
    "ex_day10_dir = r'C:\\Users\\k54739\\Bibi_new_thesis\\thesis\\day7_day10\\exploded38\\day10'"
   ]
  },
  {
   "cell_type": "code",
   "execution_count": 10,
   "metadata": {},
   "outputs": [],
   "source": [
    "sd_day7_dir = r'C:\\Users\\k54739\\Bibi_new_thesis\\thesis\\day7_day10\\sd_ds\\single_dose\\RBT 01.04_gant61\\Before (untreated) Day7\\GANT61'\n",
    "sd_day10_dir = r'C:\\Users\\k54739\\Bibi_new_thesis\\thesis\\day7_day10\\sd_ds\\single_dose\\RBT 01.04_gant61\\After Day10\\GANT61'"
   ]
  },
  {
   "cell_type": "code",
   "execution_count": 11,
   "metadata": {},
   "outputs": [],
   "source": [
    "from torchvision.transforms import Resize"
   ]
  },
  {
   "cell_type": "code",
   "execution_count": 12,
   "metadata": {},
   "outputs": [],
   "source": [
    "class Original(Dataset):\n",
    "    def __init__(self, day7_dir, day10_dir):\n",
    "        self.day7_files = {os.path.basename(file): os.path.join(day7_dir, file) for file in os.listdir(day7_dir)if file.endswith(('.tiff', '.tif'))}\n",
    "        self.day10_files = {os.path.basename(file): os.path.join(day10_dir, file) for file in os.listdir(day10_dir) if file.endswith(('.tiff', '.tif'))}\n",
    "      \n",
    "        # Ensure all day7 files have a corresponding day10 file\n",
    "        self.common_files = list(self.day7_files.keys())\n",
    "        assert set(self.common_files) <= set(self.day10_files.keys()), \"Mismatch between day7 and day10 filenames.\"\n",
    "        self.resize = Resize((96, 96))\n",
    "\n",
    "    def __len__(self):\n",
    "        return len(self.common_files)\n",
    "\n",
    "    def __getitem__(self, idx):\n",
    "        filename = self.common_files[idx]\n",
    "        day7_img_path = self.day7_files[filename]\n",
    "        day10_img_path = self.day10_files[filename]\n",
    "\n",
    "        # Load the images\n",
    "        day7_img = tiff.imread(day7_img_path)\n",
    "        day10_img = tiff.imread(day10_img_path)\n",
    "\n",
    "        # Ensure the images have 3 layers (channels)\n",
    "        if day7_img.shape[0] != 3:\n",
    "            raise ValueError(f\"Day7 image at {day7_img_path} does not have exactly 3 layers. Found shape: {day7_img.shape}.\")\n",
    "        if day10_img.shape[0] != 3:\n",
    "            raise ValueError(f\"Day10 image at {day10_img_path} does not have exactly 3 layers. Found shape: {day10_img.shape}.\")\n",
    "\n",
    "        # Normalize and convert both images\n",
    "        day7_img = day7_img.astype(np.float32) / 65535.0\n",
    "        day10_img = day10_img.astype(np.float32) / 65535.0\n",
    "\n",
    "        # Convert to tensors\n",
    "        day7_img = torch.tensor(day7_img, dtype=torch.float32)\n",
    "        day10_img = torch.tensor(day10_img, dtype=torch.float32)\n",
    "\n",
    "        day7_img = self.resize(day7_img)\n",
    "        day10_img = self.resize(day10_img)\n",
    "\n",
    "\n",
    "        return day7_img, day10_img, day10_img_path\n",
    "\n",
    "\n",
    "# Create the dataset\n",
    "sd_dataset = Original(sd_day7_dir, sd_day10_dir) \n",
    "batch_size = 16\n",
    "# Define DataLoaders\n",
    "sd_loader = DataLoader(sd_dataset, batch_size=batch_size, shuffle=False, drop_last=False, pin_memory=True, num_workers=0) #num_workers=os.cpu count() using cluster gpu"
   ]
  },
  {
   "cell_type": "code",
   "execution_count": 13,
   "metadata": {},
   "outputs": [],
   "source": [
    "# Create the dataset\n",
    "ex_dataset = Original(ex_day7_dir, ex_day10_dir) \n",
    "batch_size = 16\n",
    "# Define DataLoaders\n",
    "ex_loader = DataLoader(ex_dataset, batch_size=batch_size, shuffle=False, drop_last=False, pin_memory=True, num_workers=0) #num_workers=os.cpu count() using cluster gpu"
   ]
  },
  {
   "cell_type": "code",
   "execution_count": 14,
   "metadata": {},
   "outputs": [],
   "source": [
    "con_dataset = Original(con_day7_dir, con_day10_dir) \n",
    "batch_size = 16\n",
    "# Define DataLoaders\n",
    "con_loader = DataLoader(con_dataset, batch_size=batch_size, shuffle=False, drop_last=False, pin_memory=True, num_workers=0) #num_workers=os.cpu count() using cluster gpu"
   ]
  },
  {
   "cell_type": "code",
   "execution_count": 15,
   "metadata": {},
   "outputs": [],
   "source": [
    "@torch.no_grad()\n",
    "def prepare_data_features(model, dataloader):\n",
    "    # Prepare model\n",
    "    network = deepcopy(model.convnet)\n",
    "    network.fc = nn.Identity()  # Removing projection head g(.)\n",
    "    network.eval()\n",
    "    network.to(device)\n",
    "\n",
    "    # Encode all paired images\n",
    "    day7_feats = []\n",
    "    day10_feats = []\n",
    "    d10_imgpaths = []\n",
    "    for batch_day7_imgs, batch_day10_imgs, batch_d10_imgpath in tqdm(dataloader):\n",
    "        # Move images to the device\n",
    "        batch_day7_imgs = batch_day7_imgs.to(device)\n",
    "        batch_day10_imgs = batch_day10_imgs.to(device)\n",
    "\n",
    "        # Extract features for day7 and day10 images\n",
    "        batch_day7_feats = network(batch_day7_imgs)\n",
    "        batch_day10_feats = network(batch_day10_imgs)\n",
    "\n",
    "        print(f\"Day 7 Batch features shape: {batch_day7_feats.shape}\")\n",
    "        print(f\"Day 10 Batch features shape: {batch_day10_feats.shape}\")\n",
    "\n",
    "        # Collect features\n",
    "        day7_feats.append(batch_day7_feats.detach().cpu())\n",
    "        day10_feats.append(batch_day10_feats.detach().cpu())\n",
    "\n",
    "        d10_imgpaths.extend(batch_d10_imgpath)\n",
    "\n",
    "    # Concatenate features\n",
    "    day7_feats = torch.cat(day7_feats, dim=0)\n",
    "    day10_feats = torch.cat(day10_feats, dim=0)\n",
    "\n",
    "    print(f\"Day 7 Features shape after concatenation: {day7_feats.shape}\")\n",
    "    print(f\"Day 10 Features shape after concatenation: {day10_feats.shape}\")\n",
    "\n",
    "    return day7_feats, day10_feats, d10_imgpaths\n"
   ]
  },
  {
   "cell_type": "code",
   "execution_count": 16,
   "metadata": {},
   "outputs": [
    {
     "name": "stderr",
     "output_type": "stream",
     "text": [
      " 33%|███▎      | 1/3 [00:01<00:03,  1.78s/it]"
     ]
    },
    {
     "name": "stdout",
     "output_type": "stream",
     "text": [
      "Day 7 Batch features shape: torch.Size([16, 512])\n",
      "Day 10 Batch features shape: torch.Size([16, 512])\n"
     ]
    },
    {
     "name": "stderr",
     "output_type": "stream",
     "text": [
      " 67%|██████▋   | 2/3 [00:03<00:01,  1.59s/it]"
     ]
    },
    {
     "name": "stdout",
     "output_type": "stream",
     "text": [
      "Day 7 Batch features shape: torch.Size([16, 512])\n",
      "Day 10 Batch features shape: torch.Size([16, 512])\n"
     ]
    },
    {
     "name": "stderr",
     "output_type": "stream",
     "text": [
      "100%|██████████| 3/3 [00:03<00:00,  1.29s/it]"
     ]
    },
    {
     "name": "stdout",
     "output_type": "stream",
     "text": [
      "Day 7 Batch features shape: torch.Size([6, 512])\n",
      "Day 10 Batch features shape: torch.Size([6, 512])\n",
      "Day 7 Features shape after concatenation: torch.Size([38, 512])\n",
      "Day 10 Features shape after concatenation: torch.Size([38, 512])\n"
     ]
    },
    {
     "name": "stderr",
     "output_type": "stream",
     "text": [
      "\n"
     ]
    }
   ],
   "source": [
    "# Extract features from the training dataset\n",
    "ex7, ex10, exd10_paths = prepare_data_features(simclr_model, ex_loader)"
   ]
  },
  {
   "cell_type": "code",
   "execution_count": 17,
   "metadata": {},
   "outputs": [
    {
     "name": "stderr",
     "output_type": "stream",
     "text": [
      " 11%|█         | 1/9 [00:01<00:11,  1.45s/it]"
     ]
    },
    {
     "name": "stdout",
     "output_type": "stream",
     "text": [
      "Day 7 Batch features shape: torch.Size([16, 512])\n",
      "Day 10 Batch features shape: torch.Size([16, 512])\n"
     ]
    },
    {
     "name": "stderr",
     "output_type": "stream",
     "text": [
      " 22%|██▏       | 2/9 [00:02<00:10,  1.46s/it]"
     ]
    },
    {
     "name": "stdout",
     "output_type": "stream",
     "text": [
      "Day 7 Batch features shape: torch.Size([16, 512])\n",
      "Day 10 Batch features shape: torch.Size([16, 512])\n"
     ]
    },
    {
     "name": "stderr",
     "output_type": "stream",
     "text": [
      " 33%|███▎      | 3/9 [00:04<00:08,  1.43s/it]"
     ]
    },
    {
     "name": "stdout",
     "output_type": "stream",
     "text": [
      "Day 7 Batch features shape: torch.Size([16, 512])\n",
      "Day 10 Batch features shape: torch.Size([16, 512])\n"
     ]
    },
    {
     "name": "stderr",
     "output_type": "stream",
     "text": [
      " 44%|████▍     | 4/9 [00:05<00:07,  1.44s/it]"
     ]
    },
    {
     "name": "stdout",
     "output_type": "stream",
     "text": [
      "Day 7 Batch features shape: torch.Size([16, 512])\n",
      "Day 10 Batch features shape: torch.Size([16, 512])\n"
     ]
    },
    {
     "name": "stderr",
     "output_type": "stream",
     "text": [
      " 56%|█████▌    | 5/9 [00:07<00:05,  1.42s/it]"
     ]
    },
    {
     "name": "stdout",
     "output_type": "stream",
     "text": [
      "Day 7 Batch features shape: torch.Size([16, 512])\n",
      "Day 10 Batch features shape: torch.Size([16, 512])\n"
     ]
    },
    {
     "name": "stderr",
     "output_type": "stream",
     "text": [
      " 67%|██████▋   | 6/9 [00:08<00:04,  1.42s/it]"
     ]
    },
    {
     "name": "stdout",
     "output_type": "stream",
     "text": [
      "Day 7 Batch features shape: torch.Size([16, 512])\n",
      "Day 10 Batch features shape: torch.Size([16, 512])\n"
     ]
    },
    {
     "name": "stderr",
     "output_type": "stream",
     "text": [
      " 78%|███████▊  | 7/9 [00:09<00:02,  1.40s/it]"
     ]
    },
    {
     "name": "stdout",
     "output_type": "stream",
     "text": [
      "Day 7 Batch features shape: torch.Size([16, 512])\n",
      "Day 10 Batch features shape: torch.Size([16, 512])\n"
     ]
    },
    {
     "name": "stderr",
     "output_type": "stream",
     "text": [
      " 89%|████████▉ | 8/9 [00:11<00:01,  1.43s/it]"
     ]
    },
    {
     "name": "stdout",
     "output_type": "stream",
     "text": [
      "Day 7 Batch features shape: torch.Size([16, 512])\n",
      "Day 10 Batch features shape: torch.Size([16, 512])\n"
     ]
    },
    {
     "name": "stderr",
     "output_type": "stream",
     "text": [
      "100%|██████████| 9/9 [00:11<00:00,  1.30s/it]"
     ]
    },
    {
     "name": "stdout",
     "output_type": "stream",
     "text": [
      "Day 7 Batch features shape: torch.Size([2, 512])\n",
      "Day 10 Batch features shape: torch.Size([2, 512])\n",
      "Day 7 Features shape after concatenation: torch.Size([130, 512])\n",
      "Day 10 Features shape after concatenation: torch.Size([130, 512])\n"
     ]
    },
    {
     "name": "stderr",
     "output_type": "stream",
     "text": [
      "\n"
     ]
    }
   ],
   "source": [
    "# Extract features from the training dataset\n",
    "cond7, cond10, cond10_paths = prepare_data_features(simclr_model, con_loader)"
   ]
  },
  {
   "cell_type": "code",
   "execution_count": 18,
   "metadata": {},
   "outputs": [
    {
     "name": "stderr",
     "output_type": "stream",
     "text": [
      " 50%|█████     | 1/2 [00:01<00:01,  1.55s/it]"
     ]
    },
    {
     "name": "stdout",
     "output_type": "stream",
     "text": [
      "Day 7 Batch features shape: torch.Size([16, 512])\n",
      "Day 10 Batch features shape: torch.Size([16, 512])\n"
     ]
    },
    {
     "name": "stderr",
     "output_type": "stream",
     "text": [
      "100%|██████████| 2/2 [00:02<00:00,  1.45s/it]"
     ]
    },
    {
     "name": "stdout",
     "output_type": "stream",
     "text": [
      "Day 7 Batch features shape: torch.Size([13, 512])\n",
      "Day 10 Batch features shape: torch.Size([13, 512])\n",
      "Day 7 Features shape after concatenation: torch.Size([29, 512])\n",
      "Day 10 Features shape after concatenation: torch.Size([29, 512])\n"
     ]
    },
    {
     "name": "stderr",
     "output_type": "stream",
     "text": [
      "\n"
     ]
    }
   ],
   "source": [
    "# Extract features from the training dataset\n",
    "sd7, sd10, sd10_paths = prepare_data_features(simclr_model, sd_loader)"
   ]
  },
  {
   "cell_type": "code",
   "execution_count": 19,
   "metadata": {},
   "outputs": [],
   "source": [
    "import torch\n",
    "\n",
    "# Save features and paths\n",
    "torch.save({\"sd7\": sd7, \"sd10\": sd10, \"sd10_paths\": sd10_paths}, \"sd_features.pt\")\n",
    "torch.save({\"cond7\": cond7, \"cond10\": cond10, \"cond10_paths\": cond10_paths}, \"control_features.pt\")\n",
    "torch.save({\"ex7\": ex7, \"ex10\": ex10, \"exd10_paths\": exd10_paths}, \"ex_features.pt\")\n"
   ]
  },
  {
   "cell_type": "code",
   "execution_count": 24,
   "metadata": {},
   "outputs": [
    {
     "name": "stderr",
     "output_type": "stream",
     "text": [
      "C:\\Users\\k54739\\AppData\\Local\\Temp\\ipykernel_13076\\2689076763.py:2: FutureWarning: You are using `torch.load` with `weights_only=False` (the current default value), which uses the default pickle module implicitly. It is possible to construct malicious pickle data which will execute arbitrary code during unpickling (See https://github.com/pytorch/pytorch/blob/main/SECURITY.md#untrusted-models for more details). In a future release, the default value for `weights_only` will be flipped to `True`. This limits the functions that could be executed during unpickling. Arbitrary objects will no longer be allowed to be loaded via this mode unless they are explicitly allowlisted by the user via `torch.serialization.add_safe_globals`. We recommend you start setting `weights_only=True` for any use case where you don't have full control of the loaded file. Please open an issue on GitHub for any issues related to this experimental feature.\n",
      "  sd_data = torch.load(\"sd_features.pt\")\n",
      "C:\\Users\\k54739\\AppData\\Local\\Temp\\ipykernel_13076\\2689076763.py:3: FutureWarning: You are using `torch.load` with `weights_only=False` (the current default value), which uses the default pickle module implicitly. It is possible to construct malicious pickle data which will execute arbitrary code during unpickling (See https://github.com/pytorch/pytorch/blob/main/SECURITY.md#untrusted-models for more details). In a future release, the default value for `weights_only` will be flipped to `True`. This limits the functions that could be executed during unpickling. Arbitrary objects will no longer be allowed to be loaded via this mode unless they are explicitly allowlisted by the user via `torch.serialization.add_safe_globals`. We recommend you start setting `weights_only=True` for any use case where you don't have full control of the loaded file. Please open an issue on GitHub for any issues related to this experimental feature.\n",
      "  cond_data = torch.load(\"control_features.pt\")\n",
      "C:\\Users\\k54739\\AppData\\Local\\Temp\\ipykernel_13076\\2689076763.py:4: FutureWarning: You are using `torch.load` with `weights_only=False` (the current default value), which uses the default pickle module implicitly. It is possible to construct malicious pickle data which will execute arbitrary code during unpickling (See https://github.com/pytorch/pytorch/blob/main/SECURITY.md#untrusted-models for more details). In a future release, the default value for `weights_only` will be flipped to `True`. This limits the functions that could be executed during unpickling. Arbitrary objects will no longer be allowed to be loaded via this mode unless they are explicitly allowlisted by the user via `torch.serialization.add_safe_globals`. We recommend you start setting `weights_only=True` for any use case where you don't have full control of the loaded file. Please open an issue on GitHub for any issues related to this experimental feature.\n",
      "  ex_data = torch.load(\"ex_features.pt\")\n"
     ]
    }
   ],
   "source": [
    "# Load features and paths\n",
    "sd_data = torch.load(\"sd_features.pt\")\n",
    "cond_data = torch.load(\"control_features.pt\")\n",
    "ex_data = torch.load(\"ex_features.pt\")\n",
    "\n",
    "sd7 = sd_data[\"sd7\"]\n",
    "sd10 = sd_data[\"sd10\"]\n",
    "sd10_paths = sd_data[\"sd10_paths\"]\n",
    "\n",
    "cond7 = cond_data[\"cond7\"]\n",
    "cond10 = cond_data[\"cond10\"]\n",
    "cond10_paths = cond_data[\"cond10_paths\"]\n",
    "\n",
    "ex7 = ex_data[\"ex7\"]\n",
    "ex10 = ex_data[\"ex10\"]\n",
    "ex10_paths = ex_data[\"exd10_paths\"]\n"
   ]
  },
  {
   "cell_type": "code",
   "execution_count": 25,
   "metadata": {},
   "outputs": [
    {
     "name": "stdout",
     "output_type": "stream",
     "text": [
      "torch.Size([29, 512])\n",
      "torch.Size([29, 512])\n",
      "29\n"
     ]
    }
   ],
   "source": [
    "print(sd7.shape)\n",
    "print(sd10.shape)\n",
    "print(len(sd10_paths))"
   ]
  },
  {
   "cell_type": "code",
   "execution_count": 26,
   "metadata": {},
   "outputs": [
    {
     "name": "stdout",
     "output_type": "stream",
     "text": [
      "torch.Size([38, 512])\n",
      "torch.Size([38, 512])\n",
      "38\n"
     ]
    }
   ],
   "source": [
    "print(ex7.shape)\n",
    "print(ex10.shape)\n",
    "print(len(exd10_paths))"
   ]
  },
  {
   "cell_type": "code",
   "execution_count": 28,
   "metadata": {},
   "outputs": [
    {
     "name": "stdout",
     "output_type": "stream",
     "text": [
      "torch.Size([130, 512])\n",
      "torch.Size([130, 512])\n",
      "130\n"
     ]
    }
   ],
   "source": [
    "print(cond7.shape)\n",
    "print(cond10.shape)\n",
    "print(len(cond10_paths))"
   ]
  },
  {
   "cell_type": "code",
   "execution_count": 27,
   "metadata": {},
   "outputs": [
    {
     "name": "stderr",
     "output_type": "stream",
     "text": [
      "C:\\Users\\k54739\\AppData\\Local\\Temp\\ipykernel_13076\\474620549.py:1: FutureWarning: You are using `torch.load` with `weights_only=False` (the current default value), which uses the default pickle module implicitly. It is possible to construct malicious pickle data which will execute arbitrary code during unpickling (See https://github.com/pytorch/pytorch/blob/main/SECURITY.md#untrusted-models for more details). In a future release, the default value for `weights_only` will be flipped to `True`. This limits the functions that could be executed during unpickling. Arbitrary objects will no longer be allowed to be loaded via this mode unless they are explicitly allowlisted by the user via `torch.serialization.add_safe_globals`. We recommend you start setting `weights_only=True` for any use case where you don't have full control of the loaded file. Please open an issue on GitHub for any issues related to this experimental feature.\n",
      "  sd7_min = torch.load('sd7_min.pt')\n",
      "C:\\Users\\k54739\\AppData\\Local\\Temp\\ipykernel_13076\\474620549.py:2: FutureWarning: You are using `torch.load` with `weights_only=False` (the current default value), which uses the default pickle module implicitly. It is possible to construct malicious pickle data which will execute arbitrary code during unpickling (See https://github.com/pytorch/pytorch/blob/main/SECURITY.md#untrusted-models for more details). In a future release, the default value for `weights_only` will be flipped to `True`. This limits the functions that could be executed during unpickling. Arbitrary objects will no longer be allowed to be loaded via this mode unless they are explicitly allowlisted by the user via `torch.serialization.add_safe_globals`. We recommend you start setting `weights_only=True` for any use case where you don't have full control of the loaded file. Please open an issue on GitHub for any issues related to this experimental feature.\n",
      "  sd7_max = torch.load('sd7_max.pt')\n",
      "C:\\Users\\k54739\\AppData\\Local\\Temp\\ipykernel_13076\\474620549.py:3: FutureWarning: You are using `torch.load` with `weights_only=False` (the current default value), which uses the default pickle module implicitly. It is possible to construct malicious pickle data which will execute arbitrary code during unpickling (See https://github.com/pytorch/pytorch/blob/main/SECURITY.md#untrusted-models for more details). In a future release, the default value for `weights_only` will be flipped to `True`. This limits the functions that could be executed during unpickling. Arbitrary objects will no longer be allowed to be loaded via this mode unless they are explicitly allowlisted by the user via `torch.serialization.add_safe_globals`. We recommend you start setting `weights_only=True` for any use case where you don't have full control of the loaded file. Please open an issue on GitHub for any issues related to this experimental feature.\n",
      "  sd10_min = torch.load('sd10_min.pt')\n",
      "C:\\Users\\k54739\\AppData\\Local\\Temp\\ipykernel_13076\\474620549.py:4: FutureWarning: You are using `torch.load` with `weights_only=False` (the current default value), which uses the default pickle module implicitly. It is possible to construct malicious pickle data which will execute arbitrary code during unpickling (See https://github.com/pytorch/pytorch/blob/main/SECURITY.md#untrusted-models for more details). In a future release, the default value for `weights_only` will be flipped to `True`. This limits the functions that could be executed during unpickling. Arbitrary objects will no longer be allowed to be loaded via this mode unless they are explicitly allowlisted by the user via `torch.serialization.add_safe_globals`. We recommend you start setting `weights_only=True` for any use case where you don't have full control of the loaded file. Please open an issue on GitHub for any issues related to this experimental feature.\n",
      "  sd10_max = torch.load('sd10_max.pt')\n"
     ]
    }
   ],
   "source": [
    "sd7_min = torch.load('sd7_min.pt')\n",
    "sd7_max = torch.load('sd7_max.pt')\n",
    "sd10_min = torch.load('sd10_min.pt')\n",
    "sd10_max = torch.load('sd10_max.pt')"
   ]
  },
  {
   "cell_type": "code",
   "execution_count": 29,
   "metadata": {},
   "outputs": [],
   "source": [
    "def min_max_d7(data):\n",
    "    return (data - sd7_min) / (sd7_max - sd7_min)"
   ]
  },
  {
   "cell_type": "code",
   "execution_count": 30,
   "metadata": {},
   "outputs": [],
   "source": [
    "def min_max_d10(data):\n",
    "    return (data - sd10_min) / (sd10_max - sd10_min)"
   ]
  },
  {
   "cell_type": "code",
   "execution_count": 31,
   "metadata": {},
   "outputs": [],
   "source": [
    "cond7_minmax = min_max_d7(cond7)\n",
    "cond10_minmax = min_max_d10(cond10)"
   ]
  },
  {
   "cell_type": "code",
   "execution_count": 32,
   "metadata": {},
   "outputs": [],
   "source": [
    "ex7_minmax = min_max_d7(ex7)\n",
    "ex10_minmax = min_max_d10(ex10)"
   ]
  },
  {
   "cell_type": "code",
   "execution_count": 33,
   "metadata": {},
   "outputs": [],
   "source": [
    "sd7_minmax = min_max_d7(sd7)\n",
    "sd10_minmax = min_max_d10(sd10)"
   ]
  },
  {
   "cell_type": "code",
   "execution_count": 35,
   "metadata": {},
   "outputs": [],
   "source": [
    "# Set the device\n",
    "device = torch.device(\"cuda\" if torch.cuda.is_available() else \"cpu\")"
   ]
  },
  {
   "cell_type": "code",
   "execution_count": 36,
   "metadata": {},
   "outputs": [],
   "source": [
    "import torch.nn as nn\n",
    "from torch.utils.data import TensorDataset, DataLoader\n",
    "\n",
    "class FeaturePredictor(nn.Module):\n",
    "    def __init__(self, input_size=512, output_size=512):\n",
    "        super(FeaturePredictor, self).__init__()\n",
    "        self.model = nn.Sequential(\n",
    "            nn.Linear(input_size, 256),\n",
    "            nn.ReLU(),\n",
    "            nn.Linear(256, 128),\n",
    "            nn.ReLU(),\n",
    "            nn.Linear(128, 64),\n",
    "            nn.ReLU(),\n",
    "            nn.Linear(64, 32),\n",
    "            nn.ReLU(),\n",
    "            nn.Linear(32, 16),\n",
    "            nn.ReLU(),\n",
    "            nn.Linear(16,8),\n",
    "            nn.ReLU(),\n",
    "            nn.Linear(8, 16),\n",
    "            nn.ReLU(),\n",
    "            nn.Linear(16,32),\n",
    "            nn.ReLU(),\n",
    "            nn.Linear(32, 64),\n",
    "            nn.ReLU(),\n",
    "            nn.Linear(64, 128),\n",
    "            nn.ReLU(),\n",
    "            nn.Linear(128,256),\n",
    "            nn.ReLU(),\n",
    "            nn.Linear(256, output_size)\n",
    "        )\n",
    "    \n",
    "    def forward(self, x):\n",
    "        return self.model(x)"
   ]
  },
  {
   "cell_type": "code",
   "execution_count": 37,
   "metadata": {},
   "outputs": [
    {
     "name": "stdout",
     "output_type": "stream",
     "text": [
      "Loaded model from best_model_fold_5.pth\n"
     ]
    },
    {
     "name": "stderr",
     "output_type": "stream",
     "text": [
      "C:\\Users\\k54739\\AppData\\Local\\Temp\\ipykernel_13076\\3713670884.py:7: FutureWarning: You are using `torch.load` with `weights_only=False` (the current default value), which uses the default pickle module implicitly. It is possible to construct malicious pickle data which will execute arbitrary code during unpickling (See https://github.com/pytorch/pytorch/blob/main/SECURITY.md#untrusted-models for more details). In a future release, the default value for `weights_only` will be flipped to `True`. This limits the functions that could be executed during unpickling. Arbitrary objects will no longer be allowed to be loaded via this mode unless they are explicitly allowlisted by the user via `torch.serialization.add_safe_globals`. We recommend you start setting `weights_only=True` for any use case where you don't have full control of the loaded file. Please open an issue on GitHub for any issues related to this experimental feature.\n",
      "  model.load_state_dict(torch.load(load_path))\n"
     ]
    }
   ],
   "source": [
    "# Define the directory where models are saved\n",
    "#load_dir = r'C:\\Users\\k54739\\saved_model\\ranking\\simclr\\minmax_scaled'\n",
    "\n",
    "# Load a specific fold's best model\n",
    "model = FeaturePredictor()\n",
    "load_path = os.path.join('best_model_fold_5.pth')\n",
    "model.load_state_dict(torch.load(load_path))\n",
    "model.to(device)\n",
    "model.eval()\n",
    "\n",
    "print(f\"Loaded model from {load_path}\")"
   ]
  },
  {
   "cell_type": "code",
   "execution_count": 38,
   "metadata": {},
   "outputs": [
    {
     "name": "stdout",
     "output_type": "stream",
     "text": [
      "Mahalanobis distances with paths saved to md_ex.csv\n",
      "Mahalanobis distances with paths saved to md_sd.csv\n",
      "Mahalanobis distances with paths saved to md_control.csv\n"
     ]
    }
   ],
   "source": [
    "import torch\n",
    "import torch.nn as nn\n",
    "import pandas as pd\n",
    "import os\n",
    "\n",
    "def compute_and_save_mahalanobis_distances(model, day7_feats, day10_feats, day10_paths, file_name, device=\"cpu\"):\n",
    "    \"\"\"\n",
    "    Compute Mahalanobis distances and save them along with image paths to a CSV file.\n",
    "\n",
    "    Parameters:\n",
    "    - model: The PyTorch model used to predict day10 features from day7 features.\n",
    "    - day7_feats (torch.Tensor): Feature vectors for day 7.\n",
    "    - day10_feats (torch.Tensor): Feature vectors for day 10.\n",
    "    - day10_paths (list of str): Paths to the day 10 images.\n",
    "    - file_name (str): Name of the CSV file to save the Mahalanobis distances.\n",
    "    - device (str): The device to use for computation (e.g., \"cpu\" or \"cuda\").\n",
    "\n",
    "    Returns:\n",
    "    - None\n",
    "    \"\"\"\n",
    "    # Ensure the tensors are on the correct device\n",
    "    day7_feats = day7_feats.to(device)\n",
    "    day10_feats = day10_feats.to(device)\n",
    "\n",
    "    # Compute mean and covariance matrix for day10 features\n",
    "    epsilon = 1e-6  # Stabilization constant for invertibility\n",
    "    mean_vector = torch.mean(day10_feats, dim=0)\n",
    "    covariance_matrix = torch.cov(day10_feats.T)\n",
    "    covariance_matrix += torch.eye(covariance_matrix.size(0), device=device) * epsilon\n",
    "    covariance_matrix_inv = torch.inverse(covariance_matrix)\n",
    "\n",
    "    # List to store Mahalanobis distances and corresponding paths\n",
    "    mahalanobis_data = []\n",
    "\n",
    "    # Loop through each feature vector in day7 features\n",
    "    for i in range(day7_feats.shape[0]):\n",
    "        train_day7_feats = day7_feats[i].unsqueeze(0)\n",
    "\n",
    "        # Get prediction for day10 features\n",
    "        with torch.no_grad():\n",
    "            predicted_day10 = model(train_day7_feats)\n",
    "\n",
    "        # Compute Mahalanobis Distance\n",
    "        delta = (predicted_day10.flatten() - mean_vector)\n",
    "        mahalanobis_distance = torch.sqrt(torch.dot(delta, torch.matmul(covariance_matrix_inv, delta))).item()\n",
    "        path_with_distance = f\"{mahalanobis_distance}_{day10_paths[i]}\"\n",
    "        mahalanobis_data.append((mahalanobis_distance, path_with_distance))\n",
    "\n",
    "    # Create a DataFrame with Mahalanobis distances and paths\n",
    "    df = pd.DataFrame(mahalanobis_data, columns=[\"Mahalanobis Distance\", \"Distance_Path\"])\n",
    "\n",
    "    # Save the DataFrame to a CSV file\n",
    "    df.to_csv(file_name, index=False)\n",
    "    print(f\"Mahalanobis distances with paths saved to {file_name}\")\n",
    "\n",
    "# Example usage with paths\n",
    "compute_and_save_mahalanobis_distances(model, ex7_minmax, ex10_minmax, ex10_paths, \"md_ex.csv\", device=\"cuda\")\n",
    "compute_and_save_mahalanobis_distances(model, sd7_minmax, sd10_minmax, sd10_paths, \"md_sd.csv\", device=\"cuda\")\n",
    "compute_and_save_mahalanobis_distances(model, cond7_minmax, cond10_minmax, cond10_paths, \"md_control.csv\", device=\"cuda\")"
   ]
  },
  {
   "cell_type": "code",
   "execution_count": 39,
   "metadata": {},
   "outputs": [
    {
     "data": {
      "image/png": "[encoded data removed]",
      "text/plain": [
       "<Figure size 1200x800 with 1 Axes>"
      ]
     },
     "metadata": {},
     "output_type": "display_data"
    }
   ],
   "source": [
    "import matplotlib.pyplot as plt\n",
    "import pandas as pd\n",
    "\n",
    "# Load datasets\n",
    "datasets = {\n",
    "    \"explod\": pd.read_csv(\"md_ex.csv\"),  # Update with the correct file name if necessary\n",
    "    \"sd\": pd.read_csv(\"md_sd.csv\"),\n",
    "    \"control\": pd.read_csv(\"md_control.csv\")  # Update with the correct file name if necessary\n",
    "}\n",
    "\n",
    "# Define colors and hatching patterns for each dataset\n",
    "colors = {\"explod\": \"blue\", \"sd\": \"orange\", \"control\": \"green\"}\n",
    "hatch_styles = {\"explod\": \"o\", \"sd\": \"\\\\\", \"control\": \"*\"}\n",
    "\n",
    "# Plotting function\n",
    "def plot_mahalanobis_distribution(bins=20):\n",
    "    plt.figure(figsize=(12, 8))\n",
    "    \n",
    "    # Plot Mahalanobis Distance for each dataset\n",
    "    for dataset_name, df in datasets.items():\n",
    "        if \"Mahalanobis Distance\" in df.columns:\n",
    "            values = df[\"Mahalanobis Distance\"].tolist()\n",
    "            plt.hist(\n",
    "                values,\n",
    "                bins=bins,\n",
    "                alpha=0.6,\n",
    "                label=f\"{dataset_name.capitalize()} (Mahalanobis Distance)\",\n",
    "                color=colors[dataset_name],\n",
    "                hatch=hatch_styles[dataset_name],\n",
    "                edgecolor=\"black\"\n",
    "            )\n",
    "    \n",
    "    # Customize plot\n",
    "    plt.title(\"Mahalanobis Distance Distribution for Different Datasets\", fontsize=14)\n",
    "    plt.xlabel(\"Mahalanobis Distance\", fontsize=12)\n",
    "    plt.ylabel(\"Frequency\", fontsize=12)\n",
    "    plt.legend(fontsize=10)\n",
    "    plt.grid(alpha=0.3)\n",
    "    plt.show()\n",
    "\n",
    "# Plot the Mahalanobis Distance distribution\n",
    "plot_mahalanobis_distribution(bins=10)\n"
   ]
  },
  {
   "cell_type": "code",
   "execution_count": 41,
   "metadata": {},
   "outputs": [
    {
     "name": "stdout",
     "output_type": "stream",
     "text": [
      "Paths for md_ex.csv:\n",
      "0     2880.849853515625_C:\\Users\\k54739\\Bibi_new_the...\n",
      "1     2339.240234375_C:\\Users\\k54739\\Bibi_new_thesis...\n",
      "2     2365.73681640625_C:\\Users\\k54739\\Bibi_new_thes...\n",
      "3     2405.4638671875_C:\\Users\\k54739\\Bibi_new_thesi...\n",
      "4     2200.1748046875_C:\\Users\\k54739\\Bibi_new_thesi...\n",
      "5     2742.89892578125_C:\\Users\\k54739\\Bibi_new_thes...\n",
      "6     2421.0625_C:\\Users\\k54739\\Bibi_new_thesis\\thes...\n",
      "7     2337.48779296875_C:\\Users\\k54739\\Bibi_new_thes...\n",
      "8     2391.73681640625_C:\\Users\\k54739\\Bibi_new_thes...\n",
      "9     2871.74267578125_C:\\Users\\k54739\\Bibi_new_thes...\n",
      "10    2348.948486328125_C:\\Users\\k54739\\Bibi_new_the...\n",
      "11    2336.463623046875_C:\\Users\\k54739\\Bibi_new_the...\n",
      "12    2503.748291015625_C:\\Users\\k54739\\Bibi_new_the...\n",
      "13    2528.48193359375_C:\\Users\\k54739\\Bibi_new_thes...\n",
      "14    2578.673828125_C:\\Users\\k54739\\Bibi_new_thesis...\n",
      "15    2718.015869140625_C:\\Users\\k54739\\Bibi_new_the...\n",
      "16    2271.643798828125_C:\\Users\\k54739\\Bibi_new_the...\n",
      "17    2654.654052734375_C:\\Users\\k54739\\Bibi_new_the...\n",
      "18    2548.897705078125_C:\\Users\\k54739\\Bibi_new_the...\n",
      "19    2417.042236328125_C:\\Users\\k54739\\Bibi_new_the...\n",
      "20    2096.1337890625_C:\\Users\\k54739\\Bibi_new_thesi...\n",
      "21    2479.02197265625_C:\\Users\\k54739\\Bibi_new_thes...\n",
      "22    3257.399658203125_C:\\Users\\k54739\\Bibi_new_the...\n",
      "23    2572.98193359375_C:\\Users\\k54739\\Bibi_new_thes...\n",
      "24    2465.05224609375_C:\\Users\\k54739\\Bibi_new_thes...\n",
      "25    2363.7333984375_C:\\Users\\k54739\\Bibi_new_thesi...\n",
      "26    2148.95703125_C:\\Users\\k54739\\Bibi_new_thesis\\...\n",
      "27    2565.483642578125_C:\\Users\\k54739\\Bibi_new_the...\n",
      "28    2441.048095703125_C:\\Users\\k54739\\Bibi_new_the...\n",
      "29    2600.382568359375_C:\\Users\\k54739\\Bibi_new_the...\n",
      "30    2583.40478515625_C:\\Users\\k54739\\Bibi_new_thes...\n",
      "31    2373.881103515625_C:\\Users\\k54739\\Bibi_new_the...\n",
      "32    2244.099609375_C:\\Users\\k54739\\Bibi_new_thesis...\n",
      "33    2657.146240234375_C:\\Users\\k54739\\Bibi_new_the...\n",
      "34    3181.324462890625_C:\\Users\\k54739\\Bibi_new_the...\n",
      "35    2513.47021484375_C:\\Users\\k54739\\Bibi_new_thes...\n",
      "36    2279.218505859375_C:\\Users\\k54739\\Bibi_new_the...\n",
      "37    2443.664306640625_C:\\Users\\k54739\\Bibi_new_the...\n",
      "Name: Distance_Path, dtype: object\n",
      "\n",
      "Paths for md_sd.csv:\n",
      "0     274.9629211425781_C:\\Users\\k54739\\Bibi_new_the...\n",
      "1     383.3725280761719_C:\\Users\\k54739\\Bibi_new_the...\n",
      "2     357.0794372558594_C:\\Users\\k54739\\Bibi_new_the...\n",
      "3     212.3609619140625_C:\\Users\\k54739\\Bibi_new_the...\n",
      "4     342.47991943359375_C:\\Users\\k54739\\Bibi_new_th...\n",
      "5     310.90216064453125_C:\\Users\\k54739\\Bibi_new_th...\n",
      "6     336.88720703125_C:\\Users\\k54739\\Bibi_new_thesi...\n",
      "7     328.4619445800781_C:\\Users\\k54739\\Bibi_new_the...\n",
      "8     557.863525390625_C:\\Users\\k54739\\Bibi_new_thes...\n",
      "9     354.5936584472656_C:\\Users\\k54739\\Bibi_new_the...\n",
      "10    305.78887939453125_C:\\Users\\k54739\\Bibi_new_th...\n",
      "11    336.5030822753906_C:\\Users\\k54739\\Bibi_new_the...\n",
      "12    422.4197692871094_C:\\Users\\k54739\\Bibi_new_the...\n",
      "13    245.88731384277344_C:\\Users\\k54739\\Bibi_new_th...\n",
      "14    534.2890625_C:\\Users\\k54739\\Bibi_new_thesis\\th...\n",
      "15    339.93292236328125_C:\\Users\\k54739\\Bibi_new_th...\n",
      "16    431.09552001953125_C:\\Users\\k54739\\Bibi_new_th...\n",
      "17    337.3921203613281_C:\\Users\\k54739\\Bibi_new_the...\n",
      "18    445.1875_C:\\Users\\k54739\\Bibi_new_thesis\\thesi...\n",
      "19    499.6082458496094_C:\\Users\\k54739\\Bibi_new_the...\n",
      "20    222.65414428710938_C:\\Users\\k54739\\Bibi_new_th...\n",
      "21    306.7255554199219_C:\\Users\\k54739\\Bibi_new_the...\n",
      "22    236.47308349609375_C:\\Users\\k54739\\Bibi_new_th...\n",
      "23    313.7750549316406_C:\\Users\\k54739\\Bibi_new_the...\n",
      "24    337.80450439453125_C:\\Users\\k54739\\Bibi_new_th...\n",
      "25    309.2152099609375_C:\\Users\\k54739\\Bibi_new_the...\n",
      "26    310.6872253417969_C:\\Users\\k54739\\Bibi_new_the...\n",
      "27    315.2113037109375_C:\\Users\\k54739\\Bibi_new_the...\n",
      "28    335.8556823730469_C:\\Users\\k54739\\Bibi_new_the...\n",
      "Name: Distance_Path, dtype: object\n",
      "\n",
      "Paths for md_control.csv:\n",
      "0      812.4071655273438_C:\\Users\\k54739\\Bibi_new_the...\n",
      "1      784.4752197265625_C:\\Users\\k54739\\Bibi_new_the...\n",
      "2      1372.4766845703125_C:\\Users\\k54739\\Bibi_new_th...\n",
      "3      847.3927001953125_C:\\Users\\k54739\\Bibi_new_the...\n",
      "4      896.8782958984375_C:\\Users\\k54739\\Bibi_new_the...\n",
      "                             ...                        \n",
      "125    907.7131958007812_C:\\Users\\k54739\\Bibi_new_the...\n",
      "126    897.8870849609375_C:\\Users\\k54739\\Bibi_new_the...\n",
      "127    999.836669921875_C:\\Users\\k54739\\Bibi_new_thes...\n",
      "128    1112.6715087890625_C:\\Users\\k54739\\Bibi_new_th...\n",
      "129    1177.738525390625_C:\\Users\\k54739\\Bibi_new_the...\n",
      "Name: Distance_Path, Length: 130, dtype: object\n",
      "2880.849853515625_C:\\Users\\k54739\\Bibi_new_thesis\\thesis\\day7_day10\\exploded38\\day10\\ds_1b_gp9_C10.tiff\n"
     ]
    }
   ],
   "source": [
    "import pandas as pd\n",
    "\n",
    "# Load the CSV file with Mahalanobis distances and image paths\n",
    "df_md_ex = pd.read_csv(\"md_ex.csv\")\n",
    "df_md_sd = pd.read_csv(\"md_sd.csv\")\n",
    "df_md_control = pd.read_csv(\"md_control.csv\")\n",
    "\n",
    "# Print the paths (or the entire DataFrame if needed)\n",
    "print(\"Paths for md_ex.csv:\")\n",
    "print(df_md_ex[\"Distance_Path\"])\n",
    "\n",
    "print(\"\\nPaths for md_sd.csv:\")\n",
    "print(df_md_sd[\"Distance_Path\"])\n",
    "\n",
    "print(\"\\nPaths for md_control.csv:\")\n",
    "print(df_md_control[\"Distance_Path\"])\n",
    "\n",
    "print(df_md_ex[\"Distance_Path\"][0])\n"
   ]
  },
  {
   "cell_type": "code",
   "execution_count": 44,
   "metadata": {},
   "outputs": [],
   "source": [
    "import pandas as pd\n",
    "import shutil\n",
    "import os\n",
    "\n",
    "# Function to copy images to a new directory based on sorted distances with filenames as the Mahalanobis Distance\n",
    "def copy_images_based_on_distance(csv_files, target_directory):\n",
    "    all_data = []  # List to store data from all CSV files\n",
    "    \n",
    "    # Read and append data from each CSV file\n",
    "    for csv_file in csv_files:\n",
    "        df = pd.read_csv(csv_file)\n",
    "        all_data.append(df)\n",
    "\n",
    "    # Combine data from all CSV files into one DataFrame\n",
    "    combined_df = pd.concat(all_data, ignore_index=True)\n",
    "\n",
    "    # Sort the combined DataFrame based on Mahalanobis Distance\n",
    "    combined_df_sorted = combined_df.sort_values(by=\"Mahalanobis Distance\")\n",
    "\n",
    "    # Create the target directory if it doesn't exist\n",
    "    os.makedirs(target_directory, exist_ok=True)\n",
    "\n",
    "    # Copy the images in ascending order of Mahalanobis Distance\n",
    "    for _, row in combined_df_sorted.iterrows():\n",
    "        # Extract the image path by splitting on the first underscore and ignoring the distance part\n",
    "        path = row[\"Distance_Path\"].split(\"_\", 1)[1]  # This gets the path after the Mahalanobis distance\n",
    "        \n",
    "        # Extract the Mahalanobis distance as the new filename\n",
    "        distance = row[\"Distance_Path\"].split(\"_\", 1)[0]  # This gets the Mahalanobis distance\n",
    "        filename = f\"{distance}_{os.path.basename(path)}\"  # Combine distance with original filename\n",
    "        \n",
    "        # Copy the image to the target directory with the new filename\n",
    "        shutil.copy2(path, os.path.join(target_directory, filename))\n",
    "\n",
    "# Example use case: List of CSV files to process\n",
    "csv_files = [\"md_ex.csv\", \"md_sd.csv\", \"md_control.csv\"]\n",
    "target_directory = r\"C:\\Users\\k54739\\Bibi_new_thesis\\thesis\\sorted_Resize_d7tod10\"\n",
    "copy_images_based_on_distance(csv_files, target_directory)\n"
   ]
  },
  {
   "cell_type": "code",
   "execution_count": null,
   "metadata": {},
   "outputs": [],
   "source": []
  }
 ],
 "metadata": {
  "kernelspec": {
   "display_name": "master",
   "language": "python",
   "name": "python3"
  },
  "language_info": {
   "codemirror_mode": {
    "name": "ipython",
    "version": 3
   },
   "file_extension": ".py",
   "mimetype": "text/x-python",
   "name": "python",
   "nbconvert_exporter": "python",
   "pygments_lexer": "ipython3",
   "version": "3.12.4"
  }
 },
 "nbformat": 4,
 "nbformat_minor": 2
}
