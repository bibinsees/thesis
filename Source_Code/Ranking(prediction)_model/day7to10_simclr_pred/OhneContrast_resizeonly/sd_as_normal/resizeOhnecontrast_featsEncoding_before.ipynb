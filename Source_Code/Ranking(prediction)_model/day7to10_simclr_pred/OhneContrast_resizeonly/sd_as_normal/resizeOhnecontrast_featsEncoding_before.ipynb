{
 "cells": [
  {
   "cell_type": "code",
   "execution_count": 1,
   "metadata": {},
   "outputs": [],
   "source": [
    "import os\n",
    "import numpy as np\n",
    "import torch\n",
    "from torch import nn, optim\n",
    "from torch.utils.data import Dataset, DataLoader, random_split\n",
    "from torchvision import transforms\n",
    "import torchvision\n",
    "import tifffile as tiff\n",
    "import matplotlib.pyplot as plt\n",
    "import time\n",
    "from tqdm import tqdm\n",
    "from copy import deepcopy\n",
    "import random\n",
    "\n",
    "\n",
    "\n",
    "from collections import Counter\n",
    "from scipy.stats import mode\n",
    "\n",
    "import sys\n",
    "import os\n",
    "\n",
    "# Add the directory containing 'aug.py' to the Python path\n",
    "sys.path.append(os.path.abspath(r\"C:\\Users\\k54739\\Bibi_new_thesis\\thesis\\Source_Code\\Ranking(prediction)_model\\day7to10_simclr_pred\"))\n",
    "from aug import one_Original,two_Ori_Hori_blur,three_Orig_Veri_sharp,four_Orig_verihori_sharp_blur,five_only_D10_Hori,six_only_D10_veri,seven_D10_verihori,ate_only_D7_Hori,nine_only_D7_veri,ten_D7_verihori,eleven_Orig_R90_sharp_blur,twelve_Orig_R270_sharp_blur,thirteen_Orig_HoriR90_sharp_blur,fourteen_Orig_HoriR270_sharp_blur,fifteen_D7_R90,sixteen_D7_R270,seventeen_D7_HoriR90,ateen_D7_HoriR270,ninteen_D10_R90,twenty_D10_R270,twentyone_D10_HoriR90,"
   ]
  },
  {
   "cell_type": "code",
   "execution_count": 2,
   "metadata": {},
   "outputs": [],
   "source": [
    "# Set seed for reproducibility\n",
    "def set_seed(seed):\n",
    "    random.seed(seed)\n",
    "    np.random.seed(seed)\n",
    "    torch.manual_seed(seed)\n",
    "    if torch.cuda.is_available():\n",
    "        torch.cuda.manual_seed(seed)\n",
    "        torch.cuda.manual_seed_all(seed)\n",
    "    torch.backends.cudnn.deterministic = True\n",
    "    torch.backends.cudnn.benchmark = False\n",
    "\n",
    "# Set seed\n",
    "set_seed(42)"
   ]
  },
  {
   "cell_type": "code",
   "execution_count": 3,
   "metadata": {},
   "outputs": [],
   "source": [
    "# Set the device\n",
    "device = torch.device(\"cuda\" if torch.cuda.is_available() else \"cpu\")"
   ]
  },
  {
   "cell_type": "code",
   "execution_count": 4,
   "metadata": {},
   "outputs": [],
   "source": [
    "full_model_path =  r'C:\\Users\\k54739\\Bibi_new_thesis\\thesis\\Source_Code\\SimCLR_base_models\\ohnecontrast_balancedResize_simclr_modelepoch245.pth' "
   ]
  },
  {
   "cell_type": "code",
   "execution_count": 5,
   "metadata": {},
   "outputs": [],
   "source": [
    "class SimCLR(nn.Module):\n",
    "    def __init__(self, hidden_dim, lr, temperature, weight_decay,max_epochs):\n",
    "        super().__init__()\n",
    "        self.temperature = temperature\n",
    "        \n",
    "        # Load the pretrained ResNet-18 model\n",
    "        self.convnet = torchvision.models.resnet18(weights='ResNet18_Weights.DEFAULT')\n",
    "        \n",
    "        # Modify the fully connected layer\n",
    "        self.convnet.fc = nn.Sequential(\n",
    "            nn.Linear(self.convnet.fc.in_features, 4 * hidden_dim),  # Linear layer with 4*hidden_dim output\n",
    "            nn.ReLU(inplace=True),\n",
    "            nn.Linear(4 * hidden_dim, 20)  # Output layer with hidden_dim output\n",
    "        )\n",
    "\n",
    "        self.optimizer = optim.AdamW(self.parameters(), lr=lr, weight_decay=weight_decay)\n",
    "        self.lr_scheduler = optim.lr_scheduler.CosineAnnealingLR(self.optimizer, T_max=max_epochs, eta_min=lr / 50)\n",
    "\n",
    "    def forward(self, x):\n",
    "        return self.convnet(x)\n",
    "\n",
    "    def info_nce_loss(self, imgs1, imgs2, device):\n",
    "\n",
    "        imgs = torch.cat((imgs1, imgs2), dim=0)  # Concatenate along the batch dimension\n",
    "        imgs = imgs.to(device)  # Move images to the device\n",
    "\n",
    "        # Encode all images\n",
    "        feats = self.forward(imgs)\n",
    "    \n",
    "        # Calculate cosine similarity\n",
    "        cos_sim = nn.functional.cosine_similarity(feats[:, None, :], feats[None, :, :], dim=-1)\n",
    "    \n",
    "        # Mask out cosine similarity to itself\n",
    "        self_mask = torch.eye(cos_sim.shape[0], dtype=torch.bool, device=cos_sim.device)\n",
    "        cos_sim.masked_fill_(self_mask, -9e15)\n",
    "    \n",
    "        # Find positive example -> batch_size//2 away from the original example\n",
    "        pos_mask = self_mask.roll(shifts=cos_sim.shape[0] // 2, dims=0)\n",
    "    \n",
    "        # Normalize similarity scores by temperature\n",
    "        cos_sim = cos_sim / self.temperature\n",
    "\n",
    "        # InfoNCE loss\n",
    "        nll = -cos_sim[pos_mask] + torch.logsumexp(cos_sim, dim=-1)\n",
    "        nll = nll.mean()\n",
    "\n",
    "        # Accuracy calculations\n",
    "        # Create a combination of positive and negative similarities for ranking\n",
    "        comb_sim = torch.cat([cos_sim[pos_mask][:, None],  # Positive example in first position\n",
    "                          cos_sim.masked_fill(pos_mask, -9e15)], dim=-1)\n",
    "    \n",
    "        # Sort and get the ranking position of the positive example\n",
    "        sim_argsort = comb_sim.argsort(dim=-1, descending=True).argmin(dim=-1)\n",
    "    \n",
    "        # Compute accuracy metrics\n",
    "        top1_acc = (sim_argsort == 0).float().mean()  # Top-1 accuracy\n",
    "        top5_acc = (sim_argsort < 5).float().mean()   # Top-5 accuracy\n",
    "        mean_pos = 1 + sim_argsort.float().mean()     # Mean position of the positive example\n",
    "\n",
    "        return nll, top1_acc, top5_acc, mean_pos\n",
    "\n",
    "    def train_epoch(self, train_loader, device):\n",
    "        self.train()\n",
    "        total_loss = 0.0\n",
    "        total_top1_acc = 0.0\n",
    "        total_top5_acc = 0.0\n",
    "        total_mean_pos = 0.0\n",
    "\n",
    "        for batch in tqdm(train_loader, desc=\"Training\", leave=False):\n",
    "            imgs1, imgs2, _ = batch\n",
    "            imgs1, imgs2 = imgs1.to(device), imgs2.to(device)  # Move data to device\n",
    "        \n",
    "            self.optimizer.zero_grad()\n",
    "\n",
    "            # Calculate loss and accuracy metrics\n",
    "            loss, top1_acc, top5_acc, mean_pos = self.info_nce_loss(imgs1, imgs2, device)\n",
    "\n",
    "            loss.backward()\n",
    "            self.optimizer.step()\n",
    "            #self.lr_scheduler.step()\n",
    "\n",
    "            # Accumulate metrics\n",
    "            total_loss += loss.item()\n",
    "            total_top1_acc += top1_acc.item()\n",
    "            total_top5_acc += top5_acc.item()\n",
    "            total_mean_pos += mean_pos.item()\n",
    "\n",
    "        avg_loss = total_loss / len(train_loader)\n",
    "        avg_top1_acc = total_top1_acc / len(train_loader)\n",
    "        avg_top5_acc = total_top5_acc / len(train_loader)\n",
    "        avg_mean_pos = total_mean_pos / len(train_loader)\n",
    "\n",
    "        return avg_loss, avg_top1_acc, avg_top5_acc, avg_mean_pos\n",
    "\n",
    "    def validate_epoch(self, val_loader, device):\n",
    "        self.eval()\n",
    "        total_loss = 0.0\n",
    "        total_top1_acc = 0.0\n",
    "        total_top5_acc = 0.0\n",
    "        total_mean_pos = 0.0\n",
    "\n",
    "        with torch.no_grad():\n",
    "            for batch in tqdm(val_loader, desc=\"Validating\", leave=False):\n",
    "                imgs1, imgs2, _ = batch\n",
    "                imgs1, imgs2 = imgs1.to(device), imgs2.to(device)  # Move data to device\n",
    "\n",
    "                # Calculate loss and accuracy metrics\n",
    "                loss, top1_acc, top5_acc, mean_pos = self.info_nce_loss(imgs1, imgs2, device)\n",
    "\n",
    "                # Accumulate metrics\n",
    "                total_loss += loss.item()\n",
    "                total_top1_acc += top1_acc.item()\n",
    "                total_top5_acc += top5_acc.item()\n",
    "                total_mean_pos += mean_pos.item()\n",
    "\n",
    "        avg_loss = total_loss / len(val_loader)\n",
    "        avg_top1_acc = total_top1_acc / len(val_loader)\n",
    "        avg_top5_acc = total_top5_acc / len(val_loader)\n",
    "        avg_mean_pos = total_mean_pos / len(val_loader)\n",
    "\n",
    "        return avg_loss, avg_top1_acc, avg_top5_acc, avg_mean_pos\n",
    "    \n",
    "\n",
    "    def inference_epoch(self, inference_loader, device):\n",
    "        self.eval()\n",
    "        total_loss = 0.0\n",
    "        total_top1_acc = 0.0\n",
    "        total_top5_acc = 0.0\n",
    "        total_mean_pos = 0.0\n",
    "\n",
    "        with torch.no_grad():\n",
    "            for batch in tqdm(inference_loader, desc=\"Inferencing\", leave=False):\n",
    "                imgs1, imgs2, _ = batch\n",
    "                imgs1, imgs2 = imgs1.to(device), imgs2.to(device)  # Move data to device\n",
    "\n",
    "                # Calculate loss and accuracy metrics\n",
    "                loss, top1_acc, top5_acc, mean_pos = self.info_nce_loss(imgs1, imgs2, device)\n",
    "\n",
    "                # Accumulate metrics\n",
    "                total_loss += loss.item()\n",
    "                total_top1_acc += top1_acc.item()\n",
    "                total_top5_acc += top5_acc.item()\n",
    "                total_mean_pos += mean_pos.item()\n",
    "\n",
    "        avg_loss = total_loss / len(inference_loader)\n",
    "        avg_top1_acc = total_top1_acc / len(inference_loader)\n",
    "        avg_top5_acc = total_top5_acc / len(inference_loader)\n",
    "        avg_mean_pos = total_mean_pos / len(inference_loader)\n",
    "\n",
    "        return avg_loss, avg_top1_acc, avg_top5_acc, avg_mean_pos"
   ]
  },
  {
   "cell_type": "code",
   "execution_count": 6,
   "metadata": {},
   "outputs": [
    {
     "name": "stderr",
     "output_type": "stream",
     "text": [
      "C:\\Users\\k54739\\AppData\\Local\\Temp\\ipykernel_23808\\1467178467.py:2: FutureWarning: You are using `torch.load` with `weights_only=False` (the current default value), which uses the default pickle module implicitly. It is possible to construct malicious pickle data which will execute arbitrary code during unpickling (See https://github.com/pytorch/pytorch/blob/main/SECURITY.md#untrusted-models for more details). In a future release, the default value for `weights_only` will be flipped to `True`. This limits the functions that could be executed during unpickling. Arbitrary objects will no longer be allowed to be loaded via this mode unless they are explicitly allowlisted by the user via `torch.serialization.add_safe_globals`. We recommend you start setting `weights_only=True` for any use case where you don't have full control of the loaded file. Please open an issue on GitHub for any issues related to this experimental feature.\n",
      "  simclr_model.load_state_dict(torch.load(full_model_path))\n"
     ]
    },
    {
     "data": {
      "text/plain": [
       "SimCLR(\n",
       "  (convnet): ResNet(\n",
       "    (conv1): Conv2d(3, 64, kernel_size=(7, 7), stride=(2, 2), padding=(3, 3), bias=False)\n",
       "    (bn1): BatchNorm2d(64, eps=1e-05, momentum=0.1, affine=True, track_running_stats=True)\n",
       "    (relu): ReLU(inplace=True)\n",
       "    (maxpool): MaxPool2d(kernel_size=3, stride=2, padding=1, dilation=1, ceil_mode=False)\n",
       "    (layer1): Sequential(\n",
       "      (0): BasicBlock(\n",
       "        (conv1): Conv2d(64, 64, kernel_size=(3, 3), stride=(1, 1), padding=(1, 1), bias=False)\n",
       "        (bn1): BatchNorm2d(64, eps=1e-05, momentum=0.1, affine=True, track_running_stats=True)\n",
       "        (relu): ReLU(inplace=True)\n",
       "        (conv2): Conv2d(64, 64, kernel_size=(3, 3), stride=(1, 1), padding=(1, 1), bias=False)\n",
       "        (bn2): BatchNorm2d(64, eps=1e-05, momentum=0.1, affine=True, track_running_stats=True)\n",
       "      )\n",
       "      (1): BasicBlock(\n",
       "        (conv1): Conv2d(64, 64, kernel_size=(3, 3), stride=(1, 1), padding=(1, 1), bias=False)\n",
       "        (bn1): BatchNorm2d(64, eps=1e-05, momentum=0.1, affine=True, track_running_stats=True)\n",
       "        (relu): ReLU(inplace=True)\n",
       "        (conv2): Conv2d(64, 64, kernel_size=(3, 3), stride=(1, 1), padding=(1, 1), bias=False)\n",
       "        (bn2): BatchNorm2d(64, eps=1e-05, momentum=0.1, affine=True, track_running_stats=True)\n",
       "      )\n",
       "    )\n",
       "    (layer2): Sequential(\n",
       "      (0): BasicBlock(\n",
       "        (conv1): Conv2d(64, 128, kernel_size=(3, 3), stride=(2, 2), padding=(1, 1), bias=False)\n",
       "        (bn1): BatchNorm2d(128, eps=1e-05, momentum=0.1, affine=True, track_running_stats=True)\n",
       "        (relu): ReLU(inplace=True)\n",
       "        (conv2): Conv2d(128, 128, kernel_size=(3, 3), stride=(1, 1), padding=(1, 1), bias=False)\n",
       "        (bn2): BatchNorm2d(128, eps=1e-05, momentum=0.1, affine=True, track_running_stats=True)\n",
       "        (downsample): Sequential(\n",
       "          (0): Conv2d(64, 128, kernel_size=(1, 1), stride=(2, 2), bias=False)\n",
       "          (1): BatchNorm2d(128, eps=1e-05, momentum=0.1, affine=True, track_running_stats=True)\n",
       "        )\n",
       "      )\n",
       "      (1): BasicBlock(\n",
       "        (conv1): Conv2d(128, 128, kernel_size=(3, 3), stride=(1, 1), padding=(1, 1), bias=False)\n",
       "        (bn1): BatchNorm2d(128, eps=1e-05, momentum=0.1, affine=True, track_running_stats=True)\n",
       "        (relu): ReLU(inplace=True)\n",
       "        (conv2): Conv2d(128, 128, kernel_size=(3, 3), stride=(1, 1), padding=(1, 1), bias=False)\n",
       "        (bn2): BatchNorm2d(128, eps=1e-05, momentum=0.1, affine=True, track_running_stats=True)\n",
       "      )\n",
       "    )\n",
       "    (layer3): Sequential(\n",
       "      (0): BasicBlock(\n",
       "        (conv1): Conv2d(128, 256, kernel_size=(3, 3), stride=(2, 2), padding=(1, 1), bias=False)\n",
       "        (bn1): BatchNorm2d(256, eps=1e-05, momentum=0.1, affine=True, track_running_stats=True)\n",
       "        (relu): ReLU(inplace=True)\n",
       "        (conv2): Conv2d(256, 256, kernel_size=(3, 3), stride=(1, 1), padding=(1, 1), bias=False)\n",
       "        (bn2): BatchNorm2d(256, eps=1e-05, momentum=0.1, affine=True, track_running_stats=True)\n",
       "        (downsample): Sequential(\n",
       "          (0): Conv2d(128, 256, kernel_size=(1, 1), stride=(2, 2), bias=False)\n",
       "          (1): BatchNorm2d(256, eps=1e-05, momentum=0.1, affine=True, track_running_stats=True)\n",
       "        )\n",
       "      )\n",
       "      (1): BasicBlock(\n",
       "        (conv1): Conv2d(256, 256, kernel_size=(3, 3), stride=(1, 1), padding=(1, 1), bias=False)\n",
       "        (bn1): BatchNorm2d(256, eps=1e-05, momentum=0.1, affine=True, track_running_stats=True)\n",
       "        (relu): ReLU(inplace=True)\n",
       "        (conv2): Conv2d(256, 256, kernel_size=(3, 3), stride=(1, 1), padding=(1, 1), bias=False)\n",
       "        (bn2): BatchNorm2d(256, eps=1e-05, momentum=0.1, affine=True, track_running_stats=True)\n",
       "      )\n",
       "    )\n",
       "    (layer4): Sequential(\n",
       "      (0): BasicBlock(\n",
       "        (conv1): Conv2d(256, 512, kernel_size=(3, 3), stride=(2, 2), padding=(1, 1), bias=False)\n",
       "        (bn1): BatchNorm2d(512, eps=1e-05, momentum=0.1, affine=True, track_running_stats=True)\n",
       "        (relu): ReLU(inplace=True)\n",
       "        (conv2): Conv2d(512, 512, kernel_size=(3, 3), stride=(1, 1), padding=(1, 1), bias=False)\n",
       "        (bn2): BatchNorm2d(512, eps=1e-05, momentum=0.1, affine=True, track_running_stats=True)\n",
       "        (downsample): Sequential(\n",
       "          (0): Conv2d(256, 512, kernel_size=(1, 1), stride=(2, 2), bias=False)\n",
       "          (1): BatchNorm2d(512, eps=1e-05, momentum=0.1, affine=True, track_running_stats=True)\n",
       "        )\n",
       "      )\n",
       "      (1): BasicBlock(\n",
       "        (conv1): Conv2d(512, 512, kernel_size=(3, 3), stride=(1, 1), padding=(1, 1), bias=False)\n",
       "        (bn1): BatchNorm2d(512, eps=1e-05, momentum=0.1, affine=True, track_running_stats=True)\n",
       "        (relu): ReLU(inplace=True)\n",
       "        (conv2): Conv2d(512, 512, kernel_size=(3, 3), stride=(1, 1), padding=(1, 1), bias=False)\n",
       "        (bn2): BatchNorm2d(512, eps=1e-05, momentum=0.1, affine=True, track_running_stats=True)\n",
       "      )\n",
       "    )\n",
       "    (avgpool): AdaptiveAvgPool2d(output_size=(1, 1))\n",
       "    (fc): Sequential(\n",
       "      (0): Linear(in_features=512, out_features=512, bias=True)\n",
       "      (1): ReLU(inplace=True)\n",
       "      (2): Linear(in_features=512, out_features=20, bias=True)\n",
       "    )\n",
       "  )\n",
       ")"
      ]
     },
     "execution_count": 6,
     "metadata": {},
     "output_type": "execute_result"
    }
   ],
   "source": [
    "simclr_model = SimCLR(hidden_dim=128, lr=5e-4, temperature=0.07, weight_decay=1e-4,max_epochs=245)\n",
    "simclr_model.load_state_dict(torch.load(full_model_path))\n",
    "simclr_model.to(device)\n",
    "simclr_model.eval()"
   ]
  },
  {
   "cell_type": "code",
   "execution_count": 7,
   "metadata": {},
   "outputs": [],
   "source": [
    "from torchvision.transforms import Resize, RandomHorizontalFlip,RandomVerticalFlip\n",
    "import random\n",
    "import torchvision.transforms.functional as TF"
   ]
  },
  {
   "cell_type": "code",
   "execution_count": 8,
   "metadata": {},
   "outputs": [],
   "source": [
    "# Specify paths for both day7 and day10 folders\n",
    "\n",
    "#train_day7_dir = r'C:\\Users\\k54739\\Bibi_new_thesis\\thesis\\day7_day10\\control130_all\\combined\\day7'\n",
    "#train_day10_dir = r'C:\\Users\\k54739\\Bibi_new_thesis\\thesis\\day7_day10\\control130_all\\combined\\day10'\n",
    "\n",
    "\n",
    "#train_day7_dir = r'C:\\Users\\k54739\\Bibi_new_thesis\\thesis\\day7_day10\\exploded38\\day7'\n",
    "#train_day10_dir = r'C:\\Users\\k54739\\Bibi_new_thesis\\thesis\\day7_day10\\exploded38\\day10'\n",
    "\n",
    "train_day7_dir = r'C:\\Users\\k54739\\Bibi_new_thesis\\thesis\\day7_day10\\sd_ds\\single_dose\\RBT 01.04_gant61\\Before (untreated) Day7\\GANT61'\n",
    "train_day10_dir = r'C:\\Users\\k54739\\Bibi_new_thesis\\thesis\\day7_day10\\sd_ds\\single_dose\\RBT 01.04_gant61\\After Day10\\GANT61'\n",
    "\n",
    "#train_dataset = one_Original(train_day7_dir, train_day10_dir) \n",
    "#train_dataset = two_Ori_Hori_blur(train_day7_dir, train_day10_dir) \n",
    "# 3 train_dataset = three_Orig_Veri_sharp(train_day7_dir, train_day10_dir) \n",
    "# 4 train_dataset = four_Orig_verihori_sharp_blur(train_day7_dir, train_day10_dir) \n",
    "# 5 train_dataset = five_only_D10_Hori(train_day7_dir, train_day10_dir) \n",
    "# 6 train_dataset = six_only_D10_veri(train_day7_dir, train_day10_dir) \n",
    "# 7 train_dataset = seven_D10_verihori(train_day7_dir, train_day10_dir) \n",
    "# 8 train_dataset = ate_only_D7_Hori(train_day7_dir, train_day10_dir) \n",
    "# 9 train_dataset = nine_only_D7_veri(train_day7_dir, train_day10_dir) \n",
    "# 10 train_dataset = ten_D7_verihori(train_day7_dir, train_day10_dir) \n",
    "# 11 train_dataset = eleven_Orig_R90_sharp_blur(train_day7_dir, train_day10_dir) \n",
    "# 12 train_dataset = twelve_Orig_R270_sharp_blur(train_day7_dir, train_day10_dir) \n",
    "# 13 train_dataset = thirteen_Orig_HoriR90_sharp_blur(train_day7_dir, train_day10_dir) \n",
    "# 14 train_dataset = fourteen_Orig_HoriR270_sharp_blur(train_day7_dir, train_day10_dir)\n",
    "# 15 train_dataset = fifteen_D7_R90(train_day7_dir, train_day10_dir)\n",
    "# 16 train_dataset = sixteen_D7_R270(train_day7_dir, train_day10_dir)\n",
    "# 17 train_dataset = seventeen_D7_HoriR90(train_day7_dir, train_day10_dir)\n",
    "# 18 train_dataset = ateen_D7_HoriR270(train_day7_dir, train_day10_dir)\n",
    "# 19 train_dataset = ninteen_D10_R90(train_day7_dir, train_day10_dir)\n",
    "# 20 train_dataset = twenty_D10_R270(train_day7_dir, train_day10_dir)\n",
    "# 21 train_dataset = twentyone_D10_HoriR90(train_day7_dir, train_day10_dir)\n",
    "# train_dataset = twentytwo_D10_HoriR270(train_day7_dir, train_day10_dir)\n"
   ]
  },
  {
   "cell_type": "code",
   "execution_count": 9,
   "metadata": {},
   "outputs": [],
   "source": [
    "batch_size = 16\n",
    "# Define DataLoaders\n",
    "train_loader = DataLoader(train_dataset, batch_size=batch_size, shuffle=True, drop_last=False, pin_memory=True, num_workers=0) #num_workers=os.cpu count() using cluster gpu"
   ]
  },
  {
   "cell_type": "code",
   "execution_count": 10,
   "metadata": {},
   "outputs": [
    {
     "data": {
      "image/png": "[encoded data removed]",
      "text/plain": [
       "<Figure size 1200x800 with 2 Axes>"
      ]
     },
     "metadata": {},
     "output_type": "display_data"
    }
   ],
   "source": [
    "# Retrieve one dataset sample\n",
    "#day7_img, day10_img, day7_img_path, day10_img_path = train_dataset[2]\n",
    "day7_img, day10_img= train_dataset[2]\n",
    "\n",
    "# Convert tensors to numpy arrays for visualization\n",
    "day7_img_np = day7_img.permute(1, 2, 0).numpy()\n",
    "day10_img_np = day10_img.permute(1, 2, 0).numpy()\n",
    "\n",
    "# Display images with paths\n",
    "plt.figure(figsize=(12, 8))\n",
    "\n",
    "# Day7 Original\n",
    "plt.subplot(2, 2, 1)\n",
    "plt.imshow(day7_img_np)\n",
    "#plt.title(f\"Day7 Original\\n{day7_img_path}\")\n",
    "plt.axis(\"off\")\n",
    "\n",
    "\n",
    "# Day10 Original\n",
    "plt.subplot(2, 2, 3)\n",
    "plt.imshow(day10_img_np)\n",
    "#plt.title(f\"Day10 Original\\n{day10_img_path}\")\n",
    "plt.axis(\"off\")\n",
    "\n",
    "\n",
    "plt.tight_layout()\n",
    "plt.show()\n"
   ]
  },
  {
   "cell_type": "code",
   "execution_count": 12,
   "metadata": {},
   "outputs": [],
   "source": [
    "@torch.no_grad()\n",
    "def prepare_data_features(model, dataloader):\n",
    "    # Prepare model\n",
    "    network = deepcopy(model.convnet)\n",
    "    network.fc = nn.Identity()  # Removing projection head g(.)\n",
    "    network.eval()\n",
    "    network.to(device)\n",
    "\n",
    "    # Encode all paired images\n",
    "    day7_feats = []\n",
    "    day10_feats = []\n",
    "    \n",
    "    for batch_day7_imgs, batch_day10_imgs in tqdm(dataloader):\n",
    "        # Move images to the device\n",
    "        batch_day7_imgs = batch_day7_imgs.to(device)\n",
    "        batch_day10_imgs = batch_day10_imgs.to(device)\n",
    "\n",
    "        # Extract features for day7 and day10 images\n",
    "        batch_day7_feats = network(batch_day7_imgs)\n",
    "        batch_day10_feats = network(batch_day10_imgs)\n",
    "\n",
    "        print(f\"Day 7 Batch features shape: {batch_day7_feats.shape}\")\n",
    "        print(f\"Day 10 Batch features shape: {batch_day10_feats.shape}\")\n",
    "\n",
    "        # Collect features\n",
    "        day7_feats.append(batch_day7_feats.detach().cpu())\n",
    "        day10_feats.append(batch_day10_feats.detach().cpu())\n",
    "\n",
    "    # Concatenate features\n",
    "    day7_feats = torch.cat(day7_feats, dim=0)\n",
    "    day10_feats = torch.cat(day10_feats, dim=0)\n",
    "\n",
    "    print(f\"Day 7 Features shape after concatenation: {day7_feats.shape}\")\n",
    "    print(f\"Day 10 Features shape after concatenation: {day10_feats.shape}\")\n",
    "\n",
    "    return day7_feats, day10_feats\n"
   ]
  },
  {
   "cell_type": "markdown",
   "metadata": {},
   "source": [
    "import random\n",
    "import torchvision.transforms.functional as TF\n",
    "\n",
    "class ImageDataset(Dataset):\n",
    "    def __init__(self, day7_dir, day10_dir):\n",
    "        self.day7_files = {os.path.basename(file): os.path.join(day7_dir, file) for file in os.listdir(day7_dir) if file.endswith('.tiff')}\n",
    "        self.day10_files = {os.path.basename(file): os.path.join(day10_dir, file) for file in os.listdir(day10_dir) if file.endswith('.tiff')}\n",
    "\n",
    "        # Ensure all day7 files have a corresponding day10 file\n",
    "        self.common_files = list(self.day7_files.keys())\n",
    "        assert set(self.common_files) <= set(self.day10_files.keys()), \"Mismatch between day7 and day10 filenames.\"\n",
    "        self.resize = Resize((96, 96))\n",
    "\n",
    "        # Horizontal flip\n",
    "        #self.Horiflip = RandomHorizontalFlip(p=1)\n",
    "        self.Veriflip = RandomVerticalFlip(p=1)\n",
    "\n",
    "    def __len__(self):\n",
    "        return len(self.common_files)\n",
    "\n",
    "    def __getitem__(self, idx):\n",
    "        filename = self.common_files[idx]\n",
    "        day7_img_path = self.day7_files[filename]\n",
    "        day10_img_path = self.day10_files[filename]\n",
    "\n",
    "        # Load the images\n",
    "        day7_img = tiff.imread(day7_img_path)\n",
    "        day10_img = tiff.imread(day10_img_path)\n",
    "\n",
    "        # Ensure the images have 3 layers (channels)\n",
    "        if day7_img.shape[0] != 3:\n",
    "            raise ValueError(f\"Day7 image at {day7_img_path} does not have exactly 3 layers. Found shape: {day7_img.shape}.\")\n",
    "        if day10_img.shape[0] != 3:\n",
    "            raise ValueError(f\"Day10 image at {day10_img_path} does not have exactly 3 layers. Found shape: {day10_img.shape}.\")\n",
    "\n",
    "        # Normalize and convert both images\n",
    "        day7_img = day7_img.astype(np.float32) / 65535.0\n",
    "        day10_img = day10_img.astype(np.float32) / 65535.0\n",
    "\n",
    "        # Convert to tensors\n",
    "        day7_img = torch.tensor(day7_img, dtype=torch.float32)\n",
    "        day10_img = torch.tensor(day10_img, dtype=torch.float32)\n",
    "\n",
    "        # Resize the images\n",
    "        day7_img = self.resize(day7_img)\n",
    "        day10_img = self.resize(day10_img)\n",
    "\n",
    "        # Apply horizontal flip\n",
    "        day7_img = self.Veriflip(day7_img)\n",
    "        day10_img = self.Veriflip(day10_img)\n",
    "\n",
    "        # Synchronized augmentations\n",
    "        # 1. RandomAdjustSharpness\n",
    "        sharpness_factor = 2.0\n",
    "        day7_aug = TF.adjust_sharpness(day7_img, sharpness_factor)\n",
    "        day10_aug = TF.adjust_sharpness(day10_img, sharpness_factor)\n",
    "\n",
    "        # 2. GaussianBlur\n",
    "        #sigma = random.uniform(0.1, 1)  # Randomly choose sigma in the range [0.1, 1]\n",
    "        #day7_aug = TF.gaussian_blur(day7_aug, kernel_size=5, sigma=sigma)\n",
    "        #day10_aug = TF.gaussian_blur(day10_aug, kernel_size=5, sigma=sigma)\n",
    "\n",
    "        # 3. ColorJitter (brightness adjustment)\n",
    "        brightness_factor = random.uniform(0.85, 1.15)  # Brightness factor between 0.85 and 1.15\n",
    "        day7_aug = TF.adjust_brightness(day7_aug, brightness_factor)\n",
    "        day10_aug = TF.adjust_brightness(day10_aug, brightness_factor)\n",
    "\n",
    "        return day7_aug, day10_aug\n",
    "        #return day7_img, day10_img,day7_aug,day10_aug\n",
    "   \n",
    "# Specify paths for both day7 and day10 folders\n",
    "train_day7_dir = r'C:\\Users\\k54739\\Bibi_new_thesis\\thesis\\day7_day10\\control130_all\\combined\\day7'\n",
    "train_day10_dir = r'C:\\Users\\k54739\\Bibi_new_thesis\\thesis\\day7_day10\\control130_all\\combined\\day10'\n",
    "\n",
    "\n",
    "# Create the dataset\n",
    "train_dataset = ImageDataset(train_day7_dir, train_day10_dir) \n"
   ]
  },
  {
   "cell_type": "markdown",
   "metadata": {},
   "source": [
    "batch_size = 16\n",
    "# Define DataLoaders\n",
    "train_loader = DataLoader(train_dataset, batch_size=batch_size, shuffle=True, drop_last=False, pin_memory=True, num_workers=0) #num_workers=os.cpu count() using cluster gpu"
   ]
  },
  {
   "cell_type": "markdown",
   "metadata": {},
   "source": [
    "aug_transform = transforms.Compose([\n",
    "    transforms.RandomHorizontalFlip(p=1),\n",
    "    transforms.RandomVerticalFlip(p=1),\n",
    "    transforms.RandomAdjustSharpness(sharpness_factor=2.0, p=1),\n",
    "    transforms.RandomApply([\n",
    "        transforms.GaussianBlur(5, sigma=(0.1, 1)) #std p= 0.5 .simclr randomly sample σ ∈ [0.1, 2.0], and the kernel size is set to be 10% of the image height/width. # 9 is the 10% of hight (96) since resizecrop to 96 already loosing info, i wanna reduce bluring. less kernal size and less  less blur\n",
    "    ], p=1),\n",
    "    transforms.RandomApply([\n",
    "    transforms.ColorJitter(brightness=0.15)\n",
    "    ], p=1), \n",
    "\n",
    "])\n"
   ]
  },
  {
   "cell_type": "markdown",
   "metadata": {},
   "source": [
    "# Retrieve one dataset sample\n",
    "day7_img, day10_img, day7_img_path, day10_img_path = train_dataset[2]\n",
    "#day7_img, day10_img= train_dataset[2]\n",
    "\n",
    "# Convert tensors to numpy arrays for visualization\n",
    "day7_img_np = day7_img.permute(1, 2, 0).numpy()\n",
    "day10_img_np = day10_img.permute(1, 2, 0).numpy()\n",
    "\n",
    "# Display images with paths\n",
    "plt.figure(figsize=(12, 8))\n",
    "\n",
    "# Day7 Original\n",
    "plt.subplot(2, 2, 1)\n",
    "plt.imshow(day7_img_np)\n",
    "plt.title(f\"Day7 Original\\n{day7_img_path}\")\n",
    "plt.axis(\"off\")\n",
    "\n",
    "\n",
    "# Day10 Original\n",
    "plt.subplot(2, 2, 3)\n",
    "plt.imshow(day10_img_np)\n",
    "plt.title(f\"Day10 Original\\n{day10_img_path}\")\n",
    "plt.axis(\"off\")\n",
    "\n",
    "\n",
    "plt.tight_layout()\n",
    "plt.show()\n"
   ]
  },
  {
   "cell_type": "markdown",
   "metadata": {},
   "source": [
    "# horizontal flip . only one type of transformation. it doesn't matter left or right."
   ]
  },
  {
   "cell_type": "markdown",
   "metadata": {},
   "source": [
    "# Retrieve one dataset sample\n",
    "day7_img, day10_img,day7_flip,day10_flip = train_dataset[2]\n",
    "\n",
    "# Convert tensors to numpy arrays for visualization\n",
    "day7_img_np = day7_img.permute(1, 2, 0).numpy()\n",
    "day10_img_np = day10_img.permute(1, 2, 0).numpy()\n",
    "day7_flip_np = day7_flip.permute(1, 2, 0).numpy()\n",
    "day10_flip_np = day10_flip.permute(1, 2, 0).numpy()\n",
    "\n",
    "# Display images\n",
    "plt.figure(figsize=(12, 8))\n",
    "\n",
    "# Day7 Original\n",
    "plt.subplot(2, 2, 1)\n",
    "plt.imshow(day7_img_np)\n",
    "plt.title(\"Day7 Original\")\n",
    "plt.axis(\"off\")\n",
    "\n",
    "# Day10 Original\n",
    "plt.subplot(2, 2, 2)\n",
    "plt.imshow(day10_img_np)\n",
    "plt.title(\"Day10 Original\")\n",
    "plt.axis(\"off\")\n",
    "\n",
    "# Day7 Flipped\n",
    "plt.subplot(2, 2, 3)\n",
    "plt.imshow(day7_flip_np)\n",
    "plt.title(\"Day7 Flipped\")\n",
    "plt.axis(\"off\")\n",
    "\n",
    "# Day10 Flipped\n",
    "plt.subplot(2, 2, 4)\n",
    "plt.imshow(day10_flip_np)\n",
    "plt.title(\"Day10 Flipped\")\n",
    "plt.axis(\"off\")\n",
    "\n",
    "plt.tight_layout()\n",
    "plt.show()\n"
   ]
  },
  {
   "cell_type": "markdown",
   "metadata": {},
   "source": [
    "# Retrieve one dataset sample\n",
    "day7_img, day10_img,day7_flip,day10_flip = train_dataset[2]\n",
    "\n",
    "# Convert tensors to numpy arrays for visualization\n",
    "day7_img_np = day7_img.permute(1, 2, 0).numpy()\n",
    "day10_img_np = day10_img.permute(1, 2, 0).numpy()\n",
    "day7_flip_np = day7_flip.permute(1, 2, 0).numpy()\n",
    "day10_flip_np = day10_flip.permute(1, 2, 0).numpy()\n",
    "\n",
    "# Display images\n",
    "plt.figure(figsize=(12, 8))\n",
    "\n",
    "# Day7 Original\n",
    "plt.subplot(2, 2, 1)\n",
    "plt.imshow(day7_img_np)\n",
    "plt.title(\"Day7 Original\")\n",
    "plt.axis(\"off\")\n",
    "\n",
    "# Day10 Original\n",
    "plt.subplot(2, 2, 2)\n",
    "plt.imshow(day10_img_np)\n",
    "plt.title(\"Day10 Original\")\n",
    "plt.axis(\"off\")\n",
    "\n",
    "# Day7 Flipped\n",
    "plt.subplot(2, 2, 3)\n",
    "plt.imshow(day7_flip_np)\n",
    "plt.title(\"Day7 Flipped\")\n",
    "plt.axis(\"off\")\n",
    "\n",
    "# Day10 Flipped\n",
    "plt.subplot(2, 2, 4)\n",
    "plt.imshow(day10_flip_np)\n",
    "plt.title(\"Day10 Flipped\")\n",
    "plt.axis(\"off\")\n",
    "\n",
    "plt.tight_layout()\n",
    "plt.show()\n"
   ]
  },
  {
   "cell_type": "markdown",
   "metadata": {},
   "source": [
    "# Retrieve one dataset sample\n",
    "day7_img, day10_img,day7_flip,day10_flip = train_dataset[2]\n",
    "\n",
    "# Convert tensors to numpy arrays for visualization\n",
    "day7_img_np = day7_img.permute(1, 2, 0).numpy()\n",
    "day10_img_np = day10_img.permute(1, 2, 0).numpy()\n",
    "day7_flip_np = day7_flip.permute(1, 2, 0).numpy()\n",
    "day10_flip_np = day10_flip.permute(1, 2, 0).numpy()\n",
    "\n",
    "# Display images\n",
    "plt.figure(figsize=(12, 8))\n",
    "\n",
    "# Day7 Original\n",
    "plt.subplot(2, 2, 1)\n",
    "plt.imshow(day7_img_np)\n",
    "plt.title(\"Day7 Original\")\n",
    "plt.axis(\"off\")\n",
    "\n",
    "# Day10 Original\n",
    "plt.subplot(2, 2, 2)\n",
    "plt.imshow(day10_img_np)\n",
    "plt.title(\"Day10 Original\")\n",
    "plt.axis(\"off\")\n",
    "\n",
    "# Day7 Flipped\n",
    "plt.subplot(2, 2, 3)\n",
    "plt.imshow(day7_flip_np)\n",
    "plt.title(\"Day7 Flipped\")\n",
    "plt.axis(\"off\")\n",
    "\n",
    "# Day10 Flipped\n",
    "plt.subplot(2, 2, 4)\n",
    "plt.imshow(day10_flip_np)\n",
    "plt.title(\"Day10 Flipped\")\n",
    "plt.axis(\"off\")\n",
    "\n",
    "plt.tight_layout()\n",
    "plt.show()\n"
   ]
  },
  {
   "cell_type": "code",
   "execution_count": 29,
   "metadata": {},
   "outputs": [
    {
     "data": {
      "image/png": "[encoded data removed]",
      "text/plain": [
       "<Figure size 1200x800 with 4 Axes>"
      ]
     },
     "metadata": {},
     "output_type": "display_data"
    }
   ],
   "source": [
    "# Retrieve one dataset sample\n",
    "day7_img, day10_img,day7_flip,day10_flip = train_dataset[2]\n",
    "\n",
    "# Convert tensors to numpy arrays for visualization\n",
    "day7_img_np = day7_img.permute(1, 2, 0).numpy()\n",
    "day10_img_np = day10_img.permute(1, 2, 0).numpy()\n",
    "day7_flip_np = day7_flip.permute(1, 2, 0).numpy()\n",
    "day10_flip_np = day10_flip.permute(1, 2, 0).numpy()\n",
    "\n",
    "# Display images\n",
    "plt.figure(figsize=(12, 8))\n",
    "\n",
    "# Day7 Original\n",
    "plt.subplot(2, 2, 1)\n",
    "plt.imshow(day7_img_np)\n",
    "plt.title(\"Day7 Original\")\n",
    "plt.axis(\"off\")\n",
    "\n",
    "# Day10 Original\n",
    "plt.subplot(2, 2, 2)\n",
    "plt.imshow(day10_img_np)\n",
    "plt.title(\"Day10 Original\")\n",
    "plt.axis(\"off\")\n",
    "\n",
    "# Day7 Flipped\n",
    "plt.subplot(2, 2, 3)\n",
    "plt.imshow(day7_flip_np)\n",
    "plt.title(\"Day7 Flipped\")\n",
    "plt.axis(\"off\")\n",
    "\n",
    "# Day10 Flipped\n",
    "plt.subplot(2, 2, 4)\n",
    "plt.imshow(day10_flip_np)\n",
    "plt.title(\"Day10 Flipped\")\n",
    "plt.axis(\"off\")\n",
    "\n",
    "plt.tight_layout()\n",
    "plt.show()\n"
   ]
  },
  {
   "cell_type": "code",
   "execution_count": 17,
   "metadata": {},
   "outputs": [
    {
     "data": {
      "image/png": "[encoded data removed]",
      "text/plain": [
       "<Figure size 1200x800 with 4 Axes>"
      ]
     },
     "metadata": {},
     "output_type": "display_data"
    }
   ],
   "source": [
    "# Retrieve one dataset sample\n",
    "day7_img, day10_img,day7_aug,day10_aug = train_dataset[2]\n",
    "\n",
    "# Convert tensors to numpy arrays for visualization\n",
    "day7_img_np = day7_img.permute(1, 2, 0).numpy()\n",
    "day10_img_np = day10_img.permute(1, 2, 0).numpy()\n",
    "day7_flip_np = day7_aug.permute(1, 2, 0).numpy()\n",
    "day10_flip_np = day10_aug.permute(1, 2, 0).numpy()\n",
    "\n",
    "# Display images\n",
    "plt.figure(figsize=(12, 8))\n",
    "\n",
    "# Day7 Original\n",
    "plt.subplot(2, 2, 1)\n",
    "plt.imshow(day7_img_np)\n",
    "plt.title(\"Day7 Original\")\n",
    "plt.axis(\"off\")\n",
    "\n",
    "# Day10 Original\n",
    "plt.subplot(2, 2, 2)\n",
    "plt.imshow(day10_img_np)\n",
    "plt.title(\"Day10 Original\")\n",
    "plt.axis(\"off\")\n",
    "\n",
    "# Day7 Flipped\n",
    "plt.subplot(2, 2, 3)\n",
    "plt.imshow(day7_flip_np)\n",
    "plt.title(\"Day7 Flipped\")\n",
    "plt.axis(\"off\")\n",
    "\n",
    "# Day10 Flipped\n",
    "plt.subplot(2, 2, 4)\n",
    "plt.imshow(day10_flip_np)\n",
    "plt.title(\"Day10 Flipped\")\n",
    "plt.axis(\"off\")\n",
    "\n",
    "plt.tight_layout()\n",
    "plt.show()\n"
   ]
  },
  {
   "cell_type": "code",
   "execution_count": 20,
   "metadata": {},
   "outputs": [
    {
     "data": {
      "image/png": "[encoded data removed]",
      "text/plain": [
       "<Figure size 1200x800 with 4 Axes>"
      ]
     },
     "metadata": {},
     "output_type": "display_data"
    }
   ],
   "source": [
    "# Retrieve one dataset sample\n",
    "day7_img, day10_img,day7_aug,day10_aug = train_dataset[2]\n",
    "\n",
    "# Convert tensors to numpy arrays for visualization\n",
    "day7_img_np = day7_img.permute(1, 2, 0).numpy()\n",
    "day10_img_np = day10_img.permute(1, 2, 0).numpy()\n",
    "day7_flip_np = day7_aug.permute(1, 2, 0).numpy()\n",
    "day10_flip_np = day10_aug.permute(1, 2, 0).numpy()\n",
    "\n",
    "# Display images\n",
    "plt.figure(figsize=(12, 8))\n",
    "\n",
    "# Day7 Original\n",
    "plt.subplot(2, 2, 1)\n",
    "plt.imshow(day7_img_np)\n",
    "plt.title(\"Day7 Original\")\n",
    "plt.axis(\"off\")\n",
    "\n",
    "# Day10 Original\n",
    "plt.subplot(2, 2, 2)\n",
    "plt.imshow(day10_img_np)\n",
    "plt.title(\"Day10 Original\")\n",
    "plt.axis(\"off\")\n",
    "\n",
    "# Day7 Flipped\n",
    "plt.subplot(2, 2, 3)\n",
    "plt.imshow(day7_flip_np)\n",
    "plt.title(\"Day7 Flipped\")\n",
    "plt.axis(\"off\")\n",
    "\n",
    "# Day10 Flipped\n",
    "plt.subplot(2, 2, 4)\n",
    "plt.imshow(day10_flip_np)\n",
    "plt.title(\"Day10 Flipped\")\n",
    "plt.axis(\"off\")\n",
    "\n",
    "plt.tight_layout()\n",
    "plt.show()\n"
   ]
  },
  {
   "cell_type": "code",
   "execution_count": 17,
   "metadata": {},
   "outputs": [
    {
     "data": {
      "image/png": "[encoded data removed]",
      "text/plain": [
       "<Figure size 1200x800 with 2 Axes>"
      ]
     },
     "metadata": {},
     "output_type": "display_data"
    }
   ],
   "source": [
    "# Retrieve one dataset sample\n",
    "#day7_img, day10_img, day7_img_path, day10_img_path = train_dataset[2]\n",
    "day7_img, day10_img= train_dataset[3]\n",
    "\n",
    "# Convert tensors to numpy arrays for visualization\n",
    "day7_img_np = day7_img.permute(1, 2, 0).numpy()\n",
    "day10_img_np = day10_img.permute(1, 2, 0).numpy()\n",
    "\n",
    "# Display images with paths\n",
    "plt.figure(figsize=(12, 8))\n",
    "\n",
    "# Day7 Original\n",
    "plt.subplot(2, 2, 1)\n",
    "plt.imshow(day7_img_np)\n",
    "#plt.title(f\"Day7 Original\\n{day7_img_path}\")\n",
    "plt.axis(\"off\")\n",
    "\n",
    "\n",
    "# Day10 Original\n",
    "plt.subplot(2, 2, 3)\n",
    "plt.imshow(day10_img_np)\n",
    "#plt.title(f\"Day10 Original\\n{day10_img_path}\")\n",
    "plt.axis(\"off\")\n",
    "\n",
    "\n",
    "plt.tight_layout()\n",
    "plt.show()\n"
   ]
  },
  {
   "cell_type": "markdown",
   "metadata": {},
   "source": [
    "@torch.no_grad()\n",
    "def prepare_data_features(model, dataloader):\n",
    "    # Prepare model\n",
    "    network = deepcopy(model.convnet)\n",
    "    network.fc = nn.Identity()  # Removing projection head g(.)\n",
    "    network.eval()\n",
    "    network.to(device)\n",
    "\n",
    "    # Encode all paired images\n",
    "    day7_feats = []\n",
    "    day10_feats = []\n",
    "    \n",
    "    for batch_day7_imgs, batch_day10_imgs in tqdm(dataloader):\n",
    "        # Move images to the device\n",
    "        batch_day7_imgs = batch_day7_imgs.to(device)\n",
    "        batch_day10_imgs = batch_day10_imgs.to(device)\n",
    "\n",
    "        # Extract features for day7 and day10 images\n",
    "        batch_day7_feats = network(batch_day7_imgs)\n",
    "        batch_day10_feats = network(batch_day10_imgs)\n",
    "\n",
    "        print(f\"Day 7 Batch features shape: {batch_day7_feats.shape}\")\n",
    "        print(f\"Day 10 Batch features shape: {batch_day10_feats.shape}\")\n",
    "\n",
    "        # Collect features\n",
    "        day7_feats.append(batch_day7_feats.detach().cpu())\n",
    "        day10_feats.append(batch_day10_feats.detach().cpu())\n",
    "\n",
    "    # Concatenate features\n",
    "    day7_feats = torch.cat(day7_feats, dim=0)\n",
    "    day10_feats = torch.cat(day10_feats, dim=0)\n",
    "\n",
    "    print(f\"Day 7 Features shape after concatenation: {day7_feats.shape}\")\n",
    "    print(f\"Day 10 Features shape after concatenation: {day10_feats.shape}\")\n",
    "\n",
    "    return day7_feats, day10_feats\n"
   ]
  },
  {
   "cell_type": "code",
   "execution_count": 15,
   "metadata": {},
   "outputs": [
    {
     "name": "stderr",
     "output_type": "stream",
     "text": [
      " 11%|█         | 1/9 [00:01<00:12,  1.51s/it]"
     ]
    },
    {
     "name": "stdout",
     "output_type": "stream",
     "text": [
      "Day 7 Batch features shape: torch.Size([16, 512])\n",
      "Day 10 Batch features shape: torch.Size([16, 512])\n"
     ]
    },
    {
     "name": "stderr",
     "output_type": "stream",
     "text": [
      " 22%|██▏       | 2/9 [00:02<00:09,  1.35s/it]"
     ]
    },
    {
     "name": "stdout",
     "output_type": "stream",
     "text": [
      "Day 7 Batch features shape: torch.Size([16, 512])\n",
      "Day 10 Batch features shape: torch.Size([16, 512])\n"
     ]
    },
    {
     "name": "stderr",
     "output_type": "stream",
     "text": [
      " 33%|███▎      | 3/9 [00:03<00:07,  1.28s/it]"
     ]
    },
    {
     "name": "stdout",
     "output_type": "stream",
     "text": [
      "Day 7 Batch features shape: torch.Size([16, 512])\n",
      "Day 10 Batch features shape: torch.Size([16, 512])\n"
     ]
    },
    {
     "name": "stderr",
     "output_type": "stream",
     "text": [
      " 44%|████▍     | 4/9 [00:05<00:06,  1.26s/it]"
     ]
    },
    {
     "name": "stdout",
     "output_type": "stream",
     "text": [
      "Day 7 Batch features shape: torch.Size([16, 512])\n",
      "Day 10 Batch features shape: torch.Size([16, 512])\n"
     ]
    },
    {
     "name": "stderr",
     "output_type": "stream",
     "text": [
      " 56%|█████▌    | 5/9 [00:06<00:05,  1.30s/it]"
     ]
    },
    {
     "name": "stdout",
     "output_type": "stream",
     "text": [
      "Day 7 Batch features shape: torch.Size([16, 512])\n",
      "Day 10 Batch features shape: torch.Size([16, 512])\n"
     ]
    },
    {
     "name": "stderr",
     "output_type": "stream",
     "text": [
      " 67%|██████▋   | 6/9 [00:07<00:03,  1.31s/it]"
     ]
    },
    {
     "name": "stdout",
     "output_type": "stream",
     "text": [
      "Day 7 Batch features shape: torch.Size([16, 512])\n",
      "Day 10 Batch features shape: torch.Size([16, 512])\n"
     ]
    },
    {
     "name": "stderr",
     "output_type": "stream",
     "text": [
      " 78%|███████▊  | 7/9 [00:09<00:02,  1.32s/it]"
     ]
    },
    {
     "name": "stdout",
     "output_type": "stream",
     "text": [
      "Day 7 Batch features shape: torch.Size([16, 512])\n",
      "Day 10 Batch features shape: torch.Size([16, 512])\n"
     ]
    },
    {
     "name": "stderr",
     "output_type": "stream",
     "text": [
      " 89%|████████▉ | 8/9 [00:10<00:01,  1.28s/it]"
     ]
    },
    {
     "name": "stdout",
     "output_type": "stream",
     "text": [
      "Day 7 Batch features shape: torch.Size([16, 512])\n",
      "Day 10 Batch features shape: torch.Size([16, 512])\n"
     ]
    },
    {
     "name": "stderr",
     "output_type": "stream",
     "text": [
      "100%|██████████| 9/9 [00:10<00:00,  1.18s/it]"
     ]
    },
    {
     "name": "stdout",
     "output_type": "stream",
     "text": [
      "Day 7 Batch features shape: torch.Size([2, 512])\n",
      "Day 10 Batch features shape: torch.Size([2, 512])\n",
      "Day 7 Features shape after concatenation: torch.Size([130, 512])\n",
      "Day 10 Features shape after concatenation: torch.Size([130, 512])\n"
     ]
    },
    {
     "name": "stderr",
     "output_type": "stream",
     "text": [
      "\n"
     ]
    }
   ],
   "source": [
    "# Extract features from the training dataset\n",
    "cond7_130_orig, cond10_130_orig = prepare_data_features(simclr_model, train_loader)"
   ]
  },
  {
   "cell_type": "code",
   "execution_count": 16,
   "metadata": {},
   "outputs": [],
   "source": [
    "# Save training features\n",
    "torch.save(cond7_130_orig, 'cond7_130_orig.pt')\n",
    "torch.save(cond10_130_orig, 'cond10_130_orig.pt')"
   ]
  },
  {
   "cell_type": "code",
   "execution_count": 13,
   "metadata": {},
   "outputs": [
    {
     "name": "stderr",
     "output_type": "stream",
     "text": [
      " 50%|█████     | 1/2 [00:01<00:01,  1.73s/it]"
     ]
    },
    {
     "name": "stdout",
     "output_type": "stream",
     "text": [
      "Day 7 Batch features shape: torch.Size([16, 512])\n",
      "Day 10 Batch features shape: torch.Size([16, 512])\n"
     ]
    },
    {
     "name": "stderr",
     "output_type": "stream",
     "text": [
      "100%|██████████| 2/2 [00:03<00:00,  1.52s/it]"
     ]
    },
    {
     "name": "stdout",
     "output_type": "stream",
     "text": [
      "Day 7 Batch features shape: torch.Size([13, 512])\n",
      "Day 10 Batch features shape: torch.Size([13, 512])\n",
      "Day 7 Features shape after concatenation: torch.Size([29, 512])\n",
      "Day 10 Features shape after concatenation: torch.Size([29, 512])\n"
     ]
    },
    {
     "name": "stderr",
     "output_type": "stream",
     "text": [
      "\n"
     ]
    }
   ],
   "source": [
    "# Extract features from the training dataset\n",
    "sd7, sd10 = prepare_data_features(simclr_model, train_loader)"
   ]
  },
  {
   "cell_type": "code",
   "execution_count": 14,
   "metadata": {},
   "outputs": [],
   "source": [
    "# Save training features\n",
    "torch.save(sd7, 'sd7.pt')\n",
    "torch.save(sd10, 'sd10.pt')"
   ]
  },
  {
   "cell_type": "code",
   "execution_count": 12,
   "metadata": {},
   "outputs": [
    {
     "name": "stderr",
     "output_type": "stream",
     "text": [
      " 33%|███▎      | 1/3 [00:01<00:03,  1.69s/it]"
     ]
    },
    {
     "name": "stdout",
     "output_type": "stream",
     "text": [
      "Day 7 Batch features shape: torch.Size([16, 512])\n",
      "Day 10 Batch features shape: torch.Size([16, 512])\n"
     ]
    },
    {
     "name": "stderr",
     "output_type": "stream",
     "text": [
      " 67%|██████▋   | 2/3 [00:03<00:01,  1.56s/it]"
     ]
    },
    {
     "name": "stdout",
     "output_type": "stream",
     "text": [
      "Day 7 Batch features shape: torch.Size([16, 512])\n",
      "Day 10 Batch features shape: torch.Size([16, 512])\n"
     ]
    },
    {
     "name": "stderr",
     "output_type": "stream",
     "text": [
      "100%|██████████| 3/3 [00:03<00:00,  1.24s/it]"
     ]
    },
    {
     "name": "stdout",
     "output_type": "stream",
     "text": [
      "Day 7 Batch features shape: torch.Size([6, 512])\n",
      "Day 10 Batch features shape: torch.Size([6, 512])\n",
      "Day 7 Features shape after concatenation: torch.Size([38, 512])\n",
      "Day 10 Features shape after concatenation: torch.Size([38, 512])\n"
     ]
    },
    {
     "name": "stderr",
     "output_type": "stream",
     "text": [
      "\n"
     ]
    }
   ],
   "source": [
    "# Extract features from the training dataset\n",
    "exploded38_day7, exploded38_day10 = prepare_data_features(simclr_model, train_loader)"
   ]
  },
  {
   "cell_type": "code",
   "execution_count": 13,
   "metadata": {},
   "outputs": [],
   "source": [
    "# Save training features\n",
    "torch.save(exploded38_day7, 'ex7.pt')\n",
    "torch.save(exploded38_day10, 'ex10.pt')"
   ]
  },
  {
   "cell_type": "code",
   "execution_count": 13,
   "metadata": {},
   "outputs": [
    {
     "name": "stderr",
     "output_type": "stream",
     "text": [
      "  0%|          | 0/9 [00:00<?, ?it/s]"
     ]
    },
    {
     "name": "stderr",
     "output_type": "stream",
     "text": [
      " 11%|█         | 1/9 [00:01<00:13,  1.70s/it]"
     ]
    },
    {
     "name": "stdout",
     "output_type": "stream",
     "text": [
      "Day 7 Batch features shape: torch.Size([16, 512])\n",
      "Day 10 Batch features shape: torch.Size([16, 512])\n"
     ]
    },
    {
     "name": "stderr",
     "output_type": "stream",
     "text": [
      " 22%|██▏       | 2/9 [00:03<00:11,  1.60s/it]"
     ]
    },
    {
     "name": "stdout",
     "output_type": "stream",
     "text": [
      "Day 7 Batch features shape: torch.Size([16, 512])\n",
      "Day 10 Batch features shape: torch.Size([16, 512])\n"
     ]
    },
    {
     "name": "stderr",
     "output_type": "stream",
     "text": [
      " 33%|███▎      | 3/9 [00:04<00:09,  1.52s/it]"
     ]
    },
    {
     "name": "stdout",
     "output_type": "stream",
     "text": [
      "Day 7 Batch features shape: torch.Size([16, 512])\n",
      "Day 10 Batch features shape: torch.Size([16, 512])\n"
     ]
    },
    {
     "name": "stderr",
     "output_type": "stream",
     "text": [
      " 44%|████▍     | 4/9 [00:06<00:07,  1.49s/it]"
     ]
    },
    {
     "name": "stdout",
     "output_type": "stream",
     "text": [
      "Day 7 Batch features shape: torch.Size([16, 512])\n",
      "Day 10 Batch features shape: torch.Size([16, 512])\n"
     ]
    },
    {
     "name": "stderr",
     "output_type": "stream",
     "text": [
      " 56%|█████▌    | 5/9 [00:07<00:05,  1.48s/it]"
     ]
    },
    {
     "name": "stdout",
     "output_type": "stream",
     "text": [
      "Day 7 Batch features shape: torch.Size([16, 512])\n",
      "Day 10 Batch features shape: torch.Size([16, 512])\n"
     ]
    },
    {
     "name": "stderr",
     "output_type": "stream",
     "text": [
      " 67%|██████▋   | 6/9 [00:09<00:04,  1.48s/it]"
     ]
    },
    {
     "name": "stdout",
     "output_type": "stream",
     "text": [
      "Day 7 Batch features shape: torch.Size([16, 512])\n",
      "Day 10 Batch features shape: torch.Size([16, 512])\n"
     ]
    },
    {
     "name": "stderr",
     "output_type": "stream",
     "text": [
      " 78%|███████▊  | 7/9 [00:10<00:02,  1.46s/it]"
     ]
    },
    {
     "name": "stdout",
     "output_type": "stream",
     "text": [
      "Day 7 Batch features shape: torch.Size([16, 512])\n",
      "Day 10 Batch features shape: torch.Size([16, 512])\n"
     ]
    },
    {
     "name": "stderr",
     "output_type": "stream",
     "text": [
      " 89%|████████▉ | 8/9 [00:11<00:01,  1.48s/it]"
     ]
    },
    {
     "name": "stdout",
     "output_type": "stream",
     "text": [
      "Day 7 Batch features shape: torch.Size([16, 512])\n",
      "Day 10 Batch features shape: torch.Size([16, 512])\n"
     ]
    },
    {
     "name": "stderr",
     "output_type": "stream",
     "text": [
      "100%|██████████| 9/9 [00:12<00:00,  1.36s/it]"
     ]
    },
    {
     "name": "stdout",
     "output_type": "stream",
     "text": [
      "Day 7 Batch features shape: torch.Size([2, 512])\n",
      "Day 10 Batch features shape: torch.Size([2, 512])\n",
      "Day 7 Features shape after concatenation: torch.Size([130, 512])\n",
      "Day 10 Features shape after concatenation: torch.Size([130, 512])\n"
     ]
    },
    {
     "name": "stderr",
     "output_type": "stream",
     "text": [
      "\n"
     ]
    }
   ],
   "source": [
    "# Extract features from the training dataset\n",
    "cond7_only10Veri, cond10_only10Veri = prepare_data_features(simclr_model, train_loader)\n"
   ]
  },
  {
   "cell_type": "code",
   "execution_count": 14,
   "metadata": {},
   "outputs": [
    {
     "name": "stdout",
     "output_type": "stream",
     "text": [
      "Features saved successfully!\n"
     ]
    }
   ],
   "source": [
    "import torch\n",
    "\n",
    "# Save the combined day 7 features\n",
    "torch.save(cond7_only10Veri, 'cond7_only10Veri.pt')\n",
    "\n",
    "# Save the combined day 10 features\n",
    "torch.save(cond10_only10Veri, 'cond10_only10Veri.pt')\n",
    "\n",
    "print(\"Features saved successfully!\")\n"
   ]
  },
  {
   "cell_type": "code",
   "execution_count": null,
   "metadata": {},
   "outputs": [],
   "source": []
  },
  {
   "cell_type": "code",
   "execution_count": 12,
   "metadata": {},
   "outputs": [
    {
     "name": "stderr",
     "output_type": "stream",
     "text": [
      " 11%|█         | 1/9 [00:01<00:13,  1.67s/it]"
     ]
    },
    {
     "name": "stdout",
     "output_type": "stream",
     "text": [
      "Day 7 Batch features shape: torch.Size([16, 512])\n",
      "Day 10 Batch features shape: torch.Size([16, 512])\n"
     ]
    },
    {
     "name": "stderr",
     "output_type": "stream",
     "text": [
      " 22%|██▏       | 2/9 [00:03<00:10,  1.54s/it]"
     ]
    },
    {
     "name": "stdout",
     "output_type": "stream",
     "text": [
      "Day 7 Batch features shape: torch.Size([16, 512])\n",
      "Day 10 Batch features shape: torch.Size([16, 512])\n"
     ]
    },
    {
     "name": "stderr",
     "output_type": "stream",
     "text": [
      " 33%|███▎      | 3/9 [00:04<00:09,  1.52s/it]"
     ]
    },
    {
     "name": "stdout",
     "output_type": "stream",
     "text": [
      "Day 7 Batch features shape: torch.Size([16, 512])\n",
      "Day 10 Batch features shape: torch.Size([16, 512])\n"
     ]
    },
    {
     "name": "stderr",
     "output_type": "stream",
     "text": [
      " 44%|████▍     | 4/9 [00:06<00:07,  1.49s/it]"
     ]
    },
    {
     "name": "stdout",
     "output_type": "stream",
     "text": [
      "Day 7 Batch features shape: torch.Size([16, 512])\n",
      "Day 10 Batch features shape: torch.Size([16, 512])\n"
     ]
    },
    {
     "name": "stderr",
     "output_type": "stream",
     "text": [
      " 56%|█████▌    | 5/9 [00:07<00:05,  1.48s/it]"
     ]
    },
    {
     "name": "stdout",
     "output_type": "stream",
     "text": [
      "Day 7 Batch features shape: torch.Size([16, 512])\n",
      "Day 10 Batch features shape: torch.Size([16, 512])\n"
     ]
    },
    {
     "name": "stderr",
     "output_type": "stream",
     "text": [
      " 67%|██████▋   | 6/9 [00:08<00:04,  1.47s/it]"
     ]
    },
    {
     "name": "stdout",
     "output_type": "stream",
     "text": [
      "Day 7 Batch features shape: torch.Size([16, 512])\n",
      "Day 10 Batch features shape: torch.Size([16, 512])\n"
     ]
    },
    {
     "name": "stderr",
     "output_type": "stream",
     "text": [
      " 78%|███████▊  | 7/9 [00:10<00:02,  1.46s/it]"
     ]
    },
    {
     "name": "stdout",
     "output_type": "stream",
     "text": [
      "Day 7 Batch features shape: torch.Size([16, 512])\n",
      "Day 10 Batch features shape: torch.Size([16, 512])\n"
     ]
    },
    {
     "name": "stderr",
     "output_type": "stream",
     "text": [
      " 89%|████████▉ | 8/9 [00:11<00:01,  1.46s/it]"
     ]
    },
    {
     "name": "stdout",
     "output_type": "stream",
     "text": [
      "Day 7 Batch features shape: torch.Size([16, 512])\n",
      "Day 10 Batch features shape: torch.Size([16, 512])\n"
     ]
    },
    {
     "name": "stderr",
     "output_type": "stream",
     "text": [
      "100%|██████████| 9/9 [00:12<00:00,  1.34s/it]"
     ]
    },
    {
     "name": "stdout",
     "output_type": "stream",
     "text": [
      "Day 7 Batch features shape: torch.Size([2, 512])\n",
      "Day 10 Batch features shape: torch.Size([2, 512])\n",
      "Day 7 Features shape after concatenation: torch.Size([130, 512])\n",
      "Day 10 Features shape after concatenation: torch.Size([130, 512])\n"
     ]
    },
    {
     "name": "stderr",
     "output_type": "stream",
     "text": [
      "\n"
     ]
    }
   ],
   "source": [
    "# Extract features from the training dataset\n",
    "cond7_only10Hori, cond10_only10Hori = prepare_data_features(simclr_model, train_loader)\n"
   ]
  },
  {
   "cell_type": "code",
   "execution_count": 13,
   "metadata": {},
   "outputs": [
    {
     "name": "stdout",
     "output_type": "stream",
     "text": [
      "Features saved successfully!\n"
     ]
    }
   ],
   "source": [
    "import torch\n",
    "\n",
    "# Save the combined day 7 features\n",
    "torch.save(cond7_only10Hori, 'cond7_only10Hori.pt')\n",
    "\n",
    "# Save the combined day 10 features\n",
    "torch.save(cond10_only10Hori, 'cond10_only10Hori.pt')\n",
    "\n",
    "print(\"Features saved successfully!\")\n"
   ]
  },
  {
   "cell_type": "code",
   "execution_count": null,
   "metadata": {},
   "outputs": [],
   "source": []
  },
  {
   "cell_type": "code",
   "execution_count": 13,
   "metadata": {},
   "outputs": [
    {
     "name": "stderr",
     "output_type": "stream",
     "text": [
      "  0%|          | 0/9 [00:00<?, ?it/s]"
     ]
    },
    {
     "name": "stderr",
     "output_type": "stream",
     "text": [
      " 11%|█         | 1/9 [00:01<00:13,  1.71s/it]"
     ]
    },
    {
     "name": "stdout",
     "output_type": "stream",
     "text": [
      "Day 7 Batch features shape: torch.Size([16, 512])\n",
      "Day 10 Batch features shape: torch.Size([16, 512])\n"
     ]
    },
    {
     "name": "stderr",
     "output_type": "stream",
     "text": [
      " 22%|██▏       | 2/9 [00:03<00:11,  1.59s/it]"
     ]
    },
    {
     "name": "stdout",
     "output_type": "stream",
     "text": [
      "Day 7 Batch features shape: torch.Size([16, 512])\n",
      "Day 10 Batch features shape: torch.Size([16, 512])\n"
     ]
    },
    {
     "name": "stderr",
     "output_type": "stream",
     "text": [
      " 33%|███▎      | 3/9 [00:04<00:09,  1.54s/it]"
     ]
    },
    {
     "name": "stdout",
     "output_type": "stream",
     "text": [
      "Day 7 Batch features shape: torch.Size([16, 512])\n",
      "Day 10 Batch features shape: torch.Size([16, 512])\n"
     ]
    },
    {
     "name": "stderr",
     "output_type": "stream",
     "text": [
      " 44%|████▍     | 4/9 [00:06<00:07,  1.51s/it]"
     ]
    },
    {
     "name": "stdout",
     "output_type": "stream",
     "text": [
      "Day 7 Batch features shape: torch.Size([16, 512])\n",
      "Day 10 Batch features shape: torch.Size([16, 512])\n"
     ]
    },
    {
     "name": "stderr",
     "output_type": "stream",
     "text": [
      " 56%|█████▌    | 5/9 [00:07<00:06,  1.53s/it]"
     ]
    },
    {
     "name": "stdout",
     "output_type": "stream",
     "text": [
      "Day 7 Batch features shape: torch.Size([16, 512])\n",
      "Day 10 Batch features shape: torch.Size([16, 512])\n"
     ]
    },
    {
     "name": "stderr",
     "output_type": "stream",
     "text": [
      " 67%|██████▋   | 6/9 [00:09<00:04,  1.50s/it]"
     ]
    },
    {
     "name": "stdout",
     "output_type": "stream",
     "text": [
      "Day 7 Batch features shape: torch.Size([16, 512])\n",
      "Day 10 Batch features shape: torch.Size([16, 512])\n"
     ]
    },
    {
     "name": "stderr",
     "output_type": "stream",
     "text": [
      " 78%|███████▊  | 7/9 [00:10<00:02,  1.46s/it]"
     ]
    },
    {
     "name": "stdout",
     "output_type": "stream",
     "text": [
      "Day 7 Batch features shape: torch.Size([16, 512])\n",
      "Day 10 Batch features shape: torch.Size([16, 512])\n"
     ]
    },
    {
     "name": "stderr",
     "output_type": "stream",
     "text": [
      " 89%|████████▉ | 8/9 [00:11<00:01,  1.45s/it]"
     ]
    },
    {
     "name": "stdout",
     "output_type": "stream",
     "text": [
      "Day 7 Batch features shape: torch.Size([16, 512])\n",
      "Day 10 Batch features shape: torch.Size([16, 512])\n"
     ]
    },
    {
     "name": "stderr",
     "output_type": "stream",
     "text": [
      "100%|██████████| 9/9 [00:12<00:00,  1.36s/it]"
     ]
    },
    {
     "name": "stdout",
     "output_type": "stream",
     "text": [
      "Day 7 Batch features shape: torch.Size([2, 512])\n",
      "Day 10 Batch features shape: torch.Size([2, 512])\n",
      "Day 7 Features shape after concatenation: torch.Size([130, 512])\n",
      "Day 10 Features shape after concatenation: torch.Size([130, 512])\n"
     ]
    },
    {
     "name": "stderr",
     "output_type": "stream",
     "text": [
      "\n"
     ]
    }
   ],
   "source": [
    "# Extract features from the training dataset\n",
    "cond_veriHori7, cond_veriHori10 = prepare_data_features(simclr_model, train_loader)\n"
   ]
  },
  {
   "cell_type": "code",
   "execution_count": 14,
   "metadata": {},
   "outputs": [
    {
     "name": "stdout",
     "output_type": "stream",
     "text": [
      "Features saved successfully!\n"
     ]
    }
   ],
   "source": [
    "import torch\n",
    "\n",
    "# Save the combined day 7 features\n",
    "torch.save(cond_veriHori7, 'cond_veriHori7.pt')\n",
    "\n",
    "# Save the combined day 10 features\n",
    "torch.save(cond_veriHori10, 'cond_veriHori10.pt')\n",
    "\n",
    "print(\"Features saved successfully!\")\n"
   ]
  },
  {
   "cell_type": "code",
   "execution_count": null,
   "metadata": {},
   "outputs": [],
   "source": []
  },
  {
   "cell_type": "code",
   "execution_count": 12,
   "metadata": {},
   "outputs": [
    {
     "name": "stderr",
     "output_type": "stream",
     "text": [
      " 11%|█         | 1/9 [00:01<00:13,  1.67s/it]"
     ]
    },
    {
     "name": "stdout",
     "output_type": "stream",
     "text": [
      "Day 7 Batch features shape: torch.Size([16, 512])\n",
      "Day 10 Batch features shape: torch.Size([16, 512])\n"
     ]
    },
    {
     "name": "stderr",
     "output_type": "stream",
     "text": [
      " 22%|██▏       | 2/9 [00:03<00:10,  1.57s/it]"
     ]
    },
    {
     "name": "stdout",
     "output_type": "stream",
     "text": [
      "Day 7 Batch features shape: torch.Size([16, 512])\n",
      "Day 10 Batch features shape: torch.Size([16, 512])\n"
     ]
    },
    {
     "name": "stderr",
     "output_type": "stream",
     "text": [
      " 33%|███▎      | 3/9 [00:04<00:09,  1.52s/it]"
     ]
    },
    {
     "name": "stdout",
     "output_type": "stream",
     "text": [
      "Day 7 Batch features shape: torch.Size([16, 512])\n",
      "Day 10 Batch features shape: torch.Size([16, 512])\n"
     ]
    },
    {
     "name": "stderr",
     "output_type": "stream",
     "text": [
      " 44%|████▍     | 4/9 [00:06<00:07,  1.49s/it]"
     ]
    },
    {
     "name": "stdout",
     "output_type": "stream",
     "text": [
      "Day 7 Batch features shape: torch.Size([16, 512])\n",
      "Day 10 Batch features shape: torch.Size([16, 512])\n"
     ]
    },
    {
     "name": "stderr",
     "output_type": "stream",
     "text": [
      " 56%|█████▌    | 5/9 [00:07<00:05,  1.48s/it]"
     ]
    },
    {
     "name": "stdout",
     "output_type": "stream",
     "text": [
      "Day 7 Batch features shape: torch.Size([16, 512])\n",
      "Day 10 Batch features shape: torch.Size([16, 512])\n"
     ]
    },
    {
     "name": "stderr",
     "output_type": "stream",
     "text": [
      " 67%|██████▋   | 6/9 [00:08<00:04,  1.47s/it]"
     ]
    },
    {
     "name": "stdout",
     "output_type": "stream",
     "text": [
      "Day 7 Batch features shape: torch.Size([16, 512])\n",
      "Day 10 Batch features shape: torch.Size([16, 512])\n"
     ]
    },
    {
     "name": "stderr",
     "output_type": "stream",
     "text": [
      " 78%|███████▊  | 7/9 [00:10<00:02,  1.45s/it]"
     ]
    },
    {
     "name": "stdout",
     "output_type": "stream",
     "text": [
      "Day 7 Batch features shape: torch.Size([16, 512])\n",
      "Day 10 Batch features shape: torch.Size([16, 512])\n"
     ]
    },
    {
     "name": "stderr",
     "output_type": "stream",
     "text": [
      " 89%|████████▉ | 8/9 [00:11<00:01,  1.44s/it]"
     ]
    },
    {
     "name": "stdout",
     "output_type": "stream",
     "text": [
      "Day 7 Batch features shape: torch.Size([16, 512])\n",
      "Day 10 Batch features shape: torch.Size([16, 512])\n"
     ]
    },
    {
     "name": "stderr",
     "output_type": "stream",
     "text": [
      "100%|██████████| 9/9 [00:12<00:00,  1.33s/it]"
     ]
    },
    {
     "name": "stdout",
     "output_type": "stream",
     "text": [
      "Day 7 Batch features shape: torch.Size([2, 512])\n",
      "Day 10 Batch features shape: torch.Size([2, 512])\n",
      "Day 7 Features shape after concatenation: torch.Size([130, 512])\n",
      "Day 10 Features shape after concatenation: torch.Size([130, 512])\n"
     ]
    },
    {
     "name": "stderr",
     "output_type": "stream",
     "text": [
      "\n"
     ]
    }
   ],
   "source": [
    "# Extract features from the training dataset\n",
    "cond_Veri7, cond_Veri10 = prepare_data_features(simclr_model, train_loader)\n"
   ]
  },
  {
   "cell_type": "code",
   "execution_count": 13,
   "metadata": {},
   "outputs": [
    {
     "name": "stdout",
     "output_type": "stream",
     "text": [
      "Features saved successfully!\n"
     ]
    }
   ],
   "source": [
    "import torch\n",
    "\n",
    "# Save the combined day 7 features\n",
    "torch.save(cond_Veri7, 'cond_Veri7.pt')\n",
    "\n",
    "# Save the combined day 10 features\n",
    "torch.save(cond_Veri10, 'cond_Veri10.pt')\n",
    "\n",
    "print(\"Features saved successfully!\")\n"
   ]
  },
  {
   "cell_type": "code",
   "execution_count": null,
   "metadata": {},
   "outputs": [],
   "source": []
  },
  {
   "cell_type": "code",
   "execution_count": 14,
   "metadata": {},
   "outputs": [
    {
     "name": "stderr",
     "output_type": "stream",
     "text": [
      " 11%|█         | 1/9 [00:01<00:11,  1.39s/it]"
     ]
    },
    {
     "name": "stdout",
     "output_type": "stream",
     "text": [
      "Day 7 Batch features shape: torch.Size([16, 512])\n",
      "Day 10 Batch features shape: torch.Size([16, 512])\n"
     ]
    },
    {
     "name": "stderr",
     "output_type": "stream",
     "text": [
      " 22%|██▏       | 2/9 [00:02<00:09,  1.40s/it]"
     ]
    },
    {
     "name": "stdout",
     "output_type": "stream",
     "text": [
      "Day 7 Batch features shape: torch.Size([16, 512])\n",
      "Day 10 Batch features shape: torch.Size([16, 512])\n"
     ]
    },
    {
     "name": "stderr",
     "output_type": "stream",
     "text": [
      " 33%|███▎      | 3/9 [00:04<00:08,  1.36s/it]"
     ]
    },
    {
     "name": "stdout",
     "output_type": "stream",
     "text": [
      "Day 7 Batch features shape: torch.Size([16, 512])\n",
      "Day 10 Batch features shape: torch.Size([16, 512])\n"
     ]
    },
    {
     "name": "stderr",
     "output_type": "stream",
     "text": [
      " 44%|████▍     | 4/9 [00:05<00:06,  1.36s/it]"
     ]
    },
    {
     "name": "stdout",
     "output_type": "stream",
     "text": [
      "Day 7 Batch features shape: torch.Size([16, 512])\n",
      "Day 10 Batch features shape: torch.Size([16, 512])\n"
     ]
    },
    {
     "name": "stderr",
     "output_type": "stream",
     "text": [
      " 56%|█████▌    | 5/9 [00:06<00:05,  1.33s/it]"
     ]
    },
    {
     "name": "stdout",
     "output_type": "stream",
     "text": [
      "Day 7 Batch features shape: torch.Size([16, 512])\n",
      "Day 10 Batch features shape: torch.Size([16, 512])\n"
     ]
    },
    {
     "name": "stderr",
     "output_type": "stream",
     "text": [
      " 67%|██████▋   | 6/9 [00:08<00:04,  1.37s/it]"
     ]
    },
    {
     "name": "stdout",
     "output_type": "stream",
     "text": [
      "Day 7 Batch features shape: torch.Size([16, 512])\n",
      "Day 10 Batch features shape: torch.Size([16, 512])\n"
     ]
    },
    {
     "name": "stderr",
     "output_type": "stream",
     "text": [
      " 78%|███████▊  | 7/9 [00:09<00:02,  1.33s/it]"
     ]
    },
    {
     "name": "stdout",
     "output_type": "stream",
     "text": [
      "Day 7 Batch features shape: torch.Size([16, 512])\n",
      "Day 10 Batch features shape: torch.Size([16, 512])\n"
     ]
    },
    {
     "name": "stderr",
     "output_type": "stream",
     "text": [
      "100%|██████████| 9/9 [00:10<00:00,  1.20s/it]"
     ]
    },
    {
     "name": "stdout",
     "output_type": "stream",
     "text": [
      "Day 7 Batch features shape: torch.Size([16, 512])\n",
      "Day 10 Batch features shape: torch.Size([16, 512])\n",
      "Day 7 Batch features shape: torch.Size([2, 512])\n",
      "Day 10 Batch features shape: torch.Size([2, 512])\n",
      "Day 7 Features shape after concatenation: torch.Size([130, 512])\n",
      "Day 10 Features shape after concatenation: torch.Size([130, 512])\n"
     ]
    },
    {
     "name": "stderr",
     "output_type": "stream",
     "text": [
      "\n"
     ]
    }
   ],
   "source": [
    "# Extract features from the training dataset\n",
    "cond_hori7, cond_hori10 = prepare_data_features(simclr_model, train_loader)\n"
   ]
  },
  {
   "cell_type": "code",
   "execution_count": 13,
   "metadata": {},
   "outputs": [
    {
     "name": "stdout",
     "output_type": "stream",
     "text": [
      "Features saved successfully!\n"
     ]
    }
   ],
   "source": [
    "import torch\n",
    "\n",
    "# Save the combined day 7 features\n",
    "torch.save(cond_hori7, 'cond_hori7.pt')\n",
    "\n",
    "# Save the combined day 10 features\n",
    "torch.save(cond_hori10, 'cond_hori10.pt')\n",
    "\n",
    "print(\"Features saved successfully!\")\n"
   ]
  },
  {
   "cell_type": "markdown",
   "metadata": {},
   "source": [
    "import torch\n",
    "\n",
    "# Save the combined day 7 features\n",
    "torch.save(cond7, 'cond7.pt')\n",
    "\n",
    "# Save the combined day 10 features\n",
    "torch.save(cond10, 'cond10.pt')\n",
    "\n",
    "print(\"Features saved successfully!\")\n"
   ]
  },
  {
   "cell_type": "code",
   "execution_count": 32,
   "metadata": {},
   "outputs": [
    {
     "data": {
      "text/plain": [
       "tensor([[ True, False, False,  ..., False,  True, False],\n",
       "        [False, False, False,  ..., False, False, False],\n",
       "        [False, False, False,  ..., False, False, False],\n",
       "        ...,\n",
       "        [False, False, False,  ..., False, False, False],\n",
       "        [False, False, False,  ..., False,  True, False],\n",
       "        [False, False, False,  ..., False, False,  True]])"
      ]
     },
     "execution_count": 32,
     "metadata": {},
     "output_type": "execute_result"
    }
   ],
   "source": [
    "cond_hori7 == cond7"
   ]
  },
  {
   "cell_type": "code",
   "execution_count": 40,
   "metadata": {},
   "outputs": [
    {
     "data": {
      "text/plain": [
       "tensor([[False, False, False,  ..., False,  True, False],\n",
       "        [False, False, False,  ..., False,  True, False],\n",
       "        [False, False, False,  ..., False, False, False],\n",
       "        ...,\n",
       "        [False, False, False,  ..., False, False, False],\n",
       "        [False, False, False,  ..., False, False, False],\n",
       "        [ True, False, False,  ..., False, False, False]])"
      ]
     },
     "execution_count": 40,
     "metadata": {},
     "output_type": "execute_result"
    }
   ],
   "source": [
    "cond_Veri7 == cond7"
   ]
  },
  {
   "cell_type": "code",
   "execution_count": 3,
   "metadata": {},
   "outputs": [
    {
     "name": "stderr",
     "output_type": "stream",
     "text": [
      "C:\\Users\\k54739\\AppData\\Local\\Temp\\ipykernel_14324\\852332274.py:3: FutureWarning: You are using `torch.load` with `weights_only=False` (the current default value), which uses the default pickle module implicitly. It is possible to construct malicious pickle data which will execute arbitrary code during unpickling (See https://github.com/pytorch/pytorch/blob/main/SECURITY.md#untrusted-models for more details). In a future release, the default value for `weights_only` will be flipped to `True`. This limits the functions that could be executed during unpickling. Arbitrary objects will no longer be allowed to be loaded via this mode unless they are explicitly allowlisted by the user via `torch.serialization.add_safe_globals`. We recommend you start setting `weights_only=True` for any use case where you don't have full control of the loaded file. Please open an issue on GitHub for any issues related to this experimental feature.\n",
      "  cond7_130_orig = torch.load('cond7_130_orig.pt')\n",
      "C:\\Users\\k54739\\AppData\\Local\\Temp\\ipykernel_14324\\852332274.py:4: FutureWarning: You are using `torch.load` with `weights_only=False` (the current default value), which uses the default pickle module implicitly. It is possible to construct malicious pickle data which will execute arbitrary code during unpickling (See https://github.com/pytorch/pytorch/blob/main/SECURITY.md#untrusted-models for more details). In a future release, the default value for `weights_only` will be flipped to `True`. This limits the functions that could be executed during unpickling. Arbitrary objects will no longer be allowed to be loaded via this mode unless they are explicitly allowlisted by the user via `torch.serialization.add_safe_globals`. We recommend you start setting `weights_only=True` for any use case where you don't have full control of the loaded file. Please open an issue on GitHub for any issues related to this experimental feature.\n",
      "  cond_hori7 = torch.load('cond_hori7.pt')\n",
      "C:\\Users\\k54739\\AppData\\Local\\Temp\\ipykernel_14324\\852332274.py:5: FutureWarning: You are using `torch.load` with `weights_only=False` (the current default value), which uses the default pickle module implicitly. It is possible to construct malicious pickle data which will execute arbitrary code during unpickling (See https://github.com/pytorch/pytorch/blob/main/SECURITY.md#untrusted-models for more details). In a future release, the default value for `weights_only` will be flipped to `True`. This limits the functions that could be executed during unpickling. Arbitrary objects will no longer be allowed to be loaded via this mode unless they are explicitly allowlisted by the user via `torch.serialization.add_safe_globals`. We recommend you start setting `weights_only=True` for any use case where you don't have full control of the loaded file. Please open an issue on GitHub for any issues related to this experimental feature.\n",
      "  cond_Veri7 =  torch.load('cond_Veri7.pt')\n",
      "C:\\Users\\k54739\\AppData\\Local\\Temp\\ipykernel_14324\\852332274.py:6: FutureWarning: You are using `torch.load` with `weights_only=False` (the current default value), which uses the default pickle module implicitly. It is possible to construct malicious pickle data which will execute arbitrary code during unpickling (See https://github.com/pytorch/pytorch/blob/main/SECURITY.md#untrusted-models for more details). In a future release, the default value for `weights_only` will be flipped to `True`. This limits the functions that could be executed during unpickling. Arbitrary objects will no longer be allowed to be loaded via this mode unless they are explicitly allowlisted by the user via `torch.serialization.add_safe_globals`. We recommend you start setting `weights_only=True` for any use case where you don't have full control of the loaded file. Please open an issue on GitHub for any issues related to this experimental feature.\n",
      "  cond_veriHori7 = torch.load('cond_veriHori7.pt')\n",
      "C:\\Users\\k54739\\AppData\\Local\\Temp\\ipykernel_14324\\852332274.py:7: FutureWarning: You are using `torch.load` with `weights_only=False` (the current default value), which uses the default pickle module implicitly. It is possible to construct malicious pickle data which will execute arbitrary code during unpickling (See https://github.com/pytorch/pytorch/blob/main/SECURITY.md#untrusted-models for more details). In a future release, the default value for `weights_only` will be flipped to `True`. This limits the functions that could be executed during unpickling. Arbitrary objects will no longer be allowed to be loaded via this mode unless they are explicitly allowlisted by the user via `torch.serialization.add_safe_globals`. We recommend you start setting `weights_only=True` for any use case where you don't have full control of the loaded file. Please open an issue on GitHub for any issues related to this experimental feature.\n",
      "  cond7_only10Hori = torch.load('cond7_only10Hori.pt')\n",
      "C:\\Users\\k54739\\AppData\\Local\\Temp\\ipykernel_14324\\852332274.py:8: FutureWarning: You are using `torch.load` with `weights_only=False` (the current default value), which uses the default pickle module implicitly. It is possible to construct malicious pickle data which will execute arbitrary code during unpickling (See https://github.com/pytorch/pytorch/blob/main/SECURITY.md#untrusted-models for more details). In a future release, the default value for `weights_only` will be flipped to `True`. This limits the functions that could be executed during unpickling. Arbitrary objects will no longer be allowed to be loaded via this mode unless they are explicitly allowlisted by the user via `torch.serialization.add_safe_globals`. We recommend you start setting `weights_only=True` for any use case where you don't have full control of the loaded file. Please open an issue on GitHub for any issues related to this experimental feature.\n",
      "  cond7_only10Veri = torch.load('cond7_only10Veri.pt')\n",
      "C:\\Users\\k54739\\AppData\\Local\\Temp\\ipykernel_14324\\852332274.py:13: FutureWarning: You are using `torch.load` with `weights_only=False` (the current default value), which uses the default pickle module implicitly. It is possible to construct malicious pickle data which will execute arbitrary code during unpickling (See https://github.com/pytorch/pytorch/blob/main/SECURITY.md#untrusted-models for more details). In a future release, the default value for `weights_only` will be flipped to `True`. This limits the functions that could be executed during unpickling. Arbitrary objects will no longer be allowed to be loaded via this mode unless they are explicitly allowlisted by the user via `torch.serialization.add_safe_globals`. We recommend you start setting `weights_only=True` for any use case where you don't have full control of the loaded file. Please open an issue on GitHub for any issues related to this experimental feature.\n",
      "  cond10_130_orig = torch.load('cond10_130_orig.pt')\n",
      "C:\\Users\\k54739\\AppData\\Local\\Temp\\ipykernel_14324\\852332274.py:14: FutureWarning: You are using `torch.load` with `weights_only=False` (the current default value), which uses the default pickle module implicitly. It is possible to construct malicious pickle data which will execute arbitrary code during unpickling (See https://github.com/pytorch/pytorch/blob/main/SECURITY.md#untrusted-models for more details). In a future release, the default value for `weights_only` will be flipped to `True`. This limits the functions that could be executed during unpickling. Arbitrary objects will no longer be allowed to be loaded via this mode unless they are explicitly allowlisted by the user via `torch.serialization.add_safe_globals`. We recommend you start setting `weights_only=True` for any use case where you don't have full control of the loaded file. Please open an issue on GitHub for any issues related to this experimental feature.\n",
      "  cond_hori10 = torch.load('cond_hori10.pt')\n",
      "C:\\Users\\k54739\\AppData\\Local\\Temp\\ipykernel_14324\\852332274.py:15: FutureWarning: You are using `torch.load` with `weights_only=False` (the current default value), which uses the default pickle module implicitly. It is possible to construct malicious pickle data which will execute arbitrary code during unpickling (See https://github.com/pytorch/pytorch/blob/main/SECURITY.md#untrusted-models for more details). In a future release, the default value for `weights_only` will be flipped to `True`. This limits the functions that could be executed during unpickling. Arbitrary objects will no longer be allowed to be loaded via this mode unless they are explicitly allowlisted by the user via `torch.serialization.add_safe_globals`. We recommend you start setting `weights_only=True` for any use case where you don't have full control of the loaded file. Please open an issue on GitHub for any issues related to this experimental feature.\n",
      "  cond_Veri10 =  torch.load('cond_Veri10.pt')\n",
      "C:\\Users\\k54739\\AppData\\Local\\Temp\\ipykernel_14324\\852332274.py:16: FutureWarning: You are using `torch.load` with `weights_only=False` (the current default value), which uses the default pickle module implicitly. It is possible to construct malicious pickle data which will execute arbitrary code during unpickling (See https://github.com/pytorch/pytorch/blob/main/SECURITY.md#untrusted-models for more details). In a future release, the default value for `weights_only` will be flipped to `True`. This limits the functions that could be executed during unpickling. Arbitrary objects will no longer be allowed to be loaded via this mode unless they are explicitly allowlisted by the user via `torch.serialization.add_safe_globals`. We recommend you start setting `weights_only=True` for any use case where you don't have full control of the loaded file. Please open an issue on GitHub for any issues related to this experimental feature.\n",
      "  cond_veriHori10 = torch.load('cond_veriHori10.pt')\n",
      "C:\\Users\\k54739\\AppData\\Local\\Temp\\ipykernel_14324\\852332274.py:17: FutureWarning: You are using `torch.load` with `weights_only=False` (the current default value), which uses the default pickle module implicitly. It is possible to construct malicious pickle data which will execute arbitrary code during unpickling (See https://github.com/pytorch/pytorch/blob/main/SECURITY.md#untrusted-models for more details). In a future release, the default value for `weights_only` will be flipped to `True`. This limits the functions that could be executed during unpickling. Arbitrary objects will no longer be allowed to be loaded via this mode unless they are explicitly allowlisted by the user via `torch.serialization.add_safe_globals`. We recommend you start setting `weights_only=True` for any use case where you don't have full control of the loaded file. Please open an issue on GitHub for any issues related to this experimental feature.\n",
      "  cond10_only10Hori = torch.load('cond10_only10Hori.pt')\n",
      "C:\\Users\\k54739\\AppData\\Local\\Temp\\ipykernel_14324\\852332274.py:18: FutureWarning: You are using `torch.load` with `weights_only=False` (the current default value), which uses the default pickle module implicitly. It is possible to construct malicious pickle data which will execute arbitrary code during unpickling (See https://github.com/pytorch/pytorch/blob/main/SECURITY.md#untrusted-models for more details). In a future release, the default value for `weights_only` will be flipped to `True`. This limits the functions that could be executed during unpickling. Arbitrary objects will no longer be allowed to be loaded via this mode unless they are explicitly allowlisted by the user via `torch.serialization.add_safe_globals`. We recommend you start setting `weights_only=True` for any use case where you don't have full control of the loaded file. Please open an issue on GitHub for any issues related to this experimental feature.\n",
      "  cond10_only10Veri = torch.load('cond10_only10Veri.pt')\n"
     ]
    }
   ],
   "source": [
    "# day 7 \n",
    "\n",
    "cond7_130_orig = torch.load('cond7_130_orig.pt')\n",
    "cond_hori7 = torch.load('cond_hori7.pt')\n",
    "cond_Veri7 =  torch.load('cond_Veri7.pt')\n",
    "cond_veriHori7 = torch.load('cond_veriHori7.pt')\n",
    "cond7_only10Hori = torch.load('cond7_only10Hori.pt')\n",
    "cond7_only10Veri = torch.load('cond7_only10Veri.pt')\n",
    "\n",
    "\n",
    "# day 10\n",
    "\n",
    "cond10_130_orig = torch.load('cond10_130_orig.pt')\n",
    "cond_hori10 = torch.load('cond_hori10.pt')\n",
    "cond_Veri10 =  torch.load('cond_Veri10.pt')\n",
    "cond_veriHori10 = torch.load('cond_veriHori10.pt')\n",
    "cond10_only10Hori = torch.load('cond10_only10Hori.pt')\n",
    "cond10_only10Veri = torch.load('cond10_only10Veri.pt')"
   ]
  },
  {
   "cell_type": "code",
   "execution_count": 4,
   "metadata": {},
   "outputs": [
    {
     "name": "stdout",
     "output_type": "stream",
     "text": [
      "Combined Day 7 Features Shape: torch.Size([780, 512])\n",
      "Combined Day 10 Features Shape: torch.Size([780, 512])\n"
     ]
    }
   ],
   "source": [
    "import torch\n",
    "\n",
    "# Assuming features are PyTorch tensors: cond7, cond_hori7, cond_Veri7, cond_veriHori7\n",
    "# and cond10, cond_hori10, cond_Veri10, cond_veriHori10\n",
    "\n",
    "# Combine all day 7 features\n",
    "combined_cond7 = torch.cat([cond7_130_orig, cond_hori7, cond_Veri7, cond_veriHori7,cond7_only10Hori,cond7_only10Veri], dim=0)\n",
    "\n",
    "# Combine all day 10 features in the same order\n",
    "combined_cond10 = torch.cat([cond10_130_orig, cond_hori10, cond_Veri10, cond_veriHori10,cond10_only10Hori,cond10_only10Veri], dim=0)\n",
    "\n",
    "# Print the shapes to verify\n",
    "print(f\"Combined Day 7 Features Shape: {combined_cond7.shape}\")  # Should be (6 * 130, 512)\n",
    "print(f\"Combined Day 10 Features Shape: {combined_cond10.shape}\")  # Should be (6 * 130, 512)\n"
   ]
  },
  {
   "cell_type": "code",
   "execution_count": 5,
   "metadata": {},
   "outputs": [
    {
     "name": "stdout",
     "output_type": "stream",
     "text": [
      "Features saved successfully!\n"
     ]
    }
   ],
   "source": [
    "import torch\n",
    "\n",
    "# Save the combined day 7 features\n",
    "torch.save(combined_cond7, 'combined_cond7.pt')\n",
    "\n",
    "# Save the combined day 10 features\n",
    "torch.save(combined_cond10, 'combined_cond10.pt')\n",
    "\n",
    "print(\"Features saved successfully!\")\n"
   ]
  },
  {
   "cell_type": "markdown",
   "metadata": {},
   "source": [
    "  \n",
    "\n",
    "# Combine all day 7 features\n",
    "con_day7_780 = torch.cat([loaded_day7_feats, cond7_only10Veri, cond7_only10Hori], dim=0)\n",
    "\n",
    "# Combine all day 10 features in the same order\n",
    "con_day10_780 = torch.cat([loaded_day10_feats, cond10_only10Veri, cond10_only10Hori], dim=0)\n",
    "\n",
    "# Print the shapes to verify\n",
    "print(f\"Combined Day 7 Features Shape: {con_day7_780.shape}\")  # Should be (4 * 130, 512)\n",
    "print(f\"Combined Day 10 Features Shape: {con_day10_780.shape}\")  # Should be (4 * 130, 512)"
   ]
  },
  {
   "cell_type": "markdown",
   "metadata": {},
   "source": [
    "import torch\n",
    "\n",
    "# Save the combined day 7 features\n",
    "torch.save(con_day7_780, 'combined_con_d7.pt')\n",
    "\n",
    "# Save the combined day 10 features\n",
    "torch.save(con_day10_780, 'combined_con_d10.pt')\n",
    "\n",
    "print(\"Features saved successfully!\")\n"
   ]
  },
  {
   "cell_type": "code",
   "execution_count": 8,
   "metadata": {},
   "outputs": [
    {
     "name": "stdout",
     "output_type": "stream",
     "text": [
      "Loaded Day 7 Features Shape: torch.Size([780, 512])\n",
      "Loaded Day 10 Features Shape: torch.Size([780, 512])\n"
     ]
    },
    {
     "name": "stderr",
     "output_type": "stream",
     "text": [
      "C:\\Users\\k54739\\AppData\\Local\\Temp\\ipykernel_29588\\3131424418.py:2: FutureWarning: You are using `torch.load` with `weights_only=False` (the current default value), which uses the default pickle module implicitly. It is possible to construct malicious pickle data which will execute arbitrary code during unpickling (See https://github.com/pytorch/pytorch/blob/main/SECURITY.md#untrusted-models for more details). In a future release, the default value for `weights_only` will be flipped to `True`. This limits the functions that could be executed during unpickling. Arbitrary objects will no longer be allowed to be loaded via this mode unless they are explicitly allowlisted by the user via `torch.serialization.add_safe_globals`. We recommend you start setting `weights_only=True` for any use case where you don't have full control of the loaded file. Please open an issue on GitHub for any issues related to this experimental feature.\n",
      "  loaded_day7_feats = torch.load('combined_cond7.pt')\n",
      "C:\\Users\\k54739\\AppData\\Local\\Temp\\ipykernel_29588\\3131424418.py:5: FutureWarning: You are using `torch.load` with `weights_only=False` (the current default value), which uses the default pickle module implicitly. It is possible to construct malicious pickle data which will execute arbitrary code during unpickling (See https://github.com/pytorch/pytorch/blob/main/SECURITY.md#untrusted-models for more details). In a future release, the default value for `weights_only` will be flipped to `True`. This limits the functions that could be executed during unpickling. Arbitrary objects will no longer be allowed to be loaded via this mode unless they are explicitly allowlisted by the user via `torch.serialization.add_safe_globals`. We recommend you start setting `weights_only=True` for any use case where you don't have full control of the loaded file. Please open an issue on GitHub for any issues related to this experimental feature.\n",
      "  loaded_day10_feats = torch.load('combined_cond10.pt')\n"
     ]
    }
   ],
   "source": [
    "# Load the saved day 7 features\n",
    "loaded_day7_feats = torch.load('combined_cond7.pt')\n",
    "\n",
    "# Load the saved day 10 features\n",
    "loaded_day10_feats = torch.load('combined_cond10.pt')\n",
    "\n",
    "# Verify the shapes\n",
    "print(f\"Loaded Day 7 Features Shape: {loaded_day7_feats.shape}\")\n",
    "print(f\"Loaded Day 10 Features Shape: {loaded_day10_feats.shape}\")\n"
   ]
  }
 ],
 "metadata": {
  "kernelspec": {
   "display_name": "master",
   "language": "python",
   "name": "python3"
  },
  "language_info": {
   "codemirror_mode": {
    "name": "ipython",
    "version": 3
   },
   "file_extension": ".py",
   "mimetype": "text/x-python",
   "name": "python",
   "nbconvert_exporter": "python",
   "pygments_lexer": "ipython3",
   "version": "3.12.4"
  }
 },
 "nbformat": 4,
 "nbformat_minor": 2
}
