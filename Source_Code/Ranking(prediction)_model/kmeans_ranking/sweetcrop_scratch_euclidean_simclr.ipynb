{
 "cells": [
  {
   "cell_type": "code",
   "execution_count": 45,
   "metadata": {},
   "outputs": [],
   "source": [
    "import os\n",
    "import numpy as np\n",
    "import torch\n",
    "from torch import nn, optim\n",
    "from torch.utils.data import Dataset, DataLoader, random_split\n",
    "from torchvision import transforms\n",
    "import torchvision\n",
    "import tifffile as tiff\n",
    "import matplotlib.pyplot as plt\n",
    "import time\n",
    "from tqdm import tqdm\n",
    "from copy import deepcopy\n",
    "import random\n",
    "\n",
    "\n",
    "from collections import Counter\n",
    "from scipy.stats import mode"
   ]
  },
  {
   "cell_type": "code",
   "execution_count": 46,
   "metadata": {},
   "outputs": [],
   "source": [
    "# Set seed for reproducibility\n",
    "def set_seed(seed):\n",
    "    random.seed(seed)\n",
    "    np.random.seed(seed)\n",
    "    torch.manual_seed(seed)\n",
    "    if torch.cuda.is_available():\n",
    "        torch.cuda.manual_seed(seed)\n",
    "        torch.cuda.manual_seed_all(seed)\n",
    "    torch.backends.cudnn.deterministic = True\n",
    "    torch.backends.cudnn.benchmark = False\n",
    "\n",
    "# Set seed\n",
    "set_seed(42)"
   ]
  },
  {
   "cell_type": "code",
   "execution_count": 47,
   "metadata": {},
   "outputs": [],
   "source": [
    "# Set the device\n",
    "device = torch.device(\"cuda\" if torch.cuda.is_available() else \"cpu\")"
   ]
  },
  {
   "cell_type": "markdown",
   "metadata": {},
   "source": [
    "# Custom Dataset class\n",
    "class ImageDataset(Dataset):\n",
    "    def __init__(self, image_dir, transform=None):\n",
    "        self.image_dir = image_dir\n",
    "        self.transform = transform\n",
    "        self.image_files = [os.path.join(image_dir, file) for file in os.listdir(image_dir) if file.endswith('.tiff')]\n",
    "        #we don't need to resize into 96*96 because we are doing that in below contrastive transform (self.resize_transform = transforms.resize((96,96)))\n",
    "    def __len__(self):\n",
    "        return len(self.image_files)\n",
    "\n",
    "    def __getitem__(self, idx):\n",
    "        img_path = self.image_files[idx]\n",
    "        image = tiff.imread(img_path)\n",
    "\n",
    "        # Ensure the image has 3 layers (channels)\n",
    "        if image.shape[0] != 3:\n",
    "            raise ValueError(f\"Image {img_path} does not have exactly 3 layers.\")\n",
    "        \n",
    "        # Normalize the 16-bit image to [0, 1]\n",
    "        image = image.astype(np.float32) / 65535.0\n",
    "        \n",
    "        # Convert to a torch tensor\n",
    "        image = torch.tensor(image, dtype=torch.float32)\n",
    "        \n",
    "        if self.transform:\n",
    "            image1 = self.transform(image)\n",
    "            image2 = self.transform(image)\n",
    "        return image1, image2, image\n",
    "\n",
    "# Data augmentation similar to the tutorial\n",
    "contrast_transforms = transforms.Compose([\n",
    "    #transforms.RandomHorizontalFlip(),\n",
    "    transforms.RandomResizedCrop(size=96),\n",
    "    transforms.RandomApply([transforms.ColorJitter(brightness=0.5, contrast=0.5, saturation=0.5, hue=0.1)], p=0.8),\n",
    "    #transforms.RandomGrayscale(p=0.2),\n",
    "    #transforms.GaussianBlur(kernel_size=9),\n",
    "])\n",
    "\n",
    "# Create the dataset\n",
    "image_dir = r\"../../tiff_experiment_unsupervised_data/combined\"\n",
    "\n",
    "dataset = ImageDataset(image_dir=image_dir, transform=contrast_transforms)\n",
    "batch_size = 16\n",
    "\n",
    "# Function to split dataset with explicit percentage\n",
    "def split_dataset(dataset, val_percentage):\n",
    "    val_size = int(len(dataset) * val_percentage)\n",
    "    train_size = len(dataset) - val_size\n",
    "    return random_split(dataset, [train_size, val_size])\n",
    "\n",
    "# Split the dataset with 20% for validation\n",
    "val_percentage = 0.2\n",
    "train_dataset, val_dataset = split_dataset(dataset, val_percentage)\n",
    "\n",
    "# Define DataLoaders\n",
    "train_loader = DataLoader(train_dataset, batch_size=batch_size, shuffle=True, drop_last=False, pin_memory=True, num_workers=0) #num_workers=os.cpu count() using cluster gpu\n",
    "val_loader = DataLoader(val_dataset, batch_size=batch_size, shuffle=False, drop_last=False, pin_memory=True, num_workers=0)"
   ]
  },
  {
   "cell_type": "markdown",
   "metadata": {},
   "source": [
    "def compute_mean_std(dataloader):\n",
    "    mean = 0.\n",
    "    std = 0.\n",
    "    nb_samples = 0.\n",
    "    for images, _ in dataloader:\n",
    "        batch_samples = images.size(0)  # batch size (the last batch can have smaller size)\n",
    "        images = images.view(batch_samples, images.size(1), -1)  # reshape to (N, C, H*W)\n",
    "        mean += images.mean(2).mean(0)  # calculate mean per channel\n",
    "        std += images.std(2).std(0)  # calculate std per channel\n",
    "        nb_samples += batch_samples\n",
    "    \n",
    "    mean /= nb_samples\n",
    "    std /= nb_samples\n",
    "    return mean, std\n"
   ]
  },
  {
   "cell_type": "markdown",
   "metadata": {},
   "source": [
    "for i, (image1, image2, image) in enumerate(train_loader):\n",
    "    print(f\"Batch {i}:\")\n",
    "    print(f\"  Image1: {image1.shape}\")\n",
    "    print(f\"  Image2: {image2.shape}\")\n",
    "    print(f\"  image: {image.shape}\")\n",
    "    break"
   ]
  },
  {
   "cell_type": "markdown",
   "metadata": {},
   "source": [
    "for i, (image1, image2, image) in enumerate(train_loader):\n",
    "    # Select the first focal plane (layer) for visualization\n",
    "    layer_to_visualize = 0  # Change this to 1 or 2 if you want other layers\n",
    "    \n",
    "    plt.figure(figsize=(10, 3))\n",
    "    \n",
    "    # Normalize the 16-bit image to range [0, 1] for visualization\n",
    "    image1_normalized = image1[0, layer_to_visualize].float()\n",
    "    image2_normalized = image2[0, layer_to_visualize].float()\n",
    "    image_normalized = image[0, layer_to_visualize].float()\n",
    "    \n",
    "    # Plot Image1\n",
    "    plt.subplot(1, 3, 1)\n",
    "    plt.imshow(image1_normalized, cmap='gray')\n",
    "    plt.title(f'Image 1 - Focal Plane {layer_to_visualize}')\n",
    "    \n",
    "    # Plot Image2\n",
    "    plt.subplot(1, 3, 2)\n",
    "    plt.imshow(image2_normalized, cmap='gray')\n",
    "    plt.title(f'Image 2 - Focal Plane {layer_to_visualize}')\n",
    "    \n",
    "    # Plot Image\n",
    "    plt.subplot(1, 3, 3)\n",
    "    plt.imshow(image_normalized, cmap='gray')\n",
    "    plt.title(f'Image - Focal Plane {layer_to_visualize}')\n",
    "    \n",
    "    plt.tight_layout()\n",
    "    plt.show()\n",
    "    break  # Exit after showing the first batch\n"
   ]
  },
  {
   "cell_type": "markdown",
   "metadata": {},
   "source": [
    "class SimCLR(nn.Module):\n",
    "    def __init__(self, hidden_dim, lr, temperature, weight_decay):\n",
    "        super().__init__()\n",
    "        self.temperature = temperature\n",
    "        \n",
    "        # Load the pretrained ResNet-18 model\n",
    "        self.convnet = torchvision.models.resnet18(weights='ResNet18_Weights.DEFAULT')\n",
    "        \n",
    "        # Modify the fully connected layer\n",
    "        self.convnet.fc = nn.Sequential(\n",
    "            nn.Linear(self.convnet.fc.in_features, 4 * hidden_dim),  # Linear layer with 4*hidden_dim output\n",
    "            nn.ReLU(inplace=True),\n",
    "            nn.Linear(4 * hidden_dim, 20)  # Output layer with hidden_dim output\n",
    "        )\n",
    "\n",
    "        self.optimizer = optim.AdamW(self.parameters(), lr=lr, weight_decay=weight_decay)\n",
    "        self.lr_scheduler = optim.lr_scheduler.CosineAnnealingLR(self.optimizer, T_max=50, eta_min=lr / 50)\n",
    "\n",
    "    def forward(self, x):\n",
    "        return self.convnet(x)\n",
    "\n",
    "    def info_nce_loss(self, imgs1, imgs2, device):\n",
    "\n",
    "        imgs = torch.cat((imgs1, imgs2), dim=0)  # Concatenate along the batch dimension\n",
    "        imgs = imgs.to(device)  # Move images to the device\n",
    "\n",
    "        # Encode all images\n",
    "        feats = self.forward(imgs)\n",
    "    \n",
    "        # Calculate cosine similarity\n",
    "        cos_sim = nn.functional.cosine_similarity(feats[:, None, :], feats[None, :, :], dim=-1)\n",
    "    \n",
    "        # Mask out cosine similarity to itself\n",
    "        self_mask = torch.eye(cos_sim.shape[0], dtype=torch.bool, device=cos_sim.device)\n",
    "        cos_sim.masked_fill_(self_mask, -9e15)\n",
    "    \n",
    "        # Find positive example -> batch_size//2 away from the original example\n",
    "        pos_mask = self_mask.roll(shifts=cos_sim.shape[0] // 2, dims=0)\n",
    "    \n",
    "        # Normalize similarity scores by temperature\n",
    "        cos_sim = cos_sim / self.temperature\n",
    "\n",
    "        # InfoNCE loss\n",
    "        nll = -cos_sim[pos_mask] + torch.logsumexp(cos_sim, dim=-1)\n",
    "        nll = nll.mean()\n",
    "\n",
    "        # Accuracy calculations\n",
    "        # Create a combination of positive and negative similarities for ranking\n",
    "        comb_sim = torch.cat([cos_sim[pos_mask][:, None],  # Positive example in first position\n",
    "                          cos_sim.masked_fill(pos_mask, -9e15)], dim=-1)\n",
    "    \n",
    "        # Sort and get the ranking position of the positive example\n",
    "        sim_argsort = comb_sim.argsort(dim=-1, descending=True).argmin(dim=-1)\n",
    "    \n",
    "        # Compute accuracy metrics\n",
    "        top1_acc = (sim_argsort == 0).float().mean()  # Top-1 accuracy\n",
    "        top5_acc = (sim_argsort < 5).float().mean()   # Top-5 accuracy\n",
    "        mean_pos = 1 + sim_argsort.float().mean()     # Mean position of the positive example\n",
    "\n",
    "        return nll, top1_acc, top5_acc, mean_pos\n",
    "\n",
    "    def train_epoch(self, train_loader, device):\n",
    "        self.train()\n",
    "        total_loss = 0.0\n",
    "        total_top1_acc = 0.0\n",
    "        total_top5_acc = 0.0\n",
    "        total_mean_pos = 0.0\n",
    "\n",
    "        for batch in tqdm(train_loader, desc=\"Training\", leave=False):\n",
    "            imgs1, imgs2, _ = batch\n",
    "            imgs1, imgs2 = imgs1.to(device), imgs2.to(device)  # Move data to device\n",
    "        \n",
    "            self.optimizer.zero_grad()\n",
    "\n",
    "            # Calculate loss and accuracy metrics\n",
    "            loss, top1_acc, top5_acc, mean_pos = self.info_nce_loss(imgs1, imgs2, device)\n",
    "\n",
    "            loss.backward()\n",
    "            self.optimizer.step()\n",
    "            self.lr_scheduler.step()\n",
    "\n",
    "            # Accumulate metrics\n",
    "            total_loss += loss.item()\n",
    "            total_top1_acc += top1_acc.item()\n",
    "            total_top5_acc += top5_acc.item()\n",
    "            total_mean_pos += mean_pos.item()\n",
    "\n",
    "        avg_loss = total_loss / len(train_loader)\n",
    "        avg_top1_acc = total_top1_acc / len(train_loader)\n",
    "        avg_top5_acc = total_top5_acc / len(train_loader)\n",
    "        avg_mean_pos = total_mean_pos / len(train_loader)\n",
    "\n",
    "        return avg_loss, avg_top1_acc, avg_top5_acc, avg_mean_pos\n",
    "\n",
    "    def validate_epoch(self, val_loader, device):\n",
    "        self.eval()\n",
    "        total_loss = 0.0\n",
    "        total_top1_acc = 0.0\n",
    "        total_top5_acc = 0.0\n",
    "        total_mean_pos = 0.0\n",
    "\n",
    "        with torch.no_grad():\n",
    "            for batch in tqdm(val_loader, desc=\"Validating\", leave=False):\n",
    "                imgs1, imgs2, _ = batch\n",
    "                imgs1, imgs2 = imgs1.to(device), imgs2.to(device)  # Move data to device\n",
    "\n",
    "                # Calculate loss and accuracy metrics\n",
    "                loss, top1_acc, top5_acc, mean_pos = self.info_nce_loss(imgs1, imgs2, device)\n",
    "\n",
    "                # Accumulate metrics\n",
    "                total_loss += loss.item()\n",
    "                total_top1_acc += top1_acc.item()\n",
    "                total_top5_acc += top5_acc.item()\n",
    "                total_mean_pos += mean_pos.item()\n",
    "\n",
    "        avg_loss = total_loss / len(val_loader)\n",
    "        avg_top1_acc = total_top1_acc / len(val_loader)\n",
    "        avg_top5_acc = total_top5_acc / len(val_loader)\n",
    "        avg_mean_pos = total_mean_pos / len(val_loader)\n",
    "\n",
    "        return avg_loss, avg_top1_acc, avg_top5_acc, avg_mean_pos"
   ]
  },
  {
   "cell_type": "markdown",
   "metadata": {},
   "source": [
    "def plot_curves(train_losses, val_losses, train_top1_accs, val_top1_accs, train_top5_accs, val_top5_accs, train_mean_pos, val_mean_pos):\n",
    "    epochs = range(1, len(train_losses) + 1)\n",
    "    \n",
    "    # Plot loss\n",
    "    plt.figure(figsize=(16, 10))\n",
    "    \n",
    "    plt.subplot(2, 2, 1)\n",
    "    plt.plot(epochs, train_losses, 'bo-', label='Training Loss')\n",
    "    plt.plot(epochs, val_losses, 'ro-', label='Validation Loss')\n",
    "    plt.title('Training and Validation Loss')\n",
    "    plt.xlabel('Epochs')\n",
    "    plt.ylabel('Loss')\n",
    "    plt.legend()\n",
    "\n",
    "    # Plot Top-1 accuracy\n",
    "    plt.subplot(2, 2, 2)\n",
    "    plt.plot(epochs, train_top1_accs, 'bo-', label='Training Top-1 Accuracy')\n",
    "    plt.plot(epochs, val_top1_accs, 'ro-', label='Validation Top-1 Accuracy')\n",
    "    plt.title('Training and Validation Top-1 Accuracy')\n",
    "    plt.xlabel('Epochs')\n",
    "    plt.ylabel('Top-1 Accuracy (%)')\n",
    "    plt.legend()\n",
    "\n",
    "    # Plot Top-5 accuracy\n",
    "    plt.subplot(2, 2, 3)\n",
    "    plt.plot(epochs, train_top5_accs, 'bo-', label='Training Top-5 Accuracy')\n",
    "    plt.plot(epochs, val_top5_accs, 'ro-', label='Validation Top-5 Accuracy')\n",
    "    plt.title('Training and Validation Top-5 Accuracy')\n",
    "    plt.xlabel('Epochs')\n",
    "    plt.ylabel('Top-5 Accuracy (%)')\n",
    "    plt.legend()\n",
    "\n",
    "    # Plot Mean Positive Position\n",
    "    plt.subplot(2, 2, 4)\n",
    "    plt.plot(epochs, train_mean_pos, 'bo-', label='Training Mean Positive Position')\n",
    "    plt.plot(epochs, val_mean_pos, 'ro-', label='Validation Mean Positive Position')\n",
    "    plt.title('Training and Validation Mean Positive Position')\n",
    "    plt.xlabel('Epochs')\n",
    "    plt.ylabel('Mean Position')\n",
    "    plt.legend()\n",
    "\n",
    "    plt.tight_layout()\n",
    "    plt.show()"
   ]
  },
  {
   "cell_type": "markdown",
   "metadata": {},
   "source": [
    "def train_simclr(batch_size, max_epochs=50, hidden_dim=128, lr=5e-4, temperature=0.07, weight_decay=1e-4):\n",
    "    device = torch.device(\"cuda\" if torch.cuda.is_available() else \"cpu\")\n",
    "    print(f\"Using device: {device}\")\n",
    "\n",
    "    model = SimCLR(hidden_dim=hidden_dim, lr=lr, temperature=temperature, weight_decay=weight_decay).to(device)\n",
    "    \n",
    "    # Lists to store the metrics\n",
    "    train_losses, val_losses = [], []\n",
    "    train_top1_accs, val_top1_accs = [], []\n",
    "    train_top5_accs, val_top5_accs = [], []\n",
    "    train_mean_pos, val_mean_pos = [], []\n",
    "\n",
    "    start_time = time.time()\n",
    "\n",
    "    for epoch in range(max_epochs):\n",
    "        epoch_start_time = time.time()\n",
    "\n",
    "        # Train and validate the model\n",
    "        train_loss, train_top1_acc, train_top5_acc, train_mean_pos_val = model.train_epoch(train_loader, device)\n",
    "        val_loss, val_top1_acc, val_top5_acc, val_mean_pos_val = model.validate_epoch(val_loader, device)\n",
    "        \n",
    "        # Store the metrics\n",
    "        train_losses.append(train_loss)\n",
    "        val_losses.append(val_loss)\n",
    "        train_top1_accs.append(train_top1_acc)\n",
    "        val_top1_accs.append(val_top1_acc)\n",
    "        train_top5_accs.append(train_top5_acc)\n",
    "        val_top5_accs.append(val_top5_acc)\n",
    "        train_mean_pos.append(train_mean_pos_val)\n",
    "        val_mean_pos.append(val_mean_pos_val)\n",
    "        \n",
    "        epoch_end_time = time.time()\n",
    "        epoch_duration = epoch_end_time - epoch_start_time\n",
    "\n",
    "        # Print metrics for the current epoch\n",
    "        print(f\"Epoch {epoch+1}/{max_epochs} | \"\n",
    "              f\"Train Loss: {train_loss:.4f} | \"\n",
    "              f\"Top-1 Acc: {train_top1_acc:.2f}% | Top-5 Acc: {train_top5_acc:.2f}% | \"\n",
    "              f\"Mean Pos: {train_mean_pos_val:.2f} | \"\n",
    "              f\"Val Loss: {val_loss:.4f} | Top-1 Acc: {val_top1_acc:.2f}% | \"\n",
    "              f\"Top-5 Acc: {val_top5_acc:.2f}% | Mean Pos: {val_mean_pos_val:.2f} | \"\n",
    "              f\"Time Taken: {epoch_duration:.2f} seconds\")\n",
    "\n",
    "    end_time = time.time()\n",
    "    total_duration = end_time - start_time\n",
    "    print(f\"Total Training Time: {total_duration:.2f} seconds\")\n",
    "\n",
    "    # Plot results\n",
    "    plot_curves(train_losses, val_losses, train_top1_accs, val_top1_accs, train_top5_accs, val_top5_accs, train_mean_pos, val_mean_pos)\n",
    "\n",
    "    return model"
   ]
  },
  {
   "cell_type": "markdown",
   "metadata": {},
   "source": [
    "# Run the training script\n",
    "simclr_model = train_simclr(batch_size=16, hidden_dim=128, lr=5e-4, temperature=0.07, weight_decay=1e-4, max_epochs=100)"
   ]
  },
  {
   "cell_type": "code",
   "execution_count": 48,
   "metadata": {},
   "outputs": [],
   "source": [
    "#torch.save(simclr_model.state_dict(), 'model_weights.pth')\n",
    "full_model_path =  r'C:\\Users\\k54739\\saved_model\\simclr_model_epoch_245.pth' \n",
    "#torch.save(simclr_model, full_model_path)\n",
    "\n"
   ]
  },
  {
   "cell_type": "code",
   "execution_count": 49,
   "metadata": {},
   "outputs": [],
   "source": [
    "class SimCLR(nn.Module):\n",
    "    def __init__(self, hidden_dim, lr, temperature, weight_decay,max_epochs):\n",
    "        super().__init__()\n",
    "        self.temperature = temperature\n",
    "        \n",
    "        # Load the pretrained ResNet-18 model\n",
    "        self.convnet = torchvision.models.resnet18(weights='ResNet18_Weights.DEFAULT')\n",
    "        \n",
    "        # Modify the fully connected layer\n",
    "        self.convnet.fc = nn.Sequential(\n",
    "            nn.Linear(self.convnet.fc.in_features, 4 * hidden_dim),  # Linear layer with 4*hidden_dim output\n",
    "            nn.ReLU(inplace=True),\n",
    "            nn.Linear(4 * hidden_dim, 20)  # Output layer with hidden_dim output\n",
    "        )\n",
    "\n",
    "        self.optimizer = optim.AdamW(self.parameters(), lr=lr, weight_decay=weight_decay)\n",
    "        self.lr_scheduler = optim.lr_scheduler.CosineAnnealingLR(self.optimizer, T_max=max_epochs, eta_min=lr / 50)\n",
    "\n",
    "    def forward(self, x):\n",
    "        return self.convnet(x)\n",
    "\n",
    "    def info_nce_loss(self, imgs1, imgs2, device):\n",
    "\n",
    "        imgs = torch.cat((imgs1, imgs2), dim=0)  # Concatenate along the batch dimension\n",
    "        imgs = imgs.to(device)  # Move images to the device\n",
    "\n",
    "        # Encode all images\n",
    "        feats = self.forward(imgs)\n",
    "    \n",
    "        # Calculate cosine similarity\n",
    "        cos_sim = nn.functional.cosine_similarity(feats[:, None, :], feats[None, :, :], dim=-1)\n",
    "    \n",
    "        # Mask out cosine similarity to itself\n",
    "        self_mask = torch.eye(cos_sim.shape[0], dtype=torch.bool, device=cos_sim.device)\n",
    "        cos_sim.masked_fill_(self_mask, -9e15)\n",
    "    \n",
    "        # Find positive example -> batch_size//2 away from the original example\n",
    "        pos_mask = self_mask.roll(shifts=cos_sim.shape[0] // 2, dims=0)\n",
    "    \n",
    "        # Normalize similarity scores by temperature\n",
    "        cos_sim = cos_sim / self.temperature\n",
    "\n",
    "        # InfoNCE loss\n",
    "        nll = -cos_sim[pos_mask] + torch.logsumexp(cos_sim, dim=-1)\n",
    "        nll = nll.mean()\n",
    "\n",
    "        # Accuracy calculations\n",
    "        # Create a combination of positive and negative similarities for ranking\n",
    "        comb_sim = torch.cat([cos_sim[pos_mask][:, None],  # Positive example in first position\n",
    "                          cos_sim.masked_fill(pos_mask, -9e15)], dim=-1)\n",
    "    \n",
    "        # Sort and get the ranking position of the positive example\n",
    "        sim_argsort = comb_sim.argsort(dim=-1, descending=True).argmin(dim=-1)\n",
    "    \n",
    "        # Compute accuracy metrics\n",
    "        top1_acc = (sim_argsort == 0).float().mean()  # Top-1 accuracy\n",
    "        top5_acc = (sim_argsort < 5).float().mean()   # Top-5 accuracy\n",
    "        mean_pos = 1 + sim_argsort.float().mean()     # Mean position of the positive example\n",
    "\n",
    "        return nll, top1_acc, top5_acc, mean_pos\n",
    "\n",
    "    def train_epoch(self, train_loader, device):\n",
    "        self.train()\n",
    "        total_loss = 0.0\n",
    "        total_top1_acc = 0.0\n",
    "        total_top5_acc = 0.0\n",
    "        total_mean_pos = 0.0\n",
    "\n",
    "        for batch in tqdm(train_loader, desc=\"Training\", leave=False):\n",
    "            imgs1, imgs2, _ = batch\n",
    "            imgs1, imgs2 = imgs1.to(device), imgs2.to(device)  # Move data to device\n",
    "        \n",
    "            self.optimizer.zero_grad()\n",
    "\n",
    "            # Calculate loss and accuracy metrics\n",
    "            loss, top1_acc, top5_acc, mean_pos = self.info_nce_loss(imgs1, imgs2, device)\n",
    "\n",
    "            loss.backward()\n",
    "            self.optimizer.step()\n",
    "            #self.lr_scheduler.step()\n",
    "\n",
    "            # Accumulate metrics\n",
    "            total_loss += loss.item()\n",
    "            total_top1_acc += top1_acc.item()\n",
    "            total_top5_acc += top5_acc.item()\n",
    "            total_mean_pos += mean_pos.item()\n",
    "\n",
    "        avg_loss = total_loss / len(train_loader)\n",
    "        avg_top1_acc = total_top1_acc / len(train_loader)\n",
    "        avg_top5_acc = total_top5_acc / len(train_loader)\n",
    "        avg_mean_pos = total_mean_pos / len(train_loader)\n",
    "\n",
    "        return avg_loss, avg_top1_acc, avg_top5_acc, avg_mean_pos\n",
    "\n",
    "    def validate_epoch(self, val_loader, device):\n",
    "        self.eval()\n",
    "        total_loss = 0.0\n",
    "        total_top1_acc = 0.0\n",
    "        total_top5_acc = 0.0\n",
    "        total_mean_pos = 0.0\n",
    "\n",
    "        with torch.no_grad():\n",
    "            for batch in tqdm(val_loader, desc=\"Validating\", leave=False):\n",
    "                imgs1, imgs2, _ = batch\n",
    "                imgs1, imgs2 = imgs1.to(device), imgs2.to(device)  # Move data to device\n",
    "\n",
    "                # Calculate loss and accuracy metrics\n",
    "                loss, top1_acc, top5_acc, mean_pos = self.info_nce_loss(imgs1, imgs2, device)\n",
    "\n",
    "                # Accumulate metrics\n",
    "                total_loss += loss.item()\n",
    "                total_top1_acc += top1_acc.item()\n",
    "                total_top5_acc += top5_acc.item()\n",
    "                total_mean_pos += mean_pos.item()\n",
    "\n",
    "        avg_loss = total_loss / len(val_loader)\n",
    "        avg_top1_acc = total_top1_acc / len(val_loader)\n",
    "        avg_top5_acc = total_top5_acc / len(val_loader)\n",
    "        avg_mean_pos = total_mean_pos / len(val_loader)\n",
    "\n",
    "        return avg_loss, avg_top1_acc, avg_top5_acc, avg_mean_pos\n",
    "    \n",
    "\n",
    "    def inference_epoch(self, inference_loader, device):\n",
    "        self.eval()\n",
    "        total_loss = 0.0\n",
    "        total_top1_acc = 0.0\n",
    "        total_top5_acc = 0.0\n",
    "        total_mean_pos = 0.0\n",
    "\n",
    "        with torch.no_grad():\n",
    "            for batch in tqdm(inference_loader, desc=\"Inferencing\", leave=False):\n",
    "                imgs1, imgs2, _ = batch\n",
    "                imgs1, imgs2 = imgs1.to(device), imgs2.to(device)  # Move data to device\n",
    "\n",
    "                # Calculate loss and accuracy metrics\n",
    "                loss, top1_acc, top5_acc, mean_pos = self.info_nce_loss(imgs1, imgs2, device)\n",
    "\n",
    "                # Accumulate metrics\n",
    "                total_loss += loss.item()\n",
    "                total_top1_acc += top1_acc.item()\n",
    "                total_top5_acc += top5_acc.item()\n",
    "                total_mean_pos += mean_pos.item()\n",
    "\n",
    "        avg_loss = total_loss / len(inference_loader)\n",
    "        avg_top1_acc = total_top1_acc / len(inference_loader)\n",
    "        avg_top5_acc = total_top5_acc / len(inference_loader)\n",
    "        avg_mean_pos = total_mean_pos / len(inference_loader)\n",
    "\n",
    "        return avg_loss, avg_top1_acc, avg_top5_acc, avg_mean_pos"
   ]
  },
  {
   "cell_type": "code",
   "execution_count": 50,
   "metadata": {},
   "outputs": [],
   "source": [
    "# Device setup for inference\n",
    "device = torch.device(\"cuda\" if torch.cuda.is_available() else \"cpu\")"
   ]
  },
  {
   "cell_type": "code",
   "execution_count": 51,
   "metadata": {},
   "outputs": [
    {
     "name": "stderr",
     "output_type": "stream",
     "text": [
      "C:\\Users\\k54739\\AppData\\Local\\Temp\\ipykernel_25944\\1467178467.py:2: FutureWarning: You are using `torch.load` with `weights_only=False` (the current default value), which uses the default pickle module implicitly. It is possible to construct malicious pickle data which will execute arbitrary code during unpickling (See https://github.com/pytorch/pytorch/blob/main/SECURITY.md#untrusted-models for more details). In a future release, the default value for `weights_only` will be flipped to `True`. This limits the functions that could be executed during unpickling. Arbitrary objects will no longer be allowed to be loaded via this mode unless they are explicitly allowlisted by the user via `torch.serialization.add_safe_globals`. We recommend you start setting `weights_only=True` for any use case where you don't have full control of the loaded file. Please open an issue on GitHub for any issues related to this experimental feature.\n",
      "  simclr_model.load_state_dict(torch.load(full_model_path))\n"
     ]
    },
    {
     "data": {
      "text/plain": [
       "SimCLR(\n",
       "  (convnet): ResNet(\n",
       "    (conv1): Conv2d(3, 64, kernel_size=(7, 7), stride=(2, 2), padding=(3, 3), bias=False)\n",
       "    (bn1): BatchNorm2d(64, eps=1e-05, momentum=0.1, affine=True, track_running_stats=True)\n",
       "    (relu): ReLU(inplace=True)\n",
       "    (maxpool): MaxPool2d(kernel_size=3, stride=2, padding=1, dilation=1, ceil_mode=False)\n",
       "    (layer1): Sequential(\n",
       "      (0): BasicBlock(\n",
       "        (conv1): Conv2d(64, 64, kernel_size=(3, 3), stride=(1, 1), padding=(1, 1), bias=False)\n",
       "        (bn1): BatchNorm2d(64, eps=1e-05, momentum=0.1, affine=True, track_running_stats=True)\n",
       "        (relu): ReLU(inplace=True)\n",
       "        (conv2): Conv2d(64, 64, kernel_size=(3, 3), stride=(1, 1), padding=(1, 1), bias=False)\n",
       "        (bn2): BatchNorm2d(64, eps=1e-05, momentum=0.1, affine=True, track_running_stats=True)\n",
       "      )\n",
       "      (1): BasicBlock(\n",
       "        (conv1): Conv2d(64, 64, kernel_size=(3, 3), stride=(1, 1), padding=(1, 1), bias=False)\n",
       "        (bn1): BatchNorm2d(64, eps=1e-05, momentum=0.1, affine=True, track_running_stats=True)\n",
       "        (relu): ReLU(inplace=True)\n",
       "        (conv2): Conv2d(64, 64, kernel_size=(3, 3), stride=(1, 1), padding=(1, 1), bias=False)\n",
       "        (bn2): BatchNorm2d(64, eps=1e-05, momentum=0.1, affine=True, track_running_stats=True)\n",
       "      )\n",
       "    )\n",
       "    (layer2): Sequential(\n",
       "      (0): BasicBlock(\n",
       "        (conv1): Conv2d(64, 128, kernel_size=(3, 3), stride=(2, 2), padding=(1, 1), bias=False)\n",
       "        (bn1): BatchNorm2d(128, eps=1e-05, momentum=0.1, affine=True, track_running_stats=True)\n",
       "        (relu): ReLU(inplace=True)\n",
       "        (conv2): Conv2d(128, 128, kernel_size=(3, 3), stride=(1, 1), padding=(1, 1), bias=False)\n",
       "        (bn2): BatchNorm2d(128, eps=1e-05, momentum=0.1, affine=True, track_running_stats=True)\n",
       "        (downsample): Sequential(\n",
       "          (0): Conv2d(64, 128, kernel_size=(1, 1), stride=(2, 2), bias=False)\n",
       "          (1): BatchNorm2d(128, eps=1e-05, momentum=0.1, affine=True, track_running_stats=True)\n",
       "        )\n",
       "      )\n",
       "      (1): BasicBlock(\n",
       "        (conv1): Conv2d(128, 128, kernel_size=(3, 3), stride=(1, 1), padding=(1, 1), bias=False)\n",
       "        (bn1): BatchNorm2d(128, eps=1e-05, momentum=0.1, affine=True, track_running_stats=True)\n",
       "        (relu): ReLU(inplace=True)\n",
       "        (conv2): Conv2d(128, 128, kernel_size=(3, 3), stride=(1, 1), padding=(1, 1), bias=False)\n",
       "        (bn2): BatchNorm2d(128, eps=1e-05, momentum=0.1, affine=True, track_running_stats=True)\n",
       "      )\n",
       "    )\n",
       "    (layer3): Sequential(\n",
       "      (0): BasicBlock(\n",
       "        (conv1): Conv2d(128, 256, kernel_size=(3, 3), stride=(2, 2), padding=(1, 1), bias=False)\n",
       "        (bn1): BatchNorm2d(256, eps=1e-05, momentum=0.1, affine=True, track_running_stats=True)\n",
       "        (relu): ReLU(inplace=True)\n",
       "        (conv2): Conv2d(256, 256, kernel_size=(3, 3), stride=(1, 1), padding=(1, 1), bias=False)\n",
       "        (bn2): BatchNorm2d(256, eps=1e-05, momentum=0.1, affine=True, track_running_stats=True)\n",
       "        (downsample): Sequential(\n",
       "          (0): Conv2d(128, 256, kernel_size=(1, 1), stride=(2, 2), bias=False)\n",
       "          (1): BatchNorm2d(256, eps=1e-05, momentum=0.1, affine=True, track_running_stats=True)\n",
       "        )\n",
       "      )\n",
       "      (1): BasicBlock(\n",
       "        (conv1): Conv2d(256, 256, kernel_size=(3, 3), stride=(1, 1), padding=(1, 1), bias=False)\n",
       "        (bn1): BatchNorm2d(256, eps=1e-05, momentum=0.1, affine=True, track_running_stats=True)\n",
       "        (relu): ReLU(inplace=True)\n",
       "        (conv2): Conv2d(256, 256, kernel_size=(3, 3), stride=(1, 1), padding=(1, 1), bias=False)\n",
       "        (bn2): BatchNorm2d(256, eps=1e-05, momentum=0.1, affine=True, track_running_stats=True)\n",
       "      )\n",
       "    )\n",
       "    (layer4): Sequential(\n",
       "      (0): BasicBlock(\n",
       "        (conv1): Conv2d(256, 512, kernel_size=(3, 3), stride=(2, 2), padding=(1, 1), bias=False)\n",
       "        (bn1): BatchNorm2d(512, eps=1e-05, momentum=0.1, affine=True, track_running_stats=True)\n",
       "        (relu): ReLU(inplace=True)\n",
       "        (conv2): Conv2d(512, 512, kernel_size=(3, 3), stride=(1, 1), padding=(1, 1), bias=False)\n",
       "        (bn2): BatchNorm2d(512, eps=1e-05, momentum=0.1, affine=True, track_running_stats=True)\n",
       "        (downsample): Sequential(\n",
       "          (0): Conv2d(256, 512, kernel_size=(1, 1), stride=(2, 2), bias=False)\n",
       "          (1): BatchNorm2d(512, eps=1e-05, momentum=0.1, affine=True, track_running_stats=True)\n",
       "        )\n",
       "      )\n",
       "      (1): BasicBlock(\n",
       "        (conv1): Conv2d(512, 512, kernel_size=(3, 3), stride=(1, 1), padding=(1, 1), bias=False)\n",
       "        (bn1): BatchNorm2d(512, eps=1e-05, momentum=0.1, affine=True, track_running_stats=True)\n",
       "        (relu): ReLU(inplace=True)\n",
       "        (conv2): Conv2d(512, 512, kernel_size=(3, 3), stride=(1, 1), padding=(1, 1), bias=False)\n",
       "        (bn2): BatchNorm2d(512, eps=1e-05, momentum=0.1, affine=True, track_running_stats=True)\n",
       "      )\n",
       "    )\n",
       "    (avgpool): AdaptiveAvgPool2d(output_size=(1, 1))\n",
       "    (fc): Sequential(\n",
       "      (0): Linear(in_features=512, out_features=512, bias=True)\n",
       "      (1): ReLU(inplace=True)\n",
       "      (2): Linear(in_features=512, out_features=20, bias=True)\n",
       "    )\n",
       "  )\n",
       ")"
      ]
     },
     "execution_count": 51,
     "metadata": {},
     "output_type": "execute_result"
    }
   ],
   "source": [
    "simclr_model = SimCLR(hidden_dim=128, lr=5e-4, temperature=0.07, weight_decay=1e-4,max_epochs=245)\n",
    "simclr_model.load_state_dict(torch.load(full_model_path))\n",
    "simclr_model.to(device)\n",
    "simclr_model.eval()"
   ]
  },
  {
   "cell_type": "markdown",
   "metadata": {},
   "source": [
    "# Clustering"
   ]
  },
  {
   "cell_type": "code",
   "execution_count": 52,
   "metadata": {},
   "outputs": [
    {
     "name": "stdout",
     "output_type": "stream",
     "text": [
      "Label distribution: {'control': 120, 'single_dose': 103}\n"
     ]
    }
   ],
   "source": [
    "class LabeledImageDataset(Dataset):\n",
    "    def __init__(self, image_files, labels, transform=None):\n",
    "        self.image_files = image_files\n",
    "        self.labels = labels\n",
    "        #self.transform = transform\n",
    "        self.resize_transform = transforms.Resize((96, 96))\n",
    "\n",
    "    def __len__(self):\n",
    "        return len(self.image_files)\n",
    "\n",
    "    def __getitem__(self, idx):\n",
    "        img_path = self.image_files[idx]\n",
    "        image = tiff.imread(img_path)\n",
    "\n",
    "        # Ensure the image has 3 layers (channels)\n",
    "        if image.shape[0] != 3:\n",
    "            raise ValueError(f\"Image {img_path} does not have exactly 3 layers.\")\n",
    "\n",
    "        # Normalize the 16-bit image to [0, 1]\n",
    "        image = image.astype(np.float32) / 65535.0\n",
    "\n",
    "        # Convert to a torch tensor and add channel dimension\n",
    "        image = torch.tensor(image, dtype=torch.float32)\n",
    "        \n",
    "        # Apply resize transform\n",
    "        image = self.resize_transform(image)\n",
    "\n",
    "        label = self.labels[idx]\n",
    "\n",
    "        return image, label\n",
    "\n",
    "def load_data(root_dir):\n",
    "    #classes = ['untreated']\n",
    "    classes = ['control','single_dose']   #classes = ['untreated', 'single_dose', 'drug_screened']\n",
    "    image_files = []\n",
    "    labels = []\n",
    "\n",
    "    for idx, class_name in enumerate(classes):\n",
    "        class_dir = os.path.join(root_dir, class_name)\n",
    "        files = [os.path.join(class_dir, file) for file in os.listdir(class_dir) if file.endswith('.tiff')]\n",
    "        image_files.extend(files)\n",
    "        labels.extend([idx] * len(files))\n",
    "    \n",
    "    # Check if the labels correctly reflect the classes\n",
    "    print(\"Label distribution:\", {classes[i]: labels.count(i) for i in range(len(classes))})\n",
    "\n",
    "    return image_files, labels\n",
    "\n",
    "\n",
    "# Directories for labeled data\n",
    "image_dir = r\"C:\\Users\\k54739\\Bibi_new_thesis\\thesis\\kmeans_rank_class\\singledose_controls\"\n",
    "\n",
    "# Load data\n",
    "image_files, labels = load_data(image_dir)\n",
    "\n",
    "# Create the labeled datasets\n",
    "labeled_dataset = LabeledImageDataset(image_files, labels)\n",
    "\n",
    "# Define DataLoaders\n",
    "batch_size = 16\n",
    "loader_labeled = DataLoader(labeled_dataset, batch_size=batch_size, shuffle=True, drop_last=False, pin_memory=True, num_workers=0)"
   ]
  },
  {
   "cell_type": "code",
   "execution_count": 53,
   "metadata": {},
   "outputs": [
    {
     "name": "stdout",
     "output_type": "stream",
     "text": [
      "torch.Size([16, 3, 96, 96]) torch.Size([16]) torch.float32\n",
      "tensor([1, 0, 1, 0, 0, 1, 1, 1, 0, 0, 1, 1, 0, 0, 0, 1])\n"
     ]
    }
   ],
   "source": [
    "for anchor,label in loader_labeled:\n",
    "    print(anchor.shape, label.shape, anchor.dtype)\n",
    "    print(label)\n",
    "    break"
   ]
  },
  {
   "cell_type": "code",
   "execution_count": 54,
   "metadata": {},
   "outputs": [],
   "source": [
    "@torch.no_grad()\n",
    "def prepare_data_features(model, dataloader):\n",
    "    # Prepare model\n",
    "    network = deepcopy(model.convnet)\n",
    "    network.fc = nn.Identity()  # Removing projection head g(.)\n",
    "    network.eval()\n",
    "    network.to(device)\n",
    "\n",
    "    # Encode all images\n",
    "    feats, labels = [], []\n",
    "    for batch_imgs, batch_labels in tqdm(dataloader):\n",
    "        batch_imgs = batch_imgs.to(device)\n",
    "        batch_feats = network(batch_imgs)\n",
    "        print(f\"Batch features shape: {batch_feats.shape}\")\n",
    "        print(f\"Batch labels shape: {batch_labels.shape}\")\n",
    "        \n",
    "        feats.append(batch_feats.detach().cpu())\n",
    "        labels.append(batch_labels)\n",
    "\n",
    "    feats = torch.cat(feats, dim=0)\n",
    "    labels = torch.cat(labels, dim=0)\n",
    "    \n",
    "    print(f\"Features shape after concatenation: {feats.shape}\")\n",
    "    print(f\"Labels shape after concatenation: {labels.shape}\")\n",
    "\n",
    "    return torch.utils.data.TensorDataset(feats, labels)"
   ]
  },
  {
   "cell_type": "code",
   "execution_count": 55,
   "metadata": {},
   "outputs": [
    {
     "name": "stderr",
     "output_type": "stream",
     "text": [
      "  0%|          | 0/14 [00:00<?, ?it/s]"
     ]
    },
    {
     "name": "stderr",
     "output_type": "stream",
     "text": [
      "  7%|▋         | 1/14 [00:00<00:09,  1.32it/s]"
     ]
    },
    {
     "name": "stdout",
     "output_type": "stream",
     "text": [
      "Batch features shape: torch.Size([16, 512])\n",
      "Batch labels shape: torch.Size([16])\n"
     ]
    },
    {
     "name": "stderr",
     "output_type": "stream",
     "text": [
      " 14%|█▍        | 2/14 [00:01<00:08,  1.36it/s]"
     ]
    },
    {
     "name": "stdout",
     "output_type": "stream",
     "text": [
      "Batch features shape: torch.Size([16, 512])\n",
      "Batch labels shape: torch.Size([16])\n"
     ]
    },
    {
     "name": "stderr",
     "output_type": "stream",
     "text": [
      " 21%|██▏       | 3/14 [00:02<00:07,  1.44it/s]"
     ]
    },
    {
     "name": "stdout",
     "output_type": "stream",
     "text": [
      "Batch features shape: torch.Size([16, 512])\n",
      "Batch labels shape: torch.Size([16])\n"
     ]
    },
    {
     "name": "stderr",
     "output_type": "stream",
     "text": [
      " 29%|██▊       | 4/14 [00:02<00:06,  1.43it/s]"
     ]
    },
    {
     "name": "stdout",
     "output_type": "stream",
     "text": [
      "Batch features shape: torch.Size([16, 512])\n",
      "Batch labels shape: torch.Size([16])\n"
     ]
    },
    {
     "name": "stderr",
     "output_type": "stream",
     "text": [
      " 36%|███▌      | 5/14 [00:03<00:06,  1.41it/s]"
     ]
    },
    {
     "name": "stdout",
     "output_type": "stream",
     "text": [
      "Batch features shape: torch.Size([16, 512])\n",
      "Batch labels shape: torch.Size([16])\n"
     ]
    },
    {
     "name": "stderr",
     "output_type": "stream",
     "text": [
      " 43%|████▎     | 6/14 [00:04<00:05,  1.44it/s]"
     ]
    },
    {
     "name": "stdout",
     "output_type": "stream",
     "text": [
      "Batch features shape: torch.Size([16, 512])\n",
      "Batch labels shape: torch.Size([16])\n"
     ]
    },
    {
     "name": "stderr",
     "output_type": "stream",
     "text": [
      " 50%|█████     | 7/14 [00:04<00:04,  1.44it/s]"
     ]
    },
    {
     "name": "stdout",
     "output_type": "stream",
     "text": [
      "Batch features shape: torch.Size([16, 512])\n",
      "Batch labels shape: torch.Size([16])\n"
     ]
    },
    {
     "name": "stderr",
     "output_type": "stream",
     "text": [
      " 57%|█████▋    | 8/14 [00:05<00:04,  1.41it/s]"
     ]
    },
    {
     "name": "stdout",
     "output_type": "stream",
     "text": [
      "Batch features shape: torch.Size([16, 512])\n",
      "Batch labels shape: torch.Size([16])\n"
     ]
    },
    {
     "name": "stderr",
     "output_type": "stream",
     "text": [
      " 64%|██████▍   | 9/14 [00:06<00:03,  1.40it/s]"
     ]
    },
    {
     "name": "stdout",
     "output_type": "stream",
     "text": [
      "Batch features shape: torch.Size([16, 512])\n",
      "Batch labels shape: torch.Size([16])\n"
     ]
    },
    {
     "name": "stderr",
     "output_type": "stream",
     "text": [
      " 71%|███████▏  | 10/14 [00:07<00:02,  1.41it/s]"
     ]
    },
    {
     "name": "stdout",
     "output_type": "stream",
     "text": [
      "Batch features shape: torch.Size([16, 512])\n",
      "Batch labels shape: torch.Size([16])\n"
     ]
    },
    {
     "name": "stderr",
     "output_type": "stream",
     "text": [
      " 79%|███████▊  | 11/14 [00:07<00:02,  1.42it/s]"
     ]
    },
    {
     "name": "stdout",
     "output_type": "stream",
     "text": [
      "Batch features shape: torch.Size([16, 512])\n",
      "Batch labels shape: torch.Size([16])\n"
     ]
    },
    {
     "name": "stderr",
     "output_type": "stream",
     "text": [
      " 86%|████████▌ | 12/14 [00:08<00:01,  1.40it/s]"
     ]
    },
    {
     "name": "stdout",
     "output_type": "stream",
     "text": [
      "Batch features shape: torch.Size([16, 512])\n",
      "Batch labels shape: torch.Size([16])\n"
     ]
    },
    {
     "name": "stderr",
     "output_type": "stream",
     "text": [
      " 93%|█████████▎| 13/14 [00:09<00:00,  1.41it/s]"
     ]
    },
    {
     "name": "stdout",
     "output_type": "stream",
     "text": [
      "Batch features shape: torch.Size([16, 512])\n",
      "Batch labels shape: torch.Size([16])\n"
     ]
    },
    {
     "name": "stderr",
     "output_type": "stream",
     "text": [
      "100%|██████████| 14/14 [00:09<00:00,  1.42it/s]"
     ]
    },
    {
     "name": "stdout",
     "output_type": "stream",
     "text": [
      "Batch features shape: torch.Size([15, 512])\n",
      "Batch labels shape: torch.Size([15])\n",
      "Features shape after concatenation: torch.Size([223, 512])\n",
      "Labels shape after concatenation: torch.Size([223])\n"
     ]
    },
    {
     "name": "stderr",
     "output_type": "stream",
     "text": [
      "\n"
     ]
    }
   ],
   "source": [
    "# Extract features for train and test datasets\n",
    "feats_simclr = prepare_data_features(simclr_model, loader_labeled)"
   ]
  },
  {
   "cell_type": "code",
   "execution_count": 56,
   "metadata": {},
   "outputs": [
    {
     "name": "stdout",
     "output_type": "stream",
     "text": [
      "Shape of features (for K-Means): (223, 512)\n",
      "Shape of labels: (223,)\n"
     ]
    }
   ],
   "source": [
    "# Convert features and labels to NumPy arrays\n",
    "feats_np = feats_simclr.tensors[0].numpy()  # Features in shape (60, 512)\n",
    "labels_np = feats_simclr.tensors[1].numpy()  # Corresponding labels\n",
    "\n",
    "# Check the shapes\n",
    "print(\"Shape of features (for K-Means):\", feats_np.shape)\n",
    "print(\"Shape of labels:\", labels_np.shape)"
   ]
  },
  {
   "cell_type": "markdown",
   "metadata": {},
   "source": [
    "SKLEARN"
   ]
  },
  {
   "cell_type": "markdown",
   "metadata": {},
   "source": [
    "# Define KMeansCosine class\n",
    "class KMeansCosine:\n",
    "    def __init__(self, n_clusters=2, max_iter=300, random_state=None):\n",
    "        self.n_clusters = n_clusters\n",
    "        self.max_iter = max_iter\n",
    "        self.random_state = random_state\n",
    "\n",
    "    def fit(self, X):\n",
    "        # Normalize the data to unit vectors\n",
    "        X_normalized = X / np.linalg.norm(X, axis=1)[:, np.newaxis]\n",
    "\n",
    "        # Initialize centroids randomly from the data points\n",
    "        np.random.seed(self.random_state)\n",
    "        initial_indices = np.random.choice(X_normalized.shape[0], self.n_clusters, replace=False)\n",
    "        centroids = X_normalized[initial_indices]\n",
    "\n",
    "        # Track the minimum cost and corresponding labels/centroids\n",
    "        best_cost = float('inf')\n",
    "        best_labels = None\n",
    "        best_centroids = None\n",
    "\n",
    "\n",
    "        for _ in range(self.max_iter):\n",
    "            # Compute the cosine similarity and distance\n",
    "            similarities = cosine_similarity(X_normalized, centroids)\n",
    "            cosine_dist = 1 - similarities\n",
    "            cost = np.sum(cosine_dist)\n",
    "            print(f\"Iteration cost: {cost}\")\n",
    "\n",
    "            # Update best cost and corresponding labels/centroids if the current cost is lower\n",
    "            if cost < best_cost:\n",
    "                best_cost = cost\n",
    "                best_labels = np.argmax(similarities, axis=1)\n",
    "                best_centroids = centroids.copy()\n",
    "\n",
    "            # Assign clusters based on the highest similarity (lowest distance)\n",
    "            labels = np.argmax(similarities, axis=1)\n",
    "\n",
    "            # Update centroids by taking the mean of the points in each cluster\n",
    "            new_centroids = np.array([X_normalized[labels == i].mean(axis=0) for i in range(self.n_clusters)])\n",
    "            new_centroids /= np.linalg.norm(new_centroids, axis=1)[:, np.newaxis]\n",
    "\n",
    "            # Check for convergence (if centroids do not change)\n",
    "            if np.allclose(centroids, new_centroids, atol=1e-6):  # Use np.allclose for numerical stability\n",
    "                break\n",
    "\n",
    "            centroids = new_centroids\n",
    "\n",
    "        # Store final centroids and labels\n",
    "        self.labels_ = labels\n",
    "        self.centroids_ = centroids\n",
    "        self.best_labels_ = best_labels\n",
    "        self.best_centroids_ = best_centroids\n",
    "        self.best_cost_ = best_cost"
   ]
  },
  {
   "cell_type": "markdown",
   "metadata": {},
   "source": [
    "# Define KMeansCosine class\n",
    "class KMeansCosine:\n",
    "    def __init__(self, n_clusters=2, max_iter=300, random_state=None):\n",
    "        self.n_clusters = n_clusters\n",
    "        self.max_iter = max_iter\n",
    "        self.random_state = random_state\n",
    "\n",
    "    def fit(self, X):\n",
    "        X_normalized = X / np.linalg.norm(X, axis=1)[:, np.newaxis]\n",
    "        np.random.seed(self.random_state)\n",
    "        initial_indices = np.random.choice(X_normalized.shape[0], self.n_clusters, replace=False)\n",
    "        centroids = X_normalized[initial_indices]\n",
    "\n",
    "        for _ in range(self.max_iter):\n",
    "            similarities = cosine_similarity(X_normalized, centroids)\n",
    "            labels = np.argmax(similarities, axis=1)\n",
    "            new_centroids = np.array([X_normalized[labels == i].mean(axis=0) for i in range(self.n_clusters)])\n",
    "            new_centroids /= np.linalg.norm(new_centroids, axis=1)[:, np.newaxis]\n",
    "\n",
    "            if np.all(centroids == new_centroids):\n",
    "                break\n",
    "\n",
    "            centroids = new_centroids\n",
    "\n",
    "        self.labels_ = labels\n",
    "        self.centroids_ = centroids"
   ]
  },
  {
   "cell_type": "markdown",
   "metadata": {},
   "source": [
    "kmeans_cosine = KMeansCosine(n_clusters=2, max_iter=100, random_state=30)\n",
    "kmeans_cosine.fit(feats_np)\n",
    "\n",
    "print(\"Final Cluster Labels:\", kmeans_cosine.labels_)\n",
    "print(\"Final Centroids:\", kmeans_cosine.centroids_)\n",
    "#print(\"Best Cluster Labels with Lowest Cost:\", kmeans_cosine.best_labels_)\n",
    "print(\"Best Centroids with Lowest Cost:\", kmeans_cosine.best_centroids_)\n",
    "print(\"Lowest Cost:\", kmeans_cosine.best_cost_)"
   ]
  },
  {
   "cell_type": "markdown",
   "metadata": {},
   "source": [
    "idx = kmeans_cosine.labels_\n",
    "idx"
   ]
  },
  {
   "cell_type": "markdown",
   "metadata": {},
   "source": [
    "print(\"Cluster assignments:\", idx)\n",
    "print(\"True labels:\", labels_np)"
   ]
  },
  {
   "cell_type": "markdown",
   "metadata": {},
   "source": [
    "best_idx = kmeans_cosine.best_labels_\n",
    "best_idx"
   ]
  },
  {
   "cell_type": "markdown",
   "metadata": {},
   "source": [
    "print(\"Cluster assignments:\", best_idx)\n",
    "print(\"True labels:\", labels)"
   ]
  },
  {
   "cell_type": "markdown",
   "metadata": {},
   "source": [
    "# `idx` contains the cluster assignments from KMeans\n",
    "#  `labels` contains the true labels\n",
    "\n",
    "K = len(np.unique(idx))  # Number of clusters\n",
    "\n",
    "# Iterate over each cluster and count the true labels in that cluster\n",
    "for cluster in range(K):\n",
    "    # Find the indices of images assigned to the current cluster\n",
    "    cluster_indices = np.where(idx == cluster)[0]\n",
    "    \n",
    "    # Get the true labels for the images in this cluster\n",
    "    cluster_labels = labels_np[cluster_indices]\n",
    "    \n",
    "    # Use Counter to count occurrences of each label in the cluster\n",
    "    label_counts = Counter(cluster_labels)\n",
    "    \n",
    "    # Print the result\n",
    "    print(f\"Cluster {cluster} has true labels: {label_counts}\")\n"
   ]
  },
  {
   "cell_type": "markdown",
   "metadata": {},
   "source": [
    "K = len(np.unique(best_idx))  # Number of clusters\n",
    "\n",
    "# Iterate over each cluster and count the true labels in that cluster\n",
    "for cluster in range(K):\n",
    "    # Find the indices of images assigned to the current cluster\n",
    "    cluster_indices = np.where(best_idx == cluster)[0]\n",
    "    \n",
    "    # Get the true labels for the images in this cluster\n",
    "    cluster_labels = labels_np[cluster_indices]\n",
    "    \n",
    "    # Use Counter to count occurrences of each label in the cluster\n",
    "    label_counts = Counter(cluster_labels)\n",
    "    \n",
    "    # Print the result\n",
    "    print(f\"Cluster {cluster} has true labels: {label_counts}\")"
   ]
  },
  {
   "cell_type": "markdown",
   "metadata": {},
   "source": [
    "# Function to reorder K-Means labels to match true labels\n",
    "def reorder_labels(true_labels, predicted_labels):\n",
    "    reordered_labels = np.zeros_like(predicted_labels)\n",
    "\n",
    "    for cluster in np.unique(predicted_labels):\n",
    "        mask = (predicted_labels == cluster)\n",
    "        # Use mode and handle cases where mode() returns a scalar\n",
    "        most_common_label = mode(true_labels[mask], axis=None).mode  # Get the mode for the current cluster\n",
    "        if isinstance(most_common_label, np.ndarray):\n",
    "            most_common_label = most_common_label[0]  # Safely extract the mode value if it's an array\n",
    "        \n",
    "        reordered_labels[mask] = most_common_label\n",
    "\n",
    "    return reordered_labels"
   ]
  },
  {
   "cell_type": "markdown",
   "metadata": {},
   "source": [
    "# Apply this after running K-Means\n",
    "reordered_idx = reorder_labels(labels_np, idx)\n",
    "\n",
    "# Now you can compare `reordered_idx` with `labels` to evaluate accuracy\n",
    "accuracy = np.sum(reordered_idx == labels_np) / len(labels_np) * 100\n",
    "print(f\"Accuracy: {accuracy:.2f}%\")"
   ]
  },
  {
   "cell_type": "markdown",
   "metadata": {},
   "source": [
    "# Apply this after running K-Means\n",
    "reordered_idx = reorder_labels(labels_np, best_idx)\n",
    "\n",
    "# Now you can compare `reordered_idx` with `labels` to evaluate accuracy\n",
    "accuracy = np.sum(reordered_idx == labels_np) / len(labels) * 100\n",
    "print(f\"Accuracy: {accuracy:.2f}%\")"
   ]
  },
  {
   "cell_type": "markdown",
   "metadata": {},
   "source": [
    "From scratch"
   ]
  },
  {
   "cell_type": "code",
   "execution_count": 57,
   "metadata": {},
   "outputs": [],
   "source": [
    "\n",
    "# K-Means initialization function\n",
    "def kMeans_init_centroids(X, K):\n",
    "    randidx = np.random.permutation(X.shape[0])\n",
    "    centroids = X[randidx[:K]]\n",
    "    return centroids\n",
    "\n",
    "# Function to find the closest centroids\n",
    "def find_closest_centroids(X, centroids):\n",
    "    idx = np.zeros(X.shape[0], dtype=int)\n",
    "    for i in range(X.shape[0]):\n",
    "        distances = np.linalg.norm(X[i] - centroids, axis=1)\n",
    "        idx[i] = np.argmin(distances)\n",
    "    return idx\n",
    "\n",
    "# Function to compute new centroids\n",
    "def compute_centroids(X, idx, K):\n",
    "    centroids = np.zeros((K, X.shape[1]))  # Use shape[1] for features\n",
    "    for k in range(K):\n",
    "        points = X[idx == k]\n",
    "        centroids[k] = np.mean(points, axis=0) if len(points) > 0 else centroids[k]\n",
    "    return centroids\n",
    "\n",
    "# Function to run K-Means algorithm with cost tracking\n",
    "def run_kMeans(X, initial_centroids, max_iters=10):\n",
    "    K = initial_centroids.shape[0]\n",
    "    centroids = initial_centroids\n",
    "    idx = np.zeros(X.shape[0])\n",
    "    \n",
    "    best_centroids = centroids\n",
    "    lowest_cost = float('inf')\n",
    "    final_iteration = 0  # To keep track of the iteration where the best centroids were found\n",
    "    best_idx = idx\n",
    "\n",
    "    for i in range(max_iters):\n",
    "        print(f\"K-Means iteration {i}/{max_iters - 1}\")\n",
    "        \n",
    "        # Assign each data point to the closest centroid\n",
    "        idx = find_closest_centroids(X, centroids)\n",
    "        \n",
    "        # Compute new centroids\n",
    "        centroids = compute_centroids(X, idx, K)\n",
    "\n",
    "        # Calculate cost function for the current centroids\n",
    "        cost = np.sum(np.linalg.norm(X - centroids[idx], axis=1)**2)\n",
    "        print(f\"Cost function value: {cost:.4f}\")  # Print the cost function value\n",
    "\n",
    "        # Check if this is the best cost so far\n",
    "        if cost < lowest_cost:\n",
    "            lowest_cost = cost\n",
    "            best_centroids = centroids\n",
    "            best_idx = idx.copy()\n",
    "            final_iteration = i  # Update the iteration where best centroids were found\n",
    "\n",
    "    print(f\"Final centroids selected from iteration: {final_iteration}\")  # Indicate which iteration was chosen\n",
    "    return best_centroids, best_idx, centroids,idx  # Return the best centroids\n",
    "\n"
   ]
  },
  {
   "cell_type": "code",
   "execution_count": 58,
   "metadata": {},
   "outputs": [
    {
     "name": "stdout",
     "output_type": "stream",
     "text": [
      "K-Means iteration 0/49\n",
      "Cost function value: 118076.7414\n",
      "K-Means iteration 1/49\n",
      "Cost function value: 107445.7240\n",
      "K-Means iteration 2/49\n",
      "Cost function value: 103340.1348\n",
      "K-Means iteration 3/49\n",
      "Cost function value: 97702.6291\n",
      "K-Means iteration 4/49\n",
      "Cost function value: 95017.8032\n",
      "K-Means iteration 5/49\n",
      "Cost function value: 95017.8032\n",
      "K-Means iteration 6/49\n",
      "Cost function value: 95017.8032\n",
      "K-Means iteration 7/49\n",
      "Cost function value: 95017.8032\n",
      "K-Means iteration 8/49\n",
      "Cost function value: 95017.8032\n",
      "K-Means iteration 9/49\n",
      "Cost function value: 95017.8032\n",
      "K-Means iteration 10/49\n",
      "Cost function value: 95017.8032\n",
      "K-Means iteration 11/49\n",
      "Cost function value: 95017.8032\n",
      "K-Means iteration 12/49\n",
      "Cost function value: 95017.8032\n",
      "K-Means iteration 13/49\n",
      "Cost function value: 95017.8032\n",
      "K-Means iteration 14/49\n",
      "Cost function value: 95017.8032\n",
      "K-Means iteration 15/49\n",
      "Cost function value: 95017.8032\n",
      "K-Means iteration 16/49\n",
      "Cost function value: 95017.8032\n",
      "K-Means iteration 17/49\n",
      "Cost function value: 95017.8032\n",
      "K-Means iteration 18/49\n",
      "Cost function value: 95017.8032\n",
      "K-Means iteration 19/49\n",
      "Cost function value: 95017.8032\n",
      "K-Means iteration 20/49\n",
      "Cost function value: 95017.8032\n",
      "K-Means iteration 21/49\n",
      "Cost function value: 95017.8032\n",
      "K-Means iteration 22/49\n",
      "Cost function value: 95017.8032\n",
      "K-Means iteration 23/49\n",
      "Cost function value: 95017.8032\n",
      "K-Means iteration 24/49\n",
      "Cost function value: 95017.8032\n",
      "K-Means iteration 25/49\n",
      "Cost function value: 95017.8032\n",
      "K-Means iteration 26/49\n",
      "Cost function value: 95017.8032\n",
      "K-Means iteration 27/49\n",
      "Cost function value: 95017.8032\n",
      "K-Means iteration 28/49\n",
      "Cost function value: 95017.8032\n",
      "K-Means iteration 29/49\n",
      "Cost function value: 95017.8032\n",
      "K-Means iteration 30/49\n",
      "Cost function value: 95017.8032\n",
      "K-Means iteration 31/49\n",
      "Cost function value: 95017.8032\n",
      "K-Means iteration 32/49\n",
      "Cost function value: 95017.8032\n",
      "K-Means iteration 33/49\n",
      "Cost function value: 95017.8032\n",
      "K-Means iteration 34/49\n",
      "Cost function value: 95017.8032\n",
      "K-Means iteration 35/49\n",
      "Cost function value: 95017.8032\n",
      "K-Means iteration 36/49\n",
      "Cost function value: 95017.8032\n",
      "K-Means iteration 37/49\n",
      "Cost function value: 95017.8032\n",
      "K-Means iteration 38/49\n",
      "Cost function value: 95017.8032\n",
      "K-Means iteration 39/49\n",
      "Cost function value: 95017.8032\n",
      "K-Means iteration 40/49\n",
      "Cost function value: 95017.8032\n",
      "K-Means iteration 41/49\n",
      "Cost function value: 95017.8032\n",
      "K-Means iteration 42/49\n",
      "Cost function value: 95017.8032\n",
      "K-Means iteration 43/49\n",
      "Cost function value: 95017.8032\n",
      "K-Means iteration 44/49\n",
      "Cost function value: 95017.8032\n",
      "K-Means iteration 45/49\n",
      "Cost function value: 95017.8032\n",
      "K-Means iteration 46/49\n",
      "Cost function value: 95017.8032\n",
      "K-Means iteration 47/49\n",
      "Cost function value: 95017.8032\n",
      "K-Means iteration 48/49\n",
      "Cost function value: 95017.8032\n",
      "K-Means iteration 49/49\n",
      "Cost function value: 95017.8032\n",
      "Final centroids selected from iteration: 4\n",
      "Final centroids: [[9.26772237e-01 3.89876723e-01 4.93469089e-01 ... 2.68832535e-01\n",
      "  1.57539139e-03 1.85109377e-01]\n",
      " [2.89388388e-01 1.21878847e-01 1.60737312e+00 ... 3.71923709e+00\n",
      "  6.89643919e-02 3.35103965e+00]]\n"
     ]
    }
   ],
   "source": [
    "K = 2                          # Step 2: Set number of clusters\n",
    "initial_centroids = kMeans_init_centroids(feats_np, K)  # Step 3: Initialize centroids \n",
    "max_iters = 50                # Step 4: Number of iterations\n",
    "\n",
    "best_centroids, best_idx, control_centroids, idx = run_kMeans(feats_np, initial_centroids, max_iters)  # Step 5: Run K-Means\n",
    "print(\"Final centroids:\", best_centroids)  # Output the final centroids"
   ]
  },
  {
   "cell_type": "code",
   "execution_count": 35,
   "metadata": {},
   "outputs": [
    {
     "data": {
      "text/plain": [
       "array([[1.88018605e-01, 1.01383522e-01, 1.54381132e+00, 1.02059829e+00,\n",
       "        1.66345334e+00, 1.37033868e+00, 4.81865317e-01, 1.45328850e-01,\n",
       "        8.27055514e-01, 2.27075601e+00, 1.07909286e+00, 4.61999979e-03,\n",
       "        2.88115472e-01, 1.04051816e+00, 4.93947327e-01, 2.23455024e+00,\n",
       "        1.05073601e-01, 5.28526247e-01, 2.75046492e+00, 8.20109606e-01,\n",
       "        1.61017275e+00, 1.19561446e+00, 4.35848385e-01, 1.11862135e+00,\n",
       "        1.20950615e+00, 2.35809016e+00, 5.35937175e-02, 8.85685563e-01,\n",
       "        8.04520190e-01, 6.03750527e-01, 1.18713379e+00, 1.30302489e+00,\n",
       "        5.16830742e-01, 1.11219680e+00, 1.45972054e-02, 1.99847817e+00,\n",
       "        8.62380683e-01, 2.62561679e+00, 1.71176302e+00, 1.26975462e-01,\n",
       "        7.03270808e-02, 1.66013137e-01, 2.12771088e-01, 1.39520502e+00,\n",
       "        3.56267840e-01, 5.46329618e-01, 3.63256186e-01, 2.08889246e+00,\n",
       "        3.44666958e-01, 1.14522494e-01, 2.94859457e+00, 1.14201248e+00,\n",
       "        2.03973979e-01, 6.11517787e-01, 1.73841739e+00, 7.72292554e-01,\n",
       "        3.75695527e-01, 2.59270906e-01, 2.59153986e+00, 1.27379835e+00,\n",
       "        8.67481112e-01, 2.95733586e-02, 4.49809939e-01, 1.78549036e-01,\n",
       "        1.46103531e-01, 4.94497329e-01, 4.26347166e-01, 1.94096535e-01,\n",
       "        7.72364587e-02, 0.00000000e+00, 3.53061482e-02, 5.65856338e-01,\n",
       "        5.82797468e-01, 4.47302870e-02, 4.35670972e-01, 8.02416354e-02,\n",
       "        9.70967114e-01, 1.70058298e+00, 7.70128429e-01, 1.00076810e-01,\n",
       "        5.55226743e-01, 1.37101054e+00, 3.62236619e-01, 1.61746994e-01,\n",
       "        2.30416656e+00, 1.01440930e+00, 2.18771076e+00, 6.82043901e-05,\n",
       "        1.01902568e+00, 5.81231833e-01, 1.01636684e+00, 1.34420311e+00,\n",
       "        3.56991682e-03, 1.37727654e+00, 2.40558577e+00, 1.93965241e-01,\n",
       "        1.92110908e+00, 2.02224779e+00, 6.89656854e-01, 2.61195689e-01,\n",
       "        4.93897408e-01, 1.63674876e-01, 5.31588905e-02, 4.80536491e-01,\n",
       "        1.24310410e+00, 6.65548086e-01, 1.92872179e+00, 3.89925778e-01,\n",
       "        9.20588136e-01, 2.97981620e-01, 1.17145069e-02, 1.05836689e+00,\n",
       "        5.29455066e-01, 1.89002201e-01, 3.06041270e-01, 2.71818042e-02,\n",
       "        4.97563094e-01, 1.47640407e+00, 8.11378181e-01, 8.70146304e-02,\n",
       "        1.36217129e+00, 1.81500241e-01, 7.83850178e-02, 2.02352703e-02,\n",
       "        1.20994246e+00, 8.76330614e-01, 6.63616285e-02, 4.51035023e-01,\n",
       "        1.59961569e+00, 4.70232338e-01, 5.35572708e-01, 8.74085501e-02,\n",
       "        2.89119750e-01, 3.36428732e-01, 2.14229703e+00, 1.13134980e+00,\n",
       "        1.44247502e-01, 1.26468465e-01, 2.99148172e-01, 1.80862772e+00,\n",
       "        2.20494289e-02, 2.54431629e+00, 3.58078301e-01, 5.23369585e-04,\n",
       "        8.11785236e-02, 2.16544437e+00, 3.60843569e-01, 2.00712419e+00,\n",
       "        4.41468447e-01, 3.66145086e+00, 1.54317319e+00, 1.44447431e-01,\n",
       "        1.52421498e-03, 4.06364165e-03, 1.46368647e+00, 5.99806570e-02,\n",
       "        1.80625886e-01, 9.84534472e-02, 1.46142316e+00, 1.43041849e-01,\n",
       "        4.64228898e-01, 1.03522396e+00, 1.23847649e-01, 1.67701674e+00,\n",
       "        1.58599243e-01, 1.42734718e+00, 7.39735961e-01, 6.48799762e-02,\n",
       "        7.48130083e-01, 2.49980903e+00, 1.63134566e-04, 4.17687386e-01,\n",
       "        8.89200091e-01, 6.77192807e-01, 1.59422845e-01, 1.23598672e-01,\n",
       "        6.89062476e-01, 6.32717550e-01, 1.33325076e+00, 3.15800875e-01,\n",
       "        3.17853387e-03, 1.30029213e+00, 1.39890945e+00, 4.19250309e-01,\n",
       "        1.32291570e-01, 1.53032219e+00, 7.92205811e-01, 8.53062391e-01,\n",
       "        4.18804526e-01, 2.75676269e-02, 6.27971292e-01, 4.23872918e-01,\n",
       "        1.83420193e+00, 1.53975034e+00, 3.72039080e-02, 1.17172325e+00,\n",
       "        1.38357246e+00, 2.08370113e+00, 8.64423931e-01, 6.57732427e-01,\n",
       "        2.45121622e+00, 1.61818773e-01, 6.62567496e-01, 1.78815711e+00,\n",
       "        9.90627706e-01, 1.63042828e-01, 3.73725951e-01, 1.01301908e-01,\n",
       "        3.97114977e-02, 1.78841603e+00, 9.11186542e-03, 1.07111052e-01,\n",
       "        1.01139796e+00, 3.33002567e-01, 2.03679729e+00, 1.12856555e+00,\n",
       "        2.79723525e-01, 5.30840158e-01, 2.92881668e-01, 1.63414168e+00,\n",
       "        1.84028840e+00, 1.28608632e+00, 1.19728528e-01, 9.75421369e-01,\n",
       "        6.15917504e-01, 1.05122492e-01, 2.79345304e-01, 5.69033735e-02,\n",
       "        8.24015439e-01, 4.63850610e-02, 1.35802090e-01, 1.93180628e-02,\n",
       "        2.94622809e-01, 8.17960024e-01, 2.58022040e-01, 3.36577147e-01,\n",
       "        1.36858964e+00, 4.95164871e-01, 3.60001810e-02, 1.92474794e+00,\n",
       "        1.23935252e-01, 5.88106036e-01, 1.37497962e-01, 6.98150754e-01,\n",
       "        3.12501132e-01, 1.09176552e+00, 3.44387054e-01, 8.44241560e-01,\n",
       "        1.16849291e+00, 2.55743682e-01, 8.50558802e-02, 7.62100443e-02,\n",
       "        7.90064454e-01, 2.24064267e-03, 3.10946584e-01, 4.45436835e-02,\n",
       "        8.20621908e-01, 1.22275364e+00, 1.41191036e-01, 2.66427640e-02,\n",
       "        1.73729047e-01, 2.84823459e-02, 2.71218300e-01, 1.61812186e+00,\n",
       "        8.13830614e-01, 1.69698668e+00, 7.95832038e-01, 1.50782451e-01,\n",
       "        2.34699845e+00, 2.46806070e-02, 1.64430487e+00, 4.82380331e-01,\n",
       "        2.76360571e-01, 1.14570391e+00, 2.91341567e+00, 5.88309646e-01,\n",
       "        3.31810504e-01, 2.20310092e+00, 4.30826813e-01, 1.64176002e-01,\n",
       "        1.06857729e+00, 1.34772933e+00, 2.54697347e+00, 2.88846684e+00,\n",
       "        1.97802037e-01, 6.99329197e-01, 1.48292410e+00, 3.92755330e-01,\n",
       "        1.87008011e+00, 1.52957046e+00, 1.00863147e+00, 1.96557498e+00,\n",
       "        2.53797412e-01, 5.69763720e-01, 1.32972479e+00, 9.61945772e-01,\n",
       "        1.26298988e+00, 1.85359728e+00, 1.33238447e+00, 1.93051910e+00,\n",
       "        1.27937233e+00, 1.91486731e-01, 1.05960178e+00, 5.39714158e-01,\n",
       "        3.76266092e-01, 1.04018128e+00, 4.17797789e-02, 2.72903353e-01,\n",
       "        1.59036410e+00, 5.87798774e-01, 7.88974524e-01, 7.75480494e-02,\n",
       "        1.35536647e+00, 4.70751673e-01, 1.27755269e-01, 1.70177981e-01,\n",
       "        1.73930979e+00, 7.12598503e-01, 1.71961391e+00, 6.56679571e-02,\n",
       "        3.04442286e-01, 5.02935708e-01, 6.46749496e-01, 2.18457617e-02,\n",
       "        1.18928456e+00, 3.65325361e-01, 3.53038520e-01, 1.45728653e-02,\n",
       "        1.55491257e+00, 1.18409298e-01, 1.43860579e-01, 9.27768648e-01,\n",
       "        8.04989517e-01, 7.67754763e-02, 1.56684959e+00, 5.30855417e-01,\n",
       "        1.29221618e+00, 1.30537808e+00, 1.13159978e+00, 1.97682977e+00,\n",
       "        2.62853298e-02, 9.82019156e-02, 2.10930884e-01, 1.43089682e-01,\n",
       "        2.30938339e+00, 7.31965840e-01, 3.01734447e-01, 4.22169477e-01,\n",
       "        1.14415605e-02, 2.91749835e+00, 5.71998000e-01, 7.87068546e-01,\n",
       "        2.96077251e-01, 1.16211915e+00, 5.53554259e-02, 4.73386310e-02,\n",
       "        8.69060904e-02, 1.49090803e+00, 1.63515306e+00, 9.94302392e-01,\n",
       "        6.51430845e-01, 3.32324719e+00, 1.97096646e-01, 2.54378724e+00,\n",
       "        1.39056802e+00, 1.36369789e+00, 2.91139990e-01, 5.89936197e-01,\n",
       "        1.55582428e+00, 3.46242815e-01, 6.98354542e-01, 4.44147378e-01,\n",
       "        4.51500028e-01, 6.42446399e-01, 1.21855271e+00, 3.95900667e-01,\n",
       "        8.32394779e-01, 1.26625165e-01, 3.39522839e-01, 1.08727641e-01,\n",
       "        1.04888380e+00, 5.34908235e-01, 1.64785790e+00, 2.77900517e-01,\n",
       "        4.02757913e-01, 6.47919416e-01, 1.31593779e-01, 3.94571900e-01,\n",
       "        7.43039548e-01, 2.70806980e+00, 2.80436762e-02, 2.36832365e-01,\n",
       "        1.98253542e-01, 1.88465297e+00, 5.26022553e-01, 8.34662020e-01,\n",
       "        1.63634837e+00, 4.94503826e-01, 3.64399523e-01, 1.46145868e+00,\n",
       "        9.84005749e-01, 1.31850004e+00, 2.66392119e-02, 2.32824355e-01,\n",
       "        6.63909554e-01, 6.24411047e-01, 1.11538619e-01, 9.10225153e-01,\n",
       "        5.37218332e-01, 1.12850082e+00, 1.21875554e-02, 4.61250870e-03,\n",
       "        1.16138732e+00, 1.90419331e-01, 8.17772210e-01, 2.87357211e-01,\n",
       "        2.44914427e-01, 1.12742639e+00, 5.63940406e-02, 3.95848192e-02,\n",
       "        2.16412902e+00, 5.27824879e-01, 3.16479713e-01, 1.68570414e-01,\n",
       "        1.70839703e+00, 1.85929779e-02, 2.25222632e-02, 2.80143142e-01,\n",
       "        1.63430095e+00, 1.36196363e+00, 9.15453553e-01, 5.66439271e-01,\n",
       "        3.20108950e-01, 1.00358236e+00, 5.38142443e-01, 2.10361314e+00,\n",
       "        1.84283388e+00, 1.30906355e+00, 1.55798876e+00, 2.58552492e-01,\n",
       "        2.26160944e-01, 4.09842022e-02, 2.01751754e-01, 2.88786024e-01,\n",
       "        1.90332103e+00, 1.11625716e-03, 9.63676274e-02, 2.17970777e+00,\n",
       "        3.01953614e-01, 2.44109964e+00, 2.77752590e+00, 1.21921286e-01,\n",
       "        1.01865613e+00, 1.22331238e+00, 1.84821680e-01, 2.41887975e+00,\n",
       "        5.10632217e-01, 1.51587737e+00, 1.10038025e-02, 1.72043753e+00,\n",
       "        8.82351995e-01, 4.56905305e-01, 1.68552011e-01, 6.37699008e-01,\n",
       "        2.71694279e+00, 1.58437800e+00, 4.29635406e-01, 1.05570659e-01,\n",
       "        1.35060330e-03, 2.37450624e+00, 2.99539065e+00, 2.29652509e-01,\n",
       "        6.44434476e-03, 8.96591008e-01, 3.76855396e-02, 7.19177008e-01,\n",
       "        3.99175361e-02, 9.23331141e-01, 1.23944056e+00, 1.72345960e+00,\n",
       "        9.90753531e-01, 1.15094614e+00, 6.42890930e-02, 8.18472743e-01,\n",
       "        7.29647398e-01, 1.87905639e-01, 1.50683080e-03, 8.20328072e-02,\n",
       "        3.03683996e+00, 1.15114129e+00, 1.00985277e+00, 2.13602042e+00,\n",
       "        5.96911490e-01, 6.19703948e-01, 1.80740356e-01, 2.06039343e-02,\n",
       "        7.10819781e-01, 1.00553371e-01, 1.99652225e-01, 7.63254702e-01,\n",
       "        3.75308603e-01, 8.59102905e-01, 7.41863668e-01, 5.91087155e-02,\n",
       "        1.56416208e-03, 1.48588228e+00, 1.46274054e+00, 5.54756343e-01,\n",
       "        7.66373217e-01, 3.69885230e+00, 5.43708988e-02, 3.14858913e+00]])"
      ]
     },
     "execution_count": 35,
     "metadata": {},
     "output_type": "execute_result"
    }
   ],
   "source": [
    "control_centroids"
   ]
  },
  {
   "cell_type": "markdown",
   "metadata": {},
   "source": [
    "K = 2                          # Step 2: Set number of clusters\n",
    "initial_centroids = kMeans_init_centroids(feats_np, K)  # Step 3: Initialize centroids \n",
    "max_iters = 50                # Step 4: Number of iterations\n",
    "\n",
    "best_centroids, best_idx, centroids, idx = run_kMeans(feats_np, initial_centroids, max_iters)  # Step 5: Run K-Means\n",
    "print(\"Final centroids:\", best_centroids)  # Output the final centroids"
   ]
  },
  {
   "cell_type": "code",
   "execution_count": 59,
   "metadata": {},
   "outputs": [
    {
     "data": {
      "text/plain": [
       "(2, 512)"
      ]
     },
     "execution_count": 59,
     "metadata": {},
     "output_type": "execute_result"
    }
   ],
   "source": [
    "centroids.shape"
   ]
  },
  {
   "cell_type": "code",
   "execution_count": 61,
   "metadata": {},
   "outputs": [
    {
     "data": {
      "text/plain": [
       "array([8.81714582e-01, 2.76449859e-01, 4.80372608e-01, 5.19800842e-01,\n",
       "       2.29380921e-01, 1.13868964e+00, 5.99071860e-01, 6.73833370e-01,\n",
       "       1.03883874e+00, 2.75531006e+00, 2.75724339e+00, 5.38296700e-01,\n",
       "       4.98634517e-01, 1.04361050e-01, 8.47935557e-01, 1.39729476e+00,\n",
       "       1.18082091e-01, 7.10592449e-01, 1.35402298e-02, 1.18480287e-01,\n",
       "       1.04135133e-01, 2.18804431e+00, 2.50575185e+00, 1.66999674e+00,\n",
       "       1.85345337e-01, 6.64604921e-03, 3.33884627e-01, 7.61466043e-04,\n",
       "       2.17139935e+00, 2.40369821e+00, 6.89057231e-01, 6.31737411e-01,\n",
       "       1.10171653e-01, 7.06521198e-02, 1.55204785e+00, 3.10142636e-01,\n",
       "       1.50490224e+00, 1.10983133e+00, 4.36992139e-01, 4.64071631e-01,\n",
       "       3.31644773e-01, 1.32533872e+00, 2.39517227e-01, 3.23516168e-02,\n",
       "       3.01265454e+00, 6.91995203e-01, 1.06829226e+00, 8.75806391e-01,\n",
       "       8.42798233e-01, 7.66956151e-01, 3.51995438e-01, 9.42462683e-01,\n",
       "       1.86649728e+00, 6.72916234e-01, 1.77751338e+00, 7.29434788e-02,\n",
       "       6.90376043e-01, 2.19149184e+00, 1.19217026e+00, 1.60560167e+00,\n",
       "       1.47808164e-01, 2.55937886e+00, 9.75060761e-01, 8.64702225e-01,\n",
       "       1.44327402e+00, 4.27802414e-01, 3.09888780e-01, 1.03275502e+00,\n",
       "       5.98766088e-01, 1.34488046e+00, 1.04270506e+00, 1.05517685e-01,\n",
       "       2.10471034e+00, 1.89718616e+00, 7.87826538e-01, 1.89416814e+00,\n",
       "       8.01889539e-01, 2.04633415e-01, 5.40571287e-03, 5.51030517e-01,\n",
       "       1.90105975e-01, 1.49232006e+00, 3.02374768e+00, 4.00896609e-01,\n",
       "       3.85679454e-01, 1.25311688e-01, 8.27198550e-02, 3.54369670e-01,\n",
       "       9.43081975e-01, 5.60376704e-01, 9.28749800e-01, 3.04822564e-01,\n",
       "       2.00568843e+00, 1.33422479e-01, 1.08972561e+00, 3.43317121e-01,\n",
       "       1.06297159e+00, 7.18922466e-02, 1.26293993e+00, 2.34344453e-01,\n",
       "       4.27945912e-01, 4.70316947e-01, 8.38623106e-01, 1.17987716e+00,\n",
       "       3.56125444e-01, 2.37533212e+00, 1.35921252e+00, 3.05696040e-01,\n",
       "       3.33558393e+00, 2.13424826e+00, 7.29299724e-01, 1.39753506e-01,\n",
       "       4.39680040e-01, 6.37078941e-01, 1.70703077e+00, 1.83143413e+00,\n",
       "       8.94898921e-02, 1.58690834e+00, 3.75565290e-01, 9.39185679e-01,\n",
       "       6.62836075e-01, 4.65694785e-01, 4.06367481e-01, 2.20915973e-01,\n",
       "       5.26035368e-01, 2.32288390e-01, 7.04346240e-01, 2.22291887e-01,\n",
       "       2.17767894e-01, 1.00238609e+00, 8.27810317e-02, 2.18108439e+00,\n",
       "       7.14342952e-01, 3.58373672e-02, 2.64654040e-01, 2.15342388e-01,\n",
       "       3.85499090e-01, 1.46426129e+00, 2.63929427e-01, 4.02482152e-02,\n",
       "       1.20129585e-01, 7.82146215e-01, 7.97645867e-01, 6.21638775e-01,\n",
       "       5.44790447e-01, 6.32882297e-01, 5.10329723e-01, 1.08718801e+00,\n",
       "       3.21464360e-01, 1.30833483e+00, 3.09198856e-01, 2.96413541e-01,\n",
       "       9.02207613e-01, 2.04396203e-01, 1.43298637e-02, 5.76796710e-01,\n",
       "       3.43499035e-02, 8.59049261e-01, 2.06522614e-01, 8.03758144e-01,\n",
       "       2.34137726e+00, 1.47508848e+00, 2.09535018e-01, 9.26719069e-01,\n",
       "       7.68909574e-01, 5.23865104e-01, 6.44904375e-03, 1.00812830e-01,\n",
       "       3.83144245e-02, 1.17128551e+00, 9.56024900e-02, 8.42399895e-02,\n",
       "       3.32273841e-02, 6.48385942e-01, 2.24818540e+00, 2.18763709e+00,\n",
       "       2.39629149e-01, 1.81513965e+00, 3.68313193e-01, 1.00445974e+00,\n",
       "       1.50934303e+00, 1.49741089e+00, 2.96709806e-01, 2.73525178e-01,\n",
       "       3.08555633e-01, 6.51679695e-01, 3.21797848e-01, 9.03068900e-01,\n",
       "       4.89729881e-01, 4.59122419e-01, 1.73709583e+00, 1.02543843e+00,\n",
       "       4.19783974e+00, 5.32399975e-02, 6.78417623e-01, 6.57001674e-01,\n",
       "       1.15092528e+00, 7.69947171e-02, 1.15094864e+00, 1.77907240e+00,\n",
       "       2.30443105e-01, 3.57742369e-01, 1.96168825e-01, 4.35408354e-02,\n",
       "       1.71622992e-01, 8.54288697e-01, 2.42197037e+00, 1.03556037e+00,\n",
       "       7.11404145e-01, 3.01929209e-02, 1.18988085e+00, 3.13150120e+00,\n",
       "       2.51835763e-01, 8.89256597e-01, 9.21629250e-01, 2.52827629e-02,\n",
       "       5.03557086e-01, 3.08108151e-01, 9.20379877e-01, 6.43068612e-01,\n",
       "       7.24256560e-02, 7.73433745e-01, 7.21656919e-01, 1.90187514e-01,\n",
       "       8.35317492e-01, 6.41259074e-01, 3.25187182e+00, 4.93686497e-02,\n",
       "       3.32426786e-01, 7.17485845e-01, 1.66228259e+00, 1.96734235e-01,\n",
       "       2.65013903e-01, 8.47001731e-01, 3.98943990e-01, 1.14493370e+00,\n",
       "       4.71092276e-02, 1.14615190e+00, 1.00352108e-01, 1.05161631e+00,\n",
       "       7.59592235e-01, 9.07712698e-01, 1.24611795e+00, 9.81533885e-01,\n",
       "       1.05408156e+00, 3.44920663e-05, 1.41851097e-01, 1.85883045e+00,\n",
       "       1.74099356e-01, 8.76624312e-04, 1.72997677e+00, 1.00891960e+00,\n",
       "       5.32891741e-03, 1.45664060e+00, 1.79035151e+00, 4.69308436e-01,\n",
       "       1.55578688e-01, 1.64429402e+00, 1.53989923e+00, 7.84877539e-02,\n",
       "       1.37928855e+00, 1.41916931e+00, 7.23686954e-03, 9.29824829e-01,\n",
       "       1.76952744e+00, 1.34525657e+00, 2.77627659e+00, 7.78568238e-02,\n",
       "       3.13634127e-01, 8.07013959e-02, 1.84564388e+00, 8.47746015e-01,\n",
       "       1.71446705e+00, 9.32447389e-02, 2.88352823e+00, 3.63977492e-01,\n",
       "       2.04537463e+00, 6.41295221e-03, 2.02257991e+00, 1.00119007e+00,\n",
       "       3.39880049e-01, 1.15867741e-01, 6.34039283e-01, 1.36673141e+00,\n",
       "       1.28974307e+00, 1.19290543e+00, 9.56495583e-01, 2.73249173e+00,\n",
       "       3.97756621e-02, 2.82544875e+00, 1.55478513e+00, 6.11629486e-01,\n",
       "       3.31966043e-01, 1.32296777e+00, 5.07279694e-01, 3.10904551e+00,\n",
       "       2.07381457e-01, 3.14800763e+00, 2.05644941e+00, 1.16669953e+00,\n",
       "       2.20171183e-01, 3.46860707e-01, 1.26406455e+00, 9.34867799e-01,\n",
       "       2.15978479e+00, 2.07651392e-01, 7.78529167e-01, 2.46418452e+00,\n",
       "       5.53802609e-01, 4.92825508e+00, 2.32631221e-01, 6.50312722e-01,\n",
       "       5.70629478e-01, 7.12399364e-01, 2.79728532e+00, 1.05176413e+00,\n",
       "       2.74400383e-01, 1.79289865e+00, 8.34064662e-01, 2.26376399e-01,\n",
       "       1.07646838e-01, 0.00000000e+00, 3.24542570e+00, 9.95763540e-01,\n",
       "       5.22993565e-01, 1.80788314e+00, 7.34181464e-01, 1.35195684e+00,\n",
       "       1.48474067e-01, 2.05058213e-02, 4.95294511e-01, 9.79599878e-02,\n",
       "       6.45426009e-03, 5.55931479e-02, 7.99511969e-01, 1.08425915e+00,\n",
       "       2.60334873e+00, 6.68687165e-01, 1.39123166e+00, 4.56476933e-04,\n",
       "       2.45465040e+00, 1.53071284e+00, 6.11049712e-01, 6.29581511e-01,\n",
       "       2.16492303e-02, 8.68967831e-01, 3.95296328e-03, 1.88005865e+00,\n",
       "       6.34480059e-01, 4.73493755e-01, 3.38248104e-01, 4.91877139e-01,\n",
       "       9.38707829e-01, 1.52951062e+00, 1.21302223e+00, 9.46920991e-01,\n",
       "       9.51816440e-01, 2.19420934e+00, 2.31354684e-02, 1.54475701e+00,\n",
       "       1.05816150e+00, 3.09151381e-01, 4.37761061e-02, 2.12505847e-01,\n",
       "       8.86623263e-01, 1.02962232e+00, 1.37144768e+00, 2.31090093e+00,\n",
       "       5.29643953e-01, 1.45950377e+00, 1.61257148e+00, 7.14064538e-01,\n",
       "       2.94164562e+00, 1.08254766e+00, 4.65040088e-01, 1.63130229e-03,\n",
       "       1.47311020e+00, 2.78789729e-01, 7.09409773e-01, 1.01136398e+00,\n",
       "       5.59573397e-02, 1.92856789e+00, 1.62411380e+00, 7.92427659e-01,\n",
       "       5.86015999e-01, 1.32285345e+00, 2.51033115e+00, 3.15967894e+00,\n",
       "       3.30190687e-03, 1.17873037e-02, 2.15043887e-01, 7.37610683e-02,\n",
       "       1.56781173e+00, 5.36503457e-02, 1.50398636e+00, 0.00000000e+00,\n",
       "       5.58042191e-02, 2.18898863e-01, 7.02753842e-01, 1.80409288e+00,\n",
       "       8.72083843e-01, 1.03453195e+00, 7.21249655e-02, 1.60094428e+00,\n",
       "       7.99516082e-01, 5.65321243e-04, 2.45070577e-01, 2.10920882e+00,\n",
       "       2.88356274e-01, 4.62479033e-02, 1.39774278e-01, 5.77939581e-03,\n",
       "       6.75904572e-01, 4.96419430e-01, 1.23800492e+00, 1.24050617e+00,\n",
       "       3.11111435e-02, 8.16882372e-01, 1.04901278e+00, 4.36388522e-01,\n",
       "       1.31138563e+00, 2.16276392e-01, 7.75202215e-01, 1.89074799e-02,\n",
       "       2.47756553e+00, 4.24934626e+00, 5.06876945e-01, 2.70780420e+00,\n",
       "       1.79034686e+00, 1.13545585e+00, 1.31375778e+00, 7.20052980e-04,\n",
       "       6.97873890e-01, 1.89520919e+00, 1.75207877e+00, 1.62928343e-01,\n",
       "       1.06812644e+00, 7.08718300e-01, 2.98720062e-01, 5.54541528e-01,\n",
       "       2.07015896e+00, 1.37177497e-01, 5.19683063e-01, 2.29068041e+00,\n",
       "       2.83956766e+00, 1.45775580e+00, 1.58488870e+00, 4.78170067e-02,\n",
       "       1.88658498e-02, 9.03382778e-01, 5.41730464e-01, 4.88661975e-01,\n",
       "       9.00214612e-01, 6.64565623e-01, 1.38489515e-01, 8.74858201e-02,\n",
       "       2.40532130e-01, 1.64804697e+00, 1.67865291e-01, 7.27465823e-02,\n",
       "       1.29665941e-01, 1.15809016e-01, 2.52052975e+00, 3.86833325e-02,\n",
       "       8.73566985e-01, 5.30307591e-01, 2.91551620e-01, 6.66601062e-02,\n",
       "       2.87108272e-01, 3.71343573e-03, 2.19602394e+00, 1.79250598e+00,\n",
       "       2.27501512e-01, 2.05507040e+00, 2.65862882e-01, 1.44772261e-01,\n",
       "       1.37153909e-01, 7.31578588e-01, 4.35211539e-01, 2.48066926e+00,\n",
       "       1.04530835e+00, 1.00585616e+00, 4.38423276e-01, 2.33534947e-01,\n",
       "       2.86004734e+00, 3.31495810e+00, 1.63235462e+00, 5.64722419e-01,\n",
       "       4.94708449e-01, 4.03775841e-01, 3.34357381e+00, 3.42806689e-02,\n",
       "       3.07629645e-01, 1.15401423e+00, 3.18250155e+00, 2.16451406e-01,\n",
       "       9.57072556e-01, 2.28329730e+00, 1.85587454e+00, 7.28112996e-01,\n",
       "       2.51641202e+00, 5.37565410e-01, 5.02727628e-01, 6.98021531e-01,\n",
       "       2.27106020e-01, 2.42471755e-01, 4.84927371e-03, 1.92785352e-01,\n",
       "       1.10585153e+00, 2.62387067e-01, 1.47053099e-03, 1.63941577e-01])"
      ]
     },
     "execution_count": 61,
     "metadata": {},
     "output_type": "execute_result"
    }
   ],
   "source": [
    "centroids[0]"
   ]
  },
  {
   "cell_type": "code",
   "execution_count": 62,
   "metadata": {},
   "outputs": [
    {
     "data": {
      "text/plain": [
       "array([1.88019991e-01, 1.01383768e-01, 1.54381680e+00, 1.02060163e+00,\n",
       "       1.66345930e+00, 1.37034190e+00, 4.81865048e-01, 1.45332068e-01,\n",
       "       8.27054918e-01, 2.27075434e+00, 1.07909381e+00, 4.62022284e-03,\n",
       "       2.88115293e-01, 1.04051507e+00, 4.93949473e-01, 2.23455286e+00,\n",
       "       1.05074205e-01, 5.28526962e-01, 2.75046468e+00, 8.20112288e-01,\n",
       "       1.61017191e+00, 1.19561052e+00, 4.35849726e-01, 1.11862171e+00,\n",
       "       1.20951116e+00, 2.35809231e+00, 5.35940453e-02, 8.85688066e-01,\n",
       "       8.04521322e-01, 6.03747427e-01, 1.18713224e+00, 1.30302680e+00,\n",
       "       5.16832352e-01, 1.11219776e+00, 1.45975007e-02, 1.99848223e+00,\n",
       "       8.62378120e-01, 2.62561727e+00, 1.71176326e+00, 1.26976013e-01,\n",
       "       7.03272298e-02, 1.66013479e-01, 2.12769762e-01, 1.39520907e+00,\n",
       "       3.56271178e-01, 5.46328843e-01, 3.63257408e-01, 2.08888721e+00,\n",
       "       3.44671398e-01, 1.14522383e-01, 2.94859385e+00, 1.14201236e+00,\n",
       "       2.03973264e-01, 6.11518681e-01, 1.73842430e+00, 7.72295654e-01,\n",
       "       3.75697702e-01, 2.59269476e-01, 2.59154224e+00, 1.27379811e+00,\n",
       "       8.67484152e-01, 2.95737516e-02, 4.49810386e-01, 1.78549469e-01,\n",
       "       1.46102965e-01, 4.94497240e-01, 4.26343650e-01, 1.94094598e-01,\n",
       "       7.72383139e-02, 0.00000000e+00, 3.53064425e-02, 5.65861642e-01,\n",
       "       5.82798183e-01, 4.47302833e-02, 4.35668051e-01, 8.02416131e-02,\n",
       "       9.70965505e-01, 1.70058632e+00, 7.70130575e-01, 1.00077033e-01,\n",
       "       5.55227220e-01, 1.37101209e+00, 3.62242043e-01, 1.61745936e-01,\n",
       "       2.30416393e+00, 1.01440847e+00, 2.18771577e+00, 6.82043901e-05,\n",
       "       1.01902950e+00, 5.81235230e-01, 1.01636648e+00, 1.34420455e+00,\n",
       "       3.56999505e-03, 1.37727749e+00, 2.40558314e+00, 1.93964422e-01,\n",
       "       1.92110324e+00, 2.02225161e+00, 6.89655721e-01, 2.61196315e-01,\n",
       "       4.93897617e-01, 1.63675725e-01, 5.31595908e-02, 4.80538785e-01,\n",
       "       1.24310839e+00, 6.65551543e-01, 1.92872083e+00, 3.89926165e-01,\n",
       "       9.20585573e-01, 2.97979325e-01, 1.17144547e-02, 1.05836749e+00,\n",
       "       5.29455483e-01, 1.89005107e-01, 3.06044132e-01, 2.71818042e-02,\n",
       "       4.97564256e-01, 1.47640181e+00, 8.11377585e-01, 8.70148093e-02,\n",
       "       1.36217320e+00, 1.81499168e-01, 7.83847123e-02, 2.02360786e-02,\n",
       "       1.20994103e+00, 8.76329482e-01, 6.63628057e-02, 4.51034158e-01,\n",
       "       1.59961748e+00, 4.70233947e-01, 5.35569727e-01, 8.74094889e-02,\n",
       "       2.89121181e-01, 3.36428046e-01, 2.14229727e+00, 1.13135338e+00,\n",
       "       1.44248173e-01, 1.26469240e-01, 2.99149126e-01, 1.80863082e+00,\n",
       "       2.20495369e-02, 2.54430938e+00, 3.58076721e-01, 5.23414696e-04,\n",
       "       8.11784193e-02, 2.16544056e+00, 3.60844433e-01, 2.00712466e+00,\n",
       "       4.41469222e-01, 3.66144991e+00, 1.54317200e+00, 1.44447386e-01,\n",
       "       1.52421498e-03, 4.06401977e-03, 1.46369302e+00, 5.99810258e-02,\n",
       "       1.80626333e-01, 9.84529704e-02, 1.46142733e+00, 1.43042520e-01,\n",
       "       4.64227021e-01, 1.03522706e+00, 1.23847626e-01, 1.67700994e+00,\n",
       "       1.58599794e-01, 1.42735183e+00, 7.39737153e-01, 6.48802817e-02,\n",
       "       7.48129189e-01, 2.49980879e+00, 1.63134566e-04, 4.17686939e-01,\n",
       "       8.89202356e-01, 6.77190840e-01, 1.59426972e-01, 1.23598829e-01,\n",
       "       6.89068198e-01, 6.32716894e-01, 1.33325505e+00, 3.15800846e-01,\n",
       "       3.17853387e-03, 1.30029213e+00, 1.39891589e+00, 4.19244707e-01,\n",
       "       1.32291883e-01, 1.53032196e+00, 7.92207181e-01, 8.53064179e-01,\n",
       "       4.18804944e-01, 2.75676250e-02, 6.27974391e-01, 4.23868179e-01,\n",
       "       1.83419847e+00, 1.53975248e+00, 3.72050814e-02, 1.17172408e+00,\n",
       "       1.38356972e+00, 2.08369851e+00, 8.64423633e-01, 6.57734871e-01,\n",
       "       2.45121360e+00, 1.61820367e-01, 6.62567079e-01, 1.78816259e+00,\n",
       "       9.90625739e-01, 1.63042590e-01, 3.73727828e-01, 1.01301715e-01,\n",
       "       3.97114530e-02, 1.78842127e+00, 9.11188498e-03, 1.07110433e-01,\n",
       "       1.01139987e+00, 3.33002210e-01, 2.03679085e+00, 1.12857008e+00,\n",
       "       2.79723555e-01, 5.30840218e-01, 2.92883545e-01, 1.63414514e+00,\n",
       "       1.84028983e+00, 1.28609395e+00, 1.19728297e-01, 9.75422800e-01,\n",
       "       6.15916073e-01, 1.05121046e-01, 2.79352874e-01, 5.69046140e-02,\n",
       "       8.24013412e-01, 4.63849977e-02, 1.35801986e-01, 1.93183757e-02,\n",
       "       2.94623107e-01, 8.17963064e-01, 2.58023441e-01, 3.36577207e-01,\n",
       "       1.36859107e+00, 4.95167673e-01, 3.59997675e-02, 1.92474246e+00,\n",
       "       1.23935692e-01, 5.88108659e-01, 1.37497619e-01, 6.98152304e-01,\n",
       "       3.12501878e-01, 1.09177017e+00, 3.44388366e-01, 8.44242692e-01,\n",
       "       1.16849244e+00, 2.55742997e-01, 8.50575417e-02, 7.62096643e-02,\n",
       "       7.90065527e-01, 2.24102684e-03, 3.10947835e-01, 4.45456244e-02,\n",
       "       8.20618689e-01, 1.22275841e+00, 1.41193390e-01, 2.66427603e-02,\n",
       "       1.73728868e-01, 2.84823105e-02, 2.71223813e-01, 1.61812508e+00,\n",
       "       8.13832700e-01, 1.69698989e+00, 7.95832992e-01, 1.50783479e-01,\n",
       "       2.34699512e+00, 2.46804468e-02, 1.64429975e+00, 4.82383758e-01,\n",
       "       2.76361406e-01, 1.14570856e+00, 2.91341233e+00, 5.88312685e-01,\n",
       "       3.31811398e-01, 2.20310092e+00, 4.30824280e-01, 1.64176941e-01,\n",
       "       1.06857038e+00, 1.34773397e+00, 2.54696369e+00, 2.88846469e+00,\n",
       "       1.97802857e-01, 6.99332356e-01, 1.48292327e+00, 3.92753959e-01,\n",
       "       1.87008500e+00, 1.52956951e+00, 1.00863194e+00, 1.96557450e+00,\n",
       "       2.53797054e-01, 5.69766104e-01, 1.32972562e+00, 9.61946368e-01,\n",
       "       1.26299119e+00, 1.85360157e+00, 1.33238113e+00, 1.93052101e+00,\n",
       "       1.27937210e+00, 1.91484511e-01, 1.05959916e+00, 5.39712250e-01,\n",
       "       3.76265019e-01, 1.04018342e+00, 4.17797752e-02, 2.72907227e-01,\n",
       "       1.59036529e+00, 5.87794602e-01, 7.88973510e-01, 7.75483623e-02,\n",
       "       1.35536563e+00, 4.70750779e-01, 1.27755180e-01, 1.70178100e-01,\n",
       "       1.73931718e+00, 7.12598205e-01, 1.71961582e+00, 6.56665415e-02,\n",
       "       3.04441780e-01, 5.02941251e-01, 6.46746039e-01, 2.18457617e-02,\n",
       "       1.18928838e+00, 3.65329415e-01, 3.53035599e-01, 1.45725152e-02,\n",
       "       1.55491519e+00, 1.18409306e-01, 1.43859908e-01, 9.27769065e-01,\n",
       "       8.04992497e-01, 7.67756850e-02, 1.56685233e+00, 5.30857384e-01,\n",
       "       1.29221714e+00, 1.30538225e+00, 1.13160443e+00, 1.97683334e+00,\n",
       "       2.62858663e-02, 9.82028395e-02, 2.10929170e-01, 1.43090263e-01,\n",
       "       2.30938554e+00, 7.31964648e-01, 3.01734954e-01, 4.22169983e-01,\n",
       "       1.14408489e-02, 2.91749597e+00, 5.71995914e-01, 7.87069559e-01,\n",
       "       2.96075761e-01, 1.16211724e+00, 5.53566180e-02, 4.73386981e-02,\n",
       "       8.69062394e-02, 1.49090469e+00, 1.63515449e+00, 9.94302809e-01,\n",
       "       6.51432097e-01, 3.32324743e+00, 1.97097138e-01, 2.54379320e+00,\n",
       "       1.39057386e+00, 1.36369872e+00, 2.91144162e-01, 5.89937866e-01,\n",
       "       1.55582190e+00, 3.46246630e-01, 6.98352933e-01, 4.44147736e-01,\n",
       "       4.51498568e-01, 6.42446220e-01, 1.21855199e+00, 3.95903379e-01,\n",
       "       8.32394600e-01, 1.26625419e-01, 3.39524806e-01, 1.08728744e-01,\n",
       "       1.04888546e+00, 5.34912884e-01, 1.64785421e+00, 2.77901202e-01,\n",
       "       4.02757227e-01, 6.47919655e-01, 1.31594211e-01, 3.94570500e-01,\n",
       "       7.43043959e-01, 2.70807195e+00, 2.80436762e-02, 2.36835852e-01,\n",
       "       1.98252544e-01, 1.88465822e+00, 5.26023328e-01, 8.34660232e-01,\n",
       "       1.63635290e+00, 4.94504094e-01, 3.64400327e-01, 1.46145606e+00,\n",
       "       9.84006345e-01, 1.31850207e+00, 2.66392995e-02, 2.32823908e-01,\n",
       "       6.63907290e-01, 6.24415755e-01, 1.11541599e-01, 9.10226703e-01,\n",
       "       5.37213922e-01, 1.12849784e+00, 1.21879028e-02, 4.61250963e-03,\n",
       "       1.16138470e+00, 1.90420434e-01, 8.17772508e-01, 2.87358075e-01,\n",
       "       2.44915381e-01, 1.12742555e+00, 5.63940778e-02, 3.95848230e-02,\n",
       "       2.16412878e+00, 5.27822793e-01, 3.16480815e-01, 1.68573350e-01,\n",
       "       1.70840001e+00, 1.85930002e-02, 2.25223899e-02, 2.80143857e-01,\n",
       "       1.63429999e+00, 1.36196542e+00, 9.15452898e-01, 5.66438437e-01,\n",
       "       3.20108056e-01, 1.00358355e+00, 5.38145423e-01, 2.10361814e+00,\n",
       "       1.84283245e+00, 1.30906129e+00, 1.55798757e+00, 2.58555561e-01,\n",
       "       2.26160035e-01, 4.09842059e-02, 2.01752931e-01, 2.88788855e-01,\n",
       "       1.90332031e+00, 1.11625704e-03, 9.63698849e-02, 2.17971039e+00,\n",
       "       3.01956624e-01, 2.44109964e+00, 2.77753043e+00, 1.21921465e-01,\n",
       "       1.01865816e+00, 1.22331500e+00, 1.84824258e-01, 2.41888261e+00,\n",
       "       5.10634959e-01, 1.51587164e+00, 1.10038016e-02, 1.72043800e+00,\n",
       "       8.82351458e-01, 4.56906587e-01, 1.68550581e-01, 6.37700856e-01,\n",
       "       2.71694279e+00, 1.58438003e+00, 4.29636925e-01, 1.05569519e-01,\n",
       "       1.35060330e-03, 2.37450767e+00, 2.99538922e+00, 2.29652897e-01,\n",
       "       6.44433172e-03, 8.96585703e-01, 3.76855284e-02, 7.19180763e-01,\n",
       "       3.99177447e-02, 9.23328280e-01, 1.23944438e+00, 1.72345698e+00,\n",
       "       9.90755379e-01, 1.15094650e+00, 6.42902330e-02, 8.18473399e-01,\n",
       "       7.29642570e-01, 1.87902361e-01, 1.50683080e-03, 8.20337310e-02,\n",
       "       3.03683901e+00, 1.15114343e+00, 1.00985253e+00, 2.13602281e+00,\n",
       "       5.96917450e-01, 6.19704962e-01, 1.80739149e-01, 2.06039958e-02,\n",
       "       7.10814178e-01, 1.00554951e-01, 1.99651703e-01, 7.63257623e-01,\n",
       "       3.75308216e-01, 8.59100759e-01, 7.41863966e-01, 5.91083355e-02,\n",
       "       1.56416220e-03, 1.48588502e+00, 1.46274710e+00, 5.54758072e-01,\n",
       "       7.66371131e-01, 3.69885802e+00, 5.43710627e-02, 3.14859223e+00])"
      ]
     },
     "execution_count": 62,
     "metadata": {},
     "output_type": "execute_result"
    }
   ],
   "source": [
    "centroids[1]"
   ]
  },
  {
   "cell_type": "code",
   "execution_count": 63,
   "metadata": {},
   "outputs": [
    {
     "data": {
      "text/plain": [
       "(512,)"
      ]
     },
     "execution_count": 63,
     "metadata": {},
     "output_type": "execute_result"
    }
   ],
   "source": [
    "centroids[1].shape"
   ]
  },
  {
   "cell_type": "code",
   "execution_count": 64,
   "metadata": {},
   "outputs": [
    {
     "data": {
      "text/plain": [
       "dtype('float64')"
      ]
     },
     "execution_count": 64,
     "metadata": {},
     "output_type": "execute_result"
    }
   ],
   "source": [
    "centroids[1].dtype"
   ]
  },
  {
   "cell_type": "code",
   "execution_count": 65,
   "metadata": {},
   "outputs": [
    {
     "name": "stdout",
     "output_type": "stream",
     "text": [
      "Centroid saved to C:\\Users\\k54739\\Bibi_new_thesis\\thesis\\Source_Code\\Ranking(prediction)_model\\kmeans_ranking\\centercroped\\euclidean_centroid.pt\n"
     ]
    }
   ],
   "source": [
    "import torch\n",
    "\n",
    "# Convert the centroid to a PyTorch tensor\n",
    "euclidean_centroid = torch.tensor(centroids[1])\n",
    "\n",
    "# Define the specific path\n",
    "save_path_torch = r\"C:\\Users\\k54739\\Bibi_new_thesis\\thesis\\Source_Code\\Ranking(prediction)_model\\kmeans_ranking\\euclidean_centroid.pt\"\n",
    "\n",
    "# Save the centroid tensor\n",
    "torch.save(euclidean_centroid, save_path_torch)\n",
    "print(f\"Centroid saved to {save_path_torch}\")\n"
   ]
  },
  {
   "cell_type": "code",
   "execution_count": 68,
   "metadata": {},
   "outputs": [
    {
     "data": {
      "text/plain": [
       "tensor([True, True, True, True, True, True, True, True, True, True, True, True,\n",
       "        True, True, True, True, True, True, True, True, True, True, True, True,\n",
       "        True, True, True, True, True, True, True, True, True, True, True, True,\n",
       "        True, True, True, True, True, True, True, True, True, True, True, True,\n",
       "        True, True, True, True, True, True, True, True, True, True, True, True,\n",
       "        True, True, True, True, True, True, True, True, True, True, True, True,\n",
       "        True, True, True, True, True, True, True, True, True, True, True, True,\n",
       "        True, True, True, True, True, True, True, True, True, True, True, True,\n",
       "        True, True, True, True, True, True, True, True, True, True, True, True,\n",
       "        True, True, True, True, True, True, True, True, True, True, True, True,\n",
       "        True, True, True, True, True, True, True, True, True, True, True, True,\n",
       "        True, True, True, True, True, True, True, True, True, True, True, True,\n",
       "        True, True, True, True, True, True, True, True, True, True, True, True,\n",
       "        True, True, True, True, True, True, True, True, True, True, True, True,\n",
       "        True, True, True, True, True, True, True, True, True, True, True, True,\n",
       "        True, True, True, True, True, True, True, True, True, True, True, True,\n",
       "        True, True, True, True, True, True, True, True, True, True, True, True,\n",
       "        True, True, True, True, True, True, True, True, True, True, True, True,\n",
       "        True, True, True, True, True, True, True, True, True, True, True, True,\n",
       "        True, True, True, True, True, True, True, True, True, True, True, True,\n",
       "        True, True, True, True, True, True, True, True, True, True, True, True,\n",
       "        True, True, True, True, True, True, True, True, True, True, True, True,\n",
       "        True, True, True, True, True, True, True, True, True, True, True, True,\n",
       "        True, True, True, True, True, True, True, True, True, True, True, True,\n",
       "        True, True, True, True, True, True, True, True, True, True, True, True,\n",
       "        True, True, True, True, True, True, True, True, True, True, True, True,\n",
       "        True, True, True, True, True, True, True, True, True, True, True, True,\n",
       "        True, True, True, True, True, True, True, True, True, True, True, True,\n",
       "        True, True, True, True, True, True, True, True, True, True, True, True,\n",
       "        True, True, True, True, True, True, True, True, True, True, True, True,\n",
       "        True, True, True, True, True, True, True, True, True, True, True, True,\n",
       "        True, True, True, True, True, True, True, True, True, True, True, True,\n",
       "        True, True, True, True, True, True, True, True, True, True, True, True,\n",
       "        True, True, True, True, True, True, True, True, True, True, True, True,\n",
       "        True, True, True, True, True, True, True, True, True, True, True, True,\n",
       "        True, True, True, True, True, True, True, True, True, True, True, True,\n",
       "        True, True, True, True, True, True, True, True, True, True, True, True,\n",
       "        True, True, True, True, True, True, True, True, True, True, True, True,\n",
       "        True, True, True, True, True, True, True, True, True, True, True, True,\n",
       "        True, True, True, True, True, True, True, True, True, True, True, True,\n",
       "        True, True, True, True, True, True, True, True, True, True, True, True,\n",
       "        True, True, True, True, True, True, True, True, True, True, True, True,\n",
       "        True, True, True, True, True, True, True, True])"
      ]
     },
     "execution_count": 68,
     "metadata": {},
     "output_type": "execute_result"
    }
   ],
   "source": [
    "loaded_euclidean_centroid_cc == loaded_euclidean_centroid"
   ]
  },
  {
   "cell_type": "code",
   "execution_count": 67,
   "metadata": {},
   "outputs": [
    {
     "name": "stdout",
     "output_type": "stream",
     "text": [
      "Loaded Centroid Tensor: tensor([1.8802e-01, 1.0138e-01, 1.5438e+00, 1.0206e+00, 1.6635e+00, 1.3703e+00,\n",
      "        4.8187e-01, 1.4533e-01, 8.2705e-01, 2.2708e+00, 1.0791e+00, 4.6202e-03,\n",
      "        2.8812e-01, 1.0405e+00, 4.9395e-01, 2.2346e+00, 1.0507e-01, 5.2853e-01,\n",
      "        2.7505e+00, 8.2011e-01, 1.6102e+00, 1.1956e+00, 4.3585e-01, 1.1186e+00,\n",
      "        1.2095e+00, 2.3581e+00, 5.3594e-02, 8.8569e-01, 8.0452e-01, 6.0375e-01,\n",
      "        1.1871e+00, 1.3030e+00, 5.1683e-01, 1.1122e+00, 1.4598e-02, 1.9985e+00,\n",
      "        8.6238e-01, 2.6256e+00, 1.7118e+00, 1.2698e-01, 7.0327e-02, 1.6601e-01,\n",
      "        2.1277e-01, 1.3952e+00, 3.5627e-01, 5.4633e-01, 3.6326e-01, 2.0889e+00,\n",
      "        3.4467e-01, 1.1452e-01, 2.9486e+00, 1.1420e+00, 2.0397e-01, 6.1152e-01,\n",
      "        1.7384e+00, 7.7230e-01, 3.7570e-01, 2.5927e-01, 2.5915e+00, 1.2738e+00,\n",
      "        8.6748e-01, 2.9574e-02, 4.4981e-01, 1.7855e-01, 1.4610e-01, 4.9450e-01,\n",
      "        4.2634e-01, 1.9409e-01, 7.7238e-02, 0.0000e+00, 3.5306e-02, 5.6586e-01,\n",
      "        5.8280e-01, 4.4730e-02, 4.3567e-01, 8.0242e-02, 9.7097e-01, 1.7006e+00,\n",
      "        7.7013e-01, 1.0008e-01, 5.5523e-01, 1.3710e+00, 3.6224e-01, 1.6175e-01,\n",
      "        2.3042e+00, 1.0144e+00, 2.1877e+00, 6.8204e-05, 1.0190e+00, 5.8124e-01,\n",
      "        1.0164e+00, 1.3442e+00, 3.5700e-03, 1.3773e+00, 2.4056e+00, 1.9396e-01,\n",
      "        1.9211e+00, 2.0223e+00, 6.8966e-01, 2.6120e-01, 4.9390e-01, 1.6368e-01,\n",
      "        5.3160e-02, 4.8054e-01, 1.2431e+00, 6.6555e-01, 1.9287e+00, 3.8993e-01,\n",
      "        9.2059e-01, 2.9798e-01, 1.1714e-02, 1.0584e+00, 5.2946e-01, 1.8901e-01,\n",
      "        3.0604e-01, 2.7182e-02, 4.9756e-01, 1.4764e+00, 8.1138e-01, 8.7015e-02,\n",
      "        1.3622e+00, 1.8150e-01, 7.8385e-02, 2.0236e-02, 1.2099e+00, 8.7633e-01,\n",
      "        6.6363e-02, 4.5103e-01, 1.5996e+00, 4.7023e-01, 5.3557e-01, 8.7409e-02,\n",
      "        2.8912e-01, 3.3643e-01, 2.1423e+00, 1.1314e+00, 1.4425e-01, 1.2647e-01,\n",
      "        2.9915e-01, 1.8086e+00, 2.2050e-02, 2.5443e+00, 3.5808e-01, 5.2341e-04,\n",
      "        8.1178e-02, 2.1654e+00, 3.6084e-01, 2.0071e+00, 4.4147e-01, 3.6614e+00,\n",
      "        1.5432e+00, 1.4445e-01, 1.5242e-03, 4.0640e-03, 1.4637e+00, 5.9981e-02,\n",
      "        1.8063e-01, 9.8453e-02, 1.4614e+00, 1.4304e-01, 4.6423e-01, 1.0352e+00,\n",
      "        1.2385e-01, 1.6770e+00, 1.5860e-01, 1.4274e+00, 7.3974e-01, 6.4880e-02,\n",
      "        7.4813e-01, 2.4998e+00, 1.6313e-04, 4.1769e-01, 8.8920e-01, 6.7719e-01,\n",
      "        1.5943e-01, 1.2360e-01, 6.8907e-01, 6.3272e-01, 1.3333e+00, 3.1580e-01,\n",
      "        3.1785e-03, 1.3003e+00, 1.3989e+00, 4.1924e-01, 1.3229e-01, 1.5303e+00,\n",
      "        7.9221e-01, 8.5306e-01, 4.1880e-01, 2.7568e-02, 6.2797e-01, 4.2387e-01,\n",
      "        1.8342e+00, 1.5398e+00, 3.7205e-02, 1.1717e+00, 1.3836e+00, 2.0837e+00,\n",
      "        8.6442e-01, 6.5773e-01, 2.4512e+00, 1.6182e-01, 6.6257e-01, 1.7882e+00,\n",
      "        9.9063e-01, 1.6304e-01, 3.7373e-01, 1.0130e-01, 3.9711e-02, 1.7884e+00,\n",
      "        9.1119e-03, 1.0711e-01, 1.0114e+00, 3.3300e-01, 2.0368e+00, 1.1286e+00,\n",
      "        2.7972e-01, 5.3084e-01, 2.9288e-01, 1.6341e+00, 1.8403e+00, 1.2861e+00,\n",
      "        1.1973e-01, 9.7542e-01, 6.1592e-01, 1.0512e-01, 2.7935e-01, 5.6905e-02,\n",
      "        8.2401e-01, 4.6385e-02, 1.3580e-01, 1.9318e-02, 2.9462e-01, 8.1796e-01,\n",
      "        2.5802e-01, 3.3658e-01, 1.3686e+00, 4.9517e-01, 3.6000e-02, 1.9247e+00,\n",
      "        1.2394e-01, 5.8811e-01, 1.3750e-01, 6.9815e-01, 3.1250e-01, 1.0918e+00,\n",
      "        3.4439e-01, 8.4424e-01, 1.1685e+00, 2.5574e-01, 8.5058e-02, 7.6210e-02,\n",
      "        7.9007e-01, 2.2410e-03, 3.1095e-01, 4.4546e-02, 8.2062e-01, 1.2228e+00,\n",
      "        1.4119e-01, 2.6643e-02, 1.7373e-01, 2.8482e-02, 2.7122e-01, 1.6181e+00,\n",
      "        8.1383e-01, 1.6970e+00, 7.9583e-01, 1.5078e-01, 2.3470e+00, 2.4680e-02,\n",
      "        1.6443e+00, 4.8238e-01, 2.7636e-01, 1.1457e+00, 2.9134e+00, 5.8831e-01,\n",
      "        3.3181e-01, 2.2031e+00, 4.3082e-01, 1.6418e-01, 1.0686e+00, 1.3477e+00,\n",
      "        2.5470e+00, 2.8885e+00, 1.9780e-01, 6.9933e-01, 1.4829e+00, 3.9275e-01,\n",
      "        1.8701e+00, 1.5296e+00, 1.0086e+00, 1.9656e+00, 2.5380e-01, 5.6977e-01,\n",
      "        1.3297e+00, 9.6195e-01, 1.2630e+00, 1.8536e+00, 1.3324e+00, 1.9305e+00,\n",
      "        1.2794e+00, 1.9148e-01, 1.0596e+00, 5.3971e-01, 3.7627e-01, 1.0402e+00,\n",
      "        4.1780e-02, 2.7291e-01, 1.5904e+00, 5.8779e-01, 7.8897e-01, 7.7548e-02,\n",
      "        1.3554e+00, 4.7075e-01, 1.2776e-01, 1.7018e-01, 1.7393e+00, 7.1260e-01,\n",
      "        1.7196e+00, 6.5667e-02, 3.0444e-01, 5.0294e-01, 6.4675e-01, 2.1846e-02,\n",
      "        1.1893e+00, 3.6533e-01, 3.5304e-01, 1.4573e-02, 1.5549e+00, 1.1841e-01,\n",
      "        1.4386e-01, 9.2777e-01, 8.0499e-01, 7.6776e-02, 1.5669e+00, 5.3086e-01,\n",
      "        1.2922e+00, 1.3054e+00, 1.1316e+00, 1.9768e+00, 2.6286e-02, 9.8203e-02,\n",
      "        2.1093e-01, 1.4309e-01, 2.3094e+00, 7.3196e-01, 3.0173e-01, 4.2217e-01,\n",
      "        1.1441e-02, 2.9175e+00, 5.7200e-01, 7.8707e-01, 2.9608e-01, 1.1621e+00,\n",
      "        5.5357e-02, 4.7339e-02, 8.6906e-02, 1.4909e+00, 1.6352e+00, 9.9430e-01,\n",
      "        6.5143e-01, 3.3232e+00, 1.9710e-01, 2.5438e+00, 1.3906e+00, 1.3637e+00,\n",
      "        2.9114e-01, 5.8994e-01, 1.5558e+00, 3.4625e-01, 6.9835e-01, 4.4415e-01,\n",
      "        4.5150e-01, 6.4245e-01, 1.2186e+00, 3.9590e-01, 8.3239e-01, 1.2663e-01,\n",
      "        3.3952e-01, 1.0873e-01, 1.0489e+00, 5.3491e-01, 1.6479e+00, 2.7790e-01,\n",
      "        4.0276e-01, 6.4792e-01, 1.3159e-01, 3.9457e-01, 7.4304e-01, 2.7081e+00,\n",
      "        2.8044e-02, 2.3684e-01, 1.9825e-01, 1.8847e+00, 5.2602e-01, 8.3466e-01,\n",
      "        1.6364e+00, 4.9450e-01, 3.6440e-01, 1.4615e+00, 9.8401e-01, 1.3185e+00,\n",
      "        2.6639e-02, 2.3282e-01, 6.6391e-01, 6.2442e-01, 1.1154e-01, 9.1023e-01,\n",
      "        5.3721e-01, 1.1285e+00, 1.2188e-02, 4.6125e-03, 1.1614e+00, 1.9042e-01,\n",
      "        8.1777e-01, 2.8736e-01, 2.4492e-01, 1.1274e+00, 5.6394e-02, 3.9585e-02,\n",
      "        2.1641e+00, 5.2782e-01, 3.1648e-01, 1.6857e-01, 1.7084e+00, 1.8593e-02,\n",
      "        2.2522e-02, 2.8014e-01, 1.6343e+00, 1.3620e+00, 9.1545e-01, 5.6644e-01,\n",
      "        3.2011e-01, 1.0036e+00, 5.3815e-01, 2.1036e+00, 1.8428e+00, 1.3091e+00,\n",
      "        1.5580e+00, 2.5856e-01, 2.2616e-01, 4.0984e-02, 2.0175e-01, 2.8879e-01,\n",
      "        1.9033e+00, 1.1163e-03, 9.6370e-02, 2.1797e+00, 3.0196e-01, 2.4411e+00,\n",
      "        2.7775e+00, 1.2192e-01, 1.0187e+00, 1.2233e+00, 1.8482e-01, 2.4189e+00,\n",
      "        5.1063e-01, 1.5159e+00, 1.1004e-02, 1.7204e+00, 8.8235e-01, 4.5691e-01,\n",
      "        1.6855e-01, 6.3770e-01, 2.7169e+00, 1.5844e+00, 4.2964e-01, 1.0557e-01,\n",
      "        1.3506e-03, 2.3745e+00, 2.9954e+00, 2.2965e-01, 6.4443e-03, 8.9659e-01,\n",
      "        3.7686e-02, 7.1918e-01, 3.9918e-02, 9.2333e-01, 1.2394e+00, 1.7235e+00,\n",
      "        9.9076e-01, 1.1509e+00, 6.4290e-02, 8.1847e-01, 7.2964e-01, 1.8790e-01,\n",
      "        1.5068e-03, 8.2034e-02, 3.0368e+00, 1.1511e+00, 1.0099e+00, 2.1360e+00,\n",
      "        5.9692e-01, 6.1970e-01, 1.8074e-01, 2.0604e-02, 7.1081e-01, 1.0055e-01,\n",
      "        1.9965e-01, 7.6326e-01, 3.7531e-01, 8.5910e-01, 7.4186e-01, 5.9108e-02,\n",
      "        1.5642e-03, 1.4859e+00, 1.4627e+00, 5.5476e-01, 7.6637e-01, 3.6989e+00,\n",
      "        5.4371e-02, 3.1486e+00], dtype=torch.float64)\n",
      "Shape: torch.Size([512]), Dtype: torch.float64\n"
     ]
    },
    {
     "name": "stderr",
     "output_type": "stream",
     "text": [
      "C:\\Users\\k54739\\AppData\\Local\\Temp\\ipykernel_25944\\197256420.py:3: FutureWarning: You are using `torch.load` with `weights_only=False` (the current default value), which uses the default pickle module implicitly. It is possible to construct malicious pickle data which will execute arbitrary code during unpickling (See https://github.com/pytorch/pytorch/blob/main/SECURITY.md#untrusted-models for more details). In a future release, the default value for `weights_only` will be flipped to `True`. This limits the functions that could be executed during unpickling. Arbitrary objects will no longer be allowed to be loaded via this mode unless they are explicitly allowlisted by the user via `torch.serialization.add_safe_globals`. We recommend you start setting `weights_only=True` for any use case where you don't have full control of the loaded file. Please open an issue on GitHub for any issues related to this experimental feature.\n",
      "  loaded_euclidean_centroid_cc = torch.load(path_torch)\n"
     ]
    }
   ],
   "source": [
    "path_torch = r\"C:\\Users\\k54739\\Bibi_new_thesis\\thesis\\Source_Code\\Ranking(prediction)_model\\kmeans_ranking\\euclidean_centroid.pt\"\n",
    "# Load the centroid tensor\n",
    "loaded_euclidean_centroid_cc = torch.load(path_torch)\n",
    "print(f\"Loaded Centroid Tensor: {loaded_euclidean_centroid_cc}\")\n",
    "print(f\"Shape: {loaded_euclidean_centroid_cc.shape}, Dtype: {loaded_euclidean_centroid_cc.dtype}\")\n"
   ]
  },
  {
   "cell_type": "code",
   "execution_count": 66,
   "metadata": {},
   "outputs": [
    {
     "name": "stdout",
     "output_type": "stream",
     "text": [
      "Loaded Centroid Tensor: tensor([1.8802e-01, 1.0138e-01, 1.5438e+00, 1.0206e+00, 1.6635e+00, 1.3703e+00,\n",
      "        4.8187e-01, 1.4533e-01, 8.2705e-01, 2.2708e+00, 1.0791e+00, 4.6202e-03,\n",
      "        2.8812e-01, 1.0405e+00, 4.9395e-01, 2.2346e+00, 1.0507e-01, 5.2853e-01,\n",
      "        2.7505e+00, 8.2011e-01, 1.6102e+00, 1.1956e+00, 4.3585e-01, 1.1186e+00,\n",
      "        1.2095e+00, 2.3581e+00, 5.3594e-02, 8.8569e-01, 8.0452e-01, 6.0375e-01,\n",
      "        1.1871e+00, 1.3030e+00, 5.1683e-01, 1.1122e+00, 1.4598e-02, 1.9985e+00,\n",
      "        8.6238e-01, 2.6256e+00, 1.7118e+00, 1.2698e-01, 7.0327e-02, 1.6601e-01,\n",
      "        2.1277e-01, 1.3952e+00, 3.5627e-01, 5.4633e-01, 3.6326e-01, 2.0889e+00,\n",
      "        3.4467e-01, 1.1452e-01, 2.9486e+00, 1.1420e+00, 2.0397e-01, 6.1152e-01,\n",
      "        1.7384e+00, 7.7230e-01, 3.7570e-01, 2.5927e-01, 2.5915e+00, 1.2738e+00,\n",
      "        8.6748e-01, 2.9574e-02, 4.4981e-01, 1.7855e-01, 1.4610e-01, 4.9450e-01,\n",
      "        4.2634e-01, 1.9409e-01, 7.7238e-02, 0.0000e+00, 3.5306e-02, 5.6586e-01,\n",
      "        5.8280e-01, 4.4730e-02, 4.3567e-01, 8.0242e-02, 9.7097e-01, 1.7006e+00,\n",
      "        7.7013e-01, 1.0008e-01, 5.5523e-01, 1.3710e+00, 3.6224e-01, 1.6175e-01,\n",
      "        2.3042e+00, 1.0144e+00, 2.1877e+00, 6.8204e-05, 1.0190e+00, 5.8124e-01,\n",
      "        1.0164e+00, 1.3442e+00, 3.5700e-03, 1.3773e+00, 2.4056e+00, 1.9396e-01,\n",
      "        1.9211e+00, 2.0223e+00, 6.8966e-01, 2.6120e-01, 4.9390e-01, 1.6368e-01,\n",
      "        5.3160e-02, 4.8054e-01, 1.2431e+00, 6.6555e-01, 1.9287e+00, 3.8993e-01,\n",
      "        9.2059e-01, 2.9798e-01, 1.1714e-02, 1.0584e+00, 5.2946e-01, 1.8901e-01,\n",
      "        3.0604e-01, 2.7182e-02, 4.9756e-01, 1.4764e+00, 8.1138e-01, 8.7015e-02,\n",
      "        1.3622e+00, 1.8150e-01, 7.8385e-02, 2.0236e-02, 1.2099e+00, 8.7633e-01,\n",
      "        6.6363e-02, 4.5103e-01, 1.5996e+00, 4.7023e-01, 5.3557e-01, 8.7409e-02,\n",
      "        2.8912e-01, 3.3643e-01, 2.1423e+00, 1.1314e+00, 1.4425e-01, 1.2647e-01,\n",
      "        2.9915e-01, 1.8086e+00, 2.2050e-02, 2.5443e+00, 3.5808e-01, 5.2341e-04,\n",
      "        8.1178e-02, 2.1654e+00, 3.6084e-01, 2.0071e+00, 4.4147e-01, 3.6614e+00,\n",
      "        1.5432e+00, 1.4445e-01, 1.5242e-03, 4.0640e-03, 1.4637e+00, 5.9981e-02,\n",
      "        1.8063e-01, 9.8453e-02, 1.4614e+00, 1.4304e-01, 4.6423e-01, 1.0352e+00,\n",
      "        1.2385e-01, 1.6770e+00, 1.5860e-01, 1.4274e+00, 7.3974e-01, 6.4880e-02,\n",
      "        7.4813e-01, 2.4998e+00, 1.6313e-04, 4.1769e-01, 8.8920e-01, 6.7719e-01,\n",
      "        1.5943e-01, 1.2360e-01, 6.8907e-01, 6.3272e-01, 1.3333e+00, 3.1580e-01,\n",
      "        3.1785e-03, 1.3003e+00, 1.3989e+00, 4.1924e-01, 1.3229e-01, 1.5303e+00,\n",
      "        7.9221e-01, 8.5306e-01, 4.1880e-01, 2.7568e-02, 6.2797e-01, 4.2387e-01,\n",
      "        1.8342e+00, 1.5398e+00, 3.7205e-02, 1.1717e+00, 1.3836e+00, 2.0837e+00,\n",
      "        8.6442e-01, 6.5773e-01, 2.4512e+00, 1.6182e-01, 6.6257e-01, 1.7882e+00,\n",
      "        9.9063e-01, 1.6304e-01, 3.7373e-01, 1.0130e-01, 3.9711e-02, 1.7884e+00,\n",
      "        9.1119e-03, 1.0711e-01, 1.0114e+00, 3.3300e-01, 2.0368e+00, 1.1286e+00,\n",
      "        2.7972e-01, 5.3084e-01, 2.9288e-01, 1.6341e+00, 1.8403e+00, 1.2861e+00,\n",
      "        1.1973e-01, 9.7542e-01, 6.1592e-01, 1.0512e-01, 2.7935e-01, 5.6905e-02,\n",
      "        8.2401e-01, 4.6385e-02, 1.3580e-01, 1.9318e-02, 2.9462e-01, 8.1796e-01,\n",
      "        2.5802e-01, 3.3658e-01, 1.3686e+00, 4.9517e-01, 3.6000e-02, 1.9247e+00,\n",
      "        1.2394e-01, 5.8811e-01, 1.3750e-01, 6.9815e-01, 3.1250e-01, 1.0918e+00,\n",
      "        3.4439e-01, 8.4424e-01, 1.1685e+00, 2.5574e-01, 8.5058e-02, 7.6210e-02,\n",
      "        7.9007e-01, 2.2410e-03, 3.1095e-01, 4.4546e-02, 8.2062e-01, 1.2228e+00,\n",
      "        1.4119e-01, 2.6643e-02, 1.7373e-01, 2.8482e-02, 2.7122e-01, 1.6181e+00,\n",
      "        8.1383e-01, 1.6970e+00, 7.9583e-01, 1.5078e-01, 2.3470e+00, 2.4680e-02,\n",
      "        1.6443e+00, 4.8238e-01, 2.7636e-01, 1.1457e+00, 2.9134e+00, 5.8831e-01,\n",
      "        3.3181e-01, 2.2031e+00, 4.3082e-01, 1.6418e-01, 1.0686e+00, 1.3477e+00,\n",
      "        2.5470e+00, 2.8885e+00, 1.9780e-01, 6.9933e-01, 1.4829e+00, 3.9275e-01,\n",
      "        1.8701e+00, 1.5296e+00, 1.0086e+00, 1.9656e+00, 2.5380e-01, 5.6977e-01,\n",
      "        1.3297e+00, 9.6195e-01, 1.2630e+00, 1.8536e+00, 1.3324e+00, 1.9305e+00,\n",
      "        1.2794e+00, 1.9148e-01, 1.0596e+00, 5.3971e-01, 3.7627e-01, 1.0402e+00,\n",
      "        4.1780e-02, 2.7291e-01, 1.5904e+00, 5.8779e-01, 7.8897e-01, 7.7548e-02,\n",
      "        1.3554e+00, 4.7075e-01, 1.2776e-01, 1.7018e-01, 1.7393e+00, 7.1260e-01,\n",
      "        1.7196e+00, 6.5667e-02, 3.0444e-01, 5.0294e-01, 6.4675e-01, 2.1846e-02,\n",
      "        1.1893e+00, 3.6533e-01, 3.5304e-01, 1.4573e-02, 1.5549e+00, 1.1841e-01,\n",
      "        1.4386e-01, 9.2777e-01, 8.0499e-01, 7.6776e-02, 1.5669e+00, 5.3086e-01,\n",
      "        1.2922e+00, 1.3054e+00, 1.1316e+00, 1.9768e+00, 2.6286e-02, 9.8203e-02,\n",
      "        2.1093e-01, 1.4309e-01, 2.3094e+00, 7.3196e-01, 3.0173e-01, 4.2217e-01,\n",
      "        1.1441e-02, 2.9175e+00, 5.7200e-01, 7.8707e-01, 2.9608e-01, 1.1621e+00,\n",
      "        5.5357e-02, 4.7339e-02, 8.6906e-02, 1.4909e+00, 1.6352e+00, 9.9430e-01,\n",
      "        6.5143e-01, 3.3232e+00, 1.9710e-01, 2.5438e+00, 1.3906e+00, 1.3637e+00,\n",
      "        2.9114e-01, 5.8994e-01, 1.5558e+00, 3.4625e-01, 6.9835e-01, 4.4415e-01,\n",
      "        4.5150e-01, 6.4245e-01, 1.2186e+00, 3.9590e-01, 8.3239e-01, 1.2663e-01,\n",
      "        3.3952e-01, 1.0873e-01, 1.0489e+00, 5.3491e-01, 1.6479e+00, 2.7790e-01,\n",
      "        4.0276e-01, 6.4792e-01, 1.3159e-01, 3.9457e-01, 7.4304e-01, 2.7081e+00,\n",
      "        2.8044e-02, 2.3684e-01, 1.9825e-01, 1.8847e+00, 5.2602e-01, 8.3466e-01,\n",
      "        1.6364e+00, 4.9450e-01, 3.6440e-01, 1.4615e+00, 9.8401e-01, 1.3185e+00,\n",
      "        2.6639e-02, 2.3282e-01, 6.6391e-01, 6.2442e-01, 1.1154e-01, 9.1023e-01,\n",
      "        5.3721e-01, 1.1285e+00, 1.2188e-02, 4.6125e-03, 1.1614e+00, 1.9042e-01,\n",
      "        8.1777e-01, 2.8736e-01, 2.4492e-01, 1.1274e+00, 5.6394e-02, 3.9585e-02,\n",
      "        2.1641e+00, 5.2782e-01, 3.1648e-01, 1.6857e-01, 1.7084e+00, 1.8593e-02,\n",
      "        2.2522e-02, 2.8014e-01, 1.6343e+00, 1.3620e+00, 9.1545e-01, 5.6644e-01,\n",
      "        3.2011e-01, 1.0036e+00, 5.3815e-01, 2.1036e+00, 1.8428e+00, 1.3091e+00,\n",
      "        1.5580e+00, 2.5856e-01, 2.2616e-01, 4.0984e-02, 2.0175e-01, 2.8879e-01,\n",
      "        1.9033e+00, 1.1163e-03, 9.6370e-02, 2.1797e+00, 3.0196e-01, 2.4411e+00,\n",
      "        2.7775e+00, 1.2192e-01, 1.0187e+00, 1.2233e+00, 1.8482e-01, 2.4189e+00,\n",
      "        5.1063e-01, 1.5159e+00, 1.1004e-02, 1.7204e+00, 8.8235e-01, 4.5691e-01,\n",
      "        1.6855e-01, 6.3770e-01, 2.7169e+00, 1.5844e+00, 4.2964e-01, 1.0557e-01,\n",
      "        1.3506e-03, 2.3745e+00, 2.9954e+00, 2.2965e-01, 6.4443e-03, 8.9659e-01,\n",
      "        3.7686e-02, 7.1918e-01, 3.9918e-02, 9.2333e-01, 1.2394e+00, 1.7235e+00,\n",
      "        9.9076e-01, 1.1509e+00, 6.4290e-02, 8.1847e-01, 7.2964e-01, 1.8790e-01,\n",
      "        1.5068e-03, 8.2034e-02, 3.0368e+00, 1.1511e+00, 1.0099e+00, 2.1360e+00,\n",
      "        5.9692e-01, 6.1970e-01, 1.8074e-01, 2.0604e-02, 7.1081e-01, 1.0055e-01,\n",
      "        1.9965e-01, 7.6326e-01, 3.7531e-01, 8.5910e-01, 7.4186e-01, 5.9108e-02,\n",
      "        1.5642e-03, 1.4859e+00, 1.4627e+00, 5.5476e-01, 7.6637e-01, 3.6989e+00,\n",
      "        5.4371e-02, 3.1486e+00], dtype=torch.float64)\n",
      "Shape: torch.Size([512]), Dtype: torch.float64\n"
     ]
    },
    {
     "name": "stderr",
     "output_type": "stream",
     "text": [
      "C:\\Users\\k54739\\AppData\\Local\\Temp\\ipykernel_25944\\2537527785.py:2: FutureWarning: You are using `torch.load` with `weights_only=False` (the current default value), which uses the default pickle module implicitly. It is possible to construct malicious pickle data which will execute arbitrary code during unpickling (See https://github.com/pytorch/pytorch/blob/main/SECURITY.md#untrusted-models for more details). In a future release, the default value for `weights_only` will be flipped to `True`. This limits the functions that could be executed during unpickling. Arbitrary objects will no longer be allowed to be loaded via this mode unless they are explicitly allowlisted by the user via `torch.serialization.add_safe_globals`. We recommend you start setting `weights_only=True` for any use case where you don't have full control of the loaded file. Please open an issue on GitHub for any issues related to this experimental feature.\n",
      "  loaded_euclidean_centroid = torch.load(save_path_torch)\n"
     ]
    }
   ],
   "source": [
    "# Load the centroid tensor\n",
    "loaded_euclidean_centroid = torch.load(save_path_torch)\n",
    "print(f\"Loaded Centroid Tensor: {loaded_euclidean_centroid}\")\n",
    "print(f\"Shape: {loaded_euclidean_centroid.shape}, Dtype: {loaded_euclidean_centroid.dtype}\")\n"
   ]
  },
  {
   "cell_type": "markdown",
   "metadata": {},
   "source": [
    "untreated_centroids.shape"
   ]
  },
  {
   "cell_type": "markdown",
   "metadata": {},
   "source": [
    "untreated_centroids"
   ]
  },
  {
   "cell_type": "markdown",
   "metadata": {},
   "source": [
    "centroids[0]"
   ]
  },
  {
   "cell_type": "markdown",
   "metadata": {},
   "source": [
    "centroids[1]"
   ]
  },
  {
   "cell_type": "markdown",
   "metadata": {},
   "source": [
    "K = 2                          # Step 2: Set number of clusters\n",
    "initial_centroids = kMeans_init_centroids(feats_np, K)  # Step 3: Initialize centroids \n",
    "max_iters = 50                # Step 4: Number of iterations\n",
    "\n",
    "best_centroids, best_idx, centroids, idx = run_kMeans(feats_np, initial_centroids, max_iters)  # Step 5: Run K-Means\n",
    "print(\"Final centroids:\", best_centroids)  # Output the final centroids"
   ]
  },
  {
   "cell_type": "code",
   "execution_count": 15,
   "metadata": {},
   "outputs": [
    {
     "name": "stdout",
     "output_type": "stream",
     "text": [
      "Cluster assignments: [0 1 1 0 1 1 0 0 1 1 1 0 1 1 1 0 1 1 1 0 0 1 1 0 1 1 1 0 1 1 0 0 0 1 1 0 1\n",
      " 1 1 1 0 0 1 1 0 0 1 0 0 1 1 0 0 0 0 1 1 1 0 0 1 1 1 1 1 0 1 1 1 0 0 0 0 0\n",
      " 0 0 1 0 1 0 0 0 1 1 1 0 0 1 0 0 0 0 1 1 0 0 0 0 0 1 0 1 0 1 1 1 0 0 0 0 0\n",
      " 1 1 1 1 0 0 0 0 1 0 1 1 1 1 1 1 1 0 0 0 0 0 0 0 1 0 1 0 0 0 1 0 0 1 1 1 1\n",
      " 0 0 1 1 1 0 1 0 0 0 1 0 1 1 0 1 1 1 1 1 1 1 0 0 1 1 0 1 1 0 1 1 0 1 0 1 0\n",
      " 0 0 1 0 1 1 1 1 0 0 1 1 1 0 1 0 0 1 0 1 1 0 1 0 1 0 0 1 1 1 1 1 1 1 1 1 1\n",
      " 0]\n",
      "True labels: [1 0 0 1 0 0 1 1 0 0 0 1 0 0 0 1 0 0 0 1 1 0 0 1 0 0 0 1 0 0 1 1 1 0 0 1 0\n",
      " 0 0 0 1 1 0 0 1 1 0 1 1 0 0 1 1 1 1 0 0 0 1 1 0 0 0 0 0 1 0 0 0 1 1 1 1 1\n",
      " 1 1 0 1 0 1 1 1 0 0 0 1 1 0 1 1 1 1 0 0 1 1 1 1 1 0 1 0 1 0 0 0 1 1 1 1 1\n",
      " 0 0 0 0 1 1 1 1 0 1 0 0 0 0 0 0 0 1 1 1 1 1 1 1 0 1 0 1 1 1 0 1 1 0 0 0 0\n",
      " 1 1 0 0 0 1 0 1 1 1 0 1 0 0 1 0 0 0 0 0 0 0 1 1 0 0 1 0 0 1 0 0 1 0 1 0 1\n",
      " 1 1 0 1 0 0 0 0 1 1 0 0 0 1 0 1 1 0 1 0 0 1 0 1 0 1 1 0 0 0 0 0 0 0 0 0 0\n",
      " 1]\n"
     ]
    }
   ],
   "source": [
    "print(\"Cluster assignments:\", idx)\n",
    "print(\"True labels:\", labels_np)"
   ]
  },
  {
   "cell_type": "code",
   "execution_count": 16,
   "metadata": {},
   "outputs": [
    {
     "name": "stdout",
     "output_type": "stream",
     "text": [
      "Cluster assignments: [0 1 1 0 1 1 0 0 1 1 1 0 1 1 1 0 1 1 1 0 0 1 1 0 1 1 1 0 1 1 0 0 0 1 1 0 1\n",
      " 1 1 1 0 0 1 1 0 0 1 0 0 1 1 0 0 0 0 1 1 1 0 0 1 1 1 1 1 0 1 1 1 0 0 0 0 0\n",
      " 0 0 1 0 1 0 0 0 1 1 1 0 0 1 0 0 0 0 1 1 0 0 0 0 0 1 0 1 0 1 1 1 0 0 0 0 0\n",
      " 1 1 1 1 0 0 0 0 1 0 1 1 1 1 1 1 1 0 0 0 0 0 0 0 1 0 1 0 0 0 1 0 0 1 1 1 1\n",
      " 0 0 1 1 1 0 1 0 0 0 1 0 1 1 0 1 1 1 1 1 1 1 0 0 1 1 0 1 1 0 1 1 0 1 0 1 0\n",
      " 0 0 1 0 1 1 1 1 0 0 1 1 1 0 1 0 0 1 0 1 1 0 1 0 1 0 0 1 1 1 1 1 1 1 1 1 1\n",
      " 0]\n",
      "True labels: [1 0 0 1 0 0 1 1 0 0 0 1 0 0 0 1 0 0 0 1 1 0 0 1 0 0 0 1 0 0 1 1 1 0 0 1 0\n",
      " 0 0 0 1 1 0 0 1 1 0 1 1 0 0 1 1 1 1 0 0 0 1 1 0 0 0 0 0 1 0 0 0 1 1 1 1 1\n",
      " 1 1 0 1 0 1 1 1 0 0 0 1 1 0 1 1 1 1 0 0 1 1 1 1 1 0 1 0 1 0 0 0 1 1 1 1 1\n",
      " 0 0 0 0 1 1 1 1 0 1 0 0 0 0 0 0 0 1 1 1 1 1 1 1 0 1 0 1 1 1 0 1 1 0 0 0 0\n",
      " 1 1 0 0 0 1 0 1 1 1 0 1 0 0 1 0 0 0 0 0 0 0 1 1 0 0 1 0 0 1 0 0 1 0 1 0 1\n",
      " 1 1 0 1 0 0 0 0 1 1 0 0 0 1 0 1 1 0 1 0 0 1 0 1 0 1 1 0 0 0 0 0 0 0 0 0 0\n",
      " 1]\n"
     ]
    }
   ],
   "source": [
    "print(\"Cluster assignments:\", best_idx)\n",
    "print(\"True labels:\", labels_np)"
   ]
  },
  {
   "cell_type": "code",
   "execution_count": 17,
   "metadata": {},
   "outputs": [
    {
     "name": "stdout",
     "output_type": "stream",
     "text": [
      "Cluster 0 has true labels: Counter({1: 103})\n",
      "Cluster 1 has true labels: Counter({0: 120})\n"
     ]
    }
   ],
   "source": [
    "from collections import Counter\n",
    "import numpy as np\n",
    "\n",
    "# Assuming `idx` contains the cluster assignments from KMeans\n",
    "# and `labels` contains the true labels\n",
    "\n",
    "K = len(np.unique(idx))  # Number of clusters\n",
    "\n",
    "# Iterate over each cluster and count the true labels in that cluster\n",
    "for cluster in range(K):\n",
    "    # Find the indices of images assigned to the current cluster\n",
    "    cluster_indices = np.where(idx == cluster)[0]\n",
    "    \n",
    "    # Get the true labels for the images in this cluster\n",
    "    cluster_labels = labels_np[cluster_indices]\n",
    "    \n",
    "    # Use Counter to count occurrences of each label in the cluster\n",
    "    label_counts = Counter(cluster_labels)\n",
    "    \n",
    "    # Print the result\n",
    "    print(f\"Cluster {cluster} has true labels: {label_counts}\")\n"
   ]
  },
  {
   "cell_type": "code",
   "execution_count": 18,
   "metadata": {},
   "outputs": [
    {
     "name": "stdout",
     "output_type": "stream",
     "text": [
      "Cluster 0 has true labels: Counter({1: 103})\n",
      "Cluster 1 has true labels: Counter({0: 120})\n"
     ]
    }
   ],
   "source": [
    "K = len(np.unique(best_idx))  # Number of clusters\n",
    "\n",
    "# Iterate over each cluster and count the true labels in that cluster\n",
    "for cluster in range(K):\n",
    "    # Find the indices of images assigned to the current cluster\n",
    "    cluster_indices = np.where(best_idx == cluster)[0]\n",
    "    \n",
    "    # Get the true labels for the images in this cluster\n",
    "    cluster_labels = labels_np[cluster_indices]\n",
    "    \n",
    "    # Use Counter to count occurrences of each label in the cluster\n",
    "    label_counts = Counter(cluster_labels)\n",
    "    \n",
    "    # Print the result\n",
    "    print(f\"Cluster {cluster} has true labels: {label_counts}\")"
   ]
  },
  {
   "cell_type": "code",
   "execution_count": 19,
   "metadata": {},
   "outputs": [],
   "source": [
    "from scipy.stats import mode\n",
    "import numpy as np\n",
    "\n",
    "# Function to reorder K-Means labels to match true labels\n",
    "def reorder_labels(true_labels, predicted_labels):\n",
    "    reordered_labels = np.zeros_like(predicted_labels)\n",
    "\n",
    "    for cluster in np.unique(predicted_labels):\n",
    "        mask = (predicted_labels == cluster)\n",
    "        # Use mode and handle cases where mode() returns a scalar\n",
    "        most_common_label = mode(true_labels[mask], axis=None).mode  # Get the mode for the current cluster\n",
    "        if isinstance(most_common_label, np.ndarray):\n",
    "            most_common_label = most_common_label[0]  # Safely extract the mode value if it's an array\n",
    "        \n",
    "        reordered_labels[mask] = most_common_label\n",
    "\n",
    "    return reordered_labels\n",
    "\n",
    "\n"
   ]
  },
  {
   "cell_type": "code",
   "execution_count": 20,
   "metadata": {},
   "outputs": [
    {
     "name": "stdout",
     "output_type": "stream",
     "text": [
      "Accuracy: 100.00%\n"
     ]
    }
   ],
   "source": [
    "# Apply this after running K-Means\n",
    "reordered_idx = reorder_labels(labels_np, idx)\n",
    "\n",
    "# Now you can compare `reordered_idx` with `labels` to evaluate accuracy\n",
    "accuracy = np.sum(reordered_idx == labels_np) / len(labels_np) * 100\n",
    "print(f\"Accuracy: {accuracy:.2f}%\")"
   ]
  },
  {
   "cell_type": "code",
   "execution_count": 21,
   "metadata": {},
   "outputs": [
    {
     "name": "stdout",
     "output_type": "stream",
     "text": [
      "Accuracy: 100.00%\n"
     ]
    }
   ],
   "source": [
    "# Apply this after running K-Means\n",
    "reordered_idx = reorder_labels(labels_np, best_idx)\n",
    "\n",
    "# Now you can compare `reordered_idx` with `labels` to evaluate accuracy\n",
    "accuracy = np.sum(reordered_idx == labels_np) / len(labels_np) * 100\n",
    "print(f\"Accuracy: {accuracy:.2f}%\")"
   ]
  },
  {
   "cell_type": "code",
   "execution_count": 41,
   "metadata": {},
   "outputs": [],
   "source": [
    "import matplotlib.pyplot as plt\n",
    "from sklearn.decomposition import PCA"
   ]
  },
  {
   "cell_type": "code",
   "execution_count": 42,
   "metadata": {},
   "outputs": [],
   "source": [
    "# Function to reduce the dimensionality of data points and centroids to 2D using PCA\n",
    "def reduce_to_2D_pca(X, centroids):\n",
    "    # Initialize PCA with 2 components\n",
    "    pca = PCA(n_components=2)\n",
    "    \n",
    "    # Apply PCA to the data points (X) and centroids\n",
    "    X_2D = pca.fit_transform(X)  # Reducing original data points\n",
    "    centroids_2D = pca.transform(centroids)  # Reducing centroids\n",
    "\n",
    "    return X_2D, centroids_2D\n",
    "\n",
    "# Function to plot 2D visualization of clustered data points and centroids with true labels\n",
    "def plot_2D_clusters_with_labels(X_2D, centroids_2D, idx, labels, K):\n",
    "    plt.figure(figsize=(10, 7))\n",
    "    \n",
    "    # Define color map for clusters\n",
    "    colors = plt.cm.rainbow(np.linspace(0, 1, K))\n",
    "    \n",
    "    # Plot data points colored by their cluster assignment\n",
    "    for k in range(K):\n",
    "        cluster_points = X_2D[idx == k]\n",
    "        cluster_labels = labels[idx == k]  # Get true labels for the current cluster\n",
    "        \n",
    "        # Scatter plot for each cluster\n",
    "        plt.scatter(cluster_points[:, 0], cluster_points[:, 1], \n",
    "                    c=[colors[k]], label=f\"Cluster {k+1}\", alpha=0.6)\n",
    "        \n",
    "        # Annotate each point with its true label\n",
    "        for i in range(cluster_points.shape[0]):\n",
    "            plt.annotate(str(cluster_labels[i]), \n",
    "                         (cluster_points[i, 0], cluster_points[i, 1]), \n",
    "                         fontsize=8, alpha=0.75)\n",
    "\n",
    "    # Plot centroids as larger markers\n",
    "    plt.scatter(centroids_2D[:, 0], centroids_2D[:, 1], \n",
    "                c='k', marker='x', s=200, label='Centroids')\n",
    "\n",
    "    plt.title(\"2D Visualization of Clusters using PCA with True Labels\")\n",
    "    plt.xlabel(\"Component 1\")\n",
    "    plt.ylabel(\"Component 2\")\n",
    "    plt.legend()\n",
    "    plt.grid()\n",
    "    plt.show()\n"
   ]
  },
  {
   "cell_type": "code",
   "execution_count": 43,
   "metadata": {},
   "outputs": [
    {
     "data": {
      "image/png": "[encoded data removed]",
      "text/plain": [
       "<Figure size 1000x700 with 1 Axes>"
      ]
     },
     "metadata": {},
     "output_type": "display_data"
    }
   ],
   "source": [
    "# Apply PCA after K-Means clustering for 2D visualization\n",
    "X_2D_pca, centroids_2D_pca = reduce_to_2D_pca(feats_np, centroids)\n",
    "\n",
    "# Plot the 2D clusters with centroids and true labels\n",
    "plot_2D_clusters_with_labels(X_2D_pca, centroids_2D_pca, idx, labels_np, K)\n"
   ]
  },
  {
   "cell_type": "code",
   "execution_count": 44,
   "metadata": {},
   "outputs": [
    {
     "data": {
      "image/png": "[encoded data removed]",
      "text/plain": [
       "<Figure size 1000x700 with 1 Axes>"
      ]
     },
     "metadata": {},
     "output_type": "display_data"
    }
   ],
   "source": [
    "# Apply PCA after K-Means clustering for 2D visualization\n",
    "X_2D_pca, centroids_2D_pca = reduce_to_2D_pca(feats_np, best_centroids)\n",
    "\n",
    "# Plot the 2D clusters with centroids and true labels\n",
    "plot_2D_clusters_with_labels(X_2D_pca, centroids_2D_pca, best_idx, labels_np, K)\n"
   ]
  },
  {
   "cell_type": "markdown",
   "metadata": {},
   "source": [
    "### clustering"
   ]
  },
  {
   "cell_type": "markdown",
   "metadata": {},
   "source": [
    "from sklearn.preprocessing import normalize\n",
    "\n",
    "# K-Means initialization function\n",
    "def kMeans_init_centroids(X, K):\n",
    "    randidx = np.random.permutation(X.shape[0])\n",
    "    centroids = X[randidx[:K]]\n",
    "    return centroids\n",
    "\n",
    "# Function to find the closest centroids using Cosine Similarity\n",
    "def find_closest_centroids(X, centroids):\n",
    "    # Normalize both the data points and centroids to ensure we compute cosine similarity\n",
    "    X_norm = normalize(X, axis=1)\n",
    "    centroids_norm = normalize(centroids, axis=1)\n",
    "    \n",
    "    # Assign data points to closest centroids based on cosine similarity\n",
    "    idx = np.zeros(X.shape[0], dtype=int)\n",
    "    for i in range(X.shape[0]):\n",
    "        # Compute cosine similarity\n",
    "        similarities = np.dot(centroids_norm, X_norm[i])  # Dot product gives cosine similarity\n",
    "        idx[i] = np.argmax(similarities)  # We want the most similar (highest value)\n",
    "    return idx\n",
    "\n",
    "# Function to compute new centroids\n",
    "def compute_centroids(X, idx, K):\n",
    "    centroids = np.zeros((K, X.shape[1]))  # Use shape[1] for features\n",
    "    for k in range(K):\n",
    "        points = X[idx == k]\n",
    "        if len(points) > 0:\n",
    "            # Normalize the points within the cluster along each feature axis\n",
    "            normalized_points = normalize(points, axis=1)   # noralised vectors mean maynot be normalised. hence we normalise before calculating mean.https://chatgpt.com/share/671b97a7-ec2c-8010-af33-af106df0a25c\n",
    "            # Compute the mean of the normalized points to get the new centroid\n",
    "            centroids[k] = np.mean(normalized_points, axis=0)\n",
    "    return centroids\n",
    "\n",
    "# Function to run K-Means algorithm with cost tracking (using Cosine Similarity)\n",
    "def run_kMeans(X, initial_centroids, max_iters=10):\n",
    "    K = initial_centroids.shape[0]\n",
    "    centroids = initial_centroids\n",
    "    idx = np.zeros(X.shape[0])\n",
    "    \n",
    "    best_centroids = centroids\n",
    "    lowest_cost = float('inf')\n",
    "    final_iteration = 0  # To keep track of the iteration where the best centroids were found\n",
    "    best_idx = idx  # Track the best index assignment\n",
    "\n",
    "    for i in range(max_iters):\n",
    "        print(f\"K-Means iteration {i}/{max_iters - 1}\")\n",
    "        \n",
    "        # Assign each data point to the closest centroid using cosine similarity\n",
    "        idx = find_closest_centroids(X, centroids)\n",
    "        \n",
    "        # Compute new centroids\n",
    "        centroids = compute_centroids(X, idx, K)\n",
    "\n",
    "        # Calculate cost function for the current centroids using cosine distance\n",
    "        X_norm = normalize(X, axis=1)\n",
    "        centroids_norm = normalize(centroids, axis=1)\n",
    "\n",
    "        # 1. Compute cosine similarity\n",
    "        sim = np.dot(X_norm, centroids_norm.T)\n",
    "        #print(sim.shape)\n",
    "        #print(sim)\n",
    "        # 2. Calculate cosine distance\n",
    "        cosine_dist = 1 - sim\n",
    "        #print(cosine_dist.shape)\n",
    "        #print(cosine_dist)\n",
    "        # 3. Find maximum cosine distance for each data point\n",
    "        #max_cosine_dist = cosine_dist.max(axis=1)\n",
    "        #print(max_cosine_dist.shape)\n",
    "        #print(max_cosine_dist)\n",
    "        cost = np.sum(cosine_dist)\n",
    "\n",
    "        # 4. Sum of all maximum distances\n",
    "        #cost = np.sum(max_cosine_dist)\n",
    "\n",
    "        #cost = np.sum(1 - np.dot(X_norm, centroids_norm.T).max(axis=1))  # Cosine distance = 1 - cosine similarity  \n",
    "        print(f\"Cost function value: {cost}\")  # Print the cost function value\n",
    "\n",
    "        # Check if this is the best cost so far\n",
    "        if cost < lowest_cost:\n",
    "            lowest_cost = cost\n",
    "            best_centroids = centroids\n",
    "            best_idx = idx.copy()\n",
    "            final_iteration = i  # Update the iteration where best centroids were found\n",
    "\n",
    "    print(f\"Final centroids selected from iteration: {final_iteration}\")  # Indicate which iteration was chosen\n",
    "    return best_centroids, best_idx, centroids,idx  # Return the best centroids\n"
   ]
  },
  {
   "cell_type": "code",
   "execution_count": 12,
   "metadata": {},
   "outputs": [
    {
     "name": "stdout",
     "output_type": "stream",
     "text": [
      "K-Means iteration 0/49\n",
      "Cost function value: 52.49627396328223\n",
      "K-Means iteration 1/49\n",
      "Cost function value: 53.07167013793741\n",
      "K-Means iteration 2/49\n",
      "Cost function value: 53.07167013793741\n",
      "K-Means iteration 3/49\n",
      "Cost function value: 53.07167013793741\n",
      "K-Means iteration 4/49\n",
      "Cost function value: 53.07167013793741\n",
      "K-Means iteration 5/49\n",
      "Cost function value: 53.07167013793741\n",
      "K-Means iteration 6/49\n",
      "Cost function value: 53.07167013793741\n",
      "K-Means iteration 7/49\n",
      "Cost function value: 53.07167013793741\n",
      "K-Means iteration 8/49\n",
      "Cost function value: 53.07167013793741\n",
      "K-Means iteration 9/49\n",
      "Cost function value: 53.07167013793741\n",
      "K-Means iteration 10/49\n",
      "Cost function value: 53.07167013793741\n",
      "K-Means iteration 11/49\n",
      "Cost function value: 53.07167013793741\n",
      "K-Means iteration 12/49\n",
      "Cost function value: 53.07167013793741\n",
      "K-Means iteration 13/49\n",
      "Cost function value: 53.07167013793741\n",
      "K-Means iteration 14/49\n",
      "Cost function value: 53.07167013793741\n",
      "K-Means iteration 15/49\n",
      "Cost function value: 53.07167013793741\n",
      "K-Means iteration 16/49\n",
      "Cost function value: 53.07167013793741\n",
      "K-Means iteration 17/49\n",
      "Cost function value: 53.07167013793741\n",
      "K-Means iteration 18/49\n",
      "Cost function value: 53.07167013793741\n",
      "K-Means iteration 19/49\n",
      "Cost function value: 53.07167013793741\n",
      "K-Means iteration 20/49\n",
      "Cost function value: 53.07167013793741\n",
      "K-Means iteration 21/49\n",
      "Cost function value: 53.07167013793741\n",
      "K-Means iteration 22/49\n",
      "Cost function value: 53.07167013793741\n",
      "K-Means iteration 23/49\n",
      "Cost function value: 53.07167013793741\n",
      "K-Means iteration 24/49\n",
      "Cost function value: 53.07167013793741\n",
      "K-Means iteration 25/49\n",
      "Cost function value: 53.07167013793741\n",
      "K-Means iteration 26/49\n",
      "Cost function value: 53.07167013793741\n",
      "K-Means iteration 27/49\n",
      "Cost function value: 53.07167013793741\n",
      "K-Means iteration 28/49\n",
      "Cost function value: 53.07167013793741\n",
      "K-Means iteration 29/49\n",
      "Cost function value: 53.07167013793741\n",
      "K-Means iteration 30/49\n",
      "Cost function value: 53.07167013793741\n",
      "K-Means iteration 31/49\n",
      "Cost function value: 53.07167013793741\n",
      "K-Means iteration 32/49\n",
      "Cost function value: 53.07167013793741\n",
      "K-Means iteration 33/49\n",
      "Cost function value: 53.07167013793741\n",
      "K-Means iteration 34/49\n",
      "Cost function value: 53.07167013793741\n",
      "K-Means iteration 35/49\n",
      "Cost function value: 53.07167013793741\n",
      "K-Means iteration 36/49\n",
      "Cost function value: 53.07167013793741\n",
      "K-Means iteration 37/49\n",
      "Cost function value: 53.07167013793741\n",
      "K-Means iteration 38/49\n",
      "Cost function value: 53.07167013793741\n",
      "K-Means iteration 39/49\n",
      "Cost function value: 53.07167013793741\n",
      "K-Means iteration 40/49\n",
      "Cost function value: 53.07167013793741\n",
      "K-Means iteration 41/49\n",
      "Cost function value: 53.07167013793741\n",
      "K-Means iteration 42/49\n",
      "Cost function value: 53.07167013793741\n",
      "K-Means iteration 43/49\n",
      "Cost function value: 53.07167013793741\n",
      "K-Means iteration 44/49\n",
      "Cost function value: 53.07167013793741\n",
      "K-Means iteration 45/49\n",
      "Cost function value: 53.07167013793741\n",
      "K-Means iteration 46/49\n",
      "Cost function value: 53.07167013793741\n",
      "K-Means iteration 47/49\n",
      "Cost function value: 53.07167013793741\n",
      "K-Means iteration 48/49\n",
      "Cost function value: 53.07167013793741\n",
      "K-Means iteration 49/49\n",
      "Cost function value: 53.07167013793741\n",
      "Final centroids selected from iteration: 0\n",
      "Final centroids: [[1.90623318e-02 6.30006983e-02 2.16628737e-02 ... 2.63118558e-05\n",
      "  2.76580176e-02 8.92095031e-02]\n",
      " [1.00033357e-01 7.11347501e-02 1.34969140e-02 ... 7.43993767e-02\n",
      "  5.32834483e-03 2.88599453e-03]]\n"
     ]
    }
   ],
   "source": [
    "# Main function to run the K-Means algorithm\n",
    "\n",
    "K = 2                     # Set number of clusters\n",
    "initial_centroids = kMeans_init_centroids(feats_np_norm, K)  # Step 3: Initialize centroids\n",
    "max_iters = 50                # Step 4: Number of iterations\n",
    "best_centroids, best_idx, centroids, idx = run_kMeans(feats_np_norm, initial_centroids, max_iters)  # Step 5: Run K-Means\n",
    "print(\"Final centroids:\", centroids)  # Output the final centroids"
   ]
  },
  {
   "cell_type": "code",
   "execution_count": 13,
   "metadata": {},
   "outputs": [
    {
     "name": "stdout",
     "output_type": "stream",
     "text": [
      "Cluster assignments: [1 1 0 1 1 0 0 0 1 1 1 0 1 1 0 0 0 1 1 0 1 0 1 1 1 1 0 0 1 1 0 0 0 1 0 0 0\n",
      " 1 1 1 1 0 0 1 0 1 0 0 0 1 0 0 0 1 0 1 1 1 0 0]\n",
      "True labels: [0 0 1 0 0 1 1 1 0 0 0 1 0 0 1 1 1 0 0 1 0 1 0 0 0 0 1 1 0 0 1 1 1 0 1 1 1\n",
      " 0 0 0 0 1 1 0 1 0 1 1 1 0 1 1 1 0 1 0 0 0 1 1]\n"
     ]
    }
   ],
   "source": [
    "print(\"Cluster assignments:\", idx)\n",
    "print(\"True labels:\", labels_np)"
   ]
  },
  {
   "cell_type": "code",
   "execution_count": 14,
   "metadata": {},
   "outputs": [
    {
     "name": "stdout",
     "output_type": "stream",
     "text": [
      "Cluster assignments: [1 1 0 0 1 0 0 0 1 1 1 0 1 1 0 0 0 1 1 0 1 0 1 1 1 1 0 0 1 1 0 0 0 1 0 0 0\n",
      " 1 0 1 1 0 0 1 0 1 0 0 0 1 0 0 0 1 0 1 1 1 0 0]\n",
      "True labels: [0 0 1 0 0 1 1 1 0 0 0 1 0 0 1 1 1 0 0 1 0 1 0 0 0 0 1 1 0 0 1 1 1 0 1 1 1\n",
      " 0 0 0 0 1 1 0 1 0 1 1 1 0 1 1 1 0 1 0 0 0 1 1]\n"
     ]
    }
   ],
   "source": [
    "print(\"Cluster assignments:\", best_idx)\n",
    "print(\"True labels:\", labels_np)"
   ]
  },
  {
   "cell_type": "code",
   "execution_count": 15,
   "metadata": {},
   "outputs": [
    {
     "name": "stdout",
     "output_type": "stream",
     "text": [
      "Cluster 0 has true labels: Counter({1: 30})\n",
      "Cluster 1 has true labels: Counter({0: 30})\n"
     ]
    }
   ],
   "source": [
    "from collections import Counter\n",
    "import numpy as np\n",
    "\n",
    "# Assuming `idx` contains the cluster assignments from KMeans\n",
    "# and `labels` contains the true labels\n",
    "\n",
    "K = len(np.unique(idx))  # Number of clusters\n",
    "\n",
    "# Iterate over each cluster and count the true labels in that cluster\n",
    "for cluster in range(K):\n",
    "    # Find the indices of images assigned to the current cluster\n",
    "    cluster_indices = np.where(idx == cluster)[0]\n",
    "    \n",
    "    # Get the true labels for the images in this cluster\n",
    "    cluster_labels = labels_np[cluster_indices]\n",
    "    \n",
    "    # Use Counter to count occurrences of each label in the cluster\n",
    "    label_counts = Counter(cluster_labels)\n",
    "    \n",
    "    # Print the result\n",
    "    print(f\"Cluster {cluster} has true labels: {label_counts}\")\n"
   ]
  },
  {
   "cell_type": "code",
   "execution_count": 16,
   "metadata": {},
   "outputs": [
    {
     "name": "stdout",
     "output_type": "stream",
     "text": [
      "Cluster 0 has true labels: Counter({1: 30, 0: 2})\n",
      "Cluster 1 has true labels: Counter({0: 28})\n"
     ]
    }
   ],
   "source": [
    "K = len(np.unique(best_idx))  # Number of clusters\n",
    "\n",
    "# Iterate over each cluster and count the true labels in that cluster\n",
    "for cluster in range(K):\n",
    "    # Find the indices of images assigned to the current cluster\n",
    "    cluster_indices = np.where(best_idx == cluster)[0]\n",
    "    \n",
    "    # Get the true labels for the images in this cluster\n",
    "    cluster_labels = labels_np[cluster_indices]\n",
    "    \n",
    "    # Use Counter to count occurrences of each label in the cluster\n",
    "    label_counts = Counter(cluster_labels)\n",
    "    \n",
    "    # Print the result\n",
    "    print(f\"Cluster {cluster} has true labels: {label_counts}\")"
   ]
  },
  {
   "cell_type": "code",
   "execution_count": 17,
   "metadata": {},
   "outputs": [],
   "source": [
    "from scipy.stats import mode\n",
    "import numpy as np\n",
    "\n",
    "# Function to reorder K-Means labels to match true labels\n",
    "def reorder_labels(true_labels, predicted_labels):\n",
    "    reordered_labels = np.zeros_like(predicted_labels)\n",
    "\n",
    "    for cluster in np.unique(predicted_labels):\n",
    "        mask = (predicted_labels == cluster)\n",
    "        # Use mode and handle cases where mode() returns a scalar\n",
    "        most_common_label = mode(true_labels[mask], axis=None).mode  # Get the mode for the current cluster\n",
    "        if isinstance(most_common_label, np.ndarray):\n",
    "            most_common_label = most_common_label[0]  # Safely extract the mode value if it's an array\n",
    "        \n",
    "        reordered_labels[mask] = most_common_label\n",
    "\n",
    "    return reordered_labels\n",
    "\n",
    "\n"
   ]
  },
  {
   "cell_type": "code",
   "execution_count": 18,
   "metadata": {},
   "outputs": [
    {
     "name": "stdout",
     "output_type": "stream",
     "text": [
      "Accuracy: 100.00%\n"
     ]
    }
   ],
   "source": [
    "# Apply this after running K-Means\n",
    "reordered_idx = reorder_labels(labels_np, idx)\n",
    "\n",
    "# Now you can compare `reordered_idx` with `labels` to evaluate accuracy\n",
    "accuracy = np.sum(reordered_idx == labels_np) / len(labels_np) * 100\n",
    "print(f\"Accuracy: {accuracy:.2f}%\")"
   ]
  },
  {
   "cell_type": "code",
   "execution_count": 19,
   "metadata": {},
   "outputs": [
    {
     "name": "stdout",
     "output_type": "stream",
     "text": [
      "Accuracy: 96.67%\n"
     ]
    }
   ],
   "source": [
    "# Apply this after running K-Means\n",
    "reordered_idx = reorder_labels(labels_np, best_idx)\n",
    "\n",
    "# Now you can compare `reordered_idx` with `labels` to evaluate accuracy\n",
    "accuracy = np.sum(reordered_idx == labels_np) / len(labels_np) * 100\n",
    "print(f\"Accuracy: {accuracy:.2f}%\")"
   ]
  },
  {
   "cell_type": "code",
   "execution_count": 22,
   "metadata": {},
   "outputs": [],
   "source": [
    "import matplotlib.pyplot as plt\n",
    "from sklearn.decomposition import PCA"
   ]
  },
  {
   "cell_type": "code",
   "execution_count": 23,
   "metadata": {},
   "outputs": [],
   "source": [
    "# Function to reduce the dimensionality of data points and centroids to 2D using PCA\n",
    "def reduce_to_2D_pca(X, centroids):\n",
    "    # Initialize PCA with 2 components\n",
    "    pca = PCA(n_components=2)\n",
    "    \n",
    "    # Apply PCA to the data points (X) and centroids\n",
    "    X_2D = pca.fit_transform(X)  # Reducing original data points\n",
    "    centroids_2D = pca.transform(centroids)  # Reducing centroids\n",
    "\n",
    "    return X_2D, centroids_2D\n",
    "\n",
    "# Function to plot 2D visualization of clustered data points and centroids with true labels\n",
    "def plot_2D_clusters_with_labels(X_2D, centroids_2D, idx, labels, K):\n",
    "    plt.figure(figsize=(10, 7))\n",
    "    \n",
    "    # Define color map for clusters\n",
    "    colors = plt.cm.rainbow(np.linspace(0, 1, K))\n",
    "    \n",
    "    # Plot data points colored by their cluster assignment\n",
    "    for k in range(K):\n",
    "        cluster_points = X_2D[idx == k]\n",
    "        cluster_labels = labels[idx == k]  # Get true labels for the current cluster\n",
    "        \n",
    "        # Scatter plot for each cluster\n",
    "        plt.scatter(cluster_points[:, 0], cluster_points[:, 1], \n",
    "                    c=[colors[k]], label=f\"Cluster {k+1}\", alpha=0.6)\n",
    "        \n",
    "        # Annotate each point with its true label\n",
    "        for i in range(cluster_points.shape[0]):\n",
    "            plt.annotate(str(cluster_labels[i]), \n",
    "                         (cluster_points[i, 0], cluster_points[i, 1]), \n",
    "                         fontsize=8, alpha=0.75)\n",
    "\n",
    "    # Plot centroids as larger markers\n",
    "    plt.scatter(centroids_2D[:, 0], centroids_2D[:, 1], \n",
    "                c='k', marker='x', s=200, label='Centroids')\n",
    "\n",
    "    plt.title(\"2D Visualization of Clusters using PCA with True Labels\")\n",
    "    plt.xlabel(\"Component 1\")\n",
    "    plt.ylabel(\"Component 2\")\n",
    "    plt.legend()\n",
    "    plt.grid()\n",
    "    plt.show()\n"
   ]
  },
  {
   "cell_type": "code",
   "execution_count": 24,
   "metadata": {},
   "outputs": [
    {
     "data": {
      "image/png": "[encoded data removed]",
      "text/plain": [
       "<Figure size 1000x700 with 1 Axes>"
      ]
     },
     "metadata": {},
     "output_type": "display_data"
    }
   ],
   "source": [
    "# Apply PCA after K-Means clustering for 2D visualization\n",
    "X_2D_pca, centroids_2D_pca = reduce_to_2D_pca(feats_np_norm, centroids)\n",
    "\n",
    "# Plot the 2D clusters with centroids and true labels\n",
    "plot_2D_clusters_with_labels(X_2D_pca, centroids_2D_pca, idx, labels_np, K)\n"
   ]
  },
  {
   "cell_type": "code",
   "execution_count": 25,
   "metadata": {},
   "outputs": [
    {
     "data": {
      "image/png": "[encoded data removed]",
      "text/plain": [
       "<Figure size 1000x700 with 1 Axes>"
      ]
     },
     "metadata": {},
     "output_type": "display_data"
    }
   ],
   "source": [
    "# Apply PCA after K-Means clustering for 2D visualization\n",
    "X_2D_pca, centroids_2D_pca = reduce_to_2D_pca(feats_np_norm, best_centroids)\n",
    "\n",
    "# Plot the 2D clusters with centroids and true labels\n",
    "plot_2D_clusters_with_labels(X_2D_pca, centroids_2D_pca, best_idx, labels_np, K)\n"
   ]
  }
 ],
 "metadata": {
  "kernelspec": {
   "display_name": "master",
   "language": "python",
   "name": "python3"
  },
  "language_info": {
   "codemirror_mode": {
    "name": "ipython",
    "version": 3
   },
   "file_extension": ".py",
   "mimetype": "text/x-python",
   "name": "python",
   "nbconvert_exporter": "python",
   "pygments_lexer": "ipython3",
   "version": "3.12.4"
  }
 },
 "nbformat": 4,
 "nbformat_minor": 2
}
