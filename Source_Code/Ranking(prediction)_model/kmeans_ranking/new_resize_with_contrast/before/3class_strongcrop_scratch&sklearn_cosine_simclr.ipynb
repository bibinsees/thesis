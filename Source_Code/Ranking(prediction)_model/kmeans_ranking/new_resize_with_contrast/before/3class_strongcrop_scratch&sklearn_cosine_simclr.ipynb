{
 "cells": [
  {
   "cell_type": "code",
   "execution_count": 1,
   "metadata": {},
   "outputs": [],
   "source": [
    "import os\n",
    "import numpy as np\n",
    "import torch\n",
    "from torch import nn, optim\n",
    "from torch.utils.data import Dataset, DataLoader, random_split\n",
    "from torchvision import transforms\n",
    "import torchvision\n",
    "import tifffile as tiff\n",
    "import matplotlib.pyplot as plt\n",
    "import time\n",
    "from tqdm import tqdm\n",
    "from copy import deepcopy\n",
    "import random\n",
    "from sklearn.preprocessing import normalize\n",
    "\n",
    "from collections import Counter\n",
    "from scipy.stats import mode"
   ]
  },
  {
   "cell_type": "code",
   "execution_count": 2,
   "metadata": {},
   "outputs": [],
   "source": [
    "# Set seed for reproducibility\n",
    "def set_seed(seed):\n",
    "    random.seed(seed)\n",
    "    np.random.seed(seed)\n",
    "    torch.manual_seed(seed)\n",
    "    if torch.cuda.is_available():\n",
    "        torch.cuda.manual_seed(seed)\n",
    "        torch.cuda.manual_seed_all(seed)\n",
    "    torch.backends.cudnn.deterministic = True\n",
    "    torch.backends.cudnn.benchmark = False\n",
    "\n",
    "# Set seed\n",
    "set_seed(42)"
   ]
  },
  {
   "cell_type": "code",
   "execution_count": 3,
   "metadata": {},
   "outputs": [],
   "source": [
    "# Set the device\n",
    "device = torch.device(\"cuda\" if torch.cuda.is_available() else \"cpu\")"
   ]
  },
  {
   "cell_type": "code",
   "execution_count": 4,
   "metadata": {},
   "outputs": [],
   "source": [
    "class SimCLR(nn.Module):\n",
    "    def __init__(self, hidden_dim, lr, temperature, weight_decay,max_epochs):\n",
    "        super().__init__()\n",
    "        self.temperature = temperature\n",
    "        \n",
    "        # Load the pretrained ResNet-18 model\n",
    "        self.convnet = torchvision.models.resnet18(weights='ResNet18_Weights.DEFAULT')\n",
    "        \n",
    "        # Modify the fully connected layer\n",
    "        self.convnet.fc = nn.Sequential(\n",
    "            nn.Linear(self.convnet.fc.in_features, 4 * hidden_dim),  # Linear layer with 4*hidden_dim output\n",
    "            nn.ReLU(inplace=True),\n",
    "            nn.Linear(4 * hidden_dim, 20)  # Output layer with hidden_dim output\n",
    "        )\n",
    "\n",
    "        self.optimizer = optim.AdamW(self.parameters(), lr=lr, weight_decay=weight_decay)\n",
    "        self.lr_scheduler = optim.lr_scheduler.CosineAnnealingLR(self.optimizer, T_max=max_epochs, eta_min=lr / 50)\n",
    "\n",
    "    def forward(self, x):\n",
    "        return self.convnet(x)\n",
    "\n",
    "    def info_nce_loss(self, imgs1, imgs2, device):\n",
    "\n",
    "        imgs = torch.cat((imgs1, imgs2), dim=0)  # Concatenate along the batch dimension\n",
    "        imgs = imgs.to(device)  # Move images to the device\n",
    "\n",
    "        # Encode all images\n",
    "        feats = self.forward(imgs)\n",
    "    \n",
    "        # Calculate cosine similarity\n",
    "        cos_sim = nn.functional.cosine_similarity(feats[:, None, :], feats[None, :, :], dim=-1)\n",
    "    \n",
    "        # Mask out cosine similarity to itself\n",
    "        self_mask = torch.eye(cos_sim.shape[0], dtype=torch.bool, device=cos_sim.device)\n",
    "        cos_sim.masked_fill_(self_mask, -9e15)\n",
    "    \n",
    "        # Find positive example -> batch_size//2 away from the original example\n",
    "        pos_mask = self_mask.roll(shifts=cos_sim.shape[0] // 2, dims=0)\n",
    "    \n",
    "        # Normalize similarity scores by temperature\n",
    "        cos_sim = cos_sim / self.temperature\n",
    "\n",
    "        # InfoNCE loss\n",
    "        nll = -cos_sim[pos_mask] + torch.logsumexp(cos_sim, dim=-1)\n",
    "        nll = nll.mean()\n",
    "\n",
    "        # Accuracy calculations\n",
    "        # Create a combination of positive and negative similarities for ranking\n",
    "        comb_sim = torch.cat([cos_sim[pos_mask][:, None],  # Positive example in first position\n",
    "                          cos_sim.masked_fill(pos_mask, -9e15)], dim=-1)\n",
    "    \n",
    "        # Sort and get the ranking position of the positive example\n",
    "        sim_argsort = comb_sim.argsort(dim=-1, descending=True).argmin(dim=-1)\n",
    "    \n",
    "        # Compute accuracy metrics\n",
    "        top1_acc = (sim_argsort == 0).float().mean()  # Top-1 accuracy\n",
    "        top5_acc = (sim_argsort < 5).float().mean()   # Top-5 accuracy\n",
    "        mean_pos = 1 + sim_argsort.float().mean()     # Mean position of the positive example\n",
    "\n",
    "        return nll, top1_acc, top5_acc, mean_pos\n",
    "\n",
    "    def train_epoch(self, train_loader, device):\n",
    "        self.train()\n",
    "        total_loss = 0.0\n",
    "        total_top1_acc = 0.0\n",
    "        total_top5_acc = 0.0\n",
    "        total_mean_pos = 0.0\n",
    "\n",
    "        for batch in tqdm(train_loader, desc=\"Training\", leave=False):\n",
    "            imgs1, imgs2, _ = batch\n",
    "            imgs1, imgs2 = imgs1.to(device), imgs2.to(device)  # Move data to device\n",
    "        \n",
    "            self.optimizer.zero_grad()\n",
    "\n",
    "            # Calculate loss and accuracy metrics\n",
    "            loss, top1_acc, top5_acc, mean_pos = self.info_nce_loss(imgs1, imgs2, device)\n",
    "\n",
    "            loss.backward()\n",
    "            self.optimizer.step()\n",
    "            #self.lr_scheduler.step()\n",
    "\n",
    "            # Accumulate metrics\n",
    "            total_loss += loss.item()\n",
    "            total_top1_acc += top1_acc.item()\n",
    "            total_top5_acc += top5_acc.item()\n",
    "            total_mean_pos += mean_pos.item()\n",
    "\n",
    "        avg_loss = total_loss / len(train_loader)\n",
    "        avg_top1_acc = total_top1_acc / len(train_loader)\n",
    "        avg_top5_acc = total_top5_acc / len(train_loader)\n",
    "        avg_mean_pos = total_mean_pos / len(train_loader)\n",
    "\n",
    "        return avg_loss, avg_top1_acc, avg_top5_acc, avg_mean_pos\n",
    "\n",
    "    def validate_epoch(self, val_loader, device):\n",
    "        self.eval()\n",
    "        total_loss = 0.0\n",
    "        total_top1_acc = 0.0\n",
    "        total_top5_acc = 0.0\n",
    "        total_mean_pos = 0.0\n",
    "\n",
    "        with torch.no_grad():\n",
    "            for batch in tqdm(val_loader, desc=\"Validating\", leave=False):\n",
    "                imgs1, imgs2, _ = batch\n",
    "                imgs1, imgs2 = imgs1.to(device), imgs2.to(device)  # Move data to device\n",
    "\n",
    "                # Calculate loss and accuracy metrics\n",
    "                loss, top1_acc, top5_acc, mean_pos = self.info_nce_loss(imgs1, imgs2, device)\n",
    "\n",
    "                # Accumulate metrics\n",
    "                total_loss += loss.item()\n",
    "                total_top1_acc += top1_acc.item()\n",
    "                total_top5_acc += top5_acc.item()\n",
    "                total_mean_pos += mean_pos.item()\n",
    "\n",
    "        avg_loss = total_loss / len(val_loader)\n",
    "        avg_top1_acc = total_top1_acc / len(val_loader)\n",
    "        avg_top5_acc = total_top5_acc / len(val_loader)\n",
    "        avg_mean_pos = total_mean_pos / len(val_loader)\n",
    "\n",
    "        return avg_loss, avg_top1_acc, avg_top5_acc, avg_mean_pos\n",
    "    \n",
    "\n",
    "    def inference_epoch(self, inference_loader, device):\n",
    "        self.eval()\n",
    "        total_loss = 0.0\n",
    "        total_top1_acc = 0.0\n",
    "        total_top5_acc = 0.0\n",
    "        total_mean_pos = 0.0\n",
    "\n",
    "        with torch.no_grad():\n",
    "            for batch in tqdm(inference_loader, desc=\"Inferencing\", leave=False):\n",
    "                imgs1, imgs2, _ = batch\n",
    "                imgs1, imgs2 = imgs1.to(device), imgs2.to(device)  # Move data to device\n",
    "\n",
    "                # Calculate loss and accuracy metrics\n",
    "                loss, top1_acc, top5_acc, mean_pos = self.info_nce_loss(imgs1, imgs2, device)\n",
    "\n",
    "                # Accumulate metrics\n",
    "                total_loss += loss.item()\n",
    "                total_top1_acc += top1_acc.item()\n",
    "                total_top5_acc += top5_acc.item()\n",
    "                total_mean_pos += mean_pos.item()\n",
    "\n",
    "        avg_loss = total_loss / len(inference_loader)\n",
    "        avg_top1_acc = total_top1_acc / len(inference_loader)\n",
    "        avg_top5_acc = total_top5_acc / len(inference_loader)\n",
    "        avg_mean_pos = total_mean_pos / len(inference_loader)\n",
    "\n",
    "        return avg_loss, avg_top1_acc, avg_top5_acc, avg_mean_pos"
   ]
  },
  {
   "cell_type": "code",
   "execution_count": 5,
   "metadata": {},
   "outputs": [
    {
     "name": "stderr",
     "output_type": "stream",
     "text": [
      "C:\\Users\\k54739\\AppData\\Local\\Temp\\ipykernel_161380\\3495648145.py:2: FutureWarning: You are using `torch.load` with `weights_only=False` (the current default value), which uses the default pickle module implicitly. It is possible to construct malicious pickle data which will execute arbitrary code during unpickling (See https://github.com/pytorch/pytorch/blob/main/SECURITY.md#untrusted-models for more details). In a future release, the default value for `weights_only` will be flipped to `True`. This limits the functions that could be executed during unpickling. Arbitrary objects will no longer be allowed to be loaded via this mode unless they are explicitly allowlisted by the user via `torch.serialization.add_safe_globals`. We recommend you start setting `weights_only=True` for any use case where you don't have full control of the loaded file. Please open an issue on GitHub for any issues related to this experimental feature.\n",
      "  simclr_model = torch.load(full_model_path)\n"
     ]
    },
    {
     "data": {
      "text/plain": [
       "SimCLR(\n",
       "  (convnet): ResNet(\n",
       "    (conv1): Conv2d(3, 64, kernel_size=(7, 7), stride=(2, 2), padding=(3, 3), bias=False)\n",
       "    (bn1): BatchNorm2d(64, eps=1e-05, momentum=0.1, affine=True, track_running_stats=True)\n",
       "    (relu): ReLU(inplace=True)\n",
       "    (maxpool): MaxPool2d(kernel_size=3, stride=2, padding=1, dilation=1, ceil_mode=False)\n",
       "    (layer1): Sequential(\n",
       "      (0): BasicBlock(\n",
       "        (conv1): Conv2d(64, 64, kernel_size=(3, 3), stride=(1, 1), padding=(1, 1), bias=False)\n",
       "        (bn1): BatchNorm2d(64, eps=1e-05, momentum=0.1, affine=True, track_running_stats=True)\n",
       "        (relu): ReLU(inplace=True)\n",
       "        (conv2): Conv2d(64, 64, kernel_size=(3, 3), stride=(1, 1), padding=(1, 1), bias=False)\n",
       "        (bn2): BatchNorm2d(64, eps=1e-05, momentum=0.1, affine=True, track_running_stats=True)\n",
       "      )\n",
       "      (1): BasicBlock(\n",
       "        (conv1): Conv2d(64, 64, kernel_size=(3, 3), stride=(1, 1), padding=(1, 1), bias=False)\n",
       "        (bn1): BatchNorm2d(64, eps=1e-05, momentum=0.1, affine=True, track_running_stats=True)\n",
       "        (relu): ReLU(inplace=True)\n",
       "        (conv2): Conv2d(64, 64, kernel_size=(3, 3), stride=(1, 1), padding=(1, 1), bias=False)\n",
       "        (bn2): BatchNorm2d(64, eps=1e-05, momentum=0.1, affine=True, track_running_stats=True)\n",
       "      )\n",
       "    )\n",
       "    (layer2): Sequential(\n",
       "      (0): BasicBlock(\n",
       "        (conv1): Conv2d(64, 128, kernel_size=(3, 3), stride=(2, 2), padding=(1, 1), bias=False)\n",
       "        (bn1): BatchNorm2d(128, eps=1e-05, momentum=0.1, affine=True, track_running_stats=True)\n",
       "        (relu): ReLU(inplace=True)\n",
       "        (conv2): Conv2d(128, 128, kernel_size=(3, 3), stride=(1, 1), padding=(1, 1), bias=False)\n",
       "        (bn2): BatchNorm2d(128, eps=1e-05, momentum=0.1, affine=True, track_running_stats=True)\n",
       "        (downsample): Sequential(\n",
       "          (0): Conv2d(64, 128, kernel_size=(1, 1), stride=(2, 2), bias=False)\n",
       "          (1): BatchNorm2d(128, eps=1e-05, momentum=0.1, affine=True, track_running_stats=True)\n",
       "        )\n",
       "      )\n",
       "      (1): BasicBlock(\n",
       "        (conv1): Conv2d(128, 128, kernel_size=(3, 3), stride=(1, 1), padding=(1, 1), bias=False)\n",
       "        (bn1): BatchNorm2d(128, eps=1e-05, momentum=0.1, affine=True, track_running_stats=True)\n",
       "        (relu): ReLU(inplace=True)\n",
       "        (conv2): Conv2d(128, 128, kernel_size=(3, 3), stride=(1, 1), padding=(1, 1), bias=False)\n",
       "        (bn2): BatchNorm2d(128, eps=1e-05, momentum=0.1, affine=True, track_running_stats=True)\n",
       "      )\n",
       "    )\n",
       "    (layer3): Sequential(\n",
       "      (0): BasicBlock(\n",
       "        (conv1): Conv2d(128, 256, kernel_size=(3, 3), stride=(2, 2), padding=(1, 1), bias=False)\n",
       "        (bn1): BatchNorm2d(256, eps=1e-05, momentum=0.1, affine=True, track_running_stats=True)\n",
       "        (relu): ReLU(inplace=True)\n",
       "        (conv2): Conv2d(256, 256, kernel_size=(3, 3), stride=(1, 1), padding=(1, 1), bias=False)\n",
       "        (bn2): BatchNorm2d(256, eps=1e-05, momentum=0.1, affine=True, track_running_stats=True)\n",
       "        (downsample): Sequential(\n",
       "          (0): Conv2d(128, 256, kernel_size=(1, 1), stride=(2, 2), bias=False)\n",
       "          (1): BatchNorm2d(256, eps=1e-05, momentum=0.1, affine=True, track_running_stats=True)\n",
       "        )\n",
       "      )\n",
       "      (1): BasicBlock(\n",
       "        (conv1): Conv2d(256, 256, kernel_size=(3, 3), stride=(1, 1), padding=(1, 1), bias=False)\n",
       "        (bn1): BatchNorm2d(256, eps=1e-05, momentum=0.1, affine=True, track_running_stats=True)\n",
       "        (relu): ReLU(inplace=True)\n",
       "        (conv2): Conv2d(256, 256, kernel_size=(3, 3), stride=(1, 1), padding=(1, 1), bias=False)\n",
       "        (bn2): BatchNorm2d(256, eps=1e-05, momentum=0.1, affine=True, track_running_stats=True)\n",
       "      )\n",
       "    )\n",
       "    (layer4): Sequential(\n",
       "      (0): BasicBlock(\n",
       "        (conv1): Conv2d(256, 512, kernel_size=(3, 3), stride=(2, 2), padding=(1, 1), bias=False)\n",
       "        (bn1): BatchNorm2d(512, eps=1e-05, momentum=0.1, affine=True, track_running_stats=True)\n",
       "        (relu): ReLU(inplace=True)\n",
       "        (conv2): Conv2d(512, 512, kernel_size=(3, 3), stride=(1, 1), padding=(1, 1), bias=False)\n",
       "        (bn2): BatchNorm2d(512, eps=1e-05, momentum=0.1, affine=True, track_running_stats=True)\n",
       "        (downsample): Sequential(\n",
       "          (0): Conv2d(256, 512, kernel_size=(1, 1), stride=(2, 2), bias=False)\n",
       "          (1): BatchNorm2d(512, eps=1e-05, momentum=0.1, affine=True, track_running_stats=True)\n",
       "        )\n",
       "      )\n",
       "      (1): BasicBlock(\n",
       "        (conv1): Conv2d(512, 512, kernel_size=(3, 3), stride=(1, 1), padding=(1, 1), bias=False)\n",
       "        (bn1): BatchNorm2d(512, eps=1e-05, momentum=0.1, affine=True, track_running_stats=True)\n",
       "        (relu): ReLU(inplace=True)\n",
       "        (conv2): Conv2d(512, 512, kernel_size=(3, 3), stride=(1, 1), padding=(1, 1), bias=False)\n",
       "        (bn2): BatchNorm2d(512, eps=1e-05, momentum=0.1, affine=True, track_running_stats=True)\n",
       "      )\n",
       "    )\n",
       "    (avgpool): AdaptiveAvgPool2d(output_size=(1, 1))\n",
       "    (fc): Sequential(\n",
       "      (0): Linear(in_features=512, out_features=512, bias=True)\n",
       "      (1): ReLU(inplace=True)\n",
       "      (2): Linear(in_features=512, out_features=20, bias=True)\n",
       "    )\n",
       "  )\n",
       ")"
      ]
     },
     "execution_count": 5,
     "metadata": {},
     "output_type": "execute_result"
    }
   ],
   "source": [
    "full_model_path =  r'C:\\Users\\k54739\\Bibi_new_thesis\\saved_model\\resize_simclr_modelepoch250.pth' \n",
    "simclr_model = torch.load(full_model_path)\n",
    "simclr_model.to(device)\n",
    "simclr_model.eval()"
   ]
  },
  {
   "cell_type": "markdown",
   "metadata": {},
   "source": [
    "# Clustering"
   ]
  },
  {
   "cell_type": "code",
   "execution_count": 6,
   "metadata": {},
   "outputs": [
    {
     "name": "stdout",
     "output_type": "stream",
     "text": [
      "Label distribution: {'cond7_all': 472}\n"
     ]
    }
   ],
   "source": [
    "class LabeledImageDataset(Dataset):\n",
    "    def __init__(self, image_files, labels, transform=None):\n",
    "        self.image_files = image_files\n",
    "        self.labels = labels\n",
    "        #self.transform = transform\n",
    "        self.resize_transform = transforms.Resize((96, 96))\n",
    "\n",
    "    def __len__(self):\n",
    "        return len(self.image_files)\n",
    "\n",
    "    def __getitem__(self, idx):\n",
    "        img_path = self.image_files[idx]\n",
    "        image = tiff.imread(img_path)\n",
    "\n",
    "        # Ensure the image has 3 layers (channels)\n",
    "        if image.shape[0] != 3:\n",
    "            raise ValueError(f\"Image {img_path} does not have exactly 3 layers.\")\n",
    "\n",
    "        # Normalize the 16-bit image to [0, 1]\n",
    "        image = image.astype(np.float32) / 65535.0\n",
    "\n",
    "        # Convert to a torch tensor and add channel dimension\n",
    "        image = torch.tensor(image, dtype=torch.float32)\n",
    "        \n",
    "        # Apply resize transform\n",
    "        image = self.resize_transform(image)\n",
    "\n",
    "        label = self.labels[idx]\n",
    "\n",
    "        return image, label\n",
    "\n",
    "        #return image, label, img_path\n",
    "\n",
    "def load_data(root_dir):\n",
    "    \n",
    "    #classes = ['cond7_curated']\n",
    "    #classes = ['sd_only']\n",
    "    #classes = ['ex']\n",
    "    #classes = ['ds_closeto_sd']\n",
    "    classes = ['cond7_all']\n",
    "\n",
    "\n",
    "    image_files = []\n",
    "    labels = []\n",
    "\n",
    "    for idx, class_name in enumerate(classes):\n",
    "        class_dir = os.path.join(root_dir, class_name)\n",
    "        files = [os.path.join(class_dir, file) for file in os.listdir(class_dir) if file.endswith(('.tiff', '.tif'))]\n",
    "        image_files.extend(files)\n",
    "        labels.extend([idx] * len(files))\n",
    "    \n",
    "    # Check if the labels correctly reflect the classes\n",
    "    print(\"Label distribution:\", {classes[i]: labels.count(i) for i in range(len(classes))})\n",
    "\n",
    "    return image_files, labels\n",
    "\n",
    "\n",
    "# Directories for labeled data\n",
    "image_dir = r\"C:\\Users\\k54739\\Bibi_new_thesis\\thesis\\classification\"\n",
    "\n",
    "# Load data\n",
    "image_files, labels = load_data(image_dir)\n",
    "\n",
    "# Create the labeled datasets\n",
    "labeled_dataset = LabeledImageDataset(image_files, labels)\n",
    "\n",
    "# Define DataLoaders\n",
    "batch_size = 16\n",
    "loader_labeled = DataLoader(labeled_dataset, batch_size=batch_size, shuffle=False, drop_last=False, pin_memory=True, num_workers=0)"
   ]
  },
  {
   "cell_type": "code",
   "execution_count": 7,
   "metadata": {},
   "outputs": [
    {
     "name": "stdout",
     "output_type": "stream",
     "text": [
      "torch.Size([16, 3, 96, 96]) torch.Size([16]) torch.float32\n",
      "tensor([0, 0, 0, 0, 0, 0, 0, 0, 0, 0, 0, 0, 0, 0, 0, 0])\n"
     ]
    }
   ],
   "source": [
    "#for anchor,label, path in loader_labeled:\n",
    "for anchor,label in loader_labeled:\n",
    "    print(anchor.shape, label.shape, anchor.dtype)\n",
    "    print(label)\n",
    "    break"
   ]
  },
  {
   "cell_type": "code",
   "execution_count": 8,
   "metadata": {},
   "outputs": [],
   "source": [
    "@torch.no_grad()\n",
    "def prepare_data_features(model, dataloader):\n",
    "    # Prepare model\n",
    "    network = deepcopy(model.convnet)\n",
    "    network.fc = nn.Identity()  # Removing projection head g(.)\n",
    "    network.eval()\n",
    "    network.to(device)\n",
    "\n",
    "    # Encode all images\n",
    "    feats, labels = [], []\n",
    "    for batch_imgs, batch_labels in tqdm(dataloader):\n",
    "        batch_imgs = batch_imgs.to(device)\n",
    "        batch_feats = network(batch_imgs)\n",
    "        print(f\"Batch features shape: {batch_feats.shape}\")\n",
    "        print(f\"Batch labels shape: {batch_labels.shape}\")\n",
    "        \n",
    "        feats.append(batch_feats.detach().cpu())\n",
    "        labels.append(batch_labels)\n",
    "\n",
    "    feats = torch.cat(feats, dim=0)\n",
    "    labels = torch.cat(labels, dim=0)\n",
    "    \n",
    "    print(f\"Features shape after concatenation: {feats.shape}\")\n",
    "    print(f\"Labels shape after concatenation: {labels.shape}\")\n",
    "\n",
    "    return torch.utils.data.TensorDataset(feats, labels)"
   ]
  },
  {
   "cell_type": "code",
   "execution_count": 9,
   "metadata": {},
   "outputs": [
    {
     "name": "stderr",
     "output_type": "stream",
     "text": [
      "  3%|▎         | 1/30 [00:00<00:26,  1.10it/s]"
     ]
    },
    {
     "name": "stdout",
     "output_type": "stream",
     "text": [
      "Batch features shape: torch.Size([16, 512])\n",
      "Batch labels shape: torch.Size([16])\n"
     ]
    },
    {
     "name": "stderr",
     "output_type": "stream",
     "text": [
      "  7%|▋         | 2/30 [00:01<00:22,  1.26it/s]"
     ]
    },
    {
     "name": "stdout",
     "output_type": "stream",
     "text": [
      "Batch features shape: torch.Size([16, 512])\n",
      "Batch labels shape: torch.Size([16])\n"
     ]
    },
    {
     "name": "stderr",
     "output_type": "stream",
     "text": [
      " 10%|█         | 3/30 [00:02<00:20,  1.31it/s]"
     ]
    },
    {
     "name": "stdout",
     "output_type": "stream",
     "text": [
      "Batch features shape: torch.Size([16, 512])\n",
      "Batch labels shape: torch.Size([16])\n"
     ]
    },
    {
     "name": "stderr",
     "output_type": "stream",
     "text": [
      " 13%|█▎        | 4/30 [00:03<00:19,  1.36it/s]"
     ]
    },
    {
     "name": "stdout",
     "output_type": "stream",
     "text": [
      "Batch features shape: torch.Size([16, 512])\n",
      "Batch labels shape: torch.Size([16])\n"
     ]
    },
    {
     "name": "stderr",
     "output_type": "stream",
     "text": [
      " 17%|█▋        | 5/30 [00:03<00:18,  1.38it/s]"
     ]
    },
    {
     "name": "stdout",
     "output_type": "stream",
     "text": [
      "Batch features shape: torch.Size([16, 512])\n",
      "Batch labels shape: torch.Size([16])\n"
     ]
    },
    {
     "name": "stderr",
     "output_type": "stream",
     "text": [
      " 20%|██        | 6/30 [00:04<00:16,  1.45it/s]"
     ]
    },
    {
     "name": "stdout",
     "output_type": "stream",
     "text": [
      "Batch features shape: torch.Size([16, 512])\n",
      "Batch labels shape: torch.Size([16])\n"
     ]
    },
    {
     "name": "stderr",
     "output_type": "stream",
     "text": [
      " 23%|██▎       | 7/30 [00:05<00:15,  1.48it/s]"
     ]
    },
    {
     "name": "stdout",
     "output_type": "stream",
     "text": [
      "Batch features shape: torch.Size([16, 512])\n",
      "Batch labels shape: torch.Size([16])\n"
     ]
    },
    {
     "name": "stderr",
     "output_type": "stream",
     "text": [
      " 27%|██▋       | 8/30 [00:05<00:14,  1.50it/s]"
     ]
    },
    {
     "name": "stdout",
     "output_type": "stream",
     "text": [
      "Batch features shape: torch.Size([16, 512])\n",
      "Batch labels shape: torch.Size([16])\n"
     ]
    },
    {
     "name": "stderr",
     "output_type": "stream",
     "text": [
      " 30%|███       | 9/30 [00:06<00:13,  1.51it/s]"
     ]
    },
    {
     "name": "stdout",
     "output_type": "stream",
     "text": [
      "Batch features shape: torch.Size([16, 512])\n",
      "Batch labels shape: torch.Size([16])\n"
     ]
    },
    {
     "name": "stderr",
     "output_type": "stream",
     "text": [
      " 33%|███▎      | 10/30 [00:06<00:13,  1.52it/s]"
     ]
    },
    {
     "name": "stdout",
     "output_type": "stream",
     "text": [
      "Batch features shape: torch.Size([16, 512])\n",
      "Batch labels shape: torch.Size([16])\n"
     ]
    },
    {
     "name": "stderr",
     "output_type": "stream",
     "text": [
      " 37%|███▋      | 11/30 [00:07<00:12,  1.53it/s]"
     ]
    },
    {
     "name": "stdout",
     "output_type": "stream",
     "text": [
      "Batch features shape: torch.Size([16, 512])\n",
      "Batch labels shape: torch.Size([16])\n"
     ]
    },
    {
     "name": "stderr",
     "output_type": "stream",
     "text": [
      " 40%|████      | 12/30 [00:08<00:11,  1.51it/s]"
     ]
    },
    {
     "name": "stdout",
     "output_type": "stream",
     "text": [
      "Batch features shape: torch.Size([16, 512])\n",
      "Batch labels shape: torch.Size([16])\n"
     ]
    },
    {
     "name": "stderr",
     "output_type": "stream",
     "text": [
      " 43%|████▎     | 13/30 [00:08<00:11,  1.52it/s]"
     ]
    },
    {
     "name": "stdout",
     "output_type": "stream",
     "text": [
      "Batch features shape: torch.Size([16, 512])\n",
      "Batch labels shape: torch.Size([16])\n"
     ]
    },
    {
     "name": "stderr",
     "output_type": "stream",
     "text": [
      " 47%|████▋     | 14/30 [00:09<00:10,  1.52it/s]"
     ]
    },
    {
     "name": "stdout",
     "output_type": "stream",
     "text": [
      "Batch features shape: torch.Size([16, 512])\n",
      "Batch labels shape: torch.Size([16])\n"
     ]
    },
    {
     "name": "stderr",
     "output_type": "stream",
     "text": [
      " 50%|█████     | 15/30 [00:10<00:10,  1.48it/s]"
     ]
    },
    {
     "name": "stdout",
     "output_type": "stream",
     "text": [
      "Batch features shape: torch.Size([16, 512])\n",
      "Batch labels shape: torch.Size([16])\n"
     ]
    },
    {
     "name": "stderr",
     "output_type": "stream",
     "text": [
      " 53%|█████▎    | 16/30 [00:11<00:09,  1.46it/s]"
     ]
    },
    {
     "name": "stdout",
     "output_type": "stream",
     "text": [
      "Batch features shape: torch.Size([16, 512])\n",
      "Batch labels shape: torch.Size([16])\n"
     ]
    },
    {
     "name": "stderr",
     "output_type": "stream",
     "text": [
      " 57%|█████▋    | 17/30 [00:11<00:08,  1.47it/s]"
     ]
    },
    {
     "name": "stdout",
     "output_type": "stream",
     "text": [
      "Batch features shape: torch.Size([16, 512])\n",
      "Batch labels shape: torch.Size([16])\n"
     ]
    },
    {
     "name": "stderr",
     "output_type": "stream",
     "text": [
      " 60%|██████    | 18/30 [00:12<00:08,  1.47it/s]"
     ]
    },
    {
     "name": "stdout",
     "output_type": "stream",
     "text": [
      "Batch features shape: torch.Size([16, 512])\n",
      "Batch labels shape: torch.Size([16])\n"
     ]
    },
    {
     "name": "stderr",
     "output_type": "stream",
     "text": [
      " 63%|██████▎   | 19/30 [00:13<00:07,  1.46it/s]"
     ]
    },
    {
     "name": "stdout",
     "output_type": "stream",
     "text": [
      "Batch features shape: torch.Size([16, 512])\n",
      "Batch labels shape: torch.Size([16])\n"
     ]
    },
    {
     "name": "stderr",
     "output_type": "stream",
     "text": [
      " 67%|██████▋   | 20/30 [00:13<00:06,  1.48it/s]"
     ]
    },
    {
     "name": "stdout",
     "output_type": "stream",
     "text": [
      "Batch features shape: torch.Size([16, 512])\n",
      "Batch labels shape: torch.Size([16])\n"
     ]
    },
    {
     "name": "stderr",
     "output_type": "stream",
     "text": [
      " 70%|███████   | 21/30 [00:14<00:06,  1.49it/s]"
     ]
    },
    {
     "name": "stdout",
     "output_type": "stream",
     "text": [
      "Batch features shape: torch.Size([16, 512])\n",
      "Batch labels shape: torch.Size([16])\n"
     ]
    },
    {
     "name": "stderr",
     "output_type": "stream",
     "text": [
      " 73%|███████▎  | 22/30 [00:15<00:05,  1.49it/s]"
     ]
    },
    {
     "name": "stdout",
     "output_type": "stream",
     "text": [
      "Batch features shape: torch.Size([16, 512])\n",
      "Batch labels shape: torch.Size([16])\n"
     ]
    },
    {
     "name": "stderr",
     "output_type": "stream",
     "text": [
      " 77%|███████▋  | 23/30 [00:15<00:04,  1.49it/s]"
     ]
    },
    {
     "name": "stdout",
     "output_type": "stream",
     "text": [
      "Batch features shape: torch.Size([16, 512])\n",
      "Batch labels shape: torch.Size([16])\n"
     ]
    },
    {
     "name": "stderr",
     "output_type": "stream",
     "text": [
      " 80%|████████  | 24/30 [00:16<00:04,  1.47it/s]"
     ]
    },
    {
     "name": "stdout",
     "output_type": "stream",
     "text": [
      "Batch features shape: torch.Size([16, 512])\n",
      "Batch labels shape: torch.Size([16])\n"
     ]
    },
    {
     "name": "stderr",
     "output_type": "stream",
     "text": [
      " 83%|████████▎ | 25/30 [00:17<00:03,  1.46it/s]"
     ]
    },
    {
     "name": "stdout",
     "output_type": "stream",
     "text": [
      "Batch features shape: torch.Size([16, 512])\n",
      "Batch labels shape: torch.Size([16])\n"
     ]
    },
    {
     "name": "stderr",
     "output_type": "stream",
     "text": [
      " 87%|████████▋ | 26/30 [00:17<00:02,  1.48it/s]"
     ]
    },
    {
     "name": "stdout",
     "output_type": "stream",
     "text": [
      "Batch features shape: torch.Size([16, 512])\n",
      "Batch labels shape: torch.Size([16])\n"
     ]
    },
    {
     "name": "stderr",
     "output_type": "stream",
     "text": [
      " 90%|█████████ | 27/30 [00:18<00:02,  1.49it/s]"
     ]
    },
    {
     "name": "stdout",
     "output_type": "stream",
     "text": [
      "Batch features shape: torch.Size([16, 512])\n",
      "Batch labels shape: torch.Size([16])\n"
     ]
    },
    {
     "name": "stderr",
     "output_type": "stream",
     "text": [
      " 93%|█████████▎| 28/30 [00:19<00:01,  1.48it/s]"
     ]
    },
    {
     "name": "stdout",
     "output_type": "stream",
     "text": [
      "Batch features shape: torch.Size([16, 512])\n",
      "Batch labels shape: torch.Size([16])\n"
     ]
    },
    {
     "name": "stderr",
     "output_type": "stream",
     "text": [
      " 97%|█████████▋| 29/30 [00:19<00:00,  1.48it/s]"
     ]
    },
    {
     "name": "stdout",
     "output_type": "stream",
     "text": [
      "Batch features shape: torch.Size([16, 512])\n",
      "Batch labels shape: torch.Size([16])\n"
     ]
    },
    {
     "name": "stderr",
     "output_type": "stream",
     "text": [
      "100%|██████████| 30/30 [00:20<00:00,  1.49it/s]"
     ]
    },
    {
     "name": "stdout",
     "output_type": "stream",
     "text": [
      "Batch features shape: torch.Size([8, 512])\n",
      "Batch labels shape: torch.Size([8])\n",
      "Features shape after concatenation: torch.Size([472, 512])\n",
      "Labels shape after concatenation: torch.Size([472])\n"
     ]
    },
    {
     "name": "stderr",
     "output_type": "stream",
     "text": [
      "\n"
     ]
    }
   ],
   "source": [
    "# Extract features for train and test datasets\n",
    "feats_simclr = prepare_data_features(simclr_model, loader_labeled)"
   ]
  },
  {
   "cell_type": "code",
   "execution_count": 10,
   "metadata": {},
   "outputs": [
    {
     "name": "stdout",
     "output_type": "stream",
     "text": [
      "Shape of features (for K-Means): (472, 512)\n",
      "Shape of labels: (472,)\n"
     ]
    }
   ],
   "source": [
    "# Convert features and labels to NumPy arrays\n",
    "feats_np = feats_simclr.tensors[0].numpy()  # Features in shape (60, 512)\n",
    "feats_np_norm = normalize(feats_np, axis=1)\n",
    "labels_np = feats_simclr.tensors[1].numpy()  # Corresponding labels\n",
    "\n",
    "# Check the shapes\n",
    "print(\"Shape of features (for K-Means):\", feats_np.shape)\n",
    "print(\"Shape of labels:\", labels_np.shape)"
   ]
  },
  {
   "cell_type": "code",
   "execution_count": 11,
   "metadata": {},
   "outputs": [
    {
     "data": {
      "text/plain": [
       "torch.Size([472, 512])"
      ]
     },
     "execution_count": 11,
     "metadata": {},
     "output_type": "execute_result"
    }
   ],
   "source": [
    "condall = feats_simclr.tensors[0]\n",
    "condall.shape"
   ]
  },
  {
   "cell_type": "code",
   "execution_count": 12,
   "metadata": {},
   "outputs": [],
   "source": [
    "# Save in the current folder\n",
    "save_path = \"condall.pt\"  # File name only\n",
    "\n",
    "# Save the tensor\n",
    "torch.save(condall, save_path)"
   ]
  },
  {
   "cell_type": "code",
   "execution_count": 11,
   "metadata": {},
   "outputs": [
    {
     "data": {
      "text/plain": [
       "torch.Size([103, 512])"
      ]
     },
     "execution_count": 11,
     "metadata": {},
     "output_type": "execute_result"
    }
   ],
   "source": [
    "sd = feats_simclr.tensors[0]\n",
    "sd.shape"
   ]
  },
  {
   "cell_type": "code",
   "execution_count": 12,
   "metadata": {},
   "outputs": [],
   "source": [
    "# Save in the current folder\n",
    "save_path = \"sd.pt\"  # File name only\n",
    "\n",
    "# Save the tensor\n",
    "torch.save(sd, save_path)"
   ]
  },
  {
   "cell_type": "code",
   "execution_count": null,
   "metadata": {},
   "outputs": [],
   "source": [
    "cond7 = feats_simclr.tensors[0]\n",
    "cond7.shape"
   ]
  },
  {
   "cell_type": "code",
   "execution_count": 12,
   "metadata": {},
   "outputs": [],
   "source": [
    "# Save in the current folder\n",
    "save_path = \"cond7.pt\"  # File name only\n",
    "\n",
    "# Save the tensor\n",
    "torch.save(cond7, save_path)"
   ]
  },
  {
   "cell_type": "code",
   "execution_count": null,
   "metadata": {},
   "outputs": [],
   "source": [
    "ex = feats_simclr.tensors[0]\n",
    "ex.shape"
   ]
  },
  {
   "cell_type": "code",
   "execution_count": 12,
   "metadata": {},
   "outputs": [],
   "source": [
    "# Save in the current folder\n",
    "save_path = \"ex.pt\"  # File name only\n",
    "\n",
    "# Save the tensor\n",
    "torch.save(ex, save_path)"
   ]
  },
  {
   "cell_type": "markdown",
   "metadata": {},
   "source": [
    "From scratch"
   ]
  },
  {
   "cell_type": "code",
   "execution_count": 13,
   "metadata": {},
   "outputs": [],
   "source": [
    "# K-Means initialization function\n",
    "def kMeans_init_centroids(X, K):\n",
    "    randidx = np.random.permutation(X.shape[0])\n",
    "    centroids = X[randidx[:K]]\n",
    "    return centroids\n",
    "\n",
    "# Function to find the closest centroids using Cosine Similarity\n",
    "def find_closest_centroids(X, centroids):\n",
    "    # Normalize both the data points and centroids to ensure we compute cosine similarity\n",
    "    #X_norm = normalize(X, axis=1)\n",
    "    #centroids_norm = normalize(centroids, axis=1)\n",
    "    \n",
    "    # Assign data points to closest centroids based on cosine similarity\n",
    "    idx = np.zeros(X.shape[0], dtype=int)\n",
    "    for i in range(X.shape[0]):\n",
    "        # Compute cosine similarity\n",
    "        similarities = np.dot(centroids, X[i])  # Dot product gives cosine similarity\n",
    "        idx[i] = np.argmax(similarities)  # We want the most similar (highest value)\n",
    "    return idx\n",
    "\n",
    "# Function to compute new centroids\n",
    "def compute_centroids(X, idx, K):\n",
    "    centroids = np.zeros((K, X.shape[1]))  # Use shape[1] for features\n",
    "    for k in range(K):\n",
    "        points = X[idx == k]\n",
    "        if len(points) > 0:\n",
    "            centroids[k] = np.mean(points, axis=0)   # noralised vectors mean maynot be normalised. hence we normalise before calculating mean.https://chatgpt.com/share/671b97a7-ec2c-8010-af33-af106df0a25c\n",
    "            centroids_norm = normalize(centroids, axis=1)\n",
    "    return centroids_norm\n",
    "\n",
    "# Function to run K-Means algorithm with cost tracking (using Cosine Similarity)\n",
    "def run_kMeans(X, initial_centroids, max_iters=10):\n",
    "    K = initial_centroids.shape[0]\n",
    "    centroids = initial_centroids\n",
    "    idx = np.zeros(X.shape[0])\n",
    "    \n",
    "    best_centroids = centroids\n",
    "    lowest_cost = float('inf')\n",
    "    final_iteration = 0  # To keep track of the iteration where the best centroids were found\n",
    "    best_idx = idx  # Track the best index assignment\n",
    "\n",
    "    for i in range(max_iters):\n",
    "        print(f\"K-Means iteration {i}/{max_iters - 1}\")\n",
    "        \n",
    "        # Assign each data point to the closest centroid using cosine similarity\n",
    "        idx = find_closest_centroids(X, centroids)\n",
    "        \n",
    "        # Compute new centroids\n",
    "        centroids = compute_centroids(X, idx, K)\n",
    "\n",
    "        # Calculate cost function for the current centroids using cosine distance\n",
    "\n",
    "        # 1. Compute cosine similarity\n",
    "        sim = np.dot(X, centroids.T)\n",
    "        #print(sim.shape)\n",
    "        #print(sim)\n",
    "        # 2. Calculate cosine distance\n",
    "        cosine_dist = 1 - sim\n",
    "        #print(cosine_dist.shape)\n",
    "        #print(cosine_dist)\n",
    "        # 3. Find maximum cosine distance for each data point\n",
    "        #max_cosine_dist = cosine_dist.max(axis=1)\n",
    "        #print(max_cosine_dist.shape)\n",
    "        #print(max_cosine_dist)\n",
    "        cost = np.sum(cosine_dist)\n",
    "\n",
    "        # 4. Sum of all maximum distances\n",
    "        #cost = np.sum(max_cosine_dist)\n",
    "\n",
    "        #cost = np.sum(1 - np.dot(X_norm, centroids_norm.T).max(axis=1))  # Cosine distance = 1 - cosine similarity  \n",
    "        print(f\"Cost function value: {cost}\")  # Print the cost function value\n",
    "\n",
    "        # Check if this is the best cost so far\n",
    "        if cost < lowest_cost:\n",
    "            lowest_cost = cost\n",
    "            best_centroids = centroids\n",
    "            best_idx = idx.copy()\n",
    "            final_iteration = i  # Update the iteration where best centroids were found\n",
    "\n",
    "    print(f\"Final centroids selected from iteration: {final_iteration}\")  # Indicate which iteration was chosen\n",
    "    return best_centroids, best_idx, centroids,idx  # Return the best centroids\n"
   ]
  },
  {
   "cell_type": "code",
   "execution_count": 14,
   "metadata": {},
   "outputs": [
    {
     "name": "stdout",
     "output_type": "stream",
     "text": [
      "K-Means iteration 0/99\n",
      "Cost function value: 125.09345403757962\n",
      "K-Means iteration 1/99\n",
      "Cost function value: 125.09345403757962\n",
      "K-Means iteration 2/99\n",
      "Cost function value: 125.09345403757962\n",
      "K-Means iteration 3/99\n",
      "Cost function value: 125.09345403757962\n",
      "K-Means iteration 4/99\n",
      "Cost function value: 125.09345403757962\n",
      "K-Means iteration 5/99\n",
      "Cost function value: 125.09345403757962\n",
      "K-Means iteration 6/99\n",
      "Cost function value: 125.09345403757962\n",
      "K-Means iteration 7/99\n",
      "Cost function value: 125.09345403757962\n",
      "K-Means iteration 8/99\n",
      "Cost function value: 125.09345403757962\n",
      "K-Means iteration 9/99\n",
      "Cost function value: 125.09345403757962\n",
      "K-Means iteration 10/99\n",
      "Cost function value: 125.09345403757962\n",
      "K-Means iteration 11/99\n",
      "Cost function value: 125.09345403757962\n",
      "K-Means iteration 12/99\n",
      "Cost function value: 125.09345403757962\n",
      "K-Means iteration 13/99\n",
      "Cost function value: 125.09345403757962\n",
      "K-Means iteration 14/99\n",
      "Cost function value: 125.09345403757962\n",
      "K-Means iteration 15/99\n",
      "Cost function value: 125.09345403757962\n",
      "K-Means iteration 16/99\n",
      "Cost function value: 125.09345403757962\n",
      "K-Means iteration 17/99\n",
      "Cost function value: 125.09345403757962\n",
      "K-Means iteration 18/99\n",
      "Cost function value: 125.09345403757962\n",
      "K-Means iteration 19/99\n",
      "Cost function value: 125.09345403757962\n",
      "K-Means iteration 20/99\n",
      "Cost function value: 125.09345403757962\n",
      "K-Means iteration 21/99\n",
      "Cost function value: 125.09345403757962\n",
      "K-Means iteration 22/99\n",
      "Cost function value: 125.09345403757962\n",
      "K-Means iteration 23/99\n",
      "Cost function value: 125.09345403757962\n",
      "K-Means iteration 24/99\n",
      "Cost function value: 125.09345403757962\n",
      "K-Means iteration 25/99\n",
      "Cost function value: 125.09345403757962\n",
      "K-Means iteration 26/99\n",
      "Cost function value: 125.09345403757962\n",
      "K-Means iteration 27/99\n",
      "Cost function value: 125.09345403757962\n",
      "K-Means iteration 28/99\n",
      "Cost function value: 125.09345403757962\n",
      "K-Means iteration 29/99\n",
      "Cost function value: 125.09345403757962\n",
      "K-Means iteration 30/99\n",
      "Cost function value: 125.09345403757962\n",
      "K-Means iteration 31/99\n",
      "Cost function value: 125.09345403757962\n",
      "K-Means iteration 32/99\n",
      "Cost function value: 125.09345403757962\n",
      "K-Means iteration 33/99\n",
      "Cost function value: 125.09345403757962\n",
      "K-Means iteration 34/99\n",
      "Cost function value: 125.09345403757962\n",
      "K-Means iteration 35/99\n",
      "Cost function value: 125.09345403757962\n",
      "K-Means iteration 36/99\n",
      "Cost function value: 125.09345403757962\n",
      "K-Means iteration 37/99\n",
      "Cost function value: 125.09345403757962\n",
      "K-Means iteration 38/99\n",
      "Cost function value: 125.09345403757962\n",
      "K-Means iteration 39/99\n",
      "Cost function value: 125.09345403757962\n",
      "K-Means iteration 40/99\n",
      "Cost function value: 125.09345403757962\n",
      "K-Means iteration 41/99\n",
      "Cost function value: 125.09345403757962\n",
      "K-Means iteration 42/99\n",
      "Cost function value: 125.09345403757962\n",
      "K-Means iteration 43/99\n",
      "Cost function value: 125.09345403757962\n",
      "K-Means iteration 44/99\n",
      "Cost function value: 125.09345403757962\n",
      "K-Means iteration 45/99\n",
      "Cost function value: 125.09345403757962\n",
      "K-Means iteration 46/99\n",
      "Cost function value: 125.09345403757962\n",
      "K-Means iteration 47/99\n",
      "Cost function value: 125.09345403757962\n",
      "K-Means iteration 48/99\n",
      "Cost function value: 125.09345403757962\n",
      "K-Means iteration 49/99\n",
      "Cost function value: 125.09345403757962\n",
      "K-Means iteration 50/99\n",
      "Cost function value: 125.09345403757962\n",
      "K-Means iteration 51/99\n",
      "Cost function value: 125.09345403757962\n",
      "K-Means iteration 52/99\n",
      "Cost function value: 125.09345403757962\n",
      "K-Means iteration 53/99\n",
      "Cost function value: 125.09345403757962\n",
      "K-Means iteration 54/99\n",
      "Cost function value: 125.09345403757962\n",
      "K-Means iteration 55/99\n",
      "Cost function value: 125.09345403757962\n",
      "K-Means iteration 56/99\n",
      "Cost function value: 125.09345403757962\n",
      "K-Means iteration 57/99\n",
      "Cost function value: 125.09345403757962\n",
      "K-Means iteration 58/99\n",
      "Cost function value: 125.09345403757962\n",
      "K-Means iteration 59/99\n",
      "Cost function value: 125.09345403757962\n",
      "K-Means iteration 60/99\n",
      "Cost function value: 125.09345403757962\n",
      "K-Means iteration 61/99\n",
      "Cost function value: 125.09345403757962\n",
      "K-Means iteration 62/99\n",
      "Cost function value: 125.09345403757962\n",
      "K-Means iteration 63/99\n",
      "Cost function value: 125.09345403757962\n",
      "K-Means iteration 64/99\n",
      "Cost function value: 125.09345403757962\n",
      "K-Means iteration 65/99\n",
      "Cost function value: 125.09345403757962\n",
      "K-Means iteration 66/99\n",
      "Cost function value: 125.09345403757962\n",
      "K-Means iteration 67/99\n",
      "Cost function value: 125.09345403757962\n",
      "K-Means iteration 68/99\n",
      "Cost function value: 125.09345403757962\n",
      "K-Means iteration 69/99\n",
      "Cost function value: 125.09345403757962\n",
      "K-Means iteration 70/99\n",
      "Cost function value: 125.09345403757962\n",
      "K-Means iteration 71/99\n",
      "Cost function value: 125.09345403757962\n",
      "K-Means iteration 72/99\n",
      "Cost function value: 125.09345403757962\n",
      "K-Means iteration 73/99\n",
      "Cost function value: 125.09345403757962\n",
      "K-Means iteration 74/99\n",
      "Cost function value: 125.09345403757962\n",
      "K-Means iteration 75/99\n",
      "Cost function value: 125.09345403757962\n",
      "K-Means iteration 76/99\n",
      "Cost function value: 125.09345403757962\n",
      "K-Means iteration 77/99\n",
      "Cost function value: 125.09345403757962\n",
      "K-Means iteration 78/99\n",
      "Cost function value: 125.09345403757962\n",
      "K-Means iteration 79/99\n",
      "Cost function value: 125.09345403757962\n",
      "K-Means iteration 80/99\n",
      "Cost function value: 125.09345403757962\n",
      "K-Means iteration 81/99\n",
      "Cost function value: 125.09345403757962\n",
      "K-Means iteration 82/99\n",
      "Cost function value: 125.09345403757962\n",
      "K-Means iteration 83/99\n",
      "Cost function value: 125.09345403757962\n",
      "K-Means iteration 84/99\n",
      "Cost function value: 125.09345403757962\n",
      "K-Means iteration 85/99\n",
      "Cost function value: 125.09345403757962\n",
      "K-Means iteration 86/99\n",
      "Cost function value: 125.09345403757962\n",
      "K-Means iteration 87/99\n",
      "Cost function value: 125.09345403757962\n",
      "K-Means iteration 88/99\n",
      "Cost function value: 125.09345403757962\n",
      "K-Means iteration 89/99\n",
      "Cost function value: 125.09345403757962\n",
      "K-Means iteration 90/99\n",
      "Cost function value: 125.09345403757962\n",
      "K-Means iteration 91/99\n",
      "Cost function value: 125.09345403757962\n",
      "K-Means iteration 92/99\n",
      "Cost function value: 125.09345403757962\n",
      "K-Means iteration 93/99\n",
      "Cost function value: 125.09345403757962\n",
      "K-Means iteration 94/99\n",
      "Cost function value: 125.09345403757962\n",
      "K-Means iteration 95/99\n",
      "Cost function value: 125.09345403757962\n",
      "K-Means iteration 96/99\n",
      "Cost function value: 125.09345403757962\n",
      "K-Means iteration 97/99\n",
      "Cost function value: 125.09345403757962\n",
      "K-Means iteration 98/99\n",
      "Cost function value: 125.09345403757962\n",
      "K-Means iteration 99/99\n",
      "Cost function value: 125.09345403757962\n",
      "Final centroids selected from iteration: 0\n",
      "Final centroids: [[0.0284861  0.04181024 0.0323715  0.013344   0.02610228 0.00437459\n",
      "  0.06612504 0.06263721 0.03090994 0.01217869 0.04778835 0.02856439\n",
      "  0.06716992 0.05888197 0.04335268 0.02489846 0.02284731 0.02588897\n",
      "  0.06875481 0.03168886 0.00517333 0.05688336 0.02758779 0.01912616\n",
      "  0.02776089 0.06769368 0.01423353 0.03199789 0.03527971 0.0182767\n",
      "  0.03529564 0.0273953  0.06103563 0.01756095 0.0391523  0.05487092\n",
      "  0.04842202 0.04183414 0.04717883 0.04429422 0.04762543 0.05340298\n",
      "  0.01981788 0.04363268 0.03607634 0.04368117 0.06314633 0.05784154\n",
      "  0.04066202 0.05528924 0.08860115 0.04481664 0.02340568 0.03173748\n",
      "  0.04981163 0.08011734 0.04040683 0.05838465 0.05357033 0.03876581\n",
      "  0.0343742  0.0222839  0.03933549 0.02885191 0.05473435 0.03955213\n",
      "  0.06143057 0.01795542 0.01476406 0.03957616 0.0124766  0.04785763\n",
      "  0.01967475 0.03229446 0.04094124 0.00753956 0.05212323 0.05568806\n",
      "  0.04727431 0.02712658 0.03018766 0.04690035 0.06441478 0.04952216\n",
      "  0.05423364 0.03543811 0.0614289  0.07213249 0.02182302 0.02345324\n",
      "  0.05888918 0.05371861 0.04737121 0.05290665 0.0262942  0.05384012\n",
      "  0.04727445 0.06349845 0.05736002 0.02814648 0.07026001 0.05836144\n",
      "  0.00953997 0.06317858 0.03858118 0.04052331 0.04305847 0.04864086\n",
      "  0.03562243 0.03508647 0.02011354 0.00824528 0.01032516 0.02933093\n",
      "  0.04436496 0.03619401 0.05829369 0.07150156 0.04766461 0.03499062\n",
      "  0.05358483 0.0428798  0.0373828  0.04846886 0.01313447 0.02757934\n",
      "  0.03530266 0.01397302 0.01881658 0.00675535 0.04715583 0.02441531\n",
      "  0.01265248 0.03609301 0.0352169  0.03075026 0.02143977 0.02439648\n",
      "  0.06031518 0.07301679 0.05611014 0.04235442 0.02350989 0.04249115\n",
      "  0.03892006 0.03385647 0.06063962 0.02974594 0.0141443  0.06647046\n",
      "  0.03102344 0.02064294 0.05444173 0.03164942 0.03113854 0.06729298\n",
      "  0.06494509 0.06146331 0.02860856 0.06789402 0.07162392 0.01570238\n",
      "  0.05344893 0.08994565 0.04885331 0.0456011  0.03784397 0.06438245\n",
      "  0.0704354  0.0238435  0.03635494 0.03187706 0.0332797  0.01228959\n",
      "  0.03045927 0.03270919 0.04880131 0.04433946 0.04599385 0.03181842\n",
      "  0.01580859 0.06564447 0.05886279 0.04846735 0.07371821 0.07818355\n",
      "  0.03454187 0.03188201 0.03746404 0.00922717 0.04224676 0.0192596\n",
      "  0.0451432  0.03496556 0.05843891 0.01247981 0.07034758 0.05182215\n",
      "  0.05419802 0.01346322 0.04746268 0.03886435 0.01486071 0.02418763\n",
      "  0.06106784 0.04613973 0.02627067 0.06216902 0.06971264 0.02865445\n",
      "  0.01336456 0.02943498 0.0319369  0.04065481 0.02325924 0.01966683\n",
      "  0.05654614 0.0561957  0.02386827 0.0221405  0.05259895 0.03250388\n",
      "  0.05778224 0.03952256 0.0404339  0.02637624 0.02955539 0.00659144\n",
      "  0.03423146 0.02919745 0.0261993  0.02039384 0.03144747 0.03579396\n",
      "  0.0420966  0.07115937 0.03951366 0.03328318 0.03270229 0.03776554\n",
      "  0.02588861 0.02498198 0.03657523 0.01055332 0.03670732 0.04366213\n",
      "  0.01683068 0.01569704 0.03587479 0.05689229 0.07139547 0.03772518\n",
      "  0.03458304 0.02765739 0.04024287 0.05691939 0.04582632 0.01775435\n",
      "  0.04455946 0.05375992 0.0449208  0.04780338 0.04721154 0.03452947\n",
      "  0.05844127 0.06480759 0.0528119  0.02877445 0.05916411 0.04091064\n",
      "  0.02057326 0.05641403 0.02176336 0.03541132 0.05774081 0.03935853\n",
      "  0.07157622 0.05647962 0.03814651 0.0307563  0.07307319 0.05050177\n",
      "  0.05633546 0.0456761  0.02437185 0.05050637 0.01867311 0.03654494\n",
      "  0.02768929 0.0457868  0.05151309 0.01430427 0.01523928 0.06810187\n",
      "  0.01371886 0.00892483 0.04544668 0.04799137 0.05337774 0.04199537\n",
      "  0.06060486 0.02017899 0.05382083 0.0509769  0.04313915 0.02491173\n",
      "  0.04568334 0.07024063 0.01127537 0.03596219 0.03685948 0.06252395\n",
      "  0.02456225 0.02038284 0.06007759 0.01251878 0.0602965  0.04537457\n",
      "  0.04179628 0.02981011 0.04722082 0.04810939 0.02221576 0.05861641\n",
      "  0.04041472 0.04534757 0.01176816 0.03613484 0.04887771 0.03005806\n",
      "  0.04730381 0.03373589 0.02828247 0.02487278 0.05490699 0.03665281\n",
      "  0.02665822 0.01232937 0.03005967 0.03680583 0.00646405 0.03847402\n",
      "  0.03986174 0.04898527 0.01204435 0.06555518 0.00919683 0.01593872\n",
      "  0.02757528 0.06888408 0.05522924 0.02998275 0.05405364 0.03518604\n",
      "  0.03880975 0.01827611 0.04586052 0.05811354 0.03022489 0.03452418\n",
      "  0.03322253 0.03156124 0.04427948 0.03471487 0.02021362 0.01713681\n",
      "  0.02880876 0.05183858 0.06960699 0.00645614 0.07092861 0.01833973\n",
      "  0.03171164 0.04726736 0.02977546 0.02215497 0.02166737 0.05814985\n",
      "  0.06443096 0.01291095 0.04971294 0.04036224 0.03427414 0.0190443\n",
      "  0.07681498 0.03675092 0.03248123 0.0449372  0.06596496 0.06152978\n",
      "  0.02281782 0.04780224 0.02223511 0.07444054 0.0370934  0.058431\n",
      "  0.04104221 0.05548907 0.04528383 0.05490676 0.07051541 0.02698414\n",
      "  0.04673165 0.05295842 0.06368673 0.03946928 0.04655171 0.06454597\n",
      "  0.03100062 0.02720034 0.03181253 0.03271762 0.05889187 0.04369535\n",
      "  0.01616147 0.03829489 0.00859052 0.04497541 0.00881697 0.0129437\n",
      "  0.05672792 0.03512116 0.04272092 0.02778337 0.05911637 0.04257943\n",
      "  0.06066878 0.02467021 0.04326292 0.02704332 0.0220731  0.05391711\n",
      "  0.02663726 0.05351534 0.06850325 0.06468194 0.05284119 0.06359978\n",
      "  0.04456279 0.04862601 0.04446761 0.02813149 0.05702586 0.05734989\n",
      "  0.05354991 0.06314432 0.06031879 0.05719031 0.00399607 0.04430344\n",
      "  0.01803697 0.04300293 0.07970515 0.04415429 0.02657233 0.0489729\n",
      "  0.01655698 0.03922698 0.05780207 0.07326564 0.03928963 0.05387782\n",
      "  0.02167177 0.03735235 0.06192745 0.00755643 0.02806835 0.05340014\n",
      "  0.061755   0.03070228 0.04946313 0.05333583 0.08301334 0.03164266\n",
      "  0.04319022 0.02423796 0.01757546 0.02490034 0.04456085 0.07049641\n",
      "  0.02290432 0.01917939 0.01188386 0.01185537 0.07587739 0.07536642\n",
      "  0.06999085 0.03564105 0.01611966 0.04423679 0.04706916 0.0053216\n",
      "  0.05111925 0.06222996 0.07422251 0.03163615 0.0295027  0.0573327\n",
      "  0.03203794 0.05849076 0.00995393 0.06345028 0.02676299 0.05564218\n",
      "  0.03721818 0.051227   0.01709158 0.06251497 0.07003178 0.05583075\n",
      "  0.04549635 0.0238131 ]]\n",
      "Cost function value: 125.09345403757962\n",
      "K-Means iteration 94/99\n",
      "Cost function value: 125.09345403757962\n",
      "K-Means iteration 95/99\n",
      "Cost function value: 125.09345403757962\n",
      "K-Means iteration 96/99\n",
      "Cost function value: 125.09345403757962\n",
      "K-Means iteration 97/99\n",
      "Cost function value: 125.09345403757962\n",
      "K-Means iteration 98/99\n",
      "Cost function value: 125.09345403757962\n",
      "K-Means iteration 99/99\n",
      "Cost function value: 125.09345403757962\n",
      "Final centroids selected from iteration: 0\n",
      "Final centroids: [[0.0284861  0.04181024 0.0323715  0.013344   0.02610228 0.00437459\n",
      "  0.06612504 0.06263721 0.03090994 0.01217869 0.04778835 0.02856439\n",
      "  0.06716992 0.05888197 0.04335268 0.02489846 0.02284731 0.02588897\n",
      "  0.06875481 0.03168886 0.00517333 0.05688336 0.02758779 0.01912616\n",
      "  0.02776089 0.06769368 0.01423353 0.03199789 0.03527971 0.0182767\n",
      "  0.03529564 0.0273953  0.06103563 0.01756095 0.0391523  0.05487092\n",
      "  0.04842202 0.04183414 0.04717883 0.04429422 0.04762543 0.05340298\n",
      "  0.01981788 0.04363268 0.03607634 0.04368117 0.06314633 0.05784154\n",
      "  0.04066202 0.05528924 0.08860115 0.04481664 0.02340568 0.03173748\n",
      "  0.04981163 0.08011734 0.04040683 0.05838465 0.05357033 0.03876581\n",
      "  0.0343742  0.0222839  0.03933549 0.02885191 0.05473435 0.03955213\n",
      "  0.06143057 0.01795542 0.01476406 0.03957616 0.0124766  0.04785763\n",
      "  0.01967475 0.03229446 0.04094124 0.00753956 0.05212323 0.05568806\n",
      "  0.04727431 0.02712658 0.03018766 0.04690035 0.06441478 0.04952216\n",
      "  0.05423364 0.03543811 0.0614289  0.07213249 0.02182302 0.02345324\n",
      "  0.05888918 0.05371861 0.04737121 0.05290665 0.0262942  0.05384012\n",
      "  0.04727445 0.06349845 0.05736002 0.02814648 0.07026001 0.05836144\n",
      "  0.00953997 0.06317858 0.03858118 0.04052331 0.04305847 0.04864086\n",
      "  0.03562243 0.03508647 0.02011354 0.00824528 0.01032516 0.02933093\n",
      "  0.04436496 0.03619401 0.05829369 0.07150156 0.04766461 0.03499062\n",
      "  0.05358483 0.0428798  0.0373828  0.04846886 0.01313447 0.02757934\n",
      "  0.03530266 0.01397302 0.01881658 0.00675535 0.04715583 0.02441531\n",
      "  0.01265248 0.03609301 0.0352169  0.03075026 0.02143977 0.02439648\n",
      "  0.06031518 0.07301679 0.05611014 0.04235442 0.02350989 0.04249115\n",
      "  0.03892006 0.03385647 0.06063962 0.02974594 0.0141443  0.06647046\n",
      "  0.03102344 0.02064294 0.05444173 0.03164942 0.03113854 0.06729298\n",
      "  0.06494509 0.06146331 0.02860856 0.06789402 0.07162392 0.01570238\n",
      "  0.05344893 0.08994565 0.04885331 0.0456011  0.03784397 0.06438245\n",
      "  0.0704354  0.0238435  0.03635494 0.03187706 0.0332797  0.01228959\n",
      "  0.03045927 0.03270919 0.04880131 0.04433946 0.04599385 0.03181842\n",
      "  0.01580859 0.06564447 0.05886279 0.04846735 0.07371821 0.07818355\n",
      "  0.03454187 0.03188201 0.03746404 0.00922717 0.04224676 0.0192596\n",
      "  0.0451432  0.03496556 0.05843891 0.01247981 0.07034758 0.05182215\n",
      "  0.05419802 0.01346322 0.04746268 0.03886435 0.01486071 0.02418763\n",
      "  0.06106784 0.04613973 0.02627067 0.06216902 0.06971264 0.02865445\n",
      "  0.01336456 0.02943498 0.0319369  0.04065481 0.02325924 0.01966683\n",
      "  0.05654614 0.0561957  0.02386827 0.0221405  0.05259895 0.03250388\n",
      "  0.05778224 0.03952256 0.0404339  0.02637624 0.02955539 0.00659144\n",
      "  0.03423146 0.02919745 0.0261993  0.02039384 0.03144747 0.03579396\n",
      "  0.0420966  0.07115937 0.03951366 0.03328318 0.03270229 0.03776554\n",
      "  0.02588861 0.02498198 0.03657523 0.01055332 0.03670732 0.04366213\n",
      "  0.01683068 0.01569704 0.03587479 0.05689229 0.07139547 0.03772518\n",
      "  0.03458304 0.02765739 0.04024287 0.05691939 0.04582632 0.01775435\n",
      "  0.04455946 0.05375992 0.0449208  0.04780338 0.04721154 0.03452947\n",
      "  0.05844127 0.06480759 0.0528119  0.02877445 0.05916411 0.04091064\n",
      "  0.02057326 0.05641403 0.02176336 0.03541132 0.05774081 0.03935853\n",
      "  0.07157622 0.05647962 0.03814651 0.0307563  0.07307319 0.05050177\n",
      "  0.05633546 0.0456761  0.02437185 0.05050637 0.01867311 0.03654494\n",
      "  0.02768929 0.0457868  0.05151309 0.01430427 0.01523928 0.06810187\n",
      "  0.01371886 0.00892483 0.04544668 0.04799137 0.05337774 0.04199537\n",
      "  0.06060486 0.02017899 0.05382083 0.0509769  0.04313915 0.02491173\n",
      "  0.04568334 0.07024063 0.01127537 0.03596219 0.03685948 0.06252395\n",
      "  0.02456225 0.02038284 0.06007759 0.01251878 0.0602965  0.04537457\n",
      "  0.04179628 0.02981011 0.04722082 0.04810939 0.02221576 0.05861641\n",
      "  0.04041472 0.04534757 0.01176816 0.03613484 0.04887771 0.03005806\n",
      "  0.04730381 0.03373589 0.02828247 0.02487278 0.05490699 0.03665281\n",
      "  0.02665822 0.01232937 0.03005967 0.03680583 0.00646405 0.03847402\n",
      "  0.03986174 0.04898527 0.01204435 0.06555518 0.00919683 0.01593872\n",
      "  0.02757528 0.06888408 0.05522924 0.02998275 0.05405364 0.03518604\n",
      "  0.03880975 0.01827611 0.04586052 0.05811354 0.03022489 0.03452418\n",
      "  0.03322253 0.03156124 0.04427948 0.03471487 0.02021362 0.01713681\n",
      "  0.02880876 0.05183858 0.06960699 0.00645614 0.07092861 0.01833973\n",
      "  0.03171164 0.04726736 0.02977546 0.02215497 0.02166737 0.05814985\n",
      "  0.06443096 0.01291095 0.04971294 0.04036224 0.03427414 0.0190443\n",
      "  0.07681498 0.03675092 0.03248123 0.0449372  0.06596496 0.06152978\n",
      "  0.02281782 0.04780224 0.02223511 0.07444054 0.0370934  0.058431\n",
      "  0.04104221 0.05548907 0.04528383 0.05490676 0.07051541 0.02698414\n",
      "  0.04673165 0.05295842 0.06368673 0.03946928 0.04655171 0.06454597\n",
      "  0.03100062 0.02720034 0.03181253 0.03271762 0.05889187 0.04369535\n",
      "  0.01616147 0.03829489 0.00859052 0.04497541 0.00881697 0.0129437\n",
      "  0.05672792 0.03512116 0.04272092 0.02778337 0.05911637 0.04257943\n",
      "  0.06066878 0.02467021 0.04326292 0.02704332 0.0220731  0.05391711\n",
      "  0.02663726 0.05351534 0.06850325 0.06468194 0.05284119 0.06359978\n",
      "  0.04456279 0.04862601 0.04446761 0.02813149 0.05702586 0.05734989\n",
      "  0.05354991 0.06314432 0.06031879 0.05719031 0.00399607 0.04430344\n",
      "  0.01803697 0.04300293 0.07970515 0.04415429 0.02657233 0.0489729\n",
      "  0.01655698 0.03922698 0.05780207 0.07326564 0.03928963 0.05387782\n",
      "  0.02167177 0.03735235 0.06192745 0.00755643 0.02806835 0.05340014\n",
      "  0.061755   0.03070228 0.04946313 0.05333583 0.08301334 0.03164266\n",
      "  0.04319022 0.02423796 0.01757546 0.02490034 0.04456085 0.07049641\n",
      "  0.02290432 0.01917939 0.01188386 0.01185537 0.07587739 0.07536642\n",
      "  0.06999085 0.03564105 0.01611966 0.04423679 0.04706916 0.0053216\n",
      "  0.05111925 0.06222996 0.07422251 0.03163615 0.0295027  0.0573327\n",
      "  0.03203794 0.05849076 0.00995393 0.06345028 0.02676299 0.05564218\n",
      "  0.03721818 0.051227   0.01709158 0.06251497 0.07003178 0.05583075\n",
      "  0.04549635 0.0238131 ]]\n"
     ]
    }
   ],
   "source": [
    "# Main function to run the K-Means algorithm\n",
    "\n",
    "K = 1                     # Set number of clusters\n",
    "initial_centroids = kMeans_init_centroids(feats_np_norm, K)  # Step 3: Initialize centroids\n",
    "max_iters = 100                # Step 4: Number of iterations\n",
    "best_centroids, best_idx, centroids, idx = run_kMeans(feats_np_norm, initial_centroids, max_iters)  # Step 5: Run K-Means\n",
    "print(\"Final centroids:\", centroids)  # Output the final centroids"
   ]
  },
  {
   "cell_type": "code",
   "execution_count": 15,
   "metadata": {},
   "outputs": [
    {
     "data": {
      "text/plain": [
       "(1, 512)"
      ]
     },
     "execution_count": 15,
     "metadata": {},
     "output_type": "execute_result"
    }
   ],
   "source": [
    "centroids.shape"
   ]
  },
  {
   "cell_type": "code",
   "execution_count": 16,
   "metadata": {},
   "outputs": [
    {
     "data": {
      "text/plain": [
       "numpy.ndarray"
      ]
     },
     "execution_count": 16,
     "metadata": {},
     "output_type": "execute_result"
    }
   ],
   "source": [
    "type(centroids)"
   ]
  },
  {
   "cell_type": "code",
   "execution_count": 17,
   "metadata": {},
   "outputs": [],
   "source": [
    "np.save('condall.npy', centroids)"
   ]
  },
  {
   "cell_type": "code",
   "execution_count": 17,
   "metadata": {},
   "outputs": [],
   "source": [
    "np.save('ex.npy', centroids)"
   ]
  },
  {
   "cell_type": "code",
   "execution_count": 17,
   "metadata": {},
   "outputs": [],
   "source": [
    "np.save('cond7.npy', centroids)"
   ]
  },
  {
   "cell_type": "code",
   "execution_count": 17,
   "metadata": {},
   "outputs": [],
   "source": [
    "np.save('sd.npy', centroids)"
   ]
  },
  {
   "cell_type": "code",
   "execution_count": null,
   "metadata": {},
   "outputs": [],
   "source": []
  }
 ],
 "metadata": {
  "kernelspec": {
   "display_name": "master",
   "language": "python",
   "name": "python3"
  },
  "language_info": {
   "codemirror_mode": {
    "name": "ipython",
    "version": 3
   },
   "file_extension": ".py",
   "mimetype": "text/x-python",
   "name": "python",
   "nbconvert_exporter": "python",
   "pygments_lexer": "ipython3",
   "version": "3.12.3"
  }
 },
 "nbformat": 4,
 "nbformat_minor": 2
}
