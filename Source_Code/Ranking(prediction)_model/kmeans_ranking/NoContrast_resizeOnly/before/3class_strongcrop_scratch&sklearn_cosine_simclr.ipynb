{
 "cells": [
  {
   "cell_type": "code",
   "execution_count": 1,
   "metadata": {},
   "outputs": [],
   "source": [
    "import os\n",
    "import numpy as np\n",
    "import torch\n",
    "from torch import nn, optim\n",
    "from torch.utils.data import Dataset, DataLoader, random_split\n",
    "from torchvision import transforms\n",
    "import torchvision\n",
    "import tifffile as tiff\n",
    "import matplotlib.pyplot as plt\n",
    "import time\n",
    "from tqdm import tqdm\n",
    "from copy import deepcopy\n",
    "import random\n",
    "from sklearn.preprocessing import normalize\n",
    "\n",
    "from collections import Counter\n",
    "from scipy.stats import mode"
   ]
  },
  {
   "cell_type": "code",
   "execution_count": 2,
   "metadata": {},
   "outputs": [],
   "source": [
    "# Set seed for reproducibility\n",
    "def set_seed(seed):\n",
    "    random.seed(seed)\n",
    "    np.random.seed(seed)\n",
    "    torch.manual_seed(seed)\n",
    "    if torch.cuda.is_available():\n",
    "        torch.cuda.manual_seed(seed)\n",
    "        torch.cuda.manual_seed_all(seed)\n",
    "    torch.backends.cudnn.deterministic = True\n",
    "    torch.backends.cudnn.benchmark = False\n",
    "\n",
    "# Set seed\n",
    "set_seed(42)"
   ]
  },
  {
   "cell_type": "code",
   "execution_count": 3,
   "metadata": {},
   "outputs": [],
   "source": [
    "# Set the device\n",
    "device = torch.device(\"cuda\" if torch.cuda.is_available() else \"cpu\")"
   ]
  },
  {
   "cell_type": "code",
   "execution_count": 4,
   "metadata": {},
   "outputs": [],
   "source": [
    "class SimCLR(nn.Module):\n",
    "    def __init__(self, hidden_dim, lr, temperature, weight_decay,max_epochs):\n",
    "        super().__init__()\n",
    "        self.temperature = temperature\n",
    "        \n",
    "        # Load the pretrained ResNet-18 model\n",
    "        self.convnet = torchvision.models.resnet18(weights='ResNet18_Weights.DEFAULT')\n",
    "        \n",
    "        # Modify the fully connected layer\n",
    "        self.convnet.fc = nn.Sequential(\n",
    "            nn.Linear(self.convnet.fc.in_features, 4 * hidden_dim),  # Linear layer with 4*hidden_dim output\n",
    "            nn.ReLU(inplace=True),\n",
    "            nn.Linear(4 * hidden_dim, 20)  # Output layer with hidden_dim output\n",
    "        )\n",
    "\n",
    "        self.optimizer = optim.AdamW(self.parameters(), lr=lr, weight_decay=weight_decay)\n",
    "        self.lr_scheduler = optim.lr_scheduler.CosineAnnealingLR(self.optimizer, T_max=max_epochs, eta_min=lr / 50)\n",
    "\n",
    "    def forward(self, x):\n",
    "        return self.convnet(x)\n",
    "\n",
    "    def info_nce_loss(self, imgs1, imgs2, device):\n",
    "\n",
    "        imgs = torch.cat((imgs1, imgs2), dim=0)  # Concatenate along the batch dimension\n",
    "        imgs = imgs.to(device)  # Move images to the device\n",
    "\n",
    "        # Encode all images\n",
    "        feats = self.forward(imgs)\n",
    "    \n",
    "        # Calculate cosine similarity\n",
    "        cos_sim = nn.functional.cosine_similarity(feats[:, None, :], feats[None, :, :], dim=-1)\n",
    "    \n",
    "        # Mask out cosine similarity to itself\n",
    "        self_mask = torch.eye(cos_sim.shape[0], dtype=torch.bool, device=cos_sim.device)\n",
    "        cos_sim.masked_fill_(self_mask, -9e15)\n",
    "    \n",
    "        # Find positive example -> batch_size//2 away from the original example\n",
    "        pos_mask = self_mask.roll(shifts=cos_sim.shape[0] // 2, dims=0)\n",
    "    \n",
    "        # Normalize similarity scores by temperature\n",
    "        cos_sim = cos_sim / self.temperature\n",
    "\n",
    "        # InfoNCE loss\n",
    "        nll = -cos_sim[pos_mask] + torch.logsumexp(cos_sim, dim=-1)\n",
    "        nll = nll.mean()\n",
    "\n",
    "        # Accuracy calculations\n",
    "        # Create a combination of positive and negative similarities for ranking\n",
    "        comb_sim = torch.cat([cos_sim[pos_mask][:, None],  # Positive example in first position\n",
    "                          cos_sim.masked_fill(pos_mask, -9e15)], dim=-1)\n",
    "    \n",
    "        # Sort and get the ranking position of the positive example\n",
    "        sim_argsort = comb_sim.argsort(dim=-1, descending=True).argmin(dim=-1)\n",
    "    \n",
    "        # Compute accuracy metrics\n",
    "        top1_acc = (sim_argsort == 0).float().mean()  # Top-1 accuracy\n",
    "        top5_acc = (sim_argsort < 5).float().mean()   # Top-5 accuracy\n",
    "        mean_pos = 1 + sim_argsort.float().mean()     # Mean position of the positive example\n",
    "\n",
    "        return nll, top1_acc, top5_acc, mean_pos\n",
    "\n",
    "    def train_epoch(self, train_loader, device):\n",
    "        self.train()\n",
    "        total_loss = 0.0\n",
    "        total_top1_acc = 0.0\n",
    "        total_top5_acc = 0.0\n",
    "        total_mean_pos = 0.0\n",
    "\n",
    "        for batch in tqdm(train_loader, desc=\"Training\", leave=False):\n",
    "            imgs1, imgs2, _ = batch\n",
    "            imgs1, imgs2 = imgs1.to(device), imgs2.to(device)  # Move data to device\n",
    "        \n",
    "            self.optimizer.zero_grad()\n",
    "\n",
    "            # Calculate loss and accuracy metrics\n",
    "            loss, top1_acc, top5_acc, mean_pos = self.info_nce_loss(imgs1, imgs2, device)\n",
    "\n",
    "            loss.backward()\n",
    "            self.optimizer.step()\n",
    "            #self.lr_scheduler.step()\n",
    "\n",
    "            # Accumulate metrics\n",
    "            total_loss += loss.item()\n",
    "            total_top1_acc += top1_acc.item()\n",
    "            total_top5_acc += top5_acc.item()\n",
    "            total_mean_pos += mean_pos.item()\n",
    "\n",
    "        avg_loss = total_loss / len(train_loader)\n",
    "        avg_top1_acc = total_top1_acc / len(train_loader)\n",
    "        avg_top5_acc = total_top5_acc / len(train_loader)\n",
    "        avg_mean_pos = total_mean_pos / len(train_loader)\n",
    "\n",
    "        return avg_loss, avg_top1_acc, avg_top5_acc, avg_mean_pos\n",
    "\n",
    "    def validate_epoch(self, val_loader, device):\n",
    "        self.eval()\n",
    "        total_loss = 0.0\n",
    "        total_top1_acc = 0.0\n",
    "        total_top5_acc = 0.0\n",
    "        total_mean_pos = 0.0\n",
    "\n",
    "        with torch.no_grad():\n",
    "            for batch in tqdm(val_loader, desc=\"Validating\", leave=False):\n",
    "                imgs1, imgs2, _ = batch\n",
    "                imgs1, imgs2 = imgs1.to(device), imgs2.to(device)  # Move data to device\n",
    "\n",
    "                # Calculate loss and accuracy metrics\n",
    "                loss, top1_acc, top5_acc, mean_pos = self.info_nce_loss(imgs1, imgs2, device)\n",
    "\n",
    "                # Accumulate metrics\n",
    "                total_loss += loss.item()\n",
    "                total_top1_acc += top1_acc.item()\n",
    "                total_top5_acc += top5_acc.item()\n",
    "                total_mean_pos += mean_pos.item()\n",
    "\n",
    "        avg_loss = total_loss / len(val_loader)\n",
    "        avg_top1_acc = total_top1_acc / len(val_loader)\n",
    "        avg_top5_acc = total_top5_acc / len(val_loader)\n",
    "        avg_mean_pos = total_mean_pos / len(val_loader)\n",
    "\n",
    "        return avg_loss, avg_top1_acc, avg_top5_acc, avg_mean_pos\n",
    "    \n",
    "\n",
    "    def inference_epoch(self, inference_loader, device):\n",
    "        self.eval()\n",
    "        total_loss = 0.0\n",
    "        total_top1_acc = 0.0\n",
    "        total_top5_acc = 0.0\n",
    "        total_mean_pos = 0.0\n",
    "\n",
    "        with torch.no_grad():\n",
    "            for batch in tqdm(inference_loader, desc=\"Inferencing\", leave=False):\n",
    "                imgs1, imgs2, _ = batch\n",
    "                imgs1, imgs2 = imgs1.to(device), imgs2.to(device)  # Move data to device\n",
    "\n",
    "                # Calculate loss and accuracy metrics\n",
    "                loss, top1_acc, top5_acc, mean_pos = self.info_nce_loss(imgs1, imgs2, device)\n",
    "\n",
    "                # Accumulate metrics\n",
    "                total_loss += loss.item()\n",
    "                total_top1_acc += top1_acc.item()\n",
    "                total_top5_acc += top5_acc.item()\n",
    "                total_mean_pos += mean_pos.item()\n",
    "\n",
    "        avg_loss = total_loss / len(inference_loader)\n",
    "        avg_top1_acc = total_top1_acc / len(inference_loader)\n",
    "        avg_top5_acc = total_top5_acc / len(inference_loader)\n",
    "        avg_mean_pos = total_mean_pos / len(inference_loader)\n",
    "\n",
    "        return avg_loss, avg_top1_acc, avg_top5_acc, avg_mean_pos"
   ]
  },
  {
   "cell_type": "code",
   "execution_count": 5,
   "metadata": {},
   "outputs": [
    {
     "name": "stderr",
     "output_type": "stream",
     "text": [
      "C:\\Users\\k54739\\AppData\\Local\\Temp\\ipykernel_181860\\3302094204.py:4: FutureWarning: You are using `torch.load` with `weights_only=False` (the current default value), which uses the default pickle module implicitly. It is possible to construct malicious pickle data which will execute arbitrary code during unpickling (See https://github.com/pytorch/pytorch/blob/main/SECURITY.md#untrusted-models for more details). In a future release, the default value for `weights_only` will be flipped to `True`. This limits the functions that could be executed during unpickling. Arbitrary objects will no longer be allowed to be loaded via this mode unless they are explicitly allowlisted by the user via `torch.serialization.add_safe_globals`. We recommend you start setting `weights_only=True` for any use case where you don't have full control of the loaded file. Please open an issue on GitHub for any issues related to this experimental feature.\n",
      "  simclr_model.load_state_dict(torch.load(model_path))\n"
     ]
    },
    {
     "data": {
      "text/plain": [
       "SimCLR(\n",
       "  (convnet): ResNet(\n",
       "    (conv1): Conv2d(3, 64, kernel_size=(7, 7), stride=(2, 2), padding=(3, 3), bias=False)\n",
       "    (bn1): BatchNorm2d(64, eps=1e-05, momentum=0.1, affine=True, track_running_stats=True)\n",
       "    (relu): ReLU(inplace=True)\n",
       "    (maxpool): MaxPool2d(kernel_size=3, stride=2, padding=1, dilation=1, ceil_mode=False)\n",
       "    (layer1): Sequential(\n",
       "      (0): BasicBlock(\n",
       "        (conv1): Conv2d(64, 64, kernel_size=(3, 3), stride=(1, 1), padding=(1, 1), bias=False)\n",
       "        (bn1): BatchNorm2d(64, eps=1e-05, momentum=0.1, affine=True, track_running_stats=True)\n",
       "        (relu): ReLU(inplace=True)\n",
       "        (conv2): Conv2d(64, 64, kernel_size=(3, 3), stride=(1, 1), padding=(1, 1), bias=False)\n",
       "        (bn2): BatchNorm2d(64, eps=1e-05, momentum=0.1, affine=True, track_running_stats=True)\n",
       "      )\n",
       "      (1): BasicBlock(\n",
       "        (conv1): Conv2d(64, 64, kernel_size=(3, 3), stride=(1, 1), padding=(1, 1), bias=False)\n",
       "        (bn1): BatchNorm2d(64, eps=1e-05, momentum=0.1, affine=True, track_running_stats=True)\n",
       "        (relu): ReLU(inplace=True)\n",
       "        (conv2): Conv2d(64, 64, kernel_size=(3, 3), stride=(1, 1), padding=(1, 1), bias=False)\n",
       "        (bn2): BatchNorm2d(64, eps=1e-05, momentum=0.1, affine=True, track_running_stats=True)\n",
       "      )\n",
       "    )\n",
       "    (layer2): Sequential(\n",
       "      (0): BasicBlock(\n",
       "        (conv1): Conv2d(64, 128, kernel_size=(3, 3), stride=(2, 2), padding=(1, 1), bias=False)\n",
       "        (bn1): BatchNorm2d(128, eps=1e-05, momentum=0.1, affine=True, track_running_stats=True)\n",
       "        (relu): ReLU(inplace=True)\n",
       "        (conv2): Conv2d(128, 128, kernel_size=(3, 3), stride=(1, 1), padding=(1, 1), bias=False)\n",
       "        (bn2): BatchNorm2d(128, eps=1e-05, momentum=0.1, affine=True, track_running_stats=True)\n",
       "        (downsample): Sequential(\n",
       "          (0): Conv2d(64, 128, kernel_size=(1, 1), stride=(2, 2), bias=False)\n",
       "          (1): BatchNorm2d(128, eps=1e-05, momentum=0.1, affine=True, track_running_stats=True)\n",
       "        )\n",
       "      )\n",
       "      (1): BasicBlock(\n",
       "        (conv1): Conv2d(128, 128, kernel_size=(3, 3), stride=(1, 1), padding=(1, 1), bias=False)\n",
       "        (bn1): BatchNorm2d(128, eps=1e-05, momentum=0.1, affine=True, track_running_stats=True)\n",
       "        (relu): ReLU(inplace=True)\n",
       "        (conv2): Conv2d(128, 128, kernel_size=(3, 3), stride=(1, 1), padding=(1, 1), bias=False)\n",
       "        (bn2): BatchNorm2d(128, eps=1e-05, momentum=0.1, affine=True, track_running_stats=True)\n",
       "      )\n",
       "    )\n",
       "    (layer3): Sequential(\n",
       "      (0): BasicBlock(\n",
       "        (conv1): Conv2d(128, 256, kernel_size=(3, 3), stride=(2, 2), padding=(1, 1), bias=False)\n",
       "        (bn1): BatchNorm2d(256, eps=1e-05, momentum=0.1, affine=True, track_running_stats=True)\n",
       "        (relu): ReLU(inplace=True)\n",
       "        (conv2): Conv2d(256, 256, kernel_size=(3, 3), stride=(1, 1), padding=(1, 1), bias=False)\n",
       "        (bn2): BatchNorm2d(256, eps=1e-05, momentum=0.1, affine=True, track_running_stats=True)\n",
       "        (downsample): Sequential(\n",
       "          (0): Conv2d(128, 256, kernel_size=(1, 1), stride=(2, 2), bias=False)\n",
       "          (1): BatchNorm2d(256, eps=1e-05, momentum=0.1, affine=True, track_running_stats=True)\n",
       "        )\n",
       "      )\n",
       "      (1): BasicBlock(\n",
       "        (conv1): Conv2d(256, 256, kernel_size=(3, 3), stride=(1, 1), padding=(1, 1), bias=False)\n",
       "        (bn1): BatchNorm2d(256, eps=1e-05, momentum=0.1, affine=True, track_running_stats=True)\n",
       "        (relu): ReLU(inplace=True)\n",
       "        (conv2): Conv2d(256, 256, kernel_size=(3, 3), stride=(1, 1), padding=(1, 1), bias=False)\n",
       "        (bn2): BatchNorm2d(256, eps=1e-05, momentum=0.1, affine=True, track_running_stats=True)\n",
       "      )\n",
       "    )\n",
       "    (layer4): Sequential(\n",
       "      (0): BasicBlock(\n",
       "        (conv1): Conv2d(256, 512, kernel_size=(3, 3), stride=(2, 2), padding=(1, 1), bias=False)\n",
       "        (bn1): BatchNorm2d(512, eps=1e-05, momentum=0.1, affine=True, track_running_stats=True)\n",
       "        (relu): ReLU(inplace=True)\n",
       "        (conv2): Conv2d(512, 512, kernel_size=(3, 3), stride=(1, 1), padding=(1, 1), bias=False)\n",
       "        (bn2): BatchNorm2d(512, eps=1e-05, momentum=0.1, affine=True, track_running_stats=True)\n",
       "        (downsample): Sequential(\n",
       "          (0): Conv2d(256, 512, kernel_size=(1, 1), stride=(2, 2), bias=False)\n",
       "          (1): BatchNorm2d(512, eps=1e-05, momentum=0.1, affine=True, track_running_stats=True)\n",
       "        )\n",
       "      )\n",
       "      (1): BasicBlock(\n",
       "        (conv1): Conv2d(512, 512, kernel_size=(3, 3), stride=(1, 1), padding=(1, 1), bias=False)\n",
       "        (bn1): BatchNorm2d(512, eps=1e-05, momentum=0.1, affine=True, track_running_stats=True)\n",
       "        (relu): ReLU(inplace=True)\n",
       "        (conv2): Conv2d(512, 512, kernel_size=(3, 3), stride=(1, 1), padding=(1, 1), bias=False)\n",
       "        (bn2): BatchNorm2d(512, eps=1e-05, momentum=0.1, affine=True, track_running_stats=True)\n",
       "      )\n",
       "    )\n",
       "    (avgpool): AdaptiveAvgPool2d(output_size=(1, 1))\n",
       "    (fc): Sequential(\n",
       "      (0): Linear(in_features=512, out_features=512, bias=True)\n",
       "      (1): ReLU(inplace=True)\n",
       "      (2): Linear(in_features=512, out_features=20, bias=True)\n",
       "    )\n",
       "  )\n",
       ")"
      ]
     },
     "execution_count": 5,
     "metadata": {},
     "output_type": "execute_result"
    }
   ],
   "source": [
    "# Define file paths\n",
    "model_path = r'C:\\Users\\k54739\\Bibi_new_thesis\\thesis\\Source_Code\\SimCLR_base_models\\ohnecontrast_balancedResize_simclr_modelepoch245.pth'\n",
    "simclr_model = SimCLR(hidden_dim=128, lr=5e-4, temperature=0.07, weight_decay=1e-4,max_epochs=245)\n",
    "simclr_model.load_state_dict(torch.load(model_path))\n",
    "simclr_model.to(device)\n",
    "simclr_model.eval()"
   ]
  },
  {
   "cell_type": "markdown",
   "metadata": {},
   "source": [
    "# Clustering"
   ]
  },
  {
   "cell_type": "code",
   "execution_count": 6,
   "metadata": {},
   "outputs": [
    {
     "name": "stdout",
     "output_type": "stream",
     "text": [
      "Label distribution: {'cond7_all': 472}\n"
     ]
    }
   ],
   "source": [
    "class LabeledImageDataset(Dataset):\n",
    "    def __init__(self, image_files, labels, transform=None):\n",
    "        self.image_files = image_files\n",
    "        self.labels = labels\n",
    "        #self.transform = transform\n",
    "        self.resize_transform = transforms.Resize((96, 96))\n",
    "\n",
    "    def __len__(self):\n",
    "        return len(self.image_files)\n",
    "\n",
    "    def __getitem__(self, idx):\n",
    "        img_path = self.image_files[idx]\n",
    "        image = tiff.imread(img_path)\n",
    "\n",
    "        # Ensure the image has 3 layers (channels)\n",
    "        if image.shape[0] != 3:\n",
    "            raise ValueError(f\"Image {img_path} does not have exactly 3 layers.\")\n",
    "\n",
    "        # Normalize the 16-bit image to [0, 1]\n",
    "        image = image.astype(np.float32) / 65535.0\n",
    "\n",
    "        # Convert to a torch tensor and add channel dimension\n",
    "        image = torch.tensor(image, dtype=torch.float32)\n",
    "        \n",
    "        # Apply resize transform\n",
    "        image = self.resize_transform(image)\n",
    "\n",
    "        label = self.labels[idx]\n",
    "\n",
    "        return image, label\n",
    "\n",
    "        #return image, label, img_path\n",
    "\n",
    "def load_data(root_dir):\n",
    "    \n",
    "    #classes = ['cond7_curated']\n",
    "    #classes = ['sd_only']\n",
    "    #classes = ['ex']\n",
    "    #classes = ['ds_closeto_sd']\n",
    "    classes = ['cond7_all']\n",
    "\n",
    "\n",
    "    image_files = []\n",
    "    labels = []\n",
    "\n",
    "    for idx, class_name in enumerate(classes):\n",
    "        class_dir = os.path.join(root_dir, class_name)\n",
    "        files = [os.path.join(class_dir, file) for file in os.listdir(class_dir) if file.endswith(('.tiff', '.tif'))]\n",
    "        image_files.extend(files)\n",
    "        labels.extend([idx] * len(files))\n",
    "    \n",
    "    # Check if the labels correctly reflect the classes\n",
    "    print(\"Label distribution:\", {classes[i]: labels.count(i) for i in range(len(classes))})\n",
    "\n",
    "    return image_files, labels\n",
    "\n",
    "\n",
    "# Directories for labeled data\n",
    "image_dir = r\"C:\\Users\\k54739\\Bibi_new_thesis\\thesis\\classification\"\n",
    "\n",
    "# Load data\n",
    "image_files, labels = load_data(image_dir)\n",
    "\n",
    "# Create the labeled datasets\n",
    "labeled_dataset = LabeledImageDataset(image_files, labels)\n",
    "\n",
    "# Define DataLoaders\n",
    "batch_size = 16\n",
    "loader_labeled = DataLoader(labeled_dataset, batch_size=batch_size, shuffle=False, drop_last=False, pin_memory=True, num_workers=0)"
   ]
  },
  {
   "cell_type": "code",
   "execution_count": 7,
   "metadata": {},
   "outputs": [
    {
     "name": "stdout",
     "output_type": "stream",
     "text": [
      "torch.Size([16, 3, 96, 96]) torch.Size([16]) torch.float32\n",
      "tensor([0, 0, 0, 0, 0, 0, 0, 0, 0, 0, 0, 0, 0, 0, 0, 0])\n"
     ]
    }
   ],
   "source": [
    "#for anchor,label, path in loader_labeled:\n",
    "for anchor,label in loader_labeled:\n",
    "    print(anchor.shape, label.shape, anchor.dtype)\n",
    "    print(label)\n",
    "    break"
   ]
  },
  {
   "cell_type": "code",
   "execution_count": 8,
   "metadata": {},
   "outputs": [],
   "source": [
    "@torch.no_grad()\n",
    "def prepare_data_features(model, dataloader):\n",
    "    # Prepare model\n",
    "    network = deepcopy(model.convnet)\n",
    "    network.fc = nn.Identity()  # Removing projection head g(.)\n",
    "    network.eval()\n",
    "    network.to(device)\n",
    "\n",
    "    # Encode all images\n",
    "    feats, labels = [], []\n",
    "    for batch_imgs, batch_labels in tqdm(dataloader):\n",
    "        batch_imgs = batch_imgs.to(device)\n",
    "        batch_feats = network(batch_imgs)\n",
    "        print(f\"Batch features shape: {batch_feats.shape}\")\n",
    "        print(f\"Batch labels shape: {batch_labels.shape}\")\n",
    "        \n",
    "        feats.append(batch_feats.detach().cpu())\n",
    "        labels.append(batch_labels)\n",
    "\n",
    "    feats = torch.cat(feats, dim=0)\n",
    "    labels = torch.cat(labels, dim=0)\n",
    "    \n",
    "    print(f\"Features shape after concatenation: {feats.shape}\")\n",
    "    print(f\"Labels shape after concatenation: {labels.shape}\")\n",
    "\n",
    "    return torch.utils.data.TensorDataset(feats, labels)"
   ]
  },
  {
   "cell_type": "code",
   "execution_count": 9,
   "metadata": {},
   "outputs": [
    {
     "name": "stderr",
     "output_type": "stream",
     "text": [
      "  0%|          | 0/30 [00:00<?, ?it/s]"
     ]
    },
    {
     "name": "stderr",
     "output_type": "stream",
     "text": [
      "  3%|▎         | 1/30 [00:01<00:29,  1.00s/it]"
     ]
    },
    {
     "name": "stdout",
     "output_type": "stream",
     "text": [
      "Batch features shape: torch.Size([16, 512])\n",
      "Batch labels shape: torch.Size([16])\n"
     ]
    },
    {
     "name": "stderr",
     "output_type": "stream",
     "text": [
      "  7%|▋         | 2/30 [00:01<00:21,  1.28it/s]"
     ]
    },
    {
     "name": "stdout",
     "output_type": "stream",
     "text": [
      "Batch features shape: torch.Size([16, 512])\n",
      "Batch labels shape: torch.Size([16])\n"
     ]
    },
    {
     "name": "stderr",
     "output_type": "stream",
     "text": [
      " 10%|█         | 3/30 [00:02<00:19,  1.39it/s]"
     ]
    },
    {
     "name": "stdout",
     "output_type": "stream",
     "text": [
      "Batch features shape: torch.Size([16, 512])\n",
      "Batch labels shape: torch.Size([16])\n"
     ]
    },
    {
     "name": "stderr",
     "output_type": "stream",
     "text": [
      " 13%|█▎        | 4/30 [00:02<00:17,  1.44it/s]"
     ]
    },
    {
     "name": "stdout",
     "output_type": "stream",
     "text": [
      "Batch features shape: torch.Size([16, 512])\n",
      "Batch labels shape: torch.Size([16])\n"
     ]
    },
    {
     "name": "stderr",
     "output_type": "stream",
     "text": [
      " 17%|█▋        | 5/30 [00:03<00:17,  1.46it/s]"
     ]
    },
    {
     "name": "stdout",
     "output_type": "stream",
     "text": [
      "Batch features shape: torch.Size([16, 512])\n",
      "Batch labels shape: torch.Size([16])\n"
     ]
    },
    {
     "name": "stderr",
     "output_type": "stream",
     "text": [
      " 20%|██        | 6/30 [00:04<00:16,  1.49it/s]"
     ]
    },
    {
     "name": "stdout",
     "output_type": "stream",
     "text": [
      "Batch features shape: torch.Size([16, 512])\n",
      "Batch labels shape: torch.Size([16])\n"
     ]
    },
    {
     "name": "stderr",
     "output_type": "stream",
     "text": [
      " 23%|██▎       | 7/30 [00:04<00:15,  1.47it/s]"
     ]
    },
    {
     "name": "stdout",
     "output_type": "stream",
     "text": [
      "Batch features shape: torch.Size([16, 512])\n",
      "Batch labels shape: torch.Size([16])\n"
     ]
    },
    {
     "name": "stderr",
     "output_type": "stream",
     "text": [
      " 27%|██▋       | 8/30 [00:05<00:15,  1.45it/s]"
     ]
    },
    {
     "name": "stdout",
     "output_type": "stream",
     "text": [
      "Batch features shape: torch.Size([16, 512])\n",
      "Batch labels shape: torch.Size([16])\n"
     ]
    },
    {
     "name": "stderr",
     "output_type": "stream",
     "text": [
      " 30%|███       | 9/30 [00:06<00:14,  1.46it/s]"
     ]
    },
    {
     "name": "stdout",
     "output_type": "stream",
     "text": [
      "Batch features shape: torch.Size([16, 512])\n",
      "Batch labels shape: torch.Size([16])\n"
     ]
    },
    {
     "name": "stderr",
     "output_type": "stream",
     "text": [
      " 33%|███▎      | 10/30 [00:07<00:13,  1.45it/s]"
     ]
    },
    {
     "name": "stdout",
     "output_type": "stream",
     "text": [
      "Batch features shape: torch.Size([16, 512])\n",
      "Batch labels shape: torch.Size([16])\n"
     ]
    },
    {
     "name": "stderr",
     "output_type": "stream",
     "text": [
      " 37%|███▋      | 11/30 [00:07<00:13,  1.42it/s]"
     ]
    },
    {
     "name": "stdout",
     "output_type": "stream",
     "text": [
      "Batch features shape: torch.Size([16, 512])\n",
      "Batch labels shape: torch.Size([16])\n"
     ]
    },
    {
     "name": "stderr",
     "output_type": "stream",
     "text": [
      " 40%|████      | 12/30 [00:08<00:12,  1.43it/s]"
     ]
    },
    {
     "name": "stdout",
     "output_type": "stream",
     "text": [
      "Batch features shape: torch.Size([16, 512])\n",
      "Batch labels shape: torch.Size([16])\n"
     ]
    },
    {
     "name": "stderr",
     "output_type": "stream",
     "text": [
      " 43%|████▎     | 13/30 [00:09<00:11,  1.42it/s]"
     ]
    },
    {
     "name": "stdout",
     "output_type": "stream",
     "text": [
      "Batch features shape: torch.Size([16, 512])\n",
      "Batch labels shape: torch.Size([16])\n"
     ]
    },
    {
     "name": "stderr",
     "output_type": "stream",
     "text": [
      " 47%|████▋     | 14/30 [00:09<00:11,  1.42it/s]"
     ]
    },
    {
     "name": "stdout",
     "output_type": "stream",
     "text": [
      "Batch features shape: torch.Size([16, 512])\n",
      "Batch labels shape: torch.Size([16])\n"
     ]
    },
    {
     "name": "stderr",
     "output_type": "stream",
     "text": [
      " 50%|█████     | 15/30 [00:10<00:10,  1.40it/s]"
     ]
    },
    {
     "name": "stdout",
     "output_type": "stream",
     "text": [
      "Batch features shape: torch.Size([16, 512])\n",
      "Batch labels shape: torch.Size([16])\n"
     ]
    },
    {
     "name": "stderr",
     "output_type": "stream",
     "text": [
      " 53%|█████▎    | 16/30 [00:11<00:09,  1.42it/s]"
     ]
    },
    {
     "name": "stdout",
     "output_type": "stream",
     "text": [
      "Batch features shape: torch.Size([16, 512])\n",
      "Batch labels shape: torch.Size([16])\n"
     ]
    },
    {
     "name": "stderr",
     "output_type": "stream",
     "text": [
      " 57%|█████▋    | 17/30 [00:12<00:09,  1.41it/s]"
     ]
    },
    {
     "name": "stdout",
     "output_type": "stream",
     "text": [
      "Batch features shape: torch.Size([16, 512])\n",
      "Batch labels shape: torch.Size([16])\n"
     ]
    },
    {
     "name": "stderr",
     "output_type": "stream",
     "text": [
      " 60%|██████    | 18/30 [00:12<00:08,  1.40it/s]"
     ]
    },
    {
     "name": "stdout",
     "output_type": "stream",
     "text": [
      "Batch features shape: torch.Size([16, 512])\n",
      "Batch labels shape: torch.Size([16])\n"
     ]
    },
    {
     "name": "stderr",
     "output_type": "stream",
     "text": [
      " 63%|██████▎   | 19/30 [00:13<00:07,  1.43it/s]"
     ]
    },
    {
     "name": "stdout",
     "output_type": "stream",
     "text": [
      "Batch features shape: torch.Size([16, 512])\n",
      "Batch labels shape: torch.Size([16])\n"
     ]
    },
    {
     "name": "stderr",
     "output_type": "stream",
     "text": [
      " 67%|██████▋   | 20/30 [00:14<00:07,  1.38it/s]"
     ]
    },
    {
     "name": "stdout",
     "output_type": "stream",
     "text": [
      "Batch features shape: torch.Size([16, 512])\n",
      "Batch labels shape: torch.Size([16])\n"
     ]
    },
    {
     "name": "stderr",
     "output_type": "stream",
     "text": [
      " 70%|███████   | 21/30 [00:14<00:06,  1.40it/s]"
     ]
    },
    {
     "name": "stdout",
     "output_type": "stream",
     "text": [
      "Batch features shape: torch.Size([16, 512])\n",
      "Batch labels shape: torch.Size([16])\n"
     ]
    },
    {
     "name": "stderr",
     "output_type": "stream",
     "text": [
      " 73%|███████▎  | 22/30 [00:15<00:05,  1.41it/s]"
     ]
    },
    {
     "name": "stdout",
     "output_type": "stream",
     "text": [
      "Batch features shape: torch.Size([16, 512])\n",
      "Batch labels shape: torch.Size([16])\n"
     ]
    },
    {
     "name": "stderr",
     "output_type": "stream",
     "text": [
      " 77%|███████▋  | 23/30 [00:16<00:04,  1.42it/s]"
     ]
    },
    {
     "name": "stdout",
     "output_type": "stream",
     "text": [
      "Batch features shape: torch.Size([16, 512])\n",
      "Batch labels shape: torch.Size([16])\n"
     ]
    },
    {
     "name": "stderr",
     "output_type": "stream",
     "text": [
      " 80%|████████  | 24/30 [00:16<00:04,  1.42it/s]"
     ]
    },
    {
     "name": "stdout",
     "output_type": "stream",
     "text": [
      "Batch features shape: torch.Size([16, 512])\n",
      "Batch labels shape: torch.Size([16])\n"
     ]
    },
    {
     "name": "stderr",
     "output_type": "stream",
     "text": [
      " 83%|████████▎ | 25/30 [00:17<00:03,  1.38it/s]"
     ]
    },
    {
     "name": "stdout",
     "output_type": "stream",
     "text": [
      "Batch features shape: torch.Size([16, 512])\n",
      "Batch labels shape: torch.Size([16])\n"
     ]
    },
    {
     "name": "stderr",
     "output_type": "stream",
     "text": [
      " 87%|████████▋ | 26/30 [00:18<00:02,  1.40it/s]"
     ]
    },
    {
     "name": "stdout",
     "output_type": "stream",
     "text": [
      "Batch features shape: torch.Size([16, 512])\n",
      "Batch labels shape: torch.Size([16])\n"
     ]
    },
    {
     "name": "stderr",
     "output_type": "stream",
     "text": [
      " 90%|█████████ | 27/30 [00:19<00:02,  1.43it/s]"
     ]
    },
    {
     "name": "stdout",
     "output_type": "stream",
     "text": [
      "Batch features shape: torch.Size([16, 512])\n",
      "Batch labels shape: torch.Size([16])\n"
     ]
    },
    {
     "name": "stderr",
     "output_type": "stream",
     "text": [
      " 93%|█████████▎| 28/30 [00:19<00:01,  1.43it/s]"
     ]
    },
    {
     "name": "stdout",
     "output_type": "stream",
     "text": [
      "Batch features shape: torch.Size([16, 512])\n",
      "Batch labels shape: torch.Size([16])\n"
     ]
    },
    {
     "name": "stderr",
     "output_type": "stream",
     "text": [
      " 97%|█████████▋| 29/30 [00:20<00:00,  1.43it/s]"
     ]
    },
    {
     "name": "stdout",
     "output_type": "stream",
     "text": [
      "Batch features shape: torch.Size([16, 512])\n",
      "Batch labels shape: torch.Size([16])\n"
     ]
    },
    {
     "name": "stderr",
     "output_type": "stream",
     "text": [
      "100%|██████████| 30/30 [00:20<00:00,  1.44it/s]"
     ]
    },
    {
     "name": "stdout",
     "output_type": "stream",
     "text": [
      "Batch features shape: torch.Size([8, 512])\n",
      "Batch labels shape: torch.Size([8])\n",
      "Features shape after concatenation: torch.Size([472, 512])\n",
      "Labels shape after concatenation: torch.Size([472])\n"
     ]
    },
    {
     "name": "stderr",
     "output_type": "stream",
     "text": [
      "\n"
     ]
    }
   ],
   "source": [
    "# Extract features for train and test datasets\n",
    "feats_simclr = prepare_data_features(simclr_model, loader_labeled)"
   ]
  },
  {
   "cell_type": "code",
   "execution_count": 10,
   "metadata": {},
   "outputs": [
    {
     "name": "stdout",
     "output_type": "stream",
     "text": [
      "Shape of features (for K-Means): (472, 512)\n",
      "Shape of labels: (472,)\n"
     ]
    }
   ],
   "source": [
    "# Convert features and labels to NumPy arrays\n",
    "feats_np = feats_simclr.tensors[0].numpy()  # Features in shape (60, 512)\n",
    "feats_np_norm = normalize(feats_np, axis=1)\n",
    "labels_np = feats_simclr.tensors[1].numpy()  # Corresponding labels\n",
    "\n",
    "# Check the shapes\n",
    "print(\"Shape of features (for K-Means):\", feats_np.shape)\n",
    "print(\"Shape of labels:\", labels_np.shape)"
   ]
  },
  {
   "cell_type": "code",
   "execution_count": 11,
   "metadata": {},
   "outputs": [
    {
     "data": {
      "text/plain": [
       "torch.Size([472, 512])"
      ]
     },
     "execution_count": 11,
     "metadata": {},
     "output_type": "execute_result"
    }
   ],
   "source": [
    "condall = feats_simclr.tensors[0]\n",
    "condall.shape"
   ]
  },
  {
   "cell_type": "code",
   "execution_count": 12,
   "metadata": {},
   "outputs": [],
   "source": [
    "# Save in the current folder\n",
    "save_path = \"condall.pt\"  # File name only\n",
    "\n",
    "# Save the tensor\n",
    "torch.save(condall, save_path)"
   ]
  },
  {
   "cell_type": "code",
   "execution_count": null,
   "metadata": {},
   "outputs": [],
   "source": []
  },
  {
   "cell_type": "code",
   "execution_count": null,
   "metadata": {},
   "outputs": [],
   "source": [
    "sd = feats_simclr.tensors[0]\n",
    "sd.shape"
   ]
  },
  {
   "cell_type": "code",
   "execution_count": 12,
   "metadata": {},
   "outputs": [],
   "source": [
    "# Save in the current folder\n",
    "save_path = \"sd.pt\"  # File name only\n",
    "\n",
    "# Save the tensor\n",
    "torch.save(sd, save_path)"
   ]
  },
  {
   "cell_type": "code",
   "execution_count": null,
   "metadata": {},
   "outputs": [],
   "source": [
    "cond7 = feats_simclr.tensors[0]\n",
    "cond7.shape"
   ]
  },
  {
   "cell_type": "code",
   "execution_count": 12,
   "metadata": {},
   "outputs": [],
   "source": [
    "# Save in the current folder\n",
    "save_path = \"cond7.pt\"  # File name only\n",
    "\n",
    "# Save the tensor\n",
    "torch.save(cond7, save_path)"
   ]
  },
  {
   "cell_type": "code",
   "execution_count": 11,
   "metadata": {},
   "outputs": [
    {
     "data": {
      "text/plain": [
       "torch.Size([40, 512])"
      ]
     },
     "execution_count": 11,
     "metadata": {},
     "output_type": "execute_result"
    }
   ],
   "source": [
    "ex = feats_simclr.tensors[0]\n",
    "ex.shape"
   ]
  },
  {
   "cell_type": "code",
   "execution_count": 12,
   "metadata": {},
   "outputs": [],
   "source": [
    "# Save in the current folder\n",
    "save_path = \"ex.pt\"  # File name only\n",
    "\n",
    "# Save the tensor\n",
    "torch.save(ex, save_path)"
   ]
  },
  {
   "cell_type": "markdown",
   "metadata": {},
   "source": [
    "From scratch"
   ]
  },
  {
   "cell_type": "code",
   "execution_count": 13,
   "metadata": {},
   "outputs": [],
   "source": [
    "# K-Means initialization function\n",
    "def kMeans_init_centroids(X, K):\n",
    "    randidx = np.random.permutation(X.shape[0])\n",
    "    centroids = X[randidx[:K]]\n",
    "    return centroids\n",
    "\n",
    "# Function to find the closest centroids using Cosine Similarity\n",
    "def find_closest_centroids(X, centroids):\n",
    "    # Normalize both the data points and centroids to ensure we compute cosine similarity\n",
    "    #X_norm = normalize(X, axis=1)\n",
    "    #centroids_norm = normalize(centroids, axis=1)\n",
    "    \n",
    "    # Assign data points to closest centroids based on cosine similarity\n",
    "    idx = np.zeros(X.shape[0], dtype=int)\n",
    "    for i in range(X.shape[0]):\n",
    "        # Compute cosine similarity\n",
    "        similarities = np.dot(centroids, X[i])  # Dot product gives cosine similarity\n",
    "        idx[i] = np.argmax(similarities)  # We want the most similar (highest value)\n",
    "    return idx\n",
    "\n",
    "# Function to compute new centroids\n",
    "def compute_centroids(X, idx, K):\n",
    "    centroids = np.zeros((K, X.shape[1]))  # Use shape[1] for features\n",
    "    for k in range(K):\n",
    "        points = X[idx == k]\n",
    "        if len(points) > 0:\n",
    "            centroids[k] = np.mean(points, axis=0)   # noralised vectors mean maynot be normalised. hence we normalise before calculating mean.https://chatgpt.com/share/671b97a7-ec2c-8010-af33-af106df0a25c\n",
    "            centroids_norm = normalize(centroids, axis=1)\n",
    "    return centroids_norm\n",
    "\n",
    "# Function to run K-Means algorithm with cost tracking (using Cosine Similarity)\n",
    "def run_kMeans(X, initial_centroids, max_iters=10):\n",
    "    K = initial_centroids.shape[0]\n",
    "    centroids = initial_centroids\n",
    "    idx = np.zeros(X.shape[0])\n",
    "    \n",
    "    best_centroids = centroids\n",
    "    lowest_cost = float('inf')\n",
    "    final_iteration = 0  # To keep track of the iteration where the best centroids were found\n",
    "    best_idx = idx  # Track the best index assignment\n",
    "\n",
    "    for i in range(max_iters):\n",
    "        print(f\"K-Means iteration {i}/{max_iters - 1}\")\n",
    "        \n",
    "        # Assign each data point to the closest centroid using cosine similarity\n",
    "        idx = find_closest_centroids(X, centroids)\n",
    "        \n",
    "        # Compute new centroids\n",
    "        centroids = compute_centroids(X, idx, K)\n",
    "\n",
    "        # Calculate cost function for the current centroids using cosine distance\n",
    "\n",
    "        # 1. Compute cosine similarity\n",
    "        sim = np.dot(X, centroids.T)\n",
    "        #print(sim.shape)\n",
    "        #print(sim)\n",
    "        # 2. Calculate cosine distance\n",
    "        cosine_dist = 1 - sim\n",
    "        #print(cosine_dist.shape)\n",
    "        #print(cosine_dist)\n",
    "        # 3. Find maximum cosine distance for each data point\n",
    "        #max_cosine_dist = cosine_dist.max(axis=1)\n",
    "        #print(max_cosine_dist.shape)\n",
    "        #print(max_cosine_dist)\n",
    "        cost = np.sum(cosine_dist)\n",
    "\n",
    "        # 4. Sum of all maximum distances\n",
    "        #cost = np.sum(max_cosine_dist)\n",
    "\n",
    "        #cost = np.sum(1 - np.dot(X_norm, centroids_norm.T).max(axis=1))  # Cosine distance = 1 - cosine similarity  \n",
    "        print(f\"Cost function value: {cost}\")  # Print the cost function value\n",
    "\n",
    "        # Check if this is the best cost so far\n",
    "        if cost < lowest_cost:\n",
    "            lowest_cost = cost\n",
    "            best_centroids = centroids\n",
    "            best_idx = idx.copy()\n",
    "            final_iteration = i  # Update the iteration where best centroids were found\n",
    "\n",
    "    print(f\"Final centroids selected from iteration: {final_iteration}\")  # Indicate which iteration was chosen\n",
    "    return best_centroids, best_idx, centroids,idx  # Return the best centroids\n"
   ]
  },
  {
   "cell_type": "code",
   "execution_count": 14,
   "metadata": {},
   "outputs": [
    {
     "name": "stdout",
     "output_type": "stream",
     "text": [
      "K-Means iteration 0/99\n",
      "Cost function value: 161.11000617778268\n",
      "K-Means iteration 1/99\n",
      "Cost function value: 161.11000617778268\n",
      "K-Means iteration 2/99\n",
      "Cost function value: 161.11000617778268\n",
      "K-Means iteration 3/99\n",
      "Cost function value: 161.11000617778268\n",
      "K-Means iteration 4/99\n",
      "Cost function value: 161.11000617778268\n",
      "K-Means iteration 5/99\n",
      "Cost function value: 161.11000617778268\n",
      "K-Means iteration 6/99\n",
      "Cost function value: 161.11000617778268\n",
      "K-Means iteration 7/99\n",
      "Cost function value: 161.11000617778268\n",
      "K-Means iteration 8/99\n",
      "Cost function value: 161.11000617778268\n",
      "K-Means iteration 9/99\n",
      "Cost function value: 161.11000617778268\n",
      "K-Means iteration 10/99\n",
      "Cost function value: 161.11000617778268\n",
      "K-Means iteration 11/99\n",
      "Cost function value: 161.11000617778268\n",
      "K-Means iteration 12/99\n",
      "Cost function value: 161.11000617778268\n",
      "K-Means iteration 13/99\n",
      "Cost function value: 161.11000617778268\n",
      "K-Means iteration 14/99\n",
      "Cost function value: 161.11000617778268\n",
      "K-Means iteration 15/99\n",
      "Cost function value: 161.11000617778268\n",
      "K-Means iteration 16/99\n",
      "Cost function value: 161.11000617778268\n",
      "K-Means iteration 17/99\n",
      "Cost function value: 161.11000617778268\n",
      "K-Means iteration 18/99\n",
      "Cost function value: 161.11000617778268\n",
      "K-Means iteration 19/99\n",
      "Cost function value: 161.11000617778268\n",
      "K-Means iteration 20/99\n",
      "Cost function value: 161.11000617778268\n",
      "K-Means iteration 21/99\n",
      "Cost function value: 161.11000617778268\n",
      "K-Means iteration 22/99\n",
      "Cost function value: 161.11000617778268\n",
      "K-Means iteration 23/99\n",
      "Cost function value: 161.11000617778268\n",
      "K-Means iteration 24/99\n",
      "Cost function value: 161.11000617778268\n",
      "K-Means iteration 25/99\n",
      "Cost function value: 161.11000617778268\n",
      "K-Means iteration 26/99\n",
      "Cost function value: 161.11000617778268\n",
      "K-Means iteration 27/99\n",
      "Cost function value: 161.11000617778268\n",
      "K-Means iteration 28/99\n",
      "Cost function value: 161.11000617778268\n",
      "K-Means iteration 29/99\n",
      "Cost function value: 161.11000617778268\n",
      "K-Means iteration 30/99\n",
      "Cost function value: 161.11000617778268\n",
      "K-Means iteration 31/99\n",
      "Cost function value: 161.11000617778268\n",
      "K-Means iteration 32/99\n",
      "Cost function value: 161.11000617778268\n",
      "K-Means iteration 33/99\n",
      "Cost function value: 161.11000617778268\n",
      "K-Means iteration 34/99\n",
      "Cost function value: 161.11000617778268\n",
      "K-Means iteration 35/99\n",
      "Cost function value: 161.11000617778268\n",
      "K-Means iteration 36/99\n",
      "Cost function value: 161.11000617778268\n",
      "K-Means iteration 37/99\n",
      "Cost function value: 161.11000617778268\n",
      "K-Means iteration 38/99\n",
      "Cost function value: 161.11000617778268\n",
      "K-Means iteration 39/99\n",
      "Cost function value: 161.11000617778268\n",
      "K-Means iteration 40/99\n",
      "Cost function value: 161.11000617778268\n",
      "K-Means iteration 41/99\n",
      "Cost function value: 161.11000617778268\n",
      "K-Means iteration 42/99\n",
      "Cost function value: 161.11000617778268\n",
      "K-Means iteration 43/99\n",
      "Cost function value: 161.11000617778268\n",
      "K-Means iteration 44/99\n",
      "Cost function value: 161.11000617778268\n",
      "K-Means iteration 45/99\n",
      "Cost function value: 161.11000617778268\n",
      "K-Means iteration 46/99\n",
      "Cost function value: 161.11000617778268\n",
      "K-Means iteration 47/99\n",
      "Cost function value: 161.11000617778268\n",
      "K-Means iteration 48/99\n",
      "Cost function value: 161.11000617778268\n",
      "K-Means iteration 49/99\n",
      "Cost function value: 161.11000617778268\n",
      "K-Means iteration 50/99\n",
      "Cost function value: 161.11000617778268\n",
      "K-Means iteration 51/99\n",
      "Cost function value: 161.11000617778268\n",
      "K-Means iteration 52/99\n",
      "Cost function value: 161.11000617778268\n",
      "K-Means iteration 53/99\n",
      "Cost function value: 161.11000617778268\n",
      "K-Means iteration 54/99\n",
      "Cost function value: 161.11000617778268\n",
      "K-Means iteration 55/99\n",
      "Cost function value: 161.11000617778268\n",
      "K-Means iteration 56/99\n",
      "Cost function value: 161.11000617778268\n",
      "K-Means iteration 57/99\n",
      "Cost function value: 161.11000617778268\n",
      "K-Means iteration 58/99\n",
      "Cost function value: 161.11000617778268\n",
      "K-Means iteration 59/99\n",
      "Cost function value: 161.11000617778268\n",
      "K-Means iteration 60/99\n",
      "Cost function value: 161.11000617778268\n",
      "K-Means iteration 61/99\n",
      "Cost function value: 161.11000617778268\n",
      "K-Means iteration 62/99\n",
      "Cost function value: 161.11000617778268\n",
      "K-Means iteration 63/99\n",
      "Cost function value: 161.11000617778268\n",
      "K-Means iteration 64/99\n",
      "Cost function value: 161.11000617778268\n",
      "K-Means iteration 65/99\n",
      "Cost function value: 161.11000617778268\n",
      "K-Means iteration 66/99\n",
      "Cost function value: 161.11000617778268\n",
      "K-Means iteration 67/99\n",
      "Cost function value: 161.11000617778268\n",
      "K-Means iteration 68/99\n",
      "Cost function value: 161.11000617778268\n",
      "K-Means iteration 69/99\n",
      "Cost function value: 161.11000617778268\n",
      "K-Means iteration 70/99\n",
      "Cost function value: 161.11000617778268\n",
      "K-Means iteration 71/99\n",
      "Cost function value: 161.11000617778268\n",
      "K-Means iteration 72/99\n",
      "Cost function value: 161.11000617778268\n",
      "K-Means iteration 73/99\n",
      "Cost function value: 161.11000617778268\n",
      "K-Means iteration 74/99\n",
      "Cost function value: 161.11000617778268\n",
      "K-Means iteration 75/99\n",
      "Cost function value: 161.11000617778268\n",
      "K-Means iteration 76/99\n",
      "Cost function value: 161.11000617778268\n",
      "K-Means iteration 77/99\n",
      "Cost function value: 161.11000617778268\n",
      "K-Means iteration 78/99\n",
      "Cost function value: 161.11000617778268\n",
      "K-Means iteration 79/99\n",
      "Cost function value: 161.11000617778268\n",
      "K-Means iteration 80/99\n",
      "Cost function value: 161.11000617778268\n",
      "K-Means iteration 81/99\n",
      "Cost function value: 161.11000617778268\n",
      "K-Means iteration 82/99\n",
      "Cost function value: 161.11000617778268\n",
      "K-Means iteration 83/99\n",
      "Cost function value: 161.11000617778268\n",
      "K-Means iteration 84/99\n",
      "Cost function value: 161.11000617778268\n",
      "K-Means iteration 85/99\n",
      "Cost function value: 161.11000617778268\n",
      "K-Means iteration 86/99\n",
      "Cost function value: 161.11000617778268\n",
      "K-Means iteration 87/99\n",
      "Cost function value: 161.11000617778268\n",
      "K-Means iteration 88/99\n",
      "Cost function value: 161.11000617778268\n",
      "K-Means iteration 89/99\n",
      "Cost function value: 161.11000617778268\n",
      "K-Means iteration 90/99\n",
      "Cost function value: 161.11000617778268\n",
      "K-Means iteration 91/99\n",
      "Cost function value: 161.11000617778268\n",
      "K-Means iteration 92/99\n",
      "Cost function value: 161.11000617778268\n",
      "K-Means iteration 93/99\n",
      "Cost function value: 161.11000617778268\n",
      "K-Means iteration 94/99\n",
      "Cost function value: 161.11000617778268\n",
      "K-Means iteration 95/99\n",
      "Cost function value: 161.11000617778268\n",
      "K-Means iteration 96/99\n",
      "Cost function value: 161.11000617778268\n",
      "K-Means iteration 97/99\n",
      "Cost function value: 161.11000617778268\n",
      "K-Means iteration 98/99\n",
      "Cost function value: 161.11000617778268\n",
      "K-Means iteration 99/99\n",
      "Cost function value: 161.11000617778268\n",
      "Final centroids selected from iteration: 0\n",
      "Final centroids: [[0.00469686 0.0160855  0.06374138 0.01877089 0.02255935 0.051001\n",
      "  0.02122528 0.05730372 0.04413888 0.0621326  0.01409302 0.03242386\n",
      "  0.01857289 0.04351058 0.01678843 0.05222628 0.02305803 0.03637156\n",
      "  0.04024947 0.05634727 0.02212745 0.04325836 0.03650117 0.02590119\n",
      "  0.04311778 0.07110757 0.03462824 0.01636067 0.00806542 0.04030445\n",
      "  0.04593746 0.06524099 0.01628567 0.02989055 0.03523808 0.05209293\n",
      "  0.06010733 0.04246033 0.06911157 0.01687281 0.04322188 0.02279349\n",
      "  0.03600153 0.06467397 0.04131316 0.01231773 0.04614785 0.05842803\n",
      "  0.04607845 0.02032932 0.08794769 0.04432884 0.04406515 0.05820654\n",
      "  0.04851539 0.06171966 0.03922099 0.0326157  0.06134888 0.05970764\n",
      "  0.05358985 0.06676299 0.05800437 0.06022944 0.03429058 0.05890416\n",
      "  0.01872733 0.01813004 0.03295493 0.02503171 0.03135469 0.07038785\n",
      "  0.05835629 0.05668475 0.03600901 0.02694114 0.04433948 0.0552022\n",
      "  0.07065557 0.01931532 0.03632471 0.06731156 0.01262058 0.08814241\n",
      "  0.01943133 0.03784225 0.07070701 0.01338713 0.01986434 0.03822253\n",
      "  0.02152296 0.03389561 0.05908436 0.05000222 0.04652093 0.03602861\n",
      "  0.02458468 0.02288996 0.07254535 0.02125064 0.04453035 0.05868466\n",
      "  0.07485658 0.03193537 0.03427262 0.01868554 0.08495073 0.06682897\n",
      "  0.01526732 0.03450779 0.04917481 0.04033221 0.026676   0.02418175\n",
      "  0.03227551 0.03257136 0.03674902 0.04804181 0.01450826 0.04541\n",
      "  0.0440023  0.02618997 0.01281517 0.05255565 0.07582177 0.03424627\n",
      "  0.02484687 0.04250388 0.05390282 0.04292897 0.04857478 0.0388636\n",
      "  0.05032393 0.02142243 0.04569984 0.04731494 0.04576955 0.04243719\n",
      "  0.03313671 0.05501697 0.04386928 0.06505836 0.01686864 0.02786494\n",
      "  0.03073562 0.04284324 0.0807198  0.03674891 0.05193199 0.05645544\n",
      "  0.01934088 0.02254528 0.04695468 0.02915712 0.02545202 0.02043231\n",
      "  0.05718251 0.02076785 0.02818019 0.05305208 0.02624829 0.04385583\n",
      "  0.05793335 0.05540638 0.02696421 0.03821493 0.04985869 0.02462561\n",
      "  0.03887429 0.05218119 0.02116855 0.04735298 0.01393002 0.05058823\n",
      "  0.04181112 0.016075   0.04082475 0.01816343 0.04354346 0.03030386\n",
      "  0.02711151 0.08026039 0.02353813 0.02950782 0.06589108 0.06948515\n",
      "  0.0632375  0.06754954 0.03384015 0.02662273 0.04802185 0.05689136\n",
      "  0.02947975 0.06921706 0.02955667 0.03276576 0.04664722 0.03022338\n",
      "  0.03192631 0.00830304 0.03273364 0.00722648 0.02977199 0.02877986\n",
      "  0.05253987 0.0318924  0.03603733 0.04302586 0.06851475 0.0287356\n",
      "  0.02463776 0.03750927 0.06548021 0.02209656 0.05662253 0.03973688\n",
      "  0.02106031 0.01651788 0.04115996 0.04145333 0.02167299 0.02745296\n",
      "  0.02156333 0.02627025 0.05694445 0.03749432 0.05132712 0.02611138\n",
      "  0.05852202 0.04038106 0.04096244 0.02871289 0.06931681 0.02243952\n",
      "  0.03501138 0.0265008  0.01408072 0.04228697 0.02599401 0.01433484\n",
      "  0.01956418 0.03080408 0.04706886 0.05228885 0.01828342 0.06414403\n",
      "  0.03888854 0.04011562 0.03845982 0.04077111 0.06848608 0.03516495\n",
      "  0.05932145 0.02086866 0.04809049 0.05635192 0.03269233 0.04503697\n",
      "  0.03499208 0.02451615 0.05683535 0.0232298  0.03998156 0.03349768\n",
      "  0.06372108 0.02297039 0.04537221 0.04599593 0.02914779 0.04341006\n",
      "  0.02672716 0.03734759 0.03701792 0.04657681 0.02982692 0.05625966\n",
      "  0.08900582 0.06422349 0.05652699 0.03118785 0.03828071 0.03866181\n",
      "  0.03891406 0.01566108 0.03002744 0.0426654  0.05290071 0.07927008\n",
      "  0.04749357 0.05097418 0.02063496 0.03389663 0.03408497 0.02604876\n",
      "  0.04496111 0.03912321 0.06252213 0.04337297 0.03015762 0.03652471\n",
      "  0.04924213 0.0432159  0.06272278 0.0351208  0.04304917 0.07201376\n",
      "  0.06267816 0.02779896 0.03297783 0.05513821 0.04761932 0.03233144\n",
      "  0.06444553 0.05002929 0.05991009 0.02484681 0.02000255 0.03135459\n",
      "  0.04478206 0.03555958 0.04978422 0.01609686 0.02651346 0.04732304\n",
      "  0.0407462  0.01220026 0.02533291 0.01525192 0.01891407 0.04286562\n",
      "  0.04206787 0.05291285 0.03007024 0.01997398 0.04615677 0.04409964\n",
      "  0.04362273 0.0218662  0.03520375 0.03297263 0.03477937 0.02431719\n",
      "  0.04477118 0.05517592 0.0742606  0.05461806 0.02364906 0.031213\n",
      "  0.05859973 0.03520349 0.06379341 0.02884742 0.03461327 0.04610403\n",
      "  0.01554471 0.07611087 0.03421181 0.07280752 0.07088796 0.04674389\n",
      "  0.05551756 0.02861381 0.03807488 0.03622567 0.04628082 0.065703\n",
      "  0.04951966 0.06317127 0.05798476 0.04755319 0.05734026 0.03406888\n",
      "  0.05321783 0.03045222 0.04399    0.06978181 0.06293264 0.02162946\n",
      "  0.05152455 0.03350124 0.05037559 0.01293515 0.05527455 0.02473504\n",
      "  0.04522968 0.07145117 0.04453024 0.01543414 0.08643031 0.03913049\n",
      "  0.01359905 0.05929436 0.06568351 0.02368594 0.04112957 0.06253395\n",
      "  0.02603922 0.05789497 0.03573397 0.02388575 0.08439347 0.07153636\n",
      "  0.06099163 0.02482814 0.05469214 0.02292701 0.0269718  0.06324472\n",
      "  0.04967232 0.04420937 0.02714134 0.03705245 0.01521215 0.03950891\n",
      "  0.05267733 0.04023248 0.02021773 0.02682432 0.00936262 0.01775082\n",
      "  0.04974454 0.02352838 0.03596793 0.02999364 0.06074841 0.05786891\n",
      "  0.04787697 0.07725561 0.03804881 0.0315998  0.0685643  0.04541142\n",
      "  0.01487225 0.03805505 0.04734547 0.0195539  0.05078087 0.05452206\n",
      "  0.06224606 0.03928306 0.06407934 0.01141836 0.02719246 0.04371834\n",
      "  0.06437476 0.0450311  0.06983461 0.01027538 0.0620517  0.02626681\n",
      "  0.05842214 0.01349545 0.03683845 0.04877913 0.05851833 0.02186099\n",
      "  0.0589885  0.06025893 0.01513196 0.03650613 0.03093752 0.05658792\n",
      "  0.03806366 0.00519139 0.03810998 0.0348121  0.0410951  0.02579598\n",
      "  0.03179937 0.02002631 0.04657648 0.02908351 0.06863684 0.03169305\n",
      "  0.02754594 0.05320486 0.0264631  0.07449724 0.02099855 0.03720825\n",
      "  0.05403619 0.05734274 0.03930455 0.03039963 0.04364661 0.02780609\n",
      "  0.02316764 0.05151368 0.04937919 0.01036896 0.03947501 0.06019718\n",
      "  0.0820043  0.05895711 0.02719911 0.04107568 0.04180148 0.02606752\n",
      "  0.02131879 0.02454326 0.03114477 0.06514698 0.05217071 0.02787833\n",
      "  0.0309146  0.0252279  0.03819666 0.04744357 0.04925676 0.02656814\n",
      "  0.03092178 0.04358656]]\n"
     ]
    }
   ],
   "source": [
    "# Main function to run the K-Means algorithm\n",
    "\n",
    "K = 1                     # Set number of clusters\n",
    "initial_centroids = kMeans_init_centroids(feats_np_norm, K)  # Step 3: Initialize centroids\n",
    "max_iters = 100                # Step 4: Number of iterations\n",
    "best_centroids, best_idx, centroids, idx = run_kMeans(feats_np_norm, initial_centroids, max_iters)  # Step 5: Run K-Means\n",
    "print(\"Final centroids:\", centroids)  # Output the final centroids"
   ]
  },
  {
   "cell_type": "code",
   "execution_count": 15,
   "metadata": {},
   "outputs": [
    {
     "data": {
      "text/plain": [
       "(1, 512)"
      ]
     },
     "execution_count": 15,
     "metadata": {},
     "output_type": "execute_result"
    }
   ],
   "source": [
    "centroids.shape"
   ]
  },
  {
   "cell_type": "code",
   "execution_count": 16,
   "metadata": {},
   "outputs": [
    {
     "data": {
      "text/plain": [
       "numpy.ndarray"
      ]
     },
     "execution_count": 16,
     "metadata": {},
     "output_type": "execute_result"
    }
   ],
   "source": [
    "type(centroids)"
   ]
  },
  {
   "cell_type": "code",
   "execution_count": 17,
   "metadata": {},
   "outputs": [],
   "source": [
    "np.save('condall.npy', centroids)"
   ]
  },
  {
   "cell_type": "code",
   "execution_count": 17,
   "metadata": {},
   "outputs": [],
   "source": [
    "np.save('ex.npy', centroids)"
   ]
  },
  {
   "cell_type": "code",
   "execution_count": 17,
   "metadata": {},
   "outputs": [],
   "source": [
    "np.save('cond7.npy', centroids)"
   ]
  },
  {
   "cell_type": "code",
   "execution_count": 17,
   "metadata": {},
   "outputs": [],
   "source": [
    "np.save('sd.npy', centroids)"
   ]
  },
  {
   "cell_type": "code",
   "execution_count": null,
   "metadata": {},
   "outputs": [],
   "source": []
  }
 ],
 "metadata": {
  "kernelspec": {
   "display_name": "master",
   "language": "python",
   "name": "python3"
  },
  "language_info": {
   "codemirror_mode": {
    "name": "ipython",
    "version": 3
   },
   "file_extension": ".py",
   "mimetype": "text/x-python",
   "name": "python",
   "nbconvert_exporter": "python",
   "pygments_lexer": "ipython3",
   "version": "3.12.3"
  }
 },
 "nbformat": 4,
 "nbformat_minor": 2
}
