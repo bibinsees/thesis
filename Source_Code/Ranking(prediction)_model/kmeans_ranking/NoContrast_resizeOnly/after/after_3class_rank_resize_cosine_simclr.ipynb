{
 "cells": [
  {
   "cell_type": "code",
   "execution_count": 1,
   "metadata": {},
   "outputs": [],
   "source": [
    "import os\n",
    "import numpy as np\n",
    "import torch\n",
    "from torch import nn, optim\n",
    "from torch.utils.data import Dataset, DataLoader, random_split\n",
    "from torchvision import transforms\n",
    "import torchvision\n",
    "import tifffile as tiff\n",
    "import matplotlib.pyplot as plt\n",
    "import time\n",
    "from tqdm import tqdm\n",
    "from copy import deepcopy\n",
    "import random\n",
    "from sklearn.preprocessing import normalize\n",
    "\n",
    "from collections import Counter\n",
    "from scipy.stats import mode"
   ]
  },
  {
   "cell_type": "code",
   "execution_count": 2,
   "metadata": {},
   "outputs": [],
   "source": [
    "exp_save_path_torch = r\"C:\\Users\\k54739\\Bibi_new_thesis\\thesis\\Source_Code\\Ranking(prediction)_model\\kmeans_ranking\\explod_feats.pt\"\n",
    "control_save_path_torch = r\"C:\\Users\\k54739\\Bibi_new_thesis\\thesis\\Source_Code\\Ranking(prediction)_model\\kmeans_ranking\\control_feats.pt\"\n",
    "sd_save_path_torch = r\"C:\\Users\\k54739\\Bibi_new_thesis\\thesis\\Source_Code\\Ranking(prediction)_model\\kmeans_ranking\\sd_feats.pt\"\n",
    "cosine_centroid_save_path_torch = r\"C:\\Users\\k54739\\Bibi_new_thesis\\thesis\\Source_Code\\Ranking(prediction)_model\\kmeans_ranking\\cosine\\cosine_centroid.pt\"\n"
   ]
  },
  {
   "cell_type": "code",
   "execution_count": 3,
   "metadata": {},
   "outputs": [
    {
     "name": "stdout",
     "output_type": "stream",
     "text": [
      "torch.Size([29, 512])\n",
      "torch.Size([120, 512])\n",
      "torch.Size([103, 512])\n",
      "torch.Size([512])\n"
     ]
    },
    {
     "name": "stderr",
     "output_type": "stream",
     "text": [
      "C:\\Users\\k54739\\AppData\\Local\\Temp\\ipykernel_26596\\3916985452.py:1: FutureWarning: You are using `torch.load` with `weights_only=False` (the current default value), which uses the default pickle module implicitly. It is possible to construct malicious pickle data which will execute arbitrary code during unpickling (See https://github.com/pytorch/pytorch/blob/main/SECURITY.md#untrusted-models for more details). In a future release, the default value for `weights_only` will be flipped to `True`. This limits the functions that could be executed during unpickling. Arbitrary objects will no longer be allowed to be loaded via this mode unless they are explicitly allowlisted by the user via `torch.serialization.add_safe_globals`. We recommend you start setting `weights_only=True` for any use case where you don't have full control of the loaded file. Please open an issue on GitHub for any issues related to this experimental feature.\n",
      "  exp = torch.load(exp_save_path_torch)\n",
      "C:\\Users\\k54739\\AppData\\Local\\Temp\\ipykernel_26596\\3916985452.py:2: FutureWarning: You are using `torch.load` with `weights_only=False` (the current default value), which uses the default pickle module implicitly. It is possible to construct malicious pickle data which will execute arbitrary code during unpickling (See https://github.com/pytorch/pytorch/blob/main/SECURITY.md#untrusted-models for more details). In a future release, the default value for `weights_only` will be flipped to `True`. This limits the functions that could be executed during unpickling. Arbitrary objects will no longer be allowed to be loaded via this mode unless they are explicitly allowlisted by the user via `torch.serialization.add_safe_globals`. We recommend you start setting `weights_only=True` for any use case where you don't have full control of the loaded file. Please open an issue on GitHub for any issues related to this experimental feature.\n",
      "  control = torch.load(control_save_path_torch)\n",
      "C:\\Users\\k54739\\AppData\\Local\\Temp\\ipykernel_26596\\3916985452.py:3: FutureWarning: You are using `torch.load` with `weights_only=False` (the current default value), which uses the default pickle module implicitly. It is possible to construct malicious pickle data which will execute arbitrary code during unpickling (See https://github.com/pytorch/pytorch/blob/main/SECURITY.md#untrusted-models for more details). In a future release, the default value for `weights_only` will be flipped to `True`. This limits the functions that could be executed during unpickling. Arbitrary objects will no longer be allowed to be loaded via this mode unless they are explicitly allowlisted by the user via `torch.serialization.add_safe_globals`. We recommend you start setting `weights_only=True` for any use case where you don't have full control of the loaded file. Please open an issue on GitHub for any issues related to this experimental feature.\n",
      "  sd = torch.load(sd_save_path_torch)\n",
      "C:\\Users\\k54739\\AppData\\Local\\Temp\\ipykernel_26596\\3916985452.py:4: FutureWarning: You are using `torch.load` with `weights_only=False` (the current default value), which uses the default pickle module implicitly. It is possible to construct malicious pickle data which will execute arbitrary code during unpickling (See https://github.com/pytorch/pytorch/blob/main/SECURITY.md#untrusted-models for more details). In a future release, the default value for `weights_only` will be flipped to `True`. This limits the functions that could be executed during unpickling. Arbitrary objects will no longer be allowed to be loaded via this mode unless they are explicitly allowlisted by the user via `torch.serialization.add_safe_globals`. We recommend you start setting `weights_only=True` for any use case where you don't have full control of the loaded file. Please open an issue on GitHub for any issues related to this experimental feature.\n",
      "  cosine_centroid = torch.load(cosine_centroid_save_path_torch)\n"
     ]
    }
   ],
   "source": [
    "exp = torch.load(exp_save_path_torch)\n",
    "control = torch.load(control_save_path_torch)\n",
    "sd = torch.load(sd_save_path_torch)\n",
    "cosine_centroid = torch.load(cosine_centroid_save_path_torch)\n",
    "print(exp.shape)\n",
    "print(control.shape)\n",
    "print(sd.shape)\n",
    "print(cosine_centroid.shape)"
   ]
  },
  {
   "cell_type": "code",
   "execution_count": 4,
   "metadata": {},
   "outputs": [
    {
     "data": {
      "text/plain": [
       "(120, 512)"
      ]
     },
     "execution_count": 4,
     "metadata": {},
     "output_type": "execute_result"
    }
   ],
   "source": [
    "# Convert features and labels to NumPy arrays\n",
    "control_np = control.numpy()  # 120 Features in shape (120, 512)\n",
    "control_np_norm = normalize(control_np, axis=1)\n",
    "control_np_norm.shape"
   ]
  },
  {
   "cell_type": "code",
   "execution_count": 5,
   "metadata": {},
   "outputs": [
    {
     "data": {
      "text/plain": [
       "(103, 512)"
      ]
     },
     "execution_count": 5,
     "metadata": {},
     "output_type": "execute_result"
    }
   ],
   "source": [
    "sd_np = sd.numpy()  # 103 Features in shape (103, 512)\n",
    "sd_np_norm = normalize(sd_np, axis=1)\n",
    "sd_np_norm.shape"
   ]
  },
  {
   "cell_type": "code",
   "execution_count": 6,
   "metadata": {},
   "outputs": [
    {
     "data": {
      "text/plain": [
       "(29, 512)"
      ]
     },
     "execution_count": 6,
     "metadata": {},
     "output_type": "execute_result"
    }
   ],
   "source": [
    "exp_np = exp.numpy()  # 29 Features in shape (29, 512)\n",
    "exp_np_norm = normalize(exp_np, axis=1)\n",
    "exp_np_norm.shape\n"
   ]
  },
  {
   "cell_type": "code",
   "execution_count": 7,
   "metadata": {},
   "outputs": [
    {
     "data": {
      "text/plain": [
       "array([[0.09942402, 0.        , 0.        , ..., 0.        , 0.        ,\n",
       "        0.05314087],\n",
       "       [0.05676892, 0.        , 0.00059459, ..., 0.        , 0.00559864,\n",
       "        0.0914542 ],\n",
       "       [0.03055801, 0.        , 0.00686699, ..., 0.        , 0.06694178,\n",
       "        0.06710588],\n",
       "       ...,\n",
       "       [0.        , 0.00032315, 0.07815263, ..., 0.        , 0.06852816,\n",
       "        0.07620089],\n",
       "       [0.04429684, 0.        , 0.0148464 , ..., 0.        , 0.        ,\n",
       "        0.13119867],\n",
       "       [0.08297585, 0.        , 0.0030582 , ..., 0.        , 0.0054707 ,\n",
       "        0.11982341]], dtype=float32)"
      ]
     },
     "execution_count": 7,
     "metadata": {},
     "output_type": "execute_result"
    }
   ],
   "source": [
    "exp_np_norm"
   ]
  },
  {
   "cell_type": "code",
   "execution_count": 8,
   "metadata": {},
   "outputs": [
    {
     "name": "stdout",
     "output_type": "stream",
     "text": [
      "512\n"
     ]
    },
    {
     "data": {
      "text/plain": [
       "array([1.15598113e-02, 4.67950372e-03, 6.05678811e-02, 3.97132080e-02,\n",
       "       6.22929986e-02, 5.17932542e-02, 1.90802872e-02, 8.08006403e-03,\n",
       "       3.38454371e-02, 9.24501245e-02, 4.76434767e-02, 2.14309413e-04,\n",
       "       1.47157980e-02, 4.39299084e-02, 2.07922707e-02, 8.76266483e-02,\n",
       "       4.51024099e-03, 2.02452289e-02, 1.02720359e-01, 3.36181500e-02,\n",
       "       5.73134539e-02, 4.59700931e-02, 1.96533594e-02, 4.41949990e-02,\n",
       "       4.64943211e-02, 8.68415164e-02, 2.48886070e-03, 3.11143059e-02,\n",
       "       3.19192448e-02, 3.00994783e-02, 5.24901817e-02, 5.94389127e-02,\n",
       "       1.92603947e-02, 4.25757926e-02, 5.99674322e-04, 8.55245156e-02,\n",
       "       3.23484668e-02, 1.06046327e-01, 6.63184118e-02, 5.65145204e-03,\n",
       "       2.28252425e-03, 5.34213348e-03, 8.30309599e-03, 5.05610267e-02,\n",
       "       1.51367160e-02, 2.51264247e-02, 1.20286566e-02, 7.87353398e-02,\n",
       "       1.38669667e-02, 3.57596289e-03, 1.14059459e-01, 5.19641733e-02,\n",
       "       9.90687800e-03, 2.19089293e-02, 6.54568893e-02, 3.10062713e-02,\n",
       "       1.44937849e-02, 1.33918865e-02, 1.01999451e-01, 4.55441538e-02,\n",
       "       2.97474282e-02, 1.31914530e-03, 1.75271066e-02, 5.98510689e-03,\n",
       "       7.84031813e-03, 1.92994257e-02, 1.74753855e-02, 8.10783015e-03,\n",
       "       3.63176986e-03, 0.00000000e+00, 1.59209041e-03, 1.99180652e-02,\n",
       "       2.48370945e-02, 1.52257772e-03, 1.71343506e-02, 3.49561998e-03,\n",
       "       4.65401805e-02, 7.23923739e-02, 3.11848430e-02, 2.84773132e-03,\n",
       "       2.25017888e-02, 5.51145765e-02, 1.43325595e-02, 5.41554573e-03,\n",
       "       9.28842565e-02, 3.93734377e-02, 8.28767623e-02, 1.30668033e-05,\n",
       "       4.46870684e-02, 2.45146947e-02, 3.93173548e-02, 5.51308691e-02,\n",
       "       7.95402072e-05, 5.27994579e-02, 9.09465426e-02, 7.48663544e-03,\n",
       "       8.37932734e-02, 7.74946369e-02, 3.09906742e-02, 9.12517770e-03,\n",
       "       2.20578414e-02, 5.65233819e-03, 2.05732893e-03, 1.96829633e-02,\n",
       "       4.64704849e-02, 2.74342361e-02, 7.89853479e-02, 1.37945484e-02,\n",
       "       3.67784405e-02, 1.34377598e-02, 4.29361786e-04, 4.29659986e-02,\n",
       "       2.29506369e-02, 7.78498583e-03, 1.25145212e-02, 1.03951056e-03,\n",
       "       1.91253434e-02, 6.22336888e-02, 3.25500237e-02, 3.87640057e-03,\n",
       "       5.20680211e-02, 8.05291803e-03, 4.08844698e-03, 1.15046561e-03,\n",
       "       4.96209160e-02, 3.00963301e-02, 1.70222399e-03, 1.73321578e-02,\n",
       "       5.86963669e-02, 1.90506972e-02, 2.46251913e-02, 3.90751191e-03,\n",
       "       1.11462757e-02, 1.45432816e-02, 8.53230143e-02, 5.15679631e-02,\n",
       "       5.25229883e-03, 5.15659729e-03, 9.67353509e-03, 7.06863262e-02,\n",
       "       7.78846768e-04, 1.04025546e-01, 1.57991238e-02, 1.49489012e-06,\n",
       "       3.95189547e-03, 8.93479314e-02, 1.12189467e-02, 8.26250108e-02,\n",
       "       2.23172987e-02, 1.49258513e-01, 6.17661371e-02, 6.60243768e-03,\n",
       "       6.17516267e-05, 1.04419484e-04, 5.50475933e-02, 2.06387839e-03,\n",
       "       7.87655395e-03, 4.85579681e-03, 5.87590659e-02, 5.19833196e-03,\n",
       "       2.19545244e-02, 3.97962891e-02, 4.54225934e-03, 6.15175848e-02,\n",
       "       9.34596909e-03, 6.37980225e-02, 3.01282917e-02, 2.41430831e-03,\n",
       "       3.34818746e-02, 1.01539559e-01, 1.19559549e-05, 1.49422876e-02,\n",
       "       4.17185171e-02, 2.71493895e-02, 7.40230486e-03, 5.48519490e-03,\n",
       "       3.25675890e-02, 2.45530454e-02, 5.45735181e-02, 1.61865618e-02,\n",
       "       2.05586641e-04, 4.92677230e-02, 5.09119061e-02, 1.57766485e-02,\n",
       "       5.73995371e-03, 6.77007869e-02, 3.18200242e-02, 3.46183147e-02,\n",
       "       1.93254874e-02, 1.02533895e-03, 3.02763761e-02, 1.68304132e-02,\n",
       "       8.42976480e-02, 5.80596347e-02, 1.46697201e-03, 4.26429613e-02,\n",
       "       5.19812448e-02, 7.94214365e-02, 3.41676097e-02, 2.77791530e-02,\n",
       "       9.85573580e-02, 5.37836697e-03, 2.09702025e-02, 7.24972881e-02,\n",
       "       3.48859879e-02, 7.26121626e-03, 1.75287039e-02, 3.65832326e-03,\n",
       "       1.25352697e-03, 6.85361226e-02, 3.72082595e-04, 3.85807344e-03,\n",
       "       3.46642135e-02, 1.56030947e-02, 7.35030143e-02, 4.53395646e-02,\n",
       "       9.00241014e-03, 2.16573888e-02, 1.08465228e-02, 6.14046726e-02,\n",
       "       7.55736050e-02, 4.87522811e-02, 6.22955649e-03, 3.62796157e-02,\n",
       "       2.24138557e-02, 4.73486848e-03, 1.17024954e-02, 2.20690808e-03,\n",
       "       3.45872132e-02, 1.72050157e-03, 6.11856501e-03, 8.11698097e-04,\n",
       "       1.37409414e-02, 3.56187924e-02, 9.59400616e-03, 1.46020281e-02,\n",
       "       4.79247950e-02, 1.85983845e-02, 1.50742513e-03, 7.56858078e-02,\n",
       "       5.31040954e-03, 2.54676996e-02, 6.60448353e-03, 2.75505538e-02,\n",
       "       1.18756157e-02, 4.12815986e-02, 1.38988355e-02, 3.72090603e-02,\n",
       "       4.55072150e-02, 1.02426054e-02, 3.85714238e-03, 3.00216515e-03,\n",
       "       3.10567464e-02, 1.59385915e-04, 1.36335641e-02, 1.39033842e-03,\n",
       "       3.37413783e-02, 5.35554820e-02, 4.66084856e-03, 9.24821924e-04,\n",
       "       7.45825730e-03, 1.69914885e-03, 1.04079885e-02, 6.58568968e-02,\n",
       "       3.43895764e-02, 6.29977849e-02, 3.74867552e-02, 7.63308960e-03,\n",
       "       1.02468450e-01, 1.00961484e-03, 7.06369153e-02, 1.99586598e-02,\n",
       "       8.95276216e-03, 4.15236691e-02, 1.27391298e-01, 2.01264122e-02,\n",
       "       1.33105569e-02, 7.83968491e-02, 1.72145524e-02, 7.37678337e-03,\n",
       "       4.04297664e-02, 5.40337347e-02, 1.06150314e-01, 1.06659853e-01,\n",
       "       8.77023330e-03, 2.99973923e-02, 5.81992762e-02, 1.84722758e-02,\n",
       "       7.24371252e-02, 6.78783223e-02, 3.61822404e-02, 7.50150254e-02,\n",
       "       9.74317093e-03, 1.94153168e-02, 4.85974691e-02, 4.02639103e-02,\n",
       "       6.12427622e-02, 7.71197544e-02, 5.44331116e-02, 8.24958756e-02,\n",
       "       4.92131192e-02, 8.58095721e-03, 4.30207229e-02, 2.31310144e-02,\n",
       "       1.50572143e-02, 4.47626986e-02, 1.51040856e-03, 1.43971132e-02,\n",
       "       5.79213471e-02, 1.88324976e-02, 3.35337846e-02, 2.65102470e-03,\n",
       "       5.70055130e-02, 1.78870850e-02, 5.33437260e-03, 6.06858435e-03,\n",
       "       7.51354810e-02, 2.16482434e-02, 7.55752741e-02, 2.69933998e-03,\n",
       "       1.14046759e-02, 1.64230233e-02, 2.83143231e-02, 5.92837980e-04,\n",
       "       4.75974319e-02, 1.36574234e-02, 1.44594854e-02, 6.72893470e-04,\n",
       "       6.02001667e-02, 3.58572877e-03, 7.13608758e-03, 4.27361684e-02,\n",
       "       3.39387925e-02, 2.40050464e-03, 6.07348407e-02, 2.40945673e-02,\n",
       "       5.38452480e-02, 4.86458044e-02, 4.73868245e-02, 7.52357634e-02,\n",
       "       1.54918328e-03, 3.44632321e-03, 9.72004128e-03, 5.57392665e-03,\n",
       "       8.01858062e-02, 3.20343268e-02, 9.88369330e-03, 1.51947682e-02,\n",
       "       3.06854488e-04, 1.18383197e-01, 2.27951248e-02, 3.24156400e-02,\n",
       "       9.62763917e-03, 5.07525457e-02, 2.40812122e-03, 2.54225496e-03,\n",
       "       3.82976398e-03, 6.52016187e-02, 6.45250825e-02, 5.13423011e-02,\n",
       "       2.93234710e-02, 1.28161658e-01, 6.57230753e-03, 9.37236166e-02,\n",
       "       5.04246911e-02, 5.19692502e-02, 1.34298210e-02, 2.33654695e-02,\n",
       "       5.58212406e-02, 1.67842640e-02, 3.18618313e-02, 1.82097190e-02,\n",
       "       1.95758630e-02, 2.39534978e-02, 5.07391231e-02, 1.16557447e-02,\n",
       "       2.99726428e-02, 4.52594097e-03, 1.41888159e-02, 5.35495856e-03,\n",
       "       3.93326181e-02, 2.64771697e-02, 6.51748663e-02, 1.31940225e-02,\n",
       "       1.74619525e-02, 2.92391775e-02, 3.90546085e-03, 1.96983865e-02,\n",
       "       3.44081293e-02, 9.84975752e-02, 1.16507631e-03, 1.09990571e-02,\n",
       "       9.95107986e-03, 6.67067353e-02, 2.34231288e-02, 2.75320403e-02,\n",
       "       6.28925925e-02, 2.18216175e-02, 1.38835189e-02, 6.48948369e-02,\n",
       "       4.22450402e-02, 5.68757055e-02, 1.11380853e-03, 8.70968786e-03,\n",
       "       2.54304663e-02, 2.29830204e-02, 5.34533902e-03, 4.05384037e-02,\n",
       "       2.26761018e-02, 4.70861257e-02, 4.42884219e-04, 1.20458029e-04,\n",
       "       4.84985035e-02, 8.02010857e-03, 2.97445698e-02, 1.28065637e-02,\n",
       "       9.72378465e-03, 4.15626527e-02, 2.79003847e-03, 1.53205063e-03,\n",
       "       8.41176321e-02, 2.38411003e-02, 1.24412405e-02, 6.34287664e-03,\n",
       "       7.29882725e-02, 6.39920507e-04, 7.81642564e-04, 1.27749695e-02,\n",
       "       6.87441150e-02, 5.42865479e-02, 3.42629565e-02, 2.01222232e-02,\n",
       "       1.37609548e-02, 3.81103753e-02, 1.80266268e-02, 8.86413878e-02,\n",
       "       7.23897450e-02, 6.14433223e-02, 5.90967545e-02, 1.04086098e-02,\n",
       "       9.46016612e-03, 1.10899253e-03, 8.24662891e-03, 1.21767596e-02,\n",
       "       8.04501318e-02, 5.55184664e-05, 3.81491218e-03, 8.57768513e-02,\n",
       "       1.35161268e-02, 1.05742267e-01, 1.10074526e-01, 6.47084633e-03,\n",
       "       3.59210398e-02, 4.87793118e-02, 7.13062755e-03, 8.63693654e-02,\n",
       "       2.07195267e-02, 6.76950238e-02, 3.34495865e-04, 6.39926618e-02,\n",
       "       3.83989312e-02, 1.93075338e-02, 6.10413976e-03, 2.16777870e-02,\n",
       "       1.17467696e-01, 5.80219402e-02, 1.43991857e-02, 4.06374296e-03,\n",
       "       1.21650392e-04, 9.38617836e-02, 1.22483846e-01, 1.16287302e-02,\n",
       "       2.32341780e-04, 4.22183526e-02, 9.29813672e-04, 2.56075010e-02,\n",
       "       1.18590011e-03, 4.24785703e-02, 4.83112779e-02, 6.48920133e-02,\n",
       "       3.60227641e-02, 4.88810176e-02, 2.76760748e-03, 3.51299686e-02,\n",
       "       3.23214314e-02, 6.29480970e-03, 6.16827723e-05, 3.27090120e-03,\n",
       "       1.18502206e-01, 4.95668824e-02, 4.76132052e-02, 8.03749281e-02,\n",
       "       2.27445803e-02, 2.53354811e-02, 8.49451588e-03, 7.01327540e-04,\n",
       "       2.99825231e-02, 3.97975288e-03, 9.98025722e-03, 3.17414962e-02,\n",
       "       1.58333201e-02, 3.70154989e-02, 3.00654002e-02, 2.68843933e-03,\n",
       "       7.41710664e-05, 6.33433880e-02, 6.00972091e-02, 2.33023230e-02,\n",
       "       3.71383818e-02, 1.42746923e-01, 2.74022299e-03, 1.27808637e-01])"
      ]
     },
     "execution_count": 8,
     "metadata": {},
     "output_type": "execute_result"
    }
   ],
   "source": [
    "cosine_centroid = cosine_centroid.numpy()\n",
    "print(len(cosine_centroid))\n",
    "cosine_centroid"
   ]
  },
  {
   "cell_type": "code",
   "execution_count": 19,
   "metadata": {},
   "outputs": [
    {
     "name": "stdout",
     "output_type": "stream",
     "text": [
      "All feature vectors are normalized.\n"
     ]
    }
   ],
   "source": [
    "import numpy as np\n",
    "\n",
    "# Calculate the L2 norm of each row in exp_np_norm\n",
    "norms = np.linalg.norm(exp_np_norm, axis=1)\n",
    "\n",
    "# Check if all norms are close to 1\n",
    "if np.allclose(norms, 1.0, atol=1e-6):\n",
    "    print(\"All feature vectors are normalized.\")\n",
    "else:\n",
    "    print(\"Some feature vectors are not normalized.\")\n",
    "    print(\"Norms:\", norms)\n"
   ]
  },
  {
   "cell_type": "code",
   "execution_count": 9,
   "metadata": {},
   "outputs": [
    {
     "name": "stdout",
     "output_type": "stream",
     "text": [
      "Control Cosine Distances Shape: (120,)\n",
      "Exp Cosine Distances Shape: (29,)\n",
      "SD Cosine Distances Shape: (103,)\n"
     ]
    }
   ],
   "source": [
    "import numpy as np\n",
    "from sklearn.metrics.pairwise import cosine_similarity\n",
    "\n",
    "# Ensure cosine centroid is a 2D array with shape (1, 512)\n",
    "cosine_centroid = cosine_centroid.reshape(1, -1)  # Shape: [1, 512]\n",
    "\n",
    "# Calculate cosine distances for each dataset\n",
    "control_cosine_distances = 1 - cosine_similarity(control_np_norm, cosine_centroid).flatten()  # Shape: [120]\n",
    "exp_cosine_distances = 1 - cosine_similarity(exp_np_norm, cosine_centroid).flatten()  # Shape: [29]\n",
    "sd_cosine_distances = 1 - cosine_similarity(sd_np_norm, cosine_centroid).flatten()  # Shape: [103]\n",
    "\n",
    "# Print shapes to verify\n",
    "print(\"Control Cosine Distances Shape:\", control_cosine_distances.shape)  # Should be [120]\n",
    "print(\"Exp Cosine Distances Shape:\", exp_cosine_distances.shape)          # Should be [29]\n",
    "print(\"SD Cosine Distances Shape:\", sd_cosine_distances.shape)            # Should be [103]\n"
   ]
  },
  {
   "cell_type": "markdown",
   "metadata": {},
   "source": [
    "import matplotlib.pyplot as plt\n",
    "# Plot histograms\n",
    "plt.figure(figsize=(12, 6))\n",
    "plt.hist(control_cosine_distances, bins=20, alpha=0.6, label=\"Control\", color=\"green\", edgecolor=\"black\")\n",
    "plt.hist(exp_cosine_distances, bins=20, alpha=0.6, label=\"Exploded\", color=\"blue\", edgecolor=\"black\")\n",
    "plt.hist(sd_cosine_distances, bins=20, alpha=0.6, label=\"Single Dose\", color=\"orange\", edgecolor=\"black\")\n",
    "\n",
    "# Customize plot\n",
    "plt.title(\"Cosine Distance Distribution Across Groups\", fontsize=14)\n",
    "plt.xlabel(\"Cosine Distance\", fontsize=12)\n",
    "plt.ylabel(\"Frequency\", fontsize=12)\n",
    "plt.legend(fontsize=10)\n",
    "plt.grid(alpha=0.3)\n",
    "\n",
    "# Show plot\n",
    "plt.show()"
   ]
  },
  {
   "cell_type": "code",
   "execution_count": 2,
   "metadata": {},
   "outputs": [],
   "source": [
    "import torch\n",
    "import numpy as np\n",
    "from sklearn.preprocessing import normalize\n",
    "from sklearn.metrics.pairwise import cosine_similarity\n",
    "import matplotlib.pyplot as plt\n",
    "\n",
    "def calculate_and_plot_cosine_distances(exp_path, control_path, sd_path, centroid_path, bins=20):\n",
    "    \"\"\"\n",
    "    Calculate cosine distances between a centroid and features from multiple groups,\n",
    "    then plot histograms of these distances.\n",
    "\n",
    "    Parameters:\n",
    "        exp_path (str): Path to the exploded features .pt file.\n",
    "        control_path (str): Path to the control features .pt file.\n",
    "        sd_path (str): Path to the single-dose features .pt file.\n",
    "        centroid_path (str): Path to the centroid .pt file.\n",
    "        bins (int): Number of bins for the histogram.\n",
    "    \"\"\"\n",
    "    # Load data\n",
    "    exp = torch.load(exp_path)\n",
    "    control = torch.load(control_path)\n",
    "    sd = torch.load(sd_path)\n",
    "    cosine_centroid = torch.load(centroid_path)\n",
    "\n",
    "    # Convert tensors to NumPy arrays and normalize\n",
    "    exp_np_norm = normalize(exp.numpy(), axis=1)\n",
    "    control_np_norm = normalize(control.numpy(), axis=1)\n",
    "    sd_np_norm = normalize(sd.numpy(), axis=1)\n",
    "\n",
    "    # Ensure centroid is reshaped correctly\n",
    "    cosine_centroid = cosine_centroid.numpy().reshape(1, -1)  # Shape: [1, 512]\n",
    "\n",
    "    # Calculate cosine distances\n",
    "    control_cosine_distances = 1 - cosine_similarity(control_np_norm, cosine_centroid).flatten()\n",
    "    exp_cosine_distances = 1 - cosine_similarity(exp_np_norm, cosine_centroid).flatten()\n",
    "    sd_cosine_distances = 1 - cosine_similarity(sd_np_norm, cosine_centroid).flatten()\n",
    "\n",
    "    # Plot histograms\n",
    "    plt.figure(figsize=(12, 6))\n",
    "    plt.hist(control_cosine_distances, bins=bins, alpha=0.6, label=\"Control\", color=\"green\", edgecolor=\"black\")\n",
    "    plt.hist(exp_cosine_distances, bins=bins, alpha=0.6, label=\"Exploded\", color=\"blue\", edgecolor=\"black\")\n",
    "    plt.hist(sd_cosine_distances, bins=bins, alpha=0.6, label=\"Single Dose\", color=\"orange\", edgecolor=\"black\")\n",
    "\n",
    "    # Customize plot\n",
    "    plt.title(\"Cosine Distance Distribution Across Groups\", fontsize=14)\n",
    "    plt.xlabel(\"Cosine Distance\", fontsize=12)\n",
    "    plt.ylabel(\"Frequency\", fontsize=12)\n",
    "    plt.legend(fontsize=10)\n",
    "    plt.grid(alpha=0.3)\n",
    "\n",
    "    # Show plot\n",
    "    plt.show()\n",
    "\n",
    "    # Return calculated distances for further use\n",
    "    return {\n",
    "        \"control_cosine_distances\": control_cosine_distances,\n",
    "        \"exp_cosine_distances\": exp_cosine_distances,\n",
    "        \"sd_cosine_distances\": sd_cosine_distances\n",
    "    }\n"
   ]
  },
  {
   "cell_type": "code",
   "execution_count": 5,
   "metadata": {},
   "outputs": [
    {
     "name": "stderr",
     "output_type": "stream",
     "text": [
      "C:\\Users\\k54739\\AppData\\Local\\Temp\\ipykernel_21088\\4185590733.py:20: FutureWarning: You are using `torch.load` with `weights_only=False` (the current default value), which uses the default pickle module implicitly. It is possible to construct malicious pickle data which will execute arbitrary code during unpickling (See https://github.com/pytorch/pytorch/blob/main/SECURITY.md#untrusted-models for more details). In a future release, the default value for `weights_only` will be flipped to `True`. This limits the functions that could be executed during unpickling. Arbitrary objects will no longer be allowed to be loaded via this mode unless they are explicitly allowlisted by the user via `torch.serialization.add_safe_globals`. We recommend you start setting `weights_only=True` for any use case where you don't have full control of the loaded file. Please open an issue on GitHub for any issues related to this experimental feature.\n",
      "  exp = torch.load(exp_path)\n",
      "C:\\Users\\k54739\\AppData\\Local\\Temp\\ipykernel_21088\\4185590733.py:21: FutureWarning: You are using `torch.load` with `weights_only=False` (the current default value), which uses the default pickle module implicitly. It is possible to construct malicious pickle data which will execute arbitrary code during unpickling (See https://github.com/pytorch/pytorch/blob/main/SECURITY.md#untrusted-models for more details). In a future release, the default value for `weights_only` will be flipped to `True`. This limits the functions that could be executed during unpickling. Arbitrary objects will no longer be allowed to be loaded via this mode unless they are explicitly allowlisted by the user via `torch.serialization.add_safe_globals`. We recommend you start setting `weights_only=True` for any use case where you don't have full control of the loaded file. Please open an issue on GitHub for any issues related to this experimental feature.\n",
      "  control = torch.load(control_path)\n",
      "C:\\Users\\k54739\\AppData\\Local\\Temp\\ipykernel_21088\\4185590733.py:22: FutureWarning: You are using `torch.load` with `weights_only=False` (the current default value), which uses the default pickle module implicitly. It is possible to construct malicious pickle data which will execute arbitrary code during unpickling (See https://github.com/pytorch/pytorch/blob/main/SECURITY.md#untrusted-models for more details). In a future release, the default value for `weights_only` will be flipped to `True`. This limits the functions that could be executed during unpickling. Arbitrary objects will no longer be allowed to be loaded via this mode unless they are explicitly allowlisted by the user via `torch.serialization.add_safe_globals`. We recommend you start setting `weights_only=True` for any use case where you don't have full control of the loaded file. Please open an issue on GitHub for any issues related to this experimental feature.\n",
      "  sd = torch.load(sd_path)\n",
      "C:\\Users\\k54739\\AppData\\Local\\Temp\\ipykernel_21088\\4185590733.py:23: FutureWarning: You are using `torch.load` with `weights_only=False` (the current default value), which uses the default pickle module implicitly. It is possible to construct malicious pickle data which will execute arbitrary code during unpickling (See https://github.com/pytorch/pytorch/blob/main/SECURITY.md#untrusted-models for more details). In a future release, the default value for `weights_only` will be flipped to `True`. This limits the functions that could be executed during unpickling. Arbitrary objects will no longer be allowed to be loaded via this mode unless they are explicitly allowlisted by the user via `torch.serialization.add_safe_globals`. We recommend you start setting `weights_only=True` for any use case where you don't have full control of the loaded file. Please open an issue on GitHub for any issues related to this experimental feature.\n",
      "  cosine_centroid = torch.load(centroid_path)\n"
     ]
    },
    {
     "data": {
      "image/png": "[encoded data removed]",
      "text/plain": [
       "<Figure size 1200x600 with 1 Axes>"
      ]
     },
     "metadata": {},
     "output_type": "display_data"
    }
   ],
   "source": [
    "# File paths\n",
    "exp_save_path_torch = r\"C:\\Users\\k54739\\Bibi_new_thesis\\thesis\\Source_Code\\Ranking(prediction)_model\\kmeans_ranking\\NoContrast_resizeOnly\\after\\ex.pt\"\n",
    "control_save_path_torch = r\"C:\\Users\\k54739\\Bibi_new_thesis\\thesis\\Source_Code\\Ranking(prediction)_model\\kmeans_ranking\\NoContrast_resizeOnly\\after\\cond7.pt\"\n",
    "sd_save_path_torch = r\"C:\\Users\\k54739\\Bibi_new_thesis\\thesis\\Source_Code\\Ranking(prediction)_model\\kmeans_ranking\\NoContrast_resizeOnly\\after\\sd.pt\"\n",
    "cosine_centroid_save_path_torch = r\"C:\\Users\\k54739\\Bibi_new_thesis\\thesis\\Source_Code\\Ranking(prediction)_model\\kmeans_ranking\\NoContrast_resizeOnly\\after\\sd_centroid.pt\"\n",
    "\n",
    "# Call the function\n",
    "distances = calculate_and_plot_cosine_distances(\n",
    "    exp_save_path_torch,\n",
    "    control_save_path_torch,\n",
    "    sd_save_path_torch,\n",
    "    cosine_centroid_save_path_torch,\n",
    "    bins=20\n",
    ")\n",
    "\n",
    "# Access distances if needed\n",
    "control_distances = distances[\"control_cosine_distances\"]\n",
    "exp_distances = distances[\"exp_cosine_distances\"]\n",
    "sd_distances = distances[\"sd_cosine_distances\"]\n"
   ]
  },
  {
   "cell_type": "code",
   "execution_count": null,
   "metadata": {},
   "outputs": [],
   "source": [
    "s"
   ]
  }
 ],
 "metadata": {
  "kernelspec": {
   "display_name": "master",
   "language": "python",
   "name": "python3"
  },
  "language_info": {
   "codemirror_mode": {
    "name": "ipython",
    "version": 3
   },
   "file_extension": ".py",
   "mimetype": "text/x-python",
   "name": "python",
   "nbconvert_exporter": "python",
   "pygments_lexer": "ipython3",
   "version": "3.12.4"
  }
 },
 "nbformat": 4,
 "nbformat_minor": 2
}
