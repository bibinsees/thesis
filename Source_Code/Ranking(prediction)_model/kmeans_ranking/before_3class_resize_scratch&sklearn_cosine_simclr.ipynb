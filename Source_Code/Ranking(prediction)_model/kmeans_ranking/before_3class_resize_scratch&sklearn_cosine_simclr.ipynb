{
 "cells": [
  {
   "cell_type": "code",
   "execution_count": 1,
   "metadata": {},
   "outputs": [],
   "source": [
    "import os\n",
    "import numpy as np\n",
    "import torch\n",
    "from torch import nn, optim\n",
    "from torch.utils.data import Dataset, DataLoader, random_split\n",
    "from torchvision import transforms\n",
    "import torchvision\n",
    "import tifffile as tiff\n",
    "import matplotlib.pyplot as plt\n",
    "import time\n",
    "from tqdm import tqdm\n",
    "from copy import deepcopy\n",
    "import random\n",
    "from sklearn.preprocessing import normalize\n",
    "\n",
    "from collections import Counter\n",
    "from scipy.stats import mode"
   ]
  },
  {
   "cell_type": "code",
   "execution_count": 2,
   "metadata": {},
   "outputs": [],
   "source": [
    "# Set seed for reproducibility\n",
    "def set_seed(seed):\n",
    "    random.seed(seed)\n",
    "    np.random.seed(seed)\n",
    "    torch.manual_seed(seed)\n",
    "    if torch.cuda.is_available():\n",
    "        torch.cuda.manual_seed(seed)\n",
    "        torch.cuda.manual_seed_all(seed)\n",
    "    torch.backends.cudnn.deterministic = True\n",
    "    torch.backends.cudnn.benchmark = False\n",
    "\n",
    "# Set seed\n",
    "set_seed(42)"
   ]
  },
  {
   "cell_type": "code",
   "execution_count": 3,
   "metadata": {},
   "outputs": [],
   "source": [
    "# Set the device\n",
    "device = torch.device(\"cuda\" if torch.cuda.is_available() else \"cpu\")"
   ]
  },
  {
   "cell_type": "code",
   "execution_count": 4,
   "metadata": {},
   "outputs": [],
   "source": [
    "class SimCLR(nn.Module):\n",
    "    def __init__(self, hidden_dim, lr, temperature, weight_decay):\n",
    "        super().__init__()\n",
    "        self.temperature = temperature\n",
    "        \n",
    "        # Load the pretrained ResNet-18 model\n",
    "        self.convnet = torchvision.models.resnet18(weights='ResNet18_Weights.DEFAULT')\n",
    "        \n",
    "        # Modify the fully connected layer\n",
    "        self.convnet.fc = nn.Sequential(\n",
    "            nn.Linear(self.convnet.fc.in_features, 4 * hidden_dim),  # Linear layer with 4*hidden_dim output\n",
    "            nn.ReLU(inplace=True),\n",
    "            nn.Linear(4 * hidden_dim, 20)  # Output layer with hidden_dim output\n",
    "        )\n",
    "\n",
    "        self.optimizer = optim.AdamW(self.parameters(), lr=lr, weight_decay=weight_decay)\n",
    "        self.lr_scheduler = optim.lr_scheduler.CosineAnnealingLR(self.optimizer, T_max=50, eta_min=lr / 50)\n",
    "\n",
    "    def forward(self, x):\n",
    "        return self.convnet(x)\n",
    "\n",
    "    def info_nce_loss(self, imgs1, imgs2, device):\n",
    "\n",
    "        imgs = torch.cat((imgs1, imgs2), dim=0)  # Concatenate along the batch dimension\n",
    "        imgs = imgs.to(device)  # Move images to the device\n",
    "\n",
    "        # Encode all images\n",
    "        feats = self.forward(imgs)\n",
    "    \n",
    "        # Calculate cosine similarity\n",
    "        cos_sim = nn.functional.cosine_similarity(feats[:, None, :], feats[None, :, :], dim=-1)\n",
    "    \n",
    "        # Mask out cosine similarity to itself\n",
    "        self_mask = torch.eye(cos_sim.shape[0], dtype=torch.bool, device=cos_sim.device)\n",
    "        cos_sim.masked_fill_(self_mask, -9e15)\n",
    "    \n",
    "        # Find positive example -> batch_size//2 away from the original example\n",
    "        pos_mask = self_mask.roll(shifts=cos_sim.shape[0] // 2, dims=0)\n",
    "    \n",
    "        # Normalize similarity scores by temperature\n",
    "        cos_sim = cos_sim / self.temperature\n",
    "\n",
    "        # InfoNCE loss\n",
    "        nll = -cos_sim[pos_mask] + torch.logsumexp(cos_sim, dim=-1)\n",
    "        nll = nll.mean()\n",
    "\n",
    "        # Accuracy calculations\n",
    "        # Create a combination of positive and negative similarities for ranking\n",
    "        comb_sim = torch.cat([cos_sim[pos_mask][:, None],  # Positive example in first position\n",
    "                          cos_sim.masked_fill(pos_mask, -9e15)], dim=-1)\n",
    "    \n",
    "        # Sort and get the ranking position of the positive example\n",
    "        sim_argsort = comb_sim.argsort(dim=-1, descending=True).argmin(dim=-1)\n",
    "    \n",
    "        # Compute accuracy metrics\n",
    "        top1_acc = (sim_argsort == 0).float().mean()  # Top-1 accuracy\n",
    "        top5_acc = (sim_argsort < 5).float().mean()   # Top-5 accuracy\n",
    "        mean_pos = 1 + sim_argsort.float().mean()     # Mean position of the positive example\n",
    "\n",
    "        return nll, top1_acc, top5_acc, mean_pos\n",
    "\n",
    "    def train_epoch(self, train_loader, device):\n",
    "        self.train()\n",
    "        total_loss = 0.0\n",
    "        total_top1_acc = 0.0\n",
    "        total_top5_acc = 0.0\n",
    "        total_mean_pos = 0.0\n",
    "\n",
    "        for batch in tqdm(train_loader, desc=\"Training\", leave=False):\n",
    "            imgs1, imgs2, _ = batch\n",
    "            imgs1, imgs2 = imgs1.to(device), imgs2.to(device)  # Move data to device\n",
    "        \n",
    "            self.optimizer.zero_grad()\n",
    "\n",
    "            # Calculate loss and accuracy metrics\n",
    "            loss, top1_acc, top5_acc, mean_pos = self.info_nce_loss(imgs1, imgs2, device)\n",
    "\n",
    "            loss.backward()\n",
    "            self.optimizer.step()\n",
    "            self.lr_scheduler.step()\n",
    "\n",
    "            # Accumulate metrics\n",
    "            total_loss += loss.item()\n",
    "            total_top1_acc += top1_acc.item()\n",
    "            total_top5_acc += top5_acc.item()\n",
    "            total_mean_pos += mean_pos.item()\n",
    "\n",
    "        avg_loss = total_loss / len(train_loader)\n",
    "        avg_top1_acc = total_top1_acc / len(train_loader)\n",
    "        avg_top5_acc = total_top5_acc / len(train_loader)\n",
    "        avg_mean_pos = total_mean_pos / len(train_loader)\n",
    "\n",
    "        return avg_loss, avg_top1_acc, avg_top5_acc, avg_mean_pos\n",
    "\n",
    "    def validate_epoch(self, val_loader, device):\n",
    "        self.eval()\n",
    "        total_loss = 0.0\n",
    "        total_top1_acc = 0.0\n",
    "        total_top5_acc = 0.0\n",
    "        total_mean_pos = 0.0\n",
    "\n",
    "        with torch.no_grad():\n",
    "            for batch in tqdm(val_loader, desc=\"Validating\", leave=False):\n",
    "                imgs1, imgs2, _ = batch\n",
    "                imgs1, imgs2 = imgs1.to(device), imgs2.to(device)  # Move data to device\n",
    "\n",
    "                # Calculate loss and accuracy metrics\n",
    "                loss, top1_acc, top5_acc, mean_pos = self.info_nce_loss(imgs1, imgs2, device)\n",
    "\n",
    "                # Accumulate metrics\n",
    "                total_loss += loss.item()\n",
    "                total_top1_acc += top1_acc.item()\n",
    "                total_top5_acc += top5_acc.item()\n",
    "                total_mean_pos += mean_pos.item()\n",
    "\n",
    "        avg_loss = total_loss / len(val_loader)\n",
    "        avg_top1_acc = total_top1_acc / len(val_loader)\n",
    "        avg_top5_acc = total_top5_acc / len(val_loader)\n",
    "        avg_mean_pos = total_mean_pos / len(val_loader)\n",
    "\n",
    "        return avg_loss, avg_top1_acc, avg_top5_acc, avg_mean_pos"
   ]
  },
  {
   "cell_type": "code",
   "execution_count": 5,
   "metadata": {},
   "outputs": [
    {
     "name": "stderr",
     "output_type": "stream",
     "text": [
      "C:\\Users\\k54739\\AppData\\Local\\Temp\\ipykernel_27292\\2821514420.py:2: FutureWarning: You are using `torch.load` with `weights_only=False` (the current default value), which uses the default pickle module implicitly. It is possible to construct malicious pickle data which will execute arbitrary code during unpickling (See https://github.com/pytorch/pytorch/blob/main/SECURITY.md#untrusted-models for more details). In a future release, the default value for `weights_only` will be flipped to `True`. This limits the functions that could be executed during unpickling. Arbitrary objects will no longer be allowed to be loaded via this mode unless they are explicitly allowlisted by the user via `torch.serialization.add_safe_globals`. We recommend you start setting `weights_only=True` for any use case where you don't have full control of the loaded file. Please open an issue on GitHub for any issues related to this experimental feature.\n",
      "  simclr_model = torch.load(full_model_path)\n"
     ]
    },
    {
     "data": {
      "text/plain": [
       "SimCLR(\n",
       "  (convnet): ResNet(\n",
       "    (conv1): Conv2d(3, 64, kernel_size=(7, 7), stride=(2, 2), padding=(3, 3), bias=False)\n",
       "    (bn1): BatchNorm2d(64, eps=1e-05, momentum=0.1, affine=True, track_running_stats=True)\n",
       "    (relu): ReLU(inplace=True)\n",
       "    (maxpool): MaxPool2d(kernel_size=3, stride=2, padding=1, dilation=1, ceil_mode=False)\n",
       "    (layer1): Sequential(\n",
       "      (0): BasicBlock(\n",
       "        (conv1): Conv2d(64, 64, kernel_size=(3, 3), stride=(1, 1), padding=(1, 1), bias=False)\n",
       "        (bn1): BatchNorm2d(64, eps=1e-05, momentum=0.1, affine=True, track_running_stats=True)\n",
       "        (relu): ReLU(inplace=True)\n",
       "        (conv2): Conv2d(64, 64, kernel_size=(3, 3), stride=(1, 1), padding=(1, 1), bias=False)\n",
       "        (bn2): BatchNorm2d(64, eps=1e-05, momentum=0.1, affine=True, track_running_stats=True)\n",
       "      )\n",
       "      (1): BasicBlock(\n",
       "        (conv1): Conv2d(64, 64, kernel_size=(3, 3), stride=(1, 1), padding=(1, 1), bias=False)\n",
       "        (bn1): BatchNorm2d(64, eps=1e-05, momentum=0.1, affine=True, track_running_stats=True)\n",
       "        (relu): ReLU(inplace=True)\n",
       "        (conv2): Conv2d(64, 64, kernel_size=(3, 3), stride=(1, 1), padding=(1, 1), bias=False)\n",
       "        (bn2): BatchNorm2d(64, eps=1e-05, momentum=0.1, affine=True, track_running_stats=True)\n",
       "      )\n",
       "    )\n",
       "    (layer2): Sequential(\n",
       "      (0): BasicBlock(\n",
       "        (conv1): Conv2d(64, 128, kernel_size=(3, 3), stride=(2, 2), padding=(1, 1), bias=False)\n",
       "        (bn1): BatchNorm2d(128, eps=1e-05, momentum=0.1, affine=True, track_running_stats=True)\n",
       "        (relu): ReLU(inplace=True)\n",
       "        (conv2): Conv2d(128, 128, kernel_size=(3, 3), stride=(1, 1), padding=(1, 1), bias=False)\n",
       "        (bn2): BatchNorm2d(128, eps=1e-05, momentum=0.1, affine=True, track_running_stats=True)\n",
       "        (downsample): Sequential(\n",
       "          (0): Conv2d(64, 128, kernel_size=(1, 1), stride=(2, 2), bias=False)\n",
       "          (1): BatchNorm2d(128, eps=1e-05, momentum=0.1, affine=True, track_running_stats=True)\n",
       "        )\n",
       "      )\n",
       "      (1): BasicBlock(\n",
       "        (conv1): Conv2d(128, 128, kernel_size=(3, 3), stride=(1, 1), padding=(1, 1), bias=False)\n",
       "        (bn1): BatchNorm2d(128, eps=1e-05, momentum=0.1, affine=True, track_running_stats=True)\n",
       "        (relu): ReLU(inplace=True)\n",
       "        (conv2): Conv2d(128, 128, kernel_size=(3, 3), stride=(1, 1), padding=(1, 1), bias=False)\n",
       "        (bn2): BatchNorm2d(128, eps=1e-05, momentum=0.1, affine=True, track_running_stats=True)\n",
       "      )\n",
       "    )\n",
       "    (layer3): Sequential(\n",
       "      (0): BasicBlock(\n",
       "        (conv1): Conv2d(128, 256, kernel_size=(3, 3), stride=(2, 2), padding=(1, 1), bias=False)\n",
       "        (bn1): BatchNorm2d(256, eps=1e-05, momentum=0.1, affine=True, track_running_stats=True)\n",
       "        (relu): ReLU(inplace=True)\n",
       "        (conv2): Conv2d(256, 256, kernel_size=(3, 3), stride=(1, 1), padding=(1, 1), bias=False)\n",
       "        (bn2): BatchNorm2d(256, eps=1e-05, momentum=0.1, affine=True, track_running_stats=True)\n",
       "        (downsample): Sequential(\n",
       "          (0): Conv2d(128, 256, kernel_size=(1, 1), stride=(2, 2), bias=False)\n",
       "          (1): BatchNorm2d(256, eps=1e-05, momentum=0.1, affine=True, track_running_stats=True)\n",
       "        )\n",
       "      )\n",
       "      (1): BasicBlock(\n",
       "        (conv1): Conv2d(256, 256, kernel_size=(3, 3), stride=(1, 1), padding=(1, 1), bias=False)\n",
       "        (bn1): BatchNorm2d(256, eps=1e-05, momentum=0.1, affine=True, track_running_stats=True)\n",
       "        (relu): ReLU(inplace=True)\n",
       "        (conv2): Conv2d(256, 256, kernel_size=(3, 3), stride=(1, 1), padding=(1, 1), bias=False)\n",
       "        (bn2): BatchNorm2d(256, eps=1e-05, momentum=0.1, affine=True, track_running_stats=True)\n",
       "      )\n",
       "    )\n",
       "    (layer4): Sequential(\n",
       "      (0): BasicBlock(\n",
       "        (conv1): Conv2d(256, 512, kernel_size=(3, 3), stride=(2, 2), padding=(1, 1), bias=False)\n",
       "        (bn1): BatchNorm2d(512, eps=1e-05, momentum=0.1, affine=True, track_running_stats=True)\n",
       "        (relu): ReLU(inplace=True)\n",
       "        (conv2): Conv2d(512, 512, kernel_size=(3, 3), stride=(1, 1), padding=(1, 1), bias=False)\n",
       "        (bn2): BatchNorm2d(512, eps=1e-05, momentum=0.1, affine=True, track_running_stats=True)\n",
       "        (downsample): Sequential(\n",
       "          (0): Conv2d(256, 512, kernel_size=(1, 1), stride=(2, 2), bias=False)\n",
       "          (1): BatchNorm2d(512, eps=1e-05, momentum=0.1, affine=True, track_running_stats=True)\n",
       "        )\n",
       "      )\n",
       "      (1): BasicBlock(\n",
       "        (conv1): Conv2d(512, 512, kernel_size=(3, 3), stride=(1, 1), padding=(1, 1), bias=False)\n",
       "        (bn1): BatchNorm2d(512, eps=1e-05, momentum=0.1, affine=True, track_running_stats=True)\n",
       "        (relu): ReLU(inplace=True)\n",
       "        (conv2): Conv2d(512, 512, kernel_size=(3, 3), stride=(1, 1), padding=(1, 1), bias=False)\n",
       "        (bn2): BatchNorm2d(512, eps=1e-05, momentum=0.1, affine=True, track_running_stats=True)\n",
       "      )\n",
       "    )\n",
       "    (avgpool): AdaptiveAvgPool2d(output_size=(1, 1))\n",
       "    (fc): Sequential(\n",
       "      (0): Linear(in_features=512, out_features=512, bias=True)\n",
       "      (1): ReLU(inplace=True)\n",
       "      (2): Linear(in_features=512, out_features=20, bias=True)\n",
       "    )\n",
       "  )\n",
       ")"
      ]
     },
     "execution_count": 5,
     "metadata": {},
     "output_type": "execute_result"
    }
   ],
   "source": [
    "full_model_path =  r'C:\\Users\\k54739\\saved_model\\simclr_modelepoch250.pth' \n",
    "simclr_model = torch.load(full_model_path)\n",
    "simclr_model.eval()\n",
    "simclr_model.to(device)"
   ]
  },
  {
   "cell_type": "markdown",
   "metadata": {},
   "source": [
    "# Clustering"
   ]
  },
  {
   "cell_type": "code",
   "execution_count": 57,
   "metadata": {},
   "outputs": [
    {
     "name": "stdout",
     "output_type": "stream",
     "text": [
      "Label distribution: {'explod': 29}\n"
     ]
    }
   ],
   "source": [
    "class LabeledImageDataset(Dataset):\n",
    "    def __init__(self, image_files, labels, transform=None):\n",
    "        self.image_files = image_files\n",
    "        self.labels = labels\n",
    "        #self.transform = transform\n",
    "        self.resize_transform = transforms.Resize((96, 96))\n",
    "\n",
    "    def __len__(self):\n",
    "        return len(self.image_files)\n",
    "\n",
    "    def __getitem__(self, idx):\n",
    "        img_path = self.image_files[idx]\n",
    "        image = tiff.imread(img_path)\n",
    "\n",
    "        # Ensure the image has 3 layers (channels)\n",
    "        if image.shape[0] != 3:\n",
    "            raise ValueError(f\"Image {img_path} does not have exactly 3 layers.\")\n",
    "\n",
    "        # Normalize the 16-bit image to [0, 1]\n",
    "        image = image.astype(np.float32) / 65535.0\n",
    "\n",
    "        # Convert to a torch tensor and add channel dimension\n",
    "        image = torch.tensor(image, dtype=torch.float32)\n",
    "        \n",
    "        # Apply resize transform\n",
    "        image = self.resize_transform(image)\n",
    "\n",
    "        label = self.labels[idx]\n",
    "\n",
    "        return image, label\n",
    "\n",
    "def load_data(root_dir):\n",
    "    classes = ['explod']\n",
    "    #classes = ['untreated', 'single_dose']   #classes = ['untreated', 'single_dose', 'drug_screened']\n",
    "    image_files = []\n",
    "    labels = []\n",
    "\n",
    "    for idx, class_name in enumerate(classes):\n",
    "        class_dir = os.path.join(root_dir, class_name)\n",
    "        files = [os.path.join(class_dir, file) for file in os.listdir(class_dir) if file.endswith(('.tiff', '.tif'))]\n",
    "        image_files.extend(files)\n",
    "        labels.extend([idx] * len(files))\n",
    "    \n",
    "    # Check if the labels correctly reflect the classes\n",
    "    print(\"Label distribution:\", {classes[i]: labels.count(i) for i in range(len(classes))})\n",
    "\n",
    "    return image_files, labels\n",
    "\n",
    "\n",
    "# Directories for labeled data\n",
    "image_dir = r\"C:\\Users\\k54739\\Bibi_new_thesis\\thesis\\kmeans_rank_class\\singledose_controls\"\n",
    "\n",
    "# Load data\n",
    "image_files, labels = load_data(image_dir)\n",
    "\n",
    "# Create the labeled datasets\n",
    "labeled_dataset = LabeledImageDataset(image_files, labels)\n",
    "\n",
    "# Define DataLoaders\n",
    "batch_size = 16\n",
    "loader_labeled = DataLoader(labeled_dataset, batch_size=batch_size, shuffle=True, drop_last=False, pin_memory=True, num_workers=0)"
   ]
  },
  {
   "cell_type": "code",
   "execution_count": 58,
   "metadata": {},
   "outputs": [
    {
     "name": "stdout",
     "output_type": "stream",
     "text": [
      "torch.Size([16, 3, 96, 96]) torch.Size([16]) torch.float32\n",
      "tensor([0, 0, 0, 0, 0, 0, 0, 0, 0, 0, 0, 0, 0, 0, 0, 0])\n"
     ]
    }
   ],
   "source": [
    "for anchor,label in loader_labeled:\n",
    "    print(anchor.shape, label.shape, anchor.dtype)\n",
    "    print(label)\n",
    "    break"
   ]
  },
  {
   "cell_type": "code",
   "execution_count": 59,
   "metadata": {},
   "outputs": [],
   "source": [
    "@torch.no_grad()\n",
    "def prepare_data_features(model, dataloader):\n",
    "    # Prepare model\n",
    "    network = deepcopy(model.convnet)\n",
    "    network.fc = nn.Identity()  # Removing projection head g(.)\n",
    "    network.eval()\n",
    "    network.to(device)\n",
    "\n",
    "    # Encode all images\n",
    "    feats, labels = [], []\n",
    "    for batch_imgs, batch_labels in tqdm(dataloader):\n",
    "        batch_imgs = batch_imgs.to(device)\n",
    "        batch_feats = network(batch_imgs)\n",
    "        print(f\"Batch features shape: {batch_feats.shape}\")\n",
    "        print(f\"Batch labels shape: {batch_labels.shape}\")\n",
    "        \n",
    "        feats.append(batch_feats.detach().cpu())\n",
    "        labels.append(batch_labels)\n",
    "\n",
    "    feats = torch.cat(feats, dim=0)\n",
    "    labels = torch.cat(labels, dim=0)\n",
    "    \n",
    "    print(f\"Features shape after concatenation: {feats.shape}\")\n",
    "    print(f\"Labels shape after concatenation: {labels.shape}\")\n",
    "\n",
    "    return torch.utils.data.TensorDataset(feats, labels)"
   ]
  },
  {
   "cell_type": "code",
   "execution_count": 60,
   "metadata": {},
   "outputs": [
    {
     "name": "stderr",
     "output_type": "stream",
     "text": [
      " 50%|█████     | 1/2 [00:00<00:00,  1.45it/s]"
     ]
    },
    {
     "name": "stdout",
     "output_type": "stream",
     "text": [
      "Batch features shape: torch.Size([16, 512])\n",
      "Batch labels shape: torch.Size([16])\n"
     ]
    },
    {
     "name": "stderr",
     "output_type": "stream",
     "text": [
      "100%|██████████| 2/2 [00:01<00:00,  1.59it/s]"
     ]
    },
    {
     "name": "stdout",
     "output_type": "stream",
     "text": [
      "Batch features shape: torch.Size([13, 512])\n",
      "Batch labels shape: torch.Size([13])\n",
      "Features shape after concatenation: torch.Size([29, 512])\n",
      "Labels shape after concatenation: torch.Size([29])\n"
     ]
    },
    {
     "name": "stderr",
     "output_type": "stream",
     "text": [
      "\n"
     ]
    }
   ],
   "source": [
    "# Extract features for train and test datasets\n",
    "feats_simclr = prepare_data_features(simclr_model, loader_labeled)"
   ]
  },
  {
   "cell_type": "code",
   "execution_count": 61,
   "metadata": {},
   "outputs": [
    {
     "data": {
      "text/plain": [
       "torch.Size([29, 512])"
      ]
     },
     "execution_count": 61,
     "metadata": {},
     "output_type": "execute_result"
    }
   ],
   "source": [
    "beforeResize_ex_29 = feats_simclr.tensors[0]\n",
    "beforeResize_ex_29.shape"
   ]
  },
  {
   "cell_type": "code",
   "execution_count": 62,
   "metadata": {},
   "outputs": [],
   "source": [
    "# Save in the current folder\n",
    "save_path = \"beforeResize_ex_29.pt\"  # File name only\n",
    "\n",
    "# Save the tensor\n",
    "torch.save(beforeResize_ex_29, save_path)"
   ]
  },
  {
   "cell_type": "code",
   "execution_count": 41,
   "metadata": {},
   "outputs": [
    {
     "name": "stdout",
     "output_type": "stream",
     "text": [
      "Shape of features (for K-Means): (120, 512)\n",
      "Shape of labels: (120,)\n"
     ]
    }
   ],
   "source": [
    "# Convert features and labels to NumPy arrays\n",
    "feats_np = feats_simclr.tensors[0].numpy()  # Features in shape (60, 512)\n",
    "feats_np_norm = normalize(feats_np, axis=1)\n",
    "labels_np = feats_simclr.tensors[1].numpy()  # Corresponding labels\n",
    "\n",
    "# Check the shapes\n",
    "print(\"Shape of features (for K-Means):\", feats_np.shape)\n",
    "print(\"Shape of labels:\", labels_np.shape)"
   ]
  },
  {
   "cell_type": "markdown",
   "metadata": {},
   "source": [
    "SKLEARN"
   ]
  },
  {
   "cell_type": "code",
   "execution_count": 14,
   "metadata": {},
   "outputs": [],
   "source": [
    "from sklearn.metrics.pairwise import cosine_similarity"
   ]
  },
  {
   "cell_type": "code",
   "execution_count": 15,
   "metadata": {},
   "outputs": [],
   "source": [
    "# Define KMeansCosine class\n",
    "class KMeansCosine:\n",
    "    def __init__(self, n_clusters=2, max_iter=300, random_state=None):\n",
    "        self.n_clusters = n_clusters\n",
    "        self.max_iter = max_iter\n",
    "        self.random_state = random_state\n",
    "\n",
    "    def fit(self, X):\n",
    "        # Normalize the data to unit vectors\n",
    "        X_normalized = X / np.linalg.norm(X, axis=1)[:, np.newaxis]\n",
    "\n",
    "        # Initialize centroids randomly from the data points\n",
    "        np.random.seed(self.random_state)\n",
    "        initial_indices = np.random.choice(X_normalized.shape[0], self.n_clusters, replace=False)\n",
    "        centroids = X_normalized[initial_indices]\n",
    "\n",
    "        # Track the minimum cost and corresponding labels/centroids\n",
    "        best_cost = float('inf')\n",
    "        best_labels = None\n",
    "        best_centroids = None\n",
    "\n",
    "\n",
    "        for _ in range(self.max_iter):\n",
    "            # Compute the cosine similarity and distance\n",
    "            similarities = cosine_similarity(X_normalized, centroids)\n",
    "            cosine_dist = 1 - similarities\n",
    "            cost = np.sum(cosine_dist)\n",
    "            print(f\"Iteration cost: {cost}\")\n",
    "\n",
    "            # Update best cost and corresponding labels/centroids if the current cost is lower\n",
    "            if cost < best_cost:\n",
    "                best_cost = cost\n",
    "                best_labels = np.argmax(similarities, axis=1)\n",
    "                best_centroids = centroids.copy()\n",
    "\n",
    "            # Assign clusters based on the highest similarity (lowest distance)\n",
    "            labels = np.argmax(similarities, axis=1)\n",
    "\n",
    "            # Update centroids by taking the mean of the points in each cluster\n",
    "            new_centroids = np.array([X_normalized[labels == i].mean(axis=0) for i in range(self.n_clusters)])\n",
    "            new_centroids /= np.linalg.norm(new_centroids, axis=1)[:, np.newaxis]\n",
    "\n",
    "            # Check for convergence (if centroids do not change)\n",
    "            if np.allclose(centroids, new_centroids, atol=1e-6):  # Use np.allclose for numerical stability\n",
    "                break\n",
    "\n",
    "            centroids = new_centroids\n",
    "\n",
    "        # Store final centroids and labels\n",
    "        self.labels_ = labels\n",
    "        self.centroids_ = centroids\n",
    "        self.best_labels_ = best_labels\n",
    "        self.best_centroids_ = best_centroids\n",
    "        self.best_cost_ = best_cost"
   ]
  },
  {
   "cell_type": "markdown",
   "metadata": {},
   "source": [
    "# Define KMeansCosine class\n",
    "class KMeansCosine:\n",
    "    def __init__(self, n_clusters=2, max_iter=300, random_state=None):\n",
    "        self.n_clusters = n_clusters\n",
    "        self.max_iter = max_iter\n",
    "        self.random_state = random_state\n",
    "\n",
    "    def fit(self, X):\n",
    "        X_normalized = X / np.linalg.norm(X, axis=1)[:, np.newaxis]\n",
    "        np.random.seed(self.random_state)\n",
    "        initial_indices = np.random.choice(X_normalized.shape[0], self.n_clusters, replace=False)\n",
    "        centroids = X_normalized[initial_indices]\n",
    "\n",
    "        for _ in range(self.max_iter):\n",
    "            similarities = cosine_similarity(X_normalized, centroids)\n",
    "            labels = np.argmax(similarities, axis=1)\n",
    "            new_centroids = np.array([X_normalized[labels == i].mean(axis=0) for i in range(self.n_clusters)])\n",
    "            new_centroids /= np.linalg.norm(new_centroids, axis=1)[:, np.newaxis]\n",
    "\n",
    "            if np.all(centroids == new_centroids):\n",
    "                break\n",
    "\n",
    "            centroids = new_centroids\n",
    "\n",
    "        self.labels_ = labels\n",
    "        self.centroids_ = centroids"
   ]
  },
  {
   "cell_type": "code",
   "execution_count": 16,
   "metadata": {},
   "outputs": [
    {
     "name": "stdout",
     "output_type": "stream",
     "text": [
      "Iteration cost: 54.9720573425293\n",
      "Iteration cost: 38.92974853515625\n",
      "Iteration cost: 48.66109848022461\n",
      "Iteration cost: 53.071651458740234\n",
      "Final Cluster Labels: [1 1 0 0 1 1 1 0 0 0 0 0 1 0 1 0 1 1 1 0 0 1 1 1 0 0 0 0 1 0 0 0 0 1 0 1 1\n",
      " 0 0 1 0 1 1 1 0 0 1 1 1 0 0 1 1 1 1 1 0 1 0 0]\n",
      "Final Centroids: [[1.0003329e-01 7.1134530e-02 1.3496888e-02 ... 7.4399240e-02\n",
      "  5.3283852e-03 2.8860155e-03]\n",
      " [1.9062622e-02 6.3000605e-02 2.1662680e-02 ... 2.6320095e-05\n",
      "  2.7657984e-02 8.9209400e-02]]\n",
      "Best Cluster Labels with Lowest Cost: [1 1 0 0 1 0 1 0 0 0 0 0 1 0 1 0 0 0 1 0 0 1 1 1 0 0 0 0 1 0 0 0 1 1 0 1 1\n",
      " 0 0 1 0 1 1 1 0 0 1 1 0 0 0 1 1 0 1 0 0 1 0 0]\n",
      "Best Centroids with Lowest Cost: [[0.08393195 0.10958555 0.00645621 ... 0.06358609 0.01830965 0.05802784]\n",
      " [0.06048244 0.04637161 0.03946957 ... 0.02481711 0.02125961 0.04989019]]\n",
      "Lowest Cost: 38.92975\n"
     ]
    }
   ],
   "source": [
    "kmeans_cosine = KMeansCosine(n_clusters=2, max_iter=100, random_state=30)\n",
    "kmeans_cosine.fit(feats_np)\n",
    "\n",
    "print(\"Final Cluster Labels:\", kmeans_cosine.labels_)\n",
    "print(\"Final Centroids:\", kmeans_cosine.centroids_)\n",
    "#print(\"Best Cluster Labels with Lowest Cost:\", kmeans_cosine.best_labels_)\n",
    "print(\"Best Centroids with Lowest Cost:\", kmeans_cosine.best_centroids_)\n",
    "print(\"Lowest Cost:\", kmeans_cosine.best_cost_)"
   ]
  },
  {
   "cell_type": "code",
   "execution_count": 17,
   "metadata": {},
   "outputs": [
    {
     "data": {
      "text/plain": [
       "array([1, 1, 0, 0, 1, 1, 1, 0, 0, 0, 0, 0, 1, 0, 1, 0, 1, 1, 1, 0, 0, 1,\n",
       "       1, 1, 0, 0, 0, 0, 1, 0, 0, 0, 0, 1, 0, 1, 1, 0, 0, 1, 0, 1, 1, 1,\n",
       "       0, 0, 1, 1, 1, 0, 0, 1, 1, 1, 1, 1, 0, 1, 0, 0], dtype=int64)"
      ]
     },
     "execution_count": 17,
     "metadata": {},
     "output_type": "execute_result"
    }
   ],
   "source": [
    "idx = kmeans_cosine.labels_\n",
    "idx"
   ]
  },
  {
   "cell_type": "code",
   "execution_count": 18,
   "metadata": {},
   "outputs": [
    {
     "name": "stdout",
     "output_type": "stream",
     "text": [
      "Cluster assignments: [1 1 0 0 1 1 1 0 0 0 0 0 1 0 1 0 1 1 1 0 0 1 1 1 0 0 0 0 1 0 0 0 0 1 0 1 1\n",
      " 0 0 1 0 1 1 1 0 0 1 1 1 0 0 1 1 1 1 1 0 1 0 0]\n",
      "True labels: [1 1 0 0 1 1 1 0 0 0 0 0 1 0 1 0 1 1 1 0 0 1 1 1 0 0 0 0 1 0 0 0 0 1 0 1 1\n",
      " 0 0 1 0 1 1 1 0 0 1 1 1 0 0 1 1 1 1 1 0 1 0 0]\n"
     ]
    }
   ],
   "source": [
    "print(\"Cluster assignments:\", idx)\n",
    "print(\"True labels:\", labels_np)"
   ]
  },
  {
   "cell_type": "code",
   "execution_count": 19,
   "metadata": {},
   "outputs": [
    {
     "data": {
      "text/plain": [
       "array([1, 1, 0, 0, 1, 0, 1, 0, 0, 0, 0, 0, 1, 0, 1, 0, 0, 0, 1, 0, 0, 1,\n",
       "       1, 1, 0, 0, 0, 0, 1, 0, 0, 0, 1, 1, 0, 1, 1, 0, 0, 1, 0, 1, 1, 1,\n",
       "       0, 0, 1, 1, 0, 0, 0, 1, 1, 0, 1, 0, 0, 1, 0, 0], dtype=int64)"
      ]
     },
     "execution_count": 19,
     "metadata": {},
     "output_type": "execute_result"
    }
   ],
   "source": [
    "best_idx = kmeans_cosine.best_labels_\n",
    "best_idx"
   ]
  },
  {
   "cell_type": "code",
   "execution_count": 20,
   "metadata": {},
   "outputs": [
    {
     "name": "stdout",
     "output_type": "stream",
     "text": [
      "Cluster assignments: [1 1 0 0 1 0 1 0 0 0 0 0 1 0 1 0 0 0 1 0 0 1 1 1 0 0 0 0 1 0 0 0 1 1 0 1 1\n",
      " 0 0 1 0 1 1 1 0 0 1 1 0 0 0 1 1 0 1 0 0 1 0 0]\n",
      "True labels: [0, 0, 0, 0, 0, 0, 0, 0, 0, 0, 0, 0, 0, 0, 0, 0, 0, 0, 0, 0, 0, 0, 0, 0, 0, 0, 0, 0, 0, 0, 1, 1, 1, 1, 1, 1, 1, 1, 1, 1, 1, 1, 1, 1, 1, 1, 1, 1, 1, 1, 1, 1, 1, 1, 1, 1, 1, 1, 1, 1]\n"
     ]
    }
   ],
   "source": [
    "print(\"Cluster assignments:\", best_idx)\n",
    "print(\"True labels:\", labels)"
   ]
  },
  {
   "cell_type": "code",
   "execution_count": 23,
   "metadata": {},
   "outputs": [
    {
     "name": "stdout",
     "output_type": "stream",
     "text": [
      "Cluster 0 has true labels: Counter({0: 30})\n",
      "Cluster 1 has true labels: Counter({1: 30})\n"
     ]
    }
   ],
   "source": [
    "# `idx` contains the cluster assignments from KMeans\n",
    "#  `labels` contains the true labels\n",
    "\n",
    "K = len(np.unique(idx))  # Number of clusters\n",
    "\n",
    "# Iterate over each cluster and count the true labels in that cluster\n",
    "for cluster in range(K):\n",
    "    # Find the indices of images assigned to the current cluster\n",
    "    cluster_indices = np.where(idx == cluster)[0]\n",
    "    \n",
    "    # Get the true labels for the images in this cluster\n",
    "    cluster_labels = labels_np[cluster_indices]\n",
    "    \n",
    "    # Use Counter to count occurrences of each label in the cluster\n",
    "    label_counts = Counter(cluster_labels)\n",
    "    \n",
    "    # Print the result\n",
    "    print(f\"Cluster {cluster} has true labels: {label_counts}\")\n"
   ]
  },
  {
   "cell_type": "code",
   "execution_count": 24,
   "metadata": {},
   "outputs": [
    {
     "name": "stdout",
     "output_type": "stream",
     "text": [
      "Cluster 0 has true labels: Counter({0: 29, 1: 6})\n",
      "Cluster 1 has true labels: Counter({1: 24, 0: 1})\n"
     ]
    }
   ],
   "source": [
    "K = len(np.unique(best_idx))  # Number of clusters\n",
    "\n",
    "# Iterate over each cluster and count the true labels in that cluster\n",
    "for cluster in range(K):\n",
    "    # Find the indices of images assigned to the current cluster\n",
    "    cluster_indices = np.where(best_idx == cluster)[0]\n",
    "    \n",
    "    # Get the true labels for the images in this cluster\n",
    "    cluster_labels = labels_np[cluster_indices]\n",
    "    \n",
    "    # Use Counter to count occurrences of each label in the cluster\n",
    "    label_counts = Counter(cluster_labels)\n",
    "    \n",
    "    # Print the result\n",
    "    print(f\"Cluster {cluster} has true labels: {label_counts}\")"
   ]
  },
  {
   "cell_type": "code",
   "execution_count": 25,
   "metadata": {},
   "outputs": [],
   "source": [
    "# Function to reorder K-Means labels to match true labels\n",
    "def reorder_labels(true_labels, predicted_labels):\n",
    "    reordered_labels = np.zeros_like(predicted_labels)\n",
    "\n",
    "    for cluster in np.unique(predicted_labels):\n",
    "        mask = (predicted_labels == cluster)\n",
    "        # Use mode and handle cases where mode() returns a scalar\n",
    "        most_common_label = mode(true_labels[mask], axis=None).mode  # Get the mode for the current cluster\n",
    "        if isinstance(most_common_label, np.ndarray):\n",
    "            most_common_label = most_common_label[0]  # Safely extract the mode value if it's an array\n",
    "        \n",
    "        reordered_labels[mask] = most_common_label\n",
    "\n",
    "    return reordered_labels"
   ]
  },
  {
   "cell_type": "code",
   "execution_count": 29,
   "metadata": {},
   "outputs": [
    {
     "name": "stdout",
     "output_type": "stream",
     "text": [
      "Accuracy: 100.00%\n"
     ]
    }
   ],
   "source": [
    "# Apply this after running K-Means\n",
    "reordered_idx = reorder_labels(labels_np, idx)\n",
    "\n",
    "# Now you can compare `reordered_idx` with `labels` to evaluate accuracy\n",
    "accuracy = np.sum(reordered_idx == labels_np) / len(labels_np) * 100\n",
    "print(f\"Accuracy: {accuracy:.2f}%\")"
   ]
  },
  {
   "cell_type": "code",
   "execution_count": 30,
   "metadata": {},
   "outputs": [
    {
     "name": "stdout",
     "output_type": "stream",
     "text": [
      "Accuracy: 88.33%\n"
     ]
    }
   ],
   "source": [
    "# Apply this after running K-Means\n",
    "reordered_idx = reorder_labels(labels_np, best_idx)\n",
    "\n",
    "# Now you can compare `reordered_idx` with `labels` to evaluate accuracy\n",
    "accuracy = np.sum(reordered_idx == labels_np) / len(labels) * 100\n",
    "print(f\"Accuracy: {accuracy:.2f}%\")"
   ]
  },
  {
   "cell_type": "markdown",
   "metadata": {},
   "source": [
    "From scratch"
   ]
  },
  {
   "cell_type": "code",
   "execution_count": 42,
   "metadata": {},
   "outputs": [],
   "source": [
    "# K-Means initialization function\n",
    "def kMeans_init_centroids(X, K):\n",
    "    randidx = np.random.permutation(X.shape[0])\n",
    "    centroids = X[randidx[:K]]\n",
    "    return centroids\n",
    "\n",
    "# Function to find the closest centroids using Cosine Similarity\n",
    "def find_closest_centroids(X, centroids):\n",
    "    # Normalize both the data points and centroids to ensure we compute cosine similarity\n",
    "    #X_norm = normalize(X, axis=1)\n",
    "    #centroids_norm = normalize(centroids, axis=1)\n",
    "    \n",
    "    # Assign data points to closest centroids based on cosine similarity\n",
    "    idx = np.zeros(X.shape[0], dtype=int)\n",
    "    for i in range(X.shape[0]):\n",
    "        # Compute cosine similarity\n",
    "        similarities = np.dot(centroids, X[i])  # Dot product gives cosine similarity\n",
    "        idx[i] = np.argmax(similarities)  # We want the most similar (highest value)\n",
    "    return idx\n",
    "\n",
    "# Function to compute new centroids\n",
    "def compute_centroids(X, idx, K):\n",
    "    centroids = np.zeros((K, X.shape[1]))  # Use shape[1] for features\n",
    "    for k in range(K):\n",
    "        points = X[idx == k]\n",
    "        if len(points) > 0:\n",
    "            centroids[k] = np.mean(points, axis=0)   # noralised vectors mean maynot be normalised. hence we normalise before calculating mean.https://chatgpt.com/share/671b97a7-ec2c-8010-af33-af106df0a25c\n",
    "            centroids_norm = normalize(centroids, axis=1)\n",
    "    return centroids_norm\n",
    "\n",
    "# Function to run K-Means algorithm with cost tracking (using Cosine Similarity)\n",
    "def run_kMeans(X, initial_centroids, max_iters=10):\n",
    "    K = initial_centroids.shape[0]\n",
    "    centroids = initial_centroids\n",
    "    idx = np.zeros(X.shape[0])\n",
    "    \n",
    "    best_centroids = centroids\n",
    "    lowest_cost = float('inf')\n",
    "    final_iteration = 0  # To keep track of the iteration where the best centroids were found\n",
    "    best_idx = idx  # Track the best index assignment\n",
    "\n",
    "    for i in range(max_iters):\n",
    "        print(f\"K-Means iteration {i}/{max_iters - 1}\")\n",
    "        \n",
    "        # Assign each data point to the closest centroid using cosine similarity\n",
    "        idx = find_closest_centroids(X, centroids)\n",
    "        \n",
    "        # Compute new centroids\n",
    "        centroids = compute_centroids(X, idx, K)\n",
    "\n",
    "        # Calculate cost function for the current centroids using cosine distance\n",
    "\n",
    "        # 1. Compute cosine similarity\n",
    "        sim = np.dot(X, centroids.T)\n",
    "        #print(sim.shape)\n",
    "        #print(sim)\n",
    "        # 2. Calculate cosine distance\n",
    "        cosine_dist = 1 - sim\n",
    "        #print(cosine_dist.shape)\n",
    "        #print(cosine_dist)\n",
    "        # 3. Find maximum cosine distance for each data point\n",
    "        #max_cosine_dist = cosine_dist.max(axis=1)\n",
    "        #print(max_cosine_dist.shape)\n",
    "        #print(max_cosine_dist)\n",
    "        cost = np.sum(cosine_dist)\n",
    "\n",
    "        # 4. Sum of all maximum distances\n",
    "        #cost = np.sum(max_cosine_dist)\n",
    "\n",
    "        #cost = np.sum(1 - np.dot(X_norm, centroids_norm.T).max(axis=1))  # Cosine distance = 1 - cosine similarity  \n",
    "        print(f\"Cost function value: {cost}\")  # Print the cost function value\n",
    "\n",
    "        # Check if this is the best cost so far\n",
    "        if cost < lowest_cost:\n",
    "            lowest_cost = cost\n",
    "            best_centroids = centroids\n",
    "            best_idx = idx.copy()\n",
    "            final_iteration = i  # Update the iteration where best centroids were found\n",
    "\n",
    "    print(f\"Final centroids selected from iteration: {final_iteration}\")  # Indicate which iteration was chosen\n",
    "    return best_centroids, best_idx, centroids,idx  # Return the best centroids\n"
   ]
  },
  {
   "cell_type": "code",
   "execution_count": 43,
   "metadata": {},
   "outputs": [
    {
     "name": "stdout",
     "output_type": "stream",
     "text": [
      "K-Means iteration 0/49\n",
      "Cost function value: 17.47731813370858\n",
      "K-Means iteration 1/49\n",
      "Cost function value: 17.47731813370858\n",
      "K-Means iteration 2/49\n",
      "Cost function value: 17.47731813370858\n",
      "K-Means iteration 3/49\n",
      "Cost function value: 17.47731813370858\n",
      "K-Means iteration 4/49\n",
      "Cost function value: 17.47731813370858\n",
      "K-Means iteration 5/49\n",
      "Cost function value: 17.47731813370858\n",
      "K-Means iteration 6/49\n",
      "Cost function value: 17.47731813370858\n",
      "K-Means iteration 7/49\n",
      "Cost function value: 17.47731813370858\n",
      "K-Means iteration 8/49\n",
      "Cost function value: 17.47731813370858\n",
      "K-Means iteration 9/49\n",
      "Cost function value: 17.47731813370858\n",
      "K-Means iteration 10/49\n",
      "Cost function value: 17.47731813370858\n",
      "K-Means iteration 11/49\n",
      "Cost function value: 17.47731813370858\n",
      "K-Means iteration 12/49\n",
      "Cost function value: 17.47731813370858\n",
      "K-Means iteration 13/49\n",
      "Cost function value: 17.47731813370858\n",
      "K-Means iteration 14/49\n",
      "Cost function value: 17.47731813370858\n",
      "K-Means iteration 15/49\n",
      "Cost function value: 17.47731813370858\n",
      "K-Means iteration 16/49\n",
      "Cost function value: 17.47731813370858\n",
      "K-Means iteration 17/49\n",
      "Cost function value: 17.47731813370858\n",
      "K-Means iteration 18/49\n",
      "Cost function value: 17.47731813370858\n",
      "K-Means iteration 19/49\n",
      "Cost function value: 17.47731813370858\n",
      "K-Means iteration 20/49\n",
      "Cost function value: 17.47731813370858\n",
      "K-Means iteration 21/49\n",
      "Cost function value: 17.47731813370858\n",
      "K-Means iteration 22/49\n",
      "Cost function value: 17.47731813370858\n",
      "K-Means iteration 23/49\n",
      "Cost function value: 17.47731813370858\n",
      "K-Means iteration 24/49\n",
      "Cost function value: 17.47731813370858\n",
      "K-Means iteration 25/49\n",
      "Cost function value: 17.47731813370858\n",
      "K-Means iteration 26/49\n",
      "Cost function value: 17.47731813370858\n",
      "K-Means iteration 27/49\n",
      "Cost function value: 17.47731813370858\n",
      "K-Means iteration 28/49\n",
      "Cost function value: 17.47731813370858\n",
      "K-Means iteration 29/49\n",
      "Cost function value: 17.47731813370858\n",
      "K-Means iteration 30/49\n",
      "Cost function value: 17.47731813370858\n",
      "K-Means iteration 31/49\n",
      "Cost function value: 17.47731813370858\n",
      "K-Means iteration 32/49\n",
      "Cost function value: 17.47731813370858\n",
      "K-Means iteration 33/49\n",
      "Cost function value: 17.47731813370858\n",
      "K-Means iteration 34/49\n",
      "Cost function value: 17.47731813370858\n",
      "K-Means iteration 35/49\n",
      "Cost function value: 17.47731813370858\n",
      "K-Means iteration 36/49\n",
      "Cost function value: 17.47731813370858\n",
      "K-Means iteration 37/49\n",
      "Cost function value: 17.47731813370858\n",
      "K-Means iteration 38/49\n",
      "Cost function value: 17.47731813370858\n",
      "K-Means iteration 39/49\n",
      "Cost function value: 17.47731813370858\n",
      "K-Means iteration 40/49\n",
      "Cost function value: 17.47731813370858\n",
      "K-Means iteration 41/49\n",
      "Cost function value: 17.47731813370858\n",
      "K-Means iteration 42/49\n",
      "Cost function value: 17.47731813370858\n",
      "K-Means iteration 43/49\n",
      "Cost function value: 17.47731813370858\n",
      "K-Means iteration 44/49\n",
      "Cost function value: 17.47731813370858\n",
      "K-Means iteration 45/49\n",
      "Cost function value: 17.47731813370858\n",
      "K-Means iteration 46/49\n",
      "Cost function value: 17.47731813370858\n",
      "K-Means iteration 47/49\n",
      "Cost function value: 17.47731813370858\n",
      "K-Means iteration 48/49\n",
      "Cost function value: 17.47731813370858\n",
      "K-Means iteration 49/49\n",
      "Cost function value: 17.47731813370858\n",
      "Final centroids selected from iteration: 0\n",
      "Final centroids: [[0.06353062 0.01096427 0.02523446 ... 0.04830529 0.01113893 0.00973984]\n",
      " [0.01530024 0.0334915  0.00194385 ... 0.06465529 0.0433224  0.0243221 ]\n",
      " [0.04137508 0.07999697 0.03531468 ... 0.05744682 0.05869783 0.0036462 ]]\n"
     ]
    }
   ],
   "source": [
    "# Main function to run the K-Means algorithm\n",
    "\n",
    "K = 1                     # Set number of clusters\n",
    "initial_centroids = kMeans_init_centroids(feats_np_norm, K)  # Step 3: Initialize centroids\n",
    "max_iters = 50                # Step 4: Number of iterations\n",
    "best_centroids, best_idx, control_centroids, idx = run_kMeans(feats_np_norm, initial_centroids, max_iters)  # Step 5: Run K-Means\n",
    "print(\"Final centroids:\", centroids)  # Output the final centroids"
   ]
  },
  {
   "cell_type": "code",
   "execution_count": 44,
   "metadata": {},
   "outputs": [
    {
     "data": {
      "text/plain": [
       "array([[1.53005541e-02, 3.34919422e-02, 1.94362886e-03, 3.15431883e-04,\n",
       "        3.20133168e-02, 4.34741558e-05, 1.15721699e-01, 1.87902419e-02,\n",
       "        3.52772572e-02, 3.77266553e-03, 1.24509876e-02, 1.18337626e-02,\n",
       "        6.20064832e-02, 1.08387197e-01, 5.02498410e-03, 6.54679551e-03,\n",
       "        1.37688752e-02, 4.47871093e-03, 9.87069741e-02, 3.07936482e-02,\n",
       "        1.78028277e-04, 5.28526945e-02, 2.18619080e-03, 2.75863984e-03,\n",
       "        3.00036530e-02, 1.10245212e-01, 3.59681967e-03, 7.87103398e-03,\n",
       "        1.33930010e-02, 9.99098356e-03, 6.98310690e-03, 6.96001558e-03,\n",
       "        1.02501325e-01, 7.37235949e-04, 5.61632253e-02, 5.14593314e-02,\n",
       "        4.22004278e-02, 2.93040282e-02, 4.71343694e-02, 1.50037233e-02,\n",
       "        3.72511727e-02, 6.33646408e-02, 9.15651479e-04, 2.51667881e-02,\n",
       "        1.57402214e-02, 2.04687351e-03, 6.66309445e-02, 3.00850477e-02,\n",
       "        4.21094180e-03, 7.23823690e-02, 1.09900378e-01, 1.81788226e-02,\n",
       "        1.39228251e-02, 4.93149546e-02, 2.09378105e-02, 5.18346442e-02,\n",
       "        5.18073441e-02, 6.84802924e-03, 5.88393120e-02, 4.06426490e-02,\n",
       "        4.42899427e-02, 4.61362863e-03, 6.99116592e-02, 4.32594959e-02,\n",
       "        3.44337191e-02, 2.46482050e-02, 8.95490867e-02, 2.97159718e-03,\n",
       "        9.36268511e-04, 3.65456243e-02, 1.83692866e-04, 4.85168578e-02,\n",
       "        1.27762183e-03, 2.83888059e-02, 5.21174261e-02, 5.99844640e-04,\n",
       "        3.68681289e-02, 4.87881283e-02, 6.34242555e-02, 2.32100524e-02,\n",
       "        2.69408774e-02, 2.55121518e-02, 5.26682430e-02, 1.64048914e-02,\n",
       "        8.92422750e-02, 2.92464323e-02, 6.80329760e-02, 5.94519020e-02,\n",
       "        5.42060144e-03, 2.52607809e-03, 6.84967342e-02, 3.01534398e-02,\n",
       "        5.83288545e-02, 8.40723468e-02, 2.50973576e-03, 3.88404332e-02,\n",
       "        5.52251569e-02, 6.88700936e-02, 9.39386952e-02, 6.62743147e-03,\n",
       "        7.00567194e-02, 5.54899305e-02, 4.40086778e-03, 1.13125869e-01,\n",
       "        7.42487146e-03, 2.62762858e-02, 1.18256316e-02, 4.85388253e-02,\n",
       "        4.61353924e-03, 1.14408001e-02, 7.73954161e-03, 6.12720756e-04,\n",
       "        4.88694848e-03, 8.87570685e-04, 3.83439942e-02, 4.35712261e-02,\n",
       "        6.51596750e-02, 2.09362189e-02, 4.81377384e-02, 8.47702460e-03,\n",
       "        5.50305676e-02, 1.26593056e-02, 1.62036827e-03, 4.98461587e-02,\n",
       "        4.54388836e-03, 9.39743847e-03, 1.75305410e-02, 1.09229691e-03,\n",
       "        1.44974735e-02, 4.48869777e-03, 1.14415370e-02, 2.96249195e-02,\n",
       "        4.01068780e-03, 5.50198738e-03, 5.56818208e-02, 4.25296125e-02,\n",
       "        1.54911047e-03, 4.64543946e-02, 6.27941630e-02, 9.23094764e-02,\n",
       "        3.80995007e-02, 3.49480616e-02, 9.37494778e-03, 1.76340154e-02,\n",
       "        8.10302000e-02, 1.90710877e-02, 9.95165952e-02, 1.16530271e-02,\n",
       "        3.83410995e-03, 3.10014495e-02, 6.94420440e-03, 2.61527042e-03,\n",
       "        2.51729754e-02, 1.59544999e-02, 3.82779916e-02, 5.69986859e-02,\n",
       "        2.77351130e-02, 3.80994614e-02, 3.62771750e-02, 1.27295866e-01,\n",
       "        9.38263377e-02, 6.89170360e-03, 5.02310163e-02, 5.82204431e-02,\n",
       "        4.99158850e-02, 6.40052330e-02, 3.48373763e-02, 1.21435493e-01,\n",
       "        1.03311696e-01, 1.64522827e-03, 3.98800280e-02, 4.40629385e-02,\n",
       "        1.38157163e-02, 1.98501336e-03, 2.73017165e-03, 7.95585533e-03,\n",
       "        3.93324378e-02, 3.75189418e-02, 8.62298461e-03, 1.47643215e-02,\n",
       "        1.59548035e-03, 1.07193437e-01, 5.06089715e-02, 2.77135751e-02,\n",
       "        9.89086316e-02, 8.07992322e-02, 1.03344298e-02, 1.33028006e-02,\n",
       "        2.14714694e-02, 9.22487555e-04, 4.25316924e-02, 1.73743107e-02,\n",
       "        2.39483121e-02, 3.43772830e-02, 7.30581405e-02, 9.58671584e-03,\n",
       "        4.83053896e-02, 2.54496135e-02, 1.12940351e-02, 6.15334990e-04,\n",
       "        3.91266221e-03, 1.72188151e-02, 5.41655067e-03, 2.74133213e-02,\n",
       "        6.68412181e-02, 4.89714298e-03, 5.71173659e-03, 4.80201747e-02,\n",
       "        6.39647340e-02, 6.56604918e-03, 3.11829300e-03, 3.64349995e-03,\n",
       "        4.06172979e-02, 1.16881018e-02, 6.28750617e-03, 2.23020159e-03,\n",
       "        4.71241793e-02, 1.62405094e-02, 1.76494314e-02, 2.29476694e-03,\n",
       "        1.86744877e-02, 7.18162440e-03, 5.37165497e-02, 4.69439660e-02,\n",
       "        8.13146300e-03, 2.27072615e-03, 2.62794405e-02, 2.41771339e-04,\n",
       "        1.41322963e-02, 4.31754475e-03, 1.37359731e-02, 1.92561562e-02,\n",
       "        2.46720540e-02, 1.56981549e-02, 1.45209779e-02, 9.70564854e-02,\n",
       "        2.18654140e-02, 1.24289831e-02, 1.33285049e-02, 2.20964276e-02,\n",
       "        1.06172476e-02, 9.90462464e-03, 2.69235924e-03, 3.10573083e-03,\n",
       "        8.80617057e-03, 1.65459716e-02, 5.26894626e-03, 3.29589798e-03,\n",
       "        4.46609262e-03, 3.57324756e-02, 9.32430362e-02, 8.95693078e-03,\n",
       "        3.18843420e-02, 9.13526585e-03, 2.61853049e-02, 4.96356540e-02,\n",
       "        7.31114981e-02, 1.52778086e-03, 4.33451027e-02, 1.48607735e-02,\n",
       "        6.40544788e-02, 2.05331830e-02, 1.43012653e-02, 9.65599963e-03,\n",
       "        5.27847167e-02, 4.47718225e-02, 9.07292766e-02, 3.42966536e-03,\n",
       "        6.74929466e-02, 1.63003367e-02, 3.41682168e-03, 5.87473696e-02,\n",
       "        1.07046945e-02, 1.27724294e-02, 7.26489521e-02, 1.77244556e-02,\n",
       "        5.21509746e-02, 9.21733550e-02, 2.94530279e-02, 2.72524658e-02,\n",
       "        5.06317151e-02, 5.61514175e-02, 4.39378706e-02, 4.66929363e-02,\n",
       "        3.77130254e-02, 4.38121311e-02, 7.10966444e-03, 2.72275660e-02,\n",
       "        2.43995489e-03, 2.01565468e-02, 5.53491740e-02, 2.26272967e-04,\n",
       "        1.64410480e-03, 9.61200478e-02, 1.86419131e-03, 2.98886062e-03,\n",
       "        3.07181095e-02, 6.15478484e-02, 5.26267804e-02, 2.01539219e-02,\n",
       "        3.01876031e-02, 3.62616620e-03, 4.33000298e-02, 4.35504403e-02,\n",
       "        1.60041032e-02, 1.68437051e-02, 4.77965279e-03, 6.18964759e-02,\n",
       "        9.90054553e-03, 3.98075721e-02, 8.62152826e-03, 5.81229064e-02,\n",
       "        7.07598728e-03, 6.78983491e-03, 5.01431465e-02, 1.11505643e-02,\n",
       "        1.16485623e-01, 4.92554184e-02, 1.99668716e-02, 2.26272177e-03,\n",
       "        3.24243060e-02, 2.37618896e-02, 5.58441163e-03, 3.05462986e-02,\n",
       "        1.31688507e-02, 3.51688458e-02, 4.16386065e-03, 2.58746604e-02,\n",
       "        5.11195860e-02, 3.20063522e-03, 7.18209870e-02, 2.24517831e-02,\n",
       "        1.82935914e-02, 8.92606441e-03, 7.52030449e-02, 5.58979721e-02,\n",
       "        5.62747554e-03, 4.45678995e-04, 3.23147080e-03, 5.35031313e-03,\n",
       "        1.22385802e-03, 7.07338164e-02, 7.74371937e-03, 2.72527165e-02,\n",
       "        1.25040716e-02, 8.91932211e-02, 1.20862181e-02, 6.59929140e-03,\n",
       "        1.79103013e-02, 8.73828297e-02, 8.67434715e-02, 1.43493491e-02,\n",
       "        9.02587948e-02, 7.26972954e-02, 3.07550918e-02, 1.34940772e-02,\n",
       "        7.33828776e-02, 6.56331219e-02, 4.29331847e-02, 1.46756603e-02,\n",
       "        1.91298434e-02, 9.04879846e-03, 1.65738027e-02, 1.10840450e-02,\n",
       "        2.04391175e-03, 1.63350233e-02, 4.59663362e-02, 5.12324624e-02,\n",
       "        4.55013222e-02, 1.75295550e-03, 8.28235948e-02, 6.25169025e-03,\n",
       "        2.11006347e-02, 4.22979427e-02, 2.54722393e-02, 4.11411766e-02,\n",
       "        4.13304605e-03, 8.02403923e-02, 2.33572317e-02, 2.05617946e-03,\n",
       "        2.21662564e-02, 5.24922505e-02, 2.01138154e-02, 1.76518533e-03,\n",
       "        1.20080148e-01, 3.29406827e-02, 3.82706706e-02, 4.06272090e-02,\n",
       "        8.16997057e-02, 9.28031379e-02, 5.31655584e-03, 3.62483705e-02,\n",
       "        6.58724267e-03, 1.09944845e-01, 4.27117242e-03, 5.93133867e-02,\n",
       "        9.90239541e-03, 4.09442937e-02, 1.28505342e-02, 5.20803064e-02,\n",
       "        1.10294806e-01, 1.90695136e-02, 1.40835901e-02, 8.71391471e-02,\n",
       "        4.19483124e-02, 9.83884221e-03, 1.43441570e-02, 6.59032936e-02,\n",
       "        9.06160209e-03, 2.33633525e-03, 5.94257628e-03, 5.22597119e-03,\n",
       "        6.05011855e-02, 3.64683415e-02, 9.12016105e-03, 5.57600270e-03,\n",
       "        1.34602605e-02, 4.24411148e-02, 4.37315938e-03, 6.83091377e-03,\n",
       "        8.19418185e-02, 1.02774008e-02, 2.21981938e-02, 2.07442502e-02,\n",
       "        4.23039862e-02, 2.66812316e-02, 4.38465517e-02, 2.09100372e-02,\n",
       "        4.25386297e-02, 8.56725552e-03, 2.09771866e-02, 1.02711688e-02,\n",
       "        1.01360744e-03, 1.90866258e-02, 1.03109393e-01, 7.53585002e-02,\n",
       "        3.11942228e-02, 3.86747966e-02, 4.47298454e-02, 6.88054644e-02,\n",
       "        4.91290729e-02, 2.75719057e-03, 4.38244753e-02, 4.28453106e-02,\n",
       "        3.03510596e-02, 4.92484723e-02, 5.94645514e-02, 4.93455250e-02,\n",
       "        9.21259163e-04, 1.18911786e-02, 5.87877508e-03, 4.70357078e-02,\n",
       "        1.17868892e-01, 6.44404047e-02, 3.29615949e-02, 7.83950483e-02,\n",
       "        4.39972700e-03, 2.27252468e-02, 4.56845616e-02, 9.76445223e-02,\n",
       "        6.63517545e-04, 6.20468731e-02, 3.58179500e-03, 5.03322157e-02,\n",
       "        5.95562757e-02, 9.65081312e-06, 1.35056965e-02, 9.60797800e-03,\n",
       "        8.16428205e-02, 3.12618442e-03, 6.74202334e-02, 7.69269357e-02,\n",
       "        1.02079827e-01, 5.28546709e-03, 7.36695968e-02, 2.45821435e-02,\n",
       "        2.22872147e-02, 2.85242689e-02, 3.61065915e-02, 9.11659657e-02,\n",
       "        2.90656201e-03, 2.51558218e-03, 1.15150414e-03, 8.79191182e-04,\n",
       "        3.69447752e-02, 7.01383582e-02, 5.82108111e-02, 7.19452995e-03,\n",
       "        4.21689259e-03, 3.85135596e-02, 3.05051042e-02, 1.04918224e-03,\n",
       "        8.10884805e-02, 5.50711243e-03, 7.95978510e-02, 1.41986020e-02,\n",
       "        2.79875904e-02, 6.05922601e-02, 1.29211511e-02, 2.54863276e-02,\n",
       "        6.96213416e-03, 3.72239423e-02, 2.10808431e-02, 2.22456846e-02,\n",
       "        3.61751406e-02, 5.67326217e-02, 6.50620514e-04, 9.20812382e-02,\n",
       "        7.55677185e-02, 6.46549339e-02, 4.33216048e-02, 2.43223691e-02]])"
      ]
     },
     "execution_count": 44,
     "metadata": {},
     "output_type": "execute_result"
    }
   ],
   "source": [
    "control_centroids"
   ]
  },
  {
   "cell_type": "code",
   "execution_count": 31,
   "metadata": {},
   "outputs": [
    {
     "name": "stdout",
     "output_type": "stream",
     "text": [
      "K-Means iteration 0/49\n",
      "Cost function value: 346.1270837241914\n",
      "K-Means iteration 1/49\n",
      "Cost function value: 344.9187855698698\n",
      "K-Means iteration 2/49\n",
      "Cost function value: 344.9187855698698\n",
      "K-Means iteration 3/49\n",
      "Cost function value: 344.9187855698698\n",
      "K-Means iteration 4/49\n",
      "Cost function value: 344.9187855698698\n",
      "K-Means iteration 5/49\n",
      "Cost function value: 344.9187855698698\n",
      "K-Means iteration 6/49\n",
      "Cost function value: 344.9187855698698\n",
      "K-Means iteration 7/49\n",
      "Cost function value: 344.9187855698698\n",
      "K-Means iteration 8/49\n",
      "Cost function value: 344.9187855698698\n",
      "K-Means iteration 9/49\n",
      "Cost function value: 344.9187855698698\n",
      "K-Means iteration 10/49\n",
      "Cost function value: 344.9187855698698\n",
      "K-Means iteration 11/49\n",
      "Cost function value: 344.9187855698698\n",
      "K-Means iteration 12/49\n",
      "Cost function value: 344.9187855698698\n",
      "K-Means iteration 13/49\n",
      "Cost function value: 344.9187855698698\n",
      "K-Means iteration 14/49\n",
      "Cost function value: 344.9187855698698\n",
      "K-Means iteration 15/49\n",
      "Cost function value: 344.9187855698698\n",
      "K-Means iteration 16/49\n",
      "Cost function value: 344.9187855698698\n",
      "K-Means iteration 17/49\n",
      "Cost function value: 344.9187855698698\n",
      "K-Means iteration 18/49\n",
      "Cost function value: 344.9187855698698\n",
      "K-Means iteration 19/49\n",
      "Cost function value: 344.9187855698698\n",
      "K-Means iteration 20/49\n",
      "Cost function value: 344.9187855698698\n",
      "K-Means iteration 21/49\n",
      "Cost function value: 344.9187855698698\n",
      "K-Means iteration 22/49\n",
      "Cost function value: 344.9187855698698\n",
      "K-Means iteration 23/49\n",
      "Cost function value: 344.9187855698698\n",
      "K-Means iteration 24/49\n",
      "Cost function value: 344.9187855698698\n",
      "K-Means iteration 25/49\n",
      "Cost function value: 344.9187855698698\n",
      "K-Means iteration 26/49\n",
      "Cost function value: 344.9187855698698\n",
      "K-Means iteration 27/49\n",
      "Cost function value: 344.9187855698698\n",
      "K-Means iteration 28/49\n",
      "Cost function value: 344.9187855698698\n",
      "K-Means iteration 29/49\n",
      "Cost function value: 344.9187855698698\n",
      "K-Means iteration 30/49\n",
      "Cost function value: 344.9187855698698\n",
      "K-Means iteration 31/49\n",
      "Cost function value: 344.9187855698698\n",
      "K-Means iteration 32/49\n",
      "Cost function value: 344.9187855698698\n",
      "K-Means iteration 33/49\n",
      "Cost function value: 344.9187855698698\n",
      "K-Means iteration 34/49\n",
      "Cost function value: 344.9187855698698\n",
      "K-Means iteration 35/49\n",
      "Cost function value: 344.9187855698698\n",
      "K-Means iteration 36/49\n",
      "Cost function value: 344.9187855698698\n",
      "K-Means iteration 37/49\n",
      "Cost function value: 344.9187855698698\n",
      "K-Means iteration 38/49\n",
      "Cost function value: 344.9187855698698\n",
      "K-Means iteration 39/49\n",
      "Cost function value: 344.9187855698698\n",
      "K-Means iteration 40/49\n",
      "Cost function value: 344.9187855698698\n",
      "K-Means iteration 41/49\n",
      "Cost function value: 344.9187855698698\n",
      "K-Means iteration 42/49\n",
      "Cost function value: 344.9187855698698\n",
      "K-Means iteration 43/49\n",
      "Cost function value: 344.9187855698698\n",
      "K-Means iteration 44/49\n",
      "Cost function value: 344.9187855698698\n",
      "K-Means iteration 45/49\n",
      "Cost function value: 344.9187855698698\n",
      "K-Means iteration 46/49\n",
      "Cost function value: 344.9187855698698\n",
      "K-Means iteration 47/49\n",
      "Cost function value: 344.9187855698698\n",
      "K-Means iteration 48/49\n",
      "Cost function value: 344.9187855698698\n",
      "K-Means iteration 49/49\n",
      "Cost function value: 344.9187855698698\n",
      "Final centroids selected from iteration: 1\n",
      "Final centroids: [[0.06353062 0.01096427 0.02523446 ... 0.04830529 0.01113893 0.00973984]\n",
      " [0.01530024 0.0334915  0.00194385 ... 0.06465529 0.0433224  0.0243221 ]\n",
      " [0.04137508 0.07999697 0.03531468 ... 0.05744682 0.05869783 0.0036462 ]]\n"
     ]
    }
   ],
   "source": [
    "# Main function to run the K-Means algorithm\n",
    "\n",
    "K = 3                     # Set number of clusters\n",
    "initial_centroids = kMeans_init_centroids(feats_np_norm, K)  # Step 3: Initialize centroids\n",
    "max_iters = 50                # Step 4: Number of iterations\n",
    "best_centroids, best_idx, centroids, idx = run_kMeans(feats_np_norm, initial_centroids, max_iters)  # Step 5: Run K-Means\n",
    "print(\"Final centroids:\", centroids)  # Output the final centroids"
   ]
  },
  {
   "cell_type": "markdown",
   "metadata": {},
   "source": [
    "centroids[0]"
   ]
  },
  {
   "cell_type": "markdown",
   "metadata": {},
   "source": [
    "centroids[1]"
   ]
  },
  {
   "cell_type": "code",
   "execution_count": 26,
   "metadata": {},
   "outputs": [],
   "source": [
    "three_class_cosine_centroid = centroids[2]"
   ]
  },
  {
   "cell_type": "markdown",
   "metadata": {},
   "source": [
    "control_centroids"
   ]
  },
  {
   "cell_type": "code",
   "execution_count": null,
   "metadata": {},
   "outputs": [],
   "source": []
  },
  {
   "cell_type": "markdown",
   "metadata": {},
   "source": [
    "# Main function to run the K-Means algorithm\n",
    "\n",
    "K = 2                     # Set number of clusters\n",
    "initial_centroids = kMeans_init_centroids(feats_np_norm, K)  # Step 3: Initialize centroids\n",
    "max_iters = 50                # Step 4: Number of iterations\n",
    "best_centroids, best_idx, centroids, idx = run_kMeans(feats_np_norm, initial_centroids, max_iters)  # Step 5: Run K-Means\n",
    "print(\"Final centroids:\", centroids)  # Output the final centroids"
   ]
  },
  {
   "cell_type": "markdown",
   "metadata": {},
   "source": [
    "centroids[0]"
   ]
  },
  {
   "cell_type": "markdown",
   "metadata": {},
   "source": [
    "centroids[1]"
   ]
  },
  {
   "cell_type": "markdown",
   "metadata": {},
   "source": [
    "centroids[1]"
   ]
  },
  {
   "cell_type": "code",
   "execution_count": 35,
   "metadata": {},
   "outputs": [
    {
     "data": {
      "text/plain": [
       "(512,)"
      ]
     },
     "execution_count": 35,
     "metadata": {},
     "output_type": "execute_result"
    }
   ],
   "source": [
    "centroids[1].shape"
   ]
  },
  {
   "cell_type": "code",
   "execution_count": 36,
   "metadata": {},
   "outputs": [
    {
     "data": {
      "text/plain": [
       "dtype('float64')"
      ]
     },
     "execution_count": 36,
     "metadata": {},
     "output_type": "execute_result"
    }
   ],
   "source": [
    "centroids[1].dtype"
   ]
  },
  {
   "cell_type": "code",
   "execution_count": 37,
   "metadata": {},
   "outputs": [
    {
     "name": "stdout",
     "output_type": "stream",
     "text": [
      "The centroid is already normalized.\n"
     ]
    }
   ],
   "source": [
    "# Calculate the L2 norm of the centroid\n",
    "norm = np.linalg.norm(centroids[1])\n",
    "\n",
    "# Check if the norm is close to 1\n",
    "if np.isclose(norm, 1.0, atol=1e-6):\n",
    "    print(\"The centroid is already normalized.\")\n",
    "else:\n",
    "    print(f\"The centroid is not normalized. Norm: {norm}\")"
   ]
  },
  {
   "cell_type": "code",
   "execution_count": 27,
   "metadata": {},
   "outputs": [
    {
     "name": "stdout",
     "output_type": "stream",
     "text": [
      "Centroid saved to C:\\Users\\k54739\\Bibi_new_thesis\\thesis\\Source_Code\\Ranking(prediction)_model\\kmeans_ranking\\cosine\\three_class_cosine_centroid.pt\n"
     ]
    }
   ],
   "source": [
    "import torch\n",
    "\n",
    "# Convert the centroid to a PyTorch tensor\n",
    "three_class_cosine_centroid = torch.tensor(three_class_cosine_centroid)\n",
    "\n",
    "# Define the specific path\n",
    "save_path_torch = r\"C:\\Users\\k54739\\Bibi_new_thesis\\thesis\\Source_Code\\Ranking(prediction)_model\\kmeans_ranking\\cosine\\three_class_cosine_centroid.pt\"\n",
    "\n",
    "# Save the centroid tensor\n",
    "torch.save(three_class_cosine_centroid, save_path_torch)\n",
    "print(f\"Centroid saved to {save_path_torch}\")\n"
   ]
  },
  {
   "cell_type": "code",
   "execution_count": 23,
   "metadata": {},
   "outputs": [
    {
     "name": "stdout",
     "output_type": "stream",
     "text": [
      "Cluster assignments: [1 0 0 0 1 1 0 1 0 1 0 1 2 1 1 0 1 1 2 0 0 1 0 0 0 0 1 0 0 2 1 0 1 0 0 1 0\n",
      " 0 0 1 1 0 0 0 1 1 1 0 2 1 1 1 2 0 2 1 0 2 0 1 1 1 0 1 2 1 1 0 0 0 1 1 0 1\n",
      " 0 2 0 1 0 0 1 0 0 1 1 1 0 1 1 1 1 2 1 0 1 0 1 0 0 2 0 1 1 2 1 1 0 1 1 0 1\n",
      " 2 1 0 0 0 0 2 1 1 2 2 0 2 1 1 1 0 1 0 1 1 0 0 0 2 0 1 0 0 2 0 0 1 0 0 0 1\n",
      " 1 0 0 0 0 0 0 0 0 1 1 0 1 0 2 0 2 1 0 0 0 1 0 0 1 1 1 0 0 1 1 2 1 0 0 0 2\n",
      " 1 0 0 1 0 1 0 1 1 1 0 0 2 1 1 1 2 0 2 0 1 1 1 0 0 0 1 0 2 1 0 1 0 0 1 0 1\n",
      " 0 1 0 0 1 2 1 0 0 0 0 0 0 1 0 1 1 2 0 0 1 0 0 0 1 0 1 0 0 2]\n",
      "True labels: [1 2 2 2 1 1 2 1 2 1 2 1 0 1 1 2 1 1 0 2 2 1 2 2 2 2 1 2 2 0 1 2 1 2 2 1 2\n",
      " 2 2 1 1 2 2 2 1 1 1 2 0 1 1 1 1 2 0 1 2 0 2 1 1 1 2 1 0 1 1 2 2 2 1 1 2 1\n",
      " 2 0 2 1 2 2 1 2 2 1 1 1 2 1 1 1 1 0 1 2 1 2 1 2 2 0 2 1 1 0 1 1 2 1 1 2 1\n",
      " 0 1 2 2 2 2 0 1 1 0 0 2 0 1 1 1 2 1 2 1 1 2 2 2 0 2 1 2 2 0 2 2 1 2 2 2 1\n",
      " 1 2 2 2 2 2 2 2 2 1 1 2 1 2 0 2 0 1 2 2 2 1 2 2 1 1 1 2 2 1 1 0 1 2 2 2 0\n",
      " 1 2 2 1 2 1 2 1 1 1 2 2 0 1 1 1 0 2 0 2 1 1 1 2 2 2 1 2 0 1 2 1 2 2 1 2 1\n",
      " 2 1 2 2 1 0 1 2 2 2 2 2 2 1 2 1 1 0 2 2 1 2 2 2 1 2 1 2 2 0]\n"
     ]
    }
   ],
   "source": [
    "print(\"Cluster assignments:\", idx)\n",
    "print(\"True labels:\", labels_np)"
   ]
  },
  {
   "cell_type": "code",
   "execution_count": 24,
   "metadata": {},
   "outputs": [
    {
     "name": "stdout",
     "output_type": "stream",
     "text": [
      "Cluster assignments: [2 0 0 0 1 2 0 2 0 2 0 1 2 2 2 0 1 2 2 0 0 2 0 0 0 0 1 0 0 2 2 0 2 0 0 1 0\n",
      " 0 0 1 1 0 0 0 1 2 2 0 1 2 2 2 1 0 2 2 0 0 0 1 2 1 0 1 2 2 1 0 0 0 1 1 0 1\n",
      " 0 2 0 1 0 0 2 0 0 1 1 2 0 2 1 1 2 2 1 0 1 0 2 0 0 2 0 1 1 2 2 1 0 1 1 0 2\n",
      " 2 2 0 0 0 0 2 1 2 2 2 0 2 2 2 2 0 1 0 2 2 0 0 0 2 0 2 0 0 2 0 0 2 0 0 0 1\n",
      " 2 0 0 0 0 0 0 0 0 2 1 0 2 0 2 0 2 2 0 0 0 2 0 0 1 2 2 0 0 2 2 2 2 0 0 0 2\n",
      " 2 0 0 2 0 1 0 1 2 2 0 0 2 2 2 2 2 0 2 0 1 2 2 0 0 0 1 0 2 2 0 1 0 0 1 0 2\n",
      " 0 2 0 0 1 2 2 0 0 0 0 0 0 2 0 1 2 2 0 0 2 0 0 0 1 0 2 0 0 2]\n",
      "True labels: [1 2 2 2 1 1 2 1 2 1 2 1 0 1 1 2 1 1 0 2 2 1 2 2 2 2 1 2 2 0 1 2 1 2 2 1 2\n",
      " 2 2 1 1 2 2 2 1 1 1 2 0 1 1 1 1 2 0 1 2 0 2 1 1 1 2 1 0 1 1 2 2 2 1 1 2 1\n",
      " 2 0 2 1 2 2 1 2 2 1 1 1 2 1 1 1 1 0 1 2 1 2 1 2 2 0 2 1 1 0 1 1 2 1 1 2 1\n",
      " 0 1 2 2 2 2 0 1 1 0 0 2 0 1 1 1 2 1 2 1 1 2 2 2 0 2 1 2 2 0 2 2 1 2 2 2 1\n",
      " 1 2 2 2 2 2 2 2 2 1 1 2 1 2 0 2 0 1 2 2 2 1 2 2 1 1 1 2 2 1 1 0 1 2 2 2 0\n",
      " 1 2 2 1 2 1 2 1 1 1 2 2 0 1 1 1 0 2 0 2 1 1 1 2 2 2 1 2 0 1 2 1 2 2 1 2 1\n",
      " 2 1 2 2 1 0 1 2 2 2 2 2 2 1 2 1 1 0 2 2 1 2 2 2 1 2 1 2 2 0]\n"
     ]
    }
   ],
   "source": [
    "print(\"Cluster assignments:\", best_idx)\n",
    "print(\"True labels:\", labels_np)"
   ]
  },
  {
   "cell_type": "code",
   "execution_count": 60,
   "metadata": {},
   "outputs": [
    {
     "data": {
      "text/plain": [
       "array([-0.2028712 ,  0.03796512,  0.48982123, -0.44686745, -0.12941857,\n",
       "        0.06101072, -0.39143721,  0.05902931, -0.04010828,  0.2215957 ,\n",
       "       -0.2280849 , -0.11755157, -0.28298115, -0.06983812,  0.00625805,\n",
       "       -0.20094003, -0.05051177, -0.06792145, -0.23343196, -0.19242174])"
      ]
     },
     "execution_count": 60,
     "metadata": {},
     "output_type": "execute_result"
    }
   ],
   "source": [
    "after_resize_cosine_centroid = centroids[1]\n",
    "after_resize_cosine_centroid"
   ]
  },
  {
   "cell_type": "code",
   "execution_count": 61,
   "metadata": {},
   "outputs": [
    {
     "name": "stdout",
     "output_type": "stream",
     "text": [
      "Centroid saved to C:\\Users\\k54739\\Bibi_new_thesis\\thesis\\Source_Code\\Ranking(prediction)_model\\kmeans_ranking\\cosine\\threeclass_after_resize_cosine_centroid.pt\n"
     ]
    }
   ],
   "source": [
    "# Convert the centroid to a PyTorch tensor\n",
    "threeclass_after_resize_cosine_centroid = torch.tensor(after_resize_cosine_centroid)\n",
    "\n",
    "# Define the specific path\n",
    "save_path_torch = r\"C:\\Users\\k54739\\Bibi_new_thesis\\thesis\\Source_Code\\Ranking(prediction)_model\\kmeans_ranking\\cosine\\threeclass_after_resize_cosine_centroid.pt\"\n",
    "\n",
    "# Save the centroid tensor\n",
    "torch.save(threeclass_after_resize_cosine_centroid, save_path_torch)\n",
    "print(f\"Centroid saved to {save_path_torch}\")"
   ]
  },
  {
   "cell_type": "code",
   "execution_count": 50,
   "metadata": {},
   "outputs": [
    {
     "data": {
      "text/plain": [
       "array([ 0.11445194, -0.02864843, -0.29455801, -0.21808064,  0.21657043,\n",
       "        0.15966627,  0.3253498 ,  0.18242439,  0.17661157, -0.36361312,\n",
       "       -0.06564103,  0.06745918, -0.00521023,  0.25440368, -0.36192676,\n",
       "       -0.16040584,  0.21821955, -0.42057662, -0.09754233,  0.11169252])"
      ]
     },
     "execution_count": 50,
     "metadata": {},
     "output_type": "execute_result"
    }
   ],
   "source": [
    "centroids[2]"
   ]
  },
  {
   "cell_type": "code",
   "execution_count": 59,
   "metadata": {},
   "outputs": [
    {
     "data": {
      "text/plain": [
       "array([[-0.20287125,  0.03796563,  0.48982073, -0.44686714, -0.12941846,\n",
       "         0.06101017, -0.39143628,  0.05902861, -0.04010799,  0.22159592,\n",
       "        -0.2280849 , -0.1175514 , -0.28298233, -0.06983728,  0.00625733,\n",
       "        -0.20094013, -0.05051142, -0.0679215 , -0.23343323, -0.19242286]])"
      ]
     },
     "execution_count": 59,
     "metadata": {},
     "output_type": "execute_result"
    }
   ],
   "source": [
    "control_centroids"
   ]
  },
  {
   "cell_type": "code",
   "execution_count": 32,
   "metadata": {},
   "outputs": [
    {
     "name": "stdout",
     "output_type": "stream",
     "text": [
      "Cluster 0 has true labels: Counter({0: 29, 1: 1})\n",
      "Cluster 1 has true labels: Counter({2: 120})\n",
      "Cluster 2 has true labels: Counter({1: 102})\n"
     ]
    }
   ],
   "source": [
    "from collections import Counter\n",
    "import numpy as np\n",
    "\n",
    "# Assuming `idx` contains the cluster assignments from KMeans\n",
    "# and `labels` contains the true labels\n",
    "\n",
    "K = len(np.unique(idx))  # Number of clusters\n",
    "\n",
    "# Iterate over each cluster and count the true labels in that cluster\n",
    "for cluster in range(K):\n",
    "    # Find the indices of images assigned to the current cluster\n",
    "    cluster_indices = np.where(idx == cluster)[0]\n",
    "    \n",
    "    # Get the true labels for the images in this cluster\n",
    "    cluster_labels = labels_np[cluster_indices]\n",
    "    \n",
    "    # Use Counter to count occurrences of each label in the cluster\n",
    "    label_counts = Counter(cluster_labels)\n",
    "    \n",
    "    # Print the result\n",
    "    print(f\"Cluster {cluster} has true labels: {label_counts}\")\n"
   ]
  },
  {
   "cell_type": "code",
   "execution_count": 34,
   "metadata": {},
   "outputs": [
    {
     "data": {
      "text/plain": [
       "array([0.06353062, 0.01096427, 0.02523446, 0.0655794 , 0.07456322,\n",
       "       0.10011795, 0.00584366, 0.01700818, 0.01032395, 0.01565485,\n",
       "       0.0672984 , 0.0031727 , 0.00081806, 0.00464282, 0.04083549,\n",
       "       0.06511616, 0.07027781, 0.10053225, 0.00209908, 0.00586891,\n",
       "       0.10633338, 0.02224576, 0.0186244 , 0.06275926, 0.05647239,\n",
       "       0.0010153 , 0.02512073, 0.06451918, 0.03476078, 0.11959376,\n",
       "       0.07858585, 0.08193693, 0.00517627, 0.06781988, 0.06891355,\n",
       "       0.04192826, 0.03020041, 0.02988222, 0.01693643, 0.04848858,\n",
       "       0.03699411, 0.01306487, 0.04463814, 0.08311428, 0.02404258,\n",
       "       0.04293511, 0.00883839, 0.05560145, 0.02479335, 0.03496655,\n",
       "       0.00882907, 0.0129767 , 0.04941478, 0.10732052, 0.06087413,\n",
       "       0.01363555, 0.01777279, 0.00846983, 0.00603949, 0.04445604,\n",
       "       0.02434903, 0.04130055, 0.05183157, 0.01732377, 0.02322456,\n",
       "       0.06376412, 0.0044973 , 0.0292238 , 0.02279155, 0.01389209,\n",
       "       0.06738026, 0.02421377, 0.04352078, 0.09917685, 0.0453486 ,\n",
       "       0.05087477, 0.01164315, 0.03315691, 0.00473523, 0.10352276,\n",
       "       0.04835738, 0.02813696, 0.00248851, 0.07523268, 0.02155851,\n",
       "       0.03874673, 0.0073388 , 0.00911844, 0.06648389, 0.05743611,\n",
       "       0.0060432 , 0.01697898, 0.02142105, 0.00406773, 0.03644225,\n",
       "       0.00350514, 0.01541997, 0.02377295, 0.0149363 , 0.01831801,\n",
       "       0.0039153 , 0.00753813, 0.05585189, 0.0112705 , 0.01696949,\n",
       "       0.03284707, 0.01986437, 0.01916476, 0.02518831, 0.00840312,\n",
       "       0.0252236 , 0.09638647, 0.06148346, 0.06450449, 0.01519956,\n",
       "       0.03881591, 0.01405263, 0.00431734, 0.04485986, 0.05732572,\n",
       "       0.00954059, 0.04552398, 0.02410308, 0.01973071, 0.02254505,\n",
       "       0.011415  , 0.04376729, 0.08736986, 0.04897539, 0.04017266,\n",
       "       0.0035458 , 0.06393489, 0.05529754, 0.02225482, 0.01077077,\n",
       "       0.05102945, 0.07252323, 0.01557522, 0.00258291, 0.00600741,\n",
       "       0.01534025, 0.        , 0.08528944, 0.00974966, 0.11129118,\n",
       "       0.03713842, 0.02271139, 0.01914962, 0.03807126, 0.0243465 ,\n",
       "       0.06984279, 0.07263516, 0.00133443, 0.0068628 , 0.03357494,\n",
       "       0.0004496 , 0.02026558, 0.00334564, 0.0721255 , 0.01639181,\n",
       "       0.00506339, 0.07897235, 0.03841309, 0.01636183, 0.0037422 ,\n",
       "       0.01360959, 0.02467337, 0.03454788, 0.02334864, 0.03634377,\n",
       "       0.00441964, 0.04748693, 0.02870133, 0.08215124, 0.02447399,\n",
       "       0.05253698, 0.02641927, 0.00275147, 0.038515  , 0.05205733,\n",
       "       0.01557037, 0.02260285, 0.02832053, 0.0234944 , 0.00872639,\n",
       "       0.01098427, 0.04153714, 0.05147459, 0.02300268, 0.07865102,\n",
       "       0.03520146, 0.00193273, 0.0115354 , 0.01015801, 0.01402397,\n",
       "       0.02468695, 0.01300301, 0.01621632, 0.03427692, 0.11620649,\n",
       "       0.01339402, 0.0485869 , 0.05685055, 0.03603686, 0.07704211,\n",
       "       0.04613339, 0.01674463, 0.02003796, 0.02136109, 0.05498873,\n",
       "       0.01651064, 0.03806699, 0.07008315, 0.03797558, 0.09055789,\n",
       "       0.12384309, 0.00835709, 0.00187052, 0.06888093, 0.08893902,\n",
       "       0.01308461, 0.0159041 , 0.0124433 , 0.01751472, 0.03647759,\n",
       "       0.10136839, 0.07888284, 0.09468603, 0.06010193, 0.05077171,\n",
       "       0.00348556, 0.04527562, 0.02603247, 0.02795455, 0.03672834,\n",
       "       0.01570843, 0.02886886, 0.01248642, 0.02869166, 0.01819012,\n",
       "       0.03472801, 0.03716564, 0.01900733, 0.01467565, 0.02409419,\n",
       "       0.01307726, 0.01840822, 0.10881476, 0.02058386, 0.01472447,\n",
       "       0.00536269, 0.06149348, 0.03548129, 0.03308353, 0.0015093 ,\n",
       "       0.01541593, 0.04943172, 0.12040778, 0.02890474, 0.05131807,\n",
       "       0.02596697, 0.02166409, 0.04251384, 0.0571521 , 0.01987762,\n",
       "       0.02077211, 0.00721403, 0.12950742, 0.02456988, 0.0231819 ,\n",
       "       0.06914471, 0.00640272, 0.00864077, 0.01228827, 0.02795901,\n",
       "       0.04446187, 0.00387447, 0.0171259 , 0.07491283, 0.00794019,\n",
       "       0.01437071, 0.00278122, 0.01362811, 0.03422347, 0.01151451,\n",
       "       0.0017349 , 0.05172843, 0.03791003, 0.00294184, 0.00149705,\n",
       "       0.0125826 , 0.05240691, 0.0595391 , 0.00926753, 0.12772256,\n",
       "       0.00798942, 0.00764488, 0.00195556, 0.01936329, 0.00772235,\n",
       "       0.00981271, 0.04571573, 0.0084401 , 0.02638591, 0.03597507,\n",
       "       0.04963811, 0.01943054, 0.03775432, 0.04051533, 0.0335631 ,\n",
       "       0.01157577, 0.01956414, 0.1047185 , 0.06819982, 0.02552398,\n",
       "       0.02742216, 0.04916003, 0.03050249, 0.05605008, 0.05857084,\n",
       "       0.03448402, 0.00474186, 0.02166678, 0.01117942, 0.07592524,\n",
       "       0.04100762, 0.02874513, 0.01914128, 0.04382383, 0.06995135,\n",
       "       0.03974005, 0.09817907, 0.03769622, 0.03462921, 0.0073818 ,\n",
       "       0.0011364 , 0.09150821, 0.02750197, 0.04573788, 0.07873407,\n",
       "       0.07487899, 0.00352188, 0.04200671, 0.08586365, 0.03003898,\n",
       "       0.03105791, 0.05598056, 0.089221  , 0.07533069, 0.0358958 ,\n",
       "       0.00721126, 0.04673693, 0.00362053, 0.02898877, 0.01135196,\n",
       "       0.06207232, 0.01706599, 0.03015248, 0.04268287, 0.06527043,\n",
       "       0.03208435, 0.03248345, 0.03234432, 0.03444879, 0.10403253,\n",
       "       0.0264246 , 0.00778339, 0.00469119, 0.00943576, 0.02969044,\n",
       "       0.00662661, 0.04502786, 0.04367802, 0.02235528, 0.07325507,\n",
       "       0.03680203, 0.0806331 , 0.01576749, 0.03268089, 0.03856456,\n",
       "       0.03465294, 0.00332195, 0.02008579, 0.06572782, 0.01431346,\n",
       "       0.03509417, 0.02312123, 0.00558926, 0.00241669, 0.03017674,\n",
       "       0.00788176, 0.02056147, 0.03374453, 0.01104159, 0.09590275,\n",
       "       0.01250212, 0.00778595, 0.03720204, 0.01855005, 0.01089445,\n",
       "       0.02004532, 0.09252569, 0.00019707, 0.00989267, 0.03446251,\n",
       "       0.0072201 , 0.02130387, 0.01303025, 0.01411773, 0.05369885,\n",
       "       0.03463462, 0.05088481, 0.00990587, 0.01500903, 0.01946723,\n",
       "       0.00860849, 0.07652696, 0.00495754, 0.0744378 , 0.0346814 ,\n",
       "       0.01316409, 0.04653017, 0.02802878, 0.01569225, 0.0180422 ,\n",
       "       0.00753616, 0.02367699, 0.09761774, 0.01940129, 0.02460257,\n",
       "       0.02362011, 0.01803771, 0.11919602, 0.03444937, 0.01320086,\n",
       "       0.01378767, 0.0066502 , 0.02517172, 0.00049052, 0.02538315,\n",
       "       0.02623784, 0.01962437, 0.01870834, 0.00851967, 0.09327415,\n",
       "       0.00540784, 0.02452631, 0.01623233, 0.06670139, 0.0230973 ,\n",
       "       0.11139348, 0.02121777, 0.04784281, 0.02450878, 0.03950913,\n",
       "       0.04180365, 0.01560574, 0.034456  , 0.03841734, 0.00302395,\n",
       "       0.04656168, 0.00737499, 0.13753892, 0.08672184, 0.01626193,\n",
       "       0.06792038, 0.02129735, 0.01404777, 0.00522509, 0.05620682,\n",
       "       0.06925197, 0.01820071, 0.00740189, 0.0217184 , 0.04226971,\n",
       "       0.03470581, 0.02171301, 0.02121014, 0.01182142, 0.00595922,\n",
       "       0.0604375 , 0.07513233, 0.03146637, 0.05174969, 0.02287424,\n",
       "       0.00618332, 0.00048792, 0.04945534, 0.03737441, 0.00927972,\n",
       "       0.01837113, 0.08190169, 0.03021859, 0.00504711, 0.00340549,\n",
       "       0.02792234, 0.03462636, 0.00249648, 0.01611282, 0.00523874,\n",
       "       0.07922789, 0.05084145, 0.03740536, 0.04427714, 0.0203213 ,\n",
       "       0.0305511 , 0.04654163, 0.01235476, 0.0390293 , 0.04830529,\n",
       "       0.01113893, 0.00973984])"
      ]
     },
     "execution_count": 34,
     "metadata": {},
     "output_type": "execute_result"
    }
   ],
   "source": [
    "centroids[0]"
   ]
  },
  {
   "cell_type": "code",
   "execution_count": 64,
   "metadata": {},
   "outputs": [],
   "source": [
    "before_3class_resize_cosine_centroid = centroids[1]\n",
    "type(before_3class_resize_cosine_centroid)\n",
    "before_3class_resize_cosine_centroid_tensor = torch.from_numpy(before_3class_resize_cosine_centroid)"
   ]
  },
  {
   "cell_type": "code",
   "execution_count": 65,
   "metadata": {},
   "outputs": [
    {
     "name": "stdout",
     "output_type": "stream",
     "text": [
      "Tensor saved to C:\\Users\\k54739\\Bibi_new_thesis\\thesis\\Source_Code\\Ranking(prediction)_model\\kmeans_ranking\\cosine\\before_3class_resize_cosine_centroid_tensor.pt\n"
     ]
    }
   ],
   "source": [
    "save_path = r\"C:\\Users\\k54739\\Bibi_new_thesis\\thesis\\Source_Code\\Ranking(prediction)_model\\kmeans_ranking\\cosine\\before_3class_resize_cosine_centroid_tensor.pt\"  # Specify your save path\n",
    "\n",
    "# Save the tensor\n",
    "torch.save(before_3class_resize_cosine_centroid_tensor, save_path)\n",
    "print(f\"Tensor saved to {save_path}\")"
   ]
  },
  {
   "cell_type": "code",
   "execution_count": 36,
   "metadata": {},
   "outputs": [
    {
     "data": {
      "text/plain": [
       "array([4.13750756e-02, 7.99969741e-02, 3.53146786e-02, 1.02538880e-01,\n",
       "       5.22975810e-03, 2.39574140e-02, 2.06182116e-03, 2.03228727e-03,\n",
       "       7.95571118e-02, 7.51630409e-02, 4.75864403e-02, 1.49196570e-02,\n",
       "       7.40928542e-04, 2.38778502e-02, 1.57229154e-03, 1.07468288e-01,\n",
       "       1.38515843e-02, 7.95871890e-02, 1.92915016e-03, 1.68530954e-02,\n",
       "       6.80772455e-02, 1.92265699e-02, 2.49254736e-02, 3.14392293e-03,\n",
       "       2.26050166e-03, 2.53014703e-03, 8.72823092e-02, 1.88267066e-02,\n",
       "       6.24332214e-02, 3.34119623e-02, 9.72577840e-02, 1.18804250e-02,\n",
       "       1.93620248e-02, 2.08429227e-02, 6.42032101e-04, 2.12231658e-03,\n",
       "       5.96576423e-02, 3.70805206e-03, 6.37487683e-03, 1.21077206e-02,\n",
       "       1.13728458e-02, 2.33315997e-03, 6.13443262e-02, 7.08923305e-02,\n",
       "       8.01634271e-02, 4.37186826e-02, 2.24594145e-02, 7.04688850e-02,\n",
       "       2.01193374e-03, 1.65370635e-03, 5.61646000e-03, 4.78297470e-02,\n",
       "       5.66967023e-02, 9.48790778e-03, 1.50413894e-02, 2.20039235e-02,\n",
       "       3.60391195e-02, 1.16274146e-02, 9.52553801e-03, 1.75277220e-02,\n",
       "       1.20116672e-02, 4.54783973e-02, 1.33437005e-02, 9.47389339e-03,\n",
       "       3.64355477e-02, 2.79345556e-02, 4.36693193e-03, 3.14271870e-02,\n",
       "       5.31974199e-02, 7.88212170e-04, 7.29801548e-03, 6.29607569e-02,\n",
       "       9.10232882e-02, 2.47650904e-03, 1.37849340e-05, 5.39728058e-02,\n",
       "       3.77425069e-02, 8.91421562e-02, 3.57316800e-03, 1.30279739e-03,\n",
       "       2.03807343e-02, 7.87332762e-02, 1.02705155e-03, 4.67392544e-02,\n",
       "       2.73713372e-02, 9.88230864e-03, 2.66043716e-03, 1.98306767e-02,\n",
       "       6.17640626e-02, 2.87555462e-02, 1.48143531e-02, 4.96590711e-03,\n",
       "       6.11457528e-03, 1.47754605e-02, 4.52476593e-02, 1.72956926e-03,\n",
       "       6.81609905e-02, 2.19381338e-02, 1.00508459e-02, 5.14526258e-02,\n",
       "       8.44834403e-04, 1.06163636e-02, 5.74698564e-03, 7.34928340e-03,\n",
       "       8.29581715e-05, 3.42929303e-02, 1.45937890e-05, 3.50118644e-03,\n",
       "       2.29968296e-02, 3.97737973e-02, 5.59749337e-02, 1.46671113e-02,\n",
       "       1.95015173e-03, 9.81279577e-02, 7.43872052e-03, 3.45523109e-03,\n",
       "       8.95912785e-03, 9.67448361e-04, 8.08799578e-03, 6.97734929e-02,\n",
       "       3.32524746e-04, 1.71492037e-02, 2.07386282e-02, 1.17852884e-03,\n",
       "       1.09466643e-01, 1.14393857e-02, 4.27841101e-02, 4.80926729e-03,\n",
       "       4.25806506e-02, 4.45068985e-02, 5.16486001e-06, 6.04782873e-02,\n",
       "       7.50305738e-04, 1.48592982e-02, 6.57848869e-02, 1.79994359e-02,\n",
       "       2.91404426e-02, 5.32298237e-02, 2.43356804e-02, 3.63465721e-03,\n",
       "       4.68941672e-02, 8.96901590e-03, 2.47870598e-02, 3.05407355e-04,\n",
       "       1.96718652e-02, 1.52382585e-03, 3.05348094e-02, 1.24313184e-01,\n",
       "       1.65192452e-03, 1.22026475e-02, 6.39763389e-02, 4.96539574e-02,\n",
       "       1.80554176e-02, 3.53492488e-02, 1.39719226e-02, 1.57235345e-03,\n",
       "       4.27160791e-04, 3.69492490e-03, 1.12085898e-02, 6.12286748e-03,\n",
       "       7.53983990e-04, 1.43399541e-01, 3.58483256e-02, 6.80519353e-03,\n",
       "       5.99438447e-03, 1.04616921e-01, 1.04063669e-02, 2.16550894e-02,\n",
       "       2.22500810e-03, 1.11848213e-01, 4.85831450e-03, 1.22850806e-02,\n",
       "       2.55625321e-02, 2.44220154e-02, 2.83113763e-02, 3.65346258e-03,\n",
       "       2.83385095e-02, 7.57405435e-02, 1.03080225e-03, 6.91156014e-03,\n",
       "       7.55374212e-02, 6.10675224e-04, 1.24299052e-02, 1.56806378e-03,\n",
       "       5.27279177e-03, 6.35601430e-02, 6.14950579e-02, 7.83210915e-04,\n",
       "       1.26725818e-01, 7.61244410e-02, 1.17439723e-03, 3.42201460e-02,\n",
       "       1.51429548e-01, 2.88774714e-02, 6.03193324e-02, 6.84066417e-03,\n",
       "       4.97395380e-03, 1.43889414e-02, 1.60466081e-02, 1.03985863e-02,\n",
       "       2.11810173e-02, 2.89957085e-06, 4.87560373e-02, 1.17312883e-01,\n",
       "       2.48835526e-02, 2.89568667e-02, 9.14299037e-02, 5.42302702e-02,\n",
       "       1.40560532e-02, 1.10179687e-01, 1.87129759e-03, 2.27062490e-02,\n",
       "       9.93687205e-03, 8.34651255e-02, 3.02898947e-02, 1.68565310e-03,\n",
       "       1.11724252e-02, 6.61735482e-03, 3.30141153e-03, 5.40552231e-03,\n",
       "       1.06497474e-02, 8.42723630e-02, 2.54725828e-02, 2.46858949e-02,\n",
       "       7.99404950e-02, 4.03563451e-02, 3.67050961e-02, 4.68508595e-02,\n",
       "       8.62375024e-03, 3.72677498e-02, 3.03059027e-02, 5.88666489e-02,\n",
       "       8.93154755e-04, 7.86157492e-02, 9.97248441e-03, 1.20063828e-02,\n",
       "       3.13690414e-05, 1.41588820e-02, 5.13784233e-02, 1.63669045e-02,\n",
       "       6.51995953e-02, 4.30474290e-02, 2.98017702e-02, 8.39001829e-02,\n",
       "       6.38869576e-03, 2.45691897e-02, 5.13221381e-02, 7.70592031e-02,\n",
       "       1.17463431e-02, 1.33264965e-02, 4.00881033e-02, 2.81950506e-02,\n",
       "       1.88697438e-04, 1.81080678e-03, 6.20060943e-03, 6.65417790e-03,\n",
       "       2.47767398e-02, 3.08558844e-02, 4.78829174e-02, 2.82163250e-02,\n",
       "       9.08165748e-02, 8.83746900e-02, 7.86819898e-02, 9.99271783e-03,\n",
       "       2.02370119e-02, 6.99121564e-03, 4.63116963e-03, 2.42230131e-02,\n",
       "       2.73337617e-02, 8.01264945e-03, 7.99875244e-02, 4.79558681e-02,\n",
       "       5.29381094e-02, 3.26956287e-02, 3.20326952e-02, 8.16484218e-02,\n",
       "       1.40389546e-02, 1.66708074e-03, 8.21358319e-03, 3.76942004e-02,\n",
       "       2.19188572e-02, 3.17989077e-02, 2.44196356e-03, 8.05227435e-03,\n",
       "       4.16983550e-02, 4.33425363e-02, 6.06191172e-03, 1.28998333e-01,\n",
       "       2.88980884e-02, 1.99360715e-03, 5.03206032e-03, 2.60995636e-02,\n",
       "       9.52634578e-05, 2.28783774e-02, 3.01316838e-02, 5.06621592e-02,\n",
       "       2.27158146e-02, 9.78770052e-02, 2.80570773e-02, 1.35445999e-01,\n",
       "       1.74974775e-03, 5.45883495e-03, 6.68365449e-03, 2.46961854e-03,\n",
       "       6.16986522e-02, 1.66959456e-02, 3.76195848e-02, 4.58213053e-02,\n",
       "       4.30115385e-03, 1.87372843e-02, 8.78352539e-03, 7.72255733e-05,\n",
       "       8.22728863e-02, 2.02644612e-02, 1.15839426e-02, 5.19976361e-02,\n",
       "       7.33460727e-03, 7.19000191e-03, 5.27949550e-03, 6.01568034e-02,\n",
       "       8.57679306e-04, 3.21833107e-04, 1.26761602e-01, 9.91583465e-03,\n",
       "       8.67991350e-02, 1.04498842e-02, 1.46750452e-01, 7.40004132e-03,\n",
       "       4.88031594e-02, 8.43729506e-03, 1.40054908e-02, 4.90384368e-02,\n",
       "       4.48054915e-02, 1.60650840e-02, 8.64198908e-02, 3.07038188e-02,\n",
       "       5.02524837e-02, 1.08918423e-02, 7.62287544e-03, 6.32527339e-04,\n",
       "       1.02675567e-01, 6.53735845e-02, 5.38613355e-02, 2.34253834e-02,\n",
       "       1.04181375e-01, 2.72223231e-02, 1.08433862e-02, 5.71969677e-02,\n",
       "       3.87711929e-02, 3.42498542e-04, 5.00178217e-02, 3.28709351e-02,\n",
       "       2.03525397e-04, 5.19879209e-03, 6.46367172e-03, 1.08168390e-02,\n",
       "       3.00252250e-02, 1.75793761e-02, 1.13235102e-03, 6.87600626e-03,\n",
       "       6.36842916e-02, 1.29135040e-02, 7.87458449e-03, 1.32400372e-02,\n",
       "       1.42030969e-02, 3.28184854e-02, 1.21576434e-02, 4.77399664e-02,\n",
       "       1.07072454e-02, 3.41884756e-02, 5.39432870e-03, 1.60530150e-03,\n",
       "       1.09981151e-01, 6.16410562e-02, 9.01508269e-04, 6.33807799e-03,\n",
       "       9.96202356e-02, 5.25528253e-02, 7.31418240e-02, 1.32153361e-02,\n",
       "       5.73922251e-02, 4.47254134e-02, 6.71270781e-02, 1.24132027e-02,\n",
       "       4.89345322e-03, 3.00677002e-02, 1.07751804e-01, 5.56401182e-02,\n",
       "       1.01088330e-03, 9.51906293e-03, 9.16132499e-02, 3.34682060e-04,\n",
       "       8.30316277e-02, 2.38945073e-02, 2.10256050e-02, 0.00000000e+00,\n",
       "       2.95594250e-03, 5.68073760e-03, 1.65267278e-03, 1.89957413e-02,\n",
       "       4.77453193e-02, 1.96545906e-02, 2.29933339e-03, 3.16295696e-02,\n",
       "       5.03917215e-02, 1.17213387e-01, 4.43080795e-02, 2.05320718e-03,\n",
       "       8.46699503e-02, 1.27499486e-02, 1.72302649e-03, 8.91391299e-04,\n",
       "       2.03653242e-03, 3.97422323e-02, 4.36003843e-02, 4.51575415e-02,\n",
       "       1.92752347e-02, 9.30249946e-03, 8.58686393e-03, 9.51447085e-02,\n",
       "       4.92718352e-04, 2.51068836e-03, 4.54617550e-03, 1.91368573e-03,\n",
       "       9.41100248e-04, 5.26080989e-02, 2.67699090e-02, 3.32036046e-03,\n",
       "       4.91265676e-04, 1.14686231e-02, 1.84479281e-02, 2.89015651e-03,\n",
       "       1.28236095e-02, 2.11572666e-02, 2.61250108e-03, 1.96982649e-02,\n",
       "       1.81132813e-02, 2.25683832e-02, 2.30245549e-02, 8.57077689e-03,\n",
       "       1.85163364e-04, 3.92316826e-02, 1.19885529e-02, 2.84264482e-02,\n",
       "       5.12803436e-02, 9.97318619e-02, 8.90051734e-02, 2.07465458e-02,\n",
       "       1.05500555e-02, 9.60279841e-03, 8.80499692e-03, 7.26975645e-03,\n",
       "       3.79137396e-02, 1.09971315e-02, 6.07311196e-02, 1.46616805e-02,\n",
       "       7.44592275e-02, 8.44972508e-02, 8.37907400e-02, 8.93072183e-03,\n",
       "       9.82825734e-03, 1.40828302e-02, 1.16842688e-02, 5.34493713e-02,\n",
       "       5.17766175e-02, 7.45612945e-02, 1.45062474e-03, 3.55542299e-02,\n",
       "       2.98568173e-03, 2.25372671e-02, 3.90739122e-02, 0.00000000e+00,\n",
       "       1.17886866e-03, 4.24675576e-02, 9.58924027e-03, 2.60915633e-03,\n",
       "       5.27504040e-03, 1.92259103e-02, 7.95711641e-02, 4.81258575e-02,\n",
       "       3.53400778e-03, 4.36609976e-03, 9.89269931e-03, 4.50119614e-03,\n",
       "       7.90457234e-02, 2.93297402e-02, 1.43139918e-02, 1.05421579e-02,\n",
       "       1.13100767e-01, 3.05756240e-02, 3.47049787e-02, 9.75248625e-02,\n",
       "       2.72654305e-02, 3.85134206e-04, 4.17180284e-03, 4.03002248e-03,\n",
       "       2.45024897e-02, 8.45062085e-03, 8.85289453e-02, 1.76542561e-02,\n",
       "       9.78425003e-03, 3.13243382e-02, 7.09398803e-03, 9.07771912e-03,\n",
       "       5.89176855e-03, 1.12624893e-02, 1.30050453e-01, 2.45710200e-03,\n",
       "       1.88649480e-02, 5.74468243e-02, 5.86978271e-02, 3.64620038e-03])"
      ]
     },
     "execution_count": 36,
     "metadata": {},
     "output_type": "execute_result"
    }
   ],
   "source": [
    "centroids[2]"
   ]
  },
  {
   "cell_type": "code",
   "execution_count": 45,
   "metadata": {},
   "outputs": [
    {
     "data": {
      "text/plain": [
       "array([[1.53005541e-02, 3.34919422e-02, 1.94362886e-03, 3.15431883e-04,\n",
       "        3.20133168e-02, 4.34741558e-05, 1.15721699e-01, 1.87902419e-02,\n",
       "        3.52772572e-02, 3.77266553e-03, 1.24509876e-02, 1.18337626e-02,\n",
       "        6.20064832e-02, 1.08387197e-01, 5.02498410e-03, 6.54679551e-03,\n",
       "        1.37688752e-02, 4.47871093e-03, 9.87069741e-02, 3.07936482e-02,\n",
       "        1.78028277e-04, 5.28526945e-02, 2.18619080e-03, 2.75863984e-03,\n",
       "        3.00036530e-02, 1.10245212e-01, 3.59681967e-03, 7.87103398e-03,\n",
       "        1.33930010e-02, 9.99098356e-03, 6.98310690e-03, 6.96001558e-03,\n",
       "        1.02501325e-01, 7.37235949e-04, 5.61632253e-02, 5.14593314e-02,\n",
       "        4.22004278e-02, 2.93040282e-02, 4.71343694e-02, 1.50037233e-02,\n",
       "        3.72511727e-02, 6.33646408e-02, 9.15651479e-04, 2.51667881e-02,\n",
       "        1.57402214e-02, 2.04687351e-03, 6.66309445e-02, 3.00850477e-02,\n",
       "        4.21094180e-03, 7.23823690e-02, 1.09900378e-01, 1.81788226e-02,\n",
       "        1.39228251e-02, 4.93149546e-02, 2.09378105e-02, 5.18346442e-02,\n",
       "        5.18073441e-02, 6.84802924e-03, 5.88393120e-02, 4.06426490e-02,\n",
       "        4.42899427e-02, 4.61362863e-03, 6.99116592e-02, 4.32594959e-02,\n",
       "        3.44337191e-02, 2.46482050e-02, 8.95490867e-02, 2.97159718e-03,\n",
       "        9.36268511e-04, 3.65456243e-02, 1.83692866e-04, 4.85168578e-02,\n",
       "        1.27762183e-03, 2.83888059e-02, 5.21174261e-02, 5.99844640e-04,\n",
       "        3.68681289e-02, 4.87881283e-02, 6.34242555e-02, 2.32100524e-02,\n",
       "        2.69408774e-02, 2.55121518e-02, 5.26682430e-02, 1.64048914e-02,\n",
       "        8.92422750e-02, 2.92464323e-02, 6.80329760e-02, 5.94519020e-02,\n",
       "        5.42060144e-03, 2.52607809e-03, 6.84967342e-02, 3.01534398e-02,\n",
       "        5.83288545e-02, 8.40723468e-02, 2.50973576e-03, 3.88404332e-02,\n",
       "        5.52251569e-02, 6.88700936e-02, 9.39386952e-02, 6.62743147e-03,\n",
       "        7.00567194e-02, 5.54899305e-02, 4.40086778e-03, 1.13125869e-01,\n",
       "        7.42487146e-03, 2.62762858e-02, 1.18256316e-02, 4.85388253e-02,\n",
       "        4.61353924e-03, 1.14408001e-02, 7.73954161e-03, 6.12720756e-04,\n",
       "        4.88694848e-03, 8.87570685e-04, 3.83439942e-02, 4.35712261e-02,\n",
       "        6.51596750e-02, 2.09362189e-02, 4.81377384e-02, 8.47702460e-03,\n",
       "        5.50305676e-02, 1.26593056e-02, 1.62036827e-03, 4.98461587e-02,\n",
       "        4.54388836e-03, 9.39743847e-03, 1.75305410e-02, 1.09229691e-03,\n",
       "        1.44974735e-02, 4.48869777e-03, 1.14415370e-02, 2.96249195e-02,\n",
       "        4.01068780e-03, 5.50198738e-03, 5.56818208e-02, 4.25296125e-02,\n",
       "        1.54911047e-03, 4.64543946e-02, 6.27941630e-02, 9.23094764e-02,\n",
       "        3.80995007e-02, 3.49480616e-02, 9.37494778e-03, 1.76340154e-02,\n",
       "        8.10302000e-02, 1.90710877e-02, 9.95165952e-02, 1.16530271e-02,\n",
       "        3.83410995e-03, 3.10014495e-02, 6.94420440e-03, 2.61527042e-03,\n",
       "        2.51729754e-02, 1.59544999e-02, 3.82779916e-02, 5.69986859e-02,\n",
       "        2.77351130e-02, 3.80994614e-02, 3.62771750e-02, 1.27295866e-01,\n",
       "        9.38263377e-02, 6.89170360e-03, 5.02310163e-02, 5.82204431e-02,\n",
       "        4.99158850e-02, 6.40052330e-02, 3.48373763e-02, 1.21435493e-01,\n",
       "        1.03311696e-01, 1.64522827e-03, 3.98800280e-02, 4.40629385e-02,\n",
       "        1.38157163e-02, 1.98501336e-03, 2.73017165e-03, 7.95585533e-03,\n",
       "        3.93324378e-02, 3.75189418e-02, 8.62298461e-03, 1.47643215e-02,\n",
       "        1.59548035e-03, 1.07193437e-01, 5.06089715e-02, 2.77135751e-02,\n",
       "        9.89086316e-02, 8.07992322e-02, 1.03344298e-02, 1.33028006e-02,\n",
       "        2.14714694e-02, 9.22487555e-04, 4.25316924e-02, 1.73743107e-02,\n",
       "        2.39483121e-02, 3.43772830e-02, 7.30581405e-02, 9.58671584e-03,\n",
       "        4.83053896e-02, 2.54496135e-02, 1.12940351e-02, 6.15334990e-04,\n",
       "        3.91266221e-03, 1.72188151e-02, 5.41655067e-03, 2.74133213e-02,\n",
       "        6.68412181e-02, 4.89714298e-03, 5.71173659e-03, 4.80201747e-02,\n",
       "        6.39647340e-02, 6.56604918e-03, 3.11829300e-03, 3.64349995e-03,\n",
       "        4.06172979e-02, 1.16881018e-02, 6.28750617e-03, 2.23020159e-03,\n",
       "        4.71241793e-02, 1.62405094e-02, 1.76494314e-02, 2.29476694e-03,\n",
       "        1.86744877e-02, 7.18162440e-03, 5.37165497e-02, 4.69439660e-02,\n",
       "        8.13146300e-03, 2.27072615e-03, 2.62794405e-02, 2.41771339e-04,\n",
       "        1.41322963e-02, 4.31754475e-03, 1.37359731e-02, 1.92561562e-02,\n",
       "        2.46720540e-02, 1.56981549e-02, 1.45209779e-02, 9.70564854e-02,\n",
       "        2.18654140e-02, 1.24289831e-02, 1.33285049e-02, 2.20964276e-02,\n",
       "        1.06172476e-02, 9.90462464e-03, 2.69235924e-03, 3.10573083e-03,\n",
       "        8.80617057e-03, 1.65459716e-02, 5.26894626e-03, 3.29589798e-03,\n",
       "        4.46609262e-03, 3.57324756e-02, 9.32430362e-02, 8.95693078e-03,\n",
       "        3.18843420e-02, 9.13526585e-03, 2.61853049e-02, 4.96356540e-02,\n",
       "        7.31114981e-02, 1.52778086e-03, 4.33451027e-02, 1.48607735e-02,\n",
       "        6.40544788e-02, 2.05331830e-02, 1.43012653e-02, 9.65599963e-03,\n",
       "        5.27847167e-02, 4.47718225e-02, 9.07292766e-02, 3.42966536e-03,\n",
       "        6.74929466e-02, 1.63003367e-02, 3.41682168e-03, 5.87473696e-02,\n",
       "        1.07046945e-02, 1.27724294e-02, 7.26489521e-02, 1.77244556e-02,\n",
       "        5.21509746e-02, 9.21733550e-02, 2.94530279e-02, 2.72524658e-02,\n",
       "        5.06317151e-02, 5.61514175e-02, 4.39378706e-02, 4.66929363e-02,\n",
       "        3.77130254e-02, 4.38121311e-02, 7.10966444e-03, 2.72275660e-02,\n",
       "        2.43995489e-03, 2.01565468e-02, 5.53491740e-02, 2.26272967e-04,\n",
       "        1.64410480e-03, 9.61200478e-02, 1.86419131e-03, 2.98886062e-03,\n",
       "        3.07181095e-02, 6.15478484e-02, 5.26267804e-02, 2.01539219e-02,\n",
       "        3.01876031e-02, 3.62616620e-03, 4.33000298e-02, 4.35504403e-02,\n",
       "        1.60041032e-02, 1.68437051e-02, 4.77965279e-03, 6.18964759e-02,\n",
       "        9.90054553e-03, 3.98075721e-02, 8.62152826e-03, 5.81229064e-02,\n",
       "        7.07598728e-03, 6.78983491e-03, 5.01431465e-02, 1.11505643e-02,\n",
       "        1.16485623e-01, 4.92554184e-02, 1.99668716e-02, 2.26272177e-03,\n",
       "        3.24243060e-02, 2.37618896e-02, 5.58441163e-03, 3.05462986e-02,\n",
       "        1.31688507e-02, 3.51688458e-02, 4.16386065e-03, 2.58746604e-02,\n",
       "        5.11195860e-02, 3.20063522e-03, 7.18209870e-02, 2.24517831e-02,\n",
       "        1.82935914e-02, 8.92606441e-03, 7.52030449e-02, 5.58979721e-02,\n",
       "        5.62747554e-03, 4.45678995e-04, 3.23147080e-03, 5.35031313e-03,\n",
       "        1.22385802e-03, 7.07338164e-02, 7.74371937e-03, 2.72527165e-02,\n",
       "        1.25040716e-02, 8.91932211e-02, 1.20862181e-02, 6.59929140e-03,\n",
       "        1.79103013e-02, 8.73828297e-02, 8.67434715e-02, 1.43493491e-02,\n",
       "        9.02587948e-02, 7.26972954e-02, 3.07550918e-02, 1.34940772e-02,\n",
       "        7.33828776e-02, 6.56331219e-02, 4.29331847e-02, 1.46756603e-02,\n",
       "        1.91298434e-02, 9.04879846e-03, 1.65738027e-02, 1.10840450e-02,\n",
       "        2.04391175e-03, 1.63350233e-02, 4.59663362e-02, 5.12324624e-02,\n",
       "        4.55013222e-02, 1.75295550e-03, 8.28235948e-02, 6.25169025e-03,\n",
       "        2.11006347e-02, 4.22979427e-02, 2.54722393e-02, 4.11411766e-02,\n",
       "        4.13304605e-03, 8.02403923e-02, 2.33572317e-02, 2.05617946e-03,\n",
       "        2.21662564e-02, 5.24922505e-02, 2.01138154e-02, 1.76518533e-03,\n",
       "        1.20080148e-01, 3.29406827e-02, 3.82706706e-02, 4.06272090e-02,\n",
       "        8.16997057e-02, 9.28031379e-02, 5.31655584e-03, 3.62483705e-02,\n",
       "        6.58724267e-03, 1.09944845e-01, 4.27117242e-03, 5.93133867e-02,\n",
       "        9.90239541e-03, 4.09442937e-02, 1.28505342e-02, 5.20803064e-02,\n",
       "        1.10294806e-01, 1.90695136e-02, 1.40835901e-02, 8.71391471e-02,\n",
       "        4.19483124e-02, 9.83884221e-03, 1.43441570e-02, 6.59032936e-02,\n",
       "        9.06160209e-03, 2.33633525e-03, 5.94257628e-03, 5.22597119e-03,\n",
       "        6.05011855e-02, 3.64683415e-02, 9.12016105e-03, 5.57600270e-03,\n",
       "        1.34602605e-02, 4.24411148e-02, 4.37315938e-03, 6.83091377e-03,\n",
       "        8.19418185e-02, 1.02774008e-02, 2.21981938e-02, 2.07442502e-02,\n",
       "        4.23039862e-02, 2.66812316e-02, 4.38465517e-02, 2.09100372e-02,\n",
       "        4.25386297e-02, 8.56725552e-03, 2.09771866e-02, 1.02711688e-02,\n",
       "        1.01360744e-03, 1.90866258e-02, 1.03109393e-01, 7.53585002e-02,\n",
       "        3.11942228e-02, 3.86747966e-02, 4.47298454e-02, 6.88054644e-02,\n",
       "        4.91290729e-02, 2.75719057e-03, 4.38244753e-02, 4.28453106e-02,\n",
       "        3.03510596e-02, 4.92484723e-02, 5.94645514e-02, 4.93455250e-02,\n",
       "        9.21259163e-04, 1.18911786e-02, 5.87877508e-03, 4.70357078e-02,\n",
       "        1.17868892e-01, 6.44404047e-02, 3.29615949e-02, 7.83950483e-02,\n",
       "        4.39972700e-03, 2.27252468e-02, 4.56845616e-02, 9.76445223e-02,\n",
       "        6.63517545e-04, 6.20468731e-02, 3.58179500e-03, 5.03322157e-02,\n",
       "        5.95562757e-02, 9.65081312e-06, 1.35056965e-02, 9.60797800e-03,\n",
       "        8.16428205e-02, 3.12618442e-03, 6.74202334e-02, 7.69269357e-02,\n",
       "        1.02079827e-01, 5.28546709e-03, 7.36695968e-02, 2.45821435e-02,\n",
       "        2.22872147e-02, 2.85242689e-02, 3.61065915e-02, 9.11659657e-02,\n",
       "        2.90656201e-03, 2.51558218e-03, 1.15150414e-03, 8.79191182e-04,\n",
       "        3.69447752e-02, 7.01383582e-02, 5.82108111e-02, 7.19452995e-03,\n",
       "        4.21689259e-03, 3.85135596e-02, 3.05051042e-02, 1.04918224e-03,\n",
       "        8.10884805e-02, 5.50711243e-03, 7.95978510e-02, 1.41986020e-02,\n",
       "        2.79875904e-02, 6.05922601e-02, 1.29211511e-02, 2.54863276e-02,\n",
       "        6.96213416e-03, 3.72239423e-02, 2.10808431e-02, 2.22456846e-02,\n",
       "        3.61751406e-02, 5.67326217e-02, 6.50620514e-04, 9.20812382e-02,\n",
       "        7.55677185e-02, 6.46549339e-02, 4.33216048e-02, 2.43223691e-02]])"
      ]
     },
     "execution_count": 45,
     "metadata": {},
     "output_type": "execute_result"
    }
   ],
   "source": [
    "control_centroids"
   ]
  },
  {
   "cell_type": "code",
   "execution_count": 33,
   "metadata": {},
   "outputs": [
    {
     "name": "stdout",
     "output_type": "stream",
     "text": [
      "Cluster 0 has true labels: Counter({0: 29, 1: 1})\n",
      "Cluster 1 has true labels: Counter({2: 120})\n",
      "Cluster 2 has true labels: Counter({1: 102})\n"
     ]
    }
   ],
   "source": [
    "K = len(np.unique(best_idx))  # Number of clusters\n",
    "\n",
    "# Iterate over each cluster and count the true labels in that cluster\n",
    "for cluster in range(K):\n",
    "    # Find the indices of images assigned to the current cluster\n",
    "    cluster_indices = np.where(best_idx == cluster)[0]\n",
    "    \n",
    "    # Get the true labels for the images in this cluster\n",
    "    cluster_labels = labels_np[cluster_indices]\n",
    "    \n",
    "    # Use Counter to count occurrences of each label in the cluster\n",
    "    label_counts = Counter(cluster_labels)\n",
    "    \n",
    "    # Print the result\n",
    "    print(f\"Cluster {cluster} has true labels: {label_counts}\")"
   ]
  },
  {
   "cell_type": "code",
   "execution_count": 28,
   "metadata": {},
   "outputs": [],
   "source": [
    "from scipy.stats import mode\n",
    "import numpy as np\n",
    "\n",
    "# Function to reorder K-Means labels to match true labels\n",
    "def reorder_labels(true_labels, predicted_labels):\n",
    "    reordered_labels = np.zeros_like(predicted_labels)\n",
    "\n",
    "    for cluster in np.unique(predicted_labels):\n",
    "        mask = (predicted_labels == cluster)\n",
    "        # Use mode and handle cases where mode() returns a scalar\n",
    "        most_common_label = mode(true_labels[mask], axis=None).mode  # Get the mode for the current cluster\n",
    "        if isinstance(most_common_label, np.ndarray):\n",
    "            most_common_label = most_common_label[0]  # Safely extract the mode value if it's an array\n",
    "        \n",
    "        reordered_labels[mask] = most_common_label\n",
    "\n",
    "    return reordered_labels\n",
    "\n",
    "\n"
   ]
  },
  {
   "cell_type": "code",
   "execution_count": 29,
   "metadata": {},
   "outputs": [
    {
     "name": "stdout",
     "output_type": "stream",
     "text": [
      "Accuracy: 99.60%\n"
     ]
    }
   ],
   "source": [
    "# Apply this after running K-Means\n",
    "reordered_idx = reorder_labels(labels_np, idx)\n",
    "\n",
    "# Now you can compare `reordered_idx` with `labels` to evaluate accuracy\n",
    "accuracy = np.sum(reordered_idx == labels_np) / len(labels_np) * 100\n",
    "print(f\"Accuracy: {accuracy:.2f}%\")"
   ]
  },
  {
   "cell_type": "code",
   "execution_count": 30,
   "metadata": {},
   "outputs": [
    {
     "name": "stdout",
     "output_type": "stream",
     "text": [
      "Accuracy: 88.49%\n"
     ]
    }
   ],
   "source": [
    "# Apply this after running K-Means\n",
    "reordered_idx = reorder_labels(labels_np, best_idx)\n",
    "\n",
    "# Now you can compare `reordered_idx` with `labels` to evaluate accuracy\n",
    "accuracy = np.sum(reordered_idx == labels_np) / len(labels_np) * 100\n",
    "print(f\"Accuracy: {accuracy:.2f}%\")"
   ]
  },
  {
   "cell_type": "markdown",
   "metadata": {},
   "source": [
    "iteration 1: 90%\n",
    "\n",
    "iteration 2: 96.67%\n",
    "\n",
    "iteration 3: 95%"
   ]
  },
  {
   "cell_type": "code",
   "execution_count": 21,
   "metadata": {},
   "outputs": [],
   "source": [
    "import matplotlib.pyplot as plt\n",
    "from sklearn.decomposition import PCA"
   ]
  },
  {
   "cell_type": "code",
   "execution_count": 22,
   "metadata": {},
   "outputs": [],
   "source": [
    "# Function to reduce the dimensionality of data points and centroids to 2D using PCA\n",
    "def reduce_to_2D_pca(X, centroids):\n",
    "    # Initialize PCA with 2 components\n",
    "    pca = PCA(n_components=2)\n",
    "    \n",
    "    # Apply PCA to the data points (X) and centroids\n",
    "    X_2D = pca.fit_transform(X)  # Reducing original data points\n",
    "    centroids_2D = pca.transform(centroids)  # Reducing centroids\n",
    "\n",
    "    return X_2D, centroids_2D\n",
    "\n",
    "# Function to plot 2D visualization of clustered data points and centroids with true labels\n",
    "def plot_2D_clusters_with_labels(X_2D, centroids_2D, idx, labels, K):\n",
    "    plt.figure(figsize=(10, 7))\n",
    "    \n",
    "    # Define color map for clusters\n",
    "    colors = plt.cm.rainbow(np.linspace(0, 1, K))\n",
    "    \n",
    "    # Plot data points colored by their cluster assignment\n",
    "    for k in range(K):\n",
    "        cluster_points = X_2D[idx == k]\n",
    "        cluster_labels = labels[idx == k]  # Get true labels for the current cluster\n",
    "        \n",
    "        # Scatter plot for each cluster\n",
    "        plt.scatter(cluster_points[:, 0], cluster_points[:, 1], \n",
    "                    c=[colors[k]], label=f\"Cluster {k+1}\", alpha=0.6)\n",
    "        \n",
    "        # Annotate each point with its true label\n",
    "        for i in range(cluster_points.shape[0]):\n",
    "            plt.annotate(str(cluster_labels[i]), \n",
    "                         (cluster_points[i, 0], cluster_points[i, 1]), \n",
    "                         fontsize=8, alpha=0.75)\n",
    "\n",
    "    # Plot centroids as larger markers\n",
    "    plt.scatter(centroids_2D[:, 0], centroids_2D[:, 1], \n",
    "                c='k', marker='x', s=200, label='Centroids')\n",
    "\n",
    "    plt.title(\"2D Visualization of Clusters using PCA with True Labels\")\n",
    "    plt.xlabel(\"Component 1\")\n",
    "    plt.ylabel(\"Component 2\")\n",
    "    plt.legend()\n",
    "    plt.grid()\n",
    "    plt.show()\n"
   ]
  },
  {
   "cell_type": "code",
   "execution_count": 23,
   "metadata": {},
   "outputs": [
    {
     "data": {
      "image/png": "[encoded data removed]",
      "text/plain": [
       "<Figure size 1000x700 with 1 Axes>"
      ]
     },
     "metadata": {},
     "output_type": "display_data"
    }
   ],
   "source": [
    "# Apply PCA after K-Means clustering for 2D visualization\n",
    "X_2D_pca, centroids_2D_pca = reduce_to_2D_pca(feats_np_norm, centroids)\n",
    "\n",
    "# Plot the 2D clusters with centroids and true labels\n",
    "plot_2D_clusters_with_labels(X_2D_pca, centroids_2D_pca, idx, labels_np, K)\n"
   ]
  },
  {
   "cell_type": "code",
   "execution_count": 24,
   "metadata": {},
   "outputs": [
    {
     "data": {
      "image/png": "[encoded data removed]",
      "text/plain": [
       "<Figure size 1000x700 with 1 Axes>"
      ]
     },
     "metadata": {},
     "output_type": "display_data"
    }
   ],
   "source": [
    "# Apply PCA after K-Means clustering for 2D visualization\n",
    "X_2D_pca, centroids_2D_pca = reduce_to_2D_pca(feats_np_norm, best_centroids)\n",
    "\n",
    "# Plot the 2D clusters with centroids and true labels\n",
    "plot_2D_clusters_with_labels(X_2D_pca, centroids_2D_pca, best_idx, labels_np, K)\n"
   ]
  },
  {
   "cell_type": "code",
   "execution_count": 26,
   "metadata": {},
   "outputs": [
    {
     "name": "stdout",
     "output_type": "stream",
     "text": [
      "95.83333333333334\n"
     ]
    }
   ],
   "source": [
    "total_data_points = 30+30+12\n",
    "wrong = 3 \n",
    "predicted_corrected = total_data_points - wrong\n",
    "accuracy = (predicted_corrected/total_data_points)*100\n",
    "print(accuracy)"
   ]
  }
 ],
 "metadata": {
  "kernelspec": {
   "display_name": "master",
   "language": "python",
   "name": "python3"
  },
  "language_info": {
   "codemirror_mode": {
    "name": "ipython",
    "version": 3
   },
   "file_extension": ".py",
   "mimetype": "text/x-python",
   "name": "python",
   "nbconvert_exporter": "python",
   "pygments_lexer": "ipython3",
   "version": "3.12.4"
  }
 },
 "nbformat": 4,
 "nbformat_minor": 2
}
