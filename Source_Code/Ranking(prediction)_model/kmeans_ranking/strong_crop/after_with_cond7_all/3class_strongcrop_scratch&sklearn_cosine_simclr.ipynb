{
 "cells": [
  {
   "cell_type": "code",
   "execution_count": 1,
   "metadata": {},
   "outputs": [],
   "source": [
    "import os\n",
    "import numpy as np\n",
    "import torch\n",
    "from torch import nn, optim\n",
    "from torch.utils.data import Dataset, DataLoader, random_split\n",
    "from torchvision import transforms\n",
    "import torchvision\n",
    "import tifffile as tiff\n",
    "import matplotlib.pyplot as plt\n",
    "import time\n",
    "from tqdm import tqdm\n",
    "from copy import deepcopy\n",
    "import random\n",
    "from sklearn.preprocessing import normalize\n",
    "\n",
    "from collections import Counter\n",
    "from scipy.stats import mode"
   ]
  },
  {
   "cell_type": "code",
   "execution_count": 2,
   "metadata": {},
   "outputs": [],
   "source": [
    "# Set seed for reproducibility\n",
    "def set_seed(seed):\n",
    "    random.seed(seed)\n",
    "    np.random.seed(seed)\n",
    "    torch.manual_seed(seed)\n",
    "    if torch.cuda.is_available():\n",
    "        torch.cuda.manual_seed(seed)\n",
    "        torch.cuda.manual_seed_all(seed)\n",
    "    torch.backends.cudnn.deterministic = True\n",
    "    torch.backends.cudnn.benchmark = False\n",
    "\n",
    "# Set seed\n",
    "set_seed(42)"
   ]
  },
  {
   "cell_type": "code",
   "execution_count": 3,
   "metadata": {},
   "outputs": [],
   "source": [
    "# Set the device\n",
    "device = torch.device(\"cuda\" if torch.cuda.is_available() else \"cpu\")"
   ]
  },
  {
   "cell_type": "code",
   "execution_count": 4,
   "metadata": {},
   "outputs": [],
   "source": [
    "#torch.save(simclr_model.state_dict(), 'model_weights.pth')\n",
    "full_model_path =  r'C:\\Users\\k54739\\saved_model\\simclr_strongcrop_245.pth'\n",
    "#torch.save(simclr_model, full_model_path)\n",
    "\n"
   ]
  },
  {
   "cell_type": "code",
   "execution_count": 5,
   "metadata": {},
   "outputs": [],
   "source": [
    "class SimCLR(nn.Module):\n",
    "    def __init__(self, hidden_dim, lr, temperature, weight_decay,max_epochs):\n",
    "        super().__init__()\n",
    "        self.temperature = temperature\n",
    "        \n",
    "        # Load the pretrained ResNet-18 model\n",
    "        self.convnet = torchvision.models.resnet18(weights='ResNet18_Weights.DEFAULT')\n",
    "        \n",
    "        # Modify the fully connected layer\n",
    "        self.convnet.fc = nn.Sequential(\n",
    "            nn.Linear(self.convnet.fc.in_features, 4 * hidden_dim),  # Linear layer with 4*hidden_dim output\n",
    "            nn.ReLU(inplace=True),\n",
    "            nn.Linear(4 * hidden_dim, 20)  # Output layer with hidden_dim output\n",
    "        )\n",
    "\n",
    "        self.optimizer = optim.AdamW(self.parameters(), lr=lr, weight_decay=weight_decay)\n",
    "        self.lr_scheduler = optim.lr_scheduler.CosineAnnealingLR(self.optimizer, T_max=max_epochs, eta_min=lr / 50)\n",
    "\n",
    "    def forward(self, x):\n",
    "        return self.convnet(x)\n",
    "\n",
    "    def info_nce_loss(self, imgs1, imgs2, device):\n",
    "\n",
    "        imgs = torch.cat((imgs1, imgs2), dim=0)  # Concatenate along the batch dimension\n",
    "        imgs = imgs.to(device)  # Move images to the device\n",
    "\n",
    "        # Encode all images\n",
    "        feats = self.forward(imgs)\n",
    "    \n",
    "        # Calculate cosine similarity\n",
    "        cos_sim = nn.functional.cosine_similarity(feats[:, None, :], feats[None, :, :], dim=-1)\n",
    "    \n",
    "        # Mask out cosine similarity to itself\n",
    "        self_mask = torch.eye(cos_sim.shape[0], dtype=torch.bool, device=cos_sim.device)\n",
    "        cos_sim.masked_fill_(self_mask, -9e15)\n",
    "    \n",
    "        # Find positive example -> batch_size//2 away from the original example\n",
    "        pos_mask = self_mask.roll(shifts=cos_sim.shape[0] // 2, dims=0)\n",
    "    \n",
    "        # Normalize similarity scores by temperature\n",
    "        cos_sim = cos_sim / self.temperature\n",
    "\n",
    "        # InfoNCE loss\n",
    "        nll = -cos_sim[pos_mask] + torch.logsumexp(cos_sim, dim=-1)\n",
    "        nll = nll.mean()\n",
    "\n",
    "        # Accuracy calculations\n",
    "        # Create a combination of positive and negative similarities for ranking\n",
    "        comb_sim = torch.cat([cos_sim[pos_mask][:, None],  # Positive example in first position\n",
    "                          cos_sim.masked_fill(pos_mask, -9e15)], dim=-1)\n",
    "    \n",
    "        # Sort and get the ranking position of the positive example\n",
    "        sim_argsort = comb_sim.argsort(dim=-1, descending=True).argmin(dim=-1)\n",
    "    \n",
    "        # Compute accuracy metrics\n",
    "        top1_acc = (sim_argsort == 0).float().mean()  # Top-1 accuracy\n",
    "        top5_acc = (sim_argsort < 5).float().mean()   # Top-5 accuracy\n",
    "        mean_pos = 1 + sim_argsort.float().mean()     # Mean position of the positive example\n",
    "\n",
    "        return nll, top1_acc, top5_acc, mean_pos\n",
    "\n",
    "    def train_epoch(self, train_loader, device):\n",
    "        self.train()\n",
    "        total_loss = 0.0\n",
    "        total_top1_acc = 0.0\n",
    "        total_top5_acc = 0.0\n",
    "        total_mean_pos = 0.0\n",
    "\n",
    "        for batch in tqdm(train_loader, desc=\"Training\", leave=False):\n",
    "            imgs1, imgs2, _ = batch\n",
    "            imgs1, imgs2 = imgs1.to(device), imgs2.to(device)  # Move data to device\n",
    "        \n",
    "            self.optimizer.zero_grad()\n",
    "\n",
    "            # Calculate loss and accuracy metrics\n",
    "            loss, top1_acc, top5_acc, mean_pos = self.info_nce_loss(imgs1, imgs2, device)\n",
    "\n",
    "            loss.backward()\n",
    "            self.optimizer.step()\n",
    "            #self.lr_scheduler.step()\n",
    "\n",
    "            # Accumulate metrics\n",
    "            total_loss += loss.item()\n",
    "            total_top1_acc += top1_acc.item()\n",
    "            total_top5_acc += top5_acc.item()\n",
    "            total_mean_pos += mean_pos.item()\n",
    "\n",
    "        avg_loss = total_loss / len(train_loader)\n",
    "        avg_top1_acc = total_top1_acc / len(train_loader)\n",
    "        avg_top5_acc = total_top5_acc / len(train_loader)\n",
    "        avg_mean_pos = total_mean_pos / len(train_loader)\n",
    "\n",
    "        return avg_loss, avg_top1_acc, avg_top5_acc, avg_mean_pos\n",
    "\n",
    "    def validate_epoch(self, val_loader, device):\n",
    "        self.eval()\n",
    "        total_loss = 0.0\n",
    "        total_top1_acc = 0.0\n",
    "        total_top5_acc = 0.0\n",
    "        total_mean_pos = 0.0\n",
    "\n",
    "        with torch.no_grad():\n",
    "            for batch in tqdm(val_loader, desc=\"Validating\", leave=False):\n",
    "                imgs1, imgs2, _ = batch\n",
    "                imgs1, imgs2 = imgs1.to(device), imgs2.to(device)  # Move data to device\n",
    "\n",
    "                # Calculate loss and accuracy metrics\n",
    "                loss, top1_acc, top5_acc, mean_pos = self.info_nce_loss(imgs1, imgs2, device)\n",
    "\n",
    "                # Accumulate metrics\n",
    "                total_loss += loss.item()\n",
    "                total_top1_acc += top1_acc.item()\n",
    "                total_top5_acc += top5_acc.item()\n",
    "                total_mean_pos += mean_pos.item()\n",
    "\n",
    "        avg_loss = total_loss / len(val_loader)\n",
    "        avg_top1_acc = total_top1_acc / len(val_loader)\n",
    "        avg_top5_acc = total_top5_acc / len(val_loader)\n",
    "        avg_mean_pos = total_mean_pos / len(val_loader)\n",
    "\n",
    "        return avg_loss, avg_top1_acc, avg_top5_acc, avg_mean_pos\n",
    "    \n",
    "\n",
    "    def inference_epoch(self, inference_loader, device):\n",
    "        self.eval()\n",
    "        total_loss = 0.0\n",
    "        total_top1_acc = 0.0\n",
    "        total_top5_acc = 0.0\n",
    "        total_mean_pos = 0.0\n",
    "\n",
    "        with torch.no_grad():\n",
    "            for batch in tqdm(inference_loader, desc=\"Inferencing\", leave=False):\n",
    "                imgs1, imgs2, _ = batch\n",
    "                imgs1, imgs2 = imgs1.to(device), imgs2.to(device)  # Move data to device\n",
    "\n",
    "                # Calculate loss and accuracy metrics\n",
    "                loss, top1_acc, top5_acc, mean_pos = self.info_nce_loss(imgs1, imgs2, device)\n",
    "\n",
    "                # Accumulate metrics\n",
    "                total_loss += loss.item()\n",
    "                total_top1_acc += top1_acc.item()\n",
    "                total_top5_acc += top5_acc.item()\n",
    "                total_mean_pos += mean_pos.item()\n",
    "\n",
    "        avg_loss = total_loss / len(inference_loader)\n",
    "        avg_top1_acc = total_top1_acc / len(inference_loader)\n",
    "        avg_top5_acc = total_top5_acc / len(inference_loader)\n",
    "        avg_mean_pos = total_mean_pos / len(inference_loader)\n",
    "\n",
    "        return avg_loss, avg_top1_acc, avg_top5_acc, avg_mean_pos"
   ]
  },
  {
   "cell_type": "code",
   "execution_count": 6,
   "metadata": {},
   "outputs": [
    {
     "name": "stderr",
     "output_type": "stream",
     "text": [
      "C:\\Users\\k54739\\AppData\\Local\\Temp\\ipykernel_22860\\1467178467.py:2: FutureWarning: You are using `torch.load` with `weights_only=False` (the current default value), which uses the default pickle module implicitly. It is possible to construct malicious pickle data which will execute arbitrary code during unpickling (See https://github.com/pytorch/pytorch/blob/main/SECURITY.md#untrusted-models for more details). In a future release, the default value for `weights_only` will be flipped to `True`. This limits the functions that could be executed during unpickling. Arbitrary objects will no longer be allowed to be loaded via this mode unless they are explicitly allowlisted by the user via `torch.serialization.add_safe_globals`. We recommend you start setting `weights_only=True` for any use case where you don't have full control of the loaded file. Please open an issue on GitHub for any issues related to this experimental feature.\n",
      "  simclr_model.load_state_dict(torch.load(full_model_path))\n"
     ]
    },
    {
     "data": {
      "text/plain": [
       "SimCLR(\n",
       "  (convnet): ResNet(\n",
       "    (conv1): Conv2d(3, 64, kernel_size=(7, 7), stride=(2, 2), padding=(3, 3), bias=False)\n",
       "    (bn1): BatchNorm2d(64, eps=1e-05, momentum=0.1, affine=True, track_running_stats=True)\n",
       "    (relu): ReLU(inplace=True)\n",
       "    (maxpool): MaxPool2d(kernel_size=3, stride=2, padding=1, dilation=1, ceil_mode=False)\n",
       "    (layer1): Sequential(\n",
       "      (0): BasicBlock(\n",
       "        (conv1): Conv2d(64, 64, kernel_size=(3, 3), stride=(1, 1), padding=(1, 1), bias=False)\n",
       "        (bn1): BatchNorm2d(64, eps=1e-05, momentum=0.1, affine=True, track_running_stats=True)\n",
       "        (relu): ReLU(inplace=True)\n",
       "        (conv2): Conv2d(64, 64, kernel_size=(3, 3), stride=(1, 1), padding=(1, 1), bias=False)\n",
       "        (bn2): BatchNorm2d(64, eps=1e-05, momentum=0.1, affine=True, track_running_stats=True)\n",
       "      )\n",
       "      (1): BasicBlock(\n",
       "        (conv1): Conv2d(64, 64, kernel_size=(3, 3), stride=(1, 1), padding=(1, 1), bias=False)\n",
       "        (bn1): BatchNorm2d(64, eps=1e-05, momentum=0.1, affine=True, track_running_stats=True)\n",
       "        (relu): ReLU(inplace=True)\n",
       "        (conv2): Conv2d(64, 64, kernel_size=(3, 3), stride=(1, 1), padding=(1, 1), bias=False)\n",
       "        (bn2): BatchNorm2d(64, eps=1e-05, momentum=0.1, affine=True, track_running_stats=True)\n",
       "      )\n",
       "    )\n",
       "    (layer2): Sequential(\n",
       "      (0): BasicBlock(\n",
       "        (conv1): Conv2d(64, 128, kernel_size=(3, 3), stride=(2, 2), padding=(1, 1), bias=False)\n",
       "        (bn1): BatchNorm2d(128, eps=1e-05, momentum=0.1, affine=True, track_running_stats=True)\n",
       "        (relu): ReLU(inplace=True)\n",
       "        (conv2): Conv2d(128, 128, kernel_size=(3, 3), stride=(1, 1), padding=(1, 1), bias=False)\n",
       "        (bn2): BatchNorm2d(128, eps=1e-05, momentum=0.1, affine=True, track_running_stats=True)\n",
       "        (downsample): Sequential(\n",
       "          (0): Conv2d(64, 128, kernel_size=(1, 1), stride=(2, 2), bias=False)\n",
       "          (1): BatchNorm2d(128, eps=1e-05, momentum=0.1, affine=True, track_running_stats=True)\n",
       "        )\n",
       "      )\n",
       "      (1): BasicBlock(\n",
       "        (conv1): Conv2d(128, 128, kernel_size=(3, 3), stride=(1, 1), padding=(1, 1), bias=False)\n",
       "        (bn1): BatchNorm2d(128, eps=1e-05, momentum=0.1, affine=True, track_running_stats=True)\n",
       "        (relu): ReLU(inplace=True)\n",
       "        (conv2): Conv2d(128, 128, kernel_size=(3, 3), stride=(1, 1), padding=(1, 1), bias=False)\n",
       "        (bn2): BatchNorm2d(128, eps=1e-05, momentum=0.1, affine=True, track_running_stats=True)\n",
       "      )\n",
       "    )\n",
       "    (layer3): Sequential(\n",
       "      (0): BasicBlock(\n",
       "        (conv1): Conv2d(128, 256, kernel_size=(3, 3), stride=(2, 2), padding=(1, 1), bias=False)\n",
       "        (bn1): BatchNorm2d(256, eps=1e-05, momentum=0.1, affine=True, track_running_stats=True)\n",
       "        (relu): ReLU(inplace=True)\n",
       "        (conv2): Conv2d(256, 256, kernel_size=(3, 3), stride=(1, 1), padding=(1, 1), bias=False)\n",
       "        (bn2): BatchNorm2d(256, eps=1e-05, momentum=0.1, affine=True, track_running_stats=True)\n",
       "        (downsample): Sequential(\n",
       "          (0): Conv2d(128, 256, kernel_size=(1, 1), stride=(2, 2), bias=False)\n",
       "          (1): BatchNorm2d(256, eps=1e-05, momentum=0.1, affine=True, track_running_stats=True)\n",
       "        )\n",
       "      )\n",
       "      (1): BasicBlock(\n",
       "        (conv1): Conv2d(256, 256, kernel_size=(3, 3), stride=(1, 1), padding=(1, 1), bias=False)\n",
       "        (bn1): BatchNorm2d(256, eps=1e-05, momentum=0.1, affine=True, track_running_stats=True)\n",
       "        (relu): ReLU(inplace=True)\n",
       "        (conv2): Conv2d(256, 256, kernel_size=(3, 3), stride=(1, 1), padding=(1, 1), bias=False)\n",
       "        (bn2): BatchNorm2d(256, eps=1e-05, momentum=0.1, affine=True, track_running_stats=True)\n",
       "      )\n",
       "    )\n",
       "    (layer4): Sequential(\n",
       "      (0): BasicBlock(\n",
       "        (conv1): Conv2d(256, 512, kernel_size=(3, 3), stride=(2, 2), padding=(1, 1), bias=False)\n",
       "        (bn1): BatchNorm2d(512, eps=1e-05, momentum=0.1, affine=True, track_running_stats=True)\n",
       "        (relu): ReLU(inplace=True)\n",
       "        (conv2): Conv2d(512, 512, kernel_size=(3, 3), stride=(1, 1), padding=(1, 1), bias=False)\n",
       "        (bn2): BatchNorm2d(512, eps=1e-05, momentum=0.1, affine=True, track_running_stats=True)\n",
       "        (downsample): Sequential(\n",
       "          (0): Conv2d(256, 512, kernel_size=(1, 1), stride=(2, 2), bias=False)\n",
       "          (1): BatchNorm2d(512, eps=1e-05, momentum=0.1, affine=True, track_running_stats=True)\n",
       "        )\n",
       "      )\n",
       "      (1): BasicBlock(\n",
       "        (conv1): Conv2d(512, 512, kernel_size=(3, 3), stride=(1, 1), padding=(1, 1), bias=False)\n",
       "        (bn1): BatchNorm2d(512, eps=1e-05, momentum=0.1, affine=True, track_running_stats=True)\n",
       "        (relu): ReLU(inplace=True)\n",
       "        (conv2): Conv2d(512, 512, kernel_size=(3, 3), stride=(1, 1), padding=(1, 1), bias=False)\n",
       "        (bn2): BatchNorm2d(512, eps=1e-05, momentum=0.1, affine=True, track_running_stats=True)\n",
       "      )\n",
       "    )\n",
       "    (avgpool): AdaptiveAvgPool2d(output_size=(1, 1))\n",
       "    (fc): Sequential(\n",
       "      (0): Linear(in_features=512, out_features=512, bias=True)\n",
       "      (1): ReLU(inplace=True)\n",
       "      (2): Linear(in_features=512, out_features=20, bias=True)\n",
       "    )\n",
       "  )\n",
       ")"
      ]
     },
     "execution_count": 6,
     "metadata": {},
     "output_type": "execute_result"
    }
   ],
   "source": [
    "simclr_model = SimCLR(hidden_dim=128, lr=5e-4, temperature=0.07, weight_decay=1e-4,max_epochs=245)\n",
    "simclr_model.load_state_dict(torch.load(full_model_path))\n",
    "simclr_model.to(device)\n",
    "simclr_model.eval()"
   ]
  },
  {
   "cell_type": "markdown",
   "metadata": {},
   "source": [
    "# Clustering"
   ]
  },
  {
   "cell_type": "code",
   "execution_count": 7,
   "metadata": {},
   "outputs": [
    {
     "name": "stdout",
     "output_type": "stream",
     "text": [
      "Label distribution: {'sd': 125}\n"
     ]
    }
   ],
   "source": [
    "class LabeledImageDataset(Dataset):\n",
    "    def __init__(self, image_files, labels, transform=None):\n",
    "        self.image_files = image_files\n",
    "        self.labels = labels\n",
    "        #self.transform = transform\n",
    "        self.resize_transform = transforms.Resize((96, 96))\n",
    "\n",
    "    def __len__(self):\n",
    "        return len(self.image_files)\n",
    "\n",
    "    def __getitem__(self, idx):\n",
    "        img_path = self.image_files[idx]\n",
    "        image = tiff.imread(img_path)\n",
    "\n",
    "        # Ensure the image has 3 layers (channels)\n",
    "        if image.shape[0] != 3:\n",
    "            raise ValueError(f\"Image {img_path} does not have exactly 3 layers.\")\n",
    "\n",
    "        # Normalize the 16-bit image to [0, 1]\n",
    "        image = image.astype(np.float32) / 65535.0\n",
    "\n",
    "        # Convert to a torch tensor and add channel dimension\n",
    "        image = torch.tensor(image, dtype=torch.float32)\n",
    "        \n",
    "        # Apply resize transform\n",
    "        image = self.resize_transform(image)\n",
    "\n",
    "        label = self.labels[idx]\n",
    "\n",
    "        return image, label\n",
    "\n",
    "def load_data(root_dir):\n",
    "    #classes = ['control','single_dose','explod']\n",
    "    #classes = ['cond7_all']\n",
    "    classes = ['sd']\n",
    "    #classes = ['ex']\n",
    "    \n",
    "\n",
    "\n",
    "    image_files = []\n",
    "    labels = []\n",
    "\n",
    "    for idx, class_name in enumerate(classes):\n",
    "        class_dir = os.path.join(root_dir, class_name)\n",
    "        files = [os.path.join(class_dir, file) for file in os.listdir(class_dir) if file.endswith(('.tiff', '.tif'))]\n",
    "        image_files.extend(files)\n",
    "        labels.extend([idx] * len(files))\n",
    "    \n",
    "    # Check if the labels correctly reflect the classes\n",
    "    print(\"Label distribution:\", {classes[i]: labels.count(i) for i in range(len(classes))})\n",
    "\n",
    "    return image_files, labels\n",
    "\n",
    "\n",
    "# Directories for labeled data\n",
    "image_dir = r\"C:\\Users\\k54739\\Bibi_new_thesis\\thesis\\classification\"\n",
    "\n",
    "# Load data\n",
    "image_files, labels = load_data(image_dir)\n",
    "\n",
    "# Create the labeled datasets\n",
    "labeled_dataset = LabeledImageDataset(image_files, labels)\n",
    "\n",
    "# Define DataLoaders\n",
    "batch_size = 16\n",
    "loader_labeled = DataLoader(labeled_dataset, batch_size=batch_size, shuffle=True, drop_last=False, pin_memory=True, num_workers=0)"
   ]
  },
  {
   "cell_type": "code",
   "execution_count": 8,
   "metadata": {},
   "outputs": [
    {
     "name": "stdout",
     "output_type": "stream",
     "text": [
      "torch.Size([16, 3, 96, 96]) torch.Size([16]) torch.float32\n",
      "tensor([0, 0, 0, 0, 0, 0, 0, 0, 0, 0, 0, 0, 0, 0, 0, 0])\n"
     ]
    }
   ],
   "source": [
    "for anchor,label in loader_labeled:\n",
    "    print(anchor.shape, label.shape, anchor.dtype)\n",
    "    print(label)\n",
    "    break"
   ]
  },
  {
   "cell_type": "code",
   "execution_count": 9,
   "metadata": {},
   "outputs": [],
   "source": [
    "@torch.no_grad()\n",
    "def prepare_data_features(model, dataloader):\n",
    "    # Prepare model\n",
    "    network = deepcopy(model.convnet)\n",
    "    #network.fc = nn.Identity()  # Removing projection head g(.)\n",
    "    network.eval()\n",
    "    network.to(device)\n",
    "\n",
    "    # Encode all images\n",
    "    feats, labels = [], []\n",
    "    for batch_imgs, batch_labels in tqdm(dataloader):\n",
    "        batch_imgs = batch_imgs.to(device)\n",
    "        batch_feats = network(batch_imgs)\n",
    "        print(f\"Batch features shape: {batch_feats.shape}\")\n",
    "        print(f\"Batch labels shape: {batch_labels.shape}\")\n",
    "        \n",
    "        feats.append(batch_feats.detach().cpu())\n",
    "        labels.append(batch_labels)\n",
    "\n",
    "    feats = torch.cat(feats, dim=0)\n",
    "    labels = torch.cat(labels, dim=0)\n",
    "    \n",
    "    print(f\"Features shape after concatenation: {feats.shape}\")\n",
    "    print(f\"Labels shape after concatenation: {labels.shape}\")\n",
    "\n",
    "    return torch.utils.data.TensorDataset(feats, labels)"
   ]
  },
  {
   "cell_type": "code",
   "execution_count": 10,
   "metadata": {},
   "outputs": [
    {
     "name": "stderr",
     "output_type": "stream",
     "text": [
      "  0%|          | 0/8 [00:00<?, ?it/s]"
     ]
    },
    {
     "name": "stderr",
     "output_type": "stream",
     "text": [
      " 12%|█▎        | 1/8 [00:00<00:06,  1.01it/s]"
     ]
    },
    {
     "name": "stdout",
     "output_type": "stream",
     "text": [
      "Batch features shape: torch.Size([16, 20])\n",
      "Batch labels shape: torch.Size([16])\n"
     ]
    },
    {
     "name": "stderr",
     "output_type": "stream",
     "text": [
      " 25%|██▌       | 2/8 [00:01<00:05,  1.19it/s]"
     ]
    },
    {
     "name": "stdout",
     "output_type": "stream",
     "text": [
      "Batch features shape: torch.Size([16, 20])\n",
      "Batch labels shape: torch.Size([16])\n"
     ]
    },
    {
     "name": "stderr",
     "output_type": "stream",
     "text": [
      " 38%|███▊      | 3/8 [00:02<00:04,  1.24it/s]"
     ]
    },
    {
     "name": "stdout",
     "output_type": "stream",
     "text": [
      "Batch features shape: torch.Size([16, 20])\n",
      "Batch labels shape: torch.Size([16])\n"
     ]
    },
    {
     "name": "stderr",
     "output_type": "stream",
     "text": [
      " 50%|█████     | 4/8 [00:03<00:03,  1.28it/s]"
     ]
    },
    {
     "name": "stdout",
     "output_type": "stream",
     "text": [
      "Batch features shape: torch.Size([16, 20])\n",
      "Batch labels shape: torch.Size([16])\n"
     ]
    },
    {
     "name": "stderr",
     "output_type": "stream",
     "text": [
      " 62%|██████▎   | 5/8 [00:03<00:02,  1.32it/s]"
     ]
    },
    {
     "name": "stdout",
     "output_type": "stream",
     "text": [
      "Batch features shape: torch.Size([16, 20])\n",
      "Batch labels shape: torch.Size([16])\n"
     ]
    },
    {
     "name": "stderr",
     "output_type": "stream",
     "text": [
      " 75%|███████▌  | 6/8 [00:04<00:01,  1.35it/s]"
     ]
    },
    {
     "name": "stdout",
     "output_type": "stream",
     "text": [
      "Batch features shape: torch.Size([16, 20])\n",
      "Batch labels shape: torch.Size([16])\n"
     ]
    },
    {
     "name": "stderr",
     "output_type": "stream",
     "text": [
      " 88%|████████▊ | 7/8 [00:05<00:00,  1.36it/s]"
     ]
    },
    {
     "name": "stdout",
     "output_type": "stream",
     "text": [
      "Batch features shape: torch.Size([16, 20])\n",
      "Batch labels shape: torch.Size([16])\n"
     ]
    },
    {
     "name": "stderr",
     "output_type": "stream",
     "text": [
      "100%|██████████| 8/8 [00:05<00:00,  1.33it/s]"
     ]
    },
    {
     "name": "stdout",
     "output_type": "stream",
     "text": [
      "Batch features shape: torch.Size([13, 20])\n",
      "Batch labels shape: torch.Size([13])\n",
      "Features shape after concatenation: torch.Size([125, 20])\n",
      "Labels shape after concatenation: torch.Size([125])\n"
     ]
    },
    {
     "name": "stderr",
     "output_type": "stream",
     "text": [
      "\n"
     ]
    }
   ],
   "source": [
    "# Extract features for train and test datasets\n",
    "feats_simclr = prepare_data_features(simclr_model, loader_labeled)"
   ]
  },
  {
   "cell_type": "code",
   "execution_count": 49,
   "metadata": {},
   "outputs": [
    {
     "data": {
      "text/plain": [
       "torch.Size([472, 20])"
      ]
     },
     "execution_count": 49,
     "metadata": {},
     "output_type": "execute_result"
    }
   ],
   "source": [
    "cond7_all = feats_simclr.tensors[0]\n",
    "cond7_all.shape"
   ]
  },
  {
   "cell_type": "code",
   "execution_count": 50,
   "metadata": {},
   "outputs": [],
   "source": [
    "# Save in the current folder\n",
    "save_path = \"cond7_all.pt\"  # File name only\n",
    "\n",
    "# Save the tensor\n",
    "torch.save(cond7_all, save_path)"
   ]
  },
  {
   "cell_type": "code",
   "execution_count": 38,
   "metadata": {},
   "outputs": [],
   "source": [
    "# Save in the current folder\n",
    "save_path = \"sd.pt\"  # File name only\n",
    "\n",
    "# Save the tensor\n",
    "torch.save(sd, save_path)"
   ]
  },
  {
   "cell_type": "code",
   "execution_count": 11,
   "metadata": {},
   "outputs": [
    {
     "data": {
      "text/plain": [
       "torch.Size([29, 20])"
      ]
     },
     "execution_count": 11,
     "metadata": {},
     "output_type": "execute_result"
    }
   ],
   "source": [
    "ex = feats_simclr.tensors[0]\n",
    "ex.shape"
   ]
  },
  {
   "cell_type": "code",
   "execution_count": 44,
   "metadata": {},
   "outputs": [],
   "source": [
    "# Save in the current folder\n",
    "save_path = \"ex.pt\"  # File name only\n",
    "\n",
    "# Save the tensor\n",
    "torch.save(ex, save_path)"
   ]
  },
  {
   "cell_type": "code",
   "execution_count": null,
   "metadata": {},
   "outputs": [],
   "source": []
  },
  {
   "cell_type": "markdown",
   "metadata": {},
   "source": [
    "sd = feats_simclr.tensors[0]\n",
    "sd.shape"
   ]
  },
  {
   "cell_type": "markdown",
   "metadata": {},
   "source": [
    "# Save in the current folder\n",
    "save_path = \"sd.pt\"  # File name only\n",
    "\n",
    "# Save the tensor\n",
    "torch.save(sd, save_path)"
   ]
  },
  {
   "cell_type": "markdown",
   "metadata": {},
   "source": [
    "cond7 = feats_simclr.tensors[0]\n",
    "cond7.shape"
   ]
  },
  {
   "cell_type": "markdown",
   "metadata": {},
   "source": [
    "# Save in the current folder\n",
    "save_path = \"cond7.pt\"  # File name only\n",
    "\n",
    "# Save the tensor\n",
    "torch.save(cond7, save_path)"
   ]
  },
  {
   "cell_type": "code",
   "execution_count": 11,
   "metadata": {},
   "outputs": [
    {
     "name": "stdout",
     "output_type": "stream",
     "text": [
      "Shape of features (for K-Means): (125, 20)\n",
      "Shape of labels: (125,)\n"
     ]
    }
   ],
   "source": [
    "# Convert features and labels to NumPy arrays\n",
    "feats_np = feats_simclr.tensors[0].numpy()  # Features in shape (60, 512)\n",
    "feats_np_norm = normalize(feats_np, axis=1)\n",
    "labels_np = feats_simclr.tensors[1].numpy()  # Corresponding labels\n",
    "\n",
    "# Check the shapes\n",
    "print(\"Shape of features (for K-Means):\", feats_np.shape)\n",
    "print(\"Shape of labels:\", labels_np.shape)"
   ]
  },
  {
   "cell_type": "markdown",
   "metadata": {},
   "source": [
    "SKLEARN"
   ]
  },
  {
   "cell_type": "code",
   "execution_count": 12,
   "metadata": {},
   "outputs": [],
   "source": [
    "from sklearn.metrics.pairwise import cosine_similarity"
   ]
  },
  {
   "cell_type": "code",
   "execution_count": 13,
   "metadata": {},
   "outputs": [],
   "source": [
    "# Define KMeansCosine class\n",
    "class KMeansCosine:\n",
    "    def __init__(self, n_clusters=2, max_iter=300, random_state=None):\n",
    "        self.n_clusters = n_clusters\n",
    "        self.max_iter = max_iter\n",
    "        self.random_state = random_state\n",
    "\n",
    "    def fit(self, X):\n",
    "        # Normalize the data to unit vectors\n",
    "        X_normalized = X / np.linalg.norm(X, axis=1)[:, np.newaxis]\n",
    "\n",
    "        # Initialize centroids randomly from the data points\n",
    "        np.random.seed(self.random_state)\n",
    "        initial_indices = np.random.choice(X_normalized.shape[0], self.n_clusters, replace=False)\n",
    "        centroids = X_normalized[initial_indices]\n",
    "\n",
    "        # Track the minimum cost and corresponding labels/centroids\n",
    "        best_cost = float('inf')\n",
    "        best_labels = None\n",
    "        best_centroids = None\n",
    "\n",
    "\n",
    "        for _ in range(self.max_iter):\n",
    "            # Compute the cosine similarity and distance\n",
    "            similarities = cosine_similarity(X_normalized, centroids)\n",
    "            cosine_dist = 1 - similarities\n",
    "            cost = np.sum(cosine_dist)\n",
    "            print(f\"Iteration cost: {cost}\")\n",
    "\n",
    "            # Update best cost and corresponding labels/centroids if the current cost is lower\n",
    "            if cost < best_cost:\n",
    "                best_cost = cost\n",
    "                best_labels = np.argmax(similarities, axis=1)\n",
    "                best_centroids = centroids.copy()\n",
    "\n",
    "            # Assign clusters based on the highest similarity (lowest distance)\n",
    "            labels = np.argmax(similarities, axis=1)\n",
    "\n",
    "            # Update centroids by taking the mean of the points in each cluster\n",
    "            new_centroids = np.array([X_normalized[labels == i].mean(axis=0) for i in range(self.n_clusters)])\n",
    "            new_centroids /= np.linalg.norm(new_centroids, axis=1)[:, np.newaxis]\n",
    "\n",
    "            # Check for convergence (if centroids do not change)\n",
    "            if np.allclose(centroids, new_centroids, atol=1e-6):  # Use np.allclose for numerical stability\n",
    "                break\n",
    "\n",
    "            centroids = new_centroids\n",
    "\n",
    "        # Store final centroids and labels\n",
    "        self.labels_ = labels\n",
    "        self.centroids_ = centroids\n",
    "        self.best_labels_ = best_labels\n",
    "        self.best_centroids_ = best_centroids\n",
    "        self.best_cost_ = best_cost"
   ]
  },
  {
   "cell_type": "markdown",
   "metadata": {},
   "source": [
    "# Define KMeansCosine class\n",
    "class KMeansCosine:\n",
    "    def __init__(self, n_clusters=2, max_iter=300, random_state=None):\n",
    "        self.n_clusters = n_clusters\n",
    "        self.max_iter = max_iter\n",
    "        self.random_state = random_state\n",
    "\n",
    "    def fit(self, X):\n",
    "        X_normalized = X / np.linalg.norm(X, axis=1)[:, np.newaxis]\n",
    "        np.random.seed(self.random_state)\n",
    "        initial_indices = np.random.choice(X_normalized.shape[0], self.n_clusters, replace=False)\n",
    "        centroids = X_normalized[initial_indices]\n",
    "\n",
    "        for _ in range(self.max_iter):\n",
    "            similarities = cosine_similarity(X_normalized, centroids)\n",
    "            labels = np.argmax(similarities, axis=1)\n",
    "            new_centroids = np.array([X_normalized[labels == i].mean(axis=0) for i in range(self.n_clusters)])\n",
    "            new_centroids /= np.linalg.norm(new_centroids, axis=1)[:, np.newaxis]\n",
    "\n",
    "            if np.all(centroids == new_centroids):\n",
    "                break\n",
    "\n",
    "            centroids = new_centroids\n",
    "\n",
    "        self.labels_ = labels\n",
    "        self.centroids_ = centroids"
   ]
  },
  {
   "cell_type": "code",
   "execution_count": 24,
   "metadata": {},
   "outputs": [
    {
     "name": "stdout",
     "output_type": "stream",
     "text": [
      "Iteration cost: 650.5776977539062\n",
      "Iteration cost: 556.774169921875\n",
      "Iteration cost: 578.8363037109375\n",
      "Iteration cost: 584.47509765625\n",
      "Iteration cost: 585.093017578125\n",
      "Final Cluster Labels: [1 1 0 1 1 0 0 0 1 2 1 2 1 1 2 0 1 0 1 1 1 0 1 0 2 2 1 1 0 0 0 2 2 1 2 2 0\n",
      " 0 0 1 0 0 0 1 1 0 2 1 0 1 1 1 1 0 1 1 0 0 0 0 0 0 1 1 2 1 2 1 2 2 0 1 1 1\n",
      " 0 0 0 0 0 2 2 0 0 0 0 1 1 2 2 2 1 0 2 0 2 0 2 0 0 0 1 2 1 0 1 1 1 2 2 0 0\n",
      " 1 0 1 0 1 1 0 0 0 2 0 0 2 1 0 2 0 0 2 1 1 1 0 0 0 2 1 0 1 0 1 2 1 1 0 0 2\n",
      " 0 2 1 1 0 0 2 0 0 1 0 1 0 0 2 1 0 0 0 1 0 2 2 0 1 2 2 2 2 0 1 0 0 0 1 0 2\n",
      " 0 1 0 1 2 2 1 1 2 2 0 0 1 1 1 2 2 2 2 1 0 2 1 1 1 0 2 0 0 2 2 0 1 1 0 2 1\n",
      " 2 1 1 0 2 0 0 1 0 0 1 2 1 1 1 0 1 1 0 2 2 1 0 2 2 0 1 0 0 0]\n",
      "Final Centroids: [[ 0.28531376 -0.09860536  0.24146123  0.3155879   0.4309993  -0.44664717\n",
      "   0.16857867  0.05784485 -0.10115404  0.14724922 -0.04671258 -0.11756673\n",
      "   0.03429373  0.1363295  -0.02379707  0.19146906 -0.31079018 -0.04776592\n",
      "  -0.20355602 -0.29789406]\n",
      " [-0.0681243   0.05673543 -0.26792192  0.10076877 -0.32344675  0.4327667\n",
      "  -0.15919517 -0.11882418  0.20106338  0.06568266 -0.11866718 -0.14255358\n",
      "  -0.06607917 -0.25967854 -0.28542835  0.5413284   0.13530824 -0.07522994\n",
      "   0.11458677 -0.12762956]\n",
      " [-0.0739583   0.24393609 -0.10688607  0.37850493  0.04150954 -0.09313252\n",
      "  -0.19306205  0.03250498 -0.37058395 -0.27164763 -0.1778252  -0.09489957\n",
      "  -0.48206827  0.03798841  0.20280038  0.4218066   0.12463228 -0.06635686\n",
      "  -0.03507613 -0.07620607]]\n",
      "Best Centroids with Lowest Cost: [[ 0.19651735 -0.16552866  0.15265614  0.35097945  0.48856357 -0.2880244\n",
      "   0.05672913 -0.07300645 -0.00724402  0.050147    0.07263613 -0.10712402\n",
      "  -0.17005333  0.01517699 -0.11719991  0.2336574  -0.36657268  0.10600674\n",
      "  -0.31125778 -0.3130446 ]\n",
      " [ 0.12021324  0.03979943 -0.0080277   0.07062455 -0.14887631  0.1347232\n",
      "  -0.03279973  0.00901201  0.23379704  0.1257955  -0.24809402 -0.23039062\n",
      "   0.21996973 -0.06310946 -0.28465745  0.62335485  0.04980409 -0.11466088\n",
      "   0.17485844 -0.42912847]\n",
      " [-0.01290417  0.21658395 -0.15453073  0.47244418  0.00545057 -0.08439806\n",
      "  -0.12561975  0.02289071 -0.3831168  -0.11164684 -0.17847629 -0.10905163\n",
      "  -0.45035416 -0.02134291  0.1472993   0.4645903   0.07895521 -0.16513513\n",
      "  -0.07045579 -0.01057596]]\n",
      "Lowest Cost: 556.7742\n"
     ]
    }
   ],
   "source": [
    "kmeans_cosine = KMeansCosine(n_clusters=3, max_iter=100, random_state=30)\n",
    "kmeans_cosine.fit(feats_np)\n",
    "\n",
    "print(\"Final Cluster Labels:\", kmeans_cosine.labels_)\n",
    "print(\"Final Centroids:\", kmeans_cosine.centroids_)\n",
    "#print(\"Best Cluster Labels with Lowest Cost:\", kmeans_cosine.best_labels_)\n",
    "print(\"Best Centroids with Lowest Cost:\", kmeans_cosine.best_centroids_)\n",
    "print(\"Lowest Cost:\", kmeans_cosine.best_cost_)"
   ]
  },
  {
   "cell_type": "code",
   "execution_count": 25,
   "metadata": {},
   "outputs": [
    {
     "data": {
      "text/plain": [
       "array([1, 1, 0, 1, 1, 0, 0, 0, 1, 2, 1, 2, 1, 1, 2, 0, 1, 0, 1, 1, 1, 0,\n",
       "       1, 0, 2, 2, 1, 1, 0, 0, 0, 2, 2, 1, 2, 2, 0, 0, 0, 1, 0, 0, 0, 1,\n",
       "       1, 0, 2, 1, 0, 1, 1, 1, 1, 0, 1, 1, 0, 0, 0, 0, 0, 0, 1, 1, 2, 1,\n",
       "       2, 1, 2, 2, 0, 1, 1, 1, 0, 0, 0, 0, 0, 2, 2, 0, 0, 0, 0, 1, 1, 2,\n",
       "       2, 2, 1, 0, 2, 0, 2, 0, 2, 0, 0, 0, 1, 2, 1, 0, 1, 1, 1, 2, 2, 0,\n",
       "       0, 1, 0, 1, 0, 1, 1, 0, 0, 0, 2, 0, 0, 2, 1, 0, 2, 0, 0, 2, 1, 1,\n",
       "       1, 0, 0, 0, 2, 1, 0, 1, 0, 1, 2, 1, 1, 0, 0, 2, 0, 2, 1, 1, 0, 0,\n",
       "       2, 0, 0, 1, 0, 1, 0, 0, 2, 1, 0, 0, 0, 1, 0, 2, 2, 0, 1, 2, 2, 2,\n",
       "       2, 0, 1, 0, 0, 0, 1, 0, 2, 0, 1, 0, 1, 2, 2, 1, 1, 2, 2, 0, 0, 1,\n",
       "       1, 1, 2, 2, 2, 2, 1, 0, 2, 1, 1, 1, 0, 2, 0, 0, 2, 2, 0, 1, 1, 0,\n",
       "       2, 1, 2, 1, 1, 0, 2, 0, 0, 1, 0, 0, 1, 2, 1, 1, 1, 0, 1, 1, 0, 2,\n",
       "       2, 1, 0, 2, 2, 0, 1, 0, 0, 0], dtype=int64)"
      ]
     },
     "execution_count": 25,
     "metadata": {},
     "output_type": "execute_result"
    }
   ],
   "source": [
    "idx = kmeans_cosine.labels_\n",
    "idx"
   ]
  },
  {
   "cell_type": "code",
   "execution_count": 26,
   "metadata": {},
   "outputs": [
    {
     "name": "stdout",
     "output_type": "stream",
     "text": [
      "Cluster assignments: [1 1 0 1 1 0 0 0 1 2 1 2 1 1 2 0 1 0 1 1 1 0 1 0 2 2 1 1 0 0 0 2 2 1 2 2 0\n",
      " 0 0 1 0 0 0 1 1 0 2 1 0 1 1 1 1 0 1 1 0 0 0 0 0 0 1 1 2 1 2 1 2 2 0 1 1 1\n",
      " 0 0 0 0 0 2 2 0 0 0 0 1 1 2 2 2 1 0 2 0 2 0 2 0 0 0 1 2 1 0 1 1 1 2 2 0 0\n",
      " 1 0 1 0 1 1 0 0 0 2 0 0 2 1 0 2 0 0 2 1 1 1 0 0 0 2 1 0 1 0 1 2 1 1 0 0 2\n",
      " 0 2 1 1 0 0 2 0 0 1 0 1 0 0 2 1 0 0 0 1 0 2 2 0 1 2 2 2 2 0 1 0 0 0 1 0 2\n",
      " 0 1 0 1 2 2 1 1 2 2 0 0 1 1 1 2 2 2 2 1 0 2 1 1 1 0 2 0 0 2 2 0 1 1 0 2 1\n",
      " 2 1 1 0 2 0 0 1 0 0 1 2 1 1 1 0 1 1 0 2 2 1 0 2 2 0 1 0 0 0]\n",
      "True labels: [2 2 1 0 0 1 1 1 0 0 2 0 0 2 0 1 0 1 2 0 0 1 0 1 0 0 0 0 1 1 1 0 0 2 0 0 1\n",
      " 1 1 0 1 1 1 0 0 1 0 2 1 0 0 0 2 1 2 0 1 1 1 1 1 1 2 0 0 2 0 0 0 0 1 0 0 2\n",
      " 1 1 1 1 1 0 0 1 1 1 1 0 0 0 0 0 2 1 0 1 1 1 0 1 1 1 0 0 0 1 0 0 0 0 0 1 1\n",
      " 2 1 0 1 2 0 1 1 1 0 1 1 0 0 1 0 1 1 0 0 2 2 1 1 1 0 0 1 0 1 0 0 0 0 1 1 0\n",
      " 1 0 0 0 1 1 0 1 1 0 1 0 1 1 0 0 1 1 1 0 1 0 0 1 0 0 0 0 0 1 0 1 1 1 0 1 0\n",
      " 1 0 1 2 0 0 0 2 0 0 1 1 2 0 0 0 0 0 0 0 1 0 2 2 2 1 0 1 1 0 0 1 2 2 1 0 0\n",
      " 0 0 2 1 0 1 1 0 1 1 0 0 0 0 2 1 2 0 1 0 0 0 1 0 0 1 2 1 1 1]\n"
     ]
    }
   ],
   "source": [
    "print(\"Cluster assignments:\", idx)\n",
    "print(\"True labels:\", labels_np)"
   ]
  },
  {
   "cell_type": "code",
   "execution_count": 27,
   "metadata": {},
   "outputs": [
    {
     "data": {
      "text/plain": [
       "array([1, 1, 0, 2, 1, 0, 0, 0, 1, 2, 1, 2, 1, 1, 2, 0, 1, 1, 1, 1, 1, 0,\n",
       "       1, 0, 2, 2, 1, 1, 0, 0, 0, 2, 2, 1, 2, 2, 1, 0, 0, 1, 0, 2, 0, 1,\n",
       "       1, 0, 2, 2, 0, 2, 1, 1, 1, 0, 1, 1, 0, 0, 0, 1, 0, 0, 1, 1, 2, 1,\n",
       "       2, 1, 2, 2, 0, 1, 1, 1, 0, 0, 0, 0, 0, 2, 2, 0, 1, 1, 0, 1, 1, 2,\n",
       "       2, 2, 1, 2, 2, 0, 2, 0, 2, 0, 0, 2, 1, 2, 1, 2, 1, 1, 2, 2, 1, 0,\n",
       "       1, 2, 1, 1, 0, 1, 1, 0, 0, 0, 2, 0, 2, 2, 1, 0, 2, 0, 0, 2, 1, 1,\n",
       "       1, 0, 0, 0, 2, 1, 2, 1, 0, 1, 2, 1, 1, 0, 2, 2, 0, 2, 1, 1, 0, 0,\n",
       "       2, 0, 0, 2, 0, 1, 0, 0, 2, 1, 0, 0, 0, 1, 0, 2, 2, 0, 1, 2, 2, 2,\n",
       "       2, 0, 1, 0, 0, 0, 1, 0, 2, 0, 1, 1, 2, 2, 2, 1, 1, 2, 2, 0, 1, 1,\n",
       "       1, 1, 2, 2, 2, 2, 1, 1, 2, 1, 1, 1, 0, 2, 0, 0, 2, 2, 0, 1, 1, 2,\n",
       "       2, 1, 2, 1, 1, 2, 2, 2, 0, 1, 0, 2, 1, 2, 1, 1, 2, 0, 1, 1, 0, 2,\n",
       "       2, 1, 0, 2, 2, 0, 1, 1, 0, 0], dtype=int64)"
      ]
     },
     "execution_count": 27,
     "metadata": {},
     "output_type": "execute_result"
    }
   ],
   "source": [
    "best_idx = kmeans_cosine.best_labels_\n",
    "best_idx"
   ]
  },
  {
   "cell_type": "code",
   "execution_count": 28,
   "metadata": {},
   "outputs": [
    {
     "name": "stdout",
     "output_type": "stream",
     "text": [
      "Cluster assignments: [1 1 0 2 1 0 0 0 1 2 1 2 1 1 2 0 1 1 1 1 1 0 1 0 2 2 1 1 0 0 0 2 2 1 2 2 1\n",
      " 0 0 1 0 2 0 1 1 0 2 2 0 2 1 1 1 0 1 1 0 0 0 1 0 0 1 1 2 1 2 1 2 2 0 1 1 1\n",
      " 0 0 0 0 0 2 2 0 1 1 0 1 1 2 2 2 1 2 2 0 2 0 2 0 0 2 1 2 1 2 1 1 2 2 1 0 1\n",
      " 2 1 1 0 1 1 0 0 0 2 0 2 2 1 0 2 0 0 2 1 1 1 0 0 0 2 1 2 1 0 1 2 1 1 0 2 2\n",
      " 0 2 1 1 0 0 2 0 0 2 0 1 0 0 2 1 0 0 0 1 0 2 2 0 1 2 2 2 2 0 1 0 0 0 1 0 2\n",
      " 0 1 1 2 2 2 1 1 2 2 0 1 1 1 1 2 2 2 2 1 1 2 1 1 1 0 2 0 0 2 2 0 1 1 2 2 1\n",
      " 2 1 1 2 2 2 0 1 0 2 1 2 1 1 2 0 1 1 0 2 2 1 0 2 2 0 1 1 0 0]\n",
      "True labels: [0, 0, 0, 0, 0, 0, 0, 0, 0, 0, 0, 0, 0, 0, 0, 0, 0, 0, 0, 0, 0, 0, 0, 0, 0, 0, 0, 0, 0, 0, 0, 0, 0, 0, 0, 0, 0, 0, 0, 0, 0, 0, 0, 0, 0, 0, 0, 0, 0, 0, 0, 0, 0, 0, 0, 0, 0, 0, 0, 0, 0, 0, 0, 0, 0, 0, 0, 0, 0, 0, 0, 0, 0, 0, 0, 0, 0, 0, 0, 0, 0, 0, 0, 0, 0, 0, 0, 0, 0, 0, 0, 0, 0, 0, 0, 0, 0, 0, 0, 0, 0, 0, 0, 0, 0, 0, 0, 0, 0, 0, 0, 0, 0, 0, 0, 0, 0, 0, 0, 0, 1, 1, 1, 1, 1, 1, 1, 1, 1, 1, 1, 1, 1, 1, 1, 1, 1, 1, 1, 1, 1, 1, 1, 1, 1, 1, 1, 1, 1, 1, 1, 1, 1, 1, 1, 1, 1, 1, 1, 1, 1, 1, 1, 1, 1, 1, 1, 1, 1, 1, 1, 1, 1, 1, 1, 1, 1, 1, 1, 1, 1, 1, 1, 1, 1, 1, 1, 1, 1, 1, 1, 1, 1, 1, 1, 1, 1, 1, 1, 1, 1, 1, 1, 1, 1, 1, 1, 1, 1, 1, 1, 1, 1, 1, 1, 1, 1, 1, 1, 1, 1, 1, 1, 2, 2, 2, 2, 2, 2, 2, 2, 2, 2, 2, 2, 2, 2, 2, 2, 2, 2, 2, 2, 2, 2, 2, 2, 2, 2, 2, 2, 2]\n"
     ]
    }
   ],
   "source": [
    "print(\"Cluster assignments:\", best_idx)\n",
    "print(\"True labels:\", labels)"
   ]
  },
  {
   "cell_type": "code",
   "execution_count": 29,
   "metadata": {},
   "outputs": [
    {
     "name": "stdout",
     "output_type": "stream",
     "text": [
      "Cluster 0 has true labels: Counter({1: 102})\n",
      "Cluster 1 has true labels: Counter({0: 59, 2: 29})\n",
      "Cluster 2 has true labels: Counter({0: 61, 1: 1})\n"
     ]
    }
   ],
   "source": [
    "# `idx` contains the cluster assignments from KMeans\n",
    "#  `labels` contains the true labels\n",
    "\n",
    "K = len(np.unique(idx))  # Number of clusters\n",
    "\n",
    "# Iterate over each cluster and count the true labels in that cluster\n",
    "for cluster in range(K):\n",
    "    # Find the indices of images assigned to the current cluster\n",
    "    cluster_indices = np.where(idx == cluster)[0]\n",
    "    \n",
    "    # Get the true labels for the images in this cluster\n",
    "    cluster_labels = labels_np[cluster_indices]\n",
    "    \n",
    "    # Use Counter to count occurrences of each label in the cluster\n",
    "    label_counts = Counter(cluster_labels)\n",
    "    \n",
    "    # Print the result\n",
    "    print(f\"Cluster {cluster} has true labels: {label_counts}\")\n"
   ]
  },
  {
   "cell_type": "code",
   "execution_count": 30,
   "metadata": {},
   "outputs": [
    {
     "name": "stdout",
     "output_type": "stream",
     "text": [
      "Cluster 0 has true labels: Counter({1: 80})\n",
      "Cluster 1 has true labels: Counter({0: 56, 2: 25, 1: 11})\n",
      "Cluster 2 has true labels: Counter({0: 64, 1: 12, 2: 4})\n"
     ]
    }
   ],
   "source": [
    "K = len(np.unique(best_idx))  # Number of clusters\n",
    "\n",
    "# Iterate over each cluster and count the true labels in that cluster\n",
    "for cluster in range(K):\n",
    "    # Find the indices of images assigned to the current cluster\n",
    "    cluster_indices = np.where(best_idx == cluster)[0]\n",
    "    \n",
    "    # Get the true labels for the images in this cluster\n",
    "    cluster_labels = labels_np[cluster_indices]\n",
    "    \n",
    "    # Use Counter to count occurrences of each label in the cluster\n",
    "    label_counts = Counter(cluster_labels)\n",
    "    \n",
    "    # Print the result\n",
    "    print(f\"Cluster {cluster} has true labels: {label_counts}\")"
   ]
  },
  {
   "cell_type": "code",
   "execution_count": 31,
   "metadata": {},
   "outputs": [],
   "source": [
    "# Function to reorder K-Means labels to match true labels\n",
    "def reorder_labels(true_labels, predicted_labels):\n",
    "    reordered_labels = np.zeros_like(predicted_labels)\n",
    "\n",
    "    for cluster in np.unique(predicted_labels):\n",
    "        mask = (predicted_labels == cluster)\n",
    "        # Use mode and handle cases where mode() returns a scalar\n",
    "        most_common_label = mode(true_labels[mask], axis=None).mode  # Get the mode for the current cluster\n",
    "        if isinstance(most_common_label, np.ndarray):\n",
    "            most_common_label = most_common_label[0]  # Safely extract the mode value if it's an array\n",
    "        \n",
    "        reordered_labels[mask] = most_common_label\n",
    "\n",
    "    return reordered_labels"
   ]
  },
  {
   "cell_type": "code",
   "execution_count": 32,
   "metadata": {},
   "outputs": [
    {
     "name": "stdout",
     "output_type": "stream",
     "text": [
      "Accuracy: 88.10%\n"
     ]
    }
   ],
   "source": [
    "# Apply this after running K-Means\n",
    "reordered_idx = reorder_labels(labels_np, idx)\n",
    "\n",
    "# Now you can compare `reordered_idx` with `labels` to evaluate accuracy\n",
    "accuracy = np.sum(reordered_idx == labels_np) / len(labels_np) * 100\n",
    "print(f\"Accuracy: {accuracy:.2f}%\")"
   ]
  },
  {
   "cell_type": "code",
   "execution_count": 33,
   "metadata": {},
   "outputs": [
    {
     "name": "stdout",
     "output_type": "stream",
     "text": [
      "Accuracy: 79.37%\n"
     ]
    }
   ],
   "source": [
    "# Apply this after running K-Means\n",
    "reordered_idx = reorder_labels(labels_np, best_idx)\n",
    "\n",
    "# Now you can compare `reordered_idx` with `labels` to evaluate accuracy\n",
    "accuracy = np.sum(reordered_idx == labels_np) / len(labels) * 100\n",
    "print(f\"Accuracy: {accuracy:.2f}%\")"
   ]
  },
  {
   "cell_type": "markdown",
   "metadata": {},
   "source": [
    "From scratch"
   ]
  },
  {
   "cell_type": "code",
   "execution_count": 12,
   "metadata": {},
   "outputs": [],
   "source": [
    "# K-Means initialization function\n",
    "def kMeans_init_centroids(X, K):\n",
    "    randidx = np.random.permutation(X.shape[0])\n",
    "    centroids = X[randidx[:K]]\n",
    "    return centroids\n",
    "\n",
    "# Function to find the closest centroids using Cosine Similarity\n",
    "def find_closest_centroids(X, centroids):\n",
    "    # Normalize both the data points and centroids to ensure we compute cosine similarity\n",
    "    #X_norm = normalize(X, axis=1)\n",
    "    #centroids_norm = normalize(centroids, axis=1)\n",
    "    \n",
    "    # Assign data points to closest centroids based on cosine similarity\n",
    "    idx = np.zeros(X.shape[0], dtype=int)\n",
    "    for i in range(X.shape[0]):\n",
    "        # Compute cosine similarity\n",
    "        similarities = np.dot(centroids, X[i])  # Dot product gives cosine similarity\n",
    "        idx[i] = np.argmax(similarities)  # We want the most similar (highest value)\n",
    "    return idx\n",
    "\n",
    "# Function to compute new centroids\n",
    "def compute_centroids(X, idx, K):\n",
    "    centroids = np.zeros((K, X.shape[1]))  # Use shape[1] for features\n",
    "    for k in range(K):\n",
    "        points = X[idx == k]\n",
    "        if len(points) > 0:\n",
    "            centroids[k] = np.mean(points, axis=0)   # noralised vectors mean maynot be normalised. hence we normalise before calculating mean.https://chatgpt.com/share/671b97a7-ec2c-8010-af33-af106df0a25c\n",
    "            centroids_norm = normalize(centroids, axis=1)\n",
    "    return centroids_norm\n",
    "\n",
    "# Function to run K-Means algorithm with cost tracking (using Cosine Similarity)\n",
    "def run_kMeans(X, initial_centroids, max_iters=10):\n",
    "    K = initial_centroids.shape[0]\n",
    "    centroids = initial_centroids\n",
    "    idx = np.zeros(X.shape[0])\n",
    "    \n",
    "    best_centroids = centroids\n",
    "    lowest_cost = float('inf')\n",
    "    final_iteration = 0  # To keep track of the iteration where the best centroids were found\n",
    "    best_idx = idx  # Track the best index assignment\n",
    "\n",
    "    for i in range(max_iters):\n",
    "        print(f\"K-Means iteration {i}/{max_iters - 1}\")\n",
    "        \n",
    "        # Assign each data point to the closest centroid using cosine similarity\n",
    "        idx = find_closest_centroids(X, centroids)\n",
    "        \n",
    "        # Compute new centroids\n",
    "        centroids = compute_centroids(X, idx, K)\n",
    "\n",
    "        # Calculate cost function for the current centroids using cosine distance\n",
    "\n",
    "        # 1. Compute cosine similarity\n",
    "        sim = np.dot(X, centroids.T)\n",
    "        #print(sim.shape)\n",
    "        #print(sim)\n",
    "        # 2. Calculate cosine distance\n",
    "        cosine_dist = 1 - sim\n",
    "        #print(cosine_dist.shape)\n",
    "        #print(cosine_dist)\n",
    "        # 3. Find maximum cosine distance for each data point\n",
    "        #max_cosine_dist = cosine_dist.max(axis=1)\n",
    "        #print(max_cosine_dist.shape)\n",
    "        #print(max_cosine_dist)\n",
    "        cost = np.sum(cosine_dist)\n",
    "\n",
    "        # 4. Sum of all maximum distances\n",
    "        #cost = np.sum(max_cosine_dist)\n",
    "\n",
    "        #cost = np.sum(1 - np.dot(X_norm, centroids_norm.T).max(axis=1))  # Cosine distance = 1 - cosine similarity  \n",
    "        print(f\"Cost function value: {cost}\")  # Print the cost function value\n",
    "\n",
    "        # Check if this is the best cost so far\n",
    "        if cost < lowest_cost:\n",
    "            lowest_cost = cost\n",
    "            best_centroids = centroids\n",
    "            best_idx = idx.copy()\n",
    "            final_iteration = i  # Update the iteration where best centroids were found\n",
    "\n",
    "    print(f\"Final centroids selected from iteration: {final_iteration}\")  # Indicate which iteration was chosen\n",
    "    return best_centroids, best_idx, centroids,idx  # Return the best centroids\n"
   ]
  },
  {
   "cell_type": "markdown",
   "metadata": {},
   "source": [
    "### clustering"
   ]
  },
  {
   "cell_type": "markdown",
   "metadata": {},
   "source": [
    "from sklearn.preprocessing import normalize\n",
    "\n",
    "# K-Means initialization function\n",
    "def kMeans_init_centroids(X, K):\n",
    "    randidx = np.random.permutation(X.shape[0])\n",
    "    centroids = X[randidx[:K]]\n",
    "    return centroids\n",
    "\n",
    "# Function to find the closest centroids using Cosine Similarity\n",
    "def find_closest_centroids(X, centroids):\n",
    "    # Normalize both the data points and centroids to ensure we compute cosine similarity\n",
    "    X_norm = normalize(X, axis=1)\n",
    "    centroids_norm = normalize(centroids, axis=1)\n",
    "    \n",
    "    # Assign data points to closest centroids based on cosine similarity\n",
    "    idx = np.zeros(X.shape[0], dtype=int)\n",
    "    for i in range(X.shape[0]):\n",
    "        # Compute cosine similarity\n",
    "        similarities = np.dot(centroids_norm, X_norm[i])  # Dot product gives cosine similarity\n",
    "        idx[i] = np.argmax(similarities)  # We want the most similar (highest value)\n",
    "    return idx\n",
    "\n",
    "# Function to compute new centroids\n",
    "def compute_centroids(X, idx, K):\n",
    "    centroids = np.zeros((K, X.shape[1]))  # Use shape[1] for features\n",
    "    for k in range(K):\n",
    "        points = X[idx == k]\n",
    "        if len(points) > 0:\n",
    "            # Normalize the points within the cluster along each feature axis\n",
    "            normalized_points = normalize(points, axis=1)   # noralised vectors mean maynot be normalised. hence we normalise before calculating mean.https://chatgpt.com/share/671b97a7-ec2c-8010-af33-af106df0a25c\n",
    "            # Compute the mean of the normalized points to get the new centroid\n",
    "            centroids[k] = np.mean(normalized_points, axis=0)\n",
    "    return centroids\n",
    "\n",
    "# Function to run K-Means algorithm with cost tracking (using Cosine Similarity)\n",
    "def run_kMeans(X, initial_centroids, max_iters=10):\n",
    "    K = initial_centroids.shape[0]\n",
    "    centroids = initial_centroids\n",
    "    idx = np.zeros(X.shape[0])\n",
    "    \n",
    "    best_centroids = centroids\n",
    "    lowest_cost = float('inf')\n",
    "    final_iteration = 0  # To keep track of the iteration where the best centroids were found\n",
    "    best_idx = idx  # Track the best index assignment\n",
    "\n",
    "    for i in range(max_iters):\n",
    "        print(f\"K-Means iteration {i}/{max_iters - 1}\")\n",
    "        \n",
    "        # Assign each data point to the closest centroid using cosine similarity\n",
    "        idx = find_closest_centroids(X, centroids)\n",
    "        \n",
    "        # Compute new centroids\n",
    "        centroids = compute_centroids(X, idx, K)\n",
    "\n",
    "        # Calculate cost function for the current centroids using cosine distance\n",
    "        X_norm = normalize(X, axis=1)\n",
    "        centroids_norm = normalize(centroids, axis=1)\n",
    "\n",
    "        # 1. Compute cosine similarity\n",
    "        sim = np.dot(X_norm, centroids_norm.T)\n",
    "        #print(sim.shape)\n",
    "        #print(sim)\n",
    "        # 2. Calculate cosine distance\n",
    "        cosine_dist = 1 - sim\n",
    "        #print(cosine_dist.shape)\n",
    "        #print(cosine_dist)\n",
    "        # 3. Find maximum cosine distance for each data point\n",
    "        #max_cosine_dist = cosine_dist.max(axis=1)\n",
    "        #print(max_cosine_dist.shape)\n",
    "        #print(max_cosine_dist)\n",
    "        cost = np.sum(cosine_dist)\n",
    "\n",
    "        # 4. Sum of all maximum distances\n",
    "        #cost = np.sum(max_cosine_dist)\n",
    "\n",
    "        #cost = np.sum(1 - np.dot(X_norm, centroids_norm.T).max(axis=1))  # Cosine distance = 1 - cosine similarity  \n",
    "        print(f\"Cost function value: {cost}\")  # Print the cost function value\n",
    "\n",
    "        # Check if this is the best cost so far\n",
    "        if cost < lowest_cost:\n",
    "            lowest_cost = cost\n",
    "            best_centroids = centroids\n",
    "            best_idx = idx.copy()\n",
    "            final_iteration = i  # Update the iteration where best centroids were found\n",
    "\n",
    "    print(f\"Final centroids selected from iteration: {final_iteration}\")  # Indicate which iteration was chosen\n",
    "    return best_centroids, best_idx, centroids,idx  # Return the best centroids\n"
   ]
  },
  {
   "cell_type": "code",
   "execution_count": 13,
   "metadata": {},
   "outputs": [
    {
     "name": "stdout",
     "output_type": "stream",
     "text": [
      "K-Means iteration 0/99\n",
      "Cost function value: 47.99248714991708\n",
      "K-Means iteration 1/99\n",
      "Cost function value: 47.99248714991708\n",
      "K-Means iteration 2/99\n",
      "Cost function value: 47.99248714991708\n",
      "K-Means iteration 3/99\n",
      "Cost function value: 47.99248714991708\n",
      "K-Means iteration 4/99\n",
      "Cost function value: 47.99248714991708\n",
      "K-Means iteration 5/99\n",
      "Cost function value: 47.99248714991708\n",
      "K-Means iteration 6/99\n",
      "Cost function value: 47.99248714991708\n",
      "K-Means iteration 7/99\n",
      "Cost function value: 47.99248714991708\n",
      "K-Means iteration 8/99\n",
      "Cost function value: 47.99248714991708\n",
      "K-Means iteration 9/99\n",
      "Cost function value: 47.99248714991708\n",
      "K-Means iteration 10/99\n",
      "Cost function value: 47.99248714991708\n",
      "K-Means iteration 11/99\n",
      "Cost function value: 47.99248714991708\n",
      "K-Means iteration 12/99\n",
      "Cost function value: 47.99248714991708\n",
      "K-Means iteration 13/99\n",
      "Cost function value: 47.99248714991708\n",
      "K-Means iteration 14/99\n",
      "Cost function value: 47.99248714991708\n",
      "K-Means iteration 15/99\n",
      "Cost function value: 47.99248714991708\n",
      "K-Means iteration 16/99\n",
      "Cost function value: 47.99248714991708\n",
      "K-Means iteration 17/99\n",
      "Cost function value: 47.99248714991708\n",
      "K-Means iteration 18/99\n",
      "Cost function value: 47.99248714991708\n",
      "K-Means iteration 19/99\n",
      "Cost function value: 47.99248714991708\n",
      "K-Means iteration 20/99\n",
      "Cost function value: 47.99248714991708\n",
      "K-Means iteration 21/99\n",
      "Cost function value: 47.99248714991708\n",
      "K-Means iteration 22/99\n",
      "Cost function value: 47.99248714991708\n",
      "K-Means iteration 23/99\n",
      "Cost function value: 47.99248714991708\n",
      "K-Means iteration 24/99\n",
      "Cost function value: 47.99248714991708\n",
      "K-Means iteration 25/99\n",
      "Cost function value: 47.99248714991708\n",
      "K-Means iteration 26/99\n",
      "Cost function value: 47.99248714991708\n",
      "K-Means iteration 27/99\n",
      "Cost function value: 47.99248714991708\n",
      "K-Means iteration 28/99\n",
      "Cost function value: 47.99248714991708\n",
      "K-Means iteration 29/99\n",
      "Cost function value: 47.99248714991708\n",
      "K-Means iteration 30/99\n",
      "Cost function value: 47.99248714991708\n",
      "K-Means iteration 31/99\n",
      "Cost function value: 47.99248714991708\n",
      "K-Means iteration 32/99\n",
      "Cost function value: 47.99248714991708\n",
      "K-Means iteration 33/99\n",
      "Cost function value: 47.99248714991708\n",
      "K-Means iteration 34/99\n",
      "Cost function value: 47.99248714991708\n",
      "K-Means iteration 35/99\n",
      "Cost function value: 47.99248714991708\n",
      "K-Means iteration 36/99\n",
      "Cost function value: 47.99248714991708\n",
      "K-Means iteration 37/99\n",
      "Cost function value: 47.99248714991708\n",
      "K-Means iteration 38/99\n",
      "Cost function value: 47.99248714991708\n",
      "K-Means iteration 39/99\n",
      "Cost function value: 47.99248714991708\n",
      "K-Means iteration 40/99\n",
      "Cost function value: 47.99248714991708\n",
      "K-Means iteration 41/99\n",
      "Cost function value: 47.99248714991708\n",
      "K-Means iteration 42/99\n",
      "Cost function value: 47.99248714991708\n",
      "K-Means iteration 43/99\n",
      "Cost function value: 47.99248714991708\n",
      "K-Means iteration 44/99\n",
      "Cost function value: 47.99248714991708\n",
      "K-Means iteration 45/99\n",
      "Cost function value: 47.99248714991708\n",
      "K-Means iteration 46/99\n",
      "Cost function value: 47.99248714991708\n",
      "K-Means iteration 47/99\n",
      "Cost function value: 47.99248714991708\n",
      "K-Means iteration 48/99\n",
      "Cost function value: 47.99248714991708\n",
      "K-Means iteration 49/99\n",
      "Cost function value: 47.99248714991708\n",
      "K-Means iteration 50/99\n",
      "Cost function value: 47.99248714991708\n",
      "K-Means iteration 51/99\n",
      "Cost function value: 47.99248714991708\n",
      "K-Means iteration 52/99\n",
      "Cost function value: 47.99248714991708\n",
      "K-Means iteration 53/99\n",
      "Cost function value: 47.99248714991708\n",
      "K-Means iteration 54/99\n",
      "Cost function value: 47.99248714991708\n",
      "K-Means iteration 55/99\n",
      "Cost function value: 47.99248714991708\n",
      "K-Means iteration 56/99\n",
      "Cost function value: 47.99248714991708\n",
      "K-Means iteration 57/99\n",
      "Cost function value: 47.99248714991708\n",
      "K-Means iteration 58/99\n",
      "Cost function value: 47.99248714991708\n",
      "K-Means iteration 59/99\n",
      "Cost function value: 47.99248714991708\n",
      "K-Means iteration 60/99\n",
      "Cost function value: 47.99248714991708\n",
      "K-Means iteration 61/99\n",
      "Cost function value: 47.99248714991708\n",
      "K-Means iteration 62/99\n",
      "Cost function value: 47.99248714991708\n",
      "K-Means iteration 63/99\n",
      "Cost function value: 47.99248714991708\n",
      "K-Means iteration 64/99\n",
      "Cost function value: 47.99248714991708\n",
      "K-Means iteration 65/99\n",
      "Cost function value: 47.99248714991708\n",
      "K-Means iteration 66/99\n",
      "Cost function value: 47.99248714991708\n",
      "K-Means iteration 67/99\n",
      "Cost function value: 47.99248714991708\n",
      "K-Means iteration 68/99\n",
      "Cost function value: 47.99248714991708\n",
      "K-Means iteration 69/99\n",
      "Cost function value: 47.99248714991708\n",
      "K-Means iteration 70/99\n",
      "Cost function value: 47.99248714991708\n",
      "K-Means iteration 71/99\n",
      "Cost function value: 47.99248714991708\n",
      "K-Means iteration 72/99\n",
      "Cost function value: 47.99248714991708\n",
      "K-Means iteration 73/99\n",
      "Cost function value: 47.99248714991708\n",
      "K-Means iteration 74/99\n",
      "Cost function value: 47.99248714991708\n",
      "K-Means iteration 75/99\n",
      "Cost function value: 47.99248714991708\n",
      "K-Means iteration 76/99\n",
      "Cost function value: 47.99248714991708\n",
      "K-Means iteration 77/99\n",
      "Cost function value: 47.99248714991708\n",
      "K-Means iteration 78/99\n",
      "Cost function value: 47.99248714991708\n",
      "K-Means iteration 79/99\n",
      "Cost function value: 47.99248714991708\n",
      "K-Means iteration 80/99\n",
      "Cost function value: 47.99248714991708\n",
      "K-Means iteration 81/99\n",
      "Cost function value: 47.99248714991708\n",
      "K-Means iteration 82/99\n",
      "Cost function value: 47.99248714991708\n",
      "K-Means iteration 83/99\n",
      "Cost function value: 47.99248714991708\n",
      "K-Means iteration 84/99\n",
      "Cost function value: 47.99248714991708\n",
      "K-Means iteration 85/99\n",
      "Cost function value: 47.99248714991708\n",
      "K-Means iteration 86/99\n",
      "Cost function value: 47.99248714991708\n",
      "K-Means iteration 87/99\n",
      "Cost function value: 47.99248714991708\n",
      "K-Means iteration 88/99\n",
      "Cost function value: 47.99248714991708\n",
      "K-Means iteration 89/99\n",
      "Cost function value: 47.99248714991708\n",
      "K-Means iteration 90/99\n",
      "Cost function value: 47.99248714991708\n",
      "K-Means iteration 91/99\n",
      "Cost function value: 47.99248714991708\n",
      "K-Means iteration 92/99\n",
      "Cost function value: 47.99248714991708\n",
      "K-Means iteration 93/99\n",
      "Cost function value: 47.99248714991708\n",
      "K-Means iteration 94/99\n",
      "Cost function value: 47.99248714991708\n",
      "K-Means iteration 95/99\n",
      "Cost function value: 47.99248714991708\n",
      "K-Means iteration 96/99\n",
      "Cost function value: 47.99248714991708\n",
      "K-Means iteration 97/99\n",
      "Cost function value: 47.99248714991708\n",
      "K-Means iteration 98/99\n",
      "Cost function value: 47.99248714991708\n",
      "K-Means iteration 99/99\n",
      "Cost function value: 47.99248714991708\n",
      "Final centroids selected from iteration: 0\n",
      "Final centroids: [[ 0.27623789 -0.11507639  0.20183945  0.35375722  0.40492547 -0.47734884\n",
      "   0.16626675  0.09161665 -0.10283236  0.14841258 -0.02186568 -0.07964175\n",
      "   0.03631745  0.1071461  -0.06065291  0.19512034 -0.31616954 -0.04828452\n",
      "  -0.15811179 -0.30892775]]\n"
     ]
    }
   ],
   "source": [
    "# Main function to run the K-Means algorithm\n",
    "\n",
    "K = 1                     # Set number of clusters\n",
    "initial_centroids = kMeans_init_centroids(feats_np_norm, K)  # Step 3: Initialize centroids\n",
    "max_iters = 100                # Step 4: Number of iterations\n",
    "best_centroids, best_idx, centroids, idx = run_kMeans(feats_np_norm, initial_centroids, max_iters)  # Step 5: Run K-Means\n",
    "print(\"Final centroids:\", centroids)  # Output the final centroids"
   ]
  },
  {
   "cell_type": "code",
   "execution_count": 14,
   "metadata": {},
   "outputs": [
    {
     "data": {
      "text/plain": [
       "(1, 20)"
      ]
     },
     "execution_count": 14,
     "metadata": {},
     "output_type": "execute_result"
    }
   ],
   "source": [
    "centroids.shape"
   ]
  },
  {
   "cell_type": "code",
   "execution_count": 15,
   "metadata": {},
   "outputs": [
    {
     "data": {
      "text/plain": [
       "numpy.ndarray"
      ]
     },
     "execution_count": 15,
     "metadata": {},
     "output_type": "execute_result"
    }
   ],
   "source": [
    "type(centroids)"
   ]
  },
  {
   "cell_type": "code",
   "execution_count": 16,
   "metadata": {},
   "outputs": [],
   "source": [
    "np.save('sd125_centroid.npy', centroids)"
   ]
  },
  {
   "cell_type": "code",
   "execution_count": 24,
   "metadata": {},
   "outputs": [
    {
     "data": {
      "text/plain": [
       "array([5.08204534e-02, 1.38566993e-05, 2.42818865e-02, 2.11519504e-02,\n",
       "       1.02226287e-02, 2.58021128e-04, 5.30945093e-02, 3.30895115e-03,\n",
       "       6.06233840e-02, 4.56875461e-02, 1.93512919e-02, 2.56484853e-02,\n",
       "       3.02832365e-02, 5.95854790e-02, 7.15881605e-02, 2.64606850e-02,\n",
       "       7.72357288e-02, 1.22043426e-02, 5.62459412e-03, 3.93236498e-02,\n",
       "       3.70879683e-02, 2.17545449e-02, 3.25828714e-03, 4.88226627e-02,\n",
       "       1.44173592e-03, 3.98310312e-02, 9.46281570e-03, 2.17891397e-02,\n",
       "       1.96630619e-04, 3.23993618e-02, 1.86681554e-02, 7.31103464e-02,\n",
       "       8.25828132e-03, 9.53153779e-02, 6.75222979e-03, 1.50840120e-03,\n",
       "       2.54420335e-02, 4.01668325e-02, 8.85093242e-02, 8.77173182e-02,\n",
       "       2.33434907e-02, 1.56727389e-02, 2.73137492e-02, 1.82478290e-02,\n",
       "       1.84569004e-03, 1.10324541e-03, 2.57175073e-02, 1.53199206e-02,\n",
       "       1.17799760e-02, 2.17695906e-02, 4.41921890e-02, 9.18965582e-02,\n",
       "       2.55235948e-02, 2.44515605e-02, 4.54730466e-02, 5.46998857e-03,\n",
       "       9.77329633e-03, 1.07398171e-02, 6.99714433e-03, 8.66284737e-04,\n",
       "       1.02911856e-03, 3.43299620e-03, 2.24535649e-02, 6.30245179e-02,\n",
       "       6.66594708e-02, 1.79607269e-02, 5.35185373e-02, 1.27952914e-02,\n",
       "       1.43877564e-01, 1.18153016e-02, 1.02687849e-03, 6.56831825e-02,\n",
       "       0.00000000e+00, 3.64088812e-02, 3.71979488e-06, 5.19251091e-02,\n",
       "       1.34034004e-02, 2.64260878e-02, 1.45885617e-03, 1.39715873e-02,\n",
       "       8.40988098e-02, 4.22358608e-02, 7.18714470e-03, 3.28331712e-02,\n",
       "       7.33171985e-02, 7.58789650e-02, 1.09706959e-02, 1.00013394e-02,\n",
       "       8.00427459e-04, 3.56995071e-02, 5.75718303e-02, 1.99790639e-02,\n",
       "       4.45618939e-02, 1.61955709e-02, 1.68736328e-02, 8.13342871e-02,\n",
       "       1.68347000e-02, 9.61576889e-03, 2.21197511e-02, 7.97866456e-02,\n",
       "       7.26371293e-02, 3.42993212e-02, 0.00000000e+00, 5.99315415e-04,\n",
       "       1.11605480e-01, 8.59733671e-03, 2.41280704e-02, 1.13937254e-02,\n",
       "       1.81179652e-02, 6.38042977e-03, 4.98576260e-02, 4.44695479e-02,\n",
       "       5.36315400e-02, 1.79505672e-02, 3.86153998e-02, 2.32806814e-04,\n",
       "       9.25966000e-02, 1.11690698e-02, 7.10239938e-02, 9.81736428e-04,\n",
       "       1.83454892e-02, 2.81493147e-02, 2.31893416e-04, 9.63400186e-03,\n",
       "       2.86833688e-02, 2.50241629e-03, 1.57855042e-02, 2.13601174e-02,\n",
       "       2.55761381e-03, 1.13467926e-01, 7.90236187e-02, 1.00737134e-03,\n",
       "       2.14331630e-03, 4.32189826e-03, 1.35903036e-01, 1.80833273e-02,\n",
       "       3.21730770e-02, 5.02326511e-02, 4.20969789e-02, 1.16499470e-02,\n",
       "       5.36911378e-03, 5.99324605e-02, 9.39010794e-02, 2.41431674e-02,\n",
       "       7.36546800e-03, 1.08404039e-02, 1.63996908e-02, 3.74285358e-02,\n",
       "       8.05643901e-02, 1.35122384e-04, 2.44115856e-03, 6.92499186e-02,\n",
       "       4.78132423e-03, 3.96576172e-02, 4.60112922e-02, 0.00000000e+00,\n",
       "       1.34998297e-01, 1.33887133e-03, 3.12674049e-02, 2.30073610e-03,\n",
       "       9.96761261e-03, 3.29079416e-02, 8.73871698e-03, 2.83508932e-02,\n",
       "       1.37788769e-02, 4.36324162e-02, 6.08019784e-03, 1.60862876e-01,\n",
       "       7.61586745e-02, 4.39437067e-02, 3.72433273e-03, 7.55833498e-03,\n",
       "       2.34157779e-02, 2.22100388e-04, 5.02537012e-03, 1.46533915e-02,\n",
       "       3.03301100e-02, 3.18610417e-02, 2.98652408e-02, 1.52570705e-02,\n",
       "       1.38363550e-05, 5.57349316e-03, 1.29187756e-03, 3.68470450e-02,\n",
       "       2.73851381e-02, 0.00000000e+00, 2.92943088e-02, 3.00896766e-03,\n",
       "       9.49586638e-02, 3.59833987e-02, 1.26605637e-02, 5.27786341e-02,\n",
       "       2.92605076e-02, 7.80000310e-02, 6.71207513e-03, 2.72233651e-02,\n",
       "       3.50407720e-02, 9.00977255e-03, 8.94631591e-02, 2.52250345e-02,\n",
       "       8.05377476e-02, 4.84794467e-02, 1.93708526e-02, 5.94426593e-02,\n",
       "       8.15145758e-02, 1.34567111e-02, 1.79567450e-02, 2.53531249e-02,\n",
       "       3.53732383e-02, 1.05314831e-03, 3.98330889e-05, 3.52953638e-04,\n",
       "       1.53962887e-02, 1.04668978e-01, 6.07814810e-03, 8.33017059e-03,\n",
       "       4.27894896e-02, 1.52248611e-02, 6.68101287e-02, 2.18619255e-03,\n",
       "       3.34808146e-02, 5.32163836e-02, 7.23622233e-02, 3.98526672e-03,\n",
       "       2.73563382e-02, 2.91884927e-02, 3.32349296e-02, 2.05623840e-02,\n",
       "       4.44101095e-02, 6.77383683e-02, 2.84916387e-03, 2.91172900e-02,\n",
       "       3.25665898e-02, 9.90108257e-02, 6.09558631e-03, 6.05121127e-02,\n",
       "       8.62875422e-03, 2.38982203e-02, 5.80478447e-02, 4.04770245e-02,\n",
       "       3.75282243e-02, 6.08034446e-03, 4.22293724e-02, 3.43120793e-02,\n",
       "       7.05051437e-02, 3.03257981e-03, 3.53854890e-02, 3.50832795e-02,\n",
       "       1.39412689e-02, 1.49804036e-04, 7.11955041e-02, 8.07643023e-02,\n",
       "       7.58311676e-02, 3.69422651e-02, 1.36500798e-03, 4.94983473e-02,\n",
       "       4.39976574e-02, 1.76107887e-02, 9.27420704e-03, 3.40958710e-03,\n",
       "       5.25402894e-02, 1.81494857e-02, 2.65372009e-02, 0.00000000e+00,\n",
       "       9.50830402e-04, 1.65088117e-02, 6.99516790e-03, 1.17604615e-01,\n",
       "       7.70562360e-02, 2.40925866e-02, 2.12658561e-02, 3.74382824e-03,\n",
       "       9.70904922e-03, 7.34782872e-02, 3.76706320e-02, 2.27928408e-02,\n",
       "       2.98168383e-02, 6.97372607e-04, 3.38214752e-02, 0.00000000e+00,\n",
       "       3.63447720e-02, 1.00736114e-02, 6.17684922e-02, 2.15104821e-02,\n",
       "       3.75612156e-02, 1.66191460e-01, 5.43587782e-03, 5.15455319e-03,\n",
       "       1.16740947e-01, 5.59289523e-02, 4.76790812e-02, 1.34763241e-02,\n",
       "       1.00494505e-01, 6.67380161e-02, 4.41667194e-02, 2.36067930e-02,\n",
       "       1.75840972e-02, 1.86477674e-02, 7.87591711e-04, 1.16223878e-03,\n",
       "       1.20879339e-02, 4.64602870e-02, 4.60374274e-03, 1.19486926e-01,\n",
       "       6.18686708e-04, 8.48540357e-02, 2.05876395e-02, 5.41440274e-02,\n",
       "       5.13392488e-03, 8.43248188e-03, 8.22476275e-02, 1.90251069e-02,\n",
       "       3.45145864e-02, 4.77281958e-02, 2.12784164e-02, 3.36029193e-02,\n",
       "       3.78172043e-04, 1.14820382e-02, 8.21041178e-03, 3.59567701e-02,\n",
       "       2.64037298e-02, 7.20238527e-02, 7.57546843e-02, 1.92984048e-02,\n",
       "       8.49418481e-02, 7.13639516e-02, 8.12888682e-02, 3.27979835e-03,\n",
       "       7.30976535e-02, 1.43278244e-02, 7.23034598e-02, 3.81601167e-02,\n",
       "       1.72058920e-02, 1.20106570e-02, 6.62882997e-02, 5.26335616e-02,\n",
       "       2.26166831e-02, 6.93308458e-03, 3.73586782e-02, 7.49036216e-02,\n",
       "       1.04875705e-02, 4.71855174e-04, 7.06857955e-02, 1.38619178e-03,\n",
       "       8.43149279e-03, 7.98192273e-02, 5.14336276e-02, 4.50331813e-04,\n",
       "       2.11777691e-02, 5.48732856e-02, 7.49155159e-04, 1.42776625e-02,\n",
       "       2.57708646e-02, 1.43335134e-02, 3.57389799e-02, 1.24646195e-02,\n",
       "       4.19734894e-02, 7.34772679e-02, 1.04784697e-02, 2.69677754e-02,\n",
       "       1.27450795e-02, 1.20150020e-02, 1.43495820e-02, 2.08599832e-02,\n",
       "       2.07314692e-02, 6.04268696e-03, 3.36630651e-02, 4.71250428e-02,\n",
       "       4.18437048e-03, 3.58777251e-03, 8.37545605e-02, 3.72768865e-02,\n",
       "       4.65428166e-02, 6.37512348e-02, 2.84343233e-02, 2.26382033e-02,\n",
       "       3.84397145e-02, 1.57232824e-02, 2.23715404e-02, 6.05790379e-03,\n",
       "       2.62890468e-03, 5.90113377e-02, 1.01740011e-01, 4.21845958e-02,\n",
       "       7.42762743e-02, 1.30523287e-02, 3.39897482e-02, 4.34464787e-03,\n",
       "       1.04568254e-01, 4.75108838e-03, 1.11399603e-02, 1.07323123e-01,\n",
       "       1.87245754e-02, 4.69118419e-02, 1.10970153e-02, 5.53568497e-02,\n",
       "       1.36320275e-03, 7.37688092e-02, 2.36881426e-02, 5.13262522e-02,\n",
       "       1.10547337e-01, 6.25459621e-02, 5.38004763e-02, 1.90754527e-02,\n",
       "       3.05492826e-02, 6.07805862e-02, 1.09378388e-01, 2.68514703e-02,\n",
       "       6.24447540e-02, 7.38693424e-02, 4.93246168e-02, 5.20439672e-02,\n",
       "       5.62290906e-02, 3.64522452e-02, 2.47634683e-04, 3.33188025e-03,\n",
       "       4.82808425e-02, 9.79612332e-03, 1.03497800e-02, 2.01624386e-02,\n",
       "       4.11313023e-03, 1.58201264e-03, 0.00000000e+00, 7.59164631e-03,\n",
       "       5.03823595e-02, 7.92445880e-03, 2.72316973e-03, 6.06449671e-02,\n",
       "       8.11536912e-03, 1.53872415e-02, 2.61645227e-04, 6.79625702e-03,\n",
       "       1.20704236e-02, 1.93130421e-03, 2.86097853e-02, 1.09822531e-02,\n",
       "       1.24965111e-02, 7.04043545e-02, 9.94585121e-04, 2.59634593e-03,\n",
       "       1.79898384e-03, 7.18509961e-03, 1.85224755e-02, 2.63466233e-02,\n",
       "       4.45819828e-02, 3.51994666e-03, 2.34823843e-02, 8.71421552e-03,\n",
       "       3.93185392e-02, 2.43047452e-03, 3.00986657e-03, 2.16652875e-03,\n",
       "       5.20600626e-02, 8.34549203e-02, 2.02908711e-02, 1.96284705e-02,\n",
       "       8.79870228e-03, 1.23874205e-02, 2.33242535e-02, 3.27532808e-02,\n",
       "       2.34476149e-02, 3.67544826e-02, 5.65486289e-02, 2.35224319e-02,\n",
       "       5.72169547e-02, 5.86770445e-03, 5.35527900e-02, 1.97353968e-02,\n",
       "       7.33267868e-02, 2.76631725e-03, 4.76544540e-02, 1.72284735e-02,\n",
       "       9.50060283e-02, 2.89446673e-03, 4.31066495e-02, 1.85579280e-02,\n",
       "       1.45221220e-02, 1.53304759e-02, 1.80352245e-03, 1.44743200e-02,\n",
       "       5.86638372e-03, 6.40199550e-02, 3.67507287e-02, 2.18066489e-04,\n",
       "       2.68053648e-02, 6.66121389e-02, 8.23832141e-02, 1.35526235e-02,\n",
       "       4.28568174e-02, 3.58331690e-02, 1.84399274e-02, 4.17294802e-02,\n",
       "       2.98830491e-02, 1.10667876e-02, 4.44664956e-04, 4.31859627e-02,\n",
       "       2.24750107e-02, 3.09696545e-02, 8.73839083e-06, 4.44846344e-03,\n",
       "       1.77851797e-04, 7.64546516e-02, 4.63876432e-03, 7.21789743e-02,\n",
       "       9.23893499e-03, 1.80537513e-02, 4.03889980e-02, 5.43757673e-02,\n",
       "       5.47917196e-03, 1.35059362e-03, 3.18497638e-02, 1.23893568e-01])"
      ]
     },
     "execution_count": 24,
     "metadata": {},
     "output_type": "execute_result"
    }
   ],
   "source": [
    "centroids[1]"
   ]
  },
  {
   "cell_type": "code",
   "execution_count": 26,
   "metadata": {},
   "outputs": [],
   "source": [
    "three_class_cosine_centroid = centroids[2]"
   ]
  },
  {
   "cell_type": "code",
   "execution_count": 30,
   "metadata": {},
   "outputs": [
    {
     "data": {
      "text/plain": [
       "array([[1.15600221e-02, 4.67950673e-03, 6.05678214e-02, 3.97132671e-02,\n",
       "        6.22930596e-02, 5.17932725e-02, 1.90803051e-02, 8.08006646e-03,\n",
       "        3.38454632e-02, 9.24501696e-02, 4.76434252e-02, 2.14306136e-04,\n",
       "        1.47157958e-02, 4.39298983e-02, 2.07924812e-02, 8.76269989e-02,\n",
       "        4.51022891e-03, 2.02452029e-02, 1.02720163e-01, 3.36181714e-02,\n",
       "        5.73136211e-02, 4.59701990e-02, 1.96533611e-02, 4.41948823e-02,\n",
       "        4.64944085e-02, 8.68413013e-02, 2.48887859e-03, 3.11143735e-02,\n",
       "        3.19193751e-02, 3.00994878e-02, 5.24903253e-02, 5.94389595e-02,\n",
       "        1.92603778e-02, 4.25758241e-02, 5.99710342e-04, 8.55240872e-02,\n",
       "        3.23484834e-02, 1.06046271e-01, 6.63183294e-02, 5.65147687e-03,\n",
       "        2.28252387e-03, 5.34217509e-03, 8.30313438e-03, 5.05609198e-02,\n",
       "        1.51368355e-02, 2.51263781e-02, 1.20286565e-02, 7.87353744e-02,\n",
       "        1.38669436e-02, 3.57593219e-03, 1.14059051e-01, 5.19640433e-02,\n",
       "        9.90699361e-03, 2.19089219e-02, 6.54568949e-02, 3.10062578e-02,\n",
       "        1.44936830e-02, 1.33918773e-02, 1.01999553e-01, 4.55441206e-02,\n",
       "        2.97474702e-02, 1.31916353e-03, 1.75271440e-02, 5.98516072e-03,\n",
       "        7.84021854e-03, 1.92994262e-02, 1.74755887e-02, 8.10788533e-03,\n",
       "        3.63172960e-03, 0.00000000e+00, 1.59209011e-03, 1.99180715e-02,\n",
       "        2.48370318e-02, 1.52257800e-03, 1.71343636e-02, 3.49560260e-03,\n",
       "        4.65402772e-02, 7.23921900e-02, 3.11847576e-02, 2.84772461e-03,\n",
       "        2.25016539e-02, 5.51147203e-02, 1.43325039e-02, 5.41556242e-03,\n",
       "        9.28840697e-02, 3.93733622e-02, 8.28767230e-02, 1.30668045e-05,\n",
       "        4.46871974e-02, 2.45148406e-02, 3.93173257e-02, 5.51308089e-02,\n",
       "        7.95402141e-05, 5.27994996e-02, 9.09465690e-02, 7.48664246e-03,\n",
       "        8.37931693e-02, 7.74943329e-02, 3.09906630e-02, 9.12520225e-03,\n",
       "        2.20579244e-02, 5.65233867e-03, 2.05741677e-03, 1.96830415e-02,\n",
       "        4.64705075e-02, 2.74339719e-02, 7.89852991e-02, 1.37944997e-02,\n",
       "        3.67784227e-02, 1.34376659e-02, 4.29357368e-04, 4.29661599e-02,\n",
       "        2.29505299e-02, 7.78496447e-03, 1.25145327e-02, 1.03951044e-03,\n",
       "        1.91252789e-02, 6.22337729e-02, 3.25500775e-02, 3.87640003e-03,\n",
       "        5.20679190e-02, 8.05289438e-03, 4.08845864e-03, 1.15047114e-03,\n",
       "        4.96207858e-02, 3.00962655e-02, 1.70220588e-03, 1.73319970e-02,\n",
       "        5.86962003e-02, 1.90507742e-02, 2.46251656e-02, 3.90751515e-03,\n",
       "        1.11462199e-02, 1.45432492e-02, 8.53231329e-02, 5.15680417e-02,\n",
       "        5.25231898e-03, 5.15662613e-03, 9.67350694e-03, 7.06861654e-02,\n",
       "        7.78846835e-04, 1.04025675e-01, 1.57989687e-02, 1.48492892e-06,\n",
       "        3.95194130e-03, 8.93479669e-02, 1.12188851e-02, 8.26251570e-02,\n",
       "        2.23174467e-02, 1.49258813e-01, 6.17661285e-02, 6.60243245e-03,\n",
       "        6.17516320e-05, 1.04419819e-04, 5.50474404e-02, 2.06389088e-03,\n",
       "        7.87656737e-03, 4.85576332e-03, 5.87590061e-02, 5.19844426e-03,\n",
       "        2.19545263e-02, 3.97964687e-02, 4.54225452e-03, 6.15178312e-02,\n",
       "        9.34598206e-03, 6.37982459e-02, 3.01283940e-02, 2.41432315e-03,\n",
       "        3.34820143e-02, 1.01539401e-01, 1.19559559e-05, 1.49423608e-02,\n",
       "        4.17185578e-02, 2.71494219e-02, 7.40226551e-03, 5.48517219e-03,\n",
       "        3.25677773e-02, 2.45530452e-02, 5.45735969e-02, 1.61864867e-02,\n",
       "        2.05586659e-04, 4.92676577e-02, 5.09116879e-02, 1.57766707e-02,\n",
       "        5.73996753e-03, 6.77009643e-02, 3.18200640e-02, 3.46183107e-02,\n",
       "        1.93256061e-02, 1.02533911e-03, 3.02766083e-02, 1.68304970e-02,\n",
       "        8.42976552e-02, 5.80596583e-02, 1.46700474e-03, 4.26430298e-02,\n",
       "        5.19811612e-02, 7.94215082e-02, 3.41674689e-02, 2.77790626e-02,\n",
       "        9.85573479e-02, 5.37835990e-03, 2.09701580e-02, 7.24972433e-02,\n",
       "        3.48859909e-02, 7.26122384e-03, 1.75287251e-02, 3.65824069e-03,\n",
       "        1.25352795e-03, 6.85362026e-02, 3.72097913e-04, 3.85804566e-03,\n",
       "        3.46641122e-02, 1.56030044e-02, 7.35030994e-02, 4.53397632e-02,\n",
       "        9.00238136e-03, 2.16574602e-02, 1.08464832e-02, 6.14045527e-02,\n",
       "        7.55737367e-02, 4.87525218e-02, 6.22958542e-03, 3.62794426e-02,\n",
       "        2.24138390e-02, 4.73487411e-03, 1.17024930e-02, 2.20695768e-03,\n",
       "        3.45872950e-02, 1.72059981e-03, 6.11867739e-03, 8.11758368e-04,\n",
       "        1.37409507e-02, 3.56189230e-02, 9.59401220e-03, 1.46019888e-02,\n",
       "        4.79247435e-02, 1.85983247e-02, 1.50742468e-03, 7.56858467e-02,\n",
       "        5.31039435e-03, 2.54676253e-02, 6.60453336e-03, 2.75505631e-02,\n",
       "        1.18756504e-02, 4.12815141e-02, 1.38988564e-02, 3.72091191e-02,\n",
       "        4.55072189e-02, 1.02426016e-02, 3.85709750e-03, 3.00225321e-03,\n",
       "        3.10568974e-02, 1.59383701e-04, 1.36335606e-02, 1.39033695e-03,\n",
       "        3.37414948e-02, 5.35557463e-02, 4.66080984e-03, 9.24822728e-04,\n",
       "        7.45829097e-03, 1.69915537e-03, 1.04079442e-02, 6.58566845e-02,\n",
       "        3.43895863e-02, 6.29977857e-02, 3.74868071e-02, 7.63316386e-03,\n",
       "        1.02468588e-01, 1.00959993e-03, 7.06372552e-02, 1.99587497e-02,\n",
       "        8.95272758e-03, 4.15235846e-02, 1.27391559e-01, 2.01264232e-02,\n",
       "        1.33105094e-02, 7.83968558e-02, 1.72145283e-02, 7.37678922e-03,\n",
       "        4.04299600e-02, 5.40337440e-02, 1.06150378e-01, 1.06659872e-01,\n",
       "        8.77025956e-03, 2.99972373e-02, 5.81991977e-02, 1.84722264e-02,\n",
       "        7.24368949e-02, 6.78783513e-02, 3.61821230e-02, 7.50148371e-02,\n",
       "        9.74320538e-03, 1.94152628e-02, 4.85974548e-02, 4.02638906e-02,\n",
       "        6.12428138e-02, 7.71198121e-02, 5.44331163e-02, 8.24959105e-02,\n",
       "        4.92131420e-02, 8.58090868e-03, 4.30207591e-02, 2.31310095e-02,\n",
       "        1.50571901e-02, 4.47626515e-02, 1.51040869e-03, 1.43970437e-02,\n",
       "        5.79213521e-02, 1.88323022e-02, 3.35335765e-02, 2.65101014e-03,\n",
       "        5.70053927e-02, 1.78870391e-02, 5.33433422e-03, 6.06861443e-03,\n",
       "        7.51353391e-02, 2.16481363e-02, 7.55750117e-02, 2.69927733e-03,\n",
       "        1.14046491e-02, 1.64229355e-02, 2.83144321e-02, 5.92838031e-04,\n",
       "        4.75973479e-02, 1.36573133e-02, 1.44596292e-02, 6.72932866e-04,\n",
       "        6.02000281e-02, 3.58573719e-03, 7.13613282e-03, 4.27361628e-02,\n",
       "        3.39386077e-02, 2.40050833e-03, 6.07349108e-02, 2.40945369e-02,\n",
       "        5.38456328e-02, 4.86457066e-02, 4.73868147e-02, 7.52356076e-02,\n",
       "        1.54916950e-03, 3.44631278e-03, 9.72005370e-03, 5.57392597e-03,\n",
       "        8.01857575e-02, 3.20343435e-02, 9.88373355e-03, 1.51948008e-02,\n",
       "        3.06809816e-04, 1.18383096e-01, 2.27952218e-02, 3.24157031e-02,\n",
       "        9.62756582e-03, 5.07524342e-02, 2.40808477e-03, 2.54222620e-03,\n",
       "        3.82984718e-03, 6.52015548e-02, 6.45250694e-02, 5.13428248e-02,\n",
       "        2.93232973e-02, 1.28161623e-01, 6.57229013e-03, 9.37235412e-02,\n",
       "        5.04247511e-02, 5.19693103e-02, 1.34298176e-02, 2.33653927e-02,\n",
       "        5.58212222e-02, 1.67842921e-02, 3.18618387e-02, 1.82098133e-02,\n",
       "        1.95757997e-02, 2.39534767e-02, 5.07389467e-02, 1.16556414e-02,\n",
       "        2.99726894e-02, 4.52591093e-03, 1.41888763e-02, 5.35487150e-03,\n",
       "        3.93323618e-02, 2.64772671e-02, 6.51747791e-02, 1.31940040e-02,\n",
       "        1.74619146e-02, 2.92393469e-02, 3.90545365e-03, 1.96983256e-02,\n",
       "        3.44083177e-02, 9.84975002e-02, 1.16507648e-03, 1.09989248e-02,\n",
       "        9.95109231e-03, 6.67065556e-02, 2.34232560e-02, 2.75320056e-02,\n",
       "        6.28925284e-02, 2.18216054e-02, 1.38835746e-02, 6.48947683e-02,\n",
       "        4.22451875e-02, 5.68759283e-02, 1.11380507e-03, 8.70970078e-03,\n",
       "        2.54304523e-02, 2.29830571e-02, 5.34539860e-03, 4.05384211e-02,\n",
       "        2.26762011e-02, 4.70861112e-02, 4.42892878e-04, 1.20458040e-04,\n",
       "        4.84985309e-02, 8.02006521e-03, 2.97445863e-02, 1.28066876e-02,\n",
       "        9.72381910e-03, 4.15626470e-02, 2.79001582e-03, 1.53206119e-03,\n",
       "        8.41173704e-02, 2.38411302e-02, 1.24412080e-02, 6.34278793e-03,\n",
       "        7.29881629e-02, 6.39924546e-04, 7.81646253e-04, 1.27749730e-02,\n",
       "        6.87440930e-02, 5.42866268e-02, 3.42630221e-02, 2.01221531e-02,\n",
       "        1.37609363e-02, 3.81102256e-02, 1.80265124e-02, 8.86411080e-02,\n",
       "        7.23895008e-02, 6.14434991e-02, 5.90966251e-02, 1.04086223e-02,\n",
       "        9.46015186e-03, 1.10899270e-03, 8.24668931e-03, 1.21767885e-02,\n",
       "        8.04501387e-02, 5.55184666e-05, 3.81488005e-03, 8.57767938e-02,\n",
       "        1.35161465e-02, 1.05742276e-01, 1.10074564e-01, 6.47083703e-03,\n",
       "        3.59208273e-02, 4.87792093e-02, 7.13076494e-03, 8.63690575e-02,\n",
       "        2.07194798e-02, 6.76951130e-02, 3.34495857e-04, 6.39927878e-02,\n",
       "        3.83989878e-02, 1.93076073e-02, 6.10405509e-03, 2.16777286e-02,\n",
       "        1.17468012e-01, 5.80218617e-02, 1.43992310e-02, 4.06369579e-03,\n",
       "        1.21650402e-04, 9.38616248e-02, 1.22484051e-01, 1.16286686e-02,\n",
       "        2.32333216e-04, 4.22183655e-02, 9.29813680e-04, 2.56075774e-02,\n",
       "        1.18591607e-03, 4.24785647e-02, 4.83110827e-02, 6.48920142e-02,\n",
       "        3.60227394e-02, 4.88811469e-02, 2.76760627e-03, 3.51301408e-02,\n",
       "        3.23214922e-02, 6.29475460e-03, 6.16827776e-05, 3.27089974e-03,\n",
       "        1.18502494e-01, 4.95670629e-02, 4.76132834e-02, 8.03748887e-02,\n",
       "        2.27444477e-02, 2.53354624e-02, 8.49449284e-03, 7.01323688e-04,\n",
       "        2.99823518e-02, 3.97972685e-03, 9.98031371e-03, 3.17415174e-02,\n",
       "        1.58333319e-02, 3.70154395e-02, 3.00654677e-02, 2.68844478e-03,\n",
       "        7.41710727e-05, 6.33433146e-02, 6.00973162e-02, 2.33024688e-02,\n",
       "        3.71383734e-02, 1.42746917e-01, 2.74020932e-03, 1.27808796e-01]])"
      ]
     },
     "execution_count": 30,
     "metadata": {},
     "output_type": "execute_result"
    }
   ],
   "source": [
    "control_centroids"
   ]
  },
  {
   "cell_type": "code",
   "execution_count": 19,
   "metadata": {},
   "outputs": [
    {
     "name": "stdout",
     "output_type": "stream",
     "text": [
      "K-Means iteration 0/49\n",
      "Cost function value: 634.0586558116006\n",
      "K-Means iteration 1/49\n",
      "Cost function value: 641.3879560165349\n",
      "K-Means iteration 2/49\n",
      "Cost function value: 645.4683286226382\n",
      "K-Means iteration 3/49\n",
      "Cost function value: 645.4683286226382\n",
      "K-Means iteration 4/49\n",
      "Cost function value: 645.4683286226382\n",
      "K-Means iteration 5/49\n",
      "Cost function value: 645.4683286226382\n",
      "K-Means iteration 6/49\n",
      "Cost function value: 645.4683286226382\n",
      "K-Means iteration 7/49\n",
      "Cost function value: 645.4683286226382\n",
      "K-Means iteration 8/49\n",
      "Cost function value: 645.4683286226382\n",
      "K-Means iteration 9/49\n",
      "Cost function value: 645.4683286226382\n",
      "K-Means iteration 10/49\n",
      "Cost function value: 645.4683286226382\n",
      "K-Means iteration 11/49\n",
      "Cost function value: 645.4683286226382\n",
      "K-Means iteration 12/49\n",
      "Cost function value: 645.4683286226382\n",
      "K-Means iteration 13/49\n",
      "Cost function value: 645.4683286226382\n",
      "K-Means iteration 14/49\n",
      "Cost function value: 645.4683286226382\n",
      "K-Means iteration 15/49\n",
      "Cost function value: 645.4683286226382\n",
      "K-Means iteration 16/49\n",
      "Cost function value: 645.4683286226382\n",
      "K-Means iteration 17/49\n",
      "Cost function value: 645.4683286226382\n",
      "K-Means iteration 18/49\n",
      "Cost function value: 645.4683286226382\n",
      "K-Means iteration 19/49\n",
      "Cost function value: 645.4683286226382\n",
      "K-Means iteration 20/49\n",
      "Cost function value: 645.4683286226382\n",
      "K-Means iteration 21/49\n",
      "Cost function value: 645.4683286226382\n",
      "K-Means iteration 22/49\n",
      "Cost function value: 645.4683286226382\n",
      "K-Means iteration 23/49\n",
      "Cost function value: 645.4683286226382\n",
      "K-Means iteration 24/49\n",
      "Cost function value: 645.4683286226382\n",
      "K-Means iteration 25/49\n",
      "Cost function value: 645.4683286226382\n",
      "K-Means iteration 26/49\n",
      "Cost function value: 645.4683286226382\n",
      "K-Means iteration 27/49\n",
      "Cost function value: 645.4683286226382\n",
      "K-Means iteration 28/49\n",
      "Cost function value: 645.4683286226382\n",
      "K-Means iteration 29/49\n",
      "Cost function value: 645.4683286226382\n",
      "K-Means iteration 30/49\n",
      "Cost function value: 645.4683286226382\n",
      "K-Means iteration 31/49\n",
      "Cost function value: 645.4683286226382\n",
      "K-Means iteration 32/49\n",
      "Cost function value: 645.4683286226382\n",
      "K-Means iteration 33/49\n",
      "Cost function value: 645.4683286226382\n",
      "K-Means iteration 34/49\n",
      "Cost function value: 645.4683286226382\n",
      "K-Means iteration 35/49\n",
      "Cost function value: 645.4683286226382\n",
      "K-Means iteration 36/49\n",
      "Cost function value: 645.4683286226382\n",
      "K-Means iteration 37/49\n",
      "Cost function value: 645.4683286226382\n",
      "K-Means iteration 38/49\n",
      "Cost function value: 645.4683286226382\n",
      "K-Means iteration 39/49\n",
      "Cost function value: 645.4683286226382\n",
      "K-Means iteration 40/49\n",
      "Cost function value: 645.4683286226382\n",
      "K-Means iteration 41/49\n",
      "Cost function value: 645.4683286226382\n",
      "K-Means iteration 42/49\n",
      "Cost function value: 645.4683286226382\n",
      "K-Means iteration 43/49\n",
      "Cost function value: 645.4683286226382\n",
      "K-Means iteration 44/49\n",
      "Cost function value: 645.4683286226382\n",
      "K-Means iteration 45/49\n",
      "Cost function value: 645.4683286226382\n",
      "K-Means iteration 46/49\n",
      "Cost function value: 645.4683286226382\n",
      "K-Means iteration 47/49\n",
      "Cost function value: 645.4683286226382\n",
      "K-Means iteration 48/49\n",
      "Cost function value: 645.4683286226382\n",
      "K-Means iteration 49/49\n",
      "Cost function value: 645.4683286226382\n",
      "Final centroids selected from iteration: 0\n",
      "Final centroids: [[ 0.28263154 -0.09249369  0.2421204   0.31683269  0.42731519 -0.44861475\n",
      "   0.16854933  0.05839664 -0.10657528  0.14836813 -0.04821702 -0.11987846\n",
      "   0.0321595   0.14043956 -0.02137703  0.19286596 -0.31018837 -0.05373485\n",
      "  -0.2026347  -0.29705662]\n",
      " [-0.06184631  0.04334589 -0.38767992 -0.18555666 -0.64225565  0.22307334\n",
      "  -0.27398839 -0.05853228  0.11058331  0.25813153  0.14313728 -0.11947085\n",
      "   0.10137305 -0.2319628   0.06505208 -0.0076207   0.01123894 -0.05805344\n",
      "   0.24851468  0.14686117]\n",
      " [-0.0757873   0.17342265 -0.14994955  0.35268892 -0.02477265  0.19132724\n",
      "  -0.15648683 -0.04868153 -0.11102343 -0.19379191 -0.23139102 -0.12355512\n",
      "  -0.36966273 -0.10051253 -0.09718836  0.64236949  0.17044156 -0.07254559\n",
      "  -0.00895291 -0.17694279]]\n"
     ]
    }
   ],
   "source": [
    "# Main function to run the K-Means algorithm\n",
    "\n",
    "K = 3                     # Set number of clusters\n",
    "initial_centroids = kMeans_init_centroids(feats_np_norm, K)  # Step 3: Initialize centroids\n",
    "max_iters = 50                # Step 4: Number of iterations\n",
    "best_centroids, best_idx, centroids, idx = run_kMeans(feats_np_norm, initial_centroids, max_iters)  # Step 5: Run K-Means\n",
    "print(\"Final centroids:\", centroids)  # Output the final centroids"
   ]
  },
  {
   "cell_type": "code",
   "execution_count": 14,
   "metadata": {},
   "outputs": [
    {
     "data": {
      "text/plain": [
       "array([3.36768617e-02, 1.46735507e-02, 1.83251352e-02, 1.55093519e-02,\n",
       "       7.29696719e-03, 3.61932488e-02, 2.52138552e-02, 2.19719069e-02,\n",
       "       3.08695764e-02, 9.46770097e-02, 8.58021786e-02, 2.17426379e-02,\n",
       "       1.85952438e-02, 4.93303220e-03, 4.34737494e-02, 5.26666872e-02,\n",
       "       4.63993148e-03, 2.36199533e-02, 6.01302832e-04, 3.06993426e-03,\n",
       "       4.77460724e-03, 7.62217337e-02, 8.63352512e-02, 5.66025249e-02,\n",
       "       7.26840116e-03, 2.80228613e-04, 1.20124716e-02, 4.95479994e-05,\n",
       "       8.63667460e-02, 1.00409006e-01, 3.65309955e-02, 2.44926618e-02,\n",
       "       3.15309757e-03, 3.70897217e-03, 5.12028364e-02, 1.18650087e-02,\n",
       "       6.17891904e-02, 3.77719345e-02, 1.86844693e-02, 2.39826815e-02,\n",
       "       1.68933650e-02, 4.42739640e-02, 1.29648221e-02, 1.41343280e-03,\n",
       "       1.04432745e-01, 3.26914615e-02, 3.61598578e-02, 2.97500065e-02,\n",
       "       2.70556226e-02, 2.90645592e-02, 1.42543742e-02, 3.60732588e-02,\n",
       "       6.79047564e-02, 3.17215081e-02, 5.03616553e-02, 2.53341894e-03,\n",
       "       2.54241295e-02, 7.38459876e-02, 3.45142341e-02, 5.66056651e-02,\n",
       "       5.18570102e-03, 9.19349224e-02, 4.07727171e-02, 3.44475639e-02,\n",
       "       4.94921941e-02, 1.25383123e-02, 1.12071438e-02, 4.31290072e-02,\n",
       "       2.11081972e-02, 4.42296802e-02, 3.81816020e-02, 3.90414290e-03,\n",
       "       7.38990116e-02, 5.79529805e-02, 3.36659410e-02, 7.09688920e-02,\n",
       "       3.52331073e-02, 7.90134335e-03, 1.69108637e-04, 1.86399585e-02,\n",
       "       1.13628857e-02, 4.90326543e-02, 9.12608314e-02, 1.64594719e-02,\n",
       "       1.06093403e-02, 4.66133228e-03, 2.26970715e-03, 1.72000339e-02,\n",
       "       4.40642674e-02, 2.38986868e-02, 2.71396102e-02, 1.37136911e-02,\n",
       "       6.55678942e-02, 6.35635444e-03, 3.06531755e-02, 1.58474410e-02,\n",
       "       4.76142799e-02, 2.82503839e-03, 4.59123546e-02, 8.88922391e-03,\n",
       "       1.86482829e-02, 1.73404746e-02, 3.12533912e-02, 4.23261789e-02,\n",
       "       1.28248869e-02, 8.25275963e-02, 4.15036664e-02, 1.09018773e-02,\n",
       "       1.24664485e-01, 7.26931013e-02, 3.11562256e-02, 8.09123399e-03,\n",
       "       2.03868780e-02, 2.10500390e-02, 7.23035536e-02, 6.20510351e-02,\n",
       "       4.67841913e-03, 6.04939066e-02, 1.49997781e-02, 3.48621210e-02,\n",
       "       3.03988062e-02, 1.58654177e-02, 1.71766632e-02, 1.04564531e-02,\n",
       "       2.13785213e-02, 1.11685988e-02, 2.42100101e-02, 1.06727503e-02,\n",
       "       9.16480565e-03, 3.97980279e-02, 3.43695135e-03, 6.85798211e-02,\n",
       "       2.32319338e-02, 2.38023374e-03, 9.60068877e-03, 9.37470026e-03,\n",
       "       1.52164690e-02, 5.22588436e-02, 9.43651286e-03, 1.30913615e-03,\n",
       "       4.46873768e-03, 3.73910828e-02, 3.62374859e-02, 2.77980214e-02,\n",
       "       1.84569823e-02, 2.78576006e-02, 1.78402843e-02, 4.23573336e-02,\n",
       "       1.78674509e-02, 4.95623818e-02, 1.67525551e-02, 1.07639268e-02,\n",
       "       3.16427222e-02, 6.89685989e-03, 7.51037176e-04, 2.25041106e-02,\n",
       "       1.00515428e-03, 3.01343338e-02, 6.79380472e-03, 3.74077084e-02,\n",
       "       8.02988368e-02, 5.09559377e-02, 8.33810993e-03, 3.75019691e-02,\n",
       "       3.21346886e-02, 2.17771028e-02, 6.03693005e-04, 4.99436493e-03,\n",
       "       1.35674800e-03, 4.00220462e-02, 4.86121383e-03, 3.89963300e-03,\n",
       "       2.08733627e-03, 2.75570233e-02, 8.22900716e-02, 8.13444731e-02,\n",
       "       1.12279427e-02, 4.87389188e-02, 1.03445103e-02, 3.72197833e-02,\n",
       "       5.95061955e-02, 5.94978745e-02, 1.22682585e-02, 1.31519867e-02,\n",
       "       1.44512912e-02, 2.19426764e-02, 1.50787410e-02, 3.43426178e-02,\n",
       "       1.82928635e-02, 1.98128528e-02, 6.54049926e-02, 3.14148393e-02,\n",
       "       1.48915306e-01, 2.89326526e-03, 2.50744745e-02, 1.82063891e-02,\n",
       "       3.53833645e-02, 3.16917779e-03, 3.61727423e-02, 6.58415262e-02,\n",
       "       1.13904763e-02, 1.43954473e-02, 5.79951164e-03, 1.32728103e-03,\n",
       "       7.68222220e-03, 3.61550684e-02, 8.09592956e-02, 4.64993830e-02,\n",
       "       3.19396119e-02, 1.10432800e-03, 4.92311693e-02, 1.11992454e-01,\n",
       "       7.61851397e-03, 3.69564943e-02, 3.17321469e-02, 1.33454135e-03,\n",
       "       1.71221530e-02, 1.38004881e-02, 3.31983063e-02, 1.94792026e-02,\n",
       "       4.33785143e-03, 2.59451260e-02, 2.51328423e-02, 5.24892355e-03,\n",
       "       3.65796587e-02, 2.38872630e-02, 1.22137802e-01, 1.76136971e-03,\n",
       "       1.62084267e-02, 2.51460622e-02, 6.55646423e-02, 8.42769770e-03,\n",
       "       1.16103342e-02, 3.05178807e-02, 1.56892484e-02, 4.36904531e-02,\n",
       "       1.79982096e-03, 4.09584478e-02, 3.23799635e-03, 4.47283788e-02,\n",
       "       2.49839712e-02, 3.27174866e-02, 3.43224233e-02, 2.83624164e-02,\n",
       "       3.87044738e-02, 3.04284965e-06, 6.69211464e-03, 6.48843501e-02,\n",
       "       7.95101695e-03, 2.11172279e-04, 5.93193745e-02, 3.59829372e-02,\n",
       "       2.44673693e-04, 4.59958205e-02, 6.02077372e-02, 1.93616923e-02,\n",
       "       8.68214683e-03, 5.23728445e-02, 5.85117149e-02, 3.72245500e-03,\n",
       "       4.57369668e-02, 5.61165175e-02, 2.99537753e-04, 3.06942958e-02,\n",
       "       5.89733185e-02, 3.78327250e-02, 9.40790839e-02, 3.27370142e-03,\n",
       "       1.40428350e-02, 4.46803795e-03, 7.19570783e-02, 3.00078118e-02,\n",
       "       5.52012071e-02, 3.27618379e-03, 1.05163414e-01, 1.22045095e-02,\n",
       "       7.42041710e-02, 2.01506289e-04, 5.50633988e-02, 4.34545497e-02,\n",
       "       1.57009739e-02, 3.78208370e-03, 3.03795133e-02, 4.99778614e-02,\n",
       "       4.51781347e-02, 4.01820407e-02, 3.72757657e-02, 1.09557767e-01,\n",
       "       1.64377747e-03, 9.44868203e-02, 4.49475844e-02, 1.94646840e-02,\n",
       "       1.38754909e-02, 3.75743466e-02, 1.61039535e-02, 1.02270404e-01,\n",
       "       1.05124798e-02, 9.89926532e-02, 7.88425848e-02, 4.02398448e-02,\n",
       "       6.75977835e-03, 1.52640408e-02, 5.86307708e-02, 3.32538811e-02,\n",
       "       8.75236577e-02, 1.02151418e-02, 2.65120765e-02, 8.52284796e-02,\n",
       "       1.86535173e-02, 1.67986146e-01, 9.79682595e-03, 2.22760226e-02,\n",
       "       2.97782423e-02, 3.46195157e-02, 9.75432685e-02, 4.08582841e-02,\n",
       "       1.04373757e-02, 6.98786551e-02, 2.97085834e-02, 1.19078737e-02,\n",
       "       3.99139593e-03, 0.00000000e+00, 1.22950237e-01, 3.89524743e-02,\n",
       "       1.54194799e-02, 6.35308569e-02, 2.68545987e-02, 4.89300027e-02,\n",
       "       7.07237521e-03, 6.69414392e-04, 2.49589152e-02, 4.42479784e-03,\n",
       "       8.00224199e-04, 2.88841613e-03, 2.42290420e-02, 3.33092509e-02,\n",
       "       9.99397705e-02, 2.08121811e-02, 3.97180702e-02, 1.52986621e-05,\n",
       "       8.40641135e-02, 5.57579427e-02, 3.03548020e-02, 2.20523025e-02,\n",
       "       3.52964114e-04, 3.87350880e-02, 2.09683840e-04, 6.66169503e-02,\n",
       "       3.03981982e-02, 1.66496985e-02, 1.58449379e-02, 1.89580255e-02,\n",
       "       3.41621004e-02, 5.05495990e-02, 3.40160294e-02, 3.68311744e-02,\n",
       "       3.53084456e-02, 7.39313590e-02, 7.41828896e-04, 5.90567844e-02,\n",
       "       4.05442307e-02, 8.84281278e-03, 1.62913731e-03, 8.47491717e-03,\n",
       "       2.69595984e-02, 2.88758211e-02, 4.91785460e-02, 8.14089163e-02,\n",
       "       1.47226437e-02, 4.96875969e-02, 5.34724460e-02, 3.26212481e-02,\n",
       "       1.01892121e-01, 4.43744258e-02, 1.95530697e-02, 7.46627722e-05,\n",
       "       4.78888577e-02, 9.84392138e-03, 3.47815321e-02, 3.58419142e-02,\n",
       "       1.86343921e-03, 6.05705563e-02, 5.90317656e-02, 3.33980699e-02,\n",
       "       2.11028440e-02, 5.31030018e-02, 1.00991240e-01, 1.09939459e-01,\n",
       "       1.21484269e-04, 3.74132247e-04, 7.24514288e-03, 3.62404281e-03,\n",
       "       5.19950608e-02, 2.37437302e-03, 5.64228509e-02, 4.34797014e-06,\n",
       "       2.61661778e-03, 5.99048084e-03, 3.05427294e-02, 6.46085704e-02,\n",
       "       3.43395661e-02, 3.79262310e-02, 3.81918763e-03, 6.08822895e-02,\n",
       "       2.83721653e-02, 1.07637140e-05, 9.40374151e-03, 8.77920250e-02,\n",
       "       9.83089367e-03, 2.44307991e-03, 5.15696260e-03, 1.54712022e-04,\n",
       "       2.76137000e-02, 1.98641507e-02, 4.03851168e-02, 5.20201821e-02,\n",
       "       8.79417246e-04, 2.46710546e-02, 3.95606708e-02, 1.82668873e-02,\n",
       "       4.51803523e-02, 8.98776393e-03, 3.43849098e-02, 7.64441826e-04,\n",
       "       9.00846687e-02, 1.56240966e-01, 1.93671014e-02, 9.04153174e-02,\n",
       "       7.36418212e-02, 4.16410554e-02, 4.93807789e-02, 1.21618024e-04,\n",
       "       3.10165792e-02, 6.32592935e-02, 6.77280408e-02, 5.54682652e-03,\n",
       "       3.59167539e-02, 3.23243538e-02, 9.40298384e-03, 1.74835720e-02,\n",
       "       7.32194556e-02, 4.68911006e-03, 1.94129785e-02, 8.05841255e-02,\n",
       "       1.03450610e-01, 6.06187116e-02, 6.01425207e-02, 1.66751926e-03,\n",
       "       1.09133145e-03, 3.23240137e-02, 1.62775196e-02, 2.15224306e-02,\n",
       "       2.83662624e-02, 2.41989449e-02, 4.88654186e-03, 2.99047223e-03,\n",
       "       9.66520242e-03, 7.12459623e-02, 5.73014390e-03, 2.78941981e-03,\n",
       "       5.84077634e-03, 5.63836175e-03, 9.46920117e-02, 1.38072405e-03,\n",
       "       3.06740827e-02, 1.76257994e-02, 1.19288672e-02, 3.54032100e-03,\n",
       "       9.05118680e-03, 1.56251674e-04, 7.79551585e-02, 5.58523759e-02,\n",
       "       9.05565827e-03, 7.01633009e-02, 9.64821166e-03, 3.81825292e-03,\n",
       "       7.19851802e-03, 2.37206551e-02, 1.84977462e-02, 9.35745616e-02,\n",
       "       3.35174962e-02, 4.63210414e-02, 1.64821833e-02, 1.16267315e-02,\n",
       "       1.07736501e-01, 1.13983185e-01, 6.30526346e-02, 1.71725388e-02,\n",
       "       2.18499927e-02, 1.68155051e-02, 1.14753345e-01, 1.81926789e-03,\n",
       "       8.96797719e-03, 4.92007461e-02, 1.17287427e-01, 1.05433445e-02,\n",
       "       3.43194882e-02, 6.76032124e-02, 6.33880774e-02, 2.22299825e-02,\n",
       "       9.40799971e-02, 2.22123389e-02, 2.19988918e-02, 2.84151096e-02,\n",
       "       6.45859195e-03, 1.14511306e-02, 4.40868057e-04, 8.61387745e-03,\n",
       "       3.97734563e-02, 9.02762103e-03, 4.84513026e-05, 6.38506606e-03])"
      ]
     },
     "execution_count": 14,
     "metadata": {},
     "output_type": "execute_result"
    }
   ],
   "source": [
    "centroids[0]"
   ]
  },
  {
   "cell_type": "code",
   "execution_count": 15,
   "metadata": {},
   "outputs": [
    {
     "data": {
      "text/plain": [
       "array([1.15598113e-02, 4.67950372e-03, 6.05678811e-02, 3.97132080e-02,\n",
       "       6.22929986e-02, 5.17932542e-02, 1.90802872e-02, 8.08006403e-03,\n",
       "       3.38454371e-02, 9.24501245e-02, 4.76434767e-02, 2.14309413e-04,\n",
       "       1.47157980e-02, 4.39299084e-02, 2.07922707e-02, 8.76266483e-02,\n",
       "       4.51024099e-03, 2.02452289e-02, 1.02720359e-01, 3.36181500e-02,\n",
       "       5.73134539e-02, 4.59700931e-02, 1.96533594e-02, 4.41949990e-02,\n",
       "       4.64943211e-02, 8.68415164e-02, 2.48886070e-03, 3.11143059e-02,\n",
       "       3.19192448e-02, 3.00994783e-02, 5.24901817e-02, 5.94389127e-02,\n",
       "       1.92603947e-02, 4.25757926e-02, 5.99674322e-04, 8.55245156e-02,\n",
       "       3.23484668e-02, 1.06046327e-01, 6.63184118e-02, 5.65145204e-03,\n",
       "       2.28252425e-03, 5.34213348e-03, 8.30309599e-03, 5.05610267e-02,\n",
       "       1.51367160e-02, 2.51264247e-02, 1.20286566e-02, 7.87353398e-02,\n",
       "       1.38669667e-02, 3.57596289e-03, 1.14059459e-01, 5.19641733e-02,\n",
       "       9.90687800e-03, 2.19089293e-02, 6.54568893e-02, 3.10062713e-02,\n",
       "       1.44937849e-02, 1.33918865e-02, 1.01999451e-01, 4.55441538e-02,\n",
       "       2.97474282e-02, 1.31914530e-03, 1.75271066e-02, 5.98510689e-03,\n",
       "       7.84031813e-03, 1.92994257e-02, 1.74753855e-02, 8.10783015e-03,\n",
       "       3.63176986e-03, 0.00000000e+00, 1.59209041e-03, 1.99180652e-02,\n",
       "       2.48370945e-02, 1.52257772e-03, 1.71343506e-02, 3.49561998e-03,\n",
       "       4.65401805e-02, 7.23923739e-02, 3.11848430e-02, 2.84773132e-03,\n",
       "       2.25017888e-02, 5.51145765e-02, 1.43325595e-02, 5.41554573e-03,\n",
       "       9.28842565e-02, 3.93734377e-02, 8.28767623e-02, 1.30668033e-05,\n",
       "       4.46870684e-02, 2.45146947e-02, 3.93173548e-02, 5.51308691e-02,\n",
       "       7.95402072e-05, 5.27994579e-02, 9.09465426e-02, 7.48663544e-03,\n",
       "       8.37932734e-02, 7.74946369e-02, 3.09906742e-02, 9.12517770e-03,\n",
       "       2.20578414e-02, 5.65233819e-03, 2.05732893e-03, 1.96829633e-02,\n",
       "       4.64704849e-02, 2.74342361e-02, 7.89853479e-02, 1.37945484e-02,\n",
       "       3.67784405e-02, 1.34377598e-02, 4.29361786e-04, 4.29659986e-02,\n",
       "       2.29506369e-02, 7.78498583e-03, 1.25145212e-02, 1.03951056e-03,\n",
       "       1.91253434e-02, 6.22336888e-02, 3.25500237e-02, 3.87640057e-03,\n",
       "       5.20680211e-02, 8.05291803e-03, 4.08844698e-03, 1.15046561e-03,\n",
       "       4.96209160e-02, 3.00963301e-02, 1.70222399e-03, 1.73321578e-02,\n",
       "       5.86963669e-02, 1.90506972e-02, 2.46251913e-02, 3.90751191e-03,\n",
       "       1.11462757e-02, 1.45432816e-02, 8.53230143e-02, 5.15679631e-02,\n",
       "       5.25229883e-03, 5.15659729e-03, 9.67353509e-03, 7.06863262e-02,\n",
       "       7.78846768e-04, 1.04025546e-01, 1.57991238e-02, 1.49489012e-06,\n",
       "       3.95189547e-03, 8.93479314e-02, 1.12189467e-02, 8.26250108e-02,\n",
       "       2.23172987e-02, 1.49258513e-01, 6.17661371e-02, 6.60243768e-03,\n",
       "       6.17516267e-05, 1.04419484e-04, 5.50475933e-02, 2.06387839e-03,\n",
       "       7.87655395e-03, 4.85579681e-03, 5.87590659e-02, 5.19833196e-03,\n",
       "       2.19545244e-02, 3.97962891e-02, 4.54225934e-03, 6.15175848e-02,\n",
       "       9.34596909e-03, 6.37980225e-02, 3.01282917e-02, 2.41430831e-03,\n",
       "       3.34818746e-02, 1.01539559e-01, 1.19559549e-05, 1.49422876e-02,\n",
       "       4.17185171e-02, 2.71493895e-02, 7.40230486e-03, 5.48519490e-03,\n",
       "       3.25675890e-02, 2.45530454e-02, 5.45735181e-02, 1.61865618e-02,\n",
       "       2.05586641e-04, 4.92677230e-02, 5.09119061e-02, 1.57766485e-02,\n",
       "       5.73995371e-03, 6.77007869e-02, 3.18200242e-02, 3.46183147e-02,\n",
       "       1.93254874e-02, 1.02533895e-03, 3.02763761e-02, 1.68304132e-02,\n",
       "       8.42976480e-02, 5.80596347e-02, 1.46697201e-03, 4.26429613e-02,\n",
       "       5.19812448e-02, 7.94214365e-02, 3.41676097e-02, 2.77791530e-02,\n",
       "       9.85573580e-02, 5.37836697e-03, 2.09702025e-02, 7.24972881e-02,\n",
       "       3.48859879e-02, 7.26121626e-03, 1.75287039e-02, 3.65832326e-03,\n",
       "       1.25352697e-03, 6.85361226e-02, 3.72082595e-04, 3.85807344e-03,\n",
       "       3.46642135e-02, 1.56030947e-02, 7.35030143e-02, 4.53395646e-02,\n",
       "       9.00241014e-03, 2.16573888e-02, 1.08465228e-02, 6.14046726e-02,\n",
       "       7.55736050e-02, 4.87522811e-02, 6.22955649e-03, 3.62796157e-02,\n",
       "       2.24138557e-02, 4.73486848e-03, 1.17024954e-02, 2.20690808e-03,\n",
       "       3.45872132e-02, 1.72050157e-03, 6.11856501e-03, 8.11698097e-04,\n",
       "       1.37409414e-02, 3.56187924e-02, 9.59400616e-03, 1.46020281e-02,\n",
       "       4.79247950e-02, 1.85983845e-02, 1.50742513e-03, 7.56858078e-02,\n",
       "       5.31040954e-03, 2.54676996e-02, 6.60448353e-03, 2.75505538e-02,\n",
       "       1.18756157e-02, 4.12815986e-02, 1.38988355e-02, 3.72090603e-02,\n",
       "       4.55072150e-02, 1.02426054e-02, 3.85714238e-03, 3.00216515e-03,\n",
       "       3.10567464e-02, 1.59385915e-04, 1.36335641e-02, 1.39033842e-03,\n",
       "       3.37413783e-02, 5.35554820e-02, 4.66084856e-03, 9.24821924e-04,\n",
       "       7.45825730e-03, 1.69914885e-03, 1.04079885e-02, 6.58568968e-02,\n",
       "       3.43895764e-02, 6.29977849e-02, 3.74867552e-02, 7.63308960e-03,\n",
       "       1.02468450e-01, 1.00961484e-03, 7.06369153e-02, 1.99586598e-02,\n",
       "       8.95276216e-03, 4.15236691e-02, 1.27391298e-01, 2.01264122e-02,\n",
       "       1.33105569e-02, 7.83968491e-02, 1.72145524e-02, 7.37678337e-03,\n",
       "       4.04297664e-02, 5.40337347e-02, 1.06150314e-01, 1.06659853e-01,\n",
       "       8.77023330e-03, 2.99973923e-02, 5.81992762e-02, 1.84722758e-02,\n",
       "       7.24371252e-02, 6.78783223e-02, 3.61822404e-02, 7.50150254e-02,\n",
       "       9.74317093e-03, 1.94153168e-02, 4.85974691e-02, 4.02639103e-02,\n",
       "       6.12427622e-02, 7.71197544e-02, 5.44331116e-02, 8.24958756e-02,\n",
       "       4.92131192e-02, 8.58095721e-03, 4.30207229e-02, 2.31310144e-02,\n",
       "       1.50572143e-02, 4.47626986e-02, 1.51040856e-03, 1.43971132e-02,\n",
       "       5.79213471e-02, 1.88324976e-02, 3.35337846e-02, 2.65102470e-03,\n",
       "       5.70055130e-02, 1.78870850e-02, 5.33437260e-03, 6.06858435e-03,\n",
       "       7.51354810e-02, 2.16482434e-02, 7.55752741e-02, 2.69933998e-03,\n",
       "       1.14046759e-02, 1.64230233e-02, 2.83143231e-02, 5.92837980e-04,\n",
       "       4.75974319e-02, 1.36574234e-02, 1.44594854e-02, 6.72893470e-04,\n",
       "       6.02001667e-02, 3.58572877e-03, 7.13608758e-03, 4.27361684e-02,\n",
       "       3.39387925e-02, 2.40050464e-03, 6.07348407e-02, 2.40945673e-02,\n",
       "       5.38452480e-02, 4.86458044e-02, 4.73868245e-02, 7.52357634e-02,\n",
       "       1.54918328e-03, 3.44632321e-03, 9.72004128e-03, 5.57392665e-03,\n",
       "       8.01858062e-02, 3.20343268e-02, 9.88369330e-03, 1.51947682e-02,\n",
       "       3.06854488e-04, 1.18383197e-01, 2.27951248e-02, 3.24156400e-02,\n",
       "       9.62763917e-03, 5.07525457e-02, 2.40812122e-03, 2.54225496e-03,\n",
       "       3.82976398e-03, 6.52016187e-02, 6.45250825e-02, 5.13423011e-02,\n",
       "       2.93234710e-02, 1.28161658e-01, 6.57230753e-03, 9.37236166e-02,\n",
       "       5.04246911e-02, 5.19692502e-02, 1.34298210e-02, 2.33654695e-02,\n",
       "       5.58212406e-02, 1.67842640e-02, 3.18618313e-02, 1.82097190e-02,\n",
       "       1.95758630e-02, 2.39534978e-02, 5.07391231e-02, 1.16557447e-02,\n",
       "       2.99726428e-02, 4.52594097e-03, 1.41888159e-02, 5.35495856e-03,\n",
       "       3.93326181e-02, 2.64771697e-02, 6.51748663e-02, 1.31940225e-02,\n",
       "       1.74619525e-02, 2.92391775e-02, 3.90546085e-03, 1.96983865e-02,\n",
       "       3.44081293e-02, 9.84975752e-02, 1.16507631e-03, 1.09990571e-02,\n",
       "       9.95107986e-03, 6.67067353e-02, 2.34231288e-02, 2.75320403e-02,\n",
       "       6.28925925e-02, 2.18216175e-02, 1.38835189e-02, 6.48948369e-02,\n",
       "       4.22450402e-02, 5.68757055e-02, 1.11380853e-03, 8.70968786e-03,\n",
       "       2.54304663e-02, 2.29830204e-02, 5.34533902e-03, 4.05384037e-02,\n",
       "       2.26761018e-02, 4.70861257e-02, 4.42884219e-04, 1.20458029e-04,\n",
       "       4.84985035e-02, 8.02010857e-03, 2.97445698e-02, 1.28065637e-02,\n",
       "       9.72378465e-03, 4.15626527e-02, 2.79003847e-03, 1.53205063e-03,\n",
       "       8.41176321e-02, 2.38411003e-02, 1.24412405e-02, 6.34287664e-03,\n",
       "       7.29882725e-02, 6.39920507e-04, 7.81642564e-04, 1.27749695e-02,\n",
       "       6.87441150e-02, 5.42865479e-02, 3.42629565e-02, 2.01222232e-02,\n",
       "       1.37609548e-02, 3.81103753e-02, 1.80266268e-02, 8.86413878e-02,\n",
       "       7.23897450e-02, 6.14433223e-02, 5.90967545e-02, 1.04086098e-02,\n",
       "       9.46016612e-03, 1.10899253e-03, 8.24662891e-03, 1.21767596e-02,\n",
       "       8.04501318e-02, 5.55184664e-05, 3.81491218e-03, 8.57768513e-02,\n",
       "       1.35161268e-02, 1.05742267e-01, 1.10074526e-01, 6.47084633e-03,\n",
       "       3.59210398e-02, 4.87793118e-02, 7.13062755e-03, 8.63693654e-02,\n",
       "       2.07195267e-02, 6.76950238e-02, 3.34495865e-04, 6.39926618e-02,\n",
       "       3.83989312e-02, 1.93075338e-02, 6.10413976e-03, 2.16777870e-02,\n",
       "       1.17467696e-01, 5.80219402e-02, 1.43991857e-02, 4.06374296e-03,\n",
       "       1.21650392e-04, 9.38617836e-02, 1.22483846e-01, 1.16287302e-02,\n",
       "       2.32341780e-04, 4.22183526e-02, 9.29813672e-04, 2.56075010e-02,\n",
       "       1.18590011e-03, 4.24785703e-02, 4.83112779e-02, 6.48920133e-02,\n",
       "       3.60227641e-02, 4.88810176e-02, 2.76760748e-03, 3.51299686e-02,\n",
       "       3.23214314e-02, 6.29480970e-03, 6.16827723e-05, 3.27090120e-03,\n",
       "       1.18502206e-01, 4.95668824e-02, 4.76132052e-02, 8.03749281e-02,\n",
       "       2.27445803e-02, 2.53354811e-02, 8.49451588e-03, 7.01327540e-04,\n",
       "       2.99825231e-02, 3.97975288e-03, 9.98025722e-03, 3.17414962e-02,\n",
       "       1.58333201e-02, 3.70154989e-02, 3.00654002e-02, 2.68843933e-03,\n",
       "       7.41710664e-05, 6.33433880e-02, 6.00972091e-02, 2.33023230e-02,\n",
       "       3.71383818e-02, 1.42746923e-01, 2.74022299e-03, 1.27808637e-01])"
      ]
     },
     "execution_count": 15,
     "metadata": {},
     "output_type": "execute_result"
    }
   ],
   "source": [
    "centroids[1]"
   ]
  },
  {
   "cell_type": "code",
   "execution_count": 34,
   "metadata": {},
   "outputs": [
    {
     "data": {
      "text/plain": [
       "array([1.15598113e-02, 4.67950372e-03, 6.05678811e-02, 3.97132080e-02,\n",
       "       6.22929986e-02, 5.17932542e-02, 1.90802872e-02, 8.08006403e-03,\n",
       "       3.38454371e-02, 9.24501245e-02, 4.76434767e-02, 2.14309413e-04,\n",
       "       1.47157980e-02, 4.39299084e-02, 2.07922707e-02, 8.76266483e-02,\n",
       "       4.51024099e-03, 2.02452289e-02, 1.02720359e-01, 3.36181500e-02,\n",
       "       5.73134539e-02, 4.59700931e-02, 1.96533594e-02, 4.41949990e-02,\n",
       "       4.64943211e-02, 8.68415164e-02, 2.48886070e-03, 3.11143059e-02,\n",
       "       3.19192448e-02, 3.00994783e-02, 5.24901817e-02, 5.94389127e-02,\n",
       "       1.92603947e-02, 4.25757926e-02, 5.99674322e-04, 8.55245156e-02,\n",
       "       3.23484668e-02, 1.06046327e-01, 6.63184118e-02, 5.65145204e-03,\n",
       "       2.28252425e-03, 5.34213348e-03, 8.30309599e-03, 5.05610267e-02,\n",
       "       1.51367160e-02, 2.51264247e-02, 1.20286566e-02, 7.87353398e-02,\n",
       "       1.38669667e-02, 3.57596289e-03, 1.14059459e-01, 5.19641733e-02,\n",
       "       9.90687800e-03, 2.19089293e-02, 6.54568893e-02, 3.10062713e-02,\n",
       "       1.44937849e-02, 1.33918865e-02, 1.01999451e-01, 4.55441538e-02,\n",
       "       2.97474282e-02, 1.31914530e-03, 1.75271066e-02, 5.98510689e-03,\n",
       "       7.84031813e-03, 1.92994257e-02, 1.74753855e-02, 8.10783015e-03,\n",
       "       3.63176986e-03, 0.00000000e+00, 1.59209041e-03, 1.99180652e-02,\n",
       "       2.48370945e-02, 1.52257772e-03, 1.71343506e-02, 3.49561998e-03,\n",
       "       4.65401805e-02, 7.23923739e-02, 3.11848430e-02, 2.84773132e-03,\n",
       "       2.25017888e-02, 5.51145765e-02, 1.43325595e-02, 5.41554573e-03,\n",
       "       9.28842565e-02, 3.93734377e-02, 8.28767623e-02, 1.30668033e-05,\n",
       "       4.46870684e-02, 2.45146947e-02, 3.93173548e-02, 5.51308691e-02,\n",
       "       7.95402072e-05, 5.27994579e-02, 9.09465426e-02, 7.48663544e-03,\n",
       "       8.37932734e-02, 7.74946369e-02, 3.09906742e-02, 9.12517770e-03,\n",
       "       2.20578414e-02, 5.65233819e-03, 2.05732893e-03, 1.96829633e-02,\n",
       "       4.64704849e-02, 2.74342361e-02, 7.89853479e-02, 1.37945484e-02,\n",
       "       3.67784405e-02, 1.34377598e-02, 4.29361786e-04, 4.29659986e-02,\n",
       "       2.29506369e-02, 7.78498583e-03, 1.25145212e-02, 1.03951056e-03,\n",
       "       1.91253434e-02, 6.22336888e-02, 3.25500237e-02, 3.87640057e-03,\n",
       "       5.20680211e-02, 8.05291803e-03, 4.08844698e-03, 1.15046561e-03,\n",
       "       4.96209160e-02, 3.00963301e-02, 1.70222399e-03, 1.73321578e-02,\n",
       "       5.86963669e-02, 1.90506972e-02, 2.46251913e-02, 3.90751191e-03,\n",
       "       1.11462757e-02, 1.45432816e-02, 8.53230143e-02, 5.15679631e-02,\n",
       "       5.25229883e-03, 5.15659729e-03, 9.67353509e-03, 7.06863262e-02,\n",
       "       7.78846768e-04, 1.04025546e-01, 1.57991238e-02, 1.49489012e-06,\n",
       "       3.95189547e-03, 8.93479314e-02, 1.12189467e-02, 8.26250108e-02,\n",
       "       2.23172987e-02, 1.49258513e-01, 6.17661371e-02, 6.60243768e-03,\n",
       "       6.17516267e-05, 1.04419484e-04, 5.50475933e-02, 2.06387839e-03,\n",
       "       7.87655395e-03, 4.85579681e-03, 5.87590659e-02, 5.19833196e-03,\n",
       "       2.19545244e-02, 3.97962891e-02, 4.54225934e-03, 6.15175848e-02,\n",
       "       9.34596909e-03, 6.37980225e-02, 3.01282917e-02, 2.41430831e-03,\n",
       "       3.34818746e-02, 1.01539559e-01, 1.19559549e-05, 1.49422876e-02,\n",
       "       4.17185171e-02, 2.71493895e-02, 7.40230486e-03, 5.48519490e-03,\n",
       "       3.25675890e-02, 2.45530454e-02, 5.45735181e-02, 1.61865618e-02,\n",
       "       2.05586641e-04, 4.92677230e-02, 5.09119061e-02, 1.57766485e-02,\n",
       "       5.73995371e-03, 6.77007869e-02, 3.18200242e-02, 3.46183147e-02,\n",
       "       1.93254874e-02, 1.02533895e-03, 3.02763761e-02, 1.68304132e-02,\n",
       "       8.42976480e-02, 5.80596347e-02, 1.46697201e-03, 4.26429613e-02,\n",
       "       5.19812448e-02, 7.94214365e-02, 3.41676097e-02, 2.77791530e-02,\n",
       "       9.85573580e-02, 5.37836697e-03, 2.09702025e-02, 7.24972881e-02,\n",
       "       3.48859879e-02, 7.26121626e-03, 1.75287039e-02, 3.65832326e-03,\n",
       "       1.25352697e-03, 6.85361226e-02, 3.72082595e-04, 3.85807344e-03,\n",
       "       3.46642135e-02, 1.56030947e-02, 7.35030143e-02, 4.53395646e-02,\n",
       "       9.00241014e-03, 2.16573888e-02, 1.08465228e-02, 6.14046726e-02,\n",
       "       7.55736050e-02, 4.87522811e-02, 6.22955649e-03, 3.62796157e-02,\n",
       "       2.24138557e-02, 4.73486848e-03, 1.17024954e-02, 2.20690808e-03,\n",
       "       3.45872132e-02, 1.72050157e-03, 6.11856501e-03, 8.11698097e-04,\n",
       "       1.37409414e-02, 3.56187924e-02, 9.59400616e-03, 1.46020281e-02,\n",
       "       4.79247950e-02, 1.85983845e-02, 1.50742513e-03, 7.56858078e-02,\n",
       "       5.31040954e-03, 2.54676996e-02, 6.60448353e-03, 2.75505538e-02,\n",
       "       1.18756157e-02, 4.12815986e-02, 1.38988355e-02, 3.72090603e-02,\n",
       "       4.55072150e-02, 1.02426054e-02, 3.85714238e-03, 3.00216515e-03,\n",
       "       3.10567464e-02, 1.59385915e-04, 1.36335641e-02, 1.39033842e-03,\n",
       "       3.37413783e-02, 5.35554820e-02, 4.66084856e-03, 9.24821924e-04,\n",
       "       7.45825730e-03, 1.69914885e-03, 1.04079885e-02, 6.58568968e-02,\n",
       "       3.43895764e-02, 6.29977849e-02, 3.74867552e-02, 7.63308960e-03,\n",
       "       1.02468450e-01, 1.00961484e-03, 7.06369153e-02, 1.99586598e-02,\n",
       "       8.95276216e-03, 4.15236691e-02, 1.27391298e-01, 2.01264122e-02,\n",
       "       1.33105569e-02, 7.83968491e-02, 1.72145524e-02, 7.37678337e-03,\n",
       "       4.04297664e-02, 5.40337347e-02, 1.06150314e-01, 1.06659853e-01,\n",
       "       8.77023330e-03, 2.99973923e-02, 5.81992762e-02, 1.84722758e-02,\n",
       "       7.24371252e-02, 6.78783223e-02, 3.61822404e-02, 7.50150254e-02,\n",
       "       9.74317093e-03, 1.94153168e-02, 4.85974691e-02, 4.02639103e-02,\n",
       "       6.12427622e-02, 7.71197544e-02, 5.44331116e-02, 8.24958756e-02,\n",
       "       4.92131192e-02, 8.58095721e-03, 4.30207229e-02, 2.31310144e-02,\n",
       "       1.50572143e-02, 4.47626986e-02, 1.51040856e-03, 1.43971132e-02,\n",
       "       5.79213471e-02, 1.88324976e-02, 3.35337846e-02, 2.65102470e-03,\n",
       "       5.70055130e-02, 1.78870850e-02, 5.33437260e-03, 6.06858435e-03,\n",
       "       7.51354810e-02, 2.16482434e-02, 7.55752741e-02, 2.69933998e-03,\n",
       "       1.14046759e-02, 1.64230233e-02, 2.83143231e-02, 5.92837980e-04,\n",
       "       4.75974319e-02, 1.36574234e-02, 1.44594854e-02, 6.72893470e-04,\n",
       "       6.02001667e-02, 3.58572877e-03, 7.13608758e-03, 4.27361684e-02,\n",
       "       3.39387925e-02, 2.40050464e-03, 6.07348407e-02, 2.40945673e-02,\n",
       "       5.38452480e-02, 4.86458044e-02, 4.73868245e-02, 7.52357634e-02,\n",
       "       1.54918328e-03, 3.44632321e-03, 9.72004128e-03, 5.57392665e-03,\n",
       "       8.01858062e-02, 3.20343268e-02, 9.88369330e-03, 1.51947682e-02,\n",
       "       3.06854488e-04, 1.18383197e-01, 2.27951248e-02, 3.24156400e-02,\n",
       "       9.62763917e-03, 5.07525457e-02, 2.40812122e-03, 2.54225496e-03,\n",
       "       3.82976398e-03, 6.52016187e-02, 6.45250825e-02, 5.13423011e-02,\n",
       "       2.93234710e-02, 1.28161658e-01, 6.57230753e-03, 9.37236166e-02,\n",
       "       5.04246911e-02, 5.19692502e-02, 1.34298210e-02, 2.33654695e-02,\n",
       "       5.58212406e-02, 1.67842640e-02, 3.18618313e-02, 1.82097190e-02,\n",
       "       1.95758630e-02, 2.39534978e-02, 5.07391231e-02, 1.16557447e-02,\n",
       "       2.99726428e-02, 4.52594097e-03, 1.41888159e-02, 5.35495856e-03,\n",
       "       3.93326181e-02, 2.64771697e-02, 6.51748663e-02, 1.31940225e-02,\n",
       "       1.74619525e-02, 2.92391775e-02, 3.90546085e-03, 1.96983865e-02,\n",
       "       3.44081293e-02, 9.84975752e-02, 1.16507631e-03, 1.09990571e-02,\n",
       "       9.95107986e-03, 6.67067353e-02, 2.34231288e-02, 2.75320403e-02,\n",
       "       6.28925925e-02, 2.18216175e-02, 1.38835189e-02, 6.48948369e-02,\n",
       "       4.22450402e-02, 5.68757055e-02, 1.11380853e-03, 8.70968786e-03,\n",
       "       2.54304663e-02, 2.29830204e-02, 5.34533902e-03, 4.05384037e-02,\n",
       "       2.26761018e-02, 4.70861257e-02, 4.42884219e-04, 1.20458029e-04,\n",
       "       4.84985035e-02, 8.02010857e-03, 2.97445698e-02, 1.28065637e-02,\n",
       "       9.72378465e-03, 4.15626527e-02, 2.79003847e-03, 1.53205063e-03,\n",
       "       8.41176321e-02, 2.38411003e-02, 1.24412405e-02, 6.34287664e-03,\n",
       "       7.29882725e-02, 6.39920507e-04, 7.81642564e-04, 1.27749695e-02,\n",
       "       6.87441150e-02, 5.42865479e-02, 3.42629565e-02, 2.01222232e-02,\n",
       "       1.37609548e-02, 3.81103753e-02, 1.80266268e-02, 8.86413878e-02,\n",
       "       7.23897450e-02, 6.14433223e-02, 5.90967545e-02, 1.04086098e-02,\n",
       "       9.46016612e-03, 1.10899253e-03, 8.24662891e-03, 1.21767596e-02,\n",
       "       8.04501318e-02, 5.55184664e-05, 3.81491218e-03, 8.57768513e-02,\n",
       "       1.35161268e-02, 1.05742267e-01, 1.10074526e-01, 6.47084633e-03,\n",
       "       3.59210398e-02, 4.87793118e-02, 7.13062755e-03, 8.63693654e-02,\n",
       "       2.07195267e-02, 6.76950238e-02, 3.34495865e-04, 6.39926618e-02,\n",
       "       3.83989312e-02, 1.93075338e-02, 6.10413976e-03, 2.16777870e-02,\n",
       "       1.17467696e-01, 5.80219402e-02, 1.43991857e-02, 4.06374296e-03,\n",
       "       1.21650392e-04, 9.38617836e-02, 1.22483846e-01, 1.16287302e-02,\n",
       "       2.32341780e-04, 4.22183526e-02, 9.29813672e-04, 2.56075010e-02,\n",
       "       1.18590011e-03, 4.24785703e-02, 4.83112779e-02, 6.48920133e-02,\n",
       "       3.60227641e-02, 4.88810176e-02, 2.76760748e-03, 3.51299686e-02,\n",
       "       3.23214314e-02, 6.29480970e-03, 6.16827723e-05, 3.27090120e-03,\n",
       "       1.18502206e-01, 4.95668824e-02, 4.76132052e-02, 8.03749281e-02,\n",
       "       2.27445803e-02, 2.53354811e-02, 8.49451588e-03, 7.01327540e-04,\n",
       "       2.99825231e-02, 3.97975288e-03, 9.98025722e-03, 3.17414962e-02,\n",
       "       1.58333201e-02, 3.70154989e-02, 3.00654002e-02, 2.68843933e-03,\n",
       "       7.41710664e-05, 6.33433880e-02, 6.00972091e-02, 2.33023230e-02,\n",
       "       3.71383818e-02, 1.42746923e-01, 2.74022299e-03, 1.27808637e-01])"
      ]
     },
     "execution_count": 34,
     "metadata": {},
     "output_type": "execute_result"
    }
   ],
   "source": [
    "centroids[1]"
   ]
  },
  {
   "cell_type": "code",
   "execution_count": 35,
   "metadata": {},
   "outputs": [
    {
     "data": {
      "text/plain": [
       "(512,)"
      ]
     },
     "execution_count": 35,
     "metadata": {},
     "output_type": "execute_result"
    }
   ],
   "source": [
    "centroids[1].shape"
   ]
  },
  {
   "cell_type": "code",
   "execution_count": 36,
   "metadata": {},
   "outputs": [
    {
     "data": {
      "text/plain": [
       "dtype('float64')"
      ]
     },
     "execution_count": 36,
     "metadata": {},
     "output_type": "execute_result"
    }
   ],
   "source": [
    "centroids[1].dtype"
   ]
  },
  {
   "cell_type": "code",
   "execution_count": 37,
   "metadata": {},
   "outputs": [
    {
     "name": "stdout",
     "output_type": "stream",
     "text": [
      "The centroid is already normalized.\n"
     ]
    }
   ],
   "source": [
    "# Calculate the L2 norm of the centroid\n",
    "norm = np.linalg.norm(centroids[1])\n",
    "\n",
    "# Check if the norm is close to 1\n",
    "if np.isclose(norm, 1.0, atol=1e-6):\n",
    "    print(\"The centroid is already normalized.\")\n",
    "else:\n",
    "    print(f\"The centroid is not normalized. Norm: {norm}\")"
   ]
  },
  {
   "cell_type": "code",
   "execution_count": 27,
   "metadata": {},
   "outputs": [
    {
     "name": "stdout",
     "output_type": "stream",
     "text": [
      "Centroid saved to C:\\Users\\k54739\\Bibi_new_thesis\\thesis\\Source_Code\\Ranking(prediction)_model\\kmeans_ranking\\cosine\\three_class_cosine_centroid.pt\n"
     ]
    }
   ],
   "source": [
    "import torch\n",
    "\n",
    "# Convert the centroid to a PyTorch tensor\n",
    "three_class_cosine_centroid = torch.tensor(three_class_cosine_centroid)\n",
    "\n",
    "# Define the specific path\n",
    "save_path_torch = r\"C:\\Users\\k54739\\Bibi_new_thesis\\thesis\\Source_Code\\Ranking(prediction)_model\\kmeans_ranking\\cosine\\three_class_cosine_centroid.pt\"\n",
    "\n",
    "# Save the centroid tensor\n",
    "torch.save(three_class_cosine_centroid, save_path_torch)\n",
    "print(f\"Centroid saved to {save_path_torch}\")\n"
   ]
  },
  {
   "cell_type": "code",
   "execution_count": 16,
   "metadata": {},
   "outputs": [
    {
     "name": "stdout",
     "output_type": "stream",
     "text": [
      "Cluster assignments: [1 1 0 2 2 0 0 0 2 2 1 2 2 1 2 0 2 0 1 2 2 0 2 0 2 2 2 2 0 0 0 2 2 1 2 2 0\n",
      " 0 0 2 0 0 0 2 2 0 2 1 0 2 2 2 1 0 1 2 0 0 0 0 0 0 1 2 2 1 2 2 2 2 0 2 2 1\n",
      " 0 0 0 0 0 2 2 0 0 0 0 2 2 2 2 2 1 0 2 0 0 0 2 0 0 0 2 2 2 0 2 2 2 2 2 0 0\n",
      " 1 0 2 0 1 2 0 0 0 2 0 0 2 2 0 2 0 0 2 2 1 1 0 0 0 2 2 0 2 0 2 2 2 2 0 0 2\n",
      " 0 2 2 2 0 0 2 0 0 2 0 2 0 0 2 2 0 0 0 2 0 2 2 0 2 2 2 2 2 0 2 0 0 0 2 0 2\n",
      " 0 2 0 1 2 2 2 1 2 2 0 0 1 2 2 2 2 2 2 2 0 2 1 1 1 0 2 0 0 2 2 0 1 1 0 2 2\n",
      " 2 2 1 0 2 0 0 2 0 0 2 2 2 2 1 0 1 2 0 2 2 2 0 2 2 0 1 0 0 0]\n",
      "True labels: [2 2 1 0 0 1 1 1 0 0 2 0 0 2 0 1 0 1 2 0 0 1 0 1 0 0 0 0 1 1 1 0 0 2 0 0 1\n",
      " 1 1 0 1 1 1 0 0 1 0 2 1 0 0 0 2 1 2 0 1 1 1 1 1 1 2 0 0 2 0 0 0 0 1 0 0 2\n",
      " 1 1 1 1 1 0 0 1 1 1 1 0 0 0 0 0 2 1 0 1 1 1 0 1 1 1 0 0 0 1 0 0 0 0 0 1 1\n",
      " 2 1 0 1 2 0 1 1 1 0 1 1 0 0 1 0 1 1 0 0 2 2 1 1 1 0 0 1 0 1 0 0 0 0 1 1 0\n",
      " 1 0 0 0 1 1 0 1 1 0 1 0 1 1 0 0 1 1 1 0 1 0 0 1 0 0 0 0 0 1 0 1 1 1 0 1 0\n",
      " 1 0 1 2 0 0 0 2 0 0 1 1 2 0 0 0 0 0 0 0 1 0 2 2 2 1 0 1 1 0 0 1 2 2 1 0 0\n",
      " 0 0 2 1 0 1 1 0 1 1 0 0 0 0 2 1 2 0 1 0 0 0 1 0 0 1 2 1 1 1]\n"
     ]
    }
   ],
   "source": [
    "print(\"Cluster assignments:\", idx)\n",
    "print(\"True labels:\", labels_np)"
   ]
  },
  {
   "cell_type": "code",
   "execution_count": 17,
   "metadata": {},
   "outputs": [
    {
     "name": "stdout",
     "output_type": "stream",
     "text": [
      "Cluster assignments: [2 1 0 2 2 0 0 0 2 2 1 2 2 1 2 0 2 0 1 2 2 0 2 0 2 2 2 2 0 0 0 2 2 1 2 2 0\n",
      " 0 0 2 0 0 0 2 2 0 2 1 0 2 2 2 1 0 1 2 0 0 0 2 0 0 1 2 2 1 2 2 2 2 0 2 2 1\n",
      " 0 0 0 0 0 2 2 0 2 0 0 2 2 2 2 2 0 0 2 0 0 0 2 0 0 0 2 2 2 0 2 2 2 2 2 0 0\n",
      " 0 2 2 0 1 2 0 0 0 2 0 0 2 2 0 2 0 0 2 2 1 1 0 0 0 2 2 0 2 0 2 2 2 2 0 0 2\n",
      " 0 2 2 2 0 0 2 0 0 2 0 1 0 0 2 2 0 0 0 2 0 2 2 0 2 2 2 2 2 0 2 0 0 0 2 0 2\n",
      " 0 2 0 1 2 2 2 1 2 2 0 0 1 2 2 2 2 2 2 2 0 2 1 1 1 0 2 0 0 2 2 0 1 1 0 2 2\n",
      " 2 2 1 0 2 0 0 2 0 0 2 2 2 2 1 0 1 2 0 2 1 2 0 2 2 0 1 2 0 0]\n",
      "True labels: [2 2 1 0 0 1 1 1 0 0 2 0 0 2 0 1 0 1 2 0 0 1 0 1 0 0 0 0 1 1 1 0 0 2 0 0 1\n",
      " 1 1 0 1 1 1 0 0 1 0 2 1 0 0 0 2 1 2 0 1 1 1 1 1 1 2 0 0 2 0 0 0 0 1 0 0 2\n",
      " 1 1 1 1 1 0 0 1 1 1 1 0 0 0 0 0 2 1 0 1 1 1 0 1 1 1 0 0 0 1 0 0 0 0 0 1 1\n",
      " 2 1 0 1 2 0 1 1 1 0 1 1 0 0 1 0 1 1 0 0 2 2 1 1 1 0 0 1 0 1 0 0 0 0 1 1 0\n",
      " 1 0 0 0 1 1 0 1 1 0 1 0 1 1 0 0 1 1 1 0 1 0 0 1 0 0 0 0 0 1 0 1 1 1 0 1 0\n",
      " 1 0 1 2 0 0 0 2 0 0 1 1 2 0 0 0 0 0 0 0 1 0 2 2 2 1 0 1 1 0 0 1 2 2 1 0 0\n",
      " 0 0 2 1 0 1 1 0 1 1 0 0 0 0 2 1 2 0 1 0 0 0 1 0 0 1 2 1 1 1]\n"
     ]
    }
   ],
   "source": [
    "print(\"Cluster assignments:\", best_idx)\n",
    "print(\"True labels:\", labels_np)"
   ]
  },
  {
   "cell_type": "code",
   "execution_count": 20,
   "metadata": {},
   "outputs": [
    {
     "name": "stdout",
     "output_type": "stream",
     "text": [
      "Cluster 0 has true labels: Counter({1: 103})\n",
      "Cluster 1 has true labels: Counter({2: 29})\n",
      "Cluster 2 has true labels: Counter({0: 120})\n"
     ]
    }
   ],
   "source": [
    "from collections import Counter\n",
    "import numpy as np\n",
    "\n",
    "# Assuming `idx` contains the cluster assignments from KMeans\n",
    "# and `labels` contains the true labels\n",
    "\n",
    "K = len(np.unique(idx))  # Number of clusters\n",
    "\n",
    "# Iterate over each cluster and count the true labels in that cluster\n",
    "for cluster in range(K):\n",
    "    # Find the indices of images assigned to the current cluster\n",
    "    cluster_indices = np.where(idx == cluster)[0]\n",
    "    \n",
    "    # Get the true labels for the images in this cluster\n",
    "    cluster_labels = labels_np[cluster_indices]\n",
    "    \n",
    "    # Use Counter to count occurrences of each label in the cluster\n",
    "    label_counts = Counter(cluster_labels)\n",
    "    \n",
    "    # Print the result\n",
    "    print(f\"Cluster {cluster} has true labels: {label_counts}\")\n"
   ]
  },
  {
   "cell_type": "code",
   "execution_count": 21,
   "metadata": {},
   "outputs": [
    {
     "name": "stdout",
     "output_type": "stream",
     "text": [
      "Cluster 0 has true labels: Counter({1: 84})\n",
      "Cluster 1 has true labels: Counter({2: 28, 0: 5})\n",
      "Cluster 2 has true labels: Counter({0: 115, 1: 19, 2: 1})\n"
     ]
    }
   ],
   "source": [
    "K = len(np.unique(best_idx))  # Number of clusters\n",
    "\n",
    "# Iterate over each cluster and count the true labels in that cluster\n",
    "for cluster in range(K):\n",
    "    # Find the indices of images assigned to the current cluster\n",
    "    cluster_indices = np.where(best_idx == cluster)[0]\n",
    "    \n",
    "    # Get the true labels for the images in this cluster\n",
    "    cluster_labels = labels_np[cluster_indices]\n",
    "    \n",
    "    # Use Counter to count occurrences of each label in the cluster\n",
    "    label_counts = Counter(cluster_labels)\n",
    "    \n",
    "    # Print the result\n",
    "    print(f\"Cluster {cluster} has true labels: {label_counts}\")"
   ]
  },
  {
   "cell_type": "code",
   "execution_count": 22,
   "metadata": {},
   "outputs": [],
   "source": [
    "from scipy.stats import mode\n",
    "import numpy as np\n",
    "\n",
    "# Function to reorder K-Means labels to match true labels\n",
    "def reorder_labels(true_labels, predicted_labels):\n",
    "    reordered_labels = np.zeros_like(predicted_labels)\n",
    "\n",
    "    for cluster in np.unique(predicted_labels):\n",
    "        mask = (predicted_labels == cluster)\n",
    "        # Use mode and handle cases where mode() returns a scalar\n",
    "        most_common_label = mode(true_labels[mask], axis=None).mode  # Get the mode for the current cluster\n",
    "        if isinstance(most_common_label, np.ndarray):\n",
    "            most_common_label = most_common_label[0]  # Safely extract the mode value if it's an array\n",
    "        \n",
    "        reordered_labels[mask] = most_common_label\n",
    "\n",
    "    return reordered_labels\n",
    "\n",
    "\n"
   ]
  },
  {
   "cell_type": "code",
   "execution_count": 23,
   "metadata": {},
   "outputs": [
    {
     "name": "stdout",
     "output_type": "stream",
     "text": [
      "Accuracy: 100.00%\n"
     ]
    }
   ],
   "source": [
    "# Apply this after running K-Means\n",
    "reordered_idx = reorder_labels(labels_np, idx)\n",
    "\n",
    "# Now you can compare `reordered_idx` with `labels` to evaluate accuracy\n",
    "accuracy = np.sum(reordered_idx == labels_np) / len(labels_np) * 100\n",
    "print(f\"Accuracy: {accuracy:.2f}%\")"
   ]
  },
  {
   "cell_type": "code",
   "execution_count": 24,
   "metadata": {},
   "outputs": [
    {
     "name": "stdout",
     "output_type": "stream",
     "text": [
      "Accuracy: 90.08%\n"
     ]
    }
   ],
   "source": [
    "# Apply this after running K-Means\n",
    "reordered_idx = reorder_labels(labels_np, best_idx)\n",
    "\n",
    "# Now you can compare `reordered_idx` with `labels` to evaluate accuracy\n",
    "accuracy = np.sum(reordered_idx == labels_np) / len(labels_np) * 100\n",
    "print(f\"Accuracy: {accuracy:.2f}%\")"
   ]
  },
  {
   "cell_type": "markdown",
   "metadata": {},
   "source": [
    "iteration 1: 90%\n",
    "\n",
    "iteration 2: 96.67%\n",
    "\n",
    "iteration 3: 95%"
   ]
  },
  {
   "cell_type": "code",
   "execution_count": 25,
   "metadata": {},
   "outputs": [],
   "source": [
    "import matplotlib.pyplot as plt\n",
    "from sklearn.decomposition import PCA"
   ]
  },
  {
   "cell_type": "code",
   "execution_count": 26,
   "metadata": {},
   "outputs": [],
   "source": [
    "# Function to reduce the dimensionality of data points and centroids to 2D using PCA\n",
    "def reduce_to_2D_pca(X, centroids):\n",
    "    # Initialize PCA with 2 components\n",
    "    pca = PCA(n_components=2)\n",
    "    \n",
    "    # Apply PCA to the data points (X) and centroids\n",
    "    X_2D = pca.fit_transform(X)  # Reducing original data points\n",
    "    centroids_2D = pca.transform(centroids)  # Reducing centroids\n",
    "\n",
    "    return X_2D, centroids_2D\n",
    "\n",
    "# Function to plot 2D visualization of clustered data points and centroids with true labels\n",
    "def plot_2D_clusters_with_labels(X_2D, centroids_2D, idx, labels, K):\n",
    "    plt.figure(figsize=(10, 7))\n",
    "    \n",
    "    # Define color map for clusters\n",
    "    colors = plt.cm.rainbow(np.linspace(0, 1, K))\n",
    "    \n",
    "    # Plot data points colored by their cluster assignment\n",
    "    for k in range(K):\n",
    "        cluster_points = X_2D[idx == k]\n",
    "        cluster_labels = labels[idx == k]  # Get true labels for the current cluster\n",
    "        \n",
    "        # Scatter plot for each cluster\n",
    "        plt.scatter(cluster_points[:, 0], cluster_points[:, 1], \n",
    "                    c=[colors[k]], label=f\"Cluster {k+1}\", alpha=0.6)\n",
    "        \n",
    "        # Annotate each point with its true label\n",
    "        for i in range(cluster_points.shape[0]):\n",
    "            plt.annotate(str(cluster_labels[i]), \n",
    "                         (cluster_points[i, 0], cluster_points[i, 1]), \n",
    "                         fontsize=8, alpha=0.75)\n",
    "\n",
    "    # Plot centroids as larger markers\n",
    "    plt.scatter(centroids_2D[:, 0], centroids_2D[:, 1], \n",
    "                c='k', marker='x', s=200, label='Centroids')\n",
    "\n",
    "    plt.title(\"2D Visualization of Clusters using PCA with True Labels\")\n",
    "    plt.xlabel(\"Component 1\")\n",
    "    plt.ylabel(\"Component 2\")\n",
    "    plt.legend()\n",
    "    plt.grid()\n",
    "    plt.show()\n"
   ]
  },
  {
   "cell_type": "code",
   "execution_count": 27,
   "metadata": {},
   "outputs": [
    {
     "data": {
      "image/png": "[encoded data removed]",
      "text/plain": [
       "<Figure size 1000x700 with 1 Axes>"
      ]
     },
     "metadata": {},
     "output_type": "display_data"
    }
   ],
   "source": [
    "# Apply PCA after K-Means clustering for 2D visualization\n",
    "X_2D_pca, centroids_2D_pca = reduce_to_2D_pca(feats_np_norm, centroids)\n",
    "\n",
    "# Plot the 2D clusters with centroids and true labels\n",
    "plot_2D_clusters_with_labels(X_2D_pca, centroids_2D_pca, idx, labels_np, K)\n"
   ]
  },
  {
   "cell_type": "code",
   "execution_count": 28,
   "metadata": {},
   "outputs": [
    {
     "data": {
      "image/png": "[encoded data removed]",
      "text/plain": [
       "<Figure size 1000x700 with 1 Axes>"
      ]
     },
     "metadata": {},
     "output_type": "display_data"
    }
   ],
   "source": [
    "# Apply PCA after K-Means clustering for 2D visualization\n",
    "X_2D_pca, centroids_2D_pca = reduce_to_2D_pca(feats_np_norm, best_centroids)\n",
    "\n",
    "# Plot the 2D clusters with centroids and true labels\n",
    "plot_2D_clusters_with_labels(X_2D_pca, centroids_2D_pca, best_idx, labels_np, K)\n"
   ]
  },
  {
   "cell_type": "code",
   "execution_count": 16,
   "metadata": {},
   "outputs": [
    {
     "data": {
      "text/plain": [
       "array([[ 0.28261852, -0.0924701 ,  0.24212512,  0.31681408,  0.42732675,\n",
       "        -0.44862802,  0.16855115,  0.05840456, -0.10657153,  0.14835258,\n",
       "        -0.04822515, -0.11988655,  0.0321827 ,  0.14044412, -0.02137255,\n",
       "         0.19288546, -0.3101866 , -0.05376106, -0.20260944, -0.29705494]])"
      ]
     },
     "execution_count": 16,
     "metadata": {},
     "output_type": "execute_result"
    }
   ],
   "source": [
    "centroids"
   ]
  },
  {
   "cell_type": "code",
   "execution_count": 30,
   "metadata": {},
   "outputs": [
    {
     "data": {
      "text/plain": [
       "array([ 0.28263154, -0.09249369,  0.2421204 ,  0.31683269,  0.42731519,\n",
       "       -0.44861475,  0.16854933,  0.05839664, -0.10657528,  0.14836813,\n",
       "       -0.04821702, -0.11987846,  0.0321595 ,  0.14043956, -0.02137703,\n",
       "        0.19286596, -0.31018837, -0.05373485, -0.2026347 , -0.29705662])"
      ]
     },
     "execution_count": 30,
     "metadata": {},
     "output_type": "execute_result"
    }
   ],
   "source": [
    "zero = centroids[0]\n",
    "zero"
   ]
  },
  {
   "cell_type": "code",
   "execution_count": 33,
   "metadata": {},
   "outputs": [],
   "source": [
    "np.save(\"zero.npy\", zero)"
   ]
  },
  {
   "cell_type": "code",
   "execution_count": 31,
   "metadata": {},
   "outputs": [
    {
     "data": {
      "text/plain": [
       "array([-0.06184631,  0.04334589, -0.38767992, -0.18555666, -0.64225565,\n",
       "        0.22307334, -0.27398839, -0.05853228,  0.11058331,  0.25813153,\n",
       "        0.14313728, -0.11947085,  0.10137305, -0.2319628 ,  0.06505208,\n",
       "       -0.0076207 ,  0.01123894, -0.05805344,  0.24851468,  0.14686117])"
      ]
     },
     "execution_count": 31,
     "metadata": {},
     "output_type": "execute_result"
    }
   ],
   "source": [
    "one = centroids[1]\n",
    "one"
   ]
  },
  {
   "cell_type": "code",
   "execution_count": 34,
   "metadata": {},
   "outputs": [],
   "source": [
    "np.save(\"one.npy\", one)"
   ]
  },
  {
   "cell_type": "code",
   "execution_count": 32,
   "metadata": {},
   "outputs": [
    {
     "data": {
      "text/plain": [
       "array([-0.0757873 ,  0.17342265, -0.14994955,  0.35268892, -0.02477265,\n",
       "        0.19132724, -0.15648683, -0.04868153, -0.11102343, -0.19379191,\n",
       "       -0.23139102, -0.12355512, -0.36966273, -0.10051253, -0.09718836,\n",
       "        0.64236949,  0.17044156, -0.07254559, -0.00895291, -0.17694279])"
      ]
     },
     "execution_count": 32,
     "metadata": {},
     "output_type": "execute_result"
    }
   ],
   "source": [
    "two = centroids[2]\n",
    "two"
   ]
  },
  {
   "cell_type": "code",
   "execution_count": 35,
   "metadata": {},
   "outputs": [],
   "source": [
    "np.save(\"two.npy\", two)"
   ]
  },
  {
   "cell_type": "code",
   "execution_count": null,
   "metadata": {},
   "outputs": [],
   "source": []
  }
 ],
 "metadata": {
  "kernelspec": {
   "display_name": "master",
   "language": "python",
   "name": "python3"
  },
  "language_info": {
   "codemirror_mode": {
    "name": "ipython",
    "version": 3
   },
   "file_extension": ".py",
   "mimetype": "text/x-python",
   "name": "python",
   "nbconvert_exporter": "python",
   "pygments_lexer": "ipython3",
   "version": "3.12.4"
  }
 },
 "nbformat": 4,
 "nbformat_minor": 2
}
