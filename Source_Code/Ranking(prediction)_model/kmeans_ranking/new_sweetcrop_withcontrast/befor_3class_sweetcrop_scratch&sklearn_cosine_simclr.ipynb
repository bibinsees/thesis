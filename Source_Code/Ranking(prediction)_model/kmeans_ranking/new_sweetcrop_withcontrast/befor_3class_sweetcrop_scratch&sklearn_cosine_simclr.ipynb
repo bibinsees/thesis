{
 "cells": [
  {
   "cell_type": "code",
   "execution_count": 1,
   "metadata": {},
   "outputs": [],
   "source": [
    "import os\n",
    "import numpy as np\n",
    "import torch\n",
    "from torch import nn, optim\n",
    "from torch.utils.data import Dataset, DataLoader, random_split\n",
    "from torchvision import transforms\n",
    "import torchvision\n",
    "import tifffile as tiff\n",
    "import matplotlib.pyplot as plt\n",
    "import time\n",
    "from tqdm import tqdm\n",
    "from copy import deepcopy\n",
    "import random\n",
    "from sklearn.preprocessing import normalize\n",
    "\n",
    "from collections import Counter\n",
    "from scipy.stats import mode"
   ]
  },
  {
   "cell_type": "code",
   "execution_count": 2,
   "metadata": {},
   "outputs": [],
   "source": [
    "# Set seed for reproducibility\n",
    "def set_seed(seed):\n",
    "    random.seed(seed)\n",
    "    np.random.seed(seed)\n",
    "    torch.manual_seed(seed)\n",
    "    if torch.cuda.is_available():\n",
    "        torch.cuda.manual_seed(seed)\n",
    "        torch.cuda.manual_seed_all(seed)\n",
    "    torch.backends.cudnn.deterministic = True\n",
    "    torch.backends.cudnn.benchmark = False\n",
    "\n",
    "# Set seed\n",
    "set_seed(42)"
   ]
  },
  {
   "cell_type": "code",
   "execution_count": 3,
   "metadata": {},
   "outputs": [],
   "source": [
    "# Set the device\n",
    "device = torch.device(\"cuda\" if torch.cuda.is_available() else \"cpu\")"
   ]
  },
  {
   "cell_type": "code",
   "execution_count": 4,
   "metadata": {},
   "outputs": [],
   "source": [
    "#torch.save(simclr_model.state_dict(), 'model_weights.pth')\n",
    "full_model_path =  r'C:\\Users\\k54739\\saved_model\\simclr_model_epoch_245.pth' \n",
    "#torch.save(simclr_model, full_model_path)\n",
    "\n"
   ]
  },
  {
   "cell_type": "code",
   "execution_count": 5,
   "metadata": {},
   "outputs": [],
   "source": [
    "class SimCLR(nn.Module):\n",
    "    def __init__(self, hidden_dim, lr, temperature, weight_decay,max_epochs):\n",
    "        super().__init__()\n",
    "        self.temperature = temperature\n",
    "        \n",
    "        # Load the pretrained ResNet-18 model\n",
    "        self.convnet = torchvision.models.resnet18(weights='ResNet18_Weights.DEFAULT')\n",
    "        \n",
    "        # Modify the fully connected layer\n",
    "        self.convnet.fc = nn.Sequential(\n",
    "            nn.Linear(self.convnet.fc.in_features, 4 * hidden_dim),  # Linear layer with 4*hidden_dim output\n",
    "            nn.ReLU(inplace=True),\n",
    "            nn.Linear(4 * hidden_dim, 20)  # Output layer with hidden_dim output\n",
    "        )\n",
    "\n",
    "        self.optimizer = optim.AdamW(self.parameters(), lr=lr, weight_decay=weight_decay)\n",
    "        self.lr_scheduler = optim.lr_scheduler.CosineAnnealingLR(self.optimizer, T_max=max_epochs, eta_min=lr / 50)\n",
    "\n",
    "    def forward(self, x):\n",
    "        return self.convnet(x)\n",
    "\n",
    "    def info_nce_loss(self, imgs1, imgs2, device):\n",
    "\n",
    "        imgs = torch.cat((imgs1, imgs2), dim=0)  # Concatenate along the batch dimension\n",
    "        imgs = imgs.to(device)  # Move images to the device\n",
    "\n",
    "        # Encode all images\n",
    "        feats = self.forward(imgs)\n",
    "    \n",
    "        # Calculate cosine similarity\n",
    "        cos_sim = nn.functional.cosine_similarity(feats[:, None, :], feats[None, :, :], dim=-1)\n",
    "    \n",
    "        # Mask out cosine similarity to itself\n",
    "        self_mask = torch.eye(cos_sim.shape[0], dtype=torch.bool, device=cos_sim.device)\n",
    "        cos_sim.masked_fill_(self_mask, -9e15)\n",
    "    \n",
    "        # Find positive example -> batch_size//2 away from the original example\n",
    "        pos_mask = self_mask.roll(shifts=cos_sim.shape[0] // 2, dims=0)\n",
    "    \n",
    "        # Normalize similarity scores by temperature\n",
    "        cos_sim = cos_sim / self.temperature\n",
    "\n",
    "        # InfoNCE loss\n",
    "        nll = -cos_sim[pos_mask] + torch.logsumexp(cos_sim, dim=-1)\n",
    "        nll = nll.mean()\n",
    "\n",
    "        # Accuracy calculations\n",
    "        # Create a combination of positive and negative similarities for ranking\n",
    "        comb_sim = torch.cat([cos_sim[pos_mask][:, None],  # Positive example in first position\n",
    "                          cos_sim.masked_fill(pos_mask, -9e15)], dim=-1)\n",
    "    \n",
    "        # Sort and get the ranking position of the positive example\n",
    "        sim_argsort = comb_sim.argsort(dim=-1, descending=True).argmin(dim=-1)\n",
    "    \n",
    "        # Compute accuracy metrics\n",
    "        top1_acc = (sim_argsort == 0).float().mean()  # Top-1 accuracy\n",
    "        top5_acc = (sim_argsort < 5).float().mean()   # Top-5 accuracy\n",
    "        mean_pos = 1 + sim_argsort.float().mean()     # Mean position of the positive example\n",
    "\n",
    "        return nll, top1_acc, top5_acc, mean_pos\n",
    "\n",
    "    def train_epoch(self, train_loader, device):\n",
    "        self.train()\n",
    "        total_loss = 0.0\n",
    "        total_top1_acc = 0.0\n",
    "        total_top5_acc = 0.0\n",
    "        total_mean_pos = 0.0\n",
    "\n",
    "        for batch in tqdm(train_loader, desc=\"Training\", leave=False):\n",
    "            imgs1, imgs2, _ = batch\n",
    "            imgs1, imgs2 = imgs1.to(device), imgs2.to(device)  # Move data to device\n",
    "        \n",
    "            self.optimizer.zero_grad()\n",
    "\n",
    "            # Calculate loss and accuracy metrics\n",
    "            loss, top1_acc, top5_acc, mean_pos = self.info_nce_loss(imgs1, imgs2, device)\n",
    "\n",
    "            loss.backward()\n",
    "            self.optimizer.step()\n",
    "            #self.lr_scheduler.step()\n",
    "\n",
    "            # Accumulate metrics\n",
    "            total_loss += loss.item()\n",
    "            total_top1_acc += top1_acc.item()\n",
    "            total_top5_acc += top5_acc.item()\n",
    "            total_mean_pos += mean_pos.item()\n",
    "\n",
    "        avg_loss = total_loss / len(train_loader)\n",
    "        avg_top1_acc = total_top1_acc / len(train_loader)\n",
    "        avg_top5_acc = total_top5_acc / len(train_loader)\n",
    "        avg_mean_pos = total_mean_pos / len(train_loader)\n",
    "\n",
    "        return avg_loss, avg_top1_acc, avg_top5_acc, avg_mean_pos\n",
    "\n",
    "    def validate_epoch(self, val_loader, device):\n",
    "        self.eval()\n",
    "        total_loss = 0.0\n",
    "        total_top1_acc = 0.0\n",
    "        total_top5_acc = 0.0\n",
    "        total_mean_pos = 0.0\n",
    "\n",
    "        with torch.no_grad():\n",
    "            for batch in tqdm(val_loader, desc=\"Validating\", leave=False):\n",
    "                imgs1, imgs2, _ = batch\n",
    "                imgs1, imgs2 = imgs1.to(device), imgs2.to(device)  # Move data to device\n",
    "\n",
    "                # Calculate loss and accuracy metrics\n",
    "                loss, top1_acc, top5_acc, mean_pos = self.info_nce_loss(imgs1, imgs2, device)\n",
    "\n",
    "                # Accumulate metrics\n",
    "                total_loss += loss.item()\n",
    "                total_top1_acc += top1_acc.item()\n",
    "                total_top5_acc += top5_acc.item()\n",
    "                total_mean_pos += mean_pos.item()\n",
    "\n",
    "        avg_loss = total_loss / len(val_loader)\n",
    "        avg_top1_acc = total_top1_acc / len(val_loader)\n",
    "        avg_top5_acc = total_top5_acc / len(val_loader)\n",
    "        avg_mean_pos = total_mean_pos / len(val_loader)\n",
    "\n",
    "        return avg_loss, avg_top1_acc, avg_top5_acc, avg_mean_pos\n",
    "    \n",
    "\n",
    "    def inference_epoch(self, inference_loader, device):\n",
    "        self.eval()\n",
    "        total_loss = 0.0\n",
    "        total_top1_acc = 0.0\n",
    "        total_top5_acc = 0.0\n",
    "        total_mean_pos = 0.0\n",
    "\n",
    "        with torch.no_grad():\n",
    "            for batch in tqdm(inference_loader, desc=\"Inferencing\", leave=False):\n",
    "                imgs1, imgs2, _ = batch\n",
    "                imgs1, imgs2 = imgs1.to(device), imgs2.to(device)  # Move data to device\n",
    "\n",
    "                # Calculate loss and accuracy metrics\n",
    "                loss, top1_acc, top5_acc, mean_pos = self.info_nce_loss(imgs1, imgs2, device)\n",
    "\n",
    "                # Accumulate metrics\n",
    "                total_loss += loss.item()\n",
    "                total_top1_acc += top1_acc.item()\n",
    "                total_top5_acc += top5_acc.item()\n",
    "                total_mean_pos += mean_pos.item()\n",
    "\n",
    "        avg_loss = total_loss / len(inference_loader)\n",
    "        avg_top1_acc = total_top1_acc / len(inference_loader)\n",
    "        avg_top5_acc = total_top5_acc / len(inference_loader)\n",
    "        avg_mean_pos = total_mean_pos / len(inference_loader)\n",
    "\n",
    "        return avg_loss, avg_top1_acc, avg_top5_acc, avg_mean_pos"
   ]
  },
  {
   "cell_type": "code",
   "execution_count": 6,
   "metadata": {},
   "outputs": [
    {
     "name": "stderr",
     "output_type": "stream",
     "text": [
      "C:\\Users\\k54739\\AppData\\Local\\Temp\\ipykernel_25700\\1467178467.py:2: FutureWarning: You are using `torch.load` with `weights_only=False` (the current default value), which uses the default pickle module implicitly. It is possible to construct malicious pickle data which will execute arbitrary code during unpickling (See https://github.com/pytorch/pytorch/blob/main/SECURITY.md#untrusted-models for more details). In a future release, the default value for `weights_only` will be flipped to `True`. This limits the functions that could be executed during unpickling. Arbitrary objects will no longer be allowed to be loaded via this mode unless they are explicitly allowlisted by the user via `torch.serialization.add_safe_globals`. We recommend you start setting `weights_only=True` for any use case where you don't have full control of the loaded file. Please open an issue on GitHub for any issues related to this experimental feature.\n",
      "  simclr_model.load_state_dict(torch.load(full_model_path))\n"
     ]
    },
    {
     "data": {
      "text/plain": [
       "SimCLR(\n",
       "  (convnet): ResNet(\n",
       "    (conv1): Conv2d(3, 64, kernel_size=(7, 7), stride=(2, 2), padding=(3, 3), bias=False)\n",
       "    (bn1): BatchNorm2d(64, eps=1e-05, momentum=0.1, affine=True, track_running_stats=True)\n",
       "    (relu): ReLU(inplace=True)\n",
       "    (maxpool): MaxPool2d(kernel_size=3, stride=2, padding=1, dilation=1, ceil_mode=False)\n",
       "    (layer1): Sequential(\n",
       "      (0): BasicBlock(\n",
       "        (conv1): Conv2d(64, 64, kernel_size=(3, 3), stride=(1, 1), padding=(1, 1), bias=False)\n",
       "        (bn1): BatchNorm2d(64, eps=1e-05, momentum=0.1, affine=True, track_running_stats=True)\n",
       "        (relu): ReLU(inplace=True)\n",
       "        (conv2): Conv2d(64, 64, kernel_size=(3, 3), stride=(1, 1), padding=(1, 1), bias=False)\n",
       "        (bn2): BatchNorm2d(64, eps=1e-05, momentum=0.1, affine=True, track_running_stats=True)\n",
       "      )\n",
       "      (1): BasicBlock(\n",
       "        (conv1): Conv2d(64, 64, kernel_size=(3, 3), stride=(1, 1), padding=(1, 1), bias=False)\n",
       "        (bn1): BatchNorm2d(64, eps=1e-05, momentum=0.1, affine=True, track_running_stats=True)\n",
       "        (relu): ReLU(inplace=True)\n",
       "        (conv2): Conv2d(64, 64, kernel_size=(3, 3), stride=(1, 1), padding=(1, 1), bias=False)\n",
       "        (bn2): BatchNorm2d(64, eps=1e-05, momentum=0.1, affine=True, track_running_stats=True)\n",
       "      )\n",
       "    )\n",
       "    (layer2): Sequential(\n",
       "      (0): BasicBlock(\n",
       "        (conv1): Conv2d(64, 128, kernel_size=(3, 3), stride=(2, 2), padding=(1, 1), bias=False)\n",
       "        (bn1): BatchNorm2d(128, eps=1e-05, momentum=0.1, affine=True, track_running_stats=True)\n",
       "        (relu): ReLU(inplace=True)\n",
       "        (conv2): Conv2d(128, 128, kernel_size=(3, 3), stride=(1, 1), padding=(1, 1), bias=False)\n",
       "        (bn2): BatchNorm2d(128, eps=1e-05, momentum=0.1, affine=True, track_running_stats=True)\n",
       "        (downsample): Sequential(\n",
       "          (0): Conv2d(64, 128, kernel_size=(1, 1), stride=(2, 2), bias=False)\n",
       "          (1): BatchNorm2d(128, eps=1e-05, momentum=0.1, affine=True, track_running_stats=True)\n",
       "        )\n",
       "      )\n",
       "      (1): BasicBlock(\n",
       "        (conv1): Conv2d(128, 128, kernel_size=(3, 3), stride=(1, 1), padding=(1, 1), bias=False)\n",
       "        (bn1): BatchNorm2d(128, eps=1e-05, momentum=0.1, affine=True, track_running_stats=True)\n",
       "        (relu): ReLU(inplace=True)\n",
       "        (conv2): Conv2d(128, 128, kernel_size=(3, 3), stride=(1, 1), padding=(1, 1), bias=False)\n",
       "        (bn2): BatchNorm2d(128, eps=1e-05, momentum=0.1, affine=True, track_running_stats=True)\n",
       "      )\n",
       "    )\n",
       "    (layer3): Sequential(\n",
       "      (0): BasicBlock(\n",
       "        (conv1): Conv2d(128, 256, kernel_size=(3, 3), stride=(2, 2), padding=(1, 1), bias=False)\n",
       "        (bn1): BatchNorm2d(256, eps=1e-05, momentum=0.1, affine=True, track_running_stats=True)\n",
       "        (relu): ReLU(inplace=True)\n",
       "        (conv2): Conv2d(256, 256, kernel_size=(3, 3), stride=(1, 1), padding=(1, 1), bias=False)\n",
       "        (bn2): BatchNorm2d(256, eps=1e-05, momentum=0.1, affine=True, track_running_stats=True)\n",
       "        (downsample): Sequential(\n",
       "          (0): Conv2d(128, 256, kernel_size=(1, 1), stride=(2, 2), bias=False)\n",
       "          (1): BatchNorm2d(256, eps=1e-05, momentum=0.1, affine=True, track_running_stats=True)\n",
       "        )\n",
       "      )\n",
       "      (1): BasicBlock(\n",
       "        (conv1): Conv2d(256, 256, kernel_size=(3, 3), stride=(1, 1), padding=(1, 1), bias=False)\n",
       "        (bn1): BatchNorm2d(256, eps=1e-05, momentum=0.1, affine=True, track_running_stats=True)\n",
       "        (relu): ReLU(inplace=True)\n",
       "        (conv2): Conv2d(256, 256, kernel_size=(3, 3), stride=(1, 1), padding=(1, 1), bias=False)\n",
       "        (bn2): BatchNorm2d(256, eps=1e-05, momentum=0.1, affine=True, track_running_stats=True)\n",
       "      )\n",
       "    )\n",
       "    (layer4): Sequential(\n",
       "      (0): BasicBlock(\n",
       "        (conv1): Conv2d(256, 512, kernel_size=(3, 3), stride=(2, 2), padding=(1, 1), bias=False)\n",
       "        (bn1): BatchNorm2d(512, eps=1e-05, momentum=0.1, affine=True, track_running_stats=True)\n",
       "        (relu): ReLU(inplace=True)\n",
       "        (conv2): Conv2d(512, 512, kernel_size=(3, 3), stride=(1, 1), padding=(1, 1), bias=False)\n",
       "        (bn2): BatchNorm2d(512, eps=1e-05, momentum=0.1, affine=True, track_running_stats=True)\n",
       "        (downsample): Sequential(\n",
       "          (0): Conv2d(256, 512, kernel_size=(1, 1), stride=(2, 2), bias=False)\n",
       "          (1): BatchNorm2d(512, eps=1e-05, momentum=0.1, affine=True, track_running_stats=True)\n",
       "        )\n",
       "      )\n",
       "      (1): BasicBlock(\n",
       "        (conv1): Conv2d(512, 512, kernel_size=(3, 3), stride=(1, 1), padding=(1, 1), bias=False)\n",
       "        (bn1): BatchNorm2d(512, eps=1e-05, momentum=0.1, affine=True, track_running_stats=True)\n",
       "        (relu): ReLU(inplace=True)\n",
       "        (conv2): Conv2d(512, 512, kernel_size=(3, 3), stride=(1, 1), padding=(1, 1), bias=False)\n",
       "        (bn2): BatchNorm2d(512, eps=1e-05, momentum=0.1, affine=True, track_running_stats=True)\n",
       "      )\n",
       "    )\n",
       "    (avgpool): AdaptiveAvgPool2d(output_size=(1, 1))\n",
       "    (fc): Sequential(\n",
       "      (0): Linear(in_features=512, out_features=512, bias=True)\n",
       "      (1): ReLU(inplace=True)\n",
       "      (2): Linear(in_features=512, out_features=20, bias=True)\n",
       "    )\n",
       "  )\n",
       ")"
      ]
     },
     "execution_count": 6,
     "metadata": {},
     "output_type": "execute_result"
    }
   ],
   "source": [
    "simclr_model = SimCLR(hidden_dim=128, lr=5e-4, temperature=0.07, weight_decay=1e-4,max_epochs=245)\n",
    "simclr_model.load_state_dict(torch.load(full_model_path))\n",
    "simclr_model.to(device)\n",
    "simclr_model.eval()"
   ]
  },
  {
   "cell_type": "markdown",
   "metadata": {},
   "source": [
    "# Clustering"
   ]
  },
  {
   "cell_type": "code",
   "execution_count": 14,
   "metadata": {},
   "outputs": [
    {
     "name": "stdout",
     "output_type": "stream",
     "text": [
      "Label distribution: {'explod': 29}\n"
     ]
    }
   ],
   "source": [
    "class LabeledImageDataset(Dataset):\n",
    "    def __init__(self, image_files, labels, transform=None):\n",
    "        self.image_files = image_files\n",
    "        self.labels = labels\n",
    "        #self.transform = transform\n",
    "        self.resize_transform = transforms.Resize((96, 96))\n",
    "\n",
    "    def __len__(self):\n",
    "        return len(self.image_files)\n",
    "\n",
    "    def __getitem__(self, idx):\n",
    "        img_path = self.image_files[idx]\n",
    "        image = tiff.imread(img_path)\n",
    "\n",
    "        # Ensure the image has 3 layers (channels)\n",
    "        if image.shape[0] != 3:\n",
    "            raise ValueError(f\"Image {img_path} does not have exactly 3 layers.\")\n",
    "\n",
    "        # Normalize the 16-bit image to [0, 1]\n",
    "        image = image.astype(np.float32) / 65535.0\n",
    "\n",
    "        # Convert to a torch tensor and add channel dimension\n",
    "        image = torch.tensor(image, dtype=torch.float32)\n",
    "        \n",
    "        # Apply resize transform\n",
    "        image = self.resize_transform(image)\n",
    "\n",
    "        label = self.labels[idx]\n",
    "\n",
    "        return image, label\n",
    "\n",
    "def load_data(root_dir):\n",
    "    #classes = ['control']\n",
    "    #classes = ['single_dose']\n",
    "    classes = ['explod']\n",
    "    #classes = ['control','single_dose','explod']\n",
    "    \n",
    "    image_files = []\n",
    "    labels = []\n",
    "\n",
    "    for idx, class_name in enumerate(classes):\n",
    "        class_dir = os.path.join(root_dir, class_name)\n",
    "        files = [os.path.join(class_dir, file) for file in os.listdir(class_dir) if file.endswith(('.tiff', '.tif'))]\n",
    "        image_files.extend(files)\n",
    "        labels.extend([idx] * len(files))\n",
    "    \n",
    "    # Check if the labels correctly reflect the classes\n",
    "    print(\"Label distribution:\", {classes[i]: labels.count(i) for i in range(len(classes))})\n",
    "\n",
    "    return image_files, labels\n",
    "\n",
    "\n",
    "# Directories for labeled data\n",
    "image_dir = r\"C:\\Users\\k54739\\Bibi_new_thesis\\thesis\\kmeans_rank_class\\singledose_controls\"\n",
    "\n",
    "# Load data\n",
    "image_files, labels = load_data(image_dir)\n",
    "\n",
    "# Create the labeled datasets\n",
    "labeled_dataset = LabeledImageDataset(image_files, labels)\n",
    "\n",
    "# Define DataLoaders\n",
    "batch_size = 16\n",
    "loader_labeled = DataLoader(labeled_dataset, batch_size=batch_size, shuffle=True, drop_last=False, pin_memory=True, num_workers=0)"
   ]
  },
  {
   "cell_type": "code",
   "execution_count": 15,
   "metadata": {},
   "outputs": [
    {
     "name": "stdout",
     "output_type": "stream",
     "text": [
      "torch.Size([16, 3, 96, 96]) torch.Size([16]) torch.float32\n",
      "tensor([0, 0, 0, 0, 0, 0, 0, 0, 0, 0, 0, 0, 0, 0, 0, 0])\n"
     ]
    }
   ],
   "source": [
    "for anchor,label in loader_labeled:\n",
    "    print(anchor.shape, label.shape, anchor.dtype)\n",
    "    print(label)\n",
    "    break"
   ]
  },
  {
   "cell_type": "code",
   "execution_count": 16,
   "metadata": {},
   "outputs": [],
   "source": [
    "@torch.no_grad()\n",
    "def prepare_data_features(model, dataloader):\n",
    "    # Prepare model\n",
    "    network = deepcopy(model.convnet)\n",
    "    network.fc = nn.Identity()  # Removing projection head g(.)\n",
    "    network.eval()\n",
    "    network.to(device)\n",
    "\n",
    "    # Encode all images\n",
    "    feats, labels = [], []\n",
    "    for batch_imgs, batch_labels in tqdm(dataloader):\n",
    "        batch_imgs = batch_imgs.to(device)\n",
    "        batch_feats = network(batch_imgs)\n",
    "        print(f\"Batch features shape: {batch_feats.shape}\")\n",
    "        print(f\"Batch labels shape: {batch_labels.shape}\")\n",
    "        \n",
    "        feats.append(batch_feats.detach().cpu())\n",
    "        labels.append(batch_labels)\n",
    "\n",
    "    feats = torch.cat(feats, dim=0)\n",
    "    labels = torch.cat(labels, dim=0)\n",
    "    \n",
    "    print(f\"Features shape after concatenation: {feats.shape}\")\n",
    "    print(f\"Labels shape after concatenation: {labels.shape}\")\n",
    "\n",
    "    return torch.utils.data.TensorDataset(feats, labels)"
   ]
  },
  {
   "cell_type": "code",
   "execution_count": 17,
   "metadata": {},
   "outputs": [
    {
     "name": "stderr",
     "output_type": "stream",
     "text": [
      " 50%|█████     | 1/2 [00:00<00:00,  1.24it/s]"
     ]
    },
    {
     "name": "stdout",
     "output_type": "stream",
     "text": [
      "Batch features shape: torch.Size([16, 512])\n",
      "Batch labels shape: torch.Size([16])\n"
     ]
    },
    {
     "name": "stderr",
     "output_type": "stream",
     "text": [
      "100%|██████████| 2/2 [00:01<00:00,  1.39it/s]"
     ]
    },
    {
     "name": "stdout",
     "output_type": "stream",
     "text": [
      "Batch features shape: torch.Size([13, 512])\n",
      "Batch labels shape: torch.Size([13])\n",
      "Features shape after concatenation: torch.Size([29, 512])\n",
      "Labels shape after concatenation: torch.Size([29])\n"
     ]
    },
    {
     "name": "stderr",
     "output_type": "stream",
     "text": [
      "\n"
     ]
    }
   ],
   "source": [
    "# Extract features for train and test datasets\n",
    "feats_simclr = prepare_data_features(simclr_model, loader_labeled)"
   ]
  },
  {
   "cell_type": "code",
   "execution_count": 18,
   "metadata": {},
   "outputs": [
    {
     "data": {
      "text/plain": [
       "torch.Size([29, 512])"
      ]
     },
     "execution_count": 18,
     "metadata": {},
     "output_type": "execute_result"
    }
   ],
   "source": [
    "ex = feats_simclr.tensors[0]\n",
    "ex.shape"
   ]
  },
  {
   "cell_type": "code",
   "execution_count": 20,
   "metadata": {},
   "outputs": [],
   "source": [
    "# Save in the current folder\n",
    "save_path = \"ex.pt\"  # File name only\n",
    "\n",
    "# Save the tensor\n",
    "torch.save(ex, save_path)"
   ]
  },
  {
   "cell_type": "code",
   "execution_count": 21,
   "metadata": {},
   "outputs": [
    {
     "name": "stdout",
     "output_type": "stream",
     "text": [
      "Shape of features (for K-Means): (29, 512)\n",
      "Shape of labels: (29,)\n"
     ]
    }
   ],
   "source": [
    "# Convert features and labels to NumPy arrays\n",
    "feats_np = feats_simclr.tensors[0].numpy()  # Features in shape (60, 512)\n",
    "feats_np_norm = normalize(feats_np, axis=1)\n",
    "labels_np = feats_simclr.tensors[1].numpy()  # Corresponding labels\n",
    "\n",
    "# Check the shapes\n",
    "print(\"Shape of features (for K-Means):\", feats_np.shape)\n",
    "print(\"Shape of labels:\", labels_np.shape)"
   ]
  },
  {
   "cell_type": "markdown",
   "metadata": {},
   "source": [
    "SKLEARN"
   ]
  },
  {
   "cell_type": "code",
   "execution_count": 12,
   "metadata": {},
   "outputs": [],
   "source": [
    "from sklearn.metrics.pairwise import cosine_similarity"
   ]
  },
  {
   "cell_type": "code",
   "execution_count": 14,
   "metadata": {},
   "outputs": [],
   "source": [
    "# Define KMeansCosine class\n",
    "class KMeansCosine:\n",
    "    def __init__(self, n_clusters=2, max_iter=300, random_state=None):\n",
    "        self.n_clusters = n_clusters\n",
    "        self.max_iter = max_iter\n",
    "        self.random_state = random_state\n",
    "\n",
    "    def fit(self, X):\n",
    "        # Normalize the data to unit vectors\n",
    "        X_normalized = X / np.linalg.norm(X, axis=1)[:, np.newaxis]\n",
    "\n",
    "        # Initialize centroids randomly from the data points\n",
    "        np.random.seed(self.random_state)\n",
    "        initial_indices = np.random.choice(X_normalized.shape[0], self.n_clusters, replace=False)\n",
    "        centroids = X_normalized[initial_indices]\n",
    "\n",
    "        # Track the minimum cost and corresponding labels/centroids\n",
    "        best_cost = float('inf')\n",
    "        best_labels = None\n",
    "        best_centroids = None\n",
    "\n",
    "\n",
    "        for _ in range(self.max_iter):\n",
    "            # Compute the cosine similarity and distance\n",
    "            similarities = cosine_similarity(X_normalized, centroids)\n",
    "            cosine_dist = 1 - similarities\n",
    "            cost = np.sum(cosine_dist)\n",
    "            print(f\"Iteration cost: {cost}\")\n",
    "\n",
    "            # Update best cost and corresponding labels/centroids if the current cost is lower\n",
    "            if cost < best_cost:\n",
    "                best_cost = cost\n",
    "                best_labels = np.argmax(similarities, axis=1)\n",
    "                best_centroids = centroids.copy()\n",
    "\n",
    "            # Assign clusters based on the highest similarity (lowest distance)\n",
    "            labels = np.argmax(similarities, axis=1)\n",
    "\n",
    "            # Update centroids by taking the mean of the points in each cluster\n",
    "            new_centroids = np.array([X_normalized[labels == i].mean(axis=0) for i in range(self.n_clusters)])\n",
    "            new_centroids /= np.linalg.norm(new_centroids, axis=1)[:, np.newaxis]\n",
    "\n",
    "            # Check for convergence (if centroids do not change)\n",
    "            if np.allclose(centroids, new_centroids, atol=1e-6):  # Use np.allclose for numerical stability\n",
    "                break\n",
    "\n",
    "            centroids = new_centroids\n",
    "\n",
    "        # Store final centroids and labels\n",
    "        self.labels_ = labels\n",
    "        self.centroids_ = centroids\n",
    "        self.best_labels_ = best_labels\n",
    "        self.best_centroids_ = best_centroids\n",
    "        self.best_cost_ = best_cost"
   ]
  },
  {
   "cell_type": "markdown",
   "metadata": {},
   "source": [
    "# Define KMeansCosine class\n",
    "class KMeansCosine:\n",
    "    def __init__(self, n_clusters=2, max_iter=300, random_state=None):\n",
    "        self.n_clusters = n_clusters\n",
    "        self.max_iter = max_iter\n",
    "        self.random_state = random_state\n",
    "\n",
    "    def fit(self, X):\n",
    "        X_normalized = X / np.linalg.norm(X, axis=1)[:, np.newaxis]\n",
    "        np.random.seed(self.random_state)\n",
    "        initial_indices = np.random.choice(X_normalized.shape[0], self.n_clusters, replace=False)\n",
    "        centroids = X_normalized[initial_indices]\n",
    "\n",
    "        for _ in range(self.max_iter):\n",
    "            similarities = cosine_similarity(X_normalized, centroids)\n",
    "            labels = np.argmax(similarities, axis=1)\n",
    "            new_centroids = np.array([X_normalized[labels == i].mean(axis=0) for i in range(self.n_clusters)])\n",
    "            new_centroids /= np.linalg.norm(new_centroids, axis=1)[:, np.newaxis]\n",
    "\n",
    "            if np.all(centroids == new_centroids):\n",
    "                break\n",
    "\n",
    "            centroids = new_centroids\n",
    "\n",
    "        self.labels_ = labels\n",
    "        self.centroids_ = centroids"
   ]
  },
  {
   "cell_type": "code",
   "execution_count": 14,
   "metadata": {},
   "outputs": [
    {
     "name": "stdout",
     "output_type": "stream",
     "text": [
      "Iteration cost: 409.130615234375\n",
      "Iteration cost: 308.1348876953125\n",
      "Iteration cost: 313.04901123046875\n",
      "Iteration cost: 315.5171813964844\n",
      "Iteration cost: 320.08001708984375\n",
      "Iteration cost: 327.7800598144531\n",
      "Iteration cost: 330.1046142578125\n",
      "Iteration cost: 331.0596923828125\n",
      "Final Cluster Labels: [2 2 0 2 2 1 1 1 2 2 2 2 2 2 2 1 2 1 2 2 2 0 2 0 2 2 2 2 0 0 0 2 2 2 2 2 1\n",
      " 0 0 2 0 0 0 2 2 0 2 2 0 2 2 2 2 0 2 2 1 0 0 1 1 0 2 2 2 2 2 2 2 2 0 2 2 2\n",
      " 0 0 1 0 0 2 2 1 1 1 0 2 2 2 2 2 2 0 2 0 0 0 2 0 0 0 2 2 2 0 2 2 2 2 2 0 1\n",
      " 0 1 2 0 2 2 0 0 1 2 0 0 2 2 1 2 1 0 2 2 2 2 0 0 0 2 2 0 2 0 2 2 2 2 0 0 2\n",
      " 0 2 2 2 0 0 2 0 0 2 0 2 0 0 2 2 1 0 0 2 0 2 2 0 2 2 2 2 2 1 2 1 0 0 2 0 2\n",
      " 0 2 1 2 2 2 2 2 2 2 0 1 2 2 2 2 2 2 2 2 1 2 2 2 2 1 2 0 0 2 2 0 2 2 0 2 2\n",
      " 2 2 2 0 2 0 0 2 0 0 2 2 2 2 2 0 2 2 0 2 2 2 1 2 2 0 2 1 0 0]\n",
      "Final Centroids: [[4.2555388e-02 1.7812621e-02 1.8415220e-02 ... 9.8840641e-03\n",
      "  6.5387831e-05 9.1453725e-03]\n",
      " [7.1041696e-03 3.3857173e-03 1.4825553e-02 ... 4.9769916e-03\n",
      "  0.0000000e+00 1.5188153e-04]\n",
      " [2.0005917e-02 4.0988913e-03 5.8070790e-02 ... 1.2523100e-01\n",
      "  9.1082025e-03 1.3745667e-01]]\n",
      "Best Centroids with Lowest Cost: [[0.04609884 0.01533951 0.01643652 ... 0.01015114 0.00094308 0.01663539]\n",
      " [0.00489649 0.00364778 0.06795167 ... 0.06773692 0.00265235 0.07019039]\n",
      " [0.01975033 0.00544502 0.0475332  ... 0.12597999 0.00939461 0.13329163]]\n",
      "Lowest Cost: 308.1349\n"
     ]
    }
   ],
   "source": [
    "kmeans_cosine = KMeansCosine(n_clusters=3, max_iter=100, random_state=30)\n",
    "kmeans_cosine.fit(feats_np)\n",
    "\n",
    "print(\"Final Cluster Labels:\", kmeans_cosine.labels_)\n",
    "print(\"Final Centroids:\", kmeans_cosine.centroids_)\n",
    "#print(\"Best Cluster Labels with Lowest Cost:\", kmeans_cosine.best_labels_)\n",
    "print(\"Best Centroids with Lowest Cost:\", kmeans_cosine.best_centroids_)\n",
    "print(\"Lowest Cost:\", kmeans_cosine.best_cost_)"
   ]
  },
  {
   "cell_type": "code",
   "execution_count": 15,
   "metadata": {},
   "outputs": [
    {
     "data": {
      "text/plain": [
       "array([2, 2, 0, 2, 2, 1, 1, 1, 2, 2, 2, 2, 2, 2, 2, 1, 2, 1, 2, 2, 2, 0,\n",
       "       2, 0, 2, 2, 2, 2, 0, 0, 0, 2, 2, 2, 2, 2, 1, 0, 0, 2, 0, 0, 0, 2,\n",
       "       2, 0, 2, 2, 0, 2, 2, 2, 2, 0, 2, 2, 1, 0, 0, 1, 1, 0, 2, 2, 2, 2,\n",
       "       2, 2, 2, 2, 0, 2, 2, 2, 0, 0, 1, 0, 0, 2, 2, 1, 1, 1, 0, 2, 2, 2,\n",
       "       2, 2, 2, 0, 2, 0, 0, 0, 2, 0, 0, 0, 2, 2, 2, 0, 2, 2, 2, 2, 2, 0,\n",
       "       1, 0, 1, 2, 0, 2, 2, 0, 0, 1, 2, 0, 0, 2, 2, 1, 2, 1, 0, 2, 2, 2,\n",
       "       2, 0, 0, 0, 2, 2, 0, 2, 0, 2, 2, 2, 2, 0, 0, 2, 0, 2, 2, 2, 0, 0,\n",
       "       2, 0, 0, 2, 0, 2, 0, 0, 2, 2, 1, 0, 0, 2, 0, 2, 2, 0, 2, 2, 2, 2,\n",
       "       2, 1, 2, 1, 0, 0, 2, 0, 2, 0, 2, 1, 2, 2, 2, 2, 2, 2, 2, 0, 1, 2,\n",
       "       2, 2, 2, 2, 2, 2, 2, 1, 2, 2, 2, 2, 1, 2, 0, 0, 2, 2, 0, 2, 2, 0,\n",
       "       2, 2, 2, 2, 2, 0, 2, 0, 0, 2, 0, 0, 2, 2, 2, 2, 2, 0, 2, 2, 0, 2,\n",
       "       2, 2, 1, 2, 2, 0, 2, 1, 0, 0], dtype=int64)"
      ]
     },
     "execution_count": 15,
     "metadata": {},
     "output_type": "execute_result"
    }
   ],
   "source": [
    "idx = kmeans_cosine.labels_\n",
    "idx"
   ]
  },
  {
   "cell_type": "code",
   "execution_count": 16,
   "metadata": {},
   "outputs": [
    {
     "name": "stdout",
     "output_type": "stream",
     "text": [
      "Cluster assignments: [2 2 0 2 2 1 1 1 2 2 2 2 2 2 2 1 2 1 2 2 2 0 2 0 2 2 2 2 0 0 0 2 2 2 2 2 1\n",
      " 0 0 2 0 0 0 2 2 0 2 2 0 2 2 2 2 0 2 2 1 0 0 1 1 0 2 2 2 2 2 2 2 2 0 2 2 2\n",
      " 0 0 1 0 0 2 2 1 1 1 0 2 2 2 2 2 2 0 2 0 0 0 2 0 0 0 2 2 2 0 2 2 2 2 2 0 1\n",
      " 0 1 2 0 2 2 0 0 1 2 0 0 2 2 1 2 1 0 2 2 2 2 0 0 0 2 2 0 2 0 2 2 2 2 0 0 2\n",
      " 0 2 2 2 0 0 2 0 0 2 0 2 0 0 2 2 1 0 0 2 0 2 2 0 2 2 2 2 2 1 2 1 0 0 2 0 2\n",
      " 0 2 1 2 2 2 2 2 2 2 0 1 2 2 2 2 2 2 2 2 1 2 2 2 2 1 2 0 0 2 2 0 2 2 0 2 2\n",
      " 2 2 2 0 2 0 0 2 0 0 2 2 2 2 2 0 2 2 0 2 2 2 1 2 2 0 2 1 0 0]\n",
      "True labels: [2 2 1 0 0 1 1 1 0 0 2 0 0 2 0 1 0 1 2 0 0 1 0 1 0 0 0 0 1 1 1 0 0 2 0 0 1\n",
      " 1 1 0 1 1 1 0 0 1 0 2 1 0 0 0 2 1 2 0 1 1 1 1 1 1 2 0 0 2 0 0 0 0 1 0 0 2\n",
      " 1 1 1 1 1 0 0 1 1 1 1 0 0 0 0 0 2 1 0 1 1 1 0 1 1 1 0 0 0 1 0 0 0 0 0 1 1\n",
      " 2 1 0 1 2 0 1 1 1 0 1 1 0 0 1 0 1 1 0 0 2 2 1 1 1 0 0 1 0 1 0 0 0 0 1 1 0\n",
      " 1 0 0 0 1 1 0 1 1 0 1 0 1 1 0 0 1 1 1 0 1 0 0 1 0 0 0 0 0 1 0 1 1 1 0 1 0\n",
      " 1 0 1 2 0 0 0 2 0 0 1 1 2 0 0 0 0 0 0 0 1 0 2 2 2 1 0 1 1 0 0 1 2 2 1 0 0\n",
      " 0 0 2 1 0 1 1 0 1 1 0 0 0 0 2 1 2 0 1 0 0 0 1 0 0 1 2 1 1 1]\n"
     ]
    }
   ],
   "source": [
    "print(\"Cluster assignments:\", idx)\n",
    "print(\"True labels:\", labels_np)"
   ]
  },
  {
   "cell_type": "code",
   "execution_count": 17,
   "metadata": {},
   "outputs": [
    {
     "data": {
      "text/plain": [
       "array([2, 2, 0, 2, 2, 1, 1, 1, 1, 2, 2, 2, 1, 2, 2, 0, 2, 1, 2, 2, 2, 0,\n",
       "       2, 0, 2, 2, 2, 2, 0, 0, 0, 2, 2, 2, 2, 2, 1, 0, 0, 2, 0, 1, 0, 2,\n",
       "       2, 0, 2, 2, 0, 2, 1, 1, 1, 0, 2, 1, 1, 0, 0, 1, 1, 0, 2, 2, 2, 2,\n",
       "       2, 1, 2, 2, 0, 2, 1, 2, 0, 0, 1, 0, 0, 2, 2, 1, 1, 0, 0, 1, 2, 2,\n",
       "       2, 2, 0, 0, 2, 0, 0, 0, 2, 0, 0, 0, 2, 2, 2, 0, 2, 2, 2, 2, 2, 0,\n",
       "       0, 0, 1, 2, 0, 2, 2, 0, 0, 1, 2, 0, 0, 2, 1, 1, 2, 1, 0, 2, 2, 2,\n",
       "       2, 0, 0, 0, 2, 2, 0, 2, 0, 1, 2, 2, 1, 0, 0, 2, 0, 2, 2, 2, 0, 0,\n",
       "       2, 0, 0, 2, 0, 1, 0, 0, 2, 2, 0, 0, 0, 2, 0, 2, 2, 0, 2, 2, 2, 2,\n",
       "       2, 1, 2, 1, 0, 0, 1, 0, 2, 0, 2, 1, 2, 2, 2, 1, 2, 2, 2, 0, 1, 2,\n",
       "       2, 2, 2, 2, 2, 2, 2, 1, 2, 2, 2, 2, 1, 2, 0, 0, 2, 2, 0, 2, 2, 0,\n",
       "       2, 2, 2, 1, 2, 0, 2, 0, 0, 2, 0, 0, 2, 2, 2, 2, 2, 0, 2, 2, 0, 2,\n",
       "       2, 1, 1, 2, 2, 0, 2, 1, 0, 0], dtype=int64)"
      ]
     },
     "execution_count": 17,
     "metadata": {},
     "output_type": "execute_result"
    }
   ],
   "source": [
    "best_idx = kmeans_cosine.best_labels_\n",
    "best_idx"
   ]
  },
  {
   "cell_type": "code",
   "execution_count": 18,
   "metadata": {},
   "outputs": [
    {
     "name": "stdout",
     "output_type": "stream",
     "text": [
      "Cluster assignments: [2 2 0 2 2 1 1 1 1 2 2 2 1 2 2 0 2 1 2 2 2 0 2 0 2 2 2 2 0 0 0 2 2 2 2 2 1\n",
      " 0 0 2 0 1 0 2 2 0 2 2 0 2 1 1 1 0 2 1 1 0 0 1 1 0 2 2 2 2 2 1 2 2 0 2 1 2\n",
      " 0 0 1 0 0 2 2 1 1 0 0 1 2 2 2 2 0 0 2 0 0 0 2 0 0 0 2 2 2 0 2 2 2 2 2 0 0\n",
      " 0 1 2 0 2 2 0 0 1 2 0 0 2 1 1 2 1 0 2 2 2 2 0 0 0 2 2 0 2 0 1 2 2 1 0 0 2\n",
      " 0 2 2 2 0 0 2 0 0 2 0 1 0 0 2 2 0 0 0 2 0 2 2 0 2 2 2 2 2 1 2 1 0 0 1 0 2\n",
      " 0 2 1 2 2 2 1 2 2 2 0 1 2 2 2 2 2 2 2 2 1 2 2 2 2 1 2 0 0 2 2 0 2 2 0 2 2\n",
      " 2 1 2 0 2 0 0 2 0 0 2 2 2 2 2 0 2 2 0 2 2 1 1 2 2 0 2 1 0 0]\n",
      "True labels: [0, 0, 0, 0, 0, 0, 0, 0, 0, 0, 0, 0, 0, 0, 0, 0, 0, 0, 0, 0, 0, 0, 0, 0, 0, 0, 0, 0, 0, 0, 0, 0, 0, 0, 0, 0, 0, 0, 0, 0, 0, 0, 0, 0, 0, 0, 0, 0, 0, 0, 0, 0, 0, 0, 0, 0, 0, 0, 0, 0, 0, 0, 0, 0, 0, 0, 0, 0, 0, 0, 0, 0, 0, 0, 0, 0, 0, 0, 0, 0, 0, 0, 0, 0, 0, 0, 0, 0, 0, 0, 0, 0, 0, 0, 0, 0, 0, 0, 0, 0, 0, 0, 0, 0, 0, 0, 0, 0, 0, 0, 0, 0, 0, 0, 0, 0, 0, 0, 0, 0, 1, 1, 1, 1, 1, 1, 1, 1, 1, 1, 1, 1, 1, 1, 1, 1, 1, 1, 1, 1, 1, 1, 1, 1, 1, 1, 1, 1, 1, 1, 1, 1, 1, 1, 1, 1, 1, 1, 1, 1, 1, 1, 1, 1, 1, 1, 1, 1, 1, 1, 1, 1, 1, 1, 1, 1, 1, 1, 1, 1, 1, 1, 1, 1, 1, 1, 1, 1, 1, 1, 1, 1, 1, 1, 1, 1, 1, 1, 1, 1, 1, 1, 1, 1, 1, 1, 1, 1, 1, 1, 1, 1, 1, 1, 1, 1, 1, 1, 1, 1, 1, 1, 1, 2, 2, 2, 2, 2, 2, 2, 2, 2, 2, 2, 2, 2, 2, 2, 2, 2, 2, 2, 2, 2, 2, 2, 2, 2, 2, 2, 2, 2]\n"
     ]
    }
   ],
   "source": [
    "print(\"Cluster assignments:\", best_idx)\n",
    "print(\"True labels:\", labels)"
   ]
  },
  {
   "cell_type": "code",
   "execution_count": 19,
   "metadata": {},
   "outputs": [
    {
     "name": "stdout",
     "output_type": "stream",
     "text": [
      "Cluster 0 has true labels: Counter({1: 76, 2: 1})\n",
      "Cluster 1 has true labels: Counter({1: 27})\n",
      "Cluster 2 has true labels: Counter({0: 120, 2: 28})\n"
     ]
    }
   ],
   "source": [
    "# `idx` contains the cluster assignments from KMeans\n",
    "#  `labels` contains the true labels\n",
    "\n",
    "K = len(np.unique(idx))  # Number of clusters\n",
    "\n",
    "# Iterate over each cluster and count the true labels in that cluster\n",
    "for cluster in range(K):\n",
    "    # Find the indices of images assigned to the current cluster\n",
    "    cluster_indices = np.where(idx == cluster)[0]\n",
    "    \n",
    "    # Get the true labels for the images in this cluster\n",
    "    cluster_labels = labels_np[cluster_indices]\n",
    "    \n",
    "    # Use Counter to count occurrences of each label in the cluster\n",
    "    label_counts = Counter(cluster_labels)\n",
    "    \n",
    "    # Print the result\n",
    "    print(f\"Cluster {cluster} has true labels: {label_counts}\")\n"
   ]
  },
  {
   "cell_type": "code",
   "execution_count": 20,
   "metadata": {},
   "outputs": [
    {
     "name": "stdout",
     "output_type": "stream",
     "text": [
      "Cluster 0 has true labels: Counter({1: 79, 2: 2})\n",
      "Cluster 1 has true labels: Counter({1: 24, 0: 16, 2: 1})\n",
      "Cluster 2 has true labels: Counter({0: 104, 2: 26})\n"
     ]
    }
   ],
   "source": [
    "K = len(np.unique(best_idx))  # Number of clusters\n",
    "\n",
    "# Iterate over each cluster and count the true labels in that cluster\n",
    "for cluster in range(K):\n",
    "    # Find the indices of images assigned to the current cluster\n",
    "    cluster_indices = np.where(best_idx == cluster)[0]\n",
    "    \n",
    "    # Get the true labels for the images in this cluster\n",
    "    cluster_labels = labels_np[cluster_indices]\n",
    "    \n",
    "    # Use Counter to count occurrences of each label in the cluster\n",
    "    label_counts = Counter(cluster_labels)\n",
    "    \n",
    "    # Print the result\n",
    "    print(f\"Cluster {cluster} has true labels: {label_counts}\")"
   ]
  },
  {
   "cell_type": "code",
   "execution_count": 21,
   "metadata": {},
   "outputs": [],
   "source": [
    "# Function to reorder K-Means labels to match true labels\n",
    "def reorder_labels(true_labels, predicted_labels):\n",
    "    reordered_labels = np.zeros_like(predicted_labels)\n",
    "\n",
    "    for cluster in np.unique(predicted_labels):\n",
    "        mask = (predicted_labels == cluster)\n",
    "        # Use mode and handle cases where mode() returns a scalar\n",
    "        most_common_label = mode(true_labels[mask], axis=None).mode  # Get the mode for the current cluster\n",
    "        if isinstance(most_common_label, np.ndarray):\n",
    "            most_common_label = most_common_label[0]  # Safely extract the mode value if it's an array\n",
    "        \n",
    "        reordered_labels[mask] = most_common_label\n",
    "\n",
    "    return reordered_labels"
   ]
  },
  {
   "cell_type": "code",
   "execution_count": 22,
   "metadata": {},
   "outputs": [
    {
     "name": "stdout",
     "output_type": "stream",
     "text": [
      "Accuracy: 88.49%\n"
     ]
    }
   ],
   "source": [
    "# Apply this after running K-Means\n",
    "reordered_idx = reorder_labels(labels_np, idx)\n",
    "\n",
    "# Now you can compare `reordered_idx` with `labels` to evaluate accuracy\n",
    "accuracy = np.sum(reordered_idx == labels_np) / len(labels_np) * 100\n",
    "print(f\"Accuracy: {accuracy:.2f}%\")"
   ]
  },
  {
   "cell_type": "code",
   "execution_count": 23,
   "metadata": {},
   "outputs": [
    {
     "name": "stdout",
     "output_type": "stream",
     "text": [
      "Accuracy: 82.14%\n"
     ]
    }
   ],
   "source": [
    "# Apply this after running K-Means\n",
    "reordered_idx = reorder_labels(labels_np, best_idx)\n",
    "\n",
    "# Now you can compare `reordered_idx` with `labels` to evaluate accuracy\n",
    "accuracy = np.sum(reordered_idx == labels_np) / len(labels) * 100\n",
    "print(f\"Accuracy: {accuracy:.2f}%\")"
   ]
  },
  {
   "cell_type": "markdown",
   "metadata": {},
   "source": [
    "From scratch"
   ]
  },
  {
   "cell_type": "code",
   "execution_count": 22,
   "metadata": {},
   "outputs": [],
   "source": [
    "# K-Means initialization function\n",
    "def kMeans_init_centroids(X, K):\n",
    "    randidx = np.random.permutation(X.shape[0])\n",
    "    centroids = X[randidx[:K]]\n",
    "    return centroids\n",
    "\n",
    "# Function to find the closest centroids using Cosine Similarity\n",
    "def find_closest_centroids(X, centroids):\n",
    "    # Normalize both the data points and centroids to ensure we compute cosine similarity\n",
    "    #X_norm = normalize(X, axis=1)\n",
    "    #centroids_norm = normalize(centroids, axis=1)\n",
    "    \n",
    "    # Assign data points to closest centroids based on cosine similarity\n",
    "    idx = np.zeros(X.shape[0], dtype=int)\n",
    "    for i in range(X.shape[0]):\n",
    "        # Compute cosine similarity\n",
    "        similarities = np.dot(centroids, X[i])  # Dot product gives cosine similarity\n",
    "        idx[i] = np.argmax(similarities)  # We want the most similar (highest value)\n",
    "    return idx\n",
    "\n",
    "# Function to compute new centroids\n",
    "def compute_centroids(X, idx, K):\n",
    "    centroids = np.zeros((K, X.shape[1]))  # Use shape[1] for features\n",
    "    for k in range(K):\n",
    "        points = X[idx == k]\n",
    "        if len(points) > 0:\n",
    "            centroids[k] = np.mean(points, axis=0)   # noralised vectors mean maynot be normalised. hence we normalise before calculating mean.https://chatgpt.com/share/671b97a7-ec2c-8010-af33-af106df0a25c\n",
    "            centroids_norm = normalize(centroids, axis=1)\n",
    "    return centroids_norm\n",
    "\n",
    "# Function to run K-Means algorithm with cost tracking (using Cosine Similarity)\n",
    "def run_kMeans(X, initial_centroids, max_iters=10):\n",
    "    K = initial_centroids.shape[0]\n",
    "    centroids = initial_centroids\n",
    "    idx = np.zeros(X.shape[0])\n",
    "    \n",
    "    best_centroids = centroids\n",
    "    lowest_cost = float('inf')\n",
    "    final_iteration = 0  # To keep track of the iteration where the best centroids were found\n",
    "    best_idx = idx  # Track the best index assignment\n",
    "\n",
    "    for i in range(max_iters):\n",
    "        print(f\"K-Means iteration {i}/{max_iters - 1}\")\n",
    "        \n",
    "        # Assign each data point to the closest centroid using cosine similarity\n",
    "        idx = find_closest_centroids(X, centroids)\n",
    "        \n",
    "        # Compute new centroids\n",
    "        centroids = compute_centroids(X, idx, K)\n",
    "\n",
    "        # Calculate cost function for the current centroids using cosine distance\n",
    "\n",
    "        # 1. Compute cosine similarity\n",
    "        sim = np.dot(X, centroids.T)\n",
    "        #print(sim.shape)\n",
    "        #print(sim)\n",
    "        # 2. Calculate cosine distance\n",
    "        cosine_dist = 1 - sim\n",
    "        #print(cosine_dist.shape)\n",
    "        #print(cosine_dist)\n",
    "        # 3. Find maximum cosine distance for each data point\n",
    "        #max_cosine_dist = cosine_dist.max(axis=1)\n",
    "        #print(max_cosine_dist.shape)\n",
    "        #print(max_cosine_dist)\n",
    "        cost = np.sum(cosine_dist)\n",
    "\n",
    "        # 4. Sum of all maximum distances\n",
    "        #cost = np.sum(max_cosine_dist)\n",
    "\n",
    "        #cost = np.sum(1 - np.dot(X_norm, centroids_norm.T).max(axis=1))  # Cosine distance = 1 - cosine similarity  \n",
    "        print(f\"Cost function value: {cost}\")  # Print the cost function value\n",
    "\n",
    "        # Check if this is the best cost so far\n",
    "        if cost < lowest_cost:\n",
    "            lowest_cost = cost\n",
    "            best_centroids = centroids\n",
    "            best_idx = idx.copy()\n",
    "            final_iteration = i  # Update the iteration where best centroids were found\n",
    "\n",
    "    print(f\"Final centroids selected from iteration: {final_iteration}\")  # Indicate which iteration was chosen\n",
    "    return best_centroids, best_idx, centroids,idx  # Return the best centroids\n"
   ]
  },
  {
   "cell_type": "code",
   "execution_count": 23,
   "metadata": {},
   "outputs": [
    {
     "name": "stdout",
     "output_type": "stream",
     "text": [
      "K-Means iteration 0/49\n",
      "Cost function value: 5.79007938942236\n",
      "K-Means iteration 1/49\n",
      "Cost function value: 5.79007938942236\n",
      "K-Means iteration 2/49\n",
      "Cost function value: 5.79007938942236\n",
      "K-Means iteration 3/49\n",
      "Cost function value: 5.79007938942236\n",
      "K-Means iteration 4/49\n",
      "Cost function value: 5.79007938942236\n",
      "K-Means iteration 5/49\n",
      "Cost function value: 5.79007938942236\n",
      "K-Means iteration 6/49\n",
      "Cost function value: 5.79007938942236\n",
      "K-Means iteration 7/49\n",
      "Cost function value: 5.79007938942236\n",
      "K-Means iteration 8/49\n",
      "Cost function value: 5.79007938942236\n",
      "K-Means iteration 9/49\n",
      "Cost function value: 5.79007938942236\n",
      "K-Means iteration 10/49\n",
      "Cost function value: 5.79007938942236\n",
      "K-Means iteration 11/49\n",
      "Cost function value: 5.79007938942236\n",
      "K-Means iteration 12/49\n",
      "Cost function value: 5.79007938942236\n",
      "K-Means iteration 13/49\n",
      "Cost function value: 5.79007938942236\n",
      "K-Means iteration 14/49\n",
      "Cost function value: 5.79007938942236\n",
      "K-Means iteration 15/49\n",
      "Cost function value: 5.79007938942236\n",
      "K-Means iteration 16/49\n",
      "Cost function value: 5.79007938942236\n",
      "K-Means iteration 17/49\n",
      "Cost function value: 5.79007938942236\n",
      "K-Means iteration 18/49\n",
      "Cost function value: 5.79007938942236\n",
      "K-Means iteration 19/49\n",
      "Cost function value: 5.79007938942236\n",
      "K-Means iteration 20/49\n",
      "Cost function value: 5.79007938942236\n",
      "K-Means iteration 21/49\n",
      "Cost function value: 5.79007938942236\n",
      "K-Means iteration 22/49\n",
      "Cost function value: 5.79007938942236\n",
      "K-Means iteration 23/49\n",
      "Cost function value: 5.79007938942236\n",
      "K-Means iteration 24/49\n",
      "Cost function value: 5.79007938942236\n",
      "K-Means iteration 25/49\n",
      "Cost function value: 5.79007938942236\n",
      "K-Means iteration 26/49\n",
      "Cost function value: 5.79007938942236\n",
      "K-Means iteration 27/49\n",
      "Cost function value: 5.79007938942236\n",
      "K-Means iteration 28/49\n",
      "Cost function value: 5.79007938942236\n",
      "K-Means iteration 29/49\n",
      "Cost function value: 5.79007938942236\n",
      "K-Means iteration 30/49\n",
      "Cost function value: 5.79007938942236\n",
      "K-Means iteration 31/49\n",
      "Cost function value: 5.79007938942236\n",
      "K-Means iteration 32/49\n",
      "Cost function value: 5.79007938942236\n",
      "K-Means iteration 33/49\n",
      "Cost function value: 5.79007938942236\n",
      "K-Means iteration 34/49\n",
      "Cost function value: 5.79007938942236\n",
      "K-Means iteration 35/49\n",
      "Cost function value: 5.79007938942236\n",
      "K-Means iteration 36/49\n",
      "Cost function value: 5.79007938942236\n",
      "K-Means iteration 37/49\n",
      "Cost function value: 5.79007938942236\n",
      "K-Means iteration 38/49\n",
      "Cost function value: 5.79007938942236\n",
      "K-Means iteration 39/49\n",
      "Cost function value: 5.79007938942236\n",
      "K-Means iteration 40/49\n",
      "Cost function value: 5.79007938942236\n",
      "K-Means iteration 41/49\n",
      "Cost function value: 5.79007938942236\n",
      "K-Means iteration 42/49\n",
      "Cost function value: 5.79007938942236\n",
      "K-Means iteration 43/49\n",
      "Cost function value: 5.79007938942236\n",
      "K-Means iteration 44/49\n",
      "Cost function value: 5.79007938942236\n",
      "K-Means iteration 45/49\n",
      "Cost function value: 5.79007938942236\n",
      "K-Means iteration 46/49\n",
      "Cost function value: 5.79007938942236\n",
      "K-Means iteration 47/49\n",
      "Cost function value: 5.79007938942236\n",
      "K-Means iteration 48/49\n",
      "Cost function value: 5.79007938942236\n",
      "K-Means iteration 49/49\n",
      "Cost function value: 5.79007938942236\n",
      "Final centroids selected from iteration: 0\n",
      "Final centroids: [[5.08288597e-02 1.38569658e-05 2.42848181e-02 2.11465995e-02\n",
      "  1.02246685e-02 2.58028272e-04 5.30922769e-02 3.30878613e-03\n",
      "  6.06169769e-02 4.56869587e-02 1.93525101e-02 2.56666987e-02\n",
      "  3.02869632e-02 5.95929553e-02 7.15991818e-02 2.64666166e-02\n",
      "  7.72336256e-02 1.21998704e-02 5.62500136e-03 3.93191930e-02\n",
      "  3.70850673e-02 2.17543908e-02 3.25941426e-03 4.88163033e-02\n",
      "  1.44165456e-03 3.98387653e-02 9.46765815e-03 2.17864448e-02\n",
      "  1.96788295e-04 3.23953373e-02 1.86695455e-02 7.31165934e-02\n",
      "  8.26114450e-03 9.53156193e-02 6.75139732e-03 1.50780169e-03\n",
      "  2.54417129e-02 4.01658363e-02 8.85006747e-02 8.77012898e-02\n",
      "  2.33522366e-02 1.56721303e-02 2.73170789e-02 1.82485675e-02\n",
      "  1.84531841e-03 1.10349696e-03 2.57130611e-02 1.53200419e-02\n",
      "  1.17897993e-02 2.17668745e-02 4.41995135e-02 9.18956447e-02\n",
      "  2.55250050e-02 2.44596178e-02 4.54707328e-02 5.47121903e-03\n",
      "  9.77560216e-03 1.07427606e-02 6.99740808e-03 8.66116450e-04\n",
      "  1.02913224e-03 3.43337234e-03 2.24577624e-02 6.30382743e-02\n",
      "  6.66696712e-02 1.79555217e-02 5.35183937e-02 1.27965651e-02\n",
      "  1.43862243e-01 1.18133703e-02 1.02652827e-03 6.56781342e-02\n",
      "  0.00000000e+00 3.64119274e-02 3.74512735e-06 5.19364597e-02\n",
      "  1.34041353e-02 2.64275573e-02 1.45945675e-03 1.39666278e-02\n",
      "  8.41014886e-02 4.22345646e-02 7.18906682e-03 3.28274515e-02\n",
      "  7.33073119e-02 7.58820675e-02 1.09726291e-02 1.00036007e-02\n",
      "  8.00442854e-04 3.57158449e-02 5.75637820e-02 1.99887109e-02\n",
      "  4.45601863e-02 1.61949224e-02 1.68714834e-02 8.13529619e-02\n",
      "  1.68326127e-02 9.61850457e-03 2.21139464e-02 7.97781262e-02\n",
      "  7.26363992e-02 3.42978979e-02 0.00000000e+00 5.99232322e-04\n",
      "  1.11601594e-01 8.60120657e-03 2.41256463e-02 1.14004762e-02\n",
      "  1.81170371e-02 6.37972513e-03 4.98520964e-02 4.44839342e-02\n",
      "  5.36384969e-02 1.79515211e-02 3.86292756e-02 2.32423503e-04\n",
      "  9.25912222e-02 1.11722705e-02 7.10160181e-02 9.81755238e-04\n",
      "  1.83601644e-02 2.81414964e-02 2.31897822e-04 9.63184705e-03\n",
      "  2.86922313e-02 2.50291068e-03 1.57943921e-02 2.13610705e-02\n",
      "  2.55815145e-03 1.13460381e-01 7.90120033e-02 1.00672663e-03\n",
      "  2.14148680e-03 4.31944752e-03 1.35911142e-01 1.80764989e-02\n",
      "  3.21742078e-02 5.02361400e-02 4.20986915e-02 1.16584505e-02\n",
      "  5.37580392e-03 5.99226143e-02 9.39094671e-02 2.41528805e-02\n",
      "  7.36438260e-03 1.08400748e-02 1.63914627e-02 3.74324022e-02\n",
      "  8.05665727e-02 1.35361396e-04 2.44170530e-03 6.92480156e-02\n",
      "  4.77906037e-03 3.96605165e-02 4.60159520e-02 0.00000000e+00\n",
      "  1.34987628e-01 1.33889330e-03 3.12669916e-02 2.30196277e-03\n",
      "  9.96818367e-03 3.29018929e-02 8.74231203e-03 2.83464720e-02\n",
      "  1.37763922e-02 4.36400512e-02 6.08094374e-03 1.60853831e-01\n",
      "  7.61578539e-02 4.39429926e-02 3.72479215e-03 7.55850712e-03\n",
      "  2.34194307e-02 2.22104678e-04 5.02581995e-03 1.46579800e-02\n",
      "  3.03413827e-02 3.18462920e-02 2.98625291e-02 1.52557650e-02\n",
      "  1.37475799e-05 5.57139058e-03 1.29398652e-03 3.68460641e-02\n",
      "  2.73796045e-02 0.00000000e+00 2.92951073e-02 3.00874509e-03\n",
      "  9.49602761e-02 3.59979616e-02 1.26654350e-02 5.27728767e-02\n",
      "  2.92626530e-02 7.79959876e-02 6.71052508e-03 2.72170371e-02\n",
      "  3.50386834e-02 9.00968402e-03 8.94594152e-02 2.52283054e-02\n",
      "  8.05370810e-02 4.84737510e-02 1.93697590e-02 5.94455155e-02\n",
      "  8.15204911e-02 1.34583837e-02 1.79563468e-02 2.53548926e-02\n",
      "  3.53842356e-02 1.05353904e-03 3.98338550e-05 3.52989954e-04\n",
      "  1.53911936e-02 1.04676624e-01 6.07811257e-03 8.33151134e-03\n",
      "  4.27866680e-02 1.52351369e-02 6.68192009e-02 2.18561161e-03\n",
      "  3.34800622e-02 5.32246311e-02 7.23548178e-02 3.98346116e-03\n",
      "  2.73558287e-02 2.91879556e-02 3.32480804e-02 2.05639757e-02\n",
      "  4.44126487e-02 6.77361243e-02 2.84842913e-03 2.91102467e-02\n",
      "  3.25615213e-02 9.89992131e-02 6.09356883e-03 6.05115870e-02\n",
      "  8.62916863e-03 2.39048822e-02 5.80360120e-02 4.04784966e-02\n",
      "  3.75205584e-02 6.08723330e-03 4.22258372e-02 3.43144381e-02\n",
      "  7.05091436e-02 3.03265734e-03 3.53818595e-02 3.50822018e-02\n",
      "  1.39392365e-02 1.49861418e-04 7.11949511e-02 8.07560624e-02\n",
      "  7.58298613e-02 3.69374436e-02 1.36522319e-03 4.95148365e-02\n",
      "  4.40005470e-02 1.76189332e-02 9.27832556e-03 3.41102957e-03\n",
      "  5.25459034e-02 1.81482720e-02 2.65385794e-02 0.00000000e+00\n",
      "  9.50916764e-04 1.65093049e-02 6.99373791e-03 1.17606011e-01\n",
      "  7.70548229e-02 2.40974509e-02 2.12619945e-02 3.74341064e-03\n",
      "  9.70302205e-03 7.34592946e-02 3.76674071e-02 2.27920714e-02\n",
      "  2.98189176e-02 6.97650825e-04 3.38100214e-02 0.00000000e+00\n",
      "  3.63415007e-02 1.00804834e-02 6.17666501e-02 2.15159647e-02\n",
      "  3.75630319e-02 1.66174604e-01 5.43939712e-03 5.15576828e-03\n",
      "  1.16738389e-01 5.59300606e-02 4.76688132e-02 1.34805956e-02\n",
      "  1.00503885e-01 6.67230085e-02 4.41625698e-02 2.36179085e-02\n",
      "  1.75914523e-02 1.86556770e-02 7.87628314e-04 1.16304842e-03\n",
      "  1.20854609e-02 4.64503633e-02 4.60422896e-03 1.19480139e-01\n",
      "  6.19473530e-04 8.48670716e-02 2.05887406e-02 5.41422900e-02\n",
      "  5.13454669e-03 8.43332015e-03 8.22295763e-02 1.90362250e-02\n",
      "  3.45179289e-02 4.77402244e-02 2.12723976e-02 3.36120835e-02\n",
      "  3.78508777e-04 1.14823452e-02 8.21130047e-03 3.59526488e-02\n",
      "  2.64044843e-02 7.20160917e-02 7.57539863e-02 1.93045093e-02\n",
      "  8.49366489e-02 7.13718779e-02 8.12802008e-02 3.28063556e-03\n",
      "  7.31000136e-02 1.43268513e-02 7.23025371e-02 3.81649188e-02\n",
      "  1.72077473e-02 1.20105727e-02 6.62862979e-02 5.26421610e-02\n",
      "  2.26202506e-02 6.93079636e-03 3.73558174e-02 7.49004495e-02\n",
      "  1.04892349e-02 4.71669446e-04 7.06778318e-02 1.38635852e-03\n",
      "  8.42867018e-03 7.98289175e-02 5.14353477e-02 4.50340475e-04\n",
      "  2.11881443e-02 5.48718089e-02 7.49656413e-04 1.42850063e-02\n",
      "  2.57636289e-02 1.43323950e-02 3.57384222e-02 1.24677334e-02\n",
      "  4.19689253e-02 7.34795934e-02 1.04819737e-02 2.69666952e-02\n",
      "  1.27502806e-02 1.20097046e-02 1.43582700e-02 2.08581362e-02\n",
      "  2.07291450e-02 6.04338327e-03 3.36707411e-02 4.71237243e-02\n",
      "  4.18393750e-03 3.58697663e-03 8.37468436e-02 3.72880112e-02\n",
      "  4.65433068e-02 6.37516092e-02 2.84346445e-02 2.26386410e-02\n",
      "  3.84392366e-02 1.57241632e-02 2.23867887e-02 6.06284657e-03\n",
      "  2.62899248e-03 5.90072968e-02 1.01725407e-01 4.22003299e-02\n",
      "  7.42880269e-02 1.30525507e-02 3.40000766e-02 4.34526671e-03\n",
      "  1.04575237e-01 4.75236553e-03 1.11422633e-02 1.07315618e-01\n",
      "  1.87243327e-02 4.69143407e-02 1.11037231e-02 5.53639748e-02\n",
      "  1.36317399e-03 7.37641165e-02 2.36928432e-02 5.13241208e-02\n",
      "  1.10541793e-01 6.25537002e-02 5.38108808e-02 1.90892877e-02\n",
      "  3.05402654e-02 6.07888908e-02 1.09378816e-01 2.68611773e-02\n",
      "  6.24406860e-02 7.38671931e-02 4.93321192e-02 5.20541751e-02\n",
      "  5.62330626e-02 3.64591183e-02 2.47385514e-04 3.33342130e-03\n",
      "  4.82904613e-02 9.79516670e-03 1.03543986e-02 2.01593075e-02\n",
      "  4.11372630e-03 1.58442740e-03 0.00000000e+00 7.59234564e-03\n",
      "  5.03857489e-02 7.93126325e-03 2.72300742e-03 6.06468084e-02\n",
      "  8.11626705e-03 1.53858978e-02 2.61663514e-04 6.79697887e-03\n",
      "  1.20711747e-02 1.93126660e-03 2.86170824e-02 1.09833859e-02\n",
      "  1.24911241e-02 7.04062439e-02 9.94971020e-04 2.59800375e-03\n",
      "  1.79851778e-03 7.18560320e-03 1.85259527e-02 2.63607821e-02\n",
      "  4.46019475e-02 3.52018862e-03 2.34940839e-02 8.71190745e-03\n",
      "  3.93328916e-02 2.43082250e-03 3.00977638e-03 2.16607208e-03\n",
      "  5.20603099e-02 8.34551384e-02 2.02930720e-02 1.96275937e-02\n",
      "  8.80358955e-03 1.23896789e-02 2.33289402e-02 3.27532242e-02\n",
      "  2.34499045e-02 3.67420658e-02 5.65534961e-02 2.35252349e-02\n",
      "  5.72117482e-02 5.86981181e-03 5.35648514e-02 1.97354017e-02\n",
      "  7.33283973e-02 2.76669308e-03 4.76494779e-02 1.72218148e-02\n",
      "  9.50154613e-02 2.89286768e-03 4.31141021e-02 1.85596219e-02\n",
      "  1.45193467e-02 1.53278745e-02 1.80437708e-03 1.44740910e-02\n",
      "  5.86690500e-03 6.40194036e-02 3.67552105e-02 2.18070684e-04\n",
      "  2.68042024e-02 6.65893185e-02 8.23896115e-02 1.35502648e-02\n",
      "  4.28571251e-02 3.58387456e-02 1.84359824e-02 4.17349793e-02\n",
      "  2.98838985e-02 1.10713874e-02 4.45357156e-04 4.31995331e-02\n",
      "  2.24787990e-02 3.09792731e-02 8.73472020e-06 4.45326617e-03\n",
      "  1.77576777e-04 7.64437455e-02 4.63804625e-03 7.21733807e-02\n",
      "  9.23835457e-03 1.80671058e-02 4.04020677e-02 5.43786796e-02\n",
      "  5.47949437e-03 1.35153802e-03 3.18590596e-02 1.23893196e-01]]\n"
     ]
    }
   ],
   "source": [
    "# Main function to run the K-Means algorithm\n",
    "\n",
    "K = 1                     # Set number of clusters\n",
    "initial_centroids = kMeans_init_centroids(feats_np_norm, K)  # Step 3: Initialize centroids\n",
    "max_iters = 50                # Step 4: Number of iterations\n",
    "best_centroids, best_idx, ex_centroids, idx = run_kMeans(feats_np_norm, initial_centroids, max_iters)  # Step 5: Run K-Means\n",
    "print(\"Final centroids:\", ex_centroids)  # Output the final centroids"
   ]
  },
  {
   "cell_type": "code",
   "execution_count": 29,
   "metadata": {},
   "outputs": [
    {
     "data": {
      "text/plain": [
       "dtype('float64')"
      ]
     },
     "execution_count": 29,
     "metadata": {},
     "output_type": "execute_result"
    }
   ],
   "source": [
    "centroids[0]\n",
    "zero_centroid = centroids[0]\n",
    "zero_centroid.dtype"
   ]
  },
  {
   "cell_type": "code",
   "execution_count": 33,
   "metadata": {},
   "outputs": [
    {
     "data": {
      "text/plain": [
       "array([3.36769046e-02, 1.46736002e-02, 1.83251473e-02, 1.55093606e-02,\n",
       "       7.29693254e-03, 3.61932031e-02, 2.52138496e-02, 2.19718408e-02,\n",
       "       3.08696451e-02, 9.46769129e-02, 8.58021659e-02, 2.17426789e-02,\n",
       "       1.85953106e-02, 4.93313334e-03, 4.34738036e-02, 5.26666292e-02,\n",
       "       4.63988704e-03, 2.36199780e-02, 6.01302809e-04, 3.06991230e-03,\n",
       "       4.77462394e-03, 7.62216469e-02, 8.63352385e-02, 5.66024435e-02,\n",
       "       7.26838224e-03, 2.80228620e-04, 1.20124991e-02, 4.95440483e-05,\n",
       "       8.63666681e-02, 1.00408946e-01, 3.65309708e-02, 2.44926003e-02,\n",
       "       3.15310298e-03, 3.70895048e-03, 5.12028251e-02, 1.18649313e-02,\n",
       "       6.17890668e-02, 3.77719074e-02, 1.86844418e-02, 2.39827621e-02,\n",
       "       1.68933970e-02, 4.42740228e-02, 1.29648065e-02, 1.41348501e-03,\n",
       "       1.04432834e-01, 3.26914905e-02, 3.61598774e-02, 2.97499727e-02,\n",
       "       2.70557147e-02, 2.90645651e-02, 1.42544458e-02, 3.60732411e-02,\n",
       "       6.79046839e-02, 3.17214696e-02, 5.03616300e-02, 2.53339555e-03,\n",
       "       2.54240284e-02, 7.38460919e-02, 3.45142817e-02, 5.66057281e-02,\n",
       "       5.18565481e-03, 9.19349374e-02, 4.07727388e-02, 3.44474973e-02,\n",
       "       4.94921316e-02, 1.25382431e-02, 1.12071096e-02, 4.31289962e-02,\n",
       "       2.11081731e-02, 4.42297251e-02, 3.81815772e-02, 3.90408626e-03,\n",
       "       7.38991252e-02, 5.79528292e-02, 3.36659840e-02, 7.09687867e-02,\n",
       "       3.52330943e-02, 7.90132907e-03, 1.69108630e-04, 1.86399426e-02,\n",
       "       1.13628876e-02, 4.90327037e-02, 9.12608930e-02, 1.64594503e-02,\n",
       "       1.06093876e-02, 4.66130793e-03, 2.26974084e-03, 1.72000658e-02,\n",
       "       4.40643588e-02, 2.38986929e-02, 2.71396255e-02, 1.37136941e-02,\n",
       "       6.55678917e-02, 6.35639321e-03, 3.06532372e-02, 1.58475254e-02,\n",
       "       4.76142828e-02, 2.82505459e-03, 4.59124181e-02, 8.88919270e-03,\n",
       "       1.86483789e-02, 1.73402642e-02, 3.12533737e-02, 4.23261540e-02,\n",
       "       1.28248492e-02, 8.25276770e-02, 4.15037114e-02, 1.09017825e-02,\n",
       "       1.24664545e-01, 7.26930146e-02, 3.11561778e-02, 8.09126163e-03,\n",
       "       2.03868213e-02, 2.10499590e-02, 7.23035461e-02, 6.20509861e-02,\n",
       "       4.67841720e-03, 6.04938017e-02, 1.49997332e-02, 3.48620708e-02,\n",
       "       3.03987887e-02, 1.58654183e-02, 1.71767208e-02, 1.04564119e-02,\n",
       "       2.13785018e-02, 1.11686181e-02, 2.42098507e-02, 1.06727010e-02,\n",
       "       9.16480064e-03, 3.97978772e-02, 3.43694132e-03, 6.85797719e-02,\n",
       "       2.32319631e-02, 2.38021822e-03, 9.60060570e-03, 9.37462710e-03,\n",
       "       1.52163997e-02, 5.22587950e-02, 9.43656374e-03, 1.30912067e-03,\n",
       "       4.46872964e-03, 3.73911582e-02, 3.62374379e-02, 2.77980110e-02,\n",
       "       1.84569735e-02, 2.78576065e-02, 1.78402487e-02, 4.23572994e-02,\n",
       "       1.78674094e-02, 4.95625336e-02, 1.67525638e-02, 1.07638961e-02,\n",
       "       3.16426558e-02, 6.89693941e-03, 7.51041296e-04, 2.25040701e-02,\n",
       "       1.00513706e-03, 3.01343582e-02, 6.79379398e-03, 3.74077186e-02,\n",
       "       8.02988150e-02, 5.09559684e-02, 8.33811252e-03, 3.75021540e-02,\n",
       "       3.21347595e-02, 2.17771578e-02, 6.03693746e-04, 4.99437405e-03,\n",
       "       1.35673936e-03, 4.00220446e-02, 4.86116880e-03, 3.89964041e-03,\n",
       "       2.08734478e-03, 2.75571154e-02, 8.22899659e-02, 8.13444420e-02,\n",
       "       1.12278992e-02, 4.87389263e-02, 1.03445565e-02, 3.72197935e-02,\n",
       "       5.95062351e-02, 5.94979421e-02, 1.22682580e-02, 1.31519710e-02,\n",
       "       1.44512417e-02, 2.19427221e-02, 1.50787159e-02, 3.43425955e-02,\n",
       "       1.82928942e-02, 1.98128754e-02, 6.54049481e-02, 3.14147728e-02,\n",
       "       1.48915346e-01, 2.89328262e-03, 2.50743803e-02, 1.82064070e-02,\n",
       "       3.53833282e-02, 3.16924814e-03, 3.61727455e-02, 6.58415889e-02,\n",
       "       1.13904852e-02, 1.43955318e-02, 5.79944736e-03, 1.32725317e-03,\n",
       "       7.68217356e-03, 3.61550553e-02, 8.09592924e-02, 4.64993160e-02,\n",
       "       3.19395151e-02, 1.10432781e-03, 4.92312140e-02, 1.11992496e-01,\n",
       "       7.61852998e-03, 3.69564742e-02, 3.17322226e-02, 1.33460885e-03,\n",
       "       1.71220603e-02, 1.38004934e-02, 3.31982863e-02, 1.94792740e-02,\n",
       "       4.33786582e-03, 2.59451740e-02, 2.51328553e-02, 5.24892800e-03,\n",
       "       3.65796433e-02, 2.38872970e-02, 1.22137750e-01, 1.76139104e-03,\n",
       "       1.62083993e-02, 2.51460589e-02, 6.55647562e-02, 8.42768922e-03,\n",
       "       1.16103442e-02, 3.05179098e-02, 1.56892128e-02, 4.36905073e-02,\n",
       "       1.79981376e-03, 4.09583484e-02, 3.23800846e-03, 4.47283631e-02,\n",
       "       2.49839074e-02, 3.27175063e-02, 3.43224686e-02, 2.83623640e-02,\n",
       "       3.87045328e-02, 3.04284953e-06, 6.69211904e-03, 6.48843336e-02,\n",
       "       7.95094734e-03, 2.11193363e-04, 5.93192930e-02, 3.59829032e-02,\n",
       "       2.44671572e-04, 4.59957581e-02, 6.02077489e-02, 1.93617393e-02,\n",
       "       8.68215814e-03, 5.23729823e-02, 5.85117499e-02, 3.72242632e-03,\n",
       "       4.57370676e-02, 5.61164640e-02, 2.99537742e-04, 3.06942363e-02,\n",
       "       5.89733768e-02, 3.78327585e-02, 9.40793412e-02, 3.27370566e-03,\n",
       "       1.40428263e-02, 4.46803603e-03, 7.19571081e-02, 3.00078270e-02,\n",
       "       5.52012795e-02, 3.27614784e-03, 1.05163401e-01, 1.22045008e-02,\n",
       "       7.42040563e-02, 2.01500712e-04, 5.50634525e-02, 4.34545340e-02,\n",
       "       1.57009698e-02, 3.78205822e-03, 3.03796355e-02, 4.99779201e-02,\n",
       "       4.51780490e-02, 4.01820997e-02, 3.72757759e-02, 1.09557539e-01,\n",
       "       1.64378716e-03, 9.44869005e-02, 4.49475966e-02, 1.94647892e-02,\n",
       "       1.38755265e-02, 3.75743754e-02, 1.61039948e-02, 1.02270278e-01,\n",
       "       1.05124957e-02, 9.89927518e-02, 7.88426469e-02, 4.02399364e-02,\n",
       "       6.75977285e-03, 1.52639808e-02, 5.86307126e-02, 3.32539054e-02,\n",
       "       8.75237009e-02, 1.02151658e-02, 2.65120406e-02, 8.52284483e-02,\n",
       "       1.86534886e-02, 1.67986196e-01, 9.79684887e-03, 2.22761126e-02,\n",
       "       2.97782738e-02, 3.46193745e-02, 9.75433393e-02, 4.08583012e-02,\n",
       "       1.04373101e-02, 6.98786524e-02, 2.97085706e-02, 1.19078709e-02,\n",
       "       3.99142548e-03, 0.00000000e+00, 1.22950129e-01, 3.89524961e-02,\n",
       "       1.54195282e-02, 6.35307379e-02, 2.68545464e-02, 4.89299822e-02,\n",
       "       7.07233475e-03, 6.69402428e-04, 2.49588862e-02, 4.42479767e-03,\n",
       "       8.00215796e-04, 2.88841106e-03, 2.42290970e-02, 3.33091750e-02,\n",
       "       9.99398039e-02, 2.08121640e-02, 3.97180687e-02, 1.52986615e-05,\n",
       "       8.40641381e-02, 5.57580105e-02, 3.03548730e-02, 2.20522713e-02,\n",
       "       3.52966502e-04, 3.87351075e-02, 2.09683832e-04, 6.66168871e-02,\n",
       "       3.03981271e-02, 1.66497550e-02, 1.58448803e-02, 1.89579631e-02,\n",
       "       3.41621224e-02, 5.05495784e-02, 3.40159186e-02, 3.68311730e-02,\n",
       "       3.53085141e-02, 7.39312909e-02, 7.41832507e-04, 5.90568007e-02,\n",
       "       4.05442385e-02, 8.84283281e-03, 1.62911002e-03, 8.47486559e-03,\n",
       "       2.69595531e-02, 2.88758619e-02, 4.91785348e-02, 8.14088945e-02,\n",
       "       1.47226373e-02, 4.96876881e-02, 5.34724998e-02, 3.26212212e-02,\n",
       "       1.01892015e-01, 4.43745685e-02, 1.95529479e-02, 7.46627693e-05,\n",
       "       4.78889723e-02, 9.84383946e-03, 3.47815424e-02, 3.58419361e-02,\n",
       "       1.86344030e-03, 6.05706658e-02, 5.90319729e-02, 3.33981362e-02,\n",
       "       2.11028269e-02, 5.31030371e-02, 1.00991124e-01, 1.09939586e-01,\n",
       "       1.21483227e-04, 3.74137328e-04, 7.24513678e-03, 3.62406276e-03,\n",
       "       5.19950681e-02, 2.37437846e-03, 5.64229419e-02, 4.34796997e-06,\n",
       "       2.61663253e-03, 5.99042470e-03, 3.05427352e-02, 6.46085912e-02,\n",
       "       3.43395648e-02, 3.79263506e-02, 3.81918864e-03, 6.08822312e-02,\n",
       "       2.83721642e-02, 1.07637136e-05, 9.40369804e-03, 8.77919098e-02,\n",
       "       9.83093405e-03, 2.44302012e-03, 5.15696881e-03, 1.54711361e-04,\n",
       "       2.76137106e-02, 1.98640917e-02, 4.03852410e-02, 5.20201335e-02,\n",
       "       8.79411533e-04, 2.46710327e-02, 3.95605901e-02, 1.82668004e-02,\n",
       "       4.51803506e-02, 8.98773214e-03, 3.43848246e-02, 7.64441796e-04,\n",
       "       9.00846093e-02, 1.56240866e-01, 1.93669783e-02, 9.04151275e-02,\n",
       "       7.36418324e-02, 4.16411330e-02, 4.93808981e-02, 1.21618019e-04,\n",
       "       3.10166107e-02, 6.32593843e-02, 6.77280382e-02, 5.54678845e-03,\n",
       "       3.59168294e-02, 3.23243991e-02, 9.40301900e-03, 1.74835446e-02,\n",
       "       7.32195087e-02, 4.68911017e-03, 1.94129277e-02, 8.05841504e-02,\n",
       "       1.03450699e-01, 6.06187699e-02, 6.01424717e-02, 1.66751963e-03,\n",
       "       1.09133104e-03, 3.23240101e-02, 1.62775341e-02, 2.15224181e-02,\n",
       "       2.83663917e-02, 2.41989137e-02, 4.88661214e-03, 2.99048755e-03,\n",
       "       9.66520612e-03, 7.12458896e-02, 5.73014135e-03, 2.78943543e-03,\n",
       "       5.84082736e-03, 5.63833474e-03, 9.46919614e-02, 1.38071497e-03,\n",
       "       3.06741025e-02, 1.76257195e-02, 1.19288772e-02, 3.54033659e-03,\n",
       "       9.05119868e-03, 1.56251668e-04, 7.79550949e-02, 5.58523224e-02,\n",
       "       9.05565384e-03, 7.01633401e-02, 9.64816994e-03, 3.81826383e-03,\n",
       "       7.19859403e-03, 2.37206053e-02, 1.84977956e-02, 9.35745207e-02,\n",
       "       3.35175438e-02, 4.63209884e-02, 1.64821233e-02, 1.16267578e-02,\n",
       "       1.07736348e-01, 1.13983293e-01, 6.30525576e-02, 1.71725219e-02,\n",
       "       2.18500291e-02, 1.68156302e-02, 1.14753396e-01, 1.81926359e-03,\n",
       "       8.96801062e-03, 4.92006277e-02, 1.17287543e-01, 1.05432614e-02,\n",
       "       3.43193424e-02, 6.76033216e-02, 6.33881029e-02, 2.22299373e-02,\n",
       "       9.40801052e-02, 2.22122728e-02, 2.19988932e-02, 2.84151155e-02,\n",
       "       6.45857307e-03, 1.14511592e-02, 4.40894792e-04, 8.61399592e-03,\n",
       "       3.97735433e-02, 9.02765388e-03, 4.84513053e-05, 6.38506989e-03])"
      ]
     },
     "execution_count": 33,
     "metadata": {},
     "output_type": "execute_result"
    }
   ],
   "source": [
    "zero_centroid\n"
   ]
  },
  {
   "cell_type": "code",
   "execution_count": 30,
   "metadata": {},
   "outputs": [
    {
     "name": "stdout",
     "output_type": "stream",
     "text": [
      "Saved as zero_centroid.npy\n"
     ]
    }
   ],
   "source": [
    "import numpy as np\n",
    "\n",
    "# Save as a .npy file\n",
    "np.save(\"zero_centroid.npy\", zero_centroid)\n",
    "\n",
    "# Verify it saved correctly\n",
    "print(\"Saved as zero_centroid.npy\")\n"
   ]
  },
  {
   "cell_type": "code",
   "execution_count": 31,
   "metadata": {},
   "outputs": [],
   "source": [
    "centroids[1]\n",
    "control_centroid = centroids[1]\n",
    "# Save as a .npy file\n",
    "np.save(\"control_centroid.npy\", control_centroid)\n"
   ]
  },
  {
   "cell_type": "code",
   "execution_count": 34,
   "metadata": {},
   "outputs": [
    {
     "data": {
      "text/plain": [
       "array([1.15598470e-02, 4.67950409e-03, 6.05679322e-02, 3.97132158e-02,\n",
       "       6.22930776e-02, 5.17932629e-02, 1.90802656e-02, 8.08007625e-03,\n",
       "       3.38454953e-02, 9.24501503e-02, 4.76434851e-02, 2.14307619e-04,\n",
       "       1.47158513e-02, 4.39298516e-02, 2.07922538e-02, 8.76266459e-02,\n",
       "       4.51024916e-03, 2.02452398e-02, 1.02720320e-01, 3.36181781e-02,\n",
       "       5.73134491e-02, 4.59700364e-02, 1.96533308e-02, 4.41950442e-02,\n",
       "       4.64942876e-02, 8.68416067e-02, 2.48886350e-03, 3.11143663e-02,\n",
       "       3.19192450e-02, 3.00994204e-02, 5.24902090e-02, 5.94388663e-02,\n",
       "       1.92604194e-02, 4.25758701e-02, 5.99676470e-04, 8.55245687e-02,\n",
       "       3.23483905e-02, 1.06046391e-01, 6.63183799e-02, 5.65145538e-03,\n",
       "       2.28252602e-03, 5.34213564e-03, 8.30311229e-03, 5.05609658e-02,\n",
       "       1.51367914e-02, 2.51264336e-02, 1.20286749e-02, 7.87353088e-02,\n",
       "       1.38669759e-02, 3.57596346e-03, 1.14059338e-01, 5.19642330e-02,\n",
       "       9.90690312e-03, 2.19089287e-02, 6.54569222e-02, 3.10062320e-02,\n",
       "       1.44937849e-02, 1.33918656e-02, 1.01999515e-01, 4.55441759e-02,\n",
       "       2.97473888e-02, 1.31913932e-03, 1.75270500e-02, 5.98513807e-03,\n",
       "       7.84028339e-03, 1.92994330e-02, 1.74753880e-02, 8.10783079e-03,\n",
       "       3.63176580e-03, 0.00000000e+00, 1.59209067e-03, 1.99180482e-02,\n",
       "       2.48371174e-02, 1.52257784e-03, 1.71344064e-02, 3.49561504e-03,\n",
       "       4.65401470e-02, 7.23924074e-02, 3.11848384e-02, 2.84773850e-03,\n",
       "       2.25017766e-02, 5.51146133e-02, 1.43326696e-02, 5.41559368e-03,\n",
       "       9.28842545e-02, 3.93734778e-02, 8.28768059e-02, 1.30668044e-05,\n",
       "       4.46870765e-02, 2.45147175e-02, 3.93173208e-02, 5.51307946e-02,\n",
       "       7.95402135e-05, 5.27995131e-02, 9.09465775e-02, 7.48664124e-03,\n",
       "       8.37932892e-02, 7.74946105e-02, 3.09907022e-02, 9.12517030e-03,\n",
       "       2.20578107e-02, 5.65232008e-03, 2.05732272e-03, 1.96829277e-02,\n",
       "       4.64705118e-02, 2.74342893e-02, 7.89853819e-02, 1.37945866e-02,\n",
       "       3.67784596e-02, 1.34377621e-02, 4.29359755e-04, 4.29659880e-02,\n",
       "       2.29506294e-02, 7.78495688e-03, 1.25145396e-02, 1.03951970e-03,\n",
       "       1.91253541e-02, 6.22336704e-02, 3.25500332e-02, 3.87641884e-03,\n",
       "       5.20680484e-02, 8.05292213e-03, 4.08843774e-03, 1.15046946e-03,\n",
       "       4.96209477e-02, 3.00963116e-02, 1.70223499e-03, 1.73321754e-02,\n",
       "       5.86963483e-02, 1.90507451e-02, 2.46252118e-02, 3.90751570e-03,\n",
       "       1.11462813e-02, 1.45432735e-02, 8.53230581e-02, 5.15679393e-02,\n",
       "       5.25230271e-03, 5.15660407e-03, 9.67359960e-03, 7.06864013e-02,\n",
       "       7.78846756e-04, 1.04025489e-01, 1.57991285e-02, 1.49476657e-06,\n",
       "       3.95189925e-03, 8.93478550e-02, 1.12189210e-02, 8.26249338e-02,\n",
       "       2.23172773e-02, 1.49258543e-01, 6.17660816e-02, 6.60243762e-03,\n",
       "       6.17516315e-05, 1.04419492e-04, 5.50475837e-02, 2.06387913e-03,\n",
       "       7.87655804e-03, 4.85578241e-03, 5.87589685e-02, 5.19833527e-03,\n",
       "       2.19545748e-02, 3.97962736e-02, 4.54226665e-03, 6.15175200e-02,\n",
       "       9.34593157e-03, 6.37980414e-02, 3.01282569e-02, 2.41430603e-03,\n",
       "       3.34818633e-02, 1.01539567e-01, 1.19559558e-05, 1.49423363e-02,\n",
       "       4.17184230e-02, 2.71493360e-02, 7.40234253e-03, 5.48520170e-03,\n",
       "       3.25675661e-02, 2.45532165e-02, 5.45734574e-02, 1.61865561e-02,\n",
       "       2.05586657e-04, 4.92677315e-02, 5.09118730e-02, 1.57767111e-02,\n",
       "       5.73993445e-03, 6.77007737e-02, 3.18200893e-02, 3.46183708e-02,\n",
       "       1.93254912e-02, 1.02533903e-03, 3.02763855e-02, 1.68304481e-02,\n",
       "       8.42976639e-02, 5.80596578e-02, 1.46697183e-03, 4.26429924e-02,\n",
       "       5.19812767e-02, 7.94213963e-02, 3.41675961e-02, 2.77791575e-02,\n",
       "       9.85573286e-02, 5.37836740e-03, 2.09701903e-02, 7.24973216e-02,\n",
       "       3.48860184e-02, 7.26121857e-03, 1.75286844e-02, 3.65831572e-03,\n",
       "       1.25352707e-03, 6.85360398e-02, 3.72086174e-04, 3.85815807e-03,\n",
       "       3.46642487e-02, 1.56030576e-02, 7.35030293e-02, 4.53395403e-02,\n",
       "       9.00240795e-03, 2.16573951e-02, 1.08465237e-02, 6.14046450e-02,\n",
       "       7.55735321e-02, 4.87523035e-02, 6.22954712e-03, 3.62796649e-02,\n",
       "       2.24138180e-02, 4.73494275e-03, 1.17024778e-02, 2.20692274e-03,\n",
       "       3.45872206e-02, 1.72049997e-03, 6.11862402e-03, 8.11698088e-04,\n",
       "       1.37409298e-02, 3.56188462e-02, 9.59400460e-03, 1.46020385e-02,\n",
       "       4.79247988e-02, 1.85983836e-02, 1.50742540e-03, 7.56858508e-02,\n",
       "       5.31040706e-03, 2.54677132e-02, 6.60454606e-03, 2.75505443e-02,\n",
       "       1.18756201e-02, 4.12816204e-02, 1.38988552e-02, 3.72090493e-02,\n",
       "       4.55070887e-02, 1.02425992e-02, 3.85716326e-03, 3.00222305e-03,\n",
       "       3.10567627e-02, 1.59385927e-04, 1.36335768e-02, 1.39034056e-03,\n",
       "       3.37413438e-02, 5.35555697e-02, 4.66086661e-03, 9.24845107e-04,\n",
       "       7.45824107e-03, 1.69915014e-03, 1.04079882e-02, 6.58569483e-02,\n",
       "       3.43896347e-02, 6.29978409e-02, 3.74868485e-02, 7.63307107e-03,\n",
       "       1.02468374e-01, 1.00971830e-03, 7.06368837e-02, 1.99586452e-02,\n",
       "       8.95279068e-03, 4.15236446e-02, 1.27391336e-01, 2.01264069e-02,\n",
       "       1.33105939e-02, 7.83967903e-02, 1.72146175e-02, 7.37678684e-03,\n",
       "       4.04297139e-02, 5.40338317e-02, 1.06150276e-01, 1.06659815e-01,\n",
       "       8.77025137e-03, 2.99973761e-02, 5.81992436e-02, 1.84722482e-02,\n",
       "       7.24371355e-02, 6.78783322e-02, 3.61822363e-02, 7.50149709e-02,\n",
       "       9.74318212e-03, 1.94153577e-02, 4.85975193e-02, 4.02638764e-02,\n",
       "       6.12426835e-02, 7.71197188e-02, 5.44331020e-02, 8.24958450e-02,\n",
       "       4.92131462e-02, 8.58097643e-03, 4.30207402e-02, 2.31310209e-02,\n",
       "       1.50572074e-02, 4.47627346e-02, 1.51040854e-03, 1.43972209e-02,\n",
       "       5.79213146e-02, 1.88324840e-02, 3.35338498e-02, 2.65102403e-03,\n",
       "       5.70054896e-02, 1.78871038e-02, 5.33437301e-03, 6.06864800e-03,\n",
       "       7.51355008e-02, 2.16482265e-02, 7.55752430e-02, 2.69934106e-03,\n",
       "       1.14046722e-02, 1.64229469e-02, 2.83143740e-02, 5.92838027e-04,\n",
       "       4.75974495e-02, 1.36574117e-02, 1.44594320e-02, 6.72888234e-04,\n",
       "       6.02000787e-02, 3.58574962e-03, 7.13605684e-03, 4.27362134e-02,\n",
       "       3.39387767e-02, 2.40050483e-03, 6.07348362e-02, 2.40946480e-02,\n",
       "       5.38452661e-02, 4.86457989e-02, 4.73869395e-02, 7.52358296e-02,\n",
       "       1.54918485e-03, 3.44632348e-03, 9.72011854e-03, 5.57390565e-03,\n",
       "       8.01858588e-02, 3.20343595e-02, 9.88369291e-03, 1.51947809e-02,\n",
       "       3.06847413e-04, 1.18383160e-01, 2.27950941e-02, 3.24156681e-02,\n",
       "       9.62763877e-03, 5.07525219e-02, 2.40811257e-03, 2.54225370e-03,\n",
       "       3.82976804e-03, 6.52015821e-02, 6.45249948e-02, 5.13423097e-02,\n",
       "       2.93234362e-02, 1.28161603e-01, 6.57231152e-03, 9.37236518e-02,\n",
       "       5.04246811e-02, 5.19693238e-02, 1.34298522e-02, 2.33654366e-02,\n",
       "       5.58212218e-02, 1.67842862e-02, 3.18618825e-02, 1.82097332e-02,\n",
       "       1.95759085e-02, 2.39535136e-02, 5.07391456e-02, 1.16557340e-02,\n",
       "       2.99726892e-02, 4.52593988e-03, 1.41887904e-02, 5.35494159e-03,\n",
       "       3.93326351e-02, 2.64771950e-02, 6.51749085e-02, 1.31940143e-02,\n",
       "       1.74619446e-02, 2.92391798e-02, 3.90546174e-03, 1.96983023e-02,\n",
       "       3.44080787e-02, 9.84974995e-02, 1.16507879e-03, 1.09990684e-02,\n",
       "       9.95109339e-03, 6.67066525e-02, 2.34230680e-02, 2.75320401e-02,\n",
       "       6.28925511e-02, 2.18216076e-02, 1.38835281e-02, 6.48948327e-02,\n",
       "       4.22451130e-02, 5.68756497e-02, 1.11380854e-03, 8.70968564e-03,\n",
       "       2.54304498e-02, 2.29830152e-02, 5.34535625e-03, 4.05384301e-02,\n",
       "       2.26761175e-02, 4.70861526e-02, 4.42884289e-04, 1.20458030e-04,\n",
       "       4.84985722e-02, 8.02010340e-03, 2.97446139e-02, 1.28065670e-02,\n",
       "       9.72378425e-03, 4.15626744e-02, 2.79004246e-03, 1.53204828e-03,\n",
       "       8.41176201e-02, 2.38411253e-02, 1.24412635e-02, 6.34287830e-03,\n",
       "       7.29882365e-02, 6.39913095e-04, 7.81642698e-04, 1.27749416e-02,\n",
       "       6.87441806e-02, 5.42866078e-02, 3.42630403e-02, 2.01222132e-02,\n",
       "       1.37609478e-02, 3.81103922e-02, 1.80266271e-02, 8.86414226e-02,\n",
       "       7.23898063e-02, 6.14433642e-02, 5.90968194e-02, 1.04086315e-02,\n",
       "       9.46016628e-03, 1.10900863e-03, 8.24664231e-03, 1.21767594e-02,\n",
       "       8.04501381e-02, 5.55184662e-05, 3.81486611e-03, 8.57768673e-02,\n",
       "       1.35161058e-02, 1.05742284e-01, 1.10074526e-01, 6.47085553e-03,\n",
       "       3.59210217e-02, 4.87793573e-02, 7.13065419e-03, 8.63693628e-02,\n",
       "       2.07195399e-02, 6.76949224e-02, 3.34495855e-04, 6.39926853e-02,\n",
       "       3.83988948e-02, 1.93075051e-02, 6.10409214e-03, 2.16777493e-02,\n",
       "       1.17467678e-01, 5.80219540e-02, 1.43991636e-02, 4.06374965e-03,\n",
       "       1.21650401e-04, 9.38616704e-02, 1.22483874e-01, 1.16287590e-02,\n",
       "       2.32341817e-04, 4.22183559e-02, 9.29813890e-04, 2.56074960e-02,\n",
       "       1.18589933e-03, 4.24785829e-02, 4.83112121e-02, 6.48919998e-02,\n",
       "       3.60227901e-02, 4.88809472e-02, 2.76762624e-03, 3.51299853e-02,\n",
       "       3.23214131e-02, 6.29483105e-03, 6.16827771e-05, 3.27093594e-03,\n",
       "       1.18502243e-01, 4.95669141e-02, 4.76132506e-02, 8.03749344e-02,\n",
       "       2.27446168e-02, 2.53355063e-02, 8.49449046e-03, 7.01327667e-04,\n",
       "       2.99826089e-02, 3.97971204e-03, 9.98022438e-03, 3.17415381e-02,\n",
       "       1.58333492e-02, 3.70154670e-02, 3.00654234e-02, 2.68843954e-03,\n",
       "       7.41710722e-05, 6.33434300e-02, 6.00972277e-02, 2.33023364e-02,\n",
       "       3.71384659e-02, 1.42746888e-01, 2.74022553e-03, 1.27808517e-01])"
      ]
     },
     "execution_count": 34,
     "metadata": {},
     "output_type": "execute_result"
    }
   ],
   "source": [
    "control_centroid"
   ]
  },
  {
   "cell_type": "code",
   "execution_count": 32,
   "metadata": {},
   "outputs": [],
   "source": [
    "centroids[2]\n",
    "second_centroid = centroids[2]\n",
    "np.save(\"second_centroid.npy\", second_centroid)"
   ]
  },
  {
   "cell_type": "code",
   "execution_count": 35,
   "metadata": {},
   "outputs": [
    {
     "data": {
      "text/plain": [
       "array([5.08204534e-02, 1.38566993e-05, 2.42818865e-02, 2.11519504e-02,\n",
       "       1.02226287e-02, 2.58021128e-04, 5.30945093e-02, 3.30895115e-03,\n",
       "       6.06233840e-02, 4.56875461e-02, 1.93512919e-02, 2.56484853e-02,\n",
       "       3.02832365e-02, 5.95854790e-02, 7.15881605e-02, 2.64606850e-02,\n",
       "       7.72357288e-02, 1.22043426e-02, 5.62459412e-03, 3.93236498e-02,\n",
       "       3.70879683e-02, 2.17545449e-02, 3.25828714e-03, 4.88226627e-02,\n",
       "       1.44173592e-03, 3.98310312e-02, 9.46281570e-03, 2.17891397e-02,\n",
       "       1.96630619e-04, 3.23993618e-02, 1.86681554e-02, 7.31103464e-02,\n",
       "       8.25828132e-03, 9.53153779e-02, 6.75222979e-03, 1.50840120e-03,\n",
       "       2.54420335e-02, 4.01668325e-02, 8.85093242e-02, 8.77173182e-02,\n",
       "       2.33434907e-02, 1.56727389e-02, 2.73137492e-02, 1.82478290e-02,\n",
       "       1.84569004e-03, 1.10324541e-03, 2.57175073e-02, 1.53199206e-02,\n",
       "       1.17799760e-02, 2.17695906e-02, 4.41921890e-02, 9.18965582e-02,\n",
       "       2.55235948e-02, 2.44515605e-02, 4.54730466e-02, 5.46998857e-03,\n",
       "       9.77329633e-03, 1.07398171e-02, 6.99714433e-03, 8.66284737e-04,\n",
       "       1.02911856e-03, 3.43299620e-03, 2.24535649e-02, 6.30245179e-02,\n",
       "       6.66594708e-02, 1.79607269e-02, 5.35185373e-02, 1.27952914e-02,\n",
       "       1.43877564e-01, 1.18153016e-02, 1.02687849e-03, 6.56831825e-02,\n",
       "       0.00000000e+00, 3.64088812e-02, 3.71979488e-06, 5.19251091e-02,\n",
       "       1.34034004e-02, 2.64260878e-02, 1.45885617e-03, 1.39715873e-02,\n",
       "       8.40988098e-02, 4.22358608e-02, 7.18714470e-03, 3.28331712e-02,\n",
       "       7.33171985e-02, 7.58789650e-02, 1.09706959e-02, 1.00013394e-02,\n",
       "       8.00427459e-04, 3.56995071e-02, 5.75718303e-02, 1.99790639e-02,\n",
       "       4.45618939e-02, 1.61955709e-02, 1.68736328e-02, 8.13342871e-02,\n",
       "       1.68347000e-02, 9.61576889e-03, 2.21197511e-02, 7.97866456e-02,\n",
       "       7.26371293e-02, 3.42993212e-02, 0.00000000e+00, 5.99315415e-04,\n",
       "       1.11605480e-01, 8.59733671e-03, 2.41280704e-02, 1.13937254e-02,\n",
       "       1.81179652e-02, 6.38042977e-03, 4.98576260e-02, 4.44695479e-02,\n",
       "       5.36315400e-02, 1.79505672e-02, 3.86153998e-02, 2.32806814e-04,\n",
       "       9.25966000e-02, 1.11690698e-02, 7.10239938e-02, 9.81736428e-04,\n",
       "       1.83454892e-02, 2.81493147e-02, 2.31893416e-04, 9.63400186e-03,\n",
       "       2.86833688e-02, 2.50241629e-03, 1.57855042e-02, 2.13601174e-02,\n",
       "       2.55761381e-03, 1.13467926e-01, 7.90236187e-02, 1.00737134e-03,\n",
       "       2.14331630e-03, 4.32189826e-03, 1.35903036e-01, 1.80833273e-02,\n",
       "       3.21730770e-02, 5.02326511e-02, 4.20969789e-02, 1.16499470e-02,\n",
       "       5.36911378e-03, 5.99324605e-02, 9.39010794e-02, 2.41431674e-02,\n",
       "       7.36546800e-03, 1.08404039e-02, 1.63996908e-02, 3.74285358e-02,\n",
       "       8.05643901e-02, 1.35122384e-04, 2.44115856e-03, 6.92499186e-02,\n",
       "       4.78132423e-03, 3.96576172e-02, 4.60112922e-02, 0.00000000e+00,\n",
       "       1.34998297e-01, 1.33887133e-03, 3.12674049e-02, 2.30073610e-03,\n",
       "       9.96761261e-03, 3.29079416e-02, 8.73871698e-03, 2.83508932e-02,\n",
       "       1.37788769e-02, 4.36324162e-02, 6.08019784e-03, 1.60862876e-01,\n",
       "       7.61586745e-02, 4.39437067e-02, 3.72433273e-03, 7.55833498e-03,\n",
       "       2.34157779e-02, 2.22100388e-04, 5.02537012e-03, 1.46533915e-02,\n",
       "       3.03301100e-02, 3.18610417e-02, 2.98652408e-02, 1.52570705e-02,\n",
       "       1.38363550e-05, 5.57349316e-03, 1.29187756e-03, 3.68470450e-02,\n",
       "       2.73851381e-02, 0.00000000e+00, 2.92943088e-02, 3.00896766e-03,\n",
       "       9.49586638e-02, 3.59833987e-02, 1.26605637e-02, 5.27786341e-02,\n",
       "       2.92605076e-02, 7.80000310e-02, 6.71207513e-03, 2.72233651e-02,\n",
       "       3.50407720e-02, 9.00977255e-03, 8.94631591e-02, 2.52250345e-02,\n",
       "       8.05377476e-02, 4.84794467e-02, 1.93708526e-02, 5.94426593e-02,\n",
       "       8.15145758e-02, 1.34567111e-02, 1.79567450e-02, 2.53531249e-02,\n",
       "       3.53732383e-02, 1.05314831e-03, 3.98330889e-05, 3.52953638e-04,\n",
       "       1.53962887e-02, 1.04668978e-01, 6.07814810e-03, 8.33017059e-03,\n",
       "       4.27894896e-02, 1.52248611e-02, 6.68101287e-02, 2.18619255e-03,\n",
       "       3.34808146e-02, 5.32163836e-02, 7.23622233e-02, 3.98526672e-03,\n",
       "       2.73563382e-02, 2.91884927e-02, 3.32349296e-02, 2.05623840e-02,\n",
       "       4.44101095e-02, 6.77383683e-02, 2.84916387e-03, 2.91172900e-02,\n",
       "       3.25665898e-02, 9.90108257e-02, 6.09558631e-03, 6.05121127e-02,\n",
       "       8.62875422e-03, 2.38982203e-02, 5.80478447e-02, 4.04770245e-02,\n",
       "       3.75282243e-02, 6.08034446e-03, 4.22293724e-02, 3.43120793e-02,\n",
       "       7.05051437e-02, 3.03257981e-03, 3.53854890e-02, 3.50832795e-02,\n",
       "       1.39412689e-02, 1.49804036e-04, 7.11955041e-02, 8.07643023e-02,\n",
       "       7.58311676e-02, 3.69422651e-02, 1.36500798e-03, 4.94983473e-02,\n",
       "       4.39976574e-02, 1.76107887e-02, 9.27420704e-03, 3.40958710e-03,\n",
       "       5.25402894e-02, 1.81494857e-02, 2.65372009e-02, 0.00000000e+00,\n",
       "       9.50830402e-04, 1.65088117e-02, 6.99516790e-03, 1.17604615e-01,\n",
       "       7.70562360e-02, 2.40925866e-02, 2.12658561e-02, 3.74382824e-03,\n",
       "       9.70904922e-03, 7.34782872e-02, 3.76706320e-02, 2.27928408e-02,\n",
       "       2.98168383e-02, 6.97372607e-04, 3.38214752e-02, 0.00000000e+00,\n",
       "       3.63447720e-02, 1.00736114e-02, 6.17684922e-02, 2.15104821e-02,\n",
       "       3.75612156e-02, 1.66191460e-01, 5.43587782e-03, 5.15455319e-03,\n",
       "       1.16740947e-01, 5.59289523e-02, 4.76790812e-02, 1.34763241e-02,\n",
       "       1.00494505e-01, 6.67380161e-02, 4.41667194e-02, 2.36067930e-02,\n",
       "       1.75840972e-02, 1.86477674e-02, 7.87591711e-04, 1.16223878e-03,\n",
       "       1.20879339e-02, 4.64602870e-02, 4.60374274e-03, 1.19486926e-01,\n",
       "       6.18686708e-04, 8.48540357e-02, 2.05876395e-02, 5.41440274e-02,\n",
       "       5.13392488e-03, 8.43248188e-03, 8.22476275e-02, 1.90251069e-02,\n",
       "       3.45145864e-02, 4.77281958e-02, 2.12784164e-02, 3.36029193e-02,\n",
       "       3.78172043e-04, 1.14820382e-02, 8.21041178e-03, 3.59567701e-02,\n",
       "       2.64037298e-02, 7.20238527e-02, 7.57546843e-02, 1.92984048e-02,\n",
       "       8.49418481e-02, 7.13639516e-02, 8.12888682e-02, 3.27979835e-03,\n",
       "       7.30976535e-02, 1.43278244e-02, 7.23034598e-02, 3.81601167e-02,\n",
       "       1.72058920e-02, 1.20106570e-02, 6.62882997e-02, 5.26335616e-02,\n",
       "       2.26166831e-02, 6.93308458e-03, 3.73586782e-02, 7.49036216e-02,\n",
       "       1.04875705e-02, 4.71855174e-04, 7.06857955e-02, 1.38619178e-03,\n",
       "       8.43149279e-03, 7.98192273e-02, 5.14336276e-02, 4.50331813e-04,\n",
       "       2.11777691e-02, 5.48732856e-02, 7.49155159e-04, 1.42776625e-02,\n",
       "       2.57708646e-02, 1.43335134e-02, 3.57389799e-02, 1.24646195e-02,\n",
       "       4.19734894e-02, 7.34772679e-02, 1.04784697e-02, 2.69677754e-02,\n",
       "       1.27450795e-02, 1.20150020e-02, 1.43495820e-02, 2.08599832e-02,\n",
       "       2.07314692e-02, 6.04268696e-03, 3.36630651e-02, 4.71250428e-02,\n",
       "       4.18437048e-03, 3.58777251e-03, 8.37545605e-02, 3.72768865e-02,\n",
       "       4.65428166e-02, 6.37512348e-02, 2.84343233e-02, 2.26382033e-02,\n",
       "       3.84397145e-02, 1.57232824e-02, 2.23715404e-02, 6.05790379e-03,\n",
       "       2.62890468e-03, 5.90113377e-02, 1.01740011e-01, 4.21845958e-02,\n",
       "       7.42762743e-02, 1.30523287e-02, 3.39897482e-02, 4.34464787e-03,\n",
       "       1.04568254e-01, 4.75108838e-03, 1.11399603e-02, 1.07323123e-01,\n",
       "       1.87245754e-02, 4.69118419e-02, 1.10970153e-02, 5.53568497e-02,\n",
       "       1.36320275e-03, 7.37688092e-02, 2.36881426e-02, 5.13262522e-02,\n",
       "       1.10547337e-01, 6.25459621e-02, 5.38004763e-02, 1.90754527e-02,\n",
       "       3.05492826e-02, 6.07805862e-02, 1.09378388e-01, 2.68514703e-02,\n",
       "       6.24447540e-02, 7.38693424e-02, 4.93246168e-02, 5.20439672e-02,\n",
       "       5.62290906e-02, 3.64522452e-02, 2.47634683e-04, 3.33188025e-03,\n",
       "       4.82808425e-02, 9.79612332e-03, 1.03497800e-02, 2.01624386e-02,\n",
       "       4.11313023e-03, 1.58201264e-03, 0.00000000e+00, 7.59164631e-03,\n",
       "       5.03823595e-02, 7.92445880e-03, 2.72316973e-03, 6.06449671e-02,\n",
       "       8.11536912e-03, 1.53872415e-02, 2.61645227e-04, 6.79625702e-03,\n",
       "       1.20704236e-02, 1.93130421e-03, 2.86097853e-02, 1.09822531e-02,\n",
       "       1.24965111e-02, 7.04043545e-02, 9.94585121e-04, 2.59634593e-03,\n",
       "       1.79898384e-03, 7.18509961e-03, 1.85224755e-02, 2.63466233e-02,\n",
       "       4.45819828e-02, 3.51994666e-03, 2.34823843e-02, 8.71421552e-03,\n",
       "       3.93185392e-02, 2.43047452e-03, 3.00986657e-03, 2.16652875e-03,\n",
       "       5.20600626e-02, 8.34549203e-02, 2.02908711e-02, 1.96284705e-02,\n",
       "       8.79870228e-03, 1.23874205e-02, 2.33242535e-02, 3.27532808e-02,\n",
       "       2.34476149e-02, 3.67544826e-02, 5.65486289e-02, 2.35224319e-02,\n",
       "       5.72169547e-02, 5.86770445e-03, 5.35527900e-02, 1.97353968e-02,\n",
       "       7.33267868e-02, 2.76631725e-03, 4.76544540e-02, 1.72284735e-02,\n",
       "       9.50060283e-02, 2.89446673e-03, 4.31066495e-02, 1.85579280e-02,\n",
       "       1.45221220e-02, 1.53304759e-02, 1.80352245e-03, 1.44743200e-02,\n",
       "       5.86638372e-03, 6.40199550e-02, 3.67507287e-02, 2.18066489e-04,\n",
       "       2.68053648e-02, 6.66121389e-02, 8.23832141e-02, 1.35526235e-02,\n",
       "       4.28568174e-02, 3.58331690e-02, 1.84399274e-02, 4.17294802e-02,\n",
       "       2.98830491e-02, 1.10667876e-02, 4.44664956e-04, 4.31859627e-02,\n",
       "       2.24750107e-02, 3.09696545e-02, 8.73839083e-06, 4.44846344e-03,\n",
       "       1.77851797e-04, 7.64546516e-02, 4.63876432e-03, 7.21789743e-02,\n",
       "       9.23893499e-03, 1.80537513e-02, 4.03889980e-02, 5.43757673e-02,\n",
       "       5.47917196e-03, 1.35059362e-03, 3.18497638e-02, 1.23893568e-01])"
      ]
     },
     "execution_count": 35,
     "metadata": {},
     "output_type": "execute_result"
    }
   ],
   "source": [
    "second_centroid"
   ]
  },
  {
   "cell_type": "code",
   "execution_count": 37,
   "metadata": {},
   "outputs": [
    {
     "name": "stdout",
     "output_type": "stream",
     "text": [
      "The centroid is already normalized.\n"
     ]
    }
   ],
   "source": [
    "# Calculate the L2 norm of the centroid\n",
    "norm = np.linalg.norm(centroids[1])\n",
    "\n",
    "# Check if the norm is close to 1\n",
    "if np.isclose(norm, 1.0, atol=1e-6):\n",
    "    print(\"The centroid is already normalized.\")\n",
    "else:\n",
    "    print(f\"The centroid is not normalized. Norm: {norm}\")"
   ]
  },
  {
   "cell_type": "code",
   "execution_count": 27,
   "metadata": {},
   "outputs": [
    {
     "name": "stdout",
     "output_type": "stream",
     "text": [
      "Centroid saved to C:\\Users\\k54739\\Bibi_new_thesis\\thesis\\Source_Code\\Ranking(prediction)_model\\kmeans_ranking\\cosine\\three_class_cosine_centroid.pt\n"
     ]
    }
   ],
   "source": [
    "import torch\n",
    "\n",
    "# Convert the centroid to a PyTorch tensor\n",
    "three_class_cosine_centroid = torch.tensor(three_class_cosine_centroid)\n",
    "\n",
    "# Define the specific path\n",
    "save_path_torch = r\"C:\\Users\\k54739\\Bibi_new_thesis\\thesis\\Source_Code\\Ranking(prediction)_model\\kmeans_ranking\\cosine\\three_class_cosine_centroid.pt\"\n",
    "\n",
    "# Save the centroid tensor\n",
    "torch.save(three_class_cosine_centroid, save_path_torch)\n",
    "print(f\"Centroid saved to {save_path_torch}\")\n"
   ]
  },
  {
   "cell_type": "code",
   "execution_count": 15,
   "metadata": {},
   "outputs": [
    {
     "name": "stdout",
     "output_type": "stream",
     "text": [
      "Cluster assignments: [2 2 0 1 1 0 0 0 1 1 2 1 1 2 1 0 1 0 2 1 1 0 1 0 1 1 1 1 0 0 0 1 1 2 1 1 0\n",
      " 0 0 1 0 0 0 1 1 0 1 2 0 1 1 1 2 0 2 1 0 0 0 0 0 0 2 1 1 2 1 1 1 1 0 1 1 2\n",
      " 0 0 0 0 0 1 1 0 0 0 0 1 1 1 1 1 2 0 1 0 0 0 1 0 0 0 1 1 1 0 1 1 1 1 1 0 0\n",
      " 2 0 1 0 2 1 0 0 0 1 0 0 1 1 0 1 0 0 1 1 2 2 0 0 0 1 1 0 1 0 1 1 1 1 0 0 1\n",
      " 0 1 1 1 0 0 1 0 0 1 0 1 0 0 1 1 0 0 0 1 0 1 1 0 1 1 1 1 1 0 1 0 0 0 1 0 1\n",
      " 0 1 0 2 1 1 1 2 1 1 0 0 2 1 1 1 1 1 1 1 0 1 2 2 2 0 1 0 0 1 1 0 2 2 0 1 1\n",
      " 1 1 2 0 1 0 0 1 0 0 1 1 1 1 2 0 2 1 0 1 1 1 0 1 1 0 2 0 0 0]\n",
      "True labels: [2 2 1 0 0 1 1 1 0 0 2 0 0 2 0 1 0 1 2 0 0 1 0 1 0 0 0 0 1 1 1 0 0 2 0 0 1\n",
      " 1 1 0 1 1 1 0 0 1 0 2 1 0 0 0 2 1 2 0 1 1 1 1 1 1 2 0 0 2 0 0 0 0 1 0 0 2\n",
      " 1 1 1 1 1 0 0 1 1 1 1 0 0 0 0 0 2 1 0 1 1 1 0 1 1 1 0 0 0 1 0 0 0 0 0 1 1\n",
      " 2 1 0 1 2 0 1 1 1 0 1 1 0 0 1 0 1 1 0 0 2 2 1 1 1 0 0 1 0 1 0 0 0 0 1 1 0\n",
      " 1 0 0 0 1 1 0 1 1 0 1 0 1 1 0 0 1 1 1 0 1 0 0 1 0 0 0 0 0 1 0 1 1 1 0 1 0\n",
      " 1 0 1 2 0 0 0 2 0 0 1 1 2 0 0 0 0 0 0 0 1 0 2 2 2 1 0 1 1 0 0 1 2 2 1 0 0\n",
      " 0 0 2 1 0 1 1 0 1 1 0 0 0 0 2 1 2 0 1 0 0 0 1 0 0 1 2 1 1 1]\n"
     ]
    }
   ],
   "source": [
    "print(\"Cluster assignments:\", idx)\n",
    "print(\"True labels:\", labels_np)"
   ]
  },
  {
   "cell_type": "code",
   "execution_count": 16,
   "metadata": {},
   "outputs": [
    {
     "name": "stdout",
     "output_type": "stream",
     "text": [
      "Cluster assignments: [0 2 0 0 1 1 1 1 1 0 2 1 1 2 0 1 0 1 2 1 1 0 0 1 0 0 0 1 0 0 0 0 0 2 0 0 1\n",
      " 0 2 0 0 0 0 1 1 1 0 2 1 1 1 2 1 1 2 1 1 0 1 1 1 0 2 1 0 2 0 1 0 0 0 0 1 2\n",
      " 0 2 1 0 1 0 0 1 1 1 0 1 1 0 0 0 2 0 0 0 0 0 1 0 2 0 1 0 2 0 1 1 1 0 1 2 1\n",
      " 2 1 1 0 2 1 2 1 1 0 2 0 1 1 1 0 1 0 0 1 2 2 0 0 0 0 0 0 0 0 1 0 1 1 0 0 1\n",
      " 1 0 0 1 0 1 0 2 0 1 0 2 0 0 1 1 1 0 0 1 0 0 0 0 1 0 0 1 0 1 0 1 0 1 1 0 0\n",
      " 1 1 1 2 1 0 1 2 0 0 0 1 2 1 1 0 0 1 0 1 1 0 1 2 2 1 0 0 0 0 0 0 2 2 0 1 0\n",
      " 0 1 2 0 0 0 1 1 2 0 2 0 1 0 2 1 2 1 0 0 0 1 1 1 0 0 2 1 1 0]\n",
      "True labels: [2 2 1 0 0 1 1 1 0 0 2 0 0 2 0 1 0 1 2 0 0 1 0 1 0 0 0 0 1 1 1 0 0 2 0 0 1\n",
      " 1 1 0 1 1 1 0 0 1 0 2 1 0 0 0 2 1 2 0 1 1 1 1 1 1 2 0 0 2 0 0 0 0 1 0 0 2\n",
      " 1 1 1 1 1 0 0 1 1 1 1 0 0 0 0 0 2 1 0 1 1 1 0 1 1 1 0 0 0 1 0 0 0 0 0 1 1\n",
      " 2 1 0 1 2 0 1 1 1 0 1 1 0 0 1 0 1 1 0 0 2 2 1 1 1 0 0 1 0 1 0 0 0 0 1 1 0\n",
      " 1 0 0 0 1 1 0 1 1 0 1 0 1 1 0 0 1 1 1 0 1 0 0 1 0 0 0 0 0 1 0 1 1 1 0 1 0\n",
      " 1 0 1 2 0 0 0 2 0 0 1 1 2 0 0 0 0 0 0 0 1 0 2 2 2 1 0 1 1 0 0 1 2 2 1 0 0\n",
      " 0 0 2 1 0 1 1 0 1 1 0 0 0 0 2 1 2 0 1 0 0 0 1 0 0 1 2 1 1 1]\n"
     ]
    }
   ],
   "source": [
    "print(\"Cluster assignments:\", best_idx)\n",
    "print(\"True labels:\", labels_np)"
   ]
  },
  {
   "cell_type": "code",
   "execution_count": 17,
   "metadata": {},
   "outputs": [
    {
     "name": "stdout",
     "output_type": "stream",
     "text": [
      "Cluster 0 has true labels: Counter({1: 103})\n",
      "Cluster 1 has true labels: Counter({0: 120})\n",
      "Cluster 2 has true labels: Counter({2: 29})\n"
     ]
    }
   ],
   "source": [
    "from collections import Counter\n",
    "import numpy as np\n",
    "\n",
    "# Assuming `idx` contains the cluster assignments from KMeans\n",
    "# and `labels` contains the true labels\n",
    "\n",
    "K = len(np.unique(idx))  # Number of clusters\n",
    "\n",
    "# Iterate over each cluster and count the true labels in that cluster\n",
    "for cluster in range(K):\n",
    "    # Find the indices of images assigned to the current cluster\n",
    "    cluster_indices = np.where(idx == cluster)[0]\n",
    "    \n",
    "    # Get the true labels for the images in this cluster\n",
    "    cluster_labels = labels_np[cluster_indices]\n",
    "    \n",
    "    # Use Counter to count occurrences of each label in the cluster\n",
    "    label_counts = Counter(cluster_labels)\n",
    "    \n",
    "    # Print the result\n",
    "    print(f\"Cluster {cluster} has true labels: {label_counts}\")\n"
   ]
  },
  {
   "cell_type": "code",
   "execution_count": 18,
   "metadata": {},
   "outputs": [
    {
     "name": "stdout",
     "output_type": "stream",
     "text": [
      "Cluster 0 has true labels: Counter({0: 62, 1: 54, 2: 1})\n",
      "Cluster 1 has true labels: Counter({0: 54, 1: 41, 2: 2})\n",
      "Cluster 2 has true labels: Counter({2: 26, 1: 8, 0: 4})\n"
     ]
    }
   ],
   "source": [
    "K = len(np.unique(best_idx))  # Number of clusters\n",
    "\n",
    "# Iterate over each cluster and count the true labels in that cluster\n",
    "for cluster in range(K):\n",
    "    # Find the indices of images assigned to the current cluster\n",
    "    cluster_indices = np.where(best_idx == cluster)[0]\n",
    "    \n",
    "    # Get the true labels for the images in this cluster\n",
    "    cluster_labels = labels_np[cluster_indices]\n",
    "    \n",
    "    # Use Counter to count occurrences of each label in the cluster\n",
    "    label_counts = Counter(cluster_labels)\n",
    "    \n",
    "    # Print the result\n",
    "    print(f\"Cluster {cluster} has true labels: {label_counts}\")"
   ]
  },
  {
   "cell_type": "code",
   "execution_count": 19,
   "metadata": {},
   "outputs": [],
   "source": [
    "from scipy.stats import mode\n",
    "import numpy as np\n",
    "\n",
    "# Function to reorder K-Means labels to match true labels\n",
    "def reorder_labels(true_labels, predicted_labels):\n",
    "    reordered_labels = np.zeros_like(predicted_labels)\n",
    "\n",
    "    for cluster in np.unique(predicted_labels):\n",
    "        mask = (predicted_labels == cluster)\n",
    "        # Use mode and handle cases where mode() returns a scalar\n",
    "        most_common_label = mode(true_labels[mask], axis=None).mode  # Get the mode for the current cluster\n",
    "        if isinstance(most_common_label, np.ndarray):\n",
    "            most_common_label = most_common_label[0]  # Safely extract the mode value if it's an array\n",
    "        \n",
    "        reordered_labels[mask] = most_common_label\n",
    "\n",
    "    return reordered_labels\n",
    "\n",
    "\n"
   ]
  },
  {
   "cell_type": "code",
   "execution_count": 20,
   "metadata": {},
   "outputs": [
    {
     "name": "stdout",
     "output_type": "stream",
     "text": [
      "Accuracy: 100.00%\n"
     ]
    }
   ],
   "source": [
    "# Apply this after running K-Means\n",
    "reordered_idx = reorder_labels(labels_np, idx)\n",
    "\n",
    "# Now you can compare `reordered_idx` with `labels` to evaluate accuracy\n",
    "accuracy = np.sum(reordered_idx == labels_np) / len(labels_np) * 100\n",
    "print(f\"Accuracy: {accuracy:.2f}%\")"
   ]
  },
  {
   "cell_type": "code",
   "execution_count": 21,
   "metadata": {},
   "outputs": [
    {
     "name": "stdout",
     "output_type": "stream",
     "text": [
      "Accuracy: 56.35%\n"
     ]
    }
   ],
   "source": [
    "# Apply this after running K-Means\n",
    "reordered_idx = reorder_labels(labels_np, best_idx)\n",
    "\n",
    "# Now you can compare `reordered_idx` with `labels` to evaluate accuracy\n",
    "accuracy = np.sum(reordered_idx == labels_np) / len(labels_np) * 100\n",
    "print(f\"Accuracy: {accuracy:.2f}%\")"
   ]
  },
  {
   "cell_type": "markdown",
   "metadata": {},
   "source": [
    "iteration 1: 90%\n",
    "\n",
    "iteration 2: 96.67%\n",
    "\n",
    "iteration 3: 95%"
   ]
  },
  {
   "cell_type": "code",
   "execution_count": 22,
   "metadata": {},
   "outputs": [],
   "source": [
    "import matplotlib.pyplot as plt\n",
    "from sklearn.decomposition import PCA"
   ]
  },
  {
   "cell_type": "code",
   "execution_count": 23,
   "metadata": {},
   "outputs": [],
   "source": [
    "# Function to reduce the dimensionality of data points and centroids to 2D using PCA\n",
    "def reduce_to_2D_pca(X, centroids):\n",
    "    # Initialize PCA with 2 components\n",
    "    pca = PCA(n_components=2)\n",
    "    \n",
    "    # Apply PCA to the data points (X) and centroids\n",
    "    X_2D = pca.fit_transform(X)  # Reducing original data points\n",
    "    centroids_2D = pca.transform(centroids)  # Reducing centroids\n",
    "\n",
    "    return X_2D, centroids_2D\n",
    "\n",
    "# Function to plot 2D visualization of clustered data points and centroids with true labels\n",
    "def plot_2D_clusters_with_labels(X_2D, centroids_2D, idx, labels, K):\n",
    "    plt.figure(figsize=(10, 7))\n",
    "    \n",
    "    # Define color map for clusters\n",
    "    colors = plt.cm.rainbow(np.linspace(0, 1, K))\n",
    "    \n",
    "    # Plot data points colored by their cluster assignment\n",
    "    for k in range(K):\n",
    "        cluster_points = X_2D[idx == k]\n",
    "        cluster_labels = labels[idx == k]  # Get true labels for the current cluster\n",
    "        \n",
    "        # Scatter plot for each cluster\n",
    "        plt.scatter(cluster_points[:, 0], cluster_points[:, 1], \n",
    "                    c=[colors[k]], label=f\"Cluster {k+1}\", alpha=0.6)\n",
    "        \n",
    "        # Annotate each point with its true label\n",
    "        for i in range(cluster_points.shape[0]):\n",
    "            plt.annotate(str(cluster_labels[i]), \n",
    "                         (cluster_points[i, 0], cluster_points[i, 1]), \n",
    "                         fontsize=8, alpha=0.75)\n",
    "\n",
    "    # Plot centroids as larger markers\n",
    "    plt.scatter(centroids_2D[:, 0], centroids_2D[:, 1], \n",
    "                c='k', marker='x', s=200, label='Centroids')\n",
    "\n",
    "    plt.title(\"2D Visualization of Clusters using PCA with True Labels\")\n",
    "    plt.xlabel(\"Component 1\")\n",
    "    plt.ylabel(\"Component 2\")\n",
    "    plt.legend()\n",
    "    plt.grid()\n",
    "    plt.show()\n"
   ]
  },
  {
   "cell_type": "code",
   "execution_count": 24,
   "metadata": {},
   "outputs": [
    {
     "data": {
      "image/png": "[encoded data removed]",
      "text/plain": [
       "<Figure size 1000x700 with 1 Axes>"
      ]
     },
     "metadata": {},
     "output_type": "display_data"
    }
   ],
   "source": [
    "# Apply PCA after K-Means clustering for 2D visualization\n",
    "X_2D_pca, centroids_2D_pca = reduce_to_2D_pca(feats_np_norm, centroids)\n",
    "\n",
    "# Plot the 2D clusters with centroids and true labels\n",
    "plot_2D_clusters_with_labels(X_2D_pca, centroids_2D_pca, idx, labels_np, K)\n"
   ]
  },
  {
   "cell_type": "code",
   "execution_count": 25,
   "metadata": {},
   "outputs": [
    {
     "data": {
      "image/png": "[encoded data removed]",
      "text/plain": [
       "<Figure size 1000x700 with 1 Axes>"
      ]
     },
     "metadata": {},
     "output_type": "display_data"
    }
   ],
   "source": [
    "# Apply PCA after K-Means clustering for 2D visualization\n",
    "X_2D_pca, centroids_2D_pca = reduce_to_2D_pca(feats_np_norm, best_centroids)\n",
    "\n",
    "# Plot the 2D clusters with centroids and true labels\n",
    "plot_2D_clusters_with_labels(X_2D_pca, centroids_2D_pca, best_idx, labels_np, K)\n"
   ]
  },
  {
   "cell_type": "code",
   "execution_count": 26,
   "metadata": {},
   "outputs": [
    {
     "name": "stdout",
     "output_type": "stream",
     "text": [
      "95.83333333333334\n"
     ]
    }
   ],
   "source": [
    "total_data_points = 30+30+12\n",
    "wrong = 3 \n",
    "predicted_corrected = total_data_points - wrong\n",
    "accuracy = (predicted_corrected/total_data_points)*100\n",
    "print(accuracy)"
   ]
  }
 ],
 "metadata": {
  "kernelspec": {
   "display_name": "master",
   "language": "python",
   "name": "python3"
  },
  "language_info": {
   "codemirror_mode": {
    "name": "ipython",
    "version": 3
   },
   "file_extension": ".py",
   "mimetype": "text/x-python",
   "name": "python",
   "nbconvert_exporter": "python",
   "pygments_lexer": "ipython3",
   "version": "3.12.4"
  }
 },
 "nbformat": 4,
 "nbformat_minor": 2
}
