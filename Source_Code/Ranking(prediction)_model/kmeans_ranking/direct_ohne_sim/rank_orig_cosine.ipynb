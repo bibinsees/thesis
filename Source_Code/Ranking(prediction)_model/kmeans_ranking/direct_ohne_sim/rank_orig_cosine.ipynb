{
 "cells": [
  {
   "cell_type": "code",
   "execution_count": 1,
   "metadata": {},
   "outputs": [],
   "source": [
    "import os\n",
    "import numpy as np\n",
    "import torch\n",
    "from torch import nn, optim\n",
    "from torch.utils.data import Dataset, DataLoader, random_split\n",
    "from torchvision import transforms\n",
    "import torchvision\n",
    "import tifffile as tiff\n",
    "import matplotlib.pyplot as plt\n",
    "import time\n",
    "from tqdm import tqdm\n",
    "from copy import deepcopy\n",
    "import random\n",
    "from sklearn.preprocessing import normalize\n",
    "\n",
    "from collections import Counter\n",
    "from scipy.stats import mode"
   ]
  },
  {
   "cell_type": "code",
   "execution_count": null,
   "metadata": {},
   "outputs": [
    {
     "name": "stderr",
     "output_type": "stream",
     "text": [
      "C:\\Users\\k54739\\AppData\\Local\\Temp\\ipykernel_22344\\4250809734.py:1: FutureWarning: You are using `torch.load` with `weights_only=False` (the current default value), which uses the default pickle module implicitly. It is possible to construct malicious pickle data which will execute arbitrary code during unpickling (See https://github.com/pytorch/pytorch/blob/main/SECURITY.md#untrusted-models for more details). In a future release, the default value for `weights_only` will be flipped to `True`. This limits the functions that could be executed during unpickling. Arbitrary objects will no longer be allowed to be loaded via this mode unless they are explicitly allowlisted by the user via `torch.serialization.add_safe_globals`. We recommend you start setting `weights_only=True` for any use case where you don't have full control of the loaded file. Please open an issue on GitHub for any issues related to this experimental feature.\n",
      "  ex =  torch.load('ex_flattened_images.pt')\n",
      "C:\\Users\\k54739\\AppData\\Local\\Temp\\ipykernel_22344\\4250809734.py:2: FutureWarning: You are using `torch.load` with `weights_only=False` (the current default value), which uses the default pickle module implicitly. It is possible to construct malicious pickle data which will execute arbitrary code during unpickling (See https://github.com/pytorch/pytorch/blob/main/SECURITY.md#untrusted-models for more details). In a future release, the default value for `weights_only` will be flipped to `True`. This limits the functions that could be executed during unpickling. Arbitrary objects will no longer be allowed to be loaded via this mode unless they are explicitly allowlisted by the user via `torch.serialization.add_safe_globals`. We recommend you start setting `weights_only=True` for any use case where you don't have full control of the loaded file. Please open an issue on GitHub for any issues related to this experimental feature.\n",
      "  control =  torch.load('control_flattened_images.pt')\n",
      "C:\\Users\\k54739\\AppData\\Local\\Temp\\ipykernel_22344\\4250809734.py:3: FutureWarning: You are using `torch.load` with `weights_only=False` (the current default value), which uses the default pickle module implicitly. It is possible to construct malicious pickle data which will execute arbitrary code during unpickling (See https://github.com/pytorch/pytorch/blob/main/SECURITY.md#untrusted-models for more details). In a future release, the default value for `weights_only` will be flipped to `True`. This limits the functions that could be executed during unpickling. Arbitrary objects will no longer be allowed to be loaded via this mode unless they are explicitly allowlisted by the user via `torch.serialization.add_safe_globals`. We recommend you start setting `weights_only=True` for any use case where you don't have full control of the loaded file. Please open an issue on GitHub for any issues related to this experimental feature.\n",
      "  sd =  torch.load('sd_flattened_images.pt')\n",
      "C:\\Users\\k54739\\AppData\\Local\\Temp\\ipykernel_22344\\4250809734.py:4: FutureWarning: You are using `torch.load` with `weights_only=False` (the current default value), which uses the default pickle module implicitly. It is possible to construct malicious pickle data which will execute arbitrary code during unpickling (See https://github.com/pytorch/pytorch/blob/main/SECURITY.md#untrusted-models for more details). In a future release, the default value for `weights_only` will be flipped to `True`. This limits the functions that could be executed during unpickling. Arbitrary objects will no longer be allowed to be loaded via this mode unless they are explicitly allowlisted by the user via `torch.serialization.add_safe_globals`. We recommend you start setting `weights_only=True` for any use case where you don't have full control of the loaded file. Please open an issue on GitHub for any issues related to this experimental feature.\n",
      "  cosine_centroid = torch.load('cosine_centroid_tensor.pt')\n"
     ]
    }
   ],
   "source": [
    "ex =  torch.load('ex_flattened_images.pt')\n",
    "control =  torch.load('control_flattened_images.pt')\n",
    "sd =  torch.load('sd_flattened_images.pt')\n",
    "cosine_centroid = torch.load('cosine_centroid_tensor.pt')\n"
   ]
  },
  {
   "cell_type": "code",
   "execution_count": 3,
   "metadata": {},
   "outputs": [
    {
     "name": "stdout",
     "output_type": "stream",
     "text": [
      "torch.Size([29, 27648])\n",
      "torch.Size([120, 27648])\n",
      "torch.Size([103, 27648])\n",
      "torch.Size([1, 27648])\n"
     ]
    }
   ],
   "source": [
    "print(ex.shape)\n",
    "print(control.shape)\n",
    "print(sd.shape)\n",
    "print(cosine_centroid.shape)\n"
   ]
  },
  {
   "cell_type": "code",
   "execution_count": 4,
   "metadata": {},
   "outputs": [],
   "source": [
    "import torch\n",
    "\n",
    "def normalize_tensor(tensor, dim=1):\n",
    "    \"\"\"\n",
    "    Normalize a PyTorch tensor along the specified dimension.\n",
    "    \n",
    "    Args:\n",
    "        tensor (torch.Tensor): Input tensor to normalize (e.g., shape [N, D]).\n",
    "        dim (int): Dimension along which to normalize. Default is 1 (rows).\n",
    "    \n",
    "    Returns:\n",
    "        torch.Tensor: Normalized tensor with the same shape as input.\n",
    "    \"\"\"\n",
    "    # Compute the L2 norm along the specified dimension\n",
    "    norm = torch.norm(tensor, p=2, dim=dim, keepdim=True)\n",
    "    \n",
    "    # Avoid division by zero\n",
    "    norm = torch.clamp(norm, min=1e-8)\n",
    "    \n",
    "    # Normalize the tensor\n",
    "    normalized_tensor = tensor / norm\n",
    "    return normalized_tensor\n"
   ]
  },
  {
   "cell_type": "code",
   "execution_count": 5,
   "metadata": {},
   "outputs": [
    {
     "data": {
      "text/plain": [
       "torch.Size([27648])"
      ]
     },
     "execution_count": 5,
     "metadata": {},
     "output_type": "execute_result"
    }
   ],
   "source": [
    "ex[0].shape"
   ]
  },
  {
   "cell_type": "code",
   "execution_count": 8,
   "metadata": {},
   "outputs": [
    {
     "name": "stdout",
     "output_type": "stream",
     "text": [
      "Normalized shapes:\n",
      "torch.Size([29, 27648])\n",
      "torch.Size([120, 27648])\n",
      "torch.Size([103, 27648])\n",
      "torch.Size([1, 27648])\n"
     ]
    }
   ],
   "source": [
    "# Normalize each group\n",
    "normalized_ex = normalize_tensor(ex, dim=1)  # Normalize each row\n",
    "normalized_control = normalize_tensor(control, dim=1)\n",
    "normalized_sd = normalize_tensor(sd, dim=1)\n",
    "normalised_cosine_centroid = cosine_centroid\n",
    "\n",
    "# Print shapes to verify\n",
    "print(\"Normalized shapes:\")\n",
    "print(normalized_ex.shape)  # Should match ex.shape\n",
    "print(normalized_control.shape)  # Should match control.shape\n",
    "print(normalized_sd.shape) \n",
    "print(normalised_cosine_centroid.shape) \n"
   ]
  },
  {
   "cell_type": "code",
   "execution_count": null,
   "metadata": {},
   "outputs": [],
   "source": [
    "#check for nomralisation\n",
    "\n",
    "import numpy as np\n",
    "\n",
    "# Calculate the L2 norm of each row in exp_np_norm\n",
    "norms = np.linalg.norm(cosine_centroid, axis=1)\n",
    "\n",
    "# Check if all norms are close to 1\n",
    "if np.allclose(norms, 1.0, atol=1e-6):\n",
    "    print(\"All feature vectors are normalized.\")\n",
    "else:\n",
    "    print(\"Some feature vectors are not normalized.\")\n",
    "    print(\"Norms:\", norms)\n"
   ]
  },
  {
   "cell_type": "code",
   "execution_count": 9,
   "metadata": {},
   "outputs": [],
   "source": [
    "import torch\n",
    "import matplotlib.pyplot as plt\n",
    "\n",
    "def calculate_and_plot_cosine_distances(centroid, groups, group_names, bins=20):\n",
    "    \"\"\"\n",
    "    Calculate cosine distances from a centroid to each vector in multiple groups and plot distributions.\n",
    "    \n",
    "    Args:\n",
    "        centroid (torch.Tensor): Normalized centroid tensor of shape [1, D].\n",
    "        groups (list of torch.Tensor): List of normalized tensors, each group of shape [N, D].\n",
    "        group_names (list of str): Names of the groups (e.g., [\"Control\", \"Exploded\", \"Single Dose\"]).\n",
    "        bins (int): Number of bins for the histogram.\n",
    "        \n",
    "    Returns:\n",
    "        dict: Dictionary containing cosine distances for each group.\n",
    "    \"\"\"\n",
    "    assert len(groups) == len(group_names), \"Each group must have a corresponding name\"\n",
    "    \n",
    "    cosine_distances = {}\n",
    "    \n",
    "    # Calculate cosine distances for each group\n",
    "    for group, name in zip(groups, group_names):\n",
    "        # Ensure the centroid and group are on the same device\n",
    "        centroid = centroid.to(group.device)\n",
    "        \n",
    "        # Calculate cosine similarity\n",
    "        cosine_similarity = torch.nn.functional.cosine_similarity(group, centroid.expand_as(group), dim=1)\n",
    "        \n",
    "        # Convert to cosine distances\n",
    "        distances = 1 - cosine_similarity\n",
    "        \n",
    "        # Store distances\n",
    "        cosine_distances[name] = distances.cpu().numpy()\n",
    "    \n",
    "    # Plot distributions\n",
    "    plt.figure(figsize=(12, 6))\n",
    "    for name, distances in cosine_distances.items():\n",
    "        plt.hist(distances, bins=bins, alpha=0.6, label=name, edgecolor=\"black\")\n",
    "    \n",
    "    plt.title(\"Cosine Distance Distribution Across Groups\", fontsize=14)\n",
    "    plt.xlabel(\"Cosine Distance\", fontsize=12)\n",
    "    plt.ylabel(\"Frequency\", fontsize=12)\n",
    "    plt.legend(fontsize=10)\n",
    "    plt.grid(alpha=0.3)\n",
    "    plt.show()\n",
    "    \n",
    "    return cosine_distances\n"
   ]
  },
  {
   "cell_type": "code",
   "execution_count": 10,
   "metadata": {},
   "outputs": [
    {
     "data": {
      "image/png": "[encoded data removed]",
      "text/plain": [
       "<Figure size 1200x600 with 1 Axes>"
      ]
     },
     "metadata": {},
     "output_type": "display_data"
    }
   ],
   "source": [
    "# Groups and names\n",
    "groups = [normalized_control, normalized_ex, normalized_sd]\n",
    "group_names = [\"Control\", \"Exploded\", \"Single Dose\"]\n",
    "\n",
    "# Calculate distances and plot\n",
    "cosine_distances = calculate_and_plot_cosine_distances(\n",
    "    centroid=normalised_cosine_centroid,\n",
    "    groups=groups,\n",
    "    group_names=group_names,\n",
    "    bins=20\n",
    ")\n",
    "\n",
    "# Access calculated distances\n",
    "control_distances = cosine_distances[\"Control\"]\n",
    "exploded_distances = cosine_distances[\"Exploded\"]\n",
    "single_dose_distances = cosine_distances[\"Single Dose\"]"
   ]
  },
  {
   "cell_type": "code",
   "execution_count": 11,
   "metadata": {},
   "outputs": [
    {
     "data": {
      "text/plain": [
       "(120,)"
      ]
     },
     "execution_count": 11,
     "metadata": {},
     "output_type": "execute_result"
    }
   ],
   "source": [
    "control_distances.shape"
   ]
  },
  {
   "cell_type": "code",
   "execution_count": 12,
   "metadata": {},
   "outputs": [
    {
     "data": {
      "text/plain": [
       "(29,)"
      ]
     },
     "execution_count": 12,
     "metadata": {},
     "output_type": "execute_result"
    }
   ],
   "source": [
    "exploded_distances.shape"
   ]
  },
  {
   "cell_type": "code",
   "execution_count": 13,
   "metadata": {},
   "outputs": [
    {
     "data": {
      "text/plain": [
       "(103,)"
      ]
     },
     "execution_count": 13,
     "metadata": {},
     "output_type": "execute_result"
    }
   ],
   "source": [
    "single_dose_distances.shape"
   ]
  },
  {
   "cell_type": "code",
   "execution_count": null,
   "metadata": {},
   "outputs": [],
   "source": [
    "d"
   ]
  }
 ],
 "metadata": {
  "kernelspec": {
   "display_name": "master",
   "language": "python",
   "name": "python3"
  },
  "language_info": {
   "codemirror_mode": {
    "name": "ipython",
    "version": 3
   },
   "file_extension": ".py",
   "mimetype": "text/x-python",
   "name": "python",
   "nbconvert_exporter": "python",
   "pygments_lexer": "ipython3",
   "version": "3.12.4"
  }
 },
 "nbformat": 4,
 "nbformat_minor": 2
}
