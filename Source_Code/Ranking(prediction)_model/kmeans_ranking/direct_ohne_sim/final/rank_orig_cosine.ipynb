{
 "cells": [
  {
   "cell_type": "code",
   "execution_count": 1,
   "metadata": {},
   "outputs": [],
   "source": [
    "import os\n",
    "import numpy as np\n",
    "import torch\n",
    "from torch import nn, optim\n",
    "from torch.utils.data import Dataset, DataLoader, random_split\n",
    "from torchvision import transforms\n",
    "import torchvision\n",
    "import tifffile as tiff\n",
    "import matplotlib.pyplot as plt\n",
    "import time\n",
    "from tqdm import tqdm\n",
    "from copy import deepcopy\n",
    "import random\n",
    "from sklearn.preprocessing import normalize\n",
    "\n",
    "from collections import Counter\n",
    "from scipy.stats import mode"
   ]
  },
  {
   "cell_type": "code",
   "execution_count": 26,
   "metadata": {},
   "outputs": [
    {
     "name": "stderr",
     "output_type": "stream",
     "text": [
      "C:\\Users\\k54739\\AppData\\Local\\Temp\\ipykernel_93588\\1973155892.py:1: FutureWarning: You are using `torch.load` with `weights_only=False` (the current default value), which uses the default pickle module implicitly. It is possible to construct malicious pickle data which will execute arbitrary code during unpickling (See https://github.com/pytorch/pytorch/blob/main/SECURITY.md#untrusted-models for more details). In a future release, the default value for `weights_only` will be flipped to `True`. This limits the functions that could be executed during unpickling. Arbitrary objects will no longer be allowed to be loaded via this mode unless they are explicitly allowlisted by the user via `torch.serialization.add_safe_globals`. We recommend you start setting `weights_only=True` for any use case where you don't have full control of the loaded file. Please open an issue on GitHub for any issues related to this experimental feature.\n",
      "  ex =  torch.load('ex.pt')\n",
      "C:\\Users\\k54739\\AppData\\Local\\Temp\\ipykernel_93588\\1973155892.py:2: FutureWarning: You are using `torch.load` with `weights_only=False` (the current default value), which uses the default pickle module implicitly. It is possible to construct malicious pickle data which will execute arbitrary code during unpickling (See https://github.com/pytorch/pytorch/blob/main/SECURITY.md#untrusted-models for more details). In a future release, the default value for `weights_only` will be flipped to `True`. This limits the functions that could be executed during unpickling. Arbitrary objects will no longer be allowed to be loaded via this mode unless they are explicitly allowlisted by the user via `torch.serialization.add_safe_globals`. We recommend you start setting `weights_only=True` for any use case where you don't have full control of the loaded file. Please open an issue on GitHub for any issues related to this experimental feature.\n",
      "  control =  torch.load('cond7.pt')\n",
      "C:\\Users\\k54739\\AppData\\Local\\Temp\\ipykernel_93588\\1973155892.py:3: FutureWarning: You are using `torch.load` with `weights_only=False` (the current default value), which uses the default pickle module implicitly. It is possible to construct malicious pickle data which will execute arbitrary code during unpickling (See https://github.com/pytorch/pytorch/blob/main/SECURITY.md#untrusted-models for more details). In a future release, the default value for `weights_only` will be flipped to `True`. This limits the functions that could be executed during unpickling. Arbitrary objects will no longer be allowed to be loaded via this mode unless they are explicitly allowlisted by the user via `torch.serialization.add_safe_globals`. We recommend you start setting `weights_only=True` for any use case where you don't have full control of the loaded file. Please open an issue on GitHub for any issues related to this experimental feature.\n",
      "  sd =  torch.load('sd.pt')\n",
      "C:\\Users\\k54739\\AppData\\Local\\Temp\\ipykernel_93588\\1973155892.py:6: FutureWarning: You are using `torch.load` with `weights_only=False` (the current default value), which uses the default pickle module implicitly. It is possible to construct malicious pickle data which will execute arbitrary code during unpickling (See https://github.com/pytorch/pytorch/blob/main/SECURITY.md#untrusted-models for more details). In a future release, the default value for `weights_only` will be flipped to `True`. This limits the functions that could be executed during unpickling. Arbitrary objects will no longer be allowed to be loaded via this mode unless they are explicitly allowlisted by the user via `torch.serialization.add_safe_globals`. We recommend you start setting `weights_only=True` for any use case where you don't have full control of the loaded file. Please open an issue on GitHub for any issues related to this experimental feature.\n",
      "  cosine_centroid = torch.load('sd_cosin_centroid.pt')\n"
     ]
    }
   ],
   "source": [
    "ex =  torch.load('ex.pt')\n",
    "control =  torch.load('cond7.pt')\n",
    "sd =  torch.load('sd.pt')\n",
    "#cosine_centroid = torch.load('ex_cosin_centroid.pt')\n",
    "#cosine_centroid = torch.load('cond7_cosin_centroid.pt')\n",
    "cosine_centroid = torch.load('sd_cosin_centroid.pt')\n"
   ]
  },
  {
   "cell_type": "code",
   "execution_count": 27,
   "metadata": {},
   "outputs": [
    {
     "name": "stdout",
     "output_type": "stream",
     "text": [
      "torch.Size([40, 27648])\n",
      "torch.Size([280, 27648])\n",
      "torch.Size([103, 27648])\n",
      "torch.Size([1, 27648])\n"
     ]
    }
   ],
   "source": [
    "print(ex.shape)\n",
    "print(control.shape)\n",
    "print(sd.shape)\n",
    "print(cosine_centroid.shape)\n"
   ]
  },
  {
   "cell_type": "code",
   "execution_count": 28,
   "metadata": {},
   "outputs": [],
   "source": [
    "import torch\n",
    "\n",
    "def normalize_tensor(tensor, dim=1):\n",
    "    \"\"\"\n",
    "    Normalize a PyTorch tensor along the specified dimension.\n",
    "    \n",
    "    Args:\n",
    "        tensor (torch.Tensor): Input tensor to normalize (e.g., shape [N, D]).\n",
    "        dim (int): Dimension along which to normalize. Default is 1 (rows).\n",
    "    \n",
    "    Returns:\n",
    "        torch.Tensor: Normalized tensor with the same shape as input.\n",
    "    \"\"\"\n",
    "    # Compute the L2 norm along the specified dimension\n",
    "    norm = torch.norm(tensor, p=2, dim=dim, keepdim=True)\n",
    "    \n",
    "    # Avoid division by zero\n",
    "    norm = torch.clamp(norm, min=1e-8)\n",
    "    \n",
    "    # Normalize the tensor\n",
    "    normalized_tensor = tensor / norm\n",
    "    return normalized_tensor\n"
   ]
  },
  {
   "cell_type": "code",
   "execution_count": 29,
   "metadata": {},
   "outputs": [
    {
     "data": {
      "text/plain": [
       "torch.Size([27648])"
      ]
     },
     "execution_count": 29,
     "metadata": {},
     "output_type": "execute_result"
    }
   ],
   "source": [
    "ex[0].shape"
   ]
  },
  {
   "cell_type": "code",
   "execution_count": 30,
   "metadata": {},
   "outputs": [
    {
     "name": "stdout",
     "output_type": "stream",
     "text": [
      "Normalized shapes:\n",
      "torch.Size([40, 27648])\n",
      "torch.Size([280, 27648])\n",
      "torch.Size([103, 27648])\n",
      "torch.Size([1, 27648])\n"
     ]
    }
   ],
   "source": [
    "# Normalize each group\n",
    "normalized_ex = normalize_tensor(ex, dim=1)  # Normalize each row\n",
    "normalized_control = normalize_tensor(control, dim=1)\n",
    "normalized_sd = normalize_tensor(sd, dim=1)\n",
    "normalised_cosine_centroid = cosine_centroid\n",
    "\n",
    "# Print shapes to verify\n",
    "print(\"Normalized shapes:\")\n",
    "print(normalized_ex.shape)  # Should match ex.shape\n",
    "print(normalized_control.shape)  # Should match control.shape\n",
    "print(normalized_sd.shape) \n",
    "print(normalised_cosine_centroid.shape) \n"
   ]
  },
  {
   "cell_type": "code",
   "execution_count": 31,
   "metadata": {},
   "outputs": [
    {
     "name": "stdout",
     "output_type": "stream",
     "text": [
      "All feature vectors are normalized.\n"
     ]
    }
   ],
   "source": [
    "#check for nomralisation\n",
    "\n",
    "import numpy as np\n",
    "\n",
    "# Calculate the L2 norm of each row in exp_np_norm\n",
    "norms = np.linalg.norm(cosine_centroid, axis=1)\n",
    "\n",
    "# Check if all norms are close to 1\n",
    "if np.allclose(norms, 1.0, atol=1e-6):\n",
    "    print(\"All feature vectors are normalized.\")\n",
    "else:\n",
    "    print(\"Some feature vectors are not normalized.\")\n",
    "    print(\"Norms:\", norms)\n"
   ]
  },
  {
   "cell_type": "code",
   "execution_count": 32,
   "metadata": {},
   "outputs": [],
   "source": [
    "import torch\n",
    "import matplotlib.pyplot as plt\n",
    "\n",
    "def calculate_and_plot_cosine_distances(centroid, groups, group_names, bins=20):\n",
    "    \"\"\"\n",
    "    Calculate cosine distances from a centroid to each vector in multiple groups and plot distributions.\n",
    "    \n",
    "    Args:\n",
    "        centroid (torch.Tensor): Normalized centroid tensor of shape [1, D].\n",
    "        groups (list of torch.Tensor): List of normalized tensors, each group of shape [N, D].\n",
    "        group_names (list of str): Names of the groups (e.g., [\"Control\", \"Exploded\", \"Single Dose\"]).\n",
    "        bins (int): Number of bins for the histogram.\n",
    "        \n",
    "    Returns:\n",
    "        dict: Dictionary containing cosine distances for each group.\n",
    "    \"\"\"\n",
    "    assert len(groups) == len(group_names), \"Each group must have a corresponding name\"\n",
    "    \n",
    "    cosine_distances = {}\n",
    "    \n",
    "    # Calculate cosine distances for each group\n",
    "    for group, name in zip(groups, group_names):\n",
    "        # Ensure the centroid and group are on the same device\n",
    "        centroid = centroid.to(group.device)\n",
    "        \n",
    "        # Calculate cosine similarity\n",
    "        cosine_similarity = torch.nn.functional.cosine_similarity(group, centroid.expand_as(group), dim=1)\n",
    "        \n",
    "        # Convert to cosine distances\n",
    "        distances = 1 - cosine_similarity\n",
    "        \n",
    "        # Store distances\n",
    "        cosine_distances[name] = distances.cpu().numpy()\n",
    "    \n",
    "    # Plot distributions\n",
    "    plt.figure(figsize=(12, 6))\n",
    "    for name, distances in cosine_distances.items():\n",
    "        plt.hist(distances, bins=bins, alpha=0.6, label=name, edgecolor=\"black\")\n",
    "    \n",
    "    plt.title(\"Cosine Distance Distribution Across Groups\", fontsize=14)\n",
    "    plt.xlabel(\"Cosine Distance\", fontsize=12)\n",
    "    plt.ylabel(\"Frequency\", fontsize=12)\n",
    "    plt.legend(fontsize=10)\n",
    "    plt.grid(alpha=0.3)\n",
    "    plt.show()\n",
    "    \n",
    "    return cosine_distances\n"
   ]
  },
  {
   "cell_type": "code",
   "execution_count": 33,
   "metadata": {},
   "outputs": [
    {
     "data": {
      "image/png": "[encoded data removed]",
      "text/plain": [
       "<Figure size 1200x600 with 1 Axes>"
      ]
     },
     "metadata": {},
     "output_type": "display_data"
    }
   ],
   "source": [
    "# Groups and names\n",
    "groups = [normalized_control, normalized_ex, normalized_sd]\n",
    "group_names = [\"Control\", \"Exploded\", \"Single Dose\"]\n",
    "\n",
    "# Calculate distances and plot\n",
    "cosine_distances = calculate_and_plot_cosine_distances(\n",
    "    centroid=normalised_cosine_centroid,\n",
    "    groups=groups,\n",
    "    group_names=group_names,\n",
    "    bins=20\n",
    ")\n",
    "\n",
    "# Access calculated distances\n",
    "control_distances = cosine_distances[\"Control\"]\n",
    "exploded_distances = cosine_distances[\"Exploded\"]\n",
    "single_dose_distances = cosine_distances[\"Single Dose\"]"
   ]
  },
  {
   "cell_type": "code",
   "execution_count": 38,
   "metadata": {},
   "outputs": [
    {
     "name": "stdout",
     "output_type": "stream",
     "text": [
      "Group Means: {'Control': 0.028050900553929906, 'Exploded': 0.022564906818240305, 'Single Dose': 0.012432179882721618}\n",
      "Middle Cluster: Exploded with mean = 0.022564906818240305\n",
      "Middle Cluster Range: Min = 0.004436324250240653, Max = 0.051616672931008134\n",
      "First Cluster Errors: 103\n",
      "Third Cluster Errors: 236\n",
      "Total Errors: 339\n",
      "Total Points: 423, Non-Errors: 84, Accuracy: 19.86%\n"
     ]
    }
   ],
   "source": [
    "import torch\n",
    "import numpy as np\n",
    "\n",
    "def calculate_outer_cluster_errors(cosine_distances):\n",
    "    \"\"\"\n",
    "    Calculate errors and accuracy based on the distribution of cosine distances.\n",
    "    \n",
    "    Args:\n",
    "        cosine_distances (dict): Dictionary containing cosine distances for each group.\n",
    "        \n",
    "    Returns:\n",
    "        dict: Dictionary containing errors and accuracy.\n",
    "    \"\"\"\n",
    "    # Step 1: Calculate the mean of each group\n",
    "    group_means = {name: np.mean(distances) for name, distances in cosine_distances.items()}\n",
    "    print(\"Group Means:\", group_means)\n",
    "    \n",
    "    # Step 2: Find the group with the middle mean\n",
    "    sorted_means = sorted(group_means.items(), key=lambda x: x[1])  # Sort by mean value\n",
    "    middle_cluster_name, middle_mean = sorted_means[1]  # Middle cluster\n",
    "    print(f\"Middle Cluster: {middle_cluster_name} with mean = {middle_mean}\")\n",
    "    \n",
    "    # Step 3: Calculate min and max of the middle cluster\n",
    "    middle_distances = cosine_distances[middle_cluster_name]\n",
    "    middle_cluster_min = np.min(middle_distances)\n",
    "    middle_cluster_max = np.max(middle_distances)\n",
    "    print(f\"Middle Cluster Range: Min = {middle_cluster_min}, Max = {middle_cluster_max}\")\n",
    "    \n",
    "    # Step 4: Error Calculation\n",
    "    # First cluster (smallest mean)\n",
    "    first_cluster_name, _ = sorted_means[0]\n",
    "    first_cluster_distances = cosine_distances[first_cluster_name]\n",
    "    first_cluster_errors = np.sum(first_cluster_distances > middle_cluster_min)\n",
    "    \n",
    "    # Third cluster (largest mean)\n",
    "    third_cluster_name, _ = sorted_means[2]\n",
    "    third_cluster_distances = cosine_distances[third_cluster_name]\n",
    "    third_cluster_errors = np.sum(third_cluster_distances < middle_cluster_max)\n",
    "    \n",
    "    # Total errors\n",
    "    total_errors = first_cluster_errors + third_cluster_errors\n",
    "    print(f\"First Cluster Errors: {first_cluster_errors}\")\n",
    "    print(f\"Third Cluster Errors: {third_cluster_errors}\")\n",
    "    print(f\"Total Errors: {total_errors}\")\n",
    "    \n",
    "    # Step 5: Accuracy Calculation\n",
    "    total_points = sum(len(distances) for distances in cosine_distances.values())\n",
    "    non_errors = total_points - total_errors\n",
    "    accuracy = non_errors / total_points\n",
    "    print(f\"Total Points: {total_points}, Non-Errors: {non_errors}, Accuracy: {accuracy:.2%}\")\n",
    "    \n",
    "    # Return results\n",
    "    return {\n",
    "        \"group_means\": group_means,\n",
    "        \"middle_cluster\": middle_cluster_name,\n",
    "        \"middle_cluster_range\": (middle_cluster_min, middle_cluster_max),\n",
    "        \"first_cluster_errors\": first_cluster_errors,\n",
    "        \"third_cluster_errors\": third_cluster_errors,\n",
    "        \"total_errors\": total_errors,\n",
    "        \"accuracy\": accuracy,\n",
    "    }\n",
    "\n",
    "# Example Usage with Previous Results\n",
    "results = calculate_outer_cluster_errors(cosine_distances)\n"
   ]
  },
  {
   "cell_type": "code",
   "execution_count": null,
   "metadata": {},
   "outputs": [],
   "source": []
  },
  {
   "cell_type": "code",
   "execution_count": 34,
   "metadata": {},
   "outputs": [
    {
     "data": {
      "text/plain": [
       "(280,)"
      ]
     },
     "execution_count": 34,
     "metadata": {},
     "output_type": "execute_result"
    }
   ],
   "source": [
    "control_distances.shape"
   ]
  },
  {
   "cell_type": "code",
   "execution_count": 35,
   "metadata": {},
   "outputs": [
    {
     "data": {
      "text/plain": [
       "(40,)"
      ]
     },
     "execution_count": 35,
     "metadata": {},
     "output_type": "execute_result"
    }
   ],
   "source": [
    "exploded_distances.shape"
   ]
  },
  {
   "cell_type": "code",
   "execution_count": 36,
   "metadata": {},
   "outputs": [
    {
     "data": {
      "text/plain": [
       "(103,)"
      ]
     },
     "execution_count": 36,
     "metadata": {},
     "output_type": "execute_result"
    }
   ],
   "source": [
    "single_dose_distances.shape"
   ]
  },
  {
   "cell_type": "code",
   "execution_count": 39,
   "metadata": {},
   "outputs": [
    {
     "data": {
      "image/png": "[encoded data removed]",
      "text/plain": [
       "<Figure size 1200x600 with 1 Axes>"
      ]
     },
     "metadata": {},
     "output_type": "display_data"
    },
    {
     "name": "stdout",
     "output_type": "stream",
     "text": [
      "\n",
      "Metrics:\n",
      "Group-Wise Ranking Accuracy: 0.8128\n",
      "\n",
      "Cosine Distances:\n",
      "Control: [0.01862535 0.01878941 0.0146459  0.01852358 0.00828509] ...\n",
      "Exploded: [0.04907284 0.03549081 0.01779407 0.01417649 0.03869662] ...\n",
      "Single Dose: [0.01160673 0.01566016 0.01108466 0.02055134 0.02443956] ...\n",
      "\n",
      "Group-Wise Ranking Accuracy: 0.8128\n"
     ]
    }
   ],
   "source": [
    "import torch\n",
    "import matplotlib.pyplot as plt\n",
    "import numpy as np\n",
    "\n",
    "def calculate_and_plot_cosine_distances(centroid, groups, group_names, bins=20):\n",
    "    \"\"\"\n",
    "    Calculate cosine distances from a centroid to each vector in multiple groups,\n",
    "    plot distributions, and compute Group-Wise Ranking Accuracy.\n",
    "    \n",
    "    Args:\n",
    "        centroid (torch.Tensor): Normalized centroid tensor of shape [1, D].\n",
    "        groups (list of torch.Tensor): List of normalized tensors, each group of shape [N, D].\n",
    "        group_names (list of str): Names of the groups (e.g., [\"Control\", \"Exploded\", \"Single Dose\"]).\n",
    "        bins (int): Number of bins for the histogram.\n",
    "        \n",
    "    Returns:\n",
    "        dict: Dictionary containing cosine distances for each group and metrics.\n",
    "    \"\"\"\n",
    "    assert len(groups) == len(group_names), \"Each group must have a corresponding name\"\n",
    "    \n",
    "    cosine_distances = {}\n",
    "    \n",
    "    # Calculate cosine distances for each group\n",
    "    for group, name in zip(groups, group_names):\n",
    "        # Ensure the centroid and group are on the same device\n",
    "        centroid = centroid.to(group.device)\n",
    "        \n",
    "        # Calculate cosine similarity\n",
    "        cosine_similarity = torch.nn.functional.cosine_similarity(group, centroid.expand_as(group), dim=1)\n",
    "        \n",
    "        # Convert to cosine distances\n",
    "        distances = 1 - cosine_similarity\n",
    "        \n",
    "        # Store distances\n",
    "        cosine_distances[name] = distances.cpu().numpy()\n",
    "    \n",
    "    # Plot distributions\n",
    "    plt.figure(figsize=(12, 6))\n",
    "    for name, distances in cosine_distances.items():\n",
    "        plt.hist(distances, bins=bins, alpha=0.6, label=name, edgecolor=\"black\")\n",
    "    \n",
    "    plt.title(\"Cosine Distance Distribution Across Groups\", fontsize=14)\n",
    "    plt.xlabel(\"Cosine Distance\", fontsize=12)\n",
    "    plt.ylabel(\"Frequency\", fontsize=12)\n",
    "    plt.legend(fontsize=10)\n",
    "    plt.grid(alpha=0.3)\n",
    "    plt.show()\n",
    "    \n",
    "    # Compute Group-Wise Ranking Accuracy\n",
    "    group_wise_accuracy = compute_group_wise_ranking_accuracy(cosine_distances, group_names)\n",
    "    \n",
    "    print(\"\\nMetrics:\")\n",
    "    print(f\"Group-Wise Ranking Accuracy: {group_wise_accuracy:.4f}\")\n",
    "    \n",
    "    return {\n",
    "        \"cosine_distances\": cosine_distances,\n",
    "        \"group_wise_accuracy\": group_wise_accuracy\n",
    "    }\n",
    "\n",
    "def compute_group_wise_ranking_accuracy(cosine_distances, group_names):\n",
    "    \"\"\"\n",
    "    Compute the Group-Wise Ranking Accuracy metric.\n",
    "    \n",
    "    Args:\n",
    "        cosine_distances (dict): Dictionary of cosine distances for each group.\n",
    "        group_names (list of str): Names of the groups in ranking order.\n",
    "        \n",
    "    Returns:\n",
    "        float: Group-wise ranking accuracy.\n",
    "    \"\"\"\n",
    "    # Assign numerical labels to each group based on the order of group_names\n",
    "    all_distances = []\n",
    "    all_labels = []\n",
    "    \n",
    "    for i, name in enumerate(group_names):\n",
    "        distances = cosine_distances[name]\n",
    "        all_distances.append(distances)\n",
    "        all_labels.append(np.full_like(distances, i))  # Assign label i to this group\n",
    "    \n",
    "    # Combine all distances and labels\n",
    "    all_distances = np.concatenate(all_distances)\n",
    "    all_labels = np.concatenate(all_labels)\n",
    "    \n",
    "    # Sort all distances along with their labels\n",
    "    sorted_indices = np.argsort(all_distances)\n",
    "    sorted_labels = all_labels[sorted_indices]\n",
    "    \n",
    "    # Check if group order is preserved\n",
    "    correct_transitions = 0\n",
    "    total_transitions = 0\n",
    "    for i in range(1, len(sorted_labels)):\n",
    "        if sorted_labels[i - 1] <= sorted_labels[i]:\n",
    "            correct_transitions += 1\n",
    "        total_transitions += 1\n",
    "    \n",
    "    accuracy = correct_transitions / total_transitions if total_transitions > 0 else 0\n",
    "    return accuracy\n",
    "\n",
    "\n",
    "# Groups and names\n",
    "groups = [normalized_control, normalized_ex, normalized_sd]\n",
    "group_names = [\"Control\", \"Exploded\", \"Single Dose\"]\n",
    "\n",
    "# Calculate distances, plot, and get metrics\n",
    "results = calculate_and_plot_cosine_distances(\n",
    "    centroid=normalised_cosine_centroid,\n",
    "    groups=groups,\n",
    "    group_names=group_names,\n",
    "    bins=20\n",
    ")\n",
    "\n",
    "# Access results\n",
    "cosine_distances = results[\"cosine_distances\"]\n",
    "group_wise_accuracy = results[\"group_wise_accuracy\"]\n",
    "\n",
    "# Print results\n",
    "print(\"\\nCosine Distances:\")\n",
    "for group, distances in cosine_distances.items():\n",
    "    print(f\"{group}: {distances[:5]} ...\")  # Print first 5 distances for brevity\n",
    "print(f\"\\nGroup-Wise Ranking Accuracy: {group_wise_accuracy:.4f}\")\n"
   ]
  },
  {
   "cell_type": "code",
   "execution_count": null,
   "metadata": {},
   "outputs": [],
   "source": []
  }
 ],
 "metadata": {
  "kernelspec": {
   "display_name": "master",
   "language": "python",
   "name": "python3"
  },
  "language_info": {
   "codemirror_mode": {
    "name": "ipython",
    "version": 3
   },
   "file_extension": ".py",
   "mimetype": "text/x-python",
   "name": "python",
   "nbconvert_exporter": "python",
   "pygments_lexer": "ipython3",
   "version": "3.12.3"
  }
 },
 "nbformat": 4,
 "nbformat_minor": 2
}
