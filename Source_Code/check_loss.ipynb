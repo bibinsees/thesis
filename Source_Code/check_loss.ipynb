{
 "cells": [
  {
   "cell_type": "code",
   "execution_count": 10,
   "metadata": {},
   "outputs": [],
   "source": [
    "import numpy as np\n",
    "torch.manual_seed(0)\n",
    "np.random.seed(0)"
   ]
  },
  {
   "cell_type": "code",
   "execution_count": 18,
   "metadata": {},
   "outputs": [
    {
     "name": "stdout",
     "output_type": "stream",
     "text": [
      "Contrastive Loss (Python): 1.6434669749791164\n"
     ]
    }
   ],
   "source": [
    "import numpy as np\n",
    "\n",
    "def cosine_similarity(z_i, z_j):\n",
    "    dot_product = np.dot(z_i, z_j)\n",
    "    norm_i = np.linalg.norm(z_i)\n",
    "    norm_j = np.linalg.norm(z_j)\n",
    "    return dot_product / (norm_i * norm_j)\n",
    "\n",
    "def contrastive_loss_python(z_all, i, j, tau):\n",
    "    # Normalize all vectors\n",
    "    z_all = z_all / np.linalg.norm(z_all, axis=1, keepdims=True)\n",
    "    \n",
    "    z_i = z_all[i]\n",
    "    z_j = z_all[j]\n",
    "    \n",
    "    sim_ij = cosine_similarity(z_i, z_j)\n",
    "    numerator = np.exp(sim_ij / tau)\n",
    "    \n",
    "    denominator = 0.0\n",
    "    for k, z_k in enumerate(z_all):\n",
    "        if k != i:\n",
    "            sim_ik = cosine_similarity(z_i, z_k)\n",
    "            denominator += np.exp(sim_ik / tau)\n",
    "    \n",
    "    loss = -np.log(numerator / denominator)\n",
    "    return loss\n",
    "\n",
    "# Example usage\n",
    "np.random.seed(0)  # For reproducibility\n",
    "batch_size = 4\n",
    "hidden_dim = 3\n",
    "temperature = 0.5\n",
    "fixed_features = np.array([[1, 0, 0], [0, 1, 0], [0, 0, 1], [1, 1, 1]], dtype=np.float32)\n",
    "i, j = 0, 1\n",
    "loss_python = contrastive_loss_python(fixed_features, i, j, tau=temperature)\n",
    "print(\"Contrastive Loss (Python):\", loss_python)\n"
   ]
  },
  {
   "cell_type": "code",
   "execution_count": 17,
   "metadata": {},
   "outputs": [
    {
     "name": "stdout",
     "output_type": "stream",
     "text": [
      "Contrastive Loss (PyTorch): 1.2185781002044678\n"
     ]
    }
   ],
   "source": [
    "import torch\n",
    "import torch.nn.functional as F\n",
    "\n",
    "def contrastive_loss_pytorch(feats, temperature=0.5):\n",
    "    feats = F.normalize(feats, dim=-1)  # Normalize the features\n",
    "    similarity_matrix = torch.mm(feats, feats.T)\n",
    "    batch_size = feats.size(0)\n",
    "    mask = torch.eye(batch_size, dtype=torch.bool, device=feats.device)\n",
    "    similarity_matrix = similarity_matrix / temperature\n",
    "    similarity_matrix.masked_fill_(mask, float('-inf'))  # Mask self-similarity\n",
    "    pos_mask = mask.roll(shifts=batch_size // 2, dims=0)\n",
    "    positive_similarities = similarity_matrix[pos_mask]\n",
    "    denominator = torch.logsumexp(similarity_matrix, dim=-1)\n",
    "    loss = -positive_similarities + denominator\n",
    "    return loss.mean()\n",
    "\n",
    "# Example usage\n",
    "torch.manual_seed(0)  # For reproducibility\n",
    "batch_size = 4\n",
    "hidden_dim = 3\n",
    "temperature = 0.5\n",
    "fixed_features = torch.tensor([[1, 0, 0], [0, 1, 0], [0, 0, 1], [1, 1, 1]], dtype=torch.float32)\n",
    "loss_pytorch = contrastive_loss_pytorch(fixed_features, temperature=temperature)\n",
    "print(\"Contrastive Loss (PyTorch):\", loss_pytorch.item())\n"
   ]
  },
  {
   "cell_type": "code",
   "execution_count": null,
   "metadata": {},
   "outputs": [],
   "source": []
  }
 ],
 "metadata": {
  "kernelspec": {
   "display_name": "master",
   "language": "python",
   "name": "python3"
  },
  "language_info": {
   "codemirror_mode": {
    "name": "ipython",
    "version": 3
   },
   "file_extension": ".py",
   "mimetype": "text/x-python",
   "name": "python",
   "nbconvert_exporter": "python",
   "pygments_lexer": "ipython3",
   "version": "3.12.4"
  }
 },
 "nbformat": 4,
 "nbformat_minor": 2
}
