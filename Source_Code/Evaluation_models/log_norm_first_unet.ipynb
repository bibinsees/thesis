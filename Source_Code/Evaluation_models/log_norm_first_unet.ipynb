{
 "cells": [
  {
   "cell_type": "code",
   "execution_count": 1,
   "metadata": {},
   "outputs": [],
   "source": [
    "import torch\n",
    "from torch import nn, optim\n",
    "from tqdm import tqdm\n",
    "import os\n",
    "import tifffile as tiff\n",
    "import numpy as np\n",
    "from torch.utils.data import Dataset, DataLoader, random_split\n",
    "import torchvision\n",
    "from torchvision import transforms\n",
    "\n",
    "import random\n",
    "import matplotlib.pyplot as plt\n",
    "\n",
    "import numpy as np\n",
    "from sklearn.model_selection import train_test_split\n",
    "import time\n",
    "from copy import deepcopy\n",
    "from sklearn.metrics import accuracy_score"
   ]
  },
  {
   "cell_type": "markdown",
   "metadata": {},
   "source": [
    "We use the output of projection head because output of botteleneck is 1834 which is greater than 96 input image size. and we can't change the size because then we have to change the model weights then its no meaning to use pretrained model.\n",
    "strange: i got acc:40% with projection head and without:100% for one epoch for logistic regression (downstream task)"
   ]
  },
  {
   "cell_type": "code",
   "execution_count": 2,
   "metadata": {},
   "outputs": [],
   "source": [
    "def set_seed(seed):\n",
    "    random.seed(seed)\n",
    "    np.random.seed(seed)\n",
    "    torch.manual_seed(seed)\n",
    "    if torch.cuda.is_available():\n",
    "        torch.cuda.manual_seed(seed)\n",
    "        torch.cuda.manual_seed_all(seed)\n",
    "    torch.backends.cudnn.deterministic = True\n",
    "    torch.backends.cudnn.benchmark = False"
   ]
  },
  {
   "cell_type": "code",
   "execution_count": 3,
   "metadata": {},
   "outputs": [],
   "source": [
    "set_seed(42)"
   ]
  },
  {
   "cell_type": "code",
   "execution_count": 4,
   "metadata": {},
   "outputs": [],
   "source": [
    "# Set the device\n",
    "device = torch.device(\"cuda\" if torch.cuda.is_available() else \"cpu\")"
   ]
  },
  {
   "cell_type": "code",
   "execution_count": 5,
   "metadata": {},
   "outputs": [],
   "source": [
    "# Custom Dataset class for 3 channel/image\n",
    "class ImageDataset(Dataset):\n",
    "    def __init__(self, image_dir,size):\n",
    "        self.image_dir = image_dir\n",
    "        #self.transform = transform\n",
    "        self.image_files = [os.path.join(image_dir, file) for file in os.listdir(image_dir) if file.endswith('.tiff')]\n",
    "        #we don't need to resize into 96*96 because we are doing that in below contrastive transform (self.resize_transform = transforms.resize((96,96)))\n",
    "        self.transform = transforms.Compose([\n",
    "            #transforms.RandomHorizontalFlip(),\n",
    "            transforms.RandomResizedCrop(size=size),\n",
    "            transforms.RandomApply([transforms.ColorJitter(brightness=0.5, contrast=0.5, saturation=0.5, hue=0.1)], p=0.8),\n",
    "            #transforms.RandomGrayscale(p=0.2),\n",
    "            #transforms.GaussianBlur(kernel_size=9),\n",
    "        ])\n",
    "    \n",
    "    def __len__(self):\n",
    "        return len(self.image_files)\n",
    "\n",
    "    def __getitem__(self, idx):\n",
    "        img_path = self.image_files[idx]\n",
    "        image = tiff.imread(img_path)\n",
    "\n",
    "        # Ensure the image has 3 layers (channels)\n",
    "        if image.shape[0] != 3:\n",
    "            raise ValueError(f\"Image {img_path} does not have exactly 3 layers.\")\n",
    "        \n",
    "        # Normalize the 16-bit image to [0, 1]\n",
    "        image = image.astype(np.float32) / 65535.0\n",
    "        \n",
    "        # Convert to a torch tensor\n",
    "        image = torch.tensor(image, dtype=torch.float32)\n",
    "        \n",
    "        if self.transform:\n",
    "            image1 = self.transform(image)\n",
    "            image2 = self.transform(image)\n",
    "        return image1, image2"
   ]
  },
  {
   "cell_type": "markdown",
   "metadata": {},
   "source": [
    "# 1 channel\n",
    "class ImageDataset(Dataset):\n",
    "    def __init__(self, image_dir, size, transform=None):\n",
    "        self.image_dir = image_dir\n",
    "        self.transform = transform\n",
    "        self.image_files = [os.path.join(image_dir, file) for file in os.listdir(image_dir) if file.endswith('.tiff')]\n",
    "        self.resize_transform = transforms.Resize((size,size))\n",
    "    def __len__(self):\n",
    "        return len(self.image_files)\n",
    "\n",
    "    def __getitem__(self, idx):\n",
    "        img_path = self.image_files[idx]\n",
    "        image = tiff.imread(img_path)\n",
    "\n",
    "        # Ensure the image has 3 layers (channels)\n",
    "        if image.shape[0] != 3:\n",
    "            raise ValueError(f\"Image {img_path} does not have exactly 3 layers.\")\n",
    "        \n",
    "        # Normalize the 16-bit image to [0, 1]\n",
    "        image = image.astype(np.float32) / 65535.0\n",
    "        \n",
    "        # Calculate sharpness for each layer\n",
    "        sharpness_scores = []\n",
    "        for i in range(3):\n",
    "            layer = image[i]\n",
    "            gy, gx = np.gradient(layer)\n",
    "            gnorm = np.sqrt(gx**2 + gy**2)\n",
    "            sharpness = np.average(gnorm)\n",
    "            sharpness_scores.append(sharpness)\n",
    "        \n",
    "\n",
    "        # Find the index of the sharpest layer\n",
    "        sharpest_layer_index = np.argmax(sharpness_scores)\n",
    "        \n",
    "        # Determine the anchor (sharpest layer) and the other two layers (augmentations)\n",
    "        anchor = image[sharpest_layer_index]\n",
    "        other_indices = [i for i in range(3) if i != sharpest_layer_index]\n",
    "        augmentation1 = image[other_indices[0]]\n",
    "        augmentation2 = image[other_indices[1]]\n",
    "\n",
    "        # Convert to a torch tensor and add channel dimension\n",
    "        anchor = torch.tensor(anchor, dtype=torch.float32).unsqueeze(0)\n",
    "        img1 = torch.tensor(augmentation1, dtype=torch.float32).unsqueeze(0)\n",
    "        img2 = torch.tensor(augmentation2, dtype=torch.float32).unsqueeze(0)\n",
    "        \n",
    "        # Apply resize transform\n",
    "        #anchor = self.resize_transform(anchor)\n",
    "        img1 = self.resize_transform(img1)\n",
    "        img2 = self.resize_transform(img2)\n",
    "        \n",
    "        return img1, img2"
   ]
  },
  {
   "cell_type": "code",
   "execution_count": 6,
   "metadata": {},
   "outputs": [],
   "source": [
    "def plot_curves(train_losses, val_losses, train_top1_accs, val_top1_accs, train_top5_accs, val_top5_accs, train_mean_pos, val_mean_pos):\n",
    "    epochs = range(1, len(train_losses) + 1)\n",
    "\n",
    "    # Plot loss\n",
    "    plt.figure(figsize=(12, 4))\n",
    "    plt.subplot(1, 2, 1)\n",
    "    plt.plot(epochs, train_losses, 'bo-', label='Training Loss')\n",
    "    plt.plot(epochs, val_losses, 'ro-', label='Validation Loss')\n",
    "    plt.title('Training and Validation Loss')\n",
    "    plt.xlabel('Epochs')\n",
    "    plt.ylabel('Loss')\n",
    "    plt.legend()\n",
    "\n",
    "    # Plot Top-1 accuracy\n",
    "    plt.subplot(1, 2, 2)\n",
    "    plt.plot(epochs, train_top1_accs, 'bo-', label='Training Top-1 Accuracy')\n",
    "    plt.plot(epochs, val_top1_accs, 'ro-', label='Validation Top-1 Accuracy')\n",
    "    plt.title('Training and Validation Top-1 Accuracy')\n",
    "    plt.xlabel('Epochs')\n",
    "    plt.ylabel('Top-1 Accuracy (%)')\n",
    "    plt.legend()\n",
    "\n",
    "    # Show the plots\n",
    "    plt.tight_layout()\n",
    "    plt.show()\n",
    "\n",
    "    # Plot Top-5 accuracy\n",
    "    plt.figure(figsize=(6, 4))\n",
    "    plt.plot(epochs, train_top5_accs, 'bo-', label='Training Top-5 Accuracy')\n",
    "    plt.plot(epochs, val_top5_accs, 'ro-', label='Validation Top-5 Accuracy')\n",
    "    plt.title('Training and Validation Top-5 Accuracy')\n",
    "    plt.xlabel('Epochs')\n",
    "    plt.ylabel('Top-5 Accuracy (%)')\n",
    "    plt.legend()\n",
    "\n",
    "    # Plot Mean Position of Positive Example\n",
    "    plt.figure(figsize=(6, 4))\n",
    "    plt.plot(epochs, train_mean_pos, 'bo-', label='Training Mean Position')\n",
    "    plt.plot(epochs, val_mean_pos, 'ro-', label='Validation Mean Position')\n",
    "    plt.title('Training and Validation Mean Position of Positive Example')\n",
    "    plt.xlabel('Epochs')\n",
    "    plt.ylabel('Mean Position')\n",
    "    plt.legend()\n",
    "\n",
    "    plt.tight_layout()\n",
    "    plt.show()\n",
    "\n",
    "\n",
    "\n",
    "# Function to split dataset with explicit percentage\n",
    "def split_dataset(dataset, val_percentage):\n",
    "    val_size = int(len(dataset) * val_percentage)\n",
    "    train_size = len(dataset) - val_size\n",
    "    return random_split(dataset, [train_size, val_size])\n"
   ]
  },
  {
   "cell_type": "markdown",
   "metadata": {},
   "source": [
    "# 1 channel\n",
    "class Resnet(nn.Module):\n",
    "    def __init__(self, hidden_dim):\n",
    "        super(Resnet, self).__init__()\n",
    "        \n",
    "        # Load the pretrained ResNet-18 model\n",
    "        self.convnet = torchvision.models.resnet18(weights='ResNet18_Weights.DEFAULT')\n",
    "        \n",
    "        # Modify the first convolutional layer to accept single-channel images\n",
    "        self.convnet.conv1 = nn.Conv2d(1, 64, kernel_size=(7, 7), stride=(2, 2), padding=(3, 3), bias=False)\n",
    "        \n",
    "        # Modify the fully connected layer\n",
    "        self.convnet.fc = nn.Sequential(\n",
    "            nn.Linear(self.convnet.fc.in_features, 4 * hidden_dim),  # Linear layer with 4*hidden_dim output\n",
    "            nn.ReLU(inplace=True),\n",
    "            nn.Linear(4 * hidden_dim, hidden_dim)  # Output layer with hidden_dim output\n",
    "        )\n",
    "\n",
    "    def forward(self, x):\n",
    "        return self.convnet(x)"
   ]
  },
  {
   "cell_type": "markdown",
   "metadata": {},
   "source": [
    "# 1 channel\n",
    "\n",
    "class Resnet(nn.Module):\n",
    "    def __init__(self, hidden_dim):\n",
    "        super(Resnet, self).__init__()\n",
    "        \n",
    "        # Load the pretrained ResNet-18 model\n",
    "        self.convnet = torchvision.models.resnet18(weights='ResNet18_Weights.DEFAULT')\n",
    "        \n",
    "        # Modify the first convolutional layer to accept single-channel images\n",
    "        self.convnet.conv1 = nn.Conv2d(1, 64, kernel_size=(7, 7), stride=(2, 2), padding=(3, 3), bias=False)\n",
    "        \n",
    "        # Modify the fully connected layer\n",
    "        self.convnet.fc = nn.Sequential(\n",
    "            nn.Linear(self.convnet.fc.in_features, 4 * hidden_dim),  # Linear layer with 4*hidden_dim output\n",
    "            nn.ReLU(inplace=True),\n",
    "            nn.Linear(4 * hidden_dim, hidden_dim)  # Output layer with hidden_dim output\n",
    "        )\n",
    "\n",
    "    def forward(self, x):\n",
    "        # Forward pass through the ResNet layers\n",
    "        x = self.convnet.conv1(x)\n",
    "        x = self.convnet.bn1(x)\n",
    "        x = self.convnet.relu(x)\n",
    "        x = self.convnet.maxpool(x)\n",
    "        print(f\"Shape after conv1: {x.shape}\")\n",
    "\n",
    "        x = self.convnet.layer1(x)\n",
    "        print(f\"Shape after layer1: {x.shape}\")\n",
    "\n",
    "        x = self.convnet.layer2(x)\n",
    "        print(f\"Shape after layer2: {x.shape}\")\n",
    "\n",
    "        x = self.convnet.layer3(x)\n",
    "        print(f\"Shape after layer3: {x.shape}\")\n",
    "\n",
    "        x = self.convnet.layer4(x)\n",
    "        print(f\"Shape after layer4: {x.shape}\")\n",
    "\n",
    "        # Global average pooling\n",
    "        x = self.convnet.avgpool(x)\n",
    "        print(f\"Shape after avgpool: {x.shape}\")\n",
    "\n",
    "        # Flatten the tensor\n",
    "        x = torch.flatten(x, 1)\n",
    "        print(f\"Shape after flatten: {x.shape}\")\n",
    "\n",
    "        # Pass through the projection head\n",
    "        x = self.convnet.fc(x)\n",
    "        print(f\"Shape after projection head: {x.shape}\")\n",
    "\n",
    "        return x\n"
   ]
  },
  {
   "cell_type": "markdown",
   "metadata": {},
   "source": [
    "# Model for 3 channel/image\n",
    "class Resnet(nn.Module):\n",
    "    def __init__(self, hidden_dim):\n",
    "        super(Resnet, self).__init__()\n",
    "        self.convnet = torchvision.models.resnet18(weights='ResNet18_Weights.DEFAULT')\n",
    "\n",
    "        self.convnet.fc = nn.Sequential(\n",
    "            nn.Linear(self.convnet.fc.in_features, 4 * hidden_dim),  # Linear layer with 4*hidden_dim output\n",
    "            nn.ReLU(inplace=True),\n",
    "            nn.Linear(4 * hidden_dim, hidden_dim)  # Output layer with hidden_dim output\n",
    "        )\n",
    "\n",
    "    def forward(self, x):\n",
    "        # Pass through the convolutional layers\n",
    "        x = self.convnet.conv1(x)\n",
    "        x = self.convnet.bn1(x)\n",
    "        x = self.convnet.relu(x)\n",
    "        x = self.convnet.maxpool(x)\n",
    "\n",
    "        x = self.convnet.layer1(x)\n",
    "        x = self.convnet.layer2(x)\n",
    "        x = self.convnet.layer3(x)\n",
    "        x = self.convnet.layer4(x)\n",
    "\n",
    "        # Print the shape after each layer\n",
    "        print(f\"Shape after conv1: {x.shape}\")\n",
    "        print(f\"Shape after layer1: {x.shape}\")\n",
    "        print(f\"Shape after layer2: {x.shape}\")\n",
    "        print(f\"Shape after layer3: {x.shape}\")\n",
    "        print(f\"Shape after layer4: {x.shape}\")\n",
    "\n",
    "        # Global average pooling\n",
    "        x = self.convnet.avgpool(x)\n",
    "        x = torch.flatten(x, 1)\n",
    "        print(f\"Shape after avgpool: {x.shape}\")\n",
    "\n",
    "        # Pass through the projection head\n",
    "        x = self.convnet.fc(x)\n",
    "        print(f\"Shape after projection head: {x.shape}\")\n",
    "\n",
    "        return x\n"
   ]
  },
  {
   "cell_type": "markdown",
   "metadata": {},
   "source": [
    "# 3 channel\n",
    "class Resnet(nn.Module):\n",
    "    def __init__(self, hidden_dim):\n",
    "        super(Resnet, self).__init__()\n",
    "        self.convnet = torchvision.models.resnet18(weights='ResNet18_Weights.DEFAULT')   #weights='ResNet18_Weights.DEFAULT' or weights=None\n",
    "\n",
    "        self.convnet.fc = nn.Sequential(\n",
    "            nn.Linear(self.convnet.fc.in_features, 4 * hidden_dim),  # Linear layer with 4*hidden_dim output\n",
    "            nn.ReLU(inplace=True),\n",
    "            nn.Linear(4 * hidden_dim, hidden_dim)  # Output layer with hidden_dim output\n",
    "        )\n",
    "\n",
    "    def forward(self, x):\n",
    "        return self.convnet(x)"
   ]
  },
  {
   "cell_type": "code",
   "execution_count": 7,
   "metadata": {},
   "outputs": [
    {
     "name": "stderr",
     "output_type": "stream",
     "text": [
      "Using cache found in C:\\Users\\k54739/.cache\\torch\\hub\\mateuszbuda_brain-segmentation-pytorch_master\n"
     ]
    }
   ],
   "source": [
    "# Load the pretrained UNet model\n",
    "model = torch.hub.load('mateuszbuda/brain-segmentation-pytorch', 'unet', \n",
    "                       in_channels=3, out_channels=1, init_features=32, pretrained=True)\n",
    "\n",
    "class UNetEncoder(nn.Module):\n",
    "    def __init__(self, unet_model, image_size=96, in_channel=3,hidden_dim=128):\n",
    "        super(UNetEncoder, self).__init__()\n",
    "        self.image_size = image_size\n",
    "        self.in_channel = in_channel\n",
    "        self.hidden_dim = hidden_dim\n",
    "        \n",
    "        original_encoder1 = unet_model.encoder1\n",
    "        \n",
    "        # Create a new encoder1 layer with variable input channels, keeping the same output channels and kernel size\n",
    "        self.encoder1 = nn.Sequential(\n",
    "            nn.Conv2d(self.in_channel, original_encoder1[0].out_channels, \n",
    "                      kernel_size=original_encoder1[0].kernel_size, \n",
    "                      stride=original_encoder1[0].stride, \n",
    "                      padding=original_encoder1[0].padding),\n",
    "            original_encoder1[1]  # Keep the rest of the layers (e.g., BatchNorm, ReLU) intact\n",
    "        )\n",
    "        \n",
    "        self.pool1 = unet_model.pool1\n",
    "        self.encoder2 = unet_model.encoder2\n",
    "        self.pool2 = unet_model.pool2\n",
    "        self.encoder3 = unet_model.encoder3\n",
    "        self.pool3 = unet_model.pool3\n",
    "        self.encoder4 = unet_model.encoder4\n",
    "        self.pool4 = unet_model.pool4\n",
    "        self.bottleneck = unet_model.bottleneck\n",
    "        dummy = torch.zeros((1, self.in_channel, image_size, image_size))\n",
    "        out = self.bottleneck(self.pool4(self.encoder4(self.pool3(self.encoder3(self.pool2(self.encoder2(self.pool1(self.encoder1(dummy)))))))))\n",
    "        shape= torch.flatten(out, start_dim=1).shape[1]\n",
    "        \n",
    "        # Define the fully connected layers after the bottleneck\n",
    "        self.fc = nn.Sequential(\n",
    "            nn.Linear(shape, 4 * self.hidden_dim),  # Adjust input size based on bottleneck output\n",
    "            nn.ReLU(inplace=True),\n",
    "            nn.Linear(4 * self.hidden_dim, 20)  # Output layer with hidden_dim output\n",
    "        )\n",
    "\n",
    "    def forward(self, x):\n",
    "        x = self.encoder1(x)\n",
    "        x = self.pool1(x)\n",
    "        x = self.encoder2(x)\n",
    "        x = self.pool2(x)\n",
    "        x = self.encoder3(x)\n",
    "        x = self.pool3(x)\n",
    "        x = self.encoder4(x)\n",
    "        x = self.pool4(x)\n",
    "        bottleneck = self.bottleneck(x)\n",
    "        \n",
    "        # Flatten the bottleneck output for the fully connected layer\n",
    "        bottleneck_flat = torch.flatten(bottleneck, start_dim=1)\n",
    "        \n",
    "        # Pass through the fully connected layers\n",
    "        output = self.fc(bottleneck_flat)\n",
    "        \n",
    "        # Return all encoder outputs or just bottleneck, depending on your needs\n",
    "        return output"
   ]
  },
  {
   "cell_type": "code",
   "execution_count": 8,
   "metadata": {},
   "outputs": [],
   "source": [
    "def SimCLR_loss(feats, temperature):\n",
    "    # Calculate cosine similarity\n",
    "    cos_sim = nn.functional.cosine_similarity(feats[:, None, :], feats[None, :, :], dim=-1)\n",
    "    \n",
    "    # Mask out cosine similarity to itself\n",
    "    self_mask = torch.eye(cos_sim.shape[0], dtype=torch.bool, device=cos_sim.device)\n",
    "    cos_sim.masked_fill_(self_mask, -9e15)\n",
    "    \n",
    "    # Find positive example -> batch_size//2 away from the original example\n",
    "    pos_mask = self_mask.roll(shifts=cos_sim.shape[0] // 2, dims=0)\n",
    "    \n",
    "    # InfoNCE loss\n",
    "    cos_sim = cos_sim / temperature\n",
    "    nll = -cos_sim[pos_mask] + torch.logsumexp(cos_sim, dim=-1)\n",
    "    nll = nll.mean()\n",
    "\n",
    "    # Accuracy calculations\n",
    "    comb_sim = torch.cat([cos_sim[pos_mask][:, None],  # First position positive example\n",
    "                          cos_sim.masked_fill(pos_mask, -9e15)],\n",
    "                         dim=-1)\n",
    "    sim_argsort = comb_sim.argsort(dim=-1, descending=True).argmin(dim=-1)\n",
    "\n",
    "    # Calculate accuracy metrics\n",
    "    acc_top1 = (sim_argsort == 0).float().mean()\n",
    "    acc_top5 = (sim_argsort < 5).float().mean()\n",
    "    mean_pos = 1 + sim_argsort.float().mean()\n",
    "\n",
    "    return nll, acc_top1.item(), acc_top5.item(), mean_pos.item()"
   ]
  },
  {
   "cell_type": "code",
   "execution_count": 9,
   "metadata": {},
   "outputs": [],
   "source": [
    "def train(train_loader, model, epochs, lr=5e-4, temperature=0.07, weight_decay=1e-4, device='cuda', validate=False):\n",
    "    if not validate:\n",
    "        model = model.train().to(device)\n",
    "    else:\n",
    "        model = model.eval().to(device)\n",
    "    \n",
    "    optimizer = optim.AdamW(model.parameters(), lr=lr, weight_decay=weight_decay)\n",
    "    lr_scheduler = optim.lr_scheduler.CosineAnnealingLR(optimizer, T_max=50, eta_min=lr / 50)\n",
    "\n",
    "    train_losses = []\n",
    "    train_top1_accs = []\n",
    "    train_top5_accs = []\n",
    "    mean_positions = []\n",
    "\n",
    "    for epoch in range(epochs):\n",
    "        total_loss = 0\n",
    "        total_top1_acc = 0.0\n",
    "        total_top5_acc = 0.0\n",
    "        total_mean_pos = 0.0\n",
    "\n",
    "        for imgs1, imgs2 in train_loader:\n",
    "            imgs1, imgs2 = imgs1.to(device), imgs2.to(device)\n",
    "            imgs = torch.cat((imgs1, imgs2), dim=0)\n",
    "            feats = model(imgs)\n",
    "\n",
    "            # Compute the loss and accuracy\n",
    "            loss, acc_top1, acc_top5, mean_pos = SimCLR_loss(feats, temperature)\n",
    "\n",
    "            if not validate:\n",
    "                optimizer.zero_grad()\n",
    "                loss.backward()\n",
    "                optimizer.step()\n",
    "                lr_scheduler.step()\n",
    "\n",
    "            total_loss += loss.item()\n",
    "            total_top1_acc += acc_top1\n",
    "            total_top5_acc += acc_top5\n",
    "            total_mean_pos += mean_pos\n",
    "\n",
    "        avg_loss = total_loss / len(train_loader)\n",
    "        avg_top1_acc = total_top1_acc / len(train_loader)\n",
    "        avg_top5_acc = total_top5_acc / len(train_loader)\n",
    "        avg_mean_pos = total_mean_pos / len(train_loader)\n",
    "\n",
    "        train_losses.append(avg_loss)\n",
    "        train_top1_accs.append(avg_top1_acc)\n",
    "        train_top5_accs.append(avg_top5_acc)\n",
    "        mean_positions.append(avg_mean_pos)\n",
    "\n",
    "        print(f\"Epoch {epoch + 1}/{epochs} | \"\n",
    "              f\"Loss: {avg_loss:.4f} | \"\n",
    "              f\"Top-1 Acc: {avg_top1_acc:.2f}% | \"\n",
    "              f\"Top-5 Acc: {avg_top5_acc:.2f}% | \"\n",
    "              f\"Mean Position: {avg_mean_pos:.2f}\")\n",
    "\n",
    "    return model, (train_losses, train_top1_accs, train_top5_accs, mean_positions)\n"
   ]
  },
  {
   "cell_type": "code",
   "execution_count": 10,
   "metadata": {},
   "outputs": [
    {
     "name": "stdout",
     "output_type": "stream",
     "text": [
      "Batch 0:\n",
      "  Image1: torch.Size([16, 3, 96, 96])\n",
      "  Image2: torch.Size([16, 3, 96, 96])\n",
      "UNetEncoder(\n",
      "  (encoder1): Sequential(\n",
      "    (0): Conv2d(3, 32, kernel_size=(3, 3), stride=(1, 1), padding=(1, 1))\n",
      "    (1): BatchNorm2d(32, eps=1e-05, momentum=0.1, affine=True, track_running_stats=True)\n",
      "  )\n",
      "  (pool1): MaxPool2d(kernel_size=2, stride=2, padding=0, dilation=1, ceil_mode=False)\n",
      "  (encoder2): Sequential(\n",
      "    (enc2conv1): Conv2d(32, 64, kernel_size=(3, 3), stride=(1, 1), padding=(1, 1), bias=False)\n",
      "    (enc2norm1): BatchNorm2d(64, eps=1e-05, momentum=0.1, affine=True, track_running_stats=True)\n",
      "    (enc2relu1): ReLU(inplace=True)\n",
      "    (enc2conv2): Conv2d(64, 64, kernel_size=(3, 3), stride=(1, 1), padding=(1, 1), bias=False)\n",
      "    (enc2norm2): BatchNorm2d(64, eps=1e-05, momentum=0.1, affine=True, track_running_stats=True)\n",
      "    (enc2relu2): ReLU(inplace=True)\n",
      "  )\n",
      "  (pool2): MaxPool2d(kernel_size=2, stride=2, padding=0, dilation=1, ceil_mode=False)\n",
      "  (encoder3): Sequential(\n",
      "    (enc3conv1): Conv2d(64, 128, kernel_size=(3, 3), stride=(1, 1), padding=(1, 1), bias=False)\n",
      "    (enc3norm1): BatchNorm2d(128, eps=1e-05, momentum=0.1, affine=True, track_running_stats=True)\n",
      "    (enc3relu1): ReLU(inplace=True)\n",
      "    (enc3conv2): Conv2d(128, 128, kernel_size=(3, 3), stride=(1, 1), padding=(1, 1), bias=False)\n",
      "    (enc3norm2): BatchNorm2d(128, eps=1e-05, momentum=0.1, affine=True, track_running_stats=True)\n",
      "    (enc3relu2): ReLU(inplace=True)\n",
      "  )\n",
      "  (pool3): MaxPool2d(kernel_size=2, stride=2, padding=0, dilation=1, ceil_mode=False)\n",
      "  (encoder4): Sequential(\n",
      "    (enc4conv1): Conv2d(128, 256, kernel_size=(3, 3), stride=(1, 1), padding=(1, 1), bias=False)\n",
      "    (enc4norm1): BatchNorm2d(256, eps=1e-05, momentum=0.1, affine=True, track_running_stats=True)\n",
      "    (enc4relu1): ReLU(inplace=True)\n",
      "    (enc4conv2): Conv2d(256, 256, kernel_size=(3, 3), stride=(1, 1), padding=(1, 1), bias=False)\n",
      "    (enc4norm2): BatchNorm2d(256, eps=1e-05, momentum=0.1, affine=True, track_running_stats=True)\n",
      "    (enc4relu2): ReLU(inplace=True)\n",
      "  )\n",
      "  (pool4): MaxPool2d(kernel_size=2, stride=2, padding=0, dilation=1, ceil_mode=False)\n",
      "  (bottleneck): Sequential(\n",
      "    (bottleneckconv1): Conv2d(256, 512, kernel_size=(3, 3), stride=(1, 1), padding=(1, 1), bias=False)\n",
      "    (bottlenecknorm1): BatchNorm2d(512, eps=1e-05, momentum=0.1, affine=True, track_running_stats=True)\n",
      "    (bottleneckrelu1): ReLU(inplace=True)\n",
      "    (bottleneckconv2): Conv2d(512, 512, kernel_size=(3, 3), stride=(1, 1), padding=(1, 1), bias=False)\n",
      "    (bottlenecknorm2): BatchNorm2d(512, eps=1e-05, momentum=0.1, affine=True, track_running_stats=True)\n",
      "    (bottleneckrelu2): ReLU(inplace=True)\n",
      "  )\n",
      "  (fc): Sequential(\n",
      "    (0): Linear(in_features=18432, out_features=512, bias=True)\n",
      "    (1): ReLU(inplace=True)\n",
      "    (2): Linear(in_features=512, out_features=20, bias=True)\n",
      "  )\n",
      ")\n",
      "training\n",
      "Epoch 1/100 | Loss: 3.3176 | Top-1 Acc: 0.12% | Top-5 Acc: 0.32% | Mean Position: 12.11\n",
      "Epoch 2/100 | Loss: 3.1263 | Top-1 Acc: 0.13% | Top-5 Acc: 0.38% | Mean Position: 9.73\n",
      "Epoch 3/100 | Loss: 3.0156 | Top-1 Acc: 0.11% | Top-5 Acc: 0.38% | Mean Position: 8.99\n",
      "Epoch 4/100 | Loss: 2.9884 | Top-1 Acc: 0.11% | Top-5 Acc: 0.42% | Mean Position: 9.09\n",
      "Epoch 5/100 | Loss: 2.9534 | Top-1 Acc: 0.13% | Top-5 Acc: 0.45% | Mean Position: 7.88\n",
      "Epoch 6/100 | Loss: 3.0855 | Top-1 Acc: 0.12% | Top-5 Acc: 0.42% | Mean Position: 9.63\n",
      "Epoch 7/100 | Loss: 2.9241 | Top-1 Acc: 0.11% | Top-5 Acc: 0.46% | Mean Position: 8.21\n",
      "Epoch 8/100 | Loss: 2.8479 | Top-1 Acc: 0.14% | Top-5 Acc: 0.48% | Mean Position: 7.53\n",
      "Epoch 9/100 | Loss: 2.8233 | Top-1 Acc: 0.13% | Top-5 Acc: 0.49% | Mean Position: 6.92\n",
      "Epoch 10/100 | Loss: 2.9052 | Top-1 Acc: 0.12% | Top-5 Acc: 0.47% | Mean Position: 7.97\n",
      "Epoch 11/100 | Loss: 2.8971 | Top-1 Acc: 0.13% | Top-5 Acc: 0.44% | Mean Position: 7.69\n",
      "Epoch 12/100 | Loss: 2.8864 | Top-1 Acc: 0.10% | Top-5 Acc: 0.44% | Mean Position: 8.05\n",
      "Epoch 13/100 | Loss: 2.8046 | Top-1 Acc: 0.15% | Top-5 Acc: 0.44% | Mean Position: 7.72\n",
      "Epoch 14/100 | Loss: 2.6523 | Top-1 Acc: 0.18% | Top-5 Acc: 0.59% | Mean Position: 6.23\n",
      "Epoch 15/100 | Loss: 2.6829 | Top-1 Acc: 0.15% | Top-5 Acc: 0.51% | Mean Position: 6.59\n",
      "Epoch 16/100 | Loss: 2.8206 | Top-1 Acc: 0.18% | Top-5 Acc: 0.47% | Mean Position: 7.71\n",
      "Epoch 17/100 | Loss: 2.8852 | Top-1 Acc: 0.17% | Top-5 Acc: 0.53% | Mean Position: 7.42\n",
      "Epoch 18/100 | Loss: 2.6882 | Top-1 Acc: 0.12% | Top-5 Acc: 0.51% | Mean Position: 6.89\n",
      "Epoch 19/100 | Loss: 2.6813 | Top-1 Acc: 0.15% | Top-5 Acc: 0.49% | Mean Position: 6.94\n",
      "Epoch 20/100 | Loss: 2.6647 | Top-1 Acc: 0.14% | Top-5 Acc: 0.56% | Mean Position: 6.32\n",
      "Epoch 21/100 | Loss: 3.0666 | Top-1 Acc: 0.15% | Top-5 Acc: 0.46% | Mean Position: 8.58\n",
      "Epoch 22/100 | Loss: 2.7078 | Top-1 Acc: 0.15% | Top-5 Acc: 0.54% | Mean Position: 6.54\n",
      "Epoch 23/100 | Loss: 2.7759 | Top-1 Acc: 0.13% | Top-5 Acc: 0.51% | Mean Position: 6.93\n",
      "Epoch 24/100 | Loss: 2.6792 | Top-1 Acc: 0.15% | Top-5 Acc: 0.53% | Mean Position: 6.51\n",
      "Epoch 25/100 | Loss: 2.6166 | Top-1 Acc: 0.19% | Top-5 Acc: 0.58% | Mean Position: 5.86\n",
      "Epoch 26/100 | Loss: 2.5911 | Top-1 Acc: 0.19% | Top-5 Acc: 0.60% | Mean Position: 5.84\n",
      "Epoch 27/100 | Loss: 2.6279 | Top-1 Acc: 0.21% | Top-5 Acc: 0.59% | Mean Position: 6.15\n",
      "Epoch 28/100 | Loss: 2.7115 | Top-1 Acc: 0.20% | Top-5 Acc: 0.52% | Mean Position: 6.81\n",
      "Epoch 29/100 | Loss: 2.6250 | Top-1 Acc: 0.18% | Top-5 Acc: 0.57% | Mean Position: 6.22\n",
      "Epoch 30/100 | Loss: 2.5535 | Top-1 Acc: 0.17% | Top-5 Acc: 0.58% | Mean Position: 6.00\n",
      "Epoch 31/100 | Loss: 2.4824 | Top-1 Acc: 0.21% | Top-5 Acc: 0.62% | Mean Position: 5.57\n",
      "Epoch 32/100 | Loss: 2.6742 | Top-1 Acc: 0.16% | Top-5 Acc: 0.53% | Mean Position: 6.58\n",
      "Epoch 33/100 | Loss: 2.7608 | Top-1 Acc: 0.15% | Top-5 Acc: 0.54% | Mean Position: 6.57\n",
      "Epoch 34/100 | Loss: 2.7065 | Top-1 Acc: 0.15% | Top-5 Acc: 0.55% | Mean Position: 6.17\n",
      "Epoch 35/100 | Loss: 2.5450 | Top-1 Acc: 0.20% | Top-5 Acc: 0.62% | Mean Position: 5.56\n",
      "Epoch 36/100 | Loss: 2.5829 | Top-1 Acc: 0.17% | Top-5 Acc: 0.59% | Mean Position: 5.76\n",
      "Epoch 37/100 | Loss: 2.7582 | Top-1 Acc: 0.18% | Top-5 Acc: 0.55% | Mean Position: 6.62\n",
      "Epoch 38/100 | Loss: 2.9655 | Top-1 Acc: 0.17% | Top-5 Acc: 0.49% | Mean Position: 8.01\n",
      "Epoch 39/100 | Loss: 2.5974 | Top-1 Acc: 0.19% | Top-5 Acc: 0.57% | Mean Position: 5.81\n",
      "Epoch 40/100 | Loss: 2.6685 | Top-1 Acc: 0.22% | Top-5 Acc: 0.57% | Mean Position: 6.20\n",
      "Epoch 41/100 | Loss: 2.5345 | Top-1 Acc: 0.18% | Top-5 Acc: 0.61% | Mean Position: 5.74\n",
      "Epoch 42/100 | Loss: 2.5042 | Top-1 Acc: 0.22% | Top-5 Acc: 0.64% | Mean Position: 5.42\n",
      "Epoch 43/100 | Loss: 2.5921 | Top-1 Acc: 0.24% | Top-5 Acc: 0.62% | Mean Position: 6.11\n",
      "Epoch 44/100 | Loss: 2.5681 | Top-1 Acc: 0.21% | Top-5 Acc: 0.60% | Mean Position: 6.05\n",
      "Epoch 45/100 | Loss: 2.4454 | Top-1 Acc: 0.24% | Top-5 Acc: 0.61% | Mean Position: 5.27\n",
      "Epoch 46/100 | Loss: 2.5726 | Top-1 Acc: 0.19% | Top-5 Acc: 0.58% | Mean Position: 5.95\n",
      "Epoch 47/100 | Loss: 2.5302 | Top-1 Acc: 0.22% | Top-5 Acc: 0.62% | Mean Position: 5.72\n",
      "Epoch 48/100 | Loss: 2.4776 | Top-1 Acc: 0.17% | Top-5 Acc: 0.59% | Mean Position: 5.64\n",
      "Epoch 49/100 | Loss: 2.4390 | Top-1 Acc: 0.21% | Top-5 Acc: 0.65% | Mean Position: 5.26\n",
      "Epoch 50/100 | Loss: 2.4871 | Top-1 Acc: 0.23% | Top-5 Acc: 0.63% | Mean Position: 5.59\n",
      "Epoch 51/100 | Loss: 2.3653 | Top-1 Acc: 0.26% | Top-5 Acc: 0.65% | Mean Position: 5.07\n",
      "Epoch 52/100 | Loss: 2.4799 | Top-1 Acc: 0.22% | Top-5 Acc: 0.67% | Mean Position: 5.14\n",
      "Epoch 53/100 | Loss: 2.5551 | Top-1 Acc: 0.21% | Top-5 Acc: 0.60% | Mean Position: 5.95\n",
      "Epoch 54/100 | Loss: 2.4405 | Top-1 Acc: 0.23% | Top-5 Acc: 0.61% | Mean Position: 5.33\n",
      "Epoch 55/100 | Loss: 2.2659 | Top-1 Acc: 0.32% | Top-5 Acc: 0.71% | Mean Position: 4.51\n",
      "Epoch 56/100 | Loss: 2.3400 | Top-1 Acc: 0.26% | Top-5 Acc: 0.68% | Mean Position: 4.99\n",
      "Epoch 57/100 | Loss: 2.3189 | Top-1 Acc: 0.29% | Top-5 Acc: 0.69% | Mean Position: 4.62\n",
      "Epoch 58/100 | Loss: 2.4553 | Top-1 Acc: 0.20% | Top-5 Acc: 0.64% | Mean Position: 5.39\n",
      "Epoch 59/100 | Loss: 2.6528 | Top-1 Acc: 0.19% | Top-5 Acc: 0.58% | Mean Position: 6.10\n",
      "Epoch 60/100 | Loss: 2.3441 | Top-1 Acc: 0.29% | Top-5 Acc: 0.70% | Mean Position: 4.78\n",
      "Epoch 61/100 | Loss: 2.2987 | Top-1 Acc: 0.29% | Top-5 Acc: 0.68% | Mean Position: 4.78\n",
      "Epoch 62/100 | Loss: 2.2222 | Top-1 Acc: 0.28% | Top-5 Acc: 0.71% | Mean Position: 4.33\n",
      "Epoch 63/100 | Loss: 2.3249 | Top-1 Acc: 0.29% | Top-5 Acc: 0.72% | Mean Position: 4.69\n",
      "Epoch 64/100 | Loss: 2.4500 | Top-1 Acc: 0.25% | Top-5 Acc: 0.67% | Mean Position: 5.24\n",
      "Epoch 65/100 | Loss: 2.3796 | Top-1 Acc: 0.23% | Top-5 Acc: 0.67% | Mean Position: 4.96\n",
      "Epoch 66/100 | Loss: 2.2898 | Top-1 Acc: 0.27% | Top-5 Acc: 0.71% | Mean Position: 4.68\n",
      "Epoch 67/100 | Loss: 2.1688 | Top-1 Acc: 0.31% | Top-5 Acc: 0.76% | Mean Position: 3.98\n",
      "Epoch 68/100 | Loss: 2.2039 | Top-1 Acc: 0.33% | Top-5 Acc: 0.74% | Mean Position: 4.45\n",
      "Epoch 69/100 | Loss: 2.4395 | Top-1 Acc: 0.21% | Top-5 Acc: 0.63% | Mean Position: 5.39\n",
      "Epoch 70/100 | Loss: 2.3721 | Top-1 Acc: 0.28% | Top-5 Acc: 0.67% | Mean Position: 4.99\n",
      "Epoch 71/100 | Loss: 2.1855 | Top-1 Acc: 0.32% | Top-5 Acc: 0.73% | Mean Position: 4.25\n",
      "Epoch 72/100 | Loss: 2.2643 | Top-1 Acc: 0.27% | Top-5 Acc: 0.69% | Mean Position: 4.83\n",
      "Epoch 73/100 | Loss: 2.0955 | Top-1 Acc: 0.36% | Top-5 Acc: 0.76% | Mean Position: 4.06\n",
      "Epoch 74/100 | Loss: 2.2443 | Top-1 Acc: 0.25% | Top-5 Acc: 0.69% | Mean Position: 4.59\n",
      "Epoch 75/100 | Loss: 2.3071 | Top-1 Acc: 0.30% | Top-5 Acc: 0.71% | Mean Position: 4.74\n",
      "Epoch 76/100 | Loss: 2.1771 | Top-1 Acc: 0.35% | Top-5 Acc: 0.75% | Mean Position: 4.31\n",
      "Epoch 77/100 | Loss: 2.2301 | Top-1 Acc: 0.32% | Top-5 Acc: 0.74% | Mean Position: 4.16\n",
      "Epoch 78/100 | Loss: 2.1481 | Top-1 Acc: 0.33% | Top-5 Acc: 0.72% | Mean Position: 4.28\n",
      "Epoch 79/100 | Loss: 2.1829 | Top-1 Acc: 0.30% | Top-5 Acc: 0.75% | Mean Position: 4.30\n",
      "Epoch 80/100 | Loss: 2.1491 | Top-1 Acc: 0.34% | Top-5 Acc: 0.77% | Mean Position: 4.11\n",
      "Epoch 81/100 | Loss: 2.0845 | Top-1 Acc: 0.37% | Top-5 Acc: 0.78% | Mean Position: 3.96\n",
      "Epoch 82/100 | Loss: 2.0982 | Top-1 Acc: 0.35% | Top-5 Acc: 0.76% | Mean Position: 4.06\n",
      "Epoch 83/100 | Loss: 1.9950 | Top-1 Acc: 0.39% | Top-5 Acc: 0.77% | Mean Position: 3.78\n",
      "Epoch 84/100 | Loss: 2.1963 | Top-1 Acc: 0.34% | Top-5 Acc: 0.77% | Mean Position: 4.30\n",
      "Epoch 85/100 | Loss: 2.5198 | Top-1 Acc: 0.26% | Top-5 Acc: 0.63% | Mean Position: 5.64\n",
      "Epoch 86/100 | Loss: 2.4054 | Top-1 Acc: 0.27% | Top-5 Acc: 0.67% | Mean Position: 5.22\n",
      "Epoch 87/100 | Loss: 2.1731 | Top-1 Acc: 0.32% | Top-5 Acc: 0.74% | Mean Position: 4.29\n",
      "Epoch 88/100 | Loss: 2.1072 | Top-1 Acc: 0.35% | Top-5 Acc: 0.77% | Mean Position: 3.83\n",
      "Epoch 89/100 | Loss: 2.1478 | Top-1 Acc: 0.35% | Top-5 Acc: 0.74% | Mean Position: 4.03\n",
      "Epoch 90/100 | Loss: 2.4507 | Top-1 Acc: 0.26% | Top-5 Acc: 0.64% | Mean Position: 5.27\n",
      "Epoch 91/100 | Loss: 2.1734 | Top-1 Acc: 0.33% | Top-5 Acc: 0.72% | Mean Position: 4.32\n",
      "Epoch 92/100 | Loss: 2.0184 | Top-1 Acc: 0.36% | Top-5 Acc: 0.78% | Mean Position: 3.74\n",
      "Epoch 93/100 | Loss: 2.0730 | Top-1 Acc: 0.33% | Top-5 Acc: 0.78% | Mean Position: 4.00\n",
      "Epoch 94/100 | Loss: 2.0368 | Top-1 Acc: 0.39% | Top-5 Acc: 0.78% | Mean Position: 3.78\n",
      "Epoch 95/100 | Loss: 2.1094 | Top-1 Acc: 0.42% | Top-5 Acc: 0.74% | Mean Position: 4.17\n",
      "Epoch 96/100 | Loss: 2.3083 | Top-1 Acc: 0.30% | Top-5 Acc: 0.71% | Mean Position: 4.49\n",
      "Epoch 97/100 | Loss: 2.0091 | Top-1 Acc: 0.37% | Top-5 Acc: 0.79% | Mean Position: 3.82\n",
      "Epoch 98/100 | Loss: 2.0435 | Top-1 Acc: 0.39% | Top-5 Acc: 0.79% | Mean Position: 3.86\n",
      "Epoch 99/100 | Loss: 1.9985 | Top-1 Acc: 0.38% | Top-5 Acc: 0.77% | Mean Position: 3.85\n",
      "Epoch 100/100 | Loss: 2.0126 | Top-1 Acc: 0.39% | Top-5 Acc: 0.80% | Mean Position: 3.61\n",
      "validating\n",
      "Epoch 1/100 | Loss: 2.2779 | Top-1 Acc: 0.20% | Top-5 Acc: 0.70% | Mean Position: 4.58\n",
      "Epoch 2/100 | Loss: 2.4240 | Top-1 Acc: 0.25% | Top-5 Acc: 0.67% | Mean Position: 5.52\n",
      "Epoch 3/100 | Loss: 2.2411 | Top-1 Acc: 0.32% | Top-5 Acc: 0.71% | Mean Position: 4.59\n",
      "Epoch 4/100 | Loss: 2.4950 | Top-1 Acc: 0.25% | Top-5 Acc: 0.70% | Mean Position: 5.29\n",
      "Epoch 5/100 | Loss: 2.1552 | Top-1 Acc: 0.29% | Top-5 Acc: 0.74% | Mean Position: 4.07\n",
      "Epoch 6/100 | Loss: 2.3687 | Top-1 Acc: 0.26% | Top-5 Acc: 0.72% | Mean Position: 4.43\n",
      "Epoch 7/100 | Loss: 2.2536 | Top-1 Acc: 0.25% | Top-5 Acc: 0.75% | Mean Position: 4.43\n",
      "Epoch 8/100 | Loss: 2.2127 | Top-1 Acc: 0.26% | Top-5 Acc: 0.72% | Mean Position: 4.24\n",
      "Epoch 9/100 | Loss: 2.2551 | Top-1 Acc: 0.34% | Top-5 Acc: 0.73% | Mean Position: 4.26\n",
      "Epoch 10/100 | Loss: 2.2854 | Top-1 Acc: 0.24% | Top-5 Acc: 0.64% | Mean Position: 4.98\n",
      "Epoch 11/100 | Loss: 2.2808 | Top-1 Acc: 0.27% | Top-5 Acc: 0.70% | Mean Position: 4.61\n",
      "Epoch 12/100 | Loss: 2.3337 | Top-1 Acc: 0.25% | Top-5 Acc: 0.64% | Mean Position: 5.05\n",
      "Epoch 13/100 | Loss: 2.1895 | Top-1 Acc: 0.29% | Top-5 Acc: 0.75% | Mean Position: 4.14\n",
      "Epoch 14/100 | Loss: 2.4620 | Top-1 Acc: 0.28% | Top-5 Acc: 0.64% | Mean Position: 4.99\n",
      "Epoch 15/100 | Loss: 1.9996 | Top-1 Acc: 0.32% | Top-5 Acc: 0.80% | Mean Position: 3.77\n",
      "Epoch 16/100 | Loss: 2.3011 | Top-1 Acc: 0.27% | Top-5 Acc: 0.64% | Mean Position: 4.98\n",
      "Epoch 17/100 | Loss: 2.3187 | Top-1 Acc: 0.30% | Top-5 Acc: 0.63% | Mean Position: 4.87\n",
      "Epoch 18/100 | Loss: 2.4166 | Top-1 Acc: 0.27% | Top-5 Acc: 0.68% | Mean Position: 5.03\n",
      "Epoch 19/100 | Loss: 2.1095 | Top-1 Acc: 0.30% | Top-5 Acc: 0.67% | Mean Position: 4.40\n",
      "Epoch 20/100 | Loss: 2.3634 | Top-1 Acc: 0.27% | Top-5 Acc: 0.71% | Mean Position: 4.85\n",
      "Epoch 21/100 | Loss: 2.4108 | Top-1 Acc: 0.25% | Top-5 Acc: 0.68% | Mean Position: 5.24\n",
      "Epoch 22/100 | Loss: 2.2077 | Top-1 Acc: 0.28% | Top-5 Acc: 0.71% | Mean Position: 4.72\n",
      "Epoch 23/100 | Loss: 2.5262 | Top-1 Acc: 0.25% | Top-5 Acc: 0.66% | Mean Position: 5.46\n",
      "Epoch 24/100 | Loss: 2.2085 | Top-1 Acc: 0.34% | Top-5 Acc: 0.71% | Mean Position: 4.88\n",
      "Epoch 25/100 | Loss: 2.1872 | Top-1 Acc: 0.24% | Top-5 Acc: 0.78% | Mean Position: 4.15\n",
      "Epoch 26/100 | Loss: 2.2934 | Top-1 Acc: 0.25% | Top-5 Acc: 0.68% | Mean Position: 4.87\n",
      "Epoch 27/100 | Loss: 2.2477 | Top-1 Acc: 0.35% | Top-5 Acc: 0.66% | Mean Position: 4.88\n",
      "Epoch 28/100 | Loss: 2.2284 | Top-1 Acc: 0.32% | Top-5 Acc: 0.73% | Mean Position: 4.49\n",
      "Epoch 29/100 | Loss: 2.2060 | Top-1 Acc: 0.26% | Top-5 Acc: 0.73% | Mean Position: 4.46\n",
      "Epoch 30/100 | Loss: 2.4008 | Top-1 Acc: 0.25% | Top-5 Acc: 0.66% | Mean Position: 4.59\n",
      "Epoch 31/100 | Loss: 2.3602 | Top-1 Acc: 0.32% | Top-5 Acc: 0.71% | Mean Position: 4.79\n",
      "Epoch 32/100 | Loss: 2.1655 | Top-1 Acc: 0.35% | Top-5 Acc: 0.76% | Mean Position: 4.33\n",
      "Epoch 33/100 | Loss: 2.2549 | Top-1 Acc: 0.31% | Top-5 Acc: 0.72% | Mean Position: 4.58\n",
      "Epoch 34/100 | Loss: 2.1188 | Top-1 Acc: 0.30% | Top-5 Acc: 0.75% | Mean Position: 4.42\n",
      "Epoch 35/100 | Loss: 2.2626 | Top-1 Acc: 0.28% | Top-5 Acc: 0.72% | Mean Position: 4.46\n",
      "Epoch 36/100 | Loss: 2.4180 | Top-1 Acc: 0.18% | Top-5 Acc: 0.66% | Mean Position: 5.12\n",
      "Epoch 37/100 | Loss: 2.4317 | Top-1 Acc: 0.26% | Top-5 Acc: 0.67% | Mean Position: 5.42\n",
      "Epoch 38/100 | Loss: 2.1636 | Top-1 Acc: 0.30% | Top-5 Acc: 0.70% | Mean Position: 4.68\n",
      "Epoch 39/100 | Loss: 2.2276 | Top-1 Acc: 0.28% | Top-5 Acc: 0.72% | Mean Position: 4.42\n",
      "Epoch 40/100 | Loss: 1.9739 | Top-1 Acc: 0.42% | Top-5 Acc: 0.78% | Mean Position: 3.67\n",
      "Epoch 41/100 | Loss: 2.2463 | Top-1 Acc: 0.28% | Top-5 Acc: 0.72% | Mean Position: 4.61\n",
      "Epoch 42/100 | Loss: 2.2807 | Top-1 Acc: 0.23% | Top-5 Acc: 0.70% | Mean Position: 4.98\n",
      "Epoch 43/100 | Loss: 2.2318 | Top-1 Acc: 0.30% | Top-5 Acc: 0.66% | Mean Position: 4.77\n",
      "Epoch 44/100 | Loss: 2.2207 | Top-1 Acc: 0.29% | Top-5 Acc: 0.68% | Mean Position: 4.51\n",
      "Epoch 45/100 | Loss: 2.3478 | Top-1 Acc: 0.21% | Top-5 Acc: 0.72% | Mean Position: 4.75\n",
      "Epoch 46/100 | Loss: 2.3412 | Top-1 Acc: 0.28% | Top-5 Acc: 0.64% | Mean Position: 5.14\n",
      "Epoch 47/100 | Loss: 2.0152 | Top-1 Acc: 0.35% | Top-5 Acc: 0.78% | Mean Position: 3.72\n",
      "Epoch 48/100 | Loss: 2.3873 | Top-1 Acc: 0.20% | Top-5 Acc: 0.66% | Mean Position: 4.80\n",
      "Epoch 49/100 | Loss: 2.1959 | Top-1 Acc: 0.27% | Top-5 Acc: 0.68% | Mean Position: 4.57\n",
      "Epoch 50/100 | Loss: 2.3681 | Top-1 Acc: 0.25% | Top-5 Acc: 0.67% | Mean Position: 4.96\n",
      "Epoch 51/100 | Loss: 2.2948 | Top-1 Acc: 0.29% | Top-5 Acc: 0.69% | Mean Position: 4.94\n",
      "Epoch 52/100 | Loss: 2.2553 | Top-1 Acc: 0.34% | Top-5 Acc: 0.70% | Mean Position: 4.40\n",
      "Epoch 53/100 | Loss: 2.2172 | Top-1 Acc: 0.35% | Top-5 Acc: 0.65% | Mean Position: 4.64\n",
      "Epoch 54/100 | Loss: 2.3402 | Top-1 Acc: 0.21% | Top-5 Acc: 0.68% | Mean Position: 5.35\n",
      "Epoch 55/100 | Loss: 2.3374 | Top-1 Acc: 0.28% | Top-5 Acc: 0.64% | Mean Position: 5.02\n",
      "Epoch 56/100 | Loss: 2.3315 | Top-1 Acc: 0.30% | Top-5 Acc: 0.67% | Mean Position: 4.88\n",
      "Epoch 57/100 | Loss: 2.1836 | Top-1 Acc: 0.31% | Top-5 Acc: 0.74% | Mean Position: 4.08\n",
      "Epoch 58/100 | Loss: 2.3387 | Top-1 Acc: 0.30% | Top-5 Acc: 0.72% | Mean Position: 4.81\n",
      "Epoch 59/100 | Loss: 2.1164 | Top-1 Acc: 0.35% | Top-5 Acc: 0.74% | Mean Position: 3.98\n",
      "Epoch 60/100 | Loss: 2.3072 | Top-1 Acc: 0.29% | Top-5 Acc: 0.67% | Mean Position: 4.82\n",
      "Epoch 61/100 | Loss: 2.3399 | Top-1 Acc: 0.33% | Top-5 Acc: 0.71% | Mean Position: 4.42\n",
      "Epoch 62/100 | Loss: 2.2096 | Top-1 Acc: 0.26% | Top-5 Acc: 0.70% | Mean Position: 4.74\n",
      "Epoch 63/100 | Loss: 2.1991 | Top-1 Acc: 0.30% | Top-5 Acc: 0.66% | Mean Position: 4.79\n",
      "Epoch 64/100 | Loss: 2.3861 | Top-1 Acc: 0.32% | Top-5 Acc: 0.71% | Mean Position: 5.13\n",
      "Epoch 65/100 | Loss: 2.2402 | Top-1 Acc: 0.32% | Top-5 Acc: 0.68% | Mean Position: 4.62\n",
      "Epoch 66/100 | Loss: 2.2658 | Top-1 Acc: 0.32% | Top-5 Acc: 0.70% | Mean Position: 4.64\n",
      "Epoch 67/100 | Loss: 2.1960 | Top-1 Acc: 0.35% | Top-5 Acc: 0.71% | Mean Position: 4.11\n",
      "Epoch 68/100 | Loss: 2.1006 | Top-1 Acc: 0.37% | Top-5 Acc: 0.72% | Mean Position: 4.39\n",
      "Epoch 69/100 | Loss: 2.2320 | Top-1 Acc: 0.33% | Top-5 Acc: 0.67% | Mean Position: 4.70\n",
      "Epoch 70/100 | Loss: 2.4304 | Top-1 Acc: 0.28% | Top-5 Acc: 0.67% | Mean Position: 5.11\n",
      "Epoch 71/100 | Loss: 2.0756 | Top-1 Acc: 0.24% | Top-5 Acc: 0.73% | Mean Position: 4.23\n",
      "Epoch 72/100 | Loss: 2.1983 | Top-1 Acc: 0.29% | Top-5 Acc: 0.72% | Mean Position: 4.31\n",
      "Epoch 73/100 | Loss: 2.3223 | Top-1 Acc: 0.22% | Top-5 Acc: 0.69% | Mean Position: 4.89\n",
      "Epoch 74/100 | Loss: 2.0633 | Top-1 Acc: 0.37% | Top-5 Acc: 0.76% | Mean Position: 3.97\n",
      "Epoch 75/100 | Loss: 2.2045 | Top-1 Acc: 0.28% | Top-5 Acc: 0.73% | Mean Position: 4.34\n",
      "Epoch 76/100 | Loss: 2.4299 | Top-1 Acc: 0.26% | Top-5 Acc: 0.68% | Mean Position: 4.76\n",
      "Epoch 77/100 | Loss: 2.2958 | Top-1 Acc: 0.29% | Top-5 Acc: 0.75% | Mean Position: 4.60\n",
      "Epoch 78/100 | Loss: 2.0485 | Top-1 Acc: 0.28% | Top-5 Acc: 0.81% | Mean Position: 3.64\n",
      "Epoch 79/100 | Loss: 2.4489 | Top-1 Acc: 0.24% | Top-5 Acc: 0.69% | Mean Position: 4.70\n",
      "Epoch 80/100 | Loss: 2.2457 | Top-1 Acc: 0.24% | Top-5 Acc: 0.76% | Mean Position: 4.26\n",
      "Epoch 81/100 | Loss: 2.1386 | Top-1 Acc: 0.33% | Top-5 Acc: 0.76% | Mean Position: 4.00\n",
      "Epoch 82/100 | Loss: 2.2443 | Top-1 Acc: 0.35% | Top-5 Acc: 0.70% | Mean Position: 4.37\n",
      "Epoch 83/100 | Loss: 2.1399 | Top-1 Acc: 0.31% | Top-5 Acc: 0.79% | Mean Position: 3.88\n",
      "Epoch 84/100 | Loss: 2.3139 | Top-1 Acc: 0.26% | Top-5 Acc: 0.66% | Mean Position: 5.07\n",
      "Epoch 85/100 | Loss: 2.3290 | Top-1 Acc: 0.35% | Top-5 Acc: 0.70% | Mean Position: 4.73\n",
      "Epoch 86/100 | Loss: 2.2382 | Top-1 Acc: 0.24% | Top-5 Acc: 0.69% | Mean Position: 4.53\n",
      "Epoch 87/100 | Loss: 2.1284 | Top-1 Acc: 0.30% | Top-5 Acc: 0.79% | Mean Position: 4.30\n",
      "Epoch 88/100 | Loss: 2.2601 | Top-1 Acc: 0.33% | Top-5 Acc: 0.67% | Mean Position: 4.82\n",
      "Epoch 89/100 | Loss: 2.1896 | Top-1 Acc: 0.32% | Top-5 Acc: 0.67% | Mean Position: 4.50\n",
      "Epoch 90/100 | Loss: 2.3625 | Top-1 Acc: 0.20% | Top-5 Acc: 0.73% | Mean Position: 4.53\n",
      "Epoch 91/100 | Loss: 2.0314 | Top-1 Acc: 0.27% | Top-5 Acc: 0.76% | Mean Position: 4.07\n",
      "Epoch 92/100 | Loss: 2.3161 | Top-1 Acc: 0.24% | Top-5 Acc: 0.72% | Mean Position: 4.53\n",
      "Epoch 93/100 | Loss: 2.2611 | Top-1 Acc: 0.30% | Top-5 Acc: 0.65% | Mean Position: 4.92\n",
      "Epoch 94/100 | Loss: 2.0697 | Top-1 Acc: 0.27% | Top-5 Acc: 0.72% | Mean Position: 4.23\n",
      "Epoch 95/100 | Loss: 2.3971 | Top-1 Acc: 0.27% | Top-5 Acc: 0.69% | Mean Position: 5.37\n",
      "Epoch 96/100 | Loss: 2.2140 | Top-1 Acc: 0.37% | Top-5 Acc: 0.70% | Mean Position: 4.45\n",
      "Epoch 97/100 | Loss: 1.9540 | Top-1 Acc: 0.31% | Top-5 Acc: 0.80% | Mean Position: 3.53\n",
      "Epoch 98/100 | Loss: 2.0866 | Top-1 Acc: 0.33% | Top-5 Acc: 0.75% | Mean Position: 4.01\n",
      "Epoch 99/100 | Loss: 2.0425 | Top-1 Acc: 0.39% | Top-5 Acc: 0.73% | Mean Position: 3.90\n",
      "Epoch 100/100 | Loss: 2.3274 | Top-1 Acc: 0.26% | Top-5 Acc: 0.67% | Mean Position: 4.72\n"
     ]
    },
    {
     "data": {
      "image/png": "[encoded data removed]",
      "text/plain": [
       "<Figure size 640x480 with 1 Axes>"
      ]
     },
     "metadata": {},
     "output_type": "display_data"
    },
    {
     "data": {
      "image/png": "[encoded data removed]",
      "text/plain": [
       "<Figure size 1200x400 with 2 Axes>"
      ]
     },
     "metadata": {},
     "output_type": "display_data"
    },
    {
     "data": {
      "image/png": "[encoded data removed]",
      "text/plain": [
       "<Figure size 600x400 with 1 Axes>"
      ]
     },
     "metadata": {},
     "output_type": "display_data"
    },
    {
     "data": {
      "image/png": "[encoded data removed]",
      "text/plain": [
       "<Figure size 600x400 with 1 Axes>"
      ]
     },
     "metadata": {},
     "output_type": "display_data"
    }
   ],
   "source": [
    "batch_size = 16\n",
    "size = 96\n",
    "\n",
    "image_dir = r\"../../tiff_experiment_unsupervised_data/combined\"\n",
    "dataset = ImageDataset(image_dir=image_dir,size=size)\n",
    "\n",
    "\n",
    "# Split the dataset with 20% for validation\n",
    "val_percentage = 0.2\n",
    "train_dataset, val_dataset = split_dataset(dataset, val_percentage)\n",
    "\n",
    "# Define DataLoaders\n",
    "train_loader = DataLoader(train_dataset, \n",
    "                          batch_size=batch_size, \n",
    "                          shuffle=True, \n",
    "                          drop_last=False, \n",
    "                          pin_memory=True, \n",
    "                          num_workers=0) #num_workers=os.cpu count() using cluster gpu\n",
    "val_loader = DataLoader(val_dataset, \n",
    "                        batch_size=batch_size, \n",
    "                        shuffle=False, \n",
    "                        drop_last=False, \n",
    "                        pin_memory=True, \n",
    "                        num_workers=0)\n",
    "\n",
    "for i, (image1, image2) in enumerate(train_loader):\n",
    "    print(f\"Batch {i}:\")\n",
    "    print(f\"  Image1: {image1.shape}\")\n",
    "    print(f\"  Image2: {image2.shape}\")\n",
    "    plt.imshow(image1[0,0])\n",
    "    break\n",
    "\n",
    "unet_encoder = UNetEncoder(model,image_size=96,in_channel=3,hidden_dim=128)\n",
    "#model = Resnet(size)\n",
    "#print(model)\n",
    "print(unet_encoder)\n",
    "print('training')\n",
    "unet_model, train_results = train(train_loader, unet_encoder, epochs=100, device='cuda')\n",
    "print('validating')\n",
    "unet_model, val_results = train(val_loader, unet_encoder, epochs=100, device='cuda', validate=True)\n",
    "\n",
    "train_losses, train_top1_accs, train_top5_accs, train_mean_pos = train_results\n",
    "val_losses, val_top1_accs, val_top5_accs, val_mean_pos = val_results\n",
    "\n",
    "plot_curves(train_losses, val_losses, train_top1_accs, val_top1_accs, train_top5_accs, val_top5_accs, train_mean_pos, val_mean_pos)"
   ]
  },
  {
   "cell_type": "markdown",
   "metadata": {},
   "source": [
    "### Logistic"
   ]
  },
  {
   "cell_type": "code",
   "execution_count": 11,
   "metadata": {},
   "outputs": [],
   "source": [
    "class LabeledImageDataset(Dataset):\n",
    "    def __init__(self, image_files, labels, transform=None):\n",
    "        self.image_files = image_files\n",
    "        self.labels = labels\n",
    "        self.transform = transform\n",
    "        self.resize_transform = transforms.Resize((96, 96))\n",
    "\n",
    "    def __len__(self):\n",
    "        return len(self.image_files)\n",
    "\n",
    "    def __getitem__(self, idx):\n",
    "        img_path = self.image_files[idx]\n",
    "        image = tiff.imread(img_path)\n",
    "\n",
    "        # Ensure the image has 3 layers (channels)\n",
    "        if image.shape[0] != 3:\n",
    "            raise ValueError(f\"Image {img_path} does not have exactly 3 layers.\")\n",
    "\n",
    "        # Normalize the 16-bit image to [0, 1]\n",
    "        image = image.astype(np.float32) / 65535.0\n",
    "\n",
    "        # Convert to a torch tensor and add channel dimension\n",
    "        image = torch.tensor(image, dtype=torch.float32)\n",
    "        \n",
    "        # Apply resize transform\n",
    "        image = self.resize_transform(image)\n",
    "\n",
    "        label = self.labels[idx]\n",
    "\n",
    "        return image, label\n",
    "\n",
    "def load_and_split_data(root_dir, test_size=0.2):\n",
    "    classes = ['untreated', 'single_dose', 'drug_screened']\n",
    "    image_files = []\n",
    "    labels = []\n",
    "\n",
    "    for idx, class_name in enumerate(classes):\n",
    "        class_dir = os.path.join(root_dir, class_name)\n",
    "        files = [os.path.join(class_dir, file) for file in os.listdir(class_dir) if file.endswith('.tiff')]\n",
    "        image_files.extend(files)\n",
    "        labels.extend([idx] * len(files))\n",
    "    \n",
    "    # Check if the labels correctly reflect the classes\n",
    "    #print(\"Label distribution:\", {classes[i]: labels.count(i) for i in range(len(classes))})\n",
    "    \n",
    "    # Split data into training and test sets\n",
    "    train_files, test_files, train_labels, test_labels = train_test_split(\n",
    "        image_files, labels, test_size=test_size, stratify=labels, random_state=42)\n",
    "\n",
    "    return train_files, test_files, train_labels, test_labels\n",
    "\n",
    "\n",
    "# Directories for labeled data\n",
    "image_dir = r\"../../Data_supervised\"\n",
    "\n",
    "# Load and split the data\n",
    "train_files, test_files, train_labels, test_labels = load_and_split_data(image_dir, test_size=0.2)\n",
    "\n",
    "# Create the labeled datasets\n",
    "train_labeled_dataset = LabeledImageDataset(train_files, train_labels)\n",
    "test_labeled_dataset = LabeledImageDataset(test_files, test_labels)\n",
    "\n",
    "# Define DataLoaders\n",
    "batch_size = 16\n",
    "train_loader_labeled = DataLoader(train_labeled_dataset, batch_size=batch_size, shuffle=True, drop_last=False, pin_memory=True, num_workers=0)\n",
    "test_loader_labeled = DataLoader(test_labeled_dataset, batch_size=batch_size, shuffle=False, drop_last=False, pin_memory=True, num_workers=0)"
   ]
  },
  {
   "cell_type": "code",
   "execution_count": 12,
   "metadata": {},
   "outputs": [
    {
     "name": "stdout",
     "output_type": "stream",
     "text": [
      "torch.Size([16, 3, 96, 96]) torch.Size([16]) torch.float32\n",
      "tensor([0, 0, 1, 0, 1, 1, 0, 0, 0, 0, 2, 1, 0, 1, 1, 0])\n"
     ]
    }
   ],
   "source": [
    "for anchor,label in train_loader_labeled:\n",
    "    print(anchor.shape, label.shape, anchor.dtype)\n",
    "    print(label)\n",
    "    break"
   ]
  },
  {
   "cell_type": "code",
   "execution_count": 13,
   "metadata": {},
   "outputs": [],
   "source": [
    "@torch.no_grad()\n",
    "def prepare_data_features(model, dataloader):\n",
    "    # Prepare model\n",
    "    network = deepcopy(model)\n",
    "    network.fc = nn.Identity()  # Removing projection head g(.)\n",
    "    network.eval()\n",
    "    network.to(device)\n",
    "\n",
    "    # Encode all images\n",
    "    feats, labels = [], []\n",
    "    for batch_imgs, batch_labels in tqdm(dataloader):\n",
    "        batch_imgs = batch_imgs.to(device)\n",
    "        batch_feats = network(batch_imgs)\n",
    "        print(f\"Batch features shape: {batch_feats.shape}\")\n",
    "        print(f\"Batch labels shape: {batch_labels.shape}\")\n",
    "        \n",
    "        feats.append(batch_feats.detach().cpu())\n",
    "        labels.append(batch_labels)\n",
    "\n",
    "    feats = torch.cat(feats, dim=0)\n",
    "    labels = torch.cat(labels, dim=0)\n",
    "    \n",
    "    print(f\"Features shape after concatenation: {feats.shape}\")\n",
    "    print(f\"Labels shape after concatenation: {labels.shape}\")\n",
    "\n",
    "    return torch.utils.data.TensorDataset(feats, labels)"
   ]
  },
  {
   "cell_type": "code",
   "execution_count": 14,
   "metadata": {},
   "outputs": [
    {
     "name": "stderr",
     "output_type": "stream",
     "text": [
      " 25%|██▌       | 1/4 [00:01<00:03,  1.01s/it]"
     ]
    },
    {
     "name": "stdout",
     "output_type": "stream",
     "text": [
      "Batch features shape: torch.Size([16, 18432])\n",
      "Batch labels shape: torch.Size([16])\n"
     ]
    },
    {
     "name": "stderr",
     "output_type": "stream",
     "text": [
      " 50%|█████     | 2/4 [00:02<00:02,  1.03s/it]"
     ]
    },
    {
     "name": "stdout",
     "output_type": "stream",
     "text": [
      "Batch features shape: torch.Size([16, 18432])\n",
      "Batch labels shape: torch.Size([16])\n"
     ]
    },
    {
     "name": "stderr",
     "output_type": "stream",
     "text": [
      " 75%|███████▌  | 3/4 [00:03<00:01,  1.02s/it]"
     ]
    },
    {
     "name": "stdout",
     "output_type": "stream",
     "text": [
      "Batch features shape: torch.Size([16, 18432])\n",
      "Batch labels shape: torch.Size([16])\n"
     ]
    },
    {
     "name": "stderr",
     "output_type": "stream",
     "text": [
      "100%|██████████| 4/4 [00:03<00:00,  1.10it/s]\n"
     ]
    },
    {
     "name": "stdout",
     "output_type": "stream",
     "text": [
      "Batch features shape: torch.Size([9, 18432])\n",
      "Batch labels shape: torch.Size([9])\n",
      "Features shape after concatenation: torch.Size([57, 18432])\n",
      "Labels shape after concatenation: torch.Size([57])\n"
     ]
    },
    {
     "name": "stderr",
     "output_type": "stream",
     "text": [
      "100%|██████████| 1/1 [00:00<00:00,  1.03it/s]"
     ]
    },
    {
     "name": "stdout",
     "output_type": "stream",
     "text": [
      "Batch features shape: torch.Size([15, 18432])\n",
      "Batch labels shape: torch.Size([15])\n",
      "Features shape after concatenation: torch.Size([15, 18432])\n",
      "Labels shape after concatenation: torch.Size([15])\n"
     ]
    },
    {
     "name": "stderr",
     "output_type": "stream",
     "text": [
      "\n"
     ]
    }
   ],
   "source": [
    "# Extract features for train and test datasets\n",
    "train_feats_unet = prepare_data_features(unet_model, train_loader_labeled)\n",
    "test_feats_unet = prepare_data_features(unet_model, test_loader_labeled)"
   ]
  },
  {
   "cell_type": "code",
   "execution_count": 15,
   "metadata": {},
   "outputs": [],
   "source": [
    "# Logistic Regression model definition\n",
    "class LogisticRegression(nn.Module):\n",
    "    def __init__(self, feature_dim, num_classes):\n",
    "        super(LogisticRegression, self).__init__()\n",
    "        self.linear = nn.Linear(feature_dim, num_classes)\n",
    "\n",
    "    def forward(self, x):\n",
    "        return self.linear(x)"
   ]
  },
  {
   "cell_type": "code",
   "execution_count": 16,
   "metadata": {},
   "outputs": [],
   "source": [
    "# Training function\n",
    "def train_logistic_regression(model, train_loader, optimizer, scheduler, device):\n",
    "    model.train()\n",
    "    total_loss = 0.0\n",
    "    all_preds = []\n",
    "    all_labels = []\n",
    "\n",
    "    for batch_feats, batch_labels in tqdm(train_loader, desc=\"Training\"):\n",
    "        batch_feats, batch_labels = batch_feats.to(device), batch_labels.to(device)\n",
    "        \n",
    "        optimizer.zero_grad()\n",
    "        outputs = model(batch_feats)\n",
    "        loss = nn.functional.cross_entropy(outputs, batch_labels)\n",
    "        loss.backward()\n",
    "        optimizer.step()\n",
    "        \n",
    "        # Update learning rate scheduler\n",
    "        scheduler.step()\n",
    "\n",
    "        total_loss += loss.item()\n",
    "\n",
    "        preds = outputs.argmax(dim=1)\n",
    "        all_preds.extend(preds.cpu().numpy())\n",
    "        all_labels.extend(batch_labels.cpu().numpy())\n",
    "\n",
    "    avg_loss = total_loss / len(train_loader)\n",
    "    accuracy = accuracy_score(all_labels, all_preds)\n",
    "    return avg_loss, accuracy"
   ]
  },
  {
   "cell_type": "code",
   "execution_count": 17,
   "metadata": {},
   "outputs": [],
   "source": [
    "# Evaluation function\n",
    "def evaluate_logistic_regression(model, test_loader, criterion, device):\n",
    "    model.eval()\n",
    "    total_loss = 0.0\n",
    "    all_preds = []\n",
    "    all_labels = []\n",
    "\n",
    "    with torch.no_grad():\n",
    "        for batch_feats, batch_labels in tqdm(test_loader, desc=\"Evaluating\"):\n",
    "            batch_feats, batch_labels = batch_feats.to(device), batch_labels.to(device)\n",
    "            \n",
    "            outputs = model(batch_feats)\n",
    "            loss = nn.functional.cross_entropy(outputs, batch_labels)\n",
    "            total_loss += loss.item()\n",
    "\n",
    "            preds = outputs.argmax(dim=1)\n",
    "            all_preds.extend(preds.cpu().numpy())\n",
    "            all_labels.extend(batch_labels.cpu().numpy())\n",
    "\n",
    "    avg_loss = total_loss / len(test_loader)\n",
    "    accuracy = accuracy_score(all_labels, all_preds)\n",
    "    return avg_loss, accuracy"
   ]
  },
  {
   "cell_type": "code",
   "execution_count": 18,
   "metadata": {},
   "outputs": [],
   "source": [
    "# Main training loop\n",
    "def train_logreg_simplified(batch_size, train_feats_data, test_feats_data, feature_dim, num_classes, lr=5e-4, weight_decay=1e-4, max_epochs=50):\n",
    "    device = torch.device(\"cuda\" if torch.cuda.is_available() else \"cpu\")\n",
    "\n",
    "    # Data loaders\n",
    "    train_loader = DataLoader(train_feats_data, batch_size=batch_size, shuffle=True,\n",
    "                                   drop_last=False, pin_memory=True, num_workers=0) #num_workers =os.cpu_count()\n",
    "    test_loader = DataLoader(test_feats_data, batch_size=batch_size, shuffle=False,\n",
    "                                  drop_last=False, pin_memory=True, num_workers=0)\n",
    "\n",
    "    # Model, loss, and optimizer\n",
    "    model = LogisticRegression(feature_dim, num_classes).to(device)\n",
    "    criterion = nn.CrossEntropyLoss()\n",
    "    optimizer = optim.AdamW(model.parameters(), lr=lr, weight_decay=weight_decay)\n",
    "    scheduler = optim.lr_scheduler.MultiStepLR(optimizer,\n",
    "                                               milestones=[int(max_epochs * 0.6), int(max_epochs * 0.8)],\n",
    "                                               gamma=0.1)\n",
    "\n",
    "    # Store metrics for plotting\n",
    "    train_losses = []\n",
    "    test_losses = []\n",
    "    train_accuracies = []\n",
    "    test_accuracies = []\n",
    "\n",
    "    best_test_acc = 0.0\n",
    "    for epoch in range(max_epochs):\n",
    "        print(f\"Epoch {epoch+1}/{max_epochs}\")\n",
    "\n",
    "        train_loss, train_acc = train_logistic_regression(model, train_loader, optimizer, scheduler, device)\n",
    "        test_loss, test_acc = evaluate_logistic_regression(model, test_loader, criterion, device)\n",
    "        \n",
    "        print(f\"Training loss: {train_loss:.4f}, Training accuracy: {train_acc:.4f}\")\n",
    "        print(f\"Test loss: {test_loss:.4f}, Test accuracy: {test_acc:.4f}\")\n",
    "\n",
    "        train_losses.append(train_loss)\n",
    "        test_losses.append(test_loss)\n",
    "        train_accuracies.append(train_acc)\n",
    "        test_accuracies.append(test_acc)\n",
    "\n",
    "        if test_acc > best_test_acc:\n",
    "            best_test_acc = test_acc\n",
    "            best_model_state = model.state_dict()\n",
    "\n",
    "    # Load best model state\n",
    "    model.load_state_dict(best_model_state)\n",
    "\n",
    "    # Plot results\n",
    "    plt.figure(figsize=(15, 5))\n",
    "\n",
    "    # Loss curve\n",
    "    plt.subplot(1, 2, 1)\n",
    "    plt.plot(range(max_epochs), train_losses, label='Train Loss')\n",
    "    plt.plot(range(max_epochs), test_losses, label='Test Loss')\n",
    "    plt.xlabel('Epoch')\n",
    "    plt.ylabel('Loss')\n",
    "    plt.title('Loss Curve')\n",
    "    plt.legend()\n",
    "\n",
    "    # Accuracy curve\n",
    "    plt.subplot(1, 2, 2)\n",
    "    plt.plot(range(max_epochs), train_accuracies, label='Train Accuracy')\n",
    "    plt.plot(range(max_epochs), test_accuracies, label='Test Accuracy')\n",
    "    plt.xlabel('Epoch')\n",
    "    plt.ylabel('Accuracy')\n",
    "    plt.title('Accuracy Curve')\n",
    "    plt.legend()\n",
    "\n",
    "    plt.tight_layout()\n",
    "    plt.show()\n",
    "\n",
    "    return model, {\"train_acc\": train_acc, \"test_acc\": test_acc}"
   ]
  },
  {
   "cell_type": "code",
   "execution_count": 19,
   "metadata": {},
   "outputs": [
    {
     "name": "stdout",
     "output_type": "stream",
     "text": [
      "Epoch 1/50\n"
     ]
    },
    {
     "name": "stderr",
     "output_type": "stream",
     "text": [
      "Training: 100%|██████████| 8/8 [00:00<00:00, 84.63it/s]\n",
      "Evaluating: 100%|██████████| 2/2 [00:00<00:00, 1100.29it/s]\n"
     ]
    },
    {
     "name": "stdout",
     "output_type": "stream",
     "text": [
      "Training loss: 0.6280, Training accuracy: 0.7193\n",
      "Test loss: 0.0082, Test accuracy: 1.0000\n",
      "Epoch 2/50\n"
     ]
    },
    {
     "name": "stderr",
     "output_type": "stream",
     "text": [
      "Training: 100%|██████████| 8/8 [00:00<00:00, 97.44it/s]\n",
      "Evaluating: 100%|██████████| 2/2 [00:00<00:00, 75.04it/s]\n"
     ]
    },
    {
     "name": "stdout",
     "output_type": "stream",
     "text": [
      "Training loss: 0.0882, Training accuracy: 0.9649\n",
      "Test loss: 0.0018, Test accuracy: 1.0000\n",
      "Epoch 3/50\n"
     ]
    },
    {
     "name": "stderr",
     "output_type": "stream",
     "text": [
      "Training: 100%|██████████| 8/8 [00:00<00:00, 90.66it/s]\n",
      "Evaluating: 100%|██████████| 2/2 [00:00<?, ?it/s]\n"
     ]
    },
    {
     "name": "stdout",
     "output_type": "stream",
     "text": [
      "Training loss: 0.0054, Training accuracy: 1.0000\n",
      "Test loss: 0.0015, Test accuracy: 1.0000\n",
      "Epoch 4/50\n"
     ]
    },
    {
     "name": "stderr",
     "output_type": "stream",
     "text": [
      "Training: 100%|██████████| 8/8 [00:00<00:00, 154.99it/s]\n",
      "Evaluating: 100%|██████████| 2/2 [00:00<00:00, 118.45it/s]\n"
     ]
    },
    {
     "name": "stdout",
     "output_type": "stream",
     "text": [
      "Training loss: 0.0033, Training accuracy: 1.0000\n",
      "Test loss: 0.0012, Test accuracy: 1.0000\n",
      "Epoch 5/50\n"
     ]
    },
    {
     "name": "stderr",
     "output_type": "stream",
     "text": [
      "Training: 100%|██████████| 8/8 [00:00<00:00, 162.14it/s]\n",
      "Evaluating: 100%|██████████| 2/2 [00:00<00:00, 115.67it/s]\n"
     ]
    },
    {
     "name": "stdout",
     "output_type": "stream",
     "text": [
      "Training loss: 0.0030, Training accuracy: 1.0000\n",
      "Test loss: 0.0011, Test accuracy: 1.0000\n",
      "Epoch 6/50\n"
     ]
    },
    {
     "name": "stderr",
     "output_type": "stream",
     "text": [
      "Training: 100%|██████████| 8/8 [00:00<00:00, 161.18it/s]\n",
      "Evaluating: 100%|██████████| 2/2 [00:00<00:00, 116.87it/s]\n"
     ]
    },
    {
     "name": "stdout",
     "output_type": "stream",
     "text": [
      "Training loss: 0.0032, Training accuracy: 1.0000\n",
      "Test loss: 0.0011, Test accuracy: 1.0000\n",
      "Epoch 7/50\n"
     ]
    },
    {
     "name": "stderr",
     "output_type": "stream",
     "text": [
      "Training: 100%|██████████| 8/8 [00:00<00:00, 122.00it/s]\n",
      "Evaluating: 100%|██████████| 2/2 [00:00<?, ?it/s]\n"
     ]
    },
    {
     "name": "stdout",
     "output_type": "stream",
     "text": [
      "Training loss: 0.0034, Training accuracy: 1.0000\n",
      "Test loss: 0.0011, Test accuracy: 1.0000\n",
      "Epoch 8/50\n"
     ]
    },
    {
     "name": "stderr",
     "output_type": "stream",
     "text": [
      "Training: 100%|██████████| 8/8 [00:00<00:00, 118.80it/s]\n",
      "Evaluating: 100%|██████████| 2/2 [00:00<?, ?it/s]\n"
     ]
    },
    {
     "name": "stdout",
     "output_type": "stream",
     "text": [
      "Training loss: 0.0029, Training accuracy: 1.0000\n",
      "Test loss: 0.0011, Test accuracy: 1.0000\n",
      "Epoch 9/50\n"
     ]
    },
    {
     "name": "stderr",
     "output_type": "stream",
     "text": [
      "Training: 100%|██████████| 8/8 [00:00<00:00, 160.40it/s]\n",
      "Evaluating: 100%|██████████| 2/2 [00:00<00:00, 119.49it/s]\n"
     ]
    },
    {
     "name": "stdout",
     "output_type": "stream",
     "text": [
      "Training loss: 0.0028, Training accuracy: 1.0000\n",
      "Test loss: 0.0011, Test accuracy: 1.0000\n",
      "Epoch 10/50\n"
     ]
    },
    {
     "name": "stderr",
     "output_type": "stream",
     "text": [
      "Training: 100%|██████████| 8/8 [00:00<00:00, 160.16it/s]\n",
      "Evaluating: 100%|██████████| 2/2 [00:00<00:00, 120.07it/s]\n"
     ]
    },
    {
     "name": "stdout",
     "output_type": "stream",
     "text": [
      "Training loss: 0.0028, Training accuracy: 1.0000\n",
      "Test loss: 0.0011, Test accuracy: 1.0000\n",
      "Epoch 11/50\n"
     ]
    },
    {
     "name": "stderr",
     "output_type": "stream",
     "text": [
      "Training: 100%|██████████| 8/8 [00:00<00:00, 161.57it/s]\n",
      "Evaluating: 100%|██████████| 2/2 [00:00<00:00, 1044.79it/s]\n"
     ]
    },
    {
     "name": "stdout",
     "output_type": "stream",
     "text": [
      "Training loss: 0.0028, Training accuracy: 1.0000\n",
      "Test loss: 0.0011, Test accuracy: 1.0000\n",
      "Epoch 12/50\n"
     ]
    },
    {
     "name": "stderr",
     "output_type": "stream",
     "text": [
      "Training: 100%|██████████| 8/8 [00:00<00:00, 120.64it/s]\n",
      "Evaluating: 100%|██████████| 2/2 [00:00<00:00, 116.68it/s]\n"
     ]
    },
    {
     "name": "stdout",
     "output_type": "stream",
     "text": [
      "Training loss: 0.0027, Training accuracy: 1.0000\n",
      "Test loss: 0.0011, Test accuracy: 1.0000\n",
      "Epoch 13/50\n"
     ]
    },
    {
     "name": "stderr",
     "output_type": "stream",
     "text": [
      "Training: 100%|██████████| 8/8 [00:00<00:00, 161.43it/s]\n",
      "Evaluating: 100%|██████████| 2/2 [00:00<?, ?it/s]\n"
     ]
    },
    {
     "name": "stdout",
     "output_type": "stream",
     "text": [
      "Training loss: 0.0027, Training accuracy: 1.0000\n",
      "Test loss: 0.0011, Test accuracy: 1.0000\n",
      "Epoch 14/50\n"
     ]
    },
    {
     "name": "stderr",
     "output_type": "stream",
     "text": [
      "Training: 100%|██████████| 8/8 [00:00<00:00, 95.98it/s]\n",
      "Evaluating: 100%|██████████| 2/2 [00:00<?, ?it/s]\n"
     ]
    },
    {
     "name": "stdout",
     "output_type": "stream",
     "text": [
      "Training loss: 0.0028, Training accuracy: 1.0000\n",
      "Test loss: 0.0010, Test accuracy: 1.0000\n",
      "Epoch 15/50\n"
     ]
    },
    {
     "name": "stderr",
     "output_type": "stream",
     "text": [
      "Training: 100%|██████████| 8/8 [00:00<00:00, 154.25it/s]\n",
      "Evaluating: 100%|██████████| 2/2 [00:00<00:00, 135.94it/s]\n"
     ]
    },
    {
     "name": "stdout",
     "output_type": "stream",
     "text": [
      "Training loss: 0.0029, Training accuracy: 1.0000\n",
      "Test loss: 0.0010, Test accuracy: 1.0000\n",
      "Epoch 16/50\n"
     ]
    },
    {
     "name": "stderr",
     "output_type": "stream",
     "text": [
      "Training: 100%|██████████| 8/8 [00:00<00:00, 118.96it/s]\n",
      "Evaluating: 100%|██████████| 2/2 [00:00<00:00, 122.04it/s]\n"
     ]
    },
    {
     "name": "stdout",
     "output_type": "stream",
     "text": [
      "Training loss: 0.0026, Training accuracy: 1.0000\n",
      "Test loss: 0.0010, Test accuracy: 1.0000\n",
      "Epoch 17/50\n"
     ]
    },
    {
     "name": "stderr",
     "output_type": "stream",
     "text": [
      "Training: 100%|██████████| 8/8 [00:00<00:00, 113.21it/s]\n",
      "Evaluating: 100%|██████████| 2/2 [00:00<00:00, 124.45it/s]\n"
     ]
    },
    {
     "name": "stdout",
     "output_type": "stream",
     "text": [
      "Training loss: 0.0026, Training accuracy: 1.0000\n",
      "Test loss: 0.0010, Test accuracy: 1.0000\n",
      "Epoch 18/50\n"
     ]
    },
    {
     "name": "stderr",
     "output_type": "stream",
     "text": [
      "Training: 100%|██████████| 8/8 [00:00<00:00, 176.12it/s]\n",
      "Evaluating: 100%|██████████| 2/2 [00:00<00:00, 112.54it/s]\n"
     ]
    },
    {
     "name": "stdout",
     "output_type": "stream",
     "text": [
      "Training loss: 0.0025, Training accuracy: 1.0000\n",
      "Test loss: 0.0010, Test accuracy: 1.0000\n",
      "Epoch 19/50\n"
     ]
    },
    {
     "name": "stderr",
     "output_type": "stream",
     "text": [
      "Training: 100%|██████████| 8/8 [00:00<00:00, 164.29it/s]\n",
      "Evaluating: 100%|██████████| 2/2 [00:00<00:00, 115.89it/s]\n"
     ]
    },
    {
     "name": "stdout",
     "output_type": "stream",
     "text": [
      "Training loss: 0.0027, Training accuracy: 1.0000\n",
      "Test loss: 0.0010, Test accuracy: 1.0000\n",
      "Epoch 20/50\n"
     ]
    },
    {
     "name": "stderr",
     "output_type": "stream",
     "text": [
      "Training: 100%|██████████| 8/8 [00:00<00:00, 121.31it/s]\n",
      "Evaluating: 100%|██████████| 2/2 [00:00<00:00, 127.92it/s]\n"
     ]
    },
    {
     "name": "stdout",
     "output_type": "stream",
     "text": [
      "Training loss: 0.0025, Training accuracy: 1.0000\n",
      "Test loss: 0.0010, Test accuracy: 1.0000\n",
      "Epoch 21/50\n"
     ]
    },
    {
     "name": "stderr",
     "output_type": "stream",
     "text": [
      "Training: 100%|██████████| 8/8 [00:00<00:00, 161.28it/s]\n",
      "Evaluating: 100%|██████████| 2/2 [00:00<?, ?it/s]\n"
     ]
    },
    {
     "name": "stdout",
     "output_type": "stream",
     "text": [
      "Training loss: 0.0024, Training accuracy: 1.0000\n",
      "Test loss: 0.0009, Test accuracy: 1.0000\n",
      "Epoch 22/50\n"
     ]
    },
    {
     "name": "stderr",
     "output_type": "stream",
     "text": [
      "Training: 100%|██████████| 8/8 [00:00<00:00, 119.39it/s]\n",
      "Evaluating: 100%|██████████| 2/2 [00:00<00:00, 121.27it/s]\n"
     ]
    },
    {
     "name": "stdout",
     "output_type": "stream",
     "text": [
      "Training loss: 0.0024, Training accuracy: 1.0000\n",
      "Test loss: 0.0009, Test accuracy: 1.0000\n",
      "Epoch 23/50\n"
     ]
    },
    {
     "name": "stderr",
     "output_type": "stream",
     "text": [
      "Training: 100%|██████████| 8/8 [00:00<00:00, 120.26it/s]\n",
      "Evaluating: 100%|██████████| 2/2 [00:00<00:00, 127.24it/s]\n"
     ]
    },
    {
     "name": "stdout",
     "output_type": "stream",
     "text": [
      "Training loss: 0.0024, Training accuracy: 1.0000\n",
      "Test loss: 0.0009, Test accuracy: 1.0000\n",
      "Epoch 24/50\n"
     ]
    },
    {
     "name": "stderr",
     "output_type": "stream",
     "text": [
      "Training: 100%|██████████| 8/8 [00:00<00:00, 162.88it/s]\n",
      "Evaluating: 100%|██████████| 2/2 [00:00<?, ?it/s]\n"
     ]
    },
    {
     "name": "stdout",
     "output_type": "stream",
     "text": [
      "Training loss: 0.0024, Training accuracy: 1.0000\n",
      "Test loss: 0.0009, Test accuracy: 1.0000\n",
      "Epoch 25/50\n"
     ]
    },
    {
     "name": "stderr",
     "output_type": "stream",
     "text": [
      "Training: 100%|██████████| 8/8 [00:00<00:00, 119.13it/s]\n",
      "Evaluating: 100%|██████████| 2/2 [00:00<?, ?it/s]\n"
     ]
    },
    {
     "name": "stdout",
     "output_type": "stream",
     "text": [
      "Training loss: 0.0025, Training accuracy: 1.0000\n",
      "Test loss: 0.0009, Test accuracy: 1.0000\n",
      "Epoch 26/50\n"
     ]
    },
    {
     "name": "stderr",
     "output_type": "stream",
     "text": [
      "Training: 100%|██████████| 8/8 [00:00<00:00, 159.04it/s]\n",
      "Evaluating: 100%|██████████| 2/2 [00:00<00:00, 118.43it/s]\n"
     ]
    },
    {
     "name": "stdout",
     "output_type": "stream",
     "text": [
      "Training loss: 0.0033, Training accuracy: 1.0000\n",
      "Test loss: 0.0009, Test accuracy: 1.0000\n",
      "Epoch 27/50\n"
     ]
    },
    {
     "name": "stderr",
     "output_type": "stream",
     "text": [
      "Training: 100%|██████████| 8/8 [00:00<00:00, 121.32it/s]\n",
      "Evaluating: 100%|██████████| 2/2 [00:00<00:00, 117.11it/s]\n"
     ]
    },
    {
     "name": "stdout",
     "output_type": "stream",
     "text": [
      "Training loss: 0.0022, Training accuracy: 1.0000\n",
      "Test loss: 0.0009, Test accuracy: 1.0000\n",
      "Epoch 28/50\n"
     ]
    },
    {
     "name": "stderr",
     "output_type": "stream",
     "text": [
      "Training: 100%|██████████| 8/8 [00:00<00:00, 161.27it/s]\n",
      "Evaluating: 100%|██████████| 2/2 [00:00<00:00, 117.15it/s]\n"
     ]
    },
    {
     "name": "stdout",
     "output_type": "stream",
     "text": [
      "Training loss: 0.0022, Training accuracy: 1.0000\n",
      "Test loss: 0.0008, Test accuracy: 1.0000\n",
      "Epoch 29/50\n"
     ]
    },
    {
     "name": "stderr",
     "output_type": "stream",
     "text": [
      "Training: 100%|██████████| 8/8 [00:00<00:00, 158.23it/s]\n",
      "Evaluating: 100%|██████████| 2/2 [00:00<00:00, 121.20it/s]\n"
     ]
    },
    {
     "name": "stdout",
     "output_type": "stream",
     "text": [
      "Training loss: 0.0022, Training accuracy: 1.0000\n",
      "Test loss: 0.0008, Test accuracy: 1.0000\n",
      "Epoch 30/50\n"
     ]
    },
    {
     "name": "stderr",
     "output_type": "stream",
     "text": [
      "Training: 100%|██████████| 8/8 [00:00<00:00, 159.83it/s]\n",
      "Evaluating: 100%|██████████| 2/2 [00:00<00:00, 120.89it/s]\n"
     ]
    },
    {
     "name": "stdout",
     "output_type": "stream",
     "text": [
      "Training loss: 0.0022, Training accuracy: 1.0000\n",
      "Test loss: 0.0008, Test accuracy: 1.0000\n",
      "Epoch 31/50\n"
     ]
    },
    {
     "name": "stderr",
     "output_type": "stream",
     "text": [
      "Training: 100%|██████████| 8/8 [00:00<00:00, 159.77it/s]\n",
      "Evaluating: 100%|██████████| 2/2 [00:00<00:00, 120.15it/s]\n"
     ]
    },
    {
     "name": "stdout",
     "output_type": "stream",
     "text": [
      "Training loss: 0.0022, Training accuracy: 1.0000\n",
      "Test loss: 0.0008, Test accuracy: 1.0000\n",
      "Epoch 32/50\n"
     ]
    },
    {
     "name": "stderr",
     "output_type": "stream",
     "text": [
      "Training: 100%|██████████| 8/8 [00:00<00:00, 161.92it/s]\n",
      "Evaluating: 100%|██████████| 2/2 [00:00<00:00, 117.25it/s]\n"
     ]
    },
    {
     "name": "stdout",
     "output_type": "stream",
     "text": [
      "Training loss: 0.0021, Training accuracy: 1.0000\n",
      "Test loss: 0.0008, Test accuracy: 1.0000\n",
      "Epoch 33/50\n"
     ]
    },
    {
     "name": "stderr",
     "output_type": "stream",
     "text": [
      "Training: 100%|██████████| 8/8 [00:00<00:00, 156.15it/s]\n",
      "Evaluating: 100%|██████████| 2/2 [00:00<00:00, 119.62it/s]\n"
     ]
    },
    {
     "name": "stdout",
     "output_type": "stream",
     "text": [
      "Training loss: 0.0021, Training accuracy: 1.0000\n",
      "Test loss: 0.0008, Test accuracy: 1.0000\n",
      "Epoch 34/50\n"
     ]
    },
    {
     "name": "stderr",
     "output_type": "stream",
     "text": [
      "Training: 100%|██████████| 8/8 [00:00<00:00, 161.16it/s]\n",
      "Evaluating: 100%|██████████| 2/2 [00:00<?, ?it/s]\n"
     ]
    },
    {
     "name": "stdout",
     "output_type": "stream",
     "text": [
      "Training loss: 0.0021, Training accuracy: 1.0000\n",
      "Test loss: 0.0008, Test accuracy: 1.0000\n",
      "Epoch 35/50\n"
     ]
    },
    {
     "name": "stderr",
     "output_type": "stream",
     "text": [
      "Training: 100%|██████████| 8/8 [00:00<00:00, 119.44it/s]\n",
      "Evaluating: 100%|██████████| 2/2 [00:00<00:00, 127.17it/s]\n"
     ]
    },
    {
     "name": "stdout",
     "output_type": "stream",
     "text": [
      "Training loss: 0.0023, Training accuracy: 1.0000\n",
      "Test loss: 0.0008, Test accuracy: 1.0000\n",
      "Epoch 36/50\n"
     ]
    },
    {
     "name": "stderr",
     "output_type": "stream",
     "text": [
      "Training: 100%|██████████| 8/8 [00:00<00:00, 161.39it/s]\n",
      "Evaluating: 100%|██████████| 2/2 [00:00<00:00, 116.72it/s]\n"
     ]
    },
    {
     "name": "stdout",
     "output_type": "stream",
     "text": [
      "Training loss: 0.0071, Training accuracy: 1.0000\n",
      "Test loss: 0.0008, Test accuracy: 1.0000\n",
      "Epoch 37/50\n"
     ]
    },
    {
     "name": "stderr",
     "output_type": "stream",
     "text": [
      "Training: 100%|██████████| 8/8 [00:00<00:00, 160.95it/s]\n",
      "Evaluating: 100%|██████████| 2/2 [00:00<00:00, 121.72it/s]\n"
     ]
    },
    {
     "name": "stdout",
     "output_type": "stream",
     "text": [
      "Training loss: 0.0019, Training accuracy: 1.0000\n",
      "Test loss: 0.0007, Test accuracy: 1.0000\n",
      "Epoch 38/50\n"
     ]
    },
    {
     "name": "stderr",
     "output_type": "stream",
     "text": [
      "Training: 100%|██████████| 8/8 [00:00<00:00, 157.67it/s]\n",
      "Evaluating: 100%|██████████| 2/2 [00:00<00:00, 4228.13it/s]\n"
     ]
    },
    {
     "name": "stdout",
     "output_type": "stream",
     "text": [
      "Training loss: 0.0018, Training accuracy: 1.0000\n",
      "Test loss: 0.0007, Test accuracy: 1.0000\n",
      "Epoch 39/50\n"
     ]
    },
    {
     "name": "stderr",
     "output_type": "stream",
     "text": [
      "Training: 100%|██████████| 8/8 [00:00<00:00, 155.61it/s]\n",
      "Evaluating: 100%|██████████| 2/2 [00:00<?, ?it/s]\n"
     ]
    },
    {
     "name": "stdout",
     "output_type": "stream",
     "text": [
      "Training loss: 0.0021, Training accuracy: 1.0000\n",
      "Test loss: 0.0007, Test accuracy: 1.0000\n",
      "Epoch 40/50\n"
     ]
    },
    {
     "name": "stderr",
     "output_type": "stream",
     "text": [
      "Training: 100%|██████████| 8/8 [00:00<00:00, 120.79it/s]\n",
      "Evaluating: 100%|██████████| 2/2 [00:00<00:00, 119.86it/s]\n"
     ]
    },
    {
     "name": "stdout",
     "output_type": "stream",
     "text": [
      "Training loss: 0.0018, Training accuracy: 1.0000\n",
      "Test loss: 0.0007, Test accuracy: 1.0000\n",
      "Epoch 41/50\n"
     ]
    },
    {
     "name": "stderr",
     "output_type": "stream",
     "text": [
      "Training: 100%|██████████| 8/8 [00:00<00:00, 119.36it/s]\n",
      "Evaluating: 100%|██████████| 2/2 [00:00<00:00, 118.74it/s]\n"
     ]
    },
    {
     "name": "stdout",
     "output_type": "stream",
     "text": [
      "Training loss: 0.0019, Training accuracy: 1.0000\n",
      "Test loss: 0.0007, Test accuracy: 1.0000\n",
      "Epoch 42/50\n"
     ]
    },
    {
     "name": "stderr",
     "output_type": "stream",
     "text": [
      "Training: 100%|██████████| 8/8 [00:00<00:00, 119.64it/s]\n",
      "Evaluating: 100%|██████████| 2/2 [00:00<00:00, 124.62it/s]\n"
     ]
    },
    {
     "name": "stdout",
     "output_type": "stream",
     "text": [
      "Training loss: 0.0017, Training accuracy: 1.0000\n",
      "Test loss: 0.0007, Test accuracy: 1.0000\n",
      "Epoch 43/50\n"
     ]
    },
    {
     "name": "stderr",
     "output_type": "stream",
     "text": [
      "Training: 100%|██████████| 8/8 [00:00<00:00, 158.89it/s]\n",
      "Evaluating: 100%|██████████| 2/2 [00:00<?, ?it/s]\n"
     ]
    },
    {
     "name": "stdout",
     "output_type": "stream",
     "text": [
      "Training loss: 0.0017, Training accuracy: 1.0000\n",
      "Test loss: 0.0007, Test accuracy: 1.0000\n",
      "Epoch 44/50\n"
     ]
    },
    {
     "name": "stderr",
     "output_type": "stream",
     "text": [
      "Training: 100%|██████████| 8/8 [00:00<00:00, 159.22it/s]\n",
      "Evaluating: 100%|██████████| 2/2 [00:00<00:00, 117.83it/s]\n"
     ]
    },
    {
     "name": "stdout",
     "output_type": "stream",
     "text": [
      "Training loss: 0.0018, Training accuracy: 1.0000\n",
      "Test loss: 0.0006, Test accuracy: 1.0000\n",
      "Epoch 45/50\n"
     ]
    },
    {
     "name": "stderr",
     "output_type": "stream",
     "text": [
      "Training: 100%|██████████| 8/8 [00:00<00:00, 158.68it/s]\n",
      "Evaluating: 100%|██████████| 2/2 [00:00<00:00, 120.58it/s]\n"
     ]
    },
    {
     "name": "stdout",
     "output_type": "stream",
     "text": [
      "Training loss: 0.0025, Training accuracy: 1.0000\n",
      "Test loss: 0.0006, Test accuracy: 1.0000\n",
      "Epoch 46/50\n"
     ]
    },
    {
     "name": "stderr",
     "output_type": "stream",
     "text": [
      "Training: 100%|██████████| 8/8 [00:00<00:00, 158.44it/s]\n",
      "Evaluating: 100%|██████████| 2/2 [00:00<00:00, 126.46it/s]\n"
     ]
    },
    {
     "name": "stdout",
     "output_type": "stream",
     "text": [
      "Training loss: 0.0017, Training accuracy: 1.0000\n",
      "Test loss: 0.0006, Test accuracy: 1.0000\n",
      "Epoch 47/50\n"
     ]
    },
    {
     "name": "stderr",
     "output_type": "stream",
     "text": [
      "Training: 100%|██████████| 8/8 [00:00<00:00, 120.58it/s]\n",
      "Evaluating: 100%|██████████| 2/2 [00:00<00:00, 127.21it/s]\n"
     ]
    },
    {
     "name": "stdout",
     "output_type": "stream",
     "text": [
      "Training loss: 0.0017, Training accuracy: 1.0000\n",
      "Test loss: 0.0006, Test accuracy: 1.0000\n",
      "Epoch 48/50\n"
     ]
    },
    {
     "name": "stderr",
     "output_type": "stream",
     "text": [
      "Training: 100%|██████████| 8/8 [00:00<00:00, 157.33it/s]\n",
      "Evaluating: 100%|██████████| 2/2 [00:00<00:00, 124.72it/s]\n"
     ]
    },
    {
     "name": "stdout",
     "output_type": "stream",
     "text": [
      "Training loss: 0.0016, Training accuracy: 1.0000\n",
      "Test loss: 0.0006, Test accuracy: 1.0000\n",
      "Epoch 49/50\n"
     ]
    },
    {
     "name": "stderr",
     "output_type": "stream",
     "text": [
      "Training: 100%|██████████| 8/8 [00:00<00:00, 158.23it/s]\n",
      "Evaluating: 100%|██████████| 2/2 [00:00<00:00, 121.85it/s]\n"
     ]
    },
    {
     "name": "stdout",
     "output_type": "stream",
     "text": [
      "Training loss: 0.0015, Training accuracy: 1.0000\n",
      "Test loss: 0.0006, Test accuracy: 1.0000\n",
      "Epoch 50/50\n"
     ]
    },
    {
     "name": "stderr",
     "output_type": "stream",
     "text": [
      "Training: 100%|██████████| 8/8 [00:00<00:00, 160.80it/s]\n",
      "Evaluating: 100%|██████████| 2/2 [00:00<00:00, 119.76it/s]\n"
     ]
    },
    {
     "name": "stdout",
     "output_type": "stream",
     "text": [
      "Training loss: 0.0053, Training accuracy: 1.0000\n",
      "Test loss: 0.0006, Test accuracy: 1.0000\n"
     ]
    },
    {
     "data": {
      "image/png": "[encoded data removed]",
      "text/plain": [
       "<Figure size 1500x500 with 2 Axes>"
      ]
     },
     "metadata": {},
     "output_type": "display_data"
    }
   ],
   "source": [
    "# Train the logistic regression model\n",
    "logreg_model, results = train_logreg_simplified(\n",
    "    batch_size=8,\n",
    "    train_feats_data=train_feats_unet,\n",
    "    test_feats_data=test_feats_unet,\n",
    "    feature_dim=train_feats_unet.tensors[0].shape[1],\n",
    "    num_classes=3,\n",
    "    lr=5e-4,\n",
    "    weight_decay=1e-4,\n",
    "    max_epochs=50\n",
    ")\n",
    "\n",
    "#print(f\"Final Train Accuracy: {results['train_acc']:.4f}, Final Test Accuracy: {results['test_acc']:.4f}\")\n"
   ]
  },
  {
   "cell_type": "code",
   "execution_count": null,
   "metadata": {},
   "outputs": [],
   "source": []
  }
 ],
 "metadata": {
  "kernelspec": {
   "display_name": "master",
   "language": "python",
   "name": "python3"
  },
  "language_info": {
   "codemirror_mode": {
    "name": "ipython",
    "version": 3
   },
   "file_extension": ".py",
   "mimetype": "text/x-python",
   "name": "python",
   "nbconvert_exporter": "python",
   "pygments_lexer": "ipython3",
   "version": "3.12.4"
  }
 },
 "nbformat": 4,
 "nbformat_minor": 2
}
