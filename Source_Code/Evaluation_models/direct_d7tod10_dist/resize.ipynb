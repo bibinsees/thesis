{
 "cells": [
  {
   "cell_type": "markdown",
   "metadata": {},
   "source": [
    "# before projection head"
   ]
  },
  {
   "cell_type": "code",
   "execution_count": 1,
   "metadata": {},
   "outputs": [],
   "source": [
    "import os\n",
    "import numpy as np\n",
    "import torch\n",
    "from torch import nn, optim\n",
    "from torch.utils.data import Dataset, DataLoader, random_split\n",
    "import torchvision\n",
    "from torchvision import transforms\n",
    "\n",
    "import tifffile as tiff\n",
    "import matplotlib.pyplot as plt\n",
    "import time\n",
    "from tqdm import tqdm\n",
    "import random\n",
    "\n",
    "\n",
    "from torchvision.transforms import RandomResizedCrop\n",
    "from torchvision.transforms import functional as Func"
   ]
  },
  {
   "cell_type": "code",
   "execution_count": 2,
   "metadata": {},
   "outputs": [],
   "source": [
    "class SimCLR(nn.Module):\n",
    "    def __init__(self, hidden_dim, lr, temperature, weight_decay):\n",
    "        super().__init__()\n",
    "        self.temperature = temperature\n",
    "        \n",
    "        # Load the pretrained ResNet-18 model\n",
    "        self.convnet = torchvision.models.resnet18(weights='ResNet18_Weights.DEFAULT')\n",
    "        \n",
    "        # Modify the fully connected layer\n",
    "        self.convnet.fc = nn.Sequential(\n",
    "            nn.Linear(self.convnet.fc.in_features, 4 * hidden_dim),  # Linear layer with 4*hidden_dim output\n",
    "            nn.ReLU(inplace=True),\n",
    "            nn.Linear(4 * hidden_dim, 20)  # Output layer with hidden_dim output\n",
    "        )\n",
    "\n",
    "        self.optimizer = optim.AdamW(self.parameters(), lr=lr, weight_decay=weight_decay)\n",
    "        self.lr_scheduler = optim.lr_scheduler.CosineAnnealingLR(self.optimizer, T_max=50, eta_min=lr / 50)\n",
    "\n",
    "    def forward(self, x):\n",
    "        return self.convnet(x)\n",
    "\n",
    "    def info_nce_loss(self, imgs1, imgs2, device):\n",
    "\n",
    "        imgs = torch.cat((imgs1, imgs2), dim=0)  # Concatenate along the batch dimension\n",
    "        imgs = imgs.to(device)  # Move images to the device\n",
    "\n",
    "        # Encode all images\n",
    "        feats = self.forward(imgs)\n",
    "    \n",
    "        # Calculate cosine similarity\n",
    "        cos_sim = nn.functional.cosine_similarity(feats[:, None, :], feats[None, :, :], dim=-1)\n",
    "    \n",
    "        # Mask out cosine similarity to itself\n",
    "        self_mask = torch.eye(cos_sim.shape[0], dtype=torch.bool, device=cos_sim.device)\n",
    "        cos_sim.masked_fill_(self_mask, -9e15)\n",
    "    \n",
    "        # Find positive example -> batch_size//2 away from the original example\n",
    "        pos_mask = self_mask.roll(shifts=cos_sim.shape[0] // 2, dims=0)\n",
    "    \n",
    "        # Normalize similarity scores by temperature\n",
    "        cos_sim = cos_sim / self.temperature\n",
    "\n",
    "        # InfoNCE loss\n",
    "        nll = -cos_sim[pos_mask] + torch.logsumexp(cos_sim, dim=-1)\n",
    "        nll = nll.mean()\n",
    "\n",
    "        # Accuracy calculations\n",
    "        # Create a combination of positive and negative similarities for ranking\n",
    "        comb_sim = torch.cat([cos_sim[pos_mask][:, None],  # Positive example in first position\n",
    "                          cos_sim.masked_fill(pos_mask, -9e15)], dim=-1)\n",
    "    \n",
    "        # Sort and get the ranking position of the positive example\n",
    "        sim_argsort = comb_sim.argsort(dim=-1, descending=True).argmin(dim=-1)\n",
    "    \n",
    "        # Compute accuracy metrics\n",
    "        top1_acc = (sim_argsort == 0).float().mean()  # Top-1 accuracy\n",
    "        top5_acc = (sim_argsort < 5).float().mean()   # Top-5 accuracy\n",
    "        mean_pos = 1 + sim_argsort.float().mean()     # Mean position of the positive example\n",
    "\n",
    "        return nll, top1_acc, top5_acc, mean_pos\n",
    "\n",
    "    def train_epoch(self, train_loader, device):\n",
    "        self.train()\n",
    "        total_loss = 0.0\n",
    "        total_top1_acc = 0.0\n",
    "        total_top5_acc = 0.0\n",
    "        total_mean_pos = 0.0\n",
    "\n",
    "        for batch in tqdm(train_loader, desc=\"Training\", leave=False):\n",
    "            imgs1, imgs2, _ = batch\n",
    "            imgs1, imgs2 = imgs1.to(device), imgs2.to(device)  # Move data to device\n",
    "        \n",
    "            self.optimizer.zero_grad()\n",
    "\n",
    "            # Calculate loss and accuracy metrics\n",
    "            loss, top1_acc, top5_acc, mean_pos = self.info_nce_loss(imgs1, imgs2, device)\n",
    "\n",
    "            loss.backward()\n",
    "            self.optimizer.step()\n",
    "            self.lr_scheduler.step()\n",
    "\n",
    "            # Accumulate metrics\n",
    "            total_loss += loss.item()\n",
    "            total_top1_acc += top1_acc.item()\n",
    "            total_top5_acc += top5_acc.item()\n",
    "            total_mean_pos += mean_pos.item()\n",
    "\n",
    "        avg_loss = total_loss / len(train_loader)\n",
    "        avg_top1_acc = total_top1_acc / len(train_loader)\n",
    "        avg_top5_acc = total_top5_acc / len(train_loader)\n",
    "        avg_mean_pos = total_mean_pos / len(train_loader)\n",
    "\n",
    "        return avg_loss, avg_top1_acc, avg_top5_acc, avg_mean_pos\n",
    "\n",
    "    def validate_epoch(self, val_loader, device):\n",
    "        self.eval()\n",
    "        total_loss = 0.0\n",
    "        total_top1_acc = 0.0\n",
    "        total_top5_acc = 0.0\n",
    "        total_mean_pos = 0.0\n",
    "\n",
    "        with torch.no_grad():\n",
    "            for batch in tqdm(val_loader, desc=\"Validating\", leave=False):\n",
    "                imgs1, imgs2, _ = batch\n",
    "                imgs1, imgs2 = imgs1.to(device), imgs2.to(device)  # Move data to device\n",
    "\n",
    "                # Calculate loss and accuracy metrics\n",
    "                loss, top1_acc, top5_acc, mean_pos = self.info_nce_loss(imgs1, imgs2, device)\n",
    "\n",
    "                # Accumulate metrics\n",
    "                total_loss += loss.item()\n",
    "                total_top1_acc += top1_acc.item()\n",
    "                total_top5_acc += top5_acc.item()\n",
    "                total_mean_pos += mean_pos.item()\n",
    "\n",
    "        avg_loss = total_loss / len(val_loader)\n",
    "        avg_top1_acc = total_top1_acc / len(val_loader)\n",
    "        avg_top5_acc = total_top5_acc / len(val_loader)\n",
    "        avg_mean_pos = total_mean_pos / len(val_loader)\n",
    "\n",
    "        return avg_loss, avg_top1_acc, avg_top5_acc, avg_mean_pos"
   ]
  },
  {
   "cell_type": "code",
   "execution_count": 3,
   "metadata": {},
   "outputs": [],
   "source": [
    "# Set the device\n",
    "device = torch.device(\"cuda\" if torch.cuda.is_available() else \"cpu\")"
   ]
  },
  {
   "cell_type": "code",
   "execution_count": 4,
   "metadata": {},
   "outputs": [
    {
     "name": "stderr",
     "output_type": "stream",
     "text": [
      "C:\\Users\\k54739\\AppData\\Local\\Temp\\ipykernel_2620\\3495648145.py:2: FutureWarning: You are using `torch.load` with `weights_only=False` (the current default value), which uses the default pickle module implicitly. It is possible to construct malicious pickle data which will execute arbitrary code during unpickling (See https://github.com/pytorch/pytorch/blob/main/SECURITY.md#untrusted-models for more details). In a future release, the default value for `weights_only` will be flipped to `True`. This limits the functions that could be executed during unpickling. Arbitrary objects will no longer be allowed to be loaded via this mode unless they are explicitly allowlisted by the user via `torch.serialization.add_safe_globals`. We recommend you start setting `weights_only=True` for any use case where you don't have full control of the loaded file. Please open an issue on GitHub for any issues related to this experimental feature.\n",
      "  simclr_model = torch.load(full_model_path)\n"
     ]
    },
    {
     "data": {
      "text/plain": [
       "SimCLR(\n",
       "  (convnet): ResNet(\n",
       "    (conv1): Conv2d(3, 64, kernel_size=(7, 7), stride=(2, 2), padding=(3, 3), bias=False)\n",
       "    (bn1): BatchNorm2d(64, eps=1e-05, momentum=0.1, affine=True, track_running_stats=True)\n",
       "    (relu): ReLU(inplace=True)\n",
       "    (maxpool): MaxPool2d(kernel_size=3, stride=2, padding=1, dilation=1, ceil_mode=False)\n",
       "    (layer1): Sequential(\n",
       "      (0): BasicBlock(\n",
       "        (conv1): Conv2d(64, 64, kernel_size=(3, 3), stride=(1, 1), padding=(1, 1), bias=False)\n",
       "        (bn1): BatchNorm2d(64, eps=1e-05, momentum=0.1, affine=True, track_running_stats=True)\n",
       "        (relu): ReLU(inplace=True)\n",
       "        (conv2): Conv2d(64, 64, kernel_size=(3, 3), stride=(1, 1), padding=(1, 1), bias=False)\n",
       "        (bn2): BatchNorm2d(64, eps=1e-05, momentum=0.1, affine=True, track_running_stats=True)\n",
       "      )\n",
       "      (1): BasicBlock(\n",
       "        (conv1): Conv2d(64, 64, kernel_size=(3, 3), stride=(1, 1), padding=(1, 1), bias=False)\n",
       "        (bn1): BatchNorm2d(64, eps=1e-05, momentum=0.1, affine=True, track_running_stats=True)\n",
       "        (relu): ReLU(inplace=True)\n",
       "        (conv2): Conv2d(64, 64, kernel_size=(3, 3), stride=(1, 1), padding=(1, 1), bias=False)\n",
       "        (bn2): BatchNorm2d(64, eps=1e-05, momentum=0.1, affine=True, track_running_stats=True)\n",
       "      )\n",
       "    )\n",
       "    (layer2): Sequential(\n",
       "      (0): BasicBlock(\n",
       "        (conv1): Conv2d(64, 128, kernel_size=(3, 3), stride=(2, 2), padding=(1, 1), bias=False)\n",
       "        (bn1): BatchNorm2d(128, eps=1e-05, momentum=0.1, affine=True, track_running_stats=True)\n",
       "        (relu): ReLU(inplace=True)\n",
       "        (conv2): Conv2d(128, 128, kernel_size=(3, 3), stride=(1, 1), padding=(1, 1), bias=False)\n",
       "        (bn2): BatchNorm2d(128, eps=1e-05, momentum=0.1, affine=True, track_running_stats=True)\n",
       "        (downsample): Sequential(\n",
       "          (0): Conv2d(64, 128, kernel_size=(1, 1), stride=(2, 2), bias=False)\n",
       "          (1): BatchNorm2d(128, eps=1e-05, momentum=0.1, affine=True, track_running_stats=True)\n",
       "        )\n",
       "      )\n",
       "      (1): BasicBlock(\n",
       "        (conv1): Conv2d(128, 128, kernel_size=(3, 3), stride=(1, 1), padding=(1, 1), bias=False)\n",
       "        (bn1): BatchNorm2d(128, eps=1e-05, momentum=0.1, affine=True, track_running_stats=True)\n",
       "        (relu): ReLU(inplace=True)\n",
       "        (conv2): Conv2d(128, 128, kernel_size=(3, 3), stride=(1, 1), padding=(1, 1), bias=False)\n",
       "        (bn2): BatchNorm2d(128, eps=1e-05, momentum=0.1, affine=True, track_running_stats=True)\n",
       "      )\n",
       "    )\n",
       "    (layer3): Sequential(\n",
       "      (0): BasicBlock(\n",
       "        (conv1): Conv2d(128, 256, kernel_size=(3, 3), stride=(2, 2), padding=(1, 1), bias=False)\n",
       "        (bn1): BatchNorm2d(256, eps=1e-05, momentum=0.1, affine=True, track_running_stats=True)\n",
       "        (relu): ReLU(inplace=True)\n",
       "        (conv2): Conv2d(256, 256, kernel_size=(3, 3), stride=(1, 1), padding=(1, 1), bias=False)\n",
       "        (bn2): BatchNorm2d(256, eps=1e-05, momentum=0.1, affine=True, track_running_stats=True)\n",
       "        (downsample): Sequential(\n",
       "          (0): Conv2d(128, 256, kernel_size=(1, 1), stride=(2, 2), bias=False)\n",
       "          (1): BatchNorm2d(256, eps=1e-05, momentum=0.1, affine=True, track_running_stats=True)\n",
       "        )\n",
       "      )\n",
       "      (1): BasicBlock(\n",
       "        (conv1): Conv2d(256, 256, kernel_size=(3, 3), stride=(1, 1), padding=(1, 1), bias=False)\n",
       "        (bn1): BatchNorm2d(256, eps=1e-05, momentum=0.1, affine=True, track_running_stats=True)\n",
       "        (relu): ReLU(inplace=True)\n",
       "        (conv2): Conv2d(256, 256, kernel_size=(3, 3), stride=(1, 1), padding=(1, 1), bias=False)\n",
       "        (bn2): BatchNorm2d(256, eps=1e-05, momentum=0.1, affine=True, track_running_stats=True)\n",
       "      )\n",
       "    )\n",
       "    (layer4): Sequential(\n",
       "      (0): BasicBlock(\n",
       "        (conv1): Conv2d(256, 512, kernel_size=(3, 3), stride=(2, 2), padding=(1, 1), bias=False)\n",
       "        (bn1): BatchNorm2d(512, eps=1e-05, momentum=0.1, affine=True, track_running_stats=True)\n",
       "        (relu): ReLU(inplace=True)\n",
       "        (conv2): Conv2d(512, 512, kernel_size=(3, 3), stride=(1, 1), padding=(1, 1), bias=False)\n",
       "        (bn2): BatchNorm2d(512, eps=1e-05, momentum=0.1, affine=True, track_running_stats=True)\n",
       "        (downsample): Sequential(\n",
       "          (0): Conv2d(256, 512, kernel_size=(1, 1), stride=(2, 2), bias=False)\n",
       "          (1): BatchNorm2d(512, eps=1e-05, momentum=0.1, affine=True, track_running_stats=True)\n",
       "        )\n",
       "      )\n",
       "      (1): BasicBlock(\n",
       "        (conv1): Conv2d(512, 512, kernel_size=(3, 3), stride=(1, 1), padding=(1, 1), bias=False)\n",
       "        (bn1): BatchNorm2d(512, eps=1e-05, momentum=0.1, affine=True, track_running_stats=True)\n",
       "        (relu): ReLU(inplace=True)\n",
       "        (conv2): Conv2d(512, 512, kernel_size=(3, 3), stride=(1, 1), padding=(1, 1), bias=False)\n",
       "        (bn2): BatchNorm2d(512, eps=1e-05, momentum=0.1, affine=True, track_running_stats=True)\n",
       "      )\n",
       "    )\n",
       "    (avgpool): AdaptiveAvgPool2d(output_size=(1, 1))\n",
       "    (fc): Sequential(\n",
       "      (0): Linear(in_features=512, out_features=512, bias=True)\n",
       "      (1): ReLU(inplace=True)\n",
       "      (2): Linear(in_features=512, out_features=20, bias=True)\n",
       "    )\n",
       "  )\n",
       ")"
      ]
     },
     "execution_count": 4,
     "metadata": {},
     "output_type": "execute_result"
    }
   ],
   "source": [
    "full_model_path =  r'C:\\Users\\k54739\\Bibi_new_thesis\\saved_model\\resize_simclr_modelepoch250.pth' \n",
    "simclr_model = torch.load(full_model_path)\n",
    "simclr_model.to(device)\n",
    "simclr_model.eval()"
   ]
  },
  {
   "cell_type": "code",
   "execution_count": 5,
   "metadata": {},
   "outputs": [],
   "source": [
    "from copy import deepcopy\n",
    "import torchvision.transforms.functional as TF"
   ]
  },
  {
   "cell_type": "code",
   "execution_count": 6,
   "metadata": {},
   "outputs": [],
   "source": [
    "\n",
    "# Device setup for inference\n",
    "device = torch.device(\"cuda\" if torch.cuda.is_available() else \"cpu\")"
   ]
  },
  {
   "cell_type": "markdown",
   "metadata": {},
   "source": [
    "def Preprocess_Image(image_path):\n",
    "    # Load the image\n",
    "    image = tiff.imread(image_path)\n",
    "    \n",
    "    # Ensure the image has 3 layers (channels)\n",
    "    if image.shape[0] != 3:\n",
    "        raise ValueError(f\"Image at {image_path} does not have exactly 3 layers.\")\n",
    "    \n",
    "    # Normalize the 16-bit image to [0, 1]\n",
    "    image = image.astype(np.float32) / 65535.0\n",
    "    \n",
    "    # Convert to a torch tensor\n",
    "    image = torch.tensor(image, dtype=torch.float32)\n",
    "    \n",
    "    # Resize to (96, 96)\n",
    "    image = TF.resize(image, (96, 96))\n",
    "\n",
    "    print(image.shape)\n",
    "    image_to_model = image.unsqueeze(0)\n",
    "    print(image_to_model.shape)\n",
    "    \n",
    "    return image,image_to_model\n"
   ]
  },
  {
   "cell_type": "code",
   "execution_count": 8,
   "metadata": {},
   "outputs": [],
   "source": [
    "def R_Preprocess_Image(image_path):\n",
    "    # Load the image\n",
    "    image = tiff.imread(image_path)\n",
    "    \n",
    "    # Ensure the image has 3 layers (channels)\n",
    "    if image.shape[0] != 3:\n",
    "        raise ValueError(f\"Image at {image_path} does not have exactly 3 layers.\")\n",
    "    \n",
    "    # Normalize the 16-bit image to [0, 1]\n",
    "    image = image.astype(np.float32) / 65535.0\n",
    "    \n",
    "    # Convert to a torch tensor\n",
    "    image = torch.tensor(image, dtype=torch.float32)\n",
    "    \n",
    "    # Resize to (96, 96)\n",
    "    image = TF.resize(image, (96, 96))\n",
    "    \n",
    "    # Create a rotated version of the image (90 degrees clockwise)\n",
    "    rotated_image = torch.rot90(image, k=1, dims=(1, 2))  # Rotate along height and width dimensions\n",
    "    \n",
    "    # Add batch dimension to both images\n",
    "    image_to_model = image.unsqueeze(0)\n",
    "    rotated_image_to_model = rotated_image.unsqueeze(0)\n",
    "    \n",
    "    # Print shapes for debugging\n",
    "    print(\"Original image shape:\", image.shape)\n",
    "    print(\"Original image to model shape:\", image_to_model.shape)\n",
    "    print(\"Rotated image shape:\", rotated_image.shape)\n",
    "    print(\"Rotated image to model shape:\", rotated_image_to_model.shape)\n",
    "    \n",
    "    return image, image_to_model, rotated_image, rotated_image_to_model\n"
   ]
  },
  {
   "cell_type": "code",
   "execution_count": 9,
   "metadata": {},
   "outputs": [],
   "source": [
    "import matplotlib.pyplot as plt\n",
    "\n",
    "def display_image(image_tensor, title=\"Image\", cmap=\"gray\", figsize=(5, 5)):\n",
    "\n",
    "    # Convert PyTorch tensor to NumPy array and adjust shape for plotting\n",
    "    image_np = image_tensor.numpy().transpose(1, 2, 0)  # Convert (C, H, W) -> (H, W, C)\n",
    "\n",
    "    # Display the image\n",
    "    plt.figure(figsize=figsize)\n",
    "    plt.imshow(image_np, cmap=cmap)\n",
    "    plt.title(title)\n",
    "    plt.axis(\"off\")  # Turn off axis for cleaner visualization\n",
    "    plt.show()\n"
   ]
  },
  {
   "cell_type": "code",
   "execution_count": 10,
   "metadata": {},
   "outputs": [],
   "source": [
    "@torch.no_grad()\n",
    "def extract_features(model, image_tensor):\n",
    "    # prepare model\n",
    "    network = deepcopy(model.convnet)\n",
    "    network.fc = nn.Identity()  # Removing projection head g(.)\n",
    "    network.eval()\n",
    "    network.to(device)\n",
    "    \n",
    "    # Move image tensor to device\n",
    "    image_tensor = image_tensor.to(device)\n",
    "    \n",
    "    # Extract features\n",
    "    features = network(image_tensor)\n",
    "    return features"
   ]
  },
  {
   "cell_type": "code",
   "execution_count": 11,
   "metadata": {},
   "outputs": [],
   "source": [
    "# first control day 1 to day 2"
   ]
  },
  {
   "cell_type": "markdown",
   "metadata": {},
   "source": [
    "path_of_image = r'C:\\Users\\k54739\\Bibi_new_thesis\\thesis\\day7_day10\\control29\\RBT_01.04_B02-T01.tiff'\n",
    "first_cd1,first_cd1_to_model = Preprocess_Image(path_of_image)"
   ]
  },
  {
   "cell_type": "markdown",
   "metadata": {},
   "source": [
    "\n",
    "# Example usage\n",
    "# Assuming `first_image` is a torch.Tensor with shape (C, H, W)\n",
    "display_image(first_cd1, title=\"First Image\")\n"
   ]
  },
  {
   "cell_type": "code",
   "execution_count": 13,
   "metadata": {},
   "outputs": [
    {
     "name": "stdout",
     "output_type": "stream",
     "text": [
      "Original image shape: torch.Size([3, 96, 96])\n",
      "Original image to model shape: torch.Size([1, 3, 96, 96])\n",
      "Rotated image shape: torch.Size([3, 96, 96])\n",
      "Rotated image to model shape: torch.Size([1, 3, 96, 96])\n"
     ]
    }
   ],
   "source": [
    "R_path_of_image = r'C:\\Users\\k54739\\Bibi_new_thesis\\thesis\\day7_day10\\control29\\RBT_01.04_B02-T01.tiff'\n",
    "cd1_im,cd1_model, cd2_im, cd2_model = R_Preprocess_Image(R_path_of_image)"
   ]
  },
  {
   "cell_type": "code",
   "execution_count": 14,
   "metadata": {},
   "outputs": [
    {
     "name": "stdout",
     "output_type": "stream",
     "text": [
      "torch.Size([1, 512])\n",
      "torch.Size([1, 512])\n"
     ]
    }
   ],
   "source": [
    "cd1 = extract_features(simclr_model, cd1_model)\n",
    "cd2 = extract_features(simclr_model, cd2_model)\n",
    "print(cd1.shape)\n",
    "print(cd2.shape)"
   ]
  },
  {
   "cell_type": "code",
   "execution_count": 15,
   "metadata": {},
   "outputs": [
    {
     "name": "stdout",
     "output_type": "stream",
     "text": [
      "Cosine similarity between features: 0.8565492630004883\n"
     ]
    }
   ],
   "source": [
    "# Cosine new data only resize\n",
    "cosine_similarity = nn.functional.cosine_similarity(cd1, cd2, dim=1)\n",
    "print(f\"Cosine similarity between features: {cosine_similarity.item()}\")"
   ]
  },
  {
   "cell_type": "code",
   "execution_count": 16,
   "metadata": {},
   "outputs": [
    {
     "data": {
      "image/png": "[encoded data removed]",
      "text/plain": [
       "<Figure size 500x500 with 1 Axes>"
      ]
     },
     "metadata": {},
     "output_type": "display_data"
    }
   ],
   "source": [
    "display_image(cd2_im, title=\"second_image\")"
   ]
  },
  {
   "cell_type": "code",
   "execution_count": 15,
   "metadata": {},
   "outputs": [
    {
     "name": "stdout",
     "output_type": "stream",
     "text": [
      "torch.Size([3, 96, 96])\n",
      "torch.Size([1, 3, 96, 96])\n"
     ]
    }
   ],
   "source": [
    "pathimage = r'C:\\Users\\k54739\\Bibi_new_thesis\\thesis\\day7_day10\\control29\\day10\\RBT_01.04_B02-T01.tiff'\n",
    "first_cd2, first_cd2_to_model = Preprocess_Image(pathimage)\n"
   ]
  },
  {
   "cell_type": "code",
   "execution_count": 16,
   "metadata": {},
   "outputs": [
    {
     "data": {
      "image/png": "[encoded data removed]",
      "text/plain": [
       "<Figure size 500x500 with 1 Axes>"
      ]
     },
     "metadata": {},
     "output_type": "display_data"
    }
   ],
   "source": [
    "display_image(first_cd2, title=\"second_image\")"
   ]
  },
  {
   "cell_type": "code",
   "execution_count": 17,
   "metadata": {},
   "outputs": [
    {
     "name": "stdout",
     "output_type": "stream",
     "text": [
      "torch.Size([1, 512])\n",
      "torch.Size([1, 512])\n"
     ]
    }
   ],
   "source": [
    "# Extract features for both images\n",
    "first_image_feats = extract_features(simclr_model, first_cd1_to_model)\n",
    "second_image_feats = extract_features(simclr_model, first_cd2_to_model)\n",
    "print(first_image_feats.shape)\n",
    "print(second_image_feats.shape)"
   ]
  },
  {
   "cell_type": "code",
   "execution_count": 18,
   "metadata": {},
   "outputs": [
    {
     "name": "stdout",
     "output_type": "stream",
     "text": [
      "Cosine similarity between features: 0.3846457302570343\n"
     ]
    }
   ],
   "source": [
    "# Cosine new data only resize\n",
    "cosine_similarity = nn.functional.cosine_similarity(first_image_feats, second_image_feats, dim=1)\n",
    "print(f\"Cosine similarity between features: {cosine_similarity.item()}\")"
   ]
  },
  {
   "cell_type": "code",
   "execution_count": null,
   "metadata": {},
   "outputs": [],
   "source": [
    "#second control d1 and d2"
   ]
  },
  {
   "cell_type": "code",
   "execution_count": 16,
   "metadata": {},
   "outputs": [
    {
     "name": "stdout",
     "output_type": "stream",
     "text": [
      "torch.Size([3, 96, 96])\n",
      "torch.Size([1, 3, 96, 96])\n"
     ]
    }
   ],
   "source": [
    "path_of_image = r'C:\\Users\\k54739\\Bibi_new_thesis\\thesis\\day7_day10\\control29\\day7\\RBT_01.04_B04-T01.tiff'\n",
    "second_cd1,second_cd1_to_model = Preprocess_Image(path_of_image)"
   ]
  },
  {
   "cell_type": "code",
   "execution_count": 17,
   "metadata": {},
   "outputs": [
    {
     "data": {
      "image/png": "[encoded data removed]",
      "text/plain": [
       "<Figure size 500x500 with 1 Axes>"
      ]
     },
     "metadata": {},
     "output_type": "display_data"
    }
   ],
   "source": [
    "# Assuming `first_image` is a torch.Tensor with shape (C, H, W)\n",
    "display_image(second_cd1, title=\"second_cd1\")\n"
   ]
  },
  {
   "cell_type": "code",
   "execution_count": 13,
   "metadata": {},
   "outputs": [
    {
     "name": "stdout",
     "output_type": "stream",
     "text": [
      "torch.Size([3, 96, 96])\n",
      "torch.Size([1, 3, 96, 96])\n"
     ]
    },
    {
     "data": {
      "image/png": "[encoded data removed]",
      "text/plain": [
       "<Figure size 500x500 with 1 Axes>"
      ]
     },
     "metadata": {},
     "output_type": "display_data"
    }
   ],
   "source": [
    "pathimage = r'C:\\Users\\k54739\\Bibi_new_thesis\\thesis\\day7_day10\\control29\\day10\\RBT_01.04_B04-T01.tiff'\n",
    "second_cd2, second_cd2_to_model = Preprocess_Image(pathimage)\n",
    "display_image(second_cd2, title=\"second_cd2\")"
   ]
  },
  {
   "cell_type": "code",
   "execution_count": 37,
   "metadata": {},
   "outputs": [
    {
     "name": "stdout",
     "output_type": "stream",
     "text": [
      "torch.Size([1, 512])\n",
      "torch.Size([1, 512])\n"
     ]
    }
   ],
   "source": [
    "# Extract features for both images\n",
    "first_feats = extract_features(simclr_model, second_cd1_to_model)\n",
    "second_feats = extract_features(simclr_model, second_cd2_to_model)\n",
    "print(first_image_feats.shape)\n",
    "print(second_image_feats.shape)"
   ]
  },
  {
   "cell_type": "code",
   "execution_count": 38,
   "metadata": {},
   "outputs": [
    {
     "name": "stdout",
     "output_type": "stream",
     "text": [
      "Cosine similarity between features: 0.28842267394065857\n"
     ]
    }
   ],
   "source": [
    "# Cosine new data only resize\n",
    "cosine_similarity = nn.functional.cosine_similarity(first_feats, second_feats, dim=1)\n",
    "print(f\"Cosine similarity between features: {cosine_similarity.item()}\")"
   ]
  },
  {
   "cell_type": "code",
   "execution_count": 1,
   "metadata": {},
   "outputs": [],
   "source": [
    "import tifffile as tiff\n",
    "import matplotlib.pyplot as plt"
   ]
  },
  {
   "cell_type": "code",
   "execution_count": 2,
   "metadata": {},
   "outputs": [],
   "source": [
    "p = r'C:\\Users\\k54739\\Bibi_new_thesis\\RBT_01.04_B04-T01.tiff'\n",
    "image = tiff.imread(p)"
   ]
  },
  {
   "cell_type": "code",
   "execution_count": 5,
   "metadata": {},
   "outputs": [
    {
     "name": "stdout",
     "output_type": "stream",
     "text": [
      "Original Shape: torch.Size([3, 96, 96])\n",
      "Transformed Shape: torch.Size([3, 106, 106])\n"
     ]
    }
   ],
   "source": [
    "import numpy as np\n",
    "import torch\n",
    "import tifffile as tiff\n",
    "from torchvision import transforms\n",
    "\n",
    "# Load the image\n",
    "p = r'C:\\Users\\k54739\\Bibi_new_thesis\\RBT_01.04_B04-T01.tiff'\n",
    "image = tiff.imread(p)\n",
    "\n",
    "# Normalize the image to the range [0, 1] and convert it to a PyTorch tensor\n",
    "image = image.astype(np.float32) / 65535.0  # Assuming 16-bit TIFF image\n",
    "image = torch.tensor(image, dtype=torch.float32)\n",
    "image = TF.resize(image, (96, 96))\n",
    "# Add channel dimension if it's a grayscale image (H, W -> 1, H, W)\n",
    "if len(image.shape) == 2:  # Grayscale image\n",
    "    image = image.unsqueeze(0)\n",
    "\n",
    "# Define transformations\n",
    "data_transforms = transforms.Compose([\n",
    "    #transforms.RandomHorizontalFlip(p=1),  # Randomly flip horizontally\n",
    "    #transforms.RandomVerticalFlip(p=1),    # Randomly flip vertically\n",
    "    transforms.RandomRotation(degrees=(360),expand = True)  # Randomly rotate between 0 to 360 degrees\n",
    "])\n",
    "\n",
    "# Apply the transformations\n",
    "transformed_image = data_transforms(image)\n",
    "\n",
    "# For visualization or saving, you may need to convert back to NumPy\n",
    "transformed_image_np = transformed_image.squeeze(0).numpy()  # Remove channel dim if grayscale\n",
    "\n",
    "# Print or display the transformed image\n",
    "print(f\"Original Shape: {image.shape}\")\n",
    "print(f\"Transformed Shape: {transformed_image.shape}\")\n"
   ]
  },
  {
   "cell_type": "code",
   "execution_count": 6,
   "metadata": {},
   "outputs": [
    {
     "data": {
      "image/png": "[encoded data removed]",
      "text/plain": [
       "<Figure size 600x600 with 1 Axes>"
      ]
     },
     "metadata": {},
     "output_type": "display_data"
    }
   ],
   "source": [
    "\n",
    "# Transpose the image from (C, H, W) -> (H, W, C)\n",
    "transformed_image_np = transformed_image_np.transpose(1, 2, 0)\n",
    "\n",
    "# Visualize the image\n",
    "plt.figure(figsize=(6, 6))\n",
    "plt.imshow(transformed_image_np)\n",
    "plt.title(\"Transformed Image\")\n",
    "plt.axis(\"off\")\n",
    "plt.show()"
   ]
  },
  {
   "cell_type": "code",
   "execution_count": 13,
   "metadata": {},
   "outputs": [
    {
     "data": {
      "image/png": "[encoded data removed]",
      "text/plain": [
       "<Figure size 1200x600 with 2 Axes>"
      ]
     },
     "metadata": {},
     "output_type": "display_data"
    }
   ],
   "source": [
    "import matplotlib.pyplot as plt\n",
    "\n",
    "# Transpose the image to (H, W, C) for visualization\n",
    "transformed_image_np = transformed_image_np.transpose(1, 2, 0)\n",
    "\n",
    "# Ensure pixel values are scaled properly for visualization\n",
    "if transformed_image_np.dtype == \"float32\" or transformed_image_np.dtype == \"float64\":\n",
    "    # Normalize to range [0, 1] for proper display\n",
    "    transformed_image_np = transformed_image_np / transformed_image_np.max()\n",
    "\n",
    "# Visualize the image\n",
    "plt.figure(figsize=(12, 6))\n",
    "\n",
    "# Display the image\n",
    "plt.subplot(1, 2, 1)\n",
    "plt.imshow(transformed_image_np)\n",
    "plt.title(\"Transformed Image\")\n",
    "plt.axis(\"off\")\n",
    "\n",
    "# Plot the pixel distribution\n",
    "plt.subplot(1, 2, 2)\n",
    "plt.hist(transformed_image_np.ravel(), bins=256, color='blue', alpha=0.7)\n",
    "plt.title(\"Pixel Distribution\")\n",
    "plt.xlabel(\"Pixel Intensity\")\n",
    "plt.ylabel(\"Frequency\")\n",
    "\n",
    "plt.tight_layout()\n",
    "plt.show()\n"
   ]
  },
  {
   "cell_type": "code",
   "execution_count": 7,
   "metadata": {},
   "outputs": [
    {
     "name": "stdout",
     "output_type": "stream",
     "text": [
      "Number of black pixels: 6048\n"
     ]
    }
   ],
   "source": [
    "black_pixel_count = (transformed_image_np == 0).sum()\n",
    "print(f\"Number of black pixels: {black_pixel_count}\")\n"
   ]
  },
  {
   "cell_type": "code",
   "execution_count": 14,
   "metadata": {},
   "outputs": [
    {
     "name": "stdout",
     "output_type": "stream",
     "text": [
      "torch.Size([1, 3, 96, 96])\n"
     ]
    }
   ],
   "source": [
    "transformed_image.shape\n",
    "pre_transformed_image = transformed_image.unsqueeze(0)\n",
    "print(pre_transformed_image.shape)"
   ]
  },
  {
   "cell_type": "code",
   "execution_count": 18,
   "metadata": {},
   "outputs": [
    {
     "name": "stdout",
     "output_type": "stream",
     "text": [
      "torch.Size([1, 512])\n",
      "torch.Size([1, 512])\n"
     ]
    }
   ],
   "source": [
    "transformed_image_feats = extract_features(simclr_model, pre_transformed_image)\n",
    "first_feats = extract_features(simclr_model, second_cd1_to_model)\n",
    "print(transformed_image_feats.shape)\n",
    "print(first_feats.shape)"
   ]
  },
  {
   "cell_type": "code",
   "execution_count": 19,
   "metadata": {},
   "outputs": [
    {
     "name": "stdout",
     "output_type": "stream",
     "text": [
      "Cosine similarity between features: 0.33035075664520264\n"
     ]
    }
   ],
   "source": [
    "# Cosine new data only resize\n",
    "cosine_similarity = nn.functional.cosine_similarity(first_feats, transformed_image_feats, dim=1)\n",
    "print(f\"Cosine similarity between features: {cosine_similarity.item()}\")"
   ]
  },
  {
   "cell_type": "code",
   "execution_count": null,
   "metadata": {},
   "outputs": [],
   "source": [
    "#first sd"
   ]
  },
  {
   "cell_type": "code",
   "execution_count": 24,
   "metadata": {},
   "outputs": [
    {
     "name": "stdout",
     "output_type": "stream",
     "text": [
      "torch.Size([3, 96, 96])\n",
      "torch.Size([1, 3, 96, 96])\n"
     ]
    }
   ],
   "source": [
    "path_of_imge = r'C:\\Users\\k54739\\Bibi_new_thesis\\thesis\\day7_day10\\sd_ds\\single_dose\\RBT 01.04_gant61\\Before (untreated) Day7\\GANT61\\B11-T01.tiff'\n",
    "first_sd1,first_sd1_to_model = Preprocess_Image(path_of_imge)"
   ]
  },
  {
   "cell_type": "code",
   "execution_count": 25,
   "metadata": {},
   "outputs": [
    {
     "data": {
      "image/png": "[encoded data removed]",
      "text/plain": [
       "<Figure size 500x500 with 1 Axes>"
      ]
     },
     "metadata": {},
     "output_type": "display_data"
    }
   ],
   "source": [
    "display_image(first_sd1, title=\"First Image\")"
   ]
  },
  {
   "cell_type": "code",
   "execution_count": 27,
   "metadata": {},
   "outputs": [
    {
     "name": "stdout",
     "output_type": "stream",
     "text": [
      "torch.Size([3, 96, 96])\n",
      "torch.Size([1, 3, 96, 96])\n"
     ]
    }
   ],
   "source": [
    "pathimag = r'C:\\Users\\k54739\\Bibi_new_thesis\\thesis\\day7_day10\\sd_ds\\single_dose\\RBT 01.04_gant61\\After Day10\\GANT61\\B11-T01.tiff'\n",
    "first_sd2, first_sd2_to_model = Preprocess_Image(pathimag)\n"
   ]
  },
  {
   "cell_type": "code",
   "execution_count": 28,
   "metadata": {},
   "outputs": [
    {
     "data": {
      "image/png": "[encoded data removed]",
      "text/plain": [
       "<Figure size 500x500 with 1 Axes>"
      ]
     },
     "metadata": {},
     "output_type": "display_data"
    }
   ],
   "source": [
    "display_image(first_sd2, title=\"second_image\")"
   ]
  },
  {
   "cell_type": "code",
   "execution_count": 29,
   "metadata": {},
   "outputs": [
    {
     "name": "stdout",
     "output_type": "stream",
     "text": [
      "torch.Size([1, 512])\n",
      "torch.Size([1, 512])\n"
     ]
    }
   ],
   "source": [
    "# Extract features for both images\n",
    "first_image_feats = extract_features(simclr_model, first_sd1_to_model)\n",
    "second_image_feats = extract_features(simclr_model, first_sd2_to_model)\n",
    "print(first_image_feats.shape)\n",
    "print(second_image_feats.shape)"
   ]
  },
  {
   "cell_type": "code",
   "execution_count": 30,
   "metadata": {},
   "outputs": [
    {
     "name": "stdout",
     "output_type": "stream",
     "text": [
      "Cosine similarity between features: 0.36504146456718445\n"
     ]
    }
   ],
   "source": [
    "# Cosine new data only resize\n",
    "cosine_similarity = nn.functional.cosine_similarity(first_image_feats, second_image_feats, dim=1)\n",
    "print(f\"Cosine similarity between features: {cosine_similarity.item()}\")"
   ]
  },
  {
   "cell_type": "code",
   "execution_count": 20,
   "metadata": {},
   "outputs": [
    {
     "name": "stdout",
     "output_type": "stream",
     "text": [
      "Original Shape: torch.Size([3, 96, 96])\n",
      "Transformed Shape: torch.Size([3, 96, 96])\n"
     ]
    }
   ],
   "source": [
    "p = r'C:\\Users\\k54739\\Bibi_new_thesis\\thesis\\day7_day10\\sd_ds\\single_dose\\RBT 01.04_gant61\\After Day10\\GANT61\\B11-T01.tiff'\n",
    "image = tiff.imread(p)\n",
    "\n",
    "# Normalize the image to the range [0, 1] and convert it to a PyTorch tensor\n",
    "image = image.astype(np.float32) / 65535.0  # Assuming 16-bit TIFF image\n",
    "image = torch.tensor(image, dtype=torch.float32)\n",
    "image = TF.resize(image, (96, 96))\n",
    "\n",
    "# Add channel dimension if it's a grayscale image (H, W -> 1, H, W)\n",
    "if len(image.shape) == 2:  # Grayscale image\n",
    "    image = image.unsqueeze(0)\n",
    "\n",
    "# Define transformations\n",
    "data_transforms = transforms.Compose([\n",
    "    transforms.RandomHorizontalFlip(p=1),  # Randomly flip horizontally\n",
    "    transforms.RandomVerticalFlip(p=1),   # Randomly flip vertically\n",
    "    #transforms.RandomRotation(degrees=(360))  # Randomly rotate between 0 to 360 degrees\n",
    "])\n",
    "\n",
    "# Apply the transformations\n",
    "transformed_image = data_transforms(image)\n",
    "\n",
    "# For visualization or saving, you may need to convert back to NumPy\n",
    "transformed_image_np = transformed_image.squeeze(0).numpy()  # Remove channel dim if grayscale\n",
    "\n",
    "# Print or display the transformed image\n",
    "print(f\"Original Shape: {image.shape}\")\n",
    "print(f\"Transformed Shape: {transformed_image.shape}\")\n"
   ]
  },
  {
   "cell_type": "code",
   "execution_count": 21,
   "metadata": {},
   "outputs": [
    {
     "data": {
      "image/png": "[encoded data removed]",
      "text/plain": [
       "<Figure size 600x600 with 1 Axes>"
      ]
     },
     "metadata": {},
     "output_type": "display_data"
    }
   ],
   "source": [
    "\n",
    "# Transpose the image from (C, H, W) -> (H, W, C)\n",
    "transformed_image_np = transformed_image_np.transpose(1, 2, 0)\n",
    "\n",
    "# Visualize the image\n",
    "plt.figure(figsize=(6, 6))\n",
    "plt.imshow(transformed_image_np)\n",
    "plt.title(\"Transformed Image\")\n",
    "plt.axis(\"off\")\n",
    "plt.show()"
   ]
  },
  {
   "cell_type": "code",
   "execution_count": 22,
   "metadata": {},
   "outputs": [
    {
     "name": "stdout",
     "output_type": "stream",
     "text": [
      "torch.Size([1, 3, 96, 96])\n"
     ]
    }
   ],
   "source": [
    "transformed_image.shape\n",
    "pre_transformed_image = transformed_image.unsqueeze(0)\n",
    "print(pre_transformed_image.shape)"
   ]
  },
  {
   "cell_type": "code",
   "execution_count": 26,
   "metadata": {},
   "outputs": [
    {
     "name": "stdout",
     "output_type": "stream",
     "text": [
      "torch.Size([1, 512])\n",
      "torch.Size([1, 512])\n"
     ]
    }
   ],
   "source": [
    "transformed_image_feats = extract_features(simclr_model, pre_transformed_image)\n",
    "first_feats = extract_features(simclr_model, first_sd1_to_model)\n",
    "print(transformed_image_feats.shape)\n",
    "print(first_feats.shape)"
   ]
  },
  {
   "cell_type": "code",
   "execution_count": 27,
   "metadata": {},
   "outputs": [
    {
     "name": "stdout",
     "output_type": "stream",
     "text": [
      "Cosine similarity between features: 0.3360106647014618\n"
     ]
    }
   ],
   "source": [
    "# Cosine new data only resize\n",
    "cosine_similarity = nn.functional.cosine_similarity(first_feats, transformed_image_feats, dim=1)\n",
    "print(f\"Cosine similarity between features: {cosine_similarity.item()}\")"
   ]
  },
  {
   "cell_type": "code",
   "execution_count": null,
   "metadata": {},
   "outputs": [],
   "source": [
    "#second sd 1 and sd2 "
   ]
  },
  {
   "cell_type": "code",
   "execution_count": 42,
   "metadata": {},
   "outputs": [
    {
     "name": "stdout",
     "output_type": "stream",
     "text": [
      "torch.Size([3, 96, 96])\n",
      "torch.Size([1, 3, 96, 96])\n"
     ]
    }
   ],
   "source": [
    "path_of_image = r'C:\\Users\\k54739\\Bibi_new_thesis\\thesis\\day7_day10\\sd_ds\\single_dose\\RBT 01.04_gant61\\Before (untreated) Day7\\GANT61\\B08-T01.tiff'\n",
    "second_sd1,second_sd1_to_model = Preprocess_Image(path_of_image)"
   ]
  },
  {
   "cell_type": "code",
   "execution_count": 43,
   "metadata": {},
   "outputs": [
    {
     "data": {
      "image/png": "[encoded data removed]",
      "text/plain": [
       "<Figure size 500x500 with 1 Axes>"
      ]
     },
     "metadata": {},
     "output_type": "display_data"
    }
   ],
   "source": [
    "# Assuming `first_image` is a torch.Tensor with shape (C, H, W)\n",
    "display_image(second_sd1, title=\"second_cd1\")\n"
   ]
  },
  {
   "cell_type": "code",
   "execution_count": 48,
   "metadata": {},
   "outputs": [
    {
     "name": "stdout",
     "output_type": "stream",
     "text": [
      "torch.Size([3, 96, 96])\n",
      "torch.Size([1, 3, 96, 96])\n"
     ]
    }
   ],
   "source": [
    "path_of_image = r'C:\\Users\\k54739\\Bibi_new_thesis\\thesis\\day7_day10\\sd_ds\\single_dose\\RBT 01.04_gant61\\After Day10\\GANT61\\B08-T01.tiff'\n",
    "second_sd2,second_sd2_to_model = Preprocess_Image(path_of_image)"
   ]
  },
  {
   "cell_type": "code",
   "execution_count": 49,
   "metadata": {},
   "outputs": [
    {
     "data": {
      "image/png": "[encoded data removed]",
      "text/plain": [
       "<Figure size 500x500 with 1 Axes>"
      ]
     },
     "metadata": {},
     "output_type": "display_data"
    }
   ],
   "source": [
    "# Assuming `first_image` is a torch.Tensor with shape (C, H, W)\n",
    "display_image(second_sd2, title=\"second_sd2\")\n"
   ]
  },
  {
   "cell_type": "code",
   "execution_count": 28,
   "metadata": {},
   "outputs": [
    {
     "ename": "NameError",
     "evalue": "name 'second_sd1_to_model' is not defined",
     "output_type": "error",
     "traceback": [
      "\u001b[1;31m---------------------------------------------------------------------------\u001b[0m",
      "\u001b[1;31mNameError\u001b[0m                                 Traceback (most recent call last)",
      "Cell \u001b[1;32mIn[28], line 2\u001b[0m\n\u001b[0;32m      1\u001b[0m \u001b[38;5;66;03m# Extract features for both images\u001b[39;00m\n\u001b[1;32m----> 2\u001b[0m first_feats \u001b[38;5;241m=\u001b[39m extract_features(simclr_model, \u001b[43msecond_sd1_to_model\u001b[49m)\n\u001b[0;32m      3\u001b[0m second_feats \u001b[38;5;241m=\u001b[39m extract_features(simclr_model, second_sd2_to_model)\n\u001b[0;32m      4\u001b[0m \u001b[38;5;28mprint\u001b[39m(first_image_feats\u001b[38;5;241m.\u001b[39mshape)\n",
      "\u001b[1;31mNameError\u001b[0m: name 'second_sd1_to_model' is not defined"
     ]
    }
   ],
   "source": [
    "# Extract features for both images\n",
    "first_feats = extract_features(simclr_model, second_sd1_to_model)\n",
    "second_feats = extract_features(simclr_model, second_sd2_to_model)\n",
    "print(first_image_feats.shape)\n",
    "print(second_image_feats.shape)"
   ]
  },
  {
   "cell_type": "code",
   "execution_count": 53,
   "metadata": {},
   "outputs": [
    {
     "name": "stdout",
     "output_type": "stream",
     "text": [
      "Cosine similarity between features: 0.29428642988204956\n"
     ]
    }
   ],
   "source": [
    "# Cosine new data only resize\n",
    "cosine_similarity = nn.functional.cosine_similarity(first_feats, second_feats, dim=1)\n",
    "print(f\"Cosine similarity between features: {cosine_similarity.item()}\")"
   ]
  },
  {
   "cell_type": "code",
   "execution_count": 38,
   "metadata": {},
   "outputs": [
    {
     "name": "stdout",
     "output_type": "stream",
     "text": [
      "Original Shape: torch.Size([3, 96, 96])\n",
      "Transformed Shape: torch.Size([3, 96, 96])\n"
     ]
    }
   ],
   "source": [
    "p = r'C:\\Users\\k54739\\Bibi_new_thesis\\thesis\\day7_day10\\sd_ds\\single_dose\\RBT 01.04_gant61\\After Day10\\GANT61\\B08-T01.tiff'\n",
    "image = tiff.imread(p)\n",
    "\n",
    "# Normalize the image to the range [0, 1] and convert it to a PyTorch tensor\n",
    "image = image.astype(np.float32) / 65535.0  # Assuming 16-bit TIFF image\n",
    "image = torch.tensor(image, dtype=torch.float32)\n",
    "image = TF.resize(image, (96, 96))\n",
    "\n",
    "# Add channel dimension if it's a grayscale image (H, W -> 1, H, W)\n",
    "if len(image.shape) == 2:  # Grayscale image\n",
    "    image = image.unsqueeze(0)\n",
    "\n",
    "# Define transformations\n",
    "data_transforms = transforms.Compose([\n",
    "    transforms.RandomRotation(degrees=[90, 90]), \n",
    "    #transforms.RandomHorizontalFlip(p=1),  # Randomly flip horizontally\n",
    "    transforms.RandomVerticalFlip(p=1),   # Randomly flip vertically\n",
    "    #transforms.RandomRotation(degrees=(360))  # Randomly rotate between 0 to 360 degrees\n",
    "])\n",
    "\n",
    "# Apply the transformations\n",
    "transformed_image = data_transforms(image)\n",
    "\n",
    "# For visualization or saving, you may need to convert back to NumPy\n",
    "transformed_image_np = transformed_image.squeeze(0).numpy()  # Remove channel dim if grayscale\n",
    "\n",
    "# Print or display the transformed image\n",
    "print(f\"Original Shape: {image.shape}\")\n",
    "print(f\"Transformed Shape: {transformed_image.shape}\")\n"
   ]
  },
  {
   "cell_type": "code",
   "execution_count": 39,
   "metadata": {},
   "outputs": [
    {
     "data": {
      "image/png": "[encoded data removed]",
      "text/plain": [
       "<Figure size 600x600 with 1 Axes>"
      ]
     },
     "metadata": {},
     "output_type": "display_data"
    }
   ],
   "source": [
    "\n",
    "# Transpose the image from (C, H, W) -> (H, W, C)\n",
    "transformed_image_np = transformed_image_np.transpose(1, 2, 0)\n",
    "\n",
    "# Visualize the image\n",
    "plt.figure(figsize=(6, 6))\n",
    "plt.imshow(transformed_image_np)\n",
    "plt.title(\"Transformed Image\")\n",
    "plt.axis(\"off\")\n",
    "plt.show()"
   ]
  },
  {
   "cell_type": "code",
   "execution_count": 40,
   "metadata": {},
   "outputs": [
    {
     "name": "stdout",
     "output_type": "stream",
     "text": [
      "torch.Size([1, 3, 96, 96])\n"
     ]
    }
   ],
   "source": [
    "transformed_image.shape\n",
    "pre_transformed_image = transformed_image.unsqueeze(0)\n",
    "print(pre_transformed_image.shape)"
   ]
  },
  {
   "cell_type": "code",
   "execution_count": 44,
   "metadata": {},
   "outputs": [
    {
     "name": "stdout",
     "output_type": "stream",
     "text": [
      "torch.Size([1, 512])\n",
      "torch.Size([1, 512])\n"
     ]
    }
   ],
   "source": [
    "transformed_image_feats = extract_features(simclr_model, pre_transformed_image)\n",
    "first_feats = extract_features(simclr_model, second_sd1_to_model)\n",
    "print(transformed_image_feats.shape)\n",
    "print(first_feats.shape)"
   ]
  },
  {
   "cell_type": "code",
   "execution_count": 45,
   "metadata": {},
   "outputs": [
    {
     "name": "stdout",
     "output_type": "stream",
     "text": [
      "Cosine similarity between features: 0.28209739923477173\n"
     ]
    }
   ],
   "source": [
    "# Cosine new data only resize\n",
    "cosine_similarity = nn.functional.cosine_similarity(first_feats, transformed_image_feats, dim=1)\n",
    "print(f\"Cosine similarity between features: {cosine_similarity.item()}\")"
   ]
  },
  {
   "cell_type": "code",
   "execution_count": null,
   "metadata": {},
   "outputs": [],
   "source": [
    "exploded first"
   ]
  },
  {
   "cell_type": "code",
   "execution_count": 54,
   "metadata": {},
   "outputs": [
    {
     "name": "stdout",
     "output_type": "stream",
     "text": [
      "torch.Size([3, 96, 96])\n",
      "torch.Size([1, 3, 96, 96])\n"
     ]
    }
   ],
   "source": [
    "path_of_image = r'C:\\Users\\k54739\\Bibi_new_thesis\\thesis\\day7_day10\\exploded40\\day7\\ds_1b_gp9_C7.tiff'\n",
    "first_ed1,first_ed1_to_model = Preprocess_Image(path_of_image)"
   ]
  },
  {
   "cell_type": "code",
   "execution_count": 55,
   "metadata": {},
   "outputs": [
    {
     "data": {
      "image/png": "[encoded data removed]",
      "text/plain": [
       "<Figure size 500x500 with 1 Axes>"
      ]
     },
     "metadata": {},
     "output_type": "display_data"
    }
   ],
   "source": [
    "\n",
    "# Example usage\n",
    "# Assuming `first_image` is a torch.Tensor with shape (C, H, W)\n",
    "display_image(first_ed1, title=\"First Image\")\n"
   ]
  },
  {
   "cell_type": "code",
   "execution_count": 56,
   "metadata": {},
   "outputs": [
    {
     "name": "stdout",
     "output_type": "stream",
     "text": [
      "torch.Size([3, 96, 96])\n",
      "torch.Size([1, 3, 96, 96])\n"
     ]
    }
   ],
   "source": [
    "path_of_image = r'C:\\Users\\k54739\\Bibi_new_thesis\\thesis\\day7_day10\\exploded40\\day10\\ds_1b_gp9_C7.tiff'\n",
    "first_ed2,first_ed2_to_model = Preprocess_Image(path_of_image)"
   ]
  },
  {
   "cell_type": "code",
   "execution_count": 58,
   "metadata": {},
   "outputs": [
    {
     "data": {
      "image/png": "[encoded data removed]",
      "text/plain": [
       "<Figure size 500x500 with 1 Axes>"
      ]
     },
     "metadata": {},
     "output_type": "display_data"
    }
   ],
   "source": [
    "display_image(first_ed2, title=\"second_image\")"
   ]
  },
  {
   "cell_type": "code",
   "execution_count": 59,
   "metadata": {},
   "outputs": [
    {
     "name": "stdout",
     "output_type": "stream",
     "text": [
      "torch.Size([1, 512])\n",
      "torch.Size([1, 512])\n"
     ]
    }
   ],
   "source": [
    "# Extract features for both images\n",
    "first_image_feats = extract_features(simclr_model, first_ed1_to_model)\n",
    "second_image_feats = extract_features(simclr_model, first_ed2_to_model)\n",
    "print(first_image_feats.shape)\n",
    "print(second_image_feats.shape)"
   ]
  },
  {
   "cell_type": "code",
   "execution_count": 60,
   "metadata": {},
   "outputs": [
    {
     "name": "stdout",
     "output_type": "stream",
     "text": [
      "Cosine similarity between features: 0.27455416321754456\n"
     ]
    }
   ],
   "source": [
    "# Cosine new data only resize\n",
    "cosine_similarity = nn.functional.cosine_similarity(first_image_feats, second_image_feats, dim=1)\n",
    "print(f\"Cosine similarity between features: {cosine_similarity.item()}\")"
   ]
  },
  {
   "cell_type": "code",
   "execution_count": null,
   "metadata": {},
   "outputs": [],
   "source": [
    "#second exploded d1 and d2"
   ]
  },
  {
   "cell_type": "code",
   "execution_count": 61,
   "metadata": {},
   "outputs": [
    {
     "name": "stdout",
     "output_type": "stream",
     "text": [
      "torch.Size([3, 96, 96])\n",
      "torch.Size([1, 3, 96, 96])\n"
     ]
    }
   ],
   "source": [
    "path_of_image = r'C:\\Users\\k54739\\Bibi_new_thesis\\thesis\\day7_day10\\exploded40\\day7\\ds_1b_gp9_C8.tiff'\n",
    "second_ed1,second_ed1_to_model = Preprocess_Image(path_of_image)"
   ]
  },
  {
   "cell_type": "code",
   "execution_count": 63,
   "metadata": {},
   "outputs": [
    {
     "data": {
      "image/png": "[encoded data removed]",
      "text/plain": [
       "<Figure size 500x500 with 1 Axes>"
      ]
     },
     "metadata": {},
     "output_type": "display_data"
    }
   ],
   "source": [
    "# Assuming `first_image` is a torch.Tensor with shape (C, H, W)\n",
    "display_image(second_ed1, title=\"second_ed1\")\n"
   ]
  },
  {
   "cell_type": "code",
   "execution_count": 64,
   "metadata": {},
   "outputs": [
    {
     "name": "stdout",
     "output_type": "stream",
     "text": [
      "torch.Size([3, 96, 96])\n",
      "torch.Size([1, 3, 96, 96])\n"
     ]
    }
   ],
   "source": [
    "path_of_image = r'C:\\Users\\k54739\\Bibi_new_thesis\\thesis\\day7_day10\\exploded40\\day10\\ds_1b_gp9_C8.tiff'\n",
    "second_ed2,second_ed2_to_model = Preprocess_Image(path_of_image)"
   ]
  },
  {
   "cell_type": "code",
   "execution_count": 65,
   "metadata": {},
   "outputs": [
    {
     "data": {
      "image/png": "[encoded data removed]",
      "text/plain": [
       "<Figure size 500x500 with 1 Axes>"
      ]
     },
     "metadata": {},
     "output_type": "display_data"
    }
   ],
   "source": [
    "# Assuming `first_image` is a torch.Tensor with shape (C, H, W)\n",
    "display_image(second_ed2, title=\"second_ed1\")\n"
   ]
  },
  {
   "cell_type": "code",
   "execution_count": 66,
   "metadata": {},
   "outputs": [
    {
     "name": "stdout",
     "output_type": "stream",
     "text": [
      "torch.Size([1, 512])\n",
      "torch.Size([1, 512])\n"
     ]
    }
   ],
   "source": [
    "# Extract features for both images\n",
    "first_image_feats = extract_features(simclr_model, second_ed1_to_model)\n",
    "second_image_feats = extract_features(simclr_model, second_ed2_to_model)\n",
    "print(first_image_feats.shape)\n",
    "print(second_image_feats.shape)"
   ]
  },
  {
   "cell_type": "code",
   "execution_count": 67,
   "metadata": {},
   "outputs": [
    {
     "name": "stdout",
     "output_type": "stream",
     "text": [
      "Cosine similarity between features: 0.2791292369365692\n"
     ]
    }
   ],
   "source": [
    "# Cosine new data only resize\n",
    "cosine_similarity = nn.functional.cosine_similarity(first_image_feats, second_image_feats, dim=1)\n",
    "print(f\"Cosine similarity between features: {cosine_similarity.item()}\")"
   ]
  },
  {
   "cell_type": "code",
   "execution_count": null,
   "metadata": {},
   "outputs": [],
   "source": [
    "#less exploded\n",
    "first"
   ]
  },
  {
   "cell_type": "code",
   "execution_count": 68,
   "metadata": {},
   "outputs": [
    {
     "name": "stdout",
     "output_type": "stream",
     "text": [
      "torch.Size([3, 96, 96])\n",
      "torch.Size([1, 3, 96, 96])\n"
     ]
    }
   ],
   "source": [
    "path_of_image = r'C:\\Users\\k54739\\Bibi_new_thesis\\thesis\\day7_day10\\exploded40\\day7\\ds_6.2_gp9_C09-T01.tiff'\n",
    "first_led1,first_led1_to_model = Preprocess_Image(path_of_image)"
   ]
  },
  {
   "cell_type": "code",
   "execution_count": 69,
   "metadata": {},
   "outputs": [
    {
     "data": {
      "image/png": "[encoded data removed]",
      "text/plain": [
       "<Figure size 500x500 with 1 Axes>"
      ]
     },
     "metadata": {},
     "output_type": "display_data"
    }
   ],
   "source": [
    "\n",
    "# Example usage\n",
    "# Assuming `first_image` is a torch.Tensor with shape (C, H, W)\n",
    "display_image(first_led1, title=\"First Image\")\n"
   ]
  },
  {
   "cell_type": "code",
   "execution_count": 70,
   "metadata": {},
   "outputs": [
    {
     "name": "stdout",
     "output_type": "stream",
     "text": [
      "torch.Size([3, 96, 96])\n",
      "torch.Size([1, 3, 96, 96])\n"
     ]
    }
   ],
   "source": [
    "path_of_image = r'C:\\Users\\k54739\\Bibi_new_thesis\\thesis\\day7_day10\\exploded40\\day10\\ds_6.2_gp9_C09-T01.tiff'\n",
    "first_led2,first_led2_to_model = Preprocess_Image(path_of_image)"
   ]
  },
  {
   "cell_type": "code",
   "execution_count": 71,
   "metadata": {},
   "outputs": [
    {
     "data": {
      "image/png": "[encoded data removed]",
      "text/plain": [
       "<Figure size 500x500 with 1 Axes>"
      ]
     },
     "metadata": {},
     "output_type": "display_data"
    }
   ],
   "source": [
    "display_image(first_led2, title=\"second_image\")"
   ]
  },
  {
   "cell_type": "code",
   "execution_count": 72,
   "metadata": {},
   "outputs": [
    {
     "name": "stdout",
     "output_type": "stream",
     "text": [
      "torch.Size([1, 512])\n",
      "torch.Size([1, 512])\n"
     ]
    }
   ],
   "source": [
    "# Extract features for both images\n",
    "first_image_feats = extract_features(simclr_model, first_led1_to_model)\n",
    "second_image_feats = extract_features(simclr_model, first_led2_to_model)\n",
    "print(first_image_feats.shape)\n",
    "print(second_image_feats.shape)"
   ]
  },
  {
   "cell_type": "code",
   "execution_count": 73,
   "metadata": {},
   "outputs": [
    {
     "name": "stdout",
     "output_type": "stream",
     "text": [
      "Cosine similarity between features: 0.371756374835968\n"
     ]
    }
   ],
   "source": [
    "# Cosine new data only resize\n",
    "cosine_similarity = nn.functional.cosine_similarity(first_image_feats, second_image_feats, dim=1)\n",
    "print(f\"Cosine similarity between features: {cosine_similarity.item()}\")"
   ]
  },
  {
   "cell_type": "code",
   "execution_count": null,
   "metadata": {},
   "outputs": [],
   "source": [
    "#second less exploded d1 and d2"
   ]
  },
  {
   "cell_type": "code",
   "execution_count": 81,
   "metadata": {},
   "outputs": [
    {
     "name": "stdout",
     "output_type": "stream",
     "text": [
      "torch.Size([3, 96, 96])\n",
      "torch.Size([1, 3, 96, 96])\n"
     ]
    }
   ],
   "source": [
    "path_of_image = r'C:\\Users\\k54739\\Bibi_new_thesis\\thesis\\day7_day10\\exploded40\\day7\\ds_6.2_gp9_C10-T01.tiff'\n",
    "second_led1,second_led1_to_model = Preprocess_Image(path_of_image)"
   ]
  },
  {
   "cell_type": "code",
   "execution_count": 82,
   "metadata": {},
   "outputs": [
    {
     "data": {
      "image/png": "[encoded data removed]",
      "text/plain": [
       "<Figure size 500x500 with 1 Axes>"
      ]
     },
     "metadata": {},
     "output_type": "display_data"
    }
   ],
   "source": [
    "# Assuming `first_image` is a torch.Tensor with shape (C, H, W)\n",
    "display_image(second_led1, title=\"second_led1\")\n"
   ]
  },
  {
   "cell_type": "code",
   "execution_count": 83,
   "metadata": {},
   "outputs": [
    {
     "name": "stdout",
     "output_type": "stream",
     "text": [
      "torch.Size([3, 96, 96])\n",
      "torch.Size([1, 3, 96, 96])\n"
     ]
    }
   ],
   "source": [
    "path_of_image = r'C:\\Users\\k54739\\Bibi_new_thesis\\thesis\\day7_day10\\exploded40\\day10\\ds_6.2_gp9_C10-T01.tiff'\n",
    "second_led2,second_led2_to_model = Preprocess_Image(path_of_image)"
   ]
  },
  {
   "cell_type": "code",
   "execution_count": 84,
   "metadata": {},
   "outputs": [
    {
     "data": {
      "image/png": "[encoded data removed]",
      "text/plain": [
       "<Figure size 500x500 with 1 Axes>"
      ]
     },
     "metadata": {},
     "output_type": "display_data"
    }
   ],
   "source": [
    "# Assuming `first_image` is a torch.Tensor with shape (C, H, W)\n",
    "display_image(second_led2, title=\"second_ed1\")\n"
   ]
  },
  {
   "cell_type": "code",
   "execution_count": 85,
   "metadata": {},
   "outputs": [
    {
     "name": "stdout",
     "output_type": "stream",
     "text": [
      "torch.Size([1, 512])\n",
      "torch.Size([1, 512])\n"
     ]
    }
   ],
   "source": [
    "# Extract features for both images\n",
    "first_image_feats = extract_features(simclr_model, second_led1_to_model)\n",
    "second_image_feats = extract_features(simclr_model, second_led2_to_model)\n",
    "print(first_image_feats.shape)\n",
    "print(second_image_feats.shape)"
   ]
  },
  {
   "cell_type": "code",
   "execution_count": 86,
   "metadata": {},
   "outputs": [
    {
     "name": "stdout",
     "output_type": "stream",
     "text": [
      "Cosine similarity between features: 0.31274306774139404\n"
     ]
    }
   ],
   "source": [
    "# Cosine new data only resize\n",
    "cosine_similarity = nn.functional.cosine_similarity(first_image_feats, second_image_feats, dim=1)\n",
    "print(f\"Cosine similarity between features: {cosine_similarity.item()}\")"
   ]
  },
  {
   "cell_type": "code",
   "execution_count": null,
   "metadata": {},
   "outputs": [],
   "source": []
  },
  {
   "cell_type": "code",
   "execution_count": null,
   "metadata": {},
   "outputs": [],
   "source": []
  },
  {
   "cell_type": "markdown",
   "metadata": {},
   "source": [
    "Inference after projection head"
   ]
  },
  {
   "cell_type": "code",
   "execution_count": 23,
   "metadata": {},
   "outputs": [],
   "source": [
    "@torch.no_grad()\n",
    "def features_after_projection(model, image_tensor):\n",
    "    # prepare model\n",
    "    network = deepcopy(model.convnet)\n",
    "    #network.fc = nn.Identity()  # Removing projection head g(.)\n",
    "    network.eval()\n",
    "    network.to(device)\n",
    "    \n",
    "    # Move image tensor to device\n",
    "    image_tensor = image_tensor.to(device)\n",
    "    \n",
    "    # Extract features\n",
    "    features = network(image_tensor)\n",
    "    return features"
   ]
  },
  {
   "cell_type": "code",
   "execution_count": 24,
   "metadata": {},
   "outputs": [
    {
     "name": "stdout",
     "output_type": "stream",
     "text": [
      "torch.Size([1, 20])\n",
      "torch.Size([1, 20])\n"
     ]
    }
   ],
   "source": [
    "# Extract features for both images\n",
    "first_image_feats_after = features_after_projection(simclr_model, prep_first_image)\n",
    "second_image_feats_after = features_after_projection(simclr_model, prep_second_image)\n",
    "print(first_image_feats_after.shape)\n",
    "print(second_image_feats_after.shape)"
   ]
  },
  {
   "cell_type": "code",
   "execution_count": 25,
   "metadata": {},
   "outputs": [
    {
     "name": "stdout",
     "output_type": "stream",
     "text": [
      "Cosine similarity between features: 0.9717055559158325\n"
     ]
    }
   ],
   "source": [
    "# Cosine resize only newdata\n",
    "cosine_similarity = nn.functional.cosine_similarity(first_image_feats_after, second_image_feats_after, dim=1)\n",
    "print(f\"Cosine similarity between features: {cosine_similarity.item()}\")"
   ]
  },
  {
   "cell_type": "code",
   "execution_count": 27,
   "metadata": {},
   "outputs": [
    {
     "name": "stdout",
     "output_type": "stream",
     "text": [
      "Cosine similarity between features: 0.8507535457611084\n"
     ]
    }
   ],
   "source": [
    "# Cosine crop old\n",
    "cosine_similarity = nn.functional.cosine_similarity(first_image_feats_after, second_image_feats_after, dim=1)\n",
    "print(f\"Cosine similarity between features: {cosine_similarity.item()}\")"
   ]
  },
  {
   "cell_type": "markdown",
   "metadata": {},
   "source": [
    "as expected after projection head cosine similarity is higher this leads to the question that maybe for ranking images with time series, this after projection maybe better option."
   ]
  },
  {
   "cell_type": "code",
   "execution_count": 26,
   "metadata": {},
   "outputs": [
    {
     "name": "stdout",
     "output_type": "stream",
     "text": [
      "torch.Size([1, 20])\n"
     ]
    }
   ],
   "source": [
    "untreated_image_feats_after = features_after_projection(simclr_model, prep_untreated_image)\n",
    "print(untreated_image_feats_after.shape)"
   ]
  },
  {
   "cell_type": "code",
   "execution_count": 27,
   "metadata": {},
   "outputs": [
    {
     "name": "stdout",
     "output_type": "stream",
     "text": [
      "Cosine similarity between features: -0.49414071440696716\n"
     ]
    }
   ],
   "source": [
    "# Cosine resize only new data\n",
    "cosine_similarity = nn.functional.cosine_similarity(first_image_feats_after, untreated_image_feats_after, dim=1)\n",
    "print(f\"Cosine similarity between features: {cosine_similarity.item()}\")"
   ]
  },
  {
   "cell_type": "code",
   "execution_count": 29,
   "metadata": {},
   "outputs": [
    {
     "name": "stdout",
     "output_type": "stream",
     "text": [
      "Cosine similarity between features: 0.18768171966075897\n"
     ]
    }
   ],
   "source": [
    "# Cosine old crop\n",
    "cosine_similarity = nn.functional.cosine_similarity(first_image_feats_after, untreated_image_feats_after, dim=1)\n",
    "print(f\"Cosine similarity between features: {cosine_similarity.item()}\")"
   ]
  },
  {
   "cell_type": "markdown",
   "metadata": {},
   "source": [
    "as expected after projection head cosine similarity is lower for different class images this leads to the question that maybe for ranking images with time series, this after projection maybe better option."
   ]
  },
  {
   "cell_type": "markdown",
   "metadata": {},
   "source": [
    "Orig images (without simclr)"
   ]
  },
  {
   "cell_type": "code",
   "execution_count": 48,
   "metadata": {},
   "outputs": [
    {
     "name": "stdout",
     "output_type": "stream",
     "text": [
      "tensor([[[0.5470, 0.5567, 0.5606,  ..., 0.5938, 0.5943, 0.5934],\n",
      "         [0.5529, 0.5582, 0.5605,  ..., 0.5936, 0.5938, 0.5925],\n",
      "         [0.5568, 0.5596, 0.5608,  ..., 0.5942, 0.5940, 0.5944],\n",
      "         ...,\n",
      "         [0.5541, 0.5543, 0.5565,  ..., 0.5892, 0.5886, 0.5892],\n",
      "         [0.5542, 0.5552, 0.5562,  ..., 0.5879, 0.5885, 0.5889],\n",
      "         [0.5540, 0.5557, 0.5556,  ..., 0.5879, 0.5893, 0.5899]],\n",
      "\n",
      "        [[0.5493, 0.5567, 0.5601,  ..., 0.5925, 0.5925, 0.5928],\n",
      "         [0.5534, 0.5577, 0.5596,  ..., 0.5928, 0.5925, 0.5917],\n",
      "         [0.5566, 0.5582, 0.5598,  ..., 0.5935, 0.5934, 0.5935],\n",
      "         ...,\n",
      "         [0.5527, 0.5535, 0.5554,  ..., 0.5882, 0.5880, 0.5887],\n",
      "         [0.5528, 0.5538, 0.5552,  ..., 0.5873, 0.5875, 0.5885],\n",
      "         [0.5527, 0.5552, 0.5550,  ..., 0.5877, 0.5885, 0.5891]],\n",
      "\n",
      "        [[0.5513, 0.5575, 0.5597,  ..., 0.5920, 0.5915, 0.5917],\n",
      "         [0.5549, 0.5581, 0.5595,  ..., 0.5924, 0.5924, 0.5921],\n",
      "         [0.5574, 0.5582, 0.5601,  ..., 0.5923, 0.5935, 0.5934],\n",
      "         ...,\n",
      "         [0.5522, 0.5533, 0.5554,  ..., 0.5877, 0.5882, 0.5894],\n",
      "         [0.5522, 0.5532, 0.5551,  ..., 0.5869, 0.5875, 0.5885],\n",
      "         [0.5520, 0.5536, 0.5543,  ..., 0.5878, 0.5888, 0.5891]]])\n"
     ]
    },
    {
     "data": {
      "text/plain": [
       "torch.Size([27648])"
      ]
     },
     "execution_count": 48,
     "metadata": {},
     "output_type": "execute_result"
    }
   ],
   "source": [
    "print(first_image)\n",
    "first_image.view(-1).shape\n"
   ]
  },
  {
   "cell_type": "code",
   "execution_count": 49,
   "metadata": {},
   "outputs": [
    {
     "name": "stdout",
     "output_type": "stream",
     "text": [
      "tensor([[[0.5667, 0.5681, 0.5692,  ..., 0.6117, 0.6131, 0.6123],\n",
      "         [0.5668, 0.5676, 0.5689,  ..., 0.6129, 0.6132, 0.6120],\n",
      "         [0.5672, 0.5673, 0.5695,  ..., 0.6136, 0.6136, 0.6136],\n",
      "         ...,\n",
      "         [0.5707, 0.5719, 0.5733,  ..., 0.6065, 0.6071, 0.6066],\n",
      "         [0.5709, 0.5718, 0.5733,  ..., 0.6054, 0.6066, 0.6055],\n",
      "         [0.5712, 0.5710, 0.5731,  ..., 0.6048, 0.6062, 0.6054]],\n",
      "\n",
      "        [[0.5658, 0.5665, 0.5675,  ..., 0.6108, 0.6114, 0.6110],\n",
      "         [0.5656, 0.5661, 0.5677,  ..., 0.6119, 0.6123, 0.6115],\n",
      "         [0.5656, 0.5665, 0.5685,  ..., 0.6126, 0.6120, 0.6122],\n",
      "         ...,\n",
      "         [0.5698, 0.5702, 0.5724,  ..., 0.6060, 0.6059, 0.6056],\n",
      "         [0.5689, 0.5699, 0.5719,  ..., 0.6044, 0.6053, 0.6034],\n",
      "         [0.5692, 0.5697, 0.5727,  ..., 0.6040, 0.6049, 0.6042]],\n",
      "\n",
      "        [[0.5648, 0.5659, 0.5666,  ..., 0.6107, 0.6111, 0.6106],\n",
      "         [0.5654, 0.5659, 0.5673,  ..., 0.6115, 0.6118, 0.6110],\n",
      "         [0.5651, 0.5663, 0.5677,  ..., 0.6125, 0.6118, 0.6117],\n",
      "         ...,\n",
      "         [0.5689, 0.5697, 0.5724,  ..., 0.6052, 0.6055, 0.6053],\n",
      "         [0.5679, 0.5691, 0.5720,  ..., 0.6040, 0.6054, 0.6034],\n",
      "         [0.5674, 0.5694, 0.5719,  ..., 0.6045, 0.6049, 0.6036]]])\n"
     ]
    },
    {
     "data": {
      "text/plain": [
       "torch.Size([27648])"
      ]
     },
     "execution_count": 49,
     "metadata": {},
     "output_type": "execute_result"
    }
   ],
   "source": [
    "print(second_image)\n",
    "second_image.view(-1).shape"
   ]
  },
  {
   "cell_type": "code",
   "execution_count": 40,
   "metadata": {},
   "outputs": [],
   "source": [
    "first_flat = first_image.view(-1)\n",
    "second_flat = second_image.view(-1)"
   ]
  },
  {
   "cell_type": "code",
   "execution_count": 55,
   "metadata": {},
   "outputs": [
    {
     "data": {
      "text/plain": [
       "False"
      ]
     },
     "execution_count": 55,
     "metadata": {},
     "output_type": "execute_result"
    }
   ],
   "source": [
    "first_flat.unsqueeze(0).shape == untreated_flat.unsqueeze(0)"
   ]
  },
  {
   "cell_type": "code",
   "execution_count": 42,
   "metadata": {},
   "outputs": [
    {
     "data": {
      "text/plain": [
       "tensor([0.9914])"
      ]
     },
     "execution_count": 42,
     "metadata": {},
     "output_type": "execute_result"
    }
   ],
   "source": [
    "import torch.nn.functional as F\n",
    "similarity = F.cosine_similarity(first_flat.unsqueeze(0), second_flat.unsqueeze(0))\n",
    "similarity"
   ]
  },
  {
   "cell_type": "code",
   "execution_count": 44,
   "metadata": {},
   "outputs": [],
   "source": [
    "untreated_flat = untreated_image.view(-1)"
   ]
  },
  {
   "cell_type": "code",
   "execution_count": 46,
   "metadata": {},
   "outputs": [
    {
     "data": {
      "text/plain": [
       "tensor([0.9834])"
      ]
     },
     "execution_count": 46,
     "metadata": {},
     "output_type": "execute_result"
    }
   ],
   "source": [
    "similarity = F.cosine_similarity(first_flat.unsqueeze(0), untreated_flat.unsqueeze(0))\n",
    "similarity"
   ]
  },
  {
   "cell_type": "code",
   "execution_count": 50,
   "metadata": {},
   "outputs": [
    {
     "data": {
      "text/plain": [
       "tensor([False, False, False,  ..., False, False, False])"
      ]
     },
     "execution_count": 50,
     "metadata": {},
     "output_type": "execute_result"
    }
   ],
   "source": [
    "first_flat == untreated_flat"
   ]
  },
  {
   "cell_type": "markdown",
   "metadata": {},
   "source": [
    "orig without resizing"
   ]
  },
  {
   "cell_type": "code",
   "execution_count": 60,
   "metadata": {},
   "outputs": [
    {
     "name": "stdout",
     "output_type": "stream",
     "text": [
      "(3, 2054, 2456)\n",
      "(15133872,)\n",
      "Cosine Similarity between the two images: 0.9906225204467773\n"
     ]
    }
   ],
   "source": [
    "import numpy as np\n",
    "import tifffile as tiff\n",
    "from numpy.linalg import norm\n",
    "\n",
    "# Load and normalize both images\n",
    "im1 = tiff.imread(r'C:\\Users\\k54739\\Bibi_new_thesis\\thesis\\Data_supervised\\single_dose\\B07-T01.tiff')\n",
    "im2 = tiff.imread(r'C:\\Users\\k54739\\Bibi_new_thesis\\thesis\\Data_supervised\\single_dose\\B08-T01.tiff')\n",
    "\n",
    "# Ensure each image has 3 layers (channels)\n",
    "if im1.shape[0] != 3 or im2.shape[0] != 3:\n",
    "    raise ValueError(\"Each image must have exactly 3 layers.\")\n",
    "\n",
    "# Normalize the 16-bit images to [0, 1]\n",
    "im1 = im1.astype(np.float32) / 65535.0\n",
    "im2 = im2.astype(np.float32) / 65535.0\n",
    "print(im2.shape)\n",
    "\n",
    "# Flatten the 3D images to 1D vectors\n",
    "im1_flattened = im1.flatten()\n",
    "im2_flattened = im2.flatten()\n",
    "print(im2_flattened.shape)\n",
    "\n",
    "# Calculate cosine similarity\n",
    "cosine_similarity = np.dot(im1_flattened, im2_flattened) / (norm(im1_flattened) * norm(im2_flattened))\n",
    "\n",
    "print(f\"Cosine Similarity between the two images: {cosine_similarity}\")\n"
   ]
  },
  {
   "cell_type": "code",
   "execution_count": 61,
   "metadata": {},
   "outputs": [
    {
     "name": "stdout",
     "output_type": "stream",
     "text": [
      "(3, 2054, 2456)\n",
      "(15133872,)\n",
      "Cosine Similarity between the two images: 0.9821854829788208\n"
     ]
    }
   ],
   "source": [
    "im1 = tiff.imread(r'C:\\Users\\k54739\\Bibi_new_thesis\\thesis\\Data_supervised\\single_dose\\B07-T01.tiff')\n",
    "im2 = tiff.imread(r'C:\\Users\\k54739\\Bibi_new_thesis\\thesis\\Data_supervised\\untreated\\D08-T01.tiff')\n",
    "\n",
    "# Ensure each image has 3 layers (channels)\n",
    "if im1.shape[0] != 3 or im2.shape[0] != 3:\n",
    "    raise ValueError(\"Each image must have exactly 3 layers.\")\n",
    "\n",
    "# Normalize the 16-bit images to [0, 1]\n",
    "im1 = im1.astype(np.float32) / 65535.0\n",
    "im2 = im2.astype(np.float32) / 65535.0\n",
    "print(im2.shape)\n",
    "\n",
    "# Flatten the 3D images to 1D vectors\n",
    "im1_flattened = im1.flatten()\n",
    "im2_flattened = im2.flatten()\n",
    "print(im2_flattened.shape)\n",
    "\n",
    "# Calculate cosine similarity\n",
    "cosine_similarity = np.dot(im1_flattened, im2_flattened) / (norm(im1_flattened) * norm(im2_flattened))\n",
    "\n",
    "print(f\"Cosine Similarity between the two images: {cosine_similarity}\")"
   ]
  },
  {
   "cell_type": "code",
   "execution_count": 62,
   "metadata": {},
   "outputs": [
    {
     "ename": "SyntaxError",
     "evalue": "invalid syntax (2322824841.py, line 2)",
     "output_type": "error",
     "traceback": [
      "\u001b[1;36m  Cell \u001b[1;32mIn[62], line 2\u001b[1;36m\u001b[0m\n\u001b[1;33m    Mach Kein Sinn!\u001b[0m\n\u001b[1;37m         ^\u001b[0m\n\u001b[1;31mSyntaxError\u001b[0m\u001b[1;31m:\u001b[0m invalid syntax\n"
     ]
    }
   ],
   "source": [
    "WAS IST DAS?\n",
    "Mach kein Sinn!"
   ]
  },
  {
   "cell_type": "code",
   "execution_count": 74,
   "metadata": {},
   "outputs": [],
   "source": [
    "img1 = tiff.imread(r'C:\\Users\\k54739\\Bibi_new_thesis\\thesis\\Data_supervised\\single_dose\\B07-T01.tiff')\n",
    "img2 = tiff.imread(r'C:\\Users\\k54739\\Bibi_new_thesis\\thesis\\Data_supervised\\single_dose\\B08-T01.tiff')\n",
    "img3 = tiff.imread(r'C:\\Users\\k54739\\Bibi_new_thesis\\thesis\\Data_supervised\\untreated\\D08-T01.tiff')\n",
    "img1_flattened = img1.flatten()\n",
    "img2_flattened = img2.flatten()\n",
    "img3_flattened = img3.flatten()"
   ]
  },
  {
   "cell_type": "code",
   "execution_count": 72,
   "metadata": {},
   "outputs": [
    {
     "name": "stdout",
     "output_type": "stream",
     "text": [
      "Cosine Similarity between the two images: 3.129988785460241e-12\n"
     ]
    }
   ],
   "source": [
    "cosine_similarity = np.dot(img1_flattened, img2_flattened) / (norm(img1_flattened) * norm(img2_flattened))\n",
    "print(f\"Cosine Similarity between the two images: {cosine_similarity}\")"
   ]
  },
  {
   "cell_type": "code",
   "execution_count": 77,
   "metadata": {},
   "outputs": [
    {
     "name": "stdout",
     "output_type": "stream",
     "text": [
      "Cosine Similarity between the two images: 1.0155029384685969e-13\n"
     ]
    }
   ],
   "source": [
    "cosine_similarity = np.dot(img1_flattened, img3_flattened) / (norm(img1_flattened) * norm(img3_flattened))\n",
    "print(f\"Cosine Similarity between the two images: {cosine_similarity}\")"
   ]
  },
  {
   "cell_type": "code",
   "execution_count": 69,
   "metadata": {},
   "outputs": [
    {
     "data": {
      "text/plain": [
       "array([[[34168, 35304, 34600, ..., 39241, 39289, 39033],\n",
       "        [34168, 35224, 34568, ..., 39225, 38569, 38761],\n",
       "        [34280, 34984, 35048, ..., 38249, 38249, 39817],\n",
       "        ...,\n",
       "        [36792, 35864, 36200, ..., 38009, 36376, 38729],\n",
       "        [36889, 36504, 36504, ..., 40025, 38297, 38041],\n",
       "        [36280, 37209, 35656, ..., 37753, 37849, 39897]],\n",
       "\n",
       "       [[36328, 35848, 34584, ..., 39785, 39609, 38585],\n",
       "        [35032, 34168, 35944, ..., 39609, 39673, 38201],\n",
       "        [36392, 35608, 35112, ..., 36953, 39433, 38585],\n",
       "        ...,\n",
       "        [35736, 35528, 35240, ..., 39017, 37369, 39017],\n",
       "        [35144, 35464, 36937, ..., 38697, 38921, 38569],\n",
       "        [35976, 35752, 35928, ..., 39513, 38921, 37897]],\n",
       "\n",
       "       [[36680, 35688, 36104, ..., 39977, 39001, 38137],\n",
       "        [35208, 35848, 35480, ..., 39401, 38681, 37321],\n",
       "        [35240, 35272, 34856, ..., 37705, 39673, 38265],\n",
       "        ...,\n",
       "        [35992, 35560, 34696, ..., 37513, 38393, 38745],\n",
       "        [35496, 34392, 35272, ..., 37929, 38825, 38249],\n",
       "        [35112, 35800, 36728, ..., 38857, 38681, 38345]]], dtype=uint16)"
      ]
     },
     "execution_count": 69,
     "metadata": {},
     "output_type": "execute_result"
    }
   ],
   "source": [
    "img1"
   ]
  },
  {
   "cell_type": "code",
   "execution_count": 76,
   "metadata": {},
   "outputs": [
    {
     "data": {
      "text/plain": [
       "array([[[37577, 37369, 36792, ..., 39769, 41050, 39209],\n",
       "        [37689, 36440, 36873, ..., 39929, 40105, 39881],\n",
       "        [36728, 37337, 36488, ..., 39097, 40521, 40249],\n",
       "        ...,\n",
       "        [37561, 37577, 37449, ..., 38793, 38137, 40297],\n",
       "        [35784, 38121, 37833, ..., 40025, 39689, 39481],\n",
       "        [38345, 37065, 38569, ..., 39561, 39497, 39753]],\n",
       "\n",
       "       [[37321, 37529, 36840, ..., 39881, 39961, 41162],\n",
       "        [36440, 37049, 37049, ..., 40089, 39321, 40889],\n",
       "        [36056, 36136, 36376, ..., 38713, 40009, 39321],\n",
       "        ...,\n",
       "        [36873, 37625, 38121, ..., 39065, 38425, 39737],\n",
       "        [36889, 37625, 36328, ..., 39929, 39801, 39033],\n",
       "        [38233, 37385, 38905, ..., 38953, 38809, 39593]],\n",
       "\n",
       "       [[36969, 36536, 36536, ..., 41098, 41050, 39577],\n",
       "        [36680, 36296, 36728, ..., 40073, 40970, 39929],\n",
       "        [36824, 37353, 37241, ..., 39881, 40249, 40697],\n",
       "        ...,\n",
       "        [37449, 37097, 37145, ..., 39177, 38409, 40233],\n",
       "        [37465, 37993, 37865, ..., 39273, 40105, 37993],\n",
       "        [36937, 36168, 37161, ..., 38377, 39225, 40489]]], dtype=uint16)"
      ]
     },
     "execution_count": 76,
     "metadata": {},
     "output_type": "execute_result"
    }
   ],
   "source": [
    "img2"
   ]
  },
  {
   "cell_type": "code",
   "execution_count": 75,
   "metadata": {},
   "outputs": [
    {
     "data": {
      "text/plain": [
       "array([[[46155, 46875, 44570, ..., 46283, 45947, 44842],\n",
       "        [46987, 46747, 45995, ..., 47003, 47467, 46251],\n",
       "        [45403, 46635, 45915, ..., 45387, 46059, 46059],\n",
       "        ...,\n",
       "        [45675, 46555, 44666, ..., 45563, 44538, 47003],\n",
       "        [46091, 45563, 45851, ..., 47083, 46811, 45435],\n",
       "        [45131, 45787, 46475, ..., 45995, 45835, 46795]],\n",
       "\n",
       "       [[46891, 45819, 45979, ..., 46299, 46683, 46507],\n",
       "        [45371, 45675, 46315, ..., 46427, 45403, 45307],\n",
       "        [45531, 45307, 45723, ..., 44266, 44858, 45979],\n",
       "        ...,\n",
       "        [45707, 45627, 45819, ..., 44538, 44922, 46667],\n",
       "        [46539, 45611, 45147, ..., 46315, 45755, 45034],\n",
       "        [45179, 45659, 45851, ..., 46779, 46411, 46011]],\n",
       "\n",
       "       [[45531, 46171, 45883, ..., 45915, 45579, 46795],\n",
       "        [46363, 47003, 46331, ..., 46507, 44922, 46507],\n",
       "        [45531, 45515, 46203, ..., 44554, 45467, 45707],\n",
       "        ...,\n",
       "        [45707, 44858, 45451, ..., 45131, 45259, 45691],\n",
       "        [45787, 47019, 44842, ..., 45819, 45307, 44954],\n",
       "        [46459, 46475, 45963, ..., 46139, 45739, 45915]]], dtype=uint16)"
      ]
     },
     "execution_count": 75,
     "metadata": {},
     "output_type": "execute_result"
    }
   ],
   "source": [
    "img3"
   ]
  },
  {
   "cell_type": "markdown",
   "metadata": {},
   "source": [
    "so, if we didn't use simclr and just try to find the cosine similarity between orig images: it doesn't deviate too  much not good."
   ]
  },
  {
   "cell_type": "code",
   "execution_count": 1,
   "metadata": {},
   "outputs": [],
   "source": [
    "import os\n",
    "import numpy as np\n",
    "import torch\n",
    "from torch import nn, optim\n",
    "from torch.utils.data import Dataset, DataLoader, random_split\n",
    "import torchvision\n",
    "from torchvision import transforms\n",
    "\n",
    "import tifffile as tiff\n",
    "import matplotlib.pyplot as plt\n",
    "import time\n",
    "from tqdm import tqdm\n",
    "import random\n",
    "\n",
    "\n",
    "from torchvision.transforms import RandomResizedCrop\n",
    "from torchvision.transforms import functional as Func"
   ]
  },
  {
   "cell_type": "code",
   "execution_count": 2,
   "metadata": {},
   "outputs": [],
   "source": [
    "class SimCLR(nn.Module):\n",
    "    def __init__(self, hidden_dim, lr, temperature, weight_decay):\n",
    "        super().__init__()\n",
    "        self.temperature = temperature\n",
    "        \n",
    "        # Load the pretrained ResNet-18 model\n",
    "        self.convnet = torchvision.models.resnet18(weights='ResNet18_Weights.DEFAULT')\n",
    "        \n",
    "        # Modify the fully connected layer\n",
    "        self.convnet.fc = nn.Sequential(\n",
    "            nn.Linear(self.convnet.fc.in_features, 4 * hidden_dim),  # Linear layer with 4*hidden_dim output\n",
    "            nn.ReLU(inplace=True),\n",
    "            nn.Linear(4 * hidden_dim, 20)  # Output layer with hidden_dim output\n",
    "        )\n",
    "\n",
    "        self.optimizer = optim.AdamW(self.parameters(), lr=lr, weight_decay=weight_decay)\n",
    "        self.lr_scheduler = optim.lr_scheduler.CosineAnnealingLR(self.optimizer, T_max=50, eta_min=lr / 50)\n",
    "\n",
    "    def forward(self, x):\n",
    "        return self.convnet(x)\n",
    "\n",
    "    def info_nce_loss(self, imgs1, imgs2, device):\n",
    "\n",
    "        imgs = torch.cat((imgs1, imgs2), dim=0)  # Concatenate along the batch dimension\n",
    "        imgs = imgs.to(device)  # Move images to the device\n",
    "\n",
    "        # Encode all images\n",
    "        feats = self.forward(imgs)\n",
    "    \n",
    "        # Calculate cosine similarity\n",
    "        cos_sim = nn.functional.cosine_similarity(feats[:, None, :], feats[None, :, :], dim=-1)\n",
    "    \n",
    "        # Mask out cosine similarity to itself\n",
    "        self_mask = torch.eye(cos_sim.shape[0], dtype=torch.bool, device=cos_sim.device)\n",
    "        cos_sim.masked_fill_(self_mask, -9e15)\n",
    "    \n",
    "        # Find positive example -> batch_size//2 away from the original example\n",
    "        pos_mask = self_mask.roll(shifts=cos_sim.shape[0] // 2, dims=0)\n",
    "    \n",
    "        # Normalize similarity scores by temperature\n",
    "        cos_sim = cos_sim / self.temperature\n",
    "\n",
    "        # InfoNCE loss\n",
    "        nll = -cos_sim[pos_mask] + torch.logsumexp(cos_sim, dim=-1)\n",
    "        nll = nll.mean()\n",
    "\n",
    "        # Accuracy calculations\n",
    "        # Create a combination of positive and negative similarities for ranking\n",
    "        comb_sim = torch.cat([cos_sim[pos_mask][:, None],  # Positive example in first position\n",
    "                          cos_sim.masked_fill(pos_mask, -9e15)], dim=-1)\n",
    "    \n",
    "        # Sort and get the ranking position of the positive example\n",
    "        sim_argsort = comb_sim.argsort(dim=-1, descending=True).argmin(dim=-1)\n",
    "    \n",
    "        # Compute accuracy metrics\n",
    "        top1_acc = (sim_argsort == 0).float().mean()  # Top-1 accuracy\n",
    "        top5_acc = (sim_argsort < 5).float().mean()   # Top-5 accuracy\n",
    "        mean_pos = 1 + sim_argsort.float().mean()     # Mean position of the positive example\n",
    "\n",
    "        return nll, top1_acc, top5_acc, mean_pos\n",
    "\n",
    "    def train_epoch(self, train_loader, device):\n",
    "        self.train()\n",
    "        total_loss = 0.0\n",
    "        total_top1_acc = 0.0\n",
    "        total_top5_acc = 0.0\n",
    "        total_mean_pos = 0.0\n",
    "\n",
    "        for batch in tqdm(train_loader, desc=\"Training\", leave=False):\n",
    "            imgs1, imgs2, _ = batch\n",
    "            imgs1, imgs2 = imgs1.to(device), imgs2.to(device)  # Move data to device\n",
    "        \n",
    "            self.optimizer.zero_grad()\n",
    "\n",
    "            # Calculate loss and accuracy metrics\n",
    "            loss, top1_acc, top5_acc, mean_pos = self.info_nce_loss(imgs1, imgs2, device)\n",
    "\n",
    "            loss.backward()\n",
    "            self.optimizer.step()\n",
    "            self.lr_scheduler.step()\n",
    "\n",
    "            # Accumulate metrics\n",
    "            total_loss += loss.item()\n",
    "            total_top1_acc += top1_acc.item()\n",
    "            total_top5_acc += top5_acc.item()\n",
    "            total_mean_pos += mean_pos.item()\n",
    "\n",
    "        avg_loss = total_loss / len(train_loader)\n",
    "        avg_top1_acc = total_top1_acc / len(train_loader)\n",
    "        avg_top5_acc = total_top5_acc / len(train_loader)\n",
    "        avg_mean_pos = total_mean_pos / len(train_loader)\n",
    "\n",
    "        return avg_loss, avg_top1_acc, avg_top5_acc, avg_mean_pos\n",
    "\n",
    "    def validate_epoch(self, val_loader, device):\n",
    "        self.eval()\n",
    "        total_loss = 0.0\n",
    "        total_top1_acc = 0.0\n",
    "        total_top5_acc = 0.0\n",
    "        total_mean_pos = 0.0\n",
    "\n",
    "        with torch.no_grad():\n",
    "            for batch in tqdm(val_loader, desc=\"Validating\", leave=False):\n",
    "                imgs1, imgs2, _ = batch\n",
    "                imgs1, imgs2 = imgs1.to(device), imgs2.to(device)  # Move data to device\n",
    "\n",
    "                # Calculate loss and accuracy metrics\n",
    "                loss, top1_acc, top5_acc, mean_pos = self.info_nce_loss(imgs1, imgs2, device)\n",
    "\n",
    "                # Accumulate metrics\n",
    "                total_loss += loss.item()\n",
    "                total_top1_acc += top1_acc.item()\n",
    "                total_top5_acc += top5_acc.item()\n",
    "                total_mean_pos += mean_pos.item()\n",
    "\n",
    "        avg_loss = total_loss / len(val_loader)\n",
    "        avg_top1_acc = total_top1_acc / len(val_loader)\n",
    "        avg_top5_acc = total_top5_acc / len(val_loader)\n",
    "        avg_mean_pos = total_mean_pos / len(val_loader)\n",
    "\n",
    "        return avg_loss, avg_top1_acc, avg_top5_acc, avg_mean_pos"
   ]
  },
  {
   "cell_type": "code",
   "execution_count": 3,
   "metadata": {},
   "outputs": [
    {
     "name": "stderr",
     "output_type": "stream",
     "text": [
      "C:\\Users\\k54739\\AppData\\Local\\Temp\\ipykernel_10104\\485184972.py:2: FutureWarning: You are using `torch.load` with `weights_only=False` (the current default value), which uses the default pickle module implicitly. It is possible to construct malicious pickle data which will execute arbitrary code during unpickling (See https://github.com/pytorch/pytorch/blob/main/SECURITY.md#untrusted-models for more details). In a future release, the default value for `weights_only` will be flipped to `True`. This limits the functions that could be executed during unpickling. Arbitrary objects will no longer be allowed to be loaded via this mode unless they are explicitly allowlisted by the user via `torch.serialization.add_safe_globals`. We recommend you start setting `weights_only=True` for any use case where you don't have full control of the loaded file. Please open an issue on GitHub for any issues related to this experimental feature.\n",
      "  simclr_model = torch.load(full_model_path)\n"
     ]
    },
    {
     "data": {
      "text/plain": [
       "SimCLR(\n",
       "  (convnet): ResNet(\n",
       "    (conv1): Conv2d(3, 64, kernel_size=(7, 7), stride=(2, 2), padding=(3, 3), bias=False)\n",
       "    (bn1): BatchNorm2d(64, eps=1e-05, momentum=0.1, affine=True, track_running_stats=True)\n",
       "    (relu): ReLU(inplace=True)\n",
       "    (maxpool): MaxPool2d(kernel_size=3, stride=2, padding=1, dilation=1, ceil_mode=False)\n",
       "    (layer1): Sequential(\n",
       "      (0): BasicBlock(\n",
       "        (conv1): Conv2d(64, 64, kernel_size=(3, 3), stride=(1, 1), padding=(1, 1), bias=False)\n",
       "        (bn1): BatchNorm2d(64, eps=1e-05, momentum=0.1, affine=True, track_running_stats=True)\n",
       "        (relu): ReLU(inplace=True)\n",
       "        (conv2): Conv2d(64, 64, kernel_size=(3, 3), stride=(1, 1), padding=(1, 1), bias=False)\n",
       "        (bn2): BatchNorm2d(64, eps=1e-05, momentum=0.1, affine=True, track_running_stats=True)\n",
       "      )\n",
       "      (1): BasicBlock(\n",
       "        (conv1): Conv2d(64, 64, kernel_size=(3, 3), stride=(1, 1), padding=(1, 1), bias=False)\n",
       "        (bn1): BatchNorm2d(64, eps=1e-05, momentum=0.1, affine=True, track_running_stats=True)\n",
       "        (relu): ReLU(inplace=True)\n",
       "        (conv2): Conv2d(64, 64, kernel_size=(3, 3), stride=(1, 1), padding=(1, 1), bias=False)\n",
       "        (bn2): BatchNorm2d(64, eps=1e-05, momentum=0.1, affine=True, track_running_stats=True)\n",
       "      )\n",
       "    )\n",
       "    (layer2): Sequential(\n",
       "      (0): BasicBlock(\n",
       "        (conv1): Conv2d(64, 128, kernel_size=(3, 3), stride=(2, 2), padding=(1, 1), bias=False)\n",
       "        (bn1): BatchNorm2d(128, eps=1e-05, momentum=0.1, affine=True, track_running_stats=True)\n",
       "        (relu): ReLU(inplace=True)\n",
       "        (conv2): Conv2d(128, 128, kernel_size=(3, 3), stride=(1, 1), padding=(1, 1), bias=False)\n",
       "        (bn2): BatchNorm2d(128, eps=1e-05, momentum=0.1, affine=True, track_running_stats=True)\n",
       "        (downsample): Sequential(\n",
       "          (0): Conv2d(64, 128, kernel_size=(1, 1), stride=(2, 2), bias=False)\n",
       "          (1): BatchNorm2d(128, eps=1e-05, momentum=0.1, affine=True, track_running_stats=True)\n",
       "        )\n",
       "      )\n",
       "      (1): BasicBlock(\n",
       "        (conv1): Conv2d(128, 128, kernel_size=(3, 3), stride=(1, 1), padding=(1, 1), bias=False)\n",
       "        (bn1): BatchNorm2d(128, eps=1e-05, momentum=0.1, affine=True, track_running_stats=True)\n",
       "        (relu): ReLU(inplace=True)\n",
       "        (conv2): Conv2d(128, 128, kernel_size=(3, 3), stride=(1, 1), padding=(1, 1), bias=False)\n",
       "        (bn2): BatchNorm2d(128, eps=1e-05, momentum=0.1, affine=True, track_running_stats=True)\n",
       "      )\n",
       "    )\n",
       "    (layer3): Sequential(\n",
       "      (0): BasicBlock(\n",
       "        (conv1): Conv2d(128, 256, kernel_size=(3, 3), stride=(2, 2), padding=(1, 1), bias=False)\n",
       "        (bn1): BatchNorm2d(256, eps=1e-05, momentum=0.1, affine=True, track_running_stats=True)\n",
       "        (relu): ReLU(inplace=True)\n",
       "        (conv2): Conv2d(256, 256, kernel_size=(3, 3), stride=(1, 1), padding=(1, 1), bias=False)\n",
       "        (bn2): BatchNorm2d(256, eps=1e-05, momentum=0.1, affine=True, track_running_stats=True)\n",
       "        (downsample): Sequential(\n",
       "          (0): Conv2d(128, 256, kernel_size=(1, 1), stride=(2, 2), bias=False)\n",
       "          (1): BatchNorm2d(256, eps=1e-05, momentum=0.1, affine=True, track_running_stats=True)\n",
       "        )\n",
       "      )\n",
       "      (1): BasicBlock(\n",
       "        (conv1): Conv2d(256, 256, kernel_size=(3, 3), stride=(1, 1), padding=(1, 1), bias=False)\n",
       "        (bn1): BatchNorm2d(256, eps=1e-05, momentum=0.1, affine=True, track_running_stats=True)\n",
       "        (relu): ReLU(inplace=True)\n",
       "        (conv2): Conv2d(256, 256, kernel_size=(3, 3), stride=(1, 1), padding=(1, 1), bias=False)\n",
       "        (bn2): BatchNorm2d(256, eps=1e-05, momentum=0.1, affine=True, track_running_stats=True)\n",
       "      )\n",
       "    )\n",
       "    (layer4): Sequential(\n",
       "      (0): BasicBlock(\n",
       "        (conv1): Conv2d(256, 512, kernel_size=(3, 3), stride=(2, 2), padding=(1, 1), bias=False)\n",
       "        (bn1): BatchNorm2d(512, eps=1e-05, momentum=0.1, affine=True, track_running_stats=True)\n",
       "        (relu): ReLU(inplace=True)\n",
       "        (conv2): Conv2d(512, 512, kernel_size=(3, 3), stride=(1, 1), padding=(1, 1), bias=False)\n",
       "        (bn2): BatchNorm2d(512, eps=1e-05, momentum=0.1, affine=True, track_running_stats=True)\n",
       "        (downsample): Sequential(\n",
       "          (0): Conv2d(256, 512, kernel_size=(1, 1), stride=(2, 2), bias=False)\n",
       "          (1): BatchNorm2d(512, eps=1e-05, momentum=0.1, affine=True, track_running_stats=True)\n",
       "        )\n",
       "      )\n",
       "      (1): BasicBlock(\n",
       "        (conv1): Conv2d(512, 512, kernel_size=(3, 3), stride=(1, 1), padding=(1, 1), bias=False)\n",
       "        (bn1): BatchNorm2d(512, eps=1e-05, momentum=0.1, affine=True, track_running_stats=True)\n",
       "        (relu): ReLU(inplace=True)\n",
       "        (conv2): Conv2d(512, 512, kernel_size=(3, 3), stride=(1, 1), padding=(1, 1), bias=False)\n",
       "        (bn2): BatchNorm2d(512, eps=1e-05, momentum=0.1, affine=True, track_running_stats=True)\n",
       "      )\n",
       "    )\n",
       "    (avgpool): AdaptiveAvgPool2d(output_size=(1, 1))\n",
       "    (fc): Sequential(\n",
       "      (0): Linear(in_features=512, out_features=512, bias=True)\n",
       "      (1): ReLU(inplace=True)\n",
       "      (2): Linear(in_features=512, out_features=20, bias=True)\n",
       "    )\n",
       "  )\n",
       ")"
      ]
     },
     "execution_count": 3,
     "metadata": {},
     "output_type": "execute_result"
    }
   ],
   "source": [
    "full_model_path =  r'C:\\Users\\k54739\\saved_model\\simclr_modelepoch250.pth' \n",
    "simclr_model = torch.load(full_model_path)\n",
    "simclr_model.eval()"
   ]
  },
  {
   "cell_type": "code",
   "execution_count": 4,
   "metadata": {},
   "outputs": [],
   "source": [
    "from copy import deepcopy\n",
    "import torchvision.transforms.functional as TF\n",
    "# Device setup for inference\n",
    "device = torch.device(\"cuda\" if torch.cuda.is_available() else \"cpu\")"
   ]
  },
  {
   "cell_type": "markdown",
   "metadata": {},
   "source": [
    "def Preprocess_Image(image_path):\n",
    "    # Load the image\n",
    "    image = tiff.imread(image_path)\n",
    "    \n",
    "    # Ensure the image has 3 layers (channels)\n",
    "    if image.shape[0] != 3:\n",
    "        raise ValueError(f\"Image at {image_path} does not have exactly 3 layers.\")\n",
    "    \n",
    "    # Normalize the 16-bit image to [0, 1]\n",
    "    image = image.astype(np.float32) / 65535.0\n",
    "    \n",
    "    # Convert to a torch tensor\n",
    "    image = torch.tensor(image, dtype=torch.float32)\n",
    "    \n",
    "    # Resize to (96, 96)\n",
    "    image = TF.resize(image, (96, 96))\n",
    "\n",
    "    print(image.shape)\n",
    "    image_to_model = image.unsqueeze(0)\n",
    "    print(image_to_model.shape)\n",
    "    \n",
    "    return image,image_to_model\n"
   ]
  },
  {
   "cell_type": "markdown",
   "metadata": {},
   "source": [
    "import matplotlib.pyplot as plt\n",
    "\n",
    "def display_image(image_tensor, title=\"Image\", cmap=\"gray\", figsize=(5, 5)):\n",
    "\n",
    "    # Convert PyTorch tensor to NumPy array and adjust shape for plotting\n",
    "    image_np = image_tensor.numpy().transpose(1, 2, 0)  # Convert (C, H, W) -> (H, W, C)\n",
    "\n",
    "    # Display the image\n",
    "    plt.figure(figsize=figsize)\n",
    "    plt.imshow(image_np, cmap=cmap)\n",
    "    plt.title(title)\n",
    "    plt.axis(\"off\")  # Turn off axis for cleaner visualization\n",
    "    plt.show()\n"
   ]
  },
  {
   "cell_type": "markdown",
   "metadata": {},
   "source": [
    "path_of_image = r'C:\\Users\\k54739\\Bibi_new_thesis\\thesis\\day7_day10\\control29\\day7\\RBT_01.04_B02-T01.tiff'\n",
    "first_cd1,first_cd1_to_model = Preprocess_Image(path_of_image)\n",
    "\n",
    "# Example usage\n",
    "# Assuming `first_image` is a torch.Tensor with shape (C, H, W)\n",
    "display_image(first_cd1, title=\"First Image\")\n",
    "\n",
    "pathimage = r'C:\\Users\\k54739\\Bibi_new_thesis\\thesis\\day7_day10\\control29\\day10\\RBT_01.04_B02-T01.tiff'\n",
    "first_cd2, first_cd2_to_model = Preprocess_Image(pathimage)\n",
    "\n",
    "display_image(first_cd2, title=\"second_image\")"
   ]
  },
  {
   "cell_type": "markdown",
   "metadata": {},
   "source": [
    "# Extract features for both images\n",
    "first_image_feats = extract_features(simclr_model, first_cd1_to_model)\n",
    "second_image_feats = extract_features(simclr_model, first_cd2_to_model)\n",
    "print(first_image_feats.shape)\n",
    "print(second_image_feats.shape)\n",
    "\n",
    "# Cosine new data only resize\n",
    "cosine_similarity = nn.functional.cosine_similarity(first_image_feats, second_image_feats, dim=1)\n",
    "print(f\"Cosine similarity between features: {cosine_similarity.item()}\")"
   ]
  },
  {
   "cell_type": "markdown",
   "metadata": {},
   "source": [
    "# Specify paths for both day7 and day10 folders\n",
    "day7_dir = r'C:\\Users\\k54739\\Bibi_new_thesis\\thesis\\control_day7_day10\\train\\day7'\n",
    "day10_dir = r'C:\\Users\\k54739\\Bibi_new_thesis\\thesis\\control_day7_day10\\train\\day10'"
   ]
  },
  {
   "cell_type": "markdown",
   "metadata": {},
   "source": [
    "def Preprocess_Image(d7image_dir,d10image_dir, model):\n",
    "    day7_files = {os.path.basename(file): os.path.join(day7_dir, file) for file in os.listdir(day7_dir) if file.endswith('.tiff')}\n",
    "    day10_files = {os.path.basename(file): os.path.join(day10_dir, file) for file in os.listdir(day10_dir) if file.endswith('.tiff')}\n",
    "    \n",
    "    common_files = list(day7_files.keys())\n",
    "    assert set(common_files) <= set(day10_files.keys()), \"Mismatch between day7 and day10 filenames.\"\n",
    "\n",
    "    print(len(common_files))\n",
    "\n",
    "    filename = common_files[idx]\n",
    "    day7_img_path = day7_files[filename]\n",
    "    day10_img_path = day10_files[filename]\n",
    "\n",
    "            # Load the images\n",
    "    day7_img = tiff.imread(day7_img_path)\n",
    "    day10_img = tiff.imread(day10_img_path)\n",
    "\n",
    "            # Ensure the images have 3 layers (channels)\n",
    "    if day7_img.shape[0] != 3:\n",
    "        raise ValueError(f\"Day7 image at {day7_img_path} does not have exactly 3 layers. Found shape: {day7_img.shape}.\")\n",
    "    if day10_img.shape[0] != 3:\n",
    "        raise ValueError(f\"Day10 image at {day10_img_path} does not have exactly 3 layers. Found shape: {day10_img.shape}.\")\n",
    "\n",
    "            # Normalize and convert both images\n",
    "    day7_img = day7_img.astype(np.float32) / 65535.0\n",
    "    day10_img = day10_img.astype(np.float32) / 65535.0\n",
    "\n",
    "            # Convert to tensors\n",
    "    day7_img = torch.tensor(day7_img, dtype=torch.float32)\n",
    "    day10_img = torch.tensor(day10_img, dtype=torch.float32)\n",
    "    \n",
    "    # Resize to (96, 96)\n",
    "    day7_img = TF.resize(day7_img, (96, 96))\n",
    "    day10_img = TF.resize(day10_img, (96, 96))\n",
    "\n",
    "    day7_img_model = day7_img.unsqueeze(0)\n",
    "    day10_img_model = day10_img.unsqueeze(0)\n",
    "    \n",
    "\n",
    "    d7_image_feats = extract_features(simclr_model, day7_img_model)\n",
    "    d10_image_feats = extract_features(simclr_model, day10_img_model)\n",
    "\n",
    "    cosine_similarity = nn.functional.cosine_similarity(d7_image_feats, d10_image_feats, dim=1)\n",
    "    euclidean_distance = euclideandistance\n",
    "\n",
    "    \n",
    "    return d7_image_feats, d10_image_feats, cosine_similarity, euclidean_distance\n"
   ]
  },
  {
   "cell_type": "markdown",
   "metadata": {},
   "source": [
    "import os\n",
    "import torch\n",
    "import numpy as np\n",
    "import tifffile as tiff\n",
    "from torchvision.transforms import functional as TF\n",
    "from torch import nn\n",
    "from copy import deepcopy\n",
    "\n",
    "@torch.no_grad()\n",
    "def Preprocess_Image(day7_dir, day10_dir, model, idx):\n",
    "\n",
    "    # Collect files from both directories\n",
    "    day7_files = {os.path.basename(file): os.path.join(day7_dir, file) \n",
    "                  for file in os.listdir(day7_dir) if file.endswith(('.tif', '.tiff'))}\n",
    "    day10_files = {os.path.basename(file): os.path.join(day10_dir, file) \n",
    "                   for file in os.listdir(day10_dir) if file.endswith(('.tif', '.tiff'))}\n",
    "    \n",
    "    # Find common files\n",
    "    common_files = list(day7_files.keys())\n",
    "    assert set(common_files) <= set(day10_files.keys()), \"Mismatch between day 7 and day 10 filenames.\"\n",
    "\n",
    "    print(f\"Number of common files: {len(common_files)}\")\n",
    "\n",
    "    # Select the file at the given index\n",
    "    filename = common_files[idx]\n",
    "    day7_img_path = day7_files[filename]\n",
    "    day10_img_path = day10_files[filename]\n",
    "\n",
    "    # Load the images\n",
    "    day7_img = tiff.imread(day7_img_path)\n",
    "    day10_img = tiff.imread(day10_img_path)\n",
    "\n",
    "    # Ensure the images have 3 layers (channels)\n",
    "    if day7_img.shape[0] != 3:\n",
    "        raise ValueError(f\"Day 7 image at {day7_img_path} does not have exactly 3 layers. Found shape: {day7_img.shape}.\")\n",
    "    if day10_img.shape[0] != 3:\n",
    "        raise ValueError(f\"Day 10 image at {day10_img_path} does not have exactly 3 layers. Found shape: {day10_img.shape}.\")\n",
    "\n",
    "    # Normalize the images to [0, 1]\n",
    "    day7_img = day7_img.astype(np.float32) / 65535.0\n",
    "    day10_img = day10_img.astype(np.float32) / 65535.0\n",
    "\n",
    "    # Convert to tensors\n",
    "    day7_img = torch.tensor(day7_img, dtype=torch.float32)\n",
    "    day10_img = torch.tensor(day10_img, dtype=torch.float32)\n",
    "    \n",
    "    # Resize to (96, 96)\n",
    "    day7_img = TF.resize(day7_img, (96, 96))\n",
    "    day10_img = TF.resize(day10_img, (96, 96))\n",
    "\n",
    "    # Add batch dimension\n",
    "    day7_img_model = day7_img.unsqueeze(0)\n",
    "    day10_img_model = day10_img.unsqueeze(0)\n",
    "    \n",
    "    # Extract features\n",
    "    d7_image_feats = extract_features(model, day7_img_model)\n",
    "    d10_image_feats = extract_features(model, day10_img_model)\n",
    "\n",
    "    # Compute cosine similarity\n",
    "    cosine_similarity = nn.functional.cosine_similarity(d7_image_feats, d10_image_feats, dim=1)\n",
    "\n",
    "    # Compute Euclidean distance\n",
    "    euclidean_distance = torch.norm(d7_image_feats - d10_image_feats, p=2, dim=1)\n",
    "\n",
    "    return d7_image_feats, d10_image_feats, cosine_similarity, euclidean_distance\n"
   ]
  },
  {
   "cell_type": "code",
   "execution_count": 5,
   "metadata": {},
   "outputs": [],
   "source": [
    "@torch.no_grad()\n",
    "def extract_features(model, image_tensor):\n",
    "    # prepare model\n",
    "    network = deepcopy(model.convnet)\n",
    "    network.fc = nn.Identity()  # Removing projection head g(.)\n",
    "    network.eval()\n",
    "    network.to(device)\n",
    "    \n",
    "    # Move image tensor to device\n",
    "    image_tensor = image_tensor.to(device)\n",
    "    \n",
    "    # Extract features\n",
    "    features = network(image_tensor)\n",
    "    return features"
   ]
  },
  {
   "cell_type": "code",
   "execution_count": 6,
   "metadata": {},
   "outputs": [],
   "source": [
    "cont_day7 =  r'C:\\Users\\k54739\\Bibi_new_thesis\\thesis\\day7_day10\\control130_all\\combined\\day7'\n",
    "cont_day10 = r'C:\\Users\\k54739\\Bibi_new_thesis\\thesis\\day7_day10\\control130_all\\combined\\day10'"
   ]
  },
  {
   "cell_type": "code",
   "execution_count": 7,
   "metadata": {},
   "outputs": [],
   "source": [
    "@torch.no_grad()\n",
    "def Preprocess_All_Images(day7_dir, day10_dir, model):\n",
    "    \"\"\"\n",
    "    Preprocesses all images in the day7 and day10 directories, computes features,\n",
    "    cosine similarity, and Euclidean distance for each pair.\n",
    "\n",
    "    Parameters:\n",
    "    - day7_dir (str): Directory containing day 7 images.\n",
    "    - day10_dir (str): Directory containing day 10 images.\n",
    "    - model (torch.nn.Module): The model for feature extraction.\n",
    "\n",
    "    Returns:\n",
    "    - results (list of dict): A list containing the results for each image pair, including:\n",
    "        - filename\n",
    "        - d7_image_feats\n",
    "        - d10_image_feats\n",
    "        - cosine_similarity\n",
    "        - euclidean_distance\n",
    "    \"\"\"\n",
    "    # Collect files from both directories\n",
    "    day7_files = {os.path.basename(file): os.path.join(day7_dir, file) \n",
    "                  for file in os.listdir(day7_dir) if file.endswith(('.tif', '.tiff'))}\n",
    "    day10_files = {os.path.basename(file): os.path.join(day10_dir, file) \n",
    "                   for file in os.listdir(day10_dir) if file.endswith(('.tif', '.tiff'))}\n",
    "    \n",
    "    # Find common files\n",
    "    common_files = list(day7_files.keys())\n",
    "    assert set(common_files) <= set(day10_files.keys()), \"Mismatch between day 7 and day 10 filenames.\"\n",
    "\n",
    "    print(f\"Number of common files: {len(common_files)}\")\n",
    "\n",
    "    results = []  # Store results for each image pair\n",
    "\n",
    "    for filename in common_files:\n",
    "        # Get file paths\n",
    "        day7_img_path = day7_files[filename]\n",
    "        day10_img_path = day10_files[filename]\n",
    "\n",
    "        # Load the images\n",
    "        day7_img = tiff.imread(day7_img_path)\n",
    "        day10_img = tiff.imread(day10_img_path)\n",
    "\n",
    "        # Ensure the images have 3 layers (channels)\n",
    "        if day7_img.shape[0] != 3:\n",
    "            raise ValueError(f\"Day 7 image at {day7_img_path} does not have exactly 3 layers. Found shape: {day7_img.shape}.\")\n",
    "        if day10_img.shape[0] != 3:\n",
    "            raise ValueError(f\"Day 10 image at {day10_img_path} does not have exactly 3 layers. Found shape: {day10_img.shape}.\")\n",
    "\n",
    "        # Normalize the images to [0, 1]\n",
    "        day7_img = day7_img.astype(np.float32) / 65535.0\n",
    "        day10_img = day10_img.astype(np.float32) / 65535.0\n",
    "\n",
    "        # Convert to tensors\n",
    "        day7_img = torch.tensor(day7_img, dtype=torch.float32)\n",
    "        day10_img = torch.tensor(day10_img, dtype=torch.float32)\n",
    "\n",
    "        # Resize to (96, 96)\n",
    "        day7_img = TF.resize(day7_img, (96, 96))\n",
    "        day10_img = TF.resize(day10_img, (96, 96))\n",
    "\n",
    "        # Add batch dimension\n",
    "        day7_img_model = day7_img.unsqueeze(0)\n",
    "        day10_img_model = day10_img.unsqueeze(0)\n",
    "\n",
    "        # Extract features\n",
    "        d7_image_feats = extract_features(model, day7_img_model)\n",
    "        d10_image_feats = extract_features(model, day10_img_model)\n",
    "\n",
    "        print(d7_image_feats.shape)\n",
    "\n",
    "        # Compute cosine similarity\n",
    "        cosine_similarity = nn.functional.cosine_similarity(d7_image_feats, d10_image_feats, dim=1)\n",
    "\n",
    "        # Compute Euclidean distance\n",
    "        euclidean_distance = torch.norm(d7_image_feats - d10_image_feats, p=2, dim=1)\n",
    "        cosine_distance = 1 - cosine_similarity\n",
    "\n",
    "        # Append results\n",
    "        results.append({\n",
    "            \"filename\": filename,\n",
    "            \"d7_image_feats\": d7_image_feats,\n",
    "            \"d10_image_feats\": d10_image_feats,\n",
    "            \"cosine_distance\": cosine_distance,\n",
    "            \"euclidean_distance\": euclidean_distance\n",
    "        })\n",
    "\n",
    "    return results\n"
   ]
  },
  {
   "cell_type": "code",
   "execution_count": 8,
   "metadata": {},
   "outputs": [
    {
     "name": "stdout",
     "output_type": "stream",
     "text": [
      "Number of common files: 130\n",
      "torch.Size([1, 512])\n",
      "torch.Size([1, 512])\n",
      "torch.Size([1, 512])\n",
      "torch.Size([1, 512])\n",
      "torch.Size([1, 512])\n",
      "torch.Size([1, 512])\n",
      "torch.Size([1, 512])\n",
      "torch.Size([1, 512])\n",
      "torch.Size([1, 512])\n",
      "torch.Size([1, 512])\n",
      "torch.Size([1, 512])\n",
      "torch.Size([1, 512])\n",
      "torch.Size([1, 512])\n",
      "torch.Size([1, 512])\n",
      "torch.Size([1, 512])\n",
      "torch.Size([1, 512])\n",
      "torch.Size([1, 512])\n",
      "torch.Size([1, 512])\n",
      "torch.Size([1, 512])\n",
      "torch.Size([1, 512])\n",
      "torch.Size([1, 512])\n",
      "torch.Size([1, 512])\n",
      "torch.Size([1, 512])\n",
      "torch.Size([1, 512])\n",
      "torch.Size([1, 512])\n",
      "torch.Size([1, 512])\n",
      "torch.Size([1, 512])\n",
      "torch.Size([1, 512])\n",
      "torch.Size([1, 512])\n",
      "torch.Size([1, 512])\n",
      "torch.Size([1, 512])\n",
      "torch.Size([1, 512])\n",
      "torch.Size([1, 512])\n",
      "torch.Size([1, 512])\n",
      "torch.Size([1, 512])\n",
      "torch.Size([1, 512])\n",
      "torch.Size([1, 512])\n",
      "torch.Size([1, 512])\n",
      "torch.Size([1, 512])\n",
      "torch.Size([1, 512])\n",
      "torch.Size([1, 512])\n",
      "torch.Size([1, 512])\n",
      "torch.Size([1, 512])\n",
      "torch.Size([1, 512])\n",
      "torch.Size([1, 512])\n",
      "torch.Size([1, 512])\n",
      "torch.Size([1, 512])\n",
      "torch.Size([1, 512])\n",
      "torch.Size([1, 512])\n",
      "torch.Size([1, 512])\n",
      "torch.Size([1, 512])\n",
      "torch.Size([1, 512])\n",
      "torch.Size([1, 512])\n",
      "torch.Size([1, 512])\n",
      "torch.Size([1, 512])\n",
      "torch.Size([1, 512])\n",
      "torch.Size([1, 512])\n",
      "torch.Size([1, 512])\n",
      "torch.Size([1, 512])\n",
      "torch.Size([1, 512])\n",
      "torch.Size([1, 512])\n",
      "torch.Size([1, 512])\n",
      "torch.Size([1, 512])\n",
      "torch.Size([1, 512])\n",
      "torch.Size([1, 512])\n",
      "torch.Size([1, 512])\n",
      "torch.Size([1, 512])\n",
      "torch.Size([1, 512])\n",
      "torch.Size([1, 512])\n",
      "torch.Size([1, 512])\n",
      "torch.Size([1, 512])\n",
      "torch.Size([1, 512])\n",
      "torch.Size([1, 512])\n",
      "torch.Size([1, 512])\n",
      "torch.Size([1, 512])\n",
      "torch.Size([1, 512])\n",
      "torch.Size([1, 512])\n",
      "torch.Size([1, 512])\n",
      "torch.Size([1, 512])\n",
      "torch.Size([1, 512])\n",
      "torch.Size([1, 512])\n",
      "torch.Size([1, 512])\n",
      "torch.Size([1, 512])\n",
      "torch.Size([1, 512])\n",
      "torch.Size([1, 512])\n",
      "torch.Size([1, 512])\n",
      "torch.Size([1, 512])\n",
      "torch.Size([1, 512])\n",
      "torch.Size([1, 512])\n",
      "torch.Size([1, 512])\n",
      "torch.Size([1, 512])\n",
      "torch.Size([1, 512])\n",
      "torch.Size([1, 512])\n",
      "torch.Size([1, 512])\n",
      "torch.Size([1, 512])\n",
      "torch.Size([1, 512])\n",
      "torch.Size([1, 512])\n",
      "torch.Size([1, 512])\n",
      "torch.Size([1, 512])\n",
      "torch.Size([1, 512])\n",
      "torch.Size([1, 512])\n",
      "torch.Size([1, 512])\n",
      "torch.Size([1, 512])\n",
      "torch.Size([1, 512])\n",
      "torch.Size([1, 512])\n",
      "torch.Size([1, 512])\n",
      "torch.Size([1, 512])\n",
      "torch.Size([1, 512])\n",
      "torch.Size([1, 512])\n",
      "torch.Size([1, 512])\n",
      "torch.Size([1, 512])\n",
      "torch.Size([1, 512])\n",
      "torch.Size([1, 512])\n",
      "torch.Size([1, 512])\n",
      "torch.Size([1, 512])\n",
      "torch.Size([1, 512])\n",
      "torch.Size([1, 512])\n",
      "torch.Size([1, 512])\n",
      "torch.Size([1, 512])\n",
      "torch.Size([1, 512])\n",
      "torch.Size([1, 512])\n",
      "torch.Size([1, 512])\n",
      "torch.Size([1, 512])\n",
      "torch.Size([1, 512])\n",
      "torch.Size([1, 512])\n",
      "torch.Size([1, 512])\n",
      "torch.Size([1, 512])\n",
      "torch.Size([1, 512])\n",
      "torch.Size([1, 512])\n",
      "torch.Size([1, 512])\n"
     ]
    }
   ],
   "source": [
    "control_results = Preprocess_All_Images(cont_day7,cont_day10,simclr_model)"
   ]
  },
  {
   "cell_type": "code",
   "execution_count": 10,
   "metadata": {},
   "outputs": [
    {
     "name": "stdout",
     "output_type": "stream",
     "text": [
      "Result 1:\n",
      "Filename: RBTDS1B_D07-T01.tiff\n",
      "cosine_distance: 0.6376\n",
      "Euclidean Distance: 60.1851\n",
      "Result 2:\n",
      "Filename: RBTDS1B_D08-T01.tiff\n",
      "cosine_distance: 0.6795\n",
      "Euclidean Distance: 70.4498\n",
      "Result 3:\n",
      "Filename: RBTDS1B_D09-T01.tiff\n",
      "cosine_distance: 0.7240\n",
      "Euclidean Distance: 61.1272\n",
      "Result 4:\n",
      "Filename: RBTDS1B_D10-T01.tiff\n",
      "cosine_distance: 0.7243\n",
      "Euclidean Distance: 55.5564\n",
      "Result 5:\n",
      "Filename: RBTDS1B_D11-T01.tiff\n",
      "cosine_distance: 0.6625\n",
      "Euclidean Distance: 50.3518\n",
      "Result 6:\n",
      "Filename: RBTDS1B_E07-T01.tiff\n",
      "cosine_distance: 0.7216\n",
      "Euclidean Distance: 69.3081\n",
      "Result 7:\n",
      "Filename: RBTDS1B_E08-T01.tiff\n",
      "cosine_distance: 0.6665\n",
      "Euclidean Distance: 63.1861\n",
      "Result 8:\n",
      "Filename: RBTDS1B_E09-T01.tiff\n",
      "cosine_distance: 0.7168\n",
      "Euclidean Distance: 50.7611\n",
      "Result 9:\n",
      "Filename: RBTDS1B_E10-T01.tiff\n",
      "cosine_distance: 0.6772\n",
      "Euclidean Distance: 66.1552\n",
      "Result 10:\n",
      "Filename: RBTDS1B_E11-T01.tiff\n",
      "cosine_distance: 0.7075\n",
      "Euclidean Distance: 66.7069\n",
      "Result 11:\n",
      "Filename: RBTDS1B_F07-T01.tiff\n",
      "cosine_distance: 0.7024\n",
      "Euclidean Distance: 53.3301\n",
      "Result 12:\n",
      "Filename: RBTDS1B_F08-T01.tiff\n",
      "cosine_distance: 0.7076\n",
      "Euclidean Distance: 51.4275\n",
      "Result 13:\n",
      "Filename: RBTDS1B_F09-T01.tiff\n",
      "cosine_distance: 0.6790\n",
      "Euclidean Distance: 62.0461\n",
      "Result 14:\n",
      "Filename: RBTDS1B_F10-T01.tiff\n",
      "cosine_distance: 0.6714\n",
      "Euclidean Distance: 60.0637\n",
      "Result 15:\n",
      "Filename: RBTDS1B_F11-T01.tiff\n",
      "cosine_distance: 0.5981\n",
      "Euclidean Distance: 54.6189\n",
      "Result 16:\n",
      "Filename: RBTDS1B_G07-T01.tiff\n",
      "cosine_distance: 0.6479\n",
      "Euclidean Distance: 51.5431\n",
      "Result 17:\n",
      "Filename: RBTDS1B_G08-T01.tiff\n",
      "cosine_distance: 0.4944\n",
      "Euclidean Distance: 44.4663\n",
      "Result 18:\n",
      "Filename: RBTDS1B_G09-T01.tiff\n",
      "cosine_distance: 0.5434\n",
      "Euclidean Distance: 52.1927\n",
      "Result 19:\n",
      "Filename: RBTDS1B_G10-T01.tiff\n",
      "cosine_distance: 0.5724\n",
      "Euclidean Distance: 63.4624\n",
      "Result 20:\n",
      "Filename: RBTDS1B_G11-T01.tiff\n",
      "cosine_distance: 0.5267\n",
      "Euclidean Distance: 59.9936\n",
      "Result 21:\n",
      "Filename: RBTDS_4.2_D07-T01.tiff\n",
      "cosine_distance: 0.7032\n",
      "Euclidean Distance: 49.5839\n",
      "Result 22:\n",
      "Filename: RBTDS_4.2_D08-T01.tiff\n",
      "cosine_distance: 0.6973\n",
      "Euclidean Distance: 64.6462\n",
      "Result 23:\n",
      "Filename: RBTDS_4.2_D09-T01.tiff\n",
      "cosine_distance: 0.5726\n",
      "Euclidean Distance: 46.3886\n",
      "Result 24:\n",
      "Filename: RBTDS_4.2_D10-T01.tiff\n",
      "cosine_distance: 0.6961\n",
      "Euclidean Distance: 65.2514\n",
      "Result 25:\n",
      "Filename: RBTDS_4.2_D11-T01.tiff\n",
      "cosine_distance: 0.5086\n",
      "Euclidean Distance: 45.0816\n",
      "Result 26:\n",
      "Filename: RBTDS_4.2_E07-T01.tiff\n",
      "cosine_distance: 0.4666\n",
      "Euclidean Distance: 30.0118\n",
      "Result 27:\n",
      "Filename: RBTDS_4.2_E08-T01.tiff\n",
      "cosine_distance: 0.6429\n",
      "Euclidean Distance: 49.7120\n",
      "Result 28:\n",
      "Filename: RBTDS_4.2_E09-T01.tiff\n",
      "cosine_distance: 0.6550\n",
      "Euclidean Distance: 59.6519\n",
      "Result 29:\n",
      "Filename: RBTDS_4.2_E10-T01.tiff\n",
      "cosine_distance: 0.6511\n",
      "Euclidean Distance: 59.0811\n",
      "Result 30:\n",
      "Filename: RBTDS_4.2_E11-T01.tiff\n",
      "cosine_distance: 0.6291\n",
      "Euclidean Distance: 40.5420\n",
      "Result 31:\n",
      "Filename: RBTDS_4.2_F07-T01.tiff\n",
      "cosine_distance: 0.5075\n",
      "Euclidean Distance: 31.1805\n",
      "Result 32:\n",
      "Filename: RBTDS_4.2_F08-T01.tiff\n",
      "cosine_distance: 0.7060\n",
      "Euclidean Distance: 67.5812\n",
      "Result 33:\n",
      "Filename: RBTDS_4.2_F09-T01.tiff\n",
      "cosine_distance: 0.7566\n",
      "Euclidean Distance: 49.0674\n",
      "Result 34:\n",
      "Filename: RBTDS_4.2_F10-T01.tiff\n",
      "cosine_distance: 0.7017\n",
      "Euclidean Distance: 38.7714\n",
      "Result 35:\n",
      "Filename: RBTDS_4.2_F11-T01.tiff\n",
      "cosine_distance: 0.6892\n",
      "Euclidean Distance: 46.9704\n",
      "Result 36:\n",
      "Filename: RBTDS_4.2_G07-T01.tiff\n",
      "cosine_distance: 0.6034\n",
      "Euclidean Distance: 31.3275\n",
      "Result 37:\n",
      "Filename: RBTDS_4.2_G08-T01.tiff\n",
      "cosine_distance: 0.7002\n",
      "Euclidean Distance: 39.0520\n",
      "Result 38:\n",
      "Filename: RBTDS_4.2_G09-T01.tiff\n",
      "cosine_distance: 0.6878\n",
      "Euclidean Distance: 36.0321\n",
      "Result 39:\n",
      "Filename: RBTDS_4.2_G10-T01.tiff\n",
      "cosine_distance: 0.6730\n",
      "Euclidean Distance: 39.2920\n",
      "Result 40:\n",
      "Filename: RBTDS_4.2_G11-T01.tiff\n",
      "cosine_distance: 0.6014\n",
      "Euclidean Distance: 32.9739\n",
      "Result 41:\n",
      "Filename: RBTDS_6.1_D07-T01.tiff\n",
      "cosine_distance: 0.6635\n",
      "Euclidean Distance: 49.5907\n",
      "Result 42:\n",
      "Filename: RBTDS_6.1_D08-T01.tiff\n",
      "cosine_distance: 0.7366\n",
      "Euclidean Distance: 50.1986\n",
      "Result 43:\n",
      "Filename: RBTDS_6.1_D09-T01.tiff\n",
      "cosine_distance: 0.6846\n",
      "Euclidean Distance: 41.8140\n",
      "Result 44:\n",
      "Filename: RBTDS_6.1_D10-T01.tiff\n",
      "cosine_distance: 0.6453\n",
      "Euclidean Distance: 50.0277\n",
      "Result 45:\n",
      "Filename: RBTDS_6.1_D11-T01.tiff\n",
      "cosine_distance: 0.5718\n",
      "Euclidean Distance: 71.2286\n",
      "Result 46:\n",
      "Filename: RBTDS_6.1_E07-T01.tiff\n",
      "cosine_distance: 0.4943\n",
      "Euclidean Distance: 24.3016\n",
      "Result 47:\n",
      "Filename: RBTDS_6.1_E08-T01.tiff\n",
      "cosine_distance: 0.6411\n",
      "Euclidean Distance: 30.7944\n",
      "Result 48:\n",
      "Filename: RBTDS_6.1_E09-T01.tiff\n",
      "cosine_distance: 0.6721\n",
      "Euclidean Distance: 39.0975\n",
      "Result 49:\n",
      "Filename: RBTDS_6.1_E10-T01.tiff\n",
      "cosine_distance: 0.4277\n",
      "Euclidean Distance: 28.0906\n",
      "Result 50:\n",
      "Filename: RBTDS_6.1_E11-T01.tiff\n",
      "cosine_distance: 0.5317\n",
      "Euclidean Distance: 36.9773\n",
      "Result 51:\n",
      "Filename: RBTDS_6.1_F07-T01.tiff\n",
      "cosine_distance: 0.6141\n",
      "Euclidean Distance: 34.9035\n",
      "Result 52:\n",
      "Filename: RBTDS_6.1_F08-T01.tiff\n",
      "cosine_distance: 0.6807\n",
      "Euclidean Distance: 36.2907\n",
      "Result 53:\n",
      "Filename: RBTDS_6.1_F09-T01.tiff\n",
      "cosine_distance: 0.6251\n",
      "Euclidean Distance: 34.3816\n",
      "Result 54:\n",
      "Filename: RBTDS_6.1_F10-T01.tiff\n",
      "cosine_distance: 0.6874\n",
      "Euclidean Distance: 43.3903\n",
      "Result 55:\n",
      "Filename: RBTDS_6.1_F11-T01.tiff\n",
      "cosine_distance: 0.6902\n",
      "Euclidean Distance: 57.4665\n",
      "Result 56:\n",
      "Filename: RBTDS_6.1_G07-T01.tiff\n",
      "cosine_distance: 0.5859\n",
      "Euclidean Distance: 42.1479\n",
      "Result 57:\n",
      "Filename: RBTDS_6.1_G08-T01.tiff\n",
      "cosine_distance: 0.6002\n",
      "Euclidean Distance: 29.2962\n",
      "Result 58:\n",
      "Filename: RBTDS_6.1_G09-T01.tiff\n",
      "cosine_distance: 0.6898\n",
      "Euclidean Distance: 43.6707\n",
      "Result 59:\n",
      "Filename: RBTDS_6.1_G10-T01.tiff\n",
      "cosine_distance: 0.5896\n",
      "Euclidean Distance: 30.0602\n",
      "Result 60:\n",
      "Filename: RBTDS_6.1_G11-T01.tiff\n",
      "cosine_distance: 0.4668\n",
      "Euclidean Distance: 61.0704\n",
      "Result 61:\n",
      "Filename: RBTDS_6.2_D07-T01.tiff\n",
      "cosine_distance: 0.5156\n",
      "Euclidean Distance: 38.3973\n",
      "Result 62:\n",
      "Filename: RBTDS_6.2_D08-T01.tiff\n",
      "cosine_distance: 0.5967\n",
      "Euclidean Distance: 29.6492\n",
      "Result 63:\n",
      "Filename: RBTDS_6.2_D09-T01.tiff\n",
      "cosine_distance: 0.5937\n",
      "Euclidean Distance: 31.6226\n",
      "Result 64:\n",
      "Filename: RBTDS_6.2_D10-T01.tiff\n",
      "cosine_distance: 0.4293\n",
      "Euclidean Distance: 27.5340\n",
      "Result 65:\n",
      "Filename: RBTDS_6.2_D11-T01.tiff\n",
      "cosine_distance: 0.4576\n",
      "Euclidean Distance: 27.6916\n",
      "Result 66:\n",
      "Filename: RBTDS_6.2_E07-T01.tiff\n",
      "cosine_distance: 0.6058\n",
      "Euclidean Distance: 29.6010\n",
      "Result 67:\n",
      "Filename: RBTDS_6.2_E08-T01.tiff\n",
      "cosine_distance: 0.4578\n",
      "Euclidean Distance: 23.3283\n",
      "Result 68:\n",
      "Filename: RBTDS_6.2_E09-T01.tiff\n",
      "cosine_distance: 0.5780\n",
      "Euclidean Distance: 33.6905\n",
      "Result 69:\n",
      "Filename: RBTDS_6.2_E10-T01.tiff\n",
      "cosine_distance: 0.6182\n",
      "Euclidean Distance: 34.7286\n",
      "Result 70:\n",
      "Filename: RBTDS_6.2_E11-T01.tiff\n",
      "cosine_distance: 0.3393\n",
      "Euclidean Distance: 30.4464\n",
      "Result 71:\n",
      "Filename: RBTDS_6.2_F07-T01.tiff\n",
      "cosine_distance: 0.4622\n",
      "Euclidean Distance: 23.8758\n",
      "Result 72:\n",
      "Filename: RBTDS_6.2_F08-T01.tiff\n",
      "cosine_distance: 0.4678\n",
      "Euclidean Distance: 29.5331\n",
      "Result 73:\n",
      "Filename: RBTDS_6.2_F09-T01.tiff\n",
      "cosine_distance: 0.5105\n",
      "Euclidean Distance: 29.3829\n",
      "Result 74:\n",
      "Filename: RBTDS_6.2_F10-T01.tiff\n",
      "cosine_distance: 0.5714\n",
      "Euclidean Distance: 34.0484\n",
      "Result 75:\n",
      "Filename: RBTDS_6.2_F11-T01.tiff\n",
      "cosine_distance: 0.5905\n",
      "Euclidean Distance: 32.9691\n",
      "Result 76:\n",
      "Filename: RBTDS_6.2_G07-T01.tiff\n",
      "cosine_distance: 0.4987\n",
      "Euclidean Distance: 33.9580\n",
      "Result 77:\n",
      "Filename: RBTDS_6.2_G08-T01.tiff\n",
      "cosine_distance: 0.3536\n",
      "Euclidean Distance: 23.0942\n",
      "Result 78:\n",
      "Filename: RBTDS_6.2_G09-T01.tiff\n",
      "cosine_distance: 0.5219\n",
      "Euclidean Distance: 25.5538\n",
      "Result 79:\n",
      "Filename: RBTDS_6.2_G10-T01.tiff\n",
      "cosine_distance: 0.4534\n",
      "Euclidean Distance: 28.4397\n",
      "Result 80:\n",
      "Filename: RBTDS_6.2_G11-T01.tiff\n",
      "cosine_distance: 0.4338\n",
      "Euclidean Distance: 41.2558\n",
      "Result 81:\n",
      "Filename: RBT_01.04_B02-T01.tiff\n",
      "cosine_distance: 0.6154\n",
      "Euclidean Distance: 59.6860\n",
      "Result 82:\n",
      "Filename: RBT_01.04_B03-T01.tiff\n",
      "cosine_distance: 0.4583\n",
      "Euclidean Distance: 39.4588\n",
      "Result 83:\n",
      "Filename: RBT_01.04_B04-T01.tiff\n",
      "cosine_distance: 0.7116\n",
      "Euclidean Distance: 49.8725\n",
      "Result 84:\n",
      "Filename: RBT_01.04_B05-T01.tiff\n",
      "cosine_distance: 0.6311\n",
      "Euclidean Distance: 43.9865\n",
      "Result 85:\n",
      "Filename: RBT_01.04_B06-T01.tiff\n",
      "cosine_distance: 0.7354\n",
      "Euclidean Distance: 45.5351\n",
      "Result 86:\n",
      "Filename: RBT_01.04_C02-T01.tiff\n",
      "cosine_distance: 0.6042\n",
      "Euclidean Distance: 55.2947\n",
      "Result 87:\n",
      "Filename: RBT_01.04_C03-T01.tiff\n",
      "cosine_distance: 0.5777\n",
      "Euclidean Distance: 46.3644\n",
      "Result 88:\n",
      "Filename: RBT_01.04_C04-T01.tiff\n",
      "cosine_distance: 0.5690\n",
      "Euclidean Distance: 33.5866\n",
      "Result 89:\n",
      "Filename: RBT_01.04_C05-T01.tiff\n",
      "cosine_distance: 0.6783\n",
      "Euclidean Distance: 37.7291\n",
      "Result 90:\n",
      "Filename: RBT_01.04_C06-T01.tiff\n",
      "cosine_distance: 0.6307\n",
      "Euclidean Distance: 34.6438\n",
      "Result 91:\n",
      "Filename: RBT_01.04_D02-T01.tiff\n",
      "cosine_distance: 0.5779\n",
      "Euclidean Distance: 61.9954\n",
      "Result 92:\n",
      "Filename: RBT_01.04_D03-T01.tiff\n",
      "cosine_distance: 0.6108\n",
      "Euclidean Distance: 43.0737\n",
      "Result 93:\n",
      "Filename: RBT_01.04_D04-T01.tiff\n",
      "cosine_distance: 0.6111\n",
      "Euclidean Distance: 42.0448\n",
      "Result 94:\n",
      "Filename: RBT_01.04_D05-T01.tiff\n",
      "cosine_distance: 0.5715\n",
      "Euclidean Distance: 29.2545\n",
      "Result 95:\n",
      "Filename: RBT_01.04_D06-T01.tiff\n",
      "cosine_distance: 0.5914\n",
      "Euclidean Distance: 29.3720\n",
      "Result 96:\n",
      "Filename: RBT_01.04_E02-T01.tiff\n",
      "cosine_distance: 0.6941\n",
      "Euclidean Distance: 47.4080\n",
      "Result 97:\n",
      "Filename: RBT_01.04_E03-T01.tiff\n",
      "cosine_distance: 0.6413\n",
      "Euclidean Distance: 40.2610\n",
      "Result 98:\n",
      "Filename: RBT_01.04_E04-T01.tiff\n",
      "cosine_distance: 0.6344\n",
      "Euclidean Distance: 44.0716\n",
      "Result 99:\n",
      "Filename: RBT_01.04_E05-T01.tiff\n",
      "cosine_distance: 0.6836\n",
      "Euclidean Distance: 32.4471\n",
      "Result 100:\n",
      "Filename: RBT_01.04_E06-T01.tiff\n",
      "cosine_distance: 0.5200\n",
      "Euclidean Distance: 28.3741\n",
      "Result 101:\n",
      "Filename: RBT_01.04_F02-T01.tiff\n",
      "cosine_distance: 0.6432\n",
      "Euclidean Distance: 52.1666\n",
      "Result 102:\n",
      "Filename: RBT_01.04_F03-T01.tiff\n",
      "cosine_distance: 0.6284\n",
      "Euclidean Distance: 47.2928\n",
      "Result 103:\n",
      "Filename: RBT_01.04_F04-T01.tiff\n",
      "cosine_distance: 0.6320\n",
      "Euclidean Distance: 28.4435\n",
      "Result 104:\n",
      "Filename: RBT_01.04_F05-T01.tiff\n",
      "cosine_distance: 0.6433\n",
      "Euclidean Distance: 29.7654\n",
      "Result 105:\n",
      "Filename: RBT_01.04_F06-T01.tiff\n",
      "cosine_distance: 0.5575\n",
      "Euclidean Distance: 24.7869\n",
      "Result 106:\n",
      "Filename: RBT_01.04_G02-T01.tiff\n",
      "cosine_distance: 0.6880\n",
      "Euclidean Distance: 37.2356\n",
      "Result 107:\n",
      "Filename: RBT_01.04_G03-T01.tiff\n",
      "cosine_distance: 0.6009\n",
      "Euclidean Distance: 34.3539\n",
      "Result 108:\n",
      "Filename: RBT_01.04_G04-T01.tiff\n",
      "cosine_distance: 0.6544\n",
      "Euclidean Distance: 31.5506\n",
      "Result 109:\n",
      "Filename: RBT_01.04_G05-T01.tiff\n",
      "cosine_distance: 0.5573\n",
      "Euclidean Distance: 29.8731\n",
      "Result 110:\n",
      "Filename: RBT_01.04_G06-T01.tiff\n",
      "cosine_distance: 0.6367\n",
      "Euclidean Distance: 31.0679\n",
      "Result 111:\n",
      "Filename: RBT_DS_4.1_D07-T01.tiff\n",
      "cosine_distance: 0.5008\n",
      "Euclidean Distance: 23.0944\n",
      "Result 112:\n",
      "Filename: RBT_DS_4.1_D08-T01.tiff\n",
      "cosine_distance: 0.4989\n",
      "Euclidean Distance: 23.0059\n",
      "Result 113:\n",
      "Filename: RBT_DS_4.1_D09-T01.tiff\n",
      "cosine_distance: 0.6206\n",
      "Euclidean Distance: 35.8925\n",
      "Result 114:\n",
      "Filename: RBT_DS_4.1_D10-T01.tiff\n",
      "cosine_distance: 0.5359\n",
      "Euclidean Distance: 33.2499\n",
      "Result 115:\n",
      "Filename: RBT_DS_4.1_D11-T01.tiff\n",
      "cosine_distance: 0.6067\n",
      "Euclidean Distance: 37.2722\n",
      "Result 116:\n",
      "Filename: RBT_DS_4.1_E07-T01.tiff\n",
      "cosine_distance: 0.5657\n",
      "Euclidean Distance: 30.1424\n",
      "Result 117:\n",
      "Filename: RBT_DS_4.1_E08-T01.tiff\n",
      "cosine_distance: 0.4486\n",
      "Euclidean Distance: 20.3654\n",
      "Result 118:\n",
      "Filename: RBT_DS_4.1_E09-T01.tiff\n",
      "cosine_distance: 0.5043\n",
      "Euclidean Distance: 19.3109\n",
      "Result 119:\n",
      "Filename: RBT_DS_4.1_E10-T01.tiff\n",
      "cosine_distance: 0.5524\n",
      "Euclidean Distance: 27.9191\n",
      "Result 120:\n",
      "Filename: RBT_DS_4.1_E11-T01.tiff\n",
      "cosine_distance: 0.5703\n",
      "Euclidean Distance: 45.1777\n",
      "Result 121:\n",
      "Filename: RBT_DS_4.1_F07-T01.tiff\n",
      "cosine_distance: 0.6447\n",
      "Euclidean Distance: 36.3070\n",
      "Result 122:\n",
      "Filename: RBT_DS_4.1_F08-T01.tiff\n",
      "cosine_distance: 0.6145\n",
      "Euclidean Distance: 28.1983\n",
      "Result 123:\n",
      "Filename: RBT_DS_4.1_F09-T01.tiff\n",
      "cosine_distance: 0.4260\n",
      "Euclidean Distance: 19.8498\n",
      "Result 124:\n",
      "Filename: RBT_DS_4.1_F10-T01.tiff\n",
      "cosine_distance: 0.4862\n",
      "Euclidean Distance: 24.5490\n",
      "Result 125:\n",
      "Filename: RBT_DS_4.1_F11-T01.tiff\n",
      "cosine_distance: 0.6972\n",
      "Euclidean Distance: 49.0716\n",
      "Result 126:\n",
      "Filename: RBT_DS_4.1_G07-T01.tiff\n",
      "cosine_distance: 0.6530\n",
      "Euclidean Distance: 29.1996\n",
      "Result 127:\n",
      "Filename: RBT_DS_4.1_G08-T01.tiff\n",
      "cosine_distance: 0.6261\n",
      "Euclidean Distance: 26.9976\n",
      "Result 128:\n",
      "Filename: RBT_DS_4.1_G09-T01.tiff\n",
      "cosine_distance: 0.6403\n",
      "Euclidean Distance: 30.6318\n",
      "Result 129:\n",
      "Filename: RBT_DS_4.1_G10-T01.tiff\n",
      "cosine_distance: 0.6866\n",
      "Euclidean Distance: 36.4817\n",
      "Result 130:\n",
      "Filename: RBT_DS_4.1_G11-T01.tiff\n",
      "cosine_distance: 0.6150\n",
      "Euclidean Distance: 37.2793\n"
     ]
    }
   ],
   "source": [
    "# Iterate through the results list\n",
    "for i, res in enumerate(control_results):\n",
    "    print(f\"Result {i + 1}:\")\n",
    "    print(f\"Filename: {res['filename']}\")\n",
    "    print(f\"cosine_distance: {res['cosine_distance'].item():.4f}\")\n",
    "    print(f\"Euclidean Distance: {res['euclidean_distance'].item():.4f}\")\n",
    "    #print(f\"Day 7 Features: {res['d7_image_feats']}\")\n",
    "    #print(f\"Day 10 Features: {res['d10_image_feats']}\")\n"
   ]
  },
  {
   "cell_type": "code",
   "execution_count": 11,
   "metadata": {},
   "outputs": [],
   "source": [
    "exp_day7= r'C:\\Users\\k54739\\Bibi_new_thesis\\thesis\\day7_day10\\exploded38\\day7'\n",
    "exp_day10 = r'C:\\Users\\k54739\\Bibi_new_thesis\\thesis\\day7_day10\\exploded38\\day10'"
   ]
  },
  {
   "cell_type": "code",
   "execution_count": 12,
   "metadata": {},
   "outputs": [
    {
     "name": "stdout",
     "output_type": "stream",
     "text": [
      "Number of common files: 38\n",
      "torch.Size([1, 512])\n",
      "torch.Size([1, 512])\n",
      "torch.Size([1, 512])\n",
      "torch.Size([1, 512])\n",
      "torch.Size([1, 512])\n",
      "torch.Size([1, 512])\n",
      "torch.Size([1, 512])\n",
      "torch.Size([1, 512])\n",
      "torch.Size([1, 512])\n",
      "torch.Size([1, 512])\n",
      "torch.Size([1, 512])\n",
      "torch.Size([1, 512])\n",
      "torch.Size([1, 512])\n",
      "torch.Size([1, 512])\n",
      "torch.Size([1, 512])\n",
      "torch.Size([1, 512])\n",
      "torch.Size([1, 512])\n",
      "torch.Size([1, 512])\n",
      "torch.Size([1, 512])\n",
      "torch.Size([1, 512])\n",
      "torch.Size([1, 512])\n",
      "torch.Size([1, 512])\n",
      "torch.Size([1, 512])\n",
      "torch.Size([1, 512])\n",
      "torch.Size([1, 512])\n",
      "torch.Size([1, 512])\n",
      "torch.Size([1, 512])\n",
      "torch.Size([1, 512])\n",
      "torch.Size([1, 512])\n",
      "torch.Size([1, 512])\n",
      "torch.Size([1, 512])\n",
      "torch.Size([1, 512])\n",
      "torch.Size([1, 512])\n",
      "torch.Size([1, 512])\n",
      "torch.Size([1, 512])\n",
      "torch.Size([1, 512])\n",
      "torch.Size([1, 512])\n",
      "torch.Size([1, 512])\n"
     ]
    }
   ],
   "source": [
    "exp_results = Preprocess_All_Images(exp_day7,exp_day10,simclr_model)"
   ]
  },
  {
   "cell_type": "code",
   "execution_count": 13,
   "metadata": {},
   "outputs": [
    {
     "name": "stdout",
     "output_type": "stream",
     "text": [
      "Result 1:\n",
      "Filename: ds_1b_gp9_C10.tiff\n",
      "cosine_distance: 0.7104\n",
      "Euclidean Distance: 53.7645\n",
      "Result 2:\n",
      "Filename: ds_1b_gp9_C11.tiff\n",
      "cosine_distance: 0.7323\n",
      "Euclidean Distance: 55.7929\n",
      "Result 3:\n",
      "Filename: ds_1b_gp9_C7.tiff\n",
      "cosine_distance: 0.7254\n",
      "Euclidean Distance: 61.1816\n",
      "Result 4:\n",
      "Filename: ds_1b_gp9_C8.tiff\n",
      "cosine_distance: 0.7209\n",
      "Euclidean Distance: 60.7437\n",
      "Result 5:\n",
      "Filename: ds_1b_gp9_C9.tiff\n",
      "cosine_distance: 0.7678\n",
      "Euclidean Distance: 66.9353\n",
      "Result 6:\n",
      "Filename: ds_4.1_gp3_C02-T01.tiff\n",
      "cosine_distance: 0.6688\n",
      "Euclidean Distance: 38.4301\n",
      "Result 7:\n",
      "Filename: ds_4.1_gp3_C03-T01.tiff\n",
      "cosine_distance: 0.7037\n",
      "Euclidean Distance: 33.2638\n",
      "Result 8:\n",
      "Filename: ds_4.1_gp3_C04-T01.tiff\n",
      "cosine_distance: 0.5927\n",
      "Euclidean Distance: 32.5994\n",
      "Result 9:\n",
      "Filename: ds_4.1_gp3_C05-T01.tiff\n",
      "cosine_distance: 0.7449\n",
      "Euclidean Distance: 40.3062\n",
      "Result 10:\n",
      "Filename: ds_4.1_gp3_C06-T01.tiff\n",
      "cosine_distance: 0.5865\n",
      "Euclidean Distance: 31.5217\n",
      "Result 11:\n",
      "Filename: ds_6.1_gp3_C03-T01.tiff\n",
      "cosine_distance: 0.6709\n",
      "Euclidean Distance: 52.4018\n",
      "Result 12:\n",
      "Filename: ds_6.1_gp3_C04-T01.tiff\n",
      "cosine_distance: 0.5935\n",
      "Euclidean Distance: 36.8432\n",
      "Result 13:\n",
      "Filename: ds_6.1_gp3_C05-T01.tiff\n",
      "cosine_distance: 0.7032\n",
      "Euclidean Distance: 38.8139\n",
      "Result 14:\n",
      "Filename: ds_6.1_gp3_C06-T01.tiff\n",
      "cosine_distance: 0.6717\n",
      "Euclidean Distance: 37.7588\n",
      "Result 15:\n",
      "Filename: ds_6.1_gp3_C2.tiff\n",
      "cosine_distance: 0.5332\n",
      "Euclidean Distance: 28.1953\n",
      "Result 16:\n",
      "Filename: ds_6.1_gp6_F03-T01.tiff\n",
      "cosine_distance: 0.5666\n",
      "Euclidean Distance: 46.8219\n",
      "Result 17:\n",
      "Filename: ds_6.1_gp6_F04-T01.tiff\n",
      "cosine_distance: 0.5811\n",
      "Euclidean Distance: 38.8387\n",
      "Result 18:\n",
      "Filename: ds_6.1_gp6_F05-T01.tiff\n",
      "cosine_distance: 0.5438\n",
      "Euclidean Distance: 32.2721\n",
      "Result 19:\n",
      "Filename: ds_6.1_gp6_F06-T01.tiff\n",
      "cosine_distance: 0.4889\n",
      "Euclidean Distance: 26.1711\n",
      "Result 20:\n",
      "Filename: ds_6.1_gp6_F2.tiff\n",
      "cosine_distance: 0.7630\n",
      "Euclidean Distance: 46.7379\n",
      "Result 21:\n",
      "Filename: ds_6.1_gp8_B07-T01.tiff\n",
      "cosine_distance: 0.6133\n",
      "Euclidean Distance: 35.8519\n",
      "Result 22:\n",
      "Filename: ds_6.1_gp8_B08-T01.tiff\n",
      "cosine_distance: 0.5357\n",
      "Euclidean Distance: 45.4568\n",
      "Result 23:\n",
      "Filename: ds_6.1_gp8_B09-T01.tiff\n",
      "cosine_distance: 0.6729\n",
      "Euclidean Distance: 42.7252\n",
      "Result 24:\n",
      "Filename: ds_6.1_gp8_B10-T01.tiff\n",
      "cosine_distance: 0.7202\n",
      "Euclidean Distance: 43.7253\n",
      "Result 25:\n",
      "Filename: ds_6.1_gp8_B11-T01.tiff\n",
      "cosine_distance: 0.6786\n",
      "Euclidean Distance: 40.2116\n",
      "Result 26:\n",
      "Filename: ds_6.1_gp9_C07-T01.tiff\n",
      "cosine_distance: 0.5956\n",
      "Euclidean Distance: 52.2675\n",
      "Result 27:\n",
      "Filename: ds_6.1_gp9_C08-T01.tiff\n",
      "cosine_distance: 0.6413\n",
      "Euclidean Distance: 34.3234\n",
      "Result 28:\n",
      "Filename: ds_6.1_gp9_C09-T01.tiff\n",
      "cosine_distance: 0.7079\n",
      "Euclidean Distance: 44.8584\n",
      "Result 29:\n",
      "Filename: ds_6.1_gp9_C10-T01.tiff\n",
      "cosine_distance: 0.6406\n",
      "Euclidean Distance: 48.7818\n",
      "Result 30:\n",
      "Filename: ds_6.1_gp9_C11-T01.tiff\n",
      "cosine_distance: 0.6406\n",
      "Euclidean Distance: 40.6159\n",
      "Result 31:\n",
      "Filename: ds_6.2_gp8_B07-T01.tiff\n",
      "cosine_distance: 0.6160\n",
      "Euclidean Distance: 27.4145\n",
      "Result 32:\n",
      "Filename: ds_6.2_gp8_B08-T01.tiff\n",
      "cosine_distance: 0.6871\n",
      "Euclidean Distance: 48.1213\n",
      "Result 33:\n",
      "Filename: ds_6.2_gp8_B09-T01.tiff\n",
      "cosine_distance: 0.4256\n",
      "Euclidean Distance: 29.4541\n",
      "Result 34:\n",
      "Filename: ds_6.2_gp8_B10-T01.tiff\n",
      "cosine_distance: 0.6471\n",
      "Euclidean Distance: 29.6526\n",
      "Result 35:\n",
      "Filename: ds_6.2_gp8_B11-T01.tiff\n",
      "cosine_distance: 0.6076\n",
      "Euclidean Distance: 30.7591\n",
      "Result 36:\n",
      "Filename: ds_6.2_gp9_C07-T01.tiff\n",
      "cosine_distance: 0.7365\n",
      "Euclidean Distance: 41.5143\n",
      "Result 37:\n",
      "Filename: ds_6.2_gp9_C08-T01.tiff\n",
      "cosine_distance: 0.6737\n",
      "Euclidean Distance: 40.9428\n",
      "Result 38:\n",
      "Filename: ds_6.2_gp9_C11-T01.tiff\n",
      "cosine_distance: 0.6651\n",
      "Euclidean Distance: 33.5799\n"
     ]
    }
   ],
   "source": [
    "# Iterate through the results list\n",
    "for i, res in enumerate(exp_results):\n",
    "    print(f\"Result {i + 1}:\")\n",
    "    print(f\"Filename: {res['filename']}\")\n",
    "    print(f\"cosine_distance: {res['cosine_distance'].item():.4f}\")\n",
    "    print(f\"Euclidean Distance: {res['euclidean_distance'].item():.4f}\")\n"
   ]
  },
  {
   "cell_type": "code",
   "execution_count": 14,
   "metadata": {},
   "outputs": [],
   "source": [
    "less_exp_day7= r'C:\\Users\\k54739\\Bibi_new_thesis\\thesis\\day7_day10\\less_exp2\\day7'\n",
    "less_exp_day10 = r'C:\\Users\\k54739\\Bibi_new_thesis\\thesis\\day7_day10\\less_exp2\\day10'"
   ]
  },
  {
   "cell_type": "code",
   "execution_count": 15,
   "metadata": {},
   "outputs": [
    {
     "name": "stdout",
     "output_type": "stream",
     "text": [
      "Number of common files: 2\n",
      "torch.Size([1, 512])\n",
      "torch.Size([1, 512])\n"
     ]
    }
   ],
   "source": [
    "less_exp_results = Preprocess_All_Images(less_exp_day7,less_exp_day10,simclr_model)"
   ]
  },
  {
   "cell_type": "code",
   "execution_count": 16,
   "metadata": {},
   "outputs": [
    {
     "name": "stdout",
     "output_type": "stream",
     "text": [
      "Result 1:\n",
      "Filename: ds_6.2_gp9_C09-T01.tiff\n",
      "cosine_distance: 0.6282\n",
      "Euclidean Distance: 31.7877\n",
      "Result 2:\n",
      "Filename: ds_6.2_gp9_C10-T01.tiff\n",
      "cosine_distance: 0.6873\n",
      "Euclidean Distance: 38.6379\n"
     ]
    }
   ],
   "source": [
    "# Iterate through the results list\n",
    "for i, res in enumerate(less_exp_results):\n",
    "    print(f\"Result {i + 1}:\")\n",
    "    print(f\"Filename: {res['filename']}\")\n",
    "    print(f\"cosine_distance: {res['cosine_distance'].item():.4f}\")\n",
    "    print(f\"Euclidean Distance: {res['euclidean_distance'].item():.4f}\")\n"
   ]
  },
  {
   "cell_type": "code",
   "execution_count": 17,
   "metadata": {},
   "outputs": [],
   "source": [
    "sd_day7= r'C:\\Users\\k54739\\Bibi_new_thesis\\thesis\\day7_day10\\sd_ds\\single_dose\\RBT 01.04_gant61\\Before (untreated) Day7\\GANT61'\n",
    "sd_day10 = r'C:\\Users\\k54739\\Bibi_new_thesis\\thesis\\day7_day10\\sd_ds\\single_dose\\RBT 01.04_gant61\\After Day10\\GANT61'"
   ]
  },
  {
   "cell_type": "code",
   "execution_count": 18,
   "metadata": {},
   "outputs": [
    {
     "name": "stdout",
     "output_type": "stream",
     "text": [
      "Number of common files: 29\n",
      "torch.Size([1, 512])\n",
      "torch.Size([1, 512])\n",
      "torch.Size([1, 512])\n",
      "torch.Size([1, 512])\n",
      "torch.Size([1, 512])\n",
      "torch.Size([1, 512])\n",
      "torch.Size([1, 512])\n",
      "torch.Size([1, 512])\n",
      "torch.Size([1, 512])\n",
      "torch.Size([1, 512])\n",
      "torch.Size([1, 512])\n",
      "torch.Size([1, 512])\n",
      "torch.Size([1, 512])\n",
      "torch.Size([1, 512])\n",
      "torch.Size([1, 512])\n",
      "torch.Size([1, 512])\n",
      "torch.Size([1, 512])\n",
      "torch.Size([1, 512])\n",
      "torch.Size([1, 512])\n",
      "torch.Size([1, 512])\n",
      "torch.Size([1, 512])\n",
      "torch.Size([1, 512])\n",
      "torch.Size([1, 512])\n",
      "torch.Size([1, 512])\n",
      "torch.Size([1, 512])\n",
      "torch.Size([1, 512])\n",
      "torch.Size([1, 512])\n",
      "torch.Size([1, 512])\n",
      "torch.Size([1, 512])\n"
     ]
    }
   ],
   "source": [
    "sd_results = Preprocess_All_Images(sd_day7,sd_day10,simclr_model)"
   ]
  },
  {
   "cell_type": "code",
   "execution_count": 19,
   "metadata": {},
   "outputs": [
    {
     "name": "stdout",
     "output_type": "stream",
     "text": [
      "Result 1:\n",
      "Filename: B07-T01.tiff\n",
      "cosine_distance: 0.6342\n",
      "Euclidean Distance: 32.8473\n",
      "Result 2:\n",
      "Filename: B08-T01.tiff\n",
      "cosine_distance: 0.7057\n",
      "Euclidean Distance: 44.5317\n",
      "Result 3:\n",
      "Filename: B09-T01.tiff\n",
      "cosine_distance: 0.6515\n",
      "Euclidean Distance: 28.8045\n",
      "Result 4:\n",
      "Filename: B10-T01.tiff\n",
      "cosine_distance: 0.7006\n",
      "Euclidean Distance: 44.5426\n",
      "Result 5:\n",
      "Filename: B11-T01.tiff\n",
      "cosine_distance: 0.6350\n",
      "Euclidean Distance: 52.5606\n",
      "Result 6:\n",
      "Filename: C07-T01.tiff\n",
      "cosine_distance: 0.5851\n",
      "Euclidean Distance: 24.9901\n",
      "Result 7:\n",
      "Filename: C08-T01.tiff\n",
      "cosine_distance: 0.5875\n",
      "Euclidean Distance: 25.6173\n",
      "Result 8:\n",
      "Filename: C09-T01.tiff\n",
      "cosine_distance: 0.6693\n",
      "Euclidean Distance: 39.1737\n",
      "Result 9:\n",
      "Filename: C10-T01.tiff\n",
      "cosine_distance: 0.6529\n",
      "Euclidean Distance: 59.9391\n",
      "Result 10:\n",
      "Filename: D07-T01.tiff\n",
      "cosine_distance: 0.5005\n",
      "Euclidean Distance: 24.6487\n",
      "Result 11:\n",
      "Filename: D08-T01.tiff\n",
      "cosine_distance: 0.6258\n",
      "Euclidean Distance: 28.3726\n",
      "Result 12:\n",
      "Filename: D09-T01.tiff\n",
      "cosine_distance: 0.5728\n",
      "Euclidean Distance: 26.0941\n",
      "Result 13:\n",
      "Filename: D10-T01.tiff\n",
      "cosine_distance: 0.7102\n",
      "Euclidean Distance: 45.7556\n",
      "Result 14:\n",
      "Filename: D11-T01.tiff\n",
      "cosine_distance: 0.6800\n",
      "Euclidean Distance: 31.3581\n",
      "Result 15:\n",
      "Filename: E07-T01.tiff\n",
      "cosine_distance: 0.3958\n",
      "Euclidean Distance: 23.8648\n",
      "Result 16:\n",
      "Filename: E08-T01.tiff\n",
      "cosine_distance: 0.5589\n",
      "Euclidean Distance: 26.5395\n",
      "Result 17:\n",
      "Filename: E09-T01.tiff\n",
      "cosine_distance: 0.5762\n",
      "Euclidean Distance: 25.2629\n",
      "Result 18:\n",
      "Filename: E10-T01.tiff\n",
      "cosine_distance: 0.6428\n",
      "Euclidean Distance: 30.0194\n",
      "Result 19:\n",
      "Filename: E11-T01.tiff\n",
      "cosine_distance: 0.7045\n",
      "Euclidean Distance: 30.0507\n",
      "Result 20:\n",
      "Filename: F07-T01.tiff\n",
      "cosine_distance: 0.5690\n",
      "Euclidean Distance: 24.3108\n",
      "Result 21:\n",
      "Filename: F08-T01.tiff\n",
      "cosine_distance: 0.6544\n",
      "Euclidean Distance: 29.0729\n",
      "Result 22:\n",
      "Filename: F09-T01.tiff\n",
      "cosine_distance: 0.5823\n",
      "Euclidean Distance: 23.4692\n",
      "Result 23:\n",
      "Filename: F10-T01.tiff\n",
      "cosine_distance: 0.7099\n",
      "Euclidean Distance: 35.8830\n",
      "Result 24:\n",
      "Filename: F11-T01.tiff\n",
      "cosine_distance: 0.7432\n",
      "Euclidean Distance: 36.1567\n",
      "Result 25:\n",
      "Filename: G07-T01.tiff\n",
      "cosine_distance: 0.6069\n",
      "Euclidean Distance: 25.8245\n",
      "Result 26:\n",
      "Filename: G08-T01.tiff\n",
      "cosine_distance: 0.6914\n",
      "Euclidean Distance: 25.9859\n",
      "Result 27:\n",
      "Filename: G09-T01.tiff\n",
      "cosine_distance: 0.5973\n",
      "Euclidean Distance: 25.7308\n",
      "Result 28:\n",
      "Filename: G10-T01.tiff\n",
      "cosine_distance: 0.7259\n",
      "Euclidean Distance: 58.0167\n",
      "Result 29:\n",
      "Filename: G11-T01.tiff\n",
      "cosine_distance: 0.6882\n",
      "Euclidean Distance: 40.4203\n"
     ]
    }
   ],
   "source": [
    "# Iterate through the results list\n",
    "for i, res in enumerate(sd_results):\n",
    "    print(f\"Result {i + 1}:\")\n",
    "    print(f\"Filename: {res['filename']}\")\n",
    "    print(f\"cosine_distance: {res['cosine_distance'].item():.4f}\")\n",
    "    print(f\"Euclidean Distance: {res['euclidean_distance'].item():.4f}\")\n"
   ]
  },
  {
   "cell_type": "code",
   "execution_count": 28,
   "metadata": {},
   "outputs": [
    {
     "name": "stdout",
     "output_type": "stream",
     "text": [
      "130\n",
      "29\n",
      "38\n",
      "2\n"
     ]
    }
   ],
   "source": [
    "# Extract distances from the results\n",
    "cont_cosine = [res[\"cosine_distance\"].item() for res in control_results]\n",
    "print(len(cont_cosine))\n",
    "cont_euclidean = [res[\"euclidean_distance\"].item() for res in control_results]\n",
    "\n",
    "sd_cosine = [res[\"cosine_distance\"].item() for res in sd_results]\n",
    "print(len(sd_cosine))\n",
    "sd_euclidean = [res[\"euclidean_distance\"].item() for res in sd_results]\n",
    "\n",
    "ex_cosine = [res[\"cosine_distance\"].item() for res in exp_results]\n",
    "ex_euclidean = [res[\"euclidean_distance\"].item() for res in exp_results]\n",
    "print(len(ex_cosine))\n",
    "\n",
    "less_ex_cosine = [res[\"cosine_distance\"].item() for res in less_exp_results]\n",
    "less_ex_euclidean = [res[\"euclidean_distance\"].item() for res in less_exp_results]\n",
    "print(len(less_ex_cosine))"
   ]
  },
  {
   "cell_type": "code",
   "execution_count": 30,
   "metadata": {},
   "outputs": [
    {
     "data": {
      "image/png": "[encoded data removed]",
      "text/plain": [
       "<Figure size 1000x500 with 1 Axes>"
      ]
     },
     "metadata": {},
     "output_type": "display_data"
    },
    {
     "data": {
      "image/png": "[encoded data removed]",
      "text/plain": [
       "<Figure size 1000x500 with 1 Axes>"
      ]
     },
     "metadata": {},
     "output_type": "display_data"
    }
   ],
   "source": [
    "import matplotlib.pyplot as plt\n",
    "\n",
    "# Plot the distribution of Cosine Distance\n",
    "plt.figure(figsize=(10, 5))\n",
    "plt.hist(cont_cosine, bins=20, color='blue', alpha=0.7, label='Cosine Distance')\n",
    "plt.title('Cosine Distance Distribution')\n",
    "plt.xlabel('Cosine Distance')\n",
    "plt.ylabel('Frequency')\n",
    "plt.legend()\n",
    "plt.grid()\n",
    "plt.show()\n",
    "\n",
    "# Plot the distribution of Euclidean Distance\n",
    "plt.figure(figsize=(10, 5))\n",
    "plt.hist(cont_euclidean, bins=20, color='orange', alpha=0.7, label='Euclidean Distance')\n",
    "plt.title('Euclidean Distance Distribution')\n",
    "plt.xlabel('Euclidean Distance')\n",
    "plt.ylabel('Frequency')\n",
    "plt.legend()\n",
    "plt.grid()\n",
    "plt.show()\n"
   ]
  },
  {
   "cell_type": "code",
   "execution_count": 31,
   "metadata": {},
   "outputs": [
    {
     "name": "stdout",
     "output_type": "stream",
     "text": [
      "130\n",
      "29\n",
      "38\n",
      "2\n"
     ]
    }
   ],
   "source": [
    "# Extract distances from the results\n",
    "cont_cosine = [res[\"cosine_distance\"].item() for res in control_results]\n",
    "print(len(cont_cosine))\n",
    "cont_euclidean = [res[\"euclidean_distance\"].item() for res in control_results]\n",
    "\n",
    "sd_cosine = [res[\"cosine_distance\"].item() for res in sd_results]\n",
    "print(len(sd_cosine))\n",
    "sd_euclidean = [res[\"euclidean_distance\"].item() for res in sd_results]\n",
    "\n",
    "ex_cosine = [res[\"cosine_distance\"].item() for res in exp_results]\n",
    "ex_euclidean = [res[\"euclidean_distance\"].item() for res in exp_results]\n",
    "print(len(ex_cosine))\n",
    "\n",
    "less_ex_cosine = [res[\"cosine_distance\"].item() for res in less_exp_results]\n",
    "less_ex_euclidean = [res[\"euclidean_distance\"].item() for res in less_exp_results]\n",
    "print(len(less_ex_cosine))"
   ]
  },
  {
   "cell_type": "code",
   "execution_count": 33,
   "metadata": {},
   "outputs": [
    {
     "data": {
      "image/png": "[encoded data removed]",
      "text/plain": [
       "<Figure size 1000x500 with 1 Axes>"
      ]
     },
     "metadata": {},
     "output_type": "display_data"
    },
    {
     "data": {
      "image/png": "[encoded data removed]",
      "text/plain": [
       "<Figure size 1000x500 with 1 Axes>"
      ]
     },
     "metadata": {},
     "output_type": "display_data"
    }
   ],
   "source": [
    "import matplotlib.pyplot as plt\n",
    "\n",
    "# Define colors and labels for the groups\n",
    "groups = {\n",
    "    \"Control\": cont_cosine,\n",
    "    \"SD\": sd_cosine,\n",
    "    \"Experimental\": ex_cosine,\n",
    "    \"Less Experimental\": less_ex_cosine\n",
    "}\n",
    "colors = [\"blue\", \"orange\", \"green\", \"red\"]\n",
    "\n",
    "# Plot Cosine Distances\n",
    "plt.figure(figsize=(10, 5))\n",
    "for (label, data), color in zip(groups.items(), colors):\n",
    "    plt.hist(data, bins=20, alpha=0.5, label=label, color=color)  # No density=True\n",
    "plt.title(\"Cosine Distance Distribution\")\n",
    "plt.xlabel(\"Cosine Distance\")\n",
    "plt.ylabel(\"Frequency (Raw Counts)\")\n",
    "plt.legend()\n",
    "plt.grid()\n",
    "plt.show()\n",
    "\n",
    "# Update groups for Euclidean distances\n",
    "groups = {\n",
    "    \"Control\": cont_euclidean,\n",
    "    \"SD\": sd_euclidean,\n",
    "    \"Experimental\": ex_euclidean,\n",
    "    \"Less Experimental\": less_ex_euclidean\n",
    "}\n",
    "\n",
    "# Plot Euclidean Distances\n",
    "plt.figure(figsize=(10, 5))\n",
    "for (label, data), color in zip(groups.items(), colors):\n",
    "    plt.hist(data, bins=20, alpha=0.5, label=label, color=color)  # No density=True\n",
    "plt.title(\"Euclidean Distance Distribution\")\n",
    "plt.xlabel(\"Euclidean Distance\")\n",
    "plt.ylabel(\"Frequency (Raw Counts)\")\n",
    "plt.legend()\n",
    "plt.grid()\n",
    "plt.show()\n"
   ]
  }
 ],
 "metadata": {
  "kernelspec": {
   "display_name": "master",
   "language": "python",
   "name": "python3"
  },
  "language_info": {
   "codemirror_mode": {
    "name": "ipython",
    "version": 3
   },
   "file_extension": ".py",
   "mimetype": "text/x-python",
   "name": "python",
   "nbconvert_exporter": "python",
   "pygments_lexer": "ipython3",
   "version": "3.12.4"
  }
 },
 "nbformat": 4,
 "nbformat_minor": 2
}
