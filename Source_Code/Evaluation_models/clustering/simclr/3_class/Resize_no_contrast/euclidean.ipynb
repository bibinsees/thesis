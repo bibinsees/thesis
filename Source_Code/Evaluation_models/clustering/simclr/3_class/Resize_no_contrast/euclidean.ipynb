{
 "cells": [
  {
   "cell_type": "code",
   "execution_count": 1,
   "metadata": {},
   "outputs": [],
   "source": [
    "import os\n",
    "import numpy as np\n",
    "import torch\n",
    "from torch import nn, optim\n",
    "from torch.utils.data import Dataset, DataLoader, random_split\n",
    "from torchvision import transforms\n",
    "import torchvision\n",
    "import tifffile as tiff\n",
    "import matplotlib.pyplot as plt\n",
    "import time\n",
    "from tqdm import tqdm\n",
    "from copy import deepcopy\n",
    "import random\n",
    "\n",
    "\n",
    "from collections import Counter\n",
    "from scipy.stats import mode"
   ]
  },
  {
   "cell_type": "code",
   "execution_count": 2,
   "metadata": {},
   "outputs": [],
   "source": [
    "# Set seed for reproducibility\n",
    "def set_seed(seed):\n",
    "    random.seed(seed)\n",
    "    np.random.seed(seed)\n",
    "    torch.manual_seed(seed)\n",
    "    if torch.cuda.is_available():\n",
    "        torch.cuda.manual_seed(seed)\n",
    "        torch.cuda.manual_seed_all(seed)\n",
    "    torch.backends.cudnn.deterministic = True\n",
    "    torch.backends.cudnn.benchmark = False\n",
    "\n",
    "# Set seed\n",
    "set_seed(42)"
   ]
  },
  {
   "cell_type": "code",
   "execution_count": 3,
   "metadata": {},
   "outputs": [],
   "source": [
    "class SimCLR(nn.Module):\n",
    "    def __init__(self, hidden_dim, lr, temperature, weight_decay,max_epochs):\n",
    "        super().__init__()\n",
    "        self.temperature = temperature\n",
    "        \n",
    "        # Load the pretrained ResNet-18 model\n",
    "        self.convnet = torchvision.models.resnet18(weights='ResNet18_Weights.DEFAULT')\n",
    "        \n",
    "        # Modify the fully connected layer\n",
    "        self.convnet.fc = nn.Sequential(\n",
    "            nn.Linear(self.convnet.fc.in_features, 4 * hidden_dim),  # Linear layer with 4*hidden_dim output\n",
    "            nn.ReLU(inplace=True),\n",
    "            nn.Linear(4 * hidden_dim, 20)  # Output layer with hidden_dim output\n",
    "        )\n",
    "\n",
    "        self.optimizer = optim.AdamW(self.parameters(), lr=lr, weight_decay=weight_decay)\n",
    "        self.lr_scheduler = optim.lr_scheduler.CosineAnnealingLR(self.optimizer, T_max=max_epochs, eta_min=lr / 50)\n",
    "\n",
    "    def forward(self, x):\n",
    "        return self.convnet(x)\n",
    "\n",
    "    def info_nce_loss(self, imgs1, imgs2, device):\n",
    "\n",
    "        imgs = torch.cat((imgs1, imgs2), dim=0)  # Concatenate along the batch dimension\n",
    "        imgs = imgs.to(device)  # Move images to the device\n",
    "\n",
    "        # Encode all images\n",
    "        feats = self.forward(imgs)\n",
    "    \n",
    "        # Calculate cosine similarity\n",
    "        cos_sim = nn.functional.cosine_similarity(feats[:, None, :], feats[None, :, :], dim=-1)\n",
    "    \n",
    "        # Mask out cosine similarity to itself\n",
    "        self_mask = torch.eye(cos_sim.shape[0], dtype=torch.bool, device=cos_sim.device)\n",
    "        cos_sim.masked_fill_(self_mask, -9e15)\n",
    "    \n",
    "        # Find positive example -> batch_size//2 away from the original example\n",
    "        pos_mask = self_mask.roll(shifts=cos_sim.shape[0] // 2, dims=0)\n",
    "    \n",
    "        # Normalize similarity scores by temperature\n",
    "        cos_sim = cos_sim / self.temperature\n",
    "\n",
    "        # InfoNCE loss\n",
    "        nll = -cos_sim[pos_mask] + torch.logsumexp(cos_sim, dim=-1)\n",
    "        nll = nll.mean()\n",
    "\n",
    "        # Accuracy calculations\n",
    "        # Create a combination of positive and negative similarities for ranking\n",
    "        comb_sim = torch.cat([cos_sim[pos_mask][:, None],  # Positive example in first position\n",
    "                          cos_sim.masked_fill(pos_mask, -9e15)], dim=-1)\n",
    "    \n",
    "        # Sort and get the ranking position of the positive example\n",
    "        sim_argsort = comb_sim.argsort(dim=-1, descending=True).argmin(dim=-1)\n",
    "    \n",
    "        # Compute accuracy metrics\n",
    "        top1_acc = (sim_argsort == 0).float().mean()  # Top-1 accuracy\n",
    "        top5_acc = (sim_argsort < 5).float().mean()   # Top-5 accuracy\n",
    "        mean_pos = 1 + sim_argsort.float().mean()     # Mean position of the positive example\n",
    "\n",
    "        return nll, top1_acc, top5_acc, mean_pos\n",
    "\n",
    "    def train_epoch(self, train_loader, device):\n",
    "        self.train()\n",
    "        total_loss = 0.0\n",
    "        total_top1_acc = 0.0\n",
    "        total_top5_acc = 0.0\n",
    "        total_mean_pos = 0.0\n",
    "\n",
    "        for batch in tqdm(train_loader, desc=\"Training\", leave=False):\n",
    "            imgs1, imgs2, _ = batch\n",
    "            imgs1, imgs2 = imgs1.to(device), imgs2.to(device)  # Move data to device\n",
    "        \n",
    "            self.optimizer.zero_grad()\n",
    "\n",
    "            # Calculate loss and accuracy metrics\n",
    "            loss, top1_acc, top5_acc, mean_pos = self.info_nce_loss(imgs1, imgs2, device)\n",
    "\n",
    "            loss.backward()\n",
    "            self.optimizer.step()\n",
    "            #self.lr_scheduler.step()\n",
    "\n",
    "            # Accumulate metrics\n",
    "            total_loss += loss.item()\n",
    "            total_top1_acc += top1_acc.item()\n",
    "            total_top5_acc += top5_acc.item()\n",
    "            total_mean_pos += mean_pos.item()\n",
    "\n",
    "        avg_loss = total_loss / len(train_loader)\n",
    "        avg_top1_acc = total_top1_acc / len(train_loader)\n",
    "        avg_top5_acc = total_top5_acc / len(train_loader)\n",
    "        avg_mean_pos = total_mean_pos / len(train_loader)\n",
    "\n",
    "        return avg_loss, avg_top1_acc, avg_top5_acc, avg_mean_pos\n",
    "\n",
    "    def validate_epoch(self, val_loader, device):\n",
    "        self.eval()\n",
    "        total_loss = 0.0\n",
    "        total_top1_acc = 0.0\n",
    "        total_top5_acc = 0.0\n",
    "        total_mean_pos = 0.0\n",
    "\n",
    "        with torch.no_grad():\n",
    "            for batch in tqdm(val_loader, desc=\"Validating\", leave=False):\n",
    "                imgs1, imgs2, _ = batch\n",
    "                imgs1, imgs2 = imgs1.to(device), imgs2.to(device)  # Move data to device\n",
    "\n",
    "                # Calculate loss and accuracy metrics\n",
    "                loss, top1_acc, top5_acc, mean_pos = self.info_nce_loss(imgs1, imgs2, device)\n",
    "\n",
    "                # Accumulate metrics\n",
    "                total_loss += loss.item()\n",
    "                total_top1_acc += top1_acc.item()\n",
    "                total_top5_acc += top5_acc.item()\n",
    "                total_mean_pos += mean_pos.item()\n",
    "\n",
    "        avg_loss = total_loss / len(val_loader)\n",
    "        avg_top1_acc = total_top1_acc / len(val_loader)\n",
    "        avg_top5_acc = total_top5_acc / len(val_loader)\n",
    "        avg_mean_pos = total_mean_pos / len(val_loader)\n",
    "\n",
    "        return avg_loss, avg_top1_acc, avg_top5_acc, avg_mean_pos\n",
    "    \n",
    "\n",
    "    def inference_epoch(self, inference_loader, device):\n",
    "        self.eval()\n",
    "        total_loss = 0.0\n",
    "        total_top1_acc = 0.0\n",
    "        total_top5_acc = 0.0\n",
    "        total_mean_pos = 0.0\n",
    "\n",
    "        with torch.no_grad():\n",
    "            for batch in tqdm(inference_loader, desc=\"Inferencing\", leave=False):\n",
    "                imgs1, imgs2, _ = batch\n",
    "                imgs1, imgs2 = imgs1.to(device), imgs2.to(device)  # Move data to device\n",
    "\n",
    "                # Calculate loss and accuracy metrics\n",
    "                loss, top1_acc, top5_acc, mean_pos = self.info_nce_loss(imgs1, imgs2, device)\n",
    "\n",
    "                # Accumulate metrics\n",
    "                total_loss += loss.item()\n",
    "                total_top1_acc += top1_acc.item()\n",
    "                total_top5_acc += top5_acc.item()\n",
    "                total_mean_pos += mean_pos.item()\n",
    "\n",
    "        avg_loss = total_loss / len(inference_loader)\n",
    "        avg_top1_acc = total_top1_acc / len(inference_loader)\n",
    "        avg_top5_acc = total_top5_acc / len(inference_loader)\n",
    "        avg_mean_pos = total_mean_pos / len(inference_loader)\n",
    "\n",
    "        return avg_loss, avg_top1_acc, avg_top5_acc, avg_mean_pos"
   ]
  },
  {
   "cell_type": "code",
   "execution_count": 4,
   "metadata": {},
   "outputs": [],
   "source": [
    "# Device setup for inference\n",
    "device = torch.device(\"cuda\" if torch.cuda.is_available() else \"cpu\")"
   ]
  },
  {
   "cell_type": "code",
   "execution_count": 5,
   "metadata": {},
   "outputs": [
    {
     "name": "stderr",
     "output_type": "stream",
     "text": [
      "C:\\Users\\k54739\\AppData\\Local\\Temp\\ipykernel_19144\\3302094204.py:4: FutureWarning: You are using `torch.load` with `weights_only=False` (the current default value), which uses the default pickle module implicitly. It is possible to construct malicious pickle data which will execute arbitrary code during unpickling (See https://github.com/pytorch/pytorch/blob/main/SECURITY.md#untrusted-models for more details). In a future release, the default value for `weights_only` will be flipped to `True`. This limits the functions that could be executed during unpickling. Arbitrary objects will no longer be allowed to be loaded via this mode unless they are explicitly allowlisted by the user via `torch.serialization.add_safe_globals`. We recommend you start setting `weights_only=True` for any use case where you don't have full control of the loaded file. Please open an issue on GitHub for any issues related to this experimental feature.\n",
      "  simclr_model.load_state_dict(torch.load(model_path))\n"
     ]
    },
    {
     "data": {
      "text/plain": [
       "SimCLR(\n",
       "  (convnet): ResNet(\n",
       "    (conv1): Conv2d(3, 64, kernel_size=(7, 7), stride=(2, 2), padding=(3, 3), bias=False)\n",
       "    (bn1): BatchNorm2d(64, eps=1e-05, momentum=0.1, affine=True, track_running_stats=True)\n",
       "    (relu): ReLU(inplace=True)\n",
       "    (maxpool): MaxPool2d(kernel_size=3, stride=2, padding=1, dilation=1, ceil_mode=False)\n",
       "    (layer1): Sequential(\n",
       "      (0): BasicBlock(\n",
       "        (conv1): Conv2d(64, 64, kernel_size=(3, 3), stride=(1, 1), padding=(1, 1), bias=False)\n",
       "        (bn1): BatchNorm2d(64, eps=1e-05, momentum=0.1, affine=True, track_running_stats=True)\n",
       "        (relu): ReLU(inplace=True)\n",
       "        (conv2): Conv2d(64, 64, kernel_size=(3, 3), stride=(1, 1), padding=(1, 1), bias=False)\n",
       "        (bn2): BatchNorm2d(64, eps=1e-05, momentum=0.1, affine=True, track_running_stats=True)\n",
       "      )\n",
       "      (1): BasicBlock(\n",
       "        (conv1): Conv2d(64, 64, kernel_size=(3, 3), stride=(1, 1), padding=(1, 1), bias=False)\n",
       "        (bn1): BatchNorm2d(64, eps=1e-05, momentum=0.1, affine=True, track_running_stats=True)\n",
       "        (relu): ReLU(inplace=True)\n",
       "        (conv2): Conv2d(64, 64, kernel_size=(3, 3), stride=(1, 1), padding=(1, 1), bias=False)\n",
       "        (bn2): BatchNorm2d(64, eps=1e-05, momentum=0.1, affine=True, track_running_stats=True)\n",
       "      )\n",
       "    )\n",
       "    (layer2): Sequential(\n",
       "      (0): BasicBlock(\n",
       "        (conv1): Conv2d(64, 128, kernel_size=(3, 3), stride=(2, 2), padding=(1, 1), bias=False)\n",
       "        (bn1): BatchNorm2d(128, eps=1e-05, momentum=0.1, affine=True, track_running_stats=True)\n",
       "        (relu): ReLU(inplace=True)\n",
       "        (conv2): Conv2d(128, 128, kernel_size=(3, 3), stride=(1, 1), padding=(1, 1), bias=False)\n",
       "        (bn2): BatchNorm2d(128, eps=1e-05, momentum=0.1, affine=True, track_running_stats=True)\n",
       "        (downsample): Sequential(\n",
       "          (0): Conv2d(64, 128, kernel_size=(1, 1), stride=(2, 2), bias=False)\n",
       "          (1): BatchNorm2d(128, eps=1e-05, momentum=0.1, affine=True, track_running_stats=True)\n",
       "        )\n",
       "      )\n",
       "      (1): BasicBlock(\n",
       "        (conv1): Conv2d(128, 128, kernel_size=(3, 3), stride=(1, 1), padding=(1, 1), bias=False)\n",
       "        (bn1): BatchNorm2d(128, eps=1e-05, momentum=0.1, affine=True, track_running_stats=True)\n",
       "        (relu): ReLU(inplace=True)\n",
       "        (conv2): Conv2d(128, 128, kernel_size=(3, 3), stride=(1, 1), padding=(1, 1), bias=False)\n",
       "        (bn2): BatchNorm2d(128, eps=1e-05, momentum=0.1, affine=True, track_running_stats=True)\n",
       "      )\n",
       "    )\n",
       "    (layer3): Sequential(\n",
       "      (0): BasicBlock(\n",
       "        (conv1): Conv2d(128, 256, kernel_size=(3, 3), stride=(2, 2), padding=(1, 1), bias=False)\n",
       "        (bn1): BatchNorm2d(256, eps=1e-05, momentum=0.1, affine=True, track_running_stats=True)\n",
       "        (relu): ReLU(inplace=True)\n",
       "        (conv2): Conv2d(256, 256, kernel_size=(3, 3), stride=(1, 1), padding=(1, 1), bias=False)\n",
       "        (bn2): BatchNorm2d(256, eps=1e-05, momentum=0.1, affine=True, track_running_stats=True)\n",
       "        (downsample): Sequential(\n",
       "          (0): Conv2d(128, 256, kernel_size=(1, 1), stride=(2, 2), bias=False)\n",
       "          (1): BatchNorm2d(256, eps=1e-05, momentum=0.1, affine=True, track_running_stats=True)\n",
       "        )\n",
       "      )\n",
       "      (1): BasicBlock(\n",
       "        (conv1): Conv2d(256, 256, kernel_size=(3, 3), stride=(1, 1), padding=(1, 1), bias=False)\n",
       "        (bn1): BatchNorm2d(256, eps=1e-05, momentum=0.1, affine=True, track_running_stats=True)\n",
       "        (relu): ReLU(inplace=True)\n",
       "        (conv2): Conv2d(256, 256, kernel_size=(3, 3), stride=(1, 1), padding=(1, 1), bias=False)\n",
       "        (bn2): BatchNorm2d(256, eps=1e-05, momentum=0.1, affine=True, track_running_stats=True)\n",
       "      )\n",
       "    )\n",
       "    (layer4): Sequential(\n",
       "      (0): BasicBlock(\n",
       "        (conv1): Conv2d(256, 512, kernel_size=(3, 3), stride=(2, 2), padding=(1, 1), bias=False)\n",
       "        (bn1): BatchNorm2d(512, eps=1e-05, momentum=0.1, affine=True, track_running_stats=True)\n",
       "        (relu): ReLU(inplace=True)\n",
       "        (conv2): Conv2d(512, 512, kernel_size=(3, 3), stride=(1, 1), padding=(1, 1), bias=False)\n",
       "        (bn2): BatchNorm2d(512, eps=1e-05, momentum=0.1, affine=True, track_running_stats=True)\n",
       "        (downsample): Sequential(\n",
       "          (0): Conv2d(256, 512, kernel_size=(1, 1), stride=(2, 2), bias=False)\n",
       "          (1): BatchNorm2d(512, eps=1e-05, momentum=0.1, affine=True, track_running_stats=True)\n",
       "        )\n",
       "      )\n",
       "      (1): BasicBlock(\n",
       "        (conv1): Conv2d(512, 512, kernel_size=(3, 3), stride=(1, 1), padding=(1, 1), bias=False)\n",
       "        (bn1): BatchNorm2d(512, eps=1e-05, momentum=0.1, affine=True, track_running_stats=True)\n",
       "        (relu): ReLU(inplace=True)\n",
       "        (conv2): Conv2d(512, 512, kernel_size=(3, 3), stride=(1, 1), padding=(1, 1), bias=False)\n",
       "        (bn2): BatchNorm2d(512, eps=1e-05, momentum=0.1, affine=True, track_running_stats=True)\n",
       "      )\n",
       "    )\n",
       "    (avgpool): AdaptiveAvgPool2d(output_size=(1, 1))\n",
       "    (fc): Sequential(\n",
       "      (0): Linear(in_features=512, out_features=512, bias=True)\n",
       "      (1): ReLU(inplace=True)\n",
       "      (2): Linear(in_features=512, out_features=20, bias=True)\n",
       "    )\n",
       "  )\n",
       ")"
      ]
     },
     "execution_count": 5,
     "metadata": {},
     "output_type": "execute_result"
    }
   ],
   "source": [
    "# Define file paths\n",
    "model_path = r'C:\\Users\\k54739\\Bibi_new_thesis\\thesis\\Source_Code\\SimCLR_base_models\\ohnecontrast_balancedResize_simclr_modelepoch245.pth'\n",
    "simclr_model = SimCLR(hidden_dim=128, lr=5e-4, temperature=0.07, weight_decay=1e-4,max_epochs=245)\n",
    "simclr_model.load_state_dict(torch.load(model_path))\n",
    "simclr_model.to(device)\n",
    "simclr_model.eval()"
   ]
  },
  {
   "cell_type": "markdown",
   "metadata": {},
   "source": [
    "# Clustering"
   ]
  },
  {
   "cell_type": "code",
   "execution_count": 6,
   "metadata": {},
   "outputs": [
    {
     "name": "stdout",
     "output_type": "stream",
     "text": [
      "Label distribution: {'cond7_curated': 280, 'sd': 125, 'ex': 40}\n"
     ]
    }
   ],
   "source": [
    "class LabeledImageDataset(Dataset):\n",
    "    def __init__(self, image_files, labels, transform=None):\n",
    "        self.image_files = image_files\n",
    "        self.labels = labels\n",
    "        #self.transform = transform\n",
    "        self.resize_transform = transforms.Resize((96, 96))\n",
    "\n",
    "    def __len__(self):\n",
    "        return len(self.image_files)\n",
    "\n",
    "    def __getitem__(self, idx):\n",
    "        img_path = self.image_files[idx]\n",
    "        image = tiff.imread(img_path)\n",
    "\n",
    "        # Ensure the image has 3 layers (channels)\n",
    "        if image.shape[0] != 3:\n",
    "            raise ValueError(f\"Image {img_path} does not have exactly 3 layers.\")\n",
    "\n",
    "        # Normalize the 16-bit image to [0, 1]\n",
    "        image = image.astype(np.float32) / 65535.0\n",
    "\n",
    "        # Convert to a torch tensor and add channel dimension\n",
    "        image = torch.tensor(image, dtype=torch.float32)\n",
    "        \n",
    "        # Apply resize transform\n",
    "        image = self.resize_transform(image)\n",
    "\n",
    "        label = self.labels[idx]\n",
    "\n",
    "        return image, label, img_path\n",
    "\n",
    "def load_data(root_dir):\n",
    "\n",
    "    #classes = ['cond7_all', 'sd','ex'] #full dataset\n",
    "    classes = ['cond7_curated', 'sd','ex'] # curated full dataset\n",
    "\n",
    "\n",
    "\n",
    "    #classes = ['cond7_40', 'sd_40','ex'] # 40 subset\n",
    "    #classes = ['curated_cond7_40', 'sd_40','ex'] # curated 40 subset\n",
    "\n",
    "\n",
    "\n",
    "\n",
    "\n",
    "    image_files = []\n",
    "    labels = []\n",
    "\n",
    "    for idx, class_name in enumerate(classes):\n",
    "        class_dir = os.path.join(root_dir, class_name)\n",
    "        files = [os.path.join(class_dir, file) for file in os.listdir(class_dir) if file.endswith(('.tiff', '.tif'))]\n",
    "        image_files.extend(files)\n",
    "        labels.extend([idx] * len(files))\n",
    "    \n",
    "    # Check if the labels correctly reflect the classes\n",
    "    print(\"Label distribution:\", {classes[i]: labels.count(i) for i in range(len(classes))})\n",
    "\n",
    "    return image_files, labels\n",
    "\n",
    "\n",
    "# Directories for labeled data\n",
    "image_dir =  r\"C:\\Users\\k54739\\Bibi_new_thesis\\thesis\\classification\"\n",
    "\n",
    "#image_dir =  r\"C:\\Users\\k54739\\Bibi_new_thesis\\thesis\\classification\\cluster_40\"\n",
    "\n",
    "# Load data\n",
    "image_files, labels = load_data(image_dir)\n",
    "\n",
    "# Create the labeled datasets\n",
    "labeled_dataset = LabeledImageDataset(image_files, labels)\n",
    "\n",
    "# Define DataLoaders\n",
    "batch_size = 16\n",
    "loader_labeled = DataLoader(labeled_dataset, batch_size=batch_size, shuffle=True, drop_last=False, pin_memory=True, num_workers=0)"
   ]
  },
  {
   "cell_type": "code",
   "execution_count": 7,
   "metadata": {},
   "outputs": [
    {
     "name": "stdout",
     "output_type": "stream",
     "text": [
      "torch.Size([16, 3, 96, 96]) torch.Size([16]) torch.float32\n",
      "tensor([1, 0, 1, 0, 0, 1, 1, 1, 2, 1, 0, 0, 0, 0, 1, 1])\n",
      "['C:\\\\Users\\\\k54739\\\\Bibi_new_thesis\\\\thesis\\\\classification\\\\sd\\\\sd_RBT_01.09_Day10_C11-T01.tiff', 'C:\\\\Users\\\\k54739\\\\Bibi_new_thesis\\\\thesis\\\\classification\\\\cond7_curated\\\\ds_41_F06-T01.tiff', 'C:\\\\Users\\\\k54739\\\\Bibi_new_thesis\\\\thesis\\\\classification\\\\sd\\\\sd_RBT_01.09_Day10_E10-T01.tiff', 'C:\\\\Users\\\\k54739\\\\Bibi_new_thesis\\\\thesis\\\\classification\\\\cond7_curated\\\\ds_42_B04-T01.tiff', 'C:\\\\Users\\\\k54739\\\\Bibi_new_thesis\\\\thesis\\\\classification\\\\cond7_curated\\\\ds_41_D04-T01.tiff', 'C:\\\\Users\\\\k54739\\\\Bibi_new_thesis\\\\thesis\\\\classification\\\\sd\\\\sd_RBT_01.10_Day10_E11-T01.tiff', 'C:\\\\Users\\\\k54739\\\\Bibi_new_thesis\\\\thesis\\\\classification\\\\sd\\\\sd_RBT_01.04_Day10_D07-T01.tiff', 'C:\\\\Users\\\\k54739\\\\Bibi_new_thesis\\\\thesis\\\\classification\\\\sd\\\\ds1b_g5_E2.tif', 'C:\\\\Users\\\\k54739\\\\Bibi_new_thesis\\\\thesis\\\\classification\\\\ex\\\\ds62_g8_B10-T01.tiff', 'C:\\\\Users\\\\k54739\\\\Bibi_new_thesis\\\\thesis\\\\classification\\\\sd\\\\sd_RBT_01.04_Day10_B07-T01.tiff', 'C:\\\\Users\\\\k54739\\\\Bibi_new_thesis\\\\thesis\\\\classification\\\\cond7_curated\\\\ds_41_B10-T01.tiff', 'C:\\\\Users\\\\k54739\\\\Bibi_new_thesis\\\\thesis\\\\classification\\\\cond7_curated\\\\ds_1B_E05-T01.tiff', 'C:\\\\Users\\\\k54739\\\\Bibi_new_thesis\\\\thesis\\\\classification\\\\cond7_curated\\\\ds_1B_D07-T01.tiff', 'C:\\\\Users\\\\k54739\\\\Bibi_new_thesis\\\\thesis\\\\classification\\\\cond7_curated\\\\ds_1B_E10-T01.tiff', 'C:\\\\Users\\\\k54739\\\\Bibi_new_thesis\\\\thesis\\\\classification\\\\sd\\\\sd_RBT_01.04_Day10_B08-T01.tiff', 'C:\\\\Users\\\\k54739\\\\Bibi_new_thesis\\\\thesis\\\\classification\\\\sd\\\\sd_RBT_01.14_Day10_B08-T01.tiff']\n"
     ]
    }
   ],
   "source": [
    "for anchor,label, path in loader_labeled:\n",
    "    print(anchor.shape, label.shape, anchor.dtype)\n",
    "    print(label)\n",
    "    print(path)\n",
    "    break"
   ]
  },
  {
   "cell_type": "code",
   "execution_count": 8,
   "metadata": {},
   "outputs": [],
   "source": [
    "@torch.no_grad()\n",
    "def prepare_data_features(model, dataloader):\n",
    "    # Prepare model\n",
    "    network = deepcopy(model.convnet)\n",
    "    #network.fc = nn.Identity()  # Removing projection head g(.)\n",
    "    network.eval()\n",
    "    network.to(device)\n",
    "\n",
    "    # Encode all images\n",
    "    feats, labels, paths = [], [], []\n",
    "    for batch_imgs, batch_labels, batch_paths in tqdm(dataloader):\n",
    "        batch_imgs = batch_imgs.to(device)\n",
    "        batch_feats = network(batch_imgs)\n",
    "        print(f\"Batch features shape: {batch_feats.shape}\")\n",
    "        print(f\"Batch labels shape: {batch_labels.shape}\")\n",
    "        print(f\"Batch labels shape: {batch_paths}\")\n",
    "        \n",
    "        feats.append(batch_feats.detach().cpu())\n",
    "        labels.append(batch_labels)\n",
    "        paths.extend(batch_paths) \n",
    "\n",
    "    feats = torch.cat(feats, dim=0)\n",
    "    labels = torch.cat(labels, dim=0)\n",
    "    \n",
    "    \n",
    "    print(f\"Features shape after concatenation: {feats.shape}\")\n",
    "    print(f\"Labels shape after concatenation: {labels.shape}\")\n",
    "    print(f\"Number of paths after concatenation: {len(paths)}\")\n",
    "\n",
    "    return feats, labels, paths"
   ]
  },
  {
   "cell_type": "code",
   "execution_count": 9,
   "metadata": {},
   "outputs": [
    {
     "name": "stderr",
     "output_type": "stream",
     "text": [
      "  4%|▎         | 1/28 [00:00<00:25,  1.06it/s]"
     ]
    },
    {
     "name": "stdout",
     "output_type": "stream",
     "text": [
      "Batch features shape: torch.Size([16, 20])\n",
      "Batch labels shape: torch.Size([16])\n",
      "Batch labels shape: ['C:\\\\Users\\\\k54739\\\\Bibi_new_thesis\\\\thesis\\\\classification\\\\cond7_curated\\\\ds_52_D08-T01.tiff', 'C:\\\\Users\\\\k54739\\\\Bibi_new_thesis\\\\thesis\\\\classification\\\\cond7_curated\\\\ds_1B_D03-T01.tiff', 'C:\\\\Users\\\\k54739\\\\Bibi_new_thesis\\\\thesis\\\\classification\\\\cond7_curated\\\\ds_1B_D02-T01.tiff', 'C:\\\\Users\\\\k54739\\\\Bibi_new_thesis\\\\thesis\\\\classification\\\\sd\\\\sd_RBT_01.14_Day10_C10-T01.tiff', 'C:\\\\Users\\\\k54739\\\\Bibi_new_thesis\\\\thesis\\\\classification\\\\ex\\\\ds62_g8_B10-T01.tiff', 'C:\\\\Users\\\\k54739\\\\Bibi_new_thesis\\\\thesis\\\\classification\\\\sd\\\\sd_RBT_01.14_Day10_B11-T01.tiff', 'C:\\\\Users\\\\k54739\\\\Bibi_new_thesis\\\\thesis\\\\classification\\\\cond7_curated\\\\ds_42_B11-T01.tiff', 'C:\\\\Users\\\\k54739\\\\Bibi_new_thesis\\\\thesis\\\\classification\\\\sd\\\\sd_RBT_01.09_Day10_G10-T01.tiff', 'C:\\\\Users\\\\k54739\\\\Bibi_new_thesis\\\\thesis\\\\classification\\\\cond7_curated\\\\ds_42_F03-T01.tiff', 'C:\\\\Users\\\\k54739\\\\Bibi_new_thesis\\\\thesis\\\\classification\\\\cond7_curated\\\\sd_04_E11-T01.tiff', 'C:\\\\Users\\\\k54739\\\\Bibi_new_thesis\\\\thesis\\\\classification\\\\cond7_curated\\\\ds_42_F11-T01.tiff', 'C:\\\\Users\\\\k54739\\\\Bibi_new_thesis\\\\thesis\\\\classification\\\\sd\\\\ds42_g2_B04-T01.tiff', 'C:\\\\Users\\\\k54739\\\\Bibi_new_thesis\\\\thesis\\\\classification\\\\cond7_curated\\\\ds_41_G11-T01.tiff', 'C:\\\\Users\\\\k54739\\\\Bibi_new_thesis\\\\thesis\\\\classification\\\\sd\\\\sd_RBT_01.04_Day10_E08-T01.tiff', 'C:\\\\Users\\\\k54739\\\\Bibi_new_thesis\\\\thesis\\\\classification\\\\cond7_curated\\\\sd_04_G11-T01.tiff', 'C:\\\\Users\\\\k54739\\\\Bibi_new_thesis\\\\thesis\\\\classification\\\\cond7_curated\\\\sd_04_C04-T01.tiff']\n"
     ]
    },
    {
     "name": "stderr",
     "output_type": "stream",
     "text": [
      "  7%|▋         | 2/28 [00:01<00:21,  1.22it/s]"
     ]
    },
    {
     "name": "stdout",
     "output_type": "stream",
     "text": [
      "Batch features shape: torch.Size([16, 20])\n",
      "Batch labels shape: torch.Size([16])\n",
      "Batch labels shape: ['C:\\\\Users\\\\k54739\\\\Bibi_new_thesis\\\\thesis\\\\classification\\\\cond7_curated\\\\ds_42_B03-T01.tiff', 'C:\\\\Users\\\\k54739\\\\Bibi_new_thesis\\\\thesis\\\\classification\\\\cond7_curated\\\\ds_51_D03-T01.tiff', 'C:\\\\Users\\\\k54739\\\\Bibi_new_thesis\\\\thesis\\\\classification\\\\cond7_curated\\\\ds_51_F09-T01.tiff', 'C:\\\\Users\\\\k54739\\\\Bibi_new_thesis\\\\thesis\\\\classification\\\\cond7_curated\\\\ds_51_C03-T01.tiff', 'C:\\\\Users\\\\k54739\\\\Bibi_new_thesis\\\\thesis\\\\classification\\\\cond7_curated\\\\ds_51_F04-T01.tiff', 'C:\\\\Users\\\\k54739\\\\Bibi_new_thesis\\\\thesis\\\\classification\\\\sd\\\\sd_RBT_01.14_Day10_D07-T01.tiff', 'C:\\\\Users\\\\k54739\\\\Bibi_new_thesis\\\\thesis\\\\classification\\\\cond7_curated\\\\ds_41_E08-T01.tiff', 'C:\\\\Users\\\\k54739\\\\Bibi_new_thesis\\\\thesis\\\\classification\\\\cond7_curated\\\\ds_42_B07-T01.tiff', 'C:\\\\Users\\\\k54739\\\\Bibi_new_thesis\\\\thesis\\\\classification\\\\sd\\\\sd_RBT_01.10_Day10_B09-T01.tiff', 'C:\\\\Users\\\\k54739\\\\Bibi_new_thesis\\\\thesis\\\\classification\\\\cond7_curated\\\\ds_41_E05-T01.tiff', 'C:\\\\Users\\\\k54739\\\\Bibi_new_thesis\\\\thesis\\\\classification\\\\sd\\\\sd_RBT_01.09_Day10_B10-T01.tiff', 'C:\\\\Users\\\\k54739\\\\Bibi_new_thesis\\\\thesis\\\\classification\\\\sd\\\\sd_RBT_01.09_Day10_E11-T01.tiff', 'C:\\\\Users\\\\k54739\\\\Bibi_new_thesis\\\\thesis\\\\classification\\\\cond7_curated\\\\ds_1B_C06-T01.tiff', 'C:\\\\Users\\\\k54739\\\\Bibi_new_thesis\\\\thesis\\\\classification\\\\sd\\\\sd_RBT_01.09_Day10_B11-T01.tiff', 'C:\\\\Users\\\\k54739\\\\Bibi_new_thesis\\\\thesis\\\\classification\\\\cond7_curated\\\\ds_1B_D09-T01.tiff', 'C:\\\\Users\\\\k54739\\\\Bibi_new_thesis\\\\thesis\\\\classification\\\\sd\\\\sd_RBT_01.14_Day10_D11-T01.tiff']\n"
     ]
    },
    {
     "name": "stderr",
     "output_type": "stream",
     "text": [
      " 11%|█         | 3/28 [00:02<00:19,  1.29it/s]"
     ]
    },
    {
     "name": "stdout",
     "output_type": "stream",
     "text": [
      "Batch features shape: torch.Size([16, 20])\n",
      "Batch labels shape: torch.Size([16])\n",
      "Batch labels shape: ['C:\\\\Users\\\\k54739\\\\Bibi_new_thesis\\\\thesis\\\\classification\\\\sd\\\\ds42_g5_E04-T01.tiff', 'C:\\\\Users\\\\k54739\\\\Bibi_new_thesis\\\\thesis\\\\classification\\\\cond7_curated\\\\ds_51_B06-T01.tiff', 'C:\\\\Users\\\\k54739\\\\Bibi_new_thesis\\\\thesis\\\\classification\\\\cond7_curated\\\\sd_04_E08-T01.tiff', 'C:\\\\Users\\\\k54739\\\\Bibi_new_thesis\\\\thesis\\\\classification\\\\sd\\\\sd_RBT_01.10_Day10_C10-T01.tiff', 'C:\\\\Users\\\\k54739\\\\Bibi_new_thesis\\\\thesis\\\\classification\\\\sd\\\\ds42_g2_B06-T01.tiff', 'C:\\\\Users\\\\k54739\\\\Bibi_new_thesis\\\\thesis\\\\classification\\\\ex\\\\ds61_g3_C06-T01.tiff', 'C:\\\\Users\\\\k54739\\\\Bibi_new_thesis\\\\thesis\\\\classification\\\\cond7_curated\\\\ds_42_D08-T01.tiff', 'C:\\\\Users\\\\k54739\\\\Bibi_new_thesis\\\\thesis\\\\classification\\\\cond7_curated\\\\sd_04_D08-T01.tiff', 'C:\\\\Users\\\\k54739\\\\Bibi_new_thesis\\\\thesis\\\\classification\\\\sd\\\\ds41_g5_E05-T01.tiff', 'C:\\\\Users\\\\k54739\\\\Bibi_new_thesis\\\\thesis\\\\classification\\\\ex\\\\ds41_g3_C06-T01.tiff', 'C:\\\\Users\\\\k54739\\\\Bibi_new_thesis\\\\thesis\\\\classification\\\\sd\\\\sd_RBT_01.04_Day10_D09-T01.tiff', 'C:\\\\Users\\\\k54739\\\\Bibi_new_thesis\\\\thesis\\\\classification\\\\cond7_curated\\\\ds_51_D04-T01.tiff', 'C:\\\\Users\\\\k54739\\\\Bibi_new_thesis\\\\thesis\\\\classification\\\\sd\\\\sd_RBT_01.10_Day10_B11-T01.tiff', 'C:\\\\Users\\\\k54739\\\\Bibi_new_thesis\\\\thesis\\\\classification\\\\cond7_curated\\\\ds_42_F05-T01.tiff', 'C:\\\\Users\\\\k54739\\\\Bibi_new_thesis\\\\thesis\\\\classification\\\\cond7_curated\\\\ds_42_B04-T01.tiff', 'C:\\\\Users\\\\k54739\\\\Bibi_new_thesis\\\\thesis\\\\classification\\\\cond7_curated\\\\ds_41_E06-T01.tiff']\n"
     ]
    },
    {
     "name": "stderr",
     "output_type": "stream",
     "text": [
      " 14%|█▍        | 4/28 [00:03<00:18,  1.31it/s]"
     ]
    },
    {
     "name": "stdout",
     "output_type": "stream",
     "text": [
      "Batch features shape: torch.Size([16, 20])\n",
      "Batch labels shape: torch.Size([16])\n",
      "Batch labels shape: ['C:\\\\Users\\\\k54739\\\\Bibi_new_thesis\\\\thesis\\\\classification\\\\cond7_curated\\\\ds_51_G05-T01.tiff', 'C:\\\\Users\\\\k54739\\\\Bibi_new_thesis\\\\thesis\\\\classification\\\\cond7_curated\\\\ds_42_G06-T01.tiff', 'C:\\\\Users\\\\k54739\\\\Bibi_new_thesis\\\\thesis\\\\classification\\\\cond7_curated\\\\ds_42_E04-T01.tiff', 'C:\\\\Users\\\\k54739\\\\Bibi_new_thesis\\\\thesis\\\\classification\\\\cond7_curated\\\\ds_1B_D11-T01.tiff', 'C:\\\\Users\\\\k54739\\\\Bibi_new_thesis\\\\thesis\\\\classification\\\\sd\\\\sd_RBT_01.04_Day10_G10-T01.tiff', 'C:\\\\Users\\\\k54739\\\\Bibi_new_thesis\\\\thesis\\\\classification\\\\cond7_curated\\\\sd_04_F03-T01.tiff', 'C:\\\\Users\\\\k54739\\\\Bibi_new_thesis\\\\thesis\\\\classification\\\\ex\\\\ds61_g3_C04-T01.tiff', 'C:\\\\Users\\\\k54739\\\\Bibi_new_thesis\\\\thesis\\\\classification\\\\sd\\\\sd_RBT_01.10_Day10_C09-T01.tiff', 'C:\\\\Users\\\\k54739\\\\Bibi_new_thesis\\\\thesis\\\\classification\\\\cond7_curated\\\\ds_51_G11-T01.tiff', 'C:\\\\Users\\\\k54739\\\\Bibi_new_thesis\\\\thesis\\\\classification\\\\cond7_curated\\\\ds_41_F03-T01.tiff', 'C:\\\\Users\\\\k54739\\\\Bibi_new_thesis\\\\thesis\\\\classification\\\\sd\\\\ds41_g2_B03-T01.tiff', 'C:\\\\Users\\\\k54739\\\\Bibi_new_thesis\\\\thesis\\\\classification\\\\cond7_curated\\\\sd_04_B02-T01.tiff', 'C:\\\\Users\\\\k54739\\\\Bibi_new_thesis\\\\thesis\\\\classification\\\\sd\\\\sd_RBT_01.09_Day10_C07-T01.tiff', 'C:\\\\Users\\\\k54739\\\\Bibi_new_thesis\\\\thesis\\\\classification\\\\sd\\\\ds62_g2_B04-T01.tiff', 'C:\\\\Users\\\\k54739\\\\Bibi_new_thesis\\\\thesis\\\\classification\\\\cond7_curated\\\\ds_41_F10-T01.tiff', 'C:\\\\Users\\\\k54739\\\\Bibi_new_thesis\\\\thesis\\\\classification\\\\cond7_curated\\\\ds_41_F02-T01.tiff']\n"
     ]
    },
    {
     "name": "stderr",
     "output_type": "stream",
     "text": [
      " 18%|█▊        | 5/28 [00:03<00:17,  1.33it/s]"
     ]
    },
    {
     "name": "stdout",
     "output_type": "stream",
     "text": [
      "Batch features shape: torch.Size([16, 20])\n",
      "Batch labels shape: torch.Size([16])\n",
      "Batch labels shape: ['C:\\\\Users\\\\k54739\\\\Bibi_new_thesis\\\\thesis\\\\classification\\\\sd\\\\sd_RBT_01.10_Day10_B10-T01.tiff', 'C:\\\\Users\\\\k54739\\\\Bibi_new_thesis\\\\thesis\\\\classification\\\\cond7_curated\\\\ds_1B_G08-T01.tiff', 'C:\\\\Users\\\\k54739\\\\Bibi_new_thesis\\\\thesis\\\\classification\\\\sd\\\\sd_RBT_01.09_Day10_D07-T01.tiff', 'C:\\\\Users\\\\k54739\\\\Bibi_new_thesis\\\\thesis\\\\classification\\\\ex\\\\ds62_g8_B09-T01.tiff', 'C:\\\\Users\\\\k54739\\\\Bibi_new_thesis\\\\thesis\\\\classification\\\\cond7_curated\\\\ds_41_G07-T01.tiff', 'C:\\\\Users\\\\k54739\\\\Bibi_new_thesis\\\\thesis\\\\classification\\\\sd\\\\sd_RBT_01.09_Day10_C08-T01.tiff', 'C:\\\\Users\\\\k54739\\\\Bibi_new_thesis\\\\thesis\\\\classification\\\\cond7_curated\\\\ds_42_G02-T01.tiff', 'C:\\\\Users\\\\k54739\\\\Bibi_new_thesis\\\\thesis\\\\classification\\\\cond7_curated\\\\ds_1B_B06-T01.tiff', 'C:\\\\Users\\\\k54739\\\\Bibi_new_thesis\\\\thesis\\\\classification\\\\cond7_curated\\\\sd_04_G02-T01.tiff', 'C:\\\\Users\\\\k54739\\\\Bibi_new_thesis\\\\thesis\\\\classification\\\\sd\\\\sd_RBT_01.10_Day10_F11-T01.tiff', 'C:\\\\Users\\\\k54739\\\\Bibi_new_thesis\\\\thesis\\\\classification\\\\cond7_curated\\\\ds_42_D02-T01.tiff', 'C:\\\\Users\\\\k54739\\\\Bibi_new_thesis\\\\thesis\\\\classification\\\\cond7_curated\\\\ds_41_F05-T01.tiff', 'C:\\\\Users\\\\k54739\\\\Bibi_new_thesis\\\\thesis\\\\classification\\\\cond7_curated\\\\ds_1B_D08-T01.tiff', 'C:\\\\Users\\\\k54739\\\\Bibi_new_thesis\\\\thesis\\\\classification\\\\ex\\\\ds61_g6_F04-T01.tiff', 'C:\\\\Users\\\\k54739\\\\Bibi_new_thesis\\\\thesis\\\\classification\\\\ex\\\\ds61_g9_C07-T01.tiff', 'C:\\\\Users\\\\k54739\\\\Bibi_new_thesis\\\\thesis\\\\classification\\\\sd\\\\ds1b_g5_E5.tif']\n"
     ]
    },
    {
     "name": "stderr",
     "output_type": "stream",
     "text": [
      " 21%|██▏       | 6/28 [00:04<00:16,  1.35it/s]"
     ]
    },
    {
     "name": "stdout",
     "output_type": "stream",
     "text": [
      "Batch features shape: torch.Size([16, 20])\n",
      "Batch labels shape: torch.Size([16])\n",
      "Batch labels shape: ['C:\\\\Users\\\\k54739\\\\Bibi_new_thesis\\\\thesis\\\\classification\\\\cond7_curated\\\\ds_1B_F03-T01.tiff', 'C:\\\\Users\\\\k54739\\\\Bibi_new_thesis\\\\thesis\\\\classification\\\\cond7_curated\\\\ds_42_F04-T01.tiff', 'C:\\\\Users\\\\k54739\\\\Bibi_new_thesis\\\\thesis\\\\classification\\\\cond7_curated\\\\ds_41_F06-T01.tiff', 'C:\\\\Users\\\\k54739\\\\Bibi_new_thesis\\\\thesis\\\\classification\\\\ex\\\\ds62_g9_C08-T01.tiff', 'C:\\\\Users\\\\k54739\\\\Bibi_new_thesis\\\\thesis\\\\classification\\\\sd\\\\sd_RBT_01.09_Day10_E09-T01.tiff', 'C:\\\\Users\\\\k54739\\\\Bibi_new_thesis\\\\thesis\\\\classification\\\\sd\\\\ds1b_g5_E4.tif', 'C:\\\\Users\\\\k54739\\\\Bibi_new_thesis\\\\thesis\\\\classification\\\\cond7_curated\\\\ds_41_E04-T01.tiff', 'C:\\\\Users\\\\k54739\\\\Bibi_new_thesis\\\\thesis\\\\classification\\\\cond7_curated\\\\ds_52_C08-T01.tiff', 'C:\\\\Users\\\\k54739\\\\Bibi_new_thesis\\\\thesis\\\\classification\\\\cond7_curated\\\\ds_51_F11-T01.tiff', 'C:\\\\Users\\\\k54739\\\\Bibi_new_thesis\\\\thesis\\\\classification\\\\sd\\\\sd_RBT_01.10_Day10_C11-T01.tiff', 'C:\\\\Users\\\\k54739\\\\Bibi_new_thesis\\\\thesis\\\\classification\\\\cond7_curated\\\\ds_1B_G07-T01.tiff', 'C:\\\\Users\\\\k54739\\\\Bibi_new_thesis\\\\thesis\\\\classification\\\\sd\\\\sd_RBT_01.10_Day10_D11-T01.tiff', 'C:\\\\Users\\\\k54739\\\\Bibi_new_thesis\\\\thesis\\\\classification\\\\sd\\\\sd_RBT_01.10_Day10_G11-T01.tiff', 'C:\\\\Users\\\\k54739\\\\Bibi_new_thesis\\\\thesis\\\\classification\\\\cond7_curated\\\\ds_41_B03-T01.tiff', 'C:\\\\Users\\\\k54739\\\\Bibi_new_thesis\\\\thesis\\\\classification\\\\cond7_curated\\\\ds_51_C06-T01.tiff', 'C:\\\\Users\\\\k54739\\\\Bibi_new_thesis\\\\thesis\\\\classification\\\\cond7_curated\\\\ds_51_E09-T01.tiff']\n"
     ]
    },
    {
     "name": "stderr",
     "output_type": "stream",
     "text": [
      " 25%|██▌       | 7/28 [00:05<00:15,  1.35it/s]"
     ]
    },
    {
     "name": "stdout",
     "output_type": "stream",
     "text": [
      "Batch features shape: torch.Size([16, 20])\n",
      "Batch labels shape: torch.Size([16])\n",
      "Batch labels shape: ['C:\\\\Users\\\\k54739\\\\Bibi_new_thesis\\\\thesis\\\\classification\\\\cond7_curated\\\\sd_04_F02-T01.tiff', 'C:\\\\Users\\\\k54739\\\\Bibi_new_thesis\\\\thesis\\\\classification\\\\cond7_curated\\\\ds_41_D06-T01.tiff', 'C:\\\\Users\\\\k54739\\\\Bibi_new_thesis\\\\thesis\\\\classification\\\\ex\\\\ds61_g3_C02-T01.tiff', 'C:\\\\Users\\\\k54739\\\\Bibi_new_thesis\\\\thesis\\\\classification\\\\ex\\\\ds62_g9_C11-T01.tiff', 'C:\\\\Users\\\\k54739\\\\Bibi_new_thesis\\\\thesis\\\\classification\\\\cond7_curated\\\\sd_04_F11-T01.tiff', 'C:\\\\Users\\\\k54739\\\\Bibi_new_thesis\\\\thesis\\\\classification\\\\cond7_curated\\\\sd_04_G05-T01.tiff', 'C:\\\\Users\\\\k54739\\\\Bibi_new_thesis\\\\thesis\\\\classification\\\\ex\\\\ds61_g6_F02-T01.tiff', 'C:\\\\Users\\\\k54739\\\\Bibi_new_thesis\\\\thesis\\\\classification\\\\cond7_curated\\\\sd_04_B04-T01.tiff', 'C:\\\\Users\\\\k54739\\\\Bibi_new_thesis\\\\thesis\\\\classification\\\\cond7_curated\\\\ds_51_C07-T01.tiff', 'C:\\\\Users\\\\k54739\\\\Bibi_new_thesis\\\\thesis\\\\classification\\\\sd\\\\sd_RBT_01.14_Day10_D10-T01.tiff', 'C:\\\\Users\\\\k54739\\\\Bibi_new_thesis\\\\thesis\\\\classification\\\\cond7_curated\\\\ds_41_C03-T01.tiff', 'C:\\\\Users\\\\k54739\\\\Bibi_new_thesis\\\\thesis\\\\classification\\\\sd\\\\sd_RBT_01.04_Day10_G11-T01.tiff', 'C:\\\\Users\\\\k54739\\\\Bibi_new_thesis\\\\thesis\\\\classification\\\\cond7_curated\\\\ds_51_G09-T01.tiff', 'C:\\\\Users\\\\k54739\\\\Bibi_new_thesis\\\\thesis\\\\classification\\\\cond7_curated\\\\ds_1B_E02-T01.tiff', 'C:\\\\Users\\\\k54739\\\\Bibi_new_thesis\\\\thesis\\\\classification\\\\cond7_curated\\\\ds_41_B06-T01.tiff', 'C:\\\\Users\\\\k54739\\\\Bibi_new_thesis\\\\thesis\\\\classification\\\\cond7_curated\\\\ds_42_B06-T01.tiff']\n"
     ]
    },
    {
     "name": "stderr",
     "output_type": "stream",
     "text": [
      " 29%|██▊       | 8/28 [00:06<00:14,  1.34it/s]"
     ]
    },
    {
     "name": "stdout",
     "output_type": "stream",
     "text": [
      "Batch features shape: torch.Size([16, 20])\n",
      "Batch labels shape: torch.Size([16])\n",
      "Batch labels shape: ['C:\\\\Users\\\\k54739\\\\Bibi_new_thesis\\\\thesis\\\\classification\\\\cond7_curated\\\\sd_04_B06-T01.tiff', 'C:\\\\Users\\\\k54739\\\\Bibi_new_thesis\\\\thesis\\\\classification\\\\cond7_curated\\\\sd_04_B09-T01.tiff', 'C:\\\\Users\\\\k54739\\\\Bibi_new_thesis\\\\thesis\\\\classification\\\\ex\\\\ds41_g3_C02-T01.tiff', 'C:\\\\Users\\\\k54739\\\\Bibi_new_thesis\\\\thesis\\\\classification\\\\ex\\\\ds62_g8_B07-T01.tiff', 'C:\\\\Users\\\\k54739\\\\Bibi_new_thesis\\\\thesis\\\\classification\\\\cond7_curated\\\\ds_1B_B10-T01.tiff', 'C:\\\\Users\\\\k54739\\\\Bibi_new_thesis\\\\thesis\\\\classification\\\\cond7_curated\\\\ds_41_E09-T01.tiff', 'C:\\\\Users\\\\k54739\\\\Bibi_new_thesis\\\\thesis\\\\classification\\\\cond7_curated\\\\ds_41_C06-T01.tiff', 'C:\\\\Users\\\\k54739\\\\Bibi_new_thesis\\\\thesis\\\\classification\\\\cond7_curated\\\\ds_51_D05-T01.tiff', 'C:\\\\Users\\\\k54739\\\\Bibi_new_thesis\\\\thesis\\\\classification\\\\cond7_curated\\\\sd_04_F10-T01.tiff', 'C:\\\\Users\\\\k54739\\\\Bibi_new_thesis\\\\thesis\\\\classification\\\\sd\\\\sd_RBT_01.04_Day10_B09-T01.tiff', 'C:\\\\Users\\\\k54739\\\\Bibi_new_thesis\\\\thesis\\\\classification\\\\ex\\\\ds62_g9_C10-T01.tiff', 'C:\\\\Users\\\\k54739\\\\Bibi_new_thesis\\\\thesis\\\\classification\\\\ex\\\\ds61_g8_B09-T01.tiff', 'C:\\\\Users\\\\k54739\\\\Bibi_new_thesis\\\\thesis\\\\classification\\\\sd\\\\sd_RBT_01.04_Day10_D07-T01.tiff', 'C:\\\\Users\\\\k54739\\\\Bibi_new_thesis\\\\thesis\\\\classification\\\\sd\\\\sd_RBT_01.04_Day10_E09-T01.tiff', 'C:\\\\Users\\\\k54739\\\\Bibi_new_thesis\\\\thesis\\\\classification\\\\cond7_curated\\\\ds_52_B10-T01.tiff', 'C:\\\\Users\\\\k54739\\\\Bibi_new_thesis\\\\thesis\\\\classification\\\\cond7_curated\\\\ds_1B_E11-T01.tiff']\n"
     ]
    },
    {
     "name": "stderr",
     "output_type": "stream",
     "text": [
      " 32%|███▏      | 9/28 [00:06<00:14,  1.33it/s]"
     ]
    },
    {
     "name": "stdout",
     "output_type": "stream",
     "text": [
      "Batch features shape: torch.Size([16, 20])\n",
      "Batch labels shape: torch.Size([16])\n",
      "Batch labels shape: ['C:\\\\Users\\\\k54739\\\\Bibi_new_thesis\\\\thesis\\\\classification\\\\cond7_curated\\\\ds_51_B03-T01.tiff', 'C:\\\\Users\\\\k54739\\\\Bibi_new_thesis\\\\thesis\\\\classification\\\\cond7_curated\\\\ds_42_B05-T01.tiff', 'C:\\\\Users\\\\k54739\\\\Bibi_new_thesis\\\\thesis\\\\classification\\\\sd\\\\sd_RBT_01.10_Day10_D10-T01.tiff', 'C:\\\\Users\\\\k54739\\\\Bibi_new_thesis\\\\thesis\\\\classification\\\\ex\\\\ds61_g8_B10-T01.tiff', 'C:\\\\Users\\\\k54739\\\\Bibi_new_thesis\\\\thesis\\\\classification\\\\ex\\\\ds1B_g9_C9.tif', 'C:\\\\Users\\\\k54739\\\\Bibi_new_thesis\\\\thesis\\\\classification\\\\cond7_curated\\\\ds_51_B07-T01.tiff', 'C:\\\\Users\\\\k54739\\\\Bibi_new_thesis\\\\thesis\\\\classification\\\\sd\\\\sd_RBT_01.04_Day10_F11-T01.tiff', 'C:\\\\Users\\\\k54739\\\\Bibi_new_thesis\\\\thesis\\\\classification\\\\sd\\\\sd_RBT_01.14_Day10_B07-T01.tiff', 'C:\\\\Users\\\\k54739\\\\Bibi_new_thesis\\\\thesis\\\\classification\\\\ex\\\\ds62_g9_C07-T01.tiff', 'C:\\\\Users\\\\k54739\\\\Bibi_new_thesis\\\\thesis\\\\classification\\\\cond7_curated\\\\ds_1B_F10-T01.tiff', 'C:\\\\Users\\\\k54739\\\\Bibi_new_thesis\\\\thesis\\\\classification\\\\ex\\\\ds61_g8_B08-T01.tiff', 'C:\\\\Users\\\\k54739\\\\Bibi_new_thesis\\\\thesis\\\\classification\\\\cond7_curated\\\\ds_41_G10-T01.tiff', 'C:\\\\Users\\\\k54739\\\\Bibi_new_thesis\\\\thesis\\\\classification\\\\cond7_curated\\\\ds_52_B03-T01.tiff', 'C:\\\\Users\\\\k54739\\\\Bibi_new_thesis\\\\thesis\\\\classification\\\\cond7_curated\\\\ds_42_C09-T01.tiff', 'C:\\\\Users\\\\k54739\\\\Bibi_new_thesis\\\\thesis\\\\classification\\\\sd\\\\sd_RBT_01.04_Day10_B10-T01.tiff', 'C:\\\\Users\\\\k54739\\\\Bibi_new_thesis\\\\thesis\\\\classification\\\\cond7_curated\\\\ds_41_E10-T01.tiff']\n"
     ]
    },
    {
     "name": "stderr",
     "output_type": "stream",
     "text": [
      " 36%|███▌      | 10/28 [00:07<00:13,  1.34it/s]"
     ]
    },
    {
     "name": "stdout",
     "output_type": "stream",
     "text": [
      "Batch features shape: torch.Size([16, 20])\n",
      "Batch labels shape: torch.Size([16])\n",
      "Batch labels shape: ['C:\\\\Users\\\\k54739\\\\Bibi_new_thesis\\\\thesis\\\\classification\\\\cond7_curated\\\\ds_51_F03-T01.tiff', 'C:\\\\Users\\\\k54739\\\\Bibi_new_thesis\\\\thesis\\\\classification\\\\sd\\\\sd_RBT_01.14_Day10_D08-T01.tiff', 'C:\\\\Users\\\\k54739\\\\Bibi_new_thesis\\\\thesis\\\\classification\\\\cond7_curated\\\\sd_04_D09-T01.tiff', 'C:\\\\Users\\\\k54739\\\\Bibi_new_thesis\\\\thesis\\\\classification\\\\cond7_curated\\\\ds_1B_E05-T01.tiff', 'C:\\\\Users\\\\k54739\\\\Bibi_new_thesis\\\\thesis\\\\classification\\\\sd\\\\sd_RBT_01.09_Day10_G11-T01.tiff', 'C:\\\\Users\\\\k54739\\\\Bibi_new_thesis\\\\thesis\\\\classification\\\\sd\\\\sd_RBT_01.09_Day10_C11-T01.tiff', 'C:\\\\Users\\\\k54739\\\\Bibi_new_thesis\\\\thesis\\\\classification\\\\cond7_curated\\\\ds_1B_F11-T01.tiff', 'C:\\\\Users\\\\k54739\\\\Bibi_new_thesis\\\\thesis\\\\classification\\\\cond7_curated\\\\ds_51_E08-T01.tiff', 'C:\\\\Users\\\\k54739\\\\Bibi_new_thesis\\\\thesis\\\\classification\\\\cond7_curated\\\\sd_04_F06-T01.tiff', 'C:\\\\Users\\\\k54739\\\\Bibi_new_thesis\\\\thesis\\\\classification\\\\cond7_curated\\\\sd_04_G03-T01.tiff', 'C:\\\\Users\\\\k54739\\\\Bibi_new_thesis\\\\thesis\\\\classification\\\\cond7_curated\\\\ds_42_C11-T01.tiff', 'C:\\\\Users\\\\k54739\\\\Bibi_new_thesis\\\\thesis\\\\classification\\\\sd\\\\sd_RBT_01.14_Day10_D09-T01.tiff', 'C:\\\\Users\\\\k54739\\\\Bibi_new_thesis\\\\thesis\\\\classification\\\\cond7_curated\\\\sd_04_F07-T01.tiff', 'C:\\\\Users\\\\k54739\\\\Bibi_new_thesis\\\\thesis\\\\classification\\\\cond7_curated\\\\sd_04_D11-T01.tiff', 'C:\\\\Users\\\\k54739\\\\Bibi_new_thesis\\\\thesis\\\\classification\\\\sd\\\\sd_RBT_01.09_Day10_B07-T01.tiff', 'C:\\\\Users\\\\k54739\\\\Bibi_new_thesis\\\\thesis\\\\classification\\\\cond7_curated\\\\ds_41_B05-T01.tiff']\n"
     ]
    },
    {
     "name": "stderr",
     "output_type": "stream",
     "text": [
      " 39%|███▉      | 11/28 [00:08<00:12,  1.32it/s]"
     ]
    },
    {
     "name": "stdout",
     "output_type": "stream",
     "text": [
      "Batch features shape: torch.Size([16, 20])\n",
      "Batch labels shape: torch.Size([16])\n",
      "Batch labels shape: ['C:\\\\Users\\\\k54739\\\\Bibi_new_thesis\\\\thesis\\\\classification\\\\cond7_curated\\\\ds_41_B11-T01.tiff', 'C:\\\\Users\\\\k54739\\\\Bibi_new_thesis\\\\thesis\\\\classification\\\\sd\\\\ds41_g2_B04-T01.tiff', 'C:\\\\Users\\\\k54739\\\\Bibi_new_thesis\\\\thesis\\\\classification\\\\cond7_curated\\\\ds_41_D09-T01.tiff', 'C:\\\\Users\\\\k54739\\\\Bibi_new_thesis\\\\thesis\\\\classification\\\\cond7_curated\\\\ds_41_D02-T01.tiff', 'C:\\\\Users\\\\k54739\\\\Bibi_new_thesis\\\\thesis\\\\classification\\\\cond7_curated\\\\ds_1B_E08-T01.tiff', 'C:\\\\Users\\\\k54739\\\\Bibi_new_thesis\\\\thesis\\\\classification\\\\cond7_curated\\\\ds_1B_G05-T01.tiff', 'C:\\\\Users\\\\k54739\\\\Bibi_new_thesis\\\\thesis\\\\classification\\\\cond7_curated\\\\ds_42_F02-T01.tiff', 'C:\\\\Users\\\\k54739\\\\Bibi_new_thesis\\\\thesis\\\\classification\\\\cond7_curated\\\\ds_51_G06-T01.tiff', 'C:\\\\Users\\\\k54739\\\\Bibi_new_thesis\\\\thesis\\\\classification\\\\cond7_curated\\\\ds_41_C04-T01.tiff', 'C:\\\\Users\\\\k54739\\\\Bibi_new_thesis\\\\thesis\\\\classification\\\\cond7_curated\\\\ds_1B_G10-T01.tiff', 'C:\\\\Users\\\\k54739\\\\Bibi_new_thesis\\\\thesis\\\\classification\\\\ex\\\\ds62_g9_C09-T01.tiff', 'C:\\\\Users\\\\k54739\\\\Bibi_new_thesis\\\\thesis\\\\classification\\\\cond7_curated\\\\ds_51_G02-T01.tiff', 'C:\\\\Users\\\\k54739\\\\Bibi_new_thesis\\\\thesis\\\\classification\\\\sd\\\\sd_RBT_01.09_Day10_F11-T01.tiff', 'C:\\\\Users\\\\k54739\\\\Bibi_new_thesis\\\\thesis\\\\classification\\\\cond7_curated\\\\ds_41_G02-T01.tiff', 'C:\\\\Users\\\\k54739\\\\Bibi_new_thesis\\\\thesis\\\\classification\\\\cond7_curated\\\\ds_52_B02-T01.tiff', 'C:\\\\Users\\\\k54739\\\\Bibi_new_thesis\\\\thesis\\\\classification\\\\cond7_curated\\\\sd_04_E05-T01.tiff']\n"
     ]
    },
    {
     "name": "stderr",
     "output_type": "stream",
     "text": [
      " 43%|████▎     | 12/28 [00:09<00:12,  1.32it/s]"
     ]
    },
    {
     "name": "stdout",
     "output_type": "stream",
     "text": [
      "Batch features shape: torch.Size([16, 20])\n",
      "Batch labels shape: torch.Size([16])\n",
      "Batch labels shape: ['C:\\\\Users\\\\k54739\\\\Bibi_new_thesis\\\\thesis\\\\classification\\\\sd\\\\sd_RBT_01.09_Day10_F10-T01.tiff', 'C:\\\\Users\\\\k54739\\\\Bibi_new_thesis\\\\thesis\\\\classification\\\\cond7_curated\\\\ds_1B_G09-T01.tiff', 'C:\\\\Users\\\\k54739\\\\Bibi_new_thesis\\\\thesis\\\\classification\\\\cond7_curated\\\\ds_1B_B11-T01.tiff', 'C:\\\\Users\\\\k54739\\\\Bibi_new_thesis\\\\thesis\\\\classification\\\\sd\\\\sd_RBT_01.04_Day10_D08-T01.tiff', 'C:\\\\Users\\\\k54739\\\\Bibi_new_thesis\\\\thesis\\\\classification\\\\cond7_curated\\\\ds_51_F05-T01.tiff', 'C:\\\\Users\\\\k54739\\\\Bibi_new_thesis\\\\thesis\\\\classification\\\\sd\\\\sd_RBT_01.04_Day10_G07-T01.tiff', 'C:\\\\Users\\\\k54739\\\\Bibi_new_thesis\\\\thesis\\\\classification\\\\sd\\\\sd_RBT_01.09_Day10_E10-T01.tiff', 'C:\\\\Users\\\\k54739\\\\Bibi_new_thesis\\\\thesis\\\\classification\\\\cond7_curated\\\\ds_1B_F06-T01.tiff', 'C:\\\\Users\\\\k54739\\\\Bibi_new_thesis\\\\thesis\\\\classification\\\\sd\\\\sd_RBT_01.10_Day10_C07-T01.tiff', 'C:\\\\Users\\\\k54739\\\\Bibi_new_thesis\\\\thesis\\\\classification\\\\ex\\\\ds1B_g9_c10.tif', 'C:\\\\Users\\\\k54739\\\\Bibi_new_thesis\\\\thesis\\\\classification\\\\cond7_curated\\\\ds_42_D09-T01.tiff', 'C:\\\\Users\\\\k54739\\\\Bibi_new_thesis\\\\thesis\\\\classification\\\\cond7_curated\\\\ds_1B_G03-T01.tiff', 'C:\\\\Users\\\\k54739\\\\Bibi_new_thesis\\\\thesis\\\\classification\\\\cond7_curated\\\\ds_51_E04-T01.tiff', 'C:\\\\Users\\\\k54739\\\\Bibi_new_thesis\\\\thesis\\\\classification\\\\cond7_curated\\\\sd_04_G08-T01.tiff', 'C:\\\\Users\\\\k54739\\\\Bibi_new_thesis\\\\thesis\\\\classification\\\\ex\\\\ds1B_g9_C7.tif', 'C:\\\\Users\\\\k54739\\\\Bibi_new_thesis\\\\thesis\\\\classification\\\\cond7_curated\\\\ds_42_E02-T01.tiff']\n"
     ]
    },
    {
     "name": "stderr",
     "output_type": "stream",
     "text": [
      " 46%|████▋     | 13/28 [00:09<00:11,  1.31it/s]"
     ]
    },
    {
     "name": "stdout",
     "output_type": "stream",
     "text": [
      "Batch features shape: torch.Size([16, 20])\n",
      "Batch labels shape: torch.Size([16])\n",
      "Batch labels shape: ['C:\\\\Users\\\\k54739\\\\Bibi_new_thesis\\\\thesis\\\\classification\\\\cond7_curated\\\\ds_42_B09-T01.tiff', 'C:\\\\Users\\\\k54739\\\\Bibi_new_thesis\\\\thesis\\\\classification\\\\cond7_curated\\\\ds_41_D07-T01.tiff', 'C:\\\\Users\\\\k54739\\\\Bibi_new_thesis\\\\thesis\\\\classification\\\\sd\\\\sd_RBT_01.14_Day10_C08-T01.tiff', 'C:\\\\Users\\\\k54739\\\\Bibi_new_thesis\\\\thesis\\\\classification\\\\sd\\\\ds42_g5_E02-T01.tiff', 'C:\\\\Users\\\\k54739\\\\Bibi_new_thesis\\\\thesis\\\\classification\\\\ex\\\\ds1B_g9_C8.tif', 'C:\\\\Users\\\\k54739\\\\Bibi_new_thesis\\\\thesis\\\\classification\\\\sd\\\\ds62_g2_B02-T01.tiff', 'C:\\\\Users\\\\k54739\\\\Bibi_new_thesis\\\\thesis\\\\classification\\\\cond7_curated\\\\ds_1B_E03-T01.tiff', 'C:\\\\Users\\\\k54739\\\\Bibi_new_thesis\\\\thesis\\\\classification\\\\cond7_curated\\\\ds_41_B10-T01.tiff', 'C:\\\\Users\\\\k54739\\\\Bibi_new_thesis\\\\thesis\\\\classification\\\\cond7_curated\\\\ds_42_E08-T01.tiff', 'C:\\\\Users\\\\k54739\\\\Bibi_new_thesis\\\\thesis\\\\classification\\\\cond7_curated\\\\ds_42_C08-T01.tiff', 'C:\\\\Users\\\\k54739\\\\Bibi_new_thesis\\\\thesis\\\\classification\\\\cond7_curated\\\\ds_42_B10-T01.tiff', 'C:\\\\Users\\\\k54739\\\\Bibi_new_thesis\\\\thesis\\\\classification\\\\sd\\\\sd_RBT_01.10_Day10_G10-T01.tiff', 'C:\\\\Users\\\\k54739\\\\Bibi_new_thesis\\\\thesis\\\\classification\\\\sd\\\\sd_RBT_01.04_Day10_F08-T01.tiff', 'C:\\\\Users\\\\k54739\\\\Bibi_new_thesis\\\\thesis\\\\classification\\\\cond7_curated\\\\sd_04_F04-T01.tiff', 'C:\\\\Users\\\\k54739\\\\Bibi_new_thesis\\\\thesis\\\\classification\\\\sd\\\\sd_RBT_01.10_Day10_F08-T01.tiff', 'C:\\\\Users\\\\k54739\\\\Bibi_new_thesis\\\\thesis\\\\classification\\\\cond7_curated\\\\ds_42_G07-T01.tiff']\n"
     ]
    },
    {
     "name": "stderr",
     "output_type": "stream",
     "text": [
      " 50%|█████     | 14/28 [00:10<00:10,  1.31it/s]"
     ]
    },
    {
     "name": "stdout",
     "output_type": "stream",
     "text": [
      "Batch features shape: torch.Size([16, 20])\n",
      "Batch labels shape: torch.Size([16])\n",
      "Batch labels shape: ['C:\\\\Users\\\\k54739\\\\Bibi_new_thesis\\\\thesis\\\\classification\\\\cond7_curated\\\\sd_04_B11-T01.tiff', 'C:\\\\Users\\\\k54739\\\\Bibi_new_thesis\\\\thesis\\\\classification\\\\cond7_curated\\\\ds_41_D10-T01.tiff', 'C:\\\\Users\\\\k54739\\\\Bibi_new_thesis\\\\thesis\\\\classification\\\\cond7_curated\\\\ds_41_C09-T01.tiff', 'C:\\\\Users\\\\k54739\\\\Bibi_new_thesis\\\\thesis\\\\classification\\\\sd\\\\sd_RBT_01.09_Day10_F07-T01.tiff', 'C:\\\\Users\\\\k54739\\\\Bibi_new_thesis\\\\thesis\\\\classification\\\\cond7_curated\\\\sd_04_D07-T01.tiff', 'C:\\\\Users\\\\k54739\\\\Bibi_new_thesis\\\\thesis\\\\classification\\\\ex\\\\ds61_g6_F03-T01.tiff', 'C:\\\\Users\\\\k54739\\\\Bibi_new_thesis\\\\thesis\\\\classification\\\\cond7_curated\\\\ds_51_B08-T01.tiff', 'C:\\\\Users\\\\k54739\\\\Bibi_new_thesis\\\\thesis\\\\classification\\\\cond7_curated\\\\ds_41_G04-T01.tiff', 'C:\\\\Users\\\\k54739\\\\Bibi_new_thesis\\\\thesis\\\\classification\\\\sd\\\\sd_RBT_01.10_Day10_F09-T01.tiff', 'C:\\\\Users\\\\k54739\\\\Bibi_new_thesis\\\\thesis\\\\classification\\\\sd\\\\sd_RBT_01.14_Day10_B09-T01.tiff', 'C:\\\\Users\\\\k54739\\\\Bibi_new_thesis\\\\thesis\\\\classification\\\\cond7_curated\\\\ds_1B_F05-T01.tiff', 'C:\\\\Users\\\\k54739\\\\Bibi_new_thesis\\\\thesis\\\\classification\\\\cond7_curated\\\\ds_1B_B05-T01.tiff', 'C:\\\\Users\\\\k54739\\\\Bibi_new_thesis\\\\thesis\\\\classification\\\\cond7_curated\\\\ds_42_E05-T01.tiff', 'C:\\\\Users\\\\k54739\\\\Bibi_new_thesis\\\\thesis\\\\classification\\\\sd\\\\sd_RBT_01.14_Day10_B08-T01.tiff', 'C:\\\\Users\\\\k54739\\\\Bibi_new_thesis\\\\thesis\\\\classification\\\\cond7_curated\\\\sd_04_F08-T01.tiff', 'C:\\\\Users\\\\k54739\\\\Bibi_new_thesis\\\\thesis\\\\classification\\\\cond7_curated\\\\ds_1B_B04-T01.tiff']\n"
     ]
    },
    {
     "name": "stderr",
     "output_type": "stream",
     "text": [
      " 54%|█████▎    | 15/28 [00:11<00:09,  1.31it/s]"
     ]
    },
    {
     "name": "stdout",
     "output_type": "stream",
     "text": [
      "Batch features shape: torch.Size([16, 20])\n",
      "Batch labels shape: torch.Size([16])\n",
      "Batch labels shape: ['C:\\\\Users\\\\k54739\\\\Bibi_new_thesis\\\\thesis\\\\classification\\\\ex\\\\ds62_g8_B11-T01.tiff', 'C:\\\\Users\\\\k54739\\\\Bibi_new_thesis\\\\thesis\\\\classification\\\\cond7_curated\\\\ds_51_C10-T01.tiff', 'C:\\\\Users\\\\k54739\\\\Bibi_new_thesis\\\\thesis\\\\classification\\\\cond7_curated\\\\ds_1B_C08-T01.tiff', 'C:\\\\Users\\\\k54739\\\\Bibi_new_thesis\\\\thesis\\\\classification\\\\sd\\\\sd_RBT_01.09_Day10_G07-T01.tiff', 'C:\\\\Users\\\\k54739\\\\Bibi_new_thesis\\\\thesis\\\\classification\\\\cond7_curated\\\\ds_51_F02-T01.tiff', 'C:\\\\Users\\\\k54739\\\\Bibi_new_thesis\\\\thesis\\\\classification\\\\cond7_curated\\\\ds_51_D10-T01.tiff', 'C:\\\\Users\\\\k54739\\\\Bibi_new_thesis\\\\thesis\\\\classification\\\\ex\\\\ds61_g3_C05-T01.tiff', 'C:\\\\Users\\\\k54739\\\\Bibi_new_thesis\\\\thesis\\\\classification\\\\ex\\\\ds41_g3_C04-T01.tiff', 'C:\\\\Users\\\\k54739\\\\Bibi_new_thesis\\\\thesis\\\\classification\\\\cond7_curated\\\\ds_41_E11-T01.tiff', 'C:\\\\Users\\\\k54739\\\\Bibi_new_thesis\\\\thesis\\\\classification\\\\cond7_curated\\\\ds_42_E03-T01.tiff', 'C:\\\\Users\\\\k54739\\\\Bibi_new_thesis\\\\thesis\\\\classification\\\\cond7_curated\\\\ds_42_F07-T01.tiff', 'C:\\\\Users\\\\k54739\\\\Bibi_new_thesis\\\\thesis\\\\classification\\\\sd\\\\sd_RBT_01.10_Day10_E10-T01.tiff', 'C:\\\\Users\\\\k54739\\\\Bibi_new_thesis\\\\thesis\\\\classification\\\\cond7_curated\\\\ds_51_G04-T01.tiff', 'C:\\\\Users\\\\k54739\\\\Bibi_new_thesis\\\\thesis\\\\classification\\\\sd\\\\sd_RBT_01.04_Day10_G08-T01.tiff', 'C:\\\\Users\\\\k54739\\\\Bibi_new_thesis\\\\thesis\\\\classification\\\\sd\\\\sd_RBT_01.10_Day10_B08-T01.tiff', 'C:\\\\Users\\\\k54739\\\\Bibi_new_thesis\\\\thesis\\\\classification\\\\cond7_curated\\\\sd_04_C06-T01.tiff']\n"
     ]
    },
    {
     "name": "stderr",
     "output_type": "stream",
     "text": [
      " 57%|█████▋    | 16/28 [00:12<00:09,  1.31it/s]"
     ]
    },
    {
     "name": "stdout",
     "output_type": "stream",
     "text": [
      "Batch features shape: torch.Size([16, 20])\n",
      "Batch labels shape: torch.Size([16])\n",
      "Batch labels shape: ['C:\\\\Users\\\\k54739\\\\Bibi_new_thesis\\\\thesis\\\\classification\\\\cond7_curated\\\\ds_51_C04-T01.tiff', 'C:\\\\Users\\\\k54739\\\\Bibi_new_thesis\\\\thesis\\\\classification\\\\cond7_curated\\\\sd_04_C08-T01.tiff', 'C:\\\\Users\\\\k54739\\\\Bibi_new_thesis\\\\thesis\\\\classification\\\\ex\\\\ds61_g9_C11-T01.tiff', 'C:\\\\Users\\\\k54739\\\\Bibi_new_thesis\\\\thesis\\\\classification\\\\sd\\\\sd_RBT_01.04_Day10_F09-T01.tiff', 'C:\\\\Users\\\\k54739\\\\Bibi_new_thesis\\\\thesis\\\\classification\\\\cond7_curated\\\\ds_41_F09-T01.tiff', 'C:\\\\Users\\\\k54739\\\\Bibi_new_thesis\\\\thesis\\\\classification\\\\ex\\\\ds41_g9_C10-T01.tiff', 'C:\\\\Users\\\\k54739\\\\Bibi_new_thesis\\\\thesis\\\\classification\\\\sd\\\\sd_RBT_01.04_Day10_F07-T01.tiff', 'C:\\\\Users\\\\k54739\\\\Bibi_new_thesis\\\\thesis\\\\classification\\\\sd\\\\sd_RBT_01.04_Day10_E07-T01.tiff', 'C:\\\\Users\\\\k54739\\\\Bibi_new_thesis\\\\thesis\\\\classification\\\\cond7_curated\\\\sd_04_B08-T01.tiff', 'C:\\\\Users\\\\k54739\\\\Bibi_new_thesis\\\\thesis\\\\classification\\\\cond7_curated\\\\ds_51_E06-T01.tiff', 'C:\\\\Users\\\\k54739\\\\Bibi_new_thesis\\\\thesis\\\\classification\\\\cond7_curated\\\\ds_51_F06-T01.tiff', 'C:\\\\Users\\\\k54739\\\\Bibi_new_thesis\\\\thesis\\\\classification\\\\cond7_curated\\\\ds_1B_D04-T01.tiff', 'C:\\\\Users\\\\k54739\\\\Bibi_new_thesis\\\\thesis\\\\classification\\\\cond7_curated\\\\sd_04_E03-T01.tiff', 'C:\\\\Users\\\\k54739\\\\Bibi_new_thesis\\\\thesis\\\\classification\\\\cond7_curated\\\\ds_51_E03-T01.tiff', 'C:\\\\Users\\\\k54739\\\\Bibi_new_thesis\\\\thesis\\\\classification\\\\cond7_curated\\\\sd_04_D10-T01.tiff', 'C:\\\\Users\\\\k54739\\\\Bibi_new_thesis\\\\thesis\\\\classification\\\\cond7_curated\\\\ds_41_C11-T01.tiff']\n"
     ]
    },
    {
     "name": "stderr",
     "output_type": "stream",
     "text": [
      " 61%|██████    | 17/28 [00:12<00:08,  1.31it/s]"
     ]
    },
    {
     "name": "stdout",
     "output_type": "stream",
     "text": [
      "Batch features shape: torch.Size([16, 20])\n",
      "Batch labels shape: torch.Size([16])\n",
      "Batch labels shape: ['C:\\\\Users\\\\k54739\\\\Bibi_new_thesis\\\\thesis\\\\classification\\\\cond7_curated\\\\ds_51_F10-T01.tiff', 'C:\\\\Users\\\\k54739\\\\Bibi_new_thesis\\\\thesis\\\\classification\\\\cond7_curated\\\\ds_1B_G06-T01.tiff', 'C:\\\\Users\\\\k54739\\\\Bibi_new_thesis\\\\thesis\\\\classification\\\\cond7_curated\\\\ds_1B_B08-T01.tiff', 'C:\\\\Users\\\\k54739\\\\Bibi_new_thesis\\\\thesis\\\\classification\\\\cond7_curated\\\\ds_1B_C04-T01.tiff', 'C:\\\\Users\\\\k54739\\\\Bibi_new_thesis\\\\thesis\\\\classification\\\\cond7_curated\\\\ds_42_C07-T01.tiff', 'C:\\\\Users\\\\k54739\\\\Bibi_new_thesis\\\\thesis\\\\classification\\\\cond7_curated\\\\ds_51_B11-T01.tiff', 'C:\\\\Users\\\\k54739\\\\Bibi_new_thesis\\\\thesis\\\\classification\\\\cond7_curated\\\\sd_04_E06-T01.tiff', 'C:\\\\Users\\\\k54739\\\\Bibi_new_thesis\\\\thesis\\\\classification\\\\sd\\\\ds41_g5_E06-T01.tiff', 'C:\\\\Users\\\\k54739\\\\Bibi_new_thesis\\\\thesis\\\\classification\\\\sd\\\\sd_RBT_01.09_Day10_E08-T01.tiff', 'C:\\\\Users\\\\k54739\\\\Bibi_new_thesis\\\\thesis\\\\classification\\\\sd\\\\sd_RBT_01.09_Day10_G09-T01.tiff', 'C:\\\\Users\\\\k54739\\\\Bibi_new_thesis\\\\thesis\\\\classification\\\\cond7_curated\\\\sd_04_F09-T01.tiff', 'C:\\\\Users\\\\k54739\\\\Bibi_new_thesis\\\\thesis\\\\classification\\\\sd\\\\sd_RBT_01.09_Day10_F08-T01.tiff', 'C:\\\\Users\\\\k54739\\\\Bibi_new_thesis\\\\thesis\\\\classification\\\\cond7_curated\\\\sd_04_B03-T01.tiff', 'C:\\\\Users\\\\k54739\\\\Bibi_new_thesis\\\\thesis\\\\classification\\\\cond7_curated\\\\sd_04_C07-T01.tiff', 'C:\\\\Users\\\\k54739\\\\Bibi_new_thesis\\\\thesis\\\\classification\\\\sd\\\\sd_RBT_01.04_Day10_D11-T01.tiff', 'C:\\\\Users\\\\k54739\\\\Bibi_new_thesis\\\\thesis\\\\classification\\\\cond7_curated\\\\ds_51_C11-T01.tiff']\n"
     ]
    },
    {
     "name": "stderr",
     "output_type": "stream",
     "text": [
      " 64%|██████▍   | 18/28 [00:13<00:07,  1.31it/s]"
     ]
    },
    {
     "name": "stdout",
     "output_type": "stream",
     "text": [
      "Batch features shape: torch.Size([16, 20])\n",
      "Batch labels shape: torch.Size([16])\n",
      "Batch labels shape: ['C:\\\\Users\\\\k54739\\\\Bibi_new_thesis\\\\thesis\\\\classification\\\\cond7_curated\\\\ds_51_E10-T01.tiff', 'C:\\\\Users\\\\k54739\\\\Bibi_new_thesis\\\\thesis\\\\classification\\\\cond7_curated\\\\ds_1B_G11-T01.tiff', 'C:\\\\Users\\\\k54739\\\\Bibi_new_thesis\\\\thesis\\\\classification\\\\cond7_curated\\\\ds_51_D06-T01.tiff', 'C:\\\\Users\\\\k54739\\\\Bibi_new_thesis\\\\thesis\\\\classification\\\\cond7_curated\\\\ds_42_G05-T01.tiff', 'C:\\\\Users\\\\k54739\\\\Bibi_new_thesis\\\\thesis\\\\classification\\\\cond7_curated\\\\ds_51_B09-T01.tiff', 'C:\\\\Users\\\\k54739\\\\Bibi_new_thesis\\\\thesis\\\\classification\\\\cond7_curated\\\\sd_04_E10-T01.tiff', 'C:\\\\Users\\\\k54739\\\\Bibi_new_thesis\\\\thesis\\\\classification\\\\cond7_curated\\\\ds_41_B04-T01.tiff', 'C:\\\\Users\\\\k54739\\\\Bibi_new_thesis\\\\thesis\\\\classification\\\\cond7_curated\\\\ds_51_G03-T01.tiff', 'C:\\\\Users\\\\k54739\\\\Bibi_new_thesis\\\\thesis\\\\classification\\\\cond7_curated\\\\ds_42_C03-T01.tiff', 'C:\\\\Users\\\\k54739\\\\Bibi_new_thesis\\\\thesis\\\\classification\\\\cond7_curated\\\\ds_51_F07-T01.tiff', 'C:\\\\Users\\\\k54739\\\\Bibi_new_thesis\\\\thesis\\\\classification\\\\cond7_curated\\\\ds_41_F07-T01.tiff', 'C:\\\\Users\\\\k54739\\\\Bibi_new_thesis\\\\thesis\\\\classification\\\\sd\\\\sd_RBT_01.10_Day10_G07-T01.tiff', 'C:\\\\Users\\\\k54739\\\\Bibi_new_thesis\\\\thesis\\\\classification\\\\cond7_curated\\\\ds_1B_E06-T01.tiff', 'C:\\\\Users\\\\k54739\\\\Bibi_new_thesis\\\\thesis\\\\classification\\\\cond7_curated\\\\sd_04_E02-T01.tiff', 'C:\\\\Users\\\\k54739\\\\Bibi_new_thesis\\\\thesis\\\\classification\\\\cond7_curated\\\\ds_1B_B03-T01.tiff', 'C:\\\\Users\\\\k54739\\\\Bibi_new_thesis\\\\thesis\\\\classification\\\\cond7_curated\\\\ds_51_G08-T01.tiff']\n"
     ]
    },
    {
     "name": "stderr",
     "output_type": "stream",
     "text": [
      " 68%|██████▊   | 19/28 [00:14<00:06,  1.31it/s]"
     ]
    },
    {
     "name": "stdout",
     "output_type": "stream",
     "text": [
      "Batch features shape: torch.Size([16, 20])\n",
      "Batch labels shape: torch.Size([16])\n",
      "Batch labels shape: ['C:\\\\Users\\\\k54739\\\\Bibi_new_thesis\\\\thesis\\\\classification\\\\sd\\\\sd_RBT_01.14_Day10_C09-T01.tiff', 'C:\\\\Users\\\\k54739\\\\Bibi_new_thesis\\\\thesis\\\\classification\\\\cond7_curated\\\\ds_42_D07-T01.tiff', 'C:\\\\Users\\\\k54739\\\\Bibi_new_thesis\\\\thesis\\\\classification\\\\sd\\\\sd_RBT_01.10_Day10_D08-T01.tiff', 'C:\\\\Users\\\\k54739\\\\Bibi_new_thesis\\\\thesis\\\\classification\\\\cond7_curated\\\\ds_42_E07-T01.tiff', 'C:\\\\Users\\\\k54739\\\\Bibi_new_thesis\\\\thesis\\\\classification\\\\sd\\\\ds42_g2_B05-T01.tiff', 'C:\\\\Users\\\\k54739\\\\Bibi_new_thesis\\\\thesis\\\\classification\\\\cond7_curated\\\\ds_51_C09-T01.tiff', 'C:\\\\Users\\\\k54739\\\\Bibi_new_thesis\\\\thesis\\\\classification\\\\sd\\\\sd_RBT_01.10_Day10_E07-T01.tiff', 'C:\\\\Users\\\\k54739\\\\Bibi_new_thesis\\\\thesis\\\\classification\\\\cond7_curated\\\\ds_1B_F08-T01.tiff', 'C:\\\\Users\\\\k54739\\\\Bibi_new_thesis\\\\thesis\\\\classification\\\\sd\\\\sd_RBT_01.10_Day10_G08-T01.tiff', 'C:\\\\Users\\\\k54739\\\\Bibi_new_thesis\\\\thesis\\\\classification\\\\sd\\\\sd_RBT_01.09_Day10_D08-T01.tiff', 'C:\\\\Users\\\\k54739\\\\Bibi_new_thesis\\\\thesis\\\\classification\\\\cond7_curated\\\\ds_1B_C02-T01.tiff', 'C:\\\\Users\\\\k54739\\\\Bibi_new_thesis\\\\thesis\\\\classification\\\\cond7_curated\\\\ds_41_F04-T01.tiff', 'C:\\\\Users\\\\k54739\\\\Bibi_new_thesis\\\\thesis\\\\classification\\\\sd\\\\sd_RBT_01.09_Day10_G08-T01.tiff', 'C:\\\\Users\\\\k54739\\\\Bibi_new_thesis\\\\thesis\\\\classification\\\\sd\\\\sd_RBT_01.14_Day10_B10-T01.tiff', 'C:\\\\Users\\\\k54739\\\\Bibi_new_thesis\\\\thesis\\\\classification\\\\cond7_curated\\\\ds_1B_F04-T01.tiff', 'C:\\\\Users\\\\k54739\\\\Bibi_new_thesis\\\\thesis\\\\classification\\\\cond7_curated\\\\ds_52_B07-T01.tiff']\n"
     ]
    },
    {
     "name": "stderr",
     "output_type": "stream",
     "text": [
      " 71%|███████▏  | 20/28 [00:15<00:06,  1.31it/s]"
     ]
    },
    {
     "name": "stdout",
     "output_type": "stream",
     "text": [
      "Batch features shape: torch.Size([16, 20])\n",
      "Batch labels shape: torch.Size([16])\n",
      "Batch labels shape: ['C:\\\\Users\\\\k54739\\\\Bibi_new_thesis\\\\thesis\\\\classification\\\\cond7_curated\\\\ds_51_D09-T01.tiff', 'C:\\\\Users\\\\k54739\\\\Bibi_new_thesis\\\\thesis\\\\classification\\\\sd\\\\sd_RBT_01.10_Day10_D09-T01.tiff', 'C:\\\\Users\\\\k54739\\\\Bibi_new_thesis\\\\thesis\\\\classification\\\\sd\\\\sd_RBT_01.09_Day10_B09-T01.tiff', 'C:\\\\Users\\\\k54739\\\\Bibi_new_thesis\\\\thesis\\\\classification\\\\cond7_curated\\\\ds_1B_C05-T01.tiff', 'C:\\\\Users\\\\k54739\\\\Bibi_new_thesis\\\\thesis\\\\classification\\\\cond7_curated\\\\sd_04_C05-T01.tiff', 'C:\\\\Users\\\\k54739\\\\Bibi_new_thesis\\\\thesis\\\\classification\\\\sd\\\\sd_RBT_01.10_Day10_F10-T01.tiff', 'C:\\\\Users\\\\k54739\\\\Bibi_new_thesis\\\\thesis\\\\classification\\\\sd\\\\sd_RBT_01.04_Day10_E10-T01.tiff', 'C:\\\\Users\\\\k54739\\\\Bibi_new_thesis\\\\thesis\\\\classification\\\\sd\\\\sd_RBT_01.09_Day10_D10-T01.tiff', 'C:\\\\Users\\\\k54739\\\\Bibi_new_thesis\\\\thesis\\\\classification\\\\cond7_curated\\\\ds_1B_E07-T01.tiff', 'C:\\\\Users\\\\k54739\\\\Bibi_new_thesis\\\\thesis\\\\classification\\\\cond7_curated\\\\ds_41_G06-T01.tiff', 'C:\\\\Users\\\\k54739\\\\Bibi_new_thesis\\\\thesis\\\\classification\\\\cond7_curated\\\\ds_41_C10-T01.tiff', 'C:\\\\Users\\\\k54739\\\\Bibi_new_thesis\\\\thesis\\\\classification\\\\ex\\\\ds1B_g9_C11.tif', 'C:\\\\Users\\\\k54739\\\\Bibi_new_thesis\\\\thesis\\\\classification\\\\sd\\\\sd_RBT_01.04_Day10_B07-T01.tiff', 'C:\\\\Users\\\\k54739\\\\Bibi_new_thesis\\\\thesis\\\\classification\\\\cond7_curated\\\\ds_41_E02-T01.tiff', 'C:\\\\Users\\\\k54739\\\\Bibi_new_thesis\\\\thesis\\\\classification\\\\cond7_curated\\\\ds_1B_B02-T01.tiff', 'C:\\\\Users\\\\k54739\\\\Bibi_new_thesis\\\\thesis\\\\classification\\\\cond7_curated\\\\ds_41_B07-T01.tiff']\n"
     ]
    },
    {
     "name": "stderr",
     "output_type": "stream",
     "text": [
      " 75%|███████▌  | 21/28 [00:15<00:05,  1.32it/s]"
     ]
    },
    {
     "name": "stdout",
     "output_type": "stream",
     "text": [
      "Batch features shape: torch.Size([16, 20])\n",
      "Batch labels shape: torch.Size([16])\n",
      "Batch labels shape: ['C:\\\\Users\\\\k54739\\\\Bibi_new_thesis\\\\thesis\\\\classification\\\\sd\\\\sd_RBT_01.04_Day10_E11-T01.tiff', 'C:\\\\Users\\\\k54739\\\\Bibi_new_thesis\\\\thesis\\\\classification\\\\cond7_curated\\\\ds_1B_D06-T01.tiff', 'C:\\\\Users\\\\k54739\\\\Bibi_new_thesis\\\\thesis\\\\classification\\\\ex\\\\ds61_g9_C09-T01.tiff', 'C:\\\\Users\\\\k54739\\\\Bibi_new_thesis\\\\thesis\\\\classification\\\\sd\\\\sd_RBT_01.04_Day10_F10-T01.tiff', 'C:\\\\Users\\\\k54739\\\\Bibi_new_thesis\\\\thesis\\\\classification\\\\cond7_curated\\\\ds_42_D05-T01.tiff', 'C:\\\\Users\\\\k54739\\\\Bibi_new_thesis\\\\thesis\\\\classification\\\\ex\\\\ds41_g3_C03-T01.tiff', 'C:\\\\Users\\\\k54739\\\\Bibi_new_thesis\\\\thesis\\\\classification\\\\sd\\\\ds41_g2_B06-T01.tiff', 'C:\\\\Users\\\\k54739\\\\Bibi_new_thesis\\\\thesis\\\\classification\\\\cond7_curated\\\\ds_41_G09-T01.tiff', 'C:\\\\Users\\\\k54739\\\\Bibi_new_thesis\\\\thesis\\\\classification\\\\cond7_curated\\\\ds_1B_C10-T01.tiff', 'C:\\\\Users\\\\k54739\\\\Bibi_new_thesis\\\\thesis\\\\classification\\\\sd\\\\ds1b_g5_E3.tif', 'C:\\\\Users\\\\k54739\\\\Bibi_new_thesis\\\\thesis\\\\classification\\\\sd\\\\sd_RBT_01.04_Day10_D10-T01.tiff', 'C:\\\\Users\\\\k54739\\\\Bibi_new_thesis\\\\thesis\\\\classification\\\\sd\\\\sd_RBT_01.10_Day10_B07-T01.tiff', 'C:\\\\Users\\\\k54739\\\\Bibi_new_thesis\\\\thesis\\\\classification\\\\cond7_curated\\\\ds_41_G08-T01.tiff', 'C:\\\\Users\\\\k54739\\\\Bibi_new_thesis\\\\thesis\\\\classification\\\\cond7_curated\\\\ds_41_B09-T01.tiff', 'C:\\\\Users\\\\k54739\\\\Bibi_new_thesis\\\\thesis\\\\classification\\\\sd\\\\ds62_g2_B03-T01.tiff', 'C:\\\\Users\\\\k54739\\\\Bibi_new_thesis\\\\thesis\\\\classification\\\\cond7_curated\\\\ds_1B_G02-T01.tiff']\n"
     ]
    },
    {
     "name": "stderr",
     "output_type": "stream",
     "text": [
      " 79%|███████▊  | 22/28 [00:16<00:04,  1.32it/s]"
     ]
    },
    {
     "name": "stdout",
     "output_type": "stream",
     "text": [
      "Batch features shape: torch.Size([16, 20])\n",
      "Batch labels shape: torch.Size([16])\n",
      "Batch labels shape: ['C:\\\\Users\\\\k54739\\\\Bibi_new_thesis\\\\thesis\\\\classification\\\\sd\\\\ds42_g5_E03-T01.tiff', 'C:\\\\Users\\\\k54739\\\\Bibi_new_thesis\\\\thesis\\\\classification\\\\ex\\\\ds61_g3_C03-T01.tiff', 'C:\\\\Users\\\\k54739\\\\Bibi_new_thesis\\\\thesis\\\\classification\\\\sd\\\\sd_RBT_01.10_Day10_F07-T01.tiff', 'C:\\\\Users\\\\k54739\\\\Bibi_new_thesis\\\\thesis\\\\classification\\\\cond7_curated\\\\sd_04_D03-T01.tiff', 'C:\\\\Users\\\\k54739\\\\Bibi_new_thesis\\\\thesis\\\\classification\\\\sd\\\\sd_RBT_01.09_Day10_D11-T01.tiff', 'C:\\\\Users\\\\k54739\\\\Bibi_new_thesis\\\\thesis\\\\classification\\\\sd\\\\sd_RBT_01.10_Day10_E09-T01.tiff', 'C:\\\\Users\\\\k54739\\\\Bibi_new_thesis\\\\thesis\\\\classification\\\\cond7_curated\\\\ds_1B_D05-T01.tiff', 'C:\\\\Users\\\\k54739\\\\Bibi_new_thesis\\\\thesis\\\\classification\\\\cond7_curated\\\\ds_42_B08-T01.tiff', 'C:\\\\Users\\\\k54739\\\\Bibi_new_thesis\\\\thesis\\\\classification\\\\cond7_curated\\\\ds_42_G04-T01.tiff', 'C:\\\\Users\\\\k54739\\\\Bibi_new_thesis\\\\thesis\\\\classification\\\\sd\\\\sd_RBT_01.09_Day10_C10-T01.tiff', 'C:\\\\Users\\\\k54739\\\\Bibi_new_thesis\\\\thesis\\\\classification\\\\cond7_curated\\\\ds_41_D03-T01.tiff', 'C:\\\\Users\\\\k54739\\\\Bibi_new_thesis\\\\thesis\\\\classification\\\\cond7_curated\\\\ds_42_D06-T01.tiff', 'C:\\\\Users\\\\k54739\\\\Bibi_new_thesis\\\\thesis\\\\classification\\\\cond7_curated\\\\sd_04_C02-T01.tiff', 'C:\\\\Users\\\\k54739\\\\Bibi_new_thesis\\\\thesis\\\\classification\\\\sd\\\\sd_RBT_01.14_Day10_C11-T01.tiff', 'C:\\\\Users\\\\k54739\\\\Bibi_new_thesis\\\\thesis\\\\classification\\\\cond7_curated\\\\sd_04_G06-T01.tiff', 'C:\\\\Users\\\\k54739\\\\Bibi_new_thesis\\\\thesis\\\\classification\\\\cond7_curated\\\\ds_51_F08-T01.tiff']\n"
     ]
    },
    {
     "name": "stderr",
     "output_type": "stream",
     "text": [
      " 82%|████████▏ | 23/28 [00:17<00:03,  1.31it/s]"
     ]
    },
    {
     "name": "stdout",
     "output_type": "stream",
     "text": [
      "Batch features shape: torch.Size([16, 20])\n",
      "Batch labels shape: torch.Size([16])\n",
      "Batch labels shape: ['C:\\\\Users\\\\k54739\\\\Bibi_new_thesis\\\\thesis\\\\classification\\\\cond7_curated\\\\ds_1B_E09-T01.tiff', 'C:\\\\Users\\\\k54739\\\\Bibi_new_thesis\\\\thesis\\\\classification\\\\sd\\\\sd_RBT_01.09_Day10_C09-T01.tiff', 'C:\\\\Users\\\\k54739\\\\Bibi_new_thesis\\\\thesis\\\\classification\\\\sd\\\\sd_RBT_01.04_Day10_C08-T01.tiff', 'C:\\\\Users\\\\k54739\\\\Bibi_new_thesis\\\\thesis\\\\classification\\\\cond7_curated\\\\ds_42_E06-T01.tiff', 'C:\\\\Users\\\\k54739\\\\Bibi_new_thesis\\\\thesis\\\\classification\\\\cond7_curated\\\\sd_04_B05-T01.tiff', 'C:\\\\Users\\\\k54739\\\\Bibi_new_thesis\\\\thesis\\\\classification\\\\sd\\\\ds1b_g5_E2.tif', 'C:\\\\Users\\\\k54739\\\\Bibi_new_thesis\\\\thesis\\\\classification\\\\cond7_curated\\\\ds_41_F11-T01.tiff', 'C:\\\\Users\\\\k54739\\\\Bibi_new_thesis\\\\thesis\\\\classification\\\\cond7_curated\\\\sd_04_E04-T01.tiff', 'C:\\\\Users\\\\k54739\\\\Bibi_new_thesis\\\\thesis\\\\classification\\\\cond7_curated\\\\ds_1B_B07-T01.tiff', 'C:\\\\Users\\\\k54739\\\\Bibi_new_thesis\\\\thesis\\\\classification\\\\cond7_curated\\\\ds_42_E10-T01.tiff', 'C:\\\\Users\\\\k54739\\\\Bibi_new_thesis\\\\thesis\\\\classification\\\\cond7_curated\\\\sd_04_D05-T01.tiff', 'C:\\\\Users\\\\k54739\\\\Bibi_new_thesis\\\\thesis\\\\classification\\\\sd\\\\ds42_g5_E05-T01.tiff', 'C:\\\\Users\\\\k54739\\\\Bibi_new_thesis\\\\thesis\\\\classification\\\\cond7_curated\\\\ds_42_B02-T01.tiff', 'C:\\\\Users\\\\k54739\\\\Bibi_new_thesis\\\\thesis\\\\classification\\\\cond7_curated\\\\sd_04_C03-T01.tiff', 'C:\\\\Users\\\\k54739\\\\Bibi_new_thesis\\\\thesis\\\\classification\\\\ex\\\\ds61_g6_F06-T01.tiff', 'C:\\\\Users\\\\k54739\\\\Bibi_new_thesis\\\\thesis\\\\classification\\\\sd\\\\sd_RBT_01.14_Day10_C07-T01.tiff']\n"
     ]
    },
    {
     "name": "stderr",
     "output_type": "stream",
     "text": [
      " 86%|████████▌ | 24/28 [00:18<00:03,  1.32it/s]"
     ]
    },
    {
     "name": "stdout",
     "output_type": "stream",
     "text": [
      "Batch features shape: torch.Size([16, 20])\n",
      "Batch labels shape: torch.Size([16])\n",
      "Batch labels shape: ['C:\\\\Users\\\\k54739\\\\Bibi_new_thesis\\\\thesis\\\\classification\\\\sd\\\\sd_RBT_01.04_Day10_C10-T01.tiff', 'C:\\\\Users\\\\k54739\\\\Bibi_new_thesis\\\\thesis\\\\classification\\\\sd\\\\sd_RBT_01.09_Day10_D09-T01.tiff', 'C:\\\\Users\\\\k54739\\\\Bibi_new_thesis\\\\thesis\\\\classification\\\\cond7_curated\\\\ds_51_D02-T01.tiff', 'C:\\\\Users\\\\k54739\\\\Bibi_new_thesis\\\\thesis\\\\classification\\\\sd\\\\sd_RBT_01.04_Day10_B08-T01.tiff', 'C:\\\\Users\\\\k54739\\\\Bibi_new_thesis\\\\thesis\\\\classification\\\\cond7_curated\\\\sd_04_D06-T01.tiff', 'C:\\\\Users\\\\k54739\\\\Bibi_new_thesis\\\\thesis\\\\classification\\\\cond7_curated\\\\ds_51_C05-T01.tiff', 'C:\\\\Users\\\\k54739\\\\Bibi_new_thesis\\\\thesis\\\\classification\\\\cond7_curated\\\\ds_41_C05-T01.tiff', 'C:\\\\Users\\\\k54739\\\\Bibi_new_thesis\\\\thesis\\\\classification\\\\ex\\\\ds61_g9_C10-T01.tiff', 'C:\\\\Users\\\\k54739\\\\Bibi_new_thesis\\\\thesis\\\\classification\\\\ex\\\\ds61_g8_B07-T01.tiff', 'C:\\\\Users\\\\k54739\\\\Bibi_new_thesis\\\\thesis\\\\classification\\\\sd\\\\sd_RBT_01.09_Day10_F09-T01.tiff', 'C:\\\\Users\\\\k54739\\\\Bibi_new_thesis\\\\thesis\\\\classification\\\\ex\\\\ds61_g8_B11-T01.tiff', 'C:\\\\Users\\\\k54739\\\\Bibi_new_thesis\\\\thesis\\\\classification\\\\cond7_curated\\\\sd_04_D02-T01.tiff', 'C:\\\\Users\\\\k54739\\\\Bibi_new_thesis\\\\thesis\\\\classification\\\\sd\\\\sd_RBT_01.09_Day10_B08-T01.tiff', 'C:\\\\Users\\\\k54739\\\\Bibi_new_thesis\\\\thesis\\\\classification\\\\sd\\\\sd_RBT_01.04_Day10_C07-T01.tiff', 'C:\\\\Users\\\\k54739\\\\Bibi_new_thesis\\\\thesis\\\\classification\\\\cond7_curated\\\\ds_1B_C07-T01.tiff', 'C:\\\\Users\\\\k54739\\\\Bibi_new_thesis\\\\thesis\\\\classification\\\\cond7_curated\\\\ds_51_E07-T01.tiff']\n"
     ]
    },
    {
     "name": "stderr",
     "output_type": "stream",
     "text": [
      " 89%|████████▉ | 25/28 [00:19<00:02,  1.31it/s]"
     ]
    },
    {
     "name": "stdout",
     "output_type": "stream",
     "text": [
      "Batch features shape: torch.Size([16, 20])\n",
      "Batch labels shape: torch.Size([16])\n",
      "Batch labels shape: ['C:\\\\Users\\\\k54739\\\\Bibi_new_thesis\\\\thesis\\\\classification\\\\cond7_curated\\\\sd_04_C10-T01.tiff', 'C:\\\\Users\\\\k54739\\\\Bibi_new_thesis\\\\thesis\\\\classification\\\\cond7_curated\\\\ds_41_C02-T01.tiff', 'C:\\\\Users\\\\k54739\\\\Bibi_new_thesis\\\\thesis\\\\classification\\\\sd\\\\sd_RBT_01.04_Day10_B11-T01.tiff', 'C:\\\\Users\\\\k54739\\\\Bibi_new_thesis\\\\thesis\\\\classification\\\\cond7_curated\\\\ds_1B_E04-T01.tiff', 'C:\\\\Users\\\\k54739\\\\Bibi_new_thesis\\\\thesis\\\\classification\\\\cond7_curated\\\\ds_1B_F07-T01.tiff', 'C:\\\\Users\\\\k54739\\\\Bibi_new_thesis\\\\thesis\\\\classification\\\\sd\\\\sd_RBT_01.10_Day10_E11-T01.tiff', 'C:\\\\Users\\\\k54739\\\\Bibi_new_thesis\\\\thesis\\\\classification\\\\cond7_curated\\\\ds_41_C08-T01.tiff', 'C:\\\\Users\\\\k54739\\\\Bibi_new_thesis\\\\thesis\\\\classification\\\\cond7_curated\\\\ds_42_F06-T01.tiff', 'C:\\\\Users\\\\k54739\\\\Bibi_new_thesis\\\\thesis\\\\classification\\\\cond7_curated\\\\sd_04_E09-T01.tiff', 'C:\\\\Users\\\\k54739\\\\Bibi_new_thesis\\\\thesis\\\\classification\\\\cond7_curated\\\\ds_51_E11-T01.tiff', 'C:\\\\Users\\\\k54739\\\\Bibi_new_thesis\\\\thesis\\\\classification\\\\cond7_curated\\\\ds_42_F09-T01.tiff', 'C:\\\\Users\\\\k54739\\\\Bibi_new_thesis\\\\thesis\\\\classification\\\\cond7_curated\\\\ds_1B_C11-T01.tiff', 'C:\\\\Users\\\\k54739\\\\Bibi_new_thesis\\\\thesis\\\\classification\\\\sd\\\\sd_RBT_01.10_Day10_C08-T01.tiff', 'C:\\\\Users\\\\k54739\\\\Bibi_new_thesis\\\\thesis\\\\classification\\\\sd\\\\sd_RBT_01.09_Day10_E07-T01.tiff', 'C:\\\\Users\\\\k54739\\\\Bibi_new_thesis\\\\thesis\\\\classification\\\\cond7_curated\\\\ds_41_G05-T01.tiff', 'C:\\\\Users\\\\k54739\\\\Bibi_new_thesis\\\\thesis\\\\classification\\\\cond7_curated\\\\sd_04_G04-T01.tiff']\n"
     ]
    },
    {
     "name": "stderr",
     "output_type": "stream",
     "text": [
      " 93%|█████████▎| 26/28 [00:19<00:01,  1.30it/s]"
     ]
    },
    {
     "name": "stdout",
     "output_type": "stream",
     "text": [
      "Batch features shape: torch.Size([16, 20])\n",
      "Batch labels shape: torch.Size([16])\n",
      "Batch labels shape: ['C:\\\\Users\\\\k54739\\\\Bibi_new_thesis\\\\thesis\\\\classification\\\\cond7_curated\\\\ds_41_D04-T01.tiff', 'C:\\\\Users\\\\k54739\\\\Bibi_new_thesis\\\\thesis\\\\classification\\\\cond7_curated\\\\sd_04_B07-T01.tiff', 'C:\\\\Users\\\\k54739\\\\Bibi_new_thesis\\\\thesis\\\\classification\\\\cond7_curated\\\\ds_1B_D07-T01.tiff', 'C:\\\\Users\\\\k54739\\\\Bibi_new_thesis\\\\thesis\\\\classification\\\\sd\\\\ds41_g5_E04-T01.tiff', 'C:\\\\Users\\\\k54739\\\\Bibi_new_thesis\\\\thesis\\\\classification\\\\cond7_curated\\\\ds_1B_F02-T01.tiff', 'C:\\\\Users\\\\k54739\\\\Bibi_new_thesis\\\\thesis\\\\classification\\\\cond7_curated\\\\ds_51_D07-T01.tiff', 'C:\\\\Users\\\\k54739\\\\Bibi_new_thesis\\\\thesis\\\\classification\\\\cond7_curated\\\\sd_04_G07-T01.tiff', 'C:\\\\Users\\\\k54739\\\\Bibi_new_thesis\\\\thesis\\\\classification\\\\cond7_curated\\\\sd_04_E07-T01.tiff', 'C:\\\\Users\\\\k54739\\\\Bibi_new_thesis\\\\thesis\\\\classification\\\\cond7_curated\\\\ds_51_C08-T01.tiff', 'C:\\\\Users\\\\k54739\\\\Bibi_new_thesis\\\\thesis\\\\classification\\\\cond7_curated\\\\ds_41_D05-T01.tiff', 'C:\\\\Users\\\\k54739\\\\Bibi_new_thesis\\\\thesis\\\\classification\\\\cond7_curated\\\\ds_51_B02-T01.tiff', 'C:\\\\Users\\\\k54739\\\\Bibi_new_thesis\\\\thesis\\\\classification\\\\ex\\\\ds61_g9_C08-T01.tiff', 'C:\\\\Users\\\\k54739\\\\Bibi_new_thesis\\\\thesis\\\\classification\\\\ex\\\\ds61_g6_F05-T01.tiff', 'C:\\\\Users\\\\k54739\\\\Bibi_new_thesis\\\\thesis\\\\classification\\\\cond7_curated\\\\sd_04_G09-T01.tiff', 'C:\\\\Users\\\\k54739\\\\Bibi_new_thesis\\\\thesis\\\\classification\\\\cond7_curated\\\\ds_41_D11-T01.tiff', 'C:\\\\Users\\\\k54739\\\\Bibi_new_thesis\\\\thesis\\\\classification\\\\cond7_curated\\\\ds_41_C07-T01.tiff']\n"
     ]
    },
    {
     "name": "stderr",
     "output_type": "stream",
     "text": [
      " 96%|█████████▋| 27/28 [00:20<00:00,  1.29it/s]"
     ]
    },
    {
     "name": "stdout",
     "output_type": "stream",
     "text": [
      "Batch features shape: torch.Size([16, 20])\n",
      "Batch labels shape: torch.Size([16])\n",
      "Batch labels shape: ['C:\\\\Users\\\\k54739\\\\Bibi_new_thesis\\\\thesis\\\\classification\\\\cond7_curated\\\\ds_1B_E10-T01.tiff', 'C:\\\\Users\\\\k54739\\\\Bibi_new_thesis\\\\thesis\\\\classification\\\\cond7_curated\\\\ds_1B_F09-T01.tiff', 'C:\\\\Users\\\\k54739\\\\Bibi_new_thesis\\\\thesis\\\\classification\\\\cond7_curated\\\\ds_1B_B09-T01.tiff', 'C:\\\\Users\\\\k54739\\\\Bibi_new_thesis\\\\thesis\\\\classification\\\\cond7_curated\\\\ds_41_E07-T01.tiff', 'C:\\\\Users\\\\k54739\\\\Bibi_new_thesis\\\\thesis\\\\classification\\\\cond7_curated\\\\ds_1B_C03-T01.tiff', 'C:\\\\Users\\\\k54739\\\\Bibi_new_thesis\\\\thesis\\\\classification\\\\cond7_curated\\\\ds_42_D04-T01.tiff', 'C:\\\\Users\\\\k54739\\\\Bibi_new_thesis\\\\thesis\\\\classification\\\\cond7_curated\\\\ds_41_B08-T01.tiff', 'C:\\\\Users\\\\k54739\\\\Bibi_new_thesis\\\\thesis\\\\classification\\\\sd\\\\sd_RBT_01.04_Day10_G09-T01.tiff', 'C:\\\\Users\\\\k54739\\\\Bibi_new_thesis\\\\thesis\\\\classification\\\\cond7_curated\\\\ds_51_B10-T01.tiff', 'C:\\\\Users\\\\k54739\\\\Bibi_new_thesis\\\\thesis\\\\classification\\\\sd\\\\sd_RBT_01.04_Day10_C09-T01.tiff', 'C:\\\\Users\\\\k54739\\\\Bibi_new_thesis\\\\thesis\\\\classification\\\\cond7_curated\\\\ds_42_F10-T01.tiff', 'C:\\\\Users\\\\k54739\\\\Bibi_new_thesis\\\\thesis\\\\classification\\\\cond7_curated\\\\sd_04_C09-T01.tiff', 'C:\\\\Users\\\\k54739\\\\Bibi_new_thesis\\\\thesis\\\\classification\\\\cond7_curated\\\\ds_51_D08-T01.tiff', 'C:\\\\Users\\\\k54739\\\\Bibi_new_thesis\\\\thesis\\\\classification\\\\sd\\\\ds42_g5_E06-T01.tiff', 'C:\\\\Users\\\\k54739\\\\Bibi_new_thesis\\\\thesis\\\\classification\\\\cond7_curated\\\\ds_41_E03-T01.tiff', 'C:\\\\Users\\\\k54739\\\\Bibi_new_thesis\\\\thesis\\\\classification\\\\cond7_curated\\\\sd_04_F05-T01.tiff']\n"
     ]
    },
    {
     "name": "stderr",
     "output_type": "stream",
     "text": [
      "100%|██████████| 28/28 [00:21<00:00,  1.32it/s]"
     ]
    },
    {
     "name": "stdout",
     "output_type": "stream",
     "text": [
      "Batch features shape: torch.Size([13, 20])\n",
      "Batch labels shape: torch.Size([13])\n",
      "Batch labels shape: ['C:\\\\Users\\\\k54739\\\\Bibi_new_thesis\\\\thesis\\\\classification\\\\cond7_curated\\\\ds_41_F08-T01.tiff', 'C:\\\\Users\\\\k54739\\\\Bibi_new_thesis\\\\thesis\\\\classification\\\\ex\\\\ds41_g3_C05-T01.tiff', 'C:\\\\Users\\\\k54739\\\\Bibi_new_thesis\\\\thesis\\\\classification\\\\sd\\\\sd_RBT_01.10_Day10_G09-T01.tiff', 'C:\\\\Users\\\\k54739\\\\Bibi_new_thesis\\\\thesis\\\\classification\\\\cond7_curated\\\\ds_41_D08-T01.tiff', 'C:\\\\Users\\\\k54739\\\\Bibi_new_thesis\\\\thesis\\\\classification\\\\cond7_curated\\\\sd_04_C11-T01.tiff', 'C:\\\\Users\\\\k54739\\\\Bibi_new_thesis\\\\thesis\\\\classification\\\\sd\\\\sd_RBT_01.10_Day10_D07-T01.tiff', 'C:\\\\Users\\\\k54739\\\\Bibi_new_thesis\\\\thesis\\\\classification\\\\cond7_curated\\\\ds_51_G10-T01.tiff', 'C:\\\\Users\\\\k54739\\\\Bibi_new_thesis\\\\thesis\\\\classification\\\\cond7_curated\\\\ds_52_C07-T01.tiff', 'C:\\\\Users\\\\k54739\\\\Bibi_new_thesis\\\\thesis\\\\classification\\\\cond7_curated\\\\ds_1B_G04-T01.tiff', 'C:\\\\Users\\\\k54739\\\\Bibi_new_thesis\\\\thesis\\\\classification\\\\cond7_curated\\\\ds_51_G07-T01.tiff', 'C:\\\\Users\\\\k54739\\\\Bibi_new_thesis\\\\thesis\\\\classification\\\\cond7_curated\\\\sd_04_D04-T01.tiff', 'C:\\\\Users\\\\k54739\\\\Bibi_new_thesis\\\\thesis\\\\classification\\\\sd\\\\ds42_g2_B03-T01.tiff', 'C:\\\\Users\\\\k54739\\\\Bibi_new_thesis\\\\thesis\\\\classification\\\\cond7_curated\\\\ds_1B_D10-T01.tiff']\n",
      "Features shape after concatenation: torch.Size([445, 20])\n",
      "Labels shape after concatenation: torch.Size([445])\n",
      "Number of paths after concatenation: 445\n"
     ]
    },
    {
     "name": "stderr",
     "output_type": "stream",
     "text": [
      "\n"
     ]
    }
   ],
   "source": [
    "# Extract features for train and test datasets\n",
    "feats, labels, paths = prepare_data_features(simclr_model, loader_labeled)"
   ]
  },
  {
   "cell_type": "code",
   "execution_count": 10,
   "metadata": {},
   "outputs": [
    {
     "name": "stdout",
     "output_type": "stream",
     "text": [
      "Shape of features (for K-Means): (445, 20)\n",
      "Shape of labels: (445,)\n"
     ]
    }
   ],
   "source": [
    "# Convert features and labels to NumPy arrays\n",
    "feats_np = feats.numpy()\n",
    "labels_np = labels.numpy()\n",
    "\n",
    "# Ensure that paths is a list of the correct length\n",
    "assert len(paths) == feats_np.shape[0], \"Mismatch between number of features and paths\"\n",
    "\n",
    "# Check the shapes\n",
    "print(\"Shape of features (for K-Means):\", feats_np.shape)\n",
    "print(\"Shape of labels:\", labels_np.shape)"
   ]
  },
  {
   "cell_type": "markdown",
   "metadata": {},
   "source": [
    "From scratch"
   ]
  },
  {
   "cell_type": "code",
   "execution_count": 11,
   "metadata": {},
   "outputs": [
    {
     "name": "stdout",
     "output_type": "stream",
     "text": [
      "Trial 1/150\n",
      "Accuracy for trial 1: 62.92%\n",
      "Trial 2/150\n",
      "Accuracy for trial 2: 62.92%\n",
      "Trial 3/150\n",
      "Accuracy for trial 3: 62.92%\n",
      "Trial 4/150\n",
      "Accuracy for trial 4: 62.92%\n",
      "Trial 5/150\n",
      "Accuracy for trial 5: 62.92%\n",
      "Trial 6/150\n",
      "Accuracy for trial 6: 62.92%\n",
      "Trial 7/150\n",
      "Accuracy for trial 7: 62.92%\n",
      "Trial 8/150\n",
      "Accuracy for trial 8: 62.92%\n",
      "Trial 9/150\n",
      "Accuracy for trial 9: 62.92%\n",
      "Trial 10/150\n",
      "Accuracy for trial 10: 62.92%\n",
      "Trial 11/150\n",
      "Accuracy for trial 11: 62.92%\n",
      "Trial 12/150\n",
      "Accuracy for trial 12: 62.92%\n",
      "Trial 13/150\n",
      "Accuracy for trial 13: 62.92%\n",
      "Trial 14/150\n",
      "Accuracy for trial 14: 62.92%\n",
      "Trial 15/150\n",
      "Accuracy for trial 15: 62.92%\n",
      "Trial 16/150\n",
      "Accuracy for trial 16: 62.92%\n",
      "Trial 17/150\n",
      "Accuracy for trial 17: 62.92%\n",
      "Trial 18/150\n",
      "Accuracy for trial 18: 62.92%\n",
      "Trial 19/150\n",
      "Accuracy for trial 19: 62.92%\n",
      "Trial 20/150\n",
      "Accuracy for trial 20: 62.92%\n",
      "Trial 21/150\n",
      "Accuracy for trial 21: 62.92%\n",
      "Trial 22/150\n",
      "Accuracy for trial 22: 62.92%\n",
      "Trial 23/150\n",
      "Accuracy for trial 23: 62.92%\n",
      "Trial 24/150\n",
      "Accuracy for trial 24: 62.92%\n",
      "Trial 25/150\n",
      "Accuracy for trial 25: 62.92%\n",
      "Trial 26/150\n",
      "Accuracy for trial 26: 62.92%\n",
      "Trial 27/150\n",
      "Accuracy for trial 27: 62.92%\n",
      "Trial 28/150\n",
      "Accuracy for trial 28: 62.92%\n",
      "Trial 29/150\n",
      "Accuracy for trial 29: 62.92%\n",
      "Trial 30/150\n",
      "Accuracy for trial 30: 62.92%\n",
      "Trial 31/150\n",
      "Accuracy for trial 31: 62.92%\n",
      "Trial 32/150\n",
      "Accuracy for trial 32: 62.92%\n",
      "Trial 33/150\n",
      "Accuracy for trial 33: 62.92%\n",
      "Trial 34/150\n",
      "Accuracy for trial 34: 62.92%\n",
      "Trial 35/150\n",
      "Accuracy for trial 35: 62.92%\n",
      "Trial 36/150\n",
      "Accuracy for trial 36: 62.92%\n",
      "Trial 37/150\n",
      "Accuracy for trial 37: 62.92%\n",
      "Trial 38/150\n",
      "Accuracy for trial 38: 62.92%\n",
      "Trial 39/150\n",
      "Accuracy for trial 39: 62.92%\n",
      "Trial 40/150\n",
      "Accuracy for trial 40: 62.92%\n",
      "Trial 41/150\n",
      "Accuracy for trial 41: 62.92%\n",
      "Trial 42/150\n",
      "Accuracy for trial 42: 62.92%\n",
      "Trial 43/150\n",
      "Accuracy for trial 43: 62.92%\n",
      "Trial 44/150\n",
      "Accuracy for trial 44: 62.92%\n",
      "Trial 45/150\n",
      "Accuracy for trial 45: 62.92%\n",
      "Trial 46/150\n",
      "Accuracy for trial 46: 64.27%\n",
      "Trial 47/150\n",
      "Accuracy for trial 47: 62.92%\n",
      "Trial 48/150\n",
      "Accuracy for trial 48: 62.92%\n",
      "Trial 49/150\n",
      "Accuracy for trial 49: 62.92%\n",
      "Trial 50/150\n",
      "Accuracy for trial 50: 62.92%\n",
      "Trial 51/150\n",
      "Accuracy for trial 51: 62.92%\n",
      "Trial 52/150\n",
      "Accuracy for trial 52: 62.92%\n",
      "Trial 53/150\n",
      "Accuracy for trial 53: 62.92%\n",
      "Trial 54/150\n",
      "Accuracy for trial 54: 62.92%\n",
      "Trial 55/150\n",
      "Accuracy for trial 55: 62.92%\n",
      "Trial 56/150\n",
      "Accuracy for trial 56: 62.92%\n",
      "Trial 57/150\n",
      "Accuracy for trial 57: 62.92%\n",
      "Trial 58/150\n",
      "Accuracy for trial 58: 62.92%\n",
      "Trial 59/150\n",
      "Accuracy for trial 59: 62.92%\n",
      "Trial 60/150\n",
      "Accuracy for trial 60: 62.92%\n",
      "Trial 61/150\n",
      "Accuracy for trial 61: 62.92%\n",
      "Trial 62/150\n",
      "Accuracy for trial 62: 62.92%\n",
      "Trial 63/150\n",
      "Accuracy for trial 63: 62.92%\n",
      "Trial 64/150\n",
      "Accuracy for trial 64: 67.42%\n",
      "Trial 65/150\n",
      "Accuracy for trial 65: 64.27%\n",
      "Trial 66/150\n",
      "Accuracy for trial 66: 62.92%\n",
      "Trial 67/150\n",
      "Accuracy for trial 67: 62.92%\n",
      "Trial 68/150\n",
      "Accuracy for trial 68: 62.92%\n",
      "Trial 69/150\n",
      "Accuracy for trial 69: 62.92%\n",
      "Trial 70/150\n",
      "Accuracy for trial 70: 62.92%\n",
      "Trial 71/150\n",
      "Accuracy for trial 71: 62.92%\n",
      "Trial 72/150\n",
      "Accuracy for trial 72: 62.92%\n",
      "Trial 73/150\n",
      "Accuracy for trial 73: 62.92%\n",
      "Trial 74/150\n",
      "Accuracy for trial 74: 62.92%\n",
      "Trial 75/150\n",
      "Accuracy for trial 75: 62.92%\n",
      "Trial 76/150\n",
      "Accuracy for trial 76: 62.92%\n",
      "Trial 77/150\n",
      "Accuracy for trial 77: 62.92%\n",
      "Trial 78/150\n",
      "Accuracy for trial 78: 65.39%\n",
      "Trial 79/150\n",
      "Accuracy for trial 79: 66.29%\n",
      "Trial 80/150\n",
      "Accuracy for trial 80: 62.92%\n",
      "Trial 81/150\n",
      "Accuracy for trial 81: 62.92%\n",
      "Trial 82/150\n",
      "Accuracy for trial 82: 62.92%\n",
      "Trial 83/150\n",
      "Accuracy for trial 83: 62.92%\n",
      "Trial 84/150\n",
      "Accuracy for trial 84: 62.92%\n",
      "Trial 85/150\n",
      "Accuracy for trial 85: 62.92%\n",
      "Trial 86/150\n",
      "Accuracy for trial 86: 62.92%\n",
      "Trial 87/150\n",
      "Accuracy for trial 87: 62.92%\n",
      "Trial 88/150\n",
      "Accuracy for trial 88: 62.92%\n",
      "Trial 89/150\n",
      "Accuracy for trial 89: 62.92%\n",
      "Trial 90/150\n",
      "Accuracy for trial 90: 62.92%\n",
      "Trial 91/150\n",
      "Accuracy for trial 91: 62.92%\n",
      "Trial 92/150\n",
      "Accuracy for trial 92: 62.92%\n",
      "Trial 93/150\n",
      "Accuracy for trial 93: 62.92%\n",
      "Trial 94/150\n",
      "Accuracy for trial 94: 62.92%\n",
      "Trial 95/150\n",
      "Accuracy for trial 95: 68.76%\n",
      "Trial 96/150\n",
      "Accuracy for trial 96: 65.17%\n",
      "Trial 97/150\n",
      "Accuracy for trial 97: 62.92%\n",
      "Trial 98/150\n",
      "Accuracy for trial 98: 62.92%\n",
      "Trial 99/150\n",
      "Accuracy for trial 99: 62.92%\n",
      "Trial 100/150\n",
      "Accuracy for trial 100: 63.37%\n",
      "Trial 101/150\n",
      "Accuracy for trial 101: 62.92%\n",
      "Trial 102/150\n",
      "Accuracy for trial 102: 62.92%\n",
      "Trial 103/150\n",
      "Accuracy for trial 103: 62.92%\n",
      "Trial 104/150\n",
      "Accuracy for trial 104: 62.92%\n",
      "Trial 105/150\n",
      "Accuracy for trial 105: 62.92%\n",
      "Trial 106/150\n",
      "Accuracy for trial 106: 62.92%\n",
      "Trial 107/150\n",
      "Accuracy for trial 107: 62.92%\n",
      "Trial 108/150\n",
      "Accuracy for trial 108: 62.92%\n",
      "Trial 109/150\n",
      "Accuracy for trial 109: 62.92%\n",
      "Trial 110/150\n",
      "Accuracy for trial 110: 62.92%\n",
      "Trial 111/150\n",
      "Accuracy for trial 111: 62.92%\n",
      "Trial 112/150\n",
      "Accuracy for trial 112: 62.92%\n",
      "Trial 113/150\n",
      "Accuracy for trial 113: 62.92%\n",
      "Trial 114/150\n",
      "Accuracy for trial 114: 62.92%\n",
      "Trial 115/150\n",
      "Accuracy for trial 115: 62.92%\n",
      "Trial 116/150\n",
      "Accuracy for trial 116: 62.92%\n",
      "Trial 117/150\n",
      "Accuracy for trial 117: 62.92%\n",
      "Trial 118/150\n",
      "Accuracy for trial 118: 62.92%\n",
      "Trial 119/150\n",
      "Accuracy for trial 119: 62.92%\n",
      "Trial 120/150\n",
      "Accuracy for trial 120: 62.92%\n",
      "Trial 121/150\n",
      "Accuracy for trial 121: 62.92%\n",
      "Trial 122/150\n",
      "Accuracy for trial 122: 62.92%\n",
      "Trial 123/150\n",
      "Accuracy for trial 123: 62.92%\n",
      "Trial 124/150\n",
      "Accuracy for trial 124: 62.92%\n",
      "Trial 125/150\n",
      "Accuracy for trial 125: 63.82%\n",
      "Trial 126/150\n",
      "Accuracy for trial 126: 62.92%\n",
      "Trial 127/150\n",
      "Accuracy for trial 127: 62.92%\n",
      "Trial 128/150\n",
      "Accuracy for trial 128: 62.92%\n",
      "Trial 129/150\n",
      "Accuracy for trial 129: 62.92%\n",
      "Trial 130/150\n",
      "Accuracy for trial 130: 62.92%\n",
      "Trial 131/150\n",
      "Accuracy for trial 131: 62.92%\n",
      "Trial 132/150\n",
      "Accuracy for trial 132: 62.92%\n",
      "Trial 133/150\n",
      "Accuracy for trial 133: 62.92%\n",
      "Trial 134/150\n",
      "Accuracy for trial 134: 62.92%\n",
      "Trial 135/150\n",
      "Accuracy for trial 135: 62.92%\n",
      "Trial 136/150\n",
      "Accuracy for trial 136: 62.92%\n",
      "Trial 137/150\n",
      "Accuracy for trial 137: 62.92%\n",
      "Trial 138/150\n",
      "Accuracy for trial 138: 62.92%\n",
      "Trial 139/150\n",
      "Accuracy for trial 139: 62.92%\n",
      "Trial 140/150\n",
      "Accuracy for trial 140: 62.92%\n",
      "Trial 141/150\n",
      "Accuracy for trial 141: 62.92%\n",
      "Trial 142/150\n",
      "Accuracy for trial 142: 62.92%\n",
      "Trial 143/150\n",
      "Accuracy for trial 143: 62.92%\n",
      "Trial 144/150\n",
      "Accuracy for trial 144: 62.92%\n",
      "Trial 145/150\n",
      "Accuracy for trial 145: 62.92%\n",
      "Trial 146/150\n",
      "Accuracy for trial 146: 62.92%\n",
      "Trial 147/150\n",
      "Accuracy for trial 147: 62.92%\n",
      "Trial 148/150\n",
      "Accuracy for trial 148: 62.92%\n",
      "Trial 149/150\n",
      "Accuracy for trial 149: 62.92%\n",
      "Trial 150/150\n",
      "Accuracy for trial 150: 62.92%\n",
      "Maximum accuracy achieved over 150 trials: 68.76%\n"
     ]
    }
   ],
   "source": [
    "import numpy as np\n",
    "from scipy.stats import mode\n",
    "from collections import Counter\n",
    "\n",
    "# K-Means initialization function\n",
    "def kMeans_init_centroids(X, K):\n",
    "    randidx = np.random.permutation(X.shape[0])\n",
    "    centroids = X[randidx[:K]]\n",
    "    return centroids\n",
    "\n",
    "# Function to find the closest centroids\n",
    "def find_closest_centroids(X, centroids):\n",
    "    idx = np.zeros(X.shape[0], dtype=int)\n",
    "    for i in range(X.shape[0]):\n",
    "        distances = np.linalg.norm(X[i] - centroids, axis=1)\n",
    "        idx[i] = np.argmin(distances)\n",
    "    return idx\n",
    "\n",
    "# Function to compute new centroids\n",
    "def compute_centroids(X, idx, K):\n",
    "    centroids = np.zeros((K, X.shape[1]))\n",
    "    for k in range(K):\n",
    "        points = X[idx == k]\n",
    "        centroids[k] = np.mean(points, axis=0) if len(points) > 0 else centroids[k]\n",
    "    return centroids\n",
    "\n",
    "# Function to run K-Means algorithm\n",
    "def run_kMeans(X, initial_centroids, max_iters=10):\n",
    "    K = initial_centroids.shape[0]\n",
    "    centroids = initial_centroids\n",
    "    idx = np.zeros(X.shape[0])\n",
    "\n",
    "    for i in range(max_iters):\n",
    "        # Assign each data point to the closest centroid\n",
    "        idx = find_closest_centroids(X, centroids)\n",
    "        \n",
    "        # Compute new centroids\n",
    "        centroids = compute_centroids(X, idx, K)\n",
    "        \n",
    "    return centroids, idx\n",
    "\n",
    "# Function to reorder K-Means labels to match true labels\n",
    "def reorder_labels(true_labels, predicted_labels):\n",
    "    reordered_labels = np.zeros_like(predicted_labels)\n",
    "    for cluster in np.unique(predicted_labels):\n",
    "        mask = (predicted_labels == cluster)\n",
    "        most_common_label = mode(true_labels[mask], axis=None).mode\n",
    "        if isinstance(most_common_label, np.ndarray):\n",
    "            most_common_label = most_common_label[0]\n",
    "        reordered_labels[mask] = most_common_label\n",
    "    return reordered_labels\n",
    "\n",
    "# Main loop to run K-Means 100 times and track the best accuracy\n",
    "K = 3  # Number of clusters\n",
    "max_iters = 200  # Maximum iterations\n",
    "num_trials = 150  # Number of trials\n",
    "max_accuracy = 0  # To store the maximum accuracy achieved\n",
    "\n",
    "for trial in range(num_trials):\n",
    "    print(f\"Trial {trial + 1}/{num_trials}\")\n",
    "    \n",
    "    # Initialize centroids\n",
    "    initial_centroids = kMeans_init_centroids(feats_np, K)\n",
    "    \n",
    "    # Run K-Means\n",
    "    centroids, idx = run_kMeans(feats_np, initial_centroids, max_iters)\n",
    "    \n",
    "    # Reorder labels and calculate accuracy\n",
    "    reordered_idx = reorder_labels(labels_np, idx)\n",
    "    accuracy = np.sum(reordered_idx == labels_np) / len(labels_np) * 100\n",
    "    \n",
    "    print(f\"Accuracy for trial {trial + 1}: {accuracy:.2f}%\")\n",
    "    \n",
    "    # Update maximum accuracy if the current one is better\n",
    "    if accuracy > max_accuracy:\n",
    "        max_accuracy = accuracy\n",
    "\n",
    "print(f\"Maximum accuracy achieved over {num_trials} trials: {max_accuracy:.2f}%\")\n"
   ]
  },
  {
   "cell_type": "code",
   "execution_count": null,
   "metadata": {},
   "outputs": [],
   "source": []
  },
  {
   "cell_type": "code",
   "execution_count": null,
   "metadata": {},
   "outputs": [],
   "source": []
  },
  {
   "cell_type": "code",
   "execution_count": null,
   "metadata": {},
   "outputs": [],
   "source": []
  },
  {
   "cell_type": "code",
   "execution_count": null,
   "metadata": {},
   "outputs": [],
   "source": []
  },
  {
   "cell_type": "code",
   "execution_count": 12,
   "metadata": {},
   "outputs": [],
   "source": [
    "import matplotlib.pyplot as plt\n",
    "from sklearn.decomposition import PCA"
   ]
  },
  {
   "cell_type": "code",
   "execution_count": 13,
   "metadata": {},
   "outputs": [],
   "source": [
    "# Function to reduce the dimensionality of data points and centroids to 2D using PCA\n",
    "def reduce_to_2D_pca(X, centroids):\n",
    "    # Initialize PCA with 2 components\n",
    "    pca = PCA(n_components=2)\n",
    "    \n",
    "    # Apply PCA to the data points (X) and centroids\n",
    "    X_2D = pca.fit_transform(X)  # Reducing original data points\n",
    "    centroids_2D = pca.transform(centroids)  # Reducing centroids\n",
    "\n",
    "    return X_2D, centroids_2D\n",
    "\n",
    "# Function to plot 2D visualization of clustered data points and centroids with true labels\n",
    "def plot_2D_clusters_with_labels(X_2D, centroids_2D, idx, labels, K):\n",
    "    plt.figure(figsize=(10, 7))\n",
    "    \n",
    "    # Define color map for clusters\n",
    "    colors = plt.cm.rainbow(np.linspace(0, 1, K))\n",
    "    \n",
    "    # Plot data points colored by their cluster assignment\n",
    "    for k in range(K):\n",
    "        cluster_points = X_2D[idx == k]\n",
    "        cluster_labels = labels[idx == k]  # Get true labels for the current cluster\n",
    "        \n",
    "        # Scatter plot for each cluster\n",
    "        plt.scatter(cluster_points[:, 0], cluster_points[:, 1], \n",
    "                    c=[colors[k]], label=f\"Cluster {k+1}\", alpha=0.6)\n",
    "        \n",
    "        # Annotate each point with its true label\n",
    "        for i in range(cluster_points.shape[0]):\n",
    "            plt.annotate(str(cluster_labels[i]), \n",
    "                         (cluster_points[i, 0], cluster_points[i, 1]), \n",
    "                         fontsize=8, alpha=0.75)\n",
    "\n",
    "    # Plot centroids as larger markers\n",
    "    plt.scatter(centroids_2D[:, 0], centroids_2D[:, 1], \n",
    "                c='k', marker='x', s=200, label='Centroids')\n",
    "\n",
    "    plt.title(\"2D Visualization of Clusters using PCA with True Labels\")\n",
    "    plt.xlabel(\"Component 1\")\n",
    "    plt.ylabel(\"Component 2\")\n",
    "    plt.legend()\n",
    "    plt.grid()\n",
    "    plt.show()\n"
   ]
  },
  {
   "cell_type": "code",
   "execution_count": 14,
   "metadata": {},
   "outputs": [
    {
     "data": {
      "image/png": "[encoded data removed]",
      "text/plain": [
       "<Figure size 1000x700 with 1 Axes>"
      ]
     },
     "metadata": {},
     "output_type": "display_data"
    }
   ],
   "source": [
    "# Apply PCA after K-Means clustering for 2D visualization\n",
    "X_2D_pca, centroids_2D_pca = reduce_to_2D_pca(feats_np, centroids)\n",
    "\n",
    "# Plot the 2D clusters with centroids and true labels\n",
    "plot_2D_clusters_with_labels(X_2D_pca, centroids_2D_pca, idx, labels_np, K)\n"
   ]
  },
  {
   "cell_type": "code",
   "execution_count": null,
   "metadata": {},
   "outputs": [],
   "source": []
  }
 ],
 "metadata": {
  "kernelspec": {
   "display_name": "master",
   "language": "python",
   "name": "python3"
  },
  "language_info": {
   "codemirror_mode": {
    "name": "ipython",
    "version": 3
   },
   "file_extension": ".py",
   "mimetype": "text/x-python",
   "name": "python",
   "nbconvert_exporter": "python",
   "pygments_lexer": "ipython3",
   "version": "3.12.4"
  }
 },
 "nbformat": 4,
 "nbformat_minor": 2
}
