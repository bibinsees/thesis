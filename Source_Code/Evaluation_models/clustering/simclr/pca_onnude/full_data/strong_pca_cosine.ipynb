{
 "cells": [
  {
   "cell_type": "code",
   "execution_count": 1,
   "metadata": {},
   "outputs": [],
   "source": [
    "import os\n",
    "import numpy as np\n",
    "import torch\n",
    "from torch import nn, optim\n",
    "from torch.utils.data import Dataset, DataLoader, random_split\n",
    "from torchvision import transforms\n",
    "import torchvision\n",
    "import tifffile as tiff\n",
    "import matplotlib.pyplot as plt\n",
    "import time\n",
    "from tqdm import tqdm\n",
    "from copy import deepcopy\n",
    "import random\n",
    "from sklearn.preprocessing import normalize\n",
    "\n",
    "from collections import Counter\n",
    "from scipy.stats import mode"
   ]
  },
  {
   "cell_type": "code",
   "execution_count": 2,
   "metadata": {},
   "outputs": [],
   "source": [
    "# Set seed for reproducibility\n",
    "def set_seed(seed):\n",
    "    random.seed(seed)\n",
    "    np.random.seed(seed)\n",
    "    torch.manual_seed(seed)\n",
    "    if torch.cuda.is_available():\n",
    "        torch.cuda.manual_seed(seed)\n",
    "        torch.cuda.manual_seed_all(seed)\n",
    "    torch.backends.cudnn.deterministic = True\n",
    "    torch.backends.cudnn.benchmark = False\n",
    "\n",
    "# Set seed\n",
    "set_seed(42)"
   ]
  },
  {
   "cell_type": "code",
   "execution_count": 3,
   "metadata": {},
   "outputs": [],
   "source": [
    "# Set the device\n",
    "device = torch.device(\"cuda\" if torch.cuda.is_available() else \"cpu\")"
   ]
  },
  {
   "cell_type": "code",
   "execution_count": 4,
   "metadata": {},
   "outputs": [],
   "source": [
    "class SimCLR(nn.Module):\n",
    "    def __init__(self, hidden_dim, lr, temperature, weight_decay):\n",
    "        super().__init__()\n",
    "        self.temperature = temperature\n",
    "        \n",
    "        # Load the pretrained ResNet-18 model\n",
    "        self.convnet = torchvision.models.resnet18(weights='ResNet18_Weights.DEFAULT')\n",
    "        \n",
    "        # Modify the fully connected layer\n",
    "        self.convnet.fc = nn.Sequential(\n",
    "            nn.Linear(self.convnet.fc.in_features, 4 * hidden_dim),  # Linear layer with 4*hidden_dim output\n",
    "            nn.ReLU(inplace=True),\n",
    "            nn.Linear(4 * hidden_dim, 20)  # Output layer with hidden_dim output\n",
    "        )\n",
    "\n",
    "        self.optimizer = optim.AdamW(self.parameters(), lr=lr, weight_decay=weight_decay)\n",
    "        self.lr_scheduler = optim.lr_scheduler.CosineAnnealingLR(self.optimizer, T_max=50, eta_min=lr / 50)\n",
    "\n",
    "    def forward(self, x):\n",
    "        return self.convnet(x)\n",
    "\n",
    "    def info_nce_loss(self, imgs1, imgs2, device):\n",
    "\n",
    "        imgs = torch.cat((imgs1, imgs2), dim=0)  # Concatenate along the batch dimension\n",
    "        imgs = imgs.to(device)  # Move images to the device\n",
    "\n",
    "        # Encode all images\n",
    "        feats = self.forward(imgs)\n",
    "    \n",
    "        # Calculate cosine similarity\n",
    "        cos_sim = nn.functional.cosine_similarity(feats[:, None, :], feats[None, :, :], dim=-1)\n",
    "    \n",
    "        # Mask out cosine similarity to itself\n",
    "        self_mask = torch.eye(cos_sim.shape[0], dtype=torch.bool, device=cos_sim.device)\n",
    "        cos_sim.masked_fill_(self_mask, -9e15)\n",
    "    \n",
    "        # Find positive example -> batch_size//2 away from the original example\n",
    "        pos_mask = self_mask.roll(shifts=cos_sim.shape[0] // 2, dims=0)\n",
    "    \n",
    "        # Normalize similarity scores by temperature\n",
    "        cos_sim = cos_sim / self.temperature\n",
    "\n",
    "        # InfoNCE loss\n",
    "        nll = -cos_sim[pos_mask] + torch.logsumexp(cos_sim, dim=-1)\n",
    "        nll = nll.mean()\n",
    "\n",
    "        # Accuracy calculations\n",
    "        # Create a combination of positive and negative similarities for ranking\n",
    "        comb_sim = torch.cat([cos_sim[pos_mask][:, None],  # Positive example in first position\n",
    "                          cos_sim.masked_fill(pos_mask, -9e15)], dim=-1)\n",
    "    \n",
    "        # Sort and get the ranking position of the positive example\n",
    "        sim_argsort = comb_sim.argsort(dim=-1, descending=True).argmin(dim=-1)\n",
    "    \n",
    "        # Compute accuracy metrics\n",
    "        top1_acc = (sim_argsort == 0).float().mean()  # Top-1 accuracy\n",
    "        top5_acc = (sim_argsort < 5).float().mean()   # Top-5 accuracy\n",
    "        mean_pos = 1 + sim_argsort.float().mean()     # Mean position of the positive example\n",
    "\n",
    "        return nll, top1_acc, top5_acc, mean_pos\n",
    "\n",
    "    def train_epoch(self, train_loader, device):\n",
    "        self.train()\n",
    "        total_loss = 0.0\n",
    "        total_top1_acc = 0.0\n",
    "        total_top5_acc = 0.0\n",
    "        total_mean_pos = 0.0\n",
    "\n",
    "        for batch in tqdm(train_loader, desc=\"Training\", leave=False):\n",
    "            imgs1, imgs2, _ = batch\n",
    "            imgs1, imgs2 = imgs1.to(device), imgs2.to(device)  # Move data to device\n",
    "        \n",
    "            self.optimizer.zero_grad()\n",
    "\n",
    "            # Calculate loss and accuracy metrics\n",
    "            loss, top1_acc, top5_acc, mean_pos = self.info_nce_loss(imgs1, imgs2, device)\n",
    "\n",
    "            loss.backward()\n",
    "            self.optimizer.step()\n",
    "            self.lr_scheduler.step()\n",
    "\n",
    "            # Accumulate metrics\n",
    "            total_loss += loss.item()\n",
    "            total_top1_acc += top1_acc.item()\n",
    "            total_top5_acc += top5_acc.item()\n",
    "            total_mean_pos += mean_pos.item()\n",
    "\n",
    "        avg_loss = total_loss / len(train_loader)\n",
    "        avg_top1_acc = total_top1_acc / len(train_loader)\n",
    "        avg_top5_acc = total_top5_acc / len(train_loader)\n",
    "        avg_mean_pos = total_mean_pos / len(train_loader)\n",
    "\n",
    "        return avg_loss, avg_top1_acc, avg_top5_acc, avg_mean_pos\n",
    "\n",
    "    def validate_epoch(self, val_loader, device):\n",
    "        self.eval()\n",
    "        total_loss = 0.0\n",
    "        total_top1_acc = 0.0\n",
    "        total_top5_acc = 0.0\n",
    "        total_mean_pos = 0.0\n",
    "\n",
    "        with torch.no_grad():\n",
    "            for batch in tqdm(val_loader, desc=\"Validating\", leave=False):\n",
    "                imgs1, imgs2, _ = batch\n",
    "                imgs1, imgs2 = imgs1.to(device), imgs2.to(device)  # Move data to device\n",
    "\n",
    "                # Calculate loss and accuracy metrics\n",
    "                loss, top1_acc, top5_acc, mean_pos = self.info_nce_loss(imgs1, imgs2, device)\n",
    "\n",
    "                # Accumulate metrics\n",
    "                total_loss += loss.item()\n",
    "                total_top1_acc += top1_acc.item()\n",
    "                total_top5_acc += top5_acc.item()\n",
    "                total_mean_pos += mean_pos.item()\n",
    "\n",
    "        avg_loss = total_loss / len(val_loader)\n",
    "        avg_top1_acc = total_top1_acc / len(val_loader)\n",
    "        avg_top5_acc = total_top5_acc / len(val_loader)\n",
    "        avg_mean_pos = total_mean_pos / len(val_loader)\n",
    "\n",
    "        return avg_loss, avg_top1_acc, avg_top5_acc, avg_mean_pos"
   ]
  },
  {
   "cell_type": "code",
   "execution_count": 5,
   "metadata": {},
   "outputs": [
    {
     "name": "stderr",
     "output_type": "stream",
     "text": [
      "C:\\Users\\k54739\\AppData\\Local\\Temp\\ipykernel_4864\\1035932933.py:3: FutureWarning: You are using `torch.load` with `weights_only=False` (the current default value), which uses the default pickle module implicitly. It is possible to construct malicious pickle data which will execute arbitrary code during unpickling (See https://github.com/pytorch/pytorch/blob/main/SECURITY.md#untrusted-models for more details). In a future release, the default value for `weights_only` will be flipped to `True`. This limits the functions that could be executed during unpickling. Arbitrary objects will no longer be allowed to be loaded via this mode unless they are explicitly allowlisted by the user via `torch.serialization.add_safe_globals`. We recommend you start setting `weights_only=True` for any use case where you don't have full control of the loaded file. Please open an issue on GitHub for any issues related to this experimental feature.\n",
      "  simclr_model.load_state_dict(torch.load(full_model_path))\n"
     ]
    },
    {
     "data": {
      "text/plain": [
       "SimCLR(\n",
       "  (convnet): ResNet(\n",
       "    (conv1): Conv2d(3, 64, kernel_size=(7, 7), stride=(2, 2), padding=(3, 3), bias=False)\n",
       "    (bn1): BatchNorm2d(64, eps=1e-05, momentum=0.1, affine=True, track_running_stats=True)\n",
       "    (relu): ReLU(inplace=True)\n",
       "    (maxpool): MaxPool2d(kernel_size=3, stride=2, padding=1, dilation=1, ceil_mode=False)\n",
       "    (layer1): Sequential(\n",
       "      (0): BasicBlock(\n",
       "        (conv1): Conv2d(64, 64, kernel_size=(3, 3), stride=(1, 1), padding=(1, 1), bias=False)\n",
       "        (bn1): BatchNorm2d(64, eps=1e-05, momentum=0.1, affine=True, track_running_stats=True)\n",
       "        (relu): ReLU(inplace=True)\n",
       "        (conv2): Conv2d(64, 64, kernel_size=(3, 3), stride=(1, 1), padding=(1, 1), bias=False)\n",
       "        (bn2): BatchNorm2d(64, eps=1e-05, momentum=0.1, affine=True, track_running_stats=True)\n",
       "      )\n",
       "      (1): BasicBlock(\n",
       "        (conv1): Conv2d(64, 64, kernel_size=(3, 3), stride=(1, 1), padding=(1, 1), bias=False)\n",
       "        (bn1): BatchNorm2d(64, eps=1e-05, momentum=0.1, affine=True, track_running_stats=True)\n",
       "        (relu): ReLU(inplace=True)\n",
       "        (conv2): Conv2d(64, 64, kernel_size=(3, 3), stride=(1, 1), padding=(1, 1), bias=False)\n",
       "        (bn2): BatchNorm2d(64, eps=1e-05, momentum=0.1, affine=True, track_running_stats=True)\n",
       "      )\n",
       "    )\n",
       "    (layer2): Sequential(\n",
       "      (0): BasicBlock(\n",
       "        (conv1): Conv2d(64, 128, kernel_size=(3, 3), stride=(2, 2), padding=(1, 1), bias=False)\n",
       "        (bn1): BatchNorm2d(128, eps=1e-05, momentum=0.1, affine=True, track_running_stats=True)\n",
       "        (relu): ReLU(inplace=True)\n",
       "        (conv2): Conv2d(128, 128, kernel_size=(3, 3), stride=(1, 1), padding=(1, 1), bias=False)\n",
       "        (bn2): BatchNorm2d(128, eps=1e-05, momentum=0.1, affine=True, track_running_stats=True)\n",
       "        (downsample): Sequential(\n",
       "          (0): Conv2d(64, 128, kernel_size=(1, 1), stride=(2, 2), bias=False)\n",
       "          (1): BatchNorm2d(128, eps=1e-05, momentum=0.1, affine=True, track_running_stats=True)\n",
       "        )\n",
       "      )\n",
       "      (1): BasicBlock(\n",
       "        (conv1): Conv2d(128, 128, kernel_size=(3, 3), stride=(1, 1), padding=(1, 1), bias=False)\n",
       "        (bn1): BatchNorm2d(128, eps=1e-05, momentum=0.1, affine=True, track_running_stats=True)\n",
       "        (relu): ReLU(inplace=True)\n",
       "        (conv2): Conv2d(128, 128, kernel_size=(3, 3), stride=(1, 1), padding=(1, 1), bias=False)\n",
       "        (bn2): BatchNorm2d(128, eps=1e-05, momentum=0.1, affine=True, track_running_stats=True)\n",
       "      )\n",
       "    )\n",
       "    (layer3): Sequential(\n",
       "      (0): BasicBlock(\n",
       "        (conv1): Conv2d(128, 256, kernel_size=(3, 3), stride=(2, 2), padding=(1, 1), bias=False)\n",
       "        (bn1): BatchNorm2d(256, eps=1e-05, momentum=0.1, affine=True, track_running_stats=True)\n",
       "        (relu): ReLU(inplace=True)\n",
       "        (conv2): Conv2d(256, 256, kernel_size=(3, 3), stride=(1, 1), padding=(1, 1), bias=False)\n",
       "        (bn2): BatchNorm2d(256, eps=1e-05, momentum=0.1, affine=True, track_running_stats=True)\n",
       "        (downsample): Sequential(\n",
       "          (0): Conv2d(128, 256, kernel_size=(1, 1), stride=(2, 2), bias=False)\n",
       "          (1): BatchNorm2d(256, eps=1e-05, momentum=0.1, affine=True, track_running_stats=True)\n",
       "        )\n",
       "      )\n",
       "      (1): BasicBlock(\n",
       "        (conv1): Conv2d(256, 256, kernel_size=(3, 3), stride=(1, 1), padding=(1, 1), bias=False)\n",
       "        (bn1): BatchNorm2d(256, eps=1e-05, momentum=0.1, affine=True, track_running_stats=True)\n",
       "        (relu): ReLU(inplace=True)\n",
       "        (conv2): Conv2d(256, 256, kernel_size=(3, 3), stride=(1, 1), padding=(1, 1), bias=False)\n",
       "        (bn2): BatchNorm2d(256, eps=1e-05, momentum=0.1, affine=True, track_running_stats=True)\n",
       "      )\n",
       "    )\n",
       "    (layer4): Sequential(\n",
       "      (0): BasicBlock(\n",
       "        (conv1): Conv2d(256, 512, kernel_size=(3, 3), stride=(2, 2), padding=(1, 1), bias=False)\n",
       "        (bn1): BatchNorm2d(512, eps=1e-05, momentum=0.1, affine=True, track_running_stats=True)\n",
       "        (relu): ReLU(inplace=True)\n",
       "        (conv2): Conv2d(512, 512, kernel_size=(3, 3), stride=(1, 1), padding=(1, 1), bias=False)\n",
       "        (bn2): BatchNorm2d(512, eps=1e-05, momentum=0.1, affine=True, track_running_stats=True)\n",
       "        (downsample): Sequential(\n",
       "          (0): Conv2d(256, 512, kernel_size=(1, 1), stride=(2, 2), bias=False)\n",
       "          (1): BatchNorm2d(512, eps=1e-05, momentum=0.1, affine=True, track_running_stats=True)\n",
       "        )\n",
       "      )\n",
       "      (1): BasicBlock(\n",
       "        (conv1): Conv2d(512, 512, kernel_size=(3, 3), stride=(1, 1), padding=(1, 1), bias=False)\n",
       "        (bn1): BatchNorm2d(512, eps=1e-05, momentum=0.1, affine=True, track_running_stats=True)\n",
       "        (relu): ReLU(inplace=True)\n",
       "        (conv2): Conv2d(512, 512, kernel_size=(3, 3), stride=(1, 1), padding=(1, 1), bias=False)\n",
       "        (bn2): BatchNorm2d(512, eps=1e-05, momentum=0.1, affine=True, track_running_stats=True)\n",
       "      )\n",
       "    )\n",
       "    (avgpool): AdaptiveAvgPool2d(output_size=(1, 1))\n",
       "    (fc): Sequential(\n",
       "      (0): Linear(in_features=512, out_features=512, bias=True)\n",
       "      (1): ReLU(inplace=True)\n",
       "      (2): Linear(in_features=512, out_features=20, bias=True)\n",
       "    )\n",
       "  )\n",
       ")"
      ]
     },
     "execution_count": 5,
     "metadata": {},
     "output_type": "execute_result"
    }
   ],
   "source": [
    "full_model_path =  r'C:\\Users\\k54739\\saved_model\\simclr_strongcrop_245.pth' \n",
    "simclr_model = SimCLR(hidden_dim=128, lr=5e-4, temperature=0.07, weight_decay=1e-4)\n",
    "simclr_model.load_state_dict(torch.load(full_model_path))\n",
    "simclr_model.to(device)\n",
    "simclr_model.eval()"
   ]
  },
  {
   "cell_type": "markdown",
   "metadata": {},
   "source": [
    "# Clustering"
   ]
  },
  {
   "cell_type": "code",
   "execution_count": 6,
   "metadata": {},
   "outputs": [
    {
     "name": "stdout",
     "output_type": "stream",
     "text": [
      "Label distribution: {'cond7_all': 472, 'sd': 103, 'ex': 40}\n"
     ]
    }
   ],
   "source": [
    "class LabeledImageDataset(Dataset):\n",
    "    def __init__(self, image_files, labels, transform=None):\n",
    "        self.image_files = image_files\n",
    "        self.labels = labels\n",
    "        #self.transform = transform\n",
    "        self.resize_transform = transforms.Resize((96, 96))\n",
    "\n",
    "    def __len__(self):\n",
    "        return len(self.image_files)\n",
    "\n",
    "    def __getitem__(self, idx):\n",
    "        img_path = self.image_files[idx]\n",
    "        image = tiff.imread(img_path)\n",
    "\n",
    "        # Ensure the image has 3 layers (channels)\n",
    "        if image.shape[0] != 3:\n",
    "            raise ValueError(f\"Image {img_path} does not have exactly 3 layers.\")\n",
    "\n",
    "        # Normalize the 16-bit image to [0, 1]\n",
    "        image = image.astype(np.float32) / 65535.0\n",
    "\n",
    "        # Convert to a torch tensor and add channel dimension\n",
    "        image = torch.tensor(image, dtype=torch.float32)\n",
    "        \n",
    "        # Apply resize transform\n",
    "        image = self.resize_transform(image)\n",
    "\n",
    "        label = self.labels[idx]\n",
    "\n",
    "        #return image, label\n",
    "        return image, label, img_path\n",
    "\n",
    "def load_data(root_dir):\n",
    "    #classes = ['cond7_all', 'sd','ex'] #full dataset\n",
    "    #classes = ['cond7_curated', 'sd','ex'] # curated full dataset\n",
    "\n",
    "\n",
    "    #classes = ['cure_cond7_40', 'sdonly_40','ex'] # 40 subset\n",
    "    classes = ['cond7_all', 'sd','ex']\n",
    "\n",
    "\n",
    "   \n",
    "    \n",
    "    #classes = ['curated_cond7_40', 'sd_40','ex'] # curated 40 subset\n",
    "\n",
    "\n",
    "    image_files = []\n",
    "    labels = []\n",
    "\n",
    "    for idx, class_name in enumerate(classes):\n",
    "        class_dir = os.path.join(root_dir, class_name)\n",
    "        files = [os.path.join(class_dir, file) for file in os.listdir(class_dir) if file.endswith(('.tiff', '.tif'))]\n",
    "        image_files.extend(files)\n",
    "        labels.extend([idx] * len(files))\n",
    "    \n",
    "    # Check if the labels correctly reflect the classes\n",
    "    print(\"Label distribution:\", {classes[i]: labels.count(i) for i in range(len(classes))})\n",
    "\n",
    "    return image_files, labels\n",
    "\n",
    "\n",
    "# Directories for labeled data\n",
    "#image_dir =  r\"C:\\Users\\k54739\\Bibi_new_thesis\\thesis\\classification\"\n",
    "\n",
    "image_dir =  r\"G:\\classification\\cond_all\"\n",
    "\n",
    "\n",
    "# Load data\n",
    "image_files, labels = load_data(image_dir)\n",
    "\n",
    "# Create the labeled datasets\n",
    "labeled_dataset = LabeledImageDataset(image_files, labels)\n",
    "\n",
    "# Define DataLoaders\n",
    "batch_size = 16\n",
    "loader_labeled = DataLoader(labeled_dataset, batch_size=batch_size, shuffle=True, drop_last=False, pin_memory=True, num_workers=0)"
   ]
  },
  {
   "cell_type": "code",
   "execution_count": 7,
   "metadata": {},
   "outputs": [
    {
     "name": "stdout",
     "output_type": "stream",
     "text": [
      "Label 0 corresponds to class: cond7_all\n",
      "Label 1 corresponds to class: sd\n",
      "Label 2 corresponds to class: ex\n"
     ]
    }
   ],
   "source": [
    "# Print label mapping\n",
    "classes = ['cond7_all', 'sd','ex']\n",
    "for idx, class_name in enumerate(classes):\n",
    "    print(f\"Label {idx} corresponds to class: {class_name}\")"
   ]
  },
  {
   "cell_type": "code",
   "execution_count": 8,
   "metadata": {},
   "outputs": [
    {
     "name": "stdout",
     "output_type": "stream",
     "text": [
      "Label mapping: {0: 'cond7_all', 1: 'sd', 2: 'ex'}\n"
     ]
    }
   ],
   "source": [
    "label_mapping = {idx: class_name for idx, class_name in enumerate(classes)}\n",
    "print(\"Label mapping:\", label_mapping)"
   ]
  },
  {
   "cell_type": "code",
   "execution_count": 9,
   "metadata": {},
   "outputs": [
    {
     "name": "stdout",
     "output_type": "stream",
     "text": [
      "torch.Size([16, 3, 96, 96]) torch.Size([16]) torch.float32\n",
      "tensor([0, 0, 2, 0, 0, 0, 0, 0, 0, 0, 0, 2, 0, 2, 0, 2])\n",
      "['G:\\\\classification\\\\cond_all\\\\cond7_all\\\\ds_1B_E07-T01.tiff', 'G:\\\\classification\\\\cond_all\\\\cond7_all\\\\ds_61_C02-T01.tiff', 'G:\\\\classification\\\\cond_all\\\\ex\\\\ds62_g9_C09-T01.tiff', 'G:\\\\classification\\\\cond_all\\\\cond7_all\\\\ds_51_F07-T01.tiff', 'G:\\\\classification\\\\cond_all\\\\cond7_all\\\\ds_1B_D07-T01.tiff', 'G:\\\\classification\\\\cond_all\\\\cond7_all\\\\ds_42_E03-T01.tiff', 'G:\\\\classification\\\\cond_all\\\\cond7_all\\\\ds_61_D03-T01.tiff', 'G:\\\\classification\\\\cond_all\\\\cond7_all\\\\ds_52_C02-T01.tiff', 'G:\\\\classification\\\\cond_all\\\\cond7_all\\\\ds_41_G05-T01.tiff', 'G:\\\\classification\\\\cond_all\\\\cond7_all\\\\ds_1B_E04-T01.tiff', 'G:\\\\classification\\\\cond_all\\\\cond7_all\\\\ds_61_G09-T01.tiff', 'G:\\\\classification\\\\cond_all\\\\ex\\\\ds62_g8_B07-T01.tiff', 'G:\\\\classification\\\\cond_all\\\\cond7_all\\\\ds_51_E07-T01.tiff', 'G:\\\\classification\\\\cond_all\\\\ex\\\\ds61_g9_C09-T01.tiff', 'G:\\\\classification\\\\cond_all\\\\cond7_all\\\\ds_61_D09-T01.tiff', 'G:\\\\classification\\\\cond_all\\\\ex\\\\ds62_g9_C08-T01.tiff']\n"
     ]
    }
   ],
   "source": [
    "for anchor,label,path in loader_labeled:\n",
    "    print(anchor.shape, label.shape, anchor.dtype)\n",
    "    print(label)\n",
    "    print(path)\n",
    "    break"
   ]
  },
  {
   "cell_type": "code",
   "execution_count": 10,
   "metadata": {},
   "outputs": [],
   "source": [
    "@torch.no_grad()\n",
    "def prepare_data_features(model, dataloader):\n",
    "    # Prepare model\n",
    "    network = deepcopy(model.convnet)\n",
    "    network.fc = nn.Identity()  # Removing projection head g(.)\n",
    "    network.eval()\n",
    "    network.to(device)\n",
    "\n",
    "    # Encode all images\n",
    "    feats, labels, paths = [], [], []\n",
    "    for batch_imgs, batch_labels, batch_paths in tqdm(dataloader):\n",
    "        batch_imgs = batch_imgs.to(device)\n",
    "        batch_feats = network(batch_imgs)\n",
    "        print(f\"Batch features shape: {batch_feats.shape}\")\n",
    "        print(f\"Batch labels shape: {batch_labels.shape}\")\n",
    "        print(f\"Batch labels shape: {batch_paths}\")\n",
    "        \n",
    "        feats.append(batch_feats.detach().cpu())\n",
    "        labels.append(batch_labels)\n",
    "        paths.extend(batch_paths) \n",
    "\n",
    "    feats = torch.cat(feats, dim=0)\n",
    "    labels = torch.cat(labels, dim=0)\n",
    "    \n",
    "    \n",
    "    print(f\"Features shape after concatenation: {feats.shape}\")\n",
    "    print(f\"Labels shape after concatenation: {labels.shape}\")\n",
    "    print(f\"Number of paths after concatenation: {len(paths)}\")\n",
    "\n",
    "    return feats, labels, paths"
   ]
  },
  {
   "cell_type": "code",
   "execution_count": 11,
   "metadata": {},
   "outputs": [
    {
     "name": "stderr",
     "output_type": "stream",
     "text": [
      "  3%|▎         | 1/39 [00:00<00:29,  1.27it/s]"
     ]
    },
    {
     "name": "stdout",
     "output_type": "stream",
     "text": [
      "Batch features shape: torch.Size([16, 20])\n",
      "Batch labels shape: torch.Size([16])\n",
      "Batch labels shape: ['G:\\\\classification\\\\cond_all\\\\sd\\\\RBT09_F07-T01.tiff', 'G:\\\\classification\\\\cond_all\\\\cond7_all\\\\ds_1B_E08-T01.tiff', 'G:\\\\classification\\\\cond_all\\\\cond7_all\\\\ds_41_F10-T01.tiff', 'G:\\\\classification\\\\cond_all\\\\cond7_all\\\\ds_42_B10-T01.tiff', 'G:\\\\classification\\\\cond_all\\\\cond7_all\\\\ds_42_F08-T01.tiff', 'G:\\\\classification\\\\cond_all\\\\cond7_all\\\\ds_51_F10-T01.tiff', 'G:\\\\classification\\\\cond_all\\\\ex\\\\ds62_g9_C09-T01.tiff', 'G:\\\\classification\\\\cond_all\\\\sd\\\\RBT04_G08-T01.tiff', 'G:\\\\classification\\\\cond_all\\\\cond7_all\\\\ds_41_B05-T01.tiff', 'G:\\\\classification\\\\cond_all\\\\cond7_all\\\\ds_62_C08-T01.tiff', 'G:\\\\classification\\\\cond_all\\\\cond7_all\\\\ds_41_F08-T01.tiff', 'G:\\\\classification\\\\cond_all\\\\cond7_all\\\\sd_04_D08-T01.tiff', 'G:\\\\classification\\\\cond_all\\\\cond7_all\\\\ds_51_D11-T01.tiff', 'G:\\\\classification\\\\cond_all\\\\cond7_all\\\\sd_04_F10-T01.tiff', 'G:\\\\classification\\\\cond_all\\\\cond7_all\\\\ds_1B_B05-T01.tiff', 'G:\\\\classification\\\\cond_all\\\\cond7_all\\\\ds_41_F06-T01.tiff']\n"
     ]
    },
    {
     "name": "stderr",
     "output_type": "stream",
     "text": [
      "  5%|▌         | 2/39 [00:01<00:26,  1.42it/s]"
     ]
    },
    {
     "name": "stdout",
     "output_type": "stream",
     "text": [
      "Batch features shape: torch.Size([16, 20])\n",
      "Batch labels shape: torch.Size([16])\n",
      "Batch labels shape: ['G:\\\\classification\\\\cond_all\\\\cond7_all\\\\ds_41_G07-T01.tiff', 'G:\\\\classification\\\\cond_all\\\\cond7_all\\\\ds_41_E04-T01.tiff', 'G:\\\\classification\\\\cond_all\\\\cond7_all\\\\sd_04_E02-T01.tiff', 'G:\\\\classification\\\\cond_all\\\\cond7_all\\\\ds_42_D11-T01.tiff', 'G:\\\\classification\\\\cond_all\\\\cond7_all\\\\ds_62_C05-T01.tiff', 'G:\\\\classification\\\\cond_all\\\\cond7_all\\\\ds_41_D11-T01.tiff', 'G:\\\\classification\\\\cond_all\\\\cond7_all\\\\ds_61_C11-T01.tiff', 'G:\\\\classification\\\\cond_all\\\\cond7_all\\\\ds_52_E04-T01.tiff', 'G:\\\\classification\\\\cond_all\\\\cond7_all\\\\ds_52_E07-T01.tiff', 'G:\\\\classification\\\\cond_all\\\\cond7_all\\\\ds_42_B05-T01.tiff', 'G:\\\\classification\\\\cond_all\\\\cond7_all\\\\ds_51_C07-T01.tiff', 'G:\\\\classification\\\\cond_all\\\\cond7_all\\\\ds_62_G03-T01.tiff', 'G:\\\\classification\\\\cond_all\\\\cond7_all\\\\ds_52_C11-T01.tiff', 'G:\\\\classification\\\\cond_all\\\\sd\\\\RBT10_F10-T01.tiff', 'G:\\\\classification\\\\cond_all\\\\sd\\\\RBT04_F10-T01.tiff', 'G:\\\\classification\\\\cond_all\\\\cond7_all\\\\ds_62_E02-T01.tiff']\n"
     ]
    },
    {
     "name": "stderr",
     "output_type": "stream",
     "text": [
      "  8%|▊         | 3/39 [00:02<00:24,  1.45it/s]"
     ]
    },
    {
     "name": "stdout",
     "output_type": "stream",
     "text": [
      "Batch features shape: torch.Size([16, 20])\n",
      "Batch labels shape: torch.Size([16])\n",
      "Batch labels shape: ['G:\\\\classification\\\\cond_all\\\\cond7_all\\\\sd_04_F02-T01.tiff', 'G:\\\\classification\\\\cond_all\\\\cond7_all\\\\ds_62_C07-T01.tiff', 'G:\\\\classification\\\\cond_all\\\\cond7_all\\\\ds_61_D11-T01.tiff', 'G:\\\\classification\\\\cond_all\\\\cond7_all\\\\ds_62_F08-T01.tiff', 'G:\\\\classification\\\\cond_all\\\\sd\\\\RBT14_D11-T01.tiff', 'G:\\\\classification\\\\cond_all\\\\cond7_all\\\\ds_1B_F08-T01.tiff', 'G:\\\\classification\\\\cond_all\\\\cond7_all\\\\ds_41_G02-T01.tiff', 'G:\\\\classification\\\\cond_all\\\\cond7_all\\\\ds_42_E11-T01.tiff', 'G:\\\\classification\\\\cond_all\\\\cond7_all\\\\ds_61_B05-T01.tiff', 'G:\\\\classification\\\\cond_all\\\\cond7_all\\\\ds_52_F04-T01.tiff', 'G:\\\\classification\\\\cond_all\\\\cond7_all\\\\ds_62_B11-T01.tiff', 'G:\\\\classification\\\\cond_all\\\\cond7_all\\\\sd_04_E05-T01.tiff', 'G:\\\\classification\\\\cond_all\\\\cond7_all\\\\ds_61_F06-T01.tiff', 'G:\\\\classification\\\\cond_all\\\\cond7_all\\\\sd_04_C09-T01.tiff', 'G:\\\\classification\\\\cond_all\\\\cond7_all\\\\ds_52_G03-T01.tiff', 'G:\\\\classification\\\\cond_all\\\\cond7_all\\\\ds_51_E06-T01.tiff']\n"
     ]
    },
    {
     "name": "stderr",
     "output_type": "stream",
     "text": [
      " 10%|█         | 4/39 [00:02<00:23,  1.49it/s]"
     ]
    },
    {
     "name": "stdout",
     "output_type": "stream",
     "text": [
      "Batch features shape: torch.Size([16, 20])\n",
      "Batch labels shape: torch.Size([16])\n",
      "Batch labels shape: ['G:\\\\classification\\\\cond_all\\\\cond7_all\\\\ds_52_G08-T01.tiff', 'G:\\\\classification\\\\cond_all\\\\cond7_all\\\\ds_41_C06-T01.tiff', 'G:\\\\classification\\\\cond_all\\\\cond7_all\\\\sd_04_G11-T01.tiff', 'G:\\\\classification\\\\cond_all\\\\cond7_all\\\\ds_52_G05-T01.tiff', 'G:\\\\classification\\\\cond_all\\\\cond7_all\\\\ds_41_C08-T01.tiff', 'G:\\\\classification\\\\cond_all\\\\cond7_all\\\\ds_42_D02-T01.tiff', 'G:\\\\classification\\\\cond_all\\\\sd\\\\RBT10_C08-T01.tiff', 'G:\\\\classification\\\\cond_all\\\\cond7_all\\\\ds_51_D04-T01.tiff', 'G:\\\\classification\\\\cond_all\\\\cond7_all\\\\ds_61_E08-T01.tiff', 'G:\\\\classification\\\\cond_all\\\\sd\\\\RBT10_D07-T01.tiff', 'G:\\\\classification\\\\cond_all\\\\cond7_all\\\\sd_04_B04-T01.tiff', 'G:\\\\classification\\\\cond_all\\\\cond7_all\\\\ds_62_F02-T01.tiff', 'G:\\\\classification\\\\cond_all\\\\cond7_all\\\\ds_51_E02-T01.tiff', 'G:\\\\classification\\\\cond_all\\\\cond7_all\\\\ds_62_G08-T01.tiff', 'G:\\\\classification\\\\cond_all\\\\sd\\\\RBT10_B09-T01.tiff', 'G:\\\\classification\\\\cond_all\\\\cond7_all\\\\ds_42_G02-T01.tiff']\n"
     ]
    },
    {
     "name": "stderr",
     "output_type": "stream",
     "text": [
      " 13%|█▎        | 5/39 [00:03<00:22,  1.50it/s]"
     ]
    },
    {
     "name": "stdout",
     "output_type": "stream",
     "text": [
      "Batch features shape: torch.Size([16, 20])\n",
      "Batch labels shape: torch.Size([16])\n",
      "Batch labels shape: ['G:\\\\classification\\\\cond_all\\\\cond7_all\\\\ds_52_B04-T01.tiff', 'G:\\\\classification\\\\cond_all\\\\cond7_all\\\\ds_41_B07-T01.tiff', 'G:\\\\classification\\\\cond_all\\\\cond7_all\\\\ds_52_C10-T01.tiff', 'G:\\\\classification\\\\cond_all\\\\sd\\\\RBT10_E11-T01.tiff', 'G:\\\\classification\\\\cond_all\\\\cond7_all\\\\ds_62_E04-T01.tiff', 'G:\\\\classification\\\\cond_all\\\\cond7_all\\\\ds_52_D07-T01.tiff', 'G:\\\\classification\\\\cond_all\\\\cond7_all\\\\ds_52_B07-T01.tiff', 'G:\\\\classification\\\\cond_all\\\\cond7_all\\\\ds_51_G10-T01.tiff', 'G:\\\\classification\\\\cond_all\\\\cond7_all\\\\ds_62_F09-T01.tiff', 'G:\\\\classification\\\\cond_all\\\\cond7_all\\\\ds_62_B06-T01.tiff', 'G:\\\\classification\\\\cond_all\\\\cond7_all\\\\ds_61_F07-T01.tiff', 'G:\\\\classification\\\\cond_all\\\\cond7_all\\\\ds_42_G06-T01.tiff', 'G:\\\\classification\\\\cond_all\\\\sd\\\\RBT14_C09-T01.tiff', 'G:\\\\classification\\\\cond_all\\\\sd\\\\RBT14_D08-T01.tiff', 'G:\\\\classification\\\\cond_all\\\\cond7_all\\\\ds_1B_E06-T01.tiff', 'G:\\\\classification\\\\cond_all\\\\cond7_all\\\\sd_04_C04-T01.tiff']\n"
     ]
    },
    {
     "name": "stderr",
     "output_type": "stream",
     "text": [
      " 15%|█▌        | 6/39 [00:04<00:21,  1.51it/s]"
     ]
    },
    {
     "name": "stdout",
     "output_type": "stream",
     "text": [
      "Batch features shape: torch.Size([16, 20])\n",
      "Batch labels shape: torch.Size([16])\n",
      "Batch labels shape: ['G:\\\\classification\\\\cond_all\\\\cond7_all\\\\sd_04_D02-T01.tiff', 'G:\\\\classification\\\\cond_all\\\\cond7_all\\\\ds_52_G09-T01.tiff', 'G:\\\\classification\\\\cond_all\\\\cond7_all\\\\ds_52_C06-T01.tiff', 'G:\\\\classification\\\\cond_all\\\\cond7_all\\\\ds_1B_C08-T01.tiff', 'G:\\\\classification\\\\cond_all\\\\cond7_all\\\\ds_41_G05-T01.tiff', 'G:\\\\classification\\\\cond_all\\\\cond7_all\\\\sd_04_D11-T01.tiff', 'G:\\\\classification\\\\cond_all\\\\ex\\\\ds61_g3_C05-T01.tiff', 'G:\\\\classification\\\\cond_all\\\\cond7_all\\\\ds_1B_G05-T01.tiff', 'G:\\\\classification\\\\cond_all\\\\cond7_all\\\\ds_51_D10-T01.tiff', 'G:\\\\classification\\\\cond_all\\\\cond7_all\\\\ds_1B_G11-T01.tiff', 'G:\\\\classification\\\\cond_all\\\\cond7_all\\\\ds_51_G04-T01.tiff', 'G:\\\\classification\\\\cond_all\\\\cond7_all\\\\ds_42_C11-T01.tiff', 'G:\\\\classification\\\\cond_all\\\\sd\\\\RBT10_D09-T01.tiff', 'G:\\\\classification\\\\cond_all\\\\cond7_all\\\\ds_61_C02-T01.tiff', 'G:\\\\classification\\\\cond_all\\\\cond7_all\\\\ds_51_C04-T01.tiff', 'G:\\\\classification\\\\cond_all\\\\cond7_all\\\\sd_04_E11-T01.tiff']\n"
     ]
    },
    {
     "name": "stderr",
     "output_type": "stream",
     "text": [
      " 18%|█▊        | 7/39 [00:04<00:21,  1.52it/s]"
     ]
    },
    {
     "name": "stdout",
     "output_type": "stream",
     "text": [
      "Batch features shape: torch.Size([16, 20])\n",
      "Batch labels shape: torch.Size([16])\n",
      "Batch labels shape: ['G:\\\\classification\\\\cond_all\\\\sd\\\\RBT04_C09-T01.tiff', 'G:\\\\classification\\\\cond_all\\\\cond7_all\\\\ds_62_D10-T01.tiff', 'G:\\\\classification\\\\cond_all\\\\cond7_all\\\\ds_62_D06-T01.tiff', 'G:\\\\classification\\\\cond_all\\\\cond7_all\\\\ds_51_F04-T01.tiff', 'G:\\\\classification\\\\cond_all\\\\cond7_all\\\\ds_52_E11-T01.tiff', 'G:\\\\classification\\\\cond_all\\\\sd\\\\RBT09_E09-T01.tiff', 'G:\\\\classification\\\\cond_all\\\\cond7_all\\\\sd_04_D04-T01.tiff', 'G:\\\\classification\\\\cond_all\\\\ex\\\\ds1B_g9_C8.tif', 'G:\\\\classification\\\\cond_all\\\\cond7_all\\\\ds_62_G09-T01.tiff', 'G:\\\\classification\\\\cond_all\\\\sd\\\\RBT14_D10-T01.tiff', 'G:\\\\classification\\\\cond_all\\\\cond7_all\\\\ds_51_B07-T01.tiff', 'G:\\\\classification\\\\cond_all\\\\cond7_all\\\\ds_52_G04-T01.tiff', 'G:\\\\classification\\\\cond_all\\\\cond7_all\\\\ds_41_E11-T01.tiff', 'G:\\\\classification\\\\cond_all\\\\sd\\\\RBT09_G08-T01.tiff', 'G:\\\\classification\\\\cond_all\\\\sd\\\\RBT14_D09-T01.tiff', 'G:\\\\classification\\\\cond_all\\\\sd\\\\RBT09_B11-T01.tiff']\n"
     ]
    },
    {
     "name": "stderr",
     "output_type": "stream",
     "text": [
      " 21%|██        | 8/39 [00:05<00:20,  1.52it/s]"
     ]
    },
    {
     "name": "stdout",
     "output_type": "stream",
     "text": [
      "Batch features shape: torch.Size([16, 20])\n",
      "Batch labels shape: torch.Size([16])\n",
      "Batch labels shape: ['G:\\\\classification\\\\cond_all\\\\cond7_all\\\\ds_51_B09-T01.tiff', 'G:\\\\classification\\\\cond_all\\\\cond7_all\\\\sd_04_B06-T01.tiff', 'G:\\\\classification\\\\cond_all\\\\cond7_all\\\\ds_61_G08-T01.tiff', 'G:\\\\classification\\\\cond_all\\\\sd\\\\RBT04_E07-T01.tiff', 'G:\\\\classification\\\\cond_all\\\\cond7_all\\\\ds_52_C09-T01.tiff', 'G:\\\\classification\\\\cond_all\\\\cond7_all\\\\ds_61_E10-T01.tiff', 'G:\\\\classification\\\\cond_all\\\\cond7_all\\\\ds_62_G04-T01.tiff', 'G:\\\\classification\\\\cond_all\\\\cond7_all\\\\ds_42_D09-T01.tiff', 'G:\\\\classification\\\\cond_all\\\\cond7_all\\\\sd_04_B03-T01.tiff', 'G:\\\\classification\\\\cond_all\\\\cond7_all\\\\ds_62_B02-T01.tiff', 'G:\\\\classification\\\\cond_all\\\\cond7_all\\\\ds_41_B04-T01.tiff', 'G:\\\\classification\\\\cond_all\\\\cond7_all\\\\sd_04_F03-T01.tiff', 'G:\\\\classification\\\\cond_all\\\\cond7_all\\\\ds_62_B04-T01.tiff', 'G:\\\\classification\\\\cond_all\\\\cond7_all\\\\sd_04_G07-T01.tiff', 'G:\\\\classification\\\\cond_all\\\\cond7_all\\\\ds_42_E06-T01.tiff', 'G:\\\\classification\\\\cond_all\\\\cond7_all\\\\ds_62_E03-T01.tiff']\n"
     ]
    },
    {
     "name": "stderr",
     "output_type": "stream",
     "text": [
      " 23%|██▎       | 9/39 [00:06<00:19,  1.53it/s]"
     ]
    },
    {
     "name": "stdout",
     "output_type": "stream",
     "text": [
      "Batch features shape: torch.Size([16, 20])\n",
      "Batch labels shape: torch.Size([16])\n",
      "Batch labels shape: ['G:\\\\classification\\\\cond_all\\\\ex\\\\ds61_g6_F02-T01.tiff', 'G:\\\\classification\\\\cond_all\\\\cond7_all\\\\ds_62_E05-T01.tiff', 'G:\\\\classification\\\\cond_all\\\\cond7_all\\\\ds_1B_G03-T01.tiff', 'G:\\\\classification\\\\cond_all\\\\ex\\\\ds62_g8_B09-T01.tiff', 'G:\\\\classification\\\\cond_all\\\\cond7_all\\\\ds_42_G04-T01.tiff', 'G:\\\\classification\\\\cond_all\\\\cond7_all\\\\ds_1B_F02-T01.tiff', 'G:\\\\classification\\\\cond_all\\\\cond7_all\\\\ds_61_D05-T01.tiff', 'G:\\\\classification\\\\cond_all\\\\cond7_all\\\\ds_42_G05-T01.tiff', 'G:\\\\classification\\\\cond_all\\\\ex\\\\ds62_g9_C08-T01.tiff', 'G:\\\\classification\\\\cond_all\\\\cond7_all\\\\ds_42_B02-T01.tiff', 'G:\\\\classification\\\\cond_all\\\\sd\\\\RBT09_C09-T01.tiff', 'G:\\\\classification\\\\cond_all\\\\ex\\\\ds62_g8_B07-T01.tiff', 'G:\\\\classification\\\\cond_all\\\\cond7_all\\\\sd_04_B05-T01.tiff', 'G:\\\\classification\\\\cond_all\\\\cond7_all\\\\ds_1B_G08-T01.tiff', 'G:\\\\classification\\\\cond_all\\\\sd\\\\RBT10_F08-T01.tiff', 'G:\\\\classification\\\\cond_all\\\\cond7_all\\\\ds_42_B11-T01.tiff']\n"
     ]
    },
    {
     "name": "stderr",
     "output_type": "stream",
     "text": [
      " 26%|██▌       | 10/39 [00:06<00:19,  1.52it/s]"
     ]
    },
    {
     "name": "stdout",
     "output_type": "stream",
     "text": [
      "Batch features shape: torch.Size([16, 20])\n",
      "Batch labels shape: torch.Size([16])\n",
      "Batch labels shape: ['G:\\\\classification\\\\cond_all\\\\sd\\\\RBT10_F07-T01.tiff', 'G:\\\\classification\\\\cond_all\\\\cond7_all\\\\ds_41_C10-T01.tiff', 'G:\\\\classification\\\\cond_all\\\\cond7_all\\\\ds_62_C02-T01.tiff', 'G:\\\\classification\\\\cond_all\\\\cond7_all\\\\ds_1B_E02-T01.tiff', 'G:\\\\classification\\\\cond_all\\\\cond7_all\\\\ds_1B_C06-T01.tiff', 'G:\\\\classification\\\\cond_all\\\\cond7_all\\\\ds_42_C09-T01.tiff', 'G:\\\\classification\\\\cond_all\\\\cond7_all\\\\ds_1B_C10-T01.tiff', 'G:\\\\classification\\\\cond_all\\\\cond7_all\\\\ds_51_F07-T01.tiff', 'G:\\\\classification\\\\cond_all\\\\cond7_all\\\\ds_42_E02-T01.tiff', 'G:\\\\classification\\\\cond_all\\\\cond7_all\\\\ds_42_F04-T01.tiff', 'G:\\\\classification\\\\cond_all\\\\sd\\\\RBT10_F11-T01.tiff', 'G:\\\\classification\\\\cond_all\\\\sd\\\\RBT10_B08-T01.tiff', 'G:\\\\classification\\\\cond_all\\\\cond7_all\\\\ds_41_G04-T01.tiff', 'G:\\\\classification\\\\cond_all\\\\cond7_all\\\\ds_62_F05-T01.tiff', 'G:\\\\classification\\\\cond_all\\\\cond7_all\\\\ds_41_G06-T01.tiff', 'G:\\\\classification\\\\cond_all\\\\cond7_all\\\\ds_52_B09-T01.tiff']\n"
     ]
    },
    {
     "name": "stderr",
     "output_type": "stream",
     "text": [
      " 28%|██▊       | 11/39 [00:07<00:18,  1.50it/s]"
     ]
    },
    {
     "name": "stdout",
     "output_type": "stream",
     "text": [
      "Batch features shape: torch.Size([16, 20])\n",
      "Batch labels shape: torch.Size([16])\n",
      "Batch labels shape: ['G:\\\\classification\\\\cond_all\\\\cond7_all\\\\ds_1B_B08-T01.tiff', 'G:\\\\classification\\\\cond_all\\\\cond7_all\\\\ds_51_G05-T01.tiff', 'G:\\\\classification\\\\cond_all\\\\cond7_all\\\\ds_52_E06-T01.tiff', 'G:\\\\classification\\\\cond_all\\\\cond7_all\\\\ds_1B_E10-T01.tiff', 'G:\\\\classification\\\\cond_all\\\\cond7_all\\\\ds_51_C09-T01.tiff', 'G:\\\\classification\\\\cond_all\\\\cond7_all\\\\ds_42_C06-T01.tiff', 'G:\\\\classification\\\\cond_all\\\\sd\\\\RBT10_E07-T01.tiff', 'G:\\\\classification\\\\cond_all\\\\cond7_all\\\\ds_1B_E09-T01.tiff', 'G:\\\\classification\\\\cond_all\\\\cond7_all\\\\ds_51_G06-T01.tiff', 'G:\\\\classification\\\\cond_all\\\\cond7_all\\\\ds_62_D04-T01.tiff', 'G:\\\\classification\\\\cond_all\\\\sd\\\\RBT09_C08-T01.tiff', 'G:\\\\classification\\\\cond_all\\\\cond7_all\\\\ds_1B_E05-T01.tiff', 'G:\\\\classification\\\\cond_all\\\\cond7_all\\\\ds_62_D03-T01.tiff', 'G:\\\\classification\\\\cond_all\\\\cond7_all\\\\ds_41_E10-T01.tiff', 'G:\\\\classification\\\\cond_all\\\\cond7_all\\\\sd_04_G08-T01.tiff', 'G:\\\\classification\\\\cond_all\\\\cond7_all\\\\ds_1B_B07-T01.tiff']\n"
     ]
    },
    {
     "name": "stderr",
     "output_type": "stream",
     "text": [
      " 31%|███       | 12/39 [00:08<00:18,  1.48it/s]"
     ]
    },
    {
     "name": "stdout",
     "output_type": "stream",
     "text": [
      "Batch features shape: torch.Size([16, 20])\n",
      "Batch labels shape: torch.Size([16])\n",
      "Batch labels shape: ['G:\\\\classification\\\\cond_all\\\\sd\\\\RBT09_E11-T01.tiff', 'G:\\\\classification\\\\cond_all\\\\cond7_all\\\\sd_04_B07-T01.tiff', 'G:\\\\classification\\\\cond_all\\\\cond7_all\\\\ds_61_B03-T01.tiff', 'G:\\\\classification\\\\cond_all\\\\cond7_all\\\\ds_61_D04-T01.tiff', 'G:\\\\classification\\\\cond_all\\\\cond7_all\\\\ds_52_C04-T01.tiff', 'G:\\\\classification\\\\cond_all\\\\cond7_all\\\\sd_04_G05-T01.tiff', 'G:\\\\classification\\\\cond_all\\\\cond7_all\\\\ds_42_E08-T01.tiff', 'G:\\\\classification\\\\cond_all\\\\cond7_all\\\\ds_52_E08-T01.tiff', 'G:\\\\classification\\\\cond_all\\\\cond7_all\\\\ds_1B_E11-T01.tiff', 'G:\\\\classification\\\\cond_all\\\\sd\\\\RBT10_D11-T01.tiff', 'G:\\\\classification\\\\cond_all\\\\cond7_all\\\\ds_51_C10-T01.tiff', 'G:\\\\classification\\\\cond_all\\\\cond7_all\\\\ds_41_D10-T01.tiff', 'G:\\\\classification\\\\cond_all\\\\ex\\\\ds41_g9_C10-T01.tiff', 'G:\\\\classification\\\\cond_all\\\\cond7_all\\\\ds_61_E11-T01.tiff', 'G:\\\\classification\\\\cond_all\\\\sd\\\\RBT04_F08-T01.tiff', 'G:\\\\classification\\\\cond_all\\\\sd\\\\RBT04_D10-T01.tiff']\n"
     ]
    },
    {
     "name": "stderr",
     "output_type": "stream",
     "text": [
      " 33%|███▎      | 13/39 [00:08<00:17,  1.46it/s]"
     ]
    },
    {
     "name": "stdout",
     "output_type": "stream",
     "text": [
      "Batch features shape: torch.Size([16, 20])\n",
      "Batch labels shape: torch.Size([16])\n",
      "Batch labels shape: ['G:\\\\classification\\\\cond_all\\\\cond7_all\\\\ds_51_C06-T01.tiff', 'G:\\\\classification\\\\cond_all\\\\ex\\\\ds61_g6_F06-T01.tiff', 'G:\\\\classification\\\\cond_all\\\\cond7_all\\\\ds_61_C04-T01.tiff', 'G:\\\\classification\\\\cond_all\\\\cond7_all\\\\ds_1B_B03-T01.tiff', 'G:\\\\classification\\\\cond_all\\\\sd\\\\RBT04_G07-T01.tiff', 'G:\\\\classification\\\\cond_all\\\\cond7_all\\\\sd_04_C08-T01.tiff', 'G:\\\\classification\\\\cond_all\\\\cond7_all\\\\ds_61_F03-T01.tiff', 'G:\\\\classification\\\\cond_all\\\\cond7_all\\\\ds_1B_B10-T01.tiff', 'G:\\\\classification\\\\cond_all\\\\cond7_all\\\\ds_41_B03-T01.tiff', 'G:\\\\classification\\\\cond_all\\\\cond7_all\\\\ds_61_E07-T01.tiff', 'G:\\\\classification\\\\cond_all\\\\sd\\\\RBT04_G09-T01.tiff', 'G:\\\\classification\\\\cond_all\\\\ex\\\\ds61_g9_C08-T01.tiff', 'G:\\\\classification\\\\cond_all\\\\cond7_all\\\\sd_04_E06-T01.tiff', 'G:\\\\classification\\\\cond_all\\\\cond7_all\\\\ds_62_D11-T01.tiff', 'G:\\\\classification\\\\cond_all\\\\cond7_all\\\\ds_61_C06-T01.tiff', 'G:\\\\classification\\\\cond_all\\\\cond7_all\\\\ds_62_G02-T01.tiff']\n"
     ]
    },
    {
     "name": "stderr",
     "output_type": "stream",
     "text": [
      " 36%|███▌      | 14/39 [00:09<00:17,  1.41it/s]"
     ]
    },
    {
     "name": "stdout",
     "output_type": "stream",
     "text": [
      "Batch features shape: torch.Size([16, 20])\n",
      "Batch labels shape: torch.Size([16])\n",
      "Batch labels shape: ['G:\\\\classification\\\\cond_all\\\\cond7_all\\\\ds_52_D09-T01.tiff', 'G:\\\\classification\\\\cond_all\\\\cond7_all\\\\ds_51_B10-T01.tiff', 'G:\\\\classification\\\\cond_all\\\\ex\\\\ds61_g8_B10-T01.tiff', 'G:\\\\classification\\\\cond_all\\\\cond7_all\\\\ds_42_B03-T01.tiff', 'G:\\\\classification\\\\cond_all\\\\cond7_all\\\\sd_04_D06-T01.tiff', 'G:\\\\classification\\\\cond_all\\\\cond7_all\\\\sd_04_F07-T01.tiff', 'G:\\\\classification\\\\cond_all\\\\cond7_all\\\\ds_41_B09-T01.tiff', 'G:\\\\classification\\\\cond_all\\\\cond7_all\\\\ds_1B_D10-T01.tiff', 'G:\\\\classification\\\\cond_all\\\\sd\\\\RBT04_B09-T01.tiff', 'G:\\\\classification\\\\cond_all\\\\cond7_all\\\\ds_62_C04-T01.tiff', 'G:\\\\classification\\\\cond_all\\\\cond7_all\\\\ds_61_E09-T01.tiff', 'G:\\\\classification\\\\cond_all\\\\cond7_all\\\\ds_51_D09-T01.tiff', 'G:\\\\classification\\\\cond_all\\\\sd\\\\RBT10_B11-T01.tiff', 'G:\\\\classification\\\\cond_all\\\\cond7_all\\\\ds_52_E05-T01.tiff', 'G:\\\\classification\\\\cond_all\\\\sd\\\\RBT09_D07-T01.tiff', 'G:\\\\classification\\\\cond_all\\\\cond7_all\\\\ds_51_D06-T01.tiff']\n"
     ]
    },
    {
     "name": "stderr",
     "output_type": "stream",
     "text": [
      " 38%|███▊      | 15/39 [00:10<00:17,  1.38it/s]"
     ]
    },
    {
     "name": "stdout",
     "output_type": "stream",
     "text": [
      "Batch features shape: torch.Size([16, 20])\n",
      "Batch labels shape: torch.Size([16])\n",
      "Batch labels shape: ['G:\\\\classification\\\\cond_all\\\\ex\\\\ds1B_g9_c10.tif', 'G:\\\\classification\\\\cond_all\\\\cond7_all\\\\ds_42_B04-T01.tiff', 'G:\\\\classification\\\\cond_all\\\\cond7_all\\\\ds_1B_F11-T01.tiff', 'G:\\\\classification\\\\cond_all\\\\cond7_all\\\\ds_1B_D05-T01.tiff', 'G:\\\\classification\\\\cond_all\\\\cond7_all\\\\ds_51_G07-T01.tiff', 'G:\\\\classification\\\\cond_all\\\\cond7_all\\\\ds_62_E09-T01.tiff', 'G:\\\\classification\\\\cond_all\\\\cond7_all\\\\ds_61_G07-T01.tiff', 'G:\\\\classification\\\\cond_all\\\\cond7_all\\\\ds_42_D08-T01.tiff', 'G:\\\\classification\\\\cond_all\\\\cond7_all\\\\ds_41_B06-T01.tiff', 'G:\\\\classification\\\\cond_all\\\\cond7_all\\\\sd_04_E09-T01.tiff', 'G:\\\\classification\\\\cond_all\\\\cond7_all\\\\ds_51_B02-T01.tiff', 'G:\\\\classification\\\\cond_all\\\\cond7_all\\\\ds_62_C06-T01.tiff', 'G:\\\\classification\\\\cond_all\\\\cond7_all\\\\ds_1B_F07-T01.tiff', 'G:\\\\classification\\\\cond_all\\\\cond7_all\\\\ds_52_F03-T01.tiff', 'G:\\\\classification\\\\cond_all\\\\cond7_all\\\\ds_52_G06-T01.tiff', 'G:\\\\classification\\\\cond_all\\\\cond7_all\\\\ds_41_E06-T01.tiff']\n"
     ]
    },
    {
     "name": "stderr",
     "output_type": "stream",
     "text": [
      " 41%|████      | 16/39 [00:11<00:16,  1.38it/s]"
     ]
    },
    {
     "name": "stdout",
     "output_type": "stream",
     "text": [
      "Batch features shape: torch.Size([16, 20])\n",
      "Batch labels shape: torch.Size([16])\n",
      "Batch labels shape: ['G:\\\\classification\\\\cond_all\\\\cond7_all\\\\sd_04_F06-T01.tiff', 'G:\\\\classification\\\\cond_all\\\\cond7_all\\\\ds_51_D03-T01.tiff', 'G:\\\\classification\\\\cond_all\\\\ex\\\\ds41_g3_C05-T01.tiff', 'G:\\\\classification\\\\cond_all\\\\cond7_all\\\\ds_42_C10-T01.tiff', 'G:\\\\classification\\\\cond_all\\\\cond7_all\\\\ds_62_E11-T01.tiff', 'G:\\\\classification\\\\cond_all\\\\sd\\\\RBT10_G07-T01.tiff', 'G:\\\\classification\\\\cond_all\\\\cond7_all\\\\ds_1B_E03-T01.tiff', 'G:\\\\classification\\\\cond_all\\\\cond7_all\\\\ds_42_G11-T01.tiff', 'G:\\\\classification\\\\cond_all\\\\ex\\\\ds62_g8_B11-T01.tiff', 'G:\\\\classification\\\\cond_all\\\\cond7_all\\\\ds_51_C05-T01.tiff', 'G:\\\\classification\\\\cond_all\\\\sd\\\\RBT04_B11-T01.tiff', 'G:\\\\classification\\\\cond_all\\\\cond7_all\\\\ds_61_C10-T01.tiff', 'G:\\\\classification\\\\cond_all\\\\cond7_all\\\\sd_04_F08-T01.tiff', 'G:\\\\classification\\\\cond_all\\\\cond7_all\\\\ds_61_E02-T01.tiff', 'G:\\\\classification\\\\cond_all\\\\sd\\\\RBT09_D11-T01.tiff', 'G:\\\\classification\\\\cond_all\\\\cond7_all\\\\ds_42_E04-T01.tiff']\n"
     ]
    },
    {
     "name": "stderr",
     "output_type": "stream",
     "text": [
      " 44%|████▎     | 17/39 [00:11<00:16,  1.37it/s]"
     ]
    },
    {
     "name": "stdout",
     "output_type": "stream",
     "text": [
      "Batch features shape: torch.Size([16, 20])\n",
      "Batch labels shape: torch.Size([16])\n",
      "Batch labels shape: ['G:\\\\classification\\\\cond_all\\\\sd\\\\RBT04_F09-T01.tiff', 'G:\\\\classification\\\\cond_all\\\\cond7_all\\\\ds_61_G04-T01.tiff', 'G:\\\\classification\\\\cond_all\\\\cond7_all\\\\ds_42_D10-T01.tiff', 'G:\\\\classification\\\\cond_all\\\\sd\\\\RBT10_C09-T01.tiff', 'G:\\\\classification\\\\cond_all\\\\cond7_all\\\\ds_1B_G06-T01.tiff', 'G:\\\\classification\\\\cond_all\\\\cond7_all\\\\ds_62_F11-T01.tiff', 'G:\\\\classification\\\\cond_all\\\\cond7_all\\\\ds_52_C08-T01.tiff', 'G:\\\\classification\\\\cond_all\\\\cond7_all\\\\ds_42_C08-T01.tiff', 'G:\\\\classification\\\\cond_all\\\\cond7_all\\\\ds_42_B06-T01.tiff', 'G:\\\\classification\\\\cond_all\\\\cond7_all\\\\ds_42_B09-T01.tiff', 'G:\\\\classification\\\\cond_all\\\\cond7_all\\\\ds_51_C02-T01.tiff', 'G:\\\\classification\\\\cond_all\\\\cond7_all\\\\ds_62_G07-T01.tiff', 'G:\\\\classification\\\\cond_all\\\\cond7_all\\\\ds_41_D07-T01.tiff', 'G:\\\\classification\\\\cond_all\\\\cond7_all\\\\ds_42_G09-T01.tiff', 'G:\\\\classification\\\\cond_all\\\\sd\\\\RBT04_F11-T01.tiff', 'G:\\\\classification\\\\cond_all\\\\cond7_all\\\\sd_04_E10-T01.tiff']\n"
     ]
    },
    {
     "name": "stderr",
     "output_type": "stream",
     "text": [
      " 46%|████▌     | 18/39 [00:12<00:15,  1.36it/s]"
     ]
    },
    {
     "name": "stdout",
     "output_type": "stream",
     "text": [
      "Batch features shape: torch.Size([16, 20])\n",
      "Batch labels shape: torch.Size([16])\n",
      "Batch labels shape: ['G:\\\\classification\\\\cond_all\\\\cond7_all\\\\ds_51_B05-T01.tiff', 'G:\\\\classification\\\\cond_all\\\\cond7_all\\\\ds_51_D02-T01.tiff', 'G:\\\\classification\\\\cond_all\\\\cond7_all\\\\sd_04_C10-T01.tiff', 'G:\\\\classification\\\\cond_all\\\\sd\\\\RBT09_B07-T01.tiff', 'G:\\\\classification\\\\cond_all\\\\cond7_all\\\\ds_42_F11-T01.tiff', 'G:\\\\classification\\\\cond_all\\\\cond7_all\\\\ds_52_C07-T01.tiff', 'G:\\\\classification\\\\cond_all\\\\cond7_all\\\\sd_04_F09-T01.tiff', 'G:\\\\classification\\\\cond_all\\\\sd\\\\RBT09_E10-T01.tiff', 'G:\\\\classification\\\\cond_all\\\\cond7_all\\\\sd_04_D03-T01.tiff', 'G:\\\\classification\\\\cond_all\\\\cond7_all\\\\ds_62_D07-T01.tiff', 'G:\\\\classification\\\\cond_all\\\\cond7_all\\\\sd_04_F11-T01.tiff', 'G:\\\\classification\\\\cond_all\\\\cond7_all\\\\ds_61_E05-T01.tiff', 'G:\\\\classification\\\\cond_all\\\\cond7_all\\\\ds_61_F05-T01.tiff', 'G:\\\\classification\\\\cond_all\\\\sd\\\\RBT09_G11-T01.tiff', 'G:\\\\classification\\\\cond_all\\\\cond7_all\\\\ds_61_G10-T01.tiff', 'G:\\\\classification\\\\cond_all\\\\cond7_all\\\\ds_52_D08-T01.tiff']\n"
     ]
    },
    {
     "name": "stderr",
     "output_type": "stream",
     "text": [
      " 49%|████▊     | 19/39 [00:13<00:14,  1.36it/s]"
     ]
    },
    {
     "name": "stdout",
     "output_type": "stream",
     "text": [
      "Batch features shape: torch.Size([16, 20])\n",
      "Batch labels shape: torch.Size([16])\n",
      "Batch labels shape: ['G:\\\\classification\\\\cond_all\\\\cond7_all\\\\ds_62_F10-T01.tiff', 'G:\\\\classification\\\\cond_all\\\\cond7_all\\\\ds_61_D06-T01.tiff', 'G:\\\\classification\\\\cond_all\\\\cond7_all\\\\ds_62_G11-T01.tiff', 'G:\\\\classification\\\\cond_all\\\\cond7_all\\\\ds_1B_D07-T01.tiff', 'G:\\\\classification\\\\cond_all\\\\sd\\\\RBT14_B11-T01.tiff', 'G:\\\\classification\\\\cond_all\\\\ex\\\\ds41_g3_C02-T01.tiff', 'G:\\\\classification\\\\cond_all\\\\ex\\\\ds1B_g9_C11.tif', 'G:\\\\classification\\\\cond_all\\\\cond7_all\\\\ds_1B_F09-T01.tiff', 'G:\\\\classification\\\\cond_all\\\\cond7_all\\\\ds_42_B07-T01.tiff', 'G:\\\\classification\\\\cond_all\\\\ex\\\\ds61_g8_B07-T01.tiff', 'G:\\\\classification\\\\cond_all\\\\cond7_all\\\\ds_42_F09-T01.tiff', 'G:\\\\classification\\\\cond_all\\\\cond7_all\\\\ds_62_C09-T01.tiff', 'G:\\\\classification\\\\cond_all\\\\cond7_all\\\\ds_42_G08-T01.tiff', 'G:\\\\classification\\\\cond_all\\\\cond7_all\\\\sd_04_E08-T01.tiff', 'G:\\\\classification\\\\cond_all\\\\sd\\\\RBT10_D10-T01.tiff', 'G:\\\\classification\\\\cond_all\\\\cond7_all\\\\ds_61_C08-T01.tiff']\n"
     ]
    },
    {
     "name": "stderr",
     "output_type": "stream",
     "text": [
      " 51%|█████▏    | 20/39 [00:13<00:13,  1.37it/s]"
     ]
    },
    {
     "name": "stdout",
     "output_type": "stream",
     "text": [
      "Batch features shape: torch.Size([16, 20])\n",
      "Batch labels shape: torch.Size([16])\n",
      "Batch labels shape: ['G:\\\\classification\\\\cond_all\\\\sd\\\\RBT09_C07-T01.tiff', 'G:\\\\classification\\\\cond_all\\\\sd\\\\RBT09_D09-T01.tiff', 'G:\\\\classification\\\\cond_all\\\\cond7_all\\\\ds_61_D09-T01.tiff', 'G:\\\\classification\\\\cond_all\\\\cond7_all\\\\ds_51_B06-T01.tiff', 'G:\\\\classification\\\\cond_all\\\\cond7_all\\\\ds_41_G08-T01.tiff', 'G:\\\\classification\\\\cond_all\\\\sd\\\\RBT04_D11-T01.tiff', 'G:\\\\classification\\\\cond_all\\\\cond7_all\\\\ds_61_D02-T01.tiff', 'G:\\\\classification\\\\cond_all\\\\cond7_all\\\\ds_52_F11-T01.tiff', 'G:\\\\classification\\\\cond_all\\\\ex\\\\ds61_g6_F05-T01.tiff', 'G:\\\\classification\\\\cond_all\\\\sd\\\\RBT14_B08-T01.tiff', 'G:\\\\classification\\\\cond_all\\\\ex\\\\ds62_g9_C11-T01.tiff', 'G:\\\\classification\\\\cond_all\\\\sd\\\\RBT14_C08-T01.tiff', 'G:\\\\classification\\\\cond_all\\\\ex\\\\ds61_g9_C11-T01.tiff', 'G:\\\\classification\\\\cond_all\\\\ex\\\\ds61_g3_C04-T01.tiff', 'G:\\\\classification\\\\cond_all\\\\ex\\\\ds61_g8_B11-T01.tiff', 'G:\\\\classification\\\\cond_all\\\\cond7_all\\\\ds_61_D03-T01.tiff']\n"
     ]
    },
    {
     "name": "stderr",
     "output_type": "stream",
     "text": [
      " 54%|█████▍    | 21/39 [00:14<00:12,  1.40it/s]"
     ]
    },
    {
     "name": "stdout",
     "output_type": "stream",
     "text": [
      "Batch features shape: torch.Size([16, 20])\n",
      "Batch labels shape: torch.Size([16])\n",
      "Batch labels shape: ['G:\\\\classification\\\\cond_all\\\\cond7_all\\\\ds_51_G09-T01.tiff', 'G:\\\\classification\\\\cond_all\\\\cond7_all\\\\ds_51_B11-T01.tiff', 'G:\\\\classification\\\\cond_all\\\\cond7_all\\\\ds_41_C11-T01.tiff', 'G:\\\\classification\\\\cond_all\\\\cond7_all\\\\ds_62_D02-T01.tiff', 'G:\\\\classification\\\\cond_all\\\\sd\\\\RBT09_C10-T01.tiff', 'G:\\\\classification\\\\cond_all\\\\ex\\\\ds41_g3_C03-T01.tiff', 'G:\\\\classification\\\\cond_all\\\\cond7_all\\\\ds_52_B06-T01.tiff', 'G:\\\\classification\\\\cond_all\\\\cond7_all\\\\ds_41_F11-T01.tiff', 'G:\\\\classification\\\\cond_all\\\\cond7_all\\\\sd_04_C03-T01.tiff', 'G:\\\\classification\\\\cond_all\\\\cond7_all\\\\sd_04_G02-T01.tiff', 'G:\\\\classification\\\\cond_all\\\\cond7_all\\\\ds_52_C03-T01.tiff', 'G:\\\\classification\\\\cond_all\\\\cond7_all\\\\ds_1B_C05-T01.tiff', 'G:\\\\classification\\\\cond_all\\\\cond7_all\\\\ds_42_B08-T01.tiff', 'G:\\\\classification\\\\cond_all\\\\cond7_all\\\\ds_41_C04-T01.tiff', 'G:\\\\classification\\\\cond_all\\\\cond7_all\\\\sd_04_B02-T01.tiff', 'G:\\\\classification\\\\cond_all\\\\cond7_all\\\\ds_61_G11-T01.tiff']\n"
     ]
    },
    {
     "name": "stderr",
     "output_type": "stream",
     "text": [
      " 56%|█████▋    | 22/39 [00:15<00:12,  1.39it/s]"
     ]
    },
    {
     "name": "stdout",
     "output_type": "stream",
     "text": [
      "Batch features shape: torch.Size([16, 20])\n",
      "Batch labels shape: torch.Size([16])\n",
      "Batch labels shape: ['G:\\\\classification\\\\cond_all\\\\cond7_all\\\\ds_42_G07-T01.tiff', 'G:\\\\classification\\\\cond_all\\\\cond7_all\\\\ds_61_F11-T01.tiff', 'G:\\\\classification\\\\cond_all\\\\cond7_all\\\\ds_42_D07-T01.tiff', 'G:\\\\classification\\\\cond_all\\\\sd\\\\RBT04_D09-T01.tiff', 'G:\\\\classification\\\\cond_all\\\\cond7_all\\\\ds_1B_C09-T01.tiff', 'G:\\\\classification\\\\cond_all\\\\cond7_all\\\\sd_04_F04-T01.tiff', 'G:\\\\classification\\\\cond_all\\\\cond7_all\\\\ds_51_E10-T01.tiff', 'G:\\\\classification\\\\cond_all\\\\cond7_all\\\\ds_61_C09-T01.tiff', 'G:\\\\classification\\\\cond_all\\\\sd\\\\RBT09_F08-T01.tiff', 'G:\\\\classification\\\\cond_all\\\\cond7_all\\\\ds_52_E02-T01.tiff', 'G:\\\\classification\\\\cond_all\\\\cond7_all\\\\ds_1B_D06-T01.tiff', 'G:\\\\classification\\\\cond_all\\\\cond7_all\\\\ds_62_G05-T01.tiff', 'G:\\\\classification\\\\cond_all\\\\sd\\\\RBT10_B10-T01.tiff', 'G:\\\\classification\\\\cond_all\\\\cond7_all\\\\ds_41_D06-T01.tiff', 'G:\\\\classification\\\\cond_all\\\\cond7_all\\\\ds_42_F03-T01.tiff', 'G:\\\\classification\\\\cond_all\\\\cond7_all\\\\ds_51_G08-T01.tiff']\n"
     ]
    },
    {
     "name": "stderr",
     "output_type": "stream",
     "text": [
      " 59%|█████▉    | 23/39 [00:16<00:11,  1.40it/s]"
     ]
    },
    {
     "name": "stdout",
     "output_type": "stream",
     "text": [
      "Batch features shape: torch.Size([16, 20])\n",
      "Batch labels shape: torch.Size([16])\n",
      "Batch labels shape: ['G:\\\\classification\\\\cond_all\\\\cond7_all\\\\ds_52_B03-T01.tiff', 'G:\\\\classification\\\\cond_all\\\\cond7_all\\\\ds_41_C02-T01.tiff', 'G:\\\\classification\\\\cond_all\\\\cond7_all\\\\sd_04_C11-T01.tiff', 'G:\\\\classification\\\\cond_all\\\\sd\\\\RBT09_F10-T01.tiff', 'G:\\\\classification\\\\cond_all\\\\cond7_all\\\\ds_62_B09-T01.tiff', 'G:\\\\classification\\\\cond_all\\\\cond7_all\\\\ds_1B_G04-T01.tiff', 'G:\\\\classification\\\\cond_all\\\\cond7_all\\\\ds_41_F05-T01.tiff', 'G:\\\\classification\\\\cond_all\\\\cond7_all\\\\ds_61_E06-T01.tiff', 'G:\\\\classification\\\\cond_all\\\\cond7_all\\\\ds_41_E02-T01.tiff', 'G:\\\\classification\\\\cond_all\\\\cond7_all\\\\ds_51_B08-T01.tiff', 'G:\\\\classification\\\\cond_all\\\\cond7_all\\\\ds_41_G10-T01.tiff', 'G:\\\\classification\\\\cond_all\\\\sd\\\\RBT14_D07-T01.tiff', 'G:\\\\classification\\\\cond_all\\\\cond7_all\\\\ds_42_C07-T01.tiff', 'G:\\\\classification\\\\cond_all\\\\sd\\\\RBT04_F07-T01.tiff', 'G:\\\\classification\\\\cond_all\\\\cond7_all\\\\ds_51_G11-T01.tiff', 'G:\\\\classification\\\\cond_all\\\\sd\\\\RBT10_B07-T01.tiff']\n"
     ]
    },
    {
     "name": "stderr",
     "output_type": "stream",
     "text": [
      " 62%|██████▏   | 24/39 [00:16<00:10,  1.39it/s]"
     ]
    },
    {
     "name": "stdout",
     "output_type": "stream",
     "text": [
      "Batch features shape: torch.Size([16, 20])\n",
      "Batch labels shape: torch.Size([16])\n",
      "Batch labels shape: ['G:\\\\classification\\\\cond_all\\\\cond7_all\\\\ds_42_E10-T01.tiff', 'G:\\\\classification\\\\cond_all\\\\cond7_all\\\\sd_04_G03-T01.tiff', 'G:\\\\classification\\\\cond_all\\\\ex\\\\ds41_g3_C06-T01.tiff', 'G:\\\\classification\\\\cond_all\\\\cond7_all\\\\ds_62_E06-T01.tiff', 'G:\\\\classification\\\\cond_all\\\\cond7_all\\\\ds_52_F05-T01.tiff', 'G:\\\\classification\\\\cond_all\\\\cond7_all\\\\ds_51_B03-T01.tiff', 'G:\\\\classification\\\\cond_all\\\\cond7_all\\\\ds_41_B10-T01.tiff', 'G:\\\\classification\\\\cond_all\\\\cond7_all\\\\ds_1B_D08-T01.tiff', 'G:\\\\classification\\\\cond_all\\\\cond7_all\\\\ds_62_B08-T01.tiff', 'G:\\\\classification\\\\cond_all\\\\cond7_all\\\\ds_1B_B11-T01.tiff', 'G:\\\\classification\\\\cond_all\\\\cond7_all\\\\sd_04_C02-T01.tiff', 'G:\\\\classification\\\\cond_all\\\\cond7_all\\\\ds_52_B05-T01.tiff', 'G:\\\\classification\\\\cond_all\\\\ex\\\\ds41_g3_C04-T01.tiff', 'G:\\\\classification\\\\cond_all\\\\cond7_all\\\\ds_1B_G02-T01.tiff', 'G:\\\\classification\\\\cond_all\\\\ex\\\\ds1B_g9_C9.tif', 'G:\\\\classification\\\\cond_all\\\\ex\\\\ds61_g3_C03-T01.tiff']\n"
     ]
    },
    {
     "name": "stderr",
     "output_type": "stream",
     "text": [
      " 64%|██████▍   | 25/39 [00:17<00:10,  1.40it/s]"
     ]
    },
    {
     "name": "stdout",
     "output_type": "stream",
     "text": [
      "Batch features shape: torch.Size([16, 20])\n",
      "Batch labels shape: torch.Size([16])\n",
      "Batch labels shape: ['G:\\\\classification\\\\cond_all\\\\sd\\\\RBT04_B07-T01.tiff', 'G:\\\\classification\\\\cond_all\\\\cond7_all\\\\sd_04_D10-T01.tiff', 'G:\\\\classification\\\\cond_all\\\\cond7_all\\\\ds_52_F02-T01.tiff', 'G:\\\\classification\\\\cond_all\\\\cond7_all\\\\ds_42_C04-T01.tiff', 'G:\\\\classification\\\\cond_all\\\\cond7_all\\\\ds_1B_B04-T01.tiff', 'G:\\\\classification\\\\cond_all\\\\cond7_all\\\\ds_62_E10-T01.tiff', 'G:\\\\classification\\\\cond_all\\\\sd\\\\RBT09_D10-T01.tiff', 'G:\\\\classification\\\\cond_all\\\\cond7_all\\\\ds_51_F11-T01.tiff', 'G:\\\\classification\\\\cond_all\\\\sd\\\\RBT14_B07-T01.tiff', 'G:\\\\classification\\\\cond_all\\\\cond7_all\\\\ds_52_G07-T01.tiff', 'G:\\\\classification\\\\cond_all\\\\ex\\\\ds1B_g9_C7.tif', 'G:\\\\classification\\\\cond_all\\\\cond7_all\\\\sd_04_F05-T01.tiff', 'G:\\\\classification\\\\cond_all\\\\cond7_all\\\\ds_52_D02-T01.tiff', 'G:\\\\classification\\\\cond_all\\\\cond7_all\\\\ds_41_D02-T01.tiff', 'G:\\\\classification\\\\cond_all\\\\cond7_all\\\\ds_51_C11-T01.tiff', 'G:\\\\classification\\\\cond_all\\\\cond7_all\\\\ds_51_D05-T01.tiff']\n"
     ]
    },
    {
     "name": "stderr",
     "output_type": "stream",
     "text": [
      " 67%|██████▋   | 26/39 [00:18<00:09,  1.35it/s]"
     ]
    },
    {
     "name": "stdout",
     "output_type": "stream",
     "text": [
      "Batch features shape: torch.Size([16, 20])\n",
      "Batch labels shape: torch.Size([16])\n",
      "Batch labels shape: ['G:\\\\classification\\\\cond_all\\\\cond7_all\\\\ds_42_D03-T01.tiff', 'G:\\\\classification\\\\cond_all\\\\cond7_all\\\\ds_51_E09-T01.tiff', 'G:\\\\classification\\\\cond_all\\\\sd\\\\RBT09_F09-T01.tiff', 'G:\\\\classification\\\\cond_all\\\\cond7_all\\\\ds_41_C09-T01.tiff', 'G:\\\\classification\\\\cond_all\\\\cond7_all\\\\ds_51_D07-T01.tiff', 'G:\\\\classification\\\\cond_all\\\\sd\\\\RBT04_G11-T01.tiff', 'G:\\\\classification\\\\cond_all\\\\cond7_all\\\\ds_61_C03-T01.tiff', 'G:\\\\classification\\\\cond_all\\\\cond7_all\\\\ds_52_B11-T01.tiff', 'G:\\\\classification\\\\cond_all\\\\cond7_all\\\\ds_62_E08-T01.tiff', 'G:\\\\classification\\\\cond_all\\\\sd\\\\RBT09_B09-T01.tiff', 'G:\\\\classification\\\\cond_all\\\\cond7_all\\\\ds_41_E09-T01.tiff', 'G:\\\\classification\\\\cond_all\\\\cond7_all\\\\ds_52_B10-T01.tiff', 'G:\\\\classification\\\\cond_all\\\\cond7_all\\\\ds_42_E09-T01.tiff', 'G:\\\\classification\\\\cond_all\\\\cond7_all\\\\ds_42_F02-T01.tiff', 'G:\\\\classification\\\\cond_all\\\\cond7_all\\\\ds_61_E04-T01.tiff', 'G:\\\\classification\\\\cond_all\\\\cond7_all\\\\ds_61_F08-T01.tiff']\n"
     ]
    },
    {
     "name": "stderr",
     "output_type": "stream",
     "text": [
      " 69%|██████▉   | 27/39 [00:19<00:09,  1.32it/s]"
     ]
    },
    {
     "name": "stdout",
     "output_type": "stream",
     "text": [
      "Batch features shape: torch.Size([16, 20])\n",
      "Batch labels shape: torch.Size([16])\n",
      "Batch labels shape: ['G:\\\\classification\\\\cond_all\\\\cond7_all\\\\ds_51_F02-T01.tiff', 'G:\\\\classification\\\\cond_all\\\\cond7_all\\\\ds_62_F04-T01.tiff', 'G:\\\\classification\\\\cond_all\\\\cond7_all\\\\ds_61_C05-T01.tiff', 'G:\\\\classification\\\\cond_all\\\\ex\\\\ds62_g9_C10-T01.tiff', 'G:\\\\classification\\\\cond_all\\\\cond7_all\\\\ds_61_G09-T01.tiff', 'G:\\\\classification\\\\cond_all\\\\sd\\\\RBT10_G10-T01.tiff', 'G:\\\\classification\\\\cond_all\\\\cond7_all\\\\ds_41_F04-T01.tiff', 'G:\\\\classification\\\\cond_all\\\\cond7_all\\\\ds_1B_E04-T01.tiff', 'G:\\\\classification\\\\cond_all\\\\cond7_all\\\\ds_41_E08-T01.tiff', 'G:\\\\classification\\\\cond_all\\\\cond7_all\\\\ds_52_D11-T01.tiff', 'G:\\\\classification\\\\cond_all\\\\cond7_all\\\\sd_04_B09-T01.tiff', 'G:\\\\classification\\\\cond_all\\\\cond7_all\\\\ds_41_C07-T01.tiff', 'G:\\\\classification\\\\cond_all\\\\cond7_all\\\\ds_1B_F10-T01.tiff', 'G:\\\\classification\\\\cond_all\\\\cond7_all\\\\ds_62_B07-T01.tiff', 'G:\\\\classification\\\\cond_all\\\\cond7_all\\\\ds_61_F04-T01.tiff', 'G:\\\\classification\\\\cond_all\\\\cond7_all\\\\ds_62_C03-T01.tiff']\n"
     ]
    },
    {
     "name": "stderr",
     "output_type": "stream",
     "text": [
      " 72%|███████▏  | 28/39 [00:19<00:07,  1.38it/s]"
     ]
    },
    {
     "name": "stdout",
     "output_type": "stream",
     "text": [
      "Batch features shape: torch.Size([16, 20])\n",
      "Batch labels shape: torch.Size([16])\n",
      "Batch labels shape: ['G:\\\\classification\\\\cond_all\\\\cond7_all\\\\ds_42_D04-T01.tiff', 'G:\\\\classification\\\\cond_all\\\\cond7_all\\\\ds_42_E03-T01.tiff', 'G:\\\\classification\\\\cond_all\\\\cond7_all\\\\ds_42_F06-T01.tiff', 'G:\\\\classification\\\\cond_all\\\\cond7_all\\\\sd_04_D07-T01.tiff', 'G:\\\\classification\\\\cond_all\\\\cond7_all\\\\ds_62_F06-T01.tiff', 'G:\\\\classification\\\\cond_all\\\\cond7_all\\\\ds_51_C03-T01.tiff', 'G:\\\\classification\\\\cond_all\\\\cond7_all\\\\ds_41_C05-T01.tiff', 'G:\\\\classification\\\\cond_all\\\\cond7_all\\\\ds_52_B02-T01.tiff', 'G:\\\\classification\\\\cond_all\\\\ex\\\\ds61_g3_C02-T01.tiff', 'G:\\\\classification\\\\cond_all\\\\cond7_all\\\\ds_42_G10-T01.tiff', 'G:\\\\classification\\\\cond_all\\\\cond7_all\\\\ds_52_F07-T01.tiff', 'G:\\\\classification\\\\cond_all\\\\cond7_all\\\\ds_61_F02-T01.tiff', 'G:\\\\classification\\\\cond_all\\\\cond7_all\\\\ds_1B_D04-T01.tiff', 'G:\\\\classification\\\\cond_all\\\\cond7_all\\\\ds_61_B02-T01.tiff', 'G:\\\\classification\\\\cond_all\\\\cond7_all\\\\sd_04_G04-T01.tiff', 'G:\\\\classification\\\\cond_all\\\\cond7_all\\\\ds_1B_D11-T01.tiff']\n"
     ]
    },
    {
     "name": "stderr",
     "output_type": "stream",
     "text": [
      " 74%|███████▍  | 29/39 [00:20<00:07,  1.41it/s]"
     ]
    },
    {
     "name": "stdout",
     "output_type": "stream",
     "text": [
      "Batch features shape: torch.Size([16, 20])\n",
      "Batch labels shape: torch.Size([16])\n",
      "Batch labels shape: ['G:\\\\classification\\\\cond_all\\\\cond7_all\\\\ds_51_G03-T01.tiff', 'G:\\\\classification\\\\cond_all\\\\ex\\\\ds61_g9_C09-T01.tiff', 'G:\\\\classification\\\\cond_all\\\\sd\\\\RBT14_C07-T01.tiff', 'G:\\\\classification\\\\cond_all\\\\cond7_all\\\\ds_1B_F06-T01.tiff', 'G:\\\\classification\\\\cond_all\\\\sd\\\\RBT14_C10-T01.tiff', 'G:\\\\classification\\\\cond_all\\\\cond7_all\\\\ds_1B_B02-T01.tiff', 'G:\\\\classification\\\\cond_all\\\\cond7_all\\\\ds_41_D05-T01.tiff', 'G:\\\\classification\\\\cond_all\\\\cond7_all\\\\ds_61_B07-T01.tiff', 'G:\\\\classification\\\\cond_all\\\\cond7_all\\\\ds_42_F10-T01.tiff', 'G:\\\\classification\\\\cond_all\\\\cond7_all\\\\sd_04_C06-T01.tiff', 'G:\\\\classification\\\\cond_all\\\\cond7_all\\\\ds_1B_C03-T01.tiff', 'G:\\\\classification\\\\cond_all\\\\cond7_all\\\\ds_1B_F03-T01.tiff', 'G:\\\\classification\\\\cond_all\\\\ex\\\\ds61_g6_F04-T01.tiff', 'G:\\\\classification\\\\cond_all\\\\cond7_all\\\\ds_51_E03-T01.tiff', 'G:\\\\classification\\\\cond_all\\\\cond7_all\\\\ds_1B_B09-T01.tiff', 'G:\\\\classification\\\\cond_all\\\\sd\\\\RBT04_C08-T01.tiff']\n"
     ]
    },
    {
     "name": "stderr",
     "output_type": "stream",
     "text": [
      " 77%|███████▋  | 30/39 [00:21<00:06,  1.44it/s]"
     ]
    },
    {
     "name": "stdout",
     "output_type": "stream",
     "text": [
      "Batch features shape: torch.Size([16, 20])\n",
      "Batch labels shape: torch.Size([16])\n",
      "Batch labels shape: ['G:\\\\classification\\\\cond_all\\\\cond7_all\\\\ds_61_B09-T01.tiff', 'G:\\\\classification\\\\cond_all\\\\cond7_all\\\\ds_62_C11-T01.tiff', 'G:\\\\classification\\\\cond_all\\\\ex\\\\ds61_g9_C10-T01.tiff', 'G:\\\\classification\\\\cond_all\\\\cond7_all\\\\sd_04_D05-T01.tiff', 'G:\\\\classification\\\\cond_all\\\\sd\\\\RBT09_F11-T01.tiff', 'G:\\\\classification\\\\cond_all\\\\cond7_all\\\\ds_52_D04-T01.tiff', 'G:\\\\classification\\\\cond_all\\\\cond7_all\\\\ds_51_F03-T01.tiff', 'G:\\\\classification\\\\cond_all\\\\cond7_all\\\\ds_41_B08-T01.tiff', 'G:\\\\classification\\\\cond_all\\\\cond7_all\\\\ds_62_D08-T01.tiff', 'G:\\\\classification\\\\cond_all\\\\cond7_all\\\\ds_41_D08-T01.tiff', 'G:\\\\classification\\\\cond_all\\\\ex\\\\ds62_g8_B10-T01.tiff', 'G:\\\\classification\\\\cond_all\\\\sd\\\\RBT09_E08-T01.tiff', 'G:\\\\classification\\\\cond_all\\\\cond7_all\\\\ds_51_E08-T01.tiff', 'G:\\\\classification\\\\cond_all\\\\sd\\\\RBT04_C10-T01.tiff', 'G:\\\\classification\\\\cond_all\\\\cond7_all\\\\ds_1B_E07-T01.tiff', 'G:\\\\classification\\\\cond_all\\\\cond7_all\\\\ds_1B_G09-T01.tiff']\n"
     ]
    },
    {
     "name": "stderr",
     "output_type": "stream",
     "text": [
      " 79%|███████▉  | 31/39 [00:21<00:05,  1.46it/s]"
     ]
    },
    {
     "name": "stdout",
     "output_type": "stream",
     "text": [
      "Batch features shape: torch.Size([16, 20])\n",
      "Batch labels shape: torch.Size([16])\n",
      "Batch labels shape: ['G:\\\\classification\\\\cond_all\\\\cond7_all\\\\ds_42_F05-T01.tiff', 'G:\\\\classification\\\\cond_all\\\\cond7_all\\\\ds_1B_G07-T01.tiff', 'G:\\\\classification\\\\cond_all\\\\sd\\\\RBT10_E10-T01.tiff', 'G:\\\\classification\\\\cond_all\\\\cond7_all\\\\ds_41_E03-T01.tiff', 'G:\\\\classification\\\\cond_all\\\\cond7_all\\\\ds_41_G09-T01.tiff', 'G:\\\\classification\\\\cond_all\\\\cond7_all\\\\ds_51_D08-T01.tiff', 'G:\\\\classification\\\\cond_all\\\\cond7_all\\\\ds_61_F09-T01.tiff', 'G:\\\\classification\\\\cond_all\\\\cond7_all\\\\ds_51_E04-T01.tiff', 'G:\\\\classification\\\\cond_all\\\\cond7_all\\\\ds_42_C05-T01.tiff', 'G:\\\\classification\\\\cond_all\\\\cond7_all\\\\ds_42_E05-T01.tiff', 'G:\\\\classification\\\\cond_all\\\\cond7_all\\\\ds_51_F06-T01.tiff', 'G:\\\\classification\\\\cond_all\\\\cond7_all\\\\ds_52_C05-T01.tiff', 'G:\\\\classification\\\\cond_all\\\\cond7_all\\\\ds_52_E09-T01.tiff', 'G:\\\\classification\\\\cond_all\\\\sd\\\\RBT09_G07-T01.tiff', 'G:\\\\classification\\\\cond_all\\\\cond7_all\\\\ds_51_F05-T01.tiff', 'G:\\\\classification\\\\cond_all\\\\sd\\\\RBT14_B09-T01.tiff']\n"
     ]
    },
    {
     "name": "stderr",
     "output_type": "stream",
     "text": [
      " 82%|████████▏ | 32/39 [00:22<00:04,  1.47it/s]"
     ]
    },
    {
     "name": "stdout",
     "output_type": "stream",
     "text": [
      "Batch features shape: torch.Size([16, 20])\n",
      "Batch labels shape: torch.Size([16])\n",
      "Batch labels shape: ['G:\\\\classification\\\\cond_all\\\\ex\\\\ds61_g8_B09-T01.tiff', 'G:\\\\classification\\\\cond_all\\\\cond7_all\\\\sd_04_C05-T01.tiff', 'G:\\\\classification\\\\cond_all\\\\cond7_all\\\\ds_62_B10-T01.tiff', 'G:\\\\classification\\\\cond_all\\\\cond7_all\\\\ds_41_F02-T01.tiff', 'G:\\\\classification\\\\cond_all\\\\cond7_all\\\\ds_62_C10-T01.tiff', 'G:\\\\classification\\\\cond_all\\\\sd\\\\RBT04_E11-T01.tiff', 'G:\\\\classification\\\\cond_all\\\\sd\\\\RBT10_F09-T01.tiff', 'G:\\\\classification\\\\cond_all\\\\cond7_all\\\\ds_42_D06-T01.tiff', 'G:\\\\classification\\\\cond_all\\\\cond7_all\\\\ds_52_D05-T01.tiff', 'G:\\\\classification\\\\cond_all\\\\cond7_all\\\\ds_62_F07-T01.tiff', 'G:\\\\classification\\\\cond_all\\\\cond7_all\\\\ds_41_C03-T01.tiff', 'G:\\\\classification\\\\cond_all\\\\cond7_all\\\\ds_62_B03-T01.tiff', 'G:\\\\classification\\\\cond_all\\\\cond7_all\\\\ds_1B_F05-T01.tiff', 'G:\\\\classification\\\\cond_all\\\\cond7_all\\\\ds_52_F08-T01.tiff', 'G:\\\\classification\\\\cond_all\\\\cond7_all\\\\ds_1B_C02-T01.tiff', 'G:\\\\classification\\\\cond_all\\\\cond7_all\\\\ds_42_C02-T01.tiff']\n"
     ]
    },
    {
     "name": "stderr",
     "output_type": "stream",
     "text": [
      " 85%|████████▍ | 33/39 [00:23<00:04,  1.45it/s]"
     ]
    },
    {
     "name": "stdout",
     "output_type": "stream",
     "text": [
      "Batch features shape: torch.Size([16, 20])\n",
      "Batch labels shape: torch.Size([16])\n",
      "Batch labels shape: ['G:\\\\classification\\\\cond_all\\\\cond7_all\\\\sd_04_E07-T01.tiff', 'G:\\\\classification\\\\cond_all\\\\cond7_all\\\\ds_1B_F04-T01.tiff', 'G:\\\\classification\\\\cond_all\\\\sd\\\\RBT04_E09-T01.tiff', 'G:\\\\classification\\\\cond_all\\\\cond7_all\\\\ds_1B_C07-T01.tiff', 'G:\\\\classification\\\\cond_all\\\\cond7_all\\\\ds_41_E07-T01.tiff', 'G:\\\\classification\\\\cond_all\\\\sd\\\\RBT04_E08-T01.tiff', 'G:\\\\classification\\\\cond_all\\\\sd\\\\RBT09_G09-T01.tiff', 'G:\\\\classification\\\\cond_all\\\\cond7_all\\\\ds_41_D03-T01.tiff', 'G:\\\\classification\\\\cond_all\\\\cond7_all\\\\ds_1B_C11-T01.tiff', 'G:\\\\classification\\\\cond_all\\\\cond7_all\\\\ds_61_B06-T01.tiff', 'G:\\\\classification\\\\cond_all\\\\cond7_all\\\\ds_41_D04-T01.tiff', 'G:\\\\classification\\\\cond_all\\\\cond7_all\\\\ds_52_F09-T01.tiff', 'G:\\\\classification\\\\cond_all\\\\cond7_all\\\\ds_61_G03-T01.tiff', 'G:\\\\classification\\\\cond_all\\\\cond7_all\\\\ds_1B_D09-T01.tiff', 'G:\\\\classification\\\\cond_all\\\\cond7_all\\\\ds_61_D08-T01.tiff', 'G:\\\\classification\\\\cond_all\\\\sd\\\\RBT09_G10-T01.tiff']\n"
     ]
    },
    {
     "name": "stderr",
     "output_type": "stream",
     "text": [
      " 87%|████████▋ | 34/39 [00:23<00:03,  1.47it/s]"
     ]
    },
    {
     "name": "stdout",
     "output_type": "stream",
     "text": [
      "Batch features shape: torch.Size([16, 20])\n",
      "Batch labels shape: torch.Size([16])\n",
      "Batch labels shape: ['G:\\\\classification\\\\cond_all\\\\cond7_all\\\\ds_61_G06-T01.tiff', 'G:\\\\classification\\\\cond_all\\\\cond7_all\\\\ds_61_B11-T01.tiff', 'G:\\\\classification\\\\cond_all\\\\cond7_all\\\\ds_61_C07-T01.tiff', 'G:\\\\classification\\\\cond_all\\\\cond7_all\\\\ds_52_G11-T01.tiff', 'G:\\\\classification\\\\cond_all\\\\sd\\\\RBT04_C07-T01.tiff', 'G:\\\\classification\\\\cond_all\\\\ex\\\\ds61_g9_C07-T01.tiff', 'G:\\\\classification\\\\cond_all\\\\cond7_all\\\\ds_1B_B06-T01.tiff', 'G:\\\\classification\\\\cond_all\\\\cond7_all\\\\ds_62_E07-T01.tiff', 'G:\\\\classification\\\\cond_all\\\\cond7_all\\\\ds_52_D10-T01.tiff', 'G:\\\\classification\\\\cond_all\\\\cond7_all\\\\ds_61_G02-T01.tiff', 'G:\\\\classification\\\\cond_all\\\\cond7_all\\\\sd_04_E03-T01.tiff', 'G:\\\\classification\\\\cond_all\\\\cond7_all\\\\ds_61_B10-T01.tiff', 'G:\\\\classification\\\\cond_all\\\\sd\\\\RBT09_B08-T01.tiff', 'G:\\\\classification\\\\cond_all\\\\cond7_all\\\\ds_41_E05-T01.tiff', 'G:\\\\classification\\\\cond_all\\\\cond7_all\\\\ds_51_E05-T01.tiff', 'G:\\\\classification\\\\cond_all\\\\cond7_all\\\\ds_61_D07-T01.tiff']\n"
     ]
    },
    {
     "name": "stderr",
     "output_type": "stream",
     "text": [
      " 90%|████████▉ | 35/39 [00:24<00:02,  1.47it/s]"
     ]
    },
    {
     "name": "stdout",
     "output_type": "stream",
     "text": [
      "Batch features shape: torch.Size([16, 20])\n",
      "Batch labels shape: torch.Size([16])\n",
      "Batch labels shape: ['G:\\\\classification\\\\cond_all\\\\cond7_all\\\\ds_41_G11-T01.tiff', 'G:\\\\classification\\\\cond_all\\\\cond7_all\\\\ds_52_B08-T01.tiff', 'G:\\\\classification\\\\cond_all\\\\ex\\\\ds62_g9_C07-T01.tiff', 'G:\\\\classification\\\\cond_all\\\\sd\\\\RBT04_D08-T01.tiff', 'G:\\\\classification\\\\cond_all\\\\cond7_all\\\\ds_62_D09-T01.tiff', 'G:\\\\classification\\\\cond_all\\\\cond7_all\\\\ds_52_F06-T01.tiff', 'G:\\\\classification\\\\cond_all\\\\cond7_all\\\\ds_51_G02-T01.tiff', 'G:\\\\classification\\\\cond_all\\\\cond7_all\\\\ds_51_E07-T01.tiff', 'G:\\\\classification\\\\cond_all\\\\cond7_all\\\\ds_51_E11-T01.tiff', 'G:\\\\classification\\\\cond_all\\\\sd\\\\RBT10_C07-T01.tiff', 'G:\\\\classification\\\\cond_all\\\\sd\\\\RBT09_B10-T01.tiff', 'G:\\\\classification\\\\cond_all\\\\cond7_all\\\\sd_04_E04-T01.tiff', 'G:\\\\classification\\\\cond_all\\\\cond7_all\\\\ds_1B_D02-T01.tiff', 'G:\\\\classification\\\\cond_all\\\\sd\\\\RBT10_G09-T01.tiff', 'G:\\\\classification\\\\cond_all\\\\ex\\\\ds61_g8_B08-T01.tiff', 'G:\\\\classification\\\\cond_all\\\\sd\\\\RBT10_C10-T01.tiff']\n"
     ]
    },
    {
     "name": "stderr",
     "output_type": "stream",
     "text": [
      " 92%|█████████▏| 36/39 [00:25<00:02,  1.45it/s]"
     ]
    },
    {
     "name": "stdout",
     "output_type": "stream",
     "text": [
      "Batch features shape: torch.Size([16, 20])\n",
      "Batch labels shape: torch.Size([16])\n",
      "Batch labels shape: ['G:\\\\classification\\\\cond_all\\\\cond7_all\\\\ds_61_F10-T01.tiff', 'G:\\\\classification\\\\cond_all\\\\ex\\\\ds61_g6_F03-T01.tiff', 'G:\\\\classification\\\\cond_all\\\\cond7_all\\\\sd_04_B11-T01.tiff', 'G:\\\\classification\\\\cond_all\\\\cond7_all\\\\ds_52_C02-T01.tiff', 'G:\\\\classification\\\\cond_all\\\\sd\\\\RBT10_G08-T01.tiff', 'G:\\\\classification\\\\cond_all\\\\cond7_all\\\\ds_1B_D03-T01.tiff', 'G:\\\\classification\\\\cond_all\\\\cond7_all\\\\ds_61_E03-T01.tiff', 'G:\\\\classification\\\\cond_all\\\\cond7_all\\\\ds_61_D10-T01.tiff', 'G:\\\\classification\\\\cond_all\\\\cond7_all\\\\sd_04_G09-T01.tiff', 'G:\\\\classification\\\\cond_all\\\\cond7_all\\\\ds_41_F07-T01.tiff', 'G:\\\\classification\\\\cond_all\\\\cond7_all\\\\ds_42_C03-T01.tiff', 'G:\\\\classification\\\\cond_all\\\\cond7_all\\\\ds_42_D05-T01.tiff', 'G:\\\\classification\\\\cond_all\\\\cond7_all\\\\sd_04_G06-T01.tiff', 'G:\\\\classification\\\\cond_all\\\\cond7_all\\\\ds_41_F03-T01.tiff', 'G:\\\\classification\\\\cond_all\\\\cond7_all\\\\ds_51_C08-T01.tiff', 'G:\\\\classification\\\\cond_all\\\\cond7_all\\\\ds_1B_G10-T01.tiff']\n",
      "Batch features shape: torch.Size([16, 20])\n",
      "Batch labels shape: torch.Size([16])\n",
      "Batch labels shape: ['G:\\\\classification\\\\cond_all\\\\sd\\\\RBT10_C11-T01.tiff', 'G:\\\\classification\\\\cond_all\\\\cond7_all\\\\ds_52_E10-T01.tiff', 'G:\\\\classification\\\\cond_all\\\\sd\\\\RBT10_E09-T01.tiff', 'G:\\\\classification\\\\cond_all\\\\cond7_all\\\\ds_62_B05-T01.tiff', 'G:\\\\classification\\\\cond_all\\\\sd\\\\RBT04_D07-T01.tiff', 'G:\\\\classification\\\\cond_all\\\\cond7_all\\\\ds_1B_C04-T01.tiff', 'G:\\\\classification\\\\cond_all\\\\ex\\\\ds61_g3_C06-T01.tiff', 'G:\\\\classification\\\\cond_all\\\\cond7_all\\\\ds_42_F07-T01.tiff', 'G:\\\\classification\\\\cond_all\\\\sd\\\\RBT09_C11-T01.tiff', 'G:\\\\classification\\\\cond_all\\\\cond7_all\\\\ds_62_G06-T01.tiff', 'G:\\\\classification\\\\cond_all\\\\sd\\\\RBT04_B08-T01.tiff', 'G:\\\\classification\\\\cond_all\\\\cond7_all\\\\sd_04_C07-T01.tiff', 'G:\\\\classification\\\\cond_all\\\\cond7_all\\\\ds_51_F08-T01.tiff', 'G:\\\\classification\\\\cond_all\\\\sd\\\\RBT04_G10-T01.tiff', 'G:\\\\classification\\\\cond_all\\\\cond7_all\\\\ds_61_G05-T01.tiff', 'G:\\\\classification\\\\cond_all\\\\sd\\\\RBT04_B10-T01.tiff']\n"
     ]
    },
    {
     "name": "stderr",
     "output_type": "stream",
     "text": [
      " 97%|█████████▋| 38/39 [00:26<00:00,  1.39it/s]"
     ]
    },
    {
     "name": "stdout",
     "output_type": "stream",
     "text": [
      "Batch features shape: torch.Size([16, 20])\n",
      "Batch labels shape: torch.Size([16])\n",
      "Batch labels shape: ['G:\\\\classification\\\\cond_all\\\\cond7_all\\\\ds_52_G02-T01.tiff', 'G:\\\\classification\\\\cond_all\\\\cond7_all\\\\ds_41_D09-T01.tiff', 'G:\\\\classification\\\\cond_all\\\\sd\\\\RBT09_E07-T01.tiff', 'G:\\\\classification\\\\cond_all\\\\sd\\\\RBT14_B10-T01.tiff', 'G:\\\\classification\\\\cond_all\\\\cond7_all\\\\sd_04_B10-T01.tiff', 'G:\\\\classification\\\\cond_all\\\\sd\\\\RBT10_G11-T01.tiff', 'G:\\\\classification\\\\cond_all\\\\cond7_all\\\\ds_52_G10-T01.tiff', 'G:\\\\classification\\\\cond_all\\\\sd\\\\RBT04_E10-T01.tiff', 'G:\\\\classification\\\\cond_all\\\\cond7_all\\\\ds_42_E07-T01.tiff', 'G:\\\\classification\\\\cond_all\\\\cond7_all\\\\ds_62_G10-T01.tiff', 'G:\\\\classification\\\\cond_all\\\\cond7_all\\\\ds_62_D05-T01.tiff', 'G:\\\\classification\\\\cond_all\\\\cond7_all\\\\sd_04_D09-T01.tiff', 'G:\\\\classification\\\\cond_all\\\\cond7_all\\\\ds_41_F09-T01.tiff', 'G:\\\\classification\\\\cond_all\\\\cond7_all\\\\ds_52_D03-T01.tiff', 'G:\\\\classification\\\\cond_all\\\\cond7_all\\\\ds_52_F10-T01.tiff', 'G:\\\\classification\\\\cond_all\\\\cond7_all\\\\ds_51_F09-T01.tiff']\n"
     ]
    },
    {
     "name": "stderr",
     "output_type": "stream",
     "text": [
      "100%|██████████| 39/39 [00:27<00:00,  1.44it/s]"
     ]
    },
    {
     "name": "stdout",
     "output_type": "stream",
     "text": [
      "Batch features shape: torch.Size([7, 20])\n",
      "Batch labels shape: torch.Size([7])\n",
      "Batch labels shape: ['G:\\\\classification\\\\cond_all\\\\sd\\\\RBT10_D08-T01.tiff', 'G:\\\\classification\\\\cond_all\\\\cond7_all\\\\sd_04_B08-T01.tiff', 'G:\\\\classification\\\\cond_all\\\\cond7_all\\\\ds_52_D06-T01.tiff', 'G:\\\\classification\\\\cond_all\\\\cond7_all\\\\ds_41_B11-T01.tiff', 'G:\\\\classification\\\\cond_all\\\\sd\\\\RBT14_C11-T01.tiff', 'G:\\\\classification\\\\cond_all\\\\sd\\\\RBT09_D08-T01.tiff', 'G:\\\\classification\\\\cond_all\\\\cond7_all\\\\ds_52_E03-T01.tiff']\n",
      "Features shape after concatenation: torch.Size([615, 20])\n",
      "Labels shape after concatenation: torch.Size([615])\n",
      "Number of paths after concatenation: 615\n"
     ]
    },
    {
     "name": "stderr",
     "output_type": "stream",
     "text": [
      "\n"
     ]
    }
   ],
   "source": [
    "# Extract features for train and test datasets\n",
    "feats, labels, paths = prepare_data_features(simclr_model, loader_labeled)"
   ]
  },
  {
   "cell_type": "markdown",
   "metadata": {},
   "source": [
    "UMAP"
   ]
  },
  {
   "cell_type": "markdown",
   "metadata": {},
   "source": [
    "import umap\n",
    "import matplotlib.pyplot as plt\n",
    "import numpy as np\n",
    "\n",
    "# Assuming feats is a tensor of shape (N, feature_size), where N is the number of samples and feature_size is the dimensionality of the features\n",
    "# You can reduce the dimensionality of feats with UMAP\n",
    "\n",
    "# Convert feats to numpy array\n",
    "feats_np = feats.detach().cpu().numpy()\n",
    "\n",
    "# 2D UMAP projection\n",
    "umap_2d = umap.UMAP(n_components=2, random_state=42)\n",
    "feats_2d = umap_2d.fit_transform(feats_np)\n",
    "\n",
    "# 1D UMAP projection\n",
    "umap_1d = umap.UMAP(n_components=1, random_state=42)\n",
    "feats_1d = umap_1d.fit_transform(feats_np)\n",
    "\n",
    "# Plot 2D UMAP\n",
    "plt.figure(figsize=(10, 6))\n",
    "plt.scatter(feats_2d[:, 0], feats_2d[:, 1], c=labels, cmap='viridis', edgecolors='k', s=50)\n",
    "plt.colorbar(label='Class Label')\n",
    "plt.title('2D UMAP projection of features')\n",
    "plt.xlabel('UMAP 1')\n",
    "plt.ylabel('UMAP 2')\n",
    "plt.show()\n",
    "\n",
    "# Plot 1D UMAP\n",
    "plt.figure(figsize=(10, 6))\n",
    "plt.scatter(feats_1d, np.zeros_like(feats_1d), c=labels, cmap='viridis', edgecolors='k', s=50)\n",
    "plt.colorbar(label='Class Label')\n",
    "plt.title('1D UMAP projection of features')\n",
    "plt.xlabel('UMAP 1D')\n",
    "plt.yticks([])  # Hide the y-axis ticks since it's all zeros\n",
    "plt.show()\n"
   ]
  },
  {
   "cell_type": "markdown",
   "metadata": {},
   "source": [
    "# 1D UMAP projection\n",
    "import umap\n",
    "umap_1d = umap.UMAP(n_components=1, random_state=42)\n",
    "feats_1d = umap_1d.fit_transform(feats_np)\n",
    "\n",
    "# Plot 1D UMAP with y-axis set to the class labels\n",
    "plt.figure(figsize=(10, 6))\n",
    "# Use feats_1d[:, 0] for x-values and labels for y-values\n",
    "plt.scatter(feats_1d[:, 0], labels, c=labels, cmap='viridis', edgecolors='k', s=50)\n",
    "plt.colorbar(label='Class Label')\n",
    "plt.title('1D UMAP Projection with Class Separation')\n",
    "plt.xlabel('UMAP 1D')\n",
    "plt.ylabel('Class Label')\n",
    "plt.yticks(np.unique(labels))  # Ensure y-axis ticks match the unique class labels\n",
    "plt.show()\n"
   ]
  },
  {
   "cell_type": "markdown",
   "metadata": {},
   "source": [
    "import numpy as np\n",
    "import matplotlib.pyplot as plt\n",
    "import umap\n",
    "\n",
    "# Assuming feats_np and labels are already defined from your UMAP pipeline\n",
    "# For example:\n",
    "# feats_np = ...   # Your features in NumPy format\n",
    "# labels = ...     # Corresponding class labels (e.g., 0, 1, 2)\n",
    "\n",
    "# 1D UMAP projection\n",
    "umap_1d = umap.UMAP(n_components=1, random_state=42)\n",
    "feats_1d = umap_1d.fit_transform(feats_np)  # feats_1d shape: (N, 1)\n",
    "\n",
    "# Plot 1D UMAP with y-axis set to the class labels\n",
    "plt.figure(figsize=(10, 6))\n",
    "plt.scatter(feats_1d[:, 0], labels, c=labels, cmap='viridis', edgecolors='k', s=50)\n",
    "plt.colorbar(label='Class Label')\n",
    "plt.title('1D UMAP Projection with Class Separation')\n",
    "plt.xlabel('UMAP 1D')\n",
    "plt.ylabel('Class Label')\n",
    "plt.yticks(np.unique(labels))  # Ensure y-axis ticks match the unique class labels\n",
    "plt.show()\n",
    "\n",
    "# -----------------------------------------------\n",
    "# Step 1: Compute mean, min, and max UMAP values for each class\n",
    "# -----------------------------------------------\n",
    "unique_classes = np.unique(labels)\n",
    "class_means = {}\n",
    "class_min_max = {}\n",
    "\n",
    "for cls in unique_classes:\n",
    "    # Extract UMAP values for the current class\n",
    "    cls_indices = np.where(labels == cls)[0]\n",
    "    cls_umap_values = feats_1d[cls_indices, 0]\n",
    "    # Compute mean, min, and max for the class\n",
    "    class_means[cls] = np.mean(cls_umap_values)\n",
    "    class_min_max[cls] = {\n",
    "        'min': np.min(cls_umap_values),\n",
    "        'max': np.max(cls_umap_values)\n",
    "    }\n",
    "\n",
    "# Print the mean UMAP value for each class\n",
    "print(\"Mean UMAP value for each class:\")\n",
    "for cls in unique_classes:\n",
    "    print(f\"Class {cls}: {class_means[cls]:.4f}\")\n",
    "\n",
    "# -----------------------------------------------\n",
    "# Print min and max UMAP values for all classes\n",
    "# -----------------------------------------------\n",
    "print(\"\\nMin and Max UMAP values for each class:\")\n",
    "for cls in unique_classes:\n",
    "    print(f\"Class {cls}: min = {class_min_max[cls]['min']:.4f}, max = {class_min_max[cls]['max']:.4f}\")\n",
    "\n",
    "# -----------------------------------------------\n",
    "# Step 2: Determine the middle class (median mean)\n",
    "# -----------------------------------------------\n",
    "# Sort classes by their mean UMAP value\n",
    "sorted_classes = sorted(class_means.keys(), key=lambda x: class_means[x])\n",
    "# For three classes, the one at index 1 is the middle class\n",
    "middle_class = sorted_classes[1]\n",
    "print(f\"\\nMiddle Class (by mean UMAP value): {middle_class}\")\n",
    "\n",
    "middle_min = class_min_max[middle_class]['min']\n",
    "middle_max = class_min_max[middle_class]['max']\n",
    "print(f\"Middle class UMAP range: {middle_min:.4f} to {middle_max:.4f}\")\n",
    "\n",
    "# -----------------------------------------------\n",
    "# Step 3: Count misclassified points from the first class\n",
    "# (Points from first class that exceed the minimum of the middle class)\n",
    "# -----------------------------------------------\n",
    "first_class = sorted_classes[0]\n",
    "first_cls_indices = np.where(labels == first_class)[0]\n",
    "first_cls_umap = feats_1d[first_cls_indices, 0]\n",
    "# Count how many first class points are greater than middle_min\n",
    "count_first_exceed = np.sum(first_cls_umap > middle_min)\n",
    "print(f\"\\nNumber of data points from first class (class {first_class}) that passed the minimum UMAP value of the middle class: {count_first_exceed}\")\n",
    "\n",
    "# -----------------------------------------------\n",
    "# Step 4: Count misclassified points from the third class\n",
    "# (Points from third class that are below the maximum of the middle class)\n",
    "# -----------------------------------------------\n",
    "third_class = sorted_classes[2]\n",
    "third_cls_indices = np.where(labels == third_class)[0]\n",
    "third_cls_umap = feats_1d[third_cls_indices, 0]\n",
    "# Count how many third class points are less than middle_max\n",
    "count_third_before = np.sum(third_cls_umap < middle_max)\n",
    "print(f\"Number of data points from third class (class {third_class}) that lie before the maximum UMAP value of the middle class: {count_third_before}\")\n",
    "\n",
    "# -----------------------------------------------\n",
    "# Step 5: Compute Accuracy\n",
    "# Accuracy = (total datapoints - misclassified points from first and third classes) / total datapoints\n",
    "# -----------------------------------------------\n",
    "total_misclassified = count_first_exceed + count_third_before\n",
    "total_datapoints = feats_1d.shape[0]\n",
    "accuracy = (total_datapoints - total_misclassified) / total_datapoints\n",
    "print(f\"\\nAccuracy: {accuracy:.4f}\")\n"
   ]
  },
  {
   "cell_type": "markdown",
   "metadata": {},
   "source": [
    "tsne"
   ]
  },
  {
   "cell_type": "code",
   "execution_count": 12,
   "metadata": {},
   "outputs": [
    {
     "name": "stdout",
     "output_type": "stream",
     "text": [
      "Running t-SNE...\n"
     ]
    },
    {
     "name": "stderr",
     "output_type": "stream",
     "text": [
      "c:\\Users\\k54739\\.conda\\envs\\master\\Lib\\site-packages\\sklearn\\manifold\\_t_sne.py:1162: FutureWarning: 'n_iter' was renamed to 'max_iter' in version 1.5 and will be removed in 1.7.\n",
      "  warnings.warn(\n"
     ]
    },
    {
     "data": {
      "image/png": "[encoded data removed]",
      "text/plain": [
       "<Figure size 1000x800 with 1 Axes>"
      ]
     },
     "metadata": {},
     "output_type": "display_data"
    }
   ],
   "source": [
    "import matplotlib.pyplot as plt\n",
    "import numpy as np\n",
    "from sklearn.manifold import TSNE\n",
    "import seaborn as sns\n",
    "\n",
    "# Perform t-SNE\n",
    "perplexity = 30  # You can tune this parameter\n",
    "n_iter = 1000  # Number of iterations for optimization\n",
    "\n",
    "# Convert features to NumPy array if they are in tensor form\n",
    "feats_np = feats.numpy() if isinstance(feats, torch.Tensor) else feats\n",
    "labels_np = labels.numpy() if isinstance(labels, torch.Tensor) else labels\n",
    "\n",
    "# Apply t-SNE\n",
    "print(\"Running t-SNE...\")\n",
    "tsne = TSNE(n_components=2, perplexity=perplexity, n_iter=n_iter, random_state=42)\n",
    "feats_2d = tsne.fit_transform(feats_np)\n",
    "\n",
    "# Define colors for the different classes\n",
    "num_classes = len(np.unique(labels_np))\n",
    "colors = plt.cm.rainbow(np.linspace(0, 1, num_classes))\n",
    "\n",
    "# Create a scatter plot\n",
    "plt.figure(figsize=(10, 8))\n",
    "for i, color in zip(np.unique(labels_np), colors):\n",
    "    plt.scatter(feats_2d[labels_np == i, 0], feats_2d[labels_np == i, 1], label=f'Class {i}', color=color, alpha=0.7, edgecolors='k')\n",
    "\n",
    "plt.title(\"2D t-SNE Visualization of Features\")\n",
    "plt.xlabel(\"t-SNE Component 1\")\n",
    "plt.ylabel(\"t-SNE Component 2\")\n",
    "plt.legend(title=\"Class\", loc='best')\n",
    "plt.grid(True)\n",
    "plt.show()\n"
   ]
  },
  {
   "cell_type": "code",
   "execution_count": 13,
   "metadata": {},
   "outputs": [
    {
     "name": "stdout",
     "output_type": "stream",
     "text": [
      "Running 1D t-SNE...\n"
     ]
    },
    {
     "name": "stderr",
     "output_type": "stream",
     "text": [
      "c:\\Users\\k54739\\.conda\\envs\\master\\Lib\\site-packages\\sklearn\\manifold\\_t_sne.py:1162: FutureWarning: 'n_iter' was renamed to 'max_iter' in version 1.5 and will be removed in 1.7.\n",
      "  warnings.warn(\n"
     ]
    },
    {
     "name": "stdout",
     "output_type": "stream",
     "text": [
      "\n",
      "Paths and t-SNE Scores (Ascending Order):\n",
      "G:\\classification\\cond_all\\sd\\RBT09_C07-T01.tiff: -53.8648\n",
      "G:\\classification\\cond_all\\sd\\RBT10_C08-T01.tiff: -53.8095\n",
      "G:\\classification\\cond_all\\sd\\RBT10_B08-T01.tiff: -53.6969\n",
      "G:\\classification\\cond_all\\sd\\RBT10_D09-T01.tiff: -53.4365\n",
      "G:\\classification\\cond_all\\sd\\RBT09_D08-T01.tiff: -53.3865\n",
      "G:\\classification\\cond_all\\sd\\RBT10_F08-T01.tiff: -53.0822\n",
      "G:\\classification\\cond_all\\sd\\RBT09_D07-T01.tiff: -53.0024\n",
      "G:\\classification\\cond_all\\sd\\RBT10_G07-T01.tiff: -52.9090\n",
      "G:\\classification\\cond_all\\sd\\RBT10_F10-T01.tiff: -52.8844\n",
      "G:\\classification\\cond_all\\sd\\RBT10_C10-T01.tiff: -52.7773\n",
      "G:\\classification\\cond_all\\sd\\RBT10_F11-T01.tiff: -52.7440\n",
      "G:\\classification\\cond_all\\sd\\RBT10_E11-T01.tiff: -52.7072\n",
      "G:\\classification\\cond_all\\sd\\RBT09_E07-T01.tiff: -52.3247\n",
      "G:\\classification\\cond_all\\sd\\RBT10_D11-T01.tiff: -52.3097\n",
      "G:\\classification\\cond_all\\sd\\RBT10_B10-T01.tiff: -52.1536\n",
      "G:\\classification\\cond_all\\sd\\RBT10_B09-T01.tiff: -51.9705\n",
      "G:\\classification\\cond_all\\sd\\RBT10_D08-T01.tiff: -51.8858\n",
      "G:\\classification\\cond_all\\sd\\RBT10_C09-T01.tiff: -51.7516\n",
      "G:\\classification\\cond_all\\sd\\RBT10_G10-T01.tiff: -51.7173\n",
      "G:\\classification\\cond_all\\sd\\RBT10_E09-T01.tiff: -51.3266\n",
      "G:\\classification\\cond_all\\sd\\RBT10_D10-T01.tiff: -51.2458\n",
      "G:\\classification\\cond_all\\sd\\RBT10_F07-T01.tiff: -51.0500\n",
      "G:\\classification\\cond_all\\sd\\RBT09_G09-T01.tiff: -51.0098\n",
      "G:\\classification\\cond_all\\sd\\RBT09_D09-T01.tiff: -50.8450\n",
      "G:\\classification\\cond_all\\sd\\RBT09_D10-T01.tiff: -50.7554\n",
      "G:\\classification\\cond_all\\sd\\RBT10_C07-T01.tiff: -50.7530\n",
      "G:\\classification\\cond_all\\sd\\RBT10_D07-T01.tiff: -50.7242\n",
      "G:\\classification\\cond_all\\sd\\RBT10_E07-T01.tiff: -50.6746\n",
      "G:\\classification\\cond_all\\sd\\RBT09_D11-T01.tiff: -50.3708\n",
      "G:\\classification\\cond_all\\sd\\RBT09_G10-T01.tiff: -50.2627\n",
      "G:\\classification\\cond_all\\sd\\RBT10_G11-T01.tiff: -50.1860\n",
      "G:\\classification\\cond_all\\sd\\RBT10_G09-T01.tiff: -50.0791\n",
      "G:\\classification\\cond_all\\sd\\RBT10_E10-T01.tiff: -50.0187\n",
      "G:\\classification\\cond_all\\sd\\RBT10_B07-T01.tiff: -50.0000\n",
      "G:\\classification\\cond_all\\sd\\RBT09_C09-T01.tiff: -49.9775\n",
      "G:\\classification\\cond_all\\sd\\RBT09_G11-T01.tiff: -49.7203\n",
      "G:\\classification\\cond_all\\sd\\RBT09_E08-T01.tiff: -49.6743\n",
      "G:\\classification\\cond_all\\sd\\RBT10_F09-T01.tiff: -49.6341\n",
      "G:\\classification\\cond_all\\sd\\RBT09_C11-T01.tiff: -49.4354\n",
      "G:\\classification\\cond_all\\sd\\RBT09_C10-T01.tiff: -49.2450\n",
      "G:\\classification\\cond_all\\sd\\RBT14_D08-T01.tiff: -49.1184\n",
      "G:\\classification\\cond_all\\sd\\RBT10_B11-T01.tiff: -48.8489\n",
      "G:\\classification\\cond_all\\sd\\RBT10_G08-T01.tiff: -48.7413\n",
      "G:\\classification\\cond_all\\sd\\RBT10_C11-T01.tiff: -48.5705\n",
      "G:\\classification\\cond_all\\sd\\RBT09_B09-T01.tiff: -48.4442\n",
      "G:\\classification\\cond_all\\sd\\RBT14_D07-T01.tiff: -48.2032\n",
      "G:\\classification\\cond_all\\sd\\RBT14_D09-T01.tiff: -47.9983\n",
      "G:\\classification\\cond_all\\sd\\RBT09_B10-T01.tiff: -47.9928\n",
      "G:\\classification\\cond_all\\sd\\RBT14_C09-T01.tiff: -47.9121\n",
      "G:\\classification\\cond_all\\sd\\RBT14_C07-T01.tiff: -47.8301\n",
      "G:\\classification\\cond_all\\sd\\RBT14_B08-T01.tiff: -47.6703\n",
      "G:\\classification\\cond_all\\sd\\RBT14_C08-T01.tiff: -47.4095\n",
      "G:\\classification\\cond_all\\sd\\RBT09_B11-T01.tiff: -47.3704\n",
      "G:\\classification\\cond_all\\sd\\RBT14_D10-T01.tiff: -47.2933\n",
      "G:\\classification\\cond_all\\sd\\RBT14_C10-T01.tiff: -47.2017\n",
      "G:\\classification\\cond_all\\sd\\RBT14_B07-T01.tiff: -47.1042\n",
      "G:\\classification\\cond_all\\sd\\RBT14_B09-T01.tiff: -47.0627\n",
      "G:\\classification\\cond_all\\sd\\RBT14_D11-T01.tiff: -46.7501\n",
      "G:\\classification\\cond_all\\sd\\RBT14_B10-T01.tiff: -46.7101\n",
      "G:\\classification\\cond_all\\sd\\RBT14_C11-T01.tiff: -46.6962\n",
      "G:\\classification\\cond_all\\sd\\RBT14_B11-T01.tiff: -46.6786\n",
      "G:\\classification\\cond_all\\sd\\RBT09_B08-T01.tiff: -45.2621\n",
      "G:\\classification\\cond_all\\sd\\RBT09_B07-T01.tiff: -45.2465\n",
      "G:\\classification\\cond_all\\sd\\RBT09_G08-T01.tiff: -44.9861\n",
      "G:\\classification\\cond_all\\sd\\RBT09_F08-T01.tiff: -44.8881\n",
      "G:\\classification\\cond_all\\sd\\RBT09_G07-T01.tiff: -44.8872\n",
      "G:\\classification\\cond_all\\sd\\RBT09_F11-T01.tiff: -44.7028\n",
      "G:\\classification\\cond_all\\sd\\RBT09_E11-T01.tiff: -44.4127\n",
      "G:\\classification\\cond_all\\sd\\RBT09_F10-T01.tiff: -44.0706\n",
      "G:\\classification\\cond_all\\sd\\RBT09_E09-T01.tiff: -44.0525\n",
      "G:\\classification\\cond_all\\sd\\RBT09_C08-T01.tiff: -44.0056\n",
      "G:\\classification\\cond_all\\sd\\RBT09_F07-T01.tiff: -44.0007\n",
      "G:\\classification\\cond_all\\sd\\RBT09_E10-T01.tiff: -43.9882\n",
      "G:\\classification\\cond_all\\sd\\RBT09_F09-T01.tiff: -43.9540\n",
      "G:\\classification\\cond_all\\sd\\RBT04_G08-T01.tiff: -43.2842\n",
      "G:\\classification\\cond_all\\sd\\RBT04_E09-T01.tiff: -42.8347\n",
      "G:\\classification\\cond_all\\sd\\RBT04_F07-T01.tiff: -42.7577\n",
      "G:\\classification\\cond_all\\sd\\RBT04_F11-T01.tiff: -42.6920\n",
      "G:\\classification\\cond_all\\sd\\RBT04_C08-T01.tiff: -42.2127\n",
      "G:\\classification\\cond_all\\sd\\RBT04_E10-T01.tiff: -42.1044\n",
      "G:\\classification\\cond_all\\sd\\RBT04_E11-T01.tiff: -42.0805\n",
      "G:\\classification\\cond_all\\sd\\RBT04_E08-T01.tiff: -41.9639\n",
      "G:\\classification\\cond_all\\sd\\RBT04_D09-T01.tiff: -41.8130\n",
      "G:\\classification\\cond_all\\sd\\RBT04_D08-T01.tiff: -41.7664\n",
      "G:\\classification\\cond_all\\sd\\RBT04_G07-T01.tiff: -41.7588\n",
      "G:\\classification\\cond_all\\sd\\RBT04_B08-T01.tiff: -41.7059\n",
      "G:\\classification\\cond_all\\sd\\RBT04_B10-T01.tiff: -41.7034\n",
      "G:\\classification\\cond_all\\sd\\RBT04_B09-T01.tiff: -41.6436\n",
      "G:\\classification\\cond_all\\sd\\RBT04_F09-T01.tiff: -41.5661\n",
      "G:\\classification\\cond_all\\sd\\RBT04_F08-T01.tiff: -41.3753\n",
      "G:\\classification\\cond_all\\sd\\RBT04_D11-T01.tiff: -41.2646\n",
      "G:\\classification\\cond_all\\sd\\RBT04_C09-T01.tiff: -41.2311\n",
      "G:\\classification\\cond_all\\sd\\RBT04_F10-T01.tiff: -41.1482\n",
      "G:\\classification\\cond_all\\sd\\RBT04_D10-T01.tiff: -41.0332\n",
      "G:\\classification\\cond_all\\sd\\RBT04_G09-T01.tiff: -40.8280\n",
      "G:\\classification\\cond_all\\sd\\RBT04_B07-T01.tiff: -40.8272\n",
      "G:\\classification\\cond_all\\sd\\RBT04_D07-T01.tiff: -40.6980\n",
      "G:\\classification\\cond_all\\sd\\RBT04_B11-T01.tiff: -40.6801\n",
      "G:\\classification\\cond_all\\sd\\RBT04_C07-T01.tiff: -40.6726\n",
      "G:\\classification\\cond_all\\sd\\RBT04_E07-T01.tiff: -40.3231\n",
      "G:\\classification\\cond_all\\sd\\RBT04_C10-T01.tiff: -40.2456\n",
      "G:\\classification\\cond_all\\sd\\RBT04_G10-T01.tiff: -40.1665\n",
      "G:\\classification\\cond_all\\sd\\RBT04_G11-T01.tiff: -40.0601\n",
      "G:\\classification\\cond_all\\cond7_all\\ds_52_E08-T01.tiff: -38.8820\n",
      "G:\\classification\\cond_all\\cond7_all\\ds_61_B10-T01.tiff: -32.1374\n",
      "G:\\classification\\cond_all\\cond7_all\\ds_61_F02-T01.tiff: -32.1285\n",
      "G:\\classification\\cond_all\\cond7_all\\ds_62_F04-T01.tiff: -31.9756\n",
      "G:\\classification\\cond_all\\cond7_all\\ds_62_F02-T01.tiff: -31.6825\n",
      "G:\\classification\\cond_all\\cond7_all\\ds_62_F06-T01.tiff: -31.6721\n",
      "G:\\classification\\cond_all\\cond7_all\\ds_62_E06-T01.tiff: -31.4964\n",
      "G:\\classification\\cond_all\\cond7_all\\ds_62_C07-T01.tiff: -31.4312\n",
      "G:\\classification\\cond_all\\cond7_all\\ds_62_E04-T01.tiff: -31.3324\n",
      "G:\\classification\\cond_all\\cond7_all\\ds_61_G03-T01.tiff: -31.2347\n",
      "G:\\classification\\cond_all\\cond7_all\\ds_62_C11-T01.tiff: -31.1580\n",
      "G:\\classification\\cond_all\\cond7_all\\ds_61_D06-T01.tiff: -30.9848\n",
      "G:\\classification\\cond_all\\cond7_all\\ds_61_F10-T01.tiff: -30.8710\n",
      "G:\\classification\\cond_all\\cond7_all\\ds_62_E07-T01.tiff: -30.7998\n",
      "G:\\classification\\cond_all\\cond7_all\\ds_61_C05-T01.tiff: -30.7367\n",
      "G:\\classification\\cond_all\\cond7_all\\ds_62_B03-T01.tiff: -30.7099\n",
      "G:\\classification\\cond_all\\cond7_all\\ds_61_G06-T01.tiff: -30.5628\n",
      "G:\\classification\\cond_all\\cond7_all\\ds_61_E05-T01.tiff: -30.5381\n",
      "G:\\classification\\cond_all\\cond7_all\\ds_62_F07-T01.tiff: -30.5170\n",
      "G:\\classification\\cond_all\\cond7_all\\ds_62_D02-T01.tiff: -30.3415\n",
      "G:\\classification\\cond_all\\cond7_all\\ds_62_C03-T01.tiff: -30.2248\n",
      "G:\\classification\\cond_all\\cond7_all\\ds_62_F10-T01.tiff: -30.1841\n",
      "G:\\classification\\cond_all\\cond7_all\\ds_62_F09-T01.tiff: -29.9934\n",
      "G:\\classification\\cond_all\\cond7_all\\ds_62_B05-T01.tiff: -29.9663\n",
      "G:\\classification\\cond_all\\cond7_all\\ds_62_B11-T01.tiff: -29.8510\n",
      "G:\\classification\\cond_all\\cond7_all\\ds_62_B04-T01.tiff: -29.7374\n",
      "G:\\classification\\cond_all\\cond7_all\\ds_62_G05-T01.tiff: -29.4118\n",
      "G:\\classification\\cond_all\\cond7_all\\ds_61_G10-T01.tiff: -29.3513\n",
      "G:\\classification\\cond_all\\cond7_all\\ds_62_B10-T01.tiff: -29.2248\n",
      "G:\\classification\\cond_all\\cond7_all\\ds_61_G08-T01.tiff: -29.0388\n",
      "G:\\classification\\cond_all\\cond7_all\\ds_61_C11-T01.tiff: -29.0022\n",
      "G:\\classification\\cond_all\\cond7_all\\ds_61_E06-T01.tiff: -28.9329\n",
      "G:\\classification\\cond_all\\cond7_all\\ds_61_G09-T01.tiff: -28.8982\n",
      "G:\\classification\\cond_all\\cond7_all\\ds_62_E05-T01.tiff: -28.8935\n",
      "G:\\classification\\cond_all\\cond7_all\\ds_62_E08-T01.tiff: -28.8881\n",
      "G:\\classification\\cond_all\\cond7_all\\ds_61_E02-T01.tiff: -28.1295\n",
      "G:\\classification\\cond_all\\cond7_all\\ds_62_E02-T01.tiff: -27.9396\n",
      "G:\\classification\\cond_all\\cond7_all\\ds_62_E11-T01.tiff: -26.6109\n",
      "G:\\classification\\cond_all\\cond7_all\\ds_62_D11-T01.tiff: -26.5946\n",
      "G:\\classification\\cond_all\\cond7_all\\ds_62_B02-T01.tiff: -26.1039\n",
      "G:\\classification\\cond_all\\cond7_all\\ds_62_B09-T01.tiff: -25.7227\n",
      "G:\\classification\\cond_all\\cond7_all\\ds_62_C02-T01.tiff: -25.5283\n",
      "G:\\classification\\cond_all\\cond7_all\\ds_62_D07-T01.tiff: -25.1413\n",
      "G:\\classification\\cond_all\\cond7_all\\ds_62_E10-T01.tiff: -25.0648\n",
      "G:\\classification\\cond_all\\cond7_all\\ds_61_C07-T01.tiff: -24.7722\n",
      "G:\\classification\\cond_all\\cond7_all\\ds_61_E07-T01.tiff: -24.7641\n",
      "G:\\classification\\cond_all\\cond7_all\\ds_61_B05-T01.tiff: -24.6735\n",
      "G:\\classification\\cond_all\\cond7_all\\ds_61_F04-T01.tiff: -24.5635\n",
      "G:\\classification\\cond_all\\cond7_all\\ds_62_C06-T01.tiff: -24.5598\n",
      "G:\\classification\\cond_all\\cond7_all\\ds_61_B06-T01.tiff: -24.5372\n",
      "G:\\classification\\cond_all\\cond7_all\\ds_61_C10-T01.tiff: -24.5228\n",
      "G:\\classification\\cond_all\\cond7_all\\ds_62_D06-T01.tiff: -24.3192\n",
      "G:\\classification\\cond_all\\cond7_all\\ds_61_E11-T01.tiff: -24.3043\n",
      "G:\\classification\\cond_all\\cond7_all\\ds_61_D09-T01.tiff: -24.2519\n",
      "G:\\classification\\cond_all\\cond7_all\\ds_61_F07-T01.tiff: -23.9589\n",
      "G:\\classification\\cond_all\\cond7_all\\ds_61_F09-T01.tiff: -23.9097\n",
      "G:\\classification\\cond_all\\cond7_all\\ds_61_C09-T01.tiff: -23.8140\n",
      "G:\\classification\\cond_all\\cond7_all\\ds_61_B07-T01.tiff: -23.7158\n",
      "G:\\classification\\cond_all\\cond7_all\\ds_61_F03-T01.tiff: -23.7063\n",
      "G:\\classification\\cond_all\\cond7_all\\ds_61_G07-T01.tiff: -23.6455\n",
      "G:\\classification\\cond_all\\cond7_all\\ds_61_D08-T01.tiff: -23.6082\n",
      "G:\\classification\\cond_all\\cond7_all\\ds_61_E08-T01.tiff: -23.5056\n",
      "G:\\classification\\cond_all\\cond7_all\\ds_62_D03-T01.tiff: -23.2901\n",
      "G:\\classification\\cond_all\\cond7_all\\ds_61_D03-T01.tiff: -23.1358\n",
      "G:\\classification\\cond_all\\cond7_all\\ds_61_D07-T01.tiff: -23.0729\n",
      "G:\\classification\\cond_all\\cond7_all\\ds_62_D08-T01.tiff: -22.9893\n",
      "G:\\classification\\cond_all\\cond7_all\\ds_61_F06-T01.tiff: -22.9259\n",
      "G:\\classification\\cond_all\\cond7_all\\ds_61_F08-T01.tiff: -22.7001\n",
      "G:\\classification\\cond_all\\cond7_all\\ds_61_C06-T01.tiff: -22.5568\n",
      "G:\\classification\\cond_all\\cond7_all\\ds_61_D04-T01.tiff: -22.4882\n",
      "G:\\classification\\cond_all\\cond7_all\\ds_61_E09-T01.tiff: -22.4040\n",
      "G:\\classification\\cond_all\\cond7_all\\ds_61_G02-T01.tiff: -22.2850\n",
      "G:\\classification\\cond_all\\cond7_all\\ds_61_F05-T01.tiff: -22.2453\n",
      "G:\\classification\\cond_all\\cond7_all\\ds_62_B07-T01.tiff: -22.1137\n",
      "G:\\classification\\cond_all\\cond7_all\\ds_61_D05-T01.tiff: -22.0152\n",
      "G:\\classification\\cond_all\\cond7_all\\ds_62_G04-T01.tiff: -21.8564\n",
      "G:\\classification\\cond_all\\cond7_all\\ds_61_E10-T01.tiff: -21.8489\n",
      "G:\\classification\\cond_all\\cond7_all\\ds_62_C10-T01.tiff: -19.9443\n",
      "G:\\classification\\cond_all\\cond7_all\\sd_04_B06-T01.tiff: -18.3568\n",
      "G:\\classification\\cond_all\\cond7_all\\sd_04_F08-T01.tiff: -18.1332\n",
      "G:\\classification\\cond_all\\cond7_all\\sd_04_C08-T01.tiff: -18.0402\n",
      "G:\\classification\\cond_all\\cond7_all\\sd_04_D06-T01.tiff: -17.9689\n",
      "G:\\classification\\cond_all\\cond7_all\\sd_04_G06-T01.tiff: -17.9460\n",
      "G:\\classification\\cond_all\\cond7_all\\sd_04_F07-T01.tiff: -17.9153\n",
      "G:\\classification\\cond_all\\cond7_all\\sd_04_F09-T01.tiff: -17.8383\n",
      "G:\\classification\\cond_all\\cond7_all\\sd_04_E09-T01.tiff: -17.8184\n",
      "G:\\classification\\cond_all\\cond7_all\\sd_04_D08-T01.tiff: -17.7888\n",
      "G:\\classification\\cond_all\\cond7_all\\sd_04_E08-T01.tiff: -17.6436\n",
      "G:\\classification\\cond_all\\cond7_all\\sd_04_F10-T01.tiff: -17.6361\n",
      "G:\\classification\\cond_all\\cond7_all\\sd_04_C05-T01.tiff: -17.4802\n",
      "G:\\classification\\cond_all\\cond7_all\\sd_04_D07-T01.tiff: -17.2791\n",
      "G:\\classification\\cond_all\\cond7_all\\sd_04_E07-T01.tiff: -17.2523\n",
      "G:\\classification\\cond_all\\cond7_all\\sd_04_D05-T01.tiff: -17.2247\n",
      "G:\\classification\\cond_all\\cond7_all\\sd_04_E04-T01.tiff: -17.0534\n",
      "G:\\classification\\cond_all\\cond7_all\\sd_04_D09-T01.tiff: -17.0197\n",
      "G:\\classification\\cond_all\\cond7_all\\sd_04_B05-T01.tiff: -16.9433\n",
      "G:\\classification\\cond_all\\cond7_all\\sd_04_E06-T01.tiff: -16.8479\n",
      "G:\\classification\\cond_all\\cond7_all\\sd_04_D04-T01.tiff: -16.5721\n",
      "G:\\classification\\cond_all\\cond7_all\\sd_04_E10-T01.tiff: -16.5564\n",
      "G:\\classification\\cond_all\\cond7_all\\sd_04_E05-T01.tiff: -16.2446\n",
      "G:\\classification\\cond_all\\cond7_all\\sd_04_G05-T01.tiff: -16.2013\n",
      "G:\\classification\\cond_all\\cond7_all\\sd_04_G09-T01.tiff: -16.1401\n",
      "G:\\classification\\cond_all\\cond7_all\\sd_04_F06-T01.tiff: -16.0126\n",
      "G:\\classification\\cond_all\\cond7_all\\sd_04_F04-T01.tiff: -15.9140\n",
      "G:\\classification\\cond_all\\cond7_all\\sd_04_G08-T01.tiff: -15.7938\n",
      "G:\\classification\\cond_all\\cond7_all\\sd_04_G04-T01.tiff: -15.6146\n",
      "G:\\classification\\cond_all\\cond7_all\\sd_04_G07-T01.tiff: -15.5999\n",
      "G:\\classification\\cond_all\\cond7_all\\sd_04_E03-T01.tiff: -15.5745\n",
      "G:\\classification\\cond_all\\cond7_all\\sd_04_C07-T01.tiff: -15.4966\n",
      "G:\\classification\\cond_all\\cond7_all\\sd_04_F05-T01.tiff: -15.1864\n",
      "G:\\classification\\cond_all\\cond7_all\\sd_04_C06-T01.tiff: -15.1379\n",
      "G:\\classification\\cond_all\\cond7_all\\ds_62_B06-T01.tiff: -13.9637\n",
      "G:\\classification\\cond_all\\cond7_all\\ds_62_G10-T01.tiff: -13.8632\n",
      "G:\\classification\\cond_all\\cond7_all\\ds_61_D02-T01.tiff: -13.7790\n",
      "G:\\classification\\cond_all\\cond7_all\\ds_62_G03-T01.tiff: -13.7654\n",
      "G:\\classification\\cond_all\\cond7_all\\ds_62_E03-T01.tiff: -13.7573\n",
      "G:\\classification\\cond_all\\cond7_all\\ds_62_D04-T01.tiff: -13.5769\n",
      "G:\\classification\\cond_all\\cond7_all\\ds_62_F11-T01.tiff: -13.4916\n",
      "G:\\classification\\cond_all\\cond7_all\\ds_62_B08-T01.tiff: -13.3521\n",
      "G:\\classification\\cond_all\\cond7_all\\ds_62_G07-T01.tiff: -13.3008\n",
      "G:\\classification\\cond_all\\cond7_all\\ds_61_C04-T01.tiff: -13.2941\n",
      "G:\\classification\\cond_all\\cond7_all\\ds_62_F08-T01.tiff: -13.2253\n",
      "G:\\classification\\cond_all\\cond7_all\\ds_62_C05-T01.tiff: -13.1112\n",
      "G:\\classification\\cond_all\\cond7_all\\ds_62_E09-T01.tiff: -13.0822\n",
      "G:\\classification\\cond_all\\cond7_all\\ds_61_G04-T01.tiff: -12.8398\n",
      "G:\\classification\\cond_all\\cond7_all\\ds_62_G09-T01.tiff: -12.7792\n",
      "G:\\classification\\cond_all\\cond7_all\\ds_61_B03-T01.tiff: -12.7371\n",
      "G:\\classification\\cond_all\\cond7_all\\ds_61_C02-T01.tiff: -12.7172\n",
      "G:\\classification\\cond_all\\cond7_all\\ds_61_E03-T01.tiff: -12.6357\n",
      "G:\\classification\\cond_all\\cond7_all\\ds_61_C03-T01.tiff: -12.5784\n",
      "G:\\classification\\cond_all\\cond7_all\\sd_04_G03-T01.tiff: -11.6044\n",
      "G:\\classification\\cond_all\\cond7_all\\sd_04_G11-T01.tiff: -11.4271\n",
      "G:\\classification\\cond_all\\cond7_all\\sd_04_E02-T01.tiff: -11.2909\n",
      "G:\\classification\\cond_all\\cond7_all\\sd_04_B04-T01.tiff: -10.8752\n",
      "G:\\classification\\cond_all\\cond7_all\\sd_04_B09-T01.tiff: -10.5066\n",
      "G:\\classification\\cond_all\\cond7_all\\sd_04_D11-T01.tiff: -10.4588\n",
      "G:\\classification\\cond_all\\cond7_all\\sd_04_B07-T01.tiff: -10.4184\n",
      "G:\\classification\\cond_all\\cond7_all\\sd_04_C04-T01.tiff: -10.4019\n",
      "G:\\classification\\cond_all\\cond7_all\\sd_04_E11-T01.tiff: -10.3886\n",
      "G:\\classification\\cond_all\\cond7_all\\sd_04_G02-T01.tiff: -10.3244\n",
      "G:\\classification\\cond_all\\cond7_all\\sd_04_F11-T01.tiff: -10.3157\n",
      "G:\\classification\\cond_all\\cond7_all\\sd_04_B08-T01.tiff: -10.2702\n",
      "G:\\classification\\cond_all\\cond7_all\\sd_04_B10-T01.tiff: -10.0741\n",
      "G:\\classification\\cond_all\\cond7_all\\sd_04_F02-T01.tiff: -10.0195\n",
      "G:\\classification\\cond_all\\cond7_all\\sd_04_F03-T01.tiff: -9.9883\n",
      "G:\\classification\\cond_all\\cond7_all\\sd_04_C03-T01.tiff: -9.8804\n",
      "G:\\classification\\cond_all\\cond7_all\\sd_04_D03-T01.tiff: -9.6258\n",
      "G:\\classification\\cond_all\\cond7_all\\sd_04_D02-T01.tiff: -9.4037\n",
      "G:\\classification\\cond_all\\cond7_all\\sd_04_C11-T01.tiff: -9.2734\n",
      "G:\\classification\\cond_all\\cond7_all\\sd_04_B03-T01.tiff: -8.8096\n",
      "G:\\classification\\cond_all\\cond7_all\\sd_04_D10-T01.tiff: -8.7203\n",
      "G:\\classification\\cond_all\\cond7_all\\sd_04_C09-T01.tiff: -8.6899\n",
      "G:\\classification\\cond_all\\cond7_all\\sd_04_B02-T01.tiff: -8.6638\n",
      "G:\\classification\\cond_all\\cond7_all\\sd_04_C10-T01.tiff: -8.5398\n",
      "G:\\classification\\cond_all\\cond7_all\\sd_04_C02-T01.tiff: -8.5304\n",
      "G:\\classification\\cond_all\\cond7_all\\sd_04_B11-T01.tiff: -8.3276\n",
      "G:\\classification\\cond_all\\ex\\ds62_g9_C10-T01.tiff: -6.1382\n",
      "G:\\classification\\cond_all\\ex\\ds62_g9_C09-T01.tiff: -6.0416\n",
      "G:\\classification\\cond_all\\ex\\ds62_g9_C07-T01.tiff: -5.8390\n",
      "G:\\classification\\cond_all\\ex\\ds62_g9_C08-T01.tiff: -5.7221\n",
      "G:\\classification\\cond_all\\ex\\ds62_g8_B07-T01.tiff: -5.4684\n",
      "G:\\classification\\cond_all\\ex\\ds61_g9_C07-T01.tiff: -5.2731\n",
      "G:\\classification\\cond_all\\ex\\ds61_g9_C09-T01.tiff: -5.0812\n",
      "G:\\classification\\cond_all\\ex\\ds62_g9_C11-T01.tiff: -5.0437\n",
      "G:\\classification\\cond_all\\ex\\ds61_g6_F05-T01.tiff: -5.0090\n",
      "G:\\classification\\cond_all\\ex\\ds61_g9_C10-T01.tiff: -4.9312\n",
      "G:\\classification\\cond_all\\ex\\ds61_g9_C11-T01.tiff: -4.8575\n",
      "G:\\classification\\cond_all\\ex\\ds61_g6_F03-T01.tiff: -4.7566\n",
      "G:\\classification\\cond_all\\ex\\ds61_g3_C05-T01.tiff: -4.6764\n",
      "G:\\classification\\cond_all\\ex\\ds61_g6_F02-T01.tiff: -4.5193\n",
      "G:\\classification\\cond_all\\ex\\ds61_g3_C06-T01.tiff: -4.3110\n",
      "G:\\classification\\cond_all\\ex\\ds61_g8_B11-T01.tiff: -4.1588\n",
      "G:\\classification\\cond_all\\ex\\ds61_g3_C03-T01.tiff: -4.0145\n",
      "G:\\classification\\cond_all\\ex\\ds61_g3_C02-T01.tiff: -3.9992\n",
      "G:\\classification\\cond_all\\ex\\ds61_g8_B09-T01.tiff: -3.9483\n",
      "G:\\classification\\cond_all\\ex\\ds61_g8_B10-T01.tiff: -3.9426\n",
      "G:\\classification\\cond_all\\ex\\ds61_g3_C04-T01.tiff: -3.8579\n",
      "G:\\classification\\cond_all\\ex\\ds62_g8_B11-T01.tiff: -3.7896\n",
      "G:\\classification\\cond_all\\ex\\ds61_g6_F04-T01.tiff: -3.7056\n",
      "G:\\classification\\cond_all\\ex\\ds62_g8_B09-T01.tiff: -3.5230\n",
      "G:\\classification\\cond_all\\ex\\ds62_g8_B10-T01.tiff: -3.4846\n",
      "G:\\classification\\cond_all\\ex\\ds61_g8_B07-T01.tiff: -3.3522\n",
      "G:\\classification\\cond_all\\ex\\ds61_g9_C08-T01.tiff: -3.3515\n",
      "G:\\classification\\cond_all\\ex\\ds61_g6_F06-T01.tiff: -3.1792\n",
      "G:\\classification\\cond_all\\ex\\ds61_g8_B08-T01.tiff: -3.0256\n",
      "G:\\classification\\cond_all\\ex\\ds41_g9_C10-T01.tiff: -2.2891\n",
      "G:\\classification\\cond_all\\ex\\ds41_g3_C05-T01.tiff: -1.8097\n",
      "G:\\classification\\cond_all\\ex\\ds41_g3_C03-T01.tiff: -1.7827\n",
      "G:\\classification\\cond_all\\ex\\ds41_g3_C02-T01.tiff: -1.7572\n",
      "G:\\classification\\cond_all\\ex\\ds41_g3_C04-T01.tiff: -1.7039\n",
      "G:\\classification\\cond_all\\ex\\ds41_g3_C06-T01.tiff: -1.6994\n",
      "G:\\classification\\cond_all\\ex\\ds1B_g9_C7.tif: -1.1229\n",
      "G:\\classification\\cond_all\\ex\\ds1B_g9_C9.tif: -1.0231\n",
      "G:\\classification\\cond_all\\ex\\ds1B_g9_c10.tif: -0.9789\n",
      "G:\\classification\\cond_all\\ex\\ds1B_g9_C8.tif: -0.9160\n",
      "G:\\classification\\cond_all\\ex\\ds1B_g9_C11.tif: -0.8797\n",
      "G:\\classification\\cond_all\\cond7_all\\ds_62_G02-T01.tiff: 0.4275\n",
      "G:\\classification\\cond_all\\cond7_all\\ds_61_B11-T01.tiff: 0.8848\n",
      "G:\\classification\\cond_all\\cond7_all\\ds_61_B02-T01.tiff: 0.9222\n",
      "G:\\classification\\cond_all\\cond7_all\\ds_52_C09-T01.tiff: 2.1840\n",
      "G:\\classification\\cond_all\\cond7_all\\ds_52_G06-T01.tiff: 2.2298\n",
      "G:\\classification\\cond_all\\cond7_all\\ds_52_F05-T01.tiff: 2.4824\n",
      "G:\\classification\\cond_all\\cond7_all\\ds_52_F06-T01.tiff: 2.7792\n",
      "G:\\classification\\cond_all\\cond7_all\\ds_52_G07-T01.tiff: 2.8672\n",
      "G:\\classification\\cond_all\\cond7_all\\ds_52_E07-T01.tiff: 3.2891\n",
      "G:\\classification\\cond_all\\cond7_all\\ds_52_E09-T01.tiff: 3.3270\n",
      "G:\\classification\\cond_all\\cond7_all\\ds_52_D07-T01.tiff: 3.3654\n",
      "G:\\classification\\cond_all\\cond7_all\\ds_52_C08-T01.tiff: 3.5476\n",
      "G:\\classification\\cond_all\\cond7_all\\ds_52_F09-T01.tiff: 3.6964\n",
      "G:\\classification\\cond_all\\cond7_all\\ds_52_D08-T01.tiff: 3.7517\n",
      "G:\\classification\\cond_all\\cond7_all\\ds_52_G10-T01.tiff: 3.8282\n",
      "G:\\classification\\cond_all\\cond7_all\\ds_52_F10-T01.tiff: 4.0783\n",
      "G:\\classification\\cond_all\\cond7_all\\ds_52_G11-T01.tiff: 4.1095\n",
      "G:\\classification\\cond_all\\cond7_all\\ds_52_D10-T01.tiff: 4.1229\n",
      "G:\\classification\\cond_all\\cond7_all\\ds_52_F04-T01.tiff: 4.2599\n",
      "G:\\classification\\cond_all\\cond7_all\\ds_52_G09-T01.tiff: 4.5463\n",
      "G:\\classification\\cond_all\\cond7_all\\ds_52_E03-T01.tiff: 4.7222\n",
      "G:\\classification\\cond_all\\cond7_all\\ds_52_F02-T01.tiff: 4.7926\n",
      "G:\\classification\\cond_all\\cond7_all\\ds_52_D06-T01.tiff: 5.0368\n",
      "G:\\classification\\cond_all\\cond7_all\\ds_52_C07-T01.tiff: 5.1777\n",
      "G:\\classification\\cond_all\\cond7_all\\ds_52_B06-T01.tiff: 5.2300\n",
      "G:\\classification\\cond_all\\cond7_all\\ds_52_C06-T01.tiff: 5.2905\n",
      "G:\\classification\\cond_all\\cond7_all\\ds_52_G04-T01.tiff: 5.3450\n",
      "G:\\classification\\cond_all\\cond7_all\\ds_52_E05-T01.tiff: 5.3620\n",
      "G:\\classification\\cond_all\\cond7_all\\ds_52_C04-T01.tiff: 5.6392\n",
      "G:\\classification\\cond_all\\cond7_all\\ds_52_B07-T01.tiff: 5.7770\n",
      "G:\\classification\\cond_all\\cond7_all\\ds_52_D04-T01.tiff: 5.7916\n",
      "G:\\classification\\cond_all\\cond7_all\\ds_52_G05-T01.tiff: 5.9753\n",
      "G:\\classification\\cond_all\\cond7_all\\ds_52_E06-T01.tiff: 6.0112\n",
      "G:\\classification\\cond_all\\cond7_all\\ds_52_F07-T01.tiff: 6.2085\n",
      "G:\\classification\\cond_all\\cond7_all\\ds_52_C05-T01.tiff: 6.4054\n",
      "G:\\classification\\cond_all\\cond7_all\\ds_52_F03-T01.tiff: 6.4119\n",
      "G:\\classification\\cond_all\\cond7_all\\ds_52_G08-T01.tiff: 6.4552\n",
      "G:\\classification\\cond_all\\cond7_all\\ds_52_E02-T01.tiff: 6.5268\n",
      "G:\\classification\\cond_all\\cond7_all\\ds_52_G02-T01.tiff: 6.8746\n",
      "G:\\classification\\cond_all\\cond7_all\\ds_52_B02-T01.tiff: 7.3301\n",
      "G:\\classification\\cond_all\\cond7_all\\ds_52_B11-T01.tiff: 7.3349\n",
      "G:\\classification\\cond_all\\cond7_all\\ds_52_B03-T01.tiff: 7.3977\n",
      "G:\\classification\\cond_all\\cond7_all\\ds_52_E10-T01.tiff: 7.4956\n",
      "G:\\classification\\cond_all\\cond7_all\\ds_52_B09-T01.tiff: 7.6012\n",
      "G:\\classification\\cond_all\\cond7_all\\ds_52_B10-T01.tiff: 7.8629\n",
      "G:\\classification\\cond_all\\cond7_all\\ds_52_D09-T01.tiff: 7.9082\n",
      "G:\\classification\\cond_all\\cond7_all\\ds_52_E04-T01.tiff: 7.9655\n",
      "G:\\classification\\cond_all\\cond7_all\\ds_52_F08-T01.tiff: 8.1138\n",
      "G:\\classification\\cond_all\\cond7_all\\ds_52_F11-T01.tiff: 8.2086\n",
      "G:\\classification\\cond_all\\cond7_all\\ds_52_C11-T01.tiff: 8.2491\n",
      "G:\\classification\\cond_all\\cond7_all\\ds_52_B04-T01.tiff: 8.2744\n",
      "G:\\classification\\cond_all\\cond7_all\\ds_52_D11-T01.tiff: 8.3826\n",
      "G:\\classification\\cond_all\\cond7_all\\ds_52_E11-T01.tiff: 8.6989\n",
      "G:\\classification\\cond_all\\cond7_all\\ds_52_D05-T01.tiff: 8.7334\n",
      "G:\\classification\\cond_all\\cond7_all\\ds_52_C10-T01.tiff: 8.7596\n",
      "G:\\classification\\cond_all\\cond7_all\\ds_52_B05-T01.tiff: 8.9335\n",
      "G:\\classification\\cond_all\\cond7_all\\ds_52_G03-T01.tiff: 9.1942\n",
      "G:\\classification\\cond_all\\cond7_all\\ds_52_D02-T01.tiff: 9.2527\n",
      "G:\\classification\\cond_all\\cond7_all\\ds_52_D03-T01.tiff: 9.2874\n",
      "G:\\classification\\cond_all\\cond7_all\\ds_52_B08-T01.tiff: 9.3840\n",
      "G:\\classification\\cond_all\\cond7_all\\ds_52_C02-T01.tiff: 9.3853\n",
      "G:\\classification\\cond_all\\cond7_all\\ds_52_C03-T01.tiff: 10.0438\n",
      "G:\\classification\\cond_all\\cond7_all\\ds_51_B08-T01.tiff: 10.1802\n",
      "G:\\classification\\cond_all\\cond7_all\\ds_62_C04-T01.tiff: 10.2820\n",
      "G:\\classification\\cond_all\\cond7_all\\ds_61_B09-T01.tiff: 10.4008\n",
      "G:\\classification\\cond_all\\cond7_all\\ds_62_G11-T01.tiff: 10.8988\n",
      "G:\\classification\\cond_all\\cond7_all\\ds_61_G11-T01.tiff: 11.0099\n",
      "G:\\classification\\cond_all\\cond7_all\\ds_61_D11-T01.tiff: 11.1298\n",
      "G:\\classification\\cond_all\\cond7_all\\ds_61_D10-T01.tiff: 11.7857\n",
      "G:\\classification\\cond_all\\cond7_all\\ds_61_C08-T01.tiff: 12.3794\n",
      "G:\\classification\\cond_all\\cond7_all\\ds_61_F11-T01.tiff: 12.5370\n",
      "G:\\classification\\cond_all\\cond7_all\\ds_62_C09-T01.tiff: 12.6439\n",
      "G:\\classification\\cond_all\\cond7_all\\ds_62_F05-T01.tiff: 12.6626\n",
      "G:\\classification\\cond_all\\cond7_all\\ds_62_D09-T01.tiff: 12.7955\n",
      "G:\\classification\\cond_all\\cond7_all\\ds_61_G05-T01.tiff: 12.8390\n",
      "G:\\classification\\cond_all\\cond7_all\\ds_62_D10-T01.tiff: 12.8467\n",
      "G:\\classification\\cond_all\\cond7_all\\ds_62_G06-T01.tiff: 12.8733\n",
      "G:\\classification\\cond_all\\cond7_all\\ds_61_E04-T01.tiff: 12.8929\n",
      "G:\\classification\\cond_all\\cond7_all\\ds_62_G08-T01.tiff: 12.9481\n",
      "G:\\classification\\cond_all\\cond7_all\\ds_62_C08-T01.tiff: 13.1930\n",
      "G:\\classification\\cond_all\\cond7_all\\ds_62_D05-T01.tiff: 13.7052\n",
      "G:\\classification\\cond_all\\cond7_all\\ds_51_G06-T01.tiff: 13.9654\n",
      "G:\\classification\\cond_all\\cond7_all\\ds_51_G05-T01.tiff: 14.5106\n",
      "G:\\classification\\cond_all\\cond7_all\\ds_51_E08-T01.tiff: 14.5662\n",
      "G:\\classification\\cond_all\\cond7_all\\ds_51_E04-T01.tiff: 14.6305\n",
      "G:\\classification\\cond_all\\cond7_all\\ds_51_F06-T01.tiff: 14.6878\n",
      "G:\\classification\\cond_all\\cond7_all\\ds_51_C04-T01.tiff: 14.7179\n",
      "G:\\classification\\cond_all\\cond7_all\\ds_51_E07-T01.tiff: 15.0154\n",
      "G:\\classification\\cond_all\\cond7_all\\ds_51_D06-T01.tiff: 15.0921\n",
      "G:\\classification\\cond_all\\cond7_all\\ds_51_G04-T01.tiff: 15.1059\n",
      "G:\\classification\\cond_all\\cond7_all\\ds_51_C05-T01.tiff: 15.2834\n",
      "G:\\classification\\cond_all\\cond7_all\\ds_51_E06-T01.tiff: 15.4533\n",
      "G:\\classification\\cond_all\\cond7_all\\ds_51_D05-T01.tiff: 15.5561\n",
      "G:\\classification\\cond_all\\cond7_all\\ds_51_F05-T01.tiff: 15.5863\n",
      "G:\\classification\\cond_all\\cond7_all\\ds_51_G03-T01.tiff: 15.6477\n",
      "G:\\classification\\cond_all\\cond7_all\\ds_51_F04-T01.tiff: 15.6572\n",
      "G:\\classification\\cond_all\\cond7_all\\ds_51_C06-T01.tiff: 15.7205\n",
      "G:\\classification\\cond_all\\cond7_all\\ds_51_F07-T01.tiff: 15.7697\n",
      "G:\\classification\\cond_all\\cond7_all\\ds_51_E05-T01.tiff: 16.0188\n",
      "G:\\classification\\cond_all\\cond7_all\\ds_51_G07-T01.tiff: 16.0379\n",
      "G:\\classification\\cond_all\\cond7_all\\ds_51_F08-T01.tiff: 16.2971\n",
      "G:\\classification\\cond_all\\cond7_all\\ds_51_D07-T01.tiff: 16.5019\n",
      "G:\\classification\\cond_all\\cond7_all\\ds_51_G09-T01.tiff: 16.5235\n",
      "G:\\classification\\cond_all\\cond7_all\\ds_51_F09-T01.tiff: 16.5775\n",
      "G:\\classification\\cond_all\\cond7_all\\ds_51_E03-T01.tiff: 16.6828\n",
      "G:\\classification\\cond_all\\cond7_all\\ds_51_C07-T01.tiff: 16.6996\n",
      "G:\\classification\\cond_all\\cond7_all\\ds_51_D02-T01.tiff: 16.7507\n",
      "G:\\classification\\cond_all\\cond7_all\\ds_51_G02-T01.tiff: 16.8785\n",
      "G:\\classification\\cond_all\\cond7_all\\ds_51_B06-T01.tiff: 16.9327\n",
      "G:\\classification\\cond_all\\cond7_all\\ds_51_D04-T01.tiff: 17.0699\n",
      "G:\\classification\\cond_all\\cond7_all\\ds_51_G08-T01.tiff: 17.0956\n",
      "G:\\classification\\cond_all\\cond7_all\\ds_51_D03-T01.tiff: 17.1835\n",
      "G:\\classification\\cond_all\\cond7_all\\ds_51_E02-T01.tiff: 17.2331\n",
      "G:\\classification\\cond_all\\cond7_all\\ds_51_E11-T01.tiff: 17.3989\n",
      "G:\\classification\\cond_all\\cond7_all\\ds_51_B09-T01.tiff: 17.5386\n",
      "G:\\classification\\cond_all\\cond7_all\\ds_51_F02-T01.tiff: 17.8794\n",
      "G:\\classification\\cond_all\\cond7_all\\ds_51_C08-T01.tiff: 17.9655\n",
      "G:\\classification\\cond_all\\cond7_all\\ds_51_D09-T01.tiff: 18.1266\n",
      "G:\\classification\\cond_all\\cond7_all\\ds_51_F03-T01.tiff: 18.4445\n",
      "G:\\classification\\cond_all\\cond7_all\\ds_51_E10-T01.tiff: 18.5400\n",
      "G:\\classification\\cond_all\\cond7_all\\ds_51_D08-T01.tiff: 18.6113\n",
      "G:\\classification\\cond_all\\cond7_all\\ds_51_G11-T01.tiff: 18.6507\n",
      "G:\\classification\\cond_all\\cond7_all\\ds_51_B07-T01.tiff: 18.7751\n",
      "G:\\classification\\cond_all\\cond7_all\\ds_51_E09-T01.tiff: 18.8459\n",
      "G:\\classification\\cond_all\\cond7_all\\ds_51_B02-T01.tiff: 19.1658\n",
      "G:\\classification\\cond_all\\cond7_all\\ds_51_D10-T01.tiff: 19.2992\n",
      "G:\\classification\\cond_all\\cond7_all\\ds_51_F10-T01.tiff: 19.3250\n",
      "G:\\classification\\cond_all\\cond7_all\\ds_51_C03-T01.tiff: 19.5429\n",
      "G:\\classification\\cond_all\\cond7_all\\ds_51_F11-T01.tiff: 19.6779\n",
      "G:\\classification\\cond_all\\cond7_all\\ds_51_G10-T01.tiff: 19.8380\n",
      "G:\\classification\\cond_all\\cond7_all\\ds_51_B10-T01.tiff: 19.9899\n",
      "G:\\classification\\cond_all\\cond7_all\\ds_51_B03-T01.tiff: 20.0502\n",
      "G:\\classification\\cond_all\\cond7_all\\ds_51_C10-T01.tiff: 20.0722\n",
      "G:\\classification\\cond_all\\cond7_all\\ds_51_C09-T01.tiff: 20.1813\n",
      "G:\\classification\\cond_all\\cond7_all\\ds_51_C11-T01.tiff: 20.2712\n",
      "G:\\classification\\cond_all\\cond7_all\\ds_51_D11-T01.tiff: 20.2852\n",
      "G:\\classification\\cond_all\\cond7_all\\ds_51_B11-T01.tiff: 20.4800\n",
      "G:\\classification\\cond_all\\cond7_all\\ds_51_B05-T01.tiff: 20.5034\n",
      "G:\\classification\\cond_all\\cond7_all\\ds_51_C02-T01.tiff: 20.5540\n",
      "G:\\classification\\cond_all\\cond7_all\\ds_1B_B11-T01.tiff: 23.8638\n",
      "G:\\classification\\cond_all\\cond7_all\\ds_1B_B03-T01.tiff: 23.9393\n",
      "G:\\classification\\cond_all\\cond7_all\\ds_1B_F11-T01.tiff: 24.0956\n",
      "G:\\classification\\cond_all\\cond7_all\\ds_1B_E02-T01.tiff: 24.3480\n",
      "G:\\classification\\cond_all\\cond7_all\\ds_1B_C11-T01.tiff: 24.6128\n",
      "G:\\classification\\cond_all\\cond7_all\\ds_1B_C03-T01.tiff: 24.7613\n",
      "G:\\classification\\cond_all\\cond7_all\\ds_1B_G11-T01.tiff: 25.0497\n",
      "G:\\classification\\cond_all\\cond7_all\\ds_1B_E06-T01.tiff: 25.1137\n",
      "G:\\classification\\cond_all\\cond7_all\\ds_1B_B09-T01.tiff: 25.4348\n",
      "G:\\classification\\cond_all\\cond7_all\\ds_1B_F05-T01.tiff: 25.4595\n",
      "G:\\classification\\cond_all\\cond7_all\\ds_1B_F04-T01.tiff: 25.6727\n",
      "G:\\classification\\cond_all\\cond7_all\\ds_1B_B05-T01.tiff: 25.6783\n",
      "G:\\classification\\cond_all\\cond7_all\\ds_1B_E11-T01.tiff: 25.7254\n",
      "G:\\classification\\cond_all\\cond7_all\\ds_1B_D05-T01.tiff: 25.7678\n",
      "G:\\classification\\cond_all\\cond7_all\\ds_1B_F02-T01.tiff: 25.9136\n",
      "G:\\classification\\cond_all\\cond7_all\\ds_1B_G04-T01.tiff: 25.9389\n",
      "G:\\classification\\cond_all\\cond7_all\\ds_1B_C09-T01.tiff: 26.0439\n",
      "G:\\classification\\cond_all\\cond7_all\\ds_1B_D06-T01.tiff: 26.0538\n",
      "G:\\classification\\cond_all\\cond7_all\\ds_1B_G03-T01.tiff: 26.0794\n",
      "G:\\classification\\cond_all\\cond7_all\\ds_1B_D08-T01.tiff: 26.3058\n",
      "G:\\classification\\cond_all\\cond7_all\\ds_42_D03-T01.tiff: 26.6222\n",
      "G:\\classification\\cond_all\\cond7_all\\ds_1B_C06-T01.tiff: 26.6494\n",
      "G:\\classification\\cond_all\\cond7_all\\ds_1B_G08-T01.tiff: 26.7011\n",
      "G:\\classification\\cond_all\\cond7_all\\ds_1B_E08-T01.tiff: 26.7048\n",
      "G:\\classification\\cond_all\\cond7_all\\ds_1B_F06-T01.tiff: 26.8517\n",
      "G:\\classification\\cond_all\\cond7_all\\ds_1B_F08-T01.tiff: 27.1426\n",
      "G:\\classification\\cond_all\\cond7_all\\ds_1B_D07-T01.tiff: 27.3023\n",
      "G:\\classification\\cond_all\\cond7_all\\ds_1B_D04-T01.tiff: 27.4338\n",
      "G:\\classification\\cond_all\\cond7_all\\ds_1B_G07-T01.tiff: 27.6275\n",
      "G:\\classification\\cond_all\\cond7_all\\ds_1B_E10-T01.tiff: 27.6346\n",
      "G:\\classification\\cond_all\\cond7_all\\ds_1B_D03-T01.tiff: 27.6692\n",
      "G:\\classification\\cond_all\\cond7_all\\ds_1B_G05-T01.tiff: 27.6993\n",
      "G:\\classification\\cond_all\\cond7_all\\ds_1B_F09-T01.tiff: 27.8294\n",
      "G:\\classification\\cond_all\\cond7_all\\ds_1B_E05-T01.tiff: 27.9318\n",
      "G:\\classification\\cond_all\\cond7_all\\ds_1B_G10-T01.tiff: 27.9598\n",
      "G:\\classification\\cond_all\\cond7_all\\ds_1B_G06-T01.tiff: 28.1920\n",
      "G:\\classification\\cond_all\\cond7_all\\ds_1B_E07-T01.tiff: 28.3443\n",
      "G:\\classification\\cond_all\\cond7_all\\ds_1B_D09-T01.tiff: 28.5111\n",
      "G:\\classification\\cond_all\\cond7_all\\ds_1B_E03-T01.tiff: 28.5160\n",
      "G:\\classification\\cond_all\\cond7_all\\ds_1B_C08-T01.tiff: 28.5770\n",
      "G:\\classification\\cond_all\\cond7_all\\ds_1B_C07-T01.tiff: 28.6128\n",
      "G:\\classification\\cond_all\\cond7_all\\ds_1B_B07-T01.tiff: 28.8905\n",
      "G:\\classification\\cond_all\\cond7_all\\ds_1B_D10-T01.tiff: 29.1405\n",
      "G:\\classification\\cond_all\\cond7_all\\ds_1B_C05-T01.tiff: 29.2642\n",
      "G:\\classification\\cond_all\\cond7_all\\ds_1B_F03-T01.tiff: 29.3504\n",
      "G:\\classification\\cond_all\\cond7_all\\ds_1B_C10-T01.tiff: 29.4622\n",
      "G:\\classification\\cond_all\\cond7_all\\ds_1B_C04-T01.tiff: 29.4625\n",
      "G:\\classification\\cond_all\\cond7_all\\ds_1B_E04-T01.tiff: 29.4636\n",
      "G:\\classification\\cond_all\\cond7_all\\ds_1B_B04-T01.tiff: 29.4910\n",
      "G:\\classification\\cond_all\\cond7_all\\ds_1B_B06-T01.tiff: 29.5090\n",
      "G:\\classification\\cond_all\\cond7_all\\ds_1B_B02-T01.tiff: 29.6819\n",
      "G:\\classification\\cond_all\\cond7_all\\ds_1B_C02-T01.tiff: 29.8070\n",
      "G:\\classification\\cond_all\\cond7_all\\ds_1B_B08-T01.tiff: 29.8134\n",
      "G:\\classification\\cond_all\\cond7_all\\ds_1B_G09-T01.tiff: 29.9772\n",
      "G:\\classification\\cond_all\\cond7_all\\ds_1B_B10-T01.tiff: 30.2459\n",
      "G:\\classification\\cond_all\\cond7_all\\ds_1B_D11-T01.tiff: 30.2617\n",
      "G:\\classification\\cond_all\\cond7_all\\ds_1B_D02-T01.tiff: 30.5380\n",
      "G:\\classification\\cond_all\\cond7_all\\ds_1B_F07-T01.tiff: 30.7478\n",
      "G:\\classification\\cond_all\\cond7_all\\ds_1B_E09-T01.tiff: 30.9799\n",
      "G:\\classification\\cond_all\\cond7_all\\ds_1B_F10-T01.tiff: 31.0366\n",
      "G:\\classification\\cond_all\\cond7_all\\ds_1B_G02-T01.tiff: 31.2015\n",
      "G:\\classification\\cond_all\\cond7_all\\ds_42_G10-T01.tiff: 31.9365\n",
      "G:\\classification\\cond_all\\cond7_all\\ds_42_G11-T01.tiff: 31.9594\n",
      "G:\\classification\\cond_all\\cond7_all\\ds_42_G09-T01.tiff: 32.0633\n",
      "G:\\classification\\cond_all\\cond7_all\\ds_42_D10-T01.tiff: 32.1456\n",
      "G:\\classification\\cond_all\\cond7_all\\ds_42_F10-T01.tiff: 32.8785\n",
      "G:\\classification\\cond_all\\cond7_all\\ds_42_G08-T01.tiff: 32.9288\n",
      "G:\\classification\\cond_all\\cond7_all\\ds_42_C08-T01.tiff: 32.9822\n",
      "G:\\classification\\cond_all\\cond7_all\\ds_41_B10-T01.tiff: 33.1039\n",
      "G:\\classification\\cond_all\\cond7_all\\ds_42_B05-T01.tiff: 33.1873\n",
      "G:\\classification\\cond_all\\cond7_all\\ds_41_B11-T01.tiff: 33.2868\n",
      "G:\\classification\\cond_all\\cond7_all\\ds_42_E05-T01.tiff: 33.3699\n",
      "G:\\classification\\cond_all\\cond7_all\\ds_42_B03-T01.tiff: 33.7473\n",
      "G:\\classification\\cond_all\\cond7_all\\ds_42_B06-T01.tiff: 33.7742\n",
      "G:\\classification\\cond_all\\cond7_all\\ds_42_B11-T01.tiff: 33.8182\n",
      "G:\\classification\\cond_all\\cond7_all\\ds_42_C09-T01.tiff: 33.9010\n",
      "G:\\classification\\cond_all\\cond7_all\\ds_42_B08-T01.tiff: 34.1591\n",
      "G:\\classification\\cond_all\\cond7_all\\ds_42_D02-T01.tiff: 34.2417\n",
      "G:\\classification\\cond_all\\cond7_all\\ds_42_C02-T01.tiff: 34.2755\n",
      "G:\\classification\\cond_all\\cond7_all\\ds_42_C10-T01.tiff: 34.7069\n",
      "G:\\classification\\cond_all\\cond7_all\\ds_42_F11-T01.tiff: 34.7608\n",
      "G:\\classification\\cond_all\\cond7_all\\ds_42_C03-T01.tiff: 34.8125\n",
      "G:\\classification\\cond_all\\cond7_all\\ds_42_D11-T01.tiff: 34.8273\n",
      "G:\\classification\\cond_all\\cond7_all\\ds_42_C07-T01.tiff: 34.8535\n",
      "G:\\classification\\cond_all\\cond7_all\\ds_42_F02-T01.tiff: 35.1829\n",
      "G:\\classification\\cond_all\\cond7_all\\ds_42_E03-T01.tiff: 35.2763\n",
      "G:\\classification\\cond_all\\cond7_all\\ds_42_G02-T01.tiff: 35.6393\n",
      "G:\\classification\\cond_all\\cond7_all\\ds_42_B04-T01.tiff: 35.7316\n",
      "G:\\classification\\cond_all\\cond7_all\\ds_42_B07-T01.tiff: 35.7536\n",
      "G:\\classification\\cond_all\\cond7_all\\ds_42_C05-T01.tiff: 35.8477\n",
      "G:\\classification\\cond_all\\cond7_all\\ds_42_B02-T01.tiff: 35.9008\n",
      "G:\\classification\\cond_all\\cond7_all\\ds_42_F03-T01.tiff: 36.1333\n",
      "G:\\classification\\cond_all\\cond7_all\\ds_42_D08-T01.tiff: 36.2388\n",
      "G:\\classification\\cond_all\\cond7_all\\ds_42_C11-T01.tiff: 36.5445\n",
      "G:\\classification\\cond_all\\cond7_all\\ds_42_B10-T01.tiff: 36.6342\n",
      "G:\\classification\\cond_all\\cond7_all\\ds_42_E10-T01.tiff: 36.6487\n",
      "G:\\classification\\cond_all\\cond7_all\\ds_41_G02-T01.tiff: 36.6514\n",
      "G:\\classification\\cond_all\\cond7_all\\ds_42_D09-T01.tiff: 37.0654\n",
      "G:\\classification\\cond_all\\cond7_all\\ds_42_E02-T01.tiff: 37.2112\n",
      "G:\\classification\\cond_all\\cond7_all\\ds_42_F08-T01.tiff: 37.4886\n",
      "G:\\classification\\cond_all\\cond7_all\\ds_42_G07-T01.tiff: 37.7872\n",
      "G:\\classification\\cond_all\\cond7_all\\ds_41_C08-T01.tiff: 37.7982\n",
      "G:\\classification\\cond_all\\cond7_all\\ds_42_F07-T01.tiff: 37.9217\n",
      "G:\\classification\\cond_all\\cond7_all\\ds_42_E08-T01.tiff: 38.0958\n",
      "G:\\classification\\cond_all\\cond7_all\\ds_41_D11-T01.tiff: 38.2196\n",
      "G:\\classification\\cond_all\\cond7_all\\ds_41_C02-T01.tiff: 38.3910\n",
      "G:\\classification\\cond_all\\cond7_all\\ds_41_B04-T01.tiff: 38.4439\n",
      "G:\\classification\\cond_all\\cond7_all\\ds_42_E11-T01.tiff: 38.7189\n",
      "G:\\classification\\cond_all\\cond7_all\\ds_41_D02-T01.tiff: 38.8128\n",
      "G:\\classification\\cond_all\\cond7_all\\ds_41_E02-T01.tiff: 38.9519\n",
      "G:\\classification\\cond_all\\cond7_all\\ds_41_E11-T01.tiff: 39.0954\n",
      "G:\\classification\\cond_all\\cond7_all\\ds_42_D04-T01.tiff: 39.1817\n",
      "G:\\classification\\cond_all\\cond7_all\\ds_42_F09-T01.tiff: 39.2044\n",
      "G:\\classification\\cond_all\\cond7_all\\ds_41_F10-T01.tiff: 39.3848\n",
      "G:\\classification\\cond_all\\cond7_all\\ds_41_C11-T01.tiff: 39.6604\n",
      "G:\\classification\\cond_all\\cond7_all\\ds_42_E07-T01.tiff: 39.7717\n",
      "G:\\classification\\cond_all\\cond7_all\\ds_41_E09-T01.tiff: 40.1126\n",
      "G:\\classification\\cond_all\\cond7_all\\ds_41_C09-T01.tiff: 40.3477\n",
      "G:\\classification\\cond_all\\cond7_all\\ds_41_B09-T01.tiff: 40.4851\n",
      "G:\\classification\\cond_all\\cond7_all\\ds_41_B07-T01.tiff: 40.5824\n",
      "G:\\classification\\cond_all\\cond7_all\\ds_41_B08-T01.tiff: 40.6364\n",
      "G:\\classification\\cond_all\\cond7_all\\ds_41_C07-T01.tiff: 40.8901\n",
      "G:\\classification\\cond_all\\cond7_all\\ds_41_B05-T01.tiff: 41.0544\n",
      "G:\\classification\\cond_all\\cond7_all\\ds_41_C03-T01.tiff: 41.1157\n",
      "G:\\classification\\cond_all\\cond7_all\\ds_42_D07-T01.tiff: 41.2554\n",
      "G:\\classification\\cond_all\\cond7_all\\ds_41_C10-T01.tiff: 41.4362\n",
      "G:\\classification\\cond_all\\cond7_all\\ds_41_G09-T01.tiff: 41.6681\n",
      "G:\\classification\\cond_all\\cond7_all\\ds_41_F03-T01.tiff: 41.7193\n",
      "G:\\classification\\cond_all\\cond7_all\\ds_41_G05-T01.tiff: 41.7640\n",
      "G:\\classification\\cond_all\\cond7_all\\ds_42_E09-T01.tiff: 41.9389\n",
      "G:\\classification\\cond_all\\cond7_all\\ds_41_E03-T01.tiff: 42.0321\n",
      "G:\\classification\\cond_all\\cond7_all\\ds_41_G10-T01.tiff: 42.1464\n",
      "G:\\classification\\cond_all\\cond7_all\\ds_41_B06-T01.tiff: 42.1473\n",
      "G:\\classification\\cond_all\\cond7_all\\ds_41_D10-T01.tiff: 42.2090\n",
      "G:\\classification\\cond_all\\cond7_all\\ds_42_B09-T01.tiff: 42.2924\n",
      "G:\\classification\\cond_all\\cond7_all\\ds_41_G11-T01.tiff: 42.5144\n",
      "G:\\classification\\cond_all\\cond7_all\\ds_41_C04-T01.tiff: 42.7024\n",
      "G:\\classification\\cond_all\\cond7_all\\ds_41_D08-T01.tiff: 43.0092\n",
      "G:\\classification\\cond_all\\cond7_all\\ds_41_D07-T01.tiff: 43.1324\n",
      "G:\\classification\\cond_all\\cond7_all\\ds_41_F11-T01.tiff: 43.1494\n",
      "G:\\classification\\cond_all\\cond7_all\\ds_41_D03-T01.tiff: 43.1605\n",
      "G:\\classification\\cond_all\\cond7_all\\ds_41_F05-T01.tiff: 43.2175\n",
      "G:\\classification\\cond_all\\cond7_all\\ds_41_E10-T01.tiff: 43.3415\n",
      "G:\\classification\\cond_all\\cond7_all\\ds_41_C05-T01.tiff: 43.4135\n",
      "G:\\classification\\cond_all\\cond7_all\\ds_41_B03-T01.tiff: 43.5824\n",
      "G:\\classification\\cond_all\\cond7_all\\ds_41_E08-T01.tiff: 44.2689\n",
      "G:\\classification\\cond_all\\cond7_all\\ds_41_F04-T01.tiff: 44.2778\n",
      "G:\\classification\\cond_all\\cond7_all\\ds_42_C04-T01.tiff: 44.3244\n",
      "G:\\classification\\cond_all\\cond7_all\\ds_41_F07-T01.tiff: 44.3879\n",
      "G:\\classification\\cond_all\\cond7_all\\ds_41_E06-T01.tiff: 44.4136\n",
      "G:\\classification\\cond_all\\cond7_all\\ds_41_F02-T01.tiff: 44.6062\n",
      "G:\\classification\\cond_all\\cond7_all\\ds_41_D04-T01.tiff: 44.6170\n",
      "G:\\classification\\cond_all\\cond7_all\\ds_41_C06-T01.tiff: 44.9366\n",
      "G:\\classification\\cond_all\\cond7_all\\ds_41_G04-T01.tiff: 45.0346\n",
      "G:\\classification\\cond_all\\cond7_all\\ds_42_F06-T01.tiff: 45.0892\n",
      "G:\\classification\\cond_all\\cond7_all\\ds_42_E06-T01.tiff: 45.1574\n",
      "G:\\classification\\cond_all\\cond7_all\\ds_41_E05-T01.tiff: 45.2376\n",
      "G:\\classification\\cond_all\\cond7_all\\ds_41_D06-T01.tiff: 45.2540\n",
      "G:\\classification\\cond_all\\cond7_all\\ds_42_C06-T01.tiff: 45.5764\n",
      "G:\\classification\\cond_all\\cond7_all\\ds_41_F06-T01.tiff: 45.6700\n",
      "G:\\classification\\cond_all\\cond7_all\\ds_42_D05-T01.tiff: 46.0395\n",
      "G:\\classification\\cond_all\\cond7_all\\ds_42_G04-T01.tiff: 46.1067\n",
      "G:\\classification\\cond_all\\cond7_all\\ds_42_G05-T01.tiff: 46.3127\n",
      "G:\\classification\\cond_all\\cond7_all\\ds_42_F05-T01.tiff: 46.3523\n",
      "G:\\classification\\cond_all\\cond7_all\\ds_42_F04-T01.tiff: 46.4096\n",
      "G:\\classification\\cond_all\\cond7_all\\ds_42_D06-T01.tiff: 46.4775\n",
      "G:\\classification\\cond_all\\cond7_all\\ds_42_G06-T01.tiff: 46.5713\n",
      "G:\\classification\\cond_all\\cond7_all\\ds_42_E04-T01.tiff: 46.6095\n",
      "G:\\classification\\cond_all\\cond7_all\\ds_41_G08-T01.tiff: 47.0574\n",
      "G:\\classification\\cond_all\\cond7_all\\ds_41_G06-T01.tiff: 47.1115\n",
      "G:\\classification\\cond_all\\cond7_all\\ds_41_D05-T01.tiff: 47.7584\n",
      "G:\\classification\\cond_all\\cond7_all\\ds_41_F08-T01.tiff: 47.9530\n",
      "G:\\classification\\cond_all\\cond7_all\\ds_41_E07-T01.tiff: 48.1865\n",
      "G:\\classification\\cond_all\\cond7_all\\ds_41_G07-T01.tiff: 48.2131\n",
      "G:\\classification\\cond_all\\cond7_all\\ds_41_D09-T01.tiff: 48.3794\n",
      "G:\\classification\\cond_all\\cond7_all\\ds_41_E04-T01.tiff: 48.4007\n",
      "G:\\classification\\cond_all\\cond7_all\\ds_41_F09-T01.tiff: 48.5943\n"
     ]
    },
    {
     "data": {
      "image/png": "[encoded data removed]",
      "text/plain": [
       "<Figure size 1200x400 with 1 Axes>"
      ]
     },
     "metadata": {},
     "output_type": "display_data"
    }
   ],
   "source": [
    "import matplotlib.pyplot as plt\n",
    "import numpy as np\n",
    "from sklearn.manifold import TSNE\n",
    "\n",
    "# Perform t-SNE\n",
    "perplexity = 30  # Tune as needed\n",
    "n_iter = 1000  # Number of optimization iterations\n",
    "\n",
    "# Convert features to NumPy array if they are in tensor form\n",
    "feats_np = feats.numpy() if isinstance(feats, torch.Tensor) else feats\n",
    "labels_np = labels.numpy() if isinstance(labels, torch.Tensor) else labels\n",
    "\n",
    "# Apply 1D t-SNE\n",
    "print(\"Running 1D t-SNE...\")\n",
    "tsne = TSNE(n_components=1, perplexity=perplexity, n_iter=n_iter, random_state=42)\n",
    "feats_1d = tsne.fit_transform(feats_np).flatten()  # Flatten to 1D array\n",
    "\n",
    "# Sort paths and scores in ascending order of t-SNE scores\n",
    "sorted_indices = np.argsort(feats_1d)  # Get indices that would sort the scores\n",
    "sorted_paths = np.array(paths)[sorted_indices]\n",
    "sorted_scores = feats_1d[sorted_indices]\n",
    "\n",
    "# Print sorted paths with corresponding t-SNE scores\n",
    "print(\"\\nPaths and t-SNE Scores (Ascending Order):\")\n",
    "for path, score in zip(sorted_paths, sorted_scores):\n",
    "    print(f\"{path}: {score:.4f}\")\n",
    "\n",
    "# Define colors for the different classes\n",
    "num_classes = len(np.unique(labels_np))\n",
    "colors = plt.cm.rainbow(np.linspace(0, 1, num_classes))\n",
    "\n",
    "# Create a scatter plot in 1D\n",
    "plt.figure(figsize=(12, 4))\n",
    "for i, color in zip(np.unique(labels_np), colors):\n",
    "    plt.scatter(sorted_scores[labels_np[sorted_indices] == i], \n",
    "                np.zeros_like(sorted_scores[labels_np[sorted_indices] == i]), \n",
    "                label=f'Class {i}', color=color, alpha=0.7, edgecolors='k')\n",
    "\n",
    "plt.title(\"1D t-SNE Visualization of Features (Sorted)\")\n",
    "plt.xlabel(\"t-SNE Component 1\")\n",
    "plt.yticks([])  # Remove y-axis ticks for clarity\n",
    "plt.legend(title=\"Class\", loc='best')\n",
    "plt.grid(axis='x')\n",
    "plt.show()\n"
   ]
  },
  {
   "cell_type": "code",
   "execution_count": 14,
   "metadata": {},
   "outputs": [
    {
     "data": {
      "image/png": "[encoded data removed]",
      "text/plain": [
       "<Figure size 1200x600 with 1 Axes>"
      ]
     },
     "metadata": {},
     "output_type": "display_data"
    }
   ],
   "source": [
    "# Define y-positions for each class\n",
    "unique_classes = np.unique(labels_np)\n",
    "class_y_positions = {cls: i for i, cls in enumerate(unique_classes)}\n",
    "\n",
    "# Create a scatter plot in 1D with y-positions for each class\n",
    "plt.figure(figsize=(12, 6))\n",
    "for cls, color in zip(unique_classes, colors):\n",
    "    class_indices = labels_np[sorted_indices] == cls\n",
    "    plt.scatter(\n",
    "        sorted_scores[class_indices],\n",
    "        np.full_like(sorted_scores[class_indices], class_y_positions[cls]),  # Assign y-position based on class\n",
    "        label=f'Class {cls}',\n",
    "        color=color,\n",
    "        alpha=0.7,\n",
    "        edgecolors='k'\n",
    "    )\n",
    "\n",
    "plt.title(\"1D t-SNE Visualization of Features with Class Separation\")\n",
    "plt.xlabel(\"t-SNE Component 1\")\n",
    "plt.ylabel(\"Class\")\n",
    "plt.yticks(range(len(unique_classes)), [f\"Class {cls}\" for cls in unique_classes])  # Set y-ticks for classes\n",
    "plt.legend(title=\"Class\", loc='best')\n",
    "plt.grid(axis='x')\n",
    "plt.show()\n"
   ]
  },
  {
   "cell_type": "code",
   "execution_count": 15,
   "metadata": {},
   "outputs": [
    {
     "name": "stdout",
     "output_type": "stream",
     "text": [
      "\n",
      "Mean t-SNE 1D values for each class:\n",
      "Class 0: 10.1307\n",
      "Class 1: -47.0088\n",
      "Class 2: -3.6241\n",
      "\n",
      "Middle class based on mean t-SNE 1D value: Class 2\n",
      "\n",
      "Min and Max t-SNE 1D values for each class:\n",
      "Class 0: Min=-38.8820, Max=48.5943\n",
      "Class 1: Min=-53.8648, Max=-40.0601\n",
      "Class 2: Min=-6.1382, Max=-0.8797\n",
      "\n",
      "Number of data points from Class 1 passing min value of middle class: 0\n",
      "Number of data points from Class 0 before max value of middle class: 156\n",
      "\n",
      "Accuracy: 0.7463\n"
     ]
    }
   ],
   "source": [
    "# Step 1: Find the mean value of t-SNE 1D for each class\n",
    "means_tsne = {cls: sorted_scores[labels_np[sorted_indices] == cls].mean() for cls in unique_classes}\n",
    "print(\"\\nMean t-SNE 1D values for each class:\")\n",
    "for cls, mean_value in means_tsne.items():\n",
    "    print(f\"Class {cls}: {mean_value:.4f}\")\n",
    "\n",
    "# Step 2: Find the middle class (class with median mean value of t-SNE 1D)\n",
    "sorted_means = sorted(means_tsne.items(), key=lambda x: x[1])\n",
    "middle_class = sorted_means[1][0]  # Middle class in sorted order\n",
    "print(f\"\\nMiddle class based on mean t-SNE 1D value: Class {middle_class}\")\n",
    "\n",
    "# Step 3: Find the min and max value of t-SNE 1D for each class\n",
    "min_max_tsne = {\n",
    "    cls: (sorted_scores[labels_np[sorted_indices] == cls].min(), \n",
    "          sorted_scores[labels_np[sorted_indices] == cls].max())\n",
    "    for cls in unique_classes\n",
    "}\n",
    "print(\"\\nMin and Max t-SNE 1D values for each class:\")\n",
    "for cls, (min_value, max_value) in min_max_tsne.items():\n",
    "    print(f\"Class {cls}: Min={min_value:.4f}, Max={max_value:.4f}\")\n",
    "\n",
    "# Step 4: Number of data points from first class (least mean value) passing min value of middle class\n",
    "first_class = sorted_means[0][0]  # Class with least mean value\n",
    "min_middle_class = min_max_tsne[middle_class][0]\n",
    "first_class_passed = np.sum(sorted_scores[labels_np[sorted_indices] == first_class] > min_middle_class)\n",
    "print(f\"\\nNumber of data points from Class {first_class} passing min value of middle class: {first_class_passed}\")\n",
    "\n",
    "# Step 5: Number of data points from third class (highest mean value) before max value of middle class\n",
    "third_class = sorted_means[2][0]  # Class with highest mean value\n",
    "max_middle_class = min_max_tsne[middle_class][1]\n",
    "third_class_before = np.sum(sorted_scores[labels_np[sorted_indices] == third_class] < max_middle_class)\n",
    "print(f\"Number of data points from Class {third_class} before max value of middle class: {third_class_before}\")\n",
    "\n",
    "# Step 6: Calculate accuracy\n",
    "total_points = len(labels_np)\n",
    "incorrect_points = first_class_passed + third_class_before\n",
    "accuracy = (total_points - incorrect_points) / total_points\n",
    "print(f\"\\nAccuracy: {accuracy:.4f}\")\n"
   ]
  },
  {
   "cell_type": "code",
   "execution_count": 16,
   "metadata": {},
   "outputs": [
    {
     "ename": "NameError",
     "evalue": "name 's' is not defined",
     "output_type": "error",
     "traceback": [
      "\u001b[1;31m---------------------------------------------------------------------------\u001b[0m",
      "\u001b[1;31mNameError\u001b[0m                                 Traceback (most recent call last)",
      "Cell \u001b[1;32mIn[16], line 1\u001b[0m\n\u001b[1;32m----> 1\u001b[0m \u001b[43ms\u001b[49m\n",
      "\u001b[1;31mNameError\u001b[0m: name 's' is not defined"
     ]
    }
   ],
   "source": [
    "s"
   ]
  },
  {
   "cell_type": "markdown",
   "metadata": {},
   "source": [
    "import torch\n",
    "import numpy as np\n",
    "import matplotlib.pyplot as plt\n",
    "from sklearn.decomposition import PCA\n",
    "from sklearn.preprocessing import StandardScaler\n",
    "\n",
    "# Convert PyTorch tensors to NumPy arrays\n",
    "feats_np = feats.numpy()\n",
    "labels_np = labels.numpy()\n",
    "\n",
    "# Standardize features before PCA\n",
    "scaler = StandardScaler()\n",
    "feats_scaled = scaler.fit_transform(feats_np)\n",
    "\n",
    "# Apply PCA\n",
    "pca = PCA(n_components=2)\n",
    "feats_pca = pca.fit_transform(feats_scaled)\n",
    "\n",
    "# Plot PCA results\n",
    "plt.figure(figsize=(8, 6))\n",
    "scatter = plt.scatter(feats_pca[:, 0], feats_pca[:, 1], c=labels_np, cmap='viridis', alpha=0.7)\n",
    "plt.colorbar(scatter, label='Class Labels')\n",
    "plt.xlabel('PCA Component 1')\n",
    "plt.ylabel('PCA Component 2')\n",
    "plt.title('PCA Visualization of SimCLR Features')\n",
    "plt.show()\n"
   ]
  },
  {
   "cell_type": "markdown",
   "metadata": {},
   "source": [
    "pca"
   ]
  },
  {
   "cell_type": "markdown",
   "metadata": {},
   "source": [
    "import torch\n",
    "import numpy as np\n",
    "import matplotlib.pyplot as plt\n",
    "from sklearn.decomposition import PCA\n",
    "from sklearn.preprocessing import StandardScaler\n",
    "\n",
    "# Convert PyTorch tensors to NumPy arrays\n",
    "feats_np = feats.numpy()\n",
    "labels_np = labels.numpy()\n",
    "\n",
    "# Standardize features before PCA\n",
    "scaler = StandardScaler()\n",
    "feats_scaled = scaler.fit_transform(feats_np)\n",
    "\n",
    "# Apply PCA\n",
    "pca = PCA(n_components=2)\n",
    "feats_pca = pca.fit_transform(feats_scaled)\n",
    "\n",
    "# Plot PCA results\n",
    "plt.figure(figsize=(8, 6))\n",
    "scatter = plt.scatter(feats_pca[:, 0], feats_pca[:, 1], c=labels_np, cmap='viridis', alpha=0.7)\n",
    "plt.colorbar(scatter, label='Class Labels')\n",
    "plt.xlabel('PCA Component 1')\n",
    "plt.ylabel('PCA Component 2')\n",
    "plt.title('PCA Visualization of SimCLR Features')\n",
    "\n",
    "# Create legend\n",
    "unique_labels = np.unique(labels_np)\n",
    "colors = [scatter.cmap(scatter.norm(label)) for label in unique_labels]\n",
    "legend_labels = [f'Class {label}' for label in unique_labels]\n",
    "plt.legend(handles=[plt.Line2D([0], [0], marker='o', color='w', markerfacecolor=color, markersize=10) for color in colors], labels=legend_labels, title='Classes')\n",
    "\n",
    "plt.show()"
   ]
  },
  {
   "cell_type": "markdown",
   "metadata": {},
   "source": [
    "import torch\n",
    "import numpy as np\n",
    "import matplotlib.pyplot as plt\n",
    "from sklearn.decomposition import PCA\n",
    "from sklearn.preprocessing import StandardScaler\n",
    "\n",
    "# Convert PyTorch tensors to NumPy arrays\n",
    "feats_np = feats.numpy()\n",
    "labels_np = labels.numpy()\n",
    "\n",
    "# Standardize features before PCA\n",
    "scaler = StandardScaler()\n",
    "feats_scaled = scaler.fit_transform(feats_np)\n",
    "\n",
    "# Apply PCA with 1 component\n",
    "pca = PCA(n_components=1)\n",
    "feats_pca = pca.fit_transform(feats_scaled)\n",
    "\n",
    "# Plot PCA results\n",
    "plt.figure(figsize=(8, 6))\n",
    "# Since we have 1D data, we'll use the PCA component for x-axis and create artificial y-coordinates\n",
    "scatter = plt.scatter(feats_pca, np.zeros_like(feats_pca), c=labels_np, cmap='viridis', alpha=0.7)\n",
    "plt.colorbar(scatter, label='Class Labels')\n",
    "plt.xlabel('PCA Component 1')\n",
    "plt.ylabel('')  # No y-axis label needed\n",
    "plt.title('1D PCA Visualization of SimCLR Features')\n",
    "\n",
    "# Create legend\n",
    "unique_labels = np.unique(labels_np)\n",
    "colors = [scatter.cmap(scatter.norm(label)) for label in unique_labels]\n",
    "legend_labels = [f'Class {label}' for label in unique_labels]\n",
    "plt.legend(handles=[plt.Line2D([0], [0], marker='o', color='w', markerfacecolor=color, markersize=10) for color in colors], labels=legend_labels, title='Classes')\n",
    "\n",
    "# Remove y-axis ticks since they're not meaningful\n",
    "plt.yticks([])\n",
    "\n",
    "plt.show()"
   ]
  },
  {
   "cell_type": "markdown",
   "metadata": {},
   "source": [
    "import torch\n",
    "import numpy as np\n",
    "import matplotlib.pyplot as plt\n",
    "from sklearn.decomposition import PCA\n",
    "from sklearn.preprocessing import StandardScaler\n",
    "\n",
    "# Convert PyTorch tensors to NumPy arrays\n",
    "feats_np = feats.numpy()\n",
    "labels_np = labels.numpy()\n",
    "\n",
    "# Standardize features before PCA\n",
    "scaler = StandardScaler()\n",
    "feats_scaled = scaler.fit_transform(feats_np)\n",
    "\n",
    "# Apply PCA with 1 component\n",
    "pca = PCA(n_components=1)\n",
    "feats_pca = pca.fit_transform(feats_scaled)\n",
    "\n",
    "# Get unique class labels and assign y-values accordingly\n",
    "unique_labels = np.unique(labels_np)\n",
    "class_y_positions = {label: i for i, label in enumerate(unique_labels)}\n",
    "\n",
    "# Map labels to their respective y positions\n",
    "y_positions = np.array([class_y_positions[label] for label in labels_np])\n",
    "\n",
    "# Plot PCA results\n",
    "plt.figure(figsize=(10, 6))\n",
    "scatter = plt.scatter(feats_pca, y_positions, c=labels_np, cmap='viridis', alpha=0.7)\n",
    "\n",
    "# Add colorbar and labels\n",
    "plt.colorbar(scatter, label='Class Labels')\n",
    "plt.xlabel('PCA Component 1')\n",
    "plt.ylabel('Class')\n",
    "plt.title('1D PCA Visualization of SimCLR Features')\n",
    "\n",
    "# Set y-ticks to represent class labels\n",
    "plt.yticks(range(len(unique_labels)), [f'Class {label}' for label in unique_labels])\n",
    "\n",
    "plt.show()\n"
   ]
  },
  {
   "cell_type": "markdown",
   "metadata": {},
   "source": [
    "# Step 1: Find the mean value of PCA 1D for each class\n",
    "unique_classes = np.unique(labels_np)\n",
    "class_means = {}\n",
    "\n",
    "for cls in unique_classes:\n",
    "    class_pca_values = feats_pca[labels_np == cls]\n",
    "    class_mean = np.mean(class_pca_values)\n",
    "    class_means[cls] = class_mean\n",
    "\n",
    "print(\"Mean PCA 1D Value for Each Class:\")\n",
    "for cls, mean_val in class_means.items():\n",
    "    print(f\"Class {cls}: {mean_val:.4f}\")\n",
    "\n",
    "# Step 2: Find which class is middle based on mean value (median)\n",
    "sorted_classes = sorted(class_means.items(), key=lambda x: x[1])\n",
    "first_class = sorted_classes[0][0]  # Class with the least mean\n",
    "middle_class = sorted_classes[1][0]  # Middle class\n",
    "third_class = sorted_classes[2][0]  # Class with the maximum mean\n",
    "print(f\"\\nMiddle Class (based on median mean value): Class {middle_class}\")\n",
    "\n",
    "# Step 3: Find min and max value of PCA 1D for each class\n",
    "class_min_max = {}\n",
    "\n",
    "for cls in unique_classes:\n",
    "    class_pca_values = feats_pca[labels_np == cls]\n",
    "    class_min = np.min(class_pca_values)\n",
    "    class_max = np.max(class_pca_values)\n",
    "    class_min_max[cls] = (class_min, class_max)\n",
    "\n",
    "print(\"\\nMin and Max PCA 1D Values for Each Class:\")\n",
    "for cls, (min_val, max_val) in class_min_max.items():\n",
    "    print(f\"Class {cls}: Min = {min_val:.4f}, Max = {max_val:.4f}\")\n",
    "\n",
    "# Step 4: Number of data points from first class that passed the minimum value of PCA 1D of the middle class\n",
    "middle_class_min = class_min_max[middle_class][0]\n",
    "first_class_values = feats_pca[labels_np == first_class]\n",
    "first_class_pass_count = np.sum(first_class_values > middle_class_min)\n",
    "print(f\"\\nNumber of data points from Class {first_class} that passed the minimum value of Middle Class: {first_class_pass_count}\")\n",
    "\n",
    "# Step 5: Number of data points from third class that lies before the maximum value of PCA 1D of the middle class\n",
    "middle_class_max = class_min_max[middle_class][1]\n",
    "third_class_values = feats_pca[labels_np == third_class]\n",
    "third_class_before_count = np.sum(third_class_values < middle_class_max)\n",
    "print(f\"Number of data points from Class {third_class} that lies before the maximum value of Middle Class: {third_class_before_count}\")\n",
    "\n",
    "# Step 6: Calculate accuracy\n",
    "total_other_class_points_in_middle_range = first_class_pass_count + third_class_before_count\n",
    "total_datapoints = len(feats_pca)\n",
    "accuracy = (total_datapoints - total_other_class_points_in_middle_range) / total_datapoints\n",
    "print(f\"\\nAccuracy: {accuracy:.4f}\")\n"
   ]
  },
  {
   "cell_type": "code",
   "execution_count": 16,
   "metadata": {},
   "outputs": [
    {
     "ename": "NameError",
     "evalue": "name 's' is not defined",
     "output_type": "error",
     "traceback": [
      "\u001b[1;31m---------------------------------------------------------------------------\u001b[0m",
      "\u001b[1;31mNameError\u001b[0m                                 Traceback (most recent call last)",
      "Cell \u001b[1;32mIn[16], line 1\u001b[0m\n\u001b[1;32m----> 1\u001b[0m \u001b[43ms\u001b[49m\n",
      "\u001b[1;31mNameError\u001b[0m: name 's' is not defined"
     ]
    }
   ],
   "source": [
    "s"
   ]
  },
  {
   "cell_type": "code",
   "execution_count": 42,
   "metadata": {},
   "outputs": [
    {
     "name": "stdout",
     "output_type": "stream",
     "text": [
      "\n",
      "Cumulative Explained Variance:\n",
      "PC1 to PC1: 17.0%\n",
      "PC1 to PC2: 30.5%\n",
      "PC1 to PC3: 40.9%\n",
      "PC1 to PC4: 50.7%\n",
      "PC1 to PC5: 60.2%\n",
      "PC1 to PC6: 65.5%\n",
      "PC1 to PC7: 70.1%\n",
      "PC1 to PC8: 73.5%\n",
      "PC1 to PC9: 76.8%\n",
      "PC1 to PC10: 79.4%\n"
     ]
    },
    {
     "data": {
      "image/png": "[encoded data removed]",
      "text/plain": [
       "<Figure size 1000x600 with 1 Axes>"
      ]
     },
     "metadata": {},
     "output_type": "display_data"
    }
   ],
   "source": [
    "import torch\n",
    "import numpy as np\n",
    "import matplotlib.pyplot as plt\n",
    "from sklearn.decomposition import PCA\n",
    "from sklearn.preprocessing import StandardScaler\n",
    "\n",
    "# Convert PyTorch tensors to NumPy arrays and prepare data\n",
    "feats_np = feats.numpy()\n",
    "scaler = StandardScaler()\n",
    "feats_scaled = scaler.fit_transform(feats_np)\n",
    "\n",
    "# Apply PCA\n",
    "pca = PCA()\n",
    "pca.fit(feats_scaled)\n",
    "\n",
    "# Get first 10 components of explained variance ratio\n",
    "explained_var_ratio = pca.explained_variance_ratio_[:10]\n",
    "\n",
    "# Create the bar plot\n",
    "plt.figure(figsize=(10, 6))\n",
    "bars = plt.bar(range(1, 11), explained_var_ratio, alpha=0.8, color='blue')\n",
    "plt.xlabel('Principal Component')\n",
    "plt.ylabel('Explained Variance Ratio')\n",
    "plt.title('Scree Plot (First 10 Principal Components)')\n",
    "plt.grid(True, alpha=0.3)\n",
    "\n",
    "# Add percentage labels on top of each bar\n",
    "for i, v in enumerate(explained_var_ratio):\n",
    "    plt.text(i + 1, v, f'{v*100:.1f}%', ha='center', va='bottom')\n",
    "\n",
    "# Print cumulative explained variance\n",
    "cumulative_var = np.cumsum(explained_var_ratio)\n",
    "print(\"\\nCumulative Explained Variance:\")\n",
    "for i, cum_var in enumerate(cumulative_var, 1):\n",
    "    print(f\"PC1 to PC{i}: {cum_var*100:.1f}%\")\n",
    "\n",
    "plt.tight_layout()\n",
    "plt.show()"
   ]
  },
  {
   "cell_type": "markdown",
   "metadata": {},
   "source": [
    "import torch\n",
    "import numpy as np\n",
    "import matplotlib.pyplot as plt\n",
    "from sklearn.decomposition import PCA\n",
    "from sklearn.preprocessing import StandardScaler, normalize\n",
    "\n",
    "# Convert PyTorch tensors to NumPy arrays\n",
    "feats_np = feats.numpy()\n",
    "labels_np = labels.numpy()\n",
    "\n",
    "# Normalize features\n",
    "feats_np_norm = normalize(feats_np, axis=1)\n",
    "\n",
    "# Standardize features before PCA\n",
    "scaler = StandardScaler()\n",
    "feats_scaled = scaler.fit_transform(feats_np_norm)\n",
    "\n",
    "# Apply PCA\n",
    "pca = PCA(n_components=2)\n",
    "feats_pca = pca.fit_transform(feats_scaled)\n",
    "\n",
    "# Plot PCA results\n",
    "plt.figure(figsize=(8, 6))\n",
    "scatter = plt.scatter(feats_pca[:, 0], feats_pca[:, 1], c=labels_np, cmap='viridis', alpha=0.7)\n",
    "plt.colorbar(scatter, label='Class Labels')\n",
    "plt.xlabel('PCA Component 1')\n",
    "plt.ylabel('PCA Component 2')\n",
    "plt.title('PCA Visualization of SimCLR Features')\n",
    "\n",
    "# Create legend\n",
    "unique_labels = np.unique(labels_np)\n",
    "colors = [scatter.cmap(scatter.norm(label)) for label in unique_labels]\n",
    "legend_labels = [f'Class {label}' for label in unique_labels]\n",
    "plt.legend(handles=[plt.Line2D([0], [0], marker='o', color='w', markerfacecolor=color, markersize=10) for color in colors], labels=legend_labels, title='Classes')\n",
    "\n",
    "plt.show()\n"
   ]
  }
 ],
 "metadata": {
  "kernelspec": {
   "display_name": "master",
   "language": "python",
   "name": "python3"
  },
  "language_info": {
   "codemirror_mode": {
    "name": "ipython",
    "version": 3
   },
   "file_extension": ".py",
   "mimetype": "text/x-python",
   "name": "python",
   "nbconvert_exporter": "python",
   "pygments_lexer": "ipython3",
   "version": "3.12.3"
  }
 },
 "nbformat": 4,
 "nbformat_minor": 2
}
