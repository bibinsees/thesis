{
 "cells": [
  {
   "cell_type": "code",
   "execution_count": 1,
   "metadata": {},
   "outputs": [],
   "source": [
    "from torch.utils.data import Dataset\n",
    "import os\n",
    "import tifffile as tiff\n",
    "import numpy as np\n",
    "from torchvision import transforms\n",
    "import torch\n",
    "import matplotlib.pyplot as plt\n",
    "import torch.nn.functional as F\n",
    "\n",
    "from collections import Counter\n",
    "\n",
    "from scipy.stats import mode\n",
    "\n"
   ]
  },
  {
   "cell_type": "code",
   "execution_count": 2,
   "metadata": {},
   "outputs": [
    {
     "name": "stdout",
     "output_type": "stream",
     "text": [
      "Class Labels and Counts:\n",
      "Class 'cond7_all' (Index 0): 472 images\n",
      "Class 'ex' (Index 1): 40 images\n",
      "Class 'sd' (Index 2): 103 images\n"
     ]
    }
   ],
   "source": [
    "class ImageDataset(Dataset):\n",
    "    def __init__(self, image_dir):\n",
    "        self.image_dir = image_dir\n",
    "        self.image_files = []\n",
    "        self.labels = []\n",
    "        self.class_names = []  # To store class (folder) names\n",
    "        self.class_to_idx = {}  # To map class names to indices\n",
    "        self.class_counts = {}  # To store count of images per class\n",
    "\n",
    "        # Define a transformation to resize the images\n",
    "        self.transform = transforms.Compose([transforms.Resize((96, 96))])\n",
    "\n",
    "        # Get all subdirectories (classes)\n",
    "        self.class_names = [d for d in os.listdir(image_dir) if os.path.isdir(os.path.join(image_dir, d))]\n",
    "        self.class_names.sort()  # Ensure consistent ordering\n",
    "        self.class_to_idx = {cls_name: idx for idx, cls_name in enumerate(self.class_names)}\n",
    "\n",
    "        # Load images and assign labels based on folder name\n",
    "        for class_name in self.class_names:\n",
    "            class_dir = os.path.join(image_dir, class_name)\n",
    "            class_images = [os.path.join(class_dir, file) for file in os.listdir(class_dir) if file.endswith(('.tiff', '.tif'))]\n",
    "            self.image_files.extend(class_images)\n",
    "            self.labels.extend([self.class_to_idx[class_name]] * len(class_images))  # Assign class index as label\n",
    "            \n",
    "            # Store the count of images per class\n",
    "            self.class_counts[class_name] = len(class_images)\n",
    "\n",
    "        # Print labels and counts\n",
    "        self.print_labels_and_counts()\n",
    "     \n",
    "    def __len__(self):\n",
    "        return len(self.image_files)\n",
    "\n",
    "    def __getitem__(self, idx):\n",
    "        img_path = self.image_files[idx]\n",
    "        label = self.labels[idx]\n",
    "\n",
    "        image = tiff.imread(img_path)\n",
    "\n",
    "        # Ensure the image has 3 layers (channels)\n",
    "        if image.shape[0] != 3:\n",
    "            raise ValueError(f\"Image {img_path} does not have exactly 3 layers.\")\n",
    "        \n",
    "        # Normalize the 16-bit image to [0, 1]\n",
    "        original_image = image.astype(np.float32) / 65535.0\n",
    "\n",
    "        # Convert to a torch tensor \n",
    "        image = torch.tensor(original_image, dtype=torch.float32)\n",
    "        #print(image.shape)\n",
    "        # Apply the resizing transform (resize)\n",
    "        image = self.transform(image)\n",
    "\n",
    "        flattened_image = image.view(-1).numpy()  # Reshape to (96*96*3, )\n",
    "        \n",
    "        return flattened_image, label\n",
    "\n",
    "    def print_labels_and_counts(self):\n",
    "        print(\"Class Labels and Counts:\")\n",
    "        for class_name, class_index in self.class_to_idx.items():\n",
    "            print(f\"Class '{class_name}' (Index {class_index}): {self.class_counts[class_name]} images\")\n",
    "\n",
    "\n",
    "\n",
    "\n",
    "image_dir = r\"G:\\classification\\cond_all\"\n",
    "\n",
    "\n",
    "dataset = ImageDataset(image_dir)  # Initialize dataset, it will automatically print labels and counts\n"
   ]
  },
  {
   "cell_type": "code",
   "execution_count": 3,
   "metadata": {},
   "outputs": [
    {
     "name": "stdout",
     "output_type": "stream",
     "text": [
      "(27648,)\n",
      "0\n"
     ]
    }
   ],
   "source": [
    "for i in range(len(dataset)):\n",
    "    falttened_image,l = dataset[i]\n",
    "    print(falttened_image.shape)\n",
    "    print(l)  \n",
    "    break"
   ]
  },
  {
   "cell_type": "code",
   "execution_count": 4,
   "metadata": {},
   "outputs": [
    {
     "data": {
      "text/plain": [
       "numpy.ndarray"
      ]
     },
     "execution_count": 4,
     "metadata": {},
     "output_type": "execute_result"
    }
   ],
   "source": [
    "type(falttened_image)"
   ]
  },
  {
   "cell_type": "code",
   "execution_count": 5,
   "metadata": {},
   "outputs": [
    {
     "data": {
      "text/plain": [
       "(27648,)"
      ]
     },
     "execution_count": 5,
     "metadata": {},
     "output_type": "execute_result"
    }
   ],
   "source": [
    "falttened_image.shape"
   ]
  },
  {
   "cell_type": "code",
   "execution_count": 6,
   "metadata": {},
   "outputs": [],
   "source": [
    "# Combine all images into a single dataset for K-Means input\n",
    "def load_image_data(dataset):\n",
    "    all_images = []\n",
    "    all_labels = []\n",
    "    \n",
    "    for i in range(len(dataset)):\n",
    "        flattened_image, label = dataset[i]  # Unpack the image and label\n",
    "        all_images.append(flattened_image)\n",
    "        all_labels.append(label)\n",
    "    \n",
    "    # Stack all the flattened images to create a large dataset\n",
    "    # Convert to numpy arrays for K-Means input\n",
    "    return np.vstack(all_images), np.array(all_labels)"
   ]
  },
  {
   "cell_type": "code",
   "execution_count": 7,
   "metadata": {},
   "outputs": [],
   "source": [
    "X, labels = load_image_data(dataset) "
   ]
  },
  {
   "cell_type": "code",
   "execution_count": 8,
   "metadata": {},
   "outputs": [
    {
     "data": {
      "text/plain": [
       "(615, 27648)"
      ]
     },
     "execution_count": 8,
     "metadata": {},
     "output_type": "execute_result"
    }
   ],
   "source": [
    "X.shape"
   ]
  },
  {
   "cell_type": "code",
   "execution_count": 9,
   "metadata": {},
   "outputs": [
    {
     "name": "stdout",
     "output_type": "stream",
     "text": [
      "<class 'numpy.ndarray'>\n"
     ]
    },
    {
     "data": {
      "text/plain": [
       "(615,)"
      ]
     },
     "execution_count": 9,
     "metadata": {},
     "output_type": "execute_result"
    }
   ],
   "source": [
    "print(type(labels))\n",
    "\n",
    "labels.shape"
   ]
  },
  {
   "cell_type": "code",
   "execution_count": 15,
   "metadata": {},
   "outputs": [
    {
     "name": "stderr",
     "output_type": "stream",
     "text": [
      "c:\\Users\\k54739\\.conda\\envs\\master\\Lib\\site-packages\\tqdm\\auto.py:21: TqdmWarning: IProgress not found. Please update jupyter and ipywidgets. See https://ipywidgets.readthedocs.io/en/stable/user_install.html\n",
      "  from .autonotebook import tqdm as notebook_tqdm\n",
      "c:\\Users\\k54739\\.conda\\envs\\master\\Lib\\site-packages\\umap\\umap_.py:1952: UserWarning: n_jobs value 1 overridden to 1 by setting random_state. Use no seed for parallelism.\n",
      "  warn(\n"
     ]
    },
    {
     "data": {
      "image/png": "[encoded data removed]",
      "text/plain": [
       "<Figure size 1000x600 with 2 Axes>"
      ]
     },
     "metadata": {},
     "output_type": "display_data"
    }
   ],
   "source": [
    "import umap\n",
    "import matplotlib.pyplot as plt\n",
    "\n",
    "# Assuming X and labels have been created from your dataset\n",
    "# X, labels = load_image_data(dataset)\n",
    "\n",
    "# Apply 1D UMAP projection\n",
    "umap_1d = umap.UMAP(n_components=1, random_state=42)\n",
    "umap_result = umap_1d.fit_transform(X)  # umap_result shape: (N, 1)\n",
    "\n",
    "# Plot 1D UMAP results\n",
    "plt.figure(figsize=(10, 6))\n",
    "plt.scatter(umap_result[:, 0], \n",
    "            np.zeros_like(umap_result[:, 0]), \n",
    "            c=labels, \n",
    "            cmap='viridis', \n",
    "            edgecolors='k', \n",
    "            s=50)\n",
    "plt.colorbar(label='Class Label')\n",
    "plt.title('1D UMAP Projection of Image Features')\n",
    "plt.xlabel('UMAP 1D')\n",
    "plt.yticks([])  # Hide y-axis ticks since they're all zeros\n",
    "plt.show()\n"
   ]
  },
  {
   "cell_type": "code",
   "execution_count": 16,
   "metadata": {},
   "outputs": [
    {
     "name": "stderr",
     "output_type": "stream",
     "text": [
      "c:\\Users\\k54739\\.conda\\envs\\master\\Lib\\site-packages\\umap\\umap_.py:1952: UserWarning: n_jobs value 1 overridden to 1 by setting random_state. Use no seed for parallelism.\n",
      "  warn(\n"
     ]
    },
    {
     "data": {
      "image/png": "[encoded data removed]",
      "text/plain": [
       "<Figure size 1000x600 with 2 Axes>"
      ]
     },
     "metadata": {},
     "output_type": "display_data"
    }
   ],
   "source": [
    "import umap\n",
    "import matplotlib.pyplot as plt\n",
    "\n",
    "# Assuming X and labels have been created from your dataset\n",
    "# X, labels = load_image_data(dataset)\n",
    "\n",
    "# Apply 1D UMAP projection\n",
    "umap_1d = umap.UMAP(n_components=1, random_state=42)\n",
    "umap_result = umap_1d.fit_transform(X)  # umap_result shape: (N, 1)\n",
    "\n",
    "# Plot 1D UMAP results with y-axis as the class labels\n",
    "plt.figure(figsize=(10, 6))\n",
    "plt.scatter(umap_result[:, 0], labels, c=labels, cmap='viridis', edgecolors='k', s=50)\n",
    "plt.colorbar(label='Class Label')\n",
    "plt.title('1D UMAP Projection of Image Features with Class Separation')\n",
    "plt.xlabel('UMAP 1D')\n",
    "plt.ylabel('Class Label')\n",
    "plt.yticks(sorted(set(labels)))  # Ensure y-axis ticks match the unique class labels (e.g., 0, 1, 2)\n",
    "plt.show()\n"
   ]
  },
  {
   "cell_type": "code",
   "execution_count": 17,
   "metadata": {},
   "outputs": [
    {
     "name": "stdout",
     "output_type": "stream",
     "text": [
      "Mean UMAP 1D Value for Each Class:\n",
      "Class 0: 8.1130\n",
      "Class 1: -0.9631\n",
      "Class 2: -2.1188\n",
      "\n",
      "Middle Class (based on median mean value): Class 1\n",
      "\n",
      "Min and Max UMAP 1D Values for Each Class:\n",
      "Class 0: Min = -11.6780, Max = 21.4621\n",
      "Class 1: Min = -7.6303, Max = 5.7477\n",
      "Class 2: Min = -4.0681, Max = 7.7094\n",
      "\n",
      "Number of data points from Class 0 that passed the minimum value of Middle Class: 406\n",
      "Number of data points from Class 2 that lies before the maximum value of Middle Class: 101\n",
      "\n",
      "Accuracy: 0.1756\n"
     ]
    }
   ],
   "source": [
    "import numpy as np\n",
    "\n",
    "# Step 1: Calculate the mean value of UMAP 1D for each class\n",
    "unique_classes = np.unique(labels)\n",
    "class_means = {}\n",
    "\n",
    "for cls in unique_classes:\n",
    "    class_umap_values = umap_result[labels == cls]\n",
    "    class_mean = np.mean(class_umap_values)\n",
    "    class_means[cls] = class_mean\n",
    "\n",
    "print(\"Mean UMAP 1D Value for Each Class:\")\n",
    "for cls, mean_val in class_means.items():\n",
    "    print(f\"Class {cls}: {mean_val:.4f}\")\n",
    "\n",
    "# Step 2: Find the middle class based on the mean value (median)\n",
    "sorted_classes = sorted(class_means.items(), key=lambda x: x[1])\n",
    "middle_class = sorted_classes[len(sorted_classes) // 2][0]\n",
    "print(f\"\\nMiddle Class (based on median mean value): Class {middle_class}\")\n",
    "\n",
    "# Step 3: Find the min and max value of UMAP 1D for each class\n",
    "class_min_max = {}\n",
    "\n",
    "for cls in unique_classes:\n",
    "    class_umap_values = umap_result[labels == cls]\n",
    "    class_min = np.min(class_umap_values)\n",
    "    class_max = np.max(class_umap_values)\n",
    "    class_min_max[cls] = (class_min, class_max)\n",
    "\n",
    "print(\"\\nMin and Max UMAP 1D Values for Each Class:\")\n",
    "for cls, (min_val, max_val) in class_min_max.items():\n",
    "    print(f\"Class {cls}: Min = {min_val:.4f}, Max = {max_val:.4f}\")\n",
    "\n",
    "# Step 4: Number of data points from first class that passed the minimum value of the middle class\n",
    "middle_class_min = class_min_max[middle_class][0]\n",
    "class_0_values = umap_result[labels == 0]\n",
    "class_0_pass_count = np.sum(class_0_values > middle_class_min)\n",
    "print(f\"\\nNumber of data points from Class 0 that passed the minimum value of Middle Class: {class_0_pass_count}\")\n",
    "\n",
    "# Step 5: Number of data points from third class that lies before the maximum value of the middle class\n",
    "middle_class_max = class_min_max[middle_class][1]\n",
    "class_2_values = umap_result[labels == 2]\n",
    "class_2_before_count = np.sum(class_2_values < middle_class_max)\n",
    "print(f\"Number of data points from Class 2 that lies before the maximum value of Middle Class: {class_2_before_count}\")\n",
    "\n",
    "# Step 6: Calculate accuracy\n",
    "total_other_class_points_in_middle_range = class_0_pass_count + class_2_before_count\n",
    "total_datapoints = len(umap_result)\n",
    "accuracy = (total_datapoints - total_other_class_points_in_middle_range) / total_datapoints\n",
    "print(f\"\\nAccuracy: {accuracy:.4f}\")\n"
   ]
  },
  {
   "cell_type": "markdown",
   "metadata": {},
   "source": [
    "import numpy as np\n",
    "import matplotlib.pyplot as plt\n",
    "from sklearn.manifold import TSNE\n",
    "\n",
    "# Perform t-SNE to reduce the data to 2D\n",
    "tsne = TSNE(n_components=2, perplexity=30, random_state=42)\n",
    "X_tsne = tsne.fit_transform(X)  # X is your image dataset in flattened form\n",
    "\n",
    "# Define colors for the different classes\n",
    "num_classes = len(np.unique(labels))\n",
    "colors = plt.cm.rainbow(np.linspace(0, 1, num_classes))\n",
    "\n",
    "# Plot the t-SNE results\n",
    "plt.figure(figsize=(10, 8))\n",
    "for i, class_label in enumerate(np.unique(labels)):\n",
    "    plt.scatter(\n",
    "        X_tsne[labels == class_label, 0], \n",
    "        X_tsne[labels == class_label, 1], \n",
    "        label=f'Class {class_label}',\n",
    "        color=colors[i],\n",
    "        alpha=0.7\n",
    "    )\n",
    "\n",
    "plt.xlabel(\"t-SNE Component 1\")\n",
    "plt.ylabel(\"t-SNE Component 2\")\n",
    "plt.title(\"t-SNE Visualization of Image Data\")\n",
    "plt.legend()\n",
    "plt.show()\n"
   ]
  },
  {
   "cell_type": "markdown",
   "metadata": {},
   "source": [
    "import numpy as np\n",
    "import matplotlib.pyplot as plt\n",
    "from sklearn.manifold import TSNE\n",
    "\n",
    "# Perform t-SNE to reduce the data to 1D\n",
    "tsne = TSNE(n_components=1, perplexity=30, random_state=42)\n",
    "X_tsne = tsne.fit_transform(X).flatten()  # X is your dataset in flattened form\n",
    "\n",
    "# Define colors for the different classes\n",
    "num_classes = len(np.unique(labels))\n",
    "colors = plt.cm.rainbow(np.linspace(0, 1, num_classes))\n",
    "\n",
    "# Plot the t-SNE results in 1D\n",
    "plt.figure(figsize=(12, 2))\n",
    "for i, class_label in enumerate(np.unique(labels)):\n",
    "    plt.scatter(\n",
    "        X_tsne[labels == class_label], \n",
    "        [i] * sum(labels == class_label),  # Slight jitter for better visibility\n",
    "        label=f'Class {class_label}',\n",
    "        color=colors[i],\n",
    "        alpha=0.7\n",
    "    )\n",
    "\n",
    "plt.xlabel(\"t-SNE 1D Component\")\n",
    "plt.yticks([])  # Remove y-axis labels\n",
    "plt.title(\"1D t-SNE Visualization of Image Data\")\n",
    "plt.legend()\n",
    "plt.show()\n"
   ]
  },
  {
   "cell_type": "markdown",
   "metadata": {},
   "source": [
    "import numpy as np\n",
    "from sklearn.decomposition import PCA\n",
    "import matplotlib.pyplot as plt\n",
    "import seaborn as sns\n",
    "\n",
    "# Load the image data\n",
    "X, y = load_image_data(dataset)\n",
    "\n",
    "# Create and fit PCA\n",
    "pca = PCA(n_components=2)\n",
    "X_pca = pca.fit_transform(X)\n",
    "\n",
    "# Create a scatter plot\n",
    "plt.figure(figsize=(12, 8))\n",
    "scatter = plt.scatter(X_pca[:, 0], X_pca[:, 1], c=y, cmap='tab20', alpha=0.6)\n",
    "\n",
    "# Add labels and title\n",
    "plt.xlabel(f'First Principal Component\\nExplained variance ratio: {pca.explained_variance_ratio_[0]:.3f}')\n",
    "plt.ylabel(f'Second Principal Component\\nExplained variance ratio: {pca.explained_variance_ratio_[1]:.3f}')\n",
    "plt.title('PCA of Image Dataset')\n",
    "\n",
    "# Add a legend\n",
    "legend_elements = [plt.Line2D([0], [0], marker='o', color='w', \n",
    "                            markerfacecolor=scatter.cmap(scatter.norm(class_idx)), \n",
    "                            label=class_name, markersize=10)\n",
    "                  for class_name, class_idx in dataset.class_to_idx.items()]\n",
    "plt.legend(handles=legend_elements, title='Classes', \n",
    "          bbox_to_anchor=(1.05, 1), loc='upper left')\n",
    "\n",
    "# Add grid\n",
    "plt.grid(True, alpha=0.3)\n",
    "\n",
    "# Adjust layout to prevent legend cutoff\n",
    "plt.tight_layout()\n",
    "\n",
    "# Show the plot\n",
    "plt.show()\n",
    "\n",
    "# Print the total explained variance ratio\n",
    "total_var = pca.explained_variance_ratio_.sum()\n",
    "print(f\"\\nTotal explained variance ratio: {total_var:.3f}\")\n",
    "\n",
    "# Print component information\n",
    "print(\"\\nPCA Components shape:\", pca.components_.shape)\n",
    "print(\"Number of components:\", pca.n_components_)"
   ]
  },
  {
   "cell_type": "markdown",
   "metadata": {},
   "source": [
    "import numpy as np\n",
    "from sklearn.decomposition import PCA\n",
    "import matplotlib.pyplot as plt\n",
    "\n",
    "# Load the image data\n",
    "X, y = load_image_data(dataset)\n",
    "\n",
    "# Define dark colors for each class\n",
    "dark_colors = ['darkred', 'darkblue', 'darkgreen', 'purple', 'navy', \n",
    "               'darkmagenta', 'darkorange', 'crimson', 'darkslategray', 'indigo']\n",
    "\n",
    "# Create a color map dictionary\n",
    "color_map = {idx: color for idx, color in enumerate(dark_colors[:len(dataset.class_names)])}\n",
    "\n",
    "# Create and fit PCA\n",
    "pca = PCA(n_components=2)\n",
    "X_pca = pca.fit_transform(X)\n",
    "\n",
    "# Create a scatter plot\n",
    "plt.figure(figsize=(12, 8))\n",
    "\n",
    "# Plot each class separately to ensure proper legend\n",
    "for class_idx in dataset.class_to_idx.values():\n",
    "    mask = y == class_idx\n",
    "    plt.scatter(X_pca[mask, 0], X_pca[mask, 1], \n",
    "               c=color_map[class_idx],\n",
    "               label=list(dataset.class_to_idx.keys())[list(dataset.class_to_idx.values()).index(class_idx)],\n",
    "               alpha=0.6)\n",
    "\n",
    "# Add labels and title\n",
    "plt.xlabel(f'First Principal Component\\nExplained variance ratio: {pca.explained_variance_ratio_[0]:.3f}')\n",
    "plt.ylabel(f'Second Principal Component\\nExplained variance ratio: {pca.explained_variance_ratio_[1]:.3f}')\n",
    "plt.title('PCA of Image Dataset')\n",
    "\n",
    "# Add legend\n",
    "plt.legend(title='Classes', bbox_to_anchor=(1.05, 1), loc='upper left')\n",
    "\n",
    "# Add grid\n",
    "plt.grid(True, alpha=0.3)\n",
    "\n",
    "# Adjust layout to prevent legend cutoff\n",
    "plt.tight_layout()\n",
    "\n",
    "# Show the plot\n",
    "plt.show()\n",
    "\n",
    "# Print the total explained variance ratio\n",
    "total_var = pca.explained_variance_ratio_.sum()\n",
    "print(f\"\\nTotal explained variance ratio: {total_var:.3f}\")\n",
    "\n",
    "# Print component information\n",
    "print(\"\\nPCA Components shape:\", pca.components_.shape)\n",
    "print(\"Number of components:\", pca.n_components_)"
   ]
  },
  {
   "cell_type": "markdown",
   "metadata": {},
   "source": [
    "import numpy as np\n",
    "import matplotlib.pyplot as plt\n",
    "from sklearn.decomposition import PCA\n",
    "\n",
    "# Load image data\n",
    "image_data, labels = load_image_data(dataset)\n",
    "\n",
    "# Apply PCA to reduce dimensions to 2\n",
    "pca = PCA(n_components=2)\n",
    "pca_result = pca.fit_transform(image_data)\n",
    "\n",
    "# Scatter plot of PCA results\n",
    "plt.figure(figsize=(8, 6))\n",
    "scatter = plt.scatter(pca_result[:, 0], pca_result[:, 1], c=labels, cmap='viridis', alpha=0.7)\n",
    "plt.colorbar(scatter, label='Class Label')\n",
    "plt.xlabel('PCA Component 1')\n",
    "plt.ylabel('PCA Component 2')\n",
    "plt.title('PCA Visualization of Image Dataset')\n",
    "plt.show()\n"
   ]
  },
  {
   "cell_type": "markdown",
   "metadata": {},
   "source": [
    "import numpy as np\n",
    "import matplotlib.pyplot as plt\n",
    "from sklearn.decomposition import PCA\n",
    "\n",
    "# Load image data\n",
    "image_data, labels = load_image_data(dataset)\n",
    "\n",
    "# Apply PCA to reduce dimensions to 1\n",
    "pca = PCA(n_components=1)\n",
    "pca_result = pca.fit_transform(image_data)\n",
    "\n",
    "# Scatter plot of 1D PCA results (using an artificial y-axis)\n",
    "plt.figure(figsize=(8, 6))\n",
    "scatter = plt.scatter(pca_result[:, 0], np.zeros_like(pca_result[:, 0]), c=labels, cmap='viridis', alpha=0.7)\n",
    "plt.colorbar(scatter, label='Class Label')\n",
    "plt.xlabel('PCA Component 1')\n",
    "plt.title('1D PCA Visualization of Image Dataset')\n",
    "plt.yticks([])  # Hide y-axis ticks as they are not meaningful\n",
    "plt.show()\n"
   ]
  },
  {
   "cell_type": "markdown",
   "metadata": {},
   "source": [
    "import numpy as np\n",
    "import matplotlib.pyplot as plt\n",
    "from sklearn.decomposition import PCA\n",
    "\n",
    "# Load image data\n",
    "image_data, labels = load_image_data(dataset)\n",
    "\n",
    "# Apply PCA to reduce dimensions to 1\n",
    "pca = PCA(n_components=1)\n",
    "pca_result = pca.fit_transform(image_data)\n",
    "\n",
    "# Convert labels to a NumPy array (if they aren't already)\n",
    "labels = np.array(labels)\n",
    "\n",
    "# Create a scatter plot where y-values correspond to the class labels\n",
    "plt.figure(figsize=(8, 6))\n",
    "scatter = plt.scatter(pca_result[:, 0], labels, c=labels, cmap='viridis', alpha=0.7)\n",
    "plt.colorbar(scatter, label='Class Label')\n",
    "plt.xlabel('PCA Component 1')\n",
    "plt.ylabel('Class Label')\n",
    "plt.title('1D PCA Visualization of Image Dataset with Class Separation')\n",
    "plt.yticks(np.unique(labels))  # Ensure y-axis ticks match the unique class labels\n",
    "plt.show()\n"
   ]
  },
  {
   "cell_type": "markdown",
   "metadata": {},
   "source": [
    "import numpy as np\n",
    "import matplotlib.pyplot as plt\n",
    "from sklearn.decomposition import PCA\n",
    "\n",
    "# Example: Load image data (assumes load_image_data returns image_data and labels)\n",
    "image_data, labels = load_image_data(dataset)\n",
    "\n",
    "# Apply PCA to reduce dimensions to 1\n",
    "pca = PCA(n_components=1)\n",
    "pca_result = pca.fit_transform(image_data)  # pca_result shape: (N, 1)\n",
    "\n",
    "# Convert labels to a NumPy array (if not already)\n",
    "labels = np.array(labels)\n",
    "\n",
    "# -----------------------------\n",
    "# Step 1: Compute mean, min, and max PCA=1 values for each class\n",
    "# -----------------------------\n",
    "unique_classes = np.unique(labels)\n",
    "class_means = {}\n",
    "class_min_max = {}\n",
    "\n",
    "for cls in unique_classes:\n",
    "    # Get indices for the current class\n",
    "    cls_indices = np.where(labels == cls)[0]\n",
    "    # Extract the PCA=1 values for the current class\n",
    "    cls_pca_values = pca_result[cls_indices, 0]\n",
    "    # Compute mean, min, and max for the class\n",
    "    class_means[cls] = np.mean(cls_pca_values)\n",
    "    class_min_max[cls] = {\n",
    "        'min': np.min(cls_pca_values),\n",
    "        'max': np.max(cls_pca_values)\n",
    "    }\n",
    "\n",
    "# Print the mean PCA value for each class\n",
    "print(\"Mean PCA value for each class:\")\n",
    "for cls in unique_classes:\n",
    "    print(f\"Class {cls}: {class_means[cls]:.4f}\")\n",
    "\n",
    "# -----------------------------\n",
    "# Step 2: Determine the middle class based on the median of the mean PCA values\n",
    "# -----------------------------\n",
    "# Sort classes by their mean PCA values\n",
    "sorted_classes = sorted(class_means.keys(), key=lambda x: class_means[x])\n",
    "# The middle class is the one at the median index\n",
    "middle_class = sorted_classes[len(sorted_classes) // 2]\n",
    "\n",
    "print(f\"\\nMiddle Class (by mean PCA value): {middle_class}\")\n",
    "middle_class_range_min = class_min_max[middle_class]['min']\n",
    "middle_class_range_max = class_min_max[middle_class]['max']\n",
    "print(f\"Middle Class PCA value range: {middle_class_range_min:.4f} to {middle_class_range_max:.4f}\")\n",
    "\n",
    "# -----------------------------\n",
    "# Step 3: Count data points from other classes that lie within the middle class range\n",
    "# -----------------------------\n",
    "points_in_range = {}\n",
    "total_points_in_range = 0\n",
    "\n",
    "for cls in unique_classes:\n",
    "    if cls != middle_class:\n",
    "        cls_indices = np.where(labels == cls)[0]\n",
    "        cls_pca_values = pca_result[cls_indices, 0]\n",
    "        # Count data points whose PCA value lies between the min and max of the middle class\n",
    "        count = np.sum((cls_pca_values >= middle_class_range_min) & (cls_pca_values <= middle_class_range_max))\n",
    "        points_in_range[cls] = count\n",
    "        total_points_in_range += count\n",
    "\n",
    "print(\"\\nNumber of data points from other classes that lie in the range of the middle class:\")\n",
    "for cls in points_in_range:\n",
    "    print(f\"Class {cls}: {points_in_range[cls]} data points\")\n",
    "\n",
    "# -----------------------------\n",
    "# Step 4: Compute Accuracy\n",
    "# -----------------------------\n",
    "# Accuracy = (total datapoints - total data points from other classes in the middle class range) / total datapoints\n",
    "total_datapoints = len(pca_result)\n",
    "accuracy = (total_datapoints - total_points_in_range) / total_datapoints\n",
    "\n",
    "print(f\"\\nAccuracy: {accuracy:.4f}\")\n"
   ]
  },
  {
   "cell_type": "code",
   "execution_count": null,
   "metadata": {},
   "outputs": [],
   "source": []
  },
  {
   "cell_type": "code",
   "execution_count": null,
   "metadata": {},
   "outputs": [],
   "source": []
  }
 ],
 "metadata": {
  "kernelspec": {
   "display_name": "master",
   "language": "python",
   "name": "python3"
  },
  "language_info": {
   "codemirror_mode": {
    "name": "ipython",
    "version": 3
   },
   "file_extension": ".py",
   "mimetype": "text/x-python",
   "name": "python",
   "nbconvert_exporter": "python",
   "pygments_lexer": "ipython3",
   "version": "3.12.3"
  }
 },
 "nbformat": 4,
 "nbformat_minor": 2
}
