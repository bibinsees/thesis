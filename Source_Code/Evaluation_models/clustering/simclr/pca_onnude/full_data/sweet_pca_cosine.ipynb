{
 "cells": [
  {
   "cell_type": "code",
   "execution_count": 1,
   "metadata": {},
   "outputs": [],
   "source": [
    "import os\n",
    "import numpy as np\n",
    "import torch\n",
    "from torch import nn, optim\n",
    "from torch.utils.data import Dataset, DataLoader, random_split\n",
    "from torchvision import transforms\n",
    "import torchvision\n",
    "import tifffile as tiff\n",
    "import matplotlib.pyplot as plt\n",
    "import time\n",
    "from tqdm import tqdm\n",
    "from copy import deepcopy\n",
    "import random\n",
    "from sklearn.preprocessing import normalize\n",
    "\n",
    "from collections import Counter\n",
    "from scipy.stats import mode"
   ]
  },
  {
   "cell_type": "code",
   "execution_count": 2,
   "metadata": {},
   "outputs": [],
   "source": [
    "# Set seed for reproducibility\n",
    "def set_seed(seed):\n",
    "    random.seed(seed)\n",
    "    np.random.seed(seed)\n",
    "    torch.manual_seed(seed)\n",
    "    if torch.cuda.is_available():\n",
    "        torch.cuda.manual_seed(seed)\n",
    "        torch.cuda.manual_seed_all(seed)\n",
    "    torch.backends.cudnn.deterministic = True\n",
    "    torch.backends.cudnn.benchmark = False\n",
    "\n",
    "# Set seed\n",
    "set_seed(42)"
   ]
  },
  {
   "cell_type": "code",
   "execution_count": 3,
   "metadata": {},
   "outputs": [],
   "source": [
    "# Set the device\n",
    "device = torch.device(\"cuda\" if torch.cuda.is_available() else \"cpu\")"
   ]
  },
  {
   "cell_type": "code",
   "execution_count": 4,
   "metadata": {},
   "outputs": [],
   "source": [
    "class SimCLR(nn.Module):\n",
    "    def __init__(self, hidden_dim, lr, temperature, weight_decay):\n",
    "        super().__init__()\n",
    "        self.temperature = temperature\n",
    "        \n",
    "        # Load the pretrained ResNet-18 model\n",
    "        self.convnet = torchvision.models.resnet18(weights='ResNet18_Weights.DEFAULT')\n",
    "        \n",
    "        # Modify the fully connected layer\n",
    "        self.convnet.fc = nn.Sequential(\n",
    "            nn.Linear(self.convnet.fc.in_features, 4 * hidden_dim),  # Linear layer with 4*hidden_dim output\n",
    "            nn.ReLU(inplace=True),\n",
    "            nn.Linear(4 * hidden_dim, 20)  # Output layer with hidden_dim output\n",
    "        )\n",
    "\n",
    "        self.optimizer = optim.AdamW(self.parameters(), lr=lr, weight_decay=weight_decay)\n",
    "        self.lr_scheduler = optim.lr_scheduler.CosineAnnealingLR(self.optimizer, T_max=50, eta_min=lr / 50)\n",
    "\n",
    "    def forward(self, x):\n",
    "        return self.convnet(x)\n",
    "\n",
    "    def info_nce_loss(self, imgs1, imgs2, device):\n",
    "\n",
    "        imgs = torch.cat((imgs1, imgs2), dim=0)  # Concatenate along the batch dimension\n",
    "        imgs = imgs.to(device)  # Move images to the device\n",
    "\n",
    "        # Encode all images\n",
    "        feats = self.forward(imgs)\n",
    "    \n",
    "        # Calculate cosine similarity\n",
    "        cos_sim = nn.functional.cosine_similarity(feats[:, None, :], feats[None, :, :], dim=-1)\n",
    "    \n",
    "        # Mask out cosine similarity to itself\n",
    "        self_mask = torch.eye(cos_sim.shape[0], dtype=torch.bool, device=cos_sim.device)\n",
    "        cos_sim.masked_fill_(self_mask, -9e15)\n",
    "    \n",
    "        # Find positive example -> batch_size//2 away from the original example\n",
    "        pos_mask = self_mask.roll(shifts=cos_sim.shape[0] // 2, dims=0)\n",
    "    \n",
    "        # Normalize similarity scores by temperature\n",
    "        cos_sim = cos_sim / self.temperature\n",
    "\n",
    "        # InfoNCE loss\n",
    "        nll = -cos_sim[pos_mask] + torch.logsumexp(cos_sim, dim=-1)\n",
    "        nll = nll.mean()\n",
    "\n",
    "        # Accuracy calculations\n",
    "        # Create a combination of positive and negative similarities for ranking\n",
    "        comb_sim = torch.cat([cos_sim[pos_mask][:, None],  # Positive example in first position\n",
    "                          cos_sim.masked_fill(pos_mask, -9e15)], dim=-1)\n",
    "    \n",
    "        # Sort and get the ranking position of the positive example\n",
    "        sim_argsort = comb_sim.argsort(dim=-1, descending=True).argmin(dim=-1)\n",
    "    \n",
    "        # Compute accuracy metrics\n",
    "        top1_acc = (sim_argsort == 0).float().mean()  # Top-1 accuracy\n",
    "        top5_acc = (sim_argsort < 5).float().mean()   # Top-5 accuracy\n",
    "        mean_pos = 1 + sim_argsort.float().mean()     # Mean position of the positive example\n",
    "\n",
    "        return nll, top1_acc, top5_acc, mean_pos\n",
    "\n",
    "    def train_epoch(self, train_loader, device):\n",
    "        self.train()\n",
    "        total_loss = 0.0\n",
    "        total_top1_acc = 0.0\n",
    "        total_top5_acc = 0.0\n",
    "        total_mean_pos = 0.0\n",
    "\n",
    "        for batch in tqdm(train_loader, desc=\"Training\", leave=False):\n",
    "            imgs1, imgs2, _ = batch\n",
    "            imgs1, imgs2 = imgs1.to(device), imgs2.to(device)  # Move data to device\n",
    "        \n",
    "            self.optimizer.zero_grad()\n",
    "\n",
    "            # Calculate loss and accuracy metrics\n",
    "            loss, top1_acc, top5_acc, mean_pos = self.info_nce_loss(imgs1, imgs2, device)\n",
    "\n",
    "            loss.backward()\n",
    "            self.optimizer.step()\n",
    "            self.lr_scheduler.step()\n",
    "\n",
    "            # Accumulate metrics\n",
    "            total_loss += loss.item()\n",
    "            total_top1_acc += top1_acc.item()\n",
    "            total_top5_acc += top5_acc.item()\n",
    "            total_mean_pos += mean_pos.item()\n",
    "\n",
    "        avg_loss = total_loss / len(train_loader)\n",
    "        avg_top1_acc = total_top1_acc / len(train_loader)\n",
    "        avg_top5_acc = total_top5_acc / len(train_loader)\n",
    "        avg_mean_pos = total_mean_pos / len(train_loader)\n",
    "\n",
    "        return avg_loss, avg_top1_acc, avg_top5_acc, avg_mean_pos\n",
    "\n",
    "    def validate_epoch(self, val_loader, device):\n",
    "        self.eval()\n",
    "        total_loss = 0.0\n",
    "        total_top1_acc = 0.0\n",
    "        total_top5_acc = 0.0\n",
    "        total_mean_pos = 0.0\n",
    "\n",
    "        with torch.no_grad():\n",
    "            for batch in tqdm(val_loader, desc=\"Validating\", leave=False):\n",
    "                imgs1, imgs2, _ = batch\n",
    "                imgs1, imgs2 = imgs1.to(device), imgs2.to(device)  # Move data to device\n",
    "\n",
    "                # Calculate loss and accuracy metrics\n",
    "                loss, top1_acc, top5_acc, mean_pos = self.info_nce_loss(imgs1, imgs2, device)\n",
    "\n",
    "                # Accumulate metrics\n",
    "                total_loss += loss.item()\n",
    "                total_top1_acc += top1_acc.item()\n",
    "                total_top5_acc += top5_acc.item()\n",
    "                total_mean_pos += mean_pos.item()\n",
    "\n",
    "        avg_loss = total_loss / len(val_loader)\n",
    "        avg_top1_acc = total_top1_acc / len(val_loader)\n",
    "        avg_top5_acc = total_top5_acc / len(val_loader)\n",
    "        avg_mean_pos = total_mean_pos / len(val_loader)\n",
    "\n",
    "        return avg_loss, avg_top1_acc, avg_top5_acc, avg_mean_pos"
   ]
  },
  {
   "cell_type": "code",
   "execution_count": 5,
   "metadata": {},
   "outputs": [
    {
     "name": "stderr",
     "output_type": "stream",
     "text": [
      "C:\\Users\\k54739\\AppData\\Local\\Temp\\ipykernel_22700\\3676841845.py:4: FutureWarning: You are using `torch.load` with `weights_only=False` (the current default value), which uses the default pickle module implicitly. It is possible to construct malicious pickle data which will execute arbitrary code during unpickling (See https://github.com/pytorch/pytorch/blob/main/SECURITY.md#untrusted-models for more details). In a future release, the default value for `weights_only` will be flipped to `True`. This limits the functions that could be executed during unpickling. Arbitrary objects will no longer be allowed to be loaded via this mode unless they are explicitly allowlisted by the user via `torch.serialization.add_safe_globals`. We recommend you start setting `weights_only=True` for any use case where you don't have full control of the loaded file. Please open an issue on GitHub for any issues related to this experimental feature.\n",
      "  simclr_model.load_state_dict(torch.load(model_path))\n"
     ]
    },
    {
     "data": {
      "text/plain": [
       "SimCLR(\n",
       "  (convnet): ResNet(\n",
       "    (conv1): Conv2d(3, 64, kernel_size=(7, 7), stride=(2, 2), padding=(3, 3), bias=False)\n",
       "    (bn1): BatchNorm2d(64, eps=1e-05, momentum=0.1, affine=True, track_running_stats=True)\n",
       "    (relu): ReLU(inplace=True)\n",
       "    (maxpool): MaxPool2d(kernel_size=3, stride=2, padding=1, dilation=1, ceil_mode=False)\n",
       "    (layer1): Sequential(\n",
       "      (0): BasicBlock(\n",
       "        (conv1): Conv2d(64, 64, kernel_size=(3, 3), stride=(1, 1), padding=(1, 1), bias=False)\n",
       "        (bn1): BatchNorm2d(64, eps=1e-05, momentum=0.1, affine=True, track_running_stats=True)\n",
       "        (relu): ReLU(inplace=True)\n",
       "        (conv2): Conv2d(64, 64, kernel_size=(3, 3), stride=(1, 1), padding=(1, 1), bias=False)\n",
       "        (bn2): BatchNorm2d(64, eps=1e-05, momentum=0.1, affine=True, track_running_stats=True)\n",
       "      )\n",
       "      (1): BasicBlock(\n",
       "        (conv1): Conv2d(64, 64, kernel_size=(3, 3), stride=(1, 1), padding=(1, 1), bias=False)\n",
       "        (bn1): BatchNorm2d(64, eps=1e-05, momentum=0.1, affine=True, track_running_stats=True)\n",
       "        (relu): ReLU(inplace=True)\n",
       "        (conv2): Conv2d(64, 64, kernel_size=(3, 3), stride=(1, 1), padding=(1, 1), bias=False)\n",
       "        (bn2): BatchNorm2d(64, eps=1e-05, momentum=0.1, affine=True, track_running_stats=True)\n",
       "      )\n",
       "    )\n",
       "    (layer2): Sequential(\n",
       "      (0): BasicBlock(\n",
       "        (conv1): Conv2d(64, 128, kernel_size=(3, 3), stride=(2, 2), padding=(1, 1), bias=False)\n",
       "        (bn1): BatchNorm2d(128, eps=1e-05, momentum=0.1, affine=True, track_running_stats=True)\n",
       "        (relu): ReLU(inplace=True)\n",
       "        (conv2): Conv2d(128, 128, kernel_size=(3, 3), stride=(1, 1), padding=(1, 1), bias=False)\n",
       "        (bn2): BatchNorm2d(128, eps=1e-05, momentum=0.1, affine=True, track_running_stats=True)\n",
       "        (downsample): Sequential(\n",
       "          (0): Conv2d(64, 128, kernel_size=(1, 1), stride=(2, 2), bias=False)\n",
       "          (1): BatchNorm2d(128, eps=1e-05, momentum=0.1, affine=True, track_running_stats=True)\n",
       "        )\n",
       "      )\n",
       "      (1): BasicBlock(\n",
       "        (conv1): Conv2d(128, 128, kernel_size=(3, 3), stride=(1, 1), padding=(1, 1), bias=False)\n",
       "        (bn1): BatchNorm2d(128, eps=1e-05, momentum=0.1, affine=True, track_running_stats=True)\n",
       "        (relu): ReLU(inplace=True)\n",
       "        (conv2): Conv2d(128, 128, kernel_size=(3, 3), stride=(1, 1), padding=(1, 1), bias=False)\n",
       "        (bn2): BatchNorm2d(128, eps=1e-05, momentum=0.1, affine=True, track_running_stats=True)\n",
       "      )\n",
       "    )\n",
       "    (layer3): Sequential(\n",
       "      (0): BasicBlock(\n",
       "        (conv1): Conv2d(128, 256, kernel_size=(3, 3), stride=(2, 2), padding=(1, 1), bias=False)\n",
       "        (bn1): BatchNorm2d(256, eps=1e-05, momentum=0.1, affine=True, track_running_stats=True)\n",
       "        (relu): ReLU(inplace=True)\n",
       "        (conv2): Conv2d(256, 256, kernel_size=(3, 3), stride=(1, 1), padding=(1, 1), bias=False)\n",
       "        (bn2): BatchNorm2d(256, eps=1e-05, momentum=0.1, affine=True, track_running_stats=True)\n",
       "        (downsample): Sequential(\n",
       "          (0): Conv2d(128, 256, kernel_size=(1, 1), stride=(2, 2), bias=False)\n",
       "          (1): BatchNorm2d(256, eps=1e-05, momentum=0.1, affine=True, track_running_stats=True)\n",
       "        )\n",
       "      )\n",
       "      (1): BasicBlock(\n",
       "        (conv1): Conv2d(256, 256, kernel_size=(3, 3), stride=(1, 1), padding=(1, 1), bias=False)\n",
       "        (bn1): BatchNorm2d(256, eps=1e-05, momentum=0.1, affine=True, track_running_stats=True)\n",
       "        (relu): ReLU(inplace=True)\n",
       "        (conv2): Conv2d(256, 256, kernel_size=(3, 3), stride=(1, 1), padding=(1, 1), bias=False)\n",
       "        (bn2): BatchNorm2d(256, eps=1e-05, momentum=0.1, affine=True, track_running_stats=True)\n",
       "      )\n",
       "    )\n",
       "    (layer4): Sequential(\n",
       "      (0): BasicBlock(\n",
       "        (conv1): Conv2d(256, 512, kernel_size=(3, 3), stride=(2, 2), padding=(1, 1), bias=False)\n",
       "        (bn1): BatchNorm2d(512, eps=1e-05, momentum=0.1, affine=True, track_running_stats=True)\n",
       "        (relu): ReLU(inplace=True)\n",
       "        (conv2): Conv2d(512, 512, kernel_size=(3, 3), stride=(1, 1), padding=(1, 1), bias=False)\n",
       "        (bn2): BatchNorm2d(512, eps=1e-05, momentum=0.1, affine=True, track_running_stats=True)\n",
       "        (downsample): Sequential(\n",
       "          (0): Conv2d(256, 512, kernel_size=(1, 1), stride=(2, 2), bias=False)\n",
       "          (1): BatchNorm2d(512, eps=1e-05, momentum=0.1, affine=True, track_running_stats=True)\n",
       "        )\n",
       "      )\n",
       "      (1): BasicBlock(\n",
       "        (conv1): Conv2d(512, 512, kernel_size=(3, 3), stride=(1, 1), padding=(1, 1), bias=False)\n",
       "        (bn1): BatchNorm2d(512, eps=1e-05, momentum=0.1, affine=True, track_running_stats=True)\n",
       "        (relu): ReLU(inplace=True)\n",
       "        (conv2): Conv2d(512, 512, kernel_size=(3, 3), stride=(1, 1), padding=(1, 1), bias=False)\n",
       "        (bn2): BatchNorm2d(512, eps=1e-05, momentum=0.1, affine=True, track_running_stats=True)\n",
       "      )\n",
       "    )\n",
       "    (avgpool): AdaptiveAvgPool2d(output_size=(1, 1))\n",
       "    (fc): Sequential(\n",
       "      (0): Linear(in_features=512, out_features=512, bias=True)\n",
       "      (1): ReLU(inplace=True)\n",
       "      (2): Linear(in_features=512, out_features=20, bias=True)\n",
       "    )\n",
       "  )\n",
       ")"
      ]
     },
     "execution_count": 5,
     "metadata": {},
     "output_type": "execute_result"
    }
   ],
   "source": [
    "# Define file paths\n",
    "model_path = r'C:\\Users\\k54739\\Bibi_new_thesis\\saved_model\\sweetcrop_simclr_model_epoch_245.pth'\n",
    "simclr_model = SimCLR(hidden_dim=128, lr=5e-4, temperature=0.07, weight_decay=1e-4)\n",
    "simclr_model.load_state_dict(torch.load(model_path))\n",
    "simclr_model.to(device)\n",
    "simclr_model.eval()"
   ]
  },
  {
   "cell_type": "markdown",
   "metadata": {},
   "source": [
    "# Clustering"
   ]
  },
  {
   "cell_type": "code",
   "execution_count": 6,
   "metadata": {},
   "outputs": [
    {
     "name": "stdout",
     "output_type": "stream",
     "text": [
      "Label distribution: {'cond7_all': 472, 'sd': 103, 'ex': 40}\n"
     ]
    }
   ],
   "source": [
    "class LabeledImageDataset(Dataset):\n",
    "    def __init__(self, image_files, labels, transform=None):\n",
    "        self.image_files = image_files\n",
    "        self.labels = labels\n",
    "        #self.transform = transform\n",
    "        self.resize_transform = transforms.Resize((96, 96))\n",
    "\n",
    "    def __len__(self):\n",
    "        return len(self.image_files)\n",
    "\n",
    "    def __getitem__(self, idx):\n",
    "        img_path = self.image_files[idx]\n",
    "        image = tiff.imread(img_path)\n",
    "\n",
    "        # Ensure the image has 3 layers (channels)\n",
    "        if image.shape[0] != 3:\n",
    "            raise ValueError(f\"Image {img_path} does not have exactly 3 layers.\")\n",
    "\n",
    "        # Normalize the 16-bit image to [0, 1]\n",
    "        image = image.astype(np.float32) / 65535.0\n",
    "\n",
    "        # Convert to a torch tensor and add channel dimension\n",
    "        image = torch.tensor(image, dtype=torch.float32)\n",
    "        \n",
    "        # Apply resize transform\n",
    "        image = self.resize_transform(image)\n",
    "\n",
    "        label = self.labels[idx]\n",
    "\n",
    "        #return image, label\n",
    "        return image, label, img_path\n",
    "\n",
    "def load_data(root_dir):\n",
    "    #classes = ['cond7_all', 'sd','ex'] #full dataset\n",
    "    #classes = ['cond7_curated', 'sd','ex'] # curated full dataset\n",
    "\n",
    "\n",
    "    #classes = ['cure_cond7_40', 'sdonly_40','ex'] # 40 subset\n",
    "    classes = ['cond7_all', 'sd','ex']\n",
    "\n",
    "\n",
    "   \n",
    "    \n",
    "    #classes = ['curated_cond7_40', 'sd_40','ex'] # curated 40 subset\n",
    "\n",
    "\n",
    "    image_files = []\n",
    "    labels = []\n",
    "\n",
    "    for idx, class_name in enumerate(classes):\n",
    "        class_dir = os.path.join(root_dir, class_name)\n",
    "        files = [os.path.join(class_dir, file) for file in os.listdir(class_dir) if file.endswith(('.tiff', '.tif'))]\n",
    "        image_files.extend(files)\n",
    "        labels.extend([idx] * len(files))\n",
    "    \n",
    "    # Check if the labels correctly reflect the classes\n",
    "    print(\"Label distribution:\", {classes[i]: labels.count(i) for i in range(len(classes))})\n",
    "\n",
    "    return image_files, labels\n",
    "\n",
    "\n",
    "# Directories for labeled data\n",
    "#image_dir =  r\"C:\\Users\\k54739\\Bibi_new_thesis\\thesis\\classification\"\n",
    "\n",
    "image_dir =  r\"G:\\classification\\cond_all\"\n",
    "\n",
    "\n",
    "# Load data\n",
    "image_files, labels = load_data(image_dir)\n",
    "\n",
    "# Create the labeled datasets\n",
    "labeled_dataset = LabeledImageDataset(image_files, labels)\n",
    "\n",
    "# Define DataLoaders\n",
    "batch_size = 16\n",
    "loader_labeled = DataLoader(labeled_dataset, batch_size=batch_size, shuffle=True, drop_last=False, pin_memory=True, num_workers=0)"
   ]
  },
  {
   "cell_type": "code",
   "execution_count": 7,
   "metadata": {},
   "outputs": [
    {
     "name": "stdout",
     "output_type": "stream",
     "text": [
      "Label 0 corresponds to class: cond7_all\n",
      "Label 1 corresponds to class: sd\n",
      "Label 2 corresponds to class: ex\n"
     ]
    }
   ],
   "source": [
    "# Print label mapping\n",
    "classes = ['cond7_all', 'sd','ex']\n",
    "for idx, class_name in enumerate(classes):\n",
    "    print(f\"Label {idx} corresponds to class: {class_name}\")"
   ]
  },
  {
   "cell_type": "code",
   "execution_count": 8,
   "metadata": {},
   "outputs": [
    {
     "name": "stdout",
     "output_type": "stream",
     "text": [
      "Label mapping: {0: 'cond7_all', 1: 'sd', 2: 'ex'}\n"
     ]
    }
   ],
   "source": [
    "label_mapping = {idx: class_name for idx, class_name in enumerate(classes)}\n",
    "print(\"Label mapping:\", label_mapping)"
   ]
  },
  {
   "cell_type": "code",
   "execution_count": 9,
   "metadata": {},
   "outputs": [
    {
     "name": "stdout",
     "output_type": "stream",
     "text": [
      "torch.Size([16, 3, 96, 96]) torch.Size([16]) torch.float32\n",
      "tensor([0, 0, 2, 0, 0, 0, 0, 0, 0, 0, 0, 2, 0, 2, 0, 2])\n",
      "['G:\\\\classification\\\\cond_all\\\\cond7_all\\\\ds_1B_E07-T01.tiff', 'G:\\\\classification\\\\cond_all\\\\cond7_all\\\\ds_61_C02-T01.tiff', 'G:\\\\classification\\\\cond_all\\\\ex\\\\ds62_g9_C09-T01.tiff', 'G:\\\\classification\\\\cond_all\\\\cond7_all\\\\ds_51_F07-T01.tiff', 'G:\\\\classification\\\\cond_all\\\\cond7_all\\\\ds_1B_D07-T01.tiff', 'G:\\\\classification\\\\cond_all\\\\cond7_all\\\\ds_42_E03-T01.tiff', 'G:\\\\classification\\\\cond_all\\\\cond7_all\\\\ds_61_D03-T01.tiff', 'G:\\\\classification\\\\cond_all\\\\cond7_all\\\\ds_52_C02-T01.tiff', 'G:\\\\classification\\\\cond_all\\\\cond7_all\\\\ds_41_G05-T01.tiff', 'G:\\\\classification\\\\cond_all\\\\cond7_all\\\\ds_1B_E04-T01.tiff', 'G:\\\\classification\\\\cond_all\\\\cond7_all\\\\ds_61_G09-T01.tiff', 'G:\\\\classification\\\\cond_all\\\\ex\\\\ds62_g8_B07-T01.tiff', 'G:\\\\classification\\\\cond_all\\\\cond7_all\\\\ds_51_E07-T01.tiff', 'G:\\\\classification\\\\cond_all\\\\ex\\\\ds61_g9_C09-T01.tiff', 'G:\\\\classification\\\\cond_all\\\\cond7_all\\\\ds_61_D09-T01.tiff', 'G:\\\\classification\\\\cond_all\\\\ex\\\\ds62_g9_C08-T01.tiff']\n"
     ]
    }
   ],
   "source": [
    "for anchor,label,path in loader_labeled:\n",
    "    print(anchor.shape, label.shape, anchor.dtype)\n",
    "    print(label)\n",
    "    print(path)\n",
    "    break"
   ]
  },
  {
   "cell_type": "code",
   "execution_count": 10,
   "metadata": {},
   "outputs": [],
   "source": [
    "@torch.no_grad()\n",
    "def prepare_data_features(model, dataloader):\n",
    "    # Prepare model\n",
    "    network = deepcopy(model.convnet)\n",
    "    #network.fc = nn.Identity()  # Removing projection head g(.)\n",
    "    network.eval()\n",
    "    network.to(device)\n",
    "\n",
    "    # Encode all images\n",
    "    feats, labels, paths = [], [], []\n",
    "    for batch_imgs, batch_labels, batch_paths in tqdm(dataloader):\n",
    "        batch_imgs = batch_imgs.to(device)\n",
    "        batch_feats = network(batch_imgs)\n",
    "        print(f\"Batch features shape: {batch_feats.shape}\")\n",
    "        print(f\"Batch labels shape: {batch_labels.shape}\")\n",
    "        print(f\"Batch labels shape: {batch_paths}\")\n",
    "        \n",
    "        feats.append(batch_feats.detach().cpu())\n",
    "        labels.append(batch_labels)\n",
    "        paths.extend(batch_paths) \n",
    "\n",
    "    feats = torch.cat(feats, dim=0)\n",
    "    labels = torch.cat(labels, dim=0)\n",
    "    \n",
    "    \n",
    "    print(f\"Features shape after concatenation: {feats.shape}\")\n",
    "    print(f\"Labels shape after concatenation: {labels.shape}\")\n",
    "    print(f\"Number of paths after concatenation: {len(paths)}\")\n",
    "\n",
    "    return feats, labels, paths"
   ]
  },
  {
   "cell_type": "code",
   "execution_count": 11,
   "metadata": {},
   "outputs": [
    {
     "name": "stderr",
     "output_type": "stream",
     "text": [
      "  3%|▎         | 1/39 [00:00<00:31,  1.22it/s]"
     ]
    },
    {
     "name": "stdout",
     "output_type": "stream",
     "text": [
      "Batch features shape: torch.Size([16, 20])\n",
      "Batch labels shape: torch.Size([16])\n",
      "Batch labels shape: ['G:\\\\classification\\\\cond_all\\\\sd\\\\RBT09_F07-T01.tiff', 'G:\\\\classification\\\\cond_all\\\\cond7_all\\\\ds_1B_E08-T01.tiff', 'G:\\\\classification\\\\cond_all\\\\cond7_all\\\\ds_41_F10-T01.tiff', 'G:\\\\classification\\\\cond_all\\\\cond7_all\\\\ds_42_B10-T01.tiff', 'G:\\\\classification\\\\cond_all\\\\cond7_all\\\\ds_42_F08-T01.tiff', 'G:\\\\classification\\\\cond_all\\\\cond7_all\\\\ds_51_F10-T01.tiff', 'G:\\\\classification\\\\cond_all\\\\ex\\\\ds62_g9_C09-T01.tiff', 'G:\\\\classification\\\\cond_all\\\\sd\\\\RBT04_G08-T01.tiff', 'G:\\\\classification\\\\cond_all\\\\cond7_all\\\\ds_41_B05-T01.tiff', 'G:\\\\classification\\\\cond_all\\\\cond7_all\\\\ds_62_C08-T01.tiff', 'G:\\\\classification\\\\cond_all\\\\cond7_all\\\\ds_41_F08-T01.tiff', 'G:\\\\classification\\\\cond_all\\\\cond7_all\\\\sd_04_D08-T01.tiff', 'G:\\\\classification\\\\cond_all\\\\cond7_all\\\\ds_51_D11-T01.tiff', 'G:\\\\classification\\\\cond_all\\\\cond7_all\\\\sd_04_F10-T01.tiff', 'G:\\\\classification\\\\cond_all\\\\cond7_all\\\\ds_1B_B05-T01.tiff', 'G:\\\\classification\\\\cond_all\\\\cond7_all\\\\ds_41_F06-T01.tiff']\n"
     ]
    },
    {
     "name": "stderr",
     "output_type": "stream",
     "text": [
      "  5%|▌         | 2/39 [00:01<00:27,  1.36it/s]"
     ]
    },
    {
     "name": "stdout",
     "output_type": "stream",
     "text": [
      "Batch features shape: torch.Size([16, 20])\n",
      "Batch labels shape: torch.Size([16])\n",
      "Batch labels shape: ['G:\\\\classification\\\\cond_all\\\\cond7_all\\\\ds_41_G07-T01.tiff', 'G:\\\\classification\\\\cond_all\\\\cond7_all\\\\ds_41_E04-T01.tiff', 'G:\\\\classification\\\\cond_all\\\\cond7_all\\\\sd_04_E02-T01.tiff', 'G:\\\\classification\\\\cond_all\\\\cond7_all\\\\ds_42_D11-T01.tiff', 'G:\\\\classification\\\\cond_all\\\\cond7_all\\\\ds_62_C05-T01.tiff', 'G:\\\\classification\\\\cond_all\\\\cond7_all\\\\ds_41_D11-T01.tiff', 'G:\\\\classification\\\\cond_all\\\\cond7_all\\\\ds_61_C11-T01.tiff', 'G:\\\\classification\\\\cond_all\\\\cond7_all\\\\ds_52_E04-T01.tiff', 'G:\\\\classification\\\\cond_all\\\\cond7_all\\\\ds_52_E07-T01.tiff', 'G:\\\\classification\\\\cond_all\\\\cond7_all\\\\ds_42_B05-T01.tiff', 'G:\\\\classification\\\\cond_all\\\\cond7_all\\\\ds_51_C07-T01.tiff', 'G:\\\\classification\\\\cond_all\\\\cond7_all\\\\ds_62_G03-T01.tiff', 'G:\\\\classification\\\\cond_all\\\\cond7_all\\\\ds_52_C11-T01.tiff', 'G:\\\\classification\\\\cond_all\\\\sd\\\\RBT10_F10-T01.tiff', 'G:\\\\classification\\\\cond_all\\\\sd\\\\RBT04_F10-T01.tiff', 'G:\\\\classification\\\\cond_all\\\\cond7_all\\\\ds_62_E02-T01.tiff']\n"
     ]
    },
    {
     "name": "stderr",
     "output_type": "stream",
     "text": [
      "  8%|▊         | 3/39 [00:02<00:25,  1.40it/s]"
     ]
    },
    {
     "name": "stdout",
     "output_type": "stream",
     "text": [
      "Batch features shape: torch.Size([16, 20])\n",
      "Batch labels shape: torch.Size([16])\n",
      "Batch labels shape: ['G:\\\\classification\\\\cond_all\\\\cond7_all\\\\sd_04_F02-T01.tiff', 'G:\\\\classification\\\\cond_all\\\\cond7_all\\\\ds_62_C07-T01.tiff', 'G:\\\\classification\\\\cond_all\\\\cond7_all\\\\ds_61_D11-T01.tiff', 'G:\\\\classification\\\\cond_all\\\\cond7_all\\\\ds_62_F08-T01.tiff', 'G:\\\\classification\\\\cond_all\\\\sd\\\\RBT14_D11-T01.tiff', 'G:\\\\classification\\\\cond_all\\\\cond7_all\\\\ds_1B_F08-T01.tiff', 'G:\\\\classification\\\\cond_all\\\\cond7_all\\\\ds_41_G02-T01.tiff', 'G:\\\\classification\\\\cond_all\\\\cond7_all\\\\ds_42_E11-T01.tiff', 'G:\\\\classification\\\\cond_all\\\\cond7_all\\\\ds_61_B05-T01.tiff', 'G:\\\\classification\\\\cond_all\\\\cond7_all\\\\ds_52_F04-T01.tiff', 'G:\\\\classification\\\\cond_all\\\\cond7_all\\\\ds_62_B11-T01.tiff', 'G:\\\\classification\\\\cond_all\\\\cond7_all\\\\sd_04_E05-T01.tiff', 'G:\\\\classification\\\\cond_all\\\\cond7_all\\\\ds_61_F06-T01.tiff', 'G:\\\\classification\\\\cond_all\\\\cond7_all\\\\sd_04_C09-T01.tiff', 'G:\\\\classification\\\\cond_all\\\\cond7_all\\\\ds_52_G03-T01.tiff', 'G:\\\\classification\\\\cond_all\\\\cond7_all\\\\ds_51_E06-T01.tiff']\n"
     ]
    },
    {
     "name": "stderr",
     "output_type": "stream",
     "text": [
      " 10%|█         | 4/39 [00:02<00:24,  1.42it/s]"
     ]
    },
    {
     "name": "stdout",
     "output_type": "stream",
     "text": [
      "Batch features shape: torch.Size([16, 20])\n",
      "Batch labels shape: torch.Size([16])\n",
      "Batch labels shape: ['G:\\\\classification\\\\cond_all\\\\cond7_all\\\\ds_52_G08-T01.tiff', 'G:\\\\classification\\\\cond_all\\\\cond7_all\\\\ds_41_C06-T01.tiff', 'G:\\\\classification\\\\cond_all\\\\cond7_all\\\\sd_04_G11-T01.tiff', 'G:\\\\classification\\\\cond_all\\\\cond7_all\\\\ds_52_G05-T01.tiff', 'G:\\\\classification\\\\cond_all\\\\cond7_all\\\\ds_41_C08-T01.tiff', 'G:\\\\classification\\\\cond_all\\\\cond7_all\\\\ds_42_D02-T01.tiff', 'G:\\\\classification\\\\cond_all\\\\sd\\\\RBT10_C08-T01.tiff', 'G:\\\\classification\\\\cond_all\\\\cond7_all\\\\ds_51_D04-T01.tiff', 'G:\\\\classification\\\\cond_all\\\\cond7_all\\\\ds_61_E08-T01.tiff', 'G:\\\\classification\\\\cond_all\\\\sd\\\\RBT10_D07-T01.tiff', 'G:\\\\classification\\\\cond_all\\\\cond7_all\\\\sd_04_B04-T01.tiff', 'G:\\\\classification\\\\cond_all\\\\cond7_all\\\\ds_62_F02-T01.tiff', 'G:\\\\classification\\\\cond_all\\\\cond7_all\\\\ds_51_E02-T01.tiff', 'G:\\\\classification\\\\cond_all\\\\cond7_all\\\\ds_62_G08-T01.tiff', 'G:\\\\classification\\\\cond_all\\\\sd\\\\RBT10_B09-T01.tiff', 'G:\\\\classification\\\\cond_all\\\\cond7_all\\\\ds_42_G02-T01.tiff']\n"
     ]
    },
    {
     "name": "stderr",
     "output_type": "stream",
     "text": [
      " 13%|█▎        | 5/39 [00:03<00:23,  1.44it/s]"
     ]
    },
    {
     "name": "stdout",
     "output_type": "stream",
     "text": [
      "Batch features shape: torch.Size([16, 20])\n",
      "Batch labels shape: torch.Size([16])\n",
      "Batch labels shape: ['G:\\\\classification\\\\cond_all\\\\cond7_all\\\\ds_52_B04-T01.tiff', 'G:\\\\classification\\\\cond_all\\\\cond7_all\\\\ds_41_B07-T01.tiff', 'G:\\\\classification\\\\cond_all\\\\cond7_all\\\\ds_52_C10-T01.tiff', 'G:\\\\classification\\\\cond_all\\\\sd\\\\RBT10_E11-T01.tiff', 'G:\\\\classification\\\\cond_all\\\\cond7_all\\\\ds_62_E04-T01.tiff', 'G:\\\\classification\\\\cond_all\\\\cond7_all\\\\ds_52_D07-T01.tiff', 'G:\\\\classification\\\\cond_all\\\\cond7_all\\\\ds_52_B07-T01.tiff', 'G:\\\\classification\\\\cond_all\\\\cond7_all\\\\ds_51_G10-T01.tiff', 'G:\\\\classification\\\\cond_all\\\\cond7_all\\\\ds_62_F09-T01.tiff', 'G:\\\\classification\\\\cond_all\\\\cond7_all\\\\ds_62_B06-T01.tiff', 'G:\\\\classification\\\\cond_all\\\\cond7_all\\\\ds_61_F07-T01.tiff', 'G:\\\\classification\\\\cond_all\\\\cond7_all\\\\ds_42_G06-T01.tiff', 'G:\\\\classification\\\\cond_all\\\\sd\\\\RBT14_C09-T01.tiff', 'G:\\\\classification\\\\cond_all\\\\sd\\\\RBT14_D08-T01.tiff', 'G:\\\\classification\\\\cond_all\\\\cond7_all\\\\ds_1B_E06-T01.tiff', 'G:\\\\classification\\\\cond_all\\\\cond7_all\\\\sd_04_C04-T01.tiff']\n"
     ]
    },
    {
     "name": "stderr",
     "output_type": "stream",
     "text": [
      " 15%|█▌        | 6/39 [00:04<00:22,  1.45it/s]"
     ]
    },
    {
     "name": "stdout",
     "output_type": "stream",
     "text": [
      "Batch features shape: torch.Size([16, 20])\n",
      "Batch labels shape: torch.Size([16])\n",
      "Batch labels shape: ['G:\\\\classification\\\\cond_all\\\\cond7_all\\\\sd_04_D02-T01.tiff', 'G:\\\\classification\\\\cond_all\\\\cond7_all\\\\ds_52_G09-T01.tiff', 'G:\\\\classification\\\\cond_all\\\\cond7_all\\\\ds_52_C06-T01.tiff', 'G:\\\\classification\\\\cond_all\\\\cond7_all\\\\ds_1B_C08-T01.tiff', 'G:\\\\classification\\\\cond_all\\\\cond7_all\\\\ds_41_G05-T01.tiff', 'G:\\\\classification\\\\cond_all\\\\cond7_all\\\\sd_04_D11-T01.tiff', 'G:\\\\classification\\\\cond_all\\\\ex\\\\ds61_g3_C05-T01.tiff', 'G:\\\\classification\\\\cond_all\\\\cond7_all\\\\ds_1B_G05-T01.tiff', 'G:\\\\classification\\\\cond_all\\\\cond7_all\\\\ds_51_D10-T01.tiff', 'G:\\\\classification\\\\cond_all\\\\cond7_all\\\\ds_1B_G11-T01.tiff', 'G:\\\\classification\\\\cond_all\\\\cond7_all\\\\ds_51_G04-T01.tiff', 'G:\\\\classification\\\\cond_all\\\\cond7_all\\\\ds_42_C11-T01.tiff', 'G:\\\\classification\\\\cond_all\\\\sd\\\\RBT10_D09-T01.tiff', 'G:\\\\classification\\\\cond_all\\\\cond7_all\\\\ds_61_C02-T01.tiff', 'G:\\\\classification\\\\cond_all\\\\cond7_all\\\\ds_51_C04-T01.tiff', 'G:\\\\classification\\\\cond_all\\\\cond7_all\\\\sd_04_E11-T01.tiff']\n"
     ]
    },
    {
     "name": "stderr",
     "output_type": "stream",
     "text": [
      " 18%|█▊        | 7/39 [00:04<00:21,  1.46it/s]"
     ]
    },
    {
     "name": "stdout",
     "output_type": "stream",
     "text": [
      "Batch features shape: torch.Size([16, 20])\n",
      "Batch labels shape: torch.Size([16])\n",
      "Batch labels shape: ['G:\\\\classification\\\\cond_all\\\\sd\\\\RBT04_C09-T01.tiff', 'G:\\\\classification\\\\cond_all\\\\cond7_all\\\\ds_62_D10-T01.tiff', 'G:\\\\classification\\\\cond_all\\\\cond7_all\\\\ds_62_D06-T01.tiff', 'G:\\\\classification\\\\cond_all\\\\cond7_all\\\\ds_51_F04-T01.tiff', 'G:\\\\classification\\\\cond_all\\\\cond7_all\\\\ds_52_E11-T01.tiff', 'G:\\\\classification\\\\cond_all\\\\sd\\\\RBT09_E09-T01.tiff', 'G:\\\\classification\\\\cond_all\\\\cond7_all\\\\sd_04_D04-T01.tiff', 'G:\\\\classification\\\\cond_all\\\\ex\\\\ds1B_g9_C8.tif', 'G:\\\\classification\\\\cond_all\\\\cond7_all\\\\ds_62_G09-T01.tiff', 'G:\\\\classification\\\\cond_all\\\\sd\\\\RBT14_D10-T01.tiff', 'G:\\\\classification\\\\cond_all\\\\cond7_all\\\\ds_51_B07-T01.tiff', 'G:\\\\classification\\\\cond_all\\\\cond7_all\\\\ds_52_G04-T01.tiff', 'G:\\\\classification\\\\cond_all\\\\cond7_all\\\\ds_41_E11-T01.tiff', 'G:\\\\classification\\\\cond_all\\\\sd\\\\RBT09_G08-T01.tiff', 'G:\\\\classification\\\\cond_all\\\\sd\\\\RBT14_D09-T01.tiff', 'G:\\\\classification\\\\cond_all\\\\sd\\\\RBT09_B11-T01.tiff']\n"
     ]
    },
    {
     "name": "stderr",
     "output_type": "stream",
     "text": [
      " 21%|██        | 8/39 [00:05<00:21,  1.44it/s]"
     ]
    },
    {
     "name": "stdout",
     "output_type": "stream",
     "text": [
      "Batch features shape: torch.Size([16, 20])\n",
      "Batch labels shape: torch.Size([16])\n",
      "Batch labels shape: ['G:\\\\classification\\\\cond_all\\\\cond7_all\\\\ds_51_B09-T01.tiff', 'G:\\\\classification\\\\cond_all\\\\cond7_all\\\\sd_04_B06-T01.tiff', 'G:\\\\classification\\\\cond_all\\\\cond7_all\\\\ds_61_G08-T01.tiff', 'G:\\\\classification\\\\cond_all\\\\sd\\\\RBT04_E07-T01.tiff', 'G:\\\\classification\\\\cond_all\\\\cond7_all\\\\ds_52_C09-T01.tiff', 'G:\\\\classification\\\\cond_all\\\\cond7_all\\\\ds_61_E10-T01.tiff', 'G:\\\\classification\\\\cond_all\\\\cond7_all\\\\ds_62_G04-T01.tiff', 'G:\\\\classification\\\\cond_all\\\\cond7_all\\\\ds_42_D09-T01.tiff', 'G:\\\\classification\\\\cond_all\\\\cond7_all\\\\sd_04_B03-T01.tiff', 'G:\\\\classification\\\\cond_all\\\\cond7_all\\\\ds_62_B02-T01.tiff', 'G:\\\\classification\\\\cond_all\\\\cond7_all\\\\ds_41_B04-T01.tiff', 'G:\\\\classification\\\\cond_all\\\\cond7_all\\\\sd_04_F03-T01.tiff', 'G:\\\\classification\\\\cond_all\\\\cond7_all\\\\ds_62_B04-T01.tiff', 'G:\\\\classification\\\\cond_all\\\\cond7_all\\\\sd_04_G07-T01.tiff', 'G:\\\\classification\\\\cond_all\\\\cond7_all\\\\ds_42_E06-T01.tiff', 'G:\\\\classification\\\\cond_all\\\\cond7_all\\\\ds_62_E03-T01.tiff']\n"
     ]
    },
    {
     "name": "stderr",
     "output_type": "stream",
     "text": [
      " 23%|██▎       | 9/39 [00:06<00:20,  1.44it/s]"
     ]
    },
    {
     "name": "stdout",
     "output_type": "stream",
     "text": [
      "Batch features shape: torch.Size([16, 20])\n",
      "Batch labels shape: torch.Size([16])\n",
      "Batch labels shape: ['G:\\\\classification\\\\cond_all\\\\ex\\\\ds61_g6_F02-T01.tiff', 'G:\\\\classification\\\\cond_all\\\\cond7_all\\\\ds_62_E05-T01.tiff', 'G:\\\\classification\\\\cond_all\\\\cond7_all\\\\ds_1B_G03-T01.tiff', 'G:\\\\classification\\\\cond_all\\\\ex\\\\ds62_g8_B09-T01.tiff', 'G:\\\\classification\\\\cond_all\\\\cond7_all\\\\ds_42_G04-T01.tiff', 'G:\\\\classification\\\\cond_all\\\\cond7_all\\\\ds_1B_F02-T01.tiff', 'G:\\\\classification\\\\cond_all\\\\cond7_all\\\\ds_61_D05-T01.tiff', 'G:\\\\classification\\\\cond_all\\\\cond7_all\\\\ds_42_G05-T01.tiff', 'G:\\\\classification\\\\cond_all\\\\ex\\\\ds62_g9_C08-T01.tiff', 'G:\\\\classification\\\\cond_all\\\\cond7_all\\\\ds_42_B02-T01.tiff', 'G:\\\\classification\\\\cond_all\\\\sd\\\\RBT09_C09-T01.tiff', 'G:\\\\classification\\\\cond_all\\\\ex\\\\ds62_g8_B07-T01.tiff', 'G:\\\\classification\\\\cond_all\\\\cond7_all\\\\sd_04_B05-T01.tiff', 'G:\\\\classification\\\\cond_all\\\\cond7_all\\\\ds_1B_G08-T01.tiff', 'G:\\\\classification\\\\cond_all\\\\sd\\\\RBT10_F08-T01.tiff', 'G:\\\\classification\\\\cond_all\\\\cond7_all\\\\ds_42_B11-T01.tiff']\n"
     ]
    },
    {
     "name": "stderr",
     "output_type": "stream",
     "text": [
      " 26%|██▌       | 10/39 [00:07<00:20,  1.43it/s]"
     ]
    },
    {
     "name": "stdout",
     "output_type": "stream",
     "text": [
      "Batch features shape: torch.Size([16, 20])\n",
      "Batch labels shape: torch.Size([16])\n",
      "Batch labels shape: ['G:\\\\classification\\\\cond_all\\\\sd\\\\RBT10_F07-T01.tiff', 'G:\\\\classification\\\\cond_all\\\\cond7_all\\\\ds_41_C10-T01.tiff', 'G:\\\\classification\\\\cond_all\\\\cond7_all\\\\ds_62_C02-T01.tiff', 'G:\\\\classification\\\\cond_all\\\\cond7_all\\\\ds_1B_E02-T01.tiff', 'G:\\\\classification\\\\cond_all\\\\cond7_all\\\\ds_1B_C06-T01.tiff', 'G:\\\\classification\\\\cond_all\\\\cond7_all\\\\ds_42_C09-T01.tiff', 'G:\\\\classification\\\\cond_all\\\\cond7_all\\\\ds_1B_C10-T01.tiff', 'G:\\\\classification\\\\cond_all\\\\cond7_all\\\\ds_51_F07-T01.tiff', 'G:\\\\classification\\\\cond_all\\\\cond7_all\\\\ds_42_E02-T01.tiff', 'G:\\\\classification\\\\cond_all\\\\cond7_all\\\\ds_42_F04-T01.tiff', 'G:\\\\classification\\\\cond_all\\\\sd\\\\RBT10_F11-T01.tiff', 'G:\\\\classification\\\\cond_all\\\\sd\\\\RBT10_B08-T01.tiff', 'G:\\\\classification\\\\cond_all\\\\cond7_all\\\\ds_41_G04-T01.tiff', 'G:\\\\classification\\\\cond_all\\\\cond7_all\\\\ds_62_F05-T01.tiff', 'G:\\\\classification\\\\cond_all\\\\cond7_all\\\\ds_41_G06-T01.tiff', 'G:\\\\classification\\\\cond_all\\\\cond7_all\\\\ds_52_B09-T01.tiff']\n"
     ]
    },
    {
     "name": "stderr",
     "output_type": "stream",
     "text": [
      " 28%|██▊       | 11/39 [00:07<00:19,  1.42it/s]"
     ]
    },
    {
     "name": "stdout",
     "output_type": "stream",
     "text": [
      "Batch features shape: torch.Size([16, 20])\n",
      "Batch labels shape: torch.Size([16])\n",
      "Batch labels shape: ['G:\\\\classification\\\\cond_all\\\\cond7_all\\\\ds_1B_B08-T01.tiff', 'G:\\\\classification\\\\cond_all\\\\cond7_all\\\\ds_51_G05-T01.tiff', 'G:\\\\classification\\\\cond_all\\\\cond7_all\\\\ds_52_E06-T01.tiff', 'G:\\\\classification\\\\cond_all\\\\cond7_all\\\\ds_1B_E10-T01.tiff', 'G:\\\\classification\\\\cond_all\\\\cond7_all\\\\ds_51_C09-T01.tiff', 'G:\\\\classification\\\\cond_all\\\\cond7_all\\\\ds_42_C06-T01.tiff', 'G:\\\\classification\\\\cond_all\\\\sd\\\\RBT10_E07-T01.tiff', 'G:\\\\classification\\\\cond_all\\\\cond7_all\\\\ds_1B_E09-T01.tiff', 'G:\\\\classification\\\\cond_all\\\\cond7_all\\\\ds_51_G06-T01.tiff', 'G:\\\\classification\\\\cond_all\\\\cond7_all\\\\ds_62_D04-T01.tiff', 'G:\\\\classification\\\\cond_all\\\\sd\\\\RBT09_C08-T01.tiff', 'G:\\\\classification\\\\cond_all\\\\cond7_all\\\\ds_1B_E05-T01.tiff', 'G:\\\\classification\\\\cond_all\\\\cond7_all\\\\ds_62_D03-T01.tiff', 'G:\\\\classification\\\\cond_all\\\\cond7_all\\\\ds_41_E10-T01.tiff', 'G:\\\\classification\\\\cond_all\\\\cond7_all\\\\sd_04_G08-T01.tiff', 'G:\\\\classification\\\\cond_all\\\\cond7_all\\\\ds_1B_B07-T01.tiff']\n"
     ]
    },
    {
     "name": "stderr",
     "output_type": "stream",
     "text": [
      " 31%|███       | 12/39 [00:08<00:23,  1.15it/s]"
     ]
    },
    {
     "name": "stdout",
     "output_type": "stream",
     "text": [
      "Batch features shape: torch.Size([16, 20])\n",
      "Batch labels shape: torch.Size([16])\n",
      "Batch labels shape: ['G:\\\\classification\\\\cond_all\\\\sd\\\\RBT09_E11-T01.tiff', 'G:\\\\classification\\\\cond_all\\\\cond7_all\\\\sd_04_B07-T01.tiff', 'G:\\\\classification\\\\cond_all\\\\cond7_all\\\\ds_61_B03-T01.tiff', 'G:\\\\classification\\\\cond_all\\\\cond7_all\\\\ds_61_D04-T01.tiff', 'G:\\\\classification\\\\cond_all\\\\cond7_all\\\\ds_52_C04-T01.tiff', 'G:\\\\classification\\\\cond_all\\\\cond7_all\\\\sd_04_G05-T01.tiff', 'G:\\\\classification\\\\cond_all\\\\cond7_all\\\\ds_42_E08-T01.tiff', 'G:\\\\classification\\\\cond_all\\\\cond7_all\\\\ds_52_E08-T01.tiff', 'G:\\\\classification\\\\cond_all\\\\cond7_all\\\\ds_1B_E11-T01.tiff', 'G:\\\\classification\\\\cond_all\\\\sd\\\\RBT10_D11-T01.tiff', 'G:\\\\classification\\\\cond_all\\\\cond7_all\\\\ds_51_C10-T01.tiff', 'G:\\\\classification\\\\cond_all\\\\cond7_all\\\\ds_41_D10-T01.tiff', 'G:\\\\classification\\\\cond_all\\\\ex\\\\ds41_g9_C10-T01.tiff', 'G:\\\\classification\\\\cond_all\\\\cond7_all\\\\ds_61_E11-T01.tiff', 'G:\\\\classification\\\\cond_all\\\\sd\\\\RBT04_F08-T01.tiff', 'G:\\\\classification\\\\cond_all\\\\sd\\\\RBT04_D10-T01.tiff']\n"
     ]
    },
    {
     "name": "stderr",
     "output_type": "stream",
     "text": [
      " 33%|███▎      | 13/39 [00:10<00:24,  1.06it/s]"
     ]
    },
    {
     "name": "stdout",
     "output_type": "stream",
     "text": [
      "Batch features shape: torch.Size([16, 20])\n",
      "Batch labels shape: torch.Size([16])\n",
      "Batch labels shape: ['G:\\\\classification\\\\cond_all\\\\cond7_all\\\\ds_51_C06-T01.tiff', 'G:\\\\classification\\\\cond_all\\\\ex\\\\ds61_g6_F06-T01.tiff', 'G:\\\\classification\\\\cond_all\\\\cond7_all\\\\ds_61_C04-T01.tiff', 'G:\\\\classification\\\\cond_all\\\\cond7_all\\\\ds_1B_B03-T01.tiff', 'G:\\\\classification\\\\cond_all\\\\sd\\\\RBT04_G07-T01.tiff', 'G:\\\\classification\\\\cond_all\\\\cond7_all\\\\sd_04_C08-T01.tiff', 'G:\\\\classification\\\\cond_all\\\\cond7_all\\\\ds_61_F03-T01.tiff', 'G:\\\\classification\\\\cond_all\\\\cond7_all\\\\ds_1B_B10-T01.tiff', 'G:\\\\classification\\\\cond_all\\\\cond7_all\\\\ds_41_B03-T01.tiff', 'G:\\\\classification\\\\cond_all\\\\cond7_all\\\\ds_61_E07-T01.tiff', 'G:\\\\classification\\\\cond_all\\\\sd\\\\RBT04_G09-T01.tiff', 'G:\\\\classification\\\\cond_all\\\\ex\\\\ds61_g9_C08-T01.tiff', 'G:\\\\classification\\\\cond_all\\\\cond7_all\\\\sd_04_E06-T01.tiff', 'G:\\\\classification\\\\cond_all\\\\cond7_all\\\\ds_62_D11-T01.tiff', 'G:\\\\classification\\\\cond_all\\\\cond7_all\\\\ds_61_C06-T01.tiff', 'G:\\\\classification\\\\cond_all\\\\cond7_all\\\\ds_62_G02-T01.tiff']\n"
     ]
    },
    {
     "name": "stderr",
     "output_type": "stream",
     "text": [
      " 36%|███▌      | 14/39 [00:11<00:24,  1.01it/s]"
     ]
    },
    {
     "name": "stdout",
     "output_type": "stream",
     "text": [
      "Batch features shape: torch.Size([16, 20])\n",
      "Batch labels shape: torch.Size([16])\n",
      "Batch labels shape: ['G:\\\\classification\\\\cond_all\\\\cond7_all\\\\ds_52_D09-T01.tiff', 'G:\\\\classification\\\\cond_all\\\\cond7_all\\\\ds_51_B10-T01.tiff', 'G:\\\\classification\\\\cond_all\\\\ex\\\\ds61_g8_B10-T01.tiff', 'G:\\\\classification\\\\cond_all\\\\cond7_all\\\\ds_42_B03-T01.tiff', 'G:\\\\classification\\\\cond_all\\\\cond7_all\\\\sd_04_D06-T01.tiff', 'G:\\\\classification\\\\cond_all\\\\cond7_all\\\\sd_04_F07-T01.tiff', 'G:\\\\classification\\\\cond_all\\\\cond7_all\\\\ds_41_B09-T01.tiff', 'G:\\\\classification\\\\cond_all\\\\cond7_all\\\\ds_1B_D10-T01.tiff', 'G:\\\\classification\\\\cond_all\\\\sd\\\\RBT04_B09-T01.tiff', 'G:\\\\classification\\\\cond_all\\\\cond7_all\\\\ds_62_C04-T01.tiff', 'G:\\\\classification\\\\cond_all\\\\cond7_all\\\\ds_61_E09-T01.tiff', 'G:\\\\classification\\\\cond_all\\\\cond7_all\\\\ds_51_D09-T01.tiff', 'G:\\\\classification\\\\cond_all\\\\sd\\\\RBT10_B11-T01.tiff', 'G:\\\\classification\\\\cond_all\\\\cond7_all\\\\ds_52_E05-T01.tiff', 'G:\\\\classification\\\\cond_all\\\\sd\\\\RBT09_D07-T01.tiff', 'G:\\\\classification\\\\cond_all\\\\cond7_all\\\\ds_51_D06-T01.tiff']\n"
     ]
    },
    {
     "name": "stderr",
     "output_type": "stream",
     "text": [
      " 38%|███▊      | 15/39 [00:12<00:24,  1.03s/it]"
     ]
    },
    {
     "name": "stdout",
     "output_type": "stream",
     "text": [
      "Batch features shape: torch.Size([16, 20])\n",
      "Batch labels shape: torch.Size([16])\n",
      "Batch labels shape: ['G:\\\\classification\\\\cond_all\\\\ex\\\\ds1B_g9_c10.tif', 'G:\\\\classification\\\\cond_all\\\\cond7_all\\\\ds_42_B04-T01.tiff', 'G:\\\\classification\\\\cond_all\\\\cond7_all\\\\ds_1B_F11-T01.tiff', 'G:\\\\classification\\\\cond_all\\\\cond7_all\\\\ds_1B_D05-T01.tiff', 'G:\\\\classification\\\\cond_all\\\\cond7_all\\\\ds_51_G07-T01.tiff', 'G:\\\\classification\\\\cond_all\\\\cond7_all\\\\ds_62_E09-T01.tiff', 'G:\\\\classification\\\\cond_all\\\\cond7_all\\\\ds_61_G07-T01.tiff', 'G:\\\\classification\\\\cond_all\\\\cond7_all\\\\ds_42_D08-T01.tiff', 'G:\\\\classification\\\\cond_all\\\\cond7_all\\\\ds_41_B06-T01.tiff', 'G:\\\\classification\\\\cond_all\\\\cond7_all\\\\sd_04_E09-T01.tiff', 'G:\\\\classification\\\\cond_all\\\\cond7_all\\\\ds_51_B02-T01.tiff', 'G:\\\\classification\\\\cond_all\\\\cond7_all\\\\ds_62_C06-T01.tiff', 'G:\\\\classification\\\\cond_all\\\\cond7_all\\\\ds_1B_F07-T01.tiff', 'G:\\\\classification\\\\cond_all\\\\cond7_all\\\\ds_52_F03-T01.tiff', 'G:\\\\classification\\\\cond_all\\\\cond7_all\\\\ds_52_G06-T01.tiff', 'G:\\\\classification\\\\cond_all\\\\cond7_all\\\\ds_41_E06-T01.tiff']\n"
     ]
    },
    {
     "name": "stderr",
     "output_type": "stream",
     "text": [
      " 41%|████      | 16/39 [00:13<00:24,  1.05s/it]"
     ]
    },
    {
     "name": "stdout",
     "output_type": "stream",
     "text": [
      "Batch features shape: torch.Size([16, 20])\n",
      "Batch labels shape: torch.Size([16])\n",
      "Batch labels shape: ['G:\\\\classification\\\\cond_all\\\\cond7_all\\\\sd_04_F06-T01.tiff', 'G:\\\\classification\\\\cond_all\\\\cond7_all\\\\ds_51_D03-T01.tiff', 'G:\\\\classification\\\\cond_all\\\\ex\\\\ds41_g3_C05-T01.tiff', 'G:\\\\classification\\\\cond_all\\\\cond7_all\\\\ds_42_C10-T01.tiff', 'G:\\\\classification\\\\cond_all\\\\cond7_all\\\\ds_62_E11-T01.tiff', 'G:\\\\classification\\\\cond_all\\\\sd\\\\RBT10_G07-T01.tiff', 'G:\\\\classification\\\\cond_all\\\\cond7_all\\\\ds_1B_E03-T01.tiff', 'G:\\\\classification\\\\cond_all\\\\cond7_all\\\\ds_42_G11-T01.tiff', 'G:\\\\classification\\\\cond_all\\\\ex\\\\ds62_g8_B11-T01.tiff', 'G:\\\\classification\\\\cond_all\\\\cond7_all\\\\ds_51_C05-T01.tiff', 'G:\\\\classification\\\\cond_all\\\\sd\\\\RBT04_B11-T01.tiff', 'G:\\\\classification\\\\cond_all\\\\cond7_all\\\\ds_61_C10-T01.tiff', 'G:\\\\classification\\\\cond_all\\\\cond7_all\\\\sd_04_F08-T01.tiff', 'G:\\\\classification\\\\cond_all\\\\cond7_all\\\\ds_61_E02-T01.tiff', 'G:\\\\classification\\\\cond_all\\\\sd\\\\RBT09_D11-T01.tiff', 'G:\\\\classification\\\\cond_all\\\\cond7_all\\\\ds_42_E04-T01.tiff']\n"
     ]
    },
    {
     "name": "stderr",
     "output_type": "stream",
     "text": [
      " 44%|████▎     | 17/39 [00:14<00:23,  1.07s/it]"
     ]
    },
    {
     "name": "stdout",
     "output_type": "stream",
     "text": [
      "Batch features shape: torch.Size([16, 20])\n",
      "Batch labels shape: torch.Size([16])\n",
      "Batch labels shape: ['G:\\\\classification\\\\cond_all\\\\sd\\\\RBT04_F09-T01.tiff', 'G:\\\\classification\\\\cond_all\\\\cond7_all\\\\ds_61_G04-T01.tiff', 'G:\\\\classification\\\\cond_all\\\\cond7_all\\\\ds_42_D10-T01.tiff', 'G:\\\\classification\\\\cond_all\\\\sd\\\\RBT10_C09-T01.tiff', 'G:\\\\classification\\\\cond_all\\\\cond7_all\\\\ds_1B_G06-T01.tiff', 'G:\\\\classification\\\\cond_all\\\\cond7_all\\\\ds_62_F11-T01.tiff', 'G:\\\\classification\\\\cond_all\\\\cond7_all\\\\ds_52_C08-T01.tiff', 'G:\\\\classification\\\\cond_all\\\\cond7_all\\\\ds_42_C08-T01.tiff', 'G:\\\\classification\\\\cond_all\\\\cond7_all\\\\ds_42_B06-T01.tiff', 'G:\\\\classification\\\\cond_all\\\\cond7_all\\\\ds_42_B09-T01.tiff', 'G:\\\\classification\\\\cond_all\\\\cond7_all\\\\ds_51_C02-T01.tiff', 'G:\\\\classification\\\\cond_all\\\\cond7_all\\\\ds_62_G07-T01.tiff', 'G:\\\\classification\\\\cond_all\\\\cond7_all\\\\ds_41_D07-T01.tiff', 'G:\\\\classification\\\\cond_all\\\\cond7_all\\\\ds_42_G09-T01.tiff', 'G:\\\\classification\\\\cond_all\\\\sd\\\\RBT04_F11-T01.tiff', 'G:\\\\classification\\\\cond_all\\\\cond7_all\\\\sd_04_E10-T01.tiff']\n"
     ]
    },
    {
     "name": "stderr",
     "output_type": "stream",
     "text": [
      " 46%|████▌     | 18/39 [00:15<00:22,  1.09s/it]"
     ]
    },
    {
     "name": "stdout",
     "output_type": "stream",
     "text": [
      "Batch features shape: torch.Size([16, 20])\n",
      "Batch labels shape: torch.Size([16])\n",
      "Batch labels shape: ['G:\\\\classification\\\\cond_all\\\\cond7_all\\\\ds_51_B05-T01.tiff', 'G:\\\\classification\\\\cond_all\\\\cond7_all\\\\ds_51_D02-T01.tiff', 'G:\\\\classification\\\\cond_all\\\\cond7_all\\\\sd_04_C10-T01.tiff', 'G:\\\\classification\\\\cond_all\\\\sd\\\\RBT09_B07-T01.tiff', 'G:\\\\classification\\\\cond_all\\\\cond7_all\\\\ds_42_F11-T01.tiff', 'G:\\\\classification\\\\cond_all\\\\cond7_all\\\\ds_52_C07-T01.tiff', 'G:\\\\classification\\\\cond_all\\\\cond7_all\\\\sd_04_F09-T01.tiff', 'G:\\\\classification\\\\cond_all\\\\sd\\\\RBT09_E10-T01.tiff', 'G:\\\\classification\\\\cond_all\\\\cond7_all\\\\sd_04_D03-T01.tiff', 'G:\\\\classification\\\\cond_all\\\\cond7_all\\\\ds_62_D07-T01.tiff', 'G:\\\\classification\\\\cond_all\\\\cond7_all\\\\sd_04_F11-T01.tiff', 'G:\\\\classification\\\\cond_all\\\\cond7_all\\\\ds_61_E05-T01.tiff', 'G:\\\\classification\\\\cond_all\\\\cond7_all\\\\ds_61_F05-T01.tiff', 'G:\\\\classification\\\\cond_all\\\\sd\\\\RBT09_G11-T01.tiff', 'G:\\\\classification\\\\cond_all\\\\cond7_all\\\\ds_61_G10-T01.tiff', 'G:\\\\classification\\\\cond_all\\\\cond7_all\\\\ds_52_D08-T01.tiff']\n"
     ]
    },
    {
     "name": "stderr",
     "output_type": "stream",
     "text": [
      " 49%|████▊     | 19/39 [00:16<00:21,  1.10s/it]"
     ]
    },
    {
     "name": "stdout",
     "output_type": "stream",
     "text": [
      "Batch features shape: torch.Size([16, 20])\n",
      "Batch labels shape: torch.Size([16])\n",
      "Batch labels shape: ['G:\\\\classification\\\\cond_all\\\\cond7_all\\\\ds_62_F10-T01.tiff', 'G:\\\\classification\\\\cond_all\\\\cond7_all\\\\ds_61_D06-T01.tiff', 'G:\\\\classification\\\\cond_all\\\\cond7_all\\\\ds_62_G11-T01.tiff', 'G:\\\\classification\\\\cond_all\\\\cond7_all\\\\ds_1B_D07-T01.tiff', 'G:\\\\classification\\\\cond_all\\\\sd\\\\RBT14_B11-T01.tiff', 'G:\\\\classification\\\\cond_all\\\\ex\\\\ds41_g3_C02-T01.tiff', 'G:\\\\classification\\\\cond_all\\\\ex\\\\ds1B_g9_C11.tif', 'G:\\\\classification\\\\cond_all\\\\cond7_all\\\\ds_1B_F09-T01.tiff', 'G:\\\\classification\\\\cond_all\\\\cond7_all\\\\ds_42_B07-T01.tiff', 'G:\\\\classification\\\\cond_all\\\\ex\\\\ds61_g8_B07-T01.tiff', 'G:\\\\classification\\\\cond_all\\\\cond7_all\\\\ds_42_F09-T01.tiff', 'G:\\\\classification\\\\cond_all\\\\cond7_all\\\\ds_62_C09-T01.tiff', 'G:\\\\classification\\\\cond_all\\\\cond7_all\\\\ds_42_G08-T01.tiff', 'G:\\\\classification\\\\cond_all\\\\cond7_all\\\\sd_04_E08-T01.tiff', 'G:\\\\classification\\\\cond_all\\\\sd\\\\RBT10_D10-T01.tiff', 'G:\\\\classification\\\\cond_all\\\\cond7_all\\\\ds_61_C08-T01.tiff']\n"
     ]
    },
    {
     "name": "stderr",
     "output_type": "stream",
     "text": [
      " 51%|█████▏    | 20/39 [00:17<00:20,  1.10s/it]"
     ]
    },
    {
     "name": "stdout",
     "output_type": "stream",
     "text": [
      "Batch features shape: torch.Size([16, 20])\n",
      "Batch labels shape: torch.Size([16])\n",
      "Batch labels shape: ['G:\\\\classification\\\\cond_all\\\\sd\\\\RBT09_C07-T01.tiff', 'G:\\\\classification\\\\cond_all\\\\sd\\\\RBT09_D09-T01.tiff', 'G:\\\\classification\\\\cond_all\\\\cond7_all\\\\ds_61_D09-T01.tiff', 'G:\\\\classification\\\\cond_all\\\\cond7_all\\\\ds_51_B06-T01.tiff', 'G:\\\\classification\\\\cond_all\\\\cond7_all\\\\ds_41_G08-T01.tiff', 'G:\\\\classification\\\\cond_all\\\\sd\\\\RBT04_D11-T01.tiff', 'G:\\\\classification\\\\cond_all\\\\cond7_all\\\\ds_61_D02-T01.tiff', 'G:\\\\classification\\\\cond_all\\\\cond7_all\\\\ds_52_F11-T01.tiff', 'G:\\\\classification\\\\cond_all\\\\ex\\\\ds61_g6_F05-T01.tiff', 'G:\\\\classification\\\\cond_all\\\\sd\\\\RBT14_B08-T01.tiff', 'G:\\\\classification\\\\cond_all\\\\ex\\\\ds62_g9_C11-T01.tiff', 'G:\\\\classification\\\\cond_all\\\\sd\\\\RBT14_C08-T01.tiff', 'G:\\\\classification\\\\cond_all\\\\ex\\\\ds61_g9_C11-T01.tiff', 'G:\\\\classification\\\\cond_all\\\\ex\\\\ds61_g3_C04-T01.tiff', 'G:\\\\classification\\\\cond_all\\\\ex\\\\ds61_g8_B11-T01.tiff', 'G:\\\\classification\\\\cond_all\\\\cond7_all\\\\ds_61_D03-T01.tiff']\n"
     ]
    },
    {
     "name": "stderr",
     "output_type": "stream",
     "text": [
      " 54%|█████▍    | 21/39 [00:18<00:19,  1.10s/it]"
     ]
    },
    {
     "name": "stdout",
     "output_type": "stream",
     "text": [
      "Batch features shape: torch.Size([16, 20])\n",
      "Batch labels shape: torch.Size([16])\n",
      "Batch labels shape: ['G:\\\\classification\\\\cond_all\\\\cond7_all\\\\ds_51_G09-T01.tiff', 'G:\\\\classification\\\\cond_all\\\\cond7_all\\\\ds_51_B11-T01.tiff', 'G:\\\\classification\\\\cond_all\\\\cond7_all\\\\ds_41_C11-T01.tiff', 'G:\\\\classification\\\\cond_all\\\\cond7_all\\\\ds_62_D02-T01.tiff', 'G:\\\\classification\\\\cond_all\\\\sd\\\\RBT09_C10-T01.tiff', 'G:\\\\classification\\\\cond_all\\\\ex\\\\ds41_g3_C03-T01.tiff', 'G:\\\\classification\\\\cond_all\\\\cond7_all\\\\ds_52_B06-T01.tiff', 'G:\\\\classification\\\\cond_all\\\\cond7_all\\\\ds_41_F11-T01.tiff', 'G:\\\\classification\\\\cond_all\\\\cond7_all\\\\sd_04_C03-T01.tiff', 'G:\\\\classification\\\\cond_all\\\\cond7_all\\\\sd_04_G02-T01.tiff', 'G:\\\\classification\\\\cond_all\\\\cond7_all\\\\ds_52_C03-T01.tiff', 'G:\\\\classification\\\\cond_all\\\\cond7_all\\\\ds_1B_C05-T01.tiff', 'G:\\\\classification\\\\cond_all\\\\cond7_all\\\\ds_42_B08-T01.tiff', 'G:\\\\classification\\\\cond_all\\\\cond7_all\\\\ds_41_C04-T01.tiff', 'G:\\\\classification\\\\cond_all\\\\cond7_all\\\\sd_04_B02-T01.tiff', 'G:\\\\classification\\\\cond_all\\\\cond7_all\\\\ds_61_G11-T01.tiff']\n"
     ]
    },
    {
     "name": "stderr",
     "output_type": "stream",
     "text": [
      " 56%|█████▋    | 22/39 [00:20<00:18,  1.10s/it]"
     ]
    },
    {
     "name": "stdout",
     "output_type": "stream",
     "text": [
      "Batch features shape: torch.Size([16, 20])\n",
      "Batch labels shape: torch.Size([16])\n",
      "Batch labels shape: ['G:\\\\classification\\\\cond_all\\\\cond7_all\\\\ds_42_G07-T01.tiff', 'G:\\\\classification\\\\cond_all\\\\cond7_all\\\\ds_61_F11-T01.tiff', 'G:\\\\classification\\\\cond_all\\\\cond7_all\\\\ds_42_D07-T01.tiff', 'G:\\\\classification\\\\cond_all\\\\sd\\\\RBT04_D09-T01.tiff', 'G:\\\\classification\\\\cond_all\\\\cond7_all\\\\ds_1B_C09-T01.tiff', 'G:\\\\classification\\\\cond_all\\\\cond7_all\\\\sd_04_F04-T01.tiff', 'G:\\\\classification\\\\cond_all\\\\cond7_all\\\\ds_51_E10-T01.tiff', 'G:\\\\classification\\\\cond_all\\\\cond7_all\\\\ds_61_C09-T01.tiff', 'G:\\\\classification\\\\cond_all\\\\sd\\\\RBT09_F08-T01.tiff', 'G:\\\\classification\\\\cond_all\\\\cond7_all\\\\ds_52_E02-T01.tiff', 'G:\\\\classification\\\\cond_all\\\\cond7_all\\\\ds_1B_D06-T01.tiff', 'G:\\\\classification\\\\cond_all\\\\cond7_all\\\\ds_62_G05-T01.tiff', 'G:\\\\classification\\\\cond_all\\\\sd\\\\RBT10_B10-T01.tiff', 'G:\\\\classification\\\\cond_all\\\\cond7_all\\\\ds_41_D06-T01.tiff', 'G:\\\\classification\\\\cond_all\\\\cond7_all\\\\ds_42_F03-T01.tiff', 'G:\\\\classification\\\\cond_all\\\\cond7_all\\\\ds_51_G08-T01.tiff']\n"
     ]
    },
    {
     "name": "stderr",
     "output_type": "stream",
     "text": [
      " 59%|█████▉    | 23/39 [00:21<00:17,  1.12s/it]"
     ]
    },
    {
     "name": "stdout",
     "output_type": "stream",
     "text": [
      "Batch features shape: torch.Size([16, 20])\n",
      "Batch labels shape: torch.Size([16])\n",
      "Batch labels shape: ['G:\\\\classification\\\\cond_all\\\\cond7_all\\\\ds_52_B03-T01.tiff', 'G:\\\\classification\\\\cond_all\\\\cond7_all\\\\ds_41_C02-T01.tiff', 'G:\\\\classification\\\\cond_all\\\\cond7_all\\\\sd_04_C11-T01.tiff', 'G:\\\\classification\\\\cond_all\\\\sd\\\\RBT09_F10-T01.tiff', 'G:\\\\classification\\\\cond_all\\\\cond7_all\\\\ds_62_B09-T01.tiff', 'G:\\\\classification\\\\cond_all\\\\cond7_all\\\\ds_1B_G04-T01.tiff', 'G:\\\\classification\\\\cond_all\\\\cond7_all\\\\ds_41_F05-T01.tiff', 'G:\\\\classification\\\\cond_all\\\\cond7_all\\\\ds_61_E06-T01.tiff', 'G:\\\\classification\\\\cond_all\\\\cond7_all\\\\ds_41_E02-T01.tiff', 'G:\\\\classification\\\\cond_all\\\\cond7_all\\\\ds_51_B08-T01.tiff', 'G:\\\\classification\\\\cond_all\\\\cond7_all\\\\ds_41_G10-T01.tiff', 'G:\\\\classification\\\\cond_all\\\\sd\\\\RBT14_D07-T01.tiff', 'G:\\\\classification\\\\cond_all\\\\cond7_all\\\\ds_42_C07-T01.tiff', 'G:\\\\classification\\\\cond_all\\\\sd\\\\RBT04_F07-T01.tiff', 'G:\\\\classification\\\\cond_all\\\\cond7_all\\\\ds_51_G11-T01.tiff', 'G:\\\\classification\\\\cond_all\\\\sd\\\\RBT10_B07-T01.tiff']\n"
     ]
    },
    {
     "name": "stderr",
     "output_type": "stream",
     "text": [
      " 62%|██████▏   | 24/39 [00:22<00:16,  1.12s/it]"
     ]
    },
    {
     "name": "stdout",
     "output_type": "stream",
     "text": [
      "Batch features shape: torch.Size([16, 20])\n",
      "Batch labels shape: torch.Size([16])\n",
      "Batch labels shape: ['G:\\\\classification\\\\cond_all\\\\cond7_all\\\\ds_42_E10-T01.tiff', 'G:\\\\classification\\\\cond_all\\\\cond7_all\\\\sd_04_G03-T01.tiff', 'G:\\\\classification\\\\cond_all\\\\ex\\\\ds41_g3_C06-T01.tiff', 'G:\\\\classification\\\\cond_all\\\\cond7_all\\\\ds_62_E06-T01.tiff', 'G:\\\\classification\\\\cond_all\\\\cond7_all\\\\ds_52_F05-T01.tiff', 'G:\\\\classification\\\\cond_all\\\\cond7_all\\\\ds_51_B03-T01.tiff', 'G:\\\\classification\\\\cond_all\\\\cond7_all\\\\ds_41_B10-T01.tiff', 'G:\\\\classification\\\\cond_all\\\\cond7_all\\\\ds_1B_D08-T01.tiff', 'G:\\\\classification\\\\cond_all\\\\cond7_all\\\\ds_62_B08-T01.tiff', 'G:\\\\classification\\\\cond_all\\\\cond7_all\\\\ds_1B_B11-T01.tiff', 'G:\\\\classification\\\\cond_all\\\\cond7_all\\\\sd_04_C02-T01.tiff', 'G:\\\\classification\\\\cond_all\\\\cond7_all\\\\ds_52_B05-T01.tiff', 'G:\\\\classification\\\\cond_all\\\\ex\\\\ds41_g3_C04-T01.tiff', 'G:\\\\classification\\\\cond_all\\\\cond7_all\\\\ds_1B_G02-T01.tiff', 'G:\\\\classification\\\\cond_all\\\\ex\\\\ds1B_g9_C9.tif', 'G:\\\\classification\\\\cond_all\\\\ex\\\\ds61_g3_C03-T01.tiff']\n"
     ]
    },
    {
     "name": "stderr",
     "output_type": "stream",
     "text": [
      " 64%|██████▍   | 25/39 [00:23<00:13,  1.00it/s]"
     ]
    },
    {
     "name": "stdout",
     "output_type": "stream",
     "text": [
      "Batch features shape: torch.Size([16, 20])\n",
      "Batch labels shape: torch.Size([16])\n",
      "Batch labels shape: ['G:\\\\classification\\\\cond_all\\\\sd\\\\RBT04_B07-T01.tiff', 'G:\\\\classification\\\\cond_all\\\\cond7_all\\\\sd_04_D10-T01.tiff', 'G:\\\\classification\\\\cond_all\\\\cond7_all\\\\ds_52_F02-T01.tiff', 'G:\\\\classification\\\\cond_all\\\\cond7_all\\\\ds_42_C04-T01.tiff', 'G:\\\\classification\\\\cond_all\\\\cond7_all\\\\ds_1B_B04-T01.tiff', 'G:\\\\classification\\\\cond_all\\\\cond7_all\\\\ds_62_E10-T01.tiff', 'G:\\\\classification\\\\cond_all\\\\sd\\\\RBT09_D10-T01.tiff', 'G:\\\\classification\\\\cond_all\\\\cond7_all\\\\ds_51_F11-T01.tiff', 'G:\\\\classification\\\\cond_all\\\\sd\\\\RBT14_B07-T01.tiff', 'G:\\\\classification\\\\cond_all\\\\cond7_all\\\\ds_52_G07-T01.tiff', 'G:\\\\classification\\\\cond_all\\\\ex\\\\ds1B_g9_C7.tif', 'G:\\\\classification\\\\cond_all\\\\cond7_all\\\\sd_04_F05-T01.tiff', 'G:\\\\classification\\\\cond_all\\\\cond7_all\\\\ds_52_D02-T01.tiff', 'G:\\\\classification\\\\cond_all\\\\cond7_all\\\\ds_41_D02-T01.tiff', 'G:\\\\classification\\\\cond_all\\\\cond7_all\\\\ds_51_C11-T01.tiff', 'G:\\\\classification\\\\cond_all\\\\cond7_all\\\\ds_51_D05-T01.tiff']\n"
     ]
    },
    {
     "name": "stderr",
     "output_type": "stream",
     "text": [
      " 67%|██████▋   | 26/39 [00:23<00:11,  1.11it/s]"
     ]
    },
    {
     "name": "stdout",
     "output_type": "stream",
     "text": [
      "Batch features shape: torch.Size([16, 20])\n",
      "Batch labels shape: torch.Size([16])\n",
      "Batch labels shape: ['G:\\\\classification\\\\cond_all\\\\cond7_all\\\\ds_42_D03-T01.tiff', 'G:\\\\classification\\\\cond_all\\\\cond7_all\\\\ds_51_E09-T01.tiff', 'G:\\\\classification\\\\cond_all\\\\sd\\\\RBT09_F09-T01.tiff', 'G:\\\\classification\\\\cond_all\\\\cond7_all\\\\ds_41_C09-T01.tiff', 'G:\\\\classification\\\\cond_all\\\\cond7_all\\\\ds_51_D07-T01.tiff', 'G:\\\\classification\\\\cond_all\\\\sd\\\\RBT04_G11-T01.tiff', 'G:\\\\classification\\\\cond_all\\\\cond7_all\\\\ds_61_C03-T01.tiff', 'G:\\\\classification\\\\cond_all\\\\cond7_all\\\\ds_52_B11-T01.tiff', 'G:\\\\classification\\\\cond_all\\\\cond7_all\\\\ds_62_E08-T01.tiff', 'G:\\\\classification\\\\cond_all\\\\sd\\\\RBT09_B09-T01.tiff', 'G:\\\\classification\\\\cond_all\\\\cond7_all\\\\ds_41_E09-T01.tiff', 'G:\\\\classification\\\\cond_all\\\\cond7_all\\\\ds_52_B10-T01.tiff', 'G:\\\\classification\\\\cond_all\\\\cond7_all\\\\ds_42_E09-T01.tiff', 'G:\\\\classification\\\\cond_all\\\\cond7_all\\\\ds_42_F02-T01.tiff', 'G:\\\\classification\\\\cond_all\\\\cond7_all\\\\ds_61_E04-T01.tiff', 'G:\\\\classification\\\\cond_all\\\\cond7_all\\\\ds_61_F08-T01.tiff']\n"
     ]
    },
    {
     "name": "stderr",
     "output_type": "stream",
     "text": [
      " 69%|██████▉   | 27/39 [00:24<00:09,  1.20it/s]"
     ]
    },
    {
     "name": "stdout",
     "output_type": "stream",
     "text": [
      "Batch features shape: torch.Size([16, 20])\n",
      "Batch labels shape: torch.Size([16])\n",
      "Batch labels shape: ['G:\\\\classification\\\\cond_all\\\\cond7_all\\\\ds_51_F02-T01.tiff', 'G:\\\\classification\\\\cond_all\\\\cond7_all\\\\ds_62_F04-T01.tiff', 'G:\\\\classification\\\\cond_all\\\\cond7_all\\\\ds_61_C05-T01.tiff', 'G:\\\\classification\\\\cond_all\\\\ex\\\\ds62_g9_C10-T01.tiff', 'G:\\\\classification\\\\cond_all\\\\cond7_all\\\\ds_61_G09-T01.tiff', 'G:\\\\classification\\\\cond_all\\\\sd\\\\RBT10_G10-T01.tiff', 'G:\\\\classification\\\\cond_all\\\\cond7_all\\\\ds_41_F04-T01.tiff', 'G:\\\\classification\\\\cond_all\\\\cond7_all\\\\ds_1B_E04-T01.tiff', 'G:\\\\classification\\\\cond_all\\\\cond7_all\\\\ds_41_E08-T01.tiff', 'G:\\\\classification\\\\cond_all\\\\cond7_all\\\\ds_52_D11-T01.tiff', 'G:\\\\classification\\\\cond_all\\\\cond7_all\\\\sd_04_B09-T01.tiff', 'G:\\\\classification\\\\cond_all\\\\cond7_all\\\\ds_41_C07-T01.tiff', 'G:\\\\classification\\\\cond_all\\\\cond7_all\\\\ds_1B_F10-T01.tiff', 'G:\\\\classification\\\\cond_all\\\\cond7_all\\\\ds_62_B07-T01.tiff', 'G:\\\\classification\\\\cond_all\\\\cond7_all\\\\ds_61_F04-T01.tiff', 'G:\\\\classification\\\\cond_all\\\\cond7_all\\\\ds_62_C03-T01.tiff']\n"
     ]
    },
    {
     "name": "stderr",
     "output_type": "stream",
     "text": [
      " 72%|███████▏  | 28/39 [00:25<00:08,  1.29it/s]"
     ]
    },
    {
     "name": "stdout",
     "output_type": "stream",
     "text": [
      "Batch features shape: torch.Size([16, 20])\n",
      "Batch labels shape: torch.Size([16])\n",
      "Batch labels shape: ['G:\\\\classification\\\\cond_all\\\\cond7_all\\\\ds_42_D04-T01.tiff', 'G:\\\\classification\\\\cond_all\\\\cond7_all\\\\ds_42_E03-T01.tiff', 'G:\\\\classification\\\\cond_all\\\\cond7_all\\\\ds_42_F06-T01.tiff', 'G:\\\\classification\\\\cond_all\\\\cond7_all\\\\sd_04_D07-T01.tiff', 'G:\\\\classification\\\\cond_all\\\\cond7_all\\\\ds_62_F06-T01.tiff', 'G:\\\\classification\\\\cond_all\\\\cond7_all\\\\ds_51_C03-T01.tiff', 'G:\\\\classification\\\\cond_all\\\\cond7_all\\\\ds_41_C05-T01.tiff', 'G:\\\\classification\\\\cond_all\\\\cond7_all\\\\ds_52_B02-T01.tiff', 'G:\\\\classification\\\\cond_all\\\\ex\\\\ds61_g3_C02-T01.tiff', 'G:\\\\classification\\\\cond_all\\\\cond7_all\\\\ds_42_G10-T01.tiff', 'G:\\\\classification\\\\cond_all\\\\cond7_all\\\\ds_52_F07-T01.tiff', 'G:\\\\classification\\\\cond_all\\\\cond7_all\\\\ds_61_F02-T01.tiff', 'G:\\\\classification\\\\cond_all\\\\cond7_all\\\\ds_1B_D04-T01.tiff', 'G:\\\\classification\\\\cond_all\\\\cond7_all\\\\ds_61_B02-T01.tiff', 'G:\\\\classification\\\\cond_all\\\\cond7_all\\\\sd_04_G04-T01.tiff', 'G:\\\\classification\\\\cond_all\\\\cond7_all\\\\ds_1B_D11-T01.tiff']\n"
     ]
    },
    {
     "name": "stderr",
     "output_type": "stream",
     "text": [
      " 74%|███████▍  | 29/39 [00:25<00:07,  1.34it/s]"
     ]
    },
    {
     "name": "stdout",
     "output_type": "stream",
     "text": [
      "Batch features shape: torch.Size([16, 20])\n",
      "Batch labels shape: torch.Size([16])\n",
      "Batch labels shape: ['G:\\\\classification\\\\cond_all\\\\cond7_all\\\\ds_51_G03-T01.tiff', 'G:\\\\classification\\\\cond_all\\\\ex\\\\ds61_g9_C09-T01.tiff', 'G:\\\\classification\\\\cond_all\\\\sd\\\\RBT14_C07-T01.tiff', 'G:\\\\classification\\\\cond_all\\\\cond7_all\\\\ds_1B_F06-T01.tiff', 'G:\\\\classification\\\\cond_all\\\\sd\\\\RBT14_C10-T01.tiff', 'G:\\\\classification\\\\cond_all\\\\cond7_all\\\\ds_1B_B02-T01.tiff', 'G:\\\\classification\\\\cond_all\\\\cond7_all\\\\ds_41_D05-T01.tiff', 'G:\\\\classification\\\\cond_all\\\\cond7_all\\\\ds_61_B07-T01.tiff', 'G:\\\\classification\\\\cond_all\\\\cond7_all\\\\ds_42_F10-T01.tiff', 'G:\\\\classification\\\\cond_all\\\\cond7_all\\\\sd_04_C06-T01.tiff', 'G:\\\\classification\\\\cond_all\\\\cond7_all\\\\ds_1B_C03-T01.tiff', 'G:\\\\classification\\\\cond_all\\\\cond7_all\\\\ds_1B_F03-T01.tiff', 'G:\\\\classification\\\\cond_all\\\\ex\\\\ds61_g6_F04-T01.tiff', 'G:\\\\classification\\\\cond_all\\\\cond7_all\\\\ds_51_E03-T01.tiff', 'G:\\\\classification\\\\cond_all\\\\cond7_all\\\\ds_1B_B09-T01.tiff', 'G:\\\\classification\\\\cond_all\\\\sd\\\\RBT04_C08-T01.tiff']\n"
     ]
    },
    {
     "name": "stderr",
     "output_type": "stream",
     "text": [
      " 77%|███████▋  | 30/39 [00:26<00:06,  1.38it/s]"
     ]
    },
    {
     "name": "stdout",
     "output_type": "stream",
     "text": [
      "Batch features shape: torch.Size([16, 20])\n",
      "Batch labels shape: torch.Size([16])\n",
      "Batch labels shape: ['G:\\\\classification\\\\cond_all\\\\cond7_all\\\\ds_61_B09-T01.tiff', 'G:\\\\classification\\\\cond_all\\\\cond7_all\\\\ds_62_C11-T01.tiff', 'G:\\\\classification\\\\cond_all\\\\ex\\\\ds61_g9_C10-T01.tiff', 'G:\\\\classification\\\\cond_all\\\\cond7_all\\\\sd_04_D05-T01.tiff', 'G:\\\\classification\\\\cond_all\\\\sd\\\\RBT09_F11-T01.tiff', 'G:\\\\classification\\\\cond_all\\\\cond7_all\\\\ds_52_D04-T01.tiff', 'G:\\\\classification\\\\cond_all\\\\cond7_all\\\\ds_51_F03-T01.tiff', 'G:\\\\classification\\\\cond_all\\\\cond7_all\\\\ds_41_B08-T01.tiff', 'G:\\\\classification\\\\cond_all\\\\cond7_all\\\\ds_62_D08-T01.tiff', 'G:\\\\classification\\\\cond_all\\\\cond7_all\\\\ds_41_D08-T01.tiff', 'G:\\\\classification\\\\cond_all\\\\ex\\\\ds62_g8_B10-T01.tiff', 'G:\\\\classification\\\\cond_all\\\\sd\\\\RBT09_E08-T01.tiff', 'G:\\\\classification\\\\cond_all\\\\cond7_all\\\\ds_51_E08-T01.tiff', 'G:\\\\classification\\\\cond_all\\\\sd\\\\RBT04_C10-T01.tiff', 'G:\\\\classification\\\\cond_all\\\\cond7_all\\\\ds_1B_E07-T01.tiff', 'G:\\\\classification\\\\cond_all\\\\cond7_all\\\\ds_1B_G09-T01.tiff']\n"
     ]
    },
    {
     "name": "stderr",
     "output_type": "stream",
     "text": [
      " 79%|███████▉  | 31/39 [00:27<00:05,  1.41it/s]"
     ]
    },
    {
     "name": "stdout",
     "output_type": "stream",
     "text": [
      "Batch features shape: torch.Size([16, 20])\n",
      "Batch labels shape: torch.Size([16])\n",
      "Batch labels shape: ['G:\\\\classification\\\\cond_all\\\\cond7_all\\\\ds_42_F05-T01.tiff', 'G:\\\\classification\\\\cond_all\\\\cond7_all\\\\ds_1B_G07-T01.tiff', 'G:\\\\classification\\\\cond_all\\\\sd\\\\RBT10_E10-T01.tiff', 'G:\\\\classification\\\\cond_all\\\\cond7_all\\\\ds_41_E03-T01.tiff', 'G:\\\\classification\\\\cond_all\\\\cond7_all\\\\ds_41_G09-T01.tiff', 'G:\\\\classification\\\\cond_all\\\\cond7_all\\\\ds_51_D08-T01.tiff', 'G:\\\\classification\\\\cond_all\\\\cond7_all\\\\ds_61_F09-T01.tiff', 'G:\\\\classification\\\\cond_all\\\\cond7_all\\\\ds_51_E04-T01.tiff', 'G:\\\\classification\\\\cond_all\\\\cond7_all\\\\ds_42_C05-T01.tiff', 'G:\\\\classification\\\\cond_all\\\\cond7_all\\\\ds_42_E05-T01.tiff', 'G:\\\\classification\\\\cond_all\\\\cond7_all\\\\ds_51_F06-T01.tiff', 'G:\\\\classification\\\\cond_all\\\\cond7_all\\\\ds_52_C05-T01.tiff', 'G:\\\\classification\\\\cond_all\\\\cond7_all\\\\ds_52_E09-T01.tiff', 'G:\\\\classification\\\\cond_all\\\\sd\\\\RBT09_G07-T01.tiff', 'G:\\\\classification\\\\cond_all\\\\cond7_all\\\\ds_51_F05-T01.tiff', 'G:\\\\classification\\\\cond_all\\\\sd\\\\RBT14_B09-T01.tiff']\n"
     ]
    },
    {
     "name": "stderr",
     "output_type": "stream",
     "text": [
      " 82%|████████▏ | 32/39 [00:27<00:04,  1.43it/s]"
     ]
    },
    {
     "name": "stdout",
     "output_type": "stream",
     "text": [
      "Batch features shape: torch.Size([16, 20])\n",
      "Batch labels shape: torch.Size([16])\n",
      "Batch labels shape: ['G:\\\\classification\\\\cond_all\\\\ex\\\\ds61_g8_B09-T01.tiff', 'G:\\\\classification\\\\cond_all\\\\cond7_all\\\\sd_04_C05-T01.tiff', 'G:\\\\classification\\\\cond_all\\\\cond7_all\\\\ds_62_B10-T01.tiff', 'G:\\\\classification\\\\cond_all\\\\cond7_all\\\\ds_41_F02-T01.tiff', 'G:\\\\classification\\\\cond_all\\\\cond7_all\\\\ds_62_C10-T01.tiff', 'G:\\\\classification\\\\cond_all\\\\sd\\\\RBT04_E11-T01.tiff', 'G:\\\\classification\\\\cond_all\\\\sd\\\\RBT10_F09-T01.tiff', 'G:\\\\classification\\\\cond_all\\\\cond7_all\\\\ds_42_D06-T01.tiff', 'G:\\\\classification\\\\cond_all\\\\cond7_all\\\\ds_52_D05-T01.tiff', 'G:\\\\classification\\\\cond_all\\\\cond7_all\\\\ds_62_F07-T01.tiff', 'G:\\\\classification\\\\cond_all\\\\cond7_all\\\\ds_41_C03-T01.tiff', 'G:\\\\classification\\\\cond_all\\\\cond7_all\\\\ds_62_B03-T01.tiff', 'G:\\\\classification\\\\cond_all\\\\cond7_all\\\\ds_1B_F05-T01.tiff', 'G:\\\\classification\\\\cond_all\\\\cond7_all\\\\ds_52_F08-T01.tiff', 'G:\\\\classification\\\\cond_all\\\\cond7_all\\\\ds_1B_C02-T01.tiff', 'G:\\\\classification\\\\cond_all\\\\cond7_all\\\\ds_42_C02-T01.tiff']\n"
     ]
    },
    {
     "name": "stderr",
     "output_type": "stream",
     "text": [
      " 85%|████████▍ | 33/39 [00:28<00:04,  1.43it/s]"
     ]
    },
    {
     "name": "stdout",
     "output_type": "stream",
     "text": [
      "Batch features shape: torch.Size([16, 20])\n",
      "Batch labels shape: torch.Size([16])\n",
      "Batch labels shape: ['G:\\\\classification\\\\cond_all\\\\cond7_all\\\\sd_04_E07-T01.tiff', 'G:\\\\classification\\\\cond_all\\\\cond7_all\\\\ds_1B_F04-T01.tiff', 'G:\\\\classification\\\\cond_all\\\\sd\\\\RBT04_E09-T01.tiff', 'G:\\\\classification\\\\cond_all\\\\cond7_all\\\\ds_1B_C07-T01.tiff', 'G:\\\\classification\\\\cond_all\\\\cond7_all\\\\ds_41_E07-T01.tiff', 'G:\\\\classification\\\\cond_all\\\\sd\\\\RBT04_E08-T01.tiff', 'G:\\\\classification\\\\cond_all\\\\sd\\\\RBT09_G09-T01.tiff', 'G:\\\\classification\\\\cond_all\\\\cond7_all\\\\ds_41_D03-T01.tiff', 'G:\\\\classification\\\\cond_all\\\\cond7_all\\\\ds_1B_C11-T01.tiff', 'G:\\\\classification\\\\cond_all\\\\cond7_all\\\\ds_61_B06-T01.tiff', 'G:\\\\classification\\\\cond_all\\\\cond7_all\\\\ds_41_D04-T01.tiff', 'G:\\\\classification\\\\cond_all\\\\cond7_all\\\\ds_52_F09-T01.tiff', 'G:\\\\classification\\\\cond_all\\\\cond7_all\\\\ds_61_G03-T01.tiff', 'G:\\\\classification\\\\cond_all\\\\cond7_all\\\\ds_1B_D09-T01.tiff', 'G:\\\\classification\\\\cond_all\\\\cond7_all\\\\ds_61_D08-T01.tiff', 'G:\\\\classification\\\\cond_all\\\\sd\\\\RBT09_G10-T01.tiff']\n"
     ]
    },
    {
     "name": "stderr",
     "output_type": "stream",
     "text": [
      " 87%|████████▋ | 34/39 [00:29<00:03,  1.44it/s]"
     ]
    },
    {
     "name": "stdout",
     "output_type": "stream",
     "text": [
      "Batch features shape: torch.Size([16, 20])\n",
      "Batch labels shape: torch.Size([16])\n",
      "Batch labels shape: ['G:\\\\classification\\\\cond_all\\\\cond7_all\\\\ds_61_G06-T01.tiff', 'G:\\\\classification\\\\cond_all\\\\cond7_all\\\\ds_61_B11-T01.tiff', 'G:\\\\classification\\\\cond_all\\\\cond7_all\\\\ds_61_C07-T01.tiff', 'G:\\\\classification\\\\cond_all\\\\cond7_all\\\\ds_52_G11-T01.tiff', 'G:\\\\classification\\\\cond_all\\\\sd\\\\RBT04_C07-T01.tiff', 'G:\\\\classification\\\\cond_all\\\\ex\\\\ds61_g9_C07-T01.tiff', 'G:\\\\classification\\\\cond_all\\\\cond7_all\\\\ds_1B_B06-T01.tiff', 'G:\\\\classification\\\\cond_all\\\\cond7_all\\\\ds_62_E07-T01.tiff', 'G:\\\\classification\\\\cond_all\\\\cond7_all\\\\ds_52_D10-T01.tiff', 'G:\\\\classification\\\\cond_all\\\\cond7_all\\\\ds_61_G02-T01.tiff', 'G:\\\\classification\\\\cond_all\\\\cond7_all\\\\sd_04_E03-T01.tiff', 'G:\\\\classification\\\\cond_all\\\\cond7_all\\\\ds_61_B10-T01.tiff', 'G:\\\\classification\\\\cond_all\\\\sd\\\\RBT09_B08-T01.tiff', 'G:\\\\classification\\\\cond_all\\\\cond7_all\\\\ds_41_E05-T01.tiff', 'G:\\\\classification\\\\cond_all\\\\cond7_all\\\\ds_51_E05-T01.tiff', 'G:\\\\classification\\\\cond_all\\\\cond7_all\\\\ds_61_D07-T01.tiff']\n"
     ]
    },
    {
     "name": "stderr",
     "output_type": "stream",
     "text": [
      " 90%|████████▉ | 35/39 [00:29<00:02,  1.45it/s]"
     ]
    },
    {
     "name": "stdout",
     "output_type": "stream",
     "text": [
      "Batch features shape: torch.Size([16, 20])\n",
      "Batch labels shape: torch.Size([16])\n",
      "Batch labels shape: ['G:\\\\classification\\\\cond_all\\\\cond7_all\\\\ds_41_G11-T01.tiff', 'G:\\\\classification\\\\cond_all\\\\cond7_all\\\\ds_52_B08-T01.tiff', 'G:\\\\classification\\\\cond_all\\\\ex\\\\ds62_g9_C07-T01.tiff', 'G:\\\\classification\\\\cond_all\\\\sd\\\\RBT04_D08-T01.tiff', 'G:\\\\classification\\\\cond_all\\\\cond7_all\\\\ds_62_D09-T01.tiff', 'G:\\\\classification\\\\cond_all\\\\cond7_all\\\\ds_52_F06-T01.tiff', 'G:\\\\classification\\\\cond_all\\\\cond7_all\\\\ds_51_G02-T01.tiff', 'G:\\\\classification\\\\cond_all\\\\cond7_all\\\\ds_51_E07-T01.tiff', 'G:\\\\classification\\\\cond_all\\\\cond7_all\\\\ds_51_E11-T01.tiff', 'G:\\\\classification\\\\cond_all\\\\sd\\\\RBT10_C07-T01.tiff', 'G:\\\\classification\\\\cond_all\\\\sd\\\\RBT09_B10-T01.tiff', 'G:\\\\classification\\\\cond_all\\\\cond7_all\\\\sd_04_E04-T01.tiff', 'G:\\\\classification\\\\cond_all\\\\cond7_all\\\\ds_1B_D02-T01.tiff', 'G:\\\\classification\\\\cond_all\\\\sd\\\\RBT10_G09-T01.tiff', 'G:\\\\classification\\\\cond_all\\\\ex\\\\ds61_g8_B08-T01.tiff', 'G:\\\\classification\\\\cond_all\\\\sd\\\\RBT10_C10-T01.tiff']\n"
     ]
    },
    {
     "name": "stderr",
     "output_type": "stream",
     "text": [
      " 92%|█████████▏| 36/39 [00:30<00:02,  1.44it/s]"
     ]
    },
    {
     "name": "stdout",
     "output_type": "stream",
     "text": [
      "Batch features shape: torch.Size([16, 20])\n",
      "Batch labels shape: torch.Size([16])\n",
      "Batch labels shape: ['G:\\\\classification\\\\cond_all\\\\cond7_all\\\\ds_61_F10-T01.tiff', 'G:\\\\classification\\\\cond_all\\\\ex\\\\ds61_g6_F03-T01.tiff', 'G:\\\\classification\\\\cond_all\\\\cond7_all\\\\sd_04_B11-T01.tiff', 'G:\\\\classification\\\\cond_all\\\\cond7_all\\\\ds_52_C02-T01.tiff', 'G:\\\\classification\\\\cond_all\\\\sd\\\\RBT10_G08-T01.tiff', 'G:\\\\classification\\\\cond_all\\\\cond7_all\\\\ds_1B_D03-T01.tiff', 'G:\\\\classification\\\\cond_all\\\\cond7_all\\\\ds_61_E03-T01.tiff', 'G:\\\\classification\\\\cond_all\\\\cond7_all\\\\ds_61_D10-T01.tiff', 'G:\\\\classification\\\\cond_all\\\\cond7_all\\\\sd_04_G09-T01.tiff', 'G:\\\\classification\\\\cond_all\\\\cond7_all\\\\ds_41_F07-T01.tiff', 'G:\\\\classification\\\\cond_all\\\\cond7_all\\\\ds_42_C03-T01.tiff', 'G:\\\\classification\\\\cond_all\\\\cond7_all\\\\ds_42_D05-T01.tiff', 'G:\\\\classification\\\\cond_all\\\\cond7_all\\\\sd_04_G06-T01.tiff', 'G:\\\\classification\\\\cond_all\\\\cond7_all\\\\ds_41_F03-T01.tiff', 'G:\\\\classification\\\\cond_all\\\\cond7_all\\\\ds_51_C08-T01.tiff', 'G:\\\\classification\\\\cond_all\\\\cond7_all\\\\ds_1B_G10-T01.tiff']\n"
     ]
    },
    {
     "name": "stderr",
     "output_type": "stream",
     "text": [
      " 95%|█████████▍| 37/39 [00:31<00:01,  1.46it/s]"
     ]
    },
    {
     "name": "stdout",
     "output_type": "stream",
     "text": [
      "Batch features shape: torch.Size([16, 20])\n",
      "Batch labels shape: torch.Size([16])\n",
      "Batch labels shape: ['G:\\\\classification\\\\cond_all\\\\sd\\\\RBT10_C11-T01.tiff', 'G:\\\\classification\\\\cond_all\\\\cond7_all\\\\ds_52_E10-T01.tiff', 'G:\\\\classification\\\\cond_all\\\\sd\\\\RBT10_E09-T01.tiff', 'G:\\\\classification\\\\cond_all\\\\cond7_all\\\\ds_62_B05-T01.tiff', 'G:\\\\classification\\\\cond_all\\\\sd\\\\RBT04_D07-T01.tiff', 'G:\\\\classification\\\\cond_all\\\\cond7_all\\\\ds_1B_C04-T01.tiff', 'G:\\\\classification\\\\cond_all\\\\ex\\\\ds61_g3_C06-T01.tiff', 'G:\\\\classification\\\\cond_all\\\\cond7_all\\\\ds_42_F07-T01.tiff', 'G:\\\\classification\\\\cond_all\\\\sd\\\\RBT09_C11-T01.tiff', 'G:\\\\classification\\\\cond_all\\\\cond7_all\\\\ds_62_G06-T01.tiff', 'G:\\\\classification\\\\cond_all\\\\sd\\\\RBT04_B08-T01.tiff', 'G:\\\\classification\\\\cond_all\\\\cond7_all\\\\sd_04_C07-T01.tiff', 'G:\\\\classification\\\\cond_all\\\\cond7_all\\\\ds_51_F08-T01.tiff', 'G:\\\\classification\\\\cond_all\\\\sd\\\\RBT04_G10-T01.tiff', 'G:\\\\classification\\\\cond_all\\\\cond7_all\\\\ds_61_G05-T01.tiff', 'G:\\\\classification\\\\cond_all\\\\sd\\\\RBT04_B10-T01.tiff']\n"
     ]
    },
    {
     "name": "stderr",
     "output_type": "stream",
     "text": [
      " 97%|█████████▋| 38/39 [00:31<00:00,  1.48it/s]"
     ]
    },
    {
     "name": "stdout",
     "output_type": "stream",
     "text": [
      "Batch features shape: torch.Size([16, 20])\n",
      "Batch labels shape: torch.Size([16])\n",
      "Batch labels shape: ['G:\\\\classification\\\\cond_all\\\\cond7_all\\\\ds_52_G02-T01.tiff', 'G:\\\\classification\\\\cond_all\\\\cond7_all\\\\ds_41_D09-T01.tiff', 'G:\\\\classification\\\\cond_all\\\\sd\\\\RBT09_E07-T01.tiff', 'G:\\\\classification\\\\cond_all\\\\sd\\\\RBT14_B10-T01.tiff', 'G:\\\\classification\\\\cond_all\\\\cond7_all\\\\sd_04_B10-T01.tiff', 'G:\\\\classification\\\\cond_all\\\\sd\\\\RBT10_G11-T01.tiff', 'G:\\\\classification\\\\cond_all\\\\cond7_all\\\\ds_52_G10-T01.tiff', 'G:\\\\classification\\\\cond_all\\\\sd\\\\RBT04_E10-T01.tiff', 'G:\\\\classification\\\\cond_all\\\\cond7_all\\\\ds_42_E07-T01.tiff', 'G:\\\\classification\\\\cond_all\\\\cond7_all\\\\ds_62_G10-T01.tiff', 'G:\\\\classification\\\\cond_all\\\\cond7_all\\\\ds_62_D05-T01.tiff', 'G:\\\\classification\\\\cond_all\\\\cond7_all\\\\sd_04_D09-T01.tiff', 'G:\\\\classification\\\\cond_all\\\\cond7_all\\\\ds_41_F09-T01.tiff', 'G:\\\\classification\\\\cond_all\\\\cond7_all\\\\ds_52_D03-T01.tiff', 'G:\\\\classification\\\\cond_all\\\\cond7_all\\\\ds_52_F10-T01.tiff', 'G:\\\\classification\\\\cond_all\\\\cond7_all\\\\ds_51_F09-T01.tiff']\n"
     ]
    },
    {
     "name": "stderr",
     "output_type": "stream",
     "text": [
      "100%|██████████| 39/39 [00:32<00:00,  1.21it/s]"
     ]
    },
    {
     "name": "stdout",
     "output_type": "stream",
     "text": [
      "Batch features shape: torch.Size([7, 20])\n",
      "Batch labels shape: torch.Size([7])\n",
      "Batch labels shape: ['G:\\\\classification\\\\cond_all\\\\sd\\\\RBT10_D08-T01.tiff', 'G:\\\\classification\\\\cond_all\\\\cond7_all\\\\sd_04_B08-T01.tiff', 'G:\\\\classification\\\\cond_all\\\\cond7_all\\\\ds_52_D06-T01.tiff', 'G:\\\\classification\\\\cond_all\\\\cond7_all\\\\ds_41_B11-T01.tiff', 'G:\\\\classification\\\\cond_all\\\\sd\\\\RBT14_C11-T01.tiff', 'G:\\\\classification\\\\cond_all\\\\sd\\\\RBT09_D08-T01.tiff', 'G:\\\\classification\\\\cond_all\\\\cond7_all\\\\ds_52_E03-T01.tiff']\n",
      "Features shape after concatenation: torch.Size([615, 20])\n",
      "Labels shape after concatenation: torch.Size([615])\n",
      "Number of paths after concatenation: 615\n"
     ]
    },
    {
     "name": "stderr",
     "output_type": "stream",
     "text": [
      "\n"
     ]
    }
   ],
   "source": [
    "# Extract features for train and test datasets\n",
    "feats, labels, paths = prepare_data_features(simclr_model, loader_labeled)"
   ]
  },
  {
   "cell_type": "markdown",
   "metadata": {},
   "source": [
    "import umap\n",
    "import matplotlib.pyplot as plt\n",
    "import numpy as np\n",
    "\n",
    "# Assuming feats is a tensor of shape (N, feature_size), where N is the number of samples and feature_size is the dimensionality of the features\n",
    "# You can reduce the dimensionality of feats with UMAP\n",
    "\n",
    "# Convert feats to numpy array\n",
    "feats_np = feats.detach().cpu().numpy()\n",
    "\n",
    "# 2D UMAP projection\n",
    "umap_2d = umap.UMAP(n_components=2, random_state=42)\n",
    "feats_2d = umap_2d.fit_transform(feats_np)\n",
    "\n",
    "# 1D UMAP projection\n",
    "umap_1d = umap.UMAP(n_components=1, random_state=42)\n",
    "feats_1d = umap_1d.fit_transform(feats_np)\n",
    "\n",
    "# Plot 2D UMAP\n",
    "plt.figure(figsize=(10, 6))\n",
    "plt.scatter(feats_2d[:, 0], feats_2d[:, 1], c=labels, cmap='viridis', edgecolors='k', s=50)\n",
    "plt.colorbar(label='Class Label')\n",
    "plt.title('2D UMAP projection of features')\n",
    "plt.xlabel('UMAP 1')\n",
    "plt.ylabel('UMAP 2')\n",
    "plt.show()\n",
    "\n",
    "# Plot 1D UMAP\n",
    "plt.figure(figsize=(10, 6))\n",
    "plt.scatter(feats_1d, np.zeros_like(feats_1d), c=labels, cmap='viridis', edgecolors='k', s=50)\n",
    "plt.colorbar(label='Class Label')\n",
    "plt.title('1D UMAP projection of features')\n",
    "plt.xlabel('UMAP 1D')\n",
    "plt.yticks([])  # Hide the y-axis ticks since it's all zeros\n",
    "plt.show()\n"
   ]
  },
  {
   "cell_type": "markdown",
   "metadata": {},
   "source": [
    "import numpy as np\n",
    "import matplotlib.pyplot as plt\n",
    "import umap\n",
    "\n",
    "# Assuming feats_np and labels are already defined from your UMAP pipeline\n",
    "# For example:\n",
    "# feats_np = ...   # Your features in NumPy format\n",
    "# labels = ...     # Corresponding class labels (e.g., 0, 1, 2)\n",
    "\n",
    "# 1D UMAP projection\n",
    "umap_1d = umap.UMAP(n_components=1, random_state=42)\n",
    "feats_1d = umap_1d.fit_transform(feats_np)  # feats_1d shape: (N, 1)\n",
    "\n",
    "# Plot 1D UMAP with y-axis set to the class labels\n",
    "plt.figure(figsize=(10, 6))\n",
    "plt.scatter(feats_1d[:, 0], labels, c=labels, cmap='viridis', edgecolors='k', s=50)\n",
    "plt.colorbar(label='Class Label')\n",
    "plt.title('1D UMAP Projection with Class Separation')\n",
    "plt.xlabel('UMAP 1D')\n",
    "plt.ylabel('Class Label')\n",
    "plt.yticks(np.unique(labels))  # Ensure y-axis ticks match the unique class labels\n",
    "plt.show()\n",
    "\n",
    "# -----------------------------------------------\n",
    "# Step 1: Compute mean, min, and max UMAP values for each class\n",
    "# -----------------------------------------------\n",
    "unique_classes = np.unique(labels)\n",
    "class_means = {}\n",
    "class_min_max = {}\n",
    "\n",
    "for cls in unique_classes:\n",
    "    # Extract UMAP values for the current class\n",
    "    cls_indices = np.where(labels == cls)[0]\n",
    "    cls_umap_values = feats_1d[cls_indices, 0]\n",
    "    # Compute mean, min, and max for the class\n",
    "    class_means[cls] = np.mean(cls_umap_values)\n",
    "    class_min_max[cls] = {\n",
    "        'min': np.min(cls_umap_values),\n",
    "        'max': np.max(cls_umap_values)\n",
    "    }\n",
    "\n",
    "# Print the mean UMAP value for each class\n",
    "print(\"Mean UMAP value for each class:\")\n",
    "for cls in unique_classes:\n",
    "    print(f\"Class {cls}: {class_means[cls]:.4f}\")\n",
    "\n",
    "# -----------------------------------------------\n",
    "# Print min and max UMAP values for all classes\n",
    "# -----------------------------------------------\n",
    "print(\"\\nMin and Max UMAP values for each class:\")\n",
    "for cls in unique_classes:\n",
    "    print(f\"Class {cls}: min = {class_min_max[cls]['min']:.4f}, max = {class_min_max[cls]['max']:.4f}\")\n",
    "\n",
    "# -----------------------------------------------\n",
    "# Step 2: Determine the middle class (median mean)\n",
    "# -----------------------------------------------\n",
    "# Sort classes by their mean UMAP value\n",
    "sorted_classes = sorted(class_means.keys(), key=lambda x: class_means[x])\n",
    "# For three classes, the one at index 1 is the middle class\n",
    "middle_class = sorted_classes[1]\n",
    "print(f\"\\nMiddle Class (by mean UMAP value): {middle_class}\")\n",
    "\n",
    "middle_min = class_min_max[middle_class]['min']\n",
    "middle_max = class_min_max[middle_class]['max']\n",
    "print(f\"Middle class UMAP range: {middle_min:.4f} to {middle_max:.4f}\")\n",
    "\n",
    "# -----------------------------------------------\n",
    "# Step 3: Count misclassified points from the first class\n",
    "# (Points from first class that exceed the minimum of the middle class)\n",
    "# -----------------------------------------------\n",
    "first_class = sorted_classes[0]\n",
    "first_cls_indices = np.where(labels == first_class)[0]\n",
    "first_cls_umap = feats_1d[first_cls_indices, 0]\n",
    "# Count how many first class points are greater than middle_min\n",
    "count_first_exceed = np.sum(first_cls_umap > middle_min)\n",
    "print(f\"\\nNumber of data points from first class (class {first_class}) that passed the minimum UMAP value of the middle class: {count_first_exceed}\")\n",
    "\n",
    "# -----------------------------------------------\n",
    "# Step 4: Count misclassified points from the third class\n",
    "# (Points from third class that are below the maximum of the middle class)\n",
    "# -----------------------------------------------\n",
    "third_class = sorted_classes[2]\n",
    "third_cls_indices = np.where(labels == third_class)[0]\n",
    "third_cls_umap = feats_1d[third_cls_indices, 0]\n",
    "# Count how many third class points are less than middle_max\n",
    "count_third_before = np.sum(third_cls_umap < middle_max)\n",
    "print(f\"Number of data points from third class (class {third_class}) that lie before the maximum UMAP value of the middle class: {count_third_before}\")\n",
    "\n",
    "# -----------------------------------------------\n",
    "# Step 5: Compute Accuracy\n",
    "# Accuracy = (total datapoints - misclassified points from first and third classes) / total datapoints\n",
    "# -----------------------------------------------\n",
    "total_misclassified = count_first_exceed + count_third_before\n",
    "total_datapoints = feats_1d.shape[0]\n",
    "accuracy = (total_datapoints - total_misclassified) / total_datapoints\n",
    "print(f\"\\nAccuracy: {accuracy:.4f}\")\n"
   ]
  },
  {
   "cell_type": "markdown",
   "metadata": {},
   "source": [
    "tsne"
   ]
  },
  {
   "cell_type": "markdown",
   "metadata": {},
   "source": [
    "import matplotlib.pyplot as plt\n",
    "import numpy as np\n",
    "from sklearn.manifold import TSNE\n",
    "import seaborn as sns\n",
    "\n",
    "# Perform t-SNE\n",
    "perplexity = 30  # You can tune this parameter\n",
    "n_iter = 1000  # Number of iterations for optimization\n",
    "\n",
    "# Convert features to NumPy array if they are in tensor form\n",
    "feats_np = feats.numpy() if isinstance(feats, torch.Tensor) else feats\n",
    "labels_np = labels.numpy() if isinstance(labels, torch.Tensor) else labels\n",
    "\n",
    "# Apply t-SNE\n",
    "print(\"Running t-SNE...\")\n",
    "tsne = TSNE(n_components=2, perplexity=perplexity, n_iter=n_iter, random_state=42)\n",
    "feats_2d = tsne.fit_transform(feats_np)\n",
    "\n",
    "# Create a scatter plot\n",
    "plt.figure(figsize=(10, 8))\n",
    "sns.scatterplot(x=feats_2d[:, 0], y=feats_2d[:, 1], hue=labels_np, palette=\"deep\", alpha=0.7, edgecolors='k')\n",
    "plt.title(\"2D t-SNE Visualization of Features\")\n",
    "plt.xlabel(\"t-SNE Component 1\")\n",
    "plt.ylabel(\"t-SNE Component 2\")\n",
    "plt.legend(title=\"Class\", loc='best')\n",
    "plt.grid(True)\n",
    "plt.show()\n"
   ]
  },
  {
   "cell_type": "markdown",
   "metadata": {},
   "source": [
    "import matplotlib.pyplot as plt\n",
    "import numpy as np\n",
    "from sklearn.manifold import TSNE\n",
    "import seaborn as sns\n",
    "\n",
    "# Perform t-SNE\n",
    "perplexity = 30  # You can tune this parameter\n",
    "n_iter = 1000  # Number of iterations for optimization\n",
    "\n",
    "# Convert features to NumPy array if they are in tensor form\n",
    "feats_np = feats.numpy() if isinstance(feats, torch.Tensor) else feats\n",
    "labels_np = labels.numpy() if isinstance(labels, torch.Tensor) else labels\n",
    "\n",
    "# Apply t-SNE\n",
    "print(\"Running t-SNE...\")\n",
    "tsne = TSNE(n_components=2, perplexity=perplexity, n_iter=n_iter, random_state=42)\n",
    "feats_2d = tsne.fit_transform(feats_np)\n",
    "\n",
    "# Define colors for the different classes\n",
    "num_classes = len(np.unique(labels_np))\n",
    "colors = plt.cm.rainbow(np.linspace(0, 1, num_classes))\n",
    "\n",
    "# Create a scatter plot\n",
    "plt.figure(figsize=(10, 8))\n",
    "for i, color in zip(np.unique(labels_np), colors):\n",
    "    plt.scatter(feats_2d[labels_np == i, 0], feats_2d[labels_np == i, 1], label=f'Class {i}', color=color, alpha=0.7, edgecolors='k')\n",
    "\n",
    "plt.title(\"2D t-SNE Visualization of Features\")\n",
    "plt.xlabel(\"t-SNE Component 1\")\n",
    "plt.ylabel(\"t-SNE Component 2\")\n",
    "plt.legend(title=\"Class\", loc='best')\n",
    "plt.grid(True)\n",
    "plt.show()\n"
   ]
  },
  {
   "cell_type": "markdown",
   "metadata": {},
   "source": [
    "import matplotlib.pyplot as plt\n",
    "import numpy as np\n",
    "from sklearn.manifold import TSNE\n",
    "\n",
    "# Perform t-SNE\n",
    "perplexity = 30  # Tune as needed\n",
    "n_iter = 1000  # Number of optimization iterations\n",
    "\n",
    "# Convert features to NumPy array if they are in tensor form\n",
    "feats_np = feats.numpy() if isinstance(feats, torch.Tensor) else feats\n",
    "labels_np = labels.numpy() if isinstance(labels, torch.Tensor) else labels\n",
    "\n",
    "# Apply 1D t-SNE\n",
    "print(\"Running 1D t-SNE...\")\n",
    "tsne = TSNE(n_components=1, perplexity=perplexity, n_iter=n_iter, random_state=42)\n",
    "feats_1d = tsne.fit_transform(feats_np).flatten()  # Flatten to 1D array\n",
    "\n",
    "# Sort paths and scores in ascending order of t-SNE scores\n",
    "sorted_indices = np.argsort(feats_1d)  # Get indices that would sort the scores\n",
    "sorted_paths = np.array(paths)[sorted_indices]\n",
    "sorted_scores = feats_1d[sorted_indices]\n",
    "\n",
    "# Print sorted paths with corresponding t-SNE scores\n",
    "print(\"\\nPaths and t-SNE Scores (Ascending Order):\")\n",
    "for path, score in zip(sorted_paths, sorted_scores):\n",
    "    print(f\"{path}: {score:.4f}\")\n",
    "\n",
    "# Define colors for the different classes\n",
    "num_classes = len(np.unique(labels_np))\n",
    "colors = plt.cm.rainbow(np.linspace(0, 1, num_classes))\n",
    "\n",
    "# Create a scatter plot in 1D\n",
    "plt.figure(figsize=(12, 4))\n",
    "for i, color in zip(np.unique(labels_np), colors):\n",
    "    plt.scatter(sorted_scores[labels_np[sorted_indices] == i], \n",
    "                np.zeros_like(sorted_scores[labels_np[sorted_indices] == i]), \n",
    "                label=f'Class {i}', color=color, alpha=0.7, edgecolors='k')\n",
    "\n",
    "plt.title(\"1D t-SNE Visualization of Features (Sorted)\")\n",
    "plt.xlabel(\"t-SNE Component 1\")\n",
    "plt.yticks([])  # Remove y-axis ticks for clarity\n",
    "plt.legend(title=\"Class\", loc='best')\n",
    "plt.grid(axis='x')\n",
    "plt.show()\n"
   ]
  },
  {
   "cell_type": "markdown",
   "metadata": {},
   "source": [
    "# Define y-positions for each class\n",
    "unique_classes = np.unique(labels_np)\n",
    "class_y_positions = {cls: i for i, cls in enumerate(unique_classes)}\n",
    "\n",
    "# Create a scatter plot in 1D with y-positions for each class\n",
    "plt.figure(figsize=(12, 6))\n",
    "for cls, color in zip(unique_classes, colors):\n",
    "    class_indices = labels_np[sorted_indices] == cls\n",
    "    plt.scatter(\n",
    "        sorted_scores[class_indices],\n",
    "        np.full_like(sorted_scores[class_indices], class_y_positions[cls]),  # Assign y-position based on class\n",
    "        label=f'Class {cls}',\n",
    "        color=color,\n",
    "        alpha=0.7,\n",
    "        edgecolors='k'\n",
    "    )\n",
    "\n",
    "plt.title(\"1D t-SNE Visualization of Features with Class Separation\")\n",
    "plt.xlabel(\"t-SNE Component 1\")\n",
    "plt.ylabel(\"Class\")\n",
    "plt.yticks(range(len(unique_classes)), [f\"Class {cls}\" for cls in unique_classes])  # Set y-ticks for classes\n",
    "plt.legend(title=\"Class\", loc='best')\n",
    "plt.grid(axis='x')\n",
    "plt.show()\n"
   ]
  },
  {
   "cell_type": "markdown",
   "metadata": {},
   "source": [
    "# Step 1: Find the mean value of t-SNE 1D for each class\n",
    "means_tsne = {cls: sorted_scores[labels_np[sorted_indices] == cls].mean() for cls in unique_classes}\n",
    "print(\"\\nMean t-SNE 1D values for each class:\")\n",
    "for cls, mean_value in means_tsne.items():\n",
    "    print(f\"Class {cls}: {mean_value:.4f}\")\n",
    "\n",
    "# Step 2: Find the middle class (class with median mean value of t-SNE 1D)\n",
    "sorted_means = sorted(means_tsne.items(), key=lambda x: x[1])\n",
    "middle_class = sorted_means[1][0]  # Middle class in sorted order\n",
    "print(f\"\\nMiddle class based on mean t-SNE 1D value: Class {middle_class}\")\n",
    "\n",
    "# Step 3: Find the min and max value of t-SNE 1D for each class\n",
    "min_max_tsne = {\n",
    "    cls: (sorted_scores[labels_np[sorted_indices] == cls].min(), \n",
    "          sorted_scores[labels_np[sorted_indices] == cls].max())\n",
    "    for cls in unique_classes\n",
    "}\n",
    "print(\"\\nMin and Max t-SNE 1D values for each class:\")\n",
    "for cls, (min_value, max_value) in min_max_tsne.items():\n",
    "    print(f\"Class {cls}: Min={min_value:.4f}, Max={max_value:.4f}\")\n",
    "\n",
    "# Step 4: Number of data points from first class (least mean value) passing min value of middle class\n",
    "first_class = sorted_means[0][0]  # Class with least mean value\n",
    "min_middle_class = min_max_tsne[middle_class][0]\n",
    "first_class_passed = np.sum(sorted_scores[labels_np[sorted_indices] == first_class] > min_middle_class)\n",
    "print(f\"\\nNumber of data points from Class {first_class} passing min value of middle class: {first_class_passed}\")\n",
    "\n",
    "# Step 5: Number of data points from third class (highest mean value) before max value of middle class\n",
    "third_class = sorted_means[2][0]  # Class with highest mean value\n",
    "max_middle_class = min_max_tsne[middle_class][1]\n",
    "third_class_before = np.sum(sorted_scores[labels_np[sorted_indices] == third_class] < max_middle_class)\n",
    "print(f\"Number of data points from Class {third_class} before max value of middle class: {third_class_before}\")\n",
    "\n",
    "# Step 6: Calculate accuracy\n",
    "total_points = len(labels_np)\n",
    "incorrect_points = first_class_passed + third_class_before\n",
    "accuracy = (total_points - incorrect_points) / total_points\n",
    "print(f\"\\nAccuracy: {accuracy:.4f}\")\n"
   ]
  },
  {
   "cell_type": "markdown",
   "metadata": {},
   "source": [
    "s"
   ]
  },
  {
   "cell_type": "markdown",
   "metadata": {},
   "source": [
    "import os\n",
    "import shutil\n",
    "\n",
    "# Specify the folder where the images will be saved\n",
    "output_folder = r'G:\\classification\\inference'\n",
    "\n",
    "# Ensure the output folder exists\n",
    "if not os.path.exists(output_folder):\n",
    "    os.makedirs(output_folder)\n",
    "\n",
    "# Save images with ascending order in the filename\n",
    "for idx, (path, score) in enumerate(zip(sorted_paths, sorted_scores), start=1):\n",
    "    # Extract the image name and add the ascending index in front\n",
    "    image_name = os.path.basename(path)  # Get the image name\n",
    "    new_image_name = f\"{idx:03d}_{image_name}\"  # Add ascending index in front (e.g., 001, 002, 003)\n",
    "    \n",
    "    # Construct the full path to the output file\n",
    "    output_path = os.path.join(output_folder, new_image_name)\n",
    "    \n",
    "    # Copy the image to the output folder with the new name\n",
    "    shutil.copy(path, output_path)\n",
    "\n",
    "    print(f\"Saved {path} as {output_path}\")\n"
   ]
  },
  {
   "cell_type": "markdown",
   "metadata": {},
   "source": [
    "import torch\n",
    "import numpy as np\n",
    "import matplotlib.pyplot as plt\n",
    "from sklearn.decomposition import PCA\n",
    "from sklearn.preprocessing import StandardScaler\n",
    "\n",
    "# Convert PyTorch tensors to NumPy arrays\n",
    "feats_np = feats.numpy()\n",
    "labels_np = labels.numpy()\n",
    "\n",
    "# Standardize features before PCA\n",
    "scaler = StandardScaler()\n",
    "feats_scaled = scaler.fit_transform(feats_np)\n",
    "\n",
    "# Apply PCA\n",
    "pca = PCA(n_components=2)\n",
    "feats_pca = pca.fit_transform(feats_scaled)\n",
    "\n",
    "# Plot PCA results\n",
    "plt.figure(figsize=(8, 6))\n",
    "scatter = plt.scatter(feats_pca[:, 0], feats_pca[:, 1], c=labels_np, cmap='viridis', alpha=0.7)\n",
    "plt.colorbar(scatter, label='Class Labels')\n",
    "plt.xlabel('PCA Component 1')\n",
    "plt.ylabel('PCA Component 2')\n",
    "plt.title('PCA Visualization of SimCLR Features')\n",
    "plt.show()\n"
   ]
  },
  {
   "cell_type": "markdown",
   "metadata": {},
   "source": [
    "pca"
   ]
  },
  {
   "cell_type": "code",
   "execution_count": 12,
   "metadata": {},
   "outputs": [
    {
     "data": {
      "image/png": "[encoded data removed]",
      "text/plain": [
       "<Figure size 800x600 with 2 Axes>"
      ]
     },
     "metadata": {},
     "output_type": "display_data"
    }
   ],
   "source": [
    "import torch\n",
    "import numpy as np\n",
    "import matplotlib.pyplot as plt\n",
    "from sklearn.decomposition import PCA\n",
    "from sklearn.preprocessing import StandardScaler\n",
    "\n",
    "# Convert PyTorch tensors to NumPy arrays\n",
    "feats_np = feats.numpy()\n",
    "labels_np = labels.numpy()\n",
    "\n",
    "# Standardize features before PCA\n",
    "scaler = StandardScaler()\n",
    "feats_scaled = scaler.fit_transform(feats_np)\n",
    "\n",
    "# Apply PCA\n",
    "pca = PCA(n_components=2)\n",
    "feats_pca = pca.fit_transform(feats_scaled)\n",
    "\n",
    "# Plot PCA results\n",
    "plt.figure(figsize=(8, 6))\n",
    "scatter = plt.scatter(feats_pca[:, 0], feats_pca[:, 1], c=labels_np, cmap='viridis', alpha=0.7)\n",
    "plt.colorbar(scatter, label='Class Labels')\n",
    "plt.xlabel('PCA Component 1')\n",
    "plt.ylabel('PCA Component 2')\n",
    "plt.title('PCA Visualization of SimCLR Features')\n",
    "\n",
    "# Create legend\n",
    "unique_labels = np.unique(labels_np)\n",
    "colors = [scatter.cmap(scatter.norm(label)) for label in unique_labels]\n",
    "legend_labels = [f'Class {label}' for label in unique_labels]\n",
    "plt.legend(handles=[plt.Line2D([0], [0], marker='o', color='w', markerfacecolor=color, markersize=10) for color in colors], labels=legend_labels, title='Classes')\n",
    "\n",
    "plt.show()"
   ]
  },
  {
   "cell_type": "markdown",
   "metadata": {},
   "source": [
    "import torch\n",
    "import numpy as np\n",
    "import matplotlib.pyplot as plt\n",
    "from sklearn.decomposition import PCA\n",
    "from sklearn.preprocessing import StandardScaler\n",
    "\n",
    "# Convert PyTorch tensors to NumPy arrays and prepare data\n",
    "feats_np = feats.numpy()\n",
    "scaler = StandardScaler()\n",
    "feats_scaled = scaler.fit_transform(feats_np)\n",
    "\n",
    "# Apply PCA\n",
    "pca = PCA()\n",
    "pca.fit(feats_scaled)\n",
    "\n",
    "# Get first 10 components of explained variance ratio\n",
    "explained_var_ratio = pca.explained_variance_ratio_[:10]\n",
    "\n",
    "# Create the bar plot\n",
    "plt.figure(figsize=(10, 6))\n",
    "bars = plt.bar(range(1, 11), explained_var_ratio, alpha=0.8, color='blue')\n",
    "plt.xlabel('Principal Component')\n",
    "plt.ylabel('Explained Variance Ratio')\n",
    "plt.title('Scree Plot (First 10 Principal Components)')\n",
    "plt.grid(True, alpha=0.3)\n",
    "\n",
    "# Add percentage labels on top of each bar\n",
    "for i, v in enumerate(explained_var_ratio):\n",
    "    plt.text(i + 1, v, f'{v*100:.1f}%', ha='center', va='bottom')\n",
    "\n",
    "# Print cumulative explained variance\n",
    "cumulative_var = np.cumsum(explained_var_ratio)\n",
    "print(\"\\nCumulative Explained Variance:\")\n",
    "for i, cum_var in enumerate(cumulative_var, 1):\n",
    "    print(f\"PC1 to PC{i}: {cum_var*100:.1f}%\")\n",
    "\n",
    "plt.tight_layout()\n",
    "plt.show()"
   ]
  },
  {
   "cell_type": "markdown",
   "metadata": {},
   "source": [
    "import torch\n",
    "import numpy as np\n",
    "import matplotlib.pyplot as plt\n",
    "from sklearn.decomposition import PCA\n",
    "from sklearn.preprocessing import StandardScaler\n",
    "\n",
    "# Convert PyTorch tensors to NumPy arrays\n",
    "feats_np = feats.numpy()\n",
    "labels_np = labels.numpy()\n",
    "\n",
    "# Standardize features before PCA\n",
    "scaler = StandardScaler()\n",
    "feats_scaled = scaler.fit_transform(feats_np)\n",
    "\n",
    "# Apply PCA with 1 component\n",
    "pca = PCA(n_components=1)\n",
    "feats_pca = pca.fit_transform(feats_scaled)\n",
    "\n",
    "# Plot PCA results\n",
    "plt.figure(figsize=(8, 6))\n",
    "# Since we have 1D data, we'll use the PCA component for x-axis and create artificial y-coordinates\n",
    "scatter = plt.scatter(feats_pca, np.zeros_like(feats_pca), c=labels_np, cmap='viridis', alpha=0.7)\n",
    "plt.colorbar(scatter, label='Class Labels')\n",
    "plt.xlabel('PCA Component 1')\n",
    "plt.ylabel('')  # No y-axis label needed\n",
    "plt.title('1D PCA Visualization of SimCLR Features')\n",
    "\n",
    "# Create legend\n",
    "unique_labels = np.unique(labels_np)\n",
    "colors = [scatter.cmap(scatter.norm(label)) for label in unique_labels]\n",
    "legend_labels = [f'Class {label}' for label in unique_labels]\n",
    "plt.legend(handles=[plt.Line2D([0], [0], marker='o', color='w', markerfacecolor=color, markersize=10) for color in colors], labels=legend_labels, title='Classes')\n",
    "\n",
    "# Remove y-axis ticks since they're not meaningful\n",
    "plt.yticks([])\n",
    "\n",
    "plt.show()"
   ]
  },
  {
   "cell_type": "markdown",
   "metadata": {},
   "source": [
    "import torch\n",
    "import numpy as np\n",
    "import matplotlib.pyplot as plt\n",
    "from sklearn.decomposition import PCA\n",
    "from sklearn.preprocessing import StandardScaler\n",
    "\n",
    "# Convert PyTorch tensors to NumPy arrays\n",
    "feats_np = feats.numpy()\n",
    "labels_np = labels.numpy()\n",
    "\n",
    "# Standardize features before PCA\n",
    "scaler = StandardScaler()\n",
    "feats_scaled = scaler.fit_transform(feats_np)\n",
    "\n",
    "# Apply PCA with 1 component\n",
    "pca = PCA(n_components=1)\n",
    "feats_pca = pca.fit_transform(feats_scaled)\n",
    "\n",
    "# Get unique class labels and assign y-values accordingly\n",
    "unique_labels = np.unique(labels_np)\n",
    "class_y_positions = {label: i for i, label in enumerate(unique_labels)}\n",
    "\n",
    "# Map labels to their respective y positions\n",
    "y_positions = np.array([class_y_positions[label] for label in labels_np])\n",
    "\n",
    "# Plot PCA results\n",
    "plt.figure(figsize=(10, 6))\n",
    "scatter = plt.scatter(feats_pca, y_positions, c=labels_np, cmap='viridis', alpha=0.7)\n",
    "\n",
    "# Add colorbar and labels\n",
    "plt.colorbar(scatter, label='Class Labels')\n",
    "plt.xlabel('PCA Component 1')\n",
    "plt.ylabel('Class')\n",
    "plt.title('1D PCA Visualization of SimCLR Features')\n",
    "\n",
    "# Set y-ticks to represent class labels\n",
    "plt.yticks(range(len(unique_labels)), [f'Class {label}' for label in unique_labels])\n",
    "\n",
    "plt.show()\n"
   ]
  },
  {
   "cell_type": "markdown",
   "metadata": {},
   "source": [
    "# Step 1: Find the mean value of PCA 1D for each class\n",
    "unique_classes = np.unique(labels_np)\n",
    "class_means = {}\n",
    "\n",
    "for cls in unique_classes:\n",
    "    class_pca_values = feats_pca[labels_np == cls]\n",
    "    class_mean = np.mean(class_pca_values)\n",
    "    class_means[cls] = class_mean\n",
    "\n",
    "print(\"Mean PCA 1D Value for Each Class:\")\n",
    "for cls, mean_val in class_means.items():\n",
    "    print(f\"Class {cls}: {mean_val:.4f}\")\n",
    "\n",
    "# Step 2: Find which class is middle based on mean value (median)\n",
    "sorted_classes = sorted(class_means.items(), key=lambda x: x[1])\n",
    "first_class = sorted_classes[0][0]  # Class with the least mean\n",
    "middle_class = sorted_classes[1][0]  # Middle class\n",
    "third_class = sorted_classes[2][0]  # Class with the maximum mean\n",
    "print(f\"\\nMiddle Class (based on median mean value): Class {middle_class}\")\n",
    "\n",
    "# Step 3: Find min and max value of PCA 1D for each class\n",
    "class_min_max = {}\n",
    "\n",
    "for cls in unique_classes:\n",
    "    class_pca_values = feats_pca[labels_np == cls]\n",
    "    class_min = np.min(class_pca_values)\n",
    "    class_max = np.max(class_pca_values)\n",
    "    class_min_max[cls] = (class_min, class_max)\n",
    "\n",
    "print(\"\\nMin and Max PCA 1D Values for Each Class:\")\n",
    "for cls, (min_val, max_val) in class_min_max.items():\n",
    "    print(f\"Class {cls}: Min = {min_val:.4f}, Max = {max_val:.4f}\")\n",
    "\n",
    "# Step 4: Number of data points from first class that passed the minimum value of PCA 1D of the middle class\n",
    "middle_class_min = class_min_max[middle_class][0]\n",
    "first_class_values = feats_pca[labels_np == first_class]\n",
    "first_class_pass_count = np.sum(first_class_values > middle_class_min)\n",
    "print(f\"\\nNumber of data points from Class {first_class} that passed the minimum value of Middle Class: {first_class_pass_count}\")\n",
    "\n",
    "# Step 5: Number of data points from third class that lies before the maximum value of PCA 1D of the middle class\n",
    "middle_class_max = class_min_max[middle_class][1]\n",
    "third_class_values = feats_pca[labels_np == third_class]\n",
    "third_class_before_count = np.sum(third_class_values < middle_class_max)\n",
    "print(f\"Number of data points from Class {third_class} that lies before the maximum value of Middle Class: {third_class_before_count}\")\n",
    "\n",
    "# Step 6: Calculate accuracy\n",
    "total_other_class_points_in_middle_range = first_class_pass_count + third_class_before_count\n",
    "total_datapoints = len(feats_pca)\n",
    "accuracy = (total_datapoints - total_other_class_points_in_middle_range) / total_datapoints\n",
    "print(f\"\\nAccuracy: {accuracy:.4f}\")\n"
   ]
  },
  {
   "cell_type": "code",
   "execution_count": 13,
   "metadata": {},
   "outputs": [
    {
     "ename": "NameError",
     "evalue": "name 's' is not defined",
     "output_type": "error",
     "traceback": [
      "\u001b[1;31m---------------------------------------------------------------------------\u001b[0m",
      "\u001b[1;31mNameError\u001b[0m                                 Traceback (most recent call last)",
      "Cell \u001b[1;32mIn[13], line 1\u001b[0m\n\u001b[1;32m----> 1\u001b[0m \u001b[43ms\u001b[49m\n",
      "\u001b[1;31mNameError\u001b[0m: name 's' is not defined"
     ]
    }
   ],
   "source": [
    "s"
   ]
  },
  {
   "cell_type": "markdown",
   "metadata": {},
   "source": [
    "import torch\n",
    "import numpy as np\n",
    "import matplotlib.pyplot as plt\n",
    "from sklearn.decomposition import PCA\n",
    "from sklearn.preprocessing import StandardScaler, normalize\n",
    "\n",
    "# Convert PyTorch tensors to NumPy arrays\n",
    "feats_np = feats.numpy()\n",
    "labels_np = labels.numpy()\n",
    "\n",
    "# Normalize features\n",
    "feats_np_norm = normalize(feats_np, axis=1)\n",
    "\n",
    "# Standardize features before PCA\n",
    "scaler = StandardScaler()\n",
    "feats_scaled = scaler.fit_transform(feats_np_norm)\n",
    "\n",
    "# Apply PCA\n",
    "pca = PCA(n_components=2)\n",
    "feats_pca = pca.fit_transform(feats_scaled)\n",
    "\n",
    "# Plot PCA results\n",
    "plt.figure(figsize=(8, 6))\n",
    "scatter = plt.scatter(feats_pca[:, 0], feats_pca[:, 1], c=labels_np, cmap='viridis', alpha=0.7)\n",
    "plt.colorbar(scatter, label='Class Labels')\n",
    "plt.xlabel('PCA Component 1')\n",
    "plt.ylabel('PCA Component 2')\n",
    "plt.title('PCA Visualization of SimCLR Features')\n",
    "\n",
    "# Create legend\n",
    "unique_labels = np.unique(labels_np)\n",
    "colors = [scatter.cmap(scatter.norm(label)) for label in unique_labels]\n",
    "legend_labels = [f'Class {label}' for label in unique_labels]\n",
    "plt.legend(handles=[plt.Line2D([0], [0], marker='o', color='w', markerfacecolor=color, markersize=10) for color in colors], labels=legend_labels, title='Classes')\n",
    "\n",
    "plt.show()\n"
   ]
  },
  {
   "cell_type": "code",
   "execution_count": 36,
   "metadata": {},
   "outputs": [
    {
     "data": {
      "text/plain": [
       "torch.Tensor"
      ]
     },
     "execution_count": 36,
     "metadata": {},
     "output_type": "execute_result"
    }
   ],
   "source": [
    "type(feats)"
   ]
  },
  {
   "cell_type": "markdown",
   "metadata": {},
   "source": [
    "# Extract features for train and test datasets\n",
    "feats_simclr = prepare_data_features(simclr_model, loader_labeled)"
   ]
  },
  {
   "cell_type": "code",
   "execution_count": 37,
   "metadata": {},
   "outputs": [
    {
     "name": "stdout",
     "output_type": "stream",
     "text": [
      "Shape of features (for K-Means): (637, 512)\n",
      "Shape of labels: (637,)\n"
     ]
    }
   ],
   "source": [
    "\"\"\"# Convert features and labels to NumPy arrays\n",
    "feats_np = feats_simclr.tensors[0].numpy()  # Features in shape (60, 512)\n",
    "\n",
    "labels_np = feats_simclr.tensors[1].numpy()  # Corresponding labels\"\"\"\n",
    "\n",
    "feats_np = feats.numpy()\n",
    "labels_np = labels.numpy()\n",
    "\n",
    "# Check the shapes\n",
    "print(\"Shape of features (for K-Means):\", feats_np.shape)\n",
    "print(\"Shape of labels:\", labels_np.shape)"
   ]
  },
  {
   "cell_type": "code",
   "execution_count": 38,
   "metadata": {},
   "outputs": [],
   "source": [
    "from sklearn.preprocessing import normalize"
   ]
  },
  {
   "cell_type": "code",
   "execution_count": 39,
   "metadata": {},
   "outputs": [],
   "source": [
    "import matplotlib.pyplot as plt\n",
    "from sklearn.decomposition import PCA"
   ]
  },
  {
   "cell_type": "code",
   "execution_count": 40,
   "metadata": {},
   "outputs": [
    {
     "ename": "NameError",
     "evalue": "name 'feats_np_norm' is not defined",
     "output_type": "error",
     "traceback": [
      "\u001b[1;31m---------------------------------------------------------------------------\u001b[0m",
      "\u001b[1;31mNameError\u001b[0m                                 Traceback (most recent call last)",
      "Cell \u001b[1;32mIn[40], line 48\u001b[0m\n\u001b[0;32m     45\u001b[0m     plt\u001b[38;5;241m.\u001b[39mshow()\n\u001b[0;32m     47\u001b[0m \u001b[38;5;66;03m# Apply PCA after K-Means clustering for 2D visualization\u001b[39;00m\n\u001b[1;32m---> 48\u001b[0m X_2D_pca, centroids_2D_pca \u001b[38;5;241m=\u001b[39m reduce_to_2D_pca(\u001b[43mfeats_np_norm\u001b[49m, best_centroids)\n\u001b[0;32m     50\u001b[0m \u001b[38;5;66;03m# Plot the 2D clusters with centroids and true labels\u001b[39;00m\n\u001b[0;32m     51\u001b[0m plot_2D_clusters_with_labels(X_2D_pca, centroids_2D_pca, best_idx, labels_np, K)\n",
      "\u001b[1;31mNameError\u001b[0m: name 'feats_np_norm' is not defined"
     ]
    }
   ],
   "source": [
    "import numpy as np\n",
    "import matplotlib.pyplot as plt\n",
    "from sklearn.decomposition import PCA\n",
    "\n",
    "# Function to reduce to 2D using PCA\n",
    "def reduce_to_2D_pca(X, centroids):\n",
    "    pca = PCA(n_components=2)\n",
    "    X_2D = pca.fit_transform(X)  # Reducing original data points\n",
    "    centroids_2D = pca.transform(centroids)  # Reducing centroids\n",
    "\n",
    "    return X_2D, centroids_2D\n",
    "\n",
    "# Function to plot 2D clusters with centroids and true labels\n",
    "def plot_2D_clusters_with_labels(X_2D, centroids_2D, idx, labels, K):\n",
    "    plt.figure(figsize=(8, 6))\n",
    "    \n",
    "    # Define color map for clusters\n",
    "    colors = plt.cm.rainbow(np.linspace(0, 1, K))\n",
    "    \n",
    "    # Plot data points colored by their cluster assignment\n",
    "    for k in range(K):\n",
    "        cluster_points = X_2D[idx == k]\n",
    "        cluster_labels = labels[idx == k]  # Get true labels for the current cluster\n",
    "        \n",
    "        # Scatter plot for each cluster\n",
    "        plt.scatter(cluster_points[:, 0], cluster_points[:, 1], \n",
    "                    c=[colors[k]], label=f\"Cluster {k+1}\", alpha=0.6, s=20)\n",
    "        \n",
    "        # Annotate each point with its true label\n",
    "        for i in range(len(cluster_points)):\n",
    "            plt.annotate(str(cluster_labels[i]), \n",
    "                         (cluster_points[i, 0], cluster_points[i, 1]), \n",
    "                         fontsize=8, alpha=0.75)\n",
    "\n",
    "    # Plot centroids as larger markers\n",
    "    for k in range(K):\n",
    "        plt.scatter(centroids_2D[k, 0], centroids_2D[k, 1], \n",
    "                    c='k', marker='x', s=200, label=f'Centroid {k+1}' if k == 0 else \"\")\n",
    "\n",
    "    plt.title(\"2D Visualization of Clusters using PCA with True Labels\")\n",
    "    plt.xlabel(\"Principal Component 1\")\n",
    "    plt.ylabel(\"Principal Component 2\")\n",
    "    plt.legend()\n",
    "    plt.grid()\n",
    "    plt.show()\n",
    "\n",
    "# Apply PCA after K-Means clustering for 2D visualization\n",
    "X_2D_pca, centroids_2D_pca = reduce_to_2D_pca(feats_np_norm, best_centroids)\n",
    "\n",
    "# Plot the 2D clusters with centroids and true labels\n",
    "plot_2D_clusters_with_labels(X_2D_pca, centroids_2D_pca, best_idx, labels_np, K)\n"
   ]
  },
  {
   "cell_type": "code",
   "execution_count": 27,
   "metadata": {},
   "outputs": [
    {
     "data": {
      "image/png": "[encoded data removed]",
      "text/plain": [
       "<Figure size 800x600 with 1 Axes>"
      ]
     },
     "metadata": {},
     "output_type": "display_data"
    },
    {
     "data": {
      "image/png": "[encoded data removed]",
      "text/plain": [
       "<Figure size 600x400 with 1 Axes>"
      ]
     },
     "metadata": {},
     "output_type": "display_data"
    }
   ],
   "source": [
    "import numpy as np\n",
    "import matplotlib.pyplot as plt\n",
    "from sklearn.decomposition import PCA\n",
    "\n",
    "# Function to reduce to 2D using PCA and return explained variance\n",
    "def reduce_to_2D_pca(X, centroids):\n",
    "    pca = PCA(n_components=2)\n",
    "    X_2D = pca.fit_transform(X)  # Reducing original data points\n",
    "    centroids_2D = pca.transform(centroids)  # Reducing centroids\n",
    "    explained_variance = pca.explained_variance_ratio_  # Explained variance for the first two PCs\n",
    "\n",
    "    return X_2D, centroids_2D, explained_variance\n",
    "\n",
    "# Function to plot PCA scree plot\n",
    "def plot_pca_scree(explained_variance):\n",
    "    plt.figure(figsize=(6, 4))\n",
    "    plt.bar([\"PC1\", \"PC2\"], explained_variance * 100, color=['blue', 'orange'])\n",
    "    plt.ylabel(\"Explained Variance (%)\")\n",
    "    plt.title(\"PCA Scree Plot: Variance Explained by Principal Components\")\n",
    "    plt.ylim(0, 100)  # Limit to 100% for better visualization\n",
    "    plt.grid(axis='y', linestyle='--', alpha=0.7)\n",
    "    plt.show()\n",
    "\n",
    "# Apply PCA after K-Means clustering for 2D visualization\n",
    "X_2D_pca, centroids_2D_pca, explained_variance_pca = reduce_to_2D_pca(feats_np_norm, best_centroids)\n",
    "\n",
    "# Plot the 2D clusters with centroids and true labels\n",
    "plot_2D_clusters_with_labels(X_2D_pca, centroids_2D_pca, best_idx, labels_np, K)\n",
    "\n",
    "# Plot PCA Scree Plot\n",
    "plot_pca_scree(explained_variance_pca)\n"
   ]
  },
  {
   "cell_type": "code",
   "execution_count": 33,
   "metadata": {},
   "outputs": [
    {
     "name": "stdout",
     "output_type": "stream",
     "text": [
      "Explained Variance Ratio - PC1: 0.2860, PC2: 0.2309\n"
     ]
    }
   ],
   "source": [
    "print(f\"Explained Variance Ratio - PC1: {explained_variance_pca[0]:.4f}, PC2: {explained_variance_pca[1]:.4f}\")\n"
   ]
  },
  {
   "cell_type": "code",
   "execution_count": 28,
   "metadata": {},
   "outputs": [
    {
     "data": {
      "image/png": "[encoded data removed]",
      "text/plain": [
       "<Figure size 1000x500 with 1 Axes>"
      ]
     },
     "metadata": {},
     "output_type": "display_data"
    },
    {
     "name": "stdout",
     "output_type": "stream",
     "text": [
      "\n",
      "1D PCA values in ascending order: [-0.67422354 -0.6618506  -0.63328415 -0.63090384 -0.6232822  -0.6050955\n",
      " -0.59161615 -0.58710814 -0.5817171  -0.5816232  -0.5671112  -0.5644147\n",
      " -0.5570517  -0.5475627  -0.54161656 -0.5309715  -0.5261008  -0.49478018\n",
      " -0.49377307 -0.45689332 -0.44976163 -0.43842104 -0.433227   -0.41051653\n",
      " -0.406223   -0.3989715  -0.39519322 -0.38608617 -0.3834336  -0.38045263\n",
      " -0.37674323 -0.37528268 -0.37380263 -0.36921185 -0.35411978 -0.3440262\n",
      " -0.31818148 -0.315335   -0.26533034 -0.25883582 -0.19865803 -0.1891391\n",
      " -0.17756371 -0.11318383 -0.11306266 -0.11083626 -0.10778275 -0.10614646\n",
      " -0.08753853 -0.07616495 -0.05343712 -0.04390974 -0.04132077 -0.03795398\n",
      " -0.03555905 -0.03353995 -0.02524958 -0.01587157 -0.00607888  0.01255174\n",
      "  0.02466077  0.04244286  0.06228642  0.06839561  0.07360953  0.08137137\n",
      "  0.08619266  0.08853185  0.10009573  0.10011639  0.10764465  0.1292649\n",
      "  0.13330436  0.1491074   0.18082166  0.19298589  0.19844873  0.20968878\n",
      "  0.2124299   0.22756605  0.26159805  0.28725052  0.30486193  0.31340274\n",
      "  0.32924342  0.34637773  0.3510512   0.35546425  0.39093047  0.4015555\n",
      "  0.40760997  0.415778    0.4233651   0.4306164   0.43109116  0.44060823\n",
      "  0.44916993  0.46333253  0.46586958  0.47638175  0.4797498   0.48082462\n",
      "  0.48413494  0.48719645  0.4876347   0.49014202  0.49676606  0.49818125\n",
      "  0.5018287   0.5101825   0.5112456   0.5127305   0.51713383  0.5226659\n",
      "  0.52353084  0.523736    0.5252759   0.53226274  0.56992024  0.5749168 ]\n",
      "\n",
      "Centroids in ascending order:\n",
      "Centroid 1: control, Value: -0.5573\n",
      "Centroid 2: sd, Value: 0.0304\n",
      "Centroid 3: ex, Value: 0.5275\n"
     ]
    }
   ],
   "source": [
    "import numpy as np\n",
    "from sklearn.decomposition import PCA\n",
    "import matplotlib.pyplot as plt\n",
    "\n",
    "# Function to reduce the dimensionality of data points and centroids to 1D using PCA\n",
    "def reduce_to_1D_pca(X, centroids):\n",
    "    # Initialize PCA with 1 component\n",
    "    pca = PCA(n_components=1)\n",
    "    \n",
    "    # Apply PCA to the data points (X) and centroids\n",
    "    X_1D = pca.fit_transform(X)  # Reducing original data points\n",
    "    centroids_1D = pca.transform(centroids)  # Reducing centroids\n",
    "\n",
    "    return X_1D, centroids_1D\n",
    "\n",
    "# Function to plot 1D visualization of clustered data points and centroids with true labels\n",
    "def plot_1D_clusters_with_labels(X_1D, centroids_1D, idx, labels, K):\n",
    "    plt.figure(figsize=(10, 5))\n",
    "    \n",
    "    # Define color map for clusters\n",
    "    colors = plt.cm.rainbow(np.linspace(0, 1, K))\n",
    "    \n",
    "    # Plot data points colored by their cluster assignment\n",
    "    for k in range(K):\n",
    "        cluster_points = X_1D[idx == k]\n",
    "        cluster_labels = labels[idx == k]  # Get true labels for the current cluster\n",
    "        \n",
    "        # Scatter plot for each cluster\n",
    "        plt.scatter(cluster_points, [k] * len(cluster_points), \n",
    "                    c=[colors[k]], label=f\"Cluster {k+1}\", alpha=0.6, s=20)\n",
    "        \n",
    "        # Annotate each point with its true label\n",
    "        for i in range(len(cluster_points)):\n",
    "            plt.annotate(str(cluster_labels[i]), \n",
    "                         (cluster_points[i], k), \n",
    "                         fontsize=8, alpha=0.75)\n",
    "\n",
    "    # Plot centroids as larger markers\n",
    "    for k in range(K):\n",
    "        plt.scatter(centroids_1D[k], k, \n",
    "                    c='k', marker='x', s=200, label=f'Centroid {k+1}' if k == 0 else \"\")\n",
    "\n",
    "    plt.title(\"1D Visualization of Clusters using PCA with True Labels\")\n",
    "    plt.xlabel(\"Principal Component 1\")\n",
    "    plt.ylabel(\"Cluster Index\")\n",
    "    plt.legend()\n",
    "    plt.grid()\n",
    "    plt.show()\n",
    "\n",
    "# Apply PCA after K-Means clustering for 1D visualization\n",
    "X_1D_pca, centroids_1D_pca = reduce_to_1D_pca(feats_np_norm, best_centroids)\n",
    "\n",
    "# Plot the 1D clusters with centroids and true labels\n",
    "plot_1D_clusters_with_labels(X_1D_pca, centroids_1D_pca, best_idx, labels_np, K)\n",
    "\n",
    "# Print the 1D values (PCA scores) in ascending order\n",
    "sorted_X_1D = np.sort(X_1D_pca.flatten())  # Flatten and sort the PCA scores\n",
    "print(\"\\n1D PCA values in ascending order:\", sorted_X_1D)\n",
    "\n",
    "# Sort the 1D centroid values and map to labels\n",
    "sorted_centroids_idx = np.argsort(centroids_1D_pca.flatten())\n",
    "true_labels_mapping = ['control', 'sd', 'ex']\n",
    "sorted_labels = [true_labels_mapping[i] for i in sorted_centroids_idx]\n",
    "\n",
    "# Print sorted centroids with their corresponding true labels\n",
    "print(\"\\nCentroids in ascending order:\")\n",
    "for i, idx in enumerate(sorted_centroids_idx):\n",
    "    print(f\"Centroid {i+1}: {sorted_labels[i]}, Value: {centroids_1D_pca[idx][0]:.4f}\")"
   ]
  },
  {
   "cell_type": "code",
   "execution_count": 29,
   "metadata": {},
   "outputs": [
    {
     "name": "stdout",
     "output_type": "stream",
     "text": [
      "\n",
      "Sorted PCA values with corresponding paths and true labels:\n",
      "PCA value: -0.6742, Label: ex, Path: G:\\cluster_40\\cure\\ex\\ds61_g8_B11-T01.tiff\n",
      "PCA value: -0.6619, Label: ex, Path: G:\\cluster_40\\cure\\ex\\ds61_g6_F02-T01.tiff\n",
      "PCA value: -0.6333, Label: ex, Path: G:\\cluster_40\\cure\\ex\\ds61_g9_C11-T01.tiff\n",
      "PCA value: -0.6309, Label: ex, Path: G:\\cluster_40\\cure\\ex\\ds61_g6_F03-T01.tiff\n",
      "PCA value: -0.6233, Label: ex, Path: G:\\cluster_40\\cure\\ex\\ds61_g8_B10-T01.tiff\n",
      "PCA value: -0.6051, Label: ex, Path: G:\\cluster_40\\cure\\ex\\ds61_g8_B07-T01.tiff\n",
      "PCA value: -0.5916, Label: ex, Path: G:\\cluster_40\\cure\\ex\\ds61_g9_C10-T01.tiff\n",
      "PCA value: -0.5871, Label: ex, Path: G:\\cluster_40\\cure\\ex\\ds61_g9_C08-T01.tiff\n",
      "PCA value: -0.5817, Label: ex, Path: G:\\cluster_40\\cure\\ex\\ds61_g8_B09-T01.tiff\n",
      "PCA value: -0.5816, Label: ex, Path: G:\\cluster_40\\cure\\ex\\ds61_g6_F06-T01.tiff\n",
      "PCA value: -0.5671, Label: ex, Path: G:\\cluster_40\\cure\\ex\\ds62_g8_B10-T01.tiff\n",
      "PCA value: -0.5644, Label: ex, Path: G:\\cluster_40\\cure\\ex\\ds61_g6_F05-T01.tiff\n",
      "PCA value: -0.5571, Label: ex, Path: G:\\cluster_40\\cure\\ex\\ds61_g8_B08-T01.tiff\n",
      "PCA value: -0.5476, Label: ex, Path: G:\\cluster_40\\cure\\ex\\ds61_g9_C09-T01.tiff\n",
      "PCA value: -0.5416, Label: ex, Path: G:\\cluster_40\\cure\\ex\\ds61_g9_C07-T01.tiff\n",
      "PCA value: -0.5310, Label: ex, Path: G:\\cluster_40\\cure\\ex\\ds61_g6_F04-T01.tiff\n",
      "PCA value: -0.5261, Label: ex, Path: G:\\cluster_40\\cure\\ex\\ds62_g9_C11-T01.tiff\n",
      "PCA value: -0.4948, Label: ex, Path: G:\\cluster_40\\cure\\ex\\ds61_g3_C06-T01.tiff\n",
      "PCA value: -0.4938, Label: ex, Path: G:\\cluster_40\\cure\\ex\\ds62_g8_B09-T01.tiff\n",
      "PCA value: -0.4569, Label: ex, Path: G:\\cluster_40\\cure\\ex\\ds62_g8_B07-T01.tiff\n",
      "PCA value: -0.4498, Label: ex, Path: G:\\cluster_40\\cure\\ex\\ds61_g3_C04-T01.tiff\n",
      "PCA value: -0.4384, Label: ex, Path: G:\\cluster_40\\cure\\ex\\ds61_g3_C05-T01.tiff\n",
      "PCA value: -0.4332, Label: ex, Path: G:\\cluster_40\\cure\\ex\\ds1B_g9_C7.tif\n",
      "PCA value: -0.4105, Label: ex, Path: G:\\cluster_40\\cure\\ex\\ds62_g8_B11-T01.tiff\n",
      "PCA value: -0.4062, Label: ex, Path: G:\\cluster_40\\cure\\ex\\ds61_g3_C03-T01.tiff\n",
      "PCA value: -0.3990, Label: ex, Path: G:\\cluster_40\\cure\\ex\\ds62_g9_C09-T01.tiff\n",
      "PCA value: -0.3952, Label: ex, Path: G:\\cluster_40\\cure\\ex\\ds41_g3_C05-T01.tiff\n",
      "PCA value: -0.3861, Label: ex, Path: G:\\cluster_40\\cure\\ex\\ds41_g3_C03-T01.tiff\n",
      "PCA value: -0.3834, Label: ex, Path: G:\\cluster_40\\cure\\ex\\ds62_g9_C07-T01.tiff\n",
      "PCA value: -0.3805, Label: ex, Path: G:\\cluster_40\\cure\\ex\\ds41_g3_C02-T01.tiff\n",
      "PCA value: -0.3767, Label: ex, Path: G:\\cluster_40\\cure\\ex\\ds1B_g9_C8.tif\n",
      "PCA value: -0.3753, Label: ex, Path: G:\\cluster_40\\cure\\ex\\ds62_g9_C10-T01.tiff\n",
      "PCA value: -0.3738, Label: ex, Path: G:\\cluster_40\\cure\\ex\\ds61_g3_C02-T01.tiff\n",
      "PCA value: -0.3692, Label: ex, Path: G:\\cluster_40\\cure\\ex\\ds41_g3_C04-T01.tiff\n",
      "PCA value: -0.3541, Label: ex, Path: G:\\cluster_40\\cure\\ex\\ds1B_g9_C9.tif\n",
      "PCA value: -0.3440, Label: ex, Path: G:\\cluster_40\\cure\\ex\\ds41_g3_C06-T01.tiff\n",
      "PCA value: -0.3182, Label: ex, Path: G:\\cluster_40\\cure\\ex\\ds1B_g9_c10.tif\n",
      "PCA value: -0.3153, Label: ex, Path: G:\\cluster_40\\cure\\ex\\ds62_g9_C08-T01.tiff\n",
      "PCA value: -0.2653, Label: ex, Path: G:\\cluster_40\\cure\\ex\\ds1B_g9_C11.tif\n",
      "PCA value: -0.2588, Label: ex, Path: G:\\cluster_40\\cure\\ex\\ds41_g9_C10-T01.tiff\n",
      "PCA value: -0.1987, Label: control, Path: G:\\cluster_40\\cure\\cure_cond7_40\\RBTDS1B_Day_7_E06-T01.tiff\n",
      "PCA value: -0.1891, Label: control, Path: G:\\cluster_40\\cure\\cure_cond7_40\\RBTDS1B_Day_7_C11-T01.tiff\n",
      "PCA value: -0.1776, Label: control, Path: G:\\cluster_40\\cure\\cure_cond7_40\\RBTDS1B_Day_7_D02-T01.tiff\n",
      "PCA value: -0.1132, Label: control, Path: G:\\cluster_40\\cure\\cure_cond7_40\\RBTDS1B_Day_7_B03-T01.tiff\n",
      "PCA value: -0.1131, Label: control, Path: G:\\cluster_40\\cure\\cure_cond7_40\\RBTDS1B_Day_7_E10-T01.tiff\n",
      "PCA value: -0.1108, Label: control, Path: G:\\cluster_40\\cure\\cure_cond7_40\\RBTDS1B_Day_7_D05-T01.tiff\n",
      "PCA value: -0.1078, Label: control, Path: G:\\cluster_40\\cure\\cure_cond7_40\\RBTDS1B_Day_7_C09-T01.tiff\n",
      "PCA value: -0.1061, Label: control, Path: G:\\cluster_40\\cure\\cure_cond7_40\\RBTDS1B_Day_7_E08-T01.tiff\n",
      "PCA value: -0.0875, Label: control, Path: G:\\cluster_40\\cure\\cure_cond7_40\\RBTDS1B_Day_7_E11-T01.tiff\n",
      "PCA value: -0.0762, Label: control, Path: G:\\cluster_40\\cure\\cure_cond7_40\\RBTDS1B_Day_7_D03-T01.tiff\n",
      "PCA value: -0.0534, Label: control, Path: G:\\cluster_40\\cure\\cure_cond7_40\\RBTDS1B_Day_7_F02-T01.tiff\n",
      "PCA value: -0.0439, Label: control, Path: G:\\cluster_40\\cure\\cure_cond7_40\\RBTDS1B_Day_7_C10-T01.tiff\n",
      "PCA value: -0.0413, Label: control, Path: G:\\cluster_40\\cure\\cure_cond7_40\\RBTDS1B_Day_7_B02-T01.tiff\n",
      "PCA value: -0.0380, Label: control, Path: G:\\cluster_40\\cure\\cure_cond7_40\\RBTDS1B_Day_7_C08-T01.tiff\n",
      "PCA value: -0.0356, Label: control, Path: G:\\cluster_40\\cure\\cure_cond7_40\\RBTDS1B_Day_7_D04-T01.tiff\n",
      "PCA value: -0.0335, Label: control, Path: G:\\cluster_40\\cure\\cure_cond7_40\\RBT_01.04_Day7_D06-T01.tiff\n",
      "PCA value: -0.0252, Label: control, Path: G:\\cluster_40\\cure\\cure_cond7_40\\RBT_01.04_Day7_F02-T01.tiff\n",
      "PCA value: -0.0159, Label: control, Path: G:\\cluster_40\\cure\\cure_cond7_40\\RBTDS1B_Day_7_B05-T01.tiff\n",
      "PCA value: -0.0061, Label: control, Path: G:\\cluster_40\\cure\\cure_cond7_40\\RBTDS1B_Day_7_B07-T01.tiff\n",
      "PCA value: 0.0126, Label: control, Path: G:\\cluster_40\\cure\\cure_cond7_40\\RBTDS1B_Day_7_E07-T01.tiff\n",
      "PCA value: 0.0247, Label: control, Path: G:\\cluster_40\\cure\\cure_cond7_40\\RBT_01.04_Day7_D09-T01.tiff\n",
      "PCA value: 0.0424, Label: control, Path: G:\\cluster_40\\cure\\cure_cond7_40\\RBT_01.04_Day7_D08-T01.tiff\n",
      "PCA value: 0.0623, Label: control, Path: G:\\cluster_40\\cure\\cure_cond7_40\\RBT_01.04_Day7_F08-T01.tiff\n",
      "PCA value: 0.0684, Label: control, Path: G:\\cluster_40\\cure\\cure_cond7_40\\RBT_01.04_Day7_D07-T01.tiff\n",
      "PCA value: 0.0736, Label: control, Path: G:\\cluster_40\\cure\\cure_cond7_40\\RBT_01.04_Day7_F09-T01.tiff\n",
      "PCA value: 0.0814, Label: control, Path: G:\\cluster_40\\cure\\cure_cond7_40\\RBT_01.04_Day7_D10-T01.tiff\n",
      "PCA value: 0.0862, Label: control, Path: G:\\cluster_40\\cure\\cure_cond7_40\\RBT_01.04_Day7_D04-T01.tiff\n",
      "PCA value: 0.0885, Label: control, Path: G:\\cluster_40\\cure\\cure_cond7_40\\RBTDS1B_Day_7_B04-T01.tiff\n",
      "PCA value: 0.1001, Label: control, Path: G:\\cluster_40\\cure\\cure_cond7_40\\RBTDS1B_Day_7_E09-T01.tiff\n",
      "PCA value: 0.1001, Label: control, Path: G:\\cluster_40\\cure\\cure_cond7_40\\RBT_01.04_Day7_F07-T01.tiff\n",
      "PCA value: 0.1076, Label: control, Path: G:\\cluster_40\\cure\\cure_cond7_40\\RBTDS1B_Day_7_F03-T01.tiff\n",
      "PCA value: 0.1293, Label: control, Path: G:\\cluster_40\\cure\\cure_cond7_40\\RBT_01.04_Day7_G09-T01.tiff\n",
      "PCA value: 0.1333, Label: control, Path: G:\\cluster_40\\cure\\cure_cond7_40\\RBT_01.04_Day7_D05-T01.tiff\n",
      "PCA value: 0.1491, Label: control, Path: G:\\cluster_40\\cure\\cure_cond7_40\\RBTDS1B_Day_7_B06-T01.tiff\n",
      "PCA value: 0.1808, Label: control, Path: G:\\cluster_40\\cure\\cure_cond7_40\\RBT_01.04_Day7_F04-T01.tiff\n",
      "PCA value: 0.1930, Label: control, Path: G:\\cluster_40\\cure\\cure_cond7_40\\RBT_01.04_Day7_F03-T01.tiff\n",
      "PCA value: 0.1984, Label: control, Path: G:\\cluster_40\\cure\\cure_cond7_40\\RBT_01.04_Day7_F06-T01.tiff\n",
      "PCA value: 0.2097, Label: control, Path: G:\\cluster_40\\cure\\cure_cond7_40\\RBT_01.04_Day7_F05-T01.tiff\n",
      "PCA value: 0.2124, Label: control, Path: G:\\cluster_40\\cure\\cure_cond7_40\\RBT_01.04_Day7_D11-T01.tiff\n",
      "PCA value: 0.2276, Label: control, Path: G:\\cluster_40\\cure\\cure_cond7_40\\RBT_01.04_Day7_G11-T01.tiff\n",
      "PCA value: 0.2616, Label: sd, Path: G:\\cluster_40\\cure\\sdonly_40\\RBT14_C11-T01.tiff\n",
      "PCA value: 0.2873, Label: sd, Path: G:\\cluster_40\\cure\\sdonly_40\\RBT04_D09-T01.tiff\n",
      "PCA value: 0.3049, Label: sd, Path: G:\\cluster_40\\cure\\sdonly_40\\RBT04_C10-T01.tiff\n",
      "PCA value: 0.3134, Label: sd, Path: G:\\cluster_40\\cure\\sdonly_40\\RBT04_D10-T01.tiff\n",
      "PCA value: 0.3292, Label: sd, Path: G:\\cluster_40\\cure\\sdonly_40\\RBT04_C08-T01.tiff\n",
      "PCA value: 0.3464, Label: sd, Path: G:\\cluster_40\\cure\\sdonly_40\\RBT09_F08-T01.tiff\n",
      "PCA value: 0.3511, Label: sd, Path: G:\\cluster_40\\cure\\sdonly_40\\RBT04_C09-T01.tiff\n",
      "PCA value: 0.3555, Label: sd, Path: G:\\cluster_40\\cure\\sdonly_40\\RBT04_G11-T01.tiff\n",
      "PCA value: 0.3909, Label: sd, Path: G:\\cluster_40\\cure\\sdonly_40\\RBT04_C07-T01.tiff\n",
      "PCA value: 0.4016, Label: sd, Path: G:\\cluster_40\\cure\\sdonly_40\\RBT04_D08-T01.tiff\n",
      "PCA value: 0.4076, Label: sd, Path: G:\\cluster_40\\cure\\sdonly_40\\RBT09_F07-T01.tiff\n",
      "PCA value: 0.4158, Label: sd, Path: G:\\cluster_40\\cure\\sdonly_40\\RBT10_D09-T01.tiff\n",
      "PCA value: 0.4234, Label: sd, Path: G:\\cluster_40\\cure\\sdonly_40\\RBT14_D08-T01.tiff\n",
      "PCA value: 0.4306, Label: sd, Path: G:\\cluster_40\\cure\\sdonly_40\\RBT14_C07-T01.tiff\n",
      "PCA value: 0.4311, Label: sd, Path: G:\\cluster_40\\cure\\sdonly_40\\RBT09_G08-T01.tiff\n",
      "PCA value: 0.4406, Label: sd, Path: G:\\cluster_40\\cure\\sdonly_40\\RBT04_G10-T01.tiff\n",
      "PCA value: 0.4492, Label: sd, Path: G:\\cluster_40\\cure\\sdonly_40\\RBT10_D11-T01.tiff\n",
      "PCA value: 0.4633, Label: sd, Path: G:\\cluster_40\\cure\\sdonly_40\\RBT14_C10-T01.tiff\n",
      "PCA value: 0.4659, Label: sd, Path: G:\\cluster_40\\cure\\sdonly_40\\RBT14_C08-T01.tiff\n",
      "PCA value: 0.4764, Label: sd, Path: G:\\cluster_40\\cure\\sdonly_40\\RBT04_D07-T01.tiff\n",
      "PCA value: 0.4797, Label: sd, Path: G:\\cluster_40\\cure\\sdonly_40\\RBT09_B11-T01.tiff\n",
      "PCA value: 0.4808, Label: sd, Path: G:\\cluster_40\\cure\\sdonly_40\\RBT09_G07-T01.tiff\n",
      "PCA value: 0.4841, Label: sd, Path: G:\\cluster_40\\cure\\sdonly_40\\RBT10_E10-T01.tiff\n",
      "PCA value: 0.4872, Label: sd, Path: G:\\cluster_40\\cure\\sdonly_40\\RBT10_D10-T01.tiff\n",
      "PCA value: 0.4876, Label: sd, Path: G:\\cluster_40\\cure\\sdonly_40\\RBT09_C07-T01.tiff\n",
      "PCA value: 0.4901, Label: sd, Path: G:\\cluster_40\\cure\\sdonly_40\\RBT14_C09-T01.tiff\n",
      "PCA value: 0.4968, Label: sd, Path: G:\\cluster_40\\cure\\sdonly_40\\RBT09_B07-T01.tiff\n",
      "PCA value: 0.4982, Label: sd, Path: G:\\cluster_40\\cure\\sdonly_40\\RBT09_B10-T01.tiff\n",
      "PCA value: 0.5018, Label: sd, Path: G:\\cluster_40\\cure\\sdonly_40\\RBT14_D09-T01.tiff\n",
      "PCA value: 0.5102, Label: sd, Path: G:\\cluster_40\\cure\\sdonly_40\\RBT09_F11-T01.tiff\n",
      "PCA value: 0.5112, Label: sd, Path: G:\\cluster_40\\cure\\sdonly_40\\RBT14_D07-T01.tiff\n",
      "PCA value: 0.5127, Label: sd, Path: G:\\cluster_40\\cure\\sdonly_40\\RBT10_E11-T01.tiff\n",
      "PCA value: 0.5171, Label: sd, Path: G:\\cluster_40\\cure\\sdonly_40\\RBT09_F09-T01.tiff\n",
      "PCA value: 0.5227, Label: sd, Path: G:\\cluster_40\\cure\\sdonly_40\\RBT10_E07-T01.tiff\n",
      "PCA value: 0.5235, Label: sd, Path: G:\\cluster_40\\cure\\sdonly_40\\RBT09_G09-T01.tiff\n",
      "PCA value: 0.5237, Label: sd, Path: G:\\cluster_40\\cure\\sdonly_40\\RBT09_B08-T01.tiff\n",
      "PCA value: 0.5253, Label: sd, Path: G:\\cluster_40\\cure\\sdonly_40\\RBT10_F07-T01.tiff\n",
      "PCA value: 0.5323, Label: sd, Path: G:\\cluster_40\\cure\\sdonly_40\\RBT10_E09-T01.tiff\n",
      "PCA value: 0.5699, Label: sd, Path: G:\\cluster_40\\cure\\sdonly_40\\RBT09_F10-T01.tiff\n",
      "PCA value: 0.5749, Label: sd, Path: G:\\cluster_40\\cure\\sdonly_40\\RBT09_B09-T01.tiff\n",
      "\n",
      "Centroids in ascending order:\n",
      "Centroid 1: ex, Value: -0.5573\n",
      "Centroid 2: control, Value: 0.0304\n",
      "Centroid 3: sd, Value: 0.5275\n"
     ]
    },
    {
     "data": {
      "image/png": "[encoded data removed]",
      "text/plain": [
       "<Figure size 1000x500 with 1 Axes>"
      ]
     },
     "metadata": {},
     "output_type": "display_data"
    }
   ],
   "source": [
    "import numpy as np\n",
    "from sklearn.preprocessing import normalize\n",
    "from sklearn.decomposition import PCA\n",
    "import matplotlib.pyplot as plt\n",
    "from scipy.stats import mode\n",
    "\n",
    "def reduce_to_1D_pca(X, centroids):\n",
    "    pca = PCA(n_components=1)\n",
    "    X_1D = pca.fit_transform(X)\n",
    "    centroids_1D = pca.transform(centroids)\n",
    "    return X_1D, centroids_1D\n",
    "\n",
    "def plot_1D_clusters_with_labels(X_1D, centroids_1D, idx, labels, K):\n",
    "    plt.figure(figsize=(10, 5))\n",
    "    colors = plt.cm.rainbow(np.linspace(0, 1, K))\n",
    "    \n",
    "    for k in range(K):\n",
    "        cluster_points = X_1D[idx == k]\n",
    "        cluster_labels = labels[idx == k]\n",
    "        \n",
    "        plt.scatter(cluster_points, [k] * len(cluster_points), \n",
    "                    c=[colors[k]], label=f\"Cluster {k+1}\", alpha=0.6, s=20)\n",
    "        \n",
    "        for i in range(len(cluster_points)):\n",
    "            plt.annotate(str(cluster_labels[i]), \n",
    "                         (cluster_points[i], k), \n",
    "                         fontsize=8, alpha=0.75)\n",
    "\n",
    "    for k in range(K):\n",
    "        plt.scatter(centroids_1D[k], k, \n",
    "                    c='k', marker='x', s=200, label=f'Centroid {k+1}' if k == 0 else \"\")\n",
    "\n",
    "    plt.title(\"1D Visualization of Clusters using PCA with True Labels\")\n",
    "    plt.xlabel(\"Principal Component 1\")\n",
    "    plt.ylabel(\"Cluster Index\")\n",
    "    plt.legend()\n",
    "    plt.grid()\n",
    "    plt.show()\n",
    "\n",
    "# Normalize features\n",
    "feats_np_norm = normalize(feats_np, axis=1)\n",
    "\n",
    "# Run clustering (using your existing cosine distance K-means code)\n",
    "K = 3\n",
    "best_centroids, best_idx, best_accuracy, accuracies = perform_clustering(feats_np_norm, K)\n",
    "\n",
    "# Apply PCA and get sorted indices with paths\n",
    "X_1D_pca, centroids_1D_pca = reduce_to_1D_pca(feats_np_norm, best_centroids)\n",
    "\n",
    "# Create a list of tuples containing (PCA value, path, true_label)\n",
    "pca_path_pairs = list(zip(X_1D_pca.flatten(), paths, labels_np))\n",
    "\n",
    "# Sort based on PCA values while keeping track of paths and labels\n",
    "sorted_pca_path_pairs = sorted(pca_path_pairs, key=lambda x: x[0])\n",
    "\n",
    "# Separate sorted values, paths, and labels\n",
    "sorted_X_1D = np.array([x[0] for x in sorted_pca_path_pairs])\n",
    "sorted_paths = [x[1] for x in sorted_pca_path_pairs]\n",
    "sorted_true_labels = [x[2] for x in sorted_pca_path_pairs]\n",
    "\n",
    "# Print values with corresponding paths and true labels\n",
    "print(\"\\nSorted PCA values with corresponding paths and true labels:\")\n",
    "true_labels_mapping = ['control', 'sd', 'ex']\n",
    "for pca_val, path, label in zip(sorted_X_1D, sorted_paths, sorted_true_labels):\n",
    "    print(f\"PCA value: {pca_val:.4f}, Label: {true_labels_mapping[label]}, Path: {path}\")\n",
    "\n",
    "# Print centroid information\n",
    "sorted_centroids_idx = np.argsort(centroids_1D_pca.flatten())\n",
    "sorted_labels = [true_labels_mapping[i] for i in sorted_centroids_idx]\n",
    "\n",
    "print(\"\\nCentroids in ascending order:\")\n",
    "for i, idx in enumerate(sorted_centroids_idx):\n",
    "    print(f\"Centroid {i+1}: {sorted_labels[i]}, Value: {centroids_1D_pca[idx][0]:.4f}\")\n",
    "\n",
    "# Plot the visualization\n",
    "plot_1D_clusters_with_labels(X_1D_pca, centroids_1D_pca, best_idx, labels_np, K)"
   ]
  },
  {
   "cell_type": "markdown",
   "metadata": {},
   "source": [
    "weighted pca"
   ]
  },
  {
   "cell_type": "code",
   "execution_count": 30,
   "metadata": {},
   "outputs": [
    {
     "name": "stdout",
     "output_type": "stream",
     "text": [
      "\n",
      "Sorted Weighted PCA values with corresponding paths and true labels:\n",
      "Weighted PCA value: -0.2551, Label: ex, Path: G:\\cluster_40\\cure\\ex\\ds61_g6_F02-T01.tiff\n",
      "Weighted PCA value: -0.2486, Label: ex, Path: G:\\cluster_40\\cure\\ex\\ds61_g8_B11-T01.tiff\n",
      "Weighted PCA value: -0.2482, Label: ex, Path: G:\\cluster_40\\cure\\ex\\ds61_g8_B10-T01.tiff\n",
      "Weighted PCA value: -0.2459, Label: ex, Path: G:\\cluster_40\\cure\\ex\\ds61_g9_C11-T01.tiff\n",
      "Weighted PCA value: -0.2410, Label: ex, Path: G:\\cluster_40\\cure\\ex\\ds61_g6_F05-T01.tiff\n",
      "Weighted PCA value: -0.2368, Label: ex, Path: G:\\cluster_40\\cure\\ex\\ds62_g9_C11-T01.tiff\n",
      "Weighted PCA value: -0.2360, Label: ex, Path: G:\\cluster_40\\cure\\ex\\ds62_g8_B07-T01.tiff\n",
      "Weighted PCA value: -0.2337, Label: ex, Path: G:\\cluster_40\\cure\\ex\\ds61_g9_C10-T01.tiff\n",
      "Weighted PCA value: -0.2324, Label: ex, Path: G:\\cluster_40\\cure\\ex\\ds62_g8_B10-T01.tiff\n",
      "Weighted PCA value: -0.2288, Label: ex, Path: G:\\cluster_40\\cure\\ex\\ds61_g6_F03-T01.tiff\n",
      "Weighted PCA value: -0.2281, Label: ex, Path: G:\\cluster_40\\cure\\ex\\ds62_g8_B09-T01.tiff\n",
      "Weighted PCA value: -0.2248, Label: ex, Path: G:\\cluster_40\\cure\\ex\\ds61_g8_B09-T01.tiff\n",
      "Weighted PCA value: -0.2227, Label: ex, Path: G:\\cluster_40\\cure\\ex\\ds61_g8_B07-T01.tiff\n",
      "Weighted PCA value: -0.2199, Label: ex, Path: G:\\cluster_40\\cure\\ex\\ds61_g9_C08-T01.tiff\n",
      "Weighted PCA value: -0.2197, Label: ex, Path: G:\\cluster_40\\cure\\ex\\ds61_g9_C09-T01.tiff\n",
      "Weighted PCA value: -0.2196, Label: ex, Path: G:\\cluster_40\\cure\\ex\\ds61_g6_F04-T01.tiff\n",
      "Weighted PCA value: -0.2194, Label: ex, Path: G:\\cluster_40\\cure\\ex\\ds61_g6_F06-T01.tiff\n",
      "Weighted PCA value: -0.2086, Label: ex, Path: G:\\cluster_40\\cure\\ex\\ds61_g3_C06-T01.tiff\n",
      "Weighted PCA value: -0.2068, Label: ex, Path: G:\\cluster_40\\cure\\ex\\ds62_g9_C07-T01.tiff\n",
      "Weighted PCA value: -0.2060, Label: ex, Path: G:\\cluster_40\\cure\\ex\\ds62_g8_B11-T01.tiff\n",
      "Weighted PCA value: -0.2043, Label: ex, Path: G:\\cluster_40\\cure\\ex\\ds62_g9_C09-T01.tiff\n",
      "Weighted PCA value: -0.2017, Label: ex, Path: G:\\cluster_40\\cure\\ex\\ds61_g9_C07-T01.tiff\n",
      "Weighted PCA value: -0.1994, Label: ex, Path: G:\\cluster_40\\cure\\ex\\ds61_g3_C04-T01.tiff\n",
      "Weighted PCA value: -0.1970, Label: ex, Path: G:\\cluster_40\\cure\\ex\\ds61_g3_C03-T01.tiff\n",
      "Weighted PCA value: -0.1939, Label: ex, Path: G:\\cluster_40\\cure\\ex\\ds62_g9_C08-T01.tiff\n",
      "Weighted PCA value: -0.1914, Label: ex, Path: G:\\cluster_40\\cure\\ex\\ds61_g8_B08-T01.tiff\n",
      "Weighted PCA value: -0.1904, Label: ex, Path: G:\\cluster_40\\cure\\ex\\ds61_g3_C05-T01.tiff\n",
      "Weighted PCA value: -0.1837, Label: ex, Path: G:\\cluster_40\\cure\\ex\\ds62_g9_C10-T01.tiff\n",
      "Weighted PCA value: -0.1652, Label: ex, Path: G:\\cluster_40\\cure\\ex\\ds61_g3_C02-T01.tiff\n",
      "Weighted PCA value: -0.1312, Label: ex, Path: G:\\cluster_40\\cure\\ex\\ds41_g3_C05-T01.tiff\n",
      "Weighted PCA value: -0.1211, Label: ex, Path: G:\\cluster_40\\cure\\ex\\ds1B_g9_C7.tif\n",
      "Weighted PCA value: -0.1160, Label: ex, Path: G:\\cluster_40\\cure\\ex\\ds41_g3_C03-T01.tiff\n",
      "Weighted PCA value: -0.1138, Label: ex, Path: G:\\cluster_40\\cure\\ex\\ds41_g9_C10-T01.tiff\n",
      "Weighted PCA value: -0.1106, Label: ex, Path: G:\\cluster_40\\cure\\ex\\ds41_g3_C02-T01.tiff\n",
      "Weighted PCA value: -0.1000, Label: ex, Path: G:\\cluster_40\\cure\\ex\\ds41_g3_C04-T01.tiff\n",
      "Weighted PCA value: -0.0910, Label: ex, Path: G:\\cluster_40\\cure\\ex\\ds41_g3_C06-T01.tiff\n",
      "Weighted PCA value: -0.0892, Label: ex, Path: G:\\cluster_40\\cure\\ex\\ds1B_g9_C8.tif\n",
      "Weighted PCA value: -0.0860, Label: ex, Path: G:\\cluster_40\\cure\\ex\\ds1B_g9_C9.tif\n",
      "Weighted PCA value: -0.0799, Label: ex, Path: G:\\cluster_40\\cure\\ex\\ds1B_g9_c10.tif\n",
      "Weighted PCA value: -0.0466, Label: ex, Path: G:\\cluster_40\\cure\\ex\\ds1B_g9_C11.tif\n",
      "Weighted PCA value: 0.0089, Label: sd, Path: G:\\cluster_40\\cure\\sdonly_40\\RBT09_F08-T01.tiff\n",
      "Weighted PCA value: 0.0131, Label: sd, Path: G:\\cluster_40\\cure\\sdonly_40\\RBT04_D09-T01.tiff\n",
      "Weighted PCA value: 0.0158, Label: sd, Path: G:\\cluster_40\\cure\\sdonly_40\\RBT04_C08-T01.tiff\n",
      "Weighted PCA value: 0.0282, Label: sd, Path: G:\\cluster_40\\cure\\sdonly_40\\RBT09_F07-T01.tiff\n",
      "Weighted PCA value: 0.0282, Label: sd, Path: G:\\cluster_40\\cure\\sdonly_40\\RBT09_G08-T01.tiff\n",
      "Weighted PCA value: 0.0477, Label: sd, Path: G:\\cluster_40\\cure\\sdonly_40\\RBT14_C11-T01.tiff\n",
      "Weighted PCA value: 0.0486, Label: sd, Path: G:\\cluster_40\\cure\\sdonly_40\\RBT04_D08-T01.tiff\n",
      "Weighted PCA value: 0.0493, Label: control, Path: G:\\cluster_40\\cure\\cure_cond7_40\\RBTDS1B_Day_7_D02-T01.tiff\n",
      "Weighted PCA value: 0.0507, Label: control, Path: G:\\cluster_40\\cure\\cure_cond7_40\\RBTDS1B_Day_7_E06-T01.tiff\n",
      "Weighted PCA value: 0.0512, Label: sd, Path: G:\\cluster_40\\cure\\sdonly_40\\RBT04_D10-T01.tiff\n",
      "Weighted PCA value: 0.0522, Label: sd, Path: G:\\cluster_40\\cure\\sdonly_40\\RBT04_G11-T01.tiff\n",
      "Weighted PCA value: 0.0532, Label: sd, Path: G:\\cluster_40\\cure\\sdonly_40\\RBT14_C07-T01.tiff\n",
      "Weighted PCA value: 0.0543, Label: sd, Path: G:\\cluster_40\\cure\\sdonly_40\\RBT14_D08-T01.tiff\n",
      "Weighted PCA value: 0.0551, Label: sd, Path: G:\\cluster_40\\cure\\sdonly_40\\RBT09_B07-T01.tiff\n",
      "Weighted PCA value: 0.0553, Label: sd, Path: G:\\cluster_40\\cure\\sdonly_40\\RBT10_E10-T01.tiff\n",
      "Weighted PCA value: 0.0556, Label: sd, Path: G:\\cluster_40\\cure\\sdonly_40\\RBT09_G07-T01.tiff\n",
      "Weighted PCA value: 0.0568, Label: control, Path: G:\\cluster_40\\cure\\cure_cond7_40\\RBT_01.04_Day7_D06-T01.tiff\n",
      "Weighted PCA value: 0.0581, Label: sd, Path: G:\\cluster_40\\cure\\sdonly_40\\RBT09_B08-T01.tiff\n",
      "Weighted PCA value: 0.0595, Label: sd, Path: G:\\cluster_40\\cure\\sdonly_40\\RBT04_C09-T01.tiff\n",
      "Weighted PCA value: 0.0622, Label: sd, Path: G:\\cluster_40\\cure\\sdonly_40\\RBT04_C07-T01.tiff\n",
      "Weighted PCA value: 0.0629, Label: control, Path: G:\\cluster_40\\cure\\cure_cond7_40\\RBTDS1B_Day_7_C11-T01.tiff\n",
      "Weighted PCA value: 0.0683, Label: sd, Path: G:\\cluster_40\\cure\\sdonly_40\\RBT10_D09-T01.tiff\n",
      "Weighted PCA value: 0.0699, Label: control, Path: G:\\cluster_40\\cure\\cure_cond7_40\\RBTDS1B_Day_7_B03-T01.tiff\n",
      "Weighted PCA value: 0.0708, Label: sd, Path: G:\\cluster_40\\cure\\sdonly_40\\RBT09_C07-T01.tiff\n",
      "Weighted PCA value: 0.0720, Label: sd, Path: G:\\cluster_40\\cure\\sdonly_40\\RBT14_C09-T01.tiff\n",
      "Weighted PCA value: 0.0729, Label: sd, Path: G:\\cluster_40\\cure\\sdonly_40\\RBT09_F11-T01.tiff\n",
      "Weighted PCA value: 0.0763, Label: control, Path: G:\\cluster_40\\cure\\cure_cond7_40\\RBTDS1B_Day_7_E10-T01.tiff\n",
      "Weighted PCA value: 0.0767, Label: sd, Path: G:\\cluster_40\\cure\\sdonly_40\\RBT10_D11-T01.tiff\n",
      "Weighted PCA value: 0.0798, Label: sd, Path: G:\\cluster_40\\cure\\sdonly_40\\RBT10_D10-T01.tiff\n",
      "Weighted PCA value: 0.0821, Label: sd, Path: G:\\cluster_40\\cure\\sdonly_40\\RBT14_C10-T01.tiff\n",
      "Weighted PCA value: 0.0827, Label: sd, Path: G:\\cluster_40\\cure\\sdonly_40\\RBT14_C08-T01.tiff\n",
      "Weighted PCA value: 0.0828, Label: sd, Path: G:\\cluster_40\\cure\\sdonly_40\\RBT09_F09-T01.tiff\n",
      "Weighted PCA value: 0.0832, Label: sd, Path: G:\\cluster_40\\cure\\sdonly_40\\RBT09_G09-T01.tiff\n",
      "Weighted PCA value: 0.0858, Label: sd, Path: G:\\cluster_40\\cure\\sdonly_40\\RBT09_B11-T01.tiff\n",
      "Weighted PCA value: 0.0864, Label: control, Path: G:\\cluster_40\\cure\\cure_cond7_40\\RBTDS1B_Day_7_E11-T01.tiff\n",
      "Weighted PCA value: 0.0895, Label: sd, Path: G:\\cluster_40\\cure\\sdonly_40\\RBT10_E07-T01.tiff\n",
      "Weighted PCA value: 0.0897, Label: sd, Path: G:\\cluster_40\\cure\\sdonly_40\\RBT14_D09-T01.tiff\n",
      "Weighted PCA value: 0.0907, Label: sd, Path: G:\\cluster_40\\cure\\sdonly_40\\RBT10_E09-T01.tiff\n",
      "Weighted PCA value: 0.0926, Label: control, Path: G:\\cluster_40\\cure\\cure_cond7_40\\RBT_01.04_Day7_D09-T01.tiff\n",
      "Weighted PCA value: 0.0945, Label: sd, Path: G:\\cluster_40\\cure\\sdonly_40\\RBT09_B09-T01.tiff\n",
      "Weighted PCA value: 0.0962, Label: sd, Path: G:\\cluster_40\\cure\\sdonly_40\\RBT10_F07-T01.tiff\n",
      "Weighted PCA value: 0.0974, Label: control, Path: G:\\cluster_40\\cure\\cure_cond7_40\\RBT_01.04_Day7_F08-T01.tiff\n",
      "Weighted PCA value: 0.0988, Label: control, Path: G:\\cluster_40\\cure\\cure_cond7_40\\RBTDS1B_Day_7_D05-T01.tiff\n",
      "Weighted PCA value: 0.0988, Label: control, Path: G:\\cluster_40\\cure\\cure_cond7_40\\RBT_01.04_Day7_D08-T01.tiff\n",
      "Weighted PCA value: 0.0996, Label: control, Path: G:\\cluster_40\\cure\\cure_cond7_40\\RBTDS1B_Day_7_C09-T01.tiff\n",
      "Weighted PCA value: 0.0999, Label: sd, Path: G:\\cluster_40\\cure\\sdonly_40\\RBT09_B10-T01.tiff\n",
      "Weighted PCA value: 0.1000, Label: control, Path: G:\\cluster_40\\cure\\cure_cond7_40\\RBT_01.04_Day7_F09-T01.tiff\n",
      "Weighted PCA value: 0.1009, Label: control, Path: G:\\cluster_40\\cure\\cure_cond7_40\\RBTDS1B_Day_7_E08-T01.tiff\n",
      "Weighted PCA value: 0.1015, Label: sd, Path: G:\\cluster_40\\cure\\sdonly_40\\RBT10_E11-T01.tiff\n",
      "Weighted PCA value: 0.1032, Label: control, Path: G:\\cluster_40\\cure\\cure_cond7_40\\RBT_01.04_Day7_F07-T01.tiff\n",
      "Weighted PCA value: 0.1052, Label: sd, Path: G:\\cluster_40\\cure\\sdonly_40\\RBT04_C10-T01.tiff\n",
      "Weighted PCA value: 0.1071, Label: sd, Path: G:\\cluster_40\\cure\\sdonly_40\\RBT14_D07-T01.tiff\n",
      "Weighted PCA value: 0.1071, Label: control, Path: G:\\cluster_40\\cure\\cure_cond7_40\\RBTDS1B_Day_7_D03-T01.tiff\n",
      "Weighted PCA value: 0.1077, Label: control, Path: G:\\cluster_40\\cure\\cure_cond7_40\\RBT_01.04_Day7_F02-T01.tiff\n",
      "Weighted PCA value: 0.1132, Label: control, Path: G:\\cluster_40\\cure\\cure_cond7_40\\RBT_01.04_Day7_D10-T01.tiff\n",
      "Weighted PCA value: 0.1146, Label: control, Path: G:\\cluster_40\\cure\\cure_cond7_40\\RBT_01.04_Day7_D04-T01.tiff\n",
      "Weighted PCA value: 0.1150, Label: sd, Path: G:\\cluster_40\\cure\\sdonly_40\\RBT09_F10-T01.tiff\n",
      "Weighted PCA value: 0.1175, Label: sd, Path: G:\\cluster_40\\cure\\sdonly_40\\RBT04_D07-T01.tiff\n",
      "Weighted PCA value: 0.1186, Label: control, Path: G:\\cluster_40\\cure\\cure_cond7_40\\RBTDS1B_Day_7_F02-T01.tiff\n",
      "Weighted PCA value: 0.1187, Label: control, Path: G:\\cluster_40\\cure\\cure_cond7_40\\RBTDS1B_Day_7_B05-T01.tiff\n",
      "Weighted PCA value: 0.1205, Label: control, Path: G:\\cluster_40\\cure\\cure_cond7_40\\RBT_01.04_Day7_D07-T01.tiff\n",
      "Weighted PCA value: 0.1216, Label: control, Path: G:\\cluster_40\\cure\\cure_cond7_40\\RBTDS1B_Day_7_B02-T01.tiff\n",
      "Weighted PCA value: 0.1223, Label: sd, Path: G:\\cluster_40\\cure\\sdonly_40\\RBT04_G10-T01.tiff\n",
      "Weighted PCA value: 0.1226, Label: control, Path: G:\\cluster_40\\cure\\cure_cond7_40\\RBT_01.04_Day7_D05-T01.tiff\n",
      "Weighted PCA value: 0.1228, Label: control, Path: G:\\cluster_40\\cure\\cure_cond7_40\\RBTDS1B_Day_7_C08-T01.tiff\n",
      "Weighted PCA value: 0.1247, Label: control, Path: G:\\cluster_40\\cure\\cure_cond7_40\\RBT_01.04_Day7_F06-T01.tiff\n",
      "Weighted PCA value: 0.1262, Label: control, Path: G:\\cluster_40\\cure\\cure_cond7_40\\RBTDS1B_Day_7_D04-T01.tiff\n",
      "Weighted PCA value: 0.1268, Label: control, Path: G:\\cluster_40\\cure\\cure_cond7_40\\RBTDS1B_Day_7_C10-T01.tiff\n",
      "Weighted PCA value: 0.1321, Label: control, Path: G:\\cluster_40\\cure\\cure_cond7_40\\RBT_01.04_Day7_F05-T01.tiff\n",
      "Weighted PCA value: 0.1331, Label: control, Path: G:\\cluster_40\\cure\\cure_cond7_40\\RBTDS1B_Day_7_B04-T01.tiff\n",
      "Weighted PCA value: 0.1331, Label: control, Path: G:\\cluster_40\\cure\\cure_cond7_40\\RBT_01.04_Day7_F04-T01.tiff\n",
      "Weighted PCA value: 0.1351, Label: control, Path: G:\\cluster_40\\cure\\cure_cond7_40\\RBTDS1B_Day_7_E09-T01.tiff\n",
      "Weighted PCA value: 0.1367, Label: control, Path: G:\\cluster_40\\cure\\cure_cond7_40\\RBT_01.04_Day7_G09-T01.tiff\n",
      "Weighted PCA value: 0.1391, Label: control, Path: G:\\cluster_40\\cure\\cure_cond7_40\\RBTDS1B_Day_7_E07-T01.tiff\n",
      "Weighted PCA value: 0.1405, Label: control, Path: G:\\cluster_40\\cure\\cure_cond7_40\\RBTDS1B_Day_7_B07-T01.tiff\n",
      "Weighted PCA value: 0.1581, Label: control, Path: G:\\cluster_40\\cure\\cure_cond7_40\\RBTDS1B_Day_7_F03-T01.tiff\n",
      "Weighted PCA value: 0.1628, Label: control, Path: G:\\cluster_40\\cure\\cure_cond7_40\\RBT_01.04_Day7_F03-T01.tiff\n",
      "Weighted PCA value: 0.1636, Label: control, Path: G:\\cluster_40\\cure\\cure_cond7_40\\RBT_01.04_Day7_D11-T01.tiff\n",
      "Weighted PCA value: 0.1691, Label: control, Path: G:\\cluster_40\\cure\\cure_cond7_40\\RBTDS1B_Day_7_B06-T01.tiff\n",
      "Weighted PCA value: 0.1692, Label: control, Path: G:\\cluster_40\\cure\\cure_cond7_40\\RBT_01.04_Day7_G11-T01.tiff\n",
      "\n",
      "Centroids in ascending order:\n",
      "Centroid 1: ex, Value: -0.2174\n",
      "Centroid 2: sd, Value: 0.0847\n",
      "Centroid 3: control, Value: 0.1366\n"
     ]
    }
   ],
   "source": [
    "import numpy as np\n",
    "from sklearn.preprocessing import normalize\n",
    "from sklearn.decomposition import PCA\n",
    "import matplotlib.pyplot as plt\n",
    "\n",
    "# Function to reduce to 2D PCA and compute weighted 1D metric\n",
    "def reduce_to_weighted_1D_pca(X, centroids):\n",
    "    pca = PCA(n_components=2)\n",
    "    X_2D = pca.fit_transform(X)\n",
    "    centroids_2D = pca.transform(centroids)\n",
    "    \n",
    "    # Get explained variance ratios as weights\n",
    "    explained_variance = pca.explained_variance_ratio_\n",
    "    w1, w2 = explained_variance[0], explained_variance[1]\n",
    "    \n",
    "    # Compute the weighted 1D metric\n",
    "    X_weighted_1D = w1 * X_2D[:, 0] + w2 * X_2D[:, 1]\n",
    "    centroids_weighted_1D = w1 * centroids_2D[:, 0] + w2 * centroids_2D[:, 1]\n",
    "    \n",
    "    return X_weighted_1D, centroids_weighted_1D\n",
    "\n",
    "# Apply PCA and compute weighted 1D metric\n",
    "X_weighted_1D, centroids_weighted_1D = reduce_to_weighted_1D_pca(feats_np_norm, best_centroids)\n",
    "\n",
    "# Create a list of tuples containing (Weighted PCA value, path, true_label)\n",
    "pca_path_pairs = list(zip(X_weighted_1D, paths, labels_np))\n",
    "\n",
    "# Sort based on the weighted PCA values\n",
    "sorted_pca_path_pairs = sorted(pca_path_pairs, key=lambda x: x[0])\n",
    "\n",
    "# Separate sorted values, paths, and labels\n",
    "sorted_weighted_X_1D = np.array([x[0] for x in sorted_pca_path_pairs])\n",
    "sorted_paths = [x[1] for x in sorted_pca_path_pairs]\n",
    "sorted_true_labels = [x[2] for x in sorted_pca_path_pairs]\n",
    "\n",
    "# Print sorted weighted PCA values with corresponding paths and true labels\n",
    "true_labels_mapping = ['control', 'sd', 'ex']\n",
    "print(\"\\nSorted Weighted PCA values with corresponding paths and true labels:\")\n",
    "for pca_val, path, label in zip(sorted_weighted_X_1D, sorted_paths, sorted_true_labels):\n",
    "    print(f\"Weighted PCA value: {pca_val:.4f}, Label: {true_labels_mapping[label]}, Path: {path}\")\n",
    "\n",
    "# Print centroid information\n",
    "sorted_centroids_idx = np.argsort(centroids_weighted_1D)\n",
    "sorted_labels = [true_labels_mapping[i] for i in sorted_centroids_idx]\n",
    "\n",
    "print(\"\\nCentroids in ascending order:\")\n",
    "for i, idx in enumerate(sorted_centroids_idx):\n",
    "    print(f\"Centroid {i+1}: {sorted_labels[i]}, Value: {centroids_weighted_1D[idx]:.4f}\")\n"
   ]
  },
  {
   "cell_type": "code",
   "execution_count": 31,
   "metadata": {},
   "outputs": [
    {
     "name": "stdout",
     "output_type": "stream",
     "text": [
      "Debugging Information:\n",
      "Shape of X_1D: (120, 1)\n",
      "Shape of idx (after fix): (120,)\n",
      "Shape of centroids_1D: (3, 1)\n",
      "Unique cluster indices: [0 1 2]\n",
      "Centroid values: [ 0.03042284  0.52752201 -0.55725242]\n",
      "Sorted centroid indices: [2 0 1]\n",
      "\n",
      "Cluster sizes after reindexing:\n",
      "First cluster points: 40\n",
      "Middle cluster points: 40\n",
      "Third cluster points: 40\n",
      "\n",
      "Boundary Information:\n",
      "First cluster range: [-0.6742, -0.2588]\n",
      "Middle cluster range: [-0.1987, 0.2276]\n",
      "Third cluster range: [0.2616, 0.5749]\n",
      "\n",
      "Results:\n",
      "Total points in middle cluster: 40\n",
      "Errors below first cluster max: 0\n",
      "Errors above third cluster min: 0\n",
      "Total errors: 0\n",
      "Accuracy: 1.0000 (100.00%)\n"
     ]
    }
   ],
   "source": [
    "import numpy as np\n",
    "\n",
    "def calculate_middle_cluster_accuracy(X_1D, idx, centroids_1D):\n",
    "    # Convert idx to array if it's not already\n",
    "    if not isinstance(idx, np.ndarray):\n",
    "        idx = np.array(idx)\n",
    "    \n",
    "    # Ensure idx is the same length as X_1D\n",
    "    if idx.shape != (len(X_1D),):\n",
    "        print(\"Warning: Reshaping idx to match data points\")\n",
    "        idx = np.full(len(X_1D), idx)\n",
    "    \n",
    "    print(\"Debugging Information:\")\n",
    "    print(f\"Shape of X_1D: {X_1D.shape}\")\n",
    "    print(f\"Shape of idx (after fix): {idx.shape}\")\n",
    "    print(f\"Shape of centroids_1D: {centroids_1D.shape}\")\n",
    "    print(f\"Unique cluster indices: {np.unique(idx)}\")\n",
    "    \n",
    "    # Sort centroids and get their indices\n",
    "    centroid_values = centroids_1D.flatten()\n",
    "    sorted_indices = np.argsort(centroid_values)\n",
    "    print(f\"Centroid values: {centroid_values}\")\n",
    "    print(f\"Sorted centroid indices: {sorted_indices}\")\n",
    "    \n",
    "    # Map old cluster indices to new ordered indices (0, 1, 2)\n",
    "    index_mapping = {old_idx: new_idx for new_idx, old_idx in enumerate(sorted_indices)}\n",
    "    \n",
    "    # Reindex the clusters to be 0, 1, 2 in order of centroid values\n",
    "    new_idx = np.zeros_like(idx)\n",
    "    for old_idx, new_idx_val in index_mapping.items():\n",
    "        new_idx[idx == old_idx] = new_idx_val\n",
    "    \n",
    "    # Now we work with the reindexed clusters\n",
    "    # Get points belonging to each cluster\n",
    "    first_cluster_points = X_1D[new_idx == 0]\n",
    "    middle_cluster_points = X_1D[new_idx == 1]\n",
    "    third_cluster_points = X_1D[new_idx == 2]\n",
    "    \n",
    "    print(f\"\\nCluster sizes after reindexing:\")\n",
    "    print(f\"First cluster points: {len(first_cluster_points)}\")\n",
    "    print(f\"Middle cluster points: {len(middle_cluster_points)}\")\n",
    "    print(f\"Third cluster points: {len(third_cluster_points)}\")\n",
    "    \n",
    "    # Check if any clusters are empty\n",
    "    if len(first_cluster_points) == 0 or len(middle_cluster_points) == 0 or len(third_cluster_points) == 0:\n",
    "        raise ValueError(\"One or more clusters are empty after reindexing. Please check cluster assignments.\")\n",
    "    \n",
    "    # Calculate boundary values\n",
    "    first_cluster_max = np.max(first_cluster_points)\n",
    "    third_cluster_min = np.min(third_cluster_points)\n",
    "    \n",
    "    # Count errors\n",
    "    errors_below = np.sum(middle_cluster_points < first_cluster_max)\n",
    "    errors_above = np.sum(middle_cluster_points > third_cluster_min)\n",
    "    total_errors = errors_below + errors_above\n",
    "    total_points = 40+40+40\n",
    "    # Calculate accuracy\n",
    "    total_middle_points = len(middle_cluster_points)\n",
    "    accuracy = (total_points - total_errors) / total_points\n",
    "    \n",
    "    # Print boundary information\n",
    "    print(f\"\\nBoundary Information:\")\n",
    "    print(f\"First cluster range: [{np.min(first_cluster_points):.4f}, {first_cluster_max:.4f}]\")\n",
    "    print(f\"Middle cluster range: [{np.min(middle_cluster_points):.4f}, {np.max(middle_cluster_points):.4f}]\")\n",
    "    print(f\"Third cluster range: [{third_cluster_min:.4f}, {np.max(third_cluster_points):.4f}]\")\n",
    "    \n",
    "    return {\n",
    "        'accuracy': accuracy,\n",
    "        'total_points': total_middle_points,\n",
    "        'errors_below': errors_below,\n",
    "        'errors_above': errors_above,\n",
    "        'total_errors': total_errors,\n",
    "        'first_cluster_max': first_cluster_max,\n",
    "        'third_cluster_min': third_cluster_min\n",
    "    }\n",
    "\n",
    "# Try to calculate the accuracy metrics with error handling\n",
    "try:\n",
    "    # Use best_idx from our successful K-means clustering\n",
    "    results = calculate_middle_cluster_accuracy(X_1D_pca, best_idx, centroids_1D_pca)\n",
    "    \n",
    "    print(f\"\\nResults:\")\n",
    "    print(f\"Total points in middle cluster: {results['total_points']}\")\n",
    "    print(f\"Errors below first cluster max: {results['errors_below']}\")\n",
    "    print(f\"Errors above third cluster min: {results['errors_above']}\")\n",
    "    print(f\"Total errors: {results['total_errors']}\")\n",
    "    print(f\"Accuracy: {results['accuracy']:.4f} ({results['accuracy']*100:.2f}%)\")\n",
    "    \n",
    "except ValueError as e:\n",
    "    print(f\"Error: {e}\")\n",
    "    print(\"Additional debugging needed. Please check:\")\n",
    "    print(\"1. The original cluster assignments\")\n",
    "    print(\"2. The K-means clustering results\")\n",
    "    print(\"3. The PCA transformation process\")"
   ]
  },
  {
   "cell_type": "code",
   "execution_count": 32,
   "metadata": {},
   "outputs": [
    {
     "name": "stdout",
     "output_type": "stream",
     "text": [
      "Debugging Information:\n",
      "Shape of X_1D: (120, 1)\n",
      "Shape of idx (after fix): (120,)\n",
      "Shape of centroids_1D: (3, 1)\n",
      "Unique cluster indices: [0 1 2]\n",
      "Centroid values: [ 0.03042284  0.52752201 -0.55725242]\n",
      "Sorted centroid indices: [2 0 1]\n",
      "\n",
      "Cluster sizes after reindexing:\n",
      "First cluster points: 40\n",
      "Middle cluster points: 40\n",
      "Third cluster points: 40\n",
      "\n",
      "Boundary Information:\n",
      "First cluster range: [-0.6742, -0.2588]\n",
      "Middle cluster range: [-0.1987, 0.2276]\n",
      "Third cluster range: [0.2616, 0.5749]\n",
      "\n",
      "Detailed Error Analysis:\n",
      "Original Metric (Middle cluster errors):\n",
      "Middle points below first max: 0\n",
      "Middle points above third min: 0\n",
      "\n",
      "New Metric (Outer clusters errors):\n",
      "First cluster points above middle min: 0\n",
      "Third cluster points below middle max: 0\n",
      "\n",
      "Final Results:\n",
      "\n",
      "Original Metric (Middle cluster errors):\n",
      "Total errors: 0\n",
      "Accuracy: 1.0000 (100.00%)\n",
      "\n",
      "New Metric (Outer clusters errors):\n",
      "Total errors: 0\n",
      "Accuracy: 1.0000 (100.00%)\n"
     ]
    }
   ],
   "source": [
    "import numpy as np\n",
    "\n",
    "def calculate_cluster_accuracy_both_metrics(X_1D, idx, centroids_1D):\n",
    "    # Convert idx to array if it's not already\n",
    "    if not isinstance(idx, np.ndarray):\n",
    "        idx = np.array(idx)\n",
    "    \n",
    "    # Ensure idx is the same length as X_1D\n",
    "    if idx.shape != (len(X_1D),):\n",
    "        print(\"Warning: Reshaping idx to match data points\")\n",
    "        idx = np.full(len(X_1D), idx)\n",
    "    \n",
    "    print(\"Debugging Information:\")\n",
    "    print(f\"Shape of X_1D: {X_1D.shape}\")\n",
    "    print(f\"Shape of idx (after fix): {idx.shape}\")\n",
    "    print(f\"Shape of centroids_1D: {centroids_1D.shape}\")\n",
    "    print(f\"Unique cluster indices: {np.unique(idx)}\")\n",
    "    \n",
    "    # Sort centroids and get their indices\n",
    "    centroid_values = centroids_1D.flatten()\n",
    "    sorted_indices = np.argsort(centroid_values)\n",
    "    print(f\"Centroid values: {centroid_values}\")\n",
    "    print(f\"Sorted centroid indices: {sorted_indices}\")\n",
    "    \n",
    "    # Map old cluster indices to new ordered indices (0, 1, 2)\n",
    "    index_mapping = {old_idx: new_idx for new_idx, old_idx in enumerate(sorted_indices)}\n",
    "    \n",
    "    # Reindex the clusters to be 0, 1, 2 in order of centroid values\n",
    "    new_idx = np.zeros_like(idx)\n",
    "    for old_idx, new_idx_val in index_mapping.items():\n",
    "        new_idx[idx == old_idx] = new_idx_val\n",
    "    \n",
    "    # Now we work with the reindexed clusters\n",
    "    # Get points belonging to each cluster\n",
    "    first_cluster_points = X_1D[new_idx == 0]\n",
    "    middle_cluster_points = X_1D[new_idx == 1]\n",
    "    third_cluster_points = X_1D[new_idx == 2]\n",
    "    \n",
    "    print(f\"\\nCluster sizes after reindexing:\")\n",
    "    print(f\"First cluster points: {len(first_cluster_points)}\")\n",
    "    print(f\"Middle cluster points: {len(middle_cluster_points)}\")\n",
    "    print(f\"Third cluster points: {len(third_cluster_points)}\")\n",
    "    \n",
    "    # Check if any clusters are empty\n",
    "    if len(first_cluster_points) == 0 or len(middle_cluster_points) == 0 or len(third_cluster_points) == 0:\n",
    "        raise ValueError(\"One or more clusters are empty after reindexing. Please check cluster assignments.\")\n",
    "    \n",
    "    # Calculate boundary values for original metric\n",
    "    first_cluster_max = np.max(first_cluster_points)\n",
    "    third_cluster_min = np.min(third_cluster_points)\n",
    "    \n",
    "    # Calculate boundary values for new metric\n",
    "    middle_cluster_min = np.min(middle_cluster_points)\n",
    "    middle_cluster_max = np.max(middle_cluster_points)\n",
    "    \n",
    "    # Count errors for original metric (middle cluster errors)\n",
    "    middle_errors_below = np.sum(middle_cluster_points < first_cluster_max)\n",
    "    middle_errors_above = np.sum(middle_cluster_points > third_cluster_min)\n",
    "    total_middle_errors = middle_errors_below + middle_errors_above\n",
    "    \n",
    "    # Count errors for new metric (outer clusters errors)\n",
    "    first_cluster_errors = np.sum(first_cluster_points > middle_cluster_min)\n",
    "    third_cluster_errors = np.sum(third_cluster_points < middle_cluster_max)\n",
    "    total_outer_errors = first_cluster_errors + third_cluster_errors\n",
    "    \n",
    "    total_points = len(first_cluster_points) + len(middle_cluster_points) + len(third_cluster_points)\n",
    "    \n",
    "    # Calculate accuracies\n",
    "    middle_accuracy = (total_points - total_middle_errors) / total_points\n",
    "    outer_accuracy = (total_points - total_outer_errors) / total_points\n",
    "    \n",
    "    # Print boundary information\n",
    "    print(f\"\\nBoundary Information:\")\n",
    "    print(f\"First cluster range: [{np.min(first_cluster_points):.4f}, {first_cluster_max:.4f}]\")\n",
    "    print(f\"Middle cluster range: [{middle_cluster_min:.4f}, {middle_cluster_max:.4f}]\")\n",
    "    print(f\"Third cluster range: [{third_cluster_min:.4f}, {np.max(third_cluster_points):.4f}]\")\n",
    "    \n",
    "    # Print detailed error counts for debugging\n",
    "    print(\"\\nDetailed Error Analysis:\")\n",
    "    print(\"Original Metric (Middle cluster errors):\")\n",
    "    print(f\"Middle points below first max: {middle_errors_below}\")\n",
    "    print(f\"Middle points above third min: {middle_errors_above}\")\n",
    "    print(\"\\nNew Metric (Outer clusters errors):\")\n",
    "    print(f\"First cluster points above middle min: {first_cluster_errors}\")\n",
    "    print(f\"Third cluster points below middle max: {third_cluster_errors}\")\n",
    "    \n",
    "    return {\n",
    "        # Original metric results\n",
    "        'middle_accuracy': middle_accuracy,\n",
    "        'middle_errors_below': middle_errors_below,\n",
    "        'middle_errors_above': middle_errors_above,\n",
    "        'total_middle_errors': total_middle_errors,\n",
    "        \n",
    "        # New metric results\n",
    "        'outer_accuracy': outer_accuracy,\n",
    "        'first_cluster_errors': first_cluster_errors,\n",
    "        'third_cluster_errors': third_cluster_errors,\n",
    "        'total_outer_errors': total_outer_errors,\n",
    "        \n",
    "        # Boundary values\n",
    "        'first_cluster_max': first_cluster_max,\n",
    "        'middle_cluster_min': middle_cluster_min,\n",
    "        'middle_cluster_max': middle_cluster_max,\n",
    "        'third_cluster_min': third_cluster_min,\n",
    "        \n",
    "        'total_points': total_points\n",
    "    }\n",
    "\n",
    "# Try to calculate both accuracy metrics with error handling\n",
    "try:\n",
    "    # Use best_idx from the K-means clustering\n",
    "    results = calculate_cluster_accuracy_both_metrics(X_1D_pca, best_idx, centroids_1D_pca)\n",
    "    \n",
    "    print(f\"\\nFinal Results:\")\n",
    "    print(\"\\nOriginal Metric (Middle cluster errors):\")\n",
    "    print(f\"Total errors: {results['total_middle_errors']}\")\n",
    "    print(f\"Accuracy: {results['middle_accuracy']:.4f} ({results['middle_accuracy']*100:.2f}%)\")\n",
    "    \n",
    "    print(\"\\nNew Metric (Outer clusters errors):\")\n",
    "    print(f\"Total errors: {results['total_outer_errors']}\")\n",
    "    print(f\"Accuracy: {results['outer_accuracy']:.4f} ({results['outer_accuracy']*100:.2f}%)\")\n",
    "    \n",
    "except ValueError as e:\n",
    "    print(f\"Error: {e}\")\n",
    "    print(\"Additional debugging needed. Please check:\")\n",
    "    print(\"1. The original cluster assignments\")\n",
    "    print(\"2. The K-means clustering results\")\n",
    "    print(\"3. The PCA transformation process\")"
   ]
  },
  {
   "cell_type": "markdown",
   "metadata": {},
   "source": [
    "# Function to reduce the dimensionality of data points and centroids to 2D using PCA\n",
    "def reduce_to_2D_pca(X, centroids):\n",
    "    # Initialize PCA with 2 components\n",
    "    pca = PCA(n_components=2)\n",
    "    \n",
    "    # Apply PCA to the data points (X) and centroids\n",
    "    X_2D = pca.fit_transform(X)  # Reducing original data points\n",
    "    centroids_2D = pca.transform(centroids)  # Reducing centroids\n",
    "\n",
    "    return X_2D, centroids_2D\n",
    "\n",
    "# Function to plot 2D visualization of clustered data points and centroids with true labels\n",
    "def plot_2D_clusters_with_labels(X_2D, centroids_2D, idx, labels, K):\n",
    "    plt.figure(figsize=(10, 7))\n",
    "    \n",
    "    # Define color map for clusters\n",
    "    colors = plt.cm.rainbow(np.linspace(0, 1, K))\n",
    "    \n",
    "    # Plot data points colored by their cluster assignment\n",
    "    for k in range(K):\n",
    "        cluster_points = X_2D[idx == k]\n",
    "        cluster_labels = labels[idx == k]  # Get true labels for the current cluster\n",
    "        \n",
    "        # Scatter plot for each cluster\n",
    "        plt.scatter(cluster_points[:, 0], cluster_points[:, 1], \n",
    "                    c=[colors[k]], label=f\"Cluster {k+1}\", alpha=0.6)\n",
    "        \n",
    "        # Annotate each point with its true label\n",
    "        for i in range(cluster_points.shape[0]):\n",
    "            plt.annotate(str(cluster_labels[i]), \n",
    "                         (cluster_points[i, 0], cluster_points[i, 1]), \n",
    "                         fontsize=8, alpha=0.75)\n",
    "\n",
    "    # Plot centroids as larger markers\n",
    "    plt.scatter(centroids_2D[:, 0], centroids_2D[:, 1], \n",
    "                c='k', marker='x', s=200, label='Centroids')\n",
    "\n",
    "    plt.title(\"2D Visualization of Clusters using PCA with True Labels\")\n",
    "    plt.xlabel(\"Component 1\")\n",
    "    plt.ylabel(\"Component 2\")\n",
    "    plt.legend()\n",
    "    plt.grid()\n",
    "    plt.show()\n"
   ]
  },
  {
   "cell_type": "markdown",
   "metadata": {},
   "source": [
    "# Apply PCA after K-Means clustering for 2D visualization\n",
    "X_2D_pca, centroids_2D_pca = reduce_to_2D_pca(feats_np_norm, centroids)\n",
    "\n",
    "# Plot the 2D clusters with centroids and true labels\n",
    "plot_2D_clusters_with_labels(X_2D_pca, centroids_2D_pca, idx, labels_np, K)\n"
   ]
  },
  {
   "cell_type": "code",
   "execution_count": null,
   "metadata": {},
   "outputs": [],
   "source": []
  }
 ],
 "metadata": {
  "kernelspec": {
   "display_name": "master",
   "language": "python",
   "name": "python3"
  },
  "language_info": {
   "codemirror_mode": {
    "name": "ipython",
    "version": 3
   },
   "file_extension": ".py",
   "mimetype": "text/x-python",
   "name": "python",
   "nbconvert_exporter": "python",
   "pygments_lexer": "ipython3",
   "version": "3.12.3"
  }
 },
 "nbformat": 4,
 "nbformat_minor": 2
}
