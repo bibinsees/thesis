{
 "cells": [
  {
   "cell_type": "code",
   "execution_count": 1,
   "metadata": {},
   "outputs": [],
   "source": [
    "import os\n",
    "import numpy as np\n",
    "import torch\n",
    "from torch import nn, optim\n",
    "from torch.utils.data import Dataset, DataLoader, random_split\n",
    "from torchvision import transforms\n",
    "import torchvision\n",
    "import tifffile as tiff\n",
    "import matplotlib.pyplot as plt\n",
    "import time\n",
    "from tqdm import tqdm\n",
    "from copy import deepcopy\n",
    "from sklearn.model_selection import train_test_split\n",
    "from sklearn.metrics import accuracy_score\n",
    "import random"
   ]
  },
  {
   "cell_type": "code",
   "execution_count": 2,
   "metadata": {},
   "outputs": [],
   "source": [
    "# Set seed for reproducibility\n",
    "def set_seed(seed):\n",
    "    random.seed(seed)\n",
    "    np.random.seed(seed)\n",
    "    torch.manual_seed(seed)\n",
    "    if torch.cuda.is_available():\n",
    "        torch.cuda.manual_seed(seed)\n",
    "        torch.cuda.manual_seed_all(seed)\n",
    "    torch.backends.cudnn.deterministic = True\n",
    "    torch.backends.cudnn.benchmark = False\n",
    "\n",
    "# Set seed\n",
    "set_seed(42)"
   ]
  },
  {
   "cell_type": "code",
   "execution_count": 3,
   "metadata": {},
   "outputs": [],
   "source": [
    "# Set the device\n",
    "device = torch.device(\"cuda\" if torch.cuda.is_available() else \"cpu\")"
   ]
  },
  {
   "cell_type": "markdown",
   "metadata": {},
   "source": [
    "# Logistic"
   ]
  },
  {
   "cell_type": "code",
   "execution_count": 4,
   "metadata": {},
   "outputs": [],
   "source": [
    "class LabeledImageDataset(Dataset):\n",
    "    def __init__(self, image_files, labels, transform=None):\n",
    "        self.image_files = image_files\n",
    "        self.labels = labels\n",
    "        self.transform = transform\n",
    "        self.resize_transform = transforms.Resize((96, 96))\n",
    "\n",
    "    def __len__(self):\n",
    "        return len(self.image_files)\n",
    "\n",
    "    def __getitem__(self, idx):\n",
    "        img_path = self.image_files[idx]\n",
    "        image = tiff.imread(img_path)\n",
    "\n",
    "        # Ensure the image has 3 layers (channels)\n",
    "        if image.shape[0] != 3:\n",
    "            raise ValueError(f\"Image {img_path} does not have exactly 3 layers.\")\n",
    "\n",
    "        # Normalize the 16-bit image to [0, 1]\n",
    "        image = image.astype(np.float32) / 65535.0\n",
    "\n",
    "        # Convert to a torch tensor and add channel dimension\n",
    "        image = torch.tensor(image, dtype=torch.float32)\n",
    "        \n",
    "        # Apply resize transform\n",
    "        image = self.resize_transform(image)\n",
    "\n",
    "        label = self.labels[idx]\n",
    "\n",
    "        return image, label\n",
    "\n",
    "def load_and_split_data(root_dir, test_size=0.2):\n",
    "    #classes = ['untreated', 'single_dose', 'drug_screened']\n",
    "    classes = ['sort_ds_ohne_cond10_ex', 'sort_ex_85']\n",
    "    image_files = []\n",
    "    labels = []\n",
    "\n",
    "    for idx, class_name in enumerate(classes):\n",
    "        class_dir = os.path.join(root_dir, class_name)\n",
    "        files = [os.path.join(class_dir, file) for file in os.listdir(class_dir) if file.endswith(('.tiff', '.tif'))]\n",
    "        image_files.extend(files)\n",
    "        labels.extend([idx] * len(files))\n",
    "    \n",
    "    # Check if the labels correctly reflect the classes\n",
    "    #print(\"Label distribution:\", {classes[i]: labels.count(i) for i in range(len(classes))})\n",
    "    \n",
    "    # Split data into training and test sets\n",
    "    train_files, test_files, train_labels, test_labels = train_test_split(\n",
    "        image_files, labels, test_size=test_size, stratify=labels, random_state=42)\n",
    "\n",
    "    return train_files, test_files, train_labels, test_labels\n",
    "\n",
    "\n",
    "# Directories for labeled data\n",
    "image_dir = r\"C:\\Users\\k54739\\Bibi_new_thesis\\thesis\\softmax_dataset\\2_class\\final_eval\"\n",
    "\n",
    "# Load and split the data\n",
    "train_files, test_files, train_labels, test_labels = load_and_split_data(image_dir, test_size=0.2)\n",
    "\n",
    "# Create the labeled datasets\n",
    "train_labeled_dataset = LabeledImageDataset(train_files, train_labels)\n",
    "test_labeled_dataset = LabeledImageDataset(test_files, test_labels)\n",
    "\n",
    "# Define DataLoaders\n",
    "batch_size = 16\n",
    "train_loader_labeled = DataLoader(train_labeled_dataset, batch_size=batch_size, shuffle=True, drop_last=False, pin_memory=True, num_workers=0)\n",
    "test_loader_labeled = DataLoader(test_labeled_dataset, batch_size=batch_size, shuffle=False, drop_last=False, pin_memory=True, num_workers=0)"
   ]
  },
  {
   "cell_type": "markdown",
   "metadata": {},
   "source": [
    "class LabeledImageDataset(Dataset):\n",
    "    def __init__(self, image_files, labels, transform=None):\n",
    "        self.image_files = image_files\n",
    "        self.labels = labels\n",
    "        self.transform = transform\n",
    "        self.resize_transform = transforms.Resize((96, 96))\n",
    "\n",
    "    def __len__(self):\n",
    "        return len(self.image_files)\n",
    "\n",
    "    def __getitem__(self, idx):\n",
    "        img_path = self.image_files[idx]\n",
    "        image = tiff.imread(img_path)\n",
    "\n",
    "        # Ensure the image has 3 layers (channels)\n",
    "        if image.shape[0] != 3:\n",
    "            raise ValueError(f\"Image {img_path} does not have exactly 3 layers.\")\n",
    "\n",
    "        # Normalize the 16-bit image to [0, 1]\n",
    "        image = image.astype(np.float32) / 65535.0\n",
    "\n",
    "        # Convert to a torch tensor and add channel dimension\n",
    "        image = torch.tensor(image, dtype=torch.float32)\n",
    "        \n",
    "        # Apply resize transform\n",
    "        image = self.resize_transform(image)\n",
    "\n",
    "        label = self.labels[idx]\n",
    "\n",
    "        return image, label\n",
    "\n",
    "def load_and_split_data(root_dir, test_size=0.2):\n",
    "    #classes = ['untreated', 'single_dose', 'drug_screened']\n",
    "    classes = ['ex', 'sd', 'cond7_all']\n",
    "    image_files = []\n",
    "    labels = []\n",
    "\n",
    "    for idx, class_name in enumerate(classes):\n",
    "        class_dir = os.path.join(root_dir, class_name)\n",
    "        files = [os.path.join(class_dir, file) for file in os.listdir(class_dir) if file.endswith(('.tiff', '.tif'))]\n",
    "        image_files.extend(files)\n",
    "        labels.extend([idx] * len(files))\n",
    "    \n",
    "    # Check if the labels correctly reflect the classes\n",
    "    #print(\"Label distribution:\", {classes[i]: labels.count(i) for i in range(len(classes))})\n",
    "    \n",
    "    # Split data into training and test sets\n",
    "    train_files, test_files, train_labels, test_labels = train_test_split(\n",
    "        image_files, labels, test_size=test_size, stratify=labels, random_state=42)\n",
    "\n",
    "    return train_files, test_files, train_labels, test_labels\n",
    "\n",
    "\n",
    "# Directories for labeled data\n",
    "image_dir = r\"C:\\Users\\k54739\\Bibi_new_thesis\\thesis\\classification\"\n",
    "\n",
    "# Load and split the data\n",
    "train_files, test_files, train_labels, test_labels = load_and_split_data(image_dir, test_size=0.2)\n",
    "\n",
    "# Create the labeled datasets\n",
    "train_labeled_dataset = LabeledImageDataset(train_files, train_labels)\n",
    "test_labeled_dataset = LabeledImageDataset(test_files, test_labels)\n",
    "\n",
    "# Define DataLoaders\n",
    "batch_size = 16\n",
    "train_loader_labeled = DataLoader(train_labeled_dataset, batch_size=batch_size, shuffle=True, drop_last=False, pin_memory=True, num_workers=0)\n",
    "test_loader_labeled = DataLoader(test_labeled_dataset, batch_size=batch_size, shuffle=False, drop_last=False, pin_memory=True, num_workers=0)"
   ]
  },
  {
   "cell_type": "code",
   "execution_count": 5,
   "metadata": {},
   "outputs": [
    {
     "name": "stdout",
     "output_type": "stream",
     "text": [
      "torch.Size([16, 3, 96, 96]) torch.Size([16]) torch.float32\n",
      "tensor([0, 0, 0, 0, 0, 0, 1, 0, 0, 0, 1, 1, 0, 0, 1, 1])\n"
     ]
    }
   ],
   "source": [
    "for anchor,label in train_loader_labeled:\n",
    "    print(anchor.shape, label.shape, anchor.dtype)\n",
    "    print(label)\n",
    "    break"
   ]
  },
  {
   "cell_type": "code",
   "execution_count": 6,
   "metadata": {},
   "outputs": [],
   "source": [
    "def prepare_data_features(dataloader):\n",
    "    feats, labels = [], []\n",
    "    \n",
    "    for batch_imgs, batch_labels in tqdm(dataloader):\n",
    "        batch_imgs = batch_imgs.to(device)\n",
    "        \n",
    "        # Flatten the images from (N, C, H, W) to (N, C*H*W)\n",
    "        batch_feats = batch_imgs.view(batch_imgs.size(0), -1)  # Flatten the images\n",
    "        print(f\"Batch features shape: {batch_feats.shape}\")  # Check the feature shape\n",
    "        print(f\"Batch labels shape: {batch_labels.shape}\")\n",
    "        \n",
    "        feats.append(batch_feats.detach().cpu())\n",
    "        labels.append(batch_labels)\n",
    "\n",
    "    feats = torch.cat(feats, dim=0)\n",
    "    labels = torch.cat(labels, dim=0)\n",
    "    \n",
    "    print(f\"Features shape after concatenation: {feats.shape}\")\n",
    "    print(f\"Labels shape after concatenation: {labels.shape}\")\n",
    "\n",
    "    return torch.utils.data.TensorDataset(feats, labels)\n"
   ]
  },
  {
   "cell_type": "code",
   "execution_count": 7,
   "metadata": {},
   "outputs": [
    {
     "name": "stderr",
     "output_type": "stream",
     "text": [
      "  7%|▋         | 1/15 [00:00<00:09,  1.50it/s]"
     ]
    },
    {
     "name": "stdout",
     "output_type": "stream",
     "text": [
      "Batch features shape: torch.Size([16, 27648])\n",
      "Batch labels shape: torch.Size([16])\n"
     ]
    },
    {
     "name": "stderr",
     "output_type": "stream",
     "text": [
      " 13%|█▎        | 2/15 [00:01<00:08,  1.51it/s]"
     ]
    },
    {
     "name": "stdout",
     "output_type": "stream",
     "text": [
      "Batch features shape: torch.Size([16, 27648])\n",
      "Batch labels shape: torch.Size([16])\n"
     ]
    },
    {
     "name": "stderr",
     "output_type": "stream",
     "text": [
      " 20%|██        | 3/15 [00:01<00:07,  1.54it/s]"
     ]
    },
    {
     "name": "stdout",
     "output_type": "stream",
     "text": [
      "Batch features shape: torch.Size([16, 27648])\n",
      "Batch labels shape: torch.Size([16])\n"
     ]
    },
    {
     "name": "stderr",
     "output_type": "stream",
     "text": [
      " 27%|██▋       | 4/15 [00:02<00:07,  1.55it/s]"
     ]
    },
    {
     "name": "stdout",
     "output_type": "stream",
     "text": [
      "Batch features shape: torch.Size([16, 27648])\n",
      "Batch labels shape: torch.Size([16])\n"
     ]
    },
    {
     "name": "stderr",
     "output_type": "stream",
     "text": [
      " 33%|███▎      | 5/15 [00:03<00:06,  1.53it/s]"
     ]
    },
    {
     "name": "stdout",
     "output_type": "stream",
     "text": [
      "Batch features shape: torch.Size([16, 27648])\n",
      "Batch labels shape: torch.Size([16])\n"
     ]
    },
    {
     "name": "stderr",
     "output_type": "stream",
     "text": [
      " 40%|████      | 6/15 [00:03<00:05,  1.54it/s]"
     ]
    },
    {
     "name": "stdout",
     "output_type": "stream",
     "text": [
      "Batch features shape: torch.Size([16, 27648])\n",
      "Batch labels shape: torch.Size([16])\n"
     ]
    },
    {
     "name": "stderr",
     "output_type": "stream",
     "text": [
      " 47%|████▋     | 7/15 [00:04<00:05,  1.54it/s]"
     ]
    },
    {
     "name": "stdout",
     "output_type": "stream",
     "text": [
      "Batch features shape: torch.Size([16, 27648])\n",
      "Batch labels shape: torch.Size([16])\n"
     ]
    },
    {
     "name": "stderr",
     "output_type": "stream",
     "text": [
      " 53%|█████▎    | 8/15 [00:05<00:04,  1.55it/s]"
     ]
    },
    {
     "name": "stdout",
     "output_type": "stream",
     "text": [
      "Batch features shape: torch.Size([16, 27648])\n",
      "Batch labels shape: torch.Size([16])\n"
     ]
    },
    {
     "name": "stderr",
     "output_type": "stream",
     "text": [
      " 60%|██████    | 9/15 [00:05<00:03,  1.54it/s]"
     ]
    },
    {
     "name": "stdout",
     "output_type": "stream",
     "text": [
      "Batch features shape: torch.Size([16, 27648])\n",
      "Batch labels shape: torch.Size([16])\n"
     ]
    },
    {
     "name": "stderr",
     "output_type": "stream",
     "text": [
      " 67%|██████▋   | 10/15 [00:06<00:03,  1.56it/s]"
     ]
    },
    {
     "name": "stdout",
     "output_type": "stream",
     "text": [
      "Batch features shape: torch.Size([16, 27648])\n",
      "Batch labels shape: torch.Size([16])\n"
     ]
    },
    {
     "name": "stderr",
     "output_type": "stream",
     "text": [
      " 73%|███████▎  | 11/15 [00:07<00:02,  1.55it/s]"
     ]
    },
    {
     "name": "stdout",
     "output_type": "stream",
     "text": [
      "Batch features shape: torch.Size([16, 27648])\n",
      "Batch labels shape: torch.Size([16])\n"
     ]
    },
    {
     "name": "stderr",
     "output_type": "stream",
     "text": [
      " 80%|████████  | 12/15 [00:07<00:01,  1.54it/s]"
     ]
    },
    {
     "name": "stdout",
     "output_type": "stream",
     "text": [
      "Batch features shape: torch.Size([16, 27648])\n",
      "Batch labels shape: torch.Size([16])\n"
     ]
    },
    {
     "name": "stderr",
     "output_type": "stream",
     "text": [
      " 87%|████████▋ | 13/15 [00:08<00:01,  1.52it/s]"
     ]
    },
    {
     "name": "stdout",
     "output_type": "stream",
     "text": [
      "Batch features shape: torch.Size([16, 27648])\n",
      "Batch labels shape: torch.Size([16])\n"
     ]
    },
    {
     "name": "stderr",
     "output_type": "stream",
     "text": [
      " 93%|█████████▎| 14/15 [00:09<00:00,  1.51it/s]"
     ]
    },
    {
     "name": "stdout",
     "output_type": "stream",
     "text": [
      "Batch features shape: torch.Size([16, 27648])\n",
      "Batch labels shape: torch.Size([16])\n"
     ]
    },
    {
     "name": "stderr",
     "output_type": "stream",
     "text": [
      "100%|██████████| 15/15 [00:09<00:00,  1.54it/s]\n"
     ]
    },
    {
     "name": "stdout",
     "output_type": "stream",
     "text": [
      "Batch features shape: torch.Size([15, 27648])\n",
      "Batch labels shape: torch.Size([15])\n",
      "Features shape after concatenation: torch.Size([239, 27648])\n",
      "Labels shape after concatenation: torch.Size([239])\n"
     ]
    },
    {
     "name": "stderr",
     "output_type": "stream",
     "text": [
      " 25%|██▌       | 1/4 [00:00<00:01,  1.55it/s]"
     ]
    },
    {
     "name": "stdout",
     "output_type": "stream",
     "text": [
      "Batch features shape: torch.Size([16, 27648])\n",
      "Batch labels shape: torch.Size([16])\n"
     ]
    },
    {
     "name": "stderr",
     "output_type": "stream",
     "text": [
      " 50%|█████     | 2/4 [00:01<00:01,  1.53it/s]"
     ]
    },
    {
     "name": "stdout",
     "output_type": "stream",
     "text": [
      "Batch features shape: torch.Size([16, 27648])\n",
      "Batch labels shape: torch.Size([16])\n"
     ]
    },
    {
     "name": "stderr",
     "output_type": "stream",
     "text": [
      " 75%|███████▌  | 3/4 [00:01<00:00,  1.53it/s]"
     ]
    },
    {
     "name": "stdout",
     "output_type": "stream",
     "text": [
      "Batch features shape: torch.Size([16, 27648])\n",
      "Batch labels shape: torch.Size([16])\n"
     ]
    },
    {
     "name": "stderr",
     "output_type": "stream",
     "text": [
      "100%|██████████| 4/4 [00:02<00:00,  1.64it/s]"
     ]
    },
    {
     "name": "stdout",
     "output_type": "stream",
     "text": [
      "Batch features shape: torch.Size([12, 27648])\n",
      "Batch labels shape: torch.Size([12])\n",
      "Features shape after concatenation: torch.Size([60, 27648])\n",
      "Labels shape after concatenation: torch.Size([60])\n"
     ]
    },
    {
     "name": "stderr",
     "output_type": "stream",
     "text": [
      "\n"
     ]
    }
   ],
   "source": [
    "# Extract features for train and test datasets\n",
    "train_feats = prepare_data_features(train_loader_labeled)\n",
    "test_feats = prepare_data_features(test_loader_labeled)"
   ]
  },
  {
   "cell_type": "code",
   "execution_count": 8,
   "metadata": {},
   "outputs": [],
   "source": [
    "# Logistic Regression model definition\n",
    "class LogisticRegression(nn.Module):\n",
    "    def __init__(self, feature_dim, num_classes):\n",
    "        super(LogisticRegression, self).__init__()\n",
    "        self.linear = nn.Linear(feature_dim, num_classes)\n",
    "\n",
    "    def forward(self, x):\n",
    "        return self.linear(x)"
   ]
  },
  {
   "cell_type": "code",
   "execution_count": 9,
   "metadata": {},
   "outputs": [],
   "source": [
    "# Training function\n",
    "def train_logistic_regression(model, train_loader, optimizer, scheduler, device):\n",
    "    model.train()\n",
    "    total_loss = 0.0\n",
    "    all_preds = []\n",
    "    all_labels = []\n",
    "\n",
    "    for batch_feats, batch_labels in tqdm(train_loader, desc=\"Training\"):\n",
    "        batch_feats, batch_labels = batch_feats.to(device), batch_labels.to(device)\n",
    "        \n",
    "        optimizer.zero_grad()\n",
    "        outputs = model(batch_feats)\n",
    "        loss = nn.functional.cross_entropy(outputs, batch_labels)\n",
    "        loss.backward()\n",
    "        optimizer.step()\n",
    "        \n",
    "        # Update learning rate scheduler\n",
    "        scheduler.step()\n",
    "\n",
    "        total_loss += loss.item()\n",
    "\n",
    "        preds = outputs.argmax(dim=1)\n",
    "        all_preds.extend(preds.cpu().numpy())\n",
    "        all_labels.extend(batch_labels.cpu().numpy())\n",
    "\n",
    "    avg_loss = total_loss / len(train_loader)\n",
    "    accuracy = accuracy_score(all_labels, all_preds)\n",
    "    return avg_loss, accuracy"
   ]
  },
  {
   "cell_type": "code",
   "execution_count": 10,
   "metadata": {},
   "outputs": [],
   "source": [
    "# Evaluation function\n",
    "def evaluate_logistic_regression(model, test_loader, criterion, device):\n",
    "    model.eval()\n",
    "    total_loss = 0.0\n",
    "    all_preds = []\n",
    "    all_labels = []\n",
    "\n",
    "    with torch.no_grad():\n",
    "        for batch_feats, batch_labels in tqdm(test_loader, desc=\"Evaluating\"):\n",
    "            batch_feats, batch_labels = batch_feats.to(device), batch_labels.to(device)\n",
    "            \n",
    "            outputs = model(batch_feats)\n",
    "            loss = nn.functional.cross_entropy(outputs, batch_labels)\n",
    "            total_loss += loss.item()\n",
    "\n",
    "            preds = outputs.argmax(dim=1)\n",
    "            all_preds.extend(preds.cpu().numpy())\n",
    "            all_labels.extend(batch_labels.cpu().numpy())\n",
    "\n",
    "    avg_loss = total_loss / len(test_loader)\n",
    "    accuracy = accuracy_score(all_labels, all_preds)\n",
    "    return avg_loss, accuracy"
   ]
  },
  {
   "cell_type": "code",
   "execution_count": 11,
   "metadata": {},
   "outputs": [],
   "source": [
    "def train_logreg_simplified(batch_size, train_feats_data, test_feats_data, feature_dim, num_classes, lr=5e-4, weight_decay=1e-4, max_epochs=50):\n",
    "    device = torch.device(\"cuda\" if torch.cuda.is_available() else \"cpu\")\n",
    "\n",
    "    # Data loaders\n",
    "    train_loader = DataLoader(train_feats_data, batch_size=batch_size, shuffle=True,\n",
    "                              drop_last=False, pin_memory=True, num_workers=0)\n",
    "    test_loader = DataLoader(test_feats_data, batch_size=batch_size, shuffle=False,\n",
    "                             drop_last=False, pin_memory=True, num_workers=0)\n",
    "\n",
    "    # Model, loss, and optimizer\n",
    "    model = LogisticRegression(feature_dim, num_classes).to(device)\n",
    "    criterion = nn.CrossEntropyLoss()\n",
    "    optimizer = optim.AdamW(model.parameters(), lr=lr, weight_decay=weight_decay)\n",
    "    scheduler = optim.lr_scheduler.MultiStepLR(optimizer,\n",
    "                                               milestones=[int(max_epochs * 0.6), int(max_epochs * 0.8)],\n",
    "                                               gamma=0.1)\n",
    "\n",
    "    # Store metrics for plotting\n",
    "    train_losses = []\n",
    "    test_losses = []\n",
    "    train_accuracies = []\n",
    "    test_accuracies = []\n",
    "\n",
    "    # Track best metrics\n",
    "    best_train_acc = -1.0\n",
    "    best_train_epoch = -1\n",
    "\n",
    "    best_test_acc = -1.0\n",
    "    best_test_epoch = -1\n",
    "\n",
    "    best_test_loss = float('inf')\n",
    "    best_test_loss_acc = -1.0\n",
    "    best_model_state_loss = None\n",
    "\n",
    "    for epoch in range(max_epochs):\n",
    "        print(f\"Epoch {epoch+1}/{max_epochs}\")\n",
    "\n",
    "        train_loss, train_acc = train_logistic_regression(model, train_loader, optimizer, scheduler, device)\n",
    "        test_loss, test_acc = evaluate_logistic_regression(model, test_loader, criterion, device)\n",
    "\n",
    "        print(f\"Training loss: {train_loss:.4f}, Training accuracy: {train_acc:.4f}\")\n",
    "        print(f\"Test loss: {test_loss:.4f}, Test accuracy: {test_acc:.4f}\")\n",
    "\n",
    "        train_losses.append(train_loss)\n",
    "        test_losses.append(test_loss)\n",
    "        train_accuracies.append(train_acc)\n",
    "        test_accuracies.append(test_acc)\n",
    "\n",
    "        # Track best train accuracy\n",
    "        if train_acc > best_train_acc:\n",
    "            best_train_acc = train_acc\n",
    "            best_train_epoch = epoch + 1\n",
    "\n",
    "        # Track best test accuracy\n",
    "        if test_acc > best_test_acc:\n",
    "            best_test_acc = test_acc\n",
    "            best_test_epoch = epoch + 1\n",
    "\n",
    "        # Check for best loss model\n",
    "        # Condition: strictly lower loss OR equal loss but higher accuracy\n",
    "        if (test_loss < best_test_loss) or (test_loss == best_test_loss and test_acc > best_test_loss_acc):\n",
    "            best_test_loss = test_loss\n",
    "            best_test_loss_acc = test_acc\n",
    "            best_model_state_loss = model.state_dict()\n",
    "\n",
    "    # Plot results\n",
    "    plt.figure(figsize=(15, 5))\n",
    "\n",
    "    # Loss curve\n",
    "    plt.subplot(1, 2, 1)\n",
    "    plt.plot(range(max_epochs), train_losses, label='Train Loss')\n",
    "    plt.plot(range(max_epochs), test_losses, label='Test Loss')\n",
    "    plt.xlabel('Epoch')\n",
    "    plt.ylabel('Loss')\n",
    "    plt.title('Loss Curve')\n",
    "    plt.legend()\n",
    "\n",
    "    # Accuracy curve\n",
    "    plt.subplot(1, 2, 2)\n",
    "    plt.plot(range(max_epochs), train_accuracies, label='Train Accuracy')\n",
    "    plt.plot(range(max_epochs), test_accuracies, label='Test Accuracy')\n",
    "    plt.xlabel('Epoch')\n",
    "    plt.ylabel('Accuracy')\n",
    "    plt.title('Accuracy Curve')\n",
    "    plt.legend()\n",
    "\n",
    "    plt.tight_layout()\n",
    "    plt.show()\n",
    "\n",
    "    # Return metrics and models\n",
    "    return {\n",
    "        \"best_train_acc\": best_train_acc,\n",
    "        \"best_train_epoch\": best_train_epoch,\n",
    "        \"best_test_acc\": best_test_acc,\n",
    "        \"best_test_epoch\": best_test_epoch\n",
    "    }\n"
   ]
  },
  {
   "cell_type": "code",
   "execution_count": 15,
   "metadata": {},
   "outputs": [
    {
     "name": "stdout",
     "output_type": "stream",
     "text": [
      "Epoch 1/500\n"
     ]
    },
    {
     "name": "stderr",
     "output_type": "stream",
     "text": [
      "Training: 100%|██████████| 8/8 [00:00<00:00, 67.68it/s]\n",
      "Evaluating: 100%|██████████| 2/2 [00:00<00:00, 89.83it/s]\n"
     ]
    },
    {
     "name": "stdout",
     "output_type": "stream",
     "text": [
      "Training loss: 1.8537, Training accuracy: 0.6276\n",
      "Test loss: 1.9541, Test accuracy: 0.7167\n",
      "Epoch 2/500\n"
     ]
    },
    {
     "name": "stderr",
     "output_type": "stream",
     "text": [
      "Training: 100%|██████████| 8/8 [00:00<00:00, 43.04it/s]\n",
      "Evaluating: 100%|██████████| 2/2 [00:00<00:00, 76.80it/s]\n"
     ]
    },
    {
     "name": "stdout",
     "output_type": "stream",
     "text": [
      "Training loss: 1.3281, Training accuracy: 0.5397\n",
      "Test loss: 1.0882, Test accuracy: 0.7167\n",
      "Epoch 3/500\n"
     ]
    },
    {
     "name": "stderr",
     "output_type": "stream",
     "text": [
      "Training: 100%|██████████| 8/8 [00:00<00:00, 1170.37it/s]\n",
      "Evaluating: 100%|██████████| 2/2 [00:00<00:00, 108.79it/s]\n"
     ]
    },
    {
     "name": "stdout",
     "output_type": "stream",
     "text": [
      "Training loss: 0.8243, Training accuracy: 0.6695\n",
      "Test loss: 0.9329, Test accuracy: 0.7333\n",
      "Epoch 4/500\n"
     ]
    },
    {
     "name": "stderr",
     "output_type": "stream",
     "text": [
      "Training: 100%|██████████| 8/8 [00:00<00:00, 475.88it/s]\n",
      "Evaluating: 100%|██████████| 2/2 [00:00<00:00, 500.01it/s]\n"
     ]
    },
    {
     "name": "stdout",
     "output_type": "stream",
     "text": [
      "Training loss: 0.5959, Training accuracy: 0.7364\n",
      "Test loss: 1.1239, Test accuracy: 0.7333\n",
      "Epoch 5/500\n"
     ]
    },
    {
     "name": "stderr",
     "output_type": "stream",
     "text": [
      "Training: 100%|██████████| 8/8 [00:00<00:00, 987.68it/s]\n",
      "Evaluating: 100%|██████████| 2/2 [00:00<?, ?it/s]\n"
     ]
    },
    {
     "name": "stdout",
     "output_type": "stream",
     "text": [
      "Training loss: 0.8097, Training accuracy: 0.6946\n",
      "Test loss: 0.7288, Test accuracy: 0.7500\n",
      "Epoch 6/500\n"
     ]
    },
    {
     "name": "stderr",
     "output_type": "stream",
     "text": [
      "Training: 100%|██████████| 8/8 [00:00<00:00, 461.01it/s]\n",
      "Evaluating: 100%|██████████| 2/2 [00:00<00:00, 400.18it/s]\n"
     ]
    },
    {
     "name": "stdout",
     "output_type": "stream",
     "text": [
      "Training loss: 0.6821, Training accuracy: 0.7071\n",
      "Test loss: 0.7130, Test accuracy: 0.7500\n",
      "Epoch 7/500\n"
     ]
    },
    {
     "name": "stderr",
     "output_type": "stream",
     "text": [
      "Training: 100%|██████████| 8/8 [00:00<00:00, 561.82it/s]\n",
      "Evaluating: 100%|██████████| 2/2 [00:00<?, ?it/s]\n"
     ]
    },
    {
     "name": "stdout",
     "output_type": "stream",
     "text": [
      "Training loss: 0.5963, Training accuracy: 0.7406\n",
      "Test loss: 0.6990, Test accuracy: 0.7667\n",
      "Epoch 8/500\n"
     ]
    },
    {
     "name": "stderr",
     "output_type": "stream",
     "text": [
      "Training: 100%|██████████| 8/8 [00:00<00:00, 329.85it/s]\n",
      "Evaluating: 100%|██████████| 2/2 [00:00<?, ?it/s]\n"
     ]
    },
    {
     "name": "stdout",
     "output_type": "stream",
     "text": [
      "Training loss: 0.5080, Training accuracy: 0.7699\n",
      "Test loss: 0.5514, Test accuracy: 0.7500\n",
      "Epoch 9/500\n"
     ]
    },
    {
     "name": "stderr",
     "output_type": "stream",
     "text": [
      "Training: 100%|██████████| 8/8 [00:00<00:00, 1873.08it/s]\n",
      "Evaluating: 100%|██████████| 2/2 [00:00<00:00, 661.46it/s]\n"
     ]
    },
    {
     "name": "stdout",
     "output_type": "stream",
     "text": [
      "Training loss: 0.5134, Training accuracy: 0.7657\n",
      "Test loss: 0.5537, Test accuracy: 0.7167\n",
      "Epoch 10/500\n"
     ]
    },
    {
     "name": "stderr",
     "output_type": "stream",
     "text": [
      "Training: 100%|██████████| 8/8 [00:00<00:00, 485.94it/s]\n",
      "Evaluating: 100%|██████████| 2/2 [00:00<?, ?it/s]\n"
     ]
    },
    {
     "name": "stdout",
     "output_type": "stream",
     "text": [
      "Training loss: 0.4652, Training accuracy: 0.7824\n",
      "Test loss: 0.6521, Test accuracy: 0.6333\n",
      "Epoch 11/500\n"
     ]
    },
    {
     "name": "stderr",
     "output_type": "stream",
     "text": [
      "Training: 100%|██████████| 8/8 [00:00<00:00, 437.33it/s]\n",
      "Evaluating: 100%|██████████| 2/2 [00:00<?, ?it/s]\n"
     ]
    },
    {
     "name": "stdout",
     "output_type": "stream",
     "text": [
      "Training loss: 0.5308, Training accuracy: 0.7573\n",
      "Test loss: 0.6091, Test accuracy: 0.7500\n",
      "Epoch 12/500\n"
     ]
    },
    {
     "name": "stderr",
     "output_type": "stream",
     "text": [
      "Training: 100%|██████████| 8/8 [00:00<00:00, 537.47it/s]\n",
      "Evaluating: 100%|██████████| 2/2 [00:00<00:00, 124.55it/s]\n"
     ]
    },
    {
     "name": "stdout",
     "output_type": "stream",
     "text": [
      "Training loss: 0.5086, Training accuracy: 0.7699\n",
      "Test loss: 0.5984, Test accuracy: 0.7500\n",
      "Epoch 13/500\n"
     ]
    },
    {
     "name": "stderr",
     "output_type": "stream",
     "text": [
      "Training: 100%|██████████| 8/8 [00:00<00:00, 515.52it/s]\n",
      "Evaluating: 100%|██████████| 2/2 [00:00<?, ?it/s]\n"
     ]
    },
    {
     "name": "stdout",
     "output_type": "stream",
     "text": [
      "Training loss: 0.4786, Training accuracy: 0.7950\n",
      "Test loss: 0.7144, Test accuracy: 0.6167\n",
      "Epoch 14/500\n"
     ]
    },
    {
     "name": "stderr",
     "output_type": "stream",
     "text": [
      "Training: 100%|██████████| 8/8 [00:00<00:00, 494.31it/s]\n",
      "Evaluating: 100%|██████████| 2/2 [00:00<?, ?it/s]\n"
     ]
    },
    {
     "name": "stdout",
     "output_type": "stream",
     "text": [
      "Training loss: 0.5489, Training accuracy: 0.7531\n",
      "Test loss: 0.6883, Test accuracy: 0.6000\n",
      "Epoch 15/500\n"
     ]
    },
    {
     "name": "stderr",
     "output_type": "stream",
     "text": [
      "Training: 100%|██████████| 8/8 [00:00<00:00, 472.34it/s]\n",
      "Evaluating: 100%|██████████| 2/2 [00:00<00:00, 134.96it/s]\n"
     ]
    },
    {
     "name": "stdout",
     "output_type": "stream",
     "text": [
      "Training loss: 0.4832, Training accuracy: 0.7699\n",
      "Test loss: 0.5964, Test accuracy: 0.7500\n",
      "Epoch 16/500\n"
     ]
    },
    {
     "name": "stderr",
     "output_type": "stream",
     "text": [
      "Training: 100%|██████████| 8/8 [00:00<00:00, 538.65it/s]\n",
      "Evaluating: 100%|██████████| 2/2 [00:00<?, ?it/s]\n"
     ]
    },
    {
     "name": "stdout",
     "output_type": "stream",
     "text": [
      "Training loss: 0.5542, Training accuracy: 0.7113\n",
      "Test loss: 0.9080, Test accuracy: 0.7333\n",
      "Epoch 17/500\n"
     ]
    },
    {
     "name": "stderr",
     "output_type": "stream",
     "text": [
      "Training: 100%|██████████| 8/8 [00:00<00:00, 437.45it/s]\n",
      "Evaluating: 100%|██████████| 2/2 [00:00<?, ?it/s]\n"
     ]
    },
    {
     "name": "stdout",
     "output_type": "stream",
     "text": [
      "Training loss: 0.5439, Training accuracy: 0.7364\n",
      "Test loss: 0.5667, Test accuracy: 0.7333\n",
      "Epoch 18/500\n"
     ]
    },
    {
     "name": "stderr",
     "output_type": "stream",
     "text": [
      "Training: 100%|██████████| 8/8 [00:00<00:00, 447.74it/s]\n",
      "Evaluating: 100%|██████████| 2/2 [00:00<00:00, 146.07it/s]\n"
     ]
    },
    {
     "name": "stdout",
     "output_type": "stream",
     "text": [
      "Training loss: 0.4230, Training accuracy: 0.7866\n",
      "Test loss: 0.5537, Test accuracy: 0.7667\n",
      "Epoch 19/500\n"
     ]
    },
    {
     "name": "stderr",
     "output_type": "stream",
     "text": [
      "Training: 100%|██████████| 8/8 [00:00<00:00, 570.59it/s]\n",
      "Evaluating: 100%|██████████| 2/2 [00:00<?, ?it/s]\n"
     ]
    },
    {
     "name": "stdout",
     "output_type": "stream",
     "text": [
      "Training loss: 0.4374, Training accuracy: 0.8075\n",
      "Test loss: 0.5598, Test accuracy: 0.7833\n",
      "Epoch 20/500\n"
     ]
    },
    {
     "name": "stderr",
     "output_type": "stream",
     "text": [
      "Training: 100%|██████████| 8/8 [00:00<00:00, 403.88it/s]\n",
      "Evaluating: 100%|██████████| 2/2 [00:00<?, ?it/s]\n"
     ]
    },
    {
     "name": "stdout",
     "output_type": "stream",
     "text": [
      "Training loss: 0.4256, Training accuracy: 0.7824\n",
      "Test loss: 0.6316, Test accuracy: 0.7500\n",
      "Epoch 21/500\n"
     ]
    },
    {
     "name": "stderr",
     "output_type": "stream",
     "text": [
      "Training: 100%|██████████| 8/8 [00:00<00:00, 524.47it/s]\n",
      "Evaluating: 100%|██████████| 2/2 [00:00<00:00, 143.51it/s]\n"
     ]
    },
    {
     "name": "stdout",
     "output_type": "stream",
     "text": [
      "Training loss: 0.5832, Training accuracy: 0.7406\n",
      "Test loss: 0.7861, Test accuracy: 0.5833\n",
      "Epoch 22/500\n"
     ]
    },
    {
     "name": "stderr",
     "output_type": "stream",
     "text": [
      "Training: 100%|██████████| 8/8 [00:00<?, ?it/s]\n",
      "Evaluating: 100%|██████████| 2/2 [00:00<00:00, 937.07it/s]\n"
     ]
    },
    {
     "name": "stdout",
     "output_type": "stream",
     "text": [
      "Training loss: 0.5657, Training accuracy: 0.7573\n",
      "Test loss: 0.6770, Test accuracy: 0.6167\n",
      "Epoch 23/500\n"
     ]
    },
    {
     "name": "stderr",
     "output_type": "stream",
     "text": [
      "Training: 100%|██████████| 8/8 [00:00<00:00, 513.21it/s]\n",
      "Evaluating: 100%|██████████| 2/2 [00:00<?, ?it/s]\n"
     ]
    },
    {
     "name": "stdout",
     "output_type": "stream",
     "text": [
      "Training loss: 0.4969, Training accuracy: 0.7782\n",
      "Test loss: 0.7889, Test accuracy: 0.7500\n",
      "Epoch 24/500\n"
     ]
    },
    {
     "name": "stderr",
     "output_type": "stream",
     "text": [
      "Training: 100%|██████████| 8/8 [00:00<00:00, 455.80it/s]\n",
      "Evaluating: 100%|██████████| 2/2 [00:00<?, ?it/s]\n"
     ]
    },
    {
     "name": "stdout",
     "output_type": "stream",
     "text": [
      "Training loss: 0.5296, Training accuracy: 0.7531\n",
      "Test loss: 0.5873, Test accuracy: 0.7833\n",
      "Epoch 25/500\n"
     ]
    },
    {
     "name": "stderr",
     "output_type": "stream",
     "text": [
      "Training: 100%|██████████| 8/8 [00:00<00:00, 2781.37it/s]\n",
      "Evaluating: 100%|██████████| 2/2 [00:00<00:00, 1421.32it/s]\n"
     ]
    },
    {
     "name": "stdout",
     "output_type": "stream",
     "text": [
      "Training loss: 0.4528, Training accuracy: 0.8033\n",
      "Test loss: 0.7344, Test accuracy: 0.6333\n",
      "Epoch 26/500\n"
     ]
    },
    {
     "name": "stderr",
     "output_type": "stream",
     "text": [
      "Training: 100%|██████████| 8/8 [00:00<00:00, 451.69it/s]\n",
      "Evaluating: 100%|██████████| 2/2 [00:00<?, ?it/s]\n"
     ]
    },
    {
     "name": "stdout",
     "output_type": "stream",
     "text": [
      "Training loss: 0.5834, Training accuracy: 0.7490\n",
      "Test loss: 0.8075, Test accuracy: 0.6000\n",
      "Epoch 27/500\n"
     ]
    },
    {
     "name": "stderr",
     "output_type": "stream",
     "text": [
      "Training: 100%|██████████| 8/8 [00:00<00:00, 433.36it/s]\n",
      "Evaluating: 100%|██████████| 2/2 [00:00<?, ?it/s]\n"
     ]
    },
    {
     "name": "stdout",
     "output_type": "stream",
     "text": [
      "Training loss: 0.5240, Training accuracy: 0.7573\n",
      "Test loss: 0.8409, Test accuracy: 0.7500\n",
      "Epoch 28/500\n"
     ]
    },
    {
     "name": "stderr",
     "output_type": "stream",
     "text": [
      "Training: 100%|██████████| 8/8 [00:00<00:00, 7692.44it/s]\n",
      "Evaluating: 100%|██████████| 2/2 [00:00<00:00, 500.24it/s]\n"
     ]
    },
    {
     "name": "stdout",
     "output_type": "stream",
     "text": [
      "Training loss: 0.4838, Training accuracy: 0.7782\n",
      "Test loss: 0.5957, Test accuracy: 0.7833\n",
      "Epoch 29/500\n"
     ]
    },
    {
     "name": "stderr",
     "output_type": "stream",
     "text": [
      "Training: 100%|██████████| 8/8 [00:00<00:00, 490.40it/s]\n",
      "Evaluating: 100%|██████████| 2/2 [00:00<?, ?it/s]\n"
     ]
    },
    {
     "name": "stdout",
     "output_type": "stream",
     "text": [
      "Training loss: 0.4982, Training accuracy: 0.7908\n",
      "Test loss: 0.7422, Test accuracy: 0.6167\n",
      "Epoch 30/500\n"
     ]
    },
    {
     "name": "stderr",
     "output_type": "stream",
     "text": [
      "Training: 100%|██████████| 8/8 [00:00<00:00, 518.48it/s]\n",
      "Evaluating: 100%|██████████| 2/2 [00:00<?, ?it/s]\n"
     ]
    },
    {
     "name": "stdout",
     "output_type": "stream",
     "text": [
      "Training loss: 0.5757, Training accuracy: 0.7448\n",
      "Test loss: 1.0214, Test accuracy: 0.7333\n",
      "Epoch 31/500\n"
     ]
    },
    {
     "name": "stderr",
     "output_type": "stream",
     "text": [
      "Training: 100%|██████████| 8/8 [00:00<00:00, 1871.10it/s]\n",
      "Evaluating: 100%|██████████| 2/2 [00:00<00:00, 511.13it/s]\n"
     ]
    },
    {
     "name": "stdout",
     "output_type": "stream",
     "text": [
      "Training loss: 0.7228, Training accuracy: 0.7490\n",
      "Test loss: 0.9283, Test accuracy: 0.7500\n",
      "Epoch 32/500\n"
     ]
    },
    {
     "name": "stderr",
     "output_type": "stream",
     "text": [
      "Training: 100%|██████████| 8/8 [00:00<00:00, 653.20it/s]\n",
      "Evaluating: 100%|██████████| 2/2 [00:00<?, ?it/s]\n"
     ]
    },
    {
     "name": "stdout",
     "output_type": "stream",
     "text": [
      "Training loss: 0.6812, Training accuracy: 0.7280\n",
      "Test loss: 1.0413, Test accuracy: 0.7500\n",
      "Epoch 33/500\n"
     ]
    },
    {
     "name": "stderr",
     "output_type": "stream",
     "text": [
      "Training: 100%|██████████| 8/8 [00:00<00:00, 230.04it/s]\n",
      "Evaluating: 100%|██████████| 2/2 [00:00<00:00, 1805.17it/s]\n"
     ]
    },
    {
     "name": "stdout",
     "output_type": "stream",
     "text": [
      "Training loss: 0.5541, Training accuracy: 0.7741\n",
      "Test loss: 0.9070, Test accuracy: 0.7667\n",
      "Epoch 34/500\n"
     ]
    },
    {
     "name": "stderr",
     "output_type": "stream",
     "text": [
      "Training: 100%|██████████| 8/8 [00:00<00:00, 606.45it/s]\n",
      "Evaluating: 100%|██████████| 2/2 [00:00<?, ?it/s]\n"
     ]
    },
    {
     "name": "stdout",
     "output_type": "stream",
     "text": [
      "Training loss: 0.5092, Training accuracy: 0.7866\n",
      "Test loss: 0.7088, Test accuracy: 0.7500\n",
      "Epoch 35/500\n"
     ]
    },
    {
     "name": "stderr",
     "output_type": "stream",
     "text": [
      "Training: 100%|██████████| 8/8 [00:00<00:00, 464.34it/s]\n",
      "Evaluating: 100%|██████████| 2/2 [00:00<00:00, 138.02it/s]\n"
     ]
    },
    {
     "name": "stdout",
     "output_type": "stream",
     "text": [
      "Training loss: 0.3960, Training accuracy: 0.8326\n",
      "Test loss: 0.6073, Test accuracy: 0.7500\n",
      "Epoch 36/500\n"
     ]
    },
    {
     "name": "stderr",
     "output_type": "stream",
     "text": [
      "Training: 100%|██████████| 8/8 [00:00<00:00, 546.48it/s]\n",
      "Evaluating: 100%|██████████| 2/2 [00:00<?, ?it/s]\n"
     ]
    },
    {
     "name": "stdout",
     "output_type": "stream",
     "text": [
      "Training loss: 0.4553, Training accuracy: 0.7950\n",
      "Test loss: 0.6351, Test accuracy: 0.6167\n",
      "Epoch 37/500\n"
     ]
    },
    {
     "name": "stderr",
     "output_type": "stream",
     "text": [
      "Training: 100%|██████████| 8/8 [00:00<00:00, 460.70it/s]\n",
      "Evaluating: 100%|██████████| 2/2 [00:00<?, ?it/s]\n"
     ]
    },
    {
     "name": "stdout",
     "output_type": "stream",
     "text": [
      "Training loss: 0.4511, Training accuracy: 0.7908\n",
      "Test loss: 0.6217, Test accuracy: 0.7500\n",
      "Epoch 38/500\n"
     ]
    },
    {
     "name": "stderr",
     "output_type": "stream",
     "text": [
      "Training: 100%|██████████| 8/8 [00:00<00:00, 431.82it/s]\n",
      "Evaluating: 100%|██████████| 2/2 [00:00<?, ?it/s]\n"
     ]
    },
    {
     "name": "stdout",
     "output_type": "stream",
     "text": [
      "Training loss: 0.4171, Training accuracy: 0.8201\n",
      "Test loss: 0.5747, Test accuracy: 0.7833\n",
      "Epoch 39/500\n"
     ]
    },
    {
     "name": "stderr",
     "output_type": "stream",
     "text": [
      "Training: 100%|██████████| 8/8 [00:00<00:00, 523.17it/s]\n",
      "Evaluating: 100%|██████████| 2/2 [00:00<00:00, 119.74it/s]\n"
     ]
    },
    {
     "name": "stdout",
     "output_type": "stream",
     "text": [
      "Training loss: 0.3967, Training accuracy: 0.8117\n",
      "Test loss: 0.6364, Test accuracy: 0.7500\n",
      "Epoch 40/500\n"
     ]
    },
    {
     "name": "stderr",
     "output_type": "stream",
     "text": [
      "Training: 100%|██████████| 8/8 [00:00<00:00, 519.15it/s]\n",
      "Evaluating: 100%|██████████| 2/2 [00:00<00:00, 666.61it/s]\n"
     ]
    },
    {
     "name": "stdout",
     "output_type": "stream",
     "text": [
      "Training loss: 0.3727, Training accuracy: 0.8075\n",
      "Test loss: 0.5722, Test accuracy: 0.7667\n",
      "Epoch 41/500\n"
     ]
    },
    {
     "name": "stderr",
     "output_type": "stream",
     "text": [
      "Training: 100%|██████████| 8/8 [00:00<00:00, 759.18it/s]\n",
      "Evaluating: 100%|██████████| 2/2 [00:00<?, ?it/s]\n"
     ]
    },
    {
     "name": "stdout",
     "output_type": "stream",
     "text": [
      "Training loss: 0.3636, Training accuracy: 0.8368\n",
      "Test loss: 0.6005, Test accuracy: 0.7667\n",
      "Epoch 42/500\n"
     ]
    },
    {
     "name": "stderr",
     "output_type": "stream",
     "text": [
      "Training: 100%|██████████| 8/8 [00:00<00:00, 491.78it/s]\n",
      "Evaluating: 100%|██████████| 2/2 [00:00<00:00, 141.28it/s]\n"
     ]
    },
    {
     "name": "stdout",
     "output_type": "stream",
     "text": [
      "Training loss: 0.3917, Training accuracy: 0.8033\n",
      "Test loss: 0.5931, Test accuracy: 0.7667\n",
      "Epoch 43/500\n"
     ]
    },
    {
     "name": "stderr",
     "output_type": "stream",
     "text": [
      "Training: 100%|██████████| 8/8 [00:00<00:00, 2626.57it/s]\n",
      "Evaluating: 100%|██████████| 2/2 [00:00<00:00, 3515.76it/s]\n"
     ]
    },
    {
     "name": "stdout",
     "output_type": "stream",
     "text": [
      "Training loss: 0.3663, Training accuracy: 0.8285\n",
      "Test loss: 0.5729, Test accuracy: 0.7833\n",
      "Epoch 44/500\n"
     ]
    },
    {
     "name": "stderr",
     "output_type": "stream",
     "text": [
      "Training: 100%|██████████| 8/8 [00:00<00:00, 466.92it/s]\n",
      "Evaluating: 100%|██████████| 2/2 [00:00<?, ?it/s]\n"
     ]
    },
    {
     "name": "stdout",
     "output_type": "stream",
     "text": [
      "Training loss: 0.3738, Training accuracy: 0.8326\n",
      "Test loss: 0.5990, Test accuracy: 0.7667\n",
      "Epoch 45/500\n"
     ]
    },
    {
     "name": "stderr",
     "output_type": "stream",
     "text": [
      "Training: 100%|██████████| 8/8 [00:00<00:00, 430.09it/s]\n",
      "Evaluating: 100%|██████████| 2/2 [00:00<?, ?it/s]\n"
     ]
    },
    {
     "name": "stdout",
     "output_type": "stream",
     "text": [
      "Training loss: 0.3721, Training accuracy: 0.8033\n",
      "Test loss: 0.5836, Test accuracy: 0.7833\n",
      "Epoch 46/500\n"
     ]
    },
    {
     "name": "stderr",
     "output_type": "stream",
     "text": [
      "Training: 100%|██████████| 8/8 [00:00<00:00, 535.77it/s]\n",
      "Evaluating: 100%|██████████| 2/2 [00:00<00:00, 128.47it/s]\n"
     ]
    },
    {
     "name": "stdout",
     "output_type": "stream",
     "text": [
      "Training loss: 0.3575, Training accuracy: 0.8033\n",
      "Test loss: 0.5948, Test accuracy: 0.7667\n",
      "Epoch 47/500\n"
     ]
    },
    {
     "name": "stderr",
     "output_type": "stream",
     "text": [
      "Training: 100%|██████████| 8/8 [00:00<00:00, 568.27it/s]\n",
      "Evaluating: 100%|██████████| 2/2 [00:00<00:00, 1045.05it/s]\n"
     ]
    },
    {
     "name": "stdout",
     "output_type": "stream",
     "text": [
      "Training loss: 0.3802, Training accuracy: 0.8117\n",
      "Test loss: 0.5809, Test accuracy: 0.7833\n",
      "Epoch 48/500\n"
     ]
    },
    {
     "name": "stderr",
     "output_type": "stream",
     "text": [
      "Training: 100%|██████████| 8/8 [00:00<00:00, 523.72it/s]\n",
      "Evaluating: 100%|██████████| 2/2 [00:00<?, ?it/s]\n"
     ]
    },
    {
     "name": "stdout",
     "output_type": "stream",
     "text": [
      "Training loss: 0.3672, Training accuracy: 0.8117\n",
      "Test loss: 0.5903, Test accuracy: 0.7667\n",
      "Epoch 49/500\n"
     ]
    },
    {
     "name": "stderr",
     "output_type": "stream",
     "text": [
      "Training: 100%|██████████| 8/8 [00:00<00:00, 385.64it/s]\n",
      "Evaluating: 100%|██████████| 2/2 [00:00<00:00, 129.87it/s]\n"
     ]
    },
    {
     "name": "stdout",
     "output_type": "stream",
     "text": [
      "Training loss: 0.3866, Training accuracy: 0.8117\n",
      "Test loss: 0.5982, Test accuracy: 0.7667\n",
      "Epoch 50/500\n"
     ]
    },
    {
     "name": "stderr",
     "output_type": "stream",
     "text": [
      "Training: 100%|██████████| 8/8 [00:00<00:00, 486.95it/s]\n",
      "Evaluating: 100%|██████████| 2/2 [00:00<?, ?it/s]\n"
     ]
    },
    {
     "name": "stdout",
     "output_type": "stream",
     "text": [
      "Training loss: 0.4002, Training accuracy: 0.8243\n",
      "Test loss: 0.5769, Test accuracy: 0.7833\n",
      "Epoch 51/500\n"
     ]
    },
    {
     "name": "stderr",
     "output_type": "stream",
     "text": [
      "Training: 100%|██████████| 8/8 [00:00<00:00, 425.73it/s]\n",
      "Evaluating: 100%|██████████| 2/2 [00:00<?, ?it/s]\n"
     ]
    },
    {
     "name": "stdout",
     "output_type": "stream",
     "text": [
      "Training loss: 0.3530, Training accuracy: 0.8243\n",
      "Test loss: 0.5855, Test accuracy: 0.7667\n",
      "Epoch 52/500\n"
     ]
    },
    {
     "name": "stderr",
     "output_type": "stream",
     "text": [
      "Training: 100%|██████████| 8/8 [00:00<00:00, 374.96it/s]\n",
      "Evaluating: 100%|██████████| 2/2 [00:00<00:00, 668.31it/s]\n"
     ]
    },
    {
     "name": "stdout",
     "output_type": "stream",
     "text": [
      "Training loss: 0.3608, Training accuracy: 0.8033\n",
      "Test loss: 0.5921, Test accuracy: 0.7667\n",
      "Epoch 53/500\n"
     ]
    },
    {
     "name": "stderr",
     "output_type": "stream",
     "text": [
      "Training: 100%|██████████| 8/8 [00:00<00:00, 1221.49it/s]\n",
      "Evaluating: 100%|██████████| 2/2 [00:00<00:00, 157.03it/s]\n"
     ]
    },
    {
     "name": "stdout",
     "output_type": "stream",
     "text": [
      "Training loss: 0.3711, Training accuracy: 0.8075\n",
      "Test loss: 0.5882, Test accuracy: 0.7667\n",
      "Epoch 54/500\n"
     ]
    },
    {
     "name": "stderr",
     "output_type": "stream",
     "text": [
      "Training: 100%|██████████| 8/8 [00:00<00:00, 526.71it/s]\n",
      "Evaluating: 100%|██████████| 2/2 [00:00<?, ?it/s]\n"
     ]
    },
    {
     "name": "stdout",
     "output_type": "stream",
     "text": [
      "Training loss: 0.3627, Training accuracy: 0.8117\n",
      "Test loss: 0.5865, Test accuracy: 0.7667\n",
      "Epoch 55/500\n"
     ]
    },
    {
     "name": "stderr",
     "output_type": "stream",
     "text": [
      "Training: 100%|██████████| 8/8 [00:00<00:00, 413.50it/s]\n",
      "Evaluating: 100%|██████████| 2/2 [00:00<?, ?it/s]\n"
     ]
    },
    {
     "name": "stdout",
     "output_type": "stream",
     "text": [
      "Training loss: 0.3731, Training accuracy: 0.8117\n",
      "Test loss: 0.5860, Test accuracy: 0.7667\n",
      "Epoch 56/500\n"
     ]
    },
    {
     "name": "stderr",
     "output_type": "stream",
     "text": [
      "Training: 100%|██████████| 8/8 [00:00<00:00, 538.83it/s]\n",
      "Evaluating: 100%|██████████| 2/2 [00:00<00:00, 131.61it/s]\n"
     ]
    },
    {
     "name": "stdout",
     "output_type": "stream",
     "text": [
      "Training loss: 0.3681, Training accuracy: 0.8201\n",
      "Test loss: 0.5833, Test accuracy: 0.7667\n",
      "Epoch 57/500\n"
     ]
    },
    {
     "name": "stderr",
     "output_type": "stream",
     "text": [
      "Training: 100%|██████████| 8/8 [00:00<00:00, 511.09it/s]\n",
      "Evaluating: 100%|██████████| 2/2 [00:00<?, ?it/s]\n"
     ]
    },
    {
     "name": "stdout",
     "output_type": "stream",
     "text": [
      "Training loss: 0.3589, Training accuracy: 0.8243\n",
      "Test loss: 0.5824, Test accuracy: 0.7667\n",
      "Epoch 58/500\n"
     ]
    },
    {
     "name": "stderr",
     "output_type": "stream",
     "text": [
      "Training: 100%|██████████| 8/8 [00:00<00:00, 496.87it/s]\n",
      "Evaluating: 100%|██████████| 2/2 [00:00<?, ?it/s]\n"
     ]
    },
    {
     "name": "stdout",
     "output_type": "stream",
     "text": [
      "Training loss: 0.3657, Training accuracy: 0.8201\n",
      "Test loss: 0.5817, Test accuracy: 0.7833\n",
      "Epoch 59/500\n"
     ]
    },
    {
     "name": "stderr",
     "output_type": "stream",
     "text": [
      "Training: 100%|██████████| 8/8 [00:00<00:00, 477.73it/s]\n",
      "Evaluating: 100%|██████████| 2/2 [00:00<00:00, 132.29it/s]\n"
     ]
    },
    {
     "name": "stdout",
     "output_type": "stream",
     "text": [
      "Training loss: 0.3766, Training accuracy: 0.8201\n",
      "Test loss: 0.5836, Test accuracy: 0.7667\n",
      "Epoch 60/500\n"
     ]
    },
    {
     "name": "stderr",
     "output_type": "stream",
     "text": [
      "Training: 100%|██████████| 8/8 [00:00<00:00, 544.24it/s]\n",
      "Evaluating: 100%|██████████| 2/2 [00:00<?, ?it/s]\n"
     ]
    },
    {
     "name": "stdout",
     "output_type": "stream",
     "text": [
      "Training loss: 0.3587, Training accuracy: 0.8159\n",
      "Test loss: 0.5851, Test accuracy: 0.7667\n",
      "Epoch 61/500\n"
     ]
    },
    {
     "name": "stderr",
     "output_type": "stream",
     "text": [
      "Training: 100%|██████████| 8/8 [00:00<00:00, 470.89it/s]\n",
      "Evaluating: 100%|██████████| 2/2 [00:00<?, ?it/s]\n"
     ]
    },
    {
     "name": "stdout",
     "output_type": "stream",
     "text": [
      "Training loss: 0.3676, Training accuracy: 0.8159\n",
      "Test loss: 0.5859, Test accuracy: 0.7667\n",
      "Epoch 62/500\n"
     ]
    },
    {
     "name": "stderr",
     "output_type": "stream",
     "text": [
      "Training: 100%|██████████| 8/8 [00:00<00:00, 439.40it/s]\n",
      "Evaluating: 100%|██████████| 2/2 [00:00<00:00, 158.51it/s]\n"
     ]
    },
    {
     "name": "stdout",
     "output_type": "stream",
     "text": [
      "Training loss: 0.3673, Training accuracy: 0.8117\n",
      "Test loss: 0.5866, Test accuracy: 0.7667\n",
      "Epoch 63/500\n"
     ]
    },
    {
     "name": "stderr",
     "output_type": "stream",
     "text": [
      "Training: 100%|██████████| 8/8 [00:00<00:00, 4704.77it/s]\n",
      "Evaluating: 100%|██████████| 2/2 [00:00<00:00, 1454.08it/s]\n"
     ]
    },
    {
     "name": "stdout",
     "output_type": "stream",
     "text": [
      "Training loss: 0.3733, Training accuracy: 0.8159\n",
      "Test loss: 0.5851, Test accuracy: 0.7667\n",
      "Epoch 64/500\n"
     ]
    },
    {
     "name": "stderr",
     "output_type": "stream",
     "text": [
      "Training: 100%|██████████| 8/8 [00:00<00:00, 402.74it/s]\n",
      "Evaluating: 100%|██████████| 2/2 [00:00<?, ?it/s]\n"
     ]
    },
    {
     "name": "stdout",
     "output_type": "stream",
     "text": [
      "Training loss: 0.3788, Training accuracy: 0.8159\n",
      "Test loss: 0.5802, Test accuracy: 0.7833\n",
      "Epoch 65/500\n"
     ]
    },
    {
     "name": "stderr",
     "output_type": "stream",
     "text": [
      "Training: 100%|██████████| 8/8 [00:00<00:00, 543.41it/s]\n",
      "Evaluating: 100%|██████████| 2/2 [00:00<?, ?it/s]\n"
     ]
    },
    {
     "name": "stdout",
     "output_type": "stream",
     "text": [
      "Training loss: 0.3642, Training accuracy: 0.8201\n",
      "Test loss: 0.5799, Test accuracy: 0.7833\n",
      "Epoch 66/500\n"
     ]
    },
    {
     "name": "stderr",
     "output_type": "stream",
     "text": [
      "Training: 100%|██████████| 8/8 [00:00<00:00, 4635.23it/s]\n",
      "Evaluating: 100%|██████████| 2/2 [00:00<00:00, 666.77it/s]\n"
     ]
    },
    {
     "name": "stdout",
     "output_type": "stream",
     "text": [
      "Training loss: 0.3660, Training accuracy: 0.8201\n",
      "Test loss: 0.5808, Test accuracy: 0.7833\n",
      "Epoch 67/500\n"
     ]
    },
    {
     "name": "stderr",
     "output_type": "stream",
     "text": [
      "Training: 100%|██████████| 8/8 [00:00<00:00, 562.10it/s]\n",
      "Evaluating: 100%|██████████| 2/2 [00:00<?, ?it/s]\n"
     ]
    },
    {
     "name": "stdout",
     "output_type": "stream",
     "text": [
      "Training loss: 0.3561, Training accuracy: 0.8201\n",
      "Test loss: 0.5827, Test accuracy: 0.7667\n",
      "Epoch 68/500\n"
     ]
    },
    {
     "name": "stderr",
     "output_type": "stream",
     "text": [
      "Training: 100%|██████████| 8/8 [00:00<00:00, 466.98it/s]\n",
      "Evaluating: 100%|██████████| 2/2 [00:00<?, ?it/s]\n"
     ]
    },
    {
     "name": "stdout",
     "output_type": "stream",
     "text": [
      "Training loss: 0.3554, Training accuracy: 0.8201\n",
      "Test loss: 0.5847, Test accuracy: 0.7667\n",
      "Epoch 69/500\n"
     ]
    },
    {
     "name": "stderr",
     "output_type": "stream",
     "text": [
      "Training: 100%|██████████| 8/8 [00:00<00:00, 437.85it/s]\n",
      "Evaluating: 100%|██████████| 2/2 [00:00<00:00, 141.99it/s]\n"
     ]
    },
    {
     "name": "stdout",
     "output_type": "stream",
     "text": [
      "Training loss: 0.3747, Training accuracy: 0.8201\n",
      "Test loss: 0.5840, Test accuracy: 0.7667\n",
      "Epoch 70/500\n"
     ]
    },
    {
     "name": "stderr",
     "output_type": "stream",
     "text": [
      "Training: 100%|██████████| 8/8 [00:00<00:00, 535.12it/s]\n",
      "Evaluating: 100%|██████████| 2/2 [00:00<?, ?it/s]\n"
     ]
    },
    {
     "name": "stdout",
     "output_type": "stream",
     "text": [
      "Training loss: 0.3621, Training accuracy: 0.8243\n",
      "Test loss: 0.5822, Test accuracy: 0.7667\n",
      "Epoch 71/500\n"
     ]
    },
    {
     "name": "stderr",
     "output_type": "stream",
     "text": [
      "Training: 100%|██████████| 8/8 [00:00<00:00, 403.28it/s]\n",
      "Evaluating: 100%|██████████| 2/2 [00:00<?, ?it/s]\n"
     ]
    },
    {
     "name": "stdout",
     "output_type": "stream",
     "text": [
      "Training loss: 0.3662, Training accuracy: 0.8201\n",
      "Test loss: 0.5799, Test accuracy: 0.7833\n",
      "Epoch 72/500\n"
     ]
    },
    {
     "name": "stderr",
     "output_type": "stream",
     "text": [
      "Training: 100%|██████████| 8/8 [00:00<00:00, 378.12it/s]\n",
      "Evaluating: 100%|██████████| 2/2 [00:00<00:00, 229.59it/s]\n"
     ]
    },
    {
     "name": "stdout",
     "output_type": "stream",
     "text": [
      "Training loss: 0.3614, Training accuracy: 0.8201\n",
      "Test loss: 0.5838, Test accuracy: 0.7667\n",
      "Epoch 73/500\n"
     ]
    },
    {
     "name": "stderr",
     "output_type": "stream",
     "text": [
      "Training: 100%|██████████| 8/8 [00:00<00:00, 560.23it/s]\n",
      "Evaluating: 100%|██████████| 2/2 [00:00<00:00, 1352.35it/s]\n"
     ]
    },
    {
     "name": "stdout",
     "output_type": "stream",
     "text": [
      "Training loss: 0.3539, Training accuracy: 0.8201\n",
      "Test loss: 0.5861, Test accuracy: 0.7667\n",
      "Epoch 74/500\n"
     ]
    },
    {
     "name": "stderr",
     "output_type": "stream",
     "text": [
      "Training: 100%|██████████| 8/8 [00:00<00:00, 504.13it/s]\n",
      "Evaluating: 100%|██████████| 2/2 [00:00<?, ?it/s]\n"
     ]
    },
    {
     "name": "stdout",
     "output_type": "stream",
     "text": [
      "Training loss: 0.3521, Training accuracy: 0.8159\n",
      "Test loss: 0.5825, Test accuracy: 0.7667\n",
      "Epoch 75/500\n"
     ]
    },
    {
     "name": "stderr",
     "output_type": "stream",
     "text": [
      "Training: 100%|██████████| 8/8 [00:00<00:00, 472.12it/s]\n",
      "Evaluating: 100%|██████████| 2/2 [00:00<00:00, 135.49it/s]\n"
     ]
    },
    {
     "name": "stdout",
     "output_type": "stream",
     "text": [
      "Training loss: 0.3819, Training accuracy: 0.8243\n",
      "Test loss: 0.5858, Test accuracy: 0.7667\n",
      "Epoch 76/500\n"
     ]
    },
    {
     "name": "stderr",
     "output_type": "stream",
     "text": [
      "Training: 100%|██████████| 8/8 [00:00<00:00, 586.21it/s]\n",
      "Evaluating: 100%|██████████| 2/2 [00:00<?, ?it/s]\n"
     ]
    },
    {
     "name": "stdout",
     "output_type": "stream",
     "text": [
      "Training loss: 0.3625, Training accuracy: 0.8159\n",
      "Test loss: 0.5828, Test accuracy: 0.7667\n",
      "Epoch 77/500\n"
     ]
    },
    {
     "name": "stderr",
     "output_type": "stream",
     "text": [
      "Training: 100%|██████████| 8/8 [00:00<00:00, 441.77it/s]\n",
      "Evaluating: 100%|██████████| 2/2 [00:00<?, ?it/s]\n"
     ]
    },
    {
     "name": "stdout",
     "output_type": "stream",
     "text": [
      "Training loss: 0.3583, Training accuracy: 0.8243\n",
      "Test loss: 0.5819, Test accuracy: 0.7667\n",
      "Epoch 78/500\n"
     ]
    },
    {
     "name": "stderr",
     "output_type": "stream",
     "text": [
      "Training: 100%|██████████| 8/8 [00:00<00:00, 446.40it/s]\n",
      "Evaluating: 100%|██████████| 2/2 [00:00<?, ?it/s]\n"
     ]
    },
    {
     "name": "stdout",
     "output_type": "stream",
     "text": [
      "Training loss: 0.3644, Training accuracy: 0.8201\n",
      "Test loss: 0.5797, Test accuracy: 0.7833\n",
      "Epoch 79/500\n"
     ]
    },
    {
     "name": "stderr",
     "output_type": "stream",
     "text": [
      "Training: 100%|██████████| 8/8 [00:00<00:00, 6268.34it/s]\n",
      "Evaluating: 100%|██████████| 2/2 [00:00<00:00, 499.89it/s]\n"
     ]
    },
    {
     "name": "stdout",
     "output_type": "stream",
     "text": [
      "Training loss: 0.3533, Training accuracy: 0.8201\n",
      "Test loss: 0.5822, Test accuracy: 0.7667\n",
      "Epoch 80/500\n"
     ]
    },
    {
     "name": "stderr",
     "output_type": "stream",
     "text": [
      "Training: 100%|██████████| 8/8 [00:00<00:00, 495.01it/s]\n",
      "Evaluating: 100%|██████████| 2/2 [00:00<?, ?it/s]\n"
     ]
    },
    {
     "name": "stdout",
     "output_type": "stream",
     "text": [
      "Training loss: 0.3679, Training accuracy: 0.8201\n",
      "Test loss: 0.5815, Test accuracy: 0.7667\n",
      "Epoch 81/500\n"
     ]
    },
    {
     "name": "stderr",
     "output_type": "stream",
     "text": [
      "Training: 100%|██████████| 8/8 [00:00<00:00, 537.13it/s]\n",
      "Evaluating: 100%|██████████| 2/2 [00:00<?, ?it/s]\n"
     ]
    },
    {
     "name": "stdout",
     "output_type": "stream",
     "text": [
      "Training loss: 0.3670, Training accuracy: 0.8159\n",
      "Test loss: 0.5900, Test accuracy: 0.7667\n",
      "Epoch 82/500\n"
     ]
    },
    {
     "name": "stderr",
     "output_type": "stream",
     "text": [
      "Training: 100%|██████████| 8/8 [00:00<00:00, 476.76it/s]\n",
      "Evaluating: 100%|██████████| 2/2 [00:00<00:00, 121.09it/s]\n"
     ]
    },
    {
     "name": "stdout",
     "output_type": "stream",
     "text": [
      "Training loss: 0.3692, Training accuracy: 0.8075\n",
      "Test loss: 0.5869, Test accuracy: 0.7667\n",
      "Epoch 83/500\n"
     ]
    },
    {
     "name": "stderr",
     "output_type": "stream",
     "text": [
      "Training: 100%|██████████| 8/8 [00:00<00:00, 255.73it/s]\n",
      "Evaluating: 100%|██████████| 2/2 [00:00<?, ?it/s]\n"
     ]
    },
    {
     "name": "stdout",
     "output_type": "stream",
     "text": [
      "Training loss: 0.3550, Training accuracy: 0.8117\n",
      "Test loss: 0.5836, Test accuracy: 0.7667\n",
      "Epoch 84/500\n"
     ]
    },
    {
     "name": "stderr",
     "output_type": "stream",
     "text": [
      "Training: 100%|██████████| 8/8 [00:00<00:00, 234.92it/s]\n",
      "Evaluating: 100%|██████████| 2/2 [00:00<00:00, 123.74it/s]\n"
     ]
    },
    {
     "name": "stdout",
     "output_type": "stream",
     "text": [
      "Training loss: 0.3570, Training accuracy: 0.8243\n",
      "Test loss: 0.5829, Test accuracy: 0.7667\n",
      "Epoch 85/500\n"
     ]
    },
    {
     "name": "stderr",
     "output_type": "stream",
     "text": [
      "Training: 100%|██████████| 8/8 [00:00<00:00, 211.70it/s]\n",
      "Evaluating: 100%|██████████| 2/2 [00:00<00:00, 285.69it/s]\n"
     ]
    },
    {
     "name": "stdout",
     "output_type": "stream",
     "text": [
      "Training loss: 0.3688, Training accuracy: 0.8201\n",
      "Test loss: 0.5851, Test accuracy: 0.7667\n",
      "Epoch 86/500\n"
     ]
    },
    {
     "name": "stderr",
     "output_type": "stream",
     "text": [
      "Training: 100%|██████████| 8/8 [00:00<00:00, 236.29it/s]\n",
      "Evaluating: 100%|██████████| 2/2 [00:00<?, ?it/s]\n"
     ]
    },
    {
     "name": "stdout",
     "output_type": "stream",
     "text": [
      "Training loss: 0.3753, Training accuracy: 0.8159\n",
      "Test loss: 0.5819, Test accuracy: 0.7667\n",
      "Epoch 87/500\n"
     ]
    },
    {
     "name": "stderr",
     "output_type": "stream",
     "text": [
      "Training: 100%|██████████| 8/8 [00:00<00:00, 204.70it/s]\n",
      "Evaluating: 100%|██████████| 2/2 [00:00<00:00, 332.96it/s]\n"
     ]
    },
    {
     "name": "stdout",
     "output_type": "stream",
     "text": [
      "Training loss: 0.3541, Training accuracy: 0.8243\n",
      "Test loss: 0.5822, Test accuracy: 0.7667\n",
      "Epoch 88/500\n"
     ]
    },
    {
     "name": "stderr",
     "output_type": "stream",
     "text": [
      "Training: 100%|██████████| 8/8 [00:00<00:00, 378.76it/s]\n",
      "Evaluating: 100%|██████████| 2/2 [00:00<00:00, 5817.34it/s]\n"
     ]
    },
    {
     "name": "stdout",
     "output_type": "stream",
     "text": [
      "Training loss: 0.3746, Training accuracy: 0.8201\n",
      "Test loss: 0.5816, Test accuracy: 0.7667\n",
      "Epoch 89/500\n"
     ]
    },
    {
     "name": "stderr",
     "output_type": "stream",
     "text": [
      "Training: 100%|██████████| 8/8 [00:00<00:00, 199.88it/s]\n",
      "Evaluating: 100%|██████████| 2/2 [00:00<00:00, 252.70it/s]\n"
     ]
    },
    {
     "name": "stdout",
     "output_type": "stream",
     "text": [
      "Training loss: 0.3535, Training accuracy: 0.8201\n",
      "Test loss: 0.5841, Test accuracy: 0.7667\n",
      "Epoch 90/500\n"
     ]
    },
    {
     "name": "stderr",
     "output_type": "stream",
     "text": [
      "Training: 100%|██████████| 8/8 [00:00<00:00, 211.79it/s]\n",
      "Evaluating: 100%|██████████| 2/2 [00:00<00:00, 280.31it/s]\n"
     ]
    },
    {
     "name": "stdout",
     "output_type": "stream",
     "text": [
      "Training loss: 0.3585, Training accuracy: 0.8201\n",
      "Test loss: 0.5840, Test accuracy: 0.7667\n",
      "Epoch 91/500\n"
     ]
    },
    {
     "name": "stderr",
     "output_type": "stream",
     "text": [
      "Training: 100%|██████████| 8/8 [00:00<00:00, 168.92it/s]\n",
      "Evaluating: 100%|██████████| 2/2 [00:00<00:00, 541.51it/s]\n"
     ]
    },
    {
     "name": "stdout",
     "output_type": "stream",
     "text": [
      "Training loss: 0.3662, Training accuracy: 0.8201\n",
      "Test loss: 0.5840, Test accuracy: 0.7667\n",
      "Epoch 92/500\n"
     ]
    },
    {
     "name": "stderr",
     "output_type": "stream",
     "text": [
      "Training: 100%|██████████| 8/8 [00:00<00:00, 139.82it/s]\n",
      "Evaluating: 100%|██████████| 2/2 [00:00<00:00, 398.60it/s]\n"
     ]
    },
    {
     "name": "stdout",
     "output_type": "stream",
     "text": [
      "Training loss: 0.3602, Training accuracy: 0.8159\n",
      "Test loss: 0.5845, Test accuracy: 0.7667\n",
      "Epoch 93/500\n"
     ]
    },
    {
     "name": "stderr",
     "output_type": "stream",
     "text": [
      "Training: 100%|██████████| 8/8 [00:00<00:00, 209.65it/s]\n",
      "Evaluating: 100%|██████████| 2/2 [00:00<00:00, 165.96it/s]\n"
     ]
    },
    {
     "name": "stdout",
     "output_type": "stream",
     "text": [
      "Training loss: 0.3571, Training accuracy: 0.8243\n",
      "Test loss: 0.5826, Test accuracy: 0.7667\n",
      "Epoch 94/500\n"
     ]
    },
    {
     "name": "stderr",
     "output_type": "stream",
     "text": [
      "Training: 100%|██████████| 8/8 [00:00<00:00, 226.36it/s]\n",
      "Evaluating: 100%|██████████| 2/2 [00:00<00:00, 141.85it/s]\n"
     ]
    },
    {
     "name": "stdout",
     "output_type": "stream",
     "text": [
      "Training loss: 0.3734, Training accuracy: 0.8201\n",
      "Test loss: 0.5812, Test accuracy: 0.7667\n",
      "Epoch 95/500\n"
     ]
    },
    {
     "name": "stderr",
     "output_type": "stream",
     "text": [
      "Training: 100%|██████████| 8/8 [00:00<00:00, 218.58it/s]\n",
      "Evaluating: 100%|██████████| 2/2 [00:00<00:00, 163.03it/s]\n"
     ]
    },
    {
     "name": "stdout",
     "output_type": "stream",
     "text": [
      "Training loss: 0.3616, Training accuracy: 0.8243\n",
      "Test loss: 0.5818, Test accuracy: 0.7667\n",
      "Epoch 96/500\n"
     ]
    },
    {
     "name": "stderr",
     "output_type": "stream",
     "text": [
      "Training: 100%|██████████| 8/8 [00:00<00:00, 399.62it/s]\n",
      "Evaluating: 100%|██████████| 2/2 [00:00<00:00, 333.00it/s]\n"
     ]
    },
    {
     "name": "stdout",
     "output_type": "stream",
     "text": [
      "Training loss: 0.3575, Training accuracy: 0.8243\n",
      "Test loss: 0.5830, Test accuracy: 0.7667\n",
      "Epoch 97/500\n"
     ]
    },
    {
     "name": "stderr",
     "output_type": "stream",
     "text": [
      "Training: 100%|██████████| 8/8 [00:00<00:00, 279.25it/s]\n",
      "Evaluating: 100%|██████████| 2/2 [00:00<00:00, 155.01it/s]\n"
     ]
    },
    {
     "name": "stdout",
     "output_type": "stream",
     "text": [
      "Training loss: 0.3665, Training accuracy: 0.8201\n",
      "Test loss: 0.5819, Test accuracy: 0.7667\n",
      "Epoch 98/500\n"
     ]
    },
    {
     "name": "stderr",
     "output_type": "stream",
     "text": [
      "Training: 100%|██████████| 8/8 [00:00<00:00, 230.05it/s]\n",
      "Evaluating: 100%|██████████| 2/2 [00:00<00:00, 333.04it/s]\n"
     ]
    },
    {
     "name": "stdout",
     "output_type": "stream",
     "text": [
      "Training loss: 0.3598, Training accuracy: 0.8243\n",
      "Test loss: 0.5850, Test accuracy: 0.7667\n",
      "Epoch 99/500\n"
     ]
    },
    {
     "name": "stderr",
     "output_type": "stream",
     "text": [
      "Training: 100%|██████████| 8/8 [00:00<00:00, 325.32it/s]\n",
      "Evaluating: 100%|██████████| 2/2 [00:00<00:00, 141.55it/s]\n"
     ]
    },
    {
     "name": "stdout",
     "output_type": "stream",
     "text": [
      "Training loss: 0.3570, Training accuracy: 0.8159\n",
      "Test loss: 0.5876, Test accuracy: 0.7667\n",
      "Epoch 100/500\n"
     ]
    },
    {
     "name": "stderr",
     "output_type": "stream",
     "text": [
      "Training: 100%|██████████| 8/8 [00:00<00:00, 224.19it/s]\n",
      "Evaluating: 100%|██████████| 2/2 [00:00<00:00, 285.47it/s]\n"
     ]
    },
    {
     "name": "stdout",
     "output_type": "stream",
     "text": [
      "Training loss: 0.3747, Training accuracy: 0.8075\n",
      "Test loss: 0.5854, Test accuracy: 0.7667\n",
      "Epoch 101/500\n"
     ]
    },
    {
     "name": "stderr",
     "output_type": "stream",
     "text": [
      "Training: 100%|██████████| 8/8 [00:00<00:00, 343.09it/s]\n",
      "Evaluating: 100%|██████████| 2/2 [00:00<00:00, 283.34it/s]\n"
     ]
    },
    {
     "name": "stdout",
     "output_type": "stream",
     "text": [
      "Training loss: 0.3645, Training accuracy: 0.8159\n",
      "Test loss: 0.5843, Test accuracy: 0.7667\n",
      "Epoch 102/500\n"
     ]
    },
    {
     "name": "stderr",
     "output_type": "stream",
     "text": [
      "Training: 100%|██████████| 8/8 [00:00<00:00, 316.55it/s]\n",
      "Evaluating: 100%|██████████| 2/2 [00:00<00:00, 101.27it/s]\n"
     ]
    },
    {
     "name": "stdout",
     "output_type": "stream",
     "text": [
      "Training loss: 0.3604, Training accuracy: 0.8243\n",
      "Test loss: 0.5788, Test accuracy: 0.7833\n",
      "Epoch 103/500\n"
     ]
    },
    {
     "name": "stderr",
     "output_type": "stream",
     "text": [
      "Training: 100%|██████████| 8/8 [00:00<00:00, 268.02it/s]\n",
      "Evaluating: 100%|██████████| 2/2 [00:00<00:00, 132.02it/s]\n"
     ]
    },
    {
     "name": "stdout",
     "output_type": "stream",
     "text": [
      "Training loss: 0.3591, Training accuracy: 0.8243\n",
      "Test loss: 0.5804, Test accuracy: 0.7667\n",
      "Epoch 104/500\n"
     ]
    },
    {
     "name": "stderr",
     "output_type": "stream",
     "text": [
      "Training: 100%|██████████| 8/8 [00:00<00:00, 217.90it/s]\n",
      "Evaluating: 100%|██████████| 2/2 [00:00<00:00, 140.56it/s]\n"
     ]
    },
    {
     "name": "stdout",
     "output_type": "stream",
     "text": [
      "Training loss: 0.3642, Training accuracy: 0.8201\n",
      "Test loss: 0.5800, Test accuracy: 0.7833\n",
      "Epoch 105/500\n"
     ]
    },
    {
     "name": "stderr",
     "output_type": "stream",
     "text": [
      "Training: 100%|██████████| 8/8 [00:00<00:00, 231.50it/s]\n",
      "Evaluating: 100%|██████████| 2/2 [00:00<00:00, 159.91it/s]\n"
     ]
    },
    {
     "name": "stdout",
     "output_type": "stream",
     "text": [
      "Training loss: 0.3730, Training accuracy: 0.8201\n",
      "Test loss: 0.5806, Test accuracy: 0.7667\n",
      "Epoch 106/500\n"
     ]
    },
    {
     "name": "stderr",
     "output_type": "stream",
     "text": [
      "Training: 100%|██████████| 8/8 [00:00<00:00, 229.08it/s]\n",
      "Evaluating: 100%|██████████| 2/2 [00:00<?, ?it/s]\n"
     ]
    },
    {
     "name": "stdout",
     "output_type": "stream",
     "text": [
      "Training loss: 0.3629, Training accuracy: 0.8243\n",
      "Test loss: 0.5820, Test accuracy: 0.7667\n",
      "Epoch 107/500\n"
     ]
    },
    {
     "name": "stderr",
     "output_type": "stream",
     "text": [
      "Training: 100%|██████████| 8/8 [00:00<00:00, 168.26it/s]\n",
      "Evaluating: 100%|██████████| 2/2 [00:00<?, ?it/s]\n"
     ]
    },
    {
     "name": "stdout",
     "output_type": "stream",
     "text": [
      "Training loss: 0.3656, Training accuracy: 0.8201\n",
      "Test loss: 0.5792, Test accuracy: 0.7833\n",
      "Epoch 108/500\n"
     ]
    },
    {
     "name": "stderr",
     "output_type": "stream",
     "text": [
      "Training: 100%|██████████| 8/8 [00:00<00:00, 167.80it/s]\n",
      "Evaluating: 100%|██████████| 2/2 [00:00<00:00, 2460.00it/s]\n"
     ]
    },
    {
     "name": "stdout",
     "output_type": "stream",
     "text": [
      "Training loss: 0.3646, Training accuracy: 0.8243\n",
      "Test loss: 0.5821, Test accuracy: 0.7667\n",
      "Epoch 109/500\n"
     ]
    },
    {
     "name": "stderr",
     "output_type": "stream",
     "text": [
      "Training: 100%|██████████| 8/8 [00:00<00:00, 202.79it/s]\n",
      "Evaluating: 100%|██████████| 2/2 [00:00<00:00, 332.95it/s]\n"
     ]
    },
    {
     "name": "stdout",
     "output_type": "stream",
     "text": [
      "Training loss: 0.3630, Training accuracy: 0.8243\n",
      "Test loss: 0.5824, Test accuracy: 0.7667\n",
      "Epoch 110/500\n"
     ]
    },
    {
     "name": "stderr",
     "output_type": "stream",
     "text": [
      "Training: 100%|██████████| 8/8 [00:00<00:00, 256.09it/s]\n",
      "Evaluating: 100%|██████████| 2/2 [00:00<00:00, 333.12it/s]\n"
     ]
    },
    {
     "name": "stdout",
     "output_type": "stream",
     "text": [
      "Training loss: 0.3624, Training accuracy: 0.8243\n",
      "Test loss: 0.5810, Test accuracy: 0.7667\n",
      "Epoch 111/500\n"
     ]
    },
    {
     "name": "stderr",
     "output_type": "stream",
     "text": [
      "Training: 100%|██████████| 8/8 [00:00<00:00, 291.86it/s]\n",
      "Evaluating: 100%|██████████| 2/2 [00:00<00:00, 140.20it/s]\n"
     ]
    },
    {
     "name": "stdout",
     "output_type": "stream",
     "text": [
      "Training loss: 0.3587, Training accuracy: 0.8243\n",
      "Test loss: 0.5796, Test accuracy: 0.7833\n",
      "Epoch 112/500\n"
     ]
    },
    {
     "name": "stderr",
     "output_type": "stream",
     "text": [
      "Training: 100%|██████████| 8/8 [00:00<00:00, 227.54it/s]\n",
      "Evaluating: 100%|██████████| 2/2 [00:00<?, ?it/s]\n"
     ]
    },
    {
     "name": "stdout",
     "output_type": "stream",
     "text": [
      "Training loss: 0.3654, Training accuracy: 0.8201\n",
      "Test loss: 0.5802, Test accuracy: 0.7667\n",
      "Epoch 113/500\n"
     ]
    },
    {
     "name": "stderr",
     "output_type": "stream",
     "text": [
      "Training: 100%|██████████| 8/8 [00:00<00:00, 229.87it/s]\n",
      "Evaluating: 100%|██████████| 2/2 [00:00<00:00, 153.39it/s]\n"
     ]
    },
    {
     "name": "stdout",
     "output_type": "stream",
     "text": [
      "Training loss: 0.3662, Training accuracy: 0.8201\n",
      "Test loss: 0.5797, Test accuracy: 0.7833\n",
      "Epoch 114/500\n"
     ]
    },
    {
     "name": "stderr",
     "output_type": "stream",
     "text": [
      "Training: 100%|██████████| 8/8 [00:00<00:00, 244.32it/s]\n",
      "Evaluating: 100%|██████████| 2/2 [00:00<?, ?it/s]\n"
     ]
    },
    {
     "name": "stdout",
     "output_type": "stream",
     "text": [
      "Training loss: 0.3716, Training accuracy: 0.8201\n",
      "Test loss: 0.5796, Test accuracy: 0.7833\n",
      "Epoch 115/500\n"
     ]
    },
    {
     "name": "stderr",
     "output_type": "stream",
     "text": [
      "Training: 100%|██████████| 8/8 [00:00<00:00, 502.36it/s]\n",
      "Evaluating: 100%|██████████| 2/2 [00:00<00:00, 324.90it/s]\n"
     ]
    },
    {
     "name": "stdout",
     "output_type": "stream",
     "text": [
      "Training loss: 0.3605, Training accuracy: 0.8201\n",
      "Test loss: 0.5804, Test accuracy: 0.7667\n",
      "Epoch 116/500\n"
     ]
    },
    {
     "name": "stderr",
     "output_type": "stream",
     "text": [
      "Training: 100%|██████████| 8/8 [00:00<00:00, 224.78it/s]\n",
      "Evaluating: 100%|██████████| 2/2 [00:00<00:00, 273.60it/s]\n"
     ]
    },
    {
     "name": "stdout",
     "output_type": "stream",
     "text": [
      "Training loss: 0.3745, Training accuracy: 0.8201\n",
      "Test loss: 0.5795, Test accuracy: 0.7833\n",
      "Epoch 117/500\n"
     ]
    },
    {
     "name": "stderr",
     "output_type": "stream",
     "text": [
      "Training: 100%|██████████| 8/8 [00:00<00:00, 230.15it/s]\n",
      "Evaluating: 100%|██████████| 2/2 [00:00<00:00, 1020.26it/s]\n"
     ]
    },
    {
     "name": "stdout",
     "output_type": "stream",
     "text": [
      "Training loss: 0.3583, Training accuracy: 0.8201\n",
      "Test loss: 0.5814, Test accuracy: 0.7667\n",
      "Epoch 118/500\n"
     ]
    },
    {
     "name": "stderr",
     "output_type": "stream",
     "text": [
      "Training: 100%|██████████| 8/8 [00:00<00:00, 254.26it/s]\n",
      "Evaluating: 100%|██████████| 2/2 [00:00<00:00, 139.07it/s]\n"
     ]
    },
    {
     "name": "stdout",
     "output_type": "stream",
     "text": [
      "Training loss: 0.3712, Training accuracy: 0.8201\n",
      "Test loss: 0.5855, Test accuracy: 0.7667\n",
      "Epoch 119/500\n"
     ]
    },
    {
     "name": "stderr",
     "output_type": "stream",
     "text": [
      "Training: 100%|██████████| 8/8 [00:00<00:00, 209.42it/s]\n",
      "Evaluating: 100%|██████████| 2/2 [00:00<00:00, 333.29it/s]\n"
     ]
    },
    {
     "name": "stdout",
     "output_type": "stream",
     "text": [
      "Training loss: 0.3528, Training accuracy: 0.8285\n",
      "Test loss: 0.5819, Test accuracy: 0.7667\n",
      "Epoch 120/500\n"
     ]
    },
    {
     "name": "stderr",
     "output_type": "stream",
     "text": [
      "Training: 100%|██████████| 8/8 [00:00<00:00, 240.81it/s]\n",
      "Evaluating: 100%|██████████| 2/2 [00:00<00:00, 285.49it/s]\n"
     ]
    },
    {
     "name": "stdout",
     "output_type": "stream",
     "text": [
      "Training loss: 0.3806, Training accuracy: 0.8243\n",
      "Test loss: 0.5794, Test accuracy: 0.7667\n",
      "Epoch 121/500\n"
     ]
    },
    {
     "name": "stderr",
     "output_type": "stream",
     "text": [
      "Training: 100%|██████████| 8/8 [00:00<00:00, 278.22it/s]\n",
      "Evaluating: 100%|██████████| 2/2 [00:00<00:00, 138.90it/s]\n"
     ]
    },
    {
     "name": "stdout",
     "output_type": "stream",
     "text": [
      "Training loss: 0.3653, Training accuracy: 0.8243\n",
      "Test loss: 0.5778, Test accuracy: 0.7833\n",
      "Epoch 122/500\n"
     ]
    },
    {
     "name": "stderr",
     "output_type": "stream",
     "text": [
      "Training: 100%|██████████| 8/8 [00:00<00:00, 221.25it/s]\n",
      "Evaluating: 100%|██████████| 2/2 [00:00<00:00, 145.59it/s]\n"
     ]
    },
    {
     "name": "stdout",
     "output_type": "stream",
     "text": [
      "Training loss: 0.3662, Training accuracy: 0.8243\n",
      "Test loss: 0.5797, Test accuracy: 0.7667\n",
      "Epoch 123/500\n"
     ]
    },
    {
     "name": "stderr",
     "output_type": "stream",
     "text": [
      "Training: 100%|██████████| 8/8 [00:00<00:00, 233.82it/s]\n",
      "Evaluating: 100%|██████████| 2/2 [00:00<?, ?it/s]\n"
     ]
    },
    {
     "name": "stdout",
     "output_type": "stream",
     "text": [
      "Training loss: 0.3586, Training accuracy: 0.8201\n",
      "Test loss: 0.5862, Test accuracy: 0.7667\n",
      "Epoch 124/500\n"
     ]
    },
    {
     "name": "stderr",
     "output_type": "stream",
     "text": [
      "Training: 100%|██████████| 8/8 [00:00<00:00, 230.39it/s]\n",
      "Evaluating: 100%|██████████| 2/2 [00:00<00:00, 157.50it/s]\n"
     ]
    },
    {
     "name": "stdout",
     "output_type": "stream",
     "text": [
      "Training loss: 0.3579, Training accuracy: 0.8243\n",
      "Test loss: 0.5815, Test accuracy: 0.7667\n",
      "Epoch 125/500\n"
     ]
    },
    {
     "name": "stderr",
     "output_type": "stream",
     "text": [
      "Training: 100%|██████████| 8/8 [00:00<00:00, 208.24it/s]\n",
      "Evaluating: 100%|██████████| 2/2 [00:00<00:00, 285.44it/s]\n"
     ]
    },
    {
     "name": "stdout",
     "output_type": "stream",
     "text": [
      "Training loss: 0.3575, Training accuracy: 0.8243\n",
      "Test loss: 0.5812, Test accuracy: 0.7667\n",
      "Epoch 126/500\n"
     ]
    },
    {
     "name": "stderr",
     "output_type": "stream",
     "text": [
      "Training: 100%|██████████| 8/8 [00:00<00:00, 361.22it/s]\n",
      "Evaluating: 100%|██████████| 2/2 [00:00<00:00, 285.51it/s]\n"
     ]
    },
    {
     "name": "stdout",
     "output_type": "stream",
     "text": [
      "Training loss: 0.3561, Training accuracy: 0.8201\n",
      "Test loss: 0.5794, Test accuracy: 0.7667\n",
      "Epoch 127/500\n"
     ]
    },
    {
     "name": "stderr",
     "output_type": "stream",
     "text": [
      "Training: 100%|██████████| 8/8 [00:00<00:00, 280.38it/s]\n",
      "Evaluating: 100%|██████████| 2/2 [00:00<00:00, 141.33it/s]\n"
     ]
    },
    {
     "name": "stdout",
     "output_type": "stream",
     "text": [
      "Training loss: 0.3576, Training accuracy: 0.8201\n",
      "Test loss: 0.5848, Test accuracy: 0.7667\n",
      "Epoch 128/500\n"
     ]
    },
    {
     "name": "stderr",
     "output_type": "stream",
     "text": [
      "Training: 100%|██████████| 8/8 [00:00<00:00, 222.44it/s]\n",
      "Evaluating: 100%|██████████| 2/2 [00:00<00:00, 138.88it/s]\n"
     ]
    },
    {
     "name": "stdout",
     "output_type": "stream",
     "text": [
      "Training loss: 0.3562, Training accuracy: 0.8201\n",
      "Test loss: 0.5837, Test accuracy: 0.7667\n",
      "Epoch 129/500\n"
     ]
    },
    {
     "name": "stderr",
     "output_type": "stream",
     "text": [
      "Training: 100%|██████████| 8/8 [00:00<00:00, 224.99it/s]\n",
      "Evaluating: 100%|██████████| 2/2 [00:00<00:00, 140.33it/s]\n"
     ]
    },
    {
     "name": "stdout",
     "output_type": "stream",
     "text": [
      "Training loss: 0.3735, Training accuracy: 0.8243\n",
      "Test loss: 0.5793, Test accuracy: 0.7667\n",
      "Epoch 130/500\n"
     ]
    },
    {
     "name": "stderr",
     "output_type": "stream",
     "text": [
      "Training: 100%|██████████| 8/8 [00:00<00:00, 223.33it/s]\n",
      "Evaluating: 100%|██████████| 2/2 [00:00<00:00, 137.08it/s]\n"
     ]
    },
    {
     "name": "stdout",
     "output_type": "stream",
     "text": [
      "Training loss: 0.3664, Training accuracy: 0.8243\n",
      "Test loss: 0.5807, Test accuracy: 0.7667\n",
      "Epoch 131/500\n"
     ]
    },
    {
     "name": "stderr",
     "output_type": "stream",
     "text": [
      "Training: 100%|██████████| 8/8 [00:00<00:00, 181.30it/s]\n",
      "Evaluating: 100%|██████████| 2/2 [00:00<00:00, 531.73it/s]\n"
     ]
    },
    {
     "name": "stdout",
     "output_type": "stream",
     "text": [
      "Training loss: 0.3530, Training accuracy: 0.8243\n",
      "Test loss: 0.5810, Test accuracy: 0.7667\n",
      "Epoch 132/500\n"
     ]
    },
    {
     "name": "stderr",
     "output_type": "stream",
     "text": [
      "Training: 100%|██████████| 8/8 [00:00<00:00, 223.57it/s]\n",
      "Evaluating: 100%|██████████| 2/2 [00:00<00:00, 131.53it/s]\n"
     ]
    },
    {
     "name": "stdout",
     "output_type": "stream",
     "text": [
      "Training loss: 0.3725, Training accuracy: 0.8243\n",
      "Test loss: 0.5855, Test accuracy: 0.7667\n",
      "Epoch 133/500\n"
     ]
    },
    {
     "name": "stderr",
     "output_type": "stream",
     "text": [
      "Training: 100%|██████████| 8/8 [00:00<00:00, 227.09it/s]\n",
      "Evaluating: 100%|██████████| 2/2 [00:00<00:00, 149.72it/s]\n"
     ]
    },
    {
     "name": "stdout",
     "output_type": "stream",
     "text": [
      "Training loss: 0.3772, Training accuracy: 0.8285\n",
      "Test loss: 0.5821, Test accuracy: 0.7667\n",
      "Epoch 134/500\n"
     ]
    },
    {
     "name": "stderr",
     "output_type": "stream",
     "text": [
      "Training: 100%|██████████| 8/8 [00:00<00:00, 220.63it/s]\n",
      "Evaluating: 100%|██████████| 2/2 [00:00<00:00, 141.83it/s]\n"
     ]
    },
    {
     "name": "stdout",
     "output_type": "stream",
     "text": [
      "Training loss: 0.3654, Training accuracy: 0.8243\n",
      "Test loss: 0.5820, Test accuracy: 0.7667\n",
      "Epoch 135/500\n"
     ]
    },
    {
     "name": "stderr",
     "output_type": "stream",
     "text": [
      "Training: 100%|██████████| 8/8 [00:00<00:00, 221.91it/s]\n",
      "Evaluating: 100%|██████████| 2/2 [00:00<00:00, 144.95it/s]\n"
     ]
    },
    {
     "name": "stdout",
     "output_type": "stream",
     "text": [
      "Training loss: 0.3557, Training accuracy: 0.8243\n",
      "Test loss: 0.5814, Test accuracy: 0.7667\n",
      "Epoch 136/500\n"
     ]
    },
    {
     "name": "stderr",
     "output_type": "stream",
     "text": [
      "Training: 100%|██████████| 8/8 [00:00<00:00, 221.14it/s]\n",
      "Evaluating: 100%|██████████| 2/2 [00:00<00:00, 139.94it/s]\n"
     ]
    },
    {
     "name": "stdout",
     "output_type": "stream",
     "text": [
      "Training loss: 0.3585, Training accuracy: 0.8243\n",
      "Test loss: 0.5823, Test accuracy: 0.7667\n",
      "Epoch 137/500\n"
     ]
    },
    {
     "name": "stderr",
     "output_type": "stream",
     "text": [
      "Training: 100%|██████████| 8/8 [00:00<00:00, 220.61it/s]\n",
      "Evaluating: 100%|██████████| 2/2 [00:00<00:00, 147.20it/s]\n"
     ]
    },
    {
     "name": "stdout",
     "output_type": "stream",
     "text": [
      "Training loss: 0.3650, Training accuracy: 0.8285\n",
      "Test loss: 0.5840, Test accuracy: 0.7667\n",
      "Epoch 138/500\n"
     ]
    },
    {
     "name": "stderr",
     "output_type": "stream",
     "text": [
      "Training: 100%|██████████| 8/8 [00:00<00:00, 155.98it/s]\n",
      "Evaluating: 100%|██████████| 2/2 [00:00<00:00, 145.53it/s]\n"
     ]
    },
    {
     "name": "stdout",
     "output_type": "stream",
     "text": [
      "Training loss: 0.3554, Training accuracy: 0.8201\n",
      "Test loss: 0.5868, Test accuracy: 0.7667\n",
      "Epoch 139/500\n"
     ]
    },
    {
     "name": "stderr",
     "output_type": "stream",
     "text": [
      "Training: 100%|██████████| 8/8 [00:00<00:00, 170.95it/s]\n",
      "Evaluating: 100%|██████████| 2/2 [00:00<00:00, 250.06it/s]\n"
     ]
    },
    {
     "name": "stdout",
     "output_type": "stream",
     "text": [
      "Training loss: 0.3593, Training accuracy: 0.8201\n",
      "Test loss: 0.5820, Test accuracy: 0.7667\n",
      "Epoch 140/500\n"
     ]
    },
    {
     "name": "stderr",
     "output_type": "stream",
     "text": [
      "Training: 100%|██████████| 8/8 [00:00<00:00, 195.20it/s]\n",
      "Evaluating: 100%|██████████| 2/2 [00:00<?, ?it/s]\n"
     ]
    },
    {
     "name": "stdout",
     "output_type": "stream",
     "text": [
      "Training loss: 0.3494, Training accuracy: 0.8243\n",
      "Test loss: 0.5821, Test accuracy: 0.7667\n",
      "Epoch 141/500\n"
     ]
    },
    {
     "name": "stderr",
     "output_type": "stream",
     "text": [
      "Training: 100%|██████████| 8/8 [00:00<00:00, 164.14it/s]\n",
      "Evaluating: 100%|██████████| 2/2 [00:00<00:00, 285.49it/s]\n"
     ]
    },
    {
     "name": "stdout",
     "output_type": "stream",
     "text": [
      "Training loss: 0.3608, Training accuracy: 0.8159\n",
      "Test loss: 0.5856, Test accuracy: 0.7667\n",
      "Epoch 142/500\n"
     ]
    },
    {
     "name": "stderr",
     "output_type": "stream",
     "text": [
      "Training: 100%|██████████| 8/8 [00:00<00:00, 214.53it/s]\n",
      "Evaluating: 100%|██████████| 2/2 [00:00<00:00, 1491.31it/s]\n"
     ]
    },
    {
     "name": "stdout",
     "output_type": "stream",
     "text": [
      "Training loss: 0.3729, Training accuracy: 0.8243\n",
      "Test loss: 0.5822, Test accuracy: 0.7667\n",
      "Epoch 143/500\n"
     ]
    },
    {
     "name": "stderr",
     "output_type": "stream",
     "text": [
      "Training: 100%|██████████| 8/8 [00:00<00:00, 173.08it/s]\n",
      "Evaluating: 100%|██████████| 2/2 [00:00<00:00, 285.47it/s]\n"
     ]
    },
    {
     "name": "stdout",
     "output_type": "stream",
     "text": [
      "Training loss: 0.3597, Training accuracy: 0.8243\n",
      "Test loss: 0.5746, Test accuracy: 0.7833\n",
      "Epoch 144/500\n"
     ]
    },
    {
     "name": "stderr",
     "output_type": "stream",
     "text": [
      "Training: 100%|██████████| 8/8 [00:00<00:00, 334.29it/s]\n",
      "Evaluating: 100%|██████████| 2/2 [00:00<00:00, 248.68it/s]\n"
     ]
    },
    {
     "name": "stdout",
     "output_type": "stream",
     "text": [
      "Training loss: 0.3675, Training accuracy: 0.8285\n",
      "Test loss: 0.5781, Test accuracy: 0.7833\n",
      "Epoch 145/500\n"
     ]
    },
    {
     "name": "stderr",
     "output_type": "stream",
     "text": [
      "Training: 100%|██████████| 8/8 [00:00<00:00, 201.12it/s]\n",
      "Evaluating: 100%|██████████| 2/2 [00:00<00:00, 575.55it/s]\n"
     ]
    },
    {
     "name": "stdout",
     "output_type": "stream",
     "text": [
      "Training loss: 0.3615, Training accuracy: 0.8243\n",
      "Test loss: 0.5788, Test accuracy: 0.7667\n",
      "Epoch 146/500\n"
     ]
    },
    {
     "name": "stderr",
     "output_type": "stream",
     "text": [
      "Training: 100%|██████████| 8/8 [00:00<00:00, 179.99it/s]\n",
      "Evaluating: 100%|██████████| 2/2 [00:00<00:00, 594.68it/s]\n"
     ]
    },
    {
     "name": "stdout",
     "output_type": "stream",
     "text": [
      "Training loss: 0.3484, Training accuracy: 0.8285\n",
      "Test loss: 0.5840, Test accuracy: 0.7667\n",
      "Epoch 147/500\n"
     ]
    },
    {
     "name": "stderr",
     "output_type": "stream",
     "text": [
      "Training: 100%|██████████| 8/8 [00:00<00:00, 153.70it/s]\n",
      "Evaluating: 100%|██████████| 2/2 [00:00<00:00, 173.37it/s]\n"
     ]
    },
    {
     "name": "stdout",
     "output_type": "stream",
     "text": [
      "Training loss: 0.3557, Training accuracy: 0.8117\n",
      "Test loss: 0.5891, Test accuracy: 0.7667\n",
      "Epoch 148/500\n"
     ]
    },
    {
     "name": "stderr",
     "output_type": "stream",
     "text": [
      "Training: 100%|██████████| 8/8 [00:00<00:00, 231.70it/s]\n",
      "Evaluating: 100%|██████████| 2/2 [00:00<00:00, 178.03it/s]\n"
     ]
    },
    {
     "name": "stdout",
     "output_type": "stream",
     "text": [
      "Training loss: 0.3627, Training accuracy: 0.8117\n",
      "Test loss: 0.5857, Test accuracy: 0.7667\n",
      "Epoch 149/500\n"
     ]
    },
    {
     "name": "stderr",
     "output_type": "stream",
     "text": [
      "Training: 100%|██████████| 8/8 [00:00<00:00, 162.23it/s]\n",
      "Evaluating: 100%|██████████| 2/2 [00:00<00:00, 390.64it/s]\n"
     ]
    },
    {
     "name": "stdout",
     "output_type": "stream",
     "text": [
      "Training loss: 0.3748, Training accuracy: 0.8159\n",
      "Test loss: 0.5780, Test accuracy: 0.7833\n",
      "Epoch 150/500\n"
     ]
    },
    {
     "name": "stderr",
     "output_type": "stream",
     "text": [
      "Training: 100%|██████████| 8/8 [00:00<00:00, 166.40it/s]\n",
      "Evaluating: 100%|██████████| 2/2 [00:00<00:00, 1107.85it/s]\n"
     ]
    },
    {
     "name": "stdout",
     "output_type": "stream",
     "text": [
      "Training loss: 0.3719, Training accuracy: 0.8201\n",
      "Test loss: 0.5817, Test accuracy: 0.7667\n",
      "Epoch 151/500\n"
     ]
    },
    {
     "name": "stderr",
     "output_type": "stream",
     "text": [
      "Training: 100%|██████████| 8/8 [00:00<00:00, 166.90it/s]\n",
      "Evaluating: 100%|██████████| 2/2 [00:00<00:00, 172.93it/s]\n"
     ]
    },
    {
     "name": "stdout",
     "output_type": "stream",
     "text": [
      "Training loss: 0.3579, Training accuracy: 0.8243\n",
      "Test loss: 0.5810, Test accuracy: 0.7667\n",
      "Epoch 152/500\n"
     ]
    },
    {
     "name": "stderr",
     "output_type": "stream",
     "text": [
      "Training: 100%|██████████| 8/8 [00:00<00:00, 162.19it/s]\n",
      "Evaluating: 100%|██████████| 2/2 [00:00<00:00, 345.22it/s]\n"
     ]
    },
    {
     "name": "stdout",
     "output_type": "stream",
     "text": [
      "Training loss: 0.3621, Training accuracy: 0.8243\n",
      "Test loss: 0.5787, Test accuracy: 0.7667\n",
      "Epoch 153/500\n"
     ]
    },
    {
     "name": "stderr",
     "output_type": "stream",
     "text": [
      "Training: 100%|██████████| 8/8 [00:00<00:00, 161.92it/s]\n",
      "Evaluating: 100%|██████████| 2/2 [00:00<00:00, 181.85it/s]\n"
     ]
    },
    {
     "name": "stdout",
     "output_type": "stream",
     "text": [
      "Training loss: 0.3554, Training accuracy: 0.8243\n",
      "Test loss: 0.5823, Test accuracy: 0.7667\n",
      "Epoch 154/500\n"
     ]
    },
    {
     "name": "stderr",
     "output_type": "stream",
     "text": [
      "Training: 100%|██████████| 8/8 [00:00<00:00, 192.58it/s]\n",
      "Evaluating: 100%|██████████| 2/2 [00:00<00:00, 140.63it/s]\n"
     ]
    },
    {
     "name": "stdout",
     "output_type": "stream",
     "text": [
      "Training loss: 0.3613, Training accuracy: 0.8243\n",
      "Test loss: 0.5870, Test accuracy: 0.7667\n",
      "Epoch 155/500\n"
     ]
    },
    {
     "name": "stderr",
     "output_type": "stream",
     "text": [
      "Training: 100%|██████████| 8/8 [00:00<00:00, 159.73it/s]\n",
      "Evaluating: 100%|██████████| 2/2 [00:00<00:00, 193.14it/s]\n"
     ]
    },
    {
     "name": "stdout",
     "output_type": "stream",
     "text": [
      "Training loss: 0.3671, Training accuracy: 0.8201\n",
      "Test loss: 0.5824, Test accuracy: 0.7667\n",
      "Epoch 156/500\n"
     ]
    },
    {
     "name": "stderr",
     "output_type": "stream",
     "text": [
      "Training: 100%|██████████| 8/8 [00:00<00:00, 170.31it/s]\n",
      "Evaluating: 100%|██████████| 2/2 [00:00<00:00, 305.38it/s]\n"
     ]
    },
    {
     "name": "stdout",
     "output_type": "stream",
     "text": [
      "Training loss: 0.3538, Training accuracy: 0.8285\n",
      "Test loss: 0.5817, Test accuracy: 0.7667\n",
      "Epoch 157/500\n"
     ]
    },
    {
     "name": "stderr",
     "output_type": "stream",
     "text": [
      "Training: 100%|██████████| 8/8 [00:00<00:00, 175.68it/s]\n",
      "Evaluating: 100%|██████████| 2/2 [00:00<00:00, 3428.12it/s]\n"
     ]
    },
    {
     "name": "stdout",
     "output_type": "stream",
     "text": [
      "Training loss: 0.3676, Training accuracy: 0.8285\n",
      "Test loss: 0.5816, Test accuracy: 0.7667\n",
      "Epoch 158/500\n"
     ]
    },
    {
     "name": "stderr",
     "output_type": "stream",
     "text": [
      "Training: 100%|██████████| 8/8 [00:00<00:00, 154.22it/s]\n",
      "Evaluating: 100%|██████████| 2/2 [00:00<00:00, 159.58it/s]\n"
     ]
    },
    {
     "name": "stdout",
     "output_type": "stream",
     "text": [
      "Training loss: 0.3478, Training accuracy: 0.8285\n",
      "Test loss: 0.5758, Test accuracy: 0.7833\n",
      "Epoch 159/500\n"
     ]
    },
    {
     "name": "stderr",
     "output_type": "stream",
     "text": [
      "Training: 100%|██████████| 8/8 [00:00<00:00, 212.54it/s]\n",
      "Evaluating: 100%|██████████| 2/2 [00:00<00:00, 143.01it/s]\n"
     ]
    },
    {
     "name": "stdout",
     "output_type": "stream",
     "text": [
      "Training loss: 0.3696, Training accuracy: 0.8326\n",
      "Test loss: 0.5766, Test accuracy: 0.7833\n",
      "Epoch 160/500\n"
     ]
    },
    {
     "name": "stderr",
     "output_type": "stream",
     "text": [
      "Training: 100%|██████████| 8/8 [00:00<00:00, 173.78it/s]\n",
      "Evaluating: 100%|██████████| 2/2 [00:00<00:00, 731.03it/s]\n"
     ]
    },
    {
     "name": "stdout",
     "output_type": "stream",
     "text": [
      "Training loss: 0.3479, Training accuracy: 0.8243\n",
      "Test loss: 0.5812, Test accuracy: 0.7667\n",
      "Epoch 161/500\n"
     ]
    },
    {
     "name": "stderr",
     "output_type": "stream",
     "text": [
      "Training: 100%|██████████| 8/8 [00:00<00:00, 160.30it/s]\n",
      "Evaluating: 100%|██████████| 2/2 [00:00<?, ?it/s]\n"
     ]
    },
    {
     "name": "stdout",
     "output_type": "stream",
     "text": [
      "Training loss: 0.3553, Training accuracy: 0.8326\n",
      "Test loss: 0.5816, Test accuracy: 0.7667\n",
      "Epoch 162/500\n"
     ]
    },
    {
     "name": "stderr",
     "output_type": "stream",
     "text": [
      "Training: 100%|██████████| 8/8 [00:00<00:00, 192.02it/s]\n",
      "Evaluating: 100%|██████████| 2/2 [00:00<00:00, 178.61it/s]\n"
     ]
    },
    {
     "name": "stdout",
     "output_type": "stream",
     "text": [
      "Training loss: 0.3569, Training accuracy: 0.8326\n",
      "Test loss: 0.5801, Test accuracy: 0.7667\n",
      "Epoch 163/500\n"
     ]
    },
    {
     "name": "stderr",
     "output_type": "stream",
     "text": [
      "Training: 100%|██████████| 8/8 [00:00<00:00, 172.25it/s]\n",
      "Evaluating: 100%|██████████| 2/2 [00:00<00:00, 477.41it/s]\n"
     ]
    },
    {
     "name": "stdout",
     "output_type": "stream",
     "text": [
      "Training loss: 0.3699, Training accuracy: 0.8243\n",
      "Test loss: 0.5777, Test accuracy: 0.7667\n",
      "Epoch 164/500\n"
     ]
    },
    {
     "name": "stderr",
     "output_type": "stream",
     "text": [
      "Training: 100%|██████████| 8/8 [00:00<00:00, 160.04it/s]\n",
      "Evaluating: 100%|██████████| 2/2 [00:00<?, ?it/s]\n"
     ]
    },
    {
     "name": "stdout",
     "output_type": "stream",
     "text": [
      "Training loss: 0.3522, Training accuracy: 0.8243\n",
      "Test loss: 0.5782, Test accuracy: 0.7667\n",
      "Epoch 165/500\n"
     ]
    },
    {
     "name": "stderr",
     "output_type": "stream",
     "text": [
      "Training: 100%|██████████| 8/8 [00:00<00:00, 191.75it/s]\n",
      "Evaluating: 100%|██████████| 2/2 [00:00<00:00, 177.82it/s]\n"
     ]
    },
    {
     "name": "stdout",
     "output_type": "stream",
     "text": [
      "Training loss: 0.3558, Training accuracy: 0.8285\n",
      "Test loss: 0.5851, Test accuracy: 0.7667\n",
      "Epoch 166/500\n"
     ]
    },
    {
     "name": "stderr",
     "output_type": "stream",
     "text": [
      "Training: 100%|██████████| 8/8 [00:00<00:00, 176.68it/s]\n",
      "Evaluating: 100%|██████████| 2/2 [00:00<00:00, 742.62it/s]\n"
     ]
    },
    {
     "name": "stdout",
     "output_type": "stream",
     "text": [
      "Training loss: 0.3728, Training accuracy: 0.8117\n",
      "Test loss: 0.5843, Test accuracy: 0.7667\n",
      "Epoch 167/500\n"
     ]
    },
    {
     "name": "stderr",
     "output_type": "stream",
     "text": [
      "Training: 100%|██████████| 8/8 [00:00<00:00, 159.34it/s]\n",
      "Evaluating: 100%|██████████| 2/2 [00:00<00:00, 193.01it/s]\n"
     ]
    },
    {
     "name": "stdout",
     "output_type": "stream",
     "text": [
      "Training loss: 0.3599, Training accuracy: 0.8285\n",
      "Test loss: 0.5788, Test accuracy: 0.7667\n",
      "Epoch 168/500\n"
     ]
    },
    {
     "name": "stderr",
     "output_type": "stream",
     "text": [
      "Training: 100%|██████████| 8/8 [00:00<00:00, 193.71it/s]\n",
      "Evaluating: 100%|██████████| 2/2 [00:00<00:00, 142.43it/s]\n"
     ]
    },
    {
     "name": "stdout",
     "output_type": "stream",
     "text": [
      "Training loss: 0.3733, Training accuracy: 0.8243\n",
      "Test loss: 0.5824, Test accuracy: 0.7667\n",
      "Epoch 169/500\n"
     ]
    },
    {
     "name": "stderr",
     "output_type": "stream",
     "text": [
      "Training: 100%|██████████| 8/8 [00:00<00:00, 182.91it/s]\n",
      "Evaluating: 100%|██████████| 2/2 [00:00<00:00, 383.30it/s]\n"
     ]
    },
    {
     "name": "stdout",
     "output_type": "stream",
     "text": [
      "Training loss: 0.3510, Training accuracy: 0.8326\n",
      "Test loss: 0.5809, Test accuracy: 0.7667\n",
      "Epoch 170/500\n"
     ]
    },
    {
     "name": "stderr",
     "output_type": "stream",
     "text": [
      "Training: 100%|██████████| 8/8 [00:00<00:00, 160.71it/s]\n",
      "Evaluating: 100%|██████████| 2/2 [00:00<00:00, 179.46it/s]\n"
     ]
    },
    {
     "name": "stdout",
     "output_type": "stream",
     "text": [
      "Training loss: 0.3605, Training accuracy: 0.8285\n",
      "Test loss: 0.5797, Test accuracy: 0.7667\n",
      "Epoch 171/500\n"
     ]
    },
    {
     "name": "stderr",
     "output_type": "stream",
     "text": [
      "Training: 100%|██████████| 8/8 [00:00<00:00, 161.46it/s]\n",
      "Evaluating: 100%|██████████| 2/2 [00:00<00:00, 446.13it/s]\n"
     ]
    },
    {
     "name": "stdout",
     "output_type": "stream",
     "text": [
      "Training loss: 0.3675, Training accuracy: 0.8326\n",
      "Test loss: 0.5798, Test accuracy: 0.7667\n",
      "Epoch 172/500\n"
     ]
    },
    {
     "name": "stderr",
     "output_type": "stream",
     "text": [
      "Training: 100%|██████████| 8/8 [00:00<00:00, 153.94it/s]\n",
      "Evaluating: 100%|██████████| 2/2 [00:00<00:00, 163.05it/s]\n"
     ]
    },
    {
     "name": "stdout",
     "output_type": "stream",
     "text": [
      "Training loss: 0.3638, Training accuracy: 0.8285\n",
      "Test loss: 0.5831, Test accuracy: 0.7667\n",
      "Epoch 173/500\n"
     ]
    },
    {
     "name": "stderr",
     "output_type": "stream",
     "text": [
      "Training: 100%|██████████| 8/8 [00:00<00:00, 220.27it/s]\n",
      "Evaluating: 100%|██████████| 2/2 [00:00<00:00, 149.79it/s]\n"
     ]
    },
    {
     "name": "stdout",
     "output_type": "stream",
     "text": [
      "Training loss: 0.3531, Training accuracy: 0.8285\n",
      "Test loss: 0.5791, Test accuracy: 0.7667\n",
      "Epoch 174/500\n"
     ]
    },
    {
     "name": "stderr",
     "output_type": "stream",
     "text": [
      "Training: 100%|██████████| 8/8 [00:00<00:00, 174.36it/s]\n",
      "Evaluating: 100%|██████████| 2/2 [00:00<00:00, 739.21it/s]\n"
     ]
    },
    {
     "name": "stdout",
     "output_type": "stream",
     "text": [
      "Training loss: 0.3679, Training accuracy: 0.8285\n",
      "Test loss: 0.5766, Test accuracy: 0.7833\n",
      "Epoch 175/500\n"
     ]
    },
    {
     "name": "stderr",
     "output_type": "stream",
     "text": [
      "Training: 100%|██████████| 8/8 [00:00<00:00, 159.88it/s]\n",
      "Evaluating: 100%|██████████| 2/2 [00:00<?, ?it/s]\n"
     ]
    },
    {
     "name": "stdout",
     "output_type": "stream",
     "text": [
      "Training loss: 0.3601, Training accuracy: 0.8243\n",
      "Test loss: 0.5768, Test accuracy: 0.7667\n",
      "Epoch 176/500\n"
     ]
    },
    {
     "name": "stderr",
     "output_type": "stream",
     "text": [
      "Training: 100%|██████████| 8/8 [00:00<00:00, 198.82it/s]\n",
      "Evaluating: 100%|██████████| 2/2 [00:00<00:00, 238.38it/s]\n"
     ]
    },
    {
     "name": "stdout",
     "output_type": "stream",
     "text": [
      "Training loss: 0.3540, Training accuracy: 0.8243\n",
      "Test loss: 0.5764, Test accuracy: 0.7833\n",
      "Epoch 177/500\n"
     ]
    },
    {
     "name": "stderr",
     "output_type": "stream",
     "text": [
      "Training: 100%|██████████| 8/8 [00:00<00:00, 195.41it/s]\n",
      "Evaluating: 100%|██████████| 2/2 [00:00<00:00, 149.08it/s]\n"
     ]
    },
    {
     "name": "stdout",
     "output_type": "stream",
     "text": [
      "Training loss: 0.3690, Training accuracy: 0.8285\n",
      "Test loss: 0.5823, Test accuracy: 0.7667\n",
      "Epoch 178/500\n"
     ]
    },
    {
     "name": "stderr",
     "output_type": "stream",
     "text": [
      "Training: 100%|██████████| 8/8 [00:00<00:00, 175.04it/s]\n",
      "Evaluating: 100%|██████████| 2/2 [00:00<00:00, 750.59it/s]\n"
     ]
    },
    {
     "name": "stdout",
     "output_type": "stream",
     "text": [
      "Training loss: 0.3738, Training accuracy: 0.8201\n",
      "Test loss: 0.5855, Test accuracy: 0.7667\n",
      "Epoch 179/500\n"
     ]
    },
    {
     "name": "stderr",
     "output_type": "stream",
     "text": [
      "Training: 100%|██████████| 8/8 [00:00<00:00, 157.60it/s]\n",
      "Evaluating: 100%|██████████| 2/2 [00:00<?, ?it/s]\n"
     ]
    },
    {
     "name": "stdout",
     "output_type": "stream",
     "text": [
      "Training loss: 0.3459, Training accuracy: 0.8159\n",
      "Test loss: 0.5768, Test accuracy: 0.7667\n",
      "Epoch 180/500\n"
     ]
    },
    {
     "name": "stderr",
     "output_type": "stream",
     "text": [
      "Training: 100%|██████████| 8/8 [00:00<00:00, 192.49it/s]\n",
      "Evaluating: 100%|██████████| 2/2 [00:00<00:00, 163.52it/s]\n"
     ]
    },
    {
     "name": "stdout",
     "output_type": "stream",
     "text": [
      "Training loss: 0.3567, Training accuracy: 0.8326\n",
      "Test loss: 0.5782, Test accuracy: 0.7667\n",
      "Epoch 181/500\n"
     ]
    },
    {
     "name": "stderr",
     "output_type": "stream",
     "text": [
      "Training: 100%|██████████| 8/8 [00:00<00:00, 178.90it/s]\n",
      "Evaluating: 100%|██████████| 2/2 [00:00<00:00, 439.31it/s]\n"
     ]
    },
    {
     "name": "stdout",
     "output_type": "stream",
     "text": [
      "Training loss: 0.3556, Training accuracy: 0.8243\n",
      "Test loss: 0.5830, Test accuracy: 0.7667\n",
      "Epoch 182/500\n"
     ]
    },
    {
     "name": "stderr",
     "output_type": "stream",
     "text": [
      "Training: 100%|██████████| 8/8 [00:00<00:00, 158.21it/s]\n",
      "Evaluating: 100%|██████████| 2/2 [00:00<00:00, 210.41it/s]\n"
     ]
    },
    {
     "name": "stdout",
     "output_type": "stream",
     "text": [
      "Training loss: 0.3609, Training accuracy: 0.8243\n",
      "Test loss: 0.5843, Test accuracy: 0.7667\n",
      "Epoch 183/500\n"
     ]
    },
    {
     "name": "stderr",
     "output_type": "stream",
     "text": [
      "Training: 100%|██████████| 8/8 [00:00<00:00, 197.48it/s]\n",
      "Evaluating: 100%|██████████| 2/2 [00:00<00:00, 241.52it/s]\n"
     ]
    },
    {
     "name": "stdout",
     "output_type": "stream",
     "text": [
      "Training loss: 0.3663, Training accuracy: 0.8243\n",
      "Test loss: 0.5806, Test accuracy: 0.7667\n",
      "Epoch 184/500\n"
     ]
    },
    {
     "name": "stderr",
     "output_type": "stream",
     "text": [
      "Training: 100%|██████████| 8/8 [00:00<00:00, 139.81it/s]\n",
      "Evaluating: 100%|██████████| 2/2 [00:00<00:00, 222.25it/s]\n"
     ]
    },
    {
     "name": "stdout",
     "output_type": "stream",
     "text": [
      "Training loss: 0.3643, Training accuracy: 0.8285\n",
      "Test loss: 0.5755, Test accuracy: 0.7833\n",
      "Epoch 185/500\n"
     ]
    },
    {
     "name": "stderr",
     "output_type": "stream",
     "text": [
      "Training: 100%|██████████| 8/8 [00:00<00:00, 146.08it/s]\n",
      "Evaluating: 100%|██████████| 2/2 [00:00<?, ?it/s]\n"
     ]
    },
    {
     "name": "stdout",
     "output_type": "stream",
     "text": [
      "Training loss: 0.3721, Training accuracy: 0.8243\n",
      "Test loss: 0.5769, Test accuracy: 0.7667\n",
      "Epoch 186/500\n"
     ]
    },
    {
     "name": "stderr",
     "output_type": "stream",
     "text": [
      "Training: 100%|██████████| 8/8 [00:00<00:00, 197.23it/s]\n",
      "Evaluating: 100%|██████████| 2/2 [00:00<00:00, 170.61it/s]\n"
     ]
    },
    {
     "name": "stdout",
     "output_type": "stream",
     "text": [
      "Training loss: 0.3586, Training accuracy: 0.8243\n",
      "Test loss: 0.5775, Test accuracy: 0.7667\n",
      "Epoch 187/500\n"
     ]
    },
    {
     "name": "stderr",
     "output_type": "stream",
     "text": [
      "Training: 100%|██████████| 8/8 [00:00<00:00, 179.47it/s]\n",
      "Evaluating: 100%|██████████| 2/2 [00:00<00:00, 622.25it/s]\n"
     ]
    },
    {
     "name": "stdout",
     "output_type": "stream",
     "text": [
      "Training loss: 0.3528, Training accuracy: 0.8285\n",
      "Test loss: 0.5845, Test accuracy: 0.7667\n",
      "Epoch 188/500\n"
     ]
    },
    {
     "name": "stderr",
     "output_type": "stream",
     "text": [
      "Training: 100%|██████████| 8/8 [00:00<00:00, 164.55it/s]\n",
      "Evaluating: 100%|██████████| 2/2 [00:00<?, ?it/s]\n"
     ]
    },
    {
     "name": "stdout",
     "output_type": "stream",
     "text": [
      "Training loss: 0.3738, Training accuracy: 0.8117\n",
      "Test loss: 0.5884, Test accuracy: 0.7667\n",
      "Epoch 189/500\n"
     ]
    },
    {
     "name": "stderr",
     "output_type": "stream",
     "text": [
      "Training: 100%|██████████| 8/8 [00:00<00:00, 189.72it/s]\n",
      "Evaluating: 100%|██████████| 2/2 [00:00<00:00, 170.71it/s]\n"
     ]
    },
    {
     "name": "stdout",
     "output_type": "stream",
     "text": [
      "Training loss: 0.3618, Training accuracy: 0.8117\n",
      "Test loss: 0.5758, Test accuracy: 0.7833\n",
      "Epoch 190/500\n"
     ]
    },
    {
     "name": "stderr",
     "output_type": "stream",
     "text": [
      "Training: 100%|██████████| 8/8 [00:00<00:00, 220.32it/s]\n",
      "Evaluating: 100%|██████████| 2/2 [00:00<00:00, 307.57it/s]\n"
     ]
    },
    {
     "name": "stdout",
     "output_type": "stream",
     "text": [
      "Training loss: 0.3651, Training accuracy: 0.8368\n",
      "Test loss: 0.5840, Test accuracy: 0.7667\n",
      "Epoch 191/500\n"
     ]
    },
    {
     "name": "stderr",
     "output_type": "stream",
     "text": [
      "Training: 100%|██████████| 8/8 [00:00<00:00, 161.67it/s]\n",
      "Evaluating: 100%|██████████| 2/2 [00:00<?, ?it/s]\n"
     ]
    },
    {
     "name": "stdout",
     "output_type": "stream",
     "text": [
      "Training loss: 0.3609, Training accuracy: 0.8159\n",
      "Test loss: 0.5860, Test accuracy: 0.7667\n",
      "Epoch 192/500\n"
     ]
    },
    {
     "name": "stderr",
     "output_type": "stream",
     "text": [
      "Training: 100%|██████████| 8/8 [00:00<00:00, 191.54it/s]\n",
      "Evaluating: 100%|██████████| 2/2 [00:00<00:00, 175.23it/s]\n"
     ]
    },
    {
     "name": "stdout",
     "output_type": "stream",
     "text": [
      "Training loss: 0.3544, Training accuracy: 0.8117\n",
      "Test loss: 0.5854, Test accuracy: 0.7667\n",
      "Epoch 193/500\n"
     ]
    },
    {
     "name": "stderr",
     "output_type": "stream",
     "text": [
      "Training: 100%|██████████| 8/8 [00:00<00:00, 221.38it/s]\n",
      "Evaluating: 100%|██████████| 2/2 [00:00<00:00, 144.45it/s]\n"
     ]
    },
    {
     "name": "stdout",
     "output_type": "stream",
     "text": [
      "Training loss: 0.3602, Training accuracy: 0.8159\n",
      "Test loss: 0.5826, Test accuracy: 0.7667\n",
      "Epoch 194/500\n"
     ]
    },
    {
     "name": "stderr",
     "output_type": "stream",
     "text": [
      "Training: 100%|██████████| 8/8 [00:00<00:00, 175.16it/s]\n",
      "Evaluating: 100%|██████████| 2/2 [00:00<00:00, 751.67it/s]\n"
     ]
    },
    {
     "name": "stdout",
     "output_type": "stream",
     "text": [
      "Training loss: 0.3572, Training accuracy: 0.8326\n",
      "Test loss: 0.5772, Test accuracy: 0.7667\n",
      "Epoch 195/500\n"
     ]
    },
    {
     "name": "stderr",
     "output_type": "stream",
     "text": [
      "Training: 100%|██████████| 8/8 [00:00<00:00, 159.36it/s]\n",
      "Evaluating: 100%|██████████| 2/2 [00:00<00:00, 183.70it/s]\n"
     ]
    },
    {
     "name": "stdout",
     "output_type": "stream",
     "text": [
      "Training loss: 0.3545, Training accuracy: 0.8326\n",
      "Test loss: 0.5811, Test accuracy: 0.7667\n",
      "Epoch 196/500\n"
     ]
    },
    {
     "name": "stderr",
     "output_type": "stream",
     "text": [
      "Training: 100%|██████████| 8/8 [00:00<00:00, 190.04it/s]\n",
      "Evaluating: 100%|██████████| 2/2 [00:00<00:00, 148.07it/s]\n"
     ]
    },
    {
     "name": "stdout",
     "output_type": "stream",
     "text": [
      "Training loss: 0.3530, Training accuracy: 0.8285\n",
      "Test loss: 0.5803, Test accuracy: 0.7667\n",
      "Epoch 197/500\n"
     ]
    },
    {
     "name": "stderr",
     "output_type": "stream",
     "text": [
      "Training: 100%|██████████| 8/8 [00:00<00:00, 167.29it/s]\n",
      "Evaluating: 100%|██████████| 2/2 [00:00<00:00, 1191.06it/s]\n"
     ]
    },
    {
     "name": "stdout",
     "output_type": "stream",
     "text": [
      "Training loss: 0.3591, Training accuracy: 0.8285\n",
      "Test loss: 0.5818, Test accuracy: 0.7667\n",
      "Epoch 198/500\n"
     ]
    },
    {
     "name": "stderr",
     "output_type": "stream",
     "text": [
      "Training: 100%|██████████| 8/8 [00:00<00:00, 155.26it/s]\n",
      "Evaluating: 100%|██████████| 2/2 [00:00<00:00, 158.35it/s]\n"
     ]
    },
    {
     "name": "stdout",
     "output_type": "stream",
     "text": [
      "Training loss: 0.3709, Training accuracy: 0.8285\n",
      "Test loss: 0.5790, Test accuracy: 0.7667\n",
      "Epoch 199/500\n"
     ]
    },
    {
     "name": "stderr",
     "output_type": "stream",
     "text": [
      "Training: 100%|██████████| 8/8 [00:00<00:00, 214.06it/s]\n",
      "Evaluating: 100%|██████████| 2/2 [00:00<00:00, 143.31it/s]\n"
     ]
    },
    {
     "name": "stdout",
     "output_type": "stream",
     "text": [
      "Training loss: 0.3653, Training accuracy: 0.8326\n",
      "Test loss: 0.5714, Test accuracy: 0.7833\n",
      "Epoch 200/500\n"
     ]
    },
    {
     "name": "stderr",
     "output_type": "stream",
     "text": [
      "Training: 100%|██████████| 8/8 [00:00<00:00, 175.48it/s]\n",
      "Evaluating: 100%|██████████| 2/2 [00:00<00:00, 749.45it/s]\n"
     ]
    },
    {
     "name": "stdout",
     "output_type": "stream",
     "text": [
      "Training loss: 0.3561, Training accuracy: 0.8285\n",
      "Test loss: 0.5767, Test accuracy: 0.7667\n",
      "Epoch 201/500\n"
     ]
    },
    {
     "name": "stderr",
     "output_type": "stream",
     "text": [
      "Training: 100%|██████████| 8/8 [00:00<00:00, 159.06it/s]\n",
      "Evaluating: 100%|██████████| 2/2 [00:00<?, ?it/s]\n"
     ]
    },
    {
     "name": "stdout",
     "output_type": "stream",
     "text": [
      "Training loss: 0.3640, Training accuracy: 0.8243\n",
      "Test loss: 0.5832, Test accuracy: 0.7667\n",
      "Epoch 202/500\n"
     ]
    },
    {
     "name": "stderr",
     "output_type": "stream",
     "text": [
      "Training: 100%|██████████| 8/8 [00:00<00:00, 190.81it/s]\n",
      "Evaluating: 100%|██████████| 2/2 [00:00<00:00, 160.94it/s]\n"
     ]
    },
    {
     "name": "stdout",
     "output_type": "stream",
     "text": [
      "Training loss: 0.3649, Training accuracy: 0.8243\n",
      "Test loss: 0.5833, Test accuracy: 0.7667\n",
      "Epoch 203/500\n"
     ]
    },
    {
     "name": "stderr",
     "output_type": "stream",
     "text": [
      "Training: 100%|██████████| 8/8 [00:00<00:00, 190.76it/s]\n",
      "Evaluating: 100%|██████████| 2/2 [00:00<00:00, 360.17it/s]\n"
     ]
    },
    {
     "name": "stdout",
     "output_type": "stream",
     "text": [
      "Training loss: 0.3598, Training accuracy: 0.8243\n",
      "Test loss: 0.5819, Test accuracy: 0.7667\n",
      "Epoch 204/500\n"
     ]
    },
    {
     "name": "stderr",
     "output_type": "stream",
     "text": [
      "Training: 100%|██████████| 8/8 [00:00<00:00, 159.22it/s]\n",
      "Evaluating: 100%|██████████| 2/2 [00:00<00:00, 188.28it/s]\n"
     ]
    },
    {
     "name": "stdout",
     "output_type": "stream",
     "text": [
      "Training loss: 0.3599, Training accuracy: 0.8326\n",
      "Test loss: 0.5764, Test accuracy: 0.7667\n",
      "Epoch 205/500\n"
     ]
    },
    {
     "name": "stderr",
     "output_type": "stream",
     "text": [
      "Training: 100%|██████████| 8/8 [00:00<00:00, 189.69it/s]\n",
      "Evaluating: 100%|██████████| 2/2 [00:00<00:00, 136.79it/s]\n"
     ]
    },
    {
     "name": "stdout",
     "output_type": "stream",
     "text": [
      "Training loss: 0.3526, Training accuracy: 0.8326\n",
      "Test loss: 0.5789, Test accuracy: 0.7667\n",
      "Epoch 206/500\n"
     ]
    },
    {
     "name": "stderr",
     "output_type": "stream",
     "text": [
      "Training: 100%|██████████| 8/8 [00:00<00:00, 172.59it/s]\n",
      "Evaluating: 100%|██████████| 2/2 [00:00<00:00, 3403.09it/s]\n"
     ]
    },
    {
     "name": "stdout",
     "output_type": "stream",
     "text": [
      "Training loss: 0.3647, Training accuracy: 0.8326\n",
      "Test loss: 0.5776, Test accuracy: 0.7667\n",
      "Epoch 207/500\n"
     ]
    },
    {
     "name": "stderr",
     "output_type": "stream",
     "text": [
      "Training: 100%|██████████| 8/8 [00:00<00:00, 159.94it/s]\n",
      "Evaluating: 100%|██████████| 2/2 [00:00<00:00, 177.84it/s]\n"
     ]
    },
    {
     "name": "stdout",
     "output_type": "stream",
     "text": [
      "Training loss: 0.3688, Training accuracy: 0.8326\n",
      "Test loss: 0.5793, Test accuracy: 0.7667\n",
      "Epoch 208/500\n"
     ]
    },
    {
     "name": "stderr",
     "output_type": "stream",
     "text": [
      "Training: 100%|██████████| 8/8 [00:00<00:00, 181.61it/s]\n",
      "Evaluating: 100%|██████████| 2/2 [00:00<00:00, 169.01it/s]\n"
     ]
    },
    {
     "name": "stdout",
     "output_type": "stream",
     "text": [
      "Training loss: 0.3544, Training accuracy: 0.8326\n",
      "Test loss: 0.5799, Test accuracy: 0.7667\n",
      "Epoch 209/500\n"
     ]
    },
    {
     "name": "stderr",
     "output_type": "stream",
     "text": [
      "Training: 100%|██████████| 8/8 [00:00<00:00, 165.46it/s]\n",
      "Evaluating: 100%|██████████| 2/2 [00:00<?, ?it/s]\n"
     ]
    },
    {
     "name": "stdout",
     "output_type": "stream",
     "text": [
      "Training loss: 0.3580, Training accuracy: 0.8326\n",
      "Test loss: 0.5827, Test accuracy: 0.7667\n",
      "Epoch 210/500\n"
     ]
    },
    {
     "name": "stderr",
     "output_type": "stream",
     "text": [
      "Training: 100%|██████████| 8/8 [00:00<00:00, 186.52it/s]\n",
      "Evaluating: 100%|██████████| 2/2 [00:00<00:00, 180.26it/s]\n"
     ]
    },
    {
     "name": "stdout",
     "output_type": "stream",
     "text": [
      "Training loss: 0.3498, Training accuracy: 0.8285\n",
      "Test loss: 0.5820, Test accuracy: 0.7667\n",
      "Epoch 211/500\n"
     ]
    },
    {
     "name": "stderr",
     "output_type": "stream",
     "text": [
      "Training: 100%|██████████| 8/8 [00:00<00:00, 219.09it/s]\n",
      "Evaluating: 100%|██████████| 2/2 [00:00<00:00, 143.00it/s]\n"
     ]
    },
    {
     "name": "stdout",
     "output_type": "stream",
     "text": [
      "Training loss: 0.3553, Training accuracy: 0.8285\n",
      "Test loss: 0.5801, Test accuracy: 0.7667\n",
      "Epoch 212/500\n"
     ]
    },
    {
     "name": "stderr",
     "output_type": "stream",
     "text": [
      "Training: 100%|██████████| 8/8 [00:00<00:00, 167.53it/s]\n",
      "Evaluating: 100%|██████████| 2/2 [00:00<00:00, 1264.87it/s]\n"
     ]
    },
    {
     "name": "stdout",
     "output_type": "stream",
     "text": [
      "Training loss: 0.3575, Training accuracy: 0.8368\n",
      "Test loss: 0.5790, Test accuracy: 0.7667\n",
      "Epoch 213/500\n"
     ]
    },
    {
     "name": "stderr",
     "output_type": "stream",
     "text": [
      "Training: 100%|██████████| 8/8 [00:00<00:00, 155.23it/s]\n",
      "Evaluating: 100%|██████████| 2/2 [00:00<00:00, 173.31it/s]\n"
     ]
    },
    {
     "name": "stdout",
     "output_type": "stream",
     "text": [
      "Training loss: 0.3466, Training accuracy: 0.8285\n",
      "Test loss: 0.5851, Test accuracy: 0.7667\n",
      "Epoch 214/500\n"
     ]
    },
    {
     "name": "stderr",
     "output_type": "stream",
     "text": [
      "Training: 100%|██████████| 8/8 [00:00<00:00, 218.58it/s]\n",
      "Evaluating: 100%|██████████| 2/2 [00:00<00:00, 148.48it/s]\n"
     ]
    },
    {
     "name": "stdout",
     "output_type": "stream",
     "text": [
      "Training loss: 0.3615, Training accuracy: 0.8159\n",
      "Test loss: 0.5870, Test accuracy: 0.7667\n",
      "Epoch 215/500\n"
     ]
    },
    {
     "name": "stderr",
     "output_type": "stream",
     "text": [
      "Training: 100%|██████████| 8/8 [00:00<00:00, 179.32it/s]\n",
      "Evaluating: 100%|██████████| 2/2 [00:00<00:00, 542.43it/s]\n"
     ]
    },
    {
     "name": "stdout",
     "output_type": "stream",
     "text": [
      "Training loss: 0.3508, Training accuracy: 0.8285\n",
      "Test loss: 0.5788, Test accuracy: 0.7667\n",
      "Epoch 216/500\n"
     ]
    },
    {
     "name": "stderr",
     "output_type": "stream",
     "text": [
      "Training: 100%|██████████| 8/8 [00:00<00:00, 161.75it/s]\n",
      "Evaluating: 100%|██████████| 2/2 [00:00<00:00, 178.87it/s]\n"
     ]
    },
    {
     "name": "stdout",
     "output_type": "stream",
     "text": [
      "Training loss: 0.3499, Training accuracy: 0.8243\n",
      "Test loss: 0.5741, Test accuracy: 0.7833\n",
      "Epoch 217/500\n"
     ]
    },
    {
     "name": "stderr",
     "output_type": "stream",
     "text": [
      "Training: 100%|██████████| 8/8 [00:00<00:00, 188.47it/s]\n",
      "Evaluating: 100%|██████████| 2/2 [00:00<00:00, 149.97it/s]\n"
     ]
    },
    {
     "name": "stdout",
     "output_type": "stream",
     "text": [
      "Training loss: 0.3703, Training accuracy: 0.8326\n",
      "Test loss: 0.5793, Test accuracy: 0.7667\n",
      "Epoch 218/500\n"
     ]
    },
    {
     "name": "stderr",
     "output_type": "stream",
     "text": [
      "Training: 100%|██████████| 8/8 [00:00<00:00, 160.19it/s]\n",
      "Evaluating: 100%|██████████| 2/2 [00:00<00:00, 179.53it/s]\n"
     ]
    },
    {
     "name": "stdout",
     "output_type": "stream",
     "text": [
      "Training loss: 0.3587, Training accuracy: 0.8326\n",
      "Test loss: 0.5787, Test accuracy: 0.7667\n",
      "Epoch 219/500\n"
     ]
    },
    {
     "name": "stderr",
     "output_type": "stream",
     "text": [
      "Training: 100%|██████████| 8/8 [00:00<00:00, 181.14it/s]\n",
      "Evaluating: 100%|██████████| 2/2 [00:00<00:00, 283.28it/s]\n"
     ]
    },
    {
     "name": "stdout",
     "output_type": "stream",
     "text": [
      "Training loss: 0.3473, Training accuracy: 0.8326\n",
      "Test loss: 0.5824, Test accuracy: 0.7667\n",
      "Epoch 220/500\n"
     ]
    },
    {
     "name": "stderr",
     "output_type": "stream",
     "text": [
      "Training: 100%|██████████| 8/8 [00:00<00:00, 182.21it/s]\n",
      "Evaluating: 100%|██████████| 2/2 [00:00<00:00, 427.16it/s]\n"
     ]
    },
    {
     "name": "stdout",
     "output_type": "stream",
     "text": [
      "Training loss: 0.3623, Training accuracy: 0.8117\n",
      "Test loss: 0.5895, Test accuracy: 0.7667\n",
      "Epoch 221/500\n"
     ]
    },
    {
     "name": "stderr",
     "output_type": "stream",
     "text": [
      "Training: 100%|██████████| 8/8 [00:00<00:00, 165.77it/s]\n",
      "Evaluating: 100%|██████████| 2/2 [00:00<?, ?it/s]\n"
     ]
    },
    {
     "name": "stdout",
     "output_type": "stream",
     "text": [
      "Training loss: 0.3649, Training accuracy: 0.8285\n",
      "Test loss: 0.5755, Test accuracy: 0.7833\n",
      "Epoch 222/500\n"
     ]
    },
    {
     "name": "stderr",
     "output_type": "stream",
     "text": [
      "Training: 100%|██████████| 8/8 [00:00<00:00, 151.23it/s]\n",
      "Evaluating: 100%|██████████| 2/2 [00:00<00:00, 174.39it/s]\n"
     ]
    },
    {
     "name": "stdout",
     "output_type": "stream",
     "text": [
      "Training loss: 0.3520, Training accuracy: 0.8326\n",
      "Test loss: 0.5776, Test accuracy: 0.7667\n",
      "Epoch 223/500\n"
     ]
    },
    {
     "name": "stderr",
     "output_type": "stream",
     "text": [
      "Training: 100%|██████████| 8/8 [00:00<00:00, 184.53it/s]\n",
      "Evaluating: 100%|██████████| 2/2 [00:00<00:00, 414.93it/s]\n"
     ]
    },
    {
     "name": "stdout",
     "output_type": "stream",
     "text": [
      "Training loss: 0.3572, Training accuracy: 0.8326\n",
      "Test loss: 0.5805, Test accuracy: 0.7667\n",
      "Epoch 224/500\n"
     ]
    },
    {
     "name": "stderr",
     "output_type": "stream",
     "text": [
      "Training: 100%|██████████| 8/8 [00:00<00:00, 168.37it/s]\n",
      "Evaluating: 100%|██████████| 2/2 [00:00<00:00, 2601.12it/s]\n"
     ]
    },
    {
     "name": "stdout",
     "output_type": "stream",
     "text": [
      "Training loss: 0.3584, Training accuracy: 0.8368\n",
      "Test loss: 0.5812, Test accuracy: 0.7667\n",
      "Epoch 225/500\n"
     ]
    },
    {
     "name": "stderr",
     "output_type": "stream",
     "text": [
      "Training: 100%|██████████| 8/8 [00:00<00:00, 160.11it/s]\n",
      "Evaluating: 100%|██████████| 2/2 [00:00<00:00, 196.50it/s]\n"
     ]
    },
    {
     "name": "stdout",
     "output_type": "stream",
     "text": [
      "Training loss: 0.3610, Training accuracy: 0.8285\n",
      "Test loss: 0.5844, Test accuracy: 0.7667\n",
      "Epoch 226/500\n"
     ]
    },
    {
     "name": "stderr",
     "output_type": "stream",
     "text": [
      "Training: 100%|██████████| 8/8 [00:00<00:00, 187.63it/s]\n",
      "Evaluating: 100%|██████████| 2/2 [00:00<00:00, 328.73it/s]\n"
     ]
    },
    {
     "name": "stdout",
     "output_type": "stream",
     "text": [
      "Training loss: 0.3677, Training accuracy: 0.8243\n",
      "Test loss: 0.5812, Test accuracy: 0.7667\n",
      "Epoch 227/500\n"
     ]
    },
    {
     "name": "stderr",
     "output_type": "stream",
     "text": [
      "Training: 100%|██████████| 8/8 [00:00<00:00, 177.94it/s]\n",
      "Evaluating: 100%|██████████| 2/2 [00:00<00:00, 617.85it/s]\n"
     ]
    },
    {
     "name": "stdout",
     "output_type": "stream",
     "text": [
      "Training loss: 0.3533, Training accuracy: 0.8368\n",
      "Test loss: 0.5796, Test accuracy: 0.7667\n",
      "Epoch 228/500\n"
     ]
    },
    {
     "name": "stderr",
     "output_type": "stream",
     "text": [
      "Training: 100%|██████████| 8/8 [00:00<00:00, 162.25it/s]\n",
      "Evaluating: 100%|██████████| 2/2 [00:00<00:00, 176.20it/s]\n"
     ]
    },
    {
     "name": "stdout",
     "output_type": "stream",
     "text": [
      "Training loss: 0.3491, Training accuracy: 0.8368\n",
      "Test loss: 0.5770, Test accuracy: 0.7667\n",
      "Epoch 229/500\n"
     ]
    },
    {
     "name": "stderr",
     "output_type": "stream",
     "text": [
      "Training: 100%|██████████| 8/8 [00:00<00:00, 149.47it/s]\n",
      "Evaluating: 100%|██████████| 2/2 [00:00<00:00, 185.72it/s]\n"
     ]
    },
    {
     "name": "stdout",
     "output_type": "stream",
     "text": [
      "Training loss: 0.3652, Training accuracy: 0.8326\n",
      "Test loss: 0.5779, Test accuracy: 0.7667\n",
      "Epoch 230/500\n"
     ]
    },
    {
     "name": "stderr",
     "output_type": "stream",
     "text": [
      "Training: 100%|██████████| 8/8 [00:00<00:00, 150.71it/s]\n",
      "Evaluating: 100%|██████████| 2/2 [00:00<00:00, 404.76it/s]\n"
     ]
    },
    {
     "name": "stdout",
     "output_type": "stream",
     "text": [
      "Training loss: 0.3557, Training accuracy: 0.8368\n",
      "Test loss: 0.5785, Test accuracy: 0.7667\n",
      "Epoch 231/500\n"
     ]
    },
    {
     "name": "stderr",
     "output_type": "stream",
     "text": [
      "Training: 100%|██████████| 8/8 [00:00<00:00, 191.24it/s]\n",
      "Evaluating: 100%|██████████| 2/2 [00:00<00:00, 175.99it/s]\n"
     ]
    },
    {
     "name": "stdout",
     "output_type": "stream",
     "text": [
      "Training loss: 0.3500, Training accuracy: 0.8326\n",
      "Test loss: 0.5774, Test accuracy: 0.7667\n",
      "Epoch 232/500\n"
     ]
    },
    {
     "name": "stderr",
     "output_type": "stream",
     "text": [
      "Training: 100%|██████████| 8/8 [00:00<00:00, 213.29it/s]\n",
      "Evaluating: 100%|██████████| 2/2 [00:00<00:00, 149.81it/s]\n"
     ]
    },
    {
     "name": "stdout",
     "output_type": "stream",
     "text": [
      "Training loss: 0.3538, Training accuracy: 0.8326\n",
      "Test loss: 0.5830, Test accuracy: 0.7667\n",
      "Epoch 233/500\n"
     ]
    },
    {
     "name": "stderr",
     "output_type": "stream",
     "text": [
      "Training: 100%|██████████| 8/8 [00:00<00:00, 161.21it/s]\n",
      "Evaluating: 100%|██████████| 2/2 [00:00<00:00, 183.56it/s]\n"
     ]
    },
    {
     "name": "stdout",
     "output_type": "stream",
     "text": [
      "Training loss: 0.3468, Training accuracy: 0.8243\n",
      "Test loss: 0.5840, Test accuracy: 0.7667\n",
      "Epoch 234/500\n"
     ]
    },
    {
     "name": "stderr",
     "output_type": "stream",
     "text": [
      "Training: 100%|██████████| 8/8 [00:00<00:00, 153.90it/s]\n",
      "Evaluating: 100%|██████████| 2/2 [00:00<00:00, 261.89it/s]\n"
     ]
    },
    {
     "name": "stdout",
     "output_type": "stream",
     "text": [
      "Training loss: 0.3674, Training accuracy: 0.8285\n",
      "Test loss: 0.5820, Test accuracy: 0.7667\n",
      "Epoch 235/500\n"
     ]
    },
    {
     "name": "stderr",
     "output_type": "stream",
     "text": [
      "Training: 100%|██████████| 8/8 [00:00<00:00, 169.12it/s]\n",
      "Evaluating: 100%|██████████| 2/2 [00:00<00:00, 173.97it/s]\n"
     ]
    },
    {
     "name": "stdout",
     "output_type": "stream",
     "text": [
      "Training loss: 0.3527, Training accuracy: 0.8243\n",
      "Test loss: 0.5775, Test accuracy: 0.7667\n",
      "Epoch 236/500\n"
     ]
    },
    {
     "name": "stderr",
     "output_type": "stream",
     "text": [
      "Training: 100%|██████████| 8/8 [00:00<00:00, 210.95it/s]\n",
      "Evaluating: 100%|██████████| 2/2 [00:00<00:00, 285.86it/s]\n"
     ]
    },
    {
     "name": "stdout",
     "output_type": "stream",
     "text": [
      "Training loss: 0.3556, Training accuracy: 0.8326\n",
      "Test loss: 0.5795, Test accuracy: 0.7667\n",
      "Epoch 237/500\n"
     ]
    },
    {
     "name": "stderr",
     "output_type": "stream",
     "text": [
      "Training: 100%|██████████| 8/8 [00:00<00:00, 175.15it/s]\n",
      "Evaluating: 100%|██████████| 2/2 [00:00<00:00, 723.97it/s]\n"
     ]
    },
    {
     "name": "stdout",
     "output_type": "stream",
     "text": [
      "Training loss: 0.3498, Training accuracy: 0.8368\n",
      "Test loss: 0.5816, Test accuracy: 0.7667\n",
      "Epoch 238/500\n"
     ]
    },
    {
     "name": "stderr",
     "output_type": "stream",
     "text": [
      "Training: 100%|██████████| 8/8 [00:00<00:00, 159.68it/s]\n",
      "Evaluating: 100%|██████████| 2/2 [00:00<00:00, 192.86it/s]\n"
     ]
    },
    {
     "name": "stdout",
     "output_type": "stream",
     "text": [
      "Training loss: 0.3596, Training accuracy: 0.8326\n",
      "Test loss: 0.5821, Test accuracy: 0.7667\n",
      "Epoch 239/500\n"
     ]
    },
    {
     "name": "stderr",
     "output_type": "stream",
     "text": [
      "Training: 100%|██████████| 8/8 [00:00<00:00, 154.77it/s]\n",
      "Evaluating: 100%|██████████| 2/2 [00:00<00:00, 722.91it/s]\n"
     ]
    },
    {
     "name": "stdout",
     "output_type": "stream",
     "text": [
      "Training loss: 0.3532, Training accuracy: 0.8326\n",
      "Test loss: 0.5825, Test accuracy: 0.7667\n",
      "Epoch 240/500\n"
     ]
    },
    {
     "name": "stderr",
     "output_type": "stream",
     "text": [
      "Training: 100%|██████████| 8/8 [00:00<00:00, 160.29it/s]\n",
      "Evaluating: 100%|██████████| 2/2 [00:00<00:00, 194.26it/s]\n"
     ]
    },
    {
     "name": "stdout",
     "output_type": "stream",
     "text": [
      "Training loss: 0.3633, Training accuracy: 0.8326\n",
      "Test loss: 0.5789, Test accuracy: 0.7667\n",
      "Epoch 241/500\n"
     ]
    },
    {
     "name": "stderr",
     "output_type": "stream",
     "text": [
      "Training: 100%|██████████| 8/8 [00:00<00:00, 185.48it/s]\n",
      "Evaluating: 100%|██████████| 2/2 [00:00<00:00, 249.99it/s]\n"
     ]
    },
    {
     "name": "stdout",
     "output_type": "stream",
     "text": [
      "Training loss: 0.3467, Training accuracy: 0.8368\n",
      "Test loss: 0.5792, Test accuracy: 0.7667\n",
      "Epoch 242/500\n"
     ]
    },
    {
     "name": "stderr",
     "output_type": "stream",
     "text": [
      "Training: 100%|██████████| 8/8 [00:00<00:00, 210.40it/s]\n",
      "Evaluating: 100%|██████████| 2/2 [00:00<00:00, 146.65it/s]\n"
     ]
    },
    {
     "name": "stdout",
     "output_type": "stream",
     "text": [
      "Training loss: 0.3522, Training accuracy: 0.8368\n",
      "Test loss: 0.5824, Test accuracy: 0.7667\n",
      "Epoch 243/500\n"
     ]
    },
    {
     "name": "stderr",
     "output_type": "stream",
     "text": [
      "Training: 100%|██████████| 8/8 [00:00<00:00, 176.48it/s]\n",
      "Evaluating: 100%|██████████| 2/2 [00:00<00:00, 692.07it/s]\n"
     ]
    },
    {
     "name": "stdout",
     "output_type": "stream",
     "text": [
      "Training loss: 0.3592, Training accuracy: 0.8326\n",
      "Test loss: 0.5802, Test accuracy: 0.7667\n",
      "Epoch 244/500\n"
     ]
    },
    {
     "name": "stderr",
     "output_type": "stream",
     "text": [
      "Training: 100%|██████████| 8/8 [00:00<00:00, 160.90it/s]\n",
      "Evaluating: 100%|██████████| 2/2 [00:00<00:00, 189.86it/s]\n"
     ]
    },
    {
     "name": "stdout",
     "output_type": "stream",
     "text": [
      "Training loss: 0.3539, Training accuracy: 0.8326\n",
      "Test loss: 0.5781, Test accuracy: 0.7667\n",
      "Epoch 245/500\n"
     ]
    },
    {
     "name": "stderr",
     "output_type": "stream",
     "text": [
      "Training: 100%|██████████| 8/8 [00:00<00:00, 185.84it/s]\n",
      "Evaluating: 100%|██████████| 2/2 [00:00<00:00, 214.84it/s]\n"
     ]
    },
    {
     "name": "stdout",
     "output_type": "stream",
     "text": [
      "Training loss: 0.3642, Training accuracy: 0.8368\n",
      "Test loss: 0.5788, Test accuracy: 0.7667\n",
      "Epoch 246/500\n"
     ]
    },
    {
     "name": "stderr",
     "output_type": "stream",
     "text": [
      "Training: 100%|██████████| 8/8 [00:00<00:00, 206.32it/s]\n",
      "Evaluating: 100%|██████████| 2/2 [00:00<00:00, 156.86it/s]\n"
     ]
    },
    {
     "name": "stdout",
     "output_type": "stream",
     "text": [
      "Training loss: 0.3637, Training accuracy: 0.8326\n",
      "Test loss: 0.5856, Test accuracy: 0.7667\n",
      "Epoch 247/500\n"
     ]
    },
    {
     "name": "stderr",
     "output_type": "stream",
     "text": [
      "Training: 100%|██████████| 8/8 [00:00<00:00, 170.20it/s]\n",
      "Evaluating: 100%|██████████| 2/2 [00:00<00:00, 1136.67it/s]\n"
     ]
    },
    {
     "name": "stdout",
     "output_type": "stream",
     "text": [
      "Training loss: 0.3575, Training accuracy: 0.8285\n",
      "Test loss: 0.5825, Test accuracy: 0.7667\n",
      "Epoch 248/500\n"
     ]
    },
    {
     "name": "stderr",
     "output_type": "stream",
     "text": [
      "Training: 100%|██████████| 8/8 [00:00<00:00, 155.76it/s]\n",
      "Evaluating: 100%|██████████| 2/2 [00:00<00:00, 157.79it/s]\n"
     ]
    },
    {
     "name": "stdout",
     "output_type": "stream",
     "text": [
      "Training loss: 0.3681, Training accuracy: 0.8368\n",
      "Test loss: 0.5773, Test accuracy: 0.7667\n",
      "Epoch 249/500\n"
     ]
    },
    {
     "name": "stderr",
     "output_type": "stream",
     "text": [
      "Training: 100%|██████████| 8/8 [00:00<00:00, 177.10it/s]\n",
      "Evaluating: 100%|██████████| 2/2 [00:00<00:00, 714.84it/s]\n"
     ]
    },
    {
     "name": "stdout",
     "output_type": "stream",
     "text": [
      "Training loss: 0.3470, Training accuracy: 0.8368\n",
      "Test loss: 0.5785, Test accuracy: 0.7667\n",
      "Epoch 250/500\n"
     ]
    },
    {
     "name": "stderr",
     "output_type": "stream",
     "text": [
      "Training: 100%|██████████| 8/8 [00:00<00:00, 160.88it/s]\n",
      "Evaluating: 100%|██████████| 2/2 [00:00<00:00, 183.89it/s]\n"
     ]
    },
    {
     "name": "stdout",
     "output_type": "stream",
     "text": [
      "Training loss: 0.3508, Training accuracy: 0.8368\n",
      "Test loss: 0.5822, Test accuracy: 0.7667\n",
      "Epoch 251/500\n"
     ]
    },
    {
     "name": "stderr",
     "output_type": "stream",
     "text": [
      "Training: 100%|██████████| 8/8 [00:00<00:00, 201.99it/s]\n",
      "Evaluating: 100%|██████████| 2/2 [00:00<00:00, 197.13it/s]\n"
     ]
    },
    {
     "name": "stdout",
     "output_type": "stream",
     "text": [
      "Training loss: 0.3693, Training accuracy: 0.8159\n",
      "Test loss: 0.5903, Test accuracy: 0.7667\n",
      "Epoch 252/500\n"
     ]
    },
    {
     "name": "stderr",
     "output_type": "stream",
     "text": [
      "Training: 100%|██████████| 8/8 [00:00<00:00, 149.36it/s]\n",
      "Evaluating: 100%|██████████| 2/2 [00:00<00:00, 317.94it/s]\n"
     ]
    },
    {
     "name": "stdout",
     "output_type": "stream",
     "text": [
      "Training loss: 0.3478, Training accuracy: 0.8243\n",
      "Test loss: 0.5788, Test accuracy: 0.7667\n",
      "Epoch 253/500\n"
     ]
    },
    {
     "name": "stderr",
     "output_type": "stream",
     "text": [
      "Training: 100%|██████████| 8/8 [00:00<00:00, 192.40it/s]\n",
      "Evaluating: 100%|██████████| 2/2 [00:00<?, ?it/s]\n"
     ]
    },
    {
     "name": "stdout",
     "output_type": "stream",
     "text": [
      "Training loss: 0.3499, Training accuracy: 0.8326\n",
      "Test loss: 0.5761, Test accuracy: 0.7833\n",
      "Epoch 254/500\n"
     ]
    },
    {
     "name": "stderr",
     "output_type": "stream",
     "text": [
      "Training: 100%|██████████| 8/8 [00:00<00:00, 231.51it/s]\n",
      "Evaluating: 100%|██████████| 2/2 [00:00<?, ?it/s]\n"
     ]
    },
    {
     "name": "stdout",
     "output_type": "stream",
     "text": [
      "Training loss: 0.3623, Training accuracy: 0.8410\n",
      "Test loss: 0.5824, Test accuracy: 0.7667\n",
      "Epoch 255/500\n"
     ]
    },
    {
     "name": "stderr",
     "output_type": "stream",
     "text": [
      "Training: 100%|██████████| 8/8 [00:00<00:00, 239.41it/s]\n",
      "Evaluating: 100%|██████████| 2/2 [00:00<?, ?it/s]\n"
     ]
    },
    {
     "name": "stdout",
     "output_type": "stream",
     "text": [
      "Training loss: 0.3739, Training accuracy: 0.8243\n",
      "Test loss: 0.5853, Test accuracy: 0.7667\n",
      "Epoch 256/500\n"
     ]
    },
    {
     "name": "stderr",
     "output_type": "stream",
     "text": [
      "Training: 100%|██████████| 8/8 [00:00<00:00, 226.90it/s]\n",
      "Evaluating: 100%|██████████| 2/2 [00:00<?, ?it/s]\n"
     ]
    },
    {
     "name": "stdout",
     "output_type": "stream",
     "text": [
      "Training loss: 0.3594, Training accuracy: 0.8285\n",
      "Test loss: 0.5782, Test accuracy: 0.7667\n",
      "Epoch 257/500\n"
     ]
    },
    {
     "name": "stderr",
     "output_type": "stream",
     "text": [
      "Training: 100%|██████████| 8/8 [00:00<00:00, 158.78it/s]\n",
      "Evaluating: 100%|██████████| 2/2 [00:00<?, ?it/s]\n"
     ]
    },
    {
     "name": "stdout",
     "output_type": "stream",
     "text": [
      "Training loss: 0.3576, Training accuracy: 0.8368\n",
      "Test loss: 0.5772, Test accuracy: 0.7667\n",
      "Epoch 258/500\n"
     ]
    },
    {
     "name": "stderr",
     "output_type": "stream",
     "text": [
      "Training: 100%|██████████| 8/8 [00:00<00:00, 160.65it/s]\n",
      "Evaluating: 100%|██████████| 2/2 [00:00<00:00, 142.99it/s]\n"
     ]
    },
    {
     "name": "stdout",
     "output_type": "stream",
     "text": [
      "Training loss: 0.3601, Training accuracy: 0.8368\n",
      "Test loss: 0.5803, Test accuracy: 0.7667\n",
      "Epoch 259/500\n"
     ]
    },
    {
     "name": "stderr",
     "output_type": "stream",
     "text": [
      "Training: 100%|██████████| 8/8 [00:00<00:00, 216.42it/s]\n",
      "Evaluating: 100%|██████████| 2/2 [00:00<?, ?it/s]\n"
     ]
    },
    {
     "name": "stdout",
     "output_type": "stream",
     "text": [
      "Training loss: 0.3687, Training accuracy: 0.8326\n",
      "Test loss: 0.5807, Test accuracy: 0.7667\n",
      "Epoch 260/500\n"
     ]
    },
    {
     "name": "stderr",
     "output_type": "stream",
     "text": [
      "Training: 100%|██████████| 8/8 [00:00<00:00, 165.78it/s]\n",
      "Evaluating: 100%|██████████| 2/2 [00:00<00:00, 127.67it/s]\n"
     ]
    },
    {
     "name": "stdout",
     "output_type": "stream",
     "text": [
      "Training loss: 0.3558, Training accuracy: 0.8285\n",
      "Test loss: 0.5845, Test accuracy: 0.7667\n",
      "Epoch 261/500\n"
     ]
    },
    {
     "name": "stderr",
     "output_type": "stream",
     "text": [
      "Training: 100%|██████████| 8/8 [00:00<00:00, 224.22it/s]\n",
      "Evaluating: 100%|██████████| 2/2 [00:00<?, ?it/s]\n"
     ]
    },
    {
     "name": "stdout",
     "output_type": "stream",
     "text": [
      "Training loss: 0.3566, Training accuracy: 0.8285\n",
      "Test loss: 0.5816, Test accuracy: 0.7667\n",
      "Epoch 262/500\n"
     ]
    },
    {
     "name": "stderr",
     "output_type": "stream",
     "text": [
      "Training: 100%|██████████| 8/8 [00:00<00:00, 232.01it/s]\n",
      "Evaluating: 100%|██████████| 2/2 [00:00<?, ?it/s]\n"
     ]
    },
    {
     "name": "stdout",
     "output_type": "stream",
     "text": [
      "Training loss: 0.3562, Training accuracy: 0.8410\n",
      "Test loss: 0.5774, Test accuracy: 0.7667\n",
      "Epoch 263/500\n"
     ]
    },
    {
     "name": "stderr",
     "output_type": "stream",
     "text": [
      "Training: 100%|██████████| 8/8 [00:00<00:00, 233.96it/s]\n",
      "Evaluating: 100%|██████████| 2/2 [00:00<?, ?it/s]\n"
     ]
    },
    {
     "name": "stdout",
     "output_type": "stream",
     "text": [
      "Training loss: 0.3523, Training accuracy: 0.8410\n",
      "Test loss: 0.5806, Test accuracy: 0.7667\n",
      "Epoch 264/500\n"
     ]
    },
    {
     "name": "stderr",
     "output_type": "stream",
     "text": [
      "Training: 100%|██████████| 8/8 [00:00<00:00, 159.09it/s]\n",
      "Evaluating: 100%|██████████| 2/2 [00:00<?, ?it/s]\n"
     ]
    },
    {
     "name": "stdout",
     "output_type": "stream",
     "text": [
      "Training loss: 0.3625, Training accuracy: 0.8326\n",
      "Test loss: 0.5835, Test accuracy: 0.7667\n",
      "Epoch 265/500\n"
     ]
    },
    {
     "name": "stderr",
     "output_type": "stream",
     "text": [
      "Training: 100%|██████████| 8/8 [00:00<00:00, 222.11it/s]\n",
      "Evaluating: 100%|██████████| 2/2 [00:00<?, ?it/s]\n"
     ]
    },
    {
     "name": "stdout",
     "output_type": "stream",
     "text": [
      "Training loss: 0.3575, Training accuracy: 0.8326\n",
      "Test loss: 0.5820, Test accuracy: 0.7667\n",
      "Epoch 266/500\n"
     ]
    },
    {
     "name": "stderr",
     "output_type": "stream",
     "text": [
      "Training: 100%|██████████| 8/8 [00:00<00:00, 155.29it/s]\n",
      "Evaluating: 100%|██████████| 2/2 [00:00<?, ?it/s]\n"
     ]
    },
    {
     "name": "stdout",
     "output_type": "stream",
     "text": [
      "Training loss: 0.3567, Training accuracy: 0.8285\n",
      "Test loss: 0.5823, Test accuracy: 0.7667\n",
      "Epoch 267/500\n"
     ]
    },
    {
     "name": "stderr",
     "output_type": "stream",
     "text": [
      "Training: 100%|██████████| 8/8 [00:00<00:00, 165.03it/s]\n",
      "Evaluating: 100%|██████████| 2/2 [00:00<?, ?it/s]\n"
     ]
    },
    {
     "name": "stdout",
     "output_type": "stream",
     "text": [
      "Training loss: 0.3557, Training accuracy: 0.8368\n",
      "Test loss: 0.5791, Test accuracy: 0.7667\n",
      "Epoch 268/500\n"
     ]
    },
    {
     "name": "stderr",
     "output_type": "stream",
     "text": [
      "Training: 100%|██████████| 8/8 [00:00<00:00, 155.07it/s]\n",
      "Evaluating: 100%|██████████| 2/2 [00:00<?, ?it/s]\n"
     ]
    },
    {
     "name": "stdout",
     "output_type": "stream",
     "text": [
      "Training loss: 0.3633, Training accuracy: 0.8326\n",
      "Test loss: 0.5863, Test accuracy: 0.7667\n",
      "Epoch 269/500\n"
     ]
    },
    {
     "name": "stderr",
     "output_type": "stream",
     "text": [
      "Training: 100%|██████████| 8/8 [00:00<00:00, 165.34it/s]\n",
      "Evaluating: 100%|██████████| 2/2 [00:00<?, ?it/s]\n"
     ]
    },
    {
     "name": "stdout",
     "output_type": "stream",
     "text": [
      "Training loss: 0.3528, Training accuracy: 0.8243\n",
      "Test loss: 0.5833, Test accuracy: 0.7667\n",
      "Epoch 270/500\n"
     ]
    },
    {
     "name": "stderr",
     "output_type": "stream",
     "text": [
      "Training: 100%|██████████| 8/8 [00:00<00:00, 234.60it/s]\n",
      "Evaluating: 100%|██████████| 2/2 [00:00<?, ?it/s]\n"
     ]
    },
    {
     "name": "stdout",
     "output_type": "stream",
     "text": [
      "Training loss: 0.3595, Training accuracy: 0.8368\n",
      "Test loss: 0.5764, Test accuracy: 0.7833\n",
      "Epoch 271/500\n"
     ]
    },
    {
     "name": "stderr",
     "output_type": "stream",
     "text": [
      "Training: 100%|██████████| 8/8 [00:00<00:00, 224.12it/s]\n",
      "Evaluating: 100%|██████████| 2/2 [00:00<?, ?it/s]\n"
     ]
    },
    {
     "name": "stdout",
     "output_type": "stream",
     "text": [
      "Training loss: 0.3576, Training accuracy: 0.8326\n",
      "Test loss: 0.5768, Test accuracy: 0.7667\n",
      "Epoch 272/500\n"
     ]
    },
    {
     "name": "stderr",
     "output_type": "stream",
     "text": [
      "Training: 100%|██████████| 8/8 [00:00<00:00, 231.22it/s]\n",
      "Evaluating: 100%|██████████| 2/2 [00:00<?, ?it/s]\n"
     ]
    },
    {
     "name": "stdout",
     "output_type": "stream",
     "text": [
      "Training loss: 0.3563, Training accuracy: 0.8410\n",
      "Test loss: 0.5821, Test accuracy: 0.7667\n",
      "Epoch 273/500\n"
     ]
    },
    {
     "name": "stderr",
     "output_type": "stream",
     "text": [
      "Training: 100%|██████████| 8/8 [00:00<00:00, 227.27it/s]\n",
      "Evaluating: 100%|██████████| 2/2 [00:00<00:00, 171.73it/s]\n"
     ]
    },
    {
     "name": "stdout",
     "output_type": "stream",
     "text": [
      "Training loss: 0.3609, Training accuracy: 0.8285\n",
      "Test loss: 0.5851, Test accuracy: 0.7667\n",
      "Epoch 274/500\n"
     ]
    },
    {
     "name": "stderr",
     "output_type": "stream",
     "text": [
      "Training: 100%|██████████| 8/8 [00:00<00:00, 205.47it/s]\n",
      "Evaluating: 100%|██████████| 2/2 [00:00<00:00, 153.75it/s]\n"
     ]
    },
    {
     "name": "stdout",
     "output_type": "stream",
     "text": [
      "Training loss: 0.3457, Training accuracy: 0.8326\n",
      "Test loss: 0.5790, Test accuracy: 0.7667\n",
      "Epoch 275/500\n"
     ]
    },
    {
     "name": "stderr",
     "output_type": "stream",
     "text": [
      "Training: 100%|██████████| 8/8 [00:00<00:00, 227.92it/s]\n",
      "Evaluating: 100%|██████████| 2/2 [00:00<?, ?it/s]\n"
     ]
    },
    {
     "name": "stdout",
     "output_type": "stream",
     "text": [
      "Training loss: 0.3712, Training accuracy: 0.8326\n",
      "Test loss: 0.5806, Test accuracy: 0.7667\n",
      "Epoch 276/500\n"
     ]
    },
    {
     "name": "stderr",
     "output_type": "stream",
     "text": [
      "Training: 100%|██████████| 8/8 [00:00<00:00, 159.61it/s]\n",
      "Evaluating: 100%|██████████| 2/2 [00:00<?, ?it/s]\n"
     ]
    },
    {
     "name": "stdout",
     "output_type": "stream",
     "text": [
      "Training loss: 0.3565, Training accuracy: 0.8368\n",
      "Test loss: 0.5766, Test accuracy: 0.7667\n",
      "Epoch 277/500\n"
     ]
    },
    {
     "name": "stderr",
     "output_type": "stream",
     "text": [
      "Training: 100%|██████████| 8/8 [00:00<00:00, 160.07it/s]\n",
      "Evaluating: 100%|██████████| 2/2 [00:00<00:00, 127.91it/s]\n"
     ]
    },
    {
     "name": "stdout",
     "output_type": "stream",
     "text": [
      "Training loss: 0.3531, Training accuracy: 0.8368\n",
      "Test loss: 0.5774, Test accuracy: 0.7667\n",
      "Epoch 278/500\n"
     ]
    },
    {
     "name": "stderr",
     "output_type": "stream",
     "text": [
      "Training: 100%|██████████| 8/8 [00:00<00:00, 230.19it/s]\n",
      "Evaluating: 100%|██████████| 2/2 [00:00<?, ?it/s]\n"
     ]
    },
    {
     "name": "stdout",
     "output_type": "stream",
     "text": [
      "Training loss: 0.3586, Training accuracy: 0.8368\n",
      "Test loss: 0.5784, Test accuracy: 0.7667\n",
      "Epoch 279/500\n"
     ]
    },
    {
     "name": "stderr",
     "output_type": "stream",
     "text": [
      "Training: 100%|██████████| 8/8 [00:00<00:00, 230.13it/s]\n",
      "Evaluating: 100%|██████████| 2/2 [00:00<?, ?it/s]\n"
     ]
    },
    {
     "name": "stdout",
     "output_type": "stream",
     "text": [
      "Training loss: 0.3583, Training accuracy: 0.8326\n",
      "Test loss: 0.5789, Test accuracy: 0.7667\n",
      "Epoch 280/500\n"
     ]
    },
    {
     "name": "stderr",
     "output_type": "stream",
     "text": [
      "Training: 100%|██████████| 8/8 [00:00<00:00, 238.02it/s]\n",
      "Evaluating: 100%|██████████| 2/2 [00:00<00:00, 127.54it/s]\n"
     ]
    },
    {
     "name": "stdout",
     "output_type": "stream",
     "text": [
      "Training loss: 0.3546, Training accuracy: 0.8368\n",
      "Test loss: 0.5825, Test accuracy: 0.7667\n",
      "Epoch 281/500\n"
     ]
    },
    {
     "name": "stderr",
     "output_type": "stream",
     "text": [
      "Training: 100%|██████████| 8/8 [00:00<00:00, 227.61it/s]\n",
      "Evaluating: 100%|██████████| 2/2 [00:00<00:00, 127.97it/s]\n"
     ]
    },
    {
     "name": "stdout",
     "output_type": "stream",
     "text": [
      "Training loss: 0.3518, Training accuracy: 0.8285\n",
      "Test loss: 0.5867, Test accuracy: 0.7667\n",
      "Epoch 282/500\n"
     ]
    },
    {
     "name": "stderr",
     "output_type": "stream",
     "text": [
      "Training: 100%|██████████| 8/8 [00:00<00:00, 237.73it/s]\n",
      "Evaluating: 100%|██████████| 2/2 [00:00<00:00, 148.43it/s]\n"
     ]
    },
    {
     "name": "stdout",
     "output_type": "stream",
     "text": [
      "Training loss: 0.3624, Training accuracy: 0.8326\n",
      "Test loss: 0.5819, Test accuracy: 0.7667\n",
      "Epoch 283/500\n"
     ]
    },
    {
     "name": "stderr",
     "output_type": "stream",
     "text": [
      "Training: 100%|██████████| 8/8 [00:00<00:00, 217.06it/s]\n",
      "Evaluating: 100%|██████████| 2/2 [00:00<?, ?it/s]\n"
     ]
    },
    {
     "name": "stdout",
     "output_type": "stream",
     "text": [
      "Training loss: 0.3479, Training accuracy: 0.8326\n",
      "Test loss: 0.5819, Test accuracy: 0.7667\n",
      "Epoch 284/500\n"
     ]
    },
    {
     "name": "stderr",
     "output_type": "stream",
     "text": [
      "Training: 100%|██████████| 8/8 [00:00<00:00, 156.79it/s]\n",
      "Evaluating: 100%|██████████| 2/2 [00:00<?, ?it/s]\n"
     ]
    },
    {
     "name": "stdout",
     "output_type": "stream",
     "text": [
      "Training loss: 0.3508, Training accuracy: 0.8326\n",
      "Test loss: 0.5779, Test accuracy: 0.7667\n",
      "Epoch 285/500\n"
     ]
    },
    {
     "name": "stderr",
     "output_type": "stream",
     "text": [
      "Training: 100%|██████████| 8/8 [00:00<00:00, 163.64it/s]\n",
      "Evaluating: 100%|██████████| 2/2 [00:00<00:00, 1891.88it/s]\n"
     ]
    },
    {
     "name": "stdout",
     "output_type": "stream",
     "text": [
      "Training loss: 0.3557, Training accuracy: 0.8410\n",
      "Test loss: 0.5795, Test accuracy: 0.7667\n",
      "Epoch 286/500\n"
     ]
    },
    {
     "name": "stderr",
     "output_type": "stream",
     "text": [
      "Training: 100%|██████████| 8/8 [00:00<00:00, 243.17it/s]\n",
      "Evaluating: 100%|██████████| 2/2 [00:00<00:00, 127.81it/s]\n"
     ]
    },
    {
     "name": "stdout",
     "output_type": "stream",
     "text": [
      "Training loss: 0.3500, Training accuracy: 0.8368\n",
      "Test loss: 0.5856, Test accuracy: 0.7667\n",
      "Epoch 287/500\n"
     ]
    },
    {
     "name": "stderr",
     "output_type": "stream",
     "text": [
      "Training: 100%|██████████| 8/8 [00:00<00:00, 159.48it/s]\n",
      "Evaluating: 100%|██████████| 2/2 [00:00<?, ?it/s]\n"
     ]
    },
    {
     "name": "stdout",
     "output_type": "stream",
     "text": [
      "Training loss: 0.3588, Training accuracy: 0.8368\n",
      "Test loss: 0.5801, Test accuracy: 0.7667\n",
      "Epoch 288/500\n"
     ]
    },
    {
     "name": "stderr",
     "output_type": "stream",
     "text": [
      "Training: 100%|██████████| 8/8 [00:00<00:00, 155.20it/s]\n",
      "Evaluating: 100%|██████████| 2/2 [00:00<?, ?it/s]\n"
     ]
    },
    {
     "name": "stdout",
     "output_type": "stream",
     "text": [
      "Training loss: 0.3454, Training accuracy: 0.8368\n",
      "Test loss: 0.5818, Test accuracy: 0.7667\n",
      "Epoch 289/500\n"
     ]
    },
    {
     "name": "stderr",
     "output_type": "stream",
     "text": [
      "Training: 100%|██████████| 8/8 [00:00<00:00, 161.15it/s]\n",
      "Evaluating: 100%|██████████| 2/2 [00:00<00:00, 127.56it/s]\n"
     ]
    },
    {
     "name": "stdout",
     "output_type": "stream",
     "text": [
      "Training loss: 0.3561, Training accuracy: 0.8285\n",
      "Test loss: 0.5857, Test accuracy: 0.7667\n",
      "Epoch 290/500\n"
     ]
    },
    {
     "name": "stderr",
     "output_type": "stream",
     "text": [
      "Training: 100%|██████████| 8/8 [00:00<00:00, 211.54it/s]\n",
      "Evaluating: 100%|██████████| 2/2 [00:00<00:00, 717.40it/s]\n"
     ]
    },
    {
     "name": "stdout",
     "output_type": "stream",
     "text": [
      "Training loss: 0.3608, Training accuracy: 0.8243\n",
      "Test loss: 0.5822, Test accuracy: 0.7667\n",
      "Epoch 291/500\n"
     ]
    },
    {
     "name": "stderr",
     "output_type": "stream",
     "text": [
      "Training: 100%|██████████| 8/8 [00:00<00:00, 162.53it/s]\n",
      "Evaluating: 100%|██████████| 2/2 [00:00<00:00, 127.88it/s]\n"
     ]
    },
    {
     "name": "stdout",
     "output_type": "stream",
     "text": [
      "Training loss: 0.3591, Training accuracy: 0.8326\n",
      "Test loss: 0.5755, Test accuracy: 0.7833\n",
      "Epoch 292/500\n"
     ]
    },
    {
     "name": "stderr",
     "output_type": "stream",
     "text": [
      "Training: 100%|██████████| 8/8 [00:00<00:00, 165.81it/s]\n",
      "Evaluating: 100%|██████████| 2/2 [00:00<00:00, 1846.49it/s]\n"
     ]
    },
    {
     "name": "stdout",
     "output_type": "stream",
     "text": [
      "Training loss: 0.3580, Training accuracy: 0.8368\n",
      "Test loss: 0.5786, Test accuracy: 0.7667\n",
      "Epoch 293/500\n"
     ]
    },
    {
     "name": "stderr",
     "output_type": "stream",
     "text": [
      "Training: 100%|██████████| 8/8 [00:00<00:00, 249.57it/s]\n",
      "Evaluating: 100%|██████████| 2/2 [00:00<?, ?it/s]\n"
     ]
    },
    {
     "name": "stdout",
     "output_type": "stream",
     "text": [
      "Training loss: 0.3574, Training accuracy: 0.8243\n",
      "Test loss: 0.5872, Test accuracy: 0.7667\n",
      "Epoch 294/500\n"
     ]
    },
    {
     "name": "stderr",
     "output_type": "stream",
     "text": [
      "Training: 100%|██████████| 8/8 [00:00<00:00, 149.44it/s]\n",
      "Evaluating: 100%|██████████| 2/2 [00:00<00:00, 1990.18it/s]\n"
     ]
    },
    {
     "name": "stdout",
     "output_type": "stream",
     "text": [
      "Training loss: 0.3448, Training accuracy: 0.8159\n",
      "Test loss: 0.5837, Test accuracy: 0.7667\n",
      "Epoch 295/500\n"
     ]
    },
    {
     "name": "stderr",
     "output_type": "stream",
     "text": [
      "Training: 100%|██████████| 8/8 [00:00<00:00, 172.81it/s]\n",
      "Evaluating: 100%|██████████| 2/2 [00:00<?, ?it/s]\n"
     ]
    },
    {
     "name": "stdout",
     "output_type": "stream",
     "text": [
      "Training loss: 0.3637, Training accuracy: 0.8326\n",
      "Test loss: 0.5794, Test accuracy: 0.7667\n",
      "Epoch 296/500\n"
     ]
    },
    {
     "name": "stderr",
     "output_type": "stream",
     "text": [
      "Training: 100%|██████████| 8/8 [00:00<00:00, 225.29it/s]\n",
      "Evaluating: 100%|██████████| 2/2 [00:00<?, ?it/s]\n"
     ]
    },
    {
     "name": "stdout",
     "output_type": "stream",
     "text": [
      "Training loss: 0.3461, Training accuracy: 0.8326\n",
      "Test loss: 0.5736, Test accuracy: 0.7833\n",
      "Epoch 297/500\n"
     ]
    },
    {
     "name": "stderr",
     "output_type": "stream",
     "text": [
      "Training: 100%|██████████| 8/8 [00:00<00:00, 249.04it/s]\n",
      "Evaluating: 100%|██████████| 2/2 [00:00<00:00, 142.97it/s]\n"
     ]
    },
    {
     "name": "stdout",
     "output_type": "stream",
     "text": [
      "Training loss: 0.3543, Training accuracy: 0.8368\n",
      "Test loss: 0.5803, Test accuracy: 0.7667\n",
      "Epoch 298/500\n"
     ]
    },
    {
     "name": "stderr",
     "output_type": "stream",
     "text": [
      "Training: 100%|██████████| 8/8 [00:00<00:00, 209.79it/s]\n",
      "Evaluating: 100%|██████████| 2/2 [00:00<00:00, 127.54it/s]\n"
     ]
    },
    {
     "name": "stdout",
     "output_type": "stream",
     "text": [
      "Training loss: 0.3550, Training accuracy: 0.8201\n",
      "Test loss: 0.5901, Test accuracy: 0.7667\n",
      "Epoch 299/500\n"
     ]
    },
    {
     "name": "stderr",
     "output_type": "stream",
     "text": [
      "Training: 100%|██████████| 8/8 [00:00<00:00, 242.93it/s]\n",
      "Evaluating: 100%|██████████| 2/2 [00:00<00:00, 127.71it/s]\n"
     ]
    },
    {
     "name": "stdout",
     "output_type": "stream",
     "text": [
      "Training loss: 0.3591, Training accuracy: 0.8075\n",
      "Test loss: 0.5867, Test accuracy: 0.7667\n",
      "Epoch 300/500\n"
     ]
    },
    {
     "name": "stderr",
     "output_type": "stream",
     "text": [
      "Training: 100%|██████████| 8/8 [00:00<00:00, 230.27it/s]\n",
      "Evaluating: 100%|██████████| 2/2 [00:00<00:00, 127.42it/s]\n"
     ]
    },
    {
     "name": "stdout",
     "output_type": "stream",
     "text": [
      "Training loss: 0.3513, Training accuracy: 0.8368\n",
      "Test loss: 0.5795, Test accuracy: 0.7667\n",
      "Epoch 301/500\n"
     ]
    },
    {
     "name": "stderr",
     "output_type": "stream",
     "text": [
      "Training: 100%|██████████| 8/8 [00:00<00:00, 168.37it/s]\n",
      "Evaluating: 100%|██████████| 2/2 [00:00<00:00, 1683.45it/s]\n"
     ]
    },
    {
     "name": "stdout",
     "output_type": "stream",
     "text": [
      "Training loss: 0.3539, Training accuracy: 0.8368\n",
      "Test loss: 0.5784, Test accuracy: 0.7667\n",
      "Epoch 302/500\n"
     ]
    },
    {
     "name": "stderr",
     "output_type": "stream",
     "text": [
      "Training: 100%|██████████| 8/8 [00:00<00:00, 167.01it/s]\n",
      "Evaluating: 100%|██████████| 2/2 [00:00<00:00, 1644.18it/s]\n"
     ]
    },
    {
     "name": "stdout",
     "output_type": "stream",
     "text": [
      "Training loss: 0.3496, Training accuracy: 0.8368\n",
      "Test loss: 0.5782, Test accuracy: 0.7667\n",
      "Epoch 303/500\n"
     ]
    },
    {
     "name": "stderr",
     "output_type": "stream",
     "text": [
      "Training: 100%|██████████| 8/8 [00:00<00:00, 164.32it/s]\n",
      "Evaluating: 100%|██████████| 2/2 [00:00<?, ?it/s]\n"
     ]
    },
    {
     "name": "stdout",
     "output_type": "stream",
     "text": [
      "Training loss: 0.3511, Training accuracy: 0.8368\n",
      "Test loss: 0.5819, Test accuracy: 0.7667\n",
      "Epoch 304/500\n"
     ]
    },
    {
     "name": "stderr",
     "output_type": "stream",
     "text": [
      "Training: 100%|██████████| 8/8 [00:00<00:00, 156.63it/s]\n",
      "Evaluating: 100%|██████████| 2/2 [00:00<?, ?it/s]\n"
     ]
    },
    {
     "name": "stdout",
     "output_type": "stream",
     "text": [
      "Training loss: 0.3694, Training accuracy: 0.8326\n",
      "Test loss: 0.5792, Test accuracy: 0.7667\n",
      "Epoch 305/500\n"
     ]
    },
    {
     "name": "stderr",
     "output_type": "stream",
     "text": [
      "Training: 100%|██████████| 8/8 [00:00<00:00, 163.33it/s]\n",
      "Evaluating: 100%|██████████| 2/2 [00:00<?, ?it/s]\n"
     ]
    },
    {
     "name": "stdout",
     "output_type": "stream",
     "text": [
      "Training loss: 0.3526, Training accuracy: 0.8368\n",
      "Test loss: 0.5745, Test accuracy: 0.7833\n",
      "Epoch 306/500\n"
     ]
    },
    {
     "name": "stderr",
     "output_type": "stream",
     "text": [
      "Training: 100%|██████████| 8/8 [00:00<00:00, 214.24it/s]\n",
      "Evaluating: 100%|██████████| 2/2 [00:00<?, ?it/s]\n"
     ]
    },
    {
     "name": "stdout",
     "output_type": "stream",
     "text": [
      "Training loss: 0.3706, Training accuracy: 0.8368\n",
      "Test loss: 0.5789, Test accuracy: 0.7667\n",
      "Epoch 307/500\n"
     ]
    },
    {
     "name": "stderr",
     "output_type": "stream",
     "text": [
      "Training: 100%|██████████| 8/8 [00:00<00:00, 162.59it/s]\n",
      "Evaluating: 100%|██████████| 2/2 [00:00<00:00, 127.92it/s]\n"
     ]
    },
    {
     "name": "stdout",
     "output_type": "stream",
     "text": [
      "Training loss: 0.3550, Training accuracy: 0.8368\n",
      "Test loss: 0.5781, Test accuracy: 0.7667\n",
      "Epoch 308/500\n"
     ]
    },
    {
     "name": "stderr",
     "output_type": "stream",
     "text": [
      "Training: 100%|██████████| 8/8 [00:00<00:00, 224.40it/s]\n",
      "Evaluating: 100%|██████████| 2/2 [00:00<00:00, 127.54it/s]\n"
     ]
    },
    {
     "name": "stdout",
     "output_type": "stream",
     "text": [
      "Training loss: 0.3510, Training accuracy: 0.8326\n",
      "Test loss: 0.5746, Test accuracy: 0.7833\n",
      "Epoch 309/500\n"
     ]
    },
    {
     "name": "stderr",
     "output_type": "stream",
     "text": [
      "Training: 100%|██████████| 8/8 [00:00<00:00, 244.85it/s]\n",
      "Evaluating: 100%|██████████| 2/2 [00:00<00:00, 127.99it/s]\n"
     ]
    },
    {
     "name": "stdout",
     "output_type": "stream",
     "text": [
      "Training loss: 0.3630, Training accuracy: 0.8368\n",
      "Test loss: 0.5790, Test accuracy: 0.7667\n",
      "Epoch 310/500\n"
     ]
    },
    {
     "name": "stderr",
     "output_type": "stream",
     "text": [
      "Training: 100%|██████████| 8/8 [00:00<00:00, 220.19it/s]\n",
      "Evaluating: 100%|██████████| 2/2 [00:00<00:00, 127.48it/s]\n"
     ]
    },
    {
     "name": "stdout",
     "output_type": "stream",
     "text": [
      "Training loss: 0.3441, Training accuracy: 0.8368\n",
      "Test loss: 0.5795, Test accuracy: 0.7667\n",
      "Epoch 311/500\n"
     ]
    },
    {
     "name": "stderr",
     "output_type": "stream",
     "text": [
      "Training: 100%|██████████| 8/8 [00:00<00:00, 165.16it/s]\n",
      "Evaluating: 100%|██████████| 2/2 [00:00<?, ?it/s]\n"
     ]
    },
    {
     "name": "stdout",
     "output_type": "stream",
     "text": [
      "Training loss: 0.3629, Training accuracy: 0.8326\n",
      "Test loss: 0.5781, Test accuracy: 0.7667\n",
      "Epoch 312/500\n"
     ]
    },
    {
     "name": "stderr",
     "output_type": "stream",
     "text": [
      "Training: 100%|██████████| 8/8 [00:00<00:00, 159.92it/s]\n",
      "Evaluating: 100%|██████████| 2/2 [00:00<?, ?it/s]\n"
     ]
    },
    {
     "name": "stdout",
     "output_type": "stream",
     "text": [
      "Training loss: 0.3681, Training accuracy: 0.8285\n",
      "Test loss: 0.5836, Test accuracy: 0.7667\n",
      "Epoch 313/500\n"
     ]
    },
    {
     "name": "stderr",
     "output_type": "stream",
     "text": [
      "Training: 100%|██████████| 8/8 [00:00<00:00, 161.06it/s]\n",
      "Evaluating: 100%|██████████| 2/2 [00:00<?, ?it/s]\n"
     ]
    },
    {
     "name": "stdout",
     "output_type": "stream",
     "text": [
      "Training loss: 0.3512, Training accuracy: 0.8285\n",
      "Test loss: 0.5817, Test accuracy: 0.7667\n",
      "Epoch 314/500\n"
     ]
    },
    {
     "name": "stderr",
     "output_type": "stream",
     "text": [
      "Training: 100%|██████████| 8/8 [00:00<00:00, 157.05it/s]\n",
      "Evaluating: 100%|██████████| 2/2 [00:00<?, ?it/s]\n"
     ]
    },
    {
     "name": "stdout",
     "output_type": "stream",
     "text": [
      "Training loss: 0.3486, Training accuracy: 0.8368\n",
      "Test loss: 0.5764, Test accuracy: 0.7667\n",
      "Epoch 315/500\n"
     ]
    },
    {
     "name": "stderr",
     "output_type": "stream",
     "text": [
      "Training: 100%|██████████| 8/8 [00:00<00:00, 164.74it/s]\n",
      "Evaluating: 100%|██████████| 2/2 [00:00<?, ?it/s]\n"
     ]
    },
    {
     "name": "stdout",
     "output_type": "stream",
     "text": [
      "Training loss: 0.3579, Training accuracy: 0.8368\n",
      "Test loss: 0.5758, Test accuracy: 0.7667\n",
      "Epoch 316/500\n"
     ]
    },
    {
     "name": "stderr",
     "output_type": "stream",
     "text": [
      "Training: 100%|██████████| 8/8 [00:00<00:00, 223.34it/s]\n",
      "Evaluating: 100%|██████████| 2/2 [00:00<?, ?it/s]\n"
     ]
    },
    {
     "name": "stdout",
     "output_type": "stream",
     "text": [
      "Training loss: 0.3628, Training accuracy: 0.8410\n",
      "Test loss: 0.5784, Test accuracy: 0.7667\n",
      "Epoch 317/500\n"
     ]
    },
    {
     "name": "stderr",
     "output_type": "stream",
     "text": [
      "Training: 100%|██████████| 8/8 [00:00<00:00, 163.68it/s]\n",
      "Evaluating: 100%|██████████| 2/2 [00:00<00:00, 150.78it/s]\n"
     ]
    },
    {
     "name": "stdout",
     "output_type": "stream",
     "text": [
      "Training loss: 0.3606, Training accuracy: 0.8368\n",
      "Test loss: 0.5771, Test accuracy: 0.7667\n",
      "Epoch 318/500\n"
     ]
    },
    {
     "name": "stderr",
     "output_type": "stream",
     "text": [
      "Training: 100%|██████████| 8/8 [00:00<00:00, 211.26it/s]\n",
      "Evaluating: 100%|██████████| 2/2 [00:00<00:00, 127.86it/s]\n"
     ]
    },
    {
     "name": "stdout",
     "output_type": "stream",
     "text": [
      "Training loss: 0.3662, Training accuracy: 0.8410\n",
      "Test loss: 0.5802, Test accuracy: 0.7667\n",
      "Epoch 319/500\n"
     ]
    },
    {
     "name": "stderr",
     "output_type": "stream",
     "text": [
      "Training: 100%|██████████| 8/8 [00:00<00:00, 243.47it/s]\n",
      "Evaluating: 100%|██████████| 2/2 [00:00<00:00, 127.91it/s]\n"
     ]
    },
    {
     "name": "stdout",
     "output_type": "stream",
     "text": [
      "Training loss: 0.3488, Training accuracy: 0.8326\n",
      "Test loss: 0.5829, Test accuracy: 0.7667\n",
      "Epoch 320/500\n"
     ]
    },
    {
     "name": "stderr",
     "output_type": "stream",
     "text": [
      "Training: 100%|██████████| 8/8 [00:00<00:00, 255.62it/s]\n",
      "Evaluating: 100%|██████████| 2/2 [00:00<00:00, 245.93it/s]\n"
     ]
    },
    {
     "name": "stdout",
     "output_type": "stream",
     "text": [
      "Training loss: 0.3600, Training accuracy: 0.8326\n",
      "Test loss: 0.5807, Test accuracy: 0.7667\n",
      "Epoch 321/500\n"
     ]
    },
    {
     "name": "stderr",
     "output_type": "stream",
     "text": [
      "Training: 100%|██████████| 8/8 [00:00<00:00, 269.51it/s]\n",
      "Evaluating: 100%|██████████| 2/2 [00:00<00:00, 127.68it/s]\n"
     ]
    },
    {
     "name": "stdout",
     "output_type": "stream",
     "text": [
      "Training loss: 0.3539, Training accuracy: 0.8368\n",
      "Test loss: 0.5789, Test accuracy: 0.7667\n",
      "Epoch 322/500\n"
     ]
    },
    {
     "name": "stderr",
     "output_type": "stream",
     "text": [
      "Training: 100%|██████████| 8/8 [00:00<00:00, 165.82it/s]\n",
      "Evaluating: 100%|██████████| 2/2 [00:00<00:00, 1320.42it/s]\n"
     ]
    },
    {
     "name": "stdout",
     "output_type": "stream",
     "text": [
      "Training loss: 0.3646, Training accuracy: 0.8243\n",
      "Test loss: 0.5844, Test accuracy: 0.7667\n",
      "Epoch 323/500\n"
     ]
    },
    {
     "name": "stderr",
     "output_type": "stream",
     "text": [
      "Training: 100%|██████████| 8/8 [00:00<00:00, 174.45it/s]\n",
      "Evaluating: 100%|██████████| 2/2 [00:00<00:00, 1647.73it/s]\n"
     ]
    },
    {
     "name": "stdout",
     "output_type": "stream",
     "text": [
      "Training loss: 0.3662, Training accuracy: 0.8368\n",
      "Test loss: 0.5768, Test accuracy: 0.7667\n",
      "Epoch 324/500\n"
     ]
    },
    {
     "name": "stderr",
     "output_type": "stream",
     "text": [
      "Training: 100%|██████████| 8/8 [00:00<00:00, 169.35it/s]\n",
      "Evaluating: 100%|██████████| 2/2 [00:00<00:00, 999.95it/s]\n"
     ]
    },
    {
     "name": "stdout",
     "output_type": "stream",
     "text": [
      "Training loss: 0.3621, Training accuracy: 0.8326\n",
      "Test loss: 0.5748, Test accuracy: 0.7833\n",
      "Epoch 325/500\n"
     ]
    },
    {
     "name": "stderr",
     "output_type": "stream",
     "text": [
      "Training: 100%|██████████| 8/8 [00:00<00:00, 168.19it/s]\n",
      "Evaluating: 100%|██████████| 2/2 [00:00<?, ?it/s]\n"
     ]
    },
    {
     "name": "stdout",
     "output_type": "stream",
     "text": [
      "Training loss: 0.3508, Training accuracy: 0.8410\n",
      "Test loss: 0.5796, Test accuracy: 0.7667\n",
      "Epoch 326/500\n"
     ]
    },
    {
     "name": "stderr",
     "output_type": "stream",
     "text": [
      "Training: 100%|██████████| 8/8 [00:00<00:00, 157.28it/s]\n",
      "Evaluating: 100%|██████████| 2/2 [00:00<?, ?it/s]\n"
     ]
    },
    {
     "name": "stdout",
     "output_type": "stream",
     "text": [
      "Training loss: 0.3503, Training accuracy: 0.8326\n",
      "Test loss: 0.5845, Test accuracy: 0.7667\n",
      "Epoch 327/500\n"
     ]
    },
    {
     "name": "stderr",
     "output_type": "stream",
     "text": [
      "Training: 100%|██████████| 8/8 [00:00<00:00, 163.46it/s]\n",
      "Evaluating: 100%|██████████| 2/2 [00:00<00:00, 145.45it/s]\n"
     ]
    },
    {
     "name": "stdout",
     "output_type": "stream",
     "text": [
      "Training loss: 0.3543, Training accuracy: 0.8243\n",
      "Test loss: 0.5814, Test accuracy: 0.7667\n",
      "Epoch 328/500\n"
     ]
    },
    {
     "name": "stderr",
     "output_type": "stream",
     "text": [
      "Training: 100%|██████████| 8/8 [00:00<00:00, 212.65it/s]\n",
      "Evaluating: 100%|██████████| 2/2 [00:00<00:00, 164.51it/s]\n"
     ]
    },
    {
     "name": "stdout",
     "output_type": "stream",
     "text": [
      "Training loss: 0.3424, Training accuracy: 0.8368\n",
      "Test loss: 0.5789, Test accuracy: 0.7667\n",
      "Epoch 329/500\n"
     ]
    },
    {
     "name": "stderr",
     "output_type": "stream",
     "text": [
      "Training: 100%|██████████| 8/8 [00:00<00:00, 218.07it/s]\n",
      "Evaluating: 100%|██████████| 2/2 [00:00<00:00, 127.90it/s]\n"
     ]
    },
    {
     "name": "stdout",
     "output_type": "stream",
     "text": [
      "Training loss: 0.3514, Training accuracy: 0.8368\n",
      "Test loss: 0.5804, Test accuracy: 0.7667\n",
      "Epoch 330/500\n"
     ]
    },
    {
     "name": "stderr",
     "output_type": "stream",
     "text": [
      "Training: 100%|██████████| 8/8 [00:00<00:00, 222.21it/s]\n",
      "Evaluating: 100%|██████████| 2/2 [00:00<00:00, 127.86it/s]\n"
     ]
    },
    {
     "name": "stdout",
     "output_type": "stream",
     "text": [
      "Training loss: 0.3533, Training accuracy: 0.8326\n",
      "Test loss: 0.5824, Test accuracy: 0.7667\n",
      "Epoch 331/500\n"
     ]
    },
    {
     "name": "stderr",
     "output_type": "stream",
     "text": [
      "Training: 100%|██████████| 8/8 [00:00<00:00, 168.34it/s]\n",
      "Evaluating: 100%|██████████| 2/2 [00:00<00:00, 1759.36it/s]\n"
     ]
    },
    {
     "name": "stdout",
     "output_type": "stream",
     "text": [
      "Training loss: 0.3461, Training accuracy: 0.8326\n",
      "Test loss: 0.5824, Test accuracy: 0.7667\n",
      "Epoch 332/500\n"
     ]
    },
    {
     "name": "stderr",
     "output_type": "stream",
     "text": [
      "Training: 100%|██████████| 8/8 [00:00<00:00, 166.92it/s]\n",
      "Evaluating: 100%|██████████| 2/2 [00:00<00:00, 1721.80it/s]\n"
     ]
    },
    {
     "name": "stdout",
     "output_type": "stream",
     "text": [
      "Training loss: 0.3552, Training accuracy: 0.8285\n",
      "Test loss: 0.5840, Test accuracy: 0.7667\n",
      "Epoch 333/500\n"
     ]
    },
    {
     "name": "stderr",
     "output_type": "stream",
     "text": [
      "Training: 100%|██████████| 8/8 [00:00<00:00, 163.41it/s]\n",
      "Evaluating: 100%|██████████| 2/2 [00:00<?, ?it/s]\n"
     ]
    },
    {
     "name": "stdout",
     "output_type": "stream",
     "text": [
      "Training loss: 0.3745, Training accuracy: 0.8368\n",
      "Test loss: 0.5773, Test accuracy: 0.7667\n",
      "Epoch 334/500\n"
     ]
    },
    {
     "name": "stderr",
     "output_type": "stream",
     "text": [
      "Training: 100%|██████████| 8/8 [00:00<00:00, 155.50it/s]\n",
      "Evaluating: 100%|██████████| 2/2 [00:00<?, ?it/s]\n"
     ]
    },
    {
     "name": "stdout",
     "output_type": "stream",
     "text": [
      "Training loss: 0.3625, Training accuracy: 0.8326\n",
      "Test loss: 0.5746, Test accuracy: 0.7833\n",
      "Epoch 335/500\n"
     ]
    },
    {
     "name": "stderr",
     "output_type": "stream",
     "text": [
      "Training: 100%|██████████| 8/8 [00:00<00:00, 165.45it/s]\n",
      "Evaluating: 100%|██████████| 2/2 [00:00<00:00, 145.25it/s]\n"
     ]
    },
    {
     "name": "stdout",
     "output_type": "stream",
     "text": [
      "Training loss: 0.3642, Training accuracy: 0.8368\n",
      "Test loss: 0.5738, Test accuracy: 0.7833\n",
      "Epoch 336/500\n"
     ]
    },
    {
     "name": "stderr",
     "output_type": "stream",
     "text": [
      "Training: 100%|██████████| 8/8 [00:00<00:00, 213.39it/s]\n",
      "Evaluating: 100%|██████████| 2/2 [00:00<00:00, 158.96it/s]\n"
     ]
    },
    {
     "name": "stdout",
     "output_type": "stream",
     "text": [
      "Training loss: 0.3577, Training accuracy: 0.8326\n",
      "Test loss: 0.5764, Test accuracy: 0.7667\n",
      "Epoch 337/500\n"
     ]
    },
    {
     "name": "stderr",
     "output_type": "stream",
     "text": [
      "Training: 100%|██████████| 8/8 [00:00<00:00, 238.67it/s]\n",
      "Evaluating: 100%|██████████| 2/2 [00:00<00:00, 127.47it/s]\n"
     ]
    },
    {
     "name": "stdout",
     "output_type": "stream",
     "text": [
      "Training loss: 0.3468, Training accuracy: 0.8368\n",
      "Test loss: 0.5784, Test accuracy: 0.7667\n",
      "Epoch 338/500\n"
     ]
    },
    {
     "name": "stderr",
     "output_type": "stream",
     "text": [
      "Training: 100%|██████████| 8/8 [00:00<00:00, 192.82it/s]\n",
      "Evaluating: 100%|██████████| 2/2 [00:00<00:00, 128.04it/s]\n"
     ]
    },
    {
     "name": "stdout",
     "output_type": "stream",
     "text": [
      "Training loss: 0.3522, Training accuracy: 0.8326\n",
      "Test loss: 0.5826, Test accuracy: 0.7667\n",
      "Epoch 339/500\n"
     ]
    },
    {
     "name": "stderr",
     "output_type": "stream",
     "text": [
      "Training: 100%|██████████| 8/8 [00:00<00:00, 181.44it/s]\n",
      "Evaluating: 100%|██████████| 2/2 [00:00<?, ?it/s]\n"
     ]
    },
    {
     "name": "stdout",
     "output_type": "stream",
     "text": [
      "Training loss: 0.3612, Training accuracy: 0.8159\n",
      "Test loss: 0.5907, Test accuracy: 0.7667\n",
      "Epoch 340/500\n"
     ]
    },
    {
     "name": "stderr",
     "output_type": "stream",
     "text": [
      "Training: 100%|██████████| 8/8 [00:00<00:00, 196.17it/s]\n",
      "Evaluating: 100%|██████████| 2/2 [00:00<00:00, 127.96it/s]\n"
     ]
    },
    {
     "name": "stdout",
     "output_type": "stream",
     "text": [
      "Training loss: 0.3560, Training accuracy: 0.8117\n",
      "Test loss: 0.5830, Test accuracy: 0.7667\n",
      "Epoch 341/500\n"
     ]
    },
    {
     "name": "stderr",
     "output_type": "stream",
     "text": [
      "Training: 100%|██████████| 8/8 [00:00<00:00, 185.97it/s]\n",
      "Evaluating: 100%|██████████| 2/2 [00:00<00:00, 127.69it/s]\n"
     ]
    },
    {
     "name": "stdout",
     "output_type": "stream",
     "text": [
      "Training loss: 0.3564, Training accuracy: 0.8368\n",
      "Test loss: 0.5742, Test accuracy: 0.7833\n",
      "Epoch 342/500\n"
     ]
    },
    {
     "name": "stderr",
     "output_type": "stream",
     "text": [
      "Training: 100%|██████████| 8/8 [00:00<00:00, 208.46it/s]\n",
      "Evaluating: 100%|██████████| 2/2 [00:00<00:00, 127.51it/s]\n"
     ]
    },
    {
     "name": "stdout",
     "output_type": "stream",
     "text": [
      "Training loss: 0.3526, Training accuracy: 0.8410\n",
      "Test loss: 0.5792, Test accuracy: 0.7667\n",
      "Epoch 343/500\n"
     ]
    },
    {
     "name": "stderr",
     "output_type": "stream",
     "text": [
      "Training: 100%|██████████| 8/8 [00:00<00:00, 235.40it/s]\n",
      "Evaluating: 100%|██████████| 2/2 [00:00<00:00, 152.22it/s]\n"
     ]
    },
    {
     "name": "stdout",
     "output_type": "stream",
     "text": [
      "Training loss: 0.3530, Training accuracy: 0.8326\n",
      "Test loss: 0.5817, Test accuracy: 0.7667\n",
      "Epoch 344/500\n"
     ]
    },
    {
     "name": "stderr",
     "output_type": "stream",
     "text": [
      "Training: 100%|██████████| 8/8 [00:00<00:00, 188.60it/s]\n",
      "Evaluating: 100%|██████████| 2/2 [00:00<00:00, 127.30it/s]\n"
     ]
    },
    {
     "name": "stdout",
     "output_type": "stream",
     "text": [
      "Training loss: 0.3570, Training accuracy: 0.8326\n",
      "Test loss: 0.5825, Test accuracy: 0.7667\n",
      "Epoch 345/500\n"
     ]
    },
    {
     "name": "stderr",
     "output_type": "stream",
     "text": [
      "Training: 100%|██████████| 8/8 [00:00<00:00, 177.14it/s]\n",
      "Evaluating: 100%|██████████| 2/2 [00:00<00:00, 127.53it/s]\n"
     ]
    },
    {
     "name": "stdout",
     "output_type": "stream",
     "text": [
      "Training loss: 0.3469, Training accuracy: 0.8368\n",
      "Test loss: 0.5756, Test accuracy: 0.7667\n",
      "Epoch 346/500\n"
     ]
    },
    {
     "name": "stderr",
     "output_type": "stream",
     "text": [
      "Training: 100%|██████████| 8/8 [00:00<00:00, 226.25it/s]\n",
      "Evaluating: 100%|██████████| 2/2 [00:00<00:00, 98.62it/s]\n"
     ]
    },
    {
     "name": "stdout",
     "output_type": "stream",
     "text": [
      "Training loss: 0.3442, Training accuracy: 0.8368\n",
      "Test loss: 0.5763, Test accuracy: 0.7667\n",
      "Epoch 347/500\n"
     ]
    },
    {
     "name": "stderr",
     "output_type": "stream",
     "text": [
      "Training: 100%|██████████| 8/8 [00:00<00:00, 287.22it/s]\n",
      "Evaluating: 100%|██████████| 2/2 [00:00<00:00, 127.53it/s]\n"
     ]
    },
    {
     "name": "stdout",
     "output_type": "stream",
     "text": [
      "Training loss: 0.3483, Training accuracy: 0.8368\n",
      "Test loss: 0.5813, Test accuracy: 0.7667\n",
      "Epoch 348/500\n"
     ]
    },
    {
     "name": "stderr",
     "output_type": "stream",
     "text": [
      "Training: 100%|██████████| 8/8 [00:00<00:00, 157.33it/s]\n",
      "Evaluating: 100%|██████████| 2/2 [00:00<?, ?it/s]\n"
     ]
    },
    {
     "name": "stdout",
     "output_type": "stream",
     "text": [
      "Training loss: 0.3571, Training accuracy: 0.8326\n",
      "Test loss: 0.5807, Test accuracy: 0.7667\n",
      "Epoch 349/500\n"
     ]
    },
    {
     "name": "stderr",
     "output_type": "stream",
     "text": [
      "Training: 100%|██████████| 8/8 [00:00<00:00, 159.96it/s]\n",
      "Evaluating: 100%|██████████| 2/2 [00:00<?, ?it/s]\n"
     ]
    },
    {
     "name": "stdout",
     "output_type": "stream",
     "text": [
      "Training loss: 0.3576, Training accuracy: 0.8326\n",
      "Test loss: 0.5838, Test accuracy: 0.7667\n",
      "Epoch 350/500\n"
     ]
    },
    {
     "name": "stderr",
     "output_type": "stream",
     "text": [
      "Training: 100%|██████████| 8/8 [00:00<00:00, 232.77it/s]\n",
      "Evaluating: 100%|██████████| 2/2 [00:00<00:00, 127.91it/s]\n"
     ]
    },
    {
     "name": "stdout",
     "output_type": "stream",
     "text": [
      "Training loss: 0.3545, Training accuracy: 0.8326\n",
      "Test loss: 0.5780, Test accuracy: 0.7667\n",
      "Epoch 351/500\n"
     ]
    },
    {
     "name": "stderr",
     "output_type": "stream",
     "text": [
      "Training: 100%|██████████| 8/8 [00:00<00:00, 231.32it/s]\n",
      "Evaluating: 100%|██████████| 2/2 [00:00<00:00, 149.96it/s]\n"
     ]
    },
    {
     "name": "stdout",
     "output_type": "stream",
     "text": [
      "Training loss: 0.3500, Training accuracy: 0.8368\n",
      "Test loss: 0.5737, Test accuracy: 0.7833\n",
      "Epoch 352/500\n"
     ]
    },
    {
     "name": "stderr",
     "output_type": "stream",
     "text": [
      "Training: 100%|██████████| 8/8 [00:00<00:00, 152.84it/s]\n",
      "Evaluating: 100%|██████████| 2/2 [00:00<?, ?it/s]\n"
     ]
    },
    {
     "name": "stdout",
     "output_type": "stream",
     "text": [
      "Training loss: 0.3518, Training accuracy: 0.8368\n",
      "Test loss: 0.5776, Test accuracy: 0.7667\n",
      "Epoch 353/500\n"
     ]
    },
    {
     "name": "stderr",
     "output_type": "stream",
     "text": [
      "Training: 100%|██████████| 8/8 [00:00<00:00, 155.21it/s]\n",
      "Evaluating: 100%|██████████| 2/2 [00:00<?, ?it/s]\n"
     ]
    },
    {
     "name": "stdout",
     "output_type": "stream",
     "text": [
      "Training loss: 0.3544, Training accuracy: 0.8326\n",
      "Test loss: 0.5851, Test accuracy: 0.7667\n",
      "Epoch 354/500\n"
     ]
    },
    {
     "name": "stderr",
     "output_type": "stream",
     "text": [
      "Training: 100%|██████████| 8/8 [00:00<00:00, 149.01it/s]\n",
      "Evaluating: 100%|██████████| 2/2 [00:00<?, ?it/s]\n"
     ]
    },
    {
     "name": "stdout",
     "output_type": "stream",
     "text": [
      "Training loss: 0.3455, Training accuracy: 0.8285\n",
      "Test loss: 0.5839, Test accuracy: 0.7667\n",
      "Epoch 355/500\n"
     ]
    },
    {
     "name": "stderr",
     "output_type": "stream",
     "text": [
      "Training: 100%|██████████| 8/8 [00:00<00:00, 262.07it/s]\n",
      "Evaluating: 100%|██████████| 2/2 [00:00<00:00, 127.91it/s]\n"
     ]
    },
    {
     "name": "stdout",
     "output_type": "stream",
     "text": [
      "Training loss: 0.3416, Training accuracy: 0.8243\n",
      "Test loss: 0.5829, Test accuracy: 0.7667\n",
      "Epoch 356/500\n"
     ]
    },
    {
     "name": "stderr",
     "output_type": "stream",
     "text": [
      "Training: 100%|██████████| 8/8 [00:00<00:00, 161.27it/s]\n",
      "Evaluating: 100%|██████████| 2/2 [00:00<?, ?it/s]\n"
     ]
    },
    {
     "name": "stdout",
     "output_type": "stream",
     "text": [
      "Training loss: 0.3631, Training accuracy: 0.8285\n",
      "Test loss: 0.5830, Test accuracy: 0.7667\n",
      "Epoch 357/500\n"
     ]
    },
    {
     "name": "stderr",
     "output_type": "stream",
     "text": [
      "Training: 100%|██████████| 8/8 [00:00<00:00, 155.82it/s]\n",
      "Evaluating: 100%|██████████| 2/2 [00:00<?, ?it/s]\n"
     ]
    },
    {
     "name": "stdout",
     "output_type": "stream",
     "text": [
      "Training loss: 0.3481, Training accuracy: 0.8410\n",
      "Test loss: 0.5724, Test accuracy: 0.7833\n",
      "Epoch 358/500\n"
     ]
    },
    {
     "name": "stderr",
     "output_type": "stream",
     "text": [
      "Training: 100%|██████████| 8/8 [00:00<00:00, 235.88it/s]\n",
      "Evaluating: 100%|██████████| 2/2 [00:00<?, ?it/s]\n"
     ]
    },
    {
     "name": "stdout",
     "output_type": "stream",
     "text": [
      "Training loss: 0.3668, Training accuracy: 0.8368\n",
      "Test loss: 0.5784, Test accuracy: 0.7667\n",
      "Epoch 359/500\n"
     ]
    },
    {
     "name": "stderr",
     "output_type": "stream",
     "text": [
      "Training: 100%|██████████| 8/8 [00:00<00:00, 230.85it/s]\n",
      "Evaluating: 100%|██████████| 2/2 [00:00<00:00, 127.47it/s]\n"
     ]
    },
    {
     "name": "stdout",
     "output_type": "stream",
     "text": [
      "Training loss: 0.3496, Training accuracy: 0.8326\n",
      "Test loss: 0.5842, Test accuracy: 0.7667\n",
      "Epoch 360/500\n"
     ]
    },
    {
     "name": "stderr",
     "output_type": "stream",
     "text": [
      "Training: 100%|██████████| 8/8 [00:00<00:00, 231.77it/s]\n",
      "Evaluating: 100%|██████████| 2/2 [00:00<00:00, 145.63it/s]\n"
     ]
    },
    {
     "name": "stdout",
     "output_type": "stream",
     "text": [
      "Training loss: 0.3608, Training accuracy: 0.8201\n",
      "Test loss: 0.5856, Test accuracy: 0.7667\n",
      "Epoch 361/500\n"
     ]
    },
    {
     "name": "stderr",
     "output_type": "stream",
     "text": [
      "Training: 100%|██████████| 8/8 [00:00<00:00, 151.94it/s]\n",
      "Evaluating: 100%|██████████| 2/2 [00:00<?, ?it/s]\n"
     ]
    },
    {
     "name": "stdout",
     "output_type": "stream",
     "text": [
      "Training loss: 0.3571, Training accuracy: 0.8285\n",
      "Test loss: 0.5837, Test accuracy: 0.7667\n",
      "Epoch 362/500\n"
     ]
    },
    {
     "name": "stderr",
     "output_type": "stream",
     "text": [
      "Training: 100%|██████████| 8/8 [00:00<00:00, 157.11it/s]\n",
      "Evaluating: 100%|██████████| 2/2 [00:00<?, ?it/s]\n"
     ]
    },
    {
     "name": "stdout",
     "output_type": "stream",
     "text": [
      "Training loss: 0.3644, Training accuracy: 0.8326\n",
      "Test loss: 0.5800, Test accuracy: 0.7667\n",
      "Epoch 363/500\n"
     ]
    },
    {
     "name": "stderr",
     "output_type": "stream",
     "text": [
      "Training: 100%|██████████| 8/8 [00:00<00:00, 236.85it/s]\n",
      "Evaluating: 100%|██████████| 2/2 [00:00<00:00, 119.50it/s]\n"
     ]
    },
    {
     "name": "stdout",
     "output_type": "stream",
     "text": [
      "Training loss: 0.3517, Training accuracy: 0.8410\n",
      "Test loss: 0.5772, Test accuracy: 0.7667\n",
      "Epoch 364/500\n"
     ]
    },
    {
     "name": "stderr",
     "output_type": "stream",
     "text": [
      "Training: 100%|██████████| 8/8 [00:00<00:00, 245.60it/s]\n",
      "Evaluating: 100%|██████████| 2/2 [00:00<00:00, 127.87it/s]\n"
     ]
    },
    {
     "name": "stdout",
     "output_type": "stream",
     "text": [
      "Training loss: 0.3613, Training accuracy: 0.8326\n",
      "Test loss: 0.5826, Test accuracy: 0.7667\n",
      "Epoch 365/500\n"
     ]
    },
    {
     "name": "stderr",
     "output_type": "stream",
     "text": [
      "Training: 100%|██████████| 8/8 [00:00<00:00, 170.50it/s]\n",
      "Evaluating: 100%|██████████| 2/2 [00:00<00:00, 619.27it/s]\n"
     ]
    },
    {
     "name": "stdout",
     "output_type": "stream",
     "text": [
      "Training loss: 0.3471, Training accuracy: 0.8326\n",
      "Test loss: 0.5810, Test accuracy: 0.7667\n",
      "Epoch 366/500\n"
     ]
    },
    {
     "name": "stderr",
     "output_type": "stream",
     "text": [
      "Training: 100%|██████████| 8/8 [00:00<00:00, 166.90it/s]\n",
      "Evaluating: 100%|██████████| 2/2 [00:00<?, ?it/s]\n"
     ]
    },
    {
     "name": "stdout",
     "output_type": "stream",
     "text": [
      "Training loss: 0.3457, Training accuracy: 0.8326\n",
      "Test loss: 0.5798, Test accuracy: 0.7667\n",
      "Epoch 367/500\n"
     ]
    },
    {
     "name": "stderr",
     "output_type": "stream",
     "text": [
      "Training: 100%|██████████| 8/8 [00:00<00:00, 156.19it/s]\n",
      "Evaluating: 100%|██████████| 2/2 [00:00<?, ?it/s]\n"
     ]
    },
    {
     "name": "stdout",
     "output_type": "stream",
     "text": [
      "Training loss: 0.3573, Training accuracy: 0.8326\n",
      "Test loss: 0.5818, Test accuracy: 0.7667\n",
      "Epoch 368/500\n"
     ]
    },
    {
     "name": "stderr",
     "output_type": "stream",
     "text": [
      "Training: 100%|██████████| 8/8 [00:00<00:00, 234.81it/s]\n",
      "Evaluating: 100%|██████████| 2/2 [00:00<00:00, 148.99it/s]\n"
     ]
    },
    {
     "name": "stdout",
     "output_type": "stream",
     "text": [
      "Training loss: 0.3506, Training accuracy: 0.8368\n",
      "Test loss: 0.5761, Test accuracy: 0.7667\n",
      "Epoch 369/500\n"
     ]
    },
    {
     "name": "stderr",
     "output_type": "stream",
     "text": [
      "Training: 100%|██████████| 8/8 [00:00<00:00, 218.25it/s]\n",
      "Evaluating: 100%|██████████| 2/2 [00:00<?, ?it/s]\n"
     ]
    },
    {
     "name": "stdout",
     "output_type": "stream",
     "text": [
      "Training loss: 0.3571, Training accuracy: 0.8368\n",
      "Test loss: 0.5755, Test accuracy: 0.7667\n",
      "Epoch 370/500\n"
     ]
    },
    {
     "name": "stderr",
     "output_type": "stream",
     "text": [
      "Training: 100%|██████████| 8/8 [00:00<00:00, 232.53it/s]\n",
      "Evaluating: 100%|██████████| 2/2 [00:00<00:00, 107.30it/s]\n"
     ]
    },
    {
     "name": "stdout",
     "output_type": "stream",
     "text": [
      "Training loss: 0.3558, Training accuracy: 0.8410\n",
      "Test loss: 0.5816, Test accuracy: 0.7667\n",
      "Epoch 371/500\n"
     ]
    },
    {
     "name": "stderr",
     "output_type": "stream",
     "text": [
      "Training: 100%|██████████| 8/8 [00:00<00:00, 261.25it/s]\n",
      "Evaluating: 100%|██████████| 2/2 [00:00<00:00, 127.86it/s]\n"
     ]
    },
    {
     "name": "stdout",
     "output_type": "stream",
     "text": [
      "Training loss: 0.3496, Training accuracy: 0.8326\n",
      "Test loss: 0.5801, Test accuracy: 0.7667\n",
      "Epoch 372/500\n"
     ]
    },
    {
     "name": "stderr",
     "output_type": "stream",
     "text": [
      "Training: 100%|██████████| 8/8 [00:00<00:00, 160.12it/s]\n",
      "Evaluating: 100%|██████████| 2/2 [00:00<?, ?it/s]\n"
     ]
    },
    {
     "name": "stdout",
     "output_type": "stream",
     "text": [
      "Training loss: 0.3443, Training accuracy: 0.8368\n",
      "Test loss: 0.5790, Test accuracy: 0.7667\n",
      "Epoch 373/500\n"
     ]
    },
    {
     "name": "stderr",
     "output_type": "stream",
     "text": [
      "Training: 100%|██████████| 8/8 [00:00<00:00, 188.74it/s]\n",
      "Evaluating: 100%|██████████| 2/2 [00:00<00:00, 127.91it/s]\n"
     ]
    },
    {
     "name": "stdout",
     "output_type": "stream",
     "text": [
      "Training loss: 0.3545, Training accuracy: 0.8326\n",
      "Test loss: 0.5833, Test accuracy: 0.7667\n",
      "Epoch 374/500\n"
     ]
    },
    {
     "name": "stderr",
     "output_type": "stream",
     "text": [
      "Training: 100%|██████████| 8/8 [00:00<00:00, 202.18it/s]\n",
      "Evaluating: 100%|██████████| 2/2 [00:00<00:00, 127.20it/s]\n"
     ]
    },
    {
     "name": "stdout",
     "output_type": "stream",
     "text": [
      "Training loss: 0.3516, Training accuracy: 0.8326\n",
      "Test loss: 0.5803, Test accuracy: 0.7667\n",
      "Epoch 375/500\n"
     ]
    },
    {
     "name": "stderr",
     "output_type": "stream",
     "text": [
      "Training: 100%|██████████| 8/8 [00:00<00:00, 219.64it/s]\n",
      "Evaluating: 100%|██████████| 2/2 [00:00<00:00, 144.06it/s]\n"
     ]
    },
    {
     "name": "stdout",
     "output_type": "stream",
     "text": [
      "Training loss: 0.3495, Training accuracy: 0.8410\n",
      "Test loss: 0.5752, Test accuracy: 0.7667\n",
      "Epoch 376/500\n"
     ]
    },
    {
     "name": "stderr",
     "output_type": "stream",
     "text": [
      "Training: 100%|██████████| 8/8 [00:00<00:00, 306.90it/s]\n",
      "Evaluating: 100%|██████████| 2/2 [00:00<00:00, 189.62it/s]\n"
     ]
    },
    {
     "name": "stdout",
     "output_type": "stream",
     "text": [
      "Training loss: 0.3604, Training accuracy: 0.8326\n",
      "Test loss: 0.5753, Test accuracy: 0.7667\n",
      "Epoch 377/500\n"
     ]
    },
    {
     "name": "stderr",
     "output_type": "stream",
     "text": [
      "Training: 100%|██████████| 8/8 [00:00<00:00, 243.71it/s]\n",
      "Evaluating: 100%|██████████| 2/2 [00:00<00:00, 127.91it/s]\n"
     ]
    },
    {
     "name": "stdout",
     "output_type": "stream",
     "text": [
      "Training loss: 0.3645, Training accuracy: 0.8368\n",
      "Test loss: 0.5865, Test accuracy: 0.7667\n",
      "Epoch 378/500\n"
     ]
    },
    {
     "name": "stderr",
     "output_type": "stream",
     "text": [
      "Training: 100%|██████████| 8/8 [00:00<00:00, 170.29it/s]\n",
      "Evaluating: 100%|██████████| 2/2 [00:00<00:00, 963.65it/s]\n"
     ]
    },
    {
     "name": "stdout",
     "output_type": "stream",
     "text": [
      "Training loss: 0.3631, Training accuracy: 0.8243\n",
      "Test loss: 0.5825, Test accuracy: 0.7667\n",
      "Epoch 379/500\n"
     ]
    },
    {
     "name": "stderr",
     "output_type": "stream",
     "text": [
      "Training: 100%|██████████| 8/8 [00:00<00:00, 232.99it/s]\n",
      "Evaluating: 100%|██████████| 2/2 [00:00<00:00, 127.99it/s]\n"
     ]
    },
    {
     "name": "stdout",
     "output_type": "stream",
     "text": [
      "Training loss: 0.3539, Training accuracy: 0.8326\n",
      "Test loss: 0.5807, Test accuracy: 0.7667\n",
      "Epoch 380/500\n"
     ]
    },
    {
     "name": "stderr",
     "output_type": "stream",
     "text": [
      "Training: 100%|██████████| 8/8 [00:00<00:00, 165.80it/s]\n",
      "Evaluating: 100%|██████████| 2/2 [00:00<?, ?it/s]\n"
     ]
    },
    {
     "name": "stdout",
     "output_type": "stream",
     "text": [
      "Training loss: 0.3537, Training accuracy: 0.8326\n",
      "Test loss: 0.5780, Test accuracy: 0.7667\n",
      "Epoch 381/500\n"
     ]
    },
    {
     "name": "stderr",
     "output_type": "stream",
     "text": [
      "Training: 100%|██████████| 8/8 [00:00<00:00, 160.93it/s]\n",
      "Evaluating: 100%|██████████| 2/2 [00:00<00:00, 127.98it/s]\n"
     ]
    },
    {
     "name": "stdout",
     "output_type": "stream",
     "text": [
      "Training loss: 0.3421, Training accuracy: 0.8410\n",
      "Test loss: 0.5779, Test accuracy: 0.7667\n",
      "Epoch 382/500\n"
     ]
    },
    {
     "name": "stderr",
     "output_type": "stream",
     "text": [
      "Training: 100%|██████████| 8/8 [00:00<00:00, 228.65it/s]\n",
      "Evaluating: 100%|██████████| 2/2 [00:00<00:00, 119.02it/s]\n"
     ]
    },
    {
     "name": "stdout",
     "output_type": "stream",
     "text": [
      "Training loss: 0.3643, Training accuracy: 0.8285\n",
      "Test loss: 0.5853, Test accuracy: 0.7667\n",
      "Epoch 383/500\n"
     ]
    },
    {
     "name": "stderr",
     "output_type": "stream",
     "text": [
      "Training: 100%|██████████| 8/8 [00:00<00:00, 160.74it/s]\n",
      "Evaluating: 100%|██████████| 2/2 [00:00<?, ?it/s]\n"
     ]
    },
    {
     "name": "stdout",
     "output_type": "stream",
     "text": [
      "Training loss: 0.3524, Training accuracy: 0.8326\n",
      "Test loss: 0.5760, Test accuracy: 0.7667\n",
      "Epoch 384/500\n"
     ]
    },
    {
     "name": "stderr",
     "output_type": "stream",
     "text": [
      "Training: 100%|██████████| 8/8 [00:00<00:00, 156.63it/s]\n",
      "Evaluating: 100%|██████████| 2/2 [00:00<00:00, 276.92it/s]\n"
     ]
    },
    {
     "name": "stdout",
     "output_type": "stream",
     "text": [
      "Training loss: 0.3457, Training accuracy: 0.8410\n",
      "Test loss: 0.5761, Test accuracy: 0.7667\n",
      "Epoch 385/500\n"
     ]
    },
    {
     "name": "stderr",
     "output_type": "stream",
     "text": [
      "Training: 100%|██████████| 8/8 [00:00<00:00, 227.97it/s]\n",
      "Evaluating: 100%|██████████| 2/2 [00:00<00:00, 150.33it/s]\n"
     ]
    },
    {
     "name": "stdout",
     "output_type": "stream",
     "text": [
      "Training loss: 0.3414, Training accuracy: 0.8285\n",
      "Test loss: 0.5855, Test accuracy: 0.7667\n",
      "Epoch 386/500\n"
     ]
    },
    {
     "name": "stderr",
     "output_type": "stream",
     "text": [
      "Training: 100%|██████████| 8/8 [00:00<00:00, 187.63it/s]\n",
      "Evaluating: 100%|██████████| 2/2 [00:00<00:00, 127.96it/s]\n"
     ]
    },
    {
     "name": "stdout",
     "output_type": "stream",
     "text": [
      "Training loss: 0.3487, Training accuracy: 0.8201\n",
      "Test loss: 0.5864, Test accuracy: 0.7667\n",
      "Epoch 387/500\n"
     ]
    },
    {
     "name": "stderr",
     "output_type": "stream",
     "text": [
      "Training: 100%|██████████| 8/8 [00:00<00:00, 260.26it/s]\n",
      "Evaluating: 100%|██████████| 2/2 [00:00<00:00, 127.79it/s]\n"
     ]
    },
    {
     "name": "stdout",
     "output_type": "stream",
     "text": [
      "Training loss: 0.3557, Training accuracy: 0.8285\n",
      "Test loss: 0.5789, Test accuracy: 0.7667\n",
      "Epoch 388/500\n"
     ]
    },
    {
     "name": "stderr",
     "output_type": "stream",
     "text": [
      "Training: 100%|██████████| 8/8 [00:00<00:00, 163.27it/s]\n",
      "Evaluating: 100%|██████████| 2/2 [00:00<?, ?it/s]\n"
     ]
    },
    {
     "name": "stdout",
     "output_type": "stream",
     "text": [
      "Training loss: 0.3452, Training accuracy: 0.8410\n",
      "Test loss: 0.5764, Test accuracy: 0.7667\n",
      "Epoch 389/500\n"
     ]
    },
    {
     "name": "stderr",
     "output_type": "stream",
     "text": [
      "Training: 100%|██████████| 8/8 [00:00<00:00, 162.96it/s]\n",
      "Evaluating: 100%|██████████| 2/2 [00:00<?, ?it/s]\n"
     ]
    },
    {
     "name": "stdout",
     "output_type": "stream",
     "text": [
      "Training loss: 0.3620, Training accuracy: 0.8368\n",
      "Test loss: 0.5799, Test accuracy: 0.7667\n",
      "Epoch 390/500\n"
     ]
    },
    {
     "name": "stderr",
     "output_type": "stream",
     "text": [
      "Training: 100%|██████████| 8/8 [00:00<00:00, 212.97it/s]\n",
      "Evaluating: 100%|██████████| 2/2 [00:00<00:00, 162.54it/s]\n"
     ]
    },
    {
     "name": "stdout",
     "output_type": "stream",
     "text": [
      "Training loss: 0.3505, Training accuracy: 0.8368\n",
      "Test loss: 0.5768, Test accuracy: 0.7667\n",
      "Epoch 391/500\n"
     ]
    },
    {
     "name": "stderr",
     "output_type": "stream",
     "text": [
      "Training: 100%|██████████| 8/8 [00:00<00:00, 193.48it/s]\n",
      "Evaluating: 100%|██████████| 2/2 [00:00<00:00, 127.52it/s]\n"
     ]
    },
    {
     "name": "stdout",
     "output_type": "stream",
     "text": [
      "Training loss: 0.3519, Training accuracy: 0.8368\n",
      "Test loss: 0.5809, Test accuracy: 0.7667\n",
      "Epoch 392/500\n"
     ]
    },
    {
     "name": "stderr",
     "output_type": "stream",
     "text": [
      "Training: 100%|██████████| 8/8 [00:00<00:00, 186.94it/s]\n",
      "Evaluating: 100%|██████████| 2/2 [00:00<?, ?it/s]\n"
     ]
    },
    {
     "name": "stdout",
     "output_type": "stream",
     "text": [
      "Training loss: 0.3688, Training accuracy: 0.8285\n",
      "Test loss: 0.5833, Test accuracy: 0.7667\n",
      "Epoch 393/500\n"
     ]
    },
    {
     "name": "stderr",
     "output_type": "stream",
     "text": [
      "Training: 100%|██████████| 8/8 [00:00<00:00, 191.44it/s]\n",
      "Evaluating: 100%|██████████| 2/2 [00:00<00:00, 127.22it/s]\n"
     ]
    },
    {
     "name": "stdout",
     "output_type": "stream",
     "text": [
      "Training loss: 0.3518, Training accuracy: 0.8326\n",
      "Test loss: 0.5768, Test accuracy: 0.7667\n",
      "Epoch 394/500\n"
     ]
    },
    {
     "name": "stderr",
     "output_type": "stream",
     "text": [
      "Training: 100%|██████████| 8/8 [00:00<00:00, 174.88it/s]\n",
      "Evaluating: 100%|██████████| 2/2 [00:00<?, ?it/s]\n"
     ]
    },
    {
     "name": "stdout",
     "output_type": "stream",
     "text": [
      "Training loss: 0.3508, Training accuracy: 0.8326\n",
      "Test loss: 0.5822, Test accuracy: 0.7667\n",
      "Epoch 395/500\n"
     ]
    },
    {
     "name": "stderr",
     "output_type": "stream",
     "text": [
      "Training: 100%|██████████| 8/8 [00:00<00:00, 153.62it/s]\n",
      "Evaluating: 100%|██████████| 2/2 [00:00<00:00, 127.92it/s]\n"
     ]
    },
    {
     "name": "stdout",
     "output_type": "stream",
     "text": [
      "Training loss: 0.3555, Training accuracy: 0.8326\n",
      "Test loss: 0.5825, Test accuracy: 0.7667\n",
      "Epoch 396/500\n"
     ]
    },
    {
     "name": "stderr",
     "output_type": "stream",
     "text": [
      "Training: 100%|██████████| 8/8 [00:00<00:00, 236.03it/s]\n",
      "Evaluating: 100%|██████████| 2/2 [00:00<00:00, 127.52it/s]\n"
     ]
    },
    {
     "name": "stdout",
     "output_type": "stream",
     "text": [
      "Training loss: 0.3515, Training accuracy: 0.8326\n",
      "Test loss: 0.5774, Test accuracy: 0.7667\n",
      "Epoch 397/500\n"
     ]
    },
    {
     "name": "stderr",
     "output_type": "stream",
     "text": [
      "Training: 100%|██████████| 8/8 [00:00<00:00, 201.09it/s]\n",
      "Evaluating: 100%|██████████| 2/2 [00:00<00:00, 127.89it/s]\n"
     ]
    },
    {
     "name": "stdout",
     "output_type": "stream",
     "text": [
      "Training loss: 0.3458, Training accuracy: 0.8410\n",
      "Test loss: 0.5836, Test accuracy: 0.7667\n",
      "Epoch 398/500\n"
     ]
    },
    {
     "name": "stderr",
     "output_type": "stream",
     "text": [
      "Training: 100%|██████████| 8/8 [00:00<00:00, 181.62it/s]\n",
      "Evaluating: 100%|██████████| 2/2 [00:00<00:00, 145.64it/s]\n"
     ]
    },
    {
     "name": "stdout",
     "output_type": "stream",
     "text": [
      "Training loss: 0.3456, Training accuracy: 0.8159\n",
      "Test loss: 0.5880, Test accuracy: 0.7667\n",
      "Epoch 399/500\n"
     ]
    },
    {
     "name": "stderr",
     "output_type": "stream",
     "text": [
      "Training: 100%|██████████| 8/8 [00:00<00:00, 195.61it/s]\n",
      "Evaluating: 100%|██████████| 2/2 [00:00<?, ?it/s]\n"
     ]
    },
    {
     "name": "stdout",
     "output_type": "stream",
     "text": [
      "Training loss: 0.3659, Training accuracy: 0.8201\n",
      "Test loss: 0.5827, Test accuracy: 0.7667\n",
      "Epoch 400/500\n"
     ]
    },
    {
     "name": "stderr",
     "output_type": "stream",
     "text": [
      "Training: 100%|██████████| 8/8 [00:00<00:00, 172.35it/s]\n",
      "Evaluating: 100%|██████████| 2/2 [00:00<?, ?it/s]\n"
     ]
    },
    {
     "name": "stdout",
     "output_type": "stream",
     "text": [
      "Training loss: 0.3463, Training accuracy: 0.8368\n",
      "Test loss: 0.5763, Test accuracy: 0.7667\n",
      "Epoch 401/500\n"
     ]
    },
    {
     "name": "stderr",
     "output_type": "stream",
     "text": [
      "Training: 100%|██████████| 8/8 [00:00<00:00, 235.45it/s]\n",
      "Evaluating: 100%|██████████| 2/2 [00:00<00:00, 127.47it/s]\n"
     ]
    },
    {
     "name": "stdout",
     "output_type": "stream",
     "text": [
      "Training loss: 0.3487, Training accuracy: 0.8368\n",
      "Test loss: 0.5804, Test accuracy: 0.7667\n",
      "Epoch 402/500\n"
     ]
    },
    {
     "name": "stderr",
     "output_type": "stream",
     "text": [
      "Training: 100%|██████████| 8/8 [00:00<00:00, 226.79it/s]\n",
      "Evaluating: 100%|██████████| 2/2 [00:00<00:00, 127.45it/s]\n"
     ]
    },
    {
     "name": "stdout",
     "output_type": "stream",
     "text": [
      "Training loss: 0.3737, Training accuracy: 0.8243\n",
      "Test loss: 0.5854, Test accuracy: 0.7667\n",
      "Epoch 403/500\n"
     ]
    },
    {
     "name": "stderr",
     "output_type": "stream",
     "text": [
      "Training: 100%|██████████| 8/8 [00:00<00:00, 166.88it/s]\n",
      "Evaluating: 100%|██████████| 2/2 [00:00<00:00, 1670.70it/s]\n"
     ]
    },
    {
     "name": "stdout",
     "output_type": "stream",
     "text": [
      "Training loss: 0.3455, Training accuracy: 0.8326\n",
      "Test loss: 0.5784, Test accuracy: 0.7667\n",
      "Epoch 404/500\n"
     ]
    },
    {
     "name": "stderr",
     "output_type": "stream",
     "text": [
      "Training: 100%|██████████| 8/8 [00:00<00:00, 238.87it/s]\n",
      "Evaluating: 100%|██████████| 2/2 [00:00<?, ?it/s]\n"
     ]
    },
    {
     "name": "stdout",
     "output_type": "stream",
     "text": [
      "Training loss: 0.3529, Training accuracy: 0.8368\n",
      "Test loss: 0.5741, Test accuracy: 0.7833\n",
      "Epoch 405/500\n"
     ]
    },
    {
     "name": "stderr",
     "output_type": "stream",
     "text": [
      "Training: 100%|██████████| 8/8 [00:00<00:00, 220.01it/s]\n",
      "Evaluating: 100%|██████████| 2/2 [00:00<00:00, 128.07it/s]\n"
     ]
    },
    {
     "name": "stdout",
     "output_type": "stream",
     "text": [
      "Training loss: 0.3586, Training accuracy: 0.8410\n",
      "Test loss: 0.5802, Test accuracy: 0.7667\n",
      "Epoch 406/500\n"
     ]
    },
    {
     "name": "stderr",
     "output_type": "stream",
     "text": [
      "Training: 100%|██████████| 8/8 [00:00<00:00, 166.66it/s]\n",
      "Evaluating: 100%|██████████| 2/2 [00:00<?, ?it/s]\n"
     ]
    },
    {
     "name": "stdout",
     "output_type": "stream",
     "text": [
      "Training loss: 0.3479, Training accuracy: 0.8326\n",
      "Test loss: 0.5828, Test accuracy: 0.7667\n",
      "Epoch 407/500\n"
     ]
    },
    {
     "name": "stderr",
     "output_type": "stream",
     "text": [
      "Training: 100%|██████████| 8/8 [00:00<00:00, 162.93it/s]\n",
      "Evaluating: 100%|██████████| 2/2 [00:00<00:00, 157.10it/s]\n"
     ]
    },
    {
     "name": "stdout",
     "output_type": "stream",
     "text": [
      "Training loss: 0.3450, Training accuracy: 0.8326\n",
      "Test loss: 0.5790, Test accuracy: 0.7667\n",
      "Epoch 408/500\n"
     ]
    },
    {
     "name": "stderr",
     "output_type": "stream",
     "text": [
      "Training: 100%|██████████| 8/8 [00:00<00:00, 216.61it/s]\n",
      "Evaluating: 100%|██████████| 2/2 [00:00<00:00, 127.85it/s]\n"
     ]
    },
    {
     "name": "stdout",
     "output_type": "stream",
     "text": [
      "Training loss: 0.3587, Training accuracy: 0.8368\n",
      "Test loss: 0.5802, Test accuracy: 0.7667\n",
      "Epoch 409/500\n"
     ]
    },
    {
     "name": "stderr",
     "output_type": "stream",
     "text": [
      "Training: 100%|██████████| 8/8 [00:00<00:00, 256.11it/s]\n",
      "Evaluating: 100%|██████████| 2/2 [00:00<00:00, 99.73it/s]\n"
     ]
    },
    {
     "name": "stdout",
     "output_type": "stream",
     "text": [
      "Training loss: 0.3510, Training accuracy: 0.8410\n",
      "Test loss: 0.5756, Test accuracy: 0.7667\n",
      "Epoch 410/500\n"
     ]
    },
    {
     "name": "stderr",
     "output_type": "stream",
     "text": [
      "Training: 100%|██████████| 8/8 [00:00<00:00, 163.87it/s]\n",
      "Evaluating: 100%|██████████| 2/2 [00:00<?, ?it/s]\n"
     ]
    },
    {
     "name": "stdout",
     "output_type": "stream",
     "text": [
      "Training loss: 0.3608, Training accuracy: 0.8410\n",
      "Test loss: 0.5779, Test accuracy: 0.7667\n",
      "Epoch 411/500\n"
     ]
    },
    {
     "name": "stderr",
     "output_type": "stream",
     "text": [
      "Training: 100%|██████████| 8/8 [00:00<00:00, 164.55it/s]\n",
      "Evaluating: 100%|██████████| 2/2 [00:00<?, ?it/s]\n"
     ]
    },
    {
     "name": "stdout",
     "output_type": "stream",
     "text": [
      "Training loss: 0.3568, Training accuracy: 0.8410\n",
      "Test loss: 0.5775, Test accuracy: 0.7667\n",
      "Epoch 412/500\n"
     ]
    },
    {
     "name": "stderr",
     "output_type": "stream",
     "text": [
      "Training: 100%|██████████| 8/8 [00:00<00:00, 223.40it/s]\n",
      "Evaluating: 100%|██████████| 2/2 [00:00<?, ?it/s]\n"
     ]
    },
    {
     "name": "stdout",
     "output_type": "stream",
     "text": [
      "Training loss: 0.3478, Training accuracy: 0.8410\n",
      "Test loss: 0.5794, Test accuracy: 0.7667\n",
      "Epoch 413/500\n"
     ]
    },
    {
     "name": "stderr",
     "output_type": "stream",
     "text": [
      "Training: 100%|██████████| 8/8 [00:00<00:00, 163.47it/s]\n",
      "Evaluating: 100%|██████████| 2/2 [00:00<?, ?it/s]\n"
     ]
    },
    {
     "name": "stdout",
     "output_type": "stream",
     "text": [
      "Training loss: 0.3504, Training accuracy: 0.8201\n",
      "Test loss: 0.5857, Test accuracy: 0.7667\n",
      "Epoch 414/500\n"
     ]
    },
    {
     "name": "stderr",
     "output_type": "stream",
     "text": [
      "Training: 100%|██████████| 8/8 [00:00<00:00, 226.05it/s]\n",
      "Evaluating: 100%|██████████| 2/2 [00:00<00:00, 127.50it/s]\n"
     ]
    },
    {
     "name": "stdout",
     "output_type": "stream",
     "text": [
      "Training loss: 0.3443, Training accuracy: 0.8285\n",
      "Test loss: 0.5822, Test accuracy: 0.7667\n",
      "Epoch 415/500\n"
     ]
    },
    {
     "name": "stderr",
     "output_type": "stream",
     "text": [
      "Training: 100%|██████████| 8/8 [00:00<00:00, 240.80it/s]\n",
      "Evaluating: 100%|██████████| 2/2 [00:00<00:00, 127.46it/s]\n"
     ]
    },
    {
     "name": "stdout",
     "output_type": "stream",
     "text": [
      "Training loss: 0.3583, Training accuracy: 0.8368\n",
      "Test loss: 0.5767, Test accuracy: 0.7667\n",
      "Epoch 416/500\n"
     ]
    },
    {
     "name": "stderr",
     "output_type": "stream",
     "text": [
      "Training: 100%|██████████| 8/8 [00:00<00:00, 156.35it/s]\n",
      "Evaluating: 100%|██████████| 2/2 [00:00<?, ?it/s]\n"
     ]
    },
    {
     "name": "stdout",
     "output_type": "stream",
     "text": [
      "Training loss: 0.3705, Training accuracy: 0.8326\n",
      "Test loss: 0.5855, Test accuracy: 0.7667\n",
      "Epoch 417/500\n"
     ]
    },
    {
     "name": "stderr",
     "output_type": "stream",
     "text": [
      "Training: 100%|██████████| 8/8 [00:00<00:00, 159.80it/s]\n",
      "Evaluating: 100%|██████████| 2/2 [00:00<00:00, 151.54it/s]\n"
     ]
    },
    {
     "name": "stdout",
     "output_type": "stream",
     "text": [
      "Training loss: 0.3448, Training accuracy: 0.8201\n",
      "Test loss: 0.5887, Test accuracy: 0.7667\n",
      "Epoch 418/500\n"
     ]
    },
    {
     "name": "stderr",
     "output_type": "stream",
     "text": [
      "Training: 100%|██████████| 8/8 [00:00<00:00, 296.13it/s]\n",
      "Evaluating: 100%|██████████| 2/2 [00:00<?, ?it/s]\n"
     ]
    },
    {
     "name": "stdout",
     "output_type": "stream",
     "text": [
      "Training loss: 0.3474, Training accuracy: 0.8326\n",
      "Test loss: 0.5778, Test accuracy: 0.7667\n",
      "Epoch 419/500\n"
     ]
    },
    {
     "name": "stderr",
     "output_type": "stream",
     "text": [
      "Training: 100%|██████████| 8/8 [00:00<00:00, 181.88it/s]\n",
      "Evaluating: 100%|██████████| 2/2 [00:00<00:00, 127.90it/s]\n"
     ]
    },
    {
     "name": "stdout",
     "output_type": "stream",
     "text": [
      "Training loss: 0.3535, Training accuracy: 0.8368\n",
      "Test loss: 0.5795, Test accuracy: 0.7667\n",
      "Epoch 420/500\n"
     ]
    },
    {
     "name": "stderr",
     "output_type": "stream",
     "text": [
      "Training: 100%|██████████| 8/8 [00:00<00:00, 232.56it/s]\n",
      "Evaluating: 100%|██████████| 2/2 [00:00<00:00, 147.42it/s]\n"
     ]
    },
    {
     "name": "stdout",
     "output_type": "stream",
     "text": [
      "Training loss: 0.3550, Training accuracy: 0.8368\n",
      "Test loss: 0.5801, Test accuracy: 0.7667\n",
      "Epoch 421/500\n"
     ]
    },
    {
     "name": "stderr",
     "output_type": "stream",
     "text": [
      "Training: 100%|██████████| 8/8 [00:00<00:00, 217.62it/s]\n",
      "Evaluating: 100%|██████████| 2/2 [00:00<00:00, 127.91it/s]\n"
     ]
    },
    {
     "name": "stdout",
     "output_type": "stream",
     "text": [
      "Training loss: 0.3481, Training accuracy: 0.8285\n",
      "Test loss: 0.5829, Test accuracy: 0.7667\n",
      "Epoch 422/500\n"
     ]
    },
    {
     "name": "stderr",
     "output_type": "stream",
     "text": [
      "Training: 100%|██████████| 8/8 [00:00<00:00, 233.97it/s]\n",
      "Evaluating: 100%|██████████| 2/2 [00:00<00:00, 127.91it/s]\n"
     ]
    },
    {
     "name": "stdout",
     "output_type": "stream",
     "text": [
      "Training loss: 0.3514, Training accuracy: 0.8410\n",
      "Test loss: 0.5756, Test accuracy: 0.7667\n",
      "Epoch 423/500\n"
     ]
    },
    {
     "name": "stderr",
     "output_type": "stream",
     "text": [
      "Training: 100%|██████████| 8/8 [00:00<00:00, 159.44it/s]\n",
      "Evaluating: 100%|██████████| 2/2 [00:00<?, ?it/s]\n"
     ]
    },
    {
     "name": "stdout",
     "output_type": "stream",
     "text": [
      "Training loss: 0.3573, Training accuracy: 0.8410\n",
      "Test loss: 0.5773, Test accuracy: 0.7667\n",
      "Epoch 424/500\n"
     ]
    },
    {
     "name": "stderr",
     "output_type": "stream",
     "text": [
      "Training: 100%|██████████| 8/8 [00:00<00:00, 160.71it/s]\n",
      "Evaluating: 100%|██████████| 2/2 [00:00<00:00, 145.90it/s]\n"
     ]
    },
    {
     "name": "stdout",
     "output_type": "stream",
     "text": [
      "Training loss: 0.3568, Training accuracy: 0.8410\n",
      "Test loss: 0.5793, Test accuracy: 0.7667\n",
      "Epoch 425/500\n"
     ]
    },
    {
     "name": "stderr",
     "output_type": "stream",
     "text": [
      "Training: 100%|██████████| 8/8 [00:00<00:00, 190.53it/s]\n",
      "Evaluating: 100%|██████████| 2/2 [00:00<00:00, 127.98it/s]\n"
     ]
    },
    {
     "name": "stdout",
     "output_type": "stream",
     "text": [
      "Training loss: 0.3485, Training accuracy: 0.8285\n",
      "Test loss: 0.5866, Test accuracy: 0.7667\n",
      "Epoch 426/500\n"
     ]
    },
    {
     "name": "stderr",
     "output_type": "stream",
     "text": [
      "Training: 100%|██████████| 8/8 [00:00<00:00, 175.59it/s]\n",
      "Evaluating: 100%|██████████| 2/2 [00:00<?, ?it/s]\n"
     ]
    },
    {
     "name": "stdout",
     "output_type": "stream",
     "text": [
      "Training loss: 0.3549, Training accuracy: 0.8285\n",
      "Test loss: 0.5789, Test accuracy: 0.7667\n",
      "Epoch 427/500\n"
     ]
    },
    {
     "name": "stderr",
     "output_type": "stream",
     "text": [
      "Training: 100%|██████████| 8/8 [00:00<00:00, 169.62it/s]\n",
      "Evaluating: 100%|██████████| 2/2 [00:00<00:00, 121.73it/s]\n"
     ]
    },
    {
     "name": "stdout",
     "output_type": "stream",
     "text": [
      "Training loss: 0.3488, Training accuracy: 0.8410\n",
      "Test loss: 0.5767, Test accuracy: 0.7667\n",
      "Epoch 428/500\n"
     ]
    },
    {
     "name": "stderr",
     "output_type": "stream",
     "text": [
      "Training: 100%|██████████| 8/8 [00:00<00:00, 228.33it/s]\n",
      "Evaluating: 100%|██████████| 2/2 [00:00<?, ?it/s]\n"
     ]
    },
    {
     "name": "stdout",
     "output_type": "stream",
     "text": [
      "Training loss: 0.3423, Training accuracy: 0.8410\n",
      "Test loss: 0.5786, Test accuracy: 0.7667\n",
      "Epoch 429/500\n"
     ]
    },
    {
     "name": "stderr",
     "output_type": "stream",
     "text": [
      "Training: 100%|██████████| 8/8 [00:00<00:00, 231.71it/s]\n",
      "Evaluating: 100%|██████████| 2/2 [00:00<00:00, 122.69it/s]\n"
     ]
    },
    {
     "name": "stdout",
     "output_type": "stream",
     "text": [
      "Training loss: 0.3524, Training accuracy: 0.8326\n",
      "Test loss: 0.5858, Test accuracy: 0.7667\n",
      "Epoch 430/500\n"
     ]
    },
    {
     "name": "stderr",
     "output_type": "stream",
     "text": [
      "Training: 100%|██████████| 8/8 [00:00<00:00, 241.87it/s]\n",
      "Evaluating: 100%|██████████| 2/2 [00:00<00:00, 127.88it/s]\n"
     ]
    },
    {
     "name": "stdout",
     "output_type": "stream",
     "text": [
      "Training loss: 0.3428, Training accuracy: 0.8326\n",
      "Test loss: 0.5792, Test accuracy: 0.7667\n",
      "Epoch 431/500\n"
     ]
    },
    {
     "name": "stderr",
     "output_type": "stream",
     "text": [
      "Training: 100%|██████████| 8/8 [00:00<00:00, 238.92it/s]\n",
      "Evaluating: 100%|██████████| 2/2 [00:00<00:00, 127.88it/s]\n"
     ]
    },
    {
     "name": "stdout",
     "output_type": "stream",
     "text": [
      "Training loss: 0.3640, Training accuracy: 0.8243\n",
      "Test loss: 0.5858, Test accuracy: 0.7667\n",
      "Epoch 432/500\n"
     ]
    },
    {
     "name": "stderr",
     "output_type": "stream",
     "text": [
      "Training: 100%|██████████| 8/8 [00:00<00:00, 159.89it/s]\n",
      "Evaluating: 100%|██████████| 2/2 [00:00<?, ?it/s]\n"
     ]
    },
    {
     "name": "stdout",
     "output_type": "stream",
     "text": [
      "Training loss: 0.3543, Training accuracy: 0.8285\n",
      "Test loss: 0.5791, Test accuracy: 0.7667\n",
      "Epoch 433/500\n"
     ]
    },
    {
     "name": "stderr",
     "output_type": "stream",
     "text": [
      "Training: 100%|██████████| 8/8 [00:00<00:00, 153.02it/s]\n",
      "Evaluating: 100%|██████████| 2/2 [00:00<?, ?it/s]\n"
     ]
    },
    {
     "name": "stdout",
     "output_type": "stream",
     "text": [
      "Training loss: 0.3414, Training accuracy: 0.8410\n",
      "Test loss: 0.5741, Test accuracy: 0.7667\n",
      "Epoch 434/500\n"
     ]
    },
    {
     "name": "stderr",
     "output_type": "stream",
     "text": [
      "Training: 100%|██████████| 8/8 [00:00<00:00, 163.84it/s]\n",
      "Evaluating: 100%|██████████| 2/2 [00:00<00:00, 127.87it/s]\n"
     ]
    },
    {
     "name": "stdout",
     "output_type": "stream",
     "text": [
      "Training loss: 0.3436, Training accuracy: 0.8494\n",
      "Test loss: 0.5766, Test accuracy: 0.7667\n",
      "Epoch 435/500\n"
     ]
    },
    {
     "name": "stderr",
     "output_type": "stream",
     "text": [
      "Training: 100%|██████████| 8/8 [00:00<00:00, 219.30it/s]\n",
      "Evaluating: 100%|██████████| 2/2 [00:00<00:00, 127.92it/s]\n"
     ]
    },
    {
     "name": "stdout",
     "output_type": "stream",
     "text": [
      "Training loss: 0.3497, Training accuracy: 0.8368\n",
      "Test loss: 0.5839, Test accuracy: 0.7667\n",
      "Epoch 436/500\n"
     ]
    },
    {
     "name": "stderr",
     "output_type": "stream",
     "text": [
      "Training: 100%|██████████| 8/8 [00:00<00:00, 246.29it/s]\n",
      "Evaluating: 100%|██████████| 2/2 [00:00<00:00, 127.45it/s]\n"
     ]
    },
    {
     "name": "stdout",
     "output_type": "stream",
     "text": [
      "Training loss: 0.3594, Training accuracy: 0.8117\n",
      "Test loss: 0.5887, Test accuracy: 0.7667\n",
      "Epoch 437/500\n"
     ]
    },
    {
     "name": "stderr",
     "output_type": "stream",
     "text": [
      "Training: 100%|██████████| 8/8 [00:00<00:00, 233.50it/s]\n",
      "Evaluating: 100%|██████████| 2/2 [00:00<00:00, 116.32it/s]\n"
     ]
    },
    {
     "name": "stdout",
     "output_type": "stream",
     "text": [
      "Training loss: 0.3489, Training accuracy: 0.8285\n",
      "Test loss: 0.5760, Test accuracy: 0.7667\n",
      "Epoch 438/500\n"
     ]
    },
    {
     "name": "stderr",
     "output_type": "stream",
     "text": [
      "Training: 100%|██████████| 8/8 [00:00<00:00, 161.33it/s]\n",
      "Evaluating: 100%|██████████| 2/2 [00:00<?, ?it/s]\n"
     ]
    },
    {
     "name": "stdout",
     "output_type": "stream",
     "text": [
      "Training loss: 0.3773, Training accuracy: 0.8410\n",
      "Test loss: 0.5777, Test accuracy: 0.7667\n",
      "Epoch 439/500\n"
     ]
    },
    {
     "name": "stderr",
     "output_type": "stream",
     "text": [
      "Training: 100%|██████████| 8/8 [00:00<00:00, 156.57it/s]\n",
      "Evaluating: 100%|██████████| 2/2 [00:00<00:00, 127.32it/s]\n"
     ]
    },
    {
     "name": "stdout",
     "output_type": "stream",
     "text": [
      "Training loss: 0.3460, Training accuracy: 0.8452\n",
      "Test loss: 0.5723, Test accuracy: 0.7833\n",
      "Epoch 440/500\n"
     ]
    },
    {
     "name": "stderr",
     "output_type": "stream",
     "text": [
      "Training: 100%|██████████| 8/8 [00:00<00:00, 237.08it/s]\n",
      "Evaluating: 100%|██████████| 2/2 [00:00<00:00, 126.95it/s]\n"
     ]
    },
    {
     "name": "stdout",
     "output_type": "stream",
     "text": [
      "Training loss: 0.3533, Training accuracy: 0.8452\n",
      "Test loss: 0.5777, Test accuracy: 0.7667\n",
      "Epoch 441/500\n"
     ]
    },
    {
     "name": "stderr",
     "output_type": "stream",
     "text": [
      "Training: 100%|██████████| 8/8 [00:00<00:00, 158.06it/s]\n",
      "Evaluating: 100%|██████████| 2/2 [00:00<?, ?it/s]\n"
     ]
    },
    {
     "name": "stdout",
     "output_type": "stream",
     "text": [
      "Training loss: 0.3637, Training accuracy: 0.8326\n",
      "Test loss: 0.5834, Test accuracy: 0.7667\n",
      "Epoch 442/500\n"
     ]
    },
    {
     "name": "stderr",
     "output_type": "stream",
     "text": [
      "Training: 100%|██████████| 8/8 [00:00<00:00, 161.21it/s]\n",
      "Evaluating: 100%|██████████| 2/2 [00:00<00:00, 127.65it/s]\n"
     ]
    },
    {
     "name": "stdout",
     "output_type": "stream",
     "text": [
      "Training loss: 0.3566, Training accuracy: 0.8368\n",
      "Test loss: 0.5754, Test accuracy: 0.7667\n",
      "Epoch 443/500\n"
     ]
    },
    {
     "name": "stderr",
     "output_type": "stream",
     "text": [
      "Training: 100%|██████████| 8/8 [00:00<00:00, 228.61it/s]\n",
      "Evaluating: 100%|██████████| 2/2 [00:00<00:00, 127.50it/s]\n"
     ]
    },
    {
     "name": "stdout",
     "output_type": "stream",
     "text": [
      "Training loss: 0.3422, Training accuracy: 0.8410\n",
      "Test loss: 0.5780, Test accuracy: 0.7667\n",
      "Epoch 444/500\n"
     ]
    },
    {
     "name": "stderr",
     "output_type": "stream",
     "text": [
      "Training: 100%|██████████| 8/8 [00:00<00:00, 167.96it/s]\n",
      "Evaluating: 100%|██████████| 2/2 [00:00<00:00, 1417.71it/s]\n"
     ]
    },
    {
     "name": "stdout",
     "output_type": "stream",
     "text": [
      "Training loss: 0.3562, Training accuracy: 0.8326\n",
      "Test loss: 0.5846, Test accuracy: 0.7667\n",
      "Epoch 445/500\n"
     ]
    },
    {
     "name": "stderr",
     "output_type": "stream",
     "text": [
      "Training: 100%|██████████| 8/8 [00:00<00:00, 171.18it/s]\n",
      "Evaluating: 100%|██████████| 2/2 [00:00<?, ?it/s]\n"
     ]
    },
    {
     "name": "stdout",
     "output_type": "stream",
     "text": [
      "Training loss: 0.3547, Training accuracy: 0.8326\n",
      "Test loss: 0.5777, Test accuracy: 0.7667\n",
      "Epoch 446/500\n"
     ]
    },
    {
     "name": "stderr",
     "output_type": "stream",
     "text": [
      "Training: 100%|██████████| 8/8 [00:00<00:00, 159.29it/s]\n",
      "Evaluating: 100%|██████████| 2/2 [00:00<?, ?it/s]\n"
     ]
    },
    {
     "name": "stdout",
     "output_type": "stream",
     "text": [
      "Training loss: 0.3491, Training accuracy: 0.8410\n",
      "Test loss: 0.5787, Test accuracy: 0.7667\n",
      "Epoch 447/500\n"
     ]
    },
    {
     "name": "stderr",
     "output_type": "stream",
     "text": [
      "Training: 100%|██████████| 8/8 [00:00<00:00, 159.29it/s]\n",
      "Evaluating: 100%|██████████| 2/2 [00:00<00:00, 116.44it/s]\n"
     ]
    },
    {
     "name": "stdout",
     "output_type": "stream",
     "text": [
      "Training loss: 0.3512, Training accuracy: 0.8326\n",
      "Test loss: 0.5840, Test accuracy: 0.7667\n",
      "Epoch 448/500\n"
     ]
    },
    {
     "name": "stderr",
     "output_type": "stream",
     "text": [
      "Training: 100%|██████████| 8/8 [00:00<00:00, 145.05it/s]\n",
      "Evaluating: 100%|██████████| 2/2 [00:00<?, ?it/s]\n"
     ]
    },
    {
     "name": "stdout",
     "output_type": "stream",
     "text": [
      "Training loss: 0.3498, Training accuracy: 0.8326\n",
      "Test loss: 0.5794, Test accuracy: 0.7667\n",
      "Epoch 449/500\n"
     ]
    },
    {
     "name": "stderr",
     "output_type": "stream",
     "text": [
      "Training: 100%|██████████| 8/8 [00:00<00:00, 196.06it/s]\n",
      "Evaluating: 100%|██████████| 2/2 [00:00<00:00, 332.52it/s]\n"
     ]
    },
    {
     "name": "stdout",
     "output_type": "stream",
     "text": [
      "Training loss: 0.3634, Training accuracy: 0.8410\n",
      "Test loss: 0.5741, Test accuracy: 0.7833\n",
      "Epoch 450/500\n"
     ]
    },
    {
     "name": "stderr",
     "output_type": "stream",
     "text": [
      "Training: 100%|██████████| 8/8 [00:00<00:00, 220.67it/s]\n",
      "Evaluating: 100%|██████████| 2/2 [00:00<00:00, 149.64it/s]\n"
     ]
    },
    {
     "name": "stdout",
     "output_type": "stream",
     "text": [
      "Training loss: 0.3609, Training accuracy: 0.8494\n",
      "Test loss: 0.5767, Test accuracy: 0.7667\n",
      "Epoch 451/500\n"
     ]
    },
    {
     "name": "stderr",
     "output_type": "stream",
     "text": [
      "Training: 100%|██████████| 8/8 [00:00<00:00, 165.71it/s]\n",
      "Evaluating: 100%|██████████| 2/2 [00:00<00:00, 4391.94it/s]\n"
     ]
    },
    {
     "name": "stdout",
     "output_type": "stream",
     "text": [
      "Training loss: 0.3442, Training accuracy: 0.8410\n",
      "Test loss: 0.5779, Test accuracy: 0.7667\n",
      "Epoch 452/500\n"
     ]
    },
    {
     "name": "stderr",
     "output_type": "stream",
     "text": [
      "Training: 100%|██████████| 8/8 [00:00<00:00, 154.55it/s]\n",
      "Evaluating: 100%|██████████| 2/2 [00:00<?, ?it/s]\n"
     ]
    },
    {
     "name": "stdout",
     "output_type": "stream",
     "text": [
      "Training loss: 0.3436, Training accuracy: 0.8326\n",
      "Test loss: 0.5860, Test accuracy: 0.7667\n",
      "Epoch 453/500\n"
     ]
    },
    {
     "name": "stderr",
     "output_type": "stream",
     "text": [
      "Training: 100%|██████████| 8/8 [00:00<00:00, 165.24it/s]\n",
      "Evaluating: 100%|██████████| 2/2 [00:00<00:00, 249.84it/s]\n"
     ]
    },
    {
     "name": "stdout",
     "output_type": "stream",
     "text": [
      "Training loss: 0.3513, Training accuracy: 0.8201\n",
      "Test loss: 0.5854, Test accuracy: 0.7667\n",
      "Epoch 454/500\n"
     ]
    },
    {
     "name": "stderr",
     "output_type": "stream",
     "text": [
      "Training: 100%|██████████| 8/8 [00:00<00:00, 220.72it/s]\n",
      "Evaluating: 100%|██████████| 2/2 [00:00<?, ?it/s]\n"
     ]
    },
    {
     "name": "stdout",
     "output_type": "stream",
     "text": [
      "Training loss: 0.3518, Training accuracy: 0.8326\n",
      "Test loss: 0.5781, Test accuracy: 0.7667\n",
      "Epoch 455/500\n"
     ]
    },
    {
     "name": "stderr",
     "output_type": "stream",
     "text": [
      "Training: 100%|██████████| 8/8 [00:00<00:00, 150.35it/s]\n",
      "Evaluating: 100%|██████████| 2/2 [00:00<?, ?it/s]\n"
     ]
    },
    {
     "name": "stdout",
     "output_type": "stream",
     "text": [
      "Training loss: 0.3496, Training accuracy: 0.8368\n",
      "Test loss: 0.5790, Test accuracy: 0.7667\n",
      "Epoch 456/500\n"
     ]
    },
    {
     "name": "stderr",
     "output_type": "stream",
     "text": [
      "Training: 100%|██████████| 8/8 [00:00<00:00, 218.32it/s]\n",
      "Evaluating: 100%|██████████| 2/2 [00:00<00:00, 143.65it/s]\n"
     ]
    },
    {
     "name": "stdout",
     "output_type": "stream",
     "text": [
      "Training loss: 0.3381, Training accuracy: 0.8410\n",
      "Test loss: 0.5771, Test accuracy: 0.7667\n",
      "Epoch 457/500\n"
     ]
    },
    {
     "name": "stderr",
     "output_type": "stream",
     "text": [
      "Training: 100%|██████████| 8/8 [00:00<00:00, 197.38it/s]\n",
      "Evaluating: 100%|██████████| 2/2 [00:00<00:00, 246.54it/s]\n"
     ]
    },
    {
     "name": "stdout",
     "output_type": "stream",
     "text": [
      "Training loss: 0.3553, Training accuracy: 0.8410\n",
      "Test loss: 0.5770, Test accuracy: 0.7667\n",
      "Epoch 458/500\n"
     ]
    },
    {
     "name": "stderr",
     "output_type": "stream",
     "text": [
      "Training: 100%|██████████| 8/8 [00:00<00:00, 243.59it/s]\n",
      "Evaluating: 100%|██████████| 2/2 [00:00<00:00, 118.31it/s]\n"
     ]
    },
    {
     "name": "stdout",
     "output_type": "stream",
     "text": [
      "Training loss: 0.3424, Training accuracy: 0.8368\n",
      "Test loss: 0.5834, Test accuracy: 0.7667\n",
      "Epoch 459/500\n"
     ]
    },
    {
     "name": "stderr",
     "output_type": "stream",
     "text": [
      "Training: 100%|██████████| 8/8 [00:00<00:00, 185.63it/s]\n",
      "Evaluating: 100%|██████████| 2/2 [00:00<00:00, 331.76it/s]\n"
     ]
    },
    {
     "name": "stdout",
     "output_type": "stream",
     "text": [
      "Training loss: 0.3489, Training accuracy: 0.8326\n",
      "Test loss: 0.5836, Test accuracy: 0.7667\n",
      "Epoch 460/500\n"
     ]
    },
    {
     "name": "stderr",
     "output_type": "stream",
     "text": [
      "Training: 100%|██████████| 8/8 [00:00<00:00, 221.73it/s]\n",
      "Evaluating: 100%|██████████| 2/2 [00:00<00:00, 145.93it/s]\n"
     ]
    },
    {
     "name": "stdout",
     "output_type": "stream",
     "text": [
      "Training loss: 0.3526, Training accuracy: 0.8326\n",
      "Test loss: 0.5807, Test accuracy: 0.7667\n",
      "Epoch 461/500\n"
     ]
    },
    {
     "name": "stderr",
     "output_type": "stream",
     "text": [
      "Training: 100%|██████████| 8/8 [00:00<00:00, 167.56it/s]\n",
      "Evaluating: 100%|██████████| 2/2 [00:00<00:00, 1117.74it/s]\n"
     ]
    },
    {
     "name": "stdout",
     "output_type": "stream",
     "text": [
      "Training loss: 0.3464, Training accuracy: 0.8410\n",
      "Test loss: 0.5756, Test accuracy: 0.7667\n",
      "Epoch 462/500\n"
     ]
    },
    {
     "name": "stderr",
     "output_type": "stream",
     "text": [
      "Training: 100%|██████████| 8/8 [00:00<00:00, 152.93it/s]\n",
      "Evaluating: 100%|██████████| 2/2 [00:00<?, ?it/s]\n"
     ]
    },
    {
     "name": "stdout",
     "output_type": "stream",
     "text": [
      "Training loss: 0.3566, Training accuracy: 0.8410\n",
      "Test loss: 0.5806, Test accuracy: 0.7667\n",
      "Epoch 463/500\n"
     ]
    },
    {
     "name": "stderr",
     "output_type": "stream",
     "text": [
      "Training: 100%|██████████| 8/8 [00:00<00:00, 159.22it/s]\n",
      "Evaluating: 100%|██████████| 2/2 [00:00<?, ?it/s]\n"
     ]
    },
    {
     "name": "stdout",
     "output_type": "stream",
     "text": [
      "Training loss: 0.3520, Training accuracy: 0.8368\n",
      "Test loss: 0.5806, Test accuracy: 0.7667\n",
      "Epoch 464/500\n"
     ]
    },
    {
     "name": "stderr",
     "output_type": "stream",
     "text": [
      "Training: 100%|██████████| 8/8 [00:00<00:00, 159.37it/s]\n",
      "Evaluating: 100%|██████████| 2/2 [00:00<00:00, 149.00it/s]\n"
     ]
    },
    {
     "name": "stdout",
     "output_type": "stream",
     "text": [
      "Training loss: 0.3487, Training accuracy: 0.8326\n",
      "Test loss: 0.5827, Test accuracy: 0.7667\n",
      "Epoch 465/500\n"
     ]
    },
    {
     "name": "stderr",
     "output_type": "stream",
     "text": [
      "Training: 100%|██████████| 8/8 [00:00<00:00, 219.52it/s]\n",
      "Evaluating: 100%|██████████| 2/2 [00:00<00:00, 146.26it/s]\n"
     ]
    },
    {
     "name": "stdout",
     "output_type": "stream",
     "text": [
      "Training loss: 0.3387, Training accuracy: 0.8326\n",
      "Test loss: 0.5813, Test accuracy: 0.7667\n",
      "Epoch 466/500\n"
     ]
    },
    {
     "name": "stderr",
     "output_type": "stream",
     "text": [
      "Training: 100%|██████████| 8/8 [00:00<00:00, 220.43it/s]\n",
      "Evaluating: 100%|██████████| 2/2 [00:00<00:00, 143.27it/s]\n"
     ]
    },
    {
     "name": "stdout",
     "output_type": "stream",
     "text": [
      "Training loss: 0.3518, Training accuracy: 0.8326\n",
      "Test loss: 0.5829, Test accuracy: 0.7667\n",
      "Epoch 467/500\n"
     ]
    },
    {
     "name": "stderr",
     "output_type": "stream",
     "text": [
      "Training: 100%|██████████| 8/8 [00:00<00:00, 243.43it/s]\n",
      "Evaluating: 100%|██████████| 2/2 [00:00<00:00, 118.92it/s]\n"
     ]
    },
    {
     "name": "stdout",
     "output_type": "stream",
     "text": [
      "Training loss: 0.3454, Training accuracy: 0.8285\n",
      "Test loss: 0.5869, Test accuracy: 0.7667\n",
      "Epoch 468/500\n"
     ]
    },
    {
     "name": "stderr",
     "output_type": "stream",
     "text": [
      "Training: 100%|██████████| 8/8 [00:00<00:00, 218.03it/s]\n",
      "Evaluating: 100%|██████████| 2/2 [00:00<00:00, 150.54it/s]\n"
     ]
    },
    {
     "name": "stdout",
     "output_type": "stream",
     "text": [
      "Training loss: 0.3502, Training accuracy: 0.8285\n",
      "Test loss: 0.5824, Test accuracy: 0.7667\n",
      "Epoch 469/500\n"
     ]
    },
    {
     "name": "stderr",
     "output_type": "stream",
     "text": [
      "Training: 100%|██████████| 8/8 [00:00<00:00, 212.35it/s]\n",
      "Evaluating: 100%|██████████| 2/2 [00:00<00:00, 158.42it/s]\n"
     ]
    },
    {
     "name": "stdout",
     "output_type": "stream",
     "text": [
      "Training loss: 0.3443, Training accuracy: 0.8326\n",
      "Test loss: 0.5796, Test accuracy: 0.7667\n",
      "Epoch 470/500\n"
     ]
    },
    {
     "name": "stderr",
     "output_type": "stream",
     "text": [
      "Training: 100%|██████████| 8/8 [00:00<00:00, 157.97it/s]\n",
      "Evaluating: 100%|██████████| 2/2 [00:00<?, ?it/s]\n"
     ]
    },
    {
     "name": "stdout",
     "output_type": "stream",
     "text": [
      "Training loss: 0.3467, Training accuracy: 0.8410\n",
      "Test loss: 0.5764, Test accuracy: 0.7667\n",
      "Epoch 471/500\n"
     ]
    },
    {
     "name": "stderr",
     "output_type": "stream",
     "text": [
      "Training: 100%|██████████| 8/8 [00:00<00:00, 165.19it/s]\n",
      "Evaluating: 100%|██████████| 2/2 [00:00<?, ?it/s]\n"
     ]
    },
    {
     "name": "stdout",
     "output_type": "stream",
     "text": [
      "Training loss: 0.3567, Training accuracy: 0.8243\n",
      "Test loss: 0.5875, Test accuracy: 0.7667\n",
      "Epoch 472/500\n"
     ]
    },
    {
     "name": "stderr",
     "output_type": "stream",
     "text": [
      "Training: 100%|██████████| 8/8 [00:00<00:00, 159.87it/s]\n",
      "Evaluating: 100%|██████████| 2/2 [00:00<00:00, 144.07it/s]\n"
     ]
    },
    {
     "name": "stdout",
     "output_type": "stream",
     "text": [
      "Training loss: 0.3486, Training accuracy: 0.8326\n",
      "Test loss: 0.5781, Test accuracy: 0.7667\n",
      "Epoch 473/500\n"
     ]
    },
    {
     "name": "stderr",
     "output_type": "stream",
     "text": [
      "Training: 100%|██████████| 8/8 [00:00<00:00, 245.04it/s]\n",
      "Evaluating: 100%|██████████| 2/2 [00:00<00:00, 122.25it/s]\n"
     ]
    },
    {
     "name": "stdout",
     "output_type": "stream",
     "text": [
      "Training loss: 0.3450, Training accuracy: 0.8410\n",
      "Test loss: 0.5764, Test accuracy: 0.7667\n",
      "Epoch 474/500\n"
     ]
    },
    {
     "name": "stderr",
     "output_type": "stream",
     "text": [
      "Training: 100%|██████████| 8/8 [00:00<00:00, 214.82it/s]\n",
      "Evaluating: 100%|██████████| 2/2 [00:00<00:00, 157.95it/s]\n"
     ]
    },
    {
     "name": "stdout",
     "output_type": "stream",
     "text": [
      "Training loss: 0.3556, Training accuracy: 0.8326\n",
      "Test loss: 0.5839, Test accuracy: 0.7667\n",
      "Epoch 475/500\n"
     ]
    },
    {
     "name": "stderr",
     "output_type": "stream",
     "text": [
      "Training: 100%|██████████| 8/8 [00:00<00:00, 254.25it/s]\n",
      "Evaluating: 100%|██████████| 2/2 [00:00<00:00, 121.15it/s]\n"
     ]
    },
    {
     "name": "stdout",
     "output_type": "stream",
     "text": [
      "Training loss: 0.3487, Training accuracy: 0.8326\n",
      "Test loss: 0.5799, Test accuracy: 0.7667\n",
      "Epoch 476/500\n"
     ]
    },
    {
     "name": "stderr",
     "output_type": "stream",
     "text": [
      "Training: 100%|██████████| 8/8 [00:00<00:00, 217.69it/s]\n",
      "Evaluating: 100%|██████████| 2/2 [00:00<00:00, 120.54it/s]\n"
     ]
    },
    {
     "name": "stdout",
     "output_type": "stream",
     "text": [
      "Training loss: 0.3417, Training accuracy: 0.8410\n",
      "Test loss: 0.5741, Test accuracy: 0.7833\n",
      "Epoch 477/500\n"
     ]
    },
    {
     "name": "stderr",
     "output_type": "stream",
     "text": [
      "Training: 100%|██████████| 8/8 [00:00<00:00, 283.78it/s]\n",
      "Evaluating: 100%|██████████| 2/2 [00:00<00:00, 119.63it/s]\n"
     ]
    },
    {
     "name": "stdout",
     "output_type": "stream",
     "text": [
      "Training loss: 0.3362, Training accuracy: 0.8452\n",
      "Test loss: 0.5800, Test accuracy: 0.7667\n",
      "Epoch 478/500\n"
     ]
    },
    {
     "name": "stderr",
     "output_type": "stream",
     "text": [
      "Training: 100%|██████████| 8/8 [00:00<00:00, 218.50it/s]\n",
      "Evaluating: 100%|██████████| 2/2 [00:00<00:00, 122.39it/s]\n"
     ]
    },
    {
     "name": "stdout",
     "output_type": "stream",
     "text": [
      "Training loss: 0.3424, Training accuracy: 0.8201\n",
      "Test loss: 0.5916, Test accuracy: 0.7667\n",
      "Epoch 479/500\n"
     ]
    },
    {
     "name": "stderr",
     "output_type": "stream",
     "text": [
      "Training: 100%|██████████| 8/8 [00:00<00:00, 252.80it/s]\n",
      "Evaluating: 100%|██████████| 2/2 [00:00<00:00, 150.23it/s]\n"
     ]
    },
    {
     "name": "stdout",
     "output_type": "stream",
     "text": [
      "Training loss: 0.3436, Training accuracy: 0.8201\n",
      "Test loss: 0.5844, Test accuracy: 0.7667\n",
      "Epoch 480/500\n"
     ]
    },
    {
     "name": "stderr",
     "output_type": "stream",
     "text": [
      "Training: 100%|██████████| 8/8 [00:00<00:00, 218.88it/s]\n",
      "Evaluating: 100%|██████████| 2/2 [00:00<00:00, 119.39it/s]\n"
     ]
    },
    {
     "name": "stdout",
     "output_type": "stream",
     "text": [
      "Training loss: 0.3533, Training accuracy: 0.8368\n",
      "Test loss: 0.5779, Test accuracy: 0.7667\n",
      "Epoch 481/500\n"
     ]
    },
    {
     "name": "stderr",
     "output_type": "stream",
     "text": [
      "Training: 100%|██████████| 8/8 [00:00<00:00, 286.34it/s]\n",
      "Evaluating: 100%|██████████| 2/2 [00:00<00:00, 117.93it/s]\n"
     ]
    },
    {
     "name": "stdout",
     "output_type": "stream",
     "text": [
      "Training loss: 0.3498, Training accuracy: 0.8410\n",
      "Test loss: 0.5772, Test accuracy: 0.7667\n",
      "Epoch 482/500\n"
     ]
    },
    {
     "name": "stderr",
     "output_type": "stream",
     "text": [
      "Training: 100%|██████████| 8/8 [00:00<00:00, 151.03it/s]\n",
      "Evaluating: 100%|██████████| 2/2 [00:00<00:00, 250.82it/s]\n"
     ]
    },
    {
     "name": "stdout",
     "output_type": "stream",
     "text": [
      "Training loss: 0.3662, Training accuracy: 0.8410\n",
      "Test loss: 0.5743, Test accuracy: 0.7833\n",
      "Epoch 483/500\n"
     ]
    },
    {
     "name": "stderr",
     "output_type": "stream",
     "text": [
      "Training: 100%|██████████| 8/8 [00:00<00:00, 207.65it/s]\n",
      "Evaluating: 100%|██████████| 2/2 [00:00<?, ?it/s]\n"
     ]
    },
    {
     "name": "stdout",
     "output_type": "stream",
     "text": [
      "Training loss: 0.3554, Training accuracy: 0.8452\n",
      "Test loss: 0.5784, Test accuracy: 0.7667\n",
      "Epoch 484/500\n"
     ]
    },
    {
     "name": "stderr",
     "output_type": "stream",
     "text": [
      "Training: 100%|██████████| 8/8 [00:00<00:00, 164.92it/s]\n",
      "Evaluating: 100%|██████████| 2/2 [00:00<00:00, 249.79it/s]\n"
     ]
    },
    {
     "name": "stdout",
     "output_type": "stream",
     "text": [
      "Training loss: 0.3668, Training accuracy: 0.8159\n",
      "Test loss: 0.5903, Test accuracy: 0.7667\n",
      "Epoch 485/500\n"
     ]
    },
    {
     "name": "stderr",
     "output_type": "stream",
     "text": [
      "Training: 100%|██████████| 8/8 [00:00<00:00, 308.88it/s]\n",
      "Evaluating: 100%|██████████| 2/2 [00:00<?, ?it/s]\n"
     ]
    },
    {
     "name": "stdout",
     "output_type": "stream",
     "text": [
      "Training loss: 0.3475, Training accuracy: 0.8285\n",
      "Test loss: 0.5818, Test accuracy: 0.7667\n",
      "Epoch 486/500\n"
     ]
    },
    {
     "name": "stderr",
     "output_type": "stream",
     "text": [
      "Training: 100%|██████████| 8/8 [00:00<00:00, 153.99it/s]\n",
      "Evaluating: 100%|██████████| 2/2 [00:00<00:00, 222.08it/s]\n"
     ]
    },
    {
     "name": "stdout",
     "output_type": "stream",
     "text": [
      "Training loss: 0.3456, Training accuracy: 0.8368\n",
      "Test loss: 0.5776, Test accuracy: 0.7667\n",
      "Epoch 487/500\n"
     ]
    },
    {
     "name": "stderr",
     "output_type": "stream",
     "text": [
      "Training: 100%|██████████| 8/8 [00:00<00:00, 214.40it/s]\n",
      "Evaluating: 100%|██████████| 2/2 [00:00<?, ?it/s]\n"
     ]
    },
    {
     "name": "stdout",
     "output_type": "stream",
     "text": [
      "Training loss: 0.3413, Training accuracy: 0.8410\n",
      "Test loss: 0.5803, Test accuracy: 0.7667\n",
      "Epoch 488/500\n"
     ]
    },
    {
     "name": "stderr",
     "output_type": "stream",
     "text": [
      "Training: 100%|██████████| 8/8 [00:00<00:00, 141.06it/s]\n",
      "Evaluating: 100%|██████████| 2/2 [00:00<00:00, 253.50it/s]\n"
     ]
    },
    {
     "name": "stdout",
     "output_type": "stream",
     "text": [
      "Training loss: 0.3512, Training accuracy: 0.8410\n",
      "Test loss: 0.5779, Test accuracy: 0.7667\n",
      "Epoch 489/500\n"
     ]
    },
    {
     "name": "stderr",
     "output_type": "stream",
     "text": [
      "Training: 100%|██████████| 8/8 [00:00<00:00, 217.14it/s]\n",
      "Evaluating: 100%|██████████| 2/2 [00:00<00:00, 153.31it/s]\n"
     ]
    },
    {
     "name": "stdout",
     "output_type": "stream",
     "text": [
      "Training loss: 0.3378, Training accuracy: 0.8326\n",
      "Test loss: 0.5910, Test accuracy: 0.7667\n",
      "Epoch 490/500\n"
     ]
    },
    {
     "name": "stderr",
     "output_type": "stream",
     "text": [
      "Training: 100%|██████████| 8/8 [00:00<00:00, 199.53it/s]\n",
      "Evaluating: 100%|██████████| 2/2 [00:00<00:00, 235.47it/s]\n"
     ]
    },
    {
     "name": "stdout",
     "output_type": "stream",
     "text": [
      "Training loss: 0.3501, Training accuracy: 0.8159\n",
      "Test loss: 0.5910, Test accuracy: 0.7667\n",
      "Epoch 491/500\n"
     ]
    },
    {
     "name": "stderr",
     "output_type": "stream",
     "text": [
      "Training: 100%|██████████| 8/8 [00:00<00:00, 211.63it/s]\n",
      "Evaluating: 100%|██████████| 2/2 [00:00<00:00, 166.82it/s]\n"
     ]
    },
    {
     "name": "stdout",
     "output_type": "stream",
     "text": [
      "Training loss: 0.3433, Training accuracy: 0.8285\n",
      "Test loss: 0.5790, Test accuracy: 0.7667\n",
      "Epoch 492/500\n"
     ]
    },
    {
     "name": "stderr",
     "output_type": "stream",
     "text": [
      "Training: 100%|██████████| 8/8 [00:00<00:00, 180.17it/s]\n",
      "Evaluating: 100%|██████████| 2/2 [00:00<00:00, 450.56it/s]\n"
     ]
    },
    {
     "name": "stdout",
     "output_type": "stream",
     "text": [
      "Training loss: 0.3496, Training accuracy: 0.8410\n",
      "Test loss: 0.5767, Test accuracy: 0.7667\n",
      "Epoch 493/500\n"
     ]
    },
    {
     "name": "stderr",
     "output_type": "stream",
     "text": [
      "Training: 100%|██████████| 8/8 [00:00<00:00, 217.92it/s]\n",
      "Evaluating: 100%|██████████| 2/2 [00:00<00:00, 154.94it/s]\n"
     ]
    },
    {
     "name": "stdout",
     "output_type": "stream",
     "text": [
      "Training loss: 0.3551, Training accuracy: 0.8410\n",
      "Test loss: 0.5761, Test accuracy: 0.7667\n",
      "Epoch 494/500\n"
     ]
    },
    {
     "name": "stderr",
     "output_type": "stream",
     "text": [
      "Training: 100%|██████████| 8/8 [00:00<00:00, 174.99it/s]\n",
      "Evaluating: 100%|██████████| 2/2 [00:00<00:00, 959.90it/s]\n"
     ]
    },
    {
     "name": "stdout",
     "output_type": "stream",
     "text": [
      "Training loss: 0.3507, Training accuracy: 0.8410\n",
      "Test loss: 0.5799, Test accuracy: 0.7667\n",
      "Epoch 495/500\n"
     ]
    },
    {
     "name": "stderr",
     "output_type": "stream",
     "text": [
      "Training: 100%|██████████| 8/8 [00:00<00:00, 158.65it/s]\n",
      "Evaluating: 100%|██████████| 2/2 [00:00<?, ?it/s]\n"
     ]
    },
    {
     "name": "stdout",
     "output_type": "stream",
     "text": [
      "Training loss: 0.3376, Training accuracy: 0.8368\n",
      "Test loss: 0.5822, Test accuracy: 0.7667\n",
      "Epoch 496/500\n"
     ]
    },
    {
     "name": "stderr",
     "output_type": "stream",
     "text": [
      "Training: 100%|██████████| 8/8 [00:00<00:00, 158.42it/s]\n",
      "Evaluating: 100%|██████████| 2/2 [00:00<00:00, 1049.23it/s]\n"
     ]
    },
    {
     "name": "stdout",
     "output_type": "stream",
     "text": [
      "Training loss: 0.3435, Training accuracy: 0.8368\n",
      "Test loss: 0.5820, Test accuracy: 0.7667\n",
      "Epoch 497/500\n"
     ]
    },
    {
     "name": "stderr",
     "output_type": "stream",
     "text": [
      "Training: 100%|██████████| 8/8 [00:00<00:00, 163.68it/s]\n",
      "Evaluating: 100%|██████████| 2/2 [00:00<?, ?it/s]\n"
     ]
    },
    {
     "name": "stdout",
     "output_type": "stream",
     "text": [
      "Training loss: 0.3485, Training accuracy: 0.8410\n",
      "Test loss: 0.5792, Test accuracy: 0.7667\n",
      "Epoch 498/500\n"
     ]
    },
    {
     "name": "stderr",
     "output_type": "stream",
     "text": [
      "Training: 100%|██████████| 8/8 [00:00<00:00, 163.76it/s]\n",
      "Evaluating: 100%|██████████| 2/2 [00:00<?, ?it/s]\n"
     ]
    },
    {
     "name": "stdout",
     "output_type": "stream",
     "text": [
      "Training loss: 0.3438, Training accuracy: 0.8452\n",
      "Test loss: 0.5754, Test accuracy: 0.7667\n",
      "Epoch 499/500\n"
     ]
    },
    {
     "name": "stderr",
     "output_type": "stream",
     "text": [
      "Training: 100%|██████████| 8/8 [00:00<00:00, 211.82it/s]\n",
      "Evaluating: 100%|██████████| 2/2 [00:00<00:00, 163.70it/s]\n"
     ]
    },
    {
     "name": "stdout",
     "output_type": "stream",
     "text": [
      "Training loss: 0.3478, Training accuracy: 0.8410\n",
      "Test loss: 0.5806, Test accuracy: 0.7667\n",
      "Epoch 500/500\n"
     ]
    },
    {
     "name": "stderr",
     "output_type": "stream",
     "text": [
      "Training: 100%|██████████| 8/8 [00:00<00:00, 214.65it/s]\n",
      "Evaluating: 100%|██████████| 2/2 [00:00<00:00, 156.37it/s]\n"
     ]
    },
    {
     "name": "stdout",
     "output_type": "stream",
     "text": [
      "Training loss: 0.3436, Training accuracy: 0.8368\n",
      "Test loss: 0.5815, Test accuracy: 0.7667\n"
     ]
    },
    {
     "data": {
      "image/png": "[encoded data removed]",
      "text/plain": [
       "<Figure size 1500x500 with 2 Axes>"
      ]
     },
     "metadata": {},
     "output_type": "display_data"
    }
   ],
   "source": [
    "# Train the logistic regression model\n",
    "results = train_logreg_simplified(\n",
    "    batch_size=32,\n",
    "    train_feats_data=train_feats,\n",
    "    test_feats_data=test_feats,\n",
    "    feature_dim=train_feats.tensors[0].shape[1],\n",
    "    num_classes=2,\n",
    "    lr=5e-4,\n",
    "    weight_decay=1e-4,\n",
    "    max_epochs=500\n",
    ")\n",
    "\n",
    "#print(f\"Final Train Accuracy: {results['train_acc']:.4f}, Final Test Accuracy: {results['test_acc']:.4f}\")\n"
   ]
  },
  {
   "cell_type": "code",
   "execution_count": 16,
   "metadata": {},
   "outputs": [
    {
     "name": "stdout",
     "output_type": "stream",
     "text": [
      "Best Train Accuracy: 0.8494 at Epoch 434\n",
      "Best Test Accuracy: 0.7833 at Epoch 19\n"
     ]
    }
   ],
   "source": [
    "print(f\"Best Train Accuracy: {results['best_train_acc']:.4f} at Epoch {results['best_train_epoch']}\")\n",
    "print(f\"Best Test Accuracy: {results['best_test_acc']:.4f} at Epoch {results['best_test_epoch']}\")"
   ]
  },
  {
   "cell_type": "code",
   "execution_count": 13,
   "metadata": {},
   "outputs": [
    {
     "data": {
      "text/plain": [
       "27648"
      ]
     },
     "execution_count": 13,
     "metadata": {},
     "output_type": "execute_result"
    }
   ],
   "source": [
    "train_feats.tensors[0].shape[1]"
   ]
  },
  {
   "cell_type": "code",
   "execution_count": 13,
   "metadata": {},
   "outputs": [
    {
     "data": {
      "text/plain": [
       "{'train_acc': 0.8410041841004184, 'test_acc': 0.7666666666666667}"
      ]
     },
     "execution_count": 13,
     "metadata": {},
     "output_type": "execute_result"
    }
   ],
   "source": [
    "results"
   ]
  },
  {
   "cell_type": "code",
   "execution_count": null,
   "metadata": {},
   "outputs": [],
   "source": []
  }
 ],
 "metadata": {
  "kernelspec": {
   "display_name": "master",
   "language": "python",
   "name": "python3"
  },
  "language_info": {
   "codemirror_mode": {
    "name": "ipython",
    "version": 3
   },
   "file_extension": ".py",
   "mimetype": "text/x-python",
   "name": "python",
   "nbconvert_exporter": "python",
   "pygments_lexer": "ipython3",
   "version": "3.12.4"
  }
 },
 "nbformat": 4,
 "nbformat_minor": 2
}
