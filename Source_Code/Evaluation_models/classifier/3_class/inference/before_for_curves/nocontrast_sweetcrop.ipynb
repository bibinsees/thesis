{
 "cells": [
  {
   "cell_type": "markdown",
   "metadata": {},
   "source": [
    "# Pretrained model weights are not frozen it changes during training\n",
    " unless  explicitly set them to requires_grad=False\n",
    " \n",
    " #Freeze the pretrained layers\n",
    "        for param in self.convnet.parameters():\n",
    "            param.requires_grad = False"
   ]
  },
  {
   "cell_type": "markdown",
   "metadata": {},
   "source": [
    "import os\n",
    "import random\n",
    "import shutil\n",
    "\n",
    "def split_images(image_dir, train_dir, valid_dir, validation_percentage=20):\n",
    "    # Create train and validation directories if they don't exist\n",
    "    os.makedirs(train_dir, exist_ok=True)\n",
    "    os.makedirs(valid_dir, exist_ok=True)\n",
    "\n",
    "    # Collect all .tiff files from all subdirectories\n",
    "    image_files = []\n",
    "    for root, _, files in os.walk(image_dir):\n",
    "        for file in files:\n",
    "            if file.lower().endswith(('.tiff', 'tiff')):\n",
    "                image_files.append(os.path.join(root, file))\n",
    "\n",
    "    # Shuffle the files randomly\n",
    "    random.shuffle(image_files)\n",
    "\n",
    "    # Split the images into training and validation sets\n",
    "    total_images = len(image_files)\n",
    "    validation_count = int(total_images * validation_percentage / 100)\n",
    "\n",
    "    validation_files = image_files[:validation_count]\n",
    "    training_files = image_files[validation_count:]\n",
    "\n",
    "    # Move files to train and validation directories\n",
    "    for file_path in training_files:\n",
    "        destination = os.path.join(train_dir, os.path.basename(file_path))\n",
    "        shutil.copy(file_path, destination)\n",
    "\n",
    "    for file_path in validation_files:\n",
    "        destination = os.path.join(valid_dir, os.path.basename(file_path))\n",
    "        shutil.copy(file_path, destination)\n",
    "\n",
    "    print(f\"Total images: {total_images}\")\n",
    "    print(f\"Training images: {len(training_files)}\")\n",
    "    print(f\"Validation images: {len(validation_files)}\")\n",
    "\n",
    "# Example usage\n",
    "image_dir = r\"../../tiff_experiment_unsupervised_data/combined\"\n",
    "train_dir = r\"../../tiff_experiment_unsupervised_data/train\"\n",
    "valid_dir = r\"../../tiff_experiment_unsupervised_data/validation\"\n",
    "\n",
    "split_images(image_dir, train_dir, valid_dir, validation_percentage=20)\n"
   ]
  },
  {
   "cell_type": "code",
   "execution_count": 1,
   "metadata": {},
   "outputs": [],
   "source": [
    "import os\n",
    "import numpy as np\n",
    "import torch\n",
    "from torch import nn, optim\n",
    "from torch.utils.data import Dataset, DataLoader, random_split\n",
    "import torchvision\n",
    "from torchvision import transforms\n",
    "\n",
    "import tifffile as tiff\n",
    "import matplotlib.pyplot as plt\n",
    "import time\n",
    "from tqdm import tqdm\n",
    "import random\n",
    "#from helper import set_seed"
   ]
  },
  {
   "cell_type": "code",
   "execution_count": 2,
   "metadata": {},
   "outputs": [
    {
     "name": "stdout",
     "output_type": "stream",
     "text": [
      "Using device: cuda\n"
     ]
    }
   ],
   "source": [
    "device = torch.device(\"cuda\" if torch.cuda.is_available() else \"cpu\")\n",
    "\n",
    "# Now you can use the `device` variable\n",
    "print(f\"Using device: {device}\")"
   ]
  },
  {
   "cell_type": "code",
   "execution_count": 3,
   "metadata": {},
   "outputs": [],
   "source": [
    "class SimCLR(nn.Module):\n",
    "    def __init__(self, hidden_dim, lr, temperature, weight_decay,max_epochs):\n",
    "        super().__init__()\n",
    "        self.temperature = temperature\n",
    "        \n",
    "        # Load the pretrained ResNet-18 model\n",
    "        self.convnet = torchvision.models.resnet18(weights='ResNet18_Weights.DEFAULT')\n",
    "        \n",
    "        # Modify the fully connected layer\n",
    "        self.convnet.fc = nn.Sequential(\n",
    "            nn.Linear(self.convnet.fc.in_features, 4 * hidden_dim),  # Linear layer with 4*hidden_dim output\n",
    "            nn.ReLU(inplace=True),\n",
    "            nn.Linear(4 * hidden_dim, 20)  # Output layer with hidden_dim output\n",
    "        )\n",
    "\n",
    "        self.optimizer = optim.AdamW(self.parameters(), lr=lr, weight_decay=weight_decay)\n",
    "        self.lr_scheduler = optim.lr_scheduler.CosineAnnealingLR(self.optimizer, T_max=max_epochs, eta_min=lr / 50)\n",
    "\n",
    "    def forward(self, x):\n",
    "        return self.convnet(x)\n",
    "\n",
    "    def info_nce_loss(self, imgs1, imgs2, device):\n",
    "\n",
    "        imgs = torch.cat((imgs1, imgs2), dim=0)  # Concatenate along the batch dimension\n",
    "        imgs = imgs.to(device)  # Move images to the device\n",
    "\n",
    "        # Encode all images\n",
    "        feats = self.forward(imgs)\n",
    "    \n",
    "        # Calculate cosine similarity\n",
    "        cos_sim = nn.functional.cosine_similarity(feats[:, None, :], feats[None, :, :], dim=-1)\n",
    "    \n",
    "        # Mask out cosine similarity to itself\n",
    "        self_mask = torch.eye(cos_sim.shape[0], dtype=torch.bool, device=cos_sim.device)\n",
    "        cos_sim.masked_fill_(self_mask, -9e15)\n",
    "    \n",
    "        # Find positive example -> batch_size//2 away from the original example\n",
    "        pos_mask = self_mask.roll(shifts=cos_sim.shape[0] // 2, dims=0)\n",
    "    \n",
    "        # Normalize similarity scores by temperature\n",
    "        cos_sim = cos_sim / self.temperature\n",
    "\n",
    "        # InfoNCE loss\n",
    "        nll = -cos_sim[pos_mask] + torch.logsumexp(cos_sim, dim=-1)\n",
    "        nll = nll.mean()\n",
    "\n",
    "        # Accuracy calculations\n",
    "        # Create a combination of positive and negative similarities for ranking\n",
    "        comb_sim = torch.cat([cos_sim[pos_mask][:, None],  # Positive example in first position\n",
    "                          cos_sim.masked_fill(pos_mask, -9e15)], dim=-1)\n",
    "    \n",
    "        # Sort and get the ranking position of the positive example\n",
    "        sim_argsort = comb_sim.argsort(dim=-1, descending=True).argmin(dim=-1)\n",
    "    \n",
    "        # Compute accuracy metrics\n",
    "        top1_acc = (sim_argsort == 0).float().mean()  # Top-1 accuracy\n",
    "        top5_acc = (sim_argsort < 5).float().mean()   # Top-5 accuracy\n",
    "        mean_pos = 1 + sim_argsort.float().mean()     # Mean position of the positive example\n",
    "\n",
    "        return nll, top1_acc, top5_acc, mean_pos\n",
    "\n",
    "    def train_epoch(self, train_loader, device):\n",
    "        self.train()\n",
    "        total_loss = 0.0\n",
    "        total_top1_acc = 0.0\n",
    "        total_top5_acc = 0.0\n",
    "        total_mean_pos = 0.0\n",
    "\n",
    "        for batch in tqdm(train_loader, desc=\"Training\", leave=False):\n",
    "            imgs1, imgs2, _ = batch\n",
    "            imgs1, imgs2 = imgs1.to(device), imgs2.to(device)  # Move data to device\n",
    "        \n",
    "            self.optimizer.zero_grad()\n",
    "\n",
    "            # Calculate loss and accuracy metrics\n",
    "            loss, top1_acc, top5_acc, mean_pos = self.info_nce_loss(imgs1, imgs2, device)\n",
    "\n",
    "            loss.backward()\n",
    "            self.optimizer.step()\n",
    "            #self.lr_scheduler.step()\n",
    "\n",
    "            # Accumulate metrics\n",
    "            total_loss += loss.item()\n",
    "            total_top1_acc += top1_acc.item()\n",
    "            total_top5_acc += top5_acc.item()\n",
    "            total_mean_pos += mean_pos.item()\n",
    "\n",
    "        avg_loss = total_loss / len(train_loader)\n",
    "        avg_top1_acc = total_top1_acc / len(train_loader)\n",
    "        avg_top5_acc = total_top5_acc / len(train_loader)\n",
    "        avg_mean_pos = total_mean_pos / len(train_loader)\n",
    "\n",
    "        return avg_loss, avg_top1_acc, avg_top5_acc, avg_mean_pos\n",
    "\n",
    "    def validate_epoch(self, val_loader, device):\n",
    "        self.eval()\n",
    "        total_loss = 0.0\n",
    "        total_top1_acc = 0.0\n",
    "        total_top5_acc = 0.0\n",
    "        total_mean_pos = 0.0\n",
    "\n",
    "        with torch.no_grad():\n",
    "            for batch in tqdm(val_loader, desc=\"Validating\", leave=False):\n",
    "                imgs1, imgs2, _ = batch\n",
    "                imgs1, imgs2 = imgs1.to(device), imgs2.to(device)  # Move data to device\n",
    "\n",
    "                # Calculate loss and accuracy metrics\n",
    "                loss, top1_acc, top5_acc, mean_pos = self.info_nce_loss(imgs1, imgs2, device)\n",
    "\n",
    "                # Accumulate metrics\n",
    "                total_loss += loss.item()\n",
    "                total_top1_acc += top1_acc.item()\n",
    "                total_top5_acc += top5_acc.item()\n",
    "                total_mean_pos += mean_pos.item()\n",
    "\n",
    "        avg_loss = total_loss / len(val_loader)\n",
    "        avg_top1_acc = total_top1_acc / len(val_loader)\n",
    "        avg_top5_acc = total_top5_acc / len(val_loader)\n",
    "        avg_mean_pos = total_mean_pos / len(val_loader)\n",
    "\n",
    "        return avg_loss, avg_top1_acc, avg_top5_acc, avg_mean_pos\n",
    "    \n",
    "\n",
    "    def inference_epoch(self, inference_loader, device):\n",
    "        self.eval()\n",
    "        total_loss = 0.0\n",
    "        total_top1_acc = 0.0\n",
    "        total_top5_acc = 0.0\n",
    "        total_mean_pos = 0.0\n",
    "\n",
    "        with torch.no_grad():\n",
    "            for batch in tqdm(inference_loader, desc=\"Inferencing\", leave=False):\n",
    "                imgs1, imgs2, _ = batch\n",
    "                imgs1, imgs2 = imgs1.to(device), imgs2.to(device)  # Move data to device\n",
    "\n",
    "                # Calculate loss and accuracy metrics\n",
    "                loss, top1_acc, top5_acc, mean_pos = self.info_nce_loss(imgs1, imgs2, device)\n",
    "\n",
    "                # Accumulate metrics\n",
    "                total_loss += loss.item()\n",
    "                total_top1_acc += top1_acc.item()\n",
    "                total_top5_acc += top5_acc.item()\n",
    "                total_mean_pos += mean_pos.item()\n",
    "\n",
    "        avg_loss = total_loss / len(inference_loader)\n",
    "        avg_top1_acc = total_top1_acc / len(inference_loader)\n",
    "        avg_top5_acc = total_top5_acc / len(inference_loader)\n",
    "        avg_mean_pos = total_mean_pos / len(inference_loader)\n",
    "\n",
    "        return avg_loss, avg_top1_acc, avg_top5_acc, avg_mean_pos"
   ]
  },
  {
   "cell_type": "code",
   "execution_count": 4,
   "metadata": {},
   "outputs": [],
   "source": [
    "# Define file paths\n",
    "model_path = r'C:\\Users\\k54739\\saved_model\\ohneContrastSweetcrop_simclr_model_epoch_245.pth'"
   ]
  },
  {
   "cell_type": "markdown",
   "metadata": {},
   "source": [
    "simclr_model = torch.load(model_path)\n",
    "simclr_model.to(device)\n",
    "simclr_model.eval()"
   ]
  },
  {
   "cell_type": "markdown",
   "metadata": {},
   "source": [
    "# above error suggests u need to load state rather than full"
   ]
  },
  {
   "cell_type": "code",
   "execution_count": 5,
   "metadata": {},
   "outputs": [
    {
     "name": "stderr",
     "output_type": "stream",
     "text": [
      "C:\\Users\\k54739\\AppData\\Local\\Temp\\ipykernel_24428\\2711482870.py:3: FutureWarning: You are using `torch.load` with `weights_only=False` (the current default value), which uses the default pickle module implicitly. It is possible to construct malicious pickle data which will execute arbitrary code during unpickling (See https://github.com/pytorch/pytorch/blob/main/SECURITY.md#untrusted-models for more details). In a future release, the default value for `weights_only` will be flipped to `True`. This limits the functions that could be executed during unpickling. Arbitrary objects will no longer be allowed to be loaded via this mode unless they are explicitly allowlisted by the user via `torch.serialization.add_safe_globals`. We recommend you start setting `weights_only=True` for any use case where you don't have full control of the loaded file. Please open an issue on GitHub for any issues related to this experimental feature.\n",
      "  simclr_model.load_state_dict(torch.load(model_path))\n"
     ]
    },
    {
     "data": {
      "text/plain": [
       "SimCLR(\n",
       "  (convnet): ResNet(\n",
       "    (conv1): Conv2d(3, 64, kernel_size=(7, 7), stride=(2, 2), padding=(3, 3), bias=False)\n",
       "    (bn1): BatchNorm2d(64, eps=1e-05, momentum=0.1, affine=True, track_running_stats=True)\n",
       "    (relu): ReLU(inplace=True)\n",
       "    (maxpool): MaxPool2d(kernel_size=3, stride=2, padding=1, dilation=1, ceil_mode=False)\n",
       "    (layer1): Sequential(\n",
       "      (0): BasicBlock(\n",
       "        (conv1): Conv2d(64, 64, kernel_size=(3, 3), stride=(1, 1), padding=(1, 1), bias=False)\n",
       "        (bn1): BatchNorm2d(64, eps=1e-05, momentum=0.1, affine=True, track_running_stats=True)\n",
       "        (relu): ReLU(inplace=True)\n",
       "        (conv2): Conv2d(64, 64, kernel_size=(3, 3), stride=(1, 1), padding=(1, 1), bias=False)\n",
       "        (bn2): BatchNorm2d(64, eps=1e-05, momentum=0.1, affine=True, track_running_stats=True)\n",
       "      )\n",
       "      (1): BasicBlock(\n",
       "        (conv1): Conv2d(64, 64, kernel_size=(3, 3), stride=(1, 1), padding=(1, 1), bias=False)\n",
       "        (bn1): BatchNorm2d(64, eps=1e-05, momentum=0.1, affine=True, track_running_stats=True)\n",
       "        (relu): ReLU(inplace=True)\n",
       "        (conv2): Conv2d(64, 64, kernel_size=(3, 3), stride=(1, 1), padding=(1, 1), bias=False)\n",
       "        (bn2): BatchNorm2d(64, eps=1e-05, momentum=0.1, affine=True, track_running_stats=True)\n",
       "      )\n",
       "    )\n",
       "    (layer2): Sequential(\n",
       "      (0): BasicBlock(\n",
       "        (conv1): Conv2d(64, 128, kernel_size=(3, 3), stride=(2, 2), padding=(1, 1), bias=False)\n",
       "        (bn1): BatchNorm2d(128, eps=1e-05, momentum=0.1, affine=True, track_running_stats=True)\n",
       "        (relu): ReLU(inplace=True)\n",
       "        (conv2): Conv2d(128, 128, kernel_size=(3, 3), stride=(1, 1), padding=(1, 1), bias=False)\n",
       "        (bn2): BatchNorm2d(128, eps=1e-05, momentum=0.1, affine=True, track_running_stats=True)\n",
       "        (downsample): Sequential(\n",
       "          (0): Conv2d(64, 128, kernel_size=(1, 1), stride=(2, 2), bias=False)\n",
       "          (1): BatchNorm2d(128, eps=1e-05, momentum=0.1, affine=True, track_running_stats=True)\n",
       "        )\n",
       "      )\n",
       "      (1): BasicBlock(\n",
       "        (conv1): Conv2d(128, 128, kernel_size=(3, 3), stride=(1, 1), padding=(1, 1), bias=False)\n",
       "        (bn1): BatchNorm2d(128, eps=1e-05, momentum=0.1, affine=True, track_running_stats=True)\n",
       "        (relu): ReLU(inplace=True)\n",
       "        (conv2): Conv2d(128, 128, kernel_size=(3, 3), stride=(1, 1), padding=(1, 1), bias=False)\n",
       "        (bn2): BatchNorm2d(128, eps=1e-05, momentum=0.1, affine=True, track_running_stats=True)\n",
       "      )\n",
       "    )\n",
       "    (layer3): Sequential(\n",
       "      (0): BasicBlock(\n",
       "        (conv1): Conv2d(128, 256, kernel_size=(3, 3), stride=(2, 2), padding=(1, 1), bias=False)\n",
       "        (bn1): BatchNorm2d(256, eps=1e-05, momentum=0.1, affine=True, track_running_stats=True)\n",
       "        (relu): ReLU(inplace=True)\n",
       "        (conv2): Conv2d(256, 256, kernel_size=(3, 3), stride=(1, 1), padding=(1, 1), bias=False)\n",
       "        (bn2): BatchNorm2d(256, eps=1e-05, momentum=0.1, affine=True, track_running_stats=True)\n",
       "        (downsample): Sequential(\n",
       "          (0): Conv2d(128, 256, kernel_size=(1, 1), stride=(2, 2), bias=False)\n",
       "          (1): BatchNorm2d(256, eps=1e-05, momentum=0.1, affine=True, track_running_stats=True)\n",
       "        )\n",
       "      )\n",
       "      (1): BasicBlock(\n",
       "        (conv1): Conv2d(256, 256, kernel_size=(3, 3), stride=(1, 1), padding=(1, 1), bias=False)\n",
       "        (bn1): BatchNorm2d(256, eps=1e-05, momentum=0.1, affine=True, track_running_stats=True)\n",
       "        (relu): ReLU(inplace=True)\n",
       "        (conv2): Conv2d(256, 256, kernel_size=(3, 3), stride=(1, 1), padding=(1, 1), bias=False)\n",
       "        (bn2): BatchNorm2d(256, eps=1e-05, momentum=0.1, affine=True, track_running_stats=True)\n",
       "      )\n",
       "    )\n",
       "    (layer4): Sequential(\n",
       "      (0): BasicBlock(\n",
       "        (conv1): Conv2d(256, 512, kernel_size=(3, 3), stride=(2, 2), padding=(1, 1), bias=False)\n",
       "        (bn1): BatchNorm2d(512, eps=1e-05, momentum=0.1, affine=True, track_running_stats=True)\n",
       "        (relu): ReLU(inplace=True)\n",
       "        (conv2): Conv2d(512, 512, kernel_size=(3, 3), stride=(1, 1), padding=(1, 1), bias=False)\n",
       "        (bn2): BatchNorm2d(512, eps=1e-05, momentum=0.1, affine=True, track_running_stats=True)\n",
       "        (downsample): Sequential(\n",
       "          (0): Conv2d(256, 512, kernel_size=(1, 1), stride=(2, 2), bias=False)\n",
       "          (1): BatchNorm2d(512, eps=1e-05, momentum=0.1, affine=True, track_running_stats=True)\n",
       "        )\n",
       "      )\n",
       "      (1): BasicBlock(\n",
       "        (conv1): Conv2d(512, 512, kernel_size=(3, 3), stride=(1, 1), padding=(1, 1), bias=False)\n",
       "        (bn1): BatchNorm2d(512, eps=1e-05, momentum=0.1, affine=True, track_running_stats=True)\n",
       "        (relu): ReLU(inplace=True)\n",
       "        (conv2): Conv2d(512, 512, kernel_size=(3, 3), stride=(1, 1), padding=(1, 1), bias=False)\n",
       "        (bn2): BatchNorm2d(512, eps=1e-05, momentum=0.1, affine=True, track_running_stats=True)\n",
       "      )\n",
       "    )\n",
       "    (avgpool): AdaptiveAvgPool2d(output_size=(1, 1))\n",
       "    (fc): Sequential(\n",
       "      (0): Linear(in_features=512, out_features=512, bias=True)\n",
       "      (1): ReLU(inplace=True)\n",
       "      (2): Linear(in_features=512, out_features=20, bias=True)\n",
       "    )\n",
       "  )\n",
       ")"
      ]
     },
     "execution_count": 5,
     "metadata": {},
     "output_type": "execute_result"
    }
   ],
   "source": [
    "# Reinitialize the model\n",
    "simclr_model = SimCLR(hidden_dim=128, lr=5e-4, temperature=0.07, weight_decay=1e-4,max_epochs=245)\n",
    "simclr_model.load_state_dict(torch.load(model_path))\n",
    "simclr_model.to(device)\n",
    "simclr_model.eval()\n",
    "# Load the metrics\n",
    "#loaded_metrics = torch.load(metrics_path)\n"
   ]
  },
  {
   "cell_type": "markdown",
   "metadata": {},
   "source": [
    "Inference before projection head"
   ]
  },
  {
   "cell_type": "markdown",
   "metadata": {},
   "source": [
    "# Logistic"
   ]
  },
  {
   "cell_type": "code",
   "execution_count": 6,
   "metadata": {},
   "outputs": [],
   "source": [
    "from sklearn.model_selection import train_test_split\n",
    "from copy import deepcopy\n",
    "from sklearn.metrics import accuracy_score"
   ]
  },
  {
   "cell_type": "code",
   "execution_count": 7,
   "metadata": {},
   "outputs": [],
   "source": [
    "class LabeledImageDataset(Dataset):\n",
    "    def __init__(self, image_files, labels, transform=None):\n",
    "        self.image_files = image_files\n",
    "        self.labels = labels\n",
    "        self.transform = transform\n",
    "        self.resize_transform = transforms.Resize((96, 96))\n",
    "\n",
    "    def __len__(self):\n",
    "        return len(self.image_files)\n",
    "\n",
    "    def __getitem__(self, idx):\n",
    "        img_path = self.image_files[idx]\n",
    "        image = tiff.imread(img_path)\n",
    "\n",
    "        # Ensure the image has 3 layers (channels)\n",
    "        if image.shape[0] != 3:\n",
    "            raise ValueError(f\"Image {img_path} does not have exactly 3 layers.\")\n",
    "\n",
    "        # Normalize the 16-bit image to [0, 1]\n",
    "        image = image.astype(np.float32) / 65535.0\n",
    "\n",
    "        # Convert to a torch tensor and add channel dimension\n",
    "        image = torch.tensor(image, dtype=torch.float32)\n",
    "        \n",
    "        # Apply resize transform\n",
    "        image = self.resize_transform(image)\n",
    "\n",
    "        label = self.labels[idx]\n",
    "\n",
    "        return image, label\n",
    "\n",
    "def load_and_split_data(root_dir, test_size=0.2):\n",
    "    \n",
    "    classes = ['cond7_all', 'sd','ex']\n",
    "    image_files = []\n",
    "    labels = []\n",
    "\n",
    "    for idx, class_name in enumerate(classes):\n",
    "        class_dir = os.path.join(root_dir, class_name)\n",
    "        files = [os.path.join(class_dir, file) for file in os.listdir(class_dir) if file.endswith(('.tiff', '.tif'))]\n",
    "        image_files.extend(files)\n",
    "        labels.extend([idx] * len(files))\n",
    "    \n",
    "    # Check if the labels correctly reflect the classes\n",
    "    #print(\"Label distribution:\", {classes[i]: labels.count(i) for i in range(len(classes))})\n",
    "    \n",
    "    # Split data into training and test sets\n",
    "    train_files, test_files, train_labels, test_labels = train_test_split(\n",
    "        image_files, labels, test_size=test_size, stratify=labels, random_state=42)\n",
    "\n",
    "    return train_files, test_files, train_labels, test_labels\n",
    "\n",
    "\n",
    "# Directories for labeled data\n",
    "image_dir = r\"G:\\classification\"\n",
    "\n",
    "# Load and split the data\n",
    "train_files, test_files, train_labels, test_labels = load_and_split_data(image_dir, test_size=0.2)\n",
    "\n",
    "# Create the labeled datasets\n",
    "train_labeled_dataset = LabeledImageDataset(train_files, train_labels)\n",
    "test_labeled_dataset = LabeledImageDataset(test_files, test_labels)\n",
    "\n",
    "# Define DataLoaders\n",
    "batch_size = 16\n",
    "train_loader_labeled = DataLoader(train_labeled_dataset, batch_size=batch_size, shuffle=True, drop_last=False, pin_memory=True, num_workers=0)\n",
    "test_loader_labeled = DataLoader(test_labeled_dataset, batch_size=batch_size, shuffle=False, drop_last=False, pin_memory=True, num_workers=0)"
   ]
  },
  {
   "cell_type": "code",
   "execution_count": 8,
   "metadata": {},
   "outputs": [
    {
     "name": "stdout",
     "output_type": "stream",
     "text": [
      "torch.Size([16, 3, 96, 96]) torch.Size([16]) torch.float32\n",
      "tensor([0, 0, 1, 0, 0, 0, 0, 0, 0, 1, 0, 1, 0, 0, 0, 0])\n"
     ]
    }
   ],
   "source": [
    "for anchor,label in train_loader_labeled:\n",
    "    print(anchor.shape, label.shape, anchor.dtype)\n",
    "    print(label)\n",
    "    break"
   ]
  },
  {
   "cell_type": "markdown",
   "metadata": {},
   "source": [
    "# Initialize a counter\n",
    "total_images = 0\n",
    "\n",
    "# Iterate through the DataLoader\n",
    "for anchor, label in train_loader_labeled:\n",
    "    total_images += anchor.size(0)  # Increment by the batch size (number of images in the current batch)\n",
    "\n",
    "# Print the total number of images\n",
    "print(f\"Total number of images in train_loader_labeled: {total_images}\")\n"
   ]
  },
  {
   "cell_type": "markdown",
   "metadata": {},
   "source": [
    "# Initialize a counter\n",
    "total_images = 0\n",
    "\n",
    "# Iterate through the DataLoader\n",
    "for anchor, label in test_loader_labeled:\n",
    "    total_images += anchor.size(0)  # Increment by the batch size (number of images in the current batch)\n",
    "\n",
    "# Print the total number of images\n",
    "print(f\"Total number of images in test_loader_labeled: {total_images}\")\n"
   ]
  },
  {
   "cell_type": "code",
   "execution_count": 9,
   "metadata": {},
   "outputs": [],
   "source": [
    "device = torch.device(\"cuda\" if torch.cuda.is_available() else \"cpu\")"
   ]
  },
  {
   "cell_type": "code",
   "execution_count": 10,
   "metadata": {},
   "outputs": [],
   "source": [
    "@torch.no_grad()\n",
    "def prepare_data_features(model, dataloader):\n",
    "    # Prepare model\n",
    "    network = deepcopy(model.convnet)\n",
    "    network.fc = nn.Identity()  # Removing projection head g(.)\n",
    "    network.eval()\n",
    "    network.to(device)\n",
    "\n",
    "    # Encode all images\n",
    "    feats, labels = [], []\n",
    "    for batch_imgs, batch_labels in tqdm(dataloader):\n",
    "        batch_imgs = batch_imgs.to(device)\n",
    "        batch_feats = network(batch_imgs)\n",
    "        print(f\"Batch features shape: {batch_feats.shape}\")\n",
    "        print(f\"Batch labels shape: {batch_labels.shape}\")\n",
    "        \n",
    "        feats.append(batch_feats.detach().cpu())\n",
    "        labels.append(batch_labels)\n",
    "\n",
    "    feats = torch.cat(feats, dim=0)\n",
    "    labels = torch.cat(labels, dim=0)\n",
    "    \n",
    "    print(f\"Features shape after concatenation: {feats.shape}\")\n",
    "    print(f\"Labels shape after concatenation: {labels.shape}\")\n",
    "\n",
    "    return torch.utils.data.TensorDataset(feats, labels)"
   ]
  },
  {
   "cell_type": "code",
   "execution_count": 11,
   "metadata": {},
   "outputs": [
    {
     "name": "stderr",
     "output_type": "stream",
     "text": [
      "  3%|▎         | 1/31 [00:00<00:23,  1.27it/s]"
     ]
    },
    {
     "name": "stdout",
     "output_type": "stream",
     "text": [
      "Batch features shape: torch.Size([16, 512])\n",
      "Batch labels shape: torch.Size([16])\n"
     ]
    },
    {
     "name": "stderr",
     "output_type": "stream",
     "text": [
      "  6%|▋         | 2/31 [00:02<00:33,  1.16s/it]"
     ]
    },
    {
     "name": "stdout",
     "output_type": "stream",
     "text": [
      "Batch features shape: torch.Size([16, 512])\n",
      "Batch labels shape: torch.Size([16])\n"
     ]
    },
    {
     "name": "stderr",
     "output_type": "stream",
     "text": [
      " 10%|▉         | 3/31 [00:03<00:35,  1.28s/it]"
     ]
    },
    {
     "name": "stdout",
     "output_type": "stream",
     "text": [
      "Batch features shape: torch.Size([16, 512])\n",
      "Batch labels shape: torch.Size([16])\n"
     ]
    },
    {
     "name": "stderr",
     "output_type": "stream",
     "text": [
      " 13%|█▎        | 4/31 [00:05<00:36,  1.33s/it]"
     ]
    },
    {
     "name": "stdout",
     "output_type": "stream",
     "text": [
      "Batch features shape: torch.Size([16, 512])\n",
      "Batch labels shape: torch.Size([16])\n"
     ]
    },
    {
     "name": "stderr",
     "output_type": "stream",
     "text": [
      " 16%|█▌        | 5/31 [00:06<00:36,  1.39s/it]"
     ]
    },
    {
     "name": "stdout",
     "output_type": "stream",
     "text": [
      "Batch features shape: torch.Size([16, 512])\n",
      "Batch labels shape: torch.Size([16])\n"
     ]
    },
    {
     "name": "stderr",
     "output_type": "stream",
     "text": [
      " 19%|█▉        | 6/31 [00:08<00:35,  1.42s/it]"
     ]
    },
    {
     "name": "stdout",
     "output_type": "stream",
     "text": [
      "Batch features shape: torch.Size([16, 512])\n",
      "Batch labels shape: torch.Size([16])\n"
     ]
    },
    {
     "name": "stderr",
     "output_type": "stream",
     "text": [
      " 23%|██▎       | 7/31 [00:08<00:28,  1.18s/it]"
     ]
    },
    {
     "name": "stdout",
     "output_type": "stream",
     "text": [
      "Batch features shape: torch.Size([16, 512])\n",
      "Batch labels shape: torch.Size([16])\n"
     ]
    },
    {
     "name": "stderr",
     "output_type": "stream",
     "text": [
      " 26%|██▌       | 8/31 [00:10<00:33,  1.48s/it]"
     ]
    },
    {
     "name": "stdout",
     "output_type": "stream",
     "text": [
      "Batch features shape: torch.Size([16, 512])\n",
      "Batch labels shape: torch.Size([16])\n"
     ]
    },
    {
     "name": "stderr",
     "output_type": "stream",
     "text": [
      " 29%|██▉       | 9/31 [00:13<00:41,  1.87s/it]"
     ]
    },
    {
     "name": "stdout",
     "output_type": "stream",
     "text": [
      "Batch features shape: torch.Size([16, 512])\n",
      "Batch labels shape: torch.Size([16])\n"
     ]
    },
    {
     "name": "stderr",
     "output_type": "stream",
     "text": [
      " 32%|███▏      | 10/31 [00:15<00:41,  1.96s/it]"
     ]
    },
    {
     "name": "stdout",
     "output_type": "stream",
     "text": [
      "Batch features shape: torch.Size([16, 512])\n",
      "Batch labels shape: torch.Size([16])\n"
     ]
    },
    {
     "name": "stderr",
     "output_type": "stream",
     "text": [
      " 35%|███▌      | 11/31 [00:16<00:34,  1.72s/it]"
     ]
    },
    {
     "name": "stdout",
     "output_type": "stream",
     "text": [
      "Batch features shape: torch.Size([16, 512])\n",
      "Batch labels shape: torch.Size([16])\n"
     ]
    },
    {
     "name": "stderr",
     "output_type": "stream",
     "text": [
      " 39%|███▊      | 12/31 [00:17<00:29,  1.53s/it]"
     ]
    },
    {
     "name": "stdout",
     "output_type": "stream",
     "text": [
      "Batch features shape: torch.Size([16, 512])\n",
      "Batch labels shape: torch.Size([16])\n"
     ]
    },
    {
     "name": "stderr",
     "output_type": "stream",
     "text": [
      " 42%|████▏     | 13/31 [00:20<00:32,  1.79s/it]"
     ]
    },
    {
     "name": "stdout",
     "output_type": "stream",
     "text": [
      "Batch features shape: torch.Size([16, 512])\n",
      "Batch labels shape: torch.Size([16])\n"
     ]
    },
    {
     "name": "stderr",
     "output_type": "stream",
     "text": [
      " 45%|████▌     | 14/31 [00:21<00:28,  1.69s/it]"
     ]
    },
    {
     "name": "stdout",
     "output_type": "stream",
     "text": [
      "Batch features shape: torch.Size([16, 512])\n",
      "Batch labels shape: torch.Size([16])\n"
     ]
    },
    {
     "name": "stderr",
     "output_type": "stream",
     "text": [
      " 48%|████▊     | 15/31 [00:23<00:27,  1.71s/it]"
     ]
    },
    {
     "name": "stdout",
     "output_type": "stream",
     "text": [
      "Batch features shape: torch.Size([16, 512])\n",
      "Batch labels shape: torch.Size([16])\n"
     ]
    },
    {
     "name": "stderr",
     "output_type": "stream",
     "text": [
      " 52%|█████▏    | 16/31 [00:26<00:29,  1.99s/it]"
     ]
    },
    {
     "name": "stdout",
     "output_type": "stream",
     "text": [
      "Batch features shape: torch.Size([16, 512])\n",
      "Batch labels shape: torch.Size([16])\n"
     ]
    },
    {
     "name": "stderr",
     "output_type": "stream",
     "text": [
      " 55%|█████▍    | 17/31 [00:29<00:32,  2.32s/it]"
     ]
    },
    {
     "name": "stdout",
     "output_type": "stream",
     "text": [
      "Batch features shape: torch.Size([16, 512])\n",
      "Batch labels shape: torch.Size([16])\n"
     ]
    },
    {
     "name": "stderr",
     "output_type": "stream",
     "text": [
      " 58%|█████▊    | 18/31 [00:31<00:30,  2.31s/it]"
     ]
    },
    {
     "name": "stdout",
     "output_type": "stream",
     "text": [
      "Batch features shape: torch.Size([16, 512])\n",
      "Batch labels shape: torch.Size([16])\n"
     ]
    },
    {
     "name": "stderr",
     "output_type": "stream",
     "text": [
      " 61%|██████▏   | 19/31 [00:33<00:25,  2.16s/it]"
     ]
    },
    {
     "name": "stdout",
     "output_type": "stream",
     "text": [
      "Batch features shape: torch.Size([16, 512])\n",
      "Batch labels shape: torch.Size([16])\n"
     ]
    },
    {
     "name": "stderr",
     "output_type": "stream",
     "text": [
      " 65%|██████▍   | 20/31 [00:37<00:29,  2.69s/it]"
     ]
    },
    {
     "name": "stdout",
     "output_type": "stream",
     "text": [
      "Batch features shape: torch.Size([16, 512])\n",
      "Batch labels shape: torch.Size([16])\n"
     ]
    },
    {
     "name": "stderr",
     "output_type": "stream",
     "text": [
      " 68%|██████▊   | 21/31 [00:39<00:24,  2.44s/it]"
     ]
    },
    {
     "name": "stdout",
     "output_type": "stream",
     "text": [
      "Batch features shape: torch.Size([16, 512])\n",
      "Batch labels shape: torch.Size([16])\n"
     ]
    },
    {
     "name": "stderr",
     "output_type": "stream",
     "text": [
      " 71%|███████   | 22/31 [00:42<00:25,  2.84s/it]"
     ]
    },
    {
     "name": "stdout",
     "output_type": "stream",
     "text": [
      "Batch features shape: torch.Size([16, 512])\n",
      "Batch labels shape: torch.Size([16])\n"
     ]
    },
    {
     "name": "stderr",
     "output_type": "stream",
     "text": [
      " 74%|███████▍  | 23/31 [00:46<00:25,  3.14s/it]"
     ]
    },
    {
     "name": "stdout",
     "output_type": "stream",
     "text": [
      "Batch features shape: torch.Size([16, 512])\n",
      "Batch labels shape: torch.Size([16])\n"
     ]
    },
    {
     "name": "stderr",
     "output_type": "stream",
     "text": [
      " 77%|███████▋  | 24/31 [00:49<00:22,  3.15s/it]"
     ]
    },
    {
     "name": "stdout",
     "output_type": "stream",
     "text": [
      "Batch features shape: torch.Size([16, 512])\n",
      "Batch labels shape: torch.Size([16])\n"
     ]
    },
    {
     "name": "stderr",
     "output_type": "stream",
     "text": [
      " 81%|████████  | 25/31 [00:54<00:20,  3.43s/it]"
     ]
    },
    {
     "name": "stdout",
     "output_type": "stream",
     "text": [
      "Batch features shape: torch.Size([16, 512])\n",
      "Batch labels shape: torch.Size([16])\n"
     ]
    },
    {
     "name": "stderr",
     "output_type": "stream",
     "text": [
      " 84%|████████▍ | 26/31 [00:58<00:19,  3.85s/it]"
     ]
    },
    {
     "name": "stdout",
     "output_type": "stream",
     "text": [
      "Batch features shape: torch.Size([16, 512])\n",
      "Batch labels shape: torch.Size([16])\n"
     ]
    },
    {
     "name": "stderr",
     "output_type": "stream",
     "text": [
      " 87%|████████▋ | 27/31 [01:05<00:18,  4.64s/it]"
     ]
    },
    {
     "name": "stdout",
     "output_type": "stream",
     "text": [
      "Batch features shape: torch.Size([16, 512])\n",
      "Batch labels shape: torch.Size([16])\n"
     ]
    },
    {
     "name": "stderr",
     "output_type": "stream",
     "text": [
      " 90%|█████████ | 28/31 [01:11<00:15,  5.12s/it]"
     ]
    },
    {
     "name": "stdout",
     "output_type": "stream",
     "text": [
      "Batch features shape: torch.Size([16, 512])\n",
      "Batch labels shape: torch.Size([16])\n"
     ]
    },
    {
     "name": "stderr",
     "output_type": "stream",
     "text": [
      " 94%|█████████▎| 29/31 [01:18<00:11,  5.65s/it]"
     ]
    },
    {
     "name": "stdout",
     "output_type": "stream",
     "text": [
      "Batch features shape: torch.Size([16, 512])\n",
      "Batch labels shape: torch.Size([16])\n"
     ]
    },
    {
     "name": "stderr",
     "output_type": "stream",
     "text": [
      " 97%|█████████▋| 30/31 [01:25<00:06,  6.03s/it]"
     ]
    },
    {
     "name": "stdout",
     "output_type": "stream",
     "text": [
      "Batch features shape: torch.Size([16, 512])\n",
      "Batch labels shape: torch.Size([16])\n"
     ]
    },
    {
     "name": "stderr",
     "output_type": "stream",
     "text": [
      "100%|██████████| 31/31 [01:29<00:00,  2.90s/it]\n"
     ]
    },
    {
     "name": "stdout",
     "output_type": "stream",
     "text": [
      "Batch features shape: torch.Size([12, 512])\n",
      "Batch labels shape: torch.Size([12])\n",
      "Features shape after concatenation: torch.Size([492, 512])\n",
      "Labels shape after concatenation: torch.Size([492])\n"
     ]
    },
    {
     "name": "stderr",
     "output_type": "stream",
     "text": [
      " 12%|█▎        | 1/8 [00:06<00:46,  6.65s/it]"
     ]
    },
    {
     "name": "stdout",
     "output_type": "stream",
     "text": [
      "Batch features shape: torch.Size([16, 512])\n",
      "Batch labels shape: torch.Size([16])\n"
     ]
    },
    {
     "name": "stderr",
     "output_type": "stream",
     "text": [
      " 25%|██▌       | 2/8 [00:13<00:39,  6.64s/it]"
     ]
    },
    {
     "name": "stdout",
     "output_type": "stream",
     "text": [
      "Batch features shape: torch.Size([16, 512])\n",
      "Batch labels shape: torch.Size([16])\n"
     ]
    },
    {
     "name": "stderr",
     "output_type": "stream",
     "text": [
      " 38%|███▊      | 3/8 [00:20<00:34,  6.80s/it]"
     ]
    },
    {
     "name": "stdout",
     "output_type": "stream",
     "text": [
      "Batch features shape: torch.Size([16, 512])\n",
      "Batch labels shape: torch.Size([16])\n"
     ]
    },
    {
     "name": "stderr",
     "output_type": "stream",
     "text": [
      " 50%|█████     | 4/8 [00:26<00:26,  6.71s/it]"
     ]
    },
    {
     "name": "stdout",
     "output_type": "stream",
     "text": [
      "Batch features shape: torch.Size([16, 512])\n",
      "Batch labels shape: torch.Size([16])\n"
     ]
    },
    {
     "name": "stderr",
     "output_type": "stream",
     "text": [
      " 62%|██████▎   | 5/8 [00:33<00:20,  6.83s/it]"
     ]
    },
    {
     "name": "stdout",
     "output_type": "stream",
     "text": [
      "Batch features shape: torch.Size([16, 512])\n",
      "Batch labels shape: torch.Size([16])\n"
     ]
    },
    {
     "name": "stderr",
     "output_type": "stream",
     "text": [
      " 75%|███████▌  | 6/8 [00:40<00:13,  6.90s/it]"
     ]
    },
    {
     "name": "stdout",
     "output_type": "stream",
     "text": [
      "Batch features shape: torch.Size([16, 512])\n",
      "Batch labels shape: torch.Size([16])\n"
     ]
    },
    {
     "name": "stderr",
     "output_type": "stream",
     "text": [
      " 88%|████████▊ | 7/8 [00:47<00:06,  6.91s/it]"
     ]
    },
    {
     "name": "stdout",
     "output_type": "stream",
     "text": [
      "Batch features shape: torch.Size([16, 512])\n",
      "Batch labels shape: torch.Size([16])\n"
     ]
    },
    {
     "name": "stderr",
     "output_type": "stream",
     "text": [
      "100%|██████████| 8/8 [00:52<00:00,  6.53s/it]"
     ]
    },
    {
     "name": "stdout",
     "output_type": "stream",
     "text": [
      "Batch features shape: torch.Size([11, 512])\n",
      "Batch labels shape: torch.Size([11])\n",
      "Features shape after concatenation: torch.Size([123, 512])\n",
      "Labels shape after concatenation: torch.Size([123])\n"
     ]
    },
    {
     "name": "stderr",
     "output_type": "stream",
     "text": [
      "\n"
     ]
    }
   ],
   "source": [
    "# Extract features for train and test datasets\n",
    "train_feats_simclr = prepare_data_features(simclr_model, train_loader_labeled)\n",
    "test_feats_simclr = prepare_data_features(simclr_model, test_loader_labeled)"
   ]
  },
  {
   "cell_type": "code",
   "execution_count": 12,
   "metadata": {},
   "outputs": [],
   "source": [
    "# Logistic Regression model definition\n",
    "class LogisticRegression(nn.Module):\n",
    "    def __init__(self, feature_dim, num_classes):\n",
    "        super(LogisticRegression, self).__init__()\n",
    "        self.linear = nn.Linear(feature_dim, num_classes)\n",
    "\n",
    "    def forward(self, x):\n",
    "        return self.linear(x)"
   ]
  },
  {
   "cell_type": "code",
   "execution_count": 13,
   "metadata": {},
   "outputs": [],
   "source": [
    "# Training function\n",
    "def train_logistic_regression(model, train_loader, optimizer, scheduler, device):\n",
    "    model.train()\n",
    "    total_loss = 0.0\n",
    "    all_preds = []\n",
    "    all_labels = []\n",
    "\n",
    "    for batch_feats, batch_labels in tqdm(train_loader, desc=\"Training\"):\n",
    "        batch_feats, batch_labels = batch_feats.to(device), batch_labels.to(device)\n",
    "        \n",
    "        optimizer.zero_grad()\n",
    "        outputs = model(batch_feats)\n",
    "        loss = nn.functional.cross_entropy(outputs, batch_labels)\n",
    "        loss.backward()\n",
    "        optimizer.step()\n",
    "        \n",
    "        # Update learning rate scheduler\n",
    "        scheduler.step()\n",
    "\n",
    "        total_loss += loss.item()\n",
    "\n",
    "        preds = outputs.argmax(dim=1)\n",
    "        all_preds.extend(preds.cpu().numpy())\n",
    "        all_labels.extend(batch_labels.cpu().numpy())\n",
    "\n",
    "    avg_loss = total_loss / len(train_loader)\n",
    "    accuracy = accuracy_score(all_labels, all_preds)\n",
    "    return avg_loss, accuracy"
   ]
  },
  {
   "cell_type": "code",
   "execution_count": 14,
   "metadata": {},
   "outputs": [],
   "source": [
    "# Evaluation function\n",
    "def evaluate_logistic_regression(model, test_loader, criterion, device):\n",
    "    model.eval()\n",
    "    total_loss = 0.0\n",
    "    all_preds = []\n",
    "    all_labels = []\n",
    "\n",
    "    with torch.no_grad():\n",
    "        for batch_feats, batch_labels in tqdm(test_loader, desc=\"Evaluating\"):\n",
    "            batch_feats, batch_labels = batch_feats.to(device), batch_labels.to(device)\n",
    "            \n",
    "            outputs = model(batch_feats)\n",
    "            loss = nn.functional.cross_entropy(outputs, batch_labels)\n",
    "            total_loss += loss.item()\n",
    "\n",
    "            preds = outputs.argmax(dim=1)\n",
    "            all_preds.extend(preds.cpu().numpy())\n",
    "            all_labels.extend(batch_labels.cpu().numpy())\n",
    "\n",
    "    avg_loss = total_loss / len(test_loader)\n",
    "    accuracy = accuracy_score(all_labels, all_preds)\n",
    "    return avg_loss, accuracy"
   ]
  },
  {
   "cell_type": "code",
   "execution_count": 15,
   "metadata": {},
   "outputs": [],
   "source": [
    "def train_logreg_simplified(batch_size, train_feats_data, test_feats_data, feature_dim, num_classes, lr=5e-4, weight_decay=1e-4, max_epochs=50):\n",
    "    device = torch.device(\"cuda\" if torch.cuda.is_available() else \"cpu\")\n",
    "\n",
    "    # Data loaders\n",
    "    train_loader = DataLoader(train_feats_data, batch_size=batch_size, shuffle=True,\n",
    "                              drop_last=False, pin_memory=True, num_workers=0)\n",
    "    test_loader = DataLoader(test_feats_data, batch_size=batch_size, shuffle=False,\n",
    "                             drop_last=False, pin_memory=True, num_workers=0)\n",
    "\n",
    "    # Model, loss, and optimizer\n",
    "    model = LogisticRegression(feature_dim, num_classes).to(device)\n",
    "    criterion = nn.CrossEntropyLoss()\n",
    "    optimizer = optim.AdamW(model.parameters(), lr=lr, weight_decay=weight_decay)\n",
    "    scheduler = optim.lr_scheduler.MultiStepLR(optimizer,\n",
    "                                               milestones=[int(max_epochs * 0.6), int(max_epochs * 0.8)],\n",
    "                                               gamma=0.1)\n",
    "\n",
    "    # Store metrics\n",
    "    metrics = {\n",
    "        \"train_losses\": [],\n",
    "        \"test_losses\": [],\n",
    "        \"train_accuracies\": [],\n",
    "        \"test_accuracies\": [],\n",
    "    }\n",
    "\n",
    "    # Track best by accuracy\n",
    "    best_test_acc = -1.0\n",
    "    best_model_state_acc = None\n",
    "\n",
    "    # Track best by loss\n",
    "    best_test_loss = float('inf')\n",
    "    best_test_loss_acc = -1.0\n",
    "    best_model_state_loss = None\n",
    "\n",
    "    for epoch in range(max_epochs):\n",
    "        # Training and evaluation for the current epoch\n",
    "        train_loss, train_acc = train_logistic_regression(model, train_loader, optimizer, scheduler, device)\n",
    "        test_loss, test_acc = evaluate_logistic_regression(model, test_loader, criterion, device)\n",
    "\n",
    "        # Store metrics\n",
    "        metrics[\"train_losses\"].append(train_loss)\n",
    "        metrics[\"test_losses\"].append(test_loss)\n",
    "        metrics[\"train_accuracies\"].append(train_acc)\n",
    "        metrics[\"test_accuracies\"].append(test_acc)\n",
    "\n",
    "        # Print metrics for the current epoch\n",
    "        print(f\"Epoch {epoch + 1}/{max_epochs}\")\n",
    "        print(f\"Training Loss: {train_loss:.4f}, Training Accuracy: {train_acc:.4f}\")\n",
    "        print(f\"Test Loss: {test_loss:.4f}, Test Accuracy: {test_acc:.4f}\\n\")\n",
    "\n",
    "        # Check for best accuracy model\n",
    "        if test_acc > best_test_acc:\n",
    "            best_test_acc = test_acc\n",
    "            best_model_state_acc = model.state_dict()\n",
    "\n",
    "        # Check for best loss model\n",
    "        if (test_loss < best_test_loss) or (test_loss == best_test_loss and test_acc > best_test_loss_acc):\n",
    "            best_test_loss = test_loss\n",
    "            best_test_loss_acc = test_acc\n",
    "            best_model_state_loss = model.state_dict()\n",
    "\n",
    "    # Best models\n",
    "    best_acc_model = LogisticRegression(feature_dim, num_classes).to(device)\n",
    "    best_acc_model.load_state_dict(best_model_state_acc)\n",
    "    best_acc_model.eval()\n",
    "\n",
    "    best_loss_model = LogisticRegression(feature_dim, num_classes).to(device)\n",
    "    best_loss_model.load_state_dict(best_model_state_loss)\n",
    "    best_loss_model.eval()\n",
    "\n",
    "    return best_acc_model, best_loss_model, metrics\n"
   ]
  },
  {
   "cell_type": "code",
   "execution_count": 16,
   "metadata": {},
   "outputs": [
    {
     "name": "stderr",
     "output_type": "stream",
     "text": [
      "Training: 100%|██████████| 62/62 [00:00<00:00, 245.37it/s]\n",
      "Evaluating: 100%|██████████| 16/16 [00:00<00:00, 506.30it/s]\n"
     ]
    },
    {
     "name": "stdout",
     "output_type": "stream",
     "text": [
      "Epoch 1/250\n",
      "Training Loss: 0.2172, Training Accuracy: 0.9309\n",
      "Test Loss: 0.0432, Test Accuracy: 0.9919\n",
      "\n"
     ]
    },
    {
     "name": "stderr",
     "output_type": "stream",
     "text": [
      "Training: 100%|██████████| 62/62 [00:00<00:00, 369.59it/s]\n",
      "Evaluating: 100%|██████████| 16/16 [00:00<00:00, 522.65it/s]\n"
     ]
    },
    {
     "name": "stdout",
     "output_type": "stream",
     "text": [
      "Epoch 2/250\n",
      "Training Loss: 0.0363, Training Accuracy: 0.9980\n",
      "Test Loss: 0.0219, Test Accuracy: 1.0000\n",
      "\n"
     ]
    },
    {
     "name": "stderr",
     "output_type": "stream",
     "text": [
      "Training: 100%|██████████| 62/62 [00:00<00:00, 344.50it/s]\n",
      "Evaluating: 100%|██████████| 16/16 [00:00<00:00, 520.48it/s]\n"
     ]
    },
    {
     "name": "stdout",
     "output_type": "stream",
     "text": [
      "Epoch 3/250\n",
      "Training Loss: 0.0240, Training Accuracy: 0.9959\n",
      "Test Loss: 0.0174, Test Accuracy: 1.0000\n",
      "\n"
     ]
    },
    {
     "name": "stderr",
     "output_type": "stream",
     "text": [
      "Training: 100%|██████████| 62/62 [00:00<00:00, 367.28it/s]\n",
      "Evaluating: 100%|██████████| 16/16 [00:00<00:00, 536.35it/s]\n"
     ]
    },
    {
     "name": "stdout",
     "output_type": "stream",
     "text": [
      "Epoch 4/250\n",
      "Training Loss: 0.0213, Training Accuracy: 0.9959\n",
      "Test Loss: 0.0171, Test Accuracy: 1.0000\n",
      "\n"
     ]
    },
    {
     "name": "stderr",
     "output_type": "stream",
     "text": [
      "Training: 100%|██████████| 62/62 [00:00<00:00, 355.25it/s]\n",
      "Evaluating: 100%|██████████| 16/16 [00:00<00:00, 534.93it/s]\n"
     ]
    },
    {
     "name": "stdout",
     "output_type": "stream",
     "text": [
      "Epoch 5/250\n",
      "Training Loss: 0.0211, Training Accuracy: 0.9980\n",
      "Test Loss: 0.0170, Test Accuracy: 1.0000\n",
      "\n"
     ]
    },
    {
     "name": "stderr",
     "output_type": "stream",
     "text": [
      "Training: 100%|██████████| 62/62 [00:00<00:00, 195.40it/s]\n",
      "Evaluating: 100%|██████████| 16/16 [00:00<00:00, 247.86it/s]\n"
     ]
    },
    {
     "name": "stdout",
     "output_type": "stream",
     "text": [
      "Epoch 6/250\n",
      "Training Loss: 0.0210, Training Accuracy: 0.9980\n",
      "Test Loss: 0.0169, Test Accuracy: 1.0000\n",
      "\n"
     ]
    },
    {
     "name": "stderr",
     "output_type": "stream",
     "text": [
      "Training: 100%|██████████| 62/62 [00:00<00:00, 172.47it/s]\n",
      "Evaluating: 100%|██████████| 16/16 [00:00<00:00, 259.60it/s]\n"
     ]
    },
    {
     "name": "stdout",
     "output_type": "stream",
     "text": [
      "Epoch 7/250\n",
      "Training Loss: 0.0209, Training Accuracy: 0.9980\n",
      "Test Loss: 0.0167, Test Accuracy: 1.0000\n",
      "\n"
     ]
    },
    {
     "name": "stderr",
     "output_type": "stream",
     "text": [
      "Training: 100%|██████████| 62/62 [00:00<00:00, 172.59it/s]\n",
      "Evaluating: 100%|██████████| 16/16 [00:00<00:00, 259.21it/s]\n"
     ]
    },
    {
     "name": "stdout",
     "output_type": "stream",
     "text": [
      "Epoch 8/250\n",
      "Training Loss: 0.0208, Training Accuracy: 0.9980\n",
      "Test Loss: 0.0166, Test Accuracy: 1.0000\n",
      "\n"
     ]
    },
    {
     "name": "stderr",
     "output_type": "stream",
     "text": [
      "Training: 100%|██████████| 62/62 [00:00<00:00, 174.51it/s]\n",
      "Evaluating: 100%|██████████| 16/16 [00:00<00:00, 241.34it/s]\n"
     ]
    },
    {
     "name": "stdout",
     "output_type": "stream",
     "text": [
      "Epoch 9/250\n",
      "Training Loss: 0.0207, Training Accuracy: 0.9980\n",
      "Test Loss: 0.0164, Test Accuracy: 1.0000\n",
      "\n"
     ]
    },
    {
     "name": "stderr",
     "output_type": "stream",
     "text": [
      "Training: 100%|██████████| 62/62 [00:00<00:00, 181.07it/s]\n",
      "Evaluating: 100%|██████████| 16/16 [00:00<00:00, 239.70it/s]\n"
     ]
    },
    {
     "name": "stdout",
     "output_type": "stream",
     "text": [
      "Epoch 10/250\n",
      "Training Loss: 0.0205, Training Accuracy: 0.9980\n",
      "Test Loss: 0.0163, Test Accuracy: 1.0000\n",
      "\n"
     ]
    },
    {
     "name": "stderr",
     "output_type": "stream",
     "text": [
      "Training: 100%|██████████| 62/62 [00:00<00:00, 174.99it/s]\n",
      "Evaluating: 100%|██████████| 16/16 [00:00<00:00, 245.86it/s]\n"
     ]
    },
    {
     "name": "stdout",
     "output_type": "stream",
     "text": [
      "Epoch 11/250\n",
      "Training Loss: 0.0204, Training Accuracy: 0.9980\n",
      "Test Loss: 0.0162, Test Accuracy: 1.0000\n",
      "\n"
     ]
    },
    {
     "name": "stderr",
     "output_type": "stream",
     "text": [
      "Training: 100%|██████████| 62/62 [00:00<00:00, 166.00it/s]\n",
      "Evaluating: 100%|██████████| 16/16 [00:00<00:00, 250.91it/s]\n"
     ]
    },
    {
     "name": "stdout",
     "output_type": "stream",
     "text": [
      "Epoch 12/250\n",
      "Training Loss: 0.0205, Training Accuracy: 0.9980\n",
      "Test Loss: 0.0160, Test Accuracy: 1.0000\n",
      "\n"
     ]
    },
    {
     "name": "stderr",
     "output_type": "stream",
     "text": [
      "Training: 100%|██████████| 62/62 [00:00<00:00, 173.82it/s]\n",
      "Evaluating: 100%|██████████| 16/16 [00:00<00:00, 246.12it/s]\n"
     ]
    },
    {
     "name": "stdout",
     "output_type": "stream",
     "text": [
      "Epoch 13/250\n",
      "Training Loss: 0.0201, Training Accuracy: 0.9980\n",
      "Test Loss: 0.0158, Test Accuracy: 1.0000\n",
      "\n"
     ]
    },
    {
     "name": "stderr",
     "output_type": "stream",
     "text": [
      "Training: 100%|██████████| 62/62 [00:00<00:00, 131.37it/s]\n",
      "Evaluating: 100%|██████████| 16/16 [00:00<00:00, 456.66it/s]\n"
     ]
    },
    {
     "name": "stdout",
     "output_type": "stream",
     "text": [
      "Epoch 14/250\n",
      "Training Loss: 0.0200, Training Accuracy: 0.9980\n",
      "Test Loss: 0.0157, Test Accuracy: 1.0000\n",
      "\n"
     ]
    },
    {
     "name": "stderr",
     "output_type": "stream",
     "text": [
      "Training: 100%|██████████| 62/62 [00:00<00:00, 316.01it/s]\n",
      "Evaluating: 100%|██████████| 16/16 [00:00<00:00, 505.02it/s]\n"
     ]
    },
    {
     "name": "stdout",
     "output_type": "stream",
     "text": [
      "Epoch 15/250\n",
      "Training Loss: 0.0198, Training Accuracy: 0.9980\n",
      "Test Loss: 0.0155, Test Accuracy: 1.0000\n",
      "\n"
     ]
    },
    {
     "name": "stderr",
     "output_type": "stream",
     "text": [
      "Training: 100%|██████████| 62/62 [00:00<00:00, 336.19it/s]\n",
      "Evaluating: 100%|██████████| 16/16 [00:00<00:00, 538.67it/s]\n"
     ]
    },
    {
     "name": "stdout",
     "output_type": "stream",
     "text": [
      "Epoch 16/250\n",
      "Training Loss: 0.0196, Training Accuracy: 0.9980\n",
      "Test Loss: 0.0154, Test Accuracy: 1.0000\n",
      "\n"
     ]
    },
    {
     "name": "stderr",
     "output_type": "stream",
     "text": [
      "Training: 100%|██████████| 62/62 [00:00<00:00, 358.97it/s]\n",
      "Evaluating: 100%|██████████| 16/16 [00:00<00:00, 746.21it/s]\n"
     ]
    },
    {
     "name": "stdout",
     "output_type": "stream",
     "text": [
      "Epoch 17/250\n",
      "Training Loss: 0.0195, Training Accuracy: 0.9980\n",
      "Test Loss: 0.0152, Test Accuracy: 1.0000\n",
      "\n"
     ]
    },
    {
     "name": "stderr",
     "output_type": "stream",
     "text": [
      "Training: 100%|██████████| 62/62 [00:00<00:00, 367.50it/s]\n",
      "Evaluating: 100%|██████████| 16/16 [00:00<00:00, 506.91it/s]\n"
     ]
    },
    {
     "name": "stdout",
     "output_type": "stream",
     "text": [
      "Epoch 18/250\n",
      "Training Loss: 0.0203, Training Accuracy: 0.9980\n",
      "Test Loss: 0.0150, Test Accuracy: 1.0000\n",
      "\n"
     ]
    },
    {
     "name": "stderr",
     "output_type": "stream",
     "text": [
      "Training: 100%|██████████| 62/62 [00:00<00:00, 317.89it/s]\n",
      "Evaluating: 100%|██████████| 16/16 [00:00<00:00, 466.62it/s]\n"
     ]
    },
    {
     "name": "stdout",
     "output_type": "stream",
     "text": [
      "Epoch 19/250\n",
      "Training Loss: 0.0191, Training Accuracy: 0.9980\n",
      "Test Loss: 0.0149, Test Accuracy: 1.0000\n",
      "\n"
     ]
    },
    {
     "name": "stderr",
     "output_type": "stream",
     "text": [
      "Training: 100%|██████████| 62/62 [00:00<00:00, 321.73it/s]\n",
      "Evaluating: 100%|██████████| 16/16 [00:00<00:00, 554.30it/s]\n"
     ]
    },
    {
     "name": "stdout",
     "output_type": "stream",
     "text": [
      "Epoch 20/250\n",
      "Training Loss: 0.0191, Training Accuracy: 0.9980\n",
      "Test Loss: 0.0147, Test Accuracy: 1.0000\n",
      "\n"
     ]
    },
    {
     "name": "stderr",
     "output_type": "stream",
     "text": [
      "Training: 100%|██████████| 62/62 [00:00<00:00, 375.69it/s]\n",
      "Evaluating: 100%|██████████| 16/16 [00:00<00:00, 549.80it/s]\n"
     ]
    },
    {
     "name": "stdout",
     "output_type": "stream",
     "text": [
      "Epoch 21/250\n",
      "Training Loss: 0.0189, Training Accuracy: 0.9980\n",
      "Test Loss: 0.0145, Test Accuracy: 1.0000\n",
      "\n"
     ]
    },
    {
     "name": "stderr",
     "output_type": "stream",
     "text": [
      "Training: 100%|██████████| 62/62 [00:00<00:00, 363.04it/s]\n",
      "Evaluating: 100%|██████████| 16/16 [00:00<00:00, 550.16it/s]\n"
     ]
    },
    {
     "name": "stdout",
     "output_type": "stream",
     "text": [
      "Epoch 22/250\n",
      "Training Loss: 0.0187, Training Accuracy: 0.9980\n",
      "Test Loss: 0.0144, Test Accuracy: 1.0000\n",
      "\n"
     ]
    },
    {
     "name": "stderr",
     "output_type": "stream",
     "text": [
      "Training: 100%|██████████| 62/62 [00:00<00:00, 360.07it/s]\n",
      "Evaluating: 100%|██████████| 16/16 [00:00<00:00, 511.00it/s]\n"
     ]
    },
    {
     "name": "stdout",
     "output_type": "stream",
     "text": [
      "Epoch 23/250\n",
      "Training Loss: 0.0185, Training Accuracy: 0.9980\n",
      "Test Loss: 0.0142, Test Accuracy: 1.0000\n",
      "\n"
     ]
    },
    {
     "name": "stderr",
     "output_type": "stream",
     "text": [
      "Training: 100%|██████████| 62/62 [00:00<00:00, 388.18it/s]\n",
      "Evaluating: 100%|██████████| 16/16 [00:00<00:00, 615.37it/s]\n"
     ]
    },
    {
     "name": "stdout",
     "output_type": "stream",
     "text": [
      "Epoch 24/250\n",
      "Training Loss: 0.0184, Training Accuracy: 0.9980\n",
      "Test Loss: 0.0140, Test Accuracy: 1.0000\n",
      "\n"
     ]
    },
    {
     "name": "stderr",
     "output_type": "stream",
     "text": [
      "Training: 100%|██████████| 62/62 [00:00<00:00, 400.05it/s]\n",
      "Evaluating: 100%|██████████| 16/16 [00:00<00:00, 538.56it/s]\n"
     ]
    },
    {
     "name": "stdout",
     "output_type": "stream",
     "text": [
      "Epoch 25/250\n",
      "Training Loss: 0.0182, Training Accuracy: 0.9980\n",
      "Test Loss: 0.0139, Test Accuracy: 1.0000\n",
      "\n"
     ]
    },
    {
     "name": "stderr",
     "output_type": "stream",
     "text": [
      "Training: 100%|██████████| 62/62 [00:00<00:00, 372.26it/s]\n",
      "Evaluating: 100%|██████████| 16/16 [00:00<00:00, 524.53it/s]\n"
     ]
    },
    {
     "name": "stdout",
     "output_type": "stream",
     "text": [
      "Epoch 26/250\n",
      "Training Loss: 0.0182, Training Accuracy: 0.9980\n",
      "Test Loss: 0.0137, Test Accuracy: 1.0000\n",
      "\n"
     ]
    },
    {
     "name": "stderr",
     "output_type": "stream",
     "text": [
      "Training: 100%|██████████| 62/62 [00:00<00:00, 351.19it/s]\n",
      "Evaluating: 100%|██████████| 16/16 [00:00<00:00, 586.22it/s]\n"
     ]
    },
    {
     "name": "stdout",
     "output_type": "stream",
     "text": [
      "Epoch 27/250\n",
      "Training Loss: 0.0178, Training Accuracy: 0.9980\n",
      "Test Loss: 0.0135, Test Accuracy: 1.0000\n",
      "\n"
     ]
    },
    {
     "name": "stderr",
     "output_type": "stream",
     "text": [
      "Training: 100%|██████████| 62/62 [00:00<00:00, 355.66it/s]\n",
      "Evaluating: 100%|██████████| 16/16 [00:00<00:00, 513.37it/s]\n"
     ]
    },
    {
     "name": "stdout",
     "output_type": "stream",
     "text": [
      "Epoch 28/250\n",
      "Training Loss: 0.0178, Training Accuracy: 0.9980\n",
      "Test Loss: 0.0134, Test Accuracy: 1.0000\n",
      "\n"
     ]
    },
    {
     "name": "stderr",
     "output_type": "stream",
     "text": [
      "Training: 100%|██████████| 62/62 [00:00<00:00, 369.21it/s]\n",
      "Evaluating: 100%|██████████| 16/16 [00:00<00:00, 549.38it/s]\n"
     ]
    },
    {
     "name": "stdout",
     "output_type": "stream",
     "text": [
      "Epoch 29/250\n",
      "Training Loss: 0.0176, Training Accuracy: 0.9980\n",
      "Test Loss: 0.0132, Test Accuracy: 1.0000\n",
      "\n"
     ]
    },
    {
     "name": "stderr",
     "output_type": "stream",
     "text": [
      "Training: 100%|██████████| 62/62 [00:00<00:00, 351.21it/s]\n",
      "Evaluating: 100%|██████████| 16/16 [00:00<00:00, 447.55it/s]\n"
     ]
    },
    {
     "name": "stdout",
     "output_type": "stream",
     "text": [
      "Epoch 30/250\n",
      "Training Loss: 0.0174, Training Accuracy: 0.9980\n",
      "Test Loss: 0.0130, Test Accuracy: 1.0000\n",
      "\n"
     ]
    },
    {
     "name": "stderr",
     "output_type": "stream",
     "text": [
      "Training: 100%|██████████| 62/62 [00:00<00:00, 338.99it/s]\n",
      "Evaluating: 100%|██████████| 16/16 [00:00<00:00, 592.74it/s]\n"
     ]
    },
    {
     "name": "stdout",
     "output_type": "stream",
     "text": [
      "Epoch 31/250\n",
      "Training Loss: 0.0176, Training Accuracy: 0.9980\n",
      "Test Loss: 0.0129, Test Accuracy: 1.0000\n",
      "\n"
     ]
    },
    {
     "name": "stderr",
     "output_type": "stream",
     "text": [
      "Training: 100%|██████████| 62/62 [00:00<00:00, 343.80it/s]\n",
      "Evaluating: 100%|██████████| 16/16 [00:00<00:00, 549.85it/s]\n"
     ]
    },
    {
     "name": "stdout",
     "output_type": "stream",
     "text": [
      "Epoch 32/250\n",
      "Training Loss: 0.0170, Training Accuracy: 0.9980\n",
      "Test Loss: 0.0127, Test Accuracy: 1.0000\n",
      "\n"
     ]
    },
    {
     "name": "stderr",
     "output_type": "stream",
     "text": [
      "Training: 100%|██████████| 62/62 [00:00<00:00, 359.53it/s]\n",
      "Evaluating: 100%|██████████| 16/16 [00:00<00:00, 354.16it/s]\n"
     ]
    },
    {
     "name": "stdout",
     "output_type": "stream",
     "text": [
      "Epoch 33/250\n",
      "Training Loss: 0.0169, Training Accuracy: 0.9980\n",
      "Test Loss: 0.0126, Test Accuracy: 1.0000\n",
      "\n"
     ]
    },
    {
     "name": "stderr",
     "output_type": "stream",
     "text": [
      "Training: 100%|██████████| 62/62 [00:00<00:00, 197.95it/s]\n",
      "Evaluating: 100%|██████████| 16/16 [00:00<00:00, 475.68it/s]\n"
     ]
    },
    {
     "name": "stdout",
     "output_type": "stream",
     "text": [
      "Epoch 34/250\n",
      "Training Loss: 0.0167, Training Accuracy: 0.9980\n",
      "Test Loss: 0.0124, Test Accuracy: 1.0000\n",
      "\n"
     ]
    },
    {
     "name": "stderr",
     "output_type": "stream",
     "text": [
      "Training: 100%|██████████| 62/62 [00:00<00:00, 335.21it/s]\n",
      "Evaluating: 100%|██████████| 16/16 [00:00<00:00, 563.36it/s]\n"
     ]
    },
    {
     "name": "stdout",
     "output_type": "stream",
     "text": [
      "Epoch 35/250\n",
      "Training Loss: 0.0175, Training Accuracy: 0.9980\n",
      "Test Loss: 0.0122, Test Accuracy: 1.0000\n",
      "\n"
     ]
    },
    {
     "name": "stderr",
     "output_type": "stream",
     "text": [
      "Training: 100%|██████████| 62/62 [00:00<00:00, 384.09it/s]\n",
      "Evaluating: 100%|██████████| 16/16 [00:00<00:00, 555.34it/s]\n"
     ]
    },
    {
     "name": "stdout",
     "output_type": "stream",
     "text": [
      "Epoch 36/250\n",
      "Training Loss: 0.0165, Training Accuracy: 0.9980\n",
      "Test Loss: 0.0121, Test Accuracy: 1.0000\n",
      "\n"
     ]
    },
    {
     "name": "stderr",
     "output_type": "stream",
     "text": [
      "Training: 100%|██████████| 62/62 [00:00<00:00, 350.05it/s]\n",
      "Evaluating: 100%|██████████| 16/16 [00:00<00:00, 563.88it/s]\n"
     ]
    },
    {
     "name": "stdout",
     "output_type": "stream",
     "text": [
      "Epoch 37/250\n",
      "Training Loss: 0.0162, Training Accuracy: 0.9980\n",
      "Test Loss: 0.0119, Test Accuracy: 1.0000\n",
      "\n"
     ]
    },
    {
     "name": "stderr",
     "output_type": "stream",
     "text": [
      "Training: 100%|██████████| 62/62 [00:00<00:00, 344.69it/s]\n",
      "Evaluating: 100%|██████████| 16/16 [00:00<00:00, 493.91it/s]\n"
     ]
    },
    {
     "name": "stdout",
     "output_type": "stream",
     "text": [
      "Epoch 38/250\n",
      "Training Loss: 0.0161, Training Accuracy: 0.9980\n",
      "Test Loss: 0.0118, Test Accuracy: 1.0000\n",
      "\n"
     ]
    },
    {
     "name": "stderr",
     "output_type": "stream",
     "text": [
      "Training: 100%|██████████| 62/62 [00:00<00:00, 336.10it/s]\n",
      "Evaluating: 100%|██████████| 16/16 [00:00<00:00, 531.76it/s]\n"
     ]
    },
    {
     "name": "stdout",
     "output_type": "stream",
     "text": [
      "Epoch 39/250\n",
      "Training Loss: 0.0160, Training Accuracy: 0.9980\n",
      "Test Loss: 0.0116, Test Accuracy: 1.0000\n",
      "\n"
     ]
    },
    {
     "name": "stderr",
     "output_type": "stream",
     "text": [
      "Training: 100%|██████████| 62/62 [00:00<00:00, 280.26it/s]\n",
      "Evaluating: 100%|██████████| 16/16 [00:00<00:00, 508.39it/s]\n"
     ]
    },
    {
     "name": "stdout",
     "output_type": "stream",
     "text": [
      "Epoch 40/250\n",
      "Training Loss: 0.0161, Training Accuracy: 0.9980\n",
      "Test Loss: 0.0115, Test Accuracy: 1.0000\n",
      "\n"
     ]
    },
    {
     "name": "stderr",
     "output_type": "stream",
     "text": [
      "Training: 100%|██████████| 62/62 [00:00<00:00, 323.31it/s]\n",
      "Evaluating: 100%|██████████| 16/16 [00:00<00:00, 517.81it/s]\n"
     ]
    },
    {
     "name": "stdout",
     "output_type": "stream",
     "text": [
      "Epoch 41/250\n",
      "Training Loss: 0.0156, Training Accuracy: 0.9980\n",
      "Test Loss: 0.0114, Test Accuracy: 1.0000\n",
      "\n"
     ]
    },
    {
     "name": "stderr",
     "output_type": "stream",
     "text": [
      "Training: 100%|██████████| 62/62 [00:00<00:00, 330.18it/s]\n",
      "Evaluating: 100%|██████████| 16/16 [00:00<00:00, 474.43it/s]\n"
     ]
    },
    {
     "name": "stdout",
     "output_type": "stream",
     "text": [
      "Epoch 42/250\n",
      "Training Loss: 0.0155, Training Accuracy: 0.9980\n",
      "Test Loss: 0.0112, Test Accuracy: 1.0000\n",
      "\n"
     ]
    },
    {
     "name": "stderr",
     "output_type": "stream",
     "text": [
      "Training: 100%|██████████| 62/62 [00:00<00:00, 331.87it/s]\n",
      "Evaluating: 100%|██████████| 16/16 [00:00<00:00, 560.61it/s]\n"
     ]
    },
    {
     "name": "stdout",
     "output_type": "stream",
     "text": [
      "Epoch 43/250\n",
      "Training Loss: 0.0154, Training Accuracy: 0.9980\n",
      "Test Loss: 0.0111, Test Accuracy: 1.0000\n",
      "\n"
     ]
    },
    {
     "name": "stderr",
     "output_type": "stream",
     "text": [
      "Training: 100%|██████████| 62/62 [00:00<00:00, 389.44it/s]\n",
      "Evaluating: 100%|██████████| 16/16 [00:00<00:00, 585.14it/s]\n"
     ]
    },
    {
     "name": "stdout",
     "output_type": "stream",
     "text": [
      "Epoch 44/250\n",
      "Training Loss: 0.0152, Training Accuracy: 0.9980\n",
      "Test Loss: 0.0109, Test Accuracy: 1.0000\n",
      "\n"
     ]
    },
    {
     "name": "stderr",
     "output_type": "stream",
     "text": [
      "Training: 100%|██████████| 62/62 [00:00<00:00, 377.29it/s]\n",
      "Evaluating: 100%|██████████| 16/16 [00:00<00:00, 681.92it/s]\n"
     ]
    },
    {
     "name": "stdout",
     "output_type": "stream",
     "text": [
      "Epoch 45/250\n",
      "Training Loss: 0.0152, Training Accuracy: 0.9980\n",
      "Test Loss: 0.0108, Test Accuracy: 1.0000\n",
      "\n"
     ]
    },
    {
     "name": "stderr",
     "output_type": "stream",
     "text": [
      "Training: 100%|██████████| 62/62 [00:00<00:00, 394.14it/s]\n",
      "Evaluating: 100%|██████████| 16/16 [00:00<00:00, 571.43it/s]\n"
     ]
    },
    {
     "name": "stdout",
     "output_type": "stream",
     "text": [
      "Epoch 46/250\n",
      "Training Loss: 0.0149, Training Accuracy: 0.9980\n",
      "Test Loss: 0.0107, Test Accuracy: 1.0000\n",
      "\n"
     ]
    },
    {
     "name": "stderr",
     "output_type": "stream",
     "text": [
      "Training: 100%|██████████| 62/62 [00:00<00:00, 392.42it/s]\n",
      "Evaluating: 100%|██████████| 16/16 [00:00<00:00, 563.67it/s]\n"
     ]
    },
    {
     "name": "stdout",
     "output_type": "stream",
     "text": [
      "Epoch 47/250\n",
      "Training Loss: 0.0147, Training Accuracy: 0.9980\n",
      "Test Loss: 0.0105, Test Accuracy: 1.0000\n",
      "\n"
     ]
    },
    {
     "name": "stderr",
     "output_type": "stream",
     "text": [
      "Training: 100%|██████████| 62/62 [00:00<00:00, 341.25it/s]\n",
      "Evaluating: 100%|██████████| 16/16 [00:00<00:00, 524.08it/s]\n"
     ]
    },
    {
     "name": "stdout",
     "output_type": "stream",
     "text": [
      "Epoch 48/250\n",
      "Training Loss: 0.0146, Training Accuracy: 0.9980\n",
      "Test Loss: 0.0104, Test Accuracy: 1.0000\n",
      "\n"
     ]
    },
    {
     "name": "stderr",
     "output_type": "stream",
     "text": [
      "Training: 100%|██████████| 62/62 [00:00<00:00, 386.99it/s]\n",
      "Evaluating: 100%|██████████| 16/16 [00:00<00:00, 568.70it/s]\n"
     ]
    },
    {
     "name": "stdout",
     "output_type": "stream",
     "text": [
      "Epoch 49/250\n",
      "Training Loss: 0.0145, Training Accuracy: 0.9980\n",
      "Test Loss: 0.0102, Test Accuracy: 1.0000\n",
      "\n"
     ]
    },
    {
     "name": "stderr",
     "output_type": "stream",
     "text": [
      "Training: 100%|██████████| 62/62 [00:00<00:00, 258.93it/s]\n",
      "Evaluating: 100%|██████████| 16/16 [00:00<00:00, 254.84it/s]\n"
     ]
    },
    {
     "name": "stdout",
     "output_type": "stream",
     "text": [
      "Epoch 50/250\n",
      "Training Loss: 0.0147, Training Accuracy: 0.9980\n",
      "Test Loss: 0.0101, Test Accuracy: 1.0000\n",
      "\n"
     ]
    },
    {
     "name": "stderr",
     "output_type": "stream",
     "text": [
      "Training: 100%|██████████| 62/62 [00:00<00:00, 150.60it/s]\n",
      "Evaluating: 100%|██████████| 16/16 [00:00<00:00, 211.36it/s]\n"
     ]
    },
    {
     "name": "stdout",
     "output_type": "stream",
     "text": [
      "Epoch 51/250\n",
      "Training Loss: 0.0142, Training Accuracy: 0.9980\n",
      "Test Loss: 0.0100, Test Accuracy: 1.0000\n",
      "\n"
     ]
    },
    {
     "name": "stderr",
     "output_type": "stream",
     "text": [
      "Training: 100%|██████████| 62/62 [00:00<00:00, 160.49it/s]\n",
      "Evaluating: 100%|██████████| 16/16 [00:00<00:00, 264.85it/s]\n"
     ]
    },
    {
     "name": "stdout",
     "output_type": "stream",
     "text": [
      "Epoch 52/250\n",
      "Training Loss: 0.0141, Training Accuracy: 0.9980\n",
      "Test Loss: 0.0098, Test Accuracy: 1.0000\n",
      "\n"
     ]
    },
    {
     "name": "stderr",
     "output_type": "stream",
     "text": [
      "Training: 100%|██████████| 62/62 [00:00<00:00, 178.22it/s]\n",
      "Evaluating: 100%|██████████| 16/16 [00:00<00:00, 242.17it/s]\n"
     ]
    },
    {
     "name": "stdout",
     "output_type": "stream",
     "text": [
      "Epoch 53/250\n",
      "Training Loss: 0.0140, Training Accuracy: 0.9980\n",
      "Test Loss: 0.0097, Test Accuracy: 1.0000\n",
      "\n"
     ]
    },
    {
     "name": "stderr",
     "output_type": "stream",
     "text": [
      "Training: 100%|██████████| 62/62 [00:00<00:00, 145.24it/s]\n",
      "Evaluating: 100%|██████████| 16/16 [00:00<00:00, 248.78it/s]\n"
     ]
    },
    {
     "name": "stdout",
     "output_type": "stream",
     "text": [
      "Epoch 54/250\n",
      "Training Loss: 0.0138, Training Accuracy: 0.9980\n",
      "Test Loss: 0.0096, Test Accuracy: 1.0000\n",
      "\n"
     ]
    },
    {
     "name": "stderr",
     "output_type": "stream",
     "text": [
      "Training: 100%|██████████| 62/62 [00:00<00:00, 169.24it/s]\n",
      "Evaluating: 100%|██████████| 16/16 [00:00<00:00, 236.13it/s]\n"
     ]
    },
    {
     "name": "stdout",
     "output_type": "stream",
     "text": [
      "Epoch 55/250\n",
      "Training Loss: 0.0137, Training Accuracy: 0.9980\n",
      "Test Loss: 0.0095, Test Accuracy: 1.0000\n",
      "\n"
     ]
    },
    {
     "name": "stderr",
     "output_type": "stream",
     "text": [
      "Training: 100%|██████████| 62/62 [00:00<00:00, 176.59it/s]\n",
      "Evaluating: 100%|██████████| 16/16 [00:00<00:00, 250.64it/s]\n"
     ]
    },
    {
     "name": "stdout",
     "output_type": "stream",
     "text": [
      "Epoch 56/250\n",
      "Training Loss: 0.0136, Training Accuracy: 0.9980\n",
      "Test Loss: 0.0094, Test Accuracy: 1.0000\n",
      "\n"
     ]
    },
    {
     "name": "stderr",
     "output_type": "stream",
     "text": [
      "Training: 100%|██████████| 62/62 [00:00<00:00, 182.25it/s]\n",
      "Evaluating: 100%|██████████| 16/16 [00:00<00:00, 268.60it/s]\n"
     ]
    },
    {
     "name": "stdout",
     "output_type": "stream",
     "text": [
      "Epoch 57/250\n",
      "Training Loss: 0.0135, Training Accuracy: 0.9980\n",
      "Test Loss: 0.0092, Test Accuracy: 1.0000\n",
      "\n"
     ]
    },
    {
     "name": "stderr",
     "output_type": "stream",
     "text": [
      "Training: 100%|██████████| 62/62 [00:00<00:00, 161.76it/s]\n",
      "Evaluating: 100%|██████████| 16/16 [00:00<00:00, 228.52it/s]\n"
     ]
    },
    {
     "name": "stdout",
     "output_type": "stream",
     "text": [
      "Epoch 58/250\n",
      "Training Loss: 0.0133, Training Accuracy: 0.9980\n",
      "Test Loss: 0.0091, Test Accuracy: 1.0000\n",
      "\n"
     ]
    },
    {
     "name": "stderr",
     "output_type": "stream",
     "text": [
      "Training: 100%|██████████| 62/62 [00:00<00:00, 310.58it/s]\n",
      "Evaluating: 100%|██████████| 16/16 [00:00<00:00, 559.41it/s]\n"
     ]
    },
    {
     "name": "stdout",
     "output_type": "stream",
     "text": [
      "Epoch 59/250\n",
      "Training Loss: 0.0132, Training Accuracy: 0.9980\n",
      "Test Loss: 0.0090, Test Accuracy: 1.0000\n",
      "\n"
     ]
    },
    {
     "name": "stderr",
     "output_type": "stream",
     "text": [
      "Training: 100%|██████████| 62/62 [00:00<00:00, 326.01it/s]\n",
      "Evaluating: 100%|██████████| 16/16 [00:00<00:00, 521.06it/s]\n"
     ]
    },
    {
     "name": "stdout",
     "output_type": "stream",
     "text": [
      "Epoch 60/250\n",
      "Training Loss: 0.0131, Training Accuracy: 0.9980\n",
      "Test Loss: 0.0089, Test Accuracy: 1.0000\n",
      "\n"
     ]
    },
    {
     "name": "stderr",
     "output_type": "stream",
     "text": [
      "Training: 100%|██████████| 62/62 [00:00<00:00, 383.84it/s]\n",
      "Evaluating: 100%|██████████| 16/16 [00:00<00:00, 551.74it/s]\n"
     ]
    },
    {
     "name": "stdout",
     "output_type": "stream",
     "text": [
      "Epoch 61/250\n",
      "Training Loss: 0.0129, Training Accuracy: 0.9980\n",
      "Test Loss: 0.0088, Test Accuracy: 1.0000\n",
      "\n"
     ]
    },
    {
     "name": "stderr",
     "output_type": "stream",
     "text": [
      "Training: 100%|██████████| 62/62 [00:00<00:00, 313.02it/s]\n",
      "Evaluating: 100%|██████████| 16/16 [00:00<00:00, 468.19it/s]\n"
     ]
    },
    {
     "name": "stdout",
     "output_type": "stream",
     "text": [
      "Epoch 62/250\n",
      "Training Loss: 0.0127, Training Accuracy: 0.9980\n",
      "Test Loss: 0.0087, Test Accuracy: 1.0000\n",
      "\n"
     ]
    },
    {
     "name": "stderr",
     "output_type": "stream",
     "text": [
      "Training: 100%|██████████| 62/62 [00:00<00:00, 320.73it/s]\n",
      "Evaluating: 100%|██████████| 16/16 [00:00<00:00, 545.11it/s]\n"
     ]
    },
    {
     "name": "stdout",
     "output_type": "stream",
     "text": [
      "Epoch 63/250\n",
      "Training Loss: 0.0126, Training Accuracy: 0.9980\n",
      "Test Loss: 0.0086, Test Accuracy: 1.0000\n",
      "\n"
     ]
    },
    {
     "name": "stderr",
     "output_type": "stream",
     "text": [
      "Training: 100%|██████████| 62/62 [00:00<00:00, 335.19it/s]\n",
      "Evaluating: 100%|██████████| 16/16 [00:00<00:00, 409.08it/s]\n"
     ]
    },
    {
     "name": "stdout",
     "output_type": "stream",
     "text": [
      "Epoch 64/250\n",
      "Training Loss: 0.0125, Training Accuracy: 0.9980\n",
      "Test Loss: 0.0085, Test Accuracy: 1.0000\n",
      "\n"
     ]
    },
    {
     "name": "stderr",
     "output_type": "stream",
     "text": [
      "Training: 100%|██████████| 62/62 [00:00<00:00, 255.97it/s]\n",
      "Evaluating: 100%|██████████| 16/16 [00:00<00:00, 510.48it/s]\n"
     ]
    },
    {
     "name": "stdout",
     "output_type": "stream",
     "text": [
      "Epoch 65/250\n",
      "Training Loss: 0.0124, Training Accuracy: 0.9980\n",
      "Test Loss: 0.0084, Test Accuracy: 1.0000\n",
      "\n"
     ]
    },
    {
     "name": "stderr",
     "output_type": "stream",
     "text": [
      "Training: 100%|██████████| 62/62 [00:00<00:00, 242.84it/s]\n",
      "Evaluating: 100%|██████████| 16/16 [00:00<00:00, 288.63it/s]\n"
     ]
    },
    {
     "name": "stdout",
     "output_type": "stream",
     "text": [
      "Epoch 66/250\n",
      "Training Loss: 0.0123, Training Accuracy: 0.9980\n",
      "Test Loss: 0.0083, Test Accuracy: 1.0000\n",
      "\n"
     ]
    },
    {
     "name": "stderr",
     "output_type": "stream",
     "text": [
      "Training: 100%|██████████| 62/62 [00:00<00:00, 311.62it/s]\n",
      "Evaluating: 100%|██████████| 16/16 [00:00<00:00, 2854.36it/s]\n"
     ]
    },
    {
     "name": "stdout",
     "output_type": "stream",
     "text": [
      "Epoch 67/250\n",
      "Training Loss: 0.0122, Training Accuracy: 0.9980\n",
      "Test Loss: 0.0082, Test Accuracy: 1.0000\n",
      "\n"
     ]
    },
    {
     "name": "stderr",
     "output_type": "stream",
     "text": [
      "Training: 100%|██████████| 62/62 [00:00<00:00, 1584.55it/s]\n",
      "Evaluating: 100%|██████████| 16/16 [00:00<00:00, 3199.77it/s]\n"
     ]
    },
    {
     "name": "stdout",
     "output_type": "stream",
     "text": [
      "Epoch 68/250\n",
      "Training Loss: 0.0121, Training Accuracy: 0.9980\n",
      "Test Loss: 0.0081, Test Accuracy: 1.0000\n",
      "\n"
     ]
    },
    {
     "name": "stderr",
     "output_type": "stream",
     "text": [
      "Training: 100%|██████████| 62/62 [00:00<00:00, 1544.36it/s]\n",
      "Evaluating: 100%|██████████| 16/16 [00:00<00:00, 3200.23it/s]\n"
     ]
    },
    {
     "name": "stdout",
     "output_type": "stream",
     "text": [
      "Epoch 69/250\n",
      "Training Loss: 0.0119, Training Accuracy: 0.9980\n",
      "Test Loss: 0.0080, Test Accuracy: 1.0000\n",
      "\n"
     ]
    },
    {
     "name": "stderr",
     "output_type": "stream",
     "text": [
      "Training: 100%|██████████| 62/62 [00:00<00:00, 1565.14it/s]\n",
      "Evaluating: 100%|██████████| 16/16 [00:00<00:00, 3818.64it/s]\n"
     ]
    },
    {
     "name": "stdout",
     "output_type": "stream",
     "text": [
      "Epoch 70/250\n",
      "Training Loss: 0.0120, Training Accuracy: 0.9980\n",
      "Test Loss: 0.0079, Test Accuracy: 1.0000\n",
      "\n"
     ]
    },
    {
     "name": "stderr",
     "output_type": "stream",
     "text": [
      "Training: 100%|██████████| 62/62 [00:00<00:00, 1568.15it/s]\n",
      "Evaluating: 100%|██████████| 16/16 [00:00<00:00, 3069.52it/s]\n"
     ]
    },
    {
     "name": "stdout",
     "output_type": "stream",
     "text": [
      "Epoch 71/250\n",
      "Training Loss: 0.0117, Training Accuracy: 0.9980\n",
      "Test Loss: 0.0078, Test Accuracy: 1.0000\n",
      "\n"
     ]
    },
    {
     "name": "stderr",
     "output_type": "stream",
     "text": [
      "Training: 100%|██████████| 62/62 [00:00<00:00, 1563.03it/s]\n",
      "Evaluating: 100%|██████████| 16/16 [00:00<00:00, 4000.77it/s]\n"
     ]
    },
    {
     "name": "stdout",
     "output_type": "stream",
     "text": [
      "Epoch 72/250\n",
      "Training Loss: 0.0116, Training Accuracy: 0.9980\n",
      "Test Loss: 0.0077, Test Accuracy: 1.0000\n",
      "\n"
     ]
    },
    {
     "name": "stderr",
     "output_type": "stream",
     "text": [
      "Training: 100%|██████████| 62/62 [00:00<00:00, 1612.45it/s]\n",
      "Evaluating: 100%|██████████| 16/16 [00:00<00:00, 3115.40it/s]\n"
     ]
    },
    {
     "name": "stdout",
     "output_type": "stream",
     "text": [
      "Epoch 73/250\n",
      "Training Loss: 0.0115, Training Accuracy: 1.0000\n",
      "Test Loss: 0.0076, Test Accuracy: 1.0000\n",
      "\n"
     ]
    },
    {
     "name": "stderr",
     "output_type": "stream",
     "text": [
      "Training: 100%|██████████| 62/62 [00:00<00:00, 1563.38it/s]\n",
      "Evaluating: 100%|██████████| 16/16 [00:00<00:00, 3199.47it/s]\n"
     ]
    },
    {
     "name": "stdout",
     "output_type": "stream",
     "text": [
      "Epoch 74/250\n",
      "Training Loss: 0.0114, Training Accuracy: 1.0000\n",
      "Test Loss: 0.0075, Test Accuracy: 1.0000\n",
      "\n"
     ]
    },
    {
     "name": "stderr",
     "output_type": "stream",
     "text": [
      "Training: 100%|██████████| 62/62 [00:00<00:00, 1560.22it/s]\n",
      "Evaluating: 100%|██████████| 16/16 [00:00<00:00, 3124.39it/s]\n"
     ]
    },
    {
     "name": "stdout",
     "output_type": "stream",
     "text": [
      "Epoch 75/250\n",
      "Training Loss: 0.0113, Training Accuracy: 1.0000\n",
      "Test Loss: 0.0074, Test Accuracy: 1.0000\n",
      "\n"
     ]
    },
    {
     "name": "stderr",
     "output_type": "stream",
     "text": [
      "Training: 100%|██████████| 62/62 [00:00<00:00, 1599.95it/s]\n",
      "Evaluating: 100%|██████████| 16/16 [00:00<00:00, 4001.72it/s]\n"
     ]
    },
    {
     "name": "stdout",
     "output_type": "stream",
     "text": [
      "Epoch 76/250\n",
      "Training Loss: 0.0113, Training Accuracy: 1.0000\n",
      "Test Loss: 0.0073, Test Accuracy: 1.0000\n",
      "\n"
     ]
    },
    {
     "name": "stderr",
     "output_type": "stream",
     "text": [
      "Training: 100%|██████████| 62/62 [00:00<00:00, 1608.79it/s]\n",
      "Evaluating: 100%|██████████| 16/16 [00:00<00:00, 3080.08it/s]\n"
     ]
    },
    {
     "name": "stdout",
     "output_type": "stream",
     "text": [
      "Epoch 77/250\n",
      "Training Loss: 0.0115, Training Accuracy: 1.0000\n",
      "Test Loss: 0.0072, Test Accuracy: 1.0000\n",
      "\n"
     ]
    },
    {
     "name": "stderr",
     "output_type": "stream",
     "text": [
      "Training: 100%|██████████| 62/62 [00:00<00:00, 1568.18it/s]\n",
      "Evaluating: 100%|██████████| 16/16 [00:00<00:00, 3096.57it/s]\n"
     ]
    },
    {
     "name": "stdout",
     "output_type": "stream",
     "text": [
      "Epoch 78/250\n",
      "Training Loss: 0.0111, Training Accuracy: 1.0000\n",
      "Test Loss: 0.0071, Test Accuracy: 1.0000\n",
      "\n"
     ]
    },
    {
     "name": "stderr",
     "output_type": "stream",
     "text": [
      "Training: 100%|██████████| 62/62 [00:00<00:00, 1631.56it/s]\n",
      "Evaluating: 100%|██████████| 16/16 [00:00<00:00, 3200.08it/s]\n"
     ]
    },
    {
     "name": "stdout",
     "output_type": "stream",
     "text": [
      "Epoch 79/250\n",
      "Training Loss: 0.0108, Training Accuracy: 1.0000\n",
      "Test Loss: 0.0070, Test Accuracy: 1.0000\n",
      "\n"
     ]
    },
    {
     "name": "stderr",
     "output_type": "stream",
     "text": [
      "Training: 100%|██████████| 62/62 [00:00<00:00, 1660.22it/s]\n",
      "Evaluating: 100%|██████████| 16/16 [00:00<00:00, 3199.93it/s]\n"
     ]
    },
    {
     "name": "stdout",
     "output_type": "stream",
     "text": [
      "Epoch 80/250\n",
      "Training Loss: 0.0108, Training Accuracy: 1.0000\n",
      "Test Loss: 0.0069, Test Accuracy: 1.0000\n",
      "\n"
     ]
    },
    {
     "name": "stderr",
     "output_type": "stream",
     "text": [
      "Training: 100%|██████████| 62/62 [00:00<00:00, 1618.31it/s]\n",
      "Evaluating: 100%|██████████| 16/16 [00:00<00:00, 3200.84it/s]\n"
     ]
    },
    {
     "name": "stdout",
     "output_type": "stream",
     "text": [
      "Epoch 81/250\n",
      "Training Loss: 0.0107, Training Accuracy: 1.0000\n",
      "Test Loss: 0.0069, Test Accuracy: 1.0000\n",
      "\n"
     ]
    },
    {
     "name": "stderr",
     "output_type": "stream",
     "text": [
      "Training: 100%|██████████| 62/62 [00:00<00:00, 1659.55it/s]\n",
      "Evaluating: 100%|██████████| 16/16 [00:00<00:00, 4001.01it/s]\n"
     ]
    },
    {
     "name": "stdout",
     "output_type": "stream",
     "text": [
      "Epoch 82/250\n",
      "Training Loss: 0.0106, Training Accuracy: 1.0000\n",
      "Test Loss: 0.0068, Test Accuracy: 1.0000\n",
      "\n"
     ]
    },
    {
     "name": "stderr",
     "output_type": "stream",
     "text": [
      "Training: 100%|██████████| 62/62 [00:00<00:00, 1667.81it/s]\n",
      "Evaluating: 100%|██████████| 16/16 [00:00<00:00, 3199.93it/s]\n"
     ]
    },
    {
     "name": "stdout",
     "output_type": "stream",
     "text": [
      "Epoch 83/250\n",
      "Training Loss: 0.0105, Training Accuracy: 1.0000\n",
      "Test Loss: 0.0067, Test Accuracy: 1.0000\n",
      "\n"
     ]
    },
    {
     "name": "stderr",
     "output_type": "stream",
     "text": [
      "Training: 100%|██████████| 62/62 [00:00<00:00, 1665.72it/s]\n",
      "Evaluating: 100%|██████████| 16/16 [00:00<00:00, 3808.46it/s]\n"
     ]
    },
    {
     "name": "stdout",
     "output_type": "stream",
     "text": [
      "Epoch 84/250\n",
      "Training Loss: 0.0105, Training Accuracy: 1.0000\n",
      "Test Loss: 0.0066, Test Accuracy: 1.0000\n",
      "\n"
     ]
    },
    {
     "name": "stderr",
     "output_type": "stream",
     "text": [
      "Training: 100%|██████████| 62/62 [00:00<00:00, 1707.51it/s]\n",
      "Evaluating: 100%|██████████| 16/16 [00:00<00:00, 3200.23it/s]\n"
     ]
    },
    {
     "name": "stdout",
     "output_type": "stream",
     "text": [
      "Epoch 85/250\n",
      "Training Loss: 0.0104, Training Accuracy: 1.0000\n",
      "Test Loss: 0.0065, Test Accuracy: 1.0000\n",
      "\n"
     ]
    },
    {
     "name": "stderr",
     "output_type": "stream",
     "text": [
      "Training: 100%|██████████| 62/62 [00:00<00:00, 1659.50it/s]\n",
      "Evaluating: 100%|██████████| 16/16 [00:00<00:00, 3200.69it/s]\n"
     ]
    },
    {
     "name": "stdout",
     "output_type": "stream",
     "text": [
      "Epoch 86/250\n",
      "Training Loss: 0.0104, Training Accuracy: 1.0000\n",
      "Test Loss: 0.0065, Test Accuracy: 1.0000\n",
      "\n"
     ]
    },
    {
     "name": "stderr",
     "output_type": "stream",
     "text": [
      "Training: 100%|██████████| 62/62 [00:00<00:00, 1579.18it/s]\n",
      "Evaluating: 100%|██████████| 16/16 [00:00<00:00, 3200.69it/s]\n"
     ]
    },
    {
     "name": "stdout",
     "output_type": "stream",
     "text": [
      "Epoch 87/250\n",
      "Training Loss: 0.0102, Training Accuracy: 1.0000\n",
      "Test Loss: 0.0064, Test Accuracy: 1.0000\n",
      "\n"
     ]
    },
    {
     "name": "stderr",
     "output_type": "stream",
     "text": [
      "Training: 100%|██████████| 62/62 [00:00<00:00, 1713.00it/s]\n",
      "Evaluating: 100%|██████████| 16/16 [00:00<00:00, 3046.66it/s]\n"
     ]
    },
    {
     "name": "stdout",
     "output_type": "stream",
     "text": [
      "Epoch 88/250\n",
      "Training Loss: 0.0101, Training Accuracy: 1.0000\n",
      "Test Loss: 0.0063, Test Accuracy: 1.0000\n",
      "\n"
     ]
    },
    {
     "name": "stderr",
     "output_type": "stream",
     "text": [
      "Training: 100%|██████████| 62/62 [00:00<00:00, 1542.58it/s]\n",
      "Evaluating: 100%|██████████| 16/16 [00:00<00:00, 2625.95it/s]\n"
     ]
    },
    {
     "name": "stdout",
     "output_type": "stream",
     "text": [
      "Epoch 89/250\n",
      "Training Loss: 0.0099, Training Accuracy: 1.0000\n",
      "Test Loss: 0.0062, Test Accuracy: 1.0000\n",
      "\n"
     ]
    },
    {
     "name": "stderr",
     "output_type": "stream",
     "text": [
      "Training: 100%|██████████| 62/62 [00:00<00:00, 1263.37it/s]\n",
      "Evaluating: 100%|██████████| 16/16 [00:00<00:00, 3200.08it/s]\n"
     ]
    },
    {
     "name": "stdout",
     "output_type": "stream",
     "text": [
      "Epoch 90/250\n",
      "Training Loss: 0.0098, Training Accuracy: 1.0000\n",
      "Test Loss: 0.0062, Test Accuracy: 1.0000\n",
      "\n"
     ]
    },
    {
     "name": "stderr",
     "output_type": "stream",
     "text": [
      "Training: 100%|██████████| 62/62 [00:00<00:00, 1665.54it/s]\n",
      "Evaluating: 100%|██████████| 16/16 [00:00<00:00, 3200.08it/s]\n"
     ]
    },
    {
     "name": "stdout",
     "output_type": "stream",
     "text": [
      "Epoch 91/250\n",
      "Training Loss: 0.0098, Training Accuracy: 1.0000\n",
      "Test Loss: 0.0061, Test Accuracy: 1.0000\n",
      "\n"
     ]
    },
    {
     "name": "stderr",
     "output_type": "stream",
     "text": [
      "Training: 100%|██████████| 62/62 [00:00<00:00, 1654.92it/s]\n",
      "Evaluating: 100%|██████████| 16/16 [00:00<00:00, 3200.08it/s]\n"
     ]
    },
    {
     "name": "stdout",
     "output_type": "stream",
     "text": [
      "Epoch 92/250\n",
      "Training Loss: 0.0096, Training Accuracy: 1.0000\n",
      "Test Loss: 0.0060, Test Accuracy: 1.0000\n",
      "\n"
     ]
    },
    {
     "name": "stderr",
     "output_type": "stream",
     "text": [
      "Training: 100%|██████████| 62/62 [00:00<00:00, 1657.87it/s]\n",
      "Evaluating: 100%|██████████| 16/16 [00:00<00:00, 3199.77it/s]\n"
     ]
    },
    {
     "name": "stdout",
     "output_type": "stream",
     "text": [
      "Epoch 93/250\n",
      "Training Loss: 0.0096, Training Accuracy: 1.0000\n",
      "Test Loss: 0.0060, Test Accuracy: 1.0000\n",
      "\n"
     ]
    },
    {
     "name": "stderr",
     "output_type": "stream",
     "text": [
      "Training: 100%|██████████| 62/62 [00:00<00:00, 1666.30it/s]\n",
      "Evaluating: 100%|██████████| 16/16 [00:00<00:00, 3199.93it/s]\n"
     ]
    },
    {
     "name": "stdout",
     "output_type": "stream",
     "text": [
      "Epoch 94/250\n",
      "Training Loss: 0.0095, Training Accuracy: 1.0000\n",
      "Test Loss: 0.0059, Test Accuracy: 1.0000\n",
      "\n"
     ]
    },
    {
     "name": "stderr",
     "output_type": "stream",
     "text": [
      "Training: 100%|██████████| 62/62 [00:00<00:00, 1616.71it/s]\n",
      "Evaluating: 100%|██████████| 16/16 [00:00<00:00, 3200.54it/s]\n"
     ]
    },
    {
     "name": "stdout",
     "output_type": "stream",
     "text": [
      "Epoch 95/250\n",
      "Training Loss: 0.0094, Training Accuracy: 1.0000\n",
      "Test Loss: 0.0058, Test Accuracy: 1.0000\n",
      "\n"
     ]
    },
    {
     "name": "stderr",
     "output_type": "stream",
     "text": [
      "Training: 100%|██████████| 62/62 [00:00<00:00, 1577.45it/s]\n",
      "Evaluating: 100%|██████████| 16/16 [00:00<00:00, 3199.16it/s]\n"
     ]
    },
    {
     "name": "stdout",
     "output_type": "stream",
     "text": [
      "Epoch 96/250\n",
      "Training Loss: 0.0093, Training Accuracy: 1.0000\n",
      "Test Loss: 0.0057, Test Accuracy: 1.0000\n",
      "\n"
     ]
    },
    {
     "name": "stderr",
     "output_type": "stream",
     "text": [
      "Training: 100%|██████████| 62/62 [00:00<00:00, 1471.69it/s]\n",
      "Evaluating: 100%|██████████| 16/16 [00:00<00:00, 3141.51it/s]\n"
     ]
    },
    {
     "name": "stdout",
     "output_type": "stream",
     "text": [
      "Epoch 97/250\n",
      "Training Loss: 0.0092, Training Accuracy: 1.0000\n",
      "Test Loss: 0.0057, Test Accuracy: 1.0000\n",
      "\n"
     ]
    },
    {
     "name": "stderr",
     "output_type": "stream",
     "text": [
      "Training: 100%|██████████| 62/62 [00:00<00:00, 1575.18it/s]\n",
      "Evaluating: 100%|██████████| 16/16 [00:00<00:00, 3148.14it/s]\n"
     ]
    },
    {
     "name": "stdout",
     "output_type": "stream",
     "text": [
      "Epoch 98/250\n",
      "Training Loss: 0.0091, Training Accuracy: 1.0000\n",
      "Test Loss: 0.0056, Test Accuracy: 1.0000\n",
      "\n"
     ]
    },
    {
     "name": "stderr",
     "output_type": "stream",
     "text": [
      "Training: 100%|██████████| 62/62 [00:00<00:00, 1540.89it/s]\n",
      "Evaluating: 100%|██████████| 16/16 [00:00<00:00, 2666.65it/s]\n"
     ]
    },
    {
     "name": "stdout",
     "output_type": "stream",
     "text": [
      "Epoch 99/250\n",
      "Training Loss: 0.0091, Training Accuracy: 1.0000\n",
      "Test Loss: 0.0056, Test Accuracy: 1.0000\n",
      "\n"
     ]
    },
    {
     "name": "stderr",
     "output_type": "stream",
     "text": [
      "Training: 100%|██████████| 62/62 [00:00<00:00, 1498.26it/s]\n",
      "Evaluating: 100%|██████████| 16/16 [00:00<00:00, 3104.02it/s]\n"
     ]
    },
    {
     "name": "stdout",
     "output_type": "stream",
     "text": [
      "Epoch 100/250\n",
      "Training Loss: 0.0093, Training Accuracy: 1.0000\n",
      "Test Loss: 0.0055, Test Accuracy: 1.0000\n",
      "\n"
     ]
    },
    {
     "name": "stderr",
     "output_type": "stream",
     "text": [
      "Training: 100%|██████████| 62/62 [00:00<00:00, 1533.27it/s]\n",
      "Evaluating: 100%|██████████| 16/16 [00:00<00:00, 3119.31it/s]\n"
     ]
    },
    {
     "name": "stdout",
     "output_type": "stream",
     "text": [
      "Epoch 101/250\n",
      "Training Loss: 0.0089, Training Accuracy: 1.0000\n",
      "Test Loss: 0.0054, Test Accuracy: 1.0000\n",
      "\n"
     ]
    },
    {
     "name": "stderr",
     "output_type": "stream",
     "text": [
      "Training: 100%|██████████| 62/62 [00:00<00:00, 1480.29it/s]\n",
      "Evaluating: 100%|██████████| 16/16 [00:00<00:00, 3127.31it/s]\n"
     ]
    },
    {
     "name": "stdout",
     "output_type": "stream",
     "text": [
      "Epoch 102/250\n",
      "Training Loss: 0.0089, Training Accuracy: 1.0000\n",
      "Test Loss: 0.0054, Test Accuracy: 1.0000\n",
      "\n"
     ]
    },
    {
     "name": "stderr",
     "output_type": "stream",
     "text": [
      "Training: 100%|██████████| 62/62 [00:00<00:00, 1598.47it/s]\n",
      "Evaluating: 100%|██████████| 16/16 [00:00<00:00, 3200.23it/s]\n"
     ]
    },
    {
     "name": "stdout",
     "output_type": "stream",
     "text": [
      "Epoch 103/250\n",
      "Training Loss: 0.0087, Training Accuracy: 1.0000\n",
      "Test Loss: 0.0053, Test Accuracy: 1.0000\n",
      "\n"
     ]
    },
    {
     "name": "stderr",
     "output_type": "stream",
     "text": [
      "Training: 100%|██████████| 62/62 [00:00<00:00, 1589.70it/s]\n",
      "Evaluating: 100%|██████████| 16/16 [00:00<00:00, 3200.08it/s]\n"
     ]
    },
    {
     "name": "stdout",
     "output_type": "stream",
     "text": [
      "Epoch 104/250\n",
      "Training Loss: 0.0087, Training Accuracy: 1.0000\n",
      "Test Loss: 0.0053, Test Accuracy: 1.0000\n",
      "\n"
     ]
    },
    {
     "name": "stderr",
     "output_type": "stream",
     "text": [
      "Training: 100%|██████████| 62/62 [00:00<00:00, 1588.42it/s]\n",
      "Evaluating: 100%|██████████| 16/16 [00:00<00:00, 3200.54it/s]\n"
     ]
    },
    {
     "name": "stdout",
     "output_type": "stream",
     "text": [
      "Epoch 105/250\n",
      "Training Loss: 0.0086, Training Accuracy: 1.0000\n",
      "Test Loss: 0.0052, Test Accuracy: 1.0000\n",
      "\n"
     ]
    },
    {
     "name": "stderr",
     "output_type": "stream",
     "text": [
      "Training: 100%|██████████| 62/62 [00:00<00:00, 1631.61it/s]\n",
      "Evaluating: 100%|██████████| 16/16 [00:00<00:00, 3199.93it/s]\n"
     ]
    },
    {
     "name": "stdout",
     "output_type": "stream",
     "text": [
      "Epoch 106/250\n",
      "Training Loss: 0.0086, Training Accuracy: 1.0000\n",
      "Test Loss: 0.0051, Test Accuracy: 1.0000\n",
      "\n"
     ]
    },
    {
     "name": "stderr",
     "output_type": "stream",
     "text": [
      "Training: 100%|██████████| 62/62 [00:00<00:00, 1507.22it/s]\n",
      "Evaluating: 100%|██████████| 16/16 [00:00<00:00, 3200.08it/s]\n"
     ]
    },
    {
     "name": "stdout",
     "output_type": "stream",
     "text": [
      "Epoch 107/250\n",
      "Training Loss: 0.0085, Training Accuracy: 1.0000\n",
      "Test Loss: 0.0051, Test Accuracy: 1.0000\n",
      "\n"
     ]
    },
    {
     "name": "stderr",
     "output_type": "stream",
     "text": [
      "Training: 100%|██████████| 62/62 [00:00<00:00, 1659.40it/s]\n",
      "Evaluating: 100%|██████████| 16/16 [00:00<00:00, 4000.53it/s]\n"
     ]
    },
    {
     "name": "stdout",
     "output_type": "stream",
     "text": [
      "Epoch 108/250\n",
      "Training Loss: 0.0084, Training Accuracy: 1.0000\n",
      "Test Loss: 0.0050, Test Accuracy: 1.0000\n",
      "\n"
     ]
    },
    {
     "name": "stderr",
     "output_type": "stream",
     "text": [
      "Training: 100%|██████████| 62/62 [00:00<00:00, 1631.53it/s]\n",
      "Evaluating: 100%|██████████| 16/16 [00:00<00:00, 3999.81it/s]\n"
     ]
    },
    {
     "name": "stdout",
     "output_type": "stream",
     "text": [
      "Epoch 109/250\n",
      "Training Loss: 0.0084, Training Accuracy: 1.0000\n",
      "Test Loss: 0.0050, Test Accuracy: 1.0000\n",
      "\n"
     ]
    },
    {
     "name": "stderr",
     "output_type": "stream",
     "text": [
      "Training: 100%|██████████| 62/62 [00:00<00:00, 1666.30it/s]\n",
      "Evaluating: 100%|██████████| 16/16 [00:00<00:00, 3200.69it/s]\n"
     ]
    },
    {
     "name": "stdout",
     "output_type": "stream",
     "text": [
      "Epoch 110/250\n",
      "Training Loss: 0.0084, Training Accuracy: 1.0000\n",
      "Test Loss: 0.0049, Test Accuracy: 1.0000\n",
      "\n"
     ]
    },
    {
     "name": "stderr",
     "output_type": "stream",
     "text": [
      "Training: 100%|██████████| 62/62 [00:00<00:00, 1621.80it/s]\n",
      "Evaluating: 100%|██████████| 16/16 [00:00<00:00, 3200.69it/s]\n"
     ]
    },
    {
     "name": "stdout",
     "output_type": "stream",
     "text": [
      "Epoch 111/250\n",
      "Training Loss: 0.0097, Training Accuracy: 1.0000\n",
      "Test Loss: 0.0048, Test Accuracy: 1.0000\n",
      "\n"
     ]
    },
    {
     "name": "stderr",
     "output_type": "stream",
     "text": [
      "Training: 100%|██████████| 62/62 [00:00<00:00, 1543.78it/s]\n",
      "Evaluating: 100%|██████████| 16/16 [00:00<00:00, 3200.38it/s]\n"
     ]
    },
    {
     "name": "stdout",
     "output_type": "stream",
     "text": [
      "Epoch 112/250\n",
      "Training Loss: 0.0081, Training Accuracy: 1.0000\n",
      "Test Loss: 0.0048, Test Accuracy: 1.0000\n",
      "\n"
     ]
    },
    {
     "name": "stderr",
     "output_type": "stream",
     "text": [
      "Training: 100%|██████████| 62/62 [00:00<00:00, 1187.97it/s]\n",
      "Evaluating: 100%|██████████| 16/16 [00:00<00:00, 3200.69it/s]\n"
     ]
    },
    {
     "name": "stdout",
     "output_type": "stream",
     "text": [
      "Epoch 113/250\n",
      "Training Loss: 0.0080, Training Accuracy: 1.0000\n",
      "Test Loss: 0.0048, Test Accuracy: 1.0000\n",
      "\n"
     ]
    },
    {
     "name": "stderr",
     "output_type": "stream",
     "text": [
      "Training: 100%|██████████| 62/62 [00:00<00:00, 1291.64it/s]\n",
      "Evaluating: 100%|██████████| 16/16 [00:00<00:00, 3122.94it/s]\n"
     ]
    },
    {
     "name": "stdout",
     "output_type": "stream",
     "text": [
      "Epoch 114/250\n",
      "Training Loss: 0.0080, Training Accuracy: 1.0000\n",
      "Test Loss: 0.0047, Test Accuracy: 1.0000\n",
      "\n"
     ]
    },
    {
     "name": "stderr",
     "output_type": "stream",
     "text": [
      "Training: 100%|██████████| 62/62 [00:00<00:00, 1476.22it/s]\n",
      "Evaluating: 100%|██████████| 16/16 [00:00<00:00, 3200.08it/s]\n"
     ]
    },
    {
     "name": "stdout",
     "output_type": "stream",
     "text": [
      "Epoch 115/250\n",
      "Training Loss: 0.0079, Training Accuracy: 1.0000\n",
      "Test Loss: 0.0047, Test Accuracy: 1.0000\n",
      "\n"
     ]
    },
    {
     "name": "stderr",
     "output_type": "stream",
     "text": [
      "Training: 100%|██████████| 62/62 [00:00<00:00, 1631.59it/s]\n",
      "Evaluating: 100%|██████████| 16/16 [00:00<00:00, 3200.23it/s]\n"
     ]
    },
    {
     "name": "stdout",
     "output_type": "stream",
     "text": [
      "Epoch 116/250\n",
      "Training Loss: 0.0078, Training Accuracy: 1.0000\n",
      "Test Loss: 0.0046, Test Accuracy: 1.0000\n",
      "\n"
     ]
    },
    {
     "name": "stderr",
     "output_type": "stream",
     "text": [
      "Training: 100%|██████████| 62/62 [00:00<00:00, 1504.88it/s]\n",
      "Evaluating: 100%|██████████| 16/16 [00:00<00:00, 3200.23it/s]\n"
     ]
    },
    {
     "name": "stdout",
     "output_type": "stream",
     "text": [
      "Epoch 117/250\n",
      "Training Loss: 0.0078, Training Accuracy: 1.0000\n",
      "Test Loss: 0.0046, Test Accuracy: 1.0000\n",
      "\n"
     ]
    },
    {
     "name": "stderr",
     "output_type": "stream",
     "text": [
      "Training: 100%|██████████| 62/62 [00:00<00:00, 1548.91it/s]\n",
      "Evaluating: 100%|██████████| 16/16 [00:00<00:00, 3199.93it/s]\n"
     ]
    },
    {
     "name": "stdout",
     "output_type": "stream",
     "text": [
      "Epoch 118/250\n",
      "Training Loss: 0.0077, Training Accuracy: 1.0000\n",
      "Test Loss: 0.0045, Test Accuracy: 1.0000\n",
      "\n"
     ]
    },
    {
     "name": "stderr",
     "output_type": "stream",
     "text": [
      "Training: 100%|██████████| 62/62 [00:00<00:00, 1585.35it/s]\n",
      "Evaluating: 100%|██████████| 16/16 [00:00<00:00, 3199.93it/s]\n"
     ]
    },
    {
     "name": "stdout",
     "output_type": "stream",
     "text": [
      "Epoch 119/250\n",
      "Training Loss: 0.0076, Training Accuracy: 1.0000\n",
      "Test Loss: 0.0045, Test Accuracy: 1.0000\n",
      "\n"
     ]
    },
    {
     "name": "stderr",
     "output_type": "stream",
     "text": [
      "Training: 100%|██████████| 62/62 [00:00<00:00, 1625.15it/s]\n",
      "Evaluating: 100%|██████████| 16/16 [00:00<00:00, 4001.01it/s]\n"
     ]
    },
    {
     "name": "stdout",
     "output_type": "stream",
     "text": [
      "Epoch 120/250\n",
      "Training Loss: 0.0076, Training Accuracy: 1.0000\n",
      "Test Loss: 0.0044, Test Accuracy: 1.0000\n",
      "\n"
     ]
    },
    {
     "name": "stderr",
     "output_type": "stream",
     "text": [
      "Training: 100%|██████████| 62/62 [00:00<00:00, 1629.65it/s]\n",
      "Evaluating: 100%|██████████| 16/16 [00:00<00:00, 3200.23it/s]\n"
     ]
    },
    {
     "name": "stdout",
     "output_type": "stream",
     "text": [
      "Epoch 121/250\n",
      "Training Loss: 0.0075, Training Accuracy: 1.0000\n",
      "Test Loss: 0.0044, Test Accuracy: 1.0000\n",
      "\n"
     ]
    },
    {
     "name": "stderr",
     "output_type": "stream",
     "text": [
      "Training: 100%|██████████| 62/62 [00:00<00:00, 1586.46it/s]\n",
      "Evaluating: 100%|██████████| 16/16 [00:00<00:00, 4000.77it/s]\n"
     ]
    },
    {
     "name": "stdout",
     "output_type": "stream",
     "text": [
      "Epoch 122/250\n",
      "Training Loss: 0.0074, Training Accuracy: 1.0000\n",
      "Test Loss: 0.0043, Test Accuracy: 1.0000\n",
      "\n"
     ]
    },
    {
     "name": "stderr",
     "output_type": "stream",
     "text": [
      "Training: 100%|██████████| 62/62 [00:00<00:00, 1585.65it/s]\n",
      "Evaluating: 100%|██████████| 16/16 [00:00<00:00, 3200.08it/s]\n"
     ]
    },
    {
     "name": "stdout",
     "output_type": "stream",
     "text": [
      "Epoch 123/250\n",
      "Training Loss: 0.0074, Training Accuracy: 1.0000\n",
      "Test Loss: 0.0043, Test Accuracy: 1.0000\n",
      "\n"
     ]
    },
    {
     "name": "stderr",
     "output_type": "stream",
     "text": [
      "Training: 100%|██████████| 62/62 [00:00<00:00, 1631.56it/s]\n",
      "Evaluating: 100%|██████████| 16/16 [00:00<00:00, 3199.16it/s]\n"
     ]
    },
    {
     "name": "stdout",
     "output_type": "stream",
     "text": [
      "Epoch 124/250\n",
      "Training Loss: 0.0073, Training Accuracy: 1.0000\n",
      "Test Loss: 0.0042, Test Accuracy: 1.0000\n",
      "\n"
     ]
    },
    {
     "name": "stderr",
     "output_type": "stream",
     "text": [
      "Training: 100%|██████████| 62/62 [00:00<00:00, 1584.85it/s]\n",
      "Evaluating: 100%|██████████| 16/16 [00:00<00:00, 3200.08it/s]\n"
     ]
    },
    {
     "name": "stdout",
     "output_type": "stream",
     "text": [
      "Epoch 125/250\n",
      "Training Loss: 0.0073, Training Accuracy: 1.0000\n",
      "Test Loss: 0.0042, Test Accuracy: 1.0000\n",
      "\n"
     ]
    },
    {
     "name": "stderr",
     "output_type": "stream",
     "text": [
      "Training: 100%|██████████| 62/62 [00:00<00:00, 1585.51it/s]\n",
      "Evaluating: 100%|██████████| 16/16 [00:00<00:00, 3999.81it/s]\n"
     ]
    },
    {
     "name": "stdout",
     "output_type": "stream",
     "text": [
      "Epoch 126/250\n",
      "Training Loss: 0.0072, Training Accuracy: 1.0000\n",
      "Test Loss: 0.0042, Test Accuracy: 1.0000\n",
      "\n"
     ]
    },
    {
     "name": "stderr",
     "output_type": "stream",
     "text": [
      "Training: 100%|██████████| 62/62 [00:00<00:00, 1631.63it/s]\n",
      "Evaluating: 100%|██████████| 16/16 [00:00<00:00, 3199.62it/s]\n"
     ]
    },
    {
     "name": "stdout",
     "output_type": "stream",
     "text": [
      "Epoch 127/250\n",
      "Training Loss: 0.0073, Training Accuracy: 1.0000\n",
      "Test Loss: 0.0041, Test Accuracy: 1.0000\n",
      "\n"
     ]
    },
    {
     "name": "stderr",
     "output_type": "stream",
     "text": [
      "Training: 100%|██████████| 62/62 [00:00<00:00, 1581.21it/s]\n",
      "Evaluating: 100%|██████████| 16/16 [00:00<00:00, 3201.00it/s]\n"
     ]
    },
    {
     "name": "stdout",
     "output_type": "stream",
     "text": [
      "Epoch 128/250\n",
      "Training Loss: 0.0071, Training Accuracy: 1.0000\n",
      "Test Loss: 0.0041, Test Accuracy: 1.0000\n",
      "\n"
     ]
    },
    {
     "name": "stderr",
     "output_type": "stream",
     "text": [
      "Training: 100%|██████████| 62/62 [00:00<00:00, 1627.33it/s]\n",
      "Evaluating: 100%|██████████| 16/16 [00:00<00:00, 3200.69it/s]\n"
     ]
    },
    {
     "name": "stdout",
     "output_type": "stream",
     "text": [
      "Epoch 129/250\n",
      "Training Loss: 0.0070, Training Accuracy: 1.0000\n",
      "Test Loss: 0.0040, Test Accuracy: 1.0000\n",
      "\n"
     ]
    },
    {
     "name": "stderr",
     "output_type": "stream",
     "text": [
      "Training: 100%|██████████| 62/62 [00:00<00:00, 1631.61it/s]\n",
      "Evaluating: 100%|██████████| 16/16 [00:00<00:00, 4000.77it/s]\n"
     ]
    },
    {
     "name": "stdout",
     "output_type": "stream",
     "text": [
      "Epoch 130/250\n",
      "Training Loss: 0.0070, Training Accuracy: 1.0000\n",
      "Test Loss: 0.0040, Test Accuracy: 1.0000\n",
      "\n"
     ]
    },
    {
     "name": "stderr",
     "output_type": "stream",
     "text": [
      "Training: 100%|██████████| 62/62 [00:00<00:00, 1675.70it/s]\n",
      "Evaluating: 100%|██████████| 16/16 [00:00<00:00, 3200.84it/s]\n"
     ]
    },
    {
     "name": "stdout",
     "output_type": "stream",
     "text": [
      "Epoch 131/250\n",
      "Training Loss: 0.0069, Training Accuracy: 1.0000\n",
      "Test Loss: 0.0039, Test Accuracy: 1.0000\n",
      "\n"
     ]
    },
    {
     "name": "stderr",
     "output_type": "stream",
     "text": [
      "Training: 100%|██████████| 62/62 [00:00<00:00, 1623.46it/s]\n",
      "Evaluating: 100%|██████████| 16/16 [00:00<00:00, 2666.86it/s]\n"
     ]
    },
    {
     "name": "stdout",
     "output_type": "stream",
     "text": [
      "Epoch 132/250\n",
      "Training Loss: 0.0069, Training Accuracy: 1.0000\n",
      "Test Loss: 0.0039, Test Accuracy: 1.0000\n",
      "\n"
     ]
    },
    {
     "name": "stderr",
     "output_type": "stream",
     "text": [
      "Training: 100%|██████████| 62/62 [00:00<00:00, 1433.10it/s]\n",
      "Evaluating: 100%|██████████| 16/16 [00:00<00:00, 4000.53it/s]\n"
     ]
    },
    {
     "name": "stdout",
     "output_type": "stream",
     "text": [
      "Epoch 133/250\n",
      "Training Loss: 0.0069, Training Accuracy: 1.0000\n",
      "Test Loss: 0.0039, Test Accuracy: 1.0000\n",
      "\n"
     ]
    },
    {
     "name": "stderr",
     "output_type": "stream",
     "text": [
      "Training: 100%|██████████| 62/62 [00:00<00:00, 1631.54it/s]\n",
      "Evaluating: 100%|██████████| 16/16 [00:00<00:00, 3201.00it/s]\n"
     ]
    },
    {
     "name": "stdout",
     "output_type": "stream",
     "text": [
      "Epoch 134/250\n",
      "Training Loss: 0.0068, Training Accuracy: 1.0000\n",
      "Test Loss: 0.0038, Test Accuracy: 1.0000\n",
      "\n"
     ]
    },
    {
     "name": "stderr",
     "output_type": "stream",
     "text": [
      "Training: 100%|██████████| 62/62 [00:00<00:00, 1438.29it/s]\n",
      "Evaluating: 100%|██████████| 16/16 [00:00<00:00, 3201.00it/s]\n"
     ]
    },
    {
     "name": "stdout",
     "output_type": "stream",
     "text": [
      "Epoch 135/250\n",
      "Training Loss: 0.0068, Training Accuracy: 1.0000\n",
      "Test Loss: 0.0038, Test Accuracy: 1.0000\n",
      "\n"
     ]
    },
    {
     "name": "stderr",
     "output_type": "stream",
     "text": [
      "Training: 100%|██████████| 62/62 [00:00<00:00, 1507.62it/s]\n",
      "Evaluating: 100%|██████████| 16/16 [00:00<00:00, 4001.01it/s]\n"
     ]
    },
    {
     "name": "stdout",
     "output_type": "stream",
     "text": [
      "Epoch 136/250\n",
      "Training Loss: 0.0067, Training Accuracy: 1.0000\n",
      "Test Loss: 0.0037, Test Accuracy: 1.0000\n",
      "\n"
     ]
    },
    {
     "name": "stderr",
     "output_type": "stream",
     "text": [
      "Training: 100%|██████████| 62/62 [00:00<00:00, 1541.86it/s]\n",
      "Evaluating: 100%|██████████| 16/16 [00:00<00:00, 3200.23it/s]\n"
     ]
    },
    {
     "name": "stdout",
     "output_type": "stream",
     "text": [
      "Epoch 137/250\n",
      "Training Loss: 0.0067, Training Accuracy: 1.0000\n",
      "Test Loss: 0.0037, Test Accuracy: 1.0000\n",
      "\n"
     ]
    },
    {
     "name": "stderr",
     "output_type": "stream",
     "text": [
      "Training: 100%|██████████| 62/62 [00:00<00:00, 1546.63it/s]\n",
      "Evaluating: 100%|██████████| 16/16 [00:00<00:00, 3199.93it/s]\n"
     ]
    },
    {
     "name": "stdout",
     "output_type": "stream",
     "text": [
      "Epoch 138/250\n",
      "Training Loss: 0.0065, Training Accuracy: 1.0000\n",
      "Test Loss: 0.0037, Test Accuracy: 1.0000\n",
      "\n"
     ]
    },
    {
     "name": "stderr",
     "output_type": "stream",
     "text": [
      "Training: 100%|██████████| 62/62 [00:00<00:00, 1549.99it/s]\n",
      "Evaluating: 100%|██████████| 16/16 [00:00<00:00, 3199.93it/s]\n"
     ]
    },
    {
     "name": "stdout",
     "output_type": "stream",
     "text": [
      "Epoch 139/250\n",
      "Training Loss: 0.0065, Training Accuracy: 1.0000\n",
      "Test Loss: 0.0036, Test Accuracy: 1.0000\n",
      "\n"
     ]
    },
    {
     "name": "stderr",
     "output_type": "stream",
     "text": [
      "Training: 100%|██████████| 62/62 [00:00<00:00, 1549.99it/s]\n",
      "Evaluating: 100%|██████████| 16/16 [00:00<00:00, 3128.04it/s]\n"
     ]
    },
    {
     "name": "stdout",
     "output_type": "stream",
     "text": [
      "Epoch 140/250\n",
      "Training Loss: 0.0065, Training Accuracy: 1.0000\n",
      "Test Loss: 0.0036, Test Accuracy: 1.0000\n",
      "\n"
     ]
    },
    {
     "name": "stderr",
     "output_type": "stream",
     "text": [
      "Training: 100%|██████████| 62/62 [00:00<00:00, 1585.28it/s]\n",
      "Evaluating: 100%|██████████| 16/16 [00:00<00:00, 4000.29it/s]\n"
     ]
    },
    {
     "name": "stdout",
     "output_type": "stream",
     "text": [
      "Epoch 141/250\n",
      "Training Loss: 0.0064, Training Accuracy: 1.0000\n",
      "Test Loss: 0.0036, Test Accuracy: 1.0000\n",
      "\n"
     ]
    },
    {
     "name": "stderr",
     "output_type": "stream",
     "text": [
      "Training: 100%|██████████| 62/62 [00:00<00:00, 1589.73it/s]\n",
      "Evaluating: 100%|██████████| 16/16 [00:00<00:00, 3199.77it/s]\n"
     ]
    },
    {
     "name": "stdout",
     "output_type": "stream",
     "text": [
      "Epoch 142/250\n",
      "Training Loss: 0.0064, Training Accuracy: 1.0000\n",
      "Test Loss: 0.0035, Test Accuracy: 1.0000\n",
      "\n"
     ]
    },
    {
     "name": "stderr",
     "output_type": "stream",
     "text": [
      "Training: 100%|██████████| 62/62 [00:00<00:00, 1545.86it/s]\n",
      "Evaluating: 100%|██████████| 16/16 [00:00<00:00, 4000.05it/s]\n"
     ]
    },
    {
     "name": "stdout",
     "output_type": "stream",
     "text": [
      "Epoch 143/250\n",
      "Training Loss: 0.0063, Training Accuracy: 1.0000\n",
      "Test Loss: 0.0035, Test Accuracy: 1.0000\n",
      "\n"
     ]
    },
    {
     "name": "stderr",
     "output_type": "stream",
     "text": [
      "Training: 100%|██████████| 62/62 [00:00<00:00, 1675.70it/s]\n",
      "Evaluating: 100%|██████████| 16/16 [00:00<00:00, 3999.81it/s]\n"
     ]
    },
    {
     "name": "stdout",
     "output_type": "stream",
     "text": [
      "Epoch 144/250\n",
      "Training Loss: 0.0062, Training Accuracy: 1.0000\n",
      "Test Loss: 0.0035, Test Accuracy: 1.0000\n",
      "\n"
     ]
    },
    {
     "name": "stderr",
     "output_type": "stream",
     "text": [
      "Training: 100%|██████████| 62/62 [00:00<00:00, 1132.64it/s]\n",
      "Evaluating: 100%|██████████| 16/16 [00:00<00:00, 1999.85it/s]\n"
     ]
    },
    {
     "name": "stdout",
     "output_type": "stream",
     "text": [
      "Epoch 145/250\n",
      "Training Loss: 0.0062, Training Accuracy: 1.0000\n",
      "Test Loss: 0.0034, Test Accuracy: 1.0000\n",
      "\n"
     ]
    },
    {
     "name": "stderr",
     "output_type": "stream",
     "text": [
      "Training: 100%|██████████| 62/62 [00:00<00:00, 1262.17it/s]\n",
      "Evaluating: 100%|██████████| 16/16 [00:00<00:00, 3201.15it/s]\n"
     ]
    },
    {
     "name": "stdout",
     "output_type": "stream",
     "text": [
      "Epoch 146/250\n",
      "Training Loss: 0.0062, Training Accuracy: 1.0000\n",
      "Test Loss: 0.0034, Test Accuracy: 1.0000\n",
      "\n"
     ]
    },
    {
     "name": "stderr",
     "output_type": "stream",
     "text": [
      "Training: 100%|██████████| 62/62 [00:00<00:00, 1716.41it/s]\n",
      "Evaluating: 100%|██████████| 16/16 [00:00<00:00, 2977.59it/s]\n"
     ]
    },
    {
     "name": "stdout",
     "output_type": "stream",
     "text": [
      "Epoch 147/250\n",
      "Training Loss: 0.0061, Training Accuracy: 1.0000\n",
      "Test Loss: 0.0034, Test Accuracy: 1.0000\n",
      "\n"
     ]
    },
    {
     "name": "stderr",
     "output_type": "stream",
     "text": [
      "Training: 100%|██████████| 62/62 [00:00<00:00, 1626.28it/s]\n",
      "Evaluating: 100%|██████████| 16/16 [00:00<00:00, 3999.81it/s]\n"
     ]
    },
    {
     "name": "stdout",
     "output_type": "stream",
     "text": [
      "Epoch 148/250\n",
      "Training Loss: 0.0061, Training Accuracy: 1.0000\n",
      "Test Loss: 0.0033, Test Accuracy: 1.0000\n",
      "\n"
     ]
    },
    {
     "name": "stderr",
     "output_type": "stream",
     "text": [
      "Training: 100%|██████████| 62/62 [00:00<00:00, 1625.93it/s]\n",
      "Evaluating: 100%|██████████| 16/16 [00:00<00:00, 3196.42it/s]\n"
     ]
    },
    {
     "name": "stdout",
     "output_type": "stream",
     "text": [
      "Epoch 149/250\n",
      "Training Loss: 0.0060, Training Accuracy: 1.0000\n",
      "Test Loss: 0.0033, Test Accuracy: 1.0000\n",
      "\n"
     ]
    },
    {
     "name": "stderr",
     "output_type": "stream",
     "text": [
      "Training: 100%|██████████| 62/62 [00:00<00:00, 1628.19it/s]\n",
      "Evaluating: 100%|██████████| 16/16 [00:00<00:00, 3196.42it/s]\n"
     ]
    },
    {
     "name": "stdout",
     "output_type": "stream",
     "text": [
      "Epoch 150/250\n",
      "Training Loss: 0.0060, Training Accuracy: 1.0000\n",
      "Test Loss: 0.0033, Test Accuracy: 1.0000\n",
      "\n"
     ]
    },
    {
     "name": "stderr",
     "output_type": "stream",
     "text": [
      "Training: 100%|██████████| 62/62 [00:00<00:00, 1047.24it/s]\n",
      "Evaluating: 100%|██████████| 16/16 [00:00<00:00, 2664.21it/s]\n"
     ]
    },
    {
     "name": "stdout",
     "output_type": "stream",
     "text": [
      "Epoch 151/250\n",
      "Training Loss: 0.0060, Training Accuracy: 1.0000\n",
      "Test Loss: 0.0032, Test Accuracy: 1.0000\n",
      "\n"
     ]
    },
    {
     "name": "stderr",
     "output_type": "stream",
     "text": [
      "Training: 100%|██████████| 62/62 [00:00<00:00, 1442.04it/s]\n",
      "Evaluating: 100%|██████████| 16/16 [00:00<00:00, 3195.81it/s]\n"
     ]
    },
    {
     "name": "stdout",
     "output_type": "stream",
     "text": [
      "Epoch 152/250\n",
      "Training Loss: 0.0059, Training Accuracy: 1.0000\n",
      "Test Loss: 0.0032, Test Accuracy: 1.0000\n",
      "\n"
     ]
    },
    {
     "name": "stderr",
     "output_type": "stream",
     "text": [
      "Training: 100%|██████████| 62/62 [00:00<00:00, 1475.91it/s]\n",
      "Evaluating: 100%|██████████| 16/16 [00:00<00:00, 2287.59it/s]\n"
     ]
    },
    {
     "name": "stdout",
     "output_type": "stream",
     "text": [
      "Epoch 153/250\n",
      "Training Loss: 0.0059, Training Accuracy: 1.0000\n",
      "Test Loss: 0.0032, Test Accuracy: 1.0000\n",
      "\n"
     ]
    },
    {
     "name": "stderr",
     "output_type": "stream",
     "text": [
      "Training: 100%|██████████| 62/62 [00:00<00:00, 999.91it/s]\n",
      "Evaluating: 100%|██████████| 16/16 [00:00<00:00, 3201.76it/s]\n"
     ]
    },
    {
     "name": "stdout",
     "output_type": "stream",
     "text": [
      "Epoch 154/250\n",
      "Training Loss: 0.0058, Training Accuracy: 1.0000\n",
      "Test Loss: 0.0032, Test Accuracy: 1.0000\n",
      "\n"
     ]
    },
    {
     "name": "stderr",
     "output_type": "stream",
     "text": [
      "Training: 100%|██████████| 62/62 [00:00<00:00, 1476.10it/s]\n",
      "Evaluating: 100%|██████████| 16/16 [00:00<00:00, 3204.66it/s]\n"
     ]
    },
    {
     "name": "stdout",
     "output_type": "stream",
     "text": [
      "Epoch 155/250\n",
      "Training Loss: 0.0057, Training Accuracy: 1.0000\n",
      "Test Loss: 0.0031, Test Accuracy: 1.0000\n",
      "\n"
     ]
    },
    {
     "name": "stderr",
     "output_type": "stream",
     "text": [
      "Training: 100%|██████████| 62/62 [00:00<00:00, 1050.94it/s]\n",
      "Evaluating: 100%|██████████| 16/16 [00:00<00:00, 2664.32it/s]\n"
     ]
    },
    {
     "name": "stdout",
     "output_type": "stream",
     "text": [
      "Epoch 156/250\n",
      "Training Loss: 0.0057, Training Accuracy: 1.0000\n",
      "Test Loss: 0.0031, Test Accuracy: 1.0000\n",
      "\n"
     ]
    },
    {
     "name": "stderr",
     "output_type": "stream",
     "text": [
      "Training: 100%|██████████| 62/62 [00:00<00:00, 1377.80it/s]\n",
      "Evaluating: 100%|██████████| 16/16 [00:00<00:00, 3200.23it/s]\n"
     ]
    },
    {
     "name": "stdout",
     "output_type": "stream",
     "text": [
      "Epoch 157/250\n",
      "Training Loss: 0.0057, Training Accuracy: 1.0000\n",
      "Test Loss: 0.0031, Test Accuracy: 1.0000\n",
      "\n"
     ]
    },
    {
     "name": "stderr",
     "output_type": "stream",
     "text": [
      "Training: 100%|██████████| 62/62 [00:00<00:00, 1550.21it/s]\n",
      "Evaluating: 100%|██████████| 16/16 [00:00<00:00, 3993.15it/s]\n"
     ]
    },
    {
     "name": "stdout",
     "output_type": "stream",
     "text": [
      "Epoch 158/250\n",
      "Training Loss: 0.0057, Training Accuracy: 1.0000\n",
      "Test Loss: 0.0030, Test Accuracy: 1.0000\n",
      "\n"
     ]
    },
    {
     "name": "stderr",
     "output_type": "stream",
     "text": [
      "Training: 100%|██████████| 62/62 [00:00<00:00, 1508.91it/s]\n",
      "Evaluating: 100%|██████████| 16/16 [00:00<00:00, 3200.69it/s]\n"
     ]
    },
    {
     "name": "stdout",
     "output_type": "stream",
     "text": [
      "Epoch 159/250\n",
      "Training Loss: 0.0056, Training Accuracy: 1.0000\n",
      "Test Loss: 0.0030, Test Accuracy: 1.0000\n",
      "\n"
     ]
    },
    {
     "name": "stderr",
     "output_type": "stream",
     "text": [
      "Training: 100%|██████████| 62/62 [00:00<00:00, 1585.39it/s]\n",
      "Evaluating: 100%|██████████| 16/16 [00:00<00:00, 3201.30it/s]\n"
     ]
    },
    {
     "name": "stdout",
     "output_type": "stream",
     "text": [
      "Epoch 160/250\n",
      "Training Loss: 0.0056, Training Accuracy: 1.0000\n",
      "Test Loss: 0.0030, Test Accuracy: 1.0000\n",
      "\n"
     ]
    },
    {
     "name": "stderr",
     "output_type": "stream",
     "text": [
      "Training: 100%|██████████| 62/62 [00:00<00:00, 1589.46it/s]\n",
      "Evaluating: 100%|██████████| 16/16 [00:00<00:00, 3993.62it/s]\n"
     ]
    },
    {
     "name": "stdout",
     "output_type": "stream",
     "text": [
      "Epoch 161/250\n",
      "Training Loss: 0.0055, Training Accuracy: 1.0000\n",
      "Test Loss: 0.0030, Test Accuracy: 1.0000\n",
      "\n"
     ]
    },
    {
     "name": "stderr",
     "output_type": "stream",
     "text": [
      "Training: 100%|██████████| 62/62 [00:00<00:00, 1622.06it/s]\n",
      "Evaluating: 100%|██████████| 16/16 [00:00<00:00, 3095.28it/s]\n"
     ]
    },
    {
     "name": "stdout",
     "output_type": "stream",
     "text": [
      "Epoch 162/250\n",
      "Training Loss: 0.0054, Training Accuracy: 1.0000\n",
      "Test Loss: 0.0029, Test Accuracy: 1.0000\n",
      "\n"
     ]
    },
    {
     "name": "stderr",
     "output_type": "stream",
     "text": [
      "Training: 100%|██████████| 62/62 [00:00<00:00, 1611.48it/s]\n",
      "Evaluating: 100%|██████████| 16/16 [00:00<00:00, 3992.91it/s]\n"
     ]
    },
    {
     "name": "stdout",
     "output_type": "stream",
     "text": [
      "Epoch 163/250\n",
      "Training Loss: 0.0054, Training Accuracy: 1.0000\n",
      "Test Loss: 0.0029, Test Accuracy: 1.0000\n",
      "\n"
     ]
    },
    {
     "name": "stderr",
     "output_type": "stream",
     "text": [
      "Training: 100%|██████████| 62/62 [00:00<00:00, 1589.39it/s]\n",
      "Evaluating: 100%|██████████| 16/16 [00:00<00:00, 3195.66it/s]\n"
     ]
    },
    {
     "name": "stdout",
     "output_type": "stream",
     "text": [
      "Epoch 164/250\n",
      "Training Loss: 0.0054, Training Accuracy: 1.0000\n",
      "Test Loss: 0.0029, Test Accuracy: 1.0000\n",
      "\n"
     ]
    },
    {
     "name": "stderr",
     "output_type": "stream",
     "text": [
      "Training: 100%|██████████| 62/62 [00:00<00:00, 1631.88it/s]\n",
      "Evaluating: 100%|██████████| 16/16 [00:00<00:00, 3195.51it/s]\n"
     ]
    },
    {
     "name": "stdout",
     "output_type": "stream",
     "text": [
      "Epoch 165/250\n",
      "Training Loss: 0.0054, Training Accuracy: 1.0000\n",
      "Test Loss: 0.0028, Test Accuracy: 1.0000\n",
      "\n"
     ]
    },
    {
     "name": "stderr",
     "output_type": "stream",
     "text": [
      "Training: 100%|██████████| 62/62 [00:00<00:00, 1507.55it/s]\n",
      "Evaluating: 100%|██████████| 16/16 [00:00<00:00, 3088.73it/s]\n"
     ]
    },
    {
     "name": "stdout",
     "output_type": "stream",
     "text": [
      "Epoch 166/250\n",
      "Training Loss: 0.0054, Training Accuracy: 1.0000\n",
      "Test Loss: 0.0028, Test Accuracy: 1.0000\n",
      "\n"
     ]
    },
    {
     "name": "stderr",
     "output_type": "stream",
     "text": [
      "Training: 100%|██████████| 62/62 [00:00<00:00, 1532.67it/s]\n",
      "Evaluating: 100%|██████████| 16/16 [00:00<00:00, 3195.51it/s]\n"
     ]
    },
    {
     "name": "stdout",
     "output_type": "stream",
     "text": [
      "Epoch 167/250\n",
      "Training Loss: 0.0052, Training Accuracy: 1.0000\n",
      "Test Loss: 0.0028, Test Accuracy: 1.0000\n",
      "\n"
     ]
    },
    {
     "name": "stderr",
     "output_type": "stream",
     "text": [
      "Training: 100%|██████████| 62/62 [00:00<00:00, 1631.36it/s]\n",
      "Evaluating: 100%|██████████| 16/16 [00:00<00:00, 3993.39it/s]\n"
     ]
    },
    {
     "name": "stdout",
     "output_type": "stream",
     "text": [
      "Epoch 168/250\n",
      "Training Loss: 0.0053, Training Accuracy: 1.0000\n",
      "Test Loss: 0.0028, Test Accuracy: 1.0000\n",
      "\n"
     ]
    },
    {
     "name": "stderr",
     "output_type": "stream",
     "text": [
      "Training: 100%|██████████| 62/62 [00:00<00:00, 1663.69it/s]\n",
      "Evaluating: 100%|██████████| 16/16 [00:00<00:00, 3195.36it/s]\n"
     ]
    },
    {
     "name": "stdout",
     "output_type": "stream",
     "text": [
      "Epoch 169/250\n",
      "Training Loss: 0.0052, Training Accuracy: 1.0000\n",
      "Test Loss: 0.0027, Test Accuracy: 1.0000\n",
      "\n"
     ]
    },
    {
     "name": "stderr",
     "output_type": "stream",
     "text": [
      "Training: 100%|██████████| 62/62 [00:00<00:00, 1581.51it/s]\n",
      "Evaluating: 100%|██████████| 16/16 [00:00<00:00, 2285.72it/s]\n"
     ]
    },
    {
     "name": "stdout",
     "output_type": "stream",
     "text": [
      "Epoch 170/250\n",
      "Training Loss: 0.0051, Training Accuracy: 1.0000\n",
      "Test Loss: 0.0027, Test Accuracy: 1.0000\n",
      "\n"
     ]
    },
    {
     "name": "stderr",
     "output_type": "stream",
     "text": [
      "Training: 100%|██████████| 62/62 [00:00<00:00, 1347.65it/s]\n",
      "Evaluating: 100%|██████████| 16/16 [00:00<00:00, 3195.66it/s]\n"
     ]
    },
    {
     "name": "stdout",
     "output_type": "stream",
     "text": [
      "Epoch 171/250\n",
      "Training Loss: 0.0051, Training Accuracy: 1.0000\n",
      "Test Loss: 0.0027, Test Accuracy: 1.0000\n",
      "\n"
     ]
    },
    {
     "name": "stderr",
     "output_type": "stream",
     "text": [
      "Training: 100%|██████████| 62/62 [00:00<00:00, 1620.72it/s]\n",
      "Evaluating: 100%|██████████| 16/16 [00:00<00:00, 3092.29it/s]\n"
     ]
    },
    {
     "name": "stdout",
     "output_type": "stream",
     "text": [
      "Epoch 172/250\n",
      "Training Loss: 0.0058, Training Accuracy: 1.0000\n",
      "Test Loss: 0.0027, Test Accuracy: 1.0000\n",
      "\n"
     ]
    },
    {
     "name": "stderr",
     "output_type": "stream",
     "text": [
      "Training: 100%|██████████| 62/62 [00:00<00:00, 1546.34it/s]\n",
      "Evaluating: 100%|██████████| 16/16 [00:00<00:00, 3195.36it/s]\n"
     ]
    },
    {
     "name": "stdout",
     "output_type": "stream",
     "text": [
      "Epoch 173/250\n",
      "Training Loss: 0.0050, Training Accuracy: 1.0000\n",
      "Test Loss: 0.0026, Test Accuracy: 1.0000\n",
      "\n"
     ]
    },
    {
     "name": "stderr",
     "output_type": "stream",
     "text": [
      "Training: 100%|██████████| 62/62 [00:00<00:00, 1621.53it/s]\n",
      "Evaluating: 100%|██████████| 16/16 [00:00<00:00, 3202.37it/s]\n"
     ]
    },
    {
     "name": "stdout",
     "output_type": "stream",
     "text": [
      "Epoch 174/250\n",
      "Training Loss: 0.0050, Training Accuracy: 1.0000\n",
      "Test Loss: 0.0026, Test Accuracy: 1.0000\n",
      "\n"
     ]
    },
    {
     "name": "stderr",
     "output_type": "stream",
     "text": [
      "Training: 100%|██████████| 62/62 [00:00<00:00, 1664.30it/s]\n",
      "Evaluating: 100%|██████████| 16/16 [00:00<00:00, 3994.10it/s]\n"
     ]
    },
    {
     "name": "stdout",
     "output_type": "stream",
     "text": [
      "Epoch 175/250\n",
      "Training Loss: 0.0049, Training Accuracy: 1.0000\n",
      "Test Loss: 0.0026, Test Accuracy: 1.0000\n",
      "\n"
     ]
    },
    {
     "name": "stderr",
     "output_type": "stream",
     "text": [
      "Training: 100%|██████████| 62/62 [00:00<00:00, 1663.26it/s]\n",
      "Evaluating: 100%|██████████| 16/16 [00:00<00:00, 3195.51it/s]\n"
     ]
    },
    {
     "name": "stdout",
     "output_type": "stream",
     "text": [
      "Epoch 176/250\n",
      "Training Loss: 0.0050, Training Accuracy: 1.0000\n",
      "Test Loss: 0.0026, Test Accuracy: 1.0000\n",
      "\n"
     ]
    },
    {
     "name": "stderr",
     "output_type": "stream",
     "text": [
      "Training: 100%|██████████| 62/62 [00:00<00:00, 1549.74it/s]\n",
      "Evaluating: 100%|██████████| 16/16 [00:00<00:00, 3200.38it/s]\n"
     ]
    },
    {
     "name": "stdout",
     "output_type": "stream",
     "text": [
      "Epoch 177/250\n",
      "Training Loss: 0.0050, Training Accuracy: 1.0000\n",
      "Test Loss: 0.0026, Test Accuracy: 1.0000\n",
      "\n"
     ]
    },
    {
     "name": "stderr",
     "output_type": "stream",
     "text": [
      "Training: 100%|██████████| 62/62 [00:00<00:00, 1674.91it/s]\n",
      "Evaluating: 100%|██████████| 16/16 [00:00<00:00, 3199.62it/s]\n"
     ]
    },
    {
     "name": "stdout",
     "output_type": "stream",
     "text": [
      "Epoch 178/250\n",
      "Training Loss: 0.0048, Training Accuracy: 1.0000\n",
      "Test Loss: 0.0025, Test Accuracy: 1.0000\n",
      "\n"
     ]
    },
    {
     "name": "stderr",
     "output_type": "stream",
     "text": [
      "Training: 100%|██████████| 62/62 [00:00<00:00, 1631.28it/s]\n",
      "Evaluating: 100%|██████████| 16/16 [00:00<00:00, 3994.10it/s]\n"
     ]
    },
    {
     "name": "stdout",
     "output_type": "stream",
     "text": [
      "Epoch 179/250\n",
      "Training Loss: 0.0048, Training Accuracy: 1.0000\n",
      "Test Loss: 0.0025, Test Accuracy: 1.0000\n",
      "\n"
     ]
    },
    {
     "name": "stderr",
     "output_type": "stream",
     "text": [
      "Training: 100%|██████████| 62/62 [00:00<00:00, 1664.09it/s]\n",
      "Evaluating: 100%|██████████| 16/16 [00:00<00:00, 1777.86it/s]\n"
     ]
    },
    {
     "name": "stdout",
     "output_type": "stream",
     "text": [
      "Epoch 180/250\n",
      "Training Loss: 0.0048, Training Accuracy: 1.0000\n",
      "Test Loss: 0.0025, Test Accuracy: 1.0000\n",
      "\n"
     ]
    },
    {
     "name": "stderr",
     "output_type": "stream",
     "text": [
      "Training: 100%|██████████| 62/62 [00:00<00:00, 1345.03it/s]\n",
      "Evaluating: 100%|██████████| 16/16 [00:00<00:00, 1778.10it/s]\n"
     ]
    },
    {
     "name": "stdout",
     "output_type": "stream",
     "text": [
      "Epoch 181/250\n",
      "Training Loss: 0.0047, Training Accuracy: 1.0000\n",
      "Test Loss: 0.0025, Test Accuracy: 1.0000\n",
      "\n"
     ]
    },
    {
     "name": "stderr",
     "output_type": "stream",
     "text": [
      "Training: 100%|██████████| 62/62 [00:00<00:00, 1009.02it/s]\n",
      "Evaluating: 100%|██████████| 16/16 [00:00<00:00, 3196.12it/s]\n"
     ]
    },
    {
     "name": "stdout",
     "output_type": "stream",
     "text": [
      "Epoch 182/250\n",
      "Training Loss: 0.0047, Training Accuracy: 1.0000\n",
      "Test Loss: 0.0025, Test Accuracy: 1.0000\n",
      "\n"
     ]
    },
    {
     "name": "stderr",
     "output_type": "stream",
     "text": [
      "Training: 100%|██████████| 62/62 [00:00<00:00, 1579.66it/s]\n",
      "Evaluating: 100%|██████████| 16/16 [00:00<00:00, 3200.08it/s]\n"
     ]
    },
    {
     "name": "stdout",
     "output_type": "stream",
     "text": [
      "Epoch 183/250\n",
      "Training Loss: 0.0047, Training Accuracy: 1.0000\n",
      "Test Loss: 0.0024, Test Accuracy: 1.0000\n",
      "\n"
     ]
    },
    {
     "name": "stderr",
     "output_type": "stream",
     "text": [
      "Training: 100%|██████████| 62/62 [00:00<00:00, 1584.24it/s]\n",
      "Evaluating: 100%|██████████| 16/16 [00:00<00:00, 3196.27it/s]\n"
     ]
    },
    {
     "name": "stdout",
     "output_type": "stream",
     "text": [
      "Epoch 184/250\n",
      "Training Loss: 0.0048, Training Accuracy: 1.0000\n",
      "Test Loss: 0.0024, Test Accuracy: 1.0000\n",
      "\n"
     ]
    },
    {
     "name": "stderr",
     "output_type": "stream",
     "text": [
      "Training: 100%|██████████| 62/62 [00:00<00:00, 1580.05it/s]\n",
      "Evaluating: 100%|██████████| 16/16 [00:00<00:00, 3196.12it/s]\n"
     ]
    },
    {
     "name": "stdout",
     "output_type": "stream",
     "text": [
      "Epoch 185/250\n",
      "Training Loss: 0.0046, Training Accuracy: 1.0000\n",
      "Test Loss: 0.0024, Test Accuracy: 1.0000\n",
      "\n"
     ]
    },
    {
     "name": "stderr",
     "output_type": "stream",
     "text": [
      "Training: 100%|██████████| 62/62 [00:00<00:00, 1585.02it/s]\n",
      "Evaluating: 100%|██████████| 16/16 [00:00<00:00, 3993.62it/s]\n"
     ]
    },
    {
     "name": "stdout",
     "output_type": "stream",
     "text": [
      "Epoch 186/250\n",
      "Training Loss: 0.0046, Training Accuracy: 1.0000\n",
      "Test Loss: 0.0024, Test Accuracy: 1.0000\n",
      "\n"
     ]
    },
    {
     "name": "stderr",
     "output_type": "stream",
     "text": [
      "Training: 100%|██████████| 62/62 [00:00<00:00, 1664.04it/s]\n",
      "Evaluating: 100%|██████████| 16/16 [00:00<00:00, 3994.10it/s]\n"
     ]
    },
    {
     "name": "stdout",
     "output_type": "stream",
     "text": [
      "Epoch 187/250\n",
      "Training Loss: 0.0045, Training Accuracy: 1.0000\n",
      "Test Loss: 0.0023, Test Accuracy: 1.0000\n",
      "\n"
     ]
    },
    {
     "name": "stderr",
     "output_type": "stream",
     "text": [
      "Training: 100%|██████████| 62/62 [00:00<00:00, 1618.29it/s]\n",
      "Evaluating: 100%|██████████| 16/16 [00:00<00:00, 3195.51it/s]\n"
     ]
    },
    {
     "name": "stdout",
     "output_type": "stream",
     "text": [
      "Epoch 188/250\n",
      "Training Loss: 0.0046, Training Accuracy: 1.0000\n",
      "Test Loss: 0.0023, Test Accuracy: 1.0000\n",
      "\n"
     ]
    },
    {
     "name": "stderr",
     "output_type": "stream",
     "text": [
      "Training: 100%|██████████| 62/62 [00:00<00:00, 1662.17it/s]\n",
      "Evaluating: 100%|██████████| 16/16 [00:00<00:00, 3993.15it/s]\n"
     ]
    },
    {
     "name": "stdout",
     "output_type": "stream",
     "text": [
      "Epoch 189/250\n",
      "Training Loss: 0.0045, Training Accuracy: 1.0000\n",
      "Test Loss: 0.0023, Test Accuracy: 1.0000\n",
      "\n"
     ]
    },
    {
     "name": "stderr",
     "output_type": "stream",
     "text": [
      "Training: 100%|██████████| 62/62 [00:00<00:00, 1664.99it/s]\n",
      "Evaluating: 100%|██████████| 16/16 [00:00<00:00, 3195.81it/s]\n"
     ]
    },
    {
     "name": "stdout",
     "output_type": "stream",
     "text": [
      "Epoch 190/250\n",
      "Training Loss: 0.0045, Training Accuracy: 1.0000\n",
      "Test Loss: 0.0023, Test Accuracy: 1.0000\n",
      "\n"
     ]
    },
    {
     "name": "stderr",
     "output_type": "stream",
     "text": [
      "Training: 100%|██████████| 62/62 [00:00<00:00, 1628.60it/s]\n",
      "Evaluating: 100%|██████████| 16/16 [00:00<00:00, 3993.39it/s]\n"
     ]
    },
    {
     "name": "stdout",
     "output_type": "stream",
     "text": [
      "Epoch 191/250\n",
      "Training Loss: 0.0045, Training Accuracy: 1.0000\n",
      "Test Loss: 0.0023, Test Accuracy: 1.0000\n",
      "\n"
     ]
    },
    {
     "name": "stderr",
     "output_type": "stream",
     "text": [
      "Training: 100%|██████████| 62/62 [00:00<00:00, 1664.28it/s]\n",
      "Evaluating: 100%|██████████| 16/16 [00:00<00:00, 3994.58it/s]\n"
     ]
    },
    {
     "name": "stdout",
     "output_type": "stream",
     "text": [
      "Epoch 192/250\n",
      "Training Loss: 0.0044, Training Accuracy: 1.0000\n",
      "Test Loss: 0.0022, Test Accuracy: 1.0000\n",
      "\n"
     ]
    },
    {
     "name": "stderr",
     "output_type": "stream",
     "text": [
      "Training: 100%|██████████| 62/62 [00:00<00:00, 1662.75it/s]\n",
      "Evaluating: 100%|██████████| 16/16 [00:00<00:00, 3993.15it/s]\n"
     ]
    },
    {
     "name": "stdout",
     "output_type": "stream",
     "text": [
      "Epoch 193/250\n",
      "Training Loss: 0.0044, Training Accuracy: 1.0000\n",
      "Test Loss: 0.0022, Test Accuracy: 1.0000\n",
      "\n"
     ]
    },
    {
     "name": "stderr",
     "output_type": "stream",
     "text": [
      "Training: 100%|██████████| 62/62 [00:00<00:00, 402.29it/s]\n",
      "Evaluating: 100%|██████████| 16/16 [00:00<00:00, 615.22it/s]\n"
     ]
    },
    {
     "name": "stdout",
     "output_type": "stream",
     "text": [
      "Epoch 194/250\n",
      "Training Loss: 0.0043, Training Accuracy: 1.0000\n",
      "Test Loss: 0.0022, Test Accuracy: 1.0000\n",
      "\n"
     ]
    },
    {
     "name": "stderr",
     "output_type": "stream",
     "text": [
      "Training: 100%|██████████| 62/62 [00:00<00:00, 417.37it/s]\n",
      "Evaluating: 100%|██████████| 16/16 [00:00<00:00, 648.99it/s]\n"
     ]
    },
    {
     "name": "stdout",
     "output_type": "stream",
     "text": [
      "Epoch 195/250\n",
      "Training Loss: 0.0043, Training Accuracy: 1.0000\n",
      "Test Loss: 0.0022, Test Accuracy: 1.0000\n",
      "\n"
     ]
    },
    {
     "name": "stderr",
     "output_type": "stream",
     "text": [
      "Training: 100%|██████████| 62/62 [00:00<00:00, 389.45it/s]\n",
      "Evaluating: 100%|██████████| 16/16 [00:00<00:00, 615.21it/s]\n"
     ]
    },
    {
     "name": "stdout",
     "output_type": "stream",
     "text": [
      "Epoch 196/250\n",
      "Training Loss: 0.0049, Training Accuracy: 1.0000\n",
      "Test Loss: 0.0022, Test Accuracy: 1.0000\n",
      "\n"
     ]
    },
    {
     "name": "stderr",
     "output_type": "stream",
     "text": [
      "Training: 100%|██████████| 62/62 [00:00<00:00, 432.93it/s]\n",
      "Evaluating: 100%|██████████| 16/16 [00:00<00:00, 546.28it/s]\n"
     ]
    },
    {
     "name": "stdout",
     "output_type": "stream",
     "text": [
      "Epoch 197/250\n",
      "Training Loss: 0.0042, Training Accuracy: 1.0000\n",
      "Test Loss: 0.0022, Test Accuracy: 1.0000\n",
      "\n"
     ]
    },
    {
     "name": "stderr",
     "output_type": "stream",
     "text": [
      "Training: 100%|██████████| 62/62 [00:00<00:00, 428.56it/s]\n",
      "Evaluating: 100%|██████████| 16/16 [00:00<00:00, 539.92it/s]\n"
     ]
    },
    {
     "name": "stdout",
     "output_type": "stream",
     "text": [
      "Epoch 198/250\n",
      "Training Loss: 0.0046, Training Accuracy: 1.0000\n",
      "Test Loss: 0.0021, Test Accuracy: 1.0000\n",
      "\n"
     ]
    },
    {
     "name": "stderr",
     "output_type": "stream",
     "text": [
      "Training: 100%|██████████| 62/62 [00:00<00:00, 406.99it/s]\n",
      "Evaluating: 100%|██████████| 16/16 [00:00<00:00, 568.29it/s]\n"
     ]
    },
    {
     "name": "stdout",
     "output_type": "stream",
     "text": [
      "Epoch 199/250\n",
      "Training Loss: 0.0042, Training Accuracy: 1.0000\n",
      "Test Loss: 0.0021, Test Accuracy: 1.0000\n",
      "\n"
     ]
    },
    {
     "name": "stderr",
     "output_type": "stream",
     "text": [
      "Training: 100%|██████████| 62/62 [00:00<00:00, 371.96it/s]\n",
      "Evaluating: 100%|██████████| 16/16 [00:00<00:00, 545.89it/s]\n"
     ]
    },
    {
     "name": "stdout",
     "output_type": "stream",
     "text": [
      "Epoch 200/250\n",
      "Training Loss: 0.0041, Training Accuracy: 1.0000\n",
      "Test Loss: 0.0021, Test Accuracy: 1.0000\n",
      "\n"
     ]
    },
    {
     "name": "stderr",
     "output_type": "stream",
     "text": [
      "Training: 100%|██████████| 62/62 [00:00<00:00, 395.71it/s]\n",
      "Evaluating: 100%|██████████| 16/16 [00:00<00:00, 566.00it/s]\n"
     ]
    },
    {
     "name": "stdout",
     "output_type": "stream",
     "text": [
      "Epoch 201/250\n",
      "Training Loss: 0.0041, Training Accuracy: 1.0000\n",
      "Test Loss: 0.0021, Test Accuracy: 1.0000\n",
      "\n"
     ]
    },
    {
     "name": "stderr",
     "output_type": "stream",
     "text": [
      "Training: 100%|██████████| 62/62 [00:00<00:00, 385.27it/s]\n",
      "Evaluating: 100%|██████████| 16/16 [00:00<00:00, 548.91it/s]\n"
     ]
    },
    {
     "name": "stdout",
     "output_type": "stream",
     "text": [
      "Epoch 202/250\n",
      "Training Loss: 0.0041, Training Accuracy: 1.0000\n",
      "Test Loss: 0.0021, Test Accuracy: 1.0000\n",
      "\n"
     ]
    },
    {
     "name": "stderr",
     "output_type": "stream",
     "text": [
      "Training: 100%|██████████| 62/62 [00:00<00:00, 353.95it/s]\n",
      "Evaluating: 100%|██████████| 16/16 [00:00<00:00, 560.95it/s]\n"
     ]
    },
    {
     "name": "stdout",
     "output_type": "stream",
     "text": [
      "Epoch 203/250\n",
      "Training Loss: 0.0041, Training Accuracy: 1.0000\n",
      "Test Loss: 0.0021, Test Accuracy: 1.0000\n",
      "\n"
     ]
    },
    {
     "name": "stderr",
     "output_type": "stream",
     "text": [
      "Training: 100%|██████████| 62/62 [00:00<00:00, 389.67it/s]\n",
      "Evaluating: 100%|██████████| 16/16 [00:00<00:00, 551.61it/s]\n"
     ]
    },
    {
     "name": "stdout",
     "output_type": "stream",
     "text": [
      "Epoch 204/250\n",
      "Training Loss: 0.0041, Training Accuracy: 1.0000\n",
      "Test Loss: 0.0020, Test Accuracy: 1.0000\n",
      "\n"
     ]
    },
    {
     "name": "stderr",
     "output_type": "stream",
     "text": [
      "Training: 100%|██████████| 62/62 [00:00<00:00, 391.20it/s]\n",
      "Evaluating: 100%|██████████| 16/16 [00:00<00:00, 589.85it/s]\n"
     ]
    },
    {
     "name": "stdout",
     "output_type": "stream",
     "text": [
      "Epoch 205/250\n",
      "Training Loss: 0.0040, Training Accuracy: 1.0000\n",
      "Test Loss: 0.0020, Test Accuracy: 1.0000\n",
      "\n"
     ]
    },
    {
     "name": "stderr",
     "output_type": "stream",
     "text": [
      "Training: 100%|██████████| 62/62 [00:00<00:00, 398.30it/s]\n",
      "Evaluating: 100%|██████████| 16/16 [00:00<00:00, 551.58it/s]\n"
     ]
    },
    {
     "name": "stdout",
     "output_type": "stream",
     "text": [
      "Epoch 206/250\n",
      "Training Loss: 0.0040, Training Accuracy: 1.0000\n",
      "Test Loss: 0.0020, Test Accuracy: 1.0000\n",
      "\n"
     ]
    },
    {
     "name": "stderr",
     "output_type": "stream",
     "text": [
      "Training: 100%|██████████| 62/62 [00:00<00:00, 434.31it/s]\n",
      "Evaluating: 100%|██████████| 16/16 [00:00<00:00, 580.94it/s]\n"
     ]
    },
    {
     "name": "stdout",
     "output_type": "stream",
     "text": [
      "Epoch 207/250\n",
      "Training Loss: 0.0039, Training Accuracy: 1.0000\n",
      "Test Loss: 0.0020, Test Accuracy: 1.0000\n",
      "\n"
     ]
    },
    {
     "name": "stderr",
     "output_type": "stream",
     "text": [
      "Training: 100%|██████████| 62/62 [00:00<00:00, 439.24it/s]\n",
      "Evaluating: 100%|██████████| 16/16 [00:00<00:00, 580.73it/s]\n"
     ]
    },
    {
     "name": "stdout",
     "output_type": "stream",
     "text": [
      "Epoch 208/250\n",
      "Training Loss: 0.0039, Training Accuracy: 1.0000\n",
      "Test Loss: 0.0020, Test Accuracy: 1.0000\n",
      "\n"
     ]
    },
    {
     "name": "stderr",
     "output_type": "stream",
     "text": [
      "Training: 100%|██████████| 62/62 [00:00<00:00, 366.21it/s]\n",
      "Evaluating: 100%|██████████| 16/16 [00:00<00:00, 533.30it/s]\n"
     ]
    },
    {
     "name": "stdout",
     "output_type": "stream",
     "text": [
      "Epoch 209/250\n",
      "Training Loss: 0.0040, Training Accuracy: 1.0000\n",
      "Test Loss: 0.0020, Test Accuracy: 1.0000\n",
      "\n"
     ]
    },
    {
     "name": "stderr",
     "output_type": "stream",
     "text": [
      "Training: 100%|██████████| 62/62 [00:00<00:00, 334.42it/s]\n",
      "Evaluating: 100%|██████████| 16/16 [00:00<00:00, 514.41it/s]\n"
     ]
    },
    {
     "name": "stdout",
     "output_type": "stream",
     "text": [
      "Epoch 210/250\n",
      "Training Loss: 0.0039, Training Accuracy: 1.0000\n",
      "Test Loss: 0.0020, Test Accuracy: 1.0000\n",
      "\n"
     ]
    },
    {
     "name": "stderr",
     "output_type": "stream",
     "text": [
      "Training: 100%|██████████| 62/62 [00:00<00:00, 376.96it/s]\n",
      "Evaluating: 100%|██████████| 16/16 [00:00<00:00, 571.29it/s]\n"
     ]
    },
    {
     "name": "stdout",
     "output_type": "stream",
     "text": [
      "Epoch 211/250\n",
      "Training Loss: 0.0039, Training Accuracy: 1.0000\n",
      "Test Loss: 0.0019, Test Accuracy: 1.0000\n",
      "\n"
     ]
    },
    {
     "name": "stderr",
     "output_type": "stream",
     "text": [
      "Training: 100%|██████████| 62/62 [00:00<00:00, 402.15it/s]\n",
      "Evaluating: 100%|██████████| 16/16 [00:00<00:00, 579.18it/s]\n"
     ]
    },
    {
     "name": "stdout",
     "output_type": "stream",
     "text": [
      "Epoch 212/250\n",
      "Training Loss: 0.0038, Training Accuracy: 1.0000\n",
      "Test Loss: 0.0019, Test Accuracy: 1.0000\n",
      "\n"
     ]
    },
    {
     "name": "stderr",
     "output_type": "stream",
     "text": [
      "Training: 100%|██████████| 62/62 [00:00<00:00, 401.66it/s]\n",
      "Evaluating: 100%|██████████| 16/16 [00:00<00:00, 611.12it/s]\n"
     ]
    },
    {
     "name": "stdout",
     "output_type": "stream",
     "text": [
      "Epoch 213/250\n",
      "Training Loss: 0.0038, Training Accuracy: 1.0000\n",
      "Test Loss: 0.0019, Test Accuracy: 1.0000\n",
      "\n"
     ]
    },
    {
     "name": "stderr",
     "output_type": "stream",
     "text": [
      "Training: 100%|██████████| 62/62 [00:00<00:00, 397.94it/s]\n",
      "Evaluating: 100%|██████████| 16/16 [00:00<00:00, 530.74it/s]\n"
     ]
    },
    {
     "name": "stdout",
     "output_type": "stream",
     "text": [
      "Epoch 214/250\n",
      "Training Loss: 0.0037, Training Accuracy: 1.0000\n",
      "Test Loss: 0.0019, Test Accuracy: 1.0000\n",
      "\n"
     ]
    },
    {
     "name": "stderr",
     "output_type": "stream",
     "text": [
      "Training: 100%|██████████| 62/62 [00:00<00:00, 371.85it/s]\n",
      "Evaluating: 100%|██████████| 16/16 [00:00<00:00, 592.45it/s]\n"
     ]
    },
    {
     "name": "stdout",
     "output_type": "stream",
     "text": [
      "Epoch 215/250\n",
      "Training Loss: 0.0037, Training Accuracy: 1.0000\n",
      "Test Loss: 0.0019, Test Accuracy: 1.0000\n",
      "\n"
     ]
    },
    {
     "name": "stderr",
     "output_type": "stream",
     "text": [
      "Training: 100%|██████████| 62/62 [00:00<00:00, 383.91it/s]\n",
      "Evaluating: 100%|██████████| 16/16 [00:00<00:00, 551.53it/s]\n"
     ]
    },
    {
     "name": "stdout",
     "output_type": "stream",
     "text": [
      "Epoch 216/250\n",
      "Training Loss: 0.0037, Training Accuracy: 1.0000\n",
      "Test Loss: 0.0019, Test Accuracy: 1.0000\n",
      "\n"
     ]
    },
    {
     "name": "stderr",
     "output_type": "stream",
     "text": [
      "Training: 100%|██████████| 62/62 [00:00<00:00, 188.61it/s]\n",
      "Evaluating: 100%|██████████| 16/16 [00:00<00:00, 256.35it/s]\n"
     ]
    },
    {
     "name": "stdout",
     "output_type": "stream",
     "text": [
      "Epoch 217/250\n",
      "Training Loss: 0.0037, Training Accuracy: 1.0000\n",
      "Test Loss: 0.0019, Test Accuracy: 1.0000\n",
      "\n"
     ]
    },
    {
     "name": "stderr",
     "output_type": "stream",
     "text": [
      "Training: 100%|██████████| 62/62 [00:00<00:00, 170.32it/s]\n",
      "Evaluating: 100%|██████████| 16/16 [00:00<00:00, 264.11it/s]\n"
     ]
    },
    {
     "name": "stdout",
     "output_type": "stream",
     "text": [
      "Epoch 218/250\n",
      "Training Loss: 0.0036, Training Accuracy: 1.0000\n",
      "Test Loss: 0.0018, Test Accuracy: 1.0000\n",
      "\n"
     ]
    },
    {
     "name": "stderr",
     "output_type": "stream",
     "text": [
      "Training: 100%|██████████| 62/62 [00:00<00:00, 171.24it/s]\n",
      "Evaluating: 100%|██████████| 16/16 [00:00<00:00, 265.69it/s]\n"
     ]
    },
    {
     "name": "stdout",
     "output_type": "stream",
     "text": [
      "Epoch 219/250\n",
      "Training Loss: 0.0037, Training Accuracy: 1.0000\n",
      "Test Loss: 0.0018, Test Accuracy: 1.0000\n",
      "\n"
     ]
    },
    {
     "name": "stderr",
     "output_type": "stream",
     "text": [
      "Training: 100%|██████████| 62/62 [00:00<00:00, 197.44it/s]\n",
      "Evaluating: 100%|██████████| 16/16 [00:00<00:00, 249.46it/s]\n"
     ]
    },
    {
     "name": "stdout",
     "output_type": "stream",
     "text": [
      "Epoch 220/250\n",
      "Training Loss: 0.0036, Training Accuracy: 1.0000\n",
      "Test Loss: 0.0018, Test Accuracy: 1.0000\n",
      "\n"
     ]
    },
    {
     "name": "stderr",
     "output_type": "stream",
     "text": [
      "Training: 100%|██████████| 62/62 [00:00<00:00, 207.79it/s]\n",
      "Evaluating: 100%|██████████| 16/16 [00:00<00:00, 228.58it/s]\n"
     ]
    },
    {
     "name": "stdout",
     "output_type": "stream",
     "text": [
      "Epoch 221/250\n",
      "Training Loss: 0.0036, Training Accuracy: 1.0000\n",
      "Test Loss: 0.0018, Test Accuracy: 1.0000\n",
      "\n"
     ]
    },
    {
     "name": "stderr",
     "output_type": "stream",
     "text": [
      "Training: 100%|██████████| 62/62 [00:00<00:00, 196.01it/s]\n",
      "Evaluating: 100%|██████████| 16/16 [00:00<00:00, 246.30it/s]\n"
     ]
    },
    {
     "name": "stdout",
     "output_type": "stream",
     "text": [
      "Epoch 222/250\n",
      "Training Loss: 0.0036, Training Accuracy: 1.0000\n",
      "Test Loss: 0.0018, Test Accuracy: 1.0000\n",
      "\n"
     ]
    },
    {
     "name": "stderr",
     "output_type": "stream",
     "text": [
      "Training: 100%|██████████| 62/62 [00:00<00:00, 202.60it/s]\n",
      "Evaluating: 100%|██████████| 16/16 [00:00<00:00, 252.11it/s]\n"
     ]
    },
    {
     "name": "stdout",
     "output_type": "stream",
     "text": [
      "Epoch 223/250\n",
      "Training Loss: 0.0035, Training Accuracy: 1.0000\n",
      "Test Loss: 0.0018, Test Accuracy: 1.0000\n",
      "\n"
     ]
    },
    {
     "name": "stderr",
     "output_type": "stream",
     "text": [
      "Training: 100%|██████████| 62/62 [00:00<00:00, 209.20it/s]\n",
      "Evaluating: 100%|██████████| 16/16 [00:00<00:00, 241.54it/s]\n"
     ]
    },
    {
     "name": "stdout",
     "output_type": "stream",
     "text": [
      "Epoch 224/250\n",
      "Training Loss: 0.0035, Training Accuracy: 1.0000\n",
      "Test Loss: 0.0018, Test Accuracy: 1.0000\n",
      "\n"
     ]
    },
    {
     "name": "stderr",
     "output_type": "stream",
     "text": [
      "Training: 100%|██████████| 62/62 [00:00<00:00, 165.75it/s]\n",
      "Evaluating: 100%|██████████| 16/16 [00:00<00:00, 256.57it/s]\n"
     ]
    },
    {
     "name": "stdout",
     "output_type": "stream",
     "text": [
      "Epoch 225/250\n",
      "Training Loss: 0.0035, Training Accuracy: 1.0000\n",
      "Test Loss: 0.0017, Test Accuracy: 1.0000\n",
      "\n"
     ]
    },
    {
     "name": "stderr",
     "output_type": "stream",
     "text": [
      "Training: 100%|██████████| 62/62 [00:00<00:00, 181.45it/s]\n",
      "Evaluating: 100%|██████████| 16/16 [00:00<00:00, 241.81it/s]\n"
     ]
    },
    {
     "name": "stdout",
     "output_type": "stream",
     "text": [
      "Epoch 226/250\n",
      "Training Loss: 0.0035, Training Accuracy: 1.0000\n",
      "Test Loss: 0.0017, Test Accuracy: 1.0000\n",
      "\n"
     ]
    },
    {
     "name": "stderr",
     "output_type": "stream",
     "text": [
      "Training: 100%|██████████| 62/62 [00:00<00:00, 205.44it/s]\n",
      "Evaluating: 100%|██████████| 16/16 [00:00<00:00, 247.56it/s]\n"
     ]
    },
    {
     "name": "stdout",
     "output_type": "stream",
     "text": [
      "Epoch 227/250\n",
      "Training Loss: 0.0034, Training Accuracy: 1.0000\n",
      "Test Loss: 0.0017, Test Accuracy: 1.0000\n",
      "\n"
     ]
    },
    {
     "name": "stderr",
     "output_type": "stream",
     "text": [
      "Training: 100%|██████████| 62/62 [00:00<00:00, 205.48it/s]\n",
      "Evaluating: 100%|██████████| 16/16 [00:00<00:00, 264.42it/s]\n"
     ]
    },
    {
     "name": "stdout",
     "output_type": "stream",
     "text": [
      "Epoch 228/250\n",
      "Training Loss: 0.0035, Training Accuracy: 1.0000\n",
      "Test Loss: 0.0017, Test Accuracy: 1.0000\n",
      "\n"
     ]
    },
    {
     "name": "stderr",
     "output_type": "stream",
     "text": [
      "Training: 100%|██████████| 62/62 [00:00<00:00, 151.92it/s]\n",
      "Evaluating: 100%|██████████| 16/16 [00:00<00:00, 232.52it/s]\n"
     ]
    },
    {
     "name": "stdout",
     "output_type": "stream",
     "text": [
      "Epoch 229/250\n",
      "Training Loss: 0.0034, Training Accuracy: 1.0000\n",
      "Test Loss: 0.0017, Test Accuracy: 1.0000\n",
      "\n"
     ]
    },
    {
     "name": "stderr",
     "output_type": "stream",
     "text": [
      "Training: 100%|██████████| 62/62 [00:00<00:00, 134.15it/s]\n",
      "Evaluating: 100%|██████████| 16/16 [00:00<00:00, 223.48it/s]\n"
     ]
    },
    {
     "name": "stdout",
     "output_type": "stream",
     "text": [
      "Epoch 230/250\n",
      "Training Loss: 0.0034, Training Accuracy: 1.0000\n",
      "Test Loss: 0.0017, Test Accuracy: 1.0000\n",
      "\n"
     ]
    },
    {
     "name": "stderr",
     "output_type": "stream",
     "text": [
      "Training: 100%|██████████| 62/62 [00:00<00:00, 133.19it/s]\n",
      "Evaluating: 100%|██████████| 16/16 [00:00<00:00, 216.07it/s]\n"
     ]
    },
    {
     "name": "stdout",
     "output_type": "stream",
     "text": [
      "Epoch 231/250\n",
      "Training Loss: 0.0033, Training Accuracy: 1.0000\n",
      "Test Loss: 0.0017, Test Accuracy: 1.0000\n",
      "\n"
     ]
    },
    {
     "name": "stderr",
     "output_type": "stream",
     "text": [
      "Training: 100%|██████████| 62/62 [00:00<00:00, 151.09it/s]\n",
      "Evaluating: 100%|██████████| 16/16 [00:00<00:00, 497.63it/s]\n"
     ]
    },
    {
     "name": "stdout",
     "output_type": "stream",
     "text": [
      "Epoch 232/250\n",
      "Training Loss: 0.0033, Training Accuracy: 1.0000\n",
      "Test Loss: 0.0017, Test Accuracy: 1.0000\n",
      "\n"
     ]
    },
    {
     "name": "stderr",
     "output_type": "stream",
     "text": [
      "Training: 100%|██████████| 62/62 [00:00<00:00, 296.54it/s]\n",
      "Evaluating: 100%|██████████| 16/16 [00:00<00:00, 463.18it/s]\n"
     ]
    },
    {
     "name": "stdout",
     "output_type": "stream",
     "text": [
      "Epoch 233/250\n",
      "Training Loss: 0.0033, Training Accuracy: 1.0000\n",
      "Test Loss: 0.0016, Test Accuracy: 1.0000\n",
      "\n"
     ]
    },
    {
     "name": "stderr",
     "output_type": "stream",
     "text": [
      "Training: 100%|██████████| 62/62 [00:00<00:00, 267.48it/s]\n",
      "Evaluating: 100%|██████████| 16/16 [00:00<00:00, 478.78it/s]\n"
     ]
    },
    {
     "name": "stdout",
     "output_type": "stream",
     "text": [
      "Epoch 234/250\n",
      "Training Loss: 0.0033, Training Accuracy: 1.0000\n",
      "Test Loss: 0.0016, Test Accuracy: 1.0000\n",
      "\n"
     ]
    },
    {
     "name": "stderr",
     "output_type": "stream",
     "text": [
      "Training: 100%|██████████| 62/62 [00:00<00:00, 311.40it/s]\n",
      "Evaluating: 100%|██████████| 16/16 [00:00<00:00, 432.45it/s]\n"
     ]
    },
    {
     "name": "stdout",
     "output_type": "stream",
     "text": [
      "Epoch 235/250\n",
      "Training Loss: 0.0033, Training Accuracy: 1.0000\n",
      "Test Loss: 0.0016, Test Accuracy: 1.0000\n",
      "\n"
     ]
    },
    {
     "name": "stderr",
     "output_type": "stream",
     "text": [
      "Training: 100%|██████████| 62/62 [00:00<00:00, 270.53it/s]\n",
      "Evaluating: 100%|██████████| 16/16 [00:00<00:00, 539.85it/s]\n"
     ]
    },
    {
     "name": "stdout",
     "output_type": "stream",
     "text": [
      "Epoch 236/250\n",
      "Training Loss: 0.0033, Training Accuracy: 1.0000\n",
      "Test Loss: 0.0016, Test Accuracy: 1.0000\n",
      "\n"
     ]
    },
    {
     "name": "stderr",
     "output_type": "stream",
     "text": [
      "Training: 100%|██████████| 62/62 [00:00<00:00, 316.72it/s]\n",
      "Evaluating: 100%|██████████| 16/16 [00:00<00:00, 502.11it/s]\n"
     ]
    },
    {
     "name": "stdout",
     "output_type": "stream",
     "text": [
      "Epoch 237/250\n",
      "Training Loss: 0.0032, Training Accuracy: 1.0000\n",
      "Test Loss: 0.0016, Test Accuracy: 1.0000\n",
      "\n"
     ]
    },
    {
     "name": "stderr",
     "output_type": "stream",
     "text": [
      "Training: 100%|██████████| 62/62 [00:00<00:00, 310.47it/s]\n",
      "Evaluating: 100%|██████████| 16/16 [00:00<00:00, 516.41it/s]\n"
     ]
    },
    {
     "name": "stdout",
     "output_type": "stream",
     "text": [
      "Epoch 238/250\n",
      "Training Loss: 0.0033, Training Accuracy: 1.0000\n",
      "Test Loss: 0.0016, Test Accuracy: 1.0000\n",
      "\n"
     ]
    },
    {
     "name": "stderr",
     "output_type": "stream",
     "text": [
      "Training: 100%|██████████| 62/62 [00:00<00:00, 299.36it/s]\n",
      "Evaluating: 100%|██████████| 16/16 [00:00<00:00, 229.53it/s]\n"
     ]
    },
    {
     "name": "stdout",
     "output_type": "stream",
     "text": [
      "Epoch 239/250\n",
      "Training Loss: 0.0032, Training Accuracy: 1.0000\n",
      "Test Loss: 0.0016, Test Accuracy: 1.0000\n",
      "\n"
     ]
    },
    {
     "name": "stderr",
     "output_type": "stream",
     "text": [
      "Training: 100%|██████████| 62/62 [00:00<00:00, 178.00it/s]\n",
      "Evaluating: 100%|██████████| 16/16 [00:00<00:00, 260.40it/s]\n"
     ]
    },
    {
     "name": "stdout",
     "output_type": "stream",
     "text": [
      "Epoch 240/250\n",
      "Training Loss: 0.0032, Training Accuracy: 1.0000\n",
      "Test Loss: 0.0016, Test Accuracy: 1.0000\n",
      "\n"
     ]
    },
    {
     "name": "stderr",
     "output_type": "stream",
     "text": [
      "Training: 100%|██████████| 62/62 [00:00<00:00, 170.80it/s]\n",
      "Evaluating: 100%|██████████| 16/16 [00:00<00:00, 243.28it/s]\n"
     ]
    },
    {
     "name": "stdout",
     "output_type": "stream",
     "text": [
      "Epoch 241/250\n",
      "Training Loss: 0.0031, Training Accuracy: 1.0000\n",
      "Test Loss: 0.0016, Test Accuracy: 1.0000\n",
      "\n"
     ]
    },
    {
     "name": "stderr",
     "output_type": "stream",
     "text": [
      "Training: 100%|██████████| 62/62 [00:00<00:00, 181.79it/s]\n",
      "Evaluating: 100%|██████████| 16/16 [00:00<00:00, 227.10it/s]\n"
     ]
    },
    {
     "name": "stdout",
     "output_type": "stream",
     "text": [
      "Epoch 242/250\n",
      "Training Loss: 0.0031, Training Accuracy: 1.0000\n",
      "Test Loss: 0.0015, Test Accuracy: 1.0000\n",
      "\n"
     ]
    },
    {
     "name": "stderr",
     "output_type": "stream",
     "text": [
      "Training: 100%|██████████| 62/62 [00:00<00:00, 162.32it/s]\n",
      "Evaluating: 100%|██████████| 16/16 [00:00<00:00, 246.99it/s]\n"
     ]
    },
    {
     "name": "stdout",
     "output_type": "stream",
     "text": [
      "Epoch 243/250\n",
      "Training Loss: 0.0031, Training Accuracy: 1.0000\n",
      "Test Loss: 0.0015, Test Accuracy: 1.0000\n",
      "\n"
     ]
    },
    {
     "name": "stderr",
     "output_type": "stream",
     "text": [
      "Training: 100%|██████████| 62/62 [00:00<00:00, 162.35it/s]\n",
      "Evaluating: 100%|██████████| 16/16 [00:00<00:00, 233.80it/s]\n"
     ]
    },
    {
     "name": "stdout",
     "output_type": "stream",
     "text": [
      "Epoch 244/250\n",
      "Training Loss: 0.0031, Training Accuracy: 1.0000\n",
      "Test Loss: 0.0015, Test Accuracy: 1.0000\n",
      "\n"
     ]
    },
    {
     "name": "stderr",
     "output_type": "stream",
     "text": [
      "Training: 100%|██████████| 62/62 [00:00<00:00, 145.61it/s]\n",
      "Evaluating: 100%|██████████| 16/16 [00:00<00:00, 412.75it/s]\n"
     ]
    },
    {
     "name": "stdout",
     "output_type": "stream",
     "text": [
      "Epoch 245/250\n",
      "Training Loss: 0.0031, Training Accuracy: 1.0000\n",
      "Test Loss: 0.0015, Test Accuracy: 1.0000\n",
      "\n"
     ]
    },
    {
     "name": "stderr",
     "output_type": "stream",
     "text": [
      "Training: 100%|██████████| 62/62 [00:00<00:00, 285.49it/s]\n",
      "Evaluating: 100%|██████████| 16/16 [00:00<00:00, 475.54it/s]\n"
     ]
    },
    {
     "name": "stdout",
     "output_type": "stream",
     "text": [
      "Epoch 246/250\n",
      "Training Loss: 0.0030, Training Accuracy: 1.0000\n",
      "Test Loss: 0.0015, Test Accuracy: 1.0000\n",
      "\n"
     ]
    },
    {
     "name": "stderr",
     "output_type": "stream",
     "text": [
      "Training: 100%|██████████| 62/62 [00:00<00:00, 310.07it/s]\n",
      "Evaluating: 100%|██████████| 16/16 [00:00<00:00, 517.92it/s]\n"
     ]
    },
    {
     "name": "stdout",
     "output_type": "stream",
     "text": [
      "Epoch 247/250\n",
      "Training Loss: 0.0030, Training Accuracy: 1.0000\n",
      "Test Loss: 0.0015, Test Accuracy: 1.0000\n",
      "\n"
     ]
    },
    {
     "name": "stderr",
     "output_type": "stream",
     "text": [
      "Training: 100%|██████████| 62/62 [00:00<00:00, 307.31it/s]\n",
      "Evaluating: 100%|██████████| 16/16 [00:00<00:00, 473.45it/s]\n"
     ]
    },
    {
     "name": "stdout",
     "output_type": "stream",
     "text": [
      "Epoch 248/250\n",
      "Training Loss: 0.0030, Training Accuracy: 1.0000\n",
      "Test Loss: 0.0015, Test Accuracy: 1.0000\n",
      "\n"
     ]
    },
    {
     "name": "stderr",
     "output_type": "stream",
     "text": [
      "Training: 100%|██████████| 62/62 [00:00<00:00, 260.06it/s]\n",
      "Evaluating: 100%|██████████| 16/16 [00:00<00:00, 466.69it/s]\n"
     ]
    },
    {
     "name": "stdout",
     "output_type": "stream",
     "text": [
      "Epoch 249/250\n",
      "Training Loss: 0.0030, Training Accuracy: 1.0000\n",
      "Test Loss: 0.0015, Test Accuracy: 1.0000\n",
      "\n"
     ]
    },
    {
     "name": "stderr",
     "output_type": "stream",
     "text": [
      "Training: 100%|██████████| 62/62 [00:00<00:00, 296.71it/s]\n",
      "Evaluating: 100%|██████████| 16/16 [00:00<00:00, 501.73it/s]"
     ]
    },
    {
     "name": "stdout",
     "output_type": "stream",
     "text": [
      "Epoch 250/250\n",
      "Training Loss: 0.0029, Training Accuracy: 1.0000\n",
      "Test Loss: 0.0015, Test Accuracy: 1.0000\n",
      "\n"
     ]
    },
    {
     "name": "stderr",
     "output_type": "stream",
     "text": [
      "\n"
     ]
    }
   ],
   "source": [
    "best_acc_model, best_loss_model, metrics = train_logreg_simplified(\n",
    "    batch_size=8,\n",
    "    train_feats_data=train_feats_simclr,\n",
    "    test_feats_data=test_feats_simclr,\n",
    "    feature_dim=train_feats_simclr.tensors[0].shape[1],\n",
    "    num_classes=3,\n",
    "    lr=5e-4,\n",
    "    weight_decay=1e-4,\n",
    "    max_epochs=250\n",
    ")"
   ]
  },
  {
   "cell_type": "code",
   "execution_count": 17,
   "metadata": {},
   "outputs": [
    {
     "data": {
      "image/png": "[encoded data removed]",
      "text/plain": [
       "<Figure size 1500x500 with 2 Axes>"
      ]
     },
     "metadata": {},
     "output_type": "display_data"
    }
   ],
   "source": [
    "# Plot metrics in a separate cell\n",
    "import matplotlib.pyplot as plt\n",
    "\n",
    "# Loss curve\n",
    "plt.figure(figsize=(15, 5))\n",
    "plt.subplot(1, 2, 1)\n",
    "plt.plot(metrics[\"train_losses\"], label=\"Train Loss\")\n",
    "plt.plot(metrics[\"test_losses\"], label=\"Test Loss\")\n",
    "plt.xlabel(\"Epoch\")\n",
    "plt.ylabel(\"Loss\")\n",
    "plt.title(\"Loss Curve for 'Sweet but no contrast '\")\n",
    "plt.legend()\n",
    "\n",
    "# Accuracy curve\n",
    "plt.subplot(1, 2, 2)\n",
    "plt.plot(metrics[\"train_accuracies\"], label=\"Train Accuracy\")\n",
    "plt.plot(metrics[\"test_accuracies\"], label=\"Test Accuracy\")\n",
    "plt.xlabel(\"Epoch\")\n",
    "plt.ylabel(\"Accuracy\")\n",
    "plt.title(\"Accuracy Curve for 'Sweet but no contrast' \")\n",
    "plt.legend()\n",
    "\n",
    "plt.tight_layout()\n",
    "plt.show()"
   ]
  },
  {
   "cell_type": "code",
   "execution_count": 18,
   "metadata": {},
   "outputs": [
    {
     "data": {
      "text/plain": [
       "LogisticRegression(\n",
       "  (linear): Linear(in_features=512, out_features=3, bias=True)\n",
       ")"
      ]
     },
     "execution_count": 18,
     "metadata": {},
     "output_type": "execute_result"
    }
   ],
   "source": [
    "logreg_model= best_loss_model\n",
    "logreg_model\n"
   ]
  },
  {
   "cell_type": "code",
   "execution_count": 19,
   "metadata": {},
   "outputs": [],
   "source": [
    "import os\n",
    "from sklearn.metrics import accuracy_score\n",
    "\n",
    "def preprocess_new_images(folder_path, label_idx, transform=None):\n",
    "    # Load the image paths and assign the same label to all\n",
    "    image_files = [os.path.join(folder_path, file) for file in os.listdir(folder_path) if file.endswith(('.tiff', '.tif'))]\n",
    "    labels = [label_idx] * len(image_files)\n",
    "    \n",
    "    # Create a dataset for the new images\n",
    "    dataset = LabeledImageDataset(image_files, labels, transform=transform)\n",
    "    return dataset\n",
    "\n",
    "def inference_on_new_images(model, dataloader, device):\n",
    "    model.eval()\n",
    "    all_preds = []\n",
    "    all_labels = []\n",
    "\n",
    "    with torch.no_grad():\n",
    "        for batch_imgs, batch_labels in tqdm(dataloader, desc=\"Inference\"):\n",
    "            batch_imgs = batch_imgs.to(device)\n",
    "            batch_labels = batch_labels.to(device)\n",
    "\n",
    "            # Get predictions\n",
    "            outputs = model(batch_imgs)\n",
    "            preds = outputs.argmax(dim=1)\n",
    "\n",
    "            # Store predictions and labels\n",
    "            all_preds.extend(preds.cpu().numpy())\n",
    "            all_labels.extend(batch_labels.cpu().numpy())\n",
    "    \n",
    "    return all_preds, all_labels\n",
    "\n",
    "# Path to the folder containing the new images\n",
    "new_images_folder = r\"C:\\Users\\k54739\\Bibi_new_thesis\\thesis\\classification\\ds_closeto_sd\"\n",
    "\n"
   ]
  },
  {
   "cell_type": "code",
   "execution_count": 20,
   "metadata": {},
   "outputs": [],
   "source": [
    "\n",
    "# Prepare the new dataset and DataLoader\n",
    "infer_dataset = preprocess_new_images(new_images_folder, label_idx=1)  # `label_idx=1` corresponds to the 'sd' class\n"
   ]
  },
  {
   "cell_type": "code",
   "execution_count": 21,
   "metadata": {},
   "outputs": [],
   "source": [
    "infer_dataloader = DataLoader(infer_dataset, batch_size=8, shuffle=False, drop_last=False, pin_memory=True, num_workers=0)"
   ]
  },
  {
   "cell_type": "code",
   "execution_count": 22,
   "metadata": {},
   "outputs": [
    {
     "name": "stdout",
     "output_type": "stream",
     "text": [
      "torch.Size([8, 3, 96, 96]) torch.Size([8]) torch.float32\n",
      "tensor([1, 1, 1, 1, 1, 1, 1, 1])\n"
     ]
    }
   ],
   "source": [
    "for anchor,label in infer_dataloader:\n",
    "    print(anchor.shape, label.shape, anchor.dtype)\n",
    "    print(label)\n",
    "    break"
   ]
  },
  {
   "cell_type": "code",
   "execution_count": 23,
   "metadata": {},
   "outputs": [
    {
     "name": "stderr",
     "output_type": "stream",
     "text": [
      " 33%|███▎      | 1/3 [00:00<00:00,  2.45it/s]"
     ]
    },
    {
     "name": "stdout",
     "output_type": "stream",
     "text": [
      "Batch features shape: torch.Size([8, 512])\n",
      "Batch labels shape: torch.Size([8])\n"
     ]
    },
    {
     "name": "stderr",
     "output_type": "stream",
     "text": [
      " 67%|██████▋   | 2/3 [00:00<00:00,  2.29it/s]"
     ]
    },
    {
     "name": "stdout",
     "output_type": "stream",
     "text": [
      "Batch features shape: torch.Size([8, 512])\n",
      "Batch labels shape: torch.Size([8])\n"
     ]
    },
    {
     "name": "stderr",
     "output_type": "stream",
     "text": [
      "100%|██████████| 3/3 [00:01<00:00,  2.41it/s]"
     ]
    },
    {
     "name": "stdout",
     "output_type": "stream",
     "text": [
      "Batch features shape: torch.Size([6, 512])\n",
      "Batch labels shape: torch.Size([6])\n",
      "Features shape after concatenation: torch.Size([22, 512])\n",
      "Labels shape after concatenation: torch.Size([22])\n"
     ]
    },
    {
     "name": "stderr",
     "output_type": "stream",
     "text": [
      "\n"
     ]
    }
   ],
   "source": [
    "infer_feats_simclr = prepare_data_features(simclr_model, infer_dataloader)"
   ]
  },
  {
   "cell_type": "code",
   "execution_count": 24,
   "metadata": {},
   "outputs": [],
   "source": [
    "\n",
    "# Perform inference\n",
    "device = torch.device(\"cuda\" if torch.cuda.is_available() else \"cpu\")"
   ]
  },
  {
   "cell_type": "code",
   "execution_count": 25,
   "metadata": {},
   "outputs": [],
   "source": [
    "infer_log_loader = DataLoader(infer_feats_simclr, batch_size=8, shuffle=False,\n",
    "                              drop_last=False, pin_memory=True, num_workers=0)"
   ]
  },
  {
   "cell_type": "code",
   "execution_count": 26,
   "metadata": {},
   "outputs": [
    {
     "name": "stderr",
     "output_type": "stream",
     "text": [
      "Inference: 100%|██████████| 3/3 [00:00<00:00, 249.98it/s]"
     ]
    },
    {
     "name": "stdout",
     "output_type": "stream",
     "text": [
      "Inference Accuracy: 0.9545\n",
      "Predictions: [1, 1, 1, 1, 1, 1, 1, 1, 1, 1, 1, 1, 1, 1, 1, 1, 0, 1, 1, 1, 1, 1]\n",
      "True Labels: [1, 1, 1, 1, 1, 1, 1, 1, 1, 1, 1, 1, 1, 1, 1, 1, 1, 1, 1, 1, 1, 1]\n"
     ]
    },
    {
     "name": "stderr",
     "output_type": "stream",
     "text": [
      "\n"
     ]
    }
   ],
   "source": [
    "\n",
    "new_preds, new_labels = inference_on_new_images(best_acc_model, infer_log_loader, device)\n",
    "\n",
    "# Calculate accuracy\n",
    "accuracy = accuracy_score(new_labels, new_preds)\n",
    "print(f\"Inference Accuracy: {accuracy:.4f}\")\n",
    "\n",
    "# Print predictions and true labels\n",
    "print(\"Predictions:\", new_preds)\n",
    "print(\"True Labels:\", new_labels)"
   ]
  },
  {
   "cell_type": "code",
   "execution_count": 27,
   "metadata": {},
   "outputs": [
    {
     "name": "stderr",
     "output_type": "stream",
     "text": [
      "Inference: 100%|██████████| 3/3 [00:00<00:00, 300.01it/s]"
     ]
    },
    {
     "name": "stdout",
     "output_type": "stream",
     "text": [
      "Inference Accuracy: 0.9545\n",
      "Predictions: [1, 1, 1, 1, 1, 1, 1, 1, 1, 1, 1, 1, 1, 1, 1, 1, 0, 1, 1, 1, 1, 1]\n",
      "True Labels: [1, 1, 1, 1, 1, 1, 1, 1, 1, 1, 1, 1, 1, 1, 1, 1, 1, 1, 1, 1, 1, 1]\n"
     ]
    },
    {
     "name": "stderr",
     "output_type": "stream",
     "text": [
      "\n"
     ]
    }
   ],
   "source": [
    "\n",
    "new_preds, new_labels = inference_on_new_images(best_loss_model, infer_log_loader, device)\n",
    "\n",
    "# Calculate accuracy\n",
    "accuracy = accuracy_score(new_labels, new_preds)\n",
    "print(f\"Inference Accuracy: {accuracy:.4f}\")\n",
    "\n",
    "# Print predictions and true labels\n",
    "print(\"Predictions:\", new_preds)\n",
    "print(\"True Labels:\", new_labels)"
   ]
  },
  {
   "cell_type": "markdown",
   "metadata": {},
   "source": [
    "# Train the logistic regression model\n",
    "# Example usage:\n",
    "best_acc_model, best_loss_model, results = train_logreg_simplified(\n",
    "    batch_size=8,\n",
    "    train_feats_data=train_feats_simclr,\n",
    "    test_feats_data=test_feats_simclr,\n",
    "    feature_dim=train_feats_simclr.tensors[0].shape[1],\n",
    "    num_classes=2,\n",
    "    lr=5e-4,\n",
    "    weight_decay=1e-4,\n",
    "    max_epochs=100\n",
    ")\n",
    "#print(f\"Final Train Accuracy: {results['train_acc']:.4f}, Final Test Accuracy: {results['test_acc']:.4f}\")\n"
   ]
  },
  {
   "cell_type": "code",
   "execution_count": null,
   "metadata": {},
   "outputs": [],
   "source": []
  },
  {
   "cell_type": "markdown",
   "metadata": {},
   "source": [
    "# Save the best models by accuracy and loss\n",
    "torch.save(best_acc_model.state_dict(), \"best_acc_model.pth\")\n",
    "torch.save(best_loss_model.state_dict(), \"best_loss_model.pth\")\n"
   ]
  },
  {
   "cell_type": "markdown",
   "metadata": {},
   "source": [
    "# 512= feature_dim = train_feats_simclr.tensors[0].shape[1] =  before projection head"
   ]
  },
  {
   "cell_type": "markdown",
   "metadata": {},
   "source": [
    "# Save model state_dict\n",
    "torch.save(logreg_model.state_dict(), \"logreg_model_best.pth\")\n"
   ]
  },
  {
   "cell_type": "code",
   "execution_count": 28,
   "metadata": {},
   "outputs": [
    {
     "ename": "FileNotFoundError",
     "evalue": "[WinError 3] The system cannot find the path specified: 'C:\\\\Users\\\\k54739\\\\Bibi_new_thesis\\\\thesis\\\\softmax_dataset\\\\2_class\\\\inference'",
     "output_type": "error",
     "traceback": [
      "\u001b[1;31m---------------------------------------------------------------------------\u001b[0m",
      "\u001b[1;31mFileNotFoundError\u001b[0m                         Traceback (most recent call last)",
      "Cell \u001b[1;32mIn[28], line 108\u001b[0m\n\u001b[0;32m    105\u001b[0m root_dir \u001b[38;5;241m=\u001b[39m \u001b[38;5;124mr\u001b[39m\u001b[38;5;124m\"\u001b[39m\u001b[38;5;124mC:\u001b[39m\u001b[38;5;124m\\\u001b[39m\u001b[38;5;124mUsers\u001b[39m\u001b[38;5;124m\\\u001b[39m\u001b[38;5;124mk54739\u001b[39m\u001b[38;5;124m\\\u001b[39m\u001b[38;5;124mBibi_new_thesis\u001b[39m\u001b[38;5;124m\\\u001b[39m\u001b[38;5;124mthesis\u001b[39m\u001b[38;5;124m\\\u001b[39m\u001b[38;5;124msoftmax_dataset\u001b[39m\u001b[38;5;124m\\\u001b[39m\u001b[38;5;124m2_class\u001b[39m\u001b[38;5;124m\\\u001b[39m\u001b[38;5;124minference\u001b[39m\u001b[38;5;124m\"\u001b[39m\n\u001b[0;32m    107\u001b[0m \u001b[38;5;66;03m# 1. Load data from all groups\u001b[39;00m\n\u001b[1;32m--> 108\u001b[0m image_files, dummy_labels, group_names, groups \u001b[38;5;241m=\u001b[39m \u001b[43mload_inference_data\u001b[49m\u001b[43m(\u001b[49m\u001b[43mroot_dir\u001b[49m\u001b[43m)\u001b[49m\n\u001b[0;32m    110\u001b[0m \u001b[38;5;66;03m# 2. Create dataset and dataloader for inference\u001b[39;00m\n\u001b[0;32m    111\u001b[0m inference_dataset \u001b[38;5;241m=\u001b[39m LabeledImageDatasetWithPath(image_files, dummy_labels)\n",
      "Cell \u001b[1;32mIn[28], line 28\u001b[0m, in \u001b[0;36mload_inference_data\u001b[1;34m(root_dir)\u001b[0m\n\u001b[0;32m     27\u001b[0m \u001b[38;5;28;01mdef\u001b[39;00m \u001b[38;5;21mload_inference_data\u001b[39m(root_dir):\n\u001b[1;32m---> 28\u001b[0m     groups \u001b[38;5;241m=\u001b[39m \u001b[43mget_all_groups\u001b[49m\u001b[43m(\u001b[49m\u001b[43mroot_dir\u001b[49m\u001b[43m)\u001b[49m\n\u001b[0;32m     30\u001b[0m     image_files \u001b[38;5;241m=\u001b[39m []\n\u001b[0;32m     31\u001b[0m     group_names \u001b[38;5;241m=\u001b[39m []\n",
      "Cell \u001b[1;32mIn[28], line 21\u001b[0m, in \u001b[0;36mget_all_groups\u001b[1;34m(root_dir)\u001b[0m\n\u001b[0;32m     18\u001b[0m \u001b[38;5;28;01mdef\u001b[39;00m \u001b[38;5;21mget_all_groups\u001b[39m(root_dir):\n\u001b[0;32m     19\u001b[0m     \u001b[38;5;66;03m# All directories in root_dir are considered different groups\u001b[39;00m\n\u001b[0;32m     20\u001b[0m     groups \u001b[38;5;241m=\u001b[39m []\n\u001b[1;32m---> 21\u001b[0m     \u001b[38;5;28;01mfor\u001b[39;00m d \u001b[38;5;129;01min\u001b[39;00m \u001b[43mos\u001b[49m\u001b[38;5;241;43m.\u001b[39;49m\u001b[43mlistdir\u001b[49m\u001b[43m(\u001b[49m\u001b[43mroot_dir\u001b[49m\u001b[43m)\u001b[49m:\n\u001b[0;32m     22\u001b[0m         dir_path \u001b[38;5;241m=\u001b[39m os\u001b[38;5;241m.\u001b[39mpath\u001b[38;5;241m.\u001b[39mjoin(root_dir, d)\n\u001b[0;32m     23\u001b[0m         \u001b[38;5;28;01mif\u001b[39;00m os\u001b[38;5;241m.\u001b[39mpath\u001b[38;5;241m.\u001b[39misdir(dir_path):\n",
      "\u001b[1;31mFileNotFoundError\u001b[0m: [WinError 3] The system cannot find the path specified: 'C:\\\\Users\\\\k54739\\\\Bibi_new_thesis\\\\thesis\\\\softmax_dataset\\\\2_class\\\\inference'"
     ]
    }
   ],
   "source": [
    "import os\n",
    "import torch\n",
    "import torch.nn as nn\n",
    "import torch.nn.functional as F\n",
    "from torch.utils.data import DataLoader\n",
    "import matplotlib.pyplot as plt\n",
    "import numpy as np\n",
    "from copy import deepcopy\n",
    "from tqdm import tqdm\n",
    "import tifffile as tiff\n",
    "from torchvision import transforms\n",
    "\n",
    "# Assume simclr_model, logreg_model, device are already defined and loaded.\n",
    "# simclr_model: the feature extractor model\n",
    "# logreg_model: the logistic regression model for (control, sd, exploded_all) classification.\n",
    "# device: torch.device(\"cuda\" if torch.cuda.is_available() else \"cpu\")\n",
    "\n",
    "def get_all_groups(root_dir):\n",
    "    # All directories in root_dir are considered different groups\n",
    "    groups = []\n",
    "    for d in os.listdir(root_dir):\n",
    "        dir_path = os.path.join(root_dir, d)\n",
    "        if os.path.isdir(dir_path):\n",
    "            groups.append(d)\n",
    "    return groups\n",
    "\n",
    "def load_inference_data(root_dir):\n",
    "    groups = get_all_groups(root_dir)\n",
    "    \n",
    "    image_files = []\n",
    "    group_names = []\n",
    "    \n",
    "    # Dummy labels since it's just inference\n",
    "    dummy_labels = []\n",
    "\n",
    "    for group in groups:\n",
    "        class_dir = os.path.join(root_dir, group)\n",
    "        files = [os.path.join(class_dir, file) for file in os.listdir(class_dir)\n",
    "                 if file.lower().endswith(('.tiff', '.tif'))]\n",
    "        image_files.extend(files)\n",
    "        group_names.extend([group] * len(files))\n",
    "        dummy_labels.extend([0]*len(files))  # dummy label\n",
    "\n",
    "    return image_files, dummy_labels, group_names, groups\n",
    "\n",
    "class LabeledImageDatasetWithPath:\n",
    "    def __init__(self, image_files, labels, transform=None):\n",
    "        self.image_files = image_files\n",
    "        self.labels = labels\n",
    "        self.transform = transform\n",
    "        self.resize_transform = transforms.Resize((96, 96))\n",
    "\n",
    "    def __len__(self):\n",
    "        return len(self.image_files)\n",
    "\n",
    "    def __getitem__(self, idx):\n",
    "        img_path = self.image_files[idx]\n",
    "        image = tiff.imread(img_path)\n",
    "\n",
    "        # Handle shape: ensure CxHxW\n",
    "        if image.ndim == 3 and image.shape[2] == 3:\n",
    "            image = np.transpose(image, (2, 0, 1))\n",
    "        if image.shape[0] != 3:\n",
    "            raise ValueError(f\"Image {img_path} doesn't have 3 channels.\")\n",
    "\n",
    "        image = image.astype(np.float32) / 65535.0\n",
    "        image = torch.tensor(image, dtype=torch.float32)\n",
    "        image = self.resize_transform(image)\n",
    "\n",
    "        label = self.labels[idx]\n",
    "        return image, label, img_path\n",
    "\n",
    "@torch.no_grad()\n",
    "def extract_features(model, dataloader, device):\n",
    "    network = deepcopy(model.convnet)\n",
    "    network.fc = nn.Identity()\n",
    "    network.eval()\n",
    "    network.to(device)\n",
    "\n",
    "    all_features = []\n",
    "    all_labels = []\n",
    "    all_paths = []\n",
    "    for batch_imgs, batch_labels, batch_paths in tqdm(dataloader, desc=\"Extracting Features\"):\n",
    "        batch_imgs = batch_imgs.to(device)\n",
    "        batch_feats = network(batch_imgs)\n",
    "        all_features.append(batch_feats.cpu())\n",
    "        all_labels.append(batch_labels)\n",
    "        all_paths.extend(batch_paths)\n",
    "    all_features = torch.cat(all_features, dim=0)\n",
    "    all_labels = torch.cat(all_labels, dim=0)\n",
    "    return all_features, all_labels, all_paths\n",
    "\n",
    "@torch.no_grad()\n",
    "def predict_with_probs(model, features, device):\n",
    "    model.eval()\n",
    "    features = features.to(device)\n",
    "    logits = model(features)  # shape: [N, 3]\n",
    "    probs = F.softmax(logits, dim=1)  # Convert logits to probabilities\n",
    "    return probs.cpu().numpy()\n",
    "\n",
    "# --------------------\n",
    "# MAIN INFERENCE FLOW\n",
    "# --------------------\n",
    "\n",
    "root_dir = r\"C:\\Users\\k54739\\Bibi_new_thesis\\thesis\\softmax_dataset\\2_class\\inference\"\n",
    "\n",
    "# 1. Load data from all groups\n",
    "image_files, dummy_labels, group_names, groups = load_inference_data(root_dir)\n",
    "\n",
    "# 2. Create dataset and dataloader for inference\n",
    "inference_dataset = LabeledImageDatasetWithPath(image_files, dummy_labels)\n",
    "inference_loader = DataLoader(inference_dataset, batch_size=16, shuffle=False, pin_memory=True, num_workers=0)\n",
    "\n",
    "# 3. Extract features\n",
    "inference_feats, inference_true_labels, inference_paths = extract_features(simclr_model, inference_loader, device)\n",
    "\n",
    "# 4. Get probabilities from logistic regression model\n",
    "probs = predict_with_probs(logreg_model, inference_feats, device)  # shape [N, 3]\n",
    "# probs[:, 0] = p(control)\n",
    "# probs[:, 1] = p(sd)\n",
    "# probs[:, 2] = p(exploded_all)\n",
    "\n",
    "# Store results by group\n",
    "# groups_data[group_name] = list of [p_control, p_sd, p_exploded_all, img_path]\n",
    "groups_data = {g: [] for g in groups}\n",
    "for p_control, p_sd, p_explod, grp, path in zip(probs[:,0], probs[:,1], probs[:,2], group_names, inference_paths):\n",
    "    groups_data[grp].append([p_control, p_sd, p_explod, path])\n",
    "\n",
    "# --------------------\n",
    "# PLOTTING INDIVIDUAL DISTRIBUTIONS PER GROUP\n",
    "# Now we have 3 probabilities per image. We will plot 3 histograms per group.\n",
    "# --------------------\n",
    "\n",
    "num_groups = len(groups)\n",
    "# We need 3 subplots per group row now\n",
    "fig, axs = plt.subplots(num_groups, 3, figsize=(15, 4*num_groups))\n",
    "\n",
    "if num_groups == 1:\n",
    "    axs = np.array([axs])  # Ensure axs is 2D even for a single group\n",
    "\n",
    "for i, grp in enumerate(groups):\n",
    "    p_control_list = [item[0] for item in groups_data[grp]]\n",
    "    p_sd_list = [item[1] for item in groups_data[grp]]\n",
    "    p_explod_list = [item[2] for item in groups_data[grp]]\n",
    "\n",
    "    # Plot p(control)\n",
    "    axs[i, 0].hist(p_control_list, bins=20, alpha=0.7, edgecolor='black')\n",
    "    axs[i, 0].set_title(f\"{grp} Group p(control)\")\n",
    "    axs[i, 0].set_xlabel(\"Probability\")\n",
    "    axs[i, 0].set_ylabel(\"Count\")\n",
    "\n",
    "    # Plot p(sd)\n",
    "    axs[i, 1].hist(p_sd_list, bins=20, alpha=0.7, edgecolor='black', color='green')\n",
    "    axs[i, 1].set_title(f\"{grp} Group p(sd)\")\n",
    "    axs[i, 1].set_xlabel(\"Probability\")\n",
    "    axs[i, 1].set_ylabel(\"Count\")\n",
    "\n",
    "    # Plot p(exploded_all)\n",
    "    axs[i, 2].hist(p_explod_list, bins=20, alpha=0.7, edgecolor='black', color='orange')\n",
    "    axs[i, 2].set_title(f\"{grp} Group p(exploded_all)\")\n",
    "    axs[i, 2].set_xlabel(\"Probability\")\n",
    "    axs[i, 2].set_ylabel(\"Count\")\n",
    "\n",
    "plt.tight_layout()\n",
    "plt.show()\n",
    "\n",
    "# --------------------\n",
    "# PLOTTING COMBINED DISTRIBUTIONS ACROSS ALL GROUPS\n",
    "# For each class probability, we combine distributions of all groups\n",
    "# --------------------\n",
    "\n",
    "# Combined p(control)\n",
    "plt.figure(figsize=(10, 5))\n",
    "for grp in groups:\n",
    "    p_control_list = [item[0] for item in groups_data[grp]]\n",
    "    plt.hist(p_control_list, bins=20, alpha=0.5, edgecolor='black', label=grp)\n",
    "plt.title(\"p(control) Distribution Across All Groups\")\n",
    "plt.xlabel(\"Probability\")\n",
    "plt.ylabel(\"Count\")\n",
    "plt.legend()\n",
    "plt.show()\n",
    "\n",
    "# Combined p(sd)\n",
    "plt.figure(figsize=(10, 5))\n",
    "for grp in groups:\n",
    "    p_sd_list = [item[1] for item in groups_data[grp]]\n",
    "    plt.hist(p_sd_list, bins=20, alpha=0.5, edgecolor='black', label=grp)\n",
    "plt.title(\"p(sd) Distribution Across All Groups\")\n",
    "plt.xlabel(\"Probability\")\n",
    "plt.ylabel(\"Count\")\n",
    "plt.legend()\n",
    "plt.show()\n",
    "\n",
    "# Combined p(exploded_all)\n",
    "plt.figure(figsize=(10, 5))\n",
    "for grp in groups:\n",
    "    p_explod_list = [item[2] for item in groups_data[grp]]\n",
    "    plt.hist(p_explod_list, bins=20, alpha=0.5, edgecolor='black', label=grp)\n",
    "plt.title(\"p(exploded_all) Distribution Across All Groups\")\n",
    "plt.xlabel(\"Probability\")\n",
    "plt.ylabel(\"Count\")\n",
    "plt.legend()\n",
    "plt.show()\n",
    "\n",
    "# Done!\n"
   ]
  },
  {
   "cell_type": "code",
   "execution_count": 21,
   "metadata": {},
   "outputs": [],
   "source": [
    "all_images_data = []\n",
    "for grp in groups:\n",
    "    # each entry is [p_control, p_sd, p_explod, img_path]\n",
    "    all_images_data.extend(groups_data[grp])"
   ]
  },
  {
   "cell_type": "code",
   "execution_count": null,
   "metadata": {},
   "outputs": [],
   "source": [
    "# Sort by p(control) in ascending order\n",
    "all_images_data_pcontrol = sorted(all_images_data, key=lambda x: x[0])\n",
    "sorted_by_control = [(entry[3], entry[0]) for entry in all_images_data_pcontrol]\n",
    "print(\"Images sorted by p(control) in ascending order:\")\n",
    "for img_path, p_ctrl in sorted_by_control:\n",
    "    print(f\"{img_path}: {p_ctrl:.4f}\")\n",
    "\n",
    "print(\"\\n\" + \"-\"*50 + \"\\n\")"
   ]
  },
  {
   "cell_type": "code",
   "execution_count": null,
   "metadata": {},
   "outputs": [],
   "source": [
    "# Sort by p(sd) in ascending order\n",
    "all_images_data_psd = sorted(all_images_data, key=lambda x: x[1])\n",
    "sorted_by_sd = [(entry[3], entry[1]) for entry in all_images_data_psd]\n",
    "print(\"Images sorted by p(sd) in ascending order:\")\n",
    "for img_path, p_sd in sorted_by_sd:\n",
    "    print(f\"{img_path}: {p_sd:.4f}\")"
   ]
  },
  {
   "cell_type": "code",
   "execution_count": null,
   "metadata": {},
   "outputs": [],
   "source": [
    "# Sort by p(exploded_all) in ascending order\n",
    "all_images_data_pexplod = sorted(all_images_data, key=lambda x: x[2])\n",
    "sorted_by_explod = [(entry[3], entry[2]) for entry in all_images_data_pexplod]\n",
    "print(\"Images sorted by p(exploded_all) in ascending order:\")\n",
    "for img_path, p_explod in sorted_by_explod:\n",
    "    print(f\"{img_path}: {p_explod:.4f}\")"
   ]
  },
  {
   "cell_type": "code",
   "execution_count": null,
   "metadata": {},
   "outputs": [],
   "source": []
  },
  {
   "cell_type": "code",
   "execution_count": null,
   "metadata": {},
   "outputs": [],
   "source": []
  },
  {
   "cell_type": "code",
   "execution_count": 22,
   "metadata": {},
   "outputs": [],
   "source": [
    "\n",
    "# 750 epoch result, plot 2 is better.\n"
   ]
  },
  {
   "cell_type": "code",
   "execution_count": null,
   "metadata": {},
   "outputs": [],
   "source": [
    "import os\n",
    "import torch\n",
    "import torch.nn as nn\n",
    "import torch.nn.functional as F\n",
    "from torch.utils.data import DataLoader\n",
    "import matplotlib.pyplot as plt\n",
    "import numpy as np\n",
    "from copy import deepcopy\n",
    "from tqdm import tqdm\n",
    "import tifffile as tiff\n",
    "from torchvision import transforms\n",
    "\n",
    "# Assume simclr_model, logreg_model, device are already defined and loaded.\n",
    "# simclr_model: the feature extractor model\n",
    "# logreg_model: the logistic regression model for (control, sd, exploded_all) classification.\n",
    "# device: torch.device(\"cuda\" if torch.cuda.is_available() else \"cpu\")\n",
    "\n",
    "def get_all_groups(root_dir):\n",
    "    # All directories in root_dir are considered different groups\n",
    "    groups = []\n",
    "    for d in os.listdir(root_dir):\n",
    "        dir_path = os.path.join(root_dir, d)\n",
    "        if os.path.isdir(dir_path):\n",
    "            groups.append(d)\n",
    "    return groups\n",
    "\n",
    "def load_inference_data(root_dir):\n",
    "    groups = get_all_groups(root_dir)\n",
    "    \n",
    "    image_files = []\n",
    "    group_names = []\n",
    "    \n",
    "    # Dummy labels since it's just inference\n",
    "    dummy_labels = []\n",
    "\n",
    "    for group in groups:\n",
    "        class_dir = os.path.join(root_dir, group)\n",
    "        files = [os.path.join(class_dir, file) for file in os.listdir(class_dir)\n",
    "                 if file.lower().endswith(('.tiff', '.tif'))]\n",
    "        image_files.extend(files)\n",
    "        group_names.extend([group] * len(files))\n",
    "        dummy_labels.extend([0]*len(files))  # dummy label\n",
    "\n",
    "    return image_files, dummy_labels, group_names, groups\n",
    "\n",
    "class LabeledImageDatasetWithPath:\n",
    "    def __init__(self, image_files, labels, transform=None):\n",
    "        self.image_files = image_files\n",
    "        self.labels = labels\n",
    "        self.transform = transform\n",
    "        self.resize_transform = transforms.Resize((96, 96))\n",
    "\n",
    "    def __len__(self):\n",
    "        return len(self.image_files)\n",
    "\n",
    "    def __getitem__(self, idx):\n",
    "        img_path = self.image_files[idx]\n",
    "        image = tiff.imread(img_path)\n",
    "\n",
    "        # Handle shape: ensure CxHxW\n",
    "        if image.ndim == 3 and image.shape[2] == 3:\n",
    "            image = np.transpose(image, (2, 0, 1))\n",
    "        if image.shape[0] != 3:\n",
    "            raise ValueError(f\"Image {img_path} doesn't have 3 channels.\")\n",
    "\n",
    "        image = image.astype(np.float32) / 65535.0\n",
    "        image = torch.tensor(image, dtype=torch.float32)\n",
    "        image = self.resize_transform(image)\n",
    "\n",
    "        label = self.labels[idx]\n",
    "        return image, label, img_path\n",
    "\n",
    "@torch.no_grad()\n",
    "def extract_features(model, dataloader, device):\n",
    "    network = deepcopy(model.convnet)\n",
    "    network.fc = nn.Identity()\n",
    "    network.eval()\n",
    "    network.to(device)\n",
    "\n",
    "    all_features = []\n",
    "    all_labels = []\n",
    "    all_paths = []\n",
    "    for batch_imgs, batch_labels, batch_paths in tqdm(dataloader, desc=\"Extracting Features\"):\n",
    "        batch_imgs = batch_imgs.to(device)\n",
    "        batch_feats = network(batch_imgs)\n",
    "        all_features.append(batch_feats.cpu())\n",
    "        all_labels.append(batch_labels)\n",
    "        all_paths.extend(batch_paths)\n",
    "    all_features = torch.cat(all_features, dim=0)\n",
    "    all_labels = torch.cat(all_labels, dim=0)\n",
    "    return all_features, all_labels, all_paths\n",
    "\n",
    "@torch.no_grad()\n",
    "def predict_with_probs(model, features, device):\n",
    "    model.eval()\n",
    "    features = features.to(device)\n",
    "    logits = model(features)  # shape: [N, 3]\n",
    "    probs = F.softmax(logits, dim=1)  # Convert logits to probabilities\n",
    "    return probs.cpu().numpy()\n",
    "\n",
    "# --------------------\n",
    "# MAIN INFERENCE FLOW\n",
    "# --------------------\n",
    "\n",
    "root_dir = r\"C:\\Users\\k54739\\Bibi_new_thesis\\thesis\\softmax_dataset\\2_class\\inference\"\n",
    "\n",
    "# 1. Load data from all groups\n",
    "image_files, dummy_labels, group_names, groups = load_inference_data(root_dir)\n",
    "\n",
    "# 2. Create dataset and dataloader for inference\n",
    "inference_dataset = LabeledImageDatasetWithPath(image_files, dummy_labels)\n",
    "inference_loader = DataLoader(inference_dataset, batch_size=16, shuffle=False, pin_memory=True, num_workers=0)\n",
    "\n",
    "# 3. Extract features\n",
    "inference_feats, inference_true_labels, inference_paths = extract_features(simclr_model, inference_loader, device)\n",
    "\n",
    "# 4. Get probabilities from logistic regression model\n",
    "probs = predict_with_probs(logreg_model, inference_feats, device)  # shape [N, 3]\n",
    "# probs[:, 0] = p(control)\n",
    "# probs[:, 1] = p(sd)\n",
    "# probs[:, 2] = p(exploded_all)\n",
    "\n",
    "# Store results by group\n",
    "# groups_data[group_name] = list of [p_control, p_sd, p_exploded_all, img_path]\n",
    "groups_data = {g: [] for g in groups}\n",
    "for p_control, p_sd, p_explod, grp, path in zip(probs[:,0], probs[:,1], probs[:,2], group_names, inference_paths):\n",
    "    groups_data[grp].append([p_control, p_sd, p_explod, path])\n",
    "\n",
    "# --------------------\n",
    "# PLOTTING INDIVIDUAL DISTRIBUTIONS PER GROUP\n",
    "# Now we have 3 probabilities per image. We will plot 3 histograms per group.\n",
    "# --------------------\n",
    "\n",
    "num_groups = len(groups)\n",
    "# We need 3 subplots per group row now\n",
    "fig, axs = plt.subplots(num_groups, 3, figsize=(15, 4*num_groups))\n",
    "\n",
    "if num_groups == 1:\n",
    "    axs = np.array([axs])  # Ensure axs is 2D even for a single group\n",
    "\n",
    "for i, grp in enumerate(groups):\n",
    "    p_control_list = [item[0] for item in groups_data[grp]]\n",
    "    p_sd_list = [item[1] for item in groups_data[grp]]\n",
    "    p_explod_list = [item[2] for item in groups_data[grp]]\n",
    "\n",
    "    # Plot p(control)\n",
    "    axs[i, 0].hist(p_control_list, bins=20, alpha=0.7, edgecolor='black')\n",
    "    axs[i, 0].set_title(f\"{grp} Group p(control)\")\n",
    "    axs[i, 0].set_xlabel(\"Probability\")\n",
    "    axs[i, 0].set_ylabel(\"Count\")\n",
    "\n",
    "    # Plot p(sd)\n",
    "    axs[i, 1].hist(p_sd_list, bins=20, alpha=0.7, edgecolor='black', color='green')\n",
    "    axs[i, 1].set_title(f\"{grp} Group p(sd)\")\n",
    "    axs[i, 1].set_xlabel(\"Probability\")\n",
    "    axs[i, 1].set_ylabel(\"Count\")\n",
    "\n",
    "    # Plot p(exploded_all)\n",
    "    axs[i, 2].hist(p_explod_list, bins=20, alpha=0.7, edgecolor='black', color='orange')\n",
    "    axs[i, 2].set_title(f\"{grp} Group p(exploded_all)\")\n",
    "    axs[i, 2].set_xlabel(\"Probability\")\n",
    "    axs[i, 2].set_ylabel(\"Count\")\n",
    "\n",
    "plt.tight_layout()\n",
    "plt.show()\n",
    "\n",
    "# --------------------\n",
    "# PLOTTING COMBINED DISTRIBUTIONS ACROSS ALL GROUPS\n",
    "# For each class probability, we combine distributions of all groups\n",
    "# --------------------\n",
    "\n",
    "# Combined p(control)\n",
    "plt.figure(figsize=(10, 5))\n",
    "for grp in groups:\n",
    "    p_control_list = [item[0] for item in groups_data[grp]]\n",
    "    plt.hist(p_control_list, bins=20, alpha=0.5, edgecolor='black', label=grp)\n",
    "plt.title(\"p(control) Distribution Across All Groups\")\n",
    "plt.xlabel(\"Probability\")\n",
    "plt.ylabel(\"Count\")\n",
    "plt.legend()\n",
    "plt.show()\n",
    "\n",
    "# Combined p(sd)\n",
    "plt.figure(figsize=(10, 5))\n",
    "for grp in groups:\n",
    "    p_sd_list = [item[1] for item in groups_data[grp]]\n",
    "    plt.hist(p_sd_list, bins=20, alpha=0.5, edgecolor='black', label=grp)\n",
    "plt.title(\"p(sd) Distribution Across All Groups\")\n",
    "plt.xlabel(\"Probability\")\n",
    "plt.ylabel(\"Count\")\n",
    "plt.legend()\n",
    "plt.show()\n",
    "\n",
    "# Combined p(exploded_all)\n",
    "plt.figure(figsize=(10, 5))\n",
    "for grp in groups:\n",
    "    p_explod_list = [item[2] for item in groups_data[grp]]\n",
    "    plt.hist(p_explod_list, bins=20, alpha=0.5, edgecolor='black', label=grp)\n",
    "plt.title(\"p(exploded_all) Distribution Across All Groups\")\n",
    "plt.xlabel(\"Probability\")\n",
    "plt.ylabel(\"Count\")\n",
    "plt.legend()\n",
    "plt.show()\n",
    "\n",
    "# Done!\n"
   ]
  },
  {
   "cell_type": "code",
   "execution_count": 24,
   "metadata": {},
   "outputs": [],
   "source": [
    "all_images_data = []\n",
    "for grp in groups:\n",
    "    # each entry is [p_control, p_sd, p_explod, img_path]\n",
    "    all_images_data.extend(groups_data[grp])"
   ]
  },
  {
   "cell_type": "code",
   "execution_count": null,
   "metadata": {},
   "outputs": [],
   "source": [
    "# Sort by p(control) in ascending order\n",
    "all_images_data_pcontrol = sorted(all_images_data, key=lambda x: x[0])\n",
    "sorted_by_control = [(entry[3], entry[0]) for entry in all_images_data_pcontrol]\n",
    "print(\"Images sorted by p(control) in ascending order:\")\n",
    "for img_path, p_ctrl in sorted_by_control:\n",
    "    print(f\"{img_path}: {p_ctrl:.4f}\")\n",
    "\n",
    "print(\"\\n\" + \"-\"*50 + \"\\n\")"
   ]
  },
  {
   "cell_type": "code",
   "execution_count": null,
   "metadata": {},
   "outputs": [],
   "source": [
    "# Sort by p(sd) in ascending order\n",
    "all_images_data_psd = sorted(all_images_data, key=lambda x: x[1])\n",
    "sorted_by_sd = [(entry[3], entry[1]) for entry in all_images_data_psd]\n",
    "print(\"Images sorted by p(sd) in ascending order:\")\n",
    "for img_path, p_sd in sorted_by_sd:\n",
    "    print(f\"{img_path}: {p_sd:.4f}\")"
   ]
  },
  {
   "cell_type": "code",
   "execution_count": null,
   "metadata": {},
   "outputs": [],
   "source": [
    "# Sort by p(exploded_all) in ascending order\n",
    "all_images_data_pexplod = sorted(all_images_data, key=lambda x: x[2])\n",
    "sorted_by_explod = [(entry[3], entry[2]) for entry in all_images_data_pexplod]\n",
    "print(\"Images sorted by p(exploded_all) in ascending order:\")\n",
    "for img_path, p_explod in sorted_by_explod:\n",
    "    print(f\"{img_path}: {p_explod:.4f}\")"
   ]
  },
  {
   "cell_type": "code",
   "execution_count": null,
   "metadata": {},
   "outputs": [],
   "source": []
  },
  {
   "cell_type": "code",
   "execution_count": null,
   "metadata": {},
   "outputs": [],
   "source": []
  },
  {
   "cell_type": "code",
   "execution_count": null,
   "metadata": {},
   "outputs": [],
   "source": []
  },
  {
   "cell_type": "code",
   "execution_count": null,
   "metadata": {},
   "outputs": [],
   "source": []
  },
  {
   "cell_type": "code",
   "execution_count": null,
   "metadata": {},
   "outputs": [],
   "source": []
  },
  {
   "cell_type": "code",
   "execution_count": null,
   "metadata": {},
   "outputs": [],
   "source": []
  },
  {
   "cell_type": "code",
   "execution_count": null,
   "metadata": {},
   "outputs": [],
   "source": []
  },
  {
   "cell_type": "code",
   "execution_count": null,
   "metadata": {},
   "outputs": [],
   "source": []
  },
  {
   "cell_type": "code",
   "execution_count": null,
   "metadata": {},
   "outputs": [],
   "source": []
  },
  {
   "cell_type": "code",
   "execution_count": null,
   "metadata": {},
   "outputs": [],
   "source": []
  },
  {
   "cell_type": "code",
   "execution_count": null,
   "metadata": {},
   "outputs": [],
   "source": []
  }
 ],
 "metadata": {
  "kernelspec": {
   "display_name": "master",
   "language": "python",
   "name": "python3"
  },
  "language_info": {
   "codemirror_mode": {
    "name": "ipython",
    "version": 3
   },
   "file_extension": ".py",
   "mimetype": "text/x-python",
   "name": "python",
   "nbconvert_exporter": "python",
   "pygments_lexer": "ipython3",
   "version": "3.12.4"
  }
 },
 "nbformat": 4,
 "nbformat_minor": 2
}
