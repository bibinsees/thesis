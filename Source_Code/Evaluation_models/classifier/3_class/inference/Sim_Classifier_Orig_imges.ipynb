{
 "cells": [
  {
   "cell_type": "code",
   "execution_count": 1,
   "metadata": {},
   "outputs": [],
   "source": [
    "import os\n",
    "import numpy as np\n",
    "import torch\n",
    "from torch import nn, optim\n",
    "from torch.utils.data import Dataset, DataLoader, random_split\n",
    "from torchvision import transforms\n",
    "import torchvision\n",
    "import tifffile as tiff\n",
    "import matplotlib.pyplot as plt\n",
    "import time\n",
    "from tqdm import tqdm\n",
    "from copy import deepcopy\n",
    "from sklearn.model_selection import train_test_split\n",
    "from sklearn.metrics import accuracy_score\n",
    "import random"
   ]
  },
  {
   "cell_type": "code",
   "execution_count": 2,
   "metadata": {},
   "outputs": [],
   "source": [
    "# Set seed for reproducibility\n",
    "def set_seed(seed):\n",
    "    random.seed(seed)\n",
    "    np.random.seed(seed)\n",
    "    torch.manual_seed(seed)\n",
    "    if torch.cuda.is_available():\n",
    "        torch.cuda.manual_seed(seed)\n",
    "        torch.cuda.manual_seed_all(seed)\n",
    "    torch.backends.cudnn.deterministic = True\n",
    "    torch.backends.cudnn.benchmark = False\n",
    "\n",
    "# Set seed\n",
    "set_seed(42)"
   ]
  },
  {
   "cell_type": "code",
   "execution_count": 3,
   "metadata": {},
   "outputs": [],
   "source": [
    "# Set the device\n",
    "device = torch.device(\"cuda\" if torch.cuda.is_available() else \"cpu\")"
   ]
  },
  {
   "cell_type": "markdown",
   "metadata": {},
   "source": [
    "# Logistic"
   ]
  },
  {
   "cell_type": "code",
   "execution_count": 4,
   "metadata": {},
   "outputs": [],
   "source": [
    "class LabeledImageDataset(Dataset):\n",
    "    def __init__(self, image_files, labels, transform=None):\n",
    "        self.image_files = image_files\n",
    "        self.labels = labels\n",
    "        self.transform = transform\n",
    "        self.resize_transform = transforms.Resize((96, 96))\n",
    "\n",
    "    def __len__(self):\n",
    "        return len(self.image_files)\n",
    "\n",
    "    def __getitem__(self, idx):\n",
    "        img_path = self.image_files[idx]\n",
    "        image = tiff.imread(img_path)\n",
    "\n",
    "        # Ensure the image has 3 layers (channels)\n",
    "        if image.shape[0] != 3:\n",
    "            raise ValueError(f\"Image {img_path} does not have exactly 3 layers.\")\n",
    "\n",
    "        # Normalize the 16-bit image to [0, 1]\n",
    "        image = image.astype(np.float32) / 65535.0\n",
    "\n",
    "        # Convert to a torch tensor and add channel dimension\n",
    "        image = torch.tensor(image, dtype=torch.float32)\n",
    "        \n",
    "        # Apply resize transform\n",
    "        image = self.resize_transform(image)\n",
    "\n",
    "        label = self.labels[idx]\n",
    "\n",
    "        return image, label\n",
    "\n",
    "def load_and_split_data(root_dir, test_size=0.2):\n",
    "    #classes = ['untreated', 'single_dose', 'drug_screened']\n",
    "    classes = ['cond7_all', 'sd','ex']\n",
    "    image_files = []\n",
    "    labels = []\n",
    "\n",
    "    for idx, class_name in enumerate(classes):\n",
    "        class_dir = os.path.join(root_dir, class_name)\n",
    "        files = [os.path.join(class_dir, file) for file in os.listdir(class_dir) if file.endswith(('.tiff', '.tif'))]\n",
    "        image_files.extend(files)\n",
    "        labels.extend([idx] * len(files))\n",
    "    \n",
    "    # Check if the labels correctly reflect the classes\n",
    "    #print(\"Label distribution:\", {classes[i]: labels.count(i) for i in range(len(classes))})\n",
    "    \n",
    "    # Split data into training and test sets\n",
    "    train_files, test_files, train_labels, test_labels = train_test_split(\n",
    "        image_files, labels, test_size=test_size, stratify=labels, random_state=42)\n",
    "\n",
    "    return train_files, test_files, train_labels, test_labels\n",
    "\n",
    "\n",
    "# Directories for labeled data\n",
    "image_dir = r\"G:\\classification\"\n",
    "\n",
    "# Load and split the data\n",
    "train_files, test_files, train_labels, test_labels = load_and_split_data(image_dir, test_size=0.2)\n",
    "\n",
    "# Create the labeled datasets\n",
    "train_labeled_dataset = LabeledImageDataset(train_files, train_labels)\n",
    "test_labeled_dataset = LabeledImageDataset(test_files, test_labels)\n",
    "\n",
    "# Define DataLoaders\n",
    "batch_size = 16\n",
    "train_loader_labeled = DataLoader(train_labeled_dataset, batch_size=batch_size, shuffle=True, drop_last=False, pin_memory=True, num_workers=0)\n",
    "test_loader_labeled = DataLoader(test_labeled_dataset, batch_size=batch_size, shuffle=False, drop_last=False, pin_memory=True, num_workers=0)"
   ]
  },
  {
   "cell_type": "markdown",
   "metadata": {},
   "source": [
    "class LabeledImageDataset(Dataset):\n",
    "    def __init__(self, image_files, labels, transform=None):\n",
    "        self.image_files = image_files\n",
    "        self.labels = labels\n",
    "        self.transform = transform\n",
    "        self.resize_transform = transforms.Resize((96, 96))\n",
    "\n",
    "    def __len__(self):\n",
    "        return len(self.image_files)\n",
    "\n",
    "    def __getitem__(self, idx):\n",
    "        img_path = self.image_files[idx]\n",
    "        image = tiff.imread(img_path)\n",
    "\n",
    "        # Ensure the image has 3 layers (channels)\n",
    "        if image.shape[0] != 3:\n",
    "            raise ValueError(f\"Image {img_path} does not have exactly 3 layers.\")\n",
    "\n",
    "        # Normalize the 16-bit image to [0, 1]\n",
    "        image = image.astype(np.float32) / 65535.0\n",
    "\n",
    "        # Convert to a torch tensor and add channel dimension\n",
    "        image = torch.tensor(image, dtype=torch.float32)\n",
    "        \n",
    "        # Apply resize transform\n",
    "        image = self.resize_transform(image)\n",
    "\n",
    "        label = self.labels[idx]\n",
    "\n",
    "        return image, label\n",
    "\n",
    "def load_and_split_data(root_dir, test_size=0.2):\n",
    "    #classes = ['untreated', 'single_dose', 'drug_screened']\n",
    "    classes = ['ex', 'sd', 'cond7_all']\n",
    "    image_files = []\n",
    "    labels = []\n",
    "\n",
    "    for idx, class_name in enumerate(classes):\n",
    "        class_dir = os.path.join(root_dir, class_name)\n",
    "        files = [os.path.join(class_dir, file) for file in os.listdir(class_dir) if file.endswith(('.tiff', '.tif'))]\n",
    "        image_files.extend(files)\n",
    "        labels.extend([idx] * len(files))\n",
    "    \n",
    "    # Check if the labels correctly reflect the classes\n",
    "    #print(\"Label distribution:\", {classes[i]: labels.count(i) for i in range(len(classes))})\n",
    "    \n",
    "    # Split data into training and test sets\n",
    "    train_files, test_files, train_labels, test_labels = train_test_split(\n",
    "        image_files, labels, test_size=test_size, stratify=labels, random_state=42)\n",
    "\n",
    "    return train_files, test_files, train_labels, test_labels\n",
    "\n",
    "\n",
    "# Directories for labeled data\n",
    "image_dir = r\"C:\\Users\\k54739\\Bibi_new_thesis\\thesis\\classification\"\n",
    "\n",
    "# Load and split the data\n",
    "train_files, test_files, train_labels, test_labels = load_and_split_data(image_dir, test_size=0.2)\n",
    "\n",
    "# Create the labeled datasets\n",
    "train_labeled_dataset = LabeledImageDataset(train_files, train_labels)\n",
    "test_labeled_dataset = LabeledImageDataset(test_files, test_labels)\n",
    "\n",
    "# Define DataLoaders\n",
    "batch_size = 16\n",
    "train_loader_labeled = DataLoader(train_labeled_dataset, batch_size=batch_size, shuffle=True, drop_last=False, pin_memory=True, num_workers=0)\n",
    "test_loader_labeled = DataLoader(test_labeled_dataset, batch_size=batch_size, shuffle=False, drop_last=False, pin_memory=True, num_workers=0)"
   ]
  },
  {
   "cell_type": "code",
   "execution_count": 5,
   "metadata": {},
   "outputs": [
    {
     "name": "stdout",
     "output_type": "stream",
     "text": [
      "torch.Size([16, 3, 96, 96]) torch.Size([16]) torch.float32\n",
      "tensor([1, 0, 0, 0, 0, 0, 0, 0, 0, 0, 0, 0, 0, 0, 0, 1])\n"
     ]
    }
   ],
   "source": [
    "for anchor,label in train_loader_labeled:\n",
    "    print(anchor.shape, label.shape, anchor.dtype)\n",
    "    print(label)\n",
    "    break"
   ]
  },
  {
   "cell_type": "markdown",
   "metadata": {},
   "source": [
    "all_labels = []\n",
    "\n",
    "for _, labels in train_loader_labeled:\n",
    "    print(labels)  # Print the labels for each batch\n",
    "    all_labels.extend(labels.tolist())  # Collect all labels in a list\n",
    "\n",
    "# If you want to print all labels as a single list after the loop\n",
    "print(\"All Labels:\", all_labels)\n"
   ]
  },
  {
   "cell_type": "markdown",
   "metadata": {},
   "source": [
    "unique_labels = set()\n",
    "\n",
    "for _, labels in train_loader_labeled:\n",
    "    unique_labels.update(labels.tolist())  # Add labels to the set\n",
    "\n",
    "print(\"Total unique labels:\", len(unique_labels))\n",
    "print(\"Unique labels:\", unique_labels)\n"
   ]
  },
  {
   "cell_type": "markdown",
   "metadata": {},
   "source": [
    "from collections import Counter\n",
    "\n",
    "label_counter = Counter()\n",
    "\n",
    "# Iterate through training data to count labels\n",
    "for _, labels in train_loader_labeled:\n",
    "    label_counter.update(labels.tolist())  # Update the counter with current batch labels\n",
    "\n",
    "# Iterate through test data to count labels\n",
    "for _, labels in test_loader_labeled:  # Assuming test_loader_labeled exists\n",
    "    label_counter.update(labels.tolist())  # Update the counter with current batch labels\n",
    "\n",
    "# Print counts for each label\n",
    "for label, count in label_counter.items():\n",
    "    print(f\"Label {label}: {count} occurrences\")\n",
    "\n",
    "# Optionally print the total counts\n",
    "print(\"Total counts (Training + Test):\", label_counter)\n"
   ]
  },
  {
   "cell_type": "code",
   "execution_count": 6,
   "metadata": {},
   "outputs": [],
   "source": [
    "def prepare_data_features(dataloader):\n",
    "    feats, labels = [], []\n",
    "    \n",
    "    for batch_imgs, batch_labels in tqdm(dataloader):\n",
    "        batch_imgs = batch_imgs.to(device)\n",
    "        \n",
    "        # Flatten the images from (N, C, H, W) to (N, C*H*W)\n",
    "        batch_feats = batch_imgs.view(batch_imgs.size(0), -1)  # Flatten the images\n",
    "        print(f\"Batch features shape: {batch_feats.shape}\")  # Check the feature shape\n",
    "        print(f\"Batch labels shape: {batch_labels.shape}\")\n",
    "        \n",
    "        feats.append(batch_feats.detach().cpu())\n",
    "        labels.append(batch_labels)\n",
    "\n",
    "    feats = torch.cat(feats, dim=0)\n",
    "    labels = torch.cat(labels, dim=0)\n",
    "    \n",
    "    print(f\"Features shape after concatenation: {feats.shape}\")\n",
    "    print(f\"Labels shape after concatenation: {labels.shape}\")\n",
    "\n",
    "    return torch.utils.data.TensorDataset(feats, labels)\n"
   ]
  },
  {
   "cell_type": "code",
   "execution_count": 7,
   "metadata": {},
   "outputs": [
    {
     "name": "stderr",
     "output_type": "stream",
     "text": [
      "  3%|▎         | 1/31 [00:00<00:18,  1.61it/s]"
     ]
    },
    {
     "name": "stdout",
     "output_type": "stream",
     "text": [
      "Batch features shape: torch.Size([16, 27648])\n",
      "Batch labels shape: torch.Size([16])\n"
     ]
    },
    {
     "name": "stderr",
     "output_type": "stream",
     "text": [
      "  6%|▋         | 2/31 [00:01<00:17,  1.68it/s]"
     ]
    },
    {
     "name": "stdout",
     "output_type": "stream",
     "text": [
      "Batch features shape: torch.Size([16, 27648])\n",
      "Batch labels shape: torch.Size([16])\n"
     ]
    },
    {
     "name": "stderr",
     "output_type": "stream",
     "text": [
      " 10%|▉         | 3/31 [00:01<00:16,  1.67it/s]"
     ]
    },
    {
     "name": "stdout",
     "output_type": "stream",
     "text": [
      "Batch features shape: torch.Size([16, 27648])\n",
      "Batch labels shape: torch.Size([16])\n"
     ]
    },
    {
     "name": "stderr",
     "output_type": "stream",
     "text": [
      " 13%|█▎        | 4/31 [00:02<00:16,  1.64it/s]"
     ]
    },
    {
     "name": "stdout",
     "output_type": "stream",
     "text": [
      "Batch features shape: torch.Size([16, 27648])\n",
      "Batch labels shape: torch.Size([16])\n"
     ]
    },
    {
     "name": "stderr",
     "output_type": "stream",
     "text": [
      " 16%|█▌        | 5/31 [00:02<00:15,  1.69it/s]"
     ]
    },
    {
     "name": "stdout",
     "output_type": "stream",
     "text": [
      "Batch features shape: torch.Size([16, 27648])\n",
      "Batch labels shape: torch.Size([16])\n"
     ]
    },
    {
     "name": "stderr",
     "output_type": "stream",
     "text": [
      " 19%|█▉        | 6/31 [00:03<00:14,  1.68it/s]"
     ]
    },
    {
     "name": "stdout",
     "output_type": "stream",
     "text": [
      "Batch features shape: torch.Size([16, 27648])\n",
      "Batch labels shape: torch.Size([16])\n"
     ]
    },
    {
     "name": "stderr",
     "output_type": "stream",
     "text": [
      " 23%|██▎       | 7/31 [00:04<00:14,  1.69it/s]"
     ]
    },
    {
     "name": "stdout",
     "output_type": "stream",
     "text": [
      "Batch features shape: torch.Size([16, 27648])\n",
      "Batch labels shape: torch.Size([16])\n"
     ]
    },
    {
     "name": "stderr",
     "output_type": "stream",
     "text": [
      " 26%|██▌       | 8/31 [00:04<00:13,  1.69it/s]"
     ]
    },
    {
     "name": "stdout",
     "output_type": "stream",
     "text": [
      "Batch features shape: torch.Size([16, 27648])\n",
      "Batch labels shape: torch.Size([16])\n"
     ]
    },
    {
     "name": "stderr",
     "output_type": "stream",
     "text": [
      " 29%|██▉       | 9/31 [00:05<00:13,  1.68it/s]"
     ]
    },
    {
     "name": "stdout",
     "output_type": "stream",
     "text": [
      "Batch features shape: torch.Size([16, 27648])\n",
      "Batch labels shape: torch.Size([16])\n"
     ]
    },
    {
     "name": "stderr",
     "output_type": "stream",
     "text": [
      " 32%|███▏      | 10/31 [00:05<00:12,  1.71it/s]"
     ]
    },
    {
     "name": "stdout",
     "output_type": "stream",
     "text": [
      "Batch features shape: torch.Size([16, 27648])\n",
      "Batch labels shape: torch.Size([16])\n"
     ]
    },
    {
     "name": "stderr",
     "output_type": "stream",
     "text": [
      " 35%|███▌      | 11/31 [00:06<00:11,  1.69it/s]"
     ]
    },
    {
     "name": "stdout",
     "output_type": "stream",
     "text": [
      "Batch features shape: torch.Size([16, 27648])\n",
      "Batch labels shape: torch.Size([16])\n"
     ]
    },
    {
     "name": "stderr",
     "output_type": "stream",
     "text": [
      " 39%|███▊      | 12/31 [00:07<00:11,  1.68it/s]"
     ]
    },
    {
     "name": "stdout",
     "output_type": "stream",
     "text": [
      "Batch features shape: torch.Size([16, 27648])\n",
      "Batch labels shape: torch.Size([16])\n"
     ]
    },
    {
     "name": "stderr",
     "output_type": "stream",
     "text": [
      " 42%|████▏     | 13/31 [00:07<00:10,  1.68it/s]"
     ]
    },
    {
     "name": "stdout",
     "output_type": "stream",
     "text": [
      "Batch features shape: torch.Size([16, 27648])\n",
      "Batch labels shape: torch.Size([16])\n"
     ]
    },
    {
     "name": "stderr",
     "output_type": "stream",
     "text": [
      " 45%|████▌     | 14/31 [00:08<00:10,  1.66it/s]"
     ]
    },
    {
     "name": "stdout",
     "output_type": "stream",
     "text": [
      "Batch features shape: torch.Size([16, 27648])\n",
      "Batch labels shape: torch.Size([16])\n"
     ]
    },
    {
     "name": "stderr",
     "output_type": "stream",
     "text": [
      " 48%|████▊     | 15/31 [00:08<00:09,  1.70it/s]"
     ]
    },
    {
     "name": "stdout",
     "output_type": "stream",
     "text": [
      "Batch features shape: torch.Size([16, 27648])\n",
      "Batch labels shape: torch.Size([16])\n"
     ]
    },
    {
     "name": "stderr",
     "output_type": "stream",
     "text": [
      " 52%|█████▏    | 16/31 [00:09<00:08,  1.67it/s]"
     ]
    },
    {
     "name": "stdout",
     "output_type": "stream",
     "text": [
      "Batch features shape: torch.Size([16, 27648])\n",
      "Batch labels shape: torch.Size([16])\n"
     ]
    },
    {
     "name": "stderr",
     "output_type": "stream",
     "text": [
      " 55%|█████▍    | 17/31 [00:10<00:08,  1.68it/s]"
     ]
    },
    {
     "name": "stdout",
     "output_type": "stream",
     "text": [
      "Batch features shape: torch.Size([16, 27648])\n",
      "Batch labels shape: torch.Size([16])\n"
     ]
    },
    {
     "name": "stderr",
     "output_type": "stream",
     "text": [
      " 58%|█████▊    | 18/31 [00:10<00:07,  1.66it/s]"
     ]
    },
    {
     "name": "stdout",
     "output_type": "stream",
     "text": [
      "Batch features shape: torch.Size([16, 27648])\n",
      "Batch labels shape: torch.Size([16])\n"
     ]
    },
    {
     "name": "stderr",
     "output_type": "stream",
     "text": [
      " 61%|██████▏   | 19/31 [00:11<00:07,  1.65it/s]"
     ]
    },
    {
     "name": "stdout",
     "output_type": "stream",
     "text": [
      "Batch features shape: torch.Size([16, 27648])\n",
      "Batch labels shape: torch.Size([16])\n"
     ]
    },
    {
     "name": "stderr",
     "output_type": "stream",
     "text": [
      " 65%|██████▍   | 20/31 [00:11<00:06,  1.67it/s]"
     ]
    },
    {
     "name": "stdout",
     "output_type": "stream",
     "text": [
      "Batch features shape: torch.Size([16, 27648])\n",
      "Batch labels shape: torch.Size([16])\n"
     ]
    },
    {
     "name": "stderr",
     "output_type": "stream",
     "text": [
      " 68%|██████▊   | 21/31 [00:12<00:06,  1.66it/s]"
     ]
    },
    {
     "name": "stdout",
     "output_type": "stream",
     "text": [
      "Batch features shape: torch.Size([16, 27648])\n",
      "Batch labels shape: torch.Size([16])\n"
     ]
    },
    {
     "name": "stderr",
     "output_type": "stream",
     "text": [
      " 71%|███████   | 22/31 [00:13<00:05,  1.69it/s]"
     ]
    },
    {
     "name": "stdout",
     "output_type": "stream",
     "text": [
      "Batch features shape: torch.Size([16, 27648])\n",
      "Batch labels shape: torch.Size([16])\n"
     ]
    },
    {
     "name": "stderr",
     "output_type": "stream",
     "text": [
      " 74%|███████▍  | 23/31 [00:13<00:04,  1.68it/s]"
     ]
    },
    {
     "name": "stdout",
     "output_type": "stream",
     "text": [
      "Batch features shape: torch.Size([16, 27648])\n",
      "Batch labels shape: torch.Size([16])\n"
     ]
    },
    {
     "name": "stderr",
     "output_type": "stream",
     "text": [
      " 77%|███████▋  | 24/31 [00:14<00:04,  1.65it/s]"
     ]
    },
    {
     "name": "stdout",
     "output_type": "stream",
     "text": [
      "Batch features shape: torch.Size([16, 27648])\n",
      "Batch labels shape: torch.Size([16])\n"
     ]
    },
    {
     "name": "stderr",
     "output_type": "stream",
     "text": [
      " 81%|████████  | 25/31 [00:14<00:03,  1.68it/s]"
     ]
    },
    {
     "name": "stdout",
     "output_type": "stream",
     "text": [
      "Batch features shape: torch.Size([16, 27648])\n",
      "Batch labels shape: torch.Size([16])\n"
     ]
    },
    {
     "name": "stderr",
     "output_type": "stream",
     "text": [
      " 84%|████████▍ | 26/31 [00:15<00:03,  1.66it/s]"
     ]
    },
    {
     "name": "stdout",
     "output_type": "stream",
     "text": [
      "Batch features shape: torch.Size([16, 27648])\n",
      "Batch labels shape: torch.Size([16])\n"
     ]
    },
    {
     "name": "stderr",
     "output_type": "stream",
     "text": [
      " 87%|████████▋ | 27/31 [00:16<00:02,  1.69it/s]"
     ]
    },
    {
     "name": "stdout",
     "output_type": "stream",
     "text": [
      "Batch features shape: torch.Size([16, 27648])\n",
      "Batch labels shape: torch.Size([16])\n"
     ]
    },
    {
     "name": "stderr",
     "output_type": "stream",
     "text": [
      " 90%|█████████ | 28/31 [00:16<00:01,  1.67it/s]"
     ]
    },
    {
     "name": "stdout",
     "output_type": "stream",
     "text": [
      "Batch features shape: torch.Size([16, 27648])\n",
      "Batch labels shape: torch.Size([16])\n"
     ]
    },
    {
     "name": "stderr",
     "output_type": "stream",
     "text": [
      " 94%|█████████▎| 29/31 [00:17<00:01,  1.66it/s]"
     ]
    },
    {
     "name": "stdout",
     "output_type": "stream",
     "text": [
      "Batch features shape: torch.Size([16, 27648])\n",
      "Batch labels shape: torch.Size([16])\n"
     ]
    },
    {
     "name": "stderr",
     "output_type": "stream",
     "text": [
      " 97%|█████████▋| 30/31 [00:17<00:00,  1.68it/s]"
     ]
    },
    {
     "name": "stdout",
     "output_type": "stream",
     "text": [
      "Batch features shape: torch.Size([16, 27648])\n",
      "Batch labels shape: torch.Size([16])\n"
     ]
    },
    {
     "name": "stderr",
     "output_type": "stream",
     "text": [
      "100%|██████████| 31/31 [00:18<00:00,  1.69it/s]\n"
     ]
    },
    {
     "name": "stdout",
     "output_type": "stream",
     "text": [
      "Batch features shape: torch.Size([12, 27648])\n",
      "Batch labels shape: torch.Size([12])\n",
      "Features shape after concatenation: torch.Size([492, 27648])\n",
      "Labels shape after concatenation: torch.Size([492])\n"
     ]
    },
    {
     "name": "stderr",
     "output_type": "stream",
     "text": [
      " 12%|█▎        | 1/8 [00:00<00:03,  1.77it/s]"
     ]
    },
    {
     "name": "stdout",
     "output_type": "stream",
     "text": [
      "Batch features shape: torch.Size([16, 27648])\n",
      "Batch labels shape: torch.Size([16])\n"
     ]
    },
    {
     "name": "stderr",
     "output_type": "stream",
     "text": [
      " 25%|██▌       | 2/8 [00:01<00:03,  1.70it/s]"
     ]
    },
    {
     "name": "stdout",
     "output_type": "stream",
     "text": [
      "Batch features shape: torch.Size([16, 27648])\n",
      "Batch labels shape: torch.Size([16])\n"
     ]
    },
    {
     "name": "stderr",
     "output_type": "stream",
     "text": [
      " 38%|███▊      | 3/8 [00:01<00:02,  1.72it/s]"
     ]
    },
    {
     "name": "stdout",
     "output_type": "stream",
     "text": [
      "Batch features shape: torch.Size([16, 27648])\n",
      "Batch labels shape: torch.Size([16])\n"
     ]
    },
    {
     "name": "stderr",
     "output_type": "stream",
     "text": [
      " 50%|█████     | 4/8 [00:02<00:02,  1.69it/s]"
     ]
    },
    {
     "name": "stdout",
     "output_type": "stream",
     "text": [
      "Batch features shape: torch.Size([16, 27648])\n",
      "Batch labels shape: torch.Size([16])\n"
     ]
    },
    {
     "name": "stderr",
     "output_type": "stream",
     "text": [
      " 62%|██████▎   | 5/8 [00:02<00:01,  1.66it/s]"
     ]
    },
    {
     "name": "stdout",
     "output_type": "stream",
     "text": [
      "Batch features shape: torch.Size([16, 27648])\n",
      "Batch labels shape: torch.Size([16])\n"
     ]
    },
    {
     "name": "stderr",
     "output_type": "stream",
     "text": [
      " 75%|███████▌  | 6/8 [00:03<00:01,  1.69it/s]"
     ]
    },
    {
     "name": "stdout",
     "output_type": "stream",
     "text": [
      "Batch features shape: torch.Size([16, 27648])\n",
      "Batch labels shape: torch.Size([16])\n"
     ]
    },
    {
     "name": "stderr",
     "output_type": "stream",
     "text": [
      " 88%|████████▊ | 7/8 [00:04<00:00,  1.67it/s]"
     ]
    },
    {
     "name": "stdout",
     "output_type": "stream",
     "text": [
      "Batch features shape: torch.Size([16, 27648])\n",
      "Batch labels shape: torch.Size([16])\n"
     ]
    },
    {
     "name": "stderr",
     "output_type": "stream",
     "text": [
      "100%|██████████| 8/8 [00:04<00:00,  1.76it/s]"
     ]
    },
    {
     "name": "stdout",
     "output_type": "stream",
     "text": [
      "Batch features shape: torch.Size([11, 27648])\n",
      "Batch labels shape: torch.Size([11])\n",
      "Features shape after concatenation: torch.Size([123, 27648])\n",
      "Labels shape after concatenation: torch.Size([123])\n"
     ]
    },
    {
     "name": "stderr",
     "output_type": "stream",
     "text": [
      "\n"
     ]
    }
   ],
   "source": [
    "# Extract features for train and test datasets\n",
    "train_feats = prepare_data_features(train_loader_labeled)\n",
    "test_feats = prepare_data_features(test_loader_labeled)"
   ]
  },
  {
   "cell_type": "code",
   "execution_count": 8,
   "metadata": {},
   "outputs": [],
   "source": [
    "# Logistic Regression model definition\n",
    "class LogisticRegression(nn.Module):\n",
    "    def __init__(self, feature_dim, num_classes):\n",
    "        super(LogisticRegression, self).__init__()\n",
    "        self.linear = nn.Linear(feature_dim, num_classes)\n",
    "\n",
    "    def forward(self, x):\n",
    "        return self.linear(x)"
   ]
  },
  {
   "cell_type": "code",
   "execution_count": 9,
   "metadata": {},
   "outputs": [],
   "source": [
    "# Training function\n",
    "def train_logistic_regression(model, train_loader, optimizer, scheduler, device):\n",
    "    model.train()\n",
    "    total_loss = 0.0\n",
    "    all_preds = []\n",
    "    all_labels = []\n",
    "\n",
    "    for batch_feats, batch_labels in tqdm(train_loader, desc=\"Training\"):\n",
    "        batch_feats, batch_labels = batch_feats.to(device), batch_labels.to(device)\n",
    "        \n",
    "        optimizer.zero_grad()\n",
    "        outputs = model(batch_feats)\n",
    "        loss = nn.functional.cross_entropy(outputs, batch_labels)\n",
    "        loss.backward()\n",
    "        optimizer.step()\n",
    "        \n",
    "        # Update learning rate scheduler\n",
    "        scheduler.step()\n",
    "\n",
    "        total_loss += loss.item()\n",
    "\n",
    "        preds = outputs.argmax(dim=1)\n",
    "        all_preds.extend(preds.cpu().numpy())\n",
    "        all_labels.extend(batch_labels.cpu().numpy())\n",
    "\n",
    "    avg_loss = total_loss / len(train_loader)\n",
    "    accuracy = accuracy_score(all_labels, all_preds)\n",
    "    return avg_loss, accuracy"
   ]
  },
  {
   "cell_type": "code",
   "execution_count": 10,
   "metadata": {},
   "outputs": [],
   "source": [
    "# Evaluation function\n",
    "def evaluate_logistic_regression(model, test_loader, criterion, device):\n",
    "    model.eval()\n",
    "    total_loss = 0.0\n",
    "    all_preds = []\n",
    "    all_labels = []\n",
    "\n",
    "    with torch.no_grad():\n",
    "        for batch_feats, batch_labels in tqdm(test_loader, desc=\"Evaluating\"):\n",
    "            batch_feats, batch_labels = batch_feats.to(device), batch_labels.to(device)\n",
    "            \n",
    "            outputs = model(batch_feats)\n",
    "            loss = nn.functional.cross_entropy(outputs, batch_labels)\n",
    "            total_loss += loss.item()\n",
    "\n",
    "            preds = outputs.argmax(dim=1)\n",
    "            all_preds.extend(preds.cpu().numpy())\n",
    "            all_labels.extend(batch_labels.cpu().numpy())\n",
    "\n",
    "    avg_loss = total_loss / len(test_loader)\n",
    "    accuracy = accuracy_score(all_labels, all_preds)\n",
    "    return avg_loss, accuracy"
   ]
  },
  {
   "cell_type": "code",
   "execution_count": 11,
   "metadata": {},
   "outputs": [],
   "source": [
    "def train_logreg_simplified(batch_size, train_feats_data, test_feats_data, feature_dim, num_classes, lr=5e-4, weight_decay=1e-4, max_epochs=50):\n",
    "    device = torch.device(\"cuda\" if torch.cuda.is_available() else \"cpu\")\n",
    "\n",
    "    # Data loaders\n",
    "    train_loader = DataLoader(train_feats_data, batch_size=batch_size, shuffle=True,\n",
    "                              drop_last=False, pin_memory=True, num_workers=0)\n",
    "    test_loader = DataLoader(test_feats_data, batch_size=batch_size, shuffle=False,\n",
    "                             drop_last=False, pin_memory=True, num_workers=0)\n",
    "\n",
    "    # Model, loss, and optimizer\n",
    "    model = LogisticRegression(feature_dim, num_classes).to(device)\n",
    "    criterion = nn.CrossEntropyLoss()\n",
    "    optimizer = optim.AdamW(model.parameters(), lr=lr, weight_decay=weight_decay)\n",
    "    scheduler = optim.lr_scheduler.MultiStepLR(optimizer,\n",
    "                                               milestones=[int(max_epochs * 0.6), int(max_epochs * 0.8)],\n",
    "                                               gamma=0.1)\n",
    "\n",
    "    # Store metrics for plotting\n",
    "    train_losses = []\n",
    "    test_losses = []\n",
    "    train_accuracies = []\n",
    "    test_accuracies = []\n",
    "\n",
    "    # Track best metrics\n",
    "    best_train_acc = -1.0\n",
    "    best_train_epoch = -1\n",
    "\n",
    "    best_test_acc = -1.0\n",
    "    best_test_epoch = -1\n",
    "\n",
    "    best_test_loss = float('inf')\n",
    "    best_test_loss_acc = -1.0\n",
    "    best_model_loss = None  # To store full model for best loss\n",
    "\n",
    "    best_model_acc = None  # To store full model for best accuracy\n",
    "\n",
    "    for epoch in range(max_epochs):\n",
    "        print(f\"Epoch {epoch+1}/{max_epochs}\")\n",
    "\n",
    "        train_loss, train_acc = train_logistic_regression(model, train_loader, optimizer, scheduler, device)\n",
    "        test_loss, test_acc = evaluate_logistic_regression(model, test_loader, criterion, device)\n",
    "\n",
    "        print(f\"Training loss: {train_loss:.4f}, Training accuracy: {train_acc:.4f}\")\n",
    "        print(f\"Test loss: {test_loss:.4f}, Test accuracy: {test_acc:.4f}\")\n",
    "\n",
    "        train_losses.append(train_loss)\n",
    "        test_losses.append(test_loss)\n",
    "        train_accuracies.append(train_acc)\n",
    "        test_accuracies.append(test_acc)\n",
    "\n",
    "        # Track best train accuracy\n",
    "        if train_acc > best_train_acc:\n",
    "            best_train_acc = train_acc\n",
    "            best_train_epoch = epoch + 1\n",
    "\n",
    "        # Track best test accuracy and store the full model\n",
    "        if test_acc > best_test_acc:\n",
    "            best_test_acc = test_acc\n",
    "            best_test_epoch = epoch + 1\n",
    "            best_model_acc = deepcopy(model)  # Store full model for best accuracy\n",
    "\n",
    "        # Check for best loss model\n",
    "        # Condition: strictly lower loss OR equal loss but higher accuracy\n",
    "        if (test_loss < best_test_loss) or (test_loss == best_test_loss and test_acc > best_test_loss_acc):\n",
    "            best_test_loss = test_loss\n",
    "            best_test_loss_acc = test_acc\n",
    "            best_model_loss = deepcopy(model)  # Store full model for best loss\n",
    "\n",
    "    # Return metrics for plotting, and also the best models for loss and accuracy\n",
    "    return {\n",
    "        \"train_losses\": train_losses,\n",
    "        \"test_losses\": test_losses,\n",
    "        \"train_accuracies\": train_accuracies,\n",
    "        \"test_accuracies\": test_accuracies,\n",
    "        \"best_train_acc\": best_train_acc,\n",
    "        \"best_train_epoch\": best_train_epoch,\n",
    "        \"best_test_acc\": best_test_acc,\n",
    "        \"best_test_epoch\": best_test_epoch,\n",
    "        \"best_model_loss\": best_model_loss,  # Best full model by test loss\n",
    "        \"best_model_acc\": best_model_acc   # Best full model by test accuracy\n",
    "    }\n"
   ]
  },
  {
   "cell_type": "code",
   "execution_count": 12,
   "metadata": {},
   "outputs": [
    {
     "name": "stdout",
     "output_type": "stream",
     "text": [
      "Epoch 1/250\n"
     ]
    },
    {
     "name": "stderr",
     "output_type": "stream",
     "text": [
      "Training: 100%|██████████| 62/62 [00:00<00:00, 116.07it/s]\n",
      "Evaluating: 100%|██████████| 16/16 [00:00<00:00, 370.09it/s]\n"
     ]
    },
    {
     "name": "stdout",
     "output_type": "stream",
     "text": [
      "Training loss: 1.3272, Training accuracy: 0.7602\n",
      "Test loss: 0.4907, Test accuracy: 0.9268\n",
      "Epoch 2/250\n"
     ]
    },
    {
     "name": "stderr",
     "output_type": "stream",
     "text": [
      "Training: 100%|██████████| 62/62 [00:00<00:00, 180.91it/s]\n",
      "Evaluating: 100%|██████████| 16/16 [00:00<00:00, 368.89it/s]\n"
     ]
    },
    {
     "name": "stdout",
     "output_type": "stream",
     "text": [
      "Training loss: 0.4812, Training accuracy: 0.8740\n",
      "Test loss: 0.1089, Test accuracy: 0.9512\n",
      "Epoch 3/250\n"
     ]
    },
    {
     "name": "stderr",
     "output_type": "stream",
     "text": [
      "Training: 100%|██████████| 62/62 [00:00<00:00, 271.01it/s]\n",
      "Evaluating: 100%|██████████| 16/16 [00:00<00:00, 378.99it/s]\n"
     ]
    },
    {
     "name": "stdout",
     "output_type": "stream",
     "text": [
      "Training loss: 0.2000, Training accuracy: 0.9268\n",
      "Test loss: 0.0607, Test accuracy: 0.9837\n",
      "Epoch 4/250\n"
     ]
    },
    {
     "name": "stderr",
     "output_type": "stream",
     "text": [
      "Training: 100%|██████████| 62/62 [00:00<00:00, 267.55it/s]\n",
      "Evaluating: 100%|██████████| 16/16 [00:00<00:00, 419.60it/s]\n"
     ]
    },
    {
     "name": "stdout",
     "output_type": "stream",
     "text": [
      "Training loss: 0.0940, Training accuracy: 0.9695\n",
      "Test loss: 0.0653, Test accuracy: 0.9837\n",
      "Epoch 5/250\n"
     ]
    },
    {
     "name": "stderr",
     "output_type": "stream",
     "text": [
      "Training: 100%|██████████| 62/62 [00:00<00:00, 280.72it/s]\n",
      "Evaluating: 100%|██████████| 16/16 [00:00<00:00, 387.24it/s]\n"
     ]
    },
    {
     "name": "stdout",
     "output_type": "stream",
     "text": [
      "Training loss: 0.0977, Training accuracy: 0.9695\n",
      "Test loss: 0.0631, Test accuracy: 0.9837\n",
      "Epoch 6/250\n"
     ]
    },
    {
     "name": "stderr",
     "output_type": "stream",
     "text": [
      "Training: 100%|██████████| 62/62 [00:00<00:00, 270.97it/s]\n",
      "Evaluating: 100%|██████████| 16/16 [00:00<00:00, 408.84it/s]\n"
     ]
    },
    {
     "name": "stdout",
     "output_type": "stream",
     "text": [
      "Training loss: 0.0923, Training accuracy: 0.9675\n",
      "Test loss: 0.0640, Test accuracy: 0.9837\n",
      "Epoch 7/250\n"
     ]
    },
    {
     "name": "stderr",
     "output_type": "stream",
     "text": [
      "Training: 100%|██████████| 62/62 [00:00<00:00, 278.94it/s]\n",
      "Evaluating: 100%|██████████| 16/16 [00:00<00:00, 388.55it/s]\n"
     ]
    },
    {
     "name": "stdout",
     "output_type": "stream",
     "text": [
      "Training loss: 0.0901, Training accuracy: 0.9695\n",
      "Test loss: 0.0649, Test accuracy: 0.9837\n",
      "Epoch 8/250\n"
     ]
    },
    {
     "name": "stderr",
     "output_type": "stream",
     "text": [
      "Training: 100%|██████████| 62/62 [00:00<00:00, 266.88it/s]\n",
      "Evaluating: 100%|██████████| 16/16 [00:00<00:00, 370.55it/s]\n"
     ]
    },
    {
     "name": "stdout",
     "output_type": "stream",
     "text": [
      "Training loss: 0.0907, Training accuracy: 0.9695\n",
      "Test loss: 0.0606, Test accuracy: 0.9837\n",
      "Epoch 9/250\n"
     ]
    },
    {
     "name": "stderr",
     "output_type": "stream",
     "text": [
      "Training: 100%|██████████| 62/62 [00:00<00:00, 278.40it/s]\n",
      "Evaluating: 100%|██████████| 16/16 [00:00<00:00, 408.03it/s]\n"
     ]
    },
    {
     "name": "stdout",
     "output_type": "stream",
     "text": [
      "Training loss: 0.0893, Training accuracy: 0.9715\n",
      "Test loss: 0.0624, Test accuracy: 0.9837\n",
      "Epoch 10/250\n"
     ]
    },
    {
     "name": "stderr",
     "output_type": "stream",
     "text": [
      "Training: 100%|██████████| 62/62 [00:00<00:00, 270.18it/s]\n",
      "Evaluating: 100%|██████████| 16/16 [00:00<00:00, 391.82it/s]\n"
     ]
    },
    {
     "name": "stdout",
     "output_type": "stream",
     "text": [
      "Training loss: 0.0886, Training accuracy: 0.9715\n",
      "Test loss: 0.0603, Test accuracy: 0.9837\n",
      "Epoch 11/250\n"
     ]
    },
    {
     "name": "stderr",
     "output_type": "stream",
     "text": [
      "Training: 100%|██████████| 62/62 [00:00<00:00, 279.00it/s]\n",
      "Evaluating: 100%|██████████| 16/16 [00:00<00:00, 406.82it/s]\n"
     ]
    },
    {
     "name": "stdout",
     "output_type": "stream",
     "text": [
      "Training loss: 0.0881, Training accuracy: 0.9695\n",
      "Test loss: 0.0622, Test accuracy: 0.9837\n",
      "Epoch 12/250\n"
     ]
    },
    {
     "name": "stderr",
     "output_type": "stream",
     "text": [
      "Training: 100%|██████████| 62/62 [00:00<00:00, 238.35it/s]\n",
      "Evaluating: 100%|██████████| 16/16 [00:00<00:00, 352.62it/s]\n"
     ]
    },
    {
     "name": "stdout",
     "output_type": "stream",
     "text": [
      "Training loss: 0.0885, Training accuracy: 0.9695\n",
      "Test loss: 0.0622, Test accuracy: 0.9837\n",
      "Epoch 13/250\n"
     ]
    },
    {
     "name": "stderr",
     "output_type": "stream",
     "text": [
      "Training: 100%|██████████| 62/62 [00:00<00:00, 259.02it/s]\n",
      "Evaluating: 100%|██████████| 16/16 [00:00<00:00, 371.18it/s]\n"
     ]
    },
    {
     "name": "stdout",
     "output_type": "stream",
     "text": [
      "Training loss: 0.0877, Training accuracy: 0.9695\n",
      "Test loss: 0.0626, Test accuracy: 0.9837\n",
      "Epoch 14/250\n"
     ]
    },
    {
     "name": "stderr",
     "output_type": "stream",
     "text": [
      "Training: 100%|██████████| 62/62 [00:00<00:00, 268.56it/s]\n",
      "Evaluating: 100%|██████████| 16/16 [00:00<00:00, 398.24it/s]\n"
     ]
    },
    {
     "name": "stdout",
     "output_type": "stream",
     "text": [
      "Training loss: 0.0882, Training accuracy: 0.9695\n",
      "Test loss: 0.0645, Test accuracy: 0.9919\n",
      "Epoch 15/250\n"
     ]
    },
    {
     "name": "stderr",
     "output_type": "stream",
     "text": [
      "Training: 100%|██████████| 62/62 [00:00<00:00, 272.07it/s]\n",
      "Evaluating: 100%|██████████| 16/16 [00:00<00:00, 376.51it/s]\n"
     ]
    },
    {
     "name": "stdout",
     "output_type": "stream",
     "text": [
      "Training loss: 0.0878, Training accuracy: 0.9695\n",
      "Test loss: 0.0653, Test accuracy: 0.9919\n",
      "Epoch 16/250\n"
     ]
    },
    {
     "name": "stderr",
     "output_type": "stream",
     "text": [
      "Training: 100%|██████████| 62/62 [00:00<00:00, 260.78it/s]\n",
      "Evaluating: 100%|██████████| 16/16 [00:00<00:00, 369.67it/s]\n"
     ]
    },
    {
     "name": "stdout",
     "output_type": "stream",
     "text": [
      "Training loss: 0.0869, Training accuracy: 0.9695\n",
      "Test loss: 0.0597, Test accuracy: 0.9837\n",
      "Epoch 17/250\n"
     ]
    },
    {
     "name": "stderr",
     "output_type": "stream",
     "text": [
      "Training: 100%|██████████| 62/62 [00:00<00:00, 273.04it/s]\n",
      "Evaluating: 100%|██████████| 16/16 [00:00<00:00, 386.03it/s]\n"
     ]
    },
    {
     "name": "stdout",
     "output_type": "stream",
     "text": [
      "Training loss: 0.0897, Training accuracy: 0.9695\n",
      "Test loss: 0.0642, Test accuracy: 0.9919\n",
      "Epoch 18/250\n"
     ]
    },
    {
     "name": "stderr",
     "output_type": "stream",
     "text": [
      "Training: 100%|██████████| 62/62 [00:00<00:00, 271.02it/s]\n",
      "Evaluating: 100%|██████████| 16/16 [00:00<00:00, 407.00it/s]\n"
     ]
    },
    {
     "name": "stdout",
     "output_type": "stream",
     "text": [
      "Training loss: 0.0863, Training accuracy: 0.9715\n",
      "Test loss: 0.0604, Test accuracy: 0.9837\n",
      "Epoch 19/250\n"
     ]
    },
    {
     "name": "stderr",
     "output_type": "stream",
     "text": [
      "Training: 100%|██████████| 62/62 [00:00<00:00, 223.67it/s]\n",
      "Evaluating: 100%|██████████| 16/16 [00:00<00:00, 383.85it/s]\n"
     ]
    },
    {
     "name": "stdout",
     "output_type": "stream",
     "text": [
      "Training loss: 0.0878, Training accuracy: 0.9695\n",
      "Test loss: 0.0610, Test accuracy: 0.9837\n",
      "Epoch 20/250\n"
     ]
    },
    {
     "name": "stderr",
     "output_type": "stream",
     "text": [
      "Training: 100%|██████████| 62/62 [00:00<00:00, 280.65it/s]\n",
      "Evaluating: 100%|██████████| 16/16 [00:00<00:00, 409.31it/s]\n"
     ]
    },
    {
     "name": "stdout",
     "output_type": "stream",
     "text": [
      "Training loss: 0.0883, Training accuracy: 0.9715\n",
      "Test loss: 0.0585, Test accuracy: 0.9837\n",
      "Epoch 21/250\n"
     ]
    },
    {
     "name": "stderr",
     "output_type": "stream",
     "text": [
      "Training: 100%|██████████| 62/62 [00:00<00:00, 258.84it/s]\n",
      "Evaluating: 100%|██████████| 16/16 [00:00<00:00, 406.99it/s]\n"
     ]
    },
    {
     "name": "stdout",
     "output_type": "stream",
     "text": [
      "Training loss: 0.0859, Training accuracy: 0.9695\n",
      "Test loss: 0.0601, Test accuracy: 0.9837\n",
      "Epoch 22/250\n"
     ]
    },
    {
     "name": "stderr",
     "output_type": "stream",
     "text": [
      "Training: 100%|██████████| 62/62 [00:00<00:00, 277.24it/s]\n",
      "Evaluating: 100%|██████████| 16/16 [00:00<00:00, 408.39it/s]\n"
     ]
    },
    {
     "name": "stdout",
     "output_type": "stream",
     "text": [
      "Training loss: 0.0856, Training accuracy: 0.9695\n",
      "Test loss: 0.0586, Test accuracy: 0.9837\n",
      "Epoch 23/250\n"
     ]
    },
    {
     "name": "stderr",
     "output_type": "stream",
     "text": [
      "Training: 100%|██████████| 62/62 [00:00<00:00, 274.19it/s]\n",
      "Evaluating: 100%|██████████| 16/16 [00:00<00:00, 414.97it/s]\n"
     ]
    },
    {
     "name": "stdout",
     "output_type": "stream",
     "text": [
      "Training loss: 0.0856, Training accuracy: 0.9736\n",
      "Test loss: 0.0641, Test accuracy: 0.9919\n",
      "Epoch 24/250\n"
     ]
    },
    {
     "name": "stderr",
     "output_type": "stream",
     "text": [
      "Training: 100%|██████████| 62/62 [00:00<00:00, 273.80it/s]\n",
      "Evaluating: 100%|██████████| 16/16 [00:00<00:00, 388.55it/s]\n"
     ]
    },
    {
     "name": "stdout",
     "output_type": "stream",
     "text": [
      "Training loss: 0.0875, Training accuracy: 0.9675\n",
      "Test loss: 0.0704, Test accuracy: 0.9919\n",
      "Epoch 25/250\n"
     ]
    },
    {
     "name": "stderr",
     "output_type": "stream",
     "text": [
      "Training: 100%|██████████| 62/62 [00:00<00:00, 257.91it/s]\n",
      "Evaluating: 100%|██████████| 16/16 [00:00<00:00, 379.29it/s]\n"
     ]
    },
    {
     "name": "stdout",
     "output_type": "stream",
     "text": [
      "Training loss: 0.0858, Training accuracy: 0.9736\n",
      "Test loss: 0.0571, Test accuracy: 0.9837\n",
      "Epoch 26/250\n"
     ]
    },
    {
     "name": "stderr",
     "output_type": "stream",
     "text": [
      "Training: 100%|██████████| 62/62 [00:00<00:00, 259.67it/s]\n",
      "Evaluating: 100%|██████████| 16/16 [00:00<00:00, 359.80it/s]\n"
     ]
    },
    {
     "name": "stdout",
     "output_type": "stream",
     "text": [
      "Training loss: 0.0845, Training accuracy: 0.9715\n",
      "Test loss: 0.0611, Test accuracy: 0.9919\n",
      "Epoch 27/250\n"
     ]
    },
    {
     "name": "stderr",
     "output_type": "stream",
     "text": [
      "Training: 100%|██████████| 62/62 [00:00<00:00, 265.41it/s]\n",
      "Evaluating: 100%|██████████| 16/16 [00:00<00:00, 433.28it/s]\n"
     ]
    },
    {
     "name": "stdout",
     "output_type": "stream",
     "text": [
      "Training loss: 0.0845, Training accuracy: 0.9695\n",
      "Test loss: 0.0613, Test accuracy: 0.9919\n",
      "Epoch 28/250\n"
     ]
    },
    {
     "name": "stderr",
     "output_type": "stream",
     "text": [
      "Training: 100%|██████████| 62/62 [00:00<00:00, 266.82it/s]\n",
      "Evaluating: 100%|██████████| 16/16 [00:00<00:00, 395.52it/s]\n"
     ]
    },
    {
     "name": "stdout",
     "output_type": "stream",
     "text": [
      "Training loss: 0.0834, Training accuracy: 0.9715\n",
      "Test loss: 0.0629, Test accuracy: 0.9919\n",
      "Epoch 29/250\n"
     ]
    },
    {
     "name": "stderr",
     "output_type": "stream",
     "text": [
      "Training: 100%|██████████| 62/62 [00:00<00:00, 280.58it/s]\n",
      "Evaluating: 100%|██████████| 16/16 [00:00<00:00, 397.07it/s]\n"
     ]
    },
    {
     "name": "stdout",
     "output_type": "stream",
     "text": [
      "Training loss: 0.0885, Training accuracy: 0.9695\n",
      "Test loss: 0.0613, Test accuracy: 0.9919\n",
      "Epoch 30/250\n"
     ]
    },
    {
     "name": "stderr",
     "output_type": "stream",
     "text": [
      "Training: 100%|██████████| 62/62 [00:00<00:00, 275.61it/s]\n",
      "Evaluating: 100%|██████████| 16/16 [00:00<00:00, 406.36it/s]\n"
     ]
    },
    {
     "name": "stdout",
     "output_type": "stream",
     "text": [
      "Training loss: 0.0831, Training accuracy: 0.9695\n",
      "Test loss: 0.0604, Test accuracy: 0.9919\n",
      "Epoch 31/250\n"
     ]
    },
    {
     "name": "stderr",
     "output_type": "stream",
     "text": [
      "Training: 100%|██████████| 62/62 [00:00<00:00, 263.31it/s]\n",
      "Evaluating: 100%|██████████| 16/16 [00:00<00:00, 404.19it/s]\n"
     ]
    },
    {
     "name": "stdout",
     "output_type": "stream",
     "text": [
      "Training loss: 0.0827, Training accuracy: 0.9695\n",
      "Test loss: 0.0626, Test accuracy: 0.9919\n",
      "Epoch 32/250\n"
     ]
    },
    {
     "name": "stderr",
     "output_type": "stream",
     "text": [
      "Training: 100%|██████████| 62/62 [00:00<00:00, 279.74it/s]\n",
      "Evaluating: 100%|██████████| 16/16 [00:00<00:00, 379.56it/s]\n"
     ]
    },
    {
     "name": "stdout",
     "output_type": "stream",
     "text": [
      "Training loss: 0.0830, Training accuracy: 0.9695\n",
      "Test loss: 0.0568, Test accuracy: 0.9919\n",
      "Epoch 33/250\n"
     ]
    },
    {
     "name": "stderr",
     "output_type": "stream",
     "text": [
      "Training: 100%|██████████| 62/62 [00:00<00:00, 274.91it/s]\n",
      "Evaluating: 100%|██████████| 16/16 [00:00<00:00, 362.23it/s]\n"
     ]
    },
    {
     "name": "stdout",
     "output_type": "stream",
     "text": [
      "Training loss: 0.0820, Training accuracy: 0.9715\n",
      "Test loss: 0.0576, Test accuracy: 0.9919\n",
      "Epoch 34/250\n"
     ]
    },
    {
     "name": "stderr",
     "output_type": "stream",
     "text": [
      "Training: 100%|██████████| 62/62 [00:00<00:00, 283.87it/s]\n",
      "Evaluating: 100%|██████████| 16/16 [00:00<00:00, 388.79it/s]\n"
     ]
    },
    {
     "name": "stdout",
     "output_type": "stream",
     "text": [
      "Training loss: 0.0820, Training accuracy: 0.9695\n",
      "Test loss: 0.0618, Test accuracy: 0.9919\n",
      "Epoch 35/250\n"
     ]
    },
    {
     "name": "stderr",
     "output_type": "stream",
     "text": [
      "Training: 100%|██████████| 62/62 [00:00<00:00, 275.97it/s]\n",
      "Evaluating: 100%|██████████| 16/16 [00:00<00:00, 405.35it/s]\n"
     ]
    },
    {
     "name": "stdout",
     "output_type": "stream",
     "text": [
      "Training loss: 0.0853, Training accuracy: 0.9715\n",
      "Test loss: 0.0592, Test accuracy: 0.9919\n",
      "Epoch 36/250\n"
     ]
    },
    {
     "name": "stderr",
     "output_type": "stream",
     "text": [
      "Training: 100%|██████████| 62/62 [00:00<00:00, 280.09it/s]\n",
      "Evaluating: 100%|██████████| 16/16 [00:00<00:00, 387.86it/s]\n"
     ]
    },
    {
     "name": "stdout",
     "output_type": "stream",
     "text": [
      "Training loss: 0.0822, Training accuracy: 0.9715\n",
      "Test loss: 0.0595, Test accuracy: 0.9919\n",
      "Epoch 37/250\n"
     ]
    },
    {
     "name": "stderr",
     "output_type": "stream",
     "text": [
      "Training: 100%|██████████| 62/62 [00:00<00:00, 278.95it/s]\n",
      "Evaluating: 100%|██████████| 16/16 [00:00<00:00, 373.46it/s]\n"
     ]
    },
    {
     "name": "stdout",
     "output_type": "stream",
     "text": [
      "Training loss: 0.0819, Training accuracy: 0.9695\n",
      "Test loss: 0.0596, Test accuracy: 0.9919\n",
      "Epoch 38/250\n"
     ]
    },
    {
     "name": "stderr",
     "output_type": "stream",
     "text": [
      "Training: 100%|██████████| 62/62 [00:00<00:00, 281.79it/s]\n",
      "Evaluating: 100%|██████████| 16/16 [00:00<00:00, 380.03it/s]\n"
     ]
    },
    {
     "name": "stdout",
     "output_type": "stream",
     "text": [
      "Training loss: 0.0805, Training accuracy: 0.9715\n",
      "Test loss: 0.0627, Test accuracy: 0.9919\n",
      "Epoch 39/250\n"
     ]
    },
    {
     "name": "stderr",
     "output_type": "stream",
     "text": [
      "Training: 100%|██████████| 62/62 [00:00<00:00, 277.42it/s]\n",
      "Evaluating: 100%|██████████| 16/16 [00:00<00:00, 395.12it/s]\n"
     ]
    },
    {
     "name": "stdout",
     "output_type": "stream",
     "text": [
      "Training loss: 0.0810, Training accuracy: 0.9695\n",
      "Test loss: 0.0585, Test accuracy: 0.9919\n",
      "Epoch 40/250\n"
     ]
    },
    {
     "name": "stderr",
     "output_type": "stream",
     "text": [
      "Training: 100%|██████████| 62/62 [00:00<00:00, 281.69it/s]\n",
      "Evaluating: 100%|██████████| 16/16 [00:00<00:00, 379.03it/s]\n"
     ]
    },
    {
     "name": "stdout",
     "output_type": "stream",
     "text": [
      "Training loss: 0.0795, Training accuracy: 0.9715\n",
      "Test loss: 0.0599, Test accuracy: 0.9919\n",
      "Epoch 41/250\n"
     ]
    },
    {
     "name": "stderr",
     "output_type": "stream",
     "text": [
      "Training: 100%|██████████| 62/62 [00:00<00:00, 279.15it/s]\n",
      "Evaluating: 100%|██████████| 16/16 [00:00<00:00, 378.40it/s]\n"
     ]
    },
    {
     "name": "stdout",
     "output_type": "stream",
     "text": [
      "Training loss: 0.0792, Training accuracy: 0.9736\n",
      "Test loss: 0.0552, Test accuracy: 0.9837\n",
      "Epoch 42/250\n"
     ]
    },
    {
     "name": "stderr",
     "output_type": "stream",
     "text": [
      "Training: 100%|██████████| 62/62 [00:00<00:00, 266.71it/s]\n",
      "Evaluating: 100%|██████████| 16/16 [00:00<00:00, 390.25it/s]\n"
     ]
    },
    {
     "name": "stdout",
     "output_type": "stream",
     "text": [
      "Training loss: 0.0832, Training accuracy: 0.9715\n",
      "Test loss: 0.0569, Test accuracy: 0.9919\n",
      "Epoch 43/250\n"
     ]
    },
    {
     "name": "stderr",
     "output_type": "stream",
     "text": [
      "Training: 100%|██████████| 62/62 [00:00<00:00, 254.59it/s]\n",
      "Evaluating: 100%|██████████| 16/16 [00:00<00:00, 376.89it/s]\n"
     ]
    },
    {
     "name": "stdout",
     "output_type": "stream",
     "text": [
      "Training loss: 0.0785, Training accuracy: 0.9736\n",
      "Test loss: 0.0578, Test accuracy: 0.9919\n",
      "Epoch 44/250\n"
     ]
    },
    {
     "name": "stderr",
     "output_type": "stream",
     "text": [
      "Training: 100%|██████████| 62/62 [00:00<00:00, 277.90it/s]\n",
      "Evaluating: 100%|██████████| 16/16 [00:00<00:00, 377.63it/s]\n"
     ]
    },
    {
     "name": "stdout",
     "output_type": "stream",
     "text": [
      "Training loss: 0.0783, Training accuracy: 0.9715\n",
      "Test loss: 0.0550, Test accuracy: 0.9919\n",
      "Epoch 45/250\n"
     ]
    },
    {
     "name": "stderr",
     "output_type": "stream",
     "text": [
      "Training: 100%|██████████| 62/62 [00:00<00:00, 276.46it/s]\n",
      "Evaluating: 100%|██████████| 16/16 [00:00<00:00, 387.06it/s]\n"
     ]
    },
    {
     "name": "stdout",
     "output_type": "stream",
     "text": [
      "Training loss: 0.0776, Training accuracy: 0.9675\n",
      "Test loss: 0.0608, Test accuracy: 0.9919\n",
      "Epoch 46/250\n"
     ]
    },
    {
     "name": "stderr",
     "output_type": "stream",
     "text": [
      "Training: 100%|██████████| 62/62 [00:00<00:00, 269.74it/s]\n",
      "Evaluating: 100%|██████████| 16/16 [00:00<00:00, 397.46it/s]\n"
     ]
    },
    {
     "name": "stdout",
     "output_type": "stream",
     "text": [
      "Training loss: 0.0781, Training accuracy: 0.9695\n",
      "Test loss: 0.0558, Test accuracy: 0.9919\n",
      "Epoch 47/250\n"
     ]
    },
    {
     "name": "stderr",
     "output_type": "stream",
     "text": [
      "Training: 100%|██████████| 62/62 [00:00<00:00, 261.90it/s]\n",
      "Evaluating: 100%|██████████| 16/16 [00:00<00:00, 397.10it/s]\n"
     ]
    },
    {
     "name": "stdout",
     "output_type": "stream",
     "text": [
      "Training loss: 0.0777, Training accuracy: 0.9736\n",
      "Test loss: 0.0633, Test accuracy: 0.9919\n",
      "Epoch 48/250\n"
     ]
    },
    {
     "name": "stderr",
     "output_type": "stream",
     "text": [
      "Training: 100%|██████████| 62/62 [00:00<00:00, 274.34it/s]\n",
      "Evaluating: 100%|██████████| 16/16 [00:00<00:00, 406.81it/s]\n"
     ]
    },
    {
     "name": "stdout",
     "output_type": "stream",
     "text": [
      "Training loss: 0.0766, Training accuracy: 0.9736\n",
      "Test loss: 0.0556, Test accuracy: 0.9919\n",
      "Epoch 49/250\n"
     ]
    },
    {
     "name": "stderr",
     "output_type": "stream",
     "text": [
      "Training: 100%|██████████| 62/62 [00:00<00:00, 251.85it/s]\n",
      "Evaluating: 100%|██████████| 16/16 [00:00<00:00, 369.81it/s]\n"
     ]
    },
    {
     "name": "stdout",
     "output_type": "stream",
     "text": [
      "Training loss: 0.0783, Training accuracy: 0.9715\n",
      "Test loss: 0.0577, Test accuracy: 0.9919\n",
      "Epoch 50/250\n"
     ]
    },
    {
     "name": "stderr",
     "output_type": "stream",
     "text": [
      "Training: 100%|██████████| 62/62 [00:00<00:00, 271.57it/s]\n",
      "Evaluating: 100%|██████████| 16/16 [00:00<00:00, 408.13it/s]\n"
     ]
    },
    {
     "name": "stdout",
     "output_type": "stream",
     "text": [
      "Training loss: 0.0772, Training accuracy: 0.9736\n",
      "Test loss: 0.0584, Test accuracy: 0.9919\n",
      "Epoch 51/250\n"
     ]
    },
    {
     "name": "stderr",
     "output_type": "stream",
     "text": [
      "Training: 100%|██████████| 62/62 [00:00<00:00, 282.21it/s]\n",
      "Evaluating: 100%|██████████| 16/16 [00:00<00:00, 367.47it/s]\n"
     ]
    },
    {
     "name": "stdout",
     "output_type": "stream",
     "text": [
      "Training loss: 0.0764, Training accuracy: 0.9736\n",
      "Test loss: 0.0549, Test accuracy: 0.9919\n",
      "Epoch 52/250\n"
     ]
    },
    {
     "name": "stderr",
     "output_type": "stream",
     "text": [
      "Training: 100%|██████████| 62/62 [00:00<00:00, 265.52it/s]\n",
      "Evaluating: 100%|██████████| 16/16 [00:00<00:00, 368.07it/s]\n"
     ]
    },
    {
     "name": "stdout",
     "output_type": "stream",
     "text": [
      "Training loss: 0.0758, Training accuracy: 0.9695\n",
      "Test loss: 0.0599, Test accuracy: 0.9919\n",
      "Epoch 53/250\n"
     ]
    },
    {
     "name": "stderr",
     "output_type": "stream",
     "text": [
      "Training: 100%|██████████| 62/62 [00:00<00:00, 268.85it/s]\n",
      "Evaluating: 100%|██████████| 16/16 [00:00<00:00, 386.39it/s]\n"
     ]
    },
    {
     "name": "stdout",
     "output_type": "stream",
     "text": [
      "Training loss: 0.0751, Training accuracy: 0.9736\n",
      "Test loss: 0.0556, Test accuracy: 0.9919\n",
      "Epoch 54/250\n"
     ]
    },
    {
     "name": "stderr",
     "output_type": "stream",
     "text": [
      "Training: 100%|██████████| 62/62 [00:00<00:00, 264.94it/s]\n",
      "Evaluating: 100%|██████████| 16/16 [00:00<00:00, 393.57it/s]\n"
     ]
    },
    {
     "name": "stdout",
     "output_type": "stream",
     "text": [
      "Training loss: 0.0747, Training accuracy: 0.9736\n",
      "Test loss: 0.0573, Test accuracy: 0.9919\n",
      "Epoch 55/250\n"
     ]
    },
    {
     "name": "stderr",
     "output_type": "stream",
     "text": [
      "Training: 100%|██████████| 62/62 [00:00<00:00, 243.78it/s]\n",
      "Evaluating: 100%|██████████| 16/16 [00:00<00:00, 394.01it/s]\n"
     ]
    },
    {
     "name": "stdout",
     "output_type": "stream",
     "text": [
      "Training loss: 0.0763, Training accuracy: 0.9756\n",
      "Test loss: 0.0588, Test accuracy: 0.9919\n",
      "Epoch 56/250\n"
     ]
    },
    {
     "name": "stderr",
     "output_type": "stream",
     "text": [
      "Training: 100%|██████████| 62/62 [00:00<00:00, 267.14it/s]\n",
      "Evaluating: 100%|██████████| 16/16 [00:00<00:00, 404.69it/s]\n"
     ]
    },
    {
     "name": "stdout",
     "output_type": "stream",
     "text": [
      "Training loss: 0.0736, Training accuracy: 0.9756\n",
      "Test loss: 0.0600, Test accuracy: 0.9919\n",
      "Epoch 57/250\n"
     ]
    },
    {
     "name": "stderr",
     "output_type": "stream",
     "text": [
      "Training: 100%|██████████| 62/62 [00:00<00:00, 269.74it/s]\n",
      "Evaluating: 100%|██████████| 16/16 [00:00<00:00, 375.04it/s]\n"
     ]
    },
    {
     "name": "stdout",
     "output_type": "stream",
     "text": [
      "Training loss: 0.0781, Training accuracy: 0.9736\n",
      "Test loss: 0.0523, Test accuracy: 0.9919\n",
      "Epoch 58/250\n"
     ]
    },
    {
     "name": "stderr",
     "output_type": "stream",
     "text": [
      "Training: 100%|██████████| 62/62 [00:00<00:00, 279.33it/s]\n",
      "Evaluating: 100%|██████████| 16/16 [00:00<00:00, 405.61it/s]\n"
     ]
    },
    {
     "name": "stdout",
     "output_type": "stream",
     "text": [
      "Training loss: 0.0798, Training accuracy: 0.9736\n",
      "Test loss: 0.0599, Test accuracy: 0.9919\n",
      "Epoch 59/250\n"
     ]
    },
    {
     "name": "stderr",
     "output_type": "stream",
     "text": [
      "Training: 100%|██████████| 62/62 [00:00<00:00, 272.86it/s]\n",
      "Evaluating: 100%|██████████| 16/16 [00:00<00:00, 409.29it/s]\n"
     ]
    },
    {
     "name": "stdout",
     "output_type": "stream",
     "text": [
      "Training loss: 0.0760, Training accuracy: 0.9756\n",
      "Test loss: 0.0576, Test accuracy: 0.9919\n",
      "Epoch 60/250\n"
     ]
    },
    {
     "name": "stderr",
     "output_type": "stream",
     "text": [
      "Training: 100%|██████████| 62/62 [00:00<00:00, 284.34it/s]\n",
      "Evaluating: 100%|██████████| 16/16 [00:00<00:00, 379.49it/s]\n"
     ]
    },
    {
     "name": "stdout",
     "output_type": "stream",
     "text": [
      "Training loss: 0.0758, Training accuracy: 0.9736\n",
      "Test loss: 0.0591, Test accuracy: 0.9919\n",
      "Epoch 61/250\n"
     ]
    },
    {
     "name": "stderr",
     "output_type": "stream",
     "text": [
      "Training: 100%|██████████| 62/62 [00:00<00:00, 276.02it/s]\n",
      "Evaluating: 100%|██████████| 16/16 [00:00<00:00, 377.91it/s]\n"
     ]
    },
    {
     "name": "stdout",
     "output_type": "stream",
     "text": [
      "Training loss: 0.0717, Training accuracy: 0.9736\n",
      "Test loss: 0.0530, Test accuracy: 0.9919\n",
      "Epoch 62/250\n"
     ]
    },
    {
     "name": "stderr",
     "output_type": "stream",
     "text": [
      "Training: 100%|██████████| 62/62 [00:00<00:00, 263.16it/s]\n",
      "Evaluating: 100%|██████████| 16/16 [00:00<00:00, 386.59it/s]\n"
     ]
    },
    {
     "name": "stdout",
     "output_type": "stream",
     "text": [
      "Training loss: 0.0723, Training accuracy: 0.9736\n",
      "Test loss: 0.0542, Test accuracy: 0.9919\n",
      "Epoch 63/250\n"
     ]
    },
    {
     "name": "stderr",
     "output_type": "stream",
     "text": [
      "Training: 100%|██████████| 62/62 [00:00<00:00, 278.40it/s]\n",
      "Evaluating: 100%|██████████| 16/16 [00:00<00:00, 378.93it/s]\n"
     ]
    },
    {
     "name": "stdout",
     "output_type": "stream",
     "text": [
      "Training loss: 0.0725, Training accuracy: 0.9776\n",
      "Test loss: 0.0645, Test accuracy: 0.9919\n",
      "Epoch 64/250\n"
     ]
    },
    {
     "name": "stderr",
     "output_type": "stream",
     "text": [
      "Training: 100%|██████████| 62/62 [00:00<00:00, 276.78it/s]\n",
      "Evaluating: 100%|██████████| 16/16 [00:00<00:00, 351.47it/s]\n"
     ]
    },
    {
     "name": "stdout",
     "output_type": "stream",
     "text": [
      "Training loss: 0.0748, Training accuracy: 0.9756\n",
      "Test loss: 0.0567, Test accuracy: 0.9919\n",
      "Epoch 65/250\n"
     ]
    },
    {
     "name": "stderr",
     "output_type": "stream",
     "text": [
      "Training: 100%|██████████| 62/62 [00:00<00:00, 267.54it/s]\n",
      "Evaluating: 100%|██████████| 16/16 [00:00<00:00, 406.01it/s]\n"
     ]
    },
    {
     "name": "stdout",
     "output_type": "stream",
     "text": [
      "Training loss: 0.0725, Training accuracy: 0.9756\n",
      "Test loss: 0.0557, Test accuracy: 0.9919\n",
      "Epoch 66/250\n"
     ]
    },
    {
     "name": "stderr",
     "output_type": "stream",
     "text": [
      "Training: 100%|██████████| 62/62 [00:00<00:00, 271.14it/s]\n",
      "Evaluating: 100%|██████████| 16/16 [00:00<00:00, 377.26it/s]\n"
     ]
    },
    {
     "name": "stdout",
     "output_type": "stream",
     "text": [
      "Training loss: 0.0703, Training accuracy: 0.9736\n",
      "Test loss: 0.0569, Test accuracy: 0.9919\n",
      "Epoch 67/250\n"
     ]
    },
    {
     "name": "stderr",
     "output_type": "stream",
     "text": [
      "Training: 100%|██████████| 62/62 [00:00<00:00, 253.39it/s]\n",
      "Evaluating: 100%|██████████| 16/16 [00:00<00:00, 376.18it/s]\n"
     ]
    },
    {
     "name": "stdout",
     "output_type": "stream",
     "text": [
      "Training loss: 0.0712, Training accuracy: 0.9715\n",
      "Test loss: 0.0555, Test accuracy: 0.9919\n",
      "Epoch 68/250\n"
     ]
    },
    {
     "name": "stderr",
     "output_type": "stream",
     "text": [
      "Training: 100%|██████████| 62/62 [00:00<00:00, 268.15it/s]\n",
      "Evaluating: 100%|██████████| 16/16 [00:00<00:00, 371.04it/s]\n"
     ]
    },
    {
     "name": "stdout",
     "output_type": "stream",
     "text": [
      "Training loss: 0.0723, Training accuracy: 0.9736\n",
      "Test loss: 0.0530, Test accuracy: 0.9919\n",
      "Epoch 69/250\n"
     ]
    },
    {
     "name": "stderr",
     "output_type": "stream",
     "text": [
      "Training: 100%|██████████| 62/62 [00:00<00:00, 267.66it/s]\n",
      "Evaluating: 100%|██████████| 16/16 [00:00<00:00, 345.61it/s]\n"
     ]
    },
    {
     "name": "stdout",
     "output_type": "stream",
     "text": [
      "Training loss: 0.0712, Training accuracy: 0.9776\n",
      "Test loss: 0.0573, Test accuracy: 0.9919\n",
      "Epoch 70/250\n"
     ]
    },
    {
     "name": "stderr",
     "output_type": "stream",
     "text": [
      "Training: 100%|██████████| 62/62 [00:00<00:00, 282.69it/s]\n",
      "Evaluating: 100%|██████████| 16/16 [00:00<00:00, 395.20it/s]\n"
     ]
    },
    {
     "name": "stdout",
     "output_type": "stream",
     "text": [
      "Training loss: 0.0714, Training accuracy: 0.9736\n",
      "Test loss: 0.0577, Test accuracy: 0.9919\n",
      "Epoch 71/250\n"
     ]
    },
    {
     "name": "stderr",
     "output_type": "stream",
     "text": [
      "Training: 100%|██████████| 62/62 [00:00<00:00, 293.50it/s]\n",
      "Evaluating: 100%|██████████| 16/16 [00:00<00:00, 406.10it/s]\n"
     ]
    },
    {
     "name": "stdout",
     "output_type": "stream",
     "text": [
      "Training loss: 0.0703, Training accuracy: 0.9756\n",
      "Test loss: 0.0525, Test accuracy: 0.9919\n",
      "Epoch 72/250\n"
     ]
    },
    {
     "name": "stderr",
     "output_type": "stream",
     "text": [
      "Training: 100%|██████████| 62/62 [00:00<00:00, 280.96it/s]\n",
      "Evaluating: 100%|██████████| 16/16 [00:00<00:00, 371.17it/s]\n"
     ]
    },
    {
     "name": "stdout",
     "output_type": "stream",
     "text": [
      "Training loss: 0.0750, Training accuracy: 0.9776\n",
      "Test loss: 0.0580, Test accuracy: 0.9919\n",
      "Epoch 73/250\n"
     ]
    },
    {
     "name": "stderr",
     "output_type": "stream",
     "text": [
      "Training: 100%|██████████| 62/62 [00:00<00:00, 268.73it/s]\n",
      "Evaluating: 100%|██████████| 16/16 [00:00<00:00, 426.86it/s]\n"
     ]
    },
    {
     "name": "stdout",
     "output_type": "stream",
     "text": [
      "Training loss: 0.0701, Training accuracy: 0.9756\n",
      "Test loss: 0.0583, Test accuracy: 0.9919\n",
      "Epoch 74/250\n"
     ]
    },
    {
     "name": "stderr",
     "output_type": "stream",
     "text": [
      "Training: 100%|██████████| 62/62 [00:00<00:00, 278.69it/s]\n",
      "Evaluating: 100%|██████████| 16/16 [00:00<00:00, 389.10it/s]\n"
     ]
    },
    {
     "name": "stdout",
     "output_type": "stream",
     "text": [
      "Training loss: 0.0692, Training accuracy: 0.9736\n",
      "Test loss: 0.0574, Test accuracy: 0.9919\n",
      "Epoch 75/250\n"
     ]
    },
    {
     "name": "stderr",
     "output_type": "stream",
     "text": [
      "Training: 100%|██████████| 62/62 [00:00<00:00, 267.58it/s]\n",
      "Evaluating: 100%|██████████| 16/16 [00:00<00:00, 414.51it/s]\n"
     ]
    },
    {
     "name": "stdout",
     "output_type": "stream",
     "text": [
      "Training loss: 0.0697, Training accuracy: 0.9797\n",
      "Test loss: 0.0558, Test accuracy: 0.9919\n",
      "Epoch 76/250\n"
     ]
    },
    {
     "name": "stderr",
     "output_type": "stream",
     "text": [
      "Training: 100%|██████████| 62/62 [00:00<00:00, 270.64it/s]\n",
      "Evaluating: 100%|██████████| 16/16 [00:00<00:00, 399.45it/s]\n"
     ]
    },
    {
     "name": "stdout",
     "output_type": "stream",
     "text": [
      "Training loss: 0.0692, Training accuracy: 0.9756\n",
      "Test loss: 0.0510, Test accuracy: 0.9919\n",
      "Epoch 77/250\n"
     ]
    },
    {
     "name": "stderr",
     "output_type": "stream",
     "text": [
      "Training: 100%|██████████| 62/62 [00:00<00:00, 276.58it/s]\n",
      "Evaluating: 100%|██████████| 16/16 [00:00<00:00, 375.00it/s]\n"
     ]
    },
    {
     "name": "stdout",
     "output_type": "stream",
     "text": [
      "Training loss: 0.0691, Training accuracy: 0.9776\n",
      "Test loss: 0.0512, Test accuracy: 0.9919\n",
      "Epoch 78/250\n"
     ]
    },
    {
     "name": "stderr",
     "output_type": "stream",
     "text": [
      "Training: 100%|██████████| 62/62 [00:00<00:00, 265.08it/s]\n",
      "Evaluating: 100%|██████████| 16/16 [00:00<00:00, 408.43it/s]\n"
     ]
    },
    {
     "name": "stdout",
     "output_type": "stream",
     "text": [
      "Training loss: 0.0724, Training accuracy: 0.9776\n",
      "Test loss: 0.0538, Test accuracy: 0.9919\n",
      "Epoch 79/250\n"
     ]
    },
    {
     "name": "stderr",
     "output_type": "stream",
     "text": [
      "Training: 100%|██████████| 62/62 [00:00<00:00, 254.47it/s]\n",
      "Evaluating: 100%|██████████| 16/16 [00:00<00:00, 368.90it/s]\n"
     ]
    },
    {
     "name": "stdout",
     "output_type": "stream",
     "text": [
      "Training loss: 0.0686, Training accuracy: 0.9776\n",
      "Test loss: 0.0587, Test accuracy: 0.9919\n",
      "Epoch 80/250\n"
     ]
    },
    {
     "name": "stderr",
     "output_type": "stream",
     "text": [
      "Training: 100%|██████████| 62/62 [00:00<00:00, 263.22it/s]\n",
      "Evaluating: 100%|██████████| 16/16 [00:00<00:00, 389.22it/s]\n"
     ]
    },
    {
     "name": "stdout",
     "output_type": "stream",
     "text": [
      "Training loss: 0.0676, Training accuracy: 0.9797\n",
      "Test loss: 0.0574, Test accuracy: 0.9919\n",
      "Epoch 81/250\n"
     ]
    },
    {
     "name": "stderr",
     "output_type": "stream",
     "text": [
      "Training: 100%|██████████| 62/62 [00:00<00:00, 272.08it/s]\n",
      "Evaluating: 100%|██████████| 16/16 [00:00<00:00, 377.08it/s]\n"
     ]
    },
    {
     "name": "stdout",
     "output_type": "stream",
     "text": [
      "Training loss: 0.0681, Training accuracy: 0.9797\n",
      "Test loss: 0.0575, Test accuracy: 0.9919\n",
      "Epoch 82/250\n"
     ]
    },
    {
     "name": "stderr",
     "output_type": "stream",
     "text": [
      "Training: 100%|██████████| 62/62 [00:00<00:00, 275.59it/s]\n",
      "Evaluating: 100%|██████████| 16/16 [00:00<00:00, 395.89it/s]\n"
     ]
    },
    {
     "name": "stdout",
     "output_type": "stream",
     "text": [
      "Training loss: 0.0674, Training accuracy: 0.9837\n",
      "Test loss: 0.0566, Test accuracy: 0.9919\n",
      "Epoch 83/250\n"
     ]
    },
    {
     "name": "stderr",
     "output_type": "stream",
     "text": [
      "Training: 100%|██████████| 62/62 [00:00<00:00, 268.99it/s]\n",
      "Evaluating: 100%|██████████| 16/16 [00:00<00:00, 405.22it/s]\n"
     ]
    },
    {
     "name": "stdout",
     "output_type": "stream",
     "text": [
      "Training loss: 0.0669, Training accuracy: 0.9756\n",
      "Test loss: 0.0573, Test accuracy: 0.9919\n",
      "Epoch 84/250\n"
     ]
    },
    {
     "name": "stderr",
     "output_type": "stream",
     "text": [
      "Training: 100%|██████████| 62/62 [00:00<00:00, 270.95it/s]\n",
      "Evaluating: 100%|██████████| 16/16 [00:00<00:00, 388.52it/s]\n"
     ]
    },
    {
     "name": "stdout",
     "output_type": "stream",
     "text": [
      "Training loss: 0.0670, Training accuracy: 0.9817\n",
      "Test loss: 0.0522, Test accuracy: 0.9919\n",
      "Epoch 85/250\n"
     ]
    },
    {
     "name": "stderr",
     "output_type": "stream",
     "text": [
      "Training: 100%|██████████| 62/62 [00:00<00:00, 263.21it/s]\n",
      "Evaluating: 100%|██████████| 16/16 [00:00<00:00, 428.32it/s]\n"
     ]
    },
    {
     "name": "stdout",
     "output_type": "stream",
     "text": [
      "Training loss: 0.0653, Training accuracy: 0.9817\n",
      "Test loss: 0.0576, Test accuracy: 0.9919\n",
      "Epoch 86/250\n"
     ]
    },
    {
     "name": "stderr",
     "output_type": "stream",
     "text": [
      "Training: 100%|██████████| 62/62 [00:00<00:00, 277.49it/s]\n",
      "Evaluating: 100%|██████████| 16/16 [00:00<00:00, 408.48it/s]\n"
     ]
    },
    {
     "name": "stdout",
     "output_type": "stream",
     "text": [
      "Training loss: 0.0670, Training accuracy: 0.9736\n",
      "Test loss: 0.0508, Test accuracy: 0.9919\n",
      "Epoch 87/250\n"
     ]
    },
    {
     "name": "stderr",
     "output_type": "stream",
     "text": [
      "Training: 100%|██████████| 62/62 [00:00<00:00, 278.72it/s]\n",
      "Evaluating: 100%|██████████| 16/16 [00:00<00:00, 345.36it/s]\n"
     ]
    },
    {
     "name": "stdout",
     "output_type": "stream",
     "text": [
      "Training loss: 0.0677, Training accuracy: 0.9797\n",
      "Test loss: 0.0506, Test accuracy: 0.9919\n",
      "Epoch 88/250\n"
     ]
    },
    {
     "name": "stderr",
     "output_type": "stream",
     "text": [
      "Training: 100%|██████████| 62/62 [00:00<00:00, 279.72it/s]\n",
      "Evaluating: 100%|██████████| 16/16 [00:00<00:00, 351.21it/s]\n"
     ]
    },
    {
     "name": "stdout",
     "output_type": "stream",
     "text": [
      "Training loss: 0.0675, Training accuracy: 0.9817\n",
      "Test loss: 0.0514, Test accuracy: 0.9919\n",
      "Epoch 89/250\n"
     ]
    },
    {
     "name": "stderr",
     "output_type": "stream",
     "text": [
      "Training: 100%|██████████| 62/62 [00:00<00:00, 264.51it/s]\n",
      "Evaluating: 100%|██████████| 16/16 [00:00<00:00, 428.22it/s]\n"
     ]
    },
    {
     "name": "stdout",
     "output_type": "stream",
     "text": [
      "Training loss: 0.0668, Training accuracy: 0.9797\n",
      "Test loss: 0.0517, Test accuracy: 0.9919\n",
      "Epoch 90/250\n"
     ]
    },
    {
     "name": "stderr",
     "output_type": "stream",
     "text": [
      "Training: 100%|██████████| 62/62 [00:00<00:00, 274.54it/s]\n",
      "Evaluating: 100%|██████████| 16/16 [00:00<00:00, 416.80it/s]\n"
     ]
    },
    {
     "name": "stdout",
     "output_type": "stream",
     "text": [
      "Training loss: 0.0670, Training accuracy: 0.9776\n",
      "Test loss: 0.0629, Test accuracy: 0.9919\n",
      "Epoch 91/250\n"
     ]
    },
    {
     "name": "stderr",
     "output_type": "stream",
     "text": [
      "Training: 100%|██████████| 62/62 [00:00<00:00, 257.78it/s]\n",
      "Evaluating: 100%|██████████| 16/16 [00:00<00:00, 388.26it/s]\n"
     ]
    },
    {
     "name": "stdout",
     "output_type": "stream",
     "text": [
      "Training loss: 0.0681, Training accuracy: 0.9797\n",
      "Test loss: 0.0586, Test accuracy: 0.9919\n",
      "Epoch 92/250\n"
     ]
    },
    {
     "name": "stderr",
     "output_type": "stream",
     "text": [
      "Training: 100%|██████████| 62/62 [00:00<00:00, 271.79it/s]\n",
      "Evaluating: 100%|██████████| 16/16 [00:00<00:00, 361.26it/s]\n"
     ]
    },
    {
     "name": "stdout",
     "output_type": "stream",
     "text": [
      "Training loss: 0.0658, Training accuracy: 0.9797\n",
      "Test loss: 0.0551, Test accuracy: 0.9919\n",
      "Epoch 93/250\n"
     ]
    },
    {
     "name": "stderr",
     "output_type": "stream",
     "text": [
      "Training: 100%|██████████| 62/62 [00:00<00:00, 272.12it/s]\n",
      "Evaluating: 100%|██████████| 16/16 [00:00<00:00, 407.05it/s]\n"
     ]
    },
    {
     "name": "stdout",
     "output_type": "stream",
     "text": [
      "Training loss: 0.0642, Training accuracy: 0.9817\n",
      "Test loss: 0.0514, Test accuracy: 0.9919\n",
      "Epoch 94/250\n"
     ]
    },
    {
     "name": "stderr",
     "output_type": "stream",
     "text": [
      "Training: 100%|██████████| 62/62 [00:00<00:00, 277.05it/s]\n",
      "Evaluating: 100%|██████████| 16/16 [00:00<00:00, 398.89it/s]\n"
     ]
    },
    {
     "name": "stdout",
     "output_type": "stream",
     "text": [
      "Training loss: 0.0655, Training accuracy: 0.9837\n",
      "Test loss: 0.0570, Test accuracy: 0.9919\n",
      "Epoch 95/250\n"
     ]
    },
    {
     "name": "stderr",
     "output_type": "stream",
     "text": [
      "Training: 100%|██████████| 62/62 [00:00<00:00, 269.99it/s]\n",
      "Evaluating: 100%|██████████| 16/16 [00:00<00:00, 370.44it/s]\n"
     ]
    },
    {
     "name": "stdout",
     "output_type": "stream",
     "text": [
      "Training loss: 0.0644, Training accuracy: 0.9817\n",
      "Test loss: 0.0539, Test accuracy: 0.9919\n",
      "Epoch 96/250\n"
     ]
    },
    {
     "name": "stderr",
     "output_type": "stream",
     "text": [
      "Training: 100%|██████████| 62/62 [00:00<00:00, 273.94it/s]\n",
      "Evaluating: 100%|██████████| 16/16 [00:00<00:00, 394.47it/s]\n"
     ]
    },
    {
     "name": "stdout",
     "output_type": "stream",
     "text": [
      "Training loss: 0.0658, Training accuracy: 0.9817\n",
      "Test loss: 0.0526, Test accuracy: 0.9919\n",
      "Epoch 97/250\n"
     ]
    },
    {
     "name": "stderr",
     "output_type": "stream",
     "text": [
      "Training: 100%|██████████| 62/62 [00:00<00:00, 270.15it/s]\n",
      "Evaluating: 100%|██████████| 16/16 [00:00<00:00, 419.91it/s]\n"
     ]
    },
    {
     "name": "stdout",
     "output_type": "stream",
     "text": [
      "Training loss: 0.0640, Training accuracy: 0.9797\n",
      "Test loss: 0.0570, Test accuracy: 0.9919\n",
      "Epoch 98/250\n"
     ]
    },
    {
     "name": "stderr",
     "output_type": "stream",
     "text": [
      "Training: 100%|██████████| 62/62 [00:00<00:00, 272.62it/s]\n",
      "Evaluating: 100%|██████████| 16/16 [00:00<00:00, 409.23it/s]\n"
     ]
    },
    {
     "name": "stdout",
     "output_type": "stream",
     "text": [
      "Training loss: 0.0645, Training accuracy: 0.9797\n",
      "Test loss: 0.0491, Test accuracy: 0.9919\n",
      "Epoch 99/250\n"
     ]
    },
    {
     "name": "stderr",
     "output_type": "stream",
     "text": [
      "Training: 100%|██████████| 62/62 [00:00<00:00, 270.08it/s]\n",
      "Evaluating: 100%|██████████| 16/16 [00:00<00:00, 388.28it/s]\n"
     ]
    },
    {
     "name": "stdout",
     "output_type": "stream",
     "text": [
      "Training loss: 0.0623, Training accuracy: 0.9797\n",
      "Test loss: 0.0583, Test accuracy: 0.9919\n",
      "Epoch 100/250\n"
     ]
    },
    {
     "name": "stderr",
     "output_type": "stream",
     "text": [
      "Training: 100%|██████████| 62/62 [00:00<00:00, 276.28it/s]\n",
      "Evaluating: 100%|██████████| 16/16 [00:00<00:00, 387.50it/s]\n"
     ]
    },
    {
     "name": "stdout",
     "output_type": "stream",
     "text": [
      "Training loss: 0.0627, Training accuracy: 0.9797\n",
      "Test loss: 0.0493, Test accuracy: 0.9919\n",
      "Epoch 101/250\n"
     ]
    },
    {
     "name": "stderr",
     "output_type": "stream",
     "text": [
      "Training: 100%|██████████| 62/62 [00:00<00:00, 274.08it/s]\n",
      "Evaluating: 100%|██████████| 16/16 [00:00<00:00, 417.70it/s]\n"
     ]
    },
    {
     "name": "stdout",
     "output_type": "stream",
     "text": [
      "Training loss: 0.0630, Training accuracy: 0.9837\n",
      "Test loss: 0.0525, Test accuracy: 0.9919\n",
      "Epoch 102/250\n"
     ]
    },
    {
     "name": "stderr",
     "output_type": "stream",
     "text": [
      "Training: 100%|██████████| 62/62 [00:00<00:00, 273.95it/s]\n",
      "Evaluating: 100%|██████████| 16/16 [00:00<00:00, 402.88it/s]\n"
     ]
    },
    {
     "name": "stdout",
     "output_type": "stream",
     "text": [
      "Training loss: 0.0635, Training accuracy: 0.9797\n",
      "Test loss: 0.0497, Test accuracy: 0.9919\n",
      "Epoch 103/250\n"
     ]
    },
    {
     "name": "stderr",
     "output_type": "stream",
     "text": [
      "Training: 100%|██████████| 62/62 [00:00<00:00, 259.63it/s]\n",
      "Evaluating: 100%|██████████| 16/16 [00:00<00:00, 415.13it/s]\n"
     ]
    },
    {
     "name": "stdout",
     "output_type": "stream",
     "text": [
      "Training loss: 0.0631, Training accuracy: 0.9817\n",
      "Test loss: 0.0527, Test accuracy: 0.9919\n",
      "Epoch 104/250\n"
     ]
    },
    {
     "name": "stderr",
     "output_type": "stream",
     "text": [
      "Training: 100%|██████████| 62/62 [00:00<00:00, 265.84it/s]\n",
      "Evaluating: 100%|██████████| 16/16 [00:00<00:00, 381.24it/s]\n"
     ]
    },
    {
     "name": "stdout",
     "output_type": "stream",
     "text": [
      "Training loss: 0.0637, Training accuracy: 0.9797\n",
      "Test loss: 0.0501, Test accuracy: 0.9919\n",
      "Epoch 105/250\n"
     ]
    },
    {
     "name": "stderr",
     "output_type": "stream",
     "text": [
      "Training: 100%|██████████| 62/62 [00:00<00:00, 246.24it/s]\n",
      "Evaluating: 100%|██████████| 16/16 [00:00<00:00, 375.17it/s]\n"
     ]
    },
    {
     "name": "stdout",
     "output_type": "stream",
     "text": [
      "Training loss: 0.0652, Training accuracy: 0.9797\n",
      "Test loss: 0.0541, Test accuracy: 0.9919\n",
      "Epoch 106/250\n"
     ]
    },
    {
     "name": "stderr",
     "output_type": "stream",
     "text": [
      "Training: 100%|██████████| 62/62 [00:00<00:00, 274.62it/s]\n",
      "Evaluating: 100%|██████████| 16/16 [00:00<00:00, 407.67it/s]\n"
     ]
    },
    {
     "name": "stdout",
     "output_type": "stream",
     "text": [
      "Training loss: 0.0640, Training accuracy: 0.9817\n",
      "Test loss: 0.0607, Test accuracy: 0.9919\n",
      "Epoch 107/250\n"
     ]
    },
    {
     "name": "stderr",
     "output_type": "stream",
     "text": [
      "Training: 100%|██████████| 62/62 [00:00<00:00, 277.40it/s]\n",
      "Evaluating: 100%|██████████| 16/16 [00:00<00:00, 406.81it/s]\n"
     ]
    },
    {
     "name": "stdout",
     "output_type": "stream",
     "text": [
      "Training loss: 0.0615, Training accuracy: 0.9817\n",
      "Test loss: 0.0559, Test accuracy: 0.9919\n",
      "Epoch 108/250\n"
     ]
    },
    {
     "name": "stderr",
     "output_type": "stream",
     "text": [
      "Training: 100%|██████████| 62/62 [00:00<00:00, 265.30it/s]\n",
      "Evaluating: 100%|██████████| 16/16 [00:00<00:00, 418.68it/s]\n"
     ]
    },
    {
     "name": "stdout",
     "output_type": "stream",
     "text": [
      "Training loss: 0.0632, Training accuracy: 0.9817\n",
      "Test loss: 0.0560, Test accuracy: 0.9919\n",
      "Epoch 109/250\n"
     ]
    },
    {
     "name": "stderr",
     "output_type": "stream",
     "text": [
      "Training: 100%|██████████| 62/62 [00:00<00:00, 266.18it/s]\n",
      "Evaluating: 100%|██████████| 16/16 [00:00<00:00, 408.24it/s]\n"
     ]
    },
    {
     "name": "stdout",
     "output_type": "stream",
     "text": [
      "Training loss: 0.0611, Training accuracy: 0.9797\n",
      "Test loss: 0.0482, Test accuracy: 0.9919\n",
      "Epoch 110/250\n"
     ]
    },
    {
     "name": "stderr",
     "output_type": "stream",
     "text": [
      "Training: 100%|██████████| 62/62 [00:00<00:00, 267.58it/s]\n",
      "Evaluating: 100%|██████████| 16/16 [00:00<00:00, 430.46it/s]\n"
     ]
    },
    {
     "name": "stdout",
     "output_type": "stream",
     "text": [
      "Training loss: 0.0621, Training accuracy: 0.9776\n",
      "Test loss: 0.0610, Test accuracy: 0.9919\n",
      "Epoch 111/250\n"
     ]
    },
    {
     "name": "stderr",
     "output_type": "stream",
     "text": [
      "Training: 100%|██████████| 62/62 [00:00<00:00, 258.81it/s]\n",
      "Evaluating: 100%|██████████| 16/16 [00:00<00:00, 389.35it/s]\n"
     ]
    },
    {
     "name": "stdout",
     "output_type": "stream",
     "text": [
      "Training loss: 0.0630, Training accuracy: 0.9776\n",
      "Test loss: 0.0481, Test accuracy: 0.9919\n",
      "Epoch 112/250\n"
     ]
    },
    {
     "name": "stderr",
     "output_type": "stream",
     "text": [
      "Training: 100%|██████████| 62/62 [00:00<00:00, 256.04it/s]\n",
      "Evaluating: 100%|██████████| 16/16 [00:00<00:00, 406.17it/s]\n"
     ]
    },
    {
     "name": "stdout",
     "output_type": "stream",
     "text": [
      "Training loss: 0.0616, Training accuracy: 0.9797\n",
      "Test loss: 0.0523, Test accuracy: 0.9919\n",
      "Epoch 113/250\n"
     ]
    },
    {
     "name": "stderr",
     "output_type": "stream",
     "text": [
      "Training: 100%|██████████| 62/62 [00:00<00:00, 273.39it/s]\n",
      "Evaluating: 100%|██████████| 16/16 [00:00<00:00, 386.50it/s]\n"
     ]
    },
    {
     "name": "stdout",
     "output_type": "stream",
     "text": [
      "Training loss: 0.0609, Training accuracy: 0.9817\n",
      "Test loss: 0.0545, Test accuracy: 0.9919\n",
      "Epoch 114/250\n"
     ]
    },
    {
     "name": "stderr",
     "output_type": "stream",
     "text": [
      "Training: 100%|██████████| 62/62 [00:00<00:00, 276.57it/s]\n",
      "Evaluating: 100%|██████████| 16/16 [00:00<00:00, 386.21it/s]\n"
     ]
    },
    {
     "name": "stdout",
     "output_type": "stream",
     "text": [
      "Training loss: 0.0606, Training accuracy: 0.9797\n",
      "Test loss: 0.0592, Test accuracy: 0.9919\n",
      "Epoch 115/250\n"
     ]
    },
    {
     "name": "stderr",
     "output_type": "stream",
     "text": [
      "Training: 100%|██████████| 62/62 [00:00<00:00, 259.02it/s]\n",
      "Evaluating: 100%|██████████| 16/16 [00:00<00:00, 404.89it/s]\n"
     ]
    },
    {
     "name": "stdout",
     "output_type": "stream",
     "text": [
      "Training loss: 0.0617, Training accuracy: 0.9776\n",
      "Test loss: 0.0509, Test accuracy: 0.9919\n",
      "Epoch 116/250\n"
     ]
    },
    {
     "name": "stderr",
     "output_type": "stream",
     "text": [
      "Training: 100%|██████████| 62/62 [00:00<00:00, 269.46it/s]\n",
      "Evaluating: 100%|██████████| 16/16 [00:00<00:00, 407.80it/s]\n"
     ]
    },
    {
     "name": "stdout",
     "output_type": "stream",
     "text": [
      "Training loss: 0.0603, Training accuracy: 0.9817\n",
      "Test loss: 0.0532, Test accuracy: 0.9919\n",
      "Epoch 117/250\n"
     ]
    },
    {
     "name": "stderr",
     "output_type": "stream",
     "text": [
      "Training: 100%|██████████| 62/62 [00:00<00:00, 268.72it/s]\n",
      "Evaluating: 100%|██████████| 16/16 [00:00<00:00, 371.20it/s]\n"
     ]
    },
    {
     "name": "stdout",
     "output_type": "stream",
     "text": [
      "Training loss: 0.0588, Training accuracy: 0.9837\n",
      "Test loss: 0.0500, Test accuracy: 0.9919\n",
      "Epoch 118/250\n"
     ]
    },
    {
     "name": "stderr",
     "output_type": "stream",
     "text": [
      "Training: 100%|██████████| 62/62 [00:00<00:00, 274.16it/s]\n",
      "Evaluating: 100%|██████████| 16/16 [00:00<00:00, 398.33it/s]\n"
     ]
    },
    {
     "name": "stdout",
     "output_type": "stream",
     "text": [
      "Training loss: 0.0593, Training accuracy: 0.9837\n",
      "Test loss: 0.0540, Test accuracy: 0.9919\n",
      "Epoch 119/250\n"
     ]
    },
    {
     "name": "stderr",
     "output_type": "stream",
     "text": [
      "Training: 100%|██████████| 62/62 [00:00<00:00, 276.15it/s]\n",
      "Evaluating: 100%|██████████| 16/16 [00:00<00:00, 408.15it/s]\n"
     ]
    },
    {
     "name": "stdout",
     "output_type": "stream",
     "text": [
      "Training loss: 0.0604, Training accuracy: 0.9817\n",
      "Test loss: 0.0525, Test accuracy: 0.9919\n",
      "Epoch 120/250\n"
     ]
    },
    {
     "name": "stderr",
     "output_type": "stream",
     "text": [
      "Training: 100%|██████████| 62/62 [00:00<00:00, 274.37it/s]\n",
      "Evaluating: 100%|██████████| 16/16 [00:00<00:00, 407.51it/s]\n"
     ]
    },
    {
     "name": "stdout",
     "output_type": "stream",
     "text": [
      "Training loss: 0.0593, Training accuracy: 0.9797\n",
      "Test loss: 0.0519, Test accuracy: 0.9919\n",
      "Epoch 121/250\n"
     ]
    },
    {
     "name": "stderr",
     "output_type": "stream",
     "text": [
      "Training: 100%|██████████| 62/62 [00:00<00:00, 284.16it/s]\n",
      "Evaluating: 100%|██████████| 16/16 [00:00<00:00, 377.31it/s]\n"
     ]
    },
    {
     "name": "stdout",
     "output_type": "stream",
     "text": [
      "Training loss: 0.0609, Training accuracy: 0.9837\n",
      "Test loss: 0.0510, Test accuracy: 0.9919\n",
      "Epoch 122/250\n"
     ]
    },
    {
     "name": "stderr",
     "output_type": "stream",
     "text": [
      "Training: 100%|██████████| 62/62 [00:00<00:00, 256.37it/s]\n",
      "Evaluating: 100%|██████████| 16/16 [00:00<00:00, 398.02it/s]\n"
     ]
    },
    {
     "name": "stdout",
     "output_type": "stream",
     "text": [
      "Training loss: 0.0596, Training accuracy: 0.9837\n",
      "Test loss: 0.0539, Test accuracy: 0.9919\n",
      "Epoch 123/250\n"
     ]
    },
    {
     "name": "stderr",
     "output_type": "stream",
     "text": [
      "Training: 100%|██████████| 62/62 [00:00<00:00, 275.51it/s]\n",
      "Evaluating: 100%|██████████| 16/16 [00:00<00:00, 429.75it/s]\n"
     ]
    },
    {
     "name": "stdout",
     "output_type": "stream",
     "text": [
      "Training loss: 0.0601, Training accuracy: 0.9817\n",
      "Test loss: 0.0522, Test accuracy: 0.9919\n",
      "Epoch 124/250\n"
     ]
    },
    {
     "name": "stderr",
     "output_type": "stream",
     "text": [
      "Training: 100%|██████████| 62/62 [00:00<00:00, 271.55it/s]\n",
      "Evaluating: 100%|██████████| 16/16 [00:00<00:00, 413.55it/s]\n"
     ]
    },
    {
     "name": "stdout",
     "output_type": "stream",
     "text": [
      "Training loss: 0.0606, Training accuracy: 0.9837\n",
      "Test loss: 0.0521, Test accuracy: 0.9919\n",
      "Epoch 125/250\n"
     ]
    },
    {
     "name": "stderr",
     "output_type": "stream",
     "text": [
      "Training: 100%|██████████| 62/62 [00:00<00:00, 253.34it/s]\n",
      "Evaluating: 100%|██████████| 16/16 [00:00<00:00, 408.34it/s]\n"
     ]
    },
    {
     "name": "stdout",
     "output_type": "stream",
     "text": [
      "Training loss: 0.0583, Training accuracy: 0.9817\n",
      "Test loss: 0.0530, Test accuracy: 0.9919\n",
      "Epoch 126/250\n"
     ]
    },
    {
     "name": "stderr",
     "output_type": "stream",
     "text": [
      "Training: 100%|██████████| 62/62 [00:00<00:00, 275.01it/s]\n",
      "Evaluating: 100%|██████████| 16/16 [00:00<00:00, 388.35it/s]\n"
     ]
    },
    {
     "name": "stdout",
     "output_type": "stream",
     "text": [
      "Training loss: 0.0588, Training accuracy: 0.9837\n",
      "Test loss: 0.0507, Test accuracy: 0.9919\n",
      "Epoch 127/250\n"
     ]
    },
    {
     "name": "stderr",
     "output_type": "stream",
     "text": [
      "Training: 100%|██████████| 62/62 [00:00<00:00, 258.59it/s]\n",
      "Evaluating: 100%|██████████| 16/16 [00:00<00:00, 376.22it/s]\n"
     ]
    },
    {
     "name": "stdout",
     "output_type": "stream",
     "text": [
      "Training loss: 0.0610, Training accuracy: 0.9797\n",
      "Test loss: 0.0508, Test accuracy: 0.9919\n",
      "Epoch 128/250\n"
     ]
    },
    {
     "name": "stderr",
     "output_type": "stream",
     "text": [
      "Training: 100%|██████████| 62/62 [00:00<00:00, 274.49it/s]\n",
      "Evaluating: 100%|██████████| 16/16 [00:00<00:00, 388.93it/s]\n"
     ]
    },
    {
     "name": "stdout",
     "output_type": "stream",
     "text": [
      "Training loss: 0.0628, Training accuracy: 0.9837\n",
      "Test loss: 0.0509, Test accuracy: 0.9919\n",
      "Epoch 129/250\n"
     ]
    },
    {
     "name": "stderr",
     "output_type": "stream",
     "text": [
      "Training: 100%|██████████| 62/62 [00:00<00:00, 265.18it/s]\n",
      "Evaluating: 100%|██████████| 16/16 [00:00<00:00, 365.66it/s]\n"
     ]
    },
    {
     "name": "stdout",
     "output_type": "stream",
     "text": [
      "Training loss: 0.0576, Training accuracy: 0.9797\n",
      "Test loss: 0.0520, Test accuracy: 0.9919\n",
      "Epoch 130/250\n"
     ]
    },
    {
     "name": "stderr",
     "output_type": "stream",
     "text": [
      "Training: 100%|██████████| 62/62 [00:00<00:00, 264.08it/s]\n",
      "Evaluating: 100%|██████████| 16/16 [00:00<00:00, 407.45it/s]\n"
     ]
    },
    {
     "name": "stdout",
     "output_type": "stream",
     "text": [
      "Training loss: 0.0582, Training accuracy: 0.9817\n",
      "Test loss: 0.0511, Test accuracy: 0.9919\n",
      "Epoch 131/250\n"
     ]
    },
    {
     "name": "stderr",
     "output_type": "stream",
     "text": [
      "Training: 100%|██████████| 62/62 [00:00<00:00, 270.67it/s]\n",
      "Evaluating: 100%|██████████| 16/16 [00:00<00:00, 380.04it/s]\n"
     ]
    },
    {
     "name": "stdout",
     "output_type": "stream",
     "text": [
      "Training loss: 0.0577, Training accuracy: 0.9837\n",
      "Test loss: 0.0499, Test accuracy: 0.9919\n",
      "Epoch 132/250\n"
     ]
    },
    {
     "name": "stderr",
     "output_type": "stream",
     "text": [
      "Training: 100%|██████████| 62/62 [00:00<00:00, 273.89it/s]\n",
      "Evaluating: 100%|██████████| 16/16 [00:00<00:00, 394.64it/s]\n"
     ]
    },
    {
     "name": "stdout",
     "output_type": "stream",
     "text": [
      "Training loss: 0.0569, Training accuracy: 0.9837\n",
      "Test loss: 0.0516, Test accuracy: 0.9919\n",
      "Epoch 133/250\n"
     ]
    },
    {
     "name": "stderr",
     "output_type": "stream",
     "text": [
      "Training: 100%|██████████| 62/62 [00:00<00:00, 266.86it/s]\n",
      "Evaluating: 100%|██████████| 16/16 [00:00<00:00, 389.14it/s]\n"
     ]
    },
    {
     "name": "stdout",
     "output_type": "stream",
     "text": [
      "Training loss: 0.0568, Training accuracy: 0.9817\n",
      "Test loss: 0.0520, Test accuracy: 0.9919\n",
      "Epoch 134/250\n"
     ]
    },
    {
     "name": "stderr",
     "output_type": "stream",
     "text": [
      "Training: 100%|██████████| 62/62 [00:00<00:00, 271.52it/s]\n",
      "Evaluating: 100%|██████████| 16/16 [00:00<00:00, 429.40it/s]\n"
     ]
    },
    {
     "name": "stdout",
     "output_type": "stream",
     "text": [
      "Training loss: 0.0566, Training accuracy: 0.9837\n",
      "Test loss: 0.0563, Test accuracy: 0.9919\n",
      "Epoch 135/250\n"
     ]
    },
    {
     "name": "stderr",
     "output_type": "stream",
     "text": [
      "Training: 100%|██████████| 62/62 [00:00<00:00, 270.68it/s]\n",
      "Evaluating: 100%|██████████| 16/16 [00:00<00:00, 396.55it/s]\n"
     ]
    },
    {
     "name": "stdout",
     "output_type": "stream",
     "text": [
      "Training loss: 0.0564, Training accuracy: 0.9837\n",
      "Test loss: 0.0499, Test accuracy: 0.9919\n",
      "Epoch 136/250\n"
     ]
    },
    {
     "name": "stderr",
     "output_type": "stream",
     "text": [
      "Training: 100%|██████████| 62/62 [00:00<00:00, 265.84it/s]\n",
      "Evaluating: 100%|██████████| 16/16 [00:00<00:00, 300.34it/s]\n"
     ]
    },
    {
     "name": "stdout",
     "output_type": "stream",
     "text": [
      "Training loss: 0.0575, Training accuracy: 0.9837\n",
      "Test loss: 0.0529, Test accuracy: 0.9919\n",
      "Epoch 137/250\n"
     ]
    },
    {
     "name": "stderr",
     "output_type": "stream",
     "text": [
      "Training: 100%|██████████| 62/62 [00:00<00:00, 273.83it/s]\n",
      "Evaluating: 100%|██████████| 16/16 [00:00<00:00, 399.10it/s]\n"
     ]
    },
    {
     "name": "stdout",
     "output_type": "stream",
     "text": [
      "Training loss: 0.0589, Training accuracy: 0.9837\n",
      "Test loss: 0.0460, Test accuracy: 0.9919\n",
      "Epoch 138/250\n"
     ]
    },
    {
     "name": "stderr",
     "output_type": "stream",
     "text": [
      "Training: 100%|██████████| 62/62 [00:00<00:00, 263.44it/s]\n",
      "Evaluating: 100%|██████████| 16/16 [00:00<00:00, 353.98it/s]\n"
     ]
    },
    {
     "name": "stdout",
     "output_type": "stream",
     "text": [
      "Training loss: 0.0558, Training accuracy: 0.9837\n",
      "Test loss: 0.0509, Test accuracy: 0.9919\n",
      "Epoch 139/250\n"
     ]
    },
    {
     "name": "stderr",
     "output_type": "stream",
     "text": [
      "Training: 100%|██████████| 62/62 [00:00<00:00, 267.76it/s]\n",
      "Evaluating: 100%|██████████| 16/16 [00:00<00:00, 410.15it/s]\n"
     ]
    },
    {
     "name": "stdout",
     "output_type": "stream",
     "text": [
      "Training loss: 0.0564, Training accuracy: 0.9817\n",
      "Test loss: 0.0570, Test accuracy: 0.9919\n",
      "Epoch 140/250\n"
     ]
    },
    {
     "name": "stderr",
     "output_type": "stream",
     "text": [
      "Training: 100%|██████████| 62/62 [00:00<00:00, 271.96it/s]\n",
      "Evaluating: 100%|██████████| 16/16 [00:00<00:00, 377.46it/s]\n"
     ]
    },
    {
     "name": "stdout",
     "output_type": "stream",
     "text": [
      "Training loss: 0.0561, Training accuracy: 0.9837\n",
      "Test loss: 0.0504, Test accuracy: 0.9919\n",
      "Epoch 141/250\n"
     ]
    },
    {
     "name": "stderr",
     "output_type": "stream",
     "text": [
      "Training: 100%|██████████| 62/62 [00:00<00:00, 260.98it/s]\n",
      "Evaluating: 100%|██████████| 16/16 [00:00<00:00, 358.69it/s]\n"
     ]
    },
    {
     "name": "stdout",
     "output_type": "stream",
     "text": [
      "Training loss: 0.0562, Training accuracy: 0.9817\n",
      "Test loss: 0.0458, Test accuracy: 0.9919\n",
      "Epoch 142/250\n"
     ]
    },
    {
     "name": "stderr",
     "output_type": "stream",
     "text": [
      "Training: 100%|██████████| 62/62 [00:00<00:00, 269.86it/s]\n",
      "Evaluating: 100%|██████████| 16/16 [00:00<00:00, 402.70it/s]\n"
     ]
    },
    {
     "name": "stdout",
     "output_type": "stream",
     "text": [
      "Training loss: 0.0594, Training accuracy: 0.9817\n",
      "Test loss: 0.0486, Test accuracy: 0.9919\n",
      "Epoch 143/250\n"
     ]
    },
    {
     "name": "stderr",
     "output_type": "stream",
     "text": [
      "Training: 100%|██████████| 62/62 [00:00<00:00, 266.23it/s]\n",
      "Evaluating: 100%|██████████| 16/16 [00:00<00:00, 399.23it/s]\n"
     ]
    },
    {
     "name": "stdout",
     "output_type": "stream",
     "text": [
      "Training loss: 0.0560, Training accuracy: 0.9858\n",
      "Test loss: 0.0456, Test accuracy: 0.9919\n",
      "Epoch 144/250\n"
     ]
    },
    {
     "name": "stderr",
     "output_type": "stream",
     "text": [
      "Training: 100%|██████████| 62/62 [00:00<00:00, 268.83it/s]\n",
      "Evaluating: 100%|██████████| 16/16 [00:00<00:00, 385.60it/s]\n"
     ]
    },
    {
     "name": "stdout",
     "output_type": "stream",
     "text": [
      "Training loss: 0.0555, Training accuracy: 0.9837\n",
      "Test loss: 0.0512, Test accuracy: 0.9919\n",
      "Epoch 145/250\n"
     ]
    },
    {
     "name": "stderr",
     "output_type": "stream",
     "text": [
      "Training: 100%|██████████| 62/62 [00:00<00:00, 259.49it/s]\n",
      "Evaluating: 100%|██████████| 16/16 [00:00<00:00, 429.66it/s]\n"
     ]
    },
    {
     "name": "stdout",
     "output_type": "stream",
     "text": [
      "Training loss: 0.0566, Training accuracy: 0.9797\n",
      "Test loss: 0.0510, Test accuracy: 0.9919\n",
      "Epoch 146/250\n"
     ]
    },
    {
     "name": "stderr",
     "output_type": "stream",
     "text": [
      "Training: 100%|██████████| 62/62 [00:00<00:00, 272.17it/s]\n",
      "Evaluating: 100%|██████████| 16/16 [00:00<00:00, 404.01it/s]\n"
     ]
    },
    {
     "name": "stdout",
     "output_type": "stream",
     "text": [
      "Training loss: 0.0568, Training accuracy: 0.9858\n",
      "Test loss: 0.0483, Test accuracy: 0.9919\n",
      "Epoch 147/250\n"
     ]
    },
    {
     "name": "stderr",
     "output_type": "stream",
     "text": [
      "Training: 100%|██████████| 62/62 [00:00<00:00, 270.74it/s]\n",
      "Evaluating: 100%|██████████| 16/16 [00:00<00:00, 377.84it/s]\n"
     ]
    },
    {
     "name": "stdout",
     "output_type": "stream",
     "text": [
      "Training loss: 0.0548, Training accuracy: 0.9837\n",
      "Test loss: 0.0540, Test accuracy: 0.9919\n",
      "Epoch 148/250\n"
     ]
    },
    {
     "name": "stderr",
     "output_type": "stream",
     "text": [
      "Training: 100%|██████████| 62/62 [00:00<00:00, 246.33it/s]\n",
      "Evaluating: 100%|██████████| 16/16 [00:00<00:00, 387.61it/s]\n"
     ]
    },
    {
     "name": "stdout",
     "output_type": "stream",
     "text": [
      "Training loss: 0.0547, Training accuracy: 0.9817\n",
      "Test loss: 0.0547, Test accuracy: 0.9919\n",
      "Epoch 149/250\n"
     ]
    },
    {
     "name": "stderr",
     "output_type": "stream",
     "text": [
      "Training: 100%|██████████| 62/62 [00:00<00:00, 270.06it/s]\n",
      "Evaluating: 100%|██████████| 16/16 [00:00<00:00, 403.94it/s]\n"
     ]
    },
    {
     "name": "stdout",
     "output_type": "stream",
     "text": [
      "Training loss: 0.0564, Training accuracy: 0.9837\n",
      "Test loss: 0.0543, Test accuracy: 0.9919\n",
      "Epoch 150/250\n"
     ]
    },
    {
     "name": "stderr",
     "output_type": "stream",
     "text": [
      "Training: 100%|██████████| 62/62 [00:00<00:00, 266.56it/s]\n",
      "Evaluating: 100%|██████████| 16/16 [00:00<00:00, 439.14it/s]\n"
     ]
    },
    {
     "name": "stdout",
     "output_type": "stream",
     "text": [
      "Training loss: 0.0552, Training accuracy: 0.9817\n",
      "Test loss: 0.0497, Test accuracy: 0.9919\n",
      "Epoch 151/250\n"
     ]
    },
    {
     "name": "stderr",
     "output_type": "stream",
     "text": [
      "Training: 100%|██████████| 62/62 [00:00<00:00, 269.24it/s]\n",
      "Evaluating: 100%|██████████| 16/16 [00:00<00:00, 376.33it/s]\n"
     ]
    },
    {
     "name": "stdout",
     "output_type": "stream",
     "text": [
      "Training loss: 0.0576, Training accuracy: 0.9837\n",
      "Test loss: 0.0521, Test accuracy: 0.9919\n",
      "Epoch 152/250\n"
     ]
    },
    {
     "name": "stderr",
     "output_type": "stream",
     "text": [
      "Training: 100%|██████████| 62/62 [00:00<00:00, 249.51it/s]\n",
      "Evaluating: 100%|██████████| 16/16 [00:00<00:00, 386.45it/s]\n"
     ]
    },
    {
     "name": "stdout",
     "output_type": "stream",
     "text": [
      "Training loss: 0.0559, Training accuracy: 0.9837\n",
      "Test loss: 0.0516, Test accuracy: 0.9919\n",
      "Epoch 153/250\n"
     ]
    },
    {
     "name": "stderr",
     "output_type": "stream",
     "text": [
      "Training: 100%|██████████| 62/62 [00:00<00:00, 271.04it/s]\n",
      "Evaluating: 100%|██████████| 16/16 [00:00<00:00, 368.66it/s]\n"
     ]
    },
    {
     "name": "stdout",
     "output_type": "stream",
     "text": [
      "Training loss: 0.0543, Training accuracy: 0.9837\n",
      "Test loss: 0.0517, Test accuracy: 0.9919\n",
      "Epoch 154/250\n"
     ]
    },
    {
     "name": "stderr",
     "output_type": "stream",
     "text": [
      "Training: 100%|██████████| 62/62 [00:00<00:00, 265.31it/s]\n",
      "Evaluating: 100%|██████████| 16/16 [00:00<00:00, 406.77it/s]\n"
     ]
    },
    {
     "name": "stdout",
     "output_type": "stream",
     "text": [
      "Training loss: 0.0543, Training accuracy: 0.9837\n",
      "Test loss: 0.0468, Test accuracy: 0.9919\n",
      "Epoch 155/250\n"
     ]
    },
    {
     "name": "stderr",
     "output_type": "stream",
     "text": [
      "Training: 100%|██████████| 62/62 [00:00<00:00, 275.82it/s]\n",
      "Evaluating: 100%|██████████| 16/16 [00:00<00:00, 372.03it/s]\n"
     ]
    },
    {
     "name": "stdout",
     "output_type": "stream",
     "text": [
      "Training loss: 0.0547, Training accuracy: 0.9756\n",
      "Test loss: 0.0450, Test accuracy: 0.9919\n",
      "Epoch 156/250\n"
     ]
    },
    {
     "name": "stderr",
     "output_type": "stream",
     "text": [
      "Training: 100%|██████████| 62/62 [00:00<00:00, 270.11it/s]\n",
      "Evaluating: 100%|██████████| 16/16 [00:00<00:00, 406.15it/s]\n"
     ]
    },
    {
     "name": "stdout",
     "output_type": "stream",
     "text": [
      "Training loss: 0.0544, Training accuracy: 0.9837\n",
      "Test loss: 0.0487, Test accuracy: 0.9919\n",
      "Epoch 157/250\n"
     ]
    },
    {
     "name": "stderr",
     "output_type": "stream",
     "text": [
      "Training: 100%|██████████| 62/62 [00:00<00:00, 258.15it/s]\n",
      "Evaluating: 100%|██████████| 16/16 [00:00<00:00, 397.88it/s]\n"
     ]
    },
    {
     "name": "stdout",
     "output_type": "stream",
     "text": [
      "Training loss: 0.0527, Training accuracy: 0.9837\n",
      "Test loss: 0.0462, Test accuracy: 0.9919\n",
      "Epoch 158/250\n"
     ]
    },
    {
     "name": "stderr",
     "output_type": "stream",
     "text": [
      "Training: 100%|██████████| 62/62 [00:00<00:00, 263.25it/s]\n",
      "Evaluating: 100%|██████████| 16/16 [00:00<00:00, 378.91it/s]\n"
     ]
    },
    {
     "name": "stdout",
     "output_type": "stream",
     "text": [
      "Training loss: 0.0539, Training accuracy: 0.9837\n",
      "Test loss: 0.0534, Test accuracy: 0.9919\n",
      "Epoch 159/250\n"
     ]
    },
    {
     "name": "stderr",
     "output_type": "stream",
     "text": [
      "Training: 100%|██████████| 62/62 [00:00<00:00, 261.29it/s]\n",
      "Evaluating: 100%|██████████| 16/16 [00:00<00:00, 387.80it/s]\n"
     ]
    },
    {
     "name": "stdout",
     "output_type": "stream",
     "text": [
      "Training loss: 0.0530, Training accuracy: 0.9858\n",
      "Test loss: 0.0525, Test accuracy: 0.9919\n",
      "Epoch 160/250\n"
     ]
    },
    {
     "name": "stderr",
     "output_type": "stream",
     "text": [
      "Training: 100%|██████████| 62/62 [00:00<00:00, 252.58it/s]\n",
      "Evaluating: 100%|██████████| 16/16 [00:00<00:00, 428.57it/s]\n"
     ]
    },
    {
     "name": "stdout",
     "output_type": "stream",
     "text": [
      "Training loss: 0.0521, Training accuracy: 0.9837\n",
      "Test loss: 0.0484, Test accuracy: 0.9919\n",
      "Epoch 161/250\n"
     ]
    },
    {
     "name": "stderr",
     "output_type": "stream",
     "text": [
      "Training: 100%|██████████| 62/62 [00:00<00:00, 267.80it/s]\n",
      "Evaluating: 100%|██████████| 16/16 [00:00<00:00, 387.93it/s]\n"
     ]
    },
    {
     "name": "stdout",
     "output_type": "stream",
     "text": [
      "Training loss: 0.0536, Training accuracy: 0.9797\n",
      "Test loss: 0.0561, Test accuracy: 0.9919\n",
      "Epoch 162/250\n"
     ]
    },
    {
     "name": "stderr",
     "output_type": "stream",
     "text": [
      "Training: 100%|██████████| 62/62 [00:00<00:00, 266.05it/s]\n",
      "Evaluating: 100%|██████████| 16/16 [00:00<00:00, 369.05it/s]\n"
     ]
    },
    {
     "name": "stdout",
     "output_type": "stream",
     "text": [
      "Training loss: 0.0542, Training accuracy: 0.9837\n",
      "Test loss: 0.0499, Test accuracy: 0.9919\n",
      "Epoch 163/250\n"
     ]
    },
    {
     "name": "stderr",
     "output_type": "stream",
     "text": [
      "Training: 100%|██████████| 62/62 [00:00<00:00, 238.54it/s]\n",
      "Evaluating: 100%|██████████| 16/16 [00:00<00:00, 397.06it/s]\n"
     ]
    },
    {
     "name": "stdout",
     "output_type": "stream",
     "text": [
      "Training loss: 0.0548, Training accuracy: 0.9858\n",
      "Test loss: 0.0506, Test accuracy: 0.9919\n",
      "Epoch 164/250\n"
     ]
    },
    {
     "name": "stderr",
     "output_type": "stream",
     "text": [
      "Training: 100%|██████████| 62/62 [00:00<00:00, 277.21it/s]\n",
      "Evaluating: 100%|██████████| 16/16 [00:00<00:00, 396.95it/s]\n"
     ]
    },
    {
     "name": "stdout",
     "output_type": "stream",
     "text": [
      "Training loss: 0.0528, Training accuracy: 0.9837\n",
      "Test loss: 0.0489, Test accuracy: 0.9919\n",
      "Epoch 165/250\n"
     ]
    },
    {
     "name": "stderr",
     "output_type": "stream",
     "text": [
      "Training: 100%|██████████| 62/62 [00:00<00:00, 267.31it/s]\n",
      "Evaluating: 100%|██████████| 16/16 [00:00<00:00, 350.98it/s]\n"
     ]
    },
    {
     "name": "stdout",
     "output_type": "stream",
     "text": [
      "Training loss: 0.0511, Training accuracy: 0.9837\n",
      "Test loss: 0.0447, Test accuracy: 0.9919\n",
      "Epoch 166/250\n"
     ]
    },
    {
     "name": "stderr",
     "output_type": "stream",
     "text": [
      "Training: 100%|██████████| 62/62 [00:00<00:00, 254.97it/s]\n",
      "Evaluating: 100%|██████████| 16/16 [00:00<00:00, 381.53it/s]\n"
     ]
    },
    {
     "name": "stdout",
     "output_type": "stream",
     "text": [
      "Training loss: 0.0553, Training accuracy: 0.9817\n",
      "Test loss: 0.0504, Test accuracy: 0.9919\n",
      "Epoch 167/250\n"
     ]
    },
    {
     "name": "stderr",
     "output_type": "stream",
     "text": [
      "Training: 100%|██████████| 62/62 [00:00<00:00, 253.56it/s]\n",
      "Evaluating: 100%|██████████| 16/16 [00:00<00:00, 398.33it/s]\n"
     ]
    },
    {
     "name": "stdout",
     "output_type": "stream",
     "text": [
      "Training loss: 0.0513, Training accuracy: 0.9817\n",
      "Test loss: 0.0466, Test accuracy: 0.9919\n",
      "Epoch 168/250\n"
     ]
    },
    {
     "name": "stderr",
     "output_type": "stream",
     "text": [
      "Training: 100%|██████████| 62/62 [00:00<00:00, 252.80it/s]\n",
      "Evaluating: 100%|██████████| 16/16 [00:00<00:00, 350.19it/s]\n"
     ]
    },
    {
     "name": "stdout",
     "output_type": "stream",
     "text": [
      "Training loss: 0.0535, Training accuracy: 0.9817\n",
      "Test loss: 0.0465, Test accuracy: 0.9919\n",
      "Epoch 169/250\n"
     ]
    },
    {
     "name": "stderr",
     "output_type": "stream",
     "text": [
      "Training: 100%|██████████| 62/62 [00:00<00:00, 261.47it/s]\n",
      "Evaluating: 100%|██████████| 16/16 [00:00<00:00, 379.83it/s]\n"
     ]
    },
    {
     "name": "stdout",
     "output_type": "stream",
     "text": [
      "Training loss: 0.0542, Training accuracy: 0.9837\n",
      "Test loss: 0.0528, Test accuracy: 0.9919\n",
      "Epoch 170/250\n"
     ]
    },
    {
     "name": "stderr",
     "output_type": "stream",
     "text": [
      "Training: 100%|██████████| 62/62 [00:00<00:00, 269.44it/s]\n",
      "Evaluating: 100%|██████████| 16/16 [00:00<00:00, 747.66it/s]\n"
     ]
    },
    {
     "name": "stdout",
     "output_type": "stream",
     "text": [
      "Training loss: 0.0527, Training accuracy: 0.9817\n",
      "Test loss: 0.0517, Test accuracy: 0.9919\n",
      "Epoch 171/250\n"
     ]
    },
    {
     "name": "stderr",
     "output_type": "stream",
     "text": [
      "Training: 100%|██████████| 62/62 [00:00<00:00, 534.85it/s]\n",
      "Evaluating: 100%|██████████| 16/16 [00:00<00:00, 1777.77it/s]\n"
     ]
    },
    {
     "name": "stdout",
     "output_type": "stream",
     "text": [
      "Training loss: 0.0515, Training accuracy: 0.9858\n",
      "Test loss: 0.0470, Test accuracy: 0.9919\n",
      "Epoch 172/250\n"
     ]
    },
    {
     "name": "stderr",
     "output_type": "stream",
     "text": [
      "Training: 100%|██████████| 62/62 [00:00<00:00, 761.25it/s]\n",
      "Evaluating: 100%|██████████| 16/16 [00:00<00:00, 1759.31it/s]\n"
     ]
    },
    {
     "name": "stdout",
     "output_type": "stream",
     "text": [
      "Training loss: 0.0514, Training accuracy: 0.9837\n",
      "Test loss: 0.0542, Test accuracy: 0.9919\n",
      "Epoch 173/250\n"
     ]
    },
    {
     "name": "stderr",
     "output_type": "stream",
     "text": [
      "Training: 100%|██████████| 62/62 [00:00<00:00, 1100.87it/s]\n",
      "Evaluating: 100%|██████████| 16/16 [00:00<00:00, 2001.52it/s]\n"
     ]
    },
    {
     "name": "stdout",
     "output_type": "stream",
     "text": [
      "Training loss: 0.0526, Training accuracy: 0.9858\n",
      "Test loss: 0.0540, Test accuracy: 0.9919\n",
      "Epoch 174/250\n"
     ]
    },
    {
     "name": "stderr",
     "output_type": "stream",
     "text": [
      "Training: 100%|██████████| 62/62 [00:00<00:00, 1044.00it/s]\n",
      "Evaluating: 100%|██████████| 16/16 [00:00<00:00, 1777.91it/s]\n"
     ]
    },
    {
     "name": "stdout",
     "output_type": "stream",
     "text": [
      "Training loss: 0.0576, Training accuracy: 0.9837\n",
      "Test loss: 0.0474, Test accuracy: 0.9919\n",
      "Epoch 175/250\n"
     ]
    },
    {
     "name": "stderr",
     "output_type": "stream",
     "text": [
      "Training: 100%|██████████| 62/62 [00:00<00:00, 1028.69it/s]\n",
      "Evaluating: 100%|██████████| 16/16 [00:00<00:00, 1999.97it/s]\n"
     ]
    },
    {
     "name": "stdout",
     "output_type": "stream",
     "text": [
      "Training loss: 0.0515, Training accuracy: 0.9858\n",
      "Test loss: 0.0445, Test accuracy: 0.9919\n",
      "Epoch 176/250\n"
     ]
    },
    {
     "name": "stderr",
     "output_type": "stream",
     "text": [
      "Training: 100%|██████████| 62/62 [00:00<00:00, 1045.79it/s]\n",
      "Evaluating: 100%|██████████| 16/16 [00:00<00:00, 1979.67it/s]\n"
     ]
    },
    {
     "name": "stdout",
     "output_type": "stream",
     "text": [
      "Training loss: 0.0517, Training accuracy: 0.9858\n",
      "Test loss: 0.0515, Test accuracy: 0.9919\n",
      "Epoch 177/250\n"
     ]
    },
    {
     "name": "stderr",
     "output_type": "stream",
     "text": [
      "Training: 100%|██████████| 62/62 [00:00<00:00, 1028.25it/s]\n",
      "Evaluating: 100%|██████████| 16/16 [00:00<00:00, 1599.96it/s]\n"
     ]
    },
    {
     "name": "stdout",
     "output_type": "stream",
     "text": [
      "Training loss: 0.0515, Training accuracy: 0.9837\n",
      "Test loss: 0.0579, Test accuracy: 0.9919\n",
      "Epoch 178/250\n"
     ]
    },
    {
     "name": "stderr",
     "output_type": "stream",
     "text": [
      "Training: 100%|██████████| 62/62 [00:00<00:00, 893.14it/s]\n",
      "Evaluating: 100%|██████████| 16/16 [00:00<00:00, 1763.24it/s]\n"
     ]
    },
    {
     "name": "stdout",
     "output_type": "stream",
     "text": [
      "Training loss: 0.0512, Training accuracy: 0.9837\n",
      "Test loss: 0.0478, Test accuracy: 0.9919\n",
      "Epoch 179/250\n"
     ]
    },
    {
     "name": "stderr",
     "output_type": "stream",
     "text": [
      "Training: 100%|██████████| 62/62 [00:00<00:00, 1045.69it/s]\n",
      "Evaluating: 100%|██████████| 16/16 [00:00<00:00, 1760.60it/s]\n"
     ]
    },
    {
     "name": "stdout",
     "output_type": "stream",
     "text": [
      "Training loss: 0.0511, Training accuracy: 0.9837\n",
      "Test loss: 0.0453, Test accuracy: 0.9919\n",
      "Epoch 180/250\n"
     ]
    },
    {
     "name": "stderr",
     "output_type": "stream",
     "text": [
      "Training: 100%|██████████| 62/62 [00:00<00:00, 1043.77it/s]\n",
      "Evaluating: 100%|██████████| 16/16 [00:00<00:00, 1760.00it/s]\n"
     ]
    },
    {
     "name": "stdout",
     "output_type": "stream",
     "text": [
      "Training loss: 0.0505, Training accuracy: 0.9858\n",
      "Test loss: 0.0447, Test accuracy: 0.9919\n",
      "Epoch 181/250\n"
     ]
    },
    {
     "name": "stderr",
     "output_type": "stream",
     "text": [
      "Training: 100%|██████████| 62/62 [00:00<00:00, 1059.88it/s]\n",
      "Evaluating: 100%|██████████| 16/16 [00:00<00:00, 1982.42it/s]\n"
     ]
    },
    {
     "name": "stdout",
     "output_type": "stream",
     "text": [
      "Training loss: 0.0501, Training accuracy: 0.9858\n",
      "Test loss: 0.0465, Test accuracy: 0.9919\n",
      "Epoch 182/250\n"
     ]
    },
    {
     "name": "stderr",
     "output_type": "stream",
     "text": [
      "Training: 100%|██████████| 62/62 [00:00<00:00, 1064.26it/s]\n",
      "Evaluating: 100%|██████████| 16/16 [00:00<00:00, 1779.04it/s]\n"
     ]
    },
    {
     "name": "stdout",
     "output_type": "stream",
     "text": [
      "Training loss: 0.0501, Training accuracy: 0.9878\n",
      "Test loss: 0.0420, Test accuracy: 0.9919\n",
      "Epoch 183/250\n"
     ]
    },
    {
     "name": "stderr",
     "output_type": "stream",
     "text": [
      "Training: 100%|██████████| 62/62 [00:00<00:00, 1048.26it/s]\n",
      "Evaluating: 100%|██████████| 16/16 [00:00<00:00, 1778.10it/s]\n"
     ]
    },
    {
     "name": "stdout",
     "output_type": "stream",
     "text": [
      "Training loss: 0.0506, Training accuracy: 0.9817\n",
      "Test loss: 0.0517, Test accuracy: 0.9919\n",
      "Epoch 184/250\n"
     ]
    },
    {
     "name": "stderr",
     "output_type": "stream",
     "text": [
      "Training: 100%|██████████| 62/62 [00:00<00:00, 1061.40it/s]\n",
      "Evaluating: 100%|██████████| 16/16 [00:00<00:00, 1978.80it/s]\n"
     ]
    },
    {
     "name": "stdout",
     "output_type": "stream",
     "text": [
      "Training loss: 0.0506, Training accuracy: 0.9837\n",
      "Test loss: 0.0474, Test accuracy: 0.9919\n",
      "Epoch 185/250\n"
     ]
    },
    {
     "name": "stderr",
     "output_type": "stream",
     "text": [
      "Training: 100%|██████████| 62/62 [00:00<00:00, 785.85it/s]\n",
      "Evaluating: 100%|██████████| 16/16 [00:00<00:00, 1761.39it/s]\n"
     ]
    },
    {
     "name": "stdout",
     "output_type": "stream",
     "text": [
      "Training loss: 0.0499, Training accuracy: 0.9898\n",
      "Test loss: 0.0472, Test accuracy: 0.9919\n",
      "Epoch 186/250\n"
     ]
    },
    {
     "name": "stderr",
     "output_type": "stream",
     "text": [
      "Training: 100%|██████████| 62/62 [00:00<00:00, 1078.68it/s]\n",
      "Evaluating: 100%|██████████| 16/16 [00:00<00:00, 1765.98it/s]\n"
     ]
    },
    {
     "name": "stdout",
     "output_type": "stream",
     "text": [
      "Training loss: 0.0489, Training accuracy: 0.9837\n",
      "Test loss: 0.0497, Test accuracy: 0.9919\n",
      "Epoch 187/250\n"
     ]
    },
    {
     "name": "stderr",
     "output_type": "stream",
     "text": [
      "Training: 100%|██████████| 62/62 [00:00<00:00, 1010.95it/s]\n",
      "Evaluating: 100%|██████████| 16/16 [00:00<00:00, 1773.12it/s]\n"
     ]
    },
    {
     "name": "stdout",
     "output_type": "stream",
     "text": [
      "Training loss: 0.0491, Training accuracy: 0.9837\n",
      "Test loss: 0.0461, Test accuracy: 0.9919\n",
      "Epoch 188/250\n"
     ]
    },
    {
     "name": "stderr",
     "output_type": "stream",
     "text": [
      "Training: 100%|██████████| 62/62 [00:00<00:00, 1040.41it/s]\n",
      "Evaluating: 100%|██████████| 16/16 [00:00<00:00, 1765.70it/s]\n"
     ]
    },
    {
     "name": "stdout",
     "output_type": "stream",
     "text": [
      "Training loss: 0.0496, Training accuracy: 0.9858\n",
      "Test loss: 0.0473, Test accuracy: 0.9919\n",
      "Epoch 189/250\n"
     ]
    },
    {
     "name": "stderr",
     "output_type": "stream",
     "text": [
      "Training: 100%|██████████| 62/62 [00:00<00:00, 907.75it/s]\n",
      "Evaluating: 100%|██████████| 16/16 [00:00<00:00, 1980.78it/s]\n"
     ]
    },
    {
     "name": "stdout",
     "output_type": "stream",
     "text": [
      "Training loss: 0.0507, Training accuracy: 0.9837\n",
      "Test loss: 0.0483, Test accuracy: 0.9919\n",
      "Epoch 190/250\n"
     ]
    },
    {
     "name": "stderr",
     "output_type": "stream",
     "text": [
      "Training: 100%|██████████| 62/62 [00:00<00:00, 1079.65it/s]\n",
      "Evaluating: 100%|██████████| 16/16 [00:00<00:00, 1767.84it/s]\n"
     ]
    },
    {
     "name": "stdout",
     "output_type": "stream",
     "text": [
      "Training loss: 0.0493, Training accuracy: 0.9837\n",
      "Test loss: 0.0437, Test accuracy: 0.9919\n",
      "Epoch 191/250\n"
     ]
    },
    {
     "name": "stderr",
     "output_type": "stream",
     "text": [
      "Training: 100%|██████████| 62/62 [00:00<00:00, 1084.39it/s]\n",
      "Evaluating: 100%|██████████| 16/16 [00:00<00:00, 1777.91it/s]\n"
     ]
    },
    {
     "name": "stdout",
     "output_type": "stream",
     "text": [
      "Training loss: 0.0510, Training accuracy: 0.9837\n",
      "Test loss: 0.0503, Test accuracy: 0.9919\n",
      "Epoch 192/250\n"
     ]
    },
    {
     "name": "stderr",
     "output_type": "stream",
     "text": [
      "Training: 100%|██████████| 62/62 [00:00<00:00, 1084.72it/s]\n",
      "Evaluating: 100%|██████████| 16/16 [00:00<00:00, 1777.91it/s]\n"
     ]
    },
    {
     "name": "stdout",
     "output_type": "stream",
     "text": [
      "Training loss: 0.0516, Training accuracy: 0.9837\n",
      "Test loss: 0.0485, Test accuracy: 0.9919\n",
      "Epoch 193/250\n"
     ]
    },
    {
     "name": "stderr",
     "output_type": "stream",
     "text": [
      "Training: 100%|██████████| 62/62 [00:00<00:00, 1027.09it/s]\n",
      "Evaluating: 100%|██████████| 16/16 [00:00<00:00, 1778.10it/s]\n"
     ]
    },
    {
     "name": "stdout",
     "output_type": "stream",
     "text": [
      "Training loss: 0.0481, Training accuracy: 0.9878\n",
      "Test loss: 0.0432, Test accuracy: 0.9919\n",
      "Epoch 194/250\n"
     ]
    },
    {
     "name": "stderr",
     "output_type": "stream",
     "text": [
      "Training: 100%|██████████| 62/62 [00:00<00:00, 1065.45it/s]\n",
      "Evaluating: 100%|██████████| 16/16 [00:00<00:00, 1757.93it/s]\n"
     ]
    },
    {
     "name": "stdout",
     "output_type": "stream",
     "text": [
      "Training loss: 0.0496, Training accuracy: 0.9878\n",
      "Test loss: 0.0491, Test accuracy: 0.9919\n",
      "Epoch 195/250\n"
     ]
    },
    {
     "name": "stderr",
     "output_type": "stream",
     "text": [
      "Training: 100%|██████████| 62/62 [00:00<00:00, 1061.71it/s]\n",
      "Evaluating: 100%|██████████| 16/16 [00:00<00:00, 1777.95it/s]\n"
     ]
    },
    {
     "name": "stdout",
     "output_type": "stream",
     "text": [
      "Training loss: 0.0480, Training accuracy: 0.9837\n",
      "Test loss: 0.0535, Test accuracy: 0.9919\n",
      "Epoch 196/250\n"
     ]
    },
    {
     "name": "stderr",
     "output_type": "stream",
     "text": [
      "Training: 100%|██████████| 62/62 [00:00<00:00, 1045.39it/s]\n",
      "Evaluating: 100%|██████████| 16/16 [00:00<00:00, 1779.60it/s]\n"
     ]
    },
    {
     "name": "stdout",
     "output_type": "stream",
     "text": [
      "Training loss: 0.0485, Training accuracy: 0.9878\n",
      "Test loss: 0.0437, Test accuracy: 0.9919\n",
      "Epoch 197/250\n"
     ]
    },
    {
     "name": "stderr",
     "output_type": "stream",
     "text": [
      "Training: 100%|██████████| 62/62 [00:00<00:00, 1082.74it/s]\n",
      "Evaluating: 100%|██████████| 16/16 [00:00<00:00, 1765.74it/s]\n"
     ]
    },
    {
     "name": "stdout",
     "output_type": "stream",
     "text": [
      "Training loss: 0.0486, Training accuracy: 0.9837\n",
      "Test loss: 0.0455, Test accuracy: 0.9919\n",
      "Epoch 198/250\n"
     ]
    },
    {
     "name": "stderr",
     "output_type": "stream",
     "text": [
      "Training: 100%|██████████| 62/62 [00:00<00:00, 829.41it/s]\n",
      "Evaluating: 100%|██████████| 16/16 [00:00<00:00, 1777.77it/s]\n"
     ]
    },
    {
     "name": "stdout",
     "output_type": "stream",
     "text": [
      "Training loss: 0.0491, Training accuracy: 0.9837\n",
      "Test loss: 0.0447, Test accuracy: 0.9919\n",
      "Epoch 199/250\n"
     ]
    },
    {
     "name": "stderr",
     "output_type": "stream",
     "text": [
      "Training: 100%|██████████| 62/62 [00:00<00:00, 1076.90it/s]\n",
      "Evaluating: 100%|██████████| 16/16 [00:00<00:00, 1982.13it/s]\n"
     ]
    },
    {
     "name": "stdout",
     "output_type": "stream",
     "text": [
      "Training loss: 0.0483, Training accuracy: 0.9858\n",
      "Test loss: 0.0502, Test accuracy: 0.9919\n",
      "Epoch 200/250\n"
     ]
    },
    {
     "name": "stderr",
     "output_type": "stream",
     "text": [
      "Training: 100%|██████████| 62/62 [00:00<00:00, 947.94it/s]\n",
      "Evaluating: 100%|██████████| 16/16 [00:00<00:00, 1600.08it/s]\n"
     ]
    },
    {
     "name": "stdout",
     "output_type": "stream",
     "text": [
      "Training loss: 0.0479, Training accuracy: 0.9837\n",
      "Test loss: 0.0462, Test accuracy: 0.9919\n",
      "Epoch 201/250\n"
     ]
    },
    {
     "name": "stderr",
     "output_type": "stream",
     "text": [
      "Training: 100%|██████████| 62/62 [00:00<00:00, 1025.98it/s]\n",
      "Evaluating: 100%|██████████| 16/16 [00:00<00:00, 1764.91it/s]\n"
     ]
    },
    {
     "name": "stdout",
     "output_type": "stream",
     "text": [
      "Training loss: 0.0484, Training accuracy: 0.9878\n",
      "Test loss: 0.0450, Test accuracy: 0.9919\n",
      "Epoch 202/250\n"
     ]
    },
    {
     "name": "stderr",
     "output_type": "stream",
     "text": [
      "Training: 100%|██████████| 62/62 [00:00<00:00, 1025.81it/s]\n",
      "Evaluating: 100%|██████████| 16/16 [00:00<00:00, 1777.91it/s]\n"
     ]
    },
    {
     "name": "stdout",
     "output_type": "stream",
     "text": [
      "Training loss: 0.0472, Training accuracy: 0.9878\n",
      "Test loss: 0.0439, Test accuracy: 0.9919\n",
      "Epoch 203/250\n"
     ]
    },
    {
     "name": "stderr",
     "output_type": "stream",
     "text": [
      "Training: 100%|██████████| 62/62 [00:00<00:00, 1040.50it/s]\n",
      "Evaluating: 100%|██████████| 16/16 [00:00<00:00, 1777.91it/s]\n"
     ]
    },
    {
     "name": "stdout",
     "output_type": "stream",
     "text": [
      "Training loss: 0.0500, Training accuracy: 0.9837\n",
      "Test loss: 0.0510, Test accuracy: 0.9919\n",
      "Epoch 204/250\n"
     ]
    },
    {
     "name": "stderr",
     "output_type": "stream",
     "text": [
      "Training: 100%|██████████| 62/62 [00:00<00:00, 977.64it/s]\n",
      "Evaluating: 100%|██████████| 16/16 [00:00<00:00, 1777.58it/s]\n"
     ]
    },
    {
     "name": "stdout",
     "output_type": "stream",
     "text": [
      "Training loss: 0.0465, Training accuracy: 0.9898\n",
      "Test loss: 0.0429, Test accuracy: 0.9919\n",
      "Epoch 205/250\n"
     ]
    },
    {
     "name": "stderr",
     "output_type": "stream",
     "text": [
      "Training: 100%|██████████| 62/62 [00:00<00:00, 1059.85it/s]\n",
      "Evaluating: 100%|██████████| 16/16 [00:00<00:00, 1749.54it/s]\n"
     ]
    },
    {
     "name": "stdout",
     "output_type": "stream",
     "text": [
      "Training loss: 0.0493, Training accuracy: 0.9837\n",
      "Test loss: 0.0481, Test accuracy: 0.9919\n",
      "Epoch 206/250\n"
     ]
    },
    {
     "name": "stderr",
     "output_type": "stream",
     "text": [
      "Training: 100%|██████████| 62/62 [00:00<00:00, 1042.62it/s]\n",
      "Evaluating: 100%|██████████| 16/16 [00:00<00:00, 1978.50it/s]\n"
     ]
    },
    {
     "name": "stdout",
     "output_type": "stream",
     "text": [
      "Training loss: 0.0477, Training accuracy: 0.9878\n",
      "Test loss: 0.0443, Test accuracy: 0.9919\n",
      "Epoch 207/250\n"
     ]
    },
    {
     "name": "stderr",
     "output_type": "stream",
     "text": [
      "Training: 100%|██████████| 62/62 [00:00<00:00, 1027.65it/s]\n",
      "Evaluating: 100%|██████████| 16/16 [00:00<00:00, 2001.93it/s]\n"
     ]
    },
    {
     "name": "stdout",
     "output_type": "stream",
     "text": [
      "Training loss: 0.0469, Training accuracy: 0.9898\n",
      "Test loss: 0.0417, Test accuracy: 0.9919\n",
      "Epoch 208/250\n"
     ]
    },
    {
     "name": "stderr",
     "output_type": "stream",
     "text": [
      "Training: 100%|██████████| 62/62 [00:00<00:00, 819.23it/s]\n",
      "Evaluating: 100%|██████████| 16/16 [00:00<00:00, 1601.49it/s]\n"
     ]
    },
    {
     "name": "stdout",
     "output_type": "stream",
     "text": [
      "Training loss: 0.0480, Training accuracy: 0.9858\n",
      "Test loss: 0.0517, Test accuracy: 0.9919\n",
      "Epoch 209/250\n"
     ]
    },
    {
     "name": "stderr",
     "output_type": "stream",
     "text": [
      "Training: 100%|██████████| 62/62 [00:00<00:00, 1064.83it/s]\n",
      "Evaluating: 100%|██████████| 16/16 [00:00<00:00, 1760.83it/s]\n"
     ]
    },
    {
     "name": "stdout",
     "output_type": "stream",
     "text": [
      "Training loss: 0.0468, Training accuracy: 0.9837\n",
      "Test loss: 0.0452, Test accuracy: 0.9919\n",
      "Epoch 210/250\n"
     ]
    },
    {
     "name": "stderr",
     "output_type": "stream",
     "text": [
      "Training: 100%|██████████| 62/62 [00:00<00:00, 1063.47it/s]\n",
      "Evaluating: 100%|██████████| 16/16 [00:00<00:00, 2000.09it/s]\n"
     ]
    },
    {
     "name": "stdout",
     "output_type": "stream",
     "text": [
      "Training loss: 0.0480, Training accuracy: 0.9837\n",
      "Test loss: 0.0573, Test accuracy: 0.9837\n",
      "Epoch 211/250\n"
     ]
    },
    {
     "name": "stderr",
     "output_type": "stream",
     "text": [
      "Training: 100%|██████████| 62/62 [00:00<00:00, 1081.15it/s]\n",
      "Evaluating: 100%|██████████| 16/16 [00:00<00:00, 1999.85it/s]\n"
     ]
    },
    {
     "name": "stdout",
     "output_type": "stream",
     "text": [
      "Training loss: 0.0462, Training accuracy: 0.9878\n",
      "Test loss: 0.0452, Test accuracy: 0.9919\n",
      "Epoch 212/250\n"
     ]
    },
    {
     "name": "stderr",
     "output_type": "stream",
     "text": [
      "Training: 100%|██████████| 62/62 [00:00<00:00, 1029.29it/s]\n",
      "Evaluating: 100%|██████████| 16/16 [00:00<00:00, 1777.62it/s]\n"
     ]
    },
    {
     "name": "stdout",
     "output_type": "stream",
     "text": [
      "Training loss: 0.0463, Training accuracy: 0.9837\n",
      "Test loss: 0.0471, Test accuracy: 0.9919\n",
      "Epoch 213/250\n"
     ]
    },
    {
     "name": "stderr",
     "output_type": "stream",
     "text": [
      "Training: 100%|██████████| 62/62 [00:00<00:00, 1044.10it/s]\n",
      "Evaluating: 100%|██████████| 16/16 [00:00<00:00, 1779.23it/s]\n"
     ]
    },
    {
     "name": "stdout",
     "output_type": "stream",
     "text": [
      "Training loss: 0.0474, Training accuracy: 0.9858\n",
      "Test loss: 0.0424, Test accuracy: 0.9919\n",
      "Epoch 214/250\n"
     ]
    },
    {
     "name": "stderr",
     "output_type": "stream",
     "text": [
      "Training: 100%|██████████| 62/62 [00:00<00:00, 392.16it/s]\n",
      "Evaluating: 100%|██████████| 16/16 [00:00<00:00, 466.89it/s]\n"
     ]
    },
    {
     "name": "stdout",
     "output_type": "stream",
     "text": [
      "Training loss: 0.0480, Training accuracy: 0.9858\n",
      "Test loss: 0.0496, Test accuracy: 0.9919\n",
      "Epoch 215/250\n"
     ]
    },
    {
     "name": "stderr",
     "output_type": "stream",
     "text": [
      "Training: 100%|██████████| 62/62 [00:00<00:00, 338.25it/s]\n",
      "Evaluating: 100%|██████████| 16/16 [00:00<00:00, 481.21it/s]\n"
     ]
    },
    {
     "name": "stdout",
     "output_type": "stream",
     "text": [
      "Training loss: 0.0471, Training accuracy: 0.9837\n",
      "Test loss: 0.0435, Test accuracy: 0.9919\n",
      "Epoch 216/250\n"
     ]
    },
    {
     "name": "stderr",
     "output_type": "stream",
     "text": [
      "Training: 100%|██████████| 62/62 [00:00<00:00, 338.43it/s]\n",
      "Evaluating: 100%|██████████| 16/16 [00:00<00:00, 481.25it/s]\n"
     ]
    },
    {
     "name": "stdout",
     "output_type": "stream",
     "text": [
      "Training loss: 0.0465, Training accuracy: 0.9837\n",
      "Test loss: 0.0482, Test accuracy: 0.9919\n",
      "Epoch 217/250\n"
     ]
    },
    {
     "name": "stderr",
     "output_type": "stream",
     "text": [
      "Training: 100%|██████████| 62/62 [00:00<00:00, 338.55it/s]\n",
      "Evaluating: 100%|██████████| 16/16 [00:00<00:00, 495.48it/s]\n"
     ]
    },
    {
     "name": "stdout",
     "output_type": "stream",
     "text": [
      "Training loss: 0.0457, Training accuracy: 0.9858\n",
      "Test loss: 0.0434, Test accuracy: 0.9919\n",
      "Epoch 218/250\n"
     ]
    },
    {
     "name": "stderr",
     "output_type": "stream",
     "text": [
      "Training: 100%|██████████| 62/62 [00:00<00:00, 334.54it/s]\n",
      "Evaluating: 100%|██████████| 16/16 [00:00<00:00, 465.95it/s]\n"
     ]
    },
    {
     "name": "stdout",
     "output_type": "stream",
     "text": [
      "Training loss: 0.0457, Training accuracy: 0.9898\n",
      "Test loss: 0.0438, Test accuracy: 0.9919\n",
      "Epoch 219/250\n"
     ]
    },
    {
     "name": "stderr",
     "output_type": "stream",
     "text": [
      "Training: 100%|██████████| 62/62 [00:00<00:00, 345.61it/s]\n",
      "Evaluating: 100%|██████████| 16/16 [00:00<00:00, 462.55it/s]\n"
     ]
    },
    {
     "name": "stdout",
     "output_type": "stream",
     "text": [
      "Training loss: 0.0455, Training accuracy: 0.9858\n",
      "Test loss: 0.0553, Test accuracy: 0.9919\n",
      "Epoch 220/250\n"
     ]
    },
    {
     "name": "stderr",
     "output_type": "stream",
     "text": [
      "Training: 100%|██████████| 62/62 [00:00<00:00, 329.19it/s]\n",
      "Evaluating: 100%|██████████| 16/16 [00:00<00:00, 455.28it/s]\n"
     ]
    },
    {
     "name": "stdout",
     "output_type": "stream",
     "text": [
      "Training loss: 0.0461, Training accuracy: 0.9919\n",
      "Test loss: 0.0469, Test accuracy: 0.9919\n",
      "Epoch 221/250\n"
     ]
    },
    {
     "name": "stderr",
     "output_type": "stream",
     "text": [
      "Training: 100%|██████████| 62/62 [00:00<00:00, 295.00it/s]\n",
      "Evaluating: 100%|██████████| 16/16 [00:00<00:00, 456.01it/s]\n"
     ]
    },
    {
     "name": "stdout",
     "output_type": "stream",
     "text": [
      "Training loss: 0.0460, Training accuracy: 0.9837\n",
      "Test loss: 0.0465, Test accuracy: 0.9919\n",
      "Epoch 222/250\n"
     ]
    },
    {
     "name": "stderr",
     "output_type": "stream",
     "text": [
      "Training: 100%|██████████| 62/62 [00:00<00:00, 333.80it/s]\n",
      "Evaluating: 100%|██████████| 16/16 [00:00<00:00, 479.46it/s]\n"
     ]
    },
    {
     "name": "stdout",
     "output_type": "stream",
     "text": [
      "Training loss: 0.0463, Training accuracy: 0.9858\n",
      "Test loss: 0.0464, Test accuracy: 0.9919\n",
      "Epoch 223/250\n"
     ]
    },
    {
     "name": "stderr",
     "output_type": "stream",
     "text": [
      "Training: 100%|██████████| 62/62 [00:00<00:00, 336.71it/s]\n",
      "Evaluating: 100%|██████████| 16/16 [00:00<00:00, 480.87it/s]\n"
     ]
    },
    {
     "name": "stdout",
     "output_type": "stream",
     "text": [
      "Training loss: 0.0468, Training accuracy: 0.9858\n",
      "Test loss: 0.0484, Test accuracy: 0.9919\n",
      "Epoch 224/250\n"
     ]
    },
    {
     "name": "stderr",
     "output_type": "stream",
     "text": [
      "Training: 100%|██████████| 62/62 [00:00<00:00, 332.40it/s]\n",
      "Evaluating: 100%|██████████| 16/16 [00:00<00:00, 453.95it/s]\n"
     ]
    },
    {
     "name": "stdout",
     "output_type": "stream",
     "text": [
      "Training loss: 0.0462, Training accuracy: 0.9878\n",
      "Test loss: 0.0484, Test accuracy: 0.9919\n",
      "Epoch 225/250\n"
     ]
    },
    {
     "name": "stderr",
     "output_type": "stream",
     "text": [
      "Training: 100%|██████████| 62/62 [00:00<00:00, 335.00it/s]\n",
      "Evaluating: 100%|██████████| 16/16 [00:00<00:00, 480.34it/s]\n"
     ]
    },
    {
     "name": "stdout",
     "output_type": "stream",
     "text": [
      "Training loss: 0.0459, Training accuracy: 0.9837\n",
      "Test loss: 0.0469, Test accuracy: 0.9919\n",
      "Epoch 226/250\n"
     ]
    },
    {
     "name": "stderr",
     "output_type": "stream",
     "text": [
      "Training: 100%|██████████| 62/62 [00:00<00:00, 331.95it/s]\n",
      "Evaluating: 100%|██████████| 16/16 [00:00<00:00, 476.40it/s]\n"
     ]
    },
    {
     "name": "stdout",
     "output_type": "stream",
     "text": [
      "Training loss: 0.0444, Training accuracy: 0.9919\n",
      "Test loss: 0.0428, Test accuracy: 0.9919\n",
      "Epoch 227/250\n"
     ]
    },
    {
     "name": "stderr",
     "output_type": "stream",
     "text": [
      "Training: 100%|██████████| 62/62 [00:00<00:00, 328.17it/s]\n",
      "Evaluating: 100%|██████████| 16/16 [00:00<00:00, 476.10it/s]\n"
     ]
    },
    {
     "name": "stdout",
     "output_type": "stream",
     "text": [
      "Training loss: 0.0456, Training accuracy: 0.9837\n",
      "Test loss: 0.0459, Test accuracy: 0.9919\n",
      "Epoch 228/250\n"
     ]
    },
    {
     "name": "stderr",
     "output_type": "stream",
     "text": [
      "Training: 100%|██████████| 62/62 [00:00<00:00, 329.87it/s]\n",
      "Evaluating: 100%|██████████| 16/16 [00:00<00:00, 449.83it/s]\n"
     ]
    },
    {
     "name": "stdout",
     "output_type": "stream",
     "text": [
      "Training loss: 0.0467, Training accuracy: 0.9858\n",
      "Test loss: 0.0443, Test accuracy: 0.9919\n",
      "Epoch 229/250\n"
     ]
    },
    {
     "name": "stderr",
     "output_type": "stream",
     "text": [
      "Training: 100%|██████████| 62/62 [00:00<00:00, 325.22it/s]\n",
      "Evaluating: 100%|██████████| 16/16 [00:00<00:00, 453.29it/s]\n"
     ]
    },
    {
     "name": "stdout",
     "output_type": "stream",
     "text": [
      "Training loss: 0.0467, Training accuracy: 0.9878\n",
      "Test loss: 0.0424, Test accuracy: 0.9919\n",
      "Epoch 230/250\n"
     ]
    },
    {
     "name": "stderr",
     "output_type": "stream",
     "text": [
      "Training: 100%|██████████| 62/62 [00:00<00:00, 328.91it/s]\n",
      "Evaluating: 100%|██████████| 16/16 [00:00<00:00, 465.89it/s]\n"
     ]
    },
    {
     "name": "stdout",
     "output_type": "stream",
     "text": [
      "Training loss: 0.0449, Training accuracy: 0.9837\n",
      "Test loss: 0.0486, Test accuracy: 0.9919\n",
      "Epoch 231/250\n"
     ]
    },
    {
     "name": "stderr",
     "output_type": "stream",
     "text": [
      "Training: 100%|██████████| 62/62 [00:00<00:00, 331.26it/s]\n",
      "Evaluating: 100%|██████████| 16/16 [00:00<00:00, 469.22it/s]\n"
     ]
    },
    {
     "name": "stdout",
     "output_type": "stream",
     "text": [
      "Training loss: 0.0472, Training accuracy: 0.9858\n",
      "Test loss: 0.0462, Test accuracy: 0.9919\n",
      "Epoch 232/250\n"
     ]
    },
    {
     "name": "stderr",
     "output_type": "stream",
     "text": [
      "Training: 100%|██████████| 62/62 [00:00<00:00, 323.38it/s]\n",
      "Evaluating: 100%|██████████| 16/16 [00:00<00:00, 466.36it/s]\n"
     ]
    },
    {
     "name": "stdout",
     "output_type": "stream",
     "text": [
      "Training loss: 0.0453, Training accuracy: 0.9919\n",
      "Test loss: 0.0474, Test accuracy: 0.9919\n",
      "Epoch 233/250\n"
     ]
    },
    {
     "name": "stderr",
     "output_type": "stream",
     "text": [
      "Training: 100%|██████████| 62/62 [00:00<00:00, 296.86it/s]\n",
      "Evaluating: 100%|██████████| 16/16 [00:00<00:00, 441.50it/s]\n"
     ]
    },
    {
     "name": "stdout",
     "output_type": "stream",
     "text": [
      "Training loss: 0.0448, Training accuracy: 0.9898\n",
      "Test loss: 0.0412, Test accuracy: 0.9919\n",
      "Epoch 234/250\n"
     ]
    },
    {
     "name": "stderr",
     "output_type": "stream",
     "text": [
      "Training: 100%|██████████| 62/62 [00:00<00:00, 323.30it/s]\n",
      "Evaluating: 100%|██████████| 16/16 [00:00<00:00, 461.69it/s]\n"
     ]
    },
    {
     "name": "stdout",
     "output_type": "stream",
     "text": [
      "Training loss: 0.0444, Training accuracy: 0.9837\n",
      "Test loss: 0.0505, Test accuracy: 0.9919\n",
      "Epoch 235/250\n"
     ]
    },
    {
     "name": "stderr",
     "output_type": "stream",
     "text": [
      "Training: 100%|██████████| 62/62 [00:00<00:00, 323.16it/s]\n",
      "Evaluating: 100%|██████████| 16/16 [00:00<00:00, 478.29it/s]\n"
     ]
    },
    {
     "name": "stdout",
     "output_type": "stream",
     "text": [
      "Training loss: 0.0438, Training accuracy: 0.9939\n",
      "Test loss: 0.0400, Test accuracy: 0.9919\n",
      "Epoch 236/250\n"
     ]
    },
    {
     "name": "stderr",
     "output_type": "stream",
     "text": [
      "Training: 100%|██████████| 62/62 [00:00<00:00, 309.31it/s]\n",
      "Evaluating: 100%|██████████| 16/16 [00:00<00:00, 451.65it/s]\n"
     ]
    },
    {
     "name": "stdout",
     "output_type": "stream",
     "text": [
      "Training loss: 0.0450, Training accuracy: 0.9878\n",
      "Test loss: 0.0454, Test accuracy: 0.9919\n",
      "Epoch 237/250\n"
     ]
    },
    {
     "name": "stderr",
     "output_type": "stream",
     "text": [
      "Training: 100%|██████████| 62/62 [00:00<00:00, 321.56it/s]\n",
      "Evaluating: 100%|██████████| 16/16 [00:00<00:00, 439.68it/s]\n"
     ]
    },
    {
     "name": "stdout",
     "output_type": "stream",
     "text": [
      "Training loss: 0.0451, Training accuracy: 0.9898\n",
      "Test loss: 0.0398, Test accuracy: 0.9919\n",
      "Epoch 238/250\n"
     ]
    },
    {
     "name": "stderr",
     "output_type": "stream",
     "text": [
      "Training: 100%|██████████| 62/62 [00:00<00:00, 319.26it/s]\n",
      "Evaluating: 100%|██████████| 16/16 [00:00<00:00, 455.84it/s]\n"
     ]
    },
    {
     "name": "stdout",
     "output_type": "stream",
     "text": [
      "Training loss: 0.0452, Training accuracy: 0.9858\n",
      "Test loss: 0.0444, Test accuracy: 0.9919\n",
      "Epoch 239/250\n"
     ]
    },
    {
     "name": "stderr",
     "output_type": "stream",
     "text": [
      "Training: 100%|██████████| 62/62 [00:00<00:00, 320.47it/s]\n",
      "Evaluating: 100%|██████████| 16/16 [00:00<00:00, 453.99it/s]\n"
     ]
    },
    {
     "name": "stdout",
     "output_type": "stream",
     "text": [
      "Training loss: 0.0439, Training accuracy: 0.9858\n",
      "Test loss: 0.0508, Test accuracy: 0.9919\n",
      "Epoch 240/250\n"
     ]
    },
    {
     "name": "stderr",
     "output_type": "stream",
     "text": [
      "Training: 100%|██████████| 62/62 [00:00<00:00, 323.52it/s]\n",
      "Evaluating: 100%|██████████| 16/16 [00:00<00:00, 451.58it/s]\n"
     ]
    },
    {
     "name": "stdout",
     "output_type": "stream",
     "text": [
      "Training loss: 0.0438, Training accuracy: 0.9878\n",
      "Test loss: 0.0458, Test accuracy: 0.9919\n",
      "Epoch 241/250\n"
     ]
    },
    {
     "name": "stderr",
     "output_type": "stream",
     "text": [
      "Training: 100%|██████████| 62/62 [00:00<00:00, 320.76it/s]\n",
      "Evaluating: 100%|██████████| 16/16 [00:00<00:00, 465.66it/s]\n"
     ]
    },
    {
     "name": "stdout",
     "output_type": "stream",
     "text": [
      "Training loss: 0.0437, Training accuracy: 0.9858\n",
      "Test loss: 0.0499, Test accuracy: 0.9919\n",
      "Epoch 242/250\n"
     ]
    },
    {
     "name": "stderr",
     "output_type": "stream",
     "text": [
      "Training: 100%|██████████| 62/62 [00:00<00:00, 316.59it/s]\n",
      "Evaluating: 100%|██████████| 16/16 [00:00<00:00, 454.37it/s]\n"
     ]
    },
    {
     "name": "stdout",
     "output_type": "stream",
     "text": [
      "Training loss: 0.0450, Training accuracy: 0.9878\n",
      "Test loss: 0.0506, Test accuracy: 0.9919\n",
      "Epoch 243/250\n"
     ]
    },
    {
     "name": "stderr",
     "output_type": "stream",
     "text": [
      "Training: 100%|██████████| 62/62 [00:00<00:00, 272.76it/s]\n",
      "Evaluating: 100%|██████████| 16/16 [00:00<00:00, 202.00it/s]\n"
     ]
    },
    {
     "name": "stdout",
     "output_type": "stream",
     "text": [
      "Training loss: 0.0453, Training accuracy: 0.9878\n",
      "Test loss: 0.0443, Test accuracy: 0.9919\n",
      "Epoch 244/250\n"
     ]
    },
    {
     "name": "stderr",
     "output_type": "stream",
     "text": [
      "Training: 100%|██████████| 62/62 [00:00<00:00, 169.77it/s]\n",
      "Evaluating: 100%|██████████| 16/16 [00:00<00:00, 176.37it/s]\n"
     ]
    },
    {
     "name": "stdout",
     "output_type": "stream",
     "text": [
      "Training loss: 0.0437, Training accuracy: 0.9898\n",
      "Test loss: 0.0415, Test accuracy: 0.9919\n",
      "Epoch 245/250\n"
     ]
    },
    {
     "name": "stderr",
     "output_type": "stream",
     "text": [
      "Training: 100%|██████████| 62/62 [00:00<00:00, 167.51it/s]\n",
      "Evaluating: 100%|██████████| 16/16 [00:00<00:00, 217.16it/s]\n"
     ]
    },
    {
     "name": "stdout",
     "output_type": "stream",
     "text": [
      "Training loss: 0.0434, Training accuracy: 0.9837\n",
      "Test loss: 0.0525, Test accuracy: 0.9919\n",
      "Epoch 246/250\n"
     ]
    },
    {
     "name": "stderr",
     "output_type": "stream",
     "text": [
      "Training: 100%|██████████| 62/62 [00:00<00:00, 159.81it/s]\n",
      "Evaluating: 100%|██████████| 16/16 [00:00<00:00, 195.79it/s]\n"
     ]
    },
    {
     "name": "stdout",
     "output_type": "stream",
     "text": [
      "Training loss: 0.0452, Training accuracy: 0.9898\n",
      "Test loss: 0.0535, Test accuracy: 0.9837\n",
      "Epoch 247/250\n"
     ]
    },
    {
     "name": "stderr",
     "output_type": "stream",
     "text": [
      "Training: 100%|██████████| 62/62 [00:00<00:00, 164.63it/s]\n",
      "Evaluating: 100%|██████████| 16/16 [00:00<00:00, 208.77it/s]\n"
     ]
    },
    {
     "name": "stdout",
     "output_type": "stream",
     "text": [
      "Training loss: 0.0453, Training accuracy: 0.9898\n",
      "Test loss: 0.0495, Test accuracy: 0.9919\n",
      "Epoch 248/250\n"
     ]
    },
    {
     "name": "stderr",
     "output_type": "stream",
     "text": [
      "Training: 100%|██████████| 62/62 [00:00<00:00, 164.97it/s]\n",
      "Evaluating: 100%|██████████| 16/16 [00:00<00:00, 203.51it/s]\n"
     ]
    },
    {
     "name": "stdout",
     "output_type": "stream",
     "text": [
      "Training loss: 0.0433, Training accuracy: 0.9898\n",
      "Test loss: 0.0468, Test accuracy: 0.9919\n",
      "Epoch 249/250\n"
     ]
    },
    {
     "name": "stderr",
     "output_type": "stream",
     "text": [
      "Training: 100%|██████████| 62/62 [00:00<00:00, 163.37it/s]\n",
      "Evaluating: 100%|██████████| 16/16 [00:00<00:00, 204.88it/s]\n"
     ]
    },
    {
     "name": "stdout",
     "output_type": "stream",
     "text": [
      "Training loss: 0.0439, Training accuracy: 0.9837\n",
      "Test loss: 0.0538, Test accuracy: 0.9837\n",
      "Epoch 250/250\n"
     ]
    },
    {
     "name": "stderr",
     "output_type": "stream",
     "text": [
      "Training: 100%|██████████| 62/62 [00:00<00:00, 162.62it/s]\n",
      "Evaluating: 100%|██████████| 16/16 [00:00<00:00, 203.56it/s]"
     ]
    },
    {
     "name": "stdout",
     "output_type": "stream",
     "text": [
      "Training loss: 0.0449, Training accuracy: 0.9898\n",
      "Test loss: 0.0532, Test accuracy: 0.9919\n"
     ]
    },
    {
     "name": "stderr",
     "output_type": "stream",
     "text": [
      "\n"
     ]
    }
   ],
   "source": [
    "# After training\n",
    "results = train_logreg_simplified(\n",
    "    batch_size=8,\n",
    "    train_feats_data=train_feats,\n",
    "    test_feats_data=test_feats,\n",
    "    feature_dim=train_feats.tensors[0].shape[1],\n",
    "    num_classes=3,\n",
    "    lr=5e-4,\n",
    "    weight_decay=1e-4,\n",
    "    max_epochs=250\n",
    ")"
   ]
  },
  {
   "cell_type": "code",
   "execution_count": 13,
   "metadata": {},
   "outputs": [
    {
     "data": {
      "image/png": "[encoded data removed]",
      "text/plain": [
       "<Figure size 1500x500 with 2 Axes>"
      ]
     },
     "metadata": {},
     "output_type": "display_data"
    }
   ],
   "source": [
    "# Now you can plot the results in a new cell\n",
    "import matplotlib.pyplot as plt\n",
    "\n",
    "# Assuming `results` is the dictionary returned from the function\n",
    "train_losses = results['train_losses']\n",
    "test_losses = results['test_losses']\n",
    "train_accuracies = results['train_accuracies']\n",
    "test_accuracies = results['test_accuracies']\n",
    "\n",
    "plt.figure(figsize=(15, 5))\n",
    "\n",
    "# Loss curve\n",
    "plt.subplot(1, 2, 1)\n",
    "plt.plot(range(len(train_losses)), train_losses, label='Train Loss')\n",
    "plt.plot(range(len(test_losses)), test_losses, label='Test Loss')\n",
    "plt.xlabel('Epoch')\n",
    "plt.ylabel('Loss')\n",
    "plt.title('Loss Curve using original images')\n",
    "plt.legend()\n",
    "\n",
    "# Accuracy curve\n",
    "plt.subplot(1, 2, 2)\n",
    "plt.plot(range(len(train_accuracies)), train_accuracies, label='Train Accuracy')\n",
    "plt.plot(range(len(test_accuracies)), test_accuracies, label='Test Accuracy')\n",
    "plt.xlabel('Epoch')\n",
    "plt.ylabel('Accuracy')\n",
    "plt.title('Accuracy Curve using original images')\n",
    "plt.legend()\n",
    "\n",
    "plt.tight_layout()\n",
    "plt.show()\n"
   ]
  },
  {
   "cell_type": "code",
   "execution_count": 14,
   "metadata": {},
   "outputs": [],
   "source": [
    "# Best model based on test loss\n",
    "best_model_loss = results[\"best_model_loss\"]\n",
    "\n",
    "# Best model based on test accuracy\n",
    "best_model_acc = results[\"best_model_acc\"]"
   ]
  },
  {
   "cell_type": "code",
   "execution_count": 15,
   "metadata": {},
   "outputs": [],
   "source": [
    "\n",
    "# Path to the folder containing the new images\n",
    "new_images_folder = r\"C:\\Users\\k54739\\Bibi_new_thesis\\thesis\\classification\\ds_closeto_sd\"\n",
    "\n"
   ]
  },
  {
   "cell_type": "code",
   "execution_count": 16,
   "metadata": {},
   "outputs": [],
   "source": [
    "def preprocess_new_images(folder_path, label_idx, transform=None):\n",
    "    # Load the image paths and assign the same label to all\n",
    "    image_files = [os.path.join(folder_path, file) for file in os.listdir(folder_path) if file.endswith(('.tiff', '.tif'))]\n",
    "    labels = [label_idx] * len(image_files)\n",
    "    \n",
    "    # Create a dataset for the new images\n",
    "    dataset = LabeledImageDataset(image_files, labels, transform=transform)\n",
    "    return dataset"
   ]
  },
  {
   "cell_type": "code",
   "execution_count": 17,
   "metadata": {},
   "outputs": [],
   "source": [
    "\n",
    "# Prepare the new dataset and DataLoader\n",
    "infer_dataset = preprocess_new_images(new_images_folder, label_idx=1)  # `label_idx=1` corresponds to the 'sd' class\n"
   ]
  },
  {
   "cell_type": "code",
   "execution_count": 18,
   "metadata": {},
   "outputs": [],
   "source": [
    "infer_dataloader = DataLoader(infer_dataset, batch_size=8, shuffle=False, drop_last=False, pin_memory=True, num_workers=0)"
   ]
  },
  {
   "cell_type": "code",
   "execution_count": 19,
   "metadata": {},
   "outputs": [
    {
     "name": "stdout",
     "output_type": "stream",
     "text": [
      "torch.Size([8, 3, 96, 96]) torch.Size([8]) torch.float32\n",
      "tensor([1, 1, 1, 1, 1, 1, 1, 1])\n"
     ]
    }
   ],
   "source": [
    "for anchor,label in infer_dataloader:\n",
    "    print(anchor.shape, label.shape, anchor.dtype)\n",
    "    print(label)\n",
    "    break"
   ]
  },
  {
   "cell_type": "code",
   "execution_count": 20,
   "metadata": {},
   "outputs": [
    {
     "name": "stderr",
     "output_type": "stream",
     "text": [
      " 33%|███▎      | 1/3 [00:00<00:00,  3.28it/s]"
     ]
    },
    {
     "name": "stdout",
     "output_type": "stream",
     "text": [
      "Batch features shape: torch.Size([8, 27648])\n",
      "Batch labels shape: torch.Size([8])\n"
     ]
    },
    {
     "name": "stderr",
     "output_type": "stream",
     "text": [
      " 67%|██████▋   | 2/3 [00:00<00:00,  3.25it/s]"
     ]
    },
    {
     "name": "stdout",
     "output_type": "stream",
     "text": [
      "Batch features shape: torch.Size([8, 27648])\n",
      "Batch labels shape: torch.Size([8])\n"
     ]
    },
    {
     "name": "stderr",
     "output_type": "stream",
     "text": [
      "100%|██████████| 3/3 [00:00<00:00,  3.61it/s]"
     ]
    },
    {
     "name": "stdout",
     "output_type": "stream",
     "text": [
      "Batch features shape: torch.Size([6, 27648])\n",
      "Batch labels shape: torch.Size([6])\n",
      "Features shape after concatenation: torch.Size([22, 27648])\n",
      "Labels shape after concatenation: torch.Size([22])\n"
     ]
    },
    {
     "name": "stderr",
     "output_type": "stream",
     "text": [
      "\n"
     ]
    }
   ],
   "source": [
    "infer_feats = prepare_data_features(infer_dataloader)"
   ]
  },
  {
   "cell_type": "code",
   "execution_count": 21,
   "metadata": {},
   "outputs": [],
   "source": [
    "\n",
    "# Perform inference\n",
    "device = torch.device(\"cuda\" if torch.cuda.is_available() else \"cpu\")"
   ]
  },
  {
   "cell_type": "code",
   "execution_count": 22,
   "metadata": {},
   "outputs": [],
   "source": [
    "infer_log_loader = DataLoader(infer_feats, batch_size=batch_size, shuffle=False,\n",
    "                              drop_last=False, pin_memory=True, num_workers=0)"
   ]
  },
  {
   "cell_type": "code",
   "execution_count": 23,
   "metadata": {},
   "outputs": [],
   "source": [
    "def inference_on_new_images(model, dataloader, device):\n",
    "    model.eval()\n",
    "    all_preds = []\n",
    "    all_labels = []\n",
    "\n",
    "    with torch.no_grad():\n",
    "        for batch_imgs, batch_labels in tqdm(dataloader, desc=\"Inference\"):\n",
    "            batch_imgs = batch_imgs.to(device)\n",
    "            batch_labels = batch_labels.to(device)\n",
    "\n",
    "            # Get predictions\n",
    "            outputs = model(batch_imgs)\n",
    "            preds = outputs.argmax(dim=1)\n",
    "\n",
    "            # Store predictions and labels\n",
    "            all_preds.extend(preds.cpu().numpy())\n",
    "            all_labels.extend(batch_labels.cpu().numpy())\n",
    "    \n",
    "    return all_preds, all_labels"
   ]
  },
  {
   "cell_type": "code",
   "execution_count": 24,
   "metadata": {},
   "outputs": [
    {
     "name": "stderr",
     "output_type": "stream",
     "text": [
      "Inference: 100%|██████████| 2/2 [00:00<00:00, 110.39it/s]"
     ]
    },
    {
     "name": "stdout",
     "output_type": "stream",
     "text": [
      "Inference Accuracy: 0.6364\n",
      "Predictions: [0, 1, 1, 2, 1, 1, 1, 1, 2, 1, 1, 1, 1, 1, 2, 1, 1, 2, 1, 2, 2, 2]\n",
      "True Labels: [1, 1, 1, 1, 1, 1, 1, 1, 1, 1, 1, 1, 1, 1, 1, 1, 1, 1, 1, 1, 1, 1]\n"
     ]
    },
    {
     "name": "stderr",
     "output_type": "stream",
     "text": [
      "\n"
     ]
    }
   ],
   "source": [
    "\n",
    "new_preds, new_labels = inference_on_new_images(best_model_acc, infer_log_loader, device)\n",
    "\n",
    "# Calculate accuracy\n",
    "accuracy = accuracy_score(new_labels, new_preds)\n",
    "print(f\"Inference Accuracy: {accuracy:.4f}\")\n",
    "\n",
    "# Print predictions and true labels\n",
    "print(\"Predictions:\", new_preds)\n",
    "print(\"True Labels:\", new_labels)"
   ]
  },
  {
   "cell_type": "code",
   "execution_count": 25,
   "metadata": {},
   "outputs": [
    {
     "name": "stderr",
     "output_type": "stream",
     "text": [
      "Inference: 100%|██████████| 2/2 [00:00<00:00, 76.48it/s]"
     ]
    },
    {
     "name": "stdout",
     "output_type": "stream",
     "text": [
      "Inference Accuracy: 0.6818\n",
      "Predictions: [0, 1, 1, 2, 1, 1, 1, 1, 2, 1, 1, 1, 1, 1, 1, 1, 1, 2, 1, 2, 2, 2]\n",
      "True Labels: [1, 1, 1, 1, 1, 1, 1, 1, 1, 1, 1, 1, 1, 1, 1, 1, 1, 1, 1, 1, 1, 1]\n"
     ]
    },
    {
     "name": "stderr",
     "output_type": "stream",
     "text": [
      "\n"
     ]
    }
   ],
   "source": [
    "\n",
    "new_preds, new_labels = inference_on_new_images(best_model_loss, infer_log_loader, device)\n",
    "\n",
    "# Calculate accuracy\n",
    "accuracy = accuracy_score(new_labels, new_preds)\n",
    "print(f\"Inference Accuracy: {accuracy:.4f}\")\n",
    "\n",
    "# Print predictions and true labels\n",
    "print(\"Predictions:\", new_preds)\n",
    "print(\"True Labels:\", new_labels)"
   ]
  },
  {
   "cell_type": "code",
   "execution_count": null,
   "metadata": {},
   "outputs": [],
   "source": []
  },
  {
   "cell_type": "code",
   "execution_count": null,
   "metadata": {},
   "outputs": [],
   "source": []
  },
  {
   "cell_type": "code",
   "execution_count": null,
   "metadata": {},
   "outputs": [],
   "source": []
  },
  {
   "cell_type": "code",
   "execution_count": null,
   "metadata": {},
   "outputs": [],
   "source": [
    "print(f\"Best Train Accuracy: {results['best_train_acc']:.4f} at Epoch {results['best_train_epoch']}\")\n",
    "print(f\"Best Test Accuracy: {results['best_test_acc']:.4f} at Epoch {results['best_test_epoch']}\")"
   ]
  },
  {
   "cell_type": "code",
   "execution_count": null,
   "metadata": {},
   "outputs": [],
   "source": [
    "train_feats.tensors[0].shape[1]"
   ]
  },
  {
   "cell_type": "code",
   "execution_count": null,
   "metadata": {},
   "outputs": [],
   "source": [
    "results"
   ]
  },
  {
   "cell_type": "code",
   "execution_count": null,
   "metadata": {},
   "outputs": [],
   "source": []
  }
 ],
 "metadata": {
  "kernelspec": {
   "display_name": "master",
   "language": "python",
   "name": "python3"
  },
  "language_info": {
   "codemirror_mode": {
    "name": "ipython",
    "version": 3
   },
   "file_extension": ".py",
   "mimetype": "text/x-python",
   "name": "python",
   "nbconvert_exporter": "python",
   "pygments_lexer": "ipython3",
   "version": "3.12.4"
  }
 },
 "nbformat": 4,
 "nbformat_minor": 2
}
