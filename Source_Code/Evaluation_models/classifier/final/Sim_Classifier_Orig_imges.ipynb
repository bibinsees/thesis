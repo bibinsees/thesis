{
 "cells": [
  {
   "cell_type": "code",
   "execution_count": 1,
   "metadata": {},
   "outputs": [],
   "source": [
    "import os\n",
    "import numpy as np\n",
    "import torch\n",
    "from torch import nn, optim\n",
    "from torch.utils.data import Dataset, DataLoader, random_split\n",
    "from torchvision import transforms\n",
    "import torchvision\n",
    "import tifffile as tiff\n",
    "import matplotlib.pyplot as plt\n",
    "import time\n",
    "from tqdm import tqdm\n",
    "from copy import deepcopy\n",
    "from sklearn.model_selection import train_test_split\n",
    "from sklearn.metrics import accuracy_score\n",
    "import random"
   ]
  },
  {
   "cell_type": "code",
   "execution_count": 2,
   "metadata": {},
   "outputs": [],
   "source": [
    "# Set seed for reproducibility\n",
    "def set_seed(seed):\n",
    "    random.seed(seed)\n",
    "    np.random.seed(seed)\n",
    "    torch.manual_seed(seed)\n",
    "    if torch.cuda.is_available():\n",
    "        torch.cuda.manual_seed(seed)\n",
    "        torch.cuda.manual_seed_all(seed)\n",
    "    torch.backends.cudnn.deterministic = True\n",
    "    torch.backends.cudnn.benchmark = False\n",
    "\n",
    "# Set seed\n",
    "set_seed(42)"
   ]
  },
  {
   "cell_type": "code",
   "execution_count": 3,
   "metadata": {},
   "outputs": [],
   "source": [
    "# Set the device\n",
    "device = torch.device(\"cuda\" if torch.cuda.is_available() else \"cpu\")"
   ]
  },
  {
   "cell_type": "markdown",
   "metadata": {},
   "source": [
    "# Logistic"
   ]
  },
  {
   "cell_type": "code",
   "execution_count": 4,
   "metadata": {},
   "outputs": [],
   "source": [
    "class LabeledImageDataset(Dataset):\n",
    "    def __init__(self, image_files, labels, transform=None):\n",
    "        self.image_files = image_files\n",
    "        self.labels = labels\n",
    "        self.transform = transform\n",
    "        self.resize_transform = transforms.Resize((96, 96))\n",
    "\n",
    "    def __len__(self):\n",
    "        return len(self.image_files)\n",
    "\n",
    "    def __getitem__(self, idx):\n",
    "        img_path = self.image_files[idx]\n",
    "        image = tiff.imread(img_path)\n",
    "\n",
    "        # Ensure the image has 3 layers (channels)\n",
    "        if image.shape[0] != 3:\n",
    "            raise ValueError(f\"Image {img_path} does not have exactly 3 layers.\")\n",
    "\n",
    "        # Normalize the 16-bit image to [0, 1]\n",
    "        image = image.astype(np.float32) / 65535.0\n",
    "\n",
    "        # Convert to a torch tensor and add channel dimension\n",
    "        image = torch.tensor(image, dtype=torch.float32)\n",
    "        \n",
    "        # Apply resize transform\n",
    "        image = self.resize_transform(image)\n",
    "\n",
    "        label = self.labels[idx]\n",
    "\n",
    "        return image, label\n",
    "\n",
    "def load_and_split_data(root_dir, test_size=0.0):\n",
    "    #classes = ['untreated', 'single_dose', 'drug_screened']\n",
    "    classes = ['cond7_all', 'sd','ex']\n",
    "    image_files = []\n",
    "    labels = []\n",
    "\n",
    "    for idx, class_name in enumerate(classes):\n",
    "        class_dir = os.path.join(root_dir, class_name)\n",
    "        files = [os.path.join(class_dir, file) for file in os.listdir(class_dir) if file.endswith(('.tiff', '.tif'))]\n",
    "        image_files.extend(files)\n",
    "        labels.extend([idx] * len(files))\n",
    "    \n",
    "    # Check if the labels correctly reflect the classes\n",
    "    #print(\"Label distribution:\", {classes[i]: labels.count(i) for i in range(len(classes))})\n",
    "    \n",
    "    # Split data into training and test sets\n",
    "    train_files, test_files, train_labels, test_labels = train_test_split(\n",
    "        image_files, labels, test_size=test_size, stratify=labels, random_state=42)\n",
    "\n",
    "    return train_files, test_files, train_labels, test_labels\n",
    "\n",
    "\n",
    "# Directories for labeled data\n",
    "image_dir = r\"G:\\classification\\cond_all\"\n",
    "\n",
    "# Load and split the data\n",
    "train_files, test_files, train_labels, test_labels = load_and_split_data(image_dir, test_size=0.2)\n",
    "\n",
    "# Create the labeled datasets\n",
    "train_labeled_dataset = LabeledImageDataset(train_files, train_labels)\n",
    "test_labeled_dataset = LabeledImageDataset(test_files, test_labels)\n",
    "\n",
    "# Define DataLoaders\n",
    "batch_size = 16\n",
    "train_loader_labeled = DataLoader(train_labeled_dataset, batch_size=batch_size, shuffle=True, drop_last=False, pin_memory=True, num_workers=0)\n",
    "test_loader_labeled = DataLoader(test_labeled_dataset, batch_size=batch_size, shuffle=False, drop_last=False, pin_memory=True, num_workers=0)"
   ]
  },
  {
   "cell_type": "markdown",
   "metadata": {},
   "source": [
    "class LabeledImageDataset(Dataset):\n",
    "    def __init__(self, image_files, labels, transform=None):\n",
    "        self.image_files = image_files\n",
    "        self.labels = labels\n",
    "        self.transform = transform\n",
    "        self.resize_transform = transforms.Resize((96, 96))\n",
    "\n",
    "    def __len__(self):\n",
    "        return len(self.image_files)\n",
    "\n",
    "    def __getitem__(self, idx):\n",
    "        img_path = self.image_files[idx]\n",
    "        image = tiff.imread(img_path)\n",
    "\n",
    "        # Ensure the image has 3 layers (channels)\n",
    "        if image.shape[0] != 3:\n",
    "            raise ValueError(f\"Image {img_path} does not have exactly 3 layers.\")\n",
    "\n",
    "        # Normalize the 16-bit image to [0, 1]\n",
    "        image = image.astype(np.float32) / 65535.0\n",
    "\n",
    "        # Convert to a torch tensor and add channel dimension\n",
    "        image = torch.tensor(image, dtype=torch.float32)\n",
    "        \n",
    "        # Apply resize transform\n",
    "        image = self.resize_transform(image)\n",
    "\n",
    "        label = self.labels[idx]\n",
    "\n",
    "        return image, label\n",
    "\n",
    "def load_and_split_data(root_dir, test_size=0.2):\n",
    "    #classes = ['untreated', 'single_dose', 'drug_screened']\n",
    "    classes = ['ex', 'sd', 'cond7_all']\n",
    "    image_files = []\n",
    "    labels = []\n",
    "\n",
    "    for idx, class_name in enumerate(classes):\n",
    "        class_dir = os.path.join(root_dir, class_name)\n",
    "        files = [os.path.join(class_dir, file) for file in os.listdir(class_dir) if file.endswith(('.tiff', '.tif'))]\n",
    "        image_files.extend(files)\n",
    "        labels.extend([idx] * len(files))\n",
    "    \n",
    "    # Check if the labels correctly reflect the classes\n",
    "    #print(\"Label distribution:\", {classes[i]: labels.count(i) for i in range(len(classes))})\n",
    "    \n",
    "    # Split data into training and test sets\n",
    "    train_files, test_files, train_labels, test_labels = train_test_split(\n",
    "        image_files, labels, test_size=test_size, stratify=labels, random_state=42)\n",
    "\n",
    "    return train_files, test_files, train_labels, test_labels\n",
    "\n",
    "\n",
    "# Directories for labeled data\n",
    "image_dir = r\"C:\\Users\\k54739\\Bibi_new_thesis\\thesis\\classification\"\n",
    "\n",
    "# Load and split the data\n",
    "train_files, test_files, train_labels, test_labels = load_and_split_data(image_dir, test_size=0.2)\n",
    "\n",
    "# Create the labeled datasets\n",
    "train_labeled_dataset = LabeledImageDataset(train_files, train_labels)\n",
    "test_labeled_dataset = LabeledImageDataset(test_files, test_labels)\n",
    "\n",
    "# Define DataLoaders\n",
    "batch_size = 16\n",
    "train_loader_labeled = DataLoader(train_labeled_dataset, batch_size=batch_size, shuffle=True, drop_last=False, pin_memory=True, num_workers=0)\n",
    "test_loader_labeled = DataLoader(test_labeled_dataset, batch_size=batch_size, shuffle=False, drop_last=False, pin_memory=True, num_workers=0)"
   ]
  },
  {
   "cell_type": "code",
   "execution_count": 5,
   "metadata": {},
   "outputs": [
    {
     "name": "stdout",
     "output_type": "stream",
     "text": [
      "torch.Size([16, 3, 96, 96]) torch.Size([16]) torch.float32\n",
      "tensor([1, 0, 0, 0, 0, 0, 0, 0, 0, 0, 0, 0, 0, 0, 0, 1])\n"
     ]
    }
   ],
   "source": [
    "for anchor,label in train_loader_labeled:\n",
    "    print(anchor.shape, label.shape, anchor.dtype)\n",
    "    print(label)\n",
    "    break"
   ]
  },
  {
   "cell_type": "markdown",
   "metadata": {},
   "source": [
    "all_labels = []\n",
    "\n",
    "for _, labels in train_loader_labeled:\n",
    "    print(labels)  # Print the labels for each batch\n",
    "    all_labels.extend(labels.tolist())  # Collect all labels in a list\n",
    "\n",
    "# If you want to print all labels as a single list after the loop\n",
    "print(\"All Labels:\", all_labels)\n"
   ]
  },
  {
   "cell_type": "markdown",
   "metadata": {},
   "source": [
    "unique_labels = set()\n",
    "\n",
    "for _, labels in train_loader_labeled:\n",
    "    unique_labels.update(labels.tolist())  # Add labels to the set\n",
    "\n",
    "print(\"Total unique labels:\", len(unique_labels))\n",
    "print(\"Unique labels:\", unique_labels)\n"
   ]
  },
  {
   "cell_type": "markdown",
   "metadata": {},
   "source": [
    "from collections import Counter\n",
    "\n",
    "label_counter = Counter()\n",
    "\n",
    "# Iterate through training data to count labels\n",
    "for _, labels in train_loader_labeled:\n",
    "    label_counter.update(labels.tolist())  # Update the counter with current batch labels\n",
    "\n",
    "# Iterate through test data to count labels\n",
    "for _, labels in test_loader_labeled:  # Assuming test_loader_labeled exists\n",
    "    label_counter.update(labels.tolist())  # Update the counter with current batch labels\n",
    "\n",
    "# Print counts for each label\n",
    "for label, count in label_counter.items():\n",
    "    print(f\"Label {label}: {count} occurrences\")\n",
    "\n",
    "# Optionally print the total counts\n",
    "print(\"Total counts (Training + Test):\", label_counter)\n"
   ]
  },
  {
   "cell_type": "code",
   "execution_count": 6,
   "metadata": {},
   "outputs": [],
   "source": [
    "def prepare_data_features(dataloader):\n",
    "    feats, labels = [], []\n",
    "    \n",
    "    for batch_imgs, batch_labels in tqdm(dataloader):\n",
    "        batch_imgs = batch_imgs.to(device)\n",
    "        \n",
    "        # Flatten the images from (N, C, H, W) to (N, C*H*W)\n",
    "        batch_feats = batch_imgs.view(batch_imgs.size(0), -1)  # Flatten the images\n",
    "        print(f\"Batch features shape: {batch_feats.shape}\")  # Check the feature shape\n",
    "        print(f\"Batch labels shape: {batch_labels.shape}\")\n",
    "        \n",
    "        feats.append(batch_feats.detach().cpu())\n",
    "        labels.append(batch_labels)\n",
    "\n",
    "    feats = torch.cat(feats, dim=0)\n",
    "    labels = torch.cat(labels, dim=0)\n",
    "    \n",
    "    print(f\"Features shape after concatenation: {feats.shape}\")\n",
    "    print(f\"Labels shape after concatenation: {labels.shape}\")\n",
    "\n",
    "    return torch.utils.data.TensorDataset(feats, labels)\n"
   ]
  },
  {
   "cell_type": "code",
   "execution_count": 7,
   "metadata": {},
   "outputs": [
    {
     "name": "stderr",
     "output_type": "stream",
     "text": [
      "  3%|▎         | 1/31 [00:00<00:17,  1.70it/s]"
     ]
    },
    {
     "name": "stdout",
     "output_type": "stream",
     "text": [
      "Batch features shape: torch.Size([16, 27648])\n",
      "Batch labels shape: torch.Size([16])\n"
     ]
    },
    {
     "name": "stderr",
     "output_type": "stream",
     "text": [
      "  6%|▋         | 2/31 [00:01<00:18,  1.59it/s]"
     ]
    },
    {
     "name": "stdout",
     "output_type": "stream",
     "text": [
      "Batch features shape: torch.Size([16, 27648])\n",
      "Batch labels shape: torch.Size([16])\n"
     ]
    },
    {
     "name": "stderr",
     "output_type": "stream",
     "text": [
      " 10%|▉         | 3/31 [00:01<00:17,  1.62it/s]"
     ]
    },
    {
     "name": "stdout",
     "output_type": "stream",
     "text": [
      "Batch features shape: torch.Size([16, 27648])\n",
      "Batch labels shape: torch.Size([16])\n"
     ]
    },
    {
     "name": "stderr",
     "output_type": "stream",
     "text": [
      " 13%|█▎        | 4/31 [00:02<00:16,  1.61it/s]"
     ]
    },
    {
     "name": "stdout",
     "output_type": "stream",
     "text": [
      "Batch features shape: torch.Size([16, 27648])\n",
      "Batch labels shape: torch.Size([16])\n"
     ]
    },
    {
     "name": "stderr",
     "output_type": "stream",
     "text": [
      " 16%|█▌        | 5/31 [00:03<00:16,  1.57it/s]"
     ]
    },
    {
     "name": "stdout",
     "output_type": "stream",
     "text": [
      "Batch features shape: torch.Size([16, 27648])\n",
      "Batch labels shape: torch.Size([16])\n"
     ]
    },
    {
     "name": "stderr",
     "output_type": "stream",
     "text": [
      " 19%|█▉        | 6/31 [00:03<00:15,  1.61it/s]"
     ]
    },
    {
     "name": "stdout",
     "output_type": "stream",
     "text": [
      "Batch features shape: torch.Size([16, 27648])\n",
      "Batch labels shape: torch.Size([16])\n"
     ]
    },
    {
     "name": "stderr",
     "output_type": "stream",
     "text": [
      " 23%|██▎       | 7/31 [00:04<00:15,  1.59it/s]"
     ]
    },
    {
     "name": "stdout",
     "output_type": "stream",
     "text": [
      "Batch features shape: torch.Size([16, 27648])\n",
      "Batch labels shape: torch.Size([16])\n"
     ]
    },
    {
     "name": "stderr",
     "output_type": "stream",
     "text": [
      " 26%|██▌       | 8/31 [00:04<00:14,  1.60it/s]"
     ]
    },
    {
     "name": "stdout",
     "output_type": "stream",
     "text": [
      "Batch features shape: torch.Size([16, 27648])\n",
      "Batch labels shape: torch.Size([16])\n"
     ]
    },
    {
     "name": "stderr",
     "output_type": "stream",
     "text": [
      " 29%|██▉       | 9/31 [00:05<00:13,  1.61it/s]"
     ]
    },
    {
     "name": "stdout",
     "output_type": "stream",
     "text": [
      "Batch features shape: torch.Size([16, 27648])\n",
      "Batch labels shape: torch.Size([16])\n"
     ]
    },
    {
     "name": "stderr",
     "output_type": "stream",
     "text": [
      " 32%|███▏      | 10/31 [00:06<00:13,  1.60it/s]"
     ]
    },
    {
     "name": "stdout",
     "output_type": "stream",
     "text": [
      "Batch features shape: torch.Size([16, 27648])\n",
      "Batch labels shape: torch.Size([16])\n"
     ]
    },
    {
     "name": "stderr",
     "output_type": "stream",
     "text": [
      " 35%|███▌      | 11/31 [00:06<00:12,  1.62it/s]"
     ]
    },
    {
     "name": "stdout",
     "output_type": "stream",
     "text": [
      "Batch features shape: torch.Size([16, 27648])\n",
      "Batch labels shape: torch.Size([16])\n"
     ]
    },
    {
     "name": "stderr",
     "output_type": "stream",
     "text": [
      " 39%|███▊      | 12/31 [00:07<00:11,  1.61it/s]"
     ]
    },
    {
     "name": "stdout",
     "output_type": "stream",
     "text": [
      "Batch features shape: torch.Size([16, 27648])\n",
      "Batch labels shape: torch.Size([16])\n"
     ]
    },
    {
     "name": "stderr",
     "output_type": "stream",
     "text": [
      " 42%|████▏     | 13/31 [00:08<00:11,  1.59it/s]"
     ]
    },
    {
     "name": "stdout",
     "output_type": "stream",
     "text": [
      "Batch features shape: torch.Size([16, 27648])\n",
      "Batch labels shape: torch.Size([16])\n"
     ]
    },
    {
     "name": "stderr",
     "output_type": "stream",
     "text": [
      " 45%|████▌     | 14/31 [00:08<00:10,  1.62it/s]"
     ]
    },
    {
     "name": "stdout",
     "output_type": "stream",
     "text": [
      "Batch features shape: torch.Size([16, 27648])\n",
      "Batch labels shape: torch.Size([16])\n"
     ]
    },
    {
     "name": "stderr",
     "output_type": "stream",
     "text": [
      " 48%|████▊     | 15/31 [00:09<00:09,  1.61it/s]"
     ]
    },
    {
     "name": "stdout",
     "output_type": "stream",
     "text": [
      "Batch features shape: torch.Size([16, 27648])\n",
      "Batch labels shape: torch.Size([16])\n"
     ]
    },
    {
     "name": "stderr",
     "output_type": "stream",
     "text": [
      " 52%|█████▏    | 16/31 [00:09<00:09,  1.60it/s]"
     ]
    },
    {
     "name": "stdout",
     "output_type": "stream",
     "text": [
      "Batch features shape: torch.Size([16, 27648])\n",
      "Batch labels shape: torch.Size([16])\n"
     ]
    },
    {
     "name": "stderr",
     "output_type": "stream",
     "text": [
      " 55%|█████▍    | 17/31 [00:10<00:08,  1.59it/s]"
     ]
    },
    {
     "name": "stdout",
     "output_type": "stream",
     "text": [
      "Batch features shape: torch.Size([16, 27648])\n",
      "Batch labels shape: torch.Size([16])\n"
     ]
    },
    {
     "name": "stderr",
     "output_type": "stream",
     "text": [
      " 58%|█████▊    | 18/31 [00:11<00:08,  1.58it/s]"
     ]
    },
    {
     "name": "stdout",
     "output_type": "stream",
     "text": [
      "Batch features shape: torch.Size([16, 27648])\n",
      "Batch labels shape: torch.Size([16])\n"
     ]
    },
    {
     "name": "stderr",
     "output_type": "stream",
     "text": [
      " 61%|██████▏   | 19/31 [00:11<00:07,  1.61it/s]"
     ]
    },
    {
     "name": "stdout",
     "output_type": "stream",
     "text": [
      "Batch features shape: torch.Size([16, 27648])\n",
      "Batch labels shape: torch.Size([16])\n"
     ]
    },
    {
     "name": "stderr",
     "output_type": "stream",
     "text": [
      " 65%|██████▍   | 20/31 [00:12<00:06,  1.58it/s]"
     ]
    },
    {
     "name": "stdout",
     "output_type": "stream",
     "text": [
      "Batch features shape: torch.Size([16, 27648])\n",
      "Batch labels shape: torch.Size([16])\n"
     ]
    },
    {
     "name": "stderr",
     "output_type": "stream",
     "text": [
      " 68%|██████▊   | 21/31 [00:13<00:06,  1.58it/s]"
     ]
    },
    {
     "name": "stdout",
     "output_type": "stream",
     "text": [
      "Batch features shape: torch.Size([16, 27648])\n",
      "Batch labels shape: torch.Size([16])\n"
     ]
    },
    {
     "name": "stderr",
     "output_type": "stream",
     "text": [
      " 71%|███████   | 22/31 [00:13<00:05,  1.59it/s]"
     ]
    },
    {
     "name": "stdout",
     "output_type": "stream",
     "text": [
      "Batch features shape: torch.Size([16, 27648])\n",
      "Batch labels shape: torch.Size([16])\n"
     ]
    },
    {
     "name": "stderr",
     "output_type": "stream",
     "text": [
      " 74%|███████▍  | 23/31 [00:14<00:05,  1.59it/s]"
     ]
    },
    {
     "name": "stdout",
     "output_type": "stream",
     "text": [
      "Batch features shape: torch.Size([16, 27648])\n",
      "Batch labels shape: torch.Size([16])\n"
     ]
    },
    {
     "name": "stderr",
     "output_type": "stream",
     "text": [
      " 77%|███████▋  | 24/31 [00:14<00:04,  1.60it/s]"
     ]
    },
    {
     "name": "stdout",
     "output_type": "stream",
     "text": [
      "Batch features shape: torch.Size([16, 27648])\n",
      "Batch labels shape: torch.Size([16])\n"
     ]
    },
    {
     "name": "stderr",
     "output_type": "stream",
     "text": [
      " 81%|████████  | 25/31 [00:15<00:03,  1.61it/s]"
     ]
    },
    {
     "name": "stdout",
     "output_type": "stream",
     "text": [
      "Batch features shape: torch.Size([16, 27648])\n",
      "Batch labels shape: torch.Size([16])\n"
     ]
    },
    {
     "name": "stderr",
     "output_type": "stream",
     "text": [
      " 84%|████████▍ | 26/31 [00:16<00:03,  1.59it/s]"
     ]
    },
    {
     "name": "stdout",
     "output_type": "stream",
     "text": [
      "Batch features shape: torch.Size([16, 27648])\n",
      "Batch labels shape: torch.Size([16])\n"
     ]
    },
    {
     "name": "stderr",
     "output_type": "stream",
     "text": [
      " 87%|████████▋ | 27/31 [00:16<00:02,  1.62it/s]"
     ]
    },
    {
     "name": "stdout",
     "output_type": "stream",
     "text": [
      "Batch features shape: torch.Size([16, 27648])\n",
      "Batch labels shape: torch.Size([16])\n"
     ]
    },
    {
     "name": "stderr",
     "output_type": "stream",
     "text": [
      " 90%|█████████ | 28/31 [00:17<00:01,  1.60it/s]"
     ]
    },
    {
     "name": "stdout",
     "output_type": "stream",
     "text": [
      "Batch features shape: torch.Size([16, 27648])\n",
      "Batch labels shape: torch.Size([16])\n"
     ]
    },
    {
     "name": "stderr",
     "output_type": "stream",
     "text": [
      " 94%|█████████▎| 29/31 [00:18<00:01,  1.58it/s]"
     ]
    },
    {
     "name": "stdout",
     "output_type": "stream",
     "text": [
      "Batch features shape: torch.Size([16, 27648])\n",
      "Batch labels shape: torch.Size([16])\n"
     ]
    },
    {
     "name": "stderr",
     "output_type": "stream",
     "text": [
      " 97%|█████████▋| 30/31 [00:18<00:00,  1.61it/s]"
     ]
    },
    {
     "name": "stdout",
     "output_type": "stream",
     "text": [
      "Batch features shape: torch.Size([16, 27648])\n",
      "Batch labels shape: torch.Size([16])\n"
     ]
    },
    {
     "name": "stderr",
     "output_type": "stream",
     "text": [
      "100%|██████████| 31/31 [00:19<00:00,  1.61it/s]\n"
     ]
    },
    {
     "name": "stdout",
     "output_type": "stream",
     "text": [
      "Batch features shape: torch.Size([12, 27648])\n",
      "Batch labels shape: torch.Size([12])\n",
      "Features shape after concatenation: torch.Size([492, 27648])\n",
      "Labels shape after concatenation: torch.Size([492])\n"
     ]
    },
    {
     "name": "stderr",
     "output_type": "stream",
     "text": [
      " 12%|█▎        | 1/8 [00:00<00:04,  1.66it/s]"
     ]
    },
    {
     "name": "stdout",
     "output_type": "stream",
     "text": [
      "Batch features shape: torch.Size([16, 27648])\n",
      "Batch labels shape: torch.Size([16])\n"
     ]
    },
    {
     "name": "stderr",
     "output_type": "stream",
     "text": [
      " 25%|██▌       | 2/8 [00:01<00:03,  1.62it/s]"
     ]
    },
    {
     "name": "stdout",
     "output_type": "stream",
     "text": [
      "Batch features shape: torch.Size([16, 27648])\n",
      "Batch labels shape: torch.Size([16])\n"
     ]
    },
    {
     "name": "stderr",
     "output_type": "stream",
     "text": [
      " 38%|███▊      | 3/8 [00:01<00:03,  1.58it/s]"
     ]
    },
    {
     "name": "stdout",
     "output_type": "stream",
     "text": [
      "Batch features shape: torch.Size([16, 27648])\n",
      "Batch labels shape: torch.Size([16])\n"
     ]
    },
    {
     "name": "stderr",
     "output_type": "stream",
     "text": [
      " 50%|█████     | 4/8 [00:02<00:02,  1.62it/s]"
     ]
    },
    {
     "name": "stdout",
     "output_type": "stream",
     "text": [
      "Batch features shape: torch.Size([16, 27648])\n",
      "Batch labels shape: torch.Size([16])\n"
     ]
    },
    {
     "name": "stderr",
     "output_type": "stream",
     "text": [
      " 62%|██████▎   | 5/8 [00:03<00:01,  1.60it/s]"
     ]
    },
    {
     "name": "stdout",
     "output_type": "stream",
     "text": [
      "Batch features shape: torch.Size([16, 27648])\n",
      "Batch labels shape: torch.Size([16])\n"
     ]
    },
    {
     "name": "stderr",
     "output_type": "stream",
     "text": [
      " 75%|███████▌  | 6/8 [00:03<00:01,  1.62it/s]"
     ]
    },
    {
     "name": "stdout",
     "output_type": "stream",
     "text": [
      "Batch features shape: torch.Size([16, 27648])\n",
      "Batch labels shape: torch.Size([16])\n"
     ]
    },
    {
     "name": "stderr",
     "output_type": "stream",
     "text": [
      " 88%|████████▊ | 7/8 [00:04<00:00,  1.60it/s]"
     ]
    },
    {
     "name": "stdout",
     "output_type": "stream",
     "text": [
      "Batch features shape: torch.Size([16, 27648])\n",
      "Batch labels shape: torch.Size([16])\n"
     ]
    },
    {
     "name": "stderr",
     "output_type": "stream",
     "text": [
      "100%|██████████| 8/8 [00:04<00:00,  1.67it/s]"
     ]
    },
    {
     "name": "stdout",
     "output_type": "stream",
     "text": [
      "Batch features shape: torch.Size([11, 27648])\n",
      "Batch labels shape: torch.Size([11])\n",
      "Features shape after concatenation: torch.Size([123, 27648])\n",
      "Labels shape after concatenation: torch.Size([123])\n"
     ]
    },
    {
     "name": "stderr",
     "output_type": "stream",
     "text": [
      "\n"
     ]
    }
   ],
   "source": [
    "# Extract features for train and test datasets\n",
    "train_feats = prepare_data_features(train_loader_labeled)\n",
    "test_feats = prepare_data_features(test_loader_labeled)"
   ]
  },
  {
   "cell_type": "code",
   "execution_count": 8,
   "metadata": {},
   "outputs": [],
   "source": [
    "# Logistic Regression model definition\n",
    "class LogisticRegression(nn.Module):\n",
    "    def __init__(self, feature_dim, num_classes):\n",
    "        super(LogisticRegression, self).__init__()\n",
    "        self.linear = nn.Linear(feature_dim, num_classes)\n",
    "\n",
    "    def forward(self, x):\n",
    "        return self.linear(x)"
   ]
  },
  {
   "cell_type": "code",
   "execution_count": 9,
   "metadata": {},
   "outputs": [],
   "source": [
    "# Training function\n",
    "def train_logistic_regression(model, train_loader, optimizer, scheduler, device):\n",
    "    model.train()\n",
    "    total_loss = 0.0\n",
    "    all_preds = []\n",
    "    all_labels = []\n",
    "\n",
    "    for batch_feats, batch_labels in tqdm(train_loader, desc=\"Training\"):\n",
    "        batch_feats, batch_labels = batch_feats.to(device), batch_labels.to(device)\n",
    "        \n",
    "        optimizer.zero_grad()\n",
    "        outputs = model(batch_feats)\n",
    "        loss = nn.functional.cross_entropy(outputs, batch_labels)\n",
    "        loss.backward()\n",
    "        optimizer.step()\n",
    "        \n",
    "        # Update learning rate scheduler\n",
    "        scheduler.step()\n",
    "\n",
    "        total_loss += loss.item()\n",
    "\n",
    "        preds = outputs.argmax(dim=1)\n",
    "        all_preds.extend(preds.cpu().numpy())\n",
    "        all_labels.extend(batch_labels.cpu().numpy())\n",
    "\n",
    "    avg_loss = total_loss / len(train_loader)\n",
    "    accuracy = accuracy_score(all_labels, all_preds)\n",
    "    return avg_loss, accuracy"
   ]
  },
  {
   "cell_type": "code",
   "execution_count": 10,
   "metadata": {},
   "outputs": [],
   "source": [
    "# Evaluation function\n",
    "def evaluate_logistic_regression(model, test_loader, criterion, device):\n",
    "    model.eval()\n",
    "    total_loss = 0.0\n",
    "    all_preds = []\n",
    "    all_labels = []\n",
    "\n",
    "    with torch.no_grad():\n",
    "        for batch_feats, batch_labels in tqdm(test_loader, desc=\"Evaluating\"):\n",
    "            batch_feats, batch_labels = batch_feats.to(device), batch_labels.to(device)\n",
    "            \n",
    "            outputs = model(batch_feats)\n",
    "            loss = nn.functional.cross_entropy(outputs, batch_labels)\n",
    "            total_loss += loss.item()\n",
    "\n",
    "            preds = outputs.argmax(dim=1)\n",
    "            all_preds.extend(preds.cpu().numpy())\n",
    "            all_labels.extend(batch_labels.cpu().numpy())\n",
    "\n",
    "    avg_loss = total_loss / len(test_loader)\n",
    "    accuracy = accuracy_score(all_labels, all_preds)\n",
    "    return avg_loss, accuracy"
   ]
  },
  {
   "cell_type": "code",
   "execution_count": 11,
   "metadata": {},
   "outputs": [],
   "source": [
    "from sklearn.model_selection import KFold\n",
    "from torch.utils.data import Subset\n",
    "\n",
    "def train_logreg_with_cv(\n",
    "    dataset, feature_dim, num_classes, batch_size, k_folds=5, lr=5e-4, weight_decay=1e-4, max_epochs=50\n",
    "):\n",
    "    device = torch.device(\"cuda\" if torch.cuda.is_available() else \"cpu\")\n",
    "    kfold = KFold(n_splits=k_folds, shuffle=True, random_state=42)\n",
    "\n",
    "    # To store metrics for all folds\n",
    "    fold_metrics = {\n",
    "        \"train_losses\": [],\n",
    "        \"val_losses\": [],\n",
    "        \"train_accuracies\": [],\n",
    "        \"val_accuracies\": [],\n",
    "    }\n",
    "\n",
    "    for fold, (train_indices, val_indices) in enumerate(kfold.split(dataset)):\n",
    "        print(f\"Fold {fold + 1}/{k_folds}\")\n",
    "\n",
    "        # Create data loaders for the current fold\n",
    "        train_subset = Subset(dataset, train_indices)\n",
    "        val_subset = Subset(dataset, val_indices)\n",
    "        train_loader = DataLoader(train_subset, batch_size=batch_size, shuffle=True, drop_last=False)\n",
    "        val_loader = DataLoader(val_subset, batch_size=batch_size, shuffle=False, drop_last=False)\n",
    "\n",
    "        # Model, optimizer, scheduler\n",
    "        model = LogisticRegression(feature_dim, num_classes).to(device)\n",
    "        criterion = nn.CrossEntropyLoss()\n",
    "        optimizer = optim.AdamW(model.parameters(), lr=lr, weight_decay=weight_decay)\n",
    "        scheduler = optim.lr_scheduler.MultiStepLR(optimizer,\n",
    "                                                   milestones=[int(max_epochs * 0.6), int(max_epochs * 0.8)],\n",
    "                                                   gamma=0.1)\n",
    "\n",
    "        # Training loop for the current fold\n",
    "        for epoch in range(max_epochs):\n",
    "            train_loss, train_acc = train_logistic_regression(model, train_loader, optimizer, scheduler, device)\n",
    "            val_loss, val_acc = evaluate_logistic_regression(model, val_loader, criterion, device)\n",
    "\n",
    "            # Store metrics for this fold\n",
    "            fold_metrics[\"train_losses\"].append(train_loss)\n",
    "            fold_metrics[\"val_losses\"].append(val_loss)\n",
    "            fold_metrics[\"train_accuracies\"].append(train_acc)\n",
    "            fold_metrics[\"val_accuracies\"].append(val_acc)\n",
    "\n",
    "            if epoch % 10 == 0 or epoch == max_epochs - 1:  # Print every 10 epochs\n",
    "                print(f\"Epoch {epoch + 1}/{max_epochs}\")\n",
    "                print(f\"Training Loss: {train_loss:.4f}, Training Accuracy: {train_acc:.4f}\")\n",
    "                print(f\"Validation Loss: {val_loss:.4f}, Validation Accuracy: {val_acc:.4f}\")\n",
    "\n",
    "    # Calculate average metrics across folds\n",
    "    avg_metrics = {\n",
    "        \"avg_train_loss\": sum(fold_metrics[\"train_losses\"]) / len(fold_metrics[\"train_losses\"]),\n",
    "        \"avg_val_loss\": sum(fold_metrics[\"val_losses\"]) / len(fold_metrics[\"val_losses\"]),\n",
    "        \"avg_train_accuracy\": sum(fold_metrics[\"train_accuracies\"]) / len(fold_metrics[\"train_accuracies\"]),\n",
    "        \"avg_val_accuracy\": sum(fold_metrics[\"val_accuracies\"]) / len(fold_metrics[\"val_accuracies\"]),\n",
    "    }\n",
    "\n",
    "    print(\"\\nCross-Validation Results:\")\n",
    "    print(f\"Average Training Loss: {avg_metrics['avg_train_loss']:.4f}\")\n",
    "    print(f\"Average Validation Loss: {avg_metrics['avg_val_loss']:.4f}\")\n",
    "    print(f\"Average Training Accuracy: {avg_metrics['avg_train_accuracy']:.4f}\")\n",
    "    print(f\"Average Validation Accuracy: {avg_metrics['avg_val_accuracy']:.4f}\")\n",
    "\n",
    "    return avg_metrics\n"
   ]
  },
  {
   "cell_type": "code",
   "execution_count": 12,
   "metadata": {},
   "outputs": [
    {
     "name": "stdout",
     "output_type": "stream",
     "text": [
      "Fold 1/10\n"
     ]
    },
    {
     "name": "stderr",
     "output_type": "stream",
     "text": [
      "Training: 100%|██████████| 56/56 [00:00<00:00, 96.87it/s]\n",
      "Evaluating: 100%|██████████| 7/7 [00:00<00:00, 383.88it/s]\n"
     ]
    },
    {
     "name": "stdout",
     "output_type": "stream",
     "text": [
      "Epoch 1/100\n",
      "Training Loss: 1.1809, Training Accuracy: 0.7873\n",
      "Validation Loss: 0.6879, Validation Accuracy: 0.8400\n"
     ]
    },
    {
     "name": "stderr",
     "output_type": "stream",
     "text": [
      "Training: 100%|██████████| 56/56 [00:00<00:00, 338.65it/s]\n",
      "Evaluating: 100%|██████████| 7/7 [00:00<00:00, 380.80it/s]\n",
      "Training: 100%|██████████| 56/56 [00:00<00:00, 343.03it/s]\n",
      "Evaluating: 100%|██████████| 7/7 [00:00<00:00, 3583.13it/s]\n",
      "Training: 100%|██████████| 56/56 [00:00<00:00, 327.58it/s]\n",
      "Evaluating: 100%|██████████| 7/7 [00:00<00:00, 465.13it/s]\n",
      "Training: 100%|██████████| 56/56 [00:00<00:00, 314.57it/s]\n",
      "Evaluating: 100%|██████████| 7/7 [00:00<?, ?it/s]\n",
      "Training: 100%|██████████| 56/56 [00:00<00:00, 335.15it/s]\n",
      "Evaluating: 100%|██████████| 7/7 [00:00<00:00, 413.09it/s]\n",
      "Training: 100%|██████████| 56/56 [00:00<00:00, 310.67it/s]\n",
      "Evaluating: 100%|██████████| 7/7 [00:00<00:00, 3586.63it/s]\n",
      "Training: 100%|██████████| 56/56 [00:00<00:00, 314.81it/s]\n",
      "Evaluating: 100%|██████████| 7/7 [00:00<00:00, 538.49it/s]\n",
      "Training: 100%|██████████| 56/56 [00:00<00:00, 355.22it/s]\n",
      "Evaluating: 100%|██████████| 7/7 [00:00<00:00, 446.01it/s]\n",
      "Training: 100%|██████████| 56/56 [00:00<00:00, 337.17it/s]\n",
      "Evaluating: 100%|██████████| 7/7 [00:00<00:00, 446.09it/s]\n",
      "Training: 100%|██████████| 56/56 [00:00<00:00, 366.48it/s]\n",
      "Evaluating: 100%|██████████| 7/7 [00:00<00:00, 415.47it/s]\n"
     ]
    },
    {
     "name": "stdout",
     "output_type": "stream",
     "text": [
      "Epoch 11/100\n",
      "Training Loss: 0.1293, Training Accuracy: 0.9615\n",
      "Validation Loss: 0.1991, Validation Accuracy: 0.9200\n"
     ]
    },
    {
     "name": "stderr",
     "output_type": "stream",
     "text": [
      "Training: 100%|██████████| 56/56 [00:00<00:00, 337.17it/s]\n",
      "Evaluating: 100%|██████████| 7/7 [00:00<?, ?it/s]\n",
      "Training: 100%|██████████| 56/56 [00:00<00:00, 293.21it/s]\n",
      "Evaluating: 100%|██████████| 7/7 [00:00<00:00, 990.93it/s]\n",
      "Training: 100%|██████████| 56/56 [00:00<00:00, 302.24it/s]\n",
      "Evaluating: 100%|██████████| 7/7 [00:00<00:00, 559.84it/s]\n",
      "Training: 100%|██████████| 56/56 [00:00<00:00, 309.70it/s]\n",
      "Evaluating: 100%|██████████| 7/7 [00:00<00:00, 447.76it/s]\n",
      "Training: 100%|██████████| 56/56 [00:00<00:00, 371.80it/s]\n",
      "Evaluating: 100%|██████████| 7/7 [00:00<00:00, 485.00it/s]\n",
      "Training: 100%|██████████| 56/56 [00:00<00:00, 348.74it/s]\n",
      "Evaluating: 100%|██████████| 7/7 [00:00<00:00, 1328.09it/s]\n",
      "Training: 100%|██████████| 56/56 [00:00<00:00, 342.25it/s]\n",
      "Evaluating: 100%|██████████| 7/7 [00:00<00:00, 4978.82it/s]\n",
      "Training: 100%|██████████| 56/56 [00:00<00:00, 340.94it/s]\n",
      "Evaluating: 100%|██████████| 7/7 [00:00<?, ?it/s]\n",
      "Training: 100%|██████████| 56/56 [00:00<00:00, 337.90it/s]\n",
      "Evaluating: 100%|██████████| 7/7 [00:00<00:00, 5304.45it/s]\n",
      "Training: 100%|██████████| 56/56 [00:00<00:00, 341.48it/s]\n",
      "Evaluating: 100%|██████████| 7/7 [00:00<00:00, 429.79it/s]\n"
     ]
    },
    {
     "name": "stdout",
     "output_type": "stream",
     "text": [
      "Epoch 21/100\n",
      "Training Loss: 0.1222, Training Accuracy: 0.9683\n",
      "Validation Loss: 0.1877, Validation Accuracy: 0.9400\n"
     ]
    },
    {
     "name": "stderr",
     "output_type": "stream",
     "text": [
      "Training: 100%|██████████| 56/56 [00:00<00:00, 373.05it/s]\n",
      "Evaluating: 100%|██████████| 7/7 [00:00<00:00, 426.11it/s]\n",
      "Training: 100%|██████████| 56/56 [00:00<00:00, 372.18it/s]\n",
      "Evaluating: 100%|██████████| 7/7 [00:00<00:00, 431.25it/s]\n",
      "Training: 100%|██████████| 56/56 [00:00<00:00, 376.98it/s]\n",
      "Evaluating: 100%|██████████| 7/7 [00:00<?, ?it/s]\n",
      "Training: 100%|██████████| 56/56 [00:00<00:00, 329.16it/s]\n",
      "Evaluating: 100%|██████████| 7/7 [00:00<00:00, 699.57it/s]\n",
      "Training: 100%|██████████| 56/56 [00:00<00:00, 369.88it/s]\n",
      "Evaluating: 100%|██████████| 7/7 [00:00<00:00, 342.90it/s]\n",
      "Training: 100%|██████████| 56/56 [00:00<00:00, 355.06it/s]\n",
      "Evaluating: 100%|██████████| 7/7 [00:00<?, ?it/s]\n",
      "Training: 100%|██████████| 56/56 [00:00<00:00, 330.63it/s]\n",
      "Evaluating: 100%|██████████| 7/7 [00:00<?, ?it/s]\n",
      "Training: 100%|██████████| 56/56 [00:00<00:00, 362.72it/s]\n",
      "Evaluating: 100%|██████████| 7/7 [00:00<00:00, 785.93it/s]\n",
      "Training: 100%|██████████| 56/56 [00:00<00:00, 366.25it/s]\n",
      "Evaluating: 100%|██████████| 7/7 [00:00<00:00, 500.13it/s]\n",
      "Training: 100%|██████████| 56/56 [00:00<00:00, 329.05it/s]\n",
      "Evaluating: 100%|██████████| 7/7 [00:00<00:00, 419.72it/s]\n"
     ]
    },
    {
     "name": "stdout",
     "output_type": "stream",
     "text": [
      "Epoch 31/100\n",
      "Training Loss: 0.1142, Training Accuracy: 0.9661\n",
      "Validation Loss: 0.1680, Validation Accuracy: 0.9600\n"
     ]
    },
    {
     "name": "stderr",
     "output_type": "stream",
     "text": [
      "Training: 100%|██████████| 56/56 [00:00<00:00, 371.23it/s]\n",
      "Evaluating: 100%|██████████| 7/7 [00:00<00:00, 459.51it/s]\n",
      "Training: 100%|██████████| 56/56 [00:00<00:00, 339.49it/s]\n",
      "Evaluating: 100%|██████████| 7/7 [00:00<?, ?it/s]\n",
      "Training: 100%|██████████| 56/56 [00:00<00:00, 338.03it/s]\n",
      "Evaluating: 100%|██████████| 7/7 [00:00<00:00, 447.93it/s]\n",
      "Training: 100%|██████████| 56/56 [00:00<00:00, 374.27it/s]\n",
      "Evaluating: 100%|██████████| 7/7 [00:00<00:00, 421.07it/s]\n",
      "Training: 100%|██████████| 56/56 [00:00<00:00, 335.18it/s]\n",
      "Evaluating: 100%|██████████| 7/7 [00:00<00:00, 330.93it/s]\n",
      "Training: 100%|██████████| 56/56 [00:00<00:00, 312.73it/s]\n",
      "Evaluating: 100%|██████████| 7/7 [00:00<?, ?it/s]\n",
      "Training: 100%|██████████| 56/56 [00:00<00:00, 363.81it/s]\n",
      "Evaluating: 100%|██████████| 7/7 [00:00<00:00, 415.50it/s]\n",
      "Training: 100%|██████████| 56/56 [00:00<00:00, 348.70it/s]\n",
      "Evaluating: 100%|██████████| 7/7 [00:00<00:00, 4367.12it/s]\n",
      "Training: 100%|██████████| 56/56 [00:00<00:00, 336.18it/s]\n",
      "Evaluating: 100%|██████████| 7/7 [00:00<00:00, 446.35it/s]\n",
      "Training: 100%|██████████| 56/56 [00:00<00:00, 371.13it/s]\n",
      "Evaluating: 100%|██████████| 7/7 [00:00<00:00, 423.50it/s]\n"
     ]
    },
    {
     "name": "stdout",
     "output_type": "stream",
     "text": [
      "Epoch 41/100\n",
      "Training Loss: 0.1076, Training Accuracy: 0.9729\n",
      "Validation Loss: 0.1577, Validation Accuracy: 0.9600\n"
     ]
    },
    {
     "name": "stderr",
     "output_type": "stream",
     "text": [
      "Training: 100%|██████████| 56/56 [00:00<00:00, 335.32it/s]\n",
      "Evaluating: 100%|██████████| 7/7 [00:00<00:00, 330.67it/s]\n",
      "Training: 100%|██████████| 56/56 [00:00<00:00, 376.15it/s]\n",
      "Evaluating: 100%|██████████| 7/7 [00:00<00:00, 425.97it/s]\n",
      "Training: 100%|██████████| 56/56 [00:00<00:00, 342.10it/s]\n",
      "Evaluating: 100%|██████████| 7/7 [00:00<00:00, 420.75it/s]\n",
      "Training: 100%|██████████| 56/56 [00:00<00:00, 352.69it/s]\n",
      "Evaluating: 100%|██████████| 7/7 [00:00<00:00, 860.62it/s]\n",
      "Training: 100%|██████████| 56/56 [00:00<00:00, 324.92it/s]\n",
      "Evaluating: 100%|██████████| 7/7 [00:00<00:00, 508.22it/s]\n",
      "Training: 100%|██████████| 56/56 [00:00<00:00, 353.74it/s]\n",
      "Evaluating: 100%|██████████| 7/7 [00:00<00:00, 514.70it/s]\n",
      "Training: 100%|██████████| 56/56 [00:00<00:00, 363.85it/s]\n",
      "Evaluating: 100%|██████████| 7/7 [00:00<00:00, 475.28it/s]\n",
      "Training: 100%|██████████| 56/56 [00:00<00:00, 372.92it/s]\n",
      "Evaluating: 100%|██████████| 7/7 [00:00<00:00, 360.36it/s]\n",
      "Training: 100%|██████████| 56/56 [00:00<00:00, 341.13it/s]\n",
      "Evaluating: 100%|██████████| 7/7 [00:00<00:00, 445.21it/s]\n",
      "Training: 100%|██████████| 56/56 [00:00<00:00, 366.05it/s]\n",
      "Evaluating: 100%|██████████| 7/7 [00:00<?, ?it/s]\n"
     ]
    },
    {
     "name": "stdout",
     "output_type": "stream",
     "text": [
      "Epoch 51/100\n",
      "Training Loss: 0.0978, Training Accuracy: 0.9751\n",
      "Validation Loss: 0.1558, Validation Accuracy: 0.9600\n"
     ]
    },
    {
     "name": "stderr",
     "output_type": "stream",
     "text": [
      "Training: 100%|██████████| 56/56 [00:00<00:00, 336.09it/s]\n",
      "Evaluating: 100%|██████████| 7/7 [00:00<00:00, 446.35it/s]\n",
      "Training: 100%|██████████| 56/56 [00:00<00:00, 335.29it/s]\n",
      "Evaluating: 100%|██████████| 7/7 [00:00<00:00, 307.69it/s]\n",
      "Training: 100%|██████████| 56/56 [00:00<00:00, 348.82it/s]\n",
      "Evaluating: 100%|██████████| 7/7 [00:00<?, ?it/s]\n",
      "Training: 100%|██████████| 56/56 [00:00<00:00, 332.67it/s]\n",
      "Evaluating: 100%|██████████| 7/7 [00:00<00:00, 447.94it/s]\n",
      "Training: 100%|██████████| 56/56 [00:00<00:00, 338.32it/s]\n",
      "Evaluating: 100%|██████████| 7/7 [00:00<00:00, 3967.58it/s]\n",
      "Training: 100%|██████████| 56/56 [00:00<00:00, 341.49it/s]\n",
      "Evaluating: 100%|██████████| 7/7 [00:00<00:00, 378.79it/s]\n",
      "Training: 100%|██████████| 56/56 [00:00<00:00, 377.86it/s]\n",
      "Evaluating: 100%|██████████| 7/7 [00:00<00:00, 417.08it/s]\n",
      "Training: 100%|██████████| 56/56 [00:00<00:00, 362.59it/s]\n",
      "Evaluating: 100%|██████████| 7/7 [00:00<00:00, 1627.50it/s]\n",
      "Training: 100%|██████████| 56/56 [00:00<00:00, 317.13it/s]\n",
      "Evaluating: 100%|██████████| 7/7 [00:00<00:00, 498.88it/s]\n",
      "Training: 100%|██████████| 56/56 [00:00<00:00, 363.60it/s]\n",
      "Evaluating: 100%|██████████| 7/7 [00:00<00:00, 418.50it/s]\n"
     ]
    },
    {
     "name": "stdout",
     "output_type": "stream",
     "text": [
      "Epoch 61/100\n",
      "Training Loss: 0.0932, Training Accuracy: 0.9683\n",
      "Validation Loss: 0.1516, Validation Accuracy: 0.9600\n"
     ]
    },
    {
     "name": "stderr",
     "output_type": "stream",
     "text": [
      "Training: 100%|██████████| 56/56 [00:00<00:00, 318.05it/s]\n",
      "Evaluating: 100%|██████████| 7/7 [00:00<00:00, 529.11it/s]\n",
      "Training: 100%|██████████| 56/56 [00:00<00:00, 355.33it/s]\n",
      "Evaluating: 100%|██████████| 7/7 [00:00<00:00, 426.20it/s]\n",
      "Training: 100%|██████████| 56/56 [00:00<00:00, 377.79it/s]\n",
      "Evaluating: 100%|██████████| 7/7 [00:00<00:00, 421.51it/s]\n",
      "Training: 100%|██████████| 56/56 [00:00<00:00, 327.40it/s]\n",
      "Evaluating: 100%|██████████| 7/7 [00:00<00:00, 451.03it/s]\n",
      "Training: 100%|██████████| 56/56 [00:00<00:00, 338.02it/s]\n",
      "Evaluating: 100%|██████████| 7/7 [00:00<00:00, 515.82it/s]\n",
      "Training: 100%|██████████| 56/56 [00:00<00:00, 354.14it/s]\n",
      "Evaluating: 100%|██████████| 7/7 [00:00<00:00, 1127.50it/s]\n",
      "Training: 100%|██████████| 56/56 [00:00<00:00, 339.03it/s]\n",
      "Evaluating: 100%|██████████| 7/7 [00:00<00:00, 446.24it/s]\n",
      "Training: 100%|██████████| 56/56 [00:00<00:00, 362.63it/s]\n",
      "Evaluating: 100%|██████████| 7/7 [00:00<00:00, 517.99it/s]\n",
      "Training: 100%|██████████| 56/56 [00:00<00:00, 336.15it/s]\n",
      "Evaluating: 100%|██████████| 7/7 [00:00<00:00, 321.66it/s]\n",
      "Training: 100%|██████████| 56/56 [00:00<00:00, 354.92it/s]\n",
      "Evaluating: 100%|██████████| 7/7 [00:00<00:00, 3197.23it/s]\n"
     ]
    },
    {
     "name": "stdout",
     "output_type": "stream",
     "text": [
      "Epoch 71/100\n",
      "Training Loss: 0.0898, Training Accuracy: 0.9729\n",
      "Validation Loss: 0.1376, Validation Accuracy: 0.9600\n"
     ]
    },
    {
     "name": "stderr",
     "output_type": "stream",
     "text": [
      "Training: 100%|██████████| 56/56 [00:00<00:00, 335.98it/s]\n",
      "Evaluating: 100%|██████████| 7/7 [00:00<00:00, 448.00it/s]\n",
      "Training: 100%|██████████| 56/56 [00:00<00:00, 370.12it/s]\n",
      "Evaluating: 100%|██████████| 7/7 [00:00<00:00, 356.39it/s]\n",
      "Training: 100%|██████████| 56/56 [00:00<00:00, 342.21it/s]\n",
      "Evaluating: 100%|██████████| 7/7 [00:00<00:00, 386.35it/s]\n",
      "Training: 100%|██████████| 56/56 [00:00<00:00, 350.71it/s]\n",
      "Evaluating: 100%|██████████| 7/7 [00:00<00:00, 1835.35it/s]\n",
      "Training: 100%|██████████| 56/56 [00:00<00:00, 330.70it/s]\n",
      "Evaluating: 100%|██████████| 7/7 [00:00<00:00, 447.98it/s]\n",
      "Training: 100%|██████████| 56/56 [00:00<00:00, 339.41it/s]\n",
      "Evaluating: 100%|██████████| 7/7 [00:00<?, ?it/s]\n",
      "Training: 100%|██████████| 56/56 [00:00<00:00, 335.41it/s]\n",
      "Evaluating: 100%|██████████| 7/7 [00:00<00:00, 447.95it/s]\n",
      "Training: 100%|██████████| 56/56 [00:00<00:00, 322.86it/s]\n",
      "Evaluating: 100%|██████████| 7/7 [00:00<00:00, 503.27it/s]\n",
      "Training: 100%|██████████| 56/56 [00:00<00:00, 344.55it/s]\n",
      "Evaluating: 100%|██████████| 7/7 [00:00<00:00, 583.38it/s]\n",
      "Training: 100%|██████████| 56/56 [00:00<00:00, 333.71it/s]\n",
      "Evaluating: 100%|██████████| 7/7 [00:00<?, ?it/s]\n"
     ]
    },
    {
     "name": "stdout",
     "output_type": "stream",
     "text": [
      "Epoch 81/100\n",
      "Training Loss: 0.0855, Training Accuracy: 0.9774\n",
      "Validation Loss: 0.1342, Validation Accuracy: 0.9600\n"
     ]
    },
    {
     "name": "stderr",
     "output_type": "stream",
     "text": [
      "Training: 100%|██████████| 56/56 [00:00<00:00, 343.65it/s]\n",
      "Evaluating: 100%|██████████| 7/7 [00:00<00:00, 6785.33it/s]\n",
      "Training: 100%|██████████| 56/56 [00:00<00:00, 334.27it/s]\n",
      "Evaluating: 100%|██████████| 7/7 [00:00<00:00, 447.97it/s]\n",
      "Training: 100%|██████████| 56/56 [00:00<00:00, 378.94it/s]\n",
      "Evaluating: 100%|██████████| 7/7 [00:00<00:00, 268.35it/s]\n",
      "Training: 100%|██████████| 56/56 [00:00<00:00, 367.47it/s]\n",
      "Evaluating: 100%|██████████| 7/7 [00:00<00:00, 2111.33it/s]\n",
      "Training: 100%|██████████| 56/56 [00:00<00:00, 338.16it/s]\n",
      "Evaluating: 100%|██████████| 7/7 [00:00<00:00, 354.37it/s]\n",
      "Training: 100%|██████████| 56/56 [00:00<00:00, 344.24it/s]\n",
      "Evaluating: 100%|██████████| 7/7 [00:00<?, ?it/s]\n",
      "Training: 100%|██████████| 56/56 [00:00<00:00, 335.52it/s]\n",
      "Evaluating: 100%|██████████| 7/7 [00:00<00:00, 383.69it/s]\n",
      "Training: 100%|██████████| 56/56 [00:00<00:00, 347.99it/s]\n",
      "Evaluating: 100%|██████████| 7/7 [00:00<00:00, 1459.47it/s]\n",
      "Training: 100%|██████████| 56/56 [00:00<00:00, 340.78it/s]\n",
      "Evaluating: 100%|██████████| 7/7 [00:00<00:00, 447.95it/s]\n",
      "Training: 100%|██████████| 56/56 [00:00<00:00, 336.99it/s]\n",
      "Evaluating: 100%|██████████| 7/7 [00:00<?, ?it/s]\n"
     ]
    },
    {
     "name": "stdout",
     "output_type": "stream",
     "text": [
      "Epoch 91/100\n",
      "Training Loss: 0.0809, Training Accuracy: 0.9729\n",
      "Validation Loss: 0.1419, Validation Accuracy: 0.9600\n"
     ]
    },
    {
     "name": "stderr",
     "output_type": "stream",
     "text": [
      "Training: 100%|██████████| 56/56 [00:00<00:00, 366.37it/s]\n",
      "Evaluating: 100%|██████████| 7/7 [00:00<00:00, 447.99it/s]\n",
      "Training: 100%|██████████| 56/56 [00:00<00:00, 370.80it/s]\n",
      "Evaluating: 100%|██████████| 7/7 [00:00<00:00, 1287.61it/s]\n",
      "Training: 100%|██████████| 56/56 [00:00<00:00, 344.75it/s]\n",
      "Evaluating: 100%|██████████| 7/7 [00:00<00:00, 447.97it/s]\n",
      "Training: 100%|██████████| 56/56 [00:00<00:00, 370.56it/s]\n",
      "Evaluating: 100%|██████████| 7/7 [00:00<00:00, 258.91it/s]\n",
      "Training: 100%|██████████| 56/56 [00:00<00:00, 362.27it/s]\n",
      "Evaluating: 100%|██████████| 7/7 [00:00<00:00, 360.65it/s]\n",
      "Training: 100%|██████████| 56/56 [00:00<00:00, 374.58it/s]\n",
      "Evaluating: 100%|██████████| 7/7 [00:00<00:00, 441.90it/s]\n",
      "Training: 100%|██████████| 56/56 [00:00<00:00, 321.44it/s]\n",
      "Evaluating: 100%|██████████| 7/7 [00:00<00:00, 499.56it/s]\n",
      "Training: 100%|██████████| 56/56 [00:00<00:00, 357.45it/s]\n",
      "Evaluating: 100%|██████████| 7/7 [00:00<00:00, 447.98it/s]\n",
      "Training: 100%|██████████| 56/56 [00:00<00:00, 366.99it/s]\n",
      "Evaluating: 100%|██████████| 7/7 [00:00<00:00, 583.38it/s]\n"
     ]
    },
    {
     "name": "stdout",
     "output_type": "stream",
     "text": [
      "Epoch 100/100\n",
      "Training Loss: 0.0782, Training Accuracy: 0.9796\n",
      "Validation Loss: 0.1290, Validation Accuracy: 0.9600\n",
      "Fold 2/10\n"
     ]
    },
    {
     "name": "stderr",
     "output_type": "stream",
     "text": [
      "Training: 100%|██████████| 56/56 [00:00<00:00, 366.75it/s]\n",
      "Evaluating: 100%|██████████| 7/7 [00:00<00:00, 434.30it/s]\n"
     ]
    },
    {
     "name": "stdout",
     "output_type": "stream",
     "text": [
      "Epoch 1/100\n",
      "Training Loss: 0.9380, Training Accuracy: 0.7986\n",
      "Validation Loss: 0.6416, Validation Accuracy: 0.9200\n"
     ]
    },
    {
     "name": "stderr",
     "output_type": "stream",
     "text": [
      "Training: 100%|██████████| 56/56 [00:00<00:00, 330.85it/s]\n",
      "Evaluating: 100%|██████████| 7/7 [00:00<00:00, 432.24it/s]\n",
      "Training: 100%|██████████| 56/56 [00:00<00:00, 310.12it/s]\n",
      "Evaluating: 100%|██████████| 7/7 [00:00<00:00, 554.41it/s]\n",
      "Training: 100%|██████████| 56/56 [00:00<00:00, 347.74it/s]\n",
      "Evaluating: 100%|██████████| 7/7 [00:00<00:00, 500.03it/s]\n",
      "Training: 100%|██████████| 56/56 [00:00<00:00, 361.05it/s]\n",
      "Evaluating: 100%|██████████| 7/7 [00:00<00:00, 287.19it/s]\n",
      "Training: 100%|██████████| 56/56 [00:00<00:00, 353.48it/s]\n",
      "Evaluating: 100%|██████████| 7/7 [00:00<00:00, 423.85it/s]\n",
      "Training: 100%|██████████| 56/56 [00:00<00:00, 347.66it/s]\n",
      "Evaluating: 100%|██████████| 7/7 [00:00<00:00, 1881.34it/s]\n",
      "Training: 100%|██████████| 56/56 [00:00<00:00, 335.71it/s]\n",
      "Evaluating: 100%|██████████| 7/7 [00:00<00:00, 383.73it/s]\n",
      "Training: 100%|██████████| 56/56 [00:00<00:00, 345.05it/s]\n",
      "Evaluating: 100%|██████████| 7/7 [00:00<00:00, 5169.95it/s]\n",
      "Training: 100%|██████████| 56/56 [00:00<00:00, 336.52it/s]\n",
      "Evaluating: 100%|██████████| 7/7 [00:00<00:00, 366.58it/s]\n",
      "Training: 100%|██████████| 56/56 [00:00<00:00, 341.57it/s]\n",
      "Evaluating: 100%|██████████| 7/7 [00:00<00:00, 636.41it/s]\n"
     ]
    },
    {
     "name": "stdout",
     "output_type": "stream",
     "text": [
      "Epoch 11/100\n",
      "Training Loss: 0.1415, Training Accuracy: 0.9638\n",
      "Validation Loss: 0.0923, Validation Accuracy: 1.0000\n"
     ]
    },
    {
     "name": "stderr",
     "output_type": "stream",
     "text": [
      "Training: 100%|██████████| 56/56 [00:00<00:00, 333.48it/s]\n",
      "Evaluating: 100%|██████████| 7/7 [00:00<00:00, 447.99it/s]\n",
      "Training: 100%|██████████| 56/56 [00:00<00:00, 327.89it/s]\n",
      "Evaluating: 100%|██████████| 7/7 [00:00<00:00, 387.93it/s]\n",
      "Training: 100%|██████████| 56/56 [00:00<00:00, 344.90it/s]\n",
      "Evaluating: 100%|██████████| 7/7 [00:00<00:00, 431.78it/s]\n",
      "Training: 100%|██████████| 56/56 [00:00<00:00, 372.78it/s]\n",
      "Evaluating: 100%|██████████| 7/7 [00:00<00:00, 406.08it/s]\n",
      "Training: 100%|██████████| 56/56 [00:00<00:00, 369.60it/s]\n",
      "Evaluating: 100%|██████████| 7/7 [00:00<00:00, 441.05it/s]\n",
      "Training: 100%|██████████| 56/56 [00:00<00:00, 344.35it/s]\n",
      "Evaluating: 100%|██████████| 7/7 [00:00<00:00, 3204.20it/s]\n",
      "Training: 100%|██████████| 56/56 [00:00<00:00, 334.97it/s]\n",
      "Evaluating: 100%|██████████| 7/7 [00:00<00:00, 447.65it/s]\n",
      "Training: 100%|██████████| 56/56 [00:00<00:00, 321.55it/s]\n",
      "Evaluating: 100%|██████████| 7/7 [00:00<00:00, 481.08it/s]\n",
      "Training: 100%|██████████| 56/56 [00:00<00:00, 345.35it/s]\n",
      "Evaluating: 100%|██████████| 7/7 [00:00<?, ?it/s]\n",
      "Training: 100%|██████████| 56/56 [00:00<00:00, 363.53it/s]\n",
      "Evaluating: 100%|██████████| 7/7 [00:00<00:00, 497.74it/s]\n"
     ]
    },
    {
     "name": "stdout",
     "output_type": "stream",
     "text": [
      "Epoch 21/100\n",
      "Training Loss: 0.1334, Training Accuracy: 0.9638\n",
      "Validation Loss: 0.0823, Validation Accuracy: 1.0000\n"
     ]
    },
    {
     "name": "stderr",
     "output_type": "stream",
     "text": [
      "Training: 100%|██████████| 56/56 [00:00<00:00, 338.08it/s]\n",
      "Evaluating: 100%|██████████| 7/7 [00:00<00:00, 406.64it/s]\n",
      "Training: 100%|██████████| 56/56 [00:00<00:00, 351.42it/s]\n",
      "Evaluating: 100%|██████████| 7/7 [00:00<00:00, 2113.30it/s]\n",
      "Training: 100%|██████████| 56/56 [00:00<00:00, 330.98it/s]\n",
      "Evaluating: 100%|██████████| 7/7 [00:00<00:00, 447.97it/s]\n",
      "Training: 100%|██████████| 56/56 [00:00<00:00, 340.36it/s]\n",
      "Evaluating: 100%|██████████| 7/7 [00:00<?, ?it/s]\n",
      "Training: 100%|██████████| 56/56 [00:00<00:00, 327.20it/s]\n",
      "Evaluating: 100%|██████████| 7/7 [00:00<00:00, 447.95it/s]\n",
      "Training: 100%|██████████| 56/56 [00:00<00:00, 342.33it/s]\n",
      "Evaluating: 100%|██████████| 7/7 [00:00<00:00, 447.97it/s]\n",
      "Training: 100%|██████████| 56/56 [00:00<00:00, 370.82it/s]\n",
      "Evaluating: 100%|██████████| 7/7 [00:00<00:00, 419.48it/s]\n",
      "Training: 100%|██████████| 56/56 [00:00<00:00, 335.14it/s]\n",
      "Evaluating: 100%|██████████| 7/7 [00:00<00:00, 447.98it/s]\n",
      "Training: 100%|██████████| 56/56 [00:00<00:00, 335.94it/s]\n",
      "Evaluating: 100%|██████████| 7/7 [00:00<?, ?it/s]\n",
      "Training: 100%|██████████| 56/56 [00:00<00:00, 333.89it/s]\n",
      "Evaluating: 100%|██████████| 7/7 [00:00<00:00, 447.99it/s]\n"
     ]
    },
    {
     "name": "stdout",
     "output_type": "stream",
     "text": [
      "Epoch 31/100\n",
      "Training Loss: 0.1236, Training Accuracy: 0.9638\n",
      "Validation Loss: 0.0738, Validation Accuracy: 1.0000\n"
     ]
    },
    {
     "name": "stderr",
     "output_type": "stream",
     "text": [
      "Training: 100%|██████████| 56/56 [00:00<00:00, 333.82it/s]\n",
      "Evaluating: 100%|██████████| 7/7 [00:00<00:00, 447.95it/s]\n",
      "Training: 100%|██████████| 56/56 [00:00<00:00, 361.33it/s]\n",
      "Evaluating: 100%|██████████| 7/7 [00:00<00:00, 629.71it/s]\n",
      "Training: 100%|██████████| 56/56 [00:00<00:00, 379.52it/s]\n",
      "Evaluating: 100%|██████████| 7/7 [00:00<00:00, 427.41it/s]\n",
      "Training: 100%|██████████| 56/56 [00:00<00:00, 335.56it/s]\n",
      "Evaluating: 100%|██████████| 7/7 [00:00<00:00, 447.97it/s]\n",
      "Training: 100%|██████████| 56/56 [00:00<00:00, 340.39it/s]\n",
      "Evaluating: 100%|██████████| 7/7 [00:00<00:00, 4175.81it/s]\n",
      "Training: 100%|██████████| 56/56 [00:00<00:00, 336.21it/s]\n",
      "Evaluating: 100%|██████████| 7/7 [00:00<00:00, 426.42it/s]\n",
      "Training: 100%|██████████| 56/56 [00:00<00:00, 362.83it/s]\n",
      "Evaluating: 100%|██████████| 7/7 [00:00<00:00, 810.94it/s]\n",
      "Training: 100%|██████████| 56/56 [00:00<00:00, 341.51it/s]\n",
      "Evaluating: 100%|██████████| 7/7 [00:00<00:00, 3489.85it/s]\n",
      "Training: 100%|██████████| 56/56 [00:00<00:00, 335.71it/s]\n",
      "Evaluating: 100%|██████████| 7/7 [00:00<00:00, 407.78it/s]\n",
      "Training: 100%|██████████| 56/56 [00:00<00:00, 350.22it/s]\n",
      "Evaluating: 100%|██████████| 7/7 [00:00<00:00, 3614.00it/s]\n"
     ]
    },
    {
     "name": "stdout",
     "output_type": "stream",
     "text": [
      "Epoch 41/100\n",
      "Training Loss: 0.1161, Training Accuracy: 0.9706\n",
      "Validation Loss: 0.0673, Validation Accuracy: 1.0000\n"
     ]
    },
    {
     "name": "stderr",
     "output_type": "stream",
     "text": [
      "Training: 100%|██████████| 56/56 [00:00<00:00, 335.80it/s]\n",
      "Evaluating: 100%|██████████| 7/7 [00:00<00:00, 447.97it/s]\n",
      "Training: 100%|██████████| 56/56 [00:00<00:00, 335.68it/s]\n",
      "Evaluating: 100%|██████████| 7/7 [00:00<?, ?it/s]\n",
      "Training: 100%|██████████| 56/56 [00:00<00:00, 328.37it/s]\n",
      "Evaluating: 100%|██████████| 7/7 [00:00<00:00, 381.15it/s]\n",
      "Training: 100%|██████████| 56/56 [00:00<00:00, 344.68it/s]\n",
      "Evaluating: 100%|██████████| 7/7 [00:00<00:00, 447.69it/s]\n",
      "Training: 100%|██████████| 56/56 [00:00<00:00, 350.93it/s]\n",
      "Evaluating: 100%|██████████| 7/7 [00:00<00:00, 990.36it/s]\n",
      "Training: 100%|██████████| 56/56 [00:00<00:00, 341.84it/s]\n",
      "Evaluating: 100%|██████████| 7/7 [00:00<00:00, 447.97it/s]\n",
      "Training: 100%|██████████| 56/56 [00:00<00:00, 368.75it/s]\n",
      "Evaluating: 100%|██████████| 7/7 [00:00<00:00, 447.26it/s]\n",
      "Training: 100%|██████████| 56/56 [00:00<00:00, 330.19it/s]\n",
      "Evaluating: 100%|██████████| 7/7 [00:00<00:00, 447.97it/s]\n",
      "Training: 100%|██████████| 56/56 [00:00<00:00, 339.04it/s]\n",
      "Evaluating: 100%|██████████| 7/7 [00:00<00:00, 355.02it/s]\n",
      "Training: 100%|██████████| 56/56 [00:00<00:00, 349.07it/s]\n",
      "Evaluating: 100%|██████████| 7/7 [00:00<00:00, 3416.75it/s]\n"
     ]
    },
    {
     "name": "stdout",
     "output_type": "stream",
     "text": [
      "Epoch 51/100\n",
      "Training Loss: 0.1099, Training Accuracy: 0.9683\n",
      "Validation Loss: 0.0642, Validation Accuracy: 1.0000\n"
     ]
    },
    {
     "name": "stderr",
     "output_type": "stream",
     "text": [
      "Training: 100%|██████████| 56/56 [00:00<00:00, 336.22it/s]\n",
      "Evaluating: 100%|██████████| 7/7 [00:00<00:00, 447.97it/s]\n",
      "Training: 100%|██████████| 56/56 [00:00<00:00, 353.04it/s]\n",
      "Evaluating: 100%|██████████| 7/7 [00:00<00:00, 383.17it/s]\n",
      "Training: 100%|██████████| 56/56 [00:00<00:00, 353.66it/s]\n",
      "Evaluating: 100%|██████████| 7/7 [00:00<00:00, 446.99it/s]\n",
      "Training: 100%|██████████| 56/56 [00:00<00:00, 366.98it/s]\n",
      "Evaluating: 100%|██████████| 7/7 [00:00<00:00, 707.03it/s]\n",
      "Training: 100%|██████████| 56/56 [00:00<00:00, 343.86it/s]\n",
      "Evaluating: 100%|██████████| 7/7 [00:00<00:00, 1662.90it/s]\n",
      "Training: 100%|██████████| 56/56 [00:00<00:00, 340.53it/s]\n",
      "Evaluating: 100%|██████████| 7/7 [00:00<00:00, 361.26it/s]\n",
      "Training: 100%|██████████| 56/56 [00:00<00:00, 386.02it/s]\n",
      "Evaluating: 100%|██████████| 7/7 [00:00<00:00, 448.00it/s]\n",
      "Training: 100%|██████████| 56/56 [00:00<00:00, 333.21it/s]\n",
      "Evaluating: 100%|██████████| 7/7 [00:00<00:00, 362.16it/s]\n",
      "Training: 100%|██████████| 56/56 [00:00<00:00, 349.06it/s]\n",
      "Evaluating: 100%|██████████| 7/7 [00:00<00:00, 3804.11it/s]\n",
      "Training: 100%|██████████| 56/56 [00:00<00:00, 336.43it/s]\n",
      "Evaluating: 100%|██████████| 7/7 [00:00<00:00, 318.22it/s]\n"
     ]
    },
    {
     "name": "stdout",
     "output_type": "stream",
     "text": [
      "Epoch 61/100\n",
      "Training Loss: 0.1059, Training Accuracy: 0.9706\n",
      "Validation Loss: 0.0567, Validation Accuracy: 1.0000\n"
     ]
    },
    {
     "name": "stderr",
     "output_type": "stream",
     "text": [
      "Training: 100%|██████████| 56/56 [00:00<00:00, 349.82it/s]\n",
      "Evaluating: 100%|██████████| 7/7 [00:00<?, ?it/s]\n",
      "Training: 100%|██████████| 56/56 [00:00<00:00, 336.10it/s]\n",
      "Evaluating: 100%|██████████| 7/7 [00:00<00:00, 365.69it/s]\n",
      "Training: 100%|██████████| 56/56 [00:00<00:00, 373.64it/s]\n",
      "Evaluating: 100%|██████████| 7/7 [00:00<?, ?it/s]\n",
      "Training: 100%|██████████| 56/56 [00:00<00:00, 337.57it/s]\n",
      "Evaluating: 100%|██████████| 7/7 [00:00<00:00, 448.01it/s]\n",
      "Training: 100%|██████████| 56/56 [00:00<00:00, 329.81it/s]\n",
      "Evaluating: 100%|██████████| 7/7 [00:00<00:00, 447.95it/s]\n",
      "Training: 100%|██████████| 56/56 [00:00<00:00, 354.36it/s]\n",
      "Evaluating: 100%|██████████| 7/7 [00:00<00:00, 1636.85it/s]\n",
      "Training: 100%|██████████| 56/56 [00:00<00:00, 329.32it/s]\n",
      "Evaluating: 100%|██████████| 7/7 [00:00<00:00, 402.17it/s]\n",
      "Training: 100%|██████████| 56/56 [00:00<00:00, 349.57it/s]\n",
      "Evaluating: 100%|██████████| 7/7 [00:00<00:00, 3235.63it/s]\n",
      "Training: 100%|██████████| 56/56 [00:00<00:00, 329.99it/s]\n",
      "Evaluating: 100%|██████████| 7/7 [00:00<00:00, 421.66it/s]\n",
      "Training: 100%|██████████| 56/56 [00:00<00:00, 342.08it/s]\n",
      "Evaluating: 100%|██████████| 7/7 [00:00<00:00, 383.52it/s]\n"
     ]
    },
    {
     "name": "stdout",
     "output_type": "stream",
     "text": [
      "Epoch 71/100\n",
      "Training Loss: 0.1014, Training Accuracy: 0.9706\n",
      "Validation Loss: 0.0564, Validation Accuracy: 1.0000\n"
     ]
    },
    {
     "name": "stderr",
     "output_type": "stream",
     "text": [
      "Training: 100%|██████████| 56/56 [00:00<00:00, 344.60it/s]\n",
      "Evaluating: 100%|██████████| 7/7 [00:00<00:00, 3407.63it/s]\n",
      "Training: 100%|██████████| 56/56 [00:00<00:00, 331.19it/s]\n",
      "Evaluating: 100%|██████████| 7/7 [00:00<00:00, 380.23it/s]\n",
      "Training: 100%|██████████| 56/56 [00:00<00:00, 335.03it/s]\n",
      "Evaluating: 100%|██████████| 7/7 [00:00<00:00, 652.14it/s]\n",
      "Training: 100%|██████████| 56/56 [00:00<00:00, 372.43it/s]\n",
      "Evaluating: 100%|██████████| 7/7 [00:00<00:00, 448.01it/s]\n",
      "Training: 100%|██████████| 56/56 [00:00<00:00, 333.46it/s]\n",
      "Evaluating: 100%|██████████| 7/7 [00:00<00:00, 344.49it/s]\n",
      "Training: 100%|██████████| 56/56 [00:00<00:00, 349.26it/s]\n",
      "Evaluating: 100%|██████████| 7/7 [00:00<?, ?it/s]\n",
      "Training: 100%|██████████| 56/56 [00:00<00:00, 351.93it/s]\n",
      "Evaluating: 100%|██████████| 7/7 [00:00<00:00, 715.23it/s]\n",
      "Training: 100%|██████████| 56/56 [00:00<00:00, 344.52it/s]\n",
      "Evaluating: 100%|██████████| 7/7 [00:00<?, ?it/s]\n",
      "Training: 100%|██████████| 56/56 [00:00<00:00, 335.99it/s]\n",
      "Evaluating: 100%|██████████| 7/7 [00:00<00:00, 369.13it/s]\n",
      "Training: 100%|██████████| 56/56 [00:00<00:00, 334.98it/s]\n",
      "Evaluating: 100%|██████████| 7/7 [00:00<00:00, 572.91it/s]\n"
     ]
    },
    {
     "name": "stdout",
     "output_type": "stream",
     "text": [
      "Epoch 81/100\n",
      "Training Loss: 0.0964, Training Accuracy: 0.9683\n",
      "Validation Loss: 0.0502, Validation Accuracy: 1.0000\n"
     ]
    },
    {
     "name": "stderr",
     "output_type": "stream",
     "text": [
      "Training: 100%|██████████| 56/56 [00:00<00:00, 340.00it/s]\n",
      "Evaluating: 100%|██████████| 7/7 [00:00<?, ?it/s]\n",
      "Training: 100%|██████████| 56/56 [00:00<00:00, 329.84it/s]\n",
      "Evaluating: 100%|██████████| 7/7 [00:00<00:00, 512.08it/s]\n",
      "Training: 100%|██████████| 56/56 [00:00<00:00, 336.13it/s]\n",
      "Evaluating: 100%|██████████| 7/7 [00:00<00:00, 360.45it/s]\n",
      "Training: 100%|██████████| 56/56 [00:00<00:00, 347.49it/s]\n",
      "Evaluating: 100%|██████████| 7/7 [00:00<00:00, 4670.72it/s]\n",
      "Training: 100%|██████████| 56/56 [00:00<00:00, 347.91it/s]\n",
      "Evaluating: 100%|██████████| 7/7 [00:00<00:00, 2397.72it/s]\n",
      "Training: 100%|██████████| 56/56 [00:00<00:00, 334.14it/s]\n",
      "Evaluating: 100%|██████████| 7/7 [00:00<00:00, 323.66it/s]\n",
      "Training: 100%|██████████| 56/56 [00:00<00:00, 337.84it/s]\n",
      "Evaluating: 100%|██████████| 7/7 [00:00<00:00, 617.72it/s]\n",
      "Training: 100%|██████████| 56/56 [00:00<00:00, 342.52it/s]\n",
      "Evaluating: 100%|██████████| 7/7 [00:00<00:00, 4203.91it/s]\n",
      "Training: 100%|██████████| 56/56 [00:00<00:00, 331.36it/s]\n",
      "Evaluating: 100%|██████████| 7/7 [00:00<00:00, 447.96it/s]\n",
      "Training: 100%|██████████| 56/56 [00:00<00:00, 339.07it/s]\n",
      "Evaluating: 100%|██████████| 7/7 [00:00<00:00, 416.60it/s]\n"
     ]
    },
    {
     "name": "stdout",
     "output_type": "stream",
     "text": [
      "Epoch 91/100\n",
      "Training Loss: 0.0927, Training Accuracy: 0.9706\n",
      "Validation Loss: 0.0475, Validation Accuracy: 1.0000\n"
     ]
    },
    {
     "name": "stderr",
     "output_type": "stream",
     "text": [
      "Training: 100%|██████████| 56/56 [00:00<00:00, 364.37it/s]\n",
      "Evaluating: 100%|██████████| 7/7 [00:00<00:00, 406.10it/s]\n",
      "Training: 100%|██████████| 56/56 [00:00<00:00, 344.90it/s]\n",
      "Evaluating: 100%|██████████| 7/7 [00:00<00:00, 292.16it/s]\n",
      "Training: 100%|██████████| 56/56 [00:00<00:00, 345.02it/s]\n",
      "Evaluating: 100%|██████████| 7/7 [00:00<00:00, 359.50it/s]\n",
      "Training: 100%|██████████| 56/56 [00:00<00:00, 354.56it/s]\n",
      "Evaluating: 100%|██████████| 7/7 [00:00<?, ?it/s]\n",
      "Training: 100%|██████████| 56/56 [00:00<00:00, 370.60it/s]\n",
      "Evaluating: 100%|██████████| 7/7 [00:00<00:00, 421.84it/s]\n",
      "Training: 100%|██████████| 56/56 [00:00<00:00, 335.60it/s]\n",
      "Evaluating: 100%|██████████| 7/7 [00:00<00:00, 355.07it/s]\n",
      "Training: 100%|██████████| 56/56 [00:00<00:00, 342.12it/s]\n",
      "Evaluating: 100%|██████████| 7/7 [00:00<00:00, 418.19it/s]\n",
      "Training: 100%|██████████| 56/56 [00:00<00:00, 346.22it/s]\n",
      "Evaluating: 100%|██████████| 7/7 [00:00<00:00, 2315.83it/s]\n",
      "Training: 100%|██████████| 56/56 [00:00<00:00, 327.38it/s]\n",
      "Evaluating: 100%|██████████| 7/7 [00:00<00:00, 447.97it/s]\n"
     ]
    },
    {
     "name": "stdout",
     "output_type": "stream",
     "text": [
      "Epoch 100/100\n",
      "Training Loss: 0.0868, Training Accuracy: 0.9729\n",
      "Validation Loss: 0.0452, Validation Accuracy: 1.0000\n",
      "Fold 3/10\n"
     ]
    },
    {
     "name": "stderr",
     "output_type": "stream",
     "text": [
      "Training: 100%|██████████| 56/56 [00:00<00:00, 329.53it/s]\n",
      "Evaluating: 100%|██████████| 7/7 [00:00<00:00, 255.03it/s]\n"
     ]
    },
    {
     "name": "stdout",
     "output_type": "stream",
     "text": [
      "Epoch 1/100\n",
      "Training Loss: 1.0463, Training Accuracy: 0.7404\n",
      "Validation Loss: 0.3304, Validation Accuracy: 0.9592\n"
     ]
    },
    {
     "name": "stderr",
     "output_type": "stream",
     "text": [
      "Training: 100%|██████████| 56/56 [00:00<00:00, 363.64it/s]\n",
      "Evaluating: 100%|██████████| 7/7 [00:00<00:00, 425.53it/s]\n",
      "Training: 100%|██████████| 56/56 [00:00<00:00, 331.74it/s]\n",
      "Evaluating: 100%|██████████| 7/7 [00:00<00:00, 400.44it/s]\n",
      "Training: 100%|██████████| 56/56 [00:00<00:00, 379.96it/s]\n",
      "Evaluating: 100%|██████████| 7/7 [00:00<00:00, 12826.62it/s]\n",
      "Training: 100%|██████████| 56/56 [00:00<00:00, 336.32it/s]\n",
      "Evaluating: 100%|██████████| 7/7 [00:00<00:00, 447.98it/s]\n",
      "Training: 100%|██████████| 56/56 [00:00<00:00, 335.40it/s]\n",
      "Evaluating: 100%|██████████| 7/7 [00:00<00:00, 9773.68it/s]\n",
      "Training: 100%|██████████| 56/56 [00:00<00:00, 341.85it/s]\n",
      "Evaluating: 100%|██████████| 7/7 [00:00<00:00, 447.95it/s]\n",
      "Training: 100%|██████████| 56/56 [00:00<00:00, 333.64it/s]\n",
      "Evaluating: 100%|██████████| 7/7 [00:00<00:00, 388.44it/s]\n",
      "Training: 100%|██████████| 56/56 [00:00<00:00, 351.75it/s]\n",
      "Evaluating: 100%|██████████| 7/7 [00:00<00:00, 1108.35it/s]\n",
      "Training: 100%|██████████| 56/56 [00:00<00:00, 341.19it/s]\n",
      "Evaluating: 100%|██████████| 7/7 [00:00<00:00, 447.96it/s]\n",
      "Training: 100%|██████████| 56/56 [00:00<00:00, 339.54it/s]\n",
      "Evaluating: 100%|██████████| 7/7 [00:00<00:00, 2180.48it/s]\n"
     ]
    },
    {
     "name": "stdout",
     "output_type": "stream",
     "text": [
      "Epoch 11/100\n",
      "Training Loss: 0.1361, Training Accuracy: 0.9616\n",
      "Validation Loss: 0.1286, Validation Accuracy: 0.9592\n"
     ]
    },
    {
     "name": "stderr",
     "output_type": "stream",
     "text": [
      "Training: 100%|██████████| 56/56 [00:00<00:00, 332.05it/s]\n",
      "Evaluating: 100%|██████████| 7/7 [00:00<00:00, 378.50it/s]\n",
      "Training: 100%|██████████| 56/56 [00:00<00:00, 348.95it/s]\n",
      "Evaluating: 100%|██████████| 7/7 [00:00<00:00, 1296.20it/s]\n",
      "Training: 100%|██████████| 56/56 [00:00<00:00, 343.72it/s]\n",
      "Evaluating: 100%|██████████| 7/7 [00:00<00:00, 448.01it/s]\n",
      "Training: 100%|██████████| 56/56 [00:00<00:00, 370.85it/s]\n",
      "Evaluating: 100%|██████████| 7/7 [00:00<00:00, 380.19it/s]\n",
      "Training: 100%|██████████| 56/56 [00:00<00:00, 338.97it/s]\n",
      "Evaluating: 100%|██████████| 7/7 [00:00<00:00, 365.65it/s]\n",
      "Training: 100%|██████████| 56/56 [00:00<00:00, 378.71it/s]\n",
      "Evaluating: 100%|██████████| 7/7 [00:00<00:00, 447.96it/s]\n",
      "Training: 100%|██████████| 56/56 [00:00<00:00, 333.67it/s]\n",
      "Evaluating: 100%|██████████| 7/7 [00:00<00:00, 329.64it/s]\n",
      "Training: 100%|██████████| 56/56 [00:00<00:00, 359.14it/s]\n",
      "Evaluating: 100%|██████████| 7/7 [00:00<00:00, 1431.92it/s]\n",
      "Training: 100%|██████████| 56/56 [00:00<00:00, 341.20it/s]\n",
      "Evaluating: 100%|██████████| 7/7 [00:00<00:00, 447.98it/s]\n",
      "Training: 100%|██████████| 56/56 [00:00<00:00, 370.59it/s]\n",
      "Evaluating: 100%|██████████| 7/7 [00:00<?, ?it/s]\n"
     ]
    },
    {
     "name": "stdout",
     "output_type": "stream",
     "text": [
      "Epoch 21/100\n",
      "Training Loss: 0.1235, Training Accuracy: 0.9616\n",
      "Validation Loss: 0.1171, Validation Accuracy: 0.9592\n"
     ]
    },
    {
     "name": "stderr",
     "output_type": "stream",
     "text": [
      "Training: 100%|██████████| 56/56 [00:00<00:00, 334.12it/s]\n",
      "Evaluating: 100%|██████████| 7/7 [00:00<00:00, 447.95it/s]\n",
      "Training: 100%|██████████| 56/56 [00:00<00:00, 335.32it/s]\n",
      "Evaluating: 100%|██████████| 7/7 [00:00<?, ?it/s]\n",
      "Training: 100%|██████████| 56/56 [00:00<00:00, 333.24it/s]\n",
      "Evaluating: 100%|██████████| 7/7 [00:00<00:00, 382.61it/s]\n",
      "Training: 100%|██████████| 56/56 [00:00<00:00, 367.24it/s]\n",
      "Evaluating: 100%|██████████| 7/7 [00:00<00:00, 421.74it/s]\n",
      "Training: 100%|██████████| 56/56 [00:00<00:00, 338.05it/s]\n",
      "Evaluating: 100%|██████████| 7/7 [00:00<00:00, 447.98it/s]\n",
      "Training: 100%|██████████| 56/56 [00:00<00:00, 330.47it/s]\n",
      "Evaluating: 100%|██████████| 7/7 [00:00<00:00, 529.08it/s]\n",
      "Training: 100%|██████████| 56/56 [00:00<00:00, 343.60it/s]\n",
      "Evaluating: 100%|██████████| 7/7 [00:00<?, ?it/s]\n",
      "Training: 100%|██████████| 56/56 [00:00<00:00, 329.92it/s]\n",
      "Evaluating: 100%|██████████| 7/7 [00:00<00:00, 379.94it/s]\n",
      "Training: 100%|██████████| 56/56 [00:00<00:00, 356.61it/s]\n",
      "Evaluating: 100%|██████████| 7/7 [00:00<00:00, 1515.13it/s]\n",
      "Training: 100%|██████████| 56/56 [00:00<00:00, 343.19it/s]\n",
      "Evaluating: 100%|██████████| 7/7 [00:00<00:00, 447.94it/s]\n"
     ]
    },
    {
     "name": "stdout",
     "output_type": "stream",
     "text": [
      "Epoch 31/100\n",
      "Training Loss: 0.1173, Training Accuracy: 0.9707\n",
      "Validation Loss: 0.1180, Validation Accuracy: 0.9592\n"
     ]
    },
    {
     "name": "stderr",
     "output_type": "stream",
     "text": [
      "Training: 100%|██████████| 56/56 [00:00<00:00, 334.89it/s]\n",
      "Evaluating: 100%|██████████| 7/7 [00:00<?, ?it/s]\n",
      "Training: 100%|██████████| 56/56 [00:00<00:00, 369.11it/s]\n",
      "Evaluating: 100%|██████████| 7/7 [00:00<00:00, 362.82it/s]\n",
      "Training: 100%|██████████| 56/56 [00:00<00:00, 343.05it/s]\n",
      "Evaluating: 100%|██████████| 7/7 [00:00<00:00, 448.00it/s]\n",
      "Training: 100%|██████████| 56/56 [00:00<00:00, 367.68it/s]\n",
      "Evaluating: 100%|██████████| 7/7 [00:00<00:00, 447.95it/s]\n",
      "Training: 100%|██████████| 56/56 [00:00<00:00, 331.03it/s]\n",
      "Evaluating: 100%|██████████| 7/7 [00:00<?, ?it/s]\n",
      "Training: 100%|██████████| 56/56 [00:00<00:00, 338.27it/s]\n",
      "Evaluating: 100%|██████████| 7/7 [00:00<00:00, 447.99it/s]\n",
      "Training: 100%|██████████| 56/56 [00:00<00:00, 330.07it/s]\n",
      "Evaluating: 100%|██████████| 7/7 [00:00<00:00, 395.01it/s]\n",
      "Training: 100%|██████████| 56/56 [00:00<00:00, 356.58it/s]\n",
      "Evaluating: 100%|██████████| 7/7 [00:00<00:00, 1004.59it/s]\n",
      "Training: 100%|██████████| 56/56 [00:00<00:00, 336.52it/s]\n",
      "Evaluating: 100%|██████████| 7/7 [00:00<00:00, 314.56it/s]\n",
      "Training: 100%|██████████| 56/56 [00:00<00:00, 357.07it/s]\n",
      "Evaluating: 100%|██████████| 7/7 [00:00<00:00, 368.49it/s]\n"
     ]
    },
    {
     "name": "stdout",
     "output_type": "stream",
     "text": [
      "Epoch 41/100\n",
      "Training Loss: 0.1078, Training Accuracy: 0.9707\n",
      "Validation Loss: 0.1020, Validation Accuracy: 0.9592\n"
     ]
    },
    {
     "name": "stderr",
     "output_type": "stream",
     "text": [
      "Training: 100%|██████████| 56/56 [00:00<00:00, 378.37it/s]\n",
      "Evaluating: 100%|██████████| 7/7 [00:00<00:00, 428.23it/s]\n",
      "Training: 100%|██████████| 56/56 [00:00<00:00, 364.14it/s]\n",
      "Evaluating: 100%|██████████| 7/7 [00:00<00:00, 583.35it/s]\n",
      "Training: 100%|██████████| 56/56 [00:00<00:00, 366.82it/s]\n",
      "Evaluating: 100%|██████████| 7/7 [00:00<00:00, 448.02it/s]\n",
      "Training: 100%|██████████| 56/56 [00:00<00:00, 332.91it/s]\n",
      "Evaluating: 100%|██████████| 7/7 [00:00<00:00, 447.99it/s]\n",
      "Training: 100%|██████████| 56/56 [00:00<00:00, 370.56it/s]\n",
      "Evaluating: 100%|██████████| 7/7 [00:00<00:00, 2122.01it/s]\n",
      "Training: 100%|██████████| 56/56 [00:00<00:00, 342.72it/s]\n",
      "Evaluating: 100%|██████████| 7/7 [00:00<00:00, 447.99it/s]\n",
      "Training: 100%|██████████| 56/56 [00:00<00:00, 367.48it/s]\n",
      "Evaluating: 100%|██████████| 7/7 [00:00<?, ?it/s]\n",
      "Training: 100%|██████████| 56/56 [00:00<00:00, 328.55it/s]\n",
      "Evaluating: 100%|██████████| 7/7 [00:00<00:00, 381.25it/s]\n",
      "Training: 100%|██████████| 56/56 [00:00<00:00, 346.59it/s]\n",
      "Evaluating: 100%|██████████| 7/7 [00:00<?, ?it/s]\n",
      "Training: 100%|██████████| 56/56 [00:00<00:00, 336.05it/s]\n",
      "Evaluating: 100%|██████████| 7/7 [00:00<00:00, 419.23it/s]\n"
     ]
    },
    {
     "name": "stdout",
     "output_type": "stream",
     "text": [
      "Epoch 51/100\n",
      "Training Loss: 0.1025, Training Accuracy: 0.9729\n",
      "Validation Loss: 0.1167, Validation Accuracy: 0.9592\n"
     ]
    },
    {
     "name": "stderr",
     "output_type": "stream",
     "text": [
      "Training: 100%|██████████| 56/56 [00:00<00:00, 328.49it/s]\n",
      "Evaluating: 100%|██████████| 7/7 [00:00<00:00, 350.36it/s]\n",
      "Training: 100%|██████████| 56/56 [00:00<00:00, 345.56it/s]\n",
      "Evaluating: 100%|██████████| 7/7 [00:00<00:00, 447.95it/s]\n",
      "Training: 100%|██████████| 56/56 [00:00<00:00, 381.76it/s]\n",
      "Evaluating: 100%|██████████| 7/7 [00:00<00:00, 447.98it/s]\n",
      "Training: 100%|██████████| 56/56 [00:00<00:00, 335.63it/s]\n",
      "Evaluating: 100%|██████████| 7/7 [00:00<00:00, 403.71it/s]\n",
      "Training: 100%|██████████| 56/56 [00:00<00:00, 357.50it/s]\n",
      "Evaluating: 100%|██████████| 7/7 [00:00<00:00, 481.77it/s]\n",
      "Training: 100%|██████████| 56/56 [00:00<00:00, 355.71it/s]\n",
      "Evaluating: 100%|██████████| 7/7 [00:00<00:00, 414.64it/s]\n",
      "Training: 100%|██████████| 56/56 [00:00<00:00, 358.59it/s]\n",
      "Evaluating: 100%|██████████| 7/7 [00:00<00:00, 1109.39it/s]\n",
      "Training: 100%|██████████| 56/56 [00:00<00:00, 342.43it/s]\n",
      "Evaluating: 100%|██████████| 7/7 [00:00<00:00, 1595.75it/s]\n",
      "Training: 100%|██████████| 56/56 [00:00<00:00, 337.64it/s]\n",
      "Evaluating: 100%|██████████| 7/7 [00:00<00:00, 447.95it/s]\n",
      "Training: 100%|██████████| 56/56 [00:00<00:00, 340.51it/s]\n",
      "Evaluating: 100%|██████████| 7/7 [00:00<?, ?it/s]\n"
     ]
    },
    {
     "name": "stdout",
     "output_type": "stream",
     "text": [
      "Epoch 61/100\n",
      "Training Loss: 0.0959, Training Accuracy: 0.9707\n",
      "Validation Loss: 0.1105, Validation Accuracy: 0.9592\n"
     ]
    },
    {
     "name": "stderr",
     "output_type": "stream",
     "text": [
      "Training: 100%|██████████| 56/56 [00:00<00:00, 336.13it/s]\n",
      "Evaluating: 100%|██████████| 7/7 [00:00<00:00, 447.97it/s]\n",
      "Training: 100%|██████████| 56/56 [00:00<00:00, 333.27it/s]\n",
      "Evaluating: 100%|██████████| 7/7 [00:00<00:00, 320.23it/s]\n",
      "Training: 100%|██████████| 56/56 [00:00<00:00, 348.17it/s]\n",
      "Evaluating: 100%|██████████| 7/7 [00:00<?, ?it/s]\n",
      "Training: 100%|██████████| 56/56 [00:00<00:00, 337.36it/s]\n",
      "Evaluating: 100%|██████████| 7/7 [00:00<00:00, 447.98it/s]\n",
      "Training: 100%|██████████| 56/56 [00:00<00:00, 351.25it/s]\n",
      "Evaluating: 100%|██████████| 7/7 [00:00<00:00, 447.88it/s]\n",
      "Training: 100%|██████████| 56/56 [00:00<00:00, 350.89it/s]\n",
      "Evaluating: 100%|██████████| 7/7 [00:00<00:00, 447.99it/s]\n",
      "Training: 100%|██████████| 56/56 [00:00<00:00, 370.45it/s]\n",
      "Evaluating: 100%|██████████| 7/7 [00:00<00:00, 447.99it/s]\n",
      "Training: 100%|██████████| 56/56 [00:00<00:00, 327.56it/s]\n",
      "Evaluating: 100%|██████████| 7/7 [00:00<00:00, 381.86it/s]\n",
      "Training: 100%|██████████| 56/56 [00:00<00:00, 349.54it/s]\n",
      "Evaluating: 100%|██████████| 7/7 [00:00<?, ?it/s]\n",
      "Training: 100%|██████████| 56/56 [00:00<00:00, 335.49it/s]\n",
      "Evaluating: 100%|██████████| 7/7 [00:00<00:00, 448.01it/s]\n"
     ]
    },
    {
     "name": "stdout",
     "output_type": "stream",
     "text": [
      "Epoch 71/100\n",
      "Training Loss: 0.0979, Training Accuracy: 0.9729\n",
      "Validation Loss: 0.1192, Validation Accuracy: 0.9592\n"
     ]
    },
    {
     "name": "stderr",
     "output_type": "stream",
     "text": [
      "Training: 100%|██████████| 56/56 [00:00<00:00, 335.31it/s]\n",
      "Evaluating: 100%|██████████| 7/7 [00:00<?, ?it/s]\n",
      "Training: 100%|██████████| 56/56 [00:00<00:00, 300.17it/s]\n",
      "Evaluating: 100%|██████████| 7/7 [00:00<00:00, 447.96it/s]\n",
      "Training: 100%|██████████| 56/56 [00:00<00:00, 339.28it/s]\n",
      "Evaluating: 100%|██████████| 7/7 [00:00<00:00, 404.34it/s]\n",
      "Training: 100%|██████████| 56/56 [00:00<00:00, 357.61it/s]\n",
      "Evaluating: 100%|██████████| 7/7 [00:00<00:00, 1033.92it/s]\n",
      "Training: 100%|██████████| 56/56 [00:00<00:00, 332.24it/s]\n",
      "Evaluating: 100%|██████████| 7/7 [00:00<00:00, 447.97it/s]\n",
      "Training: 100%|██████████| 56/56 [00:00<00:00, 339.10it/s]\n",
      "Evaluating: 100%|██████████| 7/7 [00:00<?, ?it/s]\n",
      "Training: 100%|██████████| 56/56 [00:00<00:00, 335.05it/s]\n",
      "Evaluating: 100%|██████████| 7/7 [00:00<00:00, 358.19it/s]\n",
      "Training: 100%|██████████| 56/56 [00:00<00:00, 380.65it/s]\n",
      "Evaluating: 100%|██████████| 7/7 [00:00<00:00, 416.50it/s]\n",
      "Training: 100%|██████████| 56/56 [00:00<00:00, 335.86it/s]\n",
      "Evaluating: 100%|██████████| 7/7 [00:00<00:00, 361.43it/s]\n",
      "Training: 100%|██████████| 56/56 [00:00<00:00, 354.58it/s]\n",
      "Evaluating: 100%|██████████| 7/7 [00:00<00:00, 1645.56it/s]\n"
     ]
    },
    {
     "name": "stdout",
     "output_type": "stream",
     "text": [
      "Epoch 81/100\n",
      "Training Loss: 0.0867, Training Accuracy: 0.9707\n",
      "Validation Loss: 0.1076, Validation Accuracy: 0.9592\n"
     ]
    },
    {
     "name": "stderr",
     "output_type": "stream",
     "text": [
      "Training: 100%|██████████| 56/56 [00:00<00:00, 370.96it/s]\n",
      "Evaluating: 100%|██████████| 7/7 [00:00<?, ?it/s]\n",
      "Training: 100%|██████████| 56/56 [00:00<00:00, 335.66it/s]\n",
      "Evaluating: 100%|██████████| 7/7 [00:00<00:00, 404.01it/s]\n",
      "Training: 100%|██████████| 56/56 [00:00<00:00, 378.66it/s]\n",
      "Evaluating: 100%|██████████| 7/7 [00:00<00:00, 447.95it/s]\n",
      "Training: 100%|██████████| 56/56 [00:00<00:00, 334.06it/s]\n",
      "Evaluating: 100%|██████████| 7/7 [00:00<00:00, 448.01it/s]\n",
      "Training: 100%|██████████| 56/56 [00:00<00:00, 328.56it/s]\n",
      "Evaluating: 100%|██████████| 7/7 [00:00<?, ?it/s]\n",
      "Training: 100%|██████████| 56/56 [00:00<00:00, 354.83it/s]\n",
      "Evaluating: 100%|██████████| 7/7 [00:00<00:00, 490.74it/s]\n",
      "Training: 100%|██████████| 56/56 [00:00<00:00, 352.14it/s]\n",
      "Evaluating: 100%|██████████| 7/7 [00:00<00:00, 441.53it/s]\n",
      "Training: 100%|██████████| 56/56 [00:00<00:00, 347.35it/s]\n",
      "Evaluating: 100%|██████████| 7/7 [00:00<00:00, 484.02it/s]\n",
      "Training: 100%|██████████| 56/56 [00:00<00:00, 362.60it/s]\n",
      "Evaluating: 100%|██████████| 7/7 [00:00<00:00, 447.97it/s]\n",
      "Training: 100%|██████████| 56/56 [00:00<00:00, 326.69it/s]\n",
      "Evaluating: 100%|██████████| 7/7 [00:00<00:00, 488.80it/s]\n"
     ]
    },
    {
     "name": "stdout",
     "output_type": "stream",
     "text": [
      "Epoch 91/100\n",
      "Training Loss: 0.0811, Training Accuracy: 0.9729\n",
      "Validation Loss: 0.1028, Validation Accuracy: 0.9592\n"
     ]
    },
    {
     "name": "stderr",
     "output_type": "stream",
     "text": [
      "Training: 100%|██████████| 56/56 [00:00<00:00, 304.99it/s]\n",
      "Evaluating: 100%|██████████| 7/7 [00:00<00:00, 426.42it/s]\n",
      "Training: 100%|██████████| 56/56 [00:00<00:00, 324.74it/s]\n",
      "Evaluating: 100%|██████████| 7/7 [00:00<00:00, 895.02it/s]\n",
      "Training: 100%|██████████| 56/56 [00:00<00:00, 341.80it/s]\n",
      "Evaluating: 100%|██████████| 7/7 [00:00<?, ?it/s]\n",
      "Training: 100%|██████████| 56/56 [00:00<00:00, 329.66it/s]\n",
      "Evaluating: 100%|██████████| 7/7 [00:00<00:00, 417.11it/s]\n",
      "Training: 100%|██████████| 56/56 [00:00<00:00, 334.52it/s]\n",
      "Evaluating: 100%|██████████| 7/7 [00:00<00:00, 418.09it/s]\n",
      "Training: 100%|██████████| 56/56 [00:00<00:00, 334.17it/s]\n",
      "Evaluating: 100%|██████████| 7/7 [00:00<00:00, 474.88it/s]\n",
      "Training: 100%|██████████| 56/56 [00:00<00:00, 341.64it/s]\n",
      "Evaluating: 100%|██████████| 7/7 [00:00<00:00, 447.97it/s]\n",
      "Training: 100%|██████████| 56/56 [00:00<00:00, 326.77it/s]\n",
      "Evaluating: 100%|██████████| 7/7 [00:00<00:00, 467.73it/s]\n",
      "Training: 100%|██████████| 56/56 [00:00<00:00, 372.46it/s]\n",
      "Evaluating: 100%|██████████| 7/7 [00:00<00:00, 2628.25it/s]\n"
     ]
    },
    {
     "name": "stdout",
     "output_type": "stream",
     "text": [
      "Epoch 100/100\n",
      "Training Loss: 0.0822, Training Accuracy: 0.9707\n",
      "Validation Loss: 0.1033, Validation Accuracy: 0.9592\n",
      "Fold 4/10\n"
     ]
    },
    {
     "name": "stderr",
     "output_type": "stream",
     "text": [
      "Training: 100%|██████████| 56/56 [00:00<00:00, 343.16it/s]\n",
      "Evaluating: 100%|██████████| 7/7 [00:00<00:00, 448.01it/s]\n"
     ]
    },
    {
     "name": "stdout",
     "output_type": "stream",
     "text": [
      "Epoch 1/100\n",
      "Training Loss: 1.0154, Training Accuracy: 0.7991\n",
      "Validation Loss: 0.3304, Validation Accuracy: 0.7755\n"
     ]
    },
    {
     "name": "stderr",
     "output_type": "stream",
     "text": [
      "Training: 100%|██████████| 56/56 [00:00<00:00, 366.80it/s]\n",
      "Evaluating: 100%|██████████| 7/7 [00:00<00:00, 447.95it/s]\n",
      "Training: 100%|██████████| 56/56 [00:00<00:00, 330.15it/s]\n",
      "Evaluating: 100%|██████████| 7/7 [00:00<00:00, 4599.02it/s]\n",
      "Training: 100%|██████████| 56/56 [00:00<00:00, 260.04it/s]\n",
      "Evaluating: 100%|██████████| 7/7 [00:00<00:00, 437.26it/s]\n",
      "Training: 100%|██████████| 56/56 [00:00<00:00, 366.40it/s]\n",
      "Evaluating: 100%|██████████| 7/7 [00:00<?, ?it/s]\n",
      "Training: 100%|██████████| 56/56 [00:00<00:00, 392.52it/s]\n",
      "Evaluating: 100%|██████████| 7/7 [00:00<?, ?it/s]\n",
      "Training: 100%|██████████| 56/56 [00:00<00:00, 348.67it/s]\n",
      "Evaluating: 100%|██████████| 7/7 [00:00<00:00, 447.97it/s]\n",
      "Training: 100%|██████████| 56/56 [00:00<00:00, 358.40it/s]\n",
      "Evaluating: 100%|██████████| 7/7 [00:00<00:00, 447.99it/s]\n",
      "Training: 100%|██████████| 56/56 [00:00<00:00, 348.41it/s]\n",
      "Evaluating: 100%|██████████| 7/7 [00:00<00:00, 447.99it/s]\n",
      "Training: 100%|██████████| 56/56 [00:00<00:00, 372.34it/s]\n",
      "Evaluating: 100%|██████████| 7/7 [00:00<?, ?it/s]\n",
      "Training: 100%|██████████| 56/56 [00:00<00:00, 373.78it/s]\n",
      "Evaluating: 100%|██████████| 7/7 [00:00<00:00, 447.98it/s]\n"
     ]
    },
    {
     "name": "stdout",
     "output_type": "stream",
     "text": [
      "Epoch 11/100\n",
      "Training Loss: 0.1335, Training Accuracy: 0.9661\n",
      "Validation Loss: 0.0761, Validation Accuracy: 1.0000\n"
     ]
    },
    {
     "name": "stderr",
     "output_type": "stream",
     "text": [
      "Training: 100%|██████████| 56/56 [00:00<00:00, 372.22it/s]\n",
      "Evaluating: 100%|██████████| 7/7 [00:00<?, ?it/s]\n",
      "Training: 100%|██████████| 56/56 [00:00<00:00, 335.04it/s]\n",
      "Evaluating: 100%|██████████| 7/7 [00:00<00:00, 447.99it/s]\n",
      "Training: 100%|██████████| 56/56 [00:00<00:00, 308.90it/s]\n",
      "Evaluating: 100%|██████████| 7/7 [00:00<00:00, 503.80it/s]\n",
      "Training: 100%|██████████| 56/56 [00:00<00:00, 342.42it/s]\n",
      "Evaluating: 100%|██████████| 7/7 [00:00<00:00, 447.98it/s]\n",
      "Training: 100%|██████████| 56/56 [00:00<00:00, 356.05it/s]\n",
      "Evaluating: 100%|██████████| 7/7 [00:00<00:00, 447.99it/s]\n",
      "Training: 100%|██████████| 56/56 [00:00<00:00, 358.40it/s]\n",
      "Evaluating: 100%|██████████| 7/7 [00:00<00:00, 447.99it/s]\n",
      "Training: 100%|██████████| 56/56 [00:00<00:00, 379.50it/s]\n",
      "Evaluating: 100%|██████████| 7/7 [00:00<00:00, 283.83it/s]\n",
      "Training: 100%|██████████| 56/56 [00:00<00:00, 398.22it/s]\n",
      "Evaluating: 100%|██████████| 7/7 [00:00<?, ?it/s]\n",
      "Training: 100%|██████████| 56/56 [00:00<00:00, 398.22it/s]\n",
      "Evaluating: 100%|██████████| 7/7 [00:00<?, ?it/s]\n",
      "Training: 100%|██████████| 56/56 [00:00<00:00, 398.22it/s]\n",
      "Evaluating: 100%|██████████| 7/7 [00:00<00:00, 448.01it/s]\n"
     ]
    },
    {
     "name": "stdout",
     "output_type": "stream",
     "text": [
      "Epoch 21/100\n",
      "Training Loss: 0.1286, Training Accuracy: 0.9661\n",
      "Validation Loss: 0.0741, Validation Accuracy: 1.0000\n"
     ]
    },
    {
     "name": "stderr",
     "output_type": "stream",
     "text": [
      "Training: 100%|██████████| 56/56 [00:00<00:00, 350.06it/s]\n",
      "Evaluating: 100%|██████████| 7/7 [00:00<00:00, 447.99it/s]\n",
      "Training: 100%|██████████| 56/56 [00:00<00:00, 375.83it/s]\n",
      "Evaluating: 100%|██████████| 7/7 [00:00<?, ?it/s]\n",
      "Training: 100%|██████████| 56/56 [00:00<00:00, 386.45it/s]\n",
      "Evaluating: 100%|██████████| 7/7 [00:00<00:00, 447.99it/s]\n",
      "Training: 100%|██████████| 56/56 [00:00<00:00, 345.78it/s]\n",
      "Evaluating: 100%|██████████| 7/7 [00:00<00:00, 447.98it/s]\n",
      "Training: 100%|██████████| 56/56 [00:00<00:00, 358.40it/s]\n",
      "Evaluating: 100%|██████████| 7/7 [00:00<?, ?it/s]\n",
      "Training: 100%|██████████| 56/56 [00:00<00:00, 336.12it/s]\n",
      "Evaluating: 100%|██████████| 7/7 [00:00<00:00, 447.99it/s]\n",
      "Training: 100%|██████████| 56/56 [00:00<00:00, 358.40it/s]\n",
      "Evaluating: 100%|██████████| 7/7 [00:00<00:00, 447.99it/s]\n",
      "Training: 100%|██████████| 56/56 [00:00<00:00, 328.97it/s]\n",
      "Evaluating: 100%|██████████| 7/7 [00:00<?, ?it/s]\n",
      "Training: 100%|██████████| 56/56 [00:00<00:00, 391.52it/s]\n",
      "Evaluating: 100%|██████████| 7/7 [00:00<00:00, 447.99it/s]\n",
      "Training: 100%|██████████| 56/56 [00:00<00:00, 339.18it/s]\n",
      "Evaluating: 100%|██████████| 7/7 [00:00<00:00, 448.00it/s]\n"
     ]
    },
    {
     "name": "stdout",
     "output_type": "stream",
     "text": [
      "Epoch 31/100\n",
      "Training Loss: 0.1179, Training Accuracy: 0.9661\n",
      "Validation Loss: 0.0720, Validation Accuracy: 1.0000\n"
     ]
    },
    {
     "name": "stderr",
     "output_type": "stream",
     "text": [
      "Training: 100%|██████████| 56/56 [00:00<00:00, 341.19it/s]\n",
      "Evaluating: 100%|██████████| 7/7 [00:00<00:00, 447.97it/s]\n",
      "Training: 100%|██████████| 56/56 [00:00<00:00, 357.96it/s]\n",
      "Evaluating: 100%|██████████| 7/7 [00:00<00:00, 448.00it/s]\n",
      "Training: 100%|██████████| 56/56 [00:00<00:00, 358.40it/s]\n",
      "Evaluating: 100%|██████████| 7/7 [00:00<00:00, 447.99it/s]\n",
      "Training: 100%|██████████| 56/56 [00:00<00:00, 325.82it/s]\n",
      "Evaluating: 100%|██████████| 7/7 [00:00<00:00, 447.99it/s]\n",
      "Training: 100%|██████████| 56/56 [00:00<00:00, 356.12it/s]\n",
      "Evaluating: 100%|██████████| 7/7 [00:00<00:00, 447.99it/s]\n",
      "Training: 100%|██████████| 56/56 [00:00<00:00, 358.40it/s]\n",
      "Evaluating: 100%|██████████| 7/7 [00:00<00:00, 448.01it/s]\n",
      "Training: 100%|██████████| 56/56 [00:00<00:00, 341.72it/s]\n",
      "Evaluating: 100%|██████████| 7/7 [00:00<00:00, 447.89it/s]\n",
      "Training: 100%|██████████| 56/56 [00:00<00:00, 343.54it/s]\n",
      "Evaluating: 100%|██████████| 7/7 [00:00<00:00, 448.00it/s]\n",
      "Training: 100%|██████████| 56/56 [00:00<00:00, 358.40it/s]\n",
      "Evaluating: 100%|██████████| 7/7 [00:00<00:00, 447.97it/s]\n",
      "Training: 100%|██████████| 56/56 [00:00<00:00, 358.40it/s]\n",
      "Evaluating: 100%|██████████| 7/7 [00:00<00:00, 447.99it/s]\n"
     ]
    },
    {
     "name": "stdout",
     "output_type": "stream",
     "text": [
      "Epoch 41/100\n",
      "Training Loss: 0.1125, Training Accuracy: 0.9707\n",
      "Validation Loss: 0.0579, Validation Accuracy: 1.0000\n"
     ]
    },
    {
     "name": "stderr",
     "output_type": "stream",
     "text": [
      "Training: 100%|██████████| 56/56 [00:00<00:00, 351.87it/s]\n",
      "Evaluating: 100%|██████████| 7/7 [00:00<?, ?it/s]\n",
      "Training: 100%|██████████| 56/56 [00:00<00:00, 360.44it/s]\n",
      "Evaluating: 100%|██████████| 7/7 [00:00<00:00, 447.99it/s]\n",
      "Training: 100%|██████████| 56/56 [00:00<00:00, 361.33it/s]\n",
      "Evaluating: 100%|██████████| 7/7 [00:00<00:00, 447.97it/s]\n",
      "Training: 100%|██████████| 56/56 [00:00<00:00, 358.40it/s]\n",
      "Evaluating: 100%|██████████| 7/7 [00:00<00:00, 447.99it/s]\n",
      "Training: 100%|██████████| 56/56 [00:00<00:00, 342.43it/s]\n",
      "Evaluating: 100%|██████████| 7/7 [00:00<00:00, 447.99it/s]\n",
      "Training: 100%|██████████| 56/56 [00:00<00:00, 374.31it/s]\n",
      "Evaluating: 100%|██████████| 7/7 [00:00<00:00, 529.81it/s]\n",
      "Training: 100%|██████████| 56/56 [00:00<00:00, 358.39it/s]\n",
      "Evaluating: 100%|██████████| 7/7 [00:00<00:00, 448.01it/s]\n",
      "Training: 100%|██████████| 56/56 [00:00<00:00, 340.73it/s]\n",
      "Evaluating: 100%|██████████| 7/7 [00:00<00:00, 447.97it/s]\n",
      "Training: 100%|██████████| 56/56 [00:00<00:00, 367.86it/s]\n",
      "Evaluating: 100%|██████████| 7/7 [00:00<?, ?it/s]\n",
      "Training: 100%|██████████| 56/56 [00:00<00:00, 343.93it/s]\n",
      "Evaluating: 100%|██████████| 7/7 [00:00<00:00, 447.99it/s]\n"
     ]
    },
    {
     "name": "stdout",
     "output_type": "stream",
     "text": [
      "Epoch 51/100\n",
      "Training Loss: 0.1052, Training Accuracy: 0.9684\n",
      "Validation Loss: 0.0559, Validation Accuracy: 1.0000\n"
     ]
    },
    {
     "name": "stderr",
     "output_type": "stream",
     "text": [
      "Training: 100%|██████████| 56/56 [00:00<00:00, 374.86it/s]\n",
      "Evaluating: 100%|██████████| 7/7 [00:00<?, ?it/s]\n",
      "Training: 100%|██████████| 56/56 [00:00<00:00, 389.88it/s]\n",
      "Evaluating: 100%|██████████| 7/7 [00:00<00:00, 447.95it/s]\n",
      "Training: 100%|██████████| 56/56 [00:00<00:00, 341.43it/s]\n",
      "Evaluating: 100%|██████████| 7/7 [00:00<00:00, 447.99it/s]\n",
      "Training: 100%|██████████| 56/56 [00:00<00:00, 358.40it/s]\n",
      "Evaluating: 100%|██████████| 7/7 [00:00<00:00, 447.99it/s]\n",
      "Training: 100%|██████████| 56/56 [00:00<00:00, 345.60it/s]\n",
      "Evaluating: 100%|██████████| 7/7 [00:00<00:00, 292.14it/s]\n",
      "Training: 100%|██████████| 56/56 [00:00<00:00, 357.92it/s]\n",
      "Evaluating: 100%|██████████| 7/7 [00:00<00:00, 447.99it/s]\n",
      "Training: 100%|██████████| 56/56 [00:00<00:00, 358.40it/s]\n",
      "Evaluating: 100%|██████████| 7/7 [00:00<00:00, 447.99it/s]\n",
      "Training: 100%|██████████| 56/56 [00:00<00:00, 343.96it/s]\n",
      "Evaluating: 100%|██████████| 7/7 [00:00<00:00, 448.01it/s]\n",
      "Training: 100%|██████████| 56/56 [00:00<00:00, 325.82it/s]\n",
      "Evaluating: 100%|██████████| 7/7 [00:00<00:00, 447.99it/s]\n",
      "Training: 100%|██████████| 56/56 [00:00<00:00, 358.40it/s]\n",
      "Evaluating: 100%|██████████| 7/7 [00:00<00:00, 432.52it/s]\n"
     ]
    },
    {
     "name": "stdout",
     "output_type": "stream",
     "text": [
      "Epoch 61/100\n",
      "Training Loss: 0.1000, Training Accuracy: 0.9684\n",
      "Validation Loss: 0.0559, Validation Accuracy: 1.0000\n"
     ]
    },
    {
     "name": "stderr",
     "output_type": "stream",
     "text": [
      "Training: 100%|██████████| 56/56 [00:00<00:00, 353.26it/s]\n",
      "Evaluating: 100%|██████████| 7/7 [00:00<00:00, 447.96it/s]\n",
      "Training: 100%|██████████| 56/56 [00:00<00:00, 325.82it/s]\n",
      "Evaluating: 100%|██████████| 7/7 [00:00<00:00, 447.99it/s]\n",
      "Training: 100%|██████████| 56/56 [00:00<00:00, 363.78it/s]\n",
      "Evaluating: 100%|██████████| 7/7 [00:00<00:00, 447.99it/s]\n",
      "Training: 100%|██████████| 56/56 [00:00<00:00, 325.82it/s]\n",
      "Evaluating: 100%|██████████| 7/7 [00:00<?, ?it/s]\n",
      "Training: 100%|██████████| 56/56 [00:00<00:00, 358.40it/s]\n",
      "Evaluating: 100%|██████████| 7/7 [00:00<00:00, 447.99it/s]\n",
      "Training: 100%|██████████| 56/56 [00:00<00:00, 362.96it/s]\n",
      "Evaluating: 100%|██████████| 7/7 [00:00<00:00, 447.91it/s]\n",
      "Training: 100%|██████████| 56/56 [00:00<00:00, 363.60it/s]\n",
      "Evaluating: 100%|██████████| 7/7 [00:00<00:00, 448.00it/s]\n",
      "Training: 100%|██████████| 56/56 [00:00<00:00, 353.86it/s]\n",
      "Evaluating: 100%|██████████| 7/7 [00:00<00:00, 447.97it/s]\n",
      "Training: 100%|██████████| 56/56 [00:00<00:00, 354.05it/s]\n",
      "Evaluating: 100%|██████████| 7/7 [00:00<?, ?it/s]\n",
      "Training: 100%|██████████| 56/56 [00:00<00:00, 376.14it/s]\n",
      "Evaluating: 100%|██████████| 7/7 [00:00<00:00, 447.97it/s]\n"
     ]
    },
    {
     "name": "stdout",
     "output_type": "stream",
     "text": [
      "Epoch 71/100\n",
      "Training Loss: 0.0958, Training Accuracy: 0.9661\n",
      "Validation Loss: 0.0489, Validation Accuracy: 1.0000\n"
     ]
    },
    {
     "name": "stderr",
     "output_type": "stream",
     "text": [
      "Training: 100%|██████████| 56/56 [00:00<00:00, 317.88it/s]\n",
      "Evaluating: 100%|██████████| 7/7 [00:00<00:00, 417.07it/s]\n",
      "Training: 100%|██████████| 56/56 [00:00<00:00, 336.16it/s]\n",
      "Evaluating: 100%|██████████| 7/7 [00:00<00:00, 447.95it/s]\n",
      "Training: 100%|██████████| 56/56 [00:00<00:00, 358.40it/s]\n",
      "Evaluating: 100%|██████████| 7/7 [00:00<00:00, 447.98it/s]\n",
      "Training: 100%|██████████| 56/56 [00:00<00:00, 358.40it/s]\n",
      "Evaluating: 100%|██████████| 7/7 [00:00<00:00, 447.99it/s]\n",
      "Training: 100%|██████████| 56/56 [00:00<00:00, 337.91it/s]\n",
      "Evaluating: 100%|██████████| 7/7 [00:00<00:00, 447.99it/s]\n",
      "Training: 100%|██████████| 56/56 [00:00<00:00, 341.33it/s]\n",
      "Evaluating: 100%|██████████| 7/7 [00:00<00:00, 448.01it/s]\n",
      "Training: 100%|██████████| 56/56 [00:00<00:00, 358.40it/s]\n",
      "Evaluating: 100%|██████████| 7/7 [00:00<?, ?it/s]\n",
      "Training: 100%|██████████| 56/56 [00:00<00:00, 358.40it/s]\n",
      "Evaluating: 100%|██████████| 7/7 [00:00<00:00, 447.96it/s]\n",
      "Training: 100%|██████████| 56/56 [00:00<00:00, 347.19it/s]\n",
      "Evaluating: 100%|██████████| 7/7 [00:00<00:00, 396.86it/s]\n",
      "Training: 100%|██████████| 56/56 [00:00<00:00, 377.39it/s]\n",
      "Evaluating: 100%|██████████| 7/7 [00:00<00:00, 448.01it/s]\n"
     ]
    },
    {
     "name": "stdout",
     "output_type": "stream",
     "text": [
      "Epoch 81/100\n",
      "Training Loss: 0.0918, Training Accuracy: 0.9752\n",
      "Validation Loss: 0.0514, Validation Accuracy: 1.0000\n"
     ]
    },
    {
     "name": "stderr",
     "output_type": "stream",
     "text": [
      "Training: 100%|██████████| 56/56 [00:00<00:00, 345.79it/s]\n",
      "Evaluating: 100%|██████████| 7/7 [00:00<00:00, 447.98it/s]\n",
      "Training: 100%|██████████| 56/56 [00:00<00:00, 358.40it/s]\n",
      "Evaluating: 100%|██████████| 7/7 [00:00<00:00, 447.98it/s]\n",
      "Training: 100%|██████████| 56/56 [00:00<00:00, 345.43it/s]\n",
      "Evaluating: 100%|██████████| 7/7 [00:00<?, ?it/s]\n",
      "Training: 100%|██████████| 56/56 [00:00<00:00, 398.22it/s]\n",
      "Evaluating: 100%|██████████| 7/7 [00:00<00:00, 448.01it/s]\n",
      "Training: 100%|██████████| 56/56 [00:00<00:00, 358.40it/s]\n",
      "Evaluating: 100%|██████████| 7/7 [00:00<00:00, 447.99it/s]\n",
      "Training: 100%|██████████| 56/56 [00:00<00:00, 351.30it/s]\n",
      "Evaluating: 100%|██████████| 7/7 [00:00<00:00, 448.01it/s]\n",
      "Training: 100%|██████████| 56/56 [00:00<00:00, 358.40it/s]\n",
      "Evaluating: 100%|██████████| 7/7 [00:00<00:00, 447.97it/s]\n",
      "Training: 100%|██████████| 56/56 [00:00<00:00, 382.70it/s]\n",
      "Evaluating: 100%|██████████| 7/7 [00:00<00:00, 447.97it/s]\n",
      "Training: 100%|██████████| 56/56 [00:00<00:00, 364.82it/s]\n",
      "Evaluating: 100%|██████████| 7/7 [00:00<00:00, 448.00it/s]\n",
      "Training: 100%|██████████| 56/56 [00:00<00:00, 358.40it/s]\n",
      "Evaluating: 100%|██████████| 7/7 [00:00<00:00, 447.99it/s]\n"
     ]
    },
    {
     "name": "stdout",
     "output_type": "stream",
     "text": [
      "Epoch 91/100\n",
      "Training Loss: 0.0875, Training Accuracy: 0.9752\n",
      "Validation Loss: 0.0444, Validation Accuracy: 1.0000\n"
     ]
    },
    {
     "name": "stderr",
     "output_type": "stream",
     "text": [
      "Training: 100%|██████████| 56/56 [00:00<00:00, 357.13it/s]\n",
      "Evaluating: 100%|██████████| 7/7 [00:00<00:00, 447.97it/s]\n",
      "Training: 100%|██████████| 56/56 [00:00<00:00, 362.00it/s]\n",
      "Evaluating: 100%|██████████| 7/7 [00:00<00:00, 448.01it/s]\n",
      "Training: 100%|██████████| 56/56 [00:00<00:00, 358.40it/s]\n",
      "Evaluating: 100%|██████████| 7/7 [00:00<00:00, 448.00it/s]\n",
      "Training: 100%|██████████| 56/56 [00:00<00:00, 358.40it/s]\n",
      "Evaluating: 100%|██████████| 7/7 [00:00<00:00, 447.99it/s]\n",
      "Training: 100%|██████████| 56/56 [00:00<00:00, 356.81it/s]\n",
      "Evaluating: 100%|██████████| 7/7 [00:00<00:00, 262.07it/s]\n",
      "Training: 100%|██████████| 56/56 [00:00<00:00, 263.10it/s]\n",
      "Evaluating: 100%|██████████| 7/7 [00:00<00:00, 1706.69it/s]\n",
      "Training: 100%|██████████| 56/56 [00:00<00:00, 307.41it/s]\n",
      "Evaluating: 100%|██████████| 7/7 [00:00<00:00, 396.82it/s]\n",
      "Training: 100%|██████████| 56/56 [00:00<00:00, 345.44it/s]\n",
      "Evaluating: 100%|██████████| 7/7 [00:00<00:00, 447.99it/s]\n",
      "Training: 100%|██████████| 56/56 [00:00<00:00, 370.87it/s]\n",
      "Evaluating: 100%|██████████| 7/7 [00:00<00:00, 447.99it/s]\n"
     ]
    },
    {
     "name": "stdout",
     "output_type": "stream",
     "text": [
      "Epoch 100/100\n",
      "Training Loss: 0.0849, Training Accuracy: 0.9752\n",
      "Validation Loss: 0.0447, Validation Accuracy: 1.0000\n",
      "Fold 5/10\n"
     ]
    },
    {
     "name": "stderr",
     "output_type": "stream",
     "text": [
      "Training: 100%|██████████| 56/56 [00:00<00:00, 333.44it/s]\n",
      "Evaluating: 100%|██████████| 7/7 [00:00<00:00, 447.98it/s]\n"
     ]
    },
    {
     "name": "stdout",
     "output_type": "stream",
     "text": [
      "Epoch 1/100\n",
      "Training Loss: 1.2189, Training Accuracy: 0.7494\n",
      "Validation Loss: 0.8054, Validation Accuracy: 0.7143\n"
     ]
    },
    {
     "name": "stderr",
     "output_type": "stream",
     "text": [
      "Training: 100%|██████████| 56/56 [00:00<00:00, 370.21it/s]\n",
      "Evaluating: 100%|██████████| 7/7 [00:00<00:00, 448.01it/s]\n",
      "Training: 100%|██████████| 56/56 [00:00<00:00, 342.25it/s]\n",
      "Evaluating: 100%|██████████| 7/7 [00:00<00:00, 3208.76it/s]\n",
      "Training: 100%|██████████| 56/56 [00:00<00:00, 338.85it/s]\n",
      "Evaluating: 100%|██████████| 7/7 [00:00<?, ?it/s]\n",
      "Training: 100%|██████████| 56/56 [00:00<00:00, 340.70it/s]\n",
      "Evaluating: 100%|██████████| 7/7 [00:00<?, ?it/s]\n",
      "Training: 100%|██████████| 56/56 [00:00<00:00, 336.19it/s]\n",
      "Evaluating: 100%|██████████| 7/7 [00:00<?, ?it/s]\n",
      "Training: 100%|██████████| 56/56 [00:00<00:00, 372.85it/s]\n",
      "Evaluating: 100%|██████████| 7/7 [00:00<?, ?it/s]\n",
      "Training: 100%|██████████| 56/56 [00:00<00:00, 330.94it/s]\n",
      "Evaluating: 100%|██████████| 7/7 [00:00<00:00, 371.48it/s]\n",
      "Training: 100%|██████████| 56/56 [00:00<00:00, 357.00it/s]\n",
      "Evaluating: 100%|██████████| 7/7 [00:00<00:00, 2077.42it/s]\n",
      "Training: 100%|██████████| 56/56 [00:00<00:00, 337.85it/s]\n",
      "Evaluating: 100%|██████████| 7/7 [00:00<00:00, 447.99it/s]\n",
      "Training: 100%|██████████| 56/56 [00:00<00:00, 361.46it/s]\n",
      "Evaluating: 100%|██████████| 7/7 [00:00<00:00, 447.95it/s]\n"
     ]
    },
    {
     "name": "stdout",
     "output_type": "stream",
     "text": [
      "Epoch 11/100\n",
      "Training Loss: 0.1242, Training Accuracy: 0.9616\n",
      "Validation Loss: 0.2217, Validation Accuracy: 0.8980\n"
     ]
    },
    {
     "name": "stderr",
     "output_type": "stream",
     "text": [
      "Training: 100%|██████████| 56/56 [00:00<00:00, 338.63it/s]\n",
      "Evaluating: 100%|██████████| 7/7 [00:00<00:00, 447.97it/s]\n",
      "Training: 100%|██████████| 56/56 [00:00<00:00, 370.74it/s]\n",
      "Evaluating: 100%|██████████| 7/7 [00:00<00:00, 447.98it/s]\n",
      "Training: 100%|██████████| 56/56 [00:00<00:00, 370.35it/s]\n",
      "Evaluating: 100%|██████████| 7/7 [00:00<00:00, 447.96it/s]\n",
      "Training: 100%|██████████| 56/56 [00:00<00:00, 324.64it/s]\n",
      "Evaluating: 100%|██████████| 7/7 [00:00<00:00, 425.10it/s]\n",
      "Training: 100%|██████████| 56/56 [00:00<00:00, 344.81it/s]\n",
      "Evaluating: 100%|██████████| 7/7 [00:00<00:00, 377.80it/s]\n",
      "Training: 100%|██████████| 56/56 [00:00<00:00, 355.00it/s]\n",
      "Evaluating: 100%|██████████| 7/7 [00:00<00:00, 1133.90it/s]\n",
      "Training: 100%|██████████| 56/56 [00:00<00:00, 337.90it/s]\n",
      "Evaluating: 100%|██████████| 7/7 [00:00<00:00, 447.98it/s]\n",
      "Training: 100%|██████████| 56/56 [00:00<00:00, 358.28it/s]\n",
      "Evaluating: 100%|██████████| 7/7 [00:00<00:00, 434.35it/s]\n",
      "Training: 100%|██████████| 56/56 [00:00<00:00, 345.67it/s]\n",
      "Evaluating: 100%|██████████| 7/7 [00:00<?, ?it/s]\n",
      "Training: 100%|██████████| 56/56 [00:00<00:00, 335.76it/s]\n",
      "Evaluating: 100%|██████████| 7/7 [00:00<00:00, 369.79it/s]\n"
     ]
    },
    {
     "name": "stdout",
     "output_type": "stream",
     "text": [
      "Epoch 21/100\n",
      "Training Loss: 0.1154, Training Accuracy: 0.9639\n",
      "Validation Loss: 0.2159, Validation Accuracy: 0.8980\n"
     ]
    },
    {
     "name": "stderr",
     "output_type": "stream",
     "text": [
      "Training: 100%|██████████| 56/56 [00:00<00:00, 332.25it/s]\n",
      "Evaluating: 100%|██████████| 7/7 [00:00<00:00, 416.12it/s]\n",
      "Training: 100%|██████████| 56/56 [00:00<00:00, 313.43it/s]\n",
      "Evaluating: 100%|██████████| 7/7 [00:00<00:00, 2361.47it/s]\n",
      "Training: 100%|██████████| 56/56 [00:00<00:00, 337.01it/s]\n",
      "Evaluating: 100%|██████████| 7/7 [00:00<00:00, 394.67it/s]\n",
      "Training: 100%|██████████| 56/56 [00:00<00:00, 337.53it/s]\n",
      "Evaluating: 100%|██████████| 7/7 [00:00<00:00, 441.22it/s]\n",
      "Training: 100%|██████████| 56/56 [00:00<00:00, 341.52it/s]\n",
      "Evaluating: 100%|██████████| 7/7 [00:00<00:00, 589.64it/s]\n",
      "Training: 100%|██████████| 56/56 [00:00<00:00, 334.11it/s]\n",
      "Evaluating: 100%|██████████| 7/7 [00:00<00:00, 636.42it/s]\n",
      "Training: 100%|██████████| 56/56 [00:00<00:00, 340.57it/s]\n",
      "Evaluating: 100%|██████████| 7/7 [00:00<00:00, 538.53it/s]\n",
      "Training: 100%|██████████| 56/56 [00:00<00:00, 338.28it/s]\n",
      "Evaluating: 100%|██████████| 7/7 [00:00<00:00, 493.72it/s]\n",
      "Training: 100%|██████████| 56/56 [00:00<00:00, 336.31it/s]\n",
      "Evaluating: 100%|██████████| 7/7 [00:00<00:00, 1076.80it/s]\n",
      "Training: 100%|██████████| 56/56 [00:00<00:00, 340.60it/s]\n",
      "Evaluating: 100%|██████████| 7/7 [00:00<00:00, 447.96it/s]\n"
     ]
    },
    {
     "name": "stdout",
     "output_type": "stream",
     "text": [
      "Epoch 31/100\n",
      "Training Loss: 0.1070, Training Accuracy: 0.9707\n",
      "Validation Loss: 0.2149, Validation Accuracy: 0.9184\n"
     ]
    },
    {
     "name": "stderr",
     "output_type": "stream",
     "text": [
      "Training: 100%|██████████| 56/56 [00:00<00:00, 330.50it/s]\n",
      "Evaluating: 100%|██████████| 7/7 [00:00<00:00, 349.16it/s]\n",
      "Training: 100%|██████████| 56/56 [00:00<00:00, 339.78it/s]\n",
      "Evaluating: 100%|██████████| 7/7 [00:00<?, ?it/s]\n",
      "Training: 100%|██████████| 56/56 [00:00<00:00, 336.40it/s]\n",
      "Evaluating: 100%|██████████| 7/7 [00:00<00:00, 447.98it/s]\n",
      "Training: 100%|██████████| 56/56 [00:00<00:00, 338.00it/s]\n",
      "Evaluating: 100%|██████████| 7/7 [00:00<00:00, 447.95it/s]\n",
      "Training: 100%|██████████| 56/56 [00:00<00:00, 362.34it/s]\n",
      "Evaluating: 100%|██████████| 7/7 [00:00<00:00, 1813.14it/s]\n",
      "Training: 100%|██████████| 56/56 [00:00<00:00, 305.07it/s]\n",
      "Evaluating: 100%|██████████| 7/7 [00:00<00:00, 415.93it/s]\n",
      "Training: 100%|██████████| 56/56 [00:00<00:00, 363.53it/s]\n",
      "Evaluating: 100%|██████████| 7/7 [00:00<00:00, 518.95it/s]\n",
      "Training: 100%|██████████| 56/56 [00:00<00:00, 336.76it/s]\n",
      "Evaluating: 100%|██████████| 7/7 [00:00<00:00, 449.19it/s]\n",
      "Training: 100%|██████████| 56/56 [00:00<00:00, 337.61it/s]\n",
      "Evaluating: 100%|██████████| 7/7 [00:00<00:00, 447.97it/s]\n",
      "Training: 100%|██████████| 56/56 [00:00<00:00, 325.51it/s]\n",
      "Evaluating: 100%|██████████| 7/7 [00:00<00:00, 574.00it/s]\n"
     ]
    },
    {
     "name": "stdout",
     "output_type": "stream",
     "text": [
      "Epoch 41/100\n",
      "Training Loss: 0.1004, Training Accuracy: 0.9774\n",
      "Validation Loss: 0.2053, Validation Accuracy: 0.8980\n"
     ]
    },
    {
     "name": "stderr",
     "output_type": "stream",
     "text": [
      "Training: 100%|██████████| 56/56 [00:00<00:00, 346.47it/s]\n",
      "Evaluating: 100%|██████████| 7/7 [00:00<?, ?it/s]\n",
      "Training: 100%|██████████| 56/56 [00:00<00:00, 337.82it/s]\n",
      "Evaluating: 100%|██████████| 7/7 [00:00<00:00, 352.87it/s]\n",
      "Training: 100%|██████████| 56/56 [00:00<00:00, 342.52it/s]\n",
      "Evaluating: 100%|██████████| 7/7 [00:00<00:00, 447.99it/s]\n",
      "Training: 100%|██████████| 56/56 [00:00<00:00, 375.44it/s]\n",
      "Evaluating: 100%|██████████| 7/7 [00:00<00:00, 420.32it/s]\n",
      "Training: 100%|██████████| 56/56 [00:00<00:00, 322.34it/s]\n",
      "Evaluating: 100%|██████████| 7/7 [00:00<00:00, 618.67it/s]\n",
      "Training: 100%|██████████| 56/56 [00:00<00:00, 379.74it/s]\n",
      "Evaluating: 100%|██████████| 7/7 [00:00<00:00, 1846.20it/s]\n",
      "Training: 100%|██████████| 56/56 [00:00<00:00, 341.09it/s]\n",
      "Evaluating: 100%|██████████| 7/7 [00:00<00:00, 447.99it/s]\n",
      "Training: 100%|██████████| 56/56 [00:00<00:00, 339.48it/s]\n",
      "Evaluating: 100%|██████████| 7/7 [00:00<00:00, 3615.33it/s]\n",
      "Training: 100%|██████████| 56/56 [00:00<00:00, 329.87it/s]\n",
      "Evaluating: 100%|██████████| 7/7 [00:00<00:00, 2577.71it/s]\n",
      "Training: 100%|██████████| 56/56 [00:00<00:00, 341.52it/s]\n",
      "Evaluating: 100%|██████████| 7/7 [00:00<00:00, 447.98it/s]\n"
     ]
    },
    {
     "name": "stdout",
     "output_type": "stream",
     "text": [
      "Epoch 51/100\n",
      "Training Loss: 0.0977, Training Accuracy: 0.9774\n",
      "Validation Loss: 0.2056, Validation Accuracy: 0.9184\n"
     ]
    },
    {
     "name": "stderr",
     "output_type": "stream",
     "text": [
      "Training: 100%|██████████| 56/56 [00:00<00:00, 329.09it/s]\n",
      "Evaluating: 100%|██████████| 7/7 [00:00<00:00, 405.45it/s]\n",
      "Training: 100%|██████████| 56/56 [00:00<00:00, 336.12it/s]\n",
      "Evaluating: 100%|██████████| 7/7 [00:00<00:00, 420.95it/s]\n",
      "Training: 100%|██████████| 56/56 [00:00<00:00, 338.37it/s]\n",
      "Evaluating: 100%|██████████| 7/7 [00:00<00:00, 347.59it/s]\n",
      "Training: 100%|██████████| 56/56 [00:00<00:00, 335.23it/s]\n",
      "Evaluating: 100%|██████████| 7/7 [00:00<00:00, 504.59it/s]\n",
      "Training: 100%|██████████| 56/56 [00:00<00:00, 336.92it/s]\n",
      "Evaluating: 100%|██████████| 7/7 [00:00<00:00, 475.50it/s]\n",
      "Training: 100%|██████████| 56/56 [00:00<00:00, 353.66it/s]\n",
      "Evaluating: 100%|██████████| 7/7 [00:00<00:00, 636.46it/s]\n",
      "Training: 100%|██████████| 56/56 [00:00<00:00, 351.60it/s]\n",
      "Evaluating: 100%|██████████| 7/7 [00:00<00:00, 549.86it/s]\n",
      "Training: 100%|██████████| 56/56 [00:00<00:00, 339.83it/s]\n",
      "Evaluating: 100%|██████████| 7/7 [00:00<00:00, 402.14it/s]\n",
      "Training: 100%|██████████| 56/56 [00:00<00:00, 353.48it/s]\n",
      "Evaluating: 100%|██████████| 7/7 [00:00<00:00, 4007.11it/s]\n",
      "Training: 100%|██████████| 56/56 [00:00<00:00, 301.56it/s]\n",
      "Evaluating: 100%|██████████| 7/7 [00:00<00:00, 429.52it/s]\n"
     ]
    },
    {
     "name": "stdout",
     "output_type": "stream",
     "text": [
      "Epoch 61/100\n",
      "Training Loss: 0.0922, Training Accuracy: 0.9752\n",
      "Validation Loss: 0.1968, Validation Accuracy: 0.8980\n"
     ]
    },
    {
     "name": "stderr",
     "output_type": "stream",
     "text": [
      "Training: 100%|██████████| 56/56 [00:00<00:00, 339.82it/s]\n",
      "Evaluating: 100%|██████████| 7/7 [00:00<00:00, 447.97it/s]\n",
      "Training: 100%|██████████| 56/56 [00:00<00:00, 335.26it/s]\n",
      "Evaluating: 100%|██████████| 7/7 [00:00<00:00, 5267.34it/s]\n",
      "Training: 100%|██████████| 56/56 [00:00<00:00, 340.04it/s]\n",
      "Evaluating: 100%|██████████| 7/7 [00:00<00:00, 424.65it/s]\n",
      "Training: 100%|██████████| 56/56 [00:00<00:00, 349.40it/s]\n",
      "Evaluating: 100%|██████████| 7/7 [00:00<00:00, 1330.38it/s]\n",
      "Training: 100%|██████████| 56/56 [00:00<00:00, 339.41it/s]\n",
      "Evaluating: 100%|██████████| 7/7 [00:00<?, ?it/s]\n",
      "Training: 100%|██████████| 56/56 [00:00<00:00, 366.98it/s]\n",
      "Evaluating: 100%|██████████| 7/7 [00:00<00:00, 447.95it/s]\n",
      "Training: 100%|██████████| 56/56 [00:00<00:00, 327.60it/s]\n",
      "Evaluating: 100%|██████████| 7/7 [00:00<00:00, 417.24it/s]\n",
      "Training: 100%|██████████| 56/56 [00:00<00:00, 335.85it/s]\n",
      "Evaluating: 100%|██████████| 7/7 [00:00<00:00, 436.57it/s]\n",
      "Training: 100%|██████████| 56/56 [00:00<00:00, 341.33it/s]\n",
      "Evaluating: 100%|██████████| 7/7 [00:00<00:00, 448.01it/s]\n",
      "Training: 100%|██████████| 56/56 [00:00<00:00, 332.04it/s]\n",
      "Evaluating: 100%|██████████| 7/7 [00:00<?, ?it/s]\n"
     ]
    },
    {
     "name": "stdout",
     "output_type": "stream",
     "text": [
      "Epoch 71/100\n",
      "Training Loss: 0.0851, Training Accuracy: 0.9819\n",
      "Validation Loss: 0.2049, Validation Accuracy: 0.9184\n"
     ]
    },
    {
     "name": "stderr",
     "output_type": "stream",
     "text": [
      "Training: 100%|██████████| 56/56 [00:00<00:00, 372.27it/s]\n",
      "Evaluating: 100%|██████████| 7/7 [00:00<00:00, 447.99it/s]\n",
      "Training: 100%|██████████| 56/56 [00:00<00:00, 335.92it/s]\n",
      "Evaluating: 100%|██████████| 7/7 [00:00<00:00, 316.68it/s]\n",
      "Training: 100%|██████████| 56/56 [00:00<00:00, 362.33it/s]\n",
      "Evaluating: 100%|██████████| 7/7 [00:00<00:00, 1332.92it/s]\n",
      "Training: 100%|██████████| 56/56 [00:00<00:00, 335.46it/s]\n",
      "Evaluating: 100%|██████████| 7/7 [00:00<?, ?it/s]\n",
      "Training: 100%|██████████| 56/56 [00:00<00:00, 363.67it/s]\n",
      "Evaluating: 100%|██████████| 7/7 [00:00<00:00, 365.51it/s]\n",
      "Training: 100%|██████████| 56/56 [00:00<00:00, 387.07it/s]\n",
      "Evaluating: 100%|██████████| 7/7 [00:00<00:00, 448.01it/s]\n",
      "Training: 100%|██████████| 56/56 [00:00<00:00, 333.28it/s]\n",
      "Evaluating: 100%|██████████| 7/7 [00:00<00:00, 447.96it/s]\n",
      "Training: 100%|██████████| 56/56 [00:00<00:00, 334.30it/s]\n",
      "Evaluating: 100%|██████████| 7/7 [00:00<00:00, 355.94it/s]\n",
      "Training: 100%|██████████| 56/56 [00:00<00:00, 356.75it/s]\n",
      "Evaluating: 100%|██████████| 7/7 [00:00<00:00, 1391.61it/s]\n",
      "Training: 100%|██████████| 56/56 [00:00<00:00, 328.78it/s]\n",
      "Evaluating: 100%|██████████| 7/7 [00:00<00:00, 414.38it/s]\n"
     ]
    },
    {
     "name": "stdout",
     "output_type": "stream",
     "text": [
      "Epoch 81/100\n",
      "Training Loss: 0.0816, Training Accuracy: 0.9752\n",
      "Validation Loss: 0.1890, Validation Accuracy: 0.8980\n"
     ]
    },
    {
     "name": "stderr",
     "output_type": "stream",
     "text": [
      "Training: 100%|██████████| 56/56 [00:00<00:00, 337.17it/s]\n",
      "Evaluating: 100%|██████████| 7/7 [00:00<00:00, 442.04it/s]\n",
      "Training: 100%|██████████| 56/56 [00:00<00:00, 342.57it/s]\n",
      "Evaluating: 100%|██████████| 7/7 [00:00<?, ?it/s]\n",
      "Training: 100%|██████████| 56/56 [00:00<00:00, 340.05it/s]\n",
      "Evaluating: 100%|██████████| 7/7 [00:00<00:00, 447.98it/s]\n",
      "Training: 100%|██████████| 56/56 [00:00<00:00, 326.65it/s]\n",
      "Evaluating: 100%|██████████| 7/7 [00:00<00:00, 423.46it/s]\n",
      "Training: 100%|██████████| 56/56 [00:00<00:00, 338.48it/s]\n",
      "Evaluating: 100%|██████████| 7/7 [00:00<00:00, 408.90it/s]\n",
      "Training: 100%|██████████| 56/56 [00:00<00:00, 332.97it/s]\n",
      "Evaluating: 100%|██████████| 7/7 [00:00<00:00, 506.25it/s]\n",
      "Training: 100%|██████████| 56/56 [00:00<00:00, 338.80it/s]\n",
      "Evaluating: 100%|██████████| 7/7 [00:00<00:00, 597.11it/s]\n",
      "Training: 100%|██████████| 56/56 [00:00<00:00, 346.44it/s]\n",
      "Evaluating: 100%|██████████| 7/7 [00:00<00:00, 500.04it/s]\n",
      "Training: 100%|██████████| 56/56 [00:00<00:00, 345.38it/s]\n",
      "Evaluating: 100%|██████████| 7/7 [00:00<00:00, 487.75it/s]\n",
      "Training: 100%|██████████| 56/56 [00:00<00:00, 341.47it/s]\n",
      "Evaluating: 100%|██████████| 7/7 [00:00<00:00, 506.03it/s]\n"
     ]
    },
    {
     "name": "stdout",
     "output_type": "stream",
     "text": [
      "Epoch 91/100\n",
      "Training Loss: 0.0768, Training Accuracy: 0.9797\n",
      "Validation Loss: 0.1841, Validation Accuracy: 0.9184\n"
     ]
    },
    {
     "name": "stderr",
     "output_type": "stream",
     "text": [
      "Training: 100%|██████████| 56/56 [00:00<00:00, 348.33it/s]\n",
      "Evaluating: 100%|██████████| 7/7 [00:00<00:00, 443.17it/s]\n",
      "Training: 100%|██████████| 56/56 [00:00<00:00, 342.21it/s]\n",
      "Evaluating: 100%|██████████| 7/7 [00:00<?, ?it/s]\n",
      "Training: 100%|██████████| 56/56 [00:00<00:00, 332.48it/s]\n",
      "Evaluating: 100%|██████████| 7/7 [00:00<00:00, 270.80it/s]\n",
      "Training: 100%|██████████| 56/56 [00:00<00:00, 358.80it/s]\n",
      "Evaluating: 100%|██████████| 7/7 [00:00<00:00, 448.00it/s]\n",
      "Training: 100%|██████████| 56/56 [00:00<00:00, 334.71it/s]\n",
      "Evaluating: 100%|██████████| 7/7 [00:00<?, ?it/s]\n",
      "Training: 100%|██████████| 56/56 [00:00<00:00, 340.84it/s]\n",
      "Evaluating: 100%|██████████| 7/7 [00:00<00:00, 447.99it/s]\n",
      "Training: 100%|██████████| 56/56 [00:00<00:00, 359.84it/s]\n",
      "Evaluating: 100%|██████████| 7/7 [00:00<00:00, 1769.96it/s]\n",
      "Training: 100%|██████████| 56/56 [00:00<00:00, 318.40it/s]\n",
      "Evaluating: 100%|██████████| 7/7 [00:00<00:00, 3403.68it/s]\n",
      "Training: 100%|██████████| 56/56 [00:00<00:00, 310.07it/s]\n",
      "Evaluating: 100%|██████████| 7/7 [00:00<00:00, 494.41it/s]\n"
     ]
    },
    {
     "name": "stdout",
     "output_type": "stream",
     "text": [
      "Epoch 100/100\n",
      "Training Loss: 0.0760, Training Accuracy: 0.9797\n",
      "Validation Loss: 0.1890, Validation Accuracy: 0.9184\n",
      "Fold 6/10\n"
     ]
    },
    {
     "name": "stderr",
     "output_type": "stream",
     "text": [
      "Training: 100%|██████████| 56/56 [00:00<00:00, 345.23it/s]\n",
      "Evaluating: 100%|██████████| 7/7 [00:00<00:00, 2620.27it/s]\n"
     ]
    },
    {
     "name": "stdout",
     "output_type": "stream",
     "text": [
      "Epoch 1/100\n",
      "Training Loss: 1.3080, Training Accuracy: 0.7404\n",
      "Validation Loss: 0.6883, Validation Accuracy: 0.6735\n"
     ]
    },
    {
     "name": "stderr",
     "output_type": "stream",
     "text": [
      "Training: 100%|██████████| 56/56 [00:00<00:00, 318.57it/s]\n",
      "Evaluating: 100%|██████████| 7/7 [00:00<00:00, 698.39it/s]\n",
      "Training: 100%|██████████| 56/56 [00:00<00:00, 342.50it/s]\n",
      "Evaluating: 100%|██████████| 7/7 [00:00<00:00, 359.69it/s]\n",
      "Training: 100%|██████████| 56/56 [00:00<00:00, 371.60it/s]\n",
      "Evaluating: 100%|██████████| 7/7 [00:00<00:00, 269.17it/s]\n",
      "Training: 100%|██████████| 56/56 [00:00<00:00, 358.57it/s]\n",
      "Evaluating: 100%|██████████| 7/7 [00:00<00:00, 319.83it/s]\n",
      "Training: 100%|██████████| 56/56 [00:00<00:00, 349.09it/s]\n",
      "Evaluating: 100%|██████████| 7/7 [00:00<00:00, 649.85it/s]\n",
      "Training: 100%|██████████| 56/56 [00:00<00:00, 372.40it/s]\n",
      "Evaluating: 100%|██████████| 7/7 [00:00<00:00, 285.18it/s]\n",
      "Training: 100%|██████████| 56/56 [00:00<00:00, 345.77it/s]\n",
      "Evaluating: 100%|██████████| 7/7 [00:00<00:00, 276.08it/s]\n",
      "Training: 100%|██████████| 56/56 [00:00<00:00, 363.84it/s]\n",
      "Evaluating: 100%|██████████| 7/7 [00:00<00:00, 371.28it/s]\n",
      "Training: 100%|██████████| 56/56 [00:00<00:00, 338.13it/s]\n",
      "Evaluating: 100%|██████████| 7/7 [00:00<?, ?it/s]\n",
      "Training: 100%|██████████| 56/56 [00:00<00:00, 337.76it/s]\n",
      "Evaluating: 100%|██████████| 7/7 [00:00<?, ?it/s]\n"
     ]
    },
    {
     "name": "stdout",
     "output_type": "stream",
     "text": [
      "Epoch 11/100\n",
      "Training Loss: 0.1339, Training Accuracy: 0.9571\n",
      "Validation Loss: 0.1231, Validation Accuracy: 0.9796\n"
     ]
    },
    {
     "name": "stderr",
     "output_type": "stream",
     "text": [
      "Training: 100%|██████████| 56/56 [00:00<00:00, 337.22it/s]\n",
      "Evaluating: 100%|██████████| 7/7 [00:00<00:00, 448.01it/s]\n",
      "Training: 100%|██████████| 56/56 [00:00<00:00, 336.07it/s]\n",
      "Evaluating: 100%|██████████| 7/7 [00:00<00:00, 349.72it/s]\n",
      "Training: 100%|██████████| 56/56 [00:00<00:00, 378.77it/s]\n",
      "Evaluating: 100%|██████████| 7/7 [00:00<00:00, 341.02it/s]\n",
      "Training: 100%|██████████| 56/56 [00:00<00:00, 310.86it/s]\n",
      "Evaluating: 100%|██████████| 7/7 [00:00<00:00, 5144.58it/s]\n",
      "Training: 100%|██████████| 56/56 [00:00<00:00, 314.49it/s]\n",
      "Evaluating: 100%|██████████| 7/7 [00:00<00:00, 522.75it/s]\n",
      "Training: 100%|██████████| 56/56 [00:00<00:00, 351.65it/s]\n",
      "Evaluating: 100%|██████████| 7/7 [00:00<00:00, 466.65it/s]\n",
      "Training: 100%|██████████| 56/56 [00:00<00:00, 358.32it/s]\n",
      "Evaluating: 100%|██████████| 7/7 [00:00<00:00, 347.45it/s]\n",
      "Training: 100%|██████████| 56/56 [00:00<00:00, 325.02it/s]\n",
      "Evaluating: 100%|██████████| 7/7 [00:00<00:00, 466.69it/s]\n",
      "Training: 100%|██████████| 56/56 [00:00<00:00, 350.63it/s]\n",
      "Evaluating: 100%|██████████| 7/7 [00:00<00:00, 404.83it/s]\n",
      "Training: 100%|██████████| 56/56 [00:00<00:00, 314.11it/s]\n",
      "Evaluating: 100%|██████████| 7/7 [00:00<00:00, 555.97it/s]\n"
     ]
    },
    {
     "name": "stdout",
     "output_type": "stream",
     "text": [
      "Epoch 21/100\n",
      "Training Loss: 0.1281, Training Accuracy: 0.9661\n",
      "Validation Loss: 0.1186, Validation Accuracy: 0.9796\n"
     ]
    },
    {
     "name": "stderr",
     "output_type": "stream",
     "text": [
      "Training: 100%|██████████| 56/56 [00:00<00:00, 367.74it/s]\n",
      "Evaluating: 100%|██████████| 7/7 [00:00<00:00, 281.01it/s]\n",
      "Training: 100%|██████████| 56/56 [00:00<00:00, 348.47it/s]\n",
      "Evaluating: 100%|██████████| 7/7 [00:00<00:00, 514.25it/s]\n",
      "Training: 100%|██████████| 56/56 [00:00<00:00, 339.54it/s]\n",
      "Evaluating: 100%|██████████| 7/7 [00:00<00:00, 364.26it/s]\n",
      "Training: 100%|██████████| 56/56 [00:00<00:00, 331.98it/s]\n",
      "Evaluating: 100%|██████████| 7/7 [00:00<00:00, 496.54it/s]\n",
      "Training: 100%|██████████| 56/56 [00:00<00:00, 357.46it/s]\n",
      "Evaluating: 100%|██████████| 7/7 [00:00<00:00, 2771.13it/s]\n",
      "Training: 100%|██████████| 56/56 [00:00<00:00, 343.23it/s]\n",
      "Evaluating: 100%|██████████| 7/7 [00:00<00:00, 3016.55it/s]\n",
      "Training: 100%|██████████| 56/56 [00:00<00:00, 336.09it/s]\n",
      "Evaluating: 100%|██████████| 7/7 [00:00<00:00, 447.97it/s]\n",
      "Training: 100%|██████████| 56/56 [00:00<00:00, 335.56it/s]\n",
      "Evaluating: 100%|██████████| 7/7 [00:00<?, ?it/s]\n",
      "Training: 100%|██████████| 56/56 [00:00<00:00, 329.76it/s]\n",
      "Evaluating: 100%|██████████| 7/7 [00:00<00:00, 448.03it/s]\n",
      "Training: 100%|██████████| 56/56 [00:00<00:00, 339.05it/s]\n",
      "Evaluating: 100%|██████████| 7/7 [00:00<00:00, 362.73it/s]\n"
     ]
    },
    {
     "name": "stdout",
     "output_type": "stream",
     "text": [
      "Epoch 31/100\n",
      "Training Loss: 0.1218, Training Accuracy: 0.9684\n",
      "Validation Loss: 0.1130, Validation Accuracy: 0.9592\n"
     ]
    },
    {
     "name": "stderr",
     "output_type": "stream",
     "text": [
      "Training: 100%|██████████| 56/56 [00:00<00:00, 340.07it/s]\n",
      "Evaluating: 100%|██████████| 7/7 [00:00<00:00, 446.98it/s]\n",
      "Training: 100%|██████████| 56/56 [00:00<00:00, 335.32it/s]\n",
      "Evaluating: 100%|██████████| 7/7 [00:00<?, ?it/s]\n",
      "Training: 100%|██████████| 56/56 [00:00<00:00, 341.18it/s]\n",
      "Evaluating: 100%|██████████| 7/7 [00:00<00:00, 419.33it/s]\n",
      "Training: 100%|██████████| 56/56 [00:00<00:00, 323.00it/s]\n",
      "Evaluating: 100%|██████████| 7/7 [00:00<00:00, 788.13it/s]\n",
      "Training: 100%|██████████| 56/56 [00:00<00:00, 332.63it/s]\n",
      "Evaluating: 100%|██████████| 7/7 [00:00<00:00, 378.67it/s]\n",
      "Training: 100%|██████████| 56/56 [00:00<00:00, 360.97it/s]\n",
      "Evaluating: 100%|██████████| 7/7 [00:00<00:00, 920.32it/s]\n",
      "Training: 100%|██████████| 56/56 [00:00<00:00, 341.44it/s]\n",
      "Evaluating: 100%|██████████| 7/7 [00:00<00:00, 447.99it/s]\n",
      "Training: 100%|██████████| 56/56 [00:00<00:00, 333.44it/s]\n",
      "Evaluating: 100%|██████████| 7/7 [00:00<00:00, 307.09it/s]\n",
      "Training: 100%|██████████| 56/56 [00:00<00:00, 349.35it/s]\n",
      "Evaluating: 100%|██████████| 7/7 [00:00<00:00, 447.90it/s]\n",
      "Training: 100%|██████████| 56/56 [00:00<00:00, 334.30it/s]\n",
      "Evaluating: 100%|██████████| 7/7 [00:00<?, ?it/s]\n"
     ]
    },
    {
     "name": "stdout",
     "output_type": "stream",
     "text": [
      "Epoch 41/100\n",
      "Training Loss: 0.1123, Training Accuracy: 0.9684\n",
      "Validation Loss: 0.1057, Validation Accuracy: 0.9796\n"
     ]
    },
    {
     "name": "stderr",
     "output_type": "stream",
     "text": [
      "Training: 100%|██████████| 56/56 [00:00<00:00, 335.53it/s]\n",
      "Evaluating: 100%|██████████| 7/7 [00:00<00:00, 447.99it/s]\n",
      "Training: 100%|██████████| 56/56 [00:00<00:00, 370.91it/s]\n",
      "Evaluating: 100%|██████████| 7/7 [00:00<?, ?it/s]\n",
      "Training: 100%|██████████| 56/56 [00:00<00:00, 368.20it/s]\n",
      "Evaluating: 100%|██████████| 7/7 [00:00<00:00, 420.69it/s]\n",
      "Training: 100%|██████████| 56/56 [00:00<00:00, 320.09it/s]\n",
      "Evaluating: 100%|██████████| 7/7 [00:00<00:00, 848.98it/s]\n",
      "Training: 100%|██████████| 56/56 [00:00<00:00, 372.14it/s]\n",
      "Evaluating: 100%|██████████| 7/7 [00:00<?, ?it/s]\n",
      "Training: 100%|██████████| 56/56 [00:00<00:00, 335.48it/s]\n",
      "Evaluating: 100%|██████████| 7/7 [00:00<00:00, 357.53it/s]\n",
      "Training: 100%|██████████| 56/56 [00:00<00:00, 380.33it/s]\n",
      "Evaluating: 100%|██████████| 7/7 [00:00<00:00, 447.98it/s]\n",
      "Training: 100%|██████████| 56/56 [00:00<00:00, 336.51it/s]\n",
      "Evaluating: 100%|██████████| 7/7 [00:00<?, ?it/s]\n",
      "Training: 100%|██████████| 56/56 [00:00<00:00, 333.81it/s]\n",
      "Evaluating: 100%|██████████| 7/7 [00:00<00:00, 426.82it/s]\n",
      "Training: 100%|██████████| 56/56 [00:00<00:00, 335.39it/s]\n",
      "Evaluating: 100%|██████████| 7/7 [00:00<00:00, 447.98it/s]\n"
     ]
    },
    {
     "name": "stdout",
     "output_type": "stream",
     "text": [
      "Epoch 51/100\n",
      "Training Loss: 0.1163, Training Accuracy: 0.9707\n",
      "Validation Loss: 0.1010, Validation Accuracy: 0.9388\n"
     ]
    },
    {
     "name": "stderr",
     "output_type": "stream",
     "text": [
      "Training: 100%|██████████| 56/56 [00:00<00:00, 300.18it/s]\n",
      "Evaluating: 100%|██████████| 7/7 [00:00<00:00, 447.99it/s]\n",
      "Training: 100%|██████████| 56/56 [00:00<00:00, 369.69it/s]\n",
      "Evaluating: 100%|██████████| 7/7 [00:00<?, ?it/s]\n",
      "Training: 100%|██████████| 56/56 [00:00<00:00, 335.82it/s]\n",
      "Evaluating: 100%|██████████| 7/7 [00:00<00:00, 447.96it/s]\n",
      "Training: 100%|██████████| 56/56 [00:00<00:00, 341.21it/s]\n",
      "Evaluating: 100%|██████████| 7/7 [00:00<00:00, 3767.50it/s]\n",
      "Training: 100%|██████████| 56/56 [00:00<00:00, 331.34it/s]\n",
      "Evaluating: 100%|██████████| 7/7 [00:00<00:00, 447.97it/s]\n",
      "Training: 100%|██████████| 56/56 [00:00<00:00, 340.72it/s]\n",
      "Evaluating: 100%|██████████| 7/7 [00:00<00:00, 338.50it/s]\n",
      "Training: 100%|██████████| 56/56 [00:00<00:00, 359.05it/s]\n",
      "Evaluating: 100%|██████████| 7/7 [00:00<00:00, 1926.01it/s]\n",
      "Training: 100%|██████████| 56/56 [00:00<00:00, 335.89it/s]\n",
      "Evaluating: 100%|██████████| 7/7 [00:00<00:00, 448.00it/s]\n",
      "Training: 100%|██████████| 56/56 [00:00<00:00, 364.11it/s]\n",
      "Evaluating: 100%|██████████| 7/7 [00:00<00:00, 494.22it/s]\n",
      "Training: 100%|██████████| 56/56 [00:00<00:00, 335.54it/s]\n",
      "Evaluating: 100%|██████████| 7/7 [00:00<00:00, 447.99it/s]\n"
     ]
    },
    {
     "name": "stdout",
     "output_type": "stream",
     "text": [
      "Epoch 61/100\n",
      "Training Loss: 0.1027, Training Accuracy: 0.9707\n",
      "Validation Loss: 0.0941, Validation Accuracy: 0.9388\n"
     ]
    },
    {
     "name": "stderr",
     "output_type": "stream",
     "text": [
      "Training: 100%|██████████| 56/56 [00:00<00:00, 335.82it/s]\n",
      "Evaluating: 100%|██████████| 7/7 [00:00<00:00, 447.99it/s]\n",
      "Training: 100%|██████████| 56/56 [00:00<00:00, 326.07it/s]\n",
      "Evaluating: 100%|██████████| 7/7 [00:00<00:00, 447.95it/s]\n",
      "Training: 100%|██████████| 56/56 [00:00<00:00, 340.04it/s]\n",
      "Evaluating: 100%|██████████| 7/7 [00:00<00:00, 334.43it/s]\n",
      "Training: 100%|██████████| 56/56 [00:00<00:00, 341.97it/s]\n",
      "Evaluating: 100%|██████████| 7/7 [00:00<00:00, 268.97it/s]\n",
      "Training: 100%|██████████| 56/56 [00:00<00:00, 327.31it/s]\n",
      "Evaluating: 100%|██████████| 7/7 [00:00<00:00, 378.84it/s]\n",
      "Training: 100%|██████████| 56/56 [00:00<00:00, 344.77it/s]\n",
      "Evaluating: 100%|██████████| 7/7 [00:00<?, ?it/s]\n",
      "Training: 100%|██████████| 56/56 [00:00<00:00, 310.28it/s]\n",
      "Evaluating: 100%|██████████| 7/7 [00:00<00:00, 2767.73it/s]\n",
      "Training: 100%|██████████| 56/56 [00:00<00:00, 375.41it/s]\n",
      "Evaluating: 100%|██████████| 7/7 [00:00<00:00, 447.98it/s]\n",
      "Training: 100%|██████████| 56/56 [00:00<00:00, 335.24it/s]\n",
      "Evaluating: 100%|██████████| 7/7 [00:00<00:00, 448.00it/s]\n",
      "Training: 100%|██████████| 56/56 [00:00<00:00, 319.68it/s]\n",
      "Evaluating: 100%|██████████| 7/7 [00:00<00:00, 858.53it/s]\n"
     ]
    },
    {
     "name": "stdout",
     "output_type": "stream",
     "text": [
      "Epoch 71/100\n",
      "Training Loss: 0.1007, Training Accuracy: 0.9707\n",
      "Validation Loss: 0.0881, Validation Accuracy: 0.9388\n"
     ]
    },
    {
     "name": "stderr",
     "output_type": "stream",
     "text": [
      "Training: 100%|██████████| 56/56 [00:00<00:00, 337.23it/s]\n",
      "Evaluating: 100%|██████████| 7/7 [00:00<?, ?it/s]\n",
      "Training: 100%|██████████| 56/56 [00:00<00:00, 337.82it/s]\n",
      "Evaluating: 100%|██████████| 7/7 [00:00<00:00, 291.07it/s]\n",
      "Training: 100%|██████████| 56/56 [00:00<00:00, 381.78it/s]\n",
      "Evaluating: 100%|██████████| 7/7 [00:00<00:00, 583.43it/s]\n",
      "Training: 100%|██████████| 56/56 [00:00<00:00, 366.25it/s]\n",
      "Evaluating: 100%|██████████| 7/7 [00:00<00:00, 447.98it/s]\n",
      "Training: 100%|██████████| 56/56 [00:00<00:00, 327.82it/s]\n",
      "Evaluating: 100%|██████████| 7/7 [00:00<00:00, 385.00it/s]\n",
      "Training: 100%|██████████| 56/56 [00:00<00:00, 349.93it/s]\n",
      "Evaluating: 100%|██████████| 7/7 [00:00<?, ?it/s]\n",
      "Training: 100%|██████████| 56/56 [00:00<00:00, 337.26it/s]\n",
      "Evaluating: 100%|██████████| 7/7 [00:00<00:00, 448.01it/s]\n",
      "Training: 100%|██████████| 56/56 [00:00<00:00, 332.18it/s]\n",
      "Evaluating: 100%|██████████| 7/7 [00:00<00:00, 394.81it/s]\n",
      "Training: 100%|██████████| 56/56 [00:00<00:00, 365.09it/s]\n",
      "Evaluating: 100%|██████████| 7/7 [00:00<00:00, 574.97it/s]\n",
      "Training: 100%|██████████| 56/56 [00:00<00:00, 342.94it/s]\n",
      "Evaluating: 100%|██████████| 7/7 [00:00<00:00, 411.79it/s]\n"
     ]
    },
    {
     "name": "stdout",
     "output_type": "stream",
     "text": [
      "Epoch 81/100\n",
      "Training Loss: 0.0916, Training Accuracy: 0.9729\n",
      "Validation Loss: 0.0847, Validation Accuracy: 0.9592\n"
     ]
    },
    {
     "name": "stderr",
     "output_type": "stream",
     "text": [
      "Training: 100%|██████████| 56/56 [00:00<00:00, 348.33it/s]\n",
      "Evaluating: 100%|██████████| 7/7 [00:00<00:00, 2081.84it/s]\n",
      "Training: 100%|██████████| 56/56 [00:00<00:00, 333.94it/s]\n",
      "Evaluating: 100%|██████████| 7/7 [00:00<00:00, 321.41it/s]\n",
      "Training: 100%|██████████| 56/56 [00:00<00:00, 356.09it/s]\n",
      "Evaluating: 100%|██████████| 7/7 [00:00<00:00, 447.99it/s]\n",
      "Training: 100%|██████████| 56/56 [00:00<00:00, 335.95it/s]\n",
      "Evaluating: 100%|██████████| 7/7 [00:00<00:00, 448.03it/s]\n",
      "Training: 100%|██████████| 56/56 [00:00<00:00, 333.54it/s]\n",
      "Evaluating: 100%|██████████| 7/7 [00:00<00:00, 339.44it/s]\n",
      "Training: 100%|██████████| 56/56 [00:00<00:00, 349.52it/s]\n",
      "Evaluating: 100%|██████████| 7/7 [00:00<00:00, 1500.42it/s]\n",
      "Training: 100%|██████████| 56/56 [00:00<00:00, 314.04it/s]\n",
      "Evaluating: 100%|██████████| 7/7 [00:00<00:00, 448.01it/s]\n",
      "Training: 100%|██████████| 56/56 [00:00<00:00, 348.66it/s]\n",
      "Evaluating: 100%|██████████| 7/7 [00:00<00:00, 964.62it/s]\n",
      "Training: 100%|██████████| 56/56 [00:00<00:00, 336.85it/s]\n",
      "Evaluating: 100%|██████████| 7/7 [00:00<00:00, 362.67it/s]\n",
      "Training: 100%|██████████| 56/56 [00:00<00:00, 383.67it/s]\n",
      "Evaluating: 100%|██████████| 7/7 [00:00<00:00, 448.01it/s]\n"
     ]
    },
    {
     "name": "stdout",
     "output_type": "stream",
     "text": [
      "Epoch 91/100\n",
      "Training Loss: 0.0903, Training Accuracy: 0.9752\n",
      "Validation Loss: 0.0809, Validation Accuracy: 0.9592\n"
     ]
    },
    {
     "name": "stderr",
     "output_type": "stream",
     "text": [
      "Training: 100%|██████████| 56/56 [00:00<00:00, 349.45it/s]\n",
      "Evaluating: 100%|██████████| 7/7 [00:00<00:00, 1317.19it/s]\n",
      "Training: 100%|██████████| 56/56 [00:00<00:00, 341.38it/s]\n",
      "Evaluating: 100%|██████████| 7/7 [00:00<00:00, 2610.02it/s]\n",
      "Training: 100%|██████████| 56/56 [00:00<00:00, 341.93it/s]\n",
      "Evaluating: 100%|██████████| 7/7 [00:00<00:00, 448.01it/s]\n",
      "Training: 100%|██████████| 56/56 [00:00<00:00, 363.57it/s]\n",
      "Evaluating: 100%|██████████| 7/7 [00:00<00:00, 447.95it/s]\n",
      "Training: 100%|██████████| 56/56 [00:00<00:00, 339.57it/s]\n",
      "Evaluating: 100%|██████████| 7/7 [00:00<00:00, 448.01it/s]\n",
      "Training: 100%|██████████| 56/56 [00:00<00:00, 342.38it/s]\n",
      "Evaluating: 100%|██████████| 7/7 [00:00<00:00, 3000.52it/s]\n",
      "Training: 100%|██████████| 56/56 [00:00<00:00, 332.05it/s]\n",
      "Evaluating: 100%|██████████| 7/7 [00:00<00:00, 447.98it/s]\n",
      "Training: 100%|██████████| 56/56 [00:00<00:00, 339.83it/s]\n",
      "Evaluating: 100%|██████████| 7/7 [00:00<00:00, 361.65it/s]\n",
      "Training: 100%|██████████| 56/56 [00:00<00:00, 355.38it/s]\n",
      "Evaluating: 100%|██████████| 7/7 [00:00<00:00, 1544.21it/s]\n"
     ]
    },
    {
     "name": "stdout",
     "output_type": "stream",
     "text": [
      "Epoch 100/100\n",
      "Training Loss: 0.0861, Training Accuracy: 0.9752\n",
      "Validation Loss: 0.0765, Validation Accuracy: 0.9592\n",
      "Fold 7/10\n"
     ]
    },
    {
     "name": "stderr",
     "output_type": "stream",
     "text": [
      "Training: 100%|██████████| 56/56 [00:00<00:00, 331.60it/s]\n",
      "Evaluating: 100%|██████████| 7/7 [00:00<00:00, 447.97it/s]\n"
     ]
    },
    {
     "name": "stdout",
     "output_type": "stream",
     "text": [
      "Epoch 1/100\n",
      "Training Loss: 1.1050, Training Accuracy: 0.8284\n",
      "Validation Loss: 0.1587, Validation Accuracy: 0.9592\n"
     ]
    },
    {
     "name": "stderr",
     "output_type": "stream",
     "text": [
      "Training: 100%|██████████| 56/56 [00:00<00:00, 340.99it/s]\n",
      "Evaluating: 100%|██████████| 7/7 [00:00<?, ?it/s]\n",
      "Training: 100%|██████████| 56/56 [00:00<00:00, 335.65it/s]\n",
      "Evaluating: 100%|██████████| 7/7 [00:00<00:00, 360.01it/s]\n",
      "Training: 100%|██████████| 56/56 [00:00<00:00, 341.17it/s]\n",
      "Evaluating: 100%|██████████| 7/7 [00:00<00:00, 359.43it/s]\n",
      "Training: 100%|██████████| 56/56 [00:00<00:00, 351.60it/s]\n",
      "Evaluating: 100%|██████████| 7/7 [00:00<00:00, 2756.30it/s]\n",
      "Training: 100%|██████████| 56/56 [00:00<00:00, 335.26it/s]\n",
      "Evaluating: 100%|██████████| 7/7 [00:00<00:00, 336.14it/s]\n",
      "Training: 100%|██████████| 56/56 [00:00<00:00, 354.90it/s]\n",
      "Evaluating: 100%|██████████| 7/7 [00:00<00:00, 1472.28it/s]\n",
      "Training: 100%|██████████| 56/56 [00:00<00:00, 341.76it/s]\n",
      "Evaluating: 100%|██████████| 7/7 [00:00<00:00, 447.97it/s]\n",
      "Training: 100%|██████████| 56/56 [00:00<00:00, 370.40it/s]\n",
      "Evaluating: 100%|██████████| 7/7 [00:00<?, ?it/s]\n",
      "Training: 100%|██████████| 56/56 [00:00<00:00, 335.80it/s]\n",
      "Evaluating: 100%|██████████| 7/7 [00:00<00:00, 342.27it/s]\n",
      "Training: 100%|██████████| 56/56 [00:00<00:00, 341.03it/s]\n",
      "Evaluating: 100%|██████████| 7/7 [00:00<00:00, 392.59it/s]\n"
     ]
    },
    {
     "name": "stdout",
     "output_type": "stream",
     "text": [
      "Epoch 11/100\n",
      "Training Loss: 0.1375, Training Accuracy: 0.9594\n",
      "Validation Loss: 0.1420, Validation Accuracy: 0.9388\n"
     ]
    },
    {
     "name": "stderr",
     "output_type": "stream",
     "text": [
      "Training: 100%|██████████| 56/56 [00:00<00:00, 354.06it/s]\n",
      "Evaluating: 100%|██████████| 7/7 [00:00<00:00, 1187.71it/s]\n",
      "Training: 100%|██████████| 56/56 [00:00<00:00, 340.52it/s]\n",
      "Evaluating: 100%|██████████| 7/7 [00:00<00:00, 355.75it/s]\n",
      "Training: 100%|██████████| 56/56 [00:00<00:00, 350.23it/s]\n",
      "Evaluating: 100%|██████████| 7/7 [00:00<00:00, 3372.01it/s]\n",
      "Training: 100%|██████████| 56/56 [00:00<00:00, 335.55it/s]\n",
      "Evaluating: 100%|██████████| 7/7 [00:00<00:00, 419.09it/s]\n",
      "Training: 100%|██████████| 56/56 [00:00<00:00, 357.26it/s]\n",
      "Evaluating: 100%|██████████| 7/7 [00:00<00:00, 806.73it/s]\n",
      "Training: 100%|██████████| 56/56 [00:00<00:00, 344.45it/s]\n",
      "Evaluating: 100%|██████████| 7/7 [00:00<?, ?it/s]\n",
      "Training: 100%|██████████| 56/56 [00:00<00:00, 336.19it/s]\n",
      "Evaluating: 100%|██████████| 7/7 [00:00<00:00, 447.99it/s]\n",
      "Training: 100%|██████████| 56/56 [00:00<00:00, 369.99it/s]\n",
      "Evaluating: 100%|██████████| 7/7 [00:00<00:00, 1715.16it/s]\n",
      "Training: 100%|██████████| 56/56 [00:00<00:00, 341.82it/s]\n",
      "Evaluating: 100%|██████████| 7/7 [00:00<00:00, 447.98it/s]\n",
      "Training: 100%|██████████| 56/56 [00:00<00:00, 335.99it/s]\n",
      "Evaluating: 100%|██████████| 7/7 [00:00<00:00, 448.01it/s]\n"
     ]
    },
    {
     "name": "stdout",
     "output_type": "stream",
     "text": [
      "Epoch 21/100\n",
      "Training Loss: 0.1330, Training Accuracy: 0.9639\n",
      "Validation Loss: 0.1327, Validation Accuracy: 0.9592\n"
     ]
    },
    {
     "name": "stderr",
     "output_type": "stream",
     "text": [
      "Training: 100%|██████████| 56/56 [00:00<00:00, 331.64it/s]\n",
      "Evaluating: 100%|██████████| 7/7 [00:00<?, ?it/s]\n",
      "Training: 100%|██████████| 56/56 [00:00<00:00, 328.72it/s]\n",
      "Evaluating: 100%|██████████| 7/7 [00:00<00:00, 447.97it/s]\n",
      "Training: 100%|██████████| 56/56 [00:00<00:00, 376.01it/s]\n",
      "Evaluating: 100%|██████████| 7/7 [00:00<?, ?it/s]\n",
      "Training: 100%|██████████| 56/56 [00:00<00:00, 333.80it/s]\n",
      "Evaluating: 100%|██████████| 7/7 [00:00<00:00, 447.96it/s]\n",
      "Training: 100%|██████████| 56/56 [00:00<00:00, 333.89it/s]\n",
      "Evaluating: 100%|██████████| 7/7 [00:00<00:00, 447.92it/s]\n",
      "Training: 100%|██████████| 56/56 [00:00<00:00, 328.95it/s]\n",
      "Evaluating: 100%|██████████| 7/7 [00:00<?, ?it/s]\n",
      "Training: 100%|██████████| 56/56 [00:00<00:00, 375.99it/s]\n",
      "Evaluating: 100%|██████████| 7/7 [00:00<00:00, 422.24it/s]\n",
      "Training: 100%|██████████| 56/56 [00:00<00:00, 331.32it/s]\n",
      "Evaluating: 100%|██████████| 7/7 [00:00<00:00, 503.94it/s]\n",
      "Training: 100%|██████████| 56/56 [00:00<00:00, 351.29it/s]\n",
      "Evaluating: 100%|██████████| 7/7 [00:00<00:00, 1298.43it/s]\n",
      "Training: 100%|██████████| 56/56 [00:00<00:00, 373.13it/s]\n",
      "Evaluating: 100%|██████████| 7/7 [00:00<00:00, 418.68it/s]\n"
     ]
    },
    {
     "name": "stdout",
     "output_type": "stream",
     "text": [
      "Epoch 31/100\n",
      "Training Loss: 0.1193, Training Accuracy: 0.9729\n",
      "Validation Loss: 0.1266, Validation Accuracy: 0.9388\n"
     ]
    },
    {
     "name": "stderr",
     "output_type": "stream",
     "text": [
      "Training: 100%|██████████| 56/56 [00:00<00:00, 335.12it/s]\n",
      "Evaluating: 100%|██████████| 7/7 [00:00<00:00, 425.07it/s]\n",
      "Training: 100%|██████████| 56/56 [00:00<00:00, 344.10it/s]\n",
      "Evaluating: 100%|██████████| 7/7 [00:00<00:00, 3414.37it/s]\n",
      "Training: 100%|██████████| 56/56 [00:00<00:00, 326.19it/s]\n",
      "Evaluating: 100%|██████████| 7/7 [00:00<00:00, 723.44it/s]\n",
      "Training: 100%|██████████| 56/56 [00:00<00:00, 372.52it/s]\n",
      "Evaluating: 100%|██████████| 7/7 [00:00<00:00, 361.81it/s]\n",
      "Training: 100%|██████████| 56/56 [00:00<00:00, 341.85it/s]\n",
      "Evaluating: 100%|██████████| 7/7 [00:00<00:00, 349.29it/s]\n",
      "Training: 100%|██████████| 56/56 [00:00<00:00, 350.65it/s]\n",
      "Evaluating: 100%|██████████| 7/7 [00:00<00:00, 749.84it/s]\n",
      "Training: 100%|██████████| 56/56 [00:00<00:00, 344.64it/s]\n",
      "Evaluating: 100%|██████████| 7/7 [00:00<00:00, 636.41it/s]\n",
      "Training: 100%|██████████| 56/56 [00:00<00:00, 371.05it/s]\n",
      "Evaluating: 100%|██████████| 7/7 [00:00<00:00, 391.53it/s]\n",
      "Training: 100%|██████████| 56/56 [00:00<00:00, 353.97it/s]\n",
      "Evaluating: 100%|██████████| 7/7 [00:00<00:00, 1673.80it/s]\n",
      "Training: 100%|██████████| 56/56 [00:00<00:00, 336.15it/s]\n",
      "Evaluating: 100%|██████████| 7/7 [00:00<?, ?it/s]\n"
     ]
    },
    {
     "name": "stdout",
     "output_type": "stream",
     "text": [
      "Epoch 41/100\n",
      "Training Loss: 0.1245, Training Accuracy: 0.9684\n",
      "Validation Loss: 0.1201, Validation Accuracy: 0.9388\n"
     ]
    },
    {
     "name": "stderr",
     "output_type": "stream",
     "text": [
      "Training: 100%|██████████| 56/56 [00:00<00:00, 334.95it/s]\n",
      "Evaluating: 100%|██████████| 7/7 [00:00<00:00, 300.68it/s]\n",
      "Training: 100%|██████████| 56/56 [00:00<00:00, 354.48it/s]\n",
      "Evaluating: 100%|██████████| 7/7 [00:00<?, ?it/s]\n",
      "Training: 100%|██████████| 56/56 [00:00<00:00, 336.12it/s]\n",
      "Evaluating: 100%|██████████| 7/7 [00:00<00:00, 411.68it/s]\n",
      "Training: 100%|██████████| 56/56 [00:00<00:00, 335.90it/s]\n",
      "Evaluating: 100%|██████████| 7/7 [00:00<?, ?it/s]\n",
      "Training: 100%|██████████| 56/56 [00:00<00:00, 335.82it/s]\n",
      "Evaluating: 100%|██████████| 7/7 [00:00<00:00, 300.46it/s]\n",
      "Training: 100%|██████████| 56/56 [00:00<00:00, 336.65it/s]\n",
      "Evaluating: 100%|██████████| 7/7 [00:00<00:00, 509.71it/s]\n",
      "Training: 100%|██████████| 56/56 [00:00<00:00, 394.14it/s]\n",
      "Evaluating: 100%|██████████| 7/7 [00:00<?, ?it/s]\n",
      "Training: 100%|██████████| 56/56 [00:00<00:00, 336.08it/s]\n",
      "Evaluating: 100%|██████████| 7/7 [00:00<00:00, 286.86it/s]\n",
      "Training: 100%|██████████| 56/56 [00:00<00:00, 362.78it/s]\n",
      "Evaluating: 100%|██████████| 7/7 [00:00<00:00, 557.14it/s]\n",
      "Training: 100%|██████████| 56/56 [00:00<00:00, 358.70it/s]\n",
      "Evaluating: 100%|██████████| 7/7 [00:00<00:00, 415.86it/s]\n"
     ]
    },
    {
     "name": "stdout",
     "output_type": "stream",
     "text": [
      "Epoch 51/100\n",
      "Training Loss: 0.1036, Training Accuracy: 0.9752\n",
      "Validation Loss: 0.1161, Validation Accuracy: 0.9388\n"
     ]
    },
    {
     "name": "stderr",
     "output_type": "stream",
     "text": [
      "Training: 100%|██████████| 56/56 [00:00<00:00, 335.84it/s]\n",
      "Evaluating: 100%|██████████| 7/7 [00:00<?, ?it/s]\n",
      "Training: 100%|██████████| 56/56 [00:00<00:00, 336.22it/s]\n",
      "Evaluating: 100%|██████████| 7/7 [00:00<00:00, 355.88it/s]\n",
      "Training: 100%|██████████| 56/56 [00:00<00:00, 342.30it/s]\n",
      "Evaluating: 100%|██████████| 7/7 [00:00<00:00, 415.11it/s]\n",
      "Training: 100%|██████████| 56/56 [00:00<00:00, 372.82it/s]\n",
      "Evaluating: 100%|██████████| 7/7 [00:00<00:00, 415.50it/s]\n",
      "Training: 100%|██████████| 56/56 [00:00<00:00, 330.55it/s]\n",
      "Evaluating: 100%|██████████| 7/7 [00:00<00:00, 505.49it/s]\n",
      "Training: 100%|██████████| 56/56 [00:00<00:00, 372.08it/s]\n",
      "Evaluating: 100%|██████████| 7/7 [00:00<?, ?it/s]\n",
      "Training: 100%|██████████| 56/56 [00:00<00:00, 335.89it/s]\n",
      "Evaluating: 100%|██████████| 7/7 [00:00<00:00, 418.18it/s]\n",
      "Training: 100%|██████████| 56/56 [00:00<00:00, 366.55it/s]\n",
      "Evaluating: 100%|██████████| 7/7 [00:00<00:00, 480.77it/s]\n",
      "Training: 100%|██████████| 56/56 [00:00<00:00, 336.90it/s]\n",
      "Evaluating: 100%|██████████| 7/7 [00:00<00:00, 415.78it/s]\n",
      "Training: 100%|██████████| 56/56 [00:00<00:00, 336.21it/s]\n",
      "Evaluating: 100%|██████████| 7/7 [00:00<?, ?it/s]\n"
     ]
    },
    {
     "name": "stdout",
     "output_type": "stream",
     "text": [
      "Epoch 61/100\n",
      "Training Loss: 0.0983, Training Accuracy: 0.9729\n",
      "Validation Loss: 0.1116, Validation Accuracy: 0.9388\n"
     ]
    },
    {
     "name": "stderr",
     "output_type": "stream",
     "text": [
      "Training: 100%|██████████| 56/56 [00:00<00:00, 345.69it/s]\n",
      "Evaluating: 100%|██████████| 7/7 [00:00<00:00, 2219.54it/s]\n",
      "Training: 100%|██████████| 56/56 [00:00<00:00, 336.45it/s]\n",
      "Evaluating: 100%|██████████| 7/7 [00:00<00:00, 316.06it/s]\n",
      "Training: 100%|██████████| 56/56 [00:00<00:00, 350.41it/s]\n",
      "Evaluating: 100%|██████████| 7/7 [00:00<?, ?it/s]\n",
      "Training: 100%|██████████| 56/56 [00:00<00:00, 335.91it/s]\n",
      "Evaluating: 100%|██████████| 7/7 [00:00<00:00, 424.51it/s]\n",
      "Training: 100%|██████████| 56/56 [00:00<00:00, 372.38it/s]\n",
      "Evaluating: 100%|██████████| 7/7 [00:00<00:00, 418.37it/s]\n",
      "Training: 100%|██████████| 56/56 [00:00<00:00, 335.76it/s]\n",
      "Evaluating: 100%|██████████| 7/7 [00:00<00:00, 422.32it/s]\n",
      "Training: 100%|██████████| 56/56 [00:00<00:00, 373.27it/s]\n",
      "Evaluating: 100%|██████████| 7/7 [00:00<00:00, 4504.47it/s]\n",
      "Training: 100%|██████████| 56/56 [00:00<00:00, 336.48it/s]\n",
      "Evaluating: 100%|██████████| 7/7 [00:00<00:00, 363.25it/s]\n",
      "Training: 100%|██████████| 56/56 [00:00<00:00, 353.16it/s]\n",
      "Evaluating: 100%|██████████| 7/7 [00:00<00:00, 6929.46it/s]\n",
      "Training: 100%|██████████| 56/56 [00:00<00:00, 336.12it/s]\n",
      "Evaluating: 100%|██████████| 7/7 [00:00<00:00, 421.65it/s]\n"
     ]
    },
    {
     "name": "stdout",
     "output_type": "stream",
     "text": [
      "Epoch 71/100\n",
      "Training Loss: 0.0934, Training Accuracy: 0.9729\n",
      "Validation Loss: 0.1075, Validation Accuracy: 0.9388\n"
     ]
    },
    {
     "name": "stderr",
     "output_type": "stream",
     "text": [
      "Training: 100%|██████████| 56/56 [00:00<00:00, 335.35it/s]\n",
      "Evaluating: 100%|██████████| 7/7 [00:00<00:00, 323.68it/s]\n",
      "Training: 100%|██████████| 56/56 [00:00<00:00, 346.15it/s]\n",
      "Evaluating: 100%|██████████| 7/7 [00:00<00:00, 366.55it/s]\n",
      "Training: 100%|██████████| 56/56 [00:00<00:00, 364.02it/s]\n",
      "Evaluating: 100%|██████████| 7/7 [00:00<00:00, 589.37it/s]\n",
      "Training: 100%|██████████| 56/56 [00:00<00:00, 358.77it/s]\n",
      "Evaluating: 100%|██████████| 7/7 [00:00<00:00, 2929.86it/s]\n",
      "Training: 100%|██████████| 56/56 [00:00<00:00, 336.80it/s]\n",
      "Evaluating: 100%|██████████| 7/7 [00:00<00:00, 364.55it/s]\n",
      "Training: 100%|██████████| 56/56 [00:00<00:00, 365.56it/s]\n",
      "Evaluating: 100%|██████████| 7/7 [00:00<00:00, 867.28it/s]\n",
      "Training: 100%|██████████| 56/56 [00:00<00:00, 348.49it/s]\n",
      "Evaluating: 100%|██████████| 7/7 [00:00<00:00, 1660.55it/s]\n",
      "Training: 100%|██████████| 56/56 [00:00<00:00, 340.27it/s]\n",
      "Evaluating: 100%|██████████| 7/7 [00:00<00:00, 38179.62it/s]\n",
      "Training: 100%|██████████| 56/56 [00:00<00:00, 337.98it/s]\n",
      "Evaluating: 100%|██████████| 7/7 [00:00<00:00, 414.12it/s]\n",
      "Training: 100%|██████████| 56/56 [00:00<00:00, 317.70it/s]\n",
      "Evaluating: 100%|██████████| 7/7 [00:00<00:00, 1334.67it/s]\n"
     ]
    },
    {
     "name": "stdout",
     "output_type": "stream",
     "text": [
      "Epoch 81/100\n",
      "Training Loss: 0.0891, Training Accuracy: 0.9752\n",
      "Validation Loss: 0.1048, Validation Accuracy: 0.9388\n"
     ]
    },
    {
     "name": "stderr",
     "output_type": "stream",
     "text": [
      "Training: 100%|██████████| 56/56 [00:00<00:00, 336.35it/s]\n",
      "Evaluating: 100%|██████████| 7/7 [00:00<00:00, 296.97it/s]\n",
      "Training: 100%|██████████| 56/56 [00:00<00:00, 352.46it/s]\n",
      "Evaluating: 100%|██████████| 7/7 [00:00<00:00, 359.55it/s]\n",
      "Training: 100%|██████████| 56/56 [00:00<00:00, 354.69it/s]\n",
      "Evaluating: 100%|██████████| 7/7 [00:00<00:00, 1676.28it/s]\n",
      "Training: 100%|██████████| 56/56 [00:00<00:00, 335.65it/s]\n",
      "Evaluating: 100%|██████████| 7/7 [00:00<?, ?it/s]\n",
      "Training: 100%|██████████| 56/56 [00:00<00:00, 335.97it/s]\n",
      "Evaluating: 100%|██████████| 7/7 [00:00<00:00, 277.71it/s]\n",
      "Training: 100%|██████████| 56/56 [00:00<00:00, 357.93it/s]\n",
      "Evaluating: 100%|██████████| 7/7 [00:00<00:00, 349.16it/s]\n",
      "Training: 100%|██████████| 56/56 [00:00<00:00, 351.19it/s]\n",
      "Evaluating: 100%|██████████| 7/7 [00:00<00:00, 3663.15it/s]\n",
      "Training: 100%|██████████| 56/56 [00:00<00:00, 305.59it/s]\n",
      "Evaluating: 100%|██████████| 7/7 [00:00<?, ?it/s]\n",
      "Training: 100%|██████████| 56/56 [00:00<00:00, 335.76it/s]\n",
      "Evaluating: 100%|██████████| 7/7 [00:00<00:00, 424.72it/s]\n",
      "Training: 100%|██████████| 56/56 [00:00<00:00, 366.29it/s]\n",
      "Evaluating: 100%|██████████| 7/7 [00:00<?, ?it/s]\n"
     ]
    },
    {
     "name": "stdout",
     "output_type": "stream",
     "text": [
      "Epoch 91/100\n",
      "Training Loss: 0.0853, Training Accuracy: 0.9774\n",
      "Validation Loss: 0.1020, Validation Accuracy: 0.9592\n"
     ]
    },
    {
     "name": "stderr",
     "output_type": "stream",
     "text": [
      "Training: 100%|██████████| 56/56 [00:00<00:00, 330.68it/s]\n",
      "Evaluating: 100%|██████████| 7/7 [00:00<00:00, 446.63it/s]\n",
      "Training: 100%|██████████| 56/56 [00:00<00:00, 335.70it/s]\n",
      "Evaluating: 100%|██████████| 7/7 [00:00<00:00, 386.43it/s]\n",
      "Training: 100%|██████████| 56/56 [00:00<00:00, 342.65it/s]\n",
      "Evaluating: 100%|██████████| 7/7 [00:00<00:00, 4341.29it/s]\n",
      "Training: 100%|██████████| 56/56 [00:00<00:00, 336.46it/s]\n",
      "Evaluating: 100%|██████████| 7/7 [00:00<00:00, 323.51it/s]\n",
      "Training: 100%|██████████| 56/56 [00:00<00:00, 359.91it/s]\n",
      "Evaluating: 100%|██████████| 7/7 [00:00<00:00, 1841.34it/s]\n",
      "Training: 100%|██████████| 56/56 [00:00<00:00, 336.94it/s]\n",
      "Evaluating: 100%|██████████| 7/7 [00:00<00:00, 420.52it/s]\n",
      "Training: 100%|██████████| 56/56 [00:00<00:00, 373.30it/s]\n",
      "Evaluating: 100%|██████████| 7/7 [00:00<?, ?it/s]\n",
      "Training: 100%|██████████| 56/56 [00:00<00:00, 335.11it/s]\n",
      "Evaluating: 100%|██████████| 7/7 [00:00<00:00, 293.92it/s]\n",
      "Training: 100%|██████████| 56/56 [00:00<00:00, 351.13it/s]\n",
      "Evaluating: 100%|██████████| 7/7 [00:00<00:00, 363.70it/s]\n"
     ]
    },
    {
     "name": "stdout",
     "output_type": "stream",
     "text": [
      "Epoch 100/100\n",
      "Training Loss: 0.0821, Training Accuracy: 0.9774\n",
      "Validation Loss: 0.1001, Validation Accuracy: 0.9388\n",
      "Fold 8/10\n"
     ]
    },
    {
     "name": "stderr",
     "output_type": "stream",
     "text": [
      "Training: 100%|██████████| 56/56 [00:00<00:00, 341.59it/s]\n",
      "Evaluating: 100%|██████████| 7/7 [00:00<00:00, 431.01it/s]\n"
     ]
    },
    {
     "name": "stdout",
     "output_type": "stream",
     "text": [
      "Epoch 1/100\n",
      "Training Loss: 0.9167, Training Accuracy: 0.7675\n",
      "Validation Loss: 0.3688, Validation Accuracy: 0.8776\n"
     ]
    },
    {
     "name": "stderr",
     "output_type": "stream",
     "text": [
      "Training: 100%|██████████| 56/56 [00:00<00:00, 366.34it/s]\n",
      "Evaluating: 100%|██████████| 7/7 [00:00<00:00, 478.15it/s]\n",
      "Training: 100%|██████████| 56/56 [00:00<00:00, 337.40it/s]\n",
      "Evaluating: 100%|██████████| 7/7 [00:00<00:00, 406.21it/s]\n",
      "Training: 100%|██████████| 56/56 [00:00<00:00, 336.30it/s]\n",
      "Evaluating: 100%|██████████| 7/7 [00:00<00:00, 349.63it/s]\n",
      "Training: 100%|██████████| 56/56 [00:00<00:00, 348.47it/s]\n",
      "Evaluating: 100%|██████████| 7/7 [00:00<00:00, 5504.34it/s]\n",
      "Training: 100%|██████████| 56/56 [00:00<00:00, 374.03it/s]\n",
      "Evaluating: 100%|██████████| 7/7 [00:00<00:00, 423.01it/s]\n",
      "Training: 100%|██████████| 56/56 [00:00<00:00, 335.81it/s]\n",
      "Evaluating: 100%|██████████| 7/7 [00:00<00:00, 331.48it/s]\n",
      "Training: 100%|██████████| 56/56 [00:00<00:00, 343.63it/s]\n",
      "Evaluating: 100%|██████████| 7/7 [00:00<?, ?it/s]\n",
      "Training: 100%|██████████| 56/56 [00:00<00:00, 353.70it/s]\n",
      "Evaluating: 100%|██████████| 7/7 [00:00<00:00, 1110.74it/s]\n",
      "Training: 100%|██████████| 56/56 [00:00<00:00, 335.55it/s]\n",
      "Evaluating: 100%|██████████| 7/7 [00:00<00:00, 427.77it/s]\n",
      "Training: 100%|██████████| 56/56 [00:00<00:00, 335.16it/s]\n",
      "Evaluating: 100%|██████████| 7/7 [00:00<00:00, 353.52it/s]\n"
     ]
    },
    {
     "name": "stdout",
     "output_type": "stream",
     "text": [
      "Epoch 11/100\n",
      "Training Loss: 0.1288, Training Accuracy: 0.9639\n",
      "Validation Loss: 0.1642, Validation Accuracy: 0.9184\n"
     ]
    },
    {
     "name": "stderr",
     "output_type": "stream",
     "text": [
      "Training: 100%|██████████| 56/56 [00:00<00:00, 311.58it/s]\n",
      "Evaluating: 100%|██████████| 7/7 [00:00<00:00, 357.98it/s]\n",
      "Training: 100%|██████████| 56/56 [00:00<00:00, 353.20it/s]\n",
      "Evaluating: 100%|██████████| 7/7 [00:00<00:00, 2057.47it/s]\n",
      "Training: 100%|██████████| 56/56 [00:00<00:00, 331.05it/s]\n",
      "Evaluating: 100%|██████████| 7/7 [00:00<00:00, 489.29it/s]\n",
      "Training: 100%|██████████| 56/56 [00:00<00:00, 338.32it/s]\n",
      "Evaluating: 100%|██████████| 7/7 [00:00<?, ?it/s]\n",
      "Training: 100%|██████████| 56/56 [00:00<00:00, 322.44it/s]\n",
      "Evaluating: 100%|██████████| 7/7 [00:00<00:00, 816.69it/s]\n",
      "Training: 100%|██████████| 56/56 [00:00<00:00, 371.76it/s]\n",
      "Evaluating: 100%|██████████| 7/7 [00:00<00:00, 1852.26it/s]\n",
      "Training: 100%|██████████| 56/56 [00:00<00:00, 342.11it/s]\n",
      "Evaluating: 100%|██████████| 7/7 [00:00<00:00, 418.71it/s]\n",
      "Training: 100%|██████████| 56/56 [00:00<00:00, 336.05it/s]\n",
      "Evaluating: 100%|██████████| 7/7 [00:00<00:00, 408.07it/s]\n",
      "Training: 100%|██████████| 56/56 [00:00<00:00, 338.93it/s]\n",
      "Evaluating: 100%|██████████| 7/7 [00:00<00:00, 3262.24it/s]\n",
      "Training: 100%|██████████| 56/56 [00:00<00:00, 341.41it/s]\n",
      "Evaluating: 100%|██████████| 7/7 [00:00<00:00, 417.47it/s]\n"
     ]
    },
    {
     "name": "stdout",
     "output_type": "stream",
     "text": [
      "Epoch 21/100\n",
      "Training Loss: 0.1246, Training Accuracy: 0.9661\n",
      "Validation Loss: 0.1559, Validation Accuracy: 0.9592\n"
     ]
    },
    {
     "name": "stderr",
     "output_type": "stream",
     "text": [
      "Training: 100%|██████████| 56/56 [00:00<00:00, 336.99it/s]\n",
      "Evaluating: 100%|██████████| 7/7 [00:00<00:00, 933.64it/s]\n",
      "Training: 100%|██████████| 56/56 [00:00<00:00, 354.04it/s]\n",
      "Evaluating: 100%|██████████| 7/7 [00:00<00:00, 363.69it/s]\n",
      "Training: 100%|██████████| 56/56 [00:00<00:00, 341.48it/s]\n",
      "Evaluating: 100%|██████████| 7/7 [00:00<00:00, 380.47it/s]\n",
      "Training: 100%|██████████| 56/56 [00:00<00:00, 341.77it/s]\n",
      "Evaluating: 100%|██████████| 7/7 [00:00<?, ?it/s]\n",
      "Training: 100%|██████████| 56/56 [00:00<00:00, 330.61it/s]\n",
      "Evaluating: 100%|██████████| 7/7 [00:00<00:00, 491.08it/s]\n",
      "Training: 100%|██████████| 56/56 [00:00<00:00, 372.04it/s]\n",
      "Evaluating: 100%|██████████| 7/7 [00:00<?, ?it/s]\n",
      "Training: 100%|██████████| 56/56 [00:00<00:00, 336.10it/s]\n",
      "Evaluating: 100%|██████████| 7/7 [00:00<00:00, 359.49it/s]\n",
      "Training: 100%|██████████| 56/56 [00:00<00:00, 335.76it/s]\n",
      "Evaluating: 100%|██████████| 7/7 [00:00<00:00, 380.75it/s]\n",
      "Training: 100%|██████████| 56/56 [00:00<00:00, 357.59it/s]\n",
      "Evaluating: 100%|██████████| 7/7 [00:00<00:00, 1815.60it/s]\n",
      "Training: 100%|██████████| 56/56 [00:00<00:00, 330.80it/s]\n",
      "Evaluating: 100%|██████████| 7/7 [00:00<00:00, 489.21it/s]\n"
     ]
    },
    {
     "name": "stdout",
     "output_type": "stream",
     "text": [
      "Epoch 31/100\n",
      "Training Loss: 0.1135, Training Accuracy: 0.9684\n",
      "Validation Loss: 0.1513, Validation Accuracy: 0.9592\n"
     ]
    },
    {
     "name": "stderr",
     "output_type": "stream",
     "text": [
      "Training: 100%|██████████| 56/56 [00:00<00:00, 365.91it/s]\n",
      "Evaluating: 100%|██████████| 7/7 [00:00<00:00, 501.61it/s]\n",
      "Training: 100%|██████████| 56/56 [00:00<00:00, 336.06it/s]\n",
      "Evaluating: 100%|██████████| 7/7 [00:00<00:00, 421.22it/s]\n",
      "Training: 100%|██████████| 56/56 [00:00<00:00, 335.69it/s]\n",
      "Evaluating: 100%|██████████| 7/7 [00:00<00:00, 423.78it/s]\n",
      "Training: 100%|██████████| 56/56 [00:00<00:00, 334.22it/s]\n",
      "Evaluating: 100%|██████████| 7/7 [00:00<00:00, 636.42it/s]\n",
      "Training: 100%|██████████| 56/56 [00:00<00:00, 366.48it/s]\n",
      "Evaluating: 100%|██████████| 7/7 [00:00<00:00, 494.13it/s]\n",
      "Training: 100%|██████████| 56/56 [00:00<00:00, 332.06it/s]\n",
      "Evaluating: 100%|██████████| 7/7 [00:00<00:00, 411.71it/s]\n",
      "Training: 100%|██████████| 56/56 [00:00<00:00, 340.25it/s]\n",
      "Evaluating: 100%|██████████| 7/7 [00:00<00:00, 417.27it/s]\n",
      "Training: 100%|██████████| 56/56 [00:00<00:00, 335.55it/s]\n",
      "Evaluating: 100%|██████████| 7/7 [00:00<?, ?it/s]\n",
      "Training: 100%|██████████| 56/56 [00:00<00:00, 362.37it/s]\n",
      "Evaluating: 100%|██████████| 7/7 [00:00<00:00, 348.70it/s]\n",
      "Training: 100%|██████████| 56/56 [00:00<00:00, 370.08it/s]\n",
      "Evaluating: 100%|██████████| 7/7 [00:00<00:00, 1234.92it/s]\n"
     ]
    },
    {
     "name": "stdout",
     "output_type": "stream",
     "text": [
      "Epoch 41/100\n",
      "Training Loss: 0.1069, Training Accuracy: 0.9752\n",
      "Validation Loss: 0.1468, Validation Accuracy: 0.9592\n"
     ]
    },
    {
     "name": "stderr",
     "output_type": "stream",
     "text": [
      "Training: 100%|██████████| 56/56 [00:00<00:00, 323.83it/s]\n",
      "Evaluating: 100%|██████████| 7/7 [00:00<00:00, 586.39it/s]\n",
      "Training: 100%|██████████| 56/56 [00:00<00:00, 351.91it/s]\n",
      "Evaluating: 100%|██████████| 7/7 [00:00<00:00, 3127.41it/s]\n",
      "Training: 100%|██████████| 56/56 [00:00<00:00, 335.46it/s]\n",
      "Evaluating: 100%|██████████| 7/7 [00:00<00:00, 333.95it/s]\n",
      "Training: 100%|██████████| 56/56 [00:00<00:00, 377.10it/s]\n",
      "Evaluating: 100%|██████████| 7/7 [00:00<00:00, 294.73it/s]\n",
      "Training: 100%|██████████| 56/56 [00:00<00:00, 358.97it/s]\n",
      "Evaluating: 100%|██████████| 7/7 [00:00<00:00, 422.30it/s]\n",
      "Training: 100%|██████████| 56/56 [00:00<00:00, 372.51it/s]\n",
      "Evaluating: 100%|██████████| 7/7 [00:00<?, ?it/s]\n",
      "Training: 100%|██████████| 56/56 [00:00<00:00, 330.69it/s]\n",
      "Evaluating: 100%|██████████| 7/7 [00:00<00:00, 365.05it/s]\n",
      "Training: 100%|██████████| 56/56 [00:00<00:00, 384.07it/s]\n",
      "Evaluating: 100%|██████████| 7/7 [00:00<00:00, 307.17it/s]\n",
      "Training: 100%|██████████| 56/56 [00:00<00:00, 344.63it/s]\n",
      "Evaluating: 100%|██████████| 7/7 [00:00<00:00, 633.62it/s]\n",
      "Training: 100%|██████████| 56/56 [00:00<00:00, 353.21it/s]\n",
      "Evaluating: 100%|██████████| 7/7 [00:00<00:00, 1130.89it/s]\n"
     ]
    },
    {
     "name": "stdout",
     "output_type": "stream",
     "text": [
      "Epoch 51/100\n",
      "Training Loss: 0.1005, Training Accuracy: 0.9774\n",
      "Validation Loss: 0.1437, Validation Accuracy: 0.9592\n"
     ]
    },
    {
     "name": "stderr",
     "output_type": "stream",
     "text": [
      "Training: 100%|██████████| 56/56 [00:00<00:00, 335.76it/s]\n",
      "Evaluating: 100%|██████████| 7/7 [00:00<00:00, 421.82it/s]\n",
      "Training: 100%|██████████| 56/56 [00:00<00:00, 353.00it/s]\n",
      "Evaluating: 100%|██████████| 7/7 [00:00<00:00, 845.46it/s]\n",
      "Training: 100%|██████████| 56/56 [00:00<00:00, 316.07it/s]\n",
      "Evaluating: 100%|██████████| 7/7 [00:00<00:00, 955.45it/s]\n",
      "Training: 100%|██████████| 56/56 [00:00<00:00, 341.84it/s]\n",
      "Evaluating: 100%|██████████| 7/7 [00:00<00:00, 428.97it/s]\n",
      "Training: 100%|██████████| 56/56 [00:00<00:00, 335.12it/s]\n",
      "Evaluating: 100%|██████████| 7/7 [00:00<00:00, 538.54it/s]\n",
      "Training: 100%|██████████| 56/56 [00:00<00:00, 353.61it/s]\n",
      "Evaluating: 100%|██████████| 7/7 [00:00<00:00, 1127.07it/s]\n",
      "Training: 100%|██████████| 56/56 [00:00<00:00, 339.77it/s]\n",
      "Evaluating: 100%|██████████| 7/7 [00:00<?, ?it/s]\n",
      "Training: 100%|██████████| 56/56 [00:00<00:00, 324.18it/s]\n",
      "Evaluating: 100%|██████████| 7/7 [00:00<00:00, 806.22it/s]\n",
      "Training: 100%|██████████| 56/56 [00:00<00:00, 372.78it/s]\n",
      "Evaluating: 100%|██████████| 7/7 [00:00<00:00, 419.04it/s]\n",
      "Training: 100%|██████████| 56/56 [00:00<00:00, 336.04it/s]\n",
      "Evaluating: 100%|██████████| 7/7 [00:00<00:00, 320.31it/s]\n"
     ]
    },
    {
     "name": "stdout",
     "output_type": "stream",
     "text": [
      "Epoch 61/100\n",
      "Training Loss: 0.0940, Training Accuracy: 0.9774\n",
      "Validation Loss: 0.1452, Validation Accuracy: 0.9592\n"
     ]
    },
    {
     "name": "stderr",
     "output_type": "stream",
     "text": [
      "Training: 100%|██████████| 56/56 [00:00<00:00, 350.03it/s]\n",
      "Evaluating: 100%|██████████| 7/7 [00:00<00:00, 365.20it/s]\n",
      "Training: 100%|██████████| 56/56 [00:00<00:00, 344.30it/s]\n",
      "Evaluating: 100%|██████████| 7/7 [00:00<00:00, 2728.89it/s]\n",
      "Training: 100%|██████████| 56/56 [00:00<00:00, 341.42it/s]\n",
      "Evaluating: 100%|██████████| 7/7 [00:00<00:00, 424.10it/s]\n",
      "Training: 100%|██████████| 56/56 [00:00<00:00, 373.11it/s]\n",
      "Evaluating: 100%|██████████| 7/7 [00:00<00:00, 362.56it/s]\n",
      "Training: 100%|██████████| 56/56 [00:00<00:00, 329.65it/s]\n",
      "Evaluating: 100%|██████████| 7/7 [00:00<00:00, 548.87it/s]\n",
      "Training: 100%|██████████| 56/56 [00:00<00:00, 356.63it/s]\n",
      "Evaluating: 100%|██████████| 7/7 [00:00<00:00, 521.24it/s]\n",
      "Training: 100%|██████████| 56/56 [00:00<00:00, 358.98it/s]\n",
      "Evaluating: 100%|██████████| 7/7 [00:00<00:00, 311.74it/s]\n",
      "Training: 100%|██████████| 56/56 [00:00<00:00, 354.75it/s]\n",
      "Evaluating: 100%|██████████| 7/7 [00:00<00:00, 423.29it/s]\n",
      "Training: 100%|██████████| 56/56 [00:00<00:00, 372.06it/s]\n",
      "Evaluating: 100%|██████████| 7/7 [00:00<00:00, 429.46it/s]\n",
      "Training: 100%|██████████| 56/56 [00:00<00:00, 335.61it/s]\n",
      "Evaluating: 100%|██████████| 7/7 [00:00<00:00, 414.89it/s]\n"
     ]
    },
    {
     "name": "stdout",
     "output_type": "stream",
     "text": [
      "Epoch 71/100\n",
      "Training Loss: 0.0916, Training Accuracy: 0.9707\n",
      "Validation Loss: 0.1403, Validation Accuracy: 0.9592\n"
     ]
    },
    {
     "name": "stderr",
     "output_type": "stream",
     "text": [
      "Training: 100%|██████████| 56/56 [00:00<00:00, 341.51it/s]\n",
      "Evaluating: 100%|██████████| 7/7 [00:00<00:00, 5130.20it/s]\n",
      "Training: 100%|██████████| 56/56 [00:00<00:00, 337.11it/s]\n",
      "Evaluating: 100%|██████████| 7/7 [00:00<00:00, 362.48it/s]\n",
      "Training: 100%|██████████| 56/56 [00:00<00:00, 371.32it/s]\n",
      "Evaluating: 100%|██████████| 7/7 [00:00<00:00, 306.19it/s]\n",
      "Training: 100%|██████████| 56/56 [00:00<00:00, 357.75it/s]\n",
      "Evaluating: 100%|██████████| 7/7 [00:00<00:00, 420.92it/s]\n",
      "Training: 100%|██████████| 56/56 [00:00<00:00, 336.08it/s]\n",
      "Evaluating: 100%|██████████| 7/7 [00:00<00:00, 4076.10it/s]\n",
      "Training: 100%|██████████| 56/56 [00:00<00:00, 343.40it/s]\n",
      "Evaluating: 100%|██████████| 7/7 [00:00<00:00, 424.02it/s]\n",
      "Training: 100%|██████████| 56/56 [00:00<00:00, 336.19it/s]\n",
      "Evaluating: 100%|██████████| 7/7 [00:00<?, ?it/s]\n",
      "Training: 100%|██████████| 56/56 [00:00<00:00, 319.17it/s]\n",
      "Evaluating: 100%|██████████| 7/7 [00:00<00:00, 459.11it/s]\n",
      "Training: 100%|██████████| 56/56 [00:00<00:00, 357.11it/s]\n",
      "Evaluating: 100%|██████████| 7/7 [00:00<?, ?it/s]\n",
      "Training: 100%|██████████| 56/56 [00:00<00:00, 317.12it/s]\n",
      "Evaluating: 100%|██████████| 7/7 [00:00<00:00, 821.01it/s]\n"
     ]
    },
    {
     "name": "stdout",
     "output_type": "stream",
     "text": [
      "Epoch 81/100\n",
      "Training Loss: 0.0947, Training Accuracy: 0.9752\n",
      "Validation Loss: 0.1398, Validation Accuracy: 0.9592\n"
     ]
    },
    {
     "name": "stderr",
     "output_type": "stream",
     "text": [
      "Training: 100%|██████████| 56/56 [00:00<00:00, 337.35it/s]\n",
      "Evaluating: 100%|██████████| 7/7 [00:00<00:00, 417.05it/s]\n",
      "Training: 100%|██████████| 56/56 [00:00<00:00, 372.24it/s]\n",
      "Evaluating: 100%|██████████| 7/7 [00:00<00:00, 500.02it/s]\n",
      "Training: 100%|██████████| 56/56 [00:00<00:00, 357.83it/s]\n",
      "Evaluating: 100%|██████████| 7/7 [00:00<00:00, 901.09it/s]\n",
      "Training: 100%|██████████| 56/56 [00:00<00:00, 343.64it/s]\n",
      "Evaluating: 100%|██████████| 7/7 [00:00<00:00, 1514.89it/s]\n",
      "Training: 100%|██████████| 56/56 [00:00<00:00, 327.65it/s]\n",
      "Evaluating: 100%|██████████| 7/7 [00:00<00:00, 785.64it/s]\n",
      "Training: 100%|██████████| 56/56 [00:00<00:00, 373.27it/s]\n",
      "Evaluating: 100%|██████████| 7/7 [00:00<00:00, 415.90it/s]\n",
      "Training: 100%|██████████| 56/56 [00:00<00:00, 336.31it/s]\n",
      "Evaluating: 100%|██████████| 7/7 [00:00<00:00, 379.04it/s]\n",
      "Training: 100%|██████████| 56/56 [00:00<00:00, 360.89it/s]\n",
      "Evaluating: 100%|██████████| 7/7 [00:00<00:00, 1167.73it/s]\n",
      "Training: 100%|██████████| 56/56 [00:00<00:00, 366.82it/s]\n",
      "Evaluating: 100%|██████████| 7/7 [00:00<00:00, 487.44it/s]\n",
      "Training: 100%|██████████| 56/56 [00:00<00:00, 336.12it/s]\n",
      "Evaluating: 100%|██████████| 7/7 [00:00<00:00, 341.17it/s]\n"
     ]
    },
    {
     "name": "stdout",
     "output_type": "stream",
     "text": [
      "Epoch 91/100\n",
      "Training Loss: 0.0815, Training Accuracy: 0.9774\n",
      "Validation Loss: 0.1370, Validation Accuracy: 0.9592\n"
     ]
    },
    {
     "name": "stderr",
     "output_type": "stream",
     "text": [
      "Training: 100%|██████████| 56/56 [00:00<00:00, 351.45it/s]\n",
      "Evaluating: 100%|██████████| 7/7 [00:00<?, ?it/s]\n",
      "Training: 100%|██████████| 56/56 [00:00<00:00, 336.67it/s]\n",
      "Evaluating: 100%|██████████| 7/7 [00:00<00:00, 350.02it/s]\n",
      "Training: 100%|██████████| 56/56 [00:00<00:00, 343.65it/s]\n",
      "Evaluating: 100%|██████████| 7/7 [00:00<?, ?it/s]\n",
      "Training: 100%|██████████| 56/56 [00:00<00:00, 336.34it/s]\n",
      "Evaluating: 100%|██████████| 7/7 [00:00<00:00, 419.97it/s]\n",
      "Training: 100%|██████████| 56/56 [00:00<00:00, 337.52it/s]\n",
      "Evaluating: 100%|██████████| 7/7 [00:00<00:00, 4856.93it/s]\n",
      "Training: 100%|██████████| 56/56 [00:00<00:00, 341.29it/s]\n",
      "Evaluating: 100%|██████████| 7/7 [00:00<00:00, 418.84it/s]\n",
      "Training: 100%|██████████| 56/56 [00:00<00:00, 335.80it/s]\n",
      "Evaluating: 100%|██████████| 7/7 [00:00<?, ?it/s]\n",
      "Training: 100%|██████████| 56/56 [00:00<00:00, 330.09it/s]\n",
      "Evaluating: 100%|██████████| 7/7 [00:00<00:00, 499.22it/s]\n",
      "Training: 100%|██████████| 56/56 [00:00<00:00, 373.05it/s]\n",
      "Evaluating: 100%|██████████| 7/7 [00:00<00:00, 416.17it/s]\n"
     ]
    },
    {
     "name": "stdout",
     "output_type": "stream",
     "text": [
      "Epoch 100/100\n",
      "Training Loss: 0.0779, Training Accuracy: 0.9774\n",
      "Validation Loss: 0.1383, Validation Accuracy: 0.9592\n",
      "Fold 9/10\n"
     ]
    },
    {
     "name": "stderr",
     "output_type": "stream",
     "text": [
      "Training: 100%|██████████| 56/56 [00:00<00:00, 305.26it/s]\n",
      "Evaluating: 100%|██████████| 7/7 [00:00<00:00, 428.46it/s]\n"
     ]
    },
    {
     "name": "stdout",
     "output_type": "stream",
     "text": [
      "Epoch 1/100\n",
      "Training Loss: 1.3217, Training Accuracy: 0.7585\n",
      "Validation Loss: 0.0979, Validation Accuracy: 0.9796\n"
     ]
    },
    {
     "name": "stderr",
     "output_type": "stream",
     "text": [
      "Training: 100%|██████████| 56/56 [00:00<00:00, 330.13it/s]\n",
      "Evaluating: 100%|██████████| 7/7 [00:00<00:00, 493.23it/s]\n",
      "Training: 100%|██████████| 56/56 [00:00<00:00, 335.79it/s]\n",
      "Evaluating: 100%|██████████| 7/7 [00:00<00:00, 428.26it/s]\n",
      "Training: 100%|██████████| 56/56 [00:00<00:00, 372.76it/s]\n",
      "Evaluating: 100%|██████████| 7/7 [00:00<00:00, 5908.66it/s]\n",
      "Training: 100%|██████████| 56/56 [00:00<00:00, 335.89it/s]\n",
      "Evaluating: 100%|██████████| 7/7 [00:00<00:00, 426.45it/s]\n",
      "Training: 100%|██████████| 56/56 [00:00<00:00, 335.36it/s]\n",
      "Evaluating: 100%|██████████| 7/7 [00:00<00:00, 406.28it/s]\n",
      "Training: 100%|██████████| 56/56 [00:00<00:00, 346.15it/s]\n",
      "Evaluating: 100%|██████████| 7/7 [00:00<?, ?it/s]\n",
      "Training: 100%|██████████| 56/56 [00:00<00:00, 336.39it/s]\n",
      "Evaluating: 100%|██████████| 7/7 [00:00<00:00, 389.61it/s]\n",
      "Training: 100%|██████████| 56/56 [00:00<00:00, 347.38it/s]\n",
      "Evaluating: 100%|██████████| 7/7 [00:00<00:00, 1908.73it/s]\n",
      "Training: 100%|██████████| 56/56 [00:00<00:00, 341.69it/s]\n",
      "Evaluating: 100%|██████████| 7/7 [00:00<00:00, 419.55it/s]\n",
      "Training: 100%|██████████| 56/56 [00:00<00:00, 336.24it/s]\n",
      "Evaluating: 100%|██████████| 7/7 [00:00<00:00, 352.30it/s]\n"
     ]
    },
    {
     "name": "stdout",
     "output_type": "stream",
     "text": [
      "Epoch 11/100\n",
      "Training Loss: 0.1496, Training Accuracy: 0.9549\n",
      "Validation Loss: 0.0897, Validation Accuracy: 1.0000\n"
     ]
    },
    {
     "name": "stderr",
     "output_type": "stream",
     "text": [
      "Training: 100%|██████████| 56/56 [00:00<00:00, 346.70it/s]\n",
      "Evaluating: 100%|██████████| 7/7 [00:00<00:00, 18145.94it/s]\n",
      "Training: 100%|██████████| 56/56 [00:00<00:00, 335.95it/s]\n",
      "Evaluating: 100%|██████████| 7/7 [00:00<00:00, 361.95it/s]\n",
      "Training: 100%|██████████| 56/56 [00:00<00:00, 379.73it/s]\n",
      "Evaluating: 100%|██████████| 7/7 [00:00<?, ?it/s]\n",
      "Training: 100%|██████████| 56/56 [00:00<00:00, 335.68it/s]\n",
      "Evaluating: 100%|██████████| 7/7 [00:00<00:00, 414.35it/s]\n",
      "Training: 100%|██████████| 56/56 [00:00<00:00, 346.54it/s]\n",
      "Evaluating: 100%|██████████| 7/7 [00:00<00:00, 1277.25it/s]\n",
      "Training: 100%|██████████| 56/56 [00:00<00:00, 341.08it/s]\n",
      "Evaluating: 100%|██████████| 7/7 [00:00<00:00, 412.70it/s]\n",
      "Training: 100%|██████████| 56/56 [00:00<00:00, 336.14it/s]\n",
      "Evaluating: 100%|██████████| 7/7 [00:00<?, ?it/s]\n",
      "Training: 100%|██████████| 56/56 [00:00<00:00, 329.92it/s]\n",
      "Evaluating: 100%|██████████| 7/7 [00:00<00:00, 500.95it/s]\n",
      "Training: 100%|██████████| 56/56 [00:00<00:00, 344.31it/s]\n",
      "Evaluating: 100%|██████████| 7/7 [00:00<00:00, 2298.25it/s]\n",
      "Training: 100%|██████████| 56/56 [00:00<00:00, 336.05it/s]\n",
      "Evaluating: 100%|██████████| 7/7 [00:00<00:00, 417.66it/s]\n"
     ]
    },
    {
     "name": "stdout",
     "output_type": "stream",
     "text": [
      "Epoch 21/100\n",
      "Training Loss: 0.1468, Training Accuracy: 0.9594\n",
      "Validation Loss: 0.0780, Validation Accuracy: 1.0000\n"
     ]
    },
    {
     "name": "stderr",
     "output_type": "stream",
     "text": [
      "Training: 100%|██████████| 56/56 [00:00<00:00, 335.81it/s]\n",
      "Evaluating: 100%|██████████| 7/7 [00:00<00:00, 431.44it/s]\n",
      "Training: 100%|██████████| 56/56 [00:00<00:00, 359.56it/s]\n",
      "Evaluating: 100%|██████████| 7/7 [00:00<00:00, 772.55it/s]\n",
      "Training: 100%|██████████| 56/56 [00:00<00:00, 366.14it/s]\n",
      "Evaluating: 100%|██████████| 7/7 [00:00<00:00, 515.74it/s]\n",
      "Training: 100%|██████████| 56/56 [00:00<00:00, 362.38it/s]\n",
      "Evaluating: 100%|██████████| 7/7 [00:00<00:00, 495.91it/s]\n",
      "Training: 100%|██████████| 56/56 [00:00<00:00, 336.64it/s]\n",
      "Evaluating: 100%|██████████| 7/7 [00:00<?, ?it/s]\n",
      "Training: 100%|██████████| 56/56 [00:00<00:00, 336.11it/s]\n",
      "Evaluating: 100%|██████████| 7/7 [00:00<00:00, 355.26it/s]\n",
      "Training: 100%|██████████| 56/56 [00:00<00:00, 355.24it/s]\n",
      "Evaluating: 100%|██████████| 7/7 [00:00<00:00, 2237.64it/s]\n",
      "Training: 100%|██████████| 56/56 [00:00<00:00, 335.70it/s]\n",
      "Evaluating: 100%|██████████| 7/7 [00:00<00:00, 419.71it/s]\n",
      "Training: 100%|██████████| 56/56 [00:00<00:00, 335.69it/s]\n",
      "Evaluating: 100%|██████████| 7/7 [00:00<00:00, 423.94it/s]\n",
      "Training: 100%|██████████| 56/56 [00:00<00:00, 372.85it/s]\n",
      "Evaluating: 100%|██████████| 7/7 [00:00<00:00, 408.95it/s]\n"
     ]
    },
    {
     "name": "stdout",
     "output_type": "stream",
     "text": [
      "Epoch 31/100\n",
      "Training Loss: 0.1298, Training Accuracy: 0.9639\n",
      "Validation Loss: 0.0677, Validation Accuracy: 1.0000\n"
     ]
    },
    {
     "name": "stderr",
     "output_type": "stream",
     "text": [
      "Training: 100%|██████████| 56/56 [00:00<00:00, 329.83it/s]\n",
      "Evaluating: 100%|██████████| 7/7 [00:00<00:00, 516.79it/s]\n",
      "Training: 100%|██████████| 56/56 [00:00<00:00, 344.33it/s]\n",
      "Evaluating: 100%|██████████| 7/7 [00:00<00:00, 3238.13it/s]\n",
      "Training: 100%|██████████| 56/56 [00:00<00:00, 336.34it/s]\n",
      "Evaluating: 100%|██████████| 7/7 [00:00<00:00, 413.73it/s]\n",
      "Training: 100%|██████████| 56/56 [00:00<00:00, 338.03it/s]\n",
      "Evaluating: 100%|██████████| 7/7 [00:00<00:00, 4020.28it/s]\n",
      "Training: 100%|██████████| 56/56 [00:00<00:00, 341.14it/s]\n",
      "Evaluating: 100%|██████████| 7/7 [00:00<00:00, 423.59it/s]\n",
      "Training: 100%|██████████| 56/56 [00:00<00:00, 337.61it/s]\n",
      "Evaluating: 100%|██████████| 7/7 [00:00<?, ?it/s]\n",
      "Training: 100%|██████████| 56/56 [00:00<00:00, 330.69it/s]\n",
      "Evaluating: 100%|██████████| 7/7 [00:00<00:00, 489.16it/s]\n",
      "Training: 100%|██████████| 56/56 [00:00<00:00, 373.61it/s]\n",
      "Evaluating: 100%|██████████| 7/7 [00:00<?, ?it/s]\n",
      "Training: 100%|██████████| 56/56 [00:00<00:00, 335.98it/s]\n",
      "Evaluating: 100%|██████████| 7/7 [00:00<00:00, 415.44it/s]\n",
      "Training: 100%|██████████| 56/56 [00:00<00:00, 347.12it/s]\n",
      "Evaluating: 100%|██████████| 7/7 [00:00<00:00, 2103.31it/s]\n"
     ]
    },
    {
     "name": "stdout",
     "output_type": "stream",
     "text": [
      "Epoch 41/100\n",
      "Training Loss: 0.1220, Training Accuracy: 0.9684\n",
      "Validation Loss: 0.0569, Validation Accuracy: 0.9796\n"
     ]
    },
    {
     "name": "stderr",
     "output_type": "stream",
     "text": [
      "Training: 100%|██████████| 56/56 [00:00<00:00, 335.68it/s]\n",
      "Evaluating: 100%|██████████| 7/7 [00:00<00:00, 301.56it/s]\n",
      "Training: 100%|██████████| 56/56 [00:00<00:00, 350.29it/s]\n",
      "Evaluating: 100%|██████████| 7/7 [00:00<?, ?it/s]\n",
      "Training: 100%|██████████| 56/56 [00:00<00:00, 349.30it/s]\n",
      "Evaluating: 100%|██████████| 7/7 [00:00<00:00, 1040.95it/s]\n",
      "Training: 100%|██████████| 56/56 [00:00<00:00, 334.07it/s]\n",
      "Evaluating: 100%|██████████| 7/7 [00:00<00:00, 461.73it/s]\n",
      "Training: 100%|██████████| 56/56 [00:00<00:00, 356.96it/s]\n",
      "Evaluating: 100%|██████████| 7/7 [00:00<00:00, 753.13it/s]\n",
      "Training: 100%|██████████| 56/56 [00:00<00:00, 380.30it/s]\n",
      "Evaluating: 100%|██████████| 7/7 [00:00<?, ?it/s]\n",
      "Training: 100%|██████████| 56/56 [00:00<00:00, 336.10it/s]\n",
      "Evaluating: 100%|██████████| 7/7 [00:00<00:00, 416.23it/s]\n",
      "Training: 100%|██████████| 56/56 [00:00<00:00, 336.29it/s]\n",
      "Evaluating: 100%|██████████| 7/7 [00:00<00:00, 7582.68it/s]\n",
      "Training: 100%|██████████| 56/56 [00:00<00:00, 341.12it/s]\n",
      "Evaluating: 100%|██████████| 7/7 [00:00<00:00, 420.90it/s]\n",
      "Training: 100%|██████████| 56/56 [00:00<00:00, 337.80it/s]\n",
      "Evaluating: 100%|██████████| 7/7 [00:00<?, ?it/s]\n"
     ]
    },
    {
     "name": "stdout",
     "output_type": "stream",
     "text": [
      "Epoch 51/100\n",
      "Training Loss: 0.1160, Training Accuracy: 0.9684\n",
      "Validation Loss: 0.0559, Validation Accuracy: 1.0000\n"
     ]
    },
    {
     "name": "stderr",
     "output_type": "stream",
     "text": [
      "Training: 100%|██████████| 56/56 [00:00<00:00, 335.89it/s]\n",
      "Evaluating: 100%|██████████| 7/7 [00:00<00:00, 420.45it/s]\n",
      "Training: 100%|██████████| 56/56 [00:00<00:00, 372.56it/s]\n",
      "Evaluating: 100%|██████████| 7/7 [00:00<00:00, 358.60it/s]\n",
      "Training: 100%|██████████| 56/56 [00:00<00:00, 343.45it/s]\n",
      "Evaluating: 100%|██████████| 7/7 [00:00<?, ?it/s]\n",
      "Training: 100%|██████████| 56/56 [00:00<00:00, 335.30it/s]\n",
      "Evaluating: 100%|██████████| 7/7 [00:00<00:00, 423.52it/s]\n",
      "Training: 100%|██████████| 56/56 [00:00<00:00, 367.22it/s]\n",
      "Evaluating: 100%|██████████| 7/7 [00:00<00:00, 489.60it/s]\n",
      "Training: 100%|██████████| 56/56 [00:00<00:00, 346.07it/s]\n",
      "Evaluating: 100%|██████████| 7/7 [00:00<00:00, 2392.45it/s]\n",
      "Training: 100%|██████████| 56/56 [00:00<00:00, 373.04it/s]\n",
      "Evaluating: 100%|██████████| 7/7 [00:00<00:00, 2197.29it/s]\n",
      "Training: 100%|██████████| 56/56 [00:00<00:00, 338.07it/s]\n",
      "Evaluating: 100%|██████████| 7/7 [00:00<00:00, 480.60it/s]\n",
      "Training: 100%|██████████| 56/56 [00:00<00:00, 336.16it/s]\n",
      "Evaluating: 100%|██████████| 7/7 [00:00<00:00, 420.46it/s]\n",
      "Training: 100%|██████████| 56/56 [00:00<00:00, 351.32it/s]\n",
      "Evaluating: 100%|██████████| 7/7 [00:00<00:00, 1267.22it/s]\n"
     ]
    },
    {
     "name": "stdout",
     "output_type": "stream",
     "text": [
      "Epoch 61/100\n",
      "Training Loss: 0.1066, Training Accuracy: 0.9684\n",
      "Validation Loss: 0.0504, Validation Accuracy: 1.0000\n"
     ]
    },
    {
     "name": "stderr",
     "output_type": "stream",
     "text": [
      "Training: 100%|██████████| 56/56 [00:00<00:00, 366.39it/s]\n",
      "Evaluating: 100%|██████████| 7/7 [00:00<?, ?it/s]\n",
      "Training: 100%|██████████| 56/56 [00:00<00:00, 336.04it/s]\n",
      "Evaluating: 100%|██████████| 7/7 [00:00<00:00, 392.02it/s]\n",
      "Training: 100%|██████████| 56/56 [00:00<00:00, 354.89it/s]\n",
      "Evaluating: 100%|██████████| 7/7 [00:00<00:00, 1131.19it/s]\n",
      "Training: 100%|██████████| 56/56 [00:00<00:00, 338.05it/s]\n",
      "Evaluating: 100%|██████████| 7/7 [00:00<00:00, 613.30it/s]\n",
      "Training: 100%|██████████| 56/56 [00:00<00:00, 362.72it/s]\n",
      "Evaluating: 100%|██████████| 7/7 [00:00<00:00, 467.50it/s]\n",
      "Training: 100%|██████████| 56/56 [00:00<00:00, 373.24it/s]\n",
      "Evaluating: 100%|██████████| 7/7 [00:00<00:00, 321.84it/s]\n",
      "Training: 100%|██████████| 56/56 [00:00<00:00, 360.47it/s]\n",
      "Evaluating: 100%|██████████| 7/7 [00:00<00:00, 1333.76it/s]\n",
      "Training: 100%|██████████| 56/56 [00:00<00:00, 337.88it/s]\n",
      "Evaluating: 100%|██████████| 7/7 [00:00<00:00, 376.60it/s]\n",
      "Training: 100%|██████████| 56/56 [00:00<00:00, 382.78it/s]\n",
      "Evaluating: 100%|██████████| 7/7 [00:00<00:00, 427.73it/s]\n",
      "Training: 100%|██████████| 56/56 [00:00<00:00, 372.75it/s]\n",
      "Evaluating: 100%|██████████| 7/7 [00:00<00:00, 1602.19it/s]\n"
     ]
    },
    {
     "name": "stdout",
     "output_type": "stream",
     "text": [
      "Epoch 71/100\n",
      "Training Loss: 0.1012, Training Accuracy: 0.9707\n",
      "Validation Loss: 0.0490, Validation Accuracy: 1.0000\n"
     ]
    },
    {
     "name": "stderr",
     "output_type": "stream",
     "text": [
      "Training: 100%|██████████| 56/56 [00:00<00:00, 306.81it/s]\n",
      "Evaluating: 100%|██████████| 7/7 [00:00<00:00, 486.78it/s]\n",
      "Training: 100%|██████████| 56/56 [00:00<00:00, 373.51it/s]\n",
      "Evaluating: 100%|██████████| 7/7 [00:00<00:00, 555.87it/s]\n",
      "Training: 100%|██████████| 56/56 [00:00<00:00, 362.27it/s]\n",
      "Evaluating: 100%|██████████| 7/7 [00:00<00:00, 418.35it/s]\n",
      "Training: 100%|██████████| 56/56 [00:00<00:00, 347.13it/s]\n",
      "Evaluating: 100%|██████████| 7/7 [00:00<00:00, 989.86it/s]\n",
      "Training: 100%|██████████| 56/56 [00:00<00:00, 341.09it/s]\n",
      "Evaluating: 100%|██████████| 7/7 [00:00<00:00, 402.39it/s]\n",
      "Training: 100%|██████████| 56/56 [00:00<00:00, 366.54it/s]\n",
      "Evaluating: 100%|██████████| 7/7 [00:00<00:00, 548.02it/s]\n",
      "Training: 100%|██████████| 56/56 [00:00<00:00, 340.95it/s]\n",
      "Evaluating: 100%|██████████| 7/7 [00:00<?, ?it/s]\n",
      "Training: 100%|██████████| 56/56 [00:00<00:00, 368.52it/s]\n",
      "Evaluating: 100%|██████████| 7/7 [00:00<00:00, 484.56it/s]\n",
      "Training: 100%|██████████| 56/56 [00:00<00:00, 353.62it/s]\n",
      "Evaluating: 100%|██████████| 7/7 [00:00<00:00, 1117.88it/s]\n",
      "Training: 100%|██████████| 56/56 [00:00<00:00, 372.68it/s]\n",
      "Evaluating: 100%|██████████| 7/7 [00:00<00:00, 426.85it/s]\n"
     ]
    },
    {
     "name": "stdout",
     "output_type": "stream",
     "text": [
      "Epoch 81/100\n",
      "Training Loss: 0.0951, Training Accuracy: 0.9752\n",
      "Validation Loss: 0.0524, Validation Accuracy: 1.0000\n"
     ]
    },
    {
     "name": "stderr",
     "output_type": "stream",
     "text": [
      "Training: 100%|██████████| 56/56 [00:00<00:00, 335.44it/s]\n",
      "Evaluating: 100%|██████████| 7/7 [00:00<00:00, 416.54it/s]\n",
      "Training: 100%|██████████| 56/56 [00:00<00:00, 373.70it/s]\n",
      "Evaluating: 100%|██████████| 7/7 [00:00<?, ?it/s]\n",
      "Training: 100%|██████████| 56/56 [00:00<00:00, 336.23it/s]\n",
      "Evaluating: 100%|██████████| 7/7 [00:00<00:00, 421.36it/s]\n",
      "Training: 100%|██████████| 56/56 [00:00<00:00, 367.04it/s]\n",
      "Evaluating: 100%|██████████| 7/7 [00:00<?, ?it/s]\n",
      "Training: 100%|██████████| 56/56 [00:00<00:00, 335.74it/s]\n",
      "Evaluating: 100%|██████████| 7/7 [00:00<00:00, 420.04it/s]\n",
      "Training: 100%|██████████| 56/56 [00:00<00:00, 336.13it/s]\n",
      "Evaluating: 100%|██████████| 7/7 [00:00<00:00, 413.74it/s]\n",
      "Training: 100%|██████████| 56/56 [00:00<00:00, 337.81it/s]\n",
      "Evaluating: 100%|██████████| 7/7 [00:00<?, ?it/s]\n",
      "Training: 100%|██████████| 56/56 [00:00<00:00, 331.96it/s]\n",
      "Evaluating: 100%|██████████| 7/7 [00:00<00:00, 489.10it/s]\n",
      "Training: 100%|██████████| 56/56 [00:00<00:00, 373.11it/s]\n",
      "Evaluating: 100%|██████████| 7/7 [00:00<00:00, 510.03it/s]\n",
      "Training: 100%|██████████| 56/56 [00:00<00:00, 363.38it/s]\n",
      "Evaluating: 100%|██████████| 7/7 [00:00<00:00, 334.07it/s]\n"
     ]
    },
    {
     "name": "stdout",
     "output_type": "stream",
     "text": [
      "Epoch 91/100\n",
      "Training Loss: 0.0891, Training Accuracy: 0.9752\n",
      "Validation Loss: 0.0480, Validation Accuracy: 1.0000\n"
     ]
    },
    {
     "name": "stderr",
     "output_type": "stream",
     "text": [
      "Training: 100%|██████████| 56/56 [00:00<00:00, 353.21it/s]\n",
      "Evaluating: 100%|██████████| 7/7 [00:00<00:00, 3540.35it/s]\n",
      "Training: 100%|██████████| 56/56 [00:00<00:00, 335.50it/s]\n",
      "Evaluating: 100%|██████████| 7/7 [00:00<00:00, 355.86it/s]\n",
      "Training: 100%|██████████| 56/56 [00:00<00:00, 365.33it/s]\n",
      "Evaluating: 100%|██████████| 7/7 [00:00<00:00, 1225.74it/s]\n",
      "Training: 100%|██████████| 56/56 [00:00<00:00, 335.96it/s]\n",
      "Evaluating: 100%|██████████| 7/7 [00:00<00:00, 414.23it/s]\n",
      "Training: 100%|██████████| 56/56 [00:00<00:00, 372.95it/s]\n",
      "Evaluating: 100%|██████████| 7/7 [00:00<00:00, 362.91it/s]\n",
      "Training: 100%|██████████| 56/56 [00:00<00:00, 341.32it/s]\n",
      "Evaluating: 100%|██████████| 7/7 [00:00<?, ?it/s]\n",
      "Training: 100%|██████████| 56/56 [00:00<00:00, 335.40it/s]\n",
      "Evaluating: 100%|██████████| 7/7 [00:00<00:00, 418.80it/s]\n",
      "Training: 100%|██████████| 56/56 [00:00<00:00, 337.92it/s]\n",
      "Evaluating: 100%|██████████| 7/7 [00:00<00:00, 7969.63it/s]\n",
      "Training: 100%|██████████| 56/56 [00:00<00:00, 339.82it/s]\n",
      "Evaluating: 100%|██████████| 7/7 [00:00<00:00, 418.17it/s]\n"
     ]
    },
    {
     "name": "stdout",
     "output_type": "stream",
     "text": [
      "Epoch 100/100\n",
      "Training Loss: 0.0922, Training Accuracy: 0.9752\n",
      "Validation Loss: 0.0397, Validation Accuracy: 0.9796\n",
      "Fold 10/10\n"
     ]
    },
    {
     "name": "stderr",
     "output_type": "stream",
     "text": [
      "Training: 100%|██████████| 56/56 [00:00<00:00, 330.24it/s]\n",
      "Evaluating: 100%|██████████| 7/7 [00:00<?, ?it/s]\n"
     ]
    },
    {
     "name": "stdout",
     "output_type": "stream",
     "text": [
      "Epoch 1/100\n",
      "Training Loss: 1.8037, Training Accuracy: 0.7494\n",
      "Validation Loss: 0.6583, Validation Accuracy: 0.7959\n"
     ]
    },
    {
     "name": "stderr",
     "output_type": "stream",
     "text": [
      "Training: 100%|██████████| 56/56 [00:00<00:00, 366.56it/s]\n",
      "Evaluating: 100%|██████████| 7/7 [00:00<00:00, 496.91it/s]\n",
      "Training: 100%|██████████| 56/56 [00:00<00:00, 369.67it/s]\n",
      "Evaluating: 100%|██████████| 7/7 [00:00<00:00, 458.90it/s]\n",
      "Training: 100%|██████████| 56/56 [00:00<00:00, 335.34it/s]\n",
      "Evaluating: 100%|██████████| 7/7 [00:00<00:00, 420.78it/s]\n",
      "Training: 100%|██████████| 56/56 [00:00<00:00, 377.70it/s]\n",
      "Evaluating: 100%|██████████| 7/7 [00:00<00:00, 19718.02it/s]\n",
      "Training: 100%|██████████| 56/56 [00:00<00:00, 354.90it/s]\n",
      "Evaluating: 100%|██████████| 7/7 [00:00<00:00, 1084.44it/s]\n",
      "Training: 100%|██████████| 56/56 [00:00<00:00, 341.95it/s]\n",
      "Evaluating: 100%|██████████| 7/7 [00:00<00:00, 3417.94it/s]\n",
      "Training: 100%|██████████| 56/56 [00:00<00:00, 330.13it/s]\n",
      "Evaluating: 100%|██████████| 7/7 [00:00<00:00, 510.34it/s]\n",
      "Training: 100%|██████████| 56/56 [00:00<00:00, 373.32it/s]\n",
      "Evaluating: 100%|██████████| 7/7 [00:00<?, ?it/s]\n",
      "Training: 100%|██████████| 56/56 [00:00<00:00, 326.10it/s]\n",
      "Evaluating: 100%|██████████| 7/7 [00:00<00:00, 731.35it/s]\n",
      "Training: 100%|██████████| 56/56 [00:00<00:00, 366.33it/s]\n",
      "Evaluating: 100%|██████████| 7/7 [00:00<00:00, 498.83it/s]\n"
     ]
    },
    {
     "name": "stdout",
     "output_type": "stream",
     "text": [
      "Epoch 11/100\n",
      "Training Loss: 0.1420, Training Accuracy: 0.9571\n",
      "Validation Loss: 0.1074, Validation Accuracy: 0.9796\n"
     ]
    },
    {
     "name": "stderr",
     "output_type": "stream",
     "text": [
      "Training: 100%|██████████| 56/56 [00:00<00:00, 335.15it/s]\n",
      "Evaluating: 100%|██████████| 7/7 [00:00<00:00, 422.72it/s]\n",
      "Training: 100%|██████████| 56/56 [00:00<00:00, 335.73it/s]\n",
      "Evaluating: 100%|██████████| 7/7 [00:00<00:00, 388.48it/s]\n",
      "Training: 100%|██████████| 56/56 [00:00<00:00, 358.62it/s]\n",
      "Evaluating: 100%|██████████| 7/7 [00:00<00:00, 974.58it/s]\n",
      "Training: 100%|██████████| 56/56 [00:00<00:00, 344.73it/s]\n",
      "Evaluating: 100%|██████████| 7/7 [00:00<00:00, 4247.09it/s]\n",
      "Training: 100%|██████████| 56/56 [00:00<00:00, 336.87it/s]\n",
      "Evaluating: 100%|██████████| 7/7 [00:00<00:00, 373.00it/s]\n",
      "Training: 100%|██████████| 56/56 [00:00<00:00, 351.23it/s]\n",
      "Evaluating: 100%|██████████| 7/7 [00:00<00:00, 3189.58it/s]\n",
      "Training: 100%|██████████| 56/56 [00:00<00:00, 334.33it/s]\n",
      "Evaluating: 100%|██████████| 7/7 [00:00<00:00, 636.04it/s]\n",
      "Training: 100%|██████████| 56/56 [00:00<00:00, 370.58it/s]\n",
      "Evaluating: 100%|██████████| 7/7 [00:00<00:00, 416.04it/s]\n",
      "Training: 100%|██████████| 56/56 [00:00<00:00, 373.91it/s]\n",
      "Evaluating: 100%|██████████| 7/7 [00:00<00:00, 410.44it/s]\n",
      "Training: 100%|██████████| 56/56 [00:00<00:00, 336.72it/s]\n",
      "Evaluating: 100%|██████████| 7/7 [00:00<00:00, 6304.52it/s]\n"
     ]
    },
    {
     "name": "stdout",
     "output_type": "stream",
     "text": [
      "Epoch 21/100\n",
      "Training Loss: 0.1302, Training Accuracy: 0.9684\n",
      "Validation Loss: 0.1007, Validation Accuracy: 0.9796\n"
     ]
    },
    {
     "name": "stderr",
     "output_type": "stream",
     "text": [
      "Training: 100%|██████████| 56/56 [00:00<00:00, 353.63it/s]\n",
      "Evaluating: 100%|██████████| 7/7 [00:00<00:00, 617.22it/s]\n",
      "Training: 100%|██████████| 56/56 [00:00<00:00, 359.97it/s]\n",
      "Evaluating: 100%|██████████| 7/7 [00:00<00:00, 2212.35it/s]\n",
      "Training: 100%|██████████| 56/56 [00:00<00:00, 335.82it/s]\n",
      "Evaluating: 100%|██████████| 7/7 [00:00<00:00, 415.58it/s]\n",
      "Training: 100%|██████████| 56/56 [00:00<00:00, 355.25it/s]\n",
      "Evaluating: 100%|██████████| 7/7 [00:00<00:00, 1339.73it/s]\n",
      "Training: 100%|██████████| 56/56 [00:00<00:00, 340.97it/s]\n",
      "Evaluating: 100%|██████████| 7/7 [00:00<00:00, 3889.79it/s]\n",
      "Training: 100%|██████████| 56/56 [00:00<00:00, 336.11it/s]\n",
      "Evaluating: 100%|██████████| 7/7 [00:00<00:00, 331.34it/s]\n",
      "Training: 100%|██████████| 56/56 [00:00<00:00, 355.82it/s]\n",
      "Evaluating: 100%|██████████| 7/7 [00:00<00:00, 2353.89it/s]\n",
      "Training: 100%|██████████| 56/56 [00:00<00:00, 343.95it/s]\n",
      "Evaluating: 100%|██████████| 7/7 [00:00<00:00, 3041.24it/s]\n",
      "Training: 100%|██████████| 56/56 [00:00<00:00, 333.65it/s]\n",
      "Evaluating: 100%|██████████| 7/7 [00:00<00:00, 448.90it/s]\n",
      "Training: 100%|██████████| 56/56 [00:00<00:00, 367.75it/s]\n",
      "Evaluating: 100%|██████████| 7/7 [00:00<?, ?it/s]\n"
     ]
    },
    {
     "name": "stdout",
     "output_type": "stream",
     "text": [
      "Epoch 31/100\n",
      "Training Loss: 0.1247, Training Accuracy: 0.9707\n",
      "Validation Loss: 0.1039, Validation Accuracy: 1.0000\n"
     ]
    },
    {
     "name": "stderr",
     "output_type": "stream",
     "text": [
      "Training: 100%|██████████| 56/56 [00:00<00:00, 322.80it/s]\n",
      "Evaluating: 100%|██████████| 7/7 [00:00<00:00, 986.90it/s]\n",
      "Training: 100%|██████████| 56/56 [00:00<00:00, 337.20it/s]\n",
      "Evaluating: 100%|██████████| 7/7 [00:00<?, ?it/s]\n",
      "Training: 100%|██████████| 56/56 [00:00<00:00, 335.58it/s]\n",
      "Evaluating: 100%|██████████| 7/7 [00:00<00:00, 419.11it/s]\n",
      "Training: 100%|██████████| 56/56 [00:00<00:00, 335.91it/s]\n",
      "Evaluating: 100%|██████████| 7/7 [00:00<00:00, 417.71it/s]\n",
      "Training: 100%|██████████| 56/56 [00:00<00:00, 354.65it/s]\n",
      "Evaluating: 100%|██████████| 7/7 [00:00<00:00, 874.33it/s]\n",
      "Training: 100%|██████████| 56/56 [00:00<00:00, 373.44it/s]\n",
      "Evaluating: 100%|██████████| 7/7 [00:00<00:00, 411.88it/s]\n",
      "Training: 100%|██████████| 56/56 [00:00<00:00, 324.77it/s]\n",
      "Evaluating: 100%|██████████| 7/7 [00:00<00:00, 810.58it/s]\n",
      "Training: 100%|██████████| 56/56 [00:00<00:00, 373.08it/s]\n",
      "Evaluating: 100%|██████████| 7/7 [00:00<00:00, 2915.02it/s]\n",
      "Training: 100%|██████████| 56/56 [00:00<00:00, 327.64it/s]\n",
      "Evaluating: 100%|██████████| 7/7 [00:00<00:00, 768.71it/s]\n",
      "Training: 100%|██████████| 56/56 [00:00<00:00, 350.96it/s]\n",
      "Evaluating: 100%|██████████| 7/7 [00:00<00:00, 1291.75it/s]\n"
     ]
    },
    {
     "name": "stdout",
     "output_type": "stream",
     "text": [
      "Epoch 41/100\n",
      "Training Loss: 0.1180, Training Accuracy: 0.9661\n",
      "Validation Loss: 0.0917, Validation Accuracy: 1.0000\n"
     ]
    },
    {
     "name": "stderr",
     "output_type": "stream",
     "text": [
      "Training: 100%|██████████| 56/56 [00:00<00:00, 334.52it/s]\n",
      "Evaluating: 100%|██████████| 7/7 [00:00<?, ?it/s]\n",
      "Training: 100%|██████████| 56/56 [00:00<00:00, 339.90it/s]\n",
      "Evaluating: 100%|██████████| 7/7 [00:00<00:00, 410.36it/s]\n",
      "Training: 100%|██████████| 56/56 [00:00<00:00, 341.11it/s]\n",
      "Evaluating: 100%|██████████| 7/7 [00:00<00:00, 602.59it/s]\n",
      "Training: 100%|██████████| 56/56 [00:00<00:00, 358.25it/s]\n",
      "Evaluating: 100%|██████████| 7/7 [00:00<?, ?it/s]\n",
      "Training: 100%|██████████| 56/56 [00:00<00:00, 356.76it/s]\n",
      "Evaluating: 100%|██████████| 7/7 [00:00<00:00, 999.39it/s]\n",
      "Training: 100%|██████████| 56/56 [00:00<00:00, 350.62it/s]\n",
      "Evaluating: 100%|██████████| 7/7 [00:00<00:00, 1335.40it/s]\n",
      "Training: 100%|██████████| 56/56 [00:00<00:00, 337.71it/s]\n",
      "Evaluating: 100%|██████████| 7/7 [00:00<00:00, 4029.66it/s]\n",
      "Training: 100%|██████████| 56/56 [00:00<00:00, 341.20it/s]\n",
      "Evaluating: 100%|██████████| 7/7 [00:00<00:00, 420.34it/s]\n",
      "Training: 100%|██████████| 56/56 [00:00<00:00, 372.60it/s]\n",
      "Evaluating: 100%|██████████| 7/7 [00:00<?, ?it/s]\n",
      "Training: 100%|██████████| 56/56 [00:00<00:00, 331.07it/s]\n",
      "Evaluating: 100%|██████████| 7/7 [00:00<00:00, 490.32it/s]\n"
     ]
    },
    {
     "name": "stdout",
     "output_type": "stream",
     "text": [
      "Epoch 51/100\n",
      "Training Loss: 0.1124, Training Accuracy: 0.9661\n",
      "Validation Loss: 0.0924, Validation Accuracy: 1.0000\n"
     ]
    },
    {
     "name": "stderr",
     "output_type": "stream",
     "text": [
      "Training: 100%|██████████| 56/56 [00:00<00:00, 359.43it/s]\n",
      "Evaluating: 100%|██████████| 7/7 [00:00<00:00, 871.35it/s]\n",
      "Training: 100%|██████████| 56/56 [00:00<00:00, 344.11it/s]\n",
      "Evaluating: 100%|██████████| 7/7 [00:00<00:00, 5561.68it/s]\n",
      "Training: 100%|██████████| 56/56 [00:00<00:00, 336.10it/s]\n",
      "Evaluating: 100%|██████████| 7/7 [00:00<00:00, 424.67it/s]\n",
      "Training: 100%|██████████| 56/56 [00:00<00:00, 366.83it/s]\n",
      "Evaluating: 100%|██████████| 7/7 [00:00<00:00, 478.72it/s]\n",
      "Training: 100%|██████████| 56/56 [00:00<00:00, 336.54it/s]\n",
      "Evaluating: 100%|██████████| 7/7 [00:00<00:00, 355.58it/s]\n",
      "Training: 100%|██████████| 56/56 [00:00<00:00, 346.02it/s]\n",
      "Evaluating: 100%|██████████| 7/7 [00:00<?, ?it/s]\n",
      "Training: 100%|██████████| 56/56 [00:00<00:00, 335.90it/s]\n",
      "Evaluating: 100%|██████████| 7/7 [00:00<00:00, 420.02it/s]\n",
      "Training: 100%|██████████| 56/56 [00:00<00:00, 332.76it/s]\n",
      "Evaluating: 100%|██████████| 7/7 [00:00<00:00, 440.66it/s]\n",
      "Training: 100%|██████████| 56/56 [00:00<00:00, 379.83it/s]\n",
      "Evaluating: 100%|██████████| 7/7 [00:00<00:00, 412.18it/s]\n",
      "Training: 100%|██████████| 56/56 [00:00<00:00, 336.12it/s]\n",
      "Evaluating: 100%|██████████| 7/7 [00:00<00:00, 420.76it/s]\n"
     ]
    },
    {
     "name": "stdout",
     "output_type": "stream",
     "text": [
      "Epoch 61/100\n",
      "Training Loss: 0.1072, Training Accuracy: 0.9684\n",
      "Validation Loss: 0.0899, Validation Accuracy: 1.0000\n"
     ]
    },
    {
     "name": "stderr",
     "output_type": "stream",
     "text": [
      "Training: 100%|██████████| 56/56 [00:00<00:00, 335.61it/s]\n",
      "Evaluating: 100%|██████████| 7/7 [00:00<00:00, 410.16it/s]\n",
      "Training: 100%|██████████| 56/56 [00:00<00:00, 337.29it/s]\n",
      "Evaluating: 100%|██████████| 7/7 [00:00<00:00, 353.97it/s]\n",
      "Training: 100%|██████████| 56/56 [00:00<00:00, 379.78it/s]\n",
      "Evaluating: 100%|██████████| 7/7 [00:00<00:00, 422.93it/s]\n",
      "Training: 100%|██████████| 56/56 [00:00<00:00, 335.41it/s]\n",
      "Evaluating: 100%|██████████| 7/7 [00:00<00:00, 382.41it/s]\n",
      "Training: 100%|██████████| 56/56 [00:00<00:00, 364.40it/s]\n",
      "Evaluating: 100%|██████████| 7/7 [00:00<00:00, 767.28it/s]\n",
      "Training: 100%|██████████| 56/56 [00:00<00:00, 380.07it/s]\n",
      "Evaluating: 100%|██████████| 7/7 [00:00<00:00, 4220.83it/s]\n",
      "Training: 100%|██████████| 56/56 [00:00<00:00, 336.66it/s]\n",
      "Evaluating: 100%|██████████| 7/7 [00:00<00:00, 419.29it/s]\n",
      "Training: 100%|██████████| 56/56 [00:00<00:00, 372.89it/s]\n",
      "Evaluating: 100%|██████████| 7/7 [00:00<00:00, 418.26it/s]\n",
      "Training: 100%|██████████| 56/56 [00:00<00:00, 336.15it/s]\n",
      "Evaluating: 100%|██████████| 7/7 [00:00<00:00, 419.48it/s]\n",
      "Training: 100%|██████████| 56/56 [00:00<00:00, 367.13it/s]\n",
      "Evaluating: 100%|██████████| 7/7 [00:00<?, ?it/s]\n"
     ]
    },
    {
     "name": "stdout",
     "output_type": "stream",
     "text": [
      "Epoch 71/100\n",
      "Training Loss: 0.0978, Training Accuracy: 0.9707\n",
      "Validation Loss: 0.0765, Validation Accuracy: 1.0000\n"
     ]
    },
    {
     "name": "stderr",
     "output_type": "stream",
     "text": [
      "Training: 100%|██████████| 56/56 [00:00<00:00, 330.36it/s]\n",
      "Evaluating: 100%|██████████| 7/7 [00:00<00:00, 515.15it/s]\n",
      "Training: 100%|██████████| 56/56 [00:00<00:00, 335.02it/s]\n",
      "Evaluating: 100%|██████████| 7/7 [00:00<?, ?it/s]\n",
      "Training: 100%|██████████| 56/56 [00:00<00:00, 360.85it/s]\n",
      "Evaluating: 100%|██████████| 7/7 [00:00<00:00, 786.14it/s]\n",
      "Training: 100%|██████████| 56/56 [00:00<00:00, 372.54it/s]\n",
      "Evaluating: 100%|██████████| 7/7 [00:00<00:00, 356.45it/s]\n",
      "Training: 100%|██████████| 56/56 [00:00<00:00, 354.77it/s]\n",
      "Evaluating: 100%|██████████| 7/7 [00:00<00:00, 1686.01it/s]\n",
      "Training: 100%|██████████| 56/56 [00:00<00:00, 335.83it/s]\n",
      "Evaluating: 100%|██████████| 7/7 [00:00<?, ?it/s]\n",
      "Training: 100%|██████████| 56/56 [00:00<00:00, 332.84it/s]\n",
      "Evaluating: 100%|██████████| 7/7 [00:00<00:00, 466.26it/s]\n",
      "Training: 100%|██████████| 56/56 [00:00<00:00, 375.05it/s]\n",
      "Evaluating: 100%|██████████| 7/7 [00:00<00:00, 292.30it/s]\n",
      "Training: 100%|██████████| 56/56 [00:00<00:00, 353.52it/s]\n",
      "Evaluating: 100%|██████████| 7/7 [00:00<?, ?it/s]\n",
      "Training: 100%|██████████| 56/56 [00:00<00:00, 320.44it/s]\n",
      "Evaluating: 100%|██████████| 7/7 [00:00<00:00, 997.46it/s]\n"
     ]
    },
    {
     "name": "stdout",
     "output_type": "stream",
     "text": [
      "Epoch 81/100\n",
      "Training Loss: 0.0922, Training Accuracy: 0.9729\n",
      "Validation Loss: 0.0823, Validation Accuracy: 1.0000\n"
     ]
    },
    {
     "name": "stderr",
     "output_type": "stream",
     "text": [
      "Training: 100%|██████████| 56/56 [00:00<00:00, 352.53it/s]\n",
      "Evaluating: 100%|██████████| 7/7 [00:00<00:00, 846.50it/s]\n",
      "Training: 100%|██████████| 56/56 [00:00<00:00, 340.81it/s]\n",
      "Evaluating: 100%|██████████| 7/7 [00:00<00:00, 318.06it/s]\n",
      "Training: 100%|██████████| 56/56 [00:00<00:00, 349.38it/s]\n",
      "Evaluating: 100%|██████████| 7/7 [00:00<?, ?it/s]\n",
      "Training: 100%|██████████| 56/56 [00:00<00:00, 328.21it/s]\n",
      "Evaluating: 100%|██████████| 7/7 [00:00<00:00, 619.07it/s]\n",
      "Training: 100%|██████████| 56/56 [00:00<00:00, 379.58it/s]\n",
      "Evaluating: 100%|██████████| 7/7 [00:00<00:00, 409.62it/s]\n",
      "Training: 100%|██████████| 56/56 [00:00<00:00, 344.65it/s]\n",
      "Evaluating: 100%|██████████| 7/7 [00:00<00:00, 3337.90it/s]\n",
      "Training: 100%|██████████| 56/56 [00:00<00:00, 335.92it/s]\n",
      "Evaluating: 100%|██████████| 7/7 [00:00<00:00, 433.35it/s]\n",
      "Training: 100%|██████████| 56/56 [00:00<00:00, 373.99it/s]\n",
      "Evaluating: 100%|██████████| 7/7 [00:00<00:00, 378.42it/s]\n",
      "Training: 100%|██████████| 56/56 [00:00<00:00, 366.60it/s]\n",
      "Evaluating: 100%|██████████| 7/7 [00:00<00:00, 872.33it/s]\n",
      "Training: 100%|██████████| 56/56 [00:00<00:00, 373.36it/s]\n",
      "Evaluating: 100%|██████████| 7/7 [00:00<00:00, 363.01it/s]\n"
     ]
    },
    {
     "name": "stdout",
     "output_type": "stream",
     "text": [
      "Epoch 91/100\n",
      "Training Loss: 0.0911, Training Accuracy: 0.9707\n",
      "Validation Loss: 0.0682, Validation Accuracy: 1.0000\n"
     ]
    },
    {
     "name": "stderr",
     "output_type": "stream",
     "text": [
      "Training: 100%|██████████| 56/56 [00:00<00:00, 326.42it/s]\n",
      "Evaluating: 100%|██████████| 7/7 [00:00<00:00, 933.58it/s]\n",
      "Training: 100%|██████████| 56/56 [00:00<00:00, 345.89it/s]\n",
      "Evaluating: 100%|██████████| 7/7 [00:00<00:00, 2455.89it/s]\n",
      "Training: 100%|██████████| 56/56 [00:00<00:00, 335.07it/s]\n",
      "Evaluating: 100%|██████████| 7/7 [00:00<00:00, 417.50it/s]\n",
      "Training: 100%|██████████| 56/56 [00:00<00:00, 346.96it/s]\n",
      "Evaluating: 100%|██████████| 7/7 [00:00<00:00, 2234.41it/s]\n",
      "Training: 100%|██████████| 56/56 [00:00<00:00, 335.44it/s]\n",
      "Evaluating: 100%|██████████| 7/7 [00:00<00:00, 422.42it/s]\n",
      "Training: 100%|██████████| 56/56 [00:00<00:00, 335.84it/s]\n",
      "Evaluating: 100%|██████████| 7/7 [00:00<00:00, 336.33it/s]\n",
      "Training: 100%|██████████| 56/56 [00:00<00:00, 358.73it/s]\n",
      "Evaluating: 100%|██████████| 7/7 [00:00<00:00, 1786.00it/s]\n",
      "Training: 100%|██████████| 56/56 [00:00<00:00, 336.11it/s]\n",
      "Evaluating: 100%|██████████| 7/7 [00:00<?, ?it/s]\n",
      "Training: 100%|██████████| 56/56 [00:00<00:00, 335.27it/s]\n",
      "Evaluating: 100%|██████████| 7/7 [00:00<00:00, 419.05it/s]"
     ]
    },
    {
     "name": "stdout",
     "output_type": "stream",
     "text": [
      "Epoch 100/100\n",
      "Training Loss: 0.0860, Training Accuracy: 0.9707\n",
      "Validation Loss: 0.0715, Validation Accuracy: 1.0000\n",
      "\n",
      "Cross-Validation Results:\n",
      "Average Training Loss: 0.1198\n",
      "Average Validation Loss: 0.1162\n",
      "Average Training Accuracy: 0.9673\n",
      "Average Validation Accuracy: 0.9650\n"
     ]
    },
    {
     "name": "stderr",
     "output_type": "stream",
     "text": [
      "\n"
     ]
    }
   ],
   "source": [
    "avg_metrics = train_logreg_with_cv(\n",
    "    dataset=train_feats,\n",
    "    feature_dim=train_feats.tensors[0].shape[1],\n",
    "    num_classes=3,\n",
    "    batch_size=8,\n",
    "    k_folds=10,  # Number of folds for cross-validation\n",
    "    lr=5e-4,\n",
    "    weight_decay=1e-4,\n",
    "    max_epochs=100\n",
    ")"
   ]
  },
  {
   "cell_type": "markdown",
   "metadata": {},
   "source": [
    "def train_logreg_simplified(batch_size, train_feats_data, test_feats_data, feature_dim, num_classes, lr=5e-4, weight_decay=1e-4, max_epochs=50):\n",
    "    device = torch.device(\"cuda\" if torch.cuda.is_available() else \"cpu\")\n",
    "\n",
    "    # Data loaders\n",
    "    train_loader = DataLoader(train_feats_data, batch_size=batch_size, shuffle=True,\n",
    "                              drop_last=False, pin_memory=True, num_workers=0)\n",
    "    test_loader = DataLoader(test_feats_data, batch_size=batch_size, shuffle=False,\n",
    "                             drop_last=False, pin_memory=True, num_workers=0)\n",
    "\n",
    "    # Model, loss, and optimizer\n",
    "    model = LogisticRegression(feature_dim, num_classes).to(device)\n",
    "    criterion = nn.CrossEntropyLoss()\n",
    "    optimizer = optim.AdamW(model.parameters(), lr=lr, weight_decay=weight_decay)\n",
    "    scheduler = optim.lr_scheduler.MultiStepLR(optimizer,\n",
    "                                               milestones=[int(max_epochs * 0.6), int(max_epochs * 0.8)],\n",
    "                                               gamma=0.1)\n",
    "\n",
    "    # Store metrics for plotting\n",
    "    train_losses = []\n",
    "    test_losses = []\n",
    "    train_accuracies = []\n",
    "    test_accuracies = []\n",
    "\n",
    "    # Track best metrics\n",
    "    best_train_acc = -1.0\n",
    "    best_train_epoch = -1\n",
    "\n",
    "    best_test_acc = -1.0\n",
    "    best_test_epoch = -1\n",
    "\n",
    "    best_test_loss = float('inf')\n",
    "    best_test_loss_acc = -1.0\n",
    "    best_model_state_loss = None\n",
    "\n",
    "    for epoch in range(max_epochs):\n",
    "        print(f\"Epoch {epoch+1}/{max_epochs}\")\n",
    "\n",
    "        train_loss, train_acc = train_logistic_regression(model, train_loader, optimizer, scheduler, device)\n",
    "        test_loss, test_acc = evaluate_logistic_regression(model, test_loader, criterion, device)\n",
    "\n",
    "        print(f\"Training loss: {train_loss:.4f}, Training accuracy: {train_acc:.4f}\")\n",
    "        print(f\"Test loss: {test_loss:.4f}, Test accuracy: {test_acc:.4f}\")\n",
    "\n",
    "        train_losses.append(train_loss)\n",
    "        test_losses.append(test_loss)\n",
    "        train_accuracies.append(train_acc)\n",
    "        test_accuracies.append(test_acc)\n",
    "\n",
    "        # Track best train accuracy\n",
    "        if train_acc > best_train_acc:\n",
    "            best_train_acc = train_acc\n",
    "            best_train_epoch = epoch + 1\n",
    "\n",
    "        # Track best test accuracy\n",
    "        if test_acc > best_test_acc:\n",
    "            best_test_acc = test_acc\n",
    "            best_test_epoch = epoch + 1\n",
    "\n",
    "        # Check for best loss model\n",
    "        # Condition: strictly lower loss OR equal loss but higher accuracy\n",
    "        if (test_loss < best_test_loss) or (test_loss == best_test_loss and test_acc > best_test_loss_acc):\n",
    "            best_test_loss = test_loss\n",
    "            best_test_loss_acc = test_acc\n",
    "            best_model_state_loss = model.state_dict()\n",
    "\n",
    "    # Return metrics for plotting\n",
    "    return {\n",
    "        \"train_losses\": train_losses,\n",
    "        \"test_losses\": test_losses,\n",
    "        \"train_accuracies\": train_accuracies,\n",
    "        \"test_accuracies\": test_accuracies,\n",
    "        \"best_train_acc\": best_train_acc,\n",
    "        \"best_train_epoch\": best_train_epoch,\n",
    "        \"best_test_acc\": best_test_acc,\n",
    "        \"best_test_epoch\": best_test_epoch\n",
    "    }\n",
    "\n",
    "\n"
   ]
  },
  {
   "cell_type": "markdown",
   "metadata": {},
   "source": [
    "# Train the logistic regression model\n",
    "results = train_logreg_simplified(\n",
    "    batch_size=8,\n",
    "    train_feats_data=train_feats,\n",
    "    test_feats_data=test_feats,\n",
    "    feature_dim=train_feats.tensors[0].shape[1],\n",
    "    num_classes=3,\n",
    "    lr=5e-4,\n",
    "    weight_decay=1e-4,\n",
    "    max_epochs=250\n",
    ")\n",
    "\n",
    "# The results dictionary now contains the metrics that you can use to plot in a new cell."
   ]
  },
  {
   "cell_type": "code",
   "execution_count": 13,
   "metadata": {},
   "outputs": [
    {
     "ename": "NameError",
     "evalue": "name 'results' is not defined",
     "output_type": "error",
     "traceback": [
      "\u001b[1;31m---------------------------------------------------------------------------\u001b[0m",
      "\u001b[1;31mNameError\u001b[0m                                 Traceback (most recent call last)",
      "Cell \u001b[1;32mIn[13], line 5\u001b[0m\n\u001b[0;32m      2\u001b[0m \u001b[38;5;28;01mimport\u001b[39;00m \u001b[38;5;21;01mmatplotlib\u001b[39;00m\u001b[38;5;21;01m.\u001b[39;00m\u001b[38;5;21;01mpyplot\u001b[39;00m \u001b[38;5;28;01mas\u001b[39;00m \u001b[38;5;21;01mplt\u001b[39;00m\n\u001b[0;32m      4\u001b[0m \u001b[38;5;66;03m# Assuming `results` is the dictionary returned from the function\u001b[39;00m\n\u001b[1;32m----> 5\u001b[0m train_losses \u001b[38;5;241m=\u001b[39m \u001b[43mresults\u001b[49m[\u001b[38;5;124m'\u001b[39m\u001b[38;5;124mtrain_losses\u001b[39m\u001b[38;5;124m'\u001b[39m]\n\u001b[0;32m      6\u001b[0m test_losses \u001b[38;5;241m=\u001b[39m results[\u001b[38;5;124m'\u001b[39m\u001b[38;5;124mtest_losses\u001b[39m\u001b[38;5;124m'\u001b[39m]\n\u001b[0;32m      7\u001b[0m train_accuracies \u001b[38;5;241m=\u001b[39m results[\u001b[38;5;124m'\u001b[39m\u001b[38;5;124mtrain_accuracies\u001b[39m\u001b[38;5;124m'\u001b[39m]\n",
      "\u001b[1;31mNameError\u001b[0m: name 'results' is not defined"
     ]
    }
   ],
   "source": [
    "# Now you can plot the results in a new cell\n",
    "import matplotlib.pyplot as plt\n",
    "\n",
    "# Assuming `results` is the dictionary returned from the function\n",
    "train_losses = results['train_losses']\n",
    "test_losses = results['test_losses']\n",
    "train_accuracies = results['train_accuracies']\n",
    "test_accuracies = results['test_accuracies']\n",
    "\n",
    "plt.figure(figsize=(15, 5))\n",
    "\n",
    "# Loss curve\n",
    "plt.subplot(1, 2, 1)\n",
    "plt.plot(range(len(train_losses)), train_losses, label='Train Loss')\n",
    "plt.plot(range(len(test_losses)), test_losses, label='Test Loss')\n",
    "plt.xlabel('Epoch')\n",
    "plt.ylabel('Loss')\n",
    "plt.title('Loss Curve using original images')\n",
    "plt.legend()\n",
    "\n",
    "# Accuracy curve\n",
    "plt.subplot(1, 2, 2)\n",
    "plt.plot(range(len(train_accuracies)), train_accuracies, label='Train Accuracy')\n",
    "plt.plot(range(len(test_accuracies)), test_accuracies, label='Test Accuracy')\n",
    "plt.xlabel('Epoch')\n",
    "plt.ylabel('Accuracy')\n",
    "plt.title('Accuracy Curve using original images')\n",
    "plt.legend()\n",
    "\n",
    "plt.tight_layout()\n",
    "plt.show()\n"
   ]
  },
  {
   "cell_type": "code",
   "execution_count": 17,
   "metadata": {},
   "outputs": [
    {
     "name": "stdout",
     "output_type": "stream",
     "text": [
      "Best Train Accuracy: 0.9939 at Epoch 242\n",
      "Best Test Accuracy: 0.9919 at Epoch 17\n"
     ]
    }
   ],
   "source": [
    "print(f\"Best Train Accuracy: {results['best_train_acc']:.4f} at Epoch {results['best_train_epoch']}\")\n",
    "print(f\"Best Test Accuracy: {results['best_test_acc']:.4f} at Epoch {results['best_test_epoch']}\")"
   ]
  },
  {
   "cell_type": "code",
   "execution_count": null,
   "metadata": {},
   "outputs": [],
   "source": [
    "train_feats.tensors[0].shape[1]"
   ]
  },
  {
   "cell_type": "code",
   "execution_count": null,
   "metadata": {},
   "outputs": [],
   "source": [
    "results"
   ]
  },
  {
   "cell_type": "code",
   "execution_count": null,
   "metadata": {},
   "outputs": [],
   "source": []
  }
 ],
 "metadata": {
  "kernelspec": {
   "display_name": "master",
   "language": "python",
   "name": "python3"
  },
  "language_info": {
   "codemirror_mode": {
    "name": "ipython",
    "version": 3
   },
   "file_extension": ".py",
   "mimetype": "text/x-python",
   "name": "python",
   "nbconvert_exporter": "python",
   "pygments_lexer": "ipython3",
   "version": "3.12.3"
  }
 },
 "nbformat": 4,
 "nbformat_minor": 2
}
