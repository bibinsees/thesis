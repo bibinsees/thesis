{
 "cells": [
  {
   "cell_type": "code",
   "execution_count": 2,
   "metadata": {},
   "outputs": [],
   "source": [
    "from torch.utils.data import DataLoader, Dataset, ConcatDataset\n",
    "import torchvision.transforms as transforms\n",
    "import random\n",
    "from sklearn.model_selection import train_test_split\n",
    "import os\n",
    "import torch\n",
    "import torch.nn as nn\n",
    "import torch.optim as optim\n",
    "import tifffile as tiff\n",
    "import torchvision\n",
    "import numpy as np\n",
    "import matplotlib.pyplot as plt\n",
    "from tqdm import tqdm\n"
   ]
  },
  {
   "cell_type": "code",
   "execution_count": 3,
   "metadata": {},
   "outputs": [],
   "source": [
    "# Set seed for reproducibility\n",
    "def set_seed(seed):\n",
    "    random.seed(seed)\n",
    "    np.random.seed(seed)\n",
    "    torch.manual_seed(seed)\n",
    "    if torch.cuda.is_available():\n",
    "        torch.cuda.manual_seed(seed)\n",
    "        torch.cuda.manual_seed_all(seed)\n",
    "    torch.backends.cudnn.deterministic = True\n",
    "    torch.backends.cudnn.benchmark = False\n",
    "\n",
    "# Set seed\n",
    "set_seed(42)"
   ]
  },
  {
   "cell_type": "code",
   "execution_count": 11,
   "metadata": {},
   "outputs": [],
   "source": [
    "class LabeledImageDataset(Dataset):\n",
    "    def __init__(self, image_files, labels, transform=None):\n",
    "        self.image_files = image_files\n",
    "        self.labels = labels\n",
    "        self.transform = transform\n",
    "        self.resize_transform = transforms.Resize((96, 96))\n",
    "\n",
    "    def __len__(self):\n",
    "        return len(self.image_files)\n",
    "\n",
    "    def __getitem__(self, idx):\n",
    "        img_path = self.image_files[idx]\n",
    "        image = tiff.imread(img_path)\n",
    "\n",
    "        # Ensure the image has 3 layers (channels)\n",
    "        if image.shape[0] != 3:\n",
    "            raise ValueError(f\"Image {img_path} does not have exactly 3 layers.\")\n",
    "\n",
    "        # Normalize the 16-bit image to [0, 1]\n",
    "        image = image.astype(np.float32) / 65535.0\n",
    "\n",
    "        # Convert to a torch tensor and add channel dimension\n",
    "        image = torch.tensor(image, dtype=torch.float32)\n",
    "        \n",
    "        # Apply resize transform\n",
    "        image = self.resize_transform(image)\n",
    "\n",
    "        # Apply any provided transformations\n",
    "        if self.transform is not None:\n",
    "            image = self.transform(image)\n",
    "        \n",
    "        image = self.transform_normalise(image)\n",
    "\n",
    "        label = self.labels[idx]\n",
    "\n",
    "        return image, label"
   ]
  },
  {
   "cell_type": "code",
   "execution_count": 12,
   "metadata": {},
   "outputs": [],
   "source": [
    "def load_and_split_data(root_dir, test_size=0.2):\n",
    "    classes = ['untreated', 'single_dose', 'drug_screened']\n",
    "    image_files = []\n",
    "    labels = []\n",
    "\n",
    "    for idx, class_name in enumerate(classes):\n",
    "        class_dir = os.path.join(root_dir, class_name)\n",
    "        files = [os.path.join(class_dir, file) for file in os.listdir(class_dir) if file.endswith('.tiff')]\n",
    "        image_files.extend(files)\n",
    "        labels.extend([idx] * len(files))\n",
    "    \n",
    "    # Split data into training and test sets\n",
    "    train_files, test_files, train_labels, test_labels = train_test_split(\n",
    "        image_files, labels, test_size=test_size, stratify=labels, random_state=42)\n",
    "\n",
    "    return train_files, test_files, train_labels, test_labels"
   ]
  },
  {
   "cell_type": "code",
   "execution_count": 13,
   "metadata": {},
   "outputs": [],
   "source": [
    "train_transforms = transforms.Compose([\n",
    "    transforms.RandomHorizontalFlip(),\n",
    "    transforms.RandomResizedCrop(size=96, scale=(0.8, 1.0)),\n",
    "    transforms.RandomGrayscale(p=0.2),\n",
    "    transforms.GaussianBlur(kernel_size=9, sigma=(0.1, 0.5)),\n",
    "])"
   ]
  },
  {
   "cell_type": "code",
   "execution_count": 14,
   "metadata": {},
   "outputs": [],
   "source": [
    "# Directories for labeled data\n",
    "image_dir = \"../../Data_supervised\"\n",
    "\n",
    "# Load and split the data\n",
    "train_files, test_files, train_labels, test_labels = load_and_split_data(image_dir, test_size=0.2)\n",
    "\n",
    "# Create the original training dataset without augmentations\n",
    "train_labeled_dataset = LabeledImageDataset(train_files, train_labels, transform=None)\n",
    "\n",
    "\n",
    "# Create augmented datasets by applying the transforms multiple times\n",
    "augmentations_count = 0  # Number of augmentations to create per image\n",
    "\n",
    "augmented_datasets = []\n",
    "for _ in range(augmentations_count):\n",
    "    augmented_dataset = LabeledImageDataset(train_files, train_labels, transform=train_transforms)\n",
    "    augmented_datasets.append(augmented_dataset)\n",
    "\n",
    "# Combine the original dataset with the augmented datasets\n",
    "train_img_aug_data = ConcatDataset([train_labeled_dataset] + augmented_datasets)\n",
    "\n",
    "# Create the test dataset without augmentations\n",
    "test_img_data = LabeledImageDataset(test_files, test_labels, transform=None)\n",
    "\n",
    "batch_size = 8"
   ]
  },
  {
   "cell_type": "code",
   "execution_count": 15,
   "metadata": {},
   "outputs": [
    {
     "name": "stdout",
     "output_type": "stream",
     "text": [
      "Number of training images: 57\n",
      "Number of test images: 15\n"
     ]
    }
   ],
   "source": [
    "# Print the number of images in the training and test datasets\n",
    "print(f\"Number of training images: {len(train_files)}\")\n",
    "print(f\"Number of test images: {len(test_files)}\")"
   ]
  },
  {
   "cell_type": "code",
   "execution_count": 16,
   "metadata": {},
   "outputs": [],
   "source": [
    "train_loader = DataLoader(train_img_aug_data, batch_size=batch_size, shuffle=True,\n",
    "                                   drop_last=True, pin_memory=True, num_workers=0)  #num_workers=os.cpu_count()\n",
    "test_loader = DataLoader(test_img_data, batch_size=batch_size, shuffle=False,\n",
    "                                  drop_last=False, pin_memory=True, num_workers=0)"
   ]
  },
  {
   "cell_type": "code",
   "execution_count": 17,
   "metadata": {},
   "outputs": [
    {
     "name": "stdout",
     "output_type": "stream",
     "text": [
      "Train - Image batch shape: torch.Size([8, 3, 96, 96]), Label batch shape: torch.Size([8])\n",
      "Test - Image batch shape: torch.Size([8, 3, 96, 96]), Label batch shape: torch.Size([8])\n"
     ]
    }
   ],
   "source": [
    "# Example loop to check the shapes of train and test data\n",
    "def check_data_shapes(loader, dataset_name=\"Train\"):\n",
    "    for images, labels in loader:\n",
    "        print(f\"{dataset_name} - Image batch shape: {images.shape}, Label batch shape: {labels.shape}\")\n",
    "        break  # Print only for the first batch\n",
    "\n",
    "# Checking the train data\n",
    "check_data_shapes(train_loader, \"Train\")\n",
    "\n",
    "# Checking the test data\n",
    "check_data_shapes(test_loader, \"Test\")\n"
   ]
  },
  {
   "cell_type": "code",
   "execution_count": 18,
   "metadata": {},
   "outputs": [
    {
     "name": "stdout",
     "output_type": "stream",
     "text": [
      "Total number of images in the train loader: 56\n"
     ]
    }
   ],
   "source": [
    "total_images = 0\n",
    "\n",
    "for images, _ in train_loader:\n",
    "    total_images += images.size(0)  # images.size(0) gives the batch size\n",
    "\n",
    "print(f\"Total number of images in the train loader: {total_images}\")\n"
   ]
  },
  {
   "cell_type": "code",
   "execution_count": 19,
   "metadata": {},
   "outputs": [
    {
     "name": "stdout",
     "output_type": "stream",
     "text": [
      "Total number of images in the test loader: 15\n"
     ]
    }
   ],
   "source": [
    "total_images = 0\n",
    "\n",
    "for images, _ in test_loader:\n",
    "    total_images += images.size(0)  # images.size(0) gives the batch size\n",
    "\n",
    "print(f\"Total number of images in the test loader: {total_images}\")"
   ]
  },
  {
   "cell_type": "code",
   "execution_count": 23,
   "metadata": {},
   "outputs": [],
   "source": [
    "class ResNet(nn.Module):\n",
    "\n",
    "    def __init__(self, num_classes):\n",
    "        super().__init__()\n",
    "        # Load the pretrained ResNet18 model\n",
    "        self.convnet = torchvision.models.resnet18(weights='ResNet18_Weights.DEFAULT')\n",
    "\n",
    "        # Modify the fully connected layer to match the number of classes\n",
    "        self.convnet.fc = nn.Linear(self.convnet.fc.in_features, num_classes)\n",
    "\n",
    "    def forward(self, x):\n",
    "        return self.convnet(x)\n",
    "\n",
    "def train_epoch(model, dataloader, optimizer, criterion, device):\n",
    "    model.train()\n",
    "    epoch_loss = 0\n",
    "    correct = 0\n",
    "    total = 0\n",
    "\n",
    "    for imgs, labels in dataloader:\n",
    "        imgs, labels = imgs.to(device), labels.to(device)\n",
    "        optimizer.zero_grad()\n",
    "        preds = model(imgs)\n",
    "        loss = criterion(preds, labels)\n",
    "        loss.backward()\n",
    "        optimizer.step()\n",
    "\n",
    "        epoch_loss += loss.item()\n",
    "        correct += (preds.argmax(dim=-1) == labels).sum().item()\n",
    "        total += labels.size(0)\n",
    "\n",
    "    accuracy = correct / total\n",
    "    return epoch_loss / len(dataloader), accuracy\n",
    "\n",
    "def evaluate_model(model, dataloader, criterion, device):\n",
    "    model.eval()\n",
    "    epoch_loss = 0\n",
    "    correct = 0\n",
    "    total = 0\n",
    "\n",
    "    with torch.no_grad():\n",
    "        for imgs, labels in dataloader:\n",
    "            imgs, labels = imgs.to(device), labels.to(device)\n",
    "            preds = model(imgs)\n",
    "            loss = criterion(preds, labels)\n",
    "\n",
    "            epoch_loss += loss.item()\n",
    "            correct += (preds.argmax(dim=-1) == labels).sum().item()\n",
    "            total += labels.size(0)\n",
    "\n",
    "    accuracy = correct / total\n",
    "    return epoch_loss / len(dataloader), accuracy"
   ]
  },
  {
   "cell_type": "code",
   "execution_count": 24,
   "metadata": {},
   "outputs": [],
   "source": [
    "def train_resnet(batch_size, max_epochs=100, **kwargs):\n",
    "    device = torch.device(\"cuda\" if torch.cuda.is_available() else \"cpu\")\n",
    "    model = ResNet(**kwargs).to(device)\n",
    "    optimizer = optim.AdamW(model.parameters(), lr=1e-3, weight_decay=2e-4)\n",
    "    criterion = nn.CrossEntropyLoss()\n",
    "\n",
    "    lr_scheduler = optim.lr_scheduler.MultiStepLR(optimizer,\n",
    "                                                  milestones=[int(max_epochs * 0.7), int(max_epochs * 0.9)],\n",
    "                                                  gamma=0.1)\n",
    "\n",
    "    best_acc = 0.0\n",
    "    best_model_path = os.path.join(\"ResNet_best_model.pth\")\n",
    "\n",
    "    # Lists to store loss and accuracy for each epoch\n",
    "    train_losses = []\n",
    "    train_accuracies = []\n",
    "    val_losses = []\n",
    "    val_accuracies = []\n",
    "\n",
    "    for epoch in range(max_epochs):\n",
    "        train_loss, train_acc = train_epoch(model, train_loader, optimizer, criterion, device)\n",
    "        val_loss, val_acc = evaluate_model(model, test_loader, criterion, device)\n",
    "\n",
    "        lr_scheduler.step()\n",
    "\n",
    "        # Store the results\n",
    "        train_losses.append(train_loss)\n",
    "        train_accuracies.append(train_acc)\n",
    "        val_losses.append(val_loss)\n",
    "        val_accuracies.append(val_acc)\n",
    "\n",
    "        if val_acc > best_acc:\n",
    "            best_acc = val_acc\n",
    "            torch.save(model.state_dict(), best_model_path)\n",
    "\n",
    "        print(f\"Epoch {epoch + 1}/{max_epochs}, \"\n",
    "              f\"Train Loss: {train_loss:.4f}, Train Acc: {train_acc:.4f}, \"\n",
    "              f\"Val Loss: {val_loss:.4f}, Val Acc: {val_acc:.4f}\")\n",
    "\n",
    "    # Load the best model and evaluate it on the train and test sets\n",
    "    model.load_state_dict(torch.load(best_model_path, weights_only=True))\n",
    "    train_loss, train_acc = evaluate_model(model, train_loader, criterion, device)\n",
    "    test_loss, test_acc = evaluate_model(model, test_loader, criterion, device)\n",
    "\n",
    "    result = {\"train\": train_acc, \"test\": test_acc}\n",
    "\n",
    "    # Plotting the loss and accuracy curves\n",
    "    plt.figure(figsize=(14, 5))\n",
    "\n",
    "    plt.subplot(1, 2, 1)\n",
    "    plt.plot(train_losses, label='Train Loss')\n",
    "    plt.plot(val_losses, label='Test Loss')\n",
    "    plt.xlabel('Epochs')\n",
    "    plt.ylabel('Loss')\n",
    "    plt.title('Train vs. Test Loss')\n",
    "    plt.legend()\n",
    "\n",
    "    plt.subplot(1, 2, 2)\n",
    "    plt.plot(train_accuracies, label='Train Accuracy')\n",
    "    plt.plot(val_accuracies, label='Test Accuracy')\n",
    "    plt.xlabel('Epochs')\n",
    "    plt.ylabel('Accuracy')\n",
    "    plt.title('Train vs. Test Accuracy')\n",
    "    plt.legend()\n",
    "\n",
    "    plt.show()\n",
    "\n",
    "    return model, result"
   ]
  },
  {
   "cell_type": "code",
   "execution_count": 25,
   "metadata": {},
   "outputs": [
    {
     "name": "stdout",
     "output_type": "stream",
     "text": [
      "Epoch 1/2, Train Loss: 0.8513, Train Acc: 0.7321, Val Loss: 1.0372, Val Acc: 0.7333\n",
      "Epoch 2/2, Train Loss: 0.2353, Train Acc: 0.9464, Val Loss: 0.5502, Val Acc: 0.8667\n"
     ]
    },
    {
     "data": {
      "image/png": "[encoded data removed]",
      "text/plain": [
       "<Figure size 1400x500 with 2 Axes>"
      ]
     },
     "metadata": {},
     "output_type": "display_data"
    },
    {
     "name": "stdout",
     "output_type": "stream",
     "text": [
      "Accuracy on training set: 91.07%\n",
      "Accuracy on test set: 86.67%\n"
     ]
    }
   ],
   "source": [
    "resnet_model, resnet_result = train_resnet(batch_size=16,\n",
    "                                           num_classes=3,\n",
    "                                           max_epochs=2)\n",
    "print(f\"Accuracy on training set: {100 * resnet_result['train']:4.2f}%\")\n",
    "print(f\"Accuracy on test set: {100 * resnet_result['test']:4.2f}%\")"
   ]
  }
 ],
 "metadata": {
  "kernelspec": {
   "display_name": "test",
   "language": "python",
   "name": "python3"
  },
  "language_info": {
   "codemirror_mode": {
    "name": "ipython",
    "version": 3
   },
   "file_extension": ".py",
   "mimetype": "text/x-python",
   "name": "python",
   "nbconvert_exporter": "python",
   "pygments_lexer": "ipython3",
   "version": "3.9.19"
  }
 },
 "nbformat": 4,
 "nbformat_minor": 2
}
